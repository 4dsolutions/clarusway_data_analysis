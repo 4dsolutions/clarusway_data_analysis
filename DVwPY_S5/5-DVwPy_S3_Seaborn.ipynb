{
 "cells": [
  {
   "cell_type": "markdown",
   "metadata": {},
   "source": [
    "* <a href=\"https://colab.research.google.com/github/4dsolutions/clarusway_data_analysis/blob/main/DVwPY_S5/5-DVwPy_S3_Seaborn.ipynb\"><img align=\"left\" src=\"https://colab.research.google.com/assets/colab-badge.svg\" alt=\"Open in Colab\" title=\"Open and Execute in Google Colaboratory\"></a><br/>\n",
    "* <a href=\"https://nbviewer.org/github/4dsolutions/clarusway_data_analysis/blob/main/DVwPY_S5/5-DVwPy_S3_Seaborn.ipynb\"><img align=\"left\" src=\"https://raw.githubusercontent.com/jupyter/design/master/logos/Badges/nbviewer_badge.svg\" alt=\"Open in nbviewer\" title=\"Open and View using nbviewer\"></a>\n",
    "\n",
    "___\n",
    "\n",
    "\n",
    "<p style=\"text-align: center;\"><img src=\"https://docs.google.com/uc?id=1lY0Uj5R04yMY3-ZppPWxqCr5pvBLYPnV\" class=\"img-fluid\" \n",
    "alt=\"CLRSWY\"></p>\n",
    "\n",
    "## <p style=\"background-color:#FDFEFE; font-family:newtimeroman; color:#9d4f8c; font-size:100%; text-align:center; border-radius:10px 10px;\">WAY TO REINVENT YOURSELF</p>"
   ]
  },
  {
   "cell_type": "markdown",
   "metadata": {},
   "source": [
    "![image.png](https://i.ibb.co/hg2Kd1X/seabornlogo.png)\n",
    "\n",
    "Seaborn is a library for making statistical graphics in Python. It builds on top of matplotlib and integrates closely with pandas data structures.\n",
    "\n",
    "Seaborn helps you explore and understand your data. Its plotting functions operate on dataframes and arrays containing whole datasets and internally perform the necessary semantic mapping and statistical aggregation to produce informative plots. Its dataset-oriented, declarative API lets you focus on what the different elements of your plots mean, rather than on the details of how to draw them\n",
    "\n",
    "[Seaborn Source 01](https://seaborn.pydata.org/introduction.html), [Seaborn Source 02](https://seaborn.pydata.org/), [Seaborn Source 03](https://www.youtube.com/watch?v=GcXcSZ0gQps), [Seaborn Source 04](https://www.youtube.com/watch?v=6GUZXDef2U0) & [Seaborn Source 05](https://www.youtube.com/watch?v=Pkvdc2Z6eBg)"
   ]
  },
  {
   "cell_type": "markdown",
   "metadata": {},
   "source": [
    "<a id=\"toc\"></a>\n",
    "\n",
    "## <p style=\"background-color:#9d4f8c; font-family:newtimeroman; color:#FFF9ED; font-size:150%; text-align:center; border-radius:10px 10px;\">CONTENT</p>\n",
    "\n",
    "* [IMPORTING LIBRARIES NEEDED IN THIS NOTEBOOK](#0)\n",
    "* [CATPLOT](#1)\n",
    "    * [\"kind\" Parameter](#1.1)\n",
    "    * [\"col\" Parameter](#1.2)\n",
    "    * [\"row\" Parameter](#1.3)    \n",
    "* [JOINTPLOT](#2)\n",
    "* [PAIRPLOT](#3)\n",
    "    * [\"palette\" Parameter](#3.1)\n",
    "    * [\"corner\" Parameter](#3.2)\n",
    "    * [\"diag_kind\" Parameter](#3.3)\n",
    "* [PAIRGRID](#4)\n",
    "* [FACETGRID](#5) \n",
    "* [HEATMAP](#6)\n",
    "    * [\"annot\" Parameter](#6.1)\n",
    "* [CLUSTERMAP](#7)\n",
    "* [THE END OF THE SEABORN SESSION 03 - PART 01](#8)    "
   ]
  },
  {
   "cell_type": "markdown",
   "metadata": {},
   "source": [
    "## <p style=\"background-color:#9d4f8c; font-family:newtimeroman; color:#FFF9ED; font-size:150%; text-align:center; border-radius:10px 10px;\">IMPORTING LIBRARIES NEEDED IN THIS NOTEBOOK</p>\n",
    "\n",
    "<a id=\"0\"></a>\n",
    "<a href=\"#toc\" class=\"btn btn-primary btn-sm\" role=\"button\" aria-pressed=\"true\" \n",
    "style=\"color:blue; background-color:#dfa8e4\" data-toggle=\"popover\">Content</a>"
   ]
  },
  {
   "cell_type": "code",
   "execution_count": null,
   "metadata": {
    "colab": {
     "base_uri": "https://localhost:8080/"
    },
    "id": "6fylx0WuwjPb",
    "outputId": "2a60fe39-fde1-4928-80c8-84c96db8e6cb"
   },
   "outputs": [],
   "source": [
    "import pandas as pd\n",
    "import matplotlib.pyplot as plt\n",
    "%matplotlib inline\n",
    "import scipy\n",
    "import warnings\n",
    "warnings.filterwarnings('ignore') \n",
    "\n",
    "import seaborn as sns\n",
    "import numpy as np"
   ]
  },
  {
   "cell_type": "code",
   "execution_count": null,
   "metadata": {},
   "outputs": [],
   "source": [
    "from IPython.display import YouTubeVideo"
   ]
  },
  {
   "cell_type": "code",
   "execution_count": null,
   "metadata": {},
   "outputs": [],
   "source": [
    "print(sns.get_dataset_names())"
   ]
  },
  {
   "cell_type": "code",
   "execution_count": null,
   "metadata": {
    "colab": {
     "base_uri": "https://localhost:8080/",
     "height": 437
    },
    "id": "raFZuLfRJw0o",
    "outputId": "71caa626-16a4-4b8a-d395-ea89b47393cd"
   },
   "outputs": [],
   "source": [
    "titanic = sns.load_dataset(\"titanic\")\n",
    "titanic"
   ]
  },
  {
   "cell_type": "markdown",
   "metadata": {},
   "source": [
    "<a data-flickr-embed=\"true\" href=\"https://www.flickr.com/photos/kirbyurner/52624510808/in/dateposted-public/\" title=\"facebook_meme_titanic\"><img src=\"https://live.staticflickr.com/65535/52624510808_0295c53dc1.jpg\" width=\"398\" height=\"500\" alt=\"facebook_meme_titanic\"></a><script async src=\"//embedr.flickr.com/assets/client-code.js\" charset=\"utf-8\"></script>"
   ]
  },
  {
   "cell_type": "code",
   "execution_count": null,
   "metadata": {},
   "outputs": [],
   "source": [
    "titanic.info()"
   ]
  },
  {
   "cell_type": "code",
   "execution_count": null,
   "metadata": {},
   "outputs": [],
   "source": [
    "titanic.describe(include=\"O\").T"
   ]
  },
  {
   "cell_type": "code",
   "execution_count": null,
   "metadata": {},
   "outputs": [],
   "source": [
    "titanic.describe(include=np.number).T"
   ]
  },
  {
   "cell_type": "code",
   "execution_count": null,
   "metadata": {},
   "outputs": [],
   "source": [
    "titanic.describe(exclude=np.number).T"
   ]
  },
  {
   "cell_type": "code",
   "execution_count": null,
   "metadata": {},
   "outputs": [],
   "source": [
    "titanic.describe(include=\"category\").T"
   ]
  },
  {
   "cell_type": "markdown",
   "metadata": {
    "id": "uE4-0DeMy70Q"
   },
   "source": [
    "## <p style=\"background-color:#9d4f8c; font-family:newtimeroman; color:#FFF9ED; font-size:150%; text-align:CENTER; border-radius:10px 10px;\">CATPLOT</p>\n",
    "\n",
    "<a id=\"1\"></a>\n",
    "<a href=\"#toc\" class=\"btn btn-primary btn-sm\" role=\"button\" aria-pressed=\"true\" \n",
    "style=\"color:blue; background-color:#dfa8e4\" data-toggle=\"popover\">Content</a>\n",
    "\n",
    "There are many types of plots available in the Seaborn library. However, when working with categorical values, we may wish for a consistent function to plot the data since, while taking into account that different plot types work differently (remember: CountPlot, BarPlot, ViolinPlot, SwarmPlot, BoxPlot, BoxenPlot etc). \n",
    "\n",
    "The Seaborn catplot() function (\"categorical plot function\") is what we will use to work with categorical data efficiently. This function was built to improve the factorplot() function in the recent versions of the seaborn module.\n",
    "\n",
    "catplot() allows us to plot the data into eight different types of graphs specified by the `kind` parameter. The catplot() function returns a FacetGrid() type object which may be utilized efficiently to plot graphs for multiple features within the same figure. FacetGrid takes over for matplotlib's subplot syntax, giving us similar control over grids of axes, but through Seaborn's own API.\n",
    "\n",
    "Curate more links on your personal student copy:\n",
    "* [Official Tutorial on catplot](https://seaborn.pydata.org/tutorial/categorical.html)<br>\n",
    "* [Delft Stack: a one page write-up](https://www.delftstack.com/howto/seaborn/catplot-seaborn-python/)<br>"
   ]
  },
  {
   "cell_type": "markdown",
   "metadata": {},
   "source": [
    "### <p style=\"background-color:#9d4f8c; font-family:newtimeroman; color:#FFF9ED; font-size:150%; text-align:left; border-radius:10px 10px;\">\"kind\" Parameter</p>\n",
    "\n",
    "<a id=\"1.1\"></a>\n",
    "<a href=\"#toc\" class=\"btn btn-primary btn-sm\" role=\"button\" aria-pressed=\"true\" \n",
    "style=\"color:blue; background-color:#dfa8e4\" data-toggle=\"popover\">Content</a>\n",
    "\n",
    "![Capture14.PNG](https://i.ibb.co/jh5Lvt2/Capture14.png)"
   ]
  },
  {
   "cell_type": "markdown",
   "metadata": {},
   "source": [
    "Before diving into the subject of Comparison, Matrix and Grid Plots at Seaborn, let's remember plotting in pandas, while [reviewing our Titanic data](https://medium.com/@sayahfares19/hands-on-data-analysis-on-titanic-dataset-using-pandas-646a41edf81)."
   ]
  },
  {
   "cell_type": "markdown",
   "metadata": {},
   "source": [
    "A first attempt at a categorical bar plot, getting it from the pandas.DataFrame, sees every row as providing a pclass, paired with a fare.  There's no grouping.  Every passenger in the dataset gets a place on the x axis."
   ]
  },
  {
   "cell_type": "code",
   "execution_count": null,
   "metadata": {},
   "outputs": [],
   "source": [
    "titanic.plot.bar(x=\"pclass\", y=\"fare\");"
   ]
  },
  {
   "cell_type": "markdown",
   "metadata": {},
   "source": [
    "The x-axis labels don't have room but are the pclass values for each of the rows: 3, 1, 3, 1, 3, 3, 1..."
   ]
  },
  {
   "cell_type": "code",
   "execution_count": null,
   "metadata": {},
   "outputs": [],
   "source": [
    "titanic.plot.bar(x=\"pclass\", y=\"fare\")\n",
    "ax = plt.gca()\n",
    "whatup = ax.get_xticklabels();"
   ]
  },
  {
   "cell_type": "code",
   "execution_count": null,
   "metadata": {},
   "outputs": [],
   "source": [
    "print(whatup[:10])"
   ]
  },
  {
   "cell_type": "markdown",
   "metadata": {},
   "source": [
    "#### Exercising those Axes:\n",
    "\n",
    "* [Get current Axes: plt.gca()](https://matplotlib.org/3.1.1/api/_as_gen/matplotlib.pyplot.gca.html)\n",
    "* [Get Axes xtick lables: ax.get_xticklabels](https://matplotlib.org/3.1.1/api/_as_gen/matplotlib.axes.Axes.get_xticklabels.html)"
   ]
  },
  {
   "cell_type": "code",
   "execution_count": null,
   "metadata": {},
   "outputs": [],
   "source": [
    "titanic[\"fare\"].plot.bar()  # a Series plot  \n",
    "ax = plt.gca()\n",
    "whatup = ax.get_xticklabels();"
   ]
  },
  {
   "cell_type": "code",
   "execution_count": null,
   "metadata": {},
   "outputs": [],
   "source": [
    "whatup[10:20]"
   ]
  },
  {
   "cell_type": "markdown",
   "metadata": {},
   "source": [
    "This time the x axis labels consist of the consecutive row numbers of each record."
   ]
  },
  {
   "cell_type": "code",
   "execution_count": null,
   "metadata": {},
   "outputs": [],
   "source": [
    "len(whatup)"
   ]
  },
  {
   "cell_type": "code",
   "execution_count": null,
   "metadata": {},
   "outputs": [],
   "source": [
    "titanic[[\"pclass\", \"fare\"]][:10]"
   ]
  },
  {
   "cell_type": "markdown",
   "metadata": {},
   "source": [
    "For a better result and insight, we need to use groupby().  We group the rows (by index ordering) by `pclass` and then perform summarizing actions on our groups.  Averages emerge, in terms of fare paid (vertical axis)  by tier of passenger accommodation (horizontal axis).  Obviously, first class passengers averaged the highest fare, at over 80 of whatever currency denomination."
   ]
  },
  {
   "cell_type": "code",
   "execution_count": null,
   "metadata": {},
   "outputs": [],
   "source": [
    "titanic.groupby(\"pclass\")[\"fare\"].mean().plot.bar(x=\"pclass\", y=\"fare\");"
   ]
  },
  {
   "cell_type": "markdown",
   "metadata": {},
   "source": [
    "Shown below is an ever so small change in syntax, making the subtype of plot an argument to `kind`."
   ]
  },
  {
   "cell_type": "code",
   "execution_count": null,
   "metadata": {},
   "outputs": [],
   "source": [
    "titanic.groupby(\"pclass\")[\"fare\"].mean().plot(x=\"pclass\", y=\"fare\", kind=\"bar\");"
   ]
  },
  {
   "cell_type": "markdown",
   "metadata": {},
   "source": [
    "Applying some of the new skills we picked up in the previous session, regarding cycling over patches (Rectangle objects) and annotating them.  We're also able to add text via the [Axes.text method](https://matplotlib.org/stable/api/_as_gen/matplotlib.axes.Axes.text.html)."
   ]
  },
  {
   "cell_type": "code",
   "execution_count": null,
   "metadata": {},
   "outputs": [],
   "source": [
    "fig, ax = plt.subplots()\n",
    "\n",
    "ax = titanic.groupby(\"pclass\")[\"survived\"].count().plot(x='pclass', y = \"survived\", kind=\"bar\")\n",
    "ax.set_ylim(0, 550)  # more headroom\n",
    "for p in ax.patches:\n",
    "    ax.annotate((p.get_height()), (p.get_x()+0.2, p.get_height()+5));"
   ]
  },
  {
   "cell_type": "code",
   "execution_count": null,
   "metadata": {},
   "outputs": [],
   "source": [
    "titanic.groupby(\"pclass\")[\"survived\"].value_counts(dropna=True)"
   ]
  },
  {
   "cell_type": "code",
   "execution_count": null,
   "metadata": {},
   "outputs": [],
   "source": [
    "titanic.shape"
   ]
  },
  {
   "cell_type": "markdown",
   "metadata": {},
   "source": [
    "These are the numbers for all people who \"survived\" and and did not survived."
   ]
  },
  {
   "cell_type": "code",
   "execution_count": null,
   "metadata": {},
   "outputs": [],
   "source": [
    "print(len(titanic[titanic[\"survived\"]==0]))  # not survived"
   ]
  },
  {
   "cell_type": "code",
   "execution_count": null,
   "metadata": {},
   "outputs": [],
   "source": [
    "print(len(titanic[titanic[\"survived\"]==1]))  # survived"
   ]
  },
  {
   "cell_type": "code",
   "execution_count": null,
   "metadata": {},
   "outputs": [],
   "source": [
    "survived = titanic[titanic[\"survived\"]==1]  # new dataframe!\n",
    "survived"
   ]
  },
  {
   "cell_type": "code",
   "execution_count": null,
   "metadata": {},
   "outputs": [],
   "source": [
    "survived.groupby(\"pclass\")[\"survived\"].count().plot(x='pclass', y=\"survived\", kind=\"bar\"); # already filtered"
   ]
  },
  {
   "cell_type": "markdown",
   "metadata": {},
   "source": [
    "If you’re starting off with Python visualization, you may be overwhelmed with the number of libraries and examples and the following questions come to your mind:\n",
    "\n",
    "**Which one should I pick? OR What is each graph/library for? OR Which library gives the best solution/outcome/figure to your problem/task?**\n",
    "\n",
    "The goal of data visualization is to communicate data or information clearly and effectively to readers. Some libraries might be better in specific cases than the others, each library has pros and cons and some are more popular and widely-used. However, the most important thing as mentioned above is that you have to know what you are exploring/analyzing and the advantages and disadvantages of each type of chart/library!\n",
    "\n",
    "#### More Overview:\n",
    "\n",
    "* [Yan on Data Viz](https://mayan1015.medium.com/part-iii-data-visualization-2d0a4656b44d)\n",
    "* [KDnuggets: Must Try Viz Libraries](https://www.kdnuggets.com/2021/09/5-awesome-data-visualization-libraries-python.html) \n",
    "* [Top Six Libraries](https://towardsdatascience.com/top-6-python-libraries-for-visualization-which-one-to-use-fe43381cd658) \n",
    "* [Seven Best Viz Libraries](https://www.techgeekbuzz.com/best-python-data-visualization-libraries/)<br>"
   ]
  },
  {
   "cell_type": "code",
   "execution_count": null,
   "metadata": {
    "colab": {
     "base_uri": "https://localhost:8080/",
     "height": 400
    },
    "id": "dwn5KJBXyaRW",
    "outputId": "a5f1f544-42e8-4992-fd2e-f023ba2dc01e",
    "scrolled": true
   },
   "outputs": [],
   "source": [
    "# estimator : callable that maps vector -> scalar, optional\n",
    "#     Statistical function to estimate within each categorical bin.\n",
    "\n",
    "sns.catplot(x='pclass', y = \"survived\", data=titanic, kind=\"bar\", estimator=np.count_nonzero, height=3, aspect=1); # bootstrapping"
   ]
  },
  {
   "cell_type": "code",
   "execution_count": null,
   "metadata": {},
   "outputs": [],
   "source": [
    "titanic.isnull().sum()"
   ]
  },
  {
   "cell_type": "code",
   "execution_count": null,
   "metadata": {
    "colab": {
     "base_uri": "https://localhost:8080/",
     "height": 400
    },
    "id": "S33mATNZKJVB",
    "outputId": "a280e6ca-60b9-4ec4-f09d-0cd6233edbb1"
   },
   "outputs": [],
   "source": [
    "sns.catplot(x='pclass', y = \"survived\", data=titanic, kind=\"bar\", estimator=np.sum, errorbar=None);"
   ]
  },
  {
   "cell_type": "markdown",
   "metadata": {},
   "source": [
    "**estimator**\n",
    "\n",
    "callable that maps vector -> scalar, optional\n",
    "\n",
    "Statistical function to estimate within each categorical bin.\n",
    "\n",
    "**np.count_nonzero**\n",
    "\n",
    "Counts the number of non-zero values in the array. For example, any number is considered truthful if it is nonzero, whereas any string is considered truthful if it is not the empty string. Thus, this function (recursively) counts how many elements in a (and in sub-arrays thereof) have their __nonzero__() or __bool__() method evaluated to True.\n",
    "\n",
    "[Source](https://numpy.org/doc/stable/reference/generated/numpy.count_nonzero.html)<br>"
   ]
  },
  {
   "cell_type": "code",
   "execution_count": null,
   "metadata": {
    "colab": {
     "base_uri": "https://localhost:8080/",
     "height": 400
    },
    "id": "ZQAHMNbhKJYY",
    "outputId": "7142e6b6-db51-4ff8-8acc-7f9868e35e5d"
   },
   "outputs": [],
   "source": [
    "sns.catplot(x='pclass', \n",
    "            y = \"survived\", \n",
    "            data=titanic, \n",
    "            kind=\"bar\", \n",
    "            estimator= np.count_nonzero, \n",
    "            errorbar=None,\n",
    "            hue=\"sex\");"
   ]
  },
  {
   "cell_type": "code",
   "execution_count": null,
   "metadata": {},
   "outputs": [],
   "source": [
    "titanic[\"embarked\"].value_counts()"
   ]
  },
  {
   "cell_type": "code",
   "execution_count": null,
   "metadata": {},
   "outputs": [],
   "source": [
    "titanic[\"alone\"].value_counts()"
   ]
  },
  {
   "cell_type": "code",
   "execution_count": null,
   "metadata": {
    "colab": {
     "base_uri": "https://localhost:8080/",
     "height": 1000
    },
    "id": "E7CMYjpsKJbX",
    "outputId": "1bedef96-162c-4f70-a660-53608d8bdf26"
   },
   "outputs": [],
   "source": [
    "sns.catplot(x='pclass', \n",
    "            y = \"survived\", \n",
    "            data=titanic, \n",
    "            kind=\"bar\", \n",
    "            estimator=np.count_nonzero, \n",
    "            errorbar=None,\n",
    "            hue=\"sex\", \n",
    "            row=\"alone\", \n",
    "            col=\"embarked\");"
   ]
  },
  {
   "cell_type": "code",
   "execution_count": null,
   "metadata": {},
   "outputs": [],
   "source": [
    "sns.catplot(x='pclass', \n",
    "            # y = \"survived\", \n",
    "            data=titanic, \n",
    "            kind=\"count\", \n",
    "            estimator=np.count_nonzero, \n",
    "            errorbar=None,\n",
    "            hue=\"sex\", \n",
    "            row=\"alone\", \n",
    "            col=\"embarked\");"
   ]
  },
  {
   "cell_type": "code",
   "execution_count": null,
   "metadata": {},
   "outputs": [],
   "source": [
    "tips = sns.load_dataset(\"tips\")\n",
    "tips"
   ]
  },
  {
   "cell_type": "markdown",
   "metadata": {},
   "source": [
    "Seaborn provides simple ways to distinguish the data points of numerical variables based on different groups in categorical variables. In Seaborn, this separation can be achieved by hue, col, or row parameters.\n",
    "\n",
    "[Comparing Seaborn with Altair](https://towardsdatascience.com/a-comparison-of-seaborn-and-altair-640b11ca2e7b)<br>\n",
    "\n",
    "**row, col, hue: strings**\n",
    "\n",
    "Variables that define subsets of the data, which will be drawn on separate facets in the grid."
   ]
  },
  {
   "cell_type": "markdown",
   "metadata": {},
   "source": [
    "### <p style=\"background-color:#9d4f8c; font-family:newtimeroman; color:#FFF9ED; font-size:150%; text-align:left; border-radius:10px 10px;\">\"col\" Parameter</p>\n",
    "\n",
    "<a id=\"1.2\"></a>\n",
    "<a href=\"#toc\" class=\"btn btn-primary btn-sm\" role=\"button\" aria-pressed=\"true\" \n",
    "style=\"color:blue; background-color:#dfa8e4\" data-toggle=\"popover\">Content</a>"
   ]
  },
  {
   "cell_type": "code",
   "execution_count": null,
   "metadata": {
    "colab": {
     "base_uri": "https://localhost:8080/",
     "height": 400
    },
    "id": "De2Amqs4zDEZ",
    "outputId": "30d1e0f5-d6e7-4067-a972-336878950a64"
   },
   "outputs": [],
   "source": [
    "sns.catplot(x=\"day\", \n",
    "            # y='total_bill', \n",
    "            kind=\"count\", \n",
    "            data=tips, \n",
    "            col=\"time\",\n",
    "            errorbar=None); #  col=\"smoker\", row=\"sex\""
   ]
  },
  {
   "cell_type": "code",
   "execution_count": null,
   "metadata": {},
   "outputs": [],
   "source": [
    "tips[(tips[\"day\"]==\"Sat\") & (tips[\"time\"]==\"Lunch\")]  # Lunch is only served Thur, Fri"
   ]
  },
  {
   "cell_type": "code",
   "execution_count": null,
   "metadata": {},
   "outputs": [],
   "source": [
    "sns.catplot(x=\"day\", \n",
    "            y='total_bill', \n",
    "            kind=\"bar\", # bar\n",
    "            data=tips, \n",
    "            col=\"time\",\n",
    "            row=\"size\",\n",
    "            errorbar=None,\n",
    "            height=2,\n",
    "            aspect=2); #  col=\"smoker\", row=\"sex\""
   ]
  },
  {
   "cell_type": "markdown",
   "metadata": {},
   "source": [
    "### <p style=\"background-color:#9d4f8c; font-family:newtimeroman; color:#FFF9ED; font-size:150%; text-align:left; border-radius:10px 10px;\">\"row\" Parameter</p>\n",
    "\n",
    "<a id=\"1.3\"></a>\n",
    "<a href=\"#toc\" class=\"btn btn-primary btn-sm\" role=\"button\" aria-pressed=\"true\" \n",
    "style=\"color:blue; background-color:#dfa8e4\" data-toggle=\"popover\">Content</a>"
   ]
  },
  {
   "cell_type": "code",
   "execution_count": null,
   "metadata": {
    "colab": {
     "base_uri": "https://localhost:8080/",
     "height": 760
    },
    "id": "lNkwYaN_sFTr",
    "outputId": "2fe137a8-a1d4-4e35-cacc-0e591c89448a"
   },
   "outputs": [],
   "source": [
    "sns.catplot(x=\"day\", \n",
    "            y='total_bill', \n",
    "            kind=\"bar\", \n",
    "            data=tips, \n",
    "            col=\"time\", \n",
    "            row=\"sex\", \n",
    "            estimator=np.count_nonzero,\n",
    "            height=3, aspect=1); "
   ]
  },
  {
   "cell_type": "code",
   "execution_count": null,
   "metadata": {
    "colab": {
     "base_uri": "https://localhost:8080/",
     "height": 400
    },
    "id": "UvJ2lmnNzJTY",
    "outputId": "770b1c88-9efd-4407-a77c-fc8604e4498d"
   },
   "outputs": [],
   "source": [
    "sns.catplot(x=\"day\", y='total_bill', data=tips, kind=\"box\"); "
   ]
  },
  {
   "cell_type": "code",
   "execution_count": null,
   "metadata": {
    "colab": {
     "base_uri": "https://localhost:8080/",
     "height": 400
    },
    "id": "R1eP_uC7zRmw",
    "outputId": "f07243ae-190d-4829-c0f3-3f1e432b8354"
   },
   "outputs": [],
   "source": [
    "sns.catplot(y='total_bill', x=\"day\", kind=\"box\", data=tips, hue=\"smoker\");"
   ]
  },
  {
   "cell_type": "code",
   "execution_count": null,
   "metadata": {
    "colab": {
     "base_uri": "https://localhost:8080/",
     "height": 400
    },
    "id": "Ord-LVEY1J2Y",
    "outputId": "ec5e963a-fb25-4d73-8488-6385c752f8cf"
   },
   "outputs": [],
   "source": [
    "sns.catplot(y='total_bill', x=\"day\", data=tips, kind=\"violin\");"
   ]
  },
  {
   "cell_type": "code",
   "execution_count": null,
   "metadata": {
    "colab": {
     "base_uri": "https://localhost:8080/",
     "height": 400
    },
    "id": "oKFfzplo1Qq3",
    "outputId": "44e44e6b-f9be-41bb-de5b-d27e2c3fedb9"
   },
   "outputs": [],
   "source": [
    "sns.catplot(x=\"day\", y='total_bill', data=tips, kind=\"swarm\", hue=\"sex\");"
   ]
  },
  {
   "cell_type": "code",
   "execution_count": null,
   "metadata": {},
   "outputs": [],
   "source": [
    "sns.swarmplot(x=\"day\", y='total_bill', data=tips, hue=\"sex\");"
   ]
  },
  {
   "cell_type": "code",
   "execution_count": null,
   "metadata": {},
   "outputs": [],
   "source": [
    "sns.stripplot(x=\"day\", y='total_bill', data=tips, hue=\"sex\");"
   ]
  },
  {
   "cell_type": "code",
   "execution_count": null,
   "metadata": {},
   "outputs": [],
   "source": [
    "sns.catplot(x=\"day\", y='total_bill', data=tips, kind=\"strip\", hue=\"sex\");"
   ]
  },
  {
   "cell_type": "code",
   "execution_count": null,
   "metadata": {},
   "outputs": [],
   "source": [
    "ax = sns.swarmplot(x=\"day\", y='total_bill', data=tips, hue=\"sex\")\n",
    "ax.legend(bbox_to_anchor=(1,0), loc = 'lower left');"
   ]
  },
  {
   "cell_type": "code",
   "execution_count": null,
   "metadata": {},
   "outputs": [],
   "source": [
    "ax = sns.swarmplot(x=\"day\", y='total_bill', data=tips, hue=\"sex\", dodge=True)\n",
    "ax.legend(bbox_to_anchor=(1,0), loc = 'lower left');"
   ]
  },
  {
   "cell_type": "code",
   "execution_count": null,
   "metadata": {},
   "outputs": [],
   "source": [
    "# ax.legend?"
   ]
  },
  {
   "cell_type": "code",
   "execution_count": null,
   "metadata": {},
   "outputs": [],
   "source": [
    "sns.catplot(x=\"day\", y='total_bill', data=tips, kind=\"strip\", hue=\"sex\");"
   ]
  },
  {
   "cell_type": "code",
   "execution_count": null,
   "metadata": {},
   "outputs": [],
   "source": [
    "sns.catplot(x=\"day\", y='total_bill', data=tips, \n",
    "            kind=\"strip\", col=\"sex\", \n",
    "            col_order=[\"Female\", \"Male\"]);"
   ]
  },
  {
   "cell_type": "code",
   "execution_count": null,
   "metadata": {},
   "outputs": [],
   "source": [
    "sns.catplot(x=\"day\", y='total_bill', data=tips, \n",
    "            kind=\"swarm\", row=\"size\", col=\"time\", hue=\"sex\", dodge=True, height=3, aspect=2,\n",
    "            col_order=[\"Lunch\", \"Dinner\"]);"
   ]
  },
  {
   "cell_type": "markdown",
   "metadata": {
    "id": "s1Pv0vx0xZBn"
   },
   "source": [
    "## <p style=\"background-color:#9d4f8c; font-family:newtimeroman; color:#FFF9ED; font-size:150%; text-align:CENTER; border-radius:10px 10px;\">JOINTPLOT</p>\n",
    "\n",
    "<a id=\"2\"></a>\n",
    "<a href=\"#toc\" class=\"btn btn-primary btn-sm\" role=\"button\" aria-pressed=\"true\" \n",
    "style=\"color:blue; background-color:#dfa8e4\" data-toggle=\"popover\">Content</a>\n",
    "\n",
    "Jointplot is seaborn library specific and can be used to quickly visualize and analyze the relationship between two variables and describe their individual distributions on the same plot.\n",
    "\n",
    "Seaborn’s jointplot displays a relationship between 2 variables (bivariate) as well as 1D profiles (univariate) in the margins. This plot is a convenience class that wraps JointGrid.\n",
    "\n",
    "This function provides a convenient interface to the JointGrid class, with several canned plot kinds. This is intended to be a fairly lightweight wrapper; if you need more flexibility, you should use JointGrid directly.\n",
    "\n",
    "* [Source 01](https://seaborn.pydata.org/generated/seaborn.jointplot.html) \n",
    "* [Source 02](http://alanpryorjr.com/visualizations/seaborn/jointplot/jointplot/)\n",
    "* [Source 03](https://seaborn.pydata.org/generated/seaborn.JointGrid.html#:~:text=JointGrid%20(**kwargs),when%20you%20need%20more%20flexibility.)\n",
    "* [Source 04](https://www.hackerearth.com/blog/developers/data-visualization-techniques/)<br>"
   ]
  },
  {
   "cell_type": "code",
   "execution_count": null,
   "metadata": {
    "colab": {
     "base_uri": "https://localhost:8080/",
     "height": 458
    },
    "id": "dJF4R8kHxKBA",
    "outputId": "acede945-9b4b-40cf-8de2-d4f7b5c58ba8"
   },
   "outputs": [],
   "source": [
    "sns.jointplot(x='total_bill', y='tip', data=tips);  # kind : { \"scatter\" | \"kde\" | \"hist\" | \"hex\" | \"reg\" | \"resid\" }"
   ]
  },
  {
   "cell_type": "code",
   "execution_count": null,
   "metadata": {
    "colab": {
     "base_uri": "https://localhost:8080/",
     "height": 458
    },
    "id": "In_vSPijxVbY",
    "outputId": "5665f3d3-819c-4774-8835-15f9d4cb0195"
   },
   "outputs": [],
   "source": [
    "sns.jointplot(x='total_bill', y='tip', data=tips, kind=\"reg\");"
   ]
  },
  {
   "cell_type": "code",
   "execution_count": null,
   "metadata": {
    "colab": {
     "base_uri": "https://localhost:8080/",
     "height": 458
    },
    "id": "SCFvR0JRxu6G",
    "outputId": "56220016-23c4-4aed-9628-3f880f09df89"
   },
   "outputs": [],
   "source": [
    "sns.jointplot(x='total_bill', y='tip', data=tips, kind=\"kde\");"
   ]
  },
  {
   "cell_type": "code",
   "execution_count": null,
   "metadata": {
    "colab": {
     "base_uri": "https://localhost:8080/",
     "height": 458
    },
    "id": "0GutjXD-x4D3",
    "outputId": "879c245e-4685-4421-8d0f-7cff43803eb0"
   },
   "outputs": [],
   "source": [
    "sns.jointplot(x='total_bill', y='tip', data=tips, kind=\"hex\");"
   ]
  },
  {
   "cell_type": "markdown",
   "metadata": {
    "id": "2ZRDGGuVx9x2"
   },
   "source": [
    "## <p style=\"background-color:#9d4f8c; font-family:newtimeroman; color:#FFF9ED; font-size:150%; text-align:CENTER; border-radius:10px 10px;\">PAIRPLOT</p>\n",
    "\n",
    "<a id=\"3\"></a>\n",
    "<a href=\"#toc\" class=\"btn btn-primary btn-sm\" role=\"button\" aria-pressed=\"true\" \n",
    "style=\"color:blue; background-color:#dfa8e4\" data-toggle=\"popover\">Content</a>\n",
    "\n",
    "Pairplot visualizes given data to find the relationship between them where the variables can be continuous or categorical. It plots pairwise relationships in a data-set.\n",
    "\n",
    "[Source 01](https://seaborn.pydata.org/generated/seaborn.pairplot.html), [Source 02](https://medium.com/analytics-vidhya/pairplot-visualization-16325cd725e6), [Source 03](https://towardsdatascience.com/visualizing-data-with-pair-plots-in-python-f228cf529166) & [Source 04](https://www.youtube.com/watch?v=uCgvlfIo9fg)<br>"
   ]
  },
  {
   "cell_type": "code",
   "execution_count": null,
   "metadata": {
    "colab": {
     "base_uri": "https://localhost:8080/",
     "height": 567
    },
    "id": "ixejFYEkx5bH",
    "outputId": "16503e44-9a4c-4488-a0c0-399a2ce1f1f8"
   },
   "outputs": [],
   "source": [
    "sns.pairplot(tips);"
   ]
  },
  {
   "cell_type": "markdown",
   "metadata": {},
   "source": [
    "### <p style=\"background-color:#9d4f8c; font-family:newtimeroman; color:#FFF9ED; font-size:150%; text-align:left; border-radius:10px 10px;\">\"palette\" Parameter</p>\n",
    "\n",
    "<a id=\"3.1\"></a>\n",
    "<a href=\"#toc\" class=\"btn btn-primary btn-sm\" role=\"button\" aria-pressed=\"true\" \n",
    "style=\"color:blue; background-color:#dfa8e4\" data-toggle=\"popover\">Content</a>\n",
    "\n",
    "**palette:** dict or seaborn color palette\n",
    "\n",
    "Set of colors for mapping the hue variable. If a dict, keys should be values in the hue variable.\n",
    "\n",
    "[Source](https://seaborn.pydata.org/generated/seaborn.pairplot.html)\n",
    "\n",
    "Seaborn has six variations of its default color palette: \"deep\", \"muted\", \"pastel\", \"bright\", \"dark\", and \"colorblind\". For learning how to play with palette colors [visit HERE](https://www.codecademy.com/article/seaborn-design-ii) and [visit HERE](https://seaborn.pydata.org/tutorial/color_palettes.html)\n",
    "\n",
    "Some palette color examples: \"viridis\" \"crest\", \"magma\", \"rocket\", \"rocket_r\", \"cubehelix\", \"seagreen\" \"dark:salmon_r\", \"Blues\", \"vlag\", \"icefire\" etc.\n",
    "\n",
    "[Source](https://seaborn.pydata.org/tutorial/color_palettes.html)\n",
    "\n",
    "To set custom seaborn color palette using hex codes, and name the colors, visit the following sources [SOURCE 01](https://stackoverflow.com/questions/52652264/set-custom-seaborn-color-palette-using-hex-codes-and-name-the-colors), [SOURCE 02](https://moonbooks.org/Articles/How-to-extract-html-color-codes-hex-codes-from-a-seaborn-palette-/), [SOURCE 03](https://towardsdatascience.com/how-to-use-your-own-color-palettes-with-seaborn-a45bf5175146) and [SOURCE 04](https://medium.com/@neuralnets/data-visualization-with-python-and-seaborn-part-3-69647c19bf2)"
   ]
  },
  {
   "cell_type": "markdown",
   "metadata": {},
   "source": [
    "**The possible value of the palette are:**\n",
    "\n",
    "‘Accent’, ‘Accent_r’, ‘Blues’, ‘Blues_r’, ‘BrBG’, ‘BrBG_r’, ‘BuGn’, ‘BuGn_r’, ‘BuPu’, ‘BuPu_r’, ‘CMRmap’, ‘CMRmap_r’, ‘Dark2’, ‘Dark2_r’, ‘GnBu’, ‘GnBu_r’,  ‘Greens’, ‘Greens_r’, ‘Greys’, ‘Greys_r’, ‘OrRd’, ‘OrRd_r’, ‘Oranges’, ‘Oranges_r’,  ‘PRGn’, ‘PRGn_r’, ‘Paired’, ‘Paired_r’, ‘Pastel1’, ‘Pastel1_r’, ‘Pastel2’,  ‘Pastel2_r’, ‘PiYG’, ‘PiYG_r’, ‘PuBu’, ‘PuBuGn’, ‘PuBuGn_r’, ‘PuBu_r’, ‘PuOr’, ‘PuOr_r’, ‘PuRd’, ‘PuRd_r’, ‘Purples’, ‘Purples_r’, ‘RdBu’, ‘RdBu_r’, ‘RdGy’, ‘RdGy_r’, ‘RdPu’, ‘RdPu_r’, ‘RdYlBu’, ‘RdYlBu_r’, ‘RdYlGn’, ‘RdYlGn_r’, ‘Reds’, ‘Reds_r’, ‘Set1’, ‘Set1_r’, ‘Set2’, ‘Set2_r’, ‘Set3’, ‘Set3_r’, ‘Spectral’, ‘Spectral_r’, ‘Wistia’, ‘Wistia_r’, ‘YlGn’, ‘YlGnBu’, ‘YlGnBu_r’, ‘YlGn_r’, ‘YlOrBr’, ‘YlOrBr_r’, ‘YlOrRd’, ‘YlOrRd_r’, ‘afmhot’, ‘afmhot_r’, ‘autumn’, ‘autumn_r’, ‘binary’, ‘binary_r’,  ‘bone’, ‘bone_r’, ‘brg’, ‘brg_r’, ‘bwr’, ‘bwr_r’, ‘cividis’, ‘cividis_r’, ‘cool’, ‘cool_r’,  ‘coolwarm’, ‘coolwarm_r’, ‘copper’, ‘copper_r’, ‘cubehelix’, ‘cubehelix_r’, ‘flag’, ‘flag_r’,  ‘gist_earth’, ‘gist_earth_r’, ‘gist_gray’, ‘gist_gray_r’, ‘gist_heat’, ‘gist_heat_r’, ‘gist_ncar’,  ‘gist_ncar_r’, ‘gist_rainbow’, ‘gist_rainbow_r’, ‘gist_stern’, ‘gist_stern_r’, ‘gist_yarg’,  ‘gist_yarg_r’, ‘gnuplot’, ‘gnuplot2’, ‘gnuplot2_r’, ‘gnuplot_r’, ‘gray’, ‘gray_r’, ‘hot’, ‘hot_r’,  ‘hsv’, ‘hsv_r’, ‘icefire’, ‘icefire_r’, ‘inferno’, ‘inferno_r’, ‘jet’, ‘jet_r’, ‘magma’, ‘magma_r’,  ‘mako’, ‘mako_r’, ‘nipy_spectral’, ‘nipy_spectral_r’, ‘ocean’, ‘ocean_r’, ‘pink’, ‘pink_r’,  ‘plasma’, ‘plasma_r’, ‘prism’, ‘prism_r’, ‘rainbow’, ‘rainbow_r’, ‘rocket’, ‘rocket_r’,  ‘seismic’, ‘seismic_r’, ‘spring’, ‘spring_r’, ‘summer’, ‘summer_r’, ‘tab10’, ‘tab10_r’,’tab20′, ‘tab20_r’, ‘tab20b’, ‘tab20b_r’, ‘tab20c’, ‘tab20c_r’, ‘terrain’, ‘terrain_r’, ‘turbo’,  ‘turbo_r’, ‘twilight’, ‘twilight_r’, ‘twilight_shifted’, ‘twilight_shifted_r’, ‘viridis’,  ‘viridis_r’, ‘vlag’, ‘vlag_r’, ‘winter’, ‘winter_r’\n",
    "\n",
    "[Source](https://www.geeksforgeeks.org/seaborn-color-palette/)"
   ]
  },
  {
   "cell_type": "code",
   "execution_count": null,
   "metadata": {
    "colab": {
     "base_uri": "https://localhost:8080/",
     "height": 567
    },
    "id": "s8N-3mZxyAZv",
    "outputId": "7e94a989-7757-4caa-8614-9e3388a434ed"
   },
   "outputs": [],
   "source": [
    "# \"viridis\" \"crest\", \"magma\", \"rocket\", \"rocket_r\", \"cubehelix\", \"dark:salmon_r\", \"Blues\", \"vlag\", \"icefire\",\n",
    "\n",
    "sns.pairplot(tips, hue='sex', palette=\"twilight\");"
   ]
  },
  {
   "cell_type": "markdown",
   "metadata": {},
   "source": [
    "### <p style=\"background-color:#9d4f8c; font-family:newtimeroman; color:#FFF9ED; font-size:150%; text-align:left; border-radius:10px 10px;\">\"corner\" Parameter</p>\n",
    "\n",
    "<a id=\"3.2\"></a>\n",
    "<a href=\"#toc\" class=\"btn btn-primary btn-sm\" role=\"button\" aria-pressed=\"true\" \n",
    "style=\"color:blue; background-color:#dfa8e4\" data-toggle=\"popover\">Content</a>\n",
    "\n",
    "**corner:** bool\n",
    "\n",
    "If True, don’t add axes to the upper (off-diagonal) triangle of the grid, making this a “corner” plot.\n",
    "\n",
    "[Source](https://seaborn.pydata.org/generated/seaborn.pairplot.html)"
   ]
  },
  {
   "cell_type": "code",
   "execution_count": null,
   "metadata": {
    "colab": {
     "base_uri": "https://localhost:8080/",
     "height": 567
    },
    "id": "FQyPfit3yF8o",
    "outputId": "b1b3503b-57e9-42f1-aa7e-1d713ab869e3"
   },
   "outputs": [],
   "source": [
    "sns.pairplot(tips, hue='sex', palette='viridis', corner=True, height=1.5, aspect=1);"
   ]
  },
  {
   "cell_type": "markdown",
   "metadata": {},
   "source": [
    "### <p style=\"background-color:#9d4f8c; font-family:newtimeroman; color:#FFF9ED; font-size:150%; text-align:left; border-radius:10px 10px;\">\"diag_kind\" Parameter</p>\n",
    "\n",
    "<a id=\"3.3\"></a>\n",
    "<a href=\"#toc\" class=\"btn btn-primary btn-sm\" role=\"button\" aria-pressed=\"true\" \n",
    "style=\"color:blue; background-color:#dfa8e4\" data-toggle=\"popover\">Content</a>\n",
    "\n",
    "**diag_kind:** {‘auto’, ‘hist’, ‘kde’, None}\n",
    "\n",
    "Kind of plot for the diagonal subplots. If ‘auto’, choose based on whether or not hue is used.\n",
    "\n",
    "[Source](https://seaborn.pydata.org/generated/seaborn.pairplot.html)"
   ]
  },
  {
   "cell_type": "code",
   "execution_count": null,
   "metadata": {
    "colab": {
     "base_uri": "https://localhost:8080/",
     "height": 567
    },
    "id": "oK4Qix8RyOb3",
    "outputId": "098d99cb-b452-4725-c277-353da5d53bdc"
   },
   "outputs": [],
   "source": [
    "sns.pairplot(tips, hue='sex', palette='viridis', corner=True, diag_kind='hist'); # diagonal "
   ]
  },
  {
   "cell_type": "markdown",
   "metadata": {
    "id": "whzlJni118h-"
   },
   "source": [
    "## <p style=\"background-color:#9d4f8c; font-family:newtimeroman; color:#FFF9ED; font-size:150%; text-align:CENTER; border-radius:10px 10px;\">PAIRGRID</p>\n",
    "\n",
    "<a id=\"4\"></a>\n",
    "<a href=\"#toc\" class=\"btn btn-primary btn-sm\" role=\"button\" aria-pressed=\"true\" \n",
    "style=\"color:blue; background-color:#dfa8e4\" data-toggle=\"popover\">Content</a>\n",
    "\n",
    "PairGrid allows us to draw a grid of subplots using the same plot type to visualize data.\n",
    "\n",
    "Unlike FacetGrid, it uses a different pair of variables for each subplot. It forms a matrix of sub-plots. It is also sometimes called as \"scatterplot matrix\".\n",
    "\n",
    "The usage of pairgrid is similar to facetgrid. First initialise the grid and then pass the plotting function.\n",
    "\n",
    "* [Docs: PairGrid](https://seaborn.pydata.org/generated/seaborn.PairGrid.html) \n",
    "* [pairgrid tutorial](https://www.tutorialspoint.com/seaborn/seaborn_pair_grid.htm)\n",
    "* [Building Multi-Plot Grids (tutorial)](https://seaborn.pydata.org/tutorial/axis_grids.html#grid-tutorial)\n",
    "\n",
    "#### Difference Between PairPlot and PairGrid\n",
    "\n",
    "Pair plots are several bivariate distributions in one plot and can be made using just one simple function. Even the most basic one is very useful in a data analytics project where there are several continuous variables. We know that a scatter plot is widely used to present the relationship between two continuous variables. Pair plot puts several scatter plots in one plot and also provides the distribution diagonally.\n",
    "\n",
    "On the other hand; using PairGrid, an empty grid can be generated. And later you can fill this up as you like. It does not have to be a scatter plot. It can be any other bivariate plot.\n",
    "\n",
    "* [Kimberly Fessel on Pairplots](https://www.youtube.com/watch?v=Skyp6-RmA84)\n",
    "* [Youtube Pairplot and PairGrid in Python](https://youtu.be/QxO2DQc5pCo) \n",
    "* [PairPlot an PairGrid](https://towardsdatascience.com/pair-plot-and-pairgrid-in-details-f782975032ea) \n",
    "* [Datacamp:  Plots on a Grid](https://campus.datacamp.com/courses/intermediate-data-visualization-with-seaborn/creating-plots-on-data-aware-grids?ex=5)\n",
    "* [Multi-Grid Tutorial](https://seaborn.pydata.org/tutorial/axis_grids.html#grid-tutorial)"
   ]
  },
  {
   "cell_type": "markdown",
   "metadata": {},
   "source": [
    "**sns.PairGrid()**\n",
    "\n",
    "Subplot grid for plotting pairwise relationships in a dataset.\n",
    "\n",
    "This object maps each variable in a dataset onto a column and row in a\n",
    "grid of multiple axes. Different axes-level plotting functions can be\n",
    "used to draw bivariate plots in the upper and lower triangles, and the\n",
    "the marginal distribution of each variable can be shown on the diagonal."
   ]
  },
  {
   "cell_type": "code",
   "execution_count": null,
   "metadata": {
    "colab": {
     "base_uri": "https://localhost:8080/",
     "height": 546
    },
    "id": "HbwjaaTl1WnX",
    "outputId": "aaf7b90a-c28e-42dd-89ea-d913acb225ce"
   },
   "outputs": [],
   "source": [
    "g = sns.PairGrid(tips)\n",
    "g = g.map(sns.scatterplot)"
   ]
  },
  {
   "cell_type": "code",
   "execution_count": null,
   "metadata": {
    "colab": {
     "base_uri": "https://localhost:8080/",
     "height": 546
    },
    "id": "HRQqWw1r1_tu",
    "outputId": "d3a3c5e4-eb86-4d2f-ce51-2756e5c62cc9"
   },
   "outputs": [],
   "source": [
    "g = sns.PairGrid(tips)\n",
    "g = g.map_upper(sns.scatterplot)\n",
    "g = g.map_diag(sns.histplot)"
   ]
  },
  {
   "cell_type": "code",
   "execution_count": null,
   "metadata": {
    "colab": {
     "base_uri": "https://localhost:8080/",
     "height": 546
    },
    "id": "RyVS56D62Ne3",
    "outputId": "52941523-9114-4841-ca66-a69baedbaaeb"
   },
   "outputs": [],
   "source": [
    "g = sns.PairGrid(tips)\n",
    "g = g.map_upper(sns.scatterplot)\n",
    "g = g.map_diag(sns.histplot)\n",
    "g = g.map_lower(sns.kdeplot, colors=\"red\")\n",
    "g.savefig(\"pairgrid.png\")"
   ]
  },
  {
   "cell_type": "code",
   "execution_count": null,
   "metadata": {
    "colab": {
     "base_uri": "https://localhost:8080/",
     "height": 768
    },
    "id": "YAkeB-kV2ajA",
    "outputId": "3958296d-8191-40bf-9829-b2f4edc8116f"
   },
   "outputs": [],
   "source": [
    "g = sns.PairGrid(tips, hue=\"sex\", palette=\"viridis\")\n",
    "g = g.map_upper(sns.scatterplot, linewidths=1, edgecolor=\"w\", s=40)\n",
    "g = g.map_diag(sns.boxplot)\n",
    "g = g.map_lower(sns.kdeplot)\n",
    "g = g.add_legend()\n",
    "g.savefig(\"pairgrid.png\");"
   ]
  },
  {
   "cell_type": "markdown",
   "metadata": {
    "id": "bP0VkVan3B6Y"
   },
   "source": [
    "## <p style=\"background-color:#9d4f8c; font-family:newtimeroman; color:#FFF9ED; font-size:150%; text-align:CENTER; border-radius:10px 10px;\">FACETGRID</p>\n",
    "\n",
    "<a id=\"5\"></a>\n",
    "<a href=\"#toc\" class=\"btn btn-primary btn-sm\" role=\"button\" aria-pressed=\"true\" \n",
    "style=\"color:blue; background-color:#dfa8e4\" data-toggle=\"popover\">Content</a>\n",
    "\n",
    "FacetGrid object takes a dataframe as input and the names of the variables that will form the row, column, or hue dimensions of the grid. The variables should be **categorical** and the data at each level of the variable will be used for a facet along that axis.\n",
    "\n",
    "A FacetGrid can be drawn with up to three dimensions − row, col, and hue. The first two have obvious correspondence with the resulting array of axes; think of the hue variable as a third dimension along a depth axis, where different levels are plotted with different colors.\n",
    "\n",
    "[Source 01](https://seaborn.pydata.org/generated/seaborn.FacetGrid.html), [Source 02](https://www.tutorialspoint.com/seaborn/seaborn_facet_grid.htm), [Source 03](https://towardsdatascience.com/seaborn-facetgrid-taking-subplots-further-15ee7af54e44) & [Source 04](https://www.analyticsvidhya.com/blog/2021/07/using-seaborns-facetgrid-based-methods-for-exploratory-data-analysis/)"
   ]
  },
  {
   "cell_type": "code",
   "execution_count": null,
   "metadata": {
    "colab": {
     "base_uri": "https://localhost:8080/",
     "height": 441
    },
    "id": "xja0jFFe2iAQ",
    "outputId": "344c6004-68be-4bf0-bb26-8127287fd6e0"
   },
   "outputs": [],
   "source": [
    "g = sns.FacetGrid(data = tips, col=\"time\", row=\"smoker\")\n",
    "g = g.map(plt.hist, \"total_bill\")"
   ]
  },
  {
   "cell_type": "code",
   "execution_count": null,
   "metadata": {
    "colab": {
     "base_uri": "https://localhost:8080/",
     "height": 441
    },
    "id": "zw0XOgku3I7I",
    "outputId": "dd90fde5-6905-4538-f64a-351c6e797c06"
   },
   "outputs": [],
   "source": [
    "g = sns.FacetGrid(data = tips, col=\"time\", row=\"size\")\n",
    "g = g.map(plt.scatter, \"total_bill\", \"tip\")"
   ]
  },
  {
   "cell_type": "code",
   "execution_count": null,
   "metadata": {
    "colab": {
     "base_uri": "https://localhost:8080/",
     "height": 441
    },
    "id": "8vWd5qZN3c72",
    "outputId": "02321833-0749-485f-a1eb-08431f8c9163"
   },
   "outputs": [],
   "source": [
    "g = sns.FacetGrid(data = tips, col=\"time\", row=\"size\", hue=\"sex\", height=2, aspect=2)\n",
    "g = g.map(sns.regplot, \"total_bill\", \"tip\")"
   ]
  },
  {
   "cell_type": "code",
   "execution_count": null,
   "metadata": {},
   "outputs": [],
   "source": [
    "type(g)"
   ]
  },
  {
   "cell_type": "code",
   "execution_count": null,
   "metadata": {},
   "outputs": [],
   "source": [
    "# dir(g)"
   ]
  },
  {
   "cell_type": "markdown",
   "metadata": {
    "id": "PhpKrZfr3kRB"
   },
   "source": [
    "## <p style=\"background-color:#9d4f8c; font-family:newtimeroman; color:#FFF9ED; font-size:150%; text-align:CENTER; border-radius:10px 10px;\">HEATMAP</p>\n",
    "\n",
    "<a id=\"6\"></a>\n",
    "<a href=\"#toc\" class=\"btn btn-primary btn-sm\" role=\"button\" aria-pressed=\"true\" \n",
    "style=\"color:blue; background-color:#dfa8e4\" data-toggle=\"popover\">Content</a>\n",
    "\n",
    "Heatmap is defined as a graphical representation of data using colors to visualize the value of the matrix. In this, to represent more common values or higher activities brighter colors basically reddish colors are used and to represent less common or activity values, darker colors are preferred. Heatmap is also defined by the name of the shading matrix. Heatmaps in Seaborn can be plotted by using the seaborn.heatmap() function.\n",
    "\n",
    "* [Official Docs](https://seaborn.pydata.org/generated/seaborn.heatmap.html)\n",
    "* [Comprehensive Guide](https://www.geeksforgeeks.org/seaborn-heatmap-a-comprehensive-guide/)"
   ]
  },
  {
   "cell_type": "code",
   "execution_count": null,
   "metadata": {},
   "outputs": [],
   "source": [
    "YouTubeVideo(\"0U9cs2V-Mqc\")"
   ]
  },
  {
   "cell_type": "code",
   "execution_count": null,
   "metadata": {},
   "outputs": [],
   "source": [
    "YouTubeVideo(\"Gj-prU8aEgg\")"
   ]
  },
  {
   "cell_type": "markdown",
   "metadata": {
    "id": "PhpKrZfr3kRB"
   },
   "source": [
    "You can customize the colors in your heatmap with the cmap parameter of the heatmap() function in seaborn.\n",
    "\n",
    "[Gallery](https://www.python-graph-gallery.com/92-control-color-in-seaborn-heatmaps)<br>"
   ]
  },
  {
   "cell_type": "code",
   "execution_count": null,
   "metadata": {},
   "outputs": [],
   "source": [
    "matrix = np.random.randint(1, 10, (20,20))\n",
    "matrix.ndim"
   ]
  },
  {
   "cell_type": "code",
   "execution_count": null,
   "metadata": {},
   "outputs": [],
   "source": [
    "matrix.shape"
   ]
  },
  {
   "cell_type": "code",
   "execution_count": null,
   "metadata": {},
   "outputs": [],
   "source": [
    "matrix"
   ]
  },
  {
   "cell_type": "code",
   "execution_count": null,
   "metadata": {},
   "outputs": [],
   "source": [
    "ax = sns.heatmap(data = matrix, cmap=\"viridis\", annot=True)\n",
    "type(ax)"
   ]
  },
  {
   "cell_type": "code",
   "execution_count": null,
   "metadata": {
    "colab": {
     "base_uri": "https://localhost:8080/",
     "height": 417
    },
    "id": "45UM8nTP3-42",
    "outputId": "add5ea00-b27e-46cd-fd0a-ee09237b2e0f"
   },
   "outputs": [],
   "source": [
    "tips"
   ]
  },
  {
   "cell_type": "code",
   "execution_count": null,
   "metadata": {},
   "outputs": [],
   "source": [
    "tips.corr()"
   ]
  },
  {
   "cell_type": "code",
   "execution_count": null,
   "metadata": {
    "colab": {
     "base_uri": "https://localhost:8080/",
     "height": 287
    },
    "id": "bhCYX49I3kOr",
    "outputId": "e09b4ab2-ab0f-4838-eaa2-c2d4620ad127"
   },
   "outputs": [],
   "source": [
    "sns.heatmap(data=tips.corr());"
   ]
  },
  {
   "cell_type": "markdown",
   "metadata": {},
   "source": [
    "### <p style=\"background-color:#9d4f8c; font-family:newtimeroman; color:#FFF9ED; font-size:150%; text-align:left; border-radius:10px 10px;\">\"annot\" Parameter</p>\n",
    "\n",
    "<a id=\"6.1\"></a>\n",
    "<a href=\"#toc\" class=\"btn btn-primary btn-sm\" role=\"button\" aria-pressed=\"true\" \n",
    "style=\"color:blue; background-color:#dfa8e4\" data-toggle=\"popover\">Content</a>\n",
    "\n",
    "**annot:** bool or rectangular dataset, optional\n",
    "\n",
    "If True, write the data value in each cell. If an array-like with the same shape as data, then use this to annotate the heatmap instead of the data. Note that DataFrames will match on position, not index."
   ]
  },
  {
   "cell_type": "code",
   "execution_count": null,
   "metadata": {
    "colab": {
     "base_uri": "https://localhost:8080/",
     "height": 287
    },
    "id": "8nKRE8Hh3kJw",
    "outputId": "0fa8131c-c27f-430d-ee2a-941cba45d25c"
   },
   "outputs": [],
   "source": [
    "sns.heatmap(data=tips.corr(), annot=True);"
   ]
  },
  {
   "cell_type": "code",
   "execution_count": null,
   "metadata": {
    "colab": {
     "base_uri": "https://localhost:8080/",
     "height": 287
    },
    "id": "pRwM0Bg13kG2",
    "outputId": "fad6a412-6334-4d54-cedd-1c5415f42683"
   },
   "outputs": [],
   "source": [
    "sns.heatmap(data=tips.corr(), cmap='viridis', annot=True);"
   ]
  },
  {
   "cell_type": "code",
   "execution_count": null,
   "metadata": {
    "colab": {
     "base_uri": "https://localhost:8080/",
     "height": 287
    },
    "id": "9AODJZcF5pI_",
    "outputId": "2d2f4c40-4fb8-4ad0-d0cf-a40867c3ffe5"
   },
   "outputs": [],
   "source": [
    "sns.heatmap(data=tips.corr(), cmap='viridis', annot=True, center=1);"
   ]
  },
  {
   "cell_type": "markdown",
   "metadata": {},
   "source": [
    "**center : float, optional**\n",
    "\n",
    "    The value at which to center the colormap when plotting divergant data.\n",
    "    Using this parameter will change the default ``cmap`` if none is\n",
    "    specified."
   ]
  },
  {
   "cell_type": "code",
   "execution_count": null,
   "metadata": {
    "colab": {
     "base_uri": "https://localhost:8080/",
     "height": 287
    },
    "id": "DwGWXaQq56vn",
    "outputId": "bf700526-c388-4cc2-c798-a2f9d5185abb"
   },
   "outputs": [],
   "source": [
    "sns.heatmap(data=tips.corr(), cmap='viridis', annot=True, center=0.7);"
   ]
  },
  {
   "cell_type": "code",
   "execution_count": null,
   "metadata": {
    "colab": {
     "base_uri": "https://localhost:8080/",
     "height": 287
    },
    "id": "3rMj7Cpx6PCH",
    "outputId": "06c43a19-0d68-4d78-9a50-07dcc84df8d2"
   },
   "outputs": [],
   "source": [
    "sns.heatmap(data=tips.corr(), cmap='viridis', annot=True, center=0);"
   ]
  },
  {
   "cell_type": "code",
   "execution_count": null,
   "metadata": {},
   "outputs": [],
   "source": [
    "sns.heatmap(data=tips.corr(), cmap='viridis', annot=True, center=None);"
   ]
  },
  {
   "cell_type": "markdown",
   "metadata": {},
   "source": [
    "* [Another Tutorial](https://towardsdatascience.com/heatmap-basics-with-pythons-seaborn-fb92ea280a6c)\n",
    "* [Half a heatmap](https://youtu.be/r71-hlal38w) -- YouTube\n",
    "* [More Tips and Tricks with heatmap](https://youtu.be/b7BXK_fUwkY) -- YouTube"
   ]
  },
  {
   "cell_type": "code",
   "execution_count": null,
   "metadata": {},
   "outputs": [],
   "source": [
    "data = tips.corr()\n",
    "mask = np.zeros_like(data)\n",
    "mask[np.triu_indices_from(mask)]= True"
   ]
  },
  {
   "cell_type": "code",
   "execution_count": null,
   "metadata": {},
   "outputs": [],
   "source": [
    "type(tips.corr())"
   ]
  },
  {
   "cell_type": "code",
   "execution_count": null,
   "metadata": {},
   "outputs": [],
   "source": [
    "sns.heatmap(data=data, cmap='viridis', annot=True, center=None, mask=mask);"
   ]
  },
  {
   "cell_type": "code",
   "execution_count": null,
   "metadata": {},
   "outputs": [],
   "source": [
    "np.random.seed(0)\n",
    "sns.set_theme()\n",
    "uniform_data = np.random.rand(10, 12)\n",
    "ax = sns.heatmap(uniform_data)"
   ]
  },
  {
   "cell_type": "code",
   "execution_count": null,
   "metadata": {},
   "outputs": [],
   "source": [
    "sns.color_palette()"
   ]
  },
  {
   "cell_type": "code",
   "execution_count": null,
   "metadata": {},
   "outputs": [],
   "source": [
    "sns.color_palette(\"tab10\")"
   ]
  },
  {
   "cell_type": "code",
   "execution_count": null,
   "metadata": {},
   "outputs": [],
   "source": [
    "sns.color_palette(\"magma\")"
   ]
  },
  {
   "cell_type": "code",
   "execution_count": null,
   "metadata": {},
   "outputs": [],
   "source": [
    "sns.color_palette(\"magma\", as_cmap=True)"
   ]
  },
  {
   "cell_type": "code",
   "execution_count": null,
   "metadata": {},
   "outputs": [],
   "source": [
    "sns.color_palette(\"rocket\", as_cmap=True)"
   ]
  },
  {
   "cell_type": "code",
   "execution_count": null,
   "metadata": {},
   "outputs": [],
   "source": [
    "sns.color_palette()"
   ]
  },
  {
   "cell_type": "markdown",
   "metadata": {},
   "source": [
    "## BONUS"
   ]
  },
  {
   "cell_type": "code",
   "execution_count": null,
   "metadata": {},
   "outputs": [],
   "source": [
    "penguins = sns.load_dataset(\"penguins\")\n",
    "penguins"
   ]
  },
  {
   "cell_type": "code",
   "execution_count": null,
   "metadata": {},
   "outputs": [],
   "source": [
    "penguins.info()"
   ]
  },
  {
   "cell_type": "code",
   "execution_count": null,
   "metadata": {
    "scrolled": true
   },
   "outputs": [],
   "source": [
    "penguins.isnull().sum()"
   ]
  },
  {
   "cell_type": "code",
   "execution_count": null,
   "metadata": {},
   "outputs": [],
   "source": [
    "is_NaN = penguins.isnull()\n",
    "row_has_NaN = is_NaN.any(axis=1)\n",
    "rows_with_NaN = penguins[row_has_NaN]\n",
    "rows_with_NaN"
   ]
  },
  {
   "cell_type": "code",
   "execution_count": null,
   "metadata": {},
   "outputs": [],
   "source": [
    "NAN_index = rows_with_NaN.index\n",
    "NAN_index"
   ]
  },
  {
   "cell_type": "code",
   "execution_count": null,
   "metadata": {},
   "outputs": [],
   "source": [
    "plt.figure(figsize=(10, 10))\n",
    "sns.heatmap(penguins.isnull());"
   ]
  },
  {
   "cell_type": "markdown",
   "metadata": {},
   "source": [
    "## <p style=\"background-color:#9d4f8c; font-family:newtimeroman; color:#FFF9ED; font-size:150%; text-align:CENTER; border-radius:10px 10px;\">CLUSTERMAP</p>\n",
    "\n",
    "<a id=\"7\"></a>\n",
    "<a href=\"#toc\" class=\"btn btn-primary btn-sm\" role=\"button\" aria-pressed=\"true\" \n",
    "style=\"color:blue; background-color:#dfa8e4\" data-toggle=\"popover\">Content</a>\n",
    "\n",
    "The clustermap() function of seaborn plots a hierarchically-clustered heat map of the given matrix dataset. It returns a clustered grid index. \n",
    "\n",
    "The .clustermap() method uses a hierarchical clusters to order data by similarity. This reorganizes the data for the rows and columns and displays similar content next to one another for even more depth of understanding the data.\n",
    "\n",
    "Before or while clustering, we often \"normalize\" our numeric data columns, meaning we put them on the same 0-1 scale, such that the specific units for a column don't skew the clustering process.  After that, it's a matter of finding successively smaller distances between columns within larger distances, starting with the largest.  \n",
    "\n",
    "What do we mean by \"distance\"?\n",
    "\n",
    "In XYZ mathematics, the \"Euclidean distance\" between any two points $(x_{1}, y_{1}, z_{1}), (x_{2}, y_{2}, z_{2})$ is deemed to be:\n",
    "\n",
    "$$\n",
    "\\sqrt{(x_{1}-x_{2})^{2} + (y_{1}-y_{2})^{2} + (z_{1}-z_{2})^{2}}\n",
    "$$\n",
    "\n",
    "We're free to generalize that notion of distance to any number of columns, each of which plays the role of a dimension in an extended Euclidean distance formula.  Other ways of computer inter-columnar or inter-row distance may likewise be swapped in.  All the clustering algorithm needs is a consistent method for computing intervals between rows and/or columns.\n",
    "\n",
    "* [Official Seaborn Docs: clustermap](https://seaborn.pydata.org/generated/seaborn.clustermap.html)\n",
    "* [How to use Seaborn for Heatmaps](https://medium.com/@kbrook10/day-4-data-visualization-how-to-use-seaborn-for-heatmaps-bf8070e3846e) \n",
    "* [Geeks for Geeks](https://www.geeksforgeeks.org/hierarchically-clustered-heatmap-in-python-with-seaborn-clustermap/) "
   ]
  },
  {
   "cell_type": "code",
   "execution_count": null,
   "metadata": {},
   "outputs": [],
   "source": [
    "YouTubeVideo(\"crQkHHhY7aY\")"
   ]
  },
  {
   "cell_type": "code",
   "execution_count": null,
   "metadata": {},
   "outputs": [],
   "source": [
    "YouTubeVideo(\"98x1AIl-q90\")"
   ]
  },
  {
   "cell_type": "code",
   "execution_count": null,
   "metadata": {},
   "outputs": [],
   "source": [
    "YouTubeVideo(\"c1gSshIYNng\")"
   ]
  },
  {
   "cell_type": "code",
   "execution_count": null,
   "metadata": {},
   "outputs": [],
   "source": [
    "sns.heatmap(tips.corr());"
   ]
  },
  {
   "cell_type": "code",
   "execution_count": null,
   "metadata": {
    "colab": {
     "base_uri": "https://localhost:8080/",
     "height": 747
    },
    "id": "DQuKLBmv6XWG",
    "outputId": "0f7d683c-1d69-4f8a-813a-0dd58da1fad9"
   },
   "outputs": [],
   "source": [
    "sns.clustermap(tips.corr());"
   ]
  },
  {
   "cell_type": "code",
   "execution_count": null,
   "metadata": {},
   "outputs": [],
   "source": [
    "sns.clustermap(tips.corr(), annot=True, figsize=(5, 5));"
   ]
  },
  {
   "cell_type": "code",
   "execution_count": null,
   "metadata": {},
   "outputs": [],
   "source": [
    "sns.heatmap(tips.corr(), annot=True);"
   ]
  },
  {
   "cell_type": "code",
   "execution_count": null,
   "metadata": {
    "colab": {
     "base_uri": "https://localhost:8080/",
     "height": 746
    },
    "id": "MTxNho6o6fyG",
    "outputId": "d95f6307-2098-49c0-b800-d647ce21a48a"
   },
   "outputs": [],
   "source": [
    "iris = sns.load_dataset(\"iris\")\n",
    "iris.head()"
   ]
  },
  {
   "cell_type": "code",
   "execution_count": null,
   "metadata": {},
   "outputs": [],
   "source": [
    "species = iris.pop(\"species\")\n",
    "species.head()"
   ]
  },
  {
   "cell_type": "code",
   "execution_count": null,
   "metadata": {},
   "outputs": [],
   "source": [
    "iris.head(3)"
   ]
  },
  {
   "cell_type": "code",
   "execution_count": null,
   "metadata": {},
   "outputs": [],
   "source": [
    "sns.clustermap(iris, figsize=(8,8));"
   ]
  },
  {
   "cell_type": "markdown",
   "metadata": {
    "id": "SfDkCKc1zWss"
   },
   "source": [
    "The iris dataset contains observations of three iris species: Iris-setosa, Iris-versicolor, and Iris-virginica.\n",
    "There are 50 observations of each species for a total of 150 observations with 4 features each (sepal length, sepal width, petal length, petal width).\n",
    "\n",
    "[Source](https://www.pluralsight.com/guides/designing-a-machine-learning-model)"
   ]
  },
  {
   "cell_type": "code",
   "execution_count": null,
   "metadata": {},
   "outputs": [],
   "source": [
    "sns.clustermap(iris, annot=True, figsize=(8,8));"
   ]
  },
  {
   "cell_type": "code",
   "execution_count": null,
   "metadata": {},
   "outputs": [],
   "source": [
    "fig, ax = plt.subplots(figsize=(5,5))\n",
    "sns.heatmap(iris.corr(), annot=True, ax=ax);"
   ]
  },
  {
   "cell_type": "code",
   "execution_count": null,
   "metadata": {},
   "outputs": [],
   "source": [
    "sns.clustermap(iris.corr(), annot=True, figsize=(5,5), linewidth=1, linecolor=\"k\");"
   ]
  },
  {
   "cell_type": "code",
   "execution_count": null,
   "metadata": {},
   "outputs": [],
   "source": [
    "flights = sns.load_dataset(\"flights\")\n",
    "flights.head()"
   ]
  },
  {
   "cell_type": "code",
   "execution_count": null,
   "metadata": {},
   "outputs": [],
   "source": [
    "flights = flights.pivot(\"month\", \"year\", \"passengers\")\n",
    "flights.head()"
   ]
  },
  {
   "cell_type": "code",
   "execution_count": null,
   "metadata": {},
   "outputs": [],
   "source": [
    "sns.clustermap(flights, figsize=(5,5), cmap=\"Blues\", linewidth=1);"
   ]
  },
  {
   "cell_type": "markdown",
   "metadata": {},
   "source": [
    "## <p style=\"background-color:#9d4f8c; font-family:newtimeroman; color:#FFF9ED; font-size:150%; text-align:center; border-radius:10px 10px;\">THE END OF THE SEABORN SESSION 03 - PART 01</p>\n",
    "\n",
    "<a id=\"8\"></a>\n",
    "<a href=\"#toc\" class=\"btn btn-primary btn-sm\" role=\"button\" aria-pressed=\"true\" \n",
    "style=\"color:blue; background-color:#dfa8e4\" data-toggle=\"popover\">Content</a>"
   ]
  },
  {
   "cell_type": "markdown",
   "metadata": {
    "id": "EneLU_t6yDhn"
   },
   "source": [
    "___\n",
    "\n",
    "<p style=\"text-align: center;\"><img src=\"https://docs.google.com/uc?id=1lY0Uj5R04yMY3-ZppPWxqCr5pvBLYPnV\" class=\"img-fluid\" \n",
    "alt=\"CLRSWY\"></p>\n",
    "\n",
    "## <p style=\"background-color:#FDFEFE; font-family:newtimeroman; color:#9d4f8c; font-size:100%; text-align:center; border-radius:10px 10px;\">WAY TO REINVENT YOURSELF</p>\n",
    "\n",
    "___"
   ]
  },
  {
   "cell_type": "code",
   "execution_count": null,
   "metadata": {},
   "outputs": [],
   "source": [
    "# import antigravity"
   ]
  }
 ],
 "metadata": {
  "colab": {
   "collapsed_sections": [],
   "name": "S5_Seaborn-3.ipynb",
   "provenance": []
  },
  "kernelspec": {
   "display_name": "Python 3 (ipykernel)",
   "language": "python",
   "name": "python3"
  },
  "language_info": {
   "codemirror_mode": {
    "name": "ipython",
    "version": 3
   },
   "file_extension": ".py",
   "mimetype": "text/x-python",
   "name": "python",
   "nbconvert_exporter": "python",
   "pygments_lexer": "ipython3",
   "version": "3.9.15"
  }
 },
 "nbformat": 4,
 "nbformat_minor": 4
}
