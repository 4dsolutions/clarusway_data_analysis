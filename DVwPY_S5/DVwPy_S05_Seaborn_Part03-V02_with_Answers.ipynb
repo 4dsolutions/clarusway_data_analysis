{
 "cells": [
  {
   "cell_type": "markdown",
   "metadata": {
    "deletable": false,
    "editable": false
   },
   "source": [
    "<a href=\"https://clarusway.com/contact-us/\"><img align=\"center\" src=\"https://i.ibb.co/B43qn24/officially-licensed-logo.png\" alt=\"Open in Clarusway LMS\" width=\"110\" height=\"200\" title=\"This notebook is licensed by Clarusway IT training school. Please contact the authorized persons about the conditions under which you can use or share.\"></a>"
   ]
  },
  {
   "cell_type": "markdown",
   "metadata": {},
   "source": [
    "<hr>\n",
    "\n",
    "<p style=\"text-align: center;\"><a href=\"https://lms.clarusway.com/mod/lesson/view.php?id=2463&pageid=4531&startlastseen=no\"><img align=\"center\" src=\"https://i.ibb.co/6Z5pQxD/lmss.png\" alt=\"Open in Clarusway LMS\" width=\"70\" height=\"200\" title=\"Open Clarusway Learning Management Sytem\"></a>\n",
    "\n",
    "<a href=\"https://github.com/4dsolutions/clarusway_data_analysis/blob/main/DVwPY_S5/DVwPy_S05_Seaborn_Part03-V02_with_Answers.ipynb\"><img align=\"left\" src=\"https://i.ibb.co/n3HWyQX/github-logo.png\" alt=\"Open in Clarusway GitHub\" width=\"90\" height=\"150\" title=\"Open and Execute in Clarusway GitHub Repository\"></a>\n",
    "\n",
    "<a href=\"https://nbviewer.org/github/4dsolutions/clarusway_data_analysis/blob/main/DVwPY_S5/DVwPy_S05_Seaborn_Part03-V02_with_Answers.ipynb\"><img align=\"right\" src=\"https://i.ibb.co/48wtV8c/nbviewer-badge.png\" alt=\"Open in nbviewer\" width=\"100\" height=\"100\" title=\"Open and Execute in nbviewer\"></a><br/>\n",
    "\n",
    "<hr>\n",
    "\n",
    "<p style=\"text-align: center;\"><img src=\"https://i.ibb.co/Rpz9L36/clarusway-logo-black.png\" width=\"500\" height=\"200\" class=\"img-fluid\" alt=\"CLRSWY_LOGO\"></p>\n",
    "\n",
    "<p style=\"text-align: center;\"><img src=\"https://i.ibb.co/XS0bxSH/best-bootcamps.png\" width=\"300\" height=\"200\" class=\"img-fluid\" alt=\"CLRSWY BEST BOOTCAMP\"></p>\n",
    "\n",
    "<p style=\"background-color:#E51A59; font-family:newtimeroman; color:#FDFEFE; font-size:130%; text-align:center; border-radius:10px 10px;\">WAY TO REINVENT YOURSELF</p>\n",
    "\n",
    "<p style=\"text-align: center;\"><img src=\"https://i.ibb.co/99DQ3TY/DS-Courses.png\" class=\"img-fluid\" alt=\"CLRSWY_Courses\"></p>"
   ]
  },
  {
   "cell_type": "markdown",
   "metadata": {},
   "source": [
    "<p style=\"background-color:#FFFFFF; font-family:newtimeroman; color:#0000FF; font-size:110%; text-align:left;\"><strong>-----------------------------------------------------------------------------------------------------------------------------------------------------------------------------------------------</strong></p>\n",
    "\n",
    "![seaborn.png](https://i.ibb.co/hg2Kd1X/seabornlogo.png)\n",
    "\n",
    "### <p style=\"background-color:#FDFEFE; font-family:newtimeroman; color:#E51A59; font-size:120%; text-align:center; border-radius:10px 10px;\">\"If you can do it in Seaborn, do it in Seaborn\"</p>\n",
    "\n",
    "\n",
    "## <p style=\"background-color:#FDFEFE; font-family:newtimeroman; color:#060108; font-size:200%; text-align:center; border-radius:10px 10px;\">Data Visualization with Python</p>\n",
    "\n",
    "## <p style=\"background-color:#FDFEFE; font-family:newtimeroman; color:#E51A59; font-size:150%; text-align:center; border-radius:10px 10px;\">Session - 05 (Seaborn - Part-03)</p>\n",
    "\n",
    "<p style=\"background-color:#FFFFFF; font-family:newtimeroman; color:green; font-size:125%; text-align:left;\">Seaborn is a library for making statistical graphics in Python. It builds on top of matplotlib and integrates closely with Ppandas data structures.</p>\n",
    "\n",
    "\n",
    "Seaborn helps us explore and understand our data. Its plotting functions operate on DataFrames and arrays containing whole datasets and internally perform the necessary **``semantic mapping``** and **``statistical aggregation``** to produce informative plots. Its dataset-oriented, declarative API lets us focus on what the different elements of our plots mean, rather than on the details of how to draw them/\n",
    "\n",
    "\n",
    "- 🧐 **[An introduction to seaborn](https://seaborn.pydata.org/introduction.html)**,<br> \n",
    "- 🧐 **[seaborn: statistical data visualization](https://seaborn.pydata.org/)**,<br> \n",
    "- 🧐 **[Complete Seaborn Crash Course | Data Visualization in Seaborn (Youtube)](https://www.youtube.com/watch?v=GcXcSZ0gQps)**,<br> \n",
    "- 🧐 **[Seaborn Tutorial (Youtube)](https://www.youtube.com/watch?v=6GUZXDef2U0)**,<br>\n",
    "- 🧐 **[Seaborn Python Tutorial (Youtube)](https://www.youtube.com/watch?v=Pkvdc2Z6eBg)**\n",
    "\n",
    "<p style=\"background-color:#FFFFFF; font-family:newtimeroman; color:#0000FF; font-size:110%; text-align:left;\"><strong>-----------------------------------------------------------------------------------------------------------------------------------------------------------------------------------------------</strong></p>\n"
   ]
  },
  {
   "cell_type": "markdown",
   "metadata": {},
   "source": [
    "<a id=\"toc\"></a>\n",
    "\n",
    "## <p style=\"background-color:#E51A59; font-family:newtimeroman; color:#FFF9ED; font-size:150%; text-align:center; border-radius:10px 10px;\">CONTENT</p>\n",
    "\n",
    "* [IMPORTING LIBRARIES NEEDED IN THIS NOTEBOOK](#0)\n",
    "* [CATPLOT](#1)\n",
    "    * [\"kind\" Parameter](#1.1)\n",
    "    * [\"col\" Parameter](#1.2)\n",
    "    * [\"row\" Parameter](#1.3)    \n",
    "* [JOINTPLOT](#2)\n",
    "* [PAIRPLOT](#3)\n",
    "    * [\"palette\" Parameter](#3.1)\n",
    "    * [\"corner\" Parameter](#3.2)\n",
    "    * [\"diag_kind\" Parameter](#3.3)\n",
    "* [PAIRGRID](#4)\n",
    "* [FACETGRID](#5) \n",
    "* [HEATMAP](#6)\n",
    "    * [\"annot\" Parameter](#6.1)\n",
    "* [CLUSTERMAP](#7)\n",
    "* [SEABORN CHEAT SHEET](#8)    \n",
    "* [THE END OF THE SEABORN SESSION 05 - PART 03](#9)   \n",
    "\n",
    "<p style=\"background-color:#FFFFFF; font-family:newtimeroman; color:#0000FF; font-size:110%; text-align:left;\"><strong>-----------------------------------------------------------------------------------------------------------------------------------------------------------------------------------------------</strong></p>\n"
   ]
  },
  {
   "cell_type": "markdown",
   "metadata": {},
   "source": [
    "## <p style=\"background-color:#E51A59; font-family:newtimeroman; color:#FFF9ED; font-size:150%; text-align:center; border-radius:10px 10px;\">IMPORTING LIBRARIES NEEDED IN THIS NOTEBOOK</p>\n",
    "\n",
    "<a id=\"0\"></a>\n",
    "<a href=\"#toc\" class=\"btn btn-primary btn-sm\" role=\"button\" aria-pressed=\"true\" \n",
    "style=\"color:blue; background-color:#dfa8e4\" data-toggle=\"popover\">Content</a>"
   ]
  },
  {
   "cell_type": "code",
   "execution_count": null,
   "metadata": {},
   "outputs": [],
   "source": [
    "import pandas as pd  # DAwPy\n",
    "import numpy as np   # DAwPy\n",
    "\n",
    "import seaborn as sns     # Stats-1 & DAwPy\n",
    "from scipy import stats   # Stats-1 & DAwPy\n",
    "from scipy.stats import kurtosis, skew   # Stats-1 & DAwPy\n",
    "\n",
    "import matplotlib  # DVwPy\n",
    "import matplotlib.pyplot as plt  # DVwPy\n",
    "#  magic command that allows for the inline display of plots within the notebook\n",
    "%matplotlib inline   \n",
    "\n",
    "import warnings;\n",
    "warnings.filterwarnings('ignore')\n",
    "# This imports the warnings library and suppresses warnings that might be generated during the execution of the code. \n",
    "# This can help keep the output cleaner, especially during exploratory data analysis."
   ]
  },
  {
   "cell_type": "markdown",
   "metadata": {},
   "source": [
    "- **``Importing Libraries``**: Make sure to import the required libraries before beginning your analysis. You need both pandas and numpy.\n",
    "\n",
    "<p style=\"background-color:#FFFFFF; font-family:newtimeroman; color:#0000FF; font-size:110%; text-align:left;\"><strong>-----------------------------------------------------------------------------------------------------------------------------------------------------------------------------------------------</strong></p>\n",
    "\n",
    "- **``import warnings``**: This imports the warnings module, which is part of Python's standard library and provides a way to issue warning messages.\n",
    "- **``warnings.filterwarnings(\"ignore\")``**: This function call tells Python to ignore all warning messages that would normally be printed. This can be useful when we want to focus on the output of your program without being distracted by warnings.\n",
    "\n",
    "<p style=\"background-color:#FFFFFF; font-family:newtimeroman; color:#FF0000; font-size:125%; text-align:left;\"><strong>📢 Caution ❗❗❗</strong></p>\n",
    "\n",
    "\n",
    "- **``Ignoring warnings can sometimes hide important issues``** in our code, so use this approach judiciously. It's generally better to address the underlying causes of warnings rather than suppressing them. in some situations\n",
    "\n",
    "\n",
    "<p style=\"background-color:#FFFFFF; font-family:newtimeroman; color:#0000FF; font-size:110%; text-align:left;\"><strong>-----------------------------------------------------------------------------------------------------------------------------------------------------------------------------------------------</strong></p>\n",
    "\n",
    "**Before going further, let's explore which versions of the libraries will be used in this analysis :**"
   ]
  },
  {
   "cell_type": "code",
   "execution_count": null,
   "metadata": {},
   "outputs": [],
   "source": [
    "import pandas as pd    # DAwPy\n",
    "import numpy as np     # DAwPy\n",
    "import seaborn as sns  # Stats-1 & DAwPy\n",
    "import matplotlib      # Stats-1 & DAwPy\n",
    "import scipy           # Stats-1 & DAwPy\n",
    "\n",
    "# Print the versions of the libraries\n",
    "print(\"Pandas version:\", pd.__version__)             \n",
    "print(\"NumPy version:\", np.__version__)                \n",
    "print(\"Seaborn version:\", sns.__version__)            \n",
    "print(\"Matplotlib version:\", matplotlib.__version__) \n",
    "print(\"Scipy version:\", scipy.__version__)  "
   ]
  },
  {
   "cell_type": "markdown",
   "metadata": {},
   "source": [
    "<p style=\"background-color:#FFFFFF; font-family:newtimeroman; color:#0000FF; font-size:110%; text-align:left;\"><strong>-----------------------------------------------------------------------------------------------------------------------------------------------------------------------------------------------</strong></p>\n",
    "\n",
    "**The following code retrieves and displays the built-in datasets available in the Seaborn library.**"
   ]
  },
  {
   "cell_type": "code",
   "execution_count": null,
   "metadata": {},
   "outputs": [],
   "source": [
    "# Let us remember the built-in datasets in Seaborn library\n",
    "\n",
    "print(\"There been\", len(sns.get_dataset_names()), \"built-in datasets in Seaborn library.\")\n",
    "print()\n",
    "print(sns.get_dataset_names())"
   ]
  },
  {
   "cell_type": "raw",
   "metadata": {},
   "source": [
    "There been 88 built-in datasets in Seaborn library.\n",
    "\n",
    "['anagrams', 'anscombe', 'attention', 'brain_networks', 'car_crashes', 'diamonds', 'dots', 'dowjones', 'exercise', 'flights', 'fmri', 'geyser', 'glue', 'healthexp', 'iris', 'mpg', 'penguins', 'planets', 'seaice', 'taxis', 'tips', 'titanic', 'anagrams', 'anagrams', 'anscombe', 'anscombe', 'attention', 'attention', 'brain_networks', 'brain_networks', 'car_crashes', 'car_crashes', 'diamonds', 'diamonds', 'dots', 'dots', 'dowjones', 'dowjones', 'exercise', 'exercise', 'flights', 'flights', 'fmri', 'fmri', 'geyser', 'geyser', 'glue', 'glue', 'healthexp', 'healthexp', 'iris', 'iris', 'mpg', 'mpg', 'penguins', 'penguins', 'planets', 'planets', 'seaice', 'seaice', 'taxis', 'taxis', 'tips', 'tips', 'titanic', 'titanic', 'anagrams', 'anscombe', 'attention', 'brain_networks', 'car_crashes', 'diamonds', 'dots', 'dowjones', 'exercise', 'flights', 'fmri', 'geyser', 'glue', 'healthexp', 'iris', 'mpg', 'penguins', 'planets', 'seaice', 'taxis', 'tips', 'titanic']"
   ]
  },
  {
   "cell_type": "markdown",
   "metadata": {},
   "source": [
    "<p style=\"background-color:#FFFFFF; font-family:newtimeroman; color:#0000FF; font-size:110%; text-align:left;\"><strong>-----------------------------------------------------------------------------------------------------------------------------------------------------------------------------------------------</strong></p>\n",
    "\n",
    "\n",
    "**To load the built-in \"titanic\" dataset from Seaborn and display it, we can use the following code. The titanic DataFrame will contain ``various details about the passengers``, including their ``survival status``, ``class``, ``age``, and ``other characteristics``.**"
   ]
  },
  {
   "cell_type": "code",
   "execution_count": null,
   "metadata": {},
   "outputs": [],
   "source": [
    "# Let's load \"titanic\" built-in dataset at Seaborn and assign it as \"titanic\"\n",
    "\n",
    "titanic = sns.load_dataset(\"titanic\")  # fetch the \"titanic\" dataset in the Seaborn\n",
    "\n",
    "# Display the first and last five rows of the DataFrame\n",
    "titanic"
   ]
  },
  {
   "cell_type": "markdown",
   "metadata": {},
   "source": [
    "<p style=\"background-color:#FFFFFF; font-family:newtimeroman; color:blue; font-size:125%; text-align:left;\"><strong>👉 VARIABLE DESCRIPTIONS:</strong></p>\n",
    "\n",
    "- **survived** ==> Being survival or not (0=No; 1=Yes)\n",
    "- **pclass** ==> Passenger's Class (1=1st Class; 2=2nd Class; 3=3rd Class)\n",
    "- **name** ==> Passenger's Name\n",
    "- **sex** ==> Passenger's Gender\n",
    "- **age** ==> Passenger's Age\n",
    "- **sibsp** ==> The Number of Siblings/Spouses Aboard\n",
    "- **parch** ==> the Number of Parents/Children Aboard\n",
    "- **ticket** ==> Passenger's Ticket Number\n",
    "- **fare** ==> Passenger's Fare (British pound)\n",
    "- **who** ==> Being man or woman\n",
    "- **embarked** ==> The Port of Embarkation (C=Cherbourg; Q=Queenstown; S=Southampton)\n",
    "- **adult_male** ==> Being Adult Male or not (True=Adult Male; False=Not an Adult Male)\n",
    "- **alive** ==> Is Passenger Alive or not (No=Not Alive; Yes=Alive)\n",
    "- **alon**e ==> Being alone or not (False=Not Alone; True=Yes Alone)\n",
    "\n",
    "<p style=\"background-color:#FFFFFF; font-family:newtimeroman; color:#0000FF; font-size:110%; text-align:left;\"><strong>-----------------------------------------------------------------------------------------------------------------------------------------------------------------------------------------------</strong></p>\n"
   ]
  },
  {
   "cell_type": "markdown",
   "metadata": {
    "id": "uE4-0DeMy70Q"
   },
   "source": [
    "## <p style=\"background-color:#E51A59; font-family:newtimeroman; color:#FFF9ED; font-size:150%; text-align:CENTER; border-radius:10px 10px;\">CATPLOT</p>\n",
    "\n",
    "<a id=\"1\"></a>\n",
    "<a href=\"#toc\" class=\"btn btn-primary btn-sm\" role=\"button\" aria-pressed=\"true\" \n",
    "style=\"color:blue; background-color:#dfa8e4\" data-toggle=\"popover\">Content</a>\n",
    "\n",
    "There are many types of plots available in the Seaborn module. However, when working with categorical values, we may **need a constant method** to plot the data since **different plot functions work differently** (Remember ``CountPlot``, ``BarPlot``, ``ViolinPlot``, ``SwarmPlot``, ``BoxPlot``, ``BoxenPlot`` etc). This approach is not consistent with handling with the data. The ``catplot()`` function of this module is used to work with categorical data efficiently. This function was built to improve the **``factorplot()``** function in the recent versions of the Seaborn module. This new **``catplot``** function provides a **``new framework``** giving **``access to several types of plots``** that show **``relationship between numerical variable and one or more categorical variables``**.\n",
    "\n",
    "**``This function provides access to several axes-level functions``** that show the relationship between a numerical and one or more categorical variables using one of several visual representations. It allows us to **``work with categorical values efficiently``**, and we can plot the data into eight (8) different types of graphs specified by the **``kind``** parameter. The **``catplot()``** function returns a **``FacetGrid()``** type object so it can be utilized efficiently to plot graphs for **multiple features on the same figure**.\n",
    "\n",
    "\n",
    "\n",
    "<p style=\"background-color:#FFFFFF; font-family:newtimeroman; color:#FF0000; font-size:125%; text-align:left;\"><strong>🤔💭 What is FacetGrid Object in Seaborn❓</strong></p>\n",
    "\n",
    "\n",
    "**``FacetGrid``** object takes a DataFrame as input and the names of the variables that will form the **``row``**, **``column``**, or **``hue``** dimensions of the grid. The variables SHOULD be CATEGORICAL and the data at each level of the variable will be used for a **``facet along that axis``**.\n",
    "\n",
    "A **``FacetGrid``** can be drawn with up to **``three dimensions``** − **``row``**, **``col``**, and **``hue``**. This allows us to create a grid, on which we can **``map many other types of plots with minimal code``**, especially compared to using matplotlib. \n",
    "- The first two, **``row``** and **``col``**, have obvious correspondence with the resulting array of axes; \n",
    "- think of the **``hue``** variable as a **``third dimension along a depth axis``**, where different levels are plotted with different colors. \n",
    "\n",
    "So, the FacetGrid within Seaborn provides a very useful, fast and convenient way to **``create figures with multiple subplots``** compared to matplotlib.\n",
    "\n",
    "- 🧐 **[seaborn.catplot](https://seaborn.pydata.org/generated/seaborn.catplot.html)**<br>\n",
    "- 🧐 **[Visualizing categorical data](https://seaborn.pydata.org/tutorial/categorical.html)**<br>\n",
    "- 🧐 **[Catplot in Seaborn](https://www.delftstack.com/howto/seaborn/catplot-seaborn-python/)**<br>\n",
    "- 🧐 **[Catplot Python Seaborn: One Function to Rule All Plots With Categorical Variables](https://cmdlinetips.com/2019/03/catplot-in-seaborn-python/)**<br>\n",
    "- 🧐 **[Mastering catplot() in Seaborn: Categorical data visualization guide.](https://towardsdatascience.com/mastering-catplot-in-seaborn-categorical-data-visualization-guide-abab7b2067af)**<br>\n",
    "\n",
    "<p style=\"background-color:#FFFFFF; font-family:newtimeroman; color:#0000FF; font-size:110%; text-align:left;\"><strong>-----------------------------------------------------------------------------------------------------------------------------------------------------------------------------------------------</strong></p>\n",
    "\n",
    "<p style=\"background-color:#FFFFFF; font-family:newtimeroman; color:#FF0000; font-size:125%; text-align:left;\"><strong>🤔💭 Using catplot kind to create multiple categorical plots with Python Seaborn on YouTube:</strong></p>"
   ]
  },
  {
   "cell_type": "code",
   "execution_count": null,
   "metadata": {
    "scrolled": true
   },
   "outputs": [],
   "source": [
    "from IPython.display import YouTubeVideo\n",
    "\n",
    "# Embed the YouTube video\n",
    "YouTubeVideo('nBL6zEE6r-Q', width=800, height=500)"
   ]
  },
  {
   "cell_type": "markdown",
   "metadata": {},
   "source": [
    "<p style=\"background-color:#FFFFFF; font-family:newtimeroman; color:#0000FF; font-size:110%; text-align:left;\"><strong>-----------------------------------------------------------------------------------------------------------------------------------------------------------------------------------------------</strong></p>\n"
   ]
  },
  {
   "cell_type": "raw",
   "metadata": {},
   "source": [
    "sns.catplot(\n",
    "            *,\n",
    "            x=None,\n",
    "            y=None,\n",
    "            hue=None,\n",
    "            data=None,\n",
    "            row=None,\n",
    "            col=None,\n",
    "            col_wrap=None,\n",
    "            estimator=<function mean at 0x000001F6B2ED7160>,\n",
    "            ci=95,\n",
    "            n_boot=1000,\n",
    "            units=None,\n",
    "            seed=None,\n",
    "            order=None,\n",
    "            hue_order=None,\n",
    "            row_order=None,\n",
    "            col_order=None,\n",
    "            kind='strip',\n",
    "            height=5,\n",
    "            aspect=1,\n",
    "            orient=None,\n",
    "            color=None,\n",
    "            palette=None,\n",
    "            legend=True,\n",
    "            legend_out=True,\n",
    "            sharex=True,\n",
    "            sharey=True,\n",
    "            margin_titles=False,\n",
    "            facet_kws=None,\n",
    "            **kwargs,\n",
    "            )\n",
    "Docstring:\n",
    "Figure-level interface for drawing categorical plots onto a FacetGrid.\n",
    "\n",
    "This function provides access to several axes-level functions that show the relationship between a numerical and one or more categorical variables using one of several visual representations. The ``kind`` parameter selects the underlying axes-level function to use.\n",
    "\n",
    "Categorical scatterplots:\n",
    "\n",
    "- :func:`stripplot` (with ``kind=\"strip\"``; the default)\n",
    "- :func:`swarmplot` (with ``kind=\"swarm\"``)\n",
    "\n",
    "Categorical distribution plots:\n",
    "\n",
    "- :func:`boxplot` (with ``kind=\"box\"``)\n",
    "- :func:`violinplot` (with ``kind=\"violin\"``)\n",
    "- :func:`boxenplot` (with ``kind=\"boxen\"``)\n",
    "\n",
    "Categorical estimate plots:\n",
    "\n",
    "- :func:`pointplot` (with ``kind=\"point\"``)\n",
    "- :func:`barplot` (with ``kind=\"bar\"``)\n",
    "- :func:`countplot` (with ``kind=\"count\"``)\n",
    "\n",
    "Extra keyword arguments are passed to the underlying function, so you should refer to the documentation for each to see kind-specific options.\n",
    "\n",
    "Note that unlike when using the axes-level functions directly, data must be passed in a long-form DataFrame with variables specified by passing strings to ``x``, ``y``, ``hue``, etc.\n",
    "\n",
    "As in the case with the underlying plot functions, if variables have a ``categorical`` data type, the levels of the categorical variables, and their order will be inferred from the objects. Otherwise you may have to use alter the dataframe sorting or use the function parameters (``orient``, ``order``, ``hue_order``, etc.) to set up the plot correctly.\n",
    "\n",
    "This function always treats one of the variables as categorical and draws data at ordinal positions (0, 1, ... n) on the relevant axis, even when the data has a numeric or date type.\n",
    "\n",
    "See the :ref:`tutorial <categorical_tutorial>` for more information.    \n",
    "\n",
    "After plotting, the :class:`FacetGrid` with the plot is returned and can be used directly to tweak supporting plot details or add other layers.\n",
    "\n",
    "Parameters\n",
    "----------\n",
    "x, y, hue : names of variables in ``data``\n",
    "    Inputs for plotting long-form data. See examples for interpretation.        \n",
    "data : DataFrame\n",
    "    Long-form (tidy) dataset for plotting. Each column should correspond to a variable, and each row should correspond to an\n",
    "    observation.    \n",
    "row, col : names of variables in ``data``, optional\n",
    "    Categorical variables that will determine the faceting of the grid.\n",
    "col_wrap : int\n",
    "    \"Wrap\" the column variable at this width, so that the column facets span multiple rows. Incompatible with a ``row`` facet.   \n",
    "estimator : callable that maps vector -> scalar, optional\n",
    "    Statistical function to estimate within each categorical bin.\n",
    "ci : float or \"sd\" or None, optional\n",
    "    Size of confidence intervals to draw around estimated values.  If \"sd\", skip bootstrapping and draw the standard deviation\n",
    "    of the observations. If ``None``, no bootstrapping will be performed, and error bars will not be drawn.\n",
    "n_boot : int, optional\n",
    "    Number of bootstrap iterations to use when computing confidence intervals.\n",
    "units : name of variable in ``data`` or vector data, optional\n",
    "    Identifier of sampling units, which will be used to perform a multilevel bootstrap and account for repeated measures design.\n",
    "seed : int, numpy.random.Generator, or numpy.random.RandomState, optional\n",
    "    Seed or random number generator for reproducible bootstrapping.    \n",
    "order, hue_order : lists of strings, optional\n",
    "    Order to plot the categorical levels in, otherwise the levels are inferred from the data objects.        \n",
    "row_order, col_order : lists of strings, optional\n",
    "    Order to organize the rows and/or columns of the grid in, otherwise the orders are inferred from the data objects.\n",
    "kind : str, optional\n",
    "    The kind of plot to draw, corresponds to the name of a categorical axes-level plotting function. Options are: \"strip\",\n",
    "    \"swarm\", \"box\", \"violin\", \"boxen\", \"point\", \"bar\", or \"count\".\n",
    "height : scalar\n",
    "    Height (in inches) of each facet. See also: ``aspect``.    \n",
    "aspect : scalar\n",
    "    Aspect ratio of each facet, so that ``aspect * height`` gives the width\n",
    "    of each facet in inches.    \n",
    "orient : \"v\" | \"h\", optional\n",
    "    Orientation of the plot (vertical or horizontal). This is usually inferred based on the type of the input variables, but it\n",
    "    can be used to resolve ambiguity when both `x` and `y` are numeric or when plotting wide-form data.    \n",
    "color : matplotlib color, optional\n",
    "    Color for all of the elements, or seed for a gradient palette.    \n",
    "palette : palette name, list, or dict\n",
    "    Colors to use for the different levels of the ``hue`` variable. Should be something that can be interpreted by\n",
    "    :func:`color_palette`, or a dictionary mapping hue levels to matplotlib colors.    \n",
    "legend : bool, optional\n",
    "    If ``True`` and there is a ``hue`` variable, draw a legend on the plot.\n",
    "legend_out : bool\n",
    "    If ``True``, the figure size will be extended, and the legend will be\n",
    "    drawn outside the plot on the center right.    \n",
    "share{x,y} : bool, 'col', or 'row' optional\n",
    "    If true, the facets will share y axes across columns and/or x axes\n",
    "    across rows.    \n",
    "margin_titles : bool\n",
    "    If ``True``, the titles for the row variable are drawn to the right of the last column. This option is experimental and may\n",
    "    not work in all cases.    \n",
    "facet_kws : dict, optional\n",
    "    Dictionary of other keyword arguments to pass to :class:`FacetGrid`.\n",
    "kwargs : key, value pairings\n",
    "    Other keyword arguments are passed through to the underlying plotting function.\n",
    "\n",
    "Returns\n",
    "-------\n",
    "g : :class:`FacetGrid`\n",
    "    Returns the :class:`FacetGrid` object with the plot on it for further tweaking."
   ]
  },
  {
   "cell_type": "markdown",
   "metadata": {},
   "source": [
    "<p style=\"background-color:#FFFFFF; font-family:newtimeroman; color:#0000FF; font-size:110%; text-align:left;\"><strong>-----------------------------------------------------------------------------------------------------------------------------------------------------------------------------------------------</strong></p>\n"
   ]
  },
  {
   "cell_type": "markdown",
   "metadata": {},
   "source": [
    "### <p style=\"background-color:#E51A59; font-family:newtimeroman; color:#FFF9ED; font-size:150%; text-align:left; border-radius:10px 10px;\">\"kind\" Parameter</p>\n",
    "\n",
    "<a id=\"1.1\"></a>\n",
    "<a href=\"#toc\" class=\"btn btn-primary btn-sm\" role=\"button\" aria-pressed=\"true\" \n",
    "style=\"color:blue; background-color:#dfa8e4\" data-toggle=\"popover\">Content</a>\n",
    "\n",
    "<img src=https://i.ibb.co/jh5Lvt2/Capture14.png width=\"300\" height=\"200\">  \n",
    "\n"
   ]
  },
  {
   "cell_type": "markdown",
   "metadata": {},
   "source": [
    "\n",
    "<p style=\"background-color:#FFFFFF; font-family:newtimeroman; color:#FF0000; font-size:125%; text-align:left;\"><strong>🤔💭 Which library, which plot, when, & which feature tells what ❓</strong></p>\n",
    "\n",
    "\n",
    "**Before diving into the subject (Comparison, Matrix and Grid Plots) at Seaborn, let's remember plotting at ``Pandas``.**\n",
    "\n",
    "Python’s popular data analysis library, **[``Pandas``](https://pandas.pydata.org/about/)**, provides several different options for visualizing your data with **``.plot()``**, which make plots of **``Series``** or **``DataFrame``**. Even if we’re at the beginning of our Pandas journey, we’ll soon be creating basic plots that will yield valuable insights into our data **[Source: Plot With Pandas: Python Data Visualization for Beginners.](https://realpython.com/pandas-plot-python/)**\n",
    "\n",
    "<p style=\"background-color:#FFFFFF; font-family:newtimeroman; color:#0000FF; font-size:110%; text-align:left;\"><strong>-----------------------------------------------------------------------------------------------------------------------------------------------------------------------------------------------</strong></p>\n",
    "\n",
    "\n",
    "<p style=\"background-color:#FFFFFF; font-family:newtimeroman; color:green; font-size:125%; text-align:left;\"><strong>🔔 ``.plot()`` can be applied for whole DataFrame:</strong></p>\n",
    "\n",
    "<p style=\"background-color:#FFFFFF; font-family:newtimeroman; color:#0000FF; font-size:110%; text-align:left;\"><strong>-----------------------------------------------------------------------------------------------------------------------------------------------------------------------------------------------</strong></p>\n"
   ]
  },
  {
   "cell_type": "markdown",
   "metadata": {},
   "source": [
    "<p style=\"background-color:#FFFFFF; font-family:newtimeroman; color:#0000FF; font-size:125%; text-align:left;\"><strong>👉 Let's first remember plotting in Pandas (WHOLE DATAFRAME):</strong></p>\n",
    "\n",
    "\n",
    "\n",
    "**The code below creates a ``bar plot`` that shows the ``average fare for each passenger class`` (1st, 2nd, and 3rd) on the Titanic. Each bar represents the average fare for that class:**"
   ]
  },
  {
   "cell_type": "code",
   "execution_count": null,
   "metadata": {},
   "outputs": [],
   "source": [
    "# # Create a bar plot in Pandas \n",
    "\n",
    "titanic.plot.bar(x=\"pclass\", y=\"fare\");"
   ]
  },
  {
   "cell_type": "markdown",
   "metadata": {},
   "source": [
    "**``DataFrame``** is NOT the only class in Pandas with a **``.plot()``** method. As so often happens in Pandas, the **``Series``** object provides similar functionality.\n",
    "\n",
    "<p style=\"background-color:#FFFFFF; font-family:newtimeroman; color:#0000FF; font-size:110%; text-align:left;\"><strong>-----------------------------------------------------------------------------------------------------------------------------------------------------------------------------------------------</strong></p>\n",
    "\n",
    "<p style=\"background-color:#FFFFFF; font-family:newtimeroman; color:#0000FF; font-size:125%; text-align:left;\"><strong>👉 Let's remember plotting in Pandas (A SERIES):</strong></p>\n",
    "\n",
    "\n",
    "**We can get ``each column`` of a DataFrame as a Series object.** \n",
    "\n",
    "- The following code is intended to create a bar plot from a DataFrame called titanic, plotting the fare for each pclass."
   ]
  },
  {
   "cell_type": "code",
   "execution_count": null,
   "metadata": {},
   "outputs": [],
   "source": [
    "# # Create a bar plot in Pandas \n",
    "\n",
    "titanic[\"fare\"].plot.bar(x=\"pclass\");"
   ]
  },
  {
   "cell_type": "markdown",
   "metadata": {},
   "source": [
    "**As seen above the output is ``too intrigue to interpret``. So, for a better result and insight, it is necessary to take some action for getting underlying pattern by means of some other methods like groupby().**\n",
    "\n",
    "<p style=\"background-color:#FFFFFF; font-family:newtimeroman; color:red; font-size:125%; text-align:left;\">💥 If the plot includes multiple bars for the same category or if there are too many categories, it might lead to overcrowding, making it hard to distinguish between different bars.</p>\n",
    "\n",
    "If the output of our bar plot is described as \"too intriguing to interpret,\" it could be due to several factors. Here are **``some common reasons why a bar plot might be confusing or difficult to interpret``**:\n",
    "\n",
    "- 1. Data Aggregation:\n",
    "  - If the fare column is not aggregated appropriately (e.g., calculating the mean fare for each class), the plot might show individual fares rather than average fares, leading to misleading interpretations. Ensure you are plotting aggregated data.\n",
    "- 2. Outliers:\n",
    "  - Extreme values (outliers) in the fare data can skew the visualization, making it hard to see patterns among typical fares. If there are a few very high or low fares, they can distort the scale of the y-axis.\n",
    "- 3. Lack of Context:\n",
    "  - If the plot does not include context (like labels, titles, or legends), it can be difficult for viewers to understand what the data represents. Ensure that your plot includes clear titles and axis labels.\n",
    "- 4. Overlapping Bars:\n",
    "  - If the plot includes multiple bars for the same category or if there are too many categories, it might lead to overcrowding, making it hard to distinguish between different bars.\n",
    "- 5. Scaling Issues:\n",
    "If the fare data has a wide range (e.g., some fares are very low while others are very high), the y-axis scale may not be optimal, causing the bars to appear disproportionately sized.\n",
    "- 6. Color Choices:\n",
    "  - Poor color choices might make it hard to differentiate between bars or might clash, leading to visual confusion.\n",
    "\n",
    "<p style=\"background-color:#FFFFFF; font-family:newtimeroman; color:#0000FF; font-size:110%; text-align:left;\"><strong>-----------------------------------------------------------------------------------------------------------------------------------------------------------------------------------------------</strong></p>\n",
    "\n",
    "<p style=\"background-color:#FFFFFF; font-family:newtimeroman; color:#0000FF; font-size:125%; text-align:left;\"><strong>👉 Handling the MESSY & CONFUSING Visualization with PANDAS AND SEABORN:</strong></p>\n",
    "\n",
    "\n",
    "- **Solutions:**\n",
    "  - **``Data Aggregation``**: Use methods like **``.groupby()``** and **``.mean()``** to compute the average fare for each passenger class before p\n",
    "    - avg_fare = titanic.groupby('pclass')['fare'].mean().reset_index()\n",
    "    - avg_fare.plot.bar(x='pclass', y='fare')\n",
    "  - **``Handle Outliers``**: Consider removing or adjusting outliers to improve clarity.\n",
    "  - **``Add More Context``**: Ensure that titles, labels, and legends are included.\n",
    "  - **``Adjust Scaling``**: Set appropriate limits for the y-axis if necessary.\n",
    "  - **``Choose Colors Wisely``**: Use a color palette that enhances readability."
   ]
  },
  {
   "cell_type": "code",
   "execution_count": null,
   "metadata": {},
   "outputs": [],
   "source": [
    "# The first approach to get Bar Plot via Pandas\n",
    "\n",
    "# titanic.groupby(\"pclass\")[\"fare\"].mean().plot.bar(x=\"pclass\", y=\"fare\");\n",
    "# Group by passenger class and calculate the average fare\n",
    "titanic.groupby(\"pclass\")[\"fare\"].mean().plot.bar()  # Pandas plotting\n",
    "\n",
    "# Rotate x-tick labels for better visibility\n",
    "plt.xticks(rotation=0);\n",
    "\n",
    "##################################################################################\n",
    "\n",
    "# # In Seaborn, we do NOT need to apply groupby() method for plotting\n",
    "# sns.barplot(data= titanic, x=\"pclass\", y=\"fare\");"
   ]
  },
  {
   "cell_type": "markdown",
   "metadata": {},
   "source": [
    "<p style=\"background-color:#FFFFFF; font-family:newtimeroman; color:#0000FF; font-size:110%; text-align:left;\"><strong>-----------------------------------------------------------------------------------------------------------------------------------------------------------------------------------------------</strong></p>\n",
    "\n",
    "**The code below creates a ``bar plot of the average fare grouped by passenger class (pclass)``.**\n",
    "- ``However, the plot method does NOT accept x and y parameters when using groupby``. Instead, we should call plot directly on the result of the groupby operation:**"
   ]
  },
  {
   "cell_type": "code",
   "execution_count": null,
   "metadata": {},
   "outputs": [],
   "source": [
    "# The second approach to get Bar Plot via Pandas\n",
    "\n",
    "# Group by passenger class and calculate the average fare then create a bar plot \n",
    "titanic.groupby(\"pclass\")[\"fare\"].mean().plot(x=\"pclass\", y=\"fare\", kind=\"bar\")\n",
    "# titanic.groupby(\"pclass\")[\"fare\"].mean().plot(kind=\"bar\")\n",
    "\n",
    "# Rotate x-tick labels for better visibility\n",
    "plt.xticks(rotation=0);"
   ]
  },
  {
   "cell_type": "markdown",
   "metadata": {},
   "source": [
    "<p style=\"background-color:#FFFFFF; font-family:newtimeroman; color:#0000FF; font-size:125%; text-align:left;\"><strong>👉 WRAP UP:</strong></p>\n",
    "\n",
    "\n",
    "When visualizing data in Python, the **``choice of library``** and **``plot type``** depends on the **``nature of the data``** and the insights we wish to convey. Matplotlib is a versatile library suitable for creating a wide range of static, interactive, and animated plots, while Seaborn builds on Matplotlib to provide a high-level interface for drawing attractive statistical graphics. \n",
    "- For categorical data comparisons, a bar plot (using Seaborn or Matplotlib) effectively illustrates differences in means or counts across categories, such as average fares by passenger class in the Titanic dataset. \n",
    "- Alternatively, a box plot can reveal the distribution, central tendency, and potential outliers within each category. \n",
    "- For continuous data distributions, a histogram with a kernel density estimate (KDE) can effectively showcase the frequency distribution and underlying density of the data. \n",
    "\n",
    "Ultimately, the **``library and plot type should be chosen based on the specific features``** we want to highlight—be it relationships, distributions, or comparisons—ensuring clarity and insight in your visual representations.\n",
    "\n",
    "\n",
    "\n",
    "<p style=\"background-color:#FFFFFF; font-family:newtimeroman; color:#0000FF; font-size:110%; text-align:left;\"><strong>-----------------------------------------------------------------------------------------------------------------------------------------------------------------------------------------------</strong></p>\n",
    "\n",
    "\n"
   ]
  },
  {
   "cell_type": "markdown",
   "metadata": {},
   "source": [
    "### <p style=\"background-color:#FFFFFF; font-family:newtimeroman; color:#0000FF; font-size:125%; text-align:left;\"><strong>👉 Let us remember how to annotate:</strong></p>\n",
    "\n",
    "\n",
    "- #### 👉``The first method to annotate the values of each Bar  using annotate() method:``\n",
    "\n",
    "**The code creates a bar plot showing the count of survivors by passenger class (pclass) in the Titanic dataset, with annotations for each bar indicating the count.**"
   ]
  },
  {
   "cell_type": "code",
   "execution_count": null,
   "metadata": {},
   "outputs": [],
   "source": [
    "# The first method to annotate the values of each Bar  using annotate() method:\n",
    "\n",
    "# Create a figure and axis by a default figure size of 6*4\n",
    "fig, ax = plt.subplots()\n",
    "\n",
    "# Group by passenger class and count the number of survivors then create a bar plot\n",
    "ax = titanic.groupby(\"pclass\", sort=False)[\"survived\"].count().plot(x='pclass', y=\"survived\", kind=\"bar\")\n",
    "\n",
    "# Rotate x-tick labels for horizontal visibility\n",
    "plt.xticks(rotation=0)\n",
    "\n",
    "# Annotate each bar with the count\n",
    "for p in ax.patches:\n",
    "    ax.annotate((p.get_height()), (p.get_x()+0.2, p.get_height()+2));\n",
    "    \n",
    "# The loop iterates over each bar (p) and annotates it with its height (count) positioned slightly above the bar."
   ]
  },
  {
   "cell_type": "markdown",
   "metadata": {},
   "source": [
    "\n",
    "\n",
    "<p style=\"background-color:#FFFFFF; font-family:newtimeroman; color:#0000FF; font-size:110%; text-align:left;\"><strong>-----------------------------------------------------------------------------------------------------------------------------------------------------------------------------------------------</strong></p>\n",
    "\n",
    "\n",
    "- #### 👉``The second method to annotate using enumerate() and text() methods:``\n",
    "\n",
    "**The code snippet below counts the number of passengers in each passenger class (pclass) of the Titanic dataset and creates a count plot using Seaborn. It also annotates the bars with the corresponding counts:** "
   ]
  },
  {
   "cell_type": "code",
   "execution_count": null,
   "metadata": {},
   "outputs": [],
   "source": [
    "# The second method to annotate the values of each Bar using enumerate() and text() methods:\n",
    "\n",
    "# Count the number of passengers in each class\n",
    "pclass = titanic[\"pclass\"].value_counts()\n",
    "\n",
    "# Create a figure and axis by a default figure size of 6*4\n",
    "fig, ax = plt.subplots()\n",
    "\n",
    "# Create a count plot for passenger class then create a count plot\n",
    "ax = sns.countplot(x='pclass', data=titanic, order=pclass.index)\n",
    "\n",
    "# Annotate each bar with the count\n",
    "for index, value in enumerate(pclass.values):\n",
    "    plt.text(index, value, str(value))\n",
    "    \n",
    "# The loop iterates over each index and value in pclass.values, placing text annotations above each bar. \n",
    "# The ha='center' and va='bottom' parameters ensure the text is centered above the bars."
   ]
  },
  {
   "cell_type": "markdown",
   "metadata": {},
   "source": [
    "\n",
    "\n",
    "<p style=\"background-color:#FFFFFF; font-family:newtimeroman; color:#0000FF; font-size:110%; text-align:left;\"><strong>-----------------------------------------------------------------------------------------------------------------------------------------------------------------------------------------------</strong></p>\n",
    "\n",
    "\n",
    "- #### 👉``The third method to annotate using containers attribute anf bar_label() method:``\n",
    "\n",
    "**The code below creates a bar plot showing the count of passengers by passenger class (pclass) from the Titanic dataset, along with annotations for each bar indicating the count.** \n",
    "\n",
    "The ``ax.bar_label()`` method is ``one of the most convenient way`` to add labels directly on the bars. "
   ]
  },
  {
   "cell_type": "code",
   "execution_count": null,
   "metadata": {},
   "outputs": [],
   "source": [
    "# The third method to annotate the values of each Bar using containers attribute anf bar_label() method:\n",
    "\n",
    "# Create a figure and axis by a default figure size of 6*4\n",
    "fig, ax = plt.subplots()\n",
    "\n",
    "# Group by passenger class and count the number of passengers then create a bar plot\n",
    "ax = titanic.groupby(\"pclass\")[\"survived\"].count().plot(x='pclass', y=\"survived\", kind=\"bar\")\n",
    "\n",
    "# Rotate x-tick labels for better visibility\n",
    "plt.xticks(rotation=0)\n",
    "\n",
    "# Annotate each bar with the count\n",
    "for container in ax.containers:\n",
    "    ax.bar_label(container)"
   ]
  },
  {
   "cell_type": "markdown",
   "metadata": {},
   "source": [
    "When we use the code snippet above, the bar plot created is intended to show the total number of passengers for each passenger class (pclass). However, the way we're using the .groupby() and .count() functions in the code results in the bars representing the total count of passengers in each class, **``NOT distinguishing between those who survived and those who did NOT``**.\n",
    "\n",
    "If we see that the **``first bar``** shows the **``total number of deceased passengers``** instead of the number of survivors, it’s likely due to the **``misunderstanding of what the count represents``**. The count is of all passengers in that class, NOT just those who survived.\n",
    "\n",
    "\n",
    "<p style=\"background-color:#FFFFFF; font-family:newtimeroman; color:#0000FF; font-size:110%; text-align:left;\"><strong>-----------------------------------------------------------------------------------------------------------------------------------------------------------------------------------------------</strong></p>\n",
    "\n",
    "### <p style=\"background-color:#FFFFFF; font-family:newtimeroman; color:#FF0000; font-size:125%; text-align:left;\"><strong>🛑 👉 WATCH OUT: What are these numbers above❓ What do they represent ❓ 👈 🛑</strong></p>\n",
    "\n",
    "\n",
    "\n",
    "**The \"survived\" feature reports if a traveler ``lived`` or ``died``. This number given by the output above includes ``all people of \"survived\" represented by \"1\" and \"not survived\" represented by \"0\"``.**\n",
    "- For example, the total number of 216 at \"pclass 1\" of barplot includes all \"survived\" (136) and \"not survived\" (80) people. 🤔💭 Is this what intended?\n",
    "\n",
    "**Let us check what these numbers represent in reality.**"
   ]
  },
  {
   "cell_type": "code",
   "execution_count": null,
   "metadata": {},
   "outputs": [],
   "source": [
    "display(titanic.groupby(\"pclass\")[\"survived\"].value_counts(dropna=True))\n",
    "\n",
    "print(f\"The number of passengers survived in class-1.................... : {136}\")\n",
    "print(f\"The number of passengers not survived in class-1.................: {80}\")\n",
    "print(f\"The number of all passengers (survided & nor survived) in class-1: {136+80}\")"
   ]
  },
  {
   "cell_type": "markdown",
   "metadata": {},
   "source": [
    "<p style=\"background-color:#FFFFFF; font-family:newtimeroman; color:#0000FF; font-size:110%; text-align:left;\"><strong>-----------------------------------------------------------------------------------------------------------------------------------------------------------------------------------------------</strong></p>\n",
    "\n",
    "\n",
    "The numbers we've referred to represent the counts of passengers in different classes (pclass) on the Titanic and their survival status. The \"survived\" feature indicates whether a passenger survived (1) or did not survive (0).\n",
    "\n",
    "In our case, the total number of 216 for \"pclass 1\" consists of:\n",
    "\n",
    "- 136 passengers who survived (represented by 1)\n",
    "- 80 passengers who did not survive (represented by 0)\n",
    "\n",
    "This indicates that the total count for passengers in first class includes both those who survived and those who did not, correctly reflecting the overall number of passengers in that category.\n",
    "\n",
    "The output from display(titanic.groupby(\"pclass\")[\"survived\"].value_counts(dropna=True)) confirms this breakdown, showing the counts of survivors and non-survivors for each passenger class. Here’s the interpretation:\n",
    "\n",
    "- For pclass 1:\n",
    "  - Survived (1): 136\n",
    "  - Not Survived (0): 80\n",
    "  - Total: 136 + 80 = 216\n",
    "\n",
    "This breakdown is indeed intended and useful for understanding the survival rates across different classes. By checking these numbers, you can validate the accuracy of your bar plot or any analysis related to survival based on passenger class, ensuring that it reflects the reality of the dataset accurately.\n",
    "\n",
    "Summary:\n",
    "- The displayed counts provide a clear overview of the survival status among passengers in each class, allowing for deeper insights into the relationship between passenger class and survival rates on the Titanic.\n",
    "\n",
    "\n",
    "<p style=\"background-color:#FFFFFF; font-family:newtimeroman; color:#0000FF; font-size:110%; text-align:left;\"><strong>-----------------------------------------------------------------------------------------------------------------------------------------------------------------------------------------------</strong></p>\n",
    "\n",
    "<p style=\"background-color:#FFFFFF; font-family:newtimeroman; color:#0000FF; font-size:125%; text-align:left;\"><strong>👉 Correcting the Code:</strong></p>\n",
    "\n",
    "- If we want to create a bar plot that shows **``only the number of survivors for each class``**, we should change our grouping and counting method to focus on the survived column specifically:\n",
    "\n",
    "<p style=\"background-color:#FFFFFF; font-family:newtimeroman; color:#0000FF; font-size:110%; text-align:left;\"><strong>-----------------------------------------------------------------------------------------------------------------------------------------------------------------------------------------------</strong></p>\n",
    "\n",
    "\n",
    "**Let us just focus on ``people who survived`` under \"survived\" feature/column:**"
   ]
  },
  {
   "cell_type": "code",
   "execution_count": null,
   "metadata": {},
   "outputs": [],
   "source": [
    "display(titanic.shape)\n",
    "\n",
    "print(f\"The number of all passengers in Titanic Dataset: {80+97+372+136+87+119}\")"
   ]
  },
  {
   "cell_type": "markdown",
   "metadata": {},
   "source": [
    "\n",
    "\n",
    "<p style=\"background-color:#FFFFFF; font-family:newtimeroman; color:#0000FF; font-size:110%; text-align:left;\"><strong>-----------------------------------------------------------------------------------------------------------------------------------------------------------------------------------------------</strong></p>\n",
    "\n",
    "**The following code snippet counts the ``total number of passengers who did NOT survive`` on the Titanic.**"
   ]
  },
  {
   "cell_type": "code",
   "execution_count": null,
   "metadata": {},
   "outputs": [],
   "source": [
    "print(len(titanic[titanic[\"survived\"]==0]))\n",
    "\n",
    "# This is the total number of people who are NOT survived\n",
    "80+97+372"
   ]
  },
  {
   "cell_type": "markdown",
   "metadata": {},
   "source": [
    "\n",
    "\n",
    "<p style=\"background-color:#FFFFFF; font-family:newtimeroman; color:#0000FF; font-size:110%; text-align:left;\"><strong>-----------------------------------------------------------------------------------------------------------------------------------------------------------------------------------------------</strong></p>\n",
    "\n",
    "**The following code snippet counts the ``total number of passengers who survived`` on the Titanic.**"
   ]
  },
  {
   "cell_type": "code",
   "execution_count": null,
   "metadata": {},
   "outputs": [],
   "source": [
    "print(len(titanic[titanic[\"survived\"]==1]))\n",
    "\n",
    "# This is the total number of people who are survived\n",
    "136+87+119"
   ]
  },
  {
   "cell_type": "markdown",
   "metadata": {},
   "source": [
    "This manual calculation represents the sum of the number of surviving non-surviving passengers:\n",
    "- 549: Non-surviving passengers\n",
    "- 342: Non-surviving passengers\n",
    "\n",
    "<p style=\"background-color:#FFFFFF; font-family:newtimeroman; color:#0000FF; font-size:110%; text-align:left;\"><strong>-----------------------------------------------------------------------------------------------------------------------------------------------------------------------------------------------</strong></p>\n",
    "\n",
    "\n",
    "**The code snippet below filters the Titanic dataset to include ``only the rows where passengers survived``:**"
   ]
  },
  {
   "cell_type": "code",
   "execution_count": null,
   "metadata": {},
   "outputs": [],
   "source": [
    "# Let's see each observation one by one who survided and assign them to a new DataFrame named \"survived\"\n",
    "\n",
    "survived = titanic[titanic[\"survived\"]==1]\n",
    "\n",
    "survived"
   ]
  },
  {
   "cell_type": "markdown",
   "metadata": {},
   "source": [
    "Filtering the Titanic dataset in this way allows us to **``focus on a specific group (survivors)``** for further analysis, making it easier to draw insights about survival patterns and factors associated with survival on the Titanic.\n",
    "\n",
    "\n",
    "\n",
    "**Filtering the DataFrame:**\n",
    "- **``titanic[\"survived\"] == 1``**: This condition checks for rows where the survived column is equal to 1, indicating that those passengers survived.\n",
    "- **``titanic[...]``**: This syntax filters the original titanic DataFrame to include only the rows that meet the condition (i.e., where passengers survived).\n",
    "\n",
    "<p style=\"background-color:#FFFFFF; font-family:newtimeroman; color:#0000FF; font-size:110%; text-align:left;\"><strong>-----------------------------------------------------------------------------------------------------------------------------------------------------------------------------------------------</strong></p>\n",
    "\n",
    "\n",
    "**The code snippet below creates a ``bar plot`` showing the ``count of survivors grouped by passenger class (pclass)`` from the Titanic dataset.**\n",
    "- It also annotates the bars with their counts using **``ax.bar_label(container)``**."
   ]
  },
  {
   "cell_type": "code",
   "execution_count": null,
   "metadata": {},
   "outputs": [],
   "source": [
    "# Group by passenger class and count the number of survivors then create a bar plot\n",
    "ax = survived.groupby(\"pclass\")[\"survived\"].count().plot(x='pclass', y=\"survived\", kind=\"bar\")\n",
    "\n",
    "# Annotate each bar with their counts\n",
    "for container in ax.containers:\n",
    "    ax.bar_label(container)\n",
    "    \n",
    "# The loop iterates over each container in ax.containers and adds bar labels directly on top of each bar."
   ]
  },
  {
   "cell_type": "markdown",
   "metadata": {},
   "source": [
    "If we’re starting off with Python visualization, we may be overwhelmed with the number of libraries and examples and the following questions come to our mind:\n",
    "\n",
    "**Which one should I pick? OR What is each graph/library for? OR Which library gives the best solution/outcome/figure to your problem/task?**\n",
    "\n",
    "The goal of data visualization is to communicate data or information clearly and effectively to readers. ``Some libraries might be better in specific cases`` than the others, ``each library has pros and cons`` and ``some are more popular`` and widely-used python data visualization libraries than. However, the most important thing as mentioned above is that you have to know what you are exploring/analyzing and the ``advantages and disadvantages of each type of chart/library!``\n",
    "\n",
    "\n",
    "- 🧐 **[Data Visualization](https://mayan1015.medium.com/part-iii-data-visualization-2d0a4656b44d)**<br>\n",
    "- 🧐 **[5 Must Try Awesome Python Data Visualization Libraries](https://www.kdnuggets.com/2021/09/5-awesome-data-visualization-libraries-python.html)**<br>\n",
    "- 🧐 **[Top 6 Python Libraries for Visualization: Which one to Use?](https://towardsdatascience.com/top-6-python-libraries-for-visualization-which-one-to-use-fe43381cd658)**<br>\n",
    "- 🧐 **[7 Best Python Data Visualization Libraries](https://www.techgeekbuzz.com/best-python-data-visualization-libraries/)**<br>\n",
    "\n",
    "\n",
    "\n",
    "<p style=\"background-color:#FFFFFF; font-family:newtimeroman; color:#0000FF; font-size:110%; text-align:left;\"><strong>-----------------------------------------------------------------------------------------------------------------------------------------------------------------------------------------------</strong></p>\n",
    "\n",
    "### <p style=\"background-color:#FFFFFF; font-family:newtimeroman; color:blue; font-size:115%; text-align:left;\"><strong>🤔💭 Let us remember our BarPlot in Seaborn (Does it give the CORRECT Output?</strong></p>\n",
    "\n",
    "\n",
    "<p style=\"background-color:#FFFFFF; font-family:newtimeroman; color:#0000FF; font-size:110%; text-align:left;\"><strong>-----------------------------------------------------------------------------------------------------------------------------------------------------------------------------------------------</strong></p>"
   ]
  },
  {
   "cell_type": "markdown",
   "metadata": {},
   "source": [
    "<p style=\"background-color:#FFFFFF; font-family:newtimeroman; color:#0000FF; font-size:125%; text-align:left;\"><strong>👉 Creating a Basic BAR Plot in Seaborn:</strong></p>\n",
    "\n",
    "**The code snippet below ``calculates`` and visualizes the ``average survival rate of passengers`` on the Titanic by passenger class (pclass).**"
   ]
  },
  {
   "cell_type": "code",
   "execution_count": null,
   "metadata": {},
   "outputs": [],
   "source": [
    "# Basic Style\n",
    "\n",
    "# Display the average survived by pclass\n",
    "display(titanic.groupby(\"pclass\")[\"survived\"].mean())\n",
    "\n",
    "# Create a bar plot\n",
    "sns.barplot(x=\"pclass\", y=\"survived\", data=titanic);"
   ]
  },
  {
   "cell_type": "markdown",
   "metadata": {},
   "source": [
    "This code snippet effectively calculates the average survival rates by passenger class and visualizes the results in a bar plot. This analysis is essential for exploring how survival chances varied among different groups of passengers on the Titanic.\n",
    "\n",
    "\n",
    "\n",
    "<p style=\"background-color:#FFFFFF; font-family:newtimeroman; color:#0000FF; font-size:110%; text-align:left;\"><strong>-----------------------------------------------------------------------------------------------------------------------------------------------------------------------------------------------</strong></p>\n",
    "\n",
    "<p style=\"background-color:#FFFFFF; font-family:newtimeroman; color:#0000FF; font-size:125%; text-align:left;\"><strong>👉 Annotating the BAR Plot in Seaborn:</strong></p>\n",
    "\n",
    "\n",
    "#### <p style=\"background-color:#FFFFFF; font-family:newtimeroman; color:#FF0000; font-size:125%; text-align:left;\"><strong>🤔💭 How to annotate?❓</strong></p>\n",
    "\n",
    "\n",
    "**The code snippet below ``calculates`` and visualizes the ``average survival rate of passengers`` on the Titanic by passenger class (pclass) and annotates the labels of each bar.**"
   ]
  },
  {
   "cell_type": "code",
   "execution_count": null,
   "metadata": {},
   "outputs": [],
   "source": [
    "# Display the average survived by pclass\n",
    "display(titanic.groupby(\"pclass\")[\"survived\"].mean())\n",
    "\n",
    "# Create a bar plot\n",
    "ax = sns.barplot(x=\"pclass\", y=\"survived\", data=titanic)\n",
    "\n",
    "# Annotate each bar with the average total bill\n",
    "for container in ax.containers:\n",
    "    ax.bar_label(container, label_type=\"center\", color=\"white\", fontsize=14)    \n",
    "    \n",
    "# The loop iterates over each container in ax.containers and adds labels to each bar. \n",
    "# The label_type=\"center\" places the label in the center of each bar, while color=\"white\" sets the label color, and fontsize=14 adjusts the font size."
   ]
  },
  {
   "cell_type": "markdown",
   "metadata": {},
   "source": [
    "By executing this code, we achieve two main outcomes: \n",
    "- First, we calculate and display the **``average survival rate of passengers on the Titanic by passenger class (pclass)``**, and \n",
    "- Second, we create a visually appealing bar plot that allows for easy comparison of average survival rate of passengers by passenger class. \n",
    "- The annotations on the bars enhance the plot's readability, providing immediate insight into the average amounts without needing to refer back to the displayed table. This approach is effective for exploratory data analysis and presentations.\n",
    "\n",
    "<p style=\"background-color:#FFFFFF; font-family:newtimeroman; color:#0000FF; font-size:110%; text-align:left;\"><strong>-----------------------------------------------------------------------------------------------------------------------------------------------------------------------------------------------</strong></p>\n",
    "\n",
    "### <p style=\"background-color:#FFFFFF; font-family:newtimeroman; color:#FF0000; font-size:115%; text-align:left;\"><strong>🤔💭 Let us remember our CountPlot at Seaborn:</strong></p>\n",
    "\n",
    "<p style=\"background-color:#FFFFFF; font-family:newtimeroman; color:#0000FF; font-size:110%; text-align:left;\"><strong>-----------------------------------------------------------------------------------------------------------------------------------------------------------------------------------------------</strong></p>\n"
   ]
  },
  {
   "cell_type": "markdown",
   "metadata": {},
   "source": [
    "<p style=\"background-color:#FFFFFF; font-family:newtimeroman; color:#0000FF; font-size:125%; text-align:left;\"><strong>👉 Creating a COUNT Plot in Seaborn:</strong></p>\n",
    "\n",
    "**The code snippet creates a ``count plot`` of the ``number of entries for each passenger class`` (``all passengers in each class including survived and non-survived``) in the Titanic dataset using Seaborn's countplot function. Additionally, it annotates each bar with the count of entries:**"
   ]
  },
  {
   "cell_type": "code",
   "execution_count": null,
   "metadata": {},
   "outputs": [],
   "source": [
    "# Basic Style\n",
    "\n",
    "plt.figure(figsize=(9, 5))\n",
    "\n",
    "# Display the average survived by pclass\n",
    "display(titanic.groupby(\"pclass\")[\"survived\"].count())\n",
    "\n",
    "# Create a bar plot\n",
    "ax = sns.countplot(x=\"pclass\", data=titanic);\n",
    "\n",
    "# Annotate each bar with the average total bill\n",
    "for container in ax.containers:\n",
    "    ax.bar_label(container, label_type=\"center\", color=\"white\", fontsize=14)\n",
    "# The loop iterates over each container in ax.containers and adds labels to each bar. \n",
    "# The ax.bar_label(container) function places the count directly on top of each bar."
   ]
  },
  {
   "cell_type": "markdown",
   "metadata": {},
   "source": [
    "By executing this code, we generate a count plot that clearly shows the **``number of passengers by class``** on the Titanic. The bars visually represent the number of survived and non-survived, while the annotations on top of each bar provide precise counts, enhancing the plot's readability and effectiveness for analysis. This type of visualization is particularly useful for quickly understanding the composition of categorical data. If we want to analyze survival rates, we might consider modifying the **``hue``** to **``differentiate survivors from non-survivors``** in a similar count plot.\n",
    "\n",
    "<p style=\"background-color:#FFFFFF; font-family:newtimeroman; color:#0000FF; font-size:110%; text-align:left;\"><strong>-----------------------------------------------------------------------------------------------------------------------------------------------------------------------------------------------</strong></p>\n",
    "\n",
    "<p style=\"background-color:#FFFFFF; font-family:newtimeroman; color:#0000FF; font-size:125%; text-align:left;\"><strong>👉 Customizing the COUNT Plot with HUE in Seaborn:</strong></p>\n",
    "\n",
    "\n",
    "**The following code snippet creates a count plot that visualizes the ``number of survivors`` by ``passenger class (pclass)`` using Seaborn's countplot.**\n",
    "- A count plot will show the total counts of passengers who **``survived``** and did **``NOT survive``** for **``each class``**, rather than the average survival rate."
   ]
  },
  {
   "cell_type": "code",
   "execution_count": null,
   "metadata": {},
   "outputs": [],
   "source": [
    "plt.figure(figsize=(9, 5))\n",
    "\n",
    "# Create a count plot for survival by passenger class\n",
    "ax = sns.countplot(x=\"pclass\", hue=\"survived\", data=titanic)\n",
    "\n",
    "# Annotate each bar with the count\n",
    "for container in ax.containers:\n",
    "    ax.bar_label(container)\n",
    "# The loop iterates over each container in ax.containers and adds labels to each bar. \n",
    "# The ax.bar_label(container) function places the count directly on top of each bar.\n",
    "\n",
    "# Customize the plot\n",
    "plt.title('Passenger Survival Count by Class')\n",
    "plt.xlabel('Passenger Class')\n",
    "plt.ylabel('Number of Passengers')\n",
    "plt.legend(title='Survived', labels=['No', 'Yes'])\n",
    "\n",
    "# Show the plot\n",
    "plt.show()"
   ]
  },
  {
   "cell_type": "markdown",
   "metadata": {},
   "source": [
    "This code provides a clear visual representation of the **``survival count among different passenger classes``** on the Titanic. Each bar segmented by survival status allows for easy comparison of **``how survival rates varied among classes``**. The annotations on the bars enhance the plot's clarity, making it straightforward to interpret the data. This type of visualization is invaluable for understanding patterns in survival and can inform further analysis of factors influencing survival rates.\n",
    "\n",
    "\n",
    "<p style=\"background-color:#FFFFFF; font-family:newtimeroman; color:#0000FF; font-size:110%; text-align:left;\"><strong>-----------------------------------------------------------------------------------------------------------------------------------------------------------------------------------------------</strong></p>\n",
    "\n",
    "\n",
    "<p style=\"background-color:#FFFFFF; font-family:newtimeroman; color:#0000FF; font-size:125%; text-align:left;\"><strong>👉 Time to Explore Catplot():</strong></p>\n",
    "\n",
    "\n",
    "Having remembered the **``barplot``** and **``countplot``** at Seaborn, let us come back to our \"titanic\" dataset again and learn how to use **``catplot()``** in Seaborn."
   ]
  },
  {
   "cell_type": "markdown",
   "metadata": {},
   "source": [
    "\n",
    "\n",
    "<p style=\"background-color:#FFFFFF; font-family:newtimeroman; color:#0000FF; font-size:110%; text-align:left;\"><strong>-----------------------------------------------------------------------------------------------------------------------------------------------------------------------------------------------</strong></p>\n",
    "\n",
    "<p style=\"background-color:#FFFFFF; font-family:newtimeroman; color:#0000FF; font-size:125%; text-align:left;\"><strong>👉 Creating a CATPLOT in Seaborn:</strong></p>\n",
    "\n",
    "\n",
    "**The code snippet below is intended to create a ``categorical plot (catplot)`` that shows the ``count of survivors by passenger class (pclass)`` in the Titanic dataset.** "
   ]
  },
  {
   "cell_type": "code",
   "execution_count": null,
   "metadata": {},
   "outputs": [],
   "source": [
    "# Basic Style\n",
    "\n",
    "# \"estimator\" params (np.mean, np.median, np.sum, np.max, np.min, np.count_nonzero)\n",
    "\n",
    "# Create a categorical plot to show the count of survivors by passenger class\n",
    "sns.catplot(x='pclass', y=\"survived\", data=titanic, kind=\"bar\", estimator=np.count_nonzero);  # DEFAULT estimator='mean'"
   ]
  },
  {
   "cell_type": "markdown",
   "metadata": {},
   "source": [
    "\n",
    "\n",
    "<p style=\"background-color:#FFFFFF; font-family:newtimeroman; color:#0000FF; font-size:110%; text-align:left;\"><strong>-----------------------------------------------------------------------------------------------------------------------------------------------------------------------------------------------</strong></p>\n",
    "\n",
    "<p style=\"background-color:#FFFFFF; font-family:newtimeroman; color:#0000FF; font-size:125%; text-align:left;\"><strong>👉 Customizing the CATPLOT in Seaborn:</strong></p>\n",
    "\n",
    "\n",
    "**However, to count the number of survivors, we should use a different estimator since ``np.count_nonzero`` may NOT directly apply in some cases. Instead, we can use the default estimator to count occurrences or explicitly count the number of survivors.**"
   ]
  },
  {
   "cell_type": "code",
   "execution_count": null,
   "metadata": {},
   "outputs": [],
   "source": [
    "sns.catplot(x='pclass', y=\"survived\", data=titanic, kind=\"bar\", estimator=lambda x: np.sum(x), errorbar=None);\n",
    "\n",
    "# The estimator=lambda x: np.sum(x) counts the number of survivors (where survived is 1)\n",
    "# errorbar=None: Disables error bars on the bars"
   ]
  },
  {
   "cell_type": "markdown",
   "metadata": {},
   "source": [
    "\n",
    "\n",
    "<p style=\"background-color:#FFFFFF; font-family:newtimeroman; color:#0000FF; font-size:110%; text-align:left;\"><strong>-----------------------------------------------------------------------------------------------------------------------------------------------------------------------------------------------</strong></p>\n",
    "\n",
    "<p style=\"background-color:#FFFFFF; font-family:newtimeroman; color:#FF0000; font-size:125%; text-align:left;\"><strong>🤔💭 What happened to our some \"spines\"❓</strong></p>\n",
    "\n",
    "\n",
    "<p style=\"text-align: center;\"><img src=\"https://i.ibb.co/xjVCxdM/anatomy-of-a-figure.png\" width=\"500\" height=\"100\" class=\"img-fluid\" alt=\"Anatomy of a figure\"></p>\n",
    "\n",
    "**🧐 [Source of Anatomy of a Figure](https://matplotlib.org/3.5.0/gallery/showcase/anatomy.html)**"
   ]
  },
  {
   "cell_type": "markdown",
   "metadata": {},
   "source": [
    "\n",
    "\n",
    "<p style=\"background-color:#FFFFFF; font-family:newtimeroman; color:#0000FF; font-size:110%; text-align:left;\"><strong>-----------------------------------------------------------------------------------------------------------------------------------------------------------------------------------------------</strong></p>\n",
    "\n",
    "<p style=\"background-color:#FFFFFF; font-family:newtimeroman; color:#0000FF; font-size:125%; text-align:left;\"><strong>👉 Creating a FACETGRID in Seaborn:</strong></p>\n",
    "\n",
    "\n",
    "**The sns.FacetGrid function in Seaborn is a powerful tool for creating ``multi-panel plots``, allowing us to visualize the relationship between multiple variables in your dataset. It enables us to ``create a grid of plots`` based on the values of one or more categorical variables.**"
   ]
  },
  {
   "cell_type": "code",
   "execution_count": null,
   "metadata": {},
   "outputs": [],
   "source": [
    "# Creare an EMPTY FacetGrid\n",
    "\n",
    "sns.FacetGrid(titanic)"
   ]
  },
  {
   "cell_type": "markdown",
   "metadata": {},
   "source": [
    "**The ``FacetGrid object`` in Seaborn is a powerful tool for creating multi-plot grids (multiple panels-facets) that allow you to visualize relationships across multiple subsets of your data.**\n",
    "\n",
    "In the above example, we have just initialized the **``FacetGrid object``** which doesn’t draw anything on them. FacetGrid class helps in visualizing distribution of one variable as well as the relationship between multiple variables separately within subsets of your dataset using multiple panels.\n",
    "\n",
    "**Key reasons why FacetGrid is useful:**\n",
    "\n",
    "- **1. Multi-Panel Visualization**\n",
    "   - **``Subsetting Data``**: FacetGrid enables us to create **``multiple panels (facets)``** of plots based on one or more categorical variables. This helps in visualizing how a relationship varies across different subsets of data.\n",
    "\n",
    "- **2. Comparative Analysis**\n",
    "   - **``Easy Comparisons``**: By displaying **``multiple plots side-by-side``**, it becomes easier to compare patterns, trends, and distributions across different categories.\n",
    "\n",
    "- **3. Customizable Layouts**\n",
    "   - **``Flexible Layouts``**: We can **``specify the number of rows and columns``**, how the facets are arranged, and which variables to use for the rows and columns.\n",
    "\n",
    "- **4. Consistent Aesthetics**\n",
    "   - **``Uniformity in Plots``**: **``Each facet shares the same axes and scale``**, making it easier to interpret differences across groups without the distraction of differing scales or styles.\n",
    "\n",
    "- **5. Enhanced Insights**\n",
    "   - **``Deeper Insights``**: By plotting data in facets, we can **``uncover interactions or effects that may NOT be visible``** in a single plot."
   ]
  },
  {
   "cell_type": "markdown",
   "metadata": {},
   "source": [
    "\n",
    "\n",
    "<p style=\"background-color:#FFFFFF; font-family:newtimeroman; color:#0000FF; font-size:110%; text-align:left;\"><strong>-----------------------------------------------------------------------------------------------------------------------------------------------------------------------------------------------</strong></p>\n",
    "\n",
    "<p style=\"background-color:#FFFFFF; font-family:newtimeroman; color:#0000FF; font-size:125%; text-align:left;\"><strong>👉 Loading Tips Dataset from Seaborn:</strong></p>\n",
    "\n",
    "\n",
    "**The following command ``fetches the \"tips\"`` dataset from ``Seaborn``, which is a popular library for statistical data visualization in Python. This dataset contains ``information about restaurant tips`` and includes various features related to ``customer behavior``.**"
   ]
  },
  {
   "cell_type": "code",
   "execution_count": null,
   "metadata": {},
   "outputs": [],
   "source": [
    "# Let's load \"tips\" built-in dataset at Seaborn and assign it as \"tips\"\n",
    "\n",
    "tips = sns.load_dataset(\"tips\")  # fetch the \"tips\" dataset in the Seaborn\n",
    "tips.head()  # returns the first five rows of the DataFrame"
   ]
  },
  {
   "cell_type": "markdown",
   "metadata": {},
   "source": [
    "\n",
    "\n",
    "<p style=\"background-color:#FFFFFF; font-family:newtimeroman; color:#0000FF; font-size:110%; text-align:left;\"><strong>-----------------------------------------------------------------------------------------------------------------------------------------------------------------------------------------------</strong></p>\n",
    "\n",
    "<p style=\"background-color:#FFFFFF; font-family:newtimeroman; color:#0000FF; font-size:125%; text-align:left;\"><strong>👉 Mapping a FACETGRID in Seaborn:</strong></p>\n",
    "\n",
    "\n",
    "#### <p style=\"background-color:#FFFFFF; font-family:newtimeroman; color:#FF0000; font-size:125%; text-align:left;\"><strong>🤔💭 How to map FacetGrid Object❓</strong></p>\n",
    "\n",
    "\n",
    "**The code snippet below correctly creates a FacetGrid of scatter plots using the Seaborn library. The grid will display the ``relationship`` between ``total_bill`` and ``tip`` ``across different combinations of time (lunch or dinner)`` and ``sex (male or female)`` from the tips dataset.**\n",
    "\n",
    "To draw a plot on every facet (panel), pass a function (for example; ``sns.scatterplot`` in the following code) and the name of one or more columns (for example; ``\"total_bill\"`` and ``\"tip\"`` in the following code) in the dataframe to **``FacetGrid.map()``**:"
   ]
  },
  {
   "cell_type": "code",
   "execution_count": null,
   "metadata": {},
   "outputs": [],
   "source": [
    "# Create a FacetGrid object with rows for 'sex' and columns for 'time'\n",
    "g = sns.FacetGrid(tips, col=\"time\",  row=\"sex\")  # This creates 4 facets since both features \"time\" and \"sex\" have 2 sub-categories.\n",
    "\n",
    "# Map the scatterplot to the grid\n",
    "g.map(sns.scatterplot, \"total_bill\", \"tip\");  # This plots 4 graphes to the facets according to our intention.\n",
    "\n",
    "# Set axis labels\n",
    "g.set_axis_labels(\"Total Bill\", \"Tip\")\n",
    "\n",
    "# Set a main title for the entire grid\n",
    "g.fig.suptitle(\"Tip Amount by Total Bill across Time and Sex\", fontsize=14, color=\"r\")\n",
    "\n",
    "# Adjust the layout\n",
    "plt.subplots_adjust(top=0.87)  # Adjust to make space for the title"
   ]
  },
  {
   "cell_type": "markdown",
   "metadata": {},
   "source": [
    "**Creating the FacetGrid:**\n",
    "- ``g = sns.FacetGrid(tips, col=\"time\", row=\"sex\", margin_titles=True)``: Initializes a FacetGrid where:\n",
    "   - ``col=\"time\"`` creates two columns for lunch and dinner.\n",
    "   - ``row=\"sex\"`` creates two rows for male and female."
   ]
  },
  {
   "cell_type": "markdown",
   "metadata": {},
   "source": [
    "<p style=\"background-color:#FFFFFF; font-family:newtimeroman; color:#0000FF; font-size:110%; text-align:left;\"><strong>-----------------------------------------------------------------------------------------------------------------------------------------------------------------------------------------------</strong></p>\n",
    "\n",
    "<p style=\"background-color:#FFFFFF; font-family:newtimeroman; color:#0000FF; font-size:125%; text-align:left;\"><strong>👉 Customizing a FACETGRID in Seaborn:</strong></p>\n",
    "\n",
    "\n",
    "**The code snippet below creates a FacetGrid that visualizes the ``relationship`` between ``total_bill`` and ``tip``, with facets based on ``time (lunch or dinner)`` and ``sex (male or female)``, while also differentiating points by whether the customer is a ``smoker or not``:**\n",
    "\n",
    "- When we run this code, we will see a grid of scatter plots showing the relationship between total bill and tip amounts, with different colors representing smokers and non-smokers. The plots are organized by time of day and sex, allowing for a detailed comparison of tipping behavior across these categories."
   ]
  },
  {
   "cell_type": "code",
   "execution_count": null,
   "metadata": {},
   "outputs": [],
   "source": [
    "# Create a FacetGrid with rows for 'sex', columns for 'time', and hue for 'smoker'\n",
    "g = sns.FacetGrid(tips, col=\"time\",  row=\"sex\", hue=\"smoker\")\n",
    "\n",
    "# Map the scatterplot to the grid\n",
    "g.map(sns.scatterplot, \"total_bill\", \"tip\")\n",
    "\n",
    "# Add legends\n",
    "g.add_legend()\n",
    "\n",
    "# Set axis labels\n",
    "g.set_axis_labels(\"Total Bill\", \"Tip\")\n",
    "\n",
    "# Set a main title for the entire grid\n",
    "g.fig.suptitle(\"Tip Amount by Total Bill across Time, Sex, and Smoking Status\", fontsize=12, color=\"b\")\n",
    "\n",
    "# Adjust the layout\n",
    "plt.subplots_adjust(top=0.9)  # Adjust to make space for the title;"
   ]
  },
  {
   "cell_type": "markdown",
   "metadata": {},
   "source": [
    "**Creating the FacetGrid:**\n",
    "- ``g = sns.FacetGrid(tips, col=\"time\", row=\"sex\", hue=\"smoker\", margin_titles=True)``: Initializes a FacetGrid where:\n",
    "   - ``col=\"time\"`` creates two columns for lunch and dinner.\n",
    "   - ``row=\"sex\"`` creates two rows for male and female.\n",
    "   - ``hue=\"smoker\"`` differentiates data points based on whether the customer is a smoker."
   ]
  },
  {
   "cell_type": "markdown",
   "metadata": {},
   "source": [
    "\n",
    "\n",
    "A **``FacetGrid``** can be drawn with up to three dimensions − **``row``**, **``col``**, and **``hue``**. The first two have obvious correspondence with the resulting array of axes; think of the ``hue`` variable as ``a third dimension`` along a depth axis, where different levels are plotted with different colors.\n",
    "\n",
    "FacetGrid object takes a dataframe as input and the names of the variables that will form the row, column, or hue dimensions of the grid.\n",
    "\n",
    "The variables should be **categorical** and the data at each level of the variable will be used for a facet along that axis.\n",
    "\n",
    "**[For mor Detailed Information About FacetGrid](https://seaborn.pydata.org/generated/seaborn.FacetGrid.html)**\n",
    "\n",
    "\n",
    "Exploratory Data Analysis helps in identifying the underlying patterns and trends which are not observable just by looking at the data. A FacetGrid is a multi-axes grid with subplots visualizing the distribution of variables of a dataset and the relationship between multiple variables. So, FacetGrid is very beneficial to determine and get a detailed insight in identifying the underlying patterns.\n",
    "\n",
    "**[Using Seaborn’s FacetGrid Based Methods for Exploratory Data Analysis](https://www.analyticsvidhya.com/blog/2021/07/using-seaborns-facetgrid-based-methods-for-exploratory-data-analysis/)**\n",
    "\n",
    "<p style=\"background-color:#FFFFFF; font-family:newtimeroman; color:#0000FF; font-size:110%; text-align:left;\"><strong>-----------------------------------------------------------------------------------------------------------------------------------------------------------------------------------------------</strong></p>\n",
    "\n",
    "<p style=\"background-color:#FFFFFF; font-family:newtimeroman; color:#0000FF; font-size:125%; text-align:left;\"><strong>👉 Coming back to Catplot:</strong></p>\n"
   ]
  },
  {
   "cell_type": "code",
   "execution_count": null,
   "metadata": {},
   "outputs": [],
   "source": [
    "# Let's load \"tips\" built-in dataset at Seaborn and assign it as \"tips\"\n",
    "\n",
    "# Load the tips dataset\n",
    "tips = sns.load_dataset(\"tips\")\n",
    "\n",
    "# Display the dataset\n",
    "tips"
   ]
  },
  {
   "cell_type": "markdown",
   "metadata": {},
   "source": [
    "The tips dataset from Seaborn contains information about restaurant tips, including various attributes of the customers and their dining experiences. Here’s a brief overview of the dataset's structure and its columns:\n",
    "\n",
    "``The tips dataset typically includes the following columns:``\n",
    "   - ``total_bill``: The total bill amount (including food and drink) for the meal.\n",
    "   - ``tip``: The tip amount given to the waiter/waitress.\n",
    "   - ``sex``: The gender of the customer (male or female).\n",
    "   - ``smoker``: Indicates whether the customer is a smoker (Yes or No).\n",
    "   - ``day``: The day of the week (e.g., Thur, Fri, Sat, Sun).\n",
    "   - ``time``: The time of day (Lunch or Dinner).\n",
    "   - ``size``: The size of the party (number of people in the group)."
   ]
  },
  {
   "cell_type": "markdown",
   "metadata": {},
   "source": [
    "<p style=\"background-color:#FFFFFF; font-family:newtimeroman; color:#0000FF; font-size:110%; text-align:left;\"><strong>-----------------------------------------------------------------------------------------------------------------------------------------------------------------------------------------------</strong></p>\n",
    "\n",
    "Seaborn provides simple ways to ``distinguish`` the data points of ``numerical variables based on different groups in categorical variables``. In Seaborn, this separation can be achieved by ``hue``, ``col``, or ``row`` parameters.\n",
    "\n",
    "🧐 **[A Comparison of Seaborn and Altair](https://towardsdatascience.com/a-comparison-of-seaborn-and-altair-640b11ca2e7b)**<br>\n",
    "\n",
    "- **row, col, hue: strings**\n",
    "\n",
    "Variables that define subsets of the data, which will be drawn on separate facets in the grid.\n",
    "\n",
    "<p style=\"background-color:#FFFFFF; font-family:newtimeroman; color:#0000FF; font-size:110%; text-align:left;\"><strong>-----------------------------------------------------------------------------------------------------------------------------------------------------------------------------------------------</strong></p>\n"
   ]
  },
  {
   "cell_type": "markdown",
   "metadata": {},
   "source": [
    "### <p style=\"background-color:#E51A59; font-family:newtimeroman; color:#FFF9ED; font-size:150%; text-align:left; border-radius:10px 10px;\">\"col\" Parameter</p>\n",
    "\n",
    "The ``col`` parameter in Seaborn's plotting functions, especially in FacetGrid and catplot, is used to create a ``separate subplot (or facet or panel) for each unique value of a categorical variable``. This allows you to visualize how a particular relationship varies across different categories.\n",
    "\n",
    "<a id=\"1.2\"></a>\n",
    "<a href=\"#toc\" class=\"btn btn-primary btn-sm\" role=\"button\" aria-pressed=\"true\" \n",
    "style=\"color:blue; background-color:#dfa8e4\" data-toggle=\"popover\">Content</a>\n",
    "\n"
   ]
  },
  {
   "cell_type": "markdown",
   "metadata": {},
   "source": [
    "<p style=\"background-color:#FFFFFF; font-family:newtimeroman; color:#0000FF; font-size:110%; text-align:left;\"><strong>-----------------------------------------------------------------------------------------------------------------------------------------------------------------------------------------------</strong></p>\n",
    "\n",
    "<p style=\"background-color:#FFFFFF; font-family:newtimeroman; color:#0000FF; font-size:125%; text-align:left;\"><strong>👉 Creating and Customizing a CATPLOT with COL Parameter in Seaborn:</strong></p>\n",
    "\n",
    "\n",
    "**The code snippet below creates a categorical plot using Seaborn's catplot function, displaying the ``total bill`` amounts ``across different days``, with separate subplots for ``smokers and non-smokers``.** \n",
    "\n",
    "- **``NOTE``: If you want to further extend this to include rows for another categorical variable, you can incorporate both col and row parameters, which we will cover in the next section.**"
   ]
  },
  {
   "cell_type": "code",
   "execution_count": null,
   "metadata": {
    "colab": {
     "base_uri": "https://localhost:8080/",
     "height": 400
    },
    "id": "De2Amqs4zDEZ",
    "outputId": "30d1e0f5-d6e7-4067-a972-336878950a64"
   },
   "outputs": [],
   "source": [
    "# Create a categorical plot with separate columns for smoker status\n",
    "\n",
    "sns.catplot(x=\"day\", y='total_bill', kind=\"bar\", data=tips, col=\"smoker\"); #  col=\"smoker\", row=\"sex\""
   ]
  },
  {
   "cell_type": "markdown",
   "metadata": {},
   "source": [
    "<p style=\"background-color:#FFFFFF; font-family:newtimeroman; color:#0000FF; font-size:110%; text-align:left;\"><strong>-----------------------------------------------------------------------------------------------------------------------------------------------------------------------------------------------</strong></p>\n"
   ]
  },
  {
   "cell_type": "markdown",
   "metadata": {},
   "source": [
    "### <p style=\"background-color:#E51A59; font-family:newtimeroman; color:#FFF9ED; font-size:150%; text-align:left; border-radius:10px 10px;\">\"row\" Parameter</p>\n",
    "\n",
    "The ``row`` parameter in Seaborn's plotting functions, particularly in FacetGrid and catplot, is used to create ``separate subplots (or facets or panels) for each unique value of a categorical variable along the rows``. This allows you to visualize how a particular relationship varies across different categories in a vertical arrangement.\n",
    "\n",
    "<a id=\"1.3\"></a>\n",
    "<a href=\"#toc\" class=\"btn btn-primary btn-sm\" role=\"button\" aria-pressed=\"true\" \n",
    "style=\"color:blue; background-color:#dfa8e4\" data-toggle=\"popover\">Content</a>"
   ]
  },
  {
   "cell_type": "markdown",
   "metadata": {},
   "source": [
    "<p style=\"background-color:#FFFFFF; font-family:newtimeroman; color:#0000FF; font-size:110%; text-align:left;\"><strong>-----------------------------------------------------------------------------------------------------------------------------------------------------------------------------------------------</strong></p>\n",
    "\n",
    "<p style=\"background-color:#FFFFFF; font-family:newtimeroman; color:#0000FF; font-size:125%; text-align:left;\"><strong>👉 Creating and Customizing a CATPLOT with ROW Parameter in Seaborn:</strong></p>\n",
    "\n",
    "\n",
    "**The code snippet below uses Seaborn's catplot function to create a ``grid of bar plots`` that show the ``total bill amounts`` ``across different days``, separated by ``smoking status`` and ``gender``.** \n",
    "\n",
    "**The estimator=np.count_nonzero will count the number of non-zero total bills for each combination of day, smoker status, and sex.**"
   ]
  },
  {
   "cell_type": "code",
   "execution_count": null,
   "metadata": {
    "colab": {
     "base_uri": "https://localhost:8080/",
     "height": 760
    },
    "id": "lNkwYaN_sFTr",
    "outputId": "2fe137a8-a1d4-4e35-cacc-0e591c89448a"
   },
   "outputs": [],
   "source": [
    "# Create a categorical plot with bars for total bills\n",
    "g = sns.catplot(x=\"day\", \n",
    "                y='total_bill', \n",
    "                kind=\"bar\", \n",
    "                data=tips, \n",
    "                col=\"smoker\", \n",
    "                row=\"sex\", \n",
    "                estimator=np.count_nonzero,\n",
    "                height=3,  # Height of each facet\n",
    "                aspect=1.3)  # Width-to-height ratio of each facet\n",
    "\n",
    "# Set titles and labels\n",
    "g.set_axis_labels(\"Day of the Week\", \"Count of Total Bills\")\n",
    "g.fig.suptitle(\"Count of Non-Zero Total Bills by Day, Smoking Status, and Gender\", fontsize=14, color=\"cyan\")\n",
    "\n",
    "# Adjust layout\n",
    "plt.subplots_adjust(top=0.9)  # Make space for the title; "
   ]
  },
  {
   "cell_type": "markdown",
   "metadata": {},
   "source": [
    "<p style=\"background-color:#FFFFFF; font-family:newtimeroman; color:#0000FF; font-size:110%; text-align:left;\"><strong>-----------------------------------------------------------------------------------------------------------------------------------------------------------------------------------------------</strong></p>\n",
    "\n",
    "<p style=\"background-color:#FFFFFF; font-family:newtimeroman; color:#0000FF; font-size:125%; text-align:left;\"><strong>👉 Creating and Customizing a CATPLOT with ROW & COL Parameters in Seaborn:</strong></p>\n",
    "\n",
    "\n",
    "**Let us examine** **``\"row\"``**, **``\"col\"``**, **and** **``\"hue\"``** **parameters together:**\n",
    "\n",
    "**The code snippet below uses Seaborn's catplot to create a ``grid of bar plots`` that display the ``total bill amounts`` ``across different days``, with facets based on ``smoking status`` and ``gender``, while differentiating the bars by party size. This is a great way to visualize multiple dimensions of your data simultaneously.**"
   ]
  },
  {
   "cell_type": "code",
   "execution_count": null,
   "metadata": {},
   "outputs": [],
   "source": [
    "# Create a categorical plot with specified facets and hue\n",
    "\n",
    "sns.catplot(data=tips, x=\"day\", y=\"total_bill\", kind=\"bar\", col=\"smoker\", row=\"sex\", hue=\"size\");"
   ]
  },
  {
   "cell_type": "markdown",
   "metadata": {},
   "source": [
    "   - ``col=\"smoker\"``: Creates separate columns for smokers and non-smokers.\n",
    "   - ``row=\"sex\"``: Creates separate rows for male and female customers.\n",
    "   - ``hue=\"size\"``: Differentiates the bars by party size (the number of people dinner served)."
   ]
  },
  {
   "cell_type": "markdown",
   "metadata": {},
   "source": [
    "<p style=\"background-color:#FFFFFF; font-family:newtimeroman; color:#0000FF; font-size:110%; text-align:left;\"><strong>-----------------------------------------------------------------------------------------------------------------------------------------------------------------------------------------------</strong></p>\n",
    "\n",
    "\n",
    "<p style=\"background-color:#FFFFFF; font-family:newtimeroman; color:#0000FF; font-size:125%; text-align:left;\"><strong>👉 Now it's time to look over other kinds in ``catplot()`:</strong></p>\n",
    "\n",
    "\n",
    "- ``kind : str, optional``\n",
    "  - The kind of plot to draw, corresponds to the name of a categorical axes-level plotting function. Options are: \n",
    "  - \"strip\", \n",
    "  - \"swarm\", \n",
    "  - \"box\", \n",
    "  - \"violin\",\n",
    "  - \"boxen\", \n",
    "  - \"point\", \n",
    "  - \"bar\", or \n",
    "  - \"count\"."
   ]
  },
  {
   "cell_type": "markdown",
   "metadata": {},
   "source": [
    "<p style=\"background-color:#FFFFFF; font-family:newtimeroman; color:#0000FF; font-size:110%; text-align:left;\"><strong>-----------------------------------------------------------------------------------------------------------------------------------------------------------------------------------------------</strong></p>\n",
    "\n",
    "<p style=\"background-color:#FFFFFF; font-family:newtimeroman; color:#0000FF; font-size:125%; text-align:left;\"><strong>👉 Creating a BOXPLOT in CATPLOT:</strong></p>\n",
    "\n",
    "\n",
    "**The code snippet below creates a box plot using Seaborn's catplot function to visualize the distribution of total bill amounts across different days of the week.**"
   ]
  },
  {
   "cell_type": "code",
   "execution_count": null,
   "metadata": {
    "colab": {
     "base_uri": "https://localhost:8080/",
     "height": 400
    },
    "id": "UvJ2lmnNzJTY",
    "outputId": "770b1c88-9efd-4407-a77c-fc8604e4498d"
   },
   "outputs": [],
   "source": [
    "# Create a basic box plot for total bill amounts by day without using row, col, and hue parameters\n",
    "\n",
    "sns.catplot(x=\"day\", y='total_bill', data=tips, kind=\"box\"); "
   ]
  },
  {
   "cell_type": "markdown",
   "metadata": {},
   "source": [
    "<p style=\"background-color:#FFFFFF; font-family:newtimeroman; color:#0000FF; font-size:110%; text-align:left;\"><strong>-----------------------------------------------------------------------------------------------------------------------------------------------------------------------------------------------</strong></p>\n",
    "\n",
    "<p style=\"background-color:#FFFFFF; font-family:newtimeroman; color:#0000FF; font-size:125%; text-align:left;\"><strong>👉 Customizing the BOXPLOT in CATPLOT:</strong></p>\n",
    "\n",
    "\n",
    "**The code snippet below creates a ``box plot`` using Seaborn's catplot function to visualize the ``distribution of total bill amounts`` ``across different days of the week``, while also differentiating the box plots based on whether ``customers are smokers or non-smokers``.**"
   ]
  },
  {
   "cell_type": "code",
   "execution_count": null,
   "metadata": {
    "colab": {
     "base_uri": "https://localhost:8080/",
     "height": 400
    },
    "id": "R1eP_uC7zRmw",
    "outputId": "f07243ae-190d-4829-c0f3-3f1e432b8354"
   },
   "outputs": [],
   "source": [
    "# Create a box plot for total bill amounts by day, differentiated by smoker status\n",
    "\n",
    "sns.catplot(x=\"day\", y='total_bill', kind=\"box\", data=tips, hue=\"smoker\");"
   ]
  },
  {
   "cell_type": "markdown",
   "metadata": {},
   "source": [
    "- **``hue=\"smoker\"``**: Differentiates the box plots based on smoking status (smoker vs. non-smoker)."
   ]
  },
  {
   "cell_type": "markdown",
   "metadata": {},
   "source": [
    "<p style=\"background-color:#FFFFFF; font-family:newtimeroman; color:#0000FF; font-size:110%; text-align:left;\"><strong>-----------------------------------------------------------------------------------------------------------------------------------------------------------------------------------------------</strong></p>\n",
    "\n",
    "<p style=\"background-color:#FFFFFF; font-family:newtimeroman; color:#0000FF; font-size:125%; text-align:left;\"><strong>👉 Creating a VIOLINPLOT in CATPLOT:</strong></p>\n",
    "\n",
    "\n",
    "**The code snippet below creates a ``violin plot`` using Seaborn's catplot function to visualize the ``distribution of total bill amounts`` ``across different days of the week``.**\n",
    "\n",
    "- When we run this code, we will see a violin plot for the total bill amounts for each day of the week. Each \"violin\" represents the distribution of the total bill amounts, with the width indicating the density of the data at different values. The plot provides insights into the central tendency, variability, and the presence of any multimodal distributions."
   ]
  },
  {
   "cell_type": "code",
   "execution_count": null,
   "metadata": {
    "colab": {
     "base_uri": "https://localhost:8080/",
     "height": 400
    },
    "id": "Ord-LVEY1J2Y",
    "outputId": "ec5e963a-fb25-4d73-8488-6385c752f8cf"
   },
   "outputs": [],
   "source": [
    "# Create a basic violin plot for total bill amounts by day without using row, col, and hue parameters\n",
    "\n",
    "sns.catplot(x=\"day\", y='total_bill', data=tips, kind=\"violin\");"
   ]
  },
  {
   "cell_type": "markdown",
   "metadata": {},
   "source": [
    "<p style=\"background-color:#FFFFFF; font-family:newtimeroman; color:#0000FF; font-size:110%; text-align:left;\"><strong>-----------------------------------------------------------------------------------------------------------------------------------------------------------------------------------------------</strong></p>\n",
    "\n",
    "<p style=\"background-color:#FFFFFF; font-family:newtimeroman; color:#0000FF; font-size:125%; text-align:left;\"><strong>👉 Creating a SWARMPLOT in CATPLOT:</strong></p>\n",
    "\n",
    "\n",
    "**The code snippet below creates a swarm plot using Seaborn's catplot function. A swarm plot visualizes the distribution of total bill amounts across different days of the week, with points representing individual observations. The hue parameter allows you to differentiate the points by sex, providing additional insight into the data.**\n",
    "\n",
    "- When we run this code, we will see a swarm plot for ``total bill amounts for each day of the week``, with points colored by ``gender``. Each point represents an individual total bill amount, allowing you to see the ``distribution of bills`` while avoiding overlap. This visualization helps identify patterns and differences in spending behavior between male and female customers across different days."
   ]
  },
  {
   "cell_type": "code",
   "execution_count": null,
   "metadata": {
    "colab": {
     "base_uri": "https://localhost:8080/",
     "height": 400
    },
    "id": "oKFfzplo1Qq3",
    "outputId": "44e44e6b-f9be-41bb-de5b-d27e2c3fedb9"
   },
   "outputs": [],
   "source": [
    "# Create a swarm plot for total bill amounts by day, differentiated by sex\n",
    "\n",
    "sns.catplot(x=\"day\", y='total_bill', data=tips, kind=\"swarm\", hue=\"sex\");"
   ]
  },
  {
   "cell_type": "markdown",
   "metadata": {},
   "source": [
    "- **``hue=\"sex\"``**: Differentiates the points by sex (male or female).\n",
    "\n",
    "<p style=\"background-color:#FFFFFF; font-family:newtimeroman; color:#0000FF; font-size:110%; text-align:left;\"><strong>-----------------------------------------------------------------------------------------------------------------------------------------------------------------------------------------------</strong></p>\n"
   ]
  },
  {
   "cell_type": "markdown",
   "metadata": {
    "id": "s1Pv0vx0xZBn"
   },
   "source": [
    "## <p style=\"background-color:#E51A59; font-family:newtimeroman; color:#FFF9ED; font-size:150%; text-align:CENTER; border-radius:10px 10px;\">JOINTPLOT</p>\n",
    "\n",
    "<a id=\"2\"></a>\n",
    "<a href=\"#toc\" class=\"btn btn-primary btn-sm\" role=\"button\" aria-pressed=\"true\" \n",
    "style=\"color:blue; background-color:#dfa8e4\" data-toggle=\"popover\">Content</a>\n",
    "\n",
    "Jointplot is seaborn library specific and can be used to quickly visualize and analyze the **relationship between two variables** and describe **their individual distributions** on the same plot.\n",
    "\n",
    "Seaborn’s jointplot displays a relationship between 2 variables (bivariate) as well as 1D profiles (univariate) in the margins. This plot is a convenience class that wraps JointGrid.\n",
    "\n",
    "This function provides a convenient interface to the JointGrid class, with several canned plot kinds. This is intended to be a fairly lightweight wrapper; if you need more flexibility, you should use JointGrid directly.\n",
    "\n",
    "- 🧐 **[seaborn.jointplot Documentation](https://seaborn.pydata.org/generated/seaborn.jointplot.html)**<br>\n",
    "- 🧐 **[Joint Plot](https://ajaytech.co/2020/09/28/8780/)**<br>\n",
    "- 🧐 **[Data visualization for beginners](https://www.hackerearth.com/blog/developers/data-visualization-techniques/)**<br>\n",
    "- 🧐 **[seaborn.JointGrid](https://seaborn.pydata.org/generated/seaborn.JointGrid.html#:~:text=JointGrid%20)**\n",
    "\n",
    "<p style=\"background-color:#FFFFFF; font-family:newtimeroman; color:#0000FF; font-size:110%; text-align:left;\"><strong>-----------------------------------------------------------------------------------------------------------------------------------------------------------------------------------------------</strong></p>\n",
    "\n",
    "\n",
    "\n",
    "<p style=\"background-color:#FFFFFF; font-family:newtimeroman; color:#FF0000; font-size:125%; text-align:left;\"><strong>🤔💭 What is a joint plot and how to code a jointplot in Python Seaborn❓</strong></p>"
   ]
  },
  {
   "cell_type": "code",
   "execution_count": null,
   "metadata": {
    "scrolled": true
   },
   "outputs": [],
   "source": [
    "from IPython.display import YouTubeVideo\n",
    "\n",
    "# Embed the YouTube video\n",
    "YouTubeVideo('Hey1EAtgduQ', width=800, height=500)"
   ]
  },
  {
   "cell_type": "markdown",
   "metadata": {},
   "source": [
    "<p style=\"background-color:#FFFFFF; font-family:newtimeroman; color:#0000FF; font-size:110%; text-align:left;\"><strong>-----------------------------------------------------------------------------------------------------------------------------------------------------------------------------------------------</strong></p>\n"
   ]
  },
  {
   "cell_type": "raw",
   "metadata": {},
   "source": [
    "sns.jointplot(\n",
    "              *,\n",
    "              x=None,\n",
    "              y=None,\n",
    "              data=None,\n",
    "              kind='scatter',\n",
    "              color=None,\n",
    "              height=6,\n",
    "              ratio=5,\n",
    "              space=0.2,\n",
    "              dropna=False,\n",
    "              xlim=None,\n",
    "              ylim=None,\n",
    "              marginal_ticks=False,\n",
    "              joint_kws=None,\n",
    "              marginal_kws=None,\n",
    "              hue=None,\n",
    "              palette=None,\n",
    "              hue_order=None,\n",
    "              hue_norm=None,\n",
    "              **kwargs,\n",
    "              )\n",
    "Docstring:\n",
    "Draw a plot of two variables with bivariate and univariate graphs.\n",
    "\n",
    "This function provides a convenient interface to the :class:`JointGrid` class, with several canned plot kinds. This is intended to be a fairly lightweight wrapper; if you need more flexibility, you should use :class:`JointGrid` directly.\n",
    "\n",
    "Parameters\n",
    "----------\n",
    "x, y : vectors or keys in ``data``\n",
    "    Variables that specify positions on the x and y axes.\n",
    "data : :class:`pandas.DataFrame`, :class:`numpy.ndarray`, mapping, or sequence\n",
    "    Input data structure. Either a long-form collection of vectors that can be assigned to named variables or a wide-form\n",
    "    dataset that will be internally reshaped.\n",
    "kind : { \"scatter\" | \"kde\" | \"hist\" | \"hex\" | \"reg\" | \"resid\" }\n",
    "    Kind of plot to draw. See the examples for references to the underlying functions.\n",
    "color : :mod:`matplotlib color <matplotlib.colors>`\n",
    "    Single color specification for when hue mapping is not used. Otherwise, the plot will try to hook into the matplotlib\n",
    "    property cycle.\n",
    "height : numeric\n",
    "    Size of the figure (it will be square).\n",
    "ratio : numeric\n",
    "    Ratio of joint axes height to marginal axes height.\n",
    "space : numeric\n",
    "    Space between the joint and marginal axes\n",
    "dropna : bool\n",
    "    If True, remove observations that are missing from ``x`` and ``y``.\n",
    "{x, y}lim : pairs of numbers\n",
    "    Axis limits to set before plotting.\n",
    "marginal_ticks : bool\n",
    "    If False, suppress ticks on the count/density axis of the marginal plots.\n",
    "{joint, marginal}_kws : dicts\n",
    "    Additional keyword arguments for the plot components.\n",
    "hue : vector or key in ``data``\n",
    "    Semantic variable that is mapped to determine the color of plot elements.\n",
    "    Semantic variable that is mapped to determine the color of plot elements.\n",
    "palette : string, list, dict, or :class:`matplotlib.colors.Colormap`\n",
    "    Method for choosing the colors to use when mapping the ``hue`` semantic.\n",
    "    String values are passed to :func:`color_palette`. List or dict values imply categorical mapping, while a colormap object \n",
    "    implies numeric mapping.\n",
    "hue_order : vector of strings\n",
    "    Specify the order of processing and plotting for categorical levels of the ``hue`` semantic.\n",
    "hue_norm : tuple or :class:`matplotlib.colors.Normalize`\n",
    "    Either a pair of values that set the normalization range in data units or an object that will map from data units into a \n",
    "    [0, 1] interval. Usage implies numeric mapping.\n",
    "kwargs\n",
    "    Additional keyword arguments are passed to the function used to draw the plot on the joint Axes, superseding items in the\n",
    "    ``joint_kws`` dictionary.\n",
    "\n",
    "Returns\n",
    "-------\n",
    ":class:`JointGrid`\n",
    "    An object managing multiple subplots that correspond to joint and marginal axes for plotting a bivariate relationship or\n",
    "    distribution.\n",
    "\n",
    "See Also\n",
    "--------\n",
    "JointGrid : Set up a figure with joint and marginal views on bivariate data.\n",
    "PairGrid : Set up a figure with joint and marginal views on multiple variables.\n",
    "jointplot : Draw multiple bivariate plots with univariate marginal distributions."
   ]
  },
  {
   "cell_type": "markdown",
   "metadata": {},
   "source": [
    "<p style=\"background-color:#FFFFFF; font-family:newtimeroman; color:#0000FF; font-size:110%; text-align:left;\"><strong>-----------------------------------------------------------------------------------------------------------------------------------------------------------------------------------------------</strong></p>\n",
    "\n",
    "<p style=\"background-color:#FFFFFF; font-family:newtimeroman; color:#0000FF; font-size:125%; text-align:left;\"><strong>👉 Creating a JOINTPLOT in Seaborn:</strong></p>\n",
    "\n",
    "\n",
    "**The code snippet below creates a ``joint plot`` using Seaborn's ``jointplot()`` function to visualize the ``relationship`` between ``total bill amounts`` and ``tips``. The jointplot allows you to explore the ``relationship between two variables`` and can display the ``distributions of each variable on the margins``.**\n",
    "\n",
    "- When we run the following code, we will see a scatter plot of total bill amounts versus tips, with marginal histograms showing the distribution of each variable. This visualization helps identify correlations and trends in the data, such as how tips vary with total bills. Depending on the kind you choose, you can gain further insights into the relationship between the two variables."
   ]
  },
  {
   "cell_type": "code",
   "execution_count": null,
   "metadata": {
    "colab": {
     "base_uri": "https://localhost:8080/",
     "height": 458
    },
    "id": "dJF4R8kHxKBA",
    "outputId": "acede945-9b4b-40cf-8de2-d4f7b5c58ba8"
   },
   "outputs": [],
   "source": [
    "# jointplot() method draws a plot of two variables with bivariate and univariate graphs.\n",
    "\n",
    "# sns.jointplot(x='total_bill', data=tips);  # show a univariate distribution for total_bill along with a histogram on the margins\n",
    "\n",
    "# Create a joint plot for total bill and tip amounts\n",
    "sns.jointplot(x='total_bill', y='tip', data=tips);  # kind : { \"scatter\" | \"kde\" | \"hist\" | \"hex\" | \"reg\" | \"resid\" }\n",
    "# Depending on the kind you choose, you can gain further insights into the relationship between the two variables."
   ]
  },
  {
   "cell_type": "markdown",
   "metadata": {},
   "source": [
    "The **``kind``** parameter in Seaborn's **``jointplot``** function allows us to specify the **``type of plot``** we want to create to visualize the **``relationship between two variables``**. Here's what each option does:\n",
    "\n",
    "- 1. **\"scatter\"**\n",
    "   - **``Description``**: Produces a scatter plot.\n",
    "   - **``Use Case``**: Best for visualizing individual data points and understanding the distribution and correlation between two continuous variables.\n",
    "- 2. **\"kde\"**\n",
    "   - **``Description``**: Creates a Kernel Density Estimate (KDE) plot.\n",
    "   - **``Use Case``**: Displays the probability density function of the variables, providing a smoothed estimate of the distribution. It’s useful for understanding the underlying distribution of the data without individual point clutter.\n",
    "- 3. **\"hist\"**\n",
    "   - **``Description``**: Generates histograms for both variables.\n",
    "   - **``Use Case``**: Shows the frequency distribution of the data. This is useful for seeing how data is distributed across bins for both axes.\n",
    "\n",
    "- 4. **\"hex\"**\n",
    "   - **``Description``**: Creates a hexbin plot.\n",
    "   - **``Use Case``**: Useful for large datasets, it visualizes the count of points in hexagonal bins. This can help reduce overplotting and show density more clearly than a scatter plot.\n",
    "- 5. **\"reg\"**\n",
    "   - **``Description``**: Produces a scatter plot with a regression line.\n",
    "   - **``Use Case``**: Useful for assessing the linear relationship between two variables. It shows both the data points and the fitted regression line, along with the marginal distributions.\n",
    "- 6. **\"resid\"**\n",
    "   - **``Description``**: Displays residuals from a regression analysis.\n",
    "   - **``Use Case``**: Useful for diagnosing the fit of a regression model by showing how far off the predictions are from the actual values. This can help identify patterns that the model did not capture."
   ]
  },
  {
   "cell_type": "markdown",
   "metadata": {},
   "source": [
    "<p style=\"background-color:#FFFFFF; font-family:newtimeroman; color:#0000FF; font-size:110%; text-align:left;\"><strong>-----------------------------------------------------------------------------------------------------------------------------------------------------------------------------------------------</strong></p>\n",
    "\n",
    "<p style=\"background-color:#FFFFFF; font-family:newtimeroman; color:#0000FF; font-size:125%; text-align:left;\"><strong>👉 Customizing a JOINTPLOT with KIND Parameter in Seaborn:</strong></p>\n",
    "\n",
    "\n",
    "**The code snippet below creates a ``joint plot`` using Seaborn's ``jointplot()`` function to visualize the ``relationship between total bill amounts and tips``, while also fitting a ``regression line`` to the data. This is useful for understanding how one variable predicts the other.**"
   ]
  },
  {
   "cell_type": "code",
   "execution_count": null,
   "metadata": {
    "colab": {
     "base_uri": "https://localhost:8080/",
     "height": 458
    },
    "id": "In_vSPijxVbY",
    "outputId": "5665f3d3-819c-4774-8835-15f9d4cb0195"
   },
   "outputs": [],
   "source": [
    "# kind : { \"scatter\" | \"kde\" | \"hist\" | \"hex\" | \"reg\" | \"resid\" }\n",
    "\n",
    "# Create a joint plot for total bill and tip amounts with a regression line\n",
    "sns.jointplot(x='total_bill', y='tip', data=tips, kind=\"reg\");  # kind='reg': specifies that we want a regression plot"
   ]
  },
  {
   "cell_type": "markdown",
   "metadata": {},
   "source": [
    "<p style=\"background-color:#FFFFFF; font-family:newtimeroman; color:#0000FF; font-size:110%; text-align:left;\"><strong>-----------------------------------------------------------------------------------------------------------------------------------------------------------------------------------------------</strong></p>\n",
    "\n",
    "<p style=\"background-color:#FFFFFF; font-family:newtimeroman; color:#0000FF; font-size:125%; text-align:left;\"><strong>👉 Customizing a JOINTPLOT with KIND Parameter in Seaborn:</strong></p>\n",
    "\n",
    "\n",
    "**The code snippet below creates a ``joint plot`` using Seaborn's ``jointplot()`` function to visualize the ``relationship between total bill amounts and tips`` using a ``Kernel Density Estimate (KDE) plot``. This type of plot provides a smooth estimate of the distribution for each variable as well as the joint distribution.**"
   ]
  },
  {
   "cell_type": "code",
   "execution_count": null,
   "metadata": {
    "colab": {
     "base_uri": "https://localhost:8080/",
     "height": 458
    },
    "id": "SCFvR0JRxu6G",
    "outputId": "56220016-23c4-4aed-9628-3f880f09df89"
   },
   "outputs": [],
   "source": [
    "# sns.jointplot(x='total_bill', data=tips, kind=\"kde\");\n",
    "\n",
    "# Create a joint plot for total bill and tip amounts using KDE\n",
    "sns.jointplot(x='total_bill', y='tip', data=tips, kind=\"kde\");"
   ]
  },
  {
   "cell_type": "markdown",
   "metadata": {},
   "source": [
    "The KDE plot effectively visualizes the ``density of the data points``, highlighting areas where tips and total bills are more concentrated. This can help identify relationships and trends in tipping behavior, such as whether higher total bills correspond to higher tips. The smooth curves provide a clearer view of the underlying distribution compared to scatter plots, especially when dealing with larger datasets."
   ]
  },
  {
   "cell_type": "markdown",
   "metadata": {},
   "source": [
    "<p style=\"background-color:#FFFFFF; font-family:newtimeroman; color:#0000FF; font-size:110%; text-align:left;\"><strong>-----------------------------------------------------------------------------------------------------------------------------------------------------------------------------------------------</strong></p>\n",
    "\n",
    "<p style=\"background-color:#FFFFFF; font-family:newtimeroman; color:#0000FF; font-size:125%; text-align:left;\"><strong>👉 Customizing a JOINTPLOT with KIND Parameter in Seaborn:</strong></p>\n",
    "\n",
    "\n",
    "**The code snippet below creates a ``joint plot`` using Seaborn's ``jointplot()`` function to visualize the ``relationship between total bill amounts and tips`` using a ``hexbin plot``. This type of plot is particularly useful for large datasets, as it represents the count of observations in hexagonal bins, helping to reduce overplotting.**"
   ]
  },
  {
   "cell_type": "code",
   "execution_count": null,
   "metadata": {
    "colab": {
     "base_uri": "https://localhost:8080/",
     "height": 458
    },
    "id": "0GutjXD-x4D3",
    "outputId": "879c245e-4685-4421-8d0f-7cff43803eb0"
   },
   "outputs": [],
   "source": [
    "# Create a joint plot for total bill and tip amounts using a hexbin plot\n",
    "\n",
    "sns.jointplot(x='total_bill', y='tip', data=tips, kind=\"hex\");"
   ]
  },
  {
   "cell_type": "markdown",
   "metadata": {},
   "source": [
    "The **``hexbin``** plot effectively shows areas of **``higher density``**, allowing us to quickly identify **``where tips and total bills are concentrated``**. This visualization is particularly **``useful for larger datasets``**, as it **``reduces clutter``** and makes it **``easier to see relationships between the two variables``**. We can observe trends, such as whether higher total bills are associated with higher tips, and how these variables interact overall.\n",
    "\n",
    "<p style=\"background-color:#FFFFFF; font-family:newtimeroman; color:#0000FF; font-size:110%; text-align:left;\"><strong>-----------------------------------------------------------------------------------------------------------------------------------------------------------------------------------------------</strong></p>\n"
   ]
  },
  {
   "cell_type": "markdown",
   "metadata": {
    "id": "2ZRDGGuVx9x2"
   },
   "source": [
    "## <p style=\"background-color:#E51A59; font-family:newtimeroman; color:#FFF9ED; font-size:150%; text-align:CENTER; border-radius:10px 10px;\">PAIRPLOT</p>\n",
    "\n",
    "<a id=\"3\"></a>\n",
    "<a href=\"#toc\" class=\"btn btn-primary btn-sm\" role=\"button\" aria-pressed=\"true\" \n",
    "style=\"color:blue; background-color:#dfa8e4\" data-toggle=\"popover\">Content</a>\n",
    "\n",
    "Pairplot visualizes given data to find the **relationship** between them where the variables can be **continuous or categorical**. It plots pairwise relationships in a data-set.\n",
    "\n",
    "\n",
    "- 🧐 **[seaborn.pairplot Documentation](https://seaborn.pydata.org/generated/seaborn.pairplot.html)**<br>\n",
    "- 🧐 **[PAIRPLOT VISUALIZATION](https://medium.com/analytics-vidhya/pairplot-visualization-16325cd725e6)**<br>\n",
    "- 🧐 **[Visualizing Data with Pairs Plots in Python](https://towardsdatascience.com/visualizing-data-with-pair-plots-in-python-f228cf529166)**<br>\n",
    "\n",
    "\n",
    "<p style=\"background-color:#FFFFFF; font-family:newtimeroman; color:#0000FF; font-size:110%; text-align:left;\"><strong>-----------------------------------------------------------------------------------------------------------------------------------------------------------------------------------------------</strong></p>\n",
    "\n",
    "\n",
    "<p style=\"background-color:#FFFFFF; font-family:newtimeroman; color:#FF0000; font-size:125%; text-align:left;\"><strong>🤔💭 How to make a pairplot in Python and the Seaborn pairplot interpretation❓</strong></p>"
   ]
  },
  {
   "cell_type": "code",
   "execution_count": null,
   "metadata": {},
   "outputs": [],
   "source": [
    "from IPython.display import HTML, IFrame \n",
    "\n",
    "# Embed the YouTube video\n",
    "HTML('<iframe width=\"800\" height=\"500\" src=\"https://www.youtube.com/embed/uCgvlfIo9fg\" title=\"YouTube video player\" frameborder=\"0\" allow=\"accelerometer; autoplay; clipboard-write; encrypted-media; gyroscope; picture-in-picture\" allowfullscreen></iframe>')"
   ]
  },
  {
   "cell_type": "markdown",
   "metadata": {},
   "source": [
    "<p style=\"background-color:#FFFFFF; font-family:newtimeroman; color:#0000FF; font-size:110%; text-align:left;\"><strong>-----------------------------------------------------------------------------------------------------------------------------------------------------------------------------------------------</strong></p>\n"
   ]
  },
  {
   "cell_type": "raw",
   "metadata": {},
   "source": [
    "sns.pairplot(\n",
    "            data,\n",
    "            *,\n",
    "            hue=None,\n",
    "            hue_order=None,\n",
    "            palette=None,\n",
    "            vars=None,\n",
    "            x_vars=None,\n",
    "            y_vars=None,\n",
    "            kind='scatter',\n",
    "            diag_kind='auto',\n",
    "            markers=None,\n",
    "            height=2.5,\n",
    "            aspect=1,\n",
    "            corner=False,\n",
    "            dropna=False,\n",
    "            plot_kws=None,\n",
    "            diag_kws=None,\n",
    "            grid_kws=None,\n",
    "            size=None,\n",
    "            )\n",
    "Docstring:\n",
    "Plot pairwise relationships in a dataset.\n",
    "\n",
    "By default, this function will create a grid of Axes such that each numeric variable in ``data`` will by shared across the y-axes across a single row and the x-axes across a single column. The diagonal plots are treated differently: a univariate distribution plot is drawn to show the marginal distribution of the data in each column.\n",
    "\n",
    "It is also possible to show a subset of variables or plot different variables on the rows and columns.\n",
    "\n",
    "This is a high-level interface for :class:`PairGrid` that is intended to make it easy to draw a few common styles. You should use :class:`PairGrid` directly if you need more flexibility.\n",
    "\n",
    "Parameters\n",
    "----------\n",
    "data : `pandas.DataFrame`\n",
    "    Tidy (long-form) dataframe where each column is a variable and each row is an observation.\n",
    "hue : name of variable in ``data``\n",
    "    Variable in ``data`` to map plot aspects to different colors.\n",
    "hue_order : list of strings\n",
    "    Order for the levels of the hue variable in the palette\n",
    "palette : dict or seaborn color palette\n",
    "    Set of colors for mapping the ``hue`` variable. If a dict, keys should be values  in the ``hue`` variable.\n",
    "vars : list of variable names\n",
    "    Variables within ``data`` to use, otherwise use every column with a numeric datatype.\n",
    "{x, y}_vars : lists of variable names\n",
    "    Variables within ``data`` to use separately for the rows and columns of the figure; i.e. to make a non-square plot.\n",
    "kind : {'scatter', 'kde', 'hist', 'reg'}\n",
    "    Kind of plot to make.\n",
    "diag_kind : {'auto', 'hist', 'kde', None}\n",
    "    Kind of plot for the diagonal subplots. If 'auto', choose based on whether or not ``hue`` is used.\n",
    "markers : single matplotlib marker code or list\n",
    "    Either the marker to use for all scatterplot points or a list of markers with a length the same as the number of levels in\n",
    "    the hue variable so that differently colored points will also have different scatterplot markers.\n",
    "height : scalar\n",
    "    Height (in inches) of each facet.\n",
    "aspect : scalar\n",
    "    Aspect * height gives the width (in inches) of each facet.\n",
    "corner : bool\n",
    "    If True, don't add axes to the upper (off-diagonal) triangle of the grid, making this a \"corner\" plot.\n",
    "dropna : boolean\n",
    "    Drop missing values from the data before plotting.\n",
    "{plot, diag, grid}_kws : dicts\n",
    "    Dictionaries of keyword arguments. ``plot_kws`` are passed to the bivariate plotting function, ``diag_kws`` are passed to \n",
    "    the univariate plotting function, and ``grid_kws`` are passed to the :class:`PairGrid` constructor.\n",
    "\n",
    "Returns\n",
    "-------\n",
    "grid : :class:`PairGrid`\n",
    "    Returns the underlying :class:`PairGrid` instance for further tweaking.\n",
    "\n",
    "See Also\n",
    "--------\n",
    "PairGrid  : Subplot grid for more flexible plotting of pairwise relationships.\n",
    "JointGrid : Grid for plotting joint and marginal distributions of two variables."
   ]
  },
  {
   "cell_type": "markdown",
   "metadata": {},
   "source": [
    "<p style=\"background-color:#FFFFFF; font-family:newtimeroman; color:#0000FF; font-size:110%; text-align:left;\"><strong>-----------------------------------------------------------------------------------------------------------------------------------------------------------------------------------------------</strong></p>\n",
    "\n",
    "<p style=\"background-color:#FFFFFF; font-family:newtimeroman; color:#0000FF; font-size:125%; text-align:left;\"><strong>👉 Creating a BASIC PAIRPLOT in Seaborn:</strong></p>\n",
    "\n",
    "\n",
    "**The ``pairplot()`` function in Seaborn is used to visualize ``pairwise relationships`` in a dataset. It creates a ``matrix of scatter plots`` for ``each combination of numeric variables`` in the dataset, along with ``histograms`` or ``kernel density estimates`` on the diagonal.**"
   ]
  },
  {
   "cell_type": "code",
   "execution_count": null,
   "metadata": {
    "colab": {
     "base_uri": "https://localhost:8080/",
     "height": 567
    },
    "id": "ixejFYEkx5bH",
    "outputId": "16503e44-9a4c-4488-a0c0-399a2ce1f1f8"
   },
   "outputs": [],
   "source": [
    "# pairplot() method plots pairwise relationships in a dataset.\n",
    "\n",
    "# Create a pair plot for the tips dataset\n",
    "sns.pairplot(tips);"
   ]
  },
  {
   "cell_type": "markdown",
   "metadata": {},
   "source": [
    "- **👉 NOTE:** You can also customize the pairplot by adding parameters like ``hue`` to differentiate points by a categorical variable (e.g., hue='sex' to color points based on gender). This can provide additional insights into how different groups interact within the dataset.\n",
    "\n",
    "- **👉 NOTE:** A pairwise relationship refers to the relationship or interaction between two variables in a dataset. When analyzing data, especially in exploratory data analysis (EDA), understanding pairwise relationships helps identify how two variables influence or relate to each other.\n",
    "\n",
    "**Key Aspects of Pairwise Relationships:**\n",
    "   - **``Correlation``**: Pairwise relationships can indicate how closely two variables move together. For example, a strong positive correlation means that as one variable increases, the other also tends to increase.\n",
    "   - **``Scatter Plots``**: Visualizing pairwise relationships is often done using scatter plots, where one variable is plotted on the x-axis and the other on the y-axis. This can help identify trends, clusters, and outliers.\n",
    "   - **``Statistical Analysis``**: Statistical measures, such as Pearson's correlation coefficient, can quantify the strength and direction of the relationship between two continuous variables.\n",
    "   - **``Multivariate Analysis``**: In a dataset with multiple variables, examining pairwise relationships helps understand the overall structure and interactions within the data. This is particularly useful in identifying patterns and potential predictors for modeling."
   ]
  },
  {
   "cell_type": "markdown",
   "metadata": {},
   "source": [
    "### <p style=\"background-color:#E51A59; font-family:newtimeroman; color:#FFF9ED; font-size:150%; text-align:left; border-radius:10px 10px;\">\"palette\" Parameter</p>\n",
    "\n",
    "<a id=\"3.1\"></a>\n",
    "<a href=\"#toc\" class=\"btn btn-primary btn-sm\" role=\"button\" aria-pressed=\"true\" \n",
    "style=\"color:blue; background-color:#dfa8e4\" data-toggle=\"popover\">Content</a>\n",
    "\n",
    "**``palette:``** ``dict or seaborn color palette``\n",
    "\n",
    "Set of colors for mapping the hue variable. If a dict, keys should be values in the hue variable.\n",
    "\n",
    "- 🧐 **[Source](https://seaborn.pydata.org/generated/seaborn.pairplot.html)**\n",
    "\n",
    "Seaborn has six variations of its default color palette: \"deep\", \"muted\", \"pastel\", \"bright\", \"dark\", and \"colorblind\". For learning how to play with palette colors 🧐 **[visit HERE](https://www.codecademy.com/article/seaborn-design-ii) and [visit HERE](https://seaborn.pydata.org/tutorial/color_palettes.html)**\n",
    "\n",
    "Some palette color examples: \"viridis\" \"crest\", \"magma\", \"rocket\", \"rocket_r\", \"cubehelix\", \"seagreen\" \"dark:salmon_r\", \"Blues\", \"vlag\", \"icefire\" etc.\n",
    "\n",
    "- 🧐 **[Source](https://seaborn.pydata.org/tutorial/color_palettes.html)**\n",
    "\n",
    "To set custom seaborn color palette using hex codes, and name the colors, visit the following sources 🧐 **[SOURCE 01](https://stackoverflow.com/questions/52652264/set-custom-seaborn-color-palette-using-hex-codes-and-name-the-colors), [SOURCE 02](https://moonbooks.org/Articles/How-to-extract-html-color-codes-hex-codes-from-a-seaborn-palette-/), [SOURCE 03](https://towardsdatascience.com/how-to-use-your-own-color-palettes-with-seaborn-a45bf5175146) and [SOURCE 04](https://medium.com/@neuralnets/data-visualization-with-python-and-seaborn-part-3-69647c19bf2)**"
   ]
  },
  {
   "cell_type": "markdown",
   "metadata": {},
   "source": [
    "<p style=\"background-color:#FFFFFF; font-family:newtimeroman; color:#0000FF; font-size:110%; text-align:left;\"><strong>-----------------------------------------------------------------------------------------------------------------------------------------------------------------------------------------------</strong></p>\n",
    "\n",
    "\n",
    "**The possible value of the palette are:**\n",
    "\n",
    "'Accent', 'Accent_r', 'Blues', 'Blues_r', 'BrBG', 'BrBG_r', 'BuGn', 'BuGn_r', 'BuPu', 'BuPu_r', 'CMRmap', 'CMRmap_r', 'Dark2', 'Dark2_r', 'GnBu', 'GnBu_r', 'Greens', 'Greens_r', 'Greys', 'Greys_r', 'OrRd', 'OrRd_r', 'Oranges', 'Oranges_r', 'PRGn', 'PRGn_r', 'Paired', 'Paired_r', 'Pastel1', 'Pastel1_r', 'Pastel2', 'Pastel2_r', 'PiYG', 'PiYG_r', 'PuBu', 'PuBuGn', 'PuBuGn_r', 'PuBu_r', 'PuOr', 'PuOr_r', 'PuRd', 'PuRd_r', 'Purples', 'Purples_r', 'RdBu', 'RdBu_r', 'RdGy', 'RdGy_r', 'RdPu', 'RdPu_r', 'RdYlBu', 'RdYlBu_r', 'RdYlGn', 'RdYlGn_r', 'Reds', 'Reds_r', 'Set1', 'Set1_r', 'Set2', 'Set2_r', 'Set3', 'Set3_r', 'Spectral', 'Spectral_r', 'Wistia', 'Wistia_r', 'YlGn', 'YlGnBu', 'YlGnBu_r', 'YlGn_r', 'YlOrBr', 'YlOrBr_r', 'YlOrRd', 'YlOrRd_r', 'afmhot', 'afmhot_r', 'autumn', 'autumn_r', 'binary', 'binary_r', 'bone', 'bone_r', 'brg', 'brg_r', 'bwr', 'bwr_r', 'cividis', 'cividis_r', 'cool', 'cool_r', 'coolwarm', 'coolwarm_r', 'copper', 'copper_r', 'crest', 'crest_r', 'cubehelix', 'cubehelix_r', 'flag', 'flag_r', 'flare', 'flare_r', 'gist_earth', 'gist_earth_r', 'gist_gray', 'gist_gray_r', 'gist_heat', 'gist_heat_r', 'gist_ncar', 'gist_ncar_r', 'gist_rainbow', 'gist_rainbow_r', 'gist_stern', 'gist_stern_r', 'gist_yarg', 'gist_yarg_r', 'gnuplot', 'gnuplot2', 'gnuplot2_r', 'gnuplot_r', 'gray', 'gray_r', 'hot', 'hot_r', 'hsv', 'hsv_r', 'icefire', 'icefire_r', 'inferno', 'inferno_r', 'jet', 'jet_r', 'magma', 'magma_r', 'mako', 'mako_r', 'nipy_spectral', 'nipy_spectral_r', 'ocean', 'ocean_r', 'pink', 'pink_r', 'plasma', 'plasma_r', 'prism', 'prism_r', 'rainbow', 'rainbow_r', 'rocket', 'rocket_r', 'seismic', 'seismic_r', 'spring', 'spring_r', 'summer', 'summer_r', 'tab10', 'tab10_r', 'tab20', 'tab20_r', 'tab20b', 'tab20b_r', 'tab20c', 'tab20c_r', 'terrain', 'terrain_r', 'turbo', 'turbo_r', 'twilight', 'twilight_r', 'twilight_shifted', 'twilight_shifted_r', 'viridis', 'viridis_r', 'vlag', 'vlag_r', 'winter', 'winter_r'\n",
    "\n",
    "**🧐 [Choosing color palettes in Seaborn](https://seaborn.pydata.org/tutorial/color_palettes.html)**\n",
    "\n",
    "**🧐 [Seaborn Palette Options](https://gist.github.com/topspinj/6eefa8bf54850d90eccf1d3715e019b2)**\n",
    "\n",
    "**🧐 [Seaborn – Color Palette](https://www.geeksforgeeks.org/seaborn-color-palette/)**\n",
    "\n",
    "<img src=https://i.ibb.co/SJPDp2c/seaborn-colors.png width=\"700\" height=\"200\">  "
   ]
  },
  {
   "cell_type": "markdown",
   "metadata": {},
   "source": [
    "<p style=\"background-color:#FFFFFF; font-family:newtimeroman; color:#0000FF; font-size:110%; text-align:left;\"><strong>-----------------------------------------------------------------------------------------------------------------------------------------------------------------------------------------------</strong></p>\n",
    "\n",
    "<p style=\"background-color:#FFFFFF; font-family:newtimeroman; color:#0000FF; font-size:125%; text-align:left;\"><strong>👉 Customizing a PAIRPLOT with HUE & PALETTE Parameter in Seaborn:</strong></p>\n",
    "\n",
    "\n",
    "**The code snippet below creates a ``pair plot`` using Seaborn's ``pairplot()`` function to visualize ``pairwise relationships in the tips dataset``, differentiated by the ``sex`` variable. This allows for a clearer understanding of how male and female customers behave regarding total bills, tips, and other numeric variables.**"
   ]
  },
  {
   "cell_type": "code",
   "execution_count": null,
   "metadata": {
    "colab": {
     "base_uri": "https://localhost:8080/",
     "height": 567
    },
    "id": "s8N-3mZxyAZv",
    "outputId": "7e94a989-7757-4caa-8614-9e3388a434ed"
   },
   "outputs": [],
   "source": [
    "# \"viridis\" \"crest\", \"magma\", \"rocket\", \"rocket_r\", \"cubehelix\", \"seagreen\" \"dark:salmon_r\", \"Blues\", \"vlag\", \"icefire\",\n",
    "\n",
    "sns.pairplot(tips, hue='sex', palette=\"viridis\");\n",
    "\n",
    "# hue='sex': Colors the points based on the sex variable (male or female).\n",
    "# palette=\"viridis\": Specifies the color palette to use for the different categories."
   ]
  },
  {
   "cell_type": "markdown",
   "metadata": {},
   "source": [
    "Using **``hue``** in the pair plot allows you to:\n",
    "   - **``Identify Differences``**: Quickly assess how male and female customers differ in their spending and tipping behaviors.\n",
    "   - **``Spot Trends``**: Observe any patterns or clusters that may be influenced by gender.\n",
    "\n",
    "- **``Understand Interactions``**: Gain insights into how different variables interact with each other across different groups.\n",
    "\n",
    "<p style=\"background-color:#FFFFFF; font-family:newtimeroman; color:#0000FF; font-size:110%; text-align:left;\"><strong>-----------------------------------------------------------------------------------------------------------------------------------------------------------------------------------------------</strong></p>\n"
   ]
  },
  {
   "cell_type": "markdown",
   "metadata": {},
   "source": [
    "### <p style=\"background-color:#E51A59; font-family:newtimeroman; color:#FFF9ED; font-size:150%; text-align:left; border-radius:10px 10px;\">\"corner\" Parameter</p>\n",
    "\n",
    "<a id=\"3.2\"></a>\n",
    "<a href=\"#toc\" class=\"btn btn-primary btn-sm\" role=\"button\" aria-pressed=\"true\" \n",
    "style=\"color:blue; background-color:#dfa8e4\" data-toggle=\"popover\">Content</a>\n",
    "\n",
    "**``corner``:** ``bool``\n",
    "\n",
    "- If True, don’t add axes to the upper (off-diagonal) triangle of the grid, making this a “corner” plot.\n",
    "\n",
    "**🧐 [Source](https://seaborn.pydata.org/generated/seaborn.pairplot.html)**"
   ]
  },
  {
   "cell_type": "markdown",
   "metadata": {},
   "source": [
    "<p style=\"background-color:#FFFFFF; font-family:newtimeroman; color:#0000FF; font-size:110%; text-align:left;\"><strong>-----------------------------------------------------------------------------------------------------------------------------------------------------------------------------------------------</strong></p>\n",
    "\n",
    "<p style=\"background-color:#FFFFFF; font-family:newtimeroman; color:#0000FF; font-size:125%; text-align:left;\"><strong>👉 Customizing a PAIRPLOT with CORNER Parameter in Seaborn:</strong></p>\n",
    "\n",
    "\n",
    "**The code snippet below creates a ``pair plot`` using Seaborn's ``pairplot()`` function, visualizing ``pairwise relationships`` in the tips dataset while distinguishing between ``male and female customers`` using the ``sex`` variable.** \n",
    "\n",
    "- The **``corner=True``** parameter creates a **``lower triangle of plots``**, **``omitting the upper triangle``** and making the plot more concise."
   ]
  },
  {
   "cell_type": "code",
   "execution_count": null,
   "metadata": {
    "colab": {
     "base_uri": "https://localhost:8080/",
     "height": 567
    },
    "id": "FQyPfit3yF8o",
    "outputId": "b1b3503b-57e9-42f1-aa7e-1d713ab869e3"
   },
   "outputs": [],
   "source": [
    "# Create a pair plot for the tips dataset, colored by sex, with a corner plot\n",
    "\n",
    "sns.pairplot(tips, hue='sex', palette='viridis', corner=True);"
   ]
  },
  {
   "cell_type": "markdown",
   "metadata": {},
   "source": [
    " - **``hue='sex'``**: Colors the points based on the sex variable (male or female).\n",
    " - **``palette='viridis'``**: Specifies the color palette to use for different categories.\n",
    " - **``corner=True``**: Displays only the lower triangle of the scatter plot matrix, omitting the upper triangle and diagonal, which reduces redundancy."
   ]
  },
  {
   "cell_type": "markdown",
   "metadata": {},
   "source": [
    "<p style=\"background-color:#FFFFFF; font-family:newtimeroman; color:#0000FF; font-size:110%; text-align:left;\"><strong>-----------------------------------------------------------------------------------------------------------------------------------------------------------------------------------------------</strong></p>\n",
    "\n",
    "<p style=\"background-color:#FFFFFF; font-family:newtimeroman; color:#0000FF; font-size:125%; text-align:left;\"><strong>👉 Creating and Customizing a KDEPLOT with SHADE Parameter in Seaborn:</strong></p>\n",
    "\n",
    "\n",
    "**Let's remember our ``\"kdeplot()\"`` function at Seaborn, and plot each variable above individually using \"kdeplot()\"**\n",
    "\n",
    "**The code snippet below creates a ``Kernel Density Estimate (KDE)`` plot using Seaborn's ``kdeplot()`` function to visualize the ``distribution of total bill amounts`` in the tips dataset, differentiated by the ``sex`` variable.** \n",
    "\n",
    "- The **``shade=True``** parameter **``fills the area under the KDE curves``** for better visual distinction."
   ]
  },
  {
   "cell_type": "code",
   "execution_count": null,
   "metadata": {},
   "outputs": [],
   "source": [
    "# Create a KDE plot for total bill amounts, colored by sex\n",
    "\n",
    "sns.kdeplot(data=tips, x=\"total_bill\", hue=\"sex\", palette='viridis', shade=True);"
   ]
  },
  {
   "cell_type": "markdown",
   "metadata": {},
   "source": [
    "**When you run the code above, you will see:**\n",
    "\n",
    "- A KDE plot displaying the estimated density of total bill amounts for male and female customers.\n",
    "- Curves that indicate how the distribution of total bills varies between the two groups, with shaded areas for better visibility."
   ]
  },
  {
   "cell_type": "markdown",
   "metadata": {},
   "source": [
    "<p style=\"background-color:#FFFFFF; font-family:newtimeroman; color:#0000FF; font-size:110%; text-align:left;\"><strong>-----------------------------------------------------------------------------------------------------------------------------------------------------------------------------------------------</strong></p>\n",
    "\n",
    "**The code snippet below creates a ``Kernel Density Estimate (KDE)`` plot using Seaborn's ``kdeplot()`` function to visualize the ``distribution of tips`` in the tips dataset, differentiated by the ``sex`` variable.**"
   ]
  },
  {
   "cell_type": "code",
   "execution_count": null,
   "metadata": {},
   "outputs": [],
   "source": [
    "# Create a KDE plot for tip amounts, colored by sex\n",
    "\n",
    "sns.kdeplot(data=tips, x=\"tip\", hue=\"sex\", palette='viridis', shade=True);"
   ]
  },
  {
   "cell_type": "markdown",
   "metadata": {},
   "source": [
    "**When we run the code above, we will see:**\n",
    "\n",
    "- A **``KDE plot``** displaying the **``estimated density of tip amounts for male and female customers``**.\n",
    "- **``Shaded curves``** that indicate **``how the distribution of tips varies between the two groups``**."
   ]
  },
  {
   "cell_type": "markdown",
   "metadata": {},
   "source": [
    "<p style=\"background-color:#FFFFFF; font-family:newtimeroman; color:#0000FF; font-size:110%; text-align:left;\"><strong>-----------------------------------------------------------------------------------------------------------------------------------------------------------------------------------------------</strong></p>\n",
    "\n",
    "**The code snippet below creates a ``Kernel Density Estimate (KDE)`` plot using Seaborn's ``kdeplot()`` function to visualize the ``distribution of the size`` variable (representing the number of people in a party) in the tips dataset, differentiated by the ``sex`` variable.**"
   ]
  },
  {
   "cell_type": "code",
   "execution_count": null,
   "metadata": {},
   "outputs": [],
   "source": [
    "# Create a KDE plot for size, colored by sex\n",
    "\n",
    "sns.kdeplot(data=tips, x=\"size\", hue=\"sex\", palette='viridis', shade=True);"
   ]
  },
  {
   "cell_type": "markdown",
   "metadata": {},
   "source": [
    "**When you run the code above, you will see:**\n",
    "\n",
    "- A KDE plot displaying the estimated density of party sizes for male and female customers.\n",
    "- Shaded curves that indicate how the distribution of party sizes varies between the two groups.\n",
    "\n",
    "<p style=\"background-color:#FFFFFF; font-family:newtimeroman; color:#0000FF; font-size:110%; text-align:left;\"><strong>-----------------------------------------------------------------------------------------------------------------------------------------------------------------------------------------------</strong></p>\n"
   ]
  },
  {
   "cell_type": "markdown",
   "metadata": {},
   "source": [
    "### <p style=\"background-color:#E51A59; font-family:newtimeroman; color:#FFF9ED; font-size:150%; text-align:left; border-radius:10px 10px;\">\"diag_kind\" Parameter</p>\n",
    "\n",
    "<a id=\"3.3\"></a>\n",
    "<a href=\"#toc\" class=\"btn btn-primary btn-sm\" role=\"button\" aria-pressed=\"true\" \n",
    "style=\"color:blue; background-color:#dfa8e4\" data-toggle=\"popover\">Content</a>\n",
    "\n",
    "**``diag_kind``:** ``{‘auto’, ‘hist’, ‘kde’, None}``\n",
    "\n",
    "- Kind of plot for the diagonal subplots. If ‘auto’, choose based on whether or not hue is used. The default depends on whether \"hue\" is used or not.\n",
    "\n",
    "**🧐 [Source](https://seaborn.pydata.org/generated/seaborn.pairplot.html)**"
   ]
  },
  {
   "cell_type": "markdown",
   "metadata": {},
   "source": [
    "<p style=\"background-color:#FFFFFF; font-family:newtimeroman; color:#0000FF; font-size:110%; text-align:left;\"><strong>-----------------------------------------------------------------------------------------------------------------------------------------------------------------------------------------------</strong></p>\n",
    "\n",
    "<p style=\"background-color:#FFFFFF; font-family:newtimeroman; color:#0000FF; font-size:125%; text-align:left;\"><strong>👉 Customizing a PAIRPLOT with DIAGONAL KIND Parameter in Seaborn:</strong></p>\n",
    "\n",
    "\n",
    "**The code snippets below demonstrate different ways to create pair plots using Seaborn's pairplot() function, each with varying configurations for visualizing the tips dataset.** "
   ]
  },
  {
   "cell_type": "code",
   "execution_count": null,
   "metadata": {},
   "outputs": [],
   "source": [
    "# Pair plot with hue and auto diagonal\n",
    "sns.pairplot(tips, hue='sex', palette='viridis', corner=True, diag_kind='Auto'); # Automatically selects the best representation for the diagonal\n",
    "\n",
    "# Pair plot with hue and default diagonal\n",
    "# sns.pairplot(tips, hue='sex', palette='viridis', corner=True); # default diagonal 'Auto'\n",
    "\n",
    "# Pair plot without hue\n",
    "# sns.pairplot(tips, palette='viridis', corner=True); # diagonal"
   ]
  },
  {
   "cell_type": "markdown",
   "metadata": {},
   "source": [
    "- ``hue='sex'``: Allows you to see differences between male and female customers in the pairwise relationships.\n",
    "- ``diag_kind='auto'``: Automatically selects the best representation for the diagonal plots based on the data type. If the data is continuous, it might default to a histogram or KDE plot. If the variable types in the dataset are not recognized as suitable for plotting (e.g., if they are all categorical or have very few unique values), the diagonal might not show any meaningful plots.\n",
    "- ``corner=True``: Reduces the plot to only show the lower triangle, avoiding redundancy."
   ]
  },
  {
   "cell_type": "markdown",
   "metadata": {},
   "source": [
    "<p style=\"background-color:#FFFFFF; font-family:newtimeroman; color:#0000FF; font-size:110%; text-align:left;\"><strong>-----------------------------------------------------------------------------------------------------------------------------------------------------------------------------------------------</strong></p>\n",
    "\n",
    "<p style=\"background-color:#FFFFFF; font-family:newtimeroman; color:#0000FF; font-size:125%; text-align:left;\"><strong>👉 Customizing a PAIRPLOT with DIAGONAL KIND Parameter in Seaborn:</strong></p>\n",
    "\n",
    "\n",
    "**The code snippet below creates a ``pair plot`` using Seaborn's ``pairplot()`` function, visualizing ``pairwise relationships`` in the tips dataset while distinguishing between ``male and female customers`` using the ``sex`` variable.**"
   ]
  },
  {
   "cell_type": "code",
   "execution_count": null,
   "metadata": {
    "colab": {
     "base_uri": "https://localhost:8080/",
     "height": 567
    },
    "id": "oK4Qix8RyOb3",
    "outputId": "098d99cb-b452-4725-c277-353da5d53bdc"
   },
   "outputs": [],
   "source": [
    "# Create a pair plot with hue by sex and hist on the diagonal\n",
    "\n",
    "sns.pairplot(tips, hue='sex', palette='viridis', corner=True, diag_kind='hist'); # diagonal "
   ]
  },
  {
   "cell_type": "markdown",
   "metadata": {},
   "source": [
    "**When we run the code above, we will see:**\n",
    "\n",
    "- A grid of scatter plots showing the relationships between each pair of numeric variables, with colors indicating the sex of the customers.\n",
    "- Histograms on the diagonal that represent the distribution of each numeric variable.\n",
    "\n",
    "<p style=\"background-color:#FFFFFF; font-family:newtimeroman; color:#0000FF; font-size:110%; text-align:left;\"><strong>-----------------------------------------------------------------------------------------------------------------------------------------------------------------------------------------------</strong></p>\n"
   ]
  },
  {
   "cell_type": "markdown",
   "metadata": {
    "id": "whzlJni118h-"
   },
   "source": [
    "## <p style=\"background-color:#E51A59; font-family:newtimeroman; color:#FFF9ED; font-size:150%; text-align:CENTER; border-radius:10px 10px;\">PAIRGRID</p>\n",
    "\n",
    "<a id=\"4\"></a>\n",
    "<a href=\"#toc\" class=\"btn btn-primary btn-sm\" role=\"button\" aria-pressed=\"true\" \n",
    "style=\"color:blue; background-color:#dfa8e4\" data-toggle=\"popover\">Content</a>\n",
    "\n",
    "PairGrid allows us to draw a grid of subplots using the same plot type to visualize data.\n",
    "\n",
    "Unlike FacetGrid, it uses different pair of variable for each subplot. It forms a ``matrix of sub-plots``. It is also sometimes called as ``\"scatterplot matrix\"``.\n",
    "\n",
    "The usage of pairgrid is similar to facetgrid. First initialise the grid and then pass the plotting function.\n",
    "\n",
    "- 🧐 **[seaborn.PairGrid Documentation](https://seaborn.pydata.org/generated/seaborn.PairGrid.html)**<br>\n",
    "- 🧐 **[Seaborn - Pair Grid](https://www.tutorialspoint.com/seaborn/seaborn_pair_grid.htm)**<br>\n",
    "\n",
    "**Difference Between PairPlot and PairGrid**\n",
    "\n",
    "**``Pair plots``** are **``several bivariate distributions in one plot``** and can be made using just one simple function. Even the most basic one is very useful in a data analytics project where there are several continuous variables. We know that a scatter plot is widely used to present the relationship between two continuous variables. Pair plot puts several scatter plots in one plot and also provides the distribution diagonally.\n",
    "\n",
    "On the other hand; using **``PairGrid``**, an empty grid can be generated. And later we can fill this up as we like. It does NOT have to be a scatter plot. **``It can be any other bivariate plot``**.\n",
    "\n",
    "- 🧐 **[Pairplot and PairGrid in Python on YouTube](https://youtu.be/QxO2DQc5pCo)**<br>\n",
    "- 🧐 **[Pair plot and PairGrid in Details](https://towardsdatascience.com/pair-plot-and-pairgrid-in-details-f782975032ea)**<br>\n",
    "- 🧐 **[Using PairGrid and pairplot](https://campus.datacamp.com/courses/intermediate-data-visualization-with-seaborn/creating-plots-on-data-aware-grids?ex=5)**<br>\n",
    "\n",
    "<p style=\"background-color:#FFFFFF; font-family:newtimeroman; color:#0000FF; font-size:110%; text-align:left;\"><strong>-----------------------------------------------------------------------------------------------------------------------------------------------------------------------------------------------</strong></p>\n"
   ]
  },
  {
   "cell_type": "markdown",
   "metadata": {},
   "source": [
    "**sns.PairGrid()**\n",
    "\n",
    "- Subplot grid for plotting pairwise relationships in a dataset.\n",
    "\n",
    "- This object maps each variable in a dataset onto a column and row in a grid of multiple axes. Different axes-level plotting functions can be used to draw bivariate plots in the upper and lower triangles, and the the marginal distribution of each variable can be shown on the diagonal.\n",
    "\n",
    "\n",
    "<p style=\"background-color:#FFFFFF; font-family:newtimeroman; color:#FF0000; font-size:125%; text-align:left;\"><strong>🤔💭 Compare PairGrid vs pairplot and use seaborn PairGrid map and map_diag:</strong></p>"
   ]
  },
  {
   "cell_type": "code",
   "execution_count": null,
   "metadata": {},
   "outputs": [],
   "source": [
    "from IPython.display import HTML, IFrame \n",
    "\n",
    "# Embed the YouTube video\n",
    "HTML('<iframe width=\"800\" height=\"500\" src=\"https://www.youtube.com/embed/Skyp6-RmA84\" title=\"YouTube video player\" frameborder=\"0\" allow=\"accelerometer; autoplay; clipboard-write; encrypted-media; gyroscope; picture-in-picture\" allowfullscreen></iframe>')"
   ]
  },
  {
   "cell_type": "raw",
   "metadata": {},
   "source": [
    "sns.PairGrid(\n",
    "             data,\n",
    "             *,\n",
    "             hue=None,\n",
    "             hue_order=None,\n",
    "             palette=None,\n",
    "             hue_kws=None,\n",
    "             vars=None,\n",
    "             x_vars=None,\n",
    "             y_vars=None,\n",
    "             corner=False,\n",
    "             diag_sharey=True,\n",
    "             height=2.5,\n",
    "             aspect=1,\n",
    "             layout_pad=0.5,\n",
    "             despine=True,\n",
    "             dropna=False,\n",
    "             size=None,\n",
    "             )\n",
    "Docstring:     \n",
    "Subplot grid for plotting pairwise relationships in a dataset.\n",
    "\n",
    "This object maps each variable in a dataset onto a column and row in a grid of multiple axes. Different axes-level plotting functions can be used to draw bivariate plots in the upper and lower triangles, and the the marginal distribution of each variable can be shown on the diagonal.\n",
    "\n",
    "Several different common plots can be generated in a single line using :func:`pairplot`. Use :class:`PairGrid` when you need more flexibility.\n",
    "\n",
    "See the :ref:`tutorial <grid_tutorial>` for more information.\n",
    "Init docstring:\n",
    "Initialize the plot figure and PairGrid object.\n",
    "\n",
    "Parameters\n",
    "----------\n",
    "data : DataFrame\n",
    "    Tidy (long-form) dataframe where each column is a variable and each row is an observation.\n",
    "hue : string (variable name)\n",
    "    Variable in ``data`` to map plot aspects to different colors. This variable will be excluded from the default x and y \n",
    "    variables.\n",
    "hue_order : list of strings\n",
    "    Order for the levels of the hue variable in the palette\n",
    "palette : dict or seaborn color palette\n",
    "    Set of colors for mapping the ``hue`` variable. If a dict, keys should be values  in the ``hue`` variable.\n",
    "hue_kws : dictionary of param -> list of values mapping\n",
    "    Other keyword arguments to insert into the plotting call to let other plot attributes vary across levels of the hue variable\n",
    "    (e.g. the markers in a scatterplot).\n",
    "vars : list of variable names\n",
    "    Variables within ``data`` to use, otherwise use every column with a numeric datatype.\n",
    "{x, y}_vars : lists of variable names\n",
    "    Variables within ``data`` to use separately for the rows and columns of the figure; i.e. to make a non-square plot.\n",
    "corner : bool\n",
    "    If True, don't add axes to the upper (off-diagonal) triangle of the grid, making this a \"corner\" plot.\n",
    "height : scalar\n",
    "    Height (in inches) of each facet.\n",
    "aspect : scalar\n",
    "    Aspect * height gives the width (in inches) of each facet.\n",
    "layout_pad : scalar\n",
    "    Padding between axes; passed to ``fig.tight_layout``.\n",
    "despine : boolean\n",
    "    Remove the top and right spines from the plots.\n",
    "dropna : boolean\n",
    "    Drop missing values from the data before plotting.\n",
    "\n",
    "See Also\n",
    "--------\n",
    "pairplot  : Easily drawing common uses of :class:`PairGrid`.\n",
    "FacetGrid : Subplot grid for plotting conditional relationships."
   ]
  },
  {
   "cell_type": "markdown",
   "metadata": {},
   "source": [
    "<p style=\"background-color:#FFFFFF; font-family:newtimeroman; color:#0000FF; font-size:110%; text-align:left;\"><strong>-----------------------------------------------------------------------------------------------------------------------------------------------------------------------------------------------</strong></p>\n",
    "\n",
    "<p style=\"background-color:#FFFFFF; font-family:newtimeroman; color:#0000FF; font-size:125%; text-align:left;\"><strong>👉 Creating an EMPTY PAIRGRID in Seaborn:</strong></p>\n",
    "\n",
    "\n",
    "**The ``PairGrid()`` function in Seaborn is a powerful tool for visualizing pairwise relationships in a dataset. Unlike pairplot, PairGrid provides more flexibility in customizing the plots.**"
   ]
  },
  {
   "cell_type": "code",
   "execution_count": null,
   "metadata": {},
   "outputs": [],
   "source": [
    "# Create a PairGrid for the tips dataset.\n",
    "\n",
    "sns.PairGrid(tips);"
   ]
  },
  {
   "cell_type": "markdown",
   "metadata": {},
   "source": [
    "**When we run the code above, we will see:**\n",
    "\n",
    "1. Create a **``PairGrid Object``**:\n",
    "   - The PairGrid is a grid that allows us to **``map different types of plots to different sections of the grid``** for visualizing pairwise relationships between variables in your dataset.\n",
    "2. No Plots Yet:\n",
    "   - At this stage, no data visualizations are generated. The grid is empty, and we must specify how to populate it with plots using methods like **``map``**, **``map_lower``**, **``map_upper``**, and **``map_diag``**.\n",
    "   \n",
    "<p style=\"background-color:#FFFFFF; font-family:newtimeroman; color:#0000FF; font-size:110%; text-align:left;\"><strong>-----------------------------------------------------------------------------------------------------------------------------------------------------------------------------------------------</strong></p>\n"
   ]
  },
  {
   "cell_type": "markdown",
   "metadata": {},
   "source": [
    "\n",
    "<p style=\"background-color:#FFFFFF; font-family:newtimeroman; color:#0000FF; font-size:125%; text-align:left;\"><strong>👉 Creating and Mapping a PAIRGRID in Seaborn:</strong></p>\n",
    "\n",
    "\n",
    "**The code snippet below initializes a Seaborn ``PairGrid`` object for the tips dataset and then ``maps a scatter plot`` to all the cells in the grid.**"
   ]
  },
  {
   "cell_type": "code",
   "execution_count": null,
   "metadata": {
    "colab": {
     "base_uri": "https://localhost:8080/",
     "height": 546
    },
    "id": "HbwjaaTl1WnX",
    "outputId": "aaf7b90a-c28e-42dd-89ea-d913acb225ce"
   },
   "outputs": [],
   "source": [
    "# Subplot grid for plotting pairwise relationships in a dataset.\n",
    "\n",
    "# This creates a PairGrid object for the tips dataset. At this point, the grid is empty and ready to hold plots.\n",
    "g = sns.PairGrid(tips)\n",
    "\n",
    "# This line maps a scatter plot to every cell in the grid. \n",
    "# Since a PairGrid is designed to visualize pairwise relationships, this will create scatter plots for each pair of numeric variables in the dataset, including the diagonal.\n",
    "g = g.map(sns.scatterplot)"
   ]
  },
  {
   "cell_type": "markdown",
   "metadata": {},
   "source": [
    "**Summary of the code above**\n",
    "- **``g = sns.PairGrid(tips)``**: Initializes an empty grid for the tips dataset.\n",
    "- **``g = g.map(sns.scatterplot)``**: Populates the grid with scatter plots for all pairs of numeric variables.\n",
    "- **``Diagonal Plots``**: Scatter plots on the diagonal may not provide useful information; typically, you would use different plot types for better insights."
   ]
  },
  {
   "cell_type": "markdown",
   "metadata": {},
   "source": [
    "<p style=\"background-color:#FFFFFF; font-family:newtimeroman; color:#0000FF; font-size:110%; text-align:left;\"><strong>-----------------------------------------------------------------------------------------------------------------------------------------------------------------------------------------------</strong></p>\n",
    "\n",
    "<p style=\"background-color:#FFFFFF; font-family:newtimeroman; color:#0000FF; font-size:125%; text-align:left;\"><strong>👉 Creating and Mapping a PAIRGRID with Different Plots in Seaborn:</strong></p>\n",
    "\n",
    "\n",
    "**The code snippet below initializes a PairGrid object to create a visual representation of the tips dataset using Scatter plots and Histograms.**\n",
    "\n",
    "- **``Scatter Plots``**: Help visualize relationships between pairs of numeric variables, indicating how one variable may affect another.\n",
    "- **``Histograms``**: Provide insights into the distribution of individual variables, helping to identify skewness, modality, and outliers."
   ]
  },
  {
   "cell_type": "code",
   "execution_count": null,
   "metadata": {
    "colab": {
     "base_uri": "https://localhost:8080/",
     "height": 546
    },
    "id": "HRQqWw1r1_tu",
    "outputId": "d3a3c5e4-eb86-4d2f-ce51-2756e5c62cc9"
   },
   "outputs": [],
   "source": [
    "# Initialize the PairGrid Object\n",
    "g = sns.PairGrid(tips)\n",
    "\n",
    "# Map scatter plots to the upper triangle\n",
    "g.map_upper(sns.scatterplot)\n",
    "\n",
    "# Map histograms to the diagonal\n",
    "g.map_diag(sns.histplot);"
   ]
  },
  {
   "cell_type": "markdown",
   "metadata": {},
   "source": [
    "**When you run the code above, you will see:**\n",
    "\n",
    "- **``Upper Triangle``**: Scatter plots showing pairwise relationships between numeric variables.\n",
    "- **``Diagonal``**: Histograms displaying the distribution of each numeric variable in the dataset."
   ]
  },
  {
   "cell_type": "markdown",
   "metadata": {},
   "source": [
    "<p style=\"background-color:#FFFFFF; font-family:newtimeroman; color:#0000FF; font-size:110%; text-align:left;\"><strong>-----------------------------------------------------------------------------------------------------------------------------------------------------------------------------------------------</strong></p>\n",
    "\n",
    "<p style=\"background-color:#FFFFFF; font-family:newtimeroman; color:#0000FF; font-size:125%; text-align:left;\"><strong>👉 Creating and Mapping a PAIRGRID with Different Plots in Seaborn:</strong></p>\n",
    "\n",
    "\n",
    "**The code snippet below sets up a ``PairGrid`` for the tips dataset and ``customizes`` the ``types of plots`` and their ``colors`` for different sections of the grid.**"
   ]
  },
  {
   "cell_type": "code",
   "execution_count": null,
   "metadata": {
    "colab": {
     "base_uri": "https://localhost:8080/",
     "height": 546
    },
    "id": "RyVS56D62Ne3",
    "outputId": "52941523-9114-4841-ca66-a69baedbaaeb"
   },
   "outputs": [],
   "source": [
    "# Initialize the PairGrid Object for the tips dataset, creating an empty grid ready for plotting.\n",
    "g = sns.PairGrid(tips)\n",
    "\n",
    "# Maps scatter plots to the upper triangle of the grid, with the points displayed in purple.\n",
    "g.map_upper(sns.scatterplot, color=\"purple\")\n",
    "\n",
    "# Maps histograms to the diagonal, with the bars shown in cyan.\n",
    "g.map_diag(plt.hist, color=\"cyan\")\n",
    "\n",
    "# Maps Kernel Density Estimate (KDE) plots to the lower triangle, with the densities displayed in red.\n",
    "g.map_lower(sns.kdeplot, color=\"red\");"
   ]
  },
  {
   "cell_type": "markdown",
   "metadata": {},
   "source": [
    "**Insights:**\n",
    "- **``Upper Triangle (Scatter Plots)``**: Visualize pairwise relationships with points colored purple, allowing you to see how two variables relate to each other.\n",
    "- **``Diagonal (Histograms)``**: Show the distribution of individual variables with cyan bars, helping to identify trends and outliers.\n",
    "- **``Lower Triangle (KDE Plots)``**: Provide a smooth estimate of the distribution in red, giving a clearer view of density compared to histograms."
   ]
  },
  {
   "cell_type": "markdown",
   "metadata": {},
   "source": [
    "<p style=\"background-color:#FFFFFF; font-family:newtimeroman; color:#0000FF; font-size:110%; text-align:left;\"><strong>-----------------------------------------------------------------------------------------------------------------------------------------------------------------------------------------------</strong></p>\n",
    "\n",
    "<p style=\"background-color:#FFFFFF; font-family:newtimeroman; color:#0000FF; font-size:125%; text-align:left;\"><strong>👉 Creating and Mapping a PAIRGRID with Different Plots in Seaborn:</strong></p>\n",
    "\n",
    "\n",
    "**The code snippet below sets up a ``PairGrid`` for the tips dataset, incorporating the ``hue`` parameter to differentiate by the ``sex`` variable.**"
   ]
  },
  {
   "cell_type": "code",
   "execution_count": null,
   "metadata": {
    "colab": {
     "base_uri": "https://localhost:8080/",
     "height": 768
    },
    "id": "YAkeB-kV2ajA",
    "outputId": "3958296d-8191-40bf-9829-b2f4edc8116f"
   },
   "outputs": [],
   "source": [
    "# Initialize the PairGrid Object with hue \n",
    "g = sns.PairGrid(tips, hue=\"sex\", palette=\"viridis\")\n",
    "\n",
    "# Map scatter plots to the upper triangle (using scatterplot)\n",
    "g.map_upper(sns.scatterplot, linewidths=1, edgecolor=\"w\", s=40)\n",
    "\n",
    "# Map histograms to the diagonal (using histplot)\n",
    "g.map_diag(sns.distplot)\n",
    "\n",
    "# Map KDE plots to the lower triangle (using kdeplot)\n",
    "g.map_lower(sns.kdeplot)\n",
    "\n",
    "# Add a legend\n",
    "g.add_legend();"
   ]
  },
  {
   "cell_type": "markdown",
   "metadata": {},
   "source": [
    "**Insights:**\n",
    "- **``Upper Triangle (Scatter Plots)``**: Displays pairwise relationships between numeric variables, with points colored by sex.\n",
    "- **``Diagonal (Distribution Plots)``**: Histograms show the distribution of individual variables, enhanced with a KDE curve for added information.\n",
    "- **``Lower Triangle (KDE Plots)``**: Provides a smooth estimate of density for the variables, differentiated by sex, allowing for a clearer understanding of distribution shapes.\n",
    "\n",
    "<p style=\"background-color:#FFFFFF; font-family:newtimeroman; color:#0000FF; font-size:110%; text-align:left;\"><strong>-----------------------------------------------------------------------------------------------------------------------------------------------------------------------------------------------</strong></p>\n"
   ]
  },
  {
   "cell_type": "markdown",
   "metadata": {
    "id": "bP0VkVan3B6Y"
   },
   "source": [
    "## <p style=\"background-color:#E51A59; font-family:newtimeroman; color:#FFF9ED; font-size:150%; text-align:CENTER; border-radius:10px 10px;\">FACETGRID</p>\n",
    "\n",
    "<a id=\"5\"></a>\n",
    "<a href=\"#toc\" class=\"btn btn-primary btn-sm\" role=\"button\" aria-pressed=\"true\" \n",
    "style=\"color:blue; background-color:#dfa8e4\" data-toggle=\"popover\">Content</a>\n",
    "\n",
    "FacetGrid object takes a dataframe as input and the names of the variables that will form the row, column, or hue dimensions of the grid. The variables should be **categorical** and the data at each level of the variable will be used for a facet along that axis.\n",
    "\n",
    "A **``FacetGrid``** can be drawn with up to **``three dimensions``** − **``row``**, **``col``**, and **``hue``**. The first two have obvious correspondence with the resulting array of axes; think of the ``hue`` variable as a third dimension along a **depth axis**, where different levels are plotted with different colors.\n",
    "\n",
    "\n",
    "🧐 **[seaborn.FacetGrid Documentation](https://seaborn.pydata.org/generated/seaborn.FacetGrid.html)**<br>\n",
    "🧐 **[Seaborn - Facet Grid](https://www.tutorialspoint.com/seaborn/seaborn_facet_grid.htm)**<br>\n",
    "🧐 **[Seaborn FacetGrid: Taking Subplots Further](https://towardsdatascience.com/seaborn-facetgrid-taking-subplots-further-15ee7af54e44)**<br>\n",
    "🧐 **[Using Seaborn’s FacetGrid Based Methods for Exploratory Data Analysis](https://www.analyticsvidhya.com/blog/2021/07/using-seaborns-facetgrid-based-methods-for-exploratory-data-analysis/)**<br>\n",
    "\n",
    "<p style=\"background-color:#FFFFFF; font-family:newtimeroman; color:#0000FF; font-size:110%; text-align:left;\"><strong>-----------------------------------------------------------------------------------------------------------------------------------------------------------------------------------------------</strong></p>\n",
    "\n",
    "\n",
    "\n",
    "<p style=\"background-color:#FFFFFF; font-family:newtimeroman; color:#FF0000; font-size:125%; text-align:left;\"><strong>🤔💭 Seaborn FacetGrid | How to make Small Multiples with Python Seaborn | Titles, Hue, Legend❓</strong></p>"
   ]
  },
  {
   "cell_type": "code",
   "execution_count": null,
   "metadata": {
    "scrolled": true
   },
   "outputs": [],
   "source": [
    "from IPython.display import YouTubeVideo\n",
    "\n",
    "# Embed the YouTube video\n",
    "YouTubeVideo('YYeqJllXHxM', width=800, height=500)"
   ]
  },
  {
   "cell_type": "markdown",
   "metadata": {},
   "source": [
    "<p style=\"background-color:#FFFFFF; font-family:newtimeroman; color:#0000FF; font-size:110%; text-align:left;\"><strong>-----------------------------------------------------------------------------------------------------------------------------------------------------------------------------------------------</strong></p>\n"
   ]
  },
  {
   "cell_type": "raw",
   "metadata": {},
   "source": [
    "sns.FacetGrid(\n",
    "              data,\n",
    "              *,\n",
    "              row=None,\n",
    "              col=None,\n",
    "              hue=None,\n",
    "              col_wrap=None,\n",
    "              sharex=True,\n",
    "              sharey=True,\n",
    "              height=3,\n",
    "              aspect=1,\n",
    "              palette=None,\n",
    "              row_order=None,\n",
    "              col_order=None,\n",
    "              hue_order=None,\n",
    "              hue_kws=None,\n",
    "              dropna=False,\n",
    "              legend_out=True,\n",
    "              despine=True,\n",
    "              margin_titles=False,\n",
    "              xlim=None,\n",
    "              ylim=None,\n",
    "              subplot_kws=None,\n",
    "              gridspec_kws=None,\n",
    "              size=None,\n",
    "              )\n",
    "Docstring:      \n",
    "Multi-plot grid for plotting conditional relationships.\n",
    "\n",
    "Init docstring:\n",
    "Initialize the matplotlib figure and FacetGrid object.\n",
    "\n",
    "This class maps a dataset onto multiple axes arrayed in a grid of rows and columns that correspond to *levels* of variables in the dataset. The plots it produces are often called \"lattice\", \"trellis\", or \"small-multiple\" graphics.\n",
    "\n",
    "It can also represent levels of a third variable with the ``hue`` parameter, which plots different subsets of data in different colors. This uses color to resolve elements on a third dimension, but only draws subsets on top of each other and will not tailor the ``hue`` parameter for the specific visualization the way that axes-level functions that accept ``hue`` will.\n",
    "\n",
    "The basic workflow is to initialize the :class:`FacetGrid` object with the dataset and the variables that are used to structure the grid. Then one or more plotting functions can be applied to each subset by calling :meth:`FacetGrid.map` or :meth:`FacetGrid.map_dataframe`. Finally, the plot can be tweaked with other methods to do things like change the\n",
    "axis labels, use different ticks, or add a legend. See the detailed code examples below for more information.\n",
    "\n",
    ".. warning::\n",
    "\n",
    "    When using seaborn functions that infer semantic mappings from a dataset, care must be taken to synchronize those mappings across facets (e.g., by defing the ``hue`` mapping with a palette dict or setting the data type of the variables to ``category``). In most cases, it will be better to use a figure-level function (e.g. :func:`relplot` or :func:`catplot`) than to use :class:`FacetGrid` directly.\n",
    "\n",
    "See the :ref:`tutorial <grid_tutorial>` for more information.\n",
    "\n",
    "Parameters\n",
    "----------\n",
    "data : DataFrame\n",
    "    Tidy (\"long-form\") dataframe where each column is a variable and each row is an observation.    \n",
    "row, col, hue : strings\n",
    "    Variables that define subsets of the data, which will be drawn on separate facets in the grid. See the ``{var}_order``\n",
    "    parameters to control the order of levels of this variable.\n",
    "col_wrap : int\n",
    "    \"Wrap\" the column variable at this width, so that the column facets span multiple rows. Incompatible with a ``row`` facet.   \n",
    "share{x,y} : bool, 'col', or 'row' optional\n",
    "    If true, the facets will share y axes across columns and/or x axes across rows.    \n",
    "height : scalar\n",
    "    Height (in inches) of each facet. See also: ``aspect``.    \n",
    "aspect : scalar\n",
    "    Aspect ratio of each facet, so that ``aspect * height`` gives the width of each facet in inches.    \n",
    "palette : palette name, list, or dict\n",
    "    Colors to use for the different levels of the ``hue`` variable. Should be something that can be interpreted by\n",
    "    :func:`color_palette`, or a dictionary mapping hue levels to matplotlib colors.    \n",
    "{row,col,hue}_order : lists\n",
    "    Order for the levels of the faceting variables. By default, this will be the order that the levels appear in ``data`` or, if\n",
    "    the variables are pandas categoricals, the category order.\n",
    "hue_kws : dictionary of param -> list of values mapping\n",
    "    Other keyword arguments to insert into the plotting call to let other plot attributes vary across levels of the hue variable\n",
    "    (e.g. the markers in a scatterplot).\n",
    "legend_out : bool\n",
    "    If ``True``, the figure size will be extended, and the legend will be drawn outside the plot on the center right.    \n",
    "despine : boolean\n",
    "    Remove the top and right spines from the plots.\n",
    "margin_titles : bool\n",
    "    If ``True``, the titles for the row variable are drawn to the right of the last column. This option is experimental and may\n",
    "    not work in all cases.    \n",
    "{x, y}lim: tuples\n",
    "    Limits for each of the axes on each facet (only relevant when share{x, y} is True).\n",
    "subplot_kws : dict\n",
    "    Dictionary of keyword arguments passed to matplotlib subplot(s) methods.\n",
    "gridspec_kws : dict\n",
    "    Dictionary of keyword arguments passed to :class:`matplotlib.gridspec.GridSpec` (via\n",
    "    :meth:`matplotlib.figure.Figure.subplots`).  Ignored if ``col_wrap`` is not ``None``.\n",
    "\n",
    "See Also\n",
    "--------\n",
    "PairGrid : Subplot grid for plotting pairwise relationships\n",
    "relplot  : Combine a relational plot and a :class:`FacetGrid`\n",
    "displot  : Combine a distribution plot and a :class:`FacetGrid`\n",
    "catplot  : Combine a categorical plot and a :class:`FacetGrid`\n",
    "lmplot   : Combine a regression plot and a :class:`FacetGrid`"
   ]
  },
  {
   "cell_type": "markdown",
   "metadata": {},
   "source": [
    "<p style=\"background-color:#FFFFFF; font-family:newtimeroman; color:#0000FF; font-size:110%; text-align:left;\"><strong>-----------------------------------------------------------------------------------------------------------------------------------------------------------------------------------------------</strong></p>\n"
   ]
  },
  {
   "cell_type": "markdown",
   "metadata": {},
   "source": [
    "### <p style=\"background-color:#FFFFFF; font-family:newtimeroman; color:blue; font-size:115%; text-align:left;\"><strong>🤔💭 Let's examine what \"plotting conditional relationships\" does mean in the docstring❓</strong></p>\n",
    "\n",
    "In the context of Seaborn’s FacetGrid, **``\"plotting conditional relationships\"``** refers to the **``ability to visualize how the relationship between two or more variables changes under different conditions defined by one or more categorical variables``**. This means we can **``create multiple plots``** that show the relationship between variables while conditioning on specific values of another variable.\n",
    "\n",
    "**Key Concepts:**\n",
    "- **``Faceting:``**\n",
    "  - FacetGrid allows us to create a grid of subplots where each subplot corresponds to a subset of the data based on the values of one or more categorical variables (e.g., gender, survival status, etc.). This is particularly useful for examining how relationships between variables differ across these subsets.\n",
    "- **``Conditional Relationships:``**\n",
    "  - When we plot a relationship (for example, using scatter plots, bar plots, etc.), we might want to see **``how this relationship behaves under different conditions``**. For instance, we might want to know how the survival rate of passengers varies by class, and how this varies between males and females.\n",
    "  - By using FacetGrid, we can create separate plots for each combination of the conditional variables, thereby revealing patterns that might NOT be apparent in a single plot.\n",
    "\n",
    "<p style=\"background-color:#FFFFFF; font-family:newtimeroman; color:#0000FF; font-size:110%; text-align:left;\"><strong>-----------------------------------------------------------------------------------------------------------------------------------------------------------------------------------------------</strong></p>\n",
    "\n",
    "**The code snippet below filters the tips dataset to select only the rows where the time is ``\"Dinner\"`` and the customer is a ``\"smoker\"``.**"
   ]
  },
  {
   "cell_type": "code",
   "execution_count": null,
   "metadata": {},
   "outputs": [],
   "source": [
    "tips[(tips.time == \"Dinner\") & (tips.smoker == \"Yes\")]"
   ]
  },
  {
   "cell_type": "markdown",
   "metadata": {},
   "source": [
    "**The resulting DataFrame will include only those entries from the tips dataset where:**\n",
    "- The dining time is ``\"Dinner\"``.\n",
    "- The customer is a ``smoker``.\n",
    "\n",
    "<p style=\"background-color:#FFFFFF; font-family:newtimeroman; color:#0000FF; font-size:110%; text-align:left;\"><strong>-----------------------------------------------------------------------------------------------------------------------------------------------------------------------------------------------</strong></p>\n"
   ]
  },
  {
   "cell_type": "markdown",
   "metadata": {},
   "source": [
    "<p style=\"background-color:#FFFFFF; font-family:newtimeroman; color:#0000FF; font-size:125%; text-align:left;\"><strong>👉 Creating an EMPTY FACETGRID in Seaborn:</strong></p>\n",
    "\n",
    "\n",
    "**The code ``sns.FacetGrid(data=tips)`` below initializes a FacetGrid object using the tips dataset.**"
   ]
  },
  {
   "cell_type": "code",
   "execution_count": null,
   "metadata": {},
   "outputs": [],
   "source": [
    "sns.FacetGrid(data=tips);"
   ]
  },
  {
   "cell_type": "markdown",
   "metadata": {},
   "source": [
    "<p style=\"background-color:#FFFFFF; font-family:newtimeroman; color:#0000FF; font-size:110%; text-align:left;\"><strong>-----------------------------------------------------------------------------------------------------------------------------------------------------------------------------------------------</strong></p>\n",
    "\n",
    "<p style=\"background-color:#FFFFFF; font-family:newtimeroman; color:#0000FF; font-size:125%; text-align:left;\"><strong>👉 Creating and Customizing a FACETGRID with COL & ROW Parameters in Seaborn:</strong></p>\n",
    "\n",
    "\n",
    "**To visualize data using the FacetGrid object, we typically ``need to map specific plotting functions`` to the grid.**\n",
    "\n",
    "**The code snippet below sets up a ``FacetGrid`` to visualize the ``distribution of the total_bill`` variable from the tips dataset, ``organized by two categorical variables``: ``time (in columns)`` and ``smoker (in rows)``.**"
   ]
  },
  {
   "cell_type": "code",
   "execution_count": null,
   "metadata": {
    "colab": {
     "base_uri": "https://localhost:8080/",
     "height": 441
    },
    "id": "xja0jFFe2iAQ",
    "outputId": "344c6004-68be-4bf0-bb26-8127287fd6e0"
   },
   "outputs": [],
   "source": [
    "# Multi-plot grid for plotting conditional relationships.\n",
    "\n",
    "# Initialize the FacetGrid with time as columns and smoker as rows\n",
    "g = sns.FacetGrid(data=tips, col=\"time\", row=\"smoker\")\n",
    "\n",
    "# Map histograms of total_bill to each facet\n",
    "g = g.map(sns.histplot, \"total_bill\", kde=True)"
   ]
  },
  {
   "cell_type": "markdown",
   "metadata": {},
   "source": [
    "**When we run the code above, we will see:**\n",
    "\n",
    "- **``Grid of Histograms``**: Each facet represents the distribution of the total_bill for a specific combination of time (Lunch or Dinner) and smoker status (Yes or No).\n",
    "- **``KDE Overlay``**: If you include kde=True, a Kernel Density Estimate (KDE) curve will be overlayed on the histogram for a smoother representation of the distribution."
   ]
  },
  {
   "cell_type": "markdown",
   "metadata": {},
   "source": [
    "<p style=\"background-color:#FFFFFF; font-family:newtimeroman; color:#0000FF; font-size:110%; text-align:left;\"><strong>-----------------------------------------------------------------------------------------------------------------------------------------------------------------------------------------------</strong></p>\n",
    "\n",
    "<p style=\"background-color:#FFFFFF; font-family:newtimeroman; color:#0000FF; font-size:125%; text-align:left;\"><strong>👉 Creating and Customizing a FACETGRID with COL & ROW Parameters in Seaborn:</strong></p>\n",
    "\n",
    "\n",
    "**The code snippet below sets up a ``FacetGrid object`` to visualize the ``relationship`` between ``total_bill`` and ``tip`` in the tips dataset, ``organized by the time and smoker`` variables.**"
   ]
  },
  {
   "cell_type": "code",
   "execution_count": null,
   "metadata": {
    "colab": {
     "base_uri": "https://localhost:8080/",
     "height": 441
    },
    "id": "zw0XOgku3I7I",
    "outputId": "dd90fde5-6905-4538-f64a-351c6e797c06"
   },
   "outputs": [],
   "source": [
    "# Initialize the FacetGrid object with time as columns and smoker as rows\n",
    "g = sns.FacetGrid(data=tips, col=\"time\", row=\"smoker\")\n",
    "\n",
    "# Map scatter plots of total_bill vs. tip to each facet\n",
    "g.map(plt.scatter, \"total_bill\", \"tip\", alpha=0.7);"
   ]
  },
  {
   "cell_type": "markdown",
   "metadata": {},
   "source": [
    "**When you run the code above, you will see:**\n",
    "\n",
    "- **``Grid of Scatter Plots``**: Each facet displays a scatter plot showing the relationship between total_bill and tip for a specific combination of time (Lunch or Dinner) and smoker status (Yes or No).\n",
    "- **``Alpha Transparency``**: The points in the scatter plots are semi-transparent (due to alpha=0.7), which helps in visualizing overlapping points."
   ]
  },
  {
   "cell_type": "markdown",
   "metadata": {},
   "source": [
    "<p style=\"background-color:#FFFFFF; font-family:newtimeroman; color:#0000FF; font-size:110%; text-align:left;\"><strong>-----------------------------------------------------------------------------------------------------------------------------------------------------------------------------------------------</strong></p>\n",
    "\n",
    "<p style=\"background-color:#FFFFFF; font-family:newtimeroman; color:#0000FF; font-size:125%; text-align:left;\"><strong>👉 Creating and Customizing a FACETGRID with COL, ROW & HUE Parameters in Seaborn:</strong></p>\n",
    "\n",
    "\n",
    "**The code snippet below sets up a ``FacetGrid object`` to visualize the ``relationship`` between ``total_bill`` and ``tip`` in the tips dataset, ``organized by time``, ``smoker``, and ``differentiated by sex``.**\n",
    "\n",
    "**``FacetGrid object`` first creates a grid layout where:**\n",
    "- **``Columns``** correspond to different values of the time variable (e.g., \"Lunch\" and \"Dinner\").\n",
    "- **``Rows``** correspond to different values of the smoker variable (e.g., \"Yes\" and \"No\").\n",
    "- **``Hue``** colors the points based on the sex variable, allowing you to differentiate between male and female customers."
   ]
  },
  {
   "cell_type": "code",
   "execution_count": null,
   "metadata": {
    "colab": {
     "base_uri": "https://localhost:8080/",
     "height": 441
    },
    "id": "8vWd5qZN3c72",
    "outputId": "02321833-0749-485f-a1eb-08431f8c9163"
   },
   "outputs": [],
   "source": [
    "# Initialize the FacetGrid object with time as columns, smoker as rows, and hue for sex\n",
    "g = sns.FacetGrid(data = tips, col=\"time\", row=\"smoker\", hue=\"sex\")\n",
    "\n",
    "# Map scatter plots of total_bill vs. tip to each facet\n",
    "g.map(plt.scatter, \"total_bill\", \"tip\")\n",
    "\n",
    "# Set titles and adjust layout\n",
    "g.fig.suptitle(\"Scatter Plot of Total Bill vs. Tip by Time, Smoker Status, and Sex\", y=1.02)\n",
    "g.set_axis_labels(\"Total Bill\", \"Tip\");"
   ]
  },
  {
   "cell_type": "markdown",
   "metadata": {},
   "source": [
    "**When we run the code above, we will see:**\n",
    "\n",
    "- ``Grid of Scatter Plots``: Each facet displays a scatter plot showing the relationship between total_bill and tip for specific combinations of time (Lunch or Dinner) and smoker status (Yes or No).\n",
    "- ``Color Differentiation``: Points in each scatter plot are colored based on the sex variable, which helps to visualize how tips and total bills vary among male and female customers.\n",
    "\n",
    "<p style=\"background-color:#FFFFFF; font-family:newtimeroman; color:#0000FF; font-size:110%; text-align:left;\"><strong>-----------------------------------------------------------------------------------------------------------------------------------------------------------------------------------------------</strong></p>\n"
   ]
  },
  {
   "cell_type": "markdown",
   "metadata": {
    "id": "PhpKrZfr3kRB"
   },
   "source": [
    "## <p style=\"background-color:#E51A59; font-family:newtimeroman; color:#FFF9ED; font-size:150%; text-align:CENTER; border-radius:10px 10px;\">HEATMAP</p>\n",
    "\n",
    "<a id=\"6\"></a>\n",
    "<a href=\"#toc\" class=\"btn btn-primary btn-sm\" role=\"button\" aria-pressed=\"true\" \n",
    "style=\"color:blue; background-color:#dfa8e4\" data-toggle=\"popover\">Content</a>\n",
    "\n",
    "Heatmap is defined as a graphical representation of data using colors to visualize the value of the matrix. In this, to represent more common values or higher activities brighter colors basically reddish colors are used and to represent less common or activity values, darker colors are preferred. Heatmap is also defined by the name of the shading matrix. Heatmaps in Seaborn can be plotted by using the seaborn.heatmap() function.\n",
    "\n",
    "- 🧐 **[seaborn.heatmap Documentation](https://seaborn.pydata.org/generated/seaborn.heatmap.html)**<br>\n",
    "- 🧐 **[Seaborn Heatmap – A comprehensive guide](https://www.geeksforgeeks.org/seaborn-heatmap-a-comprehensive-guide/)**<br>\n",
    "- 🧐 **[VISUALIZATION WITH SEABORN - HEATMAP on YouTube](https://www.youtube.com/watch?v=Gj-prU8aEgg)**<br>\n",
    "\n",
    "\n",
    "We can customize the colors in your heatmap with the cmap parameter of the heatmap() function in seaborn.\n",
    "\n",
    "- 🧐 **[Control color in seaborn heatmaps](https://www.python-graph-gallery.com/92-control-color-in-seaborn-heatmaps)**<br>\n",
    "\n",
    "\n",
    "<p style=\"background-color:#FFFFFF; font-family:newtimeroman; color:#0000FF; font-size:110%; text-align:left;\"><strong>-----------------------------------------------------------------------------------------------------------------------------------------------------------------------------------------------</strong></p>\n",
    "\n",
    "<p style=\"background-color:#FFFFFF; font-family:newtimeroman; color:#FF0000; font-size:125%; text-align:left;\"><strong>🤔💭 How to make a heatmap in Python Seaborn and adjust the heatmap style❓</strong></p>"
   ]
  },
  {
   "cell_type": "code",
   "execution_count": null,
   "metadata": {
    "scrolled": true
   },
   "outputs": [],
   "source": [
    "from IPython.display import HTML, IFrame \n",
    "\n",
    "# Embed the YouTube video\n",
    "HTML('<iframe width=\"800\" height=\"500\" src=\"https://www.youtube.com/embed/0U9cs2V-Mqc\" title=\"YouTube video player\" frameborder=\"0\" allow=\"accelerometer; autoplay; clipboard-write; encrypted-media; gyroscope; picture-in-picture\" allowfullscreen></iframe>')"
   ]
  },
  {
   "cell_type": "markdown",
   "metadata": {},
   "source": [
    "<p style=\"background-color:#FFFFFF; font-family:newtimeroman; color:#0000FF; font-size:110%; text-align:left;\"><strong>-----------------------------------------------------------------------------------------------------------------------------------------------------------------------------------------------</strong></p>\n"
   ]
  },
  {
   "cell_type": "raw",
   "metadata": {},
   "source": [
    "sns.heatmap(\n",
    "            data,\n",
    "            *,\n",
    "            vmin=None,\n",
    "            vmax=None,\n",
    "            cmap=None,\n",
    "            center=None,\n",
    "            robust=False,\n",
    "            annot=None,\n",
    "            fmt='.2g',\n",
    "            annot_kws=None,\n",
    "            linewidths=0,\n",
    "            linecolor='white',\n",
    "            cbar=True,\n",
    "            cbar_kws=None,\n",
    "            cbar_ax=None,\n",
    "            square=False,\n",
    "            xticklabels='auto',\n",
    "            yticklabels='auto',\n",
    "            mask=None,\n",
    "            ax=None,\n",
    "            **kwargs,\n",
    "            )\n",
    "Docstring:\n",
    "Plot rectangular data as a color-encoded matrix.\n",
    "\n",
    "This is an Axes-level function and will draw the heatmap into the currently-active Axes if none is provided to the ``ax`` argument.  Part of this Axes space will be taken and used to plot a colormap, unless ``cbar`` is False or a separate Axes is provided to ``cbar_ax``.\n",
    "\n",
    "Parameters\n",
    "----------\n",
    "data : rectangular dataset\n",
    "    2D dataset that can be coerced into an ndarray. If a Pandas DataFrame is provided, the index/column information will be used\n",
    "    to label the columns and rows.\n",
    "vmin, vmax : floats, optional\n",
    "    Values to anchor the colormap, otherwise they are inferred from the data and other keyword arguments.\n",
    "cmap : matplotlib colormap name or object, or list of colors, optional\n",
    "    The mapping from data values to color space. If not provided, the default will depend on whether ``center`` is set.\n",
    "center : float, optional\n",
    "    The value at which to center the colormap when plotting divergant data.\n",
    "    Using this parameter will change the default ``cmap`` if none is specified.\n",
    "robust : bool, optional\n",
    "    If True and ``vmin`` or ``vmax`` are absent, the colormap range is computed with robust quantiles instead of the extreme\n",
    "    values.\n",
    "annot : bool or rectangular dataset, optional\n",
    "    If True, write the data value in each cell. If an array-like with the same shape as ``data``, then use this to annotate the\n",
    "    heatmap instead of the data. Note that DataFrames will match on position, not index.\n",
    "fmt : str, optional\n",
    "    String formatting code to use when adding annotations.\n",
    "annot_kws : dict of key, value mappings, optional\n",
    "    Keyword arguments for :meth:`matplotlib.axes.Axes.text` when ``annot`` is True.\n",
    "linewidths : float, optional\n",
    "    Width of the lines that will divide each cell.\n",
    "linecolor : color, optional\n",
    "    Color of the lines that will divide each cell.\n",
    "cbar : bool, optional\n",
    "    Whether to draw a colorbar.\n",
    "cbar_kws : dict of key, value mappings, optional\n",
    "    Keyword arguments for :meth:`matplotlib.figure.Figure.colorbar`.\n",
    "cbar_ax : matplotlib Axes, optional\n",
    "    Axes in which to draw the colorbar, otherwise take space from the main Axes.\n",
    "square : bool, optional\n",
    "    If True, set the Axes aspect to \"equal\" so each cell will be square-shaped.\n",
    "xticklabels, yticklabels : \"auto\", bool, list-like, or int, optional\n",
    "    If True, plot the column names of the dataframe. If False, don't plot the column names. If list-like, plot these alternate\n",
    "    labels as the xticklabels. If an integer, use the column names but plot only every n label. If \"auto\", try to densely plot\n",
    "    non-overlapping labels.\n",
    "mask : bool array or DataFrame, optional\n",
    "    If passed, data will not be shown in cells where ``mask`` is True.\n",
    "    Cells with missing values are automatically masked.\n",
    "ax : matplotlib Axes, optional\n",
    "    Axes in which to draw the plot, otherwise use the currently-active Axes.\n",
    "kwargs : other keyword arguments\n",
    "    All other keyword arguments are passed to :meth:`matplotlib.axes.Axes.pcolormesh`.\n",
    "\n",
    "Returns\n",
    "-------\n",
    "ax : matplotlib Axes\n",
    "    Axes object with the heatmap.\n",
    "\n",
    "See Also\n",
    "--------\n",
    "clustermap : Plot a matrix using hierachical clustering to arrange the rows and columns."
   ]
  },
  {
   "cell_type": "markdown",
   "metadata": {},
   "source": [
    "<p style=\"background-color:#FFFFFF; font-family:newtimeroman; color:#0000FF; font-size:110%; text-align:left;\"><strong>-----------------------------------------------------------------------------------------------------------------------------------------------------------------------------------------------</strong></p>\n"
   ]
  },
  {
   "cell_type": "code",
   "execution_count": null,
   "metadata": {
    "colab": {
     "base_uri": "https://localhost:8080/",
     "height": 417
    },
    "id": "45UM8nTP3-42",
    "outputId": "add5ea00-b27e-46cd-fd0a-ee09237b2e0f"
   },
   "outputs": [],
   "source": [
    "# Let's remember our tips Dataset:\n",
    "\n",
    "tips"
   ]
  },
  {
   "cell_type": "markdown",
   "metadata": {},
   "source": [
    "<p style=\"background-color:#FFFFFF; font-family:newtimeroman; color:#0000FF; font-size:110%; text-align:left;\"><strong>-----------------------------------------------------------------------------------------------------------------------------------------------------------------------------------------------</strong></p>\n",
    "\n",
    "<p style=\"background-color:#FFFFFF; font-family:newtimeroman; color:#0000FF; font-size:125%; text-align:left;\"><strong>👉 Creating a BASIC HEATMAP in Seaborn:</strong></p>\n",
    "\n",
    "\n",
    "**The code ``sns.heatmap(data=tips.corr())`` below creates a heatmap that visually represents the correlation matrix of the tips dataset.** \n",
    "\n",
    "- A heatmap is indeed based on a grid structure. A heatmap is represented as a matrix, where each cell corresponds to a value from the dataset. The rows and columns of the grid typically represent different variables or categories."
   ]
  },
  {
   "cell_type": "code",
   "execution_count": null,
   "metadata": {
    "colab": {
     "base_uri": "https://localhost:8080/",
     "height": 287
    },
    "id": "bhCYX49I3kOr",
    "outputId": "e09b4ab2-ab0f-4838-eaa2-c2d4620ad127"
   },
   "outputs": [],
   "source": [
    "# Plot rectangular data as a color-encoded matrix.\n",
    "\n",
    "sns.heatmap(data=tips.corr(numeric_only=True));"
   ]
  },
  {
   "cell_type": "markdown",
   "metadata": {},
   "source": [
    "**When we run the code above, we will see:**\n",
    "\n",
    "- **``Heatmap Visualization``**: A grid where each cell represents the correlation coefficient between pairs of variables, color-coded to indicate the strength and direction of the correlation."
   ]
  },
  {
   "cell_type": "markdown",
   "metadata": {},
   "source": [
    "<p style=\"background-color:#FFFFFF; font-family:newtimeroman; color:#0000FF; font-size:110%; text-align:left;\"><strong>-----------------------------------------------------------------------------------------------------------------------------------------------------------------------------------------------</strong></p>\n",
    "\n",
    "<p style=\"background-color:#FFFFFF; font-family:newtimeroman; color:#0000FF; font-size:125%; text-align:left;\"><strong>👉 Creating and Customizing a HEATMAP in Seaborn:</strong></p>\n",
    "\n",
    "\n",
    "**The code ``sns.heatmap(data=tips.corr(numeric_only=True), cbar=False)`` below creates a heatmap of the ``correlation matrix`` for ``only the numeric columns`` in the tips dataset, ``without displaying the color bar``.**"
   ]
  },
  {
   "cell_type": "code",
   "execution_count": null,
   "metadata": {},
   "outputs": [],
   "source": [
    "# Create a heatmap of the correlation matrix for numeric columns\n",
    "\n",
    "sns.heatmap(data=tips.corr(numeric_only=True), cbar=False);"
   ]
  },
  {
   "cell_type": "markdown",
   "metadata": {},
   "source": [
    "<p style=\"background-color:#FFFFFF; font-family:newtimeroman; color:#0000FF; font-size:110%; text-align:left;\"><strong>-----------------------------------------------------------------------------------------------------------------------------------------------------------------------------------------------</strong></p>\n"
   ]
  },
  {
   "cell_type": "markdown",
   "metadata": {},
   "source": [
    "### <p style=\"background-color:#E51A59; font-family:newtimeroman; color:#FFF9ED; font-size:150%; text-align:left; border-radius:10px 10px;\">\"annot\" Parameter</p>\n",
    "\n",
    "<a id=\"6.1\"></a>\n",
    "<a href=\"#toc\" class=\"btn btn-primary btn-sm\" role=\"button\" aria-pressed=\"true\" \n",
    "style=\"color:blue; background-color:#dfa8e4\" data-toggle=\"popover\">Content</a>\n",
    "\n",
    "**``annot``:** ``bool or rectangular dataset, optional``\n",
    "\n",
    "- If True, write the data value in each cell. If an array-like with the same shape as data, then use this to annotate the heatmap instead of the data. Note that DataFrames will match on position, not index."
   ]
  },
  {
   "cell_type": "markdown",
   "metadata": {},
   "source": [
    "<p style=\"background-color:#FFFFFF; font-family:newtimeroman; color:#0000FF; font-size:110%; text-align:left;\"><strong>-----------------------------------------------------------------------------------------------------------------------------------------------------------------------------------------------</strong></p>\n",
    "\n",
    "<p style=\"background-color:#FFFFFF; font-family:newtimeroman; color:#0000FF; font-size:125%; text-align:left;\"><strong>👉 Creating and Customizing a HEATMAP with ANNOT Parameter in Seaborn:</strong></p>\n",
    "\n",
    "\n",
    "**The code below performs two main tasks: it first displays the ``correlation matrix`` of the numeric columns in the tips dataset, and then it creates a ``heatmap`` to visualize that correlation matrix.**"
   ]
  },
  {
   "cell_type": "code",
   "execution_count": null,
   "metadata": {
    "colab": {
     "base_uri": "https://localhost:8080/",
     "height": 287
    },
    "id": "8nKRE8Hh3kJw",
    "outputId": "0fa8131c-c27f-430d-ee2a-941cba45d25c"
   },
   "outputs": [],
   "source": [
    "# Display the correlation matrix\n",
    "display(tips.corr(numeric_only=True))\n",
    "\n",
    "# Create a heatmap of the correlation matrix\n",
    "sns.heatmap(data=tips.corr(numeric_only=True), annot=True);"
   ]
  },
  {
   "cell_type": "markdown",
   "metadata": {},
   "source": [
    "**When we run the code above, we will see:**\n",
    "\n",
    "- **``Heatmap Visualization``**: A grid where each cell represents the correlation coefficient between pairs of variables, color-coded to indicate the strength and direction of the correlation.\n",
    "- **``Annotations``**: If you set **``annot=True``**, the heatmap will display the correlation coefficients in each cell, providing precise information at a glance."
   ]
  },
  {
   "cell_type": "markdown",
   "metadata": {},
   "source": [
    "<p style=\"background-color:#FFFFFF; font-family:newtimeroman; color:#0000FF; font-size:110%; text-align:left;\"><strong>-----------------------------------------------------------------------------------------------------------------------------------------------------------------------------------------------</strong></p>\n",
    "\n",
    "<p style=\"background-color:#FFFFFF; font-family:newtimeroman; color:#0000FF; font-size:125%; text-align:left;\"><strong>👉 Creating and Customizing a HEATMAP with ANNOT & CMAP Parameters in Seaborn:</strong></p>\n",
    "\n",
    "\n",
    "**The code ``sns.heatmap(data=tips.corr(), cmap='viridis', annot=True)`` below creates a heatmap that visualizes the ``correlation matrix`` of the tips dataset.**"
   ]
  },
  {
   "cell_type": "code",
   "execution_count": null,
   "metadata": {
    "colab": {
     "base_uri": "https://localhost:8080/",
     "height": 287
    },
    "id": "pRwM0Bg13kG2",
    "outputId": "fad6a412-6334-4d54-cedd-1c5415f42683"
   },
   "outputs": [],
   "source": [
    "# Create a heatmap of the correlation matrix\n",
    "\n",
    "sns.heatmap(data=tips.corr(numeric_only=True), cmap='viridis', annot=True);"
   ]
  },
  {
   "cell_type": "markdown",
   "metadata": {},
   "source": [
    "**When we run the code above, we will see:**\n",
    "\n",
    "- **``Heatmap Visualization``**: A grid where each cell represents the correlation coefficient between pairs of variables, color-coded to indicate the strength and direction of the correlation.\n",
    "- **``Annotations``**: If you set **``annot=True``**, the heatmap will display the correlation coefficients in each cell, providing precise information at a glance.\n",
    "- **``Color Map``**: The **``cmap='viridis'``** parameter specifies the color palette for the heatmap, making it visually appealing and easy to interpret."
   ]
  },
  {
   "cell_type": "markdown",
   "metadata": {},
   "source": [
    "<p style=\"background-color:#FFFFFF; font-family:newtimeroman; color:#0000FF; font-size:110%; text-align:left;\"><strong>-----------------------------------------------------------------------------------------------------------------------------------------------------------------------------------------------</strong></p>\n",
    "\n",
    "<p style=\"background-color:#FFFFFF; font-family:newtimeroman; color:#0000FF; font-size:125%; text-align:left;\"><strong>👉 Creating and Customizing a HEATMAP with CENTER Parameter in Seaborn:</strong></p>\n",
    "\n",
    "\n",
    "**The code ``sns.heatmap(data=tips.corr(), cmap='viridis', annot=True, center=1)`` below creates a ``heatmap`` to visualize the ``correlation matrix`` of the tips dataset, with specific settings for ``color mapping`` and ``annotations``.**"
   ]
  },
  {
   "cell_type": "code",
   "execution_count": null,
   "metadata": {
    "colab": {
     "base_uri": "https://localhost:8080/",
     "height": 287
    },
    "id": "9AODJZcF5pI_",
    "outputId": "2d2f4c40-4fb8-4ad0-d0cf-a40867c3ffe5"
   },
   "outputs": [],
   "source": [
    "sns.heatmap(data=tips.corr(numeric_only=True), cmap='viridis', annot=True, center=1);"
   ]
  },
  {
   "cell_type": "markdown",
   "metadata": {},
   "source": [
    "**center : float, optional**\n",
    "\n",
    "    The value at which to center the colormap when plotting divergant data.\n",
    "    Using this parameter will change the default ``cmap`` if none is specified.\n",
    "    \n",
    "- **``cmap='viridis'``**: Sets the color map to 'viridis', which is visually appealing and effective for representing data.\n",
    "- **``annot=True``**: Displays the correlation coefficients in each cell of the heatmap.\n",
    "- **``center=1``**: This centers the colormap at a correlation value of 1, which can be useful for highlighting positive correlations.\n",
    "\n",
    "**When we run the code above, we will see:**\n",
    "\n",
    "- **``Heatmap Visualization``**: A grid where each cell represents the correlation coefficient between pairs of numeric variables, color-coded according to the 'viridis' color map.\n",
    "- **``Annotations``**: The correlation coefficients are displayed within each cell, providing exact values for better understanding.\n",
    "- **``Centered Colormap``**: The center=1 setting means that values close to 1 will be highlighted differently, making it easier to spot strong positive correlations."
   ]
  },
  {
   "cell_type": "markdown",
   "metadata": {},
   "source": [
    "<p style=\"background-color:#FFFFFF; font-family:newtimeroman; color:#0000FF; font-size:110%; text-align:left;\"><strong>-----------------------------------------------------------------------------------------------------------------------------------------------------------------------------------------------</strong></p>\n",
    "\n",
    "<p style=\"background-color:#FFFFFF; font-family:newtimeroman; color:#0000FF; font-size:125%; text-align:left;\"><strong>👉 Creating and Customizing a HEATMAP with CENTER Parameter in Seaborn:</strong></p>\n",
    "\n",
    "\n",
    "**The code ``sns.heatmap(data=tips.corr(), cmap='viridis', annot=True, center=0.6)`` creates a ``heatmap`` to visualize the ``correlation matrix`` of the tips dataset, with specific settings for ``color mapping``, ``annotations``, and ``centering``.**"
   ]
  },
  {
   "cell_type": "code",
   "execution_count": null,
   "metadata": {
    "colab": {
     "base_uri": "https://localhost:8080/",
     "height": 287
    },
    "id": "DwGWXaQq56vn",
    "outputId": "bf700526-c388-4cc2-c798-a2f9d5185abb"
   },
   "outputs": [],
   "source": [
    "sns.heatmap(data=tips.corr(numeric_only=True), cmap='viridis', annot=True, center=0.6);"
   ]
  },
  {
   "cell_type": "markdown",
   "metadata": {},
   "source": [
    "- **``cmap='viridis'``**: Uses the 'viridis' color map for coloring the heatmap, which is visually appealing.\n",
    "- **``annot=True``**: Displays the correlation coefficients directly in the heatmap cells for easy reference.\n",
    "- **``center=0.6``**: Centers the colormap at a correlation value of 0.6, which can highlight correlations around this value."
   ]
  },
  {
   "cell_type": "markdown",
   "metadata": {},
   "source": [
    "<p style=\"background-color:#FFFFFF; font-family:newtimeroman; color:#0000FF; font-size:110%; text-align:left;\"><strong>-----------------------------------------------------------------------------------------------------------------------------------------------------------------------------------------------</strong></p>\n",
    "\n",
    "<p style=\"background-color:#FFFFFF; font-family:newtimeroman; color:#0000FF; font-size:125%; text-align:left;\"><strong>👉 Creating and Customizing a HEATMAP with CENTER Parameter in Seaborn:</strong></p>\n",
    "\n",
    "\n",
    "**The code ``sns.heatmap(data=tips.corr(numeric_only=True), cmap='viridis', annot=True, center=0.8)`` below creates a ``heatmap`` of the ``correlation matrix`` for numeric columns in the tips dataset, with specific settings for ``color mapping``, ``annotations``, and ``centering``.**"
   ]
  },
  {
   "cell_type": "code",
   "execution_count": null,
   "metadata": {
    "colab": {
     "base_uri": "https://localhost:8080/",
     "height": 287
    },
    "id": "3rMj7Cpx6PCH",
    "outputId": "06c43a19-0d68-4d78-9a50-07dcc84df8d2"
   },
   "outputs": [],
   "source": [
    "sns.heatmap(data=tips.corr(numeric_only=True), cmap='viridis', annot=True, center=0.8);"
   ]
  },
  {
   "cell_type": "markdown",
   "metadata": {},
   "source": [
    "- **``cmap='viridis'``**: Uses the 'viridis' color map, which is visually appealing and effective for representing data.\n",
    "- **``annot=True``**: Displays the correlation coefficients in each cell of the heatmap, making it easy to see the exact values.\n",
    "- **``center=0.8``**: Centers the color map at a correlation value of 0.8, which helps highlight values around this threshold and makes strong positive correlations more visible.."
   ]
  },
  {
   "cell_type": "markdown",
   "metadata": {},
   "source": [
    "<p style=\"background-color:#FFFFFF; font-family:newtimeroman; color:#0000FF; font-size:110%; text-align:left;\"><strong>-----------------------------------------------------------------------------------------------------------------------------------------------------------------------------------------------</strong></p>\n",
    "\n",
    "<p style=\"background-color:#FFFFFF; font-family:newtimeroman; color:#0000FF; font-size:125%; text-align:left;\"><strong>👉 Creating and Customizing a MULTIPLE HEATMAP in Seaborn:</strong></p>\n",
    "\n",
    "\n",
    "**The code snippet below sets up a ``side-by-side comparison`` of ``two heatmaps`` using the tips dataset's correlation matrix.**"
   ]
  },
  {
   "cell_type": "code",
   "execution_count": null,
   "metadata": {},
   "outputs": [],
   "source": [
    "# Create subplots for two heatmaps\n",
    "fig, axes = plt.subplots(1, 2, figsize=(12, 4))\n",
    "\n",
    "# First heatmap with default centering\n",
    "sns.heatmap(data=tips.corr(numeric_only=True), cmap='viridis', annot=True, ax=axes[0])  # default is center=None\n",
    "\n",
    "# Second heatmap with centering at 0.6\n",
    "sns.heatmap(data=tips.corr(numeric_only=True), cmap='viridis', annot=True, center=0.6, ax=axes[1]);"
   ]
  },
  {
   "cell_type": "markdown",
   "metadata": {},
   "source": [
    "**When we run the code above, we will see:**\n",
    "\n",
    "- **Two Heatmaps Side by Side:**\n",
    "   - The first heatmap will show the correlation coefficients with the default centering, which is usually around zero.\n",
    "   - The second heatmap will highlight correlations around the value of 0.6, making it easier to spot moderate to strong positive correlations."
   ]
  },
  {
   "cell_type": "markdown",
   "metadata": {},
   "source": [
    "<p style=\"background-color:#FFFFFF; font-family:newtimeroman; color:#0000FF; font-size:110%; text-align:left;\"><strong>-----------------------------------------------------------------------------------------------------------------------------------------------------------------------------------------------</strong></p>\n",
    "\n",
    "\n",
    "### <p style=\"background-color:#FFFFFF; font-family:newtimeroman; color:#FF0000; font-size:125%; text-align:left;\"><strong>🤔💭 How to hide the colorbar of a Seaborn heatmap❓</strong></p>\n",
    "\n",
    "<p style=\"background-color:#FFFFFF; font-family:newtimeroman; color:#0000FF; font-size:110%; text-align:left;\"><strong>-----------------------------------------------------------------------------------------------------------------------------------------------------------------------------------------------</strong></p>\n",
    "\n",
    "\n",
    "<p style=\"background-color:#FFFFFF; font-family:newtimeroman; color:#0000FF; font-size:125%; text-align:left;\"><strong>👉 Creating a HEATMAP and Customizing COLORBAR in Seaborn:</strong></p>\n",
    "\n",
    "\n",
    "- To hide the colorbar in a Seaborn heatmap, you can set the ``cbar`` parameter to ``False``. This prevents the colorbar from being displayed alongside the heatmap."
   ]
  },
  {
   "cell_type": "code",
   "execution_count": null,
   "metadata": {},
   "outputs": [],
   "source": [
    "# Create a heatmap without the colorbar\n",
    "\n",
    "sns.heatmap(data=tips.corr(numeric_only=True), cmap='viridis', annot=True, cbar=False);"
   ]
  },
  {
   "cell_type": "markdown",
   "metadata": {},
   "source": [
    "- **``cbar=False``**: This argument disables the colorbar in the heatmap, making the visualization cleaner if the color gradient does not need further explanation.\n",
    "\n",
    "<p style=\"background-color:#FFFFFF; font-family:newtimeroman; color:#0000FF; font-size:110%; text-align:left;\"><strong>-----------------------------------------------------------------------------------------------------------------------------------------------------------------------------------------------</strong></p>\n"
   ]
  },
  {
   "cell_type": "markdown",
   "metadata": {},
   "source": [
    "## <p style=\"background-color:#E51A59; font-family:newtimeroman; color:#FFF9ED; font-size:150%; text-align:CENTER; border-radius:10px 10px;\">CLUSTERMAP</p>\n",
    "\n",
    "<a id=\"7\"></a>\n",
    "<a href=\"#toc\" class=\"btn btn-primary btn-sm\" role=\"button\" aria-pressed=\"true\" \n",
    "style=\"color:blue; background-color:#dfa8e4\" data-toggle=\"popover\">Content</a>\n",
    "\n",
    "The **``clustermap()``** function of seaborn plots a hierarchically-clustered heat map of the given matrix dataset. It returns a clustered grid index. \n",
    "\n",
    "The **``.clustermap()``** method uses a hierarchical clusters to order data by similarity. This reorganizes the data for the rows and columns and displays similar content next to one another for even more depth of understanding the data.\n",
    "\n",
    "- 🧐 **[seaborn.clustermap Documentation](https://seaborn.pydata.org/generated/seaborn.clustermap.html)**<br>\n",
    "- 🧐 **[How to use Seaborn for Heatmaps](https://medium.com/@kbrook10/day-4-data-visualization-how-to-use-seaborn-for-heatmaps-bf8070e3846e)**<br>\n",
    "- 🧐 **[Hierarchically-clustered Heatmap in Python with Seaborn Clustermap](https://www.geeksforgeeks.org/hierarchically-clustered-heatmap-in-python-with-seaborn-clustermap/)**<br>\n",
    "- 🧐 **[How the clustermap works and what is the clustermap? on YouTube](https://www.youtube.com/watch?v=crQkHHhY7aY)**<br>\n",
    "- 🧐 **[Seaborn Clustermap Part 1 on YouTube](https://www.youtube.com/watch?v=98x1AIl-q90)**<br>\n",
    "- 🧐 **[Seaborn Clustermap Part 2 on YouTube](https://www.youtube.com/watch?v=c1gSshIYNng)**<br>\n",
    "\n",
    "<p style=\"background-color:#FFFFFF; font-family:newtimeroman; color:#0000FF; font-size:110%; text-align:left;\"><strong>-----------------------------------------------------------------------------------------------------------------------------------------------------------------------------------------------</strong></p>\n",
    "\n",
    "\n",
    "<p style=\"background-color:#FFFFFF; font-family:newtimeroman; color:#FF0000; font-size:125%; text-align:left;\"><strong>🤔💭 How the clustermap works and what is the clustermap❓</strong></p>"
   ]
  },
  {
   "cell_type": "code",
   "execution_count": null,
   "metadata": {},
   "outputs": [],
   "source": [
    "from IPython.display import YouTubeVideo\n",
    "\n",
    "# Embed the YouTube video\n",
    "YouTubeVideo('crQkHHhY7aY', width=800, height=500)"
   ]
  },
  {
   "cell_type": "markdown",
   "metadata": {},
   "source": [
    "<p style=\"background-color:#FFFFFF; font-family:newtimeroman; color:#0000FF; font-size:110%; text-align:left;\"><strong>-----------------------------------------------------------------------------------------------------------------------------------------------------------------------------------------------</strong></p>\n"
   ]
  },
  {
   "cell_type": "raw",
   "metadata": {},
   "source": [
    "sns.clustermap(\n",
    "               data,\n",
    "               *,\n",
    "               pivot_kws=None,\n",
    "               method='average',\n",
    "               metric='euclidean',\n",
    "               z_score=None,\n",
    "               standard_scale=None,\n",
    "               figsize=(10, 10),\n",
    "               cbar_kws=None,\n",
    "               row_cluster=True,\n",
    "               col_cluster=True,\n",
    "               row_linkage=None,\n",
    "               col_linkage=None,\n",
    "               row_colors=None,\n",
    "               col_colors=None,\n",
    "               mask=None,\n",
    "               dendrogram_ratio=0.2,\n",
    "               colors_ratio=0.03,\n",
    "               cbar_pos=(0.02, 0.8, 0.05, 0.18),\n",
    "               tree_kws=None,\n",
    "               **kwargs,\n",
    "               )\n",
    "Docstring:\n",
    "Plot a matrix dataset as a hierarchically-clustered heatmap.\n",
    "\n",
    "Parameters\n",
    "----------\n",
    "data : 2D array-like\n",
    "    Rectangular data for clustering. Cannot contain NAs.\n",
    "pivot_kws : dict, optional\n",
    "    If `data` is a tidy dataframe, can provide keyword arguments for pivot to create a rectangular dataframe.\n",
    "method : str, optional\n",
    "    Linkage method to use for calculating clusters. See :func:`scipy.cluster.hierarchy.linkage` documentation for more\n",
    "    information.\n",
    "metric : str, optional\n",
    "    Distance metric to use for the data. See\n",
    "    :func:`scipy.spatial.distance.pdist` documentation for more options.\n",
    "    To use different metrics (or methods) for rows and columns, you may construct each linkage matrix yourself and provide them as\n",
    "    `{row,col}_linkage`.\n",
    "z_score : int or None, optional\n",
    "    Either 0 (rows) or 1 (columns). Whether or not to calculate z-scores for the rows or the columns. Z scores are: \n",
    "    z = (x - mean)/std, so values in each row (column) will get the mean of the row (column) subtracted, then divided by the\n",
    "    standard deviation of the row (column). This ensures that each row (column) has mean of 0 and variance of 1.\n",
    "standard_scale : int or None, optional\n",
    "    Either 0 (rows) or 1 (columns). Whether or not to standardize that dimension, meaning for each row or column, subtract the\n",
    "    minimum and divide each by its maximum.\n",
    "figsize : tuple of (width, height), optional\n",
    "    Overall size of the figure.\n",
    "cbar_kws : dict, optional\n",
    "    Keyword arguments to pass to `cbar_kws` in :func:`heatmap`, e.g. to add a label to the colorbar.\n",
    "{row,col}_cluster : bool, optional\n",
    "    If ``True``, cluster the {rows, columns}.\n",
    "{row,col}_linkage : :class:`numpy.ndarray`, optional\n",
    "    Precomputed linkage matrix for the rows or columns. See :func:`scipy.cluster.hierarchy.linkage` for specific formats.\n",
    "{row,col}_colors : list-like or pandas DataFrame/Series, optional\n",
    "    List of colors to label for either the rows or columns. Useful to evaluate whether samples within a group are clustered\n",
    "    together. Can use nested lists or DataFrame for multiple color levels of labeling. If given as a\n",
    "    :class:`pandas.DataFrame` or :class:`pandas.Series`, labels for the colors are extracted from the DataFrames column names or\n",
    "    from the name of the Series.\n",
    "    DataFrame/Series colors are also matched to the data by their index, ensuring colors are drawn in the correct order.\n",
    "mask : bool array or DataFrame, optional\n",
    "    If passed, data will not be shown in cells where `mask` is True.\n",
    "    Cells with missing values are automatically masked. Only used for visualizing, not for calculating.\n",
    "{dendrogram,colors}_ratio : float, or pair of floats, optional\n",
    "    Proportion of the figure size devoted to the two marginal elements. If a pair is given, they correspond to (row, col) \n",
    "    ratios.\n",
    "cbar_pos : tuple of (left, bottom, width, height), optional\n",
    "    Position of the colorbar axes in the figure. Setting to ``None`` will disable the colorbar.\n",
    "tree_kws : dict, optional\n",
    "    Parameters for the :class:`matplotlib.collections.LineCollection` that is used to plot the lines of the dendrogram tree.\n",
    "kwargs : other keyword arguments\n",
    "    All other keyword arguments are passed to :func:`heatmap`.\n",
    "\n",
    "Returns\n",
    "-------\n",
    ":class:`ClusterGrid`\n",
    "    A :class:`ClusterGrid` instance.\n",
    "\n",
    "See Also\n",
    "--------\n",
    "heatmap : Plot rectangular data as a color-encoded matrix.\n",
    "\n",
    "Notes\n",
    "-----\n",
    "The returned object has a ``savefig`` method that should be used if you want to save the figure object without clipping the dendrograms.\n",
    "\n",
    "To access the reordered row indices, use:\n",
    "``clustergrid.dendrogram_row.reordered_ind``\n",
    "\n",
    "Column indices, use:\n",
    "``clustergrid.dendrogram_col.reordered_ind``"
   ]
  },
  {
   "cell_type": "markdown",
   "metadata": {},
   "source": [
    "<p style=\"background-color:#FFFFFF; font-family:newtimeroman; color:#0000FF; font-size:110%; text-align:left;\"><strong>-----------------------------------------------------------------------------------------------------------------------------------------------------------------------------------------------</strong></p>\n",
    "\n",
    "<p style=\"background-color:#FFFFFF; font-family:newtimeroman; color:#0000FF; font-size:125%; text-align:left;\"><strong>👉 Creating a BASIC CLUSTERMAP in Seaborn:</strong></p>\n",
    "\n",
    "\n",
    "**The code ``sns.clustermap(tips.corr())`` below creates a ``clustered heatmap`` of the ``correlation matrix`` for the tips dataset using Seaborn.** \n",
    "\n",
    "- A **``cluster map``** not only visualizes the data through color coding but also organizes the rows and columns based on hierarchical clustering, which helps to identify patterns and relationships more effectively."
   ]
  },
  {
   "cell_type": "code",
   "execution_count": null,
   "metadata": {
    "colab": {
     "base_uri": "https://localhost:8080/",
     "height": 747
    },
    "id": "DQuKLBmv6XWG",
    "outputId": "0f7d683c-1d69-4f8a-813a-0dd58da1fad9"
   },
   "outputs": [],
   "source": [
    "# Create a hierarchically-clustered heatmap of the correlation matrix without annotations\n",
    "\n",
    "sns.clustermap(tips.corr(numeric_only=True));"
   ]
  },
  {
   "cell_type": "markdown",
   "metadata": {},
   "source": [
    "- **``annot=False``**: This parameter disables the display of correlation values in each cell of the heatmap."
   ]
  },
  {
   "cell_type": "markdown",
   "metadata": {},
   "source": [
    "<p style=\"background-color:#FFFFFF; font-family:newtimeroman; color:#0000FF; font-size:110%; text-align:left;\"><strong>-----------------------------------------------------------------------------------------------------------------------------------------------------------------------------------------------</strong></p>\n",
    "\n",
    "<p style=\"background-color:#FFFFFF; font-family:newtimeroman; color:#0000FF; font-size:125%; text-align:left;\"><strong>👉 Creating a BASIC CLUSTERMAP with ANNOTATION in Seaborn:</strong></p>\n",
    "\n",
    "\n",
    "**The code ``sns.clustermap(tips.corr(numeric_only=True), annot=True, figsize=(5, 5))`` below creates a ``clustered heatmap`` of the ``correlation matrix`` for the numeric columns in the tips dataset, with ``annotations`` showing the correlation values.**"
   ]
  },
  {
   "cell_type": "code",
   "execution_count": null,
   "metadata": {},
   "outputs": [],
   "source": [
    "sns.clustermap(tips.corr(numeric_only=True), annot=True, figsize=(5, 5));"
   ]
  },
  {
   "cell_type": "markdown",
   "metadata": {},
   "source": [
    "**When we run the code above, we will see:**\n",
    "\n",
    "- **``Clustered Heatmap``**: The heatmap displays the correlation coefficients with clustering applied to both rows and columns based on similarity.\n",
    "- **``Annotations``**: Each cell in the heatmap will show the exact correlation values, making it easy to interpret the relationships between the numeric variables."
   ]
  },
  {
   "cell_type": "markdown",
   "metadata": {},
   "source": [
    "<p style=\"background-color:#FFFFFF; font-family:newtimeroman; color:#0000FF; font-size:110%; text-align:left;\"><strong>-----------------------------------------------------------------------------------------------------------------------------------------------------------------------------------------------</strong></p>\n",
    "\n",
    "<p style=\"background-color:#FFFFFF; font-family:newtimeroman; color:#0000FF; font-size:125%; text-align:left;\"><strong>👉 Remember a BASIC HEATMAP in Seaborn:</strong></p>\n",
    "\n",
    "\n",
    "**The code ``sns.heatmap(tips.corr(numeric_only=True), annot=True)`` below creates a ``heatmap`` of the ``correlation matrix`` for the numeric columns in the tips dataset, with ``annotations`` showing the correlation coefficients.**"
   ]
  },
  {
   "cell_type": "code",
   "execution_count": null,
   "metadata": {},
   "outputs": [],
   "source": [
    "sns.heatmap(tips.corr(numeric_only=True), annot=True);"
   ]
  },
  {
   "cell_type": "markdown",
   "metadata": {},
   "source": [
    "The outputs of the last two code snippets, which generate heatmaps using Seaborn, are similar in purpose but differ in the visualization techniques used. \n",
    "\n",
    "**``Key Differences:``**\n",
    "\n",
    "- 1. Type of Visualization:\n",
    "   - **``Cluster Map``**: Uses hierarchical clustering to rearrange the rows and columns based on similarity in correlation values. This means similar variables will be grouped together, allowing for easier identification of patterns and relationships.\n",
    "   - **``Standard Heatmap``**: Displays the correlation matrix without any clustering, so the order of variables is as they appear in the dataset.\n",
    "\n",
    "- 2. Layout and Size:\n",
    "   - **``Cluster Map``**: The figure size is set to (5, 5), which may be compact depending on the number of variables. The layout automatically adjusts based on the clustering.\n",
    "   - **``Standard Heatmap``**: The figure size can be adjusted (in the provided example, it’s (10, 6)), allowing for more space and potentially clearer visualization of more variables.\n",
    "\n",
    "- 3. Interpretation:\n",
    "   - **``Cluster Map``**: Easier to spot clusters of variables that are highly correlated, as the similar variables are grouped together.\n",
    "   - **``Standard Heatmap``**: Directly shows the correlation coefficients in a straightforward manner without rearranging the variables, making it easier to see exact values but potentially harder to identify patterns.\n",
    "\n",
    "- 4. Output Appearance:\n",
    "   - **``Cluster Map``**: The output may have a more complex appearance due to the rearrangement of columns and rows based on clustering.\n",
    "   - **``Standard Heatmap``**: The output is simpler and more straightforward, making it easier for quick reference of correlation values.\n",
    "\n",
    "- 5. Summary\n",
    "   - **``Choose Cluster Map``**: When you want to explore relationships and patterns among variables and see how they cluster based on correlation.\n",
    "   - **``Choose Standard Heatmap``**: When you need a clear view of correlation coefficients without the complexity of clustering, particularly for smaller datasets.\n",
    "   \n",
    "<p style=\"background-color:#FFFFFF; font-family:newtimeroman; color:#0000FF; font-size:110%; text-align:left;\"><strong>-----------------------------------------------------------------------------------------------------------------------------------------------------------------------------------------------</strong></p>\n"
   ]
  },
  {
   "cell_type": "markdown",
   "metadata": {},
   "source": [
    "\n",
    "### <p style=\"background-color:#FFFFFF; font-family:newtimeroman; color:blue; font-size:125%; text-align:left;\"><strong>✍🏻 It's time to practice with another dataset named ``Iris`` 🏋</strong></p>\n",
    "\n",
    "\n",
    "The **``Iris dataset``** contains measurements of different attributes of iris flowers, which are commonly used for classification tasks in machine learning.\n",
    "\n",
    "**Column Descriptions:**\n",
    "- **``sepal_length``**: Length of the sepal in centimeters.\n",
    "- **``sepal_width``**: Width of the sepal in centimeters.\n",
    "- **``petal_length``**: Length of the petal in centimeters.\n",
    "- **``petal_width``**: Width of the petal in centimeters.\n",
    "- **``species``**: The species of the iris flower (e.g., setosa, versicolor, virginica).\n",
    "\n",
    "<p style=\"background-color:#FFFFFF; font-family:newtimeroman; color:#0000FF; font-size:110%; text-align:left;\"><strong>-----------------------------------------------------------------------------------------------------------------------------------------------------------------------------------------------</strong></p>\n",
    "\n",
    "\n",
    "<p style=\"background-color:#FFFFFF; font-family:newtimeroman; color:#0000FF; font-size:125%; text-align:left;\"><strong>👉 Loading the Built-in Dataset of ``iris`` in Seaborn:</strong></p>\n"
   ]
  },
  {
   "cell_type": "code",
   "execution_count": null,
   "metadata": {
    "colab": {
     "base_uri": "https://localhost:8080/",
     "height": 746
    },
    "id": "MTxNho6o6fyG",
    "outputId": "d95f6307-2098-49c0-b800-d647ce21a48a"
   },
   "outputs": [],
   "source": [
    "# Loads the \"Iris\" dataset.\n",
    "iris = sns.load_dataset(\"iris\")\n",
    "\n",
    "# Displays the first five rows of the dataset.\n",
    "iris.head()"
   ]
  },
  {
   "cell_type": "markdown",
   "metadata": {},
   "source": [
    "<p style=\"background-color:#FFFFFF; font-family:newtimeroman; color:#0000FF; font-size:110%; text-align:left;\"><strong>-----------------------------------------------------------------------------------------------------------------------------------------------------------------------------------------------</strong></p>\n",
    "\n",
    "<p style=\"background-color:#FFFFFF; font-family:newtimeroman; color:#0000FF; font-size:125%; text-align:left;\"><strong>👉 Removing the ``species`` feature from the Dataset:</strong></p>\n"
   ]
  },
  {
   "cell_type": "code",
   "execution_count": null,
   "metadata": {},
   "outputs": [],
   "source": [
    "# Removes the \"species\" column from the iris DataFrame and assigns it to a separate variable called species.\n",
    "species = iris.pop(\"species\")\n",
    "\n",
    "# Displays the first five rows of the \"species\" dataset.\n",
    "species.head()"
   ]
  },
  {
   "cell_type": "markdown",
   "metadata": {},
   "source": [
    "<p style=\"background-color:#FFFFFF; font-family:newtimeroman; color:#0000FF; font-size:110%; text-align:left;\"><strong>-----------------------------------------------------------------------------------------------------------------------------------------------------------------------------------------------</strong></p>\n",
    "\n",
    "\n",
    "**The original \"iris\" DataFrame will now contain only the numeric feature columns: sepal_length, sepal_width, petal_length, and petal_width.**"
   ]
  },
  {
   "cell_type": "code",
   "execution_count": null,
   "metadata": {},
   "outputs": [],
   "source": [
    "# Displays the first five rows of the \"iris\" dataset.\n",
    "\n",
    "iris.head(3)"
   ]
  },
  {
   "cell_type": "markdown",
   "metadata": {
    "id": "SfDkCKc1zWss"
   },
   "source": [
    "<p style=\"background-color:#FFFFFF; font-family:newtimeroman; color:#0000FF; font-size:110%; text-align:left;\"><strong>-----------------------------------------------------------------------------------------------------------------------------------------------------------------------------------------------</strong></p>\n",
    "\n",
    "<p style=\"background-color:#FFFFFF; font-family:newtimeroman; color:#0000FF; font-size:125%; text-align:left;\"><strong>👉 Creating a BASIC CLUSTERMAP for ALL Numerical Features in the Dataset:</strong></p>\n",
    "\n",
    "\n",
    "The iris dataset contains observations of three iris species: ``Iris-setosa``, ``Iris-versicolor``, and ``Iris-virginica``.\n",
    "There are ``50 observations`` of each species for a ``total of 150 observations`` with 4 features each (``sepal length``, ``sepal width``, ``petal length``, ``petal width``).\n",
    "\n",
    "🧐 **[Source](https://www.pluralsight.com/guides/designing-a-machine-learning-model)**"
   ]
  },
  {
   "cell_type": "code",
   "execution_count": null,
   "metadata": {},
   "outputs": [],
   "source": [
    "# Create a clustered heatmap of the iris dataset without annotations\n",
    "\n",
    "sns.clustermap(iris);"
   ]
  },
  {
   "cell_type": "markdown",
   "metadata": {},
   "source": [
    "**When we run the code below, we will see:**\n",
    "\n",
    "- **``Clustered Heatmap``**: A heatmap displaying the measurements of the iris flowers, with **``rows``** representing different samples and **``columns``** representing the features (sepal_length, sepal_width, petal_length, petal_width).\n",
    "- **``Hierarchical Clustering``**: The rows and columns will be **``reordered based on similarity``**, helping to identify **``patterns``** and **``relationships``** among the features."
   ]
  },
  {
   "cell_type": "markdown",
   "metadata": {},
   "source": [
    "<p style=\"background-color:#FFFFFF; font-family:newtimeroman; color:#0000FF; font-size:110%; text-align:left;\"><strong>-----------------------------------------------------------------------------------------------------------------------------------------------------------------------------------------------</strong></p>\n",
    "\n",
    "<p style=\"background-color:#FFFFFF; font-family:newtimeroman; color:#0000FF; font-size:125%; text-align:left;\"><strong>👉 Creating a BASIC CLUSTERMAP for ALL Numerical Features with Annotation:</strong></p>\n",
    "\n",
    "\n",
    "**The code ``sns.clustermap(iris)`` below creates a ``clustered heatmap`` of the ``iris dataset``, which visualizes the ``relationships`` between the ``various features`` in the dataset and ``groups similar observations based on hierarchical clustering``.**"
   ]
  },
  {
   "cell_type": "code",
   "execution_count": null,
   "metadata": {},
   "outputs": [],
   "source": [
    "# Create a clustered heatmap of the correlation matrix with annotations\n",
    "\n",
    "sns.clustermap(iris, annot=True);"
   ]
  },
  {
   "cell_type": "markdown",
   "metadata": {},
   "source": [
    "<p style=\"background-color:#FFFFFF; font-family:newtimeroman; color:#0000FF; font-size:110%; text-align:left;\"><strong>-----------------------------------------------------------------------------------------------------------------------------------------------------------------------------------------------</strong></p>\n",
    "\n",
    "<p style=\"background-color:#FFFFFF; font-family:newtimeroman; color:#0000FF; font-size:125%; text-align:left;\"><strong>👉 Creating a CLUSTERMAP for Correlation Values:</strong></p>\n",
    "\n",
    "\n",
    "**The code ``sns.clustermap(iris.corr(), annot=True)`` below generates a ``clustered heatmap`` of the ``correlation matrix`` for the iris dataset, with ``annotations`` showing the correlation coefficients.**"
   ]
  },
  {
   "cell_type": "code",
   "execution_count": null,
   "metadata": {},
   "outputs": [],
   "source": [
    "sns.clustermap(iris.corr(), annot=True);  # You don't need numeric_only=True"
   ]
  },
  {
   "cell_type": "markdown",
   "metadata": {},
   "source": [
    "**Insights:**\n",
    "- **``Understanding Relationships``**: The heatmap allows you to quickly identify **``which features are strongly correlated``** (either positively or negatively).\n",
    "- **``Feature Selection``**: This visualization is useful for exploratory data analysis and can inform decisions about which features to include in predictive modeling.\n",
    "\n",
    "<p style=\"background-color:#FFFFFF; font-family:newtimeroman; color:#0000FF; font-size:110%; text-align:left;\"><strong>-----------------------------------------------------------------------------------------------------------------------------------------------------------------------------------------------</strong></p>\n"
   ]
  },
  {
   "cell_type": "markdown",
   "metadata": {},
   "source": [
    "\n",
    "### <p style=\"background-color:#FFFFFF; font-family:newtimeroman; color:blue; font-size:125%; text-align:left;\"><strong>✍🏻 It's time to practice with another dataset named ``penguins`` 🏋</strong></p>\n",
    "\n",
    "\n",
    "This dataset contains information about various species of penguins and their physical measurements.\n",
    "\n",
    "**Column Descriptions:**\n",
    "- **``species``**: The species of the penguin (e.g., Adelie, Chinstrap, Gentoo).\n",
    "- **``island``**: The island where the penguin was observed (e.g., Torgersen, Dream, Biscoe).\n",
    "- **``bill_length_mm``**: The length of the penguin's bill in millimeters.\n",
    "- **``bill_depth_mm``**: The depth of the penguin's bill in millimeters.\n",
    "- **``flipper_length_mm``**: The length of the penguin's flipper in millimeters.\n",
    "- **``body_mass_g``**: The body mass of the penguin in grams.\n",
    "- **``sex``**: The sex of the penguin (Male, Female).\n",
    "\n",
    "<p style=\"background-color:#FFFFFF; font-family:newtimeroman; color:#0000FF; font-size:110%; text-align:left;\"><strong>-----------------------------------------------------------------------------------------------------------------------------------------------------------------------------------------------</strong></p>\n",
    "\n",
    "<p style=\"background-color:#FFFFFF; font-family:newtimeroman; color:#0000FF; font-size:125%; text-align:left;\"><strong>👉 Loading the Built-in Dataset of ``penguins`` in Seaborn:</strong></p>\n"
   ]
  },
  {
   "cell_type": "code",
   "execution_count": null,
   "metadata": {},
   "outputs": [],
   "source": [
    "# Loads the \"penguins\" dataset.\n",
    "penguins = sns.load_dataset(\"penguins\")\n",
    "\n",
    "# Displays the first and last five rows of the dataset.\n",
    "penguins"
   ]
  },
  {
   "cell_type": "markdown",
   "metadata": {},
   "source": [
    "<p style=\"background-color:#FFFFFF; font-family:newtimeroman; color:#0000FF; font-size:110%; text-align:left;\"><strong>-----------------------------------------------------------------------------------------------------------------------------------------------------------------------------------------------</strong></p>\n",
    "\n",
    "<p style=\"background-color:#FFFFFF; font-family:newtimeroman; color:#0000FF; font-size:125%; text-align:left;\"><strong>👉 Checking Missing Values in the ``penguins`` Dataset:</strong></p>\n"
   ]
  },
  {
   "cell_type": "code",
   "execution_count": null,
   "metadata": {
    "scrolled": true
   },
   "outputs": [],
   "source": [
    "# Checks for missing (null) values in the penguins DataFrame and returns the count of missing values for each column. \n",
    "\n",
    "penguins.isnull().sum()"
   ]
  },
  {
   "cell_type": "markdown",
   "metadata": {},
   "source": [
    "<p style=\"background-color:#FFFFFF; font-family:newtimeroman; color:#0000FF; font-size:110%; text-align:left;\"><strong>-----------------------------------------------------------------------------------------------------------------------------------------------------------------------------------------------</strong></p>\n",
    "\n",
    "<p style=\"background-color:#FFFFFF; font-family:newtimeroman; color:#0000FF; font-size:125%; text-align:left;\"><strong>👉 Identifying the Rows Including Missing Values in the ``penguins`` Dataset:</strong></p>\n",
    "\n",
    "\n",
    "**The code below identifies and extracts the rows from the penguins DataFrame that contain any missing values (NaNs).**"
   ]
  },
  {
   "cell_type": "code",
   "execution_count": null,
   "metadata": {},
   "outputs": [],
   "source": [
    "# Creates a DataFrame where each cell is True if the corresponding cell in penguins is null (NaN), and False otherwise.\n",
    "is_NaN = penguins.isnull()  \n",
    "\n",
    "# Checks each row to see if it contains any True values (i.e., any NaNs).\n",
    "row_has_NaN = is_NaN.any(axis=1)\n",
    "\n",
    "# Filter the original penguins DataFrame, extracting only the rows that contain NaNs.\n",
    "rows_with_NaN = penguins[row_has_NaN]\n",
    "\n",
    "# Displays the first and last five rows of the dataset.\n",
    "rows_with_NaN"
   ]
  },
  {
   "cell_type": "markdown",
   "metadata": {},
   "source": [
    "<p style=\"background-color:#FFFFFF; font-family:newtimeroman; color:#0000FF; font-size:110%; text-align:left;\"><strong>-----------------------------------------------------------------------------------------------------------------------------------------------------------------------------------------------</strong></p>\n"
   ]
  },
  {
   "cell_type": "code",
   "execution_count": null,
   "metadata": {},
   "outputs": [],
   "source": [
    "# Retrieves the indices of the rows in the DataFrame that contain missing values (NaNs)\n",
    "NAN_index = rows_with_NaN.index\n",
    "\n",
    "# Displays the indices of the rows containing missing values (NaNs).\n",
    "NAN_index"
   ]
  },
  {
   "cell_type": "markdown",
   "metadata": {},
   "source": [
    "<p style=\"background-color:#FFFFFF; font-family:newtimeroman; color:#0000FF; font-size:110%; text-align:left;\"><strong>-----------------------------------------------------------------------------------------------------------------------------------------------------------------------------------------------</strong></p>\n",
    "\n",
    "<p style=\"background-color:#FFFFFF; font-family:newtimeroman; color:#0000FF; font-size:125%; text-align:left;\"><strong>👉 Visualizing Missing Values in the ``penguins`` Dataset:</strong></p>\n"
   ]
  },
  {
   "cell_type": "code",
   "execution_count": null,
   "metadata": {},
   "outputs": [],
   "source": [
    "# Create a figure with a specified size of 10*8\n",
    "plt.figure(figsize=(10, 8))\n",
    "\n",
    "# Create a heatmap to visualize missing values\n",
    "sns.heatmap(penguins.isnull());"
   ]
  },
  {
   "cell_type": "markdown",
   "metadata": {},
   "source": [
    "**When you run the code above, you will see:**\n",
    "\n",
    "- **``Heatmap Visualization``**: A heatmap displaying the **``presence of missing values``** in the penguins dataset.\n",
    "- **``Color Coding``**: The heatmap will visually indicate **``which columns have missing values``**, making it easier to identify patterns of missingness across the dataset.\n",
    "- **``Color Bar``**: If cbar=True, a color bar will be shown, indicating the color scale used in the heatmap.\n",
    "\n",
    "<p style=\"background-color:#FFFFFF; font-family:newtimeroman; color:#0000FF; font-size:110%; text-align:left;\"><strong>-----------------------------------------------------------------------------------------------------------------------------------------------------------------------------------------------</strong></p>\n",
    "\n",
    "<p style=\"background-color:#FFFFFF; font-family:newtimeroman; color:#0000FF; font-size:125%; text-align:left;\"><strong>👉 Alternative Approach for Visualizing Missing Values in the ``penguins`` Dataset:</strong></p>\n"
   ]
  },
  {
   "cell_type": "code",
   "execution_count": null,
   "metadata": {},
   "outputs": [],
   "source": [
    "# plt.figure(figsize = (10, 3))\n",
    "\n",
    "# Create a displot to visualize the distribution of missing values\n",
    "sns.displot(\n",
    "            data = penguins.isnull().melt(value_name=\"missing\"),\n",
    "            y = \"variable\",\n",
    "            hue = \"missing\",\n",
    "            multiple = \"fill\",\n",
    "            height = 9.25)\n",
    "\n",
    "# Add a vertical line at x=0.2 for a treshold of missing values\n",
    "plt.axvline(0.2, color = \"r\")\n",
    "\n",
    "# Show the plot\n",
    "plt.title(\"Distribution of Missing Values in Penguins Dataset\")\n",
    "plt.show()"
   ]
  },
  {
   "cell_type": "markdown",
   "metadata": {},
   "source": [
    "**When we run the code above, we will see:**\n",
    "\n",
    "- **``Stacked Bar Plot``**: Each bar represents a feature in the dataset, showing the proportion of missing and non-missing values.\n",
    "- **``Color Coding``**: Different colors indicate whether values are missing or not.\n",
    "- **``Reference Line``**: The vertical red line at x=0.2 serves as a reference point for interpreting the proportions of missing data."
   ]
  },
  {
   "cell_type": "markdown",
   "metadata": {},
   "source": [
    "<p style=\"background-color:#FFFFFF; font-family:newtimeroman; color:#0000FF; font-size:110%; text-align:left;\"><strong>-----------------------------------------------------------------------------------------------------------------------------------------------------------------------------------------------</strong></p>\n",
    "\n",
    "<p style=\"background-color:#FFFFFF; font-family:newtimeroman; color:#0000FF; font-size:125%; text-align:left;\"><strong>👉 Alternative Approach for Visualizing Missing Values in the ``penguins`` Dataset:</strong></p>\n",
    "\n",
    "\n",
    "**The following code snippet creates a ``heatmap`` to visualize ``missing values (NaNs)`` specifically in the rows of the penguins dataset that contain any missing values.**"
   ]
  },
  {
   "cell_type": "code",
   "execution_count": null,
   "metadata": {},
   "outputs": [],
   "source": [
    "# Create a figure with a specified size of 10*10\n",
    "plt.figure(figsize=(10, 10))\n",
    "\n",
    "# Create a heatmap to visualize missing values in rows with NaNs\n",
    "sns.heatmap(rows_with_NaN.isnull());"
   ]
  },
  {
   "cell_type": "markdown",
   "metadata": {},
   "source": [
    "<p style=\"background-color:#FFFFFF; font-family:newtimeroman; color:#0000FF; font-size:110%; text-align:left;\"><strong>-----------------------------------------------------------------------------------------------------------------------------------------------------------------------------------------------</strong></p>\n"
   ]
  },
  {
   "cell_type": "markdown",
   "metadata": {},
   "source": [
    "\n",
    "## <p style=\"background-color:#FFFFFF; font-family:newtimeroman; color:#FF0000; font-size:125%; text-align:left;\"><strong>✍🏻 It's Your turn, time to exercise 🏋</strong></p>\n",
    "\n",
    "\n",
    "### BONUS EXERCISES on **``TITANIC``** DATASET"
   ]
  },
  {
   "cell_type": "markdown",
   "metadata": {},
   "source": [
    "\n",
    "### <p style=\"background-color:#FFFFFF; font-family:newtimeroman; color:#FF0000; font-size:125%; text-align:left;\"><strong>🤔💭 TASK 01: How many people survived by their class❓</strong></p>\n"
   ]
  },
  {
   "cell_type": "markdown",
   "metadata": {},
   "source": [
    "**Be careful while annotating since it returns a FacetGrid object when we call catplot!**"
   ]
  },
  {
   "cell_type": "code",
   "execution_count": null,
   "metadata": {
    "colab": {
     "base_uri": "https://localhost:8080/",
     "height": 400
    },
    "id": "dwn5KJBXyaRW",
    "outputId": "a5f1f544-42e8-4992-fd2e-f023ba2dc01e"
   },
   "outputs": [],
   "source": [
    "# estimator : callable that maps vector -> scalar, optional\n",
    "# Statistical function to estimate within each categorical bin.\n",
    "\n",
    "g = sns.catplot(x='pclass', \n",
    "                y = \"survived\", \n",
    "                data=titanic, \n",
    "                kind=\"bar\", \n",
    "                estimator=np.count_nonzero)\n",
    "\n",
    "ax = g.facet_axis(0, 0)\n",
    "\n",
    "for container in ax.containers:\n",
    "    ax.bar_label(container, label_type=\"center\", color=\"white\", fontsize=14)"
   ]
  },
  {
   "cell_type": "markdown",
   "metadata": {},
   "source": [
    "<p style=\"background-color:#FFFFFF; font-family:newtimeroman; color:#0000FF; font-size:110%; text-align:left;\"><strong>-----------------------------------------------------------------------------------------------------------------------------------------------------------------------------------------------</strong></p>\n"
   ]
  },
  {
   "cell_type": "code",
   "execution_count": null,
   "metadata": {
    "colab": {
     "base_uri": "https://localhost:8080/",
     "height": 400
    },
    "id": "S33mATNZKJVB",
    "outputId": "a280e6ca-60b9-4ec4-f09d-0cd6233edbb1"
   },
   "outputs": [],
   "source": [
    "g = sns.catplot(x='pclass', \n",
    "                y=\"survived\", \n",
    "                data=titanic, \n",
    "                kind=\"bar\", \n",
    "                estimator=np.sum)\n",
    "\n",
    "ax = g.facet_axis(0, 0)\n",
    "\n",
    "for container in ax.containers:\n",
    "    ax.bar_label(container, label_type=\"center\", color=\"white\", fontsize=14)"
   ]
  },
  {
   "cell_type": "markdown",
   "metadata": {},
   "source": [
    "<p style=\"background-color:#FFFFFF; font-family:newtimeroman; color:#0000FF; font-size:110%; text-align:left;\"><strong>-----------------------------------------------------------------------------------------------------------------------------------------------------------------------------------------------</strong></p>\n"
   ]
  },
  {
   "cell_type": "code",
   "execution_count": null,
   "metadata": {
    "scrolled": true
   },
   "outputs": [],
   "source": [
    "titanic.groupby([\"pclass\", \"survived\"])[\"survived\"].count()"
   ]
  },
  {
   "cell_type": "markdown",
   "metadata": {},
   "source": [
    "<p style=\"background-color:#FFFFFF; font-family:newtimeroman; color:#0000FF; font-size:110%; text-align:left;\"><strong>-----------------------------------------------------------------------------------------------------------------------------------------------------------------------------------------------</strong></p>\n"
   ]
  },
  {
   "cell_type": "code",
   "execution_count": null,
   "metadata": {},
   "outputs": [],
   "source": [
    "titanic.groupby([\"pclass\", \"survived\"])[\"survived\"].sum()"
   ]
  },
  {
   "cell_type": "markdown",
   "metadata": {},
   "source": [
    "<p style=\"background-color:#FFFFFF; font-family:newtimeroman; color:#0000FF; font-size:110%; text-align:left;\"><strong>-----------------------------------------------------------------------------------------------------------------------------------------------------------------------------------------------</strong></p>\n"
   ]
  },
  {
   "cell_type": "code",
   "execution_count": null,
   "metadata": {},
   "outputs": [],
   "source": [
    "titanic[titanic.survived == 1].groupby(\"pclass\")[\"survived\"].count()"
   ]
  },
  {
   "cell_type": "markdown",
   "metadata": {},
   "source": [
    "<p style=\"background-color:#FFFFFF; font-family:newtimeroman; color:#0000FF; font-size:110%; text-align:left;\"><strong>-----------------------------------------------------------------------------------------------------------------------------------------------------------------------------------------------</strong></p>\n",
    "\n",
    "\n",
    "### <p style=\"background-color:#FFFFFF; font-family:newtimeroman; color:#FF0000; font-size:125%; text-align:left;\"><strong>🤔💭 TASK 02: How many of people survived were men and women by their class❓</strong></p>\n"
   ]
  },
  {
   "cell_type": "markdown",
   "metadata": {},
   "source": [
    "<p style=\"background-color:#FFFFFF; font-family:newtimeroman; color:#0000FF; font-size:110%; text-align:left;\"><strong>-----------------------------------------------------------------------------------------------------------------------------------------------------------------------------------------------</strong></p>\n",
    "\n",
    "\n",
    "**estimator**\n",
    "\n",
    "- callable that maps vector -> scalar, optional\n",
    "- Statistical function to estimate within each categorical bin.\n",
    "\n",
    "**[numpy.count_nonzero(a, axis=None, *, keepdims=False)](https://numpy.org/doc/stable/reference/generated/numpy.count_nonzero.html)**\n",
    "\n",
    "Counts the number of non-zero values in the array. For example, any number is considered truthful if it is nonzero, whereas any string is considered truthful if it is not the empty string. Thus, this function (recursively) counts how many elements in a (and in sub-arrays thereof) have their __nonzero__() or __bool__() method evaluated to True.\n",
    "\n",
    "[Source](https://numpy.org/doc/stable/reference/generated/numpy.count_nonzero.html)<br>\n",
    "\n",
    "<p style=\"background-color:#FFFFFF; font-family:newtimeroman; color:#0000FF; font-size:110%; text-align:left;\"><strong>-----------------------------------------------------------------------------------------------------------------------------------------------------------------------------------------------</strong></p>\n"
   ]
  },
  {
   "cell_type": "code",
   "execution_count": null,
   "metadata": {
    "colab": {
     "base_uri": "https://localhost:8080/",
     "height": 400
    },
    "id": "ZQAHMNbhKJYY",
    "outputId": "7142e6b6-db51-4ff8-8acc-7f9868e35e5d"
   },
   "outputs": [],
   "source": [
    "g = sns.catplot(x='pclass', \n",
    "                y = \"survived\", \n",
    "                data=titanic, \n",
    "                kind=\"bar\", \n",
    "                estimator=np.count_nonzero, \n",
    "                hue=\"sex\")\n",
    "\n",
    "ax = g.facet_axis(0, 0)\n",
    "\n",
    "for container in ax.containers:\n",
    "    ax.bar_label(container, label_type=\"center\", color=\"white\", fontsize=14)"
   ]
  },
  {
   "cell_type": "markdown",
   "metadata": {},
   "source": [
    "<p style=\"background-color:#FFFFFF; font-family:newtimeroman; color:#0000FF; font-size:110%; text-align:left;\"><strong>-----------------------------------------------------------------------------------------------------------------------------------------------------------------------------------------------</strong></p>\n"
   ]
  },
  {
   "cell_type": "code",
   "execution_count": null,
   "metadata": {},
   "outputs": [],
   "source": [
    "titanic[titanic.survived == 1].groupby([\"pclass\", \"sex\"])[\"survived\"].count()"
   ]
  },
  {
   "cell_type": "markdown",
   "metadata": {},
   "source": [
    "<p style=\"background-color:#FFFFFF; font-family:newtimeroman; color:#0000FF; font-size:110%; text-align:left;\"><strong>-----------------------------------------------------------------------------------------------------------------------------------------------------------------------------------------------</strong></p>\n",
    "\n",
    "### <p style=\"background-color:#FFFFFF; font-family:newtimeroman; color:#FF0000; font-size:125%; text-align:left;\"><strong>🤔💭 TASK 03: How many men/women who were alone or not alone survived according to their class and the place where they embarked?❓</strong></p>\n",
    "\n",
    "<p style=\"background-color:#FFFFFF; font-family:newtimeroman; color:#0000FF; font-size:110%; text-align:left;\"><strong>-----------------------------------------------------------------------------------------------------------------------------------------------------------------------------------------------</strong></p>\n"
   ]
  },
  {
   "cell_type": "code",
   "execution_count": null,
   "metadata": {},
   "outputs": [],
   "source": [
    "titanic[\"embarked\"].value_counts()"
   ]
  },
  {
   "cell_type": "code",
   "execution_count": null,
   "metadata": {},
   "outputs": [],
   "source": [
    "titanic[\"alone\"].value_counts()"
   ]
  },
  {
   "cell_type": "markdown",
   "metadata": {},
   "source": [
    "<p style=\"background-color:#FFFFFF; font-family:newtimeroman; color:#0000FF; font-size:110%; text-align:left;\"><strong>-----------------------------------------------------------------------------------------------------------------------------------------------------------------------------------------------</strong></p>\n"
   ]
  },
  {
   "cell_type": "code",
   "execution_count": null,
   "metadata": {
    "colab": {
     "base_uri": "https://localhost:8080/",
     "height": 1000
    },
    "id": "E7CMYjpsKJbX",
    "outputId": "1bedef96-162c-4f70-a660-53608d8bdf26"
   },
   "outputs": [],
   "source": [
    "g = sns.catplot(x='pclass', \n",
    "                y = \"survived\", \n",
    "                data=titanic, \n",
    "                kind=\"bar\", \n",
    "                estimator=np.count_nonzero, \n",
    "                hue=\"sex\", \n",
    "                col=\"alone\", \n",
    "                row=\"embarked\")\n",
    "\n",
    "# iterate through axes\n",
    "for ax in g.axes.ravel():\n",
    "    # add annotations\n",
    "    for c in ax.containers:\n",
    "        labels = [f'{(v.get_height()):.0f} People' for v in c]\n",
    "        ax.bar_label(c, labels=labels, label_type='edge', color=\"red\")\n",
    "    ax.margins(y=0.2)    \n",
    "    \n",
    "#     for container in ax.containers:\n",
    "#         ax.bar_label(container, label_type=\"edge\", color=\"red\", fontsize=14)"
   ]
  },
  {
   "cell_type": "markdown",
   "metadata": {},
   "source": [
    "**[Seaborn Catplot set values over the bars](https://stackoverflow.com/questions/55586912/seaborn-catplot-set-values-over-the-bars)**\n",
    "\n",
    "<p style=\"background-color:#FFFFFF; font-family:newtimeroman; color:#0000FF; font-size:110%; text-align:left;\"><strong>-----------------------------------------------------------------------------------------------------------------------------------------------------------------------------------------------</strong></p>\n"
   ]
  },
  {
   "cell_type": "code",
   "execution_count": null,
   "metadata": {},
   "outputs": [],
   "source": [
    "titanic[titanic.survived == 1].groupby([\"pclass\", \"embarked\", \"alone\", \"sex\"])[\"survived\"].count()"
   ]
  },
  {
   "cell_type": "markdown",
   "metadata": {},
   "source": [
    "<p style=\"background-color:#FFFFFF; font-family:newtimeroman; color:#0000FF; font-size:110%; text-align:left;\"><strong>-----------------------------------------------------------------------------------------------------------------------------------------------------------------------------------------------</strong></p>\n"
   ]
  },
  {
   "cell_type": "markdown",
   "metadata": {},
   "source": [
    "## <p style=\"background-color:#E51A59; font-family:newtimeroman; color:#FFF9ED; font-size:150%; text-align:center; border-radius:10px 10px;\">Seaborn Cheat Sheet</p>\n",
    "\n",
    "<a id=\"8\"></a>\n",
    "<a href=\"#toc\" class=\"btn btn-primary btn-sm\" role=\"button\" aria-pressed=\"true\" \n",
    "style=\"color:blue; background-color:#dfa8e4\" data-toggle=\"popover\">Content</a>\n",
    "\n",
    "<img src=https://i.ibb.co/CwyVDr7/Python-Seaborn-Cheat-Sheet1024-1.jpg width=\"1000\" height=\"200\">  \n",
    "\n",
    "**🧐 [Top 12 Cheat Sheets for Data Science in Python](https://medium.com/@d.goglia/top-12-cheat-sheet-for-data-science-in-python-4bf685dc3f37)**"
   ]
  },
  {
   "cell_type": "markdown",
   "metadata": {
    "id": "EneLU_t6yDhn"
   },
   "source": [
    "<a id=\"9\"></a>\n",
    "<a href=\"#toc\" class=\"btn btn-primary btn-sm\" role=\"button\" aria-pressed=\"true\" \n",
    "style=\"color:blue; background-color:#dfa8e4\" data-toggle=\"popover\">Content</a>\n",
    "\n",
    "## <p style=\"background-color:#FDFEFE; font-family:newtimeroman; color:#E51A59; font-size:150%; text-align:center; border-radius:10px 10px;\">The End of Session-05 (Seaborn Part-03)</p>\n",
    "\n",
    "\n",
    "<p style=\"text-align: center;\"><img src=\"https://i.ibb.co/TtRtYNn/healthy-lunch.jpg\" width=\"800\" height=\"200\" class=\"img-fluid\" alt=\"Lunch Time\"></p>\n",
    "\n",
    "\n",
    "<p style=\"text-align: center;\"><img src=\"https://i.ibb.co/99DQ3TY/DS-Courses.png\" class=\"img-fluid\" alt=\"CLRSWY_\"></p>\n",
    "\n",
    "<br>\n",
    "<hr>\n",
    "<p style=\"text-align: center;\"><img src=\"https://i.ibb.co/Rpz9L36/clarusway-logo-black.png\" width=\"450\" height=\"200\" class=\"img-fluid\" alt=\"CLRSWY_LOGO\"></p>\n",
    "\n",
    "<p style=\"background-color:#E51A59; font-family:newtimeroman; color:#FDFEFE; font-size:130%; text-align:center; border-radius:10px 10px;\">WAY TO REINVENT YOURSELF</p>"
   ]
  },
  {
   "cell_type": "markdown",
   "metadata": {
    "deletable": false,
    "editable": false
   },
   "source": [
    "<a href=\"https://clarusway.com/contact-us/\"><img align=\"center\" src=\"https://i.ibb.co/B43qn24/officially-licensed-logo.png\" alt=\"Open in Clarusway LMS\" width=\"110\" height=\"200\" title=\"This notebook is licensed by Clarusway IT training school. Please contact the authorized persons about the conditions under which you can use or share.\"></a>"
   ]
  }
 ],
 "metadata": {
  "colab": {
   "collapsed_sections": [],
   "name": "S5_Seaborn-3.ipynb",
   "provenance": []
  },
  "kernelspec": {
   "display_name": "Python 3 (ipykernel)",
   "language": "python",
   "name": "python3"
  },
  "language_info": {
   "codemirror_mode": {
    "name": "ipython",
    "version": 3
   },
   "file_extension": ".py",
   "mimetype": "text/x-python",
   "name": "python",
   "nbconvert_exporter": "python",
   "pygments_lexer": "ipython3",
   "version": "3.9.15"
  },
  "toc": {
   "base_numbering": 1,
   "nav_menu": {},
   "number_sections": false,
   "sideBar": true,
   "skip_h1_title": false,
   "title_cell": "Table of Contents",
   "title_sidebar": "Contents",
   "toc_cell": false,
   "toc_position": {
    "height": "calc(100% - 180px)",
    "left": "10px",
    "top": "150px",
    "width": "304.475px"
   },
   "toc_section_display": true,
   "toc_window_display": true
  },
  "varInspector": {
   "cols": {
    "lenName": 16,
    "lenType": 16,
    "lenVar": 40
   },
   "kernels_config": {
    "python": {
     "delete_cmd_postfix": "",
     "delete_cmd_prefix": "del ",
     "library": "var_list.py",
     "varRefreshCmd": "print(var_dic_list())"
    },
    "r": {
     "delete_cmd_postfix": ") ",
     "delete_cmd_prefix": "rm(",
     "library": "var_list.r",
     "varRefreshCmd": "cat(var_dic_list()) "
    }
   },
   "types_to_exclude": [
    "module",
    "function",
    "builtin_function_or_method",
    "instance",
    "_Feature"
   ],
   "window_display": false
  }
 },
 "nbformat": 4,
 "nbformat_minor": 4
}
