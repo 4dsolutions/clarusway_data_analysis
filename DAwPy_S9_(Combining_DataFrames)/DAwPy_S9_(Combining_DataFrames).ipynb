{
 "cells": [
  {
   "cell_type": "markdown",
   "metadata": {
    "id": "RIcz-kOsv1Va"
   },
   "source": [
    "<a href=\"https://colab.research.google.com/github/4dsolutions/clarusway_data_analysis/blob/main/DAwPy_S9_(Combining_DataFrames)/DAwPy_S9_(Combining_DataFrames).ipynb\"><img align=\"left\" src=\"https://colab.research.google.com/assets/colab-badge.svg\" alt=\"Open in Colab\" title=\"Open and Execute in Google Colaboratory\"></a><br/>\n",
    "[![nbviewer](https://raw.githubusercontent.com/jupyter/design/master/logos/Badges/nbviewer_badge.svg)](https://nbviewer.org/github/4dsolutions/clarusway_data_analysis/blob/main/DAwPy_S9_%28Combining_DataFrames%29/DAwPy_S9_%28Combining_DataFrames%29.ipynb)\n",
    "\n",
    "\n",
    "________\n",
    "\n",
    "<p style=\"text-align: center;\"><img src=\"https://docs.google.com/uc?id=1lY0Uj5R04yMY3-ZppPWxqCr5pvBLYPnV\" class=\"img-fluid\" \n",
    "alt=\"CLRSWY\"></p>\n",
    "\n",
    "## <p style=\"background-color:#FDFEFE; font-family:newtimeroman; color:#9d4f8c; font-size:100%; text-align:center; border-radius:10px 10px;\">WAY TO REINVENT YOURSELF</p>"
   ]
  },
  {
   "cell_type": "markdown",
   "metadata": {},
   "source": [
    "<img src=https://i.ibb.co/6gCsHd6/1200px-Pandas-logo-svg.png width=\"700\" height=\"200\">\n",
    "\n",
    "## <p style=\"background-color:#FDFEFE; font-family:newtimeroman; color:#060108; font-size:200%; text-align:center; border-radius:10px 10px;\">Data Analysis with Python</p>\n",
    "\n",
    "## <p style=\"background-color:#FDFEFE; font-family:newtimeroman; color:#060108; font-size:150%; text-align:center; border-radius:10px 10px;\">Session - 09</p>\n",
    "\n",
    "## <p style=\"background-color:#FDFEFE; font-family:newtimeroman; color:#4d77cf; font-size:200%; text-align:center; border-radius:10px 10px;\">Combining DataFrames</p>"
   ]
  },
  {
   "cell_type": "markdown",
   "metadata": {},
   "source": [
    "<a id=\"toc\"></a>\n",
    "\n",
    "## <p style=\"background-color:#9d4f8c; font-family:newtimeroman; color:#FFF9ED; font-size:175%; text-align:center; border-radius:10px 10px;\">Content</p>\n",
    "\n",
    "* [IMPORTING LIBRARIES NEEDED IN THIS NOTEBOOK](#0)\n",
    "* [COMBINING DATAFRAMES](#1)\n",
    "* [APPENDING](#2)\n",
    "* [CONCATENATION](#3)    \n",
    "* [MERGING](#4)  \n",
    "* [JOINING](#5)    \n",
    "* [MORE EXAMPLES](#6)  \n",
    "* [THE END OF THE SESSION - 09](#7)"
   ]
  },
  {
   "cell_type": "markdown",
   "metadata": {},
   "source": [
    "## <p style=\"background-color:#9d4f8c; font-family:newtimeroman; color:#FFF9ED; font-size:175%; text-align:center; border-radius:10px 10px;\">Importing Libraries Needed in This Notebook</p>\n",
    "\n",
    "<a id=\"0\"></a>\n",
    "<a href=\"#toc\" class=\"btn btn-primary btn-sm\" role=\"button\" aria-pressed=\"true\" \n",
    "style=\"color:blue; background-color:#dfa8e4\" data-toggle=\"popover\">Content</a>\n",
    "\n",
    "Once you've installed NumPy & Pandas you can import them as a library:"
   ]
  },
  {
   "cell_type": "code",
   "execution_count": null,
   "metadata": {
    "id": "FAWmWctsv1Vh"
   },
   "outputs": [],
   "source": [
    "import numpy as np\n",
    "import pandas as pd\n",
    "import seaborn as sns"
   ]
  },
  {
   "cell_type": "markdown",
   "metadata": {
    "id": "G8WzD90tv1Vg"
   },
   "source": [
    "## <p style=\"background-color:#9d4f8c; font-family:newtimeroman; color:#FFF9ED; font-size:175%; text-align:center; border-radius:10px 10px;\">Combining DataFrames</p>\n",
    "\n",
    "<a id=\"1\"></a>\n",
    "<a href=\"#toc\" class=\"btn btn-primary btn-sm\" role=\"button\" aria-pressed=\"true\" \n",
    "style=\"color:blue; background-color:#dfa8e4\" data-toggle=\"popover\">Content</a>\n",
    "\n",
    "There are **4 main ways** of combining DataFrames together: Appending (deprecated), Concatenating, Joining and Merging. In this lecture we will discuss these 4 methods with examples. \n",
    "\n",
    "[A Detailed Video Source](https://www.youtube.com/watch?v=g7n1MZyYjOM)."
   ]
  },
  {
   "cell_type": "code",
   "execution_count": null,
   "metadata": {},
   "outputs": [],
   "source": [
    "from IPython.display import YouTubeVideo\n",
    "YouTubeVideo(\"g7n1MZyYjOM\")"
   ]
  },
  {
   "cell_type": "markdown",
   "metadata": {
    "id": "G8WzD90tv1Vg"
   },
   "source": [
    " - **Append** is the specific case(axis=0, join='outer') of concat\n",
    "\n",
    " - **Concat** gives the flexibility to join based on the axis( all rows or all columns)\n",
    " \n",
    " - **Join** is based on the indexes (set by set_index)/key columns on how variable =['left','right','inner','outer']\n",
    "\n",
    " - **Merge** is based on any particular column each of the two dataframes, this columns are variables on like 'left_on', 'right_on', 'on'"
   ]
  },
  {
   "cell_type": "markdown",
   "metadata": {},
   "source": [
    "### Difference between merge, join, and concatenate\n",
    "\n",
    "The merge() and join() methods are the DataFrame method, not a series method. The concat() method is the pandas’ method which provides the functionality to combine the pandas’ objects such as DataFrame and Series.\n",
    "\n",
    "* <b>Merge</b><br/>\n",
    "The merge() function used to merge the DataFrames with database-style join such as inner join, outer join, left join, right join.\n",
    "Combining exactly two DataFrames.\n",
    "The join is done on columns or indexes.\n",
    "If joining columns on columns, the DataFrame indexes will be ignored.\n",
    "If joining indexes on indexes or indexes on a column, the index will be passed on.\n",
    "* <b>Join</b><br/>\n",
    "The join() function used to join two or more pandas DataFrames/Series horizontally.\n",
    "Join() uses merge internally for the index-on-index (by default) and column(s)-on-index join.\n",
    "Aligns the calling DataFrame’s column(s) or index with the other objects’ index (and not the columns).\n",
    "Defaults to left join with options for right, inner and outer join\n",
    "* <b>Concat</b><br/>\n",
    "concatenate two or more pandas DataFrames/Series vertically or horizontally.\n",
    "Aligns only on the index by specifying the axis parameter.\n",
    "Defaults to outer join with the option for inner join"
   ]
  },
  {
   "cell_type": "markdown",
   "metadata": {},
   "source": [
    "Remember to scan YouTube for tutorials on any pandas topics you wish to review:\n",
    "\n",
    "<a data-flickr-embed=\"true\" href=\"https://www.flickr.com/photos/kirbyurner/52925636851/in/datetaken/\" title=\"Pandas World\"><img src=\"https://live.staticflickr.com/65535/52925636851_22889e675c_c.jpg\" width=\"800\" height=\"450\" alt=\"Pandas World\"/></a><script async src=\"//embedr.flickr.com/assets/client-code.js\" charset=\"utf-8\"></script>"
   ]
  },
  {
   "cell_type": "markdown",
   "metadata": {
    "id": "MHnw2iOsv1Vh"
   },
   "source": [
    "### Example DataFrames"
   ]
  },
  {
   "cell_type": "code",
   "execution_count": null,
   "metadata": {
    "id": "VNf-LT4cv1Vj"
   },
   "outputs": [],
   "source": [
    "df1 = pd.DataFrame({'A': ['A0', 'A1', 'A2', 'A3'],\n",
    "                    'B': ['B0', 'B1', 'B2', 'B3'],\n",
    "                    'C': ['C0', 'C1', 'C2', 'C3'],\n",
    "                    'D': ['D0', 'D1', 'D2', 'D3']}\n",
    "                    )"
   ]
  },
  {
   "cell_type": "code",
   "execution_count": null,
   "metadata": {
    "id": "BAxUBssCv1Vk"
   },
   "outputs": [],
   "source": [
    "df2 = pd.DataFrame({'A': ['A4', 'A5', 'A6', 'A7'],\n",
    "                    'B': ['B4', 'B5', 'B6', 'B7'],\n",
    "                    'C': ['C4', 'C5', 'C6', 'C7'],\n",
    "                    'D': ['D4', 'D5', 'D6', 'D7']}\n",
    "                    ) "
   ]
  },
  {
   "cell_type": "code",
   "execution_count": null,
   "metadata": {
    "id": "EC3YzPeGv1Vk"
   },
   "outputs": [],
   "source": [
    "df3 = pd.DataFrame({'A': ['A8', 'A9', 'A10', 'A11'],\n",
    "                    'B': ['B8', 'B9', 'B10', 'B11'],\n",
    "                    'C': ['C8', 'C9', 'C10', 'C11'],\n",
    "                    'D': ['D8', 'D9', 'D10', 'D11']}\n",
    "                   )"
   ]
  },
  {
   "cell_type": "code",
   "execution_count": null,
   "metadata": {
    "id": "30WJt7ts9-n9"
   },
   "outputs": [],
   "source": [
    "df4 = pd.DataFrame({'C': ['C12', 'C13', 'C14', 'C15'],\n",
    "                    'A': ['A12', 'A13', 'A14', 'A15'],\n",
    "                    'D': ['D12', 'D13', 'D14', 'D15'],\n",
    "                    'B': ['B12', 'B13', 'B14', 'B15']}\n",
    "                    )"
   ]
  },
  {
   "cell_type": "code",
   "execution_count": null,
   "metadata": {},
   "outputs": [],
   "source": [
    "df5 = pd.DataFrame({'C': ['C12', 'C13', 'C14', 'C15'],\n",
    "                    'A': ['A12', 'A13', 'A14', 'A15'],\n",
    "                    'D': ['D12', 'D13', 'D14', 'D15'],\n",
    "                    'B': ['B12', 'B13', 'B14', 'B15'],\n",
    "                    'E': ['E16', 'E17', 'E18', 'E19']}\n",
    "                    )"
   ]
  },
  {
   "cell_type": "code",
   "execution_count": null,
   "metadata": {
    "colab": {
     "base_uri": "https://localhost:8080/",
     "height": 172
    },
    "id": "AdH3VJ8Rv1Vl",
    "outputId": "0c81ce2f-538c-482f-ee00-93d902f713df"
   },
   "outputs": [],
   "source": [
    "df1"
   ]
  },
  {
   "cell_type": "code",
   "execution_count": null,
   "metadata": {
    "colab": {
     "base_uri": "https://localhost:8080/",
     "height": 172
    },
    "id": "0_29Qb1Ev1Vm",
    "outputId": "d72663f9-3310-40c4-babc-41ceb38dd34d"
   },
   "outputs": [],
   "source": [
    "df2"
   ]
  },
  {
   "cell_type": "code",
   "execution_count": null,
   "metadata": {
    "colab": {
     "base_uri": "https://localhost:8080/",
     "height": 172
    },
    "id": "I9gJQ5psv1Vm",
    "outputId": "6c7c4ddd-e570-4b2e-b11c-ae2eac33a5fe"
   },
   "outputs": [],
   "source": [
    "df3"
   ]
  },
  {
   "cell_type": "markdown",
   "metadata": {
    "id": "Qd1HZByX9-oB"
   },
   "source": [
    "## <p style=\"background-color:#9d4f8c; font-family:newtimeroman; color:#FFF9ED; font-size:175%; text-align:center; border-radius:10px 10px;\">Appending</p>\n",
    "\n",
    "<a id=\"2\"></a>\n",
    "<a href=\"#toc\" class=\"btn btn-primary btn-sm\" role=\"button\" aria-pressed=\"true\" \n",
    "style=\"color:blue; background-color:#dfa8e4\" data-toggle=\"popover\">Content</a>\n",
    "\n",
    "**append** is a basic way of combining DataFrames, but it's deprecated. Expect at least a warning if using a recent pandas.  We include it for completeness, as we are likely to encounter code from previous versions.\n",
    "\n",
    "Pandas dataframe.append() function is used to **append rows of other dataframe to the end of the given dataframe**, returning a new dataframe object. Columns not in the original dataframes are added as new columns and the new cells are populated with NaN value \n",
    "\n",
    "* [pandas Documentation](https://pandas.pydata.org/pandas-docs/version/1.3/reference/api/pandas.DataFrame.append.html)\n",
    "* [Geeks for Geeks](https://www.geeksforgeeks.org/python-pandas-dataframe-append/)\n",
    "* [Python Programming](https://pythonprogramming.net/concatenate-append-data-analysis-python-pandas-tutorial/)"
   ]
  },
  {
   "cell_type": "code",
   "execution_count": null,
   "metadata": {},
   "outputs": [],
   "source": [
    "df1"
   ]
  },
  {
   "cell_type": "code",
   "execution_count": null,
   "metadata": {},
   "outputs": [],
   "source": [
    "df3"
   ]
  },
  {
   "cell_type": "markdown",
   "metadata": {},
   "source": [
    "The append method is actually deprecated, but lets include it, and the concat equivalents, for backward compatibility."
   ]
  },
  {
   "cell_type": "code",
   "execution_count": null,
   "metadata": {
    "colab": {
     "base_uri": "https://localhost:8080/",
     "height": 295
    },
    "id": "vgUMtOvj0RZw",
    "outputId": "0e8f23eb-9bd1-46d3-bc15-962aac7326f3"
   },
   "outputs": [],
   "source": [
    "df1.append(df3)  # pd.concat([df1, df3])"
   ]
  },
  {
   "cell_type": "code",
   "execution_count": null,
   "metadata": {},
   "outputs": [],
   "source": [
    "import warnings\n",
    "warnings.simplefilter(action='ignore', category=FutureWarning)"
   ]
  },
  {
   "cell_type": "code",
   "execution_count": null,
   "metadata": {},
   "outputs": [],
   "source": [
    "df1.append(df3, ignore_index=True)"
   ]
  },
  {
   "cell_type": "code",
   "execution_count": null,
   "metadata": {},
   "outputs": [],
   "source": [
    "try:\n",
    "    df1.append(df3, verify_integrity=True)\n",
    "except ValueError:\n",
    "    print(\"duplicate indexes\")"
   ]
  },
  {
   "cell_type": "markdown",
   "metadata": {},
   "source": [
    "If we ignore the index then there's no need to worry about its containing duplicates."
   ]
  },
  {
   "cell_type": "code",
   "execution_count": null,
   "metadata": {},
   "outputs": [],
   "source": [
    "df1.append(df3, ignore_index=True, verify_integrity=True)"
   ]
  },
  {
   "cell_type": "code",
   "execution_count": null,
   "metadata": {},
   "outputs": [],
   "source": [
    "combined = df1.append(df3)"
   ]
  },
  {
   "cell_type": "code",
   "execution_count": null,
   "metadata": {},
   "outputs": [],
   "source": [
    "combined.index"
   ]
  },
  {
   "cell_type": "code",
   "execution_count": null,
   "metadata": {},
   "outputs": [],
   "source": [
    "df1.append(df3).iloc[0:6,:]  # .loc gives an error (non-unique index)"
   ]
  },
  {
   "cell_type": "code",
   "execution_count": null,
   "metadata": {},
   "outputs": [],
   "source": [
    "df9 = df1.append([df2, df3, df4])\n",
    "df9"
   ]
  },
  {
   "cell_type": "code",
   "execution_count": null,
   "metadata": {},
   "outputs": [],
   "source": [
    "df9.loc[1]"
   ]
  },
  {
   "cell_type": "markdown",
   "metadata": {},
   "source": [
    "The resulting index is \"weird\" because it repeats, whereas an index is usually meant to be unique.  What we find is these repeating numbers are used as labels, but under the hood we still have the `iloc` attribute for using a numeric index that increases top to bottom."
   ]
  },
  {
   "cell_type": "code",
   "execution_count": null,
   "metadata": {},
   "outputs": [],
   "source": [
    "df9.index"
   ]
  },
  {
   "cell_type": "code",
   "execution_count": null,
   "metadata": {},
   "outputs": [],
   "source": [
    "df9.iloc[4]"
   ]
  },
  {
   "cell_type": "code",
   "execution_count": null,
   "metadata": {},
   "outputs": [],
   "source": [
    "df9.iloc[5:16]"
   ]
  },
  {
   "cell_type": "code",
   "execution_count": null,
   "metadata": {
    "id": "BUSHtZhb9-oB",
    "outputId": "01515b0c-7842-4484-8f03-a5f993775cb5"
   },
   "outputs": [],
   "source": [
    "pd.concat([df1, df2], ignore_index = True) # df1.append(df3, ignore_index=True)"
   ]
  },
  {
   "cell_type": "code",
   "execution_count": null,
   "metadata": {},
   "outputs": [],
   "source": [
    "df5"
   ]
  },
  {
   "cell_type": "code",
   "execution_count": null,
   "metadata": {
    "id": "j9MNgVq29-oC",
    "outputId": "307ebe5b-ffab-41da-b00d-c0ddfe3e7790"
   },
   "outputs": [],
   "source": [
    "df1.append(df5, ignore_index = True)"
   ]
  },
  {
   "cell_type": "markdown",
   "metadata": {
    "id": "8Xx5dLuFv1Vn"
   },
   "source": [
    "## <p style=\"background-color:#9d4f8c; font-family:newtimeroman; color:#FFF9ED; font-size:175%; text-align:center; border-radius:10px 10px;\">Concatenation</p>\n",
    "\n",
    "<a id=\"3\"></a>\n",
    "<a href=\"#toc\" class=\"btn btn-primary btn-sm\" role=\"button\" aria-pressed=\"true\" \n",
    "style=\"color:blue; background-color:#dfa8e4\" data-toggle=\"popover\">Content</a>\n",
    "\n",
    "Concatenate pandas objects along a particular axis with optional set logic along the other axes.  Use it in place of `append` going forward.\n",
    "\n",
    "Concatenation basically glues together DataFrames. Keep in mind that dimensions should match along the axis you are concatenating on. You can use **pd.concat** and pass in a list of DataFrames to concatenate together [Source 01](https://pandas.pydata.org/docs/reference/api/pandas.concat.html), [Source 02](https://pandas.pydata.org/pandas-docs/stable/user_guide/merging.html), [Source 03](https://towardsdatascience.com/pandas-concat-tricks-you-should-know-to-speed-up-your-data-analysis-cd3d4fdfe6dd) & [Source 04](https://www.journaldev.com/33320/pandas-concat-examples):\n",
    "\n",
    "**``pandas.concat(objs, axis=0, join='outer', ignore_index=False, keys=None, levels=None, names=None, verify_integrity=False, sort=False, copy=True)``**"
   ]
  },
  {
   "cell_type": "code",
   "execution_count": null,
   "metadata": {},
   "outputs": [],
   "source": [
    "# ? pd.concat"
   ]
  },
  {
   "cell_type": "code",
   "execution_count": null,
   "metadata": {
    "colab": {
     "base_uri": "https://localhost:8080/",
     "height": 418
    },
    "id": "iXRCSHydv1Vn",
    "outputId": "0d479cd9-0a28-464a-bd26-2ad9d8edfe97",
    "scrolled": true
   },
   "outputs": [],
   "source": [
    "# Default = rows onto rows\n",
    "\n",
    "pd.concat([df1, df2, df3])"
   ]
  },
  {
   "cell_type": "code",
   "execution_count": null,
   "metadata": {},
   "outputs": [],
   "source": [
    "try:\n",
    "    pd.concat([df1, df2, df3], verify_integrity = True)\n",
    "except Exception as E:\n",
    "    print(E)"
   ]
  },
  {
   "cell_type": "code",
   "execution_count": null,
   "metadata": {
    "colab": {
     "base_uri": "https://localhost:8080/",
     "height": 418
    },
    "id": "vqhaZmc6v1Vn",
    "outputId": "cedbc73c-6a20-4ea0-b571-103bfb395ab6"
   },
   "outputs": [],
   "source": [
    "pd.concat([df1, df2, df3], ignore_index=True, verify_integrity = True)"
   ]
  },
  {
   "cell_type": "markdown",
   "metadata": {},
   "source": [
    "Left two columns of df1, skip left column for df2, all of df3."
   ]
  },
  {
   "cell_type": "code",
   "execution_count": null,
   "metadata": {},
   "outputs": [],
   "source": [
    "df2"
   ]
  },
  {
   "cell_type": "code",
   "execution_count": null,
   "metadata": {
    "id": "uNUn2yel9-oE",
    "outputId": "486c0938-77d4-4ec1-a88f-9e4aaebdda51"
   },
   "outputs": [],
   "source": [
    "pd.concat([df1.iloc[:, :2], df2.iloc[:, 1:], df3])"
   ]
  },
  {
   "cell_type": "code",
   "execution_count": null,
   "metadata": {},
   "outputs": [],
   "source": [
    "pd.concat([df1, df2, df3], axis=1) # left to right"
   ]
  },
  {
   "cell_type": "markdown",
   "metadata": {},
   "source": [
    "Abandon the current column indicies and start over with columnar indexing."
   ]
  },
  {
   "cell_type": "code",
   "execution_count": null,
   "metadata": {},
   "outputs": [],
   "source": [
    "pd.concat([df1, df2, df3], axis=1, ignore_index = True) # left to right"
   ]
  },
  {
   "cell_type": "markdown",
   "metadata": {},
   "source": [
    "Concatenate column-wise while skipping some rows.  Results in NaNs where row numbers do not match."
   ]
  },
  {
   "cell_type": "code",
   "execution_count": null,
   "metadata": {
    "id": "tqec5nN19-oF",
    "outputId": "6cee443f-915f-46b2-af3b-8d42da6e0f9f"
   },
   "outputs": [],
   "source": [
    "pd.concat([df1.iloc[:2], df2.iloc[1:], df3], axis=1)  # selected rows only"
   ]
  },
  {
   "cell_type": "code",
   "execution_count": null,
   "metadata": {},
   "outputs": [],
   "source": [
    "df4 = pd.DataFrame({'A': ['A0', 'A1', 'A2', 'A3'],\n",
    "                    'B': ['B0', 'B1', 'B2', 'B3'],\n",
    "                    'C': ['C0', 'C1', 'C2', 'C3'],\n",
    "                    'D': ['D0', 'D1', 'D2', 'D3']},\n",
    "                    index=[0, 1, 2, 3])\n",
    "\n",
    "df5 = pd.DataFrame({'A': ['A4', 'A5', 'A6', 'A7'],\n",
    "                    'B': ['B4', 'B5', 'B6', 'B7'],\n",
    "                    'C': ['C4', 'C5', 'C6', 'C7'],\n",
    "                    'D': ['D4', 'D5', 'D6', 'D7']},\n",
    "                    index=[4, 5, 6, 7]) \n",
    "\n",
    "df6 = pd.DataFrame({'A': ['A8', 'A9', 'A10', 'A11'],\n",
    "                    'B': ['B8', 'B9', 'B10', 'B11'],\n",
    "                    'C': ['C8', 'C9', 'C10', 'C11'],\n",
    "                    'D': ['D8', 'D9', 'D10', 'D11']},\n",
    "                    index=[8, 9, 10, 11])"
   ]
  },
  {
   "cell_type": "code",
   "execution_count": null,
   "metadata": {},
   "outputs": [],
   "source": [
    "df4"
   ]
  },
  {
   "cell_type": "code",
   "execution_count": null,
   "metadata": {},
   "outputs": [],
   "source": [
    "df5"
   ]
  },
  {
   "cell_type": "code",
   "execution_count": null,
   "metadata": {},
   "outputs": [],
   "source": [
    "df6"
   ]
  },
  {
   "cell_type": "code",
   "execution_count": null,
   "metadata": {
    "colab": {
     "base_uri": "https://localhost:8080/",
     "height": 418
    },
    "id": "9JdbBSejv1Vp",
    "outputId": "cb3380c8-83de-4369-80ed-00a9be3afa8f",
    "scrolled": true
   },
   "outputs": [],
   "source": [
    "pd.concat([df4, df5, df6], axis=1)  # no overlapping row numbers"
   ]
  },
  {
   "cell_type": "code",
   "execution_count": null,
   "metadata": {
    "colab": {
     "base_uri": "https://localhost:8080/",
     "height": 418
    },
    "id": "P2RimlCSTUIW",
    "outputId": "83e79e5b-f0ab-453c-cc29-fda9bb1d26ab"
   },
   "outputs": [],
   "source": [
    "pd.concat([df4, df5, df6], axis=1, \n",
    "          keys=['df4', 'df5', 'df6']) # still no matching rows"
   ]
  },
  {
   "cell_type": "code",
   "execution_count": null,
   "metadata": {},
   "outputs": [],
   "source": [
    "pd.concat([df4, df5, df6], axis=1, \n",
    "          ignore_index=True) # still no matching rows"
   ]
  },
  {
   "cell_type": "markdown",
   "metadata": {},
   "source": [
    "Setting **\"ignore_index\"** to True clears the existing index and resets it in the result.  That doesn't force the component tables to change their indexing."
   ]
  },
  {
   "cell_type": "code",
   "execution_count": null,
   "metadata": {},
   "outputs": [],
   "source": [
    "df5"
   ]
  },
  {
   "cell_type": "code",
   "execution_count": null,
   "metadata": {
    "id": "ftMHlZIE9-oI",
    "outputId": "5c819320-9ca0-4d56-cc74-e753751e3b46"
   },
   "outputs": [],
   "source": [
    "pd.concat([df4, df5, df6], axis=0)  # vertical concatenation"
   ]
  },
  {
   "cell_type": "markdown",
   "metadata": {},
   "source": [
    "Notice that the concatenation is performed row-wise i.e. 0-axis. Also, the indexes from the source DataFrame objects are preserved in the output.\n",
    "\n",
    "You can find a discussion and more information about [\"What are the 'levels', 'keys', and names arguments for in Pandas' concat function?\"](https://stackoverflow.com/questions/49620538/what-are-the-levels-keys-and-names-arguments-for-in-pandas-concat-functio) on stackoverflow."
   ]
  },
  {
   "cell_type": "code",
   "execution_count": null,
   "metadata": {},
   "outputs": [],
   "source": [
    "d1 = pd.DataFrame(dict(A=.1, B=.2, C=.3), [2, 3])\n",
    "d2 = pd.DataFrame(dict(B=.4, C=.5, D=.6), [1, 2])\n",
    "d3 = pd.DataFrame(dict(A=.7, B=.8, D=.9), [1, 3])"
   ]
  },
  {
   "cell_type": "code",
   "execution_count": null,
   "metadata": {},
   "outputs": [],
   "source": [
    "d1"
   ]
  },
  {
   "cell_type": "code",
   "execution_count": null,
   "metadata": {},
   "outputs": [],
   "source": [
    "d2"
   ]
  },
  {
   "cell_type": "code",
   "execution_count": null,
   "metadata": {},
   "outputs": [],
   "source": [
    "d3"
   ]
  },
  {
   "cell_type": "code",
   "execution_count": null,
   "metadata": {},
   "outputs": [],
   "source": [
    "final = pd.concat([d1, d2, d3], keys=['d1', 'd2', 'd3'])\n",
    "final"
   ]
  },
  {
   "cell_type": "code",
   "execution_count": null,
   "metadata": {},
   "outputs": [],
   "source": [
    "final.index"
   ]
  },
  {
   "cell_type": "code",
   "execution_count": null,
   "metadata": {},
   "outputs": [],
   "source": [
    "final.index.levels"
   ]
  },
  {
   "cell_type": "code",
   "execution_count": null,
   "metadata": {},
   "outputs": [],
   "source": [
    "pd.concat([d1, d2, d3], keys=['d1', 'd2', 'd3'], axis=1)"
   ]
  },
  {
   "cell_type": "code",
   "execution_count": null,
   "metadata": {},
   "outputs": [],
   "source": [
    "pd.concat([d1, d3], keys=['d1', 'd3'], axis=1, join='inner')"
   ]
  },
  {
   "cell_type": "code",
   "execution_count": null,
   "metadata": {},
   "outputs": [],
   "source": [
    "pd.concat([d1, d3], keys=['Hello', 'Python'], axis=1, join='inner')"
   ]
  },
  {
   "cell_type": "code",
   "execution_count": null,
   "metadata": {},
   "outputs": [],
   "source": [
    "from IPython.display import YouTubeVideo\n",
    "YouTubeVideo(\"k6gMkpeYPJ4\")"
   ]
  },
  {
   "cell_type": "markdown",
   "metadata": {
    "id": "vLzr0_MWv1Vr"
   },
   "source": [
    "## <p style=\"background-color:#9d4f8c; font-family:newtimeroman; color:#FFF9ED; font-size:175%; text-align:center; border-radius:10px 10px;\">Merging</p>\n",
    "\n",
    "<a id=\"4\"></a>\n",
    "<a href=\"#toc\" class=\"btn btn-primary btn-sm\" role=\"button\" aria-pressed=\"true\" \n",
    "style=\"color:blue; background-color:#dfa8e4\" data-toggle=\"popover\">Content</a>\n",
    "\n",
    "The **merge()** function allows you to merge two DataFrames together using a similar logic as merging SQL Tables together. For example: \n",
    "\n",
    "* [Using Pokemon](https://www.brainstobytes.com/hands-on-pandas-9-merging-dataframes/)\n",
    "* [Learn to Merge](https://www.shanelynn.ie/merge-join-dataframes-python-pandas-index-1/)\n",
    "* [Combining DataFrames](https://towardsdatascience.com/combining-dataframes-using-pandas-b9e2e83b9869):\n",
    "\n",
    "**``DataFrame.merge(right, how='inner', on=None, left_on=None, right_on=None, left_index=False, right_index=False, sort=False, suffixes=('_x', '_y'), copy=True, indicator=False, validate=None)``**"
   ]
  },
  {
   "cell_type": "code",
   "execution_count": null,
   "metadata": {
    "id": "zdVgX5L4v1Vq"
   },
   "outputs": [],
   "source": [
    "left = pd.DataFrame({'key': ['K0', 'K1', 'K2', 'K3'],\n",
    "                     'A': ['A0', 'A1', 'A2', 'A3'],\n",
    "                     'B': ['B0', 'B1', 'B2', 'B3']})\n",
    "   \n",
    "right = pd.DataFrame({'key': ['K0', 'K1', 'K2', 'K3'],\n",
    "                      'C': ['C0', 'C1', 'C2', 'C3'],\n",
    "                      'D': ['D0', 'D1', 'D2', 'D3']})    "
   ]
  },
  {
   "cell_type": "code",
   "execution_count": null,
   "metadata": {},
   "outputs": [],
   "source": [
    "left"
   ]
  },
  {
   "cell_type": "code",
   "execution_count": null,
   "metadata": {
    "scrolled": true
   },
   "outputs": [],
   "source": [
    "right"
   ]
  },
  {
   "cell_type": "markdown",
   "metadata": {},
   "source": [
    "**Let's dive into merge()**"
   ]
  },
  {
   "cell_type": "code",
   "execution_count": null,
   "metadata": {
    "colab": {
     "base_uri": "https://localhost:8080/",
     "height": 172
    },
    "id": "_vuzTr7Cv1Vr",
    "outputId": "10a1efee-4ee0-41ca-b82e-ce9d29854555"
   },
   "outputs": [],
   "source": [
    "pd.merge(left, right, how='inner', on='key')"
   ]
  },
  {
   "cell_type": "code",
   "execution_count": null,
   "metadata": {},
   "outputs": [],
   "source": [
    "left.merge(right, how='inner', on='key')"
   ]
  },
  {
   "cell_type": "code",
   "execution_count": null,
   "metadata": {
    "id": "8pcmq5jLv1Vr"
   },
   "outputs": [],
   "source": [
    "left2 = pd.DataFrame({'key': ['K0', 'K1', 'K4', 'K5'],\n",
    "                     'A': ['A0', 'A1', 'A2', 'A3'],\n",
    "                     'B': ['B0', 'B1', 'B2', 'B3']})\n",
    "   \n",
    "right2 = pd.DataFrame({'key': ['K0', 'K1', 'K2', 'K3'],\n",
    "                       'C': ['C0', 'C1', 'C2', 'C3'],\n",
    "                       'D': ['D0', 'D1', 'D2', 'D3']}) "
   ]
  },
  {
   "cell_type": "code",
   "execution_count": null,
   "metadata": {
    "colab": {
     "base_uri": "https://localhost:8080/",
     "height": 142
    },
    "id": "76Wdq_Sjv1Vr",
    "outputId": "58b4173e-3718-4c5c-ff8d-ae58534429be"
   },
   "outputs": [],
   "source": [
    "left2"
   ]
  },
  {
   "cell_type": "code",
   "execution_count": null,
   "metadata": {
    "colab": {
     "base_uri": "https://localhost:8080/",
     "height": 172
    },
    "id": "jsjllCFqv1Vr",
    "outputId": "0c37857d-e6f7-4edc-fc83-d7b05ddc9c66"
   },
   "outputs": [],
   "source": [
    "right2"
   ]
  },
  {
   "cell_type": "code",
   "execution_count": null,
   "metadata": {
    "colab": {
     "base_uri": "https://localhost:8080/",
     "height": 142
    },
    "id": "hMZVv7BSv1Vr",
    "outputId": "f31e906b-63e3-4e50-c186-a084574c186c"
   },
   "outputs": [],
   "source": [
    "pd.merge(left2, right2, how='inner', on='key')"
   ]
  },
  {
   "cell_type": "code",
   "execution_count": null,
   "metadata": {
    "colab": {
     "base_uri": "https://localhost:8080/",
     "height": 172
    },
    "id": "pyNG4jC_v1Vs",
    "outputId": "2afb5610-e52c-418b-80f0-f1c9dad688e1"
   },
   "outputs": [],
   "source": [
    "pd.merge(left2, right2, how='outer', on='key')"
   ]
  },
  {
   "cell_type": "code",
   "execution_count": null,
   "metadata": {
    "colab": {
     "base_uri": "https://localhost:8080/",
     "height": 142
    },
    "id": "Bpj8sRRev1Vs",
    "outputId": "8d3b5b37-e3da-439d-9257-2656152dab9d"
   },
   "outputs": [],
   "source": [
    "left2.merge(right2, how='left', on='key')"
   ]
  },
  {
   "cell_type": "code",
   "execution_count": null,
   "metadata": {
    "colab": {
     "base_uri": "https://localhost:8080/",
     "height": 172
    },
    "id": "mc2jup7nv1Vs",
    "outputId": "77a33b2c-bf77-419b-967a-f70496d4a420"
   },
   "outputs": [],
   "source": [
    "pd.merge(left2, right2, how='right', on='key')"
   ]
  },
  {
   "cell_type": "markdown",
   "metadata": {},
   "source": [
    "Or to show a more complicated example:"
   ]
  },
  {
   "cell_type": "code",
   "execution_count": null,
   "metadata": {
    "id": "mMsvS7Ynv1Vs"
   },
   "outputs": [],
   "source": [
    "left3 = pd.DataFrame({'key': ['K0', 'K0', 'K1', 'K1'],\n",
    "                     'A': ['A0', 'A1', 'A2', 'A3'],\n",
    "                     'B': ['B0', 'B1', 'B2', 'B3']})\n",
    "   \n",
    "right3 = pd.DataFrame({'key': ['K0', 'K1', 'K2', 'K2'],\n",
    "                       'C': ['C0', 'C1', 'C2', 'C3'],\n",
    "                       'D': ['D0', 'D1', 'D2', 'D3']})"
   ]
  },
  {
   "cell_type": "code",
   "execution_count": null,
   "metadata": {
    "colab": {
     "base_uri": "https://localhost:8080/",
     "height": 172
    },
    "id": "lZ9bdQDZv1Vs",
    "outputId": "fff11e34-6e59-4c5d-f6fd-4e2ada969ad1"
   },
   "outputs": [],
   "source": [
    "left3"
   ]
  },
  {
   "cell_type": "code",
   "execution_count": null,
   "metadata": {
    "colab": {
     "base_uri": "https://localhost:8080/",
     "height": 172
    },
    "id": "4VeIaImrv1Vs",
    "outputId": "84f9f8f6-d3a1-439a-e416-013d8a81d5ac"
   },
   "outputs": [],
   "source": [
    "right3"
   ]
  },
  {
   "cell_type": "code",
   "execution_count": null,
   "metadata": {
    "colab": {
     "base_uri": "https://localhost:8080/",
     "height": 110
    },
    "id": "z69pu1KLv1Vt",
    "outputId": "0cb1dcbf-6f51-4e86-f53b-658cf1f790f1"
   },
   "outputs": [],
   "source": [
    "pd.merge(left3, right3, how='inner', on='key')"
   ]
  },
  {
   "cell_type": "code",
   "execution_count": null,
   "metadata": {},
   "outputs": [],
   "source": [
    "left3"
   ]
  },
  {
   "cell_type": "code",
   "execution_count": null,
   "metadata": {},
   "outputs": [],
   "source": [
    "right3"
   ]
  },
  {
   "cell_type": "code",
   "execution_count": null,
   "metadata": {
    "colab": {
     "base_uri": "https://localhost:8080/",
     "height": 234
    },
    "id": "Cw_Jj8oFv1Vt",
    "outputId": "27e9039f-26db-4260-d674-a0ddff925a7e"
   },
   "outputs": [],
   "source": [
    "pd.merge(left3, right3, how='outer', on='key')"
   ]
  },
  {
   "cell_type": "code",
   "execution_count": null,
   "metadata": {},
   "outputs": [],
   "source": [
    "left3"
   ]
  },
  {
   "cell_type": "code",
   "execution_count": null,
   "metadata": {},
   "outputs": [],
   "source": [
    "right3"
   ]
  },
  {
   "cell_type": "code",
   "execution_count": null,
   "metadata": {},
   "outputs": [],
   "source": [
    "pd.merge(left3, right3, how='left', on='key')"
   ]
  },
  {
   "cell_type": "code",
   "execution_count": null,
   "metadata": {},
   "outputs": [],
   "source": [
    "pd.merge(left3, right3, how='right', on='key')"
   ]
  },
  {
   "cell_type": "markdown",
   "metadata": {
    "id": "knAZb_yzv1Vt"
   },
   "source": [
    "As seen, similar to join, merge also combines all the columns from the two tables, with the common columns renamed with the defined suffixes.\n",
    "\n",
    "However, merge provides three ways of flexible control over row-wise alignment.\n",
    "\n",
    "- **The first way** is to use “on = COLUMN NAME”, here the given column must be the common column in both tables. \n",
    "\n",
    "- **The second way** is to use “left_on = COLUMN NAME and right_on = COLUMN NAME” , and it allows to align the two tables using two different columns.\n",
    "\n",
    "- **The third way** is to use “left_index = True and right_index = True”, and the two tables are aligned based on their indexes.\n",
    "\n",
    "Let's dive into more complicated examples:"
   ]
  },
  {
   "cell_type": "code",
   "execution_count": null,
   "metadata": {
    "colab": {
     "base_uri": "https://localhost:8080/",
     "height": 172
    },
    "id": "e-gvph8iv1Vt",
    "outputId": "7728c4d3-db8d-4709-88e9-02ec47f88e35"
   },
   "outputs": [],
   "source": [
    "left4 = pd.DataFrame({'key1': ['K0', 'K0', 'K1', 'K2'],\n",
    "                     'key2': ['K0', 'K1', 'K0', 'K1'],\n",
    "                        'A': ['A0', 'A1', 'A2', 'A3'],\n",
    "                        'B': ['B0', 'B1', 'B2', 'B3']})\n",
    "    \n",
    "right4 = pd.DataFrame({'key1': ['K0', 'K1', 'K1', 'K2'],\n",
    "                       'key2': ['K0', 'K0', 'K0', 'K0'],\n",
    "                       'C': ['C0', 'C1', 'C2', 'C3'],\n",
    "                       'D': ['D0', 'D1', 'D2', 'D3']})"
   ]
  },
  {
   "cell_type": "code",
   "execution_count": null,
   "metadata": {
    "colab": {
     "base_uri": "https://localhost:8080/",
     "height": 172
    },
    "id": "ac0gQh4Yv1Vt",
    "outputId": "daa66857-85a9-4273-a48e-e60d6f2a330b"
   },
   "outputs": [],
   "source": [
    "left4"
   ]
  },
  {
   "cell_type": "code",
   "execution_count": null,
   "metadata": {},
   "outputs": [],
   "source": [
    "right4"
   ]
  },
  {
   "cell_type": "code",
   "execution_count": null,
   "metadata": {},
   "outputs": [],
   "source": [
    "pd.merge(left4, right4, how='inner', on=['key1', 'key2'])"
   ]
  },
  {
   "cell_type": "code",
   "execution_count": null,
   "metadata": {},
   "outputs": [],
   "source": [
    "pd.merge(left4, right4, how='outer', on=['key1', 'key2'])"
   ]
  },
  {
   "cell_type": "code",
   "execution_count": null,
   "metadata": {},
   "outputs": [],
   "source": [
    "pd.merge(left4, right4, how='right', on=['key1', 'key2'])"
   ]
  },
  {
   "cell_type": "code",
   "execution_count": null,
   "metadata": {},
   "outputs": [],
   "source": [
    "pd.merge(left4, right4, how='left', on=['key1', 'key2'])"
   ]
  },
  {
   "cell_type": "code",
   "execution_count": null,
   "metadata": {},
   "outputs": [],
   "source": [
    "left5 = pd.DataFrame({'lkey': ['x', 'y', 'z', 'x', 'z'],\n",
    "                     'lvalue': [2, 3, 5, 7, 0]})\n",
    "\n",
    "right5 = pd.DataFrame({'rkey': ['a', 'x', 'z', 'b'],\n",
    "                     'rvalue': [7, 8, 9, 10]})"
   ]
  },
  {
   "cell_type": "code",
   "execution_count": null,
   "metadata": {},
   "outputs": [],
   "source": [
    "left5"
   ]
  },
  {
   "cell_type": "code",
   "execution_count": null,
   "metadata": {},
   "outputs": [],
   "source": [
    "right5"
   ]
  },
  {
   "cell_type": "code",
   "execution_count": null,
   "metadata": {},
   "outputs": [],
   "source": [
    "right5 = right5.set_index('rvalue')\n",
    "right5"
   ]
  },
  {
   "cell_type": "code",
   "execution_count": null,
   "metadata": {},
   "outputs": [],
   "source": [
    "pd.merge(left5, right5, left_index=True, right_index=True)"
   ]
  },
  {
   "cell_type": "code",
   "execution_count": null,
   "metadata": {},
   "outputs": [],
   "source": [
    "right5 = pd.DataFrame({'rkey': ['a', 'x', 'z', 'b'],\n",
    "                     'rvalue': [7, 8, 9, 10]})\n",
    "right5"
   ]
  },
  {
   "cell_type": "code",
   "execution_count": null,
   "metadata": {},
   "outputs": [],
   "source": [
    "left5"
   ]
  },
  {
   "cell_type": "code",
   "execution_count": null,
   "metadata": {},
   "outputs": [],
   "source": [
    "pd.merge(left5, right5, left_on=\"lkey\", right_on=\"rkey\", how=\"inner\")"
   ]
  },
  {
   "cell_type": "code",
   "execution_count": null,
   "metadata": {},
   "outputs": [],
   "source": [
    "pd.merge(left5, right5, left_on=\"lkey\", right_on=\"rkey\", how=\"outer\")"
   ]
  },
  {
   "cell_type": "code",
   "execution_count": null,
   "metadata": {},
   "outputs": [],
   "source": [
    "left5"
   ]
  },
  {
   "cell_type": "code",
   "execution_count": null,
   "metadata": {},
   "outputs": [],
   "source": [
    "right5"
   ]
  },
  {
   "cell_type": "code",
   "execution_count": null,
   "metadata": {},
   "outputs": [],
   "source": [
    "pd.merge(left5, right5, left_on=\"lkey\", right_on=\"rkey\", how=\"left\")"
   ]
  },
  {
   "cell_type": "code",
   "execution_count": null,
   "metadata": {},
   "outputs": [],
   "source": [
    "left5"
   ]
  },
  {
   "cell_type": "code",
   "execution_count": null,
   "metadata": {},
   "outputs": [],
   "source": [
    "right5"
   ]
  },
  {
   "cell_type": "code",
   "execution_count": null,
   "metadata": {},
   "outputs": [],
   "source": [
    "pd.merge(left5, right5, left_on=\"lkey\", right_on=\"rkey\", how=\"right\")"
   ]
  },
  {
   "cell_type": "code",
   "execution_count": null,
   "metadata": {},
   "outputs": [],
   "source": [
    "left6 = pd.DataFrame({'lkey': ['x', 'y', 'z', 'x'],\n",
    "                        'lvalue': [2, 3, 5, 7]})\n",
    "\n",
    "right6 = pd.DataFrame({'rkey': ['a', 'b', 'c', 'b'],\n",
    "                         'rvalue': [7, 8, 9, 10]})"
   ]
  },
  {
   "cell_type": "code",
   "execution_count": null,
   "metadata": {},
   "outputs": [],
   "source": [
    "left6"
   ]
  },
  {
   "cell_type": "code",
   "execution_count": null,
   "metadata": {},
   "outputs": [],
   "source": [
    "right6"
   ]
  },
  {
   "cell_type": "code",
   "execution_count": null,
   "metadata": {},
   "outputs": [],
   "source": [
    "pd.merge(left6, right6, left_on=\"lkey\", right_on=\"rkey\")"
   ]
  },
  {
   "cell_type": "code",
   "execution_count": null,
   "metadata": {},
   "outputs": [],
   "source": [
    "pd.merge(left6, right6,  left_on=\"lkey\", right_on=\"rkey\", how=\"outer\")"
   ]
  },
  {
   "cell_type": "code",
   "execution_count": null,
   "metadata": {},
   "outputs": [],
   "source": [
    "pd.merge(left6, right6, left_on=\"lkey\", right_on=\"rkey\", how=\"left\")"
   ]
  },
  {
   "cell_type": "code",
   "execution_count": null,
   "metadata": {},
   "outputs": [],
   "source": [
    "pd.merge(left6, right6, left_on=\"lkey\", right_on=\"rkey\", how=\"right\")"
   ]
  },
  {
   "cell_type": "code",
   "execution_count": null,
   "metadata": {},
   "outputs": [],
   "source": [
    "pd.merge(left6, right6, left_index=True, right_index=True)"
   ]
  },
  {
   "cell_type": "markdown",
   "metadata": {
    "id": "qTtFLlPRv1Vz"
   },
   "source": [
    "## <p style=\"background-color:#9d4f8c; font-family:newtimeroman; color:#FFF9ED; font-size:175%; text-align:center; border-radius:10px 10px;\">Joining</p>\n",
    "\n",
    "<a id=\"5\"></a>\n",
    "<a href=\"#toc\" class=\"btn btn-primary btn-sm\" role=\"button\" aria-pressed=\"true\" \n",
    "style=\"color:blue; background-color:#dfa8e4\" data-toggle=\"popover\">Content</a>\n",
    "\n",
    "Joining is a convenient method for combining the columns of two potentially differently-indexed DataFrames into a single result DataFrame.\n",
    "\n",
    "Among the three DataFrame operations, join allows the lowest level of control.\n",
    "\n",
    "It will combine all the columns from the two tables, with the common columns renamed with the defined lsuffix and rsuffix.\n",
    "\n",
    "The way that rows from the two tables are combined is defined by the `how` argument and may be: inner, left, right, outer. \n",
    "\n",
    "* [Three Ways to Combine DataFrames (educative)](https://www.educative.io/edpresso/three-ways-to-combine-dataframes-in-pandas)\n",
    "* [EDUCBA: pandas Join and Merge](https://www.educba.com/python-pandas-join/) \n",
    "* [Join, Merge, Concat (Study Machine Learning)](https://studymachinelearning.com/difference-between-merge-join-and-concatenate/)\n",
    "* [EDUCBA: pandas Join](https://www.educba.com/pandas-dataframe-join/)\n",
    "* [Deep Dive into pandas.DataFrame.join](https://pub.towardsai.net/deep-dive-into-pandas-dataframe-join-pd-join-4cc2adee351d)\n",
    "\n",
    "Joining tables in pandas is conceptually similar to joining tables using Structured Query Language (SQL).\n",
    "\n",
    "From the [SQLite Tutorial](https://www.sqlitetutorial.net/sqlite-join/):\n",
    "\n",
    "![](https://www.sqlitetutorial.net/wp-content/uploads/2015/12/SQLite-Inner-Join-Example.png)"
   ]
  },
  {
   "cell_type": "code",
   "execution_count": null,
   "metadata": {
    "id": "D8ClDvmBv1Vz"
   },
   "outputs": [],
   "source": [
    "left7 = pd.DataFrame({'A': ['A0', 'A1', 'A2'],\n",
    "                     'B': ['B0', 'B1', 'B2']},\n",
    "                      index = ['K0', 'K1', 'K2']) \n",
    "\n",
    "right7 = pd.DataFrame({'C': ['C0', 'C2', 'C3'],\n",
    "                    'D': ['D0', 'D2', 'D3']},\n",
    "                      index = ['K0', 'K2', 'K3'])"
   ]
  },
  {
   "cell_type": "code",
   "execution_count": null,
   "metadata": {
    "colab": {
     "base_uri": "https://localhost:8080/",
     "height": 142
    },
    "id": "4b8HFYemv1Vz",
    "outputId": "2c13d5c9-73af-4f3e-ea1c-fdc7fd90378b"
   },
   "outputs": [],
   "source": [
    "left7"
   ]
  },
  {
   "cell_type": "code",
   "execution_count": null,
   "metadata": {
    "colab": {
     "base_uri": "https://localhost:8080/",
     "height": 142
    },
    "id": "VuR0pjKuv1V0",
    "outputId": "a96c689e-28e4-4676-c240-a56d658c55f4"
   },
   "outputs": [],
   "source": [
    "right7"
   ]
  },
  {
   "cell_type": "code",
   "execution_count": null,
   "metadata": {
    "colab": {
     "base_uri": "https://localhost:8080/",
     "height": 142
    },
    "id": "VaBUkO2ev1V0",
    "outputId": "bd9a10f1-3f5b-4fe1-a6e1-be865ad5024a"
   },
   "outputs": [],
   "source": [
    "left7.join(right7, how='left')"
   ]
  },
  {
   "cell_type": "code",
   "execution_count": null,
   "metadata": {
    "colab": {
     "base_uri": "https://localhost:8080/",
     "height": 172
    },
    "id": "8ZqQv0tQv1V0",
    "outputId": "52a5727f-115d-41d5-bdda-6e86138381f2"
   },
   "outputs": [],
   "source": [
    "left7.join(right7, how = 'outer')"
   ]
  },
  {
   "cell_type": "code",
   "execution_count": null,
   "metadata": {
    "colab": {
     "base_uri": "https://localhost:8080/",
     "height": 110
    },
    "id": "s0I70cHNv1V0",
    "outputId": "190c2a6e-276f-4094-f917-455fed71a210"
   },
   "outputs": [],
   "source": [
    "left7.join(right7, how = \"inner\")"
   ]
  },
  {
   "cell_type": "code",
   "execution_count": null,
   "metadata": {
    "colab": {
     "base_uri": "https://localhost:8080/",
     "height": 142
    },
    "id": "Q66W2qbZv1V0",
    "outputId": "5cbe93e2-a0e5-4749-d480-a86f50acf462",
    "scrolled": true
   },
   "outputs": [],
   "source": [
    "left7.join(right7, how = \"right\")"
   ]
  },
  {
   "cell_type": "code",
   "execution_count": null,
   "metadata": {
    "id": "1W9pamA0v1V1"
   },
   "outputs": [],
   "source": [
    "left8 = pd.DataFrame({'key': ['K0', 'K2', 'K3', 'K4', 'K5', 'K6'],\n",
    "                   'X': ['X0', 'X2', 'X3', 'X4', 'X5', 'X6']})\n",
    "\n",
    "right8 = pd.DataFrame({'key': ['K0', 'K2', 'K3'],\n",
    "                      'Y': ['Y0', 'Y2', 'Y3']})"
   ]
  },
  {
   "cell_type": "code",
   "execution_count": null,
   "metadata": {
    "id": "SmaLqGvB9-oi",
    "outputId": "8abfa4ff-faa7-4736-f62c-ae4ef3d503e8"
   },
   "outputs": [],
   "source": [
    "left8"
   ]
  },
  {
   "cell_type": "code",
   "execution_count": null,
   "metadata": {
    "id": "KilC8NXP9-oj",
    "outputId": "6a83b3d1-b1ff-4add-f8ec-6cec1eecbbe5"
   },
   "outputs": [],
   "source": [
    "right8"
   ]
  },
  {
   "cell_type": "markdown",
   "metadata": {
    "id": "cyQCFQ4ov1V1"
   },
   "source": [
    "Join DataFrames using their indexes."
   ]
  },
  {
   "cell_type": "code",
   "execution_count": null,
   "metadata": {
    "id": "Fz33Ujt_v1V1"
   },
   "outputs": [],
   "source": [
    "# left8.join(right8)  # gives an error (columns overlap but no suffix specified: Index(['key'], dtype='object'))"
   ]
  },
  {
   "cell_type": "code",
   "execution_count": null,
   "metadata": {
    "colab": {
     "base_uri": "https://localhost:8080/",
     "height": 234
    },
    "id": "FLx2FFYBv1V1",
    "outputId": "0e415fa0-a8ef-4f79-faa0-c096aa60ef1f"
   },
   "outputs": [],
   "source": [
    "left8.join(right8, lsuffix='_left', rsuffix='_right')  # index on index"
   ]
  },
  {
   "cell_type": "markdown",
   "metadata": {
    "id": "RYM57kyqv1V1"
   },
   "source": [
    "If you want to join using the **key** columns, you need to set key to be the index on the right, and then choose **on='key'** on the left.  This is a column-on-index join.  \n",
    "\n",
    "**join** always uses the index of the right object, and your choice of column in the left, or index by default."
   ]
  },
  {
   "cell_type": "code",
   "execution_count": null,
   "metadata": {},
   "outputs": [],
   "source": [
    "left8"
   ]
  },
  {
   "cell_type": "code",
   "execution_count": null,
   "metadata": {},
   "outputs": [],
   "source": [
    "right8"
   ]
  },
  {
   "cell_type": "code",
   "execution_count": null,
   "metadata": {
    "colab": {
     "base_uri": "https://localhost:8080/",
     "height": 265
    },
    "id": "zsQxHYybv1V1",
    "outputId": "cdfa540b-5e14-4a98-bcdc-f525ae0950be"
   },
   "outputs": [],
   "source": [
    "left8.set_index('key').join(right8.set_index('key')) # index on index"
   ]
  },
  {
   "cell_type": "markdown",
   "metadata": {
    "id": "oveOViptv1V2"
   },
   "source": [
    "Another option to join using the key columns is to use the **on** parameter.<br>\n",
    "DataFrame.join always uses other’s index but we can use any column in df.<br>\n",
    "This method preserves the original DataFrame’s index in the result."
   ]
  },
  {
   "cell_type": "code",
   "execution_count": null,
   "metadata": {
    "id": "vrgfHQqNv1V3"
   },
   "outputs": [],
   "source": [
    "# left8.join(right8, on='key') # gives an error"
   ]
  },
  {
   "cell_type": "code",
   "execution_count": null,
   "metadata": {},
   "outputs": [],
   "source": [
    "left8"
   ]
  },
  {
   "cell_type": "code",
   "execution_count": null,
   "metadata": {},
   "outputs": [],
   "source": [
    "right8"
   ]
  },
  {
   "cell_type": "code",
   "execution_count": null,
   "metadata": {},
   "outputs": [],
   "source": [
    "right8.set_index('key')"
   ]
  },
  {
   "cell_type": "markdown",
   "metadata": {},
   "source": [
    "A column-on-index join:  **key** on the left (because on **on='key'**) and **key** on the right because of **set_index('key')**."
   ]
  },
  {
   "cell_type": "code",
   "execution_count": null,
   "metadata": {
    "colab": {
     "base_uri": "https://localhost:8080/",
     "height": 234
    },
    "id": "X5maXoJwv1V2",
    "outputId": "e936bd5f-9384-407a-e874-c7010ddab84f",
    "scrolled": true
   },
   "outputs": [],
   "source": [
    "%timeit left8.join(right8.set_index('key'), on='key')  # outer join; left: key, right: index"
   ]
  },
  {
   "cell_type": "markdown",
   "metadata": {},
   "source": [
    "But in this case, why not use merge, as they already had **key** in common."
   ]
  },
  {
   "cell_type": "code",
   "execution_count": null,
   "metadata": {},
   "outputs": [],
   "source": [
    "%timeit left8.merge(right8, on=\"key\", how=\"outer\")  # same output as above"
   ]
  },
  {
   "cell_type": "markdown",
   "metadata": {},
   "source": [
    "## <p style=\"background-color:#9d4f8c; font-family:newtimeroman; color:#FFF9ED; font-size:175%; text-align:center; border-radius:10px 10px;\">More Examples</p>\n",
    "\n",
    "<a id=\"6\"></a>\n",
    "<a href=\"#toc\" class=\"btn btn-primary btn-sm\" role=\"button\" aria-pressed=\"true\" \n",
    "style=\"color:blue; background-color:#dfa8e4\" data-toggle=\"popover\">Content</a>"
   ]
  },
  {
   "cell_type": "code",
   "execution_count": null,
   "metadata": {},
   "outputs": [],
   "source": [
    "emps = pd.read_csv(\"employees.csv\")\n",
    "emps.head()"
   ]
  },
  {
   "cell_type": "code",
   "execution_count": null,
   "metadata": {},
   "outputs": [],
   "source": [
    "emps.info()"
   ]
  },
  {
   "cell_type": "code",
   "execution_count": null,
   "metadata": {},
   "outputs": [],
   "source": [
    "jobs = pd.read_csv(\"jobs.csv\")\n",
    "jobs.head()"
   ]
  },
  {
   "cell_type": "code",
   "execution_count": null,
   "metadata": {},
   "outputs": [],
   "source": [
    "jobs.info()"
   ]
  },
  {
   "cell_type": "code",
   "execution_count": null,
   "metadata": {},
   "outputs": [],
   "source": [
    "pd.merge(emps, jobs,  on=\"job_id\", how=\"left\")"
   ]
  },
  {
   "cell_type": "code",
   "execution_count": null,
   "metadata": {},
   "outputs": [],
   "source": [
    "authors = pd.read_csv(\"authors.csv\")\n",
    "authors.head()"
   ]
  },
  {
   "cell_type": "code",
   "execution_count": null,
   "metadata": {},
   "outputs": [],
   "source": [
    "authors.info()"
   ]
  },
  {
   "cell_type": "code",
   "execution_count": null,
   "metadata": {},
   "outputs": [],
   "source": [
    "publishers = pd.read_csv(\"publishers.csv\")\n",
    "publishers.head()"
   ]
  },
  {
   "cell_type": "code",
   "execution_count": null,
   "metadata": {},
   "outputs": [],
   "source": [
    "publishers.info()"
   ]
  },
  {
   "cell_type": "code",
   "execution_count": null,
   "metadata": {},
   "outputs": [],
   "source": [
    "pd.merge(authors, publishers,  on=\"city\", how=\"inner\")"
   ]
  },
  {
   "cell_type": "code",
   "execution_count": null,
   "metadata": {},
   "outputs": [],
   "source": [
    "pd.merge(authors, publishers,  on=\"city\", how=\"left\")"
   ]
  },
  {
   "cell_type": "code",
   "execution_count": null,
   "metadata": {},
   "outputs": [],
   "source": [
    "pd.merge(emps, publishers, on=\"pub_id\", how=\"left\")"
   ]
  },
  {
   "cell_type": "markdown",
   "metadata": {},
   "source": [
    "## Differences between merge, join, and concatenate\n",
    "\n",
    "The merge() and join() methods are the DataFrame method, not a series method. The concat() method is the pandas’ method which provides the functionality to combine the pandas’ objects such as DataFrame and Series.\n",
    "\n",
    "**Merge** \n",
    "\n",
    " - The merge() function used to merge the DataFrames with database-style join such as inner join, outer join, left join, right join.\n",
    " - Combining exactly two DataFrames.\n",
    " - The join is done on columns or indexes.\n",
    " - If joining columns on columns, the DataFrame indexes will be ignored.\n",
    " - If joining indexes on indexes or indexes on a column, the index will be passed on.\n",
    " \n",
    "\n",
    "**Join** \n",
    "\n",
    " - The join() function used to join two or more pandas DataFrames/Series horizontally.\n",
    " - Join() uses merge internally for the index-on-index (by default) and column(s)-on-index join.\n",
    " - Aligns the calling DataFrame’s column(s) or index with the other objects’ index (and not the columns).\n",
    " - Defaults to left join with options for right, inner and outer join\n",
    " \n",
    "\n",
    "**Concat** \n",
    "\n",
    " - concatenate two or more pandas DataFrames/Series vertically or horizontally.\n",
    " - Aligns only on the index specified by the axis parameter.\n",
    " - Defaults to outer join with the option for inner join"
   ]
  },
  {
   "cell_type": "markdown",
   "metadata": {},
   "source": [
    "## <p style=\"background-color:#FDFEFE; font-family:newtimeroman; color:#9d4f8c; font-size:150%; text-align:center; border-radius:10px 10px;\">The End of The Session - 09</p>\n",
    "\n",
    "<a id=\"7\"></a>\n",
    "<a href=\"#toc\" class=\"btn btn-primary btn-sm\" role=\"button\" aria-pressed=\"true\" \n",
    "style=\"color:blue; background-color:#dfa8e4\" data-toggle=\"popover\">Content</a>"
   ]
  },
  {
   "cell_type": "markdown",
   "metadata": {
    "id": "N9BQGCuxv1V4"
   },
   "source": [
    "<p style=\"text-align: center;\"><img src=\"https://docs.google.com/uc?id=1lY0Uj5R04yMY3-ZppPWxqCr5pvBLYPnV\" class=\"img-fluid\" \n",
    "alt=\"CLRSWY\"></p>\n",
    "\n",
    "## <p style=\"background-color:#FDFEFE; font-family:newtimeroman; color:#9d4f8c; font-size:100%; text-align:center; border-radius:10px 10px;\">WAY TO REINVENT YOURSELF</p>\n",
    "\n",
    "____"
   ]
  }
 ],
 "metadata": {
  "colab": {
   "name": "DAwPy-S9 (Concatenating, Merging and Joining).ipynb",
   "provenance": []
  },
  "kernelspec": {
   "display_name": "Python 3 (ipykernel)",
   "language": "python",
   "name": "python3"
  },
  "language_info": {
   "codemirror_mode": {
    "name": "ipython",
    "version": 3
   },
   "file_extension": ".py",
   "mimetype": "text/x-python",
   "name": "python",
   "nbconvert_exporter": "python",
   "pygments_lexer": "ipython3",
   "version": "3.11.2"
  }
 },
 "nbformat": 4,
 "nbformat_minor": 4
}
