{
 "cells": [
  {
   "cell_type": "markdown",
   "metadata": {
    "id": "GNJ8DeRtAzaB"
   },
   "source": [
    "___\n",
    "\n",
    "<p style=\"text-align: center;\"><img src=\"https://docs.google.com/uc?id=1lY0Uj5R04yMY3-ZppPWxqCr5pvBLYPnV\" class=\"img-fluid\" \n",
    "alt=\"CLRSWY\"></p>\n",
    "\n",
    "## <p style=\"background-color:#FDFEFE; font-family:newtimeroman; color:#9d4f8c; font-size:100%; text-align:center; border-radius:10px 10px;\">WAY TO REINVENT YOURSELF</p>"
   ]
  },
  {
   "cell_type": "markdown",
   "metadata": {
    "id": "iYlfU09rAzaI"
   },
   "source": [
    "## <p style=\"background-color:#9d4f8c; font-family:newtimeroman; color:#FFF9ED; font-size:150%; text-align:center; border-radius:10px 10px;\">\"BIKE DEMAND VISUALIZATION CAPSTONE PROJECT\" SOLUTION SESSION</p>\n",
    "\n",
    "![image.png](https://i.ibb.co/gRp3M5h/Bike-rental-prediction-case-study.png)\n",
    "\n",
    "[Photo Credit: Thinking Neuron](https://thinkingneuron.com/bike-rental-demand-prediction-case-study-in-python/)"
   ]
  },
  {
   "cell_type": "markdown",
   "metadata": {},
   "source": [
    "<a id=\"toc\"></a>\n",
    "\n",
    "## <p style=\"background-color:#9d4f8c; font-family:newtimeroman; color:#FFF9ED; font-size:150%; text-align:center; border-radius:10px 10px;\">CONTENT</p>\n",
    "\n",
    "* [ABOUT THE DATASET & CONTEXT](#0)\n",
    "* [ABOUT THE FEATURES](#00)\n",
    "* [IMPORTING LIBRARIES NEEDED IN THIS NOTEBOOK](#000)\n",
    "* [INSTRUCTIONS (Tasks in the Assignment)](#1)\n",
    "* [TASK 01 - READING THE DATASET](#2)\n",
    "* [TASK 02 - CHECKING MISSING VALUES & IF THERE ARE SOME DUBLICATE ROWS OR NOT](#3)\n",
    "* [TASK 03 - PLOTTING THE DISTRIBUTION OF VARIOUS DISCRETE FEATURES ON SEASON/HOLIDAY/WEEKEND/WEATHERCODE](#4)\n",
    "* [TASK 04 - LOOKING AT THE DATA TYPES OF EACH VARIABLE, TRANSFORM ``TIMESTAMP`` IN TYPE & SET IT AS INDEX](#5) \n",
    "* [TASK 05 - MAKING FEATURE ENGINEERING. EXTRACTING NEW COLUMNS (DAY OF WEEK, DAY OF MONTH, HOUR, MONTH, SEASON, YEAR ETC.](#6)\n",
    "* [TASK 06 - VISUALIZING THE CORRELATION WITH A HEATMAP](#7)\n",
    "* [TASK 07 - VISUALIZING THE CORRELATION OF THE TARGET VARIABLE & THE OTHER FEATURES WITH BARPLO](#8)\n",
    "* [TASK 08 - PLOTTING BIKE SHARES OVER TIME BY USING LINEPLOT](#9)\n",
    "* [TASK 09 - PLOTTING BIKE SHARES BY MONTHS & YEAR_OF_MONTH (USE LINEPLOT, POINTPOT, BARPLOT)](#10)\n",
    "* [TASK 10 - PLOTTING BIKE SHARES BY HOURS ON (HOLIDAYS, WEEKEND, SEASON)](#11) \n",
    "* [TASK 11 - PLOTTING BIKE SHARES BY DAY OF WEEK](#12)\n",
    "* [TASK 12 - PLOTTING BIKE SHARES BY DAY OF MONTH](#13)\n",
    "* [TASK 13 - PLOTTING BIKE SHARES BY YEAR & PLOTTING BIKE SHARES ON HOLIDAYS BY SEASON](#14)\n",
    "* [TASK 14 - VISUALIZING THE DISTRIBUTION OF BIKE SHARES BY WEEKDAY-WEEKEND WITH USING PIECHART & BARPLOT](#15)\n",
    "* [TASK 15 - PLOTTING THE DISTRIBUTION OF WEATHER CODE BY SEASON](#16)\n",
    "* [THE END OF THE CAPSTONE PROJECT](#17)"
   ]
  },
  {
   "cell_type": "markdown",
   "metadata": {
    "id": "E5TMW6XaAzaJ"
   },
   "source": [
    "<a id=\"toc\"></a>\n",
    "\n",
    "## <p style=\"background-color:#9d4f8c; font-family:newtimeroman; color:#FFF9ED; font-size:150%; text-align:center; border-radius:10px 10px;\">ABOUT THE DATASET & CONTEXT</p>\n",
    "\n",
    "Welcome to **\"Bike Demand Visualization Project\"** which is the capstone project of Data Visualization Lessons . As you know recently, free or affordable access to bicycles has been provided for short-distance trips in an urban area as an alternative to motorized public transport or private vehicles. Thus, it is aimed to reduce traffic congestion, noise and air pollution.  \n",
    "\n",
    "The aim of this project is to reveal the current patterns in the data by showing the historical data of London bike shares with visualization tools.\n",
    "\n",
    "This will allow us to X-ray the data as part of the EDA process before setting up a machine learning model."
   ]
  },
  {
   "cell_type": "markdown",
   "metadata": {
    "id": "mN0CH7VfAzaK"
   },
   "source": [
    "## <p style=\"background-color:#9d4f8c; font-family:newtimeroman; color:#FFF9ED; font-size:150%; text-align:center; border-radius:10px 10px;\">ABOUT THE FEATURES</p>\n",
    "\n",
    "<a id=\"00\"></a>\n",
    "<a href=\"#toc\" class=\"btn btn-primary btn-sm\" role=\"button\" aria-pressed=\"true\" \n",
    "style=\"color:blue; background-color:#dfa8e4\" data-toggle=\"popover\">Content</a>\n",
    "\n",
    "**- ``timestamp``** - timestamp field for grouping the data<br>\n",
    "**- ``cnt``** - the count of a new bike shares<br>\n",
    "**- ``t1``** - real temperature in C<br>\n",
    "**- ``t2``** - temperature in C “feels like”<br>\n",
    "**- ``hum``** - humidity in percentage<br>\n",
    "**- ``wind_speed``** - wind speed in km/h<br>\n",
    "**- ``weather_code``** - category of the weather<br>\n",
    "**- ``is_holiday``** - boolean field - 1 holiday / 0 non holiday<br>\n",
    "**- ``is_weekend``** - boolean field - 1 if the day is weekend<br>\n",
    "**- ``season``** - category field meteorological seasons: 0-spring ; 1-summer; 2-fall; 3-winter.<br>\n",
    "\n",
    "**\"weather_code\" category description:**<br>\n",
    "**``1``** = Clear ; mostly clear but have some values with haze/fog/patches of fog/ fog in vicinity<br> \n",
    "**``2``** = scattered clouds / few clouds<br> \n",
    "**``3``** = Broken clouds<br> \n",
    "**``4``** = Cloudy<br> \n",
    "**``7``** = Rain/ light Rain shower/ Light rain<br> \n",
    "**``10``** = rain with thunderstorm<br> \n",
    "**``26``** = snowfall<br> \n",
    "**``94``** = Freezing Fog<br>"
   ]
  },
  {
   "cell_type": "markdown",
   "metadata": {
    "id": "K9eNE2ugAzaK"
   },
   "source": [
    "## <p style=\"background-color:#9d4f8c; font-family:newtimeroman; color:#FFF9ED; font-size:150%; text-align:center; border-radius:10px 10px;\">INSTRUCTIONS (Tasks in the Assignment)</p>\n",
    "\n",
    "<a id=\"1\"></a>\n",
    "<a href=\"#toc\" class=\"btn btn-primary btn-sm\" role=\"button\" aria-pressed=\"true\" \n",
    "style=\"color:blue; background-color:#dfa8e4\" data-toggle=\"popover\">Content</a>\n",
    "\n",
    "Initially, the task of discovering data will be waiting for you as always. Recognize features, detect missing values, outliers etc.  Review the data from various angles in different time breakdowns. \n",
    "\n",
    "For example, visualize the distribution of bike shares by day of the week. With this graph, you will be able to easily observe and make inferences how people's behavior changes daily. \n",
    "\n",
    "Likewise, you can make hourly, monthly, seasonally etc. analyzes. In addition, you can analyze correlation of variables with a heatmap. \n",
    "\n",
    "**In this assignment you're required to handle with the following tasks:** \n",
    "\n",
    "- **Task 01.** Reading the dataset<br>\n",
    "- **Task 02.** Check missing values and if there are any duplicate rows or not.<br>\n",
    "- **Task 03.** Plotting the distribution of various discrete features on (Season, holiday, weekend and weathercode)<br>\n",
    "- **Task 04.** Looking at the data type of each variable, transform timestamp to DateTime64 type, and set it as an index.<br>\n",
    "- **Task 05.** Feature engineering. Extract new columns (day of the week, day of the month, hour, month, season, year etc.)<br>\n",
    "- **Task 06.** Visualizing the correlation with a heatmap<br>\n",
    "- **Task 07.** Visualizing the correlation of the target variable and the other features with barplot<br>\n",
    "- **Task 08.** Plotting bike shares over time (use lineplot)<br>\n",
    "- **Task 09.** Plotting bike shares by months and year_of_month (use lineplot, pointplot, barplot)<br>\n",
    "- **Task 10.** Plotting bike shares by hours on (holidays, weekend, season)<br>\n",
    "- **Task 11.** Plotting bike shares by day of week<br>\n",
    "- **Task 12.** Plotting bike shares by day of month<br>\n",
    "- **Task 13.** Plotting bike shares by year & Plotting bike shares on holidays by seasons<br>\n",
    "- **Task 14.** Visualizing the distribution of bike shares by weekday/weekend with piechart and barplot<br>\n",
    "- **Task 15.** Plotting the distribution of weather code by seasons<br>"
   ]
  },
  {
   "cell_type": "markdown",
   "metadata": {},
   "source": [
    "Note:  you can embed Youtubes directly in your Jupyter Notebooks, should you so choose."
   ]
  },
  {
   "cell_type": "code",
   "execution_count": null,
   "metadata": {},
   "outputs": [],
   "source": [
    "from IPython.display import YouTubeVideo"
   ]
  },
  {
   "cell_type": "code",
   "execution_count": null,
   "metadata": {},
   "outputs": [],
   "source": [
    "YouTubeVideo(\"P77bDN7qAlc\")"
   ]
  },
  {
   "cell_type": "markdown",
   "metadata": {
    "id": "uSlEdW1A20Io"
   },
   "source": [
    "## <p style=\"background-color:#9d4f8c; font-family:newtimeroman; color:#FFF9ED; font-size:150%; text-align:center; border-radius:10px 10px;\">IMPORTING LIBRARIES NEEDED IN THIS NOTEBOOK</p>\n",
    "\n",
    "<a id=\"000\"></a>\n",
    "<a href=\"#toc\" class=\"btn btn-primary btn-sm\" role=\"button\" aria-pressed=\"true\" \n",
    "style=\"color:blue; background-color:#dfa8e4\" data-toggle=\"popover\">Content</a>"
   ]
  },
  {
   "cell_type": "code",
   "execution_count": null,
   "metadata": {
    "id": "GL3nsXNYAzaL"
   },
   "outputs": [],
   "source": [
    "import numpy as np\n",
    "import pandas as pd\n",
    "import seaborn as sns\n",
    "import matplotlib.pyplot as plt\n",
    "from pandas.plotting import register_matplotlib_converters\n",
    "from pylab import rcParams\n",
    "sns.set_style(\"darkgrid\")\n",
    "\n",
    "import warnings\n",
    "warnings.filterwarnings(\"ignore\")\n",
    "\n",
    "# Set it None to display all rows in the dataframe\n",
    "# pd.set_option('display.max_rows', None)\n",
    "\n",
    "# Set it to None to display all columns in the dataframe\n",
    "pd.set_option('display.max_columns', None)"
   ]
  },
  {
   "cell_type": "markdown",
   "metadata": {
    "id": "eppisf6o20Ip"
   },
   "source": [
    "### <p style=\"background-color:#9d4f8c; font-family:newtimeroman; color:#FFF9ED; font-size:150%; text-align:center; border-radius:10px 10px;\">TASK 01 - READING THE DATASET</p>\n",
    "\n",
    "<a id=\"2\"></a>\n",
    "<a href=\"#toc\" class=\"btn btn-primary btn-sm\" role=\"button\" aria-pressed=\"true\" \n",
    "style=\"color:blue; background-color:#dfa8e4\" data-toggle=\"popover\">Content</a>\n",
    "\n",
    "**Now Let us first try to load and read the Bike Sharing dataset. [SOURCE](https://towardsdatascience.com/learn-how-to-read-data-into-a-pandas-dataframe-in-5-minutes-122af8e0b9db) for learning how to read data into a Pandas DataFrame in 5 minutes.** \n",
    "\n",
    "[Kaggle Source](https://www.kaggle.com/code/azizozmen/beginner-friendly-viz-with-plotly/data)"
   ]
  },
  {
   "cell_type": "code",
   "execution_count": null,
   "metadata": {
    "colab": {
     "base_uri": "https://localhost:8080/",
     "height": 203
    },
    "id": "BtAf43Va20Iq",
    "outputId": "5e76994f-847a-4efd-c3db-8c2bb994a7d5"
   },
   "outputs": [],
   "source": [
    "df0 = pd.read_csv('store_sharing.csv')\n",
    "df = df0.copy()\n",
    "df.head()"
   ]
  },
  {
   "cell_type": "markdown",
   "metadata": {
    "id": "VjheHYF220Iq"
   },
   "source": [
    "### <p style=\"background-color:#9d4f8c; font-family:newtimeroman; color:#FFF9ED; font-size:150%; text-align:center; border-radius:10px 10px;\">TASK 02 - CHECKING MISSING VALUES & IF THERE ARE SOME DUPLICATE ROWS OR NOT</p>\n",
    "\n",
    "<a id=\"3\"></a>\n",
    "<a href=\"#toc\" class=\"btn btn-primary btn-sm\" role=\"button\" aria-pressed=\"true\" \n",
    "style=\"color:blue; background-color:#dfa8e4\" data-toggle=\"popover\">Content</a>"
   ]
  },
  {
   "cell_type": "code",
   "execution_count": null,
   "metadata": {
    "colab": {
     "base_uri": "https://localhost:8080/"
    },
    "id": "Su1S3Ejc20Ir",
    "outputId": "a688b179-ca44-4403-e355-c6073ea06197"
   },
   "outputs": [],
   "source": [
    "df.duplicated().value_counts()"
   ]
  },
  {
   "cell_type": "code",
   "execution_count": null,
   "metadata": {
    "colab": {
     "base_uri": "https://localhost:8080/"
    },
    "id": "taPyMUnj20Ir",
    "outputId": "ec58ba4b-884c-4537-f52c-e1743163fb55"
   },
   "outputs": [],
   "source": [
    "df.isnull().sum()"
   ]
  },
  {
   "cell_type": "markdown",
   "metadata": {
    "id": "yMowtQqH20Ir"
   },
   "source": [
    "### <p style=\"background-color:#9d4f8c; font-family:newtimeroman; color:#FFF9ED; font-size:150%; text-align:center; border-radius:10px 10px;\">TASK 03 - PLOTTING THE DISTRIBUTION OF VARIOUS DISCRETE FEATURES PER  SEASON-HOLIDAY-WEEKEND-WEATHERCODE</p>\n",
    "\n",
    "<a id=\"4\"></a>\n",
    "<a href=\"#toc\" class=\"btn btn-primary btn-sm\" role=\"button\" aria-pressed=\"true\" \n",
    "style=\"color:blue; background-color:#dfa8e4\" data-toggle=\"popover\">Content</a>"
   ]
  },
  {
   "cell_type": "markdown",
   "metadata": {},
   "source": [
    "season : season (0:spring, 1:summer, 2:fall, 3:winter)"
   ]
  },
  {
   "cell_type": "code",
   "execution_count": null,
   "metadata": {},
   "outputs": [],
   "source": [
    "df['season'].value_counts()"
   ]
  },
  {
   "cell_type": "code",
   "execution_count": null,
   "metadata": {},
   "outputs": [],
   "source": [
    "sort_by_day = df['season'].value_counts().sort_index()\n",
    "sort_by_day"
   ]
  },
  {
   "cell_type": "code",
   "execution_count": null,
   "metadata": {},
   "outputs": [],
   "source": [
    "sort_by_day.index"
   ]
  },
  {
   "cell_type": "code",
   "execution_count": null,
   "metadata": {},
   "outputs": [],
   "source": [
    "df['season'].value_counts().index"
   ]
  },
  {
   "cell_type": "code",
   "execution_count": null,
   "metadata": {},
   "outputs": [],
   "source": [
    "df['season'].value_counts().values"
   ]
  },
  {
   "cell_type": "code",
   "execution_count": null,
   "metadata": {},
   "outputs": [],
   "source": [
    "values_by_day = df['season'].value_counts().sort_index()\n",
    "values_by_day"
   ]
  },
  {
   "cell_type": "code",
   "execution_count": null,
   "metadata": {},
   "outputs": [],
   "source": [
    "plt.bar(sort_by_day.index, values_by_day) \n",
    "plt.xticks([0,1,2,3], [\"Spring\", \"Summer\", \"Fall\", \"Winter\"], rotation=0);"
   ]
  },
  {
   "cell_type": "code",
   "execution_count": null,
   "metadata": {
    "colab": {
     "base_uri": "https://localhost:8080/",
     "height": 279
    },
    "id": "vw4INTSG20Is",
    "outputId": "0e14c1aa-6ab4-419f-c5dc-45dba42c36aa"
   },
   "outputs": [],
   "source": [
    "# fig, ax = plt.subplots()\n",
    "\n",
    "# season\n",
    "# sns.countplot(x='season', data=df);\n",
    "# or\n",
    "sns.factorplot(x='season', data=df, kind='count', size=5, aspect=1.5)\n",
    "\n",
    "# you can add\n",
    "ax = plt.gca()\n",
    "for p in ax.patches:\n",
    "    ax.annotate((p.get_height()), \n",
    "                (p.get_x()+0.3, p.get_height()+20))\n",
    "plt.xticks([0,1,2,3], [\"Spring\", \"Summer\", \"Fall\", \"Winter\"], rotation=0);"
   ]
  },
  {
   "cell_type": "markdown",
   "metadata": {},
   "source": [
    "[For a Better Understanding of What ``for loop`` does ==> Visit Here](https://medium.com/@dey.mallika/transform-your-graphs-with-seaborn-ea4fa8e606a6)"
   ]
  },
  {
   "cell_type": "code",
   "execution_count": null,
   "metadata": {},
   "outputs": [],
   "source": [
    "import matplotlib\n",
    "print('matplotlib: {}'.format(matplotlib.__version__))"
   ]
  },
  {
   "cell_type": "code",
   "execution_count": null,
   "metadata": {},
   "outputs": [],
   "source": [
    "# As of matplotlib v3.4.2, you can use matplotlib.pyplot.bar_label\n",
    "\n",
    "fig, ax = plt.subplots()\n",
    "\n",
    "# is_holiday\n",
    "chart = sns.countplot(x='is_holiday', data=df);\n",
    "# or\n",
    "# sns.factorplot(x='is_holiday',data=df, kind='count',size=5,aspect=1);\n",
    "\n",
    "chart.bar_label(chart.containers[0], fmt='%d');"
   ]
  },
  {
   "cell_type": "code",
   "execution_count": null,
   "metadata": {
    "colab": {
     "base_uri": "https://localhost:8080/",
     "height": 280
    },
    "id": "DHPG8s5920Is",
    "outputId": "57b32e35-c59b-407a-c49e-9f2381678887"
   },
   "outputs": [],
   "source": [
    "fig, ax = plt.subplots()\n",
    "\n",
    "# is_holiday\n",
    "sns.countplot(x='is_holiday', data=df);\n",
    "# or\n",
    "# sns.factorplot(x='is_holiday',data=df, kind='count',size=5,aspect=1);\n",
    "\n",
    "# you can add\n",
    "# ax =sns.countplot(x='season',data=df);\n",
    "for p in ax.patches:\n",
    "    ax.annotate((p.get_height()), (p.get_x()+0.35, p.get_height()+30));"
   ]
  },
  {
   "cell_type": "code",
   "execution_count": null,
   "metadata": {
    "colab": {
     "base_uri": "https://localhost:8080/",
     "height": 280
    },
    "id": "MbopYVNN20Is",
    "outputId": "68d98a06-2a00-49d5-f040-60a456279b03"
   },
   "outputs": [],
   "source": [
    "fig, ax = plt.subplots()\n",
    "\n",
    "# is_weekend\n",
    "sns.countplot(x='is_weekend',data=df);\n",
    "# or\n",
    "# sns.factorplot(x='is_weekend',data=df,kind='count',size=5,aspect=1);\n",
    "\n",
    "for p in ax.patches:\n",
    "    ax.annotate((p.get_height()), (p.get_x()+0.35, p.get_height()+30));"
   ]
  },
  {
   "cell_type": "code",
   "execution_count": null,
   "metadata": {
    "colab": {
     "base_uri": "https://localhost:8080/",
     "height": 280
    },
    "id": "y6x24xxV20It",
    "outputId": "1d0e6816-2d90-48f4-cfdb-bba75af1bd13"
   },
   "outputs": [],
   "source": [
    "fig, ax = plt.subplots()\n",
    "\n",
    "# weather_code\n",
    "sns.countplot(x='weather_code',data=df);\n",
    "# or\n",
    "# sns.factorplot(x='weather_code',data=df,kind='count',size=5,aspect=1);\n",
    "\n",
    "for p in ax.patches:\n",
    "    ax.annotate((p.get_height()), (p.get_x()+0.20, p.get_height()+30));"
   ]
  },
  {
   "cell_type": "markdown",
   "metadata": {
    "id": "0ckMDGUu20Iu"
   },
   "source": [
    "### <p style=\"background-color:#9d4f8c; font-family:newtimeroman; color:#FFF9ED; font-size:150%; text-align:center; border-radius:10px 10px;\">TASK 04 - LOOKING AT THE DATA TYPES OF EACH VARIABLE, TRANSFORM ``TIMESTAMP`` IN TYPE & SET IT AS INDEX</p>\n",
    "\n",
    "<a id=\"5\"></a>\n",
    "<a href=\"#toc\" class=\"btn btn-primary btn-sm\" role=\"button\" aria-pressed=\"true\" \n",
    "style=\"color:blue; background-color:#dfa8e4\" data-toggle=\"popover\">Content</a>"
   ]
  },
  {
   "cell_type": "code",
   "execution_count": null,
   "metadata": {},
   "outputs": [],
   "source": [
    "df.info()"
   ]
  },
  {
   "cell_type": "code",
   "execution_count": null,
   "metadata": {},
   "outputs": [],
   "source": [
    "type(df['timestamp'][0])"
   ]
  },
  {
   "cell_type": "code",
   "execution_count": null,
   "metadata": {
    "id": "UAVtBv_420Iu"
   },
   "outputs": [],
   "source": [
    "df.timestamp = pd.to_datetime(df['timestamp'])"
   ]
  },
  {
   "cell_type": "code",
   "execution_count": null,
   "metadata": {},
   "outputs": [],
   "source": [
    "df.info()"
   ]
  },
  {
   "cell_type": "code",
   "execution_count": null,
   "metadata": {},
   "outputs": [],
   "source": [
    "df"
   ]
  },
  {
   "cell_type": "code",
   "execution_count": null,
   "metadata": {
    "colab": {
     "base_uri": "https://localhost:8080/",
     "height": 234
    },
    "id": "xnBa7KKQ20Iu",
    "outputId": "588ee573-62bf-44c7-cd55-0c71692dc78b"
   },
   "outputs": [],
   "source": [
    "df.set_index('timestamp', inplace=True)"
   ]
  },
  {
   "cell_type": "code",
   "execution_count": null,
   "metadata": {},
   "outputs": [],
   "source": [
    "df"
   ]
  },
  {
   "cell_type": "markdown",
   "metadata": {
    "id": "8VsK9Mxt20Iu"
   },
   "source": [
    "- We have a 2-year timestamp, so let us do Feature Engineering by using `year, month, day_of_month, day_of_week, hour`"
   ]
  },
  {
   "cell_type": "markdown",
   "metadata": {
    "id": "ngiq2v7S20Iu"
   },
   "source": [
    "### <p style=\"background-color:#9d4f8c; font-family:newtimeroman; color:#FFF9ED; font-size:150%; text-align:center; border-radius:10px 10px;\">TASK 05 - MAKING FEATURE ENGINEERING. EXTRACTING NEW COLUMNS (DAY OF WEEK, DAY OF MONTH, HOUR, MONTH, SEASON, YEAR ETC.</p>\n",
    "\n",
    "<a id=\"6\"></a>\n",
    "<a href=\"#toc\" class=\"btn btn-primary btn-sm\" role=\"button\" aria-pressed=\"true\" \n",
    "style=\"color:blue; background-color:#dfa8e4\" data-toggle=\"popover\">Content</a>"
   ]
  },
  {
   "cell_type": "code",
   "execution_count": null,
   "metadata": {},
   "outputs": [],
   "source": [
    "df.index"
   ]
  },
  {
   "cell_type": "code",
   "execution_count": null,
   "metadata": {},
   "outputs": [],
   "source": [
    "df.index.year"
   ]
  },
  {
   "cell_type": "code",
   "execution_count": null,
   "metadata": {
    "id": "kuzcXJ0i20Iv"
   },
   "outputs": [],
   "source": [
    "f = lambda x: x.strftime('%Y-%m') # strftime works with array\n",
    "\n",
    "df['year_month'] = f(df.index)\n",
    "df['year'] = df.index.year  # only apply to array\n",
    "df['month'] = df.index.month\n",
    "df['day_of_month'] = df.index.day\n",
    "df['day_of_week'] = df.index.dayofweek\n",
    "df['hour'] = df.index.hour"
   ]
  },
  {
   "cell_type": "markdown",
   "metadata": {
    "id": "NBWa8oXcxN-E"
   },
   "source": [
    "alternative solution\n",
    "```\n",
    "import datetime as dt\n",
    "df2  =pd.read_csv('store_sharing.csv')\n",
    "df2['timestamp'] =  pd.to_datetime(df2['timestamp'], infer_datetime_format=True)\n",
    "\n",
    "df2[\"year\"] = df2['timestamp'].dt.year\n",
    "df2[\"month\"] = df2['timestamp'].dt.month\n",
    "df2[\"day\"] = df2['timestamp'].dt.day\n",
    "df2[\"day_of_week\"] = df2['timestamp'].dt.dayofweek\n",
    "df2[\"hour\"] = df2['timestamp'].dt.hour\n",
    "\n",
    "df2[\"year-month\"] = df2['timestamp'].apply(lambda x: x.strftime('%Y-%m'))\n",
    "\n",
    "df2.set_index('timestamp',inplace=True)\n",
    "df2\n",
    "```\n",
    "\n"
   ]
  },
  {
   "cell_type": "code",
   "execution_count": null,
   "metadata": {
    "colab": {
     "base_uri": "https://localhost:8080/",
     "height": 422
    },
    "id": "RYw9Klg_20Iv",
    "outputId": "7fd6f17c-d7e5-4865-a630-c2279c3cfe52"
   },
   "outputs": [],
   "source": [
    "df.head()"
   ]
  },
  {
   "cell_type": "markdown",
   "metadata": {
    "id": "plpRRF8920Iv"
   },
   "source": [
    "### <p style=\"background-color:#9d4f8c; font-family:newtimeroman; color:#FFF9ED; font-size:150%; text-align:center; border-radius:10px 10px;\">TASK 06 - VISUALIZING THE CORRELATION WITH A HEATMAP</p>\n",
    "\n",
    "<a id=\"7\"></a>\n",
    "<a href=\"#toc\" class=\"btn btn-primary btn-sm\" role=\"button\" aria-pressed=\"true\" \n",
    "style=\"color:blue; background-color:#dfa8e4\" data-toggle=\"popover\">Content</a>"
   ]
  },
  {
   "cell_type": "code",
   "execution_count": null,
   "metadata": {
    "colab": {
     "base_uri": "https://localhost:8080/",
     "height": 656
    },
    "id": "T_KFvQBA20Iw",
    "outputId": "a814118f-c26b-4ec1-ad70-1269e3184c9d"
   },
   "outputs": [],
   "source": [
    "# for all variables\n",
    "\n",
    "plt.figure(figsize=(15, 10))\n",
    "\n",
    "# sns.heatmap(df.corr(), annot=True, cmap=\"coolwarm\");\n",
    "\n",
    "# # BONUS If you want to show half of the Meatmap Matrix\n",
    "# # Getting the Upper Triangle of the co-relation matrix\n",
    "matrix = np.triu(df.corr())\n",
    "\n",
    "# # using the upper triangle matrix as mask \n",
    "sns.heatmap(df.corr(), annot=True, cmap=\"coolwarm\", mask=matrix);"
   ]
  },
  {
   "cell_type": "code",
   "execution_count": null,
   "metadata": {
    "colab": {
     "base_uri": "https://localhost:8080/",
     "height": 480
    },
    "id": "EV8nX3eZ7WDw",
    "outputId": "008c51f2-2ac1-4dc8-96c6-f8954d059675"
   },
   "outputs": [],
   "source": [
    "df_corr_cnt = df.corr()[['cnt']].sort_values(by='cnt', ascending=False)\n",
    "df_corr_cnt"
   ]
  },
  {
   "cell_type": "code",
   "execution_count": null,
   "metadata": {
    "colab": {
     "base_uri": "https://localhost:8080/",
     "height": 428
    },
    "id": "8t4Iv-Q520Iw",
    "outputId": "6dae4896-9fc7-46a7-8c3e-99aeb019d15f"
   },
   "outputs": [],
   "source": [
    "# for the target variable\n",
    "\n",
    "plt.figure(figsize=(2, 7))\n",
    "\n",
    "sns.heatmap(df_corr_cnt, vmin=-1, vmax=1, annot=True, cmap='BrBG');"
   ]
  },
  {
   "cell_type": "markdown",
   "metadata": {},
   "source": [
    "**The possible value of the palette/cmap are:**\n",
    "\n",
    "‘Accent’, ‘Accent_r’, ‘Blues’, ‘Blues_r’, ‘BrBG’, ‘BrBG_r’, ‘BuGn’, ‘BuGn_r’, ‘BuPu’, ‘BuPu_r’, ‘CMRmap’, ‘CMRmap_r’, ‘Dark2’, ‘Dark2_r’, ‘GnBu’, ‘GnBu_r’,  ‘Greens’, ‘Greens_r’, ‘Greys’, ‘Greys_r’, ‘OrRd’, ‘OrRd_r’, ‘Oranges’, ‘Oranges_r’,  ‘PRGn’, ‘PRGn_r’, ‘Paired’, ‘Paired_r’, ‘Pastel1’, ‘Pastel1_r’, ‘Pastel2’,  ‘Pastel2_r’, ‘PiYG’, ‘PiYG_r’, ‘PuBu’, ‘PuBuGn’, ‘PuBuGn_r’, ‘PuBu_r’, ‘PuOr’, ‘PuOr_r’, ‘PuRd’, ‘PuRd_r’, ‘Purples’, ‘Purples_r’, ‘RdBu’, ‘RdBu_r’, ‘RdGy’, ‘RdGy_r’, ‘RdPu’, ‘RdPu_r’, ‘RdYlBu’, ‘RdYlBu_r’, ‘RdYlGn’, ‘RdYlGn_r’, ‘Reds’, ‘Reds_r’, ‘Set1’, ‘Set1_r’, ‘Set2’, ‘Set2_r’, ‘Set3’, ‘Set3_r’, ‘Spectral’, ‘Spectral_r’, ‘Wistia’, ‘Wistia_r’, ‘YlGn’, ‘YlGnBu’, ‘YlGnBu_r’, ‘YlGn_r’, ‘YlOrBr’, ‘YlOrBr_r’, ‘YlOrRd’, ‘YlOrRd_r’, ‘afmhot’, ‘afmhot_r’, ‘autumn’, ‘autumn_r’, ‘binary’, ‘binary_r’,  ‘bone’, ‘bone_r’, ‘brg’, ‘brg_r’, ‘bwr’, ‘bwr_r’, ‘cividis’, ‘cividis_r’, ‘cool’, ‘cool_r’,  ‘coolwarm’, ‘coolwarm_r’, ‘copper’, ‘copper_r’, ‘cubehelix’, ‘cubehelix_r’, ‘flag’, ‘flag_r’,  ‘gist_earth’, ‘gist_earth_r’, ‘gist_gray’, ‘gist_gray_r’, ‘gist_heat’, ‘gist_heat_r’, ‘gist_ncar’,  ‘gist_ncar_r’, ‘gist_rainbow’, ‘gist_rainbow_r’, ‘gist_stern’, ‘gist_stern_r’, ‘gist_yarg’,  ‘gist_yarg_r’, ‘gnuplot’, ‘gnuplot2’, ‘gnuplot2_r’, ‘gnuplot_r’, ‘gray’, ‘gray_r’, ‘hot’, ‘hot_r’,  ‘hsv’, ‘hsv_r’, ‘icefire’, ‘icefire_r’, ‘inferno’, ‘inferno_r’, ‘jet’, ‘jet_r’, ‘magma’, ‘magma_r’,  ‘mako’, ‘mako_r’, ‘nipy_spectral’, ‘nipy_spectral_r’, ‘ocean’, ‘ocean_r’, ‘pink’, ‘pink_r’,  ‘plasma’, ‘plasma_r’, ‘prism’, ‘prism_r’, ‘rainbow’, ‘rainbow_r’, ‘rocket’, ‘rocket_r’,  ‘seismic’, ‘seismic_r’, ‘spring’, ‘spring_r’, ‘summer’, ‘summer_r’, ‘tab10’, ‘tab10_r’,’tab20′, ‘tab20_r’, ‘tab20b’, ‘tab20b_r’, ‘tab20c’, ‘tab20c_r’, ‘terrain’, ‘terrain_r’, ‘turbo’,  ‘turbo_r’, ‘twilight’, ‘twilight_r’, ‘twilight_shifted’, ‘twilight_shifted_r’, ‘viridis’,  ‘viridis_r’, ‘vlag’, ‘vlag_r’, ‘winter’, ‘winter_r’\n",
    "\n",
    "[Source](https://www.geeksforgeeks.org/seaborn-color-palette/)"
   ]
  },
  {
   "cell_type": "markdown",
   "metadata": {
    "id": "zfgbjPiW20Iw"
   },
   "source": [
    "### <p style=\"background-color:#9d4f8c; font-family:newtimeroman; color:#FFF9ED; font-size:150%; text-align:center; border-radius:10px 10px;\">TASK 07 - VISUALIZING THE CORRELATION OF THE TARGET VARIABLE & THE OTHER FEATURES WITH BARPLOT</p>\n",
    "\n",
    "<a id=\"8\"></a>\n",
    "<a href=\"#toc\" class=\"btn btn-primary btn-sm\" role=\"button\" aria-pressed=\"true\" \n",
    "style=\"color:blue; background-color:#dfa8e4\" data-toggle=\"popover\">Content</a>"
   ]
  },
  {
   "cell_type": "code",
   "execution_count": null,
   "metadata": {
    "colab": {
     "base_uri": "https://localhost:8080/",
     "height": 374
    },
    "id": "14fNdyUL20Ix",
    "outputId": "ce0f49c1-3267-4f97-ce3a-dcbdbf14a641"
   },
   "outputs": [],
   "source": [
    "#with pandas\n",
    "\n",
    "plt.figure(figsize=(10, 6))\n",
    "\n",
    "df.corr()[\"cnt\"].sort_values().plot.barh();"
   ]
  },
  {
   "cell_type": "markdown",
   "metadata": {
    "id": "bNqu1ksG96wD"
   },
   "source": [
    "Alternative Sol\n",
    "\n",
    "```\n",
    "x = df.corr()[\"cnt\"].sort_values(ascending=False).index\n",
    "y = df.corr()[\"cnt\"].sort_values(ascending=False).values\n",
    "sns.barplot(y,x, orient=\"h\", color=\"b\" )\n",
    "```\n",
    "\n"
   ]
  },
  {
   "cell_type": "markdown",
   "metadata": {
    "id": "gAALtK4OAzaN"
   },
   "source": [
    "### <p style=\"background-color:#9d4f8c; font-family:newtimeroman; color:#FFF9ED; font-size:150%; text-align:center; border-radius:10px 10px;\">TASK 08 - PLOTTING BIKE SHARES OVER TIME BY USING LINEPLOT</p>\n",
    "\n",
    "<a id=\"9\"></a>\n",
    "<a href=\"#toc\" class=\"btn btn-primary btn-sm\" role=\"button\" aria-pressed=\"true\" \n",
    "style=\"color:blue; background-color:#dfa8e4\" data-toggle=\"popover\">Content</a>"
   ]
  },
  {
   "cell_type": "code",
   "execution_count": null,
   "metadata": {
    "colab": {
     "base_uri": "https://localhost:8080/",
     "height": 327
    },
    "id": "53T6Nuor20Iy",
    "outputId": "c4866ed6-d818-42eb-f8a3-efbae1e6c6f0"
   },
   "outputs": [],
   "source": [
    "plt.figure(figsize=(15, 5))\n",
    "\n",
    "sns.lineplot(x=df.index, y='cnt', data=df)\n",
    "plt.show()"
   ]
  },
  {
   "cell_type": "markdown",
   "metadata": {
    "id": "bl0unzOr9MWN"
   },
   "source": [
    "### <p style=\"background-color:#9d4f8c; font-family:newtimeroman; color:#FFF9ED; font-size:150%; text-align:center; border-radius:10px 10px;\">TASK 09 - PLOTTING BIKE SHARES BY MONTHS & YEAR_OF_MONTH (USE LINEPLOT, POINTPOT, BARPLOT)</p>\n",
    "\n",
    "<a id=\"10\"></a>\n",
    "<a href=\"#toc\" class=\"btn btn-primary btn-sm\" role=\"button\" aria-pressed=\"true\" \n",
    "style=\"color:blue; background-color:#dfa8e4\" data-toggle=\"popover\">Content</a>"
   ]
  },
  {
   "cell_type": "code",
   "execution_count": null,
   "metadata": {},
   "outputs": [],
   "source": [
    "df.head()"
   ]
  },
  {
   "cell_type": "code",
   "execution_count": null,
   "metadata": {
    "id": "r37qftbg20Iy"
   },
   "outputs": [],
   "source": [
    "df_sum = pd.DataFrame(df.groupby('year_month').cnt.sum())\n",
    "# df_sum"
   ]
  },
  {
   "cell_type": "code",
   "execution_count": null,
   "metadata": {
    "colab": {
     "base_uri": "https://localhost:8080/",
     "height": 288
    },
    "id": "rx3Gh3Cw20Iy",
    "outputId": "385c85c9-7990-4dc2-f72e-41b0dd4728c3"
   },
   "outputs": [],
   "source": [
    "plt.figure(figsize=(20, 5))\n",
    "\n",
    "sns.lineplot(x='year_month', y='cnt', data=df_sum)\n",
    "plt.ticklabel_format(style='plain', axis='y')\n",
    "\n",
    "# ax = plt.gca()\n",
    "# plt.xticks(fontsize=20)\n",
    "# ax.set_xlabel(ax.get_xlabel(), fontsize=20)\n",
    "# plt.yticks(fontsize=20)\n",
    "# ax.set_ylabel(ax.get_ylabel(), fontsize=20)\n",
    "plt.xticks(rotation=45);\n",
    "\n",
    "# pd.DataFrame(df.groupby('year_month').cnt.mean().apply(lambda x:round(x, 1))).reset_index(drop=True).T"
   ]
  },
  {
   "cell_type": "code",
   "execution_count": null,
   "metadata": {
    "scrolled": true
   },
   "outputs": [],
   "source": [
    "df.groupby(\"month\")[\"cnt\"].mean()  #.median, .std"
   ]
  },
  {
   "cell_type": "code",
   "execution_count": null,
   "metadata": {},
   "outputs": [],
   "source": [
    "plt.figure(figsize=(10,10))\n",
    "data=df.groupby(\"year_month\")[\"cnt\"]\n",
    "data.plot.bar(x=\"year_month\", y=\"cnt\");"
   ]
  },
  {
   "cell_type": "code",
   "execution_count": null,
   "metadata": {
    "colab": {
     "base_uri": "https://localhost:8080/",
     "height": 327
    },
    "id": "yddCIi3R20Iz",
    "outputId": "108cb9a4-3def-4c68-9ec2-bf26ad9e41dd"
   },
   "outputs": [],
   "source": [
    "# with lineplot\n",
    "\n",
    "plt.figure(figsize=(15, 5))\n",
    "sns.lineplot(x='month', y='cnt', data=df);\n",
    "\n",
    "# pd.DataFrame(df.groupby('month').cnt.mean().apply(lambda x:round(x, 1))).T"
   ]
  },
  {
   "cell_type": "code",
   "execution_count": null,
   "metadata": {
    "colab": {
     "base_uri": "https://localhost:8080/",
     "height": 327
    },
    "id": "2VXlvX_b20Iz",
    "outputId": "e97eb8da-5e32-4c8c-c36a-a1b5febda4a6"
   },
   "outputs": [],
   "source": [
    "# with pointplot\n",
    "\n",
    "plt.figure(figsize=(15, 5))\n",
    "sns.pointplot(x=\"month\", y =\"cnt\", data=df);"
   ]
  },
  {
   "cell_type": "code",
   "execution_count": null,
   "metadata": {
    "colab": {
     "base_uri": "https://localhost:8080/",
     "height": 388
    },
    "id": "AfIj8A4820Iz",
    "outputId": "560e2c01-5484-4d4d-b46a-6002c60d5d48"
   },
   "outputs": [],
   "source": [
    "# with barplot\n",
    "\n",
    "plt.figure(figsize=(14, 6))\n",
    "\n",
    "sns.barplot(x=\"month\", y=\"cnt\", data=df);\n",
    "# or\n",
    "# sns.factorplot(x=\"month\", y=\"cnt\", data=df, kind='bar', size=5, aspect=1.5);"
   ]
  },
  {
   "cell_type": "code",
   "execution_count": null,
   "metadata": {},
   "outputs": [],
   "source": [
    "plt.figure(figsize=(15, 5))\n",
    "\n",
    "chart = sns.barplot(x=\"month\", y=\"cnt\", data=df, estimator=sum, ci=None)\n",
    "# plt.ticklabel_format(style='plain', axis='y')\n",
    "\n",
    "# new helper method to auto-label bars (matplotlib 3.4.0+)\n",
    "chart.bar_label(chart.containers[0], fmt='%d');"
   ]
  },
  {
   "cell_type": "markdown",
   "metadata": {
    "id": "4E1AiBafAzaO"
   },
   "source": [
    "### <p style=\"background-color:#9d4f8c; font-family:newtimeroman; color:#FFF9ED; font-size:150%; text-align:center; border-radius:10px 10px;\">TASK 10 - PLOTTING BIKE SHARES BY HOURS ON (HOLIDAYS, WEEKEND, SEASON)</p>\n",
    "\n",
    "<a id=\"11\"></a>\n",
    "<a href=\"#toc\" class=\"btn btn-primary btn-sm\" role=\"button\" aria-pressed=\"true\" \n",
    "style=\"color:blue; background-color:#dfa8e4\" data-toggle=\"popover\">Content</a>"
   ]
  },
  {
   "cell_type": "code",
   "execution_count": null,
   "metadata": {
    "colab": {
     "base_uri": "https://localhost:8080/",
     "height": 254
    },
    "id": "MAXUb-Tn20Iz",
    "outputId": "8450b80e-947c-48d5-b5a8-e61a2047c3c6"
   },
   "outputs": [],
   "source": [
    "# with lineplot (*whether it is a holiday or not*)\n",
    "\n",
    "plt.figure(figsize=(20, 10))\n",
    "\n",
    "sns.lineplot(x='hour', y='cnt', data=df, hue='is_holiday');\n",
    "\n",
    "# pd.DataFrame(df.groupby('hour').cnt.mean().apply(lambda x: round(x, 1))).T"
   ]
  },
  {
   "cell_type": "code",
   "execution_count": null,
   "metadata": {},
   "outputs": [],
   "source": [
    "# with lineplot (*whether it is weekend or not*)\n",
    "\n",
    "plt.figure(figsize=(20, 5))\n",
    "sns.lineplot(x='hour', y='cnt', data=df, hue='is_weekend');\n",
    "\n",
    "# pd.DataFrame(df.groupby('hour').cnt.mean().apply(lambda x: round(x, 1))).T"
   ]
  },
  {
   "cell_type": "code",
   "execution_count": null,
   "metadata": {
    "colab": {
     "base_uri": "https://localhost:8080/",
     "height": 327
    },
    "id": "ly1idLJL20Iz",
    "outputId": "0b6a3cbc-264e-4566-ec93-7745530ce646"
   },
   "outputs": [],
   "source": [
    "# with lineplot (*You may want to see seasonal breakdowns*)\n",
    "\n",
    "plt.figure(figsize=(15, 5))\n",
    "\n",
    "sns.lineplot(x='hour', y='cnt', data=df, hue='season')\n",
    "plt.show()"
   ]
  },
  {
   "cell_type": "code",
   "execution_count": null,
   "metadata": {
    "colab": {
     "base_uri": "https://localhost:8080/",
     "height": 726
    },
    "id": "fZFUlVJn20I0",
    "outputId": "8657d3c8-4c7d-447d-f22f-3ddc6347e9bb"
   },
   "outputs": [],
   "source": [
    "# with pointplot\n",
    "\n",
    "fig, (ax1, ax2, ax3, ax4) = plt.subplots(nrows=4, figsize=(18, 15))\n",
    "\n",
    "sns.pointplot(data=df, x='hour', y='cnt', ax=ax1)\n",
    "sns.pointplot(data=df, x='hour', y='cnt', hue='is_holiday', ax=ax2)\n",
    "sns.pointplot(data=df, x='hour', y='cnt', hue='is_weekend', ax=ax3)\n",
    "sns.pointplot(data=df, x='hour', y='cnt', hue='season', ax=ax4);"
   ]
  },
  {
   "cell_type": "markdown",
   "metadata": {
    "id": "QzP5i5wrAzaO"
   },
   "source": [
    "### <p style=\"background-color:#9d4f8c; font-family:newtimeroman; color:#FFF9ED; font-size:150%; text-align:center; border-radius:10px 10px;\">TASK 11 - PLOTTING BIKE SHARES BY DAY OF WEEK</p>\n",
    "\n",
    "<a id=\"12\"></a>\n",
    "<a href=\"#toc\" class=\"btn btn-primary btn-sm\" role=\"button\" aria-pressed=\"true\" \n",
    "style=\"color:blue; background-color:#dfa8e4\" data-toggle=\"popover\">Content</a>\n",
    "\n",
    "- You may want to see whether it is a holiday or not"
   ]
  },
  {
   "cell_type": "code",
   "execution_count": null,
   "metadata": {
    "colab": {
     "base_uri": "https://localhost:8080/",
     "height": 280
    },
    "id": "7GB4NtqL20I0",
    "outputId": "8e1bec3f-7ada-4f39-c36e-b5a8d4afa352"
   },
   "outputs": [],
   "source": [
    "# with barplot\n",
    "\n",
    "plt.figure(figsize=(7, 4))\n",
    "\n",
    "sns.barplot(x=\"day_of_week\", y=\"cnt\", data=df, hue='is_weekend');\n",
    "\n",
    "# # if you want to change legend location\n",
    "plt.legend(loc='center left',bbox_to_anchor=(1, 0.928));"
   ]
  },
  {
   "cell_type": "code",
   "execution_count": null,
   "metadata": {
    "colab": {
     "base_uri": "https://localhost:8080/",
     "height": 498
    },
    "id": "9fxEGhPQ20I0",
    "outputId": "097cdcae-0fc4-4c87-ee90-8d8139f05d72",
    "scrolled": true
   },
   "outputs": [],
   "source": [
    "# with pointplot\n",
    "\n",
    "fig, (ax1, ax2) = plt.subplots(nrows=2) # figzise=(15, 8)\n",
    "fig.set_size_inches(15, 8)  \n",
    "\n",
    "sns.pointplot(data=df, x='day_of_week', y='cnt',ax=ax1)\n",
    "sns.pointplot(x=\"day_of_week\", y=\"cnt\", data=df, hue=\"season\", ax=ax2)\n",
    "plt.show()"
   ]
  },
  {
   "cell_type": "markdown",
   "metadata": {
    "id": "HMeHndo_20I0"
   },
   "source": [
    "### <p style=\"background-color:#9d4f8c; font-family:newtimeroman; color:#FFF9ED; font-size:150%; text-align:center; border-radius:10px 10px;\">TASK 12 - PLOTTING BIKE SHARES BY DAY OF MONTH</p>\n",
    "\n",
    "<a id=\"13\"></a>\n",
    "<a href=\"#toc\" class=\"btn btn-primary btn-sm\" role=\"button\" aria-pressed=\"true\" \n",
    "style=\"color:blue; background-color:#dfa8e4\" data-toggle=\"popover\">Content</a>"
   ]
  },
  {
   "cell_type": "code",
   "execution_count": null,
   "metadata": {
    "colab": {
     "base_uri": "https://localhost:8080/",
     "height": 418
    },
    "id": "Uh2gF1kn20I1",
    "outputId": "efc4f8ec-5894-4819-8799-78c5422a84fd"
   },
   "outputs": [],
   "source": [
    "#with lineplot\n",
    "\n",
    "plt.figure(figsize=(15, 5))\n",
    "\n",
    "sns.lineplot(x='day_of_month', y='cnt', data=df)\n",
    "pd.DataFrame(df.groupby('day_of_month').cnt.mean().apply(lambda x: round(x))).T\n",
    "# pd.DataFrame(df.groupby(\"day_of_month\").cnt.mean().astype(\"int\")).T"
   ]
  },
  {
   "cell_type": "markdown",
   "metadata": {
    "id": "Si3KWsce20I1"
   },
   "source": [
    "### <p style=\"background-color:#9d4f8c; font-family:newtimeroman; color:#FFF9ED; font-size:150%; text-align:center; border-radius:10px 10px;\">TASK 13 - PLOTTING BIKE SHARES BY YEAR & PLOTTING BIKE SHARES ON HOLIDAYS BY SEASON</p>\n",
    "\n",
    "<a id=\"14\"></a>\n",
    "<a href=\"#toc\" class=\"btn btn-primary btn-sm\" role=\"button\" aria-pressed=\"true\" \n",
    "style=\"color:blue; background-color:#dfa8e4\" data-toggle=\"popover\">Content</a>"
   ]
  },
  {
   "cell_type": "code",
   "execution_count": null,
   "metadata": {
    "colab": {
     "base_uri": "https://localhost:8080/",
     "height": 388
    },
    "id": "kWyoqrrF20I1",
    "outputId": "bc956c8f-3c79-4da8-a6ef-047ddaec5a3b"
   },
   "outputs": [],
   "source": [
    "# with barplot\n",
    "\n",
    "plt.figure(figsize=(10, 6))\n",
    "sns.barplot(x=\"year\", y=\"cnt\", data=df);\n",
    "# or\n",
    "# sns.factorplot(x=\"year\", y=\"cnt\", data=df, kind='bar', size=5, aspect=1.5);"
   ]
  },
  {
   "cell_type": "code",
   "execution_count": null,
   "metadata": {
    "colab": {
     "base_uri": "https://localhost:8080/",
     "height": 279
    },
    "id": "HnY7QtrQ20I1",
    "outputId": "e2959b01-00f9-4e42-9654-edbc1d61b832"
   },
   "outputs": [],
   "source": [
    "sns.barplot(x=\"season\", y=\"cnt\", data=df[df[\"is_holiday\"]==1]);"
   ]
  },
  {
   "cell_type": "markdown",
   "metadata": {
    "id": "b9bB9vrj20I1"
   },
   "source": [
    "### <p style=\"background-color:#9d4f8c; font-family:newtimeroman; color:#FFF9ED; font-size:150%; text-align:center; border-radius:10px 10px;\">TASK 14 - VISUALIZING THE DISTRIBUTION OF BIKE SHARES BY WEEKDAY-WEEKEND WITH USING PIECHART & BARPLOT</p>\n",
    "\n",
    "<a id=\"15\"></a>\n",
    "<a href=\"#toc\" class=\"btn btn-primary btn-sm\" role=\"button\" aria-pressed=\"true\" \n",
    "style=\"color:blue; background-color:#dfa8e4\" data-toggle=\"popover\">Content</a>"
   ]
  },
  {
   "cell_type": "code",
   "execution_count": null,
   "metadata": {},
   "outputs": [],
   "source": [
    "df['is_weekend'].value_counts()"
   ]
  },
  {
   "cell_type": "code",
   "execution_count": null,
   "metadata": {
    "colab": {
     "base_uri": "https://localhost:8080/",
     "height": 163
    },
    "id": "u9i63ZQ59LW0",
    "outputId": "401396db-6223-4aa8-c27b-981646e6737d"
   },
   "outputs": [],
   "source": [
    "df.is_weekend.value_counts().values"
   ]
  },
  {
   "cell_type": "code",
   "execution_count": null,
   "metadata": {
    "colab": {
     "base_uri": "https://localhost:8080/",
     "height": 303
    },
    "id": "CYXHD4gp20I1",
    "outputId": "39f76b35-980e-4f0d-a390-d0c7eaaf6328"
   },
   "outputs": [],
   "source": [
    "fig, ax = plt.subplots(figsize=(5, 5))\n",
    "\n",
    "explode=(0, 0.1)\n",
    "\n",
    "ax.pie(x=df.is_weekend.value_counts().values, \n",
    "       labels=['weekday', 'weekend'], \n",
    "       autopct='%.1f%%',\n",
    "       explode=explode\n",
    "       )\n",
    "\n",
    "plt.show()"
   ]
  },
  {
   "cell_type": "code",
   "execution_count": null,
   "metadata": {
    "colab": {
     "base_uri": "https://localhost:8080/",
     "height": 335
    },
    "id": "W9Z30UH120I2",
    "outputId": "4dabdd14-8f64-4350-a3d8-64a6e03fd622"
   },
   "outputs": [],
   "source": [
    "fig, ax = plt.subplots(figsize=(7, 5))\n",
    "\n",
    "ax = sns.countplot(x='is_weekend',data=df)\n",
    "\n",
    "for bar in ax.patches: \n",
    "        ax.annotate(\"%\" + str(round(100*bar.get_height()/len(df), 1)) + ' - ' + str(bar.get_height() ), \n",
    "                    (bar.get_x()+0.2 , bar.get_height()+10),\n",
    "                    size=12)"
   ]
  },
  {
   "cell_type": "markdown",
   "metadata": {
    "id": "VpzEV42oMmMe"
   },
   "source": [
    "Alternative Solition"
   ]
  },
  {
   "cell_type": "code",
   "execution_count": null,
   "metadata": {
    "colab": {
     "base_uri": "https://localhost:8080/",
     "height": 336
    },
    "id": "hIFEl7vqL9Jz",
    "outputId": "af8e68e7-d4fa-4f36-bf5a-79a7fd466ee4",
    "scrolled": true
   },
   "outputs": [],
   "source": [
    "fig, ax = plt.subplots(figsize=(7, 5))\n",
    "\n",
    "ax = sns.countplot(x='is_weekend', data=df)\n",
    "\n",
    "for bar in ax.patches: \n",
    "        ax.annotate( \"%\" + str(round(100*bar.get_height()/len(df),1)) + ' - ' + str(bar.get_height()), \n",
    "                    (bar.get_x() + bar.get_width() / 2,  \n",
    "                    bar.get_height()),  \n",
    "                    ha='center', \n",
    "                    va='center',\n",
    "                    size=12, \n",
    "                    xytext=(0, 6), \n",
    "                    textcoords='offset points')"
   ]
  },
  {
   "cell_type": "markdown",
   "metadata": {
    "id": "WY0UbCNt20I2"
   },
   "source": [
    "### <p style=\"background-color:#9d4f8c; font-family:newtimeroman; color:#FFF9ED; font-size:150%; text-align:center; border-radius:10px 10px;\">TASK 15 - PLOTTING THE DISTRIBUTION OF WEATHER CODE BY SEASON</p>\n",
    "\n",
    "<a id=\"16\"></a>\n",
    "<a href=\"#toc\" class=\"btn btn-primary btn-sm\" role=\"button\" aria-pressed=\"true\" \n",
    "style=\"color:blue; background-color:#dfa8e4\" data-toggle=\"popover\">Content</a>"
   ]
  },
  {
   "cell_type": "code",
   "execution_count": null,
   "metadata": {
    "colab": {
     "base_uri": "https://localhost:8080/",
     "height": 280
    },
    "id": "hPDyFzw320I2",
    "outputId": "cde97b83-ffea-43be-b07f-edc4188f7fda"
   },
   "outputs": [],
   "source": [
    "# with seaborn countplot\n",
    "\n",
    "sns.countplot(x=\"weather_code\", data=df);"
   ]
  },
  {
   "cell_type": "code",
   "execution_count": null,
   "metadata": {
    "colab": {
     "base_uri": "https://localhost:8080/",
     "height": 376
    },
    "id": "LRnODYJ_20I2",
    "outputId": "43ce47f2-40fc-4472-9b5a-6df290ee5532"
   },
   "outputs": [],
   "source": [
    "# with catplot\n",
    "\n",
    "g = sns.catplot(x=\"weather_code\", col=\"season\", data=df, kind='count');"
   ]
  },
  {
   "cell_type": "code",
   "execution_count": null,
   "metadata": {
    "id": "7I1DmPTsphf8"
   },
   "outputs": [],
   "source": [
    "plt.figure(figsize=(10, 6))\n",
    "# with catplot\n",
    "\n",
    "sns.catplot(x=\"weather_code\", \n",
    "            row=\"season\", \n",
    "            data=df, \n",
    "            kind='violin');"
   ]
  },
  {
   "cell_type": "code",
   "execution_count": null,
   "metadata": {},
   "outputs": [],
   "source": [
    "df.weather_code.unique()"
   ]
  },
  {
   "cell_type": "markdown",
   "metadata": {},
   "source": [
    "## BONUS"
   ]
  },
  {
   "cell_type": "code",
   "execution_count": null,
   "metadata": {},
   "outputs": [],
   "source": [
    "# Thu Lux is an extra visualization Libarary \n",
    "# which is, at the begining of your analysis, beneficial to get first insight about the data before going further.\n",
    "\n",
    "# import lux\n",
    "# !pip install lux-api\n",
    "# !jupyter nbextension install --py luxwidget\n",
    "# !jupyter nbextension enable --py luxwidget"
   ]
  },
  {
   "cell_type": "code",
   "execution_count": null,
   "metadata": {},
   "outputs": [],
   "source": [
    "df"
   ]
  },
  {
   "cell_type": "markdown",
   "metadata": {},
   "source": [
    "## <p style=\"background-color:#9d4f8c; font-family:newtimeroman; color:#FFF9ED; font-size:150%; text-align:center; border-radius:10px 10px;\">THE END OF THE CAPSTONE PROJECT</p>\n",
    "\n",
    "<a id=\"17\"></a>\n",
    "<a href=\"#toc\" class=\"btn btn-primary btn-sm\" role=\"button\" aria-pressed=\"true\" \n",
    "style=\"color:blue; background-color:#dfa8e4\" data-toggle=\"popover\">Content</a>"
   ]
  },
  {
   "cell_type": "markdown",
   "metadata": {
    "id": "flznMCqEAzac"
   },
   "source": [
    "___\n",
    "\n",
    "<p style=\"text-align: center;\"><img src=\"https://docs.google.com/uc?id=1lY0Uj5R04yMY3-ZppPWxqCr5pvBLYPnV\" class=\"img-fluid\" \n",
    "alt=\"CLRSWY\"></p>\n",
    "\n",
    "## <p style=\"background-color:#FDFEFE; font-family:newtimeroman; color:#9d4f8c; font-size:100%; text-align:center; border-radius:10px 10px;\">WAY TO REINVENT YOURSELF</p>\n",
    "\n",
    "___"
   ]
  }
 ],
 "metadata": {
  "colab": {
   "collapsed_sections": [],
   "name": "DV_capstone_solution.ipynb",
   "provenance": [],
   "toc_visible": true
  },
  "kernelspec": {
   "display_name": "Python 3 (ipykernel)",
   "language": "python",
   "name": "python3"
  },
  "language_info": {
   "codemirror_mode": {
    "name": "ipython",
    "version": 3
   },
   "file_extension": ".py",
   "mimetype": "text/x-python",
   "name": "python",
   "nbconvert_exporter": "python",
   "pygments_lexer": "ipython3",
   "version": "3.9.15"
  },
  "toc": {
   "base_numbering": 1,
   "nav_menu": {},
   "number_sections": false,
   "sideBar": true,
   "skip_h1_title": false,
   "title_cell": "Table of Contents",
   "title_sidebar": "Contents",
   "toc_cell": false,
   "toc_position": {},
   "toc_section_display": true,
   "toc_window_display": false
  }
 },
 "nbformat": 4,
 "nbformat_minor": 4
}
