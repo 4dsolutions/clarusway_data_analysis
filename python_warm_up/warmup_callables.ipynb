{
 "cells": [
  {
   "cell_type": "markdown",
   "id": "c77bfc68-550c-4683-a4f8-ae964b17656b",
   "metadata": {},
   "source": [
    "<a href=\"https://colab.research.google.com/github/4dsolutions/clarusway_data_analysis/blob/main/python_warm_up/warmup_callables.ipynb\"><img align=\"left\" src=\"https://colab.research.google.com/assets/colab-badge.svg\" alt=\"Open in Colab\" title=\"Open and Execute in Google Colaboratory\"></a><br/>\n",
    "[![nbviewer](https://raw.githubusercontent.com/jupyter/design/master/logos/Badges/nbviewer_badge.svg)](https://nbviewer.org/github/4dsolutions/clarusway_data_analysis/blob/main/python_warm_up/warmup_callables.ipynb)"
   ]
  },
  {
   "cell_type": "markdown",
   "id": "ef82818c-617b-4f31-a5ab-8baac60ccbab",
   "metadata": {},
   "source": [
    "# Calling Callables and Type Checking\n",
    "\n",
    "<a data-flickr-embed=\"true\" href=\"https://www.flickr.com/photos/kirbyurner/52563704012/in/album-72177720296706479/\" title=\"LMS Dashboard\"><img src=\"https://live.staticflickr.com/65535/52563704012_71ef4beb8a_b.jpg\" width=\"1024\" height=\"354\" alt=\"LMS Dashboard\"></a><script async src=\"//embedr.flickr.com/assets/client-code.js\" charset=\"utf-8\"></script>"
   ]
  },
  {
   "cell_type": "markdown",
   "id": "b19a6fc1-0ff5-4c84-873b-523cbacd73b3",
   "metadata": {},
   "source": [
    "Python Warm-up Notebooks:\n",
    "\n",
    "*  [Introduction to Python](warmup_python_intro.ipynb)\n",
    "*  [3rd Party Libraries](warmup_3rd_party_datascience.ipynb)\n",
    "*  [Object Types](warmup_data_structures.ipynb)\n",
    "*  [Object Oriented Paradigm](warmup_object_oriented.ipynb)\n",
    "*  [Calling Callables and Type Checking](warmup_callables.ipynb)  (you are here)\n",
    "*  [Class and Static Methods, Properties](warmup_object_oriented2.ipynb)\n",
    "*  [SQLite3 and Context Managers](warmup_object_sql.ipynb) \n",
    "*  [Iterators and Generators](warmup_generators.ipynb)"
   ]
  },
  {
   "cell_type": "markdown",
   "id": "139343a2-6033-44e9-b0ba-bc95cc9f7dee",
   "metadata": {},
   "source": [
    "## Arguments vs Parameters\n",
    "\n",
    "A callable is an object \"with a mouth\" meaning it \"eats arguments\" through a pair of parentheses.  When we define a callable, we set up how parameters will match up with arguments, either positionally or by name, or both.\n",
    "\n",
    "Learning how to read the header line, with the keyword def, is important for understanding documentation.  \n",
    "\n",
    "Which arguments are optional because they have default values?  \n",
    "\n",
    "Which arguments are simply optional?"
   ]
  },
  {
   "cell_type": "code",
   "execution_count": 1,
   "id": "5618c368-699b-4011-ae1f-fc19968e3598",
   "metadata": {},
   "outputs": [],
   "source": [
    "def anyfunc(param0, param1, /, param2=10, *, param3):\n",
    "    print(param0, param1, param2, param3)"
   ]
  },
  {
   "cell_type": "code",
   "execution_count": 2,
   "id": "114019b9-0bcb-48de-b27c-59d9318b4de7",
   "metadata": {},
   "outputs": [
    {
     "name": "stdout",
     "output_type": "stream",
     "text": [
      "1 2 10 9\n"
     ]
    }
   ],
   "source": [
    "anyfunc(1, 2, param3=9)"
   ]
  },
  {
   "cell_type": "markdown",
   "id": "436f3d71-e8e5-4ad7-800d-2b36bf33b401",
   "metadata": {},
   "source": [
    "Above, the arguments 1 and 2 are passed positionally, meaning no name is given.  Arguments get matched with parameters in simple left to right order.\n",
    "\n",
    "`param3` is passed by name. It has to be as that's what \"star alone\" means:  everything to its right must be passed by name.  This \"star alone\" is entirely optional.\n",
    "\n",
    "The slash by itself, also optional, indicates the everything to its left must be passed positionally.  Named arguments would not be permitted."
   ]
  },
  {
   "cell_type": "code",
   "execution_count": 3,
   "id": "9f372083-6cc9-47f5-8c2b-93cc21f17086",
   "metadata": {},
   "outputs": [
    {
     "name": "stdout",
     "output_type": "stream",
     "text": [
      "1 2 3 9\n"
     ]
    }
   ],
   "source": [
    "anyfunc(1, 2, 3, param3=9)"
   ]
  },
  {
   "cell_type": "markdown",
   "id": "cf8a661d-85e0-4d36-94bd-2bba6ea92b67",
   "metadata": {},
   "source": [
    "The above function call obeys all the rules.  \n",
    "\n",
    "Although `param2` is named and has a default value, we're free to address it positionally, because it's to the right of the slash.  We're not compelled to use its name.  \n",
    "\n",
    "`param3` on the other hand, because to the right of the star, must be named, and does not need a default value."
   ]
  },
  {
   "cell_type": "markdown",
   "id": "022750cd-c2eb-402a-97f0-9b14b775b570",
   "metadata": {},
   "source": [
    "Let's summarize these rules:\n",
    "\n",
    "* arguments are matched with parameters in left to right order\n",
    "* all positionally passed arguments must be to the left of named arguments\n",
    "* named arguments may be passed in any order\n",
    "* parameters to the left of a slash only take positional arguments\n",
    "* parameters to the right of a star only take named arguments"
   ]
  },
  {
   "cell_type": "markdown",
   "id": "0f8ce1f5-f0f7-4d57-937a-33e8c6f69225",
   "metadata": {},
   "source": [
    "## Packing and Unpacking\n",
    "\n",
    "We still haven't explored all the syntax though.  Python has unary operators `*` and `**` that let us \"gather\" and \"scatter\" depending on where used.\n",
    "\n",
    "Below, the starred name packs multiple assignments into a tuple.  The name `a` pairs with 1, and `b` pairs with the remainder of the objects, gathered into a list"
   ]
  },
  {
   "cell_type": "code",
   "execution_count": 4,
   "id": "3788f5da-f35a-42d3-96bf-3735e998a360",
   "metadata": {},
   "outputs": [],
   "source": [
    "a, *b = 1, 2, 3, 4, 5, 6"
   ]
  },
  {
   "cell_type": "code",
   "execution_count": 5,
   "id": "57e16043-45f0-4b7c-9dc6-8fc55bca3ae8",
   "metadata": {},
   "outputs": [
    {
     "data": {
      "text/plain": [
       "1"
      ]
     },
     "execution_count": 5,
     "metadata": {},
     "output_type": "execute_result"
    }
   ],
   "source": [
    "a"
   ]
  },
  {
   "cell_type": "code",
   "execution_count": 6,
   "id": "2e203a61-845f-414e-81ce-744c97cd671f",
   "metadata": {},
   "outputs": [
    {
     "data": {
      "text/plain": [
       "[2, 3, 4, 5, 6]"
      ]
     },
     "execution_count": 6,
     "metadata": {},
     "output_type": "execute_result"
    }
   ],
   "source": [
    "b"
   ]
  },
  {
   "cell_type": "markdown",
   "id": "c8fae38a-8d27-4a75-9266-0a4487af9928",
   "metadata": {},
   "source": [
    "The `*a` below gathers up all but one of the assigned objects, leaving `b` to match up with 6"
   ]
  },
  {
   "cell_type": "code",
   "execution_count": 7,
   "id": "cd4c6a1f-ec36-4059-b72d-6f7aa55fc799",
   "metadata": {},
   "outputs": [],
   "source": [
    "*a, b = 1, 2, 3, 4, 5, 6"
   ]
  },
  {
   "cell_type": "code",
   "execution_count": 8,
   "id": "8619a80a-2ab5-4d5c-bd72-afb9827a8d04",
   "metadata": {},
   "outputs": [
    {
     "data": {
      "text/plain": [
       "[1, 2, 3, 4, 5]"
      ]
     },
     "execution_count": 8,
     "metadata": {},
     "output_type": "execute_result"
    }
   ],
   "source": [
    "a"
   ]
  },
  {
   "cell_type": "code",
   "execution_count": 9,
   "id": "020fef22-3b46-428e-9357-5f8c5b3c8f91",
   "metadata": {},
   "outputs": [
    {
     "data": {
      "text/plain": [
       "6"
      ]
     },
     "execution_count": 9,
     "metadata": {},
     "output_type": "execute_result"
    }
   ],
   "source": [
    "b"
   ]
  },
  {
   "cell_type": "markdown",
   "id": "ea7ab9f0-bd87-4234-a34b-93338d445a27",
   "metadata": {},
   "source": [
    "The function below will gather up any positionally passed arguments, after the left one, as tuple `b`.  Any unmatched named arguments, in this case all of them, get bundled up into a dictionary named `c`, thanks to the double-star operator."
   ]
  },
  {
   "cell_type": "code",
   "execution_count": 10,
   "id": "e8fc8ac6-5697-4349-a03b-6cc729491a72",
   "metadata": {},
   "outputs": [],
   "source": [
    "def some_func(a, *b, **c):\n",
    "    print(f'a={a}, b={b}, c={c}')"
   ]
  },
  {
   "cell_type": "code",
   "execution_count": 11,
   "id": "7a833f32-4aa8-48ed-971c-b278e44fe154",
   "metadata": {},
   "outputs": [
    {
     "name": "stdout",
     "output_type": "stream",
     "text": [
      "a=1, b=(2, 3, 4), c={'argA': 'A', 'argB': 'B'}\n"
     ]
    }
   ],
   "source": [
    "some_func(1, 2, 3, 4, argA = 'A', argB = 'B')"
   ]
  },
  {
   "cell_type": "markdown",
   "id": "c971a83b-17c7-4272-a0d0-41fb0bf86117",
   "metadata": {},
   "source": [
    "Finally, when passing arguments to a callable, the `*` and `**` have an inverse meaning.  \n",
    "\n",
    "The `*` says to \"scatter this single object into multiple positional arguments\", whereas the `**` says to \"scatter this dictionary into multiple named arguments."
   ]
  },
  {
   "cell_type": "code",
   "execution_count": 12,
   "id": "489bc202-bd3b-44b4-a1d9-e9eac63d0c28",
   "metadata": {},
   "outputs": [],
   "source": [
    "def my_func(a, *b, **c):  # gather all positionals after a into b\n",
    "    print(f\"a={a}, b={b}, c={c}\")"
   ]
  },
  {
   "cell_type": "code",
   "execution_count": 13,
   "id": "3ceeab54-91eb-4c95-ba06-a1274540fab7",
   "metadata": {},
   "outputs": [
    {
     "name": "stdout",
     "output_type": "stream",
     "text": [
      "a=a0, b=('b0', 'b1', 'b2', 'b3'), c={'print': True, 'copy': False}\n"
     ]
    }
   ],
   "source": [
    "my_func('a0', 'b0', 'b1', 'b2', 'b3', **{'print': True, 'copy': False})  # scatter dict"
   ]
  },
  {
   "cell_type": "markdown",
   "id": "62691040-523c-479f-8d46-b8decdb8726f",
   "metadata": {},
   "source": [
    "## Type Hints and Annotations\n",
    "\n",
    "Python uses what we call \"dynamic typing\" meaning names may be repointed to objects of another type at any time.  There's no \"declaring types\" at design time.\n",
    "\n",
    "However, if we wish a more \"static\" typing regime, we're free to use [function annotations](https://peps.python.org/pep-3107/), and [annotations more generally](https://docs.python.org/3/library/typing.html), and then check for consistency using libraries, such as `mypy`.\n",
    "\n",
    "On a first pass through Python, when first learning the languages, you might want to ignore type hints and annotations, just as the Python interpreter does.  Then learn how to gradually specify type hints without checking them.  Then start checking them.\n",
    "\n",
    "One reason to study type hints and function annotations on a first pass is to be able to read others' code and not get lost or confused."
   ]
  },
  {
   "cell_type": "code",
   "execution_count": 14,
   "id": "1777590e-2b9e-469f-b501-13ed99ccac74",
   "metadata": {},
   "outputs": [],
   "source": [
    "def checked_func(a: int, b: float):\n",
    "    print(f\"a={a}, b={b}\")"
   ]
  },
  {
   "cell_type": "code",
   "execution_count": 15,
   "id": "740b1c44-64d6-4de4-8d2a-6493415729d5",
   "metadata": {},
   "outputs": [
    {
     "data": {
      "text/plain": [
       "{'a': int, 'b': float}"
      ]
     },
     "execution_count": 15,
     "metadata": {},
     "output_type": "execute_result"
    }
   ],
   "source": [
    "checked_func.__annotations__"
   ]
  },
  {
   "cell_type": "code",
   "execution_count": 16,
   "id": "988d3937-7757-4db7-b3b2-522ad1a1ab93",
   "metadata": {},
   "outputs": [
    {
     "name": "stdout",
     "output_type": "stream",
     "text": [
      "a=a, b=b\n"
     ]
    }
   ],
   "source": [
    "checked_func('a', 'b')  # the interpreter doesn't care that we ignore type hints"
   ]
  },
  {
   "cell_type": "markdown",
   "id": "1deb1ca9-0478-441a-a995-5f9b7ed390c8",
   "metadata": {},
   "source": [
    "Applying complicated annotations, such as requiring a list of strings, or list of dicts, requires making use of [the `typing` module](https://docs.python.org/3/library/typing.html).  This module allows us to invent our own types in terms of how they're structured."
   ]
  },
  {
   "cell_type": "code",
   "execution_count": 17,
   "id": "01757052-5f24-46eb-b865-3a780ab47083",
   "metadata": {},
   "outputs": [
    {
     "data": {
      "text/plain": [
       "{'x': 5, 'y': 7}"
      ]
     },
     "execution_count": 17,
     "metadata": {},
     "output_type": "execute_result"
    }
   ],
   "source": [
    "from typing import TypedDict\n",
    "\n",
    "Vec2D = TypedDict('Vec2D', {'x': int, 'y': int})  # keys x, y with int values\n",
    "\n",
    "def add(p0: Vec2D, p1: Vec2D) -> Vec2D:\n",
    "    return {'x' : p0['x'] + p1['x'], 'y' : p0['y'] + p1['y']}\n",
    "\n",
    "add({'x':1, 'y':2}, {'x':4, 'y':5})"
   ]
  },
  {
   "cell_type": "code",
   "execution_count": 18,
   "id": "d65f0d4c-bbbc-4347-a052-702d0d6f4df8",
   "metadata": {},
   "outputs": [
    {
     "data": {
      "text/plain": [
       "{'p0': __main__.Vec2D, 'p1': __main__.Vec2D, 'return': __main__.Vec2D}"
      ]
     },
     "execution_count": 18,
     "metadata": {},
     "output_type": "execute_result"
    }
   ],
   "source": [
    "add.__annotations__"
   ]
  },
  {
   "cell_type": "markdown",
   "id": "5bdf51ee-ecf9-4b26-bdce-c88179a0ca9f",
   "metadata": {},
   "source": [
    "Summarizing our code so far, before running `mypy` from the OS command line..."
   ]
  },
  {
   "cell_type": "code",
   "execution_count": 19,
   "id": "35d1ab72-600b-4a3e-a614-c47ddcf53d6e",
   "metadata": {},
   "outputs": [
    {
     "name": "stdout",
     "output_type": "stream",
     "text": [
      "{'x': 5, 'y': 7.0}\n",
      "a=a, b=b\n"
     ]
    }
   ],
   "source": [
    "# %load code_demos_typing.py\n",
    "#!/usr/bin/env python3\n",
    "\"\"\"\n",
    "Created on Wed Mar  1 08:37:46 2023\n",
    "\n",
    "@author: kirby urner\n",
    "\"\"\"\n",
    "\n",
    "from typing import TypedDict\n",
    "\n",
    "Vec2D = TypedDict('Vec2D', {'x': int, 'y': int})\n",
    "\n",
    "def add(p0: Vec2D, p1: Vec2D) -> Vec2D:\n",
    "    return {'x' : p0['x'] + p1['x'], 'y' : p0['y'] + p1['y']}\n",
    "\n",
    "result = add({'x':1, 'y':2.0}, {'x':4, 'y':5})\n",
    "print(result)\n",
    "\n",
    "def checked_func(a: int, b: float):\n",
    "    print(f\"a={a}, b={b}\")\n",
    "    \n",
    "checked_func('a', 'b')  # the interpreter doesn't care that we ignore type hints"
   ]
  },
  {
   "cell_type": "markdown",
   "id": "cdc17dc7-661e-42dc-85df-ce0f3f87eda4",
   "metadata": {},
   "source": [
    "Everything as fine as far as the Python interpreter is concerned."
   ]
  },
  {
   "cell_type": "markdown",
   "id": "514e47ff-d28b-4e32-93c5-cc6d8a0cf0f2",
   "metadata": {},
   "source": [
    "Now lets run the same source code through `mypy`, a 3rd party package you may need to install."
   ]
  },
  {
   "cell_type": "code",
   "execution_count": 20,
   "id": "aa7ea0ca-c923-4496-9b6e-4cff0ff6c8a7",
   "metadata": {},
   "outputs": [
    {
     "name": "stdout",
     "output_type": "stream",
     "text": [
      "code_demos_typing.py:16: \u001b[1m\u001b[31merror:\u001b[m Incompatible types (expression has type \u001b[m\u001b[1m\"float\"\u001b[m, TypedDict item \u001b[m\u001b[1m\"y\"\u001b[m has type \u001b[m\u001b[1m\"int\"\u001b[m)\u001b[m\n",
      "code_demos_typing.py:22: \u001b[1m\u001b[31merror:\u001b[m Argument 1 to \u001b[m\u001b[1m\"checked_func\"\u001b[m has incompatible type \u001b[m\u001b[1m\"str\"\u001b[m; expected \u001b[m\u001b[1m\"int\"\u001b[m\u001b[m\n",
      "code_demos_typing.py:22: \u001b[1m\u001b[31merror:\u001b[m Argument 2 to \u001b[m\u001b[1m\"checked_func\"\u001b[m has incompatible type \u001b[m\u001b[1m\"str\"\u001b[m; expected \u001b[m\u001b[1m\"float\"\u001b[m\u001b[m\n",
      "\u001b[1m\u001b[31mFound 3 errors in 1 file (checked 1 source file)\u001b[m\n"
     ]
    }
   ],
   "source": [
    "! mypy code_demos_typing.py  # ! means 'run at the operating system level'"
   ]
  }
 ],
 "metadata": {
  "kernelspec": {
   "display_name": "Python 3 (ipykernel)",
   "language": "python",
   "name": "python3"
  },
  "language_info": {
   "codemirror_mode": {
    "name": "ipython",
    "version": 3
   },
   "file_extension": ".py",
   "mimetype": "text/x-python",
   "name": "python",
   "nbconvert_exporter": "python",
   "pygments_lexer": "ipython3",
   "version": "3.9.15"
  }
 },
 "nbformat": 4,
 "nbformat_minor": 5
}
