{
 "cells": [
  {
   "cell_type": "markdown",
   "id": "812dc3a4-e44b-490f-bb61-b8dd4f38e112",
   "metadata": {},
   "source": [
    "<a href=\"https://colab.research.google.com/github/4dsolutions/clarusway_data_analysis/blob/main/python_warm_up/warmup_object_oriented.ipynb\"><img align=\"left\" src=\"https://colab.research.google.com/assets/colab-badge.svg\" alt=\"Open in Colab\" title=\"Open and Execute in Google Colaboratory\"></a><br/>\n",
    "[![nbviewer](https://raw.githubusercontent.com/jupyter/design/master/logos/Badges/nbviewer_badge.svg)](https://nbviewer.org/github/4dsolutions/clarusway_data_analysis/blob/main/python_warm_up/warmup_object_oriented.ipynb)\n"
   ]
  },
  {
   "cell_type": "markdown",
   "id": "7ba28c09-bae0-4c01-918f-69ba5e517440",
   "metadata": {},
   "source": [
    "# Object Oriented Programming\n",
    "\n",
    "<a data-flickr-embed=\"true\" href=\"https://www.flickr.com/photos/kirbyurner/52563704012/in/album-72177720296706479/\" title=\"LMS Dashboard\"><img src=\"https://live.staticflickr.com/65535/52563704012_71ef4beb8a_b.jpg\" width=\"1024\" height=\"354\" alt=\"LMS Dashboard\"></a><script async src=\"//embedr.flickr.com/assets/client-code.js\" charset=\"utf-8\"></script>"
   ]
  },
  {
   "cell_type": "markdown",
   "id": "d87f6f0c-c32c-4bf2-b64b-f301429c7a06",
   "metadata": {},
   "source": [
    "Python Warm-up Notebooks:\n",
    "\n",
    "*  [Introduction to Python](warmup_python_intro.ipynb)\n",
    "*  [3rd Party Libraries](warmup_3rd_party_datascience.ipynb)\n",
    "*  [Object Types](warmup_data_structures.ipynb)\n",
    "*  [Object Oriented Paradigm](warmup_object_oriented.ipynb)  (you are here)\n",
    "*  [Calling Callables and Type Checking](warmup_callables.ipynb)\n",
    "*  [Class and Static Methods, Properties](warmup_object_oriented2.ipynb)\n",
    "*  [SQLite3 and Context Managers](warmup_object_sql.ipynb)\n",
    "*  [Iterators and Generators](warmup_generators.ipynb) "
   ]
  },
  {
   "cell_type": "markdown",
   "id": "89efd105-711e-40c1-a23f-e51dd89300a0",
   "metadata": {},
   "source": [
    "You may have heard that Python is object oriented (which is true), and wondered what that meant.  \n",
    "\n",
    "Certainly Python isn't the only object oriented language.  Smalltalk was among the first. \n",
    "\n",
    "The new grammar, based on the metaphor of types (classes) and instances, was considered a breakthrough in its day, and many languages learned from Smalltalk. \n",
    "\n",
    "We also have non-OO languages, such as those branding themselves as \"functional programming languages\". The grandfather FP language is LISP.\n",
    "\n",
    "Python is flexible enough to allow an FP like style, meaning you might use it as a stepping stone to [a more purely functional one](https://www.indeed.com/career-advice/career-development/functional-programming-languages).\n",
    "\n",
    "The OO way of thinking is meant to match your ordinary understanding of nouns and verbs.  Nouns are things, what we call objects, and verbs are the things the nouns do, their methods and abilities.  \n",
    "\n",
    "Things also have properties, or attributes, such as color and size.\n",
    "\n",
    "### Types\n",
    "\n",
    "What a thing might be expected to do, depends on its type.  That's how it works in ordinary language.  Depending on the type of something, we have different expectations for it.\n",
    "\n",
    "An Animal type thing is expected to eat, sleep, have a size and color.  \n",
    "\n",
    "A Car type thing is expected to start, brake, turn, have passengers...\n",
    "\n",
    "A file type thing is expected to open and close, and be read, possibly added to or overwritten.\n",
    "\n",
    "A Deck (as in deck of cards) is expected to shuffle, and deal a hand.\n",
    "\n",
    "The list of possible types is endless.  Some types come with the language (list, str, dict etc.), whereas the language itself is designed to encourage the programmer create new types, depending on the challenge at hand.\n",
    "\n",
    "### Instances\n",
    "\n",
    "The Car or Animal type is supposed to be generic, defining the verbs and properties that all examples of a Car or Animal would share.  \n",
    "\n",
    "Individual Car or Animal objects would be called instances.  From the same blueprint or template, one may instantiate any number of unique and distinct cars and/or animals in memory.  They all share the same code, but each occupies its own place in memory, as something unique."
   ]
  },
  {
   "cell_type": "code",
   "execution_count": 1,
   "id": "b41dc477-54e0-4fe0-9f6d-ba5da03ce680",
   "metadata": {},
   "outputs": [],
   "source": [
    "class Animal:\n",
    "    \"\"\"\n",
    "    The blueprint which all the instances or self objects will share\n",
    "    \"\"\"\n",
    "    \n",
    "    version = 1.0\n",
    "    \n",
    "    def __init__(self):     # a self is born\n",
    "        self.stomach = []   # ... with an empty stomach\n",
    "        \n",
    "    def eat(self, food):    # a verb, something I, an Animal self, do\n",
    "        self.stomach.append(food)\n",
    "        \n",
    "    def __repr__(self):     # classes have this way to represent themselves\n",
    "        return \"Animal at \" + str(id(self)) # show where in memory"
   ]
  },
  {
   "cell_type": "code",
   "execution_count": 2,
   "id": "39e76b36-d73e-4e10-8a53-b6d0474ce56e",
   "metadata": {},
   "outputs": [],
   "source": [
    "donkey = Animal()  # triggers __init__, the...\n",
    "duck = Animal()    # ... birth method, initializer,\n",
    "snake = Animal()   # constructor (these are synonyms)"
   ]
  },
  {
   "cell_type": "code",
   "execution_count": 3,
   "id": "bd7dad16-7e73-4e16-8106-12116f5ef216",
   "metadata": {},
   "outputs": [
    {
     "data": {
      "text/plain": [
       "[]"
      ]
     },
     "execution_count": 3,
     "metadata": {},
     "output_type": "execute_result"
    }
   ],
   "source": [
    "donkey.stomach     # empty, created by __init__"
   ]
  },
  {
   "cell_type": "code",
   "execution_count": 4,
   "id": "2db1dda5-c71a-4819-a43f-7db533bf1b5d",
   "metadata": {},
   "outputs": [],
   "source": [
    "donkey.eat(\"🍕\")   # slice of pizza emoji -- allowed in strings"
   ]
  },
  {
   "cell_type": "code",
   "execution_count": 5,
   "id": "14693740-7422-4f5e-a711-394cfb69bb2d",
   "metadata": {},
   "outputs": [
    {
     "data": {
      "text/plain": [
       "['🍕']"
      ]
     },
     "execution_count": 5,
     "metadata": {},
     "output_type": "execute_result"
    }
   ],
   "source": [
    "donkey.stomach"
   ]
  },
  {
   "cell_type": "code",
   "execution_count": 6,
   "id": "1b7d70fb-b463-4f92-ac6f-0c4bdbfdba7a",
   "metadata": {},
   "outputs": [
    {
     "data": {
      "text/plain": [
       "[]"
      ]
     },
     "execution_count": 6,
     "metadata": {},
     "output_type": "execute_result"
    }
   ],
   "source": [
    "duck.stomach       # still empty"
   ]
  },
  {
   "cell_type": "code",
   "execution_count": 7,
   "id": "a1a533b2-a574-4f7d-92c8-443b6fa89aab",
   "metadata": {},
   "outputs": [
    {
     "data": {
      "text/plain": [
       "Animal at 140356459046800"
      ]
     },
     "execution_count": 7,
     "metadata": {},
     "output_type": "execute_result"
    }
   ],
   "source": [
    "snake              # triggers __repr__"
   ]
  },
  {
   "cell_type": "code",
   "execution_count": 8,
   "id": "57e9be4d-a867-44f3-9ee7-e9ba9170e42a",
   "metadata": {},
   "outputs": [],
   "source": [
    "import random      # lots of random number shoptalk"
   ]
  },
  {
   "cell_type": "code",
   "execution_count": 9,
   "id": "94d32a0a-e257-46ec-ba21-a5675608518f",
   "metadata": {},
   "outputs": [],
   "source": [
    "foods = ['🍕', '🥯', '🍿']   # more food emoji (feel free to add more)"
   ]
  },
  {
   "cell_type": "markdown",
   "id": "b0c98dd5-d0a6-4012-8145-36b4eb69b965",
   "metadata": {},
   "source": [
    "In the for loop below, the name turn is assigned each element in the range, in turn, i.e. 0, 1, 2... up to 9.  The name `turn` is not special.  It is not a keyword.  We could use any legal Python name in its place, including even '_'."
   ]
  },
  {
   "cell_type": "code",
   "execution_count": 10,
   "id": "37dea1b0-ed90-4f45-9196-55f4a4bfba0c",
   "metadata": {},
   "outputs": [],
   "source": [
    "for turn in range(10):\n",
    "    # have the snake eat a random food 10 x\n",
    "    snake.eat(random.choice(foods))"
   ]
  },
  {
   "cell_type": "code",
   "execution_count": 11,
   "id": "78a34669-e9c4-409d-8715-91d1d957e430",
   "metadata": {},
   "outputs": [
    {
     "data": {
      "text/plain": [
       "['🥯', '🥯', '🍿', '🍕', '🥯', '🥯', '🍿', '🍕', '🍕', '🍿']"
      ]
     },
     "execution_count": 11,
     "metadata": {},
     "output_type": "execute_result"
    }
   ],
   "source": [
    "snake.stomach"
   ]
  },
  {
   "cell_type": "code",
   "execution_count": 12,
   "id": "d8407640-6756-4b0e-84b9-db642e2770dd",
   "metadata": {},
   "outputs": [
    {
     "data": {
      "text/plain": [
       "3"
      ]
     },
     "execution_count": 12,
     "metadata": {},
     "output_type": "execute_result"
    }
   ],
   "source": [
    "snake.stomach.count('🍿')"
   ]
  },
  {
   "cell_type": "code",
   "execution_count": 13,
   "id": "41e61aea-ebb3-4f4c-a0b5-66459706cd7d",
   "metadata": {},
   "outputs": [
    {
     "name": "stdout",
     "output_type": "stream",
     "text": [
      "🍕 3\n",
      "🥯 4\n",
      "🍿 3\n"
     ]
    }
   ],
   "source": [
    "for food in foods:\n",
    "    print(food, snake.stomach.count(food))"
   ]
  },
  {
   "cell_type": "code",
   "execution_count": 14,
   "id": "e9febe19-5076-4078-ba3b-5367c1016d6a",
   "metadata": {},
   "outputs": [
    {
     "data": {
      "text/plain": [
       "[]"
      ]
     },
     "execution_count": 14,
     "metadata": {},
     "output_type": "execute_result"
    }
   ],
   "source": [
    "duck.stomach  # the duck is still hungry"
   ]
  },
  {
   "cell_type": "code",
   "execution_count": 15,
   "id": "59a25ac3-ef90-4e1f-9145-3f93d46fe711",
   "metadata": {},
   "outputs": [],
   "source": [
    "for _ in range(10):\n",
    "    # have the snake eat a random food 10 x\n",
    "    duck.eat(random.choice(foods))"
   ]
  },
  {
   "cell_type": "code",
   "execution_count": 16,
   "id": "36c4a3d4-7a12-455b-922b-1da437c348a6",
   "metadata": {},
   "outputs": [
    {
     "data": {
      "text/plain": [
       "['🍿', '🍿', '🍿', '🍿', '🥯', '🍕', '🍕', '🍕', '🍕', '🥯']"
      ]
     },
     "execution_count": 16,
     "metadata": {},
     "output_type": "execute_result"
    }
   ],
   "source": [
    "duck.stomach"
   ]
  },
  {
   "cell_type": "markdown",
   "id": "b25eb59b-82db-4f68-8a1d-8ba5ef46cbbe",
   "metadata": {},
   "source": [
    "**Exercise:**\n",
    "\n",
    "Feed the fish.  \n",
    "\n",
    "Make a fish Animal by assigning the name `fish` to whatever Animal returns when called.  Follow the same pattern as with the donkey, duck and snake.\n",
    "\n",
    "NOTE:  Python names are unquoted.  When the string 'fish' occurs in quotes, it's a string, a type of object.  A Python name is not an object but a way of referring to an object by name.  \n",
    "\n",
    "The `=` symbol is most formally called \"the assignment operator\".  It's not claiming two things to be equal, or testing equality.  It's assigning a name on the left to an object on the right."
   ]
  },
  {
   "cell_type": "markdown",
   "id": "41675ba1-26de-42a1-8843-25ef0df40aa7",
   "metadata": {},
   "source": [
    "## Dunder Dict (`__dict__`)\n",
    "\n",
    "When we Pythonistas say \"dunder\" we mean \"double underline\" i.e. a word with two underlines before and after some word.  You might also call them `__ribs__`.  Pythons, and snakes in general, have lots of `__ribs__`.\n",
    "\n",
    "We have already encountered some of these special names:  `__init__`, `__repr__` and `__builtins__` (that last one was in a previous notebook).\n",
    "\n",
    "These double underline names are baked right into Python.  \n",
    "\n",
    "They should remind you of \"behind the scenes\" scaffolding, because they're often meant to be unobtrusive.  Programmers use them.  End users might not, or not as much."
   ]
  },
  {
   "cell_type": "code",
   "execution_count": 17,
   "id": "4bf0984f-ed0e-41f7-b6a6-aadd7e66765f",
   "metadata": {},
   "outputs": [
    {
     "data": {
      "text/plain": [
       "{'stomach': ['🍿', '🍿', '🍿', '🍿', '🥯', '🍕', '🍕', '🍕', '🍕', '🥯']}"
      ]
     },
     "execution_count": 17,
     "metadata": {},
     "output_type": "execute_result"
    }
   ],
   "source": [
    "duck.__dict__"
   ]
  },
  {
   "cell_type": "markdown",
   "id": "079ada01-c419-4ffc-8e81-f1a90483bcee",
   "metadata": {},
   "source": [
    "Python lets us add attributes to an object even though the template class makes no mention of these.  \n",
    "\n",
    "Our duck instance (of Animal) gets an empty stomach at birth, thanks to `Animal.__init__`.  Every new Animal gets one of those.\n",
    "\n",
    "Adding name, color and weight, as shown below, will add to the duck's dunder dict, but will leave the Animal class completely unaffected.  \n",
    "\n",
    "The snake and donkey objects have no knowledge of these new properties."
   ]
  },
  {
   "cell_type": "code",
   "execution_count": 18,
   "id": "9c37c5eb-5501-45f3-a83b-382930bda1c6",
   "metadata": {},
   "outputs": [],
   "source": [
    "duck.name = \"Duffy the Duck\"\n",
    "duck.color = \"Black\"\n",
    "duck.weight = \"2.1 Kg\""
   ]
  },
  {
   "cell_type": "code",
   "execution_count": 19,
   "id": "295a3456-9eb7-48e9-870d-3784c0452e2c",
   "metadata": {},
   "outputs": [
    {
     "data": {
      "text/plain": [
       "{'stomach': ['🍿', '🍿', '🍿', '🍿', '🥯', '🍕', '🍕', '🍕', '🍕', '🥯'],\n",
       " 'name': 'Duffy the Duck',\n",
       " 'color': 'Black',\n",
       " 'weight': '2.1 Kg'}"
      ]
     },
     "execution_count": 19,
     "metadata": {},
     "output_type": "execute_result"
    }
   ],
   "source": [
    "duck.__dict__"
   ]
  },
  {
   "cell_type": "markdown",
   "id": "49817c8f-b472-4a5a-99c7-f20435706801",
   "metadata": {},
   "source": [
    "Now lets build these added attributes into the Animal class itself.  What calling Animal, one is free to pass in these extra details, or not.  Leaving an attribute blank will mean assigning it None, the default value."
   ]
  },
  {
   "cell_type": "code",
   "execution_count": 20,
   "id": "f6ab2d66-278f-461a-a43f-a6e81fc8e567",
   "metadata": {},
   "outputs": [],
   "source": [
    "class Animal:\n",
    "    \n",
    "    version = 2.0\n",
    "    \n",
    "    def __init__(self, nm=None, c=None, w=None):     # a self is born\n",
    "        self.color   = c\n",
    "        self.weight  = w\n",
    "        self.name    = nm\n",
    "        self.stomach = []   # ... with an empty stomach\n",
    "        \n",
    "    def eat(self, food):    # a verb, something I, an Animal self, do\n",
    "        self.stomach.append(food)\n",
    "        \n",
    "    def __repr__(self):    \n",
    "        # show name, where in memory\n",
    "        return \"Animal named {} at {}\".format(self.name, id(self)) \n",
    "        "
   ]
  },
  {
   "cell_type": "code",
   "execution_count": 21,
   "id": "aa3dc67b-b758-4c46-af14-0c0ed7a6fef5",
   "metadata": {},
   "outputs": [],
   "source": [
    "snake = Animal('Barry', 'yellow and brown', '1 kg')"
   ]
  },
  {
   "cell_type": "code",
   "execution_count": 22,
   "id": "0e61c0df-8400-4292-b4fe-886a64e4aaca",
   "metadata": {},
   "outputs": [
    {
     "data": {
      "text/plain": [
       "Animal named Barry at 140356459307744"
      ]
     },
     "execution_count": 22,
     "metadata": {},
     "output_type": "execute_result"
    }
   ],
   "source": [
    "snake"
   ]
  },
  {
   "cell_type": "code",
   "execution_count": 23,
   "id": "4b0ed57b-d1b6-4869-bab9-f7a2d0639a3b",
   "metadata": {},
   "outputs": [
    {
     "data": {
      "text/plain": [
       "{'color': 'yellow and brown', 'weight': '1 kg', 'name': 'Barry', 'stomach': []}"
      ]
     },
     "execution_count": 23,
     "metadata": {},
     "output_type": "execute_result"
    }
   ],
   "source": [
    "snake.__dict__"
   ]
  },
  {
   "cell_type": "markdown",
   "id": "dc9c9d08-ff3a-4fc4-889c-a56f7f7f6c06",
   "metadata": {},
   "source": [
    "## Composing Functions\n",
    "\n",
    "You may have studied the composition of functions in high school.\n",
    "\n",
    "Suppose we have functions f and g.  These are two callables, that return objects.  \n",
    "\n",
    "If we feed an argument to f, get a result, and feed that result to g, we can say \"g after f\" and write it like this:\n",
    "\n",
    "$$\n",
    "(g \\circ f)(x) = g(f(x))\n",
    "$$\n",
    "\n",
    "The little circle is a \"compose\" operator."
   ]
  },
  {
   "cell_type": "code",
   "execution_count": 24,
   "id": "0cfb2f7b-3973-4262-823d-1b465f1c67c7",
   "metadata": {},
   "outputs": [],
   "source": [
    "def f(x):\n",
    "    return x + 2\n",
    "\n",
    "def g(x):\n",
    "    return x ** 2"
   ]
  },
  {
   "cell_type": "code",
   "execution_count": 25,
   "id": "7b0c1524-e0f2-4444-8c36-6e5c91dce4ce",
   "metadata": {},
   "outputs": [
    {
     "data": {
      "text/plain": [
       "102"
      ]
     },
     "execution_count": 25,
     "metadata": {},
     "output_type": "execute_result"
    }
   ],
   "source": [
    "f(g(10))  # f after g"
   ]
  },
  {
   "cell_type": "code",
   "execution_count": 26,
   "id": "c0bc098f-b7b6-418d-981b-584190e074c5",
   "metadata": {},
   "outputs": [
    {
     "data": {
      "text/plain": [
       "144"
      ]
     },
     "execution_count": 26,
     "metadata": {},
     "output_type": "execute_result"
    }
   ],
   "source": [
    "g(f(10))  # g after f"
   ]
  },
  {
   "cell_type": "code",
   "execution_count": 27,
   "id": "a1c335c0-bc3e-41ea-ba90-4fae39255629",
   "metadata": {},
   "outputs": [
    {
     "data": {
      "text/plain": [
       "108326464"
      ]
     },
     "execution_count": 27,
     "metadata": {},
     "output_type": "execute_result"
    }
   ],
   "source": [
    "g(f(f(g(f(g(10))))))  # a long chain"
   ]
  },
  {
   "cell_type": "markdown",
   "id": "82f6042c-6d6d-4fe3-99b1-8b354ecec856",
   "metadata": {},
   "source": [
    "This last call could be written in fancier math notaton using $\\LaTeX$ as:\n",
    "\n",
    "$$\n",
    "(g \\circ f \\circ f \\circ g \\circ f \\circ g)(10)\n",
    "$$"
   ]
  },
  {
   "cell_type": "markdown",
   "id": "a437e630-815a-4239-87c7-b1f00c626af6",
   "metadata": {},
   "source": [
    "Python functions do not natively multiply together.  However, using \"special names\", `__mul__` in particular, we might repurpose the asterisk to stand in for the circle operator, also known as the \"compose\" operator."
   ]
  },
  {
   "cell_type": "code",
   "execution_count": 28,
   "id": "f4465f05-9911-4848-a349-2ec110b65f03",
   "metadata": {},
   "outputs": [],
   "source": [
    "class Compose:\n",
    "    \n",
    "    def __init__(self, a_function):\n",
    "        \"store a function\"\n",
    "        self.f = a_function\n",
    "        \n",
    "    def __call__(self, x):\n",
    "        \"call the stored function\"\n",
    "        return self.f(x)\n",
    "    \n",
    "    def __mul__(self, other):\n",
    "        \"compose stored function with another one\"\n",
    "        # self is callable\n",
    "        return Compose(lambda x: self(other(x)))"
   ]
  },
  {
   "cell_type": "code",
   "execution_count": 29,
   "id": "d63c99eb-34d9-4c94-88bf-0af776cc3b8c",
   "metadata": {},
   "outputs": [],
   "source": [
    "f = Compose(f)\n",
    "g = Compose(g)"
   ]
  },
  {
   "cell_type": "code",
   "execution_count": 30,
   "id": "6f26d71d-85da-498d-94fc-ed55c566c03a",
   "metadata": {},
   "outputs": [
    {
     "data": {
      "text/plain": [
       "12"
      ]
     },
     "execution_count": 30,
     "metadata": {},
     "output_type": "execute_result"
    }
   ],
   "source": [
    "f(10)  # these still work as advertised..."
   ]
  },
  {
   "cell_type": "code",
   "execution_count": 31,
   "id": "990effde-756d-4b43-bfe2-45f493bd2e77",
   "metadata": {},
   "outputs": [
    {
     "data": {
      "text/plain": [
       "100"
      ]
     },
     "execution_count": 31,
     "metadata": {},
     "output_type": "execute_result"
    }
   ],
   "source": [
    "g(10)  # even though they're Compose type objects"
   ]
  },
  {
   "cell_type": "code",
   "execution_count": 32,
   "id": "d8213d66-37c8-46bc-bc30-84d6a15cdbdd",
   "metadata": {},
   "outputs": [
    {
     "data": {
      "text/plain": [
       "__main__.Compose"
      ]
     },
     "execution_count": 32,
     "metadata": {},
     "output_type": "execute_result"
    }
   ],
   "source": [
    "type(f)"
   ]
  },
  {
   "cell_type": "code",
   "execution_count": 33,
   "id": "9ec5f500-265f-4f26-a1c5-13f37226d07d",
   "metadata": {},
   "outputs": [
    {
     "data": {
      "text/plain": [
       "__main__.Compose"
      ]
     },
     "execution_count": 33,
     "metadata": {},
     "output_type": "execute_result"
    }
   ],
   "source": [
    "type(g)"
   ]
  },
  {
   "cell_type": "code",
   "execution_count": 34,
   "id": "7a67ac61-77f4-4b1b-ac2a-ae1c528cb91e",
   "metadata": {},
   "outputs": [
    {
     "data": {
      "text/plain": [
       "<__main__.Compose at 0x7fa748e86790>"
      ]
     },
     "execution_count": 34,
     "metadata": {},
     "output_type": "execute_result"
    }
   ],
   "source": [
    "f"
   ]
  },
  {
   "cell_type": "code",
   "execution_count": 35,
   "id": "dc96e01e-65db-4aa9-be93-58615d506f06",
   "metadata": {},
   "outputs": [
    {
     "data": {
      "text/plain": [
       "<__main__.Compose at 0x7fa748e86bb0>"
      ]
     },
     "execution_count": 35,
     "metadata": {},
     "output_type": "execute_result"
    }
   ],
   "source": [
    "g"
   ]
  },
  {
   "cell_type": "code",
   "execution_count": 36,
   "id": "7aaeff97-b8b7-4793-8754-fd41a5a64d31",
   "metadata": {},
   "outputs": [],
   "source": [
    "h = f * g  # this works!"
   ]
  },
  {
   "cell_type": "code",
   "execution_count": 37,
   "id": "108d6913-f98a-49b4-9524-080c4d796a82",
   "metadata": {},
   "outputs": [
    {
     "data": {
      "text/plain": [
       "102"
      ]
     },
     "execution_count": 37,
     "metadata": {},
     "output_type": "execute_result"
    }
   ],
   "source": [
    "h(10)"
   ]
  },
  {
   "cell_type": "code",
   "execution_count": 38,
   "id": "0c72240f-020f-4f9c-b8f7-3ff62a573ed8",
   "metadata": {},
   "outputs": [
    {
     "data": {
      "text/plain": [
       "144"
      ]
     },
     "execution_count": 38,
     "metadata": {},
     "output_type": "execute_result"
    }
   ],
   "source": [
    "h = g * f\n",
    "h(10)"
   ]
  },
  {
   "cell_type": "code",
   "execution_count": 39,
   "id": "f3726f86-118a-4c97-8763-c4d014808eb6",
   "metadata": {},
   "outputs": [
    {
     "data": {
      "text/plain": [
       "108326464"
      ]
     },
     "execution_count": 39,
     "metadata": {},
     "output_type": "execute_result"
    }
   ],
   "source": [
    "(g * f * f * g * f * g)(10)  # a long chain"
   ]
  },
  {
   "cell_type": "code",
   "execution_count": 40,
   "id": "baee28ee-fe54-413b-bc34-6047f80f4bc3",
   "metadata": {},
   "outputs": [
    {
     "data": {
      "text/plain": [
       "108326464"
      ]
     },
     "execution_count": 40,
     "metadata": {},
     "output_type": "execute_result"
    }
   ],
   "source": [
    "g(f(f(g(f(g(10)))))) "
   ]
  },
  {
   "cell_type": "markdown",
   "id": "9047db19-4043-4b15-a9cc-097db39064b1",
   "metadata": {},
   "source": [
    "## Decorator Syntax\n",
    "\n",
    "Notice how in the examples above, we transformed f and g into Compose type objects, and yet we still wanted them to behave much as before, as callables.\n",
    "\n",
    "We ended up doing something like this:"
   ]
  },
  {
   "cell_type": "code",
   "execution_count": 41,
   "id": "9f8343c6-18d5-439b-af77-e82e503545ac",
   "metadata": {},
   "outputs": [
    {
     "data": {
      "text/plain": [
       "108326464"
      ]
     },
     "execution_count": 41,
     "metadata": {},
     "output_type": "execute_result"
    }
   ],
   "source": [
    "def f(x):\n",
    "    return x + 2\n",
    "\n",
    "def g(x):\n",
    "    return x ** 2\n",
    "\n",
    "f = Compose(f)\n",
    "g = Compose(g)\n",
    "\n",
    "(g * f * f * g * f * g)(10)  # a long chain"
   ]
  },
  {
   "cell_type": "markdown",
   "id": "4721f76b-dad9-4fb4-81e7-6ec0aaa9a3cb",
   "metadata": {},
   "source": [
    "Python offers some special syntax for when we want to eat an object, and return an object by the same name, yet somehow transformed.  We call it \"decorator syntax\"."
   ]
  },
  {
   "cell_type": "code",
   "execution_count": 42,
   "id": "65bcacd1-aa4b-402f-94e3-2f6cdcc32b02",
   "metadata": {},
   "outputs": [
    {
     "data": {
      "text/plain": [
       "108326464"
      ]
     },
     "execution_count": 42,
     "metadata": {},
     "output_type": "execute_result"
    }
   ],
   "source": [
    "@Compose\n",
    "def f(x):\n",
    "    return x + 2\n",
    "\n",
    "@Compose\n",
    "def g(x):\n",
    "    return x ** 2\n",
    "\n",
    "# f = Compose(f)  <-- already accomplished \n",
    "# g = Compose(g)  <-- what @ did at define time\n",
    "\n",
    "(g * f * f * g * f * g)(10)  # a long chain"
   ]
  },
  {
   "cell_type": "markdown",
   "id": "5de77e58-d592-4bdb-a088-c3e025775e0d",
   "metadata": {},
   "source": [
    "@Compose \"eats\" the function f (or g) defined right beneath it, and defines a Compose type object of the same name instead, *as if* we had fed it to Compose per the commented out statements."
   ]
  }
 ],
 "metadata": {
  "kernelspec": {
   "display_name": "Python 3 (ipykernel)",
   "language": "python",
   "name": "python3"
  },
  "language_info": {
   "codemirror_mode": {
    "name": "ipython",
    "version": 3
   },
   "file_extension": ".py",
   "mimetype": "text/x-python",
   "name": "python",
   "nbconvert_exporter": "python",
   "pygments_lexer": "ipython3",
   "version": "3.9.15"
  }
 },
 "nbformat": 4,
 "nbformat_minor": 5
}
