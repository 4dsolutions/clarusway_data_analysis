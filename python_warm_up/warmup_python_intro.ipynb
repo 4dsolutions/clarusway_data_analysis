{
 "cells": [
  {
   "cell_type": "markdown",
   "id": "a80e2cc9-c576-460f-9048-f0b46a599b08",
   "metadata": {},
   "source": [
    "## Python's Many Libraries and Namespaces\n",
    "\n",
    "<a data-flickr-embed=\"true\" href=\"https://www.flickr.com/photos/kirbyurner/52563704012/in/album-72177720296706479/\" title=\"LMS Dashboard\"><img src=\"https://live.staticflickr.com/65535/52563704012_71ef4beb8a_b.jpg\" width=\"1024\" height=\"354\" alt=\"LMS Dashboard\"></a><script async src=\"//embedr.flickr.com/assets/client-code.js\" charset=\"utf-8\"></script>"
   ]
  },
  {
   "cell_type": "markdown",
   "id": "6f4e115a-43b9-4ca9-accb-8508bc0c6b08",
   "metadata": {},
   "source": [
    "Like most computer languages, Python comes with a library, where what we call \"books\" (in a library) are called \"modules\" and \"packages\".  \n",
    "\n",
    "The library that comes with Python when you get it from Python's home, is called [the Standard Library](https://docs.python.org/3/library/index.html).  Any true and complete Python should come with that.\n",
    "\n",
    "In addition to the Standard Library, are all the packages and modules you write yourself and/or install.  If they're from outside the Standard Library, we call them \"3rd party\".  \n",
    "\n",
    "Python's 3rd party libraries have helped make Python very useful in many walks of life.  We will spend most of our time, as data analysts, using 3rd party packages, such as `numpy` and `pandas`."
   ]
  },
  {
   "cell_type": "markdown",
   "id": "504380bc-f206-42ff-aa42-b5b0543483b9",
   "metadata": {},
   "source": [
    "Let's start by using Python as a calculator.  One of the classic tutorials, originally by Guido himself, Python's inventor, is called *Using Python as a Calculator*.  [Check it out!](https://docs.python.org/3.9/tutorial/introduction.html#using-python-as-a-calculator)"
   ]
  },
  {
   "cell_type": "code",
   "execution_count": 1,
   "id": "a2a49ec0-8452-4b22-a002-358a7393a8b1",
   "metadata": {},
   "outputs": [
    {
     "data": {
      "text/plain": [
       "4"
      ]
     },
     "execution_count": 1,
     "metadata": {},
     "output_type": "execute_result"
    }
   ],
   "source": [
    "2 + 2"
   ]
  },
  {
   "cell_type": "code",
   "execution_count": 2,
   "id": "11f83c6a-54a5-4f22-85e6-b43719b0d292",
   "metadata": {},
   "outputs": [
    {
     "data": {
      "text/plain": [
       "4"
      ]
     },
     "execution_count": 2,
     "metadata": {},
     "output_type": "execute_result"
    }
   ],
   "source": [
    "2 * 2"
   ]
  },
  {
   "cell_type": "code",
   "execution_count": 3,
   "id": "096a84fd-27e6-4513-9839-0527e09ee1c3",
   "metadata": {},
   "outputs": [
    {
     "data": {
      "text/plain": [
       "4"
      ]
     },
     "execution_count": 3,
     "metadata": {},
     "output_type": "execute_result"
    }
   ],
   "source": [
    "2 ** 2"
   ]
  },
  {
   "cell_type": "markdown",
   "id": "6ba4eced-958f-455b-8c5a-55cfce444ac5",
   "metadata": {},
   "source": [
    "Python right out of the box knows a lot of math.  But it doesn't know trigonometry or how to take logarithms.  Things an ordinary scientific calculator would know how to do.  \n",
    "\n",
    "In order to access these additional mathematical capabilities, you might import ```math``` from the Standard Library.  \n",
    "\n",
    "Like this:"
   ]
  },
  {
   "cell_type": "code",
   "execution_count": 4,
   "id": "9630a71e-01b3-4d9e-b760-779dd7d24bd7",
   "metadata": {},
   "outputs": [],
   "source": [
    "import math"
   ]
  },
  {
   "cell_type": "markdown",
   "id": "60d51051-7b42-42c1-a4c2-87e18394b812",
   "metadata": {},
   "source": [
    "Where is this math module I just imported?  We can check:"
   ]
  },
  {
   "cell_type": "code",
   "execution_count": 5,
   "id": "1e18d2d1-10a4-484d-bc5c-360561e7ef7e",
   "metadata": {},
   "outputs": [
    {
     "data": {
      "text/plain": [
       "'/Users/kirbyurner/opt/anaconda3/lib/python3.9/lib-dynload/math.cpython-39-darwin.so'"
      ]
     },
     "execution_count": 5,
     "metadata": {},
     "output_type": "execute_result"
    }
   ],
   "source": [
    "math.__file__"
   ]
  },
  {
   "cell_type": "markdown",
   "id": "ae7b6043-227b-4dc4-be4f-56d398d4c50c",
   "metadata": {},
   "source": [
    "NOTE:  Your location will be different, and your file extension may not be `.so` but `.dll` instead (if on Windows).  \n",
    "\n",
    "The math module is compiled C code.  What we call CPython, which is the reference Python, the one most people use, is itself written in the C language.  \n",
    "\n",
    "A lot of its modules and packages are written in Python (look for the `.pyc` extension), but some, like `math` are written directly in C."
   ]
  },
  {
   "cell_type": "code",
   "execution_count": 6,
   "id": "5155ba58-a6aa-4a6b-a3f8-1725e8c4dfd6",
   "metadata": {},
   "outputs": [
    {
     "name": "stdout",
     "output_type": "stream",
     "text": [
      "['__doc__', '__file__', '__loader__', '__name__', '__package__', '__spec__', 'acos', 'acosh', 'asin', 'asinh', 'atan', 'atan2', 'atanh', 'ceil', 'comb', 'copysign', 'cos', 'cosh', 'degrees', 'dist', 'e', 'erf', 'erfc', 'exp', 'expm1', 'fabs', 'factorial', 'floor', 'fmod', 'frexp', 'fsum', 'gamma', 'gcd', 'hypot', 'inf', 'isclose', 'isfinite', 'isinf', 'isnan', 'isqrt', 'lcm', 'ldexp', 'lgamma', 'log', 'log10', 'log1p', 'log2', 'modf', 'nan', 'nextafter', 'perm', 'pi', 'pow', 'prod', 'radians', 'remainder', 'sin', 'sinh', 'sqrt', 'tan', 'tanh', 'tau', 'trunc', 'ulp']\n"
     ]
    }
   ],
   "source": [
    "print(dir(math))"
   ]
  },
  {
   "cell_type": "markdown",
   "id": "50e4aaab-5ff3-4090-a736-9855282a8de2",
   "metadata": {},
   "source": [
    "The above print statement is dumping out a list of all the names the `math` namespace contains.  \n",
    "\n",
    "The idea of a namespace is not unique to Python.  Think of how, in everyday life, you come across many jargons, many shoptalks.  Think of namespaces as shoptalks. A shoptalk comes with every profession, every hobby, every sport."
   ]
  },
  {
   "cell_type": "markdown",
   "id": "11d3dd05-3e5d-45ea-adc8-f4807190718c",
   "metadata": {},
   "source": [
    "If you uncomment (remove the hash tag) from the code below, you will get a helpful summary of what the math module (in the Standard Library) contains."
   ]
  },
  {
   "cell_type": "code",
   "execution_count": 7,
   "id": "36294f7c-cd4b-488e-9c33-0de28e79e3a3",
   "metadata": {},
   "outputs": [],
   "source": [
    "# help(math)"
   ]
  },
  {
   "cell_type": "markdown",
   "id": "7bfedad3-603d-46a2-ab7f-067608068fbf",
   "metadata": {},
   "source": [
    "Lets import and look inside another namespace:"
   ]
  },
  {
   "cell_type": "code",
   "execution_count": 8,
   "id": "bdf4a3af-59c5-4a7c-b5c3-964d96145720",
   "metadata": {},
   "outputs": [
    {
     "name": "stdout",
     "output_type": "stream",
     "text": [
      "['Formatter', 'Template', '_ChainMap', '__all__', '__builtins__', '__cached__', '__doc__', '__file__', '__loader__', '__name__', '__package__', '__spec__', '_re', '_sentinel_dict', '_string', 'ascii_letters', 'ascii_lowercase', 'ascii_uppercase', 'capwords', 'digits', 'hexdigits', 'octdigits', 'printable', 'punctuation', 'whitespace']\n"
     ]
    }
   ],
   "source": [
    "import string\n",
    "print(dir(string))"
   ]
  },
  {
   "cell_type": "markdown",
   "id": "db9bce87-1d66-463f-bc36-5c20f85ab507",
   "metadata": {},
   "source": [
    "Aha! These names look less \"mathy\" and more \"stringy\" i.e. they have to do with character strings.  Lets try some of these out..."
   ]
  },
  {
   "cell_type": "code",
   "execution_count": 9,
   "id": "db8da3c8-699a-4d63-8ea0-c43218fa5ba2",
   "metadata": {},
   "outputs": [
    {
     "data": {
      "text/plain": [
       "'abcdefghijklmnopqrstuvwxyzABCDEFGHIJKLMNOPQRSTUVWXYZ'"
      ]
     },
     "execution_count": 9,
     "metadata": {},
     "output_type": "execute_result"
    }
   ],
   "source": [
    "string.ascii_letters"
   ]
  },
  {
   "cell_type": "code",
   "execution_count": 10,
   "id": "9cf3fbf0-310e-4e28-8bb5-0d5dfce8d49c",
   "metadata": {},
   "outputs": [
    {
     "data": {
      "text/plain": [
       "'!\"#$%&\\'()*+,-./:;<=>?@[\\\\]^_`{|}~'"
      ]
     },
     "execution_count": 10,
     "metadata": {},
     "output_type": "execute_result"
    }
   ],
   "source": [
    "string.punctuation"
   ]
  },
  {
   "cell_type": "code",
   "execution_count": 11,
   "id": "78653225-be4e-4322-b1d1-15ea540f6a63",
   "metadata": {},
   "outputs": [
    {
     "data": {
      "text/plain": [
       "'0123456789'"
      ]
     },
     "execution_count": 11,
     "metadata": {},
     "output_type": "execute_result"
    }
   ],
   "source": [
    "string.digits"
   ]
  },
  {
   "cell_type": "markdown",
   "id": "524f1608-bc89-48ff-a463-79d197bb2e20",
   "metadata": {},
   "source": [
    "Notice the single quote marks delimited characters in between.  You may use the single quote, double quote, triple single quote, and triple double quote.  Let's practice:"
   ]
  },
  {
   "cell_type": "code",
   "execution_count": 12,
   "id": "cc8a6d55-6abe-4ba3-99fd-352a4e389ff7",
   "metadata": {},
   "outputs": [],
   "source": [
    "a = \"assign this string to name a\"  # notice double quotes\n",
    "b = '...and this string to name b'  # notice single quotes\n",
    "c = \"\"\"triple quotes let\n",
    "me include line breaks\n",
    "in my string\"\"\"\n",
    "d = '''either triple single,\n",
    "or triple double'''"
   ]
  },
  {
   "cell_type": "code",
   "execution_count": 13,
   "id": "a8861c6a-4d59-4c37-a61d-1feaad7252b9",
   "metadata": {},
   "outputs": [
    {
     "name": "stdout",
     "output_type": "stream",
     "text": [
      "assign this string to name a\n",
      "...and this string to name b\n",
      "triple quotes let\n",
      "me include line breaks\n",
      "in my string\n",
      "either triple single,\n",
      "or triple double\n"
     ]
    }
   ],
   "source": [
    "for the_string in a, b, c, d:  # <-- we call this a for loop\n",
    "    print(the_string)"
   ]
  },
  {
   "cell_type": "markdown",
   "id": "f8f2d358-346c-4d0c-b11b-c34e53baaa03",
   "metadata": {},
   "source": [
    "NOTE:  there are other ways to import.  You might want to bring some of the names from math into the \"top level\" namespace, so that no prefix is necessary.  Instead of `math.sqrt` (for square root), you'll be able to go `sqrt` directly."
   ]
  },
  {
   "cell_type": "code",
   "execution_count": 14,
   "id": "20c96f2d-1d55-47c7-94e1-c195c34bd337",
   "metadata": {},
   "outputs": [
    {
     "data": {
      "text/plain": [
       "10.0"
      ]
     },
     "execution_count": 14,
     "metadata": {},
     "output_type": "execute_result"
    }
   ],
   "source": [
    "math.sqrt(100)"
   ]
  },
  {
   "cell_type": "code",
   "execution_count": 15,
   "id": "749e4f00-e93a-496e-be7f-5512027b4280",
   "metadata": {},
   "outputs": [],
   "source": [
    "from math import sqrt"
   ]
  },
  {
   "cell_type": "code",
   "execution_count": 16,
   "id": "0794b891-6d75-414b-b6e5-fa51bf03ebef",
   "metadata": {},
   "outputs": [
    {
     "data": {
      "text/plain": [
       "7.0"
      ]
     },
     "execution_count": 16,
     "metadata": {},
     "output_type": "execute_result"
    }
   ],
   "source": [
    "sqrt(49)"
   ]
  },
  {
   "cell_type": "markdown",
   "id": "5ce7136f-cb86-4f1c-937a-c4fc12734d75",
   "metadata": {},
   "source": [
    "Since taking the 2nd root is the same as raising to the 1/2 power, Python is actually able to do roots without importing anything.  But `sqrt` is a convenience.  Think `calculator keys` -- that's what `math` provides.  And that's just for starters."
   ]
  },
  {
   "cell_type": "code",
   "execution_count": 17,
   "id": "e68d0251-42b0-4b07-bf7a-d9f2aa716ac4",
   "metadata": {},
   "outputs": [
    {
     "data": {
      "text/plain": [
       "7.0"
      ]
     },
     "execution_count": 17,
     "metadata": {},
     "output_type": "execute_result"
    }
   ],
   "source": [
    "pow(49, 1/2) # 2nd root"
   ]
  },
  {
   "cell_type": "code",
   "execution_count": 18,
   "id": "e6f5d7f2-4979-411a-8260-30db8838aa72",
   "metadata": {},
   "outputs": [
    {
     "data": {
      "text/plain": [
       "3.0"
      ]
     },
     "execution_count": 18,
     "metadata": {},
     "output_type": "execute_result"
    }
   ],
   "source": [
    "pow(27, 1/3)  # 3rd root"
   ]
  },
  {
   "cell_type": "markdown",
   "id": "475dba95-6973-40d1-a670-9fe4db4087f4",
   "metadata": {},
   "source": [
    "## Summary\n",
    "\n",
    "Python, when you simply boot into it, already provides a rich namespace.  We call this these the \"built-ins\" i.e. what Python knows right out of the starting gate.\n",
    "\n",
    "For example, it would make no sense to ```import math``` if Python did not already know what it means to ```import```.  "
   ]
  },
  {
   "cell_type": "markdown",
   "id": "d1fb35a6-3348-40bb-9187-7f2672770e24",
   "metadata": {},
   "source": [
    "Let's dump out everything Python knows right when you start it fresh:"
   ]
  },
  {
   "cell_type": "code",
   "execution_count": 19,
   "id": "a45ce186-7c79-4a90-a528-6310da398e22",
   "metadata": {},
   "outputs": [
    {
     "name": "stdout",
     "output_type": "stream",
     "text": [
      "['ArithmeticError', 'AssertionError', 'AttributeError', 'BaseException', 'BlockingIOError', 'BrokenPipeError', 'BufferError', 'BytesWarning', 'ChildProcessError', 'ConnectionAbortedError', 'ConnectionError', 'ConnectionRefusedError', 'ConnectionResetError', 'DeprecationWarning', 'EOFError', 'Ellipsis', 'EnvironmentError', 'Exception', 'False', 'FileExistsError', 'FileNotFoundError', 'FloatingPointError', 'FutureWarning', 'GeneratorExit', 'IOError', 'ImportError', 'ImportWarning', 'IndentationError', 'IndexError', 'InterruptedError', 'IsADirectoryError', 'KeyError', 'KeyboardInterrupt', 'LookupError', 'MemoryError', 'ModuleNotFoundError', 'NameError', 'None', 'NotADirectoryError', 'NotImplemented', 'NotImplementedError', 'OSError', 'OverflowError', 'PendingDeprecationWarning', 'PermissionError', 'ProcessLookupError', 'RecursionError', 'ReferenceError', 'ResourceWarning', 'RuntimeError', 'RuntimeWarning', 'StopAsyncIteration', 'StopIteration', 'SyntaxError', 'SyntaxWarning', 'SystemError', 'SystemExit', 'TabError', 'TimeoutError', 'True', 'TypeError', 'UnboundLocalError', 'UnicodeDecodeError', 'UnicodeEncodeError', 'UnicodeError', 'UnicodeTranslateError', 'UnicodeWarning', 'UserWarning', 'ValueError', 'Warning', 'ZeroDivisionError', '__IPYTHON__', '__build_class__', '__debug__', '__doc__', '__import__', '__loader__', '__name__', '__package__', '__spec__', 'abs', 'all', 'any', 'ascii', 'bin', 'bool', 'breakpoint', 'bytearray', 'bytes', 'callable', 'chr', 'classmethod', 'compile', 'complex', 'copyright', 'credits', 'delattr', 'dict', 'dir', 'display', 'divmod', 'enumerate', 'eval', 'exec', 'execfile', 'filter', 'float', 'format', 'frozenset', 'get_ipython', 'getattr', 'globals', 'hasattr', 'hash', 'help', 'hex', 'id', 'input', 'int', 'isinstance', 'issubclass', 'iter', 'len', 'license', 'list', 'locals', 'map', 'max', 'memoryview', 'min', 'next', 'object', 'oct', 'open', 'ord', 'pow', 'print', 'property', 'range', 'repr', 'reversed', 'round', 'runfile', 'set', 'setattr', 'slice', 'sorted', 'staticmethod', 'str', 'sum', 'super', 'tuple', 'type', 'vars', 'zip']\n"
     ]
    }
   ],
   "source": [
    "print(dir(__builtins__))"
   ]
  },
  {
   "cell_type": "markdown",
   "id": "ca7f31c2-5121-4ccc-b1b8-e7edbbcf2bd5",
   "metadata": {},
   "source": [
    "You could call this \"a list of names you never need to import because Python already knows them\" i.e. \"they're built in\".\n",
    "\n",
    "You may be able to guess what a few of these do, as many are familiar words.  A lot of this will seem mysterious, and that's OK.  We do not learn Python in a day.  Some of these names are more for \"internal use\" by Python itself.\n",
    "\n",
    "What's important to remember at this juncture is you're looking at another namespace."
   ]
  },
  {
   "cell_type": "code",
   "execution_count": 20,
   "id": "c239efac-1f54-477d-a8e1-3387c938406d",
   "metadata": {},
   "outputs": [
    {
     "name": "stdout",
     "output_type": "stream",
     "text": [
      "The Zen of Python, by Tim Peters\n",
      "\n",
      "Beautiful is better than ugly.\n",
      "Explicit is better than implicit.\n",
      "Simple is better than complex.\n",
      "Complex is better than complicated.\n",
      "Flat is better than nested.\n",
      "Sparse is better than dense.\n",
      "Readability counts.\n",
      "Special cases aren't special enough to break the rules.\n",
      "Although practicality beats purity.\n",
      "Errors should never pass silently.\n",
      "Unless explicitly silenced.\n",
      "In the face of ambiguity, refuse the temptation to guess.\n",
      "There should be one-- and preferably only one --obvious way to do it.\n",
      "Although that way may not be obvious at first unless you're Dutch.\n",
      "Now is better than never.\n",
      "Although never is often better than *right* now.\n",
      "If the implementation is hard to explain, it's a bad idea.\n",
      "If the implementation is easy to explain, it may be a good idea.\n",
      "Namespaces are one honking great idea -- let's do more of those!\n"
     ]
    }
   ],
   "source": [
    "import this  # check out the last line"
   ]
  },
  {
   "cell_type": "code",
   "execution_count": 22,
   "id": "6cf42f86-01c7-451a-9f36-b67b1100874c",
   "metadata": {},
   "outputs": [],
   "source": [
    "# import antigravity  # uncomment, and do this for fun"
   ]
  }
 ],
 "metadata": {
  "kernelspec": {
   "display_name": "Python 3 (ipykernel)",
   "language": "python",
   "name": "python3"
  },
  "language_info": {
   "codemirror_mode": {
    "name": "ipython",
    "version": 3
   },
   "file_extension": ".py",
   "mimetype": "text/x-python",
   "name": "python",
   "nbconvert_exporter": "python",
   "pygments_lexer": "ipython3",
   "version": "3.9.15"
  }
 },
 "nbformat": 4,
 "nbformat_minor": 5
}
