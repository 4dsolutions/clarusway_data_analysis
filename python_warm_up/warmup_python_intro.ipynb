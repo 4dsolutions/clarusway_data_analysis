{
 "cells": [
  {
   "cell_type": "markdown",
   "id": "0819b5b7-a3cb-45a9-9ae3-046b94f40dcf",
   "metadata": {},
   "source": [
    "<a href=\"https://colab.research.google.com/github/4dsolutions/clarusway_data_analysis/blob/main/python_warm_up/warmup_python_intro.ipynb\"><img align=\"left\" src=\"https://colab.research.google.com/assets/colab-badge.svg\" alt=\"Open in Colab\" title=\"Open and Execute in Google Colaboratory\"></a><br/>\n",
    "[![nbviewer](https://raw.githubusercontent.com/jupyter/design/master/logos/Badges/nbviewer_badge.svg)](https://nbviewer.org/github/4dsolutions/clarusway_data_analysis/blob/main/python_warm_up/warmup_python_intro.ipynb)\n"
   ]
  },
  {
   "cell_type": "markdown",
   "id": "a80e2cc9-c576-460f-9048-f0b46a599b08",
   "metadata": {
    "tags": []
   },
   "source": [
    "# Python's Many Libraries and Namespaces\n",
    "\n",
    "<a data-flickr-embed=\"true\" href=\"https://www.flickr.com/photos/kirbyurner/52563704012/in/album-72177720296706479/\" title=\"LMS Dashboard\"><img src=\"https://live.staticflickr.com/65535/52563704012_71ef4beb8a_b.jpg\" width=\"1024\" height=\"354\" alt=\"LMS Dashboard\"></a><script async src=\"//embedr.flickr.com/assets/client-code.js\" charset=\"utf-8\"></script>"
   ]
  },
  {
   "cell_type": "markdown",
   "id": "f720b11b-f18c-4484-b30a-9c81b0bda42d",
   "metadata": {},
   "source": [
    "Python Warm-up Notebooks:\n",
    "\n",
    "*  [Introduction to Python](warmup_python_intro.ipynb)  \\(you are here)\n",
    "*  [3rd Party Libraries](warmup_3rd_party_datascience.ipynb)\n",
    "*  [Object Types](warmup_data_structures.ipynb)\n",
    "*  [Object Oriented Paradigm](warmup_object_oriented.ipynb)\n",
    "*  [Calling Callables and Type Checking](warmup_callables.ipynb)\n",
    "*  [Class and Static Methods, Properties](warmup_object_oriented2.ipynb)\n",
    "*  [SQLite3 and Context Managers](warmup_object_sql.ipynb)\n",
    "*  [Iterators and Generators](warmup_generators.ipynb) "
   ]
  },
  {
   "cell_type": "markdown",
   "id": "6f4e115a-43b9-4ca9-accb-8508bc0c6b08",
   "metadata": {},
   "source": [
    "Like most computer languages, Python comes with a library, where what we call \"books\" (in a library) are called \"modules\" and \"packages\".  \n",
    "\n",
    "The library that comes with Python when you get it from [Python's home](https://python.org), is called [the Standard Library](https://docs.python.org/3/library/index.html).  Any true and complete Python should come with that.\n",
    "\n",
    "In addition to the Standard Library, are all the packages and modules you write yourself and/or install.  If they're from outside the Standard Library, we call them \"3rd party\".  \n",
    "\n",
    "Python's 3rd party libraries have helped make Python very useful in many walks of life.  We will spend most of our time, as data analysts, using 3rd party packages, such as `numpy` and `pandas`."
   ]
  },
  {
   "cell_type": "markdown",
   "id": "ba7882ee-11d6-4125-b91f-1610223ed074",
   "metadata": {},
   "source": [
    "## Levels of Python\n",
    "\n",
    "Python may be usefully presented with five levels, or call them dimensions:\n",
    "\n",
    "* Level 0: core syntax with keywords & punctuation, indentation (import, if...)\n",
    "* Level 1: a large set of built-ins (e.g. print)\n",
    "* Level 2: special names with the double underlines\n",
    "* Level 3: Standard Library (e.g. math)\n",
    "* Level 4: 3rd Party Ecosystem (e.g. numpy, pandas, matplotlib)\n",
    "\n",
    "We take a multi-level approach right from the beginning, spiralling back to add more details with each pass."
   ]
  },
  {
   "cell_type": "markdown",
   "id": "504380bc-f206-42ff-aa42-b5b0543483b9",
   "metadata": {},
   "source": [
    "Let's start at Level 0 by using Python as a calculator.  \n",
    "\n",
    "One of the classic tutorials, originally by Guido himself, Python's inventor, is called *Using Python as a Calculator*.  [Check it out!](https://docs.python.org/3.9/tutorial/introduction.html#using-python-as-a-calculator)"
   ]
  },
  {
   "cell_type": "code",
   "execution_count": 1,
   "id": "a2a49ec0-8452-4b22-a002-358a7393a8b1",
   "metadata": {},
   "outputs": [
    {
     "data": {
      "text/plain": [
       "4"
      ]
     },
     "execution_count": 1,
     "metadata": {},
     "output_type": "execute_result"
    }
   ],
   "source": [
    "2 + 2"
   ]
  },
  {
   "cell_type": "code",
   "execution_count": 2,
   "id": "11f83c6a-54a5-4f22-85e6-b43719b0d292",
   "metadata": {},
   "outputs": [
    {
     "data": {
      "text/plain": [
       "4"
      ]
     },
     "execution_count": 2,
     "metadata": {},
     "output_type": "execute_result"
    }
   ],
   "source": [
    "2 * 2"
   ]
  },
  {
   "cell_type": "code",
   "execution_count": 3,
   "id": "096a84fd-27e6-4513-9839-0527e09ee1c3",
   "metadata": {},
   "outputs": [
    {
     "data": {
      "text/plain": [
       "4"
      ]
     },
     "execution_count": 3,
     "metadata": {},
     "output_type": "execute_result"
    }
   ],
   "source": [
    "2 ** 2"
   ]
  },
  {
   "cell_type": "markdown",
   "id": "d3cba912-a127-4359-abe3-5a582f2c44fc",
   "metadata": {},
   "source": [
    "We're also involving Level 2 although the special names often lie just below the surface.  Here's another way to write the same operations as above:"
   ]
  },
  {
   "cell_type": "code",
   "execution_count": 4,
   "id": "41590269-932c-426b-8048-804a96026c26",
   "metadata": {},
   "outputs": [
    {
     "data": {
      "text/plain": [
       "4"
      ]
     },
     "execution_count": 4,
     "metadata": {},
     "output_type": "execute_result"
    }
   ],
   "source": [
    "2 .__add__(2)  # + triggers __add__"
   ]
  },
  {
   "cell_type": "code",
   "execution_count": 5,
   "id": "d9ec1396-299c-4314-bbbf-2cc1c9c67b6a",
   "metadata": {},
   "outputs": [
    {
     "data": {
      "text/plain": [
       "4"
      ]
     },
     "execution_count": 5,
     "metadata": {},
     "output_type": "execute_result"
    }
   ],
   "source": [
    "2 .__mul__(2)  # * triggers __mul__"
   ]
  },
  {
   "cell_type": "code",
   "execution_count": 6,
   "id": "e23e283a-7127-4d81-b4e5-9669e35b48c0",
   "metadata": {},
   "outputs": [
    {
     "data": {
      "text/plain": [
       "4"
      ]
     },
     "execution_count": 6,
     "metadata": {},
     "output_type": "execute_result"
    }
   ],
   "source": [
    "2 .__pow__(2)  # ** triggers __pow__"
   ]
  },
  {
   "cell_type": "markdown",
   "id": "51dc6e84-78ad-474d-ade4-976b9bf817e6",
   "metadata": {},
   "source": [
    "NOTE:  Every integer, such as 2, contains innate knowledge, which we may access using the \"dot operator\" (some call it \"an accessor\").  Ordinary operators such as +, * and ** actually map to, and trigger, corresponding special methods with funny looking `__rib__`-like names."
   ]
  },
  {
   "cell_type": "markdown",
   "id": "16796df8-102d-49d0-9fc8-cb28d7513649",
   "metadata": {},
   "source": [
    "Try stuff yourself:"
   ]
  },
  {
   "cell_type": "code",
   "execution_count": null,
   "id": "3bcd877a-7a56-4ed8-a1f3-b56bdb607773",
   "metadata": {},
   "outputs": [],
   "source": []
  },
  {
   "cell_type": "code",
   "execution_count": null,
   "id": "02fd177e-43a0-4d75-bf07-ecfafe77edc9",
   "metadata": {},
   "outputs": [],
   "source": []
  },
  {
   "cell_type": "code",
   "execution_count": null,
   "id": "078abb74-1fc5-48ee-b48c-bccbd7555889",
   "metadata": {},
   "outputs": [],
   "source": []
  },
  {
   "cell_type": "markdown",
   "id": "6ba4eced-958f-455b-8c5a-55cfce444ac5",
   "metadata": {},
   "source": [
    "Python right out of the box knows a lot of math.  But it doesn't know trigonometry or how to take logarithms.  Things an ordinary scientific calculator would know how to do.  \n",
    "\n",
    "In order to access these additional mathematical capabilities, you might import ```math``` from the Standard Library.  \n",
    "\n",
    "Like this:"
   ]
  },
  {
   "cell_type": "code",
   "execution_count": 7,
   "id": "9630a71e-01b3-4d9e-b760-779dd7d24bd7",
   "metadata": {},
   "outputs": [],
   "source": [
    "import math"
   ]
  },
  {
   "cell_type": "markdown",
   "id": "60d51051-7b42-42c1-a4c2-87e18394b812",
   "metadata": {},
   "source": [
    "Where is this math module I just imported?  We can check:"
   ]
  },
  {
   "cell_type": "code",
   "execution_count": 8,
   "id": "1e18d2d1-10a4-484d-bc5c-360561e7ef7e",
   "metadata": {},
   "outputs": [
    {
     "data": {
      "text/plain": [
       "'/Users/kirbyurner/opt/anaconda3/lib/python3.9/lib-dynload/math.cpython-39-darwin.so'"
      ]
     },
     "execution_count": 8,
     "metadata": {},
     "output_type": "execute_result"
    }
   ],
   "source": [
    "math.__file__"
   ]
  },
  {
   "cell_type": "markdown",
   "id": "ae7b6043-227b-4dc4-be4f-56d398d4c50c",
   "metadata": {},
   "source": [
    "NOTE:  Your location will be different, and your file extension may not be `.so` but `.dll` instead (if on Windows).  \n",
    "\n",
    "The math module is compiled C code.  What we call CPython, which is the reference Python, the one most people use, is itself written in the C language.  \n",
    "\n",
    "A lot of its modules and packages are written in Python (look for the `.py` and `.pyc` extension), but some, like `math` are written directly in C."
   ]
  },
  {
   "cell_type": "code",
   "execution_count": 9,
   "id": "5155ba58-a6aa-4a6b-a3f8-1725e8c4dfd6",
   "metadata": {},
   "outputs": [
    {
     "name": "stdout",
     "output_type": "stream",
     "text": [
      "['__doc__', '__file__', '__loader__', '__name__', '__package__', '__spec__', 'acos', 'acosh', 'asin', 'asinh', 'atan', 'atan2', 'atanh', 'ceil', 'comb', 'copysign', 'cos', 'cosh', 'degrees', 'dist', 'e', 'erf', 'erfc', 'exp', 'expm1', 'fabs', 'factorial', 'floor', 'fmod', 'frexp', 'fsum', 'gamma', 'gcd', 'hypot', 'inf', 'isclose', 'isfinite', 'isinf', 'isnan', 'isqrt', 'lcm', 'ldexp', 'lgamma', 'log', 'log10', 'log1p', 'log2', 'modf', 'nan', 'nextafter', 'perm', 'pi', 'pow', 'prod', 'radians', 'remainder', 'sin', 'sinh', 'sqrt', 'tan', 'tanh', 'tau', 'trunc', 'ulp']\n"
     ]
    }
   ],
   "source": [
    "print(dir(math))"
   ]
  },
  {
   "cell_type": "markdown",
   "id": "50e4aaab-5ff3-4090-a736-9855282a8de2",
   "metadata": {},
   "source": [
    "The above print statement is dumping out a list of all the names the `math` namespace contains.  \n",
    "\n",
    "The idea of a namespace is not unique to Python.  Think of how, in everyday life, you come across many jargons, many shoptalks.  Think of namespaces as shoptalks. A shoptalk comes with every profession, every hobby, every sport."
   ]
  },
  {
   "cell_type": "markdown",
   "id": "11d3dd05-3e5d-45ea-adc8-f4807190718c",
   "metadata": {},
   "source": [
    "If you uncomment (remove the hash tag) from the code below, you will get a helpful summary of what the math module (in the Standard Library) contains."
   ]
  },
  {
   "cell_type": "code",
   "execution_count": 10,
   "id": "36294f7c-cd4b-488e-9c33-0de28e79e3a3",
   "metadata": {},
   "outputs": [],
   "source": [
    "# help(math)"
   ]
  },
  {
   "cell_type": "code",
   "execution_count": 11,
   "id": "3cd62bb3-f808-4b98-aaae-fbd4ffd82640",
   "metadata": {},
   "outputs": [
    {
     "data": {
      "text/plain": [
       "2.0"
      ]
     },
     "execution_count": 11,
     "metadata": {},
     "output_type": "execute_result"
    }
   ],
   "source": [
    "math.log10(100)"
   ]
  },
  {
   "cell_type": "markdown",
   "id": "38502f64-8acf-47ab-ba54-17c45aea7000",
   "metadata": {},
   "source": [
    "Don't worry if you've forgotten trig.  Let practice with Python be a way to help you remember what you might have learned in high school.  Pretend you're in high school again, learning math."
   ]
  },
  {
   "cell_type": "code",
   "execution_count": 12,
   "id": "a602dfe6-0a3e-46e0-b33c-67f673153bd0",
   "metadata": {},
   "outputs": [
    {
     "data": {
      "text/plain": [
       "0"
      ]
     },
     "execution_count": 12,
     "metadata": {},
     "output_type": "execute_result"
    }
   ],
   "source": [
    "round(math.cos(math.radians(90)))  # round is native"
   ]
  },
  {
   "cell_type": "code",
   "execution_count": 13,
   "id": "1770fe1c-7fe0-4c05-a62d-cdcabd143a7c",
   "metadata": {},
   "outputs": [
    {
     "data": {
      "text/plain": [
       "3.141592653589793"
      ]
     },
     "execution_count": 13,
     "metadata": {},
     "output_type": "execute_result"
    }
   ],
   "source": [
    "math.pi  # a few important constants are built in"
   ]
  },
  {
   "cell_type": "code",
   "execution_count": 14,
   "id": "524577b5-4cae-45cc-a9dd-f37d726bd47e",
   "metadata": {},
   "outputs": [
    {
     "data": {
      "text/plain": [
       "2.718281828459045"
      ]
     },
     "execution_count": 14,
     "metadata": {},
     "output_type": "execute_result"
    }
   ],
   "source": [
    "math.e"
   ]
  },
  {
   "cell_type": "markdown",
   "id": "45b05e1e-a7d6-4af7-b39b-d14667917625",
   "metadata": {},
   "source": [
    "NOTE:  Python is also comfortable with complex numbers and has a Standard Library module `cmath` for working with them.  We don't need to bother with complex numbers much in data science, at least not in an introductory setting.  But it's good to know Python can work with them too."
   ]
  },
  {
   "cell_type": "code",
   "execution_count": 15,
   "id": "7303baf2-f9e6-4602-ad18-11fe8d650dd9",
   "metadata": {},
   "outputs": [],
   "source": [
    "z = 1 + 3j"
   ]
  },
  {
   "cell_type": "code",
   "execution_count": 16,
   "id": "facde032-f6c3-486d-a81e-fff38a4cee55",
   "metadata": {},
   "outputs": [
    {
     "data": {
      "text/plain": [
       "1.0"
      ]
     },
     "execution_count": 16,
     "metadata": {},
     "output_type": "execute_result"
    }
   ],
   "source": [
    "z.real"
   ]
  },
  {
   "cell_type": "code",
   "execution_count": 17,
   "id": "74967873-99ef-43e9-a5d8-636e1bae2d77",
   "metadata": {},
   "outputs": [
    {
     "data": {
      "text/plain": [
       "3.0"
      ]
     },
     "execution_count": 17,
     "metadata": {},
     "output_type": "execute_result"
    }
   ],
   "source": [
    "z.imag"
   ]
  },
  {
   "cell_type": "code",
   "execution_count": 18,
   "id": "76188cb5-6fdf-4a29-918f-168ece79748f",
   "metadata": {},
   "outputs": [
    {
     "data": {
      "text/plain": [
       "3.1622776601683795"
      ]
     },
     "execution_count": 18,
     "metadata": {},
     "output_type": "execute_result"
    }
   ],
   "source": [
    "abs(z)  # length"
   ]
  },
  {
   "cell_type": "code",
   "execution_count": 19,
   "id": "a47b148b-ac6f-4607-8138-d6967e5af87e",
   "metadata": {},
   "outputs": [
    {
     "data": {
      "text/plain": [
       "3.1622776601683795"
      ]
     },
     "execution_count": 19,
     "metadata": {},
     "output_type": "execute_result"
    }
   ],
   "source": [
    "math.hypot(1, 3)  # same answer"
   ]
  },
  {
   "cell_type": "code",
   "execution_count": 20,
   "id": "d8f6047b-f35a-41ee-8b4c-fcdf4c9153c2",
   "metadata": {},
   "outputs": [
    {
     "data": {
      "text/plain": [
       "(1-3j)"
      ]
     },
     "execution_count": 20,
     "metadata": {},
     "output_type": "execute_result"
    }
   ],
   "source": [
    "z.conjugate()     # notice how the dot is used a lot -- characteristic of object oriented languages"
   ]
  },
  {
   "cell_type": "markdown",
   "id": "7bfedad3-603d-46a2-ab7f-067608068fbf",
   "metadata": {},
   "source": [
    "Lets import and look inside another namespace:"
   ]
  },
  {
   "cell_type": "code",
   "execution_count": 21,
   "id": "bdf4a3af-59c5-4a7c-b5c3-964d96145720",
   "metadata": {},
   "outputs": [
    {
     "name": "stdout",
     "output_type": "stream",
     "text": [
      "['Formatter', 'Template', '_ChainMap', '__all__', '__builtins__', '__cached__', '__doc__', '__file__', '__loader__', '__name__', '__package__', '__spec__', '_re', '_sentinel_dict', '_string', 'ascii_letters', 'ascii_lowercase', 'ascii_uppercase', 'capwords', 'digits', 'hexdigits', 'octdigits', 'printable', 'punctuation', 'whitespace']\n"
     ]
    }
   ],
   "source": [
    "import string\n",
    "print(dir(string))"
   ]
  },
  {
   "cell_type": "code",
   "execution_count": 22,
   "id": "e47877f2-2374-4743-beab-de78d3d0d318",
   "metadata": {},
   "outputs": [
    {
     "data": {
      "text/plain": [
       "'/Users/kirbyurner/opt/anaconda3/lib/python3.9/string.py'"
      ]
     },
     "execution_count": 22,
     "metadata": {},
     "output_type": "execute_result"
    }
   ],
   "source": [
    "string.__file__  # this one is written in Python, not C"
   ]
  },
  {
   "cell_type": "markdown",
   "id": "db9bce87-1d66-463f-bc36-5c20f85ab507",
   "metadata": {},
   "source": [
    "Aha! These names look less \"mathy\" and more \"stringy\" i.e. they have to do with character strings.  Lets try some of these out..."
   ]
  },
  {
   "cell_type": "code",
   "execution_count": 23,
   "id": "db8da3c8-699a-4d63-8ea0-c43218fa5ba2",
   "metadata": {},
   "outputs": [
    {
     "data": {
      "text/plain": [
       "'abcdefghijklmnopqrstuvwxyzABCDEFGHIJKLMNOPQRSTUVWXYZ'"
      ]
     },
     "execution_count": 23,
     "metadata": {},
     "output_type": "execute_result"
    }
   ],
   "source": [
    "string.ascii_letters"
   ]
  },
  {
   "cell_type": "code",
   "execution_count": 24,
   "id": "9cf3fbf0-310e-4e28-8bb5-0d5dfce8d49c",
   "metadata": {},
   "outputs": [
    {
     "data": {
      "text/plain": [
       "'!\"#$%&\\'()*+,-./:;<=>?@[\\\\]^_`{|}~'"
      ]
     },
     "execution_count": 24,
     "metadata": {},
     "output_type": "execute_result"
    }
   ],
   "source": [
    "string.punctuation"
   ]
  },
  {
   "cell_type": "code",
   "execution_count": 25,
   "id": "78653225-be4e-4322-b1d1-15ea540f6a63",
   "metadata": {},
   "outputs": [
    {
     "data": {
      "text/plain": [
       "'0123456789'"
      ]
     },
     "execution_count": 25,
     "metadata": {},
     "output_type": "execute_result"
    }
   ],
   "source": [
    "string.digits"
   ]
  },
  {
   "cell_type": "markdown",
   "id": "524f1608-bc89-48ff-a463-79d197bb2e20",
   "metadata": {},
   "source": [
    "Notice the single quote marks delimited characters in between.  You may use the single quote, double quote, triple single quote, and triple double quote.  Let's practice:"
   ]
  },
  {
   "cell_type": "code",
   "execution_count": 26,
   "id": "cc8a6d55-6abe-4ba3-99fd-352a4e389ff7",
   "metadata": {},
   "outputs": [],
   "source": [
    "a = \"assign this string to name a\"  # notice double quotes\n",
    "b = '...and this string to name b'  # notice single quotes\n",
    "c = \"\"\"triple quotes let\n",
    "me include line breaks\n",
    "in my string\"\"\"\n",
    "d = '''either triple single,\n",
    "or triple double'''"
   ]
  },
  {
   "cell_type": "code",
   "execution_count": 27,
   "id": "a8861c6a-4d59-4c37-a61d-1feaad7252b9",
   "metadata": {},
   "outputs": [
    {
     "name": "stdout",
     "output_type": "stream",
     "text": [
      "assign this string to name a\n",
      "...and this string to name b\n",
      "triple quotes let\n",
      "me include line breaks\n",
      "in my string\n",
      "either triple single,\n",
      "or triple double\n"
     ]
    }
   ],
   "source": [
    "for the_string in a, b, c, d:  # <-- we call this a for loop\n",
    "    print(the_string)"
   ]
  },
  {
   "cell_type": "markdown",
   "id": "f8f2d358-346c-4d0c-b11b-c34e53baaa03",
   "metadata": {},
   "source": [
    "NOTE:  there are other ways to import.  You might want to bring some of the names from math into the \"top level\" namespace, so that no prefix is necessary.  Instead of `math.sqrt` (for square root), you'll be able to go `sqrt` directly."
   ]
  },
  {
   "cell_type": "code",
   "execution_count": 28,
   "id": "20c96f2d-1d55-47c7-94e1-c195c34bd337",
   "metadata": {},
   "outputs": [
    {
     "data": {
      "text/plain": [
       "10.0"
      ]
     },
     "execution_count": 28,
     "metadata": {},
     "output_type": "execute_result"
    }
   ],
   "source": [
    "math.sqrt(100)"
   ]
  },
  {
   "cell_type": "code",
   "execution_count": 29,
   "id": "749e4f00-e93a-496e-be7f-5512027b4280",
   "metadata": {},
   "outputs": [],
   "source": [
    "from math import sqrt"
   ]
  },
  {
   "cell_type": "code",
   "execution_count": 30,
   "id": "0794b891-6d75-414b-b6e5-fa51bf03ebef",
   "metadata": {},
   "outputs": [
    {
     "data": {
      "text/plain": [
       "7.0"
      ]
     },
     "execution_count": 30,
     "metadata": {},
     "output_type": "execute_result"
    }
   ],
   "source": [
    "sqrt(49)"
   ]
  },
  {
   "cell_type": "markdown",
   "id": "5ce7136f-cb86-4f1c-937a-c4fc12734d75",
   "metadata": {},
   "source": [
    "Since taking the 2nd root is the same as raising to the 1/2 power, Python is actually able to do roots without importing anything.  But `sqrt` is a convenience.  Think `calculator keys` -- that's what `math` provides.  And that's just for starters."
   ]
  },
  {
   "cell_type": "code",
   "execution_count": 31,
   "id": "e68d0251-42b0-4b07-bf7a-d9f2aa716ac4",
   "metadata": {},
   "outputs": [
    {
     "data": {
      "text/plain": [
       "7.0"
      ]
     },
     "execution_count": 31,
     "metadata": {},
     "output_type": "execute_result"
    }
   ],
   "source": [
    "pow(49, 1/2) # 2nd root"
   ]
  },
  {
   "cell_type": "code",
   "execution_count": 32,
   "id": "e6f5d7f2-4979-411a-8260-30db8838aa72",
   "metadata": {},
   "outputs": [
    {
     "data": {
      "text/plain": [
       "3.0"
      ]
     },
     "execution_count": 32,
     "metadata": {},
     "output_type": "execute_result"
    }
   ],
   "source": [
    "pow(27, 1/3)  # 3rd root"
   ]
  },
  {
   "cell_type": "markdown",
   "id": "475dba95-6973-40d1-a670-9fe4db4087f4",
   "metadata": {},
   "source": [
    "## Summary\n",
    "\n",
    "Python, when you simply boot into it, already provides a rich namespace.  We call these names the \"built-ins\" i.e. what Python knows right out of the starting gate.\n",
    "\n",
    "For example, it would make no sense to ```import math``` if Python did not already know what it means to ```import```.  "
   ]
  },
  {
   "cell_type": "markdown",
   "id": "d1fb35a6-3348-40bb-9187-7f2672770e24",
   "metadata": {},
   "source": [
    "Let's dump out everything Python \"knows\" (what names it recognizes) right when you start it up:"
   ]
  },
  {
   "cell_type": "code",
   "execution_count": 33,
   "id": "a45ce186-7c79-4a90-a528-6310da398e22",
   "metadata": {},
   "outputs": [
    {
     "name": "stdout",
     "output_type": "stream",
     "text": [
      "['ArithmeticError', 'AssertionError', 'AttributeError', 'BaseException', 'BlockingIOError', 'BrokenPipeError', 'BufferError', 'BytesWarning', 'ChildProcessError', 'ConnectionAbortedError', 'ConnectionError', 'ConnectionRefusedError', 'ConnectionResetError', 'DeprecationWarning', 'EOFError', 'Ellipsis', 'EnvironmentError', 'Exception', 'False', 'FileExistsError', 'FileNotFoundError', 'FloatingPointError', 'FutureWarning', 'GeneratorExit', 'IOError', 'ImportError', 'ImportWarning', 'IndentationError', 'IndexError', 'InterruptedError', 'IsADirectoryError', 'KeyError', 'KeyboardInterrupt', 'LookupError', 'MemoryError', 'ModuleNotFoundError', 'NameError', 'None', 'NotADirectoryError', 'NotImplemented', 'NotImplementedError', 'OSError', 'OverflowError', 'PendingDeprecationWarning', 'PermissionError', 'ProcessLookupError', 'RecursionError', 'ReferenceError', 'ResourceWarning', 'RuntimeError', 'RuntimeWarning', 'StopAsyncIteration', 'StopIteration', 'SyntaxError', 'SyntaxWarning', 'SystemError', 'SystemExit', 'TabError', 'TimeoutError', 'True', 'TypeError', 'UnboundLocalError', 'UnicodeDecodeError', 'UnicodeEncodeError', 'UnicodeError', 'UnicodeTranslateError', 'UnicodeWarning', 'UserWarning', 'ValueError', 'Warning', 'ZeroDivisionError', '__IPYTHON__', '__build_class__', '__debug__', '__doc__', '__import__', '__loader__', '__name__', '__package__', '__spec__', 'abs', 'all', 'any', 'ascii', 'bin', 'bool', 'breakpoint', 'bytearray', 'bytes', 'callable', 'chr', 'classmethod', 'compile', 'complex', 'copyright', 'credits', 'delattr', 'dict', 'dir', 'display', 'divmod', 'enumerate', 'eval', 'exec', 'execfile', 'filter', 'float', 'format', 'frozenset', 'get_ipython', 'getattr', 'globals', 'hasattr', 'hash', 'help', 'hex', 'id', 'input', 'int', 'isinstance', 'issubclass', 'iter', 'len', 'license', 'list', 'locals', 'map', 'max', 'memoryview', 'min', 'next', 'object', 'oct', 'open', 'ord', 'pow', 'print', 'property', 'range', 'repr', 'reversed', 'round', 'runfile', 'set', 'setattr', 'slice', 'sorted', 'staticmethod', 'str', 'sum', 'super', 'tuple', 'type', 'vars', 'zip']\n"
     ]
    }
   ],
   "source": [
    "print(dir(__builtins__))"
   ]
  },
  {
   "cell_type": "markdown",
   "id": "ca7f31c2-5121-4ccc-b1b8-e7edbbcf2bd5",
   "metadata": {},
   "source": [
    "You could call this \"a list of names you never need to import because Python already knows them\" i.e. \"they're built in\".\n",
    "\n",
    "You may be able to guess what a few of these do, as many are familiar words.  A lot of this will seem mysterious, and that's OK.  We do not learn Python in a day.  Some of these names are more for \"internal use\" by Python itself.\n",
    "\n",
    "What's important to remember at this juncture is you're looking at another namespace."
   ]
  },
  {
   "cell_type": "markdown",
   "id": "04fd6e5e-e709-4a76-a2ec-07a2385b8e34",
   "metadata": {},
   "source": [
    "Finally, lets look at what's even more core to Python (actually `import` is here):  its keywords.  The language is anchored by these keywords, none of which may be used as names for other purposes.  You may not know how to use all of these, and yet still be getting everything you need out of Python, for now.  \n",
    "\n",
    "For example, the keywords `async` and `await` are recent additions and have to do with what we call asynchronous programming.  Many veteran Python programmers have yet to need this, whereas others use these keywords daily.\n",
    "\n",
    "Whatever source code editor (vscode, pycharm, spyder... emacs, vim) you're using to write Python source code (`.py` files) likely knows the difference between keywords and built-ins, and color codes accordingly.  \n",
    "\n",
    "Take your time memorizing i.e. don't make it a top priority.  As long as you're comfortable accessing the documentation, you'll be increasingly productive without keeping it all in your head.  Learn what you need when you need it."
   ]
  },
  {
   "cell_type": "code",
   "execution_count": 34,
   "id": "8fb9a2c7-deb4-4f19-a232-ad151e65de0e",
   "metadata": {},
   "outputs": [
    {
     "name": "stdout",
     "output_type": "stream",
     "text": [
      "['False', 'None', 'True', '__peg_parser__', 'and', 'as', 'assert', 'async', 'await', 'break', 'class', 'continue', 'def', 'del', 'elif', 'else', 'except', 'finally', 'for', 'from', 'global', 'if', 'import', 'in', 'is', 'lambda', 'nonlocal', 'not', 'or', 'pass', 'raise', 'return', 'try', 'while', 'with', 'yield']\n"
     ]
    }
   ],
   "source": [
    "import keyword  # Python's keywords\n",
    "print(keyword.kwlist)"
   ]
  },
  {
   "cell_type": "code",
   "execution_count": 35,
   "id": "0b016673-3927-45cf-b935-c269d297e26e",
   "metadata": {},
   "outputs": [
    {
     "name": "stdout",
     "output_type": "stream",
     "text": [
      "3.9.15 (main, Nov  4 2022, 11:11:31) \n",
      "[Clang 12.0.0 ]\n"
     ]
    }
   ],
   "source": [
    "import sys # but then lets check the version of Python we're using\n",
    "print(sys.version)"
   ]
  },
  {
   "cell_type": "markdown",
   "id": "4e79d1c7-5ff3-43eb-a789-4a02992f1037",
   "metadata": {},
   "source": [
    "Later, we will see that \"namespace\" and \"Python dictionary\" go together.  In the meantime..."
   ]
  },
  {
   "cell_type": "code",
   "execution_count": 36,
   "id": "c239efac-1f54-477d-a8e1-3387c938406d",
   "metadata": {},
   "outputs": [
    {
     "name": "stdout",
     "output_type": "stream",
     "text": [
      "The Zen of Python, by Tim Peters\n",
      "\n",
      "Beautiful is better than ugly.\n",
      "Explicit is better than implicit.\n",
      "Simple is better than complex.\n",
      "Complex is better than complicated.\n",
      "Flat is better than nested.\n",
      "Sparse is better than dense.\n",
      "Readability counts.\n",
      "Special cases aren't special enough to break the rules.\n",
      "Although practicality beats purity.\n",
      "Errors should never pass silently.\n",
      "Unless explicitly silenced.\n",
      "In the face of ambiguity, refuse the temptation to guess.\n",
      "There should be one-- and preferably only one --obvious way to do it.\n",
      "Although that way may not be obvious at first unless you're Dutch.\n",
      "Now is better than never.\n",
      "Although never is often better than *right* now.\n",
      "If the implementation is hard to explain, it's a bad idea.\n",
      "If the implementation is easy to explain, it may be a good idea.\n",
      "Namespaces are one honking great idea -- let's do more of those!\n"
     ]
    }
   ],
   "source": [
    "import this  # check out the last line"
   ]
  },
  {
   "cell_type": "code",
   "execution_count": 37,
   "id": "6cf42f86-01c7-451a-9f36-b67b1100874c",
   "metadata": {},
   "outputs": [],
   "source": [
    "# import antigravity  # uncomment, and do this for fun"
   ]
  }
 ],
 "metadata": {
  "kernelspec": {
   "display_name": "Python 3 (ipykernel)",
   "language": "python",
   "name": "python3"
  },
  "language_info": {
   "codemirror_mode": {
    "name": "ipython",
    "version": 3
   },
   "file_extension": ".py",
   "mimetype": "text/x-python",
   "name": "python",
   "nbconvert_exporter": "python",
   "pygments_lexer": "ipython3",
   "version": "3.9.15"
  }
 },
 "nbformat": 4,
 "nbformat_minor": 5
}
