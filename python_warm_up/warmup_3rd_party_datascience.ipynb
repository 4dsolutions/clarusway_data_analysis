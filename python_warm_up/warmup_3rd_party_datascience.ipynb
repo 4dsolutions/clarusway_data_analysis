{
 "cells": [
  {
   "cell_type": "markdown",
   "id": "5bf5415b-908b-4aee-ba2b-82e1063fd908",
   "metadata": {},
   "source": [
    "## 3rd Party Python Libraries:  numpy and pandas\n",
    "\n",
    "<a data-flickr-embed=\"true\" href=\"https://www.flickr.com/photos/kirbyurner/52563704012/in/album-72177720296706479/\" title=\"LMS Dashboard\"><img src=\"https://live.staticflickr.com/65535/52563704012_71ef4beb8a_b.jpg\" width=\"1024\" height=\"354\" alt=\"LMS Dashboard\"></a><script async src=\"//embedr.flickr.com/assets/client-code.js\" charset=\"utf-8\"></script>"
   ]
  },
  {
   "cell_type": "markdown",
   "id": "6c6ea3f6-0185-41f8-bb06-e025817969e8",
   "metadata": {},
   "source": [
    "Once you have these two packages installed (see Installation Tips below), you will be able to import them and start exploring what they do."
   ]
  },
  {
   "cell_type": "code",
   "execution_count": 1,
   "id": "58f2e124-84cb-44a7-bb3c-360961f1c453",
   "metadata": {},
   "outputs": [],
   "source": [
    "import numpy as np\n",
    "import pandas as pd"
   ]
  },
  {
   "cell_type": "markdown",
   "id": "be06aa9c-1173-4582-a98c-0f30f6b7cdd5",
   "metadata": {},
   "source": [
    "Notice how we're able to assign an alias to the package as we import it.  An alias is like a nickname, a shorter way to refer to something.  \n",
    "\n",
    "Now we're able to write `np.array` instead of the longer `numpy.array` when we want to reach into the numpy namespace, to use its array builder."
   ]
  },
  {
   "cell_type": "markdown",
   "id": "bbfb1733-183f-4434-9674-21c130ff8914",
   "metadata": {},
   "source": [
    "## numpy n-dimensional arrays"
   ]
  },
  {
   "cell_type": "code",
   "execution_count": 2,
   "id": "4e644074-5ca2-496e-a74f-7ad8b5da4279",
   "metadata": {},
   "outputs": [
    {
     "data": {
      "text/plain": [
       "array([[ 1,  2,  3,  4,  5],\n",
       "       [ 6,  7,  8,  9, 10]])"
      ]
     },
     "execution_count": 2,
     "metadata": {},
     "output_type": "execute_result"
    }
   ],
   "source": [
    "table = np.array(range(1, 11)).reshape(2,5)\n",
    "table"
   ]
  },
  {
   "cell_type": "markdown",
   "id": "1740deaf-025a-41a2-8f51-83bc5a400a88",
   "metadata": {},
   "source": [
    "That looks a little complicated.  What's going on?\n",
    "\n",
    "The `range` type is native to Python, and returns lists of consecutive integers, like this:"
   ]
  },
  {
   "cell_type": "code",
   "execution_count": 3,
   "id": "a5da5d11-ea22-4693-a9c8-23b195e7c5e2",
   "metadata": {},
   "outputs": [
    {
     "data": {
      "text/plain": [
       "range(1, 11)"
      ]
     },
     "execution_count": 3,
     "metadata": {},
     "output_type": "execute_result"
    }
   ],
   "source": [
    "one_to_ten = range(1, 11)  # not inclusive of upper bound\n",
    "one_to_ten"
   ]
  },
  {
   "cell_type": "markdown",
   "id": "8d52f45b-64b2-4cb5-908e-6680473c0733",
   "metadata": {},
   "source": [
    "Now that we have named our range object, lets convert it to a list, so we might see the contents:"
   ]
  },
  {
   "cell_type": "code",
   "execution_count": 4,
   "id": "075df566-7b16-45df-8d27-c9a632b1c4a9",
   "metadata": {},
   "outputs": [
    {
     "data": {
      "text/plain": [
       "[1, 2, 3, 4, 5, 6, 7, 8, 9, 10]"
      ]
     },
     "execution_count": 4,
     "metadata": {},
     "output_type": "execute_result"
    }
   ],
   "source": [
    "list(one_to_ten)  # this will convert it to a list type object"
   ]
  },
  {
   "cell_type": "markdown",
   "id": "8b984a9a-2c49-4bda-8ed4-47e0fa543c59",
   "metadata": {},
   "source": [
    "We keep converting to the `list` or `tuple` type:"
   ]
  },
  {
   "cell_type": "code",
   "execution_count": 5,
   "id": "aef13aee-c2db-41ca-9fee-c1c4a1165971",
   "metadata": {},
   "outputs": [
    {
     "data": {
      "text/plain": [
       "[2, 4, 6, 8, 10, 12, 14, 16, 18, 20]"
      ]
     },
     "execution_count": 5,
     "metadata": {},
     "output_type": "execute_result"
    }
   ],
   "source": [
    "list(range(2, 21, 2))     # start at 2, step by 2"
   ]
  },
  {
   "cell_type": "code",
   "execution_count": 6,
   "id": "3bec7082-e4ac-4bf6-9ebd-c85161097a61",
   "metadata": {},
   "outputs": [
    {
     "data": {
      "text/plain": [
       "(20, 18, 16, 14, 12, 10, 8, 6, 4, 2, 0)"
      ]
     },
     "execution_count": 6,
     "metadata": {},
     "output_type": "execute_result"
    }
   ],
   "source": [
    "tuple(range(20, -1, -2))  # start at 20, step by -2"
   ]
  },
  {
   "cell_type": "code",
   "execution_count": 7,
   "id": "fc44d302-721e-422c-9b36-2a9b0632f238",
   "metadata": {},
   "outputs": [
    {
     "data": {
      "text/plain": [
       "[-5, -4, -3, -2, -1, 0, 1, 2, 3, 4, 5]"
      ]
     },
     "execution_count": 7,
     "metadata": {},
     "output_type": "execute_result"
    }
   ],
   "source": [
    "list(range(-5, 6))"
   ]
  },
  {
   "cell_type": "markdown",
   "id": "3dcdadee-d73a-4f13-ba9f-9cfaa143df85",
   "metadata": {},
   "source": [
    "The time has come to take our native Python range object, and use it to create something new, a numpy array.  This is a vastly powerful type of object that we use throughout our data analysis and visualization courses, and not only there."
   ]
  },
  {
   "cell_type": "markdown",
   "id": "cedafe13-64b0-44a3-96bc-54f9b1d46093",
   "metadata": {},
   "source": [
    "Remember `table`?  We created that up above.  This Notebook remembers the names we have defined so far."
   ]
  },
  {
   "cell_type": "code",
   "execution_count": 8,
   "id": "20cd034f-4fca-499b-94cd-def03090b40f",
   "metadata": {},
   "outputs": [
    {
     "data": {
      "text/plain": [
       "array([[ 1,  2,  3,  4,  5],\n",
       "       [ 6,  7,  8,  9, 10]])"
      ]
     },
     "execution_count": 8,
     "metadata": {},
     "output_type": "execute_result"
    }
   ],
   "source": [
    "table  # 2 rows, 4 columns"
   ]
  },
  {
   "cell_type": "code",
   "execution_count": 9,
   "id": "49ad35d1-17da-48db-a560-deca6bd911ef",
   "metadata": {},
   "outputs": [
    {
     "data": {
      "text/plain": [
       "numpy.ndarray"
      ]
     },
     "execution_count": 9,
     "metadata": {},
     "output_type": "execute_result"
    }
   ],
   "source": [
    "type(table)  # nd stands for \"n dimensional\" i.e. as many as we want"
   ]
  },
  {
   "cell_type": "code",
   "execution_count": 10,
   "id": "611c0015-9f8c-47c7-9d8e-6bf470efa8b7",
   "metadata": {},
   "outputs": [
    {
     "data": {
      "text/plain": [
       "2"
      ]
     },
     "execution_count": 10,
     "metadata": {},
     "output_type": "execute_result"
    }
   ],
   "source": [
    "table.ndim # two dimensional"
   ]
  },
  {
   "cell_type": "markdown",
   "id": "96a9fe53-6076-4894-9c39-a1a507cc0f5f",
   "metadata": {},
   "source": [
    "OK, now it's time to use `one_to_ten` (range type) to make yet another n-dimensional array."
   ]
  },
  {
   "cell_type": "code",
   "execution_count": 11,
   "id": "9f8d000e-2ea4-4cc4-bae0-ec2e250a6c56",
   "metadata": {},
   "outputs": [
    {
     "data": {
      "text/plain": [
       "array([ 1,  2,  3,  4,  5,  6,  7,  8,  9, 10])"
      ]
     },
     "execution_count": 11,
     "metadata": {},
     "output_type": "execute_result"
    }
   ],
   "source": [
    "np.array(one_to_ten)"
   ]
  },
  {
   "cell_type": "code",
   "execution_count": 12,
   "id": "3cd22161-f3c2-41c1-a728-9134da61120a",
   "metadata": {},
   "outputs": [
    {
     "data": {
      "text/plain": [
       "1"
      ]
     },
     "execution_count": 12,
     "metadata": {},
     "output_type": "execute_result"
    }
   ],
   "source": [
    "np.array(one_to_ten).ndim  # one dimensional"
   ]
  },
  {
   "cell_type": "code",
   "execution_count": 13,
   "id": "ddad843e-5e10-430b-8d10-6eb7446f81fb",
   "metadata": {},
   "outputs": [],
   "source": [
    "# print(dir(np.array(one_to_ten)))  # so many superpowers!"
   ]
  },
  {
   "cell_type": "markdown",
   "id": "e7372a5b-486c-4ea4-8691-9548ecfeaeff",
   "metadata": {},
   "source": [
    "A numpy array may be shaped into rows and columns.  \n",
    "\n",
    "The range object, used as input, gives us an array we call \"one dimensional\" i.e. it doesn't have any columns (yet). \n",
    "\n",
    "However, once a range is fed to `np.array`, we get a new type of object that's quite happy to be turned into rows and columns -- as long as the shape we ask for is the right size for the elements we give (1 through 10 in this case)."
   ]
  },
  {
   "cell_type": "code",
   "execution_count": 14,
   "id": "32513a00-8f38-4b1f-9972-cd8fc6d1ddfb",
   "metadata": {},
   "outputs": [
    {
     "data": {
      "text/plain": [
       "array([[ 1,  2],\n",
       "       [ 3,  4],\n",
       "       [ 5,  6],\n",
       "       [ 7,  8],\n",
       "       [ 9, 10]])"
      ]
     },
     "execution_count": 14,
     "metadata": {},
     "output_type": "execute_result"
    }
   ],
   "source": [
    "np.array(one_to_ten).reshape(5,2)"
   ]
  },
  {
   "cell_type": "markdown",
   "id": "af34ff92-20e9-41fb-8989-3603e342652e",
   "metadata": {},
   "source": [
    "## pandas DataFrames"
   ]
  },
  {
   "cell_type": "markdown",
   "id": "4a5f8312-d95e-40d2-8990-9c89c3b6ff2f",
   "metadata": {},
   "source": [
    "Now that we have a two-dimensional numpy array named `table`, lets turn it into a pandas DataFrame just to see what that looks like:"
   ]
  },
  {
   "cell_type": "code",
   "execution_count": 15,
   "id": "c202eb4c-21b5-4d4d-a0dd-b9cd28438c9d",
   "metadata": {},
   "outputs": [
    {
     "data": {
      "text/html": [
       "<div>\n",
       "<style scoped>\n",
       "    .dataframe tbody tr th:only-of-type {\n",
       "        vertical-align: middle;\n",
       "    }\n",
       "\n",
       "    .dataframe tbody tr th {\n",
       "        vertical-align: top;\n",
       "    }\n",
       "\n",
       "    .dataframe thead th {\n",
       "        text-align: right;\n",
       "    }\n",
       "</style>\n",
       "<table border=\"1\" class=\"dataframe\">\n",
       "  <thead>\n",
       "    <tr style=\"text-align: right;\">\n",
       "      <th></th>\n",
       "      <th>0</th>\n",
       "      <th>1</th>\n",
       "      <th>2</th>\n",
       "      <th>3</th>\n",
       "      <th>4</th>\n",
       "    </tr>\n",
       "  </thead>\n",
       "  <tbody>\n",
       "    <tr>\n",
       "      <th>0</th>\n",
       "      <td>1</td>\n",
       "      <td>2</td>\n",
       "      <td>3</td>\n",
       "      <td>4</td>\n",
       "      <td>5</td>\n",
       "    </tr>\n",
       "    <tr>\n",
       "      <th>1</th>\n",
       "      <td>6</td>\n",
       "      <td>7</td>\n",
       "      <td>8</td>\n",
       "      <td>9</td>\n",
       "      <td>10</td>\n",
       "    </tr>\n",
       "  </tbody>\n",
       "</table>\n",
       "</div>"
      ],
      "text/plain": [
       "   0  1  2  3   4\n",
       "0  1  2  3  4   5\n",
       "1  6  7  8  9  10"
      ]
     },
     "execution_count": 15,
     "metadata": {},
     "output_type": "execute_result"
    }
   ],
   "source": [
    "df = pd.DataFrame(table)\n",
    "df"
   ]
  },
  {
   "cell_type": "markdown",
   "id": "4ec9983c-990c-41a5-aa5a-0ddcaaea7f66",
   "metadata": {},
   "source": [
    "Interesting.  The DataFrame uses the array as data, but ads a frame, of row and column numbers."
   ]
  },
  {
   "cell_type": "markdown",
   "id": "93435f4a-27b1-45b8-a727-2458ccfead64",
   "metadata": {},
   "source": [
    "We may use those row and column numbers to access the data. "
   ]
  },
  {
   "cell_type": "code",
   "execution_count": 16,
   "id": "5995d21f-228e-4c96-96e0-71a80bfca8cc",
   "metadata": {},
   "outputs": [
    {
     "data": {
      "text/plain": [
       "2"
      ]
     },
     "execution_count": 16,
     "metadata": {},
     "output_type": "execute_result"
    }
   ],
   "source": [
    "df.iloc[0, 1]  # row 0, column 1"
   ]
  },
  {
   "cell_type": "code",
   "execution_count": 17,
   "id": "daa7f708-e0eb-407c-9adb-0a2b1b1b3607",
   "metadata": {},
   "outputs": [
    {
     "data": {
      "text/plain": [
       "10"
      ]
     },
     "execution_count": 17,
     "metadata": {},
     "output_type": "execute_result"
    }
   ],
   "source": [
    "df.iloc[1, 4]  # row 1, column 4"
   ]
  },
  {
   "cell_type": "markdown",
   "id": "95ef7fce-48f3-4843-9624-ed6529594b25",
   "metadata": {},
   "source": [
    "The numpy array allows this too.  So why did we need a DataFrame?"
   ]
  },
  {
   "cell_type": "code",
   "execution_count": 18,
   "id": "b4a29460-4897-48f6-b2f6-8c01d9253c65",
   "metadata": {},
   "outputs": [
    {
     "data": {
      "text/plain": [
       "2"
      ]
     },
     "execution_count": 18,
     "metadata": {},
     "output_type": "execute_result"
    }
   ],
   "source": [
    "table[0,1]"
   ]
  },
  {
   "cell_type": "code",
   "execution_count": 19,
   "id": "89ca6f6b-b593-4799-a638-7f4850200f0f",
   "metadata": {},
   "outputs": [
    {
     "data": {
      "text/plain": [
       "10"
      ]
     },
     "execution_count": 19,
     "metadata": {},
     "output_type": "execute_result"
    }
   ],
   "source": [
    "table[1,4]"
   ]
  },
  {
   "cell_type": "markdown",
   "id": "6df6ef7c-33ca-4c20-a709-51126e1beace",
   "metadata": {},
   "source": [
    "In `pandas` we can go beyond merely numeric rows and columns, and use labels of our choosing."
   ]
  },
  {
   "cell_type": "code",
   "execution_count": 20,
   "id": "c2806c8d-d3b2-4322-a19b-ce5bbdbe3284",
   "metadata": {},
   "outputs": [
    {
     "data": {
      "text/html": [
       "<div>\n",
       "<style scoped>\n",
       "    .dataframe tbody tr th:only-of-type {\n",
       "        vertical-align: middle;\n",
       "    }\n",
       "\n",
       "    .dataframe tbody tr th {\n",
       "        vertical-align: top;\n",
       "    }\n",
       "\n",
       "    .dataframe thead th {\n",
       "        text-align: right;\n",
       "    }\n",
       "</style>\n",
       "<table border=\"1\" class=\"dataframe\">\n",
       "  <thead>\n",
       "    <tr style=\"text-align: right;\">\n",
       "      <th></th>\n",
       "      <th>A</th>\n",
       "      <th>B</th>\n",
       "      <th>C</th>\n",
       "      <th>D</th>\n",
       "      <th>E</th>\n",
       "    </tr>\n",
       "  </thead>\n",
       "  <tbody>\n",
       "    <tr>\n",
       "      <th>Row 1</th>\n",
       "      <td>1</td>\n",
       "      <td>2</td>\n",
       "      <td>3</td>\n",
       "      <td>4</td>\n",
       "      <td>5</td>\n",
       "    </tr>\n",
       "    <tr>\n",
       "      <th>Row 2</th>\n",
       "      <td>6</td>\n",
       "      <td>7</td>\n",
       "      <td>8</td>\n",
       "      <td>9</td>\n",
       "      <td>10</td>\n",
       "    </tr>\n",
       "  </tbody>\n",
       "</table>\n",
       "</div>"
      ],
      "text/plain": [
       "       A  B  C  D   E\n",
       "Row 1  1  2  3  4   5\n",
       "Row 2  6  7  8  9  10"
      ]
     },
     "execution_count": 20,
     "metadata": {},
     "output_type": "execute_result"
    }
   ],
   "source": [
    "df.index = (\"Row 1\", \"Row 2\")\n",
    "df.columns = ((\"A\", \"B\", \"C\", \"D\", \"E\"))\n",
    "df"
   ]
  },
  {
   "cell_type": "markdown",
   "id": "f440c432-aa29-4006-b718-d738be7857d6",
   "metadata": {},
   "source": [
    "Now we're able to access the data using these new names for the rows and columns, making the code we write more robust and easier to read.  \n",
    "\n",
    "DataFrames make more sense when they tell us about what they contain."
   ]
  },
  {
   "cell_type": "code",
   "execution_count": 21,
   "id": "281ac427-52c7-496b-8b91-f54c731e23d7",
   "metadata": {},
   "outputs": [
    {
     "data": {
      "text/plain": [
       "9"
      ]
     },
     "execution_count": 21,
     "metadata": {},
     "output_type": "execute_result"
    }
   ],
   "source": [
    "df.loc['Row 2', 'D']"
   ]
  },
  {
   "cell_type": "code",
   "execution_count": 22,
   "id": "8bdca805-7c13-4982-8d5d-10f00489389e",
   "metadata": {},
   "outputs": [
    {
     "data": {
      "text/plain": [
       "2"
      ]
     },
     "execution_count": 22,
     "metadata": {},
     "output_type": "execute_result"
    }
   ],
   "source": [
    "df.loc['Row 1', 'B']"
   ]
  },
  {
   "cell_type": "code",
   "execution_count": 23,
   "id": "9220a2db-d3fb-4408-b3af-f2d42784d6c7",
   "metadata": {},
   "outputs": [],
   "source": [
    "import sqlite3 as sql\n",
    "conn = sql.connect('roller_coasters.db')"
   ]
  },
  {
   "cell_type": "code",
   "execution_count": 28,
   "id": "d81ee8a9-7f37-4c39-95fd-ffa128dc78ce",
   "metadata": {},
   "outputs": [],
   "source": [
    "# help(pd.read_sql)"
   ]
  },
  {
   "cell_type": "code",
   "execution_count": 25,
   "id": "18ff4335-f532-4cf1-9b89-e017f8cfdb3c",
   "metadata": {},
   "outputs": [],
   "source": [
    "coasters = pd.read_sql(\"SELECT * FROM Coasters\", conn)"
   ]
  },
  {
   "cell_type": "code",
   "execution_count": 26,
   "id": "390eb493-d22f-417a-8068-d053d91f53f8",
   "metadata": {},
   "outputs": [],
   "source": [
    "conn.close()"
   ]
  },
  {
   "cell_type": "code",
   "execution_count": 27,
   "id": "6ae62ecf-e64a-4007-9c9b-11125f365386",
   "metadata": {},
   "outputs": [
    {
     "data": {
      "text/html": [
       "<div>\n",
       "<style scoped>\n",
       "    .dataframe tbody tr th:only-of-type {\n",
       "        vertical-align: middle;\n",
       "    }\n",
       "\n",
       "    .dataframe tbody tr th {\n",
       "        vertical-align: top;\n",
       "    }\n",
       "\n",
       "    .dataframe thead th {\n",
       "        text-align: right;\n",
       "    }\n",
       "</style>\n",
       "<table border=\"1\" class=\"dataframe\">\n",
       "  <thead>\n",
       "    <tr style=\"text-align: right;\">\n",
       "      <th></th>\n",
       "      <th>Name</th>\n",
       "      <th>Park</th>\n",
       "      <th>State</th>\n",
       "      <th>Country</th>\n",
       "      <th>Duration</th>\n",
       "      <th>Speed</th>\n",
       "      <th>Height</th>\n",
       "      <th>VertDrop</th>\n",
       "      <th>Length</th>\n",
       "      <th>Yr_Opened</th>\n",
       "      <th>Inversions</th>\n",
       "    </tr>\n",
       "  </thead>\n",
       "  <tbody>\n",
       "    <tr>\n",
       "      <th>0</th>\n",
       "      <td>Top Thrill Dragster</td>\n",
       "      <td>Cedar Point</td>\n",
       "      <td>Ohio</td>\n",
       "      <td>USA</td>\n",
       "      <td>60</td>\n",
       "      <td>120.0</td>\n",
       "      <td>420.0</td>\n",
       "      <td>400.00</td>\n",
       "      <td>2800.00</td>\n",
       "      <td>2003</td>\n",
       "      <td>0</td>\n",
       "    </tr>\n",
       "    <tr>\n",
       "      <th>1</th>\n",
       "      <td>Superman The Escape</td>\n",
       "      <td>Six Flags Magic Mountain</td>\n",
       "      <td>California</td>\n",
       "      <td>USA</td>\n",
       "      <td>28</td>\n",
       "      <td>100.0</td>\n",
       "      <td>415.0</td>\n",
       "      <td>328.10</td>\n",
       "      <td>1235.00</td>\n",
       "      <td>1997</td>\n",
       "      <td>0</td>\n",
       "    </tr>\n",
       "    <tr>\n",
       "      <th>2</th>\n",
       "      <td>Millennium Force</td>\n",
       "      <td>Cedar Point</td>\n",
       "      <td>Ohio</td>\n",
       "      <td>USA</td>\n",
       "      <td>165</td>\n",
       "      <td>93.0</td>\n",
       "      <td>310.0</td>\n",
       "      <td>300.00</td>\n",
       "      <td>6595.00</td>\n",
       "      <td>2000</td>\n",
       "      <td>0</td>\n",
       "    </tr>\n",
       "    <tr>\n",
       "      <th>3</th>\n",
       "      <td>Goliath</td>\n",
       "      <td>Six Flags Magic Mountain</td>\n",
       "      <td>California</td>\n",
       "      <td>USA</td>\n",
       "      <td>180</td>\n",
       "      <td>85.0</td>\n",
       "      <td>235.0</td>\n",
       "      <td>255.00</td>\n",
       "      <td>4500.00</td>\n",
       "      <td>2000</td>\n",
       "      <td>0</td>\n",
       "    </tr>\n",
       "    <tr>\n",
       "      <th>4</th>\n",
       "      <td>Titan</td>\n",
       "      <td>Space World</td>\n",
       "      <td>Kitakyushu</td>\n",
       "      <td>Japan</td>\n",
       "      <td>180</td>\n",
       "      <td>71.5</td>\n",
       "      <td>166.0</td>\n",
       "      <td>178.00</td>\n",
       "      <td>5019.67</td>\n",
       "      <td>1994</td>\n",
       "      <td>0</td>\n",
       "    </tr>\n",
       "    <tr>\n",
       "      <th>...</th>\n",
       "      <td>...</td>\n",
       "      <td>...</td>\n",
       "      <td>...</td>\n",
       "      <td>...</td>\n",
       "      <td>...</td>\n",
       "      <td>...</td>\n",
       "      <td>...</td>\n",
       "      <td>...</td>\n",
       "      <td>...</td>\n",
       "      <td>...</td>\n",
       "      <td>...</td>\n",
       "    </tr>\n",
       "    <tr>\n",
       "      <th>71</th>\n",
       "      <td>Oblivion</td>\n",
       "      <td>Alton Towers</td>\n",
       "      <td>Alton</td>\n",
       "      <td>England</td>\n",
       "      <td>75</td>\n",
       "      <td>68.0</td>\n",
       "      <td>65.0</td>\n",
       "      <td>180.00</td>\n",
       "      <td>1222.00</td>\n",
       "      <td>1998</td>\n",
       "      <td>0</td>\n",
       "    </tr>\n",
       "    <tr>\n",
       "      <th>72</th>\n",
       "      <td>Stunt Fall</td>\n",
       "      <td>Warner Bros. Movie World</td>\n",
       "      <td>San Martin de la Vega</td>\n",
       "      <td>Spain</td>\n",
       "      <td>92</td>\n",
       "      <td>65.6</td>\n",
       "      <td>191.6</td>\n",
       "      <td>177.00</td>\n",
       "      <td>1204.00</td>\n",
       "      <td>2002</td>\n",
       "      <td>3</td>\n",
       "    </tr>\n",
       "    <tr>\n",
       "      <th>73</th>\n",
       "      <td>Hayabusa</td>\n",
       "      <td>Tokyo SummerLand</td>\n",
       "      <td>Tokyo</td>\n",
       "      <td>Japan</td>\n",
       "      <td>108</td>\n",
       "      <td>60.3</td>\n",
       "      <td>137.8</td>\n",
       "      <td>124.67</td>\n",
       "      <td>2559.10</td>\n",
       "      <td>1992</td>\n",
       "      <td>0</td>\n",
       "    </tr>\n",
       "    <tr>\n",
       "      <th>74</th>\n",
       "      <td>Top Gun</td>\n",
       "      <td>Paramount Canada's Wonderland</td>\n",
       "      <td>Vaughan</td>\n",
       "      <td>Canada</td>\n",
       "      <td>125</td>\n",
       "      <td>56.0</td>\n",
       "      <td>102.0</td>\n",
       "      <td>93.00</td>\n",
       "      <td>2170.00</td>\n",
       "      <td>1995</td>\n",
       "      <td>5</td>\n",
       "    </tr>\n",
       "    <tr>\n",
       "      <th>75</th>\n",
       "      <td>Wild Beast</td>\n",
       "      <td>Paramount Canada's Wonderland</td>\n",
       "      <td>Vaughan</td>\n",
       "      <td>Canada</td>\n",
       "      <td>150</td>\n",
       "      <td>56.0</td>\n",
       "      <td>415.0</td>\n",
       "      <td>78.00</td>\n",
       "      <td>3150.00</td>\n",
       "      <td>1981</td>\n",
       "      <td>0</td>\n",
       "    </tr>\n",
       "  </tbody>\n",
       "</table>\n",
       "<p>76 rows × 11 columns</p>\n",
       "</div>"
      ],
      "text/plain": [
       "                   Name                           Park                  State  \\\n",
       "0   Top Thrill Dragster                    Cedar Point                   Ohio   \n",
       "1   Superman The Escape       Six Flags Magic Mountain             California   \n",
       "2      Millennium Force                    Cedar Point                   Ohio   \n",
       "3               Goliath       Six Flags Magic Mountain             California   \n",
       "4                 Titan                    Space World             Kitakyushu   \n",
       "..                  ...                            ...                    ...   \n",
       "71             Oblivion                   Alton Towers                  Alton   \n",
       "72           Stunt Fall       Warner Bros. Movie World  San Martin de la Vega   \n",
       "73             Hayabusa               Tokyo SummerLand                  Tokyo   \n",
       "74              Top Gun  Paramount Canada's Wonderland                Vaughan   \n",
       "75           Wild Beast  Paramount Canada's Wonderland                Vaughan   \n",
       "\n",
       "    Country  Duration  Speed  Height  VertDrop   Length  Yr_Opened  Inversions  \n",
       "0       USA        60  120.0   420.0    400.00  2800.00       2003           0  \n",
       "1       USA        28  100.0   415.0    328.10  1235.00       1997           0  \n",
       "2       USA       165   93.0   310.0    300.00  6595.00       2000           0  \n",
       "3       USA       180   85.0   235.0    255.00  4500.00       2000           0  \n",
       "4     Japan       180   71.5   166.0    178.00  5019.67       1994           0  \n",
       "..      ...       ...    ...     ...       ...      ...        ...         ...  \n",
       "71  England        75   68.0    65.0    180.00  1222.00       1998           0  \n",
       "72    Spain        92   65.6   191.6    177.00  1204.00       2002           3  \n",
       "73    Japan       108   60.3   137.8    124.67  2559.10       1992           0  \n",
       "74   Canada       125   56.0   102.0     93.00  2170.00       1995           5  \n",
       "75   Canada       150   56.0   415.0     78.00  3150.00       1981           0  \n",
       "\n",
       "[76 rows x 11 columns]"
      ]
     },
     "execution_count": 27,
     "metadata": {},
     "output_type": "execute_result"
    }
   ],
   "source": [
    "coasters"
   ]
  },
  {
   "cell_type": "markdown",
   "id": "5eca2184-f99d-4a3c-88cd-1503acee177f",
   "metadata": {},
   "source": [
    "## Installation Tips\n",
    "\n",
    "Many computer languages come with onboard utilities for accessing 3rd party modules and packages.  Python's native installer is `pip` and/or `pip3`.  Python's main online repository is [PyPi](https://pypi.org/) (the Python Index).\n",
    "\n",
    "Another Python distro we can recommend (many do) is from [Anaconda](https://www.anaconda.com/products/distribution).  This free open source alternative (to the Python at Python.org), has its own installer named conda.  The advantage of this path is it already includes a lot of 3rd party packages, such as numpy and pandas."
   ]
  }
 ],
 "metadata": {
  "kernelspec": {
   "display_name": "Python 3 (ipykernel)",
   "language": "python",
   "name": "python3"
  },
  "language_info": {
   "codemirror_mode": {
    "name": "ipython",
    "version": 3
   },
   "file_extension": ".py",
   "mimetype": "text/x-python",
   "name": "python",
   "nbconvert_exporter": "python",
   "pygments_lexer": "ipython3",
   "version": "3.9.15"
  }
 },
 "nbformat": 4,
 "nbformat_minor": 5
}
