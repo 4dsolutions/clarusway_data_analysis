{
 "cells": [
  {
   "cell_type": "markdown",
   "id": "c77bfc68-550c-4683-a4f8-ae964b17656b",
   "metadata": {},
   "source": [
    "<a href=\"https://colab.research.google.com/github/4dsolutions/clarusway_data_analysis/blob/main/python_warm_up/warmup_object_sql.ipynb\"><img align=\"left\" src=\"https://colab.research.google.com/assets/colab-badge.svg\" alt=\"Open in Colab\" title=\"Open and Execute in Google Colaboratory\"></a><br/>\n",
    "[![nbviewer](https://raw.githubusercontent.com/jupyter/design/master/logos/Badges/nbviewer_badge.svg)](https://nbviewer.org/github/4dsolutions/clarusway_data_analysis/blob/main/python_warm_up/warmup_object_sql.ipynb)"
   ]
  },
  {
   "cell_type": "markdown",
   "id": "ef82818c-617b-4f31-a5ab-8baac60ccbab",
   "metadata": {},
   "source": [
    "# SQLite3 and Context Managers\n",
    "\n",
    "<a data-flickr-embed=\"true\" href=\"https://www.flickr.com/photos/kirbyurner/52563704012/in/album-72177720296706479/\" title=\"LMS Dashboard\"><img src=\"https://live.staticflickr.com/65535/52563704012_71ef4beb8a_b.jpg\" width=\"1024\" height=\"354\" alt=\"LMS Dashboard\"></a><script async src=\"//embedr.flickr.com/assets/client-code.js\" charset=\"utf-8\"></script>"
   ]
  },
  {
   "cell_type": "markdown",
   "id": "b19a6fc1-0ff5-4c84-873b-523cbacd73b3",
   "metadata": {},
   "source": [
    "Python Warm-up Notebooks:\n",
    "\n",
    "*  [Introduction to Python](warmup_python_intro.ipynb)\n",
    "*  [3rd Party Libraries](warmup_3rd_party_datascience.ipynb)\n",
    "*  [Object Types](warmup_data_structures.ipynb)\n",
    "*  [Object Oriented Paradigm](warmup_object_oriented.ipynb)\n",
    "*  [Calling Callables and Type Checking](warmup_callables.ipynb)\n",
    "*  [Class and Static Methods, Properties](warmup_object_oriented2.ipynb)\n",
    "*  [SQLite3 and Context Managers](warmup_object_sql.ipynb) (you are here)\n",
    "*  [Iterators and Generators](warmup_generators.ipynb)"
   ]
  },
  {
   "cell_type": "markdown",
   "id": "7e71676e-3e77-4c9a-b5f7-67490d2f9fca",
   "metadata": {},
   "source": [
    "Database engines, such as MySQL, PostgreSQL, SQL Server and many more, expect to be talked to in a certain way.  They face the world through an API.  Python talks through this API via its DB API or database API.\n",
    "\n",
    "What's an API?  Let's hear [from IBM](https://www.ibm.com/topics/api):\n",
    "\n",
    "<blockquote>\n",
    "An API, or application programming interface, is a set of defined rules that enable different applications to communicate with each other. It acts as an intermediary layer that processes data transfers between systems, letting companies open their application data and functionality to external third-party developers, business partners, and internal departments within their companies.\n",
    "</blockquote>\n",
    "    \n",
    "Twitter, Facebook and other companies allow programmatic access to their content, which does not entail bypassing security.  Their APIs offer approved and secure ways of accessing data.  \n",
    "\n",
    "However the term 'API' need to refer to companies offering data.  Any library or package tends to interface with the greater world through a documented set of valid requests.  SQL engines, i.e. databases the run SQL, are a case in point.\n",
    "\n",
    "Included in Python's Standard Library is `sqlite3`, which is designed to work with [any SQLite database](https://www.sqlite.org/index.html), and which we give the alias `sql` in the code below.  \n",
    "\n",
    "We have a certain `roller_coasters.db` file ready to connect to and select from."
   ]
  },
  {
   "cell_type": "code",
   "execution_count": 1,
   "id": "ed0a0f07-c6d0-4706-96f6-56d33de03a19",
   "metadata": {},
   "outputs": [],
   "source": [
    "import sqlite3 as sql"
   ]
  },
  {
   "cell_type": "code",
   "execution_count": 2,
   "id": "3e6fee3e-c8b3-4ee3-ae33-2114f500f7bd",
   "metadata": {},
   "outputs": [],
   "source": [
    "conn = sql.connect(\"roller_coasters.db\")"
   ]
  },
  {
   "cell_type": "code",
   "execution_count": 3,
   "id": "19a53020-907e-42d6-8baf-26135d042338",
   "metadata": {},
   "outputs": [],
   "source": [
    "cur = conn.cursor()  # the connection supplies a cursor type object"
   ]
  },
  {
   "cell_type": "code",
   "execution_count": 4,
   "id": "45c75ec2-2942-42e6-810b-ecb858bf076c",
   "metadata": {},
   "outputs": [
    {
     "data": {
      "text/plain": [
       "sqlite3.Cursor"
      ]
     },
     "execution_count": 4,
     "metadata": {},
     "output_type": "execute_result"
    }
   ],
   "source": [
    "type(cur)"
   ]
  },
  {
   "cell_type": "markdown",
   "id": "91924202-c281-4f22-b37b-1cb4a5f3858c",
   "metadata": {},
   "source": [
    "A database usually consists of several tables, some user defined, others [containing meta data](https://www.sqlite.org/schematab.html) and defined by the SQL engine.  We are free to inspect."
   ]
  },
  {
   "cell_type": "code",
   "execution_count": 5,
   "id": "bada082a-67aa-461c-9a8c-5c2cc38b7143",
   "metadata": {},
   "outputs": [
    {
     "data": {
      "text/plain": [
       "[('Coasters',)]"
      ]
     },
     "execution_count": 5,
     "metadata": {},
     "output_type": "execute_result"
    }
   ],
   "source": [
    "result = cur.execute(\"SELECT name FROM sqlite_schema \"\n",
    "\"WHERE type = 'table';\")\n",
    "\n",
    "table_names = result.fetchall()\n",
    "table_names "
   ]
  },
  {
   "cell_type": "markdown",
   "id": "60564b9f-1377-4383-a0ee-4218387db8d5",
   "metadata": {},
   "source": [
    "[Asking about the structure](https://www.sqlitetutorial.net/sqlite-describe-table/) of the table `Coasters` gets me the SQL I would need to recreate from scratch as an empty structure.  I would still need to insert all the records."
   ]
  },
  {
   "cell_type": "code",
   "execution_count": 6,
   "id": "ddeb574d-b2da-46f3-bb83-ac8c56bfbd20",
   "metadata": {},
   "outputs": [],
   "source": [
    "result = cur.execute(\"\"\"SELECT sql \n",
    "FROM sqlite_schema \n",
    "WHERE name = 'Coasters';\"\"\")"
   ]
  },
  {
   "cell_type": "code",
   "execution_count": 7,
   "id": "1d9d54c3-8115-4f4f-a7cf-0cb4a6aa43b4",
   "metadata": {},
   "outputs": [],
   "source": [
    "table_structure = result.fetchall()"
   ]
  },
  {
   "cell_type": "code",
   "execution_count": 8,
   "id": "e9b865dc-685b-4bde-aefe-06c688a1560b",
   "metadata": {},
   "outputs": [
    {
     "data": {
      "text/plain": [
       "[('CREATE TABLE Coasters\\n            (Name text PRIMARY KEY, \\n             Park text,\\n             State text, \\n             Country text,\\n             Duration int,\\n             Speed int,\\n             Height int,\\n             VertDrop int,\\n             Length int,\\n             Yr_Opened int,\\n             Inversions int)',)]"
      ]
     },
     "execution_count": 8,
     "metadata": {},
     "output_type": "execute_result"
    }
   ],
   "source": [
    "table_structure  # ugly list"
   ]
  },
  {
   "cell_type": "code",
   "execution_count": 9,
   "id": "2dc0980a-9654-4139-b041-fd9b19d3ca21",
   "metadata": {},
   "outputs": [
    {
     "name": "stdout",
     "output_type": "stream",
     "text": [
      "CREATE TABLE Coasters\n",
      "            (Name text PRIMARY KEY, \n",
      "             Park text,\n",
      "             State text, \n",
      "             Country text,\n",
      "             Duration int,\n",
      "             Speed int,\n",
      "             Height int,\n",
      "             VertDrop int,\n",
      "             Length int,\n",
      "             Yr_Opened int,\n",
      "             Inversions int)\n"
     ]
    }
   ],
   "source": [
    "print(\"\".join(table_structure[0]))  # that's better"
   ]
  },
  {
   "cell_type": "markdown",
   "id": "2bf891f8-8032-4ad6-a626-907119b0a0ec",
   "metadata": {},
   "source": [
    "SQL supports creating, retrieving, updating, and deleting records (CRUD for short).  \n",
    "\n",
    "Above we see what creating looks like.  \n",
    "\n",
    "Here's selecting:"
   ]
  },
  {
   "cell_type": "code",
   "execution_count": 10,
   "id": "90fbb89e-74e2-4363-b0fb-d30c720dd406",
   "metadata": {},
   "outputs": [],
   "source": [
    "result = cur.execute(\"\"\"SELECT Name, Park, State, Country \n",
    "FROM Coasters WHERE Country == 'Japan';\"\"\")"
   ]
  },
  {
   "cell_type": "code",
   "execution_count": 11,
   "id": "ade7e953-8831-412f-a6c8-09eee1fb9f13",
   "metadata": {},
   "outputs": [
    {
     "name": "stdout",
     "output_type": "stream",
     "text": [
      "('Titan', 'Space World', 'Kitakyushu', 'Japan')\n",
      "('Steel Dragon 2000', 'Nagashima Spa Land', 'Nagashima', 'Japan')\n",
      "('Fujiyama', 'Fuji-Q Highlands', 'FujiYoshida-shi', 'Japan')\n",
      "('Thunder Dolphin', 'LaQua', 'Tokyo', 'Japan')\n",
      "('Hayabusa', 'Tokyo SummerLand', 'Tokyo', 'Japan')\n"
     ]
    }
   ],
   "source": [
    "for rec in result.fetchall():\n",
    "    print(rec)"
   ]
  },
  {
   "cell_type": "markdown",
   "id": "2259b8e6-6881-47ad-ac16-67b24b3887a7",
   "metadata": {},
   "source": [
    "## Context Managers\n",
    "\n",
    "Python comes with a `with` keyword.  The object that follows should be a context manager, meaning it contains `__enter__` and `__exit__` methods.\n",
    "\n",
    "Here's a simple example:"
   ]
  },
  {
   "cell_type": "code",
   "execution_count": 12,
   "id": "b1c8b0ba-439d-4f4d-a0ac-6ea63152e79a",
   "metadata": {},
   "outputs": [],
   "source": [
    "class CM:\n",
    "    \n",
    "    def __init__(self):  # optional\n",
    "        self.something = 10\n",
    "        \n",
    "    def __enter__(self):\n",
    "        print(\"__enter__ triggered\")\n",
    "        return self.something  \n",
    "    \n",
    "    def __exit__(self, *oops):\n",
    "        print(\"__exit__ triggered\")"
   ]
  },
  {
   "cell_type": "code",
   "execution_count": 13,
   "id": "005a384b-18be-4fdc-be31-59f5ce98aaf2",
   "metadata": {},
   "outputs": [
    {
     "name": "stdout",
     "output_type": "stream",
     "text": [
      "__enter__ triggered\n",
      "What __enter__ returned:  10\n",
      "... still in the with block\n",
      "__exit__ triggered\n",
      "Outside the with block\n"
     ]
    }
   ],
   "source": [
    "with CM() as target:\n",
    "    print(\"What __enter__ returned: \", target)\n",
    "    print(\"... still in the with block\")\n",
    "    \n",
    "print(\"Outside the with block\")"
   ]
  },
  {
   "cell_type": "markdown",
   "id": "e993aa23-1cb1-4763-87d6-02f5cff2aa62",
   "metadata": {},
   "source": [
    "Lets use this design pattern to connect to a database by means of `with`.  Entering the context involves opening the database, and exiting the with block involves closing it."
   ]
  },
  {
   "cell_type": "code",
   "execution_count": 14,
   "id": "bced2071-c7d7-4ee2-892e-08152b96daeb",
   "metadata": {},
   "outputs": [],
   "source": [
    "class DB:\n",
    "    \n",
    "    def __init__(self, name):  # optional\n",
    "        self.db = name\n",
    "        \n",
    "    def __enter__(self):\n",
    "        print(\"opening db\")\n",
    "        self.conn = sql.connect(self.db)\n",
    "        self.cur  = self.conn.cursor()\n",
    "        return self  # ... as db  (db will name self)\n",
    "    \n",
    "    def __exit__(self, *oops):\n",
    "        print(\"closing db\")\n",
    "        if oops == (None, None, None):  # no exceptions raised\n",
    "            self.conn.close()\n",
    "        else:\n",
    "            print(\"Something went wrong\")\n",
    "            try:\n",
    "                self.conn.close()  # will this work?\n",
    "            except:\n",
    "                raise              # if not, re-raise the exception"
   ]
  },
  {
   "cell_type": "code",
   "execution_count": 15,
   "id": "841e1312-ea8d-43ca-a1f5-4acad9ce0e48",
   "metadata": {},
   "outputs": [
    {
     "name": "stdout",
     "output_type": "stream",
     "text": [
      "opening db\n",
      "('Titan', 'Space World', 'Kitakyushu', 'Japan')\n",
      "('Steel Dragon 2000', 'Nagashima Spa Land', 'Nagashima', 'Japan')\n",
      "('Fujiyama', 'Fuji-Q Highlands', 'FujiYoshida-shi', 'Japan')\n",
      "('Thunder Dolphin', 'LaQua', 'Tokyo', 'Japan')\n",
      "('Hayabusa', 'Tokyo SummerLand', 'Tokyo', 'Japan')\n",
      "closing db\n"
     ]
    }
   ],
   "source": [
    "with DB(\"roller_coasters.db\") as db:\n",
    "    # db contains conn and cur\n",
    "    result = db.cur.execute(\"SELECT Name, Park, State, Country \"\n",
    "                            \"FROM Coasters WHERE Country == 'Japan';\") # these strings concatenate\n",
    "    for rec in result.fetchall():\n",
    "        print(rec)"
   ]
  },
  {
   "cell_type": "markdown",
   "id": "6ecf0e30-b9fb-4168-996d-067f27843d34",
   "metadata": {},
   "source": [
    "A custom context manager, say a subclass of the above, might be hard-coded to work with a specific database, and be fleshed out with many more methods for using it, via the DB API."
   ]
  }
 ],
 "metadata": {
  "kernelspec": {
   "display_name": "Python 3 (ipykernel)",
   "language": "python",
   "name": "python3"
  },
  "language_info": {
   "codemirror_mode": {
    "name": "ipython",
    "version": 3
   },
   "file_extension": ".py",
   "mimetype": "text/x-python",
   "name": "python",
   "nbconvert_exporter": "python",
   "pygments_lexer": "ipython3",
   "version": "3.9.15"
  }
 },
 "nbformat": 4,
 "nbformat_minor": 5
}
