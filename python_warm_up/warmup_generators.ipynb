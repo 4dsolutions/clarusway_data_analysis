{
 "cells": [
  {
   "cell_type": "markdown",
   "id": "c77bfc68-550c-4683-a4f8-ae964b17656b",
   "metadata": {},
   "source": [
    "<a href=\"https://colab.research.google.com/github/4dsolutions/clarusway_data_analysis/blob/main/python_warm_up/warmup_object_sql.ipynb\"><img align=\"left\" src=\"https://colab.research.google.com/assets/colab-badge.svg\" alt=\"Open in Colab\" title=\"Open and Execute in Google Colaboratory\"></a><br/>\n",
    "[![nbviewer](https://raw.githubusercontent.com/jupyter/design/master/logos/Badges/nbviewer_badge.svg)](https://nbviewer.org/github/4dsolutions/clarusway_data_analysis/blob/main/python_warm_up/warmup_object_sql.ipynb)"
   ]
  },
  {
   "cell_type": "markdown",
   "id": "ef82818c-617b-4f31-a5ab-8baac60ccbab",
   "metadata": {},
   "source": [
    "# Iterators and Generators\n",
    "\n",
    "<a data-flickr-embed=\"true\" href=\"https://www.flickr.com/photos/kirbyurner/52563704012/in/album-72177720296706479/\" title=\"LMS Dashboard\"><img src=\"https://live.staticflickr.com/65535/52563704012_71ef4beb8a_b.jpg\" width=\"1024\" height=\"354\" alt=\"LMS Dashboard\"></a><script async src=\"//embedr.flickr.com/assets/client-code.js\" charset=\"utf-8\"></script>"
   ]
  },
  {
   "cell_type": "markdown",
   "id": "b19a6fc1-0ff5-4c84-873b-523cbacd73b3",
   "metadata": {},
   "source": [
    "Python Warm-up Notebooks:\n",
    "\n",
    "*  [Introduction to Python](warmup_python_intro.ipynb)\n",
    "*  [3rd Party Libraries](warmup_3rd_party_datascience.ipynb)\n",
    "*  [Object Types](warmup_data_structures.ipynb)\n",
    "*  [Object Oriented Paradigm](warmup_object_oriented.ipynb)\n",
    "*  [Calling Callables and Type Checking](warmup_callables.ipynb)\n",
    "*  [Class and Static Methods, Properties](warmup_object_oriented2.ipynb)\n",
    "*  [SQLite3 and Context Managers](warmup_object_sql.ipynb) \n",
    "*  [Iterators and Generators](warmup_generators.ipynb) (you are here)"
   ]
  },
  {
   "cell_type": "markdown",
   "id": "139343a2-6033-44e9-b0ba-bc95cc9f7dee",
   "metadata": {},
   "source": [
    "## Iterators\n",
    "\n",
    "In Python, an iterator is any object with an internal `__next__` method, as well as an `__iter__` method, which latter may simply return `self` because the object in question is an iterator already.\n",
    "\n",
    "The list type, for example, implements `__iter__`, triggered by calling `iter(L)` where L is some list.  The `for loop` construct does this implicitly i.e. it turns whatever it needs to loop over, into an iterator first."
   ]
  },
  {
   "cell_type": "code",
   "execution_count": 1,
   "id": "d14c3808-a194-4acc-93cc-7c0076f62b4e",
   "metadata": {},
   "outputs": [],
   "source": [
    "foods = '🍕🥯🍿'   # a string of food emoji"
   ]
  },
  {
   "cell_type": "code",
   "execution_count": 2,
   "id": "2578373a-a801-46a7-a9d8-029dbb56fd97",
   "metadata": {},
   "outputs": [
    {
     "data": {
      "text/plain": [
       "True"
      ]
     },
     "execution_count": 2,
     "metadata": {},
     "output_type": "execute_result"
    }
   ],
   "source": [
    "\"__iter__\" in dir(foods)"
   ]
  },
  {
   "cell_type": "code",
   "execution_count": 3,
   "id": "90fa74d8-9a69-412a-94b4-340c1f5f2d7d",
   "metadata": {},
   "outputs": [
    {
     "data": {
      "text/plain": [
       "False"
      ]
     },
     "execution_count": 3,
     "metadata": {},
     "output_type": "execute_result"
    }
   ],
   "source": [
    "\"__next__\" in dir(foods)"
   ]
  },
  {
   "cell_type": "code",
   "execution_count": 4,
   "id": "7950f56f-7357-41b2-a706-8e7b026e6fdc",
   "metadata": {},
   "outputs": [],
   "source": [
    "obj = iter(foods)"
   ]
  },
  {
   "cell_type": "code",
   "execution_count": 5,
   "id": "22e87a20-8e01-4041-a8b4-d205b7119a33",
   "metadata": {},
   "outputs": [
    {
     "data": {
      "text/plain": [
       "str_iterator"
      ]
     },
     "execution_count": 5,
     "metadata": {},
     "output_type": "execute_result"
    }
   ],
   "source": [
    "type(obj)"
   ]
  },
  {
   "cell_type": "code",
   "execution_count": 6,
   "id": "0937c306-cda6-4581-a650-b9c274592298",
   "metadata": {},
   "outputs": [
    {
     "data": {
      "text/plain": [
       "True"
      ]
     },
     "execution_count": 6,
     "metadata": {},
     "output_type": "execute_result"
    }
   ],
   "source": [
    "\"__next__\" in dir(obj)"
   ]
  },
  {
   "cell_type": "code",
   "execution_count": 7,
   "id": "88c2a04c-2023-445c-ab0a-009df0002b49",
   "metadata": {},
   "outputs": [
    {
     "data": {
      "text/plain": [
       "'🍕'"
      ]
     },
     "execution_count": 7,
     "metadata": {},
     "output_type": "execute_result"
    }
   ],
   "source": [
    "next(obj)"
   ]
  },
  {
   "cell_type": "code",
   "execution_count": 8,
   "id": "38e8f840-b783-49b5-80ac-83bfd95821c8",
   "metadata": {},
   "outputs": [
    {
     "data": {
      "text/plain": [
       "'🥯'"
      ]
     },
     "execution_count": 8,
     "metadata": {},
     "output_type": "execute_result"
    }
   ],
   "source": [
    "next(obj)"
   ]
  },
  {
   "cell_type": "code",
   "execution_count": 9,
   "id": "136342d7-b6ed-4f52-9391-dbca771a7a7a",
   "metadata": {},
   "outputs": [
    {
     "data": {
      "text/plain": [
       "'🍿'"
      ]
     },
     "execution_count": 9,
     "metadata": {},
     "output_type": "execute_result"
    }
   ],
   "source": [
    "next(obj)"
   ]
  },
  {
   "cell_type": "code",
   "execution_count": 10,
   "id": "97845d3f-f6f8-466b-8319-ea0adde824e6",
   "metadata": {},
   "outputs": [
    {
     "name": "stdout",
     "output_type": "stream",
     "text": [
      "Sorry, I've reached the end of the line\n"
     ]
    }
   ],
   "source": [
    "try:\n",
    "    next(obj)\n",
    "except StopIteration:\n",
    "    print(\"Sorry, I've reached the end of the line\")"
   ]
  },
  {
   "cell_type": "markdown",
   "id": "aafc9e0a-3253-46ac-94b7-d8d2009672b0",
   "metadata": {},
   "source": [
    "The `StopIteration` exception is what stops a for loop, causing it to not re-enter the for block.  The for loop below explicitly turns `foods` into an iterator, however Python does this for you, by virtue of your using a for loop."
   ]
  },
  {
   "cell_type": "code",
   "execution_count": 11,
   "id": "76b67048-11ae-4e48-b064-cf99f30b2fe9",
   "metadata": {},
   "outputs": [
    {
     "name": "stdout",
     "output_type": "stream",
     "text": [
      "🍕\n",
      "🥯\n",
      "🍿\n"
     ]
    }
   ],
   "source": [
    "for food in iter(foods):\n",
    "    print(food)"
   ]
  },
  {
   "cell_type": "code",
   "execution_count": 12,
   "id": "f1bb1002-5c7e-4fd7-b59d-52037f697226",
   "metadata": {},
   "outputs": [
    {
     "data": {
      "text/plain": [
       "True"
      ]
     },
     "execution_count": 12,
     "metadata": {},
     "output_type": "execute_result"
    }
   ],
   "source": [
    "\"__next__\" in dir(obj)"
   ]
  },
  {
   "cell_type": "code",
   "execution_count": 13,
   "id": "ce8eba12-b9c8-43e5-b001-24dedd439459",
   "metadata": {},
   "outputs": [
    {
     "data": {
      "text/plain": [
       "False"
      ]
     },
     "execution_count": 13,
     "metadata": {},
     "output_type": "execute_result"
    }
   ],
   "source": [
    "\"__next__\" in dir(foods)"
   ]
  },
  {
   "cell_type": "markdown",
   "id": "93fe88df-a34e-45dc-904e-8219ce951f6b",
   "metadata": {},
   "source": [
    "What you might be thinking, now that we have seen how `__ribs__` work, is that we might define our own iterators, using the keyword `class`.  For example, suppose we want an iterator that returns even numbers ad infinitum.  We could write something like this:"
   ]
  },
  {
   "cell_type": "code",
   "execution_count": 14,
   "id": "4795136b-fb83-4be5-b88b-0ad1723cc119",
   "metadata": {},
   "outputs": [],
   "source": [
    "class Evens:\n",
    "    \n",
    "    def __init__(self):\n",
    "        self.value = 0\n",
    "        \n",
    "    def __next__(self):\n",
    "        self.value += 2\n",
    "        return self.value\n",
    "    \n",
    "    def __iter__(self):\n",
    "        return self"
   ]
  },
  {
   "cell_type": "code",
   "execution_count": 15,
   "id": "98c997ee-07de-4620-8bcd-5eed826e3b2e",
   "metadata": {},
   "outputs": [],
   "source": [
    "evens = Evens()"
   ]
  },
  {
   "cell_type": "code",
   "execution_count": 16,
   "id": "98cf4690-d6b8-4385-96e7-59d08146f0a6",
   "metadata": {},
   "outputs": [
    {
     "data": {
      "text/plain": [
       "2"
      ]
     },
     "execution_count": 16,
     "metadata": {},
     "output_type": "execute_result"
    }
   ],
   "source": [
    "next(evens)"
   ]
  },
  {
   "cell_type": "code",
   "execution_count": 17,
   "id": "ea5f8686-21b0-4794-8eb1-d7abbbeaf8e7",
   "metadata": {},
   "outputs": [
    {
     "data": {
      "text/plain": [
       "4"
      ]
     },
     "execution_count": 17,
     "metadata": {},
     "output_type": "execute_result"
    }
   ],
   "source": [
    "next(evens)"
   ]
  },
  {
   "cell_type": "code",
   "execution_count": 18,
   "id": "2159fb8b-c60e-4b4a-b4ad-c46be5fdfa90",
   "metadata": {},
   "outputs": [
    {
     "name": "stdout",
     "output_type": "stream",
     "text": [
      "[6, 8, 10, 12, 14, 16, 18, 20, 22, 24, 26, 28, 30, 32, 34, 36, 38, 40, 42, 44]\n"
     ]
    }
   ],
   "source": [
    "print([next(evens) for _ in range(20)])"
   ]
  },
  {
   "cell_type": "markdown",
   "id": "f9f50dc8-0c10-448b-b997-a7dd9aa3e15f",
   "metadata": {},
   "source": [
    "That works!"
   ]
  },
  {
   "cell_type": "markdown",
   "id": "4227822c-1340-4281-aa63-49ba2466c26d",
   "metadata": {},
   "source": [
    "## Generator Functions\n",
    "\n",
    "However, much as classes such as the above may be useful (think of writing Primes() for example, that always gives a next higher prime number), Python gives us another way to define iterators, using function syntax `def` and the keyword `yield`."
   ]
  },
  {
   "cell_type": "code",
   "execution_count": 19,
   "id": "975c8d9e-3529-44f7-9f9d-fa89c49aafaf",
   "metadata": {},
   "outputs": [],
   "source": [
    "def evens():\n",
    "    value = 0\n",
    "    while True:\n",
    "        value += 2\n",
    "        yield value"
   ]
  },
  {
   "cell_type": "code",
   "execution_count": 20,
   "id": "bc8c33ff-2198-4e0d-9d3e-62d9fc643cfc",
   "metadata": {},
   "outputs": [],
   "source": [
    "the_evens = evens()  # nothing runs yet"
   ]
  },
  {
   "cell_type": "code",
   "execution_count": 21,
   "id": "005376dc-20fe-4a1c-ae02-b5f455ec7ef2",
   "metadata": {},
   "outputs": [
    {
     "data": {
      "text/plain": [
       "2"
      ]
     },
     "execution_count": 21,
     "metadata": {},
     "output_type": "execute_result"
    }
   ],
   "source": [
    "next(the_evens)      # next means \"run until a yield\""
   ]
  },
  {
   "cell_type": "code",
   "execution_count": 22,
   "id": "e71d622f-fdb3-4b99-9999-5d5ed1fde238",
   "metadata": {},
   "outputs": [
    {
     "data": {
      "text/plain": [
       "4"
      ]
     },
     "execution_count": 22,
     "metadata": {},
     "output_type": "execute_result"
    }
   ],
   "source": [
    "next(the_evens)"
   ]
  },
  {
   "cell_type": "code",
   "execution_count": 23,
   "id": "1bc46b92-5a0b-4f66-a388-d346e63fe0a9",
   "metadata": {},
   "outputs": [
    {
     "data": {
      "text/plain": [
       "6"
      ]
     },
     "execution_count": 23,
     "metadata": {},
     "output_type": "execute_result"
    }
   ],
   "source": [
    "next(the_evens)"
   ]
  },
  {
   "cell_type": "code",
   "execution_count": 24,
   "id": "1873e59a-d865-4d9e-a443-da636af8df9a",
   "metadata": {},
   "outputs": [
    {
     "data": {
      "text/plain": [
       "True"
      ]
     },
     "execution_count": 24,
     "metadata": {},
     "output_type": "execute_result"
    }
   ],
   "source": [
    "\"__next__\" in dir(the_evens)  # it's in there, even though we didn't explicitly define it"
   ]
  },
  {
   "cell_type": "code",
   "execution_count": 25,
   "id": "35bb92b3-0215-4bea-8c12-64d089140c55",
   "metadata": {},
   "outputs": [
    {
     "data": {
      "text/plain": [
       "True"
      ]
     },
     "execution_count": 25,
     "metadata": {},
     "output_type": "execute_result"
    }
   ],
   "source": [
    "\"__iter__\" in dir(the_evens)  # any generator function instance is an iterator"
   ]
  },
  {
   "cell_type": "code",
   "execution_count": 26,
   "id": "b9c673c0-4cd5-4605-a79c-a8372a680e83",
   "metadata": {},
   "outputs": [
    {
     "data": {
      "text/plain": [
       "generator"
      ]
     },
     "execution_count": 26,
     "metadata": {},
     "output_type": "execute_result"
    }
   ],
   "source": [
    "type(the_evens)"
   ]
  },
  {
   "cell_type": "markdown",
   "id": "e028f594-d188-4e85-b2c6-76e1b72fe292",
   "metadata": {},
   "source": [
    "## Generator Expressions\n",
    "\n",
    "What is the point of iterators and generators?  For one thing, they can save memory.  We have infinite primes in principle, but if all we need is a next one, then why bother storing many, let alone \"all\" (an impossibility)?  A generator lets us compute a next result on the fly."
   ]
  },
  {
   "cell_type": "code",
   "execution_count": 27,
   "id": "48e16b3f-2f31-4cd2-947e-a1e149de4794",
   "metadata": {},
   "outputs": [],
   "source": [
    "from itertools import count  # more about this library below"
   ]
  },
  {
   "cell_type": "code",
   "execution_count": 28,
   "id": "e5533c93-6d39-4311-91ad-021b2906e8da",
   "metadata": {},
   "outputs": [],
   "source": [
    "it = count()   # a generator that yields consecutive integers"
   ]
  },
  {
   "cell_type": "code",
   "execution_count": 29,
   "id": "c67c26a3-4249-4d23-a16b-d322678c8fde",
   "metadata": {},
   "outputs": [
    {
     "data": {
      "text/plain": [
       "0"
      ]
     },
     "execution_count": 29,
     "metadata": {},
     "output_type": "execute_result"
    }
   ],
   "source": [
    "next(it)       # ... starting at 0"
   ]
  },
  {
   "cell_type": "code",
   "execution_count": 30,
   "id": "e9ad2728-968c-481c-98f4-109cf4f37baf",
   "metadata": {},
   "outputs": [
    {
     "data": {
      "text/plain": [
       "1"
      ]
     },
     "execution_count": 30,
     "metadata": {},
     "output_type": "execute_result"
    }
   ],
   "source": [
    "next(it)       # reinitialize to start over"
   ]
  },
  {
   "cell_type": "code",
   "execution_count": 31,
   "id": "a75ee8f0-32e2-4908-8595-7f5f9ec4d338",
   "metadata": {},
   "outputs": [],
   "source": [
    "it = count()\n",
    "anyseq = 'ABCDEFG '  # 8 characters including space\n",
    "thegen = (anyseq[n % 8] for n in it)  # as n increases n % 8 will cycle 0 1 2 3 4 5 6 7 0 1 2 3 4... "
   ]
  },
  {
   "cell_type": "code",
   "execution_count": 32,
   "id": "ac24f5f8-ca47-4a5a-8da1-b0504686c032",
   "metadata": {},
   "outputs": [
    {
     "data": {
      "text/plain": [
       "'A'"
      ]
     },
     "execution_count": 32,
     "metadata": {},
     "output_type": "execute_result"
    }
   ],
   "source": [
    "next(thegen)"
   ]
  },
  {
   "cell_type": "code",
   "execution_count": 33,
   "id": "316f72ef-c064-49d5-8639-24994b55ca79",
   "metadata": {},
   "outputs": [
    {
     "data": {
      "text/plain": [
       "'B'"
      ]
     },
     "execution_count": 33,
     "metadata": {},
     "output_type": "execute_result"
    }
   ],
   "source": [
    "next(thegen)"
   ]
  },
  {
   "cell_type": "code",
   "execution_count": 34,
   "id": "21035a73-050f-4033-adcb-de8d324fd918",
   "metadata": {},
   "outputs": [
    {
     "name": "stdout",
     "output_type": "stream",
     "text": [
      "ABCDEFG ABCDEFG ABCDEFG ABCDEFG\n"
     ]
    }
   ],
   "source": [
    "it = count()  # reinitialize\n",
    "letters = [ ]\n",
    "thegen = (anyseq[n % 8] for n in it)  # generator expression\n",
    "\n",
    "for c in thegen:  # keep getting the next letter\n",
    "    if len(letters) > 30:\n",
    "        break\n",
    "    letters.append(c)\n",
    "\n",
    "print(''.join(letters))"
   ]
  },
  {
   "cell_type": "markdown",
   "id": "0acdfd02-70a5-47a9-b64e-77fbcdf71d16",
   "metadata": {},
   "source": [
    "## itertools in the Standard Library\n",
    "\n",
    "The art of using iterators wisely takes some thought and practice.  [The itertools library](https://docs.python.org/3/library/itertools.html) provides a set of common iterators worth playing with, as a means of familiarizing yourself with what's in the toolbox.\n",
    "\n",
    "A better way to accomplish the cycling through characters shown above, would invole using `cycle`."
   ]
  },
  {
   "cell_type": "code",
   "execution_count": 35,
   "id": "a154b9d8-4e96-4833-a623-0a448197f68f",
   "metadata": {},
   "outputs": [
    {
     "name": "stdout",
     "output_type": "stream",
     "text": [
      "ABCDEFG ABCDEFG ABCDEFG ABCDEFG\n"
     ]
    }
   ],
   "source": [
    "from itertools import cycle, islice\n",
    "\n",
    "thegen = cycle('ABCDEFG ')\n",
    "\n",
    "for c in thegen:  # keep getting the next letter\n",
    "    if len(letters) > 30:\n",
    "        break\n",
    "    letters.append(c)\n",
    "    \n",
    "print(''.join(letters))"
   ]
  },
  {
   "cell_type": "code",
   "execution_count": 36,
   "id": "139e4355-8bad-44d3-9ecf-569cd2c1369b",
   "metadata": {},
   "outputs": [
    {
     "name": "stdout",
     "output_type": "stream",
     "text": [
      "ABCDEFG ABCDEFG ABCDEFG ABCDEFG\n"
     ]
    }
   ],
   "source": [
    "print(''.join(islice(cycle('ABCDEFG '), 31)))  # even simpler, using islice"
   ]
  }
 ],
 "metadata": {
  "kernelspec": {
   "display_name": "Python 3 (ipykernel)",
   "language": "python",
   "name": "python3"
  },
  "language_info": {
   "codemirror_mode": {
    "name": "ipython",
    "version": 3
   },
   "file_extension": ".py",
   "mimetype": "text/x-python",
   "name": "python",
   "nbconvert_exporter": "python",
   "pygments_lexer": "ipython3",
   "version": "3.9.15"
  }
 },
 "nbformat": 4,
 "nbformat_minor": 5
}
