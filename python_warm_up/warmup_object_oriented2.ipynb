{
 "cells": [
  {
   "cell_type": "markdown",
   "id": "696f0d85-b8cd-4a15-8de6-da9ae2ef0ddf",
   "metadata": {},
   "source": [
    "<a href=\"https://colab.research.google.com/github/4dsolutions/clarusway_data_analysis/blob/main/python_warm_up/object_oriented2.ipynb\"><img align=\"left\" src=\"https://colab.research.google.com/assets/colab-badge.svg\" alt=\"Open in Colab\" title=\"Open and Execute in Google Colaboratory\"></a><br/>\n",
    "[![nbviewer](https://raw.githubusercontent.com/jupyter/design/master/logos/Badges/nbviewer_badge.svg)](https://nbviewer.org/github/4dsolutions/clarusway_data_analysis/blob/main/python_warm_up/warmup_object_oriented2.ipynb)\n"
   ]
  },
  {
   "cell_type": "markdown",
   "id": "ef82818c-617b-4f31-a5ab-8baac60ccbab",
   "metadata": {},
   "source": [
    "# Class and Static Methods, Properties\n",
    "\n",
    "<a data-flickr-embed=\"true\" href=\"https://www.flickr.com/photos/kirbyurner/52563704012/in/album-72177720296706479/\" title=\"LMS Dashboard\"><img src=\"https://live.staticflickr.com/65535/52563704012_71ef4beb8a_b.jpg\" width=\"1024\" height=\"354\" alt=\"LMS Dashboard\"></a><script async src=\"//embedr.flickr.com/assets/client-code.js\" charset=\"utf-8\"></script>"
   ]
  },
  {
   "cell_type": "markdown",
   "id": "b19a6fc1-0ff5-4c84-873b-523cbacd73b3",
   "metadata": {},
   "source": [
    "Python Warm-up Notebooks:\n",
    "\n",
    "*  [Introduction to Python](warmup_python_intro.ipynb)\n",
    "*  [3rd Party Libraries](warmup_3rd_party_datascience.ipynb)\n",
    "*  [Object Types](warmup_data_structures.ipynb)\n",
    "*  [Object Oriented Paradigm](warmup_object_oriented.ipynb)\n",
    "*  [Calling Callables and Type Checking](warmup_callables.ipynb)\n",
    "*  [Class and Static Methods, Properties](warmup_object_oriented2.ipynb)  (you are here)\n",
    "*  [SQLite3 and Context Managers](warmup_object_sql.ipynb)\n",
    "*  [Iterators and Generators](warmup_generators.ipynb) "
   ]
  },
  {
   "cell_type": "markdown",
   "id": "9cc25d05-ffbf-4c59-8139-a7fb435a138b",
   "metadata": {},
   "source": [
    "## What is self?\n",
    "\n",
    "What may seem mysterious at first, when inspecting class code, is the meaning of `self`, which is not a keyword so much as a placeholder.  Other names could go here, but the convention is to use `self` without exception.\n",
    "\n",
    "Let's use `me` instead."
   ]
  },
  {
   "cell_type": "code",
   "execution_count": 1,
   "id": "67a32213-649f-4c34-a987-b76a4c1b391a",
   "metadata": {},
   "outputs": [],
   "source": [
    "class Animal:\n",
    "\n",
    "    version = 1.2\n",
    "    \n",
    "    def __init__(me):       # a me is born\n",
    "        me.stomach = []   # ... with an empty stomach\n",
    "        \n",
    "    def eat(me, food):    # a verb, something I, an Animal self, do\n",
    "        me.stomach.append(food)    \n",
    "\n",
    "class Cat(Animal):\n",
    "    \n",
    "    def __call__(self, n):\n",
    "        return \"Meow! \" * n\n",
    "\n",
    "    def __repr__(self):     \n",
    "        return \"Cat at \" + str(id(self)) \n",
    "    \n",
    "class Donkey(Animal):\n",
    "    \n",
    "    def __call__(self, n):\n",
    "        return \"HeeHaw! \" * n\n",
    "\n",
    "    def __repr__(self):     \n",
    "        return \"Donkey at \" + str(id(self)) "
   ]
  },
  {
   "cell_type": "code",
   "execution_count": 2,
   "id": "cf34cbf9-2251-41f4-9356-ee118f633a50",
   "metadata": {},
   "outputs": [
    {
     "data": {
      "text/plain": [
       "'Meow! Meow! Meow! Meow! Meow! '"
      ]
     },
     "execution_count": 2,
     "metadata": {},
     "output_type": "execute_result"
    }
   ],
   "source": [
    "kitty = Cat()   # __init__ is in the parent Animal class\n",
    "kitty.eat(\"mouse\")\n",
    "kitty(5)"
   ]
  },
  {
   "cell_type": "code",
   "execution_count": 3,
   "id": "a1bd1c35-5280-4efb-b2ee-75057b51801c",
   "metadata": {},
   "outputs": [
    {
     "data": {
      "text/plain": [
       "['mouse']"
      ]
     },
     "execution_count": 3,
     "metadata": {},
     "output_type": "execute_result"
    }
   ],
   "source": [
    "kitty.stomach"
   ]
  },
  {
   "cell_type": "code",
   "execution_count": 4,
   "id": "1a3bf247-110d-4734-b1ec-2a88811973a2",
   "metadata": {},
   "outputs": [
    {
     "data": {
      "text/plain": [
       "'HeeHaw! HeeHaw! HeeHaw! HeeHaw! HeeHaw! '"
      ]
     },
     "execution_count": 4,
     "metadata": {},
     "output_type": "execute_result"
    }
   ],
   "source": [
    "kong = Donkey()\n",
    "kong.eat(\"hay\")  # eat is in the parent class\n",
    "kong(5)"
   ]
  },
  {
   "cell_type": "markdown",
   "id": "5b6084a3-6c7e-412f-984b-cb73d5b0a139",
   "metadata": {},
   "source": [
    "What's going on with the three classes?  The Cat and Donkey classes are *subclasses* of the Animal class.  We may say that Animal is the parent class, or super class, of Cat and Donkey.\n",
    "\n",
    "What this means is that if a method such as `eat` cannot be found inside `Cat`, look higher in the class hierarchy.  What is `Cat` descended from?  `Animal`.  So look there.  Keep ascending the class hierarchy (picture a tree) all the way up to the top, which is `object` (all ordinary classes inherit from object)."
   ]
  },
  {
   "cell_type": "code",
   "execution_count": 5,
   "id": "6b6318b2-b44a-4065-8211-76259c6138e0",
   "metadata": {},
   "outputs": [
    {
     "data": {
      "text/plain": [
       "(__main__.Cat, __main__.Animal, object)"
      ]
     },
     "execution_count": 5,
     "metadata": {},
     "output_type": "execute_result"
    }
   ],
   "source": [
    "Cat.__mro__   # when looking for a method or attribute, follow this sequence"
   ]
  },
  {
   "cell_type": "markdown",
   "id": "0e1b8ca8-b5ac-491f-85b0-0f10cfb3fa1c",
   "metadata": {},
   "source": [
    "`__mro__` stands for \"method resolution order\" and shows in what order the class hierarchy will be consulted when looking for a matching method or attribute name."
   ]
  },
  {
   "cell_type": "code",
   "execution_count": 6,
   "id": "6c5366fb-1391-4dbe-8e7a-2314bc837b75",
   "metadata": {},
   "outputs": [
    {
     "data": {
      "text/plain": [
       "True"
      ]
     },
     "execution_count": 6,
     "metadata": {},
     "output_type": "execute_result"
    }
   ],
   "source": [
    "issubclass(Cat, Animal)"
   ]
  },
  {
   "cell_type": "code",
   "execution_count": 7,
   "id": "236f946b-bbb1-4664-b07a-db5fcdd512d7",
   "metadata": {},
   "outputs": [
    {
     "data": {
      "text/plain": [
       "True"
      ]
     },
     "execution_count": 7,
     "metadata": {},
     "output_type": "execute_result"
    }
   ],
   "source": [
    "isinstance(kitty, Cat)"
   ]
  },
  {
   "cell_type": "code",
   "execution_count": 8,
   "id": "31afb922-8043-4243-af83-d5c739a33b7a",
   "metadata": {},
   "outputs": [
    {
     "data": {
      "text/plain": [
       "False"
      ]
     },
     "execution_count": 8,
     "metadata": {},
     "output_type": "execute_result"
    }
   ],
   "source": [
    "isinstance(kong, Cat)"
   ]
  },
  {
   "cell_type": "code",
   "execution_count": 9,
   "id": "00657500-fcd8-4c3d-8a32-74f9f6caa7ad",
   "metadata": {},
   "outputs": [
    {
     "data": {
      "text/plain": [
       "True"
      ]
     },
     "execution_count": 9,
     "metadata": {},
     "output_type": "execute_result"
    }
   ],
   "source": [
    "isinstance(kong, Animal)"
   ]
  },
  {
   "cell_type": "code",
   "execution_count": 10,
   "id": "b133c375-2ed2-4756-8139-7299ac8db729",
   "metadata": {},
   "outputs": [
    {
     "data": {
      "text/plain": [
       "True"
      ]
     },
     "execution_count": 10,
     "metadata": {},
     "output_type": "execute_result"
    }
   ],
   "source": [
    "issubclass(Donkey, Animal)"
   ]
  },
  {
   "cell_type": "markdown",
   "id": "4a9d3843-8bba-4608-83df-9ad9d01edfcc",
   "metadata": {},
   "source": [
    "When a new cat or donkey is needed, we call Cat or Donkey, but neither has an explicit initializer.  Therefore Python searches in their common parent class, Animal, and here is where a self is born, or call it a me.  The `__init__` method has no `return` because at always gives back the same thing:  a new self, a new instance.\n",
    "\n",
    "Inside a given class, the particular instance we are deal with is known as `self`.  All the selves, all the instances, share the same class code in memory.  When a specific cat eats, or a specific donkey, the shared `eat` method is always used.  But Python knows which instance or self is eating, and keeps that object handy at all times.\n",
    "\n",
    "We can see the self in action if we omit it, and call a class directly.  If we do that, we have to supply the self explicitly."
   ]
  },
  {
   "cell_type": "code",
   "execution_count": 11,
   "id": "7ebd5eb9-e021-4003-ad76-9fa233909868",
   "metadata": {},
   "outputs": [],
   "source": [
    "Animal.eat(kong, 'gum drop')  # calling Animal.eat directly, so pass the self"
   ]
  },
  {
   "cell_type": "code",
   "execution_count": 12,
   "id": "cc23d3b6-d3b9-4520-9cc1-482c49ff9d89",
   "metadata": {},
   "outputs": [
    {
     "data": {
      "text/plain": [
       "['hay', 'gum drop']"
      ]
     },
     "execution_count": 12,
     "metadata": {},
     "output_type": "execute_result"
    }
   ],
   "source": [
    "kong.stomach"
   ]
  },
  {
   "cell_type": "code",
   "execution_count": 13,
   "id": "e6d91df5-6536-476d-8058-684b2106056a",
   "metadata": {},
   "outputs": [],
   "source": [
    "kitty.eat('sushi')  # the self is already known, so we don't pass it"
   ]
  },
  {
   "cell_type": "code",
   "execution_count": 14,
   "id": "089bf93e-87c1-4740-a96f-8437f4eb6fad",
   "metadata": {},
   "outputs": [
    {
     "data": {
      "text/plain": [
       "['mouse', 'sushi']"
      ]
     },
     "execution_count": 14,
     "metadata": {},
     "output_type": "execute_result"
    }
   ],
   "source": [
    "kitty.stomach"
   ]
  },
  {
   "cell_type": "markdown",
   "id": "40f81986-c88d-4ae4-8323-6cb6042c5989",
   "metadata": {},
   "source": [
    "## @staticmethod and @classmethod\n",
    "\n",
    "Suppose we do not want or need to work with a specific self or instance.  We would like to change the attributes of an entire class, irrespective of its instances.  That's where `classmethod` comes in handy.  \n",
    "\n",
    "By using the `@classmethod` decorator above a method, the method becomes \"about the class\" and its leftmost argument will now be the class itself instead of the instance (self).\n",
    "\n",
    "A `staticmethod` does not even care about what class it's in."
   ]
  },
  {
   "cell_type": "code",
   "execution_count": 15,
   "id": "764928e6-fcd3-4cdd-a062-9442edccf76c",
   "metadata": {},
   "outputs": [],
   "source": [
    "import random\n",
    "\n",
    "class Dog(Animal):\n",
    "    \n",
    "    @staticmethod\n",
    "    def version():\n",
    "        return \"2.1\"\n",
    "    \n",
    "    tricks = ['play dead', 'roll over', 'fetch', 'sit']  # class level\n",
    "    \n",
    "    @classmethod\n",
    "    def add_trick(cls, trick):\n",
    "        cls.tricks.append(trick)\n",
    "#   add_trick = classmethod(add_trick) <-- same as using a decorator\n",
    "        \n",
    "    def do_trick(self):\n",
    "        return random.choice(self.tricks)  # finds tricks at the Dog level\n",
    "    \n",
    "    def __call__(self, n):\n",
    "        return \"Bark! \" * n\n",
    "\n",
    "    def __repr__(self):     \n",
    "        return \"Donkey at \" + str(id(self)) "
   ]
  },
  {
   "cell_type": "code",
   "execution_count": 16,
   "id": "b6af981f-b391-4331-afbf-827ee5e9fee9",
   "metadata": {},
   "outputs": [
    {
     "data": {
      "text/plain": [
       "'sit'"
      ]
     },
     "execution_count": 16,
     "metadata": {},
     "output_type": "execute_result"
    }
   ],
   "source": [
    "fido = Dog()\n",
    "rover = Dog()\n",
    "fido.do_trick()"
   ]
  },
  {
   "cell_type": "code",
   "execution_count": 17,
   "id": "d39f9a31-0558-4e90-837f-39742a5b5c99",
   "metadata": {},
   "outputs": [
    {
     "data": {
      "text/plain": [
       "{'stomach': []}"
      ]
     },
     "execution_count": 17,
     "metadata": {},
     "output_type": "execute_result"
    }
   ],
   "source": [
    "fido.__dict__  # no knowledge of tricks at the instance level"
   ]
  },
  {
   "cell_type": "code",
   "execution_count": 18,
   "id": "249f563e-fa86-4d4a-9c83-5553332d9bab",
   "metadata": {},
   "outputs": [
    {
     "data": {
      "text/plain": [
       "['play dead', 'roll over', 'fetch', 'sit', 'lie down']"
      ]
     },
     "execution_count": 18,
     "metadata": {},
     "output_type": "execute_result"
    }
   ],
   "source": [
    "fido.add_trick('lie down')\n",
    "Dog.tricks"
   ]
  },
  {
   "cell_type": "code",
   "execution_count": 19,
   "id": "269dd8d3-6a01-40df-860a-8ffb3e972514",
   "metadata": {},
   "outputs": [
    {
     "data": {
      "text/plain": [
       "['play dead', 'roll over', 'fetch', 'sit', 'lie down']"
      ]
     },
     "execution_count": 19,
     "metadata": {},
     "output_type": "execute_result"
    }
   ],
   "source": [
    "rover.tricks  # now rover knows them too"
   ]
  },
  {
   "cell_type": "code",
   "execution_count": 20,
   "id": "ea2800ff-526d-4fad-8d97-bf07b2941237",
   "metadata": {},
   "outputs": [
    {
     "data": {
      "text/plain": [
       "'2.1'"
      ]
     },
     "execution_count": 20,
     "metadata": {},
     "output_type": "execute_result"
    }
   ],
   "source": [
    "rover.version()"
   ]
  },
  {
   "cell_type": "markdown",
   "id": "c6612f71-2f5c-49d5-b835-3145e625a5ab",
   "metadata": {},
   "source": [
    "## @property\n",
    "\n",
    "The @property decorator allows us to disguise a method call as if merely setting an attribute.\n",
    "\n",
    "Lets define a Circle type that keeps track of its own radius, circumference, and area.  Changing any one of these attributes will change the two others.  \n",
    "\n",
    "Let's just operate with such a Circle without first looking at source code."
   ]
  },
  {
   "cell_type": "code",
   "execution_count": 21,
   "id": "a189a56e-1073-455b-9809-0533d8f53584",
   "metadata": {},
   "outputs": [],
   "source": [
    "from code_demos_circle import Circle\n",
    "import math"
   ]
  },
  {
   "cell_type": "code",
   "execution_count": 22,
   "id": "3bc5cd28-4c2b-4d77-9829-cbd0193c7ec3",
   "metadata": {},
   "outputs": [
    {
     "name": "stdout",
     "output_type": "stream",
     "text": [
      "the_circle: Circle(radius = 5)\n",
      "Area:  78.53981633974483\n",
      "Radius when Area=50: 3.989422804014327\n",
      "Radius with circumference is 2*pi: 1.0\n"
     ]
    }
   ],
   "source": [
    "the_circle = Circle(5)                  # initialize\n",
    "print(\"the_circle:\", the_circle)\n",
    "print(\"Area: \", the_circle.area)\n",
    "the_circle.area = 50                    # looks like simple assignment, triggers the setter\n",
    "print(\"Radius when Area=50:\", the_circle.radius)\n",
    "the_circle.circumference = math.pi * 2  # triggers setter\n",
    "print(\"Radius with circumference is 2*pi: {}\".format(the_circle.radius))"
   ]
  }
 ],
 "metadata": {
  "kernelspec": {
   "display_name": "Python 3 (ipykernel)",
   "language": "python",
   "name": "python3"
  },
  "language_info": {
   "codemirror_mode": {
    "name": "ipython",
    "version": 3
   },
   "file_extension": ".py",
   "mimetype": "text/x-python",
   "name": "python",
   "nbconvert_exporter": "python",
   "pygments_lexer": "ipython3",
   "version": "3.9.15"
  }
 },
 "nbformat": 4,
 "nbformat_minor": 5
}
