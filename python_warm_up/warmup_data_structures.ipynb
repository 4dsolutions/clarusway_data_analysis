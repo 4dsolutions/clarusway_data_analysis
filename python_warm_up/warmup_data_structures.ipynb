{
 "cells": [
  {
   "cell_type": "markdown",
   "id": "e6242a99-3cf5-4792-b894-ad4493241095",
   "metadata": {},
   "source": [
    "<a href=\"https://colab.research.google.com/github/4dsolutions/clarusway_data_analysis/blob/main/python_warm_up/warmup_data_structures.ipynb\"><img align=\"left\" src=\"https://colab.research.google.com/assets/colab-badge.svg\" alt=\"Open in Colab\" title=\"Open and Execute in Google Colaboratory\"></a><br/>\n",
    "[![nbviewer](https://raw.githubusercontent.com/jupyter/design/master/logos/Badges/nbviewer_badge.svg)](https://colab.research.google.com/github/4dsolutions/clarusway_data_analysis/blob/main/python_warm_up/warmup_data_structures.ipynb)\n"
   ]
  },
  {
   "cell_type": "markdown",
   "id": "43cba250-3529-412b-9e81-ee53da8480f2",
   "metadata": {},
   "source": [
    "# Python Object Types\n",
    "\n",
    "<a data-flickr-embed=\"true\" href=\"https://www.flickr.com/photos/kirbyurner/52563704012/in/album-72177720296706479/\" title=\"LMS Dashboard\"><img src=\"https://live.staticflickr.com/65535/52563704012_71ef4beb8a_b.jpg\" width=\"1024\" height=\"354\" alt=\"LMS Dashboard\"></a><script async src=\"//embedr.flickr.com/assets/client-code.js\" charset=\"utf-8\"></script>"
   ]
  },
  {
   "cell_type": "markdown",
   "id": "6da9ac0f-cc6f-4e1f-88a5-bc134771dd98",
   "metadata": {},
   "source": [
    "Python Warm-up Notebooks:\n",
    "\n",
    "*  [Introduction to Python](warmup_python_intro.ipynb)\n",
    "*  [3rd Party Libraries](warmup_3rd_party_datascience.ipynb)\n",
    "*  [Object Types](warmup_data_structures.ipynb)   (you are here)\n",
    "*  [Object Oriented Paradigm](warmup_object_oriented.ipynb)\n",
    "*  [Calling Callables and Type Checking](warmup_callables.ipynb)\n",
    "*  [Class and Static Methods, Properties](warmup_object_oriented2.ipynb)\n",
    "*  [SQLite3 and Context Managers](warmup_object_sql.ipynb)\n",
    "*  [Iterators and Generators](warmup_generators.ipynb) "
   ]
  },
  {
   "cell_type": "markdown",
   "id": "cacbac59-79ed-45cf-a0cb-48d64a2a1297",
   "metadata": {},
   "source": [
    "Exactly what is \"a type\" in Python?  \n",
    "\n",
    "Objects of a specific type have corresponding capabilities, just like in ordinary language.  \n",
    "\n",
    "Car type objects drive, horse type objects gallop, and objects of the oven type heat food.  These types of objects perform in other ways too.\n",
    "\n",
    "## Number types \n",
    "Numbers, for example, add and multiply.  \n",
    "\n",
    "Integers and floating point numbers are different types of number:"
   ]
  },
  {
   "cell_type": "code",
   "execution_count": 1,
   "id": "2573f781-48ef-4cec-baa8-864cfe381a08",
   "metadata": {},
   "outputs": [
    {
     "data": {
      "text/plain": [
       "int"
      ]
     },
     "execution_count": 1,
     "metadata": {},
     "output_type": "execute_result"
    }
   ],
   "source": [
    "type(3)"
   ]
  },
  {
   "cell_type": "code",
   "execution_count": 2,
   "id": "118671a3-b599-4b8e-922b-8b66a7a1ccc6",
   "metadata": {},
   "outputs": [
    {
     "data": {
      "text/plain": [
       "float"
      ]
     },
     "execution_count": 2,
     "metadata": {},
     "output_type": "execute_result"
    }
   ],
   "source": [
    "type(3.0)"
   ]
  },
  {
   "cell_type": "code",
   "execution_count": 3,
   "id": "95aaf9c9-2d39-4740-82aa-0e3efa257329",
   "metadata": {},
   "outputs": [
    {
     "data": {
      "text/plain": [
       "6.0"
      ]
     },
     "execution_count": 3,
     "metadata": {},
     "output_type": "execute_result"
    }
   ],
   "source": [
    "3 + 3.0"
   ]
  },
  {
   "cell_type": "markdown",
   "id": "e9efd410-f4f4-4296-87b2-2f2ac06b1779",
   "metadata": {},
   "source": [
    "We continue looking at additional number types in a section below."
   ]
  },
  {
   "cell_type": "markdown",
   "id": "0dd7f4cd-16c0-433d-b31b-c8ea98cca81a",
   "metadata": {},
   "source": [
    "## Collection Types\n",
    "\n",
    "Also among the types are \"collections\", such as \n",
    "\n",
    "* sequences, with their left-to-right order, and \n",
    "* mappings, which store (key, value) pairs in no particular order.  \n",
    "\n",
    "We also call these \"data structures\"."
   ]
  },
  {
   "cell_type": "markdown",
   "id": "2c5befce-8759-47fe-a67e-44c8d7455967",
   "metadata": {},
   "source": [
    "The Python names `sequence` and `mapping` below are to help us remember these categories, and have no special meaning in the language itself i.e. these are not keywords or the names of built-in objects.\n",
    "\n",
    "We could have used `cat` and `dog`."
   ]
  },
  {
   "cell_type": "code",
   "execution_count": 4,
   "id": "cb031295-0a98-4860-b072-738ae23899ea",
   "metadata": {},
   "outputs": [],
   "source": [
    "sequence = [1, 2, 'a', '🍿']      # a list\n",
    "mapping  = {\"Joe\":10, \"Jill\":20}  # a dict"
   ]
  },
  {
   "cell_type": "code",
   "execution_count": 5,
   "id": "bece0a4d-2411-49f4-8d68-9054cf146a5b",
   "metadata": {},
   "outputs": [
    {
     "data": {
      "text/plain": [
       "1"
      ]
     },
     "execution_count": 5,
     "metadata": {},
     "output_type": "execute_result"
    }
   ],
   "source": [
    "sequence[0]       # look up element at index position 0"
   ]
  },
  {
   "cell_type": "markdown",
   "id": "f0740d29-43ce-40be-afa1-43447810467f",
   "metadata": {},
   "source": [
    "If you're remembering the n-dimensional array type from the numpy package, that's apropos (relevant).  Native Python sequences, such as the list and range types, likewise support slicing."
   ]
  },
  {
   "cell_type": "code",
   "execution_count": 6,
   "id": "cf4f669c-fa84-4ece-b8d6-0910a400eea6",
   "metadata": {},
   "outputs": [
    {
     "data": {
      "text/plain": [
       "[2, 'a']"
      ]
     },
     "execution_count": 6,
     "metadata": {},
     "output_type": "execute_result"
    }
   ],
   "source": [
    "sequence[1:-1]"
   ]
  },
  {
   "cell_type": "code",
   "execution_count": 7,
   "id": "9c08c335-db09-431c-ae97-298ec1228af3",
   "metadata": {},
   "outputs": [
    {
     "data": {
      "text/plain": [
       "[1, 'a']"
      ]
     },
     "execution_count": 7,
     "metadata": {},
     "output_type": "execute_result"
    }
   ],
   "source": [
    "sequence[::2]   # start at element 0, jump by 2"
   ]
  },
  {
   "cell_type": "code",
   "execution_count": 8,
   "id": "980c2e8b-de97-43ed-83f3-adca879afcb7",
   "metadata": {},
   "outputs": [
    {
     "data": {
      "text/plain": [
       "[2, '🍿']"
      ]
     },
     "execution_count": 8,
     "metadata": {},
     "output_type": "execute_result"
    }
   ],
   "source": [
    "sequence[1::2]  # start at element 1, jump by 2"
   ]
  },
  {
   "cell_type": "code",
   "execution_count": 9,
   "id": "9a289882-6496-4f59-89ab-b5a8993f2695",
   "metadata": {},
   "outputs": [
    {
     "data": {
      "text/plain": [
       "20"
      ]
     },
     "execution_count": 9,
     "metadata": {},
     "output_type": "execute_result"
    }
   ],
   "source": [
    "mapping[\"Jill\"]   # look up the value with key \"Jill\""
   ]
  },
  {
   "cell_type": "code",
   "execution_count": 10,
   "id": "e8b49c0a-6e3e-4a9e-99d2-5e8d9e7f0642",
   "metadata": {},
   "outputs": [],
   "source": [
    "cat = list(reversed(sequence))  # reversed is native built in\n",
    "dog = list(mapping.items())"
   ]
  },
  {
   "cell_type": "code",
   "execution_count": 11,
   "id": "d892da02-3462-43c3-baaa-63abe6a3ec82",
   "metadata": {},
   "outputs": [
    {
     "name": "stdout",
     "output_type": "stream",
     "text": [
      "['🍿', 'a', 2, 1]\n"
     ]
    }
   ],
   "source": [
    "print(cat)    # cat is a list type object"
   ]
  },
  {
   "cell_type": "code",
   "execution_count": 12,
   "id": "9d4e251b-8a53-476f-a5a4-232caeda1535",
   "metadata": {},
   "outputs": [
    {
     "name": "stdout",
     "output_type": "stream",
     "text": [
      "[('Joe', 10), ('Jill', 20)]\n"
     ]
    }
   ],
   "source": [
    "print(dog)    # dog is a list of tuples, obtained from a dict"
   ]
  },
  {
   "cell_type": "markdown",
   "id": "f1cad1cc-b72b-4891-9cea-301c35b29a68",
   "metadata": {},
   "source": [
    "NOTE:  `reversed` does not return a list, but a specialized sequence type we're free to feed to `list`."
   ]
  },
  {
   "cell_type": "markdown",
   "id": "d726a21f-054c-4614-b54e-e3c52a87e8ae",
   "metadata": {},
   "source": [
    "## Callable Types"
   ]
  },
  {
   "cell_type": "markdown",
   "id": "9bbbd581-e5be-4a4f-b247-bf19275d39e4",
   "metadata": {},
   "source": [
    "Some types of object are what we call \"callable\", meaning we cause them to \"do something\" by using parentheses, which act like a \"mouth\" through which arguments may (or may not) be fed.  \n",
    "\n",
    "We have been using callable objects extensively already.\n",
    "\n",
    "The print object is a good example of a callable."
   ]
  },
  {
   "cell_type": "code",
   "execution_count": 13,
   "id": "2eb3e4f4-ae24-4c3c-a410-c79ead672362",
   "metadata": {},
   "outputs": [
    {
     "data": {
      "text/plain": [
       "builtin_function_or_method"
      ]
     },
     "execution_count": 13,
     "metadata": {},
     "output_type": "execute_result"
    }
   ],
   "source": [
    "type(print)  # print is the name of a callable object"
   ]
  },
  {
   "cell_type": "code",
   "execution_count": 14,
   "id": "ae203208-5550-4cd7-a148-9a5b8054f020",
   "metadata": {},
   "outputs": [
    {
     "data": {
      "text/plain": [
       "True"
      ]
     },
     "execution_count": 14,
     "metadata": {},
     "output_type": "execute_result"
    }
   ],
   "source": [
    "callable(callable)  #"
   ]
  },
  {
   "cell_type": "markdown",
   "id": "7f8ba82f-657d-4ca4-ae22-56ed53db2c5b",
   "metadata": {},
   "source": [
    "Python comes with many useful built-in types, available the moment Python starts.  These built-in tyes include the string, list, tuple, dict, set.  The number types int and float are also built in.\n",
    "\n",
    "These types, but for the None type, are also callables.  We feed them arguments to create new objects of the type in question.  We have seen this in the case of feeding a range object to a list object.  Both range and list are callables."
   ]
  },
  {
   "cell_type": "code",
   "execution_count": 15,
   "id": "4d0e1816-ec57-4937-ae58-996ed167e64f",
   "metadata": {},
   "outputs": [
    {
     "name": "stdout",
     "output_type": "stream",
     "text": [
      "<class 'type'> <class 'type'>\n"
     ]
    }
   ],
   "source": [
    "print(type(range), type(list))"
   ]
  },
  {
   "cell_type": "code",
   "execution_count": 16,
   "id": "9cc5f6f2-04e1-4c78-a11f-db3298c63364",
   "metadata": {},
   "outputs": [
    {
     "data": {
      "text/plain": [
       "[0, 1, 2, 3, 4, 5, 6, 7, 8, 9]"
      ]
     },
     "execution_count": 16,
     "metadata": {},
     "output_type": "execute_result"
    }
   ],
   "source": [
    "list(range(10))  "
   ]
  },
  {
   "cell_type": "markdown",
   "id": "156c65b8-bcec-41ed-8b0a-86e555fdadb1",
   "metadata": {},
   "source": [
    "Other types may be imported from the Standard Library, such as fractions.Fraction and decimal.Decimal.\n",
    "\n",
    "Still other types, such as the numpy array and pandas DataFrame, may be imported from 3rd party packages.\n",
    "\n",
    "Look for objects being called in the cells below:"
   ]
  },
  {
   "cell_type": "code",
   "execution_count": 17,
   "id": "cc96b6e1-8b65-4393-afc6-eb163b097cca",
   "metadata": {},
   "outputs": [],
   "source": [
    "from pandas import DataFrame\n",
    "from numpy import array"
   ]
  },
  {
   "cell_type": "code",
   "execution_count": 18,
   "id": "955f06dd-b7f8-403b-ac9f-d78eb948480e",
   "metadata": {},
   "outputs": [
    {
     "data": {
      "text/html": [
       "<div>\n",
       "<style scoped>\n",
       "    .dataframe tbody tr th:only-of-type {\n",
       "        vertical-align: middle;\n",
       "    }\n",
       "\n",
       "    .dataframe tbody tr th {\n",
       "        vertical-align: top;\n",
       "    }\n",
       "\n",
       "    .dataframe thead th {\n",
       "        text-align: right;\n",
       "    }\n",
       "</style>\n",
       "<table border=\"1\" class=\"dataframe\">\n",
       "  <thead>\n",
       "    <tr style=\"text-align: right;\">\n",
       "      <th></th>\n",
       "      <th>0</th>\n",
       "      <th>1</th>\n",
       "      <th>2</th>\n",
       "      <th>3</th>\n",
       "      <th>4</th>\n",
       "    </tr>\n",
       "  </thead>\n",
       "  <tbody>\n",
       "    <tr>\n",
       "      <th>0</th>\n",
       "      <td>1</td>\n",
       "      <td>2</td>\n",
       "      <td>3</td>\n",
       "      <td>4</td>\n",
       "      <td>5</td>\n",
       "    </tr>\n",
       "    <tr>\n",
       "      <th>1</th>\n",
       "      <td>6</td>\n",
       "      <td>7</td>\n",
       "      <td>8</td>\n",
       "      <td>9</td>\n",
       "      <td>10</td>\n",
       "    </tr>\n",
       "  </tbody>\n",
       "</table>\n",
       "</div>"
      ],
      "text/plain": [
       "   0  1  2  3   4\n",
       "0  1  2  3  4   5\n",
       "1  6  7  8  9  10"
      ]
     },
     "execution_count": 18,
     "metadata": {},
     "output_type": "execute_result"
    }
   ],
   "source": [
    "df = DataFrame(array(range(1, 11)).reshape(2,5))\n",
    "df"
   ]
  },
  {
   "cell_type": "markdown",
   "id": "711dfe0c-ba64-40b5-a768-3ac61ea0d01d",
   "metadata": {},
   "source": [
    "Above: `range`, `array`, `DataFrame`, `reshape` all get called with one or more arguments.\n",
    "\n",
    "Below:  nothing is *called*, but rather *assigning* is happening (using the assignment operator `=`)."
   ]
  },
  {
   "cell_type": "code",
   "execution_count": 19,
   "id": "5ec56f3e-571a-4917-9105-4cf90efc73ec",
   "metadata": {},
   "outputs": [
    {
     "data": {
      "text/html": [
       "<div>\n",
       "<style scoped>\n",
       "    .dataframe tbody tr th:only-of-type {\n",
       "        vertical-align: middle;\n",
       "    }\n",
       "\n",
       "    .dataframe tbody tr th {\n",
       "        vertical-align: top;\n",
       "    }\n",
       "\n",
       "    .dataframe thead th {\n",
       "        text-align: right;\n",
       "    }\n",
       "</style>\n",
       "<table border=\"1\" class=\"dataframe\">\n",
       "  <thead>\n",
       "    <tr style=\"text-align: right;\">\n",
       "      <th></th>\n",
       "      <th>Mon</th>\n",
       "      <th>Tue</th>\n",
       "      <th>Weds</th>\n",
       "      <th>Thurs</th>\n",
       "      <th>Fri</th>\n",
       "    </tr>\n",
       "  </thead>\n",
       "  <tbody>\n",
       "    <tr>\n",
       "      <th>Week1</th>\n",
       "      <td>1</td>\n",
       "      <td>2</td>\n",
       "      <td>3</td>\n",
       "      <td>4</td>\n",
       "      <td>5</td>\n",
       "    </tr>\n",
       "    <tr>\n",
       "      <th>Week2</th>\n",
       "      <td>6</td>\n",
       "      <td>7</td>\n",
       "      <td>8</td>\n",
       "      <td>9</td>\n",
       "      <td>10</td>\n",
       "    </tr>\n",
       "  </tbody>\n",
       "</table>\n",
       "</div>"
      ],
      "text/plain": [
       "       Mon  Tue  Weds  Thurs  Fri\n",
       "Week1    1    2     3      4    5\n",
       "Week2    6    7     8      9   10"
      ]
     },
     "execution_count": 19,
     "metadata": {},
     "output_type": "execute_result"
    }
   ],
   "source": [
    "df.index = ['Week1', 'Week2']\n",
    "df.columns = ['Mon', 'Tue', 'Weds', 'Thurs', 'Fri']\n",
    "df"
   ]
  },
  {
   "cell_type": "markdown",
   "id": "b08d4c64-c2f4-45cc-a44d-9bfdad61c8b3",
   "metadata": {},
   "source": [
    "## The Function type\n",
    "\n",
    "A primary way to create new callables of the function type, is to use the keyword `def` for \"define\"."
   ]
  },
  {
   "cell_type": "code",
   "execution_count": 20,
   "id": "f06bc840-54c2-4c51-8319-8155a2224c60",
   "metadata": {},
   "outputs": [
    {
     "name": "stdout",
     "output_type": "stream",
     "text": [
      "10\n"
     ]
    }
   ],
   "source": [
    "def f(x):\n",
    "    return x * x  # return x times itself\n",
    "\n",
    "print(10)"
   ]
  },
  {
   "cell_type": "markdown",
   "id": "9f04e36f-784f-4241-b298-7e456a3356b4",
   "metadata": {},
   "source": [
    "The function `f` is now a callable that expects one argument, with which it computes a return or result object.  As we will see later, functions, as just another type of object, may be passed as arguments to other functions!"
   ]
  },
  {
   "cell_type": "code",
   "execution_count": 21,
   "id": "87a5a210-80d9-4c09-a490-8e4a5f3309df",
   "metadata": {},
   "outputs": [
    {
     "data": {
      "text/plain": [
       "function"
      ]
     },
     "execution_count": 21,
     "metadata": {},
     "output_type": "execute_result"
    }
   ],
   "source": [
    "type(f)"
   ]
  },
  {
   "cell_type": "code",
   "execution_count": 22,
   "id": "645360fc-b196-45f0-b950-1633e7196b31",
   "metadata": {},
   "outputs": [
    {
     "data": {
      "text/plain": [
       "True"
      ]
     },
     "execution_count": 22,
     "metadata": {},
     "output_type": "execute_result"
    }
   ],
   "source": [
    "issubclass(type(f), object)"
   ]
  },
  {
   "cell_type": "code",
   "execution_count": 23,
   "id": "2dce90e6-fd37-4a13-a62a-b983208fa508",
   "metadata": {},
   "outputs": [
    {
     "data": {
      "text/plain": [
       "True"
      ]
     },
     "execution_count": 23,
     "metadata": {},
     "output_type": "execute_result"
    }
   ],
   "source": [
    "isinstance(f, type(f))"
   ]
  },
  {
   "cell_type": "code",
   "execution_count": 24,
   "id": "5098f327-fcb7-49fa-bb73-55a1f9ca5896",
   "metadata": {},
   "outputs": [
    {
     "data": {
      "text/plain": [
       "100"
      ]
     },
     "execution_count": 24,
     "metadata": {},
     "output_type": "execute_result"
    }
   ],
   "source": [
    "f(10)"
   ]
  },
  {
   "cell_type": "code",
   "execution_count": 25,
   "id": "cafbd4d0-5128-434c-aee7-25c294842098",
   "metadata": {},
   "outputs": [
    {
     "data": {
      "text/plain": [
       "400"
      ]
     },
     "execution_count": 25,
     "metadata": {},
     "output_type": "execute_result"
    }
   ],
   "source": [
    "result = f(-20)\n",
    "result"
   ]
  },
  {
   "cell_type": "markdown",
   "id": "c171f2fb-6052-483e-b3c4-ccc049ff3809",
   "metadata": {},
   "source": [
    "The one liner below takes no arguments, prints to console as a side effect, and returns the None object, as is standard when nothing is explicitly returned.  \n",
    "\n",
    "Using the keyword return with no object also returns None."
   ]
  },
  {
   "cell_type": "code",
   "execution_count": 26,
   "id": "44a91af4-c552-43df-89d0-c025ec292736",
   "metadata": {},
   "outputs": [],
   "source": [
    "def hello() -> None:\n",
    "    print(\"Hello, world!\")"
   ]
  },
  {
   "cell_type": "code",
   "execution_count": 27,
   "id": "ea50110e-ac99-4a70-8935-e34cfd55b30d",
   "metadata": {},
   "outputs": [
    {
     "name": "stdout",
     "output_type": "stream",
     "text": [
      "Hello, world!\n"
     ]
    }
   ],
   "source": [
    "hello()"
   ]
  },
  {
   "cell_type": "code",
   "execution_count": 28,
   "id": "62d4b9a5-2d91-4dc9-b39a-ad67e36f5cb6",
   "metadata": {},
   "outputs": [],
   "source": [
    "def hello() -> None:\n",
    "    print(\"Hello, world!\")\n",
    "    return"
   ]
  },
  {
   "cell_type": "code",
   "execution_count": 29,
   "id": "235e19f6-5124-4ec0-9759-537954cbce24",
   "metadata": {},
   "outputs": [
    {
     "name": "stdout",
     "output_type": "stream",
     "text": [
      "Hello, world!\n"
     ]
    }
   ],
   "source": [
    "result = hello()"
   ]
  },
  {
   "cell_type": "code",
   "execution_count": 30,
   "id": "be50346d-ee0c-4f48-b7f3-8ba739951282",
   "metadata": {},
   "outputs": [
    {
     "data": {
      "text/plain": [
       "NoneType"
      ]
     },
     "execution_count": 30,
     "metadata": {},
     "output_type": "execute_result"
    }
   ],
   "source": [
    "type(result)"
   ]
  },
  {
   "cell_type": "markdown",
   "id": "8e3d7223-22cd-41c3-8de1-c67ec04e5773",
   "metadata": {},
   "source": [
    "NOTE:  none of the keywords are callable, meaning no keyword takes arguments.  \n",
    "\n",
    "You will sometimes see coders in other languages bringing habits to Python that make it look as if keywords if and return were callables, but they really are not.  \n",
    "\n",
    "\n",
    "The parentheses around an object do not constitute \"passing an argument\" when the keyword has no \"mouth\"."
   ]
  },
  {
   "cell_type": "code",
   "execution_count": 31,
   "id": "2395f94b-6492-46f5-9c51-f0861e5b9fe6",
   "metadata": {},
   "outputs": [],
   "source": [
    "def extra(): \n",
    "    \"\"\"\n",
    "    misleading use of syntax making it look \n",
    "    as if we were passing arguments to \n",
    "    keywords if and return\n",
    "    \"\"\"\n",
    "    if(1 == 1):\n",
    "        print(\"unnecessary parentheses\")\n",
    "    return(\"string object\")"
   ]
  },
  {
   "cell_type": "code",
   "execution_count": 32,
   "id": "4605f40c-8723-4b7e-a367-13961ac7ae8a",
   "metadata": {},
   "outputs": [
    {
     "name": "stdout",
     "output_type": "stream",
     "text": [
      "unnecessary parentheses\n"
     ]
    },
    {
     "data": {
      "text/plain": [
       "'string object'"
      ]
     },
     "execution_count": 32,
     "metadata": {},
     "output_type": "execute_result"
    }
   ],
   "source": [
    "extra()"
   ]
  },
  {
   "cell_type": "markdown",
   "id": "f977fe73-166b-49e5-bd1b-4934a8f41825",
   "metadata": {},
   "source": [
    "Here is a version in purer Python:"
   ]
  },
  {
   "cell_type": "code",
   "execution_count": 33,
   "id": "3bdfd218-26d0-4cab-9cfc-38fc85ef75c7",
   "metadata": {},
   "outputs": [],
   "source": [
    "def extra(): \n",
    "    \"\"\"\n",
    "    more pythonic.  keywords don't \"eat\".\n",
    "    \"\"\"\n",
    "    if (1 == 1):  # now we see an expression\n",
    "        print(\"optional parentheses may add readability\")\n",
    "    return \"string object\" # no parens"
   ]
  },
  {
   "cell_type": "code",
   "execution_count": 34,
   "id": "3d78e49e-f3f8-497a-8a4f-3244ddc117b8",
   "metadata": {},
   "outputs": [
    {
     "name": "stdout",
     "output_type": "stream",
     "text": [
      "optional parentheses may add readability\n"
     ]
    },
    {
     "data": {
      "text/plain": [
       "'string object'"
      ]
     },
     "execution_count": 34,
     "metadata": {},
     "output_type": "execute_result"
    }
   ],
   "source": [
    "extra()"
   ]
  },
  {
   "cell_type": "markdown",
   "id": "4f236eda-fd76-4959-81da-d341ab0f9e72",
   "metadata": {},
   "source": [
    "Another way to create a callable function, is by means of the keyword lambda.  Lambda expressions are meant to be callable one liners, eating one or more arguments and returning a result.  The keyword return is not used."
   ]
  },
  {
   "cell_type": "code",
   "execution_count": 35,
   "id": "8b7e58a6-a10b-4b08-b59e-a3c0464a5b2c",
   "metadata": {},
   "outputs": [
    {
     "data": {
      "text/plain": [
       "8"
      ]
     },
     "execution_count": 35,
     "metadata": {},
     "output_type": "execute_result"
    }
   ],
   "source": [
    "(lambda a, b:  a ** b)(2, 3)  # argument (2, 3) maps to a=2, b=3, returns 2 ** 3"
   ]
  },
  {
   "cell_type": "code",
   "execution_count": 36,
   "id": "b5082956-6b5e-4103-94bc-6a34cbc539d6",
   "metadata": {},
   "outputs": [
    {
     "data": {
      "text/plain": [
       "function"
      ]
     },
     "execution_count": 36,
     "metadata": {},
     "output_type": "execute_result"
    }
   ],
   "source": [
    "type(lambda x: x)  # identity lambda, returns what it's given, note the type is a function"
   ]
  },
  {
   "cell_type": "markdown",
   "id": "76b1668f-97b6-471e-8b01-fef99d3bc4f3",
   "metadata": {},
   "source": [
    "The built-in `map` distributes a callable function across an iterable.\n",
    "\n",
    "In the example below, a tuple of tuples feeds pairs to the lambda expression through t, which then then raises the left number to the right power."
   ]
  },
  {
   "cell_type": "code",
   "execution_count": 37,
   "id": "46375fab-6756-4c61-a760-7566730c7b2a",
   "metadata": {},
   "outputs": [
    {
     "data": {
      "text/plain": [
       "[8, 81, 0]"
      ]
     },
     "execution_count": 37,
     "metadata": {},
     "output_type": "execute_result"
    }
   ],
   "source": [
    "tuples = ((2, 3), (3, 4), (0, 1))\n",
    "m = map( lambda t: t[0] ** t[1], tuples )\n",
    "list(m)"
   ]
  },
  {
   "cell_type": "markdown",
   "id": "4e13991e-715e-48c8-aa50-731827ac8b21",
   "metadata": {},
   "source": [
    "## Fraction and Decimal types\n",
    "\n",
    "These two number types were added later in Python's history.  They're not built-ins, but they're in the Standard Library.\n",
    "\n",
    "Fractions operate according to the rules of fractions, keeping numerators and denominators deparate.  Decimals provide more control over rounding and are suitable for financial computations, but also for arbitrary precision computations i.e. numbers with more decimal places than floating point numbers have room for."
   ]
  },
  {
   "cell_type": "code",
   "execution_count": 38,
   "id": "8eef4431-ce22-48c8-8164-5c1f1be179d8",
   "metadata": {},
   "outputs": [],
   "source": [
    "from fractions import Fraction"
   ]
  },
  {
   "cell_type": "code",
   "execution_count": 39,
   "id": "1a1b55ca-7778-4236-84eb-57bcbb905405",
   "metadata": {},
   "outputs": [],
   "source": [
    "p = Fraction(2, 3)  # numerators and denominators\n",
    "q = Fraction(5, 8)  # ... must be integers"
   ]
  },
  {
   "cell_type": "code",
   "execution_count": 40,
   "id": "190fda85-f149-42d6-b745-8dc4870c6278",
   "metadata": {},
   "outputs": [
    {
     "data": {
      "text/plain": [
       "Fraction(31, 24)"
      ]
     },
     "execution_count": 40,
     "metadata": {},
     "output_type": "execute_result"
    }
   ],
   "source": [
    "p + q"
   ]
  },
  {
   "cell_type": "code",
   "execution_count": 41,
   "id": "a6067e1e-8011-432d-9e3a-d6a9a0e7e936",
   "metadata": {},
   "outputs": [
    {
     "data": {
      "text/plain": [
       "Fraction(5, 12)"
      ]
     },
     "execution_count": 41,
     "metadata": {},
     "output_type": "execute_result"
    }
   ],
   "source": [
    "p * q"
   ]
  },
  {
   "cell_type": "code",
   "execution_count": 42,
   "id": "7171d580-dc44-480f-8a09-c4d8becdc84e",
   "metadata": {},
   "outputs": [],
   "source": [
    "from decimal import Decimal, getcontext"
   ]
  },
  {
   "cell_type": "code",
   "execution_count": 43,
   "id": "c0fb8268-e3aa-4729-b57c-7e0abd7debd0",
   "metadata": {},
   "outputs": [
    {
     "data": {
      "text/plain": [
       "type"
      ]
     },
     "execution_count": 43,
     "metadata": {},
     "output_type": "execute_result"
    }
   ],
   "source": [
    "type(Decimal)"
   ]
  },
  {
   "cell_type": "code",
   "execution_count": 44,
   "id": "3190c94a-347f-4708-86f8-f78d5234dd90",
   "metadata": {},
   "outputs": [
    {
     "data": {
      "text/plain": [
       "Decimal('1.414213562373095048801688724')"
      ]
     },
     "execution_count": 44,
     "metadata": {},
     "output_type": "execute_result"
    }
   ],
   "source": [
    "d = Decimal('2').sqrt()  # more precision than float \n",
    "d"
   ]
  },
  {
   "cell_type": "code",
   "execution_count": 45,
   "id": "c81bda33-ad2e-43e0-9844-02414a0e50e7",
   "metadata": {},
   "outputs": [
    {
     "data": {
      "text/plain": [
       "Context(prec=28, rounding=ROUND_HALF_EVEN, Emin=-999999, Emax=999999, capitals=1, clamp=0, flags=[Inexact, Rounded], traps=[InvalidOperation, DivisionByZero, Overflow])"
      ]
     },
     "execution_count": 45,
     "metadata": {},
     "output_type": "execute_result"
    }
   ],
   "source": [
    "getcontext()"
   ]
  },
  {
   "cell_type": "code",
   "execution_count": 46,
   "id": "cf7e2d41-6fda-4318-85aa-94176f77bf17",
   "metadata": {},
   "outputs": [
    {
     "data": {
      "text/plain": [
       "Decimal('1.4142135623730950488016887242096980785696718753769')"
      ]
     },
     "execution_count": 46,
     "metadata": {},
     "output_type": "execute_result"
    }
   ],
   "source": [
    "getcontext().prec = 50  \n",
    "\n",
    "d = Decimal('2').sqrt()  # more precision than float \n",
    "d"
   ]
  },
  {
   "cell_type": "markdown",
   "id": "d2efdc24-1f7d-4b69-903b-2846f7a607fe",
   "metadata": {},
   "source": [
    "### The string type\n",
    "\n",
    "A string is a data structure, and a sequence, consisting of letters, digits, punctuation symbols, any unicode (like emoji).\n",
    "\n",
    "We're just getting a brief taste with these various types, and will be returning to them to learn more about their capabilities.  For now, we're just taking a first look."
   ]
  },
  {
   "cell_type": "code",
   "execution_count": 47,
   "id": "145aeddf-c077-4816-82f2-8dbdc57b0fa8",
   "metadata": {},
   "outputs": [],
   "source": [
    "foods = '🍕🥯🍿'   # a string of food emoji"
   ]
  },
  {
   "cell_type": "code",
   "execution_count": 48,
   "id": "a0e0f0c2-9f8f-40de-9557-16d080a2a22a",
   "metadata": {},
   "outputs": [
    {
     "data": {
      "text/plain": [
       "str"
      ]
     },
     "execution_count": 48,
     "metadata": {},
     "output_type": "execute_result"
    }
   ],
   "source": [
    "type(foods)       # use type(obj) to check the type of any object"
   ]
  },
  {
   "cell_type": "markdown",
   "id": "ff6a8f08-0ec0-4c3c-992f-995c47288b95",
   "metadata": {},
   "source": [
    "String elements (individual characters) may be accessed by numeric index, left to right, starting from element 0.  This is true of any sequence type object.  Even the Python range type is a sequence.  Sequences may also be sliced, as we shall see."
   ]
  },
  {
   "cell_type": "code",
   "execution_count": 49,
   "id": "12b34c2c-9679-431d-96a3-60baebada066",
   "metadata": {},
   "outputs": [
    {
     "data": {
      "text/plain": [
       "'🍕'"
      ]
     },
     "execution_count": 49,
     "metadata": {},
     "output_type": "execute_result"
    }
   ],
   "source": [
    "foods[0]"
   ]
  },
  {
   "cell_type": "code",
   "execution_count": 50,
   "id": "c93d113c-122f-41d4-9cd3-6f7d5a37f075",
   "metadata": {},
   "outputs": [],
   "source": [
    "phrase = \"lets test slicing a string using slice notation\""
   ]
  },
  {
   "cell_type": "code",
   "execution_count": 51,
   "id": "f0bfe247-f8a5-463a-a2b8-937a3b8bb98f",
   "metadata": {},
   "outputs": [
    {
     "data": {
      "text/plain": [
       "'s test sl'"
      ]
     },
     "execution_count": 51,
     "metadata": {},
     "output_type": "execute_result"
    }
   ],
   "source": [
    "phrase[3:12]  # from position 3 through position 11, numbering from 0"
   ]
  },
  {
   "cell_type": "code",
   "execution_count": 52,
   "id": "45269be3-5ff8-43cc-a244-d30f15f6c448",
   "metadata": {},
   "outputs": [
    {
     "data": {
      "text/plain": [
       "int"
      ]
     },
     "execution_count": 52,
     "metadata": {},
     "output_type": "execute_result"
    }
   ],
   "source": [
    "type(10)      # using type()"
   ]
  },
  {
   "cell_type": "code",
   "execution_count": 53,
   "id": "e88d11af-04fc-438b-ae5a-5b248eda866a",
   "metadata": {},
   "outputs": [
    {
     "data": {
      "text/plain": [
       "float"
      ]
     },
     "execution_count": 53,
     "metadata": {},
     "output_type": "execute_result"
    }
   ],
   "source": [
    "type(10.0)    # checking 10.0"
   ]
  },
  {
   "cell_type": "code",
   "execution_count": 54,
   "id": "4a2a5ace-545e-4de8-b4c9-f7292bb18b3b",
   "metadata": {},
   "outputs": [
    {
     "data": {
      "text/plain": [
       "decimal.Decimal"
      ]
     },
     "execution_count": 54,
     "metadata": {},
     "output_type": "execute_result"
    }
   ],
   "source": [
    "type(d)       # used earlier"
   ]
  },
  {
   "cell_type": "markdown",
   "id": "dd420195-8f60-4f80-bf4b-a5be4b9c97ab",
   "metadata": {},
   "source": [
    "### The list and tuple types\n",
    "\n",
    "Lists get signified with square brackets around elements separated by commas.  Lists are sequences.\n",
    "\n",
    "Tuples look like lists except they use curved parentheses in place of square brackets.  They too are sequences."
   ]
  },
  {
   "cell_type": "code",
   "execution_count": 55,
   "id": "e822de86-5fb3-40c4-aea9-e51576fd3138",
   "metadata": {},
   "outputs": [
    {
     "data": {
      "text/plain": [
       "['🍕', '🥯', '🍿']"
      ]
     },
     "execution_count": 55,
     "metadata": {},
     "output_type": "execute_result"
    }
   ],
   "source": [
    "foods_list = list(foods)  # create a new list from foods\n",
    "foods_list"
   ]
  },
  {
   "cell_type": "code",
   "execution_count": 56,
   "id": "76cd3ec5-73cc-4074-afce-bfcba00d2e2f",
   "metadata": {},
   "outputs": [
    {
     "name": "stdout",
     "output_type": "stream",
     "text": [
      "['🍕', '🥯', '🍿']\n"
     ]
    }
   ],
   "source": [
    "print(foods_list[:3] + foods_list[5:10])  # lists may be added to give longer lists"
   ]
  },
  {
   "cell_type": "code",
   "execution_count": 57,
   "id": "f133ba43-0192-4707-adf5-e190cc02e4b4",
   "metadata": {},
   "outputs": [
    {
     "data": {
      "text/plain": [
       "'🍕🥯🍿'"
      ]
     },
     "execution_count": 57,
     "metadata": {},
     "output_type": "execute_result"
    }
   ],
   "source": [
    "foods   # the original string is unaffected"
   ]
  },
  {
   "cell_type": "code",
   "execution_count": 58,
   "id": "651f1fb8-9516-46a4-ae16-c322b136fd95",
   "metadata": {},
   "outputs": [
    {
     "data": {
      "text/plain": [
       "'🍿'"
      ]
     },
     "execution_count": 58,
     "metadata": {},
     "output_type": "execute_result"
    }
   ],
   "source": [
    "foods_list[-1]  # last element"
   ]
  },
  {
   "cell_type": "code",
   "execution_count": 59,
   "id": "7e5562cb-8bdd-465e-99ba-c00360e1b1a7",
   "metadata": {},
   "outputs": [
    {
     "data": {
      "text/plain": [
       "['🍿', '🍿', '🍕', '🥯', '🥯', '🍿', '🥯', '🥯', '🍿', '🍿']"
      ]
     },
     "execution_count": 59,
     "metadata": {},
     "output_type": "execute_result"
    }
   ],
   "source": [
    "import random   # from the Standard Library\n",
    "\n",
    "foods_list = [ ] # start over, empty\n",
    "\n",
    "for turn in range(10):\n",
    "    foods_list.append(random.choice(foods))  # list type has an append method\n",
    "    \n",
    "foods_list"
   ]
  },
  {
   "cell_type": "code",
   "execution_count": 60,
   "id": "a3a8ddea-d1a6-4cd1-a817-d7610e588fd8",
   "metadata": {},
   "outputs": [
    {
     "data": {
      "text/plain": [
       "['🍿', '🥯', '🥯', '🍿']"
      ]
     },
     "execution_count": 60,
     "metadata": {},
     "output_type": "execute_result"
    }
   ],
   "source": [
    "foods_list[5:-1]  # slicing -- upper bound not included as usual"
   ]
  },
  {
   "cell_type": "code",
   "execution_count": 61,
   "id": "faacf550-656e-4375-ae0f-7b840f73b2c6",
   "metadata": {},
   "outputs": [
    {
     "data": {
      "text/plain": [
       "['🍿', '🥯', '🥯', '🍿', '🍿']"
      ]
     },
     "execution_count": 61,
     "metadata": {},
     "output_type": "execute_result"
    }
   ],
   "source": [
    "foods_list[5:]  # slicing -- how to include the last element"
   ]
  },
  {
   "cell_type": "code",
   "execution_count": 62,
   "id": "77f6c165-80df-4758-824d-8d7acd2fb16d",
   "metadata": {},
   "outputs": [
    {
     "data": {
      "text/plain": [
       "list"
      ]
     },
     "execution_count": 62,
     "metadata": {},
     "output_type": "execute_result"
    }
   ],
   "source": [
    "type(foods_list)"
   ]
  },
  {
   "cell_type": "code",
   "execution_count": 63,
   "id": "cfcfcd95-939b-4123-a25d-84795694e6cb",
   "metadata": {},
   "outputs": [],
   "source": [
    "foods_tuple = tuple(foods_list)  # what's the difference"
   ]
  },
  {
   "cell_type": "code",
   "execution_count": 64,
   "id": "e41855b4-a07c-4db9-b227-bca84b14b495",
   "metadata": {},
   "outputs": [
    {
     "data": {
      "text/plain": [
       "tuple"
      ]
     },
     "execution_count": 64,
     "metadata": {},
     "output_type": "execute_result"
    }
   ],
   "source": [
    "type(foods_tuple)"
   ]
  },
  {
   "cell_type": "code",
   "execution_count": 65,
   "id": "cd07f2d2-dafd-48e4-a7d3-5f99dde44a3e",
   "metadata": {},
   "outputs": [
    {
     "data": {
      "text/plain": [
       "('🍿', '🍿', '🍕', '🥯', '🥯', '🍿', '🥯', '🥯', '🍿', '🍿')"
      ]
     },
     "execution_count": 65,
     "metadata": {},
     "output_type": "execute_result"
    }
   ],
   "source": [
    "foods_tuple"
   ]
  },
  {
   "cell_type": "markdown",
   "id": "6b7b4c24-5eb9-4683-83c2-4d621efcec5e",
   "metadata": {},
   "source": [
    "Tuple type objects are more immutable, i.e. we cannot simply reassign the leftmost element to be something else, as we may with a mutable list."
   ]
  },
  {
   "cell_type": "markdown",
   "id": "195422e8-17ec-4f6a-abf9-cf8e364f1143",
   "metadata": {},
   "source": [
    "Lets introduce some more of those Python keywords: `try` and `except`.  Code in a try block that tries something possibly against the rules, will trigger an exception, or else will run normally if it's legal Python.\n",
    "\n",
    "Usually, an exception would crash the program (make it abort, with a message), but exception syntax allows us to handle exceptions more gracefully, should we wish."
   ]
  },
  {
   "cell_type": "code",
   "execution_count": 66,
   "id": "1303e509-a494-413b-adac-2901e200fe2b",
   "metadata": {},
   "outputs": [
    {
     "name": "stdout",
     "output_type": "stream",
     "text": [
      "I'm sorry but that can't be done.\n"
     ]
    }
   ],
   "source": [
    "try:\n",
    "    foods_tuple[0] = '🌭'  # hot dog\n",
    "except:\n",
    "    print(\"I'm sorry but that can't be done.\")\n",
    "else:\n",
    "    print(\"As you wish.\")"
   ]
  },
  {
   "cell_type": "code",
   "execution_count": 67,
   "id": "5c49735f-55bf-4c50-94b3-b537cc4fec62",
   "metadata": {},
   "outputs": [
    {
     "data": {
      "text/plain": [
       "('🍿', '🍿', '🍕', '🥯', '🥯', '🍿', '🥯', '🥯', '🍿', '🍿')"
      ]
     },
     "execution_count": 67,
     "metadata": {},
     "output_type": "execute_result"
    }
   ],
   "source": [
    "foods_tuple   # tuple unchanged -- good for data you want frozen solid"
   ]
  },
  {
   "cell_type": "code",
   "execution_count": 68,
   "id": "080acaa4-c7ef-4a18-8b32-f3abe48da976",
   "metadata": {},
   "outputs": [
    {
     "name": "stdout",
     "output_type": "stream",
     "text": [
      "As you wish.\n"
     ]
    }
   ],
   "source": [
    "try:\n",
    "    foods_list[0] = '🌭'  # hot dog\n",
    "except:\n",
    "    print(\"I'm sorry but that can't be done.\")\n",
    "else:\n",
    "    print(\"As you wish.\")"
   ]
  },
  {
   "cell_type": "code",
   "execution_count": 69,
   "id": "8c7cddd9-16a1-4ca4-8945-2493b8547301",
   "metadata": {},
   "outputs": [
    {
     "data": {
      "text/plain": [
       "['🌭', '🍿', '🍕', '🥯', '🥯', '🍿', '🥯', '🥯', '🍿', '🍿']"
      ]
     },
     "execution_count": 69,
     "metadata": {},
     "output_type": "execute_result"
    }
   ],
   "source": [
    "foods_list   # list changed -- list allow overwriting elements, deleting, adding new ones"
   ]
  },
  {
   "cell_type": "markdown",
   "id": "398529f9-2e32-4d13-a4db-8b788b5fb44c",
   "metadata": {},
   "source": [
    "### The Boolean type\n",
    "\n",
    "This is one of the simplest types, either True or False.  \n",
    "\n",
    "Think of True and False as names for the numbers 1 and 0 respectively.  Python returns a bool in response to statements involving such operators as `==`, `<`, `>`, `!=`, `>=`, `<=`.\n",
    "\n",
    "The booleans also work with the logical operators `and` `or` and `if`."
   ]
  },
  {
   "cell_type": "code",
   "execution_count": 70,
   "id": "0e92a383-5398-4c36-bac8-aba5fc502b33",
   "metadata": {},
   "outputs": [
    {
     "data": {
      "text/plain": [
       "True"
      ]
     },
     "execution_count": 70,
     "metadata": {},
     "output_type": "execute_result"
    }
   ],
   "source": [
    "issubclass(bool, int)"
   ]
  },
  {
   "cell_type": "code",
   "execution_count": 71,
   "id": "77497260-19b5-445c-8db3-e5f39bfc28f1",
   "metadata": {},
   "outputs": [
    {
     "data": {
      "text/plain": [
       "True"
      ]
     },
     "execution_count": 71,
     "metadata": {},
     "output_type": "execute_result"
    }
   ],
   "source": [
    "isinstance(True, bool)"
   ]
  },
  {
   "cell_type": "code",
   "execution_count": 72,
   "id": "6377ff56-9509-479c-8a09-7dac548683ad",
   "metadata": {},
   "outputs": [
    {
     "data": {
      "text/plain": [
       "True"
      ]
     },
     "execution_count": 72,
     "metadata": {},
     "output_type": "execute_result"
    }
   ],
   "source": [
    "True == 1"
   ]
  },
  {
   "cell_type": "code",
   "execution_count": 73,
   "id": "44e65533-c150-490b-8f62-803a4746cb33",
   "metadata": {},
   "outputs": [
    {
     "data": {
      "text/plain": [
       "bool"
      ]
     },
     "execution_count": 73,
     "metadata": {},
     "output_type": "execute_result"
    }
   ],
   "source": [
    "type(True)"
   ]
  },
  {
   "cell_type": "code",
   "execution_count": 74,
   "id": "f8d893ea-d82e-426a-9bb2-402c07c17028",
   "metadata": {},
   "outputs": [
    {
     "data": {
      "text/plain": [
       "False"
      ]
     },
     "execution_count": 74,
     "metadata": {},
     "output_type": "execute_result"
    }
   ],
   "source": [
    "bool(0)"
   ]
  },
  {
   "cell_type": "code",
   "execution_count": 75,
   "id": "f7c208b4-2ad5-4a4a-9165-9f2ff31bda0f",
   "metadata": {},
   "outputs": [
    {
     "data": {
      "text/plain": [
       "2"
      ]
     },
     "execution_count": 75,
     "metadata": {},
     "output_type": "execute_result"
    }
   ],
   "source": [
    "True + True"
   ]
  },
  {
   "cell_type": "code",
   "execution_count": 76,
   "id": "4ce1b883-4619-4d7c-a149-178910c24628",
   "metadata": {},
   "outputs": [
    {
     "data": {
      "text/plain": [
       "False"
      ]
     },
     "execution_count": 76,
     "metadata": {},
     "output_type": "execute_result"
    }
   ],
   "source": [
    "3 > 4"
   ]
  },
  {
   "cell_type": "code",
   "execution_count": 77,
   "id": "4e1994d7-7f56-4f2f-b1ae-c2180197ee16",
   "metadata": {},
   "outputs": [
    {
     "data": {
      "text/plain": [
       "True"
      ]
     },
     "execution_count": 77,
     "metadata": {},
     "output_type": "execute_result"
    }
   ],
   "source": [
    "4 >= 3"
   ]
  },
  {
   "cell_type": "code",
   "execution_count": 78,
   "id": "b217b46c-b29b-49ac-8df8-a6b597df86ec",
   "metadata": {},
   "outputs": [
    {
     "data": {
      "text/plain": [
       "True"
      ]
     },
     "execution_count": 78,
     "metadata": {},
     "output_type": "execute_result"
    }
   ],
   "source": [
    "(4 > 3) and (\"love\" in \"I love Python\")  # two True expressions connected by and"
   ]
  },
  {
   "cell_type": "code",
   "execution_count": 79,
   "id": "3302311b-7d8f-4623-a5f4-6f3cf1fd6ae4",
   "metadata": {},
   "outputs": [
    {
     "data": {
      "text/plain": [
       "True"
      ]
     },
     "execution_count": 79,
     "metadata": {},
     "output_type": "execute_result"
    }
   ],
   "source": [
    "(1 + 1 == 3) or (2 + 2 == 4)  # one of these is True, so the whole expression is True"
   ]
  },
  {
   "cell_type": "markdown",
   "id": "cb36e75a-325d-4cbf-9e77-620a5d633fce",
   "metadata": {},
   "source": [
    "In this next example, the if block only executes if the if condition is True."
   ]
  },
  {
   "cell_type": "code",
   "execution_count": 80,
   "id": "ea609acd-067c-4351-89ff-19f5e5f61104",
   "metadata": {},
   "outputs": [
    {
     "name": "stdout",
     "output_type": "stream",
     "text": [
      "Do this thing\n"
     ]
    }
   ],
   "source": [
    "if 4 > 3:\n",
    "    print(\"Do this thing\")\n",
    "else:\n",
    "    print(\"Do this otherwise\")"
   ]
  },
  {
   "cell_type": "markdown",
   "id": "918d6e20-0f66-414f-97c4-e6993d77badb",
   "metadata": {},
   "source": [
    "We may fit if / else logic on into a single statement."
   ]
  },
  {
   "cell_type": "code",
   "execution_count": 81,
   "id": "34d0837a-e12b-4daf-8b46-966a3423bc43",
   "metadata": {},
   "outputs": [
    {
     "data": {
      "text/plain": [
       "'this'"
      ]
     },
     "execution_count": 81,
     "metadata": {},
     "output_type": "execute_result"
    }
   ],
   "source": [
    "result = \"this\" if 4 > 3 else \"that\"\n",
    "result"
   ]
  },
  {
   "cell_type": "code",
   "execution_count": 82,
   "id": "e2fa23af-0e28-4c13-b808-7f2b09307752",
   "metadata": {},
   "outputs": [
    {
     "data": {
      "text/plain": [
       "'that'"
      ]
     },
     "execution_count": 82,
     "metadata": {},
     "output_type": "execute_result"
    }
   ],
   "source": [
    "condition = 3 in [5, 6, 7]  # True or False\n",
    "\n",
    "result = \"this\" if condition else \"that\"\n",
    "result"
   ]
  },
  {
   "cell_type": "markdown",
   "id": "05deeac2-3120-4f7a-9c62-ceaffe7562a0",
   "metadata": {},
   "source": [
    "### The None type\n",
    "\n",
    "Although not a Boolean, this is the place to remind ourselves that `None` is the sole instance of the `NoneType`."
   ]
  },
  {
   "cell_type": "code",
   "execution_count": 83,
   "id": "b718f205-64fd-42fc-9c7c-50822a3a1d8b",
   "metadata": {},
   "outputs": [
    {
     "data": {
      "text/plain": [
       "NoneType"
      ]
     },
     "execution_count": 83,
     "metadata": {},
     "output_type": "execute_result"
    }
   ],
   "source": [
    "type(None)"
   ]
  },
  {
   "cell_type": "code",
   "execution_count": 84,
   "id": "3dfbc89f-5325-47a3-99d2-c18b84027d88",
   "metadata": {},
   "outputs": [
    {
     "data": {
      "text/plain": [
       "True"
      ]
     },
     "execution_count": 84,
     "metadata": {},
     "output_type": "execute_result"
    }
   ],
   "source": [
    "True and True   # operator and"
   ]
  },
  {
   "cell_type": "code",
   "execution_count": 85,
   "id": "7f4db9c8-7013-40b5-8e1c-8d8cecea4130",
   "metadata": {},
   "outputs": [
    {
     "data": {
      "text/plain": [
       "False"
      ]
     },
     "execution_count": 85,
     "metadata": {},
     "output_type": "execute_result"
    }
   ],
   "source": [
    "(True and None) == False"
   ]
  },
  {
   "cell_type": "code",
   "execution_count": 86,
   "id": "b95f26fc-6172-431b-8083-03ea54ada352",
   "metadata": {},
   "outputs": [
    {
     "data": {
      "text/plain": [
       "True"
      ]
     },
     "execution_count": 86,
     "metadata": {},
     "output_type": "execute_result"
    }
   ],
   "source": [
    "(True and None) == None"
   ]
  },
  {
   "cell_type": "code",
   "execution_count": 87,
   "id": "d53ca549-0190-4e55-9696-ef2bbecf9195",
   "metadata": {},
   "outputs": [
    {
     "data": {
      "text/plain": [
       "True"
      ]
     },
     "execution_count": 87,
     "metadata": {},
     "output_type": "execute_result"
    }
   ],
   "source": [
    "(True or None)  # operator or"
   ]
  },
  {
   "cell_type": "markdown",
   "id": "5a1d52e0-1d6f-40d6-8009-5b07ed39cf8e",
   "metadata": {},
   "source": [
    "### The dict type\n",
    "\n",
    "The dictionary or dict is perhaps the most important in Python.  The dict reminds us of the namespace idea:  names paired with objects.  \n",
    "\n",
    "A dict consists of key:value pairs, separated by commas, inside a pair of curly braces.\n",
    "\n",
    "Remember, we'll be revisiting these types.  They know many more \"tricks\" (like animals do tricks) than we're seeing in this brief overview."
   ]
  },
  {
   "cell_type": "code",
   "execution_count": 88,
   "id": "b62f14cf-3e16-460b-a2bc-56dbf8925c48",
   "metadata": {},
   "outputs": [],
   "source": [
    "foods_dict = {'pizza'  : '🍕',\n",
    "              'bagel'  : '🥯',\n",
    "              'popcorn': '🍿'}"
   ]
  },
  {
   "cell_type": "markdown",
   "id": "196bac37-8089-422b-9265-4afc47bf8c85",
   "metadata": {},
   "source": [
    "Now that a dict object has been defined, I can look up a value (in this case an emoji) using its key (in this case a word, likewise a string)."
   ]
  },
  {
   "cell_type": "code",
   "execution_count": 89,
   "id": "7316e253-4701-4f85-86de-bd205c317e33",
   "metadata": {},
   "outputs": [
    {
     "data": {
      "text/plain": [
       "'🍿'"
      ]
     },
     "execution_count": 89,
     "metadata": {},
     "output_type": "execute_result"
    }
   ],
   "source": [
    "foods_dict['popcorn']"
   ]
  },
  {
   "cell_type": "code",
   "execution_count": 90,
   "id": "a6baad49-f1e4-41f2-9cdb-bb306ceb7a26",
   "metadata": {},
   "outputs": [
    {
     "data": {
      "text/plain": [
       "'🍕'"
      ]
     },
     "execution_count": 90,
     "metadata": {},
     "output_type": "execute_result"
    }
   ],
   "source": [
    "foods_dict['pizza']"
   ]
  },
  {
   "cell_type": "code",
   "execution_count": 91,
   "id": "98b5ed97-207d-4377-a8e7-7133d85213ad",
   "metadata": {},
   "outputs": [
    {
     "data": {
      "text/plain": [
       "dict_keys(['pizza', 'bagel', 'popcorn'])"
      ]
     },
     "execution_count": 91,
     "metadata": {},
     "output_type": "execute_result"
    }
   ],
   "source": [
    "foods_dict.keys()"
   ]
  },
  {
   "cell_type": "code",
   "execution_count": 92,
   "id": "8ca6b9dd-1d13-49f4-887d-60695c82ebce",
   "metadata": {},
   "outputs": [
    {
     "data": {
      "text/plain": [
       "dict_values(['🍕', '🥯', '🍿'])"
      ]
     },
     "execution_count": 92,
     "metadata": {},
     "output_type": "execute_result"
    }
   ],
   "source": [
    "foods_dict.values()"
   ]
  },
  {
   "cell_type": "code",
   "execution_count": 93,
   "id": "6de574c1-12ac-4336-8450-26a9b73d5a73",
   "metadata": {},
   "outputs": [
    {
     "data": {
      "text/plain": [
       "dict_items([('pizza', '🍕'), ('bagel', '🥯'), ('popcorn', '🍿')])"
      ]
     },
     "execution_count": 93,
     "metadata": {},
     "output_type": "execute_result"
    }
   ],
   "source": [
    "foods_dict.items()"
   ]
  },
  {
   "cell_type": "code",
   "execution_count": 94,
   "id": "f1a0b775-5079-4fc9-b8a9-f252f86fcf18",
   "metadata": {},
   "outputs": [
    {
     "name": "stdout",
     "output_type": "stream",
     "text": [
      "pizza     : 🍕\n",
      "bagel     : 🥯\n",
      "popcorn   : 🍿\n"
     ]
    }
   ],
   "source": [
    "for key, value in foods_dict.items():\n",
    "    print(f\"{key:10}: {value}\")"
   ]
  },
  {
   "cell_type": "markdown",
   "id": "1e72630a-5eae-4039-9a8c-d20df929ff38",
   "metadata": {},
   "source": [
    "### The set type\n",
    "\n",
    "The set type is a lot like a dict type, but with only keys, no values.  The keys must be both unique and immutable.  Data types which can be changed, such as lists, are not allowed to play the role of set elements, or dict keys."
   ]
  },
  {
   "cell_type": "code",
   "execution_count": 95,
   "id": "52a55032-4964-4bcd-8ea4-fb26f9de7ec4",
   "metadata": {},
   "outputs": [],
   "source": [
    "the_set   = set(foods_list)    # duplicates will be dropped\n",
    "other_set = set(foods_tuple)   # ditto"
   ]
  },
  {
   "cell_type": "code",
   "execution_count": 96,
   "id": "d314c229-4e42-4b98-9cb3-b7f65107c8d5",
   "metadata": {},
   "outputs": [
    {
     "data": {
      "text/plain": [
       "{'🍕', '🍿', '🥯'}"
      ]
     },
     "execution_count": 96,
     "metadata": {},
     "output_type": "execute_result"
    }
   ],
   "source": [
    "the_set.intersection(other_set)  # whatever they have in common"
   ]
  },
  {
   "cell_type": "code",
   "execution_count": 97,
   "id": "9bf9b0e1-3b5e-485f-b6f6-7c14f552f615",
   "metadata": {},
   "outputs": [
    {
     "data": {
      "text/plain": [
       "{'🌭', '🍕', '🍿', '🥯'}"
      ]
     },
     "execution_count": 97,
     "metadata": {},
     "output_type": "execute_result"
    }
   ],
   "source": [
    "the_set.union(other_set)         # whatever they have all together"
   ]
  },
  {
   "cell_type": "markdown",
   "id": "efced7a5-6abd-41ed-9c4e-83afb0f5d2d3",
   "metadata": {},
   "source": [
    "### The namedtuple type\n",
    "\n",
    "The final data structure we'll look at in this notebook is the namedtuple, which is a cross between a dictionary and a tuple.  We'll be able to access a value by its key, but also by its numeric index.\n",
    "\n",
    "Consider an Atom, as in the Periodic Table.  It has a number of protons, an abbreviation, a name.\n",
    "\n",
    "![](https://1.bp.blogspot.com/_5S18BpQ5mvg/RvzIZrxebuI/AAAAAAAABSs/3vVj2CQX3wk/w1200-h630-p-k-no-nu/element+periodic+table.JPG)\n",
    "\n",
    "First we define a generic Atom, then we can make a few."
   ]
  },
  {
   "cell_type": "code",
   "execution_count": 98,
   "id": "814244cc-666f-4c19-86fd-512b9a6503e1",
   "metadata": {},
   "outputs": [],
   "source": [
    "import collections\n",
    "\n",
    "Atom = collections.namedtuple(\"Element\", \"protons abbrev name\")"
   ]
  },
  {
   "cell_type": "code",
   "execution_count": 99,
   "id": "7bb56945-bcc4-45fb-bef3-96426c635c77",
   "metadata": {},
   "outputs": [],
   "source": [
    "hydrogen = Atom(1, \"H\", \"Hydrogen\")\n",
    "helium = Atom(2, \"He\", \"Helium\")\n",
    "lithium = Atom(3, \"Li\", \"Lithium\")"
   ]
  },
  {
   "cell_type": "code",
   "execution_count": 100,
   "id": "5c4c793b-8e96-49c9-965d-487670ef069a",
   "metadata": {},
   "outputs": [
    {
     "data": {
      "text/plain": [
       "Element(protons=1, abbrev='H', name='Hydrogen')"
      ]
     },
     "execution_count": 100,
     "metadata": {},
     "output_type": "execute_result"
    }
   ],
   "source": [
    "hydrogen"
   ]
  },
  {
   "cell_type": "code",
   "execution_count": 101,
   "id": "d5ee1815-e169-4425-a603-4b414839cce7",
   "metadata": {},
   "outputs": [
    {
     "data": {
      "text/plain": [
       "1"
      ]
     },
     "execution_count": 101,
     "metadata": {},
     "output_type": "execute_result"
    }
   ],
   "source": [
    "hydrogen[0]  # index attribute by number"
   ]
  },
  {
   "cell_type": "code",
   "execution_count": 102,
   "id": "13bf34a0-d8b1-4a05-b3e5-aac71895bc3f",
   "metadata": {},
   "outputs": [
    {
     "name": "stdout",
     "output_type": "stream",
     "text": [
      "Name: Hydrogen             Protons:     1   Abbreviation: H   \n",
      "Name: Helium               Protons:     2   Abbreviation: He  \n",
      "Name: Lithium              Protons:     3   Abbreviation: Li  \n"
     ]
    }
   ],
   "source": [
    "for the_atom in (hydrogen, helium, lithium):  # loop over a tuple\n",
    "    print(f\"Name: {the_atom.name:20} Protons: {the_atom.protons:5}   Abbreviation: {the_atom.abbrev:4}\") "
   ]
  },
  {
   "cell_type": "markdown",
   "id": "5a7561ef-d1cd-4044-940c-9f9b8ccea71a",
   "metadata": {},
   "source": [
    "The above for-loop showcases yet another Python feature:  format strings.  The letter f prefix, in front of the quoted string, automatically fills in the curly brace placeholders using names already defined in the namespace."
   ]
  }
 ],
 "metadata": {
  "kernelspec": {
   "display_name": "Python 3 (ipykernel)",
   "language": "python",
   "name": "python3"
  },
  "language_info": {
   "codemirror_mode": {
    "name": "ipython",
    "version": 3
   },
   "file_extension": ".py",
   "mimetype": "text/x-python",
   "name": "python",
   "nbconvert_exporter": "python",
   "pygments_lexer": "ipython3",
   "version": "3.9.15"
  }
 },
 "nbformat": 4,
 "nbformat_minor": 5
}
