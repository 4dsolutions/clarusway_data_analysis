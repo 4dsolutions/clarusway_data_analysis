{
 "cells": [
  {
   "cell_type": "markdown",
   "id": "6b972230-39c9-481f-966f-52fd48f6a157",
   "metadata": {},
   "source": [
    "# Recursivity\n",
    "\n",
    "<a data-flickr-embed=\"true\" href=\"https://www.flickr.com/photos/kirbyurner/52563704012/in/album-72177720296706479/\" title=\"LMS Dashboard\"><img src=\"https://live.staticflickr.com/65535/52563704012_71ef4beb8a_b.jpg\" width=\"1024\" height=\"354\" alt=\"LMS Dashboard\"></a><script async src=\"//embedr.flickr.com/assets/client-code.js\" charset=\"utf-8\"></script>"
   ]
  },
  {
   "cell_type": "markdown",
   "id": "282f5b3f-5d10-4175-bad5-868facc4491e",
   "metadata": {},
   "source": [
    "Python Warm-up Notebooks:\n",
    "\n",
    "*  [Introduction to Python](warmup_python_intro.ipynb)\n",
    "*  [3rd Party Libraries](warmup_3rd_party_datascience.ipynb)\n",
    "*  [Object Types](warmup_data_structures.ipynb)  \n",
    "*  [Object Oriented Paradigm](warmup_object_oriented.ipynb)\n",
    "*  [Calling Callables and Type Checking](warmup_callables.ipynb)\n",
    "*  [Class and Static Methods, Properties](warmup_object_oriented2.ipynb)\n",
    "*  [SQLite3 and Context Managers](warmup_object_sql.ipynb)\n",
    "*  [Iterators and Generators](warmup_generators.ipynb) \n",
    "*  [Recursivity](warmup_recursion.ipynb)  (you are here)"
   ]
  },
  {
   "cell_type": "markdown",
   "id": "6169de1b-3288-453e-8cb5-8428d005d1e5",
   "metadata": {},
   "source": [
    "The idea of an \"indig\" traces to some studies by Buckminster Fuller (American philosopher, July 12, 1895 - July 1, 1983) based on his research into the topic of numerology (the ancient study of the mystical significance of numbers). \n",
    "\n",
    "Fuller writes in his magnum opus *Synergetics*:\n",
    "\n",
    "<blockquote>  \n",
    "    <b>1221.10: Quantifying by Integration</b>: \n",
    "    \n",
    "Early in my life, I became interested in the mathematical potentials latent in the methodology of the numerologists. I found myself increasingly intrigued and continually experimenting with digit integrations. What the numerologist does is to add numbers as expressed horizontally; for instance:\n",
    "\n",
    "120 = 1 + 2 + 0 = 3\n",
    "\n",
    "Or:\n",
    "\n",
    "32986513 = 3+2+9+8+6+5+1+3 = 37 = 3+7 = 10 = 1+0 = 1,\n",
    "    \n",
    "Numerologically, 32986513 = 1\n",
    "\n",
    "Or:\n",
    "\n",
    "59865279171 = 5+9 = 14+8 = 22+6 = 28+5 = 33+2 = 35+7 = 42+9 = 51+1 = 52+7 = 59+1 = 60 = 6+0 = 6,\n",
    "    \n",
    "Numerologically, 59865279171 = 6.\n",
    "</blockquote>\n",
    "\n",
    "<blockquote>\n",
    "    <b>1221.13</b>   As a measure of communications economy, I soon nicknamed as <i>indigs</i> the final unitary reduction of the integrated digits. I use <i>indig</i> rather than <i>integer</i> to remind us of the process by which ancient mathematicians counting with their fingers (digits) may have come in due course to evolve the term <i>integer</i>.\n",
    "</blockquote>\n",
    "\n",
    "\n",
    "Without buying into any specific ideology regarding numerology, the \"indig\" algorithm provides an interesting example of where a recursive treatment might be apropos. \n",
    "\n",
    "We study the indig algorithm because we're learning programming, not because we're learning numerology (although we're free to investigate that too).\n",
    "\n",
    "To take the indig of a number: \n",
    "\n",
    "* sum all its digits and see if you're down to a single digit. \n",
    "* If you are, you're done. \n",
    "* If not, take the indig of the multi-digit number you've got (back to step 1)"
   ]
  },
  {
   "cell_type": "markdown",
   "id": "5f209025-7c26-4054-b41a-0796a5537744",
   "metadata": {},
   "source": [
    "In Python:"
   ]
  },
  {
   "cell_type": "code",
   "execution_count": 1,
   "id": "3ea14d60-950b-465b-b504-5389af8c2c19",
   "metadata": {},
   "outputs": [],
   "source": [
    "def indig(num: int): # expecting some integer input\n",
    "    the_indig = sum(map(int, list(str(num))))\n",
    "    if len(str(the_indig)) == 1: # are we done yet?\n",
    "        return the_indig\n",
    "    else:\n",
    "        return indig(the_indig) # calls itself recursively"
   ]
  },
  {
   "cell_type": "markdown",
   "id": "1d81e232-8412-476d-875f-420781e592ed",
   "metadata": {},
   "source": [
    "Let's break down the first statement, where all the action happens.\n",
    "\n",
    "Converting an integer (int) to a string (str) type object is tantamount to quoting the integer."
   ]
  },
  {
   "cell_type": "code",
   "execution_count": 2,
   "id": "f49db58f-2a8c-424d-b14f-f292206199b7",
   "metadata": {},
   "outputs": [
    {
     "data": {
      "text/plain": [
       "'12345'"
      ]
     },
     "execution_count": 2,
     "metadata": {},
     "output_type": "execute_result"
    }
   ],
   "source": [
    "str(12345)"
   ]
  },
  {
   "cell_type": "markdown",
   "id": "9fe92329-cd11-4fb2-ab3e-ff1b2f46efd1",
   "metadata": {},
   "source": [
    "Turning a string into a list involes splitting the string into a list of single character elements. These are what we would like to add, except adding strings simply concatentates them."
   ]
  },
  {
   "cell_type": "code",
   "execution_count": 3,
   "id": "27ca59ad-be07-4fab-9ef8-91b6206dda37",
   "metadata": {},
   "outputs": [
    {
     "data": {
      "text/plain": [
       "['1', '2', '3', '4', '5']"
      ]
     },
     "execution_count": 3,
     "metadata": {},
     "output_type": "execute_result"
    }
   ],
   "source": [
    "list(str(12345))"
   ]
  },
  {
   "cell_type": "code",
   "execution_count": 4,
   "id": "1f5d0218-9551-410c-ab32-6f2b202837c6",
   "metadata": {},
   "outputs": [],
   "source": [
    "from functools import reduce \n",
    "from operator import add"
   ]
  },
  {
   "cell_type": "code",
   "execution_count": 5,
   "id": "5facf495-b73c-4f95-9ace-ae83c3c9e26d",
   "metadata": {},
   "outputs": [
    {
     "name": "stdout",
     "output_type": "stream",
     "text": [
      "Help on built-in function add in module _operator:\n",
      "\n",
      "add(a, b, /)\n",
      "    Same as a + b.\n",
      "\n"
     ]
    }
   ],
   "source": [
    "help(add)"
   ]
  },
  {
   "cell_type": "code",
   "execution_count": 6,
   "id": "c103a779-a522-4a02-9a5a-a5c93abd94a7",
   "metadata": {},
   "outputs": [
    {
     "name": "stdout",
     "output_type": "stream",
     "text": [
      "Help on built-in function reduce in module _functools:\n",
      "\n",
      "reduce(...)\n",
      "    reduce(function, sequence[, initial]) -> value\n",
      "    \n",
      "    Apply a function of two arguments cumulatively to the items of a sequence,\n",
      "    from left to right, so as to reduce the sequence to a single value.\n",
      "    For example, reduce(lambda x, y: x+y, [1, 2, 3, 4, 5]) calculates\n",
      "    ((((1+2)+3)+4)+5).  If initial is present, it is placed before the items\n",
      "    of the sequence in the calculation, and serves as a default when the\n",
      "    sequence is empty.\n",
      "\n"
     ]
    }
   ],
   "source": [
    "help(reduce)"
   ]
  },
  {
   "cell_type": "code",
   "execution_count": 7,
   "id": "87237a0b-8099-4018-91a3-ea5d2b24b81f",
   "metadata": {},
   "outputs": [
    {
     "data": {
      "text/plain": [
       "'12345'"
      ]
     },
     "execution_count": 7,
     "metadata": {},
     "output_type": "execute_result"
    }
   ],
   "source": [
    "reduce(add, ['1', '2', '3', '4', '5'])  # not what we want!"
   ]
  },
  {
   "cell_type": "markdown",
   "id": "e33e0abd-81bd-4133-afed-5f027c608a52",
   "metadata": {},
   "source": [
    "Using `map` we can turn each digit (a string) back into an integer, suitable for sum totaling."
   ]
  },
  {
   "cell_type": "code",
   "execution_count": 8,
   "id": "0a69d8cd-1c26-4a65-b8cd-92a198f3078e",
   "metadata": {},
   "outputs": [
    {
     "data": {
      "text/plain": [
       "[1, 2, 3, 4, 5]"
      ]
     },
     "execution_count": 8,
     "metadata": {},
     "output_type": "execute_result"
    }
   ],
   "source": [
    "list(map(int, ['1', '2', '3', '4', '5']))"
   ]
  },
  {
   "cell_type": "markdown",
   "id": "a20e29fb-43cf-4c00-bcd3-a272af006151",
   "metadata": {},
   "source": [
    "Alternatively, using list comprehension syntax:"
   ]
  },
  {
   "cell_type": "code",
   "execution_count": 9,
   "id": "7404c767-aebd-411e-90fe-2aa9fa4277f8",
   "metadata": {},
   "outputs": [
    {
     "data": {
      "text/plain": [
       "[1, 2, 3, 4, 5]"
      ]
     },
     "execution_count": 9,
     "metadata": {},
     "output_type": "execute_result"
    }
   ],
   "source": [
    "[int(elem) for elem in ['1', '2', '3', '4', '5']]"
   ]
  },
  {
   "cell_type": "markdown",
   "id": "64cbc63a-7b9f-4f3a-bc98-02c6f09356d5",
   "metadata": {},
   "source": [
    "Once we have a list of ints, we're ready to roll with reducing with add:"
   ]
  },
  {
   "cell_type": "code",
   "execution_count": 10,
   "id": "2b554568-5662-4d28-a02f-ec5c0e297a31",
   "metadata": {},
   "outputs": [
    {
     "data": {
      "text/plain": [
       "15"
      ]
     },
     "execution_count": 10,
     "metadata": {},
     "output_type": "execute_result"
    }
   ],
   "source": [
    "reduce(add, [1, 2, 3, 4, 5]) # now we have it!"
   ]
  },
  {
   "cell_type": "markdown",
   "id": "12c099b6-deae-4e3a-b610-4f4de52867d4",
   "metadata": {},
   "source": [
    "However a more Pythonic expression would be to simply use the builtin `sum` function:"
   ]
  },
  {
   "cell_type": "code",
   "execution_count": 11,
   "id": "44715884-17ee-4533-a417-20f5aaea259e",
   "metadata": {},
   "outputs": [
    {
     "data": {
      "text/plain": [
       "15"
      ]
     },
     "execution_count": 11,
     "metadata": {},
     "output_type": "execute_result"
    }
   ],
   "source": [
    "sum([1, 2, 3, 4, 5])"
   ]
  },
  {
   "cell_type": "markdown",
   "id": "aa2c7f82-b770-4831-9f1d-d29c3f97866f",
   "metadata": {},
   "source": [
    "So, to summarize:"
   ]
  },
  {
   "cell_type": "code",
   "execution_count": 12,
   "id": "1abd1fe1-a935-435a-a7cf-9d367d972e83",
   "metadata": {},
   "outputs": [
    {
     "data": {
      "text/plain": [
       "15"
      ]
     },
     "execution_count": 12,
     "metadata": {},
     "output_type": "execute_result"
    }
   ],
   "source": [
    "sum(map(int, list(str(12345))))"
   ]
  },
  {
   "cell_type": "markdown",
   "id": "e0df0779-4f36-4280-8459-e3a81aec84af",
   "metadata": {},
   "source": [
    "Now lets test our new function, including by using Bucky's specific examples:"
   ]
  },
  {
   "cell_type": "code",
   "execution_count": 13,
   "id": "78c84a0d-5587-4669-a913-082b52a3ca5a",
   "metadata": {},
   "outputs": [
    {
     "data": {
      "text/plain": [
       "9"
      ]
     },
     "execution_count": 13,
     "metadata": {},
     "output_type": "execute_result"
    }
   ],
   "source": [
    "indig(12345678)"
   ]
  },
  {
   "cell_type": "markdown",
   "id": "8cd103b3-d85d-4793-99ad-17d93d7a54a2",
   "metadata": {},
   "source": [
    "Why?"
   ]
  },
  {
   "cell_type": "code",
   "execution_count": 14,
   "id": "cbcf0dce-3f69-40f9-a400-f4d891dce4be",
   "metadata": {},
   "outputs": [
    {
     "data": {
      "text/plain": [
       "36"
      ]
     },
     "execution_count": 14,
     "metadata": {},
     "output_type": "execute_result"
    }
   ],
   "source": [
    "sum(range(1,9)) # 12345678"
   ]
  },
  {
   "cell_type": "code",
   "execution_count": 15,
   "id": "1b6cda56-8758-4679-a131-760db7297d18",
   "metadata": {},
   "outputs": [
    {
     "data": {
      "text/plain": [
       "9"
      ]
     },
     "execution_count": 15,
     "metadata": {},
     "output_type": "execute_result"
    }
   ],
   "source": [
    "3 + 6"
   ]
  },
  {
   "cell_type": "code",
   "execution_count": 16,
   "id": "2036c901-7aa7-4f7a-ae11-3f62b23f0940",
   "metadata": {},
   "outputs": [
    {
     "data": {
      "text/plain": [
       "9"
      ]
     },
     "execution_count": 16,
     "metadata": {},
     "output_type": "execute_result"
    }
   ],
   "source": [
    "indig(999)"
   ]
  },
  {
   "cell_type": "markdown",
   "id": "e0547ef0-c062-4b32-aa7c-f7b8b6680774",
   "metadata": {},
   "source": [
    "Why again? Because:"
   ]
  },
  {
   "cell_type": "code",
   "execution_count": 17,
   "id": "8879c79f-3924-4dd9-bbb7-40d369f8a1d3",
   "metadata": {},
   "outputs": [
    {
     "data": {
      "text/plain": [
       "27"
      ]
     },
     "execution_count": 17,
     "metadata": {},
     "output_type": "execute_result"
    }
   ],
   "source": [
    "9 + 9 + 9"
   ]
  },
  {
   "cell_type": "code",
   "execution_count": 18,
   "id": "48ac01e1-4d6c-4d06-892a-c5bf8ada48e0",
   "metadata": {},
   "outputs": [
    {
     "data": {
      "text/plain": [
       "9"
      ]
     },
     "execution_count": 18,
     "metadata": {},
     "output_type": "execute_result"
    }
   ],
   "source": [
    "2 + 7"
   ]
  },
  {
   "cell_type": "code",
   "execution_count": 19,
   "id": "865702c0-5f88-470a-a3b2-c526c4af3f71",
   "metadata": {},
   "outputs": [
    {
     "data": {
      "text/plain": [
       "8"
      ]
     },
     "execution_count": 19,
     "metadata": {},
     "output_type": "execute_result"
    }
   ],
   "source": [
    "indig(512) # 5 + 1 + 2"
   ]
  },
  {
   "cell_type": "code",
   "execution_count": 20,
   "id": "20fa577e-4269-4cce-80b7-1fe21dd63b43",
   "metadata": {},
   "outputs": [
    {
     "data": {
      "text/plain": [
       "6"
      ]
     },
     "execution_count": 20,
     "metadata": {},
     "output_type": "execute_result"
    }
   ],
   "source": [
    "indig(59865279171) # Synergetics example"
   ]
  },
  {
   "cell_type": "code",
   "execution_count": 21,
   "id": "e773d066-bcd2-485a-948d-e9d78dd0e1ca",
   "metadata": {},
   "outputs": [
    {
     "data": {
      "text/plain": [
       "1"
      ]
     },
     "execution_count": 21,
     "metadata": {},
     "output_type": "execute_result"
    }
   ],
   "source": [
    "indig(32986513) # Synergetics example"
   ]
  },
  {
   "cell_type": "markdown",
   "id": "ac8bb7c2-4d19-4fff-875b-da941fc8aa20",
   "metadata": {},
   "source": [
    "A shorter version of the same thing:"
   ]
  },
  {
   "cell_type": "code",
   "execution_count": 22,
   "id": "d354b69d-4719-461d-87a3-3d3d0b51f0b0",
   "metadata": {},
   "outputs": [],
   "source": [
    "def indig(n: int):\n",
    "    return n if len(str(n))==1 else indig(sum(map(int, list(str(n)))))"
   ]
  },
  {
   "cell_type": "code",
   "execution_count": 23,
   "id": "e2c8fb7d-ed17-480e-ab84-565fdf09bb51",
   "metadata": {},
   "outputs": [
    {
     "data": {
      "text/plain": [
       "6"
      ]
     },
     "execution_count": 23,
     "metadata": {},
     "output_type": "execute_result"
    }
   ],
   "source": [
    "indig(59865279171)"
   ]
  },
  {
   "cell_type": "code",
   "execution_count": 24,
   "id": "0bcfd8ed-ccda-4e3b-91be-a402c3ccc675",
   "metadata": {},
   "outputs": [
    {
     "data": {
      "text/plain": [
       "1"
      ]
     },
     "execution_count": 24,
     "metadata": {},
     "output_type": "execute_result"
    }
   ],
   "source": [
    "indig(32986513)"
   ]
  },
  {
   "cell_type": "code",
   "execution_count": 25,
   "id": "1548c7fc-9c9c-422e-9e1b-9ff22f02c5f9",
   "metadata": {},
   "outputs": [
    {
     "data": {
      "text/plain": [
       "9"
      ]
     },
     "execution_count": 25,
     "metadata": {},
     "output_type": "execute_result"
    }
   ],
   "source": [
    "indig(12345678)"
   ]
  },
  {
   "cell_type": "markdown",
   "id": "57983010-fbbe-406e-b1a7-cc85db64cf6d",
   "metadata": {},
   "source": [
    "More background context:  In [this YouTube](https://www.youtube.com/live/5AOU6Np1yzk) I join in the live chat as Daniel reads through some passages from the Buckminster Fuller magnum opus Synergetics, regarding early natural language processing concepts etc."
   ]
  }
 ],
 "metadata": {
  "kernelspec": {
   "display_name": "Python 3 (ipykernel)",
   "language": "python",
   "name": "python3"
  },
  "language_info": {
   "codemirror_mode": {
    "name": "ipython",
    "version": 3
   },
   "file_extension": ".py",
   "mimetype": "text/x-python",
   "name": "python",
   "nbconvert_exporter": "python",
   "pygments_lexer": "ipython3",
   "version": "3.9.15"
  }
 },
 "nbformat": 4,
 "nbformat_minor": 5
}
