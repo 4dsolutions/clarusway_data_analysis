{
 "cells": [
  {
   "cell_type": "markdown",
   "id": "oAIPrOesCkqr",
   "metadata": {
    "id": "oAIPrOesCkqr"
   },
   "source": [
    "#### Clarusway Python\n",
    "\n",
    "* [Instructor Landing Page](landing_page.ipynb)\n",
    "* <a href=\"https://colab.research.google.com/github/4dsolutions/clarusway_data_analysis/blob/main/basic_python/07.session07.ipynb\"><img align=\"left\" src=\"https://colab.research.google.com/assets/colab-badge.svg\" alt=\"Open in Colab\" title=\"Open and Execute in Google Colaboratory\"></a>\n",
    "* [![nbviewer](https://raw.githubusercontent.com/jupyter/design/master/logos/Badges/nbviewer_badge.svg)](https://nbviewer.org/github/4dsolutions/clarusway_data_analysis/blob/main/basic_python/07.session07.ipynb)"
   ]
  },
  {
   "cell_type": "markdown",
   "id": "97d2a08c",
   "metadata": {
    "id": "97d2a08c"
   },
   "source": [
    "<a id=\"toc\"></a>\n",
    "\n",
    "## <p style=\"background-color:#0D8D99; font-family:newtimeroman; color:#FFF9ED; font-size:175%; text-align:center; border-radius:10px 10px;\">Python Session07</p>"
   ]
  },
  {
   "cell_type": "markdown",
   "id": "b23575ff",
   "metadata": {
    "id": "b23575ff"
   },
   "source": [
    "#### <div class=\"alert alert-block alert-info\"><h1><p style=\"text-align: center; color:purple\">Some Additional Operations on Strings<br><br>Indexing & Slicing a List<br><br>An examination of some methods and attributes of lists.<br><br>Tuples<br><br>Creating a Tuple</p>"
   ]
  },
  {
   "cell_type": "markdown",
   "id": "7b389fbc",
   "metadata": {
    "id": "7b389fbc"
   },
   "source": [
    "<a id=\"toc\"></a>\n",
    "\n",
    "### <p style=\"background-color:#9d4f8c; font-family:newtimeroman; color:#FFF9ED; font-size:175%; text-align:center; border-radius:10px 10px;\">Some additional operations on strings</p>"
   ]
  },
  {
   "cell_type": "code",
   "execution_count": null,
   "id": "629765d8",
   "metadata": {
    "id": "629765d8",
    "outputId": "b6b8acb6-0dc3-4d2f-f60a-b47e7e374ef1"
   },
   "outputs": [],
   "source": [
    "# Let's remove the character \"r\" at index 3 of \"Clarusway\" string.\n",
    "\n",
    "full = \"Clarusway\"\n",
    "\n",
    "head = \"clarus\"\n",
    "\n",
    "bottom = \"way\"\n",
    "\n",
    "print(head + bottom)\n",
    "\n",
    "print(full[:3] + full[4:])"
   ]
  },
  {
   "cell_type": "code",
   "execution_count": null,
   "id": "68449371",
   "metadata": {
    "id": "68449371",
    "outputId": "98eb38a9-94da-4f2a-ae03-88bbe2bcc9d3"
   },
   "outputs": [],
   "source": [
    "# solution with replace() method:\n",
    "\n",
    "full = \"Clarusway\"\n",
    "\n",
    "print(full.replace(\"r\", \"\"))"
   ]
  },
  {
   "cell_type": "code",
   "execution_count": null,
   "id": "4f31fc6f",
   "metadata": {
    "id": "4f31fc6f",
    "outputId": "a2a710f5-23f6-4a16-d0fa-f9cc585f62e9"
   },
   "outputs": [],
   "source": [
    "a = 11\n",
    "a"
   ]
  },
  {
   "cell_type": "code",
   "execution_count": null,
   "id": "9dc0609b",
   "metadata": {
    "id": "9dc0609b",
    "outputId": "20f0ed3f-d302-42eb-ee5a-367a11e658be"
   },
   "outputs": [],
   "source": [
    "print(-a)"
   ]
  },
  {
   "cell_type": "code",
   "execution_count": null,
   "id": "cf27b94f",
   "metadata": {
    "id": "cf27b94f",
    "outputId": "46f919df-8868-4ed2-ca39-d1d32a8892e8"
   },
   "outputs": [],
   "source": [
    "b = -11\n",
    "b"
   ]
  },
  {
   "cell_type": "code",
   "execution_count": null,
   "id": "459c1d11",
   "metadata": {
    "id": "459c1d11",
    "outputId": "5e63fd80-3a0c-4900-8a1a-9a1229569854"
   },
   "outputs": [],
   "source": [
    "print(-b)"
   ]
  },
  {
   "cell_type": "code",
   "execution_count": null,
   "id": "6eb5dce0",
   "metadata": {
    "id": "6eb5dce0",
    "outputId": "eaf9fd1e-4c3a-401e-e9c7-3bfe11d7452e"
   },
   "outputs": [],
   "source": [
    "print(\"The multiplication of {} x {} is = {}\".format(a, b, a * b))"
   ]
  },
  {
   "cell_type": "code",
   "execution_count": null,
   "id": "cdb2ba3c",
   "metadata": {
    "id": "cdb2ba3c",
    "outputId": "f512fc52-9822-403b-8deb-46a667424b6c"
   },
   "outputs": [],
   "source": [
    "text = \"{}, {}, {}\".format(3.1463, 5.367, 7.324324)\n",
    "\n",
    "text"
   ]
  },
  {
   "cell_type": "code",
   "execution_count": null,
   "id": "2d16f942",
   "metadata": {
    "id": "2d16f942",
    "outputId": "90b2e785-b960-41e8-dc86-f12729a82b27"
   },
   "outputs": [],
   "source": [
    "text = \"{:.2f}, {:.3f}, {:.4f}\".format(3.1463, 5.367, 7.324324)\n",
    "text"
   ]
  },
  {
   "cell_type": "code",
   "execution_count": null,
   "id": "d346d873",
   "metadata": {
    "id": "d346d873",
    "outputId": "3d08d1a6-eed0-418c-e31e-9ef4a2a4908c"
   },
   "outputs": [],
   "source": [
    "text = \"{:.2}, {:.3}, {:.4}\".format(3.1463, 5.367, 7.324324)\n",
    "text"
   ]
  },
  {
   "cell_type": "code",
   "execution_count": null,
   "id": "38465dd7",
   "metadata": {
    "id": "38465dd7",
    "outputId": "9f743489-8b71-4d62-8141-808d8bec2994"
   },
   "outputs": [],
   "source": [
    "text = \"{:.2s}, {:.3s}, {:.4s}\".format(\"a3.1463\", \"5.b367\", \"7.324324\")\n",
    "text"
   ]
  },
  {
   "cell_type": "code",
   "execution_count": null,
   "id": "a39d9bd8",
   "metadata": {
    "id": "a39d9bd8",
    "outputId": "391cccaa-3f91-4091-c329-ddbc599b045f"
   },
   "outputs": [],
   "source": [
    "text = \"{:.2}, {:.3}, {:.4}\".format(\"a3.1463\", \"5.b367\", \"7.324324\")\n",
    "text"
   ]
  },
  {
   "cell_type": "code",
   "execution_count": null,
   "id": "0297d081",
   "metadata": {
    "id": "0297d081",
    "outputId": "05ac3e86-9912-43be-c0c6-9bc20c08c6e8"
   },
   "outputs": [],
   "source": [
    "text = \"{:>10}\".format(\"test\")\n",
    "text"
   ]
  },
  {
   "cell_type": "code",
   "execution_count": null,
   "id": "43cf2d86",
   "metadata": {
    "id": "43cf2d86",
    "outputId": "2da0e67f-0cb8-4512-fdb3-a52508be831b"
   },
   "outputs": [],
   "source": [
    "text = \"{:<20}\".format(\"test\")\n",
    "text"
   ]
  },
  {
   "cell_type": "code",
   "execution_count": null,
   "id": "dcd06a12",
   "metadata": {
    "id": "dcd06a12",
    "outputId": "cdb4dbda-ad03-4ea1-8c19-4f25905ec6a8"
   },
   "outputs": [],
   "source": [
    "text = \"formatting line '{:>15}' <--the first word is over at this point.\\\n",
    " here the second word begins--> '{:<12}'\".format(\"perseverance\", \"success\")\n",
    "\n",
    "text"
   ]
  },
  {
   "cell_type": "code",
   "execution_count": null,
   "id": "c8ae9f46",
   "metadata": {
    "id": "c8ae9f46",
    "outputId": "e1a82c3b-a83c-4ad2-ccc6-73f66c3907e2"
   },
   "outputs": [],
   "source": [
    "text = \"{:^20}\".format(\"be upright!\")\n",
    "text"
   ]
  },
  {
   "cell_type": "code",
   "execution_count": null,
   "id": "ce435987",
   "metadata": {
    "id": "ce435987",
    "outputId": "415d85d6-58dd-46b9-8fdc-610b6def016c"
   },
   "outputs": [],
   "source": [
    "text = \"{:10.5}\".format(\"hippopotamus\")\n",
    "text"
   ]
  },
  {
   "cell_type": "code",
   "execution_count": null,
   "id": "0a32b780",
   "metadata": {
    "id": "0a32b780",
    "outputId": "e3c69c1e-5960-4e77-ff35-576899857b8e"
   },
   "outputs": [],
   "source": [
    "\"{:>20.5}\".format(\"hippopotamus\")"
   ]
  },
  {
   "cell_type": "markdown",
   "id": "a7d7cb0c",
   "metadata": {
    "id": "a7d7cb0c"
   },
   "source": [
    "<a id=\"toc\"></a>\n",
    "\n",
    "## <p style=\"background-color:#9d4f8c; font-family:newtimeroman; color:#FFF9ED; font-size:175%; text-align:center; border-radius:10px 10px;\">Lists - Indexing & Slicing a List</p>"
   ]
  },
  {
   "cell_type": "code",
   "execution_count": null,
   "id": "a0161b2a",
   "metadata": {
    "id": "a0161b2a",
    "outputId": "1a2b05ae-1203-4d55-b52c-77d50d02932a"
   },
   "outputs": [],
   "source": [
    "# 2134[1]\n",
    "\n",
    "# error! ('int' object is not subscriptable)\n",
    "# integer data types are not iterable. Has no elements.Therefore, 'int' objects are not subscriptable."
   ]
  },
  {
   "cell_type": "code",
   "execution_count": null,
   "id": "b229ad86",
   "metadata": {
    "id": "b229ad86",
    "outputId": "d23bd3dc-c85c-4f56-95f8-2cf6ad10abb0"
   },
   "outputs": [],
   "source": [
    "# len(2134)\n",
    "\n",
    "# error! (object of type 'int' has no len() )\n",
    "# their length cannot be mentioned because they are not subscriptable"
   ]
  },
  {
   "cell_type": "code",
   "execution_count": null,
   "id": "03648c25",
   "metadata": {
    "id": "03648c25"
   },
   "outputs": [],
   "source": [
    "colors = [\"red\", \"purple\", \"blue\", \"yellow\", \"green\"]"
   ]
  },
  {
   "cell_type": "code",
   "execution_count": null,
   "id": "0391560b",
   "metadata": {
    "id": "0391560b",
    "outputId": "14d65e11-1a8d-4981-a1c0-f41d67480815"
   },
   "outputs": [],
   "source": [
    "colors[3]"
   ]
  },
  {
   "cell_type": "code",
   "execution_count": null,
   "id": "f6ee5995",
   "metadata": {
    "id": "f6ee5995",
    "outputId": "9ff07ebd-d7d5-4a33-90bc-e53825b9266b"
   },
   "outputs": [],
   "source": [
    " [\"red\", \"purple\", \"blue\", \"yellow\", \"green\"][3]"
   ]
  },
  {
   "cell_type": "code",
   "execution_count": null,
   "id": "a658f1ec",
   "metadata": {
    "id": "a658f1ec",
    "outputId": "249e863d-7c53-4e0c-d18b-0a352e5902ca"
   },
   "outputs": [],
   "source": [
    "city =  [\"New York\", \"London\", \"Istanbul\", \"Seoul\", \"Sydney\"]\n",
    "\n",
    "city_list = []\n",
    "\n",
    "city_list.append(city)  # we appended a list object inside the empty list. NNow city_list is a list with a single element.\n",
    "\n",
    "print(city_list)"
   ]
  },
  {
   "cell_type": "code",
   "execution_count": null,
   "id": "7faf018d",
   "metadata": {
    "id": "7faf018d",
    "outputId": "2aed8a6f-eeb4-4385-d83d-2a76698e1f14"
   },
   "outputs": [],
   "source": [
    "len(city_list)"
   ]
  },
  {
   "cell_type": "code",
   "execution_count": null,
   "id": "5df75da2",
   "metadata": {
    "id": "5df75da2",
    "outputId": "37a00f1e-b936-47e3-e79a-e8032d76d1d0"
   },
   "outputs": [],
   "source": [
    "city_list = []\n",
    "\n",
    "city_list.append([\"New York\", \"London\", \"Istanbul\", \"Seoul\", \"Sydney\"])\n",
    "\n",
    "print(city_list)"
   ]
  },
  {
   "cell_type": "code",
   "execution_count": null,
   "id": "96070ece",
   "metadata": {
    "id": "96070ece"
   },
   "outputs": [],
   "source": [
    "city_list = [  [\"New York\", \"London\", \"Istanbul\", \"Seoul\", \"Sydney\"] ]"
   ]
  },
  {
   "cell_type": "code",
   "execution_count": null,
   "id": "5c51fd77",
   "metadata": {
    "id": "5c51fd77",
    "outputId": "10a85ce5-ff7b-4b1d-d02d-aa4bf74f7fb5"
   },
   "outputs": [],
   "source": [
    "# city_list[1]\n",
    "\n",
    "# error! (list index out of range)\n",
    "# Since my list is single-element, there is no 1st index number! it only has index 0."
   ]
  },
  {
   "cell_type": "code",
   "execution_count": null,
   "id": "7c9e17b7",
   "metadata": {
    "id": "7c9e17b7",
    "outputId": "70664f5a-8725-4760-ef59-0316ff437599"
   },
   "outputs": [],
   "source": [
    "city_list[0]  # The only element of the \"city_list\" list is a list of 5 string values."
   ]
  },
  {
   "cell_type": "code",
   "execution_count": null,
   "id": "dba61ffe",
   "metadata": {
    "id": "dba61ffe",
    "outputId": "0edd5f76-ad96-4cf9-d664-cf49464ca782"
   },
   "outputs": [],
   "source": [
    "type(city_list[0])"
   ]
  },
  {
   "cell_type": "code",
   "execution_count": null,
   "id": "56841695",
   "metadata": {
    "id": "56841695"
   },
   "outputs": [],
   "source": [
    "same_job = [2]"
   ]
  },
  {
   "cell_type": "code",
   "execution_count": null,
   "id": "ef6e238f",
   "metadata": {
    "id": "ef6e238f",
    "outputId": "c6eb4009-5389-4dac-9f0a-7e294016c2b8"
   },
   "outputs": [],
   "source": [
    "same_job[0]"
   ]
  },
  {
   "cell_type": "code",
   "execution_count": null,
   "id": "d27c9184",
   "metadata": {
    "id": "d27c9184",
    "outputId": "550645dd-6789-46eb-99bc-9dce3d7bcfff"
   },
   "outputs": [],
   "source": [
    "print(type(same_job))  # The type of my list is \"list class\"."
   ]
  },
  {
   "cell_type": "code",
   "execution_count": null,
   "id": "c2d998ba",
   "metadata": {
    "id": "c2d998ba",
    "outputId": "172ac31e-b6da-44df-e251-2dc82d81120b"
   },
   "outputs": [],
   "source": [
    "print(type(same_job[0]))  # The type of the element at index 0 of my list is integer."
   ]
  },
  {
   "cell_type": "code",
   "execution_count": null,
   "id": "3972101a",
   "metadata": {
    "id": "3972101a",
    "outputId": "389d9d36-02a2-4269-9f57-6ea943e7457f"
   },
   "outputs": [],
   "source": [
    "city_list"
   ]
  },
  {
   "cell_type": "code",
   "execution_count": null,
   "id": "770e2ed3",
   "metadata": {
    "id": "770e2ed3",
    "outputId": "933c72b3-07f5-4d8a-fda8-2c2cb18a7201"
   },
   "outputs": [],
   "source": [
    "city_list[0][2]"
   ]
  },
  {
   "cell_type": "code",
   "execution_count": null,
   "id": "c7427c27",
   "metadata": {
    "id": "c7427c27",
    "outputId": "243aea48-fd87-4b77-eccc-d8a9a008e9ee"
   },
   "outputs": [],
   "source": [
    "type(city_list[0][2])"
   ]
  },
  {
   "cell_type": "code",
   "execution_count": null,
   "id": "3cf5b19c",
   "metadata": {
    "id": "3cf5b19c",
    "outputId": "603bbfa6-27c5-45dc-900c-ac24d06249d9"
   },
   "outputs": [],
   "source": [
    "type(city_list[0][2][3])"
   ]
  },
  {
   "cell_type": "code",
   "execution_count": null,
   "id": "586ede7d",
   "metadata": {
    "id": "586ede7d",
    "outputId": "fd6b6f9e-950a-4831-9fce-f01b872e2c1a"
   },
   "outputs": [],
   "source": [
    "range(1, 11)"
   ]
  },
  {
   "cell_type": "code",
   "execution_count": null,
   "id": "a225c20c",
   "metadata": {
    "id": "a225c20c",
    "outputId": "7040b2fd-9889-4ad1-e05b-ca96e5a94497"
   },
   "outputs": [],
   "source": [
    "type(range(1, 11))  # The type of object produced by the range function is \"range type\"."
   ]
  },
  {
   "cell_type": "code",
   "execution_count": null,
   "id": "d2b0ba49",
   "metadata": {
    "id": "d2b0ba49",
    "outputId": "8fdf5222-8388-465c-eaaa-50a8f92595cb"
   },
   "outputs": [],
   "source": [
    "list(range(1, 11))  # we can make it visible by converting it to a collection"
   ]
  },
  {
   "cell_type": "code",
   "execution_count": null,
   "id": "268c96be",
   "metadata": {
    "id": "268c96be",
    "outputId": "877f79d7-08af-4e35-b34a-96040ffeacca"
   },
   "outputs": [],
   "source": [
    "list(range(11))"
   ]
  },
  {
   "cell_type": "code",
   "execution_count": null,
   "id": "2b4f6750",
   "metadata": {
    "id": "2b4f6750",
    "outputId": "07a9c5bd-3f4c-40b9-f705-3a139d7d8032"
   },
   "outputs": [],
   "source": [
    "numbers = list(range(1, 11))\n",
    "numbers"
   ]
  },
  {
   "cell_type": "code",
   "execution_count": null,
   "id": "0213ca95",
   "metadata": {
    "id": "0213ca95",
    "outputId": "f75dbf2f-3adc-4767-98f1-498b280593e9"
   },
   "outputs": [],
   "source": [
    "other_numbers = list(range(1, 11, 2))\n",
    "other_numbers"
   ]
  },
  {
   "cell_type": "code",
   "execution_count": null,
   "id": "ef505534",
   "metadata": {
    "id": "ef505534"
   },
   "outputs": [],
   "source": [
    "range(11)"
   ]
  },
  {
   "cell_type": "code",
   "execution_count": null,
   "id": "a0903eba",
   "metadata": {
    "id": "a0903eba",
    "outputId": "6797ef6f-2e41-483e-84a7-8eaae7ef8558"
   },
   "outputs": [],
   "source": [
    "range(11, -1)"
   ]
  },
  {
   "cell_type": "code",
   "execution_count": null,
   "id": "399ad0fb",
   "metadata": {
    "id": "399ad0fb",
    "outputId": "ef77b98b-0e40-41a6-b8ac-35c5cadb3138"
   },
   "outputs": [],
   "source": [
    "list(range(11, -1))"
   ]
  },
  {
   "cell_type": "code",
   "execution_count": null,
   "id": "64194cc1",
   "metadata": {
    "id": "64194cc1",
    "outputId": "d83116d9-3985-4db5-b55d-2d941f149378"
   },
   "outputs": [],
   "source": [
    "list(range(11, 0, -1))"
   ]
  },
  {
   "cell_type": "code",
   "execution_count": null,
   "id": "23b02d15",
   "metadata": {
    "id": "23b02d15",
    "outputId": "618cef19-4242-4e2c-964b-c36722c0fff8"
   },
   "outputs": [],
   "source": [
    "print(len([[1, 2, 3]]))  # The len() function returns the number of elements of the outermost list."
   ]
  },
  {
   "cell_type": "code",
   "execution_count": null,
   "id": "36fe4b3e",
   "metadata": {
    "id": "36fe4b3e",
    "outputId": "858718af-a91c-4322-e7ca-c6d9fc7670d9"
   },
   "outputs": [],
   "source": [
    "print(len([[1, 2, 3]][0]))\n"
   ]
  },
  {
   "cell_type": "code",
   "execution_count": null,
   "id": "c05afa24",
   "metadata": {
    "id": "c05afa24",
    "outputId": "657bde31-04b1-452d-d1a2-1b61c9b2f810"
   },
   "outputs": [],
   "source": [
    "[[1, 2, 3]][0]"
   ]
  },
  {
   "cell_type": "code",
   "execution_count": null,
   "id": "2574c24a",
   "metadata": {
    "id": "2574c24a"
   },
   "outputs": [],
   "source": [
    "a = [1,2,3,4,5]"
   ]
  },
  {
   "cell_type": "code",
   "execution_count": null,
   "id": "f50e093e",
   "metadata": {
    "id": "f50e093e"
   },
   "outputs": [],
   "source": [
    "a[2:2] = []"
   ]
  },
  {
   "cell_type": "code",
   "execution_count": null,
   "id": "1d5303d3",
   "metadata": {
    "id": "1d5303d3",
    "outputId": "a6c62eb2-8fec-4600-e0e1-120c860de5b0"
   },
   "outputs": [],
   "source": [
    "a"
   ]
  },
  {
   "cell_type": "code",
   "execution_count": null,
   "id": "2a7a819a",
   "metadata": {
    "id": "2a7a819a"
   },
   "outputs": [],
   "source": [
    "a[2:3] = []"
   ]
  },
  {
   "cell_type": "code",
   "execution_count": null,
   "id": "b5a6140e",
   "metadata": {
    "id": "b5a6140e",
    "outputId": "98a8529c-7fbf-44c2-b984-fc681d62d84c"
   },
   "outputs": [],
   "source": [
    "a"
   ]
  },
  {
   "cell_type": "markdown",
   "id": "xf2qYlXmGLOi",
   "metadata": {
    "id": "xf2qYlXmGLOi"
   },
   "source": [
    "An examination of some methods and attributes of lists."
   ]
  },
  {
   "cell_type": "code",
   "execution_count": null,
   "id": "fKGH41QUGLpl",
   "metadata": {
    "colab": {
     "base_uri": "https://localhost:8080/"
    },
    "executionInfo": {
     "elapsed": 1036,
     "status": "ok",
     "timestamp": 1721813893441,
     "user": {
      "displayName": "Edwin W",
      "userId": "11200791715119199957"
     },
     "user_tz": -180
    },
    "id": "fKGH41QUGLpl",
    "outputId": "e62c8d9b-c4d3-4d57-b2bd-44bac2907a9e"
   },
   "outputs": [],
   "source": [
    "numbers = [1,2,3,4]\n",
    "\n",
    "numbers.insert(4,5)\n",
    "print(numbers)"
   ]
  },
  {
   "cell_type": "code",
   "execution_count": null,
   "id": "iDV3P-FeGMYl",
   "metadata": {
    "colab": {
     "base_uri": "https://localhost:8080/"
    },
    "executionInfo": {
     "elapsed": 42,
     "status": "ok",
     "timestamp": 1721813893441,
     "user": {
      "displayName": "Edwin W",
      "userId": "11200791715119199957"
     },
     "user_tz": -180
    },
    "id": "iDV3P-FeGMYl",
    "outputId": "4ec308d4-2885-4844-9b7e-b6a80dc48bfe"
   },
   "outputs": [],
   "source": [
    "numbers.insert(-1, 5)\n",
    "print(numbers)"
   ]
  },
  {
   "cell_type": "code",
   "execution_count": null,
   "id": "xOeh_saEGMSu",
   "metadata": {
    "colab": {
     "base_uri": "https://localhost:8080/"
    },
    "executionInfo": {
     "elapsed": 36,
     "status": "ok",
     "timestamp": 1721813893441,
     "user": {
      "displayName": "Edwin W",
      "userId": "11200791715119199957"
     },
     "user_tz": -180
    },
    "id": "xOeh_saEGMSu",
    "outputId": "31786ec9-3016-47f9-b621-90f6f291046f"
   },
   "outputs": [],
   "source": [
    "numbers.reverse()\n",
    "\n",
    "numbers"
   ]
  },
  {
   "cell_type": "code",
   "execution_count": null,
   "id": "S12AbDlyGMMK",
   "metadata": {
    "colab": {
     "base_uri": "https://localhost:8080/"
    },
    "executionInfo": {
     "elapsed": 33,
     "status": "ok",
     "timestamp": 1721813893442,
     "user": {
      "displayName": "Edwin W",
      "userId": "11200791715119199957"
     },
     "user_tz": -180
    },
    "id": "S12AbDlyGMMK",
    "outputId": "ce926d95-676f-49a8-8e1b-922cdf1ceebe"
   },
   "outputs": [],
   "source": [
    "numbers.reverse()\n",
    "\n",
    "numbers"
   ]
  },
  {
   "cell_type": "code",
   "execution_count": null,
   "id": "w3F0XcHFGMF-",
   "metadata": {
    "colab": {
     "base_uri": "https://localhost:8080/"
    },
    "executionInfo": {
     "elapsed": 29,
     "status": "ok",
     "timestamp": 1721813893442,
     "user": {
      "displayName": "Edwin W",
      "userId": "11200791715119199957"
     },
     "user_tz": -180
    },
    "id": "w3F0XcHFGMF-",
    "outputId": "5047fafc-70c4-4a2b-c47b-6ddae84931ee"
   },
   "outputs": [],
   "source": [
    "list1 = [1,2,3,4]\n",
    "list2 = [5,6,7]\n",
    "\n",
    "print(f\"The id of list1 : {id(list1)}\")\n",
    "\n",
    "list1.extend(list2)\n",
    "print(f\"list1 is extended : {list1}\")\n",
    "print()\n",
    "print(f\"Note! The memory address of list1 has not changed. It is still the same object : {id(list1)}\")"
   ]
  },
  {
   "cell_type": "code",
   "execution_count": null,
   "id": "XaoCIkQ9GL-P",
   "metadata": {
    "colab": {
     "base_uri": "https://localhost:8080/"
    },
    "executionInfo": {
     "elapsed": 26,
     "status": "ok",
     "timestamp": 1721813893442,
     "user": {
      "displayName": "Edwin W",
      "userId": "11200791715119199957"
     },
     "user_tz": -180
    },
    "id": "XaoCIkQ9GL-P",
    "outputId": "e592e2d6-5b0b-4d8b-9497-c71c50ae8571"
   },
   "outputs": [],
   "source": [
    "list4 = [1,2,3,4]\n",
    "list5 = [5,6,7]\n",
    "\n",
    "print(f\"The id of list4: {id(list4)}\")\n",
    "\n",
    "list6 = list4 + list5\n",
    "print(f\"list4 merged with list5 to form list6 :  {list6}\")\n",
    "print()\n",
    "print(f\"The ID of list6 is different from that of list4. Therefore, list6 is a different object :  {id(list6)}\")"
   ]
  },
  {
   "cell_type": "code",
   "execution_count": null,
   "id": "FUYlp7dFGZ0V",
   "metadata": {
    "colab": {
     "base_uri": "https://localhost:8080/"
    },
    "executionInfo": {
     "elapsed": 23,
     "status": "ok",
     "timestamp": 1721813893442,
     "user": {
      "displayName": "Edwin W",
      "userId": "11200791715119199957"
     },
     "user_tz": -180
    },
    "id": "FUYlp7dFGZ0V",
    "outputId": "2724f820-9ac5-4f04-8192-da554eb935b2"
   },
   "outputs": [],
   "source": [
    "s_list = [\"c\", \"a\", \"z\", \"A\"]\n",
    "\n",
    "s_list.sort()\n",
    "\n",
    "s_list"
   ]
  },
  {
   "cell_type": "code",
   "execution_count": null,
   "id": "JnHIsi8hGZsH",
   "metadata": {
    "colab": {
     "base_uri": "https://localhost:8080/"
    },
    "executionInfo": {
     "elapsed": 19,
     "status": "ok",
     "timestamp": 1721813893442,
     "user": {
      "displayName": "Edwin W",
      "userId": "11200791715119199957"
     },
     "user_tz": -180
    },
    "id": "JnHIsi8hGZsH",
    "outputId": "cb638c13-532a-4869-ee74-7287fe19c29b"
   },
   "outputs": [],
   "source": [
    "ord(\"Z\")"
   ]
  },
  {
   "cell_type": "code",
   "execution_count": null,
   "id": "OD5fx1mMGZqP",
   "metadata": {
    "colab": {
     "base_uri": "https://localhost:8080/"
    },
    "executionInfo": {
     "elapsed": 17,
     "status": "ok",
     "timestamp": 1721813893442,
     "user": {
      "displayName": "Edwin W",
      "userId": "11200791715119199957"
     },
     "user_tz": -180
    },
    "id": "OD5fx1mMGZqP",
    "outputId": "f9a944aa-f1fa-439b-e95f-9d8b8231282d"
   },
   "outputs": [],
   "source": [
    "ord(\"a\")"
   ]
  },
  {
   "cell_type": "code",
   "execution_count": null,
   "id": "Ljnw0n0tGlC2",
   "metadata": {
    "colab": {
     "base_uri": "https://localhost:8080/"
    },
    "executionInfo": {
     "elapsed": 14,
     "status": "ok",
     "timestamp": 1721813893442,
     "user": {
      "displayName": "Edwin W",
      "userId": "11200791715119199957"
     },
     "user_tz": -180
    },
    "id": "Ljnw0n0tGlC2",
    "outputId": "c9e896f1-9865-4938-94de-69c9145636ec"
   },
   "outputs": [],
   "source": [
    "mix = [9, 5.5, 1.2, 3]\n",
    "mix.sort()\n",
    "mix"
   ]
  },
  {
   "cell_type": "code",
   "execution_count": null,
   "id": "HHkOKWjdGk9Z",
   "metadata": {
    "colab": {
     "base_uri": "https://localhost:8080/"
    },
    "executionInfo": {
     "elapsed": 12,
     "status": "ok",
     "timestamp": 1721813893443,
     "user": {
      "displayName": "Edwin W",
      "userId": "11200791715119199957"
     },
     "user_tz": -180
    },
    "id": "HHkOKWjdGk9Z",
    "outputId": "9919adc4-9650-4f04-b1b7-6f92cfba675c"
   },
   "outputs": [],
   "source": [
    "mix2 = [1, 3, 0.5, True, 0, False]\n",
    "mix2.sort()\n",
    "mix2"
   ]
  },
  {
   "cell_type": "code",
   "execution_count": null,
   "id": "iSOmxiLIGk4R",
   "metadata": {
    "colab": {
     "base_uri": "https://localhost:8080/"
    },
    "executionInfo": {
     "elapsed": 9,
     "status": "ok",
     "timestamp": 1721813893443,
     "user": {
      "displayName": "Edwin W",
      "userId": "11200791715119199957"
     },
     "user_tz": -180
    },
    "id": "iSOmxiLIGk4R",
    "outputId": "1fa1fc77-42ed-4465-d2a6-70f66f2ff537"
   },
   "outputs": [],
   "source": [
    "mix2 = [True, 1, 3, 0.5, False, 0]\n",
    "mix2.sort()\n",
    "mix2"
   ]
  },
  {
   "cell_type": "markdown",
   "id": "dTGlm_BxGpg1",
   "metadata": {
    "id": "dTGlm_BxGpg1"
   },
   "source": [
    "The value of True is 1. The value of False is 0. When a list containing True and 1 is sorted, whichever element appears first in the list will be considered as coming before the other. The same rule applies for the False-0 pair"
   ]
  },
  {
   "cell_type": "markdown",
   "id": "a59a6b4b",
   "metadata": {
    "id": "a59a6b4b"
   },
   "source": [
    "<a id=\"toc\"></a>\n",
    "\n",
    "# <p style=\"background-color:#9d4f8c; font-family:newtimeroman; color:#FFF9ED; font-size:175%; text-align:center; border-radius:10px 10px;\">Tuples</p>"
   ]
  },
  {
   "cell_type": "markdown",
   "id": "ff25a8d7",
   "metadata": {
    "id": "ff25a8d7"
   },
   "source": [
    "**python documentation link - Tuples and Sequences: https://docs.python.org/3/tutorial/datastructures.html#tuples-and-sequences**"
   ]
  },
  {
   "cell_type": "code",
   "execution_count": null,
   "id": "5963ad6a",
   "metadata": {
    "id": "5963ad6a"
   },
   "outputs": [],
   "source": [
    "import sys"
   ]
  },
  {
   "cell_type": "code",
   "execution_count": null,
   "id": "482a7c53",
   "metadata": {
    "id": "482a7c53"
   },
   "outputs": [],
   "source": [
    "x = [1, 2, 3]\n",
    "\n",
    "y = (1, 2, 3)"
   ]
  },
  {
   "cell_type": "code",
   "execution_count": null,
   "id": "58d8b7b4",
   "metadata": {
    "id": "58d8b7b4",
    "outputId": "7df47207-8819-40cc-f892-1ac5c053708c"
   },
   "outputs": [],
   "source": [
    "print(sys.getsizeof(x))  # see the docstring by pressing shift+tab+tab\n",
    "print(sys.getsizeof(y))\n",
    "\n",
    "# A \"list\" takes up twice as much memory as a \"tuple\" with the same number of elements."
   ]
  },
  {
   "cell_type": "code",
   "execution_count": null,
   "id": "cabd5b86",
   "metadata": {
    "id": "cabd5b86",
    "outputId": "bf5ee9ab-17fd-4d4c-dd80-4366b0d3e874"
   },
   "outputs": [],
   "source": [
    "c = 10\n",
    "c"
   ]
  },
  {
   "cell_type": "code",
   "execution_count": null,
   "id": "6b64ecf9",
   "metadata": {
    "id": "6b64ecf9"
   },
   "outputs": [],
   "source": [
    "a, b, c = 1, 2, 3  # tuple unpacking"
   ]
  },
  {
   "cell_type": "code",
   "execution_count": null,
   "id": "c84d82d3",
   "metadata": {
    "id": "c84d82d3",
    "outputId": "76756ee7-222a-4427-f09d-cbc5b0368225"
   },
   "outputs": [],
   "source": [
    "a"
   ]
  },
  {
   "cell_type": "code",
   "execution_count": null,
   "id": "a63398d5",
   "metadata": {
    "id": "a63398d5",
    "outputId": "31172340-9637-4107-9073-37b93fa74d30"
   },
   "outputs": [],
   "source": [
    "c"
   ]
  },
  {
   "cell_type": "code",
   "execution_count": null,
   "id": "74e5d78a",
   "metadata": {
    "id": "74e5d78a"
   },
   "outputs": [],
   "source": [
    "x = 1, 2, 3  # Even if you don't use parentheses, python treats comma-separated objects as a tuple."
   ]
  },
  {
   "cell_type": "code",
   "execution_count": null,
   "id": "5e222b62",
   "metadata": {
    "id": "5e222b62",
    "outputId": "1d0c76ee-cd7a-407b-9876-af89a9f8c131"
   },
   "outputs": [],
   "source": [
    "x"
   ]
  },
  {
   "cell_type": "code",
   "execution_count": null,
   "id": "c0f08f76",
   "metadata": {
    "id": "c0f08f76",
    "outputId": "f0b4b974-647f-493a-ccc0-af7fcf62e48d"
   },
   "outputs": [],
   "source": [
    "# x, y = 3  # a value cannot be assigned to two variables at the same time.\n",
    "\n",
    "# There must be as many values on the right of the equation as the number of variables on the left side."
   ]
  },
  {
   "cell_type": "markdown",
   "id": "e80b8052",
   "metadata": {
    "id": "e80b8052"
   },
   "source": [
    "<a id=\"toc\"></a>\n",
    "\n",
    "## <p style=\"background-color:#9d4f8c; font-family:newtimeroman; color:#FFF9ED; font-size:175%; text-align:center; border-radius:10px 10px;\">Creating a Tuple</p>"
   ]
  },
  {
   "cell_type": "markdown",
   "id": "32e07119",
   "metadata": {
    "id": "32e07119"
   },
   "source": [
    "**python documentation link - Tuples and Sequences: https://docs.python.org/3/tutorial/datastructures.html#tuples-and-sequences**\n",
    "\n",
    "**Link 2: https://www.w3schools.com/python/python_tuples.asp**"
   ]
  },
  {
   "cell_type": "code",
   "execution_count": null,
   "id": "ebfdc414",
   "metadata": {
    "id": "ebfdc414",
    "outputId": "11974014-0d3b-4c89-c03a-4f5bd8c9f867"
   },
   "outputs": [],
   "source": [
    "[1, 2, 3]"
   ]
  },
  {
   "cell_type": "code",
   "execution_count": null,
   "id": "4bed10db",
   "metadata": {
    "id": "4bed10db",
    "outputId": "5a8f138a-f077-4da7-bd69-88726989fd23"
   },
   "outputs": [],
   "source": [
    "1, 2, 3"
   ]
  },
  {
   "cell_type": "code",
   "execution_count": null,
   "id": "be1cf1ca",
   "metadata": {
    "id": "be1cf1ca"
   },
   "outputs": [],
   "source": [
    "tuple1 = 1, 2, 3"
   ]
  },
  {
   "cell_type": "code",
   "execution_count": null,
   "id": "aa0cc34a",
   "metadata": {
    "id": "aa0cc34a",
    "outputId": "cca8d5e1-45ce-4ae3-9699-1dd71d2b5044"
   },
   "outputs": [],
   "source": [
    "tuple1"
   ]
  },
  {
   "cell_type": "code",
   "execution_count": null,
   "id": "107641e8",
   "metadata": {
    "id": "107641e8",
    "outputId": "1dd71204-ae43-4917-8cae-f6ccf85d9a19"
   },
   "outputs": [],
   "source": [
    "print(type(tuple1))"
   ]
  },
  {
   "cell_type": "code",
   "execution_count": null,
   "id": "b73c90e0",
   "metadata": {
    "id": "b73c90e0",
    "outputId": "600e4076-cf41-44c6-d174-8bfa7e011fd8"
   },
   "outputs": [],
   "source": [
    "tuple2 = \"kirby\", \"betty\", \"samuel\"\n",
    "\n",
    "tuple2"
   ]
  },
  {
   "cell_type": "code",
   "execution_count": null,
   "id": "06126ae8",
   "metadata": {
    "id": "06126ae8",
    "outputId": "26c41cdf-7cb0-4945-d2d9-8016dbe5d5d4"
   },
   "outputs": [],
   "source": [
    "not_a_tuple = \"kirby\"\n",
    "\n",
    "not_a_tuple"
   ]
  },
  {
   "cell_type": "code",
   "execution_count": null,
   "id": "628bafed",
   "metadata": {
    "id": "628bafed",
    "outputId": "83f92de7-f8dc-4a6b-91e6-05184396030a"
   },
   "outputs": [],
   "source": [
    "tuple3 = \"betty\",\n",
    "\n",
    "tuple3"
   ]
  },
  {
   "cell_type": "code",
   "execution_count": null,
   "id": "74358f77",
   "metadata": {
    "id": "74358f77",
    "outputId": "853ccf7e-b47d-4eb4-fc65-4b67db4d9212"
   },
   "outputs": [],
   "source": [
    "t = 1\n",
    "\n",
    "type(t)"
   ]
  },
  {
   "cell_type": "code",
   "execution_count": null,
   "id": "4deeaed5",
   "metadata": {
    "id": "4deeaed5",
    "outputId": "8e9281c9-3bcf-43dc-ba4e-bd7edc0eefc9"
   },
   "outputs": [],
   "source": [
    "y = 1,\n",
    "\n",
    "type(y)"
   ]
  },
  {
   "cell_type": "code",
   "execution_count": null,
   "id": "1c572fa0",
   "metadata": {
    "id": "1c572fa0",
    "outputId": "22026d46-448c-4faf-c7ab-861b71c24624"
   },
   "outputs": [],
   "source": [
    "z = 1, 2, 3, 4\n",
    "\n",
    "z"
   ]
  },
  {
   "cell_type": "code",
   "execution_count": null,
   "id": "1bc385e2",
   "metadata": {
    "id": "1bc385e2",
    "outputId": "4fa87a11-72a4-4cb4-f77d-82e5d82b0c5a"
   },
   "outputs": [],
   "source": [
    "range_list = [1, 2, 3, 4, 5, 6, 7, 8, 9, 10]\n",
    "range_list"
   ]
  }
 ],
 "metadata": {
  "colab": {
   "provenance": []
  },
  "kernelspec": {
   "display_name": "Python 3 (ipykernel)",
   "language": "python",
   "name": "python3"
  },
  "language_info": {
   "codemirror_mode": {
    "name": "ipython",
    "version": 3
   },
   "file_extension": ".py",
   "mimetype": "text/x-python",
   "name": "python",
   "nbconvert_exporter": "python",
   "pygments_lexer": "ipython3",
   "version": "3.11.3"
  }
 },
 "nbformat": 4,
 "nbformat_minor": 5
}
