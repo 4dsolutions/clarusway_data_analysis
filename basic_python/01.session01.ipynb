{
 "cells": [
  {
   "cell_type": "markdown",
   "id": "dde889d1-b270-4dd3-9cdb-66b47f4b9b07",
   "metadata": {},
   "source": [
    "#### Clarusway Python\n",
    "\n",
    "https://colab.research.google.com/github/4dsolutions/clarusway_data_analysis/blob/main/basic_python/01.session01.ipynb\n",
    "\n",
    "* [Instructor Landing Page](landing_page.ipynb)\n",
    "* <a href=\"https://colab.research.google.com/github/4dsolutions/clarusway_data_analysis/blob/main/basic_python/01.session01.ipynb\"><img align=\"left\" src=\"https://colab.research.google.com/assets/colab-badge.svg\" alt=\"Open in Colab\" title=\"Open and Execute in Google Colaboratory\"></a>\n",
    "* [![nbviewer](https://raw.githubusercontent.com/jupyter/design/master/logos/Badges/nbviewer_badge.svg)](https://nbviewer.org/github/4dsolutions/clarusway_data_analysis/blob/main/basic_python/01.session01.ipynb)"
   ]
  },
  {
   "cell_type": "markdown",
   "id": "97d2a08c",
   "metadata": {
    "id": "97d2a08c"
   },
   "source": [
    "<a id=\"toc\"></a>\n",
    "\n",
    "## <p style=\"background-color:#0D8D99; font-family:newtimeroman; color:#FFF9ED; font-size:175%; text-align:center; border-radius:10px 10px;\">Python Session 01</p>"
   ]
  },
  {
   "cell_type": "markdown",
   "id": "1c285376",
   "metadata": {
    "id": "1c285376"
   },
   "source": [
    "<div class=\"alert alert-block alert-info\"><h1><p style=\"text-align: center; color:purple\">General Information about Python<br><br>First Program 'hello world' - print() function<br><br>Matter of Quotes<br><br>PEP Rules<br><br>Comments</p>"
   ]
  },
  {
   "cell_type": "markdown",
   "id": "aab8aebc",
   "metadata": {
    "id": "aab8aebc"
   },
   "source": [
    "<a id=\"toc\"></a>\n",
    "\n",
    "## <p style=\"background-color:#9d4f8c; font-family:newtimeroman; color:#FFF9ED; font-size:175%; text-align:center; border-radius:10px 10px;\">General Information about Python</p>"
   ]
  },
  {
   "cell_type": "markdown",
   "id": "6841e4dc",
   "metadata": {
    "id": "6841e4dc"
   },
   "source": [
    "**Peardeck (01-In-Class_Python_Introduction-PEP)**"
   ]
  },
  {
   "cell_type": "markdown",
   "id": "c869874c",
   "metadata": {
    "id": "c869874c"
   },
   "source": [
    "<a id=\"toc\"></a>\n",
    "\n",
    "## <p style=\"background-color:#9d4f8c; font-family:newtimeroman; color:#FFF9ED; font-size:175%; text-align:center; border-radius:10px 10px;\">First Program 'hello world' - print() function</p>"
   ]
  },
  {
   "cell_type": "code",
   "execution_count": null,
   "id": "90002e4c",
   "metadata": {
    "colab": {
     "base_uri": "https://localhost:8080/"
    },
    "id": "90002e4c",
    "outputId": "8784f1b6-0c5e-4381-c477-bae8a74a6406"
   },
   "outputs": [
    {
     "name": "stdout",
     "output_type": "stream",
     "text": [
      "\n"
     ]
    }
   ],
   "source": [
    "print()  # shift+tab+tab"
   ]
  },
  {
   "cell_type": "raw",
   "id": "23506c75",
   "metadata": {
    "id": "23506c75"
   },
   "source": [
    "Docstring:\n",
    "print(value, ..., sep=' ', end='\\n', file=sys.stdout, flush=False)\n",
    "\n",
    "Prints the values to a stream, or to sys.stdout by default."
   ]
  },
  {
   "cell_type": "code",
   "execution_count": null,
   "id": "8f3cceca",
   "metadata": {
    "colab": {
     "base_uri": "https://localhost:8080/"
    },
    "id": "8f3cceca",
    "outputId": "8339a4bf-67f5-4724-cd96-eb9912d8e801"
   },
   "outputs": [
    {
     "name": "stdout",
     "output_type": "stream",
     "text": [
      "Hello World!\n"
     ]
    }
   ],
   "source": [
    "print(\"Hello World!\")"
   ]
  },
  {
   "cell_type": "markdown",
   "id": "1faaeabc",
   "metadata": {
    "id": "1faaeabc"
   },
   "source": [
    "<a id=\"toc\"></a>\n",
    "\n",
    "## <p style=\"background-color:#9d4f8c; font-family:newtimeroman; color:#FFF9ED; font-size:175%; text-align:center; border-radius:10px 10px;\">Matter of Quotes</p>"
   ]
  },
  {
   "cell_type": "markdown",
   "id": "57ffbe3f",
   "metadata": {
    "id": "57ffbe3f"
   },
   "source": [
    "![python.exe](https://drive.google.com/uc?id=1t4zIy-OXjpGBxvMSj5LrGAs1V4BaVd1i)"
   ]
  },
  {
   "cell_type": "markdown",
   "id": "9816c550",
   "metadata": {
    "id": "9816c550"
   },
   "source": [
    "**We use 3 quotes (3 double or 3 single quotes) for a long text**"
   ]
  },
  {
   "cell_type": "code",
   "execution_count": null,
   "id": "c79069ba",
   "metadata": {
    "colab": {
     "base_uri": "https://localhost:8080/"
    },
    "id": "c79069ba",
    "outputId": "d637cf82-234d-47a3-b45c-dd4acdd646c2"
   },
   "outputs": [
    {
     "name": "stdout",
     "output_type": "stream",
     "text": [
      "I started with double quotes and ended with double quotes\n"
     ]
    }
   ],
   "source": [
    "print(\"I started with double quotes and ended with double quotes\")"
   ]
  },
  {
   "cell_type": "code",
   "execution_count": null,
   "id": "424db175",
   "metadata": {
    "colab": {
     "base_uri": "https://localhost:8080/"
    },
    "id": "424db175",
    "outputId": "8abb783b-fcc8-496c-c6f2-3646159e1119"
   },
   "outputs": [
    {
     "name": "stdout",
     "output_type": "stream",
     "text": [
      "I started with a single quote and ended with a single quote\n"
     ]
    }
   ],
   "source": [
    "print('I started with a single quote and ended with a single quote')"
   ]
  },
  {
   "cell_type": "code",
   "execution_count": null,
   "id": "2818311b",
   "metadata": {
    "colab": {
     "base_uri": "https://localhost:8080/",
     "height": 130
    },
    "id": "2818311b",
    "outputId": "9890ac57-c965-40f4-8a3e-098f5362f19f"
   },
   "outputs": [
    {
     "ename": "SyntaxError",
     "evalue": "ignored",
     "output_type": "error",
     "traceback": [
      "\u001b[0;36m  File \u001b[0;32m\"<ipython-input-5-20ce49d9a0ec>\"\u001b[0;36m, line \u001b[0;32m1\u001b[0m\n\u001b[0;31m    print(\"Hello World!')\u001b[0m\n\u001b[0m                           ^\u001b[0m\n\u001b[0;31mSyntaxError\u001b[0m\u001b[0;31m:\u001b[0m EOL while scanning string literal\n"
     ]
    }
   ],
   "source": [
    "print(\"Hello World!')\n",
    "\n",
    "# error!"
   ]
  },
  {
   "cell_type": "code",
   "execution_count": null,
   "id": "495ff05c",
   "metadata": {
    "colab": {
     "base_uri": "https://localhost:8080/"
    },
    "id": "495ff05c",
    "outputId": "d18c9dca-03d5-4927-d724-fedd776669cc"
   },
   "outputs": [
    {
     "name": "stdout",
     "output_type": "stream",
     "text": [
      "My name is Edwin, \n",
      "      I love you and\n",
      "      I find peace in you\n"
     ]
    }
   ],
   "source": [
    "print(\"\"\"My name is Edwin,\n",
    "      I love you and\n",
    "      I find peace in you\"\"\")"
   ]
  },
  {
   "cell_type": "code",
   "execution_count": null,
   "id": "685ed380",
   "metadata": {
    "colab": {
     "base_uri": "https://localhost:8080/"
    },
    "id": "685ed380",
    "outputId": "9782d89f-2d62-4ef7-bdb5-a55135bf4acf"
   },
   "outputs": [
    {
     "name": "stdout",
     "output_type": "stream",
     "text": [
      "hello world\n"
     ]
    }
   ],
   "source": [
    "print(\"\"\"hello world\"\"\")"
   ]
  },
  {
   "cell_type": "code",
   "execution_count": null,
   "id": "3c56a3b2",
   "metadata": {
    "colab": {
     "base_uri": "https://localhost:8080/"
    },
    "id": "3c56a3b2",
    "outputId": "3123e6c5-7eaa-48d9-a30a-8e16f5585aae"
   },
   "outputs": [
    {
     "name": "stdout",
     "output_type": "stream",
     "text": [
      "hello world\n"
     ]
    }
   ],
   "source": [
    "print('''hello world''')"
   ]
  },
  {
   "cell_type": "code",
   "execution_count": null,
   "id": "6fd3319f",
   "metadata": {
    "colab": {
     "base_uri": "https://localhost:8080/"
    },
    "id": "6fd3319f",
    "outputId": "bd9f021d-8185-4cf6-8284-a1762abd7bb6"
   },
   "outputs": [
    {
     "name": "stdout",
     "output_type": "stream",
     "text": [
      "123456789*-*/=-+.,^&/(+&/|~ef \n"
     ]
    }
   ],
   "source": [
    "print(\"\"\"123456789*-*/=-+.,^&/(+&/|~ef \"\"\")"
   ]
  },
  {
   "cell_type": "code",
   "execution_count": null,
   "id": "359e4c54",
   "metadata": {
    "id": "359e4c54"
   },
   "outputs": [],
   "source": [
    "# Multiple lines or long text can contain single quotes.\n",
    "# The \"/\" sign can be.\n",
    "# When writing \"I am\", a single comma may come after the \"I\" in the text..\n",
    "# you may want to use \"double quotes\" inside the text.\n",
    "\n",
    "# In all these cases, we use triple quotes in long texts to avoid errors."
   ]
  },
  {
   "cell_type": "code",
   "execution_count": null,
   "id": "39377679",
   "metadata": {
    "colab": {
     "base_uri": "https://localhost:8080/"
    },
    "id": "39377679",
    "outputId": "13e5d90d-0238-4dd9-f01a-1dc5c1125769"
   },
   "outputs": [
    {
     "name": "stdout",
     "output_type": "stream",
     "text": [
      "Kirby's cat\n"
     ]
    }
   ],
   "source": [
    "print(\"Kirby's cat\")"
   ]
  },
  {
   "cell_type": "markdown",
   "id": "f5fb8f66",
   "metadata": {
    "id": "f5fb8f66"
   },
   "source": [
    "**Example of incorrect use of single quotes in a sentence :**"
   ]
  },
  {
   "cell_type": "code",
   "execution_count": null,
   "id": "e66d6884",
   "metadata": {
    "id": "e66d6884",
    "outputId": "d96af292-d5e9-4f07-96a9-7224ec2f6825"
   },
   "outputs": [
    {
     "ename": "SyntaxError",
     "evalue": "invalid syntax (Temp/ipykernel_10112/1800642938.py, line 1)",
     "output_type": "error",
     "traceback": [
      "\u001b[1;36m  File \u001b[1;32m\"C:\\Users\\edwin\\AppData\\Local\\Temp/ipykernel_10112/1800642938.py\"\u001b[1;36m, line \u001b[1;32m1\u001b[0m\n\u001b[1;33m    print('Kirby's cat')\u001b[0m\n\u001b[1;37m                 ^\u001b[0m\n\u001b[1;31mSyntaxError\u001b[0m\u001b[1;31m:\u001b[0m invalid syntax\n"
     ]
    }
   ],
   "source": [
    "print('Kirby's cat')"
   ]
  },
  {
   "cell_type": "code",
   "execution_count": null,
   "id": "9f46818d",
   "metadata": {
    "id": "9f46818d",
    "outputId": "60c5665f-05de-46ef-eaee-6c8abcb7e021"
   },
   "outputs": [
    {
     "name": "stdout",
     "output_type": "stream",
     "text": [
      "Kirby's cat\n"
     ]
    }
   ],
   "source": [
    "print(\"Kirby's cat\")"
   ]
  },
  {
   "cell_type": "code",
   "execution_count": null,
   "id": "a37a9e17",
   "metadata": {
    "id": "a37a9e17",
    "outputId": "623c2d56-e02f-42db-a48b-555453e5e304"
   },
   "outputs": [
    {
     "name": "stdout",
     "output_type": "stream",
     "text": [
      "Kirby\"s cat\n"
     ]
    }
   ],
   "source": [
    "print('Kirby\"s cat')"
   ]
  },
  {
   "cell_type": "markdown",
   "id": "a5db5fee",
   "metadata": {
    "id": "a5db5fee"
   },
   "source": [
    "**An incorrect example of opening and closing quotation marks in a sentence:**"
   ]
  },
  {
   "cell_type": "code",
   "execution_count": null,
   "id": "3268ba23",
   "metadata": {
    "colab": {
     "base_uri": "https://localhost:8080/",
     "height": 130
    },
    "id": "3268ba23",
    "outputId": "2ab44c88-9766-43fe-f3a4-5db3f5206bc4"
   },
   "outputs": [
    {
     "ename": "SyntaxError",
     "evalue": "ignored",
     "output_type": "error",
     "traceback": [
      "\u001b[0;36m  File \u001b[0;32m\"<ipython-input-12-1eeb94591c0c>\"\u001b[0;36m, line \u001b[0;32m2\u001b[0m\n\u001b[0;31m    print('''')\u001b[0m\n\u001b[0m               ^\u001b[0m\n\u001b[0;31mSyntaxError\u001b[0m\u001b[0;31m:\u001b[0m EOF while scanning triple-quoted string literal\n"
     ]
    }
   ],
   "source": [
    "print()\n",
    "print('''')"
   ]
  },
  {
   "cell_type": "code",
   "execution_count": null,
   "id": "4e80c41a",
   "metadata": {
    "id": "4e80c41a",
    "outputId": "947df4ee-6e08-467a-9f24-4d410cbe7a3a"
   },
   "outputs": [
    {
     "name": "stdout",
     "output_type": "stream",
     "text": [
      "\n"
     ]
    }
   ],
   "source": [
    "# empty string..\n",
    "\n",
    "print('')"
   ]
  },
  {
   "cell_type": "markdown",
   "id": "fff6dc88",
   "metadata": {
    "id": "fff6dc88"
   },
   "source": [
    "<a id=\"toc\"></a>\n",
    "\n",
    "## <p style=\"background-color:#9d4f8c; font-family:newtimeroman; color:#FFF9ED; font-size:175%; text-align:center; border-radius:10px 10px;\">PEP 8 Rules</p>"
   ]
  },
  {
   "cell_type": "markdown",
   "id": "b08a1fc6",
   "metadata": {
    "id": "b08a1fc6"
   },
   "source": [
    "python document for Pep 8 Rules: **https://peps.python.org/pep-0008/**"
   ]
  },
  {
   "cell_type": "markdown",
   "id": "ffb465aa",
   "metadata": {
    "id": "ffb465aa"
   },
   "source": [
    "<a id=\"toc\"></a>\n",
    "\n",
    "## <p style=\"background-color:#9d4f8c; font-family:newtimeroman; color:#FFF9ED; font-size:175%; text-align:center; border-radius:10px 10px;\">Comments</p>"
   ]
  },
  {
   "cell_type": "markdown",
   "id": "58a28eb0",
   "metadata": {
    "id": "58a28eb0"
   },
   "source": [
    "python document for comments: **https://docs.python.org/3/tutorial/introduction.html**"
   ]
  },
  {
   "cell_type": "code",
   "execution_count": null,
   "id": "d9f957fd",
   "metadata": {
    "id": "d9f957fd"
   },
   "outputs": [],
   "source": [
    "# this is the first comment\n",
    "spam = 1  # and this is the second comment\n",
    "          # ... and now a third!\n",
    "text = \"# This is not a comment because it's inside quotes.\""
   ]
  },
  {
   "cell_type": "markdown",
   "id": "adddea36",
   "metadata": {
    "id": "adddea36"
   },
   "source": [
    "![python.exe](https://drive.google.com/uc?id=1Xi0zM1VSEv_Rw6KY_nKo_uqD03v_Ymfr)"
   ]
  },
  {
   "cell_type": "code",
   "execution_count": null,
   "id": "8a5834f7",
   "metadata": {
    "id": "8a5834f7",
    "outputId": "45d73264-1733-4d3d-8b01-040392e0cbfb"
   },
   "outputs": [
    {
     "data": {
      "text/plain": [
       "8"
      ]
     },
     "execution_count": 16,
     "metadata": {},
     "output_type": "execute_result"
    }
   ],
   "source": [
    "3 + 5  # code line for the sum of 3 and 4."
   ]
  },
  {
   "cell_type": "markdown",
   "id": "931b50df",
   "metadata": {
    "id": "931b50df"
   },
   "source": [
    "**If your code has changed (for example, if you have changed some variables), you should also change your comments accordingly.**"
   ]
  },
  {
   "cell_type": "code",
   "execution_count": null,
   "id": "400fa218",
   "metadata": {
    "id": "400fa218"
   },
   "outputs": [],
   "source": [
    "\"\"\"\n",
    "Let's say\n",
    "you have a long code\n",
    "like this.\n",
    "This code\n",
    "contains\n",
    "hundreds of lines\n",
    "...\n",
    "....\n",
    "... \"\"\"\n",
    "\n",
    "x = 35  # This is the customer's home number.\n",
    "y = 22   # this is the house number of the client's daughter."
   ]
  },
  {
   "cell_type": "markdown",
   "id": "d6fb0067",
   "metadata": {
    "id": "d6fb0067"
   },
   "source": [
    "**press \"Shift + /\" (\"Command + /\" for Mac) to convert a line of code to a comment line**"
   ]
  },
  {
   "cell_type": "code",
   "execution_count": null,
   "id": "8e9461e0",
   "metadata": {
    "id": "8e9461e0"
   },
   "outputs": [],
   "source": [
    "# \"Marc\"\n",
    "# \"Michael\"\n",
    "# \"Kirby\""
   ]
  },
  {
   "cell_type": "code",
   "execution_count": null,
   "id": "153f8f51",
   "metadata": {
    "id": "153f8f51",
    "outputId": "55eb287a-6dab-419f-8430-e2fcf66bd25e"
   },
   "outputs": [
    {
     "name": "stdout",
     "output_type": "stream",
     "text": [
      "Marc 33 Kirby\n"
     ]
    }
   ],
   "source": [
    "a = \"Marc\"\n",
    "b = 33\n",
    "c = \"Kirby\"\n",
    "\n",
    "print(a, b, c)"
   ]
  },
  {
   "cell_type": "code",
   "execution_count": null,
   "id": "c129beb8",
   "metadata": {
    "id": "c129beb8",
    "outputId": "c0e4443e-288e-4c43-a536-a2ea64e532ee"
   },
   "outputs": [
    {
     "name": "stdout",
     "output_type": "stream",
     "text": [
      "Marc 33 Kirby\n"
     ]
    }
   ],
   "source": [
    "print(\"Marc\", 33, \"Kirby\")"
   ]
  },
  {
   "cell_type": "code",
   "execution_count": null,
   "id": "d2ab934a",
   "metadata": {
    "id": "d2ab934a"
   },
   "outputs": [],
   "source": [
    "x = \"\""
   ]
  },
  {
   "cell_type": "code",
   "execution_count": null,
   "id": "139d2551",
   "metadata": {
    "id": "139d2551",
    "outputId": "0de7a324-6f3d-457b-bfae-55ff33d4b2f7"
   },
   "outputs": [
    {
     "data": {
      "text/plain": [
       "''"
      ]
     },
     "execution_count": 13,
     "metadata": {},
     "output_type": "execute_result"
    }
   ],
   "source": [
    "a\n",
    "b\n",
    "x"
   ]
  },
  {
   "cell_type": "code",
   "execution_count": null,
   "id": "4fc9588e",
   "metadata": {
    "id": "4fc9588e",
    "outputId": "908633d6-96e1-4c8e-8677-99742d581f1d"
   },
   "outputs": [
    {
     "name": "stdout",
     "output_type": "stream",
     "text": [
      "Marc\n",
      "\n",
      "33\n"
     ]
    }
   ],
   "source": [
    "print(a)\n",
    "print(x)\n",
    "print(b)"
   ]
  },
  {
   "cell_type": "code",
   "execution_count": null,
   "id": "e105c8bf",
   "metadata": {
    "id": "e105c8bf",
    "outputId": "9bfc97fa-355b-442d-b725-ebc0828881de"
   },
   "outputs": [
    {
     "ename": "TypeError",
     "evalue": "unsupported operand type(s) for -: 'str' and 'int'",
     "output_type": "error",
     "traceback": [
      "\u001b[1;31m---------------------------------------------------------------------------\u001b[0m",
      "\u001b[1;31mTypeError\u001b[0m                                 Traceback (most recent call last)",
      "\u001b[1;32m~\\AppData\\Local\\Temp/ipykernel_10112/3704094588.py\u001b[0m in \u001b[0;36m<cell line: 1>\u001b[1;34m()\u001b[0m\n\u001b[1;32m----> 1\u001b[1;33m \u001b[1;34m\"30\"\u001b[0m \u001b[1;33m-\u001b[0m \u001b[1;36m3\u001b[0m\u001b[1;33m\u001b[0m\u001b[1;33m\u001b[0m\u001b[0m\n\u001b[0m",
      "\u001b[1;31mTypeError\u001b[0m: unsupported operand type(s) for -: 'str' and 'int'"
     ]
    }
   ],
   "source": [
    "\"30\" - 3"
   ]
  },
  {
   "cell_type": "code",
   "execution_count": null,
   "id": "285f54b7",
   "metadata": {
    "id": "285f54b7",
    "outputId": "d6ff0739-a03d-459c-bfc3-ea97c5d0c710"
   },
   "outputs": [
    {
     "data": {
      "text/plain": [
       "90"
      ]
     },
     "execution_count": 16,
     "metadata": {},
     "output_type": "execute_result"
    }
   ],
   "source": [
    "30 * 3"
   ]
  }
 ],
 "metadata": {
  "colab": {
   "provenance": []
  },
  "kernelspec": {
   "display_name": "Python 3 (ipykernel)",
   "language": "python",
   "name": "python3"
  },
  "language_info": {
   "codemirror_mode": {
    "name": "ipython",
    "version": 3
   },
   "file_extension": ".py",
   "mimetype": "text/x-python",
   "name": "python",
   "nbconvert_exporter": "python",
   "pygments_lexer": "ipython3",
   "version": "3.11.3"
  }
 },
 "nbformat": 4,
 "nbformat_minor": 5
}
