{
 "cells": [
  {
   "cell_type": "markdown",
   "id": "CA42_5V4C5Fi",
   "metadata": {
    "id": "CA42_5V4C5Fi"
   },
   "source": [
    "#### Clarusway Python\n",
    "\n",
    "* [Instructor Landing Page](landing_page.ipynb)\n",
    "* <a href=\"https://colab.research.google.com/github/4dsolutions/clarusway_data_analysis/blob/main/basic_python/09.Python_Session9.ipynb\"><img align=\"left\" src=\"https://colab.research.google.com/assets/colab-badge.svg\" alt=\"Open in Colab\" title=\"Open and Execute in Google Colaboratory\"></a>\n",
    "* [![nbviewer](https://raw.githubusercontent.com/jupyter/design/master/logos/Badges/nbviewer_badge.svg)](https://nbviewer.org/github/4dsolutions/clarusway_data_analysis/blob/main/basic_python/09.Python_Session9.ipynb)"
   ]
  },
  {
   "cell_type": "markdown",
   "id": "97d2a08c",
   "metadata": {
    "id": "97d2a08c"
   },
   "source": [
    "<a id=\"toc\"></a>\n",
    "\n",
    "## <p style=\"background-color:#0D8D99; font-family:newtimeroman; color:#FFF9ED; font-size:175%; text-align:center; border-radius:10px 10px;\">Python Session 09</p>"
   ]
  },
  {
   "cell_type": "markdown",
   "id": "2a056995",
   "metadata": {
    "id": "2a056995"
   },
   "source": [
    "#### <div class=\"alert alert-block alert-info\"><h1><p style=\"text-align: center; color:purple\"><br>Main Operations with Dictionaries<br><br>Nested Dictionaries<br><br>Mutable & Immutable and Hashable Concepts<br><br>Methods of Creating a Dictionary<br><br>Sorting a Dictionary by Keys</p></p>"
   ]
  },
  {
   "cell_type": "markdown",
   "id": "a59a6b4b",
   "metadata": {
    "id": "a59a6b4b"
   },
   "source": [
    "<a id=\"toc\"></a>\n",
    "\n",
    "## <p style=\"background-color:#9d4f8c; font-family:newtimeroman; color:#FFF9ED; font-size:175%; text-align:center; border-radius:10px 10px;\">Main Operations with Dicts.</p>"
   ]
  },
  {
   "cell_type": "markdown",
   "id": "66f86acd",
   "metadata": {
    "id": "66f86acd"
   },
   "source": [
    "**python documentation link - Dictionaries: https://docs.python.org/3/tutorial/datastructures.html#dictionaries**\n",
    "\n",
    "**Link 2 : https://www.w3schools.com/python/python_ref_dictionary.asp**\n",
    "\n",
    "**Link 3 : https://blog.devgenius.io/python-dictionary-operations-68e19b08ea30**"
   ]
  },
  {
   "cell_type": "code",
   "execution_count": null,
   "id": "75010a9b",
   "metadata": {
    "id": "75010a9b"
   },
   "outputs": [],
   "source": [
    "count_of_shoe = {\"kirby\" : 1,\n",
    "                  \"betty\" : 1,\n",
    "                  \"samuel\" : 1\n",
    "                  }"
   ]
  },
  {
   "cell_type": "code",
   "execution_count": null,
   "id": "1e3f6a71",
   "metadata": {
    "id": "1e3f6a71",
    "outputId": "2be3832d-5f93-4707-8ced-10a2306d1f1f"
   },
   "outputs": [],
   "source": [
    "count_of_shoe"
   ]
  },
  {
   "cell_type": "code",
   "execution_count": null,
   "id": "f369efe0",
   "metadata": {
    "id": "f369efe0",
    "outputId": "767ba6b2-e902-43de-841b-b2364f577ce6"
   },
   "outputs": [],
   "source": [
    "count_of_shoe[\"kirby\"]"
   ]
  },
  {
   "cell_type": "code",
   "execution_count": null,
   "id": "cfb87286",
   "metadata": {
    "id": "cfb87286",
    "outputId": "77ea2c29-1eb5-493f-eecf-b07ec93f49bb"
   },
   "outputs": [],
   "source": [
    "count_of_shoe[\"kirby\"] += 1\n",
    "\n",
    "count_of_shoe"
   ]
  },
  {
   "cell_type": "code",
   "execution_count": null,
   "id": "2cc7077f",
   "metadata": {
    "id": "2cc7077f",
    "outputId": "7380f59a-34b9-4890-ee28-dc0ffd928944"
   },
   "outputs": [],
   "source": [
    "dict_by_dict = dict(animal = \"dog\", planet = \"neptun\", number = 40, pi = 3.14, is_good = True)\n",
    "\n",
    "dict_by_dict"
   ]
  },
  {
   "cell_type": "code",
   "execution_count": null,
   "id": "73aa0142",
   "metadata": {
    "id": "73aa0142",
    "outputId": "e7abe6db-f2d8-42a1-e081-e53365cc8b9c"
   },
   "outputs": [],
   "source": [
    "dict_by_dict[\"animal\"]"
   ]
  },
  {
   "cell_type": "code",
   "execution_count": null,
   "id": "5ca9a80c",
   "metadata": {
    "id": "5ca9a80c",
    "outputId": "c98dc610-b1f0-4257-e110-22ed7b09c1d3"
   },
   "outputs": [],
   "source": [
    "dict_by_dict[animal]\n",
    "\n",
    "# error! (name 'animal' is not defined)"
   ]
  },
  {
   "cell_type": "code",
   "execution_count": null,
   "id": "e3ec1486",
   "metadata": {
    "id": "e3ec1486",
    "outputId": "4911324d-16c5-4c00-e70e-a42198f1f00a"
   },
   "outputs": [],
   "source": [
    "dict_by_dict[\"is_good\"]"
   ]
  },
  {
   "cell_type": "code",
   "execution_count": null,
   "id": "f2847f8d",
   "metadata": {
    "id": "f2847f8d",
    "outputId": "6d0c1478-5649-47b3-80de-272757d45b75"
   },
   "outputs": [],
   "source": [
    "type(dict_by_dict[\"is_good\"])"
   ]
  },
  {
   "cell_type": "code",
   "execution_count": null,
   "id": "214f0874",
   "metadata": {
    "id": "214f0874",
    "outputId": "0701f771-eb9a-45f3-9a17-daf4319e7de0"
   },
   "outputs": [],
   "source": [
    "dict_by_dict.update({\"betty\" : \"woman\"})\n",
    "dict_by_dict"
   ]
  },
  {
   "cell_type": "code",
   "execution_count": null,
   "id": "cee849cb",
   "metadata": {
    "id": "cee849cb"
   },
   "outputs": [],
   "source": [
    "dict_by_dict.update({\"samuel\" : \"man\", 11 : \"integer\"})"
   ]
  },
  {
   "cell_type": "code",
   "execution_count": null,
   "id": "c25944ae",
   "metadata": {
    "id": "c25944ae",
    "outputId": "1061959a-c8c0-4642-90f1-5b03d99edffa"
   },
   "outputs": [],
   "source": [
    "dict_by_dict"
   ]
  },
  {
   "cell_type": "code",
   "execution_count": null,
   "id": "946076b3",
   "metadata": {
    "id": "946076b3",
    "outputId": "420cc017-6ec3-4de0-876d-a3c476a706c5"
   },
   "outputs": [],
   "source": [
    "print(dict_by_dict)"
   ]
  },
  {
   "cell_type": "code",
   "execution_count": null,
   "id": "7b394da7",
   "metadata": {
    "id": "7b394da7",
    "outputId": "52419ecc-b9dc-410e-cc24-eb89d40a60c9"
   },
   "outputs": [],
   "source": [
    "dict_by_dict.items()"
   ]
  },
  {
   "cell_type": "code",
   "execution_count": null,
   "id": "ae41b17c",
   "metadata": {
    "id": "ae41b17c",
    "outputId": "4927e4be-9100-46b3-ffbc-77c026e5c727"
   },
   "outputs": [],
   "source": [
    "type(dict_by_dict.items())"
   ]
  },
  {
   "cell_type": "code",
   "execution_count": null,
   "id": "e526a517",
   "metadata": {
    "id": "e526a517",
    "outputId": "13df9cf5-6f05-4192-cb4c-f519e2fbfa5f"
   },
   "outputs": [],
   "source": [
    "len(dict_by_dict.items())"
   ]
  },
  {
   "cell_type": "code",
   "execution_count": null,
   "id": "e4dc595e",
   "metadata": {
    "id": "e4dc595e",
    "outputId": "424f8646-5e27-4b66-b079-d322ea09f3c0"
   },
   "outputs": [],
   "source": [
    "list(dict_by_dict.items())"
   ]
  },
  {
   "cell_type": "code",
   "execution_count": null,
   "id": "7bc7f545",
   "metadata": {
    "id": "7bc7f545",
    "outputId": "56655681-1b8e-4d4d-9ed0-0545e735b841"
   },
   "outputs": [],
   "source": [
    "len(list(dict_by_dict.items()))"
   ]
  },
  {
   "cell_type": "code",
   "execution_count": null,
   "id": "3c726636",
   "metadata": {
    "id": "3c726636",
    "outputId": "c6397e0f-5d7d-4312-89d8-1d579be39a5a"
   },
   "outputs": [],
   "source": [
    "type(dict_by_dict.keys())"
   ]
  },
  {
   "cell_type": "code",
   "execution_count": null,
   "id": "1362d338",
   "metadata": {
    "id": "1362d338",
    "outputId": "e2ec7d44-c227-49c8-a5ef-4a14d1c6e768"
   },
   "outputs": [],
   "source": [
    "tuple(dict_by_dict.keys())"
   ]
  },
  {
   "cell_type": "code",
   "execution_count": null,
   "id": "8d493efa",
   "metadata": {
    "id": "8d493efa",
    "outputId": "04ff33b8-9581-4b0a-b81a-3cc3bb9ddd5b"
   },
   "outputs": [],
   "source": [
    "type(tuple(dict_by_dict.keys()))"
   ]
  },
  {
   "cell_type": "code",
   "execution_count": null,
   "id": "f5fb868d",
   "metadata": {
    "id": "f5fb868d",
    "outputId": "d057ecd2-4589-433f-e4ca-5ce4ced863c9"
   },
   "outputs": [],
   "source": [
    "dict_by_dict = {\"animal\" : \"dog\",\n",
    "                \"planet\" : \"neptun\",\n",
    "                \"number\" : 40,\n",
    "                \"pi\" : 3.14,\n",
    "                \"is_good\" : True}\n",
    "\n",
    "print(dict_by_dict.items(), '\\n')\n",
    "print(dict_by_dict.keys(), '\\n')\n",
    "print(dict_by_dict.values(), '\\n')"
   ]
  },
  {
   "cell_type": "code",
   "execution_count": null,
   "id": "051bab8f",
   "metadata": {
    "id": "051bab8f",
    "outputId": "1bd54a24-850b-40f7-c5f4-71c6bf5a6f5a"
   },
   "outputs": [],
   "source": [
    "dict_by_dict.items()"
   ]
  },
  {
   "cell_type": "code",
   "execution_count": null,
   "id": "9be1349b",
   "metadata": {
    "id": "9be1349b"
   },
   "outputs": [],
   "source": [
    "a, b = 1, 2"
   ]
  },
  {
   "cell_type": "code",
   "execution_count": null,
   "id": "4d27ae34",
   "metadata": {
    "id": "4d27ae34",
    "outputId": "947b39b2-8771-4fc1-ef3d-ec9e6ab74824"
   },
   "outputs": [],
   "source": [
    "x, y = dict_by_dict.items()\n",
    "\n",
    "# error! (too many values to unpack (expected 2))"
   ]
  },
  {
   "cell_type": "code",
   "execution_count": null,
   "id": "3d6c21e1",
   "metadata": {
    "id": "3d6c21e1",
    "outputId": "e2ab6519-7599-4a55-84bf-3dfd92f9256b"
   },
   "outputs": [],
   "source": [
    "len(dict_by_dict.items())"
   ]
  },
  {
   "cell_type": "code",
   "execution_count": null,
   "id": "8de8868e",
   "metadata": {
    "id": "8de8868e",
    "outputId": "4f75675f-b122-4f0a-f275-6f2fb5fdc99d"
   },
   "outputs": [],
   "source": [
    "a, b  = 1, 2, 3, 4, 5"
   ]
  },
  {
   "cell_type": "code",
   "execution_count": null,
   "id": "b7408bcc",
   "metadata": {
    "id": "b7408bcc",
    "outputId": "5d680a7c-a862-4258-a489-a279a64bad73"
   },
   "outputs": [],
   "source": [
    "list(dict_by_dict.items())"
   ]
  },
  {
   "cell_type": "code",
   "execution_count": null,
   "id": "6f816135",
   "metadata": {
    "id": "6f816135"
   },
   "outputs": [],
   "source": [
    "items = list(dict_by_dict.items())"
   ]
  },
  {
   "cell_type": "code",
   "execution_count": null,
   "id": "cde237c8",
   "metadata": {
    "id": "cde237c8",
    "outputId": "f9f7345d-d2f4-4159-cb8a-fa854905ed0e"
   },
   "outputs": [],
   "source": [
    "items[0]"
   ]
  },
  {
   "cell_type": "code",
   "execution_count": null,
   "id": "9eebcd60",
   "metadata": {
    "id": "9eebcd60",
    "outputId": "6384eb41-dec3-4b52-a5dd-ba15fb270cf5"
   },
   "outputs": [],
   "source": [
    "len(items[0])"
   ]
  },
  {
   "cell_type": "code",
   "execution_count": null,
   "id": "e781cb07",
   "metadata": {
    "id": "e781cb07"
   },
   "outputs": [],
   "source": [
    "x, y = items[0]"
   ]
  },
  {
   "cell_type": "code",
   "execution_count": null,
   "id": "d038fb94",
   "metadata": {
    "id": "d038fb94",
    "outputId": "e3bb7d00-1c52-4476-d22d-71a94e83a6ae"
   },
   "outputs": [],
   "source": [
    "x"
   ]
  },
  {
   "cell_type": "code",
   "execution_count": null,
   "id": "996f82b8",
   "metadata": {
    "id": "996f82b8",
    "outputId": "d76f1664-12a4-4b89-d382-64f729f2eb63"
   },
   "outputs": [],
   "source": [
    "y"
   ]
  },
  {
   "cell_type": "code",
   "execution_count": null,
   "id": "9df99372",
   "metadata": {
    "id": "9df99372",
    "outputId": "7cc51c31-a2d1-44b9-b69d-0bdbfce2f40b"
   },
   "outputs": [],
   "source": [
    "1, 2, 3"
   ]
  },
  {
   "cell_type": "code",
   "execution_count": null,
   "id": "0b1d262f",
   "metadata": {
    "id": "0b1d262f",
    "outputId": "89e838f8-07cc-41c7-8673-e837827bf7b1"
   },
   "outputs": [],
   "source": [
    "\"animal\", \"dog\""
   ]
  },
  {
   "cell_type": "code",
   "execution_count": null,
   "id": "20153a4d",
   "metadata": {
    "id": "20153a4d"
   },
   "outputs": [],
   "source": [
    "x, y = \"animal\", \"dog\""
   ]
  },
  {
   "cell_type": "code",
   "execution_count": null,
   "id": "2c7b05d0",
   "metadata": {
    "id": "2c7b05d0",
    "outputId": "b97caa59-e6b5-4139-9b34-675e5fcf7523"
   },
   "outputs": [],
   "source": [
    "x"
   ]
  },
  {
   "cell_type": "code",
   "execution_count": null,
   "id": "68bee8d0",
   "metadata": {
    "id": "68bee8d0",
    "outputId": "2306c4e6-160c-4767-e59c-3bc0e306ed2b"
   },
   "outputs": [],
   "source": [
    "y"
   ]
  },
  {
   "cell_type": "code",
   "execution_count": null,
   "id": "6e1c439c",
   "metadata": {
    "id": "6e1c439c",
    "outputId": "8335b129-2a92-42ee-8d9d-84fbeb3df9a4"
   },
   "outputs": [],
   "source": [
    "dict_by_dict.keys()"
   ]
  },
  {
   "cell_type": "code",
   "execution_count": null,
   "id": "19d9cc1d",
   "metadata": {
    "id": "19d9cc1d",
    "outputId": "48a3919e-57b5-4a56-d908-d0e93c77b68a"
   },
   "outputs": [],
   "source": [
    "tuple(dict_by_dict.keys())"
   ]
  },
  {
   "cell_type": "code",
   "execution_count": null,
   "id": "448dd75c",
   "metadata": {
    "id": "448dd75c",
    "outputId": "9c670443-7322-4332-d796-23d43734880e"
   },
   "outputs": [],
   "source": [
    "set(dict_by_dict.values())"
   ]
  },
  {
   "cell_type": "code",
   "execution_count": null,
   "id": "bf0a4e9c",
   "metadata": {
    "id": "bf0a4e9c"
   },
   "outputs": [],
   "source": [
    "family = {'name1': 'Edwin',\n",
    "          'name2': 'Bella',\n",
    "          'name3': 'Aisha',\n",
    "          'name4': 'Tom'\n",
    "         }"
   ]
  },
  {
   "cell_type": "code",
   "execution_count": null,
   "id": "9d317c62",
   "metadata": {
    "id": "9d317c62",
    "outputId": "71d204e3-407f-4b3e-b870-441fe1149e99"
   },
   "outputs": [],
   "source": [
    "family"
   ]
  },
  {
   "cell_type": "code",
   "execution_count": null,
   "id": "479ff567",
   "metadata": {
    "id": "479ff567",
    "outputId": "6dd6c5ab-bb2d-4f6e-fa82-f9a7432f580f"
   },
   "outputs": [],
   "source": [
    "print(family)"
   ]
  },
  {
   "cell_type": "code",
   "execution_count": null,
   "id": "fcdf585e",
   "metadata": {
    "id": "fcdf585e",
    "outputId": "92fac92a-5507-49c9-9af5-bbceb8612c06"
   },
   "outputs": [],
   "source": [
    "list(family.items())"
   ]
  },
  {
   "cell_type": "code",
   "execution_count": null,
   "id": "7a00bd13",
   "metadata": {
    "id": "7a00bd13",
    "outputId": "07854d43-fc23-450d-8733-b41e60735d7a"
   },
   "outputs": [],
   "source": [
    "list(family.keys())"
   ]
  },
  {
   "cell_type": "code",
   "execution_count": null,
   "id": "80af0449",
   "metadata": {
    "id": "80af0449",
    "outputId": "1d035484-4bcd-4673-dc0d-5ed3b92429fd"
   },
   "outputs": [],
   "source": [
    "list(family.values())"
   ]
  },
  {
   "cell_type": "code",
   "execution_count": null,
   "id": "b9f8237c",
   "metadata": {
    "id": "b9f8237c",
    "outputId": "f6c7d4a7-0083-4184-8e51-f8ca58cdfe32"
   },
   "outputs": [],
   "source": [
    "family[\"name5\"] = \"Ally\"\n",
    "family"
   ]
  },
  {
   "cell_type": "code",
   "execution_count": null,
   "id": "00b52ee3",
   "metadata": {
    "id": "00b52ee3",
    "outputId": "5e424f36-e492-486f-b63b-793c03065528"
   },
   "outputs": [],
   "source": [
    "mylist = [\"a\", \"b\", \"c\"]\n",
    "\n",
    "mylist.insert(3, \"d\")\n",
    "\n",
    "mylist"
   ]
  },
  {
   "cell_type": "code",
   "execution_count": null,
   "id": "22948ccb",
   "metadata": {
    "id": "22948ccb",
    "outputId": "aea847c0-0ac2-44c5-de7b-7bf37206aa13"
   },
   "outputs": [],
   "source": [
    "family.update({\"name6\": \"Samuel\"})\n",
    "\n",
    "family"
   ]
  },
  {
   "cell_type": "code",
   "execution_count": null,
   "id": "4a528fb8",
   "metadata": {
    "id": "4a528fb8",
    "outputId": "d5d3570a-0f31-4a97-f531-8da2c6da4391"
   },
   "outputs": [],
   "source": [
    "family.update({\"name2\": \"Michael\"})\n",
    "\n",
    "family"
   ]
  },
  {
   "cell_type": "code",
   "execution_count": null,
   "id": "bfc701df",
   "metadata": {
    "id": "bfc701df",
    "outputId": "89fd6186-0559-44bd-c25e-0a45f74a9834"
   },
   "outputs": [],
   "source": [
    "family.update({\"name6\": \"Edward\"})\n",
    "\n",
    "family"
   ]
  },
  {
   "cell_type": "code",
   "execution_count": null,
   "id": "f74bbd90",
   "metadata": {
    "id": "f74bbd90"
   },
   "outputs": [],
   "source": [
    "del family[\"name1\"]"
   ]
  },
  {
   "cell_type": "code",
   "execution_count": null,
   "id": "2dd4d842",
   "metadata": {
    "id": "2dd4d842",
    "outputId": "ad0573d6-f34c-49de-dcd6-f74c3f4ddc7d"
   },
   "outputs": [],
   "source": [
    "family"
   ]
  },
  {
   "cell_type": "code",
   "execution_count": null,
   "id": "9085050f",
   "metadata": {
    "id": "9085050f"
   },
   "outputs": [],
   "source": [
    "del family[\"name3\"], family[\"name5\"]"
   ]
  },
  {
   "cell_type": "code",
   "execution_count": null,
   "id": "800d19ef",
   "metadata": {
    "id": "800d19ef",
    "outputId": "4d204f2a-1fd7-452d-c606-fbbf7ca2cbb7"
   },
   "outputs": [],
   "source": [
    "family"
   ]
  },
  {
   "cell_type": "code",
   "execution_count": null,
   "id": "23ae0bf8",
   "metadata": {
    "id": "23ae0bf8",
    "outputId": "3ce96178-755e-413e-8894-3531a1bfc6f6"
   },
   "outputs": [],
   "source": [
    "a  = \"python\"\n",
    "\n",
    "print(a)"
   ]
  },
  {
   "cell_type": "code",
   "execution_count": null,
   "id": "afd99246",
   "metadata": {
    "id": "afd99246"
   },
   "outputs": [],
   "source": [
    "del a"
   ]
  },
  {
   "cell_type": "code",
   "execution_count": null,
   "id": "1585ac9e",
   "metadata": {
    "id": "1585ac9e",
    "outputId": "07d16c0e-b886-4a5f-d7fd-5f240ee0505a"
   },
   "outputs": [],
   "source": [
    "print(a)\n",
    "\n",
    "# error' (name 'a' is not defined) because we just deleted it."
   ]
  },
  {
   "cell_type": "code",
   "execution_count": null,
   "id": "b8abebf6",
   "metadata": {
    "id": "b8abebf6",
    "outputId": "53fcd925-caba-4475-bd42-ec15cab5b9e3"
   },
   "outputs": [],
   "source": [
    "\"i\" in \"python\""
   ]
  },
  {
   "cell_type": "code",
   "execution_count": null,
   "id": "0fb91d55",
   "metadata": {
    "id": "0fb91d55",
    "outputId": "d5972f89-f5fd-4490-d930-93dd97463ffa"
   },
   "outputs": [],
   "source": [
    "\"o\" in \"python\""
   ]
  },
  {
   "cell_type": "code",
   "execution_count": null,
   "id": "7949f922",
   "metadata": {
    "id": "7949f922",
    "outputId": "b99ae2ef-015c-4ab8-f50e-bebb845378c3"
   },
   "outputs": [],
   "source": [
    "\"O\" in \"python\""
   ]
  },
  {
   "cell_type": "code",
   "execution_count": null,
   "id": "d976231f",
   "metadata": {
    "id": "d976231f"
   },
   "outputs": [],
   "source": [
    "language = \"p y t h o n\""
   ]
  },
  {
   "cell_type": "code",
   "execution_count": null,
   "id": "52d36d8d",
   "metadata": {
    "id": "52d36d8d",
    "outputId": "3ee99cb5-abf5-4f65-cce1-faec1e32bc9c"
   },
   "outputs": [],
   "source": [
    "language.split()"
   ]
  },
  {
   "cell_type": "code",
   "execution_count": null,
   "id": "21a050b5",
   "metadata": {
    "id": "21a050b5",
    "outputId": "ad851675-b81e-4f72-e501-cc5bde0151cb"
   },
   "outputs": [],
   "source": [
    "print(language)"
   ]
  },
  {
   "cell_type": "code",
   "execution_count": null,
   "id": "8cadce8e",
   "metadata": {
    "id": "8cadce8e",
    "outputId": "81c726be-5271-4c05-b093-6c4d0ce537d1"
   },
   "outputs": [],
   "source": [
    "language = \"p y t h o n\".split()\n",
    "\n",
    "language"
   ]
  },
  {
   "cell_type": "code",
   "execution_count": null,
   "id": "5ab2b89a",
   "metadata": {
    "id": "5ab2b89a",
    "outputId": "b8f2042b-feff-42b0-9ca3-994af33b31f5"
   },
   "outputs": [],
   "source": [
    "list_split = \"kirby-betty-ally\".split(\"-\")\n",
    "\n",
    "list_split"
   ]
  },
  {
   "cell_type": "code",
   "execution_count": null,
   "id": "48bb92f7",
   "metadata": {
    "id": "48bb92f7",
    "outputId": "b862b10e-4bf3-4354-d6af-99f3d80c04ac"
   },
   "outputs": [],
   "source": [
    "\"a\" in bootcamp"
   ]
  },
  {
   "cell_type": "code",
   "execution_count": null,
   "id": "0f223894",
   "metadata": {
    "id": "0f223894",
    "outputId": "ee08a2ce-8069-492f-c836-9481efeb42b2"
   },
   "outputs": [],
   "source": [
    "dict_by_dict"
   ]
  },
  {
   "cell_type": "code",
   "execution_count": null,
   "id": "68d1fa6e",
   "metadata": {
    "id": "68d1fa6e",
    "outputId": "0ec21570-eb84-4267-de8e-4d6c8a824988"
   },
   "outputs": [],
   "source": [
    "\"dog\" in dict_by_dict"
   ]
  },
  {
   "cell_type": "code",
   "execution_count": null,
   "id": "7a353aad",
   "metadata": {
    "id": "7a353aad",
    "outputId": "7594e7a5-391a-45ef-cf3f-2eed455027dc"
   },
   "outputs": [],
   "source": [
    "\"planet\" in dict_by_dict"
   ]
  },
  {
   "cell_type": "code",
   "execution_count": null,
   "id": "faebf4ea",
   "metadata": {
    "id": "faebf4ea",
    "outputId": "6b023978-f942-48b1-c28f-711e5f80f6ac"
   },
   "outputs": [],
   "source": [
    "\"dog\" in dict_by_dict.values()"
   ]
  },
  {
   "cell_type": "code",
   "execution_count": null,
   "id": "650f2db7",
   "metadata": {
    "id": "650f2db7",
    "outputId": "b980cce0-cf40-4432-93c1-681228642073"
   },
   "outputs": [],
   "source": [
    "not True"
   ]
  },
  {
   "cell_type": "code",
   "execution_count": null,
   "id": "587b1bfb",
   "metadata": {
    "id": "587b1bfb",
    "outputId": "f5d02135-e245-430c-8555-b046d7fc1728"
   },
   "outputs": [],
   "source": [
    "\"dog\" not in dict_by_dict"
   ]
  },
  {
   "cell_type": "code",
   "execution_count": null,
   "id": "62f6443a",
   "metadata": {
    "id": "62f6443a",
    "outputId": "f75e5327-16a6-4cae-8e47-62ffe1ee6b0c"
   },
   "outputs": [],
   "source": [
    "\"dog\" not in dict_by_dict.values()"
   ]
  },
  {
   "cell_type": "markdown",
   "id": "72e41304",
   "metadata": {
    "id": "72e41304"
   },
   "source": [
    "<a id=\"toc\"></a>\n",
    "\n",
    "## <p style=\"background-color:#9d4f8c; font-family:newtimeroman; color:#FFF9ED; font-size:175%; text-align:center; border-radius:10px 10px;\">Nested Dictionaries</p>"
   ]
  },
  {
   "cell_type": "markdown",
   "id": "00cc37a9",
   "metadata": {
    "id": "00cc37a9"
   },
   "source": [
    "**Link 1: https://www.w3schools.com/python/python_dictionaries_nested.asp**\n",
    "\n",
    "**Link 2: https://www.programiz.com/python-programming/nested-dictionary**\n",
    "\n",
    "**Link 3: https://www.geeksforgeeks.org/python-nested-dictionary/**"
   ]
  },
  {
   "cell_type": "code",
   "execution_count": null,
   "id": "0af6bad0",
   "metadata": {
    "id": "0af6bad0"
   },
   "outputs": [],
   "source": [
    "school_records = {\n",
    "    'personal_info':\n",
    "        {'kid':{'tom':{'class':'intermediate', 'age':10},\n",
    "                'sue':{'class':'elemantary', 'age':8}\n",
    "               },\n",
    "         'teen':{'joseph': {'class':'college', 'age':19},\n",
    "                 'marry': {'class':'high school', 'age':16}\n",
    "                },\n",
    "        },\n",
    "    'grades_info':\n",
    "        {'kid':{'tom':{'math':88, 'speech':69},\n",
    "                'sue':{'math':90, 'speech':81}\n",
    "               },\n",
    "         'teen':{'joseph':{'coding':80, 'math':89},\n",
    "                 'marry':{'coding':70, 'math':96}\n",
    "                },\n",
    "        }\n",
    "}"
   ]
  },
  {
   "cell_type": "code",
   "execution_count": null,
   "id": "4639ef5b",
   "metadata": {
    "id": "4639ef5b",
    "outputId": "afda110b-2f7a-48b7-8fcf-082c9c2c423b"
   },
   "outputs": [],
   "source": [
    "school_records[\"personal_info\"]"
   ]
  },
  {
   "cell_type": "code",
   "execution_count": null,
   "id": "b1d5a5ca",
   "metadata": {
    "id": "b1d5a5ca",
    "outputId": "ca31a3a6-3a0c-4686-d08c-fd96cf1a93a1"
   },
   "outputs": [],
   "source": [
    "type(school_records[\"personal_info\"])"
   ]
  },
  {
   "cell_type": "code",
   "execution_count": null,
   "id": "c831b05e",
   "metadata": {
    "id": "c831b05e",
    "outputId": "f9204afc-ab6b-4609-bc73-7d4322087296"
   },
   "outputs": [],
   "source": [
    "len(school_records[\"personal_info\"])"
   ]
  },
  {
   "cell_type": "code",
   "execution_count": null,
   "id": "cd8f72c5",
   "metadata": {
    "id": "cd8f72c5",
    "outputId": "11eda24a-7152-4b0f-e44c-7f0f463b9469"
   },
   "outputs": [],
   "source": [
    "school_records[\"grades_info\"]"
   ]
  },
  {
   "cell_type": "code",
   "execution_count": null,
   "id": "ad650386",
   "metadata": {
    "id": "ad650386",
    "outputId": "d63f378c-0d46-4f08-e637-d8e44341eb22"
   },
   "outputs": [],
   "source": [
    "school_records[\"personal_info\"][\"kid\"]"
   ]
  },
  {
   "cell_type": "code",
   "execution_count": null,
   "id": "7c606825",
   "metadata": {
    "id": "7c606825",
    "outputId": "c547d2de-2c79-4125-e750-03e49f9e8d98"
   },
   "outputs": [],
   "source": [
    "school_records[\"personal_info\"][\"kid\"][\"tom\"]"
   ]
  },
  {
   "cell_type": "code",
   "execution_count": null,
   "id": "15df7ebe",
   "metadata": {
    "id": "15df7ebe",
    "outputId": "7ae8e6a1-cbc1-4936-9773-921a82a6d5d0"
   },
   "outputs": [],
   "source": [
    "school_records[\"personal_info\"][\"kid\"][\"tom\"][\"age\"]"
   ]
  },
  {
   "cell_type": "code",
   "execution_count": null,
   "id": "064a0538",
   "metadata": {
    "id": "064a0538",
    "outputId": "aab6b7c2-e7d6-411c-e1cc-464eab0febfc"
   },
   "outputs": [],
   "source": [
    "type(school_records[\"personal_info\"][\"kid\"][\"tom\"][\"age\"])"
   ]
  },
  {
   "cell_type": "markdown",
   "id": "LhHQl1F9fNe2",
   "metadata": {
    "id": "LhHQl1F9fNe2"
   },
   "source": [
    "<div class=\"alert alert-block alert-info\"><h1><p style=\"text-align: center; color:purple\">Mutable&Immutable&Hashable Concepts<br><br>Creating Dictionaries<br><br>Sorting a Dictionary By Its Keys"
   ]
  },
  {
   "cell_type": "markdown",
   "id": "CjsKH4FQfS8N",
   "metadata": {
    "id": "CjsKH4FQfS8N"
   },
   "source": [
    "<a id=\"toc\"></a>\n",
    "\n",
    "### <p style=\"background-color:#9d4f8c; font-family:newtimeroman; color:#FFF9ED; font-size:175%; text-align:center; border-radius:10px 10px;\">Mutable & Immutable and Hashable Concepts</p>"
   ]
  },
  {
   "cell_type": "markdown",
   "id": "M9z1RHJ_fXQL",
   "metadata": {
    "id": "M9z1RHJ_fXQL"
   },
   "source": [
    "In Python, IMMUTABLE objects are objects whose values and attributes do not change over time.\n",
    "\n",
    "Once created, these objects become permanent.\n",
    "\n",
    "MUTABLE objects, on the other hand, are objects that can be changed or edited in place by nature.\n",
    "\n",
    "If an object has an unchanging HASH value throughout its lifetime, we call it a HASHABLE object.\n",
    "\n",
    "IMMUTABLE objects such as integers, strings, and tuples have an unchanging HASH value.\n",
    "\n",
    "HASHABLE is a property of Python objects that tells whether an object has a hash value."
   ]
  },
  {
   "cell_type": "markdown",
   "id": "ZVp0lANyfbU7",
   "metadata": {
    "id": "ZVp0lANyfbU7"
   },
   "source": [
    "# mutable & immutable"
   ]
  },
  {
   "cell_type": "markdown",
   "id": "ck6KxRZGfdsR",
   "metadata": {
    "id": "ck6KxRZGfdsR"
   },
   "source": [
    "```\n",
    "mutable:\n",
    "\n",
    "list\n",
    "dictionary\n",
    "set\n",
    "user-defined classes\n",
    "```"
   ]
  },
  {
   "cell_type": "markdown",
   "id": "ZyxjYM-kffk8",
   "metadata": {
    "id": "ZyxjYM-kffk8"
   },
   "source": [
    "```\n",
    "immutable:\n",
    "\n",
    "int\n",
    "float\n",
    "decimal\n",
    "bool\n",
    "string\n",
    "tuple\n",
    "range\n",
    "```"
   ]
  },
  {
   "cell_type": "markdown",
   "id": "SH5DW8hsfhte",
   "metadata": {
    "id": "SH5DW8hsfhte"
   },
   "source": [
    "# hash() function:\n",
    "\n",
    "**Returns the hash value for the given object.**"
   ]
  },
  {
   "cell_type": "code",
   "execution_count": null,
   "id": "-Q9CHsbyfQeO",
   "metadata": {
    "colab": {
     "base_uri": "https://localhost:8080/"
    },
    "executionInfo": {
     "elapsed": 19,
     "status": "ok",
     "timestamp": 1721753454072,
     "user": {
      "displayName": "Edwin W",
      "userId": "11200791715119199957"
     },
     "user_tz": -180
    },
    "id": "-Q9CHsbyfQeO",
    "outputId": "fb87945e-dd8d-4575-92c2-43ea5cc064c1"
   },
   "outputs": [],
   "source": [
    "number = 10\n",
    "\n",
    "hash(number)"
   ]
  },
  {
   "cell_type": "code",
   "execution_count": null,
   "id": "LeeiX44TfQXP",
   "metadata": {
    "colab": {
     "base_uri": "https://localhost:8080/"
    },
    "executionInfo": {
     "elapsed": 16,
     "status": "ok",
     "timestamp": 1721753454072,
     "user": {
      "displayName": "Edwin W",
      "userId": "11200791715119199957"
     },
     "user_tz": -180
    },
    "id": "LeeiX44TfQXP",
    "outputId": "36da5d40-1a57-452a-98b7-dcfd0c4aaf2e"
   },
   "outputs": [],
   "source": [
    "hash(\"10\")"
   ]
  },
  {
   "cell_type": "code",
   "execution_count": null,
   "id": "-J4MVHN9fQUf",
   "metadata": {
    "colab": {
     "base_uri": "https://localhost:8080/"
    },
    "executionInfo": {
     "elapsed": 13,
     "status": "ok",
     "timestamp": 1721753454072,
     "user": {
      "displayName": "Edwin W",
      "userId": "11200791715119199957"
     },
     "user_tz": -180
    },
    "id": "-J4MVHN9fQUf",
    "outputId": "317dd45d-ec91-4c7a-c8af-34d0e27039ee"
   },
   "outputs": [],
   "source": [
    "hash(\"p\")"
   ]
  },
  {
   "cell_type": "code",
   "execution_count": null,
   "id": "_kFxMJcqfP6Z",
   "metadata": {
    "colab": {
     "base_uri": "https://localhost:8080/"
    },
    "executionInfo": {
     "elapsed": 11,
     "status": "ok",
     "timestamp": 1721753454073,
     "user": {
      "displayName": "Edwin W",
      "userId": "11200791715119199957"
     },
     "user_tz": -180
    },
    "id": "_kFxMJcqfP6Z",
    "outputId": "16bf131b-e418-4ad5-e180-c56405bda079"
   },
   "outputs": [],
   "source": [
    "hash(\"python\")"
   ]
  },
  {
   "cell_type": "code",
   "execution_count": null,
   "id": "2YmT444hfP4O",
   "metadata": {
    "executionInfo": {
     "elapsed": 8,
     "status": "ok",
     "timestamp": 1721753454073,
     "user": {
      "displayName": "Edwin W",
      "userId": "11200791715119199957"
     },
     "user_tz": -180
    },
    "id": "2YmT444hfP4O"
   },
   "outputs": [],
   "source": [
    "a = \"10\""
   ]
  },
  {
   "cell_type": "code",
   "execution_count": null,
   "id": "D_Tv6gTrfP1s",
   "metadata": {
    "colab": {
     "base_uri": "https://localhost:8080/"
    },
    "executionInfo": {
     "elapsed": 8,
     "status": "ok",
     "timestamp": 1721753454073,
     "user": {
      "displayName": "Edwin W",
      "userId": "11200791715119199957"
     },
     "user_tz": -180
    },
    "id": "D_Tv6gTrfP1s",
    "outputId": "f7baf283-288e-4d9e-c9b4-1e8ef9412f86"
   },
   "outputs": [],
   "source": [
    "hash(a)"
   ]
  },
  {
   "cell_type": "code",
   "execution_count": null,
   "id": "dU7Y1fFAfPz1",
   "metadata": {
    "executionInfo": {
     "elapsed": 855,
     "status": "ok",
     "timestamp": 1721753454923,
     "user": {
      "displayName": "Edwin W",
      "userId": "11200791715119199957"
     },
     "user_tz": -180
    },
    "id": "dU7Y1fFAfPz1"
   },
   "outputs": [],
   "source": [
    "my_list = [10, 20, 30]"
   ]
  },
  {
   "cell_type": "code",
   "execution_count": null,
   "id": "EAEdfnxMfPwe",
   "metadata": {
    "colab": {
     "base_uri": "https://localhost:8080/",
     "height": 183
    },
    "executionInfo": {
     "elapsed": 6,
     "status": "error",
     "timestamp": 1721753454923,
     "user": {
      "displayName": "Edwin W",
      "userId": "11200791715119199957"
     },
     "user_tz": -180
    },
    "id": "EAEdfnxMfPwe",
    "outputId": "1b6ace19-a29a-4225-fdf3-356ea493f9e3"
   },
   "outputs": [],
   "source": [
    "hash(my_list)\n",
    "\n",
    "# List objects are unhashable. They have no hash value and are mutable."
   ]
  },
  {
   "cell_type": "code",
   "execution_count": null,
   "id": "jcwZ-co0fPuX",
   "metadata": {
    "colab": {
     "base_uri": "https://localhost:8080/",
     "height": 201
    },
    "executionInfo": {
     "elapsed": 364,
     "status": "error",
     "timestamp": 1721753505208,
     "user": {
      "displayName": "Edwin W",
      "userId": "11200791715119199957"
     },
     "user_tz": -180
    },
    "id": "jcwZ-co0fPuX",
    "outputId": "74c4c008-24da-41e5-da85-88a159fcc35a"
   },
   "outputs": [],
   "source": [
    "my_tuple = (1, 2, 3, 4, 5)\n",
    "\n",
    "my_list = [1, 2, 3, 4, 5]\n",
    "\n",
    "\n",
    "print(\"the tuple hash value is : \" + str(hash(my_tuple)))\n",
    "\n",
    "print(\"the list hash value is : \" + str(hash(my_list)))  # type error! (unhashable type: 'list')"
   ]
  },
  {
   "cell_type": "code",
   "execution_count": null,
   "id": "gvepIQKNfPsM",
   "metadata": {
    "colab": {
     "base_uri": "https://localhost:8080/"
    },
    "executionInfo": {
     "elapsed": 461,
     "status": "ok",
     "timestamp": 1721753508685,
     "user": {
      "displayName": "Edwin W",
      "userId": "11200791715119199957"
     },
     "user_tz": -180
    },
    "id": "gvepIQKNfPsM",
    "outputId": "07710536-4c75-432b-e9e6-7f4248f3c451"
   },
   "outputs": [],
   "source": [
    "hash(\"10\")\n",
    "\n",
    "# After restarting the kernel, the hash value of the string \"10\" will change.!"
   ]
  },
  {
   "cell_type": "code",
   "execution_count": null,
   "id": "q4OlEPX4fPpu",
   "metadata": {
    "colab": {
     "base_uri": "https://localhost:8080/"
    },
    "executionInfo": {
     "elapsed": 484,
     "status": "ok",
     "timestamp": 1721753527904,
     "user": {
      "displayName": "Edwin W",
      "userId": "11200791715119199957"
     },
     "user_tz": -180
    },
    "id": "q4OlEPX4fPpu",
    "outputId": "55a2303f-86c2-48c0-e5bd-33e691e83ac1"
   },
   "outputs": [],
   "source": [
    "hash(\"10\")\n",
    "\n",
    "# Variables, objects, etc. are stored in memory during the runtime of your program.\n",
    "# When you reset your runtime, the memory is completely cleared."
   ]
  },
  {
   "cell_type": "markdown",
   "id": "x5vVtMScggpg",
   "metadata": {
    "id": "x5vVtMScggpg"
   },
   "source": [
    "## If an object has a \"hash\" value (if it is hashable), it can be used as a \"key\" in a dictionary or as an element in a set, as the object is immutable."
   ]
  },
  {
   "cell_type": "code",
   "execution_count": null,
   "id": "KWwhuhRvfPjF",
   "metadata": {
    "colab": {
     "base_uri": "https://localhost:8080/"
    },
    "executionInfo": {
     "elapsed": 352,
     "status": "ok",
     "timestamp": 1721753547509,
     "user": {
      "displayName": "Edwin W",
      "userId": "11200791715119199957"
     },
     "user_tz": -180
    },
    "id": "KWwhuhRvfPjF",
    "outputId": "f70a9f54-3c5e-41bd-da37-7a9757b18a15"
   },
   "outputs": [],
   "source": [
    "friends = {\n",
    "    \"friend1\" : {\"name\" : \"Ali\",\n",
    "                 \"age\" : 35,\n",
    "                 \"is_student\" : True,\n",
    "                 \"assgnmnt_grades\" : [8, 8, 9]},\n",
    "\n",
    "    \"friend2\" : {\"name\" :\n",
    "                 \"Deli\",\n",
    "                 \"age\" : 38,\n",
    "                 \"is_student\" : True,\n",
    "                \"assgnmnt_grades\" : [9, 9, 10]},\n",
    "\n",
    "    \"friend3\" : {\"name\" :\n",
    "                 \"Veli\",\n",
    "                 \"age\" : 40,\n",
    "                 \"is_student\" : False,\n",
    "                \"assgnmnt_grades\" : [10, 10, 10]}\n",
    "}\n",
    "\n",
    "print(friends)"
   ]
  },
  {
   "cell_type": "code",
   "execution_count": null,
   "id": "CKEvVXg_fPaB",
   "metadata": {
    "colab": {
     "base_uri": "https://localhost:8080/"
    },
    "executionInfo": {
     "elapsed": 408,
     "status": "ok",
     "timestamp": 1721753564995,
     "user": {
      "displayName": "Edwin W",
      "userId": "11200791715119199957"
     },
     "user_tz": -180
    },
    "id": "CKEvVXg_fPaB",
    "outputId": "644e3088-5f6c-4b0d-942a-5e22fbf0f62b"
   },
   "outputs": [],
   "source": [
    "friends[\"friend2\"][\"assgnmnt_grades\"]"
   ]
  },
  {
   "cell_type": "code",
   "execution_count": null,
   "id": "3t1bpknlgMis",
   "metadata": {
    "colab": {
     "base_uri": "https://localhost:8080/"
    },
    "executionInfo": {
     "elapsed": 3,
     "status": "ok",
     "timestamp": 1721753565468,
     "user": {
      "displayName": "Edwin W",
      "userId": "11200791715119199957"
     },
     "user_tz": -180
    },
    "id": "3t1bpknlgMis",
    "outputId": "1579f595-dec7-4d3a-c76f-cec365f56c05"
   },
   "outputs": [],
   "source": [
    "dicti = {}\n",
    "\n",
    "key1 = (1,2,3)\n",
    "\n",
    "dicti[key1] = \"value\"\n",
    "\n",
    "dicti\n",
    "\n",
    "# tuples are immutable."
   ]
  },
  {
   "cell_type": "code",
   "execution_count": null,
   "id": "4Q6enStggoy1",
   "metadata": {
    "colab": {
     "base_uri": "https://localhost:8080/"
    },
    "executionInfo": {
     "elapsed": 352,
     "status": "ok",
     "timestamp": 1721753580899,
     "user": {
      "displayName": "Edwin W",
      "userId": "11200791715119199957"
     },
     "user_tz": -180
    },
    "id": "4Q6enStggoy1",
    "outputId": "5527ea95-99c6-463a-f28d-04ba51a1fc9d"
   },
   "outputs": [],
   "source": [
    "key2 = 45\n",
    "\n",
    "dicti[key2] = \"value2\"\n",
    "\n",
    "dicti\n",
    "\n",
    "# integers are immutable."
   ]
  },
  {
   "cell_type": "code",
   "execution_count": null,
   "id": "31yNnoATgowS",
   "metadata": {
    "colab": {
     "base_uri": "https://localhost:8080/"
    },
    "executionInfo": {
     "elapsed": 331,
     "status": "ok",
     "timestamp": 1721753590357,
     "user": {
      "displayName": "Edwin W",
      "userId": "11200791715119199957"
     },
     "user_tz": -180
    },
    "id": "31yNnoATgowS",
    "outputId": "aa825ee0-dd62-4152-8056-6394fee7d7d7"
   },
   "outputs": [],
   "source": [
    "key3 = \"Fuad\"\n",
    "\n",
    "dicti[key3] = \"value\"\n",
    "\n",
    "dicti\n",
    "\n",
    "# strings are immutable."
   ]
  },
  {
   "cell_type": "code",
   "execution_count": null,
   "id": "-WRS-qAJgote",
   "metadata": {
    "colab": {
     "base_uri": "https://localhost:8080/",
     "height": 219
    },
    "executionInfo": {
     "elapsed": 327,
     "status": "error",
     "timestamp": 1721753599282,
     "user": {
      "displayName": "Edwin W",
      "userId": "11200791715119199957"
     },
     "user_tz": -180
    },
    "id": "-WRS-qAJgote",
    "outputId": "fc632833-fc6b-4331-a13b-e436567223d6"
   },
   "outputs": [],
   "source": [
    "key4 = [1, 2, 3]\n",
    "\n",
    "dicti[key4] = \"value\"\n",
    "\n",
    "# list objects are unhashable. They have no hash values and are mutable"
   ]
  },
  {
   "cell_type": "code",
   "execution_count": null,
   "id": "sdYQ9aMNgopc",
   "metadata": {
    "colab": {
     "base_uri": "https://localhost:8080/",
     "height": 219
    },
    "executionInfo": {
     "elapsed": 365,
     "status": "error",
     "timestamp": 1721753608987,
     "user": {
      "displayName": "Edwin W",
      "userId": "11200791715119199957"
     },
     "user_tz": -180
    },
    "id": "sdYQ9aMNgopc",
    "outputId": "83f00784-75f3-4d1c-a13f-6aad79870b32"
   },
   "outputs": [],
   "source": [
    "key5 = {\"a\" : 1, \"b\" : 2}\n",
    "\n",
    "sözlük[key5] = \"value\"\n",
    "\n",
    "# # dict objects are unhashable. They have no hash values and are mutable"
   ]
  },
  {
   "cell_type": "markdown",
   "id": "6atWXZJKgzme",
   "metadata": {
    "id": "6atWXZJKgzme"
   },
   "source": [
    "<a id=\"toc\"></a>\n",
    "\n",
    "### <p style=\"background-color:#9d4f8c; font-family:newtimeroman; color:#FFF9ED; font-size:175%; text-align:center; border-radius:10px 10px;\">Methods of creating dictionaries in Python.</p>"
   ]
  },
  {
   "cell_type": "markdown",
   "id": "pzXfftbng1ik",
   "metadata": {
    "id": "pzXfftbng1ik"
   },
   "source": [
    "## Using variable=value assignment within the dict() function"
   ]
  },
  {
   "cell_type": "code",
   "execution_count": null,
   "id": "rEEFFu8dgolL",
   "metadata": {
    "colab": {
     "base_uri": "https://localhost:8080/"
    },
    "executionInfo": {
     "elapsed": 297,
     "status": "ok",
     "timestamp": 1721753635052,
     "user": {
      "displayName": "Edwin W",
      "userId": "11200791715119199957"
     },
     "user_tz": -180
    },
    "id": "rEEFFu8dgolL",
    "outputId": "5935a077-d9e8-4b9c-d78d-da28e3ae97b6"
   },
   "outputs": [],
   "source": [
    "dict(one = 1, two = \"two\", three = 3.0)"
   ]
  },
  {
   "cell_type": "markdown",
   "id": "2Wjbgz52g52q",
   "metadata": {
    "id": "2Wjbgz52g52q"
   },
   "source": [
    "**We need to follow the naming rules for variables while assigning names to variables,\n",
    "otherwise we will get an error!**"
   ]
  },
  {
   "cell_type": "code",
   "execution_count": null,
   "id": "yYohGR_7gogW",
   "metadata": {
    "colab": {
     "base_uri": "https://localhost:8080/",
     "height": 110
    },
    "executionInfo": {
     "elapsed": 318,
     "status": "error",
     "timestamp": 1721753652471,
     "user": {
      "displayName": "Edwin W",
      "userId": "11200791715119199957"
     },
     "user_tz": -180
    },
    "id": "yYohGR_7gogW",
    "outputId": "9971cceb-0f77-4fb2-878f-ad7345d63cda"
   },
   "outputs": [],
   "source": [
    "dict(\"one\" = 1, 2 = \"two\", three% = 3.0)\n",
    "# error!"
   ]
  },
  {
   "cell_type": "markdown",
   "id": "xE0kNpTMhAFl",
   "metadata": {
    "id": "xE0kNpTMhAFl"
   },
   "source": [
    "## We can create a dictionary with a list of two-element tuples"
   ]
  },
  {
   "cell_type": "code",
   "execution_count": null,
   "id": "Jfl01udQgocJ",
   "metadata": {
    "colab": {
     "base_uri": "https://localhost:8080/"
    },
    "executionInfo": {
     "elapsed": 323,
     "status": "ok",
     "timestamp": 1721753678398,
     "user": {
      "displayName": "Edwin W",
      "userId": "11200791715119199957"
     },
     "user_tz": -180
    },
    "id": "Jfl01udQgocJ",
    "outputId": "02007e06-d5aa-452f-a61f-a4b5162ab0b5"
   },
   "outputs": [],
   "source": [
    "listoftuple = [(\"a\", \"A\"), (\"b\", \"B\"), (\"c\", \"C\")]\n",
    "\n",
    "tuples_dict = dict(listoftuple)\n",
    "\n",
    "print(tuples_dict)"
   ]
  },
  {
   "cell_type": "markdown",
   "id": "qz7sf60fhFYY",
   "metadata": {
    "id": "qz7sf60fhFYY"
   },
   "source": [
    "## Creating a dictionary from a plain list:"
   ]
  },
  {
   "cell_type": "code",
   "execution_count": null,
   "id": "RAnUswXCgoWT",
   "metadata": {
    "executionInfo": {
     "elapsed": 336,
     "status": "ok",
     "timestamp": 1721753697515,
     "user": {
      "displayName": "Edwin W",
      "userId": "11200791715119199957"
     },
     "user_tz": -180
    },
    "id": "RAnUswXCgoWT"
   },
   "outputs": [],
   "source": [
    "plainlist = [1,2,3,4,5]"
   ]
  },
  {
   "cell_type": "code",
   "execution_count": null,
   "id": "7_fs30sEgoQU",
   "metadata": {
    "colab": {
     "base_uri": "https://localhost:8080/"
    },
    "executionInfo": {
     "elapsed": 337,
     "status": "ok",
     "timestamp": 1721753704628,
     "user": {
      "displayName": "Edwin W",
      "userId": "11200791715119199957"
     },
     "user_tz": -180
    },
    "id": "7_fs30sEgoQU",
    "outputId": "370da250-12db-4df8-9987-af287ca44f82"
   },
   "outputs": [],
   "source": [
    "zip(plainlist, plainlist)\n",
    "\n",
    "# Docstring:\n",
    "# zip(*iterables) --> A zip object yielding tuples until an input is exhausted."
   ]
  },
  {
   "cell_type": "code",
   "execution_count": null,
   "id": "p88kBjNjgoKk",
   "metadata": {
    "colab": {
     "base_uri": "https://localhost:8080/"
    },
    "executionInfo": {
     "elapsed": 321,
     "status": "ok",
     "timestamp": 1721753711687,
     "user": {
      "displayName": "Edwin W",
      "userId": "11200791715119199957"
     },
     "user_tz": -180
    },
    "id": "p88kBjNjgoKk",
    "outputId": "4d5ec888-1658-498a-96c4-2c5eadbf9aef"
   },
   "outputs": [],
   "source": [
    "zip_list = zip(plainlist, plainlist)\n",
    "\n",
    "# We created a zip object by passing two identical lists into the zip function.\n",
    "\n",
    "list(zip_list) # we converted it to a list to make it visible."
   ]
  },
  {
   "cell_type": "code",
   "execution_count": null,
   "id": "rEYr8UDlgoCu",
   "metadata": {
    "colab": {
     "base_uri": "https://localhost:8080/"
    },
    "executionInfo": {
     "elapsed": 331,
     "status": "ok",
     "timestamp": 1721753721000,
     "user": {
      "displayName": "Edwin W",
      "userId": "11200791715119199957"
     },
     "user_tz": -180
    },
    "id": "rEYr8UDlgoCu",
    "outputId": "142d1ed7-5d3c-4996-f696-bde9afbdf8aa"
   },
   "outputs": [],
   "source": [
    "list(zip_list)\n",
    "\n",
    "# Once the elements of the zip object are used, the zip object becomes empty"
   ]
  },
  {
   "cell_type": "code",
   "execution_count": null,
   "id": "UsiCfel8gMgj",
   "metadata": {
    "colab": {
     "base_uri": "https://localhost:8080/"
    },
    "executionInfo": {
     "elapsed": 332,
     "status": "ok",
     "timestamp": 1721753730463,
     "user": {
      "displayName": "Edwin W",
      "userId": "11200791715119199957"
     },
     "user_tz": -180
    },
    "id": "UsiCfel8gMgj",
    "outputId": "b8761e37-a0d8-4a76-ad96-1b8b23f7fb8f"
   },
   "outputs": [],
   "source": [
    "# We need to regenerate the zip object.\n",
    "\n",
    "zip_list = zip(plainlist, plainlist)\n",
    "\n",
    "list(zip_list)"
   ]
  },
  {
   "cell_type": "code",
   "execution_count": null,
   "id": "5C9jlgiegMd3",
   "metadata": {
    "colab": {
     "base_uri": "https://localhost:8080/"
    },
    "executionInfo": {
     "elapsed": 314,
     "status": "ok",
     "timestamp": 1721753738500,
     "user": {
      "displayName": "Edwin W",
      "userId": "11200791715119199957"
     },
     "user_tz": -180
    },
    "id": "5C9jlgiegMd3",
    "outputId": "17c38397-99f7-4e8e-f910-47d05561b3e2"
   },
   "outputs": [],
   "source": [
    "zip_list = zip(plainlist, plainlist)\n",
    "\n",
    "print(*zip_list)  # we make it visible by using asterisk \"*\" in print() function."
   ]
  },
  {
   "cell_type": "code",
   "execution_count": null,
   "id": "KkFbINwohS6d",
   "metadata": {
    "colab": {
     "base_uri": "https://localhost:8080/"
    },
    "executionInfo": {
     "elapsed": 318,
     "status": "ok",
     "timestamp": 1721753752873,
     "user": {
      "displayName": "Edwin W",
      "userId": "11200791715119199957"
     },
     "user_tz": -180
    },
    "id": "KkFbINwohS6d",
    "outputId": "0bb5f430-57f2-4348-94b3-48b40c3647d6"
   },
   "outputs": [],
   "source": [
    "print(*zip_list)\n",
    "\n",
    "# again the zip object becomes empty"
   ]
  },
  {
   "cell_type": "code",
   "execution_count": null,
   "id": "N1QuuXTohS0H",
   "metadata": {
    "colab": {
     "base_uri": "https://localhost:8080/"
    },
    "executionInfo": {
     "elapsed": 345,
     "status": "ok",
     "timestamp": 1721753760852,
     "user": {
      "displayName": "Edwin W",
      "userId": "11200791715119199957"
     },
     "user_tz": -180
    },
    "id": "N1QuuXTohS0H",
    "outputId": "f7eac1bb-9237-4d38-8330-19e7dc64d60b"
   },
   "outputs": [],
   "source": [
    "zip_list = zip(plainlist, plainlist)\n",
    "\n",
    "dict(list(zip_list))\n",
    "\n",
    "# We can create a dictionary from a list of pair-pair tuples"
   ]
  },
  {
   "cell_type": "code",
   "execution_count": null,
   "id": "6HmaZ_H3hSti",
   "metadata": {
    "colab": {
     "base_uri": "https://localhost:8080/"
    },
    "executionInfo": {
     "elapsed": 357,
     "status": "ok",
     "timestamp": 1721753783892,
     "user": {
      "displayName": "Edwin W",
      "userId": "11200791715119199957"
     },
     "user_tz": -180
    },
    "id": "6HmaZ_H3hSti",
    "outputId": "436a45d1-7ea4-4d66-8bcb-1c57f6a578f3"
   },
   "outputs": [],
   "source": [
    "# If we want to have a long dictionary ready to be filled with key-value pairs later,\n",
    "# we can create it using the following method:\n",
    "\n",
    "plainlist2 = list(range(1000))\n",
    "print(dict(list(zip(plainlist2, plainlist2))))"
   ]
  },
  {
   "cell_type": "markdown",
   "id": "6IBK6cVmhmfQ",
   "metadata": {
    "id": "6IBK6cVmhmfQ"
   },
   "source": [
    "<a id=\"toc\"></a>\n",
    "\n",
    "### <p style=\"background-color:#9d4f8c; font-family:newtimeroman; color:#FFF9ED; font-size:175%; text-align:center; border-radius:10px 10px;\">Sorting a dictionary by its keys</p>"
   ]
  },
  {
   "cell_type": "code",
   "execution_count": null,
   "id": "boUqw0pHhlLo",
   "metadata": {
    "executionInfo": {
     "elapsed": 330,
     "status": "ok",
     "timestamp": 1721753833199,
     "user": {
      "displayName": "Edwin W",
      "userId": "11200791715119199957"
     },
     "user_tz": -180
    },
    "id": "boUqw0pHhlLo"
   },
   "outputs": [],
   "source": [
    "# Let's proceed with the desserts dictionary:\n",
    "\n",
    "desserts = {\n",
    "    \"Ice cream\":10,\n",
    "    \"Brownies\":12,\n",
    "    \"Cheesecake\":3,\n",
    "    \"Swiss roll\":5,\n",
    "    \"Cookies\":4,\n",
    "    \"Cup cake\":2\n",
    "}"
   ]
  },
  {
   "cell_type": "code",
   "execution_count": null,
   "id": "hjgVc1xUhlIr",
   "metadata": {
    "colab": {
     "base_uri": "https://localhost:8080/"
    },
    "executionInfo": {
     "elapsed": 342,
     "status": "ok",
     "timestamp": 1721753839609,
     "user": {
      "displayName": "Edwin W",
      "userId": "11200791715119199957"
     },
     "user_tz": -180
    },
    "id": "hjgVc1xUhlIr",
    "outputId": "3a5d27d5-06cd-4146-b51d-9ee50a19d2f8"
   },
   "outputs": [],
   "source": [
    "# First, let's access the keys:\n",
    "\n",
    "keys = desserts.keys()\n",
    "print(keys)"
   ]
  },
  {
   "cell_type": "markdown",
   "id": "FOBXA1_0hr2o",
   "metadata": {
    "id": "FOBXA1_0hr2o"
   },
   "source": [
    "**We can sort this dict_keys list with the sorted() function:**"
   ]
  },
  {
   "cell_type": "code",
   "execution_count": null,
   "id": "r8ESERsYhlFF",
   "metadata": {
    "colab": {
     "base_uri": "https://localhost:8080/"
    },
    "executionInfo": {
     "elapsed": 332,
     "status": "ok",
     "timestamp": 1721753853833,
     "user": {
      "displayName": "Edwin W",
      "userId": "11200791715119199957"
     },
     "user_tz": -180
    },
    "id": "r8ESERsYhlFF",
    "outputId": "d674dd9f-8c56-4235-ab84-7d3cfc4c0bdf"
   },
   "outputs": [],
   "source": [
    "sorted_keys = sorted(keys)  # we assigned the sorted keys to the variable named sorted_keys.\n",
    "\n",
    "# sorted_keys = sorted(desserts.keys())  (alternative sytax.)\n",
    "\n",
    "print(sorted_keys)\n",
    "\n",
    "# Now we have our keys sorted alphabetically."
   ]
  },
  {
   "cell_type": "code",
   "execution_count": null,
   "id": "YAWFhBPqhlBY",
   "metadata": {
    "colab": {
     "base_uri": "https://localhost:8080/"
    },
    "executionInfo": {
     "elapsed": 335,
     "status": "ok",
     "timestamp": 1721753879188,
     "user": {
      "displayName": "Edwin W",
      "userId": "11200791715119199957"
     },
     "user_tz": -180
    },
    "id": "YAWFhBPqhlBY",
    "outputId": "16c94f25-29c0-4fcb-82e7-bb9802d2201e"
   },
   "outputs": [],
   "source": [
    "# I want to create a new dictionary from the sorted keys,\n",
    "# so that I will have sorted my old dictionary by its keys\n",
    "\n",
    "sorted_desserts={}  # I create an empty dict first.\n",
    "\n",
    "sorted_desserts[\"Brownies\"] = desserts[\"Brownies\"]\n",
    "\n",
    "sorted_desserts"
   ]
  },
  {
   "cell_type": "code",
   "execution_count": null,
   "id": "sdzT8Uv3hk75",
   "metadata": {
    "colab": {
     "base_uri": "https://localhost:8080/"
    },
    "executionInfo": {
     "elapsed": 377,
     "status": "ok",
     "timestamp": 1721753886922,
     "user": {
      "displayName": "Edwin W",
      "userId": "11200791715119199957"
     },
     "user_tz": -180
    },
    "id": "sdzT8Uv3hk75",
    "outputId": "7243aa3c-5123-42e2-f792-ca94594fc06e"
   },
   "outputs": [],
   "source": [
    "sorted_desserts[\"Cheesecake\"] = desserts[\"Cheesecake\"]\n",
    "sorted_desserts"
   ]
  },
  {
   "cell_type": "code",
   "execution_count": null,
   "id": "sIRLDsAthk3R",
   "metadata": {
    "colab": {
     "base_uri": "https://localhost:8080/"
    },
    "executionInfo": {
     "elapsed": 358,
     "status": "ok",
     "timestamp": 1721753893365,
     "user": {
      "displayName": "Edwin W",
      "userId": "11200791715119199957"
     },
     "user_tz": -180
    },
    "id": "sIRLDsAthk3R",
    "outputId": "7692f2c3-c56e-4189-8e85-8647419b7544"
   },
   "outputs": [],
   "source": [
    "sorted_desserts[\"Cookies\"] = desserts[\"Cookies\"]\n",
    "sorted_desserts"
   ]
  },
  {
   "cell_type": "code",
   "execution_count": null,
   "id": "4z6oSLb1hkyL",
   "metadata": {
    "colab": {
     "base_uri": "https://localhost:8080/"
    },
    "executionInfo": {
     "elapsed": 353,
     "status": "ok",
     "timestamp": 1721753901357,
     "user": {
      "displayName": "Edwin W",
      "userId": "11200791715119199957"
     },
     "user_tz": -180
    },
    "id": "4z6oSLb1hkyL",
    "outputId": "ac80ea4b-ab15-42b1-a453-412d45898825"
   },
   "outputs": [],
   "source": [
    "sorted_desserts[\"Cup cake\"] = desserts[\"Cup cake\"]\n",
    "sorted_desserts"
   ]
  },
  {
   "cell_type": "code",
   "execution_count": null,
   "id": "0F0FfK2thktK",
   "metadata": {
    "colab": {
     "base_uri": "https://localhost:8080/"
    },
    "executionInfo": {
     "elapsed": 341,
     "status": "ok",
     "timestamp": 1721753907976,
     "user": {
      "displayName": "Edwin W",
      "userId": "11200791715119199957"
     },
     "user_tz": -180
    },
    "id": "0F0FfK2thktK",
    "outputId": "20c892a2-6850-4448-826f-70da3e1a3959"
   },
   "outputs": [],
   "source": [
    "sorted_desserts[\"Ice cream\"] = desserts[\"Ice cream\"]\n",
    "sorted_desserts"
   ]
  },
  {
   "cell_type": "code",
   "execution_count": null,
   "id": "iK5I-d_rhkoZ",
   "metadata": {
    "colab": {
     "base_uri": "https://localhost:8080/"
    },
    "executionInfo": {
     "elapsed": 312,
     "status": "ok",
     "timestamp": 1721753916211,
     "user": {
      "displayName": "Edwin W",
      "userId": "11200791715119199957"
     },
     "user_tz": -180
    },
    "id": "iK5I-d_rhkoZ",
    "outputId": "a62ba62a-b5d5-403c-911a-314b93656bad"
   },
   "outputs": [],
   "source": [
    "sorted_desserts[\"Swiss roll\"] = desserts[\"Swiss roll\"]\n",
    "sorted_desserts"
   ]
  },
  {
   "cell_type": "markdown",
   "id": "LSknBLRoh_vq",
   "metadata": {
    "id": "LSknBLRoh_vq"
   },
   "source": [
    "Although we can arrange the keys manually in this way, there should be a shorter way.\n",
    "Instead of manually assigning them one by one (imagine a dictionary consisting of thousands of key-value pairs), we can do this much more efficiently using loops.\n",
    "\n",
    "We will get into the topic of for loops later. For now, just take a look at the code below to understand how loops make our lives easier:"
   ]
  },
  {
   "cell_type": "code",
   "execution_count": null,
   "id": "aKXvK0zWhSnO",
   "metadata": {
    "colab": {
     "base_uri": "https://localhost:8080/"
    },
    "executionInfo": {
     "elapsed": 321,
     "status": "ok",
     "timestamp": 1721753937220,
     "user": {
      "displayName": "Edwin W",
      "userId": "11200791715119199957"
     },
     "user_tz": -180
    },
    "id": "aKXvK0zWhSnO",
    "outputId": "e3c96250-03a1-467e-dbd4-2f24da5a71ba"
   },
   "outputs": [],
   "source": [
    "sorted_desserts = {}\n",
    "for key in sorted_keys:\n",
    "    sorted_desserts[key] = desserts[key]\n",
    "\n",
    "print(sorted_desserts)"
   ]
  }
 ],
 "metadata": {
  "colab": {
   "provenance": []
  },
  "kernelspec": {
   "display_name": "Python 3 (ipykernel)",
   "language": "python",
   "name": "python3"
  },
  "language_info": {
   "codemirror_mode": {
    "name": "ipython",
    "version": 3
   },
   "file_extension": ".py",
   "mimetype": "text/x-python",
   "name": "python",
   "nbconvert_exporter": "python",
   "pygments_lexer": "ipython3",
   "version": "3.11.3"
  }
 },
 "nbformat": 4,
 "nbformat_minor": 5
}
