{
 "cells": [
  {
   "cell_type": "markdown",
   "id": "b0006baf-00da-446d-93df-fdd078918295",
   "metadata": {
    "id": "fGdDuGxR9rkV"
   },
   "source": [
    "#### Clarusway Python\n",
    "\n",
    "* [Instructor Landing Page](landing_page.ipynb)\n",
    "* <a href=\"https://colab.research.google.com/github/4dsolutions/clarusway_data_analysis/blob/main/basic_python/23.Python_Session23.ipynb\"><img align=\"left\" src=\"https://colab.research.google.com/assets/colab-badge.svg\" alt=\"Open in Colab\" title=\"Open and Execute in Google Colaboratory\"></a>\n",
    "* [![nbviewer](https://raw.githubusercontent.com/jupyter/design/master/logos/Badges/nbviewer_badge.svg)](https://nbviewer.org/github/4dsolutions/clarusway_data_analysis/blob/main/basic_python/23.Python_Session23.ipynb)"
   ]
  },
  {
   "cell_type": "markdown",
   "id": "17218c97",
   "metadata": {
    "id": "17218c97"
   },
   "source": [
    "<a id=\"toc\"></a>\n",
    "\n",
    "# <p style=\"background-color:#117A65; font-family:newtimeroman; color:#FFF9ED; font-size:175%; text-align:center; border-radius:10px 10px;\">Python Virtual Environment Session</p>"
   ]
  },
  {
   "cell_type": "markdown",
   "id": "93bf8f83",
   "metadata": {
    "id": "93bf8f83"
   },
   "source": [
    "#### <div class=\"alert alert-block alert-info\"><h1><p style=\"text-align: center; color:purple\">What is Local?<br><br>Installing Python Libraries<br><br>What is Python Anaconda?<br><br>What is a Virtual Environment and Why is it Necessary?<br><br>Python Virtual Environment Operations<br><br>Anaconda Virtual Environment Operations<br><br>Creating a Custom Environment for a Jupyter Kernel</p>"
   ]
  },
  {
   "cell_type": "markdown",
   "id": "70b7d99a",
   "metadata": {
    "id": "70b7d99a"
   },
   "source": [
    "<a id=\"toc\"></a>\n",
    "\n",
    "## <p style=\"background-color:#9d4f8c; font-family:newtimeroman; color:#FFF9ED; font-size:175%; text-align:center; border-radius:10px 10px;\">What is Local?</p>"
   ]
  },
  {
   "cell_type": "markdown",
   "id": "f4ad67c6",
   "metadata": {
    "id": "f4ad67c6"
   },
   "source": [
    "**When referring to the local area network (LAN), it denotes a network of closely located network hardware or computers, as opposed to the wide area network (WAN).**\n",
    "\n",
    "**When referring to a file or storage medium, it is the storage location on the computer used.**"
   ]
  },
  {
   "cell_type": "markdown",
   "id": "b417bbd8",
   "metadata": {
    "id": "b417bbd8"
   },
   "source": [
    "<a id=\"toc\"></a>\n",
    "\n",
    "## <p style=\"background-color:#9d4f8c; font-family:newtimeroman; color:#FFF9ED; font-size:175%; text-align:center; border-radius:10px 10px;\">Installing Python Libraries</p>"
   ]
  },
  {
   "cell_type": "markdown",
   "id": "529ead79",
   "metadata": {
    "id": "529ead79"
   },
   "source": [
    "**[Python official document link (packaging)](https://packaging.python.org/en/latest/tutorials/installing-packages/)**\n",
    "\n",
    "**[pypi.org link: Find, install and publish Python packages with the Python Package Index](https://pypi.org/)**"
   ]
  },
  {
   "cell_type": "markdown",
   "id": "ac73dcbc",
   "metadata": {
    "id": "ac73dcbc"
   },
   "source": [
    "Python libraries are sets of pre-written code that can be imported into your Python project. These libraries provide additional functionality and can be installed using the pip package manager."
   ]
  },
  {
   "cell_type": "markdown",
   "id": "96620f2d",
   "metadata": {
    "id": "96620f2d"
   },
   "source": [
    "**To use Python libraries that are available to us as open source on the internet, we need to download them from the internet to our local computer. This process is known as installing the libraries.**"
   ]
  },
  {
   "cell_type": "code",
   "execution_count": null,
   "id": "fb4e972c",
   "metadata": {
    "id": "fb4e972c",
    "outputId": "8c3cc95d-c270-499d-c56f-81f4cabd21c5"
   },
   "outputs": [
    {
     "name": "stdout",
     "output_type": "stream",
     "text": [
      "Requirement already satisfied: numpy in c:\\users\\edwin\\anaconda3\\lib\\site-packages (1.21.5)\n",
      "Note: you may need to restart the kernel to use updated packages.\n"
     ]
    }
   ],
   "source": [
    "pip install numpy"
   ]
  },
  {
   "cell_type": "markdown",
   "id": "d1cc8be2",
   "metadata": {
    "id": "d1cc8be2"
   },
   "source": [
    "![python.exe](https://drive.google.com/uc?id=1Ztr8y6-hAbUZKdGqy0K0gp7aCzGzjXMj)"
   ]
  },
  {
   "cell_type": "code",
   "execution_count": null,
   "id": "d08d0546",
   "metadata": {
    "id": "d08d0546",
    "outputId": "d3067b2a-2045-4c8e-fc50-8f5a888d3ee6"
   },
   "outputs": [
    {
     "name": "stdout",
     "output_type": "stream",
     "text": [
      "C:\\Users\\edwin\\anaconda3\n"
     ]
    }
   ],
   "source": [
    "import sys\n",
    "\n",
    "locate_python = sys.exec_prefix\n",
    "\n",
    "print(locate_python)"
   ]
  },
  {
   "cell_type": "markdown",
   "id": "977349e4",
   "metadata": {
    "id": "977349e4"
   },
   "source": [
    "![python.exe](https://drive.google.com/uc?id=1Kvg2UEgozJpxp2tBdBevLF6snMd7JcOc)"
   ]
  },
  {
   "cell_type": "markdown",
   "id": "e3fa9c65",
   "metadata": {
    "id": "e3fa9c65"
   },
   "source": [
    "<a id=\"toc\"></a>\n",
    "\n",
    "## <p style=\"background-color:#9d4f8c; font-family:newtimeroman; color:#FFF9ED; font-size:175%; text-align:center; border-radius:10px 10px;\">What is Python Anaconda?</p>"
   ]
  },
  {
   "cell_type": "markdown",
   "id": "4a377e04",
   "metadata": {
    "id": "4a377e04"
   },
   "source": [
    "**[Link 1 - Anaconda Distribution](https://www.anaconda.com/products/distribution)**\n",
    "\n",
    "**[Link 2 - What is the differences between Python and Anaconda?](https://www.dataquest.io/blog/python-vs-anaconda/)**\n",
    "\n",
    "**[Link 3 - Everything you need to know about Conda in Python](https://iq.opengenus.org/everything-about-conda/)**"
   ]
  },
  {
   "cell_type": "markdown",
   "id": "7745743e",
   "metadata": {
    "id": "7745743e"
   },
   "source": [
    "**Anaconda is an open-source distribution of Python and R programming languages that includes a variety of data science and machine learning packages. It simplifies package management and deployment by providing an all-in-one installer, as well as a virtual environment manager called Conda.**\n",
    "\n",
    "**Anaconda is designed to be cross-platform, meaning that it can be used on Windows, macOS, and Linux. It also includes an integrated development environment (IDE) called Spyder, which provides features such as code highlighting, debugging, and introspection.**\n",
    "\n",
    "**Overall, Anaconda provides a convenient and powerful platform for data scientists and developers to work with Python and R.**"
   ]
  },
  {
   "cell_type": "markdown",
   "id": "908c76db",
   "metadata": {
    "id": "908c76db"
   },
   "source": [
    "<a id=\"toc\"></a>\n",
    "\n",
    "## <p style=\"background-color:#9d4f8c; font-family:newtimeroman; color:#FFF9ED; font-size:175%; text-align:center; border-radius:10px 10px;\">What is Virtual Environment? Why is it necessary?</p>"
   ]
  },
  {
   "cell_type": "markdown",
   "id": "beb8cc90",
   "metadata": {
    "id": "beb8cc90"
   },
   "source": [
    "![python.exe](https://drive.google.com/uc?id=10zAImSup1Cjhyt68_TSJ3V4pvHsbDjFT)"
   ]
  },
  {
   "cell_type": "markdown",
   "id": "bab23419",
   "metadata": {
    "id": "bab23419"
   },
   "source": [
    "**The sole purpose of a virtual environment is not just to reduce the size of the working environment. Virtual environments are used to manage packages in different projects. You may need to use different versions of packages in different projects. Using virtual environments eliminates problems due to the direct installation of packages globally (directly into your system).**\n",
    "\n",
    "**Your application may require certain dependencies that are only found in old versions that are not available in the latest versions. In this case, your application should be run on the specific versions of Python and packages.**\n",
    "\n",
    "**As a recommendation to Python developers in the official Python documentation, it is suggested to always set up a separate virtual environment for each Python project and install everything necessary inside it, without ever installing packages globally!**"
   ]
  },
  {
   "cell_type": "code",
   "execution_count": null,
   "id": "f5b93b02",
   "metadata": {
    "id": "f5b93b02",
    "outputId": "796ef6e0-2acc-4439-938f-6af1ee652ac0"
   },
   "outputs": [
    {
     "name": "stdout",
     "output_type": "stream",
     "text": [
      "pip 21.2.4 from C:\\Users\\edwin\\anaconda3\\lib\\site-packages\\pip (python 3.9)\n",
      "\n",
      "Note: you may need to restart the kernel to use updated packages.\n"
     ]
    }
   ],
   "source": [
    "pip --version"
   ]
  },
  {
   "cell_type": "markdown",
   "id": "3abf8c09",
   "metadata": {
    "id": "3abf8c09"
   },
   "source": [
    "<a id=\"toc\"></a>\n",
    "\n",
    "## <p style=\"background-color:#9d4f8c; font-family:newtimeroman; color:#FFF9ED; font-size:175%; text-align:center; border-radius:10px 10px;\">Python Virtual Environment Operations</p>"
   ]
  },
  {
   "cell_type": "markdown",
   "id": "ca566877",
   "metadata": {
    "id": "ca566877"
   },
   "source": [
    "<a id=\"toc\"></a>\n",
    "\n",
    "### <p style=\"background-color:#117A65; font-family:newtimeroman; color:#FFF9ED; font-size:175%; text-align:center; border-radius:10px 10px;\">Let's create the project folder first</p>"
   ]
  },
  {
   "cell_type": "markdown",
   "id": "c4fdd673",
   "metadata": {
    "id": "c4fdd673"
   },
   "source": [
    "![python.exe](https://drive.google.com/uc?id=1m_Rb4lBn_Kjprh_4cTCYCHGraOeYNOEt)"
   ]
  },
  {
   "cell_type": "code",
   "execution_count": null,
   "id": "0c4ae999",
   "metadata": {
    "id": "0c4ae999"
   },
   "outputs": [],
   "source": [
    "# We open the command prompt and create a project folder:\n",
    "\n",
    "mkdir projem"
   ]
  },
  {
   "cell_type": "code",
   "execution_count": null,
   "id": "f475d4cb",
   "metadata": {
    "id": "f475d4cb"
   },
   "outputs": [],
   "source": [
    "# We navigate into the project folder:\n",
    "\n",
    "cd projem  "
   ]
  },
  {
   "cell_type": "markdown",
   "id": "2281ecda",
   "metadata": {
    "id": "2281ecda"
   },
   "source": [
    "<a id=\"toc\"></a>\n",
    "\n",
    "### <p style=\"background-color:#117A65; font-family:newtimeroman; color:#FFF9ED; font-size:175%; text-align:center; border-radius:10px 10px;\">Virtual environment \"create\" etme</p>"
   ]
  },
  {
   "cell_type": "code",
   "execution_count": null,
   "id": "d6917e4d",
   "metadata": {
    "id": "d6917e4d"
   },
   "outputs": [],
   "source": [
    "# The necessary code to create an environment named \"projem_env\":\n",
    "\n",
    "python -m venv projem_env  # {for windows}\n",
    "\n",
    "python3 -m venv alpha-venv   # {for MacOS vs. Linux system}"
   ]
  },
  {
   "cell_type": "markdown",
   "id": "abb6d8f5",
   "metadata": {
    "id": "abb6d8f5"
   },
   "source": [
    "![python.exe](https://drive.google.com/uc?id=1xK1TPjUqJx5_zaQ9qzMHI_qrq_JcUEuv)"
   ]
  },
  {
   "cell_type": "markdown",
   "id": "1e4f2091",
   "metadata": {
    "id": "1e4f2091"
   },
   "source": [
    "<a id=\"toc\"></a>\n",
    "\n",
    "### <p style=\"background-color:#117A65; font-family:newtimeroman; color:#FFF9ED; font-size:175%; text-align:center; border-radius:10px 10px;\">Activating the virtual environment</p>"
   ]
  },
  {
   "cell_type": "code",
   "execution_count": null,
   "id": "c35a4615",
   "metadata": {
    "id": "c35a4615"
   },
   "outputs": [],
   "source": [
    ".\\projem_env\\Scripts\\activate  # {for windows}\n",
    "\n",
    "source projem_env/bin/activate  # {for Linux systems}"
   ]
  },
  {
   "cell_type": "markdown",
   "id": "ddc37f8c",
   "metadata": {
    "id": "ddc37f8c"
   },
   "source": [
    "![python.exe](https://drive.google.com/uc?id=1Tw890CVlmp4r8NgOtRkve54_cX9Gc7_p)"
   ]
  },
  {
   "cell_type": "markdown",
   "id": "813af4ce",
   "metadata": {
    "id": "813af4ce"
   },
   "source": [
    "## How can we tell if the virtual environment has been created successfully?"
   ]
  },
  {
   "cell_type": "markdown",
   "id": "b6a88114",
   "metadata": {
    "id": "b6a88114"
   },
   "source": [
    "**After activating the virtual environment, the environment name is displayed in parentheses at the beginning of the terminal prompt. This way, we can tell that our virtual environment is active.**\n",
    "\n",
    "**Another way to determine this is to run the command \"where python\" for Windows systems or \"which python\" for Linux systems.**\n",
    "\n",
    "**When this command is run, it shows the location of the Python interpreter inside the virtual environment.**"
   ]
  },
  {
   "cell_type": "code",
   "execution_count": null,
   "id": "4c498d51",
   "metadata": {
    "id": "4c498d51"
   },
   "outputs": [],
   "source": [
    "where python   # {for windows}\n",
    "\n",
    "# which python  # {for Linux}"
   ]
  },
  {
   "cell_type": "markdown",
   "id": "9834c5cb",
   "metadata": {
    "id": "9834c5cb"
   },
   "source": [
    "![python.exe](https://drive.google.com/uc?id=1k5GrsfDdJ87Tq4lmPqjO01EsCllLb8WQ)"
   ]
  },
  {
   "cell_type": "markdown",
   "id": "aafebe24",
   "metadata": {
    "id": "aafebe24"
   },
   "source": [
    "**We can see the location of all python.exe files on our local machine, including the one inside the environment folder we just created.**\n",
    "\n",
    "**NOTE: This command cannot detect the python.exe file of a conda environment, even if conda is installed. However, Anaconda can detect all other environments.**"
   ]
  },
  {
   "cell_type": "markdown",
   "id": "8d03e4e7",
   "metadata": {
    "id": "8d03e4e7"
   },
   "source": [
    "**We can also verify the creation of the virtual environment by checking the Python version inside the virtual environment.** \n",
    "\n",
    "**This is because the Python version in the virtual environment will be the same as the one used to create the virtual environment.**"
   ]
  },
  {
   "cell_type": "code",
   "execution_count": null,
   "id": "458b49fc",
   "metadata": {
    "id": "458b49fc"
   },
   "outputs": [],
   "source": [
    "python —V\n",
    "\n",
    "# or: \n",
    "python --version"
   ]
  },
  {
   "cell_type": "markdown",
   "id": "e5832000",
   "metadata": {
    "id": "e5832000"
   },
   "source": [
    "![python.exe](https://drive.google.com/uc?id=13HsBMgE4SdiZruwDGOgPLQnONHiQZ4oo)"
   ]
  },
  {
   "cell_type": "markdown",
   "id": "28538b8a",
   "metadata": {
    "id": "28538b8a"
   },
   "source": [
    "<a id=\"toc\"></a>\n",
    "\n",
    "### <p style=\"background-color:#117A65; font-family:newtimeroman; color:#FFF9ED; font-size:175%; text-align:center; border-radius:10px 10px;\">Installing packages to the environment & 'pip' commands</p>"
   ]
  },
  {
   "cell_type": "markdown",
   "id": "ceb8e723",
   "metadata": {
    "id": "ceb8e723"
   },
   "source": [
    "**\"Now you are in an isolated virtual environment with only 'pip' and 'setuptools' installed as default packages.**\n",
    "\n",
    "**No packages installed in the previous Python directory are available here.**\n",
    "\n",
    "**We can check this by using the 'pip list' command to see all the installed packages.\"**"
   ]
  },
  {
   "cell_type": "code",
   "execution_count": null,
   "id": "a4ace73a",
   "metadata": {
    "id": "a4ace73a"
   },
   "outputs": [],
   "source": [
    "pip list"
   ]
  },
  {
   "cell_type": "markdown",
   "id": "16354634",
   "metadata": {
    "id": "16354634"
   },
   "source": [
    "![python.exe](https://drive.google.com/uc?id=1QK_kY9lMgPTUi6bisETj_D0oM_FS8zYF)"
   ]
  },
  {
   "cell_type": "markdown",
   "id": "66bbef7e",
   "metadata": {
    "id": "66bbef7e"
   },
   "source": [
    "**Herhangi bir package'ı insall etmeden önce pip'in son versiyon olduğundan emin olalım:**"
   ]
  },
  {
   "cell_type": "code",
   "execution_count": null,
   "id": "383e067b",
   "metadata": {
    "id": "383e067b"
   },
   "outputs": [],
   "source": [
    "python -m pip install --upgrade pip  # {for windows}\n",
    "\n",
    "# python3 -m pip install --upgrade pip # {for linux}"
   ]
  },
  {
   "cell_type": "markdown",
   "id": "ec81dfa1",
   "metadata": {
    "id": "ec81dfa1"
   },
   "source": [
    "![python.exe](https://drive.google.com/uc?id=1x1kCnolAIp_5f9N2v0JvRz6Zh4QzW6IZ)"
   ]
  },
  {
   "cell_type": "markdown",
   "id": "642eb4c6",
   "metadata": {
    "id": "642eb4c6"
   },
   "source": [
    "**Note that since we are working in a virtual environment, this command will only upgrade the pip tool within the active virtual environment.**"
   ]
  },
  {
   "cell_type": "code",
   "execution_count": null,
   "id": "326168ad",
   "metadata": {
    "id": "326168ad"
   },
   "outputs": [],
   "source": [
    "pip list\n",
    "\n",
    "# We can see that pip has been upgraded (if it wasn't up-to-date before) by running the command."
   ]
  },
  {
   "cell_type": "markdown",
   "id": "3bbfa2ed",
   "metadata": {
    "id": "3bbfa2ed"
   },
   "source": [
    "![python.exe](https://drive.google.com/uc?id=13sGyID6-7quGE4jpj3hlsBUK43XrSVwR)"
   ]
  },
  {
   "cell_type": "markdown",
   "id": "73c583da",
   "metadata": {
    "id": "73c583da"
   },
   "source": [
    "**Let's add the Pandas library to our environment:**"
   ]
  },
  {
   "cell_type": "code",
   "execution_count": null,
   "id": "5765870e",
   "metadata": {
    "id": "5765870e"
   },
   "outputs": [],
   "source": [
    "python -m pip install pandas"
   ]
  },
  {
   "cell_type": "markdown",
   "id": "6b7d0d44",
   "metadata": {
    "id": "6b7d0d44"
   },
   "source": [
    "![python.exe](https://drive.google.com/uc?id=1J5nZ4abRQp5VWSS_I8llmQsJpqTGl30c)"
   ]
  },
  {
   "cell_type": "markdown",
   "id": "2290d472",
   "metadata": {
    "id": "2290d472"
   },
   "source": [
    "**To install a specific version of a package:**"
   ]
  },
  {
   "cell_type": "code",
   "execution_count": null,
   "id": "5f338fed",
   "metadata": {
    "id": "5f338fed"
   },
   "outputs": [],
   "source": [
    "python -m pip install pandas==1.1.1"
   ]
  },
  {
   "cell_type": "markdown",
   "id": "02264c9b",
   "metadata": {
    "id": "02264c9b"
   },
   "source": [
    "**To install any version of a package earlier than a specific version**"
   ]
  },
  {
   "cell_type": "code",
   "execution_count": null,
   "id": "b48d239b",
   "metadata": {
    "id": "b48d239b"
   },
   "outputs": [],
   "source": [
    "python -m pip install 'pandas<1.2'  # Attention! Write it in quotation marks."
   ]
  },
  {
   "cell_type": "markdown",
   "id": "1da39d6b",
   "metadata": {
    "id": "1da39d6b"
   },
   "source": [
    "**To install any version of a package higher than a specific version:**"
   ]
  },
  {
   "cell_type": "code",
   "execution_count": null,
   "id": "e6ce3020",
   "metadata": {
    "id": "e6ce3020"
   },
   "outputs": [],
   "source": [
    "python -m pip install 'pandas>0.25.3'\n",
    "\n",
    "# Note that the last two commands install the LATEST version of the package that matches the specified constraints.. "
   ]
  },
  {
   "cell_type": "markdown",
   "id": "54229582",
   "metadata": {
    "id": "54229582"
   },
   "source": [
    "**To update a package:**"
   ]
  },
  {
   "cell_type": "code",
   "execution_count": null,
   "id": "3ead8af8",
   "metadata": {
    "id": "3ead8af8"
   },
   "outputs": [],
   "source": [
    "pip install --upgrade pandas"
   ]
  },
  {
   "cell_type": "markdown",
   "id": "09b67d77",
   "metadata": {
    "id": "09b67d77"
   },
   "source": [
    "**To remove a package:**"
   ]
  },
  {
   "cell_type": "code",
   "execution_count": null,
   "id": "efd25e7e",
   "metadata": {
    "id": "efd25e7e"
   },
   "outputs": [],
   "source": [
    "pip uninstall pandas"
   ]
  },
  {
   "cell_type": "markdown",
   "id": "4b606fba",
   "metadata": {
    "id": "4b606fba"
   },
   "source": [
    "**Listing potential updates for packages that have newer versions available:**"
   ]
  },
  {
   "cell_type": "code",
   "execution_count": null,
   "id": "5b19e1ed",
   "metadata": {
    "id": "5b19e1ed"
   },
   "outputs": [],
   "source": [
    "pip list --outdated"
   ]
  },
  {
   "cell_type": "markdown",
   "id": "870dc11d",
   "metadata": {
    "id": "870dc11d"
   },
   "source": [
    "**To get detailed information about a package:**"
   ]
  },
  {
   "cell_type": "code",
   "execution_count": null,
   "id": "29f8df71",
   "metadata": {
    "id": "29f8df71"
   },
   "outputs": [],
   "source": [
    "pip show pandas"
   ]
  },
  {
   "cell_type": "markdown",
   "id": "23956739",
   "metadata": {
    "id": "23956739"
   },
   "source": [
    "![python.exe](https://drive.google.com/uc?id=1hxiZs17PUa_eaGKQ8uqkFnsyWJvDiJ-P)"
   ]
  },
  {
   "cell_type": "markdown",
   "id": "5baf40e8",
   "metadata": {
    "id": "5baf40e8"
   },
   "source": [
    "**Let's take another look at the list of installed packages in the environment:**"
   ]
  },
  {
   "cell_type": "code",
   "execution_count": null,
   "id": "19cf38e9",
   "metadata": {
    "id": "19cf38e9"
   },
   "outputs": [],
   "source": [
    "pip list"
   ]
  },
  {
   "cell_type": "markdown",
   "id": "5d3104ff",
   "metadata": {
    "id": "5d3104ff"
   },
   "source": [
    "![python.exe](https://drive.google.com/uc?id=18c7MXQs_onmLxTjTyhp4ayLlYm78iiDJ)"
   ]
  },
  {
   "cell_type": "markdown",
   "id": "8be41841",
   "metadata": {
    "id": "8be41841"
   },
   "source": [
    "**When installing the Pandas package, other prerequisite packages necessary for the package to work are automatically installed as well.**"
   ]
  },
  {
   "cell_type": "markdown",
   "id": "61c2b1f0",
   "metadata": {
    "id": "61c2b1f0"
   },
   "source": [
    "<a id=\"toc\"></a>\n",
    "\n",
    "### <p style=\"background-color:#117A65; font-family:newtimeroman; color:#FFF9ED; font-size:175%; text-align:center; border-radius:10px 10px;\">Reproducing operation</p>"
   ]
  },
  {
   "cell_type": "markdown",
   "id": "2f02de54",
   "metadata": {
    "id": "2f02de54"
   },
   "source": [
    "**You need to list all the dependencies installed in the project's virtual environment so that your colleague can create the same environment in their system.**\n",
    "\n",
    "**To get the list of installed packages in requirements format, you can use the following command:**"
   ]
  },
  {
   "cell_type": "code",
   "execution_count": null,
   "id": "f99cf967",
   "metadata": {
    "id": "f99cf967"
   },
   "outputs": [],
   "source": [
    "pip freeze"
   ]
  },
  {
   "cell_type": "markdown",
   "id": "b65e186e",
   "metadata": {
    "id": "b65e186e"
   },
   "source": [
    "![python.exe](https://drive.google.com/uc?id=1seq2ZLgC5qCpeuEd2WZQIsEirX1KBZXy)"
   ]
  },
  {
   "cell_type": "markdown",
   "id": "530b138d",
   "metadata": {
    "id": "530b138d"
   },
   "source": [
    "**The next step is to transfer the package list to a \"requirements.txt\" file and send it as a text file to your colleague.\"**"
   ]
  },
  {
   "cell_type": "code",
   "execution_count": null,
   "id": "092d01b5",
   "metadata": {
    "id": "092d01b5"
   },
   "outputs": [],
   "source": [
    "# To save the list in the current folder as a 'requirements.txt' file:.\n",
    "\n",
    "pip freeze > requirements.txt  "
   ]
  },
  {
   "cell_type": "code",
   "execution_count": null,
   "id": "fcdd9bf7",
   "metadata": {
    "id": "fcdd9bf7"
   },
   "outputs": [],
   "source": [
    "notepad requirements.txt  # {for windows.. Open notepad and display the file content.}\n",
    "\n",
    "cat requirements.txt  # {for linux.. } "
   ]
  },
  {
   "cell_type": "markdown",
   "id": "5ea067a8",
   "metadata": {
    "id": "5ea067a8"
   },
   "source": [
    "![python.exe](https://drive.google.com/uc?id=1j5fgodX4TeCyInLbqmIfr7EPqrBJtI2H)"
   ]
  },
  {
   "cell_type": "markdown",
   "id": "a503a444",
   "metadata": {
    "id": "a503a444"
   },
   "source": [
    "**Actions that your colleague will perform:**"
   ]
  },
  {
   "cell_type": "code",
   "execution_count": null,
   "id": "0a199975",
   "metadata": {
    "id": "0a199975"
   },
   "outputs": [],
   "source": [
    "python -m venv myfriend_env\n",
    "\n",
    ".\\myfriend\\Scripts\\activate\n",
    "\n",
    "# to install all necessary packages \n",
    "pip install -r requirements.txt"
   ]
  },
  {
   "cell_type": "markdown",
   "id": "45c29573",
   "metadata": {
    "id": "45c29573"
   },
   "source": [
    "![python.exe](https://drive.google.com/uc?id=11hLK_q348IjwPvVo5U9-l-keBbe8Stnf)"
   ]
  },
  {
   "cell_type": "markdown",
   "id": "becc9d89",
   "metadata": {
    "id": "becc9d89"
   },
   "source": [
    "## Warning !!"
   ]
  },
  {
   "cell_type": "markdown",
   "id": "0b287856",
   "metadata": {
    "id": "0b287856"
   },
   "source": [
    "**If you are adding the project to a Git repository, do not include the virtual environment folder in the repository. Only include the requirements.txt file.**\n",
    "\n",
    "**A Python project folder is a folder that contains your source code. It includes the code that runs on the virtual environment you have selected for the project.**\n",
    "\n",
    "**A virtual environment is a folder that contains the Python interpreter, packages, and tools like pip.**\n",
    "\n",
    "**Therefore, IT IS NECESSARY TO KEEP THESE SEPARATE.**\n",
    "\n",
    "**Project files should not be placed in a virtual environment folder.**"
   ]
  },
  {
   "cell_type": "markdown",
   "id": "4266054c",
   "metadata": {
    "id": "4266054c"
   },
   "source": [
    "<a id=\"toc\"></a>\n",
    "\n",
    "### <p style=\"background-color:#117A65; font-family:newtimeroman; color:#FFF9ED; font-size:175%; text-align:center; border-radius:10px 10px;\">Deactivation and environment removal processes.</p>"
   ]
  },
  {
   "cell_type": "markdown",
   "id": "c8259a42",
   "metadata": {
    "id": "c8259a42"
   },
   "source": [
    "**When we have finished working on the virtual environment or want to switch to another virtual environment, we deactivate the virtual environment to disable it.**"
   ]
  },
  {
   "cell_type": "code",
   "execution_count": null,
   "id": "0ee5468b",
   "metadata": {
    "id": "0ee5468b"
   },
   "outputs": [],
   "source": [
    "deactivate"
   ]
  },
  {
   "cell_type": "markdown",
   "id": "af97d9bc",
   "metadata": {
    "id": "af97d9bc"
   },
   "source": [
    "**To remove a virtual environment, we simply delete its folder.**"
   ]
  },
  {
   "cell_type": "code",
   "execution_count": null,
   "id": "d5f0225d",
   "metadata": {
    "id": "d5f0225d"
   },
   "outputs": [],
   "source": [
    "rmdir /s projem  # {for windows}\n",
    "\n",
    "rm -rf projem  # {for linux}\n",
    "\n",
    "# rmdir /s projem   \n",
    "# rm -rf projem/projem_env "
   ]
  },
  {
   "cell_type": "markdown",
   "id": "325b460a",
   "metadata": {
    "id": "325b460a"
   },
   "source": [
    "![python.exe](https://drive.google.com/uc?id=10CEBE78WtysBM2UE6E4Kkg9s3NLuacxd)"
   ]
  },
  {
   "cell_type": "markdown",
   "id": "ba202505",
   "metadata": {
    "id": "ba202505"
   },
   "source": [
    "**rmdir: Deletes a directory.** \n",
    "\n",
    "**/s :\tRecursively deletes the specified directory and all files including all subdirectories.**\n",
    "\n",
    "**/q :\tSpecifies the silent mode. Does not prompt for confirmation when deleting a folder.**\n",
    "\n",
    "**(The /q parameter only works when the /s parameter is used.)**\n",
    "\n",
    "**WARNING: When you run in /q mode, all folders will be deleted without confirmation, so make sure to move or back up important files before using this option.**"
   ]
  },
  {
   "cell_type": "markdown",
   "id": "d4c359b9",
   "metadata": {
    "id": "d4c359b9"
   },
   "source": [
    "<a id=\"toc\"></a>\n",
    "\n",
    "## <p style=\"background-color:#9d4f8c; font-family:newtimeroman; color:#FFF9ED; font-size:175%; text-align:center; border-radius:10px 10px;\">Anaconda Virtual Environment Operations</p>"
   ]
  },
  {
   "cell_type": "markdown",
   "id": "bb1fe511",
   "metadata": {
    "id": "bb1fe511"
   },
   "source": [
    "**[Conda official document - Conda commands](https://docs.conda.io/projects/conda/en/latest/commands.html)**"
   ]
  },
  {
   "cell_type": "markdown",
   "id": "44694aee",
   "metadata": {
    "id": "44694aee"
   },
   "source": [
    "**In Anaconda, package versions are managed by \"CONDA\", a package management system.**\n",
    " \n",
    "**CONDA COMMAND PROMPT: It is an interface for managing installations and virtual environments with the Anaconda Python distribution.**"
   ]
  },
  {
   "cell_type": "markdown",
   "id": "80755575",
   "metadata": {
    "id": "80755575"
   },
   "source": [
    "<a id=\"toc\"></a>\n",
    "\n",
    "### <p style=\"background-color:#117A65; font-family:newtimeroman; color:#FFF9ED; font-size:175%; text-align:center; border-radius:10px 10px;\">Step 1: We are checking whether Conda is installed in the path.</p>"
   ]
  },
  {
   "cell_type": "markdown",
   "id": "8623f99a",
   "metadata": {
    "id": "8623f99a"
   },
   "source": [
    "![python.exe](https://drive.google.com/uc?id=1fkxi8ZYkBObMkZ-fFZiWahO2Sex7uAZs)"
   ]
  },
  {
   "cell_type": "markdown",
   "id": "043f90f3",
   "metadata": {
    "id": "043f90f3"
   },
   "source": [
    "**1. We open the Anaconda Prompt from the Start menu.**\n",
    "\n",
    "**2. We can also launch \"CMD.exe prompt\" from Anaconda Navigator.** "
   ]
  },
  {
   "cell_type": "markdown",
   "id": "d8f690ea",
   "metadata": {
    "id": "d8f690ea"
   },
   "source": [
    "![python.exe](https://drive.google.com/uc?id=14KMEYMaanAblp0uS670efzzXnJFQwKee)"
   ]
  },
  {
   "cell_type": "markdown",
   "id": "c64df770",
   "metadata": {
    "id": "c64df770"
   },
   "source": [
    "**To see the version of Conda:**"
   ]
  },
  {
   "cell_type": "code",
   "execution_count": null,
   "id": "371de80c",
   "metadata": {
    "id": "371de80c"
   },
   "outputs": [],
   "source": [
    "conda -V "
   ]
  },
  {
   "cell_type": "markdown",
   "id": "7916c92a",
   "metadata": {
    "id": "7916c92a"
   },
   "source": [
    "![python.exe](https://drive.google.com/uc?id=1nKsNz3mwbtB3Q6KuGCoDRL6SZ6LVkCVA)"
   ]
  },
  {
   "cell_type": "markdown",
   "id": "dab8736a",
   "metadata": {
    "id": "dab8736a"
   },
   "source": [
    "**To get detailed information about the installed Conda:**"
   ]
  },
  {
   "cell_type": "code",
   "execution_count": null,
   "id": "60d33f04",
   "metadata": {
    "id": "60d33f04"
   },
   "outputs": [],
   "source": [
    "conda info"
   ]
  },
  {
   "cell_type": "markdown",
   "id": "4ccf4cd5",
   "metadata": {
    "id": "4ccf4cd5"
   },
   "source": [
    "![python.exe](https://drive.google.com/uc?id=16aXz1GyNlGmuM2kmJZ9n_T5Au-E3qWZ8)"
   ]
  },
  {
   "cell_type": "markdown",
   "id": "2dddc57a",
   "metadata": {
    "id": "2dddc57a"
   },
   "source": [
    "<a id=\"toc\"></a>\n",
    "\n",
    "### <p style=\"background-color:#117A65; font-family:newtimeroman; color:#FFF9ED; font-size:175%; text-align:center; border-radius:10px 10px;\">Step 2: We are updating the Conda version.</p>"
   ]
  },
  {
   "cell_type": "markdown",
   "id": "6f77b44b",
   "metadata": {
    "id": "6f77b44b"
   },
   "source": [
    "**To update the Conda version:**"
   ]
  },
  {
   "cell_type": "code",
   "execution_count": null,
   "id": "e8ae4563",
   "metadata": {
    "id": "e8ae4563"
   },
   "outputs": [],
   "source": [
    "conda update conda"
   ]
  },
  {
   "cell_type": "markdown",
   "id": "5c5b748c",
   "metadata": {
    "id": "5c5b748c"
   },
   "source": [
    "![python.exe](https://drive.google.com/uc?id=1-135EeF1tT8djHi_S0hSjlAEkLLvgPYU)"
   ]
  },
  {
   "cell_type": "markdown",
   "id": "a028a33c",
   "metadata": {
    "id": "a028a33c"
   },
   "source": [
    "**press \"y\"**"
   ]
  },
  {
   "cell_type": "markdown",
   "id": "d2f0b2fc",
   "metadata": {
    "id": "d2f0b2fc"
   },
   "source": [
    "![python.exe](https://drive.google.com/uc?id=1USfP2nZKb-Y26NiHKv17zau8Niixh3ud)"
   ]
  },
  {
   "cell_type": "markdown",
   "id": "faeb4655",
   "metadata": {
    "id": "faeb4655"
   },
   "source": [
    "<a id=\"toc\"></a>\n",
    "\n",
    "### <p style=\"background-color:#117A65; font-family:newtimeroman; color:#FFF9ED; font-size:175%; text-align:center; border-radius:10px 10px;\">Step 3: We are creating the virtual environment using \"create\"</p>"
   ]
  },
  {
   "cell_type": "markdown",
   "id": "1217215e",
   "metadata": {
    "id": "1217215e"
   },
   "source": [
    "**1. First, we create a Project folder.**\n",
    "\n",
    "**2. We copy all the necessary files related to the project into this folder.**\n",
    "\n",
    "**3. We install the environment inside the Project folder.**\n",
    "\n",
    "**4. Ultimately, we have a \"Project folder\" and an \"Environment folder\".**\n",
    "\n"
   ]
  },
  {
   "cell_type": "markdown",
   "id": "06b7a023",
   "metadata": {
    "id": "06b7a023"
   },
   "source": [
    "**To see the list of available Python versions:**"
   ]
  },
  {
   "cell_type": "code",
   "execution_count": null,
   "id": "66e423bf",
   "metadata": {
    "id": "66e423bf"
   },
   "outputs": [],
   "source": [
    "conda search “^python$” "
   ]
  },
  {
   "cell_type": "markdown",
   "id": "c9d7bedb",
   "metadata": {
    "id": "c9d7bedb"
   },
   "source": [
    "![python.exe](https://drive.google.com/uc?id=1d_7QzYj3ahLknkc9cAJWBEEeBGUMlwyB)"
   ]
  },
  {
   "cell_type": "markdown",
   "id": "5be8e1d0",
   "metadata": {
    "id": "5be8e1d0"
   },
   "source": [
    "**Let's create a project folder named \"projem2\":**"
   ]
  },
  {
   "cell_type": "markdown",
   "id": "5b8c7f9e",
   "metadata": {
    "id": "5b8c7f9e"
   },
   "source": [
    "![python.exe](https://drive.google.com/uc?id=1Tz48u-MW6k-JwlHGqBBgwQZThlmnDJT1)"
   ]
  },
  {
   "cell_type": "markdown",
   "id": "bb62b5a4",
   "metadata": {
    "id": "bb62b5a4"
   },
   "source": [
    "**Let's create an environment named \"myenv\" with the desired Python version:**"
   ]
  },
  {
   "cell_type": "code",
   "execution_count": null,
   "id": "be164313",
   "metadata": {
    "id": "be164313"
   },
   "outputs": [],
   "source": [
    "conda create --name myenv  # OR; \n",
    "\n",
    "conda create -n ENV_NAME python=x.x anaconda"
   ]
  },
  {
   "cell_type": "markdown",
   "id": "6d1c2928",
   "metadata": {
    "id": "6d1c2928"
   },
   "source": [
    "![python.exe](https://drive.google.com/uc?id=1A47kZ-M0GRs-a3Nfp20O2YtnCQfd6Jnp)"
   ]
  },
  {
   "cell_type": "markdown",
   "id": "d8f8aebe",
   "metadata": {
    "id": "d8f8aebe"
   },
   "source": [
    "![python.exe](https://drive.google.com/uc?id=1I7ZfbYIv8MtCYDNJtSyz6XQ2vK78dF14)"
   ]
  },
  {
   "cell_type": "markdown",
   "id": "31bf74ce",
   "metadata": {
    "id": "31bf74ce"
   },
   "source": [
    "![python.exe](https://drive.google.com/uc?id=1FvOnGeY41E2GBUPvnAQesKZN2KqjHXF_)"
   ]
  },
  {
   "cell_type": "markdown",
   "id": "6f775ed2",
   "metadata": {
    "id": "6f775ed2"
   },
   "source": [
    "![python.exe](https://drive.google.com/uc?id=1sxnarbeL0BA3J1GWAwD3oevZsOcWami3)"
   ]
  },
  {
   "cell_type": "markdown",
   "id": "db793e8e",
   "metadata": {
    "id": "db793e8e"
   },
   "source": [
    "# Alternative commands for creating an environment:"
   ]
  },
  {
   "cell_type": "markdown",
   "id": "f143b3ea",
   "metadata": {
    "id": "f143b3ea"
   },
   "source": [
    "#### Just to create an environment:"
   ]
  },
  {
   "cell_type": "code",
   "execution_count": null,
   "id": "87c8cce5",
   "metadata": {
    "id": "87c8cce5"
   },
   "outputs": [],
   "source": [
    "conda create --name ENV_NAME"
   ]
  },
  {
   "cell_type": "markdown",
   "id": "fd3a36bb",
   "metadata": {
    "id": "fd3a36bb"
   },
   "source": [
    "#### To create an environment with a specific Python version:"
   ]
  },
  {
   "cell_type": "code",
   "execution_count": null,
   "id": "58576a27",
   "metadata": {
    "id": "58576a27"
   },
   "outputs": [],
   "source": [
    "conda create -n ENV_NAME python=3.9"
   ]
  },
  {
   "cell_type": "markdown",
   "id": "14f92e57",
   "metadata": {
    "id": "14f92e57"
   },
   "source": [
    "#### To create an environment with a specific package:"
   ]
  },
  {
   "cell_type": "code",
   "execution_count": null,
   "id": "85974cbb",
   "metadata": {
    "id": "85974cbb"
   },
   "outputs": [],
   "source": [
    "conda create -n ENV_NAME scipy\n",
    "\n",
    "# OR:\n",
    "    \n",
    "conda create -n ENV_NAME python\n",
    "conda install -n ENV_NAME scipy"
   ]
  },
  {
   "cell_type": "markdown",
   "id": "40bdb5e6",
   "metadata": {
    "id": "40bdb5e6"
   },
   "source": [
    "#### To create an environment with a specific version of a package:"
   ]
  },
  {
   "cell_type": "code",
   "execution_count": null,
   "id": "b09bb8ec",
   "metadata": {
    "id": "b09bb8ec"
   },
   "outputs": [],
   "source": [
    "conda create -n ENV_NAME scipy=0.17.3"
   ]
  },
  {
   "cell_type": "markdown",
   "id": "ab776c4a",
   "metadata": {
    "id": "ab776c4a"
   },
   "source": [
    "#### To create an environment with multiple packages along with a specific version of Python:"
   ]
  },
  {
   "cell_type": "code",
   "execution_count": null,
   "id": "dc05fe15",
   "metadata": {
    "id": "dc05fe15"
   },
   "outputs": [],
   "source": [
    "conda create -n ENV_NAME python=3.9 scipy=0.17.3 seaborn pandas"
   ]
  },
  {
   "cell_type": "markdown",
   "id": "5dd18143",
   "metadata": {
    "id": "5dd18143"
   },
   "source": [
    "### Note! Install all the programs you want in an environment at the same time. Installing programs one by one can lead to dependency conflicts!"
   ]
  },
  {
   "cell_type": "markdown",
   "id": "ff4baa17",
   "metadata": {
    "id": "ff4baa17"
   },
   "source": [
    "<a id=\"toc\"></a>\n",
    "\n",
    "### <p style=\"background-color:#117A65; font-family:newtimeroman; color:#FFF9ED; font-size:175%; text-align:center; border-radius:10px 10px;\">Step 4: Activate the environment</p>"
   ]
  },
  {
   "cell_type": "markdown",
   "id": "2fdd015b",
   "metadata": {
    "id": "2fdd015b"
   },
   "source": [
    "**If we want to see a list of all available environments before activating them:**"
   ]
  },
  {
   "cell_type": "code",
   "execution_count": null,
   "id": "5018d5d4",
   "metadata": {
    "id": "5018d5d4"
   },
   "outputs": [],
   "source": [
    "conda info -e\n",
    "\n",
    "# OR :\n",
    "    \n",
    "conda env list "
   ]
  },
  {
   "cell_type": "markdown",
   "id": "eaab4106",
   "metadata": {
    "id": "eaab4106"
   },
   "source": [
    "![python.exe](https://drive.google.com/uc?id=1k1WapIfgn6BaQxJBIv1XgpBYz9izbcL8)"
   ]
  },
  {
   "cell_type": "markdown",
   "id": "7708f5e0",
   "metadata": {
    "id": "7708f5e0"
   },
   "source": [
    "**2. to activate the environment:**"
   ]
  },
  {
   "cell_type": "code",
   "execution_count": null,
   "id": "4f7408a3",
   "metadata": {
    "id": "4f7408a3"
   },
   "outputs": [],
   "source": [
    "conda activate ENV_NAME\n",
    "\n",
    "source activate ENV_NAME # {for linux systems}"
   ]
  },
  {
   "cell_type": "markdown",
   "id": "9f76e702",
   "metadata": {
    "id": "9f76e702"
   },
   "source": [
    "![python.exe](https://drive.google.com/uc?id=1Ic_eWnb4Yx0_hjJF9Ljhk_H7I9QOmkWX)"
   ]
  },
  {
   "cell_type": "markdown",
   "id": "e6d3074a",
   "metadata": {
    "id": "e6d3074a"
   },
   "source": [
    "**Note! We now see the name of the activated environment at the beginning of the command line.**"
   ]
  },
  {
   "cell_type": "markdown",
   "id": "44715ee3",
   "metadata": {
    "id": "44715ee3"
   },
   "source": [
    "<a id=\"toc\"></a>\n",
    "\n",
    "### <p style=\"background-color:#117A65; font-family:newtimeroman; color:#FFF9ED; font-size:175%; text-align:center; border-radius:10px 10px;\">Step 5: Installing the required packages to the virtual environment</p>"
   ]
  },
  {
   "cell_type": "markdown",
   "id": "34d11d0d",
   "metadata": {
    "id": "34d11d0d"
   },
   "source": [
    "**To install additional packages to the environment:**"
   ]
  },
  {
   "cell_type": "code",
   "execution_count": null,
   "id": "e39680bf",
   "metadata": {
    "id": "e39680bf"
   },
   "outputs": [],
   "source": [
    "conda install PACKAGE_NAME       #  {if the environment is activated} or;\n",
    "\n",
    "conda install -n ENV_NAME PACKAGE_NAME   # {if the environment is not activated}"
   ]
  },
  {
   "cell_type": "markdown",
   "id": "359fa832",
   "metadata": {
    "id": "359fa832"
   },
   "source": [
    "![python.exe](https://drive.google.com/uc?id=1TdGMoGBn9xRS2D6sm_BMZjJwTdeHE2UJ)"
   ]
  },
  {
   "cell_type": "markdown",
   "id": "c839b17f",
   "metadata": {
    "id": "c839b17f"
   },
   "source": [
    "**Note! When installing the tensorflow package, we can see the packages that will be updated and downgraded along with the package that is being installed.**"
   ]
  },
  {
   "cell_type": "markdown",
   "id": "24a06177",
   "metadata": {
    "id": "24a06177"
   },
   "source": [
    "![python.exe](https://drive.google.com/uc?id=1p1qOZy2oXQxVWkcSRkx8pSKUYZkOU_TA)"
   ]
  },
  {
   "cell_type": "markdown",
   "id": "dfe6e8cc",
   "metadata": {
    "id": "dfe6e8cc"
   },
   "source": [
    "**If you try to install a package that is already installed:**"
   ]
  },
  {
   "cell_type": "markdown",
   "id": "c76b54e7",
   "metadata": {
    "id": "c76b54e7"
   },
   "source": [
    "![python.exe](https://drive.google.com/uc?id=1V3eZoCtBCCNAJ2oQCQBPanBXrANaJk41)"
   ]
  },
  {
   "cell_type": "markdown",
   "id": "23c931d6",
   "metadata": {
    "id": "23c931d6"
   },
   "source": [
    "**If you try to install a package that is not available in Anaconda, you will receive the following message:**"
   ]
  },
  {
   "cell_type": "markdown",
   "id": "24f896ea",
   "metadata": {
    "id": "24f896ea"
   },
   "source": [
    "![python.exe](https://drive.google.com/uc?id=1hl3YaDoFK_QGsQYAixGe_GIwYRYp1pPh)"
   ]
  },
  {
   "cell_type": "markdown",
   "id": "61025586",
   "metadata": {
    "id": "61025586"
   },
   "source": [
    "<a id=\"toc\"></a>\n",
    "\n",
    "### <p style=\"background-color:#CD5C5C; font-family:newtimeroman; color:#FFF9ED; font-size:175%; text-align:center; border-radius:10px 10px;\">Caution when installing packages with \"pip\" in conda! </p>"
   ]
  },
  {
   "cell_type": "markdown",
   "id": "32e7ec36",
   "metadata": {
    "id": "32e7ec36"
   },
   "source": [
    "**NOTE: Since Conda may not spend enough effort on some packages, you may need to use \"pip\" instead of \"conda\" to install those packages.** "
   ]
  },
  {
   "cell_type": "code",
   "execution_count": null,
   "id": "165a615e",
   "metadata": {
    "id": "165a615e"
   },
   "outputs": [],
   "source": [
    "# In this case, we first enter the following command in the conda command prompt :\n",
    "\n",
    "conda install pip  # Install the pip package with this command. Then:\n",
    "\n",
    "pip install PACKAGE_NAME  # Install the package you want using \"pip\" with this command."
   ]
  },
  {
   "cell_type": "markdown",
   "id": "472dd068",
   "metadata": {
    "id": "472dd068"
   },
   "source": [
    "**However, in this case, you cannot benefit from Conda's feature of checking compatibility with other packages and correcting incompatibility (with update and downgrade) during package installation.!!**\n",
    "\n",
    "**So when installing with pip; You have to check if the version you are going to install is compatible with all other packages in your environment..** "
   ]
  },
  {
   "cell_type": "markdown",
   "id": "fc7ca82e",
   "metadata": {
    "id": "fc7ca82e"
   },
   "source": [
    "<a id=\"toc\"></a>\n",
    "\n",
    "### <p style=\"background-color:#CD5C5C; font-family:newtimeroman; color:#FFF9ED; font-size:175%; text-align:center; border-radius:10px 10px;\">\"Conda Forge\" Github Organization</p>"
   ]
  },
  {
   "cell_type": "markdown",
   "id": "a725f80c",
   "metadata": {
    "id": "a725f80c"
   },
   "source": [
    "**conda-forge is a GitHub organization containing repositories of conda recipes.**\n",
    "\n",
    "**The built distributions are uploaded to [anaconda.org/conda-forge](https://anaconda.org/conda-forge) and can be installed with conda.**"
   ]
  },
  {
   "cell_type": "code",
   "execution_count": null,
   "id": "8f090a91",
   "metadata": {
    "id": "8f090a91"
   },
   "outputs": [],
   "source": [
    "# installing \"tensorflow\" package by conda forge:\n",
    "\n",
    "conda install -c conda-forge tensorflow"
   ]
  },
  {
   "cell_type": "markdown",
   "id": "55ee87c2",
   "metadata": {
    "id": "55ee87c2"
   },
   "source": [
    "![python.exe](https://drive.google.com/uc?id=1Dr-cBFX5IILF1w9GQ5ks6Y48vjd0Eoxt)"
   ]
  },
  {
   "cell_type": "markdown",
   "id": "c27c299c",
   "metadata": {
    "id": "c27c299c"
   },
   "source": [
    "<a id=\"toc\"></a>\n",
    "\n",
    "### <p style=\"background-color:#117A65; font-family:newtimeroman; color:#FFF9ED; font-size:175%; text-align:center; border-radius:10px 10px;\">Step 6: View installed packages & Update a package:</p>"
   ]
  },
  {
   "cell_type": "markdown",
   "id": "51cbd78a",
   "metadata": {
    "id": "51cbd78a"
   },
   "source": [
    "**1. To see installed packages:**"
   ]
  },
  {
   "cell_type": "code",
   "execution_count": null,
   "id": "8302e0a7",
   "metadata": {
    "id": "8302e0a7"
   },
   "outputs": [],
   "source": [
    "conda list  # if environment is active\n",
    "\n",
    "conda list -n ENV_NAME   # if environment is not active"
   ]
  },
  {
   "cell_type": "markdown",
   "id": "1ed553b9",
   "metadata": {
    "id": "1ed553b9"
   },
   "source": [
    "![python.exe](https://drive.google.com/uc?id=1C9LrlP0CxOr2PxOeq-eX63FJOQEkhxCb)"
   ]
  },
  {
   "cell_type": "markdown",
   "id": "a12ad935",
   "metadata": {
    "id": "a12ad935"
   },
   "source": [
    "**2. To see if a particular package is installed:**"
   ]
  },
  {
   "cell_type": "code",
   "execution_count": null,
   "id": "03f1b325",
   "metadata": {
    "id": "03f1b325"
   },
   "outputs": [],
   "source": [
    "conda list scipy      # if environment is active\n",
    "\n",
    "conda list -n ENV_NAME scipy   # if environment is not active"
   ]
  },
  {
   "cell_type": "markdown",
   "id": "5555d9c6",
   "metadata": {
    "id": "5555d9c6"
   },
   "source": [
    "![python.exe](https://drive.google.com/uc?id=1-pM3QgtDcANToznjNDi5qmbSxok6rd_S)"
   ]
  },
  {
   "cell_type": "markdown",
   "id": "23dae04f",
   "metadata": {
    "id": "23dae04f"
   },
   "source": [
    "**3. To UPDATE a package:**"
   ]
  },
  {
   "cell_type": "code",
   "execution_count": null,
   "id": "2a49d772",
   "metadata": {
    "id": "2a49d772"
   },
   "outputs": [],
   "source": [
    "conda update PACKAGE_NAME"
   ]
  },
  {
   "cell_type": "markdown",
   "id": "094bf276",
   "metadata": {
    "id": "094bf276"
   },
   "source": [
    "![python.exe](https://drive.google.com/uc?id=1YCzYE_7zyfgR5nufnjfAUSM8ha5hv_au)"
   ]
  },
  {
   "cell_type": "markdown",
   "id": "565697a1",
   "metadata": {
    "id": "565697a1"
   },
   "source": [
    "<a id=\"toc\"></a>\n",
    "\n",
    "### <p style=\"background-color:#117A65; font-family:newtimeroman; color:#FFF9ED; font-size:175%; text-align:center; border-radius:10px 10px;\">Step 7: Deactivating Environment:</p>"
   ]
  },
  {
   "cell_type": "code",
   "execution_count": null,
   "id": "54fed533",
   "metadata": {
    "id": "54fed533"
   },
   "outputs": [],
   "source": [
    "conda deactivate  # {for windows}\n",
    "\n",
    "source deactivate  # {for linux}"
   ]
  },
  {
   "cell_type": "markdown",
   "id": "10a1ae17",
   "metadata": {
    "id": "10a1ae17"
   },
   "source": [
    "![python.exe](https://drive.google.com/uc?id=1BgliEbOV71MM9vnd4hpE5tpWQ1--fAz1)"
   ]
  },
  {
   "cell_type": "markdown",
   "id": "9952597e",
   "metadata": {
    "id": "9952597e"
   },
   "source": [
    "**Note! The name of environment at the beginning of the command line no longer exists.**"
   ]
  },
  {
   "cell_type": "markdown",
   "id": "7ae44324",
   "metadata": {
    "id": "7ae44324"
   },
   "source": [
    "<a id=\"toc\"></a>\n",
    "\n",
    "### <p style=\"background-color:#117A65; font-family:newtimeroman; color:#FFF9ED; font-size:175%; text-align:center; border-radius:10px 10px;\">Step 8: Deleting Environment:</p>"
   ]
  },
  {
   "cell_type": "markdown",
   "id": "f0369ab9",
   "metadata": {
    "id": "f0369ab9"
   },
   "source": [
    "**To remove the environment you no longer need:**"
   ]
  },
  {
   "cell_type": "code",
   "execution_count": null,
   "id": "7965d62c",
   "metadata": {
    "id": "7965d62c"
   },
   "outputs": [],
   "source": [
    "conda env remove -n ENV_NAME"
   ]
  },
  {
   "cell_type": "markdown",
   "id": "e8a97a1a",
   "metadata": {
    "id": "e8a97a1a"
   },
   "source": [
    "![python.exe](https://drive.google.com/uc?id=1aztjNu0wW9CCpv58KVaRCUXV32ey2KTR)"
   ]
  },
  {
   "cell_type": "markdown",
   "id": "7def7085",
   "metadata": {
    "id": "7def7085"
   },
   "source": [
    "**To check if it has been removed:**"
   ]
  },
  {
   "cell_type": "code",
   "execution_count": null,
   "id": "2350c620",
   "metadata": {
    "id": "2350c620"
   },
   "outputs": [],
   "source": [
    "conda info -e "
   ]
  },
  {
   "cell_type": "markdown",
   "id": "74451f93",
   "metadata": {
    "id": "74451f93"
   },
   "source": [
    "![python.exe](https://drive.google.com/uc?id=1HlqOWTjle0tFD8lMjkKxafJ4zk8t1BVJ)"
   ]
  },
  {
   "cell_type": "markdown",
   "id": "3e9cd481",
   "metadata": {
    "id": "3e9cd481"
   },
   "source": [
    "**For help with the \"remove\" command:**"
   ]
  },
  {
   "cell_type": "code",
   "execution_count": null,
   "id": "9a8ed7d0",
   "metadata": {
    "id": "9a8ed7d0"
   },
   "outputs": [],
   "source": [
    "conda remove -h"
   ]
  },
  {
   "cell_type": "markdown",
   "id": "d201730d",
   "metadata": {
    "id": "d201730d"
   },
   "source": [
    "<a id=\"toc\"></a>\n",
    "\n",
    "### <p style=\"background-color:#CD5C5C; font-family:newtimeroman; color:#FFF9ED; font-size:175%; text-align:center; border-radius:10px 10px;\">\"Conda clean --all\" command:</p>"
   ]
  },
  {
   "cell_type": "markdown",
   "id": "3d6b0bbb",
   "metadata": {
    "id": "3d6b0bbb"
   },
   "source": [
    "**To remove unused packages and caches from your Anaconda that swells over time and takes up unnecessarily large spaces :**"
   ]
  },
  {
   "cell_type": "code",
   "execution_count": null,
   "id": "cf49c9f1",
   "metadata": {
    "id": "cf49c9f1"
   },
   "outputs": [],
   "source": [
    "conda clean -all  (conda clean -a)"
   ]
  },
  {
   "cell_type": "markdown",
   "id": "656c2b48",
   "metadata": {
    "id": "656c2b48"
   },
   "source": [
    "**[Link - For other flags used with this command](https://docs.conda.io/projects/conda/en/latest/commands/clean.html)**"
   ]
  },
  {
   "cell_type": "markdown",
   "id": "235fc372",
   "metadata": {
    "id": "235fc372"
   },
   "source": [
    "<a id=\"toc\"></a>\n",
    "\n",
    "## <p style=\"background-color:#117A65; font-family:newtimeroman; color:#FFF9ED; font-size:175%; text-align:center; border-radius:10px 10px;\">Environment operations in Anaconda Navigator:</p>"
   ]
  },
  {
   "cell_type": "markdown",
   "id": "1bae4e4f",
   "metadata": {
    "id": "1bae4e4f"
   },
   "source": [
    "**Anaconda runs on base-root by default unless you change it.**\n",
    "\n",
    "**The Jupyter Lab or Jupyter Notebook that you open via Anaconda will run in the currently active virtual environment. The packages you install with the pip install command on your notebook are only installed in that environement** "
   ]
  },
  {
   "cell_type": "markdown",
   "id": "c7f96db0",
   "metadata": {
    "id": "c7f96db0"
   },
   "source": [
    "![python.exe](https://drive.google.com/uc?id=1iKJYHNBMiZTqnhUvroHjUehpQ--QD6wG)"
   ]
  },
  {
   "cell_type": "markdown",
   "id": "2e26bf89",
   "metadata": {
    "id": "2e26bf89"
   },
   "source": [
    "## Creating environment in Anaconda Navigator:"
   ]
  },
  {
   "cell_type": "markdown",
   "id": "a443498a",
   "metadata": {
    "id": "a443498a"
   },
   "source": [
    "![python.exe](https://drive.google.com/uc?id=1Q97LytK4glUrDiHC8AYzhJURrsqj7ame)"
   ]
  },
  {
   "cell_type": "markdown",
   "id": "10cc3bb1",
   "metadata": {
    "id": "10cc3bb1"
   },
   "source": [
    "<a id=\"toc\"></a>\n",
    "\n",
    "## <p style=\"background-color:#9d4f8c; font-family:newtimeroman; color:#FFF9ED; font-size:175%; text-align:center; border-radius:10px 10px;\">Creating a Custom Environment for a Jupyter Kernel</p>"
   ]
  },
  {
   "cell_type": "markdown",
   "id": "c8cbf4ad",
   "metadata": {
    "id": "c8cbf4ad"
   },
   "source": [
    "### There are several reasons why you might want to create a kernel-specific environment in Jupyter Notebook:\n",
    "\n",
    "**Reproducibility:** Creating a kernel-specific environment ensures that your code runs in the same environment every time, regardless of the packages or dependencies installed on your system.\n",
    "\n",
    "**Dependency Management:** If your project requires specific versions of packages, you can create a kernel-specific environment that includes only those versions. This helps to avoid conflicts with other packages installed on your system.\n",
    "\n",
    "**Isolation:** Creating a kernel-specific environment allows you to isolate your project from the global Python environment on your system. This can help to avoid unexpected interactions with other packages or system configurations.\n",
    "\n",
    "**Portability:** If you need to share your code with others, creating a kernel-specific environment ensures that the necessary dependencies are included and can be easily installed on other systems."
   ]
  },
  {
   "cell_type": "markdown",
   "id": "860437cd",
   "metadata": {
    "id": "860437cd"
   },
   "source": [
    "### If you want to use a custom environment for a kernel in Jupyter Notebook, you can follow the steps below:"
   ]
  },
  {
   "cell_type": "markdown",
   "id": "c3860947",
   "metadata": {
    "id": "c3860947"
   },
   "source": [
    "<a id=\"toc\"></a>\n",
    "\n",
    "### <p style=\"background-color:#117A65; font-family:newtimeroman; color:#FFF9ED; font-size:175%; text-align:center; border-radius:10px 10px;\">Step 1: Create a new Conda environment:</p>"
   ]
  },
  {
   "cell_type": "markdown",
   "id": "8dac59c1",
   "metadata": {
    "id": "8dac59c1"
   },
   "source": [
    "**If you are inside the directory where you want to install the environment:**\n",
    "\n",
    "``conda create --name <environment-name> python=<python-version>``<br>\n",
    "(Specify the name you want to use for <environment-name> and the Python version you want to use for <python-version>)\n",
    "\n",
    "Example for the environment named \"kernel1_env\" with python version 3.11.0 :"
   ]
  },
  {
   "cell_type": "code",
   "execution_count": null,
   "id": "4dab6b9a",
   "metadata": {
    "id": "4dab6b9a"
   },
   "outputs": [],
   "source": [
    "conda create --name kernel1_env python=3.11.0 "
   ]
  },
  {
   "cell_type": "markdown",
   "id": "bf06a0f9",
   "metadata": {
    "id": "bf06a0f9"
   },
   "source": [
    "**You can create a Conda environment anywhere outside of the default Anaconda folder that Conda uses.** \n",
    "\n",
    "If you want to create an environment named **'kernel1_env'** with Python 3.11.0 inside the folder **\"C:\\Users\\edwin\\environments\"**, use the following code: "
   ]
  },
  {
   "cell_type": "code",
   "execution_count": null,
   "id": "009edd46",
   "metadata": {
    "id": "009edd46"
   },
   "outputs": [],
   "source": [
    "conda create --prefix C:\\Users\\edwin\\environments\\kernel1_env python=3.11.0"
   ]
  },
  {
   "cell_type": "markdown",
   "id": "82bc68d1",
   "metadata": {
    "id": "82bc68d1"
   },
   "source": [
    "<a id=\"toc\"></a>\n",
    "\n",
    "### <p style=\"background-color:#117A65; font-family:newtimeroman; color:#FFF9ED; font-size:175%; text-align:center; border-radius:10px 10px;\">Step 2: Activate the environment:</p>"
   ]
  },
  {
   "cell_type": "markdown",
   "id": "b92e2c09",
   "metadata": {
    "id": "b92e2c09"
   },
   "source": [
    "``conda activate <environment-name>``"
   ]
  },
  {
   "cell_type": "code",
   "execution_count": null,
   "id": "bf61dfbf",
   "metadata": {
    "id": "bf61dfbf"
   },
   "outputs": [],
   "source": [
    "conda activate C:\\Users\\edwin\\environments\\kernel1_env"
   ]
  },
  {
   "cell_type": "markdown",
   "id": "1eab9532",
   "metadata": {
    "id": "1eab9532"
   },
   "source": [
    "<a id=\"toc\"></a>\n",
    "\n",
    "### <p style=\"background-color:#117A65; font-family:newtimeroman; color:#FFF9ED; font-size:175%; text-align:center; border-radius:10px 10px;\">Step 3: install \"ipykernel\" module</p>"
   ]
  },
  {
   "cell_type": "code",
   "execution_count": null,
   "id": "a18c35f4",
   "metadata": {
    "id": "a18c35f4"
   },
   "outputs": [],
   "source": [
    "pip install ipykernel"
   ]
  },
  {
   "cell_type": "markdown",
   "id": "376f5954",
   "metadata": {
    "id": "376f5954"
   },
   "source": [
    "<a id=\"toc\"></a>\n",
    "\n",
    "### <p style=\"background-color:#117A65; font-family:newtimeroman; color:#FFF9ED; font-size:175%; text-align:center; border-radius:10px 10px;\">Step 4: To make the environment available in Jupyter Notebook:</p>"
   ]
  },
  {
   "cell_type": "markdown",
   "id": "1300ae33",
   "metadata": {
    "id": "1300ae33"
   },
   "source": [
    "``python -m ipykernel install --user --name <environment-name> --display-name \"<display-name>\"``\n",
    "\n",
    "**environment-name :** the name you provided in the previous step.<br>\n",
    "**display-name :** the name to be displayed in the Jupyter Notebook interface."
   ]
  },
  {
   "cell_type": "code",
   "execution_count": null,
   "id": "3e529ade",
   "metadata": {
    "id": "3e529ade"
   },
   "outputs": [],
   "source": [
    "python -m ipykernel install --user --name kernel1_env --display-name \"kernel_env_no_1\""
   ]
  },
  {
   "cell_type": "markdown",
   "id": "202a1934",
   "metadata": {
    "id": "202a1934"
   },
   "source": [
    "<a id=\"toc\"></a>\n",
    "\n",
    "### <p style=\"background-color:#117A65; font-family:newtimeroman; color:#FFF9ED; font-size:175%; text-align:center; border-radius:10px 10px;\">Step 5: Start Jupyter Notebook and select the custom environment:</p>"
   ]
  },
  {
   "cell_type": "markdown",
   "id": "57ee6b89",
   "metadata": {
    "id": "57ee6b89"
   },
   "source": [
    "**After opening Jupyter Notebook, you can select the environment you created from the kernel section.** "
   ]
  },
  {
   "cell_type": "markdown",
   "id": "191d8086",
   "metadata": {
    "id": "191d8086"
   },
   "source": [
    "![python.exe](https://drive.google.com/uc?id=18H52l4cHUX5JLyczDGezNleRKOoSRsGJ)"
   ]
  },
  {
   "cell_type": "markdown",
   "id": "f8eca560",
   "metadata": {
    "id": "f8eca560"
   },
   "source": [
    "**You can now write and execute code with this kernel.**"
   ]
  },
  {
   "cell_type": "markdown",
   "id": "a29db335",
   "metadata": {
    "id": "a29db335"
   },
   "source": [
    "![python.exe](https://drive.google.com/uc?id=1t8ci-b2laNMHDpgsRx2DJ4q3BMVulyKU)"
   ]
  },
  {
   "cell_type": "markdown",
   "id": "IWngZ45sC4g2",
   "metadata": {
    "id": "IWngZ45sC4g2"
   },
   "source": [
    "![python.exe](https://drive.google.com/uc?id=1oY07NFR8n0Q3oP9CwwxLWh40cGEb_YkU)"
   ]
  }
 ],
 "metadata": {
  "colab": {
   "provenance": []
  },
  "kernelspec": {
   "display_name": "Python 3 (ipykernel)",
   "language": "python",
   "name": "python3"
  },
  "language_info": {
   "codemirror_mode": {
    "name": "ipython",
    "version": 3
   },
   "file_extension": ".py",
   "mimetype": "text/x-python",
   "name": "python",
   "nbconvert_exporter": "python",
   "pygments_lexer": "ipython3",
   "version": "3.11.3"
  }
 },
 "nbformat": 4,
 "nbformat_minor": 5
}
