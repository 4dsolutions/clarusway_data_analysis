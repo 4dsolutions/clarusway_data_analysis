{
 "cells": [
  {
   "cell_type": "markdown",
   "id": "8258d2dc-1bab-4af7-a688-622c1eaba9d5",
   "metadata": {},
   "source": [
    "#### Clarusway Python\n",
    "\n",
    "* [Instructor Landing Page](landing_page.ipynb)\n",
    "* <a href=\"https://colab.research.google.com/github/4dsolutions/clarusway_data_analysis/blob/main/basic_python/Python_Lab4.ipynb\"><img align=\"left\" src=\"https://colab.research.google.com/assets/colab-badge.svg\" alt=\"Open in Colab\" title=\"Open and Execute in Google Colaboratory\"></a>\n",
    "* [![nbviewer](https://raw.githubusercontent.com/jupyter/design/master/logos/Badges/nbviewer_badge.svg)](https://nbviewer.org/github/4dsolutions/clarusway_data_analysis/blob/main/basic_python/Python_Lab4.ipynb)"
   ]
  },
  {
   "cell_type": "markdown",
   "id": "0ecddc8c",
   "metadata": {
    "id": "0ecddc8c"
   },
   "source": [
    "<a id=\"toc\"></a>\n",
    "\n",
    "## <p style=\"background-color:#0D8D99; font-family:newtimeroman; color:#FFF9ED; font-size:175%; text-align:center; border-radius:10px 10px;\">Python Lab 4</p>"
   ]
  },
  {
   "cell_type": "markdown",
   "id": "c74365f6",
   "metadata": {
    "id": "c74365f6"
   },
   "source": [
    "<div class=\"alert alert-block alert-info\"><h1><p style=\"text-align: center; color:purple\">Assignment-6 (The Most Frequent Element)<br><br>Assignment-7 (Profit Calculator)</p>"
   ]
  },
  {
   "cell_type": "markdown",
   "id": "d3d8ad55",
   "metadata": {
    "id": "d3d8ad55"
   },
   "source": [
    "<a id=\"toc\"></a>\n",
    "\n",
    "### <p style=\"background-color:#9d4f8c; font-family:newtimeroman; color:#FFF9ED; font-size:175%; text-align:center; border-radius:10px 10px;\">Assignment-6 (The Most Frequent Element)</p>"
   ]
  },
  {
   "cell_type": "markdown",
   "id": "9659034f",
   "metadata": {
    "id": "9659034f"
   },
   "source": [
    "<div class=\"alert alert-block alert-info\">\n",
    "<font color=red><b>Task :</b></font>\n",
    "<font color=purple><b>Find out the most frequent number and its frequency.</b></font><br><br>\n",
    "<font color=red>Note :</font>You may need to use useful/necessary <font color=red>built-in functions</font> and <font color=red>list</font>  methods other than the functions we haven't covered in the lessons yet.<br><br>\n",
    "<font color=darkblue>Write a program that;<br><br>\n",
    "Finds out the most frequent number in the given list.<br>\n",
    "Calculates its frequency.<br>\n",
    "Prints out the result such as :\n",
    "</font>"
   ]
  },
  {
   "cell_type": "raw",
   "id": "e4682277",
   "metadata": {
    "id": "e4682277"
   },
   "source": [
    "In this lesson, we will solve the 'most frequent element' assignment.\n",
    "\n",
    "Along with this solution, we will review lists, list methods, some built-in functions, and the concept of parameters used in functions. Finally, we will print an output using the f-string method.\n",
    "\n",
    "Let's move on to the task:\n",
    "It says: Find the most frequently occurring number and its frequency in a given list.\n",
    "We need to find out how many times the most repeated element appears in the list and what that element is.\n",
    "\n",
    "Looking at the example, the most frequently occurring number in the list is 3, and it appears 4 times.\n",
    "Finally, as you can see, we will print a sentence."
   ]
  },
  {
   "cell_type": "raw",
   "id": "dcd262c0",
   "metadata": {
    "id": "dcd262c0"
   },
   "source": [
    "And one more note: you may need to use built-in functions or list methods that were not covered in the lesson. Therefore, the assignment is trying to encourage you to do some research.\n",
    "\n",
    "We want you to research which built-in functions you can use while searching for a solution.\n",
    "\n",
    "Since it's talking about the most frequently occurring element, I need to find a function related to this. I'm looking for a built-in function that can find the most frequently occurring element and also how many times it occurs. I need to research this specifically."
   ]
  },
  {
   "cell_type": "raw",
   "id": "717b3090",
   "metadata": {
    "id": "717b3090"
   },
   "source": [
    "In solving the problem, we expect you to reduce it to two basic functions and identify these functions. You may not be able to find the answer to this question, or your answer may be wrong. But have you looked at the official documentation? Have you visited these sites? Have you researched the built-in functions that will be useful to you? We want you to do these things."
   ]
  },
  {
   "cell_type": "raw",
   "id": "0ebb5f68",
   "metadata": {
    "id": "0ebb5f68"
   },
   "source": [
    "This question asks you to find the maximum value of something.\n",
    "\n",
    "I'm searching 'python built-in functions' in my browser...\n",
    "\n",
    "Look, there is a 'max()' function here.\n",
    "\n",
    "The 'max()' function returns the largest element in an iterable or the largest of two or more arguments. It also has a parameter called 'key'. We will use this parameter in the solution."
   ]
  },
  {
   "cell_type": "raw",
   "id": "e997ef08",
   "metadata": {
    "id": "e997ef08"
   },
   "source": [
    "Let's focus on the max() and count() functions. First, let's create a list and learn about the max() function using the list.\n",
    "\n",
    "Let's create a list named 'numbers' and write the sample list in the question here.\""
   ]
  },
  {
   "cell_type": "code",
   "execution_count": 1,
   "id": "41896be2",
   "metadata": {
    "id": "41896be2"
   },
   "outputs": [],
   "source": [
    "numbers = [1, 3, 7, 4, 6, 3, 0, 3, 6, 3, 7, 6 , 6]"
   ]
  },
  {
   "cell_type": "raw",
   "id": "77574434",
   "metadata": {
    "id": "77574434"
   },
   "source": [
    "Great, now we have such a list."
   ]
  },
  {
   "cell_type": "code",
   "execution_count": 2,
   "id": "260e40f5",
   "metadata": {
    "id": "260e40f5",
    "outputId": "d71a2218-6468-403e-ce0a-c23f5242d438"
   },
   "outputs": [
    {
     "data": {
      "text/plain": [
       "7"
      ]
     },
     "execution_count": 2,
     "metadata": {},
     "output_type": "execute_result"
    }
   ],
   "source": [
    "max(numbers)\n",
    "\n",
    "# When you pass an iterable into the max() function, it returns the largest element in the iterable."
   ]
  },
  {
   "cell_type": "code",
   "execution_count": 3,
   "id": "e47d3ba7",
   "metadata": {
    "id": "e47d3ba7",
    "outputId": "1645a202-8d75-4671-ea6c-ef48e45f16e3"
   },
   "outputs": [
    {
     "data": {
      "text/plain": [
       "35"
      ]
     },
     "execution_count": 3,
     "metadata": {},
     "output_type": "execute_result"
    }
   ],
   "source": [
    "max(11, 8, 35)"
   ]
  },
  {
   "cell_type": "code",
   "execution_count": 4,
   "id": "3179ec38",
   "metadata": {
    "id": "3179ec38",
    "outputId": "dfac0370-1901-4e20-cdff-211b786bd641"
   },
   "outputs": [
    {
     "data": {
      "text/plain": [
       "'y'"
      ]
     },
     "execution_count": 4,
     "metadata": {},
     "output_type": "execute_result"
    }
   ],
   "source": [
    "max(\"python\")"
   ]
  },
  {
   "cell_type": "raw",
   "id": "18fb9a39",
   "metadata": {
    "id": "18fb9a39"
   },
   "source": [
    "Let's see, I passed another iterable into it, this time a string.\n",
    "\n",
    "And it returned the 'y' character to me. This means that the character with the highest value among the characters is 'y'. When it comes to strings, we can immediately realize that it determines the highest one according to ASCII codes.\n",
    "\n",
    "As you know, each character has a numeric ASCII code. The largest character is the one with the largest of these numeric values.\n",
    "\n",
    "Thus, it appears that the character with the highest ASCII code among the characters that make up the string 'clarusway' is 'y'."
   ]
  },
  {
   "cell_type": "raw",
   "id": "3a603408",
   "metadata": {
    "id": "3a603408"
   },
   "source": [
    "By pressing 'shift tab tab', we can see that there is something called 'default' and it is an object. If the iterable we pass into it is empty, it returns whatever we defined for 'default' here.\n",
    "\n",
    "So let's define an empty iterable, such as an empty list, as the easiest way:"
   ]
  },
  {
   "cell_type": "code",
   "execution_count": 5,
   "id": "ca041c9d",
   "metadata": {
    "id": "ca041c9d"
   },
   "outputs": [],
   "source": [
    "empty = []"
   ]
  },
  {
   "cell_type": "code",
   "execution_count": 6,
   "id": "a90694e8",
   "metadata": {
    "id": "a90694e8",
    "outputId": "60e140af-9332-4749-db19-718c5dbed128"
   },
   "outputs": [],
   "source": [
    "# max(empty)\n",
    "\n",
    "# error!!"
   ]
  },
  {
   "cell_type": "raw",
   "id": "433991f8",
   "metadata": {
    "id": "433991f8"
   },
   "source": [
    "Due to the nature of the max() function, whatever I define as the default parameter will be executed when it is called."
   ]
  },
  {
   "cell_type": "code",
   "execution_count": 7,
   "id": "059252d1",
   "metadata": {
    "id": "059252d1",
    "outputId": "6de27f6c-2dad-4182-eb8b-88ffa737f45a"
   },
   "outputs": [
    {
     "data": {
      "text/plain": [
       "'Empty'"
      ]
     },
     "execution_count": 7,
     "metadata": {},
     "output_type": "execute_result"
    }
   ],
   "source": [
    "max(empty, default = \"Empty\")"
   ]
  },
  {
   "cell_type": "code",
   "execution_count": 8,
   "id": "1065b948",
   "metadata": {
    "id": "1065b948",
    "outputId": "92b5c19a-9cf8-48a1-b4ea-b773aaf81bad"
   },
   "outputs": [
    {
     "data": {
      "text/plain": [
       "True"
      ]
     },
     "execution_count": 8,
     "metadata": {},
     "output_type": "execute_result"
    }
   ],
   "source": [
    "max(empty, default = True)"
   ]
  },
  {
   "cell_type": "raw",
   "id": "1374f918",
   "metadata": {
    "id": "1374f918"
   },
   "source": [
    "Apparently, functions can have such parameters, and by assigning certain values to them or changing their existing default values, we can change the working principle of the function.\n",
    "\n",
    "I'm continuing to examine the max() function.\n",
    "\n",
    "Now, let me define a list called 'sequence'."
   ]
  },
  {
   "cell_type": "code",
   "execution_count": 9,
   "id": "39f90f7e",
   "metadata": {
    "id": "39f90f7e"
   },
   "outputs": [],
   "source": [
    "sequence = [1, 1, 1, 1, 2, 2, 2, 3, 3, 4]"
   ]
  },
  {
   "cell_type": "raw",
   "id": "a1a54243",
   "metadata": {
    "id": "a1a54243"
   },
   "source": [
    " As we mentioned earlier, the max() function returns one of the elements. It selects and returns only one of the elements. Let's see which one it will return from the 'sequence' list."
   ]
  },
  {
   "cell_type": "code",
   "execution_count": 10,
   "id": "798bc4f8",
   "metadata": {
    "id": "798bc4f8",
    "outputId": "dac4a83f-f185-4067-f15d-99a209190f5a"
   },
   "outputs": [
    {
     "data": {
      "text/plain": [
       "4"
      ]
     },
     "execution_count": 10,
     "metadata": {},
     "output_type": "execute_result"
    }
   ],
   "source": [
    "max(sequence)"
   ]
  },
  {
   "cell_type": "raw",
   "id": "58d9b8d7",
   "metadata": {
    "id": "58d9b8d7"
   },
   "source": [
    "It selected the largest element among the elements in the sequence and returned it.\n",
    "\n",
    "Since the 'sequence' variable is a list, let's see which methods this list has.\n",
    "\n",
    "{sequence. + tab}"
   ]
  },
  {
   "cell_type": "raw",
   "id": "e436ba9d",
   "metadata": {
    "id": "e436ba9d"
   },
   "source": [
    "Here, there is a 'count' method. So what does the count method return? Does it return one of the elements? No.\n",
    "\n",
    "If an element is a list, it returns the number of times that element appears in the list. It returns the count of that element. For example:"
   ]
  },
  {
   "cell_type": "code",
   "execution_count": 11,
   "id": "7b257384",
   "metadata": {
    "id": "7b257384",
    "outputId": "bc54cb0e-f09d-41e0-b2e6-087a71375b54"
   },
   "outputs": [
    {
     "data": {
      "text/plain": [
       "1"
      ]
     },
     "execution_count": 11,
     "metadata": {},
     "output_type": "execute_result"
    }
   ],
   "source": [
    "sequence.count(4)\n",
    "\n",
    "# '4' appears only once."
   ]
  },
  {
   "cell_type": "code",
   "execution_count": 12,
   "id": "a3a7ca00",
   "metadata": {
    "id": "a3a7ca00",
    "outputId": "675b4321-0c28-4569-add3-f7c17c77cd21"
   },
   "outputs": [
    {
     "data": {
      "text/plain": [
       "4"
      ]
     },
     "execution_count": 12,
     "metadata": {},
     "output_type": "execute_result"
    }
   ],
   "source": [
    "sequence.count(1)\n",
    "\n",
    "# '1' appears four times."
   ]
  },
  {
   "cell_type": "code",
   "execution_count": 13,
   "id": "cc20032f",
   "metadata": {
    "id": "cc20032f",
    "outputId": "5936fdff-a9e8-4d78-c319-68d90229e34e"
   },
   "outputs": [
    {
     "data": {
      "text/plain": [
       "[1, 3, 7, 4, 6, 3, 0, 3, 6, 3, 7, 6, 6]"
      ]
     },
     "execution_count": 13,
     "metadata": {},
     "output_type": "execute_result"
    }
   ],
   "source": [
    "numbers"
   ]
  },
  {
   "cell_type": "code",
   "execution_count": 14,
   "id": "505f2c9c",
   "metadata": {
    "id": "505f2c9c",
    "outputId": "529a1021-ba5a-4a8b-b258-9e176337ec48"
   },
   "outputs": [
    {
     "data": {
      "text/plain": [
       "7"
      ]
     },
     "execution_count": 14,
     "metadata": {},
     "output_type": "execute_result"
    }
   ],
   "source": [
    "max(numbers)\n",
    "\n",
    "# The maximum element of the numbers is 7."
   ]
  },
  {
   "cell_type": "code",
   "execution_count": 15,
   "id": "c1a473ff",
   "metadata": {
    "id": "c1a473ff",
    "outputId": "1e4f033a-7aee-4c1f-f39e-4d110bc9c7f1"
   },
   "outputs": [
    {
     "data": {
      "text/plain": [
       "2"
      ]
     },
     "execution_count": 15,
     "metadata": {},
     "output_type": "execute_result"
    }
   ],
   "source": [
    "numbers.count(7)\n",
    "\n",
    "# and \"7\" appears twice in the list."
   ]
  },
  {
   "cell_type": "raw",
   "id": "096b8717",
   "metadata": {
    "id": "096b8717"
   },
   "source": [
    "So let's use these two functions together like this:"
   ]
  },
  {
   "cell_type": "code",
   "execution_count": 16,
   "id": "d81ae79c",
   "metadata": {
    "id": "d81ae79c",
    "outputId": "be68fccd-1187-4efd-a5cf-c994e967b2d7"
   },
   "outputs": [
    {
     "data": {
      "text/plain": [
       "2"
      ]
     },
     "execution_count": 16,
     "metadata": {},
     "output_type": "execute_result"
    }
   ],
   "source": [
    "numbers.count(max(numbers))"
   ]
  },
  {
   "cell_type": "raw",
   "id": "cbb283c1",
   "metadata": {
    "id": "cbb283c1"
   },
   "source": [
    "The 'count()' method takes only one element as input. And if 'max(numbers)' returns only one element, then can't I assign this element as 'max(numbers)' inside the count method? yes I can. and I did it."
   ]
  },
  {
   "cell_type": "raw",
   "id": "2f902bcc",
   "metadata": {
    "id": "2f902bcc"
   },
   "source": [
    "So, how can we find the most frequently occurring element?\n",
    "\n",
    "Let's take another look at the max() function together."
   ]
  },
  {
   "cell_type": "raw",
   "id": "595bc0ef",
   "metadata": {
    "id": "595bc0ef"
   },
   "source": [
    "The 'max()' function has a parameter called 'key', to which we can assign a function or method. Normally, like all other functions, 'max()' works with default values. If you manipulate these parameters, you manipulate the way the function works. In a sense, you play with its DNA.\n",
    "\n",
    "So how does 'max()' function normally work? What maximum value does it give me by default? It gives the highest value among the elements of an iterable, like a list. This is its default behavior.\n",
    "\n",
    "However, if you play with the \"key\" parameter of this function, you can make it work differently. Let's assign something to this 'key' parameter so that the 'max()' function finds and returns the highest frequency of occurrence of an element, not its value:"
   ]
  },
  {
   "cell_type": "code",
   "execution_count": 17,
   "id": "a45b8182",
   "metadata": {
    "id": "a45b8182",
    "outputId": "c0c08162-4bea-46ca-e906-73869f46589a"
   },
   "outputs": [
    {
     "data": {
      "text/plain": [
       "[1, 3, 7, 4, 6, 3, 0, 3, 6, 3, 7, 6, 6]"
      ]
     },
     "execution_count": 17,
     "metadata": {},
     "output_type": "execute_result"
    }
   ],
   "source": [
    "numbers"
   ]
  },
  {
   "cell_type": "raw",
   "id": "82e1e5c5",
   "metadata": {
    "id": "82e1e5c5"
   },
   "source": [
    "I'm saying, 'maximum function! Forget what you used to know. From now on, you will work according to the method I enter for the 'key' parameter.'\n",
    "\n",
    "Then I write the name of the 'count' method, which I just met, as the 'key' parameter, and specify which object it will be applied to. Look, just like this:"
   ]
  },
  {
   "cell_type": "code",
   "execution_count": 18,
   "id": "ec7becf2",
   "metadata": {
    "id": "ec7becf2",
    "outputId": "a889071a-01f7-448a-8eef-e1bf82ec4d39"
   },
   "outputs": [
    {
     "data": {
      "text/plain": [
       "3"
      ]
     },
     "execution_count": 18,
     "metadata": {},
     "output_type": "execute_result"
    }
   ],
   "source": [
    "max(numbers, key = numbers.count)"
   ]
  },
  {
   "cell_type": "raw",
   "id": "a3fbbec3",
   "metadata": {
    "id": "a3fbbec3"
   },
   "source": [
    "Here, by typing 'key = numbers.count', we mean that when the count method is applied to each element of the 'numbers' list, the resulting list of counts will be stored in memory. The max() function will then operate based on this list of counts.\n",
    "and return the element with the highest frequency count.\""
   ]
  },
  {
   "cell_type": "raw",
   "id": "f8856527",
   "metadata": {
    "id": "f8856527"
   },
   "source": [
    "I am now assigning the element returned from max() function to a variable called 'maximum'. This way, I can pass this element to the count() method. and I will apply count() method to the list. and it will return the count of occurrences of this most repeated element for me."
   ]
  },
  {
   "cell_type": "code",
   "execution_count": 19,
   "id": "2e1db97c",
   "metadata": {
    "id": "2e1db97c"
   },
   "outputs": [],
   "source": [
    "maximum = max(numbers, key = numbers.count)\n",
    "\n",
    "cnt = numbers.count(max(numbers, key = numbers.count))"
   ]
  },
  {
   "cell_type": "raw",
   "id": "75423d17",
   "metadata": {
    "id": "75423d17"
   },
   "source": [
    "Let's now print this result nicely using the f-string method.:"
   ]
  },
  {
   "cell_type": "code",
   "execution_count": 20,
   "id": "eee96b84",
   "metadata": {
    "id": "eee96b84",
    "outputId": "37301357-a5b3-4cbf-d46d-f840e555014a"
   },
   "outputs": [
    {
     "name": "stdout",
     "output_type": "stream",
     "text": [
      "The most frequent number is 3 and it was 4 times repeated\n"
     ]
    }
   ],
   "source": [
    "print(f\"The most frequent number is {maximum} and it was {cnt} times repeated\")"
   ]
  },
  {
   "cell_type": "markdown",
   "id": "a6897281",
   "metadata": {
    "id": "a6897281"
   },
   "source": [
    "## Similar to max() function, sorted() function also has a \"key\" parameter"
   ]
  },
  {
   "cell_type": "code",
   "execution_count": 21,
   "id": "edf85019",
   "metadata": {
    "id": "edf85019"
   },
   "outputs": [],
   "source": [
    "cities = [\"Los Angeles\", \"New York\", \"Philadelphia\", \"Dallas\"]"
   ]
  },
  {
   "cell_type": "code",
   "execution_count": 22,
   "id": "d3f1b3eb",
   "metadata": {
    "id": "d3f1b3eb",
    "outputId": "6cc56845-bf32-4595-92ee-57817266b69b"
   },
   "outputs": [
    {
     "data": {
      "text/plain": [
       "['Dallas', 'Los Angeles', 'New York', 'Philadelphia']"
      ]
     },
     "execution_count": 22,
     "metadata": {},
     "output_type": "execute_result"
    }
   ],
   "source": [
    "sorted(cities)"
   ]
  },
  {
   "cell_type": "code",
   "execution_count": 23,
   "id": "26885420",
   "metadata": {
    "id": "26885420",
    "outputId": "952d055d-ea04-4b2b-c9b8-e62fe999571a"
   },
   "outputs": [
    {
     "data": {
      "text/plain": [
       "['Dallas', 'New York', 'Los Angeles', 'Philadelphia']"
      ]
     },
     "execution_count": 23,
     "metadata": {},
     "output_type": "execute_result"
    }
   ],
   "source": [
    "sorted(cities, key = len)"
   ]
  },
  {
   "cell_type": "code",
   "execution_count": 24,
   "id": "d67c8696",
   "metadata": {
    "id": "d67c8696",
    "outputId": "aea73fd7-afb5-4de4-c714-440a86181ab3"
   },
   "outputs": [
    {
     "data": {
      "text/plain": [
       "['Philadelphia', 'Los Angeles', 'New York', 'Dallas']"
      ]
     },
     "execution_count": 24,
     "metadata": {},
     "output_type": "execute_result"
    }
   ],
   "source": [
    "sorted(cities, key = len, reverse = True )"
   ]
  },
  {
   "cell_type": "markdown",
   "id": "51a78c56",
   "metadata": {
    "id": "51a78c56"
   },
   "source": [
    "<a id=\"toc\"></a>\n",
    "\n",
    "### <p style=\"background-color:#9d4f8c; font-family:newtimeroman; color:#FFF9ED; font-size:175%; text-align:center; border-radius:10px 10px;\">Assignment-7 (Profit Calculator)</p>"
   ]
  },
  {
   "cell_type": "code",
   "execution_count": 25,
   "id": "0a405d95",
   "metadata": {
    "id": "0a405d95"
   },
   "outputs": [],
   "source": [
    "sales = {\n",
    "\n",
    "  \"cost_value\": 31.87,\n",
    "\n",
    "  \"sell_value\": 45.00,\n",
    "\n",
    "  \"inventory\": 1000\n",
    "\n",
    "}"
   ]
  },
  {
   "cell_type": "code",
   "execution_count": 26,
   "id": "f5a3aeab",
   "metadata": {
    "id": "f5a3aeab",
    "outputId": "d6ad5f3b-1949-414e-cd0f-6d02e07aeb2c"
   },
   "outputs": [
    {
     "data": {
      "text/plain": [
       "45.0"
      ]
     },
     "execution_count": 26,
     "metadata": {},
     "output_type": "execute_result"
    }
   ],
   "source": [
    "sales[\"sell_value\"]"
   ]
  },
  {
   "cell_type": "code",
   "execution_count": 27,
   "id": "461b9745",
   "metadata": {
    "id": "461b9745",
    "outputId": "9212fdba-1f1a-46ae-b73e-0d11020facdf"
   },
   "outputs": [
    {
     "data": {
      "text/plain": [
       "31.87"
      ]
     },
     "execution_count": 27,
     "metadata": {},
     "output_type": "execute_result"
    }
   ],
   "source": [
    "sales[\"cost_value\"]"
   ]
  },
  {
   "cell_type": "code",
   "execution_count": 28,
   "id": "24d9c38d",
   "metadata": {
    "id": "24d9c38d",
    "outputId": "3379bf0b-e3c2-4b9f-e1d7-9001ff696238"
   },
   "outputs": [
    {
     "data": {
      "text/plain": [
       "1000"
      ]
     },
     "execution_count": 28,
     "metadata": {},
     "output_type": "execute_result"
    }
   ],
   "source": [
    "sales[\"inventory\"]"
   ]
  },
  {
   "cell_type": "code",
   "execution_count": 29,
   "id": "27858cbd",
   "metadata": {
    "id": "27858cbd",
    "outputId": "0ba47cfa-3ebf-4f2b-dcad-8967c11eeb93"
   },
   "outputs": [
    {
     "name": "stdout",
     "output_type": "stream",
     "text": [
      "13129.999999999998\n",
      "13130\n",
      "13130.0\n"
     ]
    }
   ],
   "source": [
    "total_profit = (sales[\"sell_value\"] - sales[\"cost_value\"]) * sales[\"inventory\"]\n",
    "\n",
    "print(total_profit)\n",
    "print(round(total_profit))\n",
    "print(round(total_profit, 2))"
   ]
  },
  {
   "cell_type": "code",
   "execution_count": 30,
   "id": "78c04c23",
   "metadata": {
    "id": "78c04c23"
   },
   "outputs": [],
   "source": [
    "payrolls = {\"first\" : 3,\n",
    "\n",
    "            \"second\": 29.99,\n",
    "\n",
    "            \"third\" : 4.1}"
   ]
  },
  {
   "cell_type": "code",
   "execution_count": 31,
   "id": "80be8ecc",
   "metadata": {
    "id": "80be8ecc",
    "outputId": "88783afa-ec0a-4a21-d7cb-aac618729027"
   },
   "outputs": [
    {
     "name": "stdout",
     "output_type": "stream",
     "text": [
      " $3.00 \n",
      " $29.99 \n",
      " $4.10 \n"
     ]
    }
   ],
   "source": [
    "print(\" ${:.2f} \".format(payrolls[\"first\"]))\n",
    "\n",
    "print(\" ${:.2f} \".format(payrolls[\"second\"]))\n",
    "\n",
    "print(\" ${:.2f} \".format(payrolls[\"third\"]))"
   ]
  },
  {
   "cell_type": "code",
   "execution_count": 32,
   "id": "9eec20a0",
   "metadata": {
    "id": "9eec20a0",
    "outputId": "f70c0027-6999-4c2e-da7b-6a05ae1e01c2"
   },
   "outputs": [
    {
     "name": "stdin",
     "output_type": "stream",
     "text": [
      "enter a value :  784.12\n"
     ]
    },
    {
     "name": "stdout",
     "output_type": "stream",
     "text": [
      " $784.12 \n"
     ]
    }
   ],
   "source": [
    "payrolls = float(input(\"enter a value : \"))\n",
    "print(\" ${:.2f} \".format(payrolls))"
   ]
  }
 ],
 "metadata": {
  "colab": {
   "provenance": []
  },
  "kernelspec": {
   "display_name": "Python 3 (ipykernel)",
   "language": "python",
   "name": "python3"
  },
  "language_info": {
   "codemirror_mode": {
    "name": "ipython",
    "version": 3
   },
   "file_extension": ".py",
   "mimetype": "text/x-python",
   "name": "python",
   "nbconvert_exporter": "python",
   "pygments_lexer": "ipython3",
   "version": "3.11.3"
  }
 },
 "nbformat": 4,
 "nbformat_minor": 5
}
