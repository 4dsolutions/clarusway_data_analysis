{
 "cells": [
  {
   "cell_type": "markdown",
   "id": "3ff10895-0086-44c7-9157-ef479dca8094",
   "metadata": {},
   "source": [
    "#### Clarusway Python\n",
    "\n",
    "* [Instructor Landing Page](landing_page.ipynb)\n",
    "* <a href=\"https://colab.research.google.com/github/4dsolutions/clarusway_data_analysis/blob/main/basic_python/landing_page.ipynb\"><img align=\"left\" src=\"https://colab.research.google.com/assets/colab-badge.svg\" alt=\"Open in Colab\" title=\"Open and Execute in Google Colaboratory\"></a>\n",
    "* [![nbviewer](https://raw.githubusercontent.com/jupyter/design/master/logos/Badges/nbviewer_badge.svg)](https://nbviewer.org/github/4dsolutions/clarusway_data_analysis/blob/main/basic_python/landing_page.ipynb)"
   ]
  },
  {
   "cell_type": "markdown",
   "id": "72f44ada-530c-4ed2-b204-98f768731c9f",
   "metadata": {},
   "source": [
    "<a data-flickr-embed=\"true\" href=\"https://www.flickr.com/photos/kirbyurner/52563704012/in/album-72177720296706479\" title=\"LMS Dashboard\"><img src=\"https://live.staticflickr.com/65535/52563704012_71ef4beb8a_b.jpg\" width=\"1024\" height=\"354\" alt=\"LMS Dashboard\"/></a><script async src=\"//embedr.flickr.com/assets/client-code.js\" charset=\"utf-8\"></script>"
   ]
  },
  {
   "cell_type": "markdown",
   "id": "bded90bc-5718-4fcf-935d-583ac8f85690",
   "metadata": {},
   "source": [
    "# BASIC PYTHON: LANDING PAGE"
   ]
  },
  {
   "cell_type": "markdown",
   "id": "ea9e2c3b-a846-47e2-8670-22acb98323f1",
   "metadata": {},
   "source": [
    "* [Clarusway Python](https://academy.clarusway.com/course/python)\n",
    "* [#class-chat on Slack](https://ds1624us.slack.com/archives/C07Q0D661QA)\n",
    "* [Python Playground](https://playground.programiz.com)\n",
    "* [Python docs](https://docs.python.org/3/)\n",
    "* [Python.org](https://python.org)\n",
    "\n",
    "For additional resources, scroll to the end of this Notebook."
   ]
  },
  {
   "cell_type": "markdown",
   "id": "ac76ada6-d8f8-4787-995b-eabea034dd15",
   "metadata": {},
   "source": [
    "## Notebooks, Labs and Assignments\n",
    "\n",
    "* [Notebook of the Day](01.session01.ipynb) (Session 01)\n",
    "* [Lab Notebook](Python_Lab1.ipynb) (Lab 1)\n",
    "* [Assignment 1](Assignment_1_profit_calculator.ipynb) (Profit Calculator)\n",
    "* [Assignment 2](Assignment_2_covid_19.ipynb) (Covid 19)"
   ]
  },
  {
   "cell_type": "markdown",
   "id": "42259d95-0c66-4157-ac10-22df9131577d",
   "metadata": {},
   "source": [
    "### 1-2-3 Testing...\n",
    "\n",
    "The Python prompt presents a simple interface to the user.  Click on the Playground link to experience this yourself.\n",
    "\n",
    "The user enters an expression, such as 2+2, and Python parses it, evaluates it, and replies with a result, or maybe a warning or exception of some rule was broken. \n",
    "\n",
    "This is not an \"AI prompt\" (such as ChatGPT's), meaning open to natural language, and more forgiving of garbage. But then, as computer languages go, Python is quite forgiving, eager to explain what when wrong, if something did."
   ]
  },
  {
   "cell_type": "markdown",
   "id": "8d5524a6-d6fa-4f74-b67b-200d0ef04980",
   "metadata": {},
   "source": [
    "Let's make a mistake on purpose, and get back a \"pink box\" about a TypeError:"
   ]
  },
  {
   "cell_type": "code",
   "execution_count": 1,
   "id": "e29a97ce-dea8-41e6-9cf9-ea9d26ec9e58",
   "metadata": {},
   "outputs": [],
   "source": [
    "# Uncomment the expression below to deliberately generate an error\n",
    "# 5 + \"5\"  # trying to add int and str, which some languages will allow"
   ]
  },
  {
   "cell_type": "markdown",
   "id": "614b884f-4e88-4742-b0c6-8b7a3e8d877d",
   "metadata": {},
   "source": [
    "One way to avoid a lot of pink boxes and to keep the code going is to \"handle\" the exception. Here's a preview:"
   ]
  },
  {
   "cell_type": "code",
   "execution_count": 2,
   "id": "c4817927-f094-45fe-b44e-43e1a61d02c5",
   "metadata": {},
   "outputs": [
    {
     "name": "stdout",
     "output_type": "stream",
     "text": [
      "Oops, something went wrong\n",
      "Do this no matter what\n"
     ]
    }
   ],
   "source": [
    "\"\"\"\n",
    "The code in this cell is meant to be interactive. If you are\n",
    "running a live copy of this Notebook, with an active kernel \n",
    "in the background, then try changing \"5\" + 5, to 5 + 5, i.e.\n",
    "take the quotes off around the first 5. That will make the \n",
    "expression 'legal' and print the result: 10.\n",
    "\"\"\"\n",
    "try:\n",
    "    print(\"5\" + 5)\n",
    "except:\n",
    "    print(\"Oops, something went wrong\")\n",
    "finally:\n",
    "    print(\"Do this no matter what\")"
   ]
  },
  {
   "cell_type": "code",
   "execution_count": 3,
   "id": "554b6c93-4d19-4dea-9f70-cbccc0abfa03",
   "metadata": {},
   "outputs": [
    {
     "data": {
      "text/plain": [
       "{'REPL': 'Read Evaluate Print Loop'}"
      ]
     },
     "execution_count": 3,
     "metadata": {},
     "output_type": "execute_result"
    }
   ],
   "source": [
    "glossary = {} # Empty dictionary\n",
    "glossary.update( {\"REPL\": \"Read Evaluate Print Loop\"} )\n",
    "glossary"
   ]
  },
  {
   "cell_type": "markdown",
   "id": "e8403818-c811-4f4b-972b-13e0038b20b6",
   "metadata": {},
   "source": [
    "In other words, this is not an anything-goes \"blank canvas\", this world, this namespace. What it makes the most sense to do is make expressions, such as 2+2, using builtin names and operators (such as + / \\- *)."
   ]
  },
  {
   "cell_type": "markdown",
   "id": "130ec7d1-bca3-4d97-88c0-db1e7273e60d",
   "metadata": {},
   "source": [
    "What are these \"built ins\" you ask? When you start up Python, the builtins are automatically imported from a module known as `__builtins__` -- let's use `dir` to see what it contains..."
   ]
  },
  {
   "cell_type": "code",
   "execution_count": 4,
   "id": "18970f46-560f-459b-8e38-2993a8cd8d27",
   "metadata": {},
   "outputs": [
    {
     "data": {
      "text/plain": [
       "<module 'builtins' (built-in)>"
      ]
     },
     "execution_count": 4,
     "metadata": {},
     "output_type": "execute_result"
    }
   ],
   "source": [
    "__builtins__"
   ]
  },
  {
   "cell_type": "code",
   "execution_count": 5,
   "id": "d3bb7215-ae36-4c54-b44c-88ab854e4803",
   "metadata": {},
   "outputs": [
    {
     "name": "stdout",
     "output_type": "stream",
     "text": [
      "['ArithmeticError', 'AssertionError', 'AttributeError', 'BaseException', 'BaseExceptionGroup', 'BlockingIOError', 'BrokenPipeError', 'BufferError', 'BytesWarning', 'ChildProcessError', 'ConnectionAbortedError', 'ConnectionError', 'ConnectionRefusedError', 'ConnectionResetError', 'DeprecationWarning', 'EOFError', 'Ellipsis', 'EncodingWarning', 'EnvironmentError', 'Exception', 'ExceptionGroup', 'False', 'FileExistsError', 'FileNotFoundError', 'FloatingPointError', 'FutureWarning', 'GeneratorExit', 'IOError', 'ImportError', 'ImportWarning', 'IndentationError', 'IndexError', 'InterruptedError', 'IsADirectoryError', 'KeyError', 'KeyboardInterrupt', 'LookupError', 'MemoryError', 'ModuleNotFoundError', 'NameError', 'None', 'NotADirectoryError', 'NotImplemented', 'NotImplementedError', 'OSError', 'OverflowError', 'PendingDeprecationWarning', 'PermissionError', 'ProcessLookupError', 'RecursionError', 'ReferenceError', 'ResourceWarning', 'RuntimeError', 'RuntimeWarning', 'StopAsyncIteration', 'StopIteration', 'SyntaxError', 'SyntaxWarning', 'SystemError', 'SystemExit', 'TabError', 'TimeoutError', 'True', 'TypeError', 'UnboundLocalError', 'UnicodeDecodeError', 'UnicodeEncodeError', 'UnicodeError', 'UnicodeTranslateError', 'UnicodeWarning', 'UserWarning', 'ValueError', 'Warning', 'ZeroDivisionError', '__IPYTHON__', '__build_class__', '__debug__', '__doc__', '__import__', '__loader__', '__name__', '__package__', '__spec__', 'abs', 'aiter', 'all', 'anext', 'any', 'ascii', 'bin', 'bool', 'breakpoint', 'bytearray', 'bytes', 'callable', 'chr', 'classmethod', 'compile', 'complex', 'copyright', 'credits', 'delattr', 'dict', 'dir', 'display', 'divmod', 'enumerate', 'eval', 'exec', 'execfile', 'filter', 'float', 'format', 'frozenset', 'get_ipython', 'getattr', 'globals', 'hasattr', 'hash', 'help', 'hex', 'id', 'input', 'int', 'isinstance', 'issubclass', 'iter', 'len', 'license', 'list', 'locals', 'map', 'max', 'memoryview', 'min', 'next', 'object', 'oct', 'open', 'ord', 'pow', 'print', 'property', 'range', 'repr', 'reversed', 'round', 'runfile', 'set', 'setattr', 'slice', 'sorted', 'staticmethod', 'str', 'sum', 'super', 'tuple', 'type', 'vars', 'zip']\n"
     ]
    }
   ],
   "source": [
    "print(dir(__builtins__))"
   ]
  },
  {
   "cell_type": "markdown",
   "id": "afb87639-ae83-499d-be54-0a0072699c5a",
   "metadata": {},
   "source": [
    "Wow, lots of Warnings and Errors get mentioned. What we're looking at is a list of strings, in this case the names of built in objects. Python is \"object oriented\" and we'll talk a lot more about what that means as our course progresses."
   ]
  },
  {
   "cell_type": "markdown",
   "id": "e6b048da-1f8b-49a8-a30a-f63e49d29584",
   "metadata": {},
   "source": [
    "You may not see right away to to make the \"code cells\" interactively editable and runnable. One way is to hit the Google Colab button way at the very top of this Notebook.\n",
    "\n",
    "The next section talks about what a Notebook is and how it works."
   ]
  },
  {
   "cell_type": "markdown",
   "id": "bcd0fcf9-3700-4798-bd2d-2dcd189a4b0a",
   "metadata": {},
   "source": [
    "## Orientation"
   ]
  },
  {
   "cell_type": "markdown",
   "id": "2b5bf393-e941-433e-a65b-30979955ec33",
   "metadata": {},
   "source": [
    "This Jupyter Notebook lives inside a Github repository. When you open it on Github, the Github server turns a JSON file with extension .ipynb, into an HTML file that renders inside your browser. Some features, such as YouTube thumbnails (playable when clicked), are not rendered. For a more complete rendering you may cut and paste the Github Notebook's URL into nbviewer at [nbviewer.org](https://nbviewer.org)\n",
    "\n",
    "Ordinary formatted text, such as you're reading now, is placed into \"markdown cells\", which are automatically converted to HTML at runtime. Markdown is a simple formatting syntax that mixes with ordinary text. \"Code cells\" contain source code ready to send to the backend server for execution, with results coming back as text, but also as embedded visualizations, which may be themselves interactive by means of GUI widgets.\n",
    "\n",
    "Jupyter Notebooks may be accessed [through Google Colab](https://colab.research.google.com/github/4dsolutions/clarusway_data_analysis/blob/main/basic_python/landing_page.ipynb) as well, in which case they will present as interactive, meaning you can run the code, edit the code, rerun the code and so on. The Markdown cells are editable. You'll be free to save a copy, with your changes, to your own Google Drive, or to your local host (laptop etc.).\n",
    "\n",
    "Your instructor will walk you through these workflows."
   ]
  },
  {
   "cell_type": "markdown",
   "id": "bd7cbb47-9352-4092-9518-4ebb8157693c",
   "metadata": {},
   "source": [
    "## Some History\n",
    "\n",
    "The Notebook idea has a long history in the technical literature. Donald Knuth, the giant in computer science, envisioned a kind of \"literate programming\" wherein human and computer languages would mix seamlessly in a single document.\n",
    "\n",
    "Jupyter Notebooks originally stem from the [I-Python Notebook Project](https://ipython.org). I-Python was a broadly based open source project designed to enhance the Pythonista's interactive experience, especially with a better more capable REPL (Read Evaluate Print Loop).\n",
    "\n",
    "A Notebook runs as a client in the web browser, yet is connected to a kernel on the server that knows how to process a computer language such as Python. Because of the web browser context, JavaScript, an in-browser language, is also available.\n",
    "\n",
    "Once the I-Python Notebook was mature, the Jupyter Project refactored it so that other languages besides Python could play the role of kernel language."
   ]
  },
  {
   "cell_type": "markdown",
   "id": "5c40b44e-c7fc-487b-ae38-3b5415f49a7e",
   "metadata": {},
   "source": [
    "## Installing Jupyter Locally\n",
    "\n",
    "You will be encouraged to get enough free open source software installed on your local host to run [JupyterLabs](https://jupyter.org) with Notebooks inside them. This will make you independent of the cloud. You will be able to work without an internet connection. Python will be running on your machine, not on Google's, as it will be when using Colab.  It's not either / or.  You will be encouraged to switch back and forth between local and cloud workspace environments.\n",
    "\n",
    "To run JupyterLab you have two basic routes: \n",
    "\n",
    "* download Python from [Python.org](https://python.org) and then use pip install to download additional packages from [PyPi](https://pypi.org), the Python Index. In the most sophisticated setups, you would install to a virtual environment.\n",
    "  \n",
    "* download the [Anaconda distribution](https://www.anaconda.com/download) of Python, which comes pre-equipped with all the packages you'll need\n",
    "\n",
    "We recommend the second option because it's a lot easier and the Anaconda distribution is well-established as an industry standard. The first option might pertain if you are already comfortable with a pre-existing installation that you have been using productively, and you just want to enhance what you have, versus starting with a whole new distribution."
   ]
  },
  {
   "cell_type": "markdown",
   "id": "f1a36d6e-3542-40e4-af37-89d26b3435b3",
   "metadata": {},
   "source": [
    "Anaconda on a Windows start menu:\n",
    "<br />\n",
    "<a data-flickr-embed=\"true\" href=\"https://www.flickr.com/photos/kirbyurner/43857854005/in/album-72177720296706479\" title=\"Anaconda3 Submenu on Win 10\"><img src=\"https://live.staticflickr.com/1897/43857854005_666b1bce45_c.jpg\" width=\"800\" height=\"402\" alt=\"Anaconda3 Submenu on Win 10\"/></a><script async src=\"//embedr.flickr.com/assets/client-code.js\" charset=\"utf-8\"></script>\n",
    "<br />\n",
    "<br />\n",
    "<br />\n",
    "Anaconda Navigator:\n",
    "<br />\n",
    "<a data-flickr-embed=\"true\" href=\"https://www.flickr.com/photos/kirbyurner/40523021083/in/album-72177720296706479\" title=\"Anaconda Navigator\"><img src=\"https://live.staticflickr.com/7911/40523021083_ab45a0ca7b_c.jpg\" width=\"800\" height=\"426\" alt=\"Anaconda Navigator\"/></a><script async src=\"//embedr.flickr.com/assets/client-code.js\" charset=\"utf-8\"></script>"
   ]
  },
  {
   "cell_type": "markdown",
   "id": "fb103d7b-6edd-4b69-98ce-20f93dea86cd",
   "metadata": {},
   "source": [
    "## IDEs: Interactive Development Environments\n",
    "\n",
    "Is Jupyter Notebook an IDE? [Yes and no](https://skillapp.co/blog/the-ultimate-guide-is-jupyter-notebook-an-ide-or-just-a-code-editor/). We might say that Notebooks comprise a relatively new genre and thereby comprise a new tool in any developer's toolbox.\n",
    "\n",
    "Once you have the Anaconda distribution installed, you will find a very capable IDE named Spyder, in addition to JupyterLab. A conventional IDE has both a code editor panel for writing source code, and another panel that acts as a REPL (Read Evaluate Print Loop), which is a place to interact with (a) Python itself and (b) the namespaces you re defining in the source code.\n",
    "\n",
    "<a data-flickr-embed=\"true\" href=\"https://www.flickr.com/photos/kirbyurner/54045853650/in/dateposted/\" title=\"Spyder IDE\"><img src=\"https://live.staticflickr.com/65535/54045853650_68f9b290b8_z.jpg\" width=\"640\" height=\"461\" alt=\"Spyder IDE\"/></a><script async src=\"//embedr.flickr.com/assets/client-code.js\" charset=\"utf-8\"></script>"
   ]
  },
  {
   "cell_type": "markdown",
   "id": "6e93cfa2-9eec-4c23-bc19-712ffe9d2275",
   "metadata": {},
   "source": [
    "## COURSE CALENDAR\n",
    "\n",
    "\n",
    "<a data-flickr-embed=\"true\" href=\"https://www.flickr.com/photos/kirbyurner/54044634463/in/dateposted/\" title=\"Screen Shot 2024-10-05 at 7.42.42 AM\"><img src=\"https://live.staticflickr.com/65535/54044634463_e6231a3cb2_o.png\" width=\"980\" height=\"892\" alt=\"Screen Shot 2024-10-05 at 7.42.42 AM\"/></a><script async src=\"//embedr.flickr.com/assets/client-code.js\" charset=\"utf-8\"></script>\n",
    "<br>\n",
    "<br>\n",
    "\n",
    "<a data-flickr-embed=\"true\" href=\"https://www.flickr.com/photos/kirbyurner/54062477870/in/dateposted/\" title=\"Screen Shot 2024-10-12 at 1.47.13 PM\"><img src=\"https://live.staticflickr.com/65535/54062477870_3feed30a86_o.png\" width=\"731\" height=\"482\" alt=\"Screen Shot 2024-10-12 at 1.47.13 PM\"/></a><script async src=\"//embedr.flickr.com/assets/client-code.js\" charset=\"utf-8\"></script>\n"
   ]
  },
  {
   "cell_type": "markdown",
   "id": "1dadca71-0aad-43d8-9472-a3bfb6db2e9d",
   "metadata": {},
   "source": [
    "## APPENDIX\n",
    "\n",
    "* [Python Background Readings](https://github.com/4dsolutions/clarusway_data_analysis/blob/main/python_warm_up/warmup_python_intro.ipynb) (Urner)\n",
    "* [Python at W3Schools](https://www.w3schools.com/python/default.asp) (classic)\n",
    "* [Think Python](https://greenteapress.com/wp/think-python-3rd-edition/) (free book)\n",
    "* [About Kirby Urner](https://kirbyurner.academia.edu)\n",
    "* [Clarusway Album](https://flic.kr/s/aHBqjzCs82) (instructor site)\n",
    "* [Python for Data Science Album](https://flic.kr/s/aHsmfpMPL3) (instructor site)"
   ]
  }
 ],
 "metadata": {
  "kernelspec": {
   "display_name": "Python 3 (ipykernel)",
   "language": "python",
   "name": "python3"
  },
  "language_info": {
   "codemirror_mode": {
    "name": "ipython",
    "version": 3
   },
   "file_extension": ".py",
   "mimetype": "text/x-python",
   "name": "python",
   "nbconvert_exporter": "python",
   "pygments_lexer": "ipython3",
   "version": "3.11.3"
  }
 },
 "nbformat": 4,
 "nbformat_minor": 5
}
