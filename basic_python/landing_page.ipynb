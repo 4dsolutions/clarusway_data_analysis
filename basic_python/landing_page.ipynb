{
 "cells": [
  {
   "cell_type": "markdown",
   "id": "72f44ada-530c-4ed2-b204-98f768731c9f",
   "metadata": {},
   "source": [
    "<a data-flickr-embed=\"true\" href=\"https://www.flickr.com/photos/kirbyurner/52563704012/in/album-72177720296706479\" title=\"LMS Dashboard\"><img src=\"https://live.staticflickr.com/65535/52563704012_71ef4beb8a_b.jpg\" width=\"1024\" height=\"354\" alt=\"LMS Dashboard\"/></a><script async src=\"//embedr.flickr.com/assets/client-code.js\" charset=\"utf-8\"></script>"
   ]
  },
  {
   "cell_type": "markdown",
   "id": "bded90bc-5718-4fcf-935d-583ac8f85690",
   "metadata": {},
   "source": [
    "# BASIC PYTHON: LANDING PAGE"
   ]
  },
  {
   "cell_type": "markdown",
   "id": "ea9e2c3b-a846-47e2-8670-22acb98323f1",
   "metadata": {},
   "source": [
    "* link to LMS\n",
    "* link to Slack"
   ]
  },
  {
   "cell_type": "markdown",
   "id": "2b5bf393-e941-433e-a65b-30979955ec33",
   "metadata": {},
   "source": [
    "This Jupyter Notebook lives inside a Github repository. When you open it on Github, the Github server turns a JSON file with extension .ipynb, into an HTML file that renders inside your browser. Some features, such as YouTube thumbnails (playable when clicked), are not rendered. For a more complete rendering you may cut and paste the Github Notebook's URL into nbviewer at [nbviewer.org](https://nbviewer.org)\n",
    "\n",
    "Jupyter Notebooks may be accessed [through Google Colab](https://colab.research.google.com/github/4dsolutions/clarusway_data_analysis/blob/main/basic_python/landing_page.ipynb) as well, in which case they will present as interactive, meaning you can run the code, edit the code, rerun the code and so on. The Markdown cells are editable. You'll be free to save a copy, with your changes, to your own Google Drive, or to your local host (laptop etc.).\n",
    "\n",
    "Your instructor will walk you through these workflows."
   ]
  },
  {
   "cell_type": "markdown",
   "id": "5c40b44e-c7fc-487b-ae38-3b5415f49a7e",
   "metadata": {},
   "source": [
    "You will be encouraged to get enough free open source software installed on your local host to run JupyterLabs with Notebooks inside them. This will make you independent of the cloud. You will be able to work without an internet connection. Python will be running on your machine, not on Google's, as it will be when using Colab.  It's not either / or.  You will be encouraged to switch back and forth between local and cloud workspace environments.\n",
    "\n",
    "To run JupyterLab you have two basic routes: \n",
    "\n",
    "* download Python from [Python.org](https://python.org) and then use pip install to download additional packages from [PyPi](https://pypi.org), the Python Index. In the most sophisticated setups, you would install to a virtual environment.\n",
    "  \n",
    "* download the [Anaconda distribution](https://www.anaconda.com/download) of Python, which comes pre-equipped with all the packages you'll need\n",
    "\n",
    "We recommend the second option because it's a lot easier and the Anaconda distribution is well-established as an industry standard. The first option might pertain if you are already comfortable with a pre-existing installation that you have been using productively, and you just want to enhance what you have, versus starting with a whole new distribution."
   ]
  },
  {
   "cell_type": "markdown",
   "id": "f1a36d6e-3542-40e4-af37-89d26b3435b3",
   "metadata": {},
   "source": [
    "Anaconda on a Windows start menu:\n",
    "<br />\n",
    "<a data-flickr-embed=\"true\" href=\"https://www.flickr.com/photos/kirbyurner/43857854005/in/album-72177720296706479\" title=\"Anaconda3 Submenu on Win 10\"><img src=\"https://live.staticflickr.com/1897/43857854005_666b1bce45_c.jpg\" width=\"800\" height=\"402\" alt=\"Anaconda3 Submenu on Win 10\"/></a><script async src=\"//embedr.flickr.com/assets/client-code.js\" charset=\"utf-8\"></script>\n",
    "<br />\n",
    "<br />\n",
    "<br />\n",
    "Anaconda Navigator:\n",
    "<br />\n",
    "<a data-flickr-embed=\"true\" href=\"https://www.flickr.com/photos/kirbyurner/40523021083/in/album-72177720296706479\" title=\"Anaconda Navigator\"><img src=\"https://live.staticflickr.com/7911/40523021083_ab45a0ca7b_c.jpg\" width=\"800\" height=\"426\" alt=\"Anaconda Navigator\"/></a><script async src=\"//embedr.flickr.com/assets/client-code.js\" charset=\"utf-8\"></script>"
   ]
  },
  {
   "cell_type": "markdown",
   "id": "fb103d7b-6edd-4b69-98ce-20f93dea86cd",
   "metadata": {},
   "source": [
    "## IDEs: Interactive Development Environments\n",
    "\n",
    "Is Jupyter Notebook an IDE? [Yes and no](https://skillapp.co/blog/the-ultimate-guide-is-jupyter-notebook-an-ide-or-just-a-code-editor/). We might say that Notebooks comprise a relatively new genre and thereby comprise a new tool in any developer's toolbox.\n",
    "\n",
    "Once you have the Anaconda distribution installed, you will find a very capable IDE named Spyder, in addition to JupyterLab. A conventional IDE has both a code editor panel for writing source code, and another panel that acts as a REPL (Read Evaluate Print Loop), which is a place to interact with (a) Python itself and (b) the namespaces you re defining in the source code.\n",
    "\n",
    "<a data-flickr-embed=\"true\" href=\"https://www.flickr.com/photos/kirbyurner/54045853650/in/dateposted/\" title=\"Spyder IDE\"><img src=\"https://live.staticflickr.com/65535/54045853650_68f9b290b8_z.jpg\" width=\"640\" height=\"461\" alt=\"Spyder IDE\"/></a><script async src=\"//embedr.flickr.com/assets/client-code.js\" charset=\"utf-8\"></script>"
   ]
  },
  {
   "cell_type": "markdown",
   "id": "d266bf28-e0e5-4024-8689-7d2faca2299e",
   "metadata": {},
   "source": [
    "## BACKUP NOTEBOOKS / REPO COPIES OF IN-CLASS SESSIONS"
   ]
  },
  {
   "cell_type": "markdown",
   "id": "e2aeea3b-7510-4ae1-b74e-27bdff9e46d4",
   "metadata": {},
   "source": [
    "* [Session 1](01.session01.ipynb)\n",
    "* [Session 2](02.session02.ipynb)\n",
    "* [Session 3](03.Python_Session3.ipynb)"
   ]
  },
  {
   "cell_type": "markdown",
   "id": "6e93cfa2-9eec-4c23-bc19-712ffe9d2275",
   "metadata": {},
   "source": [
    "## CALENDAR\n",
    "\n",
    "<a data-flickr-embed=\"true\" href=\"https://www.flickr.com/photos/kirbyurner/54044634463/in/dateposted/\" title=\"Screen Shot 2024-10-05 at 7.42.42 AM\"><img src=\"https://live.staticflickr.com/65535/54044634463_e6231a3cb2_o.png\" width=\"980\" height=\"892\" alt=\"Screen Shot 2024-10-05 at 7.42.42 AM\"/></a><script async src=\"//embedr.flickr.com/assets/client-code.js\" charset=\"utf-8\"></script>"
   ]
  },
  {
   "cell_type": "markdown",
   "id": "1dadca71-0aad-43d8-9472-a3bfb6db2e9d",
   "metadata": {},
   "source": [
    "## APPENDIX\n",
    "\n",
    "[Python Background Readings](https://github.com/4dsolutions/clarusway_data_analysis/blob/main/python_warm_up/warmup_python_intro.ipynb)"
   ]
  }
 ],
 "metadata": {
  "kernelspec": {
   "display_name": "Python 3 (ipykernel)",
   "language": "python",
   "name": "python3"
  },
  "language_info": {
   "codemirror_mode": {
    "name": "ipython",
    "version": 3
   },
   "file_extension": ".py",
   "mimetype": "text/x-python",
   "name": "python",
   "nbconvert_exporter": "python",
   "pygments_lexer": "ipython3",
   "version": "3.11.3"
  }
 },
 "nbformat": 4,
 "nbformat_minor": 5
}
