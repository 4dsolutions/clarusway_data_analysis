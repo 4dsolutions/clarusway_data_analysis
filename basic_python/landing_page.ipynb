{
 "cells": [
  {
   "cell_type": "markdown",
   "id": "3ff10895-0086-44c7-9157-ef479dca8094",
   "metadata": {},
   "source": [
    "#### Clarusway Python\n",
    "\n",
    "* [Instructor Landing Page](landing_page.ipynb)\n",
    "* <a href=\"https://colab.research.google.com/github/4dsolutions/clarusway_data_analysis/blob/main/basic_python/landing_page.ipynb\"><img align=\"left\" src=\"https://colab.research.google.com/assets/colab-badge.svg\" alt=\"Open in Colab\" title=\"Open and Execute in Google Colaboratory\"></a>\n",
    "* [![nbviewer](https://raw.githubusercontent.com/jupyter/design/master/logos/Badges/nbviewer_badge.svg)](https://nbviewer.org/github/4dsolutions/clarusway_data_analysis/blob/main/basic_python/landing_page.ipynb)"
   ]
  },
  {
   "cell_type": "markdown",
   "id": "72f44ada-530c-4ed2-b204-98f768731c9f",
   "metadata": {},
   "source": [
    "<a data-flickr-embed=\"true\" href=\"https://www.flickr.com/photos/kirbyurner/52563704012/in/album-72177720296706479\" title=\"LMS Dashboard\"><img src=\"https://live.staticflickr.com/65535/52563704012_71ef4beb8a_b.jpg\" width=\"1024\" height=\"354\" alt=\"LMS Dashboard\"/></a><script async src=\"//embedr.flickr.com/assets/client-code.js\" charset=\"utf-8\"></script>"
   ]
  },
  {
   "cell_type": "markdown",
   "id": "bded90bc-5718-4fcf-935d-583ac8f85690",
   "metadata": {},
   "source": [
    "# BASIC PYTHON: LANDING PAGE"
   ]
  },
  {
   "cell_type": "markdown",
   "id": "ea9e2c3b-a846-47e2-8670-22acb98323f1",
   "metadata": {},
   "source": [
    "* [Clarusway Python](https://academy.clarusway.com/course/python)\n",
    "* [#class-chat on Slack](https://ds1624us.slack.com/archives/C07Q0D661QA)\n",
    "* [Python Playground](https://playground.programiz.com)\n",
    "* [Python docs](https://docs.python.org/3/)\n",
    "* [Python.org](https://python.org)\n",
    "\n",
    "For additional resources, scroll to the end of this Notebook."
   ]
  },
  {
   "cell_type": "markdown",
   "id": "5aca5130-f713-4c59-afe7-8e255c15aa95",
   "metadata": {},
   "source": [
    "## Introduction\n",
    "\n",
    "Per our session three lecture and lab, and Sam's intro, our approach to Python is colored (as in flavored) by the discipline of data science. The main business of data science, and statistics at its core, featuring ideas about randomness, expectations, likelihood, probability, is \"predicting the future\" not by superstitious means, but by squeezing as much information about the past as feasible, in terms of patterns, and extrapolating these patterns. You might be thinking about climate change and how the ice ages come and go. Do we expect a next ice age? When? Data scientists want to know.\n",
    "\n",
    "However, in the context of learning data science, the data we explore might not have much bearing on what you will handle on the job. Rather than try to predict your specific needs, we use data that other students and teachers are using as well, and in that way benefit from a large and growing secondary literature.\n",
    "\n",
    "Lets take a look at one of those datasets now...\n"
   ]
  },
  {
   "cell_type": "code",
   "execution_count": 1,
   "id": "fdf588ce-a987-421c-9773-79ce4057c284",
   "metadata": {},
   "outputs": [
    {
     "data": {
      "text/html": [
       "<div>\n",
       "<style scoped>\n",
       "    .dataframe tbody tr th:only-of-type {\n",
       "        vertical-align: middle;\n",
       "    }\n",
       "\n",
       "    .dataframe tbody tr th {\n",
       "        vertical-align: top;\n",
       "    }\n",
       "\n",
       "    .dataframe thead th {\n",
       "        text-align: right;\n",
       "    }\n",
       "</style>\n",
       "<table border=\"1\" class=\"dataframe\">\n",
       "  <thead>\n",
       "    <tr style=\"text-align: right;\">\n",
       "      <th></th>\n",
       "      <th>total_bill</th>\n",
       "      <th>tip</th>\n",
       "      <th>sex</th>\n",
       "      <th>smoker</th>\n",
       "      <th>day</th>\n",
       "      <th>time</th>\n",
       "      <th>size</th>\n",
       "    </tr>\n",
       "  </thead>\n",
       "  <tbody>\n",
       "    <tr>\n",
       "      <th>0</th>\n",
       "      <td>16.99</td>\n",
       "      <td>1.01</td>\n",
       "      <td>Female</td>\n",
       "      <td>No</td>\n",
       "      <td>Sun</td>\n",
       "      <td>Dinner</td>\n",
       "      <td>2</td>\n",
       "    </tr>\n",
       "    <tr>\n",
       "      <th>1</th>\n",
       "      <td>10.34</td>\n",
       "      <td>1.66</td>\n",
       "      <td>Male</td>\n",
       "      <td>No</td>\n",
       "      <td>Sun</td>\n",
       "      <td>Dinner</td>\n",
       "      <td>3</td>\n",
       "    </tr>\n",
       "    <tr>\n",
       "      <th>2</th>\n",
       "      <td>21.01</td>\n",
       "      <td>3.50</td>\n",
       "      <td>Male</td>\n",
       "      <td>No</td>\n",
       "      <td>Sun</td>\n",
       "      <td>Dinner</td>\n",
       "      <td>3</td>\n",
       "    </tr>\n",
       "    <tr>\n",
       "      <th>3</th>\n",
       "      <td>23.68</td>\n",
       "      <td>3.31</td>\n",
       "      <td>Male</td>\n",
       "      <td>No</td>\n",
       "      <td>Sun</td>\n",
       "      <td>Dinner</td>\n",
       "      <td>2</td>\n",
       "    </tr>\n",
       "    <tr>\n",
       "      <th>4</th>\n",
       "      <td>24.59</td>\n",
       "      <td>3.61</td>\n",
       "      <td>Female</td>\n",
       "      <td>No</td>\n",
       "      <td>Sun</td>\n",
       "      <td>Dinner</td>\n",
       "      <td>4</td>\n",
       "    </tr>\n",
       "  </tbody>\n",
       "</table>\n",
       "</div>"
      ],
      "text/plain": [
       "   total_bill   tip     sex smoker  day    time  size\n",
       "0       16.99  1.01  Female     No  Sun  Dinner     2\n",
       "1       10.34  1.66    Male     No  Sun  Dinner     3\n",
       "2       21.01  3.50    Male     No  Sun  Dinner     3\n",
       "3       23.68  3.31    Male     No  Sun  Dinner     2\n",
       "4       24.59  3.61  Female     No  Sun  Dinner     4"
      ]
     },
     "execution_count": 1,
     "metadata": {},
     "output_type": "execute_result"
    }
   ],
   "source": [
    "import seaborn as sns\n",
    "\n",
    "tips = sns.load_dataset('tips')\n",
    "tips.head()"
   ]
  },
  {
   "cell_type": "markdown",
   "id": "d9154d3c-2eab-484e-bb9d-38356c2d1022",
   "metadata": {},
   "source": [
    "What the above code cell presumes is that you have seaborn on board (in your syspath). Seaborn is what we call a \"3rd party\" package, meaning it lives outside the Python Standard Library. Most packages do. The Standard Library is relatively tiny. That's why we start the course by talking about these differences. By now you've heard about Anaconda.  You also know that Python was originally named for Monty Python, the BBC comedy troupe, and accessible to the young Guido van Rossum, Python's inventor."
   ]
  },
  {
   "cell_type": "markdown",
   "id": "5e373b87-f551-482e-8139-85e6af61e0cb",
   "metadata": {},
   "source": [
    "Seaborn comes with a set of data sets, such as the one above, designed to bring new users up to speed with the tools, the objects and their methods within the seaborn namespace. By loading the tips data set, we create a new DataFrame type. Let me show you:"
   ]
  },
  {
   "cell_type": "code",
   "execution_count": 2,
   "id": "26acf100-fcd8-4662-8b27-c91a31749529",
   "metadata": {},
   "outputs": [
    {
     "data": {
      "text/plain": [
       "pandas.core.frame.DataFrame"
      ]
     },
     "execution_count": 2,
     "metadata": {},
     "output_type": "execute_result"
    }
   ],
   "source": [
    "type(tips)"
   ]
  },
  {
   "cell_type": "code",
   "execution_count": 3,
   "id": "823dafb8-0818-46f2-adc7-121853b65994",
   "metadata": {},
   "outputs": [
    {
     "data": {
      "text/plain": [
       "436"
      ]
     },
     "execution_count": 3,
     "metadata": {},
     "output_type": "execute_result"
    }
   ],
   "source": [
    "len(dir(tips))"
   ]
  },
  {
   "cell_type": "markdown",
   "id": "567cf3a0-b414-4247-b452-6300fbf6af44",
   "metadata": {},
   "source": [
    "We've been playing with `dir( )`. What the above cells show us is a DataFrame, whatever that might be, has a humongous number of methods. This must be one honking big namespace, and it is.\n",
    "\n",
    "What the above also tells us is the DataFrame type is defined deep inside a whole other package, not seaborn at all, called pandas.\n",
    "\n",
    "*Exercise*:  scroll to the top of this landing page and pick out pandas and seaborn in the banner, they both have logos, then come back here and continue."
   ]
  },
  {
   "cell_type": "markdown",
   "id": "505c81f1-b291-4397-9f2d-53e8aa06c0f8",
   "metadata": {},
   "source": [
    "You may recall I mentioned software engineering and by extension data science, is easier if you fire up your imagination. For example, the tips DataFrame data is all about some smoke-filled restaurant, sometimes busy, sometimes not. Parties, meaning groups of people, with as few as one person, get seated in either the smoking or non-smoking section. \n",
    "\n",
    "We don't know if everyone in the party smokes, maybe some just put up with it. Our data is collected from the point of view of a server, going from table to table during specific meal times, on specific days of the week, seating people in smoking and not smoking, while also collecting bills and tips. \n",
    "\n",
    "The server notes if the bill payer is male or female and that's about it. We don't know if the bill payer is actually the one smoking in all cases. We don't know if the payer is being reimbursed by others in the party. Since there's always only one payer per group, let's assume a cash only economy so as not to confuse ourselves with a lot of credit cards.\n",
    "\n",
    "My belief is if you play a movie in your head (daydream about the scene -- less expensive than AI), or find a collection of such movies (tied to the tips DataFrame), then you will have an easier time doing data analysis and finding out answers to such questions as to whether males or females tip more on a Saturday. You might need to trick yourself into caring. It's not the data, it's the tools. Once you learn the tools, the focus will become the data."
   ]
  },
  {
   "cell_type": "markdown",
   "id": "63eabe70-c38c-43bd-9ffc-fa16da1ab3cf",
   "metadata": {},
   "source": [
    "Let's look at two more data sets bundled with seaborn: penguins and titanic."
   ]
  },
  {
   "cell_type": "code",
   "execution_count": 4,
   "id": "da343319-4169-4fd1-a35e-beb42eb843fa",
   "metadata": {},
   "outputs": [],
   "source": [
    "penguins = sns.load_dataset('penguins')\n",
    "titanic = sns.load_dataset('titanic')"
   ]
  },
  {
   "cell_type": "markdown",
   "id": "aaa05392-ec13-4047-9b52-c94dd6d1bc5f",
   "metadata": {},
   "source": [
    "These data sets have nothing to do with one another and it's therefore odd (highly improbable) that we would want to have both open in the same analysis except in a context such as this one, when we're learning the ropes more than practicing our profession. We're learning our profession."
   ]
  },
  {
   "cell_type": "code",
   "execution_count": 5,
   "id": "c0b915d7-ac49-4d74-b89c-61a1d72642cf",
   "metadata": {},
   "outputs": [
    {
     "data": {
      "text/html": [
       "<div>\n",
       "<style scoped>\n",
       "    .dataframe tbody tr th:only-of-type {\n",
       "        vertical-align: middle;\n",
       "    }\n",
       "\n",
       "    .dataframe tbody tr th {\n",
       "        vertical-align: top;\n",
       "    }\n",
       "\n",
       "    .dataframe thead th {\n",
       "        text-align: right;\n",
       "    }\n",
       "</style>\n",
       "<table border=\"1\" class=\"dataframe\">\n",
       "  <thead>\n",
       "    <tr style=\"text-align: right;\">\n",
       "      <th></th>\n",
       "      <th>bill_length_mm</th>\n",
       "      <th>bill_depth_mm</th>\n",
       "      <th>flipper_length_mm</th>\n",
       "      <th>body_mass_g</th>\n",
       "    </tr>\n",
       "  </thead>\n",
       "  <tbody>\n",
       "    <tr>\n",
       "      <th>count</th>\n",
       "      <td>342.000000</td>\n",
       "      <td>342.000000</td>\n",
       "      <td>342.000000</td>\n",
       "      <td>342.000000</td>\n",
       "    </tr>\n",
       "    <tr>\n",
       "      <th>mean</th>\n",
       "      <td>43.921930</td>\n",
       "      <td>17.151170</td>\n",
       "      <td>200.915205</td>\n",
       "      <td>4201.754386</td>\n",
       "    </tr>\n",
       "    <tr>\n",
       "      <th>std</th>\n",
       "      <td>5.459584</td>\n",
       "      <td>1.974793</td>\n",
       "      <td>14.061714</td>\n",
       "      <td>801.954536</td>\n",
       "    </tr>\n",
       "    <tr>\n",
       "      <th>min</th>\n",
       "      <td>32.100000</td>\n",
       "      <td>13.100000</td>\n",
       "      <td>172.000000</td>\n",
       "      <td>2700.000000</td>\n",
       "    </tr>\n",
       "    <tr>\n",
       "      <th>25%</th>\n",
       "      <td>39.225000</td>\n",
       "      <td>15.600000</td>\n",
       "      <td>190.000000</td>\n",
       "      <td>3550.000000</td>\n",
       "    </tr>\n",
       "    <tr>\n",
       "      <th>50%</th>\n",
       "      <td>44.450000</td>\n",
       "      <td>17.300000</td>\n",
       "      <td>197.000000</td>\n",
       "      <td>4050.000000</td>\n",
       "    </tr>\n",
       "    <tr>\n",
       "      <th>75%</th>\n",
       "      <td>48.500000</td>\n",
       "      <td>18.700000</td>\n",
       "      <td>213.000000</td>\n",
       "      <td>4750.000000</td>\n",
       "    </tr>\n",
       "    <tr>\n",
       "      <th>max</th>\n",
       "      <td>59.600000</td>\n",
       "      <td>21.500000</td>\n",
       "      <td>231.000000</td>\n",
       "      <td>6300.000000</td>\n",
       "    </tr>\n",
       "  </tbody>\n",
       "</table>\n",
       "</div>"
      ],
      "text/plain": [
       "       bill_length_mm  bill_depth_mm  flipper_length_mm  body_mass_g\n",
       "count      342.000000     342.000000         342.000000   342.000000\n",
       "mean        43.921930      17.151170         200.915205  4201.754386\n",
       "std          5.459584       1.974793          14.061714   801.954536\n",
       "min         32.100000      13.100000         172.000000  2700.000000\n",
       "25%         39.225000      15.600000         190.000000  3550.000000\n",
       "50%         44.450000      17.300000         197.000000  4050.000000\n",
       "75%         48.500000      18.700000         213.000000  4750.000000\n",
       "max         59.600000      21.500000         231.000000  6300.000000"
      ]
     },
     "execution_count": 5,
     "metadata": {},
     "output_type": "execute_result"
    }
   ],
   "source": [
    "penguins.describe() "
   ]
  },
  {
   "cell_type": "code",
   "execution_count": 6,
   "id": "c65e319b-e38e-48cc-b3bb-f12b1cd29749",
   "metadata": {},
   "outputs": [],
   "source": [
    "# help(penguins.describe) # <-- uncomment (remove first hash tag) and rerun for a (very) lengthy help message"
   ]
  },
  {
   "cell_type": "code",
   "execution_count": 7,
   "id": "a5980abe-db46-48a6-8e78-6fc8fcaf7f0b",
   "metadata": {},
   "outputs": [
    {
     "data": {
      "text/html": [
       "<div>\n",
       "<style scoped>\n",
       "    .dataframe tbody tr th:only-of-type {\n",
       "        vertical-align: middle;\n",
       "    }\n",
       "\n",
       "    .dataframe tbody tr th {\n",
       "        vertical-align: top;\n",
       "    }\n",
       "\n",
       "    .dataframe thead th {\n",
       "        text-align: right;\n",
       "    }\n",
       "</style>\n",
       "<table border=\"1\" class=\"dataframe\">\n",
       "  <thead>\n",
       "    <tr style=\"text-align: right;\">\n",
       "      <th></th>\n",
       "      <th>species</th>\n",
       "      <th>island</th>\n",
       "      <th>bill_length_mm</th>\n",
       "      <th>bill_depth_mm</th>\n",
       "      <th>flipper_length_mm</th>\n",
       "      <th>body_mass_g</th>\n",
       "      <th>sex</th>\n",
       "    </tr>\n",
       "  </thead>\n",
       "  <tbody>\n",
       "    <tr>\n",
       "      <th>count</th>\n",
       "      <td>344</td>\n",
       "      <td>344</td>\n",
       "      <td>342.000000</td>\n",
       "      <td>342.000000</td>\n",
       "      <td>342.000000</td>\n",
       "      <td>342.000000</td>\n",
       "      <td>333</td>\n",
       "    </tr>\n",
       "    <tr>\n",
       "      <th>unique</th>\n",
       "      <td>3</td>\n",
       "      <td>3</td>\n",
       "      <td>NaN</td>\n",
       "      <td>NaN</td>\n",
       "      <td>NaN</td>\n",
       "      <td>NaN</td>\n",
       "      <td>2</td>\n",
       "    </tr>\n",
       "    <tr>\n",
       "      <th>top</th>\n",
       "      <td>Adelie</td>\n",
       "      <td>Biscoe</td>\n",
       "      <td>NaN</td>\n",
       "      <td>NaN</td>\n",
       "      <td>NaN</td>\n",
       "      <td>NaN</td>\n",
       "      <td>Male</td>\n",
       "    </tr>\n",
       "    <tr>\n",
       "      <th>freq</th>\n",
       "      <td>152</td>\n",
       "      <td>168</td>\n",
       "      <td>NaN</td>\n",
       "      <td>NaN</td>\n",
       "      <td>NaN</td>\n",
       "      <td>NaN</td>\n",
       "      <td>168</td>\n",
       "    </tr>\n",
       "    <tr>\n",
       "      <th>mean</th>\n",
       "      <td>NaN</td>\n",
       "      <td>NaN</td>\n",
       "      <td>43.921930</td>\n",
       "      <td>17.151170</td>\n",
       "      <td>200.915205</td>\n",
       "      <td>4201.754386</td>\n",
       "      <td>NaN</td>\n",
       "    </tr>\n",
       "    <tr>\n",
       "      <th>std</th>\n",
       "      <td>NaN</td>\n",
       "      <td>NaN</td>\n",
       "      <td>5.459584</td>\n",
       "      <td>1.974793</td>\n",
       "      <td>14.061714</td>\n",
       "      <td>801.954536</td>\n",
       "      <td>NaN</td>\n",
       "    </tr>\n",
       "    <tr>\n",
       "      <th>min</th>\n",
       "      <td>NaN</td>\n",
       "      <td>NaN</td>\n",
       "      <td>32.100000</td>\n",
       "      <td>13.100000</td>\n",
       "      <td>172.000000</td>\n",
       "      <td>2700.000000</td>\n",
       "      <td>NaN</td>\n",
       "    </tr>\n",
       "    <tr>\n",
       "      <th>25%</th>\n",
       "      <td>NaN</td>\n",
       "      <td>NaN</td>\n",
       "      <td>39.225000</td>\n",
       "      <td>15.600000</td>\n",
       "      <td>190.000000</td>\n",
       "      <td>3550.000000</td>\n",
       "      <td>NaN</td>\n",
       "    </tr>\n",
       "    <tr>\n",
       "      <th>50%</th>\n",
       "      <td>NaN</td>\n",
       "      <td>NaN</td>\n",
       "      <td>44.450000</td>\n",
       "      <td>17.300000</td>\n",
       "      <td>197.000000</td>\n",
       "      <td>4050.000000</td>\n",
       "      <td>NaN</td>\n",
       "    </tr>\n",
       "    <tr>\n",
       "      <th>75%</th>\n",
       "      <td>NaN</td>\n",
       "      <td>NaN</td>\n",
       "      <td>48.500000</td>\n",
       "      <td>18.700000</td>\n",
       "      <td>213.000000</td>\n",
       "      <td>4750.000000</td>\n",
       "      <td>NaN</td>\n",
       "    </tr>\n",
       "    <tr>\n",
       "      <th>max</th>\n",
       "      <td>NaN</td>\n",
       "      <td>NaN</td>\n",
       "      <td>59.600000</td>\n",
       "      <td>21.500000</td>\n",
       "      <td>231.000000</td>\n",
       "      <td>6300.000000</td>\n",
       "      <td>NaN</td>\n",
       "    </tr>\n",
       "  </tbody>\n",
       "</table>\n",
       "</div>"
      ],
      "text/plain": [
       "       species  island  bill_length_mm  bill_depth_mm  flipper_length_mm  \\\n",
       "count      344     344      342.000000     342.000000         342.000000   \n",
       "unique       3       3             NaN            NaN                NaN   \n",
       "top     Adelie  Biscoe             NaN            NaN                NaN   \n",
       "freq       152     168             NaN            NaN                NaN   \n",
       "mean       NaN     NaN       43.921930      17.151170         200.915205   \n",
       "std        NaN     NaN        5.459584       1.974793          14.061714   \n",
       "min        NaN     NaN       32.100000      13.100000         172.000000   \n",
       "25%        NaN     NaN       39.225000      15.600000         190.000000   \n",
       "50%        NaN     NaN       44.450000      17.300000         197.000000   \n",
       "75%        NaN     NaN       48.500000      18.700000         213.000000   \n",
       "max        NaN     NaN       59.600000      21.500000         231.000000   \n",
       "\n",
       "        body_mass_g   sex  \n",
       "count    342.000000   333  \n",
       "unique          NaN     2  \n",
       "top             NaN  Male  \n",
       "freq            NaN   168  \n",
       "mean    4201.754386   NaN  \n",
       "std      801.954536   NaN  \n",
       "min     2700.000000   NaN  \n",
       "25%     3550.000000   NaN  \n",
       "50%     4050.000000   NaN  \n",
       "75%     4750.000000   NaN  \n",
       "max     6300.000000   NaN  "
      ]
     },
     "execution_count": 7,
     "metadata": {},
     "output_type": "execute_result"
    }
   ],
   "source": [
    "penguins.describe(include = 'all')"
   ]
  },
  {
   "cell_type": "markdown",
   "id": "17c168b7-5360-4ce4-8410-cf347c8ac83b",
   "metadata": {},
   "source": [
    "What we learn above is that a DataFrame comes with a describe method, and that this method optionally takes arguments. The output gives an overview of the columns, and the type and range in value found within each.\n",
    "\n",
    "Exercise: perform this same analysis vis-a-vis the titanic DataFrame, already open in this namespace if you run the Notebook up to here. Colab works as Google knows about the seaborn package (its in the default syspath already)."
   ]
  },
  {
   "cell_type": "code",
   "execution_count": null,
   "id": "2c737b23-ed4d-4a32-b45f-720d0cecd09c",
   "metadata": {},
   "outputs": [],
   "source": []
  },
  {
   "cell_type": "markdown",
   "id": "2cc73cd4-7fdc-4a8e-bda2-7ea7739c5c0e",
   "metadata": {},
   "source": [
    "The titanic dataset tells the tragic tale (sadly true) of a great ocean liner sinking at sea and people of different ages and genders, with or without siblings on board, with or without spouses, either living (because they found a place in a life boat) or not. \n",
    "\n",
    "Actuarial science looks a lot like this, in showing deaths related to causes by age or other grouping, giving ideas about percentages with respect to a specific sample. \n",
    "\n",
    "Medical science is likewise about looking for patterns in health-related data sets.\n",
    "\n",
    "After we know enough basic Python to use powertools like pandas and seaborn, numpy and matplotlib, we'll start to use them. Your habits as a Python coder will carry over: documentation close at hand, Jupyter Notebook or other \"literate programming\" sandbox open... whatever you need for a specifc project.\n",
    "\n",
    "Once comfortable with data sets and data wrangling, you will be introduced to [tensorflow](https://www.tensorflow.org) (Python package) and Machine Learning. Using ML, you will make models with predictive powers, in accordance with the main business of data science as stated at the outset: predicting the future.\n",
    "\n",
    "If a next party enters the restaurant, smokers on a Saturday, ostensibly a female bill payer, should our waiter expect a higher than average bill and bigger tip? Lets hope so, for the waiter's sake."
   ]
  },
  {
   "cell_type": "markdown",
   "id": "ac76ada6-d8f8-4787-995b-eabea034dd15",
   "metadata": {},
   "source": [
    "### Notebooks, Labs and Assignments\n",
    "\n",
    "* [Notebook of the Day](03.Python_Session3.ipynb) (Session 03)\n",
    "* [Lab Notebook](Python_Lab1.ipynb) (Lab 1)\n",
    "* [Assignment 1](Assignment_1_profit_calculator.ipynb) (Profit Calculator)\n",
    "* [Assignment 2](Assignment_2_covid_19.ipynb) (Covid 19)"
   ]
  },
  {
   "cell_type": "markdown",
   "id": "ff5172be-9c44-43d3-8464-d5a9e0f72463",
   "metadata": {},
   "source": [
    "## Weekly Sandboxes\n",
    "\n",
    "* [Week 1](sandbox_week_01.ipynb) "
   ]
  },
  {
   "cell_type": "markdown",
   "id": "42259d95-0c66-4157-ac10-22df9131577d",
   "metadata": {},
   "source": [
    "### 1-2-3 Testing...\n",
    "\n",
    "The Python prompt presents a simple interface to the user.  Click on the Playground link to experience this yourself.\n",
    "\n",
    "The user enters an expression, such as 2+2, and Python parses it, evaluates it, and replies with a result, or maybe a warning or exception of some rule was broken. \n",
    "\n",
    "This is not an \"AI prompt\" (such as ChatGPT's), meaning open to natural language, and more forgiving of garbage. But then, as computer languages go, Python is quite forgiving, eager to explain what when wrong, if something did."
   ]
  },
  {
   "cell_type": "markdown",
   "id": "8d5524a6-d6fa-4f74-b67b-200d0ef04980",
   "metadata": {},
   "source": [
    "Let's make a mistake on purpose, and get back a \"pink box\" about a TypeError:"
   ]
  },
  {
   "cell_type": "code",
   "execution_count": 8,
   "id": "e29a97ce-dea8-41e6-9cf9-ea9d26ec9e58",
   "metadata": {},
   "outputs": [
    {
     "data": {
      "text/plain": [
       "25"
      ]
     },
     "execution_count": 8,
     "metadata": {},
     "output_type": "execute_result"
    }
   ],
   "source": [
    "# Uncomment the expression below to deliberately generate an error\n",
    "5 * 5  # trying to add int and str, which some languages will allow"
   ]
  },
  {
   "cell_type": "markdown",
   "id": "614b884f-4e88-4742-b0c6-8b7a3e8d877d",
   "metadata": {},
   "source": [
    "One way to avoid a lot of pink boxes and to keep the code going is to \"handle\" the exception. Here's a preview:"
   ]
  },
  {
   "cell_type": "code",
   "execution_count": 9,
   "id": "c4817927-f094-45fe-b44e-43e1a61d02c5",
   "metadata": {},
   "outputs": [
    {
     "name": "stdout",
     "output_type": "stream",
     "text": [
      "Oops, something went wrong\n",
      "Do this no matter what\n"
     ]
    }
   ],
   "source": [
    "\"\"\"\n",
    "The code in this cell is meant to be interactive. If you are\n",
    "running a live copy of this Notebook, with an active kernel \n",
    "in the background, then try changing \"5\" + 5, to 5 + 5, i.e.\n",
    "take the quotes off around the first 5. That will make the \n",
    "expression 'legal' and print the result: 10.\n",
    "\"\"\"\n",
    "try:\n",
    "    print(\"5\" + 5)\n",
    "except:\n",
    "    print(\"Oops, something went wrong\")\n",
    "finally:\n",
    "    print(\"Do this no matter what\")"
   ]
  },
  {
   "cell_type": "code",
   "execution_count": 10,
   "id": "554b6c93-4d19-4dea-9f70-cbccc0abfa03",
   "metadata": {},
   "outputs": [
    {
     "data": {
      "text/plain": [
       "{'REPL': 'Read Evaluate Print Loop'}"
      ]
     },
     "execution_count": 10,
     "metadata": {},
     "output_type": "execute_result"
    }
   ],
   "source": [
    "glossary = {} # Empty dictionary\n",
    "glossary.update( {\"REPL\": \"Read Evaluate Print Loop\"} )\n",
    "glossary"
   ]
  },
  {
   "cell_type": "markdown",
   "id": "e8403818-c811-4f4b-972b-13e0038b20b6",
   "metadata": {},
   "source": [
    "In other words, this is not an anything-goes \"blank canvas\", this world, this namespace. What it makes the most sense to do is make expressions, such as 2+2, using builtin names and operators (such as + / \\- *)."
   ]
  },
  {
   "cell_type": "markdown",
   "id": "130ec7d1-bca3-4d97-88c0-db1e7273e60d",
   "metadata": {},
   "source": [
    "What are these \"built ins\" you ask? When you start up Python, the builtins are automatically imported from a module known as `__builtins__` -- let's use `dir` to see what it contains..."
   ]
  },
  {
   "cell_type": "code",
   "execution_count": 11,
   "id": "18970f46-560f-459b-8e38-2993a8cd8d27",
   "metadata": {},
   "outputs": [
    {
     "data": {
      "text/plain": [
       "<module 'builtins' (built-in)>"
      ]
     },
     "execution_count": 11,
     "metadata": {},
     "output_type": "execute_result"
    }
   ],
   "source": [
    "__builtins__"
   ]
  },
  {
   "cell_type": "code",
   "execution_count": 12,
   "id": "d3bb7215-ae36-4c54-b44c-88ab854e4803",
   "metadata": {},
   "outputs": [
    {
     "name": "stdout",
     "output_type": "stream",
     "text": [
      "['ArithmeticError', 'AssertionError', 'AttributeError', 'BaseException', 'BaseExceptionGroup', 'BlockingIOError', 'BrokenPipeError', 'BufferError', 'BytesWarning', 'ChildProcessError', 'ConnectionAbortedError', 'ConnectionError', 'ConnectionRefusedError', 'ConnectionResetError', 'DeprecationWarning', 'EOFError', 'Ellipsis', 'EncodingWarning', 'EnvironmentError', 'Exception', 'ExceptionGroup', 'False', 'FileExistsError', 'FileNotFoundError', 'FloatingPointError', 'FutureWarning', 'GeneratorExit', 'IOError', 'ImportError', 'ImportWarning', 'IndentationError', 'IndexError', 'InterruptedError', 'IsADirectoryError', 'KeyError', 'KeyboardInterrupt', 'LookupError', 'MemoryError', 'ModuleNotFoundError', 'NameError', 'None', 'NotADirectoryError', 'NotImplemented', 'NotImplementedError', 'OSError', 'OverflowError', 'PendingDeprecationWarning', 'PermissionError', 'ProcessLookupError', 'RecursionError', 'ReferenceError', 'ResourceWarning', 'RuntimeError', 'RuntimeWarning', 'StopAsyncIteration', 'StopIteration', 'SyntaxError', 'SyntaxWarning', 'SystemError', 'SystemExit', 'TabError', 'TimeoutError', 'True', 'TypeError', 'UnboundLocalError', 'UnicodeDecodeError', 'UnicodeEncodeError', 'UnicodeError', 'UnicodeTranslateError', 'UnicodeWarning', 'UserWarning', 'ValueError', 'Warning', 'ZeroDivisionError', '__IPYTHON__', '__build_class__', '__debug__', '__doc__', '__import__', '__loader__', '__name__', '__package__', '__pybind11_internals_v4_clang_libcpp_cxxabi1002__', '__spec__', 'abs', 'aiter', 'all', 'anext', 'any', 'ascii', 'bin', 'bool', 'breakpoint', 'bytearray', 'bytes', 'callable', 'chr', 'classmethod', 'compile', 'complex', 'copyright', 'credits', 'delattr', 'dict', 'dir', 'display', 'divmod', 'enumerate', 'eval', 'exec', 'execfile', 'filter', 'float', 'format', 'frozenset', 'get_ipython', 'getattr', 'globals', 'hasattr', 'hash', 'help', 'hex', 'id', 'input', 'int', 'isinstance', 'issubclass', 'iter', 'len', 'license', 'list', 'locals', 'map', 'max', 'memoryview', 'min', 'next', 'object', 'oct', 'open', 'ord', 'pow', 'print', 'property', 'range', 'repr', 'reversed', 'round', 'runfile', 'set', 'setattr', 'slice', 'sorted', 'staticmethod', 'str', 'sum', 'super', 'tuple', 'type', 'vars', 'zip']\n"
     ]
    }
   ],
   "source": [
    "print(dir(__builtins__))"
   ]
  },
  {
   "cell_type": "markdown",
   "id": "afb87639-ae83-499d-be54-0a0072699c5a",
   "metadata": {},
   "source": [
    "Wow, lots of Warnings and Errors get mentioned. What we're looking at is a list of strings, in this case the names of built in objects. Python is \"object oriented\" and we'll talk a lot more about what that means as our course progresses."
   ]
  },
  {
   "cell_type": "markdown",
   "id": "e6b048da-1f8b-49a8-a30a-f63e49d29584",
   "metadata": {},
   "source": [
    "You may not see right away to to make the \"code cells\" interactively editable and runnable. One way is to hit the Google Colab button way at the very top of this Notebook.\n",
    "\n",
    "The next section talks about what a Notebook is and how it works."
   ]
  },
  {
   "cell_type": "markdown",
   "id": "bcd0fcf9-3700-4798-bd2d-2dcd189a4b0a",
   "metadata": {},
   "source": [
    "## Orientation"
   ]
  },
  {
   "cell_type": "markdown",
   "id": "2b5bf393-e941-433e-a65b-30979955ec33",
   "metadata": {},
   "source": [
    "This Jupyter Notebook lives inside a Github repository. When you open it on Github, the Github server turns a JSON file with extension .ipynb, into an HTML file that renders inside your browser. Some features, such as YouTube thumbnails (playable when clicked), are not rendered. For a more complete rendering you may cut and paste the Github Notebook's URL into nbviewer at [nbviewer.org](https://nbviewer.org)\n",
    "\n",
    "Ordinary formatted text, such as you're reading now, is placed into \"markdown cells\", which are automatically converted to HTML at runtime. Markdown is a simple formatting syntax that mixes with ordinary text. \"Code cells\" contain source code ready to send to the backend server for execution, with results coming back as text, but also as embedded visualizations, which may be themselves interactive by means of GUI widgets.\n",
    "\n",
    "Jupyter Notebooks may be accessed [through Google Colab](https://colab.research.google.com/github/4dsolutions/clarusway_data_analysis/blob/main/basic_python/landing_page.ipynb) as well, in which case they will present as interactive, meaning you can run the code, edit the code, rerun the code and so on. The Markdown cells are editable. You'll be free to save a copy, with your changes, to your own Google Drive, or to your local host (laptop etc.).\n",
    "\n",
    "Your instructor will walk you through these workflows."
   ]
  },
  {
   "cell_type": "markdown",
   "id": "bd7cbb47-9352-4092-9518-4ebb8157693c",
   "metadata": {},
   "source": [
    "## Some History\n",
    "\n",
    "The Notebook idea has a long history in the technical literature. Donald Knuth, the giant in computer science, envisioned a kind of \"literate programming\" wherein human and computer languages would mix seamlessly in a single document.\n",
    "\n",
    "Jupyter Notebooks originally stem from the [I-Python Notebook Project](https://ipython.org). I-Python was a broadly based open source project designed to enhance the Pythonista's interactive experience, especially with a better more capable REPL (Read Evaluate Print Loop).\n",
    "\n",
    "A Notebook runs as a client in the web browser, yet is connected to a kernel on the server that knows how to process a computer language such as Python. Because of the web browser context, JavaScript, an in-browser language, is also available.\n",
    "\n",
    "Once the I-Python Notebook was mature, the Jupyter Project refactored it so that other languages besides Python could play the role of kernel language."
   ]
  },
  {
   "cell_type": "code",
   "execution_count": 13,
   "id": "8c77ceb7-6d2e-4f73-85c3-bfe1a4f6b6d6",
   "metadata": {},
   "outputs": [
    {
     "name": "stdout",
     "output_type": "stream",
     "text": [
      "Hello\n"
     ]
    }
   ],
   "source": [
    "print(\"Hello\")"
   ]
  },
  {
   "cell_type": "code",
   "execution_count": 14,
   "id": "ecc3dfee-15ce-4d5e-80b2-f846ecc8fad3",
   "metadata": {},
   "outputs": [
    {
     "data": {
      "text/plain": [
       "int"
      ]
     },
     "execution_count": 14,
     "metadata": {},
     "output_type": "execute_result"
    }
   ],
   "source": [
    "type(-5)"
   ]
  },
  {
   "cell_type": "markdown",
   "id": "5c40b44e-c7fc-487b-ae38-3b5415f49a7e",
   "metadata": {},
   "source": [
    "## Installing Jupyter Locally\n",
    "\n",
    "You will be encouraged to get enough free open source software installed on your local host to run [JupyterLabs](https://jupyter.org) with Notebooks inside them. This will make you independent of the cloud. You will be able to work without an internet connection. Python will be running on your machine, not on Google's, as it will be when using Colab.  It's not either / or.  You will be encouraged to switch back and forth between local and cloud workspace environments.\n",
    "\n",
    "To run JupyterLab you have two basic routes: \n",
    "\n",
    "* download Python from [Python.org](https://python.org) and then use pip install to download additional packages from [PyPi](https://pypi.org), the Python Index. In the most sophisticated setups, you would install to a virtual environment.\n",
    "  \n",
    "* download the [Anaconda distribution](https://www.anaconda.com/download) of Python, which comes pre-equipped with all the packages you'll need\n",
    "\n",
    "We recommend the second option because it's a lot easier and the Anaconda distribution is well-established as an industry standard. The first option might pertain if you are already comfortable with a pre-existing installation that you have been using productively, and you just want to enhance what you have, versus starting with a whole new distribution."
   ]
  },
  {
   "cell_type": "markdown",
   "id": "f1a36d6e-3542-40e4-af37-89d26b3435b3",
   "metadata": {},
   "source": [
    "Anaconda on a Windows start menu:\n",
    "<br />\n",
    "<a data-flickr-embed=\"true\" href=\"https://www.flickr.com/photos/kirbyurner/43857854005/in/album-72177720296706479\" title=\"Anaconda3 Submenu on Win 10\"><img src=\"https://live.staticflickr.com/1897/43857854005_666b1bce45_c.jpg\" width=\"800\" height=\"402\" alt=\"Anaconda3 Submenu on Win 10\"/></a><script async src=\"//embedr.flickr.com/assets/client-code.js\" charset=\"utf-8\"></script>\n",
    "<br />\n",
    "<br />\n",
    "<br />\n",
    "Anaconda Navigator:\n",
    "<br />\n",
    "<a data-flickr-embed=\"true\" href=\"https://www.flickr.com/photos/kirbyurner/40523021083/in/album-72177720296706479\" title=\"Anaconda Navigator\"><img src=\"https://live.staticflickr.com/7911/40523021083_ab45a0ca7b_c.jpg\" width=\"800\" height=\"426\" alt=\"Anaconda Navigator\"/></a><script async src=\"//embedr.flickr.com/assets/client-code.js\" charset=\"utf-8\"></script>"
   ]
  },
  {
   "cell_type": "markdown",
   "id": "fb103d7b-6edd-4b69-98ce-20f93dea86cd",
   "metadata": {},
   "source": [
    "## IDEs: Interactive Development Environments\n",
    "\n",
    "Is Jupyter Notebook an IDE? [Yes and no](https://skillapp.co/blog/the-ultimate-guide-is-jupyter-notebook-an-ide-or-just-a-code-editor/). We might say that Notebooks comprise a relatively new genre and thereby comprise a new tool in any developer's toolbox.\n",
    "\n",
    "Once you have the Anaconda distribution installed, you will find a very capable IDE named Spyder, in addition to JupyterLab. A conventional IDE has both a code editor panel for writing source code, and another panel that acts as a REPL (Read Evaluate Print Loop), which is a place to interact with (a) Python itself and (b) the namespaces you re defining in the source code.\n",
    "\n",
    "VS Code is a very popular IDE. You are not limited to using only one. Some IDEs support multiple languages whereas others are mostly focused on one in particular. Both types of IDE have their advantages.\n",
    "\n",
    "Spyder IDE Editor, Console and File Panes open:\n",
    "\n",
    "<a data-flickr-embed=\"true\" href=\"https://www.flickr.com/photos/kirbyurner/54045853650/in/dateposted/\" title=\"Spyder IDE\"><img src=\"https://live.staticflickr.com/65535/54045853650_68f9b290b8_z.jpg\" width=\"640\" height=\"461\" alt=\"Spyder IDE\"/></a><script async src=\"//embedr.flickr.com/assets/client-code.js\" charset=\"utf-8\"></script>\n",
    "\n",
    "\n",
    "Spyder IDE Console: Investigating the print function: <br />\n",
    "\n",
    "<a data-flickr-embed=\"true\" href=\"https://www.flickr.com/photos/kirbyurner/54066223966/in/dateposted/\" title=\"Investigating print; Spyder IDE Console\"><img src=\"https://live.staticflickr.com/65535/54066223966_d01f4237a7_z.jpg\" width=\"640\" height=\"618\" alt=\"Investigating print; Spyder IDE Console\"/></a><script async src=\"//embedr.flickr.com/assets/client-code.js\" charset=\"utf-8\"></script>\n"
   ]
  },
  {
   "cell_type": "markdown",
   "id": "6e93cfa2-9eec-4c23-bc19-712ffe9d2275",
   "metadata": {},
   "source": [
    "## COURSE CALENDAR\n",
    "\n",
    "\n",
    "<a data-flickr-embed=\"true\" href=\"https://www.flickr.com/photos/kirbyurner/54044634463/in/dateposted/\" title=\"Screen Shot 2024-10-05 at 7.42.42 AM\"><img src=\"https://live.staticflickr.com/65535/54044634463_e6231a3cb2_o.png\" width=\"980\" height=\"892\" alt=\"Screen Shot 2024-10-05 at 7.42.42 AM\"/></a><script async src=\"//embedr.flickr.com/assets/client-code.js\" charset=\"utf-8\"></script>\n",
    "<br>\n",
    "<br>\n",
    "\n",
    "<a data-flickr-embed=\"true\" href=\"https://www.flickr.com/photos/kirbyurner/54062477870/in/dateposted/\" title=\"Screen Shot 2024-10-12 at 1.47.13 PM\"><img src=\"https://live.staticflickr.com/65535/54062477870_3feed30a86_o.png\" width=\"731\" height=\"482\" alt=\"Screen Shot 2024-10-12 at 1.47.13 PM\"/></a><script async src=\"//embedr.flickr.com/assets/client-code.js\" charset=\"utf-8\"></script>\n",
    "\n",
    "\n",
    "<a data-flickr-embed=\"true\" href=\"https://www.flickr.com/photos/kirbyurner/54069862961/in/dateposted/\" title=\"DS 16/24 US\"><img src=\"https://live.staticflickr.com/65535/54069862961_2985647182_c.jpg\" width=\"800\" height=\"659\" alt=\"DS 16/24 US\"/></a><script async src=\"//embedr.flickr.com/assets/client-code.js\" charset=\"utf-8\"></script>"
   ]
  },
  {
   "cell_type": "markdown",
   "id": "1dadca71-0aad-43d8-9472-a3bfb6db2e9d",
   "metadata": {},
   "source": [
    "## APPENDIX\n",
    "\n",
    "* [Python Background Readings](https://github.com/4dsolutions/clarusway_data_analysis/blob/main/python_warm_up/warmup_python_intro.ipynb) (Urner)\n",
    "* [Python at W3Schools](https://www.w3schools.com/python/default.asp) (classic)\n",
    "* [Think Python](https://greenteapress.com/wp/think-python-3rd-edition/) (free book)\n",
    "* [About Kirby Urner](https://kirbyurner.academia.edu)\n",
    "* [Clarusway Album](https://flic.kr/s/aHBqjzCs82) (instructor site)\n",
    "* [Python for Data Science Album](https://flic.kr/s/aHsmfpMPL3) (instructor site)"
   ]
  }
 ],
 "metadata": {
  "kernelspec": {
   "display_name": "Python 3 (ipykernel)",
   "language": "python",
   "name": "python3"
  },
  "language_info": {
   "codemirror_mode": {
    "name": "ipython",
    "version": 3
   },
   "file_extension": ".py",
   "mimetype": "text/x-python",
   "name": "python",
   "nbconvert_exporter": "python",
   "pygments_lexer": "ipython3",
   "version": "3.11.3"
  }
 },
 "nbformat": 4,
 "nbformat_minor": 5
}
