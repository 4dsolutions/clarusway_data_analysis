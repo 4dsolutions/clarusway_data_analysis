{
 "cells": [
  {
   "cell_type": "markdown",
   "id": "414fe9a2-1f90-4670-857d-1941dfe3b6c9",
   "metadata": {},
   "source": [
    "#### Clarusway Python\n",
    "\n",
    "* [Instructor Landing Page](landing_page.ipynb)\n",
    "* <a href=\"https://colab.research.google.com/github/4dsolutions/clarusway_data_analysis/blob/main/basic_python/Assignment_2_covid_19.ipynb\"><img align=\"left\" src=\"https://colab.research.google.com/assets/colab-badge.svg\" alt=\"Open in Colab\" title=\"Open and Execute in Google Colaboratory\"></a>\n",
    "* [![nbviewer](https://raw.githubusercontent.com/jupyter/design/master/logos/Badges/nbviewer_badge.svg)](https://nbviewer.org/github/4dsolutions/clarusway_data_analysis/blob/main/basic_python/Assignment_2_covid_19.ipynb)"
   ]
  },
  {
   "cell_type": "markdown",
   "id": "f3576c22",
   "metadata": {
    "id": "f3576c22"
   },
   "source": [
    "<p style=\"text-align: center;\"><img src=\"https://docs.google.com/uc?id=1lY0Uj5R04yMY3-ZppPWxqCr5pvBLYPnV\" class=\"img-fluid\"\n",
    "alt=\"CLRSWY\"></p>\n",
    "\n",
    "## <p style=\"background-color:#FDFEFE; font-family:newtimeroman; color:#9d4f8c; font-size:120%; text-align:center; border-radius:10px 10px;\">Way to Reinvent Yourself</p>"
   ]
  },
  {
   "cell_type": "markdown",
   "id": "05fb0ec9",
   "metadata": {
    "id": "05fb0ec9"
   },
   "source": [
    "<div class=\"alert alert-block alert-info\"><h1><p style=\"text-align: center; color:purple\">Assignment-2 (Covid 19 Risk)<br><br>Data Types and Usefull Operations </p>"
   ]
  },
  {
   "cell_type": "markdown",
   "id": "181254b7",
   "metadata": {
    "id": "181254b7"
   },
   "source": [
    "<div class=\"alert alert-block alert-info\">\n",
    "<font color=red><b>Problem :</b></font> <font color=blue><br>\n",
    "\n",
    "<b>Task:</b> Estimating the risk of death from coronavirus.\n",
    "\n",
    "Consider the following questions in terms of True/False regarding someone else.\n",
    "\n",
    "Are you a cigarette addict older than 75 years old? Variable → <font color=red><b>age</b></font>\n",
    "\n",
    "Do you have a severe chronic disease? Variable → <font color=red><b>chronic</b></font>\n",
    "\n",
    "Is your immune system too weak? Variable → <font color=red><b>immune</b></font>\n",
    "\n",
    "<font color=purple>Set a logical algorithm using boolean logic operators (and/or) and the given variables in order to give us True (there is a risk of death) or False (there is not a risk of death) as a result.</font></font>"
   ]
  },
  {
   "cell_type": "markdown",
   "id": "aef5c0ec",
   "metadata": {
    "id": "aef5c0ec"
   },
   "source": [
    "# solution:"
   ]
  },
  {
   "cell_type": "code",
   "execution_count": null,
   "id": "ef4fb7ca",
   "metadata": {
    "id": "ef4fb7ca"
   },
   "outputs": [],
   "source": [
    "age = True\n",
    "\n",
    "chronic = False\n",
    "\n",
    "immune = False"
   ]
  },
  {
   "cell_type": "code",
   "execution_count": null,
   "id": "14548446",
   "metadata": {
    "id": "14548446",
    "outputId": "f79959e2-d2e1-4b67-9955-404234dbe7ab"
   },
   "outputs": [
    {
     "name": "stdout",
     "output_type": "stream",
     "text": [
      "Risk of death :  True\n"
     ]
    }
   ],
   "source": [
    "risk = age or chronic or immune\n",
    "\n",
    "print(\"Risk of death : \", risk)"
   ]
  }
 ],
 "metadata": {
  "colab": {
   "provenance": []
  },
  "kernelspec": {
   "display_name": "Python 3 (ipykernel)",
   "language": "python",
   "name": "python3"
  },
  "language_info": {
   "codemirror_mode": {
    "name": "ipython",
    "version": 3
   },
   "file_extension": ".py",
   "mimetype": "text/x-python",
   "name": "python",
   "nbconvert_exporter": "python",
   "pygments_lexer": "ipython3",
   "version": "3.11.3"
  }
 },
 "nbformat": 4,
 "nbformat_minor": 5
}
