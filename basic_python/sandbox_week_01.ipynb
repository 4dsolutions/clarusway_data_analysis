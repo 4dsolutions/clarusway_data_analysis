{
 "cells": [
  {
   "cell_type": "markdown",
   "id": "41b0fa16-6ded-4217-9a30-f655af063525",
   "metadata": {},
   "source": [
    "#### Clarusway Python\n",
    "\n",
    "* [Instructor Landing Page](landing_page.ipynb)\n",
    "* <a href=\"https://colab.research.google.com/github/4dsolutions/clarusway_data_analysis/blob/main/basic_python/sandbox_week_01.ipynb\"><img align=\"left\" src=\"https://colab.research.google.com/assets/colab-badge.svg\" alt=\"Open in Colab\" title=\"Open and Execute in Google Colaboratory\"></a>\n",
    "* [![nbviewer](https://raw.githubusercontent.com/jupyter/design/master/logos/Badges/nbviewer_badge.svg)](https://nbviewer.org/github/4dsolutions/clarusway_data_analysis/blob/main/basic_python/sandbox_week_01.ipynb)"
   ]
  },
  {
   "cell_type": "markdown",
   "id": "9a40af2f-d13d-432a-9006-f0b20db320be",
   "metadata": {},
   "source": [
    "# SANDBOX (WEEK 1)"
   ]
  },
  {
   "cell_type": "markdown",
   "id": "091360ef-112d-48af-a6ba-efc5f0316c04",
   "metadata": {},
   "source": [
    "### Sessions 1 & 2"
   ]
  },
  {
   "cell_type": "code",
   "execution_count": null,
   "id": "340f1836-feda-42ac-a147-0b2f9d867f6c",
   "metadata": {},
   "outputs": [],
   "source": [
    "2 + 2"
   ]
  },
  {
   "cell_type": "markdown",
   "id": "92ebe882-5eb8-4970-8a7b-c17c1b81d8d8",
   "metadata": {},
   "source": [
    "#### This is how PEP 8 wants us to name stuff: in snake case."
   ]
  },
  {
   "cell_type": "code",
   "execution_count": null,
   "id": "836667cc-4d42-4a7c-b0d7-2eec6ce3e24a",
   "metadata": {},
   "outputs": [],
   "source": [
    "CamelCaseListener = 10"
   ]
  },
  {
   "cell_type": "code",
   "execution_count": null,
   "id": "39d6d372-ebcb-43a7-b85a-10266ab7cc80",
   "metadata": {},
   "outputs": [],
   "source": [
    "camel_case_listener = 10"
   ]
  },
  {
   "cell_type": "code",
   "execution_count": null,
   "id": "d2dea11e-2c9a-4a57-a340-9c0ec0b64964",
   "metadata": {},
   "outputs": [],
   "source": [
    "_8thsister = \"Julie\""
   ]
  },
  {
   "cell_type": "code",
   "execution_count": null,
   "id": "7c594219-cd30-40db-816e-08f5c9e46e88",
   "metadata": {},
   "outputs": [],
   "source": [
    "_"
   ]
  },
  {
   "cell_type": "code",
   "execution_count": null,
   "id": "bc9d44ce-09ee-4e95-ab8f-54be9dd45f03",
   "metadata": {},
   "outputs": [],
   "source": [
    "_ + 7"
   ]
  },
  {
   "cell_type": "code",
   "execution_count": null,
   "id": "f09b402d-4a9b-4766-829a-a2beea9d991b",
   "metadata": {},
   "outputs": [],
   "source": [
    "type(int)"
   ]
  },
  {
   "cell_type": "code",
   "execution_count": null,
   "id": "6d207fcc-a36f-4e27-a53d-9541fc38f77e",
   "metadata": {},
   "outputs": [],
   "source": [
    "int(\"4\")"
   ]
  },
  {
   "cell_type": "code",
   "execution_count": null,
   "id": "4c3399de-77ee-4c96-b67d-9e0fb46b13e7",
   "metadata": {},
   "outputs": [],
   "source": [
    "type(84528940952845024857)"
   ]
  },
  {
   "cell_type": "code",
   "execution_count": null,
   "id": "09bffe2c-d5d2-480f-88a5-e8d5b3999bd4",
   "metadata": {},
   "outputs": [],
   "source": [
    "2 * 64"
   ]
  },
  {
   "cell_type": "code",
   "execution_count": null,
   "id": "55ca8e40-48b5-4a3a-8d7b-29f00330e336",
   "metadata": {},
   "outputs": [],
   "source": [
    "2 ** 64"
   ]
  },
  {
   "cell_type": "code",
   "execution_count": null,
   "id": "e1e98672-bc26-426c-9976-80cda3246d51",
   "metadata": {},
   "outputs": [],
   "source": [
    "2 ** 1000"
   ]
  },
  {
   "cell_type": "code",
   "execution_count": null,
   "id": "ccafcd5c-a32a-4ab5-a84f-96f17d869b8e",
   "metadata": {},
   "outputs": [],
   "source": [
    "type(2.0)"
   ]
  },
  {
   "cell_type": "code",
   "execution_count": null,
   "id": "a9683931-ca98-48c8-bcfd-152a8e1495ff",
   "metadata": {},
   "outputs": [],
   "source": [
    "math.pi"
   ]
  },
  {
   "cell_type": "code",
   "execution_count": null,
   "id": "64c9cfcc-a0aa-4b07-84f9-4c1dd2cf8f62",
   "metadata": {},
   "outputs": [],
   "source": []
  },
  {
   "cell_type": "code",
   "execution_count": null,
   "id": "6bb03bcf-92f0-430a-ae32-467b990318c1",
   "metadata": {},
   "outputs": [],
   "source": [
    "dir()"
   ]
  },
  {
   "cell_type": "code",
   "execution_count": null,
   "id": "062a2859-7ec7-4889-aa22-23011da3144d",
   "metadata": {},
   "outputs": [],
   "source": [
    "__builtins__"
   ]
  },
  {
   "cell_type": "code",
   "execution_count": null,
   "id": "ae7401f3-bbe3-4e1c-a164-8baf917ef722",
   "metadata": {},
   "outputs": [],
   "source": [
    "dir(__builtins__)"
   ]
  },
  {
   "cell_type": "code",
   "execution_count": null,
   "id": "af3cc95b-95a9-499c-a8df-2412b0afe501",
   "metadata": {},
   "outputs": [],
   "source": [
    "print(dir(__builtins__))"
   ]
  },
  {
   "cell_type": "code",
   "execution_count": null,
   "id": "74327158-2162-46ab-8623-e568a5ef906a",
   "metadata": {},
   "outputs": [],
   "source": [
    "# 1/0"
   ]
  },
  {
   "cell_type": "code",
   "execution_count": null,
   "id": "932dd5fe-1b83-47a1-a479-6bba48370642",
   "metadata": {},
   "outputs": [],
   "source": [
    "copyright"
   ]
  },
  {
   "cell_type": "code",
   "execution_count": null,
   "id": "f3928f65-4cd7-4312-834d-9dfbcc462d18",
   "metadata": {},
   "outputs": [],
   "source": [
    "import keyword\n",
    "print(keyword.kwlist)"
   ]
  },
  {
   "cell_type": "code",
   "execution_count": null,
   "id": "86078807-6b39-4342-8af7-bc13f29aa8c0",
   "metadata": {},
   "outputs": [],
   "source": [
    "pow(2, 3)"
   ]
  },
  {
   "cell_type": "code",
   "execution_count": null,
   "id": "a4136d02-f3fc-4cd6-95c1-05fcc91dd5ef",
   "metadata": {},
   "outputs": [],
   "source": [
    "pow(4, 5)"
   ]
  },
  {
   "cell_type": "code",
   "execution_count": null,
   "id": "cca176c5-e245-48cb-9087-1a58e8c63905",
   "metadata": {},
   "outputs": [],
   "source": [
    "import math"
   ]
  },
  {
   "cell_type": "code",
   "execution_count": null,
   "id": "d510e24a-aa41-48ec-ae77-31e7b5825714",
   "metadata": {},
   "outputs": [],
   "source": [
    "print(dir())"
   ]
  },
  {
   "cell_type": "code",
   "execution_count": null,
   "id": "6f073986-ae50-4a30-b818-01b6d4fcb9ef",
   "metadata": {},
   "outputs": [],
   "source": [
    "print(dir(math))"
   ]
  },
  {
   "cell_type": "code",
   "execution_count": null,
   "id": "851f803c-c061-47f1-996f-f9e14bd71a8a",
   "metadata": {},
   "outputs": [],
   "source": [
    "math.pi"
   ]
  },
  {
   "cell_type": "code",
   "execution_count": null,
   "id": "572c414b-4ffe-40c4-bcab-2948922e2338",
   "metadata": {},
   "outputs": [],
   "source": [
    "math.e"
   ]
  },
  {
   "cell_type": "code",
   "execution_count": null,
   "id": "187828ac-19a8-45ef-8161-0d799b7fd037",
   "metadata": {},
   "outputs": [],
   "source": [
    "a, b, c = 1, 2, 3"
   ]
  },
  {
   "cell_type": "code",
   "execution_count": null,
   "id": "7f7a9612-8816-4253-b7d2-bafff62b3c29",
   "metadata": {},
   "outputs": [],
   "source": [
    "True + True"
   ]
  },
  {
   "cell_type": "code",
   "execution_count": null,
   "id": "7ab96232-38b5-4c77-8193-13c355cb0dc8",
   "metadata": {},
   "outputs": [],
   "source": [
    "False * 10"
   ]
  },
  {
   "cell_type": "code",
   "execution_count": null,
   "id": "a81d5926-6ba5-4545-a3bc-4ddb1633d159",
   "metadata": {},
   "outputs": [],
   "source": [
    "True and True"
   ]
  },
  {
   "cell_type": "code",
   "execution_count": null,
   "id": "c4a11a91-d146-4b60-bfba-5ae415c5b45d",
   "metadata": {},
   "outputs": [],
   "source": [
    "True and False"
   ]
  },
  {
   "cell_type": "code",
   "execution_count": null,
   "id": "edd2f377-b7fe-4074-b3d4-1795ec2eda92",
   "metadata": {},
   "outputs": [],
   "source": [
    "a = 1\n",
    "b = 10\n",
    "\n",
    "a == b"
   ]
  },
  {
   "cell_type": "code",
   "execution_count": null,
   "id": "78f1045f-9a89-4838-aae9-1bcbcbd27260",
   "metadata": {},
   "outputs": [],
   "source": [
    "True or False"
   ]
  },
  {
   "cell_type": "code",
   "execution_count": null,
   "id": "bc5468ae-8ac3-4bb8-ada0-1da5af7b697f",
   "metadata": {},
   "outputs": [],
   "source": [
    "False or False"
   ]
  },
  {
   "cell_type": "code",
   "execution_count": null,
   "id": "8de7e719-31ff-4b77-8bf5-50e0e1b5c259",
   "metadata": {},
   "outputs": [],
   "source": [
    "True or True"
   ]
  },
  {
   "cell_type": "code",
   "execution_count": null,
   "id": "9279c3c6-30dc-417c-a260-6f4cfdfcb27e",
   "metadata": {},
   "outputs": [],
   "source": [
    "issubclass(bool, int)"
   ]
  },
  {
   "cell_type": "code",
   "execution_count": null,
   "id": "cd3e0af9-36f2-43dd-9253-54182a8cc3a5",
   "metadata": {},
   "outputs": [],
   "source": [
    "1 / 2"
   ]
  },
  {
   "cell_type": "code",
   "execution_count": null,
   "id": "897c834d-7051-4787-a985-40107b39b164",
   "metadata": {},
   "outputs": [],
   "source": [
    "1 // 2"
   ]
  },
  {
   "cell_type": "code",
   "execution_count": null,
   "id": "42e11095-f092-4f71-94a8-7c841c9520ff",
   "metadata": {},
   "outputs": [],
   "source": [
    "1 // 2"
   ]
  },
  {
   "cell_type": "code",
   "execution_count": null,
   "id": "2c01b003-69d7-49fe-a0cf-d9023621a110",
   "metadata": {},
   "outputs": [],
   "source": [
    "\"abc\".upper()"
   ]
  },
  {
   "cell_type": "code",
   "execution_count": null,
   "id": "3b33a17f-0ba8-437f-9264-e0948a479b23",
   "metadata": {},
   "outputs": [],
   "source": [
    "var = \"abc\"\n"
   ]
  },
  {
   "cell_type": "code",
   "execution_count": null,
   "id": "dea737ad-2812-4b88-b6a1-20588f5c0a50",
   "metadata": {},
   "outputs": [],
   "source": [
    "var.upper()"
   ]
  },
  {
   "cell_type": "code",
   "execution_count": null,
   "id": "f38aed0a-c5f3-4dbd-8834-3ecde0cefc77",
   "metadata": {},
   "outputs": [],
   "source": [
    "print(dir(str))"
   ]
  },
  {
   "cell_type": "code",
   "execution_count": null,
   "id": "0b29b596-12e2-44d6-994c-5358bb8b7876",
   "metadata": {},
   "outputs": [],
   "source": [
    "\"ABC\".lower()"
   ]
  },
  {
   "cell_type": "code",
   "execution_count": null,
   "id": "39e88af5-1d0e-4712-8c25-3dd399d1a0d3",
   "metadata": {},
   "outputs": [],
   "source": [
    "\"ABC\".lower"
   ]
  },
  {
   "cell_type": "code",
   "execution_count": null,
   "id": "4bfe081b-1c20-477d-a877-61338395a8b8",
   "metadata": {},
   "outputs": [],
   "source": [
    "help(str.lower)"
   ]
  },
  {
   "cell_type": "markdown",
   "id": "bd31e6b2-2c1b-43d9-a14e-476e42b8cd0c",
   "metadata": {},
   "source": [
    "### LAB 1 Sandbox"
   ]
  },
  {
   "cell_type": "code",
   "execution_count": null,
   "id": "ffcf6e57-d217-4085-a6c4-db57dbdd1e98",
   "metadata": {},
   "outputs": [],
   "source": [
    "name = input(\"What is your name please? > \" )\n",
    "print(\"Hello, \", name)"
   ]
  },
  {
   "cell_type": "code",
   "execution_count": null,
   "id": "6f5c737c-dbe0-4f3b-9ea2-03d718f03b06",
   "metadata": {},
   "outputs": [],
   "source": [
    "def my_function():\n",
    "    eat1 = input(\"What do you love to eat?> \")\n",
    "    print(\"I love to eat:\", eat1)\n",
    "    return True"
   ]
  },
  {
   "cell_type": "code",
   "execution_count": null,
   "id": "08e762f4-2dc1-4e04-9d03-975e53b2da47",
   "metadata": {},
   "outputs": [],
   "source": [
    "my_function()"
   ]
  },
  {
   "cell_type": "markdown",
   "id": "ebc3d4fa-4382-4948-81d4-323234efff02",
   "metadata": {},
   "source": [
    "### Bonus Feature\n",
    "\n",
    "Now is a good time to mention the Standard Library. \n",
    "\n",
    "A standard installation of Python should always include a couple hundred modules that we might call \"batteries included\". A lot of the basic stuff you would like any language to have already implemented, sparing you the time and trouble, is in the Standard Library, such as `math` and `collections`.\n",
    "\n",
    "In addition, outside the Standard Library, a vast ecosystem of what we call \"3rd party\" modules float around, some of which do the same things as Standard Library modules but in alternative often more powerful ways. The Standard Library is somewhat frozen in time, comparatively, meaning it makes sense that some of its features will have been improved upon and superceded in 3rd party ville.\n",
    "\n",
    "Case in point:  the numpy package, used later in this course, comes with its own datetime type, named [datetime64](https://numpy.org/doc/stable/reference/arrays.datetime.html), that is similar yet different from [the one](https://docs.python.org/3/library/datetime.html#datetime-objects) in the Standard Library."
   ]
  },
  {
   "cell_type": "code",
   "execution_count": null,
   "id": "d52669aa-5dc4-435b-a5cc-356a55a6c2c0",
   "metadata": {},
   "outputs": [],
   "source": [
    "# just checking -- if no error then these modules are present, ready for use\n",
    "import math\n",
    "import collections"
   ]
  },
  {
   "cell_type": "code",
   "execution_count": null,
   "id": "dc9698f6-2c74-47cc-aa32-2c3d77a3a8f7",
   "metadata": {},
   "outputs": [],
   "source": [
    "# Python also comes with chrono types (time related)\n",
    "import datetime, time"
   ]
  },
  {
   "cell_type": "code",
   "execution_count": null,
   "id": "46aa996c-cc40-45b0-8f30-ea4777dcb9e8",
   "metadata": {},
   "outputs": [],
   "source": [
    "print(dir(datetime))  # just to get a sense of what's inside"
   ]
  },
  {
   "cell_type": "code",
   "execution_count": null,
   "id": "448c1e19-0171-4fcc-a615-ce15c439b9e1",
   "metadata": {},
   "outputs": [],
   "source": [
    "print(dir(datetime.date))"
   ]
  },
  {
   "cell_type": "code",
   "execution_count": null,
   "id": "b38e7986-8868-4aa3-912d-e27a2a1dcc6a",
   "metadata": {},
   "outputs": [],
   "source": [
    "datetime.date.today()"
   ]
  },
  {
   "cell_type": "code",
   "execution_count": null,
   "id": "51aa4f93-4575-4740-996f-7488cedcd39b",
   "metadata": {},
   "outputs": [],
   "source": [
    "datetime.datetime.now()"
   ]
  },
  {
   "cell_type": "code",
   "execution_count": null,
   "id": "6cd0e3b0-9adf-4776-bd56-e1819fe5c649",
   "metadata": {},
   "outputs": [],
   "source": [
    "time.time()"
   ]
  },
  {
   "cell_type": "code",
   "execution_count": null,
   "id": "ca1a29c3-6c96-42d1-b466-1564409a7ecd",
   "metadata": {},
   "outputs": [],
   "source": [
    "print(dir(datetime.time))"
   ]
  },
  {
   "cell_type": "code",
   "execution_count": null,
   "id": "2ff2d1de-03f9-49f6-8f33-cf855b03c4ec",
   "metadata": {},
   "outputs": [],
   "source": [
    "time.time()"
   ]
  },
  {
   "cell_type": "code",
   "execution_count": 2,
   "id": "7574b91b-b145-4c3c-9f6e-c7a354ef8596",
   "metadata": {},
   "outputs": [],
   "source": [
    "import numpy"
   ]
  },
  {
   "cell_type": "code",
   "execution_count": 11,
   "id": "9dda0d3c-a0a1-42ac-a2a7-a6b1cdad38c9",
   "metadata": {},
   "outputs": [
    {
     "data": {
      "text/plain": [
       "numpy.datetime64('2004-01-01')"
      ]
     },
     "execution_count": 11,
     "metadata": {},
     "output_type": "execute_result"
    }
   ],
   "source": [
    "the_day = numpy.datetime64(\"2004-01-01\")\n",
    "the_day"
   ]
  },
  {
   "cell_type": "code",
   "execution_count": 15,
   "id": "b7cf1ddb-8130-472f-89d5-bd86e9cd0808",
   "metadata": {},
   "outputs": [
    {
     "data": {
      "text/plain": [
       "numpy.datetime64"
      ]
     },
     "execution_count": 15,
     "metadata": {},
     "output_type": "execute_result"
    }
   ],
   "source": [
    "type(the_day)"
   ]
  },
  {
   "cell_type": "code",
   "execution_count": 16,
   "id": "1de804e4-9990-403e-a38e-621a9e984da1",
   "metadata": {},
   "outputs": [
    {
     "name": "stdout",
     "output_type": "stream",
     "text": [
      "['T', '__abs__', '__add__', '__and__', '__array__', '__array_interface__', '__array_priority__', '__array_struct__', '__array_wrap__', '__bool__', '__class__', '__copy__', '__deepcopy__', '__delattr__', '__dir__', '__divmod__', '__doc__', '__eq__', '__float__', '__floordiv__', '__format__', '__ge__', '__getattribute__', '__getitem__', '__getstate__', '__gt__', '__hash__', '__init__', '__init_subclass__', '__int__', '__invert__', '__le__', '__lshift__', '__lt__', '__mod__', '__mul__', '__ne__', '__neg__', '__new__', '__or__', '__pos__', '__pow__', '__radd__', '__rand__', '__rdivmod__', '__reduce__', '__reduce_ex__', '__repr__', '__rfloordiv__', '__rlshift__', '__rmod__', '__rmul__', '__ror__', '__rpow__', '__rrshift__', '__rshift__', '__rsub__', '__rtruediv__', '__rxor__', '__setattr__', '__setstate__', '__sizeof__', '__str__', '__sub__', '__subclasshook__', '__truediv__', '__xor__', 'all', 'any', 'argmax', 'argmin', 'argsort', 'astype', 'base', 'byteswap', 'choose', 'clip', 'compress', 'conj', 'conjugate', 'copy', 'cumprod', 'cumsum', 'data', 'diagonal', 'dtype', 'dump', 'dumps', 'fill', 'flags', 'flat', 'flatten', 'getfield', 'imag', 'item', 'itemset', 'itemsize', 'max', 'mean', 'min', 'nbytes', 'ndim', 'newbyteorder', 'nonzero', 'prod', 'ptp', 'put', 'ravel', 'real', 'repeat', 'reshape', 'resize', 'round', 'searchsorted', 'setfield', 'setflags', 'shape', 'size', 'sort', 'squeeze', 'std', 'strides', 'sum', 'swapaxes', 'take', 'tobytes', 'tofile', 'tolist', 'tostring', 'trace', 'transpose', 'var', 'view']\n"
     ]
    }
   ],
   "source": [
    "print(dir(the_day))"
   ]
  },
  {
   "cell_type": "code",
   "execution_count": 27,
   "id": "fac02241-7815-437c-9c44-981001dd8eed",
   "metadata": {},
   "outputs": [
    {
     "data": {
      "text/plain": [
       "numpy.datetime64('2004-01-01')"
      ]
     },
     "execution_count": 27,
     "metadata": {},
     "output_type": "execute_result"
    }
   ],
   "source": [
    "the_day"
   ]
  },
  {
   "cell_type": "code",
   "execution_count": null,
   "id": "324876bf-a368-467a-9fbd-d930e250beb7",
   "metadata": {},
   "outputs": [],
   "source": []
  }
 ],
 "metadata": {
  "kernelspec": {
   "display_name": "Python 3 (ipykernel)",
   "language": "python",
   "name": "python3"
  },
  "language_info": {
   "codemirror_mode": {
    "name": "ipython",
    "version": 3
   },
   "file_extension": ".py",
   "mimetype": "text/x-python",
   "name": "python",
   "nbconvert_exporter": "python",
   "pygments_lexer": "ipython3",
   "version": "3.11.3"
  }
 },
 "nbformat": 4,
 "nbformat_minor": 5
}
