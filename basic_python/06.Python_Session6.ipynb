{
 "cells": [
  {
   "cell_type": "markdown",
   "id": "spHKE82hCdl-",
   "metadata": {
    "id": "spHKE82hCdl-"
   },
   "source": [
    "#### Clarusway Python\n",
    "\n",
    "* [Instructor Landing Page](landing_page.ipynb)\n",
    "* <a href=\"https://colab.research.google.com/github/4dsolutions/clarusway_data_analysis/blob/main/basic_python/06.session06.ipynb\"><img align=\"left\" src=\"https://colab.research.google.com/assets/colab-badge.svg\" alt=\"Open in Colab\" title=\"Open and Execute in Google Colaboratory\"></a>\n",
    "* [![nbviewer](https://raw.githubusercontent.com/jupyter/design/master/logos/Badges/nbviewer_badge.svg)](https://nbviewer.org/github/4dsolutions/clarusway_data_analysis/blob/main/basic_python/06.session06.ipynb)"
   ]
  },
  {
   "cell_type": "markdown",
   "id": "97d2a08c",
   "metadata": {
    "id": "97d2a08c"
   },
   "source": [
    "<a id=\"toc\"></a>\n",
    "\n",
    "## <p style=\"background-color:#0D8D99; font-family:newtimeroman; color:#FFF9ED; font-size:175%; text-align:center; border-radius:10px 10px;\">Python Session06</p>"
   ]
  },
  {
   "cell_type": "markdown",
   "id": "93bf8f83",
   "metadata": {
    "id": "93bf8f83"
   },
   "source": [
    "#### <div class=\"alert alert-block alert-info\"><h1><p style=\"text-align: center; color:purple\">Collection Types - Lists<br><br>Creating a List<br><br>Basic Operations with Lists</p>"
   ]
  },
  {
   "cell_type": "markdown",
   "id": "c8f72089",
   "metadata": {
    "id": "c8f72089"
   },
   "source": [
    "<a id=\"toc\"></a>\n",
    "\n",
    "# <p style=\"background-color:#9d4f8c; font-family:newtimeroman; color:#FFF9ED; font-size:175%; text-align:center; border-radius:10px 10px;\">Collection Types</p>"
   ]
  },
  {
   "cell_type": "markdown",
   "id": "78c45115",
   "metadata": {
    "id": "78c45115"
   },
   "source": [
    "<a id=\"toc\"></a>\n",
    "\n",
    "## <p style=\"background-color:#9d4f8c; font-family:newtimeroman; color:#FFF9ED; font-size:175%; text-align:center; border-radius:10px 10px;\">Lists & Creating a List</p>"
   ]
  },
  {
   "cell_type": "markdown",
   "id": "7ccc3da7",
   "metadata": {
    "id": "7ccc3da7"
   },
   "source": [
    "**Python documentation link - Lists: https://docs.python.org/3/tutorial/introduction.html#lists**\n",
    "\n",
    "**Python documentation link - More on Lists: https://docs.python.org/3/tutorial/datastructures.html#more-on-lists**"
   ]
  },
  {
   "cell_type": "code",
   "execution_count": 1,
   "id": "1517d0e8",
   "metadata": {
    "id": "1517d0e8"
   },
   "outputs": [],
   "source": [
    "x = \"Clarusway\""
   ]
  },
  {
   "cell_type": "code",
   "execution_count": 2,
   "id": "2edd96a3",
   "metadata": {
    "id": "2edd96a3"
   },
   "outputs": [],
   "source": [
    "y = 168"
   ]
  },
  {
   "cell_type": "code",
   "execution_count": 3,
   "id": "9dfff789-f8a6-4431-aa75-647f9d16cc6a",
   "metadata": {},
   "outputs": [
    {
     "data": {
      "text/plain": [
       "int"
      ]
     },
     "execution_count": 3,
     "metadata": {},
     "output_type": "execute_result"
    }
   ],
   "source": [
    "type(y)"
   ]
  },
  {
   "cell_type": "code",
   "execution_count": 4,
   "id": "54da7e0c",
   "metadata": {
    "id": "54da7e0c"
   },
   "outputs": [],
   "source": [
    "x = [\"ali\", \"veli\"]"
   ]
  },
  {
   "cell_type": "code",
   "execution_count": 5,
   "id": "5adcc913",
   "metadata": {
    "id": "5adcc913",
    "outputId": "d14d3b40-5ea0-48de-d3ab-79c6600e3608"
   },
   "outputs": [
    {
     "data": {
      "text/plain": [
       "['ali', 'deli', 'veli']"
      ]
     },
     "execution_count": 5,
     "metadata": {},
     "output_type": "execute_result"
    }
   ],
   "source": [
    "[\"ali\", \"deli\", \"veli\"]"
   ]
  },
  {
   "cell_type": "code",
   "execution_count": 6,
   "id": "1b77418b-148a-4d47-b9cc-42536e515cd6",
   "metadata": {},
   "outputs": [
    {
     "data": {
      "text/plain": [
       "['ali', 'deli', 'veli']"
      ]
     },
     "execution_count": 6,
     "metadata": {},
     "output_type": "execute_result"
    }
   ],
   "source": [
    "save_me = _\n",
    "save_me"
   ]
  },
  {
   "cell_type": "code",
   "execution_count": 7,
   "id": "886ba0ee",
   "metadata": {
    "id": "886ba0ee",
    "outputId": "07563011-2c80-4218-a343-8ac04aa2f6fb"
   },
   "outputs": [
    {
     "data": {
      "text/plain": [
       "['c', 'l', 'a', 'r', 'u', 's']"
      ]
     },
     "execution_count": 7,
     "metadata": {},
     "output_type": "execute_result"
    }
   ],
   "source": [
    "list(\"clarus\")"
   ]
  },
  {
   "cell_type": "code",
   "execution_count": 8,
   "id": "450dee72",
   "metadata": {
    "id": "450dee72"
   },
   "outputs": [],
   "source": [
    "a = [1, 2, 3]"
   ]
  },
  {
   "cell_type": "code",
   "execution_count": 9,
   "id": "2c91c01d",
   "metadata": {
    "id": "2c91c01d",
    "outputId": "e4902620-c7b1-4d05-d37c-47aa4127ba0a"
   },
   "outputs": [
    {
     "data": {
      "text/plain": [
       "[1, 2, 3]"
      ]
     },
     "execution_count": 9,
     "metadata": {},
     "output_type": "execute_result"
    }
   ],
   "source": [
    "list(a)"
   ]
  },
  {
   "cell_type": "code",
   "execution_count": 10,
   "id": "bfdc231f-3371-4540-ad42-6a2854a502c6",
   "metadata": {},
   "outputs": [
    {
     "data": {
      "text/plain": [
       "'1'"
      ]
     },
     "execution_count": 10,
     "metadata": {},
     "output_type": "execute_result"
    }
   ],
   "source": [
    "str('1')"
   ]
  },
  {
   "cell_type": "code",
   "execution_count": 11,
   "id": "2b9e15fa",
   "metadata": {
    "id": "2b9e15fa",
    "outputId": "c8ccde4e-92d3-4693-c093-23a044ff31af"
   },
   "outputs": [
    {
     "data": {
      "text/plain": [
       "['1', '2', '3', '4']"
      ]
     },
     "execution_count": 11,
     "metadata": {},
     "output_type": "execute_result"
    }
   ],
   "source": [
    "list(str(1234))"
   ]
  },
  {
   "cell_type": "code",
   "execution_count": 12,
   "id": "cb1b9b07",
   "metadata": {
    "id": "cb1b9b07",
    "outputId": "aa2dc58b-2ff3-42ab-e152-16712a5a8eec"
   },
   "outputs": [
    {
     "data": {
      "text/plain": [
       "4"
      ]
     },
     "execution_count": 12,
     "metadata": {},
     "output_type": "execute_result"
    }
   ],
   "source": [
    "len(str(1230))"
   ]
  },
  {
   "cell_type": "code",
   "execution_count": 13,
   "id": "b362bb73",
   "metadata": {
    "id": "b362bb73",
    "outputId": "acef9085-a445-45bb-a511-bc01811a1e39"
   },
   "outputs": [
    {
     "data": {
      "text/plain": [
       "NoneType"
      ]
     },
     "execution_count": 13,
     "metadata": {},
     "output_type": "execute_result"
    }
   ],
   "source": [
    "type(None)"
   ]
  },
  {
   "cell_type": "code",
   "execution_count": 14,
   "id": "0f38f77f-1629-4836-b0a2-b2e1bfd14e93",
   "metadata": {},
   "outputs": [
    {
     "data": {
      "text/plain": [
       "False"
      ]
     },
     "execution_count": 14,
     "metadata": {},
     "output_type": "execute_result"
    }
   ],
   "source": [
    "0.00000000001 == 0"
   ]
  },
  {
   "cell_type": "code",
   "execution_count": 15,
   "id": "18c65d1e",
   "metadata": {
    "id": "18c65d1e"
   },
   "outputs": [],
   "source": [
    "mesela = [[1, 2, 4],  False, \"ali\", 11, [\"veli\", [\"deli\"]]]"
   ]
  },
  {
   "cell_type": "code",
   "execution_count": 16,
   "id": "3f2453fe-52db-45e3-9dc2-8f846b6a170e",
   "metadata": {},
   "outputs": [
    {
     "data": {
      "text/plain": [
       "[[1, 2, 4], False, 'ali', 11, ['veli', ['deli']]]"
      ]
     },
     "execution_count": 16,
     "metadata": {},
     "output_type": "execute_result"
    }
   ],
   "source": [
    "mesela"
   ]
  },
  {
   "cell_type": "code",
   "execution_count": 17,
   "id": "78d9c83d",
   "metadata": {
    "id": "78d9c83d",
    "outputId": "4b10cfcd-5534-4ce2-dac3-97c404bcfd66"
   },
   "outputs": [
    {
     "data": {
      "text/plain": [
       "5"
      ]
     },
     "execution_count": 17,
     "metadata": {},
     "output_type": "execute_result"
    }
   ],
   "source": [
    "len(mesela)"
   ]
  },
  {
   "cell_type": "code",
   "execution_count": 18,
   "id": "5b2eae5f",
   "metadata": {
    "id": "5b2eae5f",
    "outputId": "765d8d17-a642-4dc0-f348-1b3937e05c58"
   },
   "outputs": [
    {
     "data": {
      "text/plain": [
       "1"
      ]
     },
     "execution_count": 18,
     "metadata": {},
     "output_type": "execute_result"
    }
   ],
   "source": [
    "len([[[\"  \"]]])"
   ]
  },
  {
   "cell_type": "code",
   "execution_count": 19,
   "id": "95e858c9",
   "metadata": {
    "id": "95e858c9",
    "outputId": "6edfbe75-d4de-4261-f938-8ae3c61d2008"
   },
   "outputs": [
    {
     "data": {
      "text/plain": [
       "2"
      ]
     },
     "execution_count": 19,
     "metadata": {},
     "output_type": "execute_result"
    }
   ],
   "source": [
    "len([    [[\"  \", 1, 3]],    \"hello\"])"
   ]
  },
  {
   "cell_type": "markdown",
   "id": "59607ecb",
   "metadata": {
    "id": "59607ecb"
   },
   "source": [
    "<a id=\"toc\"></a>\n",
    "\n",
    "## <p style=\"background-color:#9d4f8c; font-family:newtimeroman; color:#FFF9ED; font-size:175%; text-align:center; border-radius:10px 10px;\">Basic Operations with Lists</p>"
   ]
  },
  {
   "cell_type": "markdown",
   "id": "644f5b96",
   "metadata": {
    "id": "644f5b96"
   },
   "source": [
    "**python documentation link - More on Lists: https://docs.python.org/3/tutorial/datastructures.html#more-on-lists**\n",
    "\n",
    "**Link 2 : https://python.plainenglish.io/5-list-operations-in-python-5644de1ccc44**"
   ]
  },
  {
   "cell_type": "code",
   "execution_count": 20,
   "id": "9cc019c9",
   "metadata": {
    "id": "9cc019c9",
    "outputId": "586aad7a-5c5c-40d7-b4f7-577105951ea5"
   },
   "outputs": [
    {
     "data": {
      "text/plain": [
       "[]"
      ]
     },
     "execution_count": 20,
     "metadata": {},
     "output_type": "execute_result"
    }
   ],
   "source": [
    "empty = []\n",
    "empty"
   ]
  },
  {
   "cell_type": "code",
   "execution_count": 21,
   "id": "a158a57e",
   "metadata": {
    "id": "a158a57e",
    "outputId": "c6b32310-b998-4468-d725-742fa5b96be1"
   },
   "outputs": [
    {
     "data": {
      "text/plain": [
       "[]"
      ]
     },
     "execution_count": 21,
     "metadata": {},
     "output_type": "execute_result"
    }
   ],
   "source": [
    "empty2 = list()\n",
    "empty2"
   ]
  },
  {
   "cell_type": "code",
   "execution_count": 22,
   "id": "ee6b0f1d",
   "metadata": {
    "id": "ee6b0f1d",
    "outputId": "07739c3b-8020-4303-c5c4-4392f2cb76ba"
   },
   "outputs": [
    {
     "data": {
      "text/plain": [
       "'Kirby Betty Samuel'"
      ]
     },
     "execution_count": 22,
     "metadata": {},
     "output_type": "execute_result"
    }
   ],
   "source": [
    "\"kirby betty samuel\".title()"
   ]
  },
  {
   "cell_type": "code",
   "execution_count": 23,
   "id": "861eba53",
   "metadata": {
    "id": "861eba53"
   },
   "outputs": [],
   "source": [
    "my_list = []"
   ]
  },
  {
   "cell_type": "code",
   "execution_count": 24,
   "id": "ef2742ba",
   "metadata": {
    "id": "ef2742ba"
   },
   "outputs": [],
   "source": [
    "my_list.append(11)"
   ]
  },
  {
   "cell_type": "code",
   "execution_count": 25,
   "id": "846b182e",
   "metadata": {
    "id": "846b182e",
    "outputId": "7e2d28ec-5fe1-43a3-f04d-83ac8c413026"
   },
   "outputs": [
    {
     "data": {
      "text/plain": [
       "[11]"
      ]
     },
     "execution_count": 25,
     "metadata": {},
     "output_type": "execute_result"
    }
   ],
   "source": [
    "my_list"
   ]
  },
  {
   "cell_type": "code",
   "execution_count": 26,
   "id": "0bfa1a8f",
   "metadata": {
    "id": "0bfa1a8f",
    "outputId": "06390a72-0b02-483f-fc92-1e0d8d692ffc"
   },
   "outputs": [
    {
     "data": {
      "text/plain": [
       "'kirby b+tty samu+l'"
      ]
     },
     "execution_count": 26,
     "metadata": {},
     "output_type": "execute_result"
    }
   ],
   "source": [
    "\"kirby betty samuel\".replace(\"e\", \"+\")"
   ]
  },
  {
   "cell_type": "code",
   "execution_count": 27,
   "id": "13c2d6d0",
   "metadata": {
    "id": "13c2d6d0"
   },
   "outputs": [],
   "source": [
    "my_list.append(22)"
   ]
  },
  {
   "cell_type": "code",
   "execution_count": 28,
   "id": "d8f6d6fd",
   "metadata": {
    "id": "d8f6d6fd",
    "outputId": "6fe79b41-7fe0-43f2-bfee-78895dafc79d"
   },
   "outputs": [
    {
     "data": {
      "text/plain": [
       "[11, 22]"
      ]
     },
     "execution_count": 28,
     "metadata": {},
     "output_type": "execute_result"
    }
   ],
   "source": [
    "my_list"
   ]
  },
  {
   "cell_type": "code",
   "execution_count": 29,
   "id": "57256a5b",
   "metadata": {
    "id": "57256a5b"
   },
   "outputs": [],
   "source": [
    "siblings = [\"kirby\", \"betty\"]"
   ]
  },
  {
   "cell_type": "code",
   "execution_count": 30,
   "id": "91046533",
   "metadata": {
    "id": "91046533",
    "outputId": "c652bf87-70de-40b2-b9d9-ee92816f6aa9"
   },
   "outputs": [
    {
     "data": {
      "text/plain": [
       "['kirby', 'betty', 'samuel']"
      ]
     },
     "execution_count": 30,
     "metadata": {},
     "output_type": "execute_result"
    }
   ],
   "source": [
    "siblings.append(\"samuel\")\n",
    "\n",
    "siblings"
   ]
  },
  {
   "cell_type": "code",
   "execution_count": 31,
   "id": "942c6f63",
   "metadata": {
    "id": "942c6f63",
    "outputId": "fc4a7731-6901-4234-e74c-a67398eba893"
   },
   "outputs": [
    {
     "data": {
      "text/plain": [
       "['kirby', 'betty', 'samuel', True]"
      ]
     },
     "execution_count": 31,
     "metadata": {},
     "output_type": "execute_result"
    }
   ],
   "source": [
    "siblings.append(True)\n",
    "siblings"
   ]
  },
  {
   "cell_type": "code",
   "execution_count": 32,
   "id": "eb2c2512",
   "metadata": {
    "id": "eb2c2512",
    "outputId": "af2a4b07-1bf7-4457-9ac9-91d35a738305"
   },
   "outputs": [
    {
     "data": {
      "text/plain": [
       "['kirby', 'betty', 'samuel', True, 3.14]"
      ]
     },
     "execution_count": 32,
     "metadata": {},
     "output_type": "execute_result"
    }
   ],
   "source": [
    "siblings.append(3.14)\n",
    "siblings"
   ]
  },
  {
   "cell_type": "code",
   "execution_count": 33,
   "id": "1c06245e-b529-4ae2-874c-2380ee19d642",
   "metadata": {},
   "outputs": [
    {
     "name": "stdout",
     "output_type": "stream",
     "text": [
      "Help on built-in function pop:\n",
      "\n",
      "pop(index=-1, /) method of builtins.list instance\n",
      "    Remove and return item at index (default last).\n",
      "    \n",
      "    Raises IndexError if list is empty or index is out of range.\n",
      "\n"
     ]
    }
   ],
   "source": [
    "help(siblings.pop)"
   ]
  },
  {
   "cell_type": "code",
   "execution_count": 34,
   "id": "2e411d3a-248a-42c2-a154-460221e80950",
   "metadata": {},
   "outputs": [
    {
     "data": {
      "text/plain": [
       "['kirby', 'betty', 'samuel', True, 3.14]"
      ]
     },
     "execution_count": 34,
     "metadata": {},
     "output_type": "execute_result"
    }
   ],
   "source": [
    "siblings"
   ]
  },
  {
   "cell_type": "code",
   "execution_count": 35,
   "id": "4f6ab93b-ce8b-4445-976a-cbac48884020",
   "metadata": {},
   "outputs": [],
   "source": [
    "sib = siblings.pop(  )"
   ]
  },
  {
   "cell_type": "code",
   "execution_count": 36,
   "id": "3662441f-7b05-4473-87d5-48dceb0c14ef",
   "metadata": {},
   "outputs": [],
   "source": [
    "siblings.insert(0, 2.18)"
   ]
  },
  {
   "cell_type": "code",
   "execution_count": 37,
   "id": "dec7bb47-3c46-490f-b70a-7c28dd4ab880",
   "metadata": {},
   "outputs": [],
   "source": [
    "siblings = siblings[1:]"
   ]
  },
  {
   "cell_type": "code",
   "execution_count": 38,
   "id": "fe3f23dc-7907-4964-b0c9-7089d032a0fb",
   "metadata": {},
   "outputs": [
    {
     "data": {
      "text/plain": [
       "['kirby', 'betty', 'samuel', True]"
      ]
     },
     "execution_count": 38,
     "metadata": {},
     "output_type": "execute_result"
    }
   ],
   "source": [
    "siblings"
   ]
  },
  {
   "cell_type": "code",
   "execution_count": 39,
   "id": "70974cc9",
   "metadata": {
    "id": "70974cc9",
    "outputId": "57712325-593b-4ac3-c283-249ba84250d3"
   },
   "outputs": [
    {
     "data": {
      "text/plain": [
       "'samuel'"
      ]
     },
     "execution_count": 39,
     "metadata": {},
     "output_type": "execute_result"
    }
   ],
   "source": [
    "last_element = siblings.pop(2)\n",
    "last_element"
   ]
  },
  {
   "cell_type": "code",
   "execution_count": 40,
   "id": "cc7da905",
   "metadata": {
    "id": "cc7da905",
    "outputId": "e3294d23-dc55-42cd-9b37-11ed41ddf2d3"
   },
   "outputs": [
    {
     "data": {
      "text/plain": [
       "['kirby', 'betty', True]"
      ]
     },
     "execution_count": 40,
     "metadata": {},
     "output_type": "execute_result"
    }
   ],
   "source": [
    "siblings"
   ]
  },
  {
   "cell_type": "code",
   "execution_count": 41,
   "id": "fd39a5d6",
   "metadata": {
    "id": "fd39a5d6",
    "outputId": "eb998505-633a-4d5e-bcad-a989b9ee7b95"
   },
   "outputs": [
    {
     "data": {
      "text/plain": [
       "True"
      ]
     },
     "execution_count": 41,
     "metadata": {},
     "output_type": "execute_result"
    }
   ],
   "source": [
    "siblings.pop()"
   ]
  },
  {
   "cell_type": "code",
   "execution_count": 42,
   "id": "315ca97a",
   "metadata": {
    "id": "315ca97a",
    "outputId": "042caef3-d573-42b3-eb88-468210affc62"
   },
   "outputs": [
    {
     "data": {
      "text/plain": [
       "['kirby', 'betty']"
      ]
     },
     "execution_count": 42,
     "metadata": {},
     "output_type": "execute_result"
    }
   ],
   "source": [
    "siblings"
   ]
  },
  {
   "cell_type": "code",
   "execution_count": 43,
   "id": "65b9e6a6-c7e6-4253-9ec1-7abdd3ff33f5",
   "metadata": {},
   "outputs": [
    {
     "data": {
      "text/plain": [
       "['bear', 'monkey', 'parrot']"
      ]
     },
     "execution_count": 43,
     "metadata": {},
     "output_type": "execute_result"
    }
   ],
   "source": [
    "zoo = ['bear', 'monkey', 'parrot']\n",
    "zoo"
   ]
  },
  {
   "cell_type": "code",
   "execution_count": 44,
   "id": "7aaa4a9f-88c9-41c9-bf83-cac3f31e5f40",
   "metadata": {},
   "outputs": [],
   "source": [
    "animal = zoo.pop()"
   ]
  },
  {
   "cell_type": "code",
   "execution_count": 45,
   "id": "3aceb7e2-68a4-442e-9912-2117f093b643",
   "metadata": {},
   "outputs": [
    {
     "data": {
      "text/plain": [
       "str"
      ]
     },
     "execution_count": 45,
     "metadata": {},
     "output_type": "execute_result"
    }
   ],
   "source": [
    "type(animal)"
   ]
  },
  {
   "cell_type": "code",
   "execution_count": 46,
   "id": "f48cd53a-31e6-48c5-bbcd-3a8b381d8251",
   "metadata": {},
   "outputs": [
    {
     "data": {
      "text/plain": [
       "'parrot'"
      ]
     },
     "execution_count": 46,
     "metadata": {},
     "output_type": "execute_result"
    }
   ],
   "source": [
    "animal"
   ]
  },
  {
   "cell_type": "code",
   "execution_count": 47,
   "id": "ccfbfa01-c2e9-4cd7-9667-f9640102de66",
   "metadata": {},
   "outputs": [
    {
     "data": {
      "text/plain": [
       "['bear', 'monkey']"
      ]
     },
     "execution_count": 47,
     "metadata": {},
     "output_type": "execute_result"
    }
   ],
   "source": [
    "zoo"
   ]
  },
  {
   "cell_type": "code",
   "execution_count": 48,
   "id": "f997b3e6-0824-4c5e-ac8f-841d93a18d23",
   "metadata": {},
   "outputs": [],
   "source": [
    "def add(a, b):\n",
    "    print(\"whatever\")\n",
    "    return a + b"
   ]
  },
  {
   "cell_type": "code",
   "execution_count": 49,
   "id": "39c24d92-8131-4511-89d4-67bd2338cbf7",
   "metadata": {},
   "outputs": [
    {
     "name": "stdout",
     "output_type": "stream",
     "text": [
      "whatever\n"
     ]
    }
   ],
   "source": [
    "result = add( 10, 11)\n"
   ]
  },
  {
   "cell_type": "code",
   "execution_count": 50,
   "id": "0e3c1f79-d862-4d87-a5cf-2179a0996fd0",
   "metadata": {},
   "outputs": [
    {
     "data": {
      "text/plain": [
       "21"
      ]
     },
     "execution_count": 50,
     "metadata": {},
     "output_type": "execute_result"
    }
   ],
   "source": [
    "result"
   ]
  },
  {
   "cell_type": "code",
   "execution_count": 51,
   "id": "f4e65e48-fd6f-4cfe-b4d3-a56333cc7b9a",
   "metadata": {},
   "outputs": [
    {
     "name": "stdout",
     "output_type": "stream",
     "text": [
      "['__add__', '__class__', '__class_getitem__', '__contains__', '__delattr__', '__delitem__', '__dir__', '__doc__', '__eq__', '__format__', '__ge__', '__getattribute__', '__getitem__', '__getstate__', '__gt__', '__hash__', '__iadd__', '__imul__', '__init__', '__init_subclass__', '__iter__', '__le__', '__len__', '__lt__', '__mul__', '__ne__', '__new__', '__reduce__', '__reduce_ex__', '__repr__', '__reversed__', '__rmul__', '__setattr__', '__setitem__', '__sizeof__', '__str__', '__subclasshook__', 'append', 'clear', 'copy', 'count', 'extend', 'index', 'insert', 'pop', 'remove', 'reverse', 'sort']\n"
     ]
    }
   ],
   "source": [
    "print(dir(siblings))"
   ]
  },
  {
   "cell_type": "code",
   "execution_count": 52,
   "id": "3983192a-d4ed-42a0-9db0-36f76f927635",
   "metadata": {},
   "outputs": [
    {
     "data": {
      "text/plain": [
       "int"
      ]
     },
     "execution_count": 52,
     "metadata": {},
     "output_type": "execute_result"
    }
   ],
   "source": [
    "type(result)"
   ]
  },
  {
   "cell_type": "code",
   "execution_count": 53,
   "id": "f74f52bb-ffa4-4709-b9c4-26b73dff6cf2",
   "metadata": {},
   "outputs": [
    {
     "data": {
      "text/plain": [
       "'monkey'"
      ]
     },
     "execution_count": 53,
     "metadata": {},
     "output_type": "execute_result"
    }
   ],
   "source": [
    "keep = zoo.pop(1)\n",
    "keep"
   ]
  },
  {
   "cell_type": "code",
   "execution_count": 54,
   "id": "75747694-e4d5-458d-aa5c-3c154312c314",
   "metadata": {},
   "outputs": [],
   "source": [
    "del siblings"
   ]
  },
  {
   "cell_type": "code",
   "execution_count": 55,
   "id": "b80dec89-026c-4fcf-97e2-078e5f494175",
   "metadata": {},
   "outputs": [
    {
     "data": {
      "text/plain": [
       "[2.18, 'kirby', 'samuel']"
      ]
     },
     "execution_count": 55,
     "metadata": {},
     "output_type": "execute_result"
    }
   ],
   "source": [
    "siblings= [2.18, 'kirby', 'samuel']\n",
    "siblings"
   ]
  },
  {
   "cell_type": "code",
   "execution_count": 56,
   "id": "59124c6e-1cad-4965-9bb5-9c519f481dd1",
   "metadata": {
    "id": "528bcbb6",
    "outputId": "83ca7ac6-3fd3-44f0-94ee-6fd359addb14"
   },
   "outputs": [],
   "source": [
    "siblings.append('Joe')"
   ]
  },
  {
   "cell_type": "code",
   "execution_count": 57,
   "id": "ec8e37b0",
   "metadata": {
    "id": "ec8e37b0",
    "outputId": "6ffdb8e2-5d60-471e-f399-b1f3d98ab06d"
   },
   "outputs": [
    {
     "data": {
      "text/plain": [
       "[2.18, 'kirby', 'samuel', 'Joe']"
      ]
     },
     "execution_count": 57,
     "metadata": {},
     "output_type": "execute_result"
    }
   ],
   "source": [
    "siblings"
   ]
  },
  {
   "cell_type": "code",
   "execution_count": 58,
   "id": "f810947f",
   "metadata": {
    "id": "f810947f",
    "outputId": "2ae5c854-65f3-4f63-f472-438432f8a53d"
   },
   "outputs": [
    {
     "data": {
      "text/plain": [
       "[2.18, 'deli', 'kirby', 'samuel', 'Joe']"
      ]
     },
     "execution_count": 58,
     "metadata": {},
     "output_type": "execute_result"
    }
   ],
   "source": [
    "siblings.insert(1, \"deli\")\n",
    "\n",
    "siblings"
   ]
  },
  {
   "cell_type": "code",
   "execution_count": 59,
   "id": "3006ea69",
   "metadata": {
    "id": "3006ea69"
   },
   "outputs": [],
   "source": [
    "numbers = [1, 2, 3 ,4]"
   ]
  },
  {
   "cell_type": "code",
   "execution_count": 60,
   "id": "59d12dcf-befa-4130-b639-71bf26a1ea9a",
   "metadata": {},
   "outputs": [
    {
     "data": {
      "text/plain": [
       "[1, 2, 3, 4]"
      ]
     },
     "execution_count": 60,
     "metadata": {},
     "output_type": "execute_result"
    }
   ],
   "source": [
    "numbers"
   ]
  },
  {
   "cell_type": "code",
   "execution_count": 61,
   "id": "3dc90545-e16d-4721-af5f-0fab4482f703",
   "metadata": {},
   "outputs": [
    {
     "name": "stdout",
     "output_type": "stream",
     "text": [
      "Help on built-in function insert:\n",
      "\n",
      "insert(index, object, /) method of builtins.list instance\n",
      "    Insert object before index.\n",
      "\n"
     ]
    }
   ],
   "source": [
    "help(numbers.insert)"
   ]
  },
  {
   "cell_type": "code",
   "execution_count": 62,
   "id": "ac39643d",
   "metadata": {
    "id": "ac39643d",
    "outputId": "7ecbf1b3-94ba-4023-8743-ab8050a08fdf"
   },
   "outputs": [
    {
     "data": {
      "text/plain": [
       "[1, 2, 3, 5, 4]"
      ]
     },
     "execution_count": 62,
     "metadata": {},
     "output_type": "execute_result"
    }
   ],
   "source": [
    "numbers.insert(-1, 5)\n",
    "numbers"
   ]
  },
  {
   "cell_type": "code",
   "execution_count": 63,
   "id": "ed9d7b33",
   "metadata": {
    "id": "ed9d7b33",
    "outputId": "f788afd9-c9e6-458e-f197-ee960f1cb079"
   },
   "outputs": [
    {
     "data": {
      "text/plain": [
       "[1, 2, 3, 4, 5]"
      ]
     },
     "execution_count": 63,
     "metadata": {},
     "output_type": "execute_result"
    }
   ],
   "source": [
    "numbers = [1, 2, 3 ,4]\n",
    "\n",
    "numbers.insert(10, 5)\n",
    "numbers"
   ]
  },
  {
   "cell_type": "code",
   "execution_count": 64,
   "id": "ed8d9d30",
   "metadata": {
    "id": "ed8d9d30"
   },
   "outputs": [],
   "source": [
    "new = [3, 5, 1, 7, 4]"
   ]
  },
  {
   "cell_type": "code",
   "execution_count": 65,
   "id": "e089648b-eba3-4310-873a-069f5728e43c",
   "metadata": {},
   "outputs": [
    {
     "data": {
      "text/plain": [
       "[3, 5, 1, 7, 4]"
      ]
     },
     "execution_count": 65,
     "metadata": {},
     "output_type": "execute_result"
    }
   ],
   "source": [
    "new"
   ]
  },
  {
   "cell_type": "code",
   "execution_count": 66,
   "id": "08280cac",
   "metadata": {
    "id": "08280cac"
   },
   "outputs": [],
   "source": [
    "new.sort()"
   ]
  },
  {
   "cell_type": "code",
   "execution_count": 67,
   "id": "45419ebf",
   "metadata": {
    "id": "45419ebf",
    "outputId": "d0b0e280-7b4c-4c76-8fc9-71031e7bd823"
   },
   "outputs": [
    {
     "data": {
      "text/plain": [
       "[1, 3, 4, 5, 7]"
      ]
     },
     "execution_count": 67,
     "metadata": {},
     "output_type": "execute_result"
    }
   ],
   "source": [
    "new"
   ]
  },
  {
   "cell_type": "code",
   "execution_count": 68,
   "id": "b859d3a7",
   "metadata": {
    "id": "b859d3a7"
   },
   "outputs": [],
   "source": [
    "old = [\"samuel\", \"michael\", \"kirby\", \"betty\", \"marry\"]"
   ]
  },
  {
   "cell_type": "code",
   "execution_count": 69,
   "id": "35a4a0a3",
   "metadata": {
    "id": "35a4a0a3"
   },
   "outputs": [],
   "source": [
    "older = old.copy()"
   ]
  },
  {
   "cell_type": "code",
   "execution_count": 70,
   "id": "cada20dd",
   "metadata": {
    "id": "cada20dd",
    "outputId": "4ef468c0-fdc4-4051-dbb8-bdf282dd15ad"
   },
   "outputs": [
    {
     "data": {
      "text/plain": [
       "4405191808"
      ]
     },
     "execution_count": 70,
     "metadata": {},
     "output_type": "execute_result"
    }
   ],
   "source": [
    "id(older)"
   ]
  },
  {
   "cell_type": "code",
   "execution_count": 71,
   "id": "a3a12c70-fc27-475f-b6ab-f31b7ef82a14",
   "metadata": {},
   "outputs": [
    {
     "data": {
      "text/plain": [
       "4405826496"
      ]
     },
     "execution_count": 71,
     "metadata": {},
     "output_type": "execute_result"
    }
   ],
   "source": [
    "id(old)"
   ]
  },
  {
   "cell_type": "code",
   "execution_count": 72,
   "id": "c7bb39c9-2ce6-4776-86f6-779d8c8b3b1d",
   "metadata": {},
   "outputs": [],
   "source": [
    "older.append(\"grace\")"
   ]
  },
  {
   "cell_type": "code",
   "execution_count": 73,
   "id": "4581780b-6aee-43b2-8119-ca8c177106b2",
   "metadata": {},
   "outputs": [
    {
     "data": {
      "text/plain": [
       "['samuel', 'michael', 'kirby', 'betty', 'marry']"
      ]
     },
     "execution_count": 73,
     "metadata": {},
     "output_type": "execute_result"
    }
   ],
   "source": [
    "old"
   ]
  },
  {
   "cell_type": "code",
   "execution_count": 74,
   "id": "ab6a6349-9218-4056-8a2f-d27172162eeb",
   "metadata": {},
   "outputs": [
    {
     "data": {
      "text/plain": [
       "['samuel', 'michael', 'kirby', 'betty', 'marry']"
      ]
     },
     "execution_count": 74,
     "metadata": {},
     "output_type": "execute_result"
    }
   ],
   "source": [
    "old"
   ]
  },
  {
   "cell_type": "code",
   "execution_count": 75,
   "id": "9b57e39b-8f73-4be7-82a2-f4513b4554bb",
   "metadata": {},
   "outputs": [
    {
     "data": {
      "text/plain": [
       "['samuel', 'michael', 'kirby', 'betty', 'marry', 'grace']"
      ]
     },
     "execution_count": 75,
     "metadata": {},
     "output_type": "execute_result"
    }
   ],
   "source": [
    "older"
   ]
  },
  {
   "cell_type": "code",
   "execution_count": 76,
   "id": "b082e35c",
   "metadata": {
    "id": "b082e35c"
   },
   "outputs": [],
   "source": [
    "list1 = [\"one\", \"four\", \"nine\"]"
   ]
  },
  {
   "cell_type": "code",
   "execution_count": 77,
   "id": "9023d878",
   "metadata": {
    "id": "9023d878",
    "outputId": "01d48b3b-50f5-4776-ac87-593a50a57d71"
   },
   "outputs": [
    {
     "name": "stdout",
     "output_type": "stream",
     "text": [
      "Help on built-in function sort:\n",
      "\n",
      "sort(*, key=None, reverse=False) method of builtins.list instance\n",
      "    Sort the list in ascending order and return None.\n",
      "    \n",
      "    The sort is in-place (i.e. the list itself is modified) and stable (i.e. the\n",
      "    order of two equal elements is maintained).\n",
      "    \n",
      "    If a key function is given, apply it once to each list item and sort them,\n",
      "    ascending or descending, according to their function values.\n",
      "    \n",
      "    The reverse flag can be set to sort in descending order.\n",
      "\n"
     ]
    }
   ],
   "source": [
    "help(list1.sort)"
   ]
  },
  {
   "cell_type": "code",
   "execution_count": 78,
   "id": "4f6b1761-45cc-403d-807d-51983b684cc2",
   "metadata": {},
   "outputs": [
    {
     "name": "stdout",
     "output_type": "stream",
     "text": [
      "['__add__', '__class__', '__class_getitem__', '__contains__', '__delattr__', '__delitem__', '__dir__', '__doc__', '__eq__', '__format__', '__ge__', '__getattribute__', '__getitem__', '__getstate__', '__gt__', '__hash__', '__iadd__', '__imul__', '__init__', '__init_subclass__', '__iter__', '__le__', '__len__', '__lt__', '__mul__', '__ne__', '__new__', '__reduce__', '__reduce_ex__', '__repr__', '__reversed__', '__rmul__', '__setattr__', '__setitem__', '__sizeof__', '__str__', '__subclasshook__', 'append', 'clear', 'copy', 'count', 'extend', 'index', 'insert', 'pop', 'remove', 'reverse', 'sort']\n"
     ]
    }
   ],
   "source": [
    "print(dir(list))\n"
   ]
  },
  {
   "cell_type": "code",
   "execution_count": 79,
   "id": "762c808e-3853-49d4-b1db-b02afa9217fc",
   "metadata": {},
   "outputs": [
    {
     "name": "stdout",
     "output_type": "stream",
     "text": [
      "['t', 'h', 'i', 's', ' ', 'i', 's', ' ', 'a', ' ', 's', 'e', 'n', 't', 'e', 'n', 'c', 'e', ' ', 't', 'h', 'a', 't', ' ', 'h', 'a', 's', ' ', 'a', ' ', 'l', 'o', 't', ' ', 'o', 'f', ' ', 't', 'h', 'e', ' ', 's', 'a', 'm', 'e', ' ', 'l', 'e', 't', 't', 'e', 'r']\n"
     ]
    }
   ],
   "source": [
    "text = list(\"this is a sentence that has a lot of the same letter\")\n",
    "print(text)"
   ]
  },
  {
   "cell_type": "code",
   "execution_count": 80,
   "id": "15caf81e-97b2-4736-858f-42b8b492e326",
   "metadata": {},
   "outputs": [
    {
     "name": "stdout",
     "output_type": "stream",
     "text": [
      "Help on built-in function count:\n",
      "\n",
      "count(value, /) method of builtins.list instance\n",
      "    Return number of occurrences of value.\n",
      "\n"
     ]
    }
   ],
   "source": [
    "help(text.count)"
   ]
  },
  {
   "cell_type": "code",
   "execution_count": 81,
   "id": "9a060f8a-6e70-47ac-b897-4fedc3cb2e87",
   "metadata": {},
   "outputs": [
    {
     "data": {
      "text/plain": [
       "0"
      ]
     },
     "execution_count": 81,
     "metadata": {},
     "output_type": "execute_result"
    }
   ],
   "source": [
    "text.count('0')"
   ]
  },
  {
   "cell_type": "code",
   "execution_count": 82,
   "id": "979a30f7-982b-46c6-ba79-acc155126d0e",
   "metadata": {},
   "outputs": [
    {
     "data": {
      "text/plain": [
       "1"
      ]
     },
     "execution_count": 82,
     "metadata": {},
     "output_type": "execute_result"
    }
   ],
   "source": [
    "\"this is a sentence that has a lot of the same letter\".count(\"et\")"
   ]
  },
  {
   "cell_type": "code",
   "execution_count": 83,
   "id": "6e8901ae",
   "metadata": {
    "id": "6e8901ae"
   },
   "outputs": [],
   "source": [
    "list2 = [\"@\", \"✅\", \"*_\", \"False\", \"🎃\"]"
   ]
  },
  {
   "cell_type": "code",
   "execution_count": 84,
   "id": "c829de0d",
   "metadata": {
    "id": "c829de0d"
   },
   "outputs": [],
   "source": [
    "list2.sort()"
   ]
  },
  {
   "cell_type": "code",
   "execution_count": 85,
   "id": "0c2b6c71",
   "metadata": {
    "id": "0c2b6c71",
    "outputId": "ab1bb462-2a38-4ed0-91af-7f7c9e8585c5"
   },
   "outputs": [
    {
     "data": {
      "text/plain": [
       "['*_', '@', 'False', '✅', '🎃']"
      ]
     },
     "execution_count": 85,
     "metadata": {},
     "output_type": "execute_result"
    }
   ],
   "source": [
    "list2"
   ]
  },
  {
   "cell_type": "code",
   "execution_count": 86,
   "id": "db8ad5ac",
   "metadata": {
    "id": "db8ad5ac",
    "outputId": "63b71a70-2480-4edf-c9e1-815ed71e8a2a"
   },
   "outputs": [
    {
     "data": {
      "text/plain": [
       "64"
      ]
     },
     "execution_count": 86,
     "metadata": {},
     "output_type": "execute_result"
    }
   ],
   "source": [
    "ord(\"@\")"
   ]
  },
  {
   "cell_type": "code",
   "execution_count": 87,
   "id": "06ab3bfd-b564-4d19-ae92-9a904114a8df",
   "metadata": {},
   "outputs": [
    {
     "data": {
      "text/plain": [
       "127875"
      ]
     },
     "execution_count": 87,
     "metadata": {},
     "output_type": "execute_result"
    }
   ],
   "source": [
    "ord(\"🎃\")"
   ]
  },
  {
   "cell_type": "code",
   "execution_count": 88,
   "id": "92762bfd",
   "metadata": {
    "id": "92762bfd",
    "outputId": "020ed0fc-eb11-49ad-93b4-6b3e83c26e57"
   },
   "outputs": [
    {
     "data": {
      "text/plain": [
       "42"
      ]
     },
     "execution_count": 88,
     "metadata": {},
     "output_type": "execute_result"
    }
   ],
   "source": [
    "ord(\"*\")"
   ]
  },
  {
   "cell_type": "code",
   "execution_count": 89,
   "id": "7c94ee3f-bec7-467e-8c21-8155240282c3",
   "metadata": {},
   "outputs": [
    {
     "data": {
      "text/plain": [
       "9989"
      ]
     },
     "execution_count": 89,
     "metadata": {},
     "output_type": "execute_result"
    }
   ],
   "source": [
    "ord(\"✅\")"
   ]
  },
  {
   "cell_type": "code",
   "execution_count": 90,
   "id": "90b1d906",
   "metadata": {
    "id": "90b1d906",
    "outputId": "ea8ae66c-cb57-4c81-ce1f-33672fa27a89"
   },
   "outputs": [
    {
     "data": {
      "text/plain": [
       "70"
      ]
     },
     "execution_count": 90,
     "metadata": {},
     "output_type": "execute_result"
    }
   ],
   "source": [
    "ord(\"F\")"
   ]
  },
  {
   "cell_type": "code",
   "execution_count": 91,
   "id": "f43d7742",
   "metadata": {
    "id": "f43d7742"
   },
   "outputs": [],
   "source": [
    "list3 = [True, False]"
   ]
  },
  {
   "cell_type": "code",
   "execution_count": 92,
   "id": "d9512cd1",
   "metadata": {
    "id": "d9512cd1"
   },
   "outputs": [],
   "source": [
    "list3.sort()"
   ]
  },
  {
   "cell_type": "code",
   "execution_count": 93,
   "id": "29f073d3",
   "metadata": {
    "id": "29f073d3",
    "outputId": "a7f34bca-afba-4e60-9ed7-f1e806c9d13d"
   },
   "outputs": [
    {
     "data": {
      "text/plain": [
       "[False, True]"
      ]
     },
     "execution_count": 93,
     "metadata": {},
     "output_type": "execute_result"
    }
   ],
   "source": [
    "list3"
   ]
  },
  {
   "cell_type": "code",
   "execution_count": 94,
   "id": "24de7a01",
   "metadata": {
    "id": "24de7a01",
    "outputId": "5a792a82-ce8c-474d-a600-1bdb0feeaf93"
   },
   "outputs": [],
   "source": [
    "# ord(True)  # ord() fonksiyonu içine yalnızca string bir karakter alır."
   ]
  },
  {
   "cell_type": "code",
   "execution_count": 95,
   "id": "4c6e4527",
   "metadata": {
    "id": "4c6e4527",
    "outputId": "8946fe00-e296-4a51-9325-0a12b762df26"
   },
   "outputs": [
    {
     "data": {
      "text/plain": [
       "49"
      ]
     },
     "execution_count": 95,
     "metadata": {},
     "output_type": "execute_result"
    }
   ],
   "source": [
    "ord(\"1\")"
   ]
  },
  {
   "cell_type": "code",
   "execution_count": 96,
   "id": "94d6c717-9c9a-4c5b-ad7c-018f70305e18",
   "metadata": {},
   "outputs": [
    {
     "data": {
      "text/plain": [
       "[-12, 3, 44]"
      ]
     },
     "execution_count": 96,
     "metadata": {},
     "output_type": "execute_result"
    }
   ],
   "source": [
    "list04 = [3, 44, -12]\n",
    "list04.sort()\n",
    "list04"
   ]
  },
  {
   "cell_type": "code",
   "execution_count": 97,
   "id": "1a5c30b4",
   "metadata": {
    "id": "1a5c30b4"
   },
   "outputs": [],
   "source": [
    "list4 = [[3, 200], [44, 50], [-12, 100]]"
   ]
  },
  {
   "cell_type": "code",
   "execution_count": 98,
   "id": "0c48aa0b",
   "metadata": {
    "id": "0c48aa0b"
   },
   "outputs": [],
   "source": [
    "list4.sort()"
   ]
  },
  {
   "cell_type": "code",
   "execution_count": 99,
   "id": "dbc4f479",
   "metadata": {
    "id": "dbc4f479",
    "outputId": "9540b801-3338-425d-c950-014023f70a3c"
   },
   "outputs": [
    {
     "data": {
      "text/plain": [
       "[[-12, 100], [3, 200], [44, 50]]"
      ]
     },
     "execution_count": 99,
     "metadata": {},
     "output_type": "execute_result"
    }
   ],
   "source": [
    "list4"
   ]
  },
  {
   "cell_type": "code",
   "execution_count": 100,
   "id": "1c6fc48b",
   "metadata": {
    "id": "1c6fc48b"
   },
   "outputs": [],
   "source": [
    "list5 = [[1, 3], [44, -40], [-12, 1]]"
   ]
  },
  {
   "cell_type": "code",
   "execution_count": 101,
   "id": "c4ecc448",
   "metadata": {
    "id": "c4ecc448",
    "outputId": "a6bc383d-1acf-4794-9c1a-d2de1ba574b1"
   },
   "outputs": [
    {
     "data": {
      "text/plain": [
       "[[-12, 1], [1, 3], [44, -40]]"
      ]
     },
     "execution_count": 101,
     "metadata": {},
     "output_type": "execute_result"
    }
   ],
   "source": [
    "list5.sort()\n",
    "list5"
   ]
  },
  {
   "cell_type": "code",
   "execution_count": 102,
   "id": "7c8a6b71",
   "metadata": {
    "id": "7c8a6b71",
    "outputId": "5981ce87-a020-4f3d-e20e-73056ff7dcb3"
   },
   "outputs": [
    {
     "data": {
      "text/plain": [
       "'F'"
      ]
     },
     "execution_count": 102,
     "metadata": {},
     "output_type": "execute_result"
    }
   ],
   "source": [
    "chr(70)"
   ]
  },
  {
   "cell_type": "code",
   "execution_count": 103,
   "id": "ce905f20",
   "metadata": {
    "id": "ce905f20",
    "outputId": "6cc584d0-44e4-4344-9a85-fc18a6b46bd9"
   },
   "outputs": [
    {
     "data": {
      "text/plain": [
       "'ƻ'"
      ]
     },
     "execution_count": 103,
     "metadata": {},
     "output_type": "execute_result"
    }
   ],
   "source": [
    "chr(443)"
   ]
  },
  {
   "cell_type": "code",
   "execution_count": 114,
   "id": "437df761-1a48-4c69-a40a-c9223fdf69f4",
   "metadata": {},
   "outputs": [],
   "source": [
    "bi = dir(__builtins__)"
   ]
  },
  {
   "cell_type": "code",
   "execution_count": 107,
   "id": "9e301565-0f54-436d-85ed-3342e7e40ab8",
   "metadata": {},
   "outputs": [
    {
     "data": {
      "text/plain": [
       "127875"
      ]
     },
     "execution_count": 107,
     "metadata": {},
     "output_type": "execute_result"
    }
   ],
   "source": [
    "ord(\"🎃\")"
   ]
  },
  {
   "cell_type": "code",
   "execution_count": 112,
   "id": "c408cc10-50da-4ca4-96ff-45a8fcacda0e",
   "metadata": {},
   "outputs": [
    {
     "data": {
      "text/plain": [
       "[2.18, 'deli', 'kirby', 'samuel', 'Joe']"
      ]
     },
     "execution_count": 112,
     "metadata": {},
     "output_type": "execute_result"
    }
   ],
   "source": [
    "siblings"
   ]
  },
  {
   "cell_type": "code",
   "execution_count": 113,
   "id": "a3a1b1f1-a90d-4acf-910e-c07c508baac2",
   "metadata": {},
   "outputs": [
    {
     "data": {
      "text/plain": [
       "['bear']"
      ]
     },
     "execution_count": 113,
     "metadata": {},
     "output_type": "execute_result"
    }
   ],
   "source": [
    "zoo"
   ]
  },
  {
   "cell_type": "code",
   "execution_count": 115,
   "id": "f6321c26-7a3f-4849-b634-8e5ad50815ae",
   "metadata": {},
   "outputs": [],
   "source": [
    "bi.sort()"
   ]
  },
  {
   "cell_type": "code",
   "execution_count": 116,
   "id": "d4f5efac-db2f-4db0-8d93-fb11d15c4e8d",
   "metadata": {},
   "outputs": [
    {
     "data": {
      "text/plain": [
       "['ArithmeticError',\n",
       " 'AssertionError',\n",
       " 'AttributeError',\n",
       " 'BaseException',\n",
       " 'BaseExceptionGroup',\n",
       " 'BlockingIOError',\n",
       " 'BrokenPipeError',\n",
       " 'BufferError',\n",
       " 'BytesWarning',\n",
       " 'ChildProcessError',\n",
       " 'ConnectionAbortedError',\n",
       " 'ConnectionError',\n",
       " 'ConnectionRefusedError',\n",
       " 'ConnectionResetError',\n",
       " 'DeprecationWarning',\n",
       " 'EOFError',\n",
       " 'Ellipsis',\n",
       " 'EncodingWarning',\n",
       " 'EnvironmentError',\n",
       " 'Exception',\n",
       " 'ExceptionGroup',\n",
       " 'False',\n",
       " 'FileExistsError',\n",
       " 'FileNotFoundError',\n",
       " 'FloatingPointError',\n",
       " 'FutureWarning',\n",
       " 'GeneratorExit',\n",
       " 'IOError',\n",
       " 'ImportError',\n",
       " 'ImportWarning',\n",
       " 'IndentationError',\n",
       " 'IndexError',\n",
       " 'InterruptedError',\n",
       " 'IsADirectoryError',\n",
       " 'KeyError',\n",
       " 'KeyboardInterrupt',\n",
       " 'LookupError',\n",
       " 'MemoryError',\n",
       " 'ModuleNotFoundError',\n",
       " 'NameError',\n",
       " 'None',\n",
       " 'NotADirectoryError',\n",
       " 'NotImplemented',\n",
       " 'NotImplementedError',\n",
       " 'OSError',\n",
       " 'OverflowError',\n",
       " 'PendingDeprecationWarning',\n",
       " 'PermissionError',\n",
       " 'ProcessLookupError',\n",
       " 'RecursionError',\n",
       " 'ReferenceError',\n",
       " 'ResourceWarning',\n",
       " 'RuntimeError',\n",
       " 'RuntimeWarning',\n",
       " 'StopAsyncIteration',\n",
       " 'StopIteration',\n",
       " 'SyntaxError',\n",
       " 'SyntaxWarning',\n",
       " 'SystemError',\n",
       " 'SystemExit',\n",
       " 'TabError',\n",
       " 'TimeoutError',\n",
       " 'True',\n",
       " 'TypeError',\n",
       " 'UnboundLocalError',\n",
       " 'UnicodeDecodeError',\n",
       " 'UnicodeEncodeError',\n",
       " 'UnicodeError',\n",
       " 'UnicodeTranslateError',\n",
       " 'UnicodeWarning',\n",
       " 'UserWarning',\n",
       " 'ValueError',\n",
       " 'Warning',\n",
       " 'ZeroDivisionError',\n",
       " '__IPYTHON__',\n",
       " '__build_class__',\n",
       " '__debug__',\n",
       " '__doc__',\n",
       " '__import__',\n",
       " '__loader__',\n",
       " '__name__',\n",
       " '__package__',\n",
       " '__spec__',\n",
       " 'abs',\n",
       " 'aiter',\n",
       " 'all',\n",
       " 'anext',\n",
       " 'any',\n",
       " 'ascii',\n",
       " 'bin',\n",
       " 'bool',\n",
       " 'breakpoint',\n",
       " 'bytearray',\n",
       " 'bytes',\n",
       " 'callable',\n",
       " 'chr',\n",
       " 'classmethod',\n",
       " 'compile',\n",
       " 'complex',\n",
       " 'copyright',\n",
       " 'credits',\n",
       " 'delattr',\n",
       " 'dict',\n",
       " 'dir',\n",
       " 'display',\n",
       " 'divmod',\n",
       " 'enumerate',\n",
       " 'eval',\n",
       " 'exec',\n",
       " 'execfile',\n",
       " 'filter',\n",
       " 'float',\n",
       " 'format',\n",
       " 'frozenset',\n",
       " 'get_ipython',\n",
       " 'getattr',\n",
       " 'globals',\n",
       " 'hasattr',\n",
       " 'hash',\n",
       " 'help',\n",
       " 'hex',\n",
       " 'id',\n",
       " 'input',\n",
       " 'int',\n",
       " 'isinstance',\n",
       " 'issubclass',\n",
       " 'iter',\n",
       " 'len',\n",
       " 'license',\n",
       " 'list',\n",
       " 'locals',\n",
       " 'map',\n",
       " 'max',\n",
       " 'memoryview',\n",
       " 'min',\n",
       " 'next',\n",
       " 'object',\n",
       " 'oct',\n",
       " 'open',\n",
       " 'ord',\n",
       " 'pow',\n",
       " 'print',\n",
       " 'property',\n",
       " 'range',\n",
       " 'repr',\n",
       " 'reversed',\n",
       " 'round',\n",
       " 'runfile',\n",
       " 'set',\n",
       " 'setattr',\n",
       " 'slice',\n",
       " 'sorted',\n",
       " 'staticmethod',\n",
       " 'str',\n",
       " 'sum',\n",
       " 'super',\n",
       " 'tuple',\n",
       " 'type',\n",
       " 'vars',\n",
       " 'zip']"
      ]
     },
     "execution_count": 116,
     "metadata": {},
     "output_type": "execute_result"
    }
   ],
   "source": [
    "bi"
   ]
  },
  {
   "cell_type": "code",
   "execution_count": 117,
   "id": "064d41c7-0fcc-4036-ab57-1f7d1a36631a",
   "metadata": {},
   "outputs": [
    {
     "name": "stdout",
     "output_type": "stream",
     "text": [
      "['ArithmeticError', 'AssertionError', 'AttributeError', 'BaseException', 'BaseExceptionGroup', 'BlockingIOError', 'BrokenPipeError', 'BufferError', 'BytesWarning', 'ChildProcessError', 'ConnectionAbortedError', 'ConnectionError', 'ConnectionRefusedError', 'ConnectionResetError', 'DeprecationWarning', 'EOFError', 'Ellipsis', 'EncodingWarning', 'EnvironmentError', 'Exception', 'ExceptionGroup', 'False', 'FileExistsError', 'FileNotFoundError', 'FloatingPointError', 'FutureWarning', 'GeneratorExit', 'IOError', 'ImportError', 'ImportWarning', 'IndentationError', 'IndexError', 'InterruptedError', 'IsADirectoryError', 'KeyError', 'KeyboardInterrupt', 'LookupError', 'MemoryError', 'ModuleNotFoundError', 'NameError', 'None', 'NotADirectoryError', 'NotImplemented', 'NotImplementedError', 'OSError', 'OverflowError', 'PendingDeprecationWarning', 'PermissionError', 'ProcessLookupError', 'RecursionError', 'ReferenceError', 'ResourceWarning', 'RuntimeError', 'RuntimeWarning', 'StopAsyncIteration', 'StopIteration', 'SyntaxError', 'SyntaxWarning', 'SystemError', 'SystemExit', 'TabError', 'TimeoutError', 'True', 'TypeError', 'UnboundLocalError', 'UnicodeDecodeError', 'UnicodeEncodeError', 'UnicodeError', 'UnicodeTranslateError', 'UnicodeWarning', 'UserWarning', 'ValueError', 'Warning', 'ZeroDivisionError', '__IPYTHON__', '__build_class__', '__debug__', '__doc__', '__import__', '__loader__', '__name__', '__package__', '__spec__', 'abs', 'aiter', 'all', 'anext', 'any', 'ascii', 'bin', 'bool', 'breakpoint', 'bytearray', 'bytes', 'callable', 'chr', 'classmethod', 'compile', 'complex', 'copyright', 'credits', 'delattr', 'dict', 'dir', 'display', 'divmod', 'enumerate', 'eval', 'exec', 'execfile', 'filter', 'float', 'format', 'frozenset', 'get_ipython', 'getattr', 'globals', 'hasattr', 'hash', 'help', 'hex', 'id', 'input', 'int', 'isinstance', 'issubclass', 'iter', 'len', 'license', 'list', 'locals', 'map', 'max', 'memoryview', 'min', 'next', 'object', 'oct', 'open', 'ord', 'pow', 'print', 'property', 'range', 'repr', 'reversed', 'round', 'runfile', 'set', 'setattr', 'slice', 'sorted', 'staticmethod', 'str', 'sum', 'super', 'tuple', 'type', 'vars', 'zip']\n"
     ]
    }
   ],
   "source": [
    "print(bi)"
   ]
  },
  {
   "cell_type": "code",
   "execution_count": 127,
   "id": "e163ee65-a70a-45e7-80d0-2de75e6445d8",
   "metadata": {},
   "outputs": [],
   "source": [
    "old = [1, 3, 4, 0, -1]"
   ]
  },
  {
   "cell_type": "code",
   "execution_count": 128,
   "id": "6542eeea-36f0-4a6d-b375-b876f9fe5f65",
   "metadata": {},
   "outputs": [],
   "source": [
    "new_list = reversed(old)"
   ]
  },
  {
   "cell_type": "code",
   "execution_count": 130,
   "id": "a5fd5446-530b-45c7-b485-db2ec02e7889",
   "metadata": {},
   "outputs": [
    {
     "data": {
      "text/plain": [
       "[-1, 0, 4, 3, 1]"
      ]
     },
     "execution_count": 130,
     "metadata": {},
     "output_type": "execute_result"
    }
   ],
   "source": [
    "list(new_list)"
   ]
  },
  {
   "cell_type": "code",
   "execution_count": 126,
   "id": "c5c260cb-4612-4230-a87f-52ed0744282c",
   "metadata": {},
   "outputs": [
    {
     "data": {
      "text/plain": [
       "[1, 3, 4, 0, -1]"
      ]
     },
     "execution_count": 126,
     "metadata": {},
     "output_type": "execute_result"
    }
   ],
   "source": [
    "old"
   ]
  },
  {
   "cell_type": "code",
   "execution_count": null,
   "id": "f36f1899-7656-4337-ab57-6fd4189eb3d6",
   "metadata": {},
   "outputs": [],
   "source": []
  },
  {
   "cell_type": "code",
   "execution_count": 134,
   "id": "de538fa9-deb8-4498-99e7-e91c144da202",
   "metadata": {},
   "outputs": [],
   "source": [
    "old"
   ]
  },
  {
   "cell_type": "code",
   "execution_count": 132,
   "id": "b49860c3-006a-4607-bd53-ffcfdb983b75",
   "metadata": {},
   "outputs": [],
   "source": [
    "old.sort()  # bad idea"
   ]
  },
  {
   "cell_type": "code",
   "execution_count": 133,
   "id": "025a722b-71c6-4926-8094-ea3d6f94a907",
   "metadata": {},
   "outputs": [],
   "source": [
    "old"
   ]
  },
  {
   "cell_type": "code",
   "execution_count": null,
   "id": "0f52b8f4-af26-495d-8988-3a3a13819988",
   "metadata": {},
   "outputs": [],
   "source": []
  }
 ],
 "metadata": {
  "colab": {
   "provenance": []
  },
  "kernelspec": {
   "display_name": "Python 3 (ipykernel)",
   "language": "python",
   "name": "python3"
  },
  "language_info": {
   "codemirror_mode": {
    "name": "ipython",
    "version": 3
   },
   "file_extension": ".py",
   "mimetype": "text/x-python",
   "name": "python",
   "nbconvert_exporter": "python",
   "pygments_lexer": "ipython3",
   "version": "3.11.3"
  }
 },
 "nbformat": 4,
 "nbformat_minor": 5
}
