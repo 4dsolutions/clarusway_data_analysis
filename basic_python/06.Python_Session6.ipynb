{
 "cells": [
  {
   "cell_type": "markdown",
   "id": "spHKE82hCdl-",
   "metadata": {
    "id": "spHKE82hCdl-"
   },
   "source": [
    "#### Clarusway Python\n",
    "\n",
    "* [Instructor Landing Page](landing_page.ipynb)\n",
    "* <a href=\"https://colab.research.google.com/github/4dsolutions/clarusway_data_analysis/blob/main/basic_python/06.session06.ipynb\"><img align=\"left\" src=\"https://colab.research.google.com/assets/colab-badge.svg\" alt=\"Open in Colab\" title=\"Open and Execute in Google Colaboratory\"></a>\n",
    "* [![nbviewer](https://raw.githubusercontent.com/jupyter/design/master/logos/Badges/nbviewer_badge.svg)](https://nbviewer.org/github/4dsolutions/clarusway_data_analysis/blob/main/basic_python/06.session06.ipynb)"
   ]
  },
  {
   "cell_type": "markdown",
   "id": "97d2a08c",
   "metadata": {
    "id": "97d2a08c"
   },
   "source": [
    "<a id=\"toc\"></a>\n",
    "\n",
    "## <p style=\"background-color:#0D8D99; font-family:newtimeroman; color:#FFF9ED; font-size:175%; text-align:center; border-radius:10px 10px;\">Python Session06</p>"
   ]
  },
  {
   "cell_type": "markdown",
   "id": "93bf8f83",
   "metadata": {
    "id": "93bf8f83"
   },
   "source": [
    "#### <div class=\"alert alert-block alert-info\"><h1><p style=\"text-align: center; color:purple\">Collection Types - Lists<br><br>Creating a List<br><br>Basic Operations with Lists</p>"
   ]
  },
  {
   "cell_type": "markdown",
   "id": "c8f72089",
   "metadata": {
    "id": "c8f72089"
   },
   "source": [
    "<a id=\"toc\"></a>\n",
    "\n",
    "# <p style=\"background-color:#9d4f8c; font-family:newtimeroman; color:#FFF9ED; font-size:175%; text-align:center; border-radius:10px 10px;\">Collection Types</p>"
   ]
  },
  {
   "cell_type": "markdown",
   "id": "78c45115",
   "metadata": {
    "id": "78c45115"
   },
   "source": [
    "<a id=\"toc\"></a>\n",
    "\n",
    "## <p style=\"background-color:#9d4f8c; font-family:newtimeroman; color:#FFF9ED; font-size:175%; text-align:center; border-radius:10px 10px;\">Lists & Creating a List</p>"
   ]
  },
  {
   "cell_type": "markdown",
   "id": "7ccc3da7",
   "metadata": {
    "id": "7ccc3da7"
   },
   "source": [
    "**Python documentation link - Lists: https://docs.python.org/3/tutorial/introduction.html#lists**\n",
    "\n",
    "**Python documentation link - More on Lists: https://docs.python.org/3/tutorial/datastructures.html#more-on-lists**"
   ]
  },
  {
   "cell_type": "code",
   "execution_count": null,
   "id": "1517d0e8",
   "metadata": {
    "id": "1517d0e8"
   },
   "outputs": [],
   "source": [
    "x = \"Clarusway\""
   ]
  },
  {
   "cell_type": "code",
   "execution_count": null,
   "id": "2edd96a3",
   "metadata": {
    "id": "2edd96a3"
   },
   "outputs": [],
   "source": [
    "y = 168"
   ]
  },
  {
   "cell_type": "code",
   "execution_count": null,
   "id": "54da7e0c",
   "metadata": {
    "id": "54da7e0c"
   },
   "outputs": [],
   "source": [
    "x = [\"ali\", \"veli\"]"
   ]
  },
  {
   "cell_type": "code",
   "execution_count": null,
   "id": "5adcc913",
   "metadata": {
    "id": "5adcc913",
    "outputId": "d14d3b40-5ea0-48de-d3ab-79c6600e3608"
   },
   "outputs": [],
   "source": [
    "[\"ali\", \"deli\", \"veli\"]"
   ]
  },
  {
   "cell_type": "code",
   "execution_count": null,
   "id": "886ba0ee",
   "metadata": {
    "id": "886ba0ee",
    "outputId": "07563011-2c80-4218-a343-8ac04aa2f6fb"
   },
   "outputs": [],
   "source": [
    "list(\"clarus\")"
   ]
  },
  {
   "cell_type": "code",
   "execution_count": null,
   "id": "450dee72",
   "metadata": {
    "id": "450dee72"
   },
   "outputs": [],
   "source": [
    "a = [1, 2, 3]"
   ]
  },
  {
   "cell_type": "code",
   "execution_count": null,
   "id": "2c91c01d",
   "metadata": {
    "id": "2c91c01d",
    "outputId": "e4902620-c7b1-4d05-d37c-47aa4127ba0a"
   },
   "outputs": [],
   "source": [
    "list(a)"
   ]
  },
  {
   "cell_type": "code",
   "execution_count": null,
   "id": "2b9e15fa",
   "metadata": {
    "id": "2b9e15fa",
    "outputId": "c8ccde4e-92d3-4693-c093-23a044ff31af"
   },
   "outputs": [],
   "source": [
    "list(1234)"
   ]
  },
  {
   "cell_type": "code",
   "execution_count": null,
   "id": "cb1b9b07",
   "metadata": {
    "id": "cb1b9b07",
    "outputId": "aa2dc58b-2ff3-42ab-e152-16712a5a8eec"
   },
   "outputs": [],
   "source": [
    "len(1230)"
   ]
  },
  {
   "cell_type": "code",
   "execution_count": null,
   "id": "b362bb73",
   "metadata": {
    "id": "b362bb73",
    "outputId": "acef9085-a445-45bb-a511-bc01811a1e39"
   },
   "outputs": [],
   "source": [
    "type(None)"
   ]
  },
  {
   "cell_type": "code",
   "execution_count": null,
   "id": "18c65d1e",
   "metadata": {
    "id": "18c65d1e"
   },
   "outputs": [],
   "source": [
    "mesela = [[1, 2, 4],  False, \"ali\", 11, [\"veli\", [\"deli\"]]]"
   ]
  },
  {
   "cell_type": "code",
   "execution_count": null,
   "id": "78d9c83d",
   "metadata": {
    "id": "78d9c83d",
    "outputId": "4b10cfcd-5534-4ce2-dac3-97c404bcfd66"
   },
   "outputs": [],
   "source": [
    "len(mesela)"
   ]
  },
  {
   "cell_type": "code",
   "execution_count": null,
   "id": "5b2eae5f",
   "metadata": {
    "id": "5b2eae5f",
    "outputId": "765d8d17-a642-4dc0-f348-1b3937e05c58"
   },
   "outputs": [],
   "source": [
    "len([[[\"  \"]]])"
   ]
  },
  {
   "cell_type": "code",
   "execution_count": null,
   "id": "95e858c9",
   "metadata": {
    "id": "95e858c9",
    "outputId": "6edfbe75-d4de-4261-f938-8ae3c61d2008"
   },
   "outputs": [],
   "source": [
    "len([[[\"  \", 1, 3]]])"
   ]
  },
  {
   "cell_type": "markdown",
   "id": "59607ecb",
   "metadata": {
    "id": "59607ecb"
   },
   "source": [
    "<a id=\"toc\"></a>\n",
    "\n",
    "## <p style=\"background-color:#9d4f8c; font-family:newtimeroman; color:#FFF9ED; font-size:175%; text-align:center; border-radius:10px 10px;\">Basic Operations with Lists</p>"
   ]
  },
  {
   "cell_type": "markdown",
   "id": "644f5b96",
   "metadata": {
    "id": "644f5b96"
   },
   "source": [
    "**python documentation link - More on Lists: https://docs.python.org/3/tutorial/datastructures.html#more-on-lists**\n",
    "\n",
    "**Link 2 : https://python.plainenglish.io/5-list-operations-in-python-5644de1ccc44**"
   ]
  },
  {
   "cell_type": "code",
   "execution_count": null,
   "id": "9cc019c9",
   "metadata": {
    "id": "9cc019c9",
    "outputId": "586aad7a-5c5c-40d7-b4f7-577105951ea5"
   },
   "outputs": [],
   "source": [
    "empty = []\n",
    "empty"
   ]
  },
  {
   "cell_type": "code",
   "execution_count": null,
   "id": "a158a57e",
   "metadata": {
    "id": "a158a57e",
    "outputId": "c6b32310-b998-4468-d725-742fa5b96be1"
   },
   "outputs": [],
   "source": [
    "empty2 = list()\n",
    "empty2"
   ]
  },
  {
   "cell_type": "code",
   "execution_count": null,
   "id": "ee6b0f1d",
   "metadata": {
    "id": "ee6b0f1d",
    "outputId": "07739c3b-8020-4303-c5c4-4392f2cb76ba"
   },
   "outputs": [],
   "source": [
    "\"kirby betty samuel\".capitalize()"
   ]
  },
  {
   "cell_type": "code",
   "execution_count": null,
   "id": "861eba53",
   "metadata": {
    "id": "861eba53"
   },
   "outputs": [],
   "source": [
    "my_list = []"
   ]
  },
  {
   "cell_type": "code",
   "execution_count": null,
   "id": "ef2742ba",
   "metadata": {
    "id": "ef2742ba"
   },
   "outputs": [],
   "source": [
    "my_list.append(11)"
   ]
  },
  {
   "cell_type": "code",
   "execution_count": null,
   "id": "846b182e",
   "metadata": {
    "id": "846b182e",
    "outputId": "7e2d28ec-5fe1-43a3-f04d-83ac8c413026"
   },
   "outputs": [],
   "source": [
    "my_list"
   ]
  },
  {
   "cell_type": "code",
   "execution_count": null,
   "id": "0bfa1a8f",
   "metadata": {
    "id": "0bfa1a8f",
    "outputId": "06390a72-0b02-483f-fc92-1e0d8d692ffc"
   },
   "outputs": [],
   "source": [
    "\"kirby betty samuel\".replace(\"e\", \"+\")"
   ]
  },
  {
   "cell_type": "code",
   "execution_count": null,
   "id": "13c2d6d0",
   "metadata": {
    "id": "13c2d6d0"
   },
   "outputs": [],
   "source": [
    "my_list.append(22)"
   ]
  },
  {
   "cell_type": "code",
   "execution_count": null,
   "id": "d8f6d6fd",
   "metadata": {
    "id": "d8f6d6fd",
    "outputId": "6fe79b41-7fe0-43f2-bfee-78895dafc79d"
   },
   "outputs": [],
   "source": [
    "my_list"
   ]
  },
  {
   "cell_type": "code",
   "execution_count": null,
   "id": "57256a5b",
   "metadata": {
    "id": "57256a5b"
   },
   "outputs": [],
   "source": [
    "siblings = [\"kirby\", \"betty\"]"
   ]
  },
  {
   "cell_type": "code",
   "execution_count": null,
   "id": "91046533",
   "metadata": {
    "id": "91046533",
    "outputId": "c652bf87-70de-40b2-b9d9-ee92816f6aa9"
   },
   "outputs": [],
   "source": [
    "siblings.append(\"samuel\")\n",
    "\n",
    "siblings"
   ]
  },
  {
   "cell_type": "code",
   "execution_count": null,
   "id": "942c6f63",
   "metadata": {
    "id": "942c6f63",
    "outputId": "fc4a7731-6901-4234-e74c-a67398eba893"
   },
   "outputs": [],
   "source": [
    "siblings.append(True)\n",
    "siblings"
   ]
  },
  {
   "cell_type": "code",
   "execution_count": null,
   "id": "eb2c2512",
   "metadata": {
    "id": "eb2c2512",
    "outputId": "af2a4b07-1bf7-4457-9ac9-91d35a738305"
   },
   "outputs": [],
   "source": [
    "siblings.append(3.14)\n",
    "siblings"
   ]
  },
  {
   "cell_type": "code",
   "execution_count": null,
   "id": "70974cc9",
   "metadata": {
    "id": "70974cc9",
    "outputId": "57712325-593b-4ac3-c283-249ba84250d3"
   },
   "outputs": [],
   "source": [
    "siblings.pop()"
   ]
  },
  {
   "cell_type": "code",
   "execution_count": null,
   "id": "cc7da905",
   "metadata": {
    "id": "cc7da905",
    "outputId": "e3294d23-dc55-42cd-9b37-11ed41ddf2d3"
   },
   "outputs": [],
   "source": [
    "siblings"
   ]
  },
  {
   "cell_type": "code",
   "execution_count": null,
   "id": "fd39a5d6",
   "metadata": {
    "id": "fd39a5d6",
    "outputId": "eb998505-633a-4d5e-bcad-a989b9ee7b95"
   },
   "outputs": [],
   "source": [
    "siblings.pop()"
   ]
  },
  {
   "cell_type": "code",
   "execution_count": null,
   "id": "315ca97a",
   "metadata": {
    "id": "315ca97a",
    "outputId": "042caef3-d573-42b3-eb88-468210affc62"
   },
   "outputs": [],
   "source": [
    "siblings"
   ]
  },
  {
   "cell_type": "code",
   "execution_count": null,
   "id": "528bcbb6",
   "metadata": {
    "id": "528bcbb6",
    "outputId": "83ca7ac6-3fd3-44f0-94ee-6fd359addb14"
   },
   "outputs": [],
   "source": [
    "siblings.pop(1)"
   ]
  },
  {
   "cell_type": "code",
   "execution_count": null,
   "id": "ec8e37b0",
   "metadata": {
    "id": "ec8e37b0",
    "outputId": "6ffdb8e2-5d60-471e-f399-b1f3d98ab06d"
   },
   "outputs": [],
   "source": [
    "siblings"
   ]
  },
  {
   "cell_type": "code",
   "execution_count": null,
   "id": "f810947f",
   "metadata": {
    "id": "f810947f",
    "outputId": "2ae5c854-65f3-4f63-f472-438432f8a53d"
   },
   "outputs": [],
   "source": [
    "siblings.insert(1, \"deli\")\n",
    "\n",
    "siblings"
   ]
  },
  {
   "cell_type": "code",
   "execution_count": null,
   "id": "3006ea69",
   "metadata": {
    "id": "3006ea69"
   },
   "outputs": [],
   "source": [
    "numbers = [1, 2, 3 ,4]"
   ]
  },
  {
   "cell_type": "code",
   "execution_count": null,
   "id": "ac39643d",
   "metadata": {
    "id": "ac39643d",
    "outputId": "7ecbf1b3-94ba-4023-8743-ab8050a08fdf"
   },
   "outputs": [],
   "source": [
    "numbers.insert(-1, 5)\n",
    "numbers"
   ]
  },
  {
   "cell_type": "code",
   "execution_count": null,
   "id": "ed9d7b33",
   "metadata": {
    "id": "ed9d7b33",
    "outputId": "f788afd9-c9e6-458e-f197-ee960f1cb079"
   },
   "outputs": [],
   "source": [
    "numbers = [1, 2, 3 ,4]\n",
    "\n",
    "numbers.insert(15, 5)\n",
    "numbers"
   ]
  },
  {
   "cell_type": "code",
   "execution_count": null,
   "id": "ed8d9d30",
   "metadata": {
    "id": "ed8d9d30"
   },
   "outputs": [],
   "source": [
    "new = [3, 5, 1, 7, 4]"
   ]
  },
  {
   "cell_type": "code",
   "execution_count": null,
   "id": "08280cac",
   "metadata": {
    "id": "08280cac"
   },
   "outputs": [],
   "source": [
    "new.sort()"
   ]
  },
  {
   "cell_type": "code",
   "execution_count": null,
   "id": "45419ebf",
   "metadata": {
    "id": "45419ebf",
    "outputId": "d0b0e280-7b4c-4c76-8fc9-71031e7bd823"
   },
   "outputs": [],
   "source": [
    "new"
   ]
  },
  {
   "cell_type": "code",
   "execution_count": null,
   "id": "b859d3a7",
   "metadata": {
    "id": "b859d3a7"
   },
   "outputs": [],
   "source": [
    "old = [\"samuel\", \"michael\", \"kirby\", \"betty\", \"marry\"]"
   ]
  },
  {
   "cell_type": "code",
   "execution_count": null,
   "id": "35a4a0a3",
   "metadata": {
    "id": "35a4a0a3"
   },
   "outputs": [],
   "source": [
    "old.sort()"
   ]
  },
  {
   "cell_type": "code",
   "execution_count": null,
   "id": "cada20dd",
   "metadata": {
    "id": "cada20dd",
    "outputId": "4ef468c0-fdc4-4051-dbb8-bdf282dd15ad"
   },
   "outputs": [],
   "source": [
    "old"
   ]
  },
  {
   "cell_type": "code",
   "execution_count": null,
   "id": "b082e35c",
   "metadata": {
    "id": "b082e35c"
   },
   "outputs": [],
   "source": [
    "list1 = [\"one\", \"four\", \"nine\"]"
   ]
  },
  {
   "cell_type": "code",
   "execution_count": null,
   "id": "9023d878",
   "metadata": {
    "id": "9023d878",
    "outputId": "01d48b3b-50f5-4776-ac87-593a50a57d71"
   },
   "outputs": [],
   "source": [
    "list1.sort(reverse=True)\n",
    "list1"
   ]
  },
  {
   "cell_type": "code",
   "execution_count": null,
   "id": "6e8901ae",
   "metadata": {
    "id": "6e8901ae"
   },
   "outputs": [],
   "source": [
    "list2 = [\"@\", \"*_\", \"False\"]"
   ]
  },
  {
   "cell_type": "code",
   "execution_count": null,
   "id": "c829de0d",
   "metadata": {
    "id": "c829de0d"
   },
   "outputs": [],
   "source": [
    "list2.sort()"
   ]
  },
  {
   "cell_type": "code",
   "execution_count": null,
   "id": "0c2b6c71",
   "metadata": {
    "id": "0c2b6c71",
    "outputId": "ab1bb462-2a38-4ed0-91af-7f7c9e8585c5"
   },
   "outputs": [],
   "source": [
    "list2"
   ]
  },
  {
   "cell_type": "code",
   "execution_count": null,
   "id": "db8ad5ac",
   "metadata": {
    "id": "db8ad5ac",
    "outputId": "63b71a70-2480-4edf-c9e1-815ed71e8a2a"
   },
   "outputs": [],
   "source": [
    "ord(\"@\")"
   ]
  },
  {
   "cell_type": "code",
   "execution_count": null,
   "id": "92762bfd",
   "metadata": {
    "id": "92762bfd",
    "outputId": "020ed0fc-eb11-49ad-93b4-6b3e83c26e57"
   },
   "outputs": [],
   "source": [
    "ord(\"*\")"
   ]
  },
  {
   "cell_type": "code",
   "execution_count": null,
   "id": "90b1d906",
   "metadata": {
    "id": "90b1d906",
    "outputId": "ea8ae66c-cb57-4c81-ce1f-33672fa27a89"
   },
   "outputs": [],
   "source": [
    "ord(\"F\")"
   ]
  },
  {
   "cell_type": "code",
   "execution_count": null,
   "id": "f43d7742",
   "metadata": {
    "id": "f43d7742"
   },
   "outputs": [],
   "source": [
    "list3 = [True, False]"
   ]
  },
  {
   "cell_type": "code",
   "execution_count": null,
   "id": "d9512cd1",
   "metadata": {
    "id": "d9512cd1"
   },
   "outputs": [],
   "source": [
    "list3.sort()"
   ]
  },
  {
   "cell_type": "code",
   "execution_count": null,
   "id": "29f073d3",
   "metadata": {
    "id": "29f073d3",
    "outputId": "a7f34bca-afba-4e60-9ed7-f1e806c9d13d"
   },
   "outputs": [],
   "source": [
    "list3"
   ]
  },
  {
   "cell_type": "code",
   "execution_count": null,
   "id": "24de7a01",
   "metadata": {
    "id": "24de7a01",
    "outputId": "5a792a82-ce8c-474d-a600-1bdb0feeaf93"
   },
   "outputs": [],
   "source": [
    "ord(True)  # ord() fonksiyonu içine yalnızca string bir karakter alır."
   ]
  },
  {
   "cell_type": "code",
   "execution_count": null,
   "id": "4c6e4527",
   "metadata": {
    "id": "4c6e4527",
    "outputId": "8946fe00-e296-4a51-9325-0a12b762df26"
   },
   "outputs": [],
   "source": [
    "ord(\"1\")"
   ]
  },
  {
   "cell_type": "code",
   "execution_count": null,
   "id": "1a5c30b4",
   "metadata": {
    "id": "1a5c30b4"
   },
   "outputs": [],
   "source": [
    "list4 = [[3], [44], [-12]]"
   ]
  },
  {
   "cell_type": "code",
   "execution_count": null,
   "id": "0c48aa0b",
   "metadata": {
    "id": "0c48aa0b"
   },
   "outputs": [],
   "source": [
    "list4.sort()"
   ]
  },
  {
   "cell_type": "code",
   "execution_count": null,
   "id": "dbc4f479",
   "metadata": {
    "id": "dbc4f479",
    "outputId": "9540b801-3338-425d-c950-014023f70a3c"
   },
   "outputs": [],
   "source": [
    "list4"
   ]
  },
  {
   "cell_type": "code",
   "execution_count": null,
   "id": "1c6fc48b",
   "metadata": {
    "id": "1c6fc48b"
   },
   "outputs": [],
   "source": [
    "list5 = [[1, 3], [44, -40], [-12, 1]]"
   ]
  },
  {
   "cell_type": "code",
   "execution_count": null,
   "id": "c4ecc448",
   "metadata": {
    "id": "c4ecc448",
    "outputId": "a6bc383d-1acf-4794-9c1a-d2de1ba574b1"
   },
   "outputs": [],
   "source": [
    "list5.sort()\n",
    "list5"
   ]
  },
  {
   "cell_type": "code",
   "execution_count": null,
   "id": "7c8a6b71",
   "metadata": {
    "id": "7c8a6b71",
    "outputId": "5981ce87-a020-4f3d-e20e-73056ff7dcb3"
   },
   "outputs": [],
   "source": [
    "chr(70)"
   ]
  },
  {
   "cell_type": "code",
   "execution_count": null,
   "id": "ce905f20",
   "metadata": {
    "id": "ce905f20",
    "outputId": "6cc584d0-44e4-4344-9a85-fc18a6b46bd9"
   },
   "outputs": [],
   "source": [
    "chr(443)"
   ]
  }
 ],
 "metadata": {
  "colab": {
   "provenance": []
  },
  "kernelspec": {
   "display_name": "Python 3 (ipykernel)",
   "language": "python",
   "name": "python3"
  },
  "language_info": {
   "codemirror_mode": {
    "name": "ipython",
    "version": 3
   },
   "file_extension": ".py",
   "mimetype": "text/x-python",
   "name": "python",
   "nbconvert_exporter": "python",
   "pygments_lexer": "ipython3",
   "version": "3.11.3"
  }
 },
 "nbformat": 4,
 "nbformat_minor": 5
}
