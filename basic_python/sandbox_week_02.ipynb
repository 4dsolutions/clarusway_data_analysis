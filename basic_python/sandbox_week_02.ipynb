{
 "cells": [
  {
   "cell_type": "markdown",
   "id": "41b0fa16-6ded-4217-9a30-f655af063525",
   "metadata": {
    "jp-MarkdownHeadingCollapsed": true
   },
   "source": [
    "#### Clarusway Python\n",
    "\n",
    "* [Instructor Landing Page](landing_page.ipynb)\n",
    "* <a href=\"https://colab.research.google.com/github/4dsolutions/clarusway_data_analysis/blob/main/basic_python/sandbox_week_02.ipynb\"><img align=\"left\" src=\"https://colab.research.google.com/assets/colab-badge.svg\" alt=\"Open in Colab\" title=\"Open and Execute in Google Colaboratory\"></a>\n",
    "* [![nbviewer](https://raw.githubusercontent.com/jupyter/design/master/logos/Badges/nbviewer_badge.svg)](https://nbviewer.org/github/4dsolutions/clarusway_data_analysis/blob/main/basic_python/sandbox_week_02.ipynb)"
   ]
  },
  {
   "cell_type": "markdown",
   "id": "9a40af2f-d13d-432a-9006-f0b20db320be",
   "metadata": {},
   "source": [
    "# SANDBOX (WEEK 2)"
   ]
  },
  {
   "cell_type": "markdown",
   "id": "091360ef-112d-48af-a6ba-efc5f0316c04",
   "metadata": {},
   "source": [
    "### Session 4\n",
    "\n",
    "In this session we start to introduce \"slicing notation\" in connection with strings. The same notation will carry over to lists and tuples, and eventually to DataFrames."
   ]
  },
  {
   "cell_type": "code",
   "execution_count": 1,
   "id": "a15e8915-348b-4c2d-970f-9ed5628d6ed8",
   "metadata": {},
   "outputs": [
    {
     "data": {
      "text/plain": [
       "'B'"
      ]
     },
     "execution_count": 1,
     "metadata": {},
     "output_type": "execute_result"
    }
   ],
   "source": [
    "(\"a\" + \"b\" + \"c\").upper()[1]  # you don't have to name a string before using its methods"
   ]
  },
  {
   "cell_type": "code",
   "execution_count": 2,
   "id": "ea7691ab-21e1-4c31-9264-18dbf67c1132",
   "metadata": {},
   "outputs": [
    {
     "data": {
      "text/plain": [
       "'able was i ere i saw elba'"
      ]
     },
     "execution_count": 2,
     "metadata": {},
     "output_type": "execute_result"
    }
   ],
   "source": [
    "palindrome = \"able was i ere i saw elba\"  # said Napoleon (naming the string palindrome for a reason: do you see why?)\n",
    "palindrome"
   ]
  },
  {
   "cell_type": "code",
   "execution_count": 3,
   "id": "e2e63807-e93a-4e64-bfa5-db573bba381d",
   "metadata": {},
   "outputs": [
    {
     "data": {
      "text/plain": [
       "'able was i'"
      ]
     },
     "execution_count": 3,
     "metadata": {},
     "output_type": "execute_result"
    }
   ],
   "source": [
    "palindrome[0:10] # slicing"
   ]
  },
  {
   "cell_type": "code",
   "execution_count": 4,
   "id": "97311ff3-4726-4643-ab74-240c179ef7be",
   "metadata": {},
   "outputs": [
    {
     "data": {
      "text/plain": [
       "'al a '"
      ]
     },
     "execution_count": 4,
     "metadata": {},
     "output_type": "execute_result"
    }
   ],
   "source": [
    "palindrome[0:10:2]"
   ]
  },
  {
   "cell_type": "code",
   "execution_count": 5,
   "id": "67ccd5b8-43b0-48c8-8c32-8f102e8993c1",
   "metadata": {},
   "outputs": [
    {
     "data": {
      "text/plain": [
       "'able was i ere i saw elba'"
      ]
     },
     "execution_count": 5,
     "metadata": {},
     "output_type": "execute_result"
    }
   ],
   "source": [
    "palindrome[-1::-1]"
   ]
  },
  {
   "cell_type": "code",
   "execution_count": 6,
   "id": "274fea08-55f9-4970-8398-a1a1aea4169b",
   "metadata": {},
   "outputs": [
    {
     "data": {
      "text/plain": [
       "81"
      ]
     },
     "execution_count": 6,
     "metadata": {},
     "output_type": "execute_result"
    }
   ],
   "source": [
    "len(dir(palindrome))"
   ]
  },
  {
   "cell_type": "code",
   "execution_count": 7,
   "id": "ce17b3d3-e072-472e-bc94-91ac828fc8dc",
   "metadata": {},
   "outputs": [
    {
     "data": {
      "text/plain": [
       "81"
      ]
     },
     "execution_count": 7,
     "metadata": {},
     "output_type": "execute_result"
    }
   ],
   "source": [
    "len(dir(str))"
   ]
  },
  {
   "cell_type": "code",
   "execution_count": 8,
   "id": "4f988a63-486d-4fb5-8b4d-d363d0bd013f",
   "metadata": {},
   "outputs": [
    {
     "data": {
      "text/plain": [
       "True"
      ]
     },
     "execution_count": 8,
     "metadata": {},
     "output_type": "execute_result"
    }
   ],
   "source": [
    "isinstance(palindrome, str)"
   ]
  },
  {
   "cell_type": "markdown",
   "id": "1ff0daa7-60dc-43d7-8b6b-b76dc39eea32",
   "metadata": {},
   "source": [
    "### About Unicode\n",
    "\n",
    "In the early days, the number of codepoints available for natural language symbols, such as alphabets, punctuation, and mathematics symbols, other signs, was very limited. The well-known ASCII table allowed only 127 codepoints, later more than doubled to 256, but neither is anything close to what was needed, to encode all the Chinese characters for example.\n",
    "\n",
    "Unicode allows use a much bigger set of permutations, meaning 1s and 0s, such that even emoji get their own codes. Lets see if we can figure anything out."
   ]
  },
  {
   "cell_type": "code",
   "execution_count": 9,
   "id": "e921c2ea-f857-443c-ab60-10c75732a46c",
   "metadata": {},
   "outputs": [
    {
     "data": {
      "text/plain": [
       "str"
      ]
     },
     "execution_count": 9,
     "metadata": {},
     "output_type": "execute_result"
    }
   ],
   "source": [
    "type('😁')  # is there a string for the smiley?"
   ]
  },
  {
   "cell_type": "code",
   "execution_count": 10,
   "id": "3ed00209-4572-435b-be40-e25c0dd36ef9",
   "metadata": {},
   "outputs": [
    {
     "name": "stdout",
     "output_type": "stream",
     "text": [
      "Help on built-in function encode:\n",
      "\n",
      "encode(encoding='utf-8', errors='strict') method of builtins.str instance\n",
      "    Encode the string using the codec registered for encoding.\n",
      "    \n",
      "    encoding\n",
      "      The encoding in which to encode the string.\n",
      "    errors\n",
      "      The error handling scheme to use for encoding errors.\n",
      "      The default is 'strict' meaning that encoding errors raise a\n",
      "      UnicodeEncodeError.  Other possible values are 'ignore', 'replace' and\n",
      "      'xmlcharrefreplace' as well as any other name registered with\n",
      "      codecs.register_error that can handle UnicodeEncodeErrors.\n",
      "\n"
     ]
    }
   ],
   "source": [
    "help('😁'.encode)"
   ]
  },
  {
   "cell_type": "code",
   "execution_count": 11,
   "id": "9ddd85cf-d954-4113-86a8-9419486fe364",
   "metadata": {},
   "outputs": [
    {
     "data": {
      "text/plain": [
       "b'\\xf0\\x9f\\x98\\x81'"
      ]
     },
     "execution_count": 11,
     "metadata": {},
     "output_type": "execute_result"
    }
   ],
   "source": [
    "('😁'.encode()) # shows underlying bits in UTF-8"
   ]
  },
  {
   "cell_type": "markdown",
   "id": "3bdef1ec-02ec-4ef1-83e3-76d8a2b26328",
   "metadata": {},
   "source": [
    "What you see above is hexcode, from which its easy to move to binary. Ignoring the `\\x` escape codes, I get f09f9881 which is enough to commit to a search engine, along with the hint word 'emoji' and voila: we get [a detailed readout](https://www.fileformat.info/info/unicode/char/1f601/index.htm)"
   ]
  },
  {
   "cell_type": "markdown",
   "id": "41959754-d3aa-445d-8dc6-a94dda3afdd5",
   "metadata": {},
   "source": [
    "<a data-flickr-embed=\"true\" href=\"https://www.flickr.com/photos/kirbyurner/54089091183/in/album-72177720296706479\" title=\"Looking Up an Emoji by Hex Code\"><img src=\"https://live.staticflickr.com/65535/54089091183_57deb60b76.jpg\" width=\"400\" height=\"500\" alt=\"Looking Up an Emoji by Hex Code\"/></a><script async src=\"//embedr.flickr.com/assets/client-code.js\" charset=\"utf-8\"></script>"
   ]
  },
  {
   "cell_type": "code",
   "execution_count": 12,
   "id": "222b2485-15cb-4701-bd17-2ec09417b376",
   "metadata": {},
   "outputs": [
    {
     "data": {
      "text/plain": [
       "'😁'"
      ]
     },
     "execution_count": 12,
     "metadata": {},
     "output_type": "execute_result"
    }
   ],
   "source": [
    "u\"\\U0001F601\"  # the code appears to differ: UTF-32 vs UTF-8."
   ]
  },
  {
   "cell_type": "markdown",
   "id": "3939dce7-51f0-4fd7-bd1d-86e724b1e98d",
   "metadata": {},
   "source": [
    "## LAB 2\n",
    "\n",
    "We look at the Lab Notebooks for ideas about how to complete the Assignments."
   ]
  },
  {
   "cell_type": "markdown",
   "id": "664b8271-3fe2-4e3e-8f62-af7b6525a574",
   "metadata": {},
   "source": [
    "Below is an example program that starts using our puzzle pieces in combination, including: nested control statements, an if statement inside a while loop statement.\n",
    "\n",
    "This version actually removes strings from the list as they're matched by the player (user). There's also an escape hatch.\n",
    "\n",
    "Both the while and the if support an optional else suite. By \"suite\" we mean an indented code block. \n",
    "\n",
    "The else suite of the while loop is skipped if we break out of it. It only runs if the while condition is False."
   ]
  },
  {
   "cell_type": "code",
   "execution_count": null,
   "id": "1997cc9a-5f06-49bf-8f5f-348ca16ba914",
   "metadata": {},
   "outputs": [],
   "source": [
    "\"\"\"\n",
    "looping version, self quiz.\n",
    "\n",
    "\"\"\"\n",
    "\n",
    "import keyword\n",
    "\n",
    "kws = keyword.kwlist\n",
    "\n",
    "# cheat sheet\n",
    "print(kws)  # comment out to not show the answers\n",
    "\n",
    "while len(kws) > 0:\n",
    "    answer = input(\"Give me a keyword please > \")\n",
    "    if answer.upper() == \"Q\":\n",
    "        break\n",
    "    if answer in kws:\n",
    "        print(\"Excellent, thank you\")\n",
    "        kws.remove(answer)\n",
    "        print(\"{} remaining\".format(len(kws)))\n",
    "    else:\n",
    "        print(\"I couldn't find that in my list.\")\n",
    "else:\n",
    "    print(\"Wow, you got them all!\")\n",
    "    \n",
    "print(\"Thanks for playing!\")\n"
   ]
  },
  {
   "cell_type": "markdown",
   "id": "2365f382-403f-4257-8e25-421be479c6bf",
   "metadata": {},
   "source": [
    "Testing the else suite of the while statement:"
   ]
  },
  {
   "cell_type": "code",
   "execution_count": null,
   "id": "4a94870a-4c06-4f4f-b4ef-fb470a49024f",
   "metadata": {},
   "outputs": [],
   "source": [
    "while "
   ]
  }
 ],
 "metadata": {
  "kernelspec": {
   "display_name": "Python 3 (ipykernel)",
   "language": "python",
   "name": "python3"
  },
  "language_info": {
   "codemirror_mode": {
    "name": "ipython",
    "version": 3
   },
   "file_extension": ".py",
   "mimetype": "text/x-python",
   "name": "python",
   "nbconvert_exporter": "python",
   "pygments_lexer": "ipython3",
   "version": "3.11.3"
  }
 },
 "nbformat": 4,
 "nbformat_minor": 5
}
