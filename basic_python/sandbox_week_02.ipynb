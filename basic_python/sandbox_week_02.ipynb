{
 "cells": [
  {
   "cell_type": "markdown",
   "id": "41b0fa16-6ded-4217-9a30-f655af063525",
   "metadata": {
    "jp-MarkdownHeadingCollapsed": true
   },
   "source": [
    "#### Clarusway Python\n",
    "\n",
    "* [Instructor Landing Page](landing_page.ipynb)\n",
    "* <a href=\"https://colab.research.google.com/github/4dsolutions/clarusway_data_analysis/blob/main/basic_python/sandbox_week_02.ipynb\"><img align=\"left\" src=\"https://colab.research.google.com/assets/colab-badge.svg\" alt=\"Open in Colab\" title=\"Open and Execute in Google Colaboratory\"></a>\n",
    "* [![nbviewer](https://raw.githubusercontent.com/jupyter/design/master/logos/Badges/nbviewer_badge.svg)](https://nbviewer.org/github/4dsolutions/clarusway_data_analysis/blob/main/basic_python/sandbox_week_02.ipynb)"
   ]
  },
  {
   "cell_type": "markdown",
   "id": "9a40af2f-d13d-432a-9006-f0b20db320be",
   "metadata": {},
   "source": [
    "# SANDBOX (WEEK 2)"
   ]
  },
  {
   "cell_type": "markdown",
   "id": "091360ef-112d-48af-a6ba-efc5f0316c04",
   "metadata": {},
   "source": [
    "### Sessions 4\n",
    "\n",
    "In this session we start to introduce \"slicing notation\" in connection with strings. The same notation will carry over to lists and tuples, and eventually to DataFrames."
   ]
  },
  {
   "cell_type": "code",
   "execution_count": 2,
   "id": "a15e8915-348b-4c2d-970f-9ed5628d6ed8",
   "metadata": {},
   "outputs": [
    {
     "data": {
      "text/plain": [
       "'B'"
      ]
     },
     "execution_count": 2,
     "metadata": {},
     "output_type": "execute_result"
    }
   ],
   "source": [
    "(\"a\" + \"b\" + \"c\").upper()[1]  # you don't have to name a string before using its methods"
   ]
  },
  {
   "cell_type": "code",
   "execution_count": 17,
   "id": "ea7691ab-21e1-4c31-9264-18dbf67c1132",
   "metadata": {},
   "outputs": [
    {
     "data": {
      "text/plain": [
       "'able was i ere i saw elba'"
      ]
     },
     "execution_count": 17,
     "metadata": {},
     "output_type": "execute_result"
    }
   ],
   "source": [
    "palindrome = \"able was i ere i saw elba\"  # said Napoleon (naming the string palindrome for a reason: do you see why?)\n",
    "palindrome"
   ]
  },
  {
   "cell_type": "code",
   "execution_count": 19,
   "id": "e2e63807-e93a-4e64-bfa5-db573bba381d",
   "metadata": {},
   "outputs": [
    {
     "data": {
      "text/plain": [
       "'able was i'"
      ]
     },
     "execution_count": 19,
     "metadata": {},
     "output_type": "execute_result"
    }
   ],
   "source": [
    "palindrome[0:10] # slicing"
   ]
  },
  {
   "cell_type": "code",
   "execution_count": 8,
   "id": "97311ff3-4726-4643-ab74-240c179ef7be",
   "metadata": {},
   "outputs": [
    {
     "data": {
      "text/plain": [
       "'al a '"
      ]
     },
     "execution_count": 8,
     "metadata": {},
     "output_type": "execute_result"
    }
   ],
   "source": [
    "palindrome[0:10:2]"
   ]
  },
  {
   "cell_type": "code",
   "execution_count": 10,
   "id": "67ccd5b8-43b0-48c8-8c32-8f102e8993c1",
   "metadata": {},
   "outputs": [
    {
     "data": {
      "text/plain": [
       "'able was i ere i saw elba'"
      ]
     },
     "execution_count": 10,
     "metadata": {},
     "output_type": "execute_result"
    }
   ],
   "source": [
    "palindrome[-1::-1]"
   ]
  },
  {
   "cell_type": "code",
   "execution_count": 14,
   "id": "274fea08-55f9-4970-8398-a1a1aea4169b",
   "metadata": {},
   "outputs": [
    {
     "data": {
      "text/plain": [
       "81"
      ]
     },
     "execution_count": 14,
     "metadata": {},
     "output_type": "execute_result"
    }
   ],
   "source": [
    "len(dir(palindrome))"
   ]
  },
  {
   "cell_type": "code",
   "execution_count": 15,
   "id": "ce17b3d3-e072-472e-bc94-91ac828fc8dc",
   "metadata": {},
   "outputs": [
    {
     "data": {
      "text/plain": [
       "81"
      ]
     },
     "execution_count": 15,
     "metadata": {},
     "output_type": "execute_result"
    }
   ],
   "source": [
    "len(dir(str))"
   ]
  },
  {
   "cell_type": "code",
   "execution_count": 16,
   "id": "4f988a63-486d-4fb5-8b4d-d363d0bd013f",
   "metadata": {},
   "outputs": [
    {
     "data": {
      "text/plain": [
       "True"
      ]
     },
     "execution_count": 16,
     "metadata": {},
     "output_type": "execute_result"
    }
   ],
   "source": [
    "isinstance(palindrome, str)"
   ]
  },
  {
   "cell_type": "code",
   "execution_count": null,
   "id": "64289341-2a8d-4aae-a267-e669ead51168",
   "metadata": {},
   "outputs": [],
   "source": []
  }
 ],
 "metadata": {
  "kernelspec": {
   "display_name": "Python 3 (ipykernel)",
   "language": "python",
   "name": "python3"
  },
  "language_info": {
   "codemirror_mode": {
    "name": "ipython",
    "version": 3
   },
   "file_extension": ".py",
   "mimetype": "text/x-python",
   "name": "python",
   "nbconvert_exporter": "python",
   "pygments_lexer": "ipython3",
   "version": "3.11.3"
  }
 },
 "nbformat": 4,
 "nbformat_minor": 5
}
