{
 "cells": [
  {
   "cell_type": "markdown",
   "id": "PvAtcfEhDPey",
   "metadata": {
    "id": "PvAtcfEhDPey"
   },
   "source": [
    "#### Clarusway Python\n",
    "\n",
    "* [Instructor Landing Page](landing_page.ipynb)\n",
    "* <a href=\"https://colab.research.google.com/github/4dsolutions/clarusway_data_analysis/blob/main/basic_python/12.Python_Session12.ipynb\"><img align=\"left\" src=\"https://colab.research.google.com/assets/colab-badge.svg\" alt=\"Open in Colab\" title=\"Open and Execute in Google Colaboratory\"></a>\n",
    "* [![nbviewer](https://raw.githubusercontent.com/jupyter/design/master/logos/Badges/nbviewer_badge.svg)](https://nbviewer.org/github/4dsolutions/clarusway_data_analysis/blob/main/basic_python/12.Python_Session12.ipynb)"
   ]
  },
  {
   "cell_type": "markdown",
   "id": "97d2a08c",
   "metadata": {
    "id": "97d2a08c"
   },
   "source": [
    "<a id=\"toc\"></a>\n",
    "\n",
    "<a data-flickr-embed=\"true\" href=\"https://www.flickr.com/photos/kirbyurner/54126317186/in/dateposted/\" title=\"Session 12 Banner\"><img src=\"https://live.staticflickr.com/65535/54126317186_0bef4767c1_b.jpg\" width=\"1024\" height=\"576\" alt=\"Session 12 Banner\"/></a><script async src=\"//embedr.flickr.com/assets/client-code.js\" charset=\"utf-8\"></script>\n",
    "\n",
    "# <p style=\"background-color:#0D8D99; font-family:newtimeroman; color:#FFF9ED; font-size:175%; text-align:center; border-radius:10px 10px;\">Python Session 12</p>"
   ]
  },
  {
   "cell_type": "markdown",
   "id": "2a056995",
   "metadata": {
    "id": "2a056995"
   },
   "source": [
    "#### <div class=\"alert alert-block alert-info\"><h1><p style=\"text-align: center; color:purple\">Loops<br><br>Definition Loops<br><br>While Loop<br><br>For Loop<br><br>Working with Iterators</p>"
   ]
  },
  {
   "cell_type": "markdown",
   "id": "71e9c513",
   "metadata": {
    "id": "71e9c513"
   },
   "source": [
    "**Python official documentation1 - More Flexible Loop Control: https://peps.python.org/pep-0548/**\n",
    "\n",
    "**Python official documentation2 - Enhenced while loop: https://peps.python.org/pep-0315/**\n",
    "\n",
    "**Python official documentation - Labeled \"break\" and \"continue\": https://peps.python.org/pep-3136/**\n",
    "\n",
    "**Link 4 - Loops in Python: https://www.w3schools.com/python/python_for_loops.asp**\n",
    "\n",
    "**Link 5 - Loops in Python: https://www.geeksforgeeks.org/loops-in-python/**\n",
    "\n",
    "**Link 6 - Loops : https://www.learnpython.org/en/Loops**\n",
    "\n",
    "**Link 7 - Nested Loops: https://www.w3schools.com/python/gloss_python_for_nested.asp**\n",
    "\n",
    "**Link 8 - Nested Loops: https://pynative.com/python-nested-loops/**\n"
   ]
  },
  {
   "cell_type": "markdown",
   "id": "b9d6bf74",
   "metadata": {
    "id": "b9d6bf74"
   },
   "source": [
    "<a id=\"toc\"></a>\n",
    "\n",
    "# <p style=\"background-color:#9d4f8c; font-family:newtimeroman; color:#FFF9ED; font-size:175%; text-align:center; border-radius:10px 10px;\">Loops</p>"
   ]
  },
  {
   "cell_type": "markdown",
   "id": "2b303640",
   "metadata": {
    "id": "2b303640"
   },
   "source": [
    "<a id=\"toc\"></a>\n",
    "\n",
    "## <p style=\"background-color:#9d4f8c; font-family:newtimeroman; color:#FFF9ED; font-size:175%; text-align:center; border-radius:10px 10px;\">Definition Loops</p>"
   ]
  },
  {
   "cell_type": "code",
   "execution_count": 1,
   "id": "bddc0e7e",
   "metadata": {
    "id": "bddc0e7e",
    "outputId": "78a6d6e5-2f03-4864-9ebd-12ca1e67d060"
   },
   "outputs": [
    {
     "data": {
      "text/plain": [
       "range(0, 20)"
      ]
     },
     "execution_count": 1,
     "metadata": {},
     "output_type": "execute_result"
    }
   ],
   "source": [
    "range(20)  # range object generated!!"
   ]
  },
  {
   "cell_type": "code",
   "execution_count": 2,
   "id": "7ca97b04",
   "metadata": {
    "id": "7ca97b04",
    "outputId": "45d6a7d3-9d29-4865-b51a-f68b2ecdfd69"
   },
   "outputs": [
    {
     "name": "stdout",
     "output_type": "stream",
     "text": [
      "0 1 2 3 4 5 6 7 8 9 10 11 12 13 14 15 16 17 18 19\n"
     ]
    }
   ],
   "source": [
    "print(* range(20))"
   ]
  },
  {
   "cell_type": "code",
   "execution_count": 3,
   "id": "bcb59acc",
   "metadata": {
    "id": "bcb59acc",
    "outputId": "0338df38-5c4f-406a-9206-cd81f477b69c"
   },
   "outputs": [
    {
     "data": {
      "text/plain": [
       "[0, 1, 2, 3, 4, 5, 6, 7, 8, 9, 10, 11, 12, 13, 14, 15, 16, 17, 18, 19]"
      ]
     },
     "execution_count": 3,
     "metadata": {},
     "output_type": "execute_result"
    }
   ],
   "source": [
    "list(range(20))"
   ]
  },
  {
   "cell_type": "code",
   "execution_count": 4,
   "id": "bc62ea80",
   "metadata": {
    "id": "bc62ea80",
    "outputId": "877a27a6-0328-4d13-c035-554aaa43823a"
   },
   "outputs": [
    {
     "data": {
      "text/plain": [
       "(0, 1, 2, 3, 4, 5, 6, 7, 8, 9, 10, 11, 12, 13, 14, 15, 16, 17, 18, 19)"
      ]
     },
     "execution_count": 4,
     "metadata": {},
     "output_type": "execute_result"
    }
   ],
   "source": [
    "tuple(range(20))"
   ]
  },
  {
   "cell_type": "code",
   "execution_count": 5,
   "id": "20395abc",
   "metadata": {
    "id": "20395abc",
    "outputId": "2f61ce1e-b669-465b-fa9c-142980458b23"
   },
   "outputs": [
    {
     "data": {
      "text/plain": [
       "{0, 1, 2, 3, 4, 5, 6, 7, 8, 9, 10, 11, 12, 13, 14, 15, 16, 17, 18, 19}"
      ]
     },
     "execution_count": 5,
     "metadata": {},
     "output_type": "execute_result"
    }
   ],
   "source": [
    "set(range(20))"
   ]
  },
  {
   "cell_type": "code",
   "execution_count": 6,
   "id": "19cbd325",
   "metadata": {
    "id": "19cbd325",
    "outputId": "95bd7475-2a65-410c-c6dc-619e7d631d63"
   },
   "outputs": [
    {
     "name": "stdout",
     "output_type": "stream",
     "text": [
      "0\n",
      "1\n",
      "2\n",
      "3\n",
      "4\n",
      "This is the first line of code after exiting the loop.\n",
      "script continues...\n"
     ]
    }
   ],
   "source": [
    "for i in range(5) :\n",
    "    print(i)\n",
    "print(\"This is the first line of code after exiting the loop.\")\n",
    "print(\"script continues...\")"
   ]
  },
  {
   "cell_type": "code",
   "execution_count": 7,
   "id": "6b406d31",
   "metadata": {
    "id": "6b406d31",
    "outputId": "c515eabe-4900-4a84-bb07-15f7795a564d",
    "scrolled": true
   },
   "outputs": [
    {
     "name": "stdout",
     "output_type": "stream",
     "text": [
      "0 1 2 3 4 5 6 7 8 9 10 11 12 13 14 15 16 17 18 19 "
     ]
    }
   ],
   "source": [
    "for i in range(20) :\n",
    "    print(i, end = \" \")"
   ]
  },
  {
   "cell_type": "markdown",
   "id": "a6645a40",
   "metadata": {
    "id": "a6645a40"
   },
   "source": [
    "<a id=\"toc\"></a>\n",
    "\n",
    "## <p style=\"background-color:#9d4f8c; font-family:newtimeroman; color:#FFF9ED; font-size:175%; text-align:center; border-radius:10px 10px;\">While Loop</p>"
   ]
  },
  {
   "cell_type": "code",
   "execution_count": 8,
   "id": "169f9472",
   "metadata": {
    "id": "169f9472",
    "outputId": "9e421972-d86f-439f-8bc1-536481c0e7b2"
   },
   "outputs": [
    {
     "name": "stdout",
     "output_type": "stream",
     "text": [
      "I love you.\n",
      "I love you.\n",
      "I love you.\n",
      "I love you.\n",
      "I love you.\n"
     ]
    }
   ],
   "source": [
    "counter = 0 \n",
    "\n",
    "while counter < 5 :\n",
    "    print(\"I love you.\")\n",
    "    counter += 1"
   ]
  },
  {
   "cell_type": "code",
   "execution_count": 9,
   "id": "0fa6cd21",
   "metadata": {
    "id": "0fa6cd21",
    "outputId": "b09b3f08-24c3-4a94-9c7e-4c096d13b845"
   },
   "outputs": [
    {
     "name": "stdout",
     "output_type": "stream",
     "text": [
      "I love you too.\n",
      "I love you too.\n",
      "I love you too.\n",
      "I love you too.\n",
      "I love you too.\n"
     ]
    }
   ],
   "source": [
    "counter = 5 \n",
    "\n",
    "while counter < 10 :\n",
    "    print(\"I love you too.\")\n",
    "    counter += 1"
   ]
  },
  {
   "cell_type": "code",
   "execution_count": 10,
   "id": "a8c6924b",
   "metadata": {
    "id": "a8c6924b",
    "outputId": "a6fd4bcd-bb76-44fe-9fae-934af391b14f"
   },
   "outputs": [
    {
     "name": "stdout",
     "output_type": "stream",
     "text": [
      "exited the program without running the loop\n"
     ]
    }
   ],
   "source": [
    "while 0 :\n",
    "    print(\"zero\")\n",
    "    \n",
    "print(\"exited the program without running the loop\")"
   ]
  },
  {
   "cell_type": "code",
   "execution_count": 11,
   "id": "428d824f",
   "metadata": {
    "id": "428d824f"
   },
   "outputs": [
    {
     "name": "stdout",
     "output_type": "stream",
     "text": [
      "5\n"
     ]
    }
   ],
   "source": [
    "condition = 5\n",
    "\n",
    "while condition :  # Be careful! If condition is always True, it will loop endlessly.!\n",
    "    print(condition)\n",
    "    break # <--- for security, otherwise: infinite loop"
   ]
  },
  {
   "cell_type": "code",
   "execution_count": 12,
   "id": "ed1d39d0",
   "metadata": {
    "id": "ed1d39d0",
    "outputId": "88334ae4-9cb1-4a45-c9e0-15a25d3b3231"
   },
   "outputs": [
    {
     "data": {
      "text/plain": [
       "True"
      ]
     },
     "execution_count": 12,
     "metadata": {},
     "output_type": "execute_result"
    }
   ],
   "source": [
    "bool(5)"
   ]
  },
  {
   "cell_type": "code",
   "execution_count": 13,
   "id": "916d46d3",
   "metadata": {
    "id": "916d46d3",
    "outputId": "d0cd31a7-eecb-470f-9840-8827448580c7"
   },
   "outputs": [
    {
     "name": "stdout",
     "output_type": "stream",
     "text": [
      "5\n",
      "4\n",
      "3\n",
      "2\n",
      "1\n"
     ]
    }
   ],
   "source": [
    "condition = 5\n",
    "\n",
    "while condition :\n",
    "    print(condition)\n",
    "    condition -= 1   # eventually \"condition\" will set to 0 and return False "
   ]
  },
  {
   "cell_type": "code",
   "execution_count": 14,
   "id": "428b8cd6",
   "metadata": {
    "id": "428b8cd6",
    "outputId": "7650dd71-7e13-48f2-8edb-cf770c433b5e"
   },
   "outputs": [
    {
     "name": "stdout",
     "output_type": "stream",
     "text": [
      "4\n",
      "3\n",
      "2\n",
      "1\n",
      "0\n"
     ]
    }
   ],
   "source": [
    "condition = 5\n",
    "\n",
    "while True :   # if condition is always True without changing;\n",
    "    condition -= 1\n",
    "    print(condition)\n",
    "    \n",
    "    if condition == 0 : # when the condition is equal to zero;\n",
    "        break           # The loop is exited with the \"break\" keyword."
   ]
  },
  {
   "cell_type": "markdown",
   "id": "68199ae5",
   "metadata": {
    "id": "68199ae5"
   },
   "source": [
    "```python\n",
    "while condition1 :\n",
    "    body1\n",
    "    while condition2:\n",
    "        body2\n",
    "        break\n",
    "    break\n",
    "```"
   ]
  },
  {
   "cell_type": "code",
   "execution_count": 15,
   "id": "82de78c2",
   "metadata": {
    "id": "82de78c2",
    "outputId": "b76ced9b-76a6-423d-d97a-aa3074cefe8e"
   },
   "outputs": [
    {
     "name": "stdout",
     "output_type": "stream",
     "text": [
      "False\n",
      "True\n"
     ]
    }
   ],
   "source": [
    "a = 3\n",
    "b = 4\n",
    "print(a is b)\n",
    "print(a is not b)"
   ]
  },
  {
   "cell_type": "code",
   "execution_count": 16,
   "id": "7f544cd9",
   "metadata": {
    "id": "7f544cd9",
    "outputId": "768358f7-36f1-40a0-d149-d571e1d394ff"
   },
   "outputs": [
    {
     "name": "stdout",
     "output_type": "stream",
     "text": [
      "True\n",
      "False\n",
      "False\n",
      "True\n"
     ]
    }
   ],
   "source": [
    "my_list = [1, 2, 3, 4]\n",
    "\n",
    "print(2 in my_list)\n",
    "print(5 in my_list)\n",
    "print(2 not in my_list)\n",
    "print(5 not in my_list)"
   ]
  },
  {
   "cell_type": "markdown",
   "id": "9ba79ad1",
   "metadata": {
    "id": "9ba79ad1"
   },
   "source": [
    "## Task: \n",
    "\n",
    "**Take the age of the user using input() and while loop.**\n",
    "\n",
    "**Write a program that ;**\n",
    "\n",
    "**Takes the age from user,**\n",
    "\n",
    "**Check the age if it is correct numeric format.**\n"
   ]
  },
  {
   "cell_type": "code",
   "execution_count": 17,
   "id": "ad3b6863",
   "metadata": {
    "id": "ad3b6863",
    "outputId": "09e9cabc-4c13-4c4c-ff9d-3a8781a8d222"
   },
   "outputs": [
    {
     "name": "stdin",
     "output_type": "stream",
     "text": [
      "enter your age : 66\n"
     ]
    },
    {
     "name": "stdout",
     "output_type": "stream",
     "text": [
      "Great! you entered valid input and your age is : 66\n"
     ]
    }
   ],
   "source": [
    "age = input(\"enter your age :\")\n",
    "\n",
    "while not age.isdigit() :\n",
    "    \n",
    "    print(\"you entered incorrectly!\")\n",
    "    age = input(\"enter your age please :\")\n",
    "    \n",
    "print(\"Great! you entered valid input and your age is :\", age)"
   ]
  },
  {
   "cell_type": "code",
   "execution_count": 18,
   "id": "04752cfd",
   "metadata": {
    "id": "04752cfd"
   },
   "outputs": [],
   "source": [
    "age = \"sixteen\""
   ]
  },
  {
   "cell_type": "code",
   "execution_count": 19,
   "id": "26e0ed27",
   "metadata": {
    "id": "26e0ed27",
    "outputId": "81e14ba3-0cf2-4a15-eaf5-3f82d35018a6"
   },
   "outputs": [
    {
     "data": {
      "text/plain": [
       "False"
      ]
     },
     "execution_count": 19,
     "metadata": {},
     "output_type": "execute_result"
    }
   ],
   "source": [
    "age.isdigit()"
   ]
  },
  {
   "cell_type": "code",
   "execution_count": 20,
   "id": "9e627799",
   "metadata": {
    "id": "9e627799",
    "outputId": "a15141f2-07b2-4e5c-8e78-dde668845fcd"
   },
   "outputs": [
    {
     "data": {
      "text/plain": [
       "True"
      ]
     },
     "execution_count": 20,
     "metadata": {},
     "output_type": "execute_result"
    }
   ],
   "source": [
    "age = \"18\"\n",
    "\n",
    "age.isdigit()"
   ]
  },
  {
   "cell_type": "code",
   "execution_count": 21,
   "id": "6568f52a",
   "metadata": {
    "id": "6568f52a"
   },
   "outputs": [
    {
     "data": {
      "text/plain": [
       "True"
      ]
     },
     "execution_count": 21,
     "metadata": {},
     "output_type": "execute_result"
    }
   ],
   "source": [
    "age.isdigit()"
   ]
  },
  {
   "cell_type": "code",
   "execution_count": 22,
   "id": "48c5d463",
   "metadata": {
    "id": "48c5d463",
    "outputId": "4c8c7538-e91c-4ef1-be7b-500e8cf3b2d4"
   },
   "outputs": [
    {
     "data": {
      "text/plain": [
       "False"
      ]
     },
     "execution_count": 22,
     "metadata": {},
     "output_type": "execute_result"
    }
   ],
   "source": [
    "\"16.0\".isdigit()  # Return True if the string is a digit string, False otherwise.\n",
    "\n",
    "# A string is a digit string if all characters in the string are digits and there\n",
    "# is at least one character in the string."
   ]
  },
  {
   "cell_type": "code",
   "execution_count": 23,
   "id": "af13ebbb",
   "metadata": {
    "id": "af13ebbb",
    "outputId": "9328212e-7a9c-459b-aadf-311faf7383b2"
   },
   "outputs": [
    {
     "data": {
      "text/plain": [
       "False"
      ]
     },
     "execution_count": 23,
     "metadata": {},
     "output_type": "execute_result"
    }
   ],
   "source": [
    "\"-22\".isdigit() "
   ]
  },
  {
   "cell_type": "code",
   "execution_count": 24,
   "id": "3aeb84e7",
   "metadata": {
    "id": "3aeb84e7"
   },
   "outputs": [
    {
     "data": {
      "text/plain": [
       "'123456789'"
      ]
     },
     "execution_count": 24,
     "metadata": {},
     "output_type": "execute_result"
    }
   ],
   "source": [
    "\"123456789\"  # It will return True if only these characters are in the string value.."
   ]
  },
  {
   "cell_type": "code",
   "execution_count": 25,
   "id": "f4a0a741",
   "metadata": {
    "id": "f4a0a741",
    "outputId": "1d89ef23-ae91-4f36-e381-d59dcbf28830"
   },
   "outputs": [
    {
     "data": {
      "text/plain": [
       "16.0"
      ]
     },
     "execution_count": 25,
     "metadata": {},
     "output_type": "execute_result"
    }
   ],
   "source": [
    "float(\"16.0\")"
   ]
  },
  {
   "cell_type": "code",
   "execution_count": 26,
   "id": "96c20fe7",
   "metadata": {
    "id": "96c20fe7",
    "outputId": "86b05091-6eb5-4c3f-d8c5-10ff83faa5dc"
   },
   "outputs": [
    {
     "data": {
      "text/plain": [
       "-16"
      ]
     },
     "execution_count": 26,
     "metadata": {},
     "output_type": "execute_result"
    }
   ],
   "source": [
    "int(\"-16\")"
   ]
  },
  {
   "cell_type": "code",
   "execution_count": 27,
   "id": "b3899f86",
   "metadata": {
    "id": "b3899f86",
    "outputId": "32dc47b4-6600-4925-a1e3-dd8b5e6b764e"
   },
   "outputs": [
    {
     "data": {
      "text/plain": [
       "True"
      ]
     },
     "execution_count": 27,
     "metadata": {},
     "output_type": "execute_result"
    }
   ],
   "source": [
    "\"40\".isdigit()"
   ]
  },
  {
   "cell_type": "markdown",
   "id": "e8cb06ef",
   "metadata": {
    "id": "e8cb06ef"
   },
   "source": [
    "## Task:\n",
    "**Let's play famous 'guessing a number game' using while loop.**\n",
    "\n",
    "**Write a program that ;**\n",
    "\n",
    "**Takes the numbers from user,**\n",
    "\n",
    "**Compares the number the user entered with the number you assigned and then gives a message “Little lower” or “Little higher” till the user knows it.**"
   ]
  },
  {
   "cell_type": "code",
   "execution_count": 28,
   "id": "e5b9eaee",
   "metadata": {
    "id": "e5b9eaee",
    "outputId": "8f557cde-2ce7-4054-c658-411817ba5ba0"
   },
   "outputs": [
    {
     "name": "stdout",
     "output_type": "stream",
     "text": [
      "Let's start play the quessing game!\n"
     ]
    },
    {
     "name": "stdin",
     "output_type": "stream",
     "text": [
      "what a two digit number am i thinking of? 26\n"
     ]
    },
    {
     "name": "stdout",
     "output_type": "stream",
     "text": [
      "Are you a MINDREADER\n"
     ]
    }
   ],
   "source": [
    "answer = 26\n",
    "\n",
    "print(\"Let's start play the quessing game!\")\n",
    "\n",
    "while True :\n",
    "    guess = int(input(\"what a two digit number am i thinking of?\"))\n",
    "    \n",
    "    if guess < answer :\n",
    "        print(\"Little higher..\")\n",
    "    elif guess > answer :\n",
    "        print(\"Little lower..\")\n",
    "    else :\n",
    "        print(\"Are you a MINDREADER\")\n",
    "        break\n",
    "    "
   ]
  },
  {
   "cell_type": "markdown",
   "id": "0ed76794",
   "metadata": {
    "id": "0ed76794"
   },
   "source": [
    "## Task:\n",
    "**Find and print the length of the longest word.**\n",
    "\n",
    "**Write a program that ;**\n",
    "\n",
    "**Takes a string sentence consisting of a couple of words from the user,**\n",
    "\n",
    "**Compares and find out the longest word and prints the whole sentence and the length of the longest word as int type.**\n",
    "\n",
    "**Use while loop.**"
   ]
  },
  {
   "cell_type": "code",
   "execution_count": 29,
   "id": "59338c9e",
   "metadata": {
    "id": "59338c9e",
    "outputId": "c730c4f6-49b3-406d-dd00-325f8e3eb2fe"
   },
   "outputs": [
    {
     "data": {
      "text/plain": [
       "['The', 'best', 'language', 'is', 'Python']"
      ]
     },
     "execution_count": 29,
     "metadata": {},
     "output_type": "execute_result"
    }
   ],
   "source": [
    "\"The best language is Python\".split()"
   ]
  },
  {
   "cell_type": "code",
   "execution_count": 30,
   "id": "fbe57bd2",
   "metadata": {
    "id": "fbe57bd2",
    "outputId": "b6292b0f-fbe1-49a9-9ed8-ceea7d8c31bc"
   },
   "outputs": [
    {
     "name": "stdin",
     "output_type": "stream",
     "text": [
      "Give me a sentence : welcome to our world\n"
     ]
    },
    {
     "name": "stdout",
     "output_type": "stream",
     "text": [
      "The lenght of the longest word :  7\n"
     ]
    }
   ],
   "source": [
    "sentence = input(\"Give me a sentence :\")\n",
    "\n",
    "word_list = sentence.split()\n",
    "\n",
    "longest = 0\n",
    "i = 0\n",
    "\n",
    "while i < len(word_list) :\n",
    "\n",
    "    if len(word_list[i]) > longest :\n",
    "        longest = len(word_list[i])\n",
    "    \n",
    "    i += 1\n",
    "\n",
    "print(\"The lenght of the longest word : \", longest) # the first line after while loop"
   ]
  },
  {
   "cell_type": "markdown",
   "id": "d079fa96",
   "metadata": {
    "id": "d079fa96"
   },
   "source": [
    "<a id=\"toc\"></a>\n",
    "\n",
    "## <p style=\"background-color:#9d4f8c; font-family:newtimeroman; color:#FFF9ED; font-size:175%; text-align:center; border-radius:10px 10px;\">For Loop</p>"
   ]
  },
  {
   "cell_type": "code",
   "execution_count": 31,
   "id": "79e81297",
   "metadata": {
    "id": "79e81297",
    "outputId": "67f50cc7-c903-4b0c-8cf3-3ab9c681e872"
   },
   "outputs": [
    {
     "name": "stdout",
     "output_type": "stream",
     "text": [
      "1 2 3 4 5 "
     ]
    }
   ],
   "source": [
    "for i in [1, 2, 3, 4, 5] :\n",
    "    print(i, end = \" \")"
   ]
  },
  {
   "cell_type": "code",
   "execution_count": 32,
   "id": "c0d17927",
   "metadata": {
    "id": "c0d17927"
   },
   "outputs": [],
   "source": [
    "my_list = [\"kirby\", \"betty\", \"ally\"]"
   ]
  },
  {
   "cell_type": "code",
   "execution_count": 33,
   "id": "ef44c8b5",
   "metadata": {
    "id": "ef44c8b5",
    "outputId": "30b112a8-83d0-47b7-cbd2-5346af205515"
   },
   "outputs": [
    {
     "name": "stdout",
     "output_type": "stream",
     "text": [
      "kirby\n",
      "betty\n",
      "ally\n"
     ]
    }
   ],
   "source": [
    "# without for loop\n",
    "\n",
    "print(my_list[0])\n",
    "print(my_list[1])\n",
    "print(my_list[2])"
   ]
  },
  {
   "cell_type": "code",
   "execution_count": 34,
   "id": "8c99bd3d",
   "metadata": {
    "id": "8c99bd3d",
    "outputId": "1ccf0c5b-2a32-46d3-b1da-43ed3ae574e9"
   },
   "outputs": [
    {
     "name": "stdout",
     "output_type": "stream",
     "text": [
      "kirby\n",
      "betty\n",
      "ally\n"
     ]
    }
   ],
   "source": [
    "# with for loop\n",
    "\n",
    "for name in my_list :\n",
    "    print(name)"
   ]
  },
  {
   "cell_type": "code",
   "execution_count": 35,
   "id": "f37dcb2c",
   "metadata": {
    "id": "f37dcb2c",
    "outputId": "9d129123-54ed-4949-be77-d4d08b382a8c"
   },
   "outputs": [
    {
     "name": "stdout",
     "output_type": "stream",
     "text": [
      "spring\n",
      "summer\n",
      "autumn\n",
      "winter\n"
     ]
    }
   ],
   "source": [
    "seasons = [\"spring\", \"summer\", \"autumn\", \"winter\"]\n",
    "\n",
    "for i in seasons :\n",
    "    print(i)"
   ]
  },
  {
   "cell_type": "code",
   "execution_count": 36,
   "id": "c9e0fc22",
   "metadata": {
    "id": "c9e0fc22",
    "outputId": "6d991cdb-d2d2-4541-effb-e8ca05e7675e"
   },
   "outputs": [
    {
     "data": {
      "text/plain": [
       "range(1, 6)"
      ]
     },
     "execution_count": 36,
     "metadata": {},
     "output_type": "execute_result"
    }
   ],
   "source": [
    "range(1, 6) # generate range object!"
   ]
  },
  {
   "cell_type": "code",
   "execution_count": 37,
   "id": "dc4f966e",
   "metadata": {
    "id": "dc4f966e",
    "outputId": "57ffd20f-fbfc-4591-fad9-416a1a0b3779"
   },
   "outputs": [
    {
     "data": {
      "text/plain": [
       "[1, 2, 3, 4, 5]"
      ]
     },
     "execution_count": 37,
     "metadata": {},
     "output_type": "execute_result"
    }
   ],
   "source": [
    "list(range(1, 6))"
   ]
  },
  {
   "cell_type": "code",
   "execution_count": 38,
   "id": "e1ac0b75",
   "metadata": {
    "id": "e1ac0b75",
    "outputId": "4de6cd90-f43b-4eb7-d914-ac672cf3554a"
   },
   "outputs": [
    {
     "data": {
      "text/plain": [
       "[1, 2, 3, 4, 5]"
      ]
     },
     "execution_count": 38,
     "metadata": {},
     "output_type": "execute_result"
    }
   ],
   "source": [
    "numbers = []  # creating an empty list.\n",
    "\n",
    "for i in range(1, 6) :\n",
    "    numbers.append(i)  \n",
    "# append the next element of iterator (range object) to the list at every iteration.\n",
    "\n",
    "numbers"
   ]
  },
  {
   "cell_type": "code",
   "execution_count": 39,
   "id": "b60fa6f8",
   "metadata": {
    "id": "b60fa6f8",
    "outputId": "482892b8-c762-4641-e0e3-cbebd27c3f37"
   },
   "outputs": [
    {
     "name": "stdout",
     "output_type": "stream",
     "text": [
      "[1]\n",
      "[1, 2]\n",
      "[1, 2, 3]\n",
      "[1, 2, 3, 4]\n",
      "[1, 2, 3, 4, 5]\n"
     ]
    }
   ],
   "source": [
    "numbers = []  \n",
    "\n",
    "for i in range(1, 6) :\n",
    "    numbers.append(i)\n",
    "    print (numbers)  # let's see the list object's content at every iteration\n",
    "    \n",
    "# pay attention to the indentation of the code block !!"
   ]
  },
  {
   "cell_type": "markdown",
   "id": "ebd41ec7",
   "metadata": {
    "id": "ebd41ec7"
   },
   "source": [
    "<a id=\"toc\"></a>\n",
    "\n",
    "## <p style=\"background-color:#9d4f8c; font-family:newtimeroman; color:#FFF9ED; font-size:175%; text-align:center; border-radius:10px 10px;\">Working with Iterators</p>"
   ]
  },
  {
   "cell_type": "markdown",
   "id": "cc350d7e",
   "metadata": {
    "id": "cc350d7e"
   },
   "source": [
    "## The most common iterable types :\n",
    "\n",
    "```\n",
    "str\n",
    "list\n",
    "tuple\n",
    "dict\n",
    "set\n",
    "```"
   ]
  },
  {
   "cell_type": "markdown",
   "id": "e5b8ff24",
   "metadata": {
    "id": "e5b8ff24"
   },
   "source": [
    "**Task : Python Program to separate the string into its characters.**\n",
    "<br>Write a program to separate the string taken from the user into its characters using for loop. \n",
    "<br>Print the result such as : \n",
    "<br>input : \"Clarusway\" \n",
    "<br>desired output : c-l-a-r-u-s-w-a-y\n"
   ]
  },
  {
   "cell_type": "code",
   "execution_count": 40,
   "id": "d6d2c022",
   "metadata": {
    "id": "d6d2c022",
    "outputId": "f068c5e5-db42-46f9-ba74-58987f72ede0"
   },
   "outputs": [
    {
     "data": {
      "text/plain": [
       "'c-'"
      ]
     },
     "execution_count": 40,
     "metadata": {},
     "output_type": "execute_result"
    }
   ],
   "source": [
    "\"c\" + \"-\""
   ]
  },
  {
   "cell_type": "code",
   "execution_count": 41,
   "id": "95a347cc",
   "metadata": {
    "id": "95a347cc",
    "outputId": "c1be54ca-64c2-42ac-8f6b-a8ed94414a92"
   },
   "outputs": [
    {
     "name": "stdout",
     "output_type": "stream",
     "text": [
      "l-\n"
     ]
    }
   ],
   "source": [
    "i = \"l\"\n",
    "\n",
    "i += \"-\"\n",
    "\n",
    "print(i)"
   ]
  },
  {
   "cell_type": "code",
   "execution_count": 42,
   "id": "88c2e84f",
   "metadata": {
    "id": "88c2e84f",
    "outputId": "0afc3ef7-cc66-40fb-9935-13309fcdb5bb"
   },
   "outputs": [
    {
     "name": "stdin",
     "output_type": "stream",
     "text": [
      "Give me a word : sister\n"
     ]
    },
    {
     "name": "stdout",
     "output_type": "stream",
     "text": [
      "s-i-s-t-e-r"
     ]
    }
   ],
   "source": [
    "word = input(\"Give me a word :\")\n",
    "counter = 0\n",
    "\n",
    "for i in word :\n",
    "    counter += 1\n",
    "    if counter < len(word) :\n",
    "        i += \"-\"\n",
    "    print(i, end = \"\")\n",
    "    "
   ]
  },
  {
   "cell_type": "code",
   "execution_count": 43,
   "id": "b8296e44",
   "metadata": {
    "id": "b8296e44"
   },
   "outputs": [],
   "source": [
    "user = {\n",
    "    \"name\" : \"Daniel\",\n",
    "    \"surname\" : \"Smith\",\n",
    "    \"age\" : 35\n",
    "}"
   ]
  },
  {
   "cell_type": "code",
   "execution_count": 44,
   "id": "9b71461c",
   "metadata": {
    "id": "9b71461c",
    "outputId": "5c7cb65f-2aa7-4ac5-898f-cf329d87622b"
   },
   "outputs": [
    {
     "data": {
      "text/plain": [
       "False"
      ]
     },
     "execution_count": 44,
     "metadata": {},
     "output_type": "execute_result"
    }
   ],
   "source": [
    "\"Daniel\" in user "
   ]
  },
  {
   "cell_type": "code",
   "execution_count": 45,
   "id": "e34befe9",
   "metadata": {
    "id": "e34befe9",
    "outputId": "3237ed05-3cbe-4114-d653-de8225b9bdc2"
   },
   "outputs": [
    {
     "data": {
      "text/plain": [
       "dict_items([('name', 'Daniel'), ('surname', 'Smith'), ('age', 35)])"
      ]
     },
     "execution_count": 45,
     "metadata": {},
     "output_type": "execute_result"
    }
   ],
   "source": [
    "user.items()"
   ]
  },
  {
   "cell_type": "code",
   "execution_count": 46,
   "id": "cfeaa047",
   "metadata": {
    "id": "cfeaa047",
    "outputId": "e10df4b3-7c8e-492d-a339-8e8114e6f6ca"
   },
   "outputs": [
    {
     "name": "stdout",
     "output_type": "stream",
     "text": [
      "3\n",
      "5\n"
     ]
    }
   ],
   "source": [
    "a, b = 3, 5\n",
    "\n",
    "print(a)\n",
    "print(b)"
   ]
  },
  {
   "cell_type": "code",
   "execution_count": 47,
   "id": "da546725",
   "metadata": {
    "id": "da546725",
    "outputId": "2ba65280-a157-485d-ab15-e75adfa5397a"
   },
   "outputs": [
    {
     "name": "stdout",
     "output_type": "stream",
     "text": [
      "7\n"
     ]
    }
   ],
   "source": [
    "a, b, c = 3, 5, 7\n",
    "\n",
    "print(c)"
   ]
  },
  {
   "cell_type": "code",
   "execution_count": 48,
   "id": "a1811fb3",
   "metadata": {
    "id": "a1811fb3",
    "outputId": "39018151-a340-45dc-c403-f80977cd53f2"
   },
   "outputs": [
    {
     "name": "stdout",
     "output_type": "stream",
     "text": [
      "No can do\n"
     ]
    }
   ],
   "source": [
    "try:\n",
    "    user.items()[0]\n",
    "except:\n",
    "    print(\"No can do\")\n",
    "\n",
    "# error! ('dict_items' object is not subscriptable)"
   ]
  },
  {
   "cell_type": "code",
   "execution_count": 49,
   "id": "44db4a65",
   "metadata": {
    "id": "44db4a65",
    "outputId": "b279b6e1-02d2-41b6-f027-8ab9e7e3bb9b"
   },
   "outputs": [
    {
     "name": "stdout",
     "output_type": "stream",
     "text": [
      "'dict_items' object is not subscriptable\n"
     ]
    }
   ],
   "source": [
    "try:\n",
    "    key, value = user.items()[0]\n",
    "    print(key)\n",
    "    print(value)\n",
    "except Exception as e:\n",
    "    print(e)\n",
    "\n",
    "# error! (too many values to unpack (expected 2))"
   ]
  },
  {
   "cell_type": "code",
   "execution_count": 50,
   "id": "cc41b13c",
   "metadata": {
    "id": "cc41b13c",
    "outputId": "0531e728-0320-4e92-91ac-452676fce40d"
   },
   "outputs": [
    {
     "data": {
      "text/plain": [
       "[('name', 'Daniel'), ('surname', 'Smith'), ('age', 35)]"
      ]
     },
     "execution_count": 50,
     "metadata": {},
     "output_type": "execute_result"
    }
   ],
   "source": [
    "list(user.items())"
   ]
  },
  {
   "cell_type": "code",
   "execution_count": 51,
   "id": "d9f0d803",
   "metadata": {
    "id": "d9f0d803",
    "outputId": "2e37f5e8-93ef-4fd1-fa8c-e08a96e14ef6"
   },
   "outputs": [
    {
     "data": {
      "text/plain": [
       "('surname', 'Smith')"
      ]
     },
     "execution_count": 51,
     "metadata": {},
     "output_type": "execute_result"
    }
   ],
   "source": [
    "list(user.items())[1]"
   ]
  },
  {
   "cell_type": "code",
   "execution_count": 52,
   "id": "c6627b6a",
   "metadata": {
    "id": "c6627b6a",
    "outputId": "58011c76-6b5e-4c2e-c8a9-8ea1d6898ff4"
   },
   "outputs": [
    {
     "name": "stdout",
     "output_type": "stream",
     "text": [
      "name : Daniel\n",
      "surname : Smith\n",
      "age : 35\n"
     ]
    }
   ],
   "source": [
    "for key, value in user.items():\n",
    "    print(key, \":\", value)"
   ]
  },
  {
   "cell_type": "code",
   "execution_count": 53,
   "id": "375571ef",
   "metadata": {
    "id": "375571ef"
   },
   "outputs": [],
   "source": [
    "test = [(1, 2), (3, 4), (5, 6)]"
   ]
  },
  {
   "cell_type": "code",
   "execution_count": 54,
   "id": "59dc034a",
   "metadata": {
    "id": "59dc034a",
    "outputId": "289ff10b-c8c8-4648-d356-2e7950831780"
   },
   "outputs": [
    {
     "data": {
      "text/plain": [
       "(1, 2)"
      ]
     },
     "execution_count": 54,
     "metadata": {},
     "output_type": "execute_result"
    }
   ],
   "source": [
    "test[0]"
   ]
  },
  {
   "cell_type": "code",
   "execution_count": 55,
   "id": "6b0047e7",
   "metadata": {
    "id": "6b0047e7",
    "outputId": "ec0eb29a-8bf5-452a-a3c4-13dd8994a069"
   },
   "outputs": [
    {
     "data": {
      "text/plain": [
       "(3, 4)"
      ]
     },
     "execution_count": 55,
     "metadata": {},
     "output_type": "execute_result"
    }
   ],
   "source": [
    "test[1]"
   ]
  },
  {
   "cell_type": "code",
   "execution_count": 56,
   "id": "84d55e8a",
   "metadata": {
    "id": "84d55e8a",
    "outputId": "422eb6e7-72aa-42a0-8b89-4ddeb0ba0304"
   },
   "outputs": [
    {
     "data": {
      "text/plain": [
       "1"
      ]
     },
     "execution_count": 56,
     "metadata": {},
     "output_type": "execute_result"
    }
   ],
   "source": [
    "i, j = (1, 2)\n",
    "i"
   ]
  },
  {
   "cell_type": "code",
   "execution_count": 57,
   "id": "d8a375df",
   "metadata": {
    "id": "d8a375df",
    "outputId": "2c68c8d3-5b18-4979-9b8a-01d5b2116004"
   },
   "outputs": [
    {
     "data": {
      "text/plain": [
       "2"
      ]
     },
     "execution_count": 57,
     "metadata": {},
     "output_type": "execute_result"
    }
   ],
   "source": [
    "i, j = test[0]\n",
    "j"
   ]
  },
  {
   "cell_type": "code",
   "execution_count": 58,
   "id": "814119de",
   "metadata": {
    "id": "814119de",
    "outputId": "7de45c9c-e9c5-4d49-cbae-a45047c969a7"
   },
   "outputs": [
    {
     "name": "stdout",
     "output_type": "stream",
     "text": [
      "1 2\n",
      "3 4\n",
      "5 6\n"
     ]
    }
   ],
   "source": [
    "for i, j in test :\n",
    "    print(i, j)"
   ]
  },
  {
   "cell_type": "code",
   "execution_count": 59,
   "id": "98f64d46",
   "metadata": {
    "id": "98f64d46"
   },
   "outputs": [],
   "source": [
    "test2 = [(1, 2, 11), (3, 4, 12), (5, 6, 13)]"
   ]
  },
  {
   "cell_type": "code",
   "execution_count": 60,
   "id": "f6c63944",
   "metadata": {
    "id": "f6c63944",
    "outputId": "abd70588-01a5-4a92-fe32-3c50cc8795fc"
   },
   "outputs": [
    {
     "name": "stdout",
     "output_type": "stream",
     "text": [
      "1 2 11\n",
      "3 4 12\n",
      "5 6 13\n"
     ]
    }
   ],
   "source": [
    "for i, j, k in test2:\n",
    "    print(i, j, k)"
   ]
  },
  {
   "cell_type": "code",
   "execution_count": 61,
   "id": "0a3aed97",
   "metadata": {
    "id": "0a3aed97",
    "outputId": "cb56e15a-1fa3-4751-a5f9-f307ac7b176e"
   },
   "outputs": [
    {
     "name": "stdout",
     "output_type": "stream",
     "text": [
      "22\n",
      "144\n",
      "390\n"
     ]
    }
   ],
   "source": [
    "for i, j, k in test2:\n",
    "    print(i * j * k)"
   ]
  },
  {
   "cell_type": "code",
   "execution_count": 62,
   "id": "770b7745",
   "metadata": {
    "id": "770b7745",
    "outputId": "22704a8f-d31e-4776-b614-9852fd8151fb"
   },
   "outputs": [
    {
     "name": "stdout",
     "output_type": "stream",
     "text": [
      "glad we are \n",
      "working on loops \n"
     ]
    }
   ],
   "source": [
    "test3 = [(\"glad\", \"we\", \"are\"), (\"working\", \"on\", \"loops\")]\n",
    "\n",
    "for i, j, k in test3:\n",
    "    print(i + \" \" + j + \" \"+ k + \" \")"
   ]
  },
  {
   "cell_type": "code",
   "execution_count": 63,
   "id": "19d5db35",
   "metadata": {
    "id": "19d5db35",
    "outputId": "08e21784-ad89-423a-fbe7-4f0e1d36197f"
   },
   "outputs": [
    {
     "data": {
      "text/plain": [
       "[(1, 2, 11), (3, 4, 12), (5, 6, 13)]"
      ]
     },
     "execution_count": 63,
     "metadata": {},
     "output_type": "execute_result"
    }
   ],
   "source": [
    "test2"
   ]
  },
  {
   "cell_type": "code",
   "execution_count": 64,
   "id": "ec407880",
   "metadata": {
    "id": "ec407880",
    "outputId": "43083c9f-c8c7-4ac9-f66d-2077ff3479ec"
   },
   "outputs": [
    {
     "name": "stdout",
     "output_type": "stream",
     "text": [
      "(1, 2, 11)\n",
      "(3, 4, 12)\n",
      "(5, 6, 13)\n"
     ]
    }
   ],
   "source": [
    "for i in test2 :\n",
    "    print(i)"
   ]
  },
  {
   "cell_type": "code",
   "execution_count": 65,
   "id": "4a2a9deb",
   "metadata": {
    "id": "4a2a9deb",
    "outputId": "2b54839a-37e2-46fb-fd2c-d5d78225a898"
   },
   "outputs": [
    {
     "data": {
      "text/plain": [
       "(1, 2, 3)"
      ]
     },
     "execution_count": 65,
     "metadata": {},
     "output_type": "execute_result"
    }
   ],
   "source": [
    "i = (1, 2, 3)\n",
    "i"
   ]
  },
  {
   "cell_type": "code",
   "execution_count": 66,
   "id": "15a6eba2",
   "metadata": {
    "id": "15a6eba2",
    "outputId": "58665237-9030-434a-e02f-5f3a3dcfa932"
   },
   "outputs": [
    {
     "name": "stdout",
     "output_type": "stream",
     "text": [
      "1 2 3\n"
     ]
    }
   ],
   "source": [
    "i, j, k = (1, 2, 3)\n",
    "\n",
    "print(i, j, k)\n"
   ]
  },
  {
   "cell_type": "markdown",
   "id": "0ec5d48e-753e-490f-8533-7fa8b9903738",
   "metadata": {
    "id": "8qhpYT26DTd5"
   },
   "source": [
    "<a id=\"toc\"></a>\n",
    "\n",
    "## <p style=\"background-color:#9d4f8c; font-family:newtimeroman; color:#FFF9ED; font-size:175%; text-align:center; border-radius:10px 10px;\">Review + Loose Ends</p>"
   ]
  },
  {
   "cell_type": "code",
   "execution_count": 67,
   "id": "cda85f0d-b0ea-4d09-98c6-94cfe943b07d",
   "metadata": {},
   "outputs": [],
   "source": [
    "\"\"\"\n",
    "get lowercase callables in builtins\n",
    "\"\"\"\n",
    "native_callables = []  # empty list\n",
    "\n",
    "for name in dir(__builtins__): # it's a dunder method, skip\n",
    "    if name.startswith(\"__\"):\n",
    "        continue\n",
    "    elif name[0].isupper(): # it's capitalized\n",
    "        continue\n",
    "    elif not callable(eval(name)): # can we call it? -- \"eval is evil\"\n",
    "        continue\n",
    "    native_callables.append(name)"
   ]
  },
  {
   "cell_type": "code",
   "execution_count": 68,
   "id": "06839a5b-261d-416f-8b73-bb53414c7596",
   "metadata": {},
   "outputs": [
    {
     "name": "stdout",
     "output_type": "stream",
     "text": [
      "['abs', 'aiter', 'all', 'anext', 'any', 'ascii', 'bin', 'bool', 'breakpoint', 'bytearray', 'bytes', 'callable', 'chr', 'classmethod', 'compile', 'complex', 'copyright', 'credits', 'delattr', 'dict', 'dir', 'display', 'divmod', 'enumerate', 'eval', 'exec', 'execfile', 'filter', 'float', 'format', 'frozenset', 'get_ipython', 'getattr', 'globals', 'hasattr', 'hash', 'help', 'hex', 'id', 'input', 'int', 'isinstance', 'issubclass', 'iter', 'len', 'license', 'list', 'locals', 'map', 'max', 'memoryview', 'min', 'next', 'object', 'oct', 'open', 'ord', 'pow', 'print', 'property', 'range', 'repr', 'reversed', 'round', 'runfile', 'set', 'setattr', 'slice', 'sorted', 'staticmethod', 'str', 'sum', 'super', 'tuple', 'type', 'vars', 'zip']\n"
     ]
    }
   ],
   "source": [
    "print(native_callables)"
   ]
  },
  {
   "cell_type": "markdown",
   "id": "12b0028c-a6ec-4a29-84e9-a4217ab6d13d",
   "metadata": {},
   "source": [
    "Why does it say 'eval is evil' in the comments above?\n",
    "\n",
    "Because it's a dangerous superpower if not used wisely. What it does is evaluate a Python string as if it were an expression. Essentially, it takes the quotes off a string and tries to evaluate the result"
   ]
  },
  {
   "cell_type": "code",
   "execution_count": 69,
   "id": "b9e7d483-f485-4a5c-a801-c79c30b1fc00",
   "metadata": {},
   "outputs": [
    {
     "data": {
      "text/plain": [
       "4"
      ]
     },
     "execution_count": 69,
     "metadata": {},
     "output_type": "execute_result"
    }
   ],
   "source": [
    "eval(\"2 + 2\")"
   ]
  },
  {
   "cell_type": "markdown",
   "id": "5ffb313c-e25c-4bef-8e29-83b0d9096eb1",
   "metadata": {},
   "source": [
    "What's dangerous about `eval()`.  As a programmer, you will want to protect your code from vulnerabilites. Were you to allow input through `input` and then send whatever the user enters through `eval`, you could open your code to malicious hacks."
   ]
  },
  {
   "cell_type": "code",
   "execution_count": 70,
   "id": "04162b6b-880b-4bdd-a109-0924a63fc473",
   "metadata": {},
   "outputs": [],
   "source": [
    "\"\"\"\n",
    "get lowercase callables in builtins\n",
    "\"\"\"\n",
    "builtin_callables = []  # empty list\n",
    "\n",
    "for name in dir(__builtins__): # it's a dunder method, skip\n",
    "    if name[:2] != \"__\" and name.islower() and callable(eval(name)):\n",
    "        builtin_callables.append(name)"
   ]
  },
  {
   "cell_type": "code",
   "execution_count": 71,
   "id": "6c82c57b-d7e5-4442-9197-ed4a2a3ee1a4",
   "metadata": {},
   "outputs": [
    {
     "name": "stdout",
     "output_type": "stream",
     "text": [
      "['abs', 'aiter', 'all', 'anext', 'any', 'ascii', 'bin', 'bool', 'breakpoint', 'bytearray', 'bytes', 'callable', 'chr', 'classmethod', 'compile', 'complex', 'copyright', 'credits', 'delattr', 'dict', 'dir', 'display', 'divmod', 'enumerate', 'eval', 'exec', 'execfile', 'filter', 'float', 'format', 'frozenset', 'get_ipython', 'getattr', 'globals', 'hasattr', 'hash', 'help', 'hex', 'id', 'input', 'int', 'isinstance', 'issubclass', 'iter', 'len', 'license', 'list', 'locals', 'map', 'max', 'memoryview', 'min', 'next', 'object', 'oct', 'open', 'ord', 'pow', 'print', 'property', 'range', 'repr', 'reversed', 'round', 'runfile', 'set', 'setattr', 'slice', 'sorted', 'staticmethod', 'str', 'sum', 'super', 'tuple', 'type', 'vars', 'zip']\n"
     ]
    }
   ],
   "source": [
    "print(builtin_callables)"
   ]
  },
  {
   "cell_type": "code",
   "execution_count": 72,
   "id": "0346faff-aad5-411a-9748-7ec20d6abc8b",
   "metadata": {},
   "outputs": [
    {
     "data": {
      "text/plain": [
       "True"
      ]
     },
     "execution_count": 72,
     "metadata": {},
     "output_type": "execute_result"
    }
   ],
   "source": [
    "builtin_callables == native_callables"
   ]
  },
  {
   "cell_type": "code",
   "execution_count": 73,
   "id": "b612387b-e7a3-4d6a-8a66-0e247d7e2e8f",
   "metadata": {},
   "outputs": [],
   "source": [
    "the_string = pumpkin = \"🎃\"\n",
    "str_callables = []\n",
    "for name in dir(the_string): # pumpkin or any string\n",
    "    if name[:2] != \"__\" and name.islower() and callable(eval(\"the_string.\" + name)):\n",
    "        str_callables.append(name)"
   ]
  },
  {
   "cell_type": "code",
   "execution_count": 74,
   "id": "bdfdf60b-8873-4a9b-8af7-a5018e9d8cec",
   "metadata": {},
   "outputs": [
    {
     "name": "stdout",
     "output_type": "stream",
     "text": [
      "['capitalize', 'casefold', 'center', 'count', 'encode', 'endswith', 'expandtabs', 'find', 'format', 'format_map', 'index', 'isalnum', 'isalpha', 'isascii', 'isdecimal', 'isdigit', 'isidentifier', 'islower', 'isnumeric', 'isprintable', 'isspace', 'istitle', 'isupper', 'join', 'ljust', 'lower', 'lstrip', 'maketrans', 'partition', 'removeprefix', 'removesuffix', 'replace', 'rfind', 'rindex', 'rjust', 'rpartition', 'rsplit', 'rstrip', 'split', 'splitlines', 'startswith', 'strip', 'swapcase', 'title', 'translate', 'upper', 'zfill']\n"
     ]
    }
   ],
   "source": [
    "print(str_callables)"
   ]
  },
  {
   "cell_type": "code",
   "execution_count": 75,
   "id": "c74064fa-e153-46dd-8431-b502fda5989a",
   "metadata": {},
   "outputs": [],
   "source": [
    "question = \"what did Napoleon say when he saw the island of Elba?\"\n",
    "answer = \"able was I ere I saw elba\" # famous palindrome"
   ]
  },
  {
   "cell_type": "code",
   "execution_count": 76,
   "id": "76e8298e-c4b5-44ec-9183-8c399ef2a294",
   "metadata": {},
   "outputs": [
    {
     "data": {
      "text/plain": [
       "9"
      ]
     },
     "execution_count": 76,
     "metadata": {},
     "output_type": "execute_result"
    }
   ],
   "source": [
    "question.find(\"Napoleon\")"
   ]
  },
  {
   "cell_type": "code",
   "execution_count": 77,
   "id": "7e2ec98f-23cc-4969-a0d9-dd1e653b788e",
   "metadata": {},
   "outputs": [
    {
     "data": {
      "text/plain": [
       "'N'"
      ]
     },
     "execution_count": 77,
     "metadata": {},
     "output_type": "execute_result"
    }
   ],
   "source": [
    "question[9]"
   ]
  },
  {
   "cell_type": "code",
   "execution_count": 78,
   "id": "b89d37af-9704-4db6-a9dd-fb52f363ae28",
   "metadata": {},
   "outputs": [
    {
     "data": {
      "text/plain": [
       "-1"
      ]
     },
     "execution_count": 78,
     "metadata": {},
     "output_type": "execute_result"
    }
   ],
   "source": [
    "question.find(\"Julius Caesar\")"
   ]
  },
  {
   "cell_type": "code",
   "execution_count": 79,
   "id": "40eb0633-1a35-416c-bd2c-c454fa040e7b",
   "metadata": {},
   "outputs": [],
   "source": [
    "q_list = question.split() # turn words into elements"
   ]
  },
  {
   "cell_type": "code",
   "execution_count": 80,
   "id": "97ea093b-3c9f-46af-b4ca-0fb011444266",
   "metadata": {},
   "outputs": [
    {
     "data": {
      "text/plain": [
       "['what',\n",
       " 'did',\n",
       " 'Napoleon',\n",
       " 'say',\n",
       " 'when',\n",
       " 'he',\n",
       " 'saw',\n",
       " 'the',\n",
       " 'island',\n",
       " 'of',\n",
       " 'Elba?']"
      ]
     },
     "execution_count": 80,
     "metadata": {},
     "output_type": "execute_result"
    }
   ],
   "source": [
    "q_list"
   ]
  },
  {
   "cell_type": "code",
   "execution_count": 81,
   "id": "8e486416-3073-4266-b09b-7a678d08b44d",
   "metadata": {},
   "outputs": [],
   "source": [
    "# q_list.find(\"Napoleon\")"
   ]
  },
  {
   "cell_type": "code",
   "execution_count": 82,
   "id": "9a27a2b0-d32e-41e2-9532-60bfe5edcd11",
   "metadata": {},
   "outputs": [
    {
     "data": {
      "text/plain": [
       "True"
      ]
     },
     "execution_count": 82,
     "metadata": {},
     "output_type": "execute_result"
    }
   ],
   "source": [
    "\"Napoleon\" in q_list "
   ]
  },
  {
   "cell_type": "code",
   "execution_count": 83,
   "id": "71517599-f297-42cc-b6a8-c9d1035cd91e",
   "metadata": {},
   "outputs": [
    {
     "name": "stdout",
     "output_type": "stream",
     "text": [
      "Help on built-in function index:\n",
      "\n",
      "index(value, start=0, stop=9223372036854775807, /) method of builtins.list instance\n",
      "    Return first index of value.\n",
      "    \n",
      "    Raises ValueError if the value is not present.\n",
      "\n"
     ]
    }
   ],
   "source": [
    "help(q_list.index)  # or list.index"
   ]
  },
  {
   "cell_type": "code",
   "execution_count": 84,
   "id": "01ed25a7-2ca3-4a68-9df5-ce087b3a6f58",
   "metadata": {},
   "outputs": [
    {
     "data": {
      "text/plain": [
       "2"
      ]
     },
     "execution_count": 84,
     "metadata": {},
     "output_type": "execute_result"
    }
   ],
   "source": [
    "q_list.index(\"Napoleon\")"
   ]
  },
  {
   "cell_type": "code",
   "execution_count": 85,
   "id": "34baa2f4-2d49-47ae-bd3d-f7f9c3b6024a",
   "metadata": {},
   "outputs": [
    {
     "data": {
      "text/plain": [
       "127875"
      ]
     },
     "execution_count": 85,
     "metadata": {},
     "output_type": "execute_result"
    }
   ],
   "source": [
    "ord(pumpkin)"
   ]
  },
  {
   "cell_type": "code",
   "execution_count": 86,
   "id": "a5a1afa0-684b-4c8f-8cba-8aeda1da3b2a",
   "metadata": {},
   "outputs": [
    {
     "data": {
      "text/plain": [
       "'🎃'"
      ]
     },
     "execution_count": 86,
     "metadata": {},
     "output_type": "execute_result"
    }
   ],
   "source": [
    "chr(127875)"
   ]
  },
  {
   "cell_type": "code",
   "execution_count": 87,
   "id": "2d237726-884e-4115-b940-73839339b0e6",
   "metadata": {},
   "outputs": [
    {
     "data": {
      "text/plain": [
       "False"
      ]
     },
     "execution_count": 87,
     "metadata": {},
     "output_type": "execute_result"
    }
   ],
   "source": [
    "pumpkin.isalpha()"
   ]
  },
  {
   "cell_type": "code",
   "execution_count": 88,
   "id": "e2f14667-a584-4caa-a88c-b7644fe8a5ad",
   "metadata": {},
   "outputs": [
    {
     "data": {
      "text/plain": [
       "'🎄'"
      ]
     },
     "execution_count": 88,
     "metadata": {},
     "output_type": "execute_result"
    }
   ],
   "source": [
    "chr(127876)"
   ]
  },
  {
   "cell_type": "code",
   "execution_count": 89,
   "id": "c9400898-de63-4f85-a124-93c92fe82af2",
   "metadata": {},
   "outputs": [
    {
     "name": "stdout",
     "output_type": "stream",
     "text": [
      "🎃\n",
      "🎄\n",
      "🎅\n",
      "🎆\n",
      "🎇\n",
      "🎈\n",
      "🎉\n",
      "🎊\n",
      "🎋\n",
      "🎌\n",
      "🎍\n",
      "🎎\n",
      "🎏\n",
      "🎐\n",
      "🎑\n",
      "🎒\n",
      "🎓\n",
      "🎔\n",
      "🎕\n",
      "🎖\n",
      "🎗\n",
      "🎘\n",
      "🎙\n",
      "🎚\n",
      "🎛\n",
      "🎜\n",
      "🎝\n",
      "🎞\n",
      "🎟\n",
      "🎠\n"
     ]
    }
   ],
   "source": [
    "start = 127875\n",
    "for offset in range(30):\n",
    "    str_object = chr(start + offset)\n",
    "    print(str_object) # end=\" \" results is skipping output"
   ]
  },
  {
   "cell_type": "code",
   "execution_count": 90,
   "id": "1ec47c18-e373-4a42-89ab-a30690d0d395",
   "metadata": {},
   "outputs": [
    {
     "data": {
      "text/plain": [
       "127892"
      ]
     },
     "execution_count": 90,
     "metadata": {},
     "output_type": "execute_result"
    }
   ],
   "source": [
    "ord(\"🎔\")  # how can we suppress boxes?"
   ]
  },
  {
   "cell_type": "code",
   "execution_count": 91,
   "id": "53416cb6-3ed9-4855-b0ea-c8ecc3c4df28",
   "metadata": {},
   "outputs": [
    {
     "data": {
      "text/plain": [
       "'🎔'"
      ]
     },
     "execution_count": 91,
     "metadata": {},
     "output_type": "execute_result"
    }
   ],
   "source": [
    "chr(127892)"
   ]
  },
  {
   "cell_type": "code",
   "execution_count": 92,
   "id": "91c769cf-fe38-4d61-b713-50c6791ed146",
   "metadata": {},
   "outputs": [
    {
     "data": {
      "text/plain": [
       "False"
      ]
     },
     "execution_count": 92,
     "metadata": {},
     "output_type": "execute_result"
    }
   ],
   "source": [
    "'🎔' == '🎝'"
   ]
  },
  {
   "cell_type": "code",
   "execution_count": 93,
   "id": "c7525570-4c9b-4096-9ebe-66a9c73de9b3",
   "metadata": {},
   "outputs": [
    {
     "data": {
      "text/plain": [
       "127901"
      ]
     },
     "execution_count": 93,
     "metadata": {},
     "output_type": "execute_result"
    }
   ],
   "source": [
    "ord(\"🎝\")  # each one has a different codepoint but no glyph"
   ]
  },
  {
   "cell_type": "code",
   "execution_count": 94,
   "id": "e316811e-b014-47fb-af2b-308872b63a01",
   "metadata": {},
   "outputs": [
    {
     "data": {
      "text/plain": [
       "'\\ue000'"
      ]
     },
     "execution_count": 94,
     "metadata": {},
     "output_type": "execute_result"
    }
   ],
   "source": [
    "chr(57344)"
   ]
  },
  {
   "cell_type": "code",
   "execution_count": 95,
   "id": "0c58c789-08be-4052-aee5-6ddf5a84884e",
   "metadata": {},
   "outputs": [
    {
     "name": "stdout",
     "output_type": "stream",
     "text": [
      "🎃 127875\n",
      "🎄 127876\n",
      "🎅 127877\n",
      "🎆 127878\n",
      "🎇 127879\n",
      "🎈 127880\n",
      "🎉 127881\n",
      "🎊 127882\n",
      "🎋 127883\n",
      "🎌 127884\n",
      "🎍 127885\n",
      "🎎 127886\n",
      "🎏 127887\n",
      "🎐 127888\n",
      "🎑 127889\n",
      "🎒 127890\n",
      "🎓 127891\n",
      "🎔 127892\n",
      "🎕 127893\n",
      "🎖 127894\n",
      "🎗 127895\n",
      "🎘 127896\n",
      "🎙 127897\n",
      "🎚 127898\n",
      "🎛 127899\n",
      "🎜 127900\n",
      "🎝 127901\n",
      "🎞 127902\n",
      "🎟 127903\n",
      "🎠 127904\n"
     ]
    }
   ],
   "source": [
    "start = 127875\n",
    "for offset in range(30):\n",
    "    str_object = chr(start + offset)\n",
    "    print(str_object, start + offset)"
   ]
  },
  {
   "cell_type": "code",
   "execution_count": 96,
   "id": "58bc9e6d-a9cc-4ffd-8ad8-781e7d357ece",
   "metadata": {},
   "outputs": [],
   "source": [
    "def get_title(s):\n",
    "    result = s.find(\"<title\")\n",
    "    if result != -1:\n",
    "      start_index = result + len('<title xml:space=\"preserve\">')\n",
    "      end_index = s.find(\"</title>\")\n",
    "      return s[start_index:end_index]\n",
    "    else:\n",
    "      return None"
   ]
  },
  {
   "cell_type": "code",
   "execution_count": 97,
   "id": "c6c93116-5360-4a3f-b0ed-e4197d27f6a2",
   "metadata": {},
   "outputs": [
    {
     "name": "stdout",
     "output_type": "stream",
     "text": [
      "Character for codepoint U+1F4D9: “📙” U+1F4D9 Orange Book Unicode Character\n"
     ]
    }
   ],
   "source": [
    "import requests\n",
    "\n",
    "def lookup_unicode_character(codepoint):\n",
    "  \"\"\"Looks up a Unicode character by its codepoint using the Unicode API.\n",
    "\n",
    "  Args:\n",
    "    codepoint: The codepoint of the character to look up, as a hexadecimal string\n",
    "               (e.g., \"0041\").\n",
    "\n",
    "  Returns:\n",
    "    The Unicode character corresponding to the codepoint, or None if the API\n",
    "    request fails or the codepoint is not found.\n",
    "  \"\"\"\n",
    "  url = f\"https://www.compart.com/en/unicode/U+{codepoint}\"\n",
    "  try:\n",
    "    response = requests.get(url)\n",
    "    if response.status_code == 200:  # Raise an exception for bad status codes\n",
    "        data = response.text\n",
    "        return get_title(data)\n",
    "    else:\n",
    "        return response.url\n",
    "  except requests.exceptions.RequestException as e:\n",
    "    print(f\"Error: {e}\")\n",
    "    return None\n",
    "\n",
    "# Example usage:\n",
    "codepoint = \"1F4D9\"  # Codepoint for \"A\"\n",
    "character = lookup_unicode_character(codepoint)\n",
    "if character:\n",
    "  print(f\"Character for codepoint U+{codepoint}: {character}\")\n",
    "else:\n",
    "  print(f\"Could not find character for codepoint U+{codepoint}\") "
   ]
  },
  {
   "cell_type": "code",
   "execution_count": 98,
   "id": "0b3a7d7d-4ab5-4ca3-a1dc-77e6299e9869",
   "metadata": {},
   "outputs": [
    {
     "data": {
      "text/plain": [
       "'🎃'"
      ]
     },
     "execution_count": 98,
     "metadata": {},
     "output_type": "execute_result"
    }
   ],
   "source": [
    "chr(127875)"
   ]
  },
  {
   "cell_type": "code",
   "execution_count": 99,
   "id": "88f93cab-0c80-47ba-b527-b919cabf8952",
   "metadata": {},
   "outputs": [
    {
     "data": {
      "text/plain": [
       "'0x1f383'"
      ]
     },
     "execution_count": 99,
     "metadata": {},
     "output_type": "execute_result"
    }
   ],
   "source": [
    "hex(127875)"
   ]
  },
  {
   "cell_type": "code",
   "execution_count": 100,
   "id": "d2ff872f-d58a-425a-a4fc-144bf9870d92",
   "metadata": {},
   "outputs": [
    {
     "data": {
      "text/plain": [
       "'https://www.compart.com/en/unicode/U+1f383'"
      ]
     },
     "execution_count": 100,
     "metadata": {},
     "output_type": "execute_result"
    }
   ],
   "source": [
    "codepoint = hex(127875)[2:]\n",
    "url = f\"https://www.compart.com/en/unicode/U+{codepoint}\"\n",
    "url"
   ]
  },
  {
   "cell_type": "code",
   "execution_count": 101,
   "id": "16df30a2-fbda-4716-b090-399dd4f30b48",
   "metadata": {},
   "outputs": [
    {
     "data": {
      "text/plain": [
       "200"
      ]
     },
     "execution_count": 101,
     "metadata": {},
     "output_type": "execute_result"
    }
   ],
   "source": [
    "response = requests.get(url)\n",
    "response.status_code"
   ]
  },
  {
   "cell_type": "code",
   "execution_count": 102,
   "id": "93c572a6-fa52-4cd8-a3ca-6c5f6e3ead2c",
   "metadata": {},
   "outputs": [],
   "source": [
    "# response.text  # yikes! this is what we need to scrape through to find basic info"
   ]
  },
  {
   "cell_type": "code",
   "execution_count": 103,
   "id": "1e81a3e5-eb04-4c7f-9f66-93ab11e451b8",
   "metadata": {},
   "outputs": [
    {
     "data": {
      "text/plain": [
       "'“🎃” U+1F383 Jack-O-Lantern Unicode Character'"
      ]
     },
     "execution_count": 103,
     "metadata": {},
     "output_type": "execute_result"
    }
   ],
   "source": [
    "lookup_unicode_character(\"1f383\")"
   ]
  },
  {
   "cell_type": "code",
   "execution_count": 104,
   "id": "afd26d7c-2ba3-4962-903b-75c503e443ac",
   "metadata": {},
   "outputs": [
    {
     "name": "stdout",
     "output_type": "stream",
     "text": [
      "“🎃” U+1F383 Jack-O-Lantern Unicode Character\n",
      "“🎄” U+1F384 Christmas Tree Unicode Character\n",
      "“🎅” U+1F385 Father Christmas Unicode Character\n",
      "“🎆” U+1F386 Fireworks Unicode Character\n",
      "“🎇” U+1F387 Firework Sparkler Unicode Character\n",
      "“🎈” U+1F388 Balloon Unicode Character\n",
      "“🎉” U+1F389 Party Popper Unicode Character\n",
      "“🎊” U+1F38A Confetti Ball Unicode Character\n",
      "“🎋” U+1F38B Tanabata Tree Unicode Character\n",
      "“🎌” U+1F38C Crossed Flags Unicode Character\n",
      "“🎍” U+1F38D Pine Decoration Unicode Character\n",
      "“🎎” U+1F38E Japanese Dolls Unicode Character\n",
      "“🎏” U+1F38F Carp Streamer Unicode Character\n",
      "“🎐” U+1F390 Wind Chime Unicode Character\n",
      "“🎑” U+1F391 Moon Viewing Ceremony Unicode Character\n",
      "“🎒” U+1F392 School Satchel Unicode Character\n",
      "“🎓” U+1F393 Graduation Cap Unicode Character\n",
      "“🎔” U+1F394 Heart with Tip On the Left Unicode Character\n",
      "“🎕” U+1F395 Bouquet of Flowers Unicode Character\n",
      "“🎖” U+1F396 Military Medal Unicode Character\n",
      "“🎗” U+1F397 Reminder Ribbon Unicode Character\n",
      "“🎘” U+1F398 Musical Keyboard with Jacks Unicode Character\n",
      "“🎙” U+1F399 Studio Microphone Unicode Character\n",
      "“🎚” U+1F39A Level Slider Unicode Character\n",
      "“🎛” U+1F39B Control Knobs Unicode Character\n",
      "“🎜” U+1F39C Beamed Ascending Musical Notes Unicode Character\n",
      "“🎝” U+1F39D Beamed Descending Musical Notes Unicode Character\n",
      "“🎞” U+1F39E Film Frames Unicode Character\n",
      "“🎟” U+1F39F Admission Tickets Unicode Character\n",
      "“🎠” U+1F3A0 Carousel Horse Unicode Character\n"
     ]
    }
   ],
   "source": [
    "start = 127875\n",
    "for offset in range(30):\n",
    "    codepoint = hex(start + offset)[2:]\n",
    "    unicode_name = lookup_unicode_character(codepoint)\n",
    "    print(unicode_name)"
   ]
  },
  {
   "cell_type": "code",
   "execution_count": 105,
   "id": "aac740a7-684b-4f6e-80dd-4b4133e7fc53",
   "metadata": {},
   "outputs": [
    {
     "data": {
      "text/plain": [
       "127903"
      ]
     },
     "execution_count": 105,
     "metadata": {},
     "output_type": "execute_result"
    }
   ],
   "source": [
    "0x1F39F "
   ]
  },
  {
   "cell_type": "code",
   "execution_count": 106,
   "id": "96f74723-a2dc-4cdc-82a7-6fa6a73f80b6",
   "metadata": {},
   "outputs": [
    {
     "data": {
      "text/plain": [
       "'🎟'"
      ]
     },
     "execution_count": 106,
     "metadata": {},
     "output_type": "execute_result"
    }
   ],
   "source": [
    "chr(0x1F39F)"
   ]
  }
 ],
 "metadata": {
  "colab": {
   "provenance": []
  },
  "kernelspec": {
   "display_name": "Python 3 (ipykernel)",
   "language": "python",
   "name": "python3"
  },
  "language_info": {
   "codemirror_mode": {
    "name": "ipython",
    "version": 3
   },
   "file_extension": ".py",
   "mimetype": "text/x-python",
   "name": "python",
   "nbconvert_exporter": "python",
   "pygments_lexer": "ipython3",
   "version": "3.11.3"
  }
 },
 "nbformat": 4,
 "nbformat_minor": 5
}
