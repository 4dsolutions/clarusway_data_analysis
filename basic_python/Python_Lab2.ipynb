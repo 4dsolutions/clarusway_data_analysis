{
 "cells": [
  {
   "cell_type": "markdown",
   "id": "240c13f6-3f58-465a-92b3-ab8d88a592eb",
   "metadata": {},
   "source": [
    "#### Clarusway Python\n",
    "\n",
    "* [Instructor Landing Page](landing_page.ipynb)\n",
    "* <a href=\"https://colab.research.google.com/github/4dsolutions/clarusway_data_analysis/blob/main/basic_python/Python_Lab2.ipynb\"><img align=\"left\" src=\"https://colab.research.google.com/assets/colab-badge.svg\" alt=\"Open in Colab\" title=\"Open and Execute in Google Colaboratory\"></a>\n",
    "* [![nbviewer](https://raw.githubusercontent.com/jupyter/design/master/logos/Badges/nbviewer_badge.svg)](https://nbviewer.org/github/4dsolutions/clarusway_data_analysis/blob/main/basic_python/Python_Lab2.ipynb)"
   ]
  },
  {
   "cell_type": "markdown",
   "id": "97d2a08c",
   "metadata": {},
   "source": [
    "<a id=\"toc\"></a>\n",
    "\n",
    "## <p style=\"background-color:#0D8D99; font-family:newtimeroman; color:#FFF9ED; font-size:175%; text-align:center; border-radius:10px 10px;\">Python Lab 2</p>"
   ]
  },
  {
   "cell_type": "markdown",
   "id": "1c285376",
   "metadata": {},
   "source": [
    "<div class=\"alert alert-block alert-info\"><h1><p style=\"text-align: center; color:purple\">Assignment Solutions (1, 2, 3, 4) <br><h2>Profit Calculator</h2><br><h2>Covid 19 Risk</h2><br><h2>Measure Converter</h2><br><h2>Boolean Truthy</h2></p>"
   ]
  },
  {
   "cell_type": "markdown",
   "id": "1382b8e1",
   "metadata": {},
   "source": [
    "<a id=\"toc\"></a>\n",
    "\n",
    "## <p style=\"background-color:#9d4f8c; font-family:newtimeroman; color:#FFF9ED; font-size:175%; text-align:center; border-radius:10px 10px;\">Profit Calculator</p>"
   ]
  },
  {
   "cell_type": "markdown",
   "id": "1c764bc8",
   "metadata": {},
   "source": [
    "<div class=\"alert alert-block alert-info\">\n",
    "<font color=red>Task :</font> <font color=blue>If you had deposited a coin on the cryptocurrency exchange that brought 7% fixed profit daily for a week, how much would your $ 1000 reach at the end of the 7th day?</font>"
   ]
  },
  {
   "cell_type": "code",
   "execution_count": null,
   "id": "a883c3e9",
   "metadata": {},
   "outputs": [],
   "source": [
    "currency = 1000"
   ]
  },
  {
   "cell_type": "code",
   "execution_count": null,
   "id": "93a42fe3",
   "metadata": {},
   "outputs": [],
   "source": [
    "currency = currency + currency * 0.07  # currency amount at the end of Monday \n",
    "currency"
   ]
  },
  {
   "cell_type": "code",
   "execution_count": null,
   "id": "d0b641f1",
   "metadata": {},
   "outputs": [],
   "source": [
    "currency = currency + currency * 0.07  # currency amount at the end of Tuesday\n",
    "\n",
    "currency"
   ]
  },
  {
   "cell_type": "code",
   "execution_count": null,
   "id": "61e4d18b",
   "metadata": {},
   "outputs": [],
   "source": [
    "currency = currency + currency * 0.07  # currency amount at the end of Wednesday.\n",
    "\n",
    "currency"
   ]
  },
  {
   "cell_type": "code",
   "execution_count": null,
   "id": "394798fa",
   "metadata": {},
   "outputs": [],
   "source": [
    "currency = currency + currency * 0.07  # currency amount at the end of Thursday\n",
    "\n",
    "currency"
   ]
  },
  {
   "cell_type": "code",
   "execution_count": null,
   "id": "c3f217e8",
   "metadata": {},
   "outputs": [],
   "source": [
    "currency = currency + currency * 0.07  # currency amount at the end of Friday\n",
    "\n",
    "currency"
   ]
  },
  {
   "cell_type": "code",
   "execution_count": null,
   "id": "225bdf78",
   "metadata": {},
   "outputs": [],
   "source": [
    "currency = currency + currency * 0.07  # currency amount at the end of Saturday\n",
    "\n",
    "currency"
   ]
  },
  {
   "cell_type": "code",
   "execution_count": null,
   "id": "4cd8d6e6",
   "metadata": {},
   "outputs": [],
   "source": [
    "currency = currency + currency * 0.07  # currency amount at the end of Sunday\n",
    "\n",
    "currency"
   ]
  },
  {
   "cell_type": "markdown",
   "id": "0660b857",
   "metadata": {},
   "source": [
    "### alternative solution"
   ]
  },
  {
   "cell_type": "code",
   "execution_count": null,
   "id": "baf8ea08",
   "metadata": {},
   "outputs": [],
   "source": [
    "currency = currency * 1.07  # currency amount at the end of Monday \n",
    "\n",
    "\n",
    "currency = currency * 1.07  # currency amount at the end of Tuesday\n",
    "currency = currency * 1.07  # currency amount at the end of Wednesday.\n",
    "currency = currency * 1.07  # currency amount at the end of Thursday \n",
    "currency = currency * 1.07  # currency amount at the end of Friday\n",
    "currency = currency * 1.07  # currency amount at the end of Saturday\n",
    "currency = currency * 1.07  # currency amount at the end of Sunday \n"
   ]
  },
  {
   "cell_type": "code",
   "execution_count": null,
   "id": "c8559246",
   "metadata": {},
   "outputs": [],
   "source": [
    "currency = currency * 1.07\n",
    "\n",
    "currency = currency * 1.07 * 1.07  \n",
    "\n",
    "currency = currency * 1.07 * 1.07 * 1.07 \n",
    "\n",
    "currency = currency * 1.07 * 1.07 * 1.07 * 1.07   \n",
    "\n",
    "currency = currency * 1.07 * 1.07 * 1.07 * 1.07 * 1.07  \n",
    "\n",
    "currency = currency * 1.07 * 1.07 * 1.07 * 1.07 * 1.0 * 1.07  \n",
    "\n",
    "currency = currency * 1.07 * 1.07 * 1.07 * 1.07 * 1.07 * 1.07 * 1.07  # currency amount at the end of Sunday"
   ]
  },
  {
   "cell_type": "code",
   "execution_count": null,
   "id": "b8f016b8",
   "metadata": {},
   "outputs": [],
   "source": [
    "4 * 4 * 4"
   ]
  },
  {
   "cell_type": "code",
   "execution_count": null,
   "id": "e187c7fa",
   "metadata": {},
   "outputs": [],
   "source": [
    "4 ** 3"
   ]
  },
  {
   "cell_type": "code",
   "execution_count": null,
   "id": "3e187183",
   "metadata": {},
   "outputs": [],
   "source": [
    "currency = 1000\n",
    "\n",
    "currency = currency * 1.07 ** 7\n",
    "\n",
    "print(currency)"
   ]
  },
  {
   "cell_type": "markdown",
   "id": "1f50ef54",
   "metadata": {},
   "source": [
    "<a id=\"toc\"></a>\n",
    "\n",
    "## <p style=\"background-color:#9d4f8c; font-family:newtimeroman; color:#FFF9ED; font-size:175%; text-align:center; border-radius:10px 10px;\">Covid 19 Risk</p>"
   ]
  },
  {
   "cell_type": "markdown",
   "id": "976bae51",
   "metadata": {},
   "source": [
    "<div class=\"alert alert-block alert-info\">\n",
    "<font color=red><b>Task :</b></font> <font color=blue></font><br>\n",
    "    <font color=darkred><b>Estimating the risk of death from coronavirus.</b></font>\n",
    "\n",
    "Consider the following questions in terms of True/False regarding someone else.\n",
    "\n",
    "Are you a cigarette addict older than 75 years old? Variable → <font color=red><b>age</b></font>\n",
    "\n",
    "Do you have a severe chronic disease? Variable → <font color=red><b>chronic</b></font>\n",
    "\n",
    "Is your immune system too weak? Variable → <font color=red><b>immune</b></font>\n",
    "\n",
    "<font color=purple>Set a logical algorithm using boolean logic operators (and/or) and the given variables in order to give us True (there is a risk of death) or False (there is not a risk of death) as a result.</font></font>"
   ]
  },
  {
   "cell_type": "code",
   "execution_count": null,
   "id": "9390d778",
   "metadata": {},
   "outputs": [],
   "source": [
    "age = False\n",
    "chronic = False\n",
    "immune = False\n",
    "\n",
    "risk = age or chronic or immune\n",
    "print(risk)"
   ]
  },
  {
   "cell_type": "code",
   "execution_count": null,
   "id": "b4cc21c6",
   "metadata": {},
   "outputs": [],
   "source": [
    "age = False\n",
    "chronic = False\n",
    "immune = True\n",
    "\n",
    "age or chronic or immune"
   ]
  },
  {
   "cell_type": "code",
   "execution_count": null,
   "id": "4db5e8f4",
   "metadata": {},
   "outputs": [],
   "source": [
    "risk"
   ]
  },
  {
   "cell_type": "code",
   "execution_count": null,
   "id": "b364b261",
   "metadata": {},
   "outputs": [],
   "source": [
    "print(f\"Risk of death : {risk}\")"
   ]
  },
  {
   "cell_type": "code",
   "execution_count": null,
   "id": "a90bde8f",
   "metadata": {},
   "outputs": [],
   "source": [
    "print(\"Risk of death\".format(risk))"
   ]
  },
  {
   "cell_type": "code",
   "execution_count": null,
   "id": "1e3ea5ca",
   "metadata": {},
   "outputs": [],
   "source": [
    "type(input(\"are you a cigarette addict older than 75 years old? (Yes:1, No:0)\"))"
   ]
  },
  {
   "cell_type": "code",
   "execution_count": null,
   "id": "eeb561bf",
   "metadata": {},
   "outputs": [],
   "source": [
    "bool(input(\"are you a cigarette addict older than 75 years old? (Yes:1, No:0)\"))"
   ]
  },
  {
   "cell_type": "code",
   "execution_count": null,
   "id": "d55daf57",
   "metadata": {},
   "outputs": [],
   "source": [
    "bool(\"0\")"
   ]
  },
  {
   "cell_type": "code",
   "execution_count": null,
   "id": "e41b6d68",
   "metadata": {},
   "outputs": [],
   "source": [
    "age = bool(int(input(\"are you a cigarette addict older than 75 years old? (Yes:1, No:0)\")))\n",
    "chronic = bool(int(input(\"Do you have a severe chronic disease? (Yes:1 / No:0) :\")))\n",
    "immune = bool(int(input(\"Is your immune system too weak? (Yes:1 / No:0) : \")))\n",
    "\n",
    "risk = age or chronic or immune\n",
    "\n",
    "print(risk)\n"
   ]
  },
  {
   "cell_type": "markdown",
   "id": "903affa0",
   "metadata": {},
   "source": [
    "<a id=\"toc\"></a>\n",
    "\n",
    "## <p style=\"background-color:#9d4f8c; font-family:newtimeroman; color:#FFF9ED; font-size:175%; text-align:center; border-radius:10px 10px;\">Measure Converter</p>"
   ]
  },
  {
   "cell_type": "markdown",
   "id": "739799eb",
   "metadata": {},
   "source": [
    "<div class=\"alert alert-block alert-info\">\n",
    "<font color=red><b>Task 1 :</b></font> <font color=blue><br>\n",
    "\n",
    "<font color=purple>Write a short Python program that asks the user to enter Celsius temperature (it can be a decimal number), converts the entered temperature into Fahrenheit degree and prints the result.</font>\n",
    "\n",
    "<font color=red><b>Task 2 :</b></font> <font color=blue><br>\n",
    "    \n",
    "<font color=purple>Write a short Python program that asks the user to enter a distance (it can be a decimal number) in kilometers, converts the entered distance into miles and prints the result.</font></font>"
   ]
  },
  {
   "cell_type": "markdown",
   "id": "8607c0d1",
   "metadata": {},
   "source": [
    "### Task 1"
   ]
  },
  {
   "cell_type": "code",
   "execution_count": null,
   "id": "fdf74cea",
   "metadata": {},
   "outputs": [],
   "source": [
    "giriş = input()\n",
    "\n",
    "print((giriş + \" \") * 3)\n"
   ]
  },
  {
   "cell_type": "code",
   "execution_count": null,
   "id": "54d255f3",
   "metadata": {},
   "outputs": [],
   "source": [
    "celsius = float(input(\"write the temperature as Celcius : \"))\n",
    "\n",
    "fahrenheit = 1.8 * celsius + 32\n",
    "\n",
    "fahrenheit"
   ]
  },
  {
   "cell_type": "markdown",
   "id": "c51300b2",
   "metadata": {},
   "source": [
    "### Task 2"
   ]
  },
  {
   "cell_type": "code",
   "execution_count": null,
   "id": "b996de80",
   "metadata": {},
   "outputs": [],
   "source": [
    "km = float(input(\"write the kilometer to convert : \"))\n",
    "\n",
    "mile = km / 1.609344\n",
    "\n",
    "print(km, \"kilometers equal to :\", round(mile, 2), \"miles\")"
   ]
  },
  {
   "cell_type": "code",
   "execution_count": null,
   "id": "1cbdb2bc",
   "metadata": {},
   "outputs": [],
   "source": [
    "km = float(input(\"write the kilometer to convert : \"))\n",
    "\n",
    "mile = round((km / 1.609344), 1)\n",
    "\n",
    "print(km, \"kilometers equal to :\", mile, \"miles\")"
   ]
  },
  {
   "cell_type": "markdown",
   "id": "96a9a224",
   "metadata": {},
   "source": [
    "<a id=\"toc\"></a>\n",
    "\n",
    "## <p style=\"background-color:#9d4f8c; font-family:newtimeroman; color:#FFF9ED; font-size:175%; text-align:center; border-radius:10px 10px;\">Boolean Truthy</p>"
   ]
  },
  {
   "cell_type": "markdown",
   "id": "f1173bcc",
   "metadata": {},
   "source": [
    "<div class=\"alert alert-block alert-info\">\n",
    "<font color=red><b>Task :</b></font> <font color=blue><br>\n",
    "<b>\n",
    "<font color=purple>Using the all following items once each, set a correct boolean expression that returns write me. Use the print() function to display the result.</b>\n",
    "\n",
    "\n",
    "0<br>\n",
    "and<br>\n",
    "not<br>\n",
    "\"write me\"</font>"
   ]
  },
  {
   "cell_type": "code",
   "execution_count": null,
   "id": "68593900",
   "metadata": {},
   "outputs": [],
   "source": [
    "True and True and 1"
   ]
  },
  {
   "cell_type": "code",
   "execution_count": null,
   "id": "6bef12ce",
   "metadata": {},
   "outputs": [],
   "source": [
    "True and True and (\"bir\")"
   ]
  },
  {
   "cell_type": "code",
   "execution_count": null,
   "id": "1426038b",
   "metadata": {},
   "outputs": [],
   "source": [
    "False or False or 0\n"
   ]
  },
  {
   "cell_type": "code",
   "execution_count": null,
   "id": "c8d3ed44",
   "metadata": {},
   "outputs": [],
   "source": [
    "False or False or \"\""
   ]
  },
  {
   "cell_type": "code",
   "execution_count": null,
   "id": "1046c4d5",
   "metadata": {},
   "outputs": [],
   "source": [
    "False or False or []"
   ]
  },
  {
   "cell_type": "code",
   "execution_count": null,
   "id": "6815f92e",
   "metadata": {},
   "outputs": [],
   "source": [
    "not 0 and \"write me\""
   ]
  }
 ],
 "metadata": {
  "kernelspec": {
   "display_name": "Python 3 (ipykernel)",
   "language": "python",
   "name": "python3"
  },
  "language_info": {
   "codemirror_mode": {
    "name": "ipython",
    "version": 3
   },
   "file_extension": ".py",
   "mimetype": "text/x-python",
   "name": "python",
   "nbconvert_exporter": "python",
   "pygments_lexer": "ipython3",
   "version": "3.11.3"
  }
 },
 "nbformat": 4,
 "nbformat_minor": 5
}
