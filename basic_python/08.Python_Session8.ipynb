{
 "cells": [
  {
   "cell_type": "markdown",
   "id": "O2mbts2vCrab",
   "metadata": {
    "id": "O2mbts2vCrab"
   },
   "source": [
    "#### Clarusway Python\n",
    "\n",
    "* [Instructor Landing Page](landing_page.ipynb)\n",
    "* <a href=\"https://colab.research.google.com/github/4dsolutions/clarusway_data_analysis/blob/main/basic_python/08.Python_Session8.ipynb\"><img align=\"left\" src=\"https://colab.research.google.com/assets/colab-badge.svg\" alt=\"Open in Colab\" title=\"Open and Execute in Google Colaboratory\"></a>\n",
    "* [![nbviewer](https://raw.githubusercontent.com/jupyter/design/master/logos/Badges/nbviewer_badge.svg)](https://nbviewer.org/github/4dsolutions/clarusway_data_analysis/blob/main/basic_python/08.Python_Session8.ipynb)"
   ]
  },
  {
   "cell_type": "markdown",
   "id": "97d2a08c",
   "metadata": {
    "id": "97d2a08c"
   },
   "source": [
    "<a id=\"toc\"></a>\n",
    "\n",
    "## <p style=\"background-color:#0D8D99; font-family:newtimeroman; color:#FFF9ED; font-size:175%; text-align:center; border-radius:10px 10px;\">Python Session08</p>"
   ]
  },
  {
   "cell_type": "markdown",
   "id": "93bf8f83",
   "metadata": {
    "id": "93bf8f83"
   },
   "source": [
    "#### <div class=\"alert alert-block alert-info\"><h1><p style=\"text-align: center; color:purple\">Tuples (How Can We Use a Tuple)<br><br>Dictionaries</p>"
   ]
  },
  {
   "cell_type": "markdown",
   "id": "61f8b65a",
   "metadata": {
    "id": "61f8b65a"
   },
   "source": [
    "<a id=\"toc\"></a>\n",
    "\n",
    "## <p style=\"background-color:#9d4f8c; font-family:newtimeroman; color:#FFF9ED; font-size:175%; text-align:center; border-radius:10px 10px;\">How Can We Use a Tuple</p>"
   ]
  },
  {
   "cell_type": "markdown",
   "id": "ce9633e3",
   "metadata": {
    "id": "ce9633e3"
   },
   "source": [
    "## range() function"
   ]
  },
  {
   "cell_type": "code",
   "execution_count": null,
   "id": "1a8ddaba",
   "metadata": {
    "id": "1a8ddaba",
    "outputId": "0164b176-622c-4ab2-9b3a-9870d84beef3"
   },
   "outputs": [],
   "source": [
    "range(1, 11)  # return a range object."
   ]
  },
  {
   "cell_type": "code",
   "execution_count": null,
   "id": "417ffb74",
   "metadata": {
    "id": "417ffb74"
   },
   "outputs": [],
   "source": [
    "a = range(1, 11)"
   ]
  },
  {
   "cell_type": "code",
   "execution_count": null,
   "id": "5112f84b",
   "metadata": {
    "id": "5112f84b",
    "outputId": "74a51971-615b-4f34-a5f1-df350474cee9"
   },
   "outputs": [],
   "source": [
    "print(a)"
   ]
  },
  {
   "cell_type": "code",
   "execution_count": null,
   "id": "ed0c6721",
   "metadata": {
    "id": "ed0c6721",
    "outputId": "18e51d60-b62b-4347-9e39-332f0d5ede11"
   },
   "outputs": [],
   "source": [
    "print(type(a))  # The range() function returns an object of type range."
   ]
  },
  {
   "cell_type": "code",
   "execution_count": null,
   "id": "5576f093",
   "metadata": {
    "id": "5576f093",
    "outputId": "b4ce048f-be87-4032-b907-540319d3d89a"
   },
   "outputs": [],
   "source": [
    "list(a)"
   ]
  },
  {
   "cell_type": "code",
   "execution_count": null,
   "id": "5b155db8",
   "metadata": {
    "id": "5b155db8",
    "outputId": "82f23611-4da6-4128-d2c9-6676f81aa0d1"
   },
   "outputs": [],
   "source": [
    "print(* a)  # using an asterisk we made the range object visible."
   ]
  },
  {
   "cell_type": "code",
   "execution_count": null,
   "id": "6176ecb2",
   "metadata": {
    "id": "6176ecb2",
    "outputId": "27c2a455-78b8-48cb-a5d7-e6b2e353e546"
   },
   "outputs": [],
   "source": [
    "print(* range(10))"
   ]
  },
  {
   "cell_type": "code",
   "execution_count": null,
   "id": "c86a6b69",
   "metadata": {
    "id": "c86a6b69"
   },
   "outputs": [],
   "source": [
    "# or we can make it visible by converting it to a collection object.\n",
    "\n",
    "numbers = tuple(range(1, 11))  "
   ]
  },
  {
   "cell_type": "code",
   "execution_count": null,
   "id": "e8f0c711",
   "metadata": {
    "id": "e8f0c711",
    "outputId": "992cbd8c-03d0-4fab-b426-646586800b3a"
   },
   "outputs": [],
   "source": [
    "numbers"
   ]
  },
  {
   "cell_type": "code",
   "execution_count": null,
   "id": "e8b8e618",
   "metadata": {
    "id": "e8b8e618"
   },
   "outputs": [],
   "source": [
    "list_numbers = list(numbers)"
   ]
  },
  {
   "cell_type": "code",
   "execution_count": null,
   "id": "488ea773",
   "metadata": {
    "id": "488ea773",
    "outputId": "65733cea-4299-4c98-8b5d-1d6d150c8382"
   },
   "outputs": [],
   "source": [
    "list_numbers"
   ]
  },
  {
   "cell_type": "code",
   "execution_count": null,
   "id": "a05c5f42",
   "metadata": {
    "id": "a05c5f42",
    "outputId": "f77576fd-b48d-485d-9dfe-b8f510666351"
   },
   "outputs": [],
   "source": [
    "list_numbers[2]"
   ]
  },
  {
   "cell_type": "code",
   "execution_count": null,
   "id": "d501c869",
   "metadata": {
    "id": "d501c869",
    "outputId": "fdd61174-14cc-4012-d57d-9fd12811a216"
   },
   "outputs": [],
   "source": [
    "type(list_numbers[2])"
   ]
  },
  {
   "cell_type": "code",
   "execution_count": null,
   "id": "4d0b424a",
   "metadata": {
    "id": "4d0b424a"
   },
   "outputs": [],
   "source": [
    "list_numbers[2] = 33  # I can change an element of my list by assigning a value to it."
   ]
  },
  {
   "cell_type": "code",
   "execution_count": null,
   "id": "a00a1c07",
   "metadata": {
    "id": "a00a1c07",
    "outputId": "9e3fd8cc-25c4-4a28-a683-81c782b6bd75"
   },
   "outputs": [],
   "source": [
    "list_numbers"
   ]
  },
  {
   "cell_type": "code",
   "execution_count": null,
   "id": "57f57df9",
   "metadata": {
    "id": "57f57df9",
    "outputId": "a49c50a9-eca8-40ef-aaef-74d6a44365dc"
   },
   "outputs": [],
   "source": [
    "list_numbers[-1] = \"ten\"\n",
    "\n",
    "list_numbers"
   ]
  },
  {
   "cell_type": "code",
   "execution_count": null,
   "id": "202061b8",
   "metadata": {
    "id": "202061b8",
    "outputId": "6907e9ff-2539-4c91-c04e-7548ac8d2740"
   },
   "outputs": [],
   "source": [
    "numbers"
   ]
  },
  {
   "cell_type": "code",
   "execution_count": null,
   "id": "8a6b63b5",
   "metadata": {
    "id": "8a6b63b5",
    "outputId": "7e632e16-ee1d-4892-ba27-2978a0eb03bd"
   },
   "outputs": [],
   "source": [
    "numbers[3]"
   ]
  },
  {
   "cell_type": "code",
   "execution_count": null,
   "id": "8543eaba",
   "metadata": {
    "id": "8543eaba",
    "outputId": "6f45179b-7d12-465f-90c7-6b47f0bd2307"
   },
   "outputs": [],
   "source": [
    "numbers[3] = 44  \n",
    "\n",
    "# error! ('tuple' object does not support item assignment)\n",
    "# Since tuples are immutable, we cannot change their elements."
   ]
  },
  {
   "cell_type": "code",
   "execution_count": null,
   "id": "23fe2158",
   "metadata": {
    "id": "23fe2158"
   },
   "outputs": [],
   "source": [
    "mix_tuple = (\"11\", 11, [2, \"two\", (\"six\", 6)], (5, \"fair\" ))"
   ]
  },
  {
   "cell_type": "code",
   "execution_count": null,
   "id": "dc0764a2",
   "metadata": {
    "id": "dc0764a2",
    "outputId": "4d7f8b92-5052-4098-d194-fd515ab9a77e"
   },
   "outputs": [],
   "source": [
    "mix_tuple[2]"
   ]
  },
  {
   "cell_type": "code",
   "execution_count": null,
   "id": "c6c02f07",
   "metadata": {
    "id": "c6c02f07",
    "outputId": "2a7ab669-379c-4187-d9c6-c313ed8261c6"
   },
   "outputs": [],
   "source": [
    "type(mix_tuple[2])"
   ]
  },
  {
   "cell_type": "code",
   "execution_count": null,
   "id": "f8386d50",
   "metadata": {
    "id": "f8386d50",
    "outputId": "0f1842a6-7369-4e7d-d038-dee849b83ac4"
   },
   "outputs": [],
   "source": [
    "type(mix_tuple[3])"
   ]
  },
  {
   "cell_type": "code",
   "execution_count": null,
   "id": "7e4cb25f",
   "metadata": {
    "id": "7e4cb25f"
   },
   "outputs": [],
   "source": [
    "mix_tuple[2].append(False)  \n",
    "\n",
    "# Since the element at the 2nd index of the tuple is a list, \n",
    "# I can modify this list even though it is an element of the tuple."
   ]
  },
  {
   "cell_type": "code",
   "execution_count": null,
   "id": "7b04fccf",
   "metadata": {
    "id": "7b04fccf",
    "outputId": "01188be4-6c06-447a-b0c5-ff2c054bf3a9"
   },
   "outputs": [],
   "source": [
    "mix_tuple[2]"
   ]
  },
  {
   "cell_type": "code",
   "execution_count": null,
   "id": "249b3845",
   "metadata": {
    "id": "249b3845",
    "outputId": "1f4371d8-57a5-4cce-a9e5-3631b9ae2b43"
   },
   "outputs": [],
   "source": [
    "print(mix_tuple)"
   ]
  },
  {
   "cell_type": "markdown",
   "id": "78e6e825",
   "metadata": {
    "id": "78e6e825"
   },
   "source": [
    "## indexing a tuple"
   ]
  },
  {
   "cell_type": "code",
   "execution_count": null,
   "id": "88ba8282",
   "metadata": {
    "id": "88ba8282",
    "outputId": "fa69b8bf-3511-49b6-aa40-7221e6730585"
   },
   "outputs": [],
   "source": [
    "mix_tuple[2][2][0]"
   ]
  },
  {
   "cell_type": "code",
   "execution_count": null,
   "id": "11335144",
   "metadata": {
    "id": "11335144",
    "outputId": "3004a2f1-7c55-45a7-e08e-b70d6bb0c075"
   },
   "outputs": [],
   "source": [
    "mix_tuple"
   ]
  },
  {
   "cell_type": "code",
   "execution_count": null,
   "id": "3d66e825",
   "metadata": {
    "id": "3d66e825",
    "outputId": "0865dba4-1078-42bf-ed59-9fd2a19a1eba"
   },
   "outputs": [],
   "source": [
    "option1 = mix_tuple[3][1]\n",
    "option1"
   ]
  },
  {
   "cell_type": "code",
   "execution_count": null,
   "id": "764352e1",
   "metadata": {
    "id": "764352e1",
    "outputId": "44ab2b09-ab38-4bd8-df60-6632e7c52d3b"
   },
   "outputs": [],
   "source": [
    "option2 = mix_tuple[-1][1]\n",
    "option2"
   ]
  },
  {
   "cell_type": "markdown",
   "id": "72e41304",
   "metadata": {
    "id": "72e41304"
   },
   "source": [
    "<a id=\"toc\"></a>\n",
    "\n",
    "# <p style=\"background-color:#9d4f8c; font-family:newtimeroman; color:#FFF9ED; font-size:175%; text-align:center; border-radius:10px 10px;\">Dictionaries</p>"
   ]
  },
  {
   "cell_type": "markdown",
   "id": "adfc410a",
   "metadata": {
    "id": "adfc410a"
   },
   "source": [
    "<a id=\"toc\"></a>\n",
    "\n",
    "## <p style=\"background-color:#9d4f8c; font-family:newtimeroman; color:#FFF9ED; font-size:175%; text-align:center; border-radius:10px 10px;\">Creating a Dictionary</p>"
   ]
  },
  {
   "cell_type": "markdown",
   "id": "17e64c07",
   "metadata": {
    "id": "17e64c07"
   },
   "source": [
    "**python documentation link - Dictionaries :  https://docs.python.org/3/tutorial/datastructures.html#dictionaries**\n",
    "\n",
    "**Link 2 : https://www.w3schools.com/python/python_dictionaries.asp**"
   ]
  },
  {
   "cell_type": "code",
   "execution_count": null,
   "id": "60b84b70",
   "metadata": {
    "id": "60b84b70"
   },
   "outputs": [],
   "source": [
    "first_dict = {1 : \"one\", \"two\" : 2, False : [1, 2, 3], 1.5 : (\"one\", \"two\"), (1, 2) : \"clarusway\"}"
   ]
  },
  {
   "cell_type": "code",
   "execution_count": null,
   "id": "08074ac1",
   "metadata": {
    "id": "08074ac1",
    "outputId": "7930b446-904f-4ac0-a34e-a766615191d2"
   },
   "outputs": [],
   "source": [
    "first_dict"
   ]
  },
  {
   "cell_type": "markdown",
   "id": "2fbfe1dc",
   "metadata": {
    "id": "2fbfe1dc"
   },
   "source": [
    "**A list cannot be defined as a key because it is mutable!**"
   ]
  },
  {
   "cell_type": "code",
   "execution_count": null,
   "id": "f7b9c1ab",
   "metadata": {
    "id": "f7b9c1ab",
    "outputId": "8dc1aa3d-e9da-4c10-fd28-8e809c380e1f"
   },
   "outputs": [],
   "source": [
    "second_dict = {[1, 2] : \"one\", \n",
    "               \"two\" : 2, \n",
    "               False : [1, 2, 3], \n",
    "               1.5 : (\"one\", \"two\"), \n",
    "               (1, 2) : \"clarusway\"\n",
    "              }\n",
    "\n",
    "# error! (unhashable type: 'list')"
   ]
  },
  {
   "cell_type": "markdown",
   "id": "87822266",
   "metadata": {
    "id": "87822266"
   },
   "source": [
    "## hashable & mutable concepts.\n",
    "\n",
    "**An object is HASHABLE if it has an unchanging hash value throughout its lifetime. This is also called a hash value. For example, a string object has an unchanging hash value. Similarly, an integer object has an unchanging hash value. We call these types of data IMMUTABLE. Their property is that they cannot be changed.**\n",
    "\n",
    "**We can understand that a list is UNHASHABLE because it is mutable, meaning it can be changed. Therefore, we cannot use a list as a key in a dictionary. However, tuple objects do not have this issue. Why? Because lists are mutable, while tuple objects are immutable. Since tuple objects are immutable, we can use them as keys in a dictionary.**\n",
    "\n",
    "**PAY ATTENTION! We can only use immutable data types as keys in a dictionary. Why? Because keys must be unique. Only one instance of a key exists. There cannot be two identical keys in a dictionary. Therefore, it must be immutable. This means that it has a hash value. Hence, unhashable data types cannot be used as keys in dictionaries.**\n",
    "\n",
    "**Let's recall which data types are IMMUTABLE: tuples, all numbers (integers, floats, complex), and strings. These data types are hashable.**\n",
    "\n",
    "**Which data types are MUTABLE? Lists, sets, and dictionaries. For example, we will start changing dictionaries soon. Then you will see that they are mutable.**"
   ]
  },
  {
   "cell_type": "markdown",
   "id": "36ea3b4b",
   "metadata": {
    "id": "36ea3b4b"
   },
   "source": [
    "**A dict cannot be defined as a key because it is mutable!**"
   ]
  },
  {
   "cell_type": "code",
   "execution_count": null,
   "id": "96a2d126",
   "metadata": {
    "id": "96a2d126",
    "outputId": "1c2eab98-dbe2-45f5-e0d8-a7c914f19690"
   },
   "outputs": [],
   "source": [
    "second_dict = {{1 : 2} : \"one\", \n",
    "               \"two\" : 2, \n",
    "               False : [1, 2, 3],\n",
    "               1.5 : (\"one\", \"two\"), \n",
    "               (1, 2) : \"clarusway\"\n",
    "              }\n",
    "\n",
    "# error! (unhashable type: 'dict')"
   ]
  },
  {
   "cell_type": "code",
   "execution_count": null,
   "id": "84f0629b",
   "metadata": {
    "id": "84f0629b",
    "outputId": "115df218-d2f8-4568-e98a-f7fcecad6b26"
   },
   "outputs": [],
   "source": [
    "10 = \"on\"\n",
    "\n",
    "# syntax error!"
   ]
  },
  {
   "cell_type": "code",
   "execution_count": null,
   "id": "84e2fd37",
   "metadata": {
    "id": "84e2fd37",
    "outputId": "262a88e4-ba33-4672-d850-56c328788c8e"
   },
   "outputs": [],
   "source": [
    "dict(1 = \"bir\")\n",
    "\n",
    "# wrong usage!"
   ]
  },
  {
   "cell_type": "markdown",
   "id": "a490a940",
   "metadata": {
    "id": "a490a940"
   },
   "source": [
    "**When creating a dictionary with curly braces (manually), it doesn't give an error even if the \"keys\" are not unique! If there are two keys that are duplicates of each other, the last one is taken as the key.**"
   ]
  },
  {
   "cell_type": "code",
   "execution_count": null,
   "id": "119daefc",
   "metadata": {
    "id": "119daefc",
    "outputId": "f3a22099-f1ab-46e6-bea1-1b7af7495753"
   },
   "outputs": [],
   "source": [
    "dicti = {\"kirby\" : 2, \"kirby\" : 3, \"betty\" : 4}\n",
    "\n",
    "dicti"
   ]
  },
  {
   "cell_type": "code",
   "execution_count": null,
   "id": "b07a44c6",
   "metadata": {
    "id": "b07a44c6",
    "outputId": "8f6915bf-3006-45a3-e340-b91a1dfa4991"
   },
   "outputs": [],
   "source": [
    "dict(name = \"kirby betty samuel\") "
   ]
  },
  {
   "cell_type": "markdown",
   "id": "77875093",
   "metadata": {
    "id": "77875093"
   },
   "source": [
    "**Keys must be unique when creating a dictionary with the dict() function (by assigning variable-value pairs)**"
   ]
  },
  {
   "cell_type": "code",
   "execution_count": null,
   "id": "5e6d0daf",
   "metadata": {
    "id": "5e6d0daf",
    "outputId": "5b69a20d-ee60-4f1e-db2a-925ac1730997"
   },
   "outputs": [],
   "source": [
    "dict(name = \"kirby\", name = \"betty\")\n",
    "\n",
    "# error! (keyword argument repeated: name)"
   ]
  },
  {
   "cell_type": "markdown",
   "id": "33e9b531",
   "metadata": {
    "id": "33e9b531"
   },
   "source": [
    "**A dictionary can be the value of another dictionary.**"
   ]
  },
  {
   "cell_type": "code",
   "execution_count": null,
   "id": "7901c349",
   "metadata": {
    "id": "7901c349",
    "outputId": "2e60f067-a425-4654-bc0b-93bdb3a84186"
   },
   "outputs": [],
   "source": [
    "dict(numbers = [1, 2, 3], chars = {1 : \"bir\"})"
   ]
  },
  {
   "cell_type": "code",
   "execution_count": null,
   "id": "e286457a",
   "metadata": {
    "id": "e286457a",
    "outputId": "0fdb75e1-7ea9-44d0-c69c-5eea822f5a86"
   },
   "outputs": [],
   "source": [
    "first_dict"
   ]
  },
  {
   "cell_type": "code",
   "execution_count": null,
   "id": "da2244c3",
   "metadata": {
    "id": "da2244c3",
    "outputId": "c7276799-7136-40cb-fa4b-647c62d8926f"
   },
   "outputs": [],
   "source": [
    "first_dict[False]"
   ]
  },
  {
   "cell_type": "code",
   "execution_count": null,
   "id": "85303017",
   "metadata": {
    "id": "85303017",
    "outputId": "c6e7c964-26b1-4bb0-fedb-bf79b2b5f116"
   },
   "outputs": [],
   "source": [
    "first_dict[1.5]"
   ]
  },
  {
   "cell_type": "code",
   "execution_count": null,
   "id": "a8a4424a",
   "metadata": {
    "id": "a8a4424a",
    "outputId": "461c6f94-a77f-4819-cad4-351b298af360"
   },
   "outputs": [],
   "source": [
    "first_dict[\"two\"]"
   ]
  },
  {
   "cell_type": "code",
   "execution_count": null,
   "id": "61bdb798",
   "metadata": {
    "id": "61bdb798",
    "outputId": "66253124-3765-4f54-b0e3-7460241fdf69"
   },
   "outputs": [],
   "source": [
    "type(first_dict[\"two\"])"
   ]
  },
  {
   "cell_type": "code",
   "execution_count": null,
   "id": "4f749a89",
   "metadata": {
    "id": "4f749a89",
    "outputId": "85aaacc4-e57e-411d-eb45-dc9b321bc964"
   },
   "outputs": [],
   "source": [
    "first_dict[\"two\"] * 5"
   ]
  },
  {
   "cell_type": "markdown",
   "id": "cf7f9de2",
   "metadata": {
    "id": "cf7f9de2"
   },
   "source": [
    "**When you call the \"key\" of a dictionay, it returns its value**"
   ]
  },
  {
   "cell_type": "code",
   "execution_count": null,
   "id": "ad926adb",
   "metadata": {
    "id": "ad926adb",
    "outputId": "545ba5cb-1de6-498f-b9fe-09dcf235f8f5"
   },
   "outputs": [],
   "source": [
    "state_capitals = {'Arkansas': 'Little Rock',\n",
    "                  'Colorado': 'Denver',\n",
    "                  'California': 'Sacramento',\n",
    "                  'Georgia': 'Atlanta' \n",
    "                 }\n",
    "\n",
    "state_capitals['Colorado']\n",
    "\n",
    "print(state_capitals)"
   ]
  },
  {
   "cell_type": "markdown",
   "id": "e0887017",
   "metadata": {
    "id": "e0887017"
   },
   "source": [
    "**Assigning a new key-value pair to a dictionary**"
   ]
  },
  {
   "cell_type": "code",
   "execution_count": null,
   "id": "991b2534",
   "metadata": {
    "id": "991b2534",
    "outputId": "eb4f51a4-4631-4b3e-aa6f-39f138a16518"
   },
   "outputs": [],
   "source": [
    "state_capitals = {'Arkansas': 'Little Rock',\n",
    "                  'Colorado': 'Denver',\n",
    "                  'California': 'Sacramento',\n",
    "                  'Georgia': 'Atlanta' \n",
    "                 }\n",
    "\n",
    "state_capitals['Virginia'] = 'Richmond' # adding a new item\n",
    "\n",
    "print(state_capitals)"
   ]
  },
  {
   "cell_type": "code",
   "execution_count": null,
   "id": "081c6af4",
   "metadata": {
    "id": "081c6af4",
    "outputId": "734865a4-3f26-482b-d057-885f23df2705"
   },
   "outputs": [],
   "source": [
    "color = [1, 2, \"three\", [4, \"five\"]]\n",
    "\n",
    "color[3]"
   ]
  },
  {
   "cell_type": "code",
   "execution_count": null,
   "id": "f02b6b76",
   "metadata": {
    "id": "f02b6b76",
    "outputId": "91846126-a903-450a-b491-309e1ad7bbe7"
   },
   "outputs": [],
   "source": [
    "color[3][:]"
   ]
  },
  {
   "cell_type": "markdown",
   "id": "fb6a4738",
   "metadata": {
    "id": "fb6a4738"
   },
   "source": [
    "**Creating a dictionary using the dict() function**"
   ]
  },
  {
   "cell_type": "code",
   "execution_count": null,
   "id": "094f396b",
   "metadata": {
    "id": "094f396b",
    "outputId": "4b644e26-07bf-43b0-d732-6471739fbb76"
   },
   "outputs": [],
   "source": [
    "dict_by_dict = dict(animal = \"dog\", planet = \"neptun\", number = 40, pi = 3.14, is_good = True)\n",
    "\n",
    "dict_by_dict"
   ]
  },
  {
   "cell_type": "markdown",
   "id": "lm5B3GzQCtTl",
   "metadata": {
    "id": "lm5B3GzQCtTl"
   },
   "source": [
    "![python.exe](https://drive.google.com/uc?id=1oY07NFR8n0Q3oP9CwwxLWh40cGEb_YkU)"
   ]
  },
  {
   "cell_type": "code",
   "execution_count": null,
   "id": "-z53MuKVCtsI",
   "metadata": {
    "id": "-z53MuKVCtsI"
   },
   "outputs": [],
   "source": []
  }
 ],
 "metadata": {
  "colab": {
   "provenance": []
  },
  "kernelspec": {
   "display_name": "Python 3 (ipykernel)",
   "language": "python",
   "name": "python3"
  },
  "language_info": {
   "codemirror_mode": {
    "name": "ipython",
    "version": 3
   },
   "file_extension": ".py",
   "mimetype": "text/x-python",
   "name": "python",
   "nbconvert_exporter": "python",
   "pygments_lexer": "ipython3",
   "version": "3.11.3"
  }
 },
 "nbformat": 4,
 "nbformat_minor": 5
}
