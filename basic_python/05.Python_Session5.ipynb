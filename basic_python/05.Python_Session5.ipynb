{
 "cells": [
  {
   "cell_type": "markdown",
   "id": "p-eIG0K5CUzH",
   "metadata": {
    "id": "p-eIG0K5CUzH"
   },
   "source": [
    "#### Clarusway Python\n",
    "\n",
    "* [Instructor Landing Page](landing_page.ipynb)\n",
    "* <a href=\"https://colab.research.google.com/github/4dsolutions/clarusway_data_analysis/blob/main/basic_python/05.session05.ipynb\"><img align=\"left\" src=\"https://colab.research.google.com/assets/colab-badge.svg\" alt=\"Open in Colab\" title=\"Open and Execute in Google Colaboratory\"></a>\n",
    "* [![nbviewer](https://raw.githubusercontent.com/jupyter/design/master/logos/Badges/nbviewer_badge.svg)](https://nbviewer.org/github/4dsolutions/clarusway_data_analysis/blob/main/basic_python/05.session05.ipynb)"
   ]
  },
  {
   "cell_type": "markdown",
   "id": "97d2a08c",
   "metadata": {
    "id": "97d2a08c"
   },
   "source": [
    "<a id=\"toc\"></a>\n",
    "\n",
    "## <p style=\"background-color:#0D8D99; font-family:newtimeroman; color:#FFF9ED; font-size:175%; text-align:center; border-radius:10px 10px;\">Python Session 05</p>"
   ]
  },
  {
   "cell_type": "markdown",
   "id": "770163b8",
   "metadata": {
    "id": "770163b8"
   },
   "source": [
    "#### <div class=\"alert alert-block alert-info\"><h1><p style=\"text-align: center; color:purple\">Review of String Formatting with string.format() Method<br><br>String Formatting with f-string Method<br><br>Main String Operations<br><br>Immutability<br><br>Searching & Changing & Editing a String</p>"
   ]
  },
  {
   "cell_type": "markdown",
   "id": "a7d7cb0c",
   "metadata": {
    "id": "a7d7cb0c"
   },
   "source": [
    "<a id=\"toc\"></a>\n",
    "\n",
    "## <p style=\"background-color:#9d4f8c; font-family:newtimeroman; color:#FFF9ED; font-size:175%; text-align:center; border-radius:10px 10px;\">Review of String Formatting with string.format() Method</p>"
   ]
  },
  {
   "cell_type": "markdown",
   "id": "b821575b",
   "metadata": {
    "id": "b821575b"
   },
   "source": [
    "**Python documentation link - String Formatting: https://docs.python.org/3/library/string.html#custom-string-formatting**\n",
    "\n",
    "**Link 2: https://www.w3schools.com/python/ref_string_format.asp**\n",
    "\n",
    "**Link 3: https://www.geeksforgeeks.org/string-formatting-in-python/**"
   ]
  },
  {
   "cell_type": "code",
   "execution_count": 1,
   "id": "204fa86f",
   "metadata": {
    "id": "204fa86f",
    "outputId": "41dbc390-55d0-4a4a-c201-42fcf87dfb08"
   },
   "outputs": [
    {
     "name": "stdout",
     "output_type": "stream",
     "text": [
      "The sum of 3 + 7 is = 10\n"
     ]
    }
   ],
   "source": [
    "a = 3\n",
    "b = 7\n",
    "\n",
    "print(\"The sum of {} + {} is = {}\".format(a, b, a + b))"
   ]
  },
  {
   "cell_type": "code",
   "execution_count": 2,
   "id": "b9f5c06e",
   "metadata": {
    "id": "b9f5c06e",
    "outputId": "7d7f96d7-3e30-4f23-8a45-6231cba6a555"
   },
   "outputs": [
    {
     "name": "stdout",
     "output_type": "stream",
     "text": [
      "The sum of 3 * 7 is = 21\n"
     ]
    }
   ],
   "source": [
    "a = 3\n",
    "b = 7\n",
    "\n",
    "print(\"The sum of {} * {} is = {}\".format(a, b, a * b))"
   ]
  },
  {
   "cell_type": "code",
   "execution_count": 3,
   "id": "f480705f",
   "metadata": {
    "id": "f480705f",
    "outputId": "993d91e4-50ad-47b6-bdc6-c627a0537fe9"
   },
   "outputs": [
    {
     "name": "stdout",
     "output_type": "stream",
     "text": [
      "The sum of 2 ** 3 is = 8\n"
     ]
    }
   ],
   "source": [
    "a = 2\n",
    "b = 3\n",
    "\n",
    "print(\"The sum of {} ** {} is = {}\".format(a, b, a ** b))"
   ]
  },
  {
   "cell_type": "markdown",
   "id": "59607ecb",
   "metadata": {
    "id": "59607ecb"
   },
   "source": [
    "<a id=\"toc\"></a>\n",
    "\n",
    "## <p style=\"background-color:#9d4f8c; font-family:newtimeroman; color:#FFF9ED; font-size:175%; text-align:center; border-radius:10px 10px;\">String Formatting with f-string Method</p>"
   ]
  },
  {
   "cell_type": "markdown",
   "id": "3020fae3",
   "metadata": {
    "id": "3020fae3"
   },
   "source": [
    "**Link 1 - F string formatting: https://networklessons.com/python/python-f-string-formatting**"
   ]
  },
  {
   "cell_type": "code",
   "execution_count": 4,
   "id": "9f64b5cb",
   "metadata": {
    "id": "9f64b5cb",
    "outputId": "c6300ee4-3020-4795-fa14-6db99e17a8fc"
   },
   "outputs": [
    {
     "name": "stdout",
     "output_type": "stream",
     "text": [
      "Mariam\n"
     ]
    }
   ],
   "source": [
    "my_name = \"mariam\"\n",
    "\n",
    "my_name = my_name.capitalize()\n",
    "\n",
    "print(my_name)"
   ]
  },
  {
   "cell_type": "code",
   "execution_count": 5,
   "id": "7b5d3db0",
   "metadata": {
    "id": "7b5d3db0",
    "outputId": "32be1591-108a-4215-ef9b-f1d337ca3c12"
   },
   "outputs": [
    {
     "name": "stdout",
     "output_type": "stream",
     "text": [
      "My name is Mariam\n"
     ]
    }
   ],
   "source": [
    "output = f\"My name is {my_name}\"\n",
    "print(output)"
   ]
  },
  {
   "cell_type": "code",
   "execution_count": 6,
   "id": "accffc8f",
   "metadata": {
    "id": "accffc8f",
    "outputId": "37bf7f95-d414-49b1-ed1d-20723fdf752e"
   },
   "outputs": [
    {
     "name": "stdout",
     "output_type": "stream",
     "text": [
      "My name is MARIAM\n"
     ]
    }
   ],
   "source": [
    "print(f\"My name is {my_name.upper()}\")"
   ]
  },
  {
   "cell_type": "code",
   "execution_count": 7,
   "id": "d09ebb7e",
   "metadata": {
    "id": "d09ebb7e",
    "outputId": "6a14e534-bf97-4595-f07e-f0e52e7e75ea"
   },
   "outputs": [
    {
     "data": {
      "text/plain": [
       "'Hi Edwin. Are you ill?'"
      ]
     },
     "execution_count": 7,
     "metadata": {},
     "output_type": "execute_result"
    }
   ],
   "source": [
    "name = \"Edwin\"\n",
    "status = \"ill\"\n",
    "\n",
    "message = f\"Hi {name}. Are you {status}?\"\n",
    "message"
   ]
  },
  {
   "cell_type": "code",
   "execution_count": 8,
   "id": "10b0704b",
   "metadata": {
    "id": "10b0704b",
    "outputId": "9cc1bf35-a889-4dfe-b86e-67504de866da"
   },
   "outputs": [
    {
     "data": {
      "text/plain": [
       "'hiEdwin. Are youill?'"
      ]
     },
     "execution_count": 8,
     "metadata": {},
     "output_type": "execute_result"
    }
   ],
   "source": [
    "message = f\"hi\\\n",
    "{name}. \\\n",
    "Are you\\\n",
    "{status}?\"\n",
    "\n",
    "message"
   ]
  },
  {
   "cell_type": "code",
   "execution_count": 9,
   "id": "5c1dda3b",
   "metadata": {
    "id": "5c1dda3b",
    "outputId": "de68a631-4b57-4a4d-d5a7-9081c3a4125b"
   },
   "outputs": [
    {
     "name": "stdout",
     "output_type": "stream",
     "text": [
      "Hi Edwin. Are you ill?\n"
     ]
    }
   ],
   "source": [
    "message = (\n",
    "    f\"Hi {name}. \"\n",
    "    f\"Are you {status}?\"\n",
    ")\n",
    "\n",
    "print(message)"
   ]
  },
  {
   "cell_type": "markdown",
   "id": "3321670c",
   "metadata": {
    "id": "3321670c"
   },
   "source": [
    "<a id=\"toc\"></a>\n",
    "\n",
    "# <p style=\"background-color:#9d4f8c; font-family:newtimeroman; color:#FFF9ED; font-size:175%; text-align:center; border-radius:10px 10px;\">Main String Operations</p>"
   ]
  },
  {
   "cell_type": "markdown",
   "id": "e4e13fb2",
   "metadata": {
    "id": "e4e13fb2"
   },
   "source": [
    "<a id=\"toc\"></a>\n",
    "\n",
    "## <p style=\"background-color:#9d4f8c; font-family:newtimeroman; color:#FFF9ED; font-size:175%; text-align:center; border-radius:10px 10px;\">Immutability</p>"
   ]
  },
  {
   "cell_type": "markdown",
   "id": "4f15d559",
   "metadata": {
    "id": "4f15d559"
   },
   "source": [
    "**Python documentation link - Immutable Objects: https://docs.python.org/3/reference/datamodel.html**\n",
    "\n",
    "**Link 2 - Mutable-immutable objects: https://towardsdatascience.com/https-towardsdatascience-com-python-basics-mutable-vs-immutable-objects-829a0cb1530a**"
   ]
  },
  {
   "cell_type": "code",
   "execution_count": 10,
   "id": "87b3ae72",
   "metadata": {
    "id": "87b3ae72"
   },
   "outputs": [],
   "source": [
    "name = \"KIRBY Betty\""
   ]
  },
  {
   "cell_type": "code",
   "execution_count": 11,
   "id": "013717b0",
   "metadata": {
    "id": "013717b0",
    "outputId": "b16e1162-c404-4e90-f885-85dae72b2af8"
   },
   "outputs": [
    {
     "data": {
      "text/plain": [
       "'kirby bETTY'"
      ]
     },
     "execution_count": 11,
     "metadata": {},
     "output_type": "execute_result"
    }
   ],
   "source": [
    "name.swapcase()"
   ]
  },
  {
   "cell_type": "code",
   "execution_count": 12,
   "id": "7d75c756",
   "metadata": {
    "id": "7d75c756",
    "outputId": "f491463a-3022-4737-cecd-8a52b884b75e"
   },
   "outputs": [
    {
     "name": "stdout",
     "output_type": "stream",
     "text": [
      "KIRBY Betty\n"
     ]
    }
   ],
   "source": [
    "print(name)"
   ]
  },
  {
   "cell_type": "code",
   "execution_count": 13,
   "id": "9bb436af",
   "metadata": {
    "id": "9bb436af"
   },
   "outputs": [],
   "source": [
    "last_name = \"Davis\""
   ]
  },
  {
   "cell_type": "code",
   "execution_count": 14,
   "id": "26bf7cd7",
   "metadata": {
    "id": "26bf7cd7",
    "outputId": "3b7ba5aa-d38d-4dba-facc-348a98c7ed5e"
   },
   "outputs": [
    {
     "data": {
      "text/plain": [
       "'dAVIS'"
      ]
     },
     "execution_count": 14,
     "metadata": {},
     "output_type": "execute_result"
    }
   ],
   "source": [
    "last_name = last_name.swapcase()\n",
    "\n",
    "last_name"
   ]
  },
  {
   "cell_type": "code",
   "execution_count": 15,
   "id": "5aa08958",
   "metadata": {
    "id": "5aa08958",
    "outputId": "56535507-73d8-4aca-ee27-d8485a7b7b42"
   },
   "outputs": [
    {
     "data": {
      "text/plain": [
       "True"
      ]
     },
     "execution_count": 15,
     "metadata": {},
     "output_type": "execute_result"
    }
   ],
   "source": [
    "email = \"clarusway@clarusway.com is my e-mail address\" \n",
    "email.startswith(\"@\", 9)"
   ]
  },
  {
   "cell_type": "code",
   "execution_count": 16,
   "id": "1697d3f1",
   "metadata": {
    "id": "1697d3f1",
    "outputId": "ece2fc2e-7ceb-4a3f-cf6c-32e53c7d07d1"
   },
   "outputs": [
    {
     "data": {
      "text/plain": [
       "True"
      ]
     },
     "execution_count": 16,
     "metadata": {},
     "output_type": "execute_result"
    }
   ],
   "source": [
    "email.endswith(\"-\", 10, 32)"
   ]
  },
  {
   "cell_type": "markdown",
   "id": "94db6962",
   "metadata": {
    "id": "94db6962"
   },
   "source": [
    "<a id=\"toc\"></a>\n",
    "\n",
    "## <p style=\"background-color:#9d4f8c; font-family:newtimeroman; color:#FFF9ED; font-size:175%; text-align:center; border-radius:10px 10px;\">Searching & Changing & Editing a String</p>"
   ]
  },
  {
   "cell_type": "markdown",
   "id": "60547207",
   "metadata": {
    "id": "60547207"
   },
   "source": [
    "**Python documentation link - Strings: https://docs.python.org/3/tutorial/introduction.html#strings**"
   ]
  },
  {
   "cell_type": "code",
   "execution_count": 17,
   "id": "a964a0c4",
   "metadata": {
    "id": "a964a0c4"
   },
   "outputs": [],
   "source": [
    "text = \"Clarusway\""
   ]
  },
  {
   "cell_type": "code",
   "execution_count": 18,
   "id": "ae65d9fc",
   "metadata": {
    "id": "ae65d9fc",
    "outputId": "83b80112-f786-4bb5-dd39-2832e87412d4"
   },
   "outputs": [
    {
     "data": {
      "text/plain": [
       "'clarusway'"
      ]
     },
     "execution_count": 18,
     "metadata": {},
     "output_type": "execute_result"
    }
   ],
   "source": [
    "text.replace(\"C\", \"c\")"
   ]
  },
  {
   "cell_type": "code",
   "execution_count": 19,
   "id": "d540c05e",
   "metadata": {
    "id": "d540c05e",
    "outputId": "dd26da70-0574-4692-f5f4-cd9ecc9fac11"
   },
   "outputs": [
    {
     "data": {
      "text/plain": [
       "'Clarusway'"
      ]
     },
     "execution_count": 19,
     "metadata": {},
     "output_type": "execute_result"
    }
   ],
   "source": [
    "text"
   ]
  },
  {
   "cell_type": "code",
   "execution_count": 20,
   "id": "846b182e",
   "metadata": {
    "id": "846b182e",
    "outputId": "86bf9e57-f30d-4b5b-d557-97bef4c664cf"
   },
   "outputs": [
    {
     "data": {
      "text/plain": [
       "'Cl*rusw*y'"
      ]
     },
     "execution_count": 20,
     "metadata": {},
     "output_type": "execute_result"
    }
   ],
   "source": [
    "text.replace(\"a\", \"*\")"
   ]
  },
  {
   "cell_type": "code",
   "execution_count": 21,
   "id": "7e221f21",
   "metadata": {
    "id": "7e221f21",
    "outputId": "e121f9e4-f940-4063-c25d-ac3793d4c976"
   },
   "outputs": [
    {
     "data": {
      "text/plain": [
       "str"
      ]
     },
     "execution_count": 21,
     "metadata": {},
     "output_type": "execute_result"
    }
   ],
   "source": [
    "type(text.replace(\"a\", \"*\"))"
   ]
  },
  {
   "cell_type": "code",
   "execution_count": 22,
   "id": "78f8325d",
   "metadata": {
    "id": "78f8325d",
    "outputId": "17479156-a0ab-41ae-f25d-f8108fc217e0"
   },
   "outputs": [
    {
     "data": {
      "text/plain": [
       "'Clarusway'"
      ]
     },
     "execution_count": 22,
     "metadata": {},
     "output_type": "execute_result"
    }
   ],
   "source": [
    "text"
   ]
  },
  {
   "cell_type": "code",
   "execution_count": 23,
   "id": "a8b04b3f",
   "metadata": {
    "id": "a8b04b3f",
    "outputId": "2eeb20aa-0a5b-46ba-b629-88eb85179cf2"
   },
   "outputs": [
    {
     "data": {
      "text/plain": [
       "'CL--RUW--Y'"
      ]
     },
     "execution_count": 23,
     "metadata": {},
     "output_type": "execute_result"
    }
   ],
   "source": [
    "text.replace(\"a\", \"--\").replace(\"s\", \"\").upper()"
   ]
  },
  {
   "cell_type": "code",
   "execution_count": 24,
   "id": "815199e0",
   "metadata": {
    "id": "815199e0"
   },
   "outputs": [],
   "source": [
    "a = \"clarusway\""
   ]
  },
  {
   "cell_type": "code",
   "execution_count": 25,
   "id": "d4846ef0",
   "metadata": {
    "id": "d4846ef0",
    "outputId": "77a0c62e-be5d-4b02-a13a-72ee7872a8ff"
   },
   "outputs": [
    {
     "data": {
      "text/plain": [
       "'clurusway'"
      ]
     },
     "execution_count": 25,
     "metadata": {},
     "output_type": "execute_result"
    }
   ],
   "source": [
    "a.replace(\"a\", \"u\", 1)"
   ]
  },
  {
   "cell_type": "code",
   "execution_count": 26,
   "id": "13b5f85f",
   "metadata": {
    "id": "13b5f85f",
    "outputId": "f271a10c-135c-4590-e17e-4e675813b4b6"
   },
   "outputs": [
    {
     "data": {
      "text/plain": [
       "'I Am A Student In This Course Andi Am So Happy. Me As Your Instructori Take Great Pleasure In Teaching You.'"
      ]
     },
     "execution_count": 26,
     "metadata": {},
     "output_type": "execute_result"
    }
   ],
   "source": [
    "\"i am a student in this course and\\\n",
    "i am so happy. me as your instructor\\\n",
    "i take great pleasure in teaching you.\".title()"
   ]
  },
  {
   "cell_type": "code",
   "execution_count": 27,
   "id": "da6d9594",
   "metadata": {
    "id": "da6d9594"
   },
   "outputs": [],
   "source": [
    "my_string = \"        listen first         \""
   ]
  },
  {
   "cell_type": "code",
   "execution_count": 28,
   "id": "8d2497bb",
   "metadata": {
    "id": "8d2497bb",
    "outputId": "39975607-6325-4a3d-a322-64d416823963"
   },
   "outputs": [
    {
     "data": {
      "text/plain": [
       "'listen first'"
      ]
     },
     "execution_count": 28,
     "metadata": {},
     "output_type": "execute_result"
    }
   ],
   "source": [
    "my_string.strip()"
   ]
  },
  {
   "cell_type": "code",
   "execution_count": 29,
   "id": "a50820a6",
   "metadata": {
    "id": "a50820a6"
   },
   "outputs": [],
   "source": [
    "my_string1 = \"\\n     listen first     \\t\""
   ]
  },
  {
   "cell_type": "code",
   "execution_count": 30,
   "id": "8ee29a2c",
   "metadata": {
    "id": "8ee29a2c",
    "outputId": "1f2d5cbb-3243-4bbc-91e8-445c99536104"
   },
   "outputs": [
    {
     "data": {
      "text/plain": [
       "'\\n     listen first     \\t'"
      ]
     },
     "execution_count": 30,
     "metadata": {},
     "output_type": "execute_result"
    }
   ],
   "source": [
    "my_string1"
   ]
  },
  {
   "cell_type": "code",
   "execution_count": 31,
   "id": "abf27a36",
   "metadata": {
    "id": "abf27a36",
    "outputId": "d121d206-06f3-4d4a-fc8f-60dde7a82b60"
   },
   "outputs": [
    {
     "name": "stdout",
     "output_type": "stream",
     "text": [
      "\n",
      "     listen first     \t\n"
     ]
    }
   ],
   "source": [
    "print(my_string1)"
   ]
  },
  {
   "cell_type": "code",
   "execution_count": 32,
   "id": "047705fd",
   "metadata": {
    "id": "047705fd",
    "outputId": "f660996e-229f-449f-94b0-922ffb485774"
   },
   "outputs": [
    {
     "data": {
      "text/plain": [
       "'listen first'"
      ]
     },
     "execution_count": 32,
     "metadata": {},
     "output_type": "execute_result"
    }
   ],
   "source": [
    "my_string1.strip()"
   ]
  },
  {
   "cell_type": "code",
   "execution_count": 33,
   "id": "549e3295",
   "metadata": {
    "id": "549e3295"
   },
   "outputs": [],
   "source": [
    "var = \"\\n\\nkirby\\nbetty     \""
   ]
  },
  {
   "cell_type": "code",
   "execution_count": 34,
   "id": "73d51451",
   "metadata": {
    "id": "73d51451",
    "outputId": "f7ace2a1-dbf4-4ad8-ae28-52154629925e"
   },
   "outputs": [
    {
     "name": "stdout",
     "output_type": "stream",
     "text": [
      "\n",
      "\n",
      "kirby\n",
      "betty     \n"
     ]
    }
   ],
   "source": [
    "print(var)"
   ]
  },
  {
   "cell_type": "code",
   "execution_count": 35,
   "id": "6aa90c6d",
   "metadata": {
    "id": "6aa90c6d",
    "outputId": "8a5b3a7b-e083-4431-bdaf-6cdb960b2f87"
   },
   "outputs": [
    {
     "data": {
      "text/plain": [
       "'kirby\\nbetty'"
      ]
     },
     "execution_count": 35,
     "metadata": {},
     "output_type": "execute_result"
    }
   ],
   "source": [
    "var.strip()"
   ]
  },
  {
   "cell_type": "code",
   "execution_count": 36,
   "id": "8da2ba51",
   "metadata": {
    "id": "8da2ba51",
    "outputId": "121446a1-7e82-4de2-c0f2-7c470d7e3d2a"
   },
   "outputs": [
    {
     "data": {
      "text/plain": [
       "'clarsway'"
      ]
     },
     "execution_count": 36,
     "metadata": {},
     "output_type": "execute_result"
    }
   ],
   "source": [
    "\"clar   sway\".replace(\" \", \"\")"
   ]
  },
  {
   "cell_type": "code",
   "execution_count": 37,
   "id": "f89ffa57",
   "metadata": {
    "id": "f89ffa57",
    "outputId": "333eb29f-832d-41d5-dd0a-45f96d701153"
   },
   "outputs": [
    {
     "data": {
      "text/plain": [
       "'teroperabilit'"
      ]
     },
     "execution_count": 37,
     "metadata": {},
     "output_type": "execute_result"
    }
   ],
   "source": [
    "\"imteroperability\".strip(\"yim\")"
   ]
  },
  {
   "cell_type": "code",
   "execution_count": 38,
   "id": "6dea4db9",
   "metadata": {
    "id": "6dea4db9"
   },
   "outputs": [],
   "source": [
    "text = 'In God wee Trust'"
   ]
  },
  {
   "cell_type": "code",
   "execution_count": 39,
   "id": "cd96c006",
   "metadata": {
    "id": "cd96c006",
    "outputId": "efc2167b-01a4-410d-a2a7-5364134cc75d"
   },
   "outputs": [
    {
     "name": "stdout",
     "output_type": "stream",
     "text": [
      "In God we Trust\n"
     ]
    }
   ],
   "source": [
    "# with replace() method\n",
    "\n",
    "print(text.replace(\"ee\", \"e\"))"
   ]
  },
  {
   "cell_type": "code",
   "execution_count": 40,
   "id": "d6656004",
   "metadata": {
    "id": "d6656004",
    "outputId": "3d3256e5-cbf5-4e77-ea79-31c897902d26"
   },
   "outputs": [
    {
     "name": "stdout",
     "output_type": "stream",
     "text": [
      "In God we Trust\n"
     ]
    }
   ],
   "source": [
    "# alternative solution\n",
    "\n",
    "text1 = text[:9]\n",
    "text2 = text[10:]\n",
    "print(text1 + text2)"
   ]
  },
  {
   "cell_type": "markdown",
   "id": "090a7f17-5d8e-4747-8355-ab09b925b5fb",
   "metadata": {
    "id": "gbr4UvoKCYNu"
   },
   "source": [
    "## Lists, Tuples, Dictionaries, Sets (preview)\n",
    "\n",
    "The string type is already a collection type. It contains multiple character elements. The syntax we've been using to index into and slice strings pertains to lists. "
   ]
  },
  {
   "cell_type": "markdown",
   "id": "7c095fb1-e3b5-4534-9482-17829402e30d",
   "metadata": {},
   "source": [
    "#### Lists\n",
    "\n",
    "Lists are delimite by brackets."
   ]
  },
  {
   "cell_type": "code",
   "execution_count": 41,
   "id": "bd9597de-9b45-446f-bce9-2c9c04c84221",
   "metadata": {},
   "outputs": [],
   "source": [
    "import keyword\n",
    "mylist = keyword.kwlist"
   ]
  },
  {
   "cell_type": "code",
   "execution_count": 42,
   "id": "cf1ee921-cf5a-409a-99ed-3499765dc8c9",
   "metadata": {},
   "outputs": [
    {
     "data": {
      "text/plain": [
       "['False', 'None', 'True', 'and', 'as']"
      ]
     },
     "execution_count": 42,
     "metadata": {},
     "output_type": "execute_result"
    }
   ],
   "source": [
    "mylist[0:5]  # slice notation"
   ]
  },
  {
   "cell_type": "code",
   "execution_count": 43,
   "id": "04f50244-4259-4f41-afc3-06fabe5caab6",
   "metadata": {},
   "outputs": [
    {
     "data": {
      "text/plain": [
       "True"
      ]
     },
     "execution_count": 43,
     "metadata": {},
     "output_type": "execute_result"
    }
   ],
   "source": [
    "\"True\" in mylist  # does it contain?"
   ]
  },
  {
   "cell_type": "code",
   "execution_count": 44,
   "id": "5793802d-8b38-44c3-96d0-f6b46d534ddf",
   "metadata": {},
   "outputs": [
    {
     "data": {
      "text/plain": [
       "['K', 'i', 'r', 'b', 'y']"
      ]
     },
     "execution_count": 44,
     "metadata": {},
     "output_type": "execute_result"
    }
   ],
   "source": [
    "atomize = list(\"Kirby\")\n",
    "atomize"
   ]
  },
  {
   "cell_type": "code",
   "execution_count": 45,
   "id": "a1e7d81d-d756-4912-bd7b-88d471918d4d",
   "metadata": {},
   "outputs": [],
   "source": [
    "atomize[1] = \"e\""
   ]
  },
  {
   "cell_type": "markdown",
   "id": "e43d16b9-4eec-4673-b1bd-1d5b3b2eed52",
   "metadata": {},
   "source": [
    "#### Tuples\n",
    "\n",
    "Tuples are delimted by parens. They're immutable in the sense of no adding or removing elements."
   ]
  },
  {
   "cell_type": "code",
   "execution_count": 46,
   "id": "a330a920-7bbd-4d60-8ae3-2170799c28b3",
   "metadata": {},
   "outputs": [
    {
     "name": "stdout",
     "output_type": "stream",
     "text": [
      "('False', 'None', 'True', 'and', 'as', 'assert', 'async', 'await', 'break', 'class', 'continue', 'def', 'del', 'elif', 'else', 'except', 'finally', 'for', 'from', 'global', 'if', 'import', 'in', 'is', 'lambda', 'nonlocal', 'not', 'or', 'pass', 'raise', 'return', 'try', 'while', 'with', 'yield')\n"
     ]
    }
   ],
   "source": [
    "mytuple = tuple(mylist)\n",
    "print(mytuple)"
   ]
  },
  {
   "cell_type": "code",
   "execution_count": 47,
   "id": "af452c4c-b680-44e4-a121-3a38df9df4c6",
   "metadata": {},
   "outputs": [
    {
     "name": "stdout",
     "output_type": "stream",
     "text": [
      "Sorry, tuples are immutable\n"
     ]
    }
   ],
   "source": [
    "try:\n",
    "    mytuple[0] = \"Kirby\" # can I replace element 0 with something else\n",
    "except:\n",
    "    print(\"Sorry, tuples are immutable\")"
   ]
  },
  {
   "cell_type": "markdown",
   "id": "8ea04861-85c0-44da-9135-12208b2b3516",
   "metadata": {},
   "source": [
    "But...  mutable elements within a tuple may be mutated"
   ]
  },
  {
   "cell_type": "code",
   "execution_count": 48,
   "id": "cee23372-c05d-4345-a2ff-fe771f457910",
   "metadata": {},
   "outputs": [
    {
     "data": {
      "text/plain": [
       "['abc', 'Guido', [], 'Kirby']"
      ]
     },
     "execution_count": 48,
     "metadata": {},
     "output_type": "execute_result"
    }
   ],
   "source": [
    "mixed = [\"abc\", \"Guido\", [ ], \"Kirby\"]\n",
    "mixed"
   ]
  },
  {
   "cell_type": "code",
   "execution_count": 49,
   "id": "dec9e766-737b-4e2b-bce3-187d9da04164",
   "metadata": {},
   "outputs": [
    {
     "data": {
      "text/plain": [
       "['abc', 'Guido', ['Python'], 'Kirby']"
      ]
     },
     "execution_count": 49,
     "metadata": {},
     "output_type": "execute_result"
    }
   ],
   "source": [
    "mixed[2].append(\"Python\")  # mutable elements within a tuple may be mutated\n",
    "mixed"
   ]
  },
  {
   "cell_type": "markdown",
   "id": "a86c64c9-7965-42ce-8fa2-1f9d51894214",
   "metadata": {},
   "source": [
    "#### Dictionaries\n",
    "\n",
    "Dictionaries are delimited by braces, and contain key value pairs.\n",
    "\n",
    "Dictionaries are \"bags of items\" in that they have no left-to-right order"
   ]
  },
  {
   "cell_type": "code",
   "execution_count": 50,
   "id": "cb4b8cc4-db1e-4f4d-9677-0290e3ebaaed",
   "metadata": {},
   "outputs": [
    {
     "data": {
      "text/plain": [
       "{'name': 'Kirby', 'age': 100}"
      ]
     },
     "execution_count": 50,
     "metadata": {},
     "output_type": "execute_result"
    }
   ],
   "source": [
    "record = {\"name\":\"Kirby\", \"age\":100}\n",
    "record"
   ]
  },
  {
   "cell_type": "code",
   "execution_count": 51,
   "id": "18786a63-4b84-4b06-b512-bc0a404a6b12",
   "metadata": {},
   "outputs": [
    {
     "data": {
      "text/plain": [
       "'Kirby'"
      ]
     },
     "execution_count": 51,
     "metadata": {},
     "output_type": "execute_result"
    }
   ],
   "source": [
    "record[\"name\"]"
   ]
  },
  {
   "cell_type": "code",
   "execution_count": 52,
   "id": "ad930ec3-c223-49d9-9c9c-e905b7946f35",
   "metadata": {},
   "outputs": [
    {
     "data": {
      "text/plain": [
       "{'name': 'Kirby', 'age': 66}"
      ]
     },
     "execution_count": 52,
     "metadata": {},
     "output_type": "execute_result"
    }
   ],
   "source": [
    "record[\"age\"] = 66\n",
    "record"
   ]
  },
  {
   "cell_type": "markdown",
   "id": "dc81cbb8-efd7-431f-965f-01df8c19d716",
   "metadata": {},
   "source": [
    "#### Sets\n",
    "\n",
    "Sets are also delimted by braces, but contain elements, not key value pairs.\n",
    "\n",
    "Set elements must be unique. They have no left to right order."
   ]
  },
  {
   "cell_type": "code",
   "execution_count": 53,
   "id": "7b5d2f1e-9ed2-4480-8e8b-7fd5f7d6548e",
   "metadata": {},
   "outputs": [],
   "source": [
    "menu1 = {'caviar', 'orange', 'egg', 'pork chop'}\n",
    "menu2 = {'orange', 'cherry', 'grape', 'grapefruit'}"
   ]
  },
  {
   "cell_type": "code",
   "execution_count": 54,
   "id": "6e400c81-f59d-47fc-a0a2-8bcafbd67622",
   "metadata": {},
   "outputs": [
    {
     "data": {
      "text/plain": [
       "{'caviar', 'cherry', 'egg', 'grape', 'grapefruit', 'orange', 'pork chop'}"
      ]
     },
     "execution_count": 54,
     "metadata": {},
     "output_type": "execute_result"
    }
   ],
   "source": [
    "menu1.union(menu2)"
   ]
  },
  {
   "cell_type": "code",
   "execution_count": 55,
   "id": "26e00c3c-7ff3-4cef-aed1-b1182793c18a",
   "metadata": {},
   "outputs": [
    {
     "data": {
      "text/plain": [
       "{'orange'}"
      ]
     },
     "execution_count": 55,
     "metadata": {},
     "output_type": "execute_result"
    }
   ],
   "source": [
    "menu1.intersection(menu2)"
   ]
  }
 ],
 "metadata": {
  "colab": {
   "provenance": []
  },
  "kernelspec": {
   "display_name": "Python 3 (ipykernel)",
   "language": "python",
   "name": "python3"
  },
  "language_info": {
   "codemirror_mode": {
    "name": "ipython",
    "version": 3
   },
   "file_extension": ".py",
   "mimetype": "text/x-python",
   "name": "python",
   "nbconvert_exporter": "python",
   "pygments_lexer": "ipython3",
   "version": "3.11.3"
  }
 },
 "nbformat": 4,
 "nbformat_minor": 5
}
