{
 "cells": [
  {
   "cell_type": "markdown",
   "id": "9724ad17-9dcb-43ac-98e1-f3442e831b05",
   "metadata": {},
   "source": [
    "# Assignment 6"
   ]
  },
  {
   "cell_type": "code",
   "execution_count": 1,
   "id": "e870f47c-2a7f-4c65-9df2-5ce02061ceb4",
   "metadata": {},
   "outputs": [
    {
     "name": "stdout",
     "output_type": "stream",
     "text": [
      "{0: 1, 1: 1, 3: 4, 4: 1, 6: 1, 7: 1}\n",
      "the most frequent number was {} and was repeated {} times\n"
     ]
    }
   ],
   "source": [
    "# %load assignment6.py\n",
    "#!/usr/bin/env python3\n",
    "\"\"\"\n",
    "Created on Thu Nov  7 10:01:46 2024\n",
    "\n",
    "@author: kirbyurner\n",
    "\n",
    "Write a program that;\n",
    "Finds out the most frequent number in the given list.\n",
    "Calculates its frequency.\n",
    "Prints out the result such as :\n",
    "\n",
    "numbers = [1, 3, 7, 4, 3, 0, 3, 6, 3]\n",
    "the most frequent number was 3 and was repeated 4 times.\n",
    "\n",
    "HINTS:\n",
    "\"\"\"\n",
    "\n",
    "numbers = [1, 3, 7, 4, 3, 0, 3, 6, 3]\n",
    "\n",
    "unique = set(numbers)\n",
    "tally = {} # empty dict\n",
    "\n",
    "for n in unique:\n",
    "    tally[n] = numbers.count(n)\n",
    "        \n",
    "print(tally)\n",
    "\n",
    "max(tally.values())\n",
    "\n",
    "print(\"the most frequent number was {} and was repeated {} times\")"
   ]
  },
  {
   "cell_type": "code",
   "execution_count": null,
   "id": "5b26a359-b2c2-4f19-a2ba-e15ac8af5052",
   "metadata": {},
   "outputs": [],
   "source": []
  }
 ],
 "metadata": {
  "kernelspec": {
   "display_name": "Python 3 (ipykernel)",
   "language": "python",
   "name": "python3"
  },
  "language_info": {
   "codemirror_mode": {
    "name": "ipython",
    "version": 3
   },
   "file_extension": ".py",
   "mimetype": "text/x-python",
   "name": "python",
   "nbconvert_exporter": "python",
   "pygments_lexer": "ipython3",
   "version": "3.11.3"
  }
 },
 "nbformat": 4,
 "nbformat_minor": 5
}
