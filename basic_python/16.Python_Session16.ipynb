{
 "cells": [
  {
   "cell_type": "markdown",
   "id": "9e3e5016",
   "metadata": {
    "id": "9e3e5016"
   },
   "source": [
    "#### Clarusway Python\n",
    "\n",
    "* [Instructor Landing Page](landing_page.ipynb)\n",
    "* <a href=\"https://colab.research.google.com/github/4dsolutions/clarusway_data_analysis/blob/main/basic_python/16.Python_Session16.ipynb\"><img align=\"left\" src=\"https://colab.research.google.com/assets/colab-badge.svg\" alt=\"Open in Colab\" title=\"Open and Execute in Google Colaboratory\"></a>\n",
    "* [![nbviewer](https://raw.githubusercontent.com/jupyter/design/master/logos/Badges/nbviewer_badge.svg)](https://nbviewer.org/github/4dsolutions/clarusway_data_analysis/blob/main/basic_python/16.Python_Session16.ipynb)"
   ]
  },
  {
   "cell_type": "markdown",
   "id": "97d2a08c",
   "metadata": {
    "id": "97d2a08c"
   },
   "source": [
    "<a id=\"toc\"></a>\n",
    "\n",
    "## <p style=\"background-color:#0D8D99; font-family:newtimeroman; color:#FFF9ED; font-size:175%; text-align:center; border-radius:10px 10px;\">Python Session 16</p>"
   ]
  },
  {
   "cell_type": "markdown",
   "id": "2a056995",
   "metadata": {
    "id": "2a056995"
   },
   "source": [
    "#### <div class=\"alert alert-block alert-info\"><h1><p style=\"text-align: center; color:purple\"> Functions - Matter of Arguments<br><br>Arguments vs Parameters<br><br>Positional Arguments<br><br>Keyword Arguments<br><br>Arbitrary Number of Arguments</p> "
   ]
  },
  {
   "cell_type": "markdown",
   "id": "71e9c513",
   "metadata": {
    "id": "71e9c513"
   },
   "source": [
    "**Python official documentation 1 - Defining Functions: https://docs.python.org/3/tutorial/controlflow.html#defining-functions**\n",
    "\n",
    "**Python official documentation 2 - Default Argument Values: https://docs.python.org/3/tutorial/controlflow.html#default-argument-values** \n",
    "\n",
    "**Python official documentation 3- Keyword Arguments: https://docs.python.org/3/tutorial/controlflow.html#keyword-arguments**\n",
    "\n",
    "**Python official documentation 4- Positional or Keyword Arguments:  https://docs.python.org/3/tutorial/controlflow.html#positional-or-keyword-arguments**\n",
    "\n",
    "**Python official documentation 5- Arbitrary Argument Lists: https://docs.python.org/3/tutorial/controlflow.html#arbitrary-argument-lists**"
   ]
  },
  {
   "cell_type": "markdown",
   "id": "7ef22f13",
   "metadata": {
    "id": "7ef22f13"
   },
   "source": [
    "<a id=\"toc\"></a>\n",
    "\n",
    "## <p style=\"background-color:#0D8D99; font-family:newtimeroman; color:#FFF9ED; font-size:175%; text-align:center; border-radius:10px 10px;\">FUNCTIONS</p>"
   ]
  },
  {
   "cell_type": "markdown",
   "id": "4fb2806b",
   "metadata": {
    "id": "4fb2806b"
   },
   "source": [
    "<a id=\"toc\"></a>\n",
    "\n",
    "### <p style=\"background-color:#9d4f8c; font-family:newtimeroman; color:#FFF9ED; font-size:175%; text-align:center; border-radius:10px 10px;\">Arguments & Parameters</p>"
   ]
  },
  {
   "cell_type": "markdown",
   "id": "bb821073",
   "metadata": {
    "id": "bb821073"
   },
   "source": [
    "<a id=\"toc\"></a>\n",
    "\n",
    "### <p style=\"background-color:#9d4f8c; font-family:newtimeroman; color:#FFF9ED; font-size:175%; text-align:center; border-radius:10px 10px;\">Positional Arguments</p>"
   ]
  },
  {
   "cell_type": "code",
   "execution_count": null,
   "id": "69a6fb26",
   "metadata": {
    "id": "69a6fb26"
   },
   "outputs": [],
   "source": [
    "a = \"i\"\n",
    "b = \"love\"\n",
    "c = \"you\""
   ]
  },
  {
   "cell_type": "code",
   "execution_count": null,
   "id": "0b5310d8",
   "metadata": {
    "id": "0b5310d8"
   },
   "outputs": [],
   "source": [
    "def texter(text1, text2, text3) :\n",
    "    print(text2, text3, text1)"
   ]
  },
  {
   "cell_type": "code",
   "execution_count": null,
   "id": "66a694ce",
   "metadata": {
    "id": "66a694ce",
    "outputId": "70857aa6-14b4-49f0-ec68-3f7bb2e2ec09"
   },
   "outputs": [],
   "source": [
    "texter(c, a, b)"
   ]
  },
  {
   "cell_type": "markdown",
   "id": "495fcf8d",
   "metadata": {
    "id": "495fcf8d"
   },
   "source": [
    "<a id=\"toc\"></a>\n",
    "\n",
    "### <p style=\"background-color:#9d4f8c; font-family:newtimeroman; color:#FFF9ED; font-size:175%; text-align:center; border-radius:10px 10px;\">Keyword Arguments</p>"
   ]
  },
  {
   "cell_type": "code",
   "execution_count": null,
   "id": "32dc9277",
   "metadata": {
    "id": "32dc9277",
    "outputId": "0e238469-7a27-409e-b681-21df42b990bb"
   },
   "outputs": [],
   "source": [
    "texter(text1 = \"you\", text3 = \"love\", text2 = \"i\")"
   ]
  },
  {
   "cell_type": "code",
   "execution_count": null,
   "id": "75eb6416",
   "metadata": {
    "id": "75eb6416"
   },
   "outputs": [],
   "source": [
    "def afunction(x = \"ally\", y = 22) :\n",
    "    print(x, y, \"years old.\")"
   ]
  },
  {
   "cell_type": "code",
   "execution_count": null,
   "id": "22110d1b",
   "metadata": {
    "id": "22110d1b",
    "outputId": "91409d8f-9b08-4ae4-a87b-bcc4f6f2b916"
   },
   "outputs": [],
   "source": [
    "afunction()"
   ]
  },
  {
   "cell_type": "code",
   "execution_count": null,
   "id": "18bb3c92",
   "metadata": {
    "id": "18bb3c92",
    "outputId": "dbe72af0-3a76-4c03-dd3a-618980dbb3f8"
   },
   "outputs": [],
   "source": [
    "afunction(y = 43, x = \"kirby\")"
   ]
  },
  {
   "cell_type": "code",
   "execution_count": null,
   "id": "71c2eafa",
   "metadata": {
    "id": "71c2eafa",
    "outputId": "37d73d7f-0c74-40ef-d64b-4ebc135c8493"
   },
   "outputs": [],
   "source": [
    "afunction(\"bettt\", 40)"
   ]
  },
  {
   "cell_type": "code",
   "execution_count": null,
   "id": "dd352c7f",
   "metadata": {
    "id": "dd352c7f",
    "outputId": "d22cdb20-d2da-4910-b369-a033d2933f10"
   },
   "outputs": [],
   "source": [
    "afunction(\"samuel\")"
   ]
  },
  {
   "cell_type": "code",
   "execution_count": null,
   "id": "8e3dcd89",
   "metadata": {
    "id": "8e3dcd89",
    "outputId": "744b49b9-830d-40e7-de15-f8c00544c3ee"
   },
   "outputs": [],
   "source": [
    "afunction(33)"
   ]
  },
  {
   "cell_type": "code",
   "execution_count": null,
   "id": "5ffafb8e",
   "metadata": {
    "id": "5ffafb8e"
   },
   "outputs": [],
   "source": [
    "def parrot(voltage, state='a stiff', action='voom', type='Norwegian Blue'):\n",
    "    print(\"-- This parrot wouldn't\", action, end=' ')\n",
    "    print(\"if you put\", voltage, \"volts through it.\")\n",
    "    print(\"-- Lovely plumage, the\", type)\n",
    "    print(\"-- It's\", state, \"!\")"
   ]
  },
  {
   "cell_type": "code",
   "execution_count": null,
   "id": "79094c16",
   "metadata": {
    "id": "79094c16",
    "outputId": "7a155b58-ebc4-44e9-ce94-cdc9f8e82511"
   },
   "outputs": [],
   "source": [
    "parrot(1000)"
   ]
  },
  {
   "cell_type": "code",
   "execution_count": null,
   "id": "d2a8c015",
   "metadata": {
    "id": "d2a8c015",
    "outputId": "41812484-99b2-4add-d7f4-93c58c6c8692"
   },
   "outputs": [],
   "source": [
    "parrot(voltage = 1000000, action = \"VOOOOOOM\")"
   ]
  },
  {
   "cell_type": "code",
   "execution_count": null,
   "id": "799bbec6",
   "metadata": {
    "id": "799bbec6",
    "outputId": "56fc1f74-f85b-45fd-f9cb-25dba976b306"
   },
   "outputs": [],
   "source": [
    "parrot(action = \"VOOOOOOM\", voltage = 1000000)"
   ]
  },
  {
   "cell_type": "code",
   "execution_count": null,
   "id": "d1e061f2",
   "metadata": {
    "id": "d1e061f2"
   },
   "outputs": [],
   "source": [
    "def parrot(voltage, state='a stiff', action='voom', type='Norwegian Blue'):\n",
    "    print(\"-- This parrot wouldn't\", action, end=' ')\n",
    "    print(\"if you put\", voltage, \"volts through it.\")\n",
    "    print(\"-- Lovely plumage, the\", type)\n",
    "    print(\"-- It's\", state, \"!\")"
   ]
  },
  {
   "cell_type": "code",
   "execution_count": null,
   "id": "cc9c1f6b",
   "metadata": {
    "id": "cc9c1f6b",
    "outputId": "5da53a7b-73a2-4c38-82cf-2f1f4b8f120e"
   },
   "outputs": [],
   "source": [
    "parrot(\"A MILLION\", \"BEREFT OF LIFE\", \"JUMP\")"
   ]
  },
  {
   "cell_type": "code",
   "execution_count": null,
   "id": "01ba768b",
   "metadata": {
    "id": "01ba768b",
    "outputId": "27754730-59f6-47f4-944e-abe53b957c8a"
   },
   "outputs": [],
   "source": [
    "parrot(\"A THOUSAND\", state = \"PUSHING UP THE DAISISES\")"
   ]
  },
  {
   "cell_type": "code",
   "execution_count": null,
   "id": "754826d6",
   "metadata": {
    "id": "754826d6",
    "outputId": "2016e17a-9bdd-49f8-d642-c6266f2f8e0d"
   },
   "outputs": [],
   "source": [
    "parrot()\n",
    "\n",
    "# error! (parrot() missing 1 required positional argument: 'voltage')"
   ]
  },
  {
   "cell_type": "code",
   "execution_count": null,
   "id": "e4dc3eed",
   "metadata": {
    "id": "e4dc3eed",
    "outputId": "cf349dd7-bfb2-416a-a71e-fff47669b717"
   },
   "outputs": [],
   "source": [
    "parrot(voltage = 5, \"dead\")\n",
    "\n",
    "# error! (positional argument follows keyword argument)"
   ]
  },
  {
   "cell_type": "code",
   "execution_count": null,
   "id": "d4205391",
   "metadata": {
    "id": "d4205391"
   },
   "outputs": [],
   "source": [
    "def parrot(voltage, state='a stiff', action='voom', type='Norwegian Blue'):\n",
    "    print(\"-- This parrot wouldn't\", action, end=' ')\n",
    "    print(\"if you put\", voltage, \"volts through it.\")\n",
    "    print(\"-- Lovely plumage, the\", type)\n",
    "    print(\"-- It's\", state, \"!\")"
   ]
  },
  {
   "cell_type": "code",
   "execution_count": null,
   "id": "0e4d6d76",
   "metadata": {
    "id": "0e4d6d76",
    "outputId": "2fcfa156-4034-46d9-a9c8-ecd5e55fb8fe"
   },
   "outputs": [],
   "source": [
    "parrot(state = \"BALL\", \"a billion\")\n",
    "\n",
    "# error! (positional argument follows keyword argument)"
   ]
  },
  {
   "cell_type": "code",
   "execution_count": null,
   "id": "e0eb2e1e",
   "metadata": {
    "id": "e0eb2e1e",
    "outputId": "40021864-e0cc-4f1f-a548-5a4baec4d123"
   },
   "outputs": [],
   "source": [
    "parrot(\"a billion\", state = \"BALL\")"
   ]
  },
  {
   "cell_type": "code",
   "execution_count": null,
   "id": "13481294",
   "metadata": {
    "id": "13481294",
    "outputId": "cb972739-663d-4087-feac-eb8d7d5aadbf"
   },
   "outputs": [],
   "source": [
    "def argu(a, b = \"dünya\", c, d =\"saturn\") :\n",
    "    print(a, b, c,  d, sep =\"\\n\")\n",
    "    \n",
    "# error! (non-default argument follows default argument)"
   ]
  },
  {
   "cell_type": "code",
   "execution_count": null,
   "id": "01759c9a",
   "metadata": {
    "id": "01759c9a"
   },
   "outputs": [],
   "source": [
    "def argu(a, c, d =\"saturn\",  b = \"dünya\") :\n",
    "    print(a, b, c,  d, sep =\"\\n\")"
   ]
  },
  {
   "cell_type": "code",
   "execution_count": null,
   "id": "a9093987",
   "metadata": {
    "id": "a9093987",
    "outputId": "024b92c6-4d12-4a4a-d6bd-5a6aa9fe8f26"
   },
   "outputs": [],
   "source": [
    "argu()\n",
    "\n",
    "# error! (argu() missing 2 required positional arguments: 'a' and 'c')"
   ]
  },
  {
   "cell_type": "code",
   "execution_count": null,
   "id": "5cba41ff",
   "metadata": {
    "id": "5cba41ff",
    "outputId": "2cc7f92e-2512-4625-b35b-afc9d6bc9efd"
   },
   "outputs": [],
   "source": [
    "argu(\"uranus\", \"jupyter\")"
   ]
  },
  {
   "cell_type": "code",
   "execution_count": null,
   "id": "7c48c0a6",
   "metadata": {
    "id": "7c48c0a6",
    "outputId": "90f78144-37fa-4cef-c937-67778083f16b"
   },
   "outputs": [],
   "source": [
    "argu(a = \"uranus\", c = \"jupyter\")"
   ]
  },
  {
   "cell_type": "code",
   "execution_count": null,
   "id": "ca64a4f2",
   "metadata": {
    "id": "ca64a4f2"
   },
   "outputs": [],
   "source": [
    "def argu(a, c, d =\"saturn\",  b = \"earth\") :\n",
    "    print(a, b, c,  d, sep =\"\\n\")"
   ]
  },
  {
   "cell_type": "code",
   "execution_count": null,
   "id": "141290ef",
   "metadata": {
    "id": "141290ef",
    "outputId": "4523eb34-6399-42c6-b8e5-0fead23d6dbf"
   },
   "outputs": [],
   "source": [
    "argu(c = \"uranus\", a = \"jupyter\")"
   ]
  },
  {
   "cell_type": "code",
   "execution_count": null,
   "id": "47828c6a",
   "metadata": {
    "id": "47828c6a",
    "outputId": "6b66b319-c4dd-4535-ff8d-1c119a1c63ad"
   },
   "outputs": [],
   "source": [
    "argu(\"pluto\", c = \"venus\", \"mars\")\n",
    "\n",
    "# error! (positional argument follows keyword argument)"
   ]
  },
  {
   "cell_type": "code",
   "execution_count": null,
   "id": "5bc54651",
   "metadata": {
    "id": "5bc54651",
    "outputId": "ffa075d7-441e-4228-8c0a-b68ce8c6a44a"
   },
   "outputs": [],
   "source": [
    "argu(\"pluto\", \"mars\", c = \"venus\")\n",
    "\n",
    "# error! (argu() got multiple values for argument 'c')"
   ]
  },
  {
   "cell_type": "code",
   "execution_count": null,
   "id": "c21b7018",
   "metadata": {
    "id": "c21b7018"
   },
   "outputs": [],
   "source": [
    "def argu(a, c, d =\"saturn\",  b = \"earth\") :\n",
    "    print(a, b, c,  d, sep =\"\\n\")"
   ]
  },
  {
   "cell_type": "code",
   "execution_count": null,
   "id": "acaebb77",
   "metadata": {
    "id": "acaebb77",
    "outputId": "78b2627d-e596-4d08-c907-697d1003dddb"
   },
   "outputs": [],
   "source": [
    "argu(d = \"sun\", a = \"earth\", c = \"pluto\", b = \"venus\")"
   ]
  },
  {
   "cell_type": "code",
   "execution_count": null,
   "id": "491e46b8",
   "metadata": {
    "id": "491e46b8",
    "outputId": "272e5965-04f8-4508-e91c-695598dd237e"
   },
   "outputs": [],
   "source": [
    "argu(\"sun\", \"earth\", \"pluto\", \"venus\")"
   ]
  },
  {
   "cell_type": "code",
   "execution_count": null,
   "id": "ea823140",
   "metadata": {
    "id": "ea823140"
   },
   "outputs": [],
   "source": [
    "def function(x, y) :\n",
    "    print(x, y, \"years old.\")"
   ]
  },
  {
   "cell_type": "code",
   "execution_count": null,
   "id": "05c52c67",
   "metadata": {
    "id": "05c52c67",
    "outputId": "6fee0d7e-38f0-47a9-a101-d96963c36df1"
   },
   "outputs": [],
   "source": [
    "function(x = \"ally\", y = 33)"
   ]
  },
  {
   "cell_type": "code",
   "execution_count": null,
   "id": "4723aec5",
   "metadata": {
    "id": "4723aec5",
    "outputId": "35266d7c-6056-4d95-a3dc-ad8aa9942953"
   },
   "outputs": [],
   "source": [
    "function(y = 33, x = \"ally\")"
   ]
  },
  {
   "cell_type": "markdown",
   "id": "b9d6bf74",
   "metadata": {
    "id": "b9d6bf74"
   },
   "source": [
    "<a id=\"toc\"></a>\n",
    "\n",
    "### <p style=\"background-color:#9d4f8c; font-family:newtimeroman; color:#FFF9ED; font-size:175%; text-align:center; border-radius:10px 10px;\">Arbitrary Number of Arguments</p>"
   ]
  },
  {
   "cell_type": "markdown",
   "id": "b4492cc6",
   "metadata": {
    "id": "b4492cc6"
   },
   "source": [
    "## *args"
   ]
  },
  {
   "cell_type": "code",
   "execution_count": null,
   "id": "0d28fdad",
   "metadata": {
    "id": "0d28fdad",
    "outputId": "d25dfb16-d6f2-483e-804c-12c1a46eaefd"
   },
   "outputs": [],
   "source": [
    "def fruiterer(*fruit) :\n",
    "    for i in fruit :\n",
    "        print(i, end = \" \")\n",
    "        \n",
    "fruiterer(\"orange\", \"banana\", \"melon\", \"ananas\")"
   ]
  },
  {
   "cell_type": "code",
   "execution_count": null,
   "id": "b294c801",
   "metadata": {
    "id": "b294c801",
    "outputId": "0ca3eedd-1c87-4104-c7b0-b1517f8f57f7"
   },
   "outputs": [],
   "source": [
    "def fruiterer(*fruit) :\n",
    "    print(type(fruit))\n",
    "        \n",
    "fruiterer(\"orange\", \"banana\", \"melon\", \"ananas\")"
   ]
  },
  {
   "cell_type": "code",
   "execution_count": null,
   "id": "65c2bdcb",
   "metadata": {
    "id": "65c2bdcb",
    "outputId": "747fa357-63b8-4298-9289-b8253ef2ac7b"
   },
   "outputs": [],
   "source": [
    "\"orange\", \"banana\", \"melon\", \"ananas\""
   ]
  },
  {
   "cell_type": "code",
   "execution_count": null,
   "id": "1ed43f01",
   "metadata": {
    "id": "1ed43f01"
   },
   "outputs": [],
   "source": [
    "def slicer(* num) :\n",
    "    evens = []\n",
    "    odds = []\n",
    "    \n",
    "    for i in num :\n",
    "        if i % 2 == 0 :\n",
    "            evens.append(i)\n",
    "        else :\n",
    "            odds.append(i)\n",
    "\n",
    "    print(\"even list :\", evens)\n",
    "    print(\"odds list :\", odds)"
   ]
  },
  {
   "cell_type": "code",
   "execution_count": null,
   "id": "d38e74df",
   "metadata": {
    "id": "d38e74df",
    "outputId": "cbf50fb8-7ed4-4bb2-e878-b87536313745"
   },
   "outputs": [],
   "source": [
    "slicer(1, 2, 3, 4, 5, 6, 7, 8, 9, 10, 11, 12, 13)"
   ]
  },
  {
   "cell_type": "code",
   "execution_count": null,
   "id": "524b35a3",
   "metadata": {
    "id": "524b35a3"
   },
   "outputs": [],
   "source": [
    "def slicer(* numbers) :\n",
    "    evens = [numbers[1::2]]\n",
    "    odds = [numbers[0::2]]\n",
    "    print(\"odd list = \", odds)\n",
    "    print(\"even list = \", evens)"
   ]
  },
  {
   "cell_type": "code",
   "execution_count": null,
   "id": "2b646813",
   "metadata": {
    "id": "2b646813",
    "outputId": "68f91ea8-d7bf-45a5-c4d2-7f0efb1d8c98"
   },
   "outputs": [],
   "source": [
    "slicer(1,2,3,4,5,6,7,8,9)"
   ]
  },
  {
   "cell_type": "code",
   "execution_count": null,
   "id": "9a823f5c",
   "metadata": {
    "id": "9a823f5c",
    "outputId": "08d25a4c-8791-4584-96d9-63b7f3f8902e"
   },
   "outputs": [],
   "source": [
    "1,2,3,4,5,6,7,8,9"
   ]
  },
  {
   "cell_type": "code",
   "execution_count": null,
   "id": "02d516d4",
   "metadata": {
    "id": "02d516d4"
   },
   "outputs": [],
   "source": [
    "def slicer(*num) :\n",
    "    print(\"evens :\", [ i for i in num if i % 2 == 0])\n",
    "    \n",
    "    print(\"odds :\", [i for i in num if not i % 2 == 0])"
   ]
  },
  {
   "cell_type": "code",
   "execution_count": null,
   "id": "435054a0",
   "metadata": {
    "id": "435054a0",
    "outputId": "b19c65dc-2c42-49e2-92c6-658da35c5ad9"
   },
   "outputs": [],
   "source": [
    "slicer(1,2,3,4,5,6,7,8,9)"
   ]
  },
  {
   "cell_type": "code",
   "execution_count": null,
   "id": "308e8bba",
   "metadata": {
    "id": "308e8bba"
   },
   "outputs": [],
   "source": [
    "def slicer(*num) :\n",
    "    print(\"odds :\", [ i for i in num if i % 2])\n",
    "    \n",
    "    print(\"evens :\", [i for i in num if not i % 2])"
   ]
  },
  {
   "cell_type": "code",
   "execution_count": null,
   "id": "9e9831e1",
   "metadata": {
    "id": "9e9831e1",
    "outputId": "ff856bb4-e43b-47aa-a53e-5590267fbf4c"
   },
   "outputs": [],
   "source": [
    "slicer(1,2,3,4,5,6,7,8,9)"
   ]
  },
  {
   "cell_type": "markdown",
   "id": "f52021a0",
   "metadata": {
    "id": "f52021a0"
   },
   "source": [
    "## **kwargs"
   ]
  },
  {
   "cell_type": "code",
   "execution_count": null,
   "id": "9ee83d74",
   "metadata": {
    "id": "9ee83d74"
   },
   "outputs": [],
   "source": [
    "def organizer(** people) :\n",
    "    \n",
    "    names = []\n",
    "    ages = []\n",
    "    \n",
    "    for keys, values in people.items() :\n",
    "        names.append(keys)\n",
    "        ages.append(values)\n",
    "        \n",
    "    print(names, ages, sep = \"\\n\")\n",
    "        "
   ]
  },
  {
   "cell_type": "code",
   "execution_count": null,
   "id": "dc0c877b",
   "metadata": {
    "id": "dc0c877b",
    "outputId": "dcf7d6c1-afcc-49e5-e365-fbc332f24c70"
   },
   "outputs": [],
   "source": [
    "organizer(Ally = 34, Kirby = 28, Betty = 40, Samuel = 19)"
   ]
  },
  {
   "cell_type": "code",
   "execution_count": null,
   "id": "555e2ebe",
   "metadata": {
    "id": "555e2ebe",
    "outputId": "b3a2818d-f654-40fa-acc1-510f3c665f10"
   },
   "outputs": [],
   "source": [
    "dict(Ally = 34, Kirby = 28, Betty = 40, Samuel = 19)"
   ]
  },
  {
   "cell_type": "code",
   "execution_count": null,
   "id": "d8dc50b0",
   "metadata": {
    "id": "d8dc50b0"
   },
   "outputs": [],
   "source": [
    "def organizer( ** data) :\n",
    "    names = [i for i in data.keys()]\n",
    "    ages = [i for i in data.values()]\n",
    "    \n",
    "    print(\"names:\", names)\n",
    "    print(\"ages:\", ages)"
   ]
  },
  {
   "cell_type": "code",
   "execution_count": null,
   "id": "71cd3f70",
   "metadata": {
    "id": "71cd3f70",
    "outputId": "3e355ca9-f619-409b-af6d-4314a8b529f4"
   },
   "outputs": [],
   "source": [
    "organizer(Ally = 34, Kirby = 28, Betty = 40, Samuel = 19)"
   ]
  },
  {
   "cell_type": "markdown",
   "id": "a8ecd068",
   "metadata": {
    "id": "a8ecd068"
   },
   "source": [
    "# filter() built-in function"
   ]
  },
  {
   "cell_type": "code",
   "execution_count": null,
   "id": "69440ec2",
   "metadata": {
    "id": "69440ec2"
   },
   "outputs": [],
   "source": [
    "filter()"
   ]
  },
  {
   "cell_type": "code",
   "execution_count": null,
   "id": "42cbc4c9",
   "metadata": {
    "id": "42cbc4c9"
   },
   "outputs": [],
   "source": [
    "sentence = \"I find peace when I teach you. I forget my troubles.\""
   ]
  },
  {
   "cell_type": "code",
   "execution_count": null,
   "id": "38835ad9",
   "metadata": {
    "id": "38835ad9"
   },
   "outputs": [],
   "source": [
    "def vowel(letter) :\n",
    "    vowels = \"a e u i o ü ö ı\".split()\n",
    "    if letter.lower() in vowels :\n",
    "        return True\n",
    "    else:\n",
    "        return False"
   ]
  },
  {
   "cell_type": "code",
   "execution_count": null,
   "id": "9e831b22",
   "metadata": {
    "id": "9e831b22",
    "outputId": "d6df0663-c016-4f60-d4f7-e08a4d59a2c9"
   },
   "outputs": [],
   "source": [
    "filter(vowel, sentence)"
   ]
  },
  {
   "cell_type": "code",
   "execution_count": null,
   "id": "1e40e815",
   "metadata": {
    "id": "1e40e815"
   },
   "outputs": [],
   "source": [
    "filtered_vowels = filter(vowel, sentence)"
   ]
  },
  {
   "cell_type": "code",
   "execution_count": null,
   "id": "68a2de5e",
   "metadata": {
    "id": "68a2de5e",
    "outputId": "7184b9cf-4545-44da-9c82-dcc649938169"
   },
   "outputs": [],
   "source": [
    "print(list(filtered_vowels))"
   ]
  },
  {
   "cell_type": "code",
   "execution_count": null,
   "id": "755a6559",
   "metadata": {
    "id": "755a6559"
   },
   "outputs": [],
   "source": [
    "filtered_vowels = filter(vowel, sentence)"
   ]
  },
  {
   "cell_type": "code",
   "execution_count": null,
   "id": "b3a7d2c2",
   "metadata": {
    "id": "b3a7d2c2",
    "outputId": "71ebf2c0-3632-4434-b062-68805afefc80"
   },
   "outputs": [],
   "source": [
    "print(*filtered_vowels)"
   ]
  },
  {
   "cell_type": "code",
   "execution_count": null,
   "id": "dcdfaddd",
   "metadata": {
    "id": "dcdfaddd",
    "outputId": "0a89d4a6-d5b2-43be-96d9-77e37c245648"
   },
   "outputs": [],
   "source": [
    "filtered_vowels = filter(vowel, sentence)\n",
    "\n",
    "print(*(filter(None, sentence)))\n",
    "\n",
    "# Return an iterator yielding those items of iterable for which function(item)\n",
    "# is true. If function is None, return the items that are true."
   ]
  },
  {
   "cell_type": "markdown",
   "id": "3c117c1b",
   "metadata": {
    "id": "3c117c1b"
   },
   "source": [
    "# map() built-in function"
   ]
  },
  {
   "cell_type": "code",
   "execution_count": null,
   "id": "d3b12561",
   "metadata": {
    "id": "d3b12561"
   },
   "outputs": [],
   "source": [
    "mylist = [1,2,3,4]\n",
    "\n",
    "def square(x) :\n",
    "    return x ** 2"
   ]
  },
  {
   "cell_type": "code",
   "execution_count": null,
   "id": "37a50882",
   "metadata": {
    "id": "37a50882",
    "outputId": "501bccf7-b64a-4ca7-dfa6-dc599db686a9"
   },
   "outputs": [],
   "source": [
    "mylist = [1,2,3,4]\n",
    "new_list = []\n",
    "\n",
    "for i in mylist :\n",
    "    new_list.append(square(i))\n",
    "print(new_list)"
   ]
  },
  {
   "cell_type": "code",
   "execution_count": null,
   "id": "8e2507f3",
   "metadata": {
    "id": "8e2507f3",
    "outputId": "1d575253-de4f-40ae-8bb1-5a73255dd5aa"
   },
   "outputs": [],
   "source": [
    "map(square, mylist)"
   ]
  },
  {
   "cell_type": "code",
   "execution_count": null,
   "id": "79659b2a",
   "metadata": {
    "id": "79659b2a",
    "outputId": "6f5f6fe3-fab9-442a-ef80-1a5186e9a94c"
   },
   "outputs": [],
   "source": [
    "list(map(square, mylist))"
   ]
  }
 ],
 "metadata": {
  "colab": {
   "provenance": []
  },
  "kernelspec": {
   "display_name": "Python 3 (ipykernel)",
   "language": "python",
   "name": "python3"
  },
  "language_info": {
   "codemirror_mode": {
    "name": "ipython",
    "version": 3
   },
   "file_extension": ".py",
   "mimetype": "text/x-python",
   "name": "python",
   "nbconvert_exporter": "python",
   "pygments_lexer": "ipython3",
   "version": "3.11.3"
  }
 },
 "nbformat": 4,
 "nbformat_minor": 5
}
