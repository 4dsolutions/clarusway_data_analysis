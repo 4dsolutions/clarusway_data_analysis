{
 "cells": [
  {
   "cell_type": "markdown",
   "id": "bdr9O76F3Y8O",
   "metadata": {
    "id": "bdr9O76F3Y8O"
   },
   "source": [
    "#### Clarusway Python\n",
    "\n",
    "* [Instructor Landing Page](landing_page.ipynb)\n",
    "* <a href=\"https://colab.research.google.com/github/4dsolutions/clarusway_data_analysis/blob/main/basic_python/10.Python_Session10.ipynb\"><img align=\"left\" src=\"https://colab.research.google.com/assets/colab-badge.svg\" alt=\"Open in Colab\" title=\"Open and Execute in Google Colaboratory\"></a>\n",
    "* [![nbviewer](https://raw.githubusercontent.com/jupyter/design/master/logos/Badges/nbviewer_badge.svg)](https://nbviewer.org/github/4dsolutions/clarusway_data_analysis/blob/main/basic_python/10.Python_Session10.ipynb)"
   ]
  },
  {
   "cell_type": "markdown",
   "id": "97d2a08c",
   "metadata": {
    "id": "97d2a08c"
   },
   "source": [
    "<a id=\"toc\"></a>\n",
    "\n",
    "## <p style=\"background-color:#0D8D99; font-family:newtimeroman; color:#FFF9ED; font-size:175%; text-align:center; border-radius:10px 10px;\">Python Session 10</p>"
   ]
  },
  {
   "cell_type": "markdown",
   "id": "93bf8f83",
   "metadata": {
    "id": "93bf8f83"
   },
   "source": [
    "#### <div class=\"alert alert-block alert-info\"><h1><p style=\"text-align: center; color:purple\">Sets<br><br>Definition&Creating a Set<br><br>Main Operations with Sets<br><br>Control Flow Statements<br><br>Conditional Statements - IF Statements<br><br>Comparision Operators</p>"
   ]
  },
  {
   "cell_type": "markdown",
   "id": "ab0f9c4f",
   "metadata": {
    "id": "ab0f9c4f"
   },
   "source": [
    "<a id=\"toc\"></a>\n",
    "\n",
    "# <p style=\"background-color:#9d4f8c; font-family:newtimeroman; color:#FFF9ED; font-size:175%; text-align:center; border-radius:10px 10px;\">Sets</p>"
   ]
  },
  {
   "cell_type": "markdown",
   "id": "608d939d",
   "metadata": {
    "id": "608d939d"
   },
   "source": [
    "<a id=\"toc\"></a>\n",
    "\n",
    "## <p style=\"background-color:#9d4f8c; font-family:newtimeroman; color:#FFF9ED; font-size:175%; text-align:center; border-radius:10px 10px;\">Definition&Creating a Set</p>"
   ]
  },
  {
   "cell_type": "markdown",
   "id": "f9cab19f",
   "metadata": {
    "id": "f9cab19f"
   },
   "source": [
    "**Python documantation - Sets : https://docs.python.org/3/tutorial/datastructures.html#sets**\n",
    "\n",
    "**Link 2: https://www.w3schools.com/python/python_sets.asp**"
   ]
  },
  {
   "cell_type": "code",
   "execution_count": null,
   "id": "a49ac13c",
   "metadata": {
    "id": "a49ac13c",
    "outputId": "4844ee31-e0a4-461b-b9be-58ffdd9dc636"
   },
   "outputs": [],
   "source": [
    "colors = \"red\", \"blue\", \"pink\", \"red\", \"white\", \"blue\", \"purple\"\n",
    "\n",
    "set_1 = set(colors)\n",
    "\n",
    "set_1"
   ]
  },
  {
   "cell_type": "code",
   "execution_count": null,
   "id": "f5328770",
   "metadata": {
    "id": "f5328770",
    "outputId": "4ba42536-bea6-4877-e94d-4ec4503b6a46"
   },
   "outputs": [],
   "source": [
    "curly_braces = {}\n",
    "\n",
    "print(curly_braces)\n",
    "\n",
    "print(type(curly_braces))"
   ]
  },
  {
   "cell_type": "code",
   "execution_count": null,
   "id": "024840fb",
   "metadata": {
    "id": "024840fb",
    "outputId": "fe5ba17c-2f01-4038-e381-7a07ef402ec4"
   },
   "outputs": [],
   "source": [
    "print(type(set()))"
   ]
  },
  {
   "cell_type": "code",
   "execution_count": null,
   "id": "b3e90c60",
   "metadata": {
    "id": "b3e90c60",
    "outputId": "06439e51-cb32-45b1-e087-9b993f85077b"
   },
   "outputs": [],
   "source": [
    "first_set = {1, 1, 2, 0, 1}\n",
    "first_set"
   ]
  },
  {
   "cell_type": "code",
   "execution_count": null,
   "id": "0d970d80",
   "metadata": {
    "id": "0d970d80",
    "outputId": "bf871f49-2eb9-439d-8059-a7d34e05361a"
   },
   "outputs": [],
   "source": [
    "len([1, 1, 2, 0, 1])"
   ]
  },
  {
   "cell_type": "code",
   "execution_count": null,
   "id": "5ae0710d",
   "metadata": {
    "id": "5ae0710d",
    "outputId": "7e692af8-b4d2-4afb-9370-6c8bbab01e91"
   },
   "outputs": [],
   "source": [
    "len({1, 1, 2, 0, 1})"
   ]
  },
  {
   "cell_type": "code",
   "execution_count": null,
   "id": "6f55ab9d",
   "metadata": {
    "id": "6f55ab9d",
    "outputId": "15b5a1e3-2638-42b4-e406-49cbc219c7f6"
   },
   "outputs": [],
   "source": [
    "{1, 1, 2, 0, 1, 1, 1, 1, 1}"
   ]
  },
  {
   "cell_type": "code",
   "execution_count": null,
   "id": "ea2546e1",
   "metadata": {
    "id": "ea2546e1",
    "outputId": "126a3700-6f64-40db-cbc4-7abc9536d194"
   },
   "outputs": [],
   "source": [
    "letters = \"a b c d e f g h i j k l m n o p q r s t u v x w y z\".split()\n",
    "\n",
    "print(letters)"
   ]
  },
  {
   "cell_type": "code",
   "execution_count": null,
   "id": "4439a7da",
   "metadata": {
    "id": "4439a7da",
    "outputId": "219dde87-45d5-494e-a648-c159319e8ba6"
   },
   "outputs": [],
   "source": [
    "print(set(letters))"
   ]
  },
  {
   "cell_type": "code",
   "execution_count": null,
   "id": "7658a899",
   "metadata": {
    "id": "7658a899",
    "outputId": "1d6219fd-0f46-4caf-a9d5-ca20f5141c7a"
   },
   "outputs": [],
   "source": [
    "print(set(letters))"
   ]
  },
  {
   "cell_type": "code",
   "execution_count": null,
   "id": "6cbf80e1",
   "metadata": {
    "id": "6cbf80e1",
    "outputId": "2dc5c36c-a1a6-4e63-87a9-04a3cf871d28"
   },
   "outputs": [],
   "source": [
    "same_values = {1, \"1\", 1.0}\n",
    "\n",
    "len(same_values)"
   ]
  },
  {
   "cell_type": "code",
   "execution_count": null,
   "id": "f9b841c6",
   "metadata": {
    "id": "f9b841c6",
    "outputId": "d3cebc6b-67d6-4eeb-a5d1-a51b748a1ee2"
   },
   "outputs": [],
   "source": [
    "1 == 1.0"
   ]
  },
  {
   "cell_type": "code",
   "execution_count": null,
   "id": "dc196751",
   "metadata": {
    "id": "dc196751"
   },
   "outputs": [],
   "source": [
    "given_list = [1, 2, 3, 4, 5]"
   ]
  },
  {
   "cell_type": "code",
   "execution_count": null,
   "id": "3187d90d",
   "metadata": {
    "id": "3187d90d",
    "outputId": "14130f90-4f64-480e-d424-4f030ceeb4d1"
   },
   "outputs": [],
   "source": [
    "our_set = {given_list}\n",
    "\n",
    "# error! (unhashable type: 'list')"
   ]
  },
  {
   "cell_type": "code",
   "execution_count": null,
   "id": "c0a52ec6",
   "metadata": {
    "id": "c0a52ec6",
    "outputId": "054389e3-c674-4676-aa86-df0e11f912cf"
   },
   "outputs": [],
   "source": [
    "set((1,2,3,4,5))"
   ]
  },
  {
   "cell_type": "code",
   "execution_count": null,
   "id": "8443819e",
   "metadata": {
    "id": "8443819e",
    "outputId": "c188c37f-06f7-4cdd-d50b-e928fc3dcac6"
   },
   "outputs": [],
   "source": [
    "my_list = [[1, 2, 3], \"a\", 6, 3.14]\n",
    "\n",
    "my_set = set(my_list)\n",
    "my_set\n",
    "\n",
    "# error! (unhashable type: 'list')"
   ]
  },
  {
   "cell_type": "code",
   "execution_count": null,
   "id": "39cd5b91",
   "metadata": {
    "id": "39cd5b91",
    "outputId": "b15c68b6-625c-424f-85a9-6cbf04338458"
   },
   "outputs": [],
   "source": [
    "{  [1, \"bir\"], \"ali\", \"deli\" }\n",
    "\n",
    "# error! (unhashable type: 'list')"
   ]
  },
  {
   "cell_type": "code",
   "execution_count": null,
   "id": "aac292fb",
   "metadata": {
    "id": "aac292fb",
    "outputId": "4a0b41d0-717a-4583-9a21-334a336cfff6"
   },
   "outputs": [],
   "source": [
    "{ {1: \"bir\"}, 2, 3 }\n",
    "\n",
    "# error! (unhashable type: 'dict')"
   ]
  },
  {
   "cell_type": "code",
   "execution_count": null,
   "id": "84f860cb",
   "metadata": {
    "id": "84f860cb",
    "outputId": "494d8394-3c3b-4899-ccd7-4ad2b04b6d73"
   },
   "outputs": [],
   "source": [
    "{ 1, 2, {\"ali\", \"veli\", 3, 4} }\n",
    "\n",
    "# error! (unhashable type: 'set')"
   ]
  },
  {
   "cell_type": "code",
   "execution_count": null,
   "id": "deb62934",
   "metadata": {
    "id": "deb62934",
    "outputId": "1ed9abac-9514-4d1a-e144-a553b68fa295"
   },
   "outputs": [],
   "source": [
    "tuple_set = { 1, 2, (3, 4) }\n",
    "\n",
    "tuple_set"
   ]
  },
  {
   "cell_type": "markdown",
   "id": "eb7afbbe",
   "metadata": {
    "id": "eb7afbbe"
   },
   "source": [
    "<a id=\"toc\"></a>\n",
    "\n",
    "## <p style=\"background-color:#9d4f8c; font-family:newtimeroman; color:#FFF9ED; font-size:175%; text-align:center; border-radius:10px 10px;\">Main Operations with Sets</p>"
   ]
  },
  {
   "cell_type": "markdown",
   "id": "be2b46e0",
   "metadata": {
    "id": "be2b46e0"
   },
   "source": [
    "**Link 1: https://learnpython.com/blog/python-set-operations/**\n",
    "\n",
    "**Link 2: https://www.programiz.com/python-programming/set**"
   ]
  },
  {
   "cell_type": "markdown",
   "id": "9b21c636",
   "metadata": {
    "id": "9b21c636"
   },
   "source": [
    "![python.exe](https://drive.google.com/uc?id=1dsMO1eSZYTWJtaByBuGAandIGoAhKtPg)"
   ]
  },
  {
   "cell_type": "code",
   "execution_count": null,
   "id": "32471f2f",
   "metadata": {
    "id": "32471f2f"
   },
   "outputs": [],
   "source": [
    "a = {'carnation', 'orchid', 'rose', 'violet'}\n",
    "\n",
    "b = {'rose', 'orchid', 'rose', 'violet', 'carnation'}"
   ]
  },
  {
   "cell_type": "code",
   "execution_count": null,
   "id": "6d867aee",
   "metadata": {
    "id": "6d867aee",
    "outputId": "3637d0e4-214c-45e8-b45c-f322c648c24f"
   },
   "outputs": [],
   "source": [
    "a"
   ]
  },
  {
   "cell_type": "code",
   "execution_count": null,
   "id": "e9c97698",
   "metadata": {
    "id": "e9c97698",
    "outputId": "7276ee8a-8b18-4611-96af-23b06593887c"
   },
   "outputs": [],
   "source": [
    "b"
   ]
  },
  {
   "cell_type": "code",
   "execution_count": null,
   "id": "a8b35bab",
   "metadata": {
    "id": "a8b35bab",
    "outputId": "61b8631a-6afc-4905-fca3-eebe3fbfc8fa"
   },
   "outputs": [],
   "source": [
    "a.add(\"lily\")\n",
    "\n",
    "a"
   ]
  },
  {
   "cell_type": "code",
   "execution_count": null,
   "id": "61a233d7",
   "metadata": {
    "id": "61a233d7",
    "outputId": "f436c052-3004-448f-856b-04da292a534c"
   },
   "outputs": [],
   "source": [
    "a.remove(\"rose\")\n",
    "\n",
    "a"
   ]
  },
  {
   "cell_type": "code",
   "execution_count": null,
   "id": "c9090019",
   "metadata": {
    "id": "c9090019"
   },
   "outputs": [],
   "source": [
    "a = set('philadelphia')\n",
    "b = set('dolphin') "
   ]
  },
  {
   "cell_type": "code",
   "execution_count": null,
   "id": "51519308",
   "metadata": {
    "id": "51519308",
    "outputId": "adbcd84b-9a68-4c7f-c32e-c7e91c4955f0"
   },
   "outputs": [],
   "source": [
    "print(a - b)\n",
    "print(a.difference(b))"
   ]
  },
  {
   "cell_type": "code",
   "execution_count": null,
   "id": "4c287bd4",
   "metadata": {
    "id": "4c287bd4",
    "outputId": "727929b1-019a-462e-e796-2e8ebb6e65c5"
   },
   "outputs": [],
   "source": [
    "print(b - a)\n",
    "print(b.difference(a))"
   ]
  },
  {
   "cell_type": "code",
   "execution_count": null,
   "id": "8e810fb5",
   "metadata": {
    "id": "8e810fb5",
    "outputId": "9482e2fa-724c-4399-9720-a6dcae582d51"
   },
   "outputs": [],
   "source": [
    "print(a | b)\n",
    "print(a.union(b))"
   ]
  },
  {
   "cell_type": "code",
   "execution_count": null,
   "id": "ccf70f5f",
   "metadata": {
    "id": "ccf70f5f",
    "outputId": "bdac5da6-1565-4836-8f77-8dc896aee34d"
   },
   "outputs": [],
   "source": [
    "print(a & b)\n",
    "print(a.intersection(b))"
   ]
  },
  {
   "cell_type": "code",
   "execution_count": null,
   "id": "5077b69d",
   "metadata": {
    "id": "5077b69d"
   },
   "outputs": [],
   "source": [
    "date1 = set('10/26/2022')\n",
    "date2 = {'10/26/2022'}"
   ]
  },
  {
   "cell_type": "code",
   "execution_count": null,
   "id": "6849b883",
   "metadata": {
    "id": "6849b883",
    "outputId": "fc7280fc-6dd7-4857-db3f-87bf0b6acf64"
   },
   "outputs": [],
   "source": [
    "date1"
   ]
  },
  {
   "cell_type": "code",
   "execution_count": null,
   "id": "4e6c9029",
   "metadata": {
    "id": "4e6c9029",
    "outputId": "31b4c842-4873-495c-895d-93092dd7337e"
   },
   "outputs": [],
   "source": [
    "date2"
   ]
  },
  {
   "cell_type": "code",
   "execution_count": null,
   "id": "ca081ad4",
   "metadata": {
    "id": "ca081ad4",
    "outputId": "150ab96c-f67c-4835-a943-2ef49e43ab48"
   },
   "outputs": [],
   "source": [
    "date1 = set('03/21/2023')\n",
    "date2 = {'03/21/2023'}\n",
    "print(date1)\n",
    "print(date2)"
   ]
  },
  {
   "cell_type": "code",
   "execution_count": null,
   "id": "e1a7492d",
   "metadata": {
    "id": "e1a7492d",
    "outputId": "b21f9558-f180-438e-ce21-515ec46417bb"
   },
   "outputs": [],
   "source": [
    "k1 = set([1, 2, 3])\n",
    "\n",
    "k2 = set([1, 3, 5])\n",
    "\n",
    "k1.difference_update(k2)\n",
    "\n",
    "print(k1)"
   ]
  },
  {
   "cell_type": "code",
   "execution_count": null,
   "id": "b661a560",
   "metadata": {
    "id": "b661a560",
    "outputId": "71288a61-d059-4d93-8e86-0983a77f98b7"
   },
   "outputs": [],
   "source": [
    "animals = set([\"cat\", \"dog\", \"horse\", \"bird\", \"cow\", \"camel\"])\n",
    "\n",
    "animals.discard(\"cat\")\n",
    "\n",
    "print(animals)"
   ]
  },
  {
   "cell_type": "code",
   "execution_count": null,
   "id": "e2785cc9",
   "metadata": {
    "id": "e2785cc9",
    "outputId": "aa775d2b-3521-4fc1-8f37-c76dfd991da4"
   },
   "outputs": [],
   "source": [
    "animals.remove(\"dog\")\n",
    "\n",
    "animals"
   ]
  },
  {
   "cell_type": "markdown",
   "id": "2f9092fa",
   "metadata": {
    "id": "2f9092fa"
   },
   "source": [
    "<a id=\"toc\"></a>\n",
    "\n",
    "# <p style=\"background-color:#9d4f8c; font-family:newtimeroman; color:#FFF9ED; font-size:175%; text-align:center; border-radius:10px 10px;\">Control Flow Statements</p>"
   ]
  },
  {
   "cell_type": "markdown",
   "id": "2aab5c0f",
   "metadata": {
    "id": "2aab5c0f"
   },
   "source": [
    "<a id=\"toc\"></a>\n",
    "\n",
    "## <p style=\"background-color:#9d4f8c; font-family:newtimeroman; color:#FFF9ED; font-size:175%; text-align:center; border-radius:10px 10px;\">Conditional Statements - IF Statements</p>"
   ]
  },
  {
   "cell_type": "markdown",
   "id": "f52db9f0",
   "metadata": {
    "id": "f52db9f0"
   },
   "source": [
    "**python documentation - IF Statements: https://docs.python.org/3/tutorial/controlflow.html#if-statements**\n",
    "\n",
    "**python documentation - More on Conditions: https://docs.python.org/3/tutorial/datastructures.html#more-on-conditions**"
   ]
  },
  {
   "cell_type": "markdown",
   "id": "30b7bba7",
   "metadata": {
    "id": "30b7bba7"
   },
   "source": [
    "![python.exe](https://drive.google.com/uc?id=1d04LV5svbASslgAJmiDv4CN59EN-x8fs)"
   ]
  },
  {
   "cell_type": "code",
   "execution_count": null,
   "id": "7182cb3b",
   "metadata": {
    "id": "7182cb3b"
   },
   "outputs": [],
   "source": [
    "numbers = [1, 2, 3, 4, 5]"
   ]
  },
  {
   "cell_type": "code",
   "execution_count": null,
   "id": "fbf94644",
   "metadata": {
    "id": "fbf94644",
    "outputId": "f857649e-b93a-47ed-fffb-da222aec7843"
   },
   "outputs": [],
   "source": [
    "print(numbers[0])"
   ]
  },
  {
   "cell_type": "code",
   "execution_count": null,
   "id": "883a6fca",
   "metadata": {
    "id": "883a6fca",
    "outputId": "68c0bf0d-317b-4ce6-eab9-c57a3ca133ed"
   },
   "outputs": [],
   "source": [
    "print(numbers[1])"
   ]
  },
  {
   "cell_type": "code",
   "execution_count": null,
   "id": "b5854435",
   "metadata": {
    "id": "b5854435",
    "outputId": "1d5f4467-488b-49d8-b376-45c0d379dc90"
   },
   "outputs": [],
   "source": [
    "print(numbers[2])"
   ]
  },
  {
   "cell_type": "code",
   "execution_count": null,
   "id": "1a877a1b",
   "metadata": {
    "id": "1a877a1b",
    "outputId": "2e7e5b73-bc8f-4c63-b373-7884e9591c36"
   },
   "outputs": [],
   "source": [
    "print(numbers[3])"
   ]
  },
  {
   "cell_type": "code",
   "execution_count": null,
   "id": "9228e84f",
   "metadata": {
    "id": "9228e84f",
    "outputId": "c15caab2-d058-4ff9-82b2-bdd0c585e029"
   },
   "outputs": [],
   "source": [
    "print(numbers[4])"
   ]
  },
  {
   "cell_type": "code",
   "execution_count": null,
   "id": "746170da",
   "metadata": {
    "id": "746170da"
   },
   "outputs": [],
   "source": [
    "a = 3\n",
    "b = 0"
   ]
  },
  {
   "cell_type": "code",
   "execution_count": null,
   "id": "28a82507",
   "metadata": {
    "id": "28a82507",
    "outputId": "81214482-60f1-4b47-bef7-0622c6d0ed45"
   },
   "outputs": [],
   "source": [
    "b > a"
   ]
  },
  {
   "cell_type": "code",
   "execution_count": null,
   "id": "be20a8e9",
   "metadata": {
    "id": "be20a8e9",
    "outputId": "57c41596-0fb5-46fb-9162-539df39cf3d4"
   },
   "outputs": [],
   "source": [
    "if b > a :\n",
    "    print(\"hello\")\n",
    "    \n",
    "print(\"kirby\")"
   ]
  },
  {
   "cell_type": "markdown",
   "id": "16544bde",
   "metadata": {
    "id": "16544bde"
   },
   "source": [
    "```python\n",
    "\n",
    "if condition :\n",
    "    body1\n",
    "    body2\n",
    "    body3\n",
    "outbody\n",
    "```"
   ]
  },
  {
   "cell_type": "code",
   "execution_count": null,
   "id": "64d95f45",
   "metadata": {
    "id": "64d95f45",
    "outputId": "363114f8-0cfa-4127-f44e-f2bb74bcea57"
   },
   "outputs": [],
   "source": [
    "if \"0\" :\n",
    "    print(\"hello world\")\n",
    "    \n",
    "print(\"print me in all cases\")"
   ]
  },
  {
   "cell_type": "code",
   "execution_count": null,
   "id": "0e165785",
   "metadata": {
    "id": "0e165785",
    "outputId": "f841d3b8-8a03-48f8-b60c-20c39e146820"
   },
   "outputs": [],
   "source": [
    "bool(\"0\")"
   ]
  },
  {
   "cell_type": "code",
   "execution_count": null,
   "id": "626edc0f",
   "metadata": {
    "id": "626edc0f",
    "outputId": "54593553-ef46-452d-aaae-5f187220f57f"
   },
   "outputs": [],
   "source": [
    "bool(0)"
   ]
  },
  {
   "cell_type": "code",
   "execution_count": null,
   "id": "7d6cb1ba",
   "metadata": {
    "id": "7d6cb1ba"
   },
   "outputs": [],
   "source": [
    "if \"0\" and \"\" :\n",
    "    print(\"hello world\")"
   ]
  },
  {
   "cell_type": "code",
   "execution_count": null,
   "id": "b6b2f39f",
   "metadata": {
    "id": "b6b2f39f"
   },
   "outputs": [],
   "source": [
    "if 0 or \"False\" and None :\n",
    "    print(\"hello universe\")"
   ]
  },
  {
   "cell_type": "code",
   "execution_count": null,
   "id": "f6e76f22",
   "metadata": {
    "id": "f6e76f22",
    "outputId": "4fac04cb-82d0-4329-964d-4b718c0a3f7d"
   },
   "outputs": [],
   "source": [
    "bool(0 or \"False\" and None)"
   ]
  },
  {
   "cell_type": "code",
   "execution_count": null,
   "id": "01fd4612",
   "metadata": {
    "id": "01fd4612",
    "outputId": "379e3e15-1b9c-48e6-a4e6-721a86347ef6"
   },
   "outputs": [],
   "source": [
    "if 1 :\n",
    "    print(\"python\")\n",
    "    "
   ]
  },
  {
   "cell_type": "code",
   "execution_count": null,
   "id": "18dd4031",
   "metadata": {
    "id": "18dd4031",
    "outputId": "d4f6b74d-cb70-4601-ce47-30e89666e2e3"
   },
   "outputs": [],
   "source": [
    "bool(1)"
   ]
  },
  {
   "cell_type": "code",
   "execution_count": null,
   "id": "e71693fa",
   "metadata": {
    "id": "e71693fa",
    "outputId": "314748bd-1585-41d4-ea9a-7d0bc5371598"
   },
   "outputs": [],
   "source": [
    "if -1 :\n",
    "    print(\"hello\")\n"
   ]
  },
  {
   "cell_type": "code",
   "execution_count": null,
   "id": "f15b6d5a",
   "metadata": {
    "id": "f15b6d5a",
    "outputId": "9f741ab5-8d38-45a9-967e-7ef09fbab5f1"
   },
   "outputs": [],
   "source": [
    "if [\"\"] :\n",
    "    print(\"hello\")"
   ]
  },
  {
   "cell_type": "code",
   "execution_count": null,
   "id": "a7624ab8",
   "metadata": {
    "id": "a7624ab8"
   },
   "outputs": [],
   "source": [
    "if [] :\n",
    "    print(\"hello\")"
   ]
  },
  {
   "cell_type": "code",
   "execution_count": null,
   "id": "e124a167",
   "metadata": {
    "id": "e124a167"
   },
   "outputs": [],
   "source": [
    "# materials:\n",
    "\n",
    "minced = True\n",
    "bread = True\n",
    "\n",
    "# green:\n",
    "\n",
    "lettuce = True\n",
    "onion = False\n",
    "\n",
    "grocer = True"
   ]
  },
  {
   "cell_type": "code",
   "execution_count": null,
   "id": "c5714fda",
   "metadata": {
    "id": "c5714fda"
   },
   "outputs": [],
   "source": [
    "hamburger = minced and grocer and bread and (lettuce or onion)"
   ]
  },
  {
   "cell_type": "code",
   "execution_count": null,
   "id": "90c2bf11",
   "metadata": {
    "id": "90c2bf11",
    "outputId": "0c0a575d-28d2-46ff-e412-1d20b7713507"
   },
   "outputs": [],
   "source": [
    "if hamburger :\n",
    "    print(\"Bon Appetit!\")"
   ]
  },
  {
   "cell_type": "markdown",
   "id": "b9d6bf74",
   "metadata": {
    "id": "b9d6bf74"
   },
   "source": [
    "<a id=\"toc\"></a>\n",
    "\n",
    "## <p style=\"background-color:#9d4f8c; font-family:newtimeroman; color:#FFF9ED; font-size:175%; text-align:center; border-radius:10px 10px;\">Comparision Operators</p>"
   ]
  },
  {
   "cell_type": "markdown",
   "id": "71e9c513",
   "metadata": {
    "id": "71e9c513"
   },
   "source": [
    "**Python official documentation - Comparisions: https://docs.python.org/3/reference/expressions.html#comparisons**"
   ]
  },
  {
   "cell_type": "markdown",
   "id": "827419d5",
   "metadata": {
    "id": "827419d5"
   },
   "source": [
    "![python.exe](https://drive.google.com/uc?id=1nRgOnb6Hu6Vs55pBxkFmVKBUdKBVbVx_)"
   ]
  },
  {
   "cell_type": "markdown",
   "id": "82b0b8ea",
   "metadata": {
    "id": "82b0b8ea"
   },
   "source": [
    "![python.exe](https://drive.google.com/uc?id=1z7JbtLD5K21tIEsi6AQJ1HEnj5DgPOW-)"
   ]
  },
  {
   "cell_type": "code",
   "execution_count": null,
   "id": "265738d4",
   "metadata": {
    "id": "265738d4",
    "outputId": "67fb3f08-45b9-44d9-abcf-81935e201c06"
   },
   "outputs": [],
   "source": [
    "1 == 1"
   ]
  },
  {
   "cell_type": "code",
   "execution_count": null,
   "id": "998ff1d6",
   "metadata": {
    "id": "998ff1d6",
    "outputId": "827cb0e4-f12f-4326-cabe-dc65c9c0967d"
   },
   "outputs": [],
   "source": [
    "3 > 3"
   ]
  },
  {
   "cell_type": "code",
   "execution_count": null,
   "id": "ba5275f0",
   "metadata": {
    "id": "ba5275f0",
    "outputId": "cf425dd2-2833-4df9-afce-be8326f0189f"
   },
   "outputs": [],
   "source": [
    "3 >= 3"
   ]
  },
  {
   "cell_type": "code",
   "execution_count": null,
   "id": "34530a2d",
   "metadata": {
    "id": "34530a2d",
    "outputId": "1fdcf31c-3c5e-4ace-c3f4-5e5c9f094be2"
   },
   "outputs": [],
   "source": [
    "3 >= 2"
   ]
  },
  {
   "cell_type": "code",
   "execution_count": null,
   "id": "4777b3b2",
   "metadata": {
    "id": "4777b3b2",
    "outputId": "67b5ee61-c956-4b89-f6a5-c313d9687b68"
   },
   "outputs": [],
   "source": [
    "\"apple\" == \"apple\""
   ]
  },
  {
   "cell_type": "code",
   "execution_count": null,
   "id": "14da500a",
   "metadata": {
    "id": "14da500a",
    "outputId": "b5087722-23cb-4cfb-ffe0-68e9a1a4eb2f"
   },
   "outputs": [],
   "source": [
    "\"apple\" == \"Apple\""
   ]
  },
  {
   "cell_type": "code",
   "execution_count": null,
   "id": "076108fc",
   "metadata": {
    "id": "076108fc",
    "outputId": "54d0a866-399b-4d93-ecff-2ae57883023a"
   },
   "outputs": [],
   "source": [
    "\"apple\" != \"orange\""
   ]
  },
  {
   "cell_type": "code",
   "execution_count": null,
   "id": "afbfa12e",
   "metadata": {
    "id": "afbfa12e",
    "outputId": "c0d35c5d-c066-4483-bf00-a156e2a81477"
   },
   "outputs": [],
   "source": [
    "\"apple\" != \"apple\""
   ]
  },
  {
   "cell_type": "code",
   "execution_count": null,
   "id": "956e4c82",
   "metadata": {
    "id": "956e4c82",
    "outputId": "a42abff6-e5de-4b74-aefb-a7226e6a56f7"
   },
   "outputs": [],
   "source": [
    "\"apple\" < \"orange\""
   ]
  },
  {
   "cell_type": "code",
   "execution_count": null,
   "id": "d5c75c0b",
   "metadata": {
    "id": "d5c75c0b",
    "outputId": "e3bc063c-c676-4b68-a338-e13fd8003502"
   },
   "outputs": [],
   "source": [
    "\"banana\" < \"apple\""
   ]
  },
  {
   "cell_type": "code",
   "execution_count": null,
   "id": "8885c959",
   "metadata": {
    "id": "8885c959",
    "outputId": "b8d56930-2b03-4895-90dd-e3b15c335814"
   },
   "outputs": [],
   "source": [
    "\"kirby\" == \"betty\""
   ]
  },
  {
   "cell_type": "code",
   "execution_count": null,
   "id": "afd23ca9",
   "metadata": {
    "id": "afd23ca9",
    "outputId": "d587b533-e1bd-4f7c-b566-71d2e119318f"
   },
   "outputs": [],
   "source": [
    "\"kirby\" != \"betty\""
   ]
  },
  {
   "cell_type": "code",
   "execution_count": null,
   "id": "a5a73bbe",
   "metadata": {
    "id": "a5a73bbe",
    "outputId": "6a94e666-08e0-4d57-9789-dc729eee8aef"
   },
   "outputs": [],
   "source": [
    "if \"kirby\" != \"betty\" :\n",
    "    print(\"samuel\")"
   ]
  },
  {
   "cell_type": "code",
   "execution_count": null,
   "id": "fad64b7c",
   "metadata": {
    "id": "fad64b7c"
   },
   "outputs": [],
   "source": [
    "x = 5\n",
    "\n",
    "y = 15"
   ]
  },
  {
   "cell_type": "code",
   "execution_count": null,
   "id": "850008e7",
   "metadata": {
    "id": "850008e7",
    "outputId": "db93dc81-0c3c-4ae8-e0a3-025e198fe6d4"
   },
   "outputs": [],
   "source": [
    "x < y"
   ]
  },
  {
   "cell_type": "code",
   "execution_count": null,
   "id": "badfe834",
   "metadata": {
    "id": "badfe834",
    "outputId": "a609879f-8bb0-4da7-c778-c935ae9cd600"
   },
   "outputs": [],
   "source": [
    "y < x"
   ]
  },
  {
   "cell_type": "code",
   "execution_count": null,
   "id": "2691f29a",
   "metadata": {
    "id": "2691f29a"
   },
   "outputs": [],
   "source": [
    "set1 = set(\"TWELVE PLUS ONE\")\n",
    "\n",
    "set2 = set(\"ELEVEN PLUSU TWO\")"
   ]
  },
  {
   "cell_type": "code",
   "execution_count": null,
   "id": "2bb35bc5",
   "metadata": {
    "id": "2bb35bc5",
    "outputId": "91555ec9-85b8-4e31-858c-96f3d62adaf4"
   },
   "outputs": [],
   "source": [
    "set1 == set2"
   ]
  }
 ],
 "metadata": {
  "colab": {
   "provenance": []
  },
  "kernelspec": {
   "display_name": "Python 3 (ipykernel)",
   "language": "python",
   "name": "python3"
  },
  "language_info": {
   "codemirror_mode": {
    "name": "ipython",
    "version": 3
   },
   "file_extension": ".py",
   "mimetype": "text/x-python",
   "name": "python",
   "nbconvert_exporter": "python",
   "pygments_lexer": "ipython3",
   "version": "3.11.3"
  }
 },
 "nbformat": 4,
 "nbformat_minor": 5
}
