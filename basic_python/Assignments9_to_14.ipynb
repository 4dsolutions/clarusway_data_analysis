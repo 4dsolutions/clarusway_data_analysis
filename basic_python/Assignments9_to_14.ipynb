{
 "cells": [
  {
   "cell_type": "markdown",
   "id": "d5b359e7-450e-4546-870f-9c710616e4d2",
   "metadata": {},
   "source": [
    "#### Clarusway Python\n",
    "\n",
    "* [Instructor Landing Page](landing_page.ipynb)\n",
    "* <a href=\"https://colab.research.google.com/github/4dsolutions/clarusway_data_analysis/blob/main/basic_python/Assignments9_to_14.ipynb\"><img align=\"left\" src=\"https://colab.research.google.com/assets/colab-badge.svg\" alt=\"Open in Colab\" title=\"Open and Execute in Google Colaboratory\"></a>\n",
    "* [![nbviewer](https://raw.githubusercontent.com/jupyter/design/master/logos/Badges/nbviewer_badge.svg)](https://nbviewer.org/github/4dsolutions/clarusway_data_analysis/blob/main/basic_python/Assignments9_to_14.ipynb)"
   ]
  },
  {
   "cell_type": "markdown",
   "id": "71f6dcdf-c3bc-4393-b9dd-d6d613bc8104",
   "metadata": {},
   "source": [
    "# Lab 5: Tips and Tricks for Assignments 9 - 14"
   ]
  },
  {
   "cell_type": "markdown",
   "id": "d803980d-7c52-40ed-8895-72c49c3a833d",
   "metadata": {},
   "source": [
    "### Assignment 9: Comfortable Words\n",
    "\n",
    "<a data-flickr-embed=\"true\" href=\"https://www.flickr.com/photos/kirbyurner/54138654425/in/photostream/\" title=\"Assignment 8\"><img src=\"https://live.staticflickr.com/65535/54138654425_5a78940a85_z.jpg\" width=\"637\" height=\"505\" alt=\"Assignment 8\"/></a><script async src=\"//embedr.flickr.com/assets/client-code.js\" charset=\"utf-8\"></script>"
   ]
  },
  {
   "cell_type": "code",
   "execution_count": 1,
   "id": "f15858df-3ceb-4f61-9e19-d343f44eb9a9",
   "metadata": {},
   "outputs": [],
   "source": [
    "left_hand =  set(list(\"qwertasdfgzxcvb\"))\n",
    "right_hand = set(list(\"poiuylkjhmn\"))\n",
    "\n",
    "assert (len(right_hand) + len(left_hand)) == 26\n",
    "assert right_hand.intersection(left_hand) == set()\n",
    "\n",
    "condition = False # my_word shares letters with both left and right hand\n",
    "\n",
    "def iscomfortable():\n",
    "    while True:\n",
    "        my_word = input(\"What is your word? > \").lower()\n",
    "        \n",
    "        if not my_word.isalpha(): # optional\n",
    "            continue\n",
    "    \n",
    "        if condition:\n",
    "            return True\n",
    "            \n",
    "        return False"
   ]
  },
  {
   "cell_type": "markdown",
   "id": "8496979c-1058-4fa0-9ee8-c739677a524b",
   "metadata": {},
   "source": [
    "### Assignment 10\n",
    "\n",
    "<a data-flickr-embed=\"true\" href=\"https://www.flickr.com/photos/kirbyurner/54138654435/in/photostream/\" title=\"Assignment 11\"><img src=\"https://live.staticflickr.com/65535/54138654435_28e3f4f70a_z.jpg\" width=\"637\" height=\"577\" alt=\"Assignment 10\"/></a><script async src=\"//embedr.flickr.com/assets/client-code.js\" charset=\"utf-8\"></script>"
   ]
  },
  {
   "cell_type": "code",
   "execution_count": 2,
   "id": "c199c46d-42db-4809-8df2-cdb111173f6d",
   "metadata": {},
   "outputs": [],
   "source": [
    "def survey():\n",
    "    while True:\n",
    "        age = input(\"Are you a smoker and over 75 years? (Yes/No) > \").upper()\n",
    "        if age not in [\"YES\", \"NO\"]:\n",
    "            print(\"Yes or No please...\")\n",
    "            continue\n",
    "        break\n",
    "            \n",
    "    if age == \"YES\":\n",
    "        age = True\n",
    "    else:\n",
    "        age = False\n",
    "\n",
    "    # alternatively: age = True if age == \"YES\" else False\n",
    "    \n",
    "    while True:\n",
    "        chronic = input(\"Do you have severe chronic disease? (Yes/No) > \").upper()\n",
    "        if chronic not in [\"YES\", \"NO\"]:\n",
    "            print(\"Yes or No please...\")\n",
    "            continue\n",
    "        break\n",
    "    \n",
    "    if chronic:\n",
    "        pass\n",
    "    else:\n",
    "        pass\n",
    "    \n",
    "    while True:\n",
    "        immune = input(\"Is your immune system compromised? (Yes/No) > \").upper()\n",
    "        if immune not in [\"YES\", \"NO\"]:\n",
    "            print(\"Yes or No please...\")\n",
    "            continue\n",
    "        break\n",
    "            \n",
    "    if immune == \"YES\":\n",
    "        pass\n",
    "    else:\n",
    "        pass\n",
    "\n",
    "    # print \"You are in the risky group\" if any( ) if these are True"
   ]
  },
  {
   "cell_type": "code",
   "execution_count": 3,
   "id": "0c434f3d-aeeb-4b03-a526-b043ebd1db95",
   "metadata": {},
   "outputs": [
    {
     "name": "stdin",
     "output_type": "stream",
     "text": [
      "Are you a smoker and over 75 years? (Yes/No) >  No\n",
      "Do you have severe chronic disease? (Yes/No) >  NO\n",
      "Is your immune system compromised? (Yes/No) >  YES\n"
     ]
    }
   ],
   "source": [
    "survey()"
   ]
  },
  {
   "cell_type": "markdown",
   "id": "f4a817a0-4717-47de-960c-a5a6d8bb1b29",
   "metadata": {},
   "source": [
    "### Assignment 11: Return Password\n",
    "\n",
    "<a data-flickr-embed=\"true\" href=\"https://www.flickr.com/photos/kirbyurner/54138197566/in/photostream/\" title=\"Assignment 9\"><img src=\"https://live.staticflickr.com/65535/54138197566_94ee7d0ed7_z.jpg\" width=\"637\" height=\"375\" alt=\"Assignment 9\"/></a><script async src=\"//embedr.flickr.com/assets/client-code.js\" charset=\"utf-8\"></script>"
   ]
  },
  {
   "cell_type": "code",
   "execution_count": 4,
   "id": "e0bc0c49-df85-453b-9eb1-5d9af6fc4257",
   "metadata": {},
   "outputs": [
    {
     "name": "stdin",
     "output_type": "stream",
     "text": [
      "Enter your first name >  Kirby\n"
     ]
    },
    {
     "name": "stdout",
     "output_type": "stream",
     "text": [
      "Goodbye Kirby...\n"
     ]
    }
   ],
   "source": [
    "password = \"W@12\"\n",
    "first_name = input(\"Enter your first name > \") \n",
    "if first_name == \"GORILLA\": # fix to match your name\n",
    "    print(f\"Hello {first_name}. The password is...{password}\")\n",
    "else:\n",
    "    print(f\"Goodbye {first_name}...\") # fix to match 3."
   ]
  },
  {
   "cell_type": "markdown",
   "id": "1f9570f5-ee5d-427d-9920-b44da3651350",
   "metadata": {},
   "source": [
    "In reality, there's a good chance the service you wish to log in to does not save your password, only a hash of your password.\n",
    "\n",
    "[Link to hashlib docs](https://docs.python.org/3/library/hashlib.html)"
   ]
  },
  {
   "cell_type": "code",
   "execution_count": 5,
   "id": "14e73ab4-5a02-4810-a8cd-392f5b854946",
   "metadata": {},
   "outputs": [],
   "source": [
    "from hashlib import sha256"
   ]
  },
  {
   "cell_type": "code",
   "execution_count": 6,
   "id": "220d8bd4-ba05-4981-88a0-58551112a257",
   "metadata": {},
   "outputs": [
    {
     "data": {
      "text/plain": [
       "'083a0608d63efadef5ef9645f3ca86f3f8cf550fcbd9f2ed5a1ce15f546595ec'"
      ]
     },
     "execution_count": 6,
     "metadata": {},
     "output_type": "execute_result"
    }
   ],
   "source": [
    "the_hash = sha256(b\"Pa$$word!\")\n",
    "the_hash.hexdigest()"
   ]
  },
  {
   "cell_type": "code",
   "execution_count": 7,
   "id": "df8f3ae8-fa40-4d3c-b8c7-c880964ce4db",
   "metadata": {},
   "outputs": [
    {
     "data": {
      "text/plain": [
       "'b2fe8b46929bfa4c65fee9d5d43a2423799b18e360782e9abc27bd420877243e'"
      ]
     },
     "execution_count": 7,
     "metadata": {},
     "output_type": "execute_result"
    }
   ],
   "source": [
    "the_hash = sha256(b\"Pa$$w0rd!\")\n",
    "the_hash.hexdigest()"
   ]
  },
  {
   "cell_type": "markdown",
   "id": "981057d4-d579-4e2a-ab01-d1131bc5a8cb",
   "metadata": {},
   "source": [
    "If the hash of your entered password matches the hash on file, your password is OK. \n",
    "\n",
    "If you lose your password, you'll have to reset it, because it's not on file."
   ]
  },
  {
   "cell_type": "markdown",
   "id": "158752d4-89b3-48c9-9004-c85ff49f597b",
   "metadata": {},
   "source": [
    "### Assignment 11: Leap Year?\n",
    "\n",
    "<a data-flickr-embed=\"true\" href=\"https://www.flickr.com/photos/kirbyurner/54137343787/in/photostream/\" title=\"Assignment 11\"><img src=\"https://live.staticflickr.com/65535/54137343787_43dfd271f4_z.jpg\" width=\"637\" height=\"607\" alt=\"Assignment 11\"/></a><script async src=\"//embedr.flickr.com/assets/client-code.js\" charset=\"utf-8\"></script>"
   ]
  },
  {
   "cell_type": "code",
   "execution_count": 8,
   "id": "ca8ac586-885a-4ae4-99a9-4897bacf2e4f",
   "metadata": {},
   "outputs": [
    {
     "name": "stdin",
     "output_type": "stream",
     "text": [
      "What is your input year? >  2024\n"
     ]
    },
    {
     "name": "stdout",
     "output_type": "stream",
     "text": [
      "2024 is not a leap year\n"
     ]
    }
   ],
   "source": [
    "while True:\n",
    "    my_year = input(\"What is your input year? > \")\n",
    "    if not my_year.isdigit() or len(my_year) != 4:\n",
    "        print(\"Four digit year please.\")\n",
    "        continue\n",
    "    my_year = int(my_year)\n",
    "    break\n",
    "\n",
    "# ternary expressions\n",
    "div_by_4   = True if my_year % 4 == 0 else False\n",
    "div_by_100 = True if my_year % 100 == 0 else False\n",
    "div_by_400 = True if my_year % 400 == 0 else False\n",
    "\n",
    "# if div_by_4 but not div_by_100 unless div_by_400 <-- use if condition to choose\n",
    "condition = True # replace this line\n",
    "\n",
    "if condition:\n",
    "    print(f\"{my_year} is not a leap year\")\n",
    "else:\n",
    "    print(f\"{my_year} is a leap year\")   \n"
   ]
  },
  {
   "cell_type": "markdown",
   "id": "b8466af9-f909-439a-b84e-c82621e44c35",
   "metadata": {},
   "source": [
    "### Assignment 12: Armstrong Number?\n",
    "\n",
    "<a data-flickr-embed=\"true\" href=\"https://www.flickr.com/photos/kirbyurner/54141784624/in/dateposted/\" title=\"Screen Shot 2024-11-15 at 5.07.26 AM\"><img src=\"https://live.staticflickr.com/65535/54141784624_4b0c151cc9_z.jpg\" width=\"558\" height=\"640\" alt=\"Screen Shot 2024-11-15 at 5.07.26 AM\"/></a><script async src=\"//embedr.flickr.com/assets/client-code.js\" charset=\"utf-8\"></script>\n",
    "\n",
    "[OEIS A005188](https://oeis.org/A005188)"
   ]
  },
  {
   "cell_type": "code",
   "execution_count": 9,
   "id": "5416a4bc-ecb3-4e22-bf77-fe756c306102",
   "metadata": {},
   "outputs": [
    {
     "data": {
      "text/plain": [
       "371"
      ]
     },
     "execution_count": 9,
     "metadata": {},
     "output_type": "execute_result"
    }
   ],
   "source": [
    "3**3 + 7**3 + 1**3"
   ]
  },
  {
   "cell_type": "code",
   "execution_count": 10,
   "id": "54e01487-d6fd-4bca-9b22-3c0736ae043e",
   "metadata": {},
   "outputs": [
    {
     "data": {
      "text/plain": [
       "'93084 is an Armstrong number'"
      ]
     },
     "execution_count": 10,
     "metadata": {},
     "output_type": "execute_result"
    }
   ],
   "source": [
    "def is_armstrong(n):\n",
    "    p = len(str(n))\n",
    "    if n == sum([int(d)**p for d in list(str(n))]):\n",
    "        return True\n",
    "    return False\n",
    "\n",
    "n = 93084  # 912985153\n",
    "\n",
    "f\"{n} is an Armstrong number\" if is_armstrong(n) else f\"{n} is not an Armstrong number\""
   ]
  },
  {
   "cell_type": "markdown",
   "id": "2e723e04-a944-4092-9b19-d7d8d0eb903a",
   "metadata": {},
   "source": [
    "Still needed: screening logic to detect invalid entries (non-numeric, float, or negative)."
   ]
  },
  {
   "cell_type": "markdown",
   "id": "4c5314a4-4b29-44d7-9554-dacd55103dc0",
   "metadata": {},
   "source": [
    "Later, I prompted Gemini (Colab's AI code generator) to generate the Armstrong numbers. \n",
    "\n",
    "<a data-flickr-embed=\"true\" href=\"https://www.flickr.com/photos/kirbyurner/54141777759/in/dateposted/\" title=\"Screen Shot 2024-11-15 at 4.53.46 AM\"><img src=\"https://live.staticflickr.com/65535/54141777759_cb0d236026_z.jpg\" width=\"526\" height=\"640\" alt=\"Screen Shot 2024-11-15 at 4.53.46 AM\"/></a><script async src=\"//embedr.flickr.com/assets/client-code.js\" charset=\"utf-8\"></script>\n",
    "\n",
    "Here's what it came back with (including the docstring), except I added the islice at the end."
   ]
  },
  {
   "cell_type": "code",
   "execution_count": 17,
   "id": "72aa8fa1-e471-4cd8-9a4d-89c50c7d0368",
   "metadata": {},
   "outputs": [
    {
     "name": "stdout",
     "output_type": "stream",
     "text": [
      "[370, 371, 407, 1634, 8208, 9474, 54748, 92727, 93084, 548834]\n"
     ]
    }
   ],
   "source": [
    "def armstrong_generator():\n",
    "    \"\"\"Generates Armstrong numbers.\n",
    "\n",
    "    An Armstrong number is a number that is equal to the sum of its own digits \n",
    "    raised to the power of the number of digits.\n",
    "    For example, 153 is an Armstrong number because 1^3 + 5^3 + 3^3 = 153.\n",
    "\n",
    "    Yields:\n",
    "        int: The next Armstrong number.\n",
    "    \"\"\"\n",
    "    num = 1\n",
    "    while True:\n",
    "        num_str = str(num)\n",
    "        num_digits = len(num_str)\n",
    "        armstrong_sum = sum(int(digit)**num_digits for digit in num_str)\n",
    "        if num == armstrong_sum:\n",
    "            yield num\n",
    "        num += 1\n",
    "\n",
    "# To generate the first 10 Armstrong numbers:\n",
    "\n",
    "from itertools import islice\n",
    "armstrong_gen = armstrong_generator()\n",
    "print(list(islice(armstrong_gen, 10, 20)))\n",
    "\n",
    "#for _ in range(10):\n",
    "#    print(next(armstrong_gen))"
   ]
  },
  {
   "cell_type": "markdown",
   "id": "30b51e57-f223-4240-9e66-b10ba5a8fc92",
   "metadata": {},
   "source": [
    "### Assignment 13: Is it Prime?\n",
    "\n",
    "<a data-flickr-embed=\"true\" href=\"https://www.flickr.com/photos/kirbyurner/54138524534/in/photostream/\" title=\"Assignment 13\"><img src=\"https://live.staticflickr.com/65535/54138524534_20af50a27e_z.jpg\" width=\"637\" height=\"370\" alt=\"Assignment 13\"/></a><script async src=\"//embedr.flickr.com/assets/client-code.js\" charset=\"utf-8\"></script>"
   ]
  },
  {
   "cell_type": "code",
   "execution_count": 11,
   "id": "c606436a-233a-4547-827b-e404d0b18e99",
   "metadata": {},
   "outputs": [],
   "source": [
    "import primes\n",
    "\n",
    "# candidate = int(\"What is your input? > \")\n",
    "\n",
    "candidate = 301821\n",
    "\n",
    "while primes.primes[-1] < candidate: # while highest prime is < candidate\n",
    "    primes.nextprime() # keep adding primes\n",
    "\n",
    "# print(primes.primes) # is the candidate among them?"
   ]
  },
  {
   "cell_type": "markdown",
   "id": "2436ddd1-6901-4828-8fd0-e9400a3964c3",
   "metadata": {},
   "source": [
    "### Assignment 14: Fibonacci Numbers\n",
    "\n",
    "<a data-flickr-embed=\"true\" href=\"https://www.flickr.com/photos/kirbyurner/54138654420/in/photostream/\" title=\"Assignment 14\"><img src=\"https://live.staticflickr.com/65535/54138654420_480c761878_z.jpg\" width=\"637\" height=\"337\" alt=\"Assignment 14\"/></a><script async src=\"//embedr.flickr.com/assets/client-code.js\" charset=\"utf-8\"></script>"
   ]
  },
  {
   "cell_type": "code",
   "execution_count": 12,
   "id": "502208c0-29db-4e58-bd9d-c0a943bf4862",
   "metadata": {},
   "outputs": [],
   "source": [
    "fibonacci = [1, 1]\n",
    "\n",
    "for _ in range(8):\n",
    "    next_fib = 0 # sum of rightmost 2 entries (remember negative indexing)\n",
    "    fibonacci.append(next_fib)"
   ]
  },
  {
   "cell_type": "code",
   "execution_count": 13,
   "id": "7277e885-6855-42c6-9cc0-105206f3239e",
   "metadata": {},
   "outputs": [
    {
     "data": {
      "text/plain": [
       "[1, 1, 0, 0, 0, 0, 0, 0, 0, 0]"
      ]
     },
     "execution_count": 13,
     "metadata": {},
     "output_type": "execute_result"
    }
   ],
   "source": [
    "fibonacci"
   ]
  }
 ],
 "metadata": {
  "kernelspec": {
   "display_name": "Python 3 (ipykernel)",
   "language": "python",
   "name": "python3"
  },
  "language_info": {
   "codemirror_mode": {
    "name": "ipython",
    "version": 3
   },
   "file_extension": ".py",
   "mimetype": "text/x-python",
   "name": "python",
   "nbconvert_exporter": "python",
   "pygments_lexer": "ipython3",
   "version": "3.11.3"
  }
 },
 "nbformat": 4,
 "nbformat_minor": 5
}
