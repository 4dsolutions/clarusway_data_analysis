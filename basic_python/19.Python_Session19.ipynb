{
 "cells": [
  {
   "cell_type": "markdown",
   "id": "ccd249e4-2319-4730-bb94-726d53b50203",
   "metadata": {
    "id": "fGdDuGxR9rkV"
   },
   "source": [
    "#### Clarusway Python\n",
    "\n",
    "* [Instructor Landing Page](landing_page.ipynb)\n",
    "* <a href=\"https://colab.research.google.com/github/4dsolutions/clarusway_data_analysis/blob/main/basic_python/19.Python_Session19.ipynb\"><img align=\"left\" src=\"https://colab.research.google.com/assets/colab-badge.svg\" alt=\"Open in Colab\" title=\"Open and Execute in Google Colaboratory\"></a>\n",
    "* [![nbviewer](https://raw.githubusercontent.com/jupyter/design/master/logos/Badges/nbviewer_badge.svg)](https://nbviewer.org/github/4dsolutions/clarusway_data_analysis/blob/main/basic_python/19.Python_Session19.ipynb)"
   ]
  },
  {
   "cell_type": "markdown",
   "id": "97d2a08c",
   "metadata": {
    "id": "97d2a08c"
   },
   "source": [
    "<a id=\"toc\"></a>\n",
    "\n",
    "## <p style=\"background-color:#0D8D99; font-family:newtimeroman; color:#FFF9ED; font-size:175%; text-align:center; border-radius:10px 10px;\">Python Session 19</p>"
   ]
  },
  {
   "cell_type": "markdown",
   "id": "2a056995",
   "metadata": {
    "id": "2a056995"
   },
   "source": [
    "#### <div class=\"alert alert-block alert-info\"><h1><p style=\"text-align: center; color:purple\"> Packages & Modules<br><br>Comparing \"list comprehension\" vs. \"for loop\" performance<br>with timeit module.<br><br>Algorithm Exercise-The factorial of a number using Recursive Function</p> "
   ]
  },
  {
   "cell_type": "markdown",
   "id": "71e9c513",
   "metadata": {
    "id": "71e9c513"
   },
   "source": [
    "**Python official document - Python Packaging User Guide: https://packaging.python.org/en/latest/**\n",
    "\n",
    "**Python official web site - Find, install and publish Python packages with the Python Package Index: https://pypi.org/**\n",
    "\n",
    "**Python official document - Python Module Index: https://docs.python.org/3/py-modindex.html**\n",
    "\n",
    "**Python official document - Python Standart Library :https://docs.python.org/3/library/**\n",
    "\n",
    "**Pip documentation - Pip commands: https://pip.pypa.io/en/stable/cli/index.html**"
   ]
  },
  {
   "cell_type": "markdown",
   "id": "4fb2806b",
   "metadata": {
    "id": "4fb2806b"
   },
   "source": [
    "<a id=\"toc\"></a>\n",
    "\n",
    "### <p style=\"background-color:#9d4f8c; font-family:newtimeroman; color:#FFF9ED; font-size:175%; text-align:center; border-radius:10px 10px;\">Packages & Modules</p>"
   ]
  },
  {
   "cell_type": "markdown",
   "id": "7fc73505",
   "metadata": {
    "id": "7fc73505"
   },
   "source": [
    "**In Python, a script is a program that typically performs a specific function and is contained in a single file. Scripts are useful when code will not be reused or used in another project.**\n",
    "\n",
    "**A module, on the other hand, is a reusable block of code that can be used in different scripts. Modules can contain elements such as functions, classes, and constants. Modules enable code reuse and are particularly useful in large projects. Modules can be used in another script or module using the import keyword.**"
   ]
  },
  {
   "cell_type": "code",
   "execution_count": 1,
   "id": "1a907b25",
   "metadata": {
    "id": "1a907b25",
    "outputId": "2d47ac3a-fd64-40ca-9adf-2ede5544df81"
   },
   "outputs": [
    {
     "name": "stdout",
     "output_type": "stream",
     "text": [
      "9\n"
     ]
    }
   ],
   "source": [
    "def square(a) :\n",
    "    return a * a\n",
    "\n",
    "print(square(3))"
   ]
  },
  {
   "cell_type": "markdown",
   "id": "f2d96baa",
   "metadata": {
    "id": "f2d96baa"
   },
   "source": [
    "**Here, we are seeing the usage of a module inside a script by importing it:**"
   ]
  },
  {
   "cell_type": "code",
   "execution_count": 2,
   "id": "95905eee",
   "metadata": {
    "id": "95905eee",
    "outputId": "1080b50d-cec0-425f-ea16-e2d9e852e80b"
   },
   "outputs": [
    {
     "name": "stdout",
     "output_type": "stream",
     "text": [
      "9\n"
     ]
    },
    {
     "data": {
      "text/plain": [
       "4.0"
      ]
     },
     "execution_count": 2,
     "metadata": {},
     "output_type": "execute_result"
    }
   ],
   "source": [
    "import math\n",
    "\n",
    "def square(a) :\n",
    "    return a * a\n",
    "\n",
    "print(square(3))\n",
    "\n",
    "math.sqrt(16)"
   ]
  },
  {
   "cell_type": "code",
   "execution_count": 3,
   "id": "2d0d4e40",
   "metadata": {
    "id": "2d0d4e40"
   },
   "outputs": [
    {
     "data": {
      "text/plain": [
       "'/Users/kirbyurner/Documents/clarusway_data_analysis/basic_python'"
      ]
     },
     "execution_count": 3,
     "metadata": {},
     "output_type": "execute_result"
    }
   ],
   "source": [
    "pwd  # see the absolute path of your working directory"
   ]
  },
  {
   "cell_type": "code",
   "execution_count": 4,
   "id": "3dd2167e",
   "metadata": {
    "id": "3dd2167e"
   },
   "outputs": [],
   "source": [
    "# Let's import the math module.\n",
    "\n",
    "import math"
   ]
  },
  {
   "cell_type": "code",
   "execution_count": 5,
   "id": "2ece0510",
   "metadata": {
    "id": "2ece0510"
   },
   "outputs": [],
   "source": [
    "# math.  # after the dot, press TAB and see the module's functions"
   ]
  },
  {
   "cell_type": "code",
   "execution_count": 6,
   "id": "01e86764",
   "metadata": {
    "id": "01e86764",
    "outputId": "f8cfe109-c87c-4c16-fb21-003484ee3f7a"
   },
   "outputs": [
    {
     "name": "stdout",
     "output_type": "stream",
     "text": [
      "['__doc__', '__file__', '__loader__', '__name__', '__package__', '__spec__', 'acos', 'acosh', 'asin', 'asinh', 'atan', 'atan2', 'atanh', 'cbrt', 'ceil', 'comb', 'copysign', 'cos', 'cosh', 'degrees', 'dist', 'e', 'erf', 'erfc', 'exp', 'exp2', 'expm1', 'fabs', 'factorial', 'floor', 'fmod', 'frexp', 'fsum', 'gamma', 'gcd', 'hypot', 'inf', 'isclose', 'isfinite', 'isinf', 'isnan', 'isqrt', 'lcm', 'ldexp', 'lgamma', 'log', 'log10', 'log1p', 'log2', 'modf', 'nan', 'nextafter', 'perm', 'pi', 'pow', 'prod', 'radians', 'remainder', 'sin', 'sinh', 'sqrt', 'tan', 'tanh', 'tau', 'trunc', 'ulp']\n"
     ]
    }
   ],
   "source": [
    "# Now that I've imported it, I can see what's inside.\n",
    "\n",
    "print(dir(math))"
   ]
  },
  {
   "cell_type": "markdown",
   "id": "27da3e96",
   "metadata": {
    "id": "27da3e96"
   },
   "source": [
    "In Python, there are special objects that start and end with double underscores in modules. These objects are used to exhibit special behaviors and are referred to as \"special dunder (double underscore) methods\" in the Python language.\n",
    "\n",
    "These objects can be used for many different purposes. For example, the init method is automatically called when a class instance is created and contains the code that sets up the instance's initial state. Similarly, the len method contains the code that calculates the length of an object, and the str method contains the code that creates a string representation of an object.\n",
    "\n",
    "These special objects are used by many different data types and classes in Python. These include particularly classes, attributes, methods, and modules.\n",
    "\n",
    "Exactly right! The init method is the first method called automatically when a class instance is created and is used to initialize instance attributes. Another use of special methods is to determine how objects perform arithmetic operations. For example, the add method can be used for the + operator, the sub method for the - operator, and so on.\n",
    "\n",
    "Additionally, special methods can be used to provide information about an object's contents and behavior. The len method is used to calculate the length of an object, while the str method is used to create a string representation of an object. Similarly, the repr method can be used to create a string representation of an object that is a descriptive character string.\n",
    "\n",
    "Special methods are an essential part of the Python programming language and are used frequently when writing Python code. When used correctly, they can make code more readable and understandable. However, when used unnecessarily, they can make code more complex."
   ]
  },
  {
   "cell_type": "code",
   "execution_count": 7,
   "id": "0a10b531",
   "metadata": {
    "id": "0a10b531",
    "outputId": "0726a94f-135f-42f1-cb63-4aa63a887b44"
   },
   "outputs": [
    {
     "name": "stdout",
     "output_type": "stream",
     "text": [
      "ModuleSpec(name='math', loader=<_frozen_importlib_external.ExtensionFileLoader object at 0x10e38dc10>, origin='/Users/kirbyurner/opt/anaconda3/envs/py311/lib/python3.11/lib-dynload/math.cpython-311-darwin.so')\n"
     ]
    }
   ],
   "source": [
    "print(math.__spec__)"
   ]
  },
  {
   "cell_type": "code",
   "execution_count": 8,
   "id": "a5732560",
   "metadata": {
    "id": "a5732560"
   },
   "outputs": [],
   "source": [
    "from math import pi, factorial, log10"
   ]
  },
  {
   "cell_type": "code",
   "execution_count": 9,
   "id": "354a9835",
   "metadata": {
    "id": "354a9835",
    "outputId": "df4d2e97-1e70-4809-deb4-d42ae4826475"
   },
   "outputs": [
    {
     "data": {
      "text/plain": [
       "3.141592653589793"
      ]
     },
     "execution_count": 9,
     "metadata": {},
     "output_type": "execute_result"
    }
   ],
   "source": [
    "pi"
   ]
  },
  {
   "cell_type": "code",
   "execution_count": 10,
   "id": "c463c900",
   "metadata": {
    "id": "c463c900",
    "outputId": "88f57d31-96c0-48d3-b51a-ba2541201cd3"
   },
   "outputs": [
    {
     "data": {
      "text/plain": [
       "120"
      ]
     },
     "execution_count": 10,
     "metadata": {},
     "output_type": "execute_result"
    }
   ],
   "source": [
    "factorial(5)"
   ]
  },
  {
   "cell_type": "code",
   "execution_count": 11,
   "id": "f2b41e94",
   "metadata": {
    "id": "f2b41e94"
   },
   "outputs": [],
   "source": [
    "def my_factorial(n) :\n",
    "    sonuç = 1\n",
    "\n",
    "    for i in range(1, n+1) :\n",
    "        sonuç *= i        \n",
    "\n",
    "    if n == 0 or n == 1 :\n",
    "        return 1    \n",
    "    else : return sonuç"
   ]
  },
  {
   "cell_type": "code",
   "execution_count": 12,
   "id": "87838f9b",
   "metadata": {
    "id": "87838f9b",
    "outputId": "0ab28475-f361-4516-83d6-ddbddf9e9b3b"
   },
   "outputs": [
    {
     "data": {
      "text/plain": [
       "3.0"
      ]
     },
     "execution_count": 12,
     "metadata": {},
     "output_type": "execute_result"
    }
   ],
   "source": [
    "log10(1000)"
   ]
  },
  {
   "cell_type": "markdown",
   "id": "1eaf49e4",
   "metadata": {
    "id": "1eaf49e4"
   },
   "source": [
    "**Task :**\n",
    "\n",
    "**Let’s import punctuation and digits function from string module**\n",
    "\n",
    "**Print the all punctuation marks and digits chars using these functions.**"
   ]
  },
  {
   "cell_type": "code",
   "execution_count": 13,
   "id": "ae3bf075",
   "metadata": {
    "id": "ae3bf075"
   },
   "outputs": [],
   "source": [
    "import string as stg"
   ]
  },
  {
   "cell_type": "code",
   "execution_count": 14,
   "id": "ff2f7c5c",
   "metadata": {
    "id": "ff2f7c5c",
    "outputId": "f542fd11-cfe9-4a68-a8a2-8263162e3626"
   },
   "outputs": [
    {
     "name": "stdout",
     "output_type": "stream",
     "text": [
      "!\"#$%&'()*+,-./:;<=>?@[\\]^_`{|}~\n"
     ]
    }
   ],
   "source": [
    "print(stg.punctuation)\n",
    "\n",
    "# This is a variable containing all punctuation marks"
   ]
  },
  {
   "cell_type": "code",
   "execution_count": 15,
   "id": "ee07e911",
   "metadata": {
    "id": "ee07e911",
    "outputId": "5abb900d-cec2-4ad4-cd6f-39ff355a487f"
   },
   "outputs": [
    {
     "data": {
      "text/plain": [
       "'0123456789'"
      ]
     },
     "execution_count": 15,
     "metadata": {},
     "output_type": "execute_result"
    }
   ],
   "source": [
    "stg.digits\n",
    "\n",
    "# this is a variable containing all digits."
   ]
  },
  {
   "cell_type": "code",
   "execution_count": 16,
   "id": "3fd37c59",
   "metadata": {
    "id": "3fd37c59",
    "outputId": "1a6e222c-cd6c-4476-9429-7654826168f1"
   },
   "outputs": [
    {
     "data": {
      "text/plain": [
       "['Formatter',\n",
       " 'Template',\n",
       " '_ChainMap',\n",
       " '__all__',\n",
       " '__builtins__',\n",
       " '__cached__',\n",
       " '__doc__',\n",
       " '__file__',\n",
       " '__loader__',\n",
       " '__name__',\n",
       " '__package__',\n",
       " '__spec__',\n",
       " '_re',\n",
       " '_sentinel_dict',\n",
       " '_string',\n",
       " 'ascii_letters',\n",
       " 'ascii_lowercase',\n",
       " 'ascii_uppercase',\n",
       " 'capwords',\n",
       " 'digits',\n",
       " 'hexdigits',\n",
       " 'octdigits',\n",
       " 'printable',\n",
       " 'punctuation',\n",
       " 'whitespace']"
      ]
     },
     "execution_count": 16,
     "metadata": {},
     "output_type": "execute_result"
    }
   ],
   "source": [
    "# Let's see what else is in the string module?\n",
    "\n",
    "dir(stg)"
   ]
  },
  {
   "cell_type": "markdown",
   "id": "090613df",
   "metadata": {
    "id": "090613df"
   },
   "source": [
    "## Task :\n",
    "\n",
    "**Let’s import today function from date object and now function from datetime object all from datetime module,**\n",
    "\n",
    "**Print the current date (yyyy-mm-dd) and time using these functions.**"
   ]
  },
  {
   "cell_type": "code",
   "execution_count": 17,
   "id": "3a715505",
   "metadata": {
    "id": "3a715505"
   },
   "outputs": [],
   "source": [
    "import datetime"
   ]
  },
  {
   "cell_type": "code",
   "execution_count": 18,
   "id": "a05fbc3e",
   "metadata": {
    "id": "a05fbc3e",
    "outputId": "4fd4268b-9c42-4f91-8340-94eccb32e761"
   },
   "outputs": [
    {
     "name": "stdout",
     "output_type": "stream",
     "text": [
      "2024-11-21\n"
     ]
    }
   ],
   "source": [
    "print(datetime.date.today())"
   ]
  },
  {
   "cell_type": "code",
   "execution_count": 19,
   "id": "9a398c9b",
   "metadata": {
    "id": "9a398c9b",
    "outputId": "441df1bc-f1fa-4f92-a3a1-af52b83557e4"
   },
   "outputs": [
    {
     "name": "stdout",
     "output_type": "stream",
     "text": [
      "2024-11-21 14:37:14.916972\n"
     ]
    }
   ],
   "source": [
    "print(datetime.datetime.now())"
   ]
  },
  {
   "cell_type": "markdown",
   "id": "cb594dc0",
   "metadata": {
    "id": "cb594dc0"
   },
   "source": [
    "## Task : \n",
    "\n",
    "**Using datetime module, write a program to calculate the following:**\n",
    "\n",
    "**According to the general acceptance, Ali was born on 22th April 571 AD, and died on 8th June 632 AD.** \n",
    "\n",
    "**How many days have he lived in his life?**"
   ]
  },
  {
   "cell_type": "code",
   "execution_count": 20,
   "id": "c1d463ab",
   "metadata": {
    "executionInfo": {
     "elapsed": 2,
     "status": "ok",
     "timestamp": 1681484963610,
     "user": {
      "displayName": "Edwin W",
      "userId": "11200791715119199957"
     },
     "user_tz": -180
    },
    "id": "c1d463ab"
   },
   "outputs": [],
   "source": [
    "from datetime import date"
   ]
  },
  {
   "cell_type": "code",
   "execution_count": 24,
   "id": "9b1d2163",
   "metadata": {
    "id": "9b1d2163"
   },
   "outputs": [
    {
     "data": {
      "text/plain": [
       "datetime.date(2024, 11, 21)"
      ]
     },
     "execution_count": 24,
     "metadata": {},
     "output_type": "execute_result"
    }
   ],
   "source": [
    "date(2024, 11, 21) # shift tab tab --> year, month, day"
   ]
  },
  {
   "cell_type": "code",
   "execution_count": 25,
   "id": "e05c2cc3",
   "metadata": {
    "executionInfo": {
     "elapsed": 2,
     "status": "ok",
     "timestamp": 1681484970395,
     "user": {
      "displayName": "Edwin W",
      "userId": "11200791715119199957"
     },
     "user_tz": -180
    },
    "id": "e05c2cc3"
   },
   "outputs": [],
   "source": [
    "birth = date(1809, 2, 12)\n",
    "\n",
    "# birth = date(571, 4, 22)"
   ]
  },
  {
   "cell_type": "code",
   "execution_count": null,
   "id": "0f5b00d2",
   "metadata": {
    "id": "0f5b00d2",
    "outputId": "38dfb121-ca97-4fe3-b66d-6df3f3b6e94e"
   },
   "outputs": [],
   "source": [
    "type(date(1809, 2, 12))\n",
    "\n",
    "# type(date(571, 4, 22))"
   ]
  },
  {
   "cell_type": "code",
   "execution_count": null,
   "id": "a4bf1a4d",
   "metadata": {
    "executionInfo": {
     "elapsed": 357,
     "status": "ok",
     "timestamp": 1681484975128,
     "user": {
      "displayName": "Edwin W",
      "userId": "11200791715119199957"
     },
     "user_tz": -180
    },
    "id": "a4bf1a4d"
   },
   "outputs": [],
   "source": [
    "death = date(1865, 4, 15)\n",
    "\n",
    "# death = date(632, 6, 8)"
   ]
  },
  {
   "cell_type": "code",
   "execution_count": null,
   "id": "0fd4ab3d",
   "metadata": {
    "colab": {
     "base_uri": "https://localhost:8080/"
    },
    "executionInfo": {
     "elapsed": 3,
     "status": "ok",
     "timestamp": 1681484977393,
     "user": {
      "displayName": "Edwin W",
      "userId": "11200791715119199957"
     },
     "user_tz": -180
    },
    "id": "0fd4ab3d",
    "outputId": "bb68cd74-d826-416d-d4d2-b3dd177a051c"
   },
   "outputs": [],
   "source": [
    "death - birth"
   ]
  },
  {
   "cell_type": "code",
   "execution_count": null,
   "id": "9d855e30",
   "metadata": {
    "colab": {
     "base_uri": "https://localhost:8080/"
    },
    "executionInfo": {
     "elapsed": 3,
     "status": "ok",
     "timestamp": 1681484981202,
     "user": {
      "displayName": "Edwin W",
      "userId": "11200791715119199957"
     },
     "user_tz": -180
    },
    "id": "9d855e30",
    "outputId": "4c9f1526-3307-479c-f7c0-8d139bdb4786"
   },
   "outputs": [],
   "source": [
    "print(death - birth)"
   ]
  },
  {
   "cell_type": "code",
   "execution_count": null,
   "id": "bb61d4cc",
   "metadata": {
    "colab": {
     "base_uri": "https://localhost:8080/"
    },
    "executionInfo": {
     "elapsed": 1378,
     "status": "ok",
     "timestamp": 1681484986174,
     "user": {
      "displayName": "Edwin W",
      "userId": "11200791715119199957"
     },
     "user_tz": -180
    },
    "id": "bb61d4cc",
    "outputId": "cfa1492e-09df-4b43-94fc-348a4dc1f14d"
   },
   "outputs": [],
   "source": [
    "date.toordinal(death)"
   ]
  },
  {
   "cell_type": "code",
   "execution_count": null,
   "id": "be32b55a",
   "metadata": {
    "colab": {
     "base_uri": "https://localhost:8080/"
    },
    "executionInfo": {
     "elapsed": 252,
     "status": "ok",
     "timestamp": 1681484988903,
     "user": {
      "displayName": "Edwin W",
      "userId": "11200791715119199957"
     },
     "user_tz": -180
    },
    "id": "be32b55a",
    "outputId": "9d7f7a79-c993-4b3e-c44e-b4421ffc07ce"
   },
   "outputs": [],
   "source": [
    "date.toordinal(birth)"
   ]
  },
  {
   "cell_type": "code",
   "execution_count": null,
   "id": "b0168271",
   "metadata": {
    "colab": {
     "base_uri": "https://localhost:8080/"
    },
    "executionInfo": {
     "elapsed": 335,
     "status": "ok",
     "timestamp": 1681484991489,
     "user": {
      "displayName": "Edwin W",
      "userId": "11200791715119199957"
     },
     "user_tz": -180
    },
    "id": "b0168271",
    "outputId": "79fe23bc-6628-41dd-cb8a-357251b78e09"
   },
   "outputs": [],
   "source": [
    "life_day = date.toordinal(death) - date.toordinal(birth)\n",
    "life_day"
   ]
  },
  {
   "cell_type": "code",
   "execution_count": null,
   "id": "7SK85eQWUQS3",
   "metadata": {
    "colab": {
     "base_uri": "https://localhost:8080/"
    },
    "executionInfo": {
     "elapsed": 729,
     "status": "ok",
     "timestamp": 1681485010920,
     "user": {
      "displayName": "Edwin W",
      "userId": "11200791715119199957"
     },
     "user_tz": -180
    },
    "id": "7SK85eQWUQS3",
    "outputId": "de05a917-0d16-49b3-919d-c2c40422e73b"
   },
   "outputs": [],
   "source": [
    "from datetime import date\n",
    "\n",
    "birth = date(1809, 2, 12)\n",
    "death = date(1865, 4, 15)\n",
    "\n",
    "life_day = date.toordinal(death) - date.toordinal(birth)\n",
    "life_day"
   ]
  },
  {
   "cell_type": "markdown",
   "id": "c0e44bae",
   "metadata": {
    "id": "c0e44bae"
   },
   "source": [
    "## \"random\" is a module that contains functions that allow us to select randomly from various data types.\n",
    "\n",
    "## Task :\n",
    "\n",
    "**Let’s import choice function from random module,**\n",
    "\n",
    "**Print one of the element of the following list randomly.**"
   ]
  },
  {
   "cell_type": "code",
   "execution_count": null,
   "id": "8cad71e2",
   "metadata": {
    "id": "8cad71e2"
   },
   "outputs": [],
   "source": [
    "city = [\"stockholm\", \"istanbul\", \"seul\", \"cape town\"]"
   ]
  },
  {
   "cell_type": "code",
   "execution_count": null,
   "id": "62af18ae",
   "metadata": {
    "id": "62af18ae"
   },
   "outputs": [],
   "source": [
    "from random import choice"
   ]
  },
  {
   "cell_type": "code",
   "execution_count": null,
   "id": "4c8ebd20",
   "metadata": {
    "id": "4c8ebd20",
    "outputId": "d800bfcd-898a-4a08-f8c1-3806e82f1543"
   },
   "outputs": [],
   "source": [
    "choice(city)"
   ]
  },
  {
   "cell_type": "markdown",
   "id": "a6d7edb7-69f2-470e-bf65-0124ab9f23d1",
   "metadata": {},
   "source": [
    "## Package Managers:  conda and pip"
   ]
  },
  {
   "cell_type": "code",
   "execution_count": 29,
   "id": "e9089d54",
   "metadata": {
    "id": "e9089d54",
    "outputId": "75870da9-1696-4951-ca3d-a4758760c73f"
   },
   "outputs": [
    {
     "name": "stdout",
     "output_type": "stream",
     "text": [
      "conda 24.7.1\n"
     ]
    }
   ],
   "source": [
    "# Let's look at the version of our conda utility\n",
    "\n",
    "! conda --version"
   ]
  },
  {
   "cell_type": "code",
   "execution_count": 26,
   "id": "f162005a",
   "metadata": {
    "id": "f162005a"
   },
   "outputs": [],
   "source": [
    "# let's import numpy module.\n",
    "\n",
    "import numpy"
   ]
  },
  {
   "cell_type": "code",
   "execution_count": null,
   "id": "30fa6b84",
   "metadata": {
    "id": "30fa6b84"
   },
   "outputs": [],
   "source": [
    "# !pip install numpy  DON'T DO THIS "
   ]
  },
  {
   "cell_type": "code",
   "execution_count": 30,
   "id": "4abcf0ea",
   "metadata": {
    "id": "4abcf0ea",
    "outputId": "ca537ec7-8fcb-4091-a068-cffa723ddbee"
   },
   "outputs": [],
   "source": [
    "#  Let's see what libraries my jupyter can run.\n",
    "\n",
    "# ! conda list # might take awhile"
   ]
  },
  {
   "cell_type": "code",
   "execution_count": 33,
   "id": "c219b38d",
   "metadata": {
    "id": "c219b38d",
    "outputId": "ad30c03d-d3aa-4333-f3bf-e0f48a5a7f17",
    "scrolled": true
   },
   "outputs": [
    {
     "name": "stdout",
     "output_type": "stream",
     "text": [
      "\n",
      "     active environment : base\n",
      "    active env location : /Users/kirbyurner/opt/anaconda3/envs/py311\n",
      "            shell level : 1\n",
      "       user config file : /Users/kirbyurner/.condarc\n",
      " populated config files : /Users/kirbyurner/.condarc\n",
      "          conda version : 24.7.1\n",
      "    conda-build version : not installed\n",
      "         python version : 3.11.3.final.0\n",
      "                 solver : libmamba (default)\n",
      "       virtual packages : __archspec=1=broadwell\n",
      "                          __conda=24.7.1=0\n",
      "                          __osx=12.7.6=0\n",
      "                          __unix=0=0\n",
      "       base environment : /Users/kirbyurner/opt/anaconda3/envs/py311  (writable)\n",
      "      conda av data dir : /Users/kirbyurner/opt/anaconda3/envs/py311/etc/conda\n",
      "  conda av metadata url : None\n",
      "           channel URLs : https://conda.anaconda.org/conda-forge/osx-64\n",
      "                          https://conda.anaconda.org/conda-forge/noarch\n",
      "                          https://repo.anaconda.com/pkgs/main/osx-64\n",
      "                          https://repo.anaconda.com/pkgs/main/noarch\n",
      "                          https://repo.anaconda.com/pkgs/r/osx-64\n",
      "                          https://repo.anaconda.com/pkgs/r/noarch\n",
      "          package cache : /Users/kirbyurner/opt/anaconda3/envs/py311/pkgs\n",
      "                          /Users/kirbyurner/.conda/pkgs\n",
      "       envs directories : /Users/kirbyurner/opt/anaconda3/envs/py311/envs\n",
      "                          /Users/kirbyurner/.conda/envs\n",
      "               platform : osx-64\n",
      "             user-agent : conda/24.7.1 requests/2.32.3 CPython/3.11.3 Darwin/21.6.0 OSX/12.7.6 solver/libmamba conda-libmamba-solver/24.9.0 libmambapy/1.5.8\n",
      "                UID:GID : 501:20\n",
      "             netrc file : None\n",
      "           offline mode : False\n",
      "\n",
      "\n"
     ]
    }
   ],
   "source": [
    "# we can display the information of a module on the screen.\n",
    "\n",
    "! conda info"
   ]
  },
  {
   "cell_type": "code",
   "execution_count": 34,
   "id": "63ca8861-9e21-4265-a21f-9d0503e02b3e",
   "metadata": {},
   "outputs": [
    {
     "name": "stdout",
     "output_type": "stream",
     "text": [
      "# packages in environment at /Users/kirbyurner/opt/anaconda3/envs/py311:\n",
      "#\n",
      "# Name                    Version                   Build  Channel\n",
      "numpy                     1.26.4          py311hc43a94b_0    conda-forge\n",
      "numpydoc                  1.8.0              pyhd8ed1ab_0    conda-forge\n"
     ]
    }
   ],
   "source": [
    "! conda list numpy"
   ]
  },
  {
   "cell_type": "markdown",
   "id": "f2438359",
   "metadata": {
    "id": "f2438359"
   },
   "source": [
    "<a id=\"toc\"></a>\n",
    "\n",
    "### <p style=\"background-color:#0D8D99; font-family:newtimeroman; color:#FFF9ED; font-size:175%; text-align:center; border-radius:10px 10px;\">Comparing \"list comprehension\" vs. \"for loop\" performance<br> with timeit module.</p>"
   ]
  },
  {
   "cell_type": "markdown",
   "id": "a15ff140",
   "metadata": {
    "id": "a15ff140"
   },
   "source": [
    "When we research, we come across information that list comprehension provides us with a speed advantage. But have you ever thought about how we can test this?\n",
    "\n",
    "List comprehension expands a list for us with a loop and returns a list in the end. So, if I create a list using both \"for loop\" and list comprehension and measure the time it takes for both of them to complete, I will have tested how much faster list comprehension is.\n",
    "\n",
    "Are you curious about how much difference there will be at the millisecond level?\n",
    "Let's do this together:"
   ]
  },
  {
   "cell_type": "code",
   "execution_count": null,
   "id": "6e4e358d",
   "metadata": {
    "id": "6e4e358d"
   },
   "outputs": [],
   "source": [
    "from timeit import timeit "
   ]
  },
  {
   "cell_type": "code",
   "execution_count": null,
   "id": "905838dc",
   "metadata": {
    "id": "905838dc"
   },
   "outputs": [],
   "source": [
    "timeit() # shift tab tab"
   ]
  },
  {
   "cell_type": "markdown",
   "id": "b21aae82",
   "metadata": {
    "id": "b21aae82"
   },
   "source": [
    "We can put a function inside the timeit function and run it one million times. timeit keeps track of its duration and produces a timer object. We obtain the elapsed time in milliseconds.\n",
    "\n",
    "**First, let's define a function that uses a classic for loop inside. This function should generate a number series and add them up in a list:**"
   ]
  },
  {
   "cell_type": "code",
   "execution_count": null,
   "id": "ba85b432",
   "metadata": {
    "id": "ba85b432"
   },
   "outputs": [],
   "source": [
    "def for_loop():\n",
    "    result = [] \n",
    "    \n",
    "    for i in range(1000000) : # Let's loop it 1 million times.\n",
    "        result.append(i)\n",
    "    return result  # finally return my list."
   ]
  },
  {
   "cell_type": "markdown",
   "id": "7d27b604",
   "metadata": {
    "id": "7d27b604"
   },
   "source": [
    "**Then, let's define another function that does the same job using a list comprehension.**"
   ]
  },
  {
   "cell_type": "code",
   "execution_count": null,
   "id": "19e3b808",
   "metadata": {
    "id": "19e3b808"
   },
   "outputs": [],
   "source": [
    "def list_comp() :\n",
    "    return [i for i in range(1000000)]"
   ]
  },
  {
   "cell_type": "markdown",
   "id": "c6f22e43",
   "metadata": {
    "id": "c6f22e43"
   },
   "source": [
    "**Now let's compare these two functions with the timeit function:**"
   ]
  },
  {
   "cell_type": "code",
   "execution_count": null,
   "id": "30728f8f",
   "metadata": {
    "id": "30728f8f"
   },
   "outputs": [],
   "source": [
    "size = 100\n",
    "\n",
    "time_for = timeit(for_loop, number = size)\n",
    "# This is the time for the for loop to complete the operation\n",
    "\n",
    "time_list_comp = timeit(list_comp, number = size)\n",
    "# This is the time for the list comprehension to complete the operation"
   ]
  },
  {
   "cell_type": "markdown",
   "id": "d9c7c89a",
   "metadata": {
    "id": "d9c7c89a"
   },
   "source": [
    "**Let's print this comparison to the screen in an understandable way:**"
   ]
  },
  {
   "cell_type": "code",
   "execution_count": null,
   "id": "86026a6f",
   "metadata": {
    "id": "86026a6f",
    "outputId": "a1465818-1419-413e-8e87-f81ef61bd998"
   },
   "outputs": [],
   "source": [
    "print(f\"List Comp. is {round(time_for/time_list_comp, 2)} times faster than for loops.\")"
   ]
  },
  {
   "cell_type": "markdown",
   "id": "b62d8109",
   "metadata": {
    "id": "b62d8109"
   },
   "source": [
    "# <a id=\"toc\"></a>\n",
    "\n",
    "### <p style=\"background-color:#0D8D99; font-family:newtimeroman; color:#FFF9ED; font-size:175%; text-align:center; border-radius:10px 10px;\">An Algorithm Exercise</p>"
   ]
  },
  {
   "cell_type": "markdown",
   "id": "1ef12d56",
   "metadata": {
    "id": "1ef12d56"
   },
   "source": [
    "<a id=\"toc\"></a>\n",
    "\n",
    "### <p style=\"background-color:#9d4f8c; font-family:newtimeroman; color:#FFF9ED; font-size:175%; text-align:center; border-radius:10px 10px;\">Recursivity</p>"
   ]
  },
  {
   "cell_type": "markdown",
   "id": "f8b0293d",
   "metadata": {
    "id": "f8b0293d"
   },
   "source": [
    "In Python, recursive functions are used to solve a problem by calling themselves. These types of functions are commonly used to work with repeating structures such as tree structures or recursive mathematical operations.\n",
    "\n",
    "Recursive functions stop calling themselves and return when a condition is reached, which is sometimes referred to as the **\"base case\"**. The main function of a recursive function is to call itself until the base case is reached, and then combine the results.\n",
    "\n",
    "Recursive functions often help you create simpler and more understandable code. However, they can cause infinite loops when misused or conditioned incorrectly.\n",
    "\n",
    "**Recursive functions are typically defined like this:**"
   ]
  },
  {
   "cell_type": "code",
   "execution_count": null,
   "id": "76e47d1a",
   "metadata": {
    "id": "76e47d1a"
   },
   "outputs": [],
   "source": [
    "def recursive_function(parameters):\n",
    "    if base_case_condition:\n",
    "        return base_case_value\n",
    "    else:\n",
    "        recursive_function(modified_parameters)"
   ]
  },
  {
   "cell_type": "markdown",
   "id": "798c568a",
   "metadata": {
    "id": "798c568a"
   },
   "source": [
    "Here, base_case_condition is the condition that determines the base case, and base_case_value is the value that will be returned at the base case.\n",
    "\n",
    "modified_parameters are the parameters that are modified when the function is called again."
   ]
  },
  {
   "cell_type": "markdown",
   "id": "17ec98f5",
   "metadata": {
    "id": "17ec98f5"
   },
   "source": [
    "**For example, when we want to write a code to find the factorial of a number, we can easily solve it using a recursive function**"
   ]
  },
  {
   "cell_type": "markdown",
   "id": "4f8d3829",
   "metadata": {
    "id": "4f8d3829"
   },
   "source": [
    "<hr>\n",
    "\n",
    "Let's first write a program using the traditional way to find the factorial of a number. Then, let's solve the same problem using recursion function and compare the difference between them.\n",
    "<hr>"
   ]
  },
  {
   "cell_type": "markdown",
   "id": "ad1faa3e",
   "metadata": {
    "id": "ad1faa3e"
   },
   "source": [
    "<hr>\n",
    "\n",
    "The factorial of a positive integer is the product of all positive integers starting from 1 up to and including that number.\n",
    "\n",
    "For example, the factorial of 5 is 1 * 2 * 3 * 4 * 5 = 120.\n",
    "<hr>"
   ]
  },
  {
   "cell_type": "markdown",
   "id": "52492c2c",
   "metadata": {
    "id": "52492c2c"
   },
   "source": [
    "<hr>\n",
    "\n",
    "When defining our algorithm, we need to find a connection or pattern between the result and the numbers involved. \n",
    "\n",
    "Multiplying all numbers between 1 and the given number means multiplying that number by one less each time. Yes, I noticed this relationship. \n",
    "\n",
    "So, I need to use a number sequence here. If I'm going to use a number sequence, I immediately think of the range() function.\n",
    "\n",
    "Yes, I need the range function because if I'm going to find the factorial of 5, I will need all numbers from 1 to 5 inclusive. If I'm going to find the factorial of 10, I will need all numbers from 1 to 10 inclusive. I will multiply them with each other.\n",
    "<hr>"
   ]
  },
  {
   "cell_type": "markdown",
   "id": "34fe5321",
   "metadata": {
    "id": "34fe5321"
   },
   "source": [
    "If I'm going to use each element of this number array, then a for loop is winking at me here. \n",
    "\n",
    "We are talking about element-wise iteration because we will take one element at each iteration and perform a mathematical operation. \n",
    "\n",
    "In each iteration of the loop, we will multiply the next element with the previous one and update the result by multiplying it with the next element in the next iteration."
   ]
  },
  {
   "cell_type": "code",
   "execution_count": null,
   "id": "d19ca155",
   "metadata": {
    "id": "d19ca155"
   },
   "outputs": [],
   "source": [
    "def my_factorial(n) :  \n",
    "    result = 1 \n",
    "    for i in range(1, n+1) : \n",
    "        result *= i\n",
    "    return result"
   ]
  },
  {
   "cell_type": "code",
   "execution_count": null,
   "id": "aa3a8885",
   "metadata": {
    "id": "aa3a8885",
    "outputId": "b58fe20f-0a15-405d-c6f0-32957f8a43ab"
   },
   "outputs": [],
   "source": [
    "my_factorial(5)"
   ]
  },
  {
   "cell_type": "markdown",
   "id": "1fc6550e",
   "metadata": {
    "id": "1fc6550e"
   },
   "source": [
    "**The factorial of 0 and 1 is also 1.**\n",
    "\n",
    "If we think that there are exceptions in our code, we should think of **\"conditions\"**. \n",
    "\n",
    "**I should use an if statement so that the result returns as I have specified under certain conditions**"
   ]
  },
  {
   "cell_type": "code",
   "execution_count": null,
   "id": "6be1e262",
   "metadata": {
    "id": "6be1e262"
   },
   "outputs": [],
   "source": [
    "def my_factorial(n) :  \n",
    "    result = 1 \n",
    "    for i in range(1, n+1) : \n",
    "        result *= i\n",
    "    if n == 0 or n == 1 :  # If the value of n is 0 or 1, return the result as 1.\n",
    "        return 1 \n",
    "    else :  # If the value of n is not 0 or 1, return whatever the result is.\n",
    "        return result"
   ]
  },
  {
   "cell_type": "code",
   "execution_count": null,
   "id": "715349ec",
   "metadata": {
    "id": "715349ec",
    "outputId": "a365e3ca-9227-4b44-8cb6-8c2ef46e9843"
   },
   "outputs": [],
   "source": [
    "my_factorial(1)"
   ]
  },
  {
   "cell_type": "markdown",
   "id": "50a34b61",
   "metadata": {
    "id": "50a34b61"
   },
   "source": [
    "### Now let's achieve the same solution using a recursive function:\n",
    "\n",
    "**Since a recursive function calls itself, there is a risk of entering an infinite loop; therefore, YOU MUST USE A CONDITION.**\n",
    "\n",
    "We write recursive functions in two conditions:\n",
    "\n",
    "The first condition is the **\"base case\"** condition in which we determine under which condition the recursion will end.\n",
    "\n",
    "The second condition is the **\"recursive case\"** condition that contains the general solution of the function that we call itself"
   ]
  },
  {
   "cell_type": "code",
   "execution_count": null,
   "id": "df12e16d",
   "metadata": {
    "id": "df12e16d"
   },
   "outputs": [],
   "source": [
    "def factorial(n) :  \n",
    "    if n == 1 or n == 0 : # This is the 'base case', \n",
    "                # and if the value of n is 1 or 0, the code block of this if statement will run, \n",
    "                # and the function will terminate.\n",
    "        return 1  \n",
    "    else :  # This is the condition that contains the general solution, \n",
    "        # and the case that contains the general solution should be here.\n",
    "        return n * factorial(n-1)"
   ]
  },
  {
   "cell_type": "markdown",
   "id": "0f08093d",
   "metadata": {
    "id": "0f08093d"
   },
   "source": [
    "**Let's try to understand the recursive operation we did with the following diagram:**\n",
    "\n",
    "Let's assume that we are calculating the factorial of 3 instead of 5 to simplify the explanation:\n",
    "\n",
    "The function will be initially called with 3 as its argument. When the Python interpreter reads the code block of **else**, it will execute the code **\"3 multiplied by factorial(3-1)\"**. \n",
    "\n",
    "Therefore, it will not return a result at this point because the factorial() function will be called with the argument \"n-1\", which is 2.\n",
    "\n",
    "Unlike in the for loop, the interpreter does not go back to the beginning. \n",
    "\n",
    "When the function is called with 2 as its argument, this time the code block of **else** will run with the code **\"3 multiplied by 2 multiplied by factorial(2-1)\"**. \n",
    "\n",
    "So, this time the factorial() function will be called with 1 as its argument. **When the function is called with 1, the 'base case' condition will occur, and the if condition will return True, and the recursive function will terminate by returning 1.**\n",
    "\n",
    "**At the end of all these operations, what will be returned is 3 times 2 times 1. Therefore, it will return the factorial of 3.**"
   ]
  },
  {
   "cell_type": "markdown",
   "id": "4e040bb9",
   "metadata": {
    "id": "4e040bb9"
   },
   "source": [
    "## Note! \n",
    "\n",
    "This function calculates factorial using **base case** checks and **recursive** calls. \n",
    "\n",
    "**However, because recursive functions tend to run slower and use more memory, it is not the preferred method for simple operations like factorial.**"
   ]
  },
  {
   "cell_type": "markdown",
   "id": "PHC0AlNKvLXN",
   "metadata": {
    "id": "PHC0AlNKvLXN"
   },
   "source": [
    "### Let's compare performance of recursive and normal functions with factorial calculation :"
   ]
  },
  {
   "cell_type": "code",
   "execution_count": null,
   "id": "9pls6fmWvNg6",
   "metadata": {
    "colab": {
     "base_uri": "https://localhost:8080/"
    },
    "executionInfo": {
     "elapsed": 4,
     "status": "ok",
     "timestamp": 1681173335308,
     "user": {
      "displayName": "Edwin W",
      "userId": "11200791715119199957"
     },
     "user_tz": -180
    },
    "id": "9pls6fmWvNg6",
    "outputId": "96b6ed10-9b2f-4d1a-fb01-a415aab3f0cc"
   },
   "outputs": [],
   "source": [
    "import time\n",
    "\n",
    "# Recursive fonksiyon ile faktöriyel hesabı\n",
    "def factorial_recursive(n):\n",
    "    if n == 0 or n == 1:\n",
    "        return 1\n",
    "    else:\n",
    "        return n * factorial_recursive(n-1)\n",
    "\n",
    "# Iterative fonksiyon ile faktöriyel hesabı\n",
    "def factorial_iterative(n):\n",
    "    result = 1\n",
    "    for i in range(1, n+1):\n",
    "        result *= i\n",
    "    return result\n",
    "\n",
    "# Zaman ölçümü\n",
    "start_time = time.time()\n",
    "factorial_recursive(500)\n",
    "end_time_recursive = time.time()\n",
    "time1 = round(((end_time_recursive - start_time)*1000), 4)\n",
    "\n",
    "print(\"Recursive function execution time: \", time1)\n",
    "\n",
    "start_time = time.time()\n",
    "factorial_iterative(500)\n",
    "end_time_iterative = time.time()\n",
    "time2 = round(((end_time_iterative - start_time)*1000), 4)\n",
    "\n",
    "print(\"Iterative function execution time: \", time2)\n",
    "\n",
    "print(\"Recursive function is {} times slower than iterative function\".format(time1/time2))"
   ]
  },
  {
   "cell_type": "markdown",
   "id": "caec2a7f",
   "metadata": {
    "id": "caec2a7f"
   },
   "source": [
    " # Some examples of solutions with recursive functions :\n",
    " \n",
    " ## Please review these codes in your post-class studies!"
   ]
  },
  {
   "cell_type": "markdown",
   "id": "d9ee47c4",
   "metadata": {
    "id": "d9ee47c4"
   },
   "source": [
    "### Reverse a string"
   ]
  },
  {
   "cell_type": "code",
   "execution_count": null,
   "id": "5736b46b",
   "metadata": {
    "id": "5736b46b"
   },
   "outputs": [],
   "source": [
    "def reverse(string):\n",
    "    if len(string) == 0:\n",
    "        return string\n",
    "    else:\n",
    "        return reverse(string[1:]) + string[0]\n",
    "\n",
    "\n",
    "reverseme = 'Desserts'\n",
    "print(reverse(reverseme))"
   ]
  },
  {
   "cell_type": "markdown",
   "id": "14fb48c5",
   "metadata": {
    "id": "14fb48c5"
   },
   "source": [
    "### Fibonacci Sequence"
   ]
  },
  {
   "cell_type": "code",
   "execution_count": null,
   "id": "d7869ee7",
   "metadata": {
    "id": "d7869ee7",
    "outputId": "da5eb35f-cf7b-43be-c609-c1e6ed82416d"
   },
   "outputs": [],
   "source": [
    "def fibonacci(n):\n",
    "    if n <= 1:\n",
    "        return n\n",
    "    else:\n",
    "        return fibonacci(n - 1) + fibonacci(n - 2)\n",
    "\n",
    "\n",
    "number = 11\n",
    "\n",
    "print('Fibonacci sequence:')\n",
    "for i in range(number):\n",
    "    print(fibonacci(i), end =\" \")"
   ]
  },
  {
   "cell_type": "markdown",
   "id": "3fe6696e",
   "metadata": {
    "id": "3fe6696e"
   },
   "source": [
    "### \"n\"th fibbonacci number"
   ]
  },
  {
   "cell_type": "code",
   "execution_count": null,
   "id": "563973fd",
   "metadata": {
    "id": "563973fd",
    "outputId": "09300339-7f80-4ef8-94e4-006ad495a043"
   },
   "outputs": [],
   "source": [
    "def fibonacci(nthNumber):\n",
    "    if nthNumber == 1 or nthNumber == 2:\n",
    "        # BASE CASE\n",
    "        return 1\n",
    "    else:\n",
    "        # RECURSIVE CASE\n",
    "        result = fibonacci(nthNumber - 1)\n",
    "        result = result + fibonacci(nthNumber - 2)\n",
    "        return result\n",
    "\n",
    "print(fibonacci(10))"
   ]
  },
  {
   "cell_type": "markdown",
   "id": "f54af8cd",
   "metadata": {
    "id": "f54af8cd"
   },
   "source": [
    "###  The sum of numbers from 1 to n like 1 + 2 + 3 + 4 +, etc."
   ]
  },
  {
   "cell_type": "code",
   "execution_count": null,
   "id": "46cff7ba",
   "metadata": {
    "id": "46cff7ba",
    "outputId": "2d50fa67-31f5-4c25-f495-7be161643b73"
   },
   "outputs": [],
   "source": [
    "def sumnums(n):\n",
    "    if n == 1:\n",
    "        return 1\n",
    "    return n + sumnums(n - 1)\n",
    "\n",
    "\n",
    "print(sumnums(5))"
   ]
  },
  {
   "cell_type": "markdown",
   "id": "9704db40",
   "metadata": {
    "id": "9704db40"
   },
   "source": [
    "### Count down and up"
   ]
  },
  {
   "cell_type": "code",
   "execution_count": null,
   "id": "5e2cb30c",
   "metadata": {
    "id": "5e2cb30c",
    "outputId": "e646f851-b0a5-4c63-f7f6-2c65bdfcbc4f"
   },
   "outputs": [],
   "source": [
    "def countDownAndUp(number):\n",
    "    print(number)\n",
    "    if number == 0:\n",
    "        # BASE CASE\n",
    "        print('Reached the base case.')\n",
    "        return\n",
    "    else:\n",
    "        # RECURSIVE CASE\n",
    "        countDownAndUp(number - 1)\n",
    "        print(number)\n",
    "        return\n",
    "\n",
    "countDownAndUp(3)"
   ]
  }
 ],
 "metadata": {
  "colab": {
   "provenance": []
  },
  "kernelspec": {
   "display_name": "Python 3 (ipykernel)",
   "language": "python",
   "name": "python3"
  },
  "language_info": {
   "codemirror_mode": {
    "name": "ipython",
    "version": 3
   },
   "file_extension": ".py",
   "mimetype": "text/x-python",
   "name": "python",
   "nbconvert_exporter": "python",
   "pygments_lexer": "ipython3",
   "version": "3.11.3"
  }
 },
 "nbformat": 4,
 "nbformat_minor": 5
}
