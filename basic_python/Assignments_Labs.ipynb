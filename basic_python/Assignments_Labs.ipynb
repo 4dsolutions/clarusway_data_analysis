{
 "cells": [
  {
   "cell_type": "markdown",
   "id": "d5b359e7-450e-4546-870f-9c710616e4d2",
   "metadata": {},
   "source": [
    "#### Clarusway Python\n",
    "\n",
    "* [Instructor Landing Page](landing_page.ipynb)\n",
    "* <a href=\"https://colab.research.google.com/github/4dsolutions/clarusway_data_analysis/blob/main/basic_python/Assignments_Labs.ipynb\"><img align=\"left\" src=\"https://colab.research.google.com/assets/colab-badge.svg\" alt=\"Open in Colab\" title=\"Open and Execute in Google Colaboratory\"></a>\n",
    "* [![nbviewer](https://raw.githubusercontent.com/jupyter/design/master/logos/Badges/nbviewer_badge.svg)](https://nbviewer.org/github/4dsolutions/clarusway_data_analysis/blob/main/basic_python/Assignments_Labs.ipynb)"
   ]
  },
  {
   "cell_type": "markdown",
   "id": "32397c73-7210-42e8-b0cd-28cfbf44ad62",
   "metadata": {},
   "source": [
    "## Tips for Self Teaching\n",
    "\n",
    "Formulate input and output in terms of files and see it as the task of your code to match the same outputs to the same inputs.\n",
    "\n",
    "For example, a typical challenge is to answer the question: what element occurs most often in an iterable collection, say what character in a string, or in a list of emoji?"
   ]
  },
  {
   "cell_type": "code",
   "execution_count": 19,
   "id": "a0bda460-fb87-468f-9e50-d1da3b9fb10a",
   "metadata": {},
   "outputs": [],
   "source": [
    "from random import randint"
   ]
  },
  {
   "cell_type": "code",
   "execution_count": 20,
   "id": "2095403c-daa3-4a91-892a-0d0cb7d05817",
   "metadata": {},
   "outputs": [],
   "source": [
    "def randint_samp(a, b, how_many):\n",
    "    return [randint(a, b) for _ in range(how_many)]"
   ]
  },
  {
   "cell_type": "code",
   "execution_count": 21,
   "id": "f5bf2239-3478-42aa-9bbf-844461be90a0",
   "metadata": {},
   "outputs": [],
   "source": [
    "# the_input = randint_samp(9, 34, 100)\n",
    "the_input = [3, 4, 3, 1, 5, 1, 3, 7, 4, 4, 9, 0, 8, 8, 3, 2, 6, 2, 6, 5, 4, 6, 9, 5, 0, 0, 4, 1, 6, 8]"
   ]
  },
  {
   "cell_type": "markdown",
   "id": "64c1218f-886c-499b-9a28-e5c813a569f7",
   "metadata": {},
   "source": [
    "Here's how to save out the list as a json file:"
   ]
  },
  {
   "cell_type": "code",
   "execution_count": 22,
   "id": "5068109d-8290-4ba2-aa2a-5636fc5a9c5e",
   "metadata": {},
   "outputs": [],
   "source": [
    "import json"
   ]
  },
  {
   "cell_type": "markdown",
   "id": "bdee9698-bd3f-4f11-824d-17a7b402ad0a",
   "metadata": {},
   "source": [
    "The json module comes with two main functions: `dumps` and `loads`. To dump is to read out to a JSON-formatted string, typically saved as a file. To loads is to read in from a string, typically from a saved file, and to decode into a Python dict."
   ]
  },
  {
   "cell_type": "code",
   "execution_count": 23,
   "id": "be4034a4-e8b1-4f5e-a403-706f200f4a42",
   "metadata": {},
   "outputs": [],
   "source": [
    "# help(json.loads)\n",
    "# help(json.dumps)"
   ]
  },
  {
   "cell_type": "code",
   "execution_count": 24,
   "id": "0b438dd4-c250-4ee1-baf0-f452cbd366e9",
   "metadata": {},
   "outputs": [],
   "source": [
    "out = open(\"lab_puzzle.txt\", \"w\")\n",
    "out.write(json.dumps({\"input\": the_input}))  # saving a dict\n",
    "out.close()"
   ]
  },
  {
   "cell_type": "markdown",
   "id": "45b03441-616c-4b20-9949-538b4366b412",
   "metadata": {},
   "source": [
    "What hath we wrought?"
   ]
  },
  {
   "cell_type": "code",
   "execution_count": 25,
   "id": "005d34cc-924a-4a03-9ec9-8c868e3cfa1b",
   "metadata": {},
   "outputs": [
    {
     "name": "stdout",
     "output_type": "stream",
     "text": [
      "{\"input\": [3, 4, 3, 1, 5, 1, 3, 7, 4, 4, 9, 0, 8, 8, 3, 2, 6, 2, 6, 5, 4, 6, 9, 5, 0, 0, 4, 1, 6, 8]}\n"
     ]
    }
   ],
   "source": [
    "in_file = open(\"lab_puzzle.txt\", \"r\")\n",
    "print(in_file.read())\n",
    "in_file.close()"
   ]
  },
  {
   "cell_type": "markdown",
   "id": "c9551fb3-c257-4095-b988-b3133d3261e8",
   "metadata": {},
   "source": [
    "That looks like a dict, but it's just a string in its current form, like a fish in the freezer.\n",
    "\n",
    "Lets get our puzzle input list back out (let's thaw at the fish), as a list:"
   ]
  },
  {
   "cell_type": "code",
   "execution_count": 26,
   "id": "2e440861-f5a9-4c02-8d74-aa751ce397ca",
   "metadata": {},
   "outputs": [
    {
     "name": "stdout",
     "output_type": "stream",
     "text": [
      "[3, 4, 3, 1, 5, 1, 3, 7, 4, 4, 9, 0, 8, 8, 3, 2, 6, 2, 6, 5, 4, 6, 9, 5, 0, 0, 4, 1, 6, 8]\n"
     ]
    }
   ],
   "source": [
    "in_file = open(\"lab_puzzle.txt\", \"r\")\n",
    "in_dict = json.loads(in_file.read())\n",
    "in_file.close()\n",
    "the_list = in_dict[\"input\"]\n",
    "print(the_list)"
   ]
  },
  {
   "cell_type": "markdown",
   "id": "3cb97872-2ab8-4ec0-9a50-95a92a805756",
   "metadata": {},
   "source": [
    "Now comes the real work of puzzle solving. But lets start with the output we'd like, using dummy variable answers."
   ]
  },
  {
   "cell_type": "code",
   "execution_count": 27,
   "id": "9d9055ed-689e-4a40-aac4-d4bf1be0c98b",
   "metadata": {},
   "outputs": [
    {
     "name": "stdout",
     "output_type": "stream",
     "text": [
      "The most frequent element is 0; it occurs 0 times.\n"
     ]
    }
   ],
   "source": [
    "most_frequent = 0\n",
    "n = 0\n",
    "output = f\"The most frequent element is {most_frequent}; it occurs {n} times.\"\n",
    "print(output) # what we'll output to a file"
   ]
  },
  {
   "cell_type": "markdown",
   "id": "2643a7ae-2489-4766-a860-bf46d6adc569",
   "metadata": {},
   "source": [
    "All that was about setting up a puzzle. Now we need the functions.\n",
    "\n",
    "The puzzle would now look something like this:\n",
    "\n",
    "* lab_puzzle.txt contains a list named input, saved in json format. Read it.\n",
    "\n",
    "* Analyze the list save to lab_puzzle_out.txt one line, with 0s replaced with correct data:\n",
    "\n",
    "The most frequent element is 0; it occurs 0 times.\n",
    "\n",
    "Example:\n",
    "\n",
    "Input from file:  `[3, 4, 3, 1, 5, 1, 3, 7, 4, 4, 9, 0, 8, 8, 3, 2, 6, 2, 6, 5, 4, 6, 9, 5, 0, 0, 4, 1, 6, 8]`<br />\n",
    "Output to file:  'The most frequent element is 4; it occurs 5 times.'\n"
   ]
  },
  {
   "cell_type": "markdown",
   "id": "5ea11128-6f98-45d5-ad5e-9dd5c081e66d",
   "metadata": {},
   "source": [
    "We have been fortunate in our example above to have only one element repeated five times, whereas the algorithm for generating such lists makes no such guarantees. Indeed, it's quite likely for lists from such a function to have more than one element repeating the maximal number of times, in which case wouldn't the output format be too restrictive? Indeed it would be, and could lead to a mismatch in answers.  The puzzle maker has a responsibility to make the solution unique.\n",
    "\n",
    "Let's create a new function that guarantees only one element of maximum frequency."
   ]
  },
  {
   "cell_type": "code",
   "execution_count": 28,
   "id": "46db7227-ed23-4ca0-a850-0a911ee405c5",
   "metadata": {},
   "outputs": [],
   "source": [
    "from random import shuffle\n",
    "\n",
    "def rand_butnot(a, b, exclude):\n",
    "    while True:\n",
    "        cand = randint(a, b)\n",
    "        if cand in exclude:\n",
    "            continue\n",
    "        break\n",
    "    return cand\n",
    "\n",
    "def unimax_samp(a, b, how_many=30, max_freq=6):\n",
    "    assert max_freq < how_many\n",
    "    mostest = randint(a, b)  # pick the number to occur the most frequently\n",
    "    nogo = [mostest]         # never pick it again\n",
    "    output = [mostest] * max_freq # prime the ouput list with max frequency star player\n",
    "    while len(output) < how_many:\n",
    "        ok_freq = randint(0, max_freq-1)  # any frequency less than the max\n",
    "        value = rand_butnot(a, b, exclude = nogo) # randomly from what's not already used\n",
    "        output += ok_freq * [value] # extend output with new elements\n",
    "        print(output)\n",
    "        nogo.append(value)  # add to the list of what not to pick again\n",
    "    output = output[:how_many]\n",
    "    shuffle(output)\n",
    "    return output    "
   ]
  },
  {
   "cell_type": "code",
   "execution_count": 29,
   "id": "0a6810e2-905b-40c7-a3b5-1d5a1a17c874",
   "metadata": {},
   "outputs": [
    {
     "data": {
      "text/plain": [
       "[0, 1, 2, 3, 4, 5, 6, 7, 8, 9]"
      ]
     },
     "execution_count": 29,
     "metadata": {},
     "output_type": "execute_result"
    }
   ],
   "source": [
    "der_list = list(range(10))\n",
    "der_list"
   ]
  },
  {
   "cell_type": "code",
   "execution_count": 30,
   "id": "8a4b0215-5bee-46eb-bca8-daf077247eb8",
   "metadata": {},
   "outputs": [
    {
     "data": {
      "text/plain": [
       "3"
      ]
     },
     "execution_count": 30,
     "metadata": {},
     "output_type": "execute_result"
    }
   ],
   "source": [
    "der_list.pop(3)"
   ]
  },
  {
   "cell_type": "code",
   "execution_count": 31,
   "id": "82f24b50-5901-4aad-b52c-f7443c3f03b6",
   "metadata": {},
   "outputs": [
    {
     "data": {
      "text/plain": [
       "[0, 1, 2, 4, 5, 6, 7, 8, 9]"
      ]
     },
     "execution_count": 31,
     "metadata": {},
     "output_type": "execute_result"
    }
   ],
   "source": [
    "der_list"
   ]
  },
  {
   "cell_type": "code",
   "execution_count": 32,
   "id": "3cd6c886-cf03-4a1b-a560-aebf4063de2d",
   "metadata": {},
   "outputs": [
    {
     "name": "stdout",
     "output_type": "stream",
     "text": [
      "[6, 6, 6, 6, 6, 6, 6, 0]\n",
      "[6, 6, 6, 6, 6, 6, 6, 0, 1, 1, 1, 1]\n",
      "[6, 6, 6, 6, 6, 6, 6, 0, 1, 1, 1, 1, 9, 9, 9, 9, 9, 9]\n",
      "[6, 6, 6, 6, 6, 6, 6, 0, 1, 1, 1, 1, 9, 9, 9, 9, 9, 9, 4, 4, 4, 4, 4]\n",
      "[6, 6, 6, 6, 6, 6, 6, 0, 1, 1, 1, 1, 9, 9, 9, 9, 9, 9, 4, 4, 4, 4, 4, 2, 2]\n",
      "[6, 6, 6, 6, 6, 6, 6, 0, 1, 1, 1, 1, 9, 9, 9, 9, 9, 9, 4, 4, 4, 4, 4, 2, 2, 5, 5, 5, 5]\n",
      "[6, 6, 6, 6, 6, 6, 6, 0, 1, 1, 1, 1, 9, 9, 9, 9, 9, 9, 4, 4, 4, 4, 4, 2, 2, 5, 5, 5, 5, 3, 3, 3, 3, 3, 3]\n",
      "[5, 6, 5, 6, 6, 6, 9, 1, 4, 0, 9, 1, 1, 2, 4, 9, 6, 5, 1, 9, 2, 6, 4, 6, 4, 5, 9, 3, 4, 9]\n"
     ]
    }
   ],
   "source": [
    "test_samp = unimax_samp(0, 9, 30, 7)\n",
    "print(test_samp)"
   ]
  },
  {
   "cell_type": "code",
   "execution_count": 33,
   "id": "3c1159a0-9a41-4551-9cf2-a830c9f9056c",
   "metadata": {},
   "outputs": [
    {
     "data": {
      "text/plain": [
       "30"
      ]
     },
     "execution_count": 33,
     "metadata": {},
     "output_type": "execute_result"
    }
   ],
   "source": [
    "len(test_samp)"
   ]
  },
  {
   "cell_type": "code",
   "execution_count": 34,
   "id": "6ac9c6ee-77ae-4a48-8eab-2cab3bab8341",
   "metadata": {},
   "outputs": [],
   "source": [
    "from collections import Counter"
   ]
  },
  {
   "cell_type": "code",
   "execution_count": 35,
   "id": "586c0863-82ae-4c16-af5c-0cb8d88a74e4",
   "metadata": {},
   "outputs": [
    {
     "name": "stdout",
     "output_type": "stream",
     "text": [
      "Counter({6: 7, 9: 6, 4: 5, 5: 4, 1: 4, 2: 2, 0: 1, 3: 1})\n"
     ]
    }
   ],
   "source": [
    "print(Counter(test_samp))"
   ]
  },
  {
   "cell_type": "markdown",
   "id": "a21edcb6-2ff3-48d8-8111-b26b1c815094",
   "metadata": {},
   "source": [
    "Scratch pad"
   ]
  },
  {
   "cell_type": "code",
   "execution_count": 36,
   "id": "d489f231-8c8a-4b4d-866e-f950694d78be",
   "metadata": {},
   "outputs": [
    {
     "data": {
      "text/plain": [
       "4"
      ]
     },
     "execution_count": 36,
     "metadata": {},
     "output_type": "execute_result"
    }
   ],
   "source": [
    "# input_list = randint_samp(0, 9, 30)\n",
    "input_list = [3, 4, 3, 1, 5, 1, 3, 7, 4, 4, 9, 0, 8, 8, 3, 2, 6, 2, 6, 5, 4, 6, 9, 5, 0, 0, 4, 1, 6, 8]\n",
    "most_frequent = max(input_list, key=input_list.count)\n",
    "most_frequent"
   ]
  },
  {
   "cell_type": "code",
   "execution_count": null,
   "id": "544ad01e-3039-4893-b2da-23b45173c0d8",
   "metadata": {},
   "outputs": [],
   "source": [
    "n = input_list.count(most_frequent)\n",
    "n"
   ]
  },
  {
   "cell_type": "code",
   "execution_count": null,
   "id": "03fef06b-756a-4e0b-be65-0fb1cd37c73e",
   "metadata": {},
   "outputs": [],
   "source": [
    "print(input_list)"
   ]
  },
  {
   "cell_type": "markdown",
   "id": "37ce7c6f-01ab-49b6-92a9-65a8f1426ad3",
   "metadata": {},
   "source": [
    "Why this output?  The very same elements appear, as sorted is not making substitutions, just sorting by how often each appears. Elements that appear three times appear in no particular order. Only two items come in 4s and 5s and these show up at the end."
   ]
  },
  {
   "cell_type": "code",
   "execution_count": null,
   "id": "bdb85fe2-4960-4d3d-aa9a-1e5846c8b5dc",
   "metadata": {},
   "outputs": [],
   "source": [
    "print(sorted(input_list, key=input_list.count)) "
   ]
  },
  {
   "cell_type": "code",
   "execution_count": null,
   "id": "b061673e-27e5-4105-b604-c009eb96e78b",
   "metadata": {},
   "outputs": [],
   "source": [
    "output = f\"The most frequent element is {most_frequent}; it occurs {n} times.\"\n",
    "output"
   ]
  },
  {
   "cell_type": "code",
   "execution_count": null,
   "id": "2f13b5e0-58a5-45e3-afb9-0d8a5ec4ef12",
   "metadata": {},
   "outputs": [],
   "source": [
    "out = open(\"lab_puzzle.txt\", \"w\")\n",
    "out.write(json.dumps({\"input\": input_list}))  # saving a dict\n",
    "out.close()"
   ]
  },
  {
   "cell_type": "markdown",
   "id": "5a0a0502-a313-4b53-a3d8-fd764dcfe4ea",
   "metadata": {},
   "source": [
    "The advantage of building puzzles around turning input files into output files is the evaluator only needs to run the code, not read the code. \n",
    "\n",
    "The solver tests the code against provided examples and then submits it. The evaluator has additional test inputs, not shared as examples, that should also result in correct output, if the solution is correct.\n",
    "\n",
    "This way, two solvers might use entirely different approaches. As long as the both get the right answers, both get credit for their solution. The evaluator does not get involved in the sticky business of parsing through the code looking for a match to some template."
   ]
  },
  {
   "cell_type": "code",
   "execution_count": null,
   "id": "16a14dc0-d9b0-436e-ac1c-f857d2b28371",
   "metadata": {},
   "outputs": [],
   "source": [
    "def freq_dict(the_list):\n",
    "    tally = {}\n",
    "    for x in the_list:\n",
    "        tally[x] = tally.get(x, 0) + 1\n",
    "    return tally"
   ]
  },
  {
   "cell_type": "code",
   "execution_count": null,
   "id": "b68dfc28-d220-4fc5-b19e-c5f835cbbd00",
   "metadata": {},
   "outputs": [],
   "source": [
    "print(input_list)"
   ]
  },
  {
   "cell_type": "code",
   "execution_count": null,
   "id": "be93acd5-bdd8-4190-89ea-b2979c513977",
   "metadata": {},
   "outputs": [],
   "source": [
    "the_tally = freq_dict(input_list)\n",
    "the_tally"
   ]
  },
  {
   "cell_type": "code",
   "execution_count": null,
   "id": "431ac184-ea39-4cc1-a2f7-fb5861d75caf",
   "metadata": {},
   "outputs": [],
   "source": [
    "how_many = max(the_tally.values())\n",
    "how_many"
   ]
  },
  {
   "cell_type": "code",
   "execution_count": null,
   "id": "0fa91487-8a28-41fe-8f99-c928c5194538",
   "metadata": {},
   "outputs": [],
   "source": [
    "[item for item in the_tally.items() if item[1] == how_many]  # gets all with that many"
   ]
  },
  {
   "cell_type": "markdown",
   "id": "da5e4f6c-c6d2-4cb3-9b95-a28a56e0fcc0",
   "metadata": {},
   "source": [
    "## Pre Lab 6: Assignments 6 and 7\n",
    "\n",
    "* [Lab 1](Python_Lab1.ipynb)\n",
    "* [Lab 2](Python_Lab2.ipynb)\n",
    "* [Lab 4](Python_Lab4.ipynb)\n",
    "* [Assignment 6](assignment6.ipynb)\n"
   ]
  },
  {
   "cell_type": "markdown",
   "id": "71f6dcdf-c3bc-4393-b9dd-d6d613bc8104",
   "metadata": {},
   "source": [
    "## Lab 6: Tips and Tricks for Assignments 9 - 17"
   ]
  },
  {
   "cell_type": "markdown",
   "id": "d803980d-7c52-40ed-8895-72c49c3a833d",
   "metadata": {},
   "source": [
    "### Assignment 9: Comfortable Words\n",
    "\n",
    "<a data-flickr-embed=\"true\" href=\"https://www.flickr.com/photos/kirbyurner/54138654425/in/photostream/\" title=\"Assignment 8\"><img src=\"https://live.staticflickr.com/65535/54138654425_5a78940a85_z.jpg\" width=\"637\" height=\"505\" alt=\"Assignment 8\"/></a><script async src=\"//embedr.flickr.com/assets/client-code.js\" charset=\"utf-8\"></script>"
   ]
  },
  {
   "cell_type": "code",
   "execution_count": null,
   "id": "f15858df-3ceb-4f61-9e19-d343f44eb9a9",
   "metadata": {},
   "outputs": [],
   "source": [
    "left_hand =  set(list(\"qwertasdfgzxcvb\"))\n",
    "right_hand = set(list(\"poiuylkjhmn\"))\n",
    "\n",
    "assert (len(right_hand) + len(left_hand)) == 26\n",
    "assert right_hand.intersection(left_hand) == set()\n",
    "\n",
    "condition = False # my_word shares letters with both left and right hand\n",
    "\n",
    "def iscomfortable():\n",
    "    while True:\n",
    "        my_word = input(\"What is your word? > \").lower()\n",
    "        \n",
    "        if not my_word.isalpha(): # optional\n",
    "            continue\n",
    "    \n",
    "        if condition:\n",
    "            return True\n",
    "            \n",
    "        return False"
   ]
  },
  {
   "cell_type": "markdown",
   "id": "8496979c-1058-4fa0-9ee8-c739677a524b",
   "metadata": {},
   "source": [
    "### Assignment 10\n",
    "\n",
    "<a data-flickr-embed=\"true\" href=\"https://www.flickr.com/photos/kirbyurner/54138654435/in/photostream/\" title=\"Assignment 11\"><img src=\"https://live.staticflickr.com/65535/54138654435_28e3f4f70a_z.jpg\" width=\"637\" height=\"577\" alt=\"Assignment 10\"/></a><script async src=\"//embedr.flickr.com/assets/client-code.js\" charset=\"utf-8\"></script>"
   ]
  },
  {
   "cell_type": "code",
   "execution_count": null,
   "id": "c199c46d-42db-4809-8df2-cdb111173f6d",
   "metadata": {},
   "outputs": [],
   "source": [
    "def survey():\n",
    "    while True:\n",
    "        age = input(\"Are you a smoker and over 75 years? (Yes/No) > \").upper()\n",
    "        if age not in [\"YES\", \"NO\"]:\n",
    "            print(\"Yes or No please...\")\n",
    "            continue\n",
    "        break\n",
    "            \n",
    "    if age == \"YES\":\n",
    "        age = True\n",
    "    else:\n",
    "        age = False\n",
    "\n",
    "    # alternatively: age = True if age == \"YES\" else False\n",
    "    \n",
    "    while True:\n",
    "        chronic = input(\"Do you have severe chronic disease? (Yes/No) > \").upper()\n",
    "        if chronic not in [\"YES\", \"NO\"]:\n",
    "            print(\"Yes or No please...\")\n",
    "            continue\n",
    "        break\n",
    "    \n",
    "    if chronic:\n",
    "        pass\n",
    "    else:\n",
    "        pass\n",
    "    \n",
    "    while True:\n",
    "        immune = input(\"Is your immune system compromised? (Yes/No) > \").upper()\n",
    "        if immune not in [\"YES\", \"NO\"]:\n",
    "            print(\"Yes or No please...\")\n",
    "            continue\n",
    "        break\n",
    "            \n",
    "    if immune == \"YES\":\n",
    "        pass\n",
    "    else:\n",
    "        pass\n",
    "\n",
    "    # print \"You are in the risky group\" if any( ) if these are True"
   ]
  },
  {
   "cell_type": "code",
   "execution_count": null,
   "id": "0c434f3d-aeeb-4b03-a526-b043ebd1db95",
   "metadata": {},
   "outputs": [],
   "source": [
    "survey()"
   ]
  },
  {
   "cell_type": "markdown",
   "id": "f4a817a0-4717-47de-960c-a5a6d8bb1b29",
   "metadata": {},
   "source": [
    "### Assignment 11: Return Password\n",
    "\n",
    "<a data-flickr-embed=\"true\" href=\"https://www.flickr.com/photos/kirbyurner/54138197566/in/photostream/\" title=\"Assignment 9\"><img src=\"https://live.staticflickr.com/65535/54138197566_94ee7d0ed7_z.jpg\" width=\"637\" height=\"375\" alt=\"Assignment 9\"/></a><script async src=\"//embedr.flickr.com/assets/client-code.js\" charset=\"utf-8\"></script>"
   ]
  },
  {
   "cell_type": "code",
   "execution_count": null,
   "id": "e0bc0c49-df85-453b-9eb1-5d9af6fc4257",
   "metadata": {},
   "outputs": [],
   "source": [
    "password = \"W@12\"\n",
    "first_name = input(\"Enter your first name > \") \n",
    "if first_name == \"GORILLA\": # fix to match your name\n",
    "    print(f\"Hello {first_name}. The password is...{password}\")\n",
    "else:\n",
    "    print(f\"Goodbye {first_name}...\") # fix to match 3."
   ]
  },
  {
   "cell_type": "markdown",
   "id": "1f9570f5-ee5d-427d-9920-b44da3651350",
   "metadata": {},
   "source": [
    "In reality, there's a good chance the service you wish to log in to does not save your password, only a hash of your password.\n",
    "\n",
    "[Link to hashlib docs](https://docs.python.org/3/library/hashlib.html)"
   ]
  },
  {
   "cell_type": "code",
   "execution_count": null,
   "id": "14e73ab4-5a02-4810-a8cd-392f5b854946",
   "metadata": {},
   "outputs": [],
   "source": [
    "from hashlib import sha256"
   ]
  },
  {
   "cell_type": "code",
   "execution_count": null,
   "id": "220d8bd4-ba05-4981-88a0-58551112a257",
   "metadata": {},
   "outputs": [],
   "source": [
    "the_hash = sha256(b\"Pa$$word!\")\n",
    "the_hash.hexdigest()"
   ]
  },
  {
   "cell_type": "code",
   "execution_count": null,
   "id": "df8f3ae8-fa40-4d3c-b8c7-c880964ce4db",
   "metadata": {},
   "outputs": [],
   "source": [
    "the_hash = sha256(b\"Pa$$w0rd!\")\n",
    "the_hash.hexdigest()"
   ]
  },
  {
   "cell_type": "markdown",
   "id": "981057d4-d579-4e2a-ab01-d1131bc5a8cb",
   "metadata": {},
   "source": [
    "If the hash of your entered password matches the hash on file, your password is OK. \n",
    "\n",
    "If you lose your password, you'll have to reset it, because it's not on file."
   ]
  },
  {
   "cell_type": "markdown",
   "id": "158752d4-89b3-48c9-9004-c85ff49f597b",
   "metadata": {},
   "source": [
    "### Assignment 11: Leap Year?\n",
    "\n",
    "<a data-flickr-embed=\"true\" href=\"https://www.flickr.com/photos/kirbyurner/54137343787/in/photostream/\" title=\"Assignment 11\"><img src=\"https://live.staticflickr.com/65535/54137343787_43dfd271f4_z.jpg\" width=\"637\" height=\"607\" alt=\"Assignment 11\"/></a><script async src=\"//embedr.flickr.com/assets/client-code.js\" charset=\"utf-8\"></script>"
   ]
  },
  {
   "cell_type": "code",
   "execution_count": null,
   "id": "ca8ac586-885a-4ae4-99a9-4897bacf2e4f",
   "metadata": {},
   "outputs": [],
   "source": [
    "while True:\n",
    "    my_year = input(\"What is your input year? > \")\n",
    "    if not my_year.isdigit() or len(my_year) != 4:\n",
    "        print(\"Four digit year please.\")\n",
    "        continue\n",
    "    my_year = int(my_year)\n",
    "    break\n",
    "\n",
    "# ternary expressions\n",
    "div_by_4   = True if my_year % 4 == 0 else False\n",
    "div_by_100 = True if my_year % 100 == 0 else False\n",
    "div_by_400 = True if my_year % 400 == 0 else False\n",
    "\n",
    "# if div_by_4 but not div_by_100 unless div_by_400 <-- use if condition to choose\n",
    "condition = True # replace this line\n",
    "\n",
    "if div_by_4 and div_by_100 and div_by_400:\n",
    "    # YES!\n",
    "elif div_by_4 and div_by_100:\n",
    "    # NO!\n",
    "\n",
    "    print(f\"{my_year} is not a leap year\")\n",
    "else:\n",
    "    print(f\"{my_year} is a leap year\")   \n"
   ]
  },
  {
   "cell_type": "markdown",
   "id": "b8466af9-f909-439a-b84e-c82621e44c35",
   "metadata": {},
   "source": [
    "### Assignment 12: Armstrong Number?\n",
    "\n",
    "<a data-flickr-embed=\"true\" href=\"https://www.flickr.com/photos/kirbyurner/54141784624/in/dateposted/\" title=\"Screen Shot 2024-11-15 at 5.07.26 AM\"><img src=\"https://live.staticflickr.com/65535/54141784624_4b0c151cc9_z.jpg\" width=\"558\" height=\"640\" alt=\"Screen Shot 2024-11-15 at 5.07.26 AM\"/></a><script async src=\"//embedr.flickr.com/assets/client-code.js\" charset=\"utf-8\"></script>\n",
    "\n",
    "[OEIS A005188](https://oeis.org/A005188)"
   ]
  },
  {
   "cell_type": "code",
   "execution_count": null,
   "id": "5416a4bc-ecb3-4e22-bf77-fe756c306102",
   "metadata": {},
   "outputs": [],
   "source": [
    "3**3 + 7**3 + 1**3"
   ]
  },
  {
   "cell_type": "code",
   "execution_count": null,
   "id": "54e01487-d6fd-4bca-9b22-3c0736ae043e",
   "metadata": {},
   "outputs": [],
   "source": [
    "def is_armstrong(n : int):\n",
    "    p = len(str(n))\n",
    "    if n == sum([int(d)**p for d in list(str(n))]):\n",
    "        return True\n",
    "    return False\n",
    "\n",
    "while True:\n",
    "    cand = input(\"What is your number? \")\n",
    "    if not cand.isdigit():\n",
    "        # print the warning stated in the assignment\n",
    "        continue\n",
    "    break\n",
    "\n",
    "cand = int(cand)\n",
    "\n",
    "# n = 93084  # 912985153\n",
    "\n",
    "print(f\"{n} is an Armstrong number\" if is_armstrong(cand) else f\"{cand} is not an Armstrong number\")"
   ]
  },
  {
   "cell_type": "markdown",
   "id": "2e723e04-a944-4092-9b19-d7d8d0eb903a",
   "metadata": {},
   "source": [
    "Still needed: screening logic to detect invalid entries (non-numeric, float, or negative)."
   ]
  },
  {
   "cell_type": "markdown",
   "id": "4c5314a4-4b29-44d7-9554-dacd55103dc0",
   "metadata": {},
   "source": [
    "Later, I prompted Gemini (Colab's AI code generator) to generate the Armstrong numbers. \n",
    "\n",
    "<a data-flickr-embed=\"true\" href=\"https://www.flickr.com/photos/kirbyurner/54141777759/in/dateposted/\" title=\"Screen Shot 2024-11-15 at 4.53.46 AM\"><img src=\"https://live.staticflickr.com/65535/54141777759_cb0d236026_z.jpg\" width=\"526\" height=\"640\" alt=\"Screen Shot 2024-11-15 at 4.53.46 AM\"/></a><script async src=\"//embedr.flickr.com/assets/client-code.js\" charset=\"utf-8\"></script>\n",
    "\n",
    "Here's what it came back with (including the docstring), except I added the islice at the end."
   ]
  },
  {
   "cell_type": "code",
   "execution_count": null,
   "id": "72aa8fa1-e471-4cd8-9a4d-89c50c7d0368",
   "metadata": {},
   "outputs": [],
   "source": [
    "def armstrong_generator():\n",
    "    \"\"\"Generates Armstrong numbers.\n",
    "\n",
    "    An Armstrong number is a number that is equal to the sum of its own digits \n",
    "    raised to the power of the number of digits.\n",
    "    For example, 153 is an Armstrong number because 1^3 + 5^3 + 3^3 = 153.\n",
    "\n",
    "    Yields:\n",
    "        int: The next Armstrong number.\n",
    "    \"\"\"\n",
    "    num = 1\n",
    "    while True:\n",
    "        num_str = str(num)\n",
    "        num_digits = len(num_str)\n",
    "        armstrong_sum = sum( int(digit)**num_digits for digit in num_str )\n",
    "        if num == armstrong_sum:\n",
    "            yield num\n",
    "        num += 1\n",
    "\n",
    "# To generate the first 10 Armstrong numbers:\n",
    "\n",
    "from itertools import islice\n",
    "armstrong_gen = armstrong_generator()\n",
    "print(list(islice(armstrong_gen, 10, 20)))\n",
    "\n",
    "#for _ in range(10):\n",
    "#    print(next(armstrong_gen))"
   ]
  },
  {
   "cell_type": "markdown",
   "id": "434ee389-4d07-4973-b40f-76847b3a2e2c",
   "metadata": {},
   "source": [
    "Gemini was also able to give me a program in Julia, but I had to find someplace outside of Colab to run it.\n",
    "\n",
    "<a data-flickr-embed=\"true\" href=\"https://www.flickr.com/photos/kirbyurner/54142474811/in/album-72177720296706479\" title=\"Prompting Gemini for a Julia Program\"><img src=\"https://live.staticflickr.com/65535/54142474811_7b98728ee1_w.jpg\" width=\"400\" height=\"362\" alt=\"Prompting Gemini for a Julia Program\"/></a><script async src=\"//embedr.flickr.com/assets/client-code.js\" charset=\"utf-8\"></script>\n",
    "\n",
    "<br />\n",
    "\n",
    "<a data-flickr-embed=\"true\" href=\"https://www.flickr.com/photos/kirbyurner/54142077684/in/dateposted/\" title=\"Testing a Gemini Generated Julia Program\"><img src=\"https://live.staticflickr.com/65535/54142077684_cb723fe4b7_w.jpg\" width=\"400\" height=\"259\" alt=\"Testing a Gemini Generated Julia Program\"/></a><script async src=\"//embedr.flickr.com/assets/client-code.js\" charset=\"utf-8\"></script>"
   ]
  },
  {
   "cell_type": "markdown",
   "id": "30b51e57-f223-4240-9e66-b10ba5a8fc92",
   "metadata": {},
   "source": [
    "### Assignment 13: Is it Prime?\n",
    "\n",
    "<a data-flickr-embed=\"true\" href=\"https://www.flickr.com/photos/kirbyurner/54138524534/in/photostream/\" title=\"Assignment 13\"><img src=\"https://live.staticflickr.com/65535/54138524534_20af50a27e_z.jpg\" width=\"637\" height=\"370\" alt=\"Assignment 13\"/></a><script async src=\"//embedr.flickr.com/assets/client-code.js\" charset=\"utf-8\"></script>"
   ]
  },
  {
   "cell_type": "code",
   "execution_count": null,
   "id": "c606436a-233a-4547-827b-e404d0b18e99",
   "metadata": {},
   "outputs": [],
   "source": [
    "import primes\n",
    "\n",
    "# candidate = int(\"What is your input? > \")\n",
    "\n",
    "candidate = 301821\n",
    "\n",
    "while primes.primes[-1] < candidate: # while highest prime is < candidate\n",
    "    primes.nextprime() # keep adding primes\n",
    "\n",
    "# print(primes.primes) # is the candidate among them?"
   ]
  },
  {
   "cell_type": "markdown",
   "id": "2436ddd1-6901-4828-8fd0-e9400a3964c3",
   "metadata": {},
   "source": [
    "### Assignment 14: Fibonacci Numbers\n",
    "\n",
    "<a data-flickr-embed=\"true\" href=\"https://www.flickr.com/photos/kirbyurner/54138654420/in/photostream/\" title=\"Assignment 14\"><img src=\"https://live.staticflickr.com/65535/54138654420_480c761878_z.jpg\" width=\"637\" height=\"337\" alt=\"Assignment 14\"/></a><script async src=\"//embedr.flickr.com/assets/client-code.js\" charset=\"utf-8\"></script>"
   ]
  },
  {
   "cell_type": "code",
   "execution_count": null,
   "id": "502208c0-29db-4e58-bd9d-c0a943bf4862",
   "metadata": {},
   "outputs": [],
   "source": [
    "fibonacci = [1, 1]\n",
    "\n",
    "for _ in range(8):\n",
    "    next_fib = 0 # sum of rightmost 2 entries (remember negative indexing)\n",
    "    fibonacci.append(next_fib)"
   ]
  },
  {
   "cell_type": "code",
   "execution_count": null,
   "id": "7277e885-6855-42c6-9cc0-105206f3239e",
   "metadata": {},
   "outputs": [],
   "source": [
    "fibonacci"
   ]
  },
  {
   "cell_type": "markdown",
   "id": "d99358d9-dbab-4a25-8d54-3b48506b7a69",
   "metadata": {},
   "source": [
    "Check it out: a relationship between Pascal's Triangle and the Fibonacci numbers:\n",
    "\n",
    "![](http://4dsolutions.net/ocn/graphics/fib.gif)"
   ]
  },
  {
   "cell_type": "markdown",
   "id": "85eaefee-b676-4134-bd8a-32add3a7af4b",
   "metadata": {},
   "source": [
    "### Assignment 15: Prime Numbers\n",
    "\n",
    "<a data-flickr-embed=\"true\" href=\"https://www.flickr.com/photos/kirbyurner/54143931739/in/dateposted/\" title=\"Assignment 15\"><img src=\"https://live.staticflickr.com/65535/54143931739_6134bd519f_o.png\" width=\"660\" height=\"450\" alt=\"Assignment 15\"/></a><script async src=\"//embedr.flickr.com/assets/client-code.js\" charset=\"utf-8\"></script>"
   ]
  },
  {
   "cell_type": "code",
   "execution_count": null,
   "id": "162ba25b-be9b-4cac-9564-b16b32f9f91c",
   "metadata": {},
   "outputs": [],
   "source": [
    "def getprimes(limit):\n",
    "    primes = [2, 3]\n",
    "    for candidate in range(4, limit + 1):\n",
    "        for p in primes:\n",
    "            if candidate % p == 0:\n",
    "                continue\n",
    "        primes.append(candidate)\n",
    "    return primes   "
   ]
  },
  {
   "cell_type": "markdown",
   "id": "93c02faa-d300-4111-9819-6848d256a48f",
   "metadata": {},
   "source": [
    "### Assignment 16: Fizz Buzz Numbers\n",
    "\n",
    "<a data-flickr-embed=\"true\" href=\"https://www.flickr.com/photos/kirbyurner/54144067020/in/photostream/\" title=\"Screen Shot 2024-11-16 at 6.33.36 AM\"><img src=\"https://live.staticflickr.com/65535/54144067020_a4a87e1a9c_o.png\" width=\"660\" height=\"422\" alt=\"Screen Shot 2024-11-16 at 6.33.36 AM\"/></a><script async src=\"//embedr.flickr.com/assets/client-code.js\" charset=\"utf-8\"></script>"
   ]
  },
  {
   "cell_type": "code",
   "execution_count": null,
   "id": "b877b111-0f56-444f-bd8a-be2e0b7e6691",
   "metadata": {},
   "outputs": [],
   "source": [
    "for number in range(1, 101):\n",
    "    if ( number % 15 == 0  ):\n",
    "        print(\"FizzBuzz\")\n",
    "    elif number % 5 == 0:\n",
    "        print(\"Buzz\")\n",
    "    elif number % 3 == 0:\n",
    "        print(\"Fizz\")\n",
    "    else:\n",
    "        print(number)  # bug if printed in addition to a word"
   ]
  },
  {
   "cell_type": "markdown",
   "id": "c54b5bf8-7b38-49c7-8273-17572b12d3f7",
   "metadata": {},
   "source": [
    "### Assignment 17: Count Letters\n",
    "\n",
    "<a data-flickr-embed=\"true\" href=\"https://www.flickr.com/photos/kirbyurner/54143931744/in/photostream/\" title=\"Screen Shot 2024-11-16 at 6.34.31 AM\"><img src=\"https://live.staticflickr.com/65535/54143931744_ddce1d85f0_o.png\" width=\"660\" height=\"409\" alt=\"Screen Shot 2024-11-16 at 6.34.31 AM\"/></a><script async src=\"//embedr.flickr.com/assets/client-code.js\" charset=\"utf-8\"></script>"
   ]
  },
  {
   "cell_type": "code",
   "execution_count": null,
   "id": "83db79ac-f768-4f68-bf55-ab11f241270d",
   "metadata": {},
   "outputs": [],
   "source": [
    "def tally(s):\n",
    "    let_count = dict()\n",
    "    for c in s:\n",
    "        if c in let_count:\n",
    "            \n",
    "        else:\n",
    "        \n",
    "    return let_count\n",
    "\n",
    "sentence = input(\"Please give me your sentence. > \")\n",
    "letter_count = tally(sentence)\n",
    "print(letter_count)"
   ]
  },
  {
   "cell_type": "code",
   "execution_count": null,
   "id": "bd0a7d3e-ff86-458e-a5ea-cdedc0a0839e",
   "metadata": {},
   "outputs": [],
   "source": [
    "sentence"
   ]
  },
  {
   "cell_type": "code",
   "execution_count": null,
   "id": "df8010f9-fb9f-47e1-b762-6c723cfdb53f",
   "metadata": {},
   "outputs": [],
   "source": [
    "test_dict = {}\n",
    "for c in sentence:\n",
    "    if c in test_dict:\n",
    "        #print(\"it's there\")\n",
    "        test_dict[c] = test_dict[c] + 1\n",
    "    else:\n",
    "        #print(\"not there\")\n",
    "        test_dict[c] = 1\n",
    "\n",
    "print(test_dict)"
   ]
  },
  {
   "cell_type": "code",
   "execution_count": null,
   "id": "697387d5-77a9-44e4-a7a2-4a6a9d528ccc",
   "metadata": {},
   "outputs": [],
   "source": []
  }
 ],
 "metadata": {
  "kernelspec": {
   "display_name": "Python 3 (ipykernel)",
   "language": "python",
   "name": "python3"
  },
  "language_info": {
   "codemirror_mode": {
    "name": "ipython",
    "version": 3
   },
   "file_extension": ".py",
   "mimetype": "text/x-python",
   "name": "python",
   "nbconvert_exporter": "python",
   "pygments_lexer": "ipython3",
   "version": "3.11.3"
  }
 },
 "nbformat": 4,
 "nbformat_minor": 5
}
