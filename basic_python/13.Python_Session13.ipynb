{
 "cells": [
  {
   "cell_type": "markdown",
   "id": "ZI7X-a0sdwJN",
   "metadata": {
    "id": "ZI7X-a0sdwJN"
   },
   "source": [
    "#### Clarusway Python\n",
    "\n",
    "* [Instructor Landing Page](landing_page.ipynb)\n",
    "* <a href=\"https://colab.research.google.com/github/4dsolutions/clarusway_data_analysis/blob/main/basic_python/13.Python_Session13.ipynb\"><img align=\"left\" src=\"https://colab.research.google.com/assets/colab-badge.svg\" alt=\"Open in Colab\" title=\"Open and Execute in Google Colaboratory\"></a>\n",
    "* [![nbviewer](https://raw.githubusercontent.com/jupyter/design/master/logos/Badges/nbviewer_badge.svg)](https://nbviewer.org/github/4dsolutions/clarusway_data_analysis/blob/main/basic_python/13.Python_Session13.ipynb)"
   ]
  },
  {
   "cell_type": "markdown",
   "id": "97d2a08c",
   "metadata": {
    "id": "97d2a08c"
   },
   "source": [
    "<a id=\"toc\"></a>\n",
    "\n",
    "<a data-flickr-embed=\"true\" href=\"https://www.flickr.com/photos/kirbyurner/54126336201/in/album-72177720296706479\" title=\"Session 13 banner\"><img src=\"https://live.staticflickr.com/65535/54126336201_bf3697b3f1_b.jpg\" width=\"1024\" height=\"576\" alt=\"Session 13 banner\"/></a><script async src=\"//embedr.flickr.com/assets/client-code.js\" charset=\"utf-8\"></script>\n",
    "\n",
    "\n",
    "# <p style=\"background-color:#0D8D99; font-family:newtimeroman; color:#FFF9ED; font-size:175%; text-align:center; border-radius:10px 10px;\">Python Session 13</p>"
   ]
  },
  {
   "cell_type": "markdown",
   "id": "2a056995",
   "metadata": {
    "id": "2a056995"
   },
   "source": [
    "#### <div class=\"alert alert-block alert-info\"><h1><p style=\"text-align: center; color:purple\">Operations with For Loop<br><br>Nested For Loop<br><br>iterable & iterator concepts + iter() function + Usage of iterators in for loops<br><br>Some Additional Practical Uses:<br>(Concatenate Two Lists by \"+\" Operator, <br>Tuple packing&unpacking,<br>Placeholder)</p>"
   ]
  },
  {
   "cell_type": "markdown",
   "id": "71e9c513",
   "metadata": {
    "id": "71e9c513"
   },
   "source": [
    "**Python official documentation1 - More Flexible Loop Control: https://peps.python.org/pep-0548/**\n",
    "\n",
    "**Python official documentation2 - Enhenced while loop: https://peps.python.org/pep-0315/**\n",
    "\n",
    "**Python official documentation - Labeled \"break\" and \"continue\": https://peps.python.org/pep-3136/**\n",
    "\n",
    "**Link 4 - Loops in Python: https://www.w3schools.com/python/python_for_loops.asp**\n",
    "\n",
    "**Link 5 - Loops in Python: https://www.geeksforgeeks.org/loops-in-python/**\n",
    "\n",
    "**Link 6 - Loops : https://www.learnpython.org/en/Loops**\n",
    "\n",
    "**Link 7 - Nested Loops: https://www.w3schools.com/python/gloss_python_for_nested.asp**\n",
    "\n",
    "**Link 8 - Nested Loops: https://pynative.com/python-nested-loops/**\n"
   ]
  },
  {
   "cell_type": "markdown",
   "id": "4929070d",
   "metadata": {
    "id": "4929070d"
   },
   "source": [
    "<a id=\"toc\"></a>\n",
    "\n",
    "## <p style=\"background-color:#9d4f8c; font-family:newtimeroman; color:#FFF9ED; font-size:175%; text-align:center; border-radius:10px 10px;\">Operations with For Loop</p>"
   ]
  },
  {
   "cell_type": "code",
   "execution_count": null,
   "id": "fd605fbc",
   "metadata": {
    "id": "fd605fbc",
    "outputId": "d384991b-1b59-45d3-a106-21de8384b194"
   },
   "outputs": [],
   "source": [
    "times = int(input(\"How many times should I say 'I love you'\"))\n",
    "\n",
    "for i in range(times) :\n",
    "    print(\"I love you\")"
   ]
  },
  {
   "cell_type": "markdown",
   "id": "9eeb38fd",
   "metadata": {
    "id": "9eeb38fd"
   },
   "source": [
    "## Task :\n",
    "**This time, write a code block that asks the user a number between 1 and 10 then puts that number into the multiplication table.**\n",
    "\n",
    "For example, the output for 5 should be as follows :\n",
    "```\n",
    "5x0 =  0\n",
    "5x1 =  5\n",
    "5x2 =  10\n",
    "5x3 =  15\n",
    "5x4 =  20\n",
    "5x5 =  25\n",
    "5x6 =  30\n",
    "5x7 =  35\n",
    "5x8 =  40\n",
    "5x9 =  45\n",
    "5x10 =  50\n",
    "```"
   ]
  },
  {
   "cell_type": "code",
   "execution_count": null,
   "id": "cee06479",
   "metadata": {
    "id": "cee06479",
    "outputId": "0a2a9fcd-8906-4fda-d3cb-9ea84b038c07"
   },
   "outputs": [],
   "source": [
    "number = int(input(\"enter a number between 1-9\"))\n",
    "\n",
    "for i in range(11) :\n",
    "    print(f\"{number} x {i} = {number * i}\")"
   ]
  },
  {
   "cell_type": "code",
   "execution_count": null,
   "id": "cd23ea12",
   "metadata": {
    "id": "cd23ea12",
    "outputId": "ddeba7e1-8215-452a-d6c5-fd7826ebdc68"
   },
   "outputs": [],
   "source": [
    "range(5)  # a lazy range object generated."
   ]
  },
  {
   "cell_type": "code",
   "execution_count": null,
   "id": "43af8456",
   "metadata": {
    "id": "43af8456",
    "outputId": "a99161f3-e614-4dc0-9c9a-813ae9510f46"
   },
   "outputs": [],
   "source": [
    "print(* range(5))  # i can use asterisk to make it visible"
   ]
  },
  {
   "cell_type": "code",
   "execution_count": null,
   "id": "23f8e647",
   "metadata": {
    "id": "23f8e647",
    "outputId": "79c69f6b-aa76-4d46-b5a8-47f32b1c995c"
   },
   "outputs": [],
   "source": [
    "set(range(5))  # or I can put it in a collection. this collection type may be a set."
   ]
  },
  {
   "cell_type": "code",
   "execution_count": null,
   "id": "cc4970b8",
   "metadata": {
    "id": "cc4970b8",
    "outputId": "65edf324-0b9a-4e33-fd10-ccde18c5a4d0"
   },
   "outputs": [],
   "source": [
    "list(range(5))  # or may be a list."
   ]
  },
  {
   "cell_type": "code",
   "execution_count": null,
   "id": "d4abbc89",
   "metadata": {
    "id": "d4abbc89",
    "outputId": "d9aa2090-b965-4686-ec0b-b6e77bd2976d"
   },
   "outputs": [],
   "source": [
    "# another way to make it visible is using for loop.\n",
    "\n",
    "for i in range(5) :\n",
    "    print(i, end = \" \")"
   ]
  },
  {
   "cell_type": "code",
   "execution_count": null,
   "id": "1c663905",
   "metadata": {
    "id": "1c663905",
    "outputId": "157b3398-6762-4da1-81e5-5df4cec36e1c"
   },
   "outputs": [],
   "source": [
    "print(* range(10, 1, -1))"
   ]
  },
  {
   "cell_type": "code",
   "execution_count": null,
   "id": "8766d170",
   "metadata": {
    "id": "8766d170",
    "outputId": "03a99f45-d0ef-4b42-e16c-e4d16271f54f"
   },
   "outputs": [],
   "source": [
    "print(* \"kirby\")"
   ]
  },
  {
   "cell_type": "markdown",
   "id": "2f704332",
   "metadata": {
    "id": "2f704332"
   },
   "source": [
    "## Task :\n",
    "**Python Program to print out the numbers.\n",
    "Using the for loop, print the numbers from 1 to 9 as many as it is and get the following output.**"
   ]
  },
  {
   "cell_type": "markdown",
   "id": "a09dac50",
   "metadata": {
    "id": "a09dac50"
   },
   "source": [
    "```\n",
    "1\n",
    "22\n",
    "333\n",
    "4444\n",
    "55555\n",
    "666666\n",
    "7777777\n",
    "88888888\n",
    "999999999\n",
    "```\n"
   ]
  },
  {
   "cell_type": "code",
   "execution_count": null,
   "id": "0dbcc0d9",
   "metadata": {
    "id": "0dbcc0d9",
    "outputId": "7186ad56-4bf6-4f3f-ff1b-97af2788f3c7"
   },
   "outputs": [],
   "source": [
    "\"5\" * 5"
   ]
  },
  {
   "cell_type": "code",
   "execution_count": null,
   "id": "833f8379",
   "metadata": {
    "id": "833f8379",
    "outputId": "0cf46423-fca8-4706-8487-b26a02c1e85c"
   },
   "outputs": [],
   "source": [
    "\"ally\" * 3"
   ]
  },
  {
   "cell_type": "code",
   "execution_count": null,
   "id": "fd519023",
   "metadata": {
    "id": "fd519023",
    "outputId": "5b5edfcd-54ba-4d65-b0b3-683fef54b0c5"
   },
   "outputs": [],
   "source": [
    "\"ally \" * 3"
   ]
  },
  {
   "cell_type": "code",
   "execution_count": null,
   "id": "6d7d80fb",
   "metadata": {
    "id": "6d7d80fb",
    "outputId": "6edfc886-0994-46db-ae10-3e0fabe1ffd0"
   },
   "outputs": [],
   "source": [
    "for i in range(1, 10) :\n",
    "    print(str(i) * i)"
   ]
  },
  {
   "cell_type": "code",
   "execution_count": null,
   "id": "b1bd5716",
   "metadata": {
    "id": "b1bd5716"
   },
   "outputs": [],
   "source": [
    "text = [\"one\", \"two\", \"three\", \"four\", \"five\"]\n",
    "\n",
    "numbers = [1, 2, 3, 4, 5]"
   ]
  },
  {
   "cell_type": "code",
   "execution_count": null,
   "id": "01562f09",
   "metadata": {
    "id": "01562f09",
    "outputId": "a0c7baf0-6025-446f-b590-b600b8ac6a72"
   },
   "outputs": [],
   "source": [
    "zip(text, numbers)"
   ]
  },
  {
   "cell_type": "code",
   "execution_count": null,
   "id": "5b95a128",
   "metadata": {
    "id": "5b95a128",
    "outputId": "8a6500d5-9a7f-474c-c100-cfe44db9c645"
   },
   "outputs": [],
   "source": [
    "print(* zip(text, numbers))"
   ]
  },
  {
   "cell_type": "code",
   "execution_count": null,
   "id": "2052fc22",
   "metadata": {
    "id": "2052fc22",
    "outputId": "6ddf0b8b-4a9a-44ee-df98-e3f85b1213fa"
   },
   "outputs": [],
   "source": [
    "list(zip(text, numbers))"
   ]
  },
  {
   "cell_type": "code",
   "execution_count": null,
   "id": "47cd44f8",
   "metadata": {
    "id": "47cd44f8",
    "outputId": "87d1c5c2-7413-4a31-ae87-ff5e4de4798b"
   },
   "outputs": [],
   "source": [
    "text = [\"one\", \"two\", \"three\", \"four\", \"five\"]\n",
    "\n",
    "numbers = [1, 2, 3]\n",
    "\n",
    "list(zip(text, numbers))"
   ]
  },
  {
   "cell_type": "code",
   "execution_count": null,
   "id": "39cbdf73",
   "metadata": {
    "id": "39cbdf73",
    "outputId": "2bedf5a3-4c83-4a81-bbd6-8c777038d644"
   },
   "outputs": [],
   "source": [
    "text = [\"one\", \"two\", \"three\", \"four\", \"five\"]\n",
    "numbers = [1, 2, 3, 4, 5]\n",
    "\n",
    "zipped = zip(text, numbers)   # a zip object generated by zip() func.\n",
    "for x, y in zipped :\n",
    "    print(x, \" : \", y)"
   ]
  },
  {
   "cell_type": "code",
   "execution_count": null,
   "id": "b617e17c",
   "metadata": {
    "id": "b617e17c",
    "outputId": "ca6e6021-c4a3-4512-c44b-bb4389d13ce6"
   },
   "outputs": [],
   "source": [
    "list(zipped)"
   ]
  },
  {
   "cell_type": "markdown",
   "id": "9741ea4b",
   "metadata": {
    "id": "9741ea4b"
   },
   "source": [
    "**Since the elements are used and displayed in the for loop, the object generated by the zip() function is now empty.**\n",
    "\n",
    "**It should now be redefined.**"
   ]
  },
  {
   "cell_type": "code",
   "execution_count": null,
   "id": "469273b0",
   "metadata": {
    "id": "469273b0",
    "outputId": "91018f08-0898-4194-f128-c86f2975fc97"
   },
   "outputs": [],
   "source": [
    "zipped = zip(text, numbers)\n",
    "\n",
    "dict(zipped)"
   ]
  },
  {
   "cell_type": "code",
   "execution_count": null,
   "id": "9406fc0e",
   "metadata": {
    "id": "9406fc0e",
    "outputId": "110a0ae0-55ec-4b92-d61a-345fd6b6b404"
   },
   "outputs": [],
   "source": [
    "set(zipped)"
   ]
  },
  {
   "cell_type": "code",
   "execution_count": null,
   "id": "7256c32a",
   "metadata": {
    "id": "7256c32a",
    "outputId": "73f15c2e-f793-4c6d-9934-687174be5f6c"
   },
   "outputs": [],
   "source": [
    "a=[1,2,3,4,5,6]\n",
    "b=[\"1\",\"2\",\"3\"]\n",
    "c=[True, False]\n",
    "\n",
    "print(* zip(a,b,c))"
   ]
  },
  {
   "cell_type": "markdown",
   "id": "a86c7c5a",
   "metadata": {
    "id": "a86c7c5a"
   },
   "source": [
    "## Task :\n",
    "**Python Program to collect the odd and even numbers in two different lists.\n",
    "Write a program to choose and collect the even and odd numbers (1 to 10) in two different list.**\n",
    "\n",
    "Print the result such as :\n",
    "\n",
    "evens: [0, 2, 4, 6, 8]\n",
    "\n",
    "odds : [1, 3, 5, 7, 9]"
   ]
  },
  {
   "cell_type": "code",
   "execution_count": null,
   "id": "9379eaa7",
   "metadata": {
    "id": "9379eaa7",
    "outputId": "71986bf0-fa35-4d4a-fbdd-4096f44d42d0"
   },
   "outputs": [],
   "source": [
    "evens = []\n",
    "odds = []\n",
    "\n",
    "for n in range(1, 11) :\n",
    "\n",
    "    if n % 2 == 0 :\n",
    "        evens.append(n)\n",
    "    else :\n",
    "        odds.append(n)\n",
    "\n",
    "print(\"evens :\", evens)\n",
    "\n",
    "print(\"odds :\", odds)"
   ]
  },
  {
   "cell_type": "markdown",
   "id": "a2739ed2",
   "metadata": {
    "id": "a2739ed2"
   },
   "source": [
    "## Task :\n",
    "**Python Program to sum the amount of odd and even numbers in a tuple/list.\n",
    "Write a code that counts the odd and even numbers in a given list or tuple. Print the result such as :**\n",
    "\n",
    "example list: [11, 2, 24, 61, 48, 33, 3]\n",
    "\n",
    "example output :\n",
    "\n",
    "The number of even numbers : 3\n",
    "\n",
    "The number of odd numbers : 4"
   ]
  },
  {
   "cell_type": "code",
   "execution_count": null,
   "id": "03b1802e",
   "metadata": {
    "id": "03b1802e",
    "outputId": "762b2511-ea5a-4968-ac1e-49ce8db58d04"
   },
   "outputs": [],
   "source": [
    "numbers = (11, 36, 33, 66, 89, 21, 32, 16, 10)\n",
    "evens = 0\n",
    "odds = 0\n",
    "\n",
    "for i in numbers :\n",
    "\n",
    "    if i % 2 == 0 :\n",
    "        evens += 1\n",
    "    else :\n",
    "        odds += 1\n",
    "\n",
    "print(\"evens count :\", evens)\n",
    "print(\"odds count :\", odds)"
   ]
  },
  {
   "cell_type": "markdown",
   "id": "e81bf353",
   "metadata": {
    "id": "e81bf353"
   },
   "source": [
    "<a id=\"toc\"></a>\n",
    "\n",
    "## <p style=\"background-color:#9d4f8c; font-family:newtimeroman; color:#FFF9ED; font-size:175%; text-align:center; border-radius:10px 10px;\">Nested For Loop</p>"
   ]
  },
  {
   "cell_type": "code",
   "execution_count": null,
   "id": "705a3e00",
   "metadata": {
    "id": "705a3e00",
    "outputId": "cf624331-8ab2-470e-a2f3-10ce1efe2254"
   },
   "outputs": [],
   "source": [
    "who = ['I am ', 'You are ']\n",
    "mood = ['happy', 'confident']\n",
    "for k in who :\n",
    "    for l in mood :\n",
    "        print(k + l)"
   ]
  },
  {
   "cell_type": "markdown",
   "id": "9a0aa2c8",
   "metadata": {
    "id": "9a0aa2c8"
   },
   "source": [
    "## Task :\n",
    "**Concatenation string elements from two separate lists.**\n",
    "\n",
    "**Write a code that takes string elements one by one and prints a sentence using nested for loops :**\n",
    "\n",
    "**The given lists and sample outputs are :**\n",
    "\n",
    "\n",
    "names = [\"susan\", \"tom\", \"edward\"]\n",
    "\n",
    "mood = [\"happy\", \"sad\"]\n",
    "\n",
    "example output :\n",
    "\n",
    "                 susan is happy\n",
    "                 susan is sad\n",
    "                 tom is happy\n",
    "                     .\n",
    "                     ."
   ]
  },
  {
   "cell_type": "code",
   "execution_count": null,
   "id": "ce233da9",
   "metadata": {
    "id": "ce233da9",
    "outputId": "6e4f316b-587f-46bd-9c11-51f26f05d075",
    "scrolled": true
   },
   "outputs": [],
   "source": [
    "names = ['Susan', 'Tom', 'Edward']\n",
    "mood = ['happy', 'sad']\n",
    "for k in who :\n",
    "    for l in mood :\n",
    "        print(k + \" is \" + l)"
   ]
  },
  {
   "cell_type": "markdown",
   "id": "17467bde",
   "metadata": {
    "id": "17467bde"
   },
   "source": [
    "<a id=\"toc\"></a>\n",
    "\n",
    "## <p style=\"background-color:#9d4f8c; font-family:newtimeroman; color:#FFF9ED; font-size:175%; text-align:center; border-radius:10px 10px;\">iterable & iterator concepts + iter() function + Usage of iterators in for loops"
   ]
  },
  {
   "cell_type": "markdown",
   "id": "52f6bbb1",
   "metadata": {
    "id": "52f6bbb1"
   },
   "source": [
    "<a id=\"toc\"></a>\n",
    "\n",
    "### <p style=\"background-color:#9d4f8c; font-family:newtimeroman; color:#FFF9ED; font-size:150%; text-align:center; border-radius:10px 10px;\">What is \"iterable\"?</p>"
   ]
  },
  {
   "cell_type": "markdown",
   "id": "52ef77f5",
   "metadata": {
    "id": "52ef77f5"
   },
   "source": [
    "<hr>\n",
    "\n",
    "**An iterable is an object in programming that can be iterated, or looped over, such as a list, tuple, set, or dictionary.\n",
    "In simpler terms, an iterable is anything that can be processed in a for loop.**\n",
    "\n",
    "When a program iterates over an iterable, it accesses each item or element of the iterable in turn, allowing for manipulation or processing of the data.\n",
    "<hr>"
   ]
  },
  {
   "cell_type": "markdown",
   "id": "eec542b7",
   "metadata": {
    "id": "eec542b7"
   },
   "source": [
    "<hr>\n",
    "\n",
    "The iterable data types:\n",
    "\n",
    "**Lists:** They store elements in a sequential order and are mutable.\n",
    "\n",
    "**Tuples:** They store elements in a sequential order but are immutable.\n",
    "\n",
    "**Dictionaries:** They store key-value pairs and elements can be accessed using keys.\n",
    "\n",
    "**Sets:** They store unique elements and are unordered.\n",
    "\n",
    "**Strings:** They are stored as character sequences and are ordered.\n",
    "\n",
    "**File Objects:** They are used to read lines or characters from a file.\n",
    "\n",
    "**Generators:** They are functions used for iteration, and they produce elements in sequence without storing them in memory\n",
    "<hr>"
   ]
  },
  {
   "cell_type": "code",
   "execution_count": null,
   "id": "5550c94c",
   "metadata": {
    "id": "5550c94c",
    "outputId": "9c73051d-a5b3-46ed-9c11-67e9e92dda7e"
   },
   "outputs": [],
   "source": [
    "range(1,11)\n",
    "\n",
    "# the range() object is calculated \"lazily\" in a \"lazy\" way to minimize memory usage,\n",
    "# which means that the range object does not contain any elements until it is iterated"
   ]
  },
  {
   "cell_type": "markdown",
   "id": "ed9a88c6",
   "metadata": {
    "id": "ed9a88c6"
   },
   "source": [
    "<hr>\n",
    "\n",
    "the range() object is calculated \"lazily\" in a \"lazy\" way to **minimize memory usage**, which means that the range object does not contain any elements until it is iterated. **This means that the range() object does not appear to have any elements before being iterated.**\n",
    "\n",
    "The result of the range() function is a range object, which generates the integers in the specified range when iterated.\n",
    "\n",
    "However, the range object does not hold the entire range in memory, and only produces elements when it is iterated. This is particularly useful for optimizing memory usage for large ranges.\n",
    "<hr>"
   ]
  },
  {
   "cell_type": "code",
   "execution_count": null,
   "id": "0e351d8c",
   "metadata": {
    "id": "0e351d8c",
    "outputId": "1b32a599-a1a7-4425-f7e3-bc6bc9463ecf"
   },
   "outputs": [],
   "source": [
    "type(range(1,11))\n",
    "\n",
    "# This is an object of type range."
   ]
  },
  {
   "cell_type": "code",
   "execution_count": null,
   "id": "e5a6e077",
   "metadata": {
    "id": "e5a6e077",
    "outputId": "4ad6941f-c6e1-40dc-b128-3157448b4f2b"
   },
   "outputs": [],
   "source": [
    "# Since range objects have the iterable property, they can be indexed and sliced.\n",
    "\n",
    "range(10)[4]\n",
    "\n",
    "# The type of the object returned by indexing is the same as its own type."
   ]
  },
  {
   "cell_type": "code",
   "execution_count": null,
   "id": "cc2911b5",
   "metadata": {
    "id": "cc2911b5",
    "outputId": "259052c5-21c6-4842-aabf-3391e2061e2d"
   },
   "outputs": [],
   "source": [
    "type(range(10)[4])"
   ]
  },
  {
   "cell_type": "code",
   "execution_count": null,
   "id": "b3f3b3ad",
   "metadata": {
    "id": "b3f3b3ad",
    "outputId": "fe5bf680-b04d-45f9-aff6-b1ff300260d0"
   },
   "outputs": [],
   "source": [
    "range(10)[::2]\n",
    "\n",
    "# The type of the object returned by slicing is the same as the type of the sliced object,\n",
    "# so as you can see, it still returns a range object."
   ]
  },
  {
   "cell_type": "code",
   "execution_count": null,
   "id": "aa281fea",
   "metadata": {
    "id": "aa281fea",
    "outputId": "7cd2734c-9dd1-459b-e942-6a19eb1cca06"
   },
   "outputs": [],
   "source": [
    "type(range(10)[::2])"
   ]
  },
  {
   "cell_type": "code",
   "execution_count": null,
   "id": "dcd83068",
   "metadata": {
    "id": "dcd83068",
    "outputId": "133fbef4-cf4b-4360-d4a8-b0a03599d0d4"
   },
   "outputs": [],
   "source": [
    "# One of the methods used to make range objects visible is\n",
    "   # to place them inside a collection such as \"list\"\n",
    "\n",
    "list(range(1,11))\n",
    "\n",
    "# Now, the range object has been converted into a list object."
   ]
  },
  {
   "cell_type": "code",
   "execution_count": null,
   "id": "30b54b8e",
   "metadata": {
    "id": "30b54b8e",
    "outputId": "c8499021-4869-4837-d13a-7b6ed92eaa07"
   },
   "outputs": [],
   "source": [
    "# Since list objects are iterable, they can be indexed.\n",
    "\n",
    "list(range(1,11))[2]"
   ]
  },
  {
   "cell_type": "code",
   "execution_count": null,
   "id": "17e1c681",
   "metadata": {
    "id": "17e1c681",
    "outputId": "6e47ca97-1eb9-4411-9a11-b53890050c8e"
   },
   "outputs": [],
   "source": [
    "my_list = list(range(1,11))\n",
    "my_list[2]"
   ]
  },
  {
   "cell_type": "code",
   "execution_count": null,
   "id": "82e7be51",
   "metadata": {
    "id": "82e7be51",
    "outputId": "f4ff15f1-3216-4bbd-c796-c94e1040bca9"
   },
   "outputs": [],
   "source": [
    "# Or, I can return multiple elements of the list by slicing it.:\n",
    "\n",
    "my_list[:7:2]"
   ]
  },
  {
   "cell_type": "code",
   "execution_count": null,
   "id": "8d14afcb",
   "metadata": {
    "id": "8d14afcb",
    "outputId": "faa8e576-b82d-4b1f-a704-1168b632f920"
   },
   "outputs": [],
   "source": [
    "range(0, 10, 2)"
   ]
  },
  {
   "cell_type": "code",
   "execution_count": null,
   "id": "e594a9a9",
   "metadata": {
    "id": "e594a9a9",
    "outputId": "80b49af7-f704-41d8-c9dc-18ebece4f0f0"
   },
   "outputs": [],
   "source": [
    "set(range(0, 10, 2))"
   ]
  },
  {
   "cell_type": "code",
   "execution_count": null,
   "id": "555a4d6f",
   "metadata": {
    "id": "555a4d6f",
    "outputId": "172d846c-bc9f-4614-a23b-74aac45098a7"
   },
   "outputs": [],
   "source": [
    "list(range(0, 10, 2))"
   ]
  },
  {
   "cell_type": "code",
   "execution_count": null,
   "id": "36908aa8",
   "metadata": {
    "id": "36908aa8",
    "outputId": "19c51e9e-5d2b-4dff-9d28-e624ea775358"
   },
   "outputs": [],
   "source": [
    "list(range(0, 10, 2))[2]"
   ]
  },
  {
   "cell_type": "code",
   "execution_count": null,
   "id": "70944e26",
   "metadata": {
    "id": "70944e26",
    "outputId": "83cc1c75-1a08-4707-9a71-5a899dcdc06f"
   },
   "outputs": [],
   "source": [
    "my_list = list(range(1, 11))\n",
    "my_list[2]"
   ]
  },
  {
   "cell_type": "markdown",
   "id": "475e5a1f",
   "metadata": {
    "id": "475e5a1f"
   },
   "source": [
    "<a id=\"toc\"></a>\n",
    "\n",
    "### <p style=\"background-color:#9d4f8c; font-family:newtimeroman; color:#FFF9ED; font-size:150%; text-align:center; border-radius:10px 10px;\">What is \"iterator\"?</p>"
   ]
  },
  {
   "cell_type": "markdown",
   "id": "1eef35a9",
   "metadata": {
    "id": "1eef35a9"
   },
   "source": [
    "<hr>\n",
    "\n",
    "**An iterator is an object in Python that enables iteration, which allows returning one item at a time from an object.**\n",
    "\n",
    "Iterator objects contain two special methods: **iter()** and **next()**. Applying these methods to an iterator object and getting a value means that you are inside an object with iterator properties. For example, lists, tuples, and strings in Python have this property.\n",
    "\n",
    "Therefore, Python iterators are objects that contain a countable number of values and are generated from an iterable object.\n",
    "\n",
    "How are they generated?\n",
    "**hey are generated using the iter() method.**\n",
    "\n",
    "How can their elements be iterated over one by one?\n",
    "**They can be iterated over using the next() method.**\n",
    "<hr>"
   ]
  },
  {
   "cell_type": "markdown",
   "id": "da507414",
   "metadata": {
    "id": "da507414"
   },
   "source": [
    "<hr>\n",
    "\n",
    "**Due to these properties, iterators can be used in loops, lists, tuples, and generators** in the Python programming language.\n",
    "\n",
    "Therefore, the following two methods are applied to any object to be used as an iterator:\n",
    "**iter()** and **next()**\n",
    "\n",
    "**The iter()** method creates an iterator object from an iterable object.\n",
    "**The next()** method retrieves the elements of this iterator in sequence for use.\n",
    "Note that there is another next() function besides the next() method.\n",
    "\n",
    "As it retrieves the elements, it detaches them from the iterator. As I use the elements and empty the iterator, it becomes empty. Yes, just like a magazine being emptied.\n",
    "<hr>"
   ]
  },
  {
   "cell_type": "code",
   "execution_count": null,
   "id": "ced626b6",
   "metadata": {
    "id": "ced626b6"
   },
   "outputs": [],
   "source": [
    "iter()"
   ]
  },
  {
   "cell_type": "markdown",
   "id": "1eef134f",
   "metadata": {
    "id": "1eef134f"
   },
   "source": [
    "iter() --> SHIFT TAB TAB\n",
    "\n",
    "When we look at its docstring:\n",
    "\n",
    "**iter(iterable) -> iterator: Takes an iterable object and returns an iterator object.**\n",
    "\n",
    "**iter(callable, sentinel) -> iterator: Creates an iterator from a callable and a sentinel.**\n",
    "\n",
    "So, it creates an iterator from an object."
   ]
  },
  {
   "cell_type": "markdown",
   "id": "db1eeec5",
   "metadata": {
    "id": "db1eeec5"
   },
   "source": [
    "![python.exe](https://drive.google.com/uc?id=1sKfPAHyLJfqo3IKpUORATr0ggcEBFNFi)"
   ]
  },
  {
   "cell_type": "markdown",
   "id": "67cef7de",
   "metadata": {
    "id": "67cef7de"
   },
   "source": [
    "<a id=\"toc\"></a>\n",
    "\n",
    "### <p style=\"background-color:#9d4f8c; font-family:newtimeroman; color:#FFF9ED; font-size:150%; text-align:center; border-radius:10px 10px;\">iter() function</p>"
   ]
  },
  {
   "cell_type": "code",
   "execution_count": null,
   "id": "4a1e5a01",
   "metadata": {
    "id": "4a1e5a01"
   },
   "outputs": [],
   "source": [
    "# Let's create a list.\n",
    "\n",
    "my_list = [3, 6, 9, 12]"
   ]
  },
  {
   "cell_type": "code",
   "execution_count": null,
   "id": "9dfbf0d0",
   "metadata": {
    "id": "9dfbf0d0",
    "outputId": "0eb59734-84e8-4658-e2b4-94d5050ccfa7"
   },
   "outputs": [],
   "source": [
    "next(my_list)  # Let's try to iterate over the elements of this list one by one using the next() function."
   ]
  },
  {
   "cell_type": "markdown",
   "id": "8bac5c10",
   "metadata": {
    "id": "8bac5c10"
   },
   "source": [
    "<hr>\n",
    "\n",
    "As you can see, even though **lists** have **iterable** properties, **we cannot directly retrieve an element from a list using the next() function.**\n",
    "\n",
    "Yes, lists are iterable, but **to iterate over them, we first need to create an \"iterator\" from them.**\n",
    "\n",
    "<hr>"
   ]
  },
  {
   "cell_type": "code",
   "execution_count": null,
   "id": "3d5633ee",
   "metadata": {
    "id": "3d5633ee",
    "outputId": "ab6102b5-8827-42d5-b87f-249a3889cb6c"
   },
   "outputs": [],
   "source": [
    "# let's create an iterator from the my_list list:\n",
    "\n",
    "iter(my_list)"
   ]
  },
  {
   "cell_type": "markdown",
   "id": "637c8600",
   "metadata": {
    "id": "637c8600"
   },
   "source": [
    "<hr>\n",
    "\n",
    "We obtained an iterator from the list because the list is iterable.\n",
    "\n",
    "Now we can use this iterator in a for loop or manually obtain\n",
    "\n",
    "and use its elements one by one with the next() function.\n",
    "<hr>"
   ]
  },
  {
   "cell_type": "code",
   "execution_count": null,
   "id": "a7100530",
   "metadata": {
    "id": "a7100530",
    "outputId": "63fb1b0a-4855-4fca-80d4-7f44b0c383fb"
   },
   "outputs": [],
   "source": [
    "# first, let's check its type:\n",
    "\n",
    "type(iter(my_list))\n",
    "\n",
    "# the type of the created iterator is list_iterator."
   ]
  },
  {
   "cell_type": "code",
   "execution_count": null,
   "id": "27a9c4a5",
   "metadata": {
    "id": "27a9c4a5",
    "outputId": "5e4169d3-4f68-44a9-8d6a-9df8d530d272"
   },
   "outputs": [],
   "source": [
    "# To use it practically, let me assign the iterator to a variable first.\n",
    "# and then let's try to print it on the screen:\n",
    "\n",
    "iterator = iter(my_list)\n",
    "\n",
    "print(iterator)\n"
   ]
  },
  {
   "cell_type": "markdown",
   "id": "95a2cb7d",
   "metadata": {
    "id": "95a2cb7d"
   },
   "source": [
    "<hr>\n",
    "\n",
    "Notice that the **iter()** function, just like the **range()** function, created **a lazy iterator object.**\n",
    "\n",
    "There were several ways to make a lazy object visible:\n",
    "\n",
    "1. Converting it into a collection using functions such as list() and tuple().\n",
    "\n",
    "2. Using it inside a for loop.\n",
    "\n",
    "3. using the asterisk (*) operator in the print function.\n",
    "<hr>"
   ]
  },
  {
   "cell_type": "code",
   "execution_count": null,
   "id": "98f4530e",
   "metadata": {
    "id": "98f4530e",
    "outputId": "893197bc-7d1b-428b-af25-7b14cfb76c3d"
   },
   "outputs": [],
   "source": [
    "print(*iterator)"
   ]
  },
  {
   "cell_type": "raw",
   "id": "cd03eb38",
   "metadata": {
    "id": "cd03eb38"
   },
   "source": [
    "Can I see the iterator again if I want to see it now using the print function?"
   ]
  },
  {
   "cell_type": "code",
   "execution_count": null,
   "id": "a16fe66c",
   "metadata": {
    "id": "a16fe66c",
    "outputId": "92589bcb-90f5-4f57-c9d8-a8559b5b8b13"
   },
   "outputs": [],
   "source": [
    "print(*iterator)"
   ]
  },
  {
   "cell_type": "markdown",
   "id": "5d5614ee",
   "metadata": {
    "id": "5d5614ee"
   },
   "source": [
    "<hr>\n",
    "\n",
    "When we made the iterator object visible using the **asterisk (*)** operator in the print function, the object was consumed, meaning that its elements were iterated over and printed out. Therefore, when we try to see the iterator again, **it will be empty because all its elements have already been consumed and we need to create a new iterator object if we want to iterate over its elements again.**\n",
    "\n",
    "In summary, **iterating over an iterator consumes its elements and the iterator object needs to be recreated if we want to iterate over its elements again.**\n",
    "<hr>"
   ]
  },
  {
   "cell_type": "code",
   "execution_count": null,
   "id": "cdf03d4b",
   "metadata": {
    "id": "cdf03d4b"
   },
   "outputs": [],
   "source": [
    "# I am recreating my iterator using the iter() function.\n",
    "\n",
    "iterator = iter(my_list)"
   ]
  },
  {
   "cell_type": "markdown",
   "id": "632c7160",
   "metadata": {
    "id": "632c7160"
   },
   "source": [
    "<hr>\n",
    "\n",
    "So, the **iter()** function converts an object that can be iterated over.\n",
    "\n",
    "An iterable object can be iterated over using the **next()** function.\n",
    "\n",
    "For example, list objects are iterable, but integer objects are not iterable because an integer object does not have individual elements that can be iterated over.\n",
    "\n",
    "Now let's take a look at what the next() function does:\n",
    "<hr>"
   ]
  },
  {
   "cell_type": "markdown",
   "id": "b0a32355",
   "metadata": {
    "id": "b0a32355"
   },
   "source": [
    "<a id=\"toc\"></a>\n",
    "\n",
    "### <p style=\"background-color:#9d4f8c; font-family:newtimeroman; color:#FFF9ED; font-size:150%; text-align:center; border-radius:10px 10px;\">Iterating over data with an iterator:</p>"
   ]
  },
  {
   "cell_type": "markdown",
   "id": "f6d79cde",
   "metadata": {
    "id": "f6d79cde"
   },
   "source": [
    "**Let's now iterate over the elements of this iterator one by one and return them individually:**"
   ]
  },
  {
   "cell_type": "code",
   "execution_count": null,
   "id": "3315b161",
   "metadata": {
    "id": "3315b161",
    "outputId": "b6335576-c081-4546-a799-3a93b31d89f7"
   },
   "outputs": [],
   "source": [
    "next(iterator)"
   ]
  },
  {
   "cell_type": "code",
   "execution_count": null,
   "id": "2846cce9",
   "metadata": {
    "id": "2846cce9",
    "outputId": "26ca10fc-560d-45f3-857f-62d500081660"
   },
   "outputs": [],
   "source": [
    "next(iterator)\n",
    "\n",
    "# As you can see, it returned the next element in the sequence."
   ]
  },
  {
   "cell_type": "code",
   "execution_count": null,
   "id": "399b75db",
   "metadata": {
    "id": "399b75db",
    "outputId": "dcc16762-71c3-49b4-962b-6b7cc95d502b"
   },
   "outputs": [],
   "source": [
    "next(iterator)"
   ]
  },
  {
   "cell_type": "markdown",
   "id": "066fcb65",
   "metadata": {
    "id": "066fcb65"
   },
   "source": [
    "<hr>\n",
    "\n",
    "We can use the **next()** function to manually iterate through all the elements of an iterator.\n",
    "\n",
    "**When we reach the end of the data in the iterator and there are no more elements, a StopIteration exception will be raised.**\n",
    "\n",
    "Let's continue and see if we can reach the last element of the iterator.\n",
    "<hr>"
   ]
  },
  {
   "cell_type": "code",
   "execution_count": null,
   "id": "ae33cc21",
   "metadata": {
    "id": "ae33cc21",
    "outputId": "4359e2de-e15a-4a89-cd0d-02a3b3eb4a30"
   },
   "outputs": [],
   "source": [
    "# The next() function and the next() method do the same thing.\n",
    "\n",
    "print(iterator.__next__())"
   ]
  },
  {
   "cell_type": "code",
   "execution_count": null,
   "id": "fc26c4cf",
   "metadata": {
    "id": "fc26c4cf",
    "outputId": "18b0446f-920a-4212-a5de-5adf54865ab0"
   },
   "outputs": [],
   "source": [
    "print(iterator.__next__())\n",
    "\n",
    "# you have used all the elements in your iterator. It is now empty until it is refilled"
   ]
  },
  {
   "cell_type": "code",
   "execution_count": null,
   "id": "b8c74fb8",
   "metadata": {
    "id": "b8c74fb8",
    "outputId": "7014391e-e046-4e7d-b3ea-7755d5944f4f"
   },
   "outputs": [],
   "source": [
    "# Let's see all these operations together in a single cell:\n",
    "\n",
    "my_iter = iter(my_list)\n",
    "\n",
    "print(next(my_iter))\n",
    "print(next(my_iter))\n",
    "print(my_iter.__next__())\n",
    "print(my_iter.__next__())\n",
    "\n",
    "print(\"At this point, since the iterator has been emptied,\\\n",
    "we expect to get the StopIteration error in the next function.\")\n",
    "next(my_iter)"
   ]
  },
  {
   "cell_type": "markdown",
   "id": "c1cedfbe",
   "metadata": {
    "id": "c1cedfbe"
   },
   "source": [
    "<a id=\"toc\"></a>\n",
    "\n",
    "### <p style=\"background-color:#9d4f8c; font-family:newtimeroman; color:#FFF9ED; font-size:150%; text-align:center; border-radius:10px 10px;\">Using iterators in for loops</p>"
   ]
  },
  {
   "cell_type": "code",
   "execution_count": null,
   "id": "bd2ae81a",
   "metadata": {
    "id": "bd2ae81a"
   },
   "outputs": [],
   "source": [
    "# let's create a list of 3 strings.\n",
    "\n",
    "my_list = [\"orion\", \"michael\", \"edward\"]"
   ]
  },
  {
   "cell_type": "code",
   "execution_count": null,
   "id": "7bace603",
   "metadata": {
    "id": "7bace603",
    "outputId": "e86e4396-3f1c-4273-bf1d-fb36af999d16"
   },
   "outputs": [],
   "source": [
    "# I am using my_list as an iterator in a for loop.\n",
    "\n",
    "for i in my_list:\n",
    "    print(i, end=\" \")\n"
   ]
  },
  {
   "cell_type": "markdown",
   "id": "5ac06a2f",
   "metadata": {
    "id": "5ac06a2f"
   },
   "source": [
    "<hr>\n",
    "\n",
    "Have you ever wondered how the for loop is able to iterate over a list such as my_list?\n",
    "\n",
    "The underlying mechanism behind this is the iter() and next() functions, which are the fundamental building blocks of the for loop. When you provide an iterable object (such as a list, tuple, dict, or range() function) to a for loop, the loop first creates an iterator object out of the given object using the iter() function.\n",
    "\n",
    "In each iteration of the loop, the next() function is called to select the next item in the iterator. Finally, when the StopIteration exception is raised (indicating that there are no more items left in the iterator), the loop terminates.\n",
    "<hr>"
   ]
  },
  {
   "cell_type": "code",
   "execution_count": null,
   "id": "cb078521",
   "metadata": {
    "id": "cb078521"
   },
   "outputs": [],
   "source": [
    "# Let's try to use an integer object as an iterator in a for loop now.\n",
    "\n",
    "number = 234234"
   ]
  },
  {
   "cell_type": "raw",
   "id": "baa17356",
   "metadata": {
    "id": "baa17356"
   },
   "source": [
    "Note that our variable 'number' is an integer object, which does not have the iterable property."
   ]
  },
  {
   "cell_type": "code",
   "execution_count": null,
   "id": "83c85af3",
   "metadata": {
    "id": "83c85af3",
    "outputId": "427f45c4-3991-4ab3-fac9-72304b74e412"
   },
   "outputs": [],
   "source": [
    "for i in number :\n",
    "    print(i)\n",
    "\n",
    "# error!"
   ]
  },
  {
   "cell_type": "markdown",
   "id": "ae25f6af",
   "metadata": {
    "id": "ae25f6af"
   },
   "source": [
    "<hr>\n",
    "\n",
    "**integers cannot be used as iterators in for loops since integers are not divisible into individual elements.**\n",
    "\n",
    "Regardless of how large an integer is, it is considered a single object and does not contain individual elements that can be iterated over or accessed.\n",
    "\n",
    "Therefore, integers cannot be used as iterators in for loops since they do not have any iterable elements to iterate over.\n",
    "<hr>"
   ]
  },
  {
   "cell_type": "markdown",
   "id": "f5688c7d",
   "metadata": {
    "id": "f5688c7d"
   },
   "source": [
    "<hr>\n",
    "\n",
    "**We mentioned that range objects are iterable, so they can be used as iterators in their original form without requiring any visible structure:**\n",
    "<hr>"
   ]
  },
  {
   "cell_type": "code",
   "execution_count": null,
   "id": "bea7f697",
   "metadata": {
    "id": "bea7f697",
    "outputId": "49e50eb6-6dce-47cb-fd46-044bed3957f6"
   },
   "outputs": [],
   "source": [
    "for i in range(10) :\n",
    "    print(i, end=\" \")"
   ]
  },
  {
   "cell_type": "raw",
   "id": "e18c6f42",
   "metadata": {
    "id": "e18c6f42"
   },
   "source": [
    "I used the sequence of numbers generated by range(10) as an iterator. It produces numbers from 0 to 10"
   ]
  },
  {
   "cell_type": "code",
   "execution_count": null,
   "id": "c939f49b",
   "metadata": {
    "id": "c939f49b",
    "outputId": "72bbf555-2605-4d2a-d73d-878d40378c1a"
   },
   "outputs": [],
   "source": [
    "squares = []\n",
    "for i in range(10) :\n",
    "    squares.append(i**2)\n",
    "print(squares)"
   ]
  },
  {
   "cell_type": "raw",
   "id": "cf18afa1",
   "metadata": {
    "id": "cf18afa1"
   },
   "source": [
    "Or, as in this code, I created a list of the squares of those numbers"
   ]
  },
  {
   "cell_type": "raw",
   "id": "91d912f6",
   "metadata": {
    "id": "91d912f6"
   },
   "source": [
    "By now, we know that:\n",
    "\n",
    "The for loop first creates an iterator by applying the iter() function in the background.\n",
    "\n",
    "Then, using the next() function, it performs the operation we specify in the code block of our for loop on each element of the iterator."
   ]
  },
  {
   "cell_type": "code",
   "execution_count": null,
   "id": "e68cd11e",
   "metadata": {
    "id": "e68cd11e",
    "outputId": "dda30688-947a-45fa-8a43-280d81076d89"
   },
   "outputs": [],
   "source": [
    "# Could this iterable be a string as well.\n",
    "\n",
    "for i in \"Thank goodness I am learning Python.\":\n",
    "    print(i.upper(), end=\"\")"
   ]
  },
  {
   "cell_type": "code",
   "execution_count": null,
   "id": "530dd40f",
   "metadata": {
    "id": "530dd40f",
    "outputId": "6cf78390-e499-45de-9162-fd2530584d29"
   },
   "outputs": [],
   "source": [
    "list(map(lambda x: x%2, squares))"
   ]
  },
  {
   "cell_type": "markdown",
   "id": "3f7065d8",
   "metadata": {
    "id": "3f7065d8"
   },
   "source": [
    "<a id=\"toc\"></a>\n",
    "\n",
    "## <p style=\"background-color:#9d4f8c; font-family:newtimeroman; color:#FFF9ED; font-size:175%; text-align:center; border-radius:10px 10px;\">Some Additional Practical Use Cases"
   ]
  },
  {
   "cell_type": "markdown",
   "id": "2a25e6db",
   "metadata": {
    "id": "2a25e6db"
   },
   "source": [
    "<a id=\"toc\"></a>\n",
    "\n",
    "### <p style=\"background-color:#9d4f8c; font-family:newtimeroman; color:#FFF9ED; font-size:175%; text-align:center; border-radius:10px 10px;\">Concatenate Two Lists by \"+\" Operator</p>"
   ]
  },
  {
   "cell_type": "markdown",
   "id": "559b8e15",
   "metadata": {
    "id": "559b8e15"
   },
   "source": [
    "**When you want to collect the two lists given to you and make a single list from them, you can \"concat\" the elements of these two lists, just like strings. Finally, the two lists merge into a single list.**"
   ]
  },
  {
   "cell_type": "code",
   "execution_count": null,
   "id": "7489d95e",
   "metadata": {
    "id": "7489d95e",
    "outputId": "38bd7d86-3394-4b31-924a-53ee961b5c39"
   },
   "outputs": [],
   "source": [
    "[1, 2, 3] + [\"ally\", \"kirby\"] # see data types can be different"
   ]
  },
  {
   "cell_type": "code",
   "execution_count": null,
   "id": "023bfd24",
   "metadata": {
    "id": "023bfd24",
    "outputId": "363347a4-c4f0-4002-a604-350a12daa981"
   },
   "outputs": [],
   "source": [
    "# Let's add a third list to these.\n",
    "\n",
    "[1, 2, 3] + [\"ally\", \"kirby\"] + [True]"
   ]
  },
  {
   "cell_type": "code",
   "execution_count": null,
   "id": "1d58886c",
   "metadata": {
    "id": "1d58886c",
    "outputId": "13228347-6897-4a50-b0cc-38270e92de03"
   },
   "outputs": [],
   "source": [
    "list1 = [1, 2, 3]\n",
    "list2 = [4, 5, 6]\n",
    "concatenated_list = list1 + list2\n",
    "\n",
    "print(concatenated_list)"
   ]
  },
  {
   "cell_type": "code",
   "execution_count": null,
   "id": "7aa1d470",
   "metadata": {
    "id": "7aa1d470",
    "outputId": "6855876e-ab88-4514-d6ec-4604d11858e6"
   },
   "outputs": [],
   "source": [
    "single_element_list = [7]\n",
    "concatenated_list = concatenated_list + single_element_list\n",
    "\n",
    "print(concatenated_list)"
   ]
  },
  {
   "cell_type": "markdown",
   "id": "79c21d45",
   "metadata": {
    "id": "79c21d45"
   },
   "source": [
    "<a id=\"toc\"></a>\n",
    "\n",
    "### <p style=\"background-color:#9d4f8c; font-family:newtimeroman; color:#FFF9ED; font-size:175%; text-align:center; border-radius:10px 10px;\">Tuple packing & unpacking</p>"
   ]
  },
  {
   "cell_type": "markdown",
   "id": "cdbfcabe",
   "metadata": {
    "id": "cdbfcabe"
   },
   "source": [
    "**Tuple Packing:** Creating a tuple by putting multiple values separated by commas. For example, my_tuple = 1, 2, 3 creates a tuple with three elements (1, 2, 3).\n",
    "\n",
    "**Tuple Unpacking:** Extracting values from a tuple and assigning them to separate variables. For example, if my_tuple = 1, 2, 3, you can unpack it using a, b, c = my_tuple, which assigns 1 to a, 2 to b, and 3 to c.\n",
    "\n",
    "In Python, there is a very powerful tuple assignment feature that assigns the right-hand side of values into the left-hand side. In another way, it is called **unpacking** of a tuple of values into a variable. In **packing**, we put values into a new tuple while in unpacking we extract those values into a single variable."
   ]
  },
  {
   "cell_type": "markdown",
   "id": "2993417c",
   "metadata": {
    "id": "2993417c"
   },
   "source": [
    "###  packing tuples:\n",
    "\n",
    "**tuple1 = (obj1, obj2, ..., objN)**\n",
    "\n",
    "### unpacking tuples:\n",
    "\n",
    "**(obj1, obj2, ..., objN) = tuple1**"
   ]
  },
  {
   "cell_type": "code",
   "execution_count": null,
   "id": "45fd4746",
   "metadata": {
    "id": "45fd4746",
    "outputId": "801bf2ad-1dab-4e19-ed3b-04e24d63dcce"
   },
   "outputs": [],
   "source": [
    "tuple(range(1, 8))"
   ]
  },
  {
   "cell_type": "code",
   "execution_count": null,
   "id": "360b7b53",
   "metadata": {
    "id": "360b7b53"
   },
   "outputs": [],
   "source": [
    "mon, tue, wed, thu, fri, sat, sun = tuple(range(1, 8))  # tuple unpacking"
   ]
  },
  {
   "cell_type": "code",
   "execution_count": null,
   "id": "a841905a",
   "metadata": {
    "id": "a841905a",
    "outputId": "7c4b7028-5d37-4e5c-d906-2ed1ae989429"
   },
   "outputs": [],
   "source": [
    "mon"
   ]
  },
  {
   "cell_type": "code",
   "execution_count": null,
   "id": "e4840534",
   "metadata": {
    "id": "e4840534",
    "outputId": "92460df2-347d-46bd-b3a6-638dcd8aa738"
   },
   "outputs": [],
   "source": [
    "fri"
   ]
  },
  {
   "cell_type": "code",
   "execution_count": null,
   "id": "a068779c",
   "metadata": {
    "id": "a068779c"
   },
   "outputs": [],
   "source": [
    "mytuple = (\"apple\", \"banana\", \"cherry\") # tuple packing"
   ]
  },
  {
   "cell_type": "code",
   "execution_count": null,
   "id": "f64e3d08",
   "metadata": {
    "id": "f64e3d08"
   },
   "outputs": [],
   "source": [
    "green, yellow, red = mytuple\n",
    "\n",
    "# or:\n",
    "\n",
    "green, yellow, red = (\"apple\", \"banana\", \"cherry\")"
   ]
  },
  {
   "cell_type": "markdown",
   "id": "88334f2a",
   "metadata": {
    "id": "88334f2a"
   },
   "source": [
    "<a id=\"toc\"></a>\n",
    "\n",
    "### <p style=\"background-color:#9d4f8c; font-family:newtimeroman; color:#FFF9ED; font-size:175%; text-align:center; border-radius:10px 10px;\">Placeholder Usage</p>"
   ]
  },
  {
   "cell_type": "markdown",
   "id": "15d1163c",
   "metadata": {
    "id": "15d1163c"
   },
   "source": [
    "In Python, the underscore (_) is commonly used as a **placeholder** when you haven't determined the value of a variable or parameter yet. The underscore is used as a placeholder before specifying the value of a variable, and later the variable is assigned a value.\n",
    "\n",
    "For example, before specifying one or more parameters of a function, you can define the parameters with an underscore placeholder:\n",
    "\n",
    "**def my_function(_, y, z):**\n",
    "\n",
    "Here, the first parameter of the function is used as a placeholder with an underscore (_) and its value is not important. The remaining parameters (y and z) will be used in the function."
   ]
  },
  {
   "cell_type": "markdown",
   "id": "a80fd48b",
   "metadata": {
    "id": "a80fd48b"
   },
   "source": [
    "**The underscore placeholder can also be used to indicate that the value of a variable is insignificant:**"
   ]
  },
  {
   "cell_type": "code",
   "execution_count": null,
   "id": "949a41d9",
   "metadata": {
    "id": "949a41d9",
    "outputId": "bbf7e276-d6c1-40a0-ac6d-c3c790557e5f"
   },
   "outputs": [],
   "source": [
    "a, b = (10, 20, 30, 40)\n",
    "\n",
    "# error! (too many values to unpack (expected 2))"
   ]
  },
  {
   "cell_type": "markdown",
   "id": "7490e9a3",
   "metadata": {
    "id": "7490e9a3"
   },
   "source": [
    "**We got an error because we forced to assign 4 values to only 2 variables**\n",
    "\n",
    "**but I persistently want to assign integer 10 to a and integer 30 to b.**\n",
    "\n",
    "**In this case we can use placeholder in python. placeholders do not take up memory like a variable but act like a variable**"
   ]
  },
  {
   "cell_type": "code",
   "execution_count": null,
   "id": "328e551f",
   "metadata": {
    "id": "328e551f"
   },
   "outputs": [],
   "source": [
    "a, _, b, _ = (10, 20, 30, 40)"
   ]
  },
  {
   "cell_type": "markdown",
   "id": "e21aa8fd",
   "metadata": {
    "id": "e21aa8fd"
   },
   "source": [
    "**Look, we made the assignment and no errors were raised.**\n",
    "\n",
    "**In this way, we kept the 20 and 40 values ​​with a place holder. We assigned the remaining 10 to a and 30 to b.**\n"
   ]
  },
  {
   "cell_type": "code",
   "execution_count": null,
   "id": "76f5136b",
   "metadata": {
    "id": "76f5136b",
    "outputId": "c8c8925d-c481-4008-9cba-709c31b23e58"
   },
   "outputs": [],
   "source": [
    "_\n",
    "\n",
    "# keeps on the most recently assigned value."
   ]
  },
  {
   "cell_type": "code",
   "execution_count": null,
   "id": "dd76283a",
   "metadata": {
    "id": "dd76283a",
    "outputId": "593114d2-82c7-4dac-efd2-889aa413af19"
   },
   "outputs": [],
   "source": [
    "a"
   ]
  },
  {
   "cell_type": "code",
   "execution_count": null,
   "id": "1859ab00",
   "metadata": {
    "id": "1859ab00",
    "outputId": "6db8cccd-138b-430b-f689-fe1c2d81b594"
   },
   "outputs": [],
   "source": [
    "b"
   ]
  },
  {
   "cell_type": "markdown",
   "id": "d5e9330a",
   "metadata": {
    "id": "d5e9330a"
   },
   "source": [
    "**Let's say you have a long collection. Imagine you have a list with thousands of elements. You don't want to assign each element to a separate variable. You don't want space occupation. you only need to work with some specific values among them. In this case, you can assign without indexing. You can do it without dealing with indexes, without dealing with each part of it separately.**"
   ]
  },
  {
   "cell_type": "code",
   "execution_count": null,
   "id": "5285b114",
   "metadata": {
    "id": "5285b114",
    "outputId": "cc42728b-3e84-4dcb-94d6-d7eb27f758b5"
   },
   "outputs": [],
   "source": [
    "x, y, z = (11, 22, 33, 44, 55)\n",
    "\n",
    "# error! (too many values to unpack (expected 3))"
   ]
  },
  {
   "cell_type": "markdown",
   "id": "3bdcb4bb",
   "metadata": {
    "id": "3bdcb4bb"
   },
   "source": [
    "**I will now assign the values 11 and 22 to x and y. Then i will assign all the rest to z.**"
   ]
  },
  {
   "cell_type": "code",
   "execution_count": null,
   "id": "c8accfe7",
   "metadata": {
    "id": "c8accfe7"
   },
   "outputs": [],
   "source": [
    "x, y, *z = (11, 22, 33, 44, 55)"
   ]
  },
  {
   "cell_type": "code",
   "execution_count": null,
   "id": "5cbf83d7",
   "metadata": {
    "id": "5cbf83d7",
    "outputId": "b0b24b2a-9ae9-4c6c-faec-8bebbb85672b"
   },
   "outputs": [],
   "source": [
    "x"
   ]
  },
  {
   "cell_type": "code",
   "execution_count": null,
   "id": "a657c445",
   "metadata": {
    "id": "a657c445",
    "outputId": "ff93a72c-304d-404b-ec83-457bb4e330b9"
   },
   "outputs": [],
   "source": [
    "y"
   ]
  },
  {
   "cell_type": "code",
   "execution_count": null,
   "id": "a2bbd8f0",
   "metadata": {
    "id": "a2bbd8f0",
    "outputId": "35738260-dd60-4c92-c767-8699772528df"
   },
   "outputs": [],
   "source": [
    "z"
   ]
  },
  {
   "cell_type": "markdown",
   "id": "0030409c",
   "metadata": {
    "id": "0030409c"
   },
   "source": [
    "**You can also pull the first 2 values ​​without defining the z variable using an asterisk and a placeholder.**"
   ]
  },
  {
   "cell_type": "code",
   "execution_count": null,
   "id": "a44816f9",
   "metadata": {
    "id": "a44816f9"
   },
   "outputs": [],
   "source": [
    "x, y, *_ = (11, 22, 33, 44, 55)"
   ]
  },
  {
   "cell_type": "code",
   "execution_count": null,
   "id": "04993248",
   "metadata": {
    "id": "04993248",
    "outputId": "bdabc6d3-fa91-477e-9966-f11f65cf16b5"
   },
   "outputs": [],
   "source": [
    "x, y"
   ]
  },
  {
   "cell_type": "code",
   "execution_count": null,
   "id": "94ed99d7",
   "metadata": {
    "id": "94ed99d7"
   },
   "outputs": [],
   "source": [
    "x, y, *z = (11, 22, 33, 44, 55, 66, 77)"
   ]
  },
  {
   "cell_type": "code",
   "execution_count": null,
   "id": "b70e094f",
   "metadata": {
    "id": "b70e094f",
    "outputId": "b8bc674b-903d-480c-dc17-395cf4e44501"
   },
   "outputs": [],
   "source": [
    "z"
   ]
  },
  {
   "cell_type": "markdown",
   "id": "55eaa49e",
   "metadata": {
    "id": "55eaa49e"
   },
   "source": [
    "**What if I want to pull the elements in between except the first two and the last element?**"
   ]
  },
  {
   "cell_type": "code",
   "execution_count": null,
   "id": "db011a83",
   "metadata": {
    "id": "db011a83"
   },
   "outputs": [],
   "source": [
    "x, y, *z, _ = (11, 22, 33, 44, 55, 66, 77)"
   ]
  },
  {
   "cell_type": "code",
   "execution_count": null,
   "id": "f81835c8",
   "metadata": {
    "id": "f81835c8",
    "outputId": "b96049a3-25ce-4945-933d-87790e312b2b"
   },
   "outputs": [],
   "source": [
    "z"
   ]
  },
  {
   "cell_type": "markdown",
   "id": "980ca932-3ab8-4414-bc4b-cba1f358781a",
   "metadata": {},
   "source": [
    "<a id=\"toc\"></a>\n",
    "\n",
    "### <p style=\"background-color:#9d4f8c; font-family:newtimeroman; color:#FFF9ED; font-size:150%; text-align:center; border-radius:10px 10px;\">Python Standard Library module: itertools</p>"
   ]
  },
  {
   "cell_type": "code",
   "execution_count": null,
   "id": "f5482a49-34cb-4a8e-9a8a-9cf9163caf06",
   "metadata": {},
   "outputs": [],
   "source": []
  }
 ],
 "metadata": {
  "colab": {
   "provenance": []
  },
  "kernelspec": {
   "display_name": "Python 3 (ipykernel)",
   "language": "python",
   "name": "python3"
  },
  "language_info": {
   "codemirror_mode": {
    "name": "ipython",
    "version": 3
   },
   "file_extension": ".py",
   "mimetype": "text/x-python",
   "name": "python",
   "nbconvert_exporter": "python",
   "pygments_lexer": "ipython3",
   "version": "3.11.3"
  }
 },
 "nbformat": 4,
 "nbformat_minor": 5
}
