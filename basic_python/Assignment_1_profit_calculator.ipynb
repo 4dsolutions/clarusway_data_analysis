{
 "cells": [
  {
   "cell_type": "markdown",
   "id": "a520eb55-7ae1-403d-b0d6-90c14d006007",
   "metadata": {},
   "source": [
    "* [Instructor Landing Page](landing_page.ipynb)\n",
    "* <a href=\"https://colab.research.google.com/github/4dsolutions/clarusway_data_analysis/blob/main/basic_python/Assignment_1_profit_calculator.ipynb\"><img align=\"left\" src=\"https://colab.research.google.com/assets/colab-badge.svg\" alt=\"Open in Colab\" title=\"Open and Execute in Google Colaboratory\"></a>\n",
    "* [![nbviewer](https://raw.githubusercontent.com/jupyter/design/master/logos/Badges/nbviewer_badge.svg)](https://nbviewer.org/github/4dsolutions/clarusway_data_analysis/blob/main/basic_python/Assignment_1_profit_calculator.ipynb)"
   ]
  },
  {
   "cell_type": "markdown",
   "id": "36e9c8df",
   "metadata": {
    "id": "36e9c8df"
   },
   "source": [
    "## <p style=\"background-color:#FDFEFE; font-family:newtimeroman; color:#9d4f8c; font-size:120%; text-align:center; border-radius:10px 10px;\">Way to Reinvent Yourself</p>"
   ]
  },
  {
   "cell_type": "markdown",
   "id": "a65ffe0a",
   "metadata": {
    "id": "a65ffe0a"
   },
   "source": [
    "<div class=\"alert alert-block alert-info\"><h1><p style=\"text-align: center; color:purple\">Assignment-1 (Profit Calculator)<br><br>Data Types and Usefull Operations </p>"
   ]
  },
  {
   "cell_type": "markdown",
   "id": "13eab24f",
   "metadata": {
    "id": "13eab24f"
   },
   "source": [
    "<div class=\"alert alert-block alert-info\">\n",
    "<font color=red>Task :</font> <font color=blue>If you had deposited a coin on the cryptocurrency exchange that brought 7% fixed profit daily for a week, how much would your $ 1000 reach at the end of the 7th day?</font>"
   ]
  },
  {
   "cell_type": "code",
   "execution_count": null,
   "id": "38c14eb0",
   "metadata": {
    "id": "38c14eb0"
   },
   "outputs": [],
   "source": [
    "para = 1000"
   ]
  },
  {
   "cell_type": "code",
   "execution_count": null,
   "id": "7561f947",
   "metadata": {
    "id": "7561f947",
    "outputId": "2dc3eaa5-3ca9-4af4-ca60-b226e737506d"
   },
   "outputs": [],
   "source": [
    "para = para + para * 0.07  # My amount of money at the end of Monday.\n",
    "\n",
    "para"
   ]
  },
  {
   "cell_type": "code",
   "execution_count": null,
   "id": "32760e40",
   "metadata": {
    "id": "32760e40",
    "outputId": "94aeb764-440a-4bca-93b6-ac3d8e831c23"
   },
   "outputs": [],
   "source": [
    "para = para + para * 0.07  # My amount of money at the end of Tuesday.\n",
    "\n",
    "para\n"
   ]
  },
  {
   "cell_type": "code",
   "execution_count": null,
   "id": "296ef139",
   "metadata": {
    "id": "296ef139",
    "outputId": "9f396f54-4e73-44a9-d5be-8fac66ff8a89"
   },
   "outputs": [],
   "source": [
    "para = para + para * 0.07  # My amount at the end of Wednesday.\n",
    "\n",
    "para"
   ]
  },
  {
   "cell_type": "code",
   "execution_count": null,
   "id": "621cf147",
   "metadata": {
    "id": "621cf147",
    "outputId": "8241a5dc-7f49-4cee-f47d-7dbb017d8b03"
   },
   "outputs": [],
   "source": [
    "para = para + para * 0.07  # My amount at the end of thursday.\n",
    "\n",
    "para"
   ]
  },
  {
   "cell_type": "code",
   "execution_count": null,
   "id": "f7ad7180",
   "metadata": {
    "id": "f7ad7180",
    "outputId": "9d4eb58b-8dc1-4ef1-edaa-f84dc1f6d6c9"
   },
   "outputs": [],
   "source": [
    "para = para + para * 0.07  # My amount of money at the end of Friday.\n",
    "\n",
    "para"
   ]
  },
  {
   "cell_type": "code",
   "execution_count": null,
   "id": "cf411c27",
   "metadata": {
    "id": "cf411c27",
    "outputId": "6a8fc905-6610-4b94-8a77-d4d8ae1a87e9"
   },
   "outputs": [],
   "source": [
    "para = para + para * 0.07  # My amount of money at the end of Saturday.\n",
    "\n",
    "para"
   ]
  },
  {
   "cell_type": "code",
   "execution_count": null,
   "id": "5410bf4e",
   "metadata": {
    "id": "5410bf4e",
    "outputId": "eff54617-9fb2-422e-c3ac-455f2daa2e9f"
   },
   "outputs": [],
   "source": [
    "para = para + para * 0.07  # My amount of money at the end of Sunday.\n",
    "\n",
    "para"
   ]
  },
  {
   "cell_type": "code",
   "execution_count": null,
   "id": "2d0718b8",
   "metadata": {
    "id": "2d0718b8"
   },
   "outputs": [],
   "source": [
    "para = para * 1.07  # amount at the end of monday.\n",
    "para = para * 1.07  # amount at the end of tuesday.\n",
    "para = para * 1.07  # amount at the end of wednesday.\n",
    "para = para * 1.07  # amount at the end of thursday.\n",
    "para = para * 1.07  # amount at the end of friday.\n",
    "para = para * 1.07  # amount at the end of saturday.\n",
    "para = para * 1.07  # amount at the end of sunday."
   ]
  },
  {
   "cell_type": "code",
   "execution_count": null,
   "id": "b1e1f0d4",
   "metadata": {
    "id": "b1e1f0d4"
   },
   "outputs": [],
   "source": [
    "para = para * 1.07  # monday\n",
    "para = para * 1.07 * 1.07  # tuesday\n",
    "para = para * 1.07 * 1.07 * 1.07  # wednesday\n",
    "para = para * 1.07 * 1.07 * 1.07 * 1.07  # thrusday\n",
    "para = para * 1.07 * 1.07 * 1.07 * 1.07 * 1.07  # friday\n",
    "para = para * 1.07 * 1.07 * 1.07 * 1.07 * 1.07 * 1.07  # saturday\n",
    "para = para * 1.07 * 1.07 * 1.07 * 1.07 * 1.07 * 1.07 * 1.07  # sunday"
   ]
  },
  {
   "cell_type": "code",
   "execution_count": null,
   "id": "745ed635",
   "metadata": {
    "id": "745ed635"
   },
   "outputs": [],
   "source": [
    "para = 1000"
   ]
  },
  {
   "cell_type": "code",
   "execution_count": null,
   "id": "4c6ea403",
   "metadata": {
    "id": "4c6ea403",
    "outputId": "1c340f8a-448a-4817-9c75-798242401e9d"
   },
   "outputs": [],
   "source": [
    "para = para * 1.07 ** 7\n",
    "\n",
    "para"
   ]
  },
  {
   "cell_type": "code",
   "execution_count": null,
   "id": "b67a2fc6",
   "metadata": {
    "id": "b67a2fc6"
   },
   "outputs": [],
   "source": []
  }
 ],
 "metadata": {
  "colab": {
   "provenance": []
  },
  "kernelspec": {
   "display_name": "Python 3 (ipykernel)",
   "language": "python",
   "name": "python3"
  },
  "language_info": {
   "codemirror_mode": {
    "name": "ipython",
    "version": 3
   },
   "file_extension": ".py",
   "mimetype": "text/x-python",
   "name": "python",
   "nbconvert_exporter": "python",
   "pygments_lexer": "ipython3",
   "version": "3.11.3"
  }
 },
 "nbformat": 4,
 "nbformat_minor": 5
}
