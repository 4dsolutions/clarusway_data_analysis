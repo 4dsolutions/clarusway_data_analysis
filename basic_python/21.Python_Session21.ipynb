{
 "cells": [
  {
   "cell_type": "markdown",
   "id": "f3cf52a4-a12d-4f4d-a3da-cecd80142fc1",
   "metadata": {
    "id": "fGdDuGxR9rkV"
   },
   "source": [
    "#### Clarusway Python\n",
    "\n",
    "* [Instructor Landing Page](landing_page.ipynb)\n",
    "* <a href=\"https://colab.research.google.com/github/4dsolutions/clarusway_data_analysis/blob/main/basic_python/21.Python_Session21.ipynb\"><img align=\"left\" src=\"https://colab.research.google.com/assets/colab-badge.svg\" alt=\"Open in Colab\" title=\"Open and Execute in Google Colaboratory\"></a>\n",
    "* [![nbviewer](https://raw.githubusercontent.com/jupyter/design/master/logos/Badges/nbviewer_badge.svg)](https://nbviewer.org/github/4dsolutions/clarusway_data_analysis/blob/main/basic_python/21.Python_Session21.ipynb)"
   ]
  },
  {
   "cell_type": "markdown",
   "id": "97d2a08c",
   "metadata": {
    "id": "97d2a08c"
   },
   "source": [
    "<a id=\"toc\"></a>\n",
    "\n",
    "## <p style=\"background-color:#0D8D99; font-family:newtimeroman; color:#FFF9ED; font-size:175%; text-align:center; border-radius:10px 10px;\">Python Session 21</p>"
   ]
  },
  {
   "cell_type": "markdown",
   "id": "2a056995",
   "metadata": {
    "id": "2a056995"
   },
   "source": [
    "#### <div class=\"alert alert-block alert-info\"><h1><p style=\"text-align: center; color:purple\">Exception Handling<br><br>An Algorithm Exercise - Password Generator</p> "
   ]
  },
  {
   "cell_type": "raw",
   "id": "f24988f8",
   "metadata": {
    "id": "f24988f8"
   },
   "source": [
    "peardeck - 15_In-Class_Python_Exception_Handling\n",
    "Y-4"
   ]
  },
  {
   "cell_type": "code",
   "execution_count": null,
   "id": "26948fcc",
   "metadata": {
    "id": "26948fcc",
    "outputId": "d0be9ff4-2322-48ad-c622-f08f0461d7be"
   },
   "outputs": [],
   "source": [
    "print(\"hello world\")\n",
    "print(\"hello world\")\n",
    "print(\"hello world\")\n",
    "print(\"hello world\")\n",
    "print(\"hello world\")\n",
    "2/0\n",
    "print(\"hello world\")\n",
    "print(\"hello world\")\n",
    "print(\"hello world\")\n",
    "print(\"hello world\")\n",
    "print(\"hello world\")"
   ]
  },
  {
   "cell_type": "code",
   "execution_count": null,
   "id": "a370eb6d",
   "metadata": {
    "id": "a370eb6d",
    "outputId": "b66a6e86-5357-4955-e9f1-d177abc2dcf1"
   },
   "outputs": [],
   "source": [
    "print(\"hello world\")\n",
    "print(\"hello world\")\n",
    "print(\"hello world\")\n",
    "print(\"hello world\"\n",
    "print(\"hello world\")\n",
    "2/0\n",
    "print(\"hello world\")\n",
    "print(\"hello world\")\n",
    "print(\"hello world\")\n",
    "print(\"hello world\")\n",
    "print(\"hello world\")"
   ]
  },
  {
   "cell_type": "code",
   "execution_count": null,
   "id": "43a4c209",
   "metadata": {
    "id": "43a4c209",
    "outputId": "f7c6cb83-fdfa-4dbb-ff6d-050b18f4ca14"
   },
   "outputs": [],
   "source": [
    "# This is a syntax error\n",
    "\n",
    "print(\"hello\")\n",
    "print(hello\n",
    "      \n",
    "# syntax error! No lines of code executed."
   ]
  },
  {
   "cell_type": "code",
   "execution_count": null,
   "id": "2b788f0f",
   "metadata": {
    "id": "2b788f0f",
    "outputId": "d700bd63-5d2e-4cdd-ae21-a1c25beb9b1b"
   },
   "outputs": [],
   "source": [
    "# This is an exception error\n",
    "\n",
    "print(\"hello\")\n",
    "print(hello)\n",
    "\n",
    "# name error! The first line executed."
   ]
  },
  {
   "cell_type": "markdown",
   "id": "d8d1738c",
   "metadata": {
    "id": "d8d1738c"
   },
   "source": [
    "**let's do some exercises:**"
   ]
  },
  {
   "cell_type": "code",
   "execution_count": null,
   "id": "7fc82e83",
   "metadata": {
    "id": "7fc82e83",
    "outputId": "a7384e99-c79e-4246-d0db-4a1031e96b54"
   },
   "outputs": [],
   "source": [
    "try :\n",
    "    x = 2/0\n",
    "    print(\"It means that I have no problem, look I am executed.\")\n",
    "    \n",
    "except :  \n",
    "    print(\"something went wrong\")  "
   ]
  },
  {
   "cell_type": "code",
   "execution_count": null,
   "id": "03d9df8d",
   "metadata": {
    "id": "03d9df8d",
    "outputId": "1b101772-dfda-4970-c065-530b51f59f99"
   },
   "outputs": [],
   "source": [
    "\n",
    "try :\n",
    "    print(\"i am the first code line.\")\n",
    "    x = 2/0\n",
    "    print(\"It means that I have no problem, look I am executed.\")\n",
    "    \n",
    "except :  \n",
    "    print(\"something went wrong\")"
   ]
  },
  {
   "cell_type": "code",
   "execution_count": null,
   "id": "db514fe0",
   "metadata": {
    "id": "db514fe0",
    "outputId": "bd401b79-d234-41d6-eee6-5229050e40eb"
   },
   "outputs": [],
   "source": [
    "try :\n",
    "    print(\"a\") \n",
    "    x = 2/2   \n",
    "    print(\"b\") \n",
    "    print(x) \n",
    "    \n",
    "except :  \n",
    "    print(\"c\")"
   ]
  },
  {
   "cell_type": "code",
   "execution_count": null,
   "id": "6ece05b9",
   "metadata": {
    "id": "6ece05b9",
    "outputId": "85e85892-4aec-4003-9099-acc195a88a53"
   },
   "outputs": [],
   "source": [
    "try :\n",
    "    print(\"a\") \n",
    "    x = 2/2   \n",
    "    print(\"b\") \n",
    "    print(x) \n",
    "    \n",
    "except :  \n",
    "    print(\"c\")\n",
    "    \n",
    "print(\"I am the line below the try except block.\")"
   ]
  },
  {
   "cell_type": "raw",
   "id": "2bb44ff1",
   "metadata": {
    "id": "2bb44ff1"
   },
   "source": [
    "Y 5-9"
   ]
  },
  {
   "cell_type": "code",
   "execution_count": null,
   "id": "108b2ecf",
   "metadata": {
    "id": "108b2ecf"
   },
   "outputs": [],
   "source": [
    "while True:\n",
    "    no_one = int(input(\"The first number please : \"))\n",
    "    no_two = int(input(\"The second number please : \"))\n",
    "    division = no_one / no_two\n",
    "    print(\"The result of the division is : \", division)\n",
    "    break"
   ]
  },
  {
   "cell_type": "raw",
   "id": "d8a056fd",
   "metadata": {
    "id": "d8a056fd"
   },
   "source": [
    "Y 10-12"
   ]
  },
  {
   "cell_type": "markdown",
   "id": "d3d8ad55",
   "metadata": {
    "id": "d3d8ad55"
   },
   "source": [
    "<a id=\"toc\"></a>\n",
    "\n",
    "### <p style=\"background-color:#9d4f8c; font-family:newtimeroman; color:#FFF9ED; font-size:175%; text-align:center; border-radius:10px 10px;\">The basic structure of try-except statement looks like:</p>"
   ]
  },
  {
   "cell_type": "markdown",
   "id": "10b177e5",
   "metadata": {
    "id": "10b177e5"
   },
   "source": [
    "![python.exe](https://drive.google.com/uc?id=1lxgHIXdRUtU20Nm4iKHo6bVaFlLgcXSP)"
   ]
  },
  {
   "cell_type": "code",
   "execution_count": null,
   "id": "e78c04fb",
   "metadata": {
    "id": "e78c04fb",
    "outputId": "d2d8e9a4-612b-4178-ba18-074604e631d6"
   },
   "outputs": [],
   "source": [
    "while True:\n",
    "    no_one = int(input(\"The first number please : \"))\n",
    "    no_two = int(input(\"The second number please : \"))\n",
    "    try:\n",
    "        division = no_one / no_two\n",
    "        print(\"The result of the division is : \", division)\n",
    "        break\n",
    "    except :\n",
    "        print(\"Something went wrong...Try again.\")\n",
    "        break"
   ]
  },
  {
   "cell_type": "raw",
   "id": "10664256",
   "metadata": {
    "id": "10664256"
   },
   "source": [
    "Y 13-18"
   ]
  },
  {
   "cell_type": "code",
   "execution_count": null,
   "id": "c3242eb0",
   "metadata": {
    "id": "c3242eb0",
    "outputId": "9b7383d4-bdc6-4a3a-8325-01e36d737862"
   },
   "outputs": [],
   "source": [
    "while True:\n",
    "    no_one = int(input(\"The first number please : \"))\n",
    "    no_two = int(input(\"The second number please : \"))\n",
    "    try:\n",
    "        division = no_one / no_two\n",
    "        print(\"The result of the division is : \", division)\n",
    "        break\n",
    "    except ZeroDivisionError:   # write the name of the error that we are likely to get.\n",
    "        print(\"Something went wrong...Try again.\")\n",
    "        break"
   ]
  },
  {
   "cell_type": "raw",
   "id": "2fbd8fc5",
   "metadata": {
    "id": "2fbd8fc5"
   },
   "source": [
    "Y 19-28"
   ]
  },
  {
   "cell_type": "markdown",
   "id": "ffbafb89",
   "metadata": {
    "id": "ffbafb89"
   },
   "source": [
    "<a id=\"toc\"></a>\n",
    "\n",
    "### <p style=\"background-color:#9d4f8c; font-family:newtimeroman; color:#FFF9ED; font-size:175%; text-align:center; border-radius:10px 10px;\">The full version of try-except statement is as follows :</p>"
   ]
  },
  {
   "cell_type": "markdown",
   "id": "2ce25bb3",
   "metadata": {
    "id": "2ce25bb3"
   },
   "source": [
    "**Implementation of the Full 'Exception Handling Block' :**"
   ]
  },
  {
   "cell_type": "code",
   "execution_count": null,
   "id": "be20486e",
   "metadata": {
    "id": "be20486e",
    "outputId": "0e5a3733-12cc-4444-99d8-06b02b4116b9"
   },
   "outputs": [],
   "source": [
    "while True:\n",
    "    no_one = int(input(\"The first number please : \"))\n",
    "    no_two = int(input(\"The second number please : \"))\n",
    "    try:\n",
    "        division = no_one / no_two   \n",
    "    except ZeroDivisionError:   # I am writing the name of the error that we are likely to encounter after 'except'.\n",
    "        print(\"You can't divide by zero! Try again.\")\n",
    "    else :\n",
    "        print(\"The result of the division is : \", division) # executes if there is no exception.\n",
    "    finally :\n",
    "        print(\"Thanks for using our mini divison calculator! Come again!\")\n",
    "        break  # exits the while loop"
   ]
  },
  {
   "cell_type": "code",
   "execution_count": null,
   "id": "425e6998",
   "metadata": {
    "id": "425e6998",
    "outputId": "b42e2a15-8fab-40c6-fe66-6e6bab7583a9"
   },
   "outputs": [],
   "source": [
    "while True:\n",
    "    no_one = int(input(\"The first number please : \"))\n",
    "    no_two = int(input(\"The second number please : \"))\n",
    "    try:\n",
    "        division = no_one / no_two   # normal part of the program\n",
    "    except ZeroDivisionError:   # I am writing the name of the error that we are likely to encounter after 'except'..\n",
    "        print(\"You can't divide by zero! Try again.\")\n",
    "    else :\n",
    "        print(\"The result of the division is : \", division) # executes if there is no exception.\n",
    "    finally :\n",
    "        print(\"Thanks for using our mini divison calculator! Come again!\")\n",
    "        break  # exits the while loop"
   ]
  },
  {
   "cell_type": "markdown",
   "id": "ee7b96d6",
   "metadata": {
    "id": "ee7b96d6"
   },
   "source": [
    "**Now, Let's put the inputs inside the try block and see the difference:**"
   ]
  },
  {
   "cell_type": "code",
   "execution_count": null,
   "id": "3a319a74",
   "metadata": {
    "id": "3a319a74",
    "outputId": "529a1b37-d37b-4092-9b18-c7b9fd1b8eb7"
   },
   "outputs": [],
   "source": [
    "while True:\n",
    "\n",
    "    try:\n",
    "        no_one = int(input(\"The first number please : \"))\n",
    "        no_two = int(input(\"The second number please : \"))\n",
    "        division = no_one / no_two  \n",
    "    except ZeroDivisionError:  \n",
    "        print(\"You can't divide by zero! Try again.\")\n",
    "    else :\n",
    "        print(\"The result of the division is : \", division) \n",
    "    finally :\n",
    "        print(\"Thanks for using our mini divison calculator! Come again!\")\n",
    "        break  "
   ]
  },
  {
   "cell_type": "raw",
   "id": "b931cd30",
   "metadata": {
    "id": "b931cd30"
   },
   "source": [
    "Y 29-33"
   ]
  },
  {
   "cell_type": "markdown",
   "id": "61f7c921",
   "metadata": {
    "id": "61f7c921"
   },
   "source": [
    "<a id=\"toc\"></a>\n",
    "\n",
    "### <p style=\"background-color:#9d4f8c; font-family:newtimeroman; color:#FFF9ED; font-size:175%; text-align:center; border-radius:10px 10px;\">Exception as</p>"
   ]
  },
  {
   "cell_type": "code",
   "execution_count": null,
   "id": "dda3f1a0",
   "metadata": {
    "id": "dda3f1a0",
    "outputId": "9e2cf514-c0cf-4531-b2b2-942e1a0d9ebe"
   },
   "outputs": [],
   "source": [
    "while True:\n",
    "    no_one = int(input(\"The first number please : \"))\n",
    "    no_two = int(input(\"The second number please : \"))\n",
    "    try:\n",
    "        division = no_one / no_two\n",
    "        print(\"The result of the division is : \", division)\n",
    "        break\n",
    "    except Exception as anyword : \n",
    "        print(\"The exception that raised is :\", anyword)\n",
    "        break"
   ]
  },
  {
   "cell_type": "markdown",
   "id": "501ef70b",
   "metadata": {
    "id": "501ef70b"
   },
   "source": [
    "**Now, Let's put the inputs inside the try block and see the difference:**"
   ]
  },
  {
   "cell_type": "code",
   "execution_count": null,
   "id": "5e31326d",
   "metadata": {
    "id": "5e31326d",
    "outputId": "68e5376a-47ee-4665-aa05-4105a67bb417"
   },
   "outputs": [],
   "source": [
    "while True:\n",
    "\n",
    "    try:\n",
    "        no_one = int(input(\"The first number please : \"))\n",
    "        no_two = int(input(\"The second number please : \"))\n",
    "        division = no_one / no_two\n",
    "        print(\"The result of the division is : \", division)\n",
    "        break\n",
    "    except Exception as anyword :   \n",
    "        print(\"The exception that raised is :\", anyword)\n",
    "        break"
   ]
  },
  {
   "cell_type": "code",
   "execution_count": null,
   "id": "03c1fa29",
   "metadata": {
    "id": "03c1fa29",
    "outputId": "f4371a53-21b2-4095-d63d-92be1376c756"
   },
   "outputs": [],
   "source": [
    "anyword\n",
    "\n",
    "# error! (NameError: name 'anyword' is not defined)"
   ]
  },
  {
   "cell_type": "raw",
   "id": "6b940940",
   "metadata": {
    "id": "6b940940"
   },
   "source": [
    "y 34-36"
   ]
  },
  {
   "cell_type": "markdown",
   "id": "7ef96ec5",
   "metadata": {
    "id": "7ef96ec5"
   },
   "source": [
    "<a id=\"toc\"></a>\n",
    "\n",
    "### <p style=\"background-color:#9d4f8c; font-family:newtimeroman; color:#FFF9ED; font-size:175%; text-align:center; border-radius:10px 10px;\">else</p>"
   ]
  },
  {
   "cell_type": "code",
   "execution_count": null,
   "id": "1c836ed5",
   "metadata": {
    "id": "1c836ed5",
    "outputId": "aad01018-6ad9-4850-ea40-676591dc87ae"
   },
   "outputs": [],
   "source": [
    "try:\n",
    "    x = 4 / 1\n",
    "except:\n",
    "    print(\"Something went wrong\")\n",
    "else:\n",
    "    print(\"Nothing went wrong\")\n",
    "    \n",
    "# else clause executes, because there is no exception"
   ]
  },
  {
   "cell_type": "raw",
   "id": "78704c25",
   "metadata": {
    "id": "78704c25"
   },
   "source": [
    "Y 37"
   ]
  },
  {
   "cell_type": "markdown",
   "id": "37757770",
   "metadata": {
    "id": "37757770"
   },
   "source": [
    "<a id=\"toc\"></a>\n",
    "\n",
    "### <p style=\"background-color:#9d4f8c; font-family:newtimeroman; color:#FFF9ED; font-size:175%; text-align:center; border-radius:10px 10px;\">finally</p>"
   ]
  },
  {
   "cell_type": "code",
   "execution_count": null,
   "id": "9dbdaea9",
   "metadata": {
    "id": "9dbdaea9",
    "outputId": "efaf6521-df08-473c-8f85-e45f3996e7c7"
   },
   "outputs": [],
   "source": [
    "try:\n",
    "    x = 3 / 0\n",
    "except:\n",
    "    print(\"Something went wrong\")\n",
    "finally:\n",
    "    print(\"Always execute this\")"
   ]
  },
  {
   "cell_type": "code",
   "execution_count": null,
   "id": "4fbc9f5a",
   "metadata": {
    "id": "4fbc9f5a"
   },
   "outputs": [],
   "source": [
    "try:\n",
    "    f = open('myfile.txt')\n",
    "    print(f.read())\n",
    "except:\n",
    "    print(\"Something went wrong\")\n",
    "finally:\n",
    "    f.close()"
   ]
  },
  {
   "cell_type": "raw",
   "id": "8511f8eb",
   "metadata": {
    "id": "8511f8eb"
   },
   "source": [
    "Y 41-45"
   ]
  },
  {
   "cell_type": "markdown",
   "id": "a1eda9d4",
   "metadata": {
    "id": "a1eda9d4"
   },
   "source": [
    "<a id=\"toc\"></a>\n",
    "\n",
    "### <p style=\"background-color:#9d4f8c; font-family:newtimeroman; color:#FFF9ED; font-size:175%; text-align:center; border-radius:10px 10px;\">Several Handling Scenarios</p>"
   ]
  },
  {
   "cell_type": "code",
   "execution_count": null,
   "id": "2a941351",
   "metadata": {
    "id": "2a941351",
    "outputId": "265c68d9-08d5-4d90-895b-d28132d00825"
   },
   "outputs": [],
   "source": [
    "try:\n",
    "    x = 2/0\n",
    "\n",
    "except ZeroDivisionError:\n",
    "    print('You are trying to divide by zero')\n",
    "except:\n",
    "    print('Something else went wrong')"
   ]
  },
  {
   "cell_type": "code",
   "execution_count": null,
   "id": "787876c1",
   "metadata": {
    "id": "787876c1",
    "outputId": "26e6fb1d-06a5-477c-da92-d221ce29dca9"
   },
   "outputs": [],
   "source": [
    "try:\n",
    "    x\n",
    "except ZeroDivisionError:\n",
    "    print('You are trying to divide by zero')\n",
    "except:\n",
    "    print('Something else went wrong')"
   ]
  },
  {
   "cell_type": "code",
   "execution_count": null,
   "id": "3436037e",
   "metadata": {
    "id": "3436037e",
    "outputId": "685477e8-0807-4543-dc83-afc482cc17b2"
   },
   "outputs": [],
   "source": [
    "try:\n",
    "    x\n",
    "except ZeroDivisionError:\n",
    "    print('You are trying to divide by zero')\n",
    "except NameError:\n",
    "    print('The wrong is related to name error')\n",
    "except:\n",
    "    print('Something else went wrong')"
   ]
  },
  {
   "cell_type": "code",
   "execution_count": null,
   "id": "16289622",
   "metadata": {
    "id": "16289622",
    "outputId": "270d1474-7e6f-4237-eb83-4afdca0dd7b8"
   },
   "outputs": [],
   "source": [
    "int(\"ten\")\n"
   ]
  },
  {
   "cell_type": "code",
   "execution_count": null,
   "id": "24535326",
   "metadata": {
    "id": "24535326",
    "outputId": "234e8722-a65f-454d-af21-45765cf0c3e1"
   },
   "outputs": [],
   "source": [
    "try:\n",
    "    int(\"on\")\n",
    "except ZeroDivisionError:\n",
    "    print('You are trying to divide by zero')\n",
    "except NameError:\n",
    "    print('The wrong is related to name error')\n",
    "except:\n",
    "    print('Something else went wrong')"
   ]
  },
  {
   "cell_type": "markdown",
   "id": "c4fe6ded",
   "metadata": {
    "id": "c4fe6ded"
   },
   "source": [
    "why the last \"except\" executed? did you get it?"
   ]
  },
  {
   "cell_type": "code",
   "execution_count": null,
   "id": "019875dc",
   "metadata": {
    "id": "019875dc",
    "outputId": "d47efbd1-4636-4483-a1fb-afdd4e496341"
   },
   "outputs": [],
   "source": [
    "try:\n",
    "    int(\"on\")\n",
    "    \n",
    "except ZeroDivisionError:\n",
    "    print('You are trying to divide by zero')\n",
    "except NameError:\n",
    "    print('The wrong is related to name error')\n",
    "except (ValueError, TypeError):\n",
    "    print('The wrong is related to value or type error')\n",
    "except:\n",
    "    print('Something else went wrong')    "
   ]
  },
  {
   "cell_type": "code",
   "execution_count": null,
   "id": "1e4f3326",
   "metadata": {
    "id": "1e4f3326",
    "outputId": "4b4727ce-761a-4dc3-bb73-784d8bd2ed98"
   },
   "outputs": [],
   "source": [
    "try:\n",
    "    4 + \"4\"\n",
    "    \n",
    "except ZeroDivisionError:\n",
    "    print('You are trying to divide by zero')\n",
    "except NameError:\n",
    "    print('The wrong is related to name error')\n",
    "except (ValueError, TypeError):\n",
    "    print('The wrong is related to value or type error')\n",
    "except:\n",
    "    print('Something else went wrong')"
   ]
  },
  {
   "cell_type": "markdown",
   "id": "bd1b8fa1",
   "metadata": {
    "id": "bd1b8fa1"
   },
   "source": [
    "<a id=\"toc\"></a>\n",
    "\n",
    "### <p style=\"background-color:#9d4f8c; font-family:newtimeroman; color:#FFF9ED; font-size:175%; text-align:center; border-radius:10px 10px;\">Exception Hierarchy</p>"
   ]
  },
  {
   "cell_type": "markdown",
   "id": "0dad6308",
   "metadata": {
    "id": "0dad6308"
   },
   "source": [
    "[Exception Hierarchy-docs.python.org](https://docs.python.org/3/library/exceptions.html#exception-hierarchy)"
   ]
  },
  {
   "cell_type": "code",
   "execution_count": null,
   "id": "e2008441",
   "metadata": {
    "id": "e2008441",
    "outputId": "819f27a8-6c18-4195-deb0-f52e0281bc84"
   },
   "outputs": [],
   "source": [
    "try:\n",
    "    4 / 0\n",
    "except ArithmeticError: \n",
    "    print('You are trying to divide by zero')\n",
    "except NameError:\n",
    "    print('The wrong is related to name error')\n",
    "except (ValueError, TypeError):\n",
    "    print('The wrong is related to value or type error')\n",
    "except:\n",
    "    print('Something else went wrong')"
   ]
  },
  {
   "cell_type": "raw",
   "id": "c4052eb2",
   "metadata": {
    "id": "c4052eb2"
   },
   "source": [
    "Y 46-50"
   ]
  },
  {
   "cell_type": "markdown",
   "id": "7809dacc",
   "metadata": {
    "id": "7809dacc"
   },
   "source": [
    "<a id=\"toc\"></a>\n",
    "\n",
    "### <p style=\"background-color:#9d4f8c; font-family:newtimeroman; color:#FFF9ED; font-size:175%; text-align:center; border-radius:10px 10px;\">Task</p>"
   ]
  },
  {
   "cell_type": "code",
   "execution_count": null,
   "id": "2586ff34",
   "metadata": {
    "id": "2586ff34"
   },
   "outputs": [],
   "source": [
    "fruits = [\"banana\", \"mango\", \"pear\", \"apple\", \"kiwi\", \"grape\"]"
   ]
  },
  {
   "cell_type": "code",
   "execution_count": null,
   "id": "7f2193d8",
   "metadata": {
    "id": "7f2193d8",
    "outputId": "171045cb-08db-47ef-f5ee-5827028d459b"
   },
   "outputs": [],
   "source": [
    "while True :\n",
    "    \n",
    "    try :\n",
    "        index = int(input(\"Pick an index number :\")) \n",
    "       \n",
    "        print(\"Your favorite fruit is\", fruits[index]) \n",
    "        break \n",
    "    \n",
    "    except IndexError :\n",
    "        print(\"There is no such an index. Try again!\")\n",
    "        \n",
    "    except ValueError :\n",
    "        print(\"You should enter integer. Try again!\")"
   ]
  },
  {
   "cell_type": "markdown",
   "id": "06d96aaf",
   "metadata": {
    "id": "06d96aaf"
   },
   "source": [
    "<a id=\"toc\"></a>\n",
    "\n",
    "### <p style=\"background-color:#9d4f8c; font-family:newtimeroman; color:#FFF9ED; font-size:175%; text-align:center; border-radius:10px 10px;\">Task</p>"
   ]
  },
  {
   "cell_type": "code",
   "execution_count": null,
   "id": "384b612f",
   "metadata": {
    "id": "384b612f",
    "outputId": "92a07914-ad6b-4ffb-a608-2d01b9a35a9f"
   },
   "outputs": [],
   "source": [
    "fruits = [\"banana\", \"mango\", \"pear\", \"apple\", \"kiwi\", \"grape\"]\n",
    "\n",
    "counter = 3\n",
    "\n",
    "while counter > 0 : \n",
    "    try :\n",
    "        print(f\"you have {counter} right.\") \n",
    "        index = int(input(\"pick an index number.\"))  \n",
    "        print(\"Your favorite fruit is\", fruits[index]) \n",
    "        \n",
    "    except IndexError :  \n",
    "        counter -= 1  \n",
    "        print(f\"Index error raised. You have {counter} left. Try again!\")\n",
    "\n",
    "    except ValueError :\n",
    "        counter -= 1\n",
    "        print(f\"Value error. You have {counter} left. Try again!\")  \n",
    "    else :\n",
    "        print(\"Congrats! You've entered valid input.\")\n",
    "        break             \n",
    "        \n",
    "    finally :\n",
    "        print(\"Our fruits are always fresh!\")"
   ]
  },
  {
   "cell_type": "markdown",
   "id": "dcecdd3a",
   "metadata": {
    "id": "dcecdd3a"
   },
   "source": [
    "**if we don't want it to write \"try again\" in case the rights are exhausted\n",
    "we can use \"if-else\"**"
   ]
  },
  {
   "cell_type": "code",
   "execution_count": null,
   "id": "fb371002",
   "metadata": {
    "id": "fb371002"
   },
   "outputs": [],
   "source": [
    "\n",
    "\n",
    "fruits = [\"banana\", \"mango\", \"pear\", \"apple\", \"kiwi\", \"grape\"]\n",
    "\n",
    "counter = 3\n",
    "\n",
    "while counter > 0 : \n",
    "    try :\n",
    "        index = int(input(\"pick an index number.\"))  \n",
    "        print(\"Your favorite fruit is\", fruits[index])  \n",
    "\n",
    "    except IndexError :  \n",
    "        counter -= 1  \n",
    "        if counter != 0 :\n",
    "            print(f\"Value error. You have {counter} left. Try again!\")\n",
    "        else :\n",
    "            print(f\"Value error. Sorry you have no right left\")\n",
    "\n",
    "    except ValueError :\n",
    "        counter -= 1\n",
    "        if counter != 0 :\n",
    "            print(f\"Value error. You have {counter} left. Try again!\")\n",
    "        else :\n",
    "            print(f\"Value error.  Sorry you have no right left\")\n",
    "\n",
    "    else :\n",
    "        print(\"Congrats! You've entered valid input.\")\n",
    "        break             \n",
    "        \n",
    "    finally :\n",
    "        print(\"Our fruits are always fresh!\")"
   ]
  },
  {
   "cell_type": "markdown",
   "id": "2e387118",
   "metadata": {
    "id": "2e387118"
   },
   "source": [
    "<a id=\"toc\"></a>\n",
    "\n",
    "## <p style=\"background-color:#9d4f8c; font-family:newtimeroman; color:#FFF9ED; font-size:175%; text-align:center; border-radius:10px 10px;\">An Algorithm Exercise</p>\n",
    " "
   ]
  },
  {
   "cell_type": "markdown",
   "id": "2ab8b6cb",
   "metadata": {
    "id": "2ab8b6cb"
   },
   "source": [
    "<a id=\"toc\"></a>\n",
    "\n",
    "### <p style=\"background-color:#0D8D99; font-family:newtimeroman; color:#FFF9ED; font-size:175%; text-align:center; border-radius:10px 10px;\">Password Generator</p> "
   ]
  },
  {
   "cell_type": "markdown",
   "id": "30f2d4a8",
   "metadata": {
    "id": "30f2d4a8"
   },
   "source": [
    "<hr>\n",
    "\n",
    "When you sign up for some websites, they require you to choose a strong password. Sometimes, they even reject simple passwords that you choose.\n",
    "\n",
    "The strength of the password increases depending on the number of characters, diversity of characters, and the use of special characters. The more diverse characters you use, the harder it is to crack the password.\n",
    "\n",
    "Now, we will create a secure password generator together. We will create a function that will generate a password for us.\n",
    "\n",
    "Our password will include letters, numbers, and special characters.\n",
    "<hr>"
   ]
  },
  {
   "cell_type": "markdown",
   "id": "01576ef3",
   "metadata": {
    "id": "01576ef3"
   },
   "source": [
    "<hr>\n",
    "\n",
    "I want my password to contain random characters. If I need to perform a random selection process in my program, then the 'random' module comes to my mind.\n",
    "\n",
    "I am thinking that since the password will be generated from the characters entered from the keyboard, I can collect the characters on the keyboard in a list. \n",
    "\n",
    "Then, using the random module, I can select random characters from this list. This list doesn't have to be a single list. I can create separate lists for numerical, alphabetical, and special characters.\n",
    "\n",
    "Now, the question arises as to how I will choose these characters? Of course, I will select them based on their ASCII codes.\n",
    "\n",
    "I can use the ASCII table in the following link for this purpose:\n",
    "\n",
    "[ASCII-Table.pdf](https://www.101computing.net/wp/wp-content/uploads/ASCII-Table.pdf)\n",
    "<hr>"
   ]
  },
  {
   "cell_type": "markdown",
   "id": "81ea5d23",
   "metadata": {
    "id": "81ea5d23"
   },
   "source": [
    "small letters, capital letters, special characters, numbers, they're all here. These ASCII numbers will do the job for me."
   ]
  },
  {
   "cell_type": "code",
   "execution_count": null,
   "id": "c41679e6",
   "metadata": {
    "id": "c41679e6"
   },
   "outputs": [],
   "source": [
    "import random "
   ]
  },
  {
   "cell_type": "code",
   "execution_count": null,
   "id": "e33e4083",
   "metadata": {
    "id": "e33e4083"
   },
   "outputs": [],
   "source": [
    "random.  # (SHIFT + TAB + TAB)  choice? randint?"
   ]
  },
  {
   "cell_type": "code",
   "execution_count": null,
   "id": "f8b9783d",
   "metadata": {
    "id": "f8b9783d"
   },
   "outputs": [],
   "source": [
    "random.shuffle()   # (SHIFT + TAB + TAB)\n",
    "\n",
    "# Docstring: Shuffle list x in place, and return None."
   ]
  },
  {
   "cell_type": "code",
   "execution_count": null,
   "id": "22f46d80",
   "metadata": {
    "id": "22f46d80"
   },
   "outputs": [],
   "source": [
    "random.randint()   # (SHIFT + TAB + TAB)"
   ]
  },
  {
   "cell_type": "code",
   "execution_count": null,
   "id": "6ce4c168",
   "metadata": {
    "id": "6ce4c168",
    "outputId": "d3cf62e9-f98c-45cf-ff90-551657020d0e"
   },
   "outputs": [],
   "source": [
    "random.randint(10, 30)\n",
    "\n",
    "# Docstring: Return random integer in range [a, b], including both end points.\n",
    "# \"It generated a random value between 10 and 30.\n",
    "\n",
    "# This is just what we need."
   ]
  },
  {
   "cell_type": "markdown",
   "id": "4827fe2f",
   "metadata": {
    "id": "4827fe2f"
   },
   "source": [
    "![python.exe](https://drive.google.com/uc?id=1Iqg0PZpIBS7YoXGgTYzWgkTnAErBvkID)"
   ]
  },
  {
   "cell_type": "markdown",
   "id": "5c0316c9",
   "metadata": {
    "id": "5c0316c9"
   },
   "source": [
    "I will pass the numbers in this table as arguments to the randint() function, which will choose a random number from them for me. \n",
    "\n",
    "Then, I will use the character corresponding to that number to generate my password.\n",
    "\n",
    "And I will use the **chr()** function to find the character corresponding to the ASCII number:"
   ]
  },
  {
   "cell_type": "code",
   "execution_count": null,
   "id": "9a080189",
   "metadata": {
    "id": "9a080189",
    "outputId": "29962bce-2b58-4620-f295-8a694d314f0f"
   },
   "outputs": [],
   "source": [
    "chr(111)"
   ]
  },
  {
   "cell_type": "markdown",
   "id": "0b177762",
   "metadata": {
    "id": "0b177762"
   },
   "source": [
    "The ASCII numbers between 97 and 122 correspond to lowercase characters:"
   ]
  },
  {
   "cell_type": "code",
   "execution_count": null,
   "id": "fa7e5d1b",
   "metadata": {
    "id": "fa7e5d1b",
    "outputId": "9911b900-167b-49ed-99d4-5c895432a3f9"
   },
   "outputs": [],
   "source": [
    "chr(random.randint(97, 122)) \n",
    "\n",
    "# Look, it selected a random lowercase letter for me."
   ]
  },
  {
   "cell_type": "markdown",
   "id": "575229a9",
   "metadata": {
    "id": "575229a9"
   },
   "source": [
    "The ASCII numbers between 65 and 90 correspond to uppercase characters:"
   ]
  },
  {
   "cell_type": "code",
   "execution_count": null,
   "id": "034b599c",
   "metadata": {
    "id": "034b599c",
    "outputId": "1d95eb02-e2d6-4bc5-d4d7-fde51f1aff5d"
   },
   "outputs": [],
   "source": [
    "chr(random.randint(65, 90))"
   ]
  },
  {
   "cell_type": "markdown",
   "id": "76fce2dc",
   "metadata": {
    "id": "76fce2dc"
   },
   "source": [
    "The ASCII numbers between 48 and 57 correspond to digit characters:"
   ]
  },
  {
   "cell_type": "code",
   "execution_count": null,
   "id": "d6642732",
   "metadata": {
    "id": "d6642732",
    "outputId": "47666d34-6649-4524-8c2b-19d91647fefd"
   },
   "outputs": [],
   "source": [
    "chr(random.randint(48, 57))"
   ]
  },
  {
   "cell_type": "markdown",
   "id": "d70d99b1",
   "metadata": {
    "id": "d70d99b1"
   },
   "source": [
    "The ASCII numbers between 33 and 47 correspond to special characters:"
   ]
  },
  {
   "cell_type": "code",
   "execution_count": null,
   "id": "65845693",
   "metadata": {
    "id": "65845693",
    "outputId": "2889295d-74de-441b-ceb9-48d3b30f5f2b"
   },
   "outputs": [],
   "source": [
    "chr(random.randint(33, 47))"
   ]
  },
  {
   "cell_type": "code",
   "execution_count": null,
   "id": "dc891ae1",
   "metadata": {
    "id": "dc891ae1",
    "outputId": "c110dbad-36bf-45f9-de0b-2889c01b1c98"
   },
   "outputs": [],
   "source": [
    "chr(random.randint(58, 64))"
   ]
  },
  {
   "cell_type": "markdown",
   "id": "9b2610bc",
   "metadata": {
    "id": "9b2610bc"
   },
   "source": [
    "I want to use all these returned values in an algorithm.\n",
    "\n",
    "In our password:\n",
    "- Let's have 3 uppercase letters,\n",
    "- 3 lowercase letters,\n",
    "- 3 numbers,\n",
    "- and 2 special characters.\n",
    "\n",
    "This is my decision, but you can customize this combination for yourself."
   ]
  },
  {
   "cell_type": "markdown",
   "id": "b7049793",
   "metadata": {
    "id": "b7049793"
   },
   "source": [
    "<hr>\n",
    "\n",
    "**I will use a for loop that will run 3 times inside a list comprehension.** \n",
    "\n",
    "In each iteration of the loop, it will generate a random character and make that character an element of the list.\n",
    "\n",
    "Let's remember the syntax of list comprehension:"
   ]
  },
  {
   "cell_type": "markdown",
   "id": "70ae15f2",
   "metadata": {
    "id": "70ae15f2"
   },
   "source": [
    "``` python\n",
    "uppers = [code body for in range(3)]\n",
    "```"
   ]
  },
  {
   "cell_type": "markdown",
   "id": "ad5e2d56",
   "metadata": {
    "id": "ad5e2d56"
   },
   "source": [
    "Let's implement this in our code:"
   ]
  },
  {
   "cell_type": "code",
   "execution_count": null,
   "id": "532da5e8",
   "metadata": {
    "id": "532da5e8",
    "outputId": "7190fe27-e527-4c21-cc86-fe8ce9c66ee5"
   },
   "outputs": [],
   "source": [
    "uppers = [chr(random.randint(65, 90)) for i in range(3)]\n",
    "uppers"
   ]
  },
  {
   "cell_type": "code",
   "execution_count": null,
   "id": "e0697f67",
   "metadata": {
    "id": "e0697f67",
    "outputId": "35afdc04-e484-4d29-bd58-63de12d537ce"
   },
   "outputs": [],
   "source": [
    "lowers = [chr(random.randint(97, 122)) for i in range(3)]\n",
    "lowers"
   ]
  },
  {
   "cell_type": "code",
   "execution_count": null,
   "id": "e06fe676",
   "metadata": {
    "id": "e06fe676",
    "outputId": "58d63441-0d9b-4a42-bfd7-479e523e7f31"
   },
   "outputs": [],
   "source": [
    "numbers = [chr(random.randint(48,57)) for i in range(3)]\n",
    "numbers"
   ]
  },
  {
   "cell_type": "markdown",
   "id": "7b97453c",
   "metadata": {
    "id": "7b97453c"
   },
   "source": [
    "Since I will take only one character from each range of special characters, I don't need to use a loop. \n",
    "\n",
    "I will take one character from the ASCII codes between 33-47 and another one from the ASCII codes between 58-64. \n",
    "\n",
    "Then, I will concatenate them using the '+' operator:"
   ]
  },
  {
   "cell_type": "code",
   "execution_count": null,
   "id": "1a02c3da",
   "metadata": {
    "id": "1a02c3da",
    "outputId": "485d0931-c642-400c-bbd6-980204797d20"
   },
   "outputs": [],
   "source": [
    "chars = chr(random.randint(33,47))+chr(random.randint(58,64))\n",
    "chars"
   ]
  },
  {
   "cell_type": "markdown",
   "id": "7906dc7e",
   "metadata": {
    "id": "7906dc7e"
   },
   "source": [
    "Now we need to combine all these generated characters. \n",
    "\n",
    "I will concatenate all the characters generated earlier (numbers, uppers, lowers, and chars) into a single string, and this will be the password.\n",
    "\n",
    "I will join each element in the list by using an empty string as a separator. This will concatenate them all together. We can use the join() method of strings to achieve this:"
   ]
  },
  {
   "cell_type": "code",
   "execution_count": null,
   "id": "42ccdf65",
   "metadata": {
    "id": "42ccdf65",
    "outputId": "8f002f2c-ab27-4ff4-8849-22e80d868018"
   },
   "outputs": [],
   "source": [
    "\"-\".join(numbers)"
   ]
  },
  {
   "cell_type": "code",
   "execution_count": null,
   "id": "8c02f883",
   "metadata": {
    "id": "8c02f883",
    "outputId": "e2b58b92-1fcd-4da8-ed9b-7d74718ed281"
   },
   "outputs": [],
   "source": [
    "\"\".join(numbers)"
   ]
  },
  {
   "cell_type": "code",
   "execution_count": null,
   "id": "5770d10f",
   "metadata": {
    "id": "5770d10f",
    "outputId": "23b37b6e-44cd-4ffc-f8eb-ad64edad8799"
   },
   "outputs": [],
   "source": [
    "passw = \"\".join(uppers) + \"\".join(lowers) + \"\".join(numbers) + chars\n",
    "passw"
   ]
  },
  {
   "cell_type": "markdown",
   "id": "8d9bb8b4",
   "metadata": {
    "id": "8d9bb8b4"
   },
   "source": [
    "### Now let's shuffle the password:\n",
    "\n",
    "**To make the password stronger, I need to shuffle it since it's currently in a sequential order.** \n",
    "\n",
    "**To do this, I will use the shuffle() function that I came across while exploring the random module.**"
   ]
  },
  {
   "cell_type": "code",
   "execution_count": null,
   "id": "d651bb7d",
   "metadata": {
    "id": "d651bb7d"
   },
   "outputs": [],
   "source": [
    "random.shuffle()  (SHIFT + TAB + TAB)\n",
    "\n",
    "# Docstring: Shuffle list x in place, and return None."
   ]
  },
  {
   "cell_type": "markdown",
   "id": "ecc5a060",
   "metadata": {
    "id": "ecc5a060"
   },
   "source": [
    "When reading the docstring of shuffle() function, I learn that it shuffles a list.\n",
    "\n",
    "Therefore, I need to convert the password into a list first, and shuffle the list consisting of password elements. \n",
    "\n",
    "Then, I will convert the shuffled list back to a string to be able to use it as a password. Of course, I will do this using the join() method again."
   ]
  },
  {
   "cell_type": "code",
   "execution_count": null,
   "id": "522b77e1",
   "metadata": {
    "id": "522b77e1",
    "outputId": "547ee6d3-014a-4dd6-dcc3-48e0c5b0c8b7"
   },
   "outputs": [],
   "source": [
    "pass_list = list(passw)\n",
    "pass_list"
   ]
  },
  {
   "cell_type": "code",
   "execution_count": null,
   "id": "4a0fe41e",
   "metadata": {
    "id": "4a0fe41e"
   },
   "outputs": [],
   "source": [
    "random.shuffle(pass_list)  # shuffle the list object."
   ]
  },
  {
   "cell_type": "code",
   "execution_count": null,
   "id": "417185f7",
   "metadata": {
    "id": "417185f7",
    "outputId": "bfbc22af-362c-4d5d-bbd3-5379120db54e"
   },
   "outputs": [],
   "source": [
    "pass_list"
   ]
  },
  {
   "cell_type": "code",
   "execution_count": null,
   "id": "f7f71bb4",
   "metadata": {
    "id": "f7f71bb4",
    "outputId": "967f5c04-abbc-4a2a-920b-7416bd86f6eb"
   },
   "outputs": [],
   "source": [
    "\"\".join(pass_list)  # convert the list to a string."
   ]
  },
  {
   "cell_type": "markdown",
   "id": "85fb5962",
   "metadata": {
    "id": "85fb5962"
   },
   "source": [
    "### Now let's define a function that performs this shuffle operation. \n",
    "\n",
    "**We will pass the generated password to the function, and it will shuffle the characters of the password and return the final version of our password.**"
   ]
  },
  {
   "cell_type": "code",
   "execution_count": null,
   "id": "a0a63f4c",
   "metadata": {
    "id": "a0a63f4c"
   },
   "outputs": [],
   "source": [
    "def shuffle(password):\n",
    "    templist = list(password)  # Since the shuffle() function takes a list inside,\n",
    "                            # I temporarily converted the password string to a list first.\n",
    "    random.shuffle(templist)  # shuffle the password characters in the templist \n",
    "    return \"\".join(templist)   # return a string from the templist which has been shuffled."
   ]
  },
  {
   "cell_type": "code",
   "execution_count": null,
   "id": "4c66ea9e",
   "metadata": {
    "id": "4c66ea9e",
    "outputId": "468904a7-4048-4ca5-dfc5-2e004576fea6"
   },
   "outputs": [],
   "source": [
    "passw"
   ]
  },
  {
   "cell_type": "code",
   "execution_count": null,
   "id": "c925dc30",
   "metadata": {
    "id": "c925dc30",
    "outputId": "db63a038-5791-4808-b5e8-4c11fbba1535"
   },
   "outputs": [],
   "source": [
    "print(shuffle(passw))  # print the shuffled password that returned from shuffle"
   ]
  }
 ],
 "metadata": {
  "colab": {
   "provenance": []
  },
  "kernelspec": {
   "display_name": "Python 3 (ipykernel)",
   "language": "python",
   "name": "python3"
  },
  "language_info": {
   "codemirror_mode": {
    "name": "ipython",
    "version": 3
   },
   "file_extension": ".py",
   "mimetype": "text/x-python",
   "name": "python",
   "nbconvert_exporter": "python",
   "pygments_lexer": "ipython3",
   "version": "3.11.3"
  }
 },
 "nbformat": 4,
 "nbformat_minor": 5
}
