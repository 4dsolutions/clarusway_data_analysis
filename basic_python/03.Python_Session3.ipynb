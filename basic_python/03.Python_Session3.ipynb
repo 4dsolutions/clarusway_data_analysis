{
 "cells": [
  {
   "cell_type": "markdown",
   "id": "a9411dc4-8167-41a2-8477-45281630ea4b",
   "metadata": {},
   "source": [
    "#### Clarusway Python\n",
    "\n",
    "* [Instructor Landing Page](landing_page.ipynb)\n",
    "* <a href=\"https://colab.research.google.com/github/4dsolutions/clarusway_data_analysis/blob/main/basic_python/03.Python_Session3.ipynb\"><img align=\"left\" src=\"https://colab.research.google.com/assets/colab-badge.svg\" alt=\"Open in Colab\" title=\"Open and Execute in Google Colaboratory\"></a>\n",
    "* [![nbviewer](https://raw.githubusercontent.com/jupyter/design/master/logos/Badges/nbviewer_badge.svg)](https://nbviewer.org/github/4dsolutions/clarusway_data_analysis/blob/main/basic_python/03.Python_Session3.ipynb)"
   ]
  },
  {
   "cell_type": "markdown",
   "id": "97d2a08c",
   "metadata": {
    "id": "97d2a08c"
   },
   "source": [
    "<a id=\"toc\"></a>\n",
    "\n",
    "## <p style=\"background-color:#0D8D99; font-family:newtimeroman; color:#FFF9ED; font-size:175%; text-align:center; border-radius:10px 10px;\">Python Session 03</p>"
   ]
  },
  {
   "cell_type": "markdown",
   "id": "93692fa9",
   "metadata": {
    "id": "93692fa9"
   },
   "source": [
    "#### <div class=\"alert alert-block alert-info\"><h1><p style=\"text-align: center; color:purple\">Simple Arithmetic Operations <br><br>Updating the value of a variable with arithmetic operations<br><br>Operations with print function<br><br>Escape Sequences<br><br>Boolean Operations</p>"
   ]
  },
  {
   "cell_type": "markdown",
   "id": "0c6c0364",
   "metadata": {
    "id": "0c6c0364"
   },
   "source": [
    "<a id=\"toc\"></a>\n",
    "\n",
    "## <p style=\"background-color:#9d4f8c; font-family:newtimeroman; color:#FFF9ED; font-size:175%; text-align:center; border-radius:10px 10px;\">Simple Arithmetic Operations</p>"
   ]
  },
  {
   "cell_type": "markdown",
   "id": "48f740b4",
   "metadata": {
    "id": "48f740b4"
   },
   "source": [
    "**Link : https://www.geeksforgeeks.org/python-arithmetic-operators/**"
   ]
  },
  {
   "cell_type": "code",
   "execution_count": null,
   "id": "cccad700",
   "metadata": {
    "id": "cccad700",
    "outputId": "6d8f075d-db1d-4dd6-df65-57d993403a9c"
   },
   "outputs": [],
   "source": [
    "\"clarus\" + \"way\""
   ]
  },
  {
   "cell_type": "code",
   "execution_count": null,
   "id": "76b60874",
   "metadata": {
    "id": "76b60874",
    "outputId": "72925e96-0df3-43c9-f7c6-1530a43e52ed"
   },
   "outputs": [],
   "source": [
    "\"33\" + \"11\""
   ]
  },
  {
   "cell_type": "code",
   "execution_count": null,
   "id": "816564ba",
   "metadata": {
    "id": "816564ba"
   },
   "outputs": [],
   "source": [
    "part1 = \"clarus\"\n",
    "part2 = \"way\""
   ]
  },
  {
   "cell_type": "code",
   "execution_count": null,
   "id": "811c85d8",
   "metadata": {
    "id": "811c85d8",
    "outputId": "f268a5c2-9fed-4819-9f05-f9f4f423142b"
   },
   "outputs": [],
   "source": [
    "part1 + part2 "
   ]
  },
  {
   "cell_type": "code",
   "execution_count": null,
   "id": "778a3081",
   "metadata": {
    "id": "778a3081"
   },
   "outputs": [],
   "source": [
    "part3 = 33\n",
    "part4 = 11"
   ]
  },
  {
   "cell_type": "code",
   "execution_count": null,
   "id": "f05d9493",
   "metadata": {
    "id": "f05d9493",
    "outputId": "65445d07-def0-43e3-a705-a863d6cc5111"
   },
   "outputs": [],
   "source": [
    "part3 + part4"
   ]
  },
  {
   "cell_type": "code",
   "execution_count": null,
   "id": "99a0989c",
   "metadata": {
    "id": "99a0989c",
    "outputId": "5e057292-5c77-46a2-c216-d981abeb7a41"
   },
   "outputs": [],
   "source": [
    "# \"33\" + 11\n",
    "\n",
    "# error!"
   ]
  },
  {
   "cell_type": "code",
   "execution_count": null,
   "id": "5d9f61c0",
   "metadata": {
    "id": "5d9f61c0",
    "outputId": "4613ef3c-65fd-4e20-9d43-cfddd2b152d6"
   },
   "outputs": [],
   "source": [
    "# pi  # We got an error because the variable pi is not defined yet. "
   ]
  },
  {
   "cell_type": "code",
   "execution_count": null,
   "id": "f04c6238",
   "metadata": {
    "id": "f04c6238"
   },
   "outputs": [],
   "source": [
    "from numpy import pi"
   ]
  },
  {
   "cell_type": "code",
   "execution_count": null,
   "id": "2ebc36c5",
   "metadata": {
    "id": "2ebc36c5",
    "outputId": "5ef6d1fe-24c0-4a72-d461-5b420a20dc7a"
   },
   "outputs": [],
   "source": [
    "# Now I can use the variable pi without assigning it to it.\n",
    "pi"
   ]
  },
  {
   "cell_type": "markdown",
   "id": "24907fee",
   "metadata": {
    "id": "24907fee"
   },
   "source": [
    "**As arithmetic operators, multiplication '*', and exponentiation ' * *'**"
   ]
  },
  {
   "cell_type": "code",
   "execution_count": null,
   "id": "4968a64c",
   "metadata": {
    "id": "4968a64c",
    "outputId": "921d5804-7743-4128-8afc-1465b5be964b"
   },
   "outputs": [],
   "source": [
    "# If we have not called the variable \"pi\" from the numpy module, we must assign a value to it..\n",
    "\n",
    "pi = 3.14\n",
    "r = 5\n",
    "\n",
    "area = pi * r ** 2\n",
    "\n",
    "area"
   ]
  },
  {
   "cell_type": "code",
   "execution_count": null,
   "id": "9cd3e021",
   "metadata": {
    "id": "9cd3e021"
   },
   "outputs": [],
   "source": [
    "pi"
   ]
  },
  {
   "cell_type": "markdown",
   "id": "20780ffd",
   "metadata": {
    "id": "20780ffd"
   },
   "source": [
    "**floor division**"
   ]
  },
  {
   "cell_type": "code",
   "execution_count": null,
   "id": "beaac2cf",
   "metadata": {
    "id": "beaac2cf",
    "outputId": "005c1d7b-6ad5-43ef-b735-3700fe2c9e75"
   },
   "outputs": [],
   "source": [
    "43 // 5"
   ]
  },
  {
   "cell_type": "markdown",
   "id": "db280b24",
   "metadata": {
    "id": "db280b24"
   },
   "source": [
    "**modulus**"
   ]
  },
  {
   "cell_type": "code",
   "execution_count": null,
   "id": "70fddf35",
   "metadata": {
    "id": "70fddf35",
    "outputId": "dadd9b0e-1360-4465-d1b1-160f7a9de5a8"
   },
   "outputs": [],
   "source": [
    "43 % 5"
   ]
  },
  {
   "cell_type": "markdown",
   "id": "aaf49be1",
   "metadata": {
    "id": "aaf49be1"
   },
   "source": [
    "**modulus is used to determine even and odd numbers.** "
   ]
  },
  {
   "cell_type": "code",
   "execution_count": null,
   "id": "0315a76f",
   "metadata": {
    "id": "0315a76f",
    "outputId": "66c3e976-c65b-47a5-b0cd-aef5f7ba2bb5"
   },
   "outputs": [],
   "source": [
    "11 % 2"
   ]
  },
  {
   "cell_type": "code",
   "execution_count": null,
   "id": "4a8efa8d",
   "metadata": {
    "id": "4a8efa8d",
    "outputId": "5dd5a6a5-c357-466e-bbff-8384d2a1a5ab"
   },
   "outputs": [],
   "source": [
    "10 % 2"
   ]
  },
  {
   "cell_type": "markdown",
   "id": "ebd41ec7",
   "metadata": {
    "id": "ebd41ec7"
   },
   "source": [
    "<a id=\"toc\"></a>\n",
    "\n",
    "### <p style=\"background-color:#9d4f8c; font-family:newtimeroman; color:#FFF9ED; font-size:175%; text-align:center; border-radius:10px 10px;\">Updating the value of a variable with arithmetic operations</p>"
   ]
  },
  {
   "cell_type": "code",
   "execution_count": null,
   "id": "acea55c8",
   "metadata": {
    "id": "acea55c8"
   },
   "outputs": [],
   "source": [
    "variable = 10"
   ]
  },
  {
   "cell_type": "code",
   "execution_count": null,
   "id": "c596c402",
   "metadata": {
    "id": "c596c402",
    "outputId": "a4f11333-c394-461b-ad03-4fab2b61d581"
   },
   "outputs": [],
   "source": [
    "print(variable)"
   ]
  },
  {
   "cell_type": "code",
   "execution_count": null,
   "id": "afa98c46",
   "metadata": {
    "id": "afa98c46"
   },
   "outputs": [],
   "source": [
    "variable = 50  # now the value of my variable named \"variable\" is 50."
   ]
  },
  {
   "cell_type": "code",
   "execution_count": null,
   "id": "d9d5ba0f",
   "metadata": {
    "id": "d9d5ba0f",
    "outputId": "dd73cc8a-38ca-43d5-9959-937b67c2b195"
   },
   "outputs": [],
   "source": [
    "variable"
   ]
  },
  {
   "cell_type": "code",
   "execution_count": null,
   "id": "f5cc87f8",
   "metadata": {
    "id": "f5cc87f8"
   },
   "outputs": [],
   "source": [
    "variable = 10  # I set the value of my variable back to 10."
   ]
  },
  {
   "cell_type": "code",
   "execution_count": null,
   "id": "065c5875",
   "metadata": {
    "id": "065c5875",
    "outputId": "2175b4cf-cef6-47db-b3a2-c5fb2544e92b"
   },
   "outputs": [],
   "source": [
    "variable"
   ]
  },
  {
   "cell_type": "code",
   "execution_count": null,
   "id": "b124cee7",
   "metadata": {
    "id": "b124cee7"
   },
   "outputs": [],
   "source": [
    "variable = variable + 1  # I updated the value of my variable variable by adding 1 to it."
   ]
  },
  {
   "cell_type": "code",
   "execution_count": null,
   "id": "11a95acd",
   "metadata": {
    "id": "11a95acd",
    "outputId": "3b715609-1d77-47fd-a48c-45c9917d53c2"
   },
   "outputs": [],
   "source": [
    "variable"
   ]
  },
  {
   "cell_type": "code",
   "execution_count": null,
   "id": "e7e1adaa",
   "metadata": {
    "id": "e7e1adaa"
   },
   "outputs": [],
   "source": [
    "variable += 1  # the same result"
   ]
  },
  {
   "cell_type": "code",
   "execution_count": null,
   "id": "680e5194",
   "metadata": {
    "id": "680e5194",
    "outputId": "6cd317f4-95f5-4f1a-9587-ed1a5f83f447"
   },
   "outputs": [],
   "source": [
    "variable"
   ]
  },
  {
   "cell_type": "code",
   "execution_count": null,
   "id": "df043836",
   "metadata": {
    "id": "df043836"
   },
   "outputs": [],
   "source": [
    "variable *= 2 "
   ]
  },
  {
   "cell_type": "code",
   "execution_count": null,
   "id": "dc49f201",
   "metadata": {
    "id": "dc49f201",
    "outputId": "b56b2479-12b2-4512-aa67-bc0cc8065a76"
   },
   "outputs": [],
   "source": [
    "variable"
   ]
  },
  {
   "cell_type": "code",
   "execution_count": null,
   "id": "43a128c9",
   "metadata": {
    "id": "43a128c9"
   },
   "outputs": [],
   "source": [
    "a = 8\n",
    "b = 2"
   ]
  },
  {
   "cell_type": "code",
   "execution_count": null,
   "id": "69d8c5da",
   "metadata": {
    "id": "69d8c5da"
   },
   "outputs": [],
   "source": [
    "a += b "
   ]
  },
  {
   "cell_type": "code",
   "execution_count": null,
   "id": "a5acd3ea",
   "metadata": {
    "id": "a5acd3ea",
    "outputId": "9a6451ff-dd2a-4675-e5c8-29b0d65d4a61"
   },
   "outputs": [],
   "source": [
    "a = 3\n",
    "b = 4\n",
    "c = (a ** 2 + b ** 2) ** 0.5\n",
    "print(c)"
   ]
  },
  {
   "cell_type": "markdown",
   "id": "c52bf6e2",
   "metadata": {
    "id": "c52bf6e2"
   },
   "source": [
    "<a id=\"toc\"></a>\n",
    "\n",
    "### <p style=\"background-color:#9d4f8c; font-family:newtimeroman; color:#FFF9ED; font-size:175%; text-align:center; border-radius:10px 10px;\">Operations with print function</p>"
   ]
  },
  {
   "cell_type": "markdown",
   "id": "f530657d",
   "metadata": {
    "id": "f530657d"
   },
   "source": [
    "**Python official documentation -Print function: https://docs.python.org/3/library/functions.html#print**\n",
    "\n",
    "**Link 2 - Print function: https://www.w3schools.com/python/ref_func_print.asp#:~:text=The%20print()%20function%20prints,before%20written%20to%20the%20screen.**"
   ]
  },
  {
   "cell_type": "code",
   "execution_count": null,
   "id": "450f88bd",
   "metadata": {
    "id": "450f88bd",
    "outputId": "60053eef-a583-4aca-8536-8dbc912dbddc"
   },
   "outputs": [],
   "source": [
    "x = 1\n",
    "y = 2\n",
    "print(x,y)"
   ]
  },
  {
   "cell_type": "code",
   "execution_count": null,
   "id": "bbb73416",
   "metadata": {
    "id": "bbb73416",
    "outputId": "1c1bdc63-1e36-4b75-ce0c-13a59fb6e83a"
   },
   "outputs": [],
   "source": [
    "print()\n",
    "\n",
    "# Press \"SHIFT + TAB + TAB\" to read Docstring."
   ]
  },
  {
   "cell_type": "markdown",
   "id": "6fd32e60",
   "metadata": {
    "id": "6fd32e60"
   },
   "source": [
    "![python.exe](https://drive.google.com/uc?id=1oRu8F_cQivETrH5RUKANVSpoKbh3CNIx)"
   ]
  },
  {
   "cell_type": "code",
   "execution_count": null,
   "id": "cfdf658d",
   "metadata": {
    "id": "cfdf658d"
   },
   "outputs": [],
   "source": [
    "?print"
   ]
  },
  {
   "cell_type": "code",
   "execution_count": null,
   "id": "b13fd0f8",
   "metadata": {
    "id": "b13fd0f8",
    "outputId": "58f006b9-7111-4416-8f96-537c5159e76d"
   },
   "outputs": [],
   "source": [
    "print(\"kirby\", \"betty\")  # Objects inside the print function are separated by commas \n",
    "                        # and each comma prints a space.\n",
    "print(\"ally\")"
   ]
  },
  {
   "cell_type": "code",
   "execution_count": null,
   "id": "b741fc2b",
   "metadata": {
    "id": "b741fc2b",
    "outputId": "8474fc80-e09b-4bad-a912-52dfe552129d"
   },
   "outputs": [],
   "source": [
    "print(\"kirby\", \"betty\", end=\"********\")\n",
    "\n",
    "# The default value of the \"end\" parameter is \"\\n\", and i changed this value\n",
    "\n",
    "print(\"ally\")"
   ]
  },
  {
   "cell_type": "code",
   "execution_count": null,
   "id": "d1ecb6e5",
   "metadata": {
    "id": "d1ecb6e5",
    "outputId": "cd100ab8-64c2-46a9-f04a-d59eb92889d9"
   },
   "outputs": [],
   "source": [
    "print(\"kirby\", \"betty\", \"ally\", sep = \"&\")\n",
    "\n",
    "# I changed the value of the \"sep\" parameter."
   ]
  },
  {
   "cell_type": "code",
   "execution_count": null,
   "id": "2b916d91",
   "metadata": {
    "id": "2b916d91"
   },
   "outputs": [],
   "source": [
    "c = \"Samuel\""
   ]
  },
  {
   "cell_type": "code",
   "execution_count": null,
   "id": "568c05f4",
   "metadata": {
    "id": "568c05f4",
    "outputId": "d9075270-5c12-4270-f199-cc8f94b81fc9"
   },
   "outputs": [],
   "source": [
    "print(c, False, \"ally\", 3.14, 50)\n",
    "\n",
    "# The print function can take and print multiple objects separated by commas.."
   ]
  },
  {
   "cell_type": "code",
   "execution_count": null,
   "id": "7d0d30c2",
   "metadata": {
    "id": "7d0d30c2",
    "outputId": "9d346e82-e561-46ca-a4de-e6e1633f8a9e"
   },
   "outputs": [],
   "source": [
    "print(c, False, \"ally\", 3.14, 50, sep = \"**\")"
   ]
  },
  {
   "cell_type": "code",
   "execution_count": null,
   "id": "04a62134",
   "metadata": {
    "id": "04a62134",
    "outputId": "ae5aea8e-3b64-4de7-bb78-6e985cd1734c"
   },
   "outputs": [],
   "source": [
    "print(c, False, \"ally\", 3.14, 50, sep = \"\")"
   ]
  },
  {
   "cell_type": "code",
   "execution_count": null,
   "id": "be640527",
   "metadata": {
    "id": "be640527",
    "outputId": "bc9ca408-5a11-4fe6-df84-0df4d6b5a30c"
   },
   "outputs": [],
   "source": [
    "print(\"Ally and Kirby \", end = \"are \")\n",
    "print(\"Samuel\", \"and\", \"Betty\", end = \"'s children\")\n",
    "print(\".\")"
   ]
  },
  {
   "cell_type": "code",
   "execution_count": null,
   "id": "da495a77",
   "metadata": {
    "id": "da495a77",
    "outputId": "4e4281c3-d819-4c24-bea8-4105ce06b2c4"
   },
   "outputs": [],
   "source": [
    "text1 = \"I bought\"\n",
    "text2 = \"kg. of apple this morning\"\n",
    "amount = 6\n",
    "text3 = text1 + \" \" + str(amount) + \" \" + text2\n",
    "\n",
    "print(text1, amount, text2)\n",
    "print(\"I bought\", 6, \"kg. of apple this morning\")\n",
    "print(\"I bought \" + \"6 \" + \"kg. of apple this morning\")\n",
    "print(text3)"
   ]
  },
  {
   "cell_type": "markdown",
   "id": "c8f3a77a",
   "metadata": {
    "id": "c8f3a77a"
   },
   "source": [
    "<a id=\"toc\"></a>\n",
    "\n",
    "### <p style=\"background-color:#9d4f8c; font-family:newtimeroman; color:#FFF9ED; font-size:175%; text-align:center; border-radius:10px 10px;\">Escape Sequences</p>"
   ]
  },
  {
   "cell_type": "markdown",
   "id": "46cdc6d7",
   "metadata": {
    "id": "46cdc6d7"
   },
   "source": [
    "**Python official documentation : https://docs.python.org/3/reference/lexical_analysis.html**"
   ]
  },
  {
   "cell_type": "markdown",
   "id": "3a9ea621",
   "metadata": {
    "id": "3a9ea621"
   },
   "source": [
    "![python.exe](https://drive.google.com/uc?id=1I4_OCYnmb-LzGUTbv00R1WyHgcYTmZz6)"
   ]
  },
  {
   "cell_type": "markdown",
   "id": "50967a5d",
   "metadata": {
    "id": "50967a5d"
   },
   "source": [
    "![python.exe](https://drive.google.com/uc?id=1wMiqx7_Z-1Wild4KZe0xIJwLshlmVkqk)"
   ]
  },
  {
   "cell_type": "markdown",
   "id": "6fed4617",
   "metadata": {
    "id": "6fed4617"
   },
   "source": [
    "- **When the escape sequence comes before a character with a special function, it cancels that feature. Turns it into an ordinary character**"
   ]
  },
  {
   "cell_type": "code",
   "execution_count": null,
   "id": "9b3a480f",
   "metadata": {
    "id": "9b3a480f",
    "outputId": "fea88988-7d09-4590-bd6a-68da719f25a6"
   },
   "outputs": [],
   "source": [
    "print('Mr. Kirby\\'s jacket')"
   ]
  },
  {
   "cell_type": "code",
   "execution_count": null,
   "id": "b07d886f",
   "metadata": {
    "id": "b07d886f",
    "outputId": "5076810e-4c92-43c9-cbc9-e40895ae27e7"
   },
   "outputs": [],
   "source": [
    "print('Mr. Kirby\\s jacket')"
   ]
  },
  {
   "cell_type": "markdown",
   "id": "5a454faf",
   "metadata": {
    "id": "5a454faf"
   },
   "source": [
    "- **Escape sequence adds function and functionality when preceded by \"n, b, t\" characters**"
   ]
  },
  {
   "cell_type": "code",
   "execution_count": null,
   "id": "4dc7a9df",
   "metadata": {
    "id": "4dc7a9df",
    "outputId": "99ce766d-08bf-45d7-a2a6-675364eccd94"
   },
   "outputs": [],
   "source": [
    "print('Kirby\\ns bag')"
   ]
  },
  {
   "cell_type": "code",
   "execution_count": null,
   "id": "27f9618a",
   "metadata": {
    "id": "27f9618a",
    "outputId": "f88f374d-fbe6-494d-e7e8-6537e298fd3d"
   },
   "outputs": [],
   "source": [
    "print('Kirby\\\\ns bag')"
   ]
  },
  {
   "cell_type": "code",
   "execution_count": null,
   "id": "c58abb59",
   "metadata": {
    "id": "c58abb59",
    "outputId": "3dfae8d0-aa62-4f74-cc3f-526b60cc6b5a"
   },
   "outputs": [],
   "source": [
    "print('C:\\\\north pole\\noise_penguins.txt')\n",
    "print('----------')\n",
    "print('first', 'second', 'third', sep='\\t')"
   ]
  },
  {
   "cell_type": "code",
   "execution_count": null,
   "id": "9ae443f1",
   "metadata": {
    "id": "9ae443f1",
    "outputId": "38fab3dd-b1bb-4987-a6fb-79c7cdea0ad0"
   },
   "outputs": [],
   "source": [
    "print('we are', '\\boosting', 'our', '\\brotherhood') \n",
    "print('it\\'s essential to learn Python\\'s libraries in IT World')"
   ]
  },
  {
   "cell_type": "markdown",
   "id": "d9ac18f7",
   "metadata": {
    "id": "d9ac18f7"
   },
   "source": [
    "<a id=\"toc\"></a>\n",
    "\n",
    "## <p style=\"background-color:#9d4f8c; font-family:newtimeroman; color:#FFF9ED; font-size:175%; text-align:center; border-radius:10px 10px;\">Boolean Operations</p>"
   ]
  },
  {
   "cell_type": "markdown",
   "id": "419ba1fa",
   "metadata": {
    "id": "419ba1fa"
   },
   "source": [
    "**Link 1 - Understanding Boolean Logic: https://www.geeksforgeeks.org/understanding-boolean-logic-in-python-3/**\n",
    "\n",
    "**Link 2 - Python Booleans: https://realpython.com/python-boolean/**\n",
    "\n",
    "**Link 3 - What are Boolean Operators in Python: https://www.tutorialspoint.com/What-are-boolean-operators-in-Python**"
   ]
  },
  {
   "cell_type": "markdown",
   "id": "8e4ab6c9",
   "metadata": {
    "id": "8e4ab6c9"
   },
   "source": [
    "![python.exe](https://drive.google.com/uc?id=1KoqdTCyw68bvAqjmTv4mSDBFlUWIhUqw)"
   ]
  },
  {
   "cell_type": "markdown",
   "id": "c759543d",
   "metadata": {
    "id": "c759543d"
   },
   "source": [
    "![python.exe](https://drive.google.com/uc?id=1deiRqF2Be9cdIoX67dppTExYLGhNTaLD)"
   ]
  },
  {
   "cell_type": "markdown",
   "id": "f88dd97d",
   "metadata": {
    "id": "f88dd97d"
   },
   "source": [
    "**bool() function: Returns True when the argument x is true, False otherwise.\n",
    "The builtins True and False are the only two instances of the class bool.\n",
    "The class bool is a subclass of the class int, and cannot be subclassed.**"
   ]
  },
  {
   "cell_type": "code",
   "execution_count": null,
   "id": "3d45e635",
   "metadata": {
    "id": "3d45e635",
    "outputId": "dcb03c4d-ded7-49aa-db28-79debb883337"
   },
   "outputs": [],
   "source": [
    "1"
   ]
  },
  {
   "cell_type": "code",
   "execution_count": null,
   "id": "4f279777",
   "metadata": {
    "id": "4f279777",
    "outputId": "2273dce4-75f3-4911-ef0b-b3e0caa7b686"
   },
   "outputs": [],
   "source": [
    "bool(1)\n",
    "\n",
    "# Docstringini okumak için \"shift + tab + tab\" yap"
   ]
  },
  {
   "cell_type": "code",
   "execution_count": null,
   "id": "0bcf5dbd",
   "metadata": {
    "id": "0bcf5dbd",
    "outputId": "2273f2e6-964e-463f-e89b-493e67190cf0"
   },
   "outputs": [],
   "source": [
    "bool(2)"
   ]
  },
  {
   "cell_type": "code",
   "execution_count": null,
   "id": "e485cb30",
   "metadata": {
    "id": "e485cb30",
    "outputId": "1ed17c4f-7c6d-4b41-be1f-d61b67911e4a"
   },
   "outputs": [],
   "source": [
    "bool(0)"
   ]
  },
  {
   "cell_type": "code",
   "execution_count": null,
   "id": "fb5c9bfc",
   "metadata": {
    "id": "fb5c9bfc",
    "outputId": "ed21fd04-542c-423a-8275-0d9b32657bd3"
   },
   "outputs": [],
   "source": [
    "bool(None)"
   ]
  },
  {
   "cell_type": "code",
   "execution_count": null,
   "id": "8074aee6",
   "metadata": {
    "id": "8074aee6",
    "outputId": "740679bd-b7ac-4a20-8859-cfa45523bedd"
   },
   "outputs": [],
   "source": [
    "bool(\"0\")"
   ]
  },
  {
   "cell_type": "code",
   "execution_count": null,
   "id": "7007a0f7",
   "metadata": {
    "id": "7007a0f7",
    "outputId": "461024c2-7511-4d16-8132-b6a89f06d45c"
   },
   "outputs": [],
   "source": [
    "bool(\" \")"
   ]
  },
  {
   "cell_type": "code",
   "execution_count": null,
   "id": "bcddc4ff",
   "metadata": {
    "id": "bcddc4ff",
    "outputId": "7d3c9e52-3b1b-421c-c2b2-567923bb7016"
   },
   "outputs": [],
   "source": [
    "bool(\"\")"
   ]
  },
  {
   "cell_type": "code",
   "execution_count": null,
   "id": "0082d4c8",
   "metadata": {
    "id": "0082d4c8",
    "outputId": "f2e12a78-ea67-4bb3-dc90-59ea387045fa"
   },
   "outputs": [],
   "source": [
    "[1, 2, \"ally\"]"
   ]
  },
  {
   "cell_type": "code",
   "execution_count": null,
   "id": "244d6964",
   "metadata": {
    "id": "244d6964",
    "outputId": "9c9ab506-6b8b-42ad-ba89-529242226315"
   },
   "outputs": [],
   "source": [
    "bool([])"
   ]
  },
  {
   "cell_type": "code",
   "execution_count": null,
   "id": "af5becf4",
   "metadata": {
    "id": "af5becf4",
    "outputId": "c1f61cfc-60e1-4e27-904a-3cadfdeee634"
   },
   "outputs": [],
   "source": [
    "(1, 2, \"kirby\")"
   ]
  },
  {
   "cell_type": "code",
   "execution_count": null,
   "id": "6da3e575",
   "metadata": {
    "id": "6da3e575",
    "outputId": "765ddefe-a8df-4a85-bbff-a611ee403c2c"
   },
   "outputs": [],
   "source": [
    "bool(())"
   ]
  },
  {
   "cell_type": "code",
   "execution_count": null,
   "id": "a8f0f601",
   "metadata": {
    "id": "a8f0f601",
    "outputId": "55dba62d-14eb-4d69-f705-1e135b2d2a1a"
   },
   "outputs": [],
   "source": [
    "bool(0)"
   ]
  },
  {
   "cell_type": "markdown",
   "id": "28a8c485",
   "metadata": {
    "id": "28a8c485"
   },
   "source": [
    "## AND logic operator"
   ]
  },
  {
   "cell_type": "code",
   "execution_count": null,
   "id": "da24229f",
   "metadata": {
    "id": "da24229f",
    "outputId": "285b12c2-be9d-46d5-8225-d8287dc99bd9"
   },
   "outputs": [],
   "source": [
    "True and True and True\n",
    "\n",
    "# returned the last True."
   ]
  },
  {
   "cell_type": "code",
   "execution_count": null,
   "id": "01934c3a",
   "metadata": {
    "id": "01934c3a",
    "outputId": "ed45a19c-5516-4efc-93aa-f416ef3d7324"
   },
   "outputs": [],
   "source": [
    "True and \"full string\" and 55\n",
    "\n",
    "# returned the last Truthy."
   ]
  },
  {
   "cell_type": "code",
   "execution_count": null,
   "id": "37204bff",
   "metadata": {
    "id": "37204bff",
    "outputId": "97569a2e-d173-49ea-dbeb-9205f74af273"
   },
   "outputs": [],
   "source": [
    "1 and 2 and 3"
   ]
  },
  {
   "cell_type": "code",
   "execution_count": null,
   "id": "c3e814db",
   "metadata": {
    "id": "c3e814db",
    "outputId": "7eb2ff6f-631d-442d-e7b1-7c404097d188"
   },
   "outputs": [],
   "source": [
    "0 and None and 1\n",
    "\n",
    "# returned the first Falsy."
   ]
  },
  {
   "cell_type": "code",
   "execution_count": null,
   "id": "9133d087",
   "metadata": {
    "id": "9133d087",
    "outputId": "4f9f150a-8988-463c-9a60-9abf7bb74257"
   },
   "outputs": [],
   "source": [
    "False and True and True"
   ]
  },
  {
   "cell_type": "code",
   "execution_count": null,
   "id": "52edaa07",
   "metadata": {
    "id": "52edaa07",
    "outputId": "edcc4638-6e06-4022-ef7d-467fd7949bc4"
   },
   "outputs": [],
   "source": [
    "False and False and True\n",
    "\n",
    "# returned the first False."
   ]
  },
  {
   "cell_type": "code",
   "execution_count": null,
   "id": "86268f6b",
   "metadata": {
    "id": "86268f6b",
    "outputId": "ac69c302-e8d4-4bc7-a1a7-976947f920fc"
   },
   "outputs": [],
   "source": [
    "True and 0 and () and True\n",
    "\n",
    "# returned the first Falsy."
   ]
  },
  {
   "cell_type": "markdown",
   "id": "8c72d25a",
   "metadata": {
    "id": "8c72d25a"
   },
   "source": [
    "## OR logic operator"
   ]
  },
  {
   "cell_type": "code",
   "execution_count": null,
   "id": "2c387845",
   "metadata": {
    "id": "2c387845",
    "outputId": "7360d256-97bb-44b7-f221-527740b33d07"
   },
   "outputs": [],
   "source": [
    "False or False or False\n",
    "\n",
    "# son False'u döndürdü."
   ]
  },
  {
   "cell_type": "code",
   "execution_count": null,
   "id": "32e87c20",
   "metadata": {
    "id": "32e87c20",
    "outputId": "a86ee6dd-ece5-422f-e16b-76c9e9615fdb"
   },
   "outputs": [],
   "source": [
    "False or \"ally\" or True\n",
    "\n",
    "#  karşılaştığı ilk ilk Truthy'i döndürdü."
   ]
  },
  {
   "cell_type": "code",
   "execution_count": null,
   "id": "abdbd892",
   "metadata": {
    "id": "abdbd892",
    "outputId": "c7de20bd-bfd7-43f4-f8a4-48ea112fcd32"
   },
   "outputs": [],
   "source": [
    "0 or None or \"\" or () \n",
    "\n",
    "# son Falsy'i döndürdü."
   ]
  },
  {
   "cell_type": "code",
   "execution_count": null,
   "id": "6661f37d",
   "metadata": {
    "id": "6661f37d",
    "outputId": "08c215e3-580e-4d33-bedf-ae3c28fd55c2"
   },
   "outputs": [],
   "source": [
    "False or \"\" or () or True"
   ]
  },
  {
   "cell_type": "markdown",
   "id": "937174ae",
   "metadata": {
    "id": "937174ae"
   },
   "source": [
    "## NOT logic operator"
   ]
  },
  {
   "cell_type": "markdown",
   "id": "a7b9168d",
   "metadata": {
    "id": "a7b9168d"
   },
   "source": [
    "**If an expression contains the \"Not\" operator, the result will be either True or False.**"
   ]
  },
  {
   "cell_type": "code",
   "execution_count": null,
   "id": "6fa52f4d",
   "metadata": {
    "id": "6fa52f4d",
    "outputId": "8cc417c7-7581-4150-9eba-7a8804825743"
   },
   "outputs": [],
   "source": [
    "not 9"
   ]
  },
  {
   "cell_type": "code",
   "execution_count": null,
   "id": "79fe6043",
   "metadata": {
    "id": "79fe6043",
    "outputId": "f2bd1a1c-8790-432f-86d2-8d993439ce32"
   },
   "outputs": [],
   "source": [
    "not 0"
   ]
  },
  {
   "cell_type": "code",
   "execution_count": null,
   "id": "f1431ffe",
   "metadata": {
    "id": "f1431ffe",
    "outputId": "34315db1-3519-44dc-f25c-74fecd6b0f90"
   },
   "outputs": [],
   "source": [
    "not ()"
   ]
  },
  {
   "cell_type": "code",
   "execution_count": null,
   "id": "ba127ce5",
   "metadata": {
    "id": "ba127ce5",
    "outputId": "6a9b1bd5-3a95-4cf6-e093-036b2b0f6819"
   },
   "outputs": [],
   "source": [
    "not []"
   ]
  },
  {
   "cell_type": "code",
   "execution_count": null,
   "id": "a7fde0bf",
   "metadata": {
    "id": "a7fde0bf",
    "outputId": "0460009c-6d13-4a68-932f-ad215e4a8163"
   },
   "outputs": [],
   "source": [
    "not \"Kirby\""
   ]
  }
 ],
 "metadata": {
  "colab": {
   "provenance": []
  },
  "kernelspec": {
   "display_name": "Python 3 (ipykernel)",
   "language": "python",
   "name": "python3"
  },
  "language_info": {
   "codemirror_mode": {
    "name": "ipython",
    "version": 3
   },
   "file_extension": ".py",
   "mimetype": "text/x-python",
   "name": "python",
   "nbconvert_exporter": "python",
   "pygments_lexer": "ipython3",
   "version": "3.11.3"
  }
 },
 "nbformat": 4,
 "nbformat_minor": 5
}
