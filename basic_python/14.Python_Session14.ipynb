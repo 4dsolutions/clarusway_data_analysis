{
 "cells": [
  {
   "cell_type": "markdown",
   "id": "decbfc37-873e-4b40-ac6e-f960cf96efe9",
   "metadata": {},
   "source": [
    "#### Clarusway Python\n",
    "\n",
    "* [Instructor Landing Page](landing_page.ipynb)\n",
    "* <a href=\"https://colab.research.google.com/github/4dsolutions/clarusway_data_analysis/blob/main/basic_python/14.Python_Session14.ipynb\"><img align=\"left\" src=\"https://colab.research.google.com/assets/colab-badge.svg\" alt=\"Open in Colab\" title=\"Open and Execute in Google Colaboratory\"></a>\n",
    "* [![nbviewer](https://raw.githubusercontent.com/jupyter/design/master/logos/Badges/nbviewer_badge.svg)](https://nbviewer.org/github/4dsolutions/clarusway_data_analysis/blob/main/basic_python/14.Python_Session14.ipynb)"
   ]
  },
  {
   "cell_type": "markdown",
   "id": "97d2a08c",
   "metadata": {
    "id": "97d2a08c"
   },
   "source": [
    "<a id=\"toc\"></a>\n",
    "\n",
    "## <p style=\"background-color:#0D8D99; font-family:newtimeroman; color:#FFF9ED; font-size:175%; text-align:center; border-radius:10px 10px;\">Python Session14</p>"
   ]
  },
  {
   "cell_type": "markdown",
   "id": "2a056995",
   "metadata": {
    "id": "2a056995"
   },
   "source": [
    "#### <div class=\"alert alert-block alert-info\"><h1><p style=\"text-align: center; color:purple\">List Comprehension<br><br>Ternary Boolean Operators<br><br>Functions<br><br>Calling a Function<br><br>Build in Functions</p> "
   ]
  },
  {
   "cell_type": "markdown",
   "id": "71e9c513",
   "metadata": {
    "id": "71e9c513"
   },
   "source": [
    "**Python official documentation 1 - Functions: https://docs.python.org/3/library/stdtypes.html#functions**\n",
    "\n",
    "**Python official documentation 2 - Function Definition: https://docs.python.org/3/reference/compound_stmts.html#function**\n",
    "\n",
    "**Python official documentation 3 - Build-in Functions: https://docs.python.org/3/library/functions.html**\n",
    "\n",
    "**Python Functions: https://www.w3schools.com/python/python_functions.asp**\n",
    "\n",
    "**Python Functions: https://www.programiz.com/python-programming/function**\n",
    "\n",
    "**Python Functions: https://www.geeksforgeeks.org/python-functions/**"
   ]
  },
  {
   "cell_type": "markdown",
   "id": "bb821073",
   "metadata": {
    "id": "bb821073"
   },
   "source": [
    "<a id=\"toc\"></a>\n",
    "\n",
    "### <p style=\"background-color:#9d4f8c; font-family:newtimeroman; color:#FFF9ED; font-size:175%; text-align:center; border-radius:10px 10px;\">List Comprehension</p>"
   ]
  },
  {
   "cell_type": "markdown",
   "id": "ef3fc11f",
   "metadata": {
    "id": "ef3fc11f"
   },
   "source": [
    "**Python official document (PEP 202): https://peps.python.org/pep-0202/**\n",
    "\n",
    "**Python list comprehension: https://www.geeksforgeeks.org/python-list-comprehension/**"
   ]
  },
  {
   "cell_type": "markdown",
   "id": "4345ea92",
   "metadata": {
    "id": "4345ea92"
   },
   "source": [
    "Let's recall, the general structure of a for loop is as follows:"
   ]
  },
  {
   "cell_type": "markdown",
   "id": "15497734",
   "metadata": {
    "id": "15497734"
   },
   "source": [
    "```python\n",
    "# classic for loop structure:\n",
    "\n",
    "for variable in iterable :\n",
    "    expression\n",
    "\n",
    "# list comprehension structure:\n",
    "[expression for item in iterable]\n",
    "```"
   ]
  },
  {
   "cell_type": "markdown",
   "id": "9bfe2ec5",
   "metadata": {
    "id": "9bfe2ec5"
   },
   "source": [
    " the \"for\" keyword, followed by the variable name, then the \"in\" keyword, then the iterable, two colons, and finally the code body belonging to the loop"
   ]
  },
  {
   "cell_type": "code",
   "execution_count": null,
   "id": "55594939",
   "metadata": {
    "id": "55594939",
    "outputId": "39322a72-06a4-4ac2-d252-cc9aa8357d8e"
   },
   "outputs": [
    {
     "data": {
      "text/plain": [
       "[0, 1, 2, 3, 4]"
      ]
     },
     "execution_count": 1,
     "metadata": {},
     "output_type": "execute_result"
    }
   ],
   "source": [
    "numbers = []\n",
    "\n",
    "for n in range(5):\n",
    "    numbers.append(n)\n",
    "\n",
    "numbers"
   ]
  },
  {
   "cell_type": "markdown",
   "id": "85526add",
   "metadata": {
    "id": "85526add"
   },
   "source": [
    "We have an iterable, and we iterate over it, meaning we go through its elements one by one. In each iteration, one element is assigned to our variable, and the expression in the code body instructs what to do is executed accordingly.\n",
    "\n",
    "Now, let's assume that the code body contains an append method, and let's imagine that we are adding elements to a list."
   ]
  },
  {
   "cell_type": "code",
   "execution_count": null,
   "id": "df55db4c",
   "metadata": {
    "id": "df55db4c",
    "outputId": "81f866ec-174b-41b1-f907-b3054a3505f0"
   },
   "outputs": [
    {
     "name": "stdout",
     "output_type": "stream",
     "text": [
      "[0]\n",
      "[0, 1]\n",
      "[0, 1, 2]\n",
      "[0, 1, 2, 3]\n",
      "[0, 1, 2, 3, 4]\n",
      "---------------\n",
      "[0, 1, 2, 3, 4]\n"
     ]
    }
   ],
   "source": [
    "numbers = []\n",
    "\n",
    "for n in range(5):   \n",
    "    numbers.append(n)\n",
    "    print(numbers)\n",
    "\n",
    "print(\"---------------\")\n",
    "print(numbers)"
   ]
  },
  {
   "cell_type": "markdown",
   "id": "bc37dd8d",
   "metadata": {
    "id": "bc37dd8d"
   },
   "source": [
    "If we want to do this with a list comprehension, here's what we do:"
   ]
  },
  {
   "cell_type": "code",
   "execution_count": null,
   "id": "e91c462b",
   "metadata": {
    "id": "e91c462b",
    "outputId": "d80c411e-a17e-4898-bcbd-b7b3d2bba9d9"
   },
   "outputs": [
    {
     "data": {
      "text/plain": [
       "[0, 1, 2, 3, 4]"
      ]
     },
     "execution_count": 53,
     "metadata": {},
     "output_type": "execute_result"
    }
   ],
   "source": [
    "[i for i in range(5)]"
   ]
  },
  {
   "cell_type": "markdown",
   "id": "d6f87412",
   "metadata": {
    "id": "d6f87412"
   },
   "source": [
    "First, we open a square bracket. When we open a square bracket, we create a list, right? This will be our list that we will fill in.\n",
    "\n",
    "Now, first comes our expression. We write the expression that will do the job in the code body of a classic for loop at the beginning. If we are going to append elements to a list one by one, we don't need to use the append() method because list comprehension already does the appending. Then, we write the first line of the for loop. That's it.\n",
    "\n",
    "That's it. There are no two colons, so there is no separate line for indentation and a separate code block. Everything is done in a single line.\n",
    "\n",
    "Look, we can do the job of the for loop above with this single-line code."
   ]
  },
  {
   "cell_type": "code",
   "execution_count": null,
   "id": "d0dfcf56",
   "metadata": {
    "id": "d0dfcf56",
    "outputId": "a957331a-eacf-45bd-aee2-2f86f74a0258"
   },
   "outputs": [
    {
     "data": {
      "text/plain": [
       "[0, 1, 4, 9, 16]"
      ]
     },
     "execution_count": 54,
     "metadata": {},
     "output_type": "execute_result"
    }
   ],
   "source": [
    "[i ** 2 for i in range(5)]\n",
    "\n",
    "# or:\n",
    "# [i * i for i in range(5)]"
   ]
  },
  {
   "cell_type": "code",
   "execution_count": null,
   "id": "20f115ac",
   "metadata": {
    "id": "20f115ac",
    "outputId": "c6dc6c9b-bf1e-4fa1-b40d-a19513995a8e"
   },
   "outputs": [
    {
     "data": {
      "text/plain": [
       "'Jane Austen'"
      ]
     },
     "execution_count": 55,
     "metadata": {},
     "output_type": "execute_result"
    }
   ],
   "source": [
    "\"jane austen\".title()"
   ]
  },
  {
   "cell_type": "code",
   "execution_count": null,
   "id": "55f7cfcb",
   "metadata": {
    "id": "55f7cfcb",
    "outputId": "5be91945-4e72-4e63-92e0-09dcfb52e736"
   },
   "outputs": [
    {
     "data": {
      "text/plain": [
       "['Jane Austen', 'George Orwell', 'James Clear', 'Cal Newport']"
      ]
     },
     "execution_count": 3,
     "metadata": {},
     "output_type": "execute_result"
    }
   ],
   "source": [
    "authors = [\"jane austen\", \"george orwell\", \"james clear\", \"cal newport\"]\n",
    "\n",
    "author_list = [i.title() for i in authors] \n",
    "author_list"
   ]
  },
  {
   "cell_type": "markdown",
   "id": "a0f83314",
   "metadata": {
    "id": "a0f83314"
   },
   "source": [
    "**Here one more example:**\n",
    "\n",
    "**Let's say we have the following two lists that consist of the lengths of the sides of four rectangles in order. Let's create a new list consisting of the areas of these four rectangles.**"
   ]
  },
  {
   "cell_type": "code",
   "execution_count": null,
   "id": "bf7f0170",
   "metadata": {
    "id": "bf7f0170",
    "outputId": "e4677aa8-cec0-45cd-83c0-71ddc3912ab3"
   },
   "outputs": [
    {
     "data": {
      "text/plain": [
       "<zip at 0x1c29b6b3f40>"
      ]
     },
     "execution_count": 4,
     "metadata": {},
     "output_type": "execute_result"
    }
   ],
   "source": [
    "a = [4,5,6,7]\n",
    "b = [8,9,10,11]\n",
    "\n",
    "# I will use zip() function.\n",
    "zip(a, b)"
   ]
  },
  {
   "cell_type": "code",
   "execution_count": null,
   "id": "c44b2e4b",
   "metadata": {
    "id": "c44b2e4b",
    "outputId": "fe07c7a9-eed1-4c21-debc-5c48d28fc402"
   },
   "outputs": [
    {
     "data": {
      "text/plain": [
       "[(4, 8), (5, 9), (6, 10), (7, 11)]"
      ]
     },
     "execution_count": 5,
     "metadata": {},
     "output_type": "execute_result"
    }
   ],
   "source": [
    "# Let's make the zip object visible:\n",
    "\n",
    "list(zip(a, b))"
   ]
  },
  {
   "cell_type": "code",
   "execution_count": null,
   "id": "e740210a",
   "metadata": {
    "id": "e740210a",
    "outputId": "3e1afe98-13f1-4108-d123-291aaf3fff77"
   },
   "outputs": [
    {
     "data": {
      "text/plain": [
       "[(4, 8), (5, 9), (6, 10), (7, 11)]"
      ]
     },
     "execution_count": 10,
     "metadata": {},
     "output_type": "execute_result"
    }
   ],
   "source": [
    "# with for loop:\n",
    "\n",
    "dimenson_list=[]\n",
    "\n",
    "for i in zip(a, b) :\n",
    "    dimenson_list.append(i)\n",
    "    \n",
    "dimenson_list"
   ]
  },
  {
   "cell_type": "code",
   "execution_count": null,
   "id": "5cb00ace",
   "metadata": {
    "id": "5cb00ace",
    "outputId": "56883318-3d64-4414-a367-31cce439316c"
   },
   "outputs": [
    {
     "data": {
      "text/plain": [
       "(4, 8)"
      ]
     },
     "execution_count": 11,
     "metadata": {},
     "output_type": "execute_result"
    }
   ],
   "source": [
    "dimenson_list[0]\n",
    "\n",
    "# See, now I can index this list and access the tuples inside it."
   ]
  },
  {
   "cell_type": "code",
   "execution_count": null,
   "id": "47047240",
   "metadata": {
    "id": "47047240",
    "outputId": "0ca5103c-7b15-429a-d889-44dc47fedd2c"
   },
   "outputs": [
    {
     "data": {
      "text/plain": [
       "(5, 9)"
      ]
     },
     "execution_count": 12,
     "metadata": {},
     "output_type": "execute_result"
    }
   ],
   "source": [
    "dimenson_list[1]"
   ]
  },
  {
   "cell_type": "code",
   "execution_count": null,
   "id": "1d8097ad",
   "metadata": {
    "id": "1d8097ad",
    "outputId": "84f383b4-6d29-4745-f91d-3ecce781c542"
   },
   "outputs": [
    {
     "name": "stdout",
     "output_type": "stream",
     "text": [
      "4\n",
      "8\n"
     ]
    }
   ],
   "source": [
    "# If I can access the tuples, I can assign them to variables using tuple unpacking method:\n",
    "\n",
    "j, k = (4, 8)\n",
    "\n",
    "print(j)\n",
    "print(k)"
   ]
  },
  {
   "cell_type": "code",
   "execution_count": null,
   "id": "ef5a603c",
   "metadata": {
    "id": "ef5a603c",
    "outputId": "0e0d5093-a252-45f2-d397-b32f643a087c"
   },
   "outputs": [
    {
     "name": "stdout",
     "output_type": "stream",
     "text": [
      "4\n",
      "8\n"
     ]
    }
   ],
   "source": [
    "j, k = dimenson_list[0]\n",
    "\n",
    "print(j)\n",
    "print(k)"
   ]
  },
  {
   "cell_type": "code",
   "execution_count": null,
   "id": "dfb51f9a",
   "metadata": {
    "id": "dfb51f9a",
    "outputId": "6e94eb3e-ce35-49f8-d65e-cf0c3622b90a"
   },
   "outputs": [
    {
     "name": "stdout",
     "output_type": "stream",
     "text": [
      "32\n"
     ]
    }
   ],
   "source": [
    "# Since we can access the elements inside tuples within a list, \n",
    "  # we can perform arithmetic operations with them.\n",
    "\n",
    "print(j * k)"
   ]
  },
  {
   "cell_type": "code",
   "execution_count": null,
   "id": "c09e39b1",
   "metadata": {
    "id": "c09e39b1",
    "outputId": "6fdba808-727b-44c7-e0b3-e7644dc6928e"
   },
   "outputs": [
    {
     "data": {
      "text/plain": [
       "[(4, 8), (5, 9), (6, 10), (7, 11)]"
      ]
     },
     "execution_count": 14,
     "metadata": {},
     "output_type": "execute_result"
    }
   ],
   "source": [
    "dimenson_list = list(zip(a, b))\n",
    "\n",
    "dimenson_list"
   ]
  },
  {
   "cell_type": "code",
   "execution_count": null,
   "id": "76904ef2",
   "metadata": {
    "id": "76904ef2",
    "outputId": "1da3b594-29a6-44e9-f1da-7222d519be61"
   },
   "outputs": [
    {
     "data": {
      "text/plain": [
       "[32, 45, 60, 77]"
      ]
     },
     "execution_count": 15,
     "metadata": {},
     "output_type": "execute_result"
    }
   ],
   "source": [
    "# Now we can easily calculate the areas of these rectangles. \n",
    "# All we have to do is to multiply the corresponding edge lengths in the lists a and b with each other\n",
    "\n",
    "area_list = []\n",
    "\n",
    "for i in range(len(dimenson_list)) :\n",
    "    j, k = dimenson_list[i]\n",
    "    area_list.append(j * k)\n",
    "    \n",
    "area_list"
   ]
  },
  {
   "cell_type": "code",
   "execution_count": null,
   "id": "e2c477e7",
   "metadata": {
    "id": "e2c477e7",
    "outputId": "217f56fb-8a90-4c26-8178-9a7443a91708"
   },
   "outputs": [
    {
     "data": {
      "text/plain": [
       "[(4, 8), (5, 9), (6, 10), (7, 11)]"
      ]
     },
     "execution_count": 16,
     "metadata": {},
     "output_type": "execute_result"
    }
   ],
   "source": [
    "dimenson_list"
   ]
  },
  {
   "cell_type": "code",
   "execution_count": null,
   "id": "679ed918",
   "metadata": {
    "id": "679ed918",
    "outputId": "d03e51d8-fdac-47a9-c68f-48b8ef767c8b"
   },
   "outputs": [
    {
     "data": {
      "text/plain": [
       "[32, 45, 60, 77]"
      ]
     },
     "execution_count": 18,
     "metadata": {},
     "output_type": "execute_result"
    }
   ],
   "source": [
    "# Now let's shorten our code a bit. \n",
    "# We can define 2 variables (i and j) in the for loop. \n",
    "# This way, we can assign the tuples consisting of 2 elements in the list to i and j each time\n",
    "\n",
    "area_list = []\n",
    "\n",
    "for i, j in dimenson_list :\n",
    "    area_list.append(i * j)\n",
    "    \n",
    "area_list"
   ]
  },
  {
   "cell_type": "markdown",
   "id": "dadbfc72",
   "metadata": {
    "id": "dadbfc72"
   },
   "source": [
    "**Now let's solve the same question using list comprehension:**"
   ]
  },
  {
   "cell_type": "code",
   "execution_count": null,
   "id": "098902e2",
   "metadata": {
    "id": "098902e2",
    "outputId": "30419231-c5b4-4ed6-b558-567926c457fc"
   },
   "outputs": [
    {
     "data": {
      "text/plain": [
       "[32, 45, 60, 77]"
      ]
     },
     "execution_count": 20,
     "metadata": {},
     "output_type": "execute_result"
    }
   ],
   "source": [
    "area_list_comp = [i*j for i, j in dimenson_list]\n",
    "area_list_comp"
   ]
  },
  {
   "cell_type": "markdown",
   "id": "95db9219",
   "metadata": {
    "id": "95db9219"
   },
   "source": [
    "Alternatively, I can directly use the zip object as an iterator in the for loop without putting it into a list.\n",
    "\n",
    "In each iteration of the for loop, the elements of the zip object can be called and used. Let's remember that the elements inside lazy objects are created when they are called."
   ]
  },
  {
   "cell_type": "code",
   "execution_count": null,
   "id": "13228940",
   "metadata": {
    "id": "13228940",
    "outputId": "22e36c83-2938-4ccc-832f-dc93ccfa4ebc"
   },
   "outputs": [
    {
     "data": {
      "text/plain": [
       "[32, 45, 60, 77]"
      ]
     },
     "execution_count": 21,
     "metadata": {},
     "output_type": "execute_result"
    }
   ],
   "source": [
    "area_list_comp = [i*j for i, j in zip(a, b)]\n",
    "area_list_comp"
   ]
  },
  {
   "cell_type": "markdown",
   "id": "79c3b842",
   "metadata": {
    "id": "79c3b842"
   },
   "source": [
    "**Examine this code about zip() function after the session:**"
   ]
  },
  {
   "cell_type": "code",
   "execution_count": null,
   "id": "dd48b444",
   "metadata": {
    "id": "dd48b444",
    "outputId": "9d36ebd7-d65d-496b-9ddb-d524bd9fbd72"
   },
   "outputs": [
    {
     "data": {
      "text/plain": [
       "[('a', 0, 0), ('b', 1, 1), ('c', 2, 2)]"
      ]
     },
     "execution_count": 1,
     "metadata": {},
     "output_type": "execute_result"
    }
   ],
   "source": [
    "list(zip('abcdefg', range(3), range(4)))"
   ]
  },
  {
   "cell_type": "markdown",
   "id": "495fcf8d",
   "metadata": {
    "id": "495fcf8d"
   },
   "source": [
    "<a id=\"toc\"></a>\n",
    "\n",
    "### <p style=\"background-color:#9d4f8c; font-family:newtimeroman; color:#FFF9ED; font-size:175%; text-align:center; border-radius:10px 10px;\">Ternary Boolean Operators</p>"
   ]
  },
  {
   "cell_type": "markdown",
   "id": "058907b5",
   "metadata": {
    "id": "058907b5"
   },
   "source": [
    "**Examine this code after the session:**"
   ]
  },
  {
   "cell_type": "markdown",
   "id": "80e895ca",
   "metadata": {
    "id": "80e895ca"
   },
   "source": [
    "**Python official document - Conditional Expressions: https://docs.python.org/3/reference/expressions.html**\n",
    "\n",
    "**Python official document (PEP 308): https://peps.python.org/pep-0308/**\n",
    "\n",
    "**ternary operators in python: https://www.geeksforgeeks.org/ternary-operator-in-python/**\n",
    "\n",
    "**what is the ternary operators: https://www.educative.io/answers/what-is-the-ternary-operator-in-python**"
   ]
  },
  {
   "cell_type": "markdown",
   "id": "7a103307",
   "metadata": {
    "id": "7a103307"
   },
   "source": [
    "In short, one-line if-else structures are called ternary operators.\n",
    "\n",
    "To explain further, \"ternary operators\" are also known as conditional expressions. You can think of them as a simplified, one-line version of an if-else statement used to test a condition. Instead of using a multi-line if-else statement, we can test a condition in a single line and return one of two different values depending on whether the condition is true or false.\n",
    "\n",
    "Using ternary operators makes our code more compact.\n",
    "\n",
    "This is a new feature, and ternary operators have been used in Python since version 2.5.\n",
    "\n",
    "The syntax is as follows:"
   ]
  },
  {
   "cell_type": "markdown",
   "id": "e81f9a22",
   "metadata": {
    "id": "e81f9a22"
   },
   "source": [
    "```python\n",
    "if condition :\n",
    "    execute_body1\n",
    "else:\n",
    "    execute_body2\n",
    "    \n",
    "# or:\n",
    "\n",
    "execute_body1 if condition else execute_body2\n",
    "```"
   ]
  },
  {
   "cell_type": "markdown",
   "id": "9d21ad92",
   "metadata": {
    "id": "9d21ad92"
   },
   "source": [
    "First, we write the execute-body1. If the condition is True, then the expression in body1 is executed. Otherwise, the expression at the end (execute_body2) is executed.\n",
    "\n",
    "That's it!"
   ]
  },
  {
   "cell_type": "code",
   "execution_count": null,
   "id": "4b80be9d",
   "metadata": {
    "id": "4b80be9d",
    "outputId": "3cefd1e3-d1a0-4b64-bf08-435b26292cab"
   },
   "outputs": [
    {
     "name": "stdout",
     "output_type": "stream",
     "text": [
      "'b' is greater than 'a'\n"
     ]
    }
   ],
   "source": [
    "# Let's examine the topic through a simple example.\n",
    "\n",
    "a = 2\n",
    "b = 3\n",
    "\n",
    "# If we code using the classic If-else statement structure:\n",
    "\n",
    "if a > b :\n",
    "    print(\"'a' is greater than 'b'\")\n",
    "    \n",
    "else:\n",
    "    print(\"'b' is greater than 'a'\")"
   ]
  },
  {
   "cell_type": "code",
   "execution_count": null,
   "id": "18aa0dfc",
   "metadata": {
    "id": "18aa0dfc",
    "outputId": "9f451550-ba1a-41ae-90b0-541f39526e51"
   },
   "outputs": [
    {
     "data": {
      "text/plain": [
       "\"'b' is greater than 'a'\""
      ]
     },
     "execution_count": 23,
     "metadata": {},
     "output_type": "execute_result"
    }
   ],
   "source": [
    "# Now let's do it with a ternary expression:\n",
    "\n",
    "\"'a' is greater than 'b'\" if a > b else \"'b' is greater than 'a'\""
   ]
  },
  {
   "cell_type": "markdown",
   "id": "387edfca",
   "metadata": {
    "id": "387edfca"
   },
   "source": [
    "**I can assign the value from this ternary to a variable for later use**"
   ]
  },
  {
   "cell_type": "code",
   "execution_count": null,
   "id": "c6d1ae4c",
   "metadata": {
    "id": "c6d1ae4c",
    "outputId": "6444c58e-1bb4-4a3e-869e-3c0f40a32221"
   },
   "outputs": [
    {
     "data": {
      "text/plain": [
       "3"
      ]
     },
     "execution_count": 74,
     "metadata": {},
     "output_type": "execute_result"
    }
   ],
   "source": [
    "z = a if a > b else b\n",
    "\n",
    "z\n",
    "\n",
    "# Now you see that the variable z holds the value that comes from the ternary expression."
   ]
  },
  {
   "cell_type": "code",
   "execution_count": null,
   "id": "fc9a0aa8",
   "metadata": {
    "id": "fc9a0aa8",
    "outputId": "10705c0d-a2b7-45f3-9732-6a60ae2c5a85"
   },
   "outputs": [
    {
     "data": {
      "text/plain": [
       "8"
      ]
     },
     "execution_count": 75,
     "metadata": {},
     "output_type": "execute_result"
    }
   ],
   "source": [
    "z = a ** 2 if a > b else a ** 3\n",
    "\n",
    "z\n",
    "\n",
    "# I returned the result of a mathematical operation based on the condition using a ternary expression."
   ]
  },
  {
   "cell_type": "markdown",
   "id": "616bc276",
   "metadata": {
    "id": "616bc276"
   },
   "source": [
    "**Task: Let's write a program that calculates the area of a triangle if it is an equilateral triangle, and prints out \"this is not an equilateral triangle\" if it is not an equilateral triangle.**"
   ]
  },
  {
   "cell_type": "code",
   "execution_count": null,
   "id": "09276def",
   "metadata": {
    "id": "09276def"
   },
   "outputs": [],
   "source": [
    "# The length of the edge is 10 units.\n",
    "\n",
    "s = 10"
   ]
  },
  {
   "cell_type": "code",
   "execution_count": null,
   "id": "3d772469",
   "metadata": {
    "id": "3d772469",
    "outputId": "62da8c94-0297-45a4-ff74-cd6a5ec54977"
   },
   "outputs": [
    {
     "data": {
      "text/plain": [
       "43.3"
      ]
     },
     "execution_count": 29,
     "metadata": {},
     "output_type": "execute_result"
    }
   ],
   "source": [
    "angle = 60\n",
    "\n",
    "area = round(((3 ** (1/2) / 4) * s ** 2), 2) if angle == 60 else \"this is not an equilateral triangle.\"\n",
    "\n",
    "area"
   ]
  },
  {
   "cell_type": "markdown",
   "id": "d6ff2002",
   "metadata": {
    "id": "d6ff2002"
   },
   "source": [
    "**When using ternary expressions, it is necessary to pay attention to the precedence of the operation!**"
   ]
  },
  {
   "cell_type": "code",
   "execution_count": null,
   "id": "cd014c63",
   "metadata": {
    "id": "cd014c63",
    "outputId": "36705091-51cb-430e-ba26-b279bda0d7c3"
   },
   "outputs": [
    {
     "data": {
      "text/plain": [
       "1"
      ]
     },
     "execution_count": 30,
     "metadata": {},
     "output_type": "execute_result"
    }
   ],
   "source": [
    "a = 2\n",
    "b = 1\n",
    "\n",
    "a if a < b else b"
   ]
  },
  {
   "cell_type": "code",
   "execution_count": null,
   "id": "57ab67a5",
   "metadata": {
    "id": "57ab67a5",
    "outputId": "9f6a3c72-67bf-46a9-cbfe-b7f1c480428d"
   },
   "outputs": [
    {
     "data": {
      "text/plain": [
       "1"
      ]
     },
     "execution_count": 32,
     "metadata": {},
     "output_type": "execute_result"
    }
   ],
   "source": [
    "# If I want to add 3 to the result returned from the ternary expression:\n",
    "\n",
    "plus_3 = 3 + a if a < b else b\n",
    "plus_3\n",
    "\n",
    "# Since a is greater than b, the else condition will work. and it will return 1 from ternary.\n",
    "# I expected the result to be 4, but it gave me 1. this is wrong!"
   ]
  },
  {
   "cell_type": "code",
   "execution_count": null,
   "id": "4a6c5fa2",
   "metadata": {
    "id": "4a6c5fa2",
    "outputId": "3a6dcea1-0659-41e8-d7d0-0bd4d629c3bb"
   },
   "outputs": [
    {
     "data": {
      "text/plain": [
       "4"
      ]
     },
     "execution_count": 31,
     "metadata": {},
     "output_type": "execute_result"
    }
   ],
   "source": [
    "# Actually, what we want to do is the following:\n",
    "\n",
    "a = 2\n",
    "b = 1\n",
    "\n",
    "plus_3 = 3 + (a if a < b else b)\n",
    "# or 3 + a if a < b else b +3\n",
    "plus_3\n",
    "\n",
    "# this is right!"
   ]
  },
  {
   "cell_type": "markdown",
   "id": "1c355ecb",
   "metadata": {
    "id": "1c355ecb"
   },
   "source": [
    "## Using \"if\" and \"for\" in an expression"
   ]
  },
  {
   "cell_type": "markdown",
   "id": "f0325378",
   "metadata": {
    "id": "f0325378"
   },
   "source": [
    "We learned that, firstly, we can express for loops in a single line using list comprehension. \n",
    "Secondly, we learned that we can express if-else structures in a single line using ternary expressions. \n",
    "\n",
    "But what if we want to include a condition inside the list comprehension? \n",
    "\n",
    "That is, if we want to use list comprehension along with ternary expressions. \n",
    "\n",
    "How can we do that?"
   ]
  },
  {
   "cell_type": "code",
   "execution_count": null,
   "id": "e8be3bfa",
   "metadata": {
    "id": "e8be3bfa"
   },
   "outputs": [],
   "source": [
    "my_list = [1, 2, 3, 4, 5, 6]"
   ]
  },
  {
   "cell_type": "markdown",
   "id": "09955c60",
   "metadata": {
    "id": "09955c60"
   },
   "source": [
    "**Let's collect the squares of the odd numbers in this list in a separate list.**"
   ]
  },
  {
   "cell_type": "code",
   "execution_count": null,
   "id": "1d25ba7e",
   "metadata": {
    "id": "1d25ba7e",
    "outputId": "e61fa88f-c889-4d76-ab76-bfde1a478794"
   },
   "outputs": [
    {
     "name": "stdout",
     "output_type": "stream",
     "text": [
      "[1, 9, 25]\n"
     ]
    }
   ],
   "source": [
    "# classic for loop solution:\n",
    "\n",
    "new_list = []\n",
    "\n",
    "for i in my_list :\n",
    "\n",
    "    if i % 2 :\n",
    "        new_list.append(i ** 2)\n",
    "\n",
    "print(new_list)"
   ]
  },
  {
   "cell_type": "code",
   "execution_count": null,
   "id": "43fa879a",
   "metadata": {
    "id": "43fa879a",
    "outputId": "83030aaa-f60c-4cef-c68f-382f8d1e4d2d"
   },
   "outputs": [
    {
     "data": {
      "text/plain": [
       "[1, 9, 25]"
      ]
     },
     "execution_count": 34,
     "metadata": {},
     "output_type": "execute_result"
    }
   ],
   "source": [
    "# list comprehension and ternary operator solution:\n",
    "\n",
    "[i ** 2 for i in my_list if i % 2]"
   ]
  },
  {
   "cell_type": "markdown",
   "id": "3e6b4f40",
   "metadata": {
    "id": "3e6b4f40"
   },
   "source": [
    "**Task : Let's collect the squares of the odd numbers and the cubes of the even numbers in this list into a new list.:**"
   ]
  },
  {
   "cell_type": "code",
   "execution_count": null,
   "id": "05295591",
   "metadata": {
    "id": "05295591",
    "outputId": "877c0ecc-7cac-42a2-ddb3-19180ef8c03e"
   },
   "outputs": [
    {
     "data": {
      "text/plain": [
       "[1, 8, 9, 64, 25, 216]"
      ]
     },
     "execution_count": 112,
     "metadata": {},
     "output_type": "execute_result"
    }
   ],
   "source": [
    "new_list = [i ** 2 if i % 2 else i ** 3 for i in my_list]\n",
    "\n",
    "new_list"
   ]
  },
  {
   "cell_type": "markdown",
   "id": "7757e27a",
   "metadata": {
    "id": "7757e27a"
   },
   "source": [
    "```python\n",
    "1. Enclose the whole expression in \"[]\"\n",
    "2. Add the code that iterates the list (for element in array) after else.\n",
    "\n",
    "a if condition else b for element in array\n",
    "```"
   ]
  },
  {
   "cell_type": "markdown",
   "id": "c3ca9f7d",
   "metadata": {
    "id": "c3ca9f7d"
   },
   "source": [
    "**Some examples:**"
   ]
  },
  {
   "cell_type": "code",
   "execution_count": null,
   "id": "529fdfff",
   "metadata": {
    "id": "529fdfff",
    "outputId": "32e8cac2-d12f-4616-c140-94e6a6bb1031"
   },
   "outputs": [
    {
     "data": {
      "text/plain": [
       "['-', '-', '-', '-', '-', '+', '+', '+', '+', '+']"
      ]
     },
     "execution_count": 116,
     "metadata": {},
     "output_type": "execute_result"
    }
   ],
   "source": [
    "['+' if i > 5 else '-' for i in range(1, 11)]"
   ]
  },
  {
   "cell_type": "code",
   "execution_count": null,
   "id": "4993f803",
   "metadata": {
    "id": "4993f803",
    "outputId": "7f73460f-d863-48f1-fc12-bb6225656972"
   },
   "outputs": [
    {
     "data": {
      "text/plain": [
       "'Welcome'"
      ]
     },
     "execution_count": 114,
     "metadata": {},
     "output_type": "execute_result"
    }
   ],
   "source": [
    "age = 20\n",
    "\n",
    "output = 'Go home.' if age < 16 else 'Not sure...' if 16 <= age < 18 else 'Welcome'\n",
    "\n",
    "output"
   ]
  },
  {
   "cell_type": "code",
   "execution_count": null,
   "id": "89d3bdea",
   "metadata": {
    "id": "89d3bdea",
    "outputId": "3fd1c65f-f014-4e59-c5ca-38595bd95b74"
   },
   "outputs": [
    {
     "data": {
      "text/plain": [
       "'A'"
      ]
     },
     "execution_count": 115,
     "metadata": {},
     "output_type": "execute_result"
    }
   ],
   "source": [
    "x = 90\n",
    "\n",
    "grade = \"A+\" if x >= 95 else \"A\" if x >= 90 else \"B+\" if x >= 85 else \"B\" if x >= 80 else \"C\" if x >= 70 else \"D\"\n",
    "\n",
    "grade"
   ]
  },
  {
   "cell_type": "code",
   "execution_count": null,
   "id": "82408914",
   "metadata": {
    "id": "82408914"
   },
   "outputs": [],
   "source": [
    "# student names and their grades:\n",
    "\n",
    "students = [\n",
    "    {'name': 'Ally', 'score': 42},\n",
    "    {'name': 'Betty', 'score': 58},\n",
    "    {'name': 'Kirby', 'score': 99},\n",
    "    {'name': 'Samuel', 'score': 31}\n",
    "]"
   ]
  },
  {
   "cell_type": "code",
   "execution_count": null,
   "id": "1798bb6f",
   "metadata": {
    "id": "1798bb6f",
    "outputId": "2448cc02-4270-456e-c060-f45ae358601a"
   },
   "outputs": [
    {
     "name": "stdout",
     "output_type": "stream",
     "text": [
      "['Ally failed the exam!', 'Betty passed the exam!', 'Kirby passed the exam!', 'Samuel failed the exam!']\n"
     ]
    }
   ],
   "source": [
    "output = [f\"{student['name']} passed the exam!\" if student['score'] > 50\n",
    "          else f\"{student['name']} failed the exam!\" for student in students]\n",
    "print(output)"
   ]
  },
  {
   "cell_type": "code",
   "execution_count": null,
   "id": "b39f0f24",
   "metadata": {
    "id": "b39f0f24",
    "outputId": "4109fe7a-e63e-4935-8e99-f16cb20689ec"
   },
   "outputs": [
    {
     "name": "stdout",
     "output_type": "stream",
     "text": [
      "['Ally failed the exam!', 'Betty passed the exam!', 'Kirby passed the exam!', 'Samuel failed the exam!']\n"
     ]
    }
   ],
   "source": [
    "# classic for loop solution:\n",
    "\n",
    "output = []\n",
    "\n",
    "for student in students:\n",
    "    if student['score'] > 50:\n",
    "        output.append(f\"{student['name']} passed the exam!\")\n",
    "    else:\n",
    "        output.append(f\"{student['name']} failed the exam!\")\n",
    "        \n",
    "print(output)"
   ]
  },
  {
   "cell_type": "markdown",
   "id": "7ef22f13",
   "metadata": {
    "id": "7ef22f13"
   },
   "source": [
    "<a id=\"toc\"></a>\n",
    "\n",
    "## <p style=\"background-color:#0D8D99; font-family:newtimeroman; color:#FFF9ED; font-size:175%; text-align:center; border-radius:10px 10px;\">FUNCTIONS</p>"
   ]
  },
  {
   "cell_type": "markdown",
   "id": "5f64213c",
   "metadata": {
    "id": "5f64213c"
   },
   "source": [
    "<a id=\"toc\"></a>\n",
    "\n",
    "### <p style=\"background-color:#9d4f8c; font-family:newtimeroman; color:#FFF9ED; font-size:175%; text-align:center; border-radius:10px 10px;\">Calling a Function</p>"
   ]
  },
  {
   "cell_type": "markdown",
   "id": "25ad3376",
   "metadata": {
    "id": "25ad3376"
   },
   "source": [
    "**Define and call a function: https://www.freecodecamp.org/news/python-functions-define-and-call-a-function/**\n",
    "\n",
    "**Python functions: https://www.w3schools.com/python/python_functions.asp**"
   ]
  },
  {
   "cell_type": "markdown",
   "id": "a01e76f9",
   "metadata": {
    "id": "a01e76f9"
   },
   "source": [
    "## Calling a Function Means Using It !"
   ]
  },
  {
   "cell_type": "code",
   "execution_count": null,
   "id": "0c4729f2",
   "metadata": {
    "id": "0c4729f2",
    "outputId": "76883e72-f18f-44a6-c610-f8cea473554f"
   },
   "outputs": [
    {
     "name": "stdout",
     "output_type": "stream",
     "text": [
      "This is a \"argument\" and print function is called\n"
     ]
    }
   ],
   "source": [
    "print('This is a \"argument\" and print function is called')"
   ]
  },
  {
   "cell_type": "code",
   "execution_count": null,
   "id": "83ee89cb",
   "metadata": {
    "id": "83ee89cb"
   },
   "outputs": [],
   "source": [
    "a = 2\n",
    "b = 3\n",
    "\n",
    "multiply(2, 3) \n",
    "\n",
    "# The previously defined function \"multiply\" is called with arguments 2 and 3. "
   ]
  },
  {
   "cell_type": "code",
   "execution_count": null,
   "id": "effc952d",
   "metadata": {
    "id": "effc952d"
   },
   "outputs": [],
   "source": [
    "multiply(a, b)  \n",
    "\n",
    "# The previously defined function \"multiply\" is called with arguments a and b. "
   ]
  },
  {
   "cell_type": "code",
   "execution_count": null,
   "id": "d514fdda",
   "metadata": {
    "id": "d514fdda",
    "outputId": "c8b8d429-21fc-434c-90fc-d4c03b96d16d"
   },
   "outputs": [
    {
     "name": "stdout",
     "output_type": "stream",
     "text": [
      "ally\n",
      "kirby\n",
      "betty\n"
     ]
    }
   ],
   "source": [
    "print(\"ally\")\n",
    "print(\"kirby\")\n",
    "print(\"betty\")"
   ]
  },
  {
   "cell_type": "code",
   "execution_count": null,
   "id": "b726222b",
   "metadata": {
    "id": "b726222b",
    "outputId": "b196801d-868b-4adb-f8ee-22705a1f9c1a"
   },
   "outputs": [
    {
     "name": "stdout",
     "output_type": "stream",
     "text": [
      "ally\n",
      "kirby\n",
      "betty\n"
     ]
    }
   ],
   "source": [
    "print(\"ally\", end = \"\\n\")\n",
    "print(\"kirby\", end = \"\\n\")\n",
    "print(\"betty\")"
   ]
  },
  {
   "cell_type": "code",
   "execution_count": null,
   "id": "cf5e39c0",
   "metadata": {
    "id": "cf5e39c0",
    "outputId": "8ca9e9b2-f229-4877-fd49-7c7241251cbe"
   },
   "outputs": [
    {
     "name": "stdout",
     "output_type": "stream",
     "text": [
      "ally kirby betty\n"
     ]
    }
   ],
   "source": [
    "print(\"ally\", end = \" \")\n",
    "print(\"kirby\", end = \" \")\n",
    "print(\"betty\")"
   ]
  },
  {
   "cell_type": "code",
   "execution_count": null,
   "id": "b44c7537",
   "metadata": {
    "id": "b44c7537",
    "outputId": "9a85e26a-e9ff-427a-8bb2-a0419018cd90"
   },
   "outputs": [
    {
     "name": "stdout",
     "output_type": "stream",
     "text": [
      "ally love clarusway. kirby  love clarusway too. especially betty adores clarusway."
     ]
    }
   ],
   "source": [
    "print(\"ally\", end = \" love clarusway. \")\n",
    "print(\"kirby\", end = \"  love clarusway too. \")\n",
    "print(\"especially\", \"betty\", end = \" adores clarusway.\")"
   ]
  },
  {
   "cell_type": "markdown",
   "id": "a6645a40",
   "metadata": {
    "id": "a6645a40"
   },
   "source": [
    "<a id=\"toc\"></a>\n",
    "\n",
    "### <p style=\"background-color:#9d4f8c; font-family:newtimeroman; color:#FFF9ED; font-size:175%; text-align:center; border-radius:10px 10px;\">Built-in Functions</p>"
   ]
  },
  {
   "cell_type": "markdown",
   "id": "e2d19bf5",
   "metadata": {
    "id": "e2d19bf5"
   },
   "source": [
    "**Python official document - Build in function: https://docs.python.org/3/library/functions.html**"
   ]
  },
  {
   "cell_type": "code",
   "execution_count": null,
   "id": "eec27687",
   "metadata": {
    "id": "eec27687",
    "outputId": "ff41fac8-5e98-4466-e17f-71a05a47aef8"
   },
   "outputs": [
    {
     "data": {
      "text/plain": [
       "['ArithmeticError',\n",
       " 'AssertionError',\n",
       " 'AttributeError',\n",
       " 'BaseException',\n",
       " 'BlockingIOError',\n",
       " 'BrokenPipeError',\n",
       " 'BufferError',\n",
       " 'BytesWarning',\n",
       " 'ChildProcessError',\n",
       " 'ConnectionAbortedError',\n",
       " 'ConnectionError',\n",
       " 'ConnectionRefusedError',\n",
       " 'ConnectionResetError',\n",
       " 'DeprecationWarning',\n",
       " 'EOFError',\n",
       " 'Ellipsis',\n",
       " 'EnvironmentError',\n",
       " 'Exception',\n",
       " 'False',\n",
       " 'FileExistsError',\n",
       " 'FileNotFoundError',\n",
       " 'FloatingPointError',\n",
       " 'FutureWarning',\n",
       " 'GeneratorExit',\n",
       " 'IOError',\n",
       " 'ImportError',\n",
       " 'ImportWarning',\n",
       " 'IndentationError',\n",
       " 'IndexError',\n",
       " 'InterruptedError',\n",
       " 'IsADirectoryError',\n",
       " 'KeyError',\n",
       " 'KeyboardInterrupt',\n",
       " 'LookupError',\n",
       " 'MemoryError',\n",
       " 'ModuleNotFoundError',\n",
       " 'NameError',\n",
       " 'None',\n",
       " 'NotADirectoryError',\n",
       " 'NotImplemented',\n",
       " 'NotImplementedError',\n",
       " 'OSError',\n",
       " 'OverflowError',\n",
       " 'PendingDeprecationWarning',\n",
       " 'PermissionError',\n",
       " 'ProcessLookupError',\n",
       " 'RecursionError',\n",
       " 'ReferenceError',\n",
       " 'ResourceWarning',\n",
       " 'RuntimeError',\n",
       " 'RuntimeWarning',\n",
       " 'StopAsyncIteration',\n",
       " 'StopIteration',\n",
       " 'SyntaxError',\n",
       " 'SyntaxWarning',\n",
       " 'SystemError',\n",
       " 'SystemExit',\n",
       " 'TabError',\n",
       " 'TimeoutError',\n",
       " 'True',\n",
       " 'TypeError',\n",
       " 'UnboundLocalError',\n",
       " 'UnicodeDecodeError',\n",
       " 'UnicodeEncodeError',\n",
       " 'UnicodeError',\n",
       " 'UnicodeTranslateError',\n",
       " 'UnicodeWarning',\n",
       " 'UserWarning',\n",
       " 'ValueError',\n",
       " 'Warning',\n",
       " 'WindowsError',\n",
       " 'ZeroDivisionError',\n",
       " '__IPYTHON__',\n",
       " '__build_class__',\n",
       " '__debug__',\n",
       " '__doc__',\n",
       " '__import__',\n",
       " '__loader__',\n",
       " '__name__',\n",
       " '__package__',\n",
       " '__spec__',\n",
       " 'abs',\n",
       " 'all',\n",
       " 'any',\n",
       " 'ascii',\n",
       " 'bin',\n",
       " 'bool',\n",
       " 'breakpoint',\n",
       " 'bytearray',\n",
       " 'bytes',\n",
       " 'callable',\n",
       " 'chr',\n",
       " 'classmethod',\n",
       " 'compile',\n",
       " 'complex',\n",
       " 'copyright',\n",
       " 'credits',\n",
       " 'delattr',\n",
       " 'dict',\n",
       " 'dir',\n",
       " 'display',\n",
       " 'divmod',\n",
       " 'enumerate',\n",
       " 'eval',\n",
       " 'exec',\n",
       " 'execfile',\n",
       " 'filter',\n",
       " 'float',\n",
       " 'format',\n",
       " 'frozenset',\n",
       " 'get_ipython',\n",
       " 'getattr',\n",
       " 'globals',\n",
       " 'hasattr',\n",
       " 'hash',\n",
       " 'help',\n",
       " 'hex',\n",
       " 'id',\n",
       " 'input',\n",
       " 'int',\n",
       " 'isinstance',\n",
       " 'issubclass',\n",
       " 'iter',\n",
       " 'len',\n",
       " 'license',\n",
       " 'list',\n",
       " 'locals',\n",
       " 'map',\n",
       " 'max',\n",
       " 'memoryview',\n",
       " 'min',\n",
       " 'next',\n",
       " 'object',\n",
       " 'oct',\n",
       " 'open',\n",
       " 'ord',\n",
       " 'pow',\n",
       " 'print',\n",
       " 'property',\n",
       " 'range',\n",
       " 'repr',\n",
       " 'reversed',\n",
       " 'round',\n",
       " 'runfile',\n",
       " 'set',\n",
       " 'setattr',\n",
       " 'slice',\n",
       " 'sorted',\n",
       " 'staticmethod',\n",
       " 'str',\n",
       " 'sum',\n",
       " 'super',\n",
       " 'tuple',\n",
       " 'type',\n",
       " 'vars',\n",
       " 'zip']"
      ]
     },
     "execution_count": 41,
     "metadata": {},
     "output_type": "execute_result"
    }
   ],
   "source": [
    "dir(__builtins__)"
   ]
  },
  {
   "cell_type": "code",
   "execution_count": null,
   "id": "34f403cf",
   "metadata": {
    "id": "34f403cf",
    "outputId": "71960e31-61ae-4e44-fdc8-bce23444e66b"
   },
   "outputs": [
    {
     "data": {
      "text/plain": [
       "['ArithmeticError',\n",
       " 'AssertionError',\n",
       " 'AttributeError',\n",
       " 'BaseException',\n",
       " 'BlockingIOError',\n",
       " 'BrokenPipeError',\n",
       " 'BufferError',\n",
       " 'BytesWarning',\n",
       " 'ChildProcessError',\n",
       " 'ConnectionAbortedError',\n",
       " 'ConnectionError',\n",
       " 'ConnectionRefusedError',\n",
       " 'ConnectionResetError',\n",
       " 'DeprecationWarning',\n",
       " 'EOFError',\n",
       " 'Ellipsis',\n",
       " 'EnvironmentError',\n",
       " 'Exception',\n",
       " 'False',\n",
       " 'FileExistsError',\n",
       " 'FileNotFoundError',\n",
       " 'FloatingPointError',\n",
       " 'FutureWarning',\n",
       " 'GeneratorExit',\n",
       " 'IOError',\n",
       " 'ImportError',\n",
       " 'ImportWarning',\n",
       " 'IndentationError',\n",
       " 'IndexError',\n",
       " 'InterruptedError',\n",
       " 'IsADirectoryError',\n",
       " 'KeyError',\n",
       " 'KeyboardInterrupt',\n",
       " 'LookupError',\n",
       " 'MemoryError',\n",
       " 'ModuleNotFoundError',\n",
       " 'NameError',\n",
       " 'None',\n",
       " 'NotADirectoryError',\n",
       " 'NotImplemented',\n",
       " 'NotImplementedError',\n",
       " 'OSError',\n",
       " 'OverflowError',\n",
       " 'PendingDeprecationWarning',\n",
       " 'PermissionError',\n",
       " 'ProcessLookupError',\n",
       " 'RecursionError',\n",
       " 'ReferenceError',\n",
       " 'ResourceWarning',\n",
       " 'RuntimeError',\n",
       " 'RuntimeWarning',\n",
       " 'StopAsyncIteration',\n",
       " 'StopIteration',\n",
       " 'SyntaxError',\n",
       " 'SyntaxWarning',\n",
       " 'SystemError',\n",
       " 'SystemExit',\n",
       " 'TabError',\n",
       " 'TimeoutError',\n",
       " 'True',\n",
       " 'TypeError',\n",
       " 'UnboundLocalError',\n",
       " 'UnicodeDecodeError',\n",
       " 'UnicodeEncodeError',\n",
       " 'UnicodeError',\n",
       " 'UnicodeTranslateError',\n",
       " 'UnicodeWarning',\n",
       " 'UserWarning',\n",
       " 'ValueError',\n",
       " 'Warning',\n",
       " 'WindowsError',\n",
       " 'ZeroDivisionError',\n",
       " '__IPYTHON__',\n",
       " '__build_class__',\n",
       " '__debug__',\n",
       " '__doc__',\n",
       " '__import__',\n",
       " '__loader__',\n",
       " '__name__',\n",
       " '__package__',\n",
       " '__spec__',\n",
       " 'abs',\n",
       " 'all',\n",
       " 'any',\n",
       " 'ascii',\n",
       " 'bin',\n",
       " 'bool',\n",
       " 'breakpoint',\n",
       " 'bytearray',\n",
       " 'bytes',\n",
       " 'callable',\n",
       " 'chr',\n",
       " 'classmethod',\n",
       " 'compile',\n",
       " 'complex',\n",
       " 'copyright',\n",
       " 'credits',\n",
       " 'delattr',\n",
       " 'dict',\n",
       " 'dir',\n",
       " 'display',\n",
       " 'divmod',\n",
       " 'enumerate',\n",
       " 'eval',\n",
       " 'exec',\n",
       " 'execfile',\n",
       " 'filter',\n",
       " 'float',\n",
       " 'format',\n",
       " 'frozenset',\n",
       " 'get_ipython',\n",
       " 'getattr',\n",
       " 'globals',\n",
       " 'hasattr',\n",
       " 'hash',\n",
       " 'help',\n",
       " 'hex',\n",
       " 'id',\n",
       " 'input',\n",
       " 'int',\n",
       " 'isinstance',\n",
       " 'issubclass',\n",
       " 'iter',\n",
       " 'len',\n",
       " 'license',\n",
       " 'list',\n",
       " 'locals',\n",
       " 'map',\n",
       " 'max',\n",
       " 'memoryview',\n",
       " 'min',\n",
       " 'next',\n",
       " 'object',\n",
       " 'oct',\n",
       " 'open',\n",
       " 'ord',\n",
       " 'pow',\n",
       " 'print',\n",
       " 'property',\n",
       " 'range',\n",
       " 'repr',\n",
       " 'reversed',\n",
       " 'round',\n",
       " 'runfile',\n",
       " 'set',\n",
       " 'setattr',\n",
       " 'slice',\n",
       " 'sorted',\n",
       " 'staticmethod',\n",
       " 'str',\n",
       " 'sum',\n",
       " 'super',\n",
       " 'tuple',\n",
       " 'type',\n",
       " 'vars',\n",
       " 'zip']"
      ]
     },
     "execution_count": 43,
     "metadata": {},
     "output_type": "execute_result"
    }
   ],
   "source": [
    "# OR \n",
    "# with \"builtins\" module:\n",
    "\n",
    "import builtins\n",
    "\n",
    "dir(builtins)"
   ]
  },
  {
   "cell_type": "code",
   "execution_count": null,
   "id": "ddbb9444",
   "metadata": {
    "id": "ddbb9444",
    "outputId": "32687810-60eb-4fb7-d1bc-b1454e42da50"
   },
   "outputs": [
    {
     "name": "stdout",
     "output_type": "stream",
     "text": [
      "Help on class filter in module builtins:\n",
      "\n",
      "class filter(object)\n",
      " |  filter(function or None, iterable) --> filter object\n",
      " |  \n",
      " |  Return an iterator yielding those items of iterable for which function(item)\n",
      " |  is true. If function is None, return the items that are true.\n",
      " |  \n",
      " |  Methods defined here:\n",
      " |  \n",
      " |  __getattribute__(self, name, /)\n",
      " |      Return getattr(self, name).\n",
      " |  \n",
      " |  __iter__(self, /)\n",
      " |      Implement iter(self).\n",
      " |  \n",
      " |  __next__(self, /)\n",
      " |      Implement next(self).\n",
      " |  \n",
      " |  __reduce__(...)\n",
      " |      Return state information for pickling.\n",
      " |  \n",
      " |  ----------------------------------------------------------------------\n",
      " |  Static methods defined here:\n",
      " |  \n",
      " |  __new__(*args, **kwargs) from builtins.type\n",
      " |      Create and return a new object.  See help(type) for accurate signature.\n",
      "\n"
     ]
    }
   ],
   "source": [
    "help(filter)\n",
    "\n",
    "# Help on class filter in module builtins."
   ]
  },
  {
   "cell_type": "code",
   "execution_count": null,
   "id": "48d2e335",
   "metadata": {
    "id": "48d2e335",
    "outputId": "faec2228-ca20-4369-cd6d-b64862ace32f"
   },
   "outputs": [
    {
     "data": {
      "text/plain": [
       "'filter(function or None, iterable) --> filter object\\n\\nReturn an iterator yielding those items of iterable for which function(item)\\nis true. If function is None, return the items that are true.'"
      ]
     },
     "execution_count": 45,
     "metadata": {},
     "output_type": "execute_result"
    }
   ],
   "source": [
    "filter.__doc__"
   ]
  },
  {
   "cell_type": "code",
   "execution_count": null,
   "id": "fef1b14b",
   "metadata": {
    "id": "fef1b14b"
   },
   "outputs": [],
   "source": [
    "# you can add \"docstring\" to your user-defined function and then print it by the same way.\n",
    "\n",
    "def my_func():\n",
    "    \"\"\"My docstring is here and it's very informative\"\"\"\n",
    "    pass"
   ]
  },
  {
   "cell_type": "code",
   "execution_count": null,
   "id": "7e2c6dab",
   "metadata": {
    "id": "7e2c6dab",
    "outputId": "930009fa-2ff3-4f4c-cf79-8d70b7a9d002"
   },
   "outputs": [
    {
     "name": "stdout",
     "output_type": "stream",
     "text": [
      "Help on function my_func in module __main__:\n",
      "\n",
      "my_func()\n",
      "    My docstring is here and it's very informative\n",
      "\n"
     ]
    }
   ],
   "source": [
    "help(my_func)"
   ]
  },
  {
   "cell_type": "code",
   "execution_count": null,
   "id": "28478154",
   "metadata": {
    "id": "28478154",
    "outputId": "170d5e13-da5c-4782-b7ac-a5b506cc1a38"
   },
   "outputs": [
    {
     "data": {
      "text/plain": [
       "\"My docstring is here and it's very informative\""
      ]
     },
     "execution_count": 48,
     "metadata": {},
     "output_type": "execute_result"
    }
   ],
   "source": [
    "my_func.__doc__"
   ]
  },
  {
   "cell_type": "markdown",
   "id": "e2b8174a",
   "metadata": {
    "id": "e2b8174a"
   },
   "source": [
    "## all() & any()functions:"
   ]
  },
  {
   "cell_type": "code",
   "execution_count": null,
   "id": "76ceb374",
   "metadata": {
    "id": "76ceb374",
    "outputId": "e9b96965-353d-4aa9-f74a-4d0beb4875dc"
   },
   "outputs": [
    {
     "data": {
      "text/plain": [
       "False"
      ]
     },
     "execution_count": 56,
     "metadata": {},
     "output_type": "execute_result"
    }
   ],
   "source": [
    "bool(\"\")"
   ]
  },
  {
   "cell_type": "code",
   "execution_count": null,
   "id": "be139092",
   "metadata": {
    "id": "be139092"
   },
   "outputs": [],
   "source": [
    "all((1, 2, \"\"))\n",
    "\n",
    "# If even an element of iterable is Falsy, the result is False"
   ]
  },
  {
   "cell_type": "code",
   "execution_count": null,
   "id": "038a824f",
   "metadata": {
    "id": "038a824f",
    "outputId": "2f7fb324-ad35-4884-bcdc-19545cf52ca3"
   },
   "outputs": [
    {
     "data": {
      "text/plain": [
       "True"
      ]
     },
     "execution_count": 57,
     "metadata": {},
     "output_type": "execute_result"
    }
   ],
   "source": [
    "all(\"\")"
   ]
  },
  {
   "cell_type": "code",
   "execution_count": null,
   "id": "eb474b68",
   "metadata": {
    "id": "eb474b68",
    "outputId": "8a16b0f8-75c3-4869-afab-80fd72aacd68"
   },
   "outputs": [
    {
     "name": "stdout",
     "output_type": "stream",
     "text": [
      "True\n",
      "False\n",
      "True\n"
     ]
    }
   ],
   "source": [
    "names = [\"susan\", \"tom\", \"False\"]\n",
    "mood = [\"happy\", \"sad\", 0]\n",
    "empty = {}\n",
    "\n",
    "print(all(names))\n",
    "print(all(mood))\n",
    "print(all(empty))\n",
    "\n",
    "# print(all(names), all(mood), all(empty), sep =\"\\n\")"
   ]
  },
  {
   "cell_type": "code",
   "execution_count": null,
   "id": "0d385f82",
   "metadata": {
    "id": "0d385f82",
    "outputId": "4642f680-23e3-4bef-9430-367838639155"
   },
   "outputs": [
    {
     "name": "stdout",
     "output_type": "stream",
     "text": [
      "True\n",
      "True\n",
      "False\n"
     ]
    }
   ],
   "source": [
    "listA = [\"susan\", \"tom\", False]\n",
    "listB = [None,(), 0]\n",
    "empty = {}\n",
    "\n",
    "print(any(names), any(mood), any(empty), sep =\"\\n\")"
   ]
  },
  {
   "cell_type": "code",
   "execution_count": null,
   "id": "125b055e",
   "metadata": {
    "id": "125b055e"
   },
   "outputs": [],
   "source": [
    "names = [\"susan\", \"tom\", \"False\"]\n",
    "mood = [\"happy\", \"sad\", 0]\n",
    "empty = {}\n",
    "\n",
    "print(all(names))\n",
    "print(all(mood))\n",
    "print(all(empty))"
   ]
  },
  {
   "cell_type": "markdown",
   "id": "dc188324",
   "metadata": {
    "id": "dc188324"
   },
   "source": [
    "## filter() function:\n",
    "\n",
    "shift + tab + tab:\n",
    "\n",
    "**filter(function or None, iterable) --> filter object**\n",
    "\n",
    "**Return an iterator yielding those items of iterable for which function(item)\n",
    "is true. If function is None, return the items that are true.**"
   ]
  },
  {
   "cell_type": "code",
   "execution_count": null,
   "id": "362bf465",
   "metadata": {
    "id": "362bf465"
   },
   "outputs": [],
   "source": [
    "listA = [\"susan\", \"tom\", False, 0, \"0\"]\n",
    "\n",
    "filtered_list = filter(None, listA)"
   ]
  },
  {
   "cell_type": "code",
   "execution_count": null,
   "id": "2bc79a47",
   "metadata": {
    "id": "2bc79a47",
    "outputId": "040b903a-3b2f-4c5b-94ed-3896d151e0f4"
   },
   "outputs": [
    {
     "name": "stdout",
     "output_type": "stream",
     "text": [
      "the filtered elements are:\n",
      "susan\n",
      "tom\n",
      "0\n"
     ]
    }
   ],
   "source": [
    "print(\"the filtered elements are:\")\n",
    "\n",
    "for i in filtered_list :\n",
    "    print(i)"
   ]
  },
  {
   "cell_type": "markdown",
   "id": "3b1fc20b",
   "metadata": {
    "id": "3b1fc20b"
   },
   "source": [
    "## enumerate() function:\n",
    "\n",
    "**enumerate(iterable, start=0) --> Return an enumerate object.**\n",
    "\n",
    "  iterable --> an object supporting iteration\n",
    "\n",
    "**The enumerate object yields pairs containing a count (from start, which\n",
    "defaults to zero) and a value yielded by the iterable argument.**"
   ]
  },
  {
   "cell_type": "code",
   "execution_count": null,
   "id": "8e6e41f3",
   "metadata": {
    "id": "8e6e41f3",
    "outputId": "6f03ad08-9af8-4083-e051-ac3fb1f5b641"
   },
   "outputs": [
    {
     "name": "stdout",
     "output_type": "stream",
     "text": [
      "[(0, 'allly'), (1, 'kirby'), (2, 'betty')]\n"
     ]
    }
   ],
   "source": [
    "names = [\"allly\", \"kirby\", \"betty\"]\n",
    "\n",
    "counter = 0\n",
    "\n",
    "list_enum = []\n",
    "\n",
    "for i in names :\n",
    "    list_enum.append((counter, i))\n",
    "    counter += 1\n",
    "print(list_enum)"
   ]
  },
  {
   "cell_type": "code",
   "execution_count": null,
   "id": "270f64c1",
   "metadata": {
    "id": "270f64c1",
    "outputId": "36e7151a-c1c3-4858-a154-d47aef1d899f"
   },
   "outputs": [
    {
     "name": "stdout",
     "output_type": "stream",
     "text": [
      "[(0, 'allly'), (1, 'kirby'), (2, 'betty')]\n"
     ]
    }
   ],
   "source": [
    "print(list(enumerate(names)))"
   ]
  },
  {
   "cell_type": "code",
   "execution_count": null,
   "id": "d4a04929",
   "metadata": {
    "id": "d4a04929",
    "outputId": "4e476ff5-e8d2-4398-d3d1-28e90d773429"
   },
   "outputs": [
    {
     "data": {
      "text/plain": [
       "<enumerate at 0x1c29d794640>"
      ]
     },
     "execution_count": 62,
     "metadata": {},
     "output_type": "execute_result"
    }
   ],
   "source": [
    "grocery = [\"bread\", \"water\", \"olive\"]\n",
    "enum_groc = enumerate(grocery)\n",
    "enum_groc"
   ]
  },
  {
   "cell_type": "code",
   "execution_count": null,
   "id": "e365682e",
   "metadata": {
    "id": "e365682e",
    "outputId": "25030000-1c8f-40e7-e477-dfc469c26bc7"
   },
   "outputs": [
    {
     "name": "stdout",
     "output_type": "stream",
     "text": [
      "<class 'enumerate'>\n"
     ]
    }
   ],
   "source": [
    "print(type(enum_groc))"
   ]
  },
  {
   "cell_type": "code",
   "execution_count": null,
   "id": "2a505a25",
   "metadata": {
    "id": "2a505a25",
    "outputId": "33cf1876-969c-470f-f894-9f2b29ddcff3"
   },
   "outputs": [
    {
     "name": "stdout",
     "output_type": "stream",
     "text": [
      "[(5, 'bread'), (6, 'water'), (7, 'olive')]\n"
     ]
    }
   ],
   "source": [
    "enum_grocery = enumerate(grocery, 5)\n",
    "\n",
    "print(list(enum_grocery))"
   ]
  },
  {
   "cell_type": "code",
   "execution_count": null,
   "id": "b678daca",
   "metadata": {
    "id": "b678daca",
    "outputId": "38d29409-3c66-4a0b-9621-92ce60e13fa3"
   },
   "outputs": [
    {
     "data": {
      "text/plain": [
       "{5: 'bread', 6: 'water', 7: 'olive'}"
      ]
     },
     "execution_count": 41,
     "metadata": {},
     "output_type": "execute_result"
    }
   ],
   "source": [
    "enum_grocery = enumerate(grocery, 5)\n",
    "\n",
    "dict(enum_grocery)"
   ]
  },
  {
   "cell_type": "markdown",
   "id": "1957abd0",
   "metadata": {
    "id": "1957abd0"
   },
   "source": [
    "## min() function:\n",
    "\n",
    "**min(iterable, *[, default=obj, key=func]) -> value**\n",
    "**min(arg1, arg2, *args, *[, key=func]) -> value**\n",
    "\n",
    "With a single iterable argument, return its smallest item. The default keyword-only argument specifies an object to return if the provided iterable is empty. With two or more arguments, return the smallest argument.\n",
    "\n",
    "## max() function:\n",
    "\n",
    "**max(iterable, *[, default=obj, key=func]) -> value**\n",
    "**max(arg1, arg2, *args, *[, key=func]) -> value**\n",
    "\n",
    "With a single iterable argument, return its biggest item. The default keyword-only argument specifies an object to return if the provided iterable is empty. With two or more arguments, return the largest argument."
   ]
  },
  {
   "cell_type": "code",
   "execution_count": null,
   "id": "15f3582b",
   "metadata": {
    "id": "15f3582b",
    "outputId": "c7e2ce6a-b11d-4fd4-fec5-f3a93f0ccdce"
   },
   "outputs": [
    {
     "data": {
      "text/plain": [
       "'a'"
      ]
     },
     "execution_count": 64,
     "metadata": {},
     "output_type": "execute_result"
    }
   ],
   "source": [
    "min(\"enumerate\")"
   ]
  },
  {
   "cell_type": "code",
   "execution_count": null,
   "id": "ca38d0b1",
   "metadata": {
    "id": "ca38d0b1",
    "outputId": "c89dc96c-494a-4df3-9e77-2a72fab69a52"
   },
   "outputs": [
    {
     "data": {
      "text/plain": [
       "'u'"
      ]
     },
     "execution_count": 65,
     "metadata": {},
     "output_type": "execute_result"
    }
   ],
   "source": [
    "max(\"enumerate\")"
   ]
  },
  {
   "cell_type": "code",
   "execution_count": null,
   "id": "a87a11b2",
   "metadata": {
    "id": "a87a11b2",
    "outputId": "ab6afc2a-354c-4c2c-fbf3-b987520d385f"
   },
   "outputs": [
    {
     "data": {
      "text/plain": [
       "5"
      ]
     },
     "execution_count": 48,
     "metadata": {},
     "output_type": "execute_result"
    }
   ],
   "source": [
    "max(1,2,3,4,5)"
   ]
  },
  {
   "cell_type": "code",
   "execution_count": null,
   "id": "c232c248",
   "metadata": {
    "id": "c232c248",
    "outputId": "94f0d7b5-65e8-4f78-956a-2e52c5421def"
   },
   "outputs": [
    {
     "data": {
      "text/plain": [
       "1"
      ]
     },
     "execution_count": 49,
     "metadata": {},
     "output_type": "execute_result"
    }
   ],
   "source": [
    "min(1, 2, 3, 4, 5)"
   ]
  },
  {
   "cell_type": "code",
   "execution_count": null,
   "id": "c0e448fb",
   "metadata": {
    "id": "c0e448fb",
    "outputId": "2dacc51f-e196-4e9c-e618-c6ed6cfa2b9d"
   },
   "outputs": [
    {
     "data": {
      "text/plain": [
       "1"
      ]
     },
     "execution_count": 50,
     "metadata": {},
     "output_type": "execute_result"
    }
   ],
   "source": [
    "min([1,2,3,4,5])"
   ]
  },
  {
   "cell_type": "markdown",
   "id": "884768c0",
   "metadata": {
    "id": "884768c0"
   },
   "source": [
    "## ord() function:\n",
    "\n",
    "**ord(c, /)**\n",
    "\n",
    "**Return the Unicode code point for a one-character string.**"
   ]
  },
  {
   "cell_type": "code",
   "execution_count": null,
   "id": "389a4b38",
   "metadata": {
    "id": "389a4b38",
    "outputId": "b9eb7b62-6ec8-4fe8-e172-650bbb9386cf"
   },
   "outputs": [
    {
     "data": {
      "text/plain": [
       "97"
      ]
     },
     "execution_count": 46,
     "metadata": {},
     "output_type": "execute_result"
    }
   ],
   "source": [
    "ord(\"a\")"
   ]
  },
  {
   "cell_type": "code",
   "execution_count": null,
   "id": "084bc2f0",
   "metadata": {
    "id": "084bc2f0",
    "outputId": "f20ff5b0-ec41-4f50-f513-df93b58f9c3a"
   },
   "outputs": [
    {
     "data": {
      "text/plain": [
       "122"
      ]
     },
     "execution_count": 47,
     "metadata": {},
     "output_type": "execute_result"
    }
   ],
   "source": [
    "ord(\"z\")"
   ]
  },
  {
   "cell_type": "markdown",
   "id": "b3750387",
   "metadata": {
    "id": "b3750387"
   },
   "source": [
    "## sum() function:\n",
    "\n",
    "**sum(iterable, /, start=0)**\n",
    "\n",
    "**Return the sum of a 'start' value (default: 0) plus an iterable of numbers**\n",
    "\n",
    "When the iterable is empty, return the start value.\n",
    "This function is intended specifically for use with numeric values and may\n",
    "reject non-numeric types."
   ]
  },
  {
   "cell_type": "code",
   "execution_count": null,
   "id": "b88ac812",
   "metadata": {
    "id": "b88ac812",
    "outputId": "cb14e3d0-8f8b-4136-eef8-61832338d6ae"
   },
   "outputs": [
    {
     "ename": "TypeError",
     "evalue": "sum() takes at most 2 arguments (5 given)",
     "output_type": "error",
     "traceback": [
      "\u001b[1;31m---------------------------------------------------------------------------\u001b[0m",
      "\u001b[1;31mTypeError\u001b[0m                                 Traceback (most recent call last)",
      "Input \u001b[1;32mIn [51]\u001b[0m, in \u001b[0;36m<cell line: 1>\u001b[1;34m()\u001b[0m\n\u001b[1;32m----> 1\u001b[0m \u001b[38;5;28;43msum\u001b[39;49m\u001b[43m(\u001b[49m\u001b[38;5;241;43m1\u001b[39;49m\u001b[43m,\u001b[49m\u001b[43m \u001b[49m\u001b[38;5;241;43m2\u001b[39;49m\u001b[43m,\u001b[49m\u001b[43m \u001b[49m\u001b[38;5;241;43m3\u001b[39;49m\u001b[43m,\u001b[49m\u001b[43m \u001b[49m\u001b[38;5;241;43m4\u001b[39;49m\u001b[43m,\u001b[49m\u001b[43m \u001b[49m\u001b[38;5;241;43m5\u001b[39;49m\u001b[43m)\u001b[49m\n",
      "\u001b[1;31mTypeError\u001b[0m: sum() takes at most 2 arguments (5 given)"
     ]
    }
   ],
   "source": [
    "sum(1, 2, 3, 4, 5)\n",
    "\n",
    "# error! (sum() takes at most 2 arguments (5 given))\n",
    "\n",
    "# unlike the min and max functions"
   ]
  },
  {
   "cell_type": "code",
   "execution_count": null,
   "id": "4ae68113",
   "metadata": {
    "id": "4ae68113",
    "outputId": "11a04035-aefc-4673-fc06-d3ec4ab1c4c3"
   },
   "outputs": [
    {
     "data": {
      "text/plain": [
       "15"
      ]
     },
     "execution_count": 52,
     "metadata": {},
     "output_type": "execute_result"
    }
   ],
   "source": [
    "sum([1, 2, 3, 4, 5])"
   ]
  },
  {
   "cell_type": "markdown",
   "id": "6e179a28",
   "metadata": {
    "id": "6e179a28"
   },
   "source": [
    "## round() function:\n",
    "\n",
    "**round(number, ndigits=None)**\n",
    "\n",
    "**Round a number to a given precision in decimal digits.**\n",
    "\n",
    "The return value is an integer if ndigits is omitted or None.  Otherwise\n",
    "the return value has the same type as the number.  ndigits may be negative."
   ]
  },
  {
   "cell_type": "code",
   "execution_count": null,
   "id": "f5e60b25",
   "metadata": {
    "id": "f5e60b25",
    "outputId": "8121ee7c-93c2-4b9b-a519-a0b3651a1387"
   },
   "outputs": [
    {
     "name": "stdout",
     "output_type": "stream",
     "text": [
      "5.239\n",
      "3.67\n",
      "3.67\n"
     ]
    }
   ],
   "source": [
    "print(round(5.2387, 3))\n",
    "print(round(3.665, 2))\n",
    "print(round(3.675, 2))  # !!!\n"
   ]
  }
 ],
 "metadata": {
  "colab": {
   "provenance": []
  },
  "kernelspec": {
   "display_name": "Python 3 (ipykernel)",
   "language": "python",
   "name": "python3"
  },
  "language_info": {
   "codemirror_mode": {
    "name": "ipython",
    "version": 3
   },
   "file_extension": ".py",
   "mimetype": "text/x-python",
   "name": "python",
   "nbconvert_exporter": "python",
   "pygments_lexer": "ipython3",
   "version": "3.11.3"
  }
 },
 "nbformat": 4,
 "nbformat_minor": 5
}
