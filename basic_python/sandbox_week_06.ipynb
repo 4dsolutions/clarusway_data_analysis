{
 "cells": [
  {
   "cell_type": "markdown",
   "id": "523af7bf-e96c-4c88-b5b0-598c87cd6c0c",
   "metadata": {},
   "source": [
    "#### Clarusway Python\n",
    "\n",
    "* [Instructor Landing Page](landing_page.ipynb)\n",
    "* <a href=\"https://colab.research.google.com/github/4dsolutions/clarusway_data_analysis/blob/main/basic_python/sandbox_week_06.ipynb\"><img align=\"left\" src=\"https://colab.research.google.com/assets/colab-badge.svg\" alt=\"Open in Colab\" title=\"Open and Execute in Google Colaboratory\"></a>\n",
    "* [![nbviewer](https://raw.githubusercontent.com/jupyter/design/master/logos/Badges/nbviewer_badge.svg)](https://nbviewer.org/github/4dsolutions/clarusway_data_analysis/blob/main/basic_python/sandbox_week_06.ipynb)"
   ]
  },
  {
   "cell_type": "markdown",
   "id": "9d844fba-4131-4561-b733-6e62bf2e9693",
   "metadata": {},
   "source": [
    "# Sandbox 6: Looking Back; Looking Ahead"
   ]
  },
  {
   "cell_type": "markdown",
   "id": "222b7ab8-9efd-4916-9ced-cff592612102",
   "metadata": {},
   "source": [
    "<a data-flickr-embed=\"true\" href=\"https://www.flickr.com/photos/kirbyurner/54149728768/in/dateposted/\" title=\"Monty Python Allusion\"><img src=\"https://live.staticflickr.com/65535/54149728768_34d3453331.jpg\" width=\"500\" height=\"279\" alt=\"Monty Python Allusion\"/></a><script async src=\"//embedr.flickr.com/assets/client-code.js\" charset=\"utf-8\"></script>"
   ]
  },
  {
   "cell_type": "code",
   "execution_count": 43,
   "id": "7d24d63d-74f7-49a4-8f5d-5a05c29961e0",
   "metadata": {},
   "outputs": [],
   "source": [
    "from IPython.display import YouTubeVideo # you only need to do this once, then go like..."
   ]
  },
  {
   "cell_type": "code",
   "execution_count": 44,
   "id": "d8a4d61b-08d2-4b09-8bef-96c440b04748",
   "metadata": {},
   "outputs": [
    {
     "data": {
      "image/jpeg": "[encoded data removed]",
      "text/html": [
       "\n",
       "        <iframe\n",
       "            width=\"400\"\n",
       "            height=\"300\"\n",
       "            src=\"https://www.youtube.com/embed/4vuW6tQ0218\"\n",
       "            frameborder=\"0\"\n",
       "            allowfullscreen\n",
       "            \n",
       "        ></iframe>\n",
       "        "
      ],
      "text/plain": [
       "<IPython.lib.display.YouTubeVideo at 0x113dcb010>"
      ]
     },
     "execution_count": 44,
     "metadata": {},
     "output_type": "execute_result"
    }
   ],
   "source": [
    "YouTubeVideo(\"4vuW6tQ0218\") # every Youtube comes with a unique address"
   ]
  },
  {
   "cell_type": "markdown",
   "id": "5436f291-a6ad-4247-9be3-51655db927f5",
   "metadata": {},
   "source": [
    "## Week 6\n",
    "\n",
    "Monday:\n",
    "\n",
    "These will be some of the highlights although not necessarily in this order (a set, not a list):\n",
    "\n",
    "* Upcoming Schedule (holiday breaks, final sessions)\n",
    "* LMS: Modules and Packages (additional material)\n",
    "* Statistics Ahead (intro)\n",
    "* Transition to DA (completing Python Prep)\n",
    "* DataFrame Previews (Data Analysis Ahead)\n",
    "* Hands on Practice (more about callables and their args and kwargs)\n",
    "* The Rest of Python (ongoing theme -- there's always a little more)\n",
    "\n",
    "My Python Warmup (same repo, different subfolder) has some relevant [intro material](https://github.com/4dsolutions/clarusway_data_analysis/blob/main/python_warm_up/warmup_3rd_party_datascience.ipynb)."
   ]
  },
  {
   "cell_type": "markdown",
   "id": "4e64cd44-ad6d-452f-9519-944203043bc5",
   "metadata": {},
   "source": [
    "## Playing with Foods"
   ]
  },
  {
   "cell_type": "code",
   "execution_count": 1,
   "id": "1ddff8dd-1482-48a3-a9ab-199fa39babb4",
   "metadata": {},
   "outputs": [],
   "source": [
    "foods = [chr(codepoint) for codepoint in range(127815, 127815 + 50)]"
   ]
  },
  {
   "cell_type": "code",
   "execution_count": 2,
   "id": "38a844c2-df74-4c80-bdb4-b1883e0f13dd",
   "metadata": {},
   "outputs": [
    {
     "name": "stdout",
     "output_type": "stream",
     "text": [
      "['🍇', '🍈', '🍉', '🍊', '🍋', '🍌', '🍍', '🍎', '🍏', '🍐', '🍑', '🍒', '🍓', '🍔', '🍕', '🍖', '🍗', '🍘', '🍙', '🍚', '🍛', '🍜', '🍝', '🍞', '🍟', '🍠', '🍡', '🍢', '🍣', '🍤', '🍥', '🍦', '🍧', '🍨', '🍩', '🍪', '🍫', '🍬', '🍭', '🍮', '🍯', '🍰', '🍱', '🍲', '🍳', '🍴', '🍵', '🍶', '🍷', '🍸']\n"
     ]
    }
   ],
   "source": [
    "print(foods)"
   ]
  },
  {
   "cell_type": "code",
   "execution_count": 3,
   "id": "a472af34-b0f2-4051-80d7-e01247dcc88d",
   "metadata": {},
   "outputs": [],
   "source": [
    "from random import shuffle"
   ]
  },
  {
   "cell_type": "code",
   "execution_count": 4,
   "id": "59f4f6bc-4eed-43aa-80e4-e64475c3f767",
   "metadata": {},
   "outputs": [
    {
     "name": "stdout",
     "output_type": "stream",
     "text": [
      "['🍉', '🍦', '🍩', '🍦', '🍩', '🍦', '🍦', '🍦', '🍉', '🍉', '🍦', '🍉', '🍩', '🍉', '🍉', '🍦', '🍦', '🍉', '🍦', '🍦']\n"
     ]
    }
   ],
   "source": [
    "test_list = list('🍦' * 10) + list('🍉' * 7) + list('🍩' * 3)\n",
    "shuffle(test_list)\n",
    "\n",
    "print(test_list)"
   ]
  },
  {
   "cell_type": "code",
   "execution_count": 5,
   "id": "8470a824-c459-4e07-bfc7-5af945513acf",
   "metadata": {},
   "outputs": [
    {
     "data": {
      "text/plain": [
       "7"
      ]
     },
     "execution_count": 5,
     "metadata": {},
     "output_type": "execute_result"
    }
   ],
   "source": [
    "test_list.count('🍉')"
   ]
  },
  {
   "cell_type": "code",
   "execution_count": 6,
   "id": "e85ad8cd-f027-4484-bd04-492cc609c510",
   "metadata": {},
   "outputs": [
    {
     "data": {
      "text/plain": [
       "10"
      ]
     },
     "execution_count": 6,
     "metadata": {},
     "output_type": "execute_result"
    }
   ],
   "source": [
    "max([test_list.count(food) for food in test_list])"
   ]
  },
  {
   "cell_type": "code",
   "execution_count": 7,
   "id": "9e88a69a-f767-45c1-9334-1df95b0cadc4",
   "metadata": {},
   "outputs": [
    {
     "name": "stdout",
     "output_type": "stream",
     "text": [
      "Help on built-in function max in module builtins:\n",
      "\n",
      "max(...)\n",
      "    max(iterable, *[, default=obj, key=func]) -> value\n",
      "    max(arg1, arg2, *args, *[, key=func]) -> value\n",
      "    \n",
      "    With a single iterable argument, return its biggest item. The\n",
      "    default keyword-only argument specifies an object to return if\n",
      "    the provided iterable is empty.\n",
      "    With two or more arguments, return the largest argument.\n",
      "\n"
     ]
    }
   ],
   "source": [
    "help(max)"
   ]
  },
  {
   "cell_type": "code",
   "execution_count": 8,
   "id": "ae927649-f958-405b-b0ea-1e1c6f3ec600",
   "metadata": {},
   "outputs": [
    {
     "data": {
      "text/plain": [
       "'🍦'"
      ]
     },
     "execution_count": 8,
     "metadata": {},
     "output_type": "execute_result"
    }
   ],
   "source": [
    "max(test_list, key=test_list.count)  # which is highest count?"
   ]
  },
  {
   "cell_type": "code",
   "execution_count": 9,
   "id": "125d2a1d-648e-4ab9-bcb7-c520dc3507a6",
   "metadata": {},
   "outputs": [
    {
     "data": {
      "text/plain": [
       "'🍩'"
      ]
     },
     "execution_count": 9,
     "metadata": {},
     "output_type": "execute_result"
    }
   ],
   "source": [
    "max(test_list, key=ord)  # hightest codepoint"
   ]
  },
  {
   "cell_type": "markdown",
   "id": "5baecd44-ccd7-432c-943b-232896ac14b1",
   "metadata": {},
   "source": [
    "Emojis may seem a little silly but we use them as a reminder of the scope of Unicode, the basis of Python's native string type (str).\n",
    "\n",
    "<a data-flickr-embed=\"true\" href=\"https://www.flickr.com/photos/kirbyurner/29832307687/in/album-72177720296706479\" title=\"Unicode on Windows\"><img src=\"https://live.staticflickr.com/1847/29832307687_0aee594ec5_c.jpg\" width=\"800\" height=\"551\" alt=\"Unicode on Windows\"/></a><script async src=\"//embedr.flickr.com/assets/client-code.js\" charset=\"utf-8\"></script>"
   ]
  },
  {
   "cell_type": "markdown",
   "id": "3354b778-1ad4-4f15-b664-97590f4a5cbb",
   "metadata": {},
   "source": [
    "## The built-in map function\n",
    "\n",
    "map is a higher order function, meaning it takes a function as its argument, followed by an iterator. \n",
    "\n",
    "The function may be a named function, or perhaps a lambda expression.\n",
    "\n",
    "Languages that allow functions to also play the role of arguments are in a class by themselves. Python is one of them."
   ]
  },
  {
   "cell_type": "code",
   "execution_count": 10,
   "id": "9c08424e-ad80-424d-9884-3dfb5d4bb37d",
   "metadata": {},
   "outputs": [
    {
     "name": "stdout",
     "output_type": "stream",
     "text": [
      "Help on class map in module builtins:\n",
      "\n",
      "class map(object)\n",
      " |  map(func, *iterables) --> map object\n",
      " |  \n",
      " |  Make an iterator that computes the function using arguments from\n",
      " |  each of the iterables.  Stops when the shortest iterable is exhausted.\n",
      " |  \n",
      " |  Methods defined here:\n",
      " |  \n",
      " |  __getattribute__(self, name, /)\n",
      " |      Return getattr(self, name).\n",
      " |  \n",
      " |  __iter__(self, /)\n",
      " |      Implement iter(self).\n",
      " |  \n",
      " |  __next__(self, /)\n",
      " |      Implement next(self).\n",
      " |  \n",
      " |  __reduce__(...)\n",
      " |      Return state information for pickling.\n",
      " |  \n",
      " |  ----------------------------------------------------------------------\n",
      " |  Static methods defined here:\n",
      " |  \n",
      " |  __new__(*args, **kwargs) from builtins.type\n",
      " |      Create and return a new object.  See help(type) for accurate signature.\n",
      "\n"
     ]
    }
   ],
   "source": [
    "help(map)"
   ]
  },
  {
   "cell_type": "code",
   "execution_count": 11,
   "id": "6b5d107a-8146-4939-a44a-25d3fb7fd7e4",
   "metadata": {},
   "outputs": [],
   "source": [
    "m = map(lambda x, y, z: x + y + z, (1,2), (3,4), (10, 10))  # reminds of zip"
   ]
  },
  {
   "cell_type": "code",
   "execution_count": 12,
   "id": "0d44782b-069b-441c-9a44-d4caf2fbd3c1",
   "metadata": {},
   "outputs": [
    {
     "data": {
      "text/plain": [
       "14"
      ]
     },
     "execution_count": 12,
     "metadata": {},
     "output_type": "execute_result"
    }
   ],
   "source": [
    "next(m)"
   ]
  },
  {
   "cell_type": "code",
   "execution_count": 13,
   "id": "26ce8f6f-75c1-4851-9b2a-f731e46b3146",
   "metadata": {},
   "outputs": [
    {
     "data": {
      "text/plain": [
       "16"
      ]
     },
     "execution_count": 13,
     "metadata": {},
     "output_type": "execute_result"
    }
   ],
   "source": [
    "next(m)"
   ]
  },
  {
   "cell_type": "code",
   "execution_count": 14,
   "id": "2a682764-4d24-4b56-ab74-5aacfdf4d965",
   "metadata": {},
   "outputs": [],
   "source": [
    "pow2 = map(lambda x: x**2, range(20))"
   ]
  },
  {
   "cell_type": "code",
   "execution_count": 15,
   "id": "9620a172-6467-4c4b-a50d-7738bb920b99",
   "metadata": {},
   "outputs": [
    {
     "name": "stdout",
     "output_type": "stream",
     "text": [
      "[0, 1, 4, 9, 16, 25, 36, 49, 64, 81, 100, 121, 144, 169, 196, 225, 256, 289, 324, 361]\n"
     ]
    }
   ],
   "source": [
    "print(list(pow2))"
   ]
  },
  {
   "cell_type": "markdown",
   "id": "38870917-ba03-46c0-9db0-1fb8a0a624e9",
   "metadata": {},
   "source": [
    "## Variable number of arguments\n",
    "\n",
    "Perhaps much sooner than you will need to write your own functions, you will want to get help on what callables are already out there.  In that case, understanding the role of * and / helps a lot.\n",
    "\n",
    "The * used alone means: only named arguments to its right.\n",
    "The / used alone means: only positionals to its left.\n",
    "\n",
    "If / is used, then the ordinary practice of being able to pass by name, even to parameters with no default value, is suspended."
   ]
  },
  {
   "cell_type": "code",
   "execution_count": 48,
   "id": "30ad264d-d5ea-4aec-82a9-1cb01e79568e",
   "metadata": {},
   "outputs": [
    {
     "data": {
      "text/plain": [
       "3"
      ]
     },
     "execution_count": 48,
     "metadata": {},
     "output_type": "execute_result"
    }
   ],
   "source": [
    "def func1(a, b):\n",
    "    return a + b\n",
    "\n",
    "func1(b=1, a=2)"
   ]
  },
  {
   "cell_type": "code",
   "execution_count": 49,
   "id": "d9b151b5-caff-4b1b-9c2a-4f71e4b6f525",
   "metadata": {},
   "outputs": [
    {
     "data": {
      "text/plain": [
       "3"
      ]
     },
     "execution_count": 49,
     "metadata": {},
     "output_type": "execute_result"
    }
   ],
   "source": [
    "def func2(a, b, /):\n",
    "    return a + b\n",
    "\n",
    "func2(1, 2)"
   ]
  },
  {
   "cell_type": "code",
   "execution_count": 50,
   "id": "6c6c49af-d5af-43ee-8027-642262db776a",
   "metadata": {},
   "outputs": [
    {
     "name": "stdout",
     "output_type": "stream",
     "text": [
      "Nope!\n"
     ]
    }
   ],
   "source": [
    "try:\n",
    "    func2(b=1, a=2)\n",
    "except:\n",
    "    print(\"Nope!\")"
   ]
  },
  {
   "cell_type": "code",
   "execution_count": 16,
   "id": "11fbb612-26c3-4283-a0bf-f50f5938cc64",
   "metadata": {},
   "outputs": [],
   "source": [
    "def average(*all_args):\n",
    "    return sum(all_args)/len(all_args)"
   ]
  },
  {
   "cell_type": "code",
   "execution_count": 17,
   "id": "47fb83ea-6390-44f4-aa2e-783204d70399",
   "metadata": {},
   "outputs": [
    {
     "data": {
      "text/plain": [
       "3.111111111111111"
      ]
     },
     "execution_count": 17,
     "metadata": {},
     "output_type": "execute_result"
    }
   ],
   "source": [
    "average(3,2,4,5,1,4,0,1,8)"
   ]
  },
  {
   "cell_type": "code",
   "execution_count": null,
   "id": "3fc7ee92-ea3c-4689-9791-aa7a0f5aaa7d",
   "metadata": {},
   "outputs": [],
   "source": []
  },
  {
   "cell_type": "markdown",
   "id": "279ec16b-1333-4e1e-8868-141be36c1d0c",
   "metadata": {},
   "source": [
    "## Galton Board and Pascal's Triangle\n",
    "\n",
    "Here's some raw material for thinking more about statistics.\n",
    "\n",
    "![](http://4dsolutions.net/ocn/graphics/randtrianim.gif)"
   ]
  },
  {
   "cell_type": "code",
   "execution_count": 18,
   "id": "8e6979fc-94b1-4d67-885d-e568240e8f55",
   "metadata": {},
   "outputs": [],
   "source": [
    "from pascal import pascal"
   ]
  },
  {
   "cell_type": "code",
   "execution_count": 19,
   "id": "fe3a4dbc-8ce5-4d5e-89d6-c263ee2304ed",
   "metadata": {},
   "outputs": [],
   "source": [
    "p = pascal()"
   ]
  },
  {
   "cell_type": "code",
   "execution_count": 20,
   "id": "23297df0-6560-4c1b-b4e2-cfc81ed03ab7",
   "metadata": {},
   "outputs": [
    {
     "data": {
      "text/plain": [
       "[1]"
      ]
     },
     "execution_count": 20,
     "metadata": {},
     "output_type": "execute_result"
    }
   ],
   "source": [
    "next(p)"
   ]
  },
  {
   "cell_type": "code",
   "execution_count": 21,
   "id": "05e1e139-ee2a-433b-acce-d600d66ee58e",
   "metadata": {},
   "outputs": [
    {
     "name": "stdout",
     "output_type": "stream",
     "text": [
      "[1, 11, 55, 165, 330, 462, 462, 330, 165, 55, 11, 1]\n"
     ]
    }
   ],
   "source": [
    "for _ in range(10):\n",
    "    next(p)\n",
    "print(next(p))"
   ]
  },
  {
   "cell_type": "code",
   "execution_count": 22,
   "id": "629d2f53-3b60-4db1-a328-c1a45092c085",
   "metadata": {},
   "outputs": [],
   "source": [
    "from IPython.display import YouTubeVideo"
   ]
  },
  {
   "cell_type": "code",
   "execution_count": 23,
   "id": "5db62034-a574-43d3-ab26-28a7feee25ad",
   "metadata": {},
   "outputs": [
    {
     "data": {
      "image/jpeg": "[encoded data removed]",
      "text/html": [
       "\n",
       "        <iframe\n",
       "            width=\"400\"\n",
       "            height=\"300\"\n",
       "            src=\"https://www.youtube.com/embed/EvHiee7gs9Y\"\n",
       "            frameborder=\"0\"\n",
       "            allowfullscreen\n",
       "            \n",
       "        ></iframe>\n",
       "        "
      ],
      "text/plain": [
       "<IPython.lib.display.YouTubeVideo at 0x10f653450>"
      ]
     },
     "execution_count": 23,
     "metadata": {},
     "output_type": "execute_result"
    }
   ],
   "source": [
    "YouTubeVideo(\"EvHiee7gs9Y\")"
   ]
  },
  {
   "cell_type": "markdown",
   "id": "2d059215-037c-44ce-a3eb-d2f39de6a016",
   "metadata": {},
   "source": [
    "The two cells below preview where we'll be going in Data Analysis with Python: into pandas, with its most important type, the DataFrame."
   ]
  },
  {
   "cell_type": "code",
   "execution_count": 24,
   "id": "45d7e132-2f89-42bd-b8ea-398bfdc06c3f",
   "metadata": {},
   "outputs": [],
   "source": [
    "import pandas as pd  # see landing_page for other examples"
   ]
  },
  {
   "cell_type": "markdown",
   "id": "5b69f3e8-cab7-413c-9aa0-2e6ecd7583e5",
   "metadata": {},
   "source": [
    "The cell below says \"make a data table with one column, entitled pumpkins, with a next row from Pascal's Triangle for data. The leftmost indexing column, starting at zero, shows up for free."
   ]
  },
  {
   "cell_type": "code",
   "execution_count": 25,
   "id": "8ca23c90-a45f-494e-b105-939d7ab83e51",
   "metadata": {},
   "outputs": [
    {
     "data": {
      "text/html": [
       "<div>\n",
       "<style scoped>\n",
       "    .dataframe tbody tr th:only-of-type {\n",
       "        vertical-align: middle;\n",
       "    }\n",
       "\n",
       "    .dataframe tbody tr th {\n",
       "        vertical-align: top;\n",
       "    }\n",
       "\n",
       "    .dataframe thead th {\n",
       "        text-align: right;\n",
       "    }\n",
       "</style>\n",
       "<table border=\"1\" class=\"dataframe\">\n",
       "  <thead>\n",
       "    <tr style=\"text-align: right;\">\n",
       "      <th></th>\n",
       "      <th>pumpkins</th>\n",
       "    </tr>\n",
       "  </thead>\n",
       "  <tbody>\n",
       "    <tr>\n",
       "      <th>0</th>\n",
       "      <td>1</td>\n",
       "    </tr>\n",
       "    <tr>\n",
       "      <th>1</th>\n",
       "      <td>12</td>\n",
       "    </tr>\n",
       "    <tr>\n",
       "      <th>2</th>\n",
       "      <td>66</td>\n",
       "    </tr>\n",
       "    <tr>\n",
       "      <th>3</th>\n",
       "      <td>220</td>\n",
       "    </tr>\n",
       "    <tr>\n",
       "      <th>4</th>\n",
       "      <td>495</td>\n",
       "    </tr>\n",
       "    <tr>\n",
       "      <th>5</th>\n",
       "      <td>792</td>\n",
       "    </tr>\n",
       "    <tr>\n",
       "      <th>6</th>\n",
       "      <td>924</td>\n",
       "    </tr>\n",
       "    <tr>\n",
       "      <th>7</th>\n",
       "      <td>792</td>\n",
       "    </tr>\n",
       "    <tr>\n",
       "      <th>8</th>\n",
       "      <td>495</td>\n",
       "    </tr>\n",
       "    <tr>\n",
       "      <th>9</th>\n",
       "      <td>220</td>\n",
       "    </tr>\n",
       "    <tr>\n",
       "      <th>10</th>\n",
       "      <td>66</td>\n",
       "    </tr>\n",
       "    <tr>\n",
       "      <th>11</th>\n",
       "      <td>12</td>\n",
       "    </tr>\n",
       "    <tr>\n",
       "      <th>12</th>\n",
       "      <td>1</td>\n",
       "    </tr>\n",
       "  </tbody>\n",
       "</table>\n",
       "</div>"
      ],
      "text/plain": [
       "    pumpkins\n",
       "0          1\n",
       "1         12\n",
       "2         66\n",
       "3        220\n",
       "4        495\n",
       "5        792\n",
       "6        924\n",
       "7        792\n",
       "8        495\n",
       "9        220\n",
       "10        66\n",
       "11        12\n",
       "12         1"
      ]
     },
     "execution_count": 25,
     "metadata": {},
     "output_type": "execute_result"
    }
   ],
   "source": [
    "table = pd.DataFrame({\"pumpkins\": next(p)}) # next(p) is a whole row\n",
    "table"
   ]
  },
  {
   "cell_type": "markdown",
   "id": "7f687791-1d76-4db5-8251-63a4a3cd2395",
   "metadata": {},
   "source": [
    "Once you have a pandas data table, named table in this example, you have immediate access to its plot methods."
   ]
  },
  {
   "cell_type": "code",
   "execution_count": 26,
   "id": "c49846f9-5f9e-4528-b595-50e2f6ccd5f8",
   "metadata": {},
   "outputs": [
    {
     "data": {
      "image/png": "[encoded data removed]",
      "text/plain": [
       "<Figure size 640x480 with 1 Axes>"
      ]
     },
     "metadata": {},
     "output_type": "display_data"
    }
   ],
   "source": [
    "table.plot(title=\"The Bell Curve\");"
   ]
  },
  {
   "cell_type": "markdown",
   "id": "ad1d27ec-bcb4-454d-b0e0-3d0111803f57",
   "metadata": {},
   "source": [
    "Why a Bell Curve?  Think of how many ways a pumpkin, raining down through a Galton Board of pegs, might find its way to the bottom row.  It has many more ways to reach a center slot than an extreme left or right slot.\n",
    "\n",
    "The balls falling through the Galton Board end up in buckets and the mathematical description of their counts is the Binomial Distribution. That's what the stair step pattern centers on, given enough trials.\n",
    "\n",
    "Going from a stair step pattern to a smooth curve makes it the Normal Distribution, which is continuous versus discrete. The Normal Distribution is also known as a Gaussian Distribution or, most informally, as the Bell Curve."
   ]
  },
  {
   "cell_type": "markdown",
   "id": "59af2553-b7c3-474a-830c-ec67eb259e85",
   "metadata": {},
   "source": [
    "Since we have the pandas DataFrame in play, lets preview creating a table with more than one column. \n",
    "\n",
    "Remember the unnamed numeric index column on the far left comes to us for free.  \n",
    "\n",
    "Our initializing arguments if passed as a dictionary take the form of column_name:values, and will appear in the same order as the keys."
   ]
  },
  {
   "cell_type": "code",
   "execution_count": 42,
   "id": "198aeefc-669d-4b7d-b233-08871c401c0d",
   "metadata": {},
   "outputs": [],
   "source": [
    "df = pd.DataFrame({\n",
    "    'Name': ['Luke','Gina','Sam','Emma'],\n",
    "    'Status': ['Father', 'Mother', 'Son', 'Daughter'],\n",
    "    'Birthyear': [1976, 1984, 2013, 2016],\n",
    "})"
   ]
  },
  {
   "cell_type": "code",
   "execution_count": 39,
   "id": "55439b20-67c0-4059-9a32-19ca2f9fc61d",
   "metadata": {},
   "outputs": [
    {
     "data": {
      "text/html": [
       "<div>\n",
       "<style scoped>\n",
       "    .dataframe tbody tr th:only-of-type {\n",
       "        vertical-align: middle;\n",
       "    }\n",
       "\n",
       "    .dataframe tbody tr th {\n",
       "        vertical-align: top;\n",
       "    }\n",
       "\n",
       "    .dataframe thead th {\n",
       "        text-align: right;\n",
       "    }\n",
       "</style>\n",
       "<table border=\"1\" class=\"dataframe\">\n",
       "  <thead>\n",
       "    <tr style=\"text-align: right;\">\n",
       "      <th></th>\n",
       "      <th>Name</th>\n",
       "      <th>Status</th>\n",
       "      <th>Birthyear</th>\n",
       "    </tr>\n",
       "  </thead>\n",
       "  <tbody>\n",
       "    <tr>\n",
       "      <th>0</th>\n",
       "      <td>Luke</td>\n",
       "      <td>Father</td>\n",
       "      <td>1976</td>\n",
       "    </tr>\n",
       "    <tr>\n",
       "      <th>1</th>\n",
       "      <td>Gina</td>\n",
       "      <td>Mother</td>\n",
       "      <td>1984</td>\n",
       "    </tr>\n",
       "    <tr>\n",
       "      <th>2</th>\n",
       "      <td>Sam</td>\n",
       "      <td>Son</td>\n",
       "      <td>2013</td>\n",
       "    </tr>\n",
       "    <tr>\n",
       "      <th>3</th>\n",
       "      <td>Emma</td>\n",
       "      <td>Daughter</td>\n",
       "      <td>2016</td>\n",
       "    </tr>\n",
       "  </tbody>\n",
       "</table>\n",
       "</div>"
      ],
      "text/plain": [
       "   Name    Status  Birthyear\n",
       "0  Luke    Father       1976\n",
       "1  Gina    Mother       1984\n",
       "2   Sam       Son       2013\n",
       "3  Emma  Daughter       2016"
      ]
     },
     "execution_count": 39,
     "metadata": {},
     "output_type": "execute_result"
    }
   ],
   "source": [
    "df"
   ]
  },
  {
   "cell_type": "markdown",
   "id": "e2827a96-7e02-4920-98e8-9ca64e06b2f9",
   "metadata": {},
   "source": [
    "This example is from one of the linked readings about how lambda functions get used in the real world. \n",
    "\n",
    "Here we use the `apply` method to change all the entries in the age column, based on a simple computation."
   ]
  },
  {
   "cell_type": "code",
   "execution_count": 40,
   "id": "5e8fb4ce-1ef5-423a-955d-852afbb1e0ef",
   "metadata": {},
   "outputs": [],
   "source": [
    "df['age'] = df['Birthyear'].apply(lambda x: 2024-x)"
   ]
  },
  {
   "cell_type": "code",
   "execution_count": 41,
   "id": "488f70ee-90b1-4dca-8957-9473e0cc6ac3",
   "metadata": {},
   "outputs": [
    {
     "data": {
      "text/html": [
       "<div>\n",
       "<style scoped>\n",
       "    .dataframe tbody tr th:only-of-type {\n",
       "        vertical-align: middle;\n",
       "    }\n",
       "\n",
       "    .dataframe tbody tr th {\n",
       "        vertical-align: top;\n",
       "    }\n",
       "\n",
       "    .dataframe thead th {\n",
       "        text-align: right;\n",
       "    }\n",
       "</style>\n",
       "<table border=\"1\" class=\"dataframe\">\n",
       "  <thead>\n",
       "    <tr style=\"text-align: right;\">\n",
       "      <th></th>\n",
       "      <th>Name</th>\n",
       "      <th>Status</th>\n",
       "      <th>Birthyear</th>\n",
       "      <th>age</th>\n",
       "    </tr>\n",
       "  </thead>\n",
       "  <tbody>\n",
       "    <tr>\n",
       "      <th>0</th>\n",
       "      <td>Luke</td>\n",
       "      <td>Father</td>\n",
       "      <td>1976</td>\n",
       "      <td>48</td>\n",
       "    </tr>\n",
       "    <tr>\n",
       "      <th>1</th>\n",
       "      <td>Gina</td>\n",
       "      <td>Mother</td>\n",
       "      <td>1984</td>\n",
       "      <td>40</td>\n",
       "    </tr>\n",
       "    <tr>\n",
       "      <th>2</th>\n",
       "      <td>Sam</td>\n",
       "      <td>Son</td>\n",
       "      <td>2013</td>\n",
       "      <td>11</td>\n",
       "    </tr>\n",
       "    <tr>\n",
       "      <th>3</th>\n",
       "      <td>Emma</td>\n",
       "      <td>Daughter</td>\n",
       "      <td>2016</td>\n",
       "      <td>8</td>\n",
       "    </tr>\n",
       "  </tbody>\n",
       "</table>\n",
       "</div>"
      ],
      "text/plain": [
       "   Name    Status  Birthyear  age\n",
       "0  Luke    Father       1976   48\n",
       "1  Gina    Mother       1984   40\n",
       "2   Sam       Son       2013   11\n",
       "3  Emma  Daughter       2016    8"
      ]
     },
     "execution_count": 41,
     "metadata": {},
     "output_type": "execute_result"
    }
   ],
   "source": [
    "df"
   ]
  },
  {
   "cell_type": "markdown",
   "id": "968ac20a-61fa-4544-b3c2-9f7794e9aecd",
   "metadata": {},
   "source": [
    "## itertools (continued)\n",
    "\n",
    "We have looked at some of the iterators we're able to create using this Standard Library module. Lets look at a couple more, again with emphasis on how lambda expressions might come in handy."
   ]
  },
  {
   "cell_type": "code",
   "execution_count": 27,
   "id": "384f3dcd-9f6f-4093-99df-7077491a81e7",
   "metadata": {},
   "outputs": [],
   "source": [
    "from itertools import filterfalse, starmap, takewhile\n",
    "from random import randint"
   ]
  },
  {
   "cell_type": "code",
   "execution_count": 28,
   "id": "e7642832-cd48-4ed5-be6a-fec7e197db2f",
   "metadata": {},
   "outputs": [
    {
     "name": "stdout",
     "output_type": "stream",
     "text": [
      "[4, 17, 19, 6, 19, 6, 9, 15, 14, 19, 20, 7, 17, 7, 3, 5, 13, 1, 19, 6]\n"
     ]
    }
   ],
   "source": [
    "r_nums = [randint(0, 20) for _ in range(20)]\n",
    "print(r_nums)"
   ]
  },
  {
   "cell_type": "code",
   "execution_count": 29,
   "id": "d2d2be8c-b15e-4dda-91a3-21faf6ed21f8",
   "metadata": {},
   "outputs": [],
   "source": [
    "# play with the lambda condition e.g. get nums not > 5\n",
    "iterator = filterfalse(lambda x: x%2==0, r_nums)"
   ]
  },
  {
   "cell_type": "code",
   "execution_count": 30,
   "id": "37095465-2283-4c36-b1ac-06406da710bc",
   "metadata": {},
   "outputs": [
    {
     "name": "stdout",
     "output_type": "stream",
     "text": [
      "17 19 19 9 15 19 7 17 7 3 5 13 1 19 "
     ]
    }
   ],
   "source": [
    "for odd in iterator:\n",
    "    print(odd, end=\" \")"
   ]
  },
  {
   "cell_type": "code",
   "execution_count": 31,
   "id": "b3ac0845-02cd-4457-abb7-cec4274347a1",
   "metadata": {},
   "outputs": [
    {
     "name": "stdout",
     "output_type": "stream",
     "text": [
      "[4, 6, 6, 14, 20, 6]\n"
     ]
    }
   ],
   "source": [
    "print(list(filter(lambda x: x%2==0, r_nums)))"
   ]
  },
  {
   "cell_type": "code",
   "execution_count": 32,
   "id": "d6f8f79e-bb02-471f-b543-d15748357444",
   "metadata": {},
   "outputs": [],
   "source": [
    "output = starmap(lambda x, y: x + \" \" + y, zip((\"Joe\", \"Sally\", \"Tom\"), \n",
    "        (\"Smith\", \"Conner\", \"Wells\")))"
   ]
  },
  {
   "cell_type": "code",
   "execution_count": 33,
   "id": "3e561095-d943-4e40-8610-3adde72c869d",
   "metadata": {},
   "outputs": [
    {
     "data": {
      "text/plain": [
       "['Joe Smith', 'Sally Conner', 'Tom Wells']"
      ]
     },
     "execution_count": 33,
     "metadata": {},
     "output_type": "execute_result"
    }
   ],
   "source": [
    "list(output)"
   ]
  },
  {
   "cell_type": "code",
   "execution_count": 34,
   "id": "5e9aaa72-8276-410a-a0e5-caded409b07c",
   "metadata": {},
   "outputs": [],
   "source": [
    "import primes"
   ]
  },
  {
   "cell_type": "code",
   "execution_count": 35,
   "id": "3c71bf0e-1c7a-494e-8aeb-5c0b90440a6a",
   "metadata": {},
   "outputs": [],
   "source": [
    "p = primes.iter_prime()"
   ]
  },
  {
   "cell_type": "code",
   "execution_count": 36,
   "id": "ca596c28-7a96-4258-a34d-89fb47634146",
   "metadata": {},
   "outputs": [],
   "source": [
    "under1000 = takewhile(lambda x: x < 1000, p)  # similar to islice"
   ]
  },
  {
   "cell_type": "code",
   "execution_count": 37,
   "id": "f9a3e974-6f3c-4716-998e-c4a32073ff78",
   "metadata": {},
   "outputs": [
    {
     "name": "stdout",
     "output_type": "stream",
     "text": [
      "[2, 3, 5, 7, 11, 13, 17, 19, 23, 29, 31, 37, 41, 43, 47, 53, 59, 61, 67, 71, 73, 79, 83, 89, 97, 101, 103, 107, 109, 113, 127, 131, 137, 139, 149, 151, 157, 163, 167, 173, 179, 181, 191, 193, 197, 199, 211, 223, 227, 229, 233, 239, 241, 251, 257, 263, 269, 271, 277, 281, 283, 293, 307, 311, 313, 317, 331, 337, 347, 349, 353, 359, 367, 373, 379, 383, 389, 397, 401, 409, 419, 421, 431, 433, 439, 443, 449, 457, 461, 463, 467, 479, 487, 491, 499, 503, 509, 521, 523, 541, 547, 557, 563, 569, 571, 577, 587, 593, 599, 601, 607, 613, 617, 619, 631, 641, 643, 647, 653, 659, 661, 673, 677, 683, 691, 701, 709, 719, 727, 733, 739, 743, 751, 757, 761, 769, 773, 787, 797, 809, 811, 821, 823, 827, 829, 839, 853, 857, 859, 863, 877, 881, 883, 887, 907, 911, 919, 929, 937, 941, 947, 953, 967, 971, 977, 983, 991, 997]\n"
     ]
    }
   ],
   "source": [
    "print(list(under1000))"
   ]
  },
  {
   "cell_type": "code",
   "execution_count": null,
   "id": "2c23d89f-26b3-48ab-b032-c8e2b12ec6b7",
   "metadata": {},
   "outputs": [],
   "source": []
  }
 ],
 "metadata": {
  "kernelspec": {
   "display_name": "Python 3 (ipykernel)",
   "language": "python",
   "name": "python3"
  },
  "language_info": {
   "codemirror_mode": {
    "name": "ipython",
    "version": 3
   },
   "file_extension": ".py",
   "mimetype": "text/x-python",
   "name": "python",
   "nbconvert_exporter": "python",
   "pygments_lexer": "ipython3",
   "version": "3.11.3"
  }
 },
 "nbformat": 4,
 "nbformat_minor": 5
}
