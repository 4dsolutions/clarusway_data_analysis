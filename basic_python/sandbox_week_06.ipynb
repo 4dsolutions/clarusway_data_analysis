{
 "cells": [
  {
   "cell_type": "markdown",
   "id": "523af7bf-e96c-4c88-b5b0-598c87cd6c0c",
   "metadata": {},
   "source": [
    "#### Clarusway Python\n",
    "\n",
    "* [Instructor Landing Page](landing_page.ipynb)\n",
    "* <a href=\"https://colab.research.google.com/github/4dsolutions/clarusway_data_analysis/blob/main/basic_python/sandbox_week_06.ipynb\"><img align=\"left\" src=\"https://colab.research.google.com/assets/colab-badge.svg\" alt=\"Open in Colab\" title=\"Open and Execute in Google Colaboratory\"></a>\n",
    "* [![nbviewer](https://raw.githubusercontent.com/jupyter/design/master/logos/Badges/nbviewer_badge.svg)](https://nbviewer.org/github/4dsolutions/clarusway_data_analysis/blob/main/basic_python/sandbox_week_06.ipynb)"
   ]
  },
  {
   "cell_type": "markdown",
   "id": "9d844fba-4131-4561-b733-6e62bf2e9693",
   "metadata": {},
   "source": [
    "# Sandbox 6: Looking Back; Looking Ahead"
   ]
  },
  {
   "cell_type": "markdown",
   "id": "222b7ab8-9efd-4916-9ced-cff592612102",
   "metadata": {},
   "source": [
    "<a data-flickr-embed=\"true\" href=\"https://www.flickr.com/photos/kirbyurner/54153316662/in/dateposted/\" title=\"Course Slack Channel\"><img src=\"https://live.staticflickr.com/65535/54153316662_2703e0e9fe.jpg\" width=\"430\" height=\"500\" alt=\"Course Slack Channel\"/></a><script async src=\"//embedr.flickr.com/assets/client-code.js\" charset=\"utf-8\"></script><br />\n",
    "Class Slack Channel\n",
    "\n",
    "<a data-flickr-embed=\"true\" href=\"https://www.flickr.com/photos/kirbyurner/54153252762/in/photostream/\" title=\"Passing the Torch\"><img src=\"https://live.staticflickr.com/65535/54153252762_130c31cb55.jpg\" width=\"500\" height=\"483\" alt=\"Passing the Torch\"/></a><script async src=\"//embedr.flickr.com/assets/client-code.js\" charset=\"utf-8\"></script><br />\n",
    "From this Notebook"
   ]
  },
  {
   "cell_type": "code",
   "execution_count": null,
   "id": "7d24d63d-74f7-49a4-8f5d-5a05c29961e0",
   "metadata": {},
   "outputs": [],
   "source": [
    "from IPython.display import YouTubeVideo # you only need to do this once, then go like..."
   ]
  },
  {
   "cell_type": "code",
   "execution_count": null,
   "id": "d8a4d61b-08d2-4b09-8bef-96c440b04748",
   "metadata": {},
   "outputs": [],
   "source": [
    "YouTubeVideo(\"4vuW6tQ0218\") # every Youtube comes with a unique address"
   ]
  },
  {
   "cell_type": "markdown",
   "id": "5436f291-a6ad-4247-9be3-51655db927f5",
   "metadata": {},
   "source": [
    "## Week 6\n",
    "\n",
    "Monday:\n",
    "\n",
    "These will be some of the highlights although not necessarily in this order (a set, not a list):\n",
    "\n",
    "* Upcoming Schedule (holiday breaks, final sessions)\n",
    "* LMS: Modules and Packages (additional material)\n",
    "* Statistics Ahead (intro)\n",
    "* Transition to DA (completing Python Prep)\n",
    "* DataFrame Previews (Data Analysis Ahead)\n",
    "* Hands on Practice (more about callables and their args and kwargs)\n",
    "* The Rest of Python (ongoing theme -- there's always a little more)\n",
    "\n",
    "Tuesday (in whatever order):\n",
    "\n",
    "* Continue in Sandbox 6\n",
    "* [indigs](https://mail.python.org/archives/list/edu-sig@python.org/message/EBZYLOWGIE6FYWB7N6U6GS3SNPDW7AZL/)\n",
    "* Continue in Notebook17&18\n",
    "* Using AI to plot a Bell Curve\n",
    "* Sampling a Population (DA concepts)\n",
    "* Dice as Objects\n",
    "* The Rest of Python\n",
    "\n",
    "Wednesday:\n",
    "* [Lab](Assignments_Labs.ipynb)\n",
    "  \n",
    "My Python Warmup (same repo, different subfolder) has some relevant [intro material](https://github.com/4dsolutions/clarusway_data_analysis/blob/main/python_warm_up/warmup_3rd_party_datascience.ipynb).\n",
    "\n",
    "This figure shows how web development and data science are like two branches of a river or tree. It's a simplified view as there are many more branches and lots of cross-over.\n",
    "\n",
    "SQL is somewhat at the root of both, as both the web and data science depend on having lots of well organized data (picture file cabinets).\n",
    "\n",
    "<br />\n",
    "\n",
    "<a data-flickr-embed=\"true\" href=\"https://www.flickr.com/photos/kirbyurner/24749338009/in/album-72177720296706479\" title=\"Pythonic Ecosystem\"><img src=\"https://live.staticflickr.com/1624/24749338009_537ab57eb1.jpg\" width=\"375\" height=\"500\" alt=\"Pythonic Ecosystem\"/></a><script async src=\"//embedr.flickr.com/assets/client-code.js\" charset=\"utf-8\"></script>\n",
    "\n",
    "<br />\n",
    "\n",
    "<a data-flickr-embed=\"true\" href=\"https://www.flickr.com/photos/kirbyurner/54150809997/in/dateposted/\" title=\"data_access_tree\"><img src=\"https://live.staticflickr.com/65535/54150809997_e4f2596499.jpg\" width=\"401\" height=\"500\" alt=\"data_access_tree\"/></a><script async src=\"//embedr.flickr.com/assets/client-code.js\" charset=\"utf-8\"></script>\n",
    "\n",
    "File Tree.\n",
    "\n",
    "Prompt:  Cutaway view of an office building full of file cabinets in the basement. A giant tree with roots in the basement has its branches upstairs. Workers in cubicles are on the leaves, using workstations."
   ]
  },
  {
   "cell_type": "markdown",
   "id": "4e64cd44-ad6d-452f-9519-944203043bc5",
   "metadata": {},
   "source": [
    "## Playing with Foods"
   ]
  },
  {
   "cell_type": "code",
   "execution_count": null,
   "id": "1ddff8dd-1482-48a3-a9ab-199fa39babb4",
   "metadata": {},
   "outputs": [],
   "source": [
    "foods = [chr(codepoint) for codepoint in range(127815, 127815 + 50)]"
   ]
  },
  {
   "cell_type": "code",
   "execution_count": null,
   "id": "38a844c2-df74-4c80-bdb4-b1883e0f13dd",
   "metadata": {},
   "outputs": [],
   "source": [
    "print(foods)"
   ]
  },
  {
   "cell_type": "code",
   "execution_count": null,
   "id": "a472af34-b0f2-4051-80d7-e01247dcc88d",
   "metadata": {},
   "outputs": [],
   "source": [
    "from random import shuffle, randint, choice"
   ]
  },
  {
   "cell_type": "code",
   "execution_count": null,
   "id": "59f4f6bc-4eed-43aa-80e4-e64475c3f767",
   "metadata": {},
   "outputs": [],
   "source": [
    "test_list = (list(choice(foods) * randint(1,10)) + \n",
    "             list(choice(foods) * randint(1,10)) + \n",
    "             list(choice(foods) * randint(1,10)))\n",
    "shuffle(test_list)\n",
    "\n",
    "print(test_list)"
   ]
  },
  {
   "cell_type": "code",
   "execution_count": null,
   "id": "8470a824-c459-4e07-bfc7-5af945513acf",
   "metadata": {},
   "outputs": [],
   "source": [
    "test_list.count(test_list[0])"
   ]
  },
  {
   "cell_type": "code",
   "execution_count": null,
   "id": "e85ad8cd-f027-4484-bd04-492cc609c510",
   "metadata": {},
   "outputs": [],
   "source": [
    "highest_count = max([test_list.count(food) for food in test_list])\n",
    "highest_count"
   ]
  },
  {
   "cell_type": "code",
   "execution_count": null,
   "id": "9e88a69a-f767-45c1-9334-1df95b0cadc4",
   "metadata": {},
   "outputs": [],
   "source": [
    "# help(max)"
   ]
  },
  {
   "cell_type": "code",
   "execution_count": null,
   "id": "ae927649-f958-405b-b0ea-1e1c6f3ec600",
   "metadata": {},
   "outputs": [],
   "source": [
    "most_frequent = max(test_list, key=test_list.count)  # which is highest count?\n",
    "most_frequent"
   ]
  },
  {
   "cell_type": "code",
   "execution_count": null,
   "id": "125d2a1d-648e-4ab9-bcb7-c520dc3507a6",
   "metadata": {},
   "outputs": [],
   "source": [
    "print(f\"The food that occurs most frequently is {most_frequent}, it occurs {highest_count} times.\")\n",
    "print(\"Possibly other foods occur just as frequently.\")"
   ]
  },
  {
   "cell_type": "markdown",
   "id": "5baecd44-ccd7-432c-943b-232896ac14b1",
   "metadata": {},
   "source": [
    "Unicode: the basis of Python's native string type (str).\n",
    "\n",
    "<a data-flickr-embed=\"true\" href=\"https://www.flickr.com/photos/kirbyurner/29832307687/in/album-72177720296706479\" title=\"Unicode on Windows\"><img src=\"https://live.staticflickr.com/1847/29832307687_0aee594ec5_c.jpg\" width=\"800\" height=\"551\" alt=\"Unicode on Windows\"/></a><script async src=\"//embedr.flickr.com/assets/client-code.js\" charset=\"utf-8\"></script>"
   ]
  },
  {
   "cell_type": "markdown",
   "id": "3354b778-1ad4-4f15-b664-97590f4a5cbb",
   "metadata": {},
   "source": [
    "## The built-in map function\n",
    "\n",
    "map is a higher order function, meaning it takes a function as its argument, followed by an iterator. \n",
    "\n",
    "The function may be a named function, or perhaps a lambda expression.\n",
    "\n",
    "Languages that allow functions to also play the role of arguments are in a class by themselves. Python is one of them."
   ]
  },
  {
   "cell_type": "code",
   "execution_count": null,
   "id": "9c08424e-ad80-424d-9884-3dfb5d4bb37d",
   "metadata": {},
   "outputs": [],
   "source": [
    "help(map)"
   ]
  },
  {
   "cell_type": "code",
   "execution_count": null,
   "id": "6b5d107a-8146-4939-a44a-25d3fb7fd7e4",
   "metadata": {},
   "outputs": [],
   "source": [
    "m = map(lambda x, y, z: x + y + z, (1,2), (3,4), (10, 10))  # reminds of zip"
   ]
  },
  {
   "cell_type": "code",
   "execution_count": null,
   "id": "0d44782b-069b-441c-9a44-d4caf2fbd3c1",
   "metadata": {},
   "outputs": [],
   "source": [
    "next(m)"
   ]
  },
  {
   "cell_type": "code",
   "execution_count": null,
   "id": "26ce8f6f-75c1-4851-9b2a-f731e46b3146",
   "metadata": {},
   "outputs": [],
   "source": [
    "next(m)"
   ]
  },
  {
   "cell_type": "code",
   "execution_count": null,
   "id": "2a682764-4d24-4b56-ab74-5aacfdf4d965",
   "metadata": {},
   "outputs": [],
   "source": [
    "pow2 = map(lambda x: x**2, range(20))"
   ]
  },
  {
   "cell_type": "code",
   "execution_count": null,
   "id": "9620a172-6467-4c4b-a50d-7738bb920b99",
   "metadata": {},
   "outputs": [],
   "source": [
    "print(list(pow2))"
   ]
  },
  {
   "cell_type": "markdown",
   "id": "38870917-ba03-46c0-9db0-1fb8a0a624e9",
   "metadata": {},
   "source": [
    "## Variable number of arguments\n",
    "\n",
    "Perhaps much sooner than you will need to write your own functions, you will want to get help on what callables are already out there.  In that case, understanding the role of * and / helps a lot.\n",
    "\n",
    "The * used alone means: only named arguments to its right.\n",
    "The / used alone means: only positionals to its left.\n",
    "\n",
    "If / is used, then the ordinary practice of being able to pass by name, even to parameters with no default value, is suspended."
   ]
  },
  {
   "cell_type": "code",
   "execution_count": null,
   "id": "30ad264d-d5ea-4aec-82a9-1cb01e79568e",
   "metadata": {},
   "outputs": [],
   "source": [
    "def func1(a, b):\n",
    "    return a + b\n",
    "\n",
    "func1(b=1, a=2)"
   ]
  },
  {
   "cell_type": "code",
   "execution_count": null,
   "id": "d9b151b5-caff-4b1b-9c2a-4f71e4b6f525",
   "metadata": {},
   "outputs": [],
   "source": [
    "def func2(a, b, /):\n",
    "    return a + b\n",
    "\n",
    "func2(1, 2)"
   ]
  },
  {
   "cell_type": "code",
   "execution_count": null,
   "id": "6c6c49af-d5af-43ee-8027-642262db776a",
   "metadata": {},
   "outputs": [],
   "source": [
    "try:\n",
    "    func2(b=1, a=2)\n",
    "except:\n",
    "    print(\"Nope!\")"
   ]
  },
  {
   "cell_type": "code",
   "execution_count": null,
   "id": "11fbb612-26c3-4283-a0bf-f50f5938cc64",
   "metadata": {},
   "outputs": [],
   "source": [
    "def average(*all_args):\n",
    "    return sum(all_args)/len(all_args)"
   ]
  },
  {
   "cell_type": "code",
   "execution_count": null,
   "id": "47fb83ea-6390-44f4-aa2e-783204d70399",
   "metadata": {},
   "outputs": [],
   "source": [
    "average(3,2,4,5,1,4,0,1,8)"
   ]
  },
  {
   "cell_type": "markdown",
   "id": "279ec16b-1333-4e1e-8868-141be36c1d0c",
   "metadata": {},
   "source": [
    "## Galton Board and Pascal's Triangle\n",
    "\n",
    "Here's some raw material for thinking more about statistics.\n",
    "\n",
    "![](http://4dsolutions.net/ocn/graphics/randtrianim.gif)\n",
    "\n",
    "From:  [Numeracy Series: Python + POV-Ray](http://4dsolutions.net/ocn/numeracy0.html) (Oregon Curriculum Network, early 2000s)"
   ]
  },
  {
   "cell_type": "code",
   "execution_count": null,
   "id": "8e6979fc-94b1-4d67-885d-e568240e8f55",
   "metadata": {},
   "outputs": [],
   "source": [
    "from pascal import pascal"
   ]
  },
  {
   "cell_type": "code",
   "execution_count": null,
   "id": "fe3a4dbc-8ce5-4d5e-89d6-c263ee2304ed",
   "metadata": {},
   "outputs": [],
   "source": [
    "p = pascal()"
   ]
  },
  {
   "cell_type": "code",
   "execution_count": null,
   "id": "23297df0-6560-4c1b-b4e2-cfc81ed03ab7",
   "metadata": {},
   "outputs": [],
   "source": [
    "next(p)"
   ]
  },
  {
   "cell_type": "code",
   "execution_count": null,
   "id": "05e1e139-ee2a-433b-acce-d600d66ee58e",
   "metadata": {},
   "outputs": [],
   "source": [
    "for _ in range(10):\n",
    "    next(p)\n",
    "print(next(p))"
   ]
  },
  {
   "cell_type": "code",
   "execution_count": null,
   "id": "5db62034-a574-43d3-ab26-28a7feee25ad",
   "metadata": {},
   "outputs": [],
   "source": [
    "YouTubeVideo(\"EvHiee7gs9Y\")"
   ]
  },
  {
   "cell_type": "markdown",
   "id": "2d059215-037c-44ce-a3eb-d2f39de6a016",
   "metadata": {},
   "source": [
    "The two cells below preview where we'll be going in Data Analysis with Python: into pandas, with its most important type, the DataFrame."
   ]
  },
  {
   "cell_type": "code",
   "execution_count": null,
   "id": "45d7e132-2f89-42bd-b8ea-398bfdc06c3f",
   "metadata": {},
   "outputs": [],
   "source": [
    "import pandas as pd  # see landing_page for other examples"
   ]
  },
  {
   "cell_type": "markdown",
   "id": "5b69f3e8-cab7-413c-9aa0-2e6ecd7583e5",
   "metadata": {},
   "source": [
    "The cell below says \"make a data table with one column, entitled pumpkins, with a next row from Pascal's Triangle for data. The leftmost indexing column, starting at zero, shows up for free."
   ]
  },
  {
   "cell_type": "code",
   "execution_count": null,
   "id": "8ca23c90-a45f-494e-b105-939d7ab83e51",
   "metadata": {},
   "outputs": [],
   "source": [
    "table = pd.DataFrame({\"pumpkins\": next(p)}) # next(p) is a whole row\n",
    "table"
   ]
  },
  {
   "cell_type": "markdown",
   "id": "7f687791-1d76-4db5-8251-63a4a3cd2395",
   "metadata": {},
   "source": [
    "Once you have a pandas data table, named table in this example, you have immediate access to its plot methods."
   ]
  },
  {
   "cell_type": "code",
   "execution_count": null,
   "id": "c49846f9-5f9e-4528-b595-50e2f6ccd5f8",
   "metadata": {},
   "outputs": [],
   "source": [
    "table.plot(title=\"Binomial Distribution\");"
   ]
  },
  {
   "cell_type": "markdown",
   "id": "ad1d27ec-bcb4-454d-b0e0-3d0111803f57",
   "metadata": {},
   "source": [
    "Why a Bell Curve?  Think of how many ways a pumpkin, raining down through a Galton Board of pegs, might find its way to the bottom row.  It has many more ways to reach a center slot than an extreme left or right slot.\n",
    "\n",
    "The balls falling through the Galton Board end up in buckets and the mathematical description of their counts is the Binomial Distribution. That's what the stair step pattern centers on, given enough trials.\n",
    "\n",
    "Going from a stair step pattern to a smooth curve makes it the Normal Distribution, which is continuous versus discrete. The Normal Distribution is also known as a Gaussian Distribution or, most informally, as the Bell Curve.\n",
    "\n",
    "Exhibit:  [Asking Gemini to plot the Gaussian Distribution](https://colab.research.google.com/drive/1ZcZLKAjQsa3Pui-trngWvkON50Ab2tpu?usp=sharing)\n",
    "\n",
    "<a data-flickr-embed=\"true\" href=\"https://www.flickr.com/photos/kirbyurner/54152008669/in/dateposted/\" title=\"Screen Shot 2024-11-19 at 1.06.01 PM\"><img src=\"https://live.staticflickr.com/65535/54152008669_b02d4f9f30_c.jpg\" width=\"800\" height=\"469\" alt=\"Screen Shot 2024-11-19 at 1.06.01 PM\"/></a><script async src=\"//embedr.flickr.com/assets/client-code.js\" charset=\"utf-8\"></script>"
   ]
  },
  {
   "cell_type": "code",
   "execution_count": null,
   "id": "4f1c26ff-b94e-454d-b19a-e72f17ab45db",
   "metadata": {},
   "outputs": [],
   "source": [
    "YouTubeVideo(\"zeJD6dqJ5lo\")"
   ]
  },
  {
   "cell_type": "code",
   "execution_count": null,
   "id": "7ff9b5d5-6fd9-4626-9f46-0e8c5e7444ce",
   "metadata": {},
   "outputs": [],
   "source": [
    "YouTubeVideo(\"_YOr_yYPytM\")"
   ]
  },
  {
   "cell_type": "markdown",
   "id": "59af2553-b7c3-474a-830c-ec67eb259e85",
   "metadata": {},
   "source": [
    "Since we have the pandas DataFrame in play, lets preview creating a table with more than one column. \n",
    "\n",
    "Remember the unnamed numeric index column on the far left comes to us for free.  \n",
    "\n",
    "Our initializing arguments if passed as a dictionary take the form of column_name:values, and will appear in the same order as the keys."
   ]
  },
  {
   "cell_type": "code",
   "execution_count": null,
   "id": "198aeefc-669d-4b7d-b233-08871c401c0d",
   "metadata": {},
   "outputs": [],
   "source": [
    "df = pd.DataFrame({\n",
    "    'Name': ['Luke','Gina','Sam','Emma'],\n",
    "    'Status': ['Father', 'Mother', 'Son', 'Daughter'],\n",
    "    'Birthyear': [1976, 1984, 2013, 2016],\n",
    "})"
   ]
  },
  {
   "cell_type": "code",
   "execution_count": null,
   "id": "55439b20-67c0-4059-9a32-19ca2f9fc61d",
   "metadata": {},
   "outputs": [],
   "source": [
    "df"
   ]
  },
  {
   "cell_type": "markdown",
   "id": "e2827a96-7e02-4920-98e8-9ca64e06b2f9",
   "metadata": {},
   "source": [
    "This example is from one of the linked readings about how lambda functions get used in the real world. \n",
    "\n",
    "Here we use the `apply` method to change all the entries in the age column, based on a simple computation."
   ]
  },
  {
   "cell_type": "code",
   "execution_count": null,
   "id": "5e8fb4ce-1ef5-423a-955d-852afbb1e0ef",
   "metadata": {},
   "outputs": [],
   "source": [
    "df['age'] = df['Birthyear'].apply(lambda x: 2024-x)"
   ]
  },
  {
   "cell_type": "code",
   "execution_count": null,
   "id": "488f70ee-90b1-4dca-8957-9473e0cc6ac3",
   "metadata": {},
   "outputs": [],
   "source": [
    "df"
   ]
  },
  {
   "cell_type": "markdown",
   "id": "c77456b0-96ac-4f25-89e8-04dda6564484",
   "metadata": {},
   "source": [
    "### Sampling from a Population\n",
    "\n",
    "Lets do a simulation the exercises all our skills plus adds more reading fluency around the class concept."
   ]
  },
  {
   "cell_type": "code",
   "execution_count": null,
   "id": "157b08c1-4179-4899-a43e-b18f29c07b0b",
   "metadata": {},
   "outputs": [],
   "source": [
    "if not 'randint' in dir():\n",
    "    from random import randint\n",
    "    \n",
    "class Dino:\n",
    "\n",
    "    def __init__(self):\n",
    "        self.health  = randint(1, 21)\n",
    "        self.age     = randint(1, 101)\n",
    "        self.stomach = [ ]\n",
    "\n",
    "    def eat(self, food):\n",
    "        # print(\"Yum!\")\n",
    "        self.stomach.append(food)\n",
    "\n",
    "    def __repr__(self):\n",
    "        return f\"Dino at {id(self)}\""
   ]
  },
  {
   "cell_type": "code",
   "execution_count": null,
   "id": "4eeca67a-cb26-4dd5-8954-38b2b2c7d0d6",
   "metadata": {},
   "outputs": [],
   "source": [
    "help(randint)"
   ]
  },
  {
   "cell_type": "code",
   "execution_count": null,
   "id": "9c2b2401-28f2-40f3-bf17-63a6bbe0a00b",
   "metadata": {},
   "outputs": [],
   "source": [
    "population = [Dino() for _ in range(100)] # make 100 dinos"
   ]
  },
  {
   "cell_type": "code",
   "execution_count": null,
   "id": "54a8754e-6590-442e-88ae-39a276880ecb",
   "metadata": {},
   "outputs": [],
   "source": [
    "rex = population[0]\n",
    "rex"
   ]
  },
  {
   "cell_type": "code",
   "execution_count": null,
   "id": "7260e724-664e-484a-ad51-030bf780f0e8",
   "metadata": {},
   "outputs": [],
   "source": [
    "rex.eat(foods[0])"
   ]
  },
  {
   "cell_type": "code",
   "execution_count": null,
   "id": "0cc82a1c-edcd-4c0c-b69f-14163a0a6da0",
   "metadata": {},
   "outputs": [],
   "source": [
    "rex.__dict__"
   ]
  },
  {
   "cell_type": "code",
   "execution_count": null,
   "id": "922a6b90-32be-43b5-b877-87486667a3bb",
   "metadata": {},
   "outputs": [],
   "source": [
    "print(population)"
   ]
  },
  {
   "cell_type": "code",
   "execution_count": null,
   "id": "d22cd667-5b4c-4ae7-8a15-7c115481dad3",
   "metadata": {},
   "outputs": [],
   "source": [
    "print(foods) # still available from the top of the Notebook"
   ]
  },
  {
   "cell_type": "code",
   "execution_count": null,
   "id": "666b88db-ece2-4f91-b8c3-6ec940ffd4b6",
   "metadata": {},
   "outputs": [],
   "source": [
    "def feed_some(pop, the_food):\n",
    "    for p in pop:\n",
    "        if randint(1, 10) < 5:\n",
    "            p.eat(the_food)\n",
    "        \n",
    "def feed_all(pop, the_food):\n",
    "    for p in pop:\n",
    "        p.eat(the_food)"
   ]
  },
  {
   "cell_type": "code",
   "execution_count": null,
   "id": "076bd984-6d4c-4eed-b045-1ab96c41b1b9",
   "metadata": {},
   "outputs": [],
   "source": [
    "feed_some(population, '🍫')\n",
    "feed_some(population, '🍑')\n",
    "feed_some(population, '🍦')"
   ]
  },
  {
   "cell_type": "code",
   "execution_count": null,
   "id": "7200e49e-53d7-4d4b-86d3-30158026c45b",
   "metadata": {},
   "outputs": [],
   "source": [
    "def sample(pop, size=30):\n",
    "    shuffle(pop)\n",
    "    return pop[:size]"
   ]
  },
  {
   "cell_type": "code",
   "execution_count": null,
   "id": "6957c1b4-97d8-466d-a712-76d5f563ab62",
   "metadata": {},
   "outputs": [],
   "source": [
    "sample1 = sample(population, 10)\n",
    "sample1"
   ]
  },
  {
   "cell_type": "code",
   "execution_count": null,
   "id": "f60bc5a7-660e-481a-90b0-0f30d94630da",
   "metadata": {},
   "outputs": [],
   "source": [
    "sample2 = sample(population, 10)"
   ]
  },
  {
   "cell_type": "code",
   "execution_count": null,
   "id": "26a57975-deba-4f00-9c78-2ee48c19fdd1",
   "metadata": {},
   "outputs": [],
   "source": [
    "sample3 = sample(population, 10)\n",
    "sample4 = sample(population, 10)"
   ]
  },
  {
   "cell_type": "code",
   "execution_count": null,
   "id": "649cd262-6174-477d-9ac1-d7ec306e2205",
   "metadata": {},
   "outputs": [],
   "source": [
    "set(sample1).intersection(set(sample2))"
   ]
  },
  {
   "cell_type": "code",
   "execution_count": null,
   "id": "ca164a12-6bb8-4fdf-ba2f-491498d37ab7",
   "metadata": {},
   "outputs": [],
   "source": [
    "for d in population:\n",
    "    print(d, d.stomach)"
   ]
  },
  {
   "cell_type": "code",
   "execution_count": null,
   "id": "3c3c84df-964d-45ae-9c4e-9ceb96ee032b",
   "metadata": {},
   "outputs": [],
   "source": [
    "def average_age(pop):\n",
    "    \"\"\"\n",
    "    returns the mean (sum of ages / how many in pop)\n",
    "    \"\"\"\n",
    "    return sum([ p.age for p in pop ])/len(pop)"
   ]
  },
  {
   "cell_type": "code",
   "execution_count": null,
   "id": "cc0d3193-176f-448d-8da6-6bf486bc43ae",
   "metadata": {},
   "outputs": [],
   "source": [
    "def average_health(pop):\n",
    "    \"\"\"\n",
    "    returns the mean (sum of ages / how many in pop)\n",
    "    \"\"\"\n",
    "    return sum([ p.health for p in pop ])/len(pop)"
   ]
  },
  {
   "cell_type": "code",
   "execution_count": null,
   "id": "a2a9c2b9-83d0-4e8b-add1-123633d77111",
   "metadata": {},
   "outputs": [],
   "source": [
    "average_age(sample1)"
   ]
  },
  {
   "cell_type": "code",
   "execution_count": null,
   "id": "e3be2ce5-c6ae-4b69-8b43-4480ae0bd0d6",
   "metadata": {},
   "outputs": [],
   "source": [
    "average(sample2)"
   ]
  },
  {
   "cell_type": "code",
   "execution_count": null,
   "id": "eb5be00d-c594-4432-91f1-273348074e3f",
   "metadata": {},
   "outputs": [],
   "source": [
    "global_av = sum([average_age(s) for s in (sample1, sample2, sample3, sample4)])/4\n",
    "global_av"
   ]
  },
  {
   "cell_type": "code",
   "execution_count": null,
   "id": "909ac3d0-4113-47e3-ad79-cdb6952b9547",
   "metadata": {},
   "outputs": [],
   "source": [
    "average_age(population)"
   ]
  },
  {
   "cell_type": "code",
   "execution_count": null,
   "id": "25c4f161-c883-4666-97d2-fdcb1ff6b76f",
   "metadata": {},
   "outputs": [],
   "source": [
    "average_health(population)"
   ]
  },
  {
   "cell_type": "markdown",
   "id": "6f65990e-4090-4df3-a74f-a0f237675883",
   "metadata": {},
   "source": [
    "## More Practice with Chance"
   ]
  },
  {
   "cell_type": "code",
   "execution_count": null,
   "id": "9f4dfb40-044d-4a4b-bbe5-4e849e5bfc86",
   "metadata": {},
   "outputs": [],
   "source": [
    "chr(0x2680)"
   ]
  },
  {
   "cell_type": "code",
   "execution_count": null,
   "id": "908bee97-284b-44e4-871e-ac78b4b8bbda",
   "metadata": {},
   "outputs": [],
   "source": [
    "\"\\u2680\""
   ]
  },
  {
   "cell_type": "code",
   "execution_count": null,
   "id": "57dbfaee-2227-4e98-90f5-8683dadc6238",
   "metadata": {},
   "outputs": [],
   "source": [
    "class Die:\n",
    "    \"\"\"\n",
    "    A single die that only keeps track of one value,\n",
    "    and represents itself with that value.\n",
    "\n",
    "    Method: throw\n",
    "    \"\"\"\n",
    "    unicode_faces = {1:\"\\u2680\", 2:\"\\u2681\", \n",
    "                     3:\"\\u2682\", 4:\"\\u2683\", \n",
    "                     5:\"\\u2684\", 6:\"\\u2685\"}\n",
    "\n",
    "    show_faces = True # use Unicode display\n",
    "    \n",
    "    def __init__(self):\n",
    "        # 1 facing up to start\n",
    "        self.faceup = 1\n",
    "        \n",
    "    def throw(self):\n",
    "        \"\"\"\n",
    "        throw me, return int\n",
    "        \"\"\"\n",
    "        self.faceup = randint(1, 6)\n",
    "        return self.faceup\n",
    "        \n",
    "    def __repr__(self):\n",
    "        \"\"\"\n",
    "        represent myself\n",
    "        \"\"\"\n",
    "        if self.show_faces: # finds at class level\n",
    "            output = self.unicode_faces[self.faceup]\n",
    "        else: \n",
    "            output = \"Value: {}\".format(self.faceup)\n",
    "        return output"
   ]
  },
  {
   "cell_type": "code",
   "execution_count": null,
   "id": "7460cf51-adf1-4fe2-9766-46c78b52b8b1",
   "metadata": {},
   "outputs": [],
   "source": [
    "Die.__dict__"
   ]
  },
  {
   "cell_type": "code",
   "execution_count": null,
   "id": "2bfde992-6aee-4a25-8a47-d513b120189d",
   "metadata": {},
   "outputs": [],
   "source": [
    "d = Die()\n",
    "d"
   ]
  },
  {
   "cell_type": "code",
   "execution_count": null,
   "id": "1adaacb3-7277-4e6a-bc2d-678f0e04d4b7",
   "metadata": {},
   "outputs": [],
   "source": [
    "d"
   ]
  },
  {
   "cell_type": "code",
   "execution_count": null,
   "id": "67fe9a8c-58e4-4e37-903f-f7cae8407fd2",
   "metadata": {},
   "outputs": [],
   "source": [
    "d.throw()"
   ]
  },
  {
   "cell_type": "code",
   "execution_count": null,
   "id": "0ac73837-4a3f-4b75-9d65-568ccc0ddd70",
   "metadata": {},
   "outputs": [],
   "source": [
    "d.__dict__"
   ]
  },
  {
   "cell_type": "code",
   "execution_count": null,
   "id": "cb73b6b3-20b2-458b-b1b1-9fbe62bd7174",
   "metadata": {},
   "outputs": [],
   "source": [
    "d2 = Die()\n",
    "d2.throw()\n",
    "d2"
   ]
  },
  {
   "cell_type": "code",
   "execution_count": null,
   "id": "40485aae-f4b9-44ef-83a1-edd9d40b01bc",
   "metadata": {},
   "outputs": [],
   "source": [
    "Die.show_faces = True"
   ]
  },
  {
   "cell_type": "code",
   "execution_count": null,
   "id": "094e6895-5a24-4078-bac0-fa297233a32d",
   "metadata": {},
   "outputs": [],
   "source": [
    "def shake_em(how_many):\n",
    "    dice = [Die() for _ in range(how_many)]\n",
    "    for d in dice:\n",
    "        d.throw()\n",
    "    return dice"
   ]
  },
  {
   "cell_type": "code",
   "execution_count": null,
   "id": "02783d60-1289-48ef-a628-6fe06ef664e2",
   "metadata": {},
   "outputs": [],
   "source": [
    "trial = shake_em(20)\n",
    "dlist(trial)"
   ]
  },
  {
   "cell_type": "code",
   "execution_count": null,
   "id": "de47bf37-d98f-4f2b-9137-b165f49f1f58",
   "metadata": {},
   "outputs": [],
   "source": [
    "def av(pop):  # for dice\n",
    "    return sum(d.faceup for d in pop)/len(pop)"
   ]
  },
  {
   "cell_type": "code",
   "execution_count": null,
   "id": "df66d25b-5d05-4229-89af-953f99e3bbf6",
   "metadata": {},
   "outputs": [],
   "source": [
    "av(my_turn)"
   ]
  },
  {
   "cell_type": "code",
   "execution_count": null,
   "id": "c6dfa54f-83ac-49a9-87e4-a50e28d243f2",
   "metadata": {},
   "outputs": [],
   "source": [
    "Die.show_faces = False\n",
    "list(my_turn)"
   ]
  },
  {
   "cell_type": "markdown",
   "id": "968ac20a-61fa-4544-b3c2-9f7794e9aecd",
   "metadata": {},
   "source": [
    "## itertools (continued)\n",
    "\n",
    "We have looked at some of the iterators we're able to create using this Standard Library module. Lets look at a couple more, again with emphasis on how lambda expressions might come in handy."
   ]
  },
  {
   "cell_type": "code",
   "execution_count": null,
   "id": "384f3dcd-9f6f-4093-99df-7077491a81e7",
   "metadata": {},
   "outputs": [],
   "source": [
    "from itertools import filterfalse, starmap, takewhile\n",
    "from random import randint"
   ]
  },
  {
   "cell_type": "code",
   "execution_count": null,
   "id": "e7642832-cd48-4ed5-be6a-fec7e197db2f",
   "metadata": {},
   "outputs": [],
   "source": [
    "r_nums = [randint(0, 20) for _ in range(20)]\n",
    "print(r_nums)"
   ]
  },
  {
   "cell_type": "code",
   "execution_count": null,
   "id": "d2d2be8c-b15e-4dda-91a3-21faf6ed21f8",
   "metadata": {},
   "outputs": [],
   "source": [
    "# play with the lambda condition e.g. get nums not > 5\n",
    "iterator = filterfalse(lambda x: x%2==0, r_nums)"
   ]
  },
  {
   "cell_type": "code",
   "execution_count": null,
   "id": "37095465-2283-4c36-b1ac-06406da710bc",
   "metadata": {},
   "outputs": [],
   "source": [
    "for odd in iterator:\n",
    "    print(odd, end=\" \")"
   ]
  },
  {
   "cell_type": "code",
   "execution_count": null,
   "id": "b3ac0845-02cd-4457-abb7-cec4274347a1",
   "metadata": {},
   "outputs": [],
   "source": [
    "print(list(filter(lambda x: x%2==0, r_nums)))"
   ]
  },
  {
   "cell_type": "code",
   "execution_count": null,
   "id": "d6f8f79e-bb02-471f-b543-d15748357444",
   "metadata": {},
   "outputs": [],
   "source": [
    "output = starmap(lambda x, y: x + \" \" + y, zip((\"Joe\", \"Sally\", \"Tom\"), \n",
    "        (\"Smith\", \"Conner\", \"Wells\")))"
   ]
  },
  {
   "cell_type": "code",
   "execution_count": null,
   "id": "3e561095-d943-4e40-8610-3adde72c869d",
   "metadata": {},
   "outputs": [],
   "source": [
    "list(output)"
   ]
  },
  {
   "cell_type": "code",
   "execution_count": null,
   "id": "5e9aaa72-8276-410a-a0e5-caded409b07c",
   "metadata": {},
   "outputs": [],
   "source": [
    "import primes"
   ]
  },
  {
   "cell_type": "code",
   "execution_count": null,
   "id": "3c71bf0e-1c7a-494e-8aeb-5c0b90440a6a",
   "metadata": {},
   "outputs": [],
   "source": [
    "p = primes.iter_prime()"
   ]
  },
  {
   "cell_type": "code",
   "execution_count": null,
   "id": "ca596c28-7a96-4258-a34d-89fb47634146",
   "metadata": {},
   "outputs": [],
   "source": [
    "under1000 = takewhile(lambda x: x < 1000, p)  # similar to islice"
   ]
  },
  {
   "cell_type": "code",
   "execution_count": null,
   "id": "f9a3e974-6f3c-4716-998e-c4a32073ff78",
   "metadata": {},
   "outputs": [],
   "source": [
    "print(list(under1000))"
   ]
  },
  {
   "cell_type": "markdown",
   "id": "efdf1486-e64d-425d-9a3f-4448e89463b3",
   "metadata": {},
   "source": [
    "## Modules and Packages\n",
    "\n",
    "[Python.docs: tutorial re packages](https://docs.python.org/3/tutorial/modules.html#tut-packages)"
   ]
  },
  {
   "cell_type": "markdown",
   "id": "10cf792e-546c-45d2-b91a-1f1aca2bdc41",
   "metadata": {},
   "source": [
    "Let's make an example Python package along with a utility for removing it. We will do everything from inside of Python."
   ]
  },
  {
   "cell_type": "code",
   "execution_count": 1,
   "id": "57ed9856-7e4a-4b55-9689-0bb8bdab8a0b",
   "metadata": {},
   "outputs": [],
   "source": [
    "import os"
   ]
  },
  {
   "cell_type": "code",
   "execution_count": null,
   "id": "4a1f479a-6252-4ba7-9877-c120f9cafae9",
   "metadata": {},
   "outputs": [],
   "source": [
    "def setup():\n",
    "    \n",
    "    try:\n",
    "        os.mkdir(\"planets\")\n",
    "    except FileExistsError:\n",
    "        print(\"package exists\")\n",
    "\n",
    "    try:\n",
    "        mod1 = open(\"./planets/earth.py\", \"w\")\n",
    "        mod1.write(\"\"\"\n",
    "def hello():\n",
    "    return \"Hello, Earth!\"\n",
    "\n",
    "if __name__ == \"__main__\":\n",
    "    print(hello())\n",
    "\"\"\")\n",
    "        mod1.close()\n",
    "    except:\n",
    "        print(\"File write error mod1\")\n",
    "\n",
    "    try:\n",
    "        mod2 = open(\"./planets/mars.py\", \"w\")\n",
    "        mod2.write(\"\"\"\n",
    "def hello():\n",
    "    return \"Hello, Mars!\"\n",
    "\n",
    "if __name__ == \"__main__\":\n",
    "    print(hello())\n",
    "\"\"\")\n",
    "        mod2.close()\n",
    "    except Exception:\n",
    "        print(\"File write error mod2\")\n",
    "        \n",
    "    try:\n",
    "        mod3 = open(\"./planets/__init__.py\", \"w\")\n",
    "        mod3.close()\n",
    "    except:\n",
    "        print(\"File write error\")"
   ]
  },
  {
   "cell_type": "code",
   "execution_count": null,
   "id": "61217725-dac1-4525-8191-797995412858",
   "metadata": {},
   "outputs": [],
   "source": [
    "setup()"
   ]
  },
  {
   "cell_type": "code",
   "execution_count": null,
   "id": "71bdb638-b753-4bfe-86dc-d6a1b5363fcd",
   "metadata": {},
   "outputs": [],
   "source": [
    "from planets import earth, mars"
   ]
  },
  {
   "cell_type": "code",
   "execution_count": null,
   "id": "a45832e6-ce76-40b4-8ebb-bccf2c1f1de3",
   "metadata": {},
   "outputs": [],
   "source": [
    "earth.hello()"
   ]
  },
  {
   "cell_type": "code",
   "execution_count": null,
   "id": "66dc9c00-80c8-4c70-9c6f-34bdc768139c",
   "metadata": {},
   "outputs": [],
   "source": [
    "mars.hello()"
   ]
  },
  {
   "cell_type": "code",
   "execution_count": null,
   "id": "0a5184e3-4c70-4a1d-84ce-236b4b775934",
   "metadata": {},
   "outputs": [],
   "source": [
    "def del_file(fpath):\n",
    "    try:\n",
    "        os.remove(fpath)\n",
    "    except FileNotFoundError:\n",
    "        print(\"File gone\")"
   ]
  },
  {
   "cell_type": "code",
   "execution_count": null,
   "id": "a4dafcc2-6650-44c1-b81a-a1f8a6ecedfe",
   "metadata": {},
   "outputs": [],
   "source": [
    "def cleanup():\n",
    "    if os.path.isdir(\"./planets\"):\n",
    "        print(\"Removing files...\")\n",
    "        for f in os.listdir(\"planets\"):\n",
    "            if os.path.isfile(f\"./planets/{f}\"):\n",
    "                os.remove(f\"./planets/{f}\")\n",
    "        if os.path.isdir(\"./planets/__pycache__\"):\n",
    "            print(\"Removing __pycache__\")\n",
    "            for f in os.listdir(\"./planets/__pycache__\"):\n",
    "                os.remove(f\"./planets/__pycache__/{f}\")\n",
    "            os.rmdir(\"./planets/__pycache__\")\n",
    "        os.rmdir(\"./planets\")"
   ]
  },
  {
   "cell_type": "code",
   "execution_count": null,
   "id": "a510367c-5b75-4332-a36f-9c31905eb839",
   "metadata": {},
   "outputs": [],
   "source": [
    "del earth, mars"
   ]
  },
  {
   "cell_type": "code",
   "execution_count": null,
   "id": "4d426fa7-a864-4f5f-aadc-90f0becc3ac4",
   "metadata": {},
   "outputs": [],
   "source": [
    "cleanup()"
   ]
  },
  {
   "cell_type": "code",
   "execution_count": null,
   "id": "438cb2de-129f-4949-8c93-5b5c59531f11",
   "metadata": {},
   "outputs": [],
   "source": []
  }
 ],
 "metadata": {
  "kernelspec": {
   "display_name": "Python 3 (ipykernel)",
   "language": "python",
   "name": "python3"
  },
  "language_info": {
   "codemirror_mode": {
    "name": "ipython",
    "version": 3
   },
   "file_extension": ".py",
   "mimetype": "text/x-python",
   "name": "python",
   "nbconvert_exporter": "python",
   "pygments_lexer": "ipython3",
   "version": "3.11.3"
  }
 },
 "nbformat": 4,
 "nbformat_minor": 5
}
