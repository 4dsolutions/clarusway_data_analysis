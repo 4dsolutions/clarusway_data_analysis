{
 "cells": [
  {
   "cell_type": "markdown",
   "id": "523af7bf-e96c-4c88-b5b0-598c87cd6c0c",
   "metadata": {},
   "source": [
    "#### Clarusway Python\n",
    "\n",
    "* [Instructor Landing Page](landing_page.ipynb)\n",
    "* <a href=\"https://colab.research.google.com/github/4dsolutions/clarusway_data_analysis/blob/main/basic_python/sandbox_week_06.ipynb\"><img align=\"left\" src=\"https://colab.research.google.com/assets/colab-badge.svg\" alt=\"Open in Colab\" title=\"Open and Execute in Google Colaboratory\"></a>\n",
    "* [![nbviewer](https://raw.githubusercontent.com/jupyter/design/master/logos/Badges/nbviewer_badge.svg)](https://nbviewer.org/github/4dsolutions/clarusway_data_analysis/blob/main/basic_python/sandbox_week_06.ipynb)"
   ]
  },
  {
   "cell_type": "markdown",
   "id": "9d844fba-4131-4561-b733-6e62bf2e9693",
   "metadata": {},
   "source": [
    "# Sandbox 6: Looking Back; Looking Ahead"
   ]
  },
  {
   "cell_type": "markdown",
   "id": "222b7ab8-9efd-4916-9ced-cff592612102",
   "metadata": {},
   "source": [
    "<a data-flickr-embed=\"true\" href=\"https://www.flickr.com/photos/kirbyurner/54153316662/in/dateposted/\" title=\"Course Slack Channel\"><img src=\"https://live.staticflickr.com/65535/54153316662_2703e0e9fe.jpg\" width=\"430\" height=\"500\" alt=\"Course Slack Channel\"/></a><script async src=\"//embedr.flickr.com/assets/client-code.js\" charset=\"utf-8\"></script><br />\n",
    "Class Slack Channel\n",
    "\n",
    "<a data-flickr-embed=\"true\" href=\"https://www.flickr.com/photos/kirbyurner/54153252762/in/photostream/\" title=\"Passing the Torch\"><img src=\"https://live.staticflickr.com/65535/54153252762_130c31cb55.jpg\" width=\"500\" height=\"483\" alt=\"Passing the Torch\"/></a><script async src=\"//embedr.flickr.com/assets/client-code.js\" charset=\"utf-8\"></script><br />\n",
    "From this Notebook"
   ]
  },
  {
   "cell_type": "code",
   "execution_count": 1,
   "id": "7d24d63d-74f7-49a4-8f5d-5a05c29961e0",
   "metadata": {},
   "outputs": [],
   "source": [
    "from IPython.display import YouTubeVideo # you only need to do this once, then go like..."
   ]
  },
  {
   "cell_type": "code",
   "execution_count": 2,
   "id": "d8a4d61b-08d2-4b09-8bef-96c440b04748",
   "metadata": {},
   "outputs": [
    {
     "data": {
      "image/jpeg": "[encoded data removed]",
      "text/html": [
       "\n",
       "        <iframe\n",
       "            width=\"400\"\n",
       "            height=\"300\"\n",
       "            src=\"https://www.youtube.com/embed/4vuW6tQ0218\"\n",
       "            frameborder=\"0\"\n",
       "            allowfullscreen\n",
       "            \n",
       "        ></iframe>\n",
       "        "
      ],
      "text/plain": [
       "<IPython.lib.display.YouTubeVideo at 0x104693010>"
      ]
     },
     "execution_count": 2,
     "metadata": {},
     "output_type": "execute_result"
    }
   ],
   "source": [
    "YouTubeVideo(\"4vuW6tQ0218\") # every Youtube comes with a unique address"
   ]
  },
  {
   "cell_type": "markdown",
   "id": "5436f291-a6ad-4247-9be3-51655db927f5",
   "metadata": {},
   "source": [
    "## Week 6\n",
    "\n",
    "Monday:\n",
    "\n",
    "These will be some of the highlights although not necessarily in this order (a set, not a list):\n",
    "\n",
    "* Upcoming Schedule (holiday breaks, final sessions)\n",
    "* LMS: Modules and Packages (additional material)\n",
    "* Statistics Ahead (intro)\n",
    "* Transition to DA (completing Python Prep)\n",
    "* DataFrame Previews (Data Analysis Ahead)\n",
    "* Hands on Practice (more about callables and their args and kwargs)\n",
    "* The Rest of Python (ongoing theme -- there's always a little more)\n",
    "\n",
    "Tuesday (in whatever order):\n",
    "\n",
    "* Continue in Sandbox 6\n",
    "* [indigs](https://mail.python.org/archives/list/edu-sig@python.org/message/EBZYLOWGIE6FYWB7N6U6GS3SNPDW7AZL/)\n",
    "* Continue in Notebook17&18\n",
    "* Using AI to plot a Bell Curve\n",
    "* Sampling a Population (DA concepts)\n",
    "* Dice as Objects\n",
    "* The Rest of Python\n",
    "\n",
    "Wednesday:\n",
    "\n",
    "* [Lab](Assignments_Labs.ipynb)\n",
    "\n",
    "Thursday (in whatever order):\n",
    "\n",
    "* os module -- interfacing with operating system\n",
    "* sys module -- sys.path especially\n",
    "* package managers ([pip](https://docs.python.org/3/installing/index.html) vs [conda](https://docs.conda.io/en/latest/))\n",
    "* packages vs [modules](https://docs.python.org/3/tutorial/modules.html#tut-modules)\n",
    "* reading and writing files (continuing from Lab)\n",
    "* `'__main__'` script vs imported module\n",
    "* recursion: factorial, gcd, indigs etc.\n",
    "\n",
    "My Python Warmup (same repo, different subfolder) has some relevant [intro material](https://github.com/4dsolutions/clarusway_data_analysis/blob/main/python_warm_up/warmup_3rd_party_datascience.ipynb).\n",
    "\n",
    "This figure shows how web development and data science are like two branches of a river or tree. It's a simplified view as there are many more branches and lots of cross-over.\n",
    "\n",
    "SQL is somewhat at the root of both, as both the web and data science depend on having lots of well organized data (picture file cabinets).\n",
    "\n",
    "<br />\n",
    "\n",
    "<a data-flickr-embed=\"true\" href=\"https://www.flickr.com/photos/kirbyurner/24749338009/in/album-72177720296706479\" title=\"Pythonic Ecosystem\"><img src=\"https://live.staticflickr.com/1624/24749338009_537ab57eb1.jpg\" width=\"375\" height=\"500\" alt=\"Pythonic Ecosystem\"/></a><script async src=\"//embedr.flickr.com/assets/client-code.js\" charset=\"utf-8\"></script>\n",
    "\n",
    "<br />\n",
    "\n",
    "<a data-flickr-embed=\"true\" href=\"https://www.flickr.com/photos/kirbyurner/54150809997/in/dateposted/\" title=\"data_access_tree\"><img src=\"https://live.staticflickr.com/65535/54150809997_e4f2596499.jpg\" width=\"401\" height=\"500\" alt=\"data_access_tree\"/></a><script async src=\"//embedr.flickr.com/assets/client-code.js\" charset=\"utf-8\"></script>\n",
    "\n",
    "File Tree.\n",
    "\n",
    "Prompt:  Cutaway view of an office building full of file cabinets in the basement. A giant tree with roots in the basement has its branches upstairs. Workers in cubicles are on the leaves, using workstations."
   ]
  },
  {
   "cell_type": "code",
   "execution_count": null,
   "id": "26f25bbe-79d2-4c55-8676-9b28e26701a1",
   "metadata": {},
   "outputs": [],
   "source": []
  },
  {
   "cell_type": "markdown",
   "id": "4e64cd44-ad6d-452f-9519-944203043bc5",
   "metadata": {},
   "source": [
    "## Playing with Foods"
   ]
  },
  {
   "cell_type": "code",
   "execution_count": 3,
   "id": "1ddff8dd-1482-48a3-a9ab-199fa39babb4",
   "metadata": {},
   "outputs": [],
   "source": [
    "foods = [chr(codepoint) for codepoint in range(127815, 127815 + 50)]"
   ]
  },
  {
   "cell_type": "code",
   "execution_count": 4,
   "id": "38a844c2-df74-4c80-bdb4-b1883e0f13dd",
   "metadata": {},
   "outputs": [
    {
     "name": "stdout",
     "output_type": "stream",
     "text": [
      "['🍇', '🍈', '🍉', '🍊', '🍋', '🍌', '🍍', '🍎', '🍏', '🍐', '🍑', '🍒', '🍓', '🍔', '🍕', '🍖', '🍗', '🍘', '🍙', '🍚', '🍛', '🍜', '🍝', '🍞', '🍟', '🍠', '🍡', '🍢', '🍣', '🍤', '🍥', '🍦', '🍧', '🍨', '🍩', '🍪', '🍫', '🍬', '🍭', '🍮', '🍯', '🍰', '🍱', '🍲', '🍳', '🍴', '🍵', '🍶', '🍷', '🍸']\n"
     ]
    }
   ],
   "source": [
    "print(foods)"
   ]
  },
  {
   "cell_type": "code",
   "execution_count": 5,
   "id": "a472af34-b0f2-4051-80d7-e01247dcc88d",
   "metadata": {},
   "outputs": [],
   "source": [
    "from random import shuffle, randint, choice"
   ]
  },
  {
   "cell_type": "code",
   "execution_count": 6,
   "id": "59f4f6bc-4eed-43aa-80e4-e64475c3f767",
   "metadata": {},
   "outputs": [
    {
     "name": "stdout",
     "output_type": "stream",
     "text": [
      "['🍴', '🍸', '🍩', '🍴', '🍩', '🍸', '🍸', '🍸', '🍸', '🍴', '🍩', '🍴', '🍩', '🍩', '🍴', '🍩', '🍩', '🍩', '🍴', '🍴', '🍸', '🍩', '🍩', '🍴']\n"
     ]
    }
   ],
   "source": [
    "test_list = (list(choice(foods) * randint(1,10)) + \n",
    "             list(choice(foods) * randint(1,10)) + \n",
    "             list(choice(foods) * randint(1,10)))\n",
    "shuffle(test_list)\n",
    "\n",
    "print(test_list)"
   ]
  },
  {
   "cell_type": "code",
   "execution_count": 7,
   "id": "8470a824-c459-4e07-bfc7-5af945513acf",
   "metadata": {},
   "outputs": [
    {
     "data": {
      "text/plain": [
       "8"
      ]
     },
     "execution_count": 7,
     "metadata": {},
     "output_type": "execute_result"
    }
   ],
   "source": [
    "test_list.count(test_list[0])"
   ]
  },
  {
   "cell_type": "code",
   "execution_count": 8,
   "id": "e85ad8cd-f027-4484-bd04-492cc609c510",
   "metadata": {},
   "outputs": [
    {
     "data": {
      "text/plain": [
       "10"
      ]
     },
     "execution_count": 8,
     "metadata": {},
     "output_type": "execute_result"
    }
   ],
   "source": [
    "highest_count = max([test_list.count(food) for food in test_list])\n",
    "highest_count"
   ]
  },
  {
   "cell_type": "code",
   "execution_count": 9,
   "id": "9e88a69a-f767-45c1-9334-1df95b0cadc4",
   "metadata": {},
   "outputs": [],
   "source": [
    "# help(max)"
   ]
  },
  {
   "cell_type": "code",
   "execution_count": 10,
   "id": "ae927649-f958-405b-b0ea-1e1c6f3ec600",
   "metadata": {},
   "outputs": [
    {
     "data": {
      "text/plain": [
       "'🍩'"
      ]
     },
     "execution_count": 10,
     "metadata": {},
     "output_type": "execute_result"
    }
   ],
   "source": [
    "most_frequent = max(test_list, key=test_list.count)  # which is highest count?\n",
    "most_frequent"
   ]
  },
  {
   "cell_type": "code",
   "execution_count": 11,
   "id": "125d2a1d-648e-4ab9-bcb7-c520dc3507a6",
   "metadata": {},
   "outputs": [
    {
     "name": "stdout",
     "output_type": "stream",
     "text": [
      "The food that occurs most frequently is 🍩, it occurs 10 times.\n",
      "Possibly other foods occur just as frequently.\n"
     ]
    }
   ],
   "source": [
    "print(f\"The food that occurs most frequently is {most_frequent}, it occurs {highest_count} times.\")\n",
    "print(\"Possibly other foods occur just as frequently.\")"
   ]
  },
  {
   "cell_type": "markdown",
   "id": "5baecd44-ccd7-432c-943b-232896ac14b1",
   "metadata": {},
   "source": [
    "Unicode: the basis of Python's native string type (str).\n",
    "\n",
    "<a data-flickr-embed=\"true\" href=\"https://www.flickr.com/photos/kirbyurner/29832307687/in/album-72177720296706479\" title=\"Unicode on Windows\"><img src=\"https://live.staticflickr.com/1847/29832307687_0aee594ec5_c.jpg\" width=\"800\" height=\"551\" alt=\"Unicode on Windows\"/></a><script async src=\"//embedr.flickr.com/assets/client-code.js\" charset=\"utf-8\"></script>"
   ]
  },
  {
   "cell_type": "markdown",
   "id": "3354b778-1ad4-4f15-b664-97590f4a5cbb",
   "metadata": {},
   "source": [
    "## The built-in map function\n",
    "\n",
    "map is a higher order function, meaning it takes a function as its argument, followed by an iterator. \n",
    "\n",
    "The function may be a named function, or perhaps a lambda expression.\n",
    "\n",
    "Languages that allow functions to also play the role of arguments are in a class by themselves. Python is one of them."
   ]
  },
  {
   "cell_type": "code",
   "execution_count": 12,
   "id": "9c08424e-ad80-424d-9884-3dfb5d4bb37d",
   "metadata": {},
   "outputs": [
    {
     "name": "stdout",
     "output_type": "stream",
     "text": [
      "Help on class map in module builtins:\n",
      "\n",
      "class map(object)\n",
      " |  map(func, *iterables) --> map object\n",
      " |  \n",
      " |  Make an iterator that computes the function using arguments from\n",
      " |  each of the iterables.  Stops when the shortest iterable is exhausted.\n",
      " |  \n",
      " |  Methods defined here:\n",
      " |  \n",
      " |  __getattribute__(self, name, /)\n",
      " |      Return getattr(self, name).\n",
      " |  \n",
      " |  __iter__(self, /)\n",
      " |      Implement iter(self).\n",
      " |  \n",
      " |  __next__(self, /)\n",
      " |      Implement next(self).\n",
      " |  \n",
      " |  __reduce__(...)\n",
      " |      Return state information for pickling.\n",
      " |  \n",
      " |  ----------------------------------------------------------------------\n",
      " |  Static methods defined here:\n",
      " |  \n",
      " |  __new__(*args, **kwargs) from builtins.type\n",
      " |      Create and return a new object.  See help(type) for accurate signature.\n",
      "\n"
     ]
    }
   ],
   "source": [
    "help(map)"
   ]
  },
  {
   "cell_type": "code",
   "execution_count": 13,
   "id": "6b5d107a-8146-4939-a44a-25d3fb7fd7e4",
   "metadata": {},
   "outputs": [],
   "source": [
    "m = map(lambda x, y, z: x + y + z, (1,2), (3,4), (10, 10))  # reminds of zip"
   ]
  },
  {
   "cell_type": "code",
   "execution_count": 14,
   "id": "0d44782b-069b-441c-9a44-d4caf2fbd3c1",
   "metadata": {},
   "outputs": [
    {
     "data": {
      "text/plain": [
       "14"
      ]
     },
     "execution_count": 14,
     "metadata": {},
     "output_type": "execute_result"
    }
   ],
   "source": [
    "next(m)"
   ]
  },
  {
   "cell_type": "code",
   "execution_count": 15,
   "id": "26ce8f6f-75c1-4851-9b2a-f731e46b3146",
   "metadata": {},
   "outputs": [
    {
     "data": {
      "text/plain": [
       "16"
      ]
     },
     "execution_count": 15,
     "metadata": {},
     "output_type": "execute_result"
    }
   ],
   "source": [
    "next(m)"
   ]
  },
  {
   "cell_type": "code",
   "execution_count": 16,
   "id": "2a682764-4d24-4b56-ab74-5aacfdf4d965",
   "metadata": {},
   "outputs": [],
   "source": [
    "pow2 = map(lambda x: x**2, range(20))"
   ]
  },
  {
   "cell_type": "code",
   "execution_count": 17,
   "id": "9620a172-6467-4c4b-a50d-7738bb920b99",
   "metadata": {},
   "outputs": [
    {
     "name": "stdout",
     "output_type": "stream",
     "text": [
      "[0, 1, 4, 9, 16, 25, 36, 49, 64, 81, 100, 121, 144, 169, 196, 225, 256, 289, 324, 361]\n"
     ]
    }
   ],
   "source": [
    "print(list(pow2))"
   ]
  },
  {
   "cell_type": "markdown",
   "id": "38870917-ba03-46c0-9db0-1fb8a0a624e9",
   "metadata": {},
   "source": [
    "## Variable number of arguments\n",
    "\n",
    "Perhaps much sooner than you will need to write your own functions, you will want to get help on what callables are already out there.  In that case, understanding the role of * and / helps a lot.\n",
    "\n",
    "The * used alone means: only named arguments to its right.\n",
    "The / used alone means: only positionals to its left.\n",
    "\n",
    "If / is used, then the ordinary practice of being able to pass by name, even to parameters with no default value, is suspended."
   ]
  },
  {
   "cell_type": "code",
   "execution_count": 18,
   "id": "30ad264d-d5ea-4aec-82a9-1cb01e79568e",
   "metadata": {},
   "outputs": [
    {
     "data": {
      "text/plain": [
       "3"
      ]
     },
     "execution_count": 18,
     "metadata": {},
     "output_type": "execute_result"
    }
   ],
   "source": [
    "def func1(a, b):\n",
    "    return a + b\n",
    "\n",
    "func1(b=1, a=2)"
   ]
  },
  {
   "cell_type": "code",
   "execution_count": 19,
   "id": "d9b151b5-caff-4b1b-9c2a-4f71e4b6f525",
   "metadata": {},
   "outputs": [
    {
     "data": {
      "text/plain": [
       "3"
      ]
     },
     "execution_count": 19,
     "metadata": {},
     "output_type": "execute_result"
    }
   ],
   "source": [
    "def func2(a, b, /):\n",
    "    return a + b\n",
    "\n",
    "func2(1, 2)"
   ]
  },
  {
   "cell_type": "code",
   "execution_count": 20,
   "id": "6c6c49af-d5af-43ee-8027-642262db776a",
   "metadata": {},
   "outputs": [
    {
     "name": "stdout",
     "output_type": "stream",
     "text": [
      "Nope!\n"
     ]
    }
   ],
   "source": [
    "try:\n",
    "    func2(b=1, a=2)\n",
    "except:\n",
    "    print(\"Nope!\")"
   ]
  },
  {
   "cell_type": "code",
   "execution_count": 21,
   "id": "11fbb612-26c3-4283-a0bf-f50f5938cc64",
   "metadata": {},
   "outputs": [],
   "source": [
    "def average(*all_args):\n",
    "    return sum(all_args)/len(all_args)"
   ]
  },
  {
   "cell_type": "code",
   "execution_count": 22,
   "id": "47fb83ea-6390-44f4-aa2e-783204d70399",
   "metadata": {},
   "outputs": [
    {
     "data": {
      "text/plain": [
       "3.111111111111111"
      ]
     },
     "execution_count": 22,
     "metadata": {},
     "output_type": "execute_result"
    }
   ],
   "source": [
    "average(3,2,4,5,1,4,0,1,8)"
   ]
  },
  {
   "cell_type": "markdown",
   "id": "279ec16b-1333-4e1e-8868-141be36c1d0c",
   "metadata": {},
   "source": [
    "## Galton Board and Pascal's Triangle\n",
    "\n",
    "Here's some raw material for thinking more about statistics.\n",
    "\n",
    "![](http://4dsolutions.net/ocn/graphics/randtrianim.gif)\n",
    "\n",
    "From:  [Numeracy Series: Python + POV-Ray](http://4dsolutions.net/ocn/numeracy0.html) (Oregon Curriculum Network, early 2000s)"
   ]
  },
  {
   "cell_type": "code",
   "execution_count": 23,
   "id": "8e6979fc-94b1-4d67-885d-e568240e8f55",
   "metadata": {},
   "outputs": [],
   "source": [
    "from pascal import pascal"
   ]
  },
  {
   "cell_type": "code",
   "execution_count": 24,
   "id": "fe3a4dbc-8ce5-4d5e-89d6-c263ee2304ed",
   "metadata": {},
   "outputs": [],
   "source": [
    "p = pascal()"
   ]
  },
  {
   "cell_type": "code",
   "execution_count": 25,
   "id": "23297df0-6560-4c1b-b4e2-cfc81ed03ab7",
   "metadata": {},
   "outputs": [
    {
     "data": {
      "text/plain": [
       "[1]"
      ]
     },
     "execution_count": 25,
     "metadata": {},
     "output_type": "execute_result"
    }
   ],
   "source": [
    "next(p)"
   ]
  },
  {
   "cell_type": "code",
   "execution_count": 26,
   "id": "05e1e139-ee2a-433b-acce-d600d66ee58e",
   "metadata": {},
   "outputs": [
    {
     "name": "stdout",
     "output_type": "stream",
     "text": [
      "[1, 11, 55, 165, 330, 462, 462, 330, 165, 55, 11, 1]\n"
     ]
    }
   ],
   "source": [
    "for _ in range(10):\n",
    "    next(p)\n",
    "print(next(p))"
   ]
  },
  {
   "cell_type": "code",
   "execution_count": 27,
   "id": "5db62034-a574-43d3-ab26-28a7feee25ad",
   "metadata": {},
   "outputs": [
    {
     "data": {
      "image/jpeg": "[encoded data removed]",
      "text/html": [
       "\n",
       "        <iframe\n",
       "            width=\"400\"\n",
       "            height=\"300\"\n",
       "            src=\"https://www.youtube.com/embed/EvHiee7gs9Y\"\n",
       "            frameborder=\"0\"\n",
       "            allowfullscreen\n",
       "            \n",
       "        ></iframe>\n",
       "        "
      ],
      "text/plain": [
       "<IPython.lib.display.YouTubeVideo at 0x1054e2f10>"
      ]
     },
     "execution_count": 27,
     "metadata": {},
     "output_type": "execute_result"
    }
   ],
   "source": [
    "YouTubeVideo(\"EvHiee7gs9Y\")"
   ]
  },
  {
   "cell_type": "markdown",
   "id": "2d059215-037c-44ce-a3eb-d2f39de6a016",
   "metadata": {},
   "source": [
    "The two cells below preview where we'll be going in Data Analysis with Python: into pandas, with its most important type, the DataFrame."
   ]
  },
  {
   "cell_type": "code",
   "execution_count": 28,
   "id": "45d7e132-2f89-42bd-b8ea-398bfdc06c3f",
   "metadata": {},
   "outputs": [],
   "source": [
    "import pandas as pd  # see landing_page for other examples"
   ]
  },
  {
   "cell_type": "markdown",
   "id": "5b69f3e8-cab7-413c-9aa0-2e6ecd7583e5",
   "metadata": {},
   "source": [
    "The cell below says \"make a data table with one column, entitled pumpkins, with a next row from Pascal's Triangle for data. The leftmost indexing column, starting at zero, shows up for free."
   ]
  },
  {
   "cell_type": "code",
   "execution_count": 29,
   "id": "8ca23c90-a45f-494e-b105-939d7ab83e51",
   "metadata": {},
   "outputs": [
    {
     "data": {
      "text/html": [
       "<div>\n",
       "<style scoped>\n",
       "    .dataframe tbody tr th:only-of-type {\n",
       "        vertical-align: middle;\n",
       "    }\n",
       "\n",
       "    .dataframe tbody tr th {\n",
       "        vertical-align: top;\n",
       "    }\n",
       "\n",
       "    .dataframe thead th {\n",
       "        text-align: right;\n",
       "    }\n",
       "</style>\n",
       "<table border=\"1\" class=\"dataframe\">\n",
       "  <thead>\n",
       "    <tr style=\"text-align: right;\">\n",
       "      <th></th>\n",
       "      <th>pumpkins</th>\n",
       "    </tr>\n",
       "  </thead>\n",
       "  <tbody>\n",
       "    <tr>\n",
       "      <th>0</th>\n",
       "      <td>1</td>\n",
       "    </tr>\n",
       "    <tr>\n",
       "      <th>1</th>\n",
       "      <td>12</td>\n",
       "    </tr>\n",
       "    <tr>\n",
       "      <th>2</th>\n",
       "      <td>66</td>\n",
       "    </tr>\n",
       "    <tr>\n",
       "      <th>3</th>\n",
       "      <td>220</td>\n",
       "    </tr>\n",
       "    <tr>\n",
       "      <th>4</th>\n",
       "      <td>495</td>\n",
       "    </tr>\n",
       "    <tr>\n",
       "      <th>5</th>\n",
       "      <td>792</td>\n",
       "    </tr>\n",
       "    <tr>\n",
       "      <th>6</th>\n",
       "      <td>924</td>\n",
       "    </tr>\n",
       "    <tr>\n",
       "      <th>7</th>\n",
       "      <td>792</td>\n",
       "    </tr>\n",
       "    <tr>\n",
       "      <th>8</th>\n",
       "      <td>495</td>\n",
       "    </tr>\n",
       "    <tr>\n",
       "      <th>9</th>\n",
       "      <td>220</td>\n",
       "    </tr>\n",
       "    <tr>\n",
       "      <th>10</th>\n",
       "      <td>66</td>\n",
       "    </tr>\n",
       "    <tr>\n",
       "      <th>11</th>\n",
       "      <td>12</td>\n",
       "    </tr>\n",
       "    <tr>\n",
       "      <th>12</th>\n",
       "      <td>1</td>\n",
       "    </tr>\n",
       "  </tbody>\n",
       "</table>\n",
       "</div>"
      ],
      "text/plain": [
       "    pumpkins\n",
       "0          1\n",
       "1         12\n",
       "2         66\n",
       "3        220\n",
       "4        495\n",
       "5        792\n",
       "6        924\n",
       "7        792\n",
       "8        495\n",
       "9        220\n",
       "10        66\n",
       "11        12\n",
       "12         1"
      ]
     },
     "execution_count": 29,
     "metadata": {},
     "output_type": "execute_result"
    }
   ],
   "source": [
    "table = pd.DataFrame({\"pumpkins\": next(p)}) # next(p) is a whole row\n",
    "table"
   ]
  },
  {
   "cell_type": "markdown",
   "id": "7f687791-1d76-4db5-8251-63a4a3cd2395",
   "metadata": {},
   "source": [
    "Once you have a pandas data table, named table in this example, you have immediate access to its plot methods."
   ]
  },
  {
   "cell_type": "code",
   "execution_count": 30,
   "id": "c49846f9-5f9e-4528-b595-50e2f6ccd5f8",
   "metadata": {},
   "outputs": [
    {
     "data": {
      "image/png": "[encoded data removed]",
      "text/plain": [
       "<Figure size 640x480 with 1 Axes>"
      ]
     },
     "metadata": {},
     "output_type": "display_data"
    }
   ],
   "source": [
    "table.plot(title=\"Binomial Distribution\");"
   ]
  },
  {
   "cell_type": "markdown",
   "id": "ad1d27ec-bcb4-454d-b0e0-3d0111803f57",
   "metadata": {},
   "source": [
    "Why a Bell Curve?  Think of how many ways a pumpkin, raining down through a Galton Board of pegs, might find its way to the bottom row.  It has many more ways to reach a center slot than an extreme left or right slot.\n",
    "\n",
    "The balls falling through the Galton Board end up in buckets and the mathematical description of their counts is the Binomial Distribution. That's what the stair step pattern centers on, given enough trials.\n",
    "\n",
    "Going from a stair step pattern to a smooth curve makes it the Normal Distribution, which is continuous versus discrete. The Normal Distribution is also known as a Gaussian Distribution or, most informally, as the Bell Curve.\n",
    "\n",
    "Exhibit:  [Asking Gemini to plot the Gaussian Distribution](https://colab.research.google.com/drive/1ZcZLKAjQsa3Pui-trngWvkON50Ab2tpu?usp=sharing)\n",
    "\n",
    "<a data-flickr-embed=\"true\" href=\"https://www.flickr.com/photos/kirbyurner/54152008669/in/dateposted/\" title=\"Screen Shot 2024-11-19 at 1.06.01 PM\"><img src=\"https://live.staticflickr.com/65535/54152008669_b02d4f9f30_c.jpg\" width=\"800\" height=\"469\" alt=\"Screen Shot 2024-11-19 at 1.06.01 PM\"/></a><script async src=\"//embedr.flickr.com/assets/client-code.js\" charset=\"utf-8\"></script>"
   ]
  },
  {
   "cell_type": "code",
   "execution_count": 31,
   "id": "4f1c26ff-b94e-454d-b19a-e72f17ab45db",
   "metadata": {},
   "outputs": [
    {
     "data": {
      "image/jpeg": "[encoded data removed]",
      "text/html": [
       "\n",
       "        <iframe\n",
       "            width=\"400\"\n",
       "            height=\"300\"\n",
       "            src=\"https://www.youtube.com/embed/zeJD6dqJ5lo\"\n",
       "            frameborder=\"0\"\n",
       "            allowfullscreen\n",
       "            \n",
       "        ></iframe>\n",
       "        "
      ],
      "text/plain": [
       "<IPython.lib.display.YouTubeVideo at 0x108bf7b10>"
      ]
     },
     "execution_count": 31,
     "metadata": {},
     "output_type": "execute_result"
    }
   ],
   "source": [
    "YouTubeVideo(\"zeJD6dqJ5lo\")"
   ]
  },
  {
   "cell_type": "code",
   "execution_count": 32,
   "id": "7ff9b5d5-6fd9-4626-9f46-0e8c5e7444ce",
   "metadata": {},
   "outputs": [
    {
     "data": {
      "image/jpeg": "[encoded data removed]",
      "text/html": [
       "\n",
       "        <iframe\n",
       "            width=\"400\"\n",
       "            height=\"300\"\n",
       "            src=\"https://www.youtube.com/embed/_YOr_yYPytM\"\n",
       "            frameborder=\"0\"\n",
       "            allowfullscreen\n",
       "            \n",
       "        ></iframe>\n",
       "        "
      ],
      "text/plain": [
       "<IPython.lib.display.YouTubeVideo at 0x108e6c110>"
      ]
     },
     "execution_count": 32,
     "metadata": {},
     "output_type": "execute_result"
    }
   ],
   "source": [
    "YouTubeVideo(\"_YOr_yYPytM\")"
   ]
  },
  {
   "cell_type": "markdown",
   "id": "59af2553-b7c3-474a-830c-ec67eb259e85",
   "metadata": {},
   "source": [
    "Since we have the pandas DataFrame in play, lets preview creating a table with more than one column. \n",
    "\n",
    "Remember the unnamed numeric index column on the far left comes to us for free.  \n",
    "\n",
    "Our initializing arguments if passed as a dictionary take the form of column_name:values, and will appear in the same order as the keys."
   ]
  },
  {
   "cell_type": "code",
   "execution_count": 33,
   "id": "198aeefc-669d-4b7d-b233-08871c401c0d",
   "metadata": {},
   "outputs": [],
   "source": [
    "df = pd.DataFrame({\n",
    "    'Name': ['Luke','Gina','Sam','Emma'],\n",
    "    'Status': ['Father', 'Mother', 'Son', 'Daughter'],\n",
    "    'Birthyear': [1976, 1984, 2013, 2016],\n",
    "})"
   ]
  },
  {
   "cell_type": "code",
   "execution_count": 34,
   "id": "55439b20-67c0-4059-9a32-19ca2f9fc61d",
   "metadata": {},
   "outputs": [
    {
     "data": {
      "text/html": [
       "<div>\n",
       "<style scoped>\n",
       "    .dataframe tbody tr th:only-of-type {\n",
       "        vertical-align: middle;\n",
       "    }\n",
       "\n",
       "    .dataframe tbody tr th {\n",
       "        vertical-align: top;\n",
       "    }\n",
       "\n",
       "    .dataframe thead th {\n",
       "        text-align: right;\n",
       "    }\n",
       "</style>\n",
       "<table border=\"1\" class=\"dataframe\">\n",
       "  <thead>\n",
       "    <tr style=\"text-align: right;\">\n",
       "      <th></th>\n",
       "      <th>Name</th>\n",
       "      <th>Status</th>\n",
       "      <th>Birthyear</th>\n",
       "    </tr>\n",
       "  </thead>\n",
       "  <tbody>\n",
       "    <tr>\n",
       "      <th>0</th>\n",
       "      <td>Luke</td>\n",
       "      <td>Father</td>\n",
       "      <td>1976</td>\n",
       "    </tr>\n",
       "    <tr>\n",
       "      <th>1</th>\n",
       "      <td>Gina</td>\n",
       "      <td>Mother</td>\n",
       "      <td>1984</td>\n",
       "    </tr>\n",
       "    <tr>\n",
       "      <th>2</th>\n",
       "      <td>Sam</td>\n",
       "      <td>Son</td>\n",
       "      <td>2013</td>\n",
       "    </tr>\n",
       "    <tr>\n",
       "      <th>3</th>\n",
       "      <td>Emma</td>\n",
       "      <td>Daughter</td>\n",
       "      <td>2016</td>\n",
       "    </tr>\n",
       "  </tbody>\n",
       "</table>\n",
       "</div>"
      ],
      "text/plain": [
       "   Name    Status  Birthyear\n",
       "0  Luke    Father       1976\n",
       "1  Gina    Mother       1984\n",
       "2   Sam       Son       2013\n",
       "3  Emma  Daughter       2016"
      ]
     },
     "execution_count": 34,
     "metadata": {},
     "output_type": "execute_result"
    }
   ],
   "source": [
    "df"
   ]
  },
  {
   "cell_type": "markdown",
   "id": "e2827a96-7e02-4920-98e8-9ca64e06b2f9",
   "metadata": {},
   "source": [
    "This example is from one of the linked readings about how lambda functions get used in the real world. \n",
    "\n",
    "Here we use the `apply` method to change all the entries in the age column, based on a simple computation."
   ]
  },
  {
   "cell_type": "code",
   "execution_count": 35,
   "id": "5e8fb4ce-1ef5-423a-955d-852afbb1e0ef",
   "metadata": {},
   "outputs": [],
   "source": [
    "df['age'] = df['Birthyear'].apply(lambda x: 2024-x)"
   ]
  },
  {
   "cell_type": "code",
   "execution_count": 36,
   "id": "488f70ee-90b1-4dca-8957-9473e0cc6ac3",
   "metadata": {},
   "outputs": [
    {
     "data": {
      "text/html": [
       "<div>\n",
       "<style scoped>\n",
       "    .dataframe tbody tr th:only-of-type {\n",
       "        vertical-align: middle;\n",
       "    }\n",
       "\n",
       "    .dataframe tbody tr th {\n",
       "        vertical-align: top;\n",
       "    }\n",
       "\n",
       "    .dataframe thead th {\n",
       "        text-align: right;\n",
       "    }\n",
       "</style>\n",
       "<table border=\"1\" class=\"dataframe\">\n",
       "  <thead>\n",
       "    <tr style=\"text-align: right;\">\n",
       "      <th></th>\n",
       "      <th>Name</th>\n",
       "      <th>Status</th>\n",
       "      <th>Birthyear</th>\n",
       "      <th>age</th>\n",
       "    </tr>\n",
       "  </thead>\n",
       "  <tbody>\n",
       "    <tr>\n",
       "      <th>0</th>\n",
       "      <td>Luke</td>\n",
       "      <td>Father</td>\n",
       "      <td>1976</td>\n",
       "      <td>48</td>\n",
       "    </tr>\n",
       "    <tr>\n",
       "      <th>1</th>\n",
       "      <td>Gina</td>\n",
       "      <td>Mother</td>\n",
       "      <td>1984</td>\n",
       "      <td>40</td>\n",
       "    </tr>\n",
       "    <tr>\n",
       "      <th>2</th>\n",
       "      <td>Sam</td>\n",
       "      <td>Son</td>\n",
       "      <td>2013</td>\n",
       "      <td>11</td>\n",
       "    </tr>\n",
       "    <tr>\n",
       "      <th>3</th>\n",
       "      <td>Emma</td>\n",
       "      <td>Daughter</td>\n",
       "      <td>2016</td>\n",
       "      <td>8</td>\n",
       "    </tr>\n",
       "  </tbody>\n",
       "</table>\n",
       "</div>"
      ],
      "text/plain": [
       "   Name    Status  Birthyear  age\n",
       "0  Luke    Father       1976   48\n",
       "1  Gina    Mother       1984   40\n",
       "2   Sam       Son       2013   11\n",
       "3  Emma  Daughter       2016    8"
      ]
     },
     "execution_count": 36,
     "metadata": {},
     "output_type": "execute_result"
    }
   ],
   "source": [
    "df"
   ]
  },
  {
   "cell_type": "markdown",
   "id": "c77456b0-96ac-4f25-89e8-04dda6564484",
   "metadata": {},
   "source": [
    "### Sampling from a Population\n",
    "\n",
    "Lets do a simulation the exercises all our skills plus adds more reading fluency around the class concept."
   ]
  },
  {
   "cell_type": "code",
   "execution_count": 37,
   "id": "157b08c1-4179-4899-a43e-b18f29c07b0b",
   "metadata": {},
   "outputs": [],
   "source": [
    "if not 'randint' in dir():\n",
    "    from random import randint\n",
    "    \n",
    "class Dino:\n",
    "\n",
    "    def __init__(self):\n",
    "        self.health  = randint(1, 21)\n",
    "        self.age     = randint(1, 101)\n",
    "        self.stomach = [ ]\n",
    "\n",
    "    def eat(self, food):\n",
    "        # print(\"Yum!\")\n",
    "        self.stomach.append(food)\n",
    "\n",
    "    def __repr__(self):\n",
    "        return f\"Dino at {id(self)}\""
   ]
  },
  {
   "cell_type": "code",
   "execution_count": 38,
   "id": "4eeca67a-cb26-4dd5-8954-38b2b2c7d0d6",
   "metadata": {},
   "outputs": [
    {
     "name": "stdout",
     "output_type": "stream",
     "text": [
      "Help on method randint in module random:\n",
      "\n",
      "randint(a, b) method of random.Random instance\n",
      "    Return random integer in range [a, b], including both end points.\n",
      "\n"
     ]
    }
   ],
   "source": [
    "help(randint)"
   ]
  },
  {
   "cell_type": "code",
   "execution_count": 39,
   "id": "9c2b2401-28f2-40f3-bf17-63a6bbe0a00b",
   "metadata": {},
   "outputs": [],
   "source": [
    "population = [Dino() for _ in range(100)] # make 100 dinos"
   ]
  },
  {
   "cell_type": "code",
   "execution_count": 40,
   "id": "54a8754e-6590-442e-88ae-39a276880ecb",
   "metadata": {},
   "outputs": [
    {
     "data": {
      "text/plain": [
       "Dino at 4444849680"
      ]
     },
     "execution_count": 40,
     "metadata": {},
     "output_type": "execute_result"
    }
   ],
   "source": [
    "rex = population[0]\n",
    "rex"
   ]
  },
  {
   "cell_type": "code",
   "execution_count": 41,
   "id": "7260e724-664e-484a-ad51-030bf780f0e8",
   "metadata": {},
   "outputs": [],
   "source": [
    "rex.eat(foods[0])"
   ]
  },
  {
   "cell_type": "code",
   "execution_count": 42,
   "id": "0cc82a1c-edcd-4c0c-b69f-14163a0a6da0",
   "metadata": {},
   "outputs": [
    {
     "data": {
      "text/plain": [
       "{'health': 9, 'age': 32, 'stomach': ['🍇']}"
      ]
     },
     "execution_count": 42,
     "metadata": {},
     "output_type": "execute_result"
    }
   ],
   "source": [
    "rex.__dict__"
   ]
  },
  {
   "cell_type": "code",
   "execution_count": 43,
   "id": "922a6b90-32be-43b5-b877-87486667a3bb",
   "metadata": {},
   "outputs": [
    {
     "name": "stdout",
     "output_type": "stream",
     "text": [
      "[Dino at 4444849680, Dino at 4444312784, Dino at 4444807952, Dino at 4444814480, Dino at 4444849616, Dino at 4444849808, Dino at 4444849872, Dino at 4444849936, Dino at 4444850000, Dino at 4444849744, Dino at 4444850064, Dino at 4444850128, Dino at 4444850192, Dino at 4444850320, Dino at 4444850384, Dino at 4444850448, Dino at 4444850512, Dino at 4444850576, Dino at 4444850640, Dino at 4444850704, Dino at 4444850768, Dino at 4444850832, Dino at 4444850896, Dino at 4444850960, Dino at 4444851088, Dino at 4444851152, Dino at 4444851216, Dino at 4444851280, Dino at 4444851344, Dino at 4444851408, Dino at 4444851472, Dino at 4444851536, Dino at 4444851600, Dino at 4444851664, Dino at 4444851728, Dino at 4444851792, Dino at 4444851856, Dino at 4444851920, Dino at 4444851984, Dino at 4444852048, Dino at 4444852112, Dino at 4444852176, Dino at 4444852240, Dino at 4444852304, Dino at 4444852368, Dino at 4444852432, Dino at 4444852496, Dino at 4444852560, Dino at 4444852624, Dino at 4444852688, Dino at 4444852752, Dino at 4444852816, Dino at 4444852880, Dino at 4444852944, Dino at 4444853008, Dino at 4444853072, Dino at 4444853136, Dino at 4444853200, Dino at 4444853264, Dino at 4444853328, Dino at 4444853392, Dino at 4444853520, Dino at 4444853648, Dino at 4444853776, Dino at 4444853904, Dino at 4444854032, Dino at 4444854160, Dino at 4444854288, Dino at 4444854416, Dino at 4444854544, Dino at 4444854672, Dino at 4444854800, Dino at 4444854928, Dino at 4444855056, Dino at 4444855184, Dino at 4444855312, Dino at 4444855440, Dino at 4444855568, Dino at 4444855696, Dino at 4444855824, Dino at 4444855952, Dino at 4444856080, Dino at 4444856208, Dino at 4444856336, Dino at 4444856464, Dino at 4444856592, Dino at 4444856720, Dino at 4444856848, Dino at 4444856976, Dino at 4444857104, Dino at 4444857232, Dino at 4444857360, Dino at 4444857488, Dino at 4444857616, Dino at 4444857744, Dino at 4444857872, Dino at 4444858000, Dino at 4444858128, Dino at 4444858256, Dino at 4444858384]\n"
     ]
    }
   ],
   "source": [
    "print(population)"
   ]
  },
  {
   "cell_type": "code",
   "execution_count": 44,
   "id": "d22cd667-5b4c-4ae7-8a15-7c115481dad3",
   "metadata": {},
   "outputs": [
    {
     "name": "stdout",
     "output_type": "stream",
     "text": [
      "['🍇', '🍈', '🍉', '🍊', '🍋', '🍌', '🍍', '🍎', '🍏', '🍐', '🍑', '🍒', '🍓', '🍔', '🍕', '🍖', '🍗', '🍘', '🍙', '🍚', '🍛', '🍜', '🍝', '🍞', '🍟', '🍠', '🍡', '🍢', '🍣', '🍤', '🍥', '🍦', '🍧', '🍨', '🍩', '🍪', '🍫', '🍬', '🍭', '🍮', '🍯', '🍰', '🍱', '🍲', '🍳', '🍴', '🍵', '🍶', '🍷', '🍸']\n"
     ]
    }
   ],
   "source": [
    "print(foods) # still available from the top of the Notebook"
   ]
  },
  {
   "cell_type": "code",
   "execution_count": 45,
   "id": "666b88db-ece2-4f91-b8c3-6ec940ffd4b6",
   "metadata": {},
   "outputs": [],
   "source": [
    "def feed_some(pop, the_food):\n",
    "    for p in pop:\n",
    "        if randint(1, 10) < 5:\n",
    "            p.eat(the_food)\n",
    "        \n",
    "def feed_all(pop, the_food):\n",
    "    for p in pop:\n",
    "        p.eat(the_food)"
   ]
  },
  {
   "cell_type": "code",
   "execution_count": 46,
   "id": "076bd984-6d4c-4eed-b045-1ab96c41b1b9",
   "metadata": {},
   "outputs": [],
   "source": [
    "feed_some(population, '🍫')\n",
    "feed_some(population, '🍑')\n",
    "feed_some(population, '🍦')"
   ]
  },
  {
   "cell_type": "code",
   "execution_count": 47,
   "id": "7200e49e-53d7-4d4b-86d3-30158026c45b",
   "metadata": {},
   "outputs": [],
   "source": [
    "def sample(pop, size=30):\n",
    "    shuffle(pop)\n",
    "    return pop[:size]"
   ]
  },
  {
   "cell_type": "code",
   "execution_count": 48,
   "id": "6957c1b4-97d8-466d-a712-76d5f563ab62",
   "metadata": {},
   "outputs": [
    {
     "data": {
      "text/plain": [
       "[Dino at 4444856848,\n",
       " Dino at 4444852176,\n",
       " Dino at 4444849616,\n",
       " Dino at 4444852432,\n",
       " Dino at 4444852752,\n",
       " Dino at 4444851280,\n",
       " Dino at 4444850704,\n",
       " Dino at 4444854032,\n",
       " Dino at 4444854160,\n",
       " Dino at 4444851600]"
      ]
     },
     "execution_count": 48,
     "metadata": {},
     "output_type": "execute_result"
    }
   ],
   "source": [
    "sample1 = sample(population, 10)\n",
    "sample1"
   ]
  },
  {
   "cell_type": "code",
   "execution_count": 49,
   "id": "f60bc5a7-660e-481a-90b0-0f30d94630da",
   "metadata": {},
   "outputs": [],
   "source": [
    "sample2 = sample(population, 10)"
   ]
  },
  {
   "cell_type": "code",
   "execution_count": 50,
   "id": "26a57975-deba-4f00-9c78-2ee48c19fdd1",
   "metadata": {},
   "outputs": [],
   "source": [
    "sample3 = sample(population, 10)\n",
    "sample4 = sample(population, 10)"
   ]
  },
  {
   "cell_type": "code",
   "execution_count": 51,
   "id": "649cd262-6174-477d-9ac1-d7ec306e2205",
   "metadata": {},
   "outputs": [
    {
     "data": {
      "text/plain": [
       "{Dino at 4444852432}"
      ]
     },
     "execution_count": 51,
     "metadata": {},
     "output_type": "execute_result"
    }
   ],
   "source": [
    "set(sample1).intersection(set(sample2))"
   ]
  },
  {
   "cell_type": "code",
   "execution_count": 52,
   "id": "ca164a12-6bb8-4fdf-ba2f-491498d37ab7",
   "metadata": {},
   "outputs": [
    {
     "name": "stdout",
     "output_type": "stream",
     "text": [
      "Dino at 4444814480 ['🍫', '🍦']\n",
      "Dino at 4444856976 ['🍫']\n",
      "Dino at 4444858256 ['🍫', '🍦']\n",
      "Dino at 4444857744 ['🍫', '🍑']\n",
      "Dino at 4444852112 ['🍑']\n",
      "Dino at 4444855312 ['🍦']\n",
      "Dino at 4444850768 ['🍫']\n",
      "Dino at 4444850000 ['🍫', '🍦']\n",
      "Dino at 4444807952 []\n",
      "Dino at 4444850832 ['🍦']\n",
      "Dino at 4444850704 ['🍦']\n",
      "Dino at 4444853648 ['🍑']\n",
      "Dino at 4444853264 ['🍫']\n",
      "Dino at 4444854416 ['🍫', '🍑', '🍦']\n",
      "Dino at 4444851216 ['🍑']\n",
      "Dino at 4444855824 ['🍫', '🍦']\n",
      "Dino at 4444857360 ['🍦']\n",
      "Dino at 4444851472 []\n",
      "Dino at 4444851088 ['🍦']\n",
      "Dino at 4444852880 ['🍑']\n",
      "Dino at 4444856592 ['🍑']\n",
      "Dino at 4444851728 ['🍫', '🍑', '🍦']\n",
      "Dino at 4444850128 ['🍦']\n",
      "Dino at 4444855184 ['🍫', '🍦']\n",
      "Dino at 4444853328 ['🍦']\n",
      "Dino at 4444854672 ['🍦']\n",
      "Dino at 4444852624 ['🍑']\n",
      "Dino at 4444852432 ['🍫', '🍦']\n",
      "Dino at 4444850320 ['🍫', '🍑']\n",
      "Dino at 4444853136 []\n",
      "Dino at 4444856080 ['🍫', '🍑', '🍦']\n",
      "Dino at 4444850896 ['🍫']\n",
      "Dino at 4444855952 []\n",
      "Dino at 4444854544 []\n",
      "Dino at 4444857872 ['🍑']\n",
      "Dino at 4444853520 ['🍫', '🍑', '🍦']\n",
      "Dino at 4444852176 ['🍑', '🍦']\n",
      "Dino at 4444854928 []\n",
      "Dino at 4444856464 []\n",
      "Dino at 4444851984 ['🍑']\n",
      "Dino at 4444855696 ['🍫', '🍦']\n",
      "Dino at 4444849936 []\n",
      "Dino at 4444849744 ['🍫']\n",
      "Dino at 4444852944 []\n",
      "Dino at 4444850384 ['🍦']\n",
      "Dino at 4444852752 ['🍫', '🍦']\n",
      "Dino at 4444852560 ['🍑']\n",
      "Dino at 4444853392 ['🍑']\n",
      "Dino at 4444851856 ['🍑', '🍦']\n",
      "Dino at 4444852304 ['🍑']\n",
      "Dino at 4444852496 ['🍑', '🍦']\n",
      "Dino at 4444849616 ['🍫']\n",
      "Dino at 4444849808 ['🍫', '🍑']\n",
      "Dino at 4444854160 ['🍑', '🍦']\n",
      "Dino at 4444850448 []\n",
      "Dino at 4444851280 []\n",
      "Dino at 4444851344 []\n",
      "Dino at 4444853008 ['🍫']\n",
      "Dino at 4444849872 ['🍑']\n",
      "Dino at 4444858384 ['🍫', '🍑']\n",
      "Dino at 4444852688 ['🍑']\n",
      "Dino at 4444853904 []\n",
      "Dino at 4444856720 ['🍫', '🍑']\n",
      "Dino at 4444849680 ['🍇', '🍑', '🍦']\n",
      "Dino at 4444852368 ['🍑', '🍦']\n",
      "Dino at 4444854800 ['🍫', '🍦']\n",
      "Dino at 4444852816 []\n",
      "Dino at 4444855568 ['🍫', '🍦']\n",
      "Dino at 4444851920 []\n",
      "Dino at 4444851152 ['🍦']\n",
      "Dino at 4444851408 []\n",
      "Dino at 4444858128 ['🍫', '🍦']\n",
      "Dino at 4444853072 ['🍑', '🍦']\n",
      "Dino at 4444851792 ['🍑', '🍦']\n",
      "Dino at 4444850640 ['🍫']\n",
      "Dino at 4444851664 ['🍑']\n",
      "Dino at 4444856208 []\n",
      "Dino at 4444850960 ['🍦']\n",
      "Dino at 4444858000 ['🍫', '🍑']\n",
      "Dino at 4444854288 ['🍫', '🍦']\n",
      "Dino at 4444312784 []\n",
      "Dino at 4444853776 ['🍑']\n",
      "Dino at 4444851536 ['🍫', '🍑']\n",
      "Dino at 4444855056 ['🍑']\n",
      "Dino at 4444857488 ['🍫', '🍦']\n",
      "Dino at 4444853200 []\n",
      "Dino at 4444855440 ['🍫', '🍑']\n",
      "Dino at 4444854032 ['🍫']\n",
      "Dino at 4444850064 ['🍑', '🍦']\n",
      "Dino at 4444856336 ['🍦']\n",
      "Dino at 4444851600 []\n",
      "Dino at 4444857104 ['🍫', '🍑']\n",
      "Dino at 4444856848 []\n",
      "Dino at 4444857232 ['🍑', '🍦']\n",
      "Dino at 4444852240 ['🍑', '🍦']\n",
      "Dino at 4444852048 ['🍫', '🍑']\n",
      "Dino at 4444850512 ['🍑', '🍦']\n",
      "Dino at 4444850192 ['🍫', '🍑']\n",
      "Dino at 4444850576 ['🍦']\n",
      "Dino at 4444857616 ['🍫', '🍑', '🍦']\n"
     ]
    }
   ],
   "source": [
    "for d in population:\n",
    "    print(d, d.stomach)"
   ]
  },
  {
   "cell_type": "code",
   "execution_count": 53,
   "id": "3c3c84df-964d-45ae-9c4e-9ceb96ee032b",
   "metadata": {},
   "outputs": [],
   "source": [
    "def average_age(pop):\n",
    "    \"\"\"\n",
    "    returns the mean (sum of ages / how many in pop)\n",
    "    \"\"\"\n",
    "    return sum([ p.age for p in pop ])/len(pop)"
   ]
  },
  {
   "cell_type": "code",
   "execution_count": 54,
   "id": "cc0d3193-176f-448d-8da6-6bf486bc43ae",
   "metadata": {},
   "outputs": [],
   "source": [
    "def average_health(pop):\n",
    "    \"\"\"\n",
    "    returns the mean (sum of ages / how many in pop)\n",
    "    \"\"\"\n",
    "    return sum([ p.health for p in pop ])/len(pop)"
   ]
  },
  {
   "cell_type": "code",
   "execution_count": 55,
   "id": "a2a9c2b9-83d0-4e8b-add1-123633d77111",
   "metadata": {},
   "outputs": [
    {
     "data": {
      "text/plain": [
       "54.4"
      ]
     },
     "execution_count": 55,
     "metadata": {},
     "output_type": "execute_result"
    }
   ],
   "source": [
    "average_age(sample1)"
   ]
  },
  {
   "cell_type": "code",
   "execution_count": 56,
   "id": "e3be2ce5-c6ae-4b69-8b43-4480ae0bd0d6",
   "metadata": {},
   "outputs": [
    {
     "data": {
      "text/plain": [
       "39.0"
      ]
     },
     "execution_count": 56,
     "metadata": {},
     "output_type": "execute_result"
    }
   ],
   "source": [
    "average_age(sample2)"
   ]
  },
  {
   "cell_type": "code",
   "execution_count": 57,
   "id": "eb5be00d-c594-4432-91f1-273348074e3f",
   "metadata": {},
   "outputs": [
    {
     "data": {
      "text/plain": [
       "46.45"
      ]
     },
     "execution_count": 57,
     "metadata": {},
     "output_type": "execute_result"
    }
   ],
   "source": [
    "global_av = sum([average_age(s) for s in (sample1, sample2, sample3, sample4)])/4\n",
    "global_av"
   ]
  },
  {
   "cell_type": "code",
   "execution_count": 58,
   "id": "909ac3d0-4113-47e3-ad79-cdb6952b9547",
   "metadata": {},
   "outputs": [
    {
     "data": {
      "text/plain": [
       "51.41"
      ]
     },
     "execution_count": 58,
     "metadata": {},
     "output_type": "execute_result"
    }
   ],
   "source": [
    "average_age(population)"
   ]
  },
  {
   "cell_type": "code",
   "execution_count": 59,
   "id": "25c4f161-c883-4666-97d2-fdcb1ff6b76f",
   "metadata": {},
   "outputs": [
    {
     "data": {
      "text/plain": [
       "11.16"
      ]
     },
     "execution_count": 59,
     "metadata": {},
     "output_type": "execute_result"
    }
   ],
   "source": [
    "average_health(population)"
   ]
  },
  {
   "cell_type": "markdown",
   "id": "6f65990e-4090-4df3-a74f-a0f237675883",
   "metadata": {},
   "source": [
    "## More Practice with Chance"
   ]
  },
  {
   "cell_type": "code",
   "execution_count": 60,
   "id": "9f4dfb40-044d-4a4b-bbe5-4e849e5bfc86",
   "metadata": {},
   "outputs": [
    {
     "data": {
      "text/plain": [
       "'⚀'"
      ]
     },
     "execution_count": 60,
     "metadata": {},
     "output_type": "execute_result"
    }
   ],
   "source": [
    "chr(0x2680)"
   ]
  },
  {
   "cell_type": "code",
   "execution_count": 61,
   "id": "908bee97-284b-44e4-871e-ac78b4b8bbda",
   "metadata": {},
   "outputs": [
    {
     "data": {
      "text/plain": [
       "'⚀'"
      ]
     },
     "execution_count": 61,
     "metadata": {},
     "output_type": "execute_result"
    }
   ],
   "source": [
    "\"\\u2680\""
   ]
  },
  {
   "cell_type": "code",
   "execution_count": 62,
   "id": "57dbfaee-2227-4e98-90f5-8683dadc6238",
   "metadata": {},
   "outputs": [],
   "source": [
    "class Die:\n",
    "    \"\"\"\n",
    "    A single die that only keeps track of one value,\n",
    "    and represents itself with that value.\n",
    "\n",
    "    Method: throw\n",
    "    \"\"\"\n",
    "    unicode_faces = {1:\"\\u2680\", 2:\"\\u2681\", \n",
    "                     3:\"\\u2682\", 4:\"\\u2683\", \n",
    "                     5:\"\\u2684\", 6:\"\\u2685\"}\n",
    "\n",
    "    show_faces = True # use Unicode display\n",
    "    \n",
    "    def __init__(self):\n",
    "        # 1 facing up to start\n",
    "        self.faceup = 1\n",
    "        \n",
    "    def throw(self):\n",
    "        \"\"\"\n",
    "        throw me, return int\n",
    "        \"\"\"\n",
    "        self.faceup = randint(1, 6)\n",
    "        return self.faceup\n",
    "        \n",
    "    def __repr__(self):\n",
    "        \"\"\"\n",
    "        represent myself\n",
    "        \"\"\"\n",
    "        if self.show_faces: # finds at class level\n",
    "            output = self.unicode_faces[self.faceup]\n",
    "        else: \n",
    "            output = \"Value: {}\".format(self.faceup)\n",
    "        return output"
   ]
  },
  {
   "cell_type": "code",
   "execution_count": 63,
   "id": "7460cf51-adf1-4fe2-9766-46c78b52b8b1",
   "metadata": {},
   "outputs": [
    {
     "data": {
      "text/plain": [
       "mappingproxy({'__module__': '__main__',\n",
       "              '__doc__': '\\n    A single die that only keeps track of one value,\\n    and represents itself with that value.\\n\\n    Method: throw\\n    ',\n",
       "              'unicode_faces': {1: '⚀',\n",
       "               2: '⚁',\n",
       "               3: '⚂',\n",
       "               4: '⚃',\n",
       "               5: '⚄',\n",
       "               6: '⚅'},\n",
       "              'show_faces': True,\n",
       "              '__init__': <function __main__.Die.__init__(self)>,\n",
       "              'throw': <function __main__.Die.throw(self)>,\n",
       "              '__repr__': <function __main__.Die.__repr__(self)>,\n",
       "              '__dict__': <attribute '__dict__' of 'Die' objects>,\n",
       "              '__weakref__': <attribute '__weakref__' of 'Die' objects>})"
      ]
     },
     "execution_count": 63,
     "metadata": {},
     "output_type": "execute_result"
    }
   ],
   "source": [
    "Die.__dict__"
   ]
  },
  {
   "cell_type": "code",
   "execution_count": 64,
   "id": "2bfde992-6aee-4a25-8a47-d513b120189d",
   "metadata": {},
   "outputs": [
    {
     "data": {
      "text/plain": [
       "⚀"
      ]
     },
     "execution_count": 64,
     "metadata": {},
     "output_type": "execute_result"
    }
   ],
   "source": [
    "d = Die()\n",
    "d"
   ]
  },
  {
   "cell_type": "code",
   "execution_count": 65,
   "id": "1adaacb3-7277-4e6a-bc2d-678f0e04d4b7",
   "metadata": {},
   "outputs": [
    {
     "data": {
      "text/plain": [
       "⚀"
      ]
     },
     "execution_count": 65,
     "metadata": {},
     "output_type": "execute_result"
    }
   ],
   "source": [
    "d"
   ]
  },
  {
   "cell_type": "code",
   "execution_count": 66,
   "id": "67fe9a8c-58e4-4e37-903f-f7cae8407fd2",
   "metadata": {},
   "outputs": [
    {
     "data": {
      "text/plain": [
       "2"
      ]
     },
     "execution_count": 66,
     "metadata": {},
     "output_type": "execute_result"
    }
   ],
   "source": [
    "d.throw()"
   ]
  },
  {
   "cell_type": "code",
   "execution_count": 67,
   "id": "0ac73837-4a3f-4b75-9d65-568ccc0ddd70",
   "metadata": {},
   "outputs": [
    {
     "data": {
      "text/plain": [
       "{'faceup': 2}"
      ]
     },
     "execution_count": 67,
     "metadata": {},
     "output_type": "execute_result"
    }
   ],
   "source": [
    "d.__dict__"
   ]
  },
  {
   "cell_type": "code",
   "execution_count": 68,
   "id": "cb73b6b3-20b2-458b-b1b1-9fbe62bd7174",
   "metadata": {},
   "outputs": [
    {
     "data": {
      "text/plain": [
       "⚄"
      ]
     },
     "execution_count": 68,
     "metadata": {},
     "output_type": "execute_result"
    }
   ],
   "source": [
    "d2 = Die()\n",
    "d2.throw()\n",
    "d2"
   ]
  },
  {
   "cell_type": "code",
   "execution_count": 69,
   "id": "40485aae-f4b9-44ef-83a1-edd9d40b01bc",
   "metadata": {},
   "outputs": [],
   "source": [
    "Die.show_faces = True"
   ]
  },
  {
   "cell_type": "code",
   "execution_count": 70,
   "id": "094e6895-5a24-4078-bac0-fa297233a32d",
   "metadata": {},
   "outputs": [],
   "source": [
    "def shake_em(how_many):\n",
    "    dice = [Die() for _ in range(how_many)]\n",
    "    for d in dice:\n",
    "        d.throw()\n",
    "    return dice"
   ]
  },
  {
   "cell_type": "code",
   "execution_count": 71,
   "id": "02783d60-1289-48ef-a628-6fe06ef664e2",
   "metadata": {},
   "outputs": [
    {
     "data": {
      "text/plain": [
       "[⚃, ⚄, ⚀, ⚁, ⚅, ⚄, ⚂, ⚀, ⚃, ⚀, ⚃, ⚀, ⚂, ⚂, ⚂, ⚀, ⚁, ⚀, ⚀, ⚀]"
      ]
     },
     "execution_count": 71,
     "metadata": {},
     "output_type": "execute_result"
    }
   ],
   "source": [
    "trial = shake_em(20)\n",
    "list(trial)"
   ]
  },
  {
   "cell_type": "code",
   "execution_count": 72,
   "id": "de47bf37-d98f-4f2b-9137-b165f49f1f58",
   "metadata": {},
   "outputs": [],
   "source": [
    "def av(pop):  # for dice\n",
    "    return sum(d.faceup for d in pop)/len(pop)"
   ]
  },
  {
   "cell_type": "code",
   "execution_count": 73,
   "id": "df66d25b-5d05-4229-89af-953f99e3bbf6",
   "metadata": {},
   "outputs": [
    {
     "data": {
      "text/plain": [
       "2.6"
      ]
     },
     "execution_count": 73,
     "metadata": {},
     "output_type": "execute_result"
    }
   ],
   "source": [
    "av(trial)"
   ]
  },
  {
   "cell_type": "code",
   "execution_count": 74,
   "id": "c6dfa54f-83ac-49a9-87e4-a50e28d243f2",
   "metadata": {},
   "outputs": [
    {
     "data": {
      "text/plain": [
       "[Value: 4,\n",
       " Value: 5,\n",
       " Value: 1,\n",
       " Value: 2,\n",
       " Value: 6,\n",
       " Value: 5,\n",
       " Value: 3,\n",
       " Value: 1,\n",
       " Value: 4,\n",
       " Value: 1,\n",
       " Value: 4,\n",
       " Value: 1,\n",
       " Value: 3,\n",
       " Value: 3,\n",
       " Value: 3,\n",
       " Value: 1,\n",
       " Value: 2,\n",
       " Value: 1,\n",
       " Value: 1,\n",
       " Value: 1]"
      ]
     },
     "execution_count": 74,
     "metadata": {},
     "output_type": "execute_result"
    }
   ],
   "source": [
    "Die.show_faces = False\n",
    "list(trial)"
   ]
  },
  {
   "cell_type": "markdown",
   "id": "968ac20a-61fa-4544-b3c2-9f7794e9aecd",
   "metadata": {},
   "source": [
    "## itertools (continued)\n",
    "\n",
    "We have looked at some of the iterators we're able to create using this Standard Library module. Lets look at a couple more, again with emphasis on how lambda expressions might come in handy."
   ]
  },
  {
   "cell_type": "code",
   "execution_count": 75,
   "id": "384f3dcd-9f6f-4093-99df-7077491a81e7",
   "metadata": {},
   "outputs": [],
   "source": [
    "from itertools import filterfalse, starmap, takewhile\n",
    "from random import randint"
   ]
  },
  {
   "cell_type": "code",
   "execution_count": 76,
   "id": "e7642832-cd48-4ed5-be6a-fec7e197db2f",
   "metadata": {},
   "outputs": [
    {
     "name": "stdout",
     "output_type": "stream",
     "text": [
      "[14, 9, 19, 9, 17, 4, 17, 4, 5, 9, 17, 8, 15, 1, 8, 1, 8, 6, 1, 10]\n"
     ]
    }
   ],
   "source": [
    "r_nums = [randint(0, 20) for _ in range(20)]\n",
    "print(r_nums)"
   ]
  },
  {
   "cell_type": "code",
   "execution_count": 77,
   "id": "d2d2be8c-b15e-4dda-91a3-21faf6ed21f8",
   "metadata": {},
   "outputs": [],
   "source": [
    "# play with the lambda condition e.g. get nums not > 5\n",
    "iterator = filterfalse(lambda x: x%2==0, r_nums)"
   ]
  },
  {
   "cell_type": "code",
   "execution_count": 78,
   "id": "37095465-2283-4c36-b1ac-06406da710bc",
   "metadata": {},
   "outputs": [
    {
     "name": "stdout",
     "output_type": "stream",
     "text": [
      "9 19 9 17 17 5 9 17 15 1 1 1 "
     ]
    }
   ],
   "source": [
    "for odd in iterator:\n",
    "    print(odd, end=\" \")"
   ]
  },
  {
   "cell_type": "code",
   "execution_count": 79,
   "id": "b3ac0845-02cd-4457-abb7-cec4274347a1",
   "metadata": {},
   "outputs": [
    {
     "name": "stdout",
     "output_type": "stream",
     "text": [
      "[14, 4, 4, 8, 8, 8, 6, 10]\n"
     ]
    }
   ],
   "source": [
    "print(list(filter(lambda x: x%2==0, r_nums)))"
   ]
  },
  {
   "cell_type": "code",
   "execution_count": 80,
   "id": "d6f8f79e-bb02-471f-b543-d15748357444",
   "metadata": {},
   "outputs": [],
   "source": [
    "output = starmap(lambda x, y: x + \" \" + y, zip((\"Joe\", \"Sally\", \"Tom\"), \n",
    "        (\"Smith\", \"Conner\", \"Wells\")))"
   ]
  },
  {
   "cell_type": "code",
   "execution_count": 81,
   "id": "3e561095-d943-4e40-8610-3adde72c869d",
   "metadata": {},
   "outputs": [
    {
     "data": {
      "text/plain": [
       "['Joe Smith', 'Sally Conner', 'Tom Wells']"
      ]
     },
     "execution_count": 81,
     "metadata": {},
     "output_type": "execute_result"
    }
   ],
   "source": [
    "list(output)"
   ]
  },
  {
   "cell_type": "code",
   "execution_count": 82,
   "id": "5e9aaa72-8276-410a-a0e5-caded409b07c",
   "metadata": {},
   "outputs": [],
   "source": [
    "import primes"
   ]
  },
  {
   "cell_type": "code",
   "execution_count": 83,
   "id": "3c71bf0e-1c7a-494e-8aeb-5c0b90440a6a",
   "metadata": {},
   "outputs": [],
   "source": [
    "p = primes.iter_prime()"
   ]
  },
  {
   "cell_type": "code",
   "execution_count": 84,
   "id": "ca596c28-7a96-4258-a34d-89fb47634146",
   "metadata": {},
   "outputs": [],
   "source": [
    "under1000 = takewhile(lambda x: x < 1000, p)  # similar to islice"
   ]
  },
  {
   "cell_type": "code",
   "execution_count": 85,
   "id": "f9a3e974-6f3c-4716-998e-c4a32073ff78",
   "metadata": {},
   "outputs": [
    {
     "name": "stdout",
     "output_type": "stream",
     "text": [
      "[2, 3, 5, 7, 11, 13, 17, 19, 23, 29, 31, 37, 41, 43, 47, 53, 59, 61, 67, 71, 73, 79, 83, 89, 97, 101, 103, 107, 109, 113, 127, 131, 137, 139, 149, 151, 157, 163, 167, 173, 179, 181, 191, 193, 197, 199, 211, 223, 227, 229, 233, 239, 241, 251, 257, 263, 269, 271, 277, 281, 283, 293, 307, 311, 313, 317, 331, 337, 347, 349, 353, 359, 367, 373, 379, 383, 389, 397, 401, 409, 419, 421, 431, 433, 439, 443, 449, 457, 461, 463, 467, 479, 487, 491, 499, 503, 509, 521, 523, 541, 547, 557, 563, 569, 571, 577, 587, 593, 599, 601, 607, 613, 617, 619, 631, 641, 643, 647, 653, 659, 661, 673, 677, 683, 691, 701, 709, 719, 727, 733, 739, 743, 751, 757, 761, 769, 773, 787, 797, 809, 811, 821, 823, 827, 829, 839, 853, 857, 859, 863, 877, 881, 883, 887, 907, 911, 919, 929, 937, 941, 947, 953, 967, 971, 977, 983, 991, 997]\n"
     ]
    }
   ],
   "source": [
    "print(list(under1000))"
   ]
  },
  {
   "cell_type": "markdown",
   "id": "efdf1486-e64d-425d-9a3f-4448e89463b3",
   "metadata": {},
   "source": [
    "## Modules and Packages\n",
    "\n",
    "[Python.docs: tutorial re packages](https://docs.python.org/3/tutorial/modules.html#tut-packages)\n",
    "\n",
    "![packages and modules](https://pythongeeks.org/wp-content/uploads/2021/12/structure-of-packages.webp)"
   ]
  },
  {
   "cell_type": "markdown",
   "id": "10cf792e-546c-45d2-b91a-1f1aca2bdc41",
   "metadata": {},
   "source": [
    "Let's make an example Python package along with a utility for removing it. We will do everything from inside of Python."
   ]
  },
  {
   "cell_type": "code",
   "execution_count": 86,
   "id": "57ed9856-7e4a-4b55-9689-0bb8bdab8a0b",
   "metadata": {},
   "outputs": [],
   "source": [
    "import os"
   ]
  },
  {
   "cell_type": "code",
   "execution_count": 87,
   "id": "4a1f479a-6252-4ba7-9877-c120f9cafae9",
   "metadata": {},
   "outputs": [],
   "source": [
    "def setup():\n",
    "    \n",
    "    try:\n",
    "        os.mkdir(\"planets\")\n",
    "    except FileExistsError:\n",
    "        print(\"package exists\")\n",
    "\n",
    "    try:\n",
    "        mod1 = open(\"./planets/earth.py\", \"w\")\n",
    "        mod1.write(\"\"\"\n",
    "def hello():\n",
    "    return \"Hello, Earth!\"\n",
    "\n",
    "if __name__ == \"__main__\":\n",
    "    print(hello())\n",
    "\"\"\")\n",
    "        mod1.close()\n",
    "    except:\n",
    "        print(\"File write error mod1\")\n",
    "\n",
    "    try:\n",
    "        mod2 = open(\"./planets/mars.py\", \"w\")\n",
    "        mod2.write(\"\"\"\n",
    "def hello():\n",
    "    return \"Hello, Mars!\"\n",
    "\n",
    "if __name__ == \"__main__\":\n",
    "    print(hello())\n",
    "\"\"\")\n",
    "        mod2.close()\n",
    "    except Exception:\n",
    "        print(\"File write error mod2\")\n",
    "    finally:\n",
    "        print(\"Always do this\")\n",
    "        \n",
    "    try:\n",
    "        mod3 = open(\"./planets/__init__.py\", \"w\")\n",
    "        mod3.write(\"__all__ = ['earth', 'mars']\")\n",
    "        mod3.close()\n",
    "    except:\n",
    "        print(\"File write error\")"
   ]
  },
  {
   "cell_type": "code",
   "execution_count": 88,
   "id": "61217725-dac1-4525-8191-797995412858",
   "metadata": {},
   "outputs": [
    {
     "name": "stdout",
     "output_type": "stream",
     "text": [
      "Always do this\n"
     ]
    }
   ],
   "source": [
    "setup()"
   ]
  },
  {
   "cell_type": "code",
   "execution_count": 89,
   "id": "71bdb638-b753-4bfe-86dc-d6a1b5363fcd",
   "metadata": {},
   "outputs": [],
   "source": [
    "from planets import earth, mars"
   ]
  },
  {
   "cell_type": "code",
   "execution_count": 90,
   "id": "a45832e6-ce76-40b4-8ebb-bccf2c1f1de3",
   "metadata": {},
   "outputs": [
    {
     "data": {
      "text/plain": [
       "'Hello, Earth!'"
      ]
     },
     "execution_count": 90,
     "metadata": {},
     "output_type": "execute_result"
    }
   ],
   "source": [
    "earth.hello()"
   ]
  },
  {
   "cell_type": "code",
   "execution_count": 91,
   "id": "66dc9c00-80c8-4c70-9c6f-34bdc768139c",
   "metadata": {},
   "outputs": [
    {
     "data": {
      "text/plain": [
       "'Hello, Mars!'"
      ]
     },
     "execution_count": 91,
     "metadata": {},
     "output_type": "execute_result"
    }
   ],
   "source": [
    "mars.hello()"
   ]
  },
  {
   "cell_type": "code",
   "execution_count": 92,
   "id": "0a5184e3-4c70-4a1d-84ce-236b4b775934",
   "metadata": {},
   "outputs": [],
   "source": [
    "def del_file(fpath):\n",
    "    try:\n",
    "        os.remove(fpath)\n",
    "    except FileNotFoundError:\n",
    "        print(\"File gone\")"
   ]
  },
  {
   "cell_type": "code",
   "execution_count": 93,
   "id": "a4dafcc2-6650-44c1-b81a-a1f8a6ecedfe",
   "metadata": {},
   "outputs": [],
   "source": [
    "def cleanup():\n",
    "    if os.path.isdir(\"./planets\"):\n",
    "        print(\"Removing files...\")\n",
    "        for f in os.listdir(\"planets\"):\n",
    "            if os.path.isfile(f\"./planets/{f}\"):\n",
    "                os.remove(f\"./planets/{f}\")\n",
    "        if os.path.isdir(\"./planets/__pycache__\"):\n",
    "            print(\"Removing __pycache__\")\n",
    "            for f in os.listdir(\"./planets/__pycache__\"):\n",
    "                os.remove(f\"./planets/__pycache__/{f}\")\n",
    "            os.rmdir(\"./planets/__pycache__\")\n",
    "        os.rmdir(\"./planets\")"
   ]
  },
  {
   "cell_type": "code",
   "execution_count": 94,
   "id": "a510367c-5b75-4332-a36f-9c31905eb839",
   "metadata": {},
   "outputs": [],
   "source": [
    "del earth, mars"
   ]
  },
  {
   "cell_type": "code",
   "execution_count": 95,
   "id": "4d426fa7-a864-4f5f-aadc-90f0becc3ac4",
   "metadata": {},
   "outputs": [
    {
     "name": "stdout",
     "output_type": "stream",
     "text": [
      "Removing files...\n",
      "Removing __pycache__\n"
     ]
    }
   ],
   "source": [
    "cleanup()"
   ]
  },
  {
   "cell_type": "markdown",
   "id": "d2b5a942-55dd-4f8f-8616-5ebcd674c1b1",
   "metadata": {},
   "source": [
    "## Recursion\n",
    "\n",
    "Prompt:  write a recursive program to compute the gcd (greatest common divisor) of two numbers\n",
    "\n",
    "Gemini: \n",
    "Okay, here's a recursive program to compute the greatest common divisor (GCD) of two numbers using the Euclidean algorithm:"
   ]
  },
  {
   "cell_type": "code",
   "execution_count": 96,
   "id": "42c67410-3130-4dbf-a929-6403d4792cfb",
   "metadata": {},
   "outputs": [
    {
     "name": "stdin",
     "output_type": "stream",
     "text": [
      "Enter the first number:  88\n",
      "Enter the second number:  22\n"
     ]
    },
    {
     "name": "stdout",
     "output_type": "stream",
     "text": [
      "The GCD of 88 and 22 is 22\n"
     ]
    }
   ],
   "source": [
    "def gcd(a, b):\n",
    "  \"\"\"\n",
    "  Computes the greatest common divisor (GCD) of two numbers using recursion.\n",
    "\n",
    "  Args:\n",
    "    a: The first number.\n",
    "    b: The second number.\n",
    "\n",
    "  Returns:\n",
    "    The greatest common divisor of a and b.\n",
    "  \"\"\"\n",
    "  if b == 0:\n",
    "    return a\n",
    "  else:\n",
    "    return gcd(b, a % b)\n",
    "\n",
    "# Get input from the user\n",
    "num1 = int(input(\"Enter the first number: \"))\n",
    "num2 = int(input(\"Enter the second number: \"))\n",
    "\n",
    "# Calculate and print the GCD\n",
    "result = gcd(num1, num2)\n",
    "print(\"The GCD of\", num1, \"and\", num2, \"is\", result)"
   ]
  },
  {
   "cell_type": "markdown",
   "id": "ab9a5640-dc50-48c5-a4ae-56c40b8e4fb4",
   "metadata": {},
   "source": [
    "How it works:\n",
    "\n",
    "**Base Case**: If b is 0, it means we have reached the end of the recursion, and a contains the GCD.\n",
    "\n",
    "**Recursive Step**: If b is not 0, we call the gcd function again, but this time with b as the first argument and the remainder of a divided by b (a % b) as the second argument. This process continues until b becomes 0.\n",
    "\n",
    "Euclidean Algorithm:\n",
    "\n",
    "This program is based on the Euclidean algorithm, which is an efficient method for finding the GCD of two numbers. The algorithm is based on the principle that the greatest common divisor of two numbers does not change if the larger number is replaced by its difference with the smaller number. This process is repeated until the two numbers are equal, which is the GCD.\n",
    "\n",
    "I hope this helps! Let me know if you have any other questions."
   ]
  },
  {
   "cell_type": "markdown",
   "id": "1d5ef793-a779-4abd-8d4a-63332caf1794",
   "metadata": {},
   "source": [
    "Prompt: write a non-recursive program to compute the gcd (greatest common divisor) of two numbers\n",
    "\n",
    "Gemini:\n",
    "Okay, here's a non-recursive program to compute the greatest common divisor (GCD) of two numbers using a while loop:"
   ]
  },
  {
   "cell_type": "code",
   "execution_count": 97,
   "id": "b288bdce-45a0-4e93-93c2-161ce7cc43f3",
   "metadata": {},
   "outputs": [
    {
     "name": "stdin",
     "output_type": "stream",
     "text": [
      "Enter the first number:  99\n",
      "Enter the second number:  22\n"
     ]
    },
    {
     "name": "stdout",
     "output_type": "stream",
     "text": [
      "The GCD of 99 and 22 is 11\n"
     ]
    }
   ],
   "source": [
    "def gcd(a, b):\n",
    "  \"\"\"\n",
    "  Computes the greatest common divisor (GCD) of two numbers using a while loop.\n",
    "\n",
    "  Args:\n",
    "    a: The first number.\n",
    "    b: The second number.\n",
    "\n",
    "  Returns:\n",
    "    The greatest common divisor of a and b.\n",
    "  \"\"\"\n",
    "  while b:\n",
    "    a, b = b, a % b\n",
    "  return a\n",
    "\n",
    "# Get input from the user\n",
    "num1 = int(input(\"Enter the first number: \"))\n",
    "num2 = int(input(\"Enter the second number: \"))\n",
    "\n",
    "# Calculate and print the GCD\n",
    "result = gcd(num1, num2)\n",
    "print(\"The GCD of\", num1, \"and\", num2, \"is\", result)"
   ]
  },
  {
   "cell_type": "code",
   "execution_count": null,
   "id": "8dca65c5-20cf-4802-b8c4-83decc2a1cf6",
   "metadata": {},
   "outputs": [],
   "source": []
  },
  {
   "cell_type": "markdown",
   "id": "75f3ec93-a31d-4722-a63b-26163933bf73",
   "metadata": {},
   "source": [
    "How it works:\n",
    "\n",
    "**Initialization**: The function takes two numbers, a and b, as input.\n",
    "**Iteration**: The while loop continues as long as b is not 0.\n",
    "\n",
    "**Update**: Inside the loop, we use tuple assignment (a, b = b, a % b) to simultaneously update the values of a and b. This is equivalent to the following steps:\n",
    "\n",
    "* Calculate the remainder when a is divided by b (a % b).\n",
    "* Assign the value of b to a.\n",
    "* Assign the remainder to b.\n",
    "  \n",
    "**Termination**: The loop terminates when b becomes 0, which indicates that a now holds the GCD.\n",
    "**Return**: The function returns the value of a, which is the GCD.\n",
    "\n",
    "Euclidean Algorithm:\n",
    "\n",
    "This program is also based on the Euclidean algorithm. By repeatedly applying the division algorithm, the values of a and b are reduced until b becomes 0. At this point, a holds the GCD.\n",
    "\n",
    "I hope this helps! Let me know if you have any other questions."
   ]
  },
  {
   "cell_type": "markdown",
   "id": "9bd788b3-7633-4fde-829c-3eda74d85de8",
   "metadata": {},
   "source": [
    "#### indigs\n",
    "\n",
    "[Re: indigs in edu-sig](https://mail.python.org/archives/list/edu-sig@python.org/message/EBZYLOWGIE6FYWB7N6U6GS3SNPDW7AZL/)\n",
    "\n",
    "Recursion with a ternary operator:"
   ]
  },
  {
   "cell_type": "code",
   "execution_count": 98,
   "id": "2ef15800-6332-47f2-bc13-5f966483d3aa",
   "metadata": {},
   "outputs": [],
   "source": [
    "def indig(n: int):\n",
    "    return n if len(str(n))==1 else indig(sum(map(int, list(str(n)))))"
   ]
  },
  {
   "cell_type": "code",
   "execution_count": 99,
   "id": "0241660e-0530-416c-8e24-6042d622672a",
   "metadata": {},
   "outputs": [],
   "source": [
    "#  23456677 ===  56 === 11 == 2"
   ]
  },
  {
   "cell_type": "markdown",
   "id": "cd37e19d-96a1-4b06-ac8b-1bea81c3c990",
   "metadata": {},
   "source": [
    "## More Fun With Exception Handling\n",
    "\n",
    "The Python docs are well written and benefit from years of fine-tuning. Plunging into the docs under the topic of [Built-in Exceptions](https://docs.python.org/3/library/exceptions.html) is likely to be a healthily immersive experience.\n",
    "\n",
    "\n",
    "\n",
    "programwiz tutorials:\n",
    "\n",
    "* [Exception Handling](https://www.programiz.com/python-programming/exception-handling)\n",
    "* [Customizing your own Exceptions](https://www.programiz.com/python-programming/user-defined-exception)\n",
    "\n",
    "Study tip:\n",
    "Learn to read tutorials at different rates. Sometimes its slow going. Then when you're comfortable with the content, go back to previous tutorials and skim at a faster rate."
   ]
  },
  {
   "cell_type": "code",
   "execution_count": 100,
   "id": "a72af9a3-5e7f-4e5d-81eb-f63db0944601",
   "metadata": {},
   "outputs": [
    {
     "name": "stdout",
     "output_type": "stream",
     "text": [
      "callable not found name 'are_we_having_fun_yet' is not defined\n"
     ]
    }
   ],
   "source": [
    "try:\n",
    "    are_we_having_fun_yet(\"?\")\n",
    "except Exception as e:\n",
    "    print(\"callable not found\", e)"
   ]
  },
  {
   "cell_type": "code",
   "execution_count": 101,
   "id": "2a6eb5c8-5163-4c5f-a89b-bc5f03a60d23",
   "metadata": {},
   "outputs": [
    {
     "name": "stdin",
     "output_type": "stream",
     "text": [
      "First number? >  778\n",
      "Second number? >  8\n"
     ]
    },
    {
     "name": "stdout",
     "output_type": "stream",
     "text": [
      "The result is: 97.25\n",
      "Thx!\n",
      "---\n"
     ]
    }
   ],
   "source": [
    "while True:\n",
    "\n",
    "    try:\n",
    "        i0 = int(input(\"First number? > \"))\n",
    "        i1 = int(input(\"Second number? > \"))\n",
    "        division = i0/i1\n",
    "    except ZeroDivisionError:\n",
    "        print(\"Can't divide by zero\")\n",
    "    except ValueError:\n",
    "        print(\"Number input only please\")\n",
    "    else:\n",
    "        print(f\"The result is: {division}\")\n",
    "        print(\"Thx!\")\n",
    "        break\n",
    "    finally:\n",
    "        print(\"---\")"
   ]
  },
  {
   "cell_type": "markdown",
   "id": "854770d1-fcfb-4d6a-b612-e8c69c153292",
   "metadata": {},
   "source": [
    "Short detour:  Inheritance (so we can talk about 'subclassing')"
   ]
  },
  {
   "cell_type": "code",
   "execution_count": 102,
   "id": "0a986dad-4abb-4da1-bb36-4a3b329229e7",
   "metadata": {},
   "outputs": [],
   "source": [
    "class Animal:\n",
    "    def __init__(self):\n",
    "        self.stomach = []\n",
    "    def eat(self,food):\n",
    "        self.stomach.append(food)\n",
    "    def __call__(self, food):  # synonymous: rover.eat(\"bone\"); rover(\"bone\")\n",
    "        self.eat(food)\n",
    "\n",
    "class Mammal:\n",
    "    pass\n",
    "    \n",
    "class Bee(Animal, Mammal):\n",
    "    def __init__(self, nm=\"B\"):\n",
    "        self.name = nm\n",
    "        super().__init__()\n",
    "        \n",
    "    def __str__(self):\n",
    "        return \"Buzz buzz! said the bee\"\n",
    "    def __repr__(self):\n",
    "        return \"Bee at {}\".format(id(self))\n",
    "\n",
    "class Snake(Animal):\n",
    "    def __str__(self):\n",
    "        return \"Hiss hiss! said the snake\"\n",
    "    def __repr__(self):\n",
    "        return \"Snake at {}\".format(id(self))"
   ]
  },
  {
   "cell_type": "code",
   "execution_count": 103,
   "id": "68a507c0-e636-4fd2-9edc-9e406d68ae08",
   "metadata": {},
   "outputs": [
    {
     "data": {
      "text/plain": [
       "mappingproxy({'__module__': '__main__',\n",
       "              '__init__': <function __main__.Animal.__init__(self)>,\n",
       "              'eat': <function __main__.Animal.eat(self, food)>,\n",
       "              '__call__': <function __main__.Animal.__call__(self, food)>,\n",
       "              '__dict__': <attribute '__dict__' of 'Animal' objects>,\n",
       "              '__weakref__': <attribute '__weakref__' of 'Animal' objects>,\n",
       "              '__doc__': None})"
      ]
     },
     "execution_count": 103,
     "metadata": {},
     "output_type": "execute_result"
    }
   ],
   "source": [
    "Animal.__dict__"
   ]
  },
  {
   "cell_type": "code",
   "execution_count": 104,
   "id": "38011b93-f2e3-46fe-85f9-5eb0fca393ad",
   "metadata": {},
   "outputs": [
    {
     "data": {
      "text/plain": [
       "mappingproxy({'__module__': '__main__',\n",
       "              '__init__': <function __main__.Bee.__init__(self, nm='B')>,\n",
       "              '__str__': <function __main__.Bee.__str__(self)>,\n",
       "              '__repr__': <function __main__.Bee.__repr__(self)>,\n",
       "              '__doc__': None})"
      ]
     },
     "execution_count": 104,
     "metadata": {},
     "output_type": "execute_result"
    }
   ],
   "source": [
    "Bee.__dict__  # a type is like a dict, with some values functions"
   ]
  },
  {
   "cell_type": "code",
   "execution_count": 105,
   "id": "39205794-3b2a-4a76-bfd7-0f17701b86a2",
   "metadata": {},
   "outputs": [
    {
     "name": "stdout",
     "output_type": "stream",
     "text": [
      "['honey']\n",
      "Buzz buzz! said the bee\n"
     ]
    },
    {
     "data": {
      "text/plain": [
       "'BeeBop'"
      ]
     },
     "execution_count": 105,
     "metadata": {},
     "output_type": "execute_result"
    }
   ],
   "source": [
    "the_bee = Bee(\"BeeBop\")\n",
    "the_bee.eat(\"honey\")\n",
    "print(the_bee.stomach)\n",
    "print(the_bee)\n",
    "the_bee.name"
   ]
  },
  {
   "cell_type": "markdown",
   "id": "20f03ecd-b05b-4315-96ab-30f32a94156d",
   "metadata": {},
   "source": [
    "Because Bee is a subclass of Animal, when it is asked to `eat` it checks its own namespace first, then \"climbs the ladder\" to visit any parent classes."
   ]
  },
  {
   "cell_type": "code",
   "execution_count": 106,
   "id": "2a906dc2-0021-41c3-b23f-36db1562d166",
   "metadata": {},
   "outputs": [],
   "source": [
    "class OutOfTime(Exception): # you're free to invent your own Exception types (subclasses)\n",
    "    pass"
   ]
  },
  {
   "cell_type": "code",
   "execution_count": 107,
   "id": "9d3f5e81-958c-4bfd-8bbb-f0bde5e9adee",
   "metadata": {},
   "outputs": [
    {
     "data": {
      "text/plain": [
       "True"
      ]
     },
     "execution_count": 107,
     "metadata": {},
     "output_type": "execute_result"
    }
   ],
   "source": [
    "issubclass(OutOfTime, Exception)"
   ]
  },
  {
   "cell_type": "code",
   "execution_count": 108,
   "id": "6c9c1727-2a90-49ca-a8e5-09f68caee8a2",
   "metadata": {},
   "outputs": [
    {
     "name": "stdout",
     "output_type": "stream",
     "text": [
      "This happened: division by zero\n",
      "We're out of time\n",
      "<traceback object at 0x108d3d1c0>\n",
      "division by zero\n",
      "None\n",
      "OutOfTime('dead parrot')\n",
      "dead parrot\n"
     ]
    }
   ],
   "source": [
    "def do_the_thing():\n",
    "    try:\n",
    "        1/0\n",
    "    except ZeroDivisionError as e:\n",
    "        print(\"This happened:\", e)\n",
    "        raise OutOfTime(\"dead parrot\")  # you're free to raise exceptions yourself!\n",
    "\n",
    "try:\n",
    "    do_the_thing()\n",
    "except OutOfTime as e:\n",
    "    print(\"We're out of time\")\n",
    "    print(e.__traceback__)\n",
    "    print(e.__context__)\n",
    "    print(e.__cause__)\n",
    "    print(e.__repr__())\n",
    "    print(e.__str__())"
   ]
  }
 ],
 "metadata": {
  "kernelspec": {
   "display_name": "Python 3 (ipykernel)",
   "language": "python",
   "name": "python3"
  },
  "language_info": {
   "codemirror_mode": {
    "name": "ipython",
    "version": 3
   },
   "file_extension": ".py",
   "mimetype": "text/x-python",
   "name": "python",
   "nbconvert_exporter": "python",
   "pygments_lexer": "ipython3",
   "version": "3.11.3"
  }
 },
 "nbformat": 4,
 "nbformat_minor": 5
}
