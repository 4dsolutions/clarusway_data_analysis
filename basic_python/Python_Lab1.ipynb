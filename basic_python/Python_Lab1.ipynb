{
 "cells": [
  {
   "cell_type": "markdown",
   "metadata": {},
   "source": [
    "#### Clarusway Python\n",
    "\n",
    "* [Instructor Landing Page](landing_page.ipynb)\n",
    "* <a href=\"https://colab.research.google.com/github/4dsolutions/clarusway_data_analysis/blob/main/basic_python/Python_Lab1.ipynb\"><img align=\"left\" src=\"https://colab.research.google.com/assets/colab-badge.svg\" alt=\"Open in Colab\" title=\"Open and Execute in Google Colaboratory\"></a>\n",
    "* [![nbviewer](https://raw.githubusercontent.com/jupyter/design/master/logos/Badges/nbviewer_badge.svg)](https://nbviewer.org/github/4dsolutions/clarusway_data_analysis/blob/main/basic_python/Python_Lab1.ipynb)"
   ]
  },
  {
   "cell_type": "markdown",
   "metadata": {
    "id": "I2ZWbxOheFT9"
   },
   "source": [
    "<a id=\"toc\"></a>\n",
    "## <p style=\"background-color:#0D8D99; font-family:newtimeroman; color:#FFF9ED; font-size:175%; text-align:center; border-radius:10px 10px;\">Python Lab 1</p>"
   ]
  },
  {
   "cell_type": "markdown",
   "metadata": {
    "id": "26p-UtTLeFUG"
   },
   "source": [
    "<p>\n",
    "<img align=\"right\"\n",
    "    src=\"https://secure.meetupstatic.com/photos/event/3/1/b/9/600_488352729.jpeg\"  width=\"15px\"></p>\n",
    "<br>"
   ]
  },
  {
   "cell_type": "markdown",
   "metadata": {
    "id": "MewL0odkeFUH"
   },
   "source": [
    "<a id=\"toc\"></a>\n",
    "\n",
    "### <p style=\"background-color:#9d4f8c; font-family:newtimeroman; color:#FFF9ED; font-size:175%; text-align:center; border-radius:10px 10px;\">Task 1 :</p>"
   ]
  },
  {
   "cell_type": "markdown",
   "metadata": {
    "id": "chD4x6lseFUH"
   },
   "source": [
    "## Write a program that multiplies three numbers entered by the user. Print the output with the format method."
   ]
  },
  {
   "cell_type": "code",
   "execution_count": 1,
   "metadata": {
    "id": "uF-OmLQ3eFUI",
    "outputId": "09d9361d-ba29-4582-bc0d-5c8115dbc593"
   },
   "outputs": [
    {
     "data": {
      "text/plain": [
       "12"
      ]
     },
     "execution_count": 1,
     "metadata": {},
     "output_type": "execute_result"
    }
   ],
   "source": [
    "3 * 4"
   ]
  },
  {
   "cell_type": "code",
   "execution_count": 2,
   "metadata": {
    "id": "7_3t-tTneFUJ",
    "outputId": "7e4f0b16-0bed-42ff-df53-cc9c1eb8f99a"
   },
   "outputs": [
    {
     "data": {
      "text/plain": [
       "60"
      ]
     },
     "execution_count": 2,
     "metadata": {},
     "output_type": "execute_result"
    }
   ],
   "source": [
    "3 * 4 * 5"
   ]
  },
  {
   "cell_type": "code",
   "execution_count": 3,
   "metadata": {
    "id": "VXp6AY4veFUJ",
    "outputId": "e02fb204-064e-4926-b6d9-a5b55b74d8c2"
   },
   "outputs": [
    {
     "name": "stdin",
     "output_type": "stream",
     "text": [
      " testing\n"
     ]
    },
    {
     "data": {
      "text/plain": [
       "'testing'"
      ]
     },
     "execution_count": 3,
     "metadata": {},
     "output_type": "execute_result"
    }
   ],
   "source": [
    "input()"
   ]
  },
  {
   "cell_type": "code",
   "execution_count": 4,
   "metadata": {
    "id": "C-OCafeLeFUK",
    "outputId": "cb464749-f4fc-4bd7-f2eb-764f91e3c8dc"
   },
   "outputs": [
    {
     "name": "stdin",
     "output_type": "stream",
     "text": [
      "enter a message :  1-2-3 testing\n"
     ]
    },
    {
     "data": {
      "text/plain": [
       "'1-2-3 testing'"
      ]
     },
     "execution_count": 4,
     "metadata": {},
     "output_type": "execute_result"
    }
   ],
   "source": [
    "input(\"enter a message : \")\n",
    "\n",
    "# we can write a message inside the input function to inform the user about the expected input."
   ]
  },
  {
   "cell_type": "code",
   "execution_count": 5,
   "metadata": {
    "id": "3fco5lE_eFUK",
    "outputId": "6950bcaa-e1e8-4e7d-beb4-d760c305296d"
   },
   "outputs": [
    {
     "name": "stdin",
     "output_type": "stream",
     "text": [
      "enter a number:  44\n"
     ]
    },
    {
     "data": {
      "text/plain": [
       "'44'"
      ]
     },
     "execution_count": 5,
     "metadata": {},
     "output_type": "execute_result"
    }
   ],
   "source": [
    "input(\"enter a number: \")"
   ]
  },
  {
   "cell_type": "code",
   "execution_count": 6,
   "metadata": {
    "id": "kLRzYTUkeFUL",
    "outputId": "3aa440ef-1be2-4a01-a0cc-f0d565a7d723"
   },
   "outputs": [
    {
     "data": {
      "text/plain": [
       "int"
      ]
     },
     "execution_count": 6,
     "metadata": {},
     "output_type": "execute_result"
    }
   ],
   "source": [
    "type(5)\n",
    "\n",
    "# Values returned from the input function are always of the \"string\" type"
   ]
  },
  {
   "cell_type": "code",
   "execution_count": 7,
   "metadata": {
    "id": "5G6gSVnxeFUM",
    "outputId": "561f8e05-1544-43f8-bb11-66dcc5077d10"
   },
   "outputs": [
    {
     "name": "stdin",
     "output_type": "stream",
     "text": [
      "enter a number:  44\n"
     ]
    },
    {
     "data": {
      "text/plain": [
       "str"
      ]
     },
     "execution_count": 7,
     "metadata": {},
     "output_type": "execute_result"
    }
   ],
   "source": [
    "type(input(\"enter a number: \"))"
   ]
  },
  {
   "cell_type": "code",
   "execution_count": 8,
   "metadata": {
    "id": "AtdG8MTSeFUM",
    "outputId": "3e16a036-16d0-4b6a-812b-375da74c3fa4"
   },
   "outputs": [
    {
     "name": "stdin",
     "output_type": "stream",
     "text": [
      "enter a number:  44\n"
     ]
    },
    {
     "data": {
      "text/plain": [
       "str"
      ]
     },
     "execution_count": 8,
     "metadata": {},
     "output_type": "execute_result"
    }
   ],
   "source": [
    "num = input(\"enter a number: \")\n",
    "type(num)\n",
    "\n",
    "# We have assigned the value returned from the input function to a variable for later use in our code."
   ]
  },
  {
   "cell_type": "code",
   "execution_count": 9,
   "metadata": {
    "id": "fCfu1hrseFUM",
    "outputId": "bfcbe449-ab59-422b-8b96-080f4abe9ccc"
   },
   "outputs": [
    {
     "name": "stdin",
     "output_type": "stream",
     "text": [
      "enter a number : 44\n"
     ]
    }
   ],
   "source": [
    "number = input(\"enter a number :\")"
   ]
  },
  {
   "cell_type": "code",
   "execution_count": 10,
   "metadata": {
    "id": "i97RJjSGeFUN",
    "outputId": "48626d70-46b4-4dd9-db33-52cd4783a5cc"
   },
   "outputs": [
    {
     "name": "stdout",
     "output_type": "stream",
     "text": [
      "44\n"
     ]
    }
   ],
   "source": [
    "print(number)"
   ]
  },
  {
   "cell_type": "code",
   "execution_count": 11,
   "metadata": {
    "id": "7G4HlrPeeFUN",
    "outputId": "5a012acc-0f59-4b03-82ae-8771315886d3"
   },
   "outputs": [
    {
     "data": {
      "text/plain": [
       "str"
      ]
     },
     "execution_count": 11,
     "metadata": {},
     "output_type": "execute_result"
    }
   ],
   "source": [
    "type(number)"
   ]
  },
  {
   "cell_type": "code",
   "execution_count": 12,
   "metadata": {
    "id": "B0A1aQAJeFUN",
    "outputId": "cdd715ef-fb40-41e3-f033-80c1e14af3aa"
   },
   "outputs": [
    {
     "data": {
      "text/plain": [
       "'4444'"
      ]
     },
     "execution_count": 12,
     "metadata": {},
     "output_type": "execute_result"
    }
   ],
   "source": [
    "number + number"
   ]
  },
  {
   "cell_type": "code",
   "execution_count": 13,
   "metadata": {
    "id": "kx5mRG0UeFUN",
    "outputId": "0cafcd96-e48e-44a4-ec3c-8d7d531850ec"
   },
   "outputs": [
    {
     "name": "stdin",
     "output_type": "stream",
     "text": [
      "enter num1:  55\n",
      "enter num2:  66\n",
      "enter num3:  77\n"
     ]
    },
    {
     "name": "stdout",
     "output_type": "stream",
     "text": [
      "279510\n"
     ]
    }
   ],
   "source": [
    "num1 = int(input(\"enter num1: \"))  # now I can use this num1 variable in my code.\n",
    "num2 = int(input(\"enter num2: \"))\n",
    "num3 = int(input(\"enter num3: \"))\n",
    "\n",
    "print(num1 * num2 * num3)  \n",
    "# I was able to perform this arithmetic operation,\n",
    "# because I converted the \"string\" data returned from the input function to integer."
   ]
  },
  {
   "cell_type": "code",
   "execution_count": 14,
   "metadata": {
    "id": "OgKu6ZbVeFUO"
   },
   "outputs": [],
   "source": [
    "output = num1 * num2 * num3"
   ]
  },
  {
   "cell_type": "code",
   "execution_count": 15,
   "metadata": {
    "id": "sKDaplWYeFUO",
    "outputId": "2ae0351d-fc09-4ce6-e691-30f51c803ab6"
   },
   "outputs": [
    {
     "name": "stdout",
     "output_type": "stream",
     "text": [
      "the multiplication of num1, num2 and num3 is equal to :  279510\n"
     ]
    }
   ],
   "source": [
    "print(\"the multiplication of num1, num2 and num3 is equal to : \", output)"
   ]
  },
  {
   "cell_type": "markdown",
   "metadata": {
    "id": "uuAcj6bdeFUO"
   },
   "source": [
    "<a id=\"toc\"></a>\n",
    "\n",
    "### <p style=\"background-color:#9d4f8c; font-family:newtimeroman; color:#FFF9ED; font-size:175%; text-align:center; border-radius:10px 10px;\">Task 2 :</p>"
   ]
  },
  {
   "cell_type": "markdown",
   "metadata": {
    "id": "xyjdHP0xeFUO"
   },
   "source": [
    "## Write a program that calculates body mass index from \"height\" and \"weight\" entered by the user."
   ]
  },
  {
   "cell_type": "markdown",
   "metadata": {
    "id": "V_wLupCVeFUP"
   },
   "source": [
    "### DOMAIN KNOWLEDGE !!"
   ]
  },
  {
   "cell_type": "raw",
   "metadata": {
    "id": "npUKe3-zeFUP"
   },
   "source": [
    "As a result of my field research, I found that the formula for the body mass index is as follows:\n",
    "    \n",
    "Body mass index :  Weight / Height(m) * Height(m)"
   ]
  },
  {
   "cell_type": "code",
   "execution_count": 16,
   "metadata": {
    "colab": {
     "base_uri": "https://localhost:8080/"
    },
    "executionInfo": {
     "elapsed": 18690,
     "status": "ok",
     "timestamp": 1678300065171,
     "user": {
      "displayName": "Orion Cloud",
      "userId": "13399699001942214669"
     },
     "user_tz": -180
    },
    "id": "NFKvTD8jeFUP",
    "outputId": "5ad9a660-a617-48c3-cf32-2d0655461c54"
   },
   "outputs": [
    {
     "name": "stdin",
     "output_type": "stream",
     "text": [
      "enter your height (example : 1.85) 1.85\n",
      "enter your weight (example : 75) 75\n"
     ]
    }
   ],
   "source": [
    "height = float(input(\"enter your height (example : 1.85)\"))\n",
    "weight = float(input(\"enter your weight (example : 75)\"))\n",
    "\n",
    "body_mass_idx = weight / (height ** 2)"
   ]
  },
  {
   "cell_type": "markdown",
   "metadata": {
    "id": "VqPi02XSeFUP"
   },
   "source": [
    "**I followed the rules when specifying the variable name.** \n",
    "\n",
    "**variable name gives an idea about the value it represents**\n",
    "\n",
    "**the name is not one of python's keywords.**\n",
    "\n",
    "**and it doesn't start with a number.**\n",
    "\n",
    "**and there are no special characters in it.**"
   ]
  },
  {
   "cell_type": "code",
   "execution_count": 17,
   "metadata": {
    "colab": {
     "base_uri": "https://localhost:8080/"
    },
    "executionInfo": {
     "elapsed": 385,
     "status": "ok",
     "timestamp": 1678300077853,
     "user": {
      "displayName": "Orion Cloud",
      "userId": "13399699001942214669"
     },
     "user_tz": -180
    },
    "id": "LlHZLYJseFUP",
    "outputId": "dda54425-27f5-4104-c914-92efac8d8d1d"
   },
   "outputs": [
    {
     "name": "stdout",
     "output_type": "stream",
     "text": [
      "21.913805697589478\n"
     ]
    }
   ],
   "source": [
    "print(body_mass_idx)  # You can either print this variable with print function"
   ]
  },
  {
   "cell_type": "code",
   "execution_count": 18,
   "metadata": {
    "id": "vUDuw-VyeFUQ",
    "outputId": "86521b74-f42d-4799-f461-a4536a2cce65"
   },
   "outputs": [
    {
     "name": "stdout",
     "output_type": "stream",
     "text": [
      "Body mass index =  21.913805697589478\n"
     ]
    }
   ],
   "source": [
    "# or you can make this calculation directly inside the print function.\n",
    "\n",
    "print(\"Body mass index = \", weight / (height ** 2)) "
   ]
  },
  {
   "cell_type": "markdown",
   "metadata": {
    "id": "-6eNJnvYeFUQ"
   },
   "source": [
    "### round() function\n",
    "**Round a number to a given precision in decimal digits.**\n",
    "\n",
    "**The return value is an integer if ndigits is omitted or None.  Otherwise the return value has the same type as the number.  ndigits may be negative.**"
   ]
  },
  {
   "cell_type": "code",
   "execution_count": 19,
   "metadata": {
    "id": "1p8s2UN4eFUQ",
    "outputId": "8d330d17-d642-496d-c058-199cce199093"
   },
   "outputs": [
    {
     "name": "stdin",
     "output_type": "stream",
     "text": [
      "enter your height (example : 1.85) : 1.85\n",
      "enter your weight (example : 75) : 75\n"
     ]
    },
    {
     "name": "stdout",
     "output_type": "stream",
     "text": [
      "Body mass index =  21.91\n"
     ]
    }
   ],
   "source": [
    "height = float(input(\"enter your height (example : 1.85) :\"))\n",
    "weight = float(input(\"enter your weight (example : 75) :\"))\n",
    "\n",
    "print(\"Body mass index = \", round(weight / (height ** 2), 2)) \n",
    "\n",
    "# We can round the result to return with the round() function."
   ]
  },
  {
   "cell_type": "markdown",
   "metadata": {
    "id": "jpl4lcNqeFUQ"
   },
   "source": [
    "<a id=\"toc\"></a>\n",
    "\n",
    "### <p style=\"background-color:#9d4f8c; font-family:newtimeroman; color:#FFF9ED; font-size:175%; text-align:center; border-radius:10px 10px;\">Task 3 :</p>"
   ]
  },
  {
   "cell_type": "markdown",
   "metadata": {
    "id": "kE7fqt6JeFUQ"
   },
   "source": [
    "## With your 200 dollars, how many pieces of material can you get for 11 dollars each? How much money do you have left after buying?"
   ]
  },
  {
   "cell_type": "code",
   "execution_count": 20,
   "metadata": {
    "id": "qcc8z589eFUQ",
    "outputId": "b9ee57d5-64b0-4361-f49e-56cbcf774d88"
   },
   "outputs": [
    {
     "data": {
      "text/plain": [
       "18"
      ]
     },
     "execution_count": 20,
     "metadata": {},
     "output_type": "execute_result"
    }
   ],
   "source": [
    "200 // 11"
   ]
  },
  {
   "cell_type": "code",
   "execution_count": 21,
   "metadata": {
    "id": "4yfcmL8-eFUR",
    "outputId": "3c4e5479-bdbd-4e86-c811-279611b69b7b"
   },
   "outputs": [
    {
     "data": {
      "text/plain": [
       "18"
      ]
     },
     "execution_count": 21,
     "metadata": {},
     "output_type": "execute_result"
    }
   ],
   "source": [
    "quotient = 200 // 11\n",
    "quotient"
   ]
  },
  {
   "cell_type": "code",
   "execution_count": 22,
   "metadata": {
    "id": "y-0XSveWeFUR",
    "outputId": "b46c381c-99f9-4779-9448-a46763cd9c64"
   },
   "outputs": [
    {
     "data": {
      "text/plain": [
       "2"
      ]
     },
     "execution_count": 22,
     "metadata": {},
     "output_type": "execute_result"
    }
   ],
   "source": [
    "remainder = 200 % 11\n",
    "remainder"
   ]
  },
  {
   "cell_type": "code",
   "execution_count": 23,
   "metadata": {
    "id": "NuvPpEFveFUR",
    "outputId": "6d6f3f3d-6656-4f58-fe7a-e438bfe8ea60"
   },
   "outputs": [
    {
     "name": "stdout",
     "output_type": "stream",
     "text": [
      "With your $ 200, 18 pieces of material you can get for 11 $ each. The remaining money is $ 2\n"
     ]
    }
   ],
   "source": [
    "total_money = 200\n",
    "\n",
    "material_price = 11\n",
    "\n",
    "piece = 200 // 11\n",
    "\n",
    "remaining_money = 200 % 11\n",
    "\n",
    "print(\"With your $\", total_money, \"\\b,\", piece, \"pieces of material you can get for\", \\\n",
    "     material_price, \"$ each. The remaining money is $\", remaining_money)"
   ]
  },
  {
   "cell_type": "markdown",
   "metadata": {
    "id": "6HATxQq5eFUR"
   },
   "source": [
    "<a id=\"toc\"></a>\n",
    "\n",
    "### <p style=\"background-color:#9d4f8c; font-family:newtimeroman; color:#FFF9ED; font-size:175%; text-align:center; border-radius:10px 10px;\">Task 4 :</p>"
   ]
  },
  {
   "cell_type": "markdown",
   "metadata": {
    "id": "pZ3sR8_ueFUR"
   },
   "source": [
    "## Ask the user for two numbers and assign these numbers to variables and replace the values of these variables with each other."
   ]
  },
  {
   "cell_type": "code",
   "execution_count": 24,
   "metadata": {
    "id": "VONw9FcAeFUR"
   },
   "outputs": [],
   "source": [
    "# Assigning values to more than one variable with tuple unpacking method:\n",
    "\n",
    "x, y, z = 1, 3, \"beş\"  \n",
    "\n",
    "# tuple unpacking:\n",
    "# We assign the values on the right of the equation to the variables on the left of the equation."
   ]
  },
  {
   "cell_type": "code",
   "execution_count": 25,
   "metadata": {
    "id": "8lLBtrLPeFUS",
    "outputId": "6e93cf36-5d81-4480-d2ae-ec57d4d53cd6"
   },
   "outputs": [
    {
     "data": {
      "text/plain": [
       "1"
      ]
     },
     "execution_count": 25,
     "metadata": {},
     "output_type": "execute_result"
    }
   ],
   "source": [
    "x"
   ]
  },
  {
   "cell_type": "code",
   "execution_count": 26,
   "metadata": {
    "id": "3fw3Y85reFUS",
    "outputId": "5106b6a4-0595-4fd7-f51a-9ffae2a93d29"
   },
   "outputs": [
    {
     "data": {
      "text/plain": [
       "3"
      ]
     },
     "execution_count": 26,
     "metadata": {},
     "output_type": "execute_result"
    }
   ],
   "source": [
    "y"
   ]
  },
  {
   "cell_type": "code",
   "execution_count": 27,
   "metadata": {
    "id": "vtvxVbA3eFUS",
    "outputId": "2defb094-928b-428f-ed92-421798a072c8"
   },
   "outputs": [
    {
     "data": {
      "text/plain": [
       "'beş'"
      ]
     },
     "execution_count": 27,
     "metadata": {},
     "output_type": "execute_result"
    }
   ],
   "source": [
    "z"
   ]
  },
  {
   "cell_type": "code",
   "execution_count": 28,
   "metadata": {
    "id": "C5eiPuU6eFUS",
    "outputId": "9463a695-f84a-48e6-b0e9-896f8e61d135"
   },
   "outputs": [
    {
     "name": "stdout",
     "output_type": "stream",
     "text": [
      "variable before replacing a =  2 , b = 5\n",
      "variable after replacing a =  5 , b = 2\n"
     ]
    }
   ],
   "source": [
    "a = 2\n",
    "b = 5\n",
    "\n",
    "print(\"variable before replacing a = \", a, \", b =\", b)\n",
    "\n",
    "a, b = b, a\n",
    "\n",
    "print(\"variable after replacing a = \", a, \", b =\", b)"
   ]
  },
  {
   "cell_type": "markdown",
   "metadata": {
    "id": "2qSOwLBweFUS"
   },
   "source": [
    "<a id=\"toc\"></a>\n",
    "\n",
    "### <p style=\"background-color:#9d4f8c; font-family:newtimeroman; color:#FFF9ED; font-size:175%; text-align:center; border-radius:10px 10px;\">Task 5 :</p>"
   ]
  },
  {
   "cell_type": "markdown",
   "metadata": {
    "id": "9dZU4Nq8eFUS"
   },
   "source": [
    "## Get \"word\", \"seperator\" and \"repetition\" values from the user and print the word on the screen according to the given values. \n",
    "\n",
    "**Ex:** ``word = ally, sep = /, repetition = 3`` ----> ``ally/ally/ally``"
   ]
  },
  {
   "cell_type": "code",
   "execution_count": 29,
   "metadata": {
    "id": "6j7btKhVeFUT",
    "outputId": "9505ca03-6138-42e8-a54b-6368b269b289"
   },
   "outputs": [
    {
     "data": {
      "text/plain": [
       "'ally&'"
      ]
     },
     "execution_count": 29,
     "metadata": {},
     "output_type": "execute_result"
    }
   ],
   "source": [
    "\"ally\" + \"&\""
   ]
  },
  {
   "cell_type": "code",
   "execution_count": 30,
   "metadata": {
    "id": "5thbiPYNeFUT",
    "outputId": "dd587fc8-382b-4a94-8afc-97916b769360"
   },
   "outputs": [
    {
     "name": "stdin",
     "output_type": "stream",
     "text": [
      "word :  WORD\n",
      "seperator : !\n",
      "repetition:  30\n"
     ]
    },
    {
     "name": "stdout",
     "output_type": "stream",
     "text": [
      "WORD!WORD!WORD!WORD!WORD!WORD!WORD!WORD!WORD!WORD!WORD!WORD!WORD!WORD!WORD!WORD!WORD!WORD!WORD!WORD!WORD!WORD!WORD!WORD!WORD!WORD!WORD!WORD!WORD!WORD\n"
     ]
    }
   ],
   "source": [
    "word = input(\"word : \")  # We want the word to be of string data type. \n",
    "# so we didn't change the type of the value returned from the input function.\n",
    "\n",
    "seperator = input(\"seperator :\")  # Since we want the separator to be a string, we didn't change its type either.\n",
    "\n",
    "repetition = int(input(\"repetition: \"))  # We want \"repetition\" to be a number. \n",
    "# so we converted the string value returned from the input function to integer.\n",
    "\n",
    "print((word + seperator) * (repetition -1) + word)"
   ]
  },
  {
   "cell_type": "code",
   "execution_count": null,
   "metadata": {
    "id": "3nvvwwsQhvxc"
   },
   "outputs": [],
   "source": []
  }
 ],
 "metadata": {
  "colab": {
   "provenance": []
  },
  "kernelspec": {
   "display_name": "Python 3 (ipykernel)",
   "language": "python",
   "name": "python3"
  },
  "language_info": {
   "codemirror_mode": {
    "name": "ipython",
    "version": 3
   },
   "file_extension": ".py",
   "mimetype": "text/x-python",
   "name": "python",
   "nbconvert_exporter": "python",
   "pygments_lexer": "ipython3",
   "version": "3.11.3"
  }
 },
 "nbformat": 4,
 "nbformat_minor": 4
}
