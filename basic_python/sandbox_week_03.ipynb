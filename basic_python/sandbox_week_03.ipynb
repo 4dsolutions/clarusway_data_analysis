{
 "cells": [
  {
   "cell_type": "markdown",
   "id": "41b0fa16-6ded-4217-9a30-f655af063525",
   "metadata": {
    "jp-MarkdownHeadingCollapsed": true
   },
   "source": [
    "#### Clarusway Python\n",
    "\n",
    "* [Instructor Landing Page](landing_page.ipynb)\n",
    "* <a href=\"https://colab.research.google.com/github/4dsolutions/clarusway_data_analysis/blob/main/basic_python/sandbox_week_03.ipynb\"><img align=\"left\" src=\"https://colab.research.google.com/assets/colab-badge.svg\" alt=\"Open in Colab\" title=\"Open and Execute in Google Colaboratory\"></a>\n",
    "* [![nbviewer](https://raw.githubusercontent.com/jupyter/design/master/logos/Badges/nbviewer_badge.svg)](https://nbviewer.org/github/4dsolutions/clarusway_data_analysis/blob/main/basic_python/sandbox_week_03.ipynb)"
   ]
  },
  {
   "cell_type": "markdown",
   "id": "9a40af2f-d13d-432a-9006-f0b20db320be",
   "metadata": {},
   "source": [
    "# SANDBOX (WEEK 3)\n",
    "\n",
    "Continuing to explore collection types and control statements."
   ]
  },
  {
   "cell_type": "code",
   "execution_count": 1,
   "id": "9e971d9c-4e74-4320-8f18-00c0e15b3a93",
   "metadata": {},
   "outputs": [
    {
     "data": {
      "image/jpeg": "[encoded data removed]",
      "text/html": [
       "\n",
       "        <iframe\n",
       "            width=\"400\"\n",
       "            height=\"300\"\n",
       "            src=\"https://www.youtube.com/embed/j6VSAsKAj98\"\n",
       "            frameborder=\"0\"\n",
       "            allowfullscreen\n",
       "            \n",
       "        ></iframe>\n",
       "        "
      ],
      "text/plain": [
       "<IPython.lib.display.YouTubeVideo at 0x111bf6f10>"
      ]
     },
     "execution_count": 1,
     "metadata": {},
     "output_type": "execute_result"
    }
   ],
   "source": [
    "from IPython.display import YouTubeVideo\n",
    "YouTubeVideo(\"j6VSAsKAj98\")"
   ]
  },
  {
   "cell_type": "markdown",
   "id": "3257579e-9c05-464f-9a28-2de833e9ad4b",
   "metadata": {},
   "source": [
    "In the above Youtube, David Beazley introduced the namedtuple data type. It's in the collections module in the Standard Library."
   ]
  },
  {
   "cell_type": "markdown",
   "id": "6a89c6b7-6cd3-4aad-9479-094420cf8289",
   "metadata": {},
   "source": [
    "Before we get into the namedtuple type (a bit exotic), lets talk about dicts and sets:"
   ]
  },
  {
   "cell_type": "code",
   "execution_count": 2,
   "id": "08e71c9c-7485-4e59-9caf-126550389943",
   "metadata": {},
   "outputs": [
    {
     "data": {
      "text/plain": [
       "{'H.G. Wells': {'Born': 1866,\n",
       "  'Died': 1946,\n",
       "  'Writings': {'empire of the ants', 'the time machine', 'war of the worlds'}}}"
      ]
     },
     "execution_count": 2,
     "metadata": {},
     "output_type": "execute_result"
    }
   ],
   "source": [
    "subset = {'empire of the ants',  # set of books\n",
    "          'war of the worlds', \n",
    "          'the time machine'}\n",
    "\n",
    "authors = {} # empty dict\n",
    "authors['H.G. Wells'] = {\"Born\":1866,\n",
    "                         \"Died\":1946,\n",
    "                         \"Writings\":subset} # tiny subset\n",
    "authors"
   ]
  },
  {
   "cell_type": "markdown",
   "id": "d3de9b12-245a-4f50-8c2b-b4c8bc70e33b",
   "metadata": {},
   "source": [
    "### The namedtuple type in collections\n",
    "\n",
    "First, lets review alittle about importing: plunk \"the whole suitcase\" down on the bed (long-running analogy: module = suitcase) using `import` and/or import named contents, such as the sqrt function from math, or namedtuple from collections."
   ]
  },
  {
   "cell_type": "code",
   "execution_count": 3,
   "id": "41c0322c-a78f-4e9f-a4aa-ebe2c965e933",
   "metadata": {},
   "outputs": [],
   "source": [
    "import collections  # <-- bring in a Python module"
   ]
  },
  {
   "cell_type": "code",
   "execution_count": 4,
   "id": "ff0effdb-799a-443c-afcf-c57b47a5584a",
   "metadata": {},
   "outputs": [],
   "source": [
    "from math import sqrt  # <-- we have the option to just bring in named content"
   ]
  },
  {
   "cell_type": "code",
   "execution_count": 5,
   "id": "46fec723-140e-424d-90f2-7c8d11c59803",
   "metadata": {},
   "outputs": [],
   "source": [
    "import math # <-- and, in addition, to have the module at hand"
   ]
  },
  {
   "cell_type": "code",
   "execution_count": 6,
   "id": "0972e383-68fc-4287-bb22-9571cbdf77dd",
   "metadata": {},
   "outputs": [
    {
     "data": {
      "text/plain": [
       "3.1622776601683795"
      ]
     },
     "execution_count": 6,
     "metadata": {},
     "output_type": "execute_result"
    }
   ],
   "source": [
    "math.sqrt(10) # <-- I won't have to do this if I bring in sqrt"
   ]
  },
  {
   "cell_type": "markdown",
   "id": "3610acf1-24ab-4296-9893-acccbb44049d",
   "metadata": {},
   "source": [
    "OK now here's how we use namedtuple:"
   ]
  },
  {
   "cell_type": "code",
   "execution_count": 7,
   "id": "160aa416-55c8-4903-94d0-475482edd269",
   "metadata": {},
   "outputs": [],
   "source": [
    "Atom = collections.namedtuple(\"Element\", \"protons mass symbol name\")"
   ]
  },
  {
   "cell_type": "markdown",
   "id": "fafabe27-0d0c-4fa2-aa7e-5e7a180836d9",
   "metadata": {},
   "source": [
    "![periodic table](https://sciencenotes.org/wp-content/uploads/2018/05/PeriodicTableMuted2018.png)"
   ]
  },
  {
   "cell_type": "code",
   "execution_count": 8,
   "id": "9ca4b480-d92b-4e2e-b83a-ae46d4d13241",
   "metadata": {},
   "outputs": [],
   "source": [
    "lithium = Atom(3, 6.941, \"Li\", \"Lithium\")\n",
    "thorium = Atom(90, 232.038, \"Th\", \"Thorium\")"
   ]
  },
  {
   "cell_type": "code",
   "execution_count": 9,
   "id": "c1164592-360f-45dc-bd72-2033ba0f399b",
   "metadata": {},
   "outputs": [],
   "source": [
    "normal = (74, 183.84, 'W', 'Tungsten')"
   ]
  },
  {
   "cell_type": "code",
   "execution_count": 10,
   "id": "eb5174c3-8c3d-4c67-bdc7-b5773a585510",
   "metadata": {},
   "outputs": [],
   "source": [
    "Worker = collections.namedtuple(\"Employee\", \"First Last Title DOB Hired\")"
   ]
  },
  {
   "cell_type": "markdown",
   "id": "b8ce0a1a-5f2f-49c7-a705-e5cc7ff6ba93",
   "metadata": {},
   "source": [
    "We postpone doing much with dates and times until later when we start using the numpy package. The numpy package has its own implementation of the chrono types independently of what's in the Python Standard Library.\n",
    "\n",
    "However, we need not avoid the Standard Library versions all together. Here we create some `datetime.date` instances in order to populate an employment record."
   ]
  },
  {
   "cell_type": "code",
   "execution_count": 11,
   "id": "2247349c-3863-4a03-ae24-48b3bcf370ff",
   "metadata": {},
   "outputs": [],
   "source": [
    "import datetime"
   ]
  },
  {
   "cell_type": "code",
   "execution_count": 12,
   "id": "ebf5936c-b9db-43c8-9da4-50878797e056",
   "metadata": {},
   "outputs": [
    {
     "data": {
      "text/plain": [
       "datetime.date(2012, 3, 4)"
      ]
     },
     "execution_count": 12,
     "metadata": {},
     "output_type": "execute_result"
    }
   ],
   "source": [
    "datetime.date(2012, 3, 4)"
   ]
  },
  {
   "cell_type": "code",
   "execution_count": 13,
   "id": "f323baf3-0c14-4bd7-a419-e7a12bb66027",
   "metadata": {},
   "outputs": [],
   "source": [
    "emp1 = Worker(\"Kirby\", \"Urner\", \"Instructor\", \"10/31/2024\", \"1/1/2021\")"
   ]
  },
  {
   "cell_type": "code",
   "execution_count": 14,
   "id": "095a41f4-7562-46fb-95a7-3cf862e9fcd3",
   "metadata": {},
   "outputs": [
    {
     "data": {
      "text/plain": [
       "Employee(First='Kirby', Last='Urner', Title='Instructor', DOB='10/31/2024', Hired='1/1/2021')"
      ]
     },
     "execution_count": 14,
     "metadata": {},
     "output_type": "execute_result"
    }
   ],
   "source": [
    "emp1"
   ]
  },
  {
   "cell_type": "markdown",
   "id": "39ab3cc4-92f3-4d66-9882-8407058d6a48",
   "metadata": {},
   "source": [
    "A whimsical combination of items, showing tuples (choosing from whatever we have so far) as values in a dict. Pythonistas often say dict instead of dictionary."
   ]
  },
  {
   "cell_type": "code",
   "execution_count": 15,
   "id": "71d906fb-d497-4d47-a78e-08e5cf0a608d",
   "metadata": {},
   "outputs": [],
   "source": [
    "company = {\"kirby\":emp1, \"lithium\":lithium, \"thorium\":thorium}"
   ]
  },
  {
   "cell_type": "code",
   "execution_count": 16,
   "id": "8be8c5fd-73b0-44a6-90c1-327fb28dd160",
   "metadata": {},
   "outputs": [
    {
     "data": {
      "text/plain": [
       "Element(protons=3, mass=6.941, symbol='Li', name='Lithium')"
      ]
     },
     "execution_count": 16,
     "metadata": {},
     "output_type": "execute_result"
    }
   ],
   "source": [
    "company[\"lithium\"]  # looking up a value by key in a dict"
   ]
  },
  {
   "cell_type": "code",
   "execution_count": 17,
   "id": "1a9c1091-c603-4a4f-8b90-2b224c59bd02",
   "metadata": {},
   "outputs": [
    {
     "data": {
      "text/plain": [
       "dict_values([Employee(First='Kirby', Last='Urner', Title='Instructor', DOB='10/31/2024', Hired='1/1/2021'), Element(protons=3, mass=6.941, symbol='Li', name='Lithium'), Element(protons=90, mass=232.038, symbol='Th', name='Thorium')])"
      ]
     },
     "execution_count": 17,
     "metadata": {},
     "output_type": "execute_result"
    }
   ],
   "source": [
    "company.values()"
   ]
  },
  {
   "cell_type": "code",
   "execution_count": 18,
   "id": "f5005a8e-5a0e-4d3e-bf5d-5fbbd105bed8",
   "metadata": {},
   "outputs": [
    {
     "data": {
      "text/plain": [
       "'Thorium'"
      ]
     },
     "execution_count": 18,
     "metadata": {},
     "output_type": "execute_result"
    }
   ],
   "source": [
    "thorium[3]"
   ]
  },
  {
   "cell_type": "markdown",
   "id": "6f6eef44-49d6-4962-bd3f-88f6a8b5d1be",
   "metadata": {},
   "source": [
    "## Flow of Control\n",
    "\n",
    "Copying from Sandbox 2:\n",
    "\n",
    "The code cell below is a little bit ahead of where we are in the Notebooks, in that it uses two of Python's most critical control statements: the while and the if statements. \n",
    "\n",
    "Both keywords while and if start statements that might go various ways. For example the `else` keyword is optional with both. `if` may also include any number of `elif` suites, as we test this and that condition. \n",
    "\n",
    "The idea of a loop is to repeatedly run through the same code steps, perhaps each time altering some of the variables. The idea of an if statement is to flow differently, top to bottom, depending on what's currently happening with various variables. `break` and `continue` also have a role to play when it comes to loops."
   ]
  },
  {
   "cell_type": "code",
   "execution_count": 19,
   "id": "06bb15a9-0f71-4a87-8237-9c09d6b75c78",
   "metadata": {},
   "outputs": [
    {
     "name": "stdout",
     "output_type": "stream",
     "text": [
      "['False', 'None', 'True', 'and', 'as']\n"
     ]
    }
   ],
   "source": [
    "\"\"\"\n",
    "looping version, self quiz.\n",
    "\"\"\"\n",
    "\n",
    "import keyword\n",
    "\n",
    "kws = keyword.kwlist[:5]\n",
    "\n",
    "# cheat sheet\n",
    "print(kws)  # comment out to not show the answers\n",
    "\n",
    "def silly_game():\n",
    "    \"\"\"\n",
    "    A while loop prompting a player to input a \n",
    "    keyword, which shortens the list until none\n",
    "    are left or the player escapes using Q.\n",
    "    \"\"\"\n",
    "    while len(kws) > 0:\n",
    "        answer = input(\"Give me a keyword please > \")\n",
    "        if answer.upper() == \"Q\":\n",
    "            break\n",
    "        if answer in kws:\n",
    "            print(\"Excellent, thank you\")\n",
    "            kws.remove(answer)\n",
    "            print(\"{} remaining\".format(len(kws)))\n",
    "        else:\n",
    "            print(\"I couldn't find that in my list.\")\n",
    "    else:\n",
    "        print(\"Wow, you got them all!\")\n",
    "    \n",
    "    print(\"Thanks for playing!\")\n"
   ]
  },
  {
   "cell_type": "code",
   "execution_count": 53,
   "id": "192ed421-3a6e-42aa-a203-9a0383614274",
   "metadata": {},
   "outputs": [],
   "source": [
    "# silly_game()"
   ]
  },
  {
   "cell_type": "code",
   "execution_count": 21,
   "id": "afd193f7-219c-410c-acf5-0c8dbdca11ba",
   "metadata": {},
   "outputs": [],
   "source": [
    "L = [\"this\", \"is\", \"a\", \"list\"]\n",
    "x = \"list\"\n",
    "if x in L:\n",
    "    L.remove(\"list\")"
   ]
  },
  {
   "cell_type": "code",
   "execution_count": 22,
   "id": "a18b17eb-7794-4259-93b2-2d67c0ff019b",
   "metadata": {},
   "outputs": [
    {
     "data": {
      "text/plain": [
       "['this', 'is', 'a']"
      ]
     },
     "execution_count": 22,
     "metadata": {},
     "output_type": "execute_result"
    }
   ],
   "source": [
    "L"
   ]
  },
  {
   "cell_type": "code",
   "execution_count": 23,
   "id": "bf0f5b79-3600-4903-acc7-f61d9b5a5307",
   "metadata": {},
   "outputs": [
    {
     "name": "stdout",
     "output_type": "stream",
     "text": [
      "Looping...\n",
      "It's True!\n",
      "else suite\n"
     ]
    }
   ],
   "source": [
    "x = 1 # assignment outside the loop\n",
    "while x==1:\n",
    "    print(\"Looping...\")\n",
    "    print(\"It's True!\")\n",
    "    if x==2: \n",
    "        print(\"before break\")\n",
    "        break\n",
    "    x += 1\n",
    "else:\n",
    "    print(\"else suite\")"
   ]
  },
  {
   "cell_type": "markdown",
   "id": "cb3c6309-7ae0-4f44-bc3b-4e69935dfcbe",
   "metadata": {},
   "source": [
    "#### Another exhibit..."
   ]
  },
  {
   "cell_type": "code",
   "execution_count": 55,
   "id": "39c79ff0-a785-4f52-a7da-ecd1e0e27b49",
   "metadata": {},
   "outputs": [],
   "source": [
    "from random import randint    "
   ]
  },
  {
   "cell_type": "code",
   "execution_count": 56,
   "id": "f09888a8-4c34-4b20-baea-ab1d5fcccfe7",
   "metadata": {},
   "outputs": [
    {
     "name": "stdout",
     "output_type": "stream",
     "text": [
      "5\n",
      "5\n",
      "4\n",
      "6\n",
      "4\n",
      "6\n",
      "0\n",
      "7\n",
      "9\n",
      "x is 10!\n"
     ]
    }
   ],
   "source": [
    "x = randint(0, 10)\n",
    "\n",
    "while x != 10:\n",
    "    print(x)\n",
    "    x = randint(0, 10)\n",
    "else:\n",
    "    print(\"x is 10!\")"
   ]
  },
  {
   "cell_type": "code",
   "execution_count": 131,
   "id": "6205049f-77ba-4085-ab72-72b6b1fbda8d",
   "metadata": {},
   "outputs": [],
   "source": [
    "pumpkin = \"🎃\"\n",
    "\n",
    "def flipit():\n",
    "    return [\"heads\", \"tails\"][randint(0, 1)]\n",
    "\n",
    "def raining_pumpkins():\n",
    "    all_lists = []           # empty list\n",
    "    for _ in range(21):\n",
    "        all_lists.append([]) # fill with 11 empty lists\n",
    "\n",
    "    for _ in range(60):      # do this n times\n",
    "        marker = 10          # depending where we start...\n",
    "        for _ in range(10):  # ... and on how many flips... \n",
    "            coin = flipit()  # heads or tails?\n",
    "            # marker ends up always even or odd\n",
    "            if coin == \"heads\":\n",
    "                marker -= 1\n",
    "            else:\n",
    "                marker += 1\n",
    "        all_lists[marker].append(pumpkin)\n",
    "            \n",
    "    return all_lists"
   ]
  },
  {
   "cell_type": "code",
   "execution_count": 132,
   "id": "14164498-f350-4802-bf58-277e0aeaeca2",
   "metadata": {},
   "outputs": [
    {
     "name": "stdout",
     "output_type": "stream",
     "text": [
      "tails tails heads heads heads tails heads heads tails tails "
     ]
    }
   ],
   "source": [
    "for _ in range(10):\n",
    "    print(flipit(), end=\" \")"
   ]
  },
  {
   "cell_type": "code",
   "execution_count": 134,
   "id": "5ea77709-56e8-4c8b-9cf0-175a5283887f",
   "metadata": {},
   "outputs": [
    {
     "name": "stdout",
     "output_type": "stream",
     "text": [
      "\n",
      "🎃\n",
      "🎃🎃🎃🎃🎃🎃🎃\n",
      "🎃🎃🎃🎃🎃🎃\n",
      "🎃🎃🎃🎃🎃🎃🎃🎃🎃🎃🎃🎃🎃\n",
      "🎃🎃🎃🎃🎃🎃🎃🎃🎃🎃🎃🎃🎃🎃🎃🎃\n",
      "🎃🎃🎃🎃🎃🎃🎃🎃\n",
      "🎃🎃🎃🎃🎃\n",
      "🎃🎃\n",
      "🎃🎃\n",
      "\n"
     ]
    }
   ],
   "source": [
    "lists = raining_pumpkins()\n",
    "for row in lists[::2]:  # even or odd rows\n",
    "    # print(row)\n",
    "    print(\"\".join(row))"
   ]
  },
  {
   "cell_type": "markdown",
   "id": "ad14d52d-a602-4412-874f-118a08811f88",
   "metadata": {},
   "source": [
    "### range type\n",
    "\n",
    "In the curriculum proper, defined by lectures, Notebooks, labs, assignments and so on, we are just now getting to the `range` type, a useful sequence holder that behaves like a list yet doesn't need to use up memory the same way.\n",
    "\n",
    "In the sandbox, as a way of previewing what's down the road, the numpy functions arange and linspace show what they provide that range does not. By comparing and contrasting the three together, we tie together data science in a more memorably compact way."
   ]
  },
  {
   "cell_type": "code",
   "execution_count": 24,
   "id": "93031a72-fe38-40de-b044-32ead4ba1106",
   "metadata": {},
   "outputs": [],
   "source": [
    "my_list = [1, 2, 3, 4, 5, 6]"
   ]
  },
  {
   "cell_type": "code",
   "execution_count": 25,
   "id": "2b52480b-c702-4a22-a16a-fda10e74640c",
   "metadata": {},
   "outputs": [
    {
     "data": {
      "text/plain": [
       "[1, 2, 3, 4, 5, 6, 7, 8, 9, 10]"
      ]
     },
     "execution_count": 25,
     "metadata": {},
     "output_type": "execute_result"
    }
   ],
   "source": [
    "ci = list(range(1, 11))\n",
    "ci"
   ]
  },
  {
   "cell_type": "code",
   "execution_count": 26,
   "id": "8e16087a-501e-4644-afba-1f06db604bdb",
   "metadata": {},
   "outputs": [
    {
     "data": {
      "text/plain": [
       "[4, 5, 6, 7, 8]"
      ]
     },
     "execution_count": 26,
     "metadata": {},
     "output_type": "execute_result"
    }
   ],
   "source": [
    "ci[3:8]"
   ]
  },
  {
   "cell_type": "code",
   "execution_count": 27,
   "id": "ed327a76-056d-489b-9948-c4bc9f00f997",
   "metadata": {},
   "outputs": [
    {
     "data": {
      "text/plain": [
       "10"
      ]
     },
     "execution_count": 27,
     "metadata": {},
     "output_type": "execute_result"
    }
   ],
   "source": [
    "len(range(1, 11))"
   ]
  },
  {
   "cell_type": "markdown",
   "id": "855cafd6-bf9f-4bed-a6e2-c2d49de1ccfc",
   "metadata": {},
   "source": [
    "We are just coming to for and while loops in the curriculum sequence, after some sandbox previewing:"
   ]
  },
  {
   "cell_type": "code",
   "execution_count": 28,
   "id": "81d051fc-9615-4e81-8b9f-ccbad13d4f5b",
   "metadata": {},
   "outputs": [
    {
     "name": "stdout",
     "output_type": "stream",
     "text": [
      "t is the number\n",
      "h is the number\n",
      "i is the number\n",
      "s is the number\n",
      "  is the number\n",
      "i is the number\n",
      "s is the number\n",
      "  is the number\n",
      "j is the number\n",
      "u is the number\n",
      "s is the number\n",
      "t is the number\n",
      "  is the number\n",
      "a is the number\n",
      "n is the number\n",
      "  is the number\n",
      "o is the number\n",
      "r is the number\n",
      "d is the number\n",
      "i is the number\n",
      "n is the number\n",
      "a is the number\n",
      "r is the number\n",
      "y is the number\n",
      "  is the number\n",
      "s is the number\n",
      "t is the number\n",
      "r is the number\n",
      "i is the number\n",
      "n is the number\n",
      "g is the number\n"
     ]
    }
   ],
   "source": [
    "for name in \"this is just an ordinary string\":\n",
    "    print(\"{x} is the number\".format(x = name))"
   ]
  },
  {
   "cell_type": "code",
   "execution_count": 29,
   "id": "75e0c7e2-de20-471e-a9c1-16473e0bb358",
   "metadata": {},
   "outputs": [
    {
     "data": {
      "text/plain": [
       "[1, 3, 5, 7, 9]"
      ]
     },
     "execution_count": 29,
     "metadata": {},
     "output_type": "execute_result"
    }
   ],
   "source": [
    "ci[0:9:2]"
   ]
  },
  {
   "cell_type": "code",
   "execution_count": 30,
   "id": "6d7b0564-bbfe-4f30-9c1c-98d185764c21",
   "metadata": {},
   "outputs": [
    {
     "data": {
      "text/plain": [
       "[9, 8, 7, 6, 5, 4, 3, 2, 1, 0]"
      ]
     },
     "execution_count": 30,
     "metadata": {},
     "output_type": "execute_result"
    }
   ],
   "source": [
    "list(range(9, -1, -1))"
   ]
  },
  {
   "cell_type": "code",
   "execution_count": 31,
   "id": "5f92fa1c-8009-4523-a55a-7eb27ad7778a",
   "metadata": {},
   "outputs": [],
   "source": [
    "import numpy as np"
   ]
  },
  {
   "cell_type": "code",
   "execution_count": 32,
   "id": "5d05e7c6-9a14-43c3-a3f6-470ea6c1ba3d",
   "metadata": {},
   "outputs": [
    {
     "data": {
      "text/plain": [
       "3.141592653589793"
      ]
     },
     "execution_count": 32,
     "metadata": {},
     "output_type": "execute_result"
    }
   ],
   "source": [
    "np.pi"
   ]
  },
  {
   "cell_type": "code",
   "execution_count": 33,
   "id": "11166b5a-b5d3-418e-bba4-f13b9879bb69",
   "metadata": {},
   "outputs": [
    {
     "data": {
      "text/plain": [
       "array([0. , 0.5, 1. , 1.5, 2. , 2.5, 3. , 3.5, 4. , 4.5, 5. , 5.5, 6. ,\n",
       "       6.5, 7. , 7.5, 8. , 8.5, 9. ])"
      ]
     },
     "execution_count": 33,
     "metadata": {},
     "output_type": "execute_result"
    }
   ],
   "source": [
    "np.arange(0, 9.1, 0.5)"
   ]
  },
  {
   "cell_type": "code",
   "execution_count": 34,
   "id": "0bb813cb-0a06-4b76-aaa9-b3f10c784da6",
   "metadata": {},
   "outputs": [
    {
     "data": {
      "text/plain": [
       "array([0., 1., 2., 3., 4., 5., 6., 7., 8., 9.])"
      ]
     },
     "execution_count": 34,
     "metadata": {},
     "output_type": "execute_result"
    }
   ],
   "source": [
    "np.linspace(0, 9, 10)"
   ]
  },
  {
   "cell_type": "code",
   "execution_count": 35,
   "id": "38034e53-0cc1-467b-9644-3c89726b1f8f",
   "metadata": {},
   "outputs": [
    {
     "data": {
      "text/plain": [
       "'hello 475.010000, I like 849'"
      ]
     },
     "execution_count": 35,
     "metadata": {},
     "output_type": "execute_result"
    }
   ],
   "source": [
    "\"hello %f, I like %d\" % (475.01, 849)"
   ]
  },
  {
   "cell_type": "code",
   "execution_count": 36,
   "id": "8b39127f-bfca-46ad-b83b-e2c8aa13eef8",
   "metadata": {},
   "outputs": [
    {
     "data": {
      "text/plain": [
       "(3,)"
      ]
     },
     "execution_count": 36,
     "metadata": {},
     "output_type": "execute_result"
    }
   ],
   "source": [
    "(3, )"
   ]
  },
  {
   "cell_type": "markdown",
   "id": "637c4ab2-617b-4d0f-bd94-9c9f35f0b0f8",
   "metadata": {},
   "source": [
    "### JSON: JavaScript Object Notation\n",
    "\n",
    "JavaScript and Python have quite a bit in common, especially when it comes to representing common data structures.\n",
    "\n",
    "Shown below: opening this very notebook, reading it in as a gigantic string, and parsing it into a Python dictionary through the json string loader."
   ]
  },
  {
   "cell_type": "code",
   "execution_count": 37,
   "id": "a8d7609f-b0a2-4c5f-801a-3325665fd6c4",
   "metadata": {},
   "outputs": [],
   "source": [
    "import json"
   ]
  },
  {
   "cell_type": "code",
   "execution_count": 38,
   "id": "facc4ca3-a41f-4417-a504-88fdf7904e18",
   "metadata": {},
   "outputs": [],
   "source": [
    "# help(json)"
   ]
  },
  {
   "cell_type": "code",
   "execution_count": 39,
   "id": "29b6b8a2-6191-4d2c-bd26-fbe12e129f66",
   "metadata": {},
   "outputs": [],
   "source": [
    "def read_me():\n",
    "    \"\"\"\n",
    "    if you would like to read in this very notebook\n",
    "    as a json file and have it converted to a dict,\n",
    "    run me\n",
    "    \"\"\"\n",
    "    print(\"Running...\")\n",
    "    this_notebook = open(\"sandbox_week_03.ipynb\", \"r\").read()\n",
    "    notebook_dict = json.loads(this_notebook)\n",
    "    print(\"Size:\", len(this_notebook))\n",
    "    return notebook_dict # this notebook as a dict, wow"
   ]
  },
  {
   "cell_type": "code",
   "execution_count": 40,
   "id": "c18c6ba6-9e8f-4a48-b46e-6933dbf35b7c",
   "metadata": {},
   "outputs": [
    {
     "name": "stdout",
     "output_type": "stream",
     "text": [
      "Running...\n",
      "Size: 174032\n"
     ]
    }
   ],
   "source": [
    "sb3 = read_me()"
   ]
  },
  {
   "cell_type": "code",
   "execution_count": 41,
   "id": "07e57dbd-e4c1-44b2-b3ed-0eac209faf7c",
   "metadata": {},
   "outputs": [
    {
     "data": {
      "text/plain": [
       "dict"
      ]
     },
     "execution_count": 41,
     "metadata": {},
     "output_type": "execute_result"
    }
   ],
   "source": [
    "type(sb3)"
   ]
  },
  {
   "cell_type": "code",
   "execution_count": 42,
   "id": "0e5c5b9e-a459-476c-9b1f-ab7def2dffd0",
   "metadata": {},
   "outputs": [
    {
     "data": {
      "text/plain": [
       "dict_keys(['cells', 'metadata', 'nbformat', 'nbformat_minor'])"
      ]
     },
     "execution_count": 42,
     "metadata": {},
     "output_type": "execute_result"
    }
   ],
   "source": [
    "sb3.keys()"
   ]
  },
  {
   "cell_type": "code",
   "execution_count": 43,
   "id": "ac4d13d9-d007-4b63-9677-4c09e5fa4154",
   "metadata": {},
   "outputs": [
    {
     "data": {
      "text/plain": [
       "list"
      ]
     },
     "execution_count": 43,
     "metadata": {},
     "output_type": "execute_result"
    }
   ],
   "source": [
    "type(sb3['cells'])"
   ]
  },
  {
   "cell_type": "code",
   "execution_count": 44,
   "id": "1fccbe3b-ef13-4894-9da3-453b46005df4",
   "metadata": {},
   "outputs": [
    {
     "data": {
      "text/plain": [
       "{'cell_type': 'markdown',\n",
       " 'id': '41b0fa16-6ded-4217-9a30-f655af063525',\n",
       " 'metadata': {'jp-MarkdownHeadingCollapsed': True},\n",
       " 'source': ['#### Clarusway Python\\n',\n",
       "  '\\n',\n",
       "  '* [Instructor Landing Page](landing_page.ipynb)\\n',\n",
       "  '* <a href=\"https://colab.research.google.com/github/4dsolutions/clarusway_data_analysis/blob/main/basic_python/sandbox_week_03.ipynb\"><img align=\"left\" src=\"https://colab.research.google.com/assets/colab-badge.svg\" alt=\"Open in Colab\" title=\"Open and Execute in Google Colaboratory\"></a>\\n',\n",
       "  '* [![nbviewer](https://raw.githubusercontent.com/jupyter/design/master/logos/Badges/nbviewer_badge.svg)](https://nbviewer.org/github/4dsolutions/clarusway_data_analysis/blob/main/basic_python/sandbox_week_03.ipynb)']}"
      ]
     },
     "execution_count": 44,
     "metadata": {},
     "output_type": "execute_result"
    }
   ],
   "source": [
    "sb3['cells'][0]"
   ]
  },
  {
   "cell_type": "code",
   "execution_count": 45,
   "id": "d8008216-e958-4466-8325-7b77ca6a3ea8",
   "metadata": {},
   "outputs": [],
   "source": [
    "zoo = {\"tiger\":3, \"turtle\":99, \"gorilla\":2}"
   ]
  },
  {
   "cell_type": "code",
   "execution_count": 46,
   "id": "9533311b-cbf7-47df-bcae-e0699bf618bf",
   "metadata": {},
   "outputs": [
    {
     "name": "stdout",
     "output_type": "stream",
     "text": [
      "[('tiger', 3), ('turtle', 99), ('gorilla', 2)]\n",
      "[3, 99, 2]\n"
     ]
    }
   ],
   "source": [
    "print(list(zoo.items()))\n",
    "print(list(zoo.values()))"
   ]
  },
  {
   "cell_type": "code",
   "execution_count": 47,
   "id": "99bb8f67-b76f-4f66-9e56-1dcb7d7e19e8",
   "metadata": {},
   "outputs": [],
   "source": [
    "sen = tuple(\"I like Python\")"
   ]
  },
  {
   "cell_type": "code",
   "execution_count": 48,
   "id": "2a0409c5-8f92-41ff-aad0-a4ef8ceedc93",
   "metadata": {},
   "outputs": [],
   "source": [
    "sen = {1:\"I\", 2:\"like\", 3:\"Python\"}"
   ]
  },
  {
   "cell_type": "code",
   "execution_count": 49,
   "id": "08090d33-ed68-4b0b-87a0-2974a55725c7",
   "metadata": {},
   "outputs": [
    {
     "data": {
      "text/plain": [
       "{1: 'I', 2: 'like', 3: 'Python'}"
      ]
     },
     "execution_count": 49,
     "metadata": {},
     "output_type": "execute_result"
    }
   ],
   "source": [
    "sen"
   ]
  },
  {
   "cell_type": "code",
   "execution_count": 50,
   "id": "1872b710-f902-4f1f-ba24-b0edc1f0535f",
   "metadata": {},
   "outputs": [
    {
     "data": {
      "text/plain": [
       "'Python'"
      ]
     },
     "execution_count": 50,
     "metadata": {},
     "output_type": "execute_result"
    }
   ],
   "source": [
    "sen[3]"
   ]
  },
  {
   "cell_type": "code",
   "execution_count": 51,
   "id": "24457e0b-0bc0-4d2d-8453-156e78dcefc1",
   "metadata": {},
   "outputs": [
    {
     "data": {
      "text/plain": [
       "True"
      ]
     },
     "execution_count": 51,
     "metadata": {},
     "output_type": "execute_result"
    }
   ],
   "source": [
    "\"like\" in sen.values()"
   ]
  },
  {
   "cell_type": "code",
   "execution_count": 52,
   "id": "4845ac5f-beb8-422b-981e-b4298a244596",
   "metadata": {},
   "outputs": [],
   "source": [
    "# sb3  # <-- uncomment to dump the whole dict"
   ]
  },
  {
   "cell_type": "code",
   "execution_count": null,
   "id": "13a3dd88-516a-47bf-9aaf-231ed25ea924",
   "metadata": {},
   "outputs": [],
   "source": []
  }
 ],
 "metadata": {
  "kernelspec": {
   "display_name": "Python 3 (ipykernel)",
   "language": "python",
   "name": "python3"
  },
  "language_info": {
   "codemirror_mode": {
    "name": "ipython",
    "version": 3
   },
   "file_extension": ".py",
   "mimetype": "text/x-python",
   "name": "python",
   "nbconvert_exporter": "python",
   "pygments_lexer": "ipython3",
   "version": "3.11.3"
  }
 },
 "nbformat": 4,
 "nbformat_minor": 5
}
