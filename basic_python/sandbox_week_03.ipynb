{
 "cells": [
  {
   "cell_type": "markdown",
   "id": "41b0fa16-6ded-4217-9a30-f655af063525",
   "metadata": {
    "jp-MarkdownHeadingCollapsed": true
   },
   "source": [
    "#### Clarusway Python\n",
    "\n",
    "* [Instructor Landing Page](landing_page.ipynb)\n",
    "* <a href=\"https://colab.research.google.com/github/4dsolutions/clarusway_data_analysis/blob/main/basic_python/sandbox_week_03.ipynb\"><img align=\"left\" src=\"https://colab.research.google.com/assets/colab-badge.svg\" alt=\"Open in Colab\" title=\"Open and Execute in Google Colaboratory\"></a>\n",
    "* [![nbviewer](https://raw.githubusercontent.com/jupyter/design/master/logos/Badges/nbviewer_badge.svg)](https://nbviewer.org/github/4dsolutions/clarusway_data_analysis/blob/main/basic_python/sandbox_week_03.ipynb)"
   ]
  },
  {
   "cell_type": "markdown",
   "id": "9a40af2f-d13d-432a-9006-f0b20db320be",
   "metadata": {},
   "source": [
    "# SANDBOX (WEEK 3)\n",
    "\n",
    "Continuing to explore collection types and control statements."
   ]
  },
  {
   "cell_type": "code",
   "execution_count": 2,
   "id": "9e971d9c-4e74-4320-8f18-00c0e15b3a93",
   "metadata": {},
   "outputs": [
    {
     "data": {
      "image/jpeg": "[encoded data removed]",
      "text/html": [
       "\n",
       "        <iframe\n",
       "            width=\"400\"\n",
       "            height=\"300\"\n",
       "            src=\"https://www.youtube.com/embed/j6VSAsKAj98\"\n",
       "            frameborder=\"0\"\n",
       "            allowfullscreen\n",
       "            \n",
       "        ></iframe>\n",
       "        "
      ],
      "text/plain": [
       "<IPython.lib.display.YouTubeVideo at 0x10a93e3d0>"
      ]
     },
     "execution_count": 2,
     "metadata": {},
     "output_type": "execute_result"
    }
   ],
   "source": [
    "from IPython.display import YouTubeVideo\n",
    "YouTubeVideo(\"j6VSAsKAj98\")"
   ]
  },
  {
   "cell_type": "markdown",
   "id": "3257579e-9c05-464f-9a28-2de833e9ad4b",
   "metadata": {},
   "source": [
    "In the above Youtube, David Beazley introduced the namedtuple data type. It's in the collections module in the Standard Library."
   ]
  },
  {
   "cell_type": "code",
   "execution_count": 60,
   "id": "41c0322c-a78f-4e9f-a4aa-ebe2c965e933",
   "metadata": {},
   "outputs": [],
   "source": [
    "from collections import namedtuple"
   ]
  },
  {
   "cell_type": "code",
   "execution_count": 62,
   "id": "160aa416-55c8-4903-94d0-475482edd269",
   "metadata": {},
   "outputs": [],
   "source": [
    "Atom = namedtuple(\"Element\", \"protons mass symbol name\")"
   ]
  },
  {
   "cell_type": "markdown",
   "id": "fafabe27-0d0c-4fa2-aa7e-5e7a180836d9",
   "metadata": {},
   "source": [
    "![periodic table](https://sciencenotes.org/wp-content/uploads/2018/05/PeriodicTableMuted2018.png)"
   ]
  },
  {
   "cell_type": "code",
   "execution_count": 63,
   "id": "9ca4b480-d92b-4e2e-b83a-ae46d4d13241",
   "metadata": {},
   "outputs": [],
   "source": [
    "lithium = Atom(3, 6.941, \"Li\", \"Lithium\")"
   ]
  },
  {
   "cell_type": "code",
   "execution_count": null,
   "id": "c1164592-360f-45dc-bd72-2033ba0f399b",
   "metadata": {},
   "outputs": [],
   "source": []
  },
  {
   "cell_type": "markdown",
   "id": "6f6eef44-49d6-4962-bd3f-88f6a8b5d1be",
   "metadata": {},
   "source": [
    "Copying from Sandbox 2:\n",
    "\n",
    "The code cell below is a little bit ahead of where we are in the Notebooks, in that it uses two of Python's most critical control statements: the while and the if statements. \n",
    "\n",
    "Both keywords while and if start statements that might go various ways. For example the `else` keyword is optional with both. `if` may also include any number of `elif` suites, as we test this and that condition. \n",
    "\n",
    "The idea of a loop is to repeatedly run through the same code steps, perhaps each time altering some of the variables. The idea of an if statement is to flow differently, top to bottom, depending on what's currently happening with various variables. `break` and `continue` also have a role to play when it comes to loops."
   ]
  },
  {
   "cell_type": "code",
   "execution_count": 42,
   "id": "06bb15a9-0f71-4a87-8237-9c09d6b75c78",
   "metadata": {},
   "outputs": [
    {
     "name": "stdout",
     "output_type": "stream",
     "text": [
      "['False', 'None', 'True', 'and', 'as']\n"
     ]
    }
   ],
   "source": [
    "\"\"\"\n",
    "looping version, self quiz.\n",
    "\"\"\"\n",
    "\n",
    "import keyword\n",
    "\n",
    "kws = keyword.kwlist[:5]\n",
    "\n",
    "# cheat sheet\n",
    "print(kws)  # comment out to not show the answers\n",
    "\n",
    "def silly_game():\n",
    "    \"\"\"\n",
    "    A while loop prompting a player to input a \n",
    "    keyword, which shortens the list until none\n",
    "    are left or the player escapes using Q.\n",
    "    \"\"\"\n",
    "    while len(kws) > 0:\n",
    "        answer = input(\"Give me a keyword please > \")\n",
    "        if answer.upper() == \"Q\":\n",
    "            break\n",
    "        if answer in kws:\n",
    "            print(\"Excellent, thank you\")\n",
    "            kws.remove(answer)\n",
    "            print(\"{} remaining\".format(len(kws)))\n",
    "        else:\n",
    "            print(\"I couldn't find that in my list.\")\n",
    "    else:\n",
    "        print(\"Wow, you got them all!\")\n",
    "    \n",
    "    print(\"Thanks for playing!\")\n"
   ]
  },
  {
   "cell_type": "code",
   "execution_count": 43,
   "id": "192ed421-3a6e-42aa-a203-9a0383614274",
   "metadata": {},
   "outputs": [
    {
     "name": "stdin",
     "output_type": "stream",
     "text": [
      "Give me a keyword please >  False\n"
     ]
    },
    {
     "name": "stdout",
     "output_type": "stream",
     "text": [
      "Excellent, thank you\n",
      "4 remaining\n"
     ]
    },
    {
     "name": "stdin",
     "output_type": "stream",
     "text": [
      "Give me a keyword please >  kirby\n"
     ]
    },
    {
     "name": "stdout",
     "output_type": "stream",
     "text": [
      "I couldn't find that in my list.\n"
     ]
    },
    {
     "name": "stdin",
     "output_type": "stream",
     "text": [
      "Give me a keyword please >  None\n"
     ]
    },
    {
     "name": "stdout",
     "output_type": "stream",
     "text": [
      "Excellent, thank you\n",
      "3 remaining\n"
     ]
    },
    {
     "name": "stdin",
     "output_type": "stream",
     "text": [
      "Give me a keyword please >  True\n"
     ]
    },
    {
     "name": "stdout",
     "output_type": "stream",
     "text": [
      "Excellent, thank you\n",
      "2 remaining\n"
     ]
    },
    {
     "name": "stdin",
     "output_type": "stream",
     "text": [
      "Give me a keyword please >  and\n"
     ]
    },
    {
     "name": "stdout",
     "output_type": "stream",
     "text": [
      "Excellent, thank you\n",
      "1 remaining\n"
     ]
    },
    {
     "name": "stdin",
     "output_type": "stream",
     "text": [
      "Give me a keyword please >  as\n"
     ]
    },
    {
     "name": "stdout",
     "output_type": "stream",
     "text": [
      "Excellent, thank you\n",
      "0 remaining\n",
      "Wow, you got them all!\n",
      "Thanks for playing!\n"
     ]
    }
   ],
   "source": [
    "silly_game()"
   ]
  },
  {
   "cell_type": "code",
   "execution_count": 40,
   "id": "afd193f7-219c-410c-acf5-0c8dbdca11ba",
   "metadata": {},
   "outputs": [],
   "source": [
    "L = [\"this\", \"is\", \"a\", \"list\"]\n",
    "x = \"list\"\n",
    "if x in L:\n",
    "    L.remove(\"list\")"
   ]
  },
  {
   "cell_type": "code",
   "execution_count": 41,
   "id": "a18b17eb-7794-4259-93b2-2d67c0ff019b",
   "metadata": {},
   "outputs": [
    {
     "data": {
      "text/plain": [
       "['this', 'is', 'a']"
      ]
     },
     "execution_count": 41,
     "metadata": {},
     "output_type": "execute_result"
    }
   ],
   "source": [
    "L"
   ]
  },
  {
   "cell_type": "code",
   "execution_count": 10,
   "id": "bf0f5b79-3600-4903-acc7-f61d9b5a5307",
   "metadata": {},
   "outputs": [
    {
     "name": "stdout",
     "output_type": "stream",
     "text": [
      "Looping...\n",
      "It's True!\n",
      "else suite\n"
     ]
    }
   ],
   "source": [
    "x = 1 # assignment outside the loop\n",
    "while x==1:\n",
    "    print(\"Looping...\")\n",
    "    print(\"It's True!\")\n",
    "    if x==2: \n",
    "        print(\"before break\")\n",
    "        break\n",
    "    x += 1\n",
    "else:\n",
    "    print(\"else suite\")"
   ]
  },
  {
   "cell_type": "code",
   "execution_count": 11,
   "id": "93031a72-fe38-40de-b044-32ead4ba1106",
   "metadata": {},
   "outputs": [],
   "source": [
    "my_list = [1, 2, 3, 4, 5, 6]"
   ]
  },
  {
   "cell_type": "code",
   "execution_count": 17,
   "id": "2b52480b-c702-4a22-a16a-fda10e74640c",
   "metadata": {},
   "outputs": [
    {
     "data": {
      "text/plain": [
       "[1, 2, 3, 4, 5, 6, 7, 8, 9, 10]"
      ]
     },
     "execution_count": 17,
     "metadata": {},
     "output_type": "execute_result"
    }
   ],
   "source": [
    "ci = list(range(1, 11))\n",
    "ci"
   ]
  },
  {
   "cell_type": "code",
   "execution_count": 18,
   "id": "8e16087a-501e-4644-afba-1f06db604bdb",
   "metadata": {},
   "outputs": [
    {
     "data": {
      "text/plain": [
       "[4, 5, 6, 7, 8]"
      ]
     },
     "execution_count": 18,
     "metadata": {},
     "output_type": "execute_result"
    }
   ],
   "source": [
    "ci[3:8]"
   ]
  },
  {
   "cell_type": "code",
   "execution_count": 22,
   "id": "ed327a76-056d-489b-9948-c4bc9f00f997",
   "metadata": {},
   "outputs": [
    {
     "data": {
      "text/plain": [
       "10"
      ]
     },
     "execution_count": 22,
     "metadata": {},
     "output_type": "execute_result"
    }
   ],
   "source": [
    "len(range(1, 11))"
   ]
  },
  {
   "cell_type": "code",
   "execution_count": 29,
   "id": "81d051fc-9615-4e81-8b9f-ccbad13d4f5b",
   "metadata": {},
   "outputs": [
    {
     "name": "stdout",
     "output_type": "stream",
     "text": [
      "t is the number\n",
      "h is the number\n",
      "i is the number\n",
      "s is the number\n",
      "  is the number\n",
      "i is the number\n",
      "s is the number\n",
      "  is the number\n",
      "j is the number\n",
      "u is the number\n",
      "s is the number\n",
      "t is the number\n",
      "  is the number\n",
      "a is the number\n",
      "n is the number\n",
      "  is the number\n",
      "o is the number\n",
      "r is the number\n",
      "d is the number\n",
      "i is the number\n",
      "n is the number\n",
      "a is the number\n",
      "r is the number\n",
      "y is the number\n",
      "  is the number\n",
      "s is the number\n",
      "t is the number\n",
      "r is the number\n",
      "i is the number\n",
      "n is the number\n",
      "g is the number\n"
     ]
    }
   ],
   "source": [
    "for name in \"this is just an ordinary string\":\n",
    "    print(\"{x} is the number\".format(x = name))"
   ]
  },
  {
   "cell_type": "code",
   "execution_count": 45,
   "id": "75e0c7e2-de20-471e-a9c1-16473e0bb358",
   "metadata": {},
   "outputs": [
    {
     "data": {
      "text/plain": [
       "[1, 3, 5, 7, 9]"
      ]
     },
     "execution_count": 45,
     "metadata": {},
     "output_type": "execute_result"
    }
   ],
   "source": [
    "ci[0:9:2]"
   ]
  },
  {
   "cell_type": "code",
   "execution_count": 51,
   "id": "6d7b0564-bbfe-4f30-9c1c-98d185764c21",
   "metadata": {},
   "outputs": [
    {
     "data": {
      "text/plain": [
       "[9, 8, 7, 6, 5, 4, 3, 2, 1, 0]"
      ]
     },
     "execution_count": 51,
     "metadata": {},
     "output_type": "execute_result"
    }
   ],
   "source": [
    "list(range(9, -1, -1))"
   ]
  },
  {
   "cell_type": "code",
   "execution_count": 52,
   "id": "5f92fa1c-8009-4523-a55a-7eb27ad7778a",
   "metadata": {},
   "outputs": [],
   "source": [
    "import numpy as np"
   ]
  },
  {
   "cell_type": "code",
   "execution_count": 53,
   "id": "5d05e7c6-9a14-43c3-a3f6-470ea6c1ba3d",
   "metadata": {},
   "outputs": [
    {
     "data": {
      "text/plain": [
       "3.141592653589793"
      ]
     },
     "execution_count": 53,
     "metadata": {},
     "output_type": "execute_result"
    }
   ],
   "source": [
    "np.pi"
   ]
  },
  {
   "cell_type": "code",
   "execution_count": 56,
   "id": "11166b5a-b5d3-418e-bba4-f13b9879bb69",
   "metadata": {},
   "outputs": [
    {
     "data": {
      "text/plain": [
       "array([0. , 0.5, 1. , 1.5, 2. , 2.5, 3. , 3.5, 4. , 4.5, 5. , 5.5, 6. ,\n",
       "       6.5, 7. , 7.5, 8. , 8.5, 9. ])"
      ]
     },
     "execution_count": 56,
     "metadata": {},
     "output_type": "execute_result"
    }
   ],
   "source": [
    "np.arange(0, 9.1, 0.5)"
   ]
  },
  {
   "cell_type": "code",
   "execution_count": 59,
   "id": "0bb813cb-0a06-4b76-aaa9-b3f10c784da6",
   "metadata": {},
   "outputs": [
    {
     "data": {
      "text/plain": [
       "array([0., 1., 2., 3., 4., 5., 6., 7., 8., 9.])"
      ]
     },
     "execution_count": 59,
     "metadata": {},
     "output_type": "execute_result"
    }
   ],
   "source": [
    "np.linspace(0, 9, 10)"
   ]
  },
  {
   "cell_type": "code",
   "execution_count": null,
   "id": "38034e53-0cc1-467b-9644-3c89726b1f8f",
   "metadata": {},
   "outputs": [],
   "source": []
  }
 ],
 "metadata": {
  "kernelspec": {
   "display_name": "Python 3 (ipykernel)",
   "language": "python",
   "name": "python3"
  },
  "language_info": {
   "codemirror_mode": {
    "name": "ipython",
    "version": 3
   },
   "file_extension": ".py",
   "mimetype": "text/x-python",
   "name": "python",
   "nbconvert_exporter": "python",
   "pygments_lexer": "ipython3",
   "version": "3.11.3"
  }
 },
 "nbformat": 4,
 "nbformat_minor": 5
}
