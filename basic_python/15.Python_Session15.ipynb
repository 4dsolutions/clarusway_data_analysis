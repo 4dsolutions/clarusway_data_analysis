{
 "cells": [
  {
   "cell_type": "markdown",
   "id": "7KS1qWSA5GT6",
   "metadata": {
    "id": "7KS1qWSA5GT6"
   },
   "source": [
    "#### Clarusway Python\n",
    "\n",
    "* [Instructor Landing Page](landing_page.ipynb)\n",
    "* <a href=\"https://colab.research.google.com/github/4dsolutions/clarusway_data_analysis/blob/main/basic_python/15.Python_Session15.ipynb\"><img align=\"left\" src=\"https://colab.research.google.com/assets/colab-badge.svg\" alt=\"Open in Colab\" title=\"Open and Execute in Google Colaboratory\"></a>\n",
    "* [![nbviewer](https://raw.githubusercontent.com/jupyter/design/master/logos/Badges/nbviewer_badge.svg)](https://nbviewer.org/github/4dsolutions/clarusway_data_analysis/blob/main/basic_python/15.Python_Session15.ipynb)"
   ]
  },
  {
   "cell_type": "markdown",
   "id": "97d2a08c",
   "metadata": {
    "id": "97d2a08c"
   },
   "source": [
    "<a id=\"toc\"></a>\n",
    "\n",
    "## <p style=\"background-color:#0D8D99; font-family:newtimeroman; color:#FFF9ED; font-size:175%; text-align:center; border-radius:10px 10px;\">Python Session 15</p>"
   ]
  },
  {
   "cell_type": "markdown",
   "id": "2a056995",
   "metadata": {
    "id": "2a056995"
   },
   "source": [
    "#### <div class=\"alert alert-block alert-info\"><h1><p style=\"text-align: center; color:purple\">Generator Comprehension<br><br>Defining a Function</p> "
   ]
  },
  {
   "cell_type": "markdown",
   "id": "40389c0c",
   "metadata": {
    "id": "40389c0c"
   },
   "source": [
    "<a id=\"toc\"></a>\n",
    "\n",
    "## <p style=\"background-color:#0D8D99; font-family:newtimeroman; color:#FFF9ED; font-size:175%; text-align:center; border-radius:10px 10px;\">Generator Comprehension</p>"
   ]
  },
  {
   "cell_type": "markdown",
   "id": "f409a181",
   "metadata": {
    "id": "f409a181"
   },
   "source": [
    "<hr>\n",
    "\n",
    "**Python official document - Generators-generator expressions : https://docs.python.org/3/tutorial/classes.html#generators**\n",
    "\n",
    "**Python official document - PEP 289 Generator Expressions : https://peps.python.org/pep-0289/**\n",
    "\n",
    "**How to Use Generators and yield in Python : https://realpython.com/introduction-to-python-generators/**\n",
    "\n",
    "**Generators & Comprehension Expressions: https://www.pythonlikeyoumeanit.com/Module2_EssentialsOfPython/Generators_and_Comprehensions.html**\n",
    "<hr>"
   ]
  },
  {
   "cell_type": "markdown",
   "id": "df97f8b6",
   "metadata": {
    "id": "df97f8b6"
   },
   "source": [
    "<hr>\n",
    "\n",
    "A generator is a special kind of iterator, which stores the instructions for how to generate each of its members, in order, along with its current state of iterations. It generates each member, one at a time, only as it is requested via iteration.\n",
    "\n",
    "Recall that a list readily stores all of its members; you can access any of its contents via indexing. A generator, on the other hand, does not store any items. Instead, it stores the instructions for generating each of its members, and stores its iteration state; this means that the generator will know if it has generated its second member, and will thus generate its third member the next time it is iterated on.\n",
    "\n",
    "The whole point of this is that you can use a generator to produce a long sequence of items, without having to store them all in memory.\n",
    "\n",
    "Because range is a generator, the command range(5) will simply store the instructions needed to produce the sequence of numbers 0-4, whereas the list [0, 1, 2, 3, 4] stores all of these items in memory at once. For short sequences, this seems to be a rather paltry savings; this is not the case for long sequences. \n",
    "\n",
    "A generator comprehension is a single-line specification for defining a generator in Python. It is absolutely essential to learn this syntax in order to write simple and readable code.\n",
    "\n",
    "<hr>"
   ]
  },
  {
   "cell_type": "code",
   "execution_count": null,
   "id": "8e94c1e9",
   "metadata": {
    "id": "8e94c1e9",
    "outputId": "cb3e3999-81bc-4269-f542-e6d013c3e570"
   },
   "outputs": [],
   "source": [
    "# list comprehension. (a visible object returned)\n",
    "\n",
    "[i ** 2 for i in range(6)]"
   ]
  },
  {
   "cell_type": "code",
   "execution_count": null,
   "id": "7f1c750b",
   "metadata": {
    "id": "7f1c750b",
    "outputId": "2a5cb5f6-dc49-47bc-aefe-395a6bf2db6e"
   },
   "outputs": [],
   "source": [
    "# create a tuple using tuple comprehension.\n",
    "\n",
    "(i ** 2 for i in range(6))\n",
    "\n",
    "# a \"lazy\" generator object created."
   ]
  },
  {
   "cell_type": "markdown",
   "id": "e753aefb",
   "metadata": {
    "id": "e753aefb"
   },
   "source": [
    "**list comprehension vs generator expression (comprehension)**\n",
    "\n",
    "- A list comprehension returns a list while a generator expression returns a generator object.\n",
    "\n",
    "- It means that a list comprehension returns a complete list of elements upfront. However, a generator expression returns a list of elements, one at a time, based on request.\n",
    "\n",
    "- A list comprehension is eager while a generator expression is lazy.\n",
    "\n",
    "- In other words, a list comprehension creates all elements right away and loads all of them into the memory.\n",
    "\n",
    "- Conversely, a generator expression creates a single element based on request. It loads only one single element to the memory.\n",
    "\n",
    "- A list comprehension returns an iterable. It means that you can iterate over the result of a list comprehension again and again.\n",
    "\n",
    "- However, a generator expression returns an iterator, specifically a lazy iterator. It becomes exhausting when you complete iterating over it."
   ]
  },
  {
   "cell_type": "code",
   "execution_count": null,
   "id": "175c6a92",
   "metadata": {
    "id": "175c6a92"
   },
   "outputs": [],
   "source": [
    "generator = (i ** 2 for i in range(6))"
   ]
  },
  {
   "cell_type": "markdown",
   "id": "1d1db71b",
   "metadata": {
    "id": "1d1db71b"
   },
   "source": [
    "**The 3 basic ways to make a lazy object visible are. What are they?**\n",
    "\n",
    "1. Converting it into a collection using functions such as list() and tuple().\n",
    "\n",
    "2. Using it inside a for loop.\n",
    "\n",
    "3. using the asterisk (*) operator in the print function."
   ]
  },
  {
   "cell_type": "code",
   "execution_count": null,
   "id": "475f26ef",
   "metadata": {
    "id": "475f26ef",
    "outputId": "b1bf7af8-0b6e-4822-8275-cd7ad7bf5408"
   },
   "outputs": [],
   "source": [
    "list(generator)"
   ]
  },
  {
   "cell_type": "markdown",
   "id": "91e42a2a",
   "metadata": {
    "id": "91e42a2a"
   },
   "source": [
    "**When we made the iterator object visible using these ways, the object was consumed, meaning that its elements were iterated over and printed out.**\n",
    "\n",
    "**Therefore, when we try to see the iterator again, it will be empty because all its elements have already been consumed and we need to create a new iterator object if we want to iterate over its elements again.**"
   ]
  },
  {
   "cell_type": "code",
   "execution_count": null,
   "id": "55d2e979",
   "metadata": {
    "id": "55d2e979",
    "outputId": "8aa0ec45-c346-4367-bbf5-88298a43613d"
   },
   "outputs": [],
   "source": [
    "list(generator)"
   ]
  },
  {
   "cell_type": "code",
   "execution_count": null,
   "id": "02270927",
   "metadata": {
    "id": "02270927",
    "outputId": "bacec777-f508-49db-81eb-e414f1814c13"
   },
   "outputs": [],
   "source": [
    "print(* generator)\n",
    "\n",
    "# return nothing, because we just used its elements."
   ]
  },
  {
   "cell_type": "code",
   "execution_count": null,
   "id": "69d497fa",
   "metadata": {
    "id": "69d497fa"
   },
   "outputs": [],
   "source": [
    "# let's generate again.\n",
    "\n",
    "generator = (i ** 2 for i in range(6))"
   ]
  },
  {
   "cell_type": "code",
   "execution_count": null,
   "id": "ecbbb502",
   "metadata": {
    "id": "ecbbb502",
    "outputId": "f003c4e3-2e45-4972-b31a-dea831e9d175"
   },
   "outputs": [],
   "source": [
    "for i in generator :\n",
    "    print(i)"
   ]
  },
  {
   "cell_type": "code",
   "execution_count": null,
   "id": "c1ce0b32",
   "metadata": {
    "id": "c1ce0b32"
   },
   "outputs": [],
   "source": [
    "generator = (i ** 2 for i in range(6))"
   ]
  },
  {
   "cell_type": "markdown",
   "id": "b8c7d5cd",
   "metadata": {
    "id": "b8c7d5cd"
   },
   "source": [
    "**There is a build-in function that runs in the background of the for loop that allows us to iterate the iterable.**\n",
    "\n",
    "**it's next() function.** \n",
    "\n",
    "https://docs.python.org/3/library/functions.html#next "
   ]
  },
  {
   "cell_type": "code",
   "execution_count": null,
   "id": "5b6fbaab",
   "metadata": {
    "id": "5b6fbaab",
    "outputId": "80a88cf3-4def-4d09-da51-59f507fba679"
   },
   "outputs": [],
   "source": [
    "generator"
   ]
  },
  {
   "cell_type": "code",
   "execution_count": null,
   "id": "84b9961d",
   "metadata": {
    "id": "84b9961d",
    "outputId": "0dc15b18-31f0-4af3-b0e7-31adfb58e159"
   },
   "outputs": [],
   "source": [
    "print(next(generator))  "
   ]
  },
  {
   "cell_type": "code",
   "execution_count": null,
   "id": "9621d8ee",
   "metadata": {
    "id": "9621d8ee",
    "outputId": "edaf0e1b-6294-4205-973f-c92ac5bc04f3"
   },
   "outputs": [],
   "source": [
    "print(next(generator))"
   ]
  },
  {
   "cell_type": "code",
   "execution_count": null,
   "id": "884f5524",
   "metadata": {
    "id": "884f5524",
    "outputId": "57fe2fd3-b95f-4462-d160-33eb40983c3b"
   },
   "outputs": [],
   "source": [
    "print(next(generator))"
   ]
  },
  {
   "cell_type": "code",
   "execution_count": null,
   "id": "317512be",
   "metadata": {
    "id": "317512be",
    "outputId": "8fe3bfea-cdbb-4cd9-f663-20b10c98586e"
   },
   "outputs": [],
   "source": [
    "print(next(generator))\n"
   ]
  },
  {
   "cell_type": "code",
   "execution_count": null,
   "id": "b759759a",
   "metadata": {
    "id": "b759759a",
    "outputId": "6db1fffc-803a-49f1-8af7-61e7e61bb979"
   },
   "outputs": [],
   "source": [
    "print(next(generator))\n"
   ]
  },
  {
   "cell_type": "code",
   "execution_count": null,
   "id": "31e2931d",
   "metadata": {
    "id": "31e2931d",
    "outputId": "b0d5e72c-d4ba-4911-8762-cd517cd781dd"
   },
   "outputs": [],
   "source": [
    "print(next(generator))"
   ]
  },
  {
   "cell_type": "code",
   "execution_count": null,
   "id": "6cf8f741",
   "metadata": {
    "id": "6cf8f741",
    "outputId": "316215e9-b082-4aed-a6f4-25f3f963b8e6"
   },
   "outputs": [],
   "source": [
    "print(next(generator))\n",
    "\n",
    "# error! (StopIteration!)"
   ]
  },
  {
   "cell_type": "markdown",
   "id": "f987f836",
   "metadata": {
    "id": "f987f836"
   },
   "source": [
    "**With the next() function, we have emptied the elements of the generate object one by one.**\n",
    "\n",
    "**Now if we try to see it with the print function, it will give an empty output:**"
   ]
  },
  {
   "cell_type": "code",
   "execution_count": null,
   "id": "c3e9348f",
   "metadata": {
    "id": "c3e9348f",
    "outputId": "0968d454-222e-446a-deac-7db027bf1cd3"
   },
   "outputs": [],
   "source": [
    "print(*generator)\n",
    "\n",
    "# Look! empty output."
   ]
  },
  {
   "cell_type": "markdown",
   "id": "1c791528",
   "metadata": {
    "id": "1c791528"
   },
   "source": [
    "## some other examples:"
   ]
  },
  {
   "cell_type": "code",
   "execution_count": null,
   "id": "c20fe72c",
   "metadata": {
    "id": "c20fe72c",
    "outputId": "f59f7718-8693-4147-8397-b2b7d67792cf"
   },
   "outputs": [],
   "source": [
    "generator2 = (i/2 for i in [0, 9, 21, 32])\n",
    "print(*generator2)"
   ]
  },
  {
   "cell_type": "code",
   "execution_count": null,
   "id": "cd77e362",
   "metadata": {
    "id": "cd77e362",
    "outputId": "e15c1703-af55-4993-d53b-d9d03e5fad9a"
   },
   "outputs": [],
   "source": [
    "generator3 = (i for i in range(100) if i%2 == 0)\n",
    "print(*generator3)"
   ]
  },
  {
   "cell_type": "markdown",
   "id": "8b75c40c",
   "metadata": {
    "id": "8b75c40c"
   },
   "source": [
    "**\"expression\" can be any valid single-line of Python code that returns an object:**"
   ]
  },
  {
   "cell_type": "code",
   "execution_count": null,
   "id": "7166b86f",
   "metadata": {
    "id": "7166b86f",
    "outputId": "2c6f3aef-43e3-43b0-9cd4-6c348c9ba7c7"
   },
   "outputs": [],
   "source": [
    "((i, i**2, i**3) for i in range(10))"
   ]
  },
  {
   "cell_type": "code",
   "execution_count": null,
   "id": "793a3c41",
   "metadata": {
    "id": "793a3c41",
    "outputId": "8ce92230-8fb6-4c98-a52d-fbce5ad6af39"
   },
   "outputs": [],
   "source": [
    "print(*((i, i**2, i**3) for i in range(10)))"
   ]
  },
  {
   "cell_type": "markdown",
   "id": "beb1dff4",
   "metadata": {
    "id": "beb1dff4"
   },
   "source": [
    "**This means that \"expression\" can even involve inline if-else statements:**"
   ]
  },
  {
   "cell_type": "code",
   "execution_count": null,
   "id": "196a2325",
   "metadata": {
    "id": "196a2325",
    "outputId": "81723274-57e4-4a86-f6e2-d5a7911b14ab"
   },
   "outputs": [],
   "source": [
    "generator5 = ((\"apple\" if i < 3 else \"pie\") for i in range(6))\n",
    "\n",
    "print(*generator5)"
   ]
  },
  {
   "cell_type": "code",
   "execution_count": null,
   "id": "89552cf4",
   "metadata": {
    "id": "89552cf4",
    "outputId": "43c070d6-4955-4e78-b2c1-27d61682abf9"
   },
   "outputs": [],
   "source": [
    "generator4 = (i/2 for i in [0, 9, 21, 32])\n",
    "generator4"
   ]
  },
  {
   "cell_type": "code",
   "execution_count": null,
   "id": "0f00c9b1",
   "metadata": {
    "id": "0f00c9b1",
    "outputId": "bc5d4277-06dd-4654-9b98-fe14ac18fa81",
    "scrolled": true
   },
   "outputs": [],
   "source": [
    "for item in generator4:\n",
    "    print(item)"
   ]
  },
  {
   "cell_type": "markdown",
   "id": "7ef22f13",
   "metadata": {
    "id": "7ef22f13"
   },
   "source": [
    "<a id=\"toc\"></a>\n",
    "\n",
    "## <p style=\"background-color:#0D8D99; font-family:newtimeroman; color:#FFF9ED; font-size:175%; text-align:center; border-radius:10px 10px;\">FUNCTIONS</p>"
   ]
  },
  {
   "cell_type": "markdown",
   "id": "e8e21da2",
   "metadata": {
    "id": "e8e21da2"
   },
   "source": [
    "<hr>\n",
    "\n",
    "**Python official documentation 1 - Functions: https://docs.python.org/3/library/stdtypes.html#functions**\n",
    "\n",
    "**Python official documentation 2 - Function Definition: https://docs.python.org/3/reference/compound_stmts.html#function**\n",
    "\n",
    "**Python official documentation 3 - Build-in Functions: https://docs.python.org/3/library/functions.html**\n",
    "\n",
    "**Python Functions: https://www.w3schools.com/python/python_functions.asp**\n",
    "\n",
    "**Python Functions: https://www.programiz.com/python-programming/function**\n",
    "\n",
    "**Python Functions: https://www.geeksforgeeks.org/python-functions/**\n",
    "<hr>"
   ]
  },
  {
   "cell_type": "markdown",
   "id": "495fcf8d",
   "metadata": {
    "id": "495fcf8d"
   },
   "source": [
    "<a id=\"toc\"></a>\n",
    "\n",
    "## <p style=\"background-color:#9d4f8c; font-family:newtimeroman; color:#FFF9ED; font-size:175%; text-align:center; border-radius:10px 10px;\">Defining a Function</p>"
   ]
  },
  {
   "cell_type": "code",
   "execution_count": null,
   "id": "81b3b78a",
   "metadata": {
    "id": "81b3b78a"
   },
   "outputs": [],
   "source": [
    "def first_func(x, y) :\n",
    "    print(x ** 2 + y ** 2)"
   ]
  },
  {
   "cell_type": "code",
   "execution_count": null,
   "id": "fe6ee5da",
   "metadata": {
    "id": "fe6ee5da",
    "outputId": "594f017f-24ff-4345-8070-2fc5d4afd38a"
   },
   "outputs": [],
   "source": [
    "first_func(3, 4)"
   ]
  },
  {
   "cell_type": "code",
   "execution_count": null,
   "id": "7579269e",
   "metadata": {
    "id": "7579269e"
   },
   "outputs": [],
   "source": [
    "def hipotenus(a, b) :\n",
    "    print((a ** 2 + b ** 2) ** 0.5)"
   ]
  },
  {
   "cell_type": "code",
   "execution_count": null,
   "id": "06fe2bfc",
   "metadata": {
    "id": "06fe2bfc",
    "outputId": "a94f3c90-8a15-44f8-fdd6-f82bcb50817d"
   },
   "outputs": [],
   "source": [
    "hipotenus(3, 4)"
   ]
  },
  {
   "cell_type": "code",
   "execution_count": null,
   "id": "985e461e",
   "metadata": {
    "id": "985e461e"
   },
   "outputs": [],
   "source": [
    "def calculator(x, y, opr) :\n",
    "    if opr == \"+\" :\n",
    "        print(x + y)\n",
    "        \n",
    "    elif opr == \"-\" :\n",
    "        print(x - y)\n",
    "        \n",
    "    elif opr == \"*\":\n",
    "        print(x * y)\n",
    "    \n",
    "    elif opr == \"/\" :\n",
    "        print(x / y)\n",
    "        \n",
    "    else :\n",
    "        print(\"Enter a valid operator\")"
   ]
  },
  {
   "cell_type": "code",
   "execution_count": null,
   "id": "68362c58",
   "metadata": {
    "id": "68362c58",
    "outputId": "1badaf2c-4e97-4fcf-9d5d-03718951cd1e"
   },
   "outputs": [],
   "source": [
    "calculator(22, 11, \"/\")"
   ]
  },
  {
   "cell_type": "code",
   "execution_count": null,
   "id": "c36adf66",
   "metadata": {
    "id": "c36adf66",
    "outputId": "86336245-0fdc-413a-b8fe-2c76f292be58"
   },
   "outputs": [],
   "source": [
    "calculator(10, 5, \":\")"
   ]
  },
  {
   "cell_type": "code",
   "execution_count": null,
   "id": "293698d2",
   "metadata": {
    "id": "293698d2",
    "outputId": "0713e6cc-7f68-46b4-f46d-ccf47ef15aef"
   },
   "outputs": [],
   "source": [
    "21 + 8"
   ]
  },
  {
   "cell_type": "code",
   "execution_count": null,
   "id": "e4c85e8d",
   "metadata": {
    "id": "e4c85e8d",
    "outputId": "e04deca2-6759-49d3-e06d-b5ac4fff2c9d"
   },
   "outputs": [],
   "source": [
    "print(21 + 8)"
   ]
  },
  {
   "cell_type": "code",
   "execution_count": null,
   "id": "59beeabc",
   "metadata": {
    "id": "59beeabc",
    "outputId": "a8f8b566-13de-485a-8bf7-0ecf01fe951b"
   },
   "outputs": [],
   "source": [
    "\"python\""
   ]
  },
  {
   "cell_type": "code",
   "execution_count": null,
   "id": "9bef8cf0",
   "metadata": {
    "id": "9bef8cf0",
    "outputId": "e5ccdd92-fa6a-4254-cf95-6450c991bc99"
   },
   "outputs": [],
   "source": [
    "print(\"python\")"
   ]
  },
  {
   "cell_type": "code",
   "execution_count": null,
   "id": "2fc98faf",
   "metadata": {
    "id": "2fc98faf",
    "outputId": "388a7861-0047-41a2-cf18-6c94387875c9"
   },
   "outputs": [],
   "source": [
    "\"python\"\n",
    "\"is the best programming language\""
   ]
  },
  {
   "cell_type": "code",
   "execution_count": null,
   "id": "5dd302ef",
   "metadata": {
    "id": "5dd302ef"
   },
   "outputs": [],
   "source": [
    "def add(num1, num2):\n",
    "    return num1 + num2"
   ]
  },
  {
   "cell_type": "code",
   "execution_count": null,
   "id": "22ecba5a",
   "metadata": {
    "id": "22ecba5a",
    "outputId": "fde59b14-2b39-465c-c5c0-950e331c6d48"
   },
   "outputs": [],
   "source": [
    "print(add(21, 8))"
   ]
  },
  {
   "cell_type": "code",
   "execution_count": null,
   "id": "da6a38ae",
   "metadata": {
    "id": "da6a38ae",
    "outputId": "c1c7b7df-59e8-4a74-d4b8-f1837493c79a"
   },
   "outputs": [],
   "source": [
    "add(21, 8) * 2"
   ]
  },
  {
   "cell_type": "code",
   "execution_count": null,
   "id": "a917be80",
   "metadata": {
    "id": "a917be80"
   },
   "outputs": [],
   "source": [
    "mylist = []\n",
    "\n",
    "for i in range(5) :\n",
    "    mylist.append(i + add(21, 8))"
   ]
  },
  {
   "cell_type": "code",
   "execution_count": null,
   "id": "a42b11f2",
   "metadata": {
    "id": "a42b11f2",
    "outputId": "c504553a-0e80-4eae-cb8c-6d642610161e"
   },
   "outputs": [],
   "source": [
    "mylist"
   ]
  },
  {
   "cell_type": "code",
   "execution_count": null,
   "id": "c068f189",
   "metadata": {
    "id": "c068f189",
    "outputId": "51f00cdf-a459-4aaf-ee54-d41ff7f2b090"
   },
   "outputs": [],
   "source": [
    "a = print(4 + 5)"
   ]
  },
  {
   "cell_type": "code",
   "execution_count": null,
   "id": "7ce21ad1",
   "metadata": {
    "id": "7ce21ad1",
    "outputId": "3a2548ac-7ac7-4115-cfbf-c734dd778560"
   },
   "outputs": [],
   "source": [
    "type(a)"
   ]
  },
  {
   "cell_type": "code",
   "execution_count": null,
   "id": "34697a41",
   "metadata": {
    "id": "34697a41",
    "outputId": "a01c13b9-fa4d-432f-d68a-46de786da228"
   },
   "outputs": [],
   "source": [
    "a * 3\n",
    "\n",
    "# error! (unsupported operand type(s) for *: 'NoneType' and 'int')\n",
    "# because print(4 + 5) has no type."
   ]
  },
  {
   "cell_type": "code",
   "execution_count": null,
   "id": "968476ac",
   "metadata": {
    "id": "968476ac"
   },
   "outputs": [],
   "source": [
    "def add2(s1, s2):\n",
    "    print(s1 + s2)"
   ]
  },
  {
   "cell_type": "code",
   "execution_count": null,
   "id": "8e0c0860",
   "metadata": {
    "id": "8e0c0860",
    "outputId": "de6f1b69-d9ef-44d5-ac55-39f3dd850898"
   },
   "outputs": [],
   "source": [
    "mylist2 = []\n",
    "for i in range(5):\n",
    "    mylist2.append(i + add2(21, 8))\n",
    "    \n",
    "# error! ()\n",
    "# I used the print() function in the add2 function. \n",
    "# Since the print() function does not return a value, I cannot use add2 function in the code body of the for loop."
   ]
  },
  {
   "cell_type": "code",
   "execution_count": null,
   "id": "fcc2129f",
   "metadata": {
    "id": "fcc2129f"
   },
   "outputs": [],
   "source": [
    "def sum_xy(x, y) :\n",
    "    return x + y\n"
   ]
  },
  {
   "cell_type": "code",
   "execution_count": null,
   "id": "130c7681",
   "metadata": {
    "id": "130c7681",
    "outputId": "8ee07a68-11cd-42e2-a670-cae62b540207"
   },
   "outputs": [],
   "source": [
    "type(sum_xy(4, 5))"
   ]
  },
  {
   "cell_type": "code",
   "execution_count": null,
   "id": "2b978f4c",
   "metadata": {
    "id": "2b978f4c",
    "outputId": "49261f89-fd53-4990-cf99-661652313d80"
   },
   "outputs": [],
   "source": [
    "sum_xy(4,5)"
   ]
  },
  {
   "cell_type": "code",
   "execution_count": null,
   "id": "59853222",
   "metadata": {
    "id": "59853222"
   },
   "outputs": [],
   "source": [
    "def string() :\n",
    "    return \"allykirbybetty\""
   ]
  },
  {
   "cell_type": "code",
   "execution_count": null,
   "id": "0def24e2",
   "metadata": {
    "id": "0def24e2",
    "outputId": "52dc4c5c-17d8-433d-81a6-32012921270c"
   },
   "outputs": [],
   "source": [
    "string()"
   ]
  },
  {
   "cell_type": "code",
   "execution_count": null,
   "id": "3f8c86c1",
   "metadata": {
    "id": "3f8c86c1",
    "outputId": "5bca649d-7093-4643-f939-fefacee8efa6"
   },
   "outputs": [],
   "source": [
    "\"allykirbybetty\""
   ]
  },
  {
   "cell_type": "code",
   "execution_count": null,
   "id": "8784f673",
   "metadata": {
    "id": "8784f673",
    "outputId": "d3a9a11a-42f0-49a8-82e3-e93c6beee4e7"
   },
   "outputs": [],
   "source": [
    "type(string())\n",
    "\n",
    "# The value returned by the string function is a str"
   ]
  },
  {
   "cell_type": "code",
   "execution_count": null,
   "id": "cbca7c29",
   "metadata": {
    "id": "cbca7c29",
    "outputId": "e24be038-88bc-46c4-eab3-8d0b1fd89a98"
   },
   "outputs": [],
   "source": [
    "for i in string() :  # passed the string function as iterator.\n",
    "    print(i)"
   ]
  },
  {
   "cell_type": "code",
   "execution_count": null,
   "id": "acf01afd",
   "metadata": {
    "id": "acf01afd",
    "outputId": "a67945a1-c1e0-49a6-98eb-78112de96f82"
   },
   "outputs": [],
   "source": [
    "print(* string())"
   ]
  },
  {
   "cell_type": "code",
   "execution_count": null,
   "id": "f7e9bd2f",
   "metadata": {
    "id": "f7e9bd2f",
    "outputId": "dbcedcdc-21fe-4369-afff-dedbc036509e"
   },
   "outputs": [],
   "source": [
    "print(* \"allykirbybetty\")"
   ]
  },
  {
   "cell_type": "code",
   "execution_count": null,
   "id": "fdbd738b",
   "metadata": {
    "id": "fdbd738b"
   },
   "outputs": [],
   "source": [
    "def integer() :\n",
    "    return 22"
   ]
  },
  {
   "cell_type": "code",
   "execution_count": null,
   "id": "45738b84",
   "metadata": {
    "id": "45738b84",
    "outputId": "ddaed1d2-6460-4bd6-f4c7-43a30f9b0964"
   },
   "outputs": [],
   "source": [
    "integer()"
   ]
  },
  {
   "cell_type": "code",
   "execution_count": null,
   "id": "6e2d8cc3",
   "metadata": {
    "id": "6e2d8cc3",
    "outputId": "86892b7e-04e7-47cd-b999-8c7872e3219e"
   },
   "outputs": [],
   "source": [
    "type(integer())"
   ]
  },
  {
   "cell_type": "code",
   "execution_count": null,
   "id": "14a77698",
   "metadata": {
    "id": "14a77698"
   },
   "outputs": [],
   "source": [
    "del integer"
   ]
  },
  {
   "cell_type": "code",
   "execution_count": null,
   "id": "5378dd52",
   "metadata": {
    "id": "5378dd52",
    "outputId": "e8b710b4-0b87-4616-99ee-3e4c106b968b"
   },
   "outputs": [],
   "source": [
    "integer()\n",
    "\n",
    "# error! (name 'integer' is not defined)"
   ]
  },
  {
   "cell_type": "code",
   "execution_count": null,
   "id": "8dbc3e8b",
   "metadata": {
    "id": "8dbc3e8b"
   },
   "outputs": [],
   "source": [
    "def boolean() :  \n",
    "    return True"
   ]
  },
  {
   "cell_type": "code",
   "execution_count": null,
   "id": "5175c565",
   "metadata": {
    "id": "5175c565",
    "outputId": "56b46994-bebf-4791-85a3-b7e29af43798"
   },
   "outputs": [],
   "source": [
    "if boolean() :\n",
    "    print(\"I'm happy because I understand functions very well.\") "
   ]
  },
  {
   "cell_type": "code",
   "execution_count": null,
   "id": "c17ee517",
   "metadata": {
    "id": "c17ee517"
   },
   "outputs": [],
   "source": [
    "def mylist() :\n",
    "    return [1, 2, 3, 4]"
   ]
  },
  {
   "cell_type": "code",
   "execution_count": null,
   "id": "2c07e3c1",
   "metadata": {
    "id": "2c07e3c1",
    "outputId": "139b63d5-92d3-48fc-97c1-c454660ccf30"
   },
   "outputs": [],
   "source": [
    "mylist\n",
    "\n",
    "# without brackets!!"
   ]
  },
  {
   "cell_type": "code",
   "execution_count": null,
   "id": "5fc0ca9f",
   "metadata": {
    "id": "5fc0ca9f",
    "outputId": "dec8e890-342b-4621-970b-28ad0ce4144e"
   },
   "outputs": [],
   "source": [
    "mylist()"
   ]
  },
  {
   "cell_type": "code",
   "execution_count": null,
   "id": "07b1524f",
   "metadata": {
    "id": "07b1524f",
    "outputId": "16ff299e-fcbc-4b65-e164-8c097a76528e"
   },
   "outputs": [],
   "source": [
    "for i in mylist() :\n",
    "    print(i)"
   ]
  },
  {
   "cell_type": "code",
   "execution_count": null,
   "id": "3660d507",
   "metadata": {
    "id": "3660d507",
    "outputId": "19640806-c992-45fa-9734-bf6923c6fd1c"
   },
   "outputs": [],
   "source": [
    "tuple(mylist())"
   ]
  },
  {
   "cell_type": "code",
   "execution_count": null,
   "id": "c89299e2",
   "metadata": {
    "id": "c89299e2",
    "outputId": "18a995a6-d7d5-4b31-bb22-d5e94dfe7173"
   },
   "outputs": [],
   "source": [
    "mylist()[2]"
   ]
  },
  {
   "cell_type": "code",
   "execution_count": null,
   "id": "b3727ce3",
   "metadata": {
    "id": "b3727ce3"
   },
   "outputs": [],
   "source": [
    "x = boolean()"
   ]
  },
  {
   "cell_type": "code",
   "execution_count": null,
   "id": "76f48cef",
   "metadata": {
    "id": "76f48cef",
    "outputId": "52c8f056-a560-4fd5-eb90-7290e9e5b9c2"
   },
   "outputs": [],
   "source": [
    "x"
   ]
  },
  {
   "cell_type": "code",
   "execution_count": null,
   "id": "beca0d08",
   "metadata": {
    "id": "beca0d08"
   },
   "outputs": [],
   "source": [
    "y = mylist()"
   ]
  },
  {
   "cell_type": "code",
   "execution_count": null,
   "id": "db9dd0b9",
   "metadata": {
    "id": "db9dd0b9",
    "outputId": "13745f4b-46e0-4f80-f0c4-26556b2eac70"
   },
   "outputs": [],
   "source": [
    "y"
   ]
  },
  {
   "cell_type": "markdown",
   "id": "0974e6f8",
   "metadata": {
    "id": "0974e6f8"
   },
   "source": [
    "### Task :\n",
    "**Define a function named calculator to calculate four math operations with two numbers and return the result.**\n"
   ]
  },
  {
   "cell_type": "code",
   "execution_count": null,
   "id": "338442ce",
   "metadata": {
    "id": "338442ce"
   },
   "outputs": [],
   "source": [
    "def calculator(x, y, opr) :\n",
    "    if opr == \"+\" :  \n",
    "        print(x + y)\n",
    "    elif opr == \"-\" : \n",
    "        print(x - y)\n",
    "    elif opr == \"*\" : \n",
    "        print(x * y)\n",
    "    elif opr == \"/\" : \n",
    "        print(x / y)\n",
    "    else :    \n",
    "        print(\"Enter a valid operator\")"
   ]
  },
  {
   "cell_type": "code",
   "execution_count": null,
   "id": "46aec5e5",
   "metadata": {
    "id": "46aec5e5"
   },
   "outputs": [],
   "source": [
    "def calculator(x, y, opr) :\n",
    "    if opr == \"+\" :  \n",
    "        return(x + y)\n",
    "    elif opr == \"-\" : \n",
    "        return(x - y)\n",
    "    elif opr == \"*\" : \n",
    "        return (x * y)\n",
    "    elif opr == \"/\" :  \n",
    "        return (x / y)\n",
    "    else :    \n",
    "        return \"Enter a valid operator\""
   ]
  },
  {
   "cell_type": "code",
   "execution_count": null,
   "id": "a2c77871",
   "metadata": {
    "id": "a2c77871"
   },
   "outputs": [],
   "source": [
    "returned = calculator(3, 5, \"+\")\n",
    "\n",
    "# The calculator() function returned an integer value."
   ]
  },
  {
   "cell_type": "code",
   "execution_count": null,
   "id": "118c0088",
   "metadata": {
    "id": "118c0088",
    "outputId": "b1aaeb7b-bdaa-4707-857b-e5d18b07cd88"
   },
   "outputs": [],
   "source": [
    "print(returned)"
   ]
  },
  {
   "cell_type": "code",
   "execution_count": null,
   "id": "6ad1a682",
   "metadata": {
    "id": "6ad1a682",
    "outputId": "fa0401e4-5dce-46dd-beeb-76a11d1cb7e8"
   },
   "outputs": [],
   "source": [
    "print(calculator(3, 5, \"+\"))"
   ]
  },
  {
   "cell_type": "markdown",
   "id": "4f02b6b3",
   "metadata": {
    "id": "4f02b6b3"
   },
   "source": [
    "## Task :\n",
    "**Define a function named absolute_value to calculate and return absolute value of the entered number.\n",
    "You can add docstring for an explanation.**\n"
   ]
  },
  {
   "cell_type": "code",
   "execution_count": null,
   "id": "d7ef578a",
   "metadata": {
    "id": "d7ef578a",
    "outputId": "0822b0c3-2f92-4d98-8218-3ed32f0a3259"
   },
   "outputs": [],
   "source": [
    "a = -22\n",
    "\n",
    "-a"
   ]
  },
  {
   "cell_type": "code",
   "execution_count": null,
   "id": "17564ea8",
   "metadata": {
    "id": "17564ea8"
   },
   "outputs": [],
   "source": [
    "def absolute_value(num) : \n",
    "    \"\"\"This function returns the absolute\n",
    "value of the given number\"\"\"\n",
    "    if num >= 0 : \n",
    "        return num \n",
    "    \n",
    "    else :  \n",
    "        return -num "
   ]
  },
  {
   "cell_type": "code",
   "execution_count": null,
   "id": "8f8ba44d",
   "metadata": {
    "id": "8f8ba44d",
    "outputId": "acdf6bb7-dfdd-407c-9ff8-192514c3505e"
   },
   "outputs": [],
   "source": [
    "absolute_value(-22)"
   ]
  },
  {
   "cell_type": "code",
   "execution_count": null,
   "id": "0a3d9703",
   "metadata": {
    "id": "0a3d9703",
    "outputId": "d61aa4c5-bc66-444f-849e-ebfff51fbf64"
   },
   "outputs": [],
   "source": [
    "print(absolute_value.__doc__)"
   ]
  },
  {
   "cell_type": "code",
   "execution_count": null,
   "id": "3e795dc5",
   "metadata": {
    "id": "3e795dc5",
    "outputId": "a6a21998-fb4f-4e2c-9add-49855411751e"
   },
   "outputs": [],
   "source": [
    "print(abs.__doc__)"
   ]
  }
 ],
 "metadata": {
  "colab": {
   "provenance": []
  },
  "kernelspec": {
   "display_name": "Python 3 (ipykernel)",
   "language": "python",
   "name": "python3"
  },
  "language_info": {
   "codemirror_mode": {
    "name": "ipython",
    "version": 3
   },
   "file_extension": ".py",
   "mimetype": "text/x-python",
   "name": "python",
   "nbconvert_exporter": "python",
   "pygments_lexer": "ipython3",
   "version": "3.11.3"
  }
 },
 "nbformat": 4,
 "nbformat_minor": 5
}
