{
 "cells": [
  {
   "cell_type": "markdown",
   "id": "LhArx-UBCNXv",
   "metadata": {
    "id": "LhArx-UBCNXv"
   },
   "source": [
    "#### Clarusway Python\n",
    "\n",
    "* [Instructor Landing Page](landing_page.ipynb)\n",
    "* <a href=\"https://colab.research.google.com/github/4dsolutions/clarusway_data_analysis/blob/main/basic_python/04.session04.ipynb\"><img align=\"left\" src=\"https://colab.research.google.com/assets/colab-badge.svg\" alt=\"Open in Colab\" title=\"Open and Execute in Google Colaboratory\"></a>\n",
    "* [![nbviewer](https://raw.githubusercontent.com/jupyter/design/master/logos/Badges/nbviewer_badge.svg)](https://nbviewer.org/github/4dsolutions/clarusway_data_analysis/blob/main/basic_python/04.session04.ipynb)"
   ]
  },
  {
   "cell_type": "markdown",
   "id": "97d2a08c",
   "metadata": {
    "id": "97d2a08c"
   },
   "source": [
    "<a id=\"toc\"></a>\n",
    "\n",
    "## <p style=\"background-color:#0D8D99; font-family:newtimeroman; color:#FFF9ED; font-size:175%; text-align:center; border-radius:10px 10px;\">Python Session 04</p>"
   ]
  },
  {
   "cell_type": "markdown",
   "id": "d20d1b3e",
   "metadata": {
    "id": "d20d1b3e"
   },
   "source": [
    "#### <div class=\"alert alert-block alert-info\"><h1><p style=\"text-align: center; color:purple\">Review of  Boolean Expressions with Analogy<br><br>The Strength of the String<br><br>Indexing&Slicing Strings<br><br>String Formatting with Arithmetic Syntax<br><br>String Formatting with string.format() Method</p>"
   ]
  },
  {
   "cell_type": "markdown",
   "id": "f330fdf3",
   "metadata": {
    "id": "f330fdf3"
   },
   "source": [
    "![python.exe](https://drive.google.com/uc?id=1JLOW6_FKRcRLcdusAs6kf1sqbKei2zGu)"
   ]
  },
  {
   "cell_type": "markdown",
   "id": "a7d7cb0c",
   "metadata": {
    "id": "a7d7cb0c"
   },
   "source": [
    "<a id=\"toc\"></a>\n",
    "\n",
    "## <p style=\"background-color:#9d4f8c; font-family:newtimeroman; color:#FFF9ED; font-size:175%; text-align:center; border-radius:10px 10px;\">Review of Boolean Expressions with Analogy</p>"
   ]
  },
  {
   "cell_type": "markdown",
   "id": "52bfa444",
   "metadata": {
    "id": "52bfa444"
   },
   "source": [
    "**Python documentation link - Boolean Objects: https://docs.python.org/3/c-api/bool.html**\n",
    "\n",
    "**Python documentation link - Boolean Operations: https://docs.python.org/3/library/stdtypes.html#boolean-operations-and-or-not**\n",
    "\n",
    "**Link 3: https://www.w3schools.com/python/python_booleans.asp**\n",
    "\n",
    "**Link 4: https://realpython.com/python-boolean/**"
   ]
  },
  {
   "cell_type": "raw",
   "id": "41e95944",
   "metadata": {
    "id": "41e95944"
   },
   "source": [
    "- Kadayif \n",
    "\n",
    "- Stuffing ;\n",
    "    - Walnut\n",
    "    - Hazelnut\n",
    "    - Peanut\n",
    "\n",
    "- Syrup\n",
    "    Water,\n",
    "    Sugar\n",
    "    \n",
    "- Egg\n"
   ]
  },
  {
   "cell_type": "code",
   "execution_count": null,
   "id": "afb72784",
   "metadata": {
    "id": "afb72784"
   },
   "outputs": [],
   "source": [
    "kadayif = True # --> indispensable\n",
    "\n",
    "# stuffing  --> indispensable\n",
    "walnut = True\n",
    "hazelnut = True\n",
    "peanut = True\n",
    "\n",
    "# syrup  -- > indispensable\n",
    "water = True\n",
    "sugar = True\n",
    "     \n",
    "egg = True  # --> indispensable\n",
    "\n",
    "# drinks\n",
    "milk = True\n",
    "tea = False\n",
    "beverage = True \n",
    "ayran = False\n",
    "lemonade = True"
   ]
  },
  {
   "cell_type": "code",
   "execution_count": null,
   "id": "7f925961",
   "metadata": {
    "id": "7f925961",
    "outputId": "6dba8bdc-6cef-422f-d342-714844970804"
   },
   "outputs": [],
   "source": [
    "bon_appetit = kadayif and (water and sugar) and (walnut or hazelnut or peanut) and egg\\\n",
    "and (milk or tea or beverage or ayran or lemonade)\n",
    "\n",
    "print(bon_appetit)"
   ]
  },
  {
   "cell_type": "code",
   "execution_count": null,
   "id": "abcb214d",
   "metadata": {
    "id": "abcb214d",
    "outputId": "7fdbb71a-6ff2-4f00-cc6c-24d5ccc7a5bb"
   },
   "outputs": [],
   "source": [
    "result = kadayif and (water and sugar) and (walnut or hazelnut or peanut) and egg\\\n",
    "and (milk or tea or beverage or ayran or lemonade)\n",
    "\n",
    "print(\"bon appetit\" * result)  # if result returned True, print function prints \"bon_appetit\" * 1. \n",
    "# So we see the text \"bon appetit\"\n",
    "print(\"Something is missing in the recipe\" * (not result)) \n",
    "\n",
    "# if result returned False, print func. prints \"something ...\" * not 0 (it means 1).  \n",
    "# so we see the text \"Someting is missing...\""
   ]
  },
  {
   "cell_type": "markdown",
   "id": "59607ecb",
   "metadata": {
    "id": "59607ecb"
   },
   "source": [
    "<a id=\"toc\"></a>\n",
    "\n",
    "# <p style=\"background-color:#9d4f8c; font-family:newtimeroman; color:#FFF9ED; font-size:175%; text-align:center; border-radius:10px 10px;\">The Strength of the String</p>"
   ]
  },
  {
   "cell_type": "markdown",
   "id": "7e4f5feb",
   "metadata": {
    "id": "7e4f5feb"
   },
   "source": [
    "<a id=\"toc\"></a>\n",
    "\n",
    "## <p style=\"background-color:#9d4f8c; font-family:newtimeroman; color:#FFF9ED; font-size:175%; text-align:center; border-radius:10px 10px;\">Indexing&Slicing Strings</p>"
   ]
  },
  {
   "cell_type": "markdown",
   "id": "11d462a2",
   "metadata": {
    "id": "11d462a2"
   },
   "source": [
    "**Link 1 - How to index and slice strings: https://www.digitalocean.com/community/tutorials/how-to-index-and-slice-strings-in-python-3**\n",
    "\n",
    "**Link 2 - How to index and slice strings: https://www.geeksforgeeks.org/how-to-index-and-slice-strings-in-python/**\n",
    "\n",
    "**Link 3 - Index() method : https://www.w3schools.com/python/ref_string_index.asp**"
   ]
  },
  {
   "cell_type": "markdown",
   "id": "94822c9b",
   "metadata": {
    "id": "94822c9b"
   },
   "source": [
    "![python.exe](https://drive.google.com/uc?id=1m1yAePD8P_en_xj7WZRU5fJBh7kJA-sG)"
   ]
  },
  {
   "cell_type": "code",
   "execution_count": null,
   "id": "35d98170",
   "metadata": {
    "id": "35d98170"
   },
   "outputs": [],
   "source": [
    "string_characters=\"&% , ally betty, kirby - 1234\""
   ]
  },
  {
   "cell_type": "code",
   "execution_count": null,
   "id": "6717a7ad",
   "metadata": {
    "id": "6717a7ad",
    "outputId": "e8636ce8-215c-4dea-ee61-02acee069b8c"
   },
   "outputs": [],
   "source": [
    "string_characters"
   ]
  },
  {
   "cell_type": "markdown",
   "id": "0f2f37f7",
   "metadata": {
    "id": "0f2f37f7"
   },
   "source": [
    "## indexing"
   ]
  },
  {
   "cell_type": "code",
   "execution_count": null,
   "id": "45840999",
   "metadata": {
    "id": "45840999",
    "outputId": "bed4c93b-fd58-4e11-bcde-2a7d000650c1"
   },
   "outputs": [],
   "source": [
    "string_characters[0]  # I returned the element at index 0."
   ]
  },
  {
   "cell_type": "code",
   "execution_count": null,
   "id": "4205dd30",
   "metadata": {
    "id": "4205dd30",
    "outputId": "2e22b753-a578-4f70-a429-5ef7eb9324b5"
   },
   "outputs": [],
   "source": [
    "string_characters[5]"
   ]
  },
  {
   "cell_type": "code",
   "execution_count": null,
   "id": "0d651da6",
   "metadata": {
    "id": "0d651da6",
    "outputId": "4a81a919-edc0-4e45-9f29-1d23940c6046"
   },
   "outputs": [],
   "source": [
    "\"clarusway\"[5]"
   ]
  },
  {
   "cell_type": "code",
   "execution_count": null,
   "id": "775601f7",
   "metadata": {
    "id": "775601f7"
   },
   "outputs": [],
   "source": [
    "school = \"clarusway\""
   ]
  },
  {
   "cell_type": "code",
   "execution_count": null,
   "id": "94ee71c3",
   "metadata": {
    "id": "94ee71c3",
    "outputId": "23b63b22-ea53-4994-f2dd-6c2c178e41a2"
   },
   "outputs": [],
   "source": [
    "school[5]"
   ]
  },
  {
   "cell_type": "markdown",
   "id": "3ea9effe",
   "metadata": {
    "id": "3ea9effe"
   },
   "source": [
    "## slicing"
   ]
  },
  {
   "cell_type": "code",
   "execution_count": null,
   "id": "b7280e65",
   "metadata": {
    "id": "b7280e65",
    "outputId": "acae364a-5b02-4fe3-ad1d-9559f1d41a4d"
   },
   "outputs": [],
   "source": [
    "school[2:4] "
   ]
  },
  {
   "cell_type": "code",
   "execution_count": null,
   "id": "b21c81fa",
   "metadata": {
    "id": "b21c81fa"
   },
   "outputs": [],
   "source": [
    "city = \"Phoenix\""
   ]
  },
  {
   "cell_type": "code",
   "execution_count": null,
   "id": "cbf1a56f",
   "metadata": {
    "id": "cbf1a56f",
    "outputId": "6da047ca-9cd4-4006-948e-b127755060ba"
   },
   "outputs": [],
   "source": [
    "city[-2]"
   ]
  },
  {
   "cell_type": "code",
   "execution_count": null,
   "id": "1d85c493",
   "metadata": {
    "id": "1d85c493",
    "outputId": "c58cd921-3f2b-4df2-f5d0-201de0bed84a"
   },
   "outputs": [],
   "source": [
    "city[5]"
   ]
  },
  {
   "cell_type": "code",
   "execution_count": null,
   "id": "93d14f64",
   "metadata": {
    "id": "93d14f64",
    "outputId": "44adb45c-4c9d-4de1-9f19-9c040d656659"
   },
   "outputs": [],
   "source": [
    "city[1:5]"
   ]
  },
  {
   "cell_type": "code",
   "execution_count": null,
   "id": "2a521d85",
   "metadata": {
    "id": "2a521d85",
    "outputId": "bb8b73d5-8971-4a68-cc59-98ee32175126"
   },
   "outputs": [],
   "source": [
    "city[-6:-2]"
   ]
  },
  {
   "cell_type": "code",
   "execution_count": null,
   "id": "13ad4425",
   "metadata": {
    "id": "13ad4425",
    "outputId": "68489853-65d3-4f69-a5eb-33405c01e059"
   },
   "outputs": [],
   "source": [
    "city[1:-2]"
   ]
  },
  {
   "cell_type": "code",
   "execution_count": null,
   "id": "96b24ab3",
   "metadata": {
    "id": "96b24ab3",
    "outputId": "0afc5498-4b1e-4771-f669-fa1589b5bb17"
   },
   "outputs": [],
   "source": [
    "city[-6:-2]"
   ]
  },
  {
   "cell_type": "code",
   "execution_count": null,
   "id": "9ebd112c",
   "metadata": {
    "id": "9ebd112c",
    "outputId": "89ac638e-c9e7-4862-982d-b9fd11aa5ca9"
   },
   "outputs": [],
   "source": [
    "city[-7:4]"
   ]
  },
  {
   "cell_type": "code",
   "execution_count": null,
   "id": "ca3d1891",
   "metadata": {
    "id": "ca3d1891",
    "outputId": "5ce250e1-345c-4e0e-a7af-8e3d16696a6c"
   },
   "outputs": [],
   "source": [
    "city[::-1]"
   ]
  },
  {
   "cell_type": "code",
   "execution_count": null,
   "id": "e38e4fd6",
   "metadata": {
    "id": "e38e4fd6",
    "outputId": "63111dee-1ad9-4d5d-989d-a51c2cc927d3"
   },
   "outputs": [],
   "source": [
    "city[-2:-6]"
   ]
  },
  {
   "cell_type": "code",
   "execution_count": null,
   "id": "2f30bd60",
   "metadata": {
    "id": "2f30bd60",
    "outputId": "c90f9a24-a1c8-43f2-ca34-22a1b24309a7"
   },
   "outputs": [],
   "source": [
    "city[-2:-6:-1]"
   ]
  },
  {
   "cell_type": "markdown",
   "id": "3321670c",
   "metadata": {
    "id": "3321670c"
   },
   "source": [
    "<a id=\"toc\"></a>\n",
    "\n",
    "### <p style=\"background-color:#9d4f8c; font-family:newtimeroman; color:#FFF9ED; font-size:175%; text-align:center; border-radius:10px 10px;\">What is Iterable Object?</p>"
   ]
  },
  {
   "cell_type": "markdown",
   "id": "93e51761",
   "metadata": {
    "id": "93e51761"
   },
   "source": [
    "**Python documentation - Iterable Objects: https://docs.python.org/3/c-api/iterator.html**\n",
    "\n",
    "**Link 2 - Python iterators: https://www.w3schools.com/python/python_iterators.asp**\n",
    "\n",
    "**Link 3 - Difference between iterable and iterator: https://www.geeksforgeeks.org/python-difference-iterable-iterator/**"
   ]
  },
  {
   "cell_type": "markdown",
   "id": "32365bf4",
   "metadata": {
    "id": "32365bf4"
   },
   "source": [
    "- **An iterable is any Python object capable of returning its members one at a time, permitting it to be iterated over in a for-loop**\n",
    "\n",
    "- **An iterator is an object that contains a countable number of values.**\n",
    "\n",
    "- **An iterator is an object that can be iterated upon, meaning that you can traverse through all the values.**\n",
    "\n",
    "- **Iterables are objects that can be iterated in iterations.**\n",
    "\n",
    "- **Technically, in Python, an iterator is an object which implements the iterator protocol, which consist of the methods __iter__() and __next__().**"
   ]
  },
  {
   "cell_type": "code",
   "execution_count": null,
   "id": "8aa7e9dd",
   "metadata": {
    "id": "8aa7e9dd",
    "outputId": "640a22f2-3c18-4db9-eaec-536a288a6db7"
   },
   "outputs": [],
   "source": [
    "# len(145) # Elements cannot be counted because integer data is not \"iterable\"."
   ]
  },
  {
   "cell_type": "code",
   "execution_count": null,
   "id": "fcbb1832",
   "metadata": {
    "id": "fcbb1832",
    "outputId": "2190735d-a4eb-4018-8783-73073a720805"
   },
   "outputs": [],
   "source": [
    "len(\"145\")"
   ]
  },
  {
   "cell_type": "code",
   "execution_count": null,
   "id": "1d3e3ab0",
   "metadata": {
    "id": "1d3e3ab0",
    "outputId": "b2a3b8fa-ee8b-47ee-98c3-9f85d340b334"
   },
   "outputs": [],
   "source": [
    "city"
   ]
  },
  {
   "cell_type": "code",
   "execution_count": null,
   "id": "114b5869",
   "metadata": {
    "id": "114b5869",
    "outputId": "1b85d968-17bd-48e0-e720-ee9dd2bdc1b8"
   },
   "outputs": [],
   "source": [
    "len(city)"
   ]
  },
  {
   "cell_type": "code",
   "execution_count": null,
   "id": "d76b2fea",
   "metadata": {
    "id": "d76b2fea",
    "outputId": "99a0ba87-aaf0-47f1-801b-384127ab06b1"
   },
   "outputs": [],
   "source": [
    "len(\"321\")"
   ]
  },
  {
   "cell_type": "code",
   "execution_count": null,
   "id": "6c72b9a1",
   "metadata": {
    "id": "6c72b9a1",
    "outputId": "c30cc110-6670-44a7-ebe3-a5c4af2b3ffa"
   },
   "outputs": [],
   "source": [
    "len(\"0\")"
   ]
  },
  {
   "cell_type": "code",
   "execution_count": null,
   "id": "428b2cd5",
   "metadata": {
    "id": "428b2cd5",
    "outputId": "6381cf73-6de0-4e6b-f5e4-2c91b1ff5cc1"
   },
   "outputs": [],
   "source": [
    "len(\"1 1\")"
   ]
  },
  {
   "cell_type": "code",
   "execution_count": null,
   "id": "fd2631cb",
   "metadata": {
    "id": "fd2631cb",
    "outputId": "2673d71e-f877-4d8b-e97d-d528f6b694d2"
   },
   "outputs": [],
   "source": [
    "# len(111)"
   ]
  },
  {
   "cell_type": "markdown",
   "id": "94db6962",
   "metadata": {
    "id": "94db6962"
   },
   "source": [
    "<a id=\"toc\"></a>\n",
    "\n",
    "## <p style=\"background-color:#9d4f8c; font-family:newtimeroman; color:#FFF9ED; font-size:175%; text-align:center; border-radius:10px 10px;\"> String Formatting with Arithmetic Syntax</p>"
   ]
  },
  {
   "cell_type": "markdown",
   "id": "fd0d9707",
   "metadata": {
    "id": "fd0d9707"
   },
   "source": [
    "**Link 1 - Using arithmetic operators on strings: https://www.alpharithms.com/arithmetic-operators-on-python-strings-424711/**\n",
    "\n",
    "**Link 2 - Operators and string formatting: https://www.informit.com/articles/article.aspx?p=28790**"
   ]
  },
  {
   "cell_type": "code",
   "execution_count": null,
   "id": "394bc5bc",
   "metadata": {
    "id": "394bc5bc",
    "outputId": "a7e77f28-0a08-44d3-db80-028fd0f79bb7"
   },
   "outputs": [],
   "source": [
    "str_one = 'upper'\n",
    "str_two = 'case'\n",
    "str_comb = str_one + str_two\n",
    "print('upper' + 'case')\n",
    "print(str_one + str_two)\n",
    "print(str_comb)"
   ]
  },
  {
   "cell_type": "code",
   "execution_count": null,
   "id": "92ada75d",
   "metadata": {
    "id": "92ada75d",
    "outputId": "ef0aaa21-5752-454c-94e3-33ce1f152cab"
   },
   "outputs": [],
   "source": [
    "str_one = 'upper'\n",
    "str_two = 3 * 'upper'\n",
    "str_comb = str_one * 3\n",
    "print(str_two)\n",
    "print(str_comb)\n",
    "print(* str_one)"
   ]
  },
  {
   "cell_type": "code",
   "execution_count": null,
   "id": "1acf686c",
   "metadata": {
    "id": "1acf686c",
    "outputId": "9b91c593-9fce-40a1-d3aa-5415eb7b3f52"
   },
   "outputs": [],
   "source": [
    "str_one = 'upper'\n",
    "str_one += 'case'\n",
    "print(str_one)\n",
    "str_one += 'letter'\n",
    "print(str_one)\n",
    "str_one += 'end'\n",
    "print(str_one)"
   ]
  },
  {
   "cell_type": "code",
   "execution_count": null,
   "id": "4d53c67d",
   "metadata": {
    "id": "4d53c67d",
    "outputId": "6b8a34a8-47bb-4558-9d0d-c7b4244ccd67"
   },
   "outputs": [],
   "source": [
    "result = str((5 + 6) ** 2) + \"121\"\n",
    "result"
   ]
  },
  {
   "cell_type": "code",
   "execution_count": null,
   "id": "2307b094",
   "metadata": {
    "id": "2307b094",
    "outputId": "6f8e11b7-1e82-453b-9d63-120f99dcfa4f"
   },
   "outputs": [],
   "source": [
    "\"kirb\" + \"betty\" + \"samuel\""
   ]
  },
  {
   "cell_type": "code",
   "execution_count": null,
   "id": "64122880",
   "metadata": {
    "id": "64122880",
    "outputId": "9b62c644-1163-4d57-a4a8-1f8773d2d435"
   },
   "outputs": [],
   "source": [
    "\"kirby \" + \"betty \" + \"samuel\""
   ]
  },
  {
   "cell_type": "code",
   "execution_count": null,
   "id": "53bc682d",
   "metadata": {
    "id": "53bc682d",
    "outputId": "a692c8cc-8089-49f8-b42c-8b8f7637ee59"
   },
   "outputs": [],
   "source": [
    "\"100\" + \"500\" + \"001\""
   ]
  },
  {
   "cell_type": "code",
   "execution_count": null,
   "id": "4e27e1b8",
   "metadata": {
    "id": "4e27e1b8",
    "outputId": "b7780eb7-7506-4251-ab7e-a590232aec72"
   },
   "outputs": [],
   "source": [
    "result"
   ]
  },
  {
   "cell_type": "code",
   "execution_count": null,
   "id": "9526a8a4",
   "metadata": {
    "id": "9526a8a4",
    "outputId": "dde97867-370b-432f-f7d4-8b1862beeb63"
   },
   "outputs": [],
   "source": [
    "result = (result + result) * 2\n",
    "result"
   ]
  },
  {
   "cell_type": "code",
   "execution_count": null,
   "id": "b4a78d42",
   "metadata": {
    "id": "b4a78d42",
    "outputId": "42e91f39-9a9d-4602-9410-5fb5b1c6d329"
   },
   "outputs": [],
   "source": [
    "\"kirby\" * 3"
   ]
  },
  {
   "cell_type": "code",
   "execution_count": null,
   "id": "98d6b509",
   "metadata": {
    "id": "98d6b509",
    "outputId": "af6ae72c-e53d-45f6-dae1-9bc62df130c6"
   },
   "outputs": [],
   "source": [
    "3 * \"betty\""
   ]
  },
  {
   "cell_type": "code",
   "execution_count": null,
   "id": "0f6f385f",
   "metadata": {
    "id": "0f6f385f",
    "outputId": "93b4374a-c644-4a8b-d12e-cc25ec5ad8dc"
   },
   "outputs": [],
   "source": [
    "print(* \"upper\")"
   ]
  },
  {
   "cell_type": "code",
   "execution_count": null,
   "id": "3e6ac0ae",
   "metadata": {
    "id": "3e6ac0ae",
    "outputId": "b2ad3b8e-f245-412d-caf7-02b951743beb"
   },
   "outputs": [],
   "source": [
    "print(\"clarusway\")"
   ]
  },
  {
   "cell_type": "markdown",
   "id": "30687dc3",
   "metadata": {
    "id": "30687dc3"
   },
   "source": [
    "## Split an iterable into its elements with \"*\" operator:"
   ]
  },
  {
   "cell_type": "code",
   "execution_count": null,
   "id": "a5716299",
   "metadata": {
    "id": "a5716299",
    "outputId": "b4d5f193-c84b-4eff-94c3-5deee98165a1"
   },
   "outputs": [],
   "source": [
    "print(* \"clarusway\")"
   ]
  },
  {
   "cell_type": "code",
   "execution_count": null,
   "id": "a45ed0f0",
   "metadata": {
    "id": "a45ed0f0",
    "outputId": "1617af82-e148-4b08-e636-fcd0429ca1cd"
   },
   "outputs": [],
   "source": [
    "# 1 + \"1\"  # error!"
   ]
  },
  {
   "cell_type": "code",
   "execution_count": null,
   "id": "2b04dcfd",
   "metadata": {
    "id": "2b04dcfd",
    "outputId": "7256688c-4749-46d4-e565-0bfc4becf934"
   },
   "outputs": [],
   "source": [
    "2 * \"v\""
   ]
  },
  {
   "cell_type": "code",
   "execution_count": null,
   "id": "042f24fe",
   "metadata": {
    "id": "042f24fe",
    "outputId": "1b979ea2-4aa1-49de-bd1f-bf72f20bc2d2"
   },
   "outputs": [],
   "source": [
    "string_1 = \"I am angry...\"\n",
    "print(* string_1)"
   ]
  },
  {
   "cell_type": "code",
   "execution_count": null,
   "id": "48e672f8",
   "metadata": {
    "id": "48e672f8",
    "outputId": "42c83c13-6e22-426c-e6d5-85b40aeb1f4b"
   },
   "outputs": [],
   "source": [
    "print(* \"kirby@clarusway.com\")"
   ]
  },
  {
   "cell_type": "code",
   "execution_count": null,
   "id": "2fcb391a",
   "metadata": {
    "id": "2fcb391a"
   },
   "outputs": [],
   "source": [
    "var = \"   abc  \""
   ]
  },
  {
   "cell_type": "code",
   "execution_count": null,
   "id": "8f734cf4",
   "metadata": {
    "id": "8f734cf4",
    "outputId": "c3bdfe3b-0b59-4ea5-fdd3-54db7d557f4e"
   },
   "outputs": [],
   "source": [
    "len(var)"
   ]
  },
  {
   "cell_type": "code",
   "execution_count": null,
   "id": "759160b1",
   "metadata": {
    "executionInfo": {
     "elapsed": 10,
     "status": "ok",
     "timestamp": 1679492615568,
     "user": {
      "displayName": "Edwin W",
      "userId": "11200791715119199957"
     },
     "user_tz": -180
    },
    "id": "759160b1"
   },
   "outputs": [],
   "source": [
    "a = \"kirby\"\n",
    "b = \"betty\""
   ]
  },
  {
   "cell_type": "code",
   "execution_count": null,
   "id": "e158a722",
   "metadata": {
    "colab": {
     "base_uri": "https://localhost:8080/",
     "height": 36
    },
    "executionInfo": {
     "elapsed": 9,
     "status": "ok",
     "timestamp": 1679492615568,
     "user": {
      "displayName": "Edwin W",
      "userId": "11200791715119199957"
     },
     "user_tz": -180
    },
    "id": "e158a722",
    "outputId": "df65d6f7-b7ec-46fd-fb00-82a92d5a7170"
   },
   "outputs": [],
   "source": [
    "a = a + b\n",
    "\n",
    "a"
   ]
  },
  {
   "cell_type": "code",
   "execution_count": null,
   "id": "5661f71e",
   "metadata": {
    "executionInfo": {
     "elapsed": 9,
     "status": "ok",
     "timestamp": 1679492615569,
     "user": {
      "displayName": "Edwin W",
      "userId": "11200791715119199957"
     },
     "user_tz": -180
    },
    "id": "5661f71e"
   },
   "outputs": [],
   "source": [
    "a += b"
   ]
  },
  {
   "cell_type": "code",
   "execution_count": null,
   "id": "8fd4e49f",
   "metadata": {
    "colab": {
     "base_uri": "https://localhost:8080/",
     "height": 36
    },
    "executionInfo": {
     "elapsed": 1074,
     "status": "ok",
     "timestamp": 1679492616635,
     "user": {
      "displayName": "Edwin W",
      "userId": "11200791715119199957"
     },
     "user_tz": -180
    },
    "id": "8fd4e49f",
    "outputId": "6b23a0ed-99f6-4611-acb4-235b7f26465c"
   },
   "outputs": [],
   "source": [
    "a"
   ]
  },
  {
   "cell_type": "markdown",
   "id": "a4680b30",
   "metadata": {
    "id": "a4680b30"
   },
   "source": [
    "<a id=\"toc\"></a>\n",
    "\n",
    "## <p style=\"background-color:#9d4f8c; font-family:newtimeroman; color:#FFF9ED; font-size:175%; text-align:center; border-radius:10px 10px;\">String Formatting with string.format() Method</p>"
   ]
  },
  {
   "cell_type": "markdown",
   "id": "e726905e",
   "metadata": {
    "id": "e726905e"
   },
   "source": [
    "**Python documentation link - String Formatting: https://docs.python.org/3/library/string.html#custom-string-formatting**\n",
    "\n",
    "**Link 1 - String formatting best practices: https://realpython.com/python-string-formatting/**\n",
    "\n",
    "**Link 2 - String.format method: https://www.w3schools.com/python/ref_string_format.asp**"
   ]
  },
  {
   "cell_type": "markdown",
   "id": "32e9be0f",
   "metadata": {
    "id": "32e9be0f"
   },
   "source": [
    "![image.png](attachment:image.png)"
   ]
  },
  {
   "cell_type": "code",
   "execution_count": null,
   "id": "142d3dcd",
   "metadata": {
    "id": "142d3dcd",
    "outputId": "e1dfb64a-e542-4f09-eeb5-a1f01f43f960"
   },
   "outputs": [],
   "source": [
    "fruit = \"Orange\"\n",
    "vegetable = \"Tomato\"\n",
    "amount = 4\n",
    "\n",
    "print(\"The amount of {} we bought is {} pounds\".format(fruit, amount))"
   ]
  },
  {
   "cell_type": "code",
   "execution_count": null,
   "id": "379ba764",
   "metadata": {
    "id": "379ba764",
    "outputId": "7bd2a560-c1f2-452c-ac52-949759f1c45b"
   },
   "outputs": [],
   "source": [
    "print('{state} is the most {adjective} state of the {country}'.format(state=\"California\",\n",
    "                                                                     country=\"USA\", adjective=\"crowded\"))"
   ]
  },
  {
   "cell_type": "code",
   "execution_count": null,
   "id": "e6bac2ae",
   "metadata": {
    "id": "e6bac2ae",
    "outputId": "8c301fea-25d1-4368-c758-8ddfca0249c6"
   },
   "outputs": [],
   "source": [
    "print('{0} is the most {adjective} state of the {country}'.format(\"California\",\n",
    "                                                                     country=\"USA\", adjective=\"crowded\"))"
   ]
  },
  {
   "cell_type": "code",
   "execution_count": null,
   "id": "df7f7475",
   "metadata": {
    "id": "df7f7475",
    "outputId": "486ac9a4-f7d1-4dff-89c2-331e0908c93b"
   },
   "outputs": [],
   "source": [
    "\"metodlar\".format()"
   ]
  },
  {
   "cell_type": "code",
   "execution_count": null,
   "id": "82e8f0f1",
   "metadata": {
    "id": "82e8f0f1"
   },
   "outputs": [],
   "source": [
    "time = \"05:00\"\n",
    "place = \"school\"\n",
    "amount = 3"
   ]
  },
  {
   "cell_type": "code",
   "execution_count": null,
   "id": "6567d751",
   "metadata": {
    "id": "6567d751",
    "outputId": "6d8ddeb4-5ba0-40d8-cc10-cc85045b442a"
   },
   "outputs": [],
   "source": [
    "\"I woke up at {}. I went to {}. I bought {} kg of apples on the way\".format(time, place, amount)"
   ]
  },
  {
   "cell_type": "code",
   "execution_count": null,
   "id": "5b80a631",
   "metadata": {
    "id": "5b80a631",
    "outputId": "73fb6c72-535e-48e4-c78a-2f6e33254b82"
   },
   "outputs": [],
   "source": [
    "\"I woke up at {}. I went to {}. I bought {} kg of apples on the way\".format(\"05:00\", \"school\", 3)"
   ]
  },
  {
   "cell_type": "code",
   "execution_count": null,
   "id": "357d5a02",
   "metadata": {
    "id": "357d5a02",
    "outputId": "e1a424d8-6233-4283-e12e-e29ec20ee433"
   },
   "outputs": [],
   "source": [
    "\"I woke up at {time}. I went to {place}. I bought {amount} kg of apples on the way\".format(place = \"library\", amount = 2, time = \"06:30\")"
   ]
  },
  {
   "cell_type": "code",
   "execution_count": null,
   "id": "d9e71cb7",
   "metadata": {
    "id": "d9e71cb7",
    "outputId": "3caf7648-4d46-479c-9496-810400b6442e"
   },
   "outputs": [],
   "source": [
    "\"I woke up at {time}. I went to {place}. I bought {amount} kg of apples on the way\".format(time = \"06:30\", amount = 2, place = \"library\")"
   ]
  },
  {
   "cell_type": "code",
   "execution_count": null,
   "id": "8411eb5e",
   "metadata": {
    "id": "8411eb5e",
    "outputId": "3d8bddee-05e4-485f-8fd1-ad0f5a0b6703"
   },
   "outputs": [],
   "source": [
    "\"I woke up at {1}. I went to {0}. I bought {2} kg of apples on the way\".format(\"school\", \"05:00\", 3)"
   ]
  },
  {
   "cell_type": "code",
   "execution_count": null,
   "id": "1b579553",
   "metadata": {
    "id": "1b579553",
    "outputId": "df6825c7-306e-45bf-9a77-2670b68a28de"
   },
   "outputs": [],
   "source": [
    "\"My {} students are very {}.\".format(\"wonderful\", \"successful\")"
   ]
  },
  {
   "cell_type": "code",
   "execution_count": null,
   "id": "b0d0b34a",
   "metadata": {
    "id": "b0d0b34a",
    "outputId": "348a46d6-9e4a-4bf4-aedb-c830f7a7e958"
   },
   "outputs": [],
   "source": [
    "x = \"wonderful\"\n",
    "y = \"successful\"\n",
    "\n",
    "\"My {} students are very {}.\".format(x, y)"
   ]
  },
  {
   "cell_type": "code",
   "execution_count": null,
   "id": "d11c358d",
   "metadata": {
    "id": "d11c358d"
   },
   "outputs": [],
   "source": [
    "my_string = \"My {} students are very {}.\""
   ]
  },
  {
   "cell_type": "code",
   "execution_count": null,
   "id": "36b850db",
   "metadata": {
    "id": "36b850db",
    "outputId": "c937bd00-0afc-4268-cee2-c7ee0ba5c591"
   },
   "outputs": [],
   "source": [
    "my_string.format(x, y)"
   ]
  },
  {
   "cell_type": "code",
   "execution_count": null,
   "id": "199590f5",
   "metadata": {
    "id": "199590f5"
   },
   "outputs": [],
   "source": [
    "# \"abc\"."
   ]
  },
  {
   "cell_type": "code",
   "execution_count": null,
   "id": "41c4d5df",
   "metadata": {
    "id": "41c4d5df"
   },
   "outputs": [],
   "source": [
    "# [\"abc\", 5]."
   ]
  },
  {
   "cell_type": "code",
   "execution_count": null,
   "id": "0db58d04",
   "metadata": {
    "id": "0db58d04",
    "outputId": "f3fd0dee-4f91-45f9-b400-98ab50506b3c"
   },
   "outputs": [],
   "source": [
    "phrase = \"{morality} {1} {0} {condition}\".format(\"in all\", \"wins\", morality = \"Generosity\", condition = \"circumstances\")\n",
    "\n",
    "print(phrase)"
   ]
  },
  {
   "cell_type": "code",
   "execution_count": null,
   "id": "44b31e5f",
   "metadata": {
    "id": "44b31e5f",
    "outputId": "34490498-289d-48b5-f58b-46893468483a"
   },
   "outputs": [],
   "source": [
    "# phrase = \"{moral} {1} {0} {cond}\".format(moral =  \"Generosity\", cond =  \"circumstances\", \"in all\", \"wins\",)\n",
    "\n",
    "print(phrase)\n",
    "\n",
    "# watch out for error code! (positional argument follows keyword argument)"
   ]
  },
  {
   "cell_type": "code",
   "execution_count": null,
   "id": "48655dbd",
   "metadata": {
    "id": "48655dbd",
    "outputId": "5db059c9-70ea-4eec-abb6-74c9cc43d54d"
   },
   "outputs": [],
   "source": [
    "a = 3\n",
    "b = 7\n",
    "\n",
    "print(\"The sum of {} + {} is = {}\".format(a, b, a + b))"
   ]
  },
  {
   "cell_type": "code",
   "execution_count": null,
   "id": "3b561305",
   "metadata": {
    "id": "3b561305",
    "outputId": "a8a92aa4-a5d4-49d9-c164-8175fb04601c"
   },
   "outputs": [],
   "source": [
    "a = 3\n",
    "b = 7\n",
    "\n",
    "print(\"The sum of {} * {} is = {}\".format(a, b, a * b))"
   ]
  },
  {
   "cell_type": "code",
   "execution_count": null,
   "id": "ff5aef58",
   "metadata": {
    "id": "ff5aef58",
    "outputId": "60282c59-87f3-448f-ccca-f827ca820f7c"
   },
   "outputs": [],
   "source": [
    "a = 2\n",
    "b = 3\n",
    "\n",
    "print(\"The sum of {} ** {} is = {}\".format(a, b, a ** b))"
   ]
  }
 ],
 "metadata": {
  "colab": {
   "provenance": []
  },
  "kernelspec": {
   "display_name": "Python 3 (ipykernel)",
   "language": "python",
   "name": "python3"
  },
  "language_info": {
   "codemirror_mode": {
    "name": "ipython",
    "version": 3
   },
   "file_extension": ".py",
   "mimetype": "text/x-python",
   "name": "python",
   "nbconvert_exporter": "python",
   "pygments_lexer": "ipython3",
   "version": "3.11.3"
  }
 },
 "nbformat": 4,
 "nbformat_minor": 5
}
