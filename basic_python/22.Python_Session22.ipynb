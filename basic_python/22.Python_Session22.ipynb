{
 "cells": [
  {
   "cell_type": "markdown",
   "id": "9c545d03-7224-4093-9cf3-0b486e02c12f",
   "metadata": {
    "id": "fGdDuGxR9rkV"
   },
   "source": [
    "#### Clarusway Python\n",
    "\n",
    "* [Instructor Landing Page](landing_page.ipynb)\n",
    "* <a href=\"https://colab.research.google.com/github/4dsolutions/clarusway_data_analysis/blob/main/basic_python/22.Python_Session22.ipynb\"><img align=\"left\" src=\"https://colab.research.google.com/assets/colab-badge.svg\" alt=\"Open in Colab\" title=\"Open and Execute in Google Colaboratory\"></a>\n",
    "* [![nbviewer](https://raw.githubusercontent.com/jupyter/design/master/logos/Badges/nbviewer_badge.svg)](https://nbviewer.org/github/4dsolutions/clarusway_data_analysis/blob/main/basic_python/22.Python_Session22.ipynb)"
   ]
  },
  {
   "cell_type": "markdown",
   "id": "97d2a08c",
   "metadata": {
    "id": "97d2a08c"
   },
   "source": [
    "<a id=\"toc\"></a>\n",
    "\n",
    "## <p style=\"background-color:#0D8D99; font-family:newtimeroman; color:#FFF9ED; font-size:175%; text-align:center; border-radius:10px 10px;\">Python Session 22 - Working with Files</p>"
   ]
  },
  {
   "cell_type": "markdown",
   "id": "2a056995",
   "metadata": {
    "id": "2a056995"
   },
   "source": [
    "#### <div class=\"alert alert-block alert-info\"><h1><p style=\"text-align: center; color:purple\"> Open a File<br><br>Reading Files<br><br>Writing Files<br><br>Working with CSV Files</p> "
   ]
  },
  {
   "cell_type": "markdown",
   "id": "a59a6b4b",
   "metadata": {
    "id": "a59a6b4b"
   },
   "source": [
    "<a id=\"toc\"></a>\n",
    "\n",
    "## <p style=\"background-color:#9d4f8c; font-family:newtimeroman; color:#FFF9ED; font-size:175%; text-align:center; border-radius:10px 10px;\">Open a file</p>"
   ]
  },
  {
   "cell_type": "markdown",
   "id": "0ff74ffe",
   "metadata": {
    "id": "0ff74ffe"
   },
   "source": [
    "## The methods to open a file in Python:\n",
    "\n",
    "**open() Function:** The most basic method to open a file is to use the \"open()\" function. This function takes the file name and operation type parameters and opens the file.\n",
    "\n",
    "**with open() Statement:** The \"with open()\" statement is used to open and automatically close a file. This statement uses the \"open()\" function to open the file and automatically closes it at the end of the code block.\n",
    "\n",
    "**pathlib Library:** Starting from Python 3.4, the pathlib library provides a more modern way of file handling. This library is used to manage file paths and open files.\n",
    "\n",
    "**os Library:** The \"os\" library provides more advanced functions for file handling. This library is used to manage file names and paths, change file permissions, and delete files.\n",
    "\n",
    "**io Library:** The \"io\" library provides more advanced tools for working with files. This library is used to manage file input and output, keep file content in memory, and make file handling more efficient."
   ]
  },
  {
   "cell_type": "markdown",
   "id": "a3f8cf48",
   "metadata": {
    "id": "a3f8cf48"
   },
   "source": [
    "<hr>\n",
    "\n",
    "**We will use the 'with open' command when opening files in this notebook to avoid wasting time with open and close operations. However, let's also see a simple example of how to open a file with libraries in Python**\n",
    "<hr>"
   ]
  },
  {
   "cell_type": "markdown",
   "id": "b7a911b0",
   "metadata": {
    "id": "b7a911b0"
   },
   "source": [
    "### pathlib library:"
   ]
  },
  {
   "cell_type": "code",
   "execution_count": null,
   "id": "f7abe90f",
   "metadata": {
    "id": "f7abe90f",
    "outputId": "2ea2f0d0-0b73-4f33-b4d5-b0e0f6db9b36"
   },
   "outputs": [
    {
     "name": "stdout",
     "output_type": "stream",
     "text": [
      "Orca is a kind of Dolphin.\n",
      "Blue Whale is the largest animal known on earth.\n",
      "Sharks are the sister group to the Rays (batoids).\n",
      "The Tuna Fish can weigh up to 260 kg.\n",
      "Squid and Octopus are in the same class.\n"
     ]
    }
   ],
   "source": [
    "from pathlib import Path\n",
    "\n",
    "# file path:\n",
    "file_path = Path(\"fishes.txt\")\n",
    "\n",
    "# open the file:\n",
    "with file_path.open(mode=\"r\") as f:\n",
    "    file_content = f.read()\n",
    "\n",
    "print(file_content)"
   ]
  },
  {
   "cell_type": "markdown",
   "id": "5c299d3c",
   "metadata": {
    "id": "5c299d3c"
   },
   "source": [
    "### os library:"
   ]
  },
  {
   "cell_type": "code",
   "execution_count": null,
   "id": "49b46bff",
   "metadata": {
    "id": "49b46bff",
    "outputId": "94600732-26e1-4707-8871-474426270541"
   },
   "outputs": [
    {
     "name": "stdout",
     "output_type": "stream",
     "text": [
      "b'Orca is a kind of Dolphin.\\nBlue Whale is the largest animal known on earth.\\nSharks are the sister group to the Rays (batoids).\\nThe Tuna Fish can weigh up to 260 kg.\\nSquid and Octopus are in the same class.'\n"
     ]
    }
   ],
   "source": [
    "import os\n",
    "\n",
    "# file path:\n",
    "file_path = \"fishes.txt\"\n",
    "\n",
    "# open the file:\n",
    "file_descriptor = os.open(file_path, os.O_RDONLY)\n",
    "\n",
    "# read the content of the file:\n",
    "content = os.read(file_descriptor, os.stat(file_path).st_size)\n",
    "\n",
    "# close the file:\n",
    "os.close(file_descriptor)\n",
    "\n",
    "# print the content:\n",
    "print(content)"
   ]
  },
  {
   "cell_type": "markdown",
   "id": "4a992935",
   "metadata": {
    "id": "4a992935"
   },
   "source": [
    "### io library:"
   ]
  },
  {
   "cell_type": "code",
   "execution_count": null,
   "id": "82eddf4c",
   "metadata": {
    "id": "82eddf4c"
   },
   "outputs": [],
   "source": [
    "import io\n",
    "\n",
    "file_contents = \"This is a sample file created using 'io' library.\"\n",
    "file = io.StringIO(file_contents)\n",
    "\n",
    "# Read the content of the file\n",
    "content = file.read()\n",
    "\n",
    "# Print the content of the file\n",
    "print(content)\n",
    "\n",
    "# Close the file\n",
    "file.close()"
   ]
  },
  {
   "cell_type": "markdown",
   "id": "1216b59b",
   "metadata": {
    "id": "1216b59b"
   },
   "source": [
    "<hr>\n",
    "\n",
    "A data analyst frequently needs to perform file handling operations, and therefore they may often use the **\"open()\"** and **\"with open()\"** methods. \n",
    "\n",
    "**As the \"with open()\" statement is a safer and more organized way to open and close files, data analysts usually prefer to use this method.**\n",
    "\n",
    "In addition, data analysts frequently use the **\"os\" library** to manage file paths, change file permissions, delete files, and perform similar operations. \n",
    "\n",
    "They may also often use the **\"io\" library** to read, write, and keep file content in memory.\n",
    "<hr>"
   ]
  },
  {
   "cell_type": "markdown",
   "id": "325bfc3c",
   "metadata": {
    "id": "325bfc3c"
   },
   "source": [
    "## Differences between \"open\" and \"with open\":\n",
    "\n",
    "**File Closing:** When using \"open\", we need to manually close the file when we are done with it. However, when using \"with open\", the file is automatically closed, and there is no need for manual file closing.\n",
    "\n",
    "**Error Handling:** When using \"open\", we need to handle errors manually. However, when using \"with open\", if an error occurs, the file is automatically closed, and an error message is displayed.\n",
    "\n",
    "**Readability:** Using \"with open\" can make the code more readable. The entire code block required for file processing is located under \"with open\", making the code appear more organized.\n",
    "\n",
    "**Performance:** Using \"with open\" shows better performance in file processing. Since the file is automatically closed, there is no unnecessary memory usage, and it uses fewer system resources.\n",
    "\n",
    "**Safer:** Using \"with open\" is safer because it automatically closes the file during the processing. There is no chance of forgetting to close the file, which could cause errors in the file."
   ]
  },
  {
   "cell_type": "markdown",
   "id": "345301db",
   "metadata": {
    "id": "345301db"
   },
   "source": [
    "## open() build in function:"
   ]
  },
  {
   "cell_type": "markdown",
   "id": "7dedde0d",
   "metadata": {
    "id": "7dedde0d"
   },
   "source": [
    "[python official document-build in functions](https://docs.python.org/3/library/functions.html)\n",
    "\n",
    "**After accessing the above link, click on the open() function**"
   ]
  },
  {
   "cell_type": "markdown",
   "id": "bf8519b0",
   "metadata": {
    "id": "bf8519b0"
   },
   "source": [
    "## Exception Handling in Files:\n",
    "\n",
    "During file operations in Python, many errors can occur, such as file not found errors, permission errors, and errors related to keeping the file open.\n",
    "\n",
    "If an exception occurs when we are performing some operation with the file, the code exits without closing the file. **This can cause the program to crash unexpectedly or produce incorrect results.** \n",
    "\n",
    "\n",
    "**Therefore, we use exception handling to handle error conditions during file operations, and close the file in finally block**\n",
    "\n",
    "The finally block is always executed after the try/except blocks are completed and is used to release resources like files.\n",
    "\n",
    "Examples:"
   ]
  },
  {
   "cell_type": "code",
   "execution_count": null,
   "id": "e57149eb",
   "metadata": {
    "id": "e57149eb",
    "outputId": "dfa8da84-bcf8-46f3-ba84-bb029e43bb1f"
   },
   "outputs": [
    {
     "name": "stdout",
     "output_type": "stream",
     "text": [
      "Orca is a kind of Dolphin.\n",
      "Blue Whale is the largest animal known on earth.\n",
      "Sharks are the sister group to the Rays (batoids).\n",
      "The Tuna Fish can weigh up to 260 kg.\n",
      "Squid and Octopus are in the same class.\n"
     ]
    }
   ],
   "source": [
    "try:\n",
    "    file = open(\"fishes.txt\", \"r\")\n",
    "    read_content = file.read()\n",
    "    print(read_content)\n",
    "\n",
    "finally:\n",
    "    # close the file under all circumstances:\n",
    "    file.close()"
   ]
  },
  {
   "cell_type": "code",
   "execution_count": null,
   "id": "0c913429",
   "metadata": {
    "id": "0c913429",
    "outputId": "011e8a2e-d70c-4a4e-bc13-33a14c1193da"
   },
   "outputs": [
    {
     "name": "stdout",
     "output_type": "stream",
     "text": [
      "You do not have permission to access this file.\n"
     ]
    }
   ],
   "source": [
    "try:\n",
    "    file = open(\"fishes2.txt\", \"w\")  # the fishes2.txt files is a read-only file.\n",
    "    file.write(\"This text is being attempted to be written to the file.\")\n",
    "except FileNotFoundError:\n",
    "    print(\"File not found.\")\n",
    "except PermissionError:\n",
    "     print(\"You do not have permission to access this file.\")\n",
    "except Exception as e:\n",
    "    print(\"An unexpected error occurred: \", e)\n",
    "finally:\n",
    "    file.close()"
   ]
  },
  {
   "cell_type": "markdown",
   "id": "8fd8f706",
   "metadata": {
    "id": "8fd8f706"
   },
   "source": [
    "In this example, a PermissionError was raised because we tried to write a line to a read-only file. Since the finally block always executes, we were able to close our file."
   ]
  },
  {
   "cell_type": "markdown",
   "id": "18ba0ced",
   "metadata": {
    "id": "18ba0ced"
   },
   "source": [
    "<a id=\"toc\"></a>\n",
    "\n",
    "## <p style=\"background-color:#9d4f8c; font-family:newtimeroman; color:#FFF9ED; font-size:175%; text-align:center; border-radius:10px 10px;\">Reading Files</p>"
   ]
  },
  {
   "cell_type": "markdown",
   "id": "f738dd7e",
   "metadata": {
    "id": "f738dd7e"
   },
   "source": [
    "[Python official document - open() function](https://docs.python.org/3/library/functions.html#open)"
   ]
  },
  {
   "cell_type": "code",
   "execution_count": null,
   "id": "fc14fab2",
   "metadata": {
    "id": "fc14fab2",
    "outputId": "361b1162-180f-42aa-ffa3-6da590bf6b7a"
   },
   "outputs": [
    {
     "name": "stdout",
     "output_type": "stream",
     "text": [
      "<_io.TextIOWrapper name='fishes.txt' mode='r' encoding='utf-8'>\n"
     ]
    }
   ],
   "source": [
    "with open(\"fishes.txt\", \"r\", encoding = \"utf-8\") as file :\n",
    "    print(file)"
   ]
  },
  {
   "cell_type": "markdown",
   "id": "4b5177b6",
   "metadata": {
    "id": "4b5177b6"
   },
   "source": [
    "# read() method\n",
    "\n",
    "**Read at most n characters from stream.**\n",
    "\n",
    "**Read from underlying buffer until we have n characters or we hit EOF.**\n",
    "\n",
    "**If n is negative or omitted, read until EOF.**"
   ]
  },
  {
   "cell_type": "code",
   "execution_count": null,
   "id": "1b529553",
   "metadata": {
    "id": "1b529553",
    "outputId": "3f8992cd-45f9-4d14-c0ab-09f775b5f0f9"
   },
   "outputs": [
    {
     "name": "stdout",
     "output_type": "stream",
     "text": [
      "<_io.TextIOWrapper name='fishes.txt' mode='r' encoding='utf-8'>\n",
      "\n",
      "Orca is a kind of Dolphin.\n",
      "Blue Whale is the largest animal known on earth.\n",
      "Sharks are the sister group to the Rays (batoids).\n",
      "The Tuna Fish can weigh up to 260 kg.\n",
      "Squid and Octopus are in the same class.\n"
     ]
    }
   ],
   "source": [
    "with open(\"fishes.txt\", \"r\", encoding = \"utf-8\") as file :\n",
    "    print(file)\n",
    "    print()\n",
    "    print(file.read())"
   ]
  },
  {
   "cell_type": "code",
   "execution_count": null,
   "id": "af0ad416",
   "metadata": {
    "id": "af0ad416"
   },
   "outputs": [],
   "source": [
    "file = open(\"fishes.txt\", \"r\", encoding=\"utf-8\")\n",
    "\n",
    "print(file.read())\n",
    "\n",
    "file.close()"
   ]
  },
  {
   "cell_type": "code",
   "execution_count": null,
   "id": "eec2e01a",
   "metadata": {
    "id": "eec2e01a"
   },
   "outputs": [],
   "source": [
    "with open(\"fishes.txt\", \"r\", encoding = \"utf-8\") as file :\n",
    "    content = file.read()"
   ]
  },
  {
   "cell_type": "code",
   "execution_count": null,
   "id": "4c29df7e",
   "metadata": {
    "id": "4c29df7e"
   },
   "outputs": [],
   "source": [
    "content."
   ]
  },
  {
   "cell_type": "code",
   "execution_count": null,
   "id": "dd45d3a3",
   "metadata": {
    "id": "dd45d3a3",
    "outputId": "90d0e627-5874-41e5-8ea0-cce599b91e29"
   },
   "outputs": [
    {
     "name": "stdout",
     "output_type": "stream",
     "text": [
      "Orca is a kind of Dolphin.\n",
      "Blue W\n"
     ]
    }
   ],
   "source": [
    "with open(\"fishes.txt\", \"r\", encoding = \"utf-8\") as file :\n",
    "    print(file.read(33))"
   ]
  },
  {
   "cell_type": "code",
   "execution_count": null,
   "id": "21142411",
   "metadata": {
    "id": "21142411",
    "outputId": "12068a9d-ae7d-497b-b69f-286d88d2322f"
   },
   "outputs": [
    {
     "name": "stdout",
     "output_type": "stream",
     "text": [
      "Orca is a kind of Dolphin.\n",
      "Blue W\n"
     ]
    }
   ],
   "source": [
    "with open(\"fishes.txt\", \"r\", encoding = \"utf-8\") as file :\n",
    "    print(file.read(33))\n",
    "    content_33 = file.read(33)"
   ]
  },
  {
   "cell_type": "code",
   "execution_count": null,
   "id": "c2f82235",
   "metadata": {
    "id": "c2f82235",
    "outputId": "fe8d5671-1b15-4610-a9fc-b39e3010caad"
   },
   "outputs": [
    {
     "data": {
      "text/plain": [
       "'hale is the largest animal known '"
      ]
     },
     "execution_count": 7,
     "metadata": {},
     "output_type": "execute_result"
    }
   ],
   "source": [
    "content_33"
   ]
  },
  {
   "cell_type": "code",
   "execution_count": null,
   "id": "c3d4d059",
   "metadata": {
    "id": "c3d4d059",
    "outputId": "dafdc726-2375-48de-f19e-aaf46f328dd9"
   },
   "outputs": [
    {
     "data": {
      "text/plain": [
       "33"
      ]
     },
     "execution_count": 8,
     "metadata": {},
     "output_type": "execute_result"
    }
   ],
   "source": [
    "len(content_33)"
   ]
  },
  {
   "cell_type": "code",
   "execution_count": null,
   "id": "c43a550c",
   "metadata": {
    "id": "c43a550c",
    "outputId": "e9fda2cc-a304-4e8a-c0d6-56c23b253e7e"
   },
   "outputs": [
    {
     "name": "stdout",
     "output_type": "stream",
     "text": [
      "Orca is a kind of Dolphin.\n",
      "Blue Whale is the largest animal known on earth.\n",
      "Sharks are the sister group to the Rays (batoids).\n",
      "The Tuna Fish can weigh up to 260 kg.\n",
      "Squid and Octopus are in the same class.\n"
     ]
    }
   ],
   "source": [
    "print(content)"
   ]
  },
  {
   "cell_type": "code",
   "execution_count": null,
   "id": "f54b9bbc",
   "metadata": {
    "id": "f54b9bbc",
    "outputId": "360c8f53-9b18-4e01-fc9c-6288710afe4b"
   },
   "outputs": [
    {
     "name": "stdout",
     "output_type": "stream",
     "text": [
      "Orca is a kind of Dolphin.\n",
      "Blue W\n"
     ]
    }
   ],
   "source": [
    "print(content[:33])"
   ]
  },
  {
   "cell_type": "code",
   "execution_count": null,
   "id": "429fbb79",
   "metadata": {
    "id": "429fbb79",
    "outputId": "5aecda61-9902-4a1f-f038-f3d0b025e692"
   },
   "outputs": [
    {
     "name": "stdout",
     "output_type": "stream",
     "text": [
      "Orca is a kind of Dolphin.\n",
      "Blue W\n",
      "hale is the largest animal known \n"
     ]
    }
   ],
   "source": [
    "with open(\"fishes.txt\", \"r\", encoding = \"utf-8\") as file :\n",
    "    print(file.read(33))\n",
    "    print(file.read(33))"
   ]
  },
  {
   "cell_type": "markdown",
   "id": "576737e2",
   "metadata": {
    "id": "576737e2"
   },
   "source": [
    "# seek() method \n",
    "\n",
    "**Change stream position.**\n",
    "\n",
    "**Change the stream position to the given byte offset. The offset is\n",
    "interpreted relative to the position indicated by whence.**"
   ]
  },
  {
   "cell_type": "code",
   "execution_count": null,
   "id": "fcf55a68",
   "metadata": {
    "id": "fcf55a68",
    "outputId": "b488a469-1fd8-4cf9-ef8a-90dfb1ca3ff3"
   },
   "outputs": [
    {
     "name": "stdout",
     "output_type": "stream",
     "text": [
      "Orca is a kind of Dolphin.\n",
      "Blue W\n",
      "hale is the largest animal known \n",
      "Orca is a kind of Dolphin.\n",
      "Blue W\n"
     ]
    }
   ],
   "source": [
    "with open(\"fishes.txt\", \"r\", encoding = \"utf-8\") as file :\n",
    "    print(file.read(33))\n",
    "    print(file.read(33))\n",
    "    \n",
    "    file.seek(0)\n",
    "    print(file.read(33))"
   ]
  },
  {
   "cell_type": "markdown",
   "id": "b875287d",
   "metadata": {
    "id": "b875287d"
   },
   "source": [
    "# tell() method\n",
    "\n",
    "**Return current stream position**"
   ]
  },
  {
   "cell_type": "code",
   "execution_count": null,
   "id": "14e42086",
   "metadata": {
    "id": "14e42086",
    "outputId": "2a2224d8-7d37-482e-be7e-d6dcb6938805"
   },
   "outputs": [
    {
     "name": "stdout",
     "output_type": "stream",
     "text": [
      "Orca is a kind of Dolphin.\n",
      "Blue W\n",
      "hale is the largest animal known \n",
      "Orca is a kind of Dolphin.\n",
      "Blue W\n",
      "34\n"
     ]
    }
   ],
   "source": [
    "with open(\"fishes.txt\", \"r\", encoding = \"utf-8\") as file :\n",
    "    print(file.read(33))\n",
    "    print(file.read(33))\n",
    "  \n",
    "    file.seek(0)\n",
    "    \n",
    "    print(file.read(33))\n",
    "    print(file.tell())"
   ]
  },
  {
   "cell_type": "code",
   "execution_count": null,
   "id": "e246d297",
   "metadata": {
    "id": "e246d297",
    "outputId": "c5ca7084-5611-4b7b-b4d8-ffb1a3083405"
   },
   "outputs": [
    {
     "name": "stdout",
     "output_type": "stream",
     "text": [
      "Orca is a kind of Dolphin.\n",
      "Blue W\n",
      "hale is the lar\n",
      "49\n",
      "Orca is a kind of Dolphin.\n",
      "Blue W\n",
      "34\n"
     ]
    }
   ],
   "source": [
    "with open(\"fishes.txt\", \"r\", encoding = \"utf-8\") as file :\n",
    "    print(file.read(33))\n",
    "    print(file.read(15))\n",
    "    print(file.tell())\n",
    "    \n",
    "    file.seek(0)\n",
    "    print(file.read(33))\n",
    "    print(file.tell())"
   ]
  },
  {
   "cell_type": "code",
   "execution_count": null,
   "id": "6bbe4639",
   "metadata": {
    "id": "6bbe4639",
    "outputId": "9f09f9ea-c5f7-4646-d073-b1d7561e890e"
   },
   "outputs": [
    {
     "name": "stdout",
     "output_type": "stream",
     "text": [
      "I want to sing\n",
      "Like the birds sing,\n",
      "Not worrying about\n",
      "Who hears or\n",
      "What they think.\n"
     ]
    }
   ],
   "source": [
    "with open(\"rumi.txt\", \"r\", encoding=\"utf-8\") as rumi :\n",
    "    print(rumi.read())"
   ]
  },
  {
   "cell_type": "code",
   "execution_count": null,
   "id": "7e5190dc",
   "metadata": {
    "id": "7e5190dc",
    "outputId": "a861fbcc-00f7-4df3-f8c4-68153e8edce4"
   },
   "outputs": [
    {
     "name": "stdout",
     "output_type": "stream",
     "text": [
      "I want to sing\n",
      "Like the birds sin\n",
      "g,\n",
      "Not worrying\n",
      "50\n",
      "I want to sing\n",
      "Like the birds sin\n",
      "34\n"
     ]
    }
   ],
   "source": [
    "with open(\"rumi.txt\", \"r\", encoding=\"utf-8\") as rumi :\n",
    "    print(rumi.read(33))\n",
    "    print(rumi.read(15))\n",
    "    print(rumi.tell())\n",
    "    \n",
    "    rumi.seek(0)\n",
    "    \n",
    "    print(rumi.read(33))\n",
    "    print(rumi.tell())   "
   ]
  },
  {
   "cell_type": "markdown",
   "id": "35fc47a3",
   "metadata": {
    "id": "35fc47a3"
   },
   "source": [
    "# readline() method\n",
    "\n",
    "**Read until newline or EOF.**\n",
    "\n",
    "**Returns an empty string if EOF is hit immediately.**"
   ]
  },
  {
   "cell_type": "code",
   "execution_count": null,
   "id": "4849c338",
   "metadata": {
    "id": "4849c338"
   },
   "outputs": [],
   "source": [
    "\"\\n\"  # detects \"\\n\" character"
   ]
  },
  {
   "cell_type": "code",
   "execution_count": null,
   "id": "4dfcc9bf",
   "metadata": {
    "id": "4dfcc9bf",
    "outputId": "167c340d-f799-497e-f922-2f950d307eda"
   },
   "outputs": [
    {
     "name": "stdout",
     "output_type": "stream",
     "text": [
      "Orca is a kind of Dolphin.\n",
      "\n",
      "Blue Whale is the largest animal known on earth.\n",
      "\n",
      "Sharks are the sister group to the Rays (batoids).\n",
      "\n"
     ]
    }
   ],
   "source": [
    "with open(\"fishes.txt\", \"r\", encoding = \"utf-8\") as file :\n",
    "    print(file.readline())\n",
    "    print(file.readline())\n",
    "    print(file.readline())"
   ]
  },
  {
   "cell_type": "code",
   "execution_count": null,
   "id": "18741874",
   "metadata": {
    "id": "18741874",
    "outputId": "fd70ca3a-735b-44a1-f070-8b8f4fb59319"
   },
   "outputs": [
    {
     "name": "stdout",
     "output_type": "stream",
     "text": [
      "Orca is a kin\n",
      "d of Dolphin.\n",
      "\n",
      "\n"
     ]
    }
   ],
   "source": [
    "with open(\"fishes.txt\", \"r\", encoding = \"utf-8\") as file :\n",
    "    print(file.readline(13))\n",
    "    print(file.readline(13))\n",
    "    print(file.readline(13))"
   ]
  },
  {
   "cell_type": "code",
   "execution_count": null,
   "id": "ca5217a5",
   "metadata": {
    "id": "ca5217a5",
    "outputId": "d4d6ccb3-77e2-40a8-ed5b-92fef975457a"
   },
   "outputs": [
    {
     "name": "stdout",
     "output_type": "stream",
     "text": [
      "Orca is a kin\n",
      "d of Dolphin.\n",
      "\n",
      "\n",
      "Blue Whale is\n"
     ]
    }
   ],
   "source": [
    "with open(\"fishes.txt\", \"r\", encoding = \"utf-8\") as file :\n",
    "    print(file.readline(13))\n",
    "    print(file.readline(13))\n",
    "    print(file.readline(13))\n",
    "    print(file.readline(13))"
   ]
  },
  {
   "cell_type": "code",
   "execution_count": null,
   "id": "30325be2",
   "metadata": {
    "id": "30325be2"
   },
   "outputs": [],
   "source": [
    "with open(\"fishes.txt\", \"r\", encoding = \"utf-8\") as file :\n",
    "    part_1 = file.readline(13)\n",
    "    part_2 = file.readline(13)\n",
    "    part_3 = file.readline(13)\n",
    "    part_4 = file.readline(13)"
   ]
  },
  {
   "cell_type": "code",
   "execution_count": null,
   "id": "164eaaef",
   "metadata": {
    "id": "164eaaef",
    "outputId": "ef8e1e57-774b-4b08-a5ee-c85e4d1274ed"
   },
   "outputs": [
    {
     "data": {
      "text/plain": [
       "'Orca is a kin'"
      ]
     },
     "execution_count": 4,
     "metadata": {},
     "output_type": "execute_result"
    }
   ],
   "source": [
    "part_1"
   ]
  },
  {
   "cell_type": "code",
   "execution_count": null,
   "id": "6c98bfde",
   "metadata": {
    "id": "6c98bfde",
    "outputId": "768da34f-3ce4-420c-a9f7-def531eca859"
   },
   "outputs": [
    {
     "data": {
      "text/plain": [
       "'d of Dolphin.'"
      ]
     },
     "execution_count": 5,
     "metadata": {},
     "output_type": "execute_result"
    }
   ],
   "source": [
    "part_2"
   ]
  },
  {
   "cell_type": "code",
   "execution_count": null,
   "id": "4e9ff13a",
   "metadata": {
    "id": "4e9ff13a",
    "outputId": "15672be1-a310-4963-8ceb-e618b247e1ac"
   },
   "outputs": [
    {
     "data": {
      "text/plain": [
       "'\\n'"
      ]
     },
     "execution_count": 6,
     "metadata": {},
     "output_type": "execute_result"
    }
   ],
   "source": [
    "part_3"
   ]
  },
  {
   "cell_type": "code",
   "execution_count": null,
   "id": "7175295b",
   "metadata": {
    "id": "7175295b",
    "outputId": "e958cfdd-2e80-4920-f812-21cc09606f90"
   },
   "outputs": [
    {
     "data": {
      "text/plain": [
       "'Blue Whale is'"
      ]
     },
     "execution_count": 7,
     "metadata": {},
     "output_type": "execute_result"
    }
   ],
   "source": [
    "part_4"
   ]
  },
  {
   "cell_type": "code",
   "execution_count": null,
   "id": "742564ac",
   "metadata": {
    "id": "742564ac",
    "outputId": "d8e3cdc8-99cb-43b0-aae7-417c9c3e36f6"
   },
   "outputs": [
    {
     "name": "stdout",
     "output_type": "stream",
     "text": [
      "\n",
      "\n"
     ]
    }
   ],
   "source": [
    "print(part_3)"
   ]
  },
  {
   "cell_type": "code",
   "execution_count": null,
   "id": "2df9bf5e",
   "metadata": {
    "id": "2df9bf5e",
    "outputId": "7ed65505-e1b3-4e3a-9fd0-ddcf6dca49ce"
   },
   "outputs": [
    {
     "data": {
      "text/plain": [
       "'Orca is a kind of Dolphin.\\n'"
      ]
     },
     "execution_count": 10,
     "metadata": {},
     "output_type": "execute_result"
    }
   ],
   "source": [
    "first_line = part_1 + part_2 + part_3\n",
    "first_line"
   ]
  },
  {
   "cell_type": "code",
   "execution_count": null,
   "id": "e41a1424",
   "metadata": {
    "id": "e41a1424",
    "outputId": "1a5531f1-fae5-4ed4-ad2a-656087b51d09"
   },
   "outputs": [
    {
     "name": "stdout",
     "output_type": "stream",
     "text": [
      "I want to sing\n",
      "Like the birds sing,\n",
      "Not worrying about\n",
      "Who hears or\n",
      "What they think.\n"
     ]
    }
   ],
   "source": [
    "with open(\"rumi.txt\", \"r\", encoding=\"utf-8\") as rumi :\n",
    "    print(rumi.read())"
   ]
  },
  {
   "cell_type": "code",
   "execution_count": null,
   "id": "85952303",
   "metadata": {
    "id": "85952303",
    "outputId": "a9f88e26-4c38-42ba-d6ba-840499ee2db8"
   },
   "outputs": [
    {
     "name": "stdout",
     "output_type": "stream",
     "text": [
      "I want to sing\n",
      "\n",
      "Like the birds sing,\n",
      "\n",
      "Not worrying about\n",
      "\n"
     ]
    }
   ],
   "source": [
    "with open(\"rumi.txt\", \"r\", encoding=\"utf-8\") as rumi :\n",
    "    \n",
    "    print(rumi.readline())\n",
    "    print(rumi.readline())\n",
    "    print(rumi.readline(50))"
   ]
  },
  {
   "cell_type": "markdown",
   "id": "a1a073d7",
   "metadata": {
    "id": "a1a073d7"
   },
   "source": [
    "# Getting and using the file names in a directory with \"os\" module"
   ]
  },
  {
   "cell_type": "markdown",
   "id": "c654225f",
   "metadata": {
    "id": "c654225f"
   },
   "source": [
    "There is a Linux command we use to list the files in our working directory: 'ls'. \n",
    "\n",
    "**\"ls command\" lists the files in the current directory as a string, which can be used anywhere.** "
   ]
  },
  {
   "cell_type": "code",
   "execution_count": null,
   "id": "23dd6f0e",
   "metadata": {
    "id": "23dd6f0e"
   },
   "outputs": [],
   "source": [
    "# ls"
   ]
  },
  {
   "cell_type": "code",
   "execution_count": null,
   "id": "0346d858",
   "metadata": {
    "id": "0346d858"
   },
   "outputs": [],
   "source": [
    "import os"
   ]
  },
  {
   "cell_type": "markdown",
   "id": "6c4e4095",
   "metadata": {
    "id": "6c4e4095"
   },
   "source": [
    "**The 'os' module has a listdir() method that does the same job as the 'ls' command in Linux.**"
   ]
  },
  {
   "cell_type": "code",
   "execution_count": null,
   "id": "e7fcb47a",
   "metadata": {
    "id": "e7fcb47a",
    "outputId": "31454da8-5778-4a81-ede7-805cd7143d7c"
   },
   "outputs": [
    {
     "data": {
      "text/plain": [
       "['.ipynb_checkpoints',\n",
       " '01.Python_Session1 (Introduction+General Info. about Python+PEP 8+Comments).ipynb',\n",
       " '02.Python_Session2 (Basic Data Types).ipynb',\n",
       " '03.Python_Session3 (Simple Operations (Arithmetic op.+ Op. with print()+Escape seq.)+Boolean Operations).ipynb',\n",
       " '04.Python_Session4 (Review Bool_Expressions+Strings(Indexing&Slicing+Str. Formatting with string.format method)).ipynb',\n",
       " '05.Python_Session5 (The Strength of The Strings(String Formatting with f-string method)+Main String Operations).ipynb',\n",
       " '06.Python_Session6 (Collection Types-Lists(Creationg a List+Basic Op. with Lists)).ipynb',\n",
       " '07.Python_Session7 (Lists(Accessing to The Lists)+Tuples(Definitions+Creating a Tuple)).ipynb',\n",
       " '08.Python_Session8 (Tuples(How Can We Use a Tuple)+Dictionaries(Definitions+Creating a Dict.)).ipynb',\n",
       " '09.Python_Session9 (Dictionaries(Main Op. with Dicts.+Nested Dicts)).ipynb',\n",
       " '10.Python_Session10 (Sets + Control Flow Statements (IF Statements, Comparision Op.)).ipynb',\n",
       " '11.Python_Session11 (Conditional Statements(if-else+if-elif-else+Nested if-elif-else)).ipynb',\n",
       " '12.Python_Session12 (Loops(Definitions+While Loop+For Loop+Working with Iterators)).ipynb',\n",
       " '13.Python_Session13 (Operations with For Loop+Nested For Loop+Some Additional Practical Uses).ipynb',\n",
       " '14.Python_Session14 (List Comprehension+Ternary operators+Functions(Calling a Function+Build in Functions)).ipynb',\n",
       " '15.Python_Session15 (Generator, Def. a Function(Main Principles of Def.+Execution of a Func.).ipynb',\n",
       " '16.Python_Session16 (The Matter of Arguments).ipynb',\n",
       " '17_18.Python_Session17&18 (Lambda Functions).ipynb',\n",
       " '19.Python_Session19 (Package & Modules).ipynb',\n",
       " '20.Python_Session20 (Program Execution,Error,Exceptions,An Algorithm Exercises).ipynb',\n",
       " '21.Python_Session21 (Exception Handling-an Algorithm Exercise)_InClass.ipynb',\n",
       " '21.Python_Session21 (Exception Handling-an Algorithm Exercise)_instructor.ipynb',\n",
       " '22.Python_Session22 (Reading Files + Writing Files + Working with CSV Files).ipynb',\n",
       " '23.Python_Session 23 (Python Environment)_EN.ipynb',\n",
       " '23.Python_Session 23 (Python Environment)_TR.ipynb',\n",
       " 'Daffodils.txt',\n",
       " 'dummy_file.txt',\n",
       " 'fishes.txt',\n",
       " 'fishes2.txt',\n",
       " 'fruits.txt',\n",
       " 'fruits2.txt',\n",
       " 'fruits3.txt',\n",
       " 'fruits9.txt',\n",
       " 'fruits_9',\n",
       " 'Hamburger.png',\n",
       " 'istiklal.txt',\n",
       " 'Python_session4_1.png',\n",
       " 'rumi.txt',\n",
       " 'titanic.csv']"
      ]
     },
     "execution_count": 32,
     "metadata": {},
     "output_type": "execute_result"
    }
   ],
   "source": [
    "os.listdir()"
   ]
  },
  {
   "cell_type": "markdown",
   "id": "841cedf6",
   "metadata": {
    "id": "841cedf6"
   },
   "source": [
    "**It gave us a list of all the files in the current directory as strings.**\n",
    "\n",
    "**we will assign this to a variable (files) to take the file names:**"
   ]
  },
  {
   "cell_type": "code",
   "execution_count": null,
   "id": "9d6c3c49",
   "metadata": {
    "id": "9d6c3c49",
    "outputId": "03a92e2c-0a45-45e0-93d6-f785c8a0f77e",
    "scrolled": true
   },
   "outputs": [
    {
     "data": {
      "text/plain": [
       "['.ipynb_checkpoints',\n",
       " 'dosyalar.rar',\n",
       " 'dummy_file.txt',\n",
       " 'fishes.txt',\n",
       " 'fruits.txt',\n",
       " 'fruits2.txt',\n",
       " 'fruits3.txt',\n",
       " 'Hamburger.png',\n",
       " 'istiklal.txt',\n",
       " 'iyi_çalışmalar.png',\n",
       " 'Python_Session 10_24 Oct 2022_Student.ipynb',\n",
       " 'Python_Session 11_26 Oct 2022_Student.ipynb',\n",
       " 'Python_Session 12_27 Oct 2022_Student.ipynb',\n",
       " 'Python_Session 13&14_29&31 Oct 2022_Student_updated.ipynb',\n",
       " 'Python_Session 15_2 Nov 2022_Functions_Student.ipynb',\n",
       " 'Python_Session 16_3 Nov 2022_Functions_Student.ipynb',\n",
       " 'Python_Session 17 & 18_5&7 Nov 2022_Functions (Matter of Arguments)_Student.ipynb',\n",
       " 'Python_Session 18_7 Nov 2022_Functions (Lambda Functions)_Student.ipynb',\n",
       " 'Python_Session 19_9 Nov 2022_Uses of Lambda Functions_Student.ipynb',\n",
       " 'Python_Session 1_5 Oct 2022_Student.ipynb',\n",
       " 'Python_Session 20_10 Nov 2022_Packages&Modules_Student.ipynb',\n",
       " 'Python_Session 21_10 Nov 2022_Exceptions+Exception Handling_Student.ipynb',\n",
       " 'Python_Session 22_12 Nov 2022_Python Environment_Student.ipynb',\n",
       " 'Python_Session 23_14 Nov 2022_Working with Files_Student.ipynb',\n",
       " 'Python_Session 2_6 Oct 2022_Student.ipynb',\n",
       " 'Python_Session 3_8 Oct 2022_Student.ipynb',\n",
       " 'Python_Session 4_10 Oct 2022_Student.ipynb',\n",
       " 'Python_Session 5&6_12&17 Oct 2022_Student.ipynb',\n",
       " 'Python_Session 6&7_17&19 Oct 2022_Student.ipynb',\n",
       " 'Python_Session 8_20 Oct 2022_Student.ipynb',\n",
       " 'Python_Session 9_22 Oct 2022_Student.ipynb',\n",
       " 'rumi.txt',\n",
       " 'titanic.csv',\n",
       " 'titanic_bayanlar.csv',\n",
       " 'titanic_vefat.csv']"
      ]
     },
     "execution_count": 16,
     "metadata": {},
     "output_type": "execute_result"
    }
   ],
   "source": [
    "files = os.listdir()\n",
    "files"
   ]
  },
  {
   "cell_type": "markdown",
   "id": "52fa68fd",
   "metadata": {
    "id": "52fa68fd"
   },
   "source": [
    "Now I have a variable called 'files', and I can keep the names of all the files in my working directory as strings in a list.\n",
    "\n",
    "This is a commonly used method. I can now do whatever I want with this data that I retrieved from my local. For example, we can use this list in a loop. Suppose there are tens of thousands of files in a directory. You can copy and archive these files somewhere.\n",
    "\n",
    "<hr>\n",
    "\n",
    "**You can also perform file archiving operations in Jupyter Notebook. There are some modules for this operation. Let's do an example with one of them.**"
   ]
  },
  {
   "cell_type": "markdown",
   "id": "72a96322",
   "metadata": {
    "id": "72a96322"
   },
   "source": [
    "## Archiving a folder with the \"shutil\" module."
   ]
  },
  {
   "cell_type": "code",
   "execution_count": null,
   "id": "eb9d1974",
   "metadata": {
    "id": "eb9d1974"
   },
   "outputs": [],
   "source": [
    "import shutil"
   ]
  },
  {
   "cell_type": "markdown",
   "id": "e50cad70",
   "metadata": {
    "id": "e50cad70"
   },
   "source": [
    "``shutil.make_archive(\n",
    "    base_name,\n",
    "    format,\n",
    "    root_dir=None,\n",
    "    base_dir=None,\n",
    "    verbose=0,\n",
    "    dry_run=0,\n",
    "    owner=None,\n",
    "    group=None,\n",
    "    logger=None,\n",
    ")\n",
    "Docstring:\n",
    "Create an archive file (eg. zip or tar).``"
   ]
  },
  {
   "cell_type": "code",
   "execution_count": null,
   "id": "b344f2b9",
   "metadata": {
    "id": "b344f2b9",
    "outputId": "bf7550f9-2657-4a92-8b3a-32e995064826"
   },
   "outputs": [
    {
     "data": {
      "text/plain": [
       "'C:\\\\Users\\\\edwin\\\\0. CURRENT WORKS\\\\0. PRE_DS\\\\1. NOTEBOOKS\\\\2. InClass & Lab Notebooks\\\\Session_Notebooks_updated\\\\files_zip.zip'"
      ]
     },
     "execution_count": 42,
     "metadata": {},
     "output_type": "execute_result"
    }
   ],
   "source": [
    "# archive the files in the Files directory:\n",
    "\n",
    "shutil.make_archive(\"files_zip\", \"zip\", \"Files\")\n",
    "\n",
    "# files_zip : The name of the archive file that will be created at the end of the process\n",
    "# zip : the format of archive\n",
    "# Files : The directory to be archived."
   ]
  },
  {
   "cell_type": "markdown",
   "id": "65d4dd67",
   "metadata": {
    "id": "65d4dd67"
   },
   "source": [
    "## Extract .zip file with \"zipfile\" module :"
   ]
  },
  {
   "cell_type": "code",
   "execution_count": null,
   "id": "e34361bf",
   "metadata": {
    "id": "e34361bf"
   },
   "outputs": [],
   "source": [
    "from zipfile import ZipFile\n",
    "\n",
    "with ZipFile(\"files_zip.zip\", \"r\") as files_zip:\n",
    "    files_zip.extractall()"
   ]
  },
  {
   "cell_type": "code",
   "execution_count": null,
   "id": "580b6455",
   "metadata": {
    "id": "580b6455"
   },
   "outputs": [],
   "source": [
    "# os.listdir()\n",
    "\n",
    "# see the files_zip.zip file "
   ]
  },
  {
   "cell_type": "markdown",
   "id": "0294e992",
   "metadata": {
    "id": "0294e992"
   },
   "source": [
    "# readlines() method\n",
    "\n",
    "**Return a list of lines from the stream.**\n",
    "\n",
    "**hint can be specified to control the number of lines read: no more\n",
    "lines will be read if the total size (in bytes/characters) of all\n",
    "lines so far exceeds hint.**"
   ]
  },
  {
   "cell_type": "code",
   "execution_count": null,
   "id": "de823dff",
   "metadata": {
    "id": "de823dff"
   },
   "outputs": [],
   "source": [
    "with open(\"fishes.txt\", \"r\", encoding = \"utf-8\") as file :\n",
    "    fish = file.readlines()"
   ]
  },
  {
   "cell_type": "code",
   "execution_count": null,
   "id": "42bb9fbb",
   "metadata": {
    "id": "42bb9fbb",
    "outputId": "e82fb965-3a34-4733-b748-3c6191e34b91"
   },
   "outputs": [
    {
     "data": {
      "text/plain": [
       "['Orca is a kind of Dolphin.\\n',\n",
       " 'Blue Whale is the largest animal known on earth.\\n',\n",
       " 'Sharks are the sister group to the Rays (batoids).\\n',\n",
       " 'The Tuna Fish can weigh up to 260 kg.\\n',\n",
       " 'Squid and Octopus are in the same class.']"
      ]
     },
     "execution_count": 22,
     "metadata": {},
     "output_type": "execute_result"
    }
   ],
   "source": [
    "fish"
   ]
  },
  {
   "cell_type": "code",
   "execution_count": null,
   "id": "b5ab863e",
   "metadata": {
    "id": "b5ab863e",
    "outputId": "5f6db1c6-699d-42af-b29e-fce20fd52e3a"
   },
   "outputs": [
    {
     "data": {
      "text/plain": [
       "list"
      ]
     },
     "execution_count": 23,
     "metadata": {},
     "output_type": "execute_result"
    }
   ],
   "source": [
    "type(fish)"
   ]
  },
  {
   "cell_type": "code",
   "execution_count": null,
   "id": "ccd7d2ed",
   "metadata": {
    "id": "ccd7d2ed",
    "outputId": "8a725914-63c8-4e57-89d3-02b51098438e"
   },
   "outputs": [
    {
     "name": "stdout",
     "output_type": "stream",
     "text": [
      "Orca is a kind of Dolphin.\n",
      "\n",
      "Blue Whale is the largest animal known on earth.\n",
      "\n",
      "Sharks are the sister group to the Rays (batoids).\n",
      "\n",
      "The Tuna Fish can weigh up to 260 kg.\n",
      "\n",
      "Squid and Octopus are in the same class.\n"
     ]
    }
   ],
   "source": [
    "for line in fish:\n",
    "    print(line)"
   ]
  },
  {
   "cell_type": "code",
   "execution_count": null,
   "id": "bbbfe1db",
   "metadata": {
    "id": "bbbfe1db"
   },
   "outputs": [],
   "source": [
    "with open(\"rumi.txt\", \"r\") as file :\n",
    "    rumi = file.readlines()  # return a list from the stream"
   ]
  },
  {
   "cell_type": "code",
   "execution_count": null,
   "id": "40160bf3",
   "metadata": {
    "id": "40160bf3",
    "outputId": "493761b6-b3f4-4da5-ea9f-76a68b348519"
   },
   "outputs": [
    {
     "data": {
      "text/plain": [
       "['I want to sing\\n',\n",
       " 'Like the birds sing,\\n',\n",
       " 'Not worrying about\\n',\n",
       " 'Who hears or\\n',\n",
       " 'What they think.']"
      ]
     },
     "execution_count": 26,
     "metadata": {},
     "output_type": "execute_result"
    }
   ],
   "source": [
    "rumi"
   ]
  },
  {
   "cell_type": "code",
   "execution_count": null,
   "id": "89d0dba4",
   "metadata": {
    "id": "89d0dba4",
    "outputId": "71d48a1e-d0b3-4fae-e9ec-d1077845238f"
   },
   "outputs": [
    {
     "name": "stdout",
     "output_type": "stream",
     "text": [
      "Orca is a kind of Dolphin.\n",
      "\n",
      "Blue Whale is the largest animal known on earth.\n",
      "\n",
      "Sharks are the sister group to the Rays (batoids).\n",
      "\n",
      "The Tuna Fish can weigh up to 260 kg.\n",
      "\n",
      "Squid and Octopus are in the same class.\n"
     ]
    }
   ],
   "source": [
    "with open(\"fishes.txt\", \"r\") as file :\n",
    "    for line in file :\n",
    "        print(line)"
   ]
  },
  {
   "cell_type": "markdown",
   "id": "693eb177",
   "metadata": {
    "id": "693eb177"
   },
   "source": [
    "<a id=\"toc\"></a>\n",
    "\n",
    "## <p style=\"background-color:#9d4f8c; font-family:newtimeroman; color:#FFF9ED; font-size:175%; text-align:center; border-radius:10px 10px;\">Writing Files</p>"
   ]
  },
  {
   "cell_type": "markdown",
   "id": "a65f975a",
   "metadata": {
    "id": "a65f975a"
   },
   "source": [
    "# write() method\n",
    "\n",
    "**Write string to stream.**\n",
    "\n",
    "**Returns the number of characters written (which is always equal to\n",
    "the length of the string)**"
   ]
  },
  {
   "cell_type": "code",
   "execution_count": null,
   "id": "4a4a4334",
   "metadata": {
    "id": "4a4a4334",
    "outputId": "e7cf0201-526f-4024-80a5-37a0146dc578"
   },
   "outputs": [
    {
     "name": "stdout",
     "output_type": "stream",
     "text": [
      "This is the first line of my text file\n"
     ]
    }
   ],
   "source": [
    "with open(\"dummy_file.txt\", \"w\", encoding =\"utf-8\") as file :\n",
    "    file.write(\"This is the first line of my text file\")\n",
    "    \n",
    "with open(\"dummy_file.txt\", \"r\", encoding=\"utf-8\") as file:\n",
    "    print(file.read())"
   ]
  },
  {
   "cell_type": "code",
   "execution_count": null,
   "id": "898e2489",
   "metadata": {
    "id": "898e2489",
    "outputId": "ac8ec303-e6cb-44fc-c7ca-fcdfdd3e1eeb"
   },
   "outputs": [
    {
     "name": "stdout",
     "output_type": "stream",
     "text": [
      " Volume in drive C has no label.\n",
      " Volume Serial Number is 6815-6880\n",
      "\n",
      " Directory of C:\\Users\\edwin\\0. CURRENT WORKS\\0. ITF_COHORT012&13\\NOTEBOOKS\\4. Ders sonu notebook_Cohort13\\InClass Session Notebooks\n",
      "\n",
      "14.11.2022  22:10    <DIR>          .\n",
      "14.11.2022  22:10    <DIR>          ..\n",
      "14.11.2022  20:17    <DIR>          .ipynb_checkpoints\n",
      "14.11.2022  21:43    <DIR>          dosyalar\n",
      "14.11.2022  21:39             1.975 dosyalar_zip.zip\n",
      "14.11.2022  22:09                38 dummy_file.txt\n",
      "22.05.2021  12:17               209 fishes.txt\n",
      "15.07.2022  22:27                43 fruits.txt\n",
      "15.07.2022  22:35                86 fruits2.txt\n",
      "15.07.2022  22:40                96 fruits3.txt\n",
      "25.10.2022  00:13         1.889.698 Hamburger.png\n",
      "10.11.2022  23:35             1.724 istiklal.txt\n",
      "27.10.2022  02:19             9.801 iyi_‡al�Ÿmalar.png\n",
      "03.11.2022  02:16           436.485 Python_Session 1_5 Oct 2022_Student.ipynb\n",
      "10.11.2022  01:20            60.013 Python_Session 10_24 Oct 2022_Student.ipynb\n",
      "10.11.2022  01:20            43.047 Python_Session 11_26 Oct 2022_Student.ipynb\n",
      "10.11.2022  01:20           394.455 Python_Session 12_27 Oct 2022_Student.ipynb\n",
      "10.11.2022  01:19           387.833 Python_Session 13&14_29&31 Oct 2022_Student_updated.ipynb\n",
      "03.11.2022  02:11           403.390 Python_Session 15_2 Nov 2022_Functions_Student.ipynb\n",
      "10.11.2022  01:17           105.928 Python_Session 16_3 Nov 2022_Functions_Student.ipynb\n",
      "10.11.2022  01:18           152.382 Python_Session 17 & 18_5&7 Nov 2022_Functions (Matter of Arguments)_Student.ipynb\n",
      "10.11.2022  01:16            27.243 Python_Session 18_7 Nov 2022_Functions (Lambda Functions)_Student.ipynb\n",
      "10.11.2022  01:16           144.055 Python_Session 19_9 Nov 2022_Uses of Lambda Functions_Student.ipynb\n",
      "03.11.2022  02:16           146.343 Python_Session 2_6 Oct 2022_Student.ipynb\n",
      "11.11.2022  16:10            52.878 Python_Session 20_10 Nov 2022_Packages&Modules_Student.ipynb\n",
      "14.11.2022  20:16            20.761 Python_Session 21_10 Nov 2022_Exceptions+Exception Handling_Student.ipynb\n",
      "12.11.2022  22:16         2.870.338 Python_Session 22_12 Nov 2022_Python Environment_Student.ipynb\n",
      "14.11.2022  22:10            46.562 Python_Session 23_14 Nov 2022_Working with Files_Student.ipynb\n",
      "03.11.2022  02:15           388.620 Python_Session 3_8 Oct 2022_Student.ipynb\n",
      "03.11.2022  02:15           819.333 Python_Session 4_10 Oct 2022_Student.ipynb\n",
      "03.11.2022  02:15            51.307 Python_Session 5&6_12&17 Oct 2022_Student.ipynb\n",
      "03.11.2022  02:15            53.081 Python_Session 6&7_17&19 Oct 2022_Student.ipynb\n",
      "03.11.2022  02:15            44.594 Python_Session 8_20 Oct 2022_Student.ipynb\n",
      "03.11.2022  02:14            53.468 Python_Session 9_22 Oct 2022_Student.ipynb\n",
      "22.05.2021  12:35                88 rumi.txt\n",
      "14.07.2022  14:14            61.194 titanic.csv\n",
      "15.07.2022  23:11            24.510 titanic_bayanlar.csv\n",
      "15.07.2022  23:13            36.929 titanic_vefat.csv\n",
      "              34 File(s)      8.728.507 bytes\n",
      "               4 Dir(s)  368.104.951.808 bytes free\n"
     ]
    }
   ],
   "source": [
    "ls"
   ]
  },
  {
   "cell_type": "code",
   "execution_count": null,
   "id": "642b1fec",
   "metadata": {
    "id": "642b1fec",
    "outputId": "a1e4df55-a4d7-49b4-e45f-c8b6533e83a5"
   },
   "outputs": [
    {
     "name": "stdout",
     "output_type": "stream",
     "text": [
      "This is the new line of my dummy_file.txt file\n"
     ]
    }
   ],
   "source": [
    "with open(\"dummy_file.txt\", \"w\", encoding =\"utf-8\") as file :\n",
    "    file.write(\"This is the new line of my dummy_file.txt file\")\n",
    "    \n",
    "with open(\"dummy_file.txt\", \"r\", encoding=\"utf-8\") as file:\n",
    "    print(file.read())"
   ]
  },
  {
   "cell_type": "markdown",
   "id": "c93a3bde",
   "metadata": {
    "id": "c93a3bde"
   },
   "source": [
    "**Task : Use the same list of fruits names,** \n",
    "\n",
    "**Modify the list for use,\n",
    "Overwrite them to the same fruits.txt file each on separate lines one after another.**"
   ]
  },
  {
   "cell_type": "code",
   "execution_count": null,
   "id": "748fa8d6",
   "metadata": {
    "id": "748fa8d6"
   },
   "outputs": [],
   "source": [
    "fruits = ['Banana', 'Orange', 'Apple', 'Strawberry', 'Cherry']"
   ]
  },
  {
   "cell_type": "code",
   "execution_count": null,
   "id": "9aff0c56",
   "metadata": {
    "id": "9aff0c56",
    "outputId": "b2dd6218-4ded-47f9-c30d-ffc40d577b4d"
   },
   "outputs": [
    {
     "name": "stdout",
     "output_type": "stream",
     "text": [
      "Banana\n",
      "Orange\n",
      "Apple\n",
      "Strawberry\n",
      "Cherry\n",
      "\n"
     ]
    }
   ],
   "source": [
    "with open(\"fruits.txt\", \"w\", encoding=\"utf-8\") as dosyam :\n",
    "    for meyve in fruits :\n",
    "        dosyam.write(meyve + \"\\n\")\n",
    "        \n",
    "with open(\"fruits.txt\", \"r\") as file:\n",
    "    print(file.read())"
   ]
  },
  {
   "cell_type": "markdown",
   "id": "f254f1ac",
   "metadata": {
    "id": "f254f1ac"
   },
   "source": [
    "# writelines() method\n",
    "\n",
    "**Built-in mutable sequence.**\n",
    "\n",
    "**If no argument is given, the constructor creates a new empty list.**\n",
    "\n",
    "**The argument must be an iterable if specified.**"
   ]
  },
  {
   "cell_type": "code",
   "execution_count": null,
   "id": "7bec5114",
   "metadata": {
    "id": "7bec5114",
    "outputId": "305bb5de-acbf-40e4-f12e-8ed2cb3777ab"
   },
   "outputs": [
    {
     "data": {
      "text/plain": [
       "['Banana\\n', 'Orange\\n', 'Apple\\n', 'Strawberry\\n', 'Cherry\\n']"
      ]
     },
     "execution_count": 35,
     "metadata": {},
     "output_type": "execute_result"
    }
   ],
   "source": [
    "with open(\"fruits.txt\") as file:\n",
    "    fruits_1 = file.readlines()\n",
    "    \n",
    "fruits_1"
   ]
  },
  {
   "cell_type": "code",
   "execution_count": null,
   "id": "75eadd7e",
   "metadata": {
    "id": "75eadd7e"
   },
   "outputs": [],
   "source": [
    "with open(\"fruits9.txt\", \"w\", encoding=\"utf-8\") as ff :\n",
    "    ff.writelines(fruits_1)"
   ]
  },
  {
   "cell_type": "code",
   "execution_count": null,
   "id": "c70ec45c",
   "metadata": {
    "id": "c70ec45c",
    "outputId": "abaff135-ffe4-454e-81d3-cbf5de2592ad"
   },
   "outputs": [
    {
     "name": "stdout",
     "output_type": "stream",
     "text": [
      "Banana\n",
      "Orange\n",
      "Apple\n",
      "Strawberry\n",
      "Cherry\n",
      "\n"
     ]
    }
   ],
   "source": [
    "with open(\"fruits9.txt\", \"r\", encoding=\"utf-8\") as ff :\n",
    "    print(ff.read())"
   ]
  },
  {
   "cell_type": "code",
   "execution_count": null,
   "id": "dac45685",
   "metadata": {
    "id": "dac45685"
   },
   "outputs": [],
   "source": [
    "with open(\"fruits9.txt\", \"a\", encoding=\"utf-8\") as ff :\n",
    "    ff.writelines(fruits_1)"
   ]
  },
  {
   "cell_type": "code",
   "execution_count": null,
   "id": "70881c7e",
   "metadata": {
    "id": "70881c7e",
    "outputId": "8145a66d-9e77-4585-d702-8673aa04314b"
   },
   "outputs": [
    {
     "name": "stdout",
     "output_type": "stream",
     "text": [
      "Banana\n",
      "Orange\n",
      "Apple\n",
      "Strawberry\n",
      "Cherry\n",
      "Banana\n",
      "Orange\n",
      "Apple\n",
      "Strawberry\n",
      "Cherry\n",
      "\n"
     ]
    }
   ],
   "source": [
    "with open(\"fruits9.txt\", \"r\", encoding=\"utf-8\") as ff :\n",
    "    print(ff.read())"
   ]
  },
  {
   "cell_type": "code",
   "execution_count": null,
   "id": "036ceb51",
   "metadata": {
    "id": "036ceb51",
    "outputId": "f9393891-cd2e-4273-ad72-cca28a41e47c"
   },
   "outputs": [
    {
     "data": {
      "text/plain": [
       "['Banana\\n', 'Orange\\n', 'Apple\\n', 'Strawberry\\n', 'Cherry\\n']"
      ]
     },
     "execution_count": 40,
     "metadata": {},
     "output_type": "execute_result"
    }
   ],
   "source": [
    "fruits_1"
   ]
  },
  {
   "cell_type": "markdown",
   "id": "5d00615a",
   "metadata": {
    "id": "5d00615a"
   },
   "source": [
    "## adding a list to a list by using \"+\" operator"
   ]
  },
  {
   "cell_type": "code",
   "execution_count": null,
   "id": "80e74908",
   "metadata": {
    "id": "80e74908",
    "outputId": "a42a8ff4-58b3-49bd-886a-ab68f442f2d6"
   },
   "outputs": [
    {
     "data": {
      "text/plain": [
       "['Banana\\n', 'Orange\\n', 'Apple\\n', 'Strawberry\\n', 'Cherry\\n', 'Lemon']"
      ]
     },
     "execution_count": 42,
     "metadata": {},
     "output_type": "execute_result"
    }
   ],
   "source": [
    "fruits_2 = fruits_1 + [\"Lemon\"]\n",
    "fruits_2"
   ]
  },
  {
   "cell_type": "code",
   "execution_count": null,
   "id": "71beb265",
   "metadata": {
    "id": "71beb265",
    "outputId": "da99acf3-9e51-4d36-9f3b-e825230f2892"
   },
   "outputs": [
    {
     "data": {
      "text/plain": [
       "[1, 2, 3, 4]"
      ]
     },
     "execution_count": 43,
     "metadata": {},
     "output_type": "execute_result"
    }
   ],
   "source": [
    "a =  [1,2,3]\n",
    "b = a + [4]\n",
    "b"
   ]
  },
  {
   "cell_type": "markdown",
   "id": "100ecbb3",
   "metadata": {
    "id": "100ecbb3"
   },
   "source": [
    "**Task : Let's add 'melon' to our existing fruits.txt file as the last line,**\n",
    "\n",
    "**Read and display the entire file content,**\n",
    "\n",
    "**Read and display the entire file content line by line in a list form.**"
   ]
  },
  {
   "cell_type": "code",
   "execution_count": null,
   "id": "a2fb4cc7",
   "metadata": {
    "id": "a2fb4cc7",
    "outputId": "b0798900-9cce-4bfc-856c-4000a92a6a8c"
   },
   "outputs": [
    {
     "name": "stdout",
     "output_type": "stream",
     "text": [
      "Banana\n",
      "Orange\n",
      "Apple\n",
      "Strawberry\n",
      "Cherry\n",
      "Lemon\n"
     ]
    }
   ],
   "source": [
    "with open(\"fruits_9\", \"w\", encoding=\"utf-8\") as ff :\n",
    "    ff.writelines(fruits_2)\n",
    "    \n",
    "with open(\"fruits_9\", \"r\", encoding=\"utf-8\") as ff :\n",
    "    print(ff.read())"
   ]
  },
  {
   "cell_type": "code",
   "execution_count": null,
   "id": "54f7d3f6",
   "metadata": {
    "id": "54f7d3f6",
    "outputId": "b3540baa-c5d2-4f8b-a118-3ca9636a0070"
   },
   "outputs": [
    {
     "name": "stdout",
     "output_type": "stream",
     "text": [
      "Banana\n",
      "Orange\n",
      "Apple\n",
      "Strawberry\n",
      "Cherry\n",
      "LemonBanana\n",
      "Orange\n",
      "Apple\n",
      "Strawberry\n",
      "Cherry\n",
      "Lemon\n"
     ]
    }
   ],
   "source": [
    "with open(\"fruits_9\", \"a\", encoding=\"utf-8\") as ff :\n",
    "    ff.writelines(fruits_2)\n",
    "\n",
    "with open(\"fruits_9\", \"r\", encoding=\"utf-8\") as ff :\n",
    "    print(ff.read())"
   ]
  },
  {
   "cell_type": "markdown",
   "id": "98c9485f",
   "metadata": {
    "id": "98c9485f"
   },
   "source": [
    "## Task : let's take one of the longer poems and do some exercises :\n",
    "\n",
    "For example, **William Wordsworth's 'Daffodils'** poem.\n",
    "\n",
    "This poem is one of the most famous examples of English Romanticism and is concerned with nature, human emotions, and imagination.\n",
    "\n",
    "Let's download the Daffodils.txt file and paste it into the working directory."
   ]
  },
  {
   "cell_type": "markdown",
   "id": "e78684e1",
   "metadata": {
    "id": "e78684e1"
   },
   "source": [
    "### 1. Read and print out the poem."
   ]
  },
  {
   "cell_type": "code",
   "execution_count": null,
   "id": "2e197aaf",
   "metadata": {
    "id": "2e197aaf",
    "outputId": "adbc727e-0a65-4e78-a0d2-ab4b43f2b107"
   },
   "outputs": [
    {
     "name": "stdout",
     "output_type": "stream",
     "text": [
      "I wandered lonely as a cloud\n",
      "That floats on high o'er vales and hills,\n",
      "When all at once I saw a crowd,\n",
      "A host, of golden daffodils;\n",
      "Beside the lake, beneath the trees,\n",
      "Fluttering and dancing in the breeze.\n",
      "Continuous as the stars that shine\n",
      "And twinkle on the milky way,\n",
      "They stretched in never-ending line\n",
      "Along the margin of a bay:\n",
      "Ten thousand saw I at a glance,\n",
      "Tossing their heads in sprightly dance.\n",
      "The waves beside them danced, but they\n",
      "Out-did the sparkling waves in glee:\n",
      "A poet could not be but gay,\n",
      "In such a jocund company:\n",
      "I gazed'and gazed'but little thought\n",
      "What wealth the show to me had brought:\n",
      "For oft, when on my couch I lie\n",
      "In vacant or in pensive mood,\n",
      "They flash upon that inward eye\n",
      "Which is the bliss of solitude;\n",
      "And then my heart with pleasure fills,\n",
      "And dances with the daffodils.\n"
     ]
    }
   ],
   "source": [
    "with open(\"Daffodils.txt\", \"r\", encoding = \"utf-8\") as file :\n",
    "    print(file.read())"
   ]
  },
  {
   "cell_type": "markdown",
   "id": "222ec020",
   "metadata": {
    "id": "222ec020"
   },
   "source": [
    "### 2. Add a new line every 6 lines, and write the new version of the poem back to the same file.\n",
    "\n",
    "The final output will look like this:"
   ]
  },
  {
   "cell_type": "raw",
   "id": "4e1e524c",
   "metadata": {
    "id": "4e1e524c"
   },
   "source": [
    "I wandered lonely as a cloud\n",
    "That floats on high o'er vales and hills,\n",
    "When all at once I saw a crowd,\n",
    "A host, of golden daffodils;\n",
    "Beside the lake, beneath the trees,\n",
    "Fluttering and dancing in the breeze.\n",
    "\n",
    "Continuous as the stars that shine\n",
    "And twinkle on the milky way,\n",
    "They stretched in never-ending line\n",
    "Along the margin of a bay:\n",
    "Ten thousand saw I at a glance,\n",
    "Tossing their heads in sprightly dance.\n",
    "\n",
    "The waves beside them danced, but they\n",
    "Out-did the sparkling waves in glee:\n",
    "A poet could not be but gay,\n",
    "In such a jocund company:\n",
    "I gazed'and gazed'but little thought\n",
    "What wealth the show to me had brought:\n",
    "\n",
    "For oft, when on my couch I lie\n",
    "In vacant or in pensive mood,\n",
    "They flash upon that inward eye\n",
    "Which is the bliss of solitude;\n",
    "And then my heart with pleasure fills,\n",
    "And dances with the daffodils."
   ]
  },
  {
   "cell_type": "markdown",
   "id": "857abf2f",
   "metadata": {
    "id": "857abf2f"
   },
   "source": [
    "<hr>\n",
    "\n",
    "I will add a new line (enter) every 6 lines.<br>\n",
    "So I should do this operation at multiples of 6.<br>\n",
    "But how can we determine if a number is a multiple of 6?<br>\n",
    "Yes, with modulus 6.<br>\n",
    "If a number is divisible by 6 without remainder, it is a multiple of 6.<br>\n",
    "So, if the modulus of a number divided by 6 returns 0, then that number is a multiple of 6."
   ]
  },
  {
   "cell_type": "markdown",
   "id": "c4c933e3",
   "metadata": {
    "id": "c4c933e3"
   },
   "source": [
    "<hr>\n",
    "\n",
    "So, we need to use a counter.<br>\n",
    "And we need to read the text line by line to traverse the lines.<br>\n",
    "For this, we should use the readlines() method."
   ]
  },
  {
   "cell_type": "code",
   "execution_count": null,
   "id": "edab907a",
   "metadata": {
    "id": "edab907a",
    "outputId": "55509c4a-3b92-4c56-f020-bdc2a7c0324d"
   },
   "outputs": [
    {
     "data": {
      "text/plain": [
       "['I wandered lonely as a cloud\\n',\n",
       " \"That floats on high o'er vales and hills,\\n\",\n",
       " 'When all at once I saw a crowd,\\n',\n",
       " 'A host, of golden daffodils;\\n',\n",
       " 'Beside the lake, beneath the trees,\\n',\n",
       " 'Fluttering and dancing in the breeze.\\n',\n",
       " 'Continuous as the stars that shine\\n',\n",
       " 'And twinkle on the milky way,\\n',\n",
       " 'They stretched in never-ending line\\n',\n",
       " 'Along the margin of a bay:\\n',\n",
       " 'Ten thousand saw I at a glance,\\n',\n",
       " 'Tossing their heads in sprightly dance.\\n',\n",
       " 'The waves beside them danced, but they\\n',\n",
       " 'Out-did the sparkling waves in glee:\\n',\n",
       " 'A poet could not be but gay,\\n',\n",
       " 'In such a jocund company:\\n',\n",
       " \"I gazed'and gazed'but little thought\\n\",\n",
       " 'What wealth the show to me had brought:\\n',\n",
       " 'For oft, when on my couch I lie\\n',\n",
       " 'In vacant or in pensive mood,\\n',\n",
       " 'They flash upon that inward eye\\n',\n",
       " 'Which is the bliss of solitude;\\n',\n",
       " 'And then my heart with pleasure fills,\\n',\n",
       " 'And dances with the daffodils.']"
      ]
     },
     "execution_count": 24,
     "metadata": {},
     "output_type": "execute_result"
    }
   ],
   "source": [
    "# First use the readlines() and see the output:\n",
    "\n",
    "with open(\"Daffodils.txt\", \"r\", encoding = \"utf-8\") as file :\n",
    "    lines = file.readlines()\n",
    "    \n",
    "lines"
   ]
  },
  {
   "cell_type": "markdown",
   "id": "25c53a20",
   "metadata": {
    "id": "25c53a20"
   },
   "source": [
    "Here is a list consisting of the lines of a poem as its elements.\n",
    "\n",
    "Now we can traverse and process this list using a for loop."
   ]
  },
  {
   "cell_type": "code",
   "execution_count": null,
   "id": "5b06835a",
   "metadata": {
    "id": "5b06835a"
   },
   "outputs": [],
   "source": [
    "counter = 0\n",
    "\n",
    "with open(\"Daffodils.txt\", \"w\", encoding=\"utf-8\") as file:\n",
    "    \n",
    "    for i in lines:\n",
    "        counter +=1\n",
    "        if counter % 6 == 0 :\n",
    "            file.write(i + \"\\n\")\n",
    "            \n",
    "        else:\n",
    "            file.write(i)"
   ]
  },
  {
   "cell_type": "code",
   "execution_count": null,
   "id": "9c03910b",
   "metadata": {
    "id": "9c03910b",
    "outputId": "d117e8c9-afe1-4f9f-bc26-26badc51a35e"
   },
   "outputs": [
    {
     "name": "stdout",
     "output_type": "stream",
     "text": [
      "I wandered lonely as a cloud\n",
      "That floats on high o'er vales and hills,\n",
      "When all at once I saw a crowd,\n",
      "A host, of golden daffodils;\n",
      "Beside the lake, beneath the trees,\n",
      "Fluttering and dancing in the breeze.\n",
      "\n",
      "Continuous as the stars that shine\n",
      "And twinkle on the milky way,\n",
      "They stretched in never-ending line\n",
      "Along the margin of a bay:\n",
      "Ten thousand saw I at a glance,\n",
      "Tossing their heads in sprightly dance.\n",
      "\n",
      "The waves beside them danced, but they\n",
      "Out-did the sparkling waves in glee:\n",
      "A poet could not be but gay,\n",
      "In such a jocund company:\n",
      "I gazed'and gazed'but little thought\n",
      "What wealth the show to me had brought:\n",
      "\n",
      "For oft, when on my couch I lie\n",
      "In vacant or in pensive mood,\n",
      "They flash upon that inward eye\n",
      "Which is the bliss of solitude;\n",
      "And then my heart with pleasure fills,\n",
      "And dances with the daffodils.\n",
      "\n"
     ]
    }
   ],
   "source": [
    "with open(\"Daffodils.txt\", \"r\", encoding = \"utf-8\") as file :\n",
    "    print(file.read())"
   ]
  },
  {
   "cell_type": "markdown",
   "id": "1f7de962",
   "metadata": {
    "id": "1f7de962"
   },
   "source": [
    "<hr>\n",
    "\n",
    "See, we have divided the poem into stanzas and added a new line every 6 lines using Python. \n",
    "\n",
    "We edited a file.\n",
    "<hr>"
   ]
  },
  {
   "cell_type": "markdown",
   "id": "3f616ac2",
   "metadata": {
    "id": "3f616ac2"
   },
   "source": [
    "### 3. Let's reverse this process now. We will remove the new lines and restore the poem to its original form. \n",
    "\n",
    "**However, we will append the original version to the end of the file without overwriting it.**\n",
    "\n",
    "**The file will contain the stanza-separated version first, and then the version without new lines.**"
   ]
  },
  {
   "cell_type": "code",
   "execution_count": null,
   "id": "aa599c82",
   "metadata": {
    "id": "aa599c82"
   },
   "outputs": [],
   "source": [
    "with open(\"Daffodils.txt\", \"r\", encoding = \"utf-8\") as file :\n",
    "    lines_new = file.readlines()"
   ]
  },
  {
   "cell_type": "code",
   "execution_count": null,
   "id": "250e14b4",
   "metadata": {
    "id": "250e14b4",
    "outputId": "4e1388f0-4621-44da-8dc7-4e052fed8c55"
   },
   "outputs": [
    {
     "data": {
      "text/plain": [
       "['I wandered lonely as a cloud\\n',\n",
       " \"That floats on high o'er vales and hills,\\n\",\n",
       " 'When all at once I saw a crowd,\\n',\n",
       " 'A host, of golden daffodils;\\n',\n",
       " 'Beside the lake, beneath the trees,\\n',\n",
       " 'Fluttering and dancing in the breeze.\\n',\n",
       " '\\n',\n",
       " 'Continuous as the stars that shine\\n',\n",
       " 'And twinkle on the milky way,\\n',\n",
       " 'They stretched in never-ending line\\n',\n",
       " 'Along the margin of a bay:\\n',\n",
       " 'Ten thousand saw I at a glance,\\n',\n",
       " 'Tossing their heads in sprightly dance.\\n',\n",
       " '\\n',\n",
       " 'The waves beside them danced, but they\\n',\n",
       " 'Out-did the sparkling waves in glee:\\n',\n",
       " 'A poet could not be but gay,\\n',\n",
       " 'In such a jocund company:\\n',\n",
       " \"I gazed'and gazed'but little thought\\n\",\n",
       " 'What wealth the show to me had brought:\\n',\n",
       " '\\n',\n",
       " 'For oft, when on my couch I lie\\n',\n",
       " 'In vacant or in pensive mood,\\n',\n",
       " 'They flash upon that inward eye\\n',\n",
       " 'Which is the bliss of solitude;\\n',\n",
       " 'And then my heart with pleasure fills,\\n',\n",
       " 'And dances with the daffodils.\\n']"
      ]
     },
     "execution_count": 28,
     "metadata": {},
     "output_type": "execute_result"
    }
   ],
   "source": [
    "lines_new"
   ]
  },
  {
   "cell_type": "markdown",
   "id": "839c0d6e",
   "metadata": {
    "id": "839c0d6e"
   },
   "source": [
    "<hr>\n",
    "\n",
    "**You can solve this by iterating over the lines and implementing a condition to remove the new lines :**\n",
    "<hr>"
   ]
  },
  {
   "cell_type": "markdown",
   "id": "6767f3a9",
   "metadata": {
    "id": "6767f3a9"
   },
   "source": [
    "Since the final version will be preserved and the new version will be added below it, we should use the \"a\" mode.\n",
    "\n",
    "iterate over the lines in the lines_new list using a loop.\n",
    "\n",
    "write the lines that meet the condition to the file with \"a\" mode, \n",
    "\n",
    "and skip the ones that do not meet the condition.\n",
    "\n",
    "look at the elements of the list, which are the lines of the poem. If a line consists of only a \"newline\" character, not write it. If it is a line belonging to the poem and not just a newline character, then write it. This way, we will remove the newlines:"
   ]
  },
  {
   "cell_type": "code",
   "execution_count": null,
   "id": "d2e61fb2",
   "metadata": {
    "id": "d2e61fb2",
    "outputId": "c8ac053a-7b04-41a0-ddf3-a89b5e5d2e83"
   },
   "outputs": [
    {
     "name": "stdout",
     "output_type": "stream",
     "text": [
      "I wandered lonely as a cloud\n",
      "That floats on high o'er vales and hills,\n",
      "When all at once I saw a crowd,\n",
      "A host, of golden daffodils;\n",
      "Beside the lake, beneath the trees,\n",
      "Fluttering and dancing in the breeze.\n",
      "\n",
      "Continuous as the stars that shine\n",
      "And twinkle on the milky way,\n",
      "They stretched in never-ending line\n",
      "Along the margin of a bay:\n",
      "Ten thousand saw I at a glance,\n",
      "Tossing their heads in sprightly dance.\n",
      "\n",
      "The waves beside them danced, but they\n",
      "Out-did the sparkling waves in glee:\n",
      "A poet could not be but gay,\n",
      "In such a jocund company:\n",
      "I gazed'and gazed'but little thought\n",
      "What wealth the show to me had brought:\n",
      "\n",
      "For oft, when on my couch I lie\n",
      "In vacant or in pensive mood,\n",
      "They flash upon that inward eye\n",
      "Which is the bliss of solitude;\n",
      "And then my heart with pleasure fills,\n",
      "And dances with the daffodils.\n",
      "I wandered lonely as a cloud\n",
      "That floats on high o'er vales and hills,\n",
      "When all at once I saw a crowd,\n",
      "A host, of golden daffodils;\n",
      "Beside the lake, beneath the trees,\n",
      "Fluttering and dancing in the breeze.\n",
      "Continuous as the stars that shine\n",
      "And twinkle on the milky way,\n",
      "They stretched in never-ending line\n",
      "Along the margin of a bay:\n",
      "Ten thousand saw I at a glance,\n",
      "Tossing their heads in sprightly dance.\n",
      "The waves beside them danced, but they\n",
      "Out-did the sparkling waves in glee:\n",
      "A poet could not be but gay,\n",
      "In such a jocund company:\n",
      "I gazed'and gazed'but little thought\n",
      "What wealth the show to me had brought:\n",
      "For oft, when on my couch I lie\n",
      "In vacant or in pensive mood,\n",
      "They flash upon that inward eye\n",
      "Which is the bliss of solitude;\n",
      "And then my heart with pleasure fills,\n",
      "And dances with the daffodils.\n",
      "I wandered lonely as a cloud\n",
      "That floats on high o'er vales and hills,\n",
      "When all at once I saw a crowd,\n",
      "A host, of golden daffodils;\n",
      "Beside the lake, beneath the trees,\n",
      "Fluttering and dancing in the breeze.\n",
      "Continuous as the stars that shine\n",
      "And twinkle on the milky way,\n",
      "They stretched in never-ending line\n",
      "Along the margin of a bay:\n",
      "Ten thousand saw I at a glance,\n",
      "Tossing their heads in sprightly dance.\n",
      "The waves beside them danced, but they\n",
      "Out-did the sparkling waves in glee:\n",
      "A poet could not be but gay,\n",
      "In such a jocund company:\n",
      "I gazed'and gazed'but little thought\n",
      "What wealth the show to me had brought:\n",
      "For oft, when on my couch I lie\n",
      "In vacant or in pensive mood,\n",
      "They flash upon that inward eye\n",
      "Which is the bliss of solitude;\n",
      "And then my heart with pleasure fills,\n",
      "And dances with the daffodils.\n",
      "\n"
     ]
    }
   ],
   "source": [
    "with open(\"Daffodils.txt\", \"a\", encoding=\"utf-8\") as f:\n",
    "    \n",
    "    for i in lines_new:\n",
    "        if i == \"\\n\" :\n",
    "            pass\n",
    "        else :\n",
    "            f.write(i)\n",
    "            \n",
    "with open(\"Daffodils.txt\", \"r\", encoding = \"utf-8\") as file :\n",
    "    print(file.read())"
   ]
  },
  {
   "cell_type": "markdown",
   "id": "fab7acb4",
   "metadata": {
    "id": "fab7acb4"
   },
   "source": [
    "<a id=\"toc\"></a>\n",
    "\n",
    "## <p style=\"background-color:#9d4f8c; font-family:newtimeroman; color:#FFF9ED; font-size:175%; text-align:center; border-radius:10px 10px;\">Reading&Writing CSV Files</p>"
   ]
  },
  {
   "cell_type": "markdown",
   "id": "e6d575f3",
   "metadata": {
    "id": "e6d575f3"
   },
   "source": [
    "**Python official document - CSV File Reading and Writing:   https://docs.python.org/3/library/csv.html**\n",
    "\n",
    "**Link2 - Reading CSV files in python: https://www.geeksforgeeks.org/reading-csv-files-in-python/**\n",
    "\n",
    "**Link2 - Writing CSV files in python: https://www.geeksforgeeks.org/writing-csv-files-in-python/**\n",
    "\n",
    "**Link3 - IO tools (text, CSV, HDF5, …): https://pandas.pydata.org/pandas-docs/stable/user_guide/io.html**"
   ]
  },
  {
   "cell_type": "markdown",
   "id": "d283ad2a",
   "metadata": {
    "id": "d283ad2a"
   },
   "source": [
    "![python.exe](https://drive.google.com/uc?id=1bFUgVGTROgkba8BH_gmoxvm_2H3mYm77)"
   ]
  },
  {
   "cell_type": "markdown",
   "id": "8fb5a2dc",
   "metadata": {
    "id": "8fb5a2dc"
   },
   "source": [
    "<a id=\"toc\"></a>\n",
    "\n",
    "## <p style=\"background-color:#F39C12; font-family:newtimeroman; color:#FFF9ED; font-size:125%; text-align:center; border-radius:10px 10px;\">1. Ordinary Reading Method of CSV Files</p>"
   ]
  },
  {
   "cell_type": "code",
   "execution_count": null,
   "id": "0117d337",
   "metadata": {
    "id": "0117d337",
    "outputId": "43414c64-b2a5-4da2-8edf-397fc101fc45"
   },
   "outputs": [
    {
     "name": "stdout",
     "output_type": "stream",
     "text": [
      "PassengerId,Survived,Pclass,Name,Sex,Age,SibSp,Parch,Ticket,Fare,Cabin,Embarked\n",
      "1,0,3,\"Braund, Mr. Owen Harris\",male,22,1,0,A/5 21171,7.25,,S\n",
      "2,1,1,\"Cumings, Mrs. John Bradley (Florence Briggs Thayer)\",female,38,1,0,PC 17599,71.2833,C85,C\n",
      "3,1,3,\"Heikkinen, Miss. Laina\",female,26,0,0,STON/O2. 3101282,7.925,,S\n",
      "4,1,1,\"Futrelle, Mrs. Jacques Heath (Lily May Peel)\",female,35,1,0,113803,53.1,C123,S\n",
      "5,0,3,\"Allen, Mr. William Henry\",male,35,0,0,373450,8.05,,S\n",
      "6,0,3,\"Moran, Mr. James\",male,,0,0,330877,8.4583,,Q\n",
      "7,0,1,\"McCarthy, Mr. Timothy J\",male,54,0,0,17463,51.8625,E46,S\n",
      "8,0,3,\"Palsson, Master. Gosta Leonard\",male,2,3,1,349909,21.075,,S\n",
      "9,1,3,\"Johnson, Mrs. Oscar W (Elisabeth Vilhelmina Berg)\",female,27,0,2,347742,11.1333,,S\n",
      "10,1,2,\"Nasser, Mrs. Nicholas (Adele Achem)\",female,14,1,0,237736,30.0708,,C\n",
      "11,1,3,\"Sandstrom, Miss. Marguerite Rut\",female,4,1,1,PP 9549,16.7,G6,S\n",
      "12,1,1,\"Bonnell, Miss. Elizabeth\",female,58,0,0,113783,26.55,C103,S\n",
      "13,0,3,\"Saundercock, Mr. William Henry\",male,20,0,0,A/5. 2151,8.05,,S\n",
      "14,0,3,\"Andersson, Mr. Anders Johan\",male,39,1,5,347082,31.275,,S\n",
      "15,0,3,\"Vestrom, Miss. Hulda Amanda Adolfina\",female,14,0,0,350406,7.8542,,S\n",
      "16,1,2,\"Hewlett, Mrs. (Mary D Kingcome) \",female,55,0,0,248706,16,,S\n",
      "17,0,3,\"Rice, Master. Eugene\",male,2,4,1,382652,29.125,,Q\n",
      "18,1,2,\"Williams, Mr. Charles Eugene\",male,,0,0,244373,13,,S\n",
      "19,0,3,\"Vander Planke, Mrs. Julius (Emelia Maria Vandemoortele)\",female,31,1,0,345763,18,,S\n",
      "20,1,3,\"Masselmani, Mrs. Fatima\",female,,0,0,2649,7.225,,C\n",
      "21,0,2,\"Fynney, Mr. Joseph J\",male,35,0,0,239865,26,,S\n",
      "22,1,2,\"Beesley, Mr. Lawrence\",male,34,0,0,248698,13,D56,S\n",
      "23,1,3,\"McGowan, Miss. Anna \"\"Annie\"\"\",female,15,0,0,330923,8.0292,,Q\n",
      "24,1,1,\"Sloper, Mr. William Thompson\",male,28,0,0,113788,35.5,A6,S\n",
      "25,0,3,\"Palsson, Miss. Torborg Danira\",female,8,3,1,349909,21.075,,S\n",
      "26,1,3,\"Asplund, Mrs. Carl Oscar (Selma Augusta Emilia Johansson)\",female,38,1,5,347077,31.3875,,S\n",
      "27,0,3,\"Emir, Mr. Farred Chehab\",male,,0,0,2631,7.225,,C\n",
      "28,0,1,\"Fortune, Mr. Charles Alexander\",male,19,3,2,19950,263,C23 C25 C27,S\n",
      "29,1,3,\"O'Dwyer, Miss. Ellen \"\"Nellie\"\"\",female,,0,0,330959,7.8792,,Q\n",
      "30,0,3,\"Todoroff, Mr. Lalio\",male,,0,0,349216,7.8958,,S\n",
      "31,0,1,\"Uruchurtu, Don. Manuel E\",male,40,0,0,PC 17601,27.7208,,C\n",
      "32,1,1,\"Spencer, Mrs. William Augustus (Marie Eugenie)\",female,,1,0,PC 17569,146.5208,B78,C\n",
      "33,1,3,\"Glynn, Miss. Mary Agatha\",female,,0,0,335677,7.75,,Q\n",
      "34,0,2,\"Wheadon, Mr. Edward H\",male,66,0,0,C.A. 24579,10.5,,S\n",
      "35,0,1,\"Meyer, Mr. Edgar Joseph\",male,28,1,0,PC 17604,82.1708,,C\n",
      "36,0,1,\"Holverson, Mr. Alexander Oskar\",male,42,1,0,113789,52,,S\n",
      "37,1,3,\"Mamee, Mr. Hanna\",male,,0,0,2677,7.2292,,C\n",
      "38,0,3,\"Cann, Mr. Ernest Charles\",male,21,0,0,A./5. 2152,8.05,,S\n",
      "39,0,3,\"Vander Planke, Miss. Augusta Maria\",female,18,2,0,345764,18,,S\n",
      "40,1,3,\"Nicola-Yarred, Miss. Jamila\",female,14,1,0,2651,11.2417,,C\n",
      "41,0,3,\"Ahlin, Mrs. Johan (Johanna Persdotter Larsson)\",female,40,1,0,7546,9.475,,S\n",
      "42,0,2,\"Turpin, Mrs. William John Robert (Dorothy Ann Wonnacott)\",female,27,1,0,11668,21,,S\n",
      "43,0,3,\"Kraeff, Mr. Theodor\",male,,0,0,349253,7.8958,,C\n",
      "44,1,2,\"Laroche, Miss. Simonne Marie Anne Andree\",female,3,1,2,SC/Paris 2123,41.5792,,C\n",
      "45,1,3,\"Devaney, Miss. Margaret Delia\",female,19,0,0,330958,7.8792,,Q\n",
      "46,0,3,\"Rogers, Mr. William John\",male,,0,0,S.C./A.4. 23567,8.05,,S\n",
      "47,0,3,\"Lennon, Mr. Denis\",male,,1,0,370371,15.5,,Q\n",
      "48,1,3,\"O'Driscoll, Miss. Bridget\",female,,0,0,14311,7.75,,Q\n",
      "49,0,3,\"Samaan, Mr. Youssef\",male,,2,0,2662,21.6792,,C\n",
      "50,0,3,\"Arnold-Franchi, Mrs. Josef (Josefine Franchi)\",female,18,1,0,349237,17.8,,S\n",
      "51,0,3,\"Panula, Master. Juha Niilo\",male,7,4,1,3101295,39.6875,,S\n",
      "52,0,3,\"Nosworthy, Mr. Richard Cater\",male,21,0,0,A/4. 39886,7.8,,S\n",
      "53,1,1,\"Harper, Mrs. Henry Sleeper (Myna Haxtun)\",female,49,1,0,PC 17572,76.7292,D33,C\n",
      "54,1,2,\"Faunthorpe, Mrs. Lizzie (Elizabeth Anne Wilkinson)\",female,29,1,0,2926,26,,S\n",
      "55,0,1,\"Ostby, Mr. Engelhart Cornelius\",male,65,0,1,113509,61.9792,B30,C\n",
      "56,1,1,\"Woolner, Mr. Hugh\",male,,0,0,19947,35.5,C52,S\n",
      "57,1,2,\"Rugg, Miss. Emily\",female,21,0,0,C.A. 31026,10.5,,S\n",
      "58,0,3,\"Novel, Mr. Mansouer\",male,28.5,0,0,2697,7.2292,,C\n",
      "59,1,2,\"West, Miss. Constance Mirium\",female,5,1,2,C.A. 34651,27.75,,S\n",
      "60,0,3,\"Goodwin, Master. William Frederick\",male,11,5,2,CA 2144,46.9,,S\n",
      "61,0,3,\"Sirayanian, Mr. Orsen\",male,22,0,0,2669,7.2292,,C\n",
      "62,1,1,\"Icard, Miss. Amelie\",female,38,0,0,113572,80,B28,\n",
      "63,0,1,\"Harris, Mr. Henry Birkhardt\",male,45,1,0,36973,83.475,C83,S\n",
      "64,0,3,\"Skoog, Master. Harald\",male,4,3,2,347088,27.9,,S\n",
      "65,0,1,\"Stewart, Mr. Albert A\",male,,0,0,PC 17605,27.7208,,C\n",
      "66,1,3,\"Moubarek, Master. Gerios\",male,,1,1,2661,15.2458,,C\n",
      "67,1,2,\"Nye, Mrs. (Elizabeth Ramell)\",female,29,0,0,C.A. 29395,10.5,F33,S\n",
      "68,0,3,\"Crease, Mr. Ernest James\",male,19,0,0,S.P. 3464,8.1583,,S\n",
      "69,1,3,\"Andersson, Miss. Erna Alexandra\",female,17,4,2,3101281,7.925,,S\n",
      "70,0,3,\"Kink, Mr. Vincenz\",male,26,2,0,315151,8.6625,,S\n",
      "71,0,2,\"Jenkin, Mr. Stephen Curnow\",male,32,0,0,C.A. 33111,10.5,,S\n",
      "72,0,3,\"Goodwin, Miss. Lillian Amy\",female,16,5,2,CA 2144,46.9,,S\n",
      "73,0,2,\"Hood, Mr. Ambrose Jr\",male,21,0,0,S.O.C. 14879,73.5,,S\n",
      "74,0,3,\"Chronopoulos, Mr. Apostolos\",male,26,1,0,2680,14.4542,,C\n",
      "75,1,3,\"Bing, Mr. Lee\",male,32,0,0,1601,56.4958,,S\n",
      "76,0,3,\"Moen, Mr. Sigurd Hansen\",male,25,0,0,348123,7.65,F G73,S\n",
      "77,0,3,\"Staneff, Mr. Ivan\",male,,0,0,349208,7.8958,,S\n",
      "78,0,3,\"Moutal, Mr. Rahamin Haim\",male,,0,0,374746,8.05,,S\n",
      "79,1,2,\"Caldwell, Master. Alden Gates\",male,0.83,0,2,248738,29,,S\n",
      "80,1,3,\"Dowdell, Miss. Elizabeth\",female,30,0,0,364516,12.475,,S\n",
      "81,0,3,\"Waelens, Mr. Achille\",male,22,0,0,345767,9,,S\n",
      "82,1,3,\"Sheerlinck, Mr. Jan Baptist\",male,29,0,0,345779,9.5,,S\n",
      "83,1,3,\"McDermott, Miss. Brigdet Delia\",female,,0,0,330932,7.7875,,Q\n",
      "84,0,1,\"Carrau, Mr. Francisco M\",male,28,0,0,113059,47.1,,S\n",
      "85,1,2,\"Ilett, Miss. Bertha\",female,17,0,0,SO/C 14885,10.5,,S\n",
      "86,1,3,\"Backstrom, Mrs. Karl Alfred (Maria Mathilda Gustafsson)\",female,33,3,0,3101278,15.85,,S\n",
      "87,0,3,\"Ford, Mr. William Neal\",male,16,1,3,W./C. 6608,34.375,,S\n",
      "88,0,3,\"Slocovski, Mr. Selman Francis\",male,,0,0,SOTON/OQ 392086,8.05,,S\n",
      "89,1,1,\"Fortune, Miss. Mabel Helen\",female,23,3,2,19950,263,C23 C25 C27,S\n",
      "90,0,3,\"Celotti, Mr. Francesco\",male,24,0,0,343275,8.05,,S\n",
      "91,0,3,\"Christmann, Mr. Emil\",male,29,0,0,343276,8.05,,S\n",
      "92,0,3,\"Andreasson, Mr. Paul Edvin\",male,20,0,0,347466,7.8542,,S\n",
      "93,0,1,\"Chaffee, Mr. Herbert Fuller\",male,46,1,0,W.E.P. 5734,61.175,E31,S\n",
      "94,0,3,\"Dean, Mr. Bertram Frank\",male,26,1,2,C.A. 2315,20.575,,S\n",
      "95,0,3,\"Coxon, Mr. Daniel\",male,59,0,0,364500,7.25,,S\n",
      "96,0,3,\"Shorney, Mr. Charles Joseph\",male,,0,0,374910,8.05,,S\n",
      "97,0,1,\"Goldschmidt, Mr. George B\",male,71,0,0,PC 17754,34.6542,A5,C\n",
      "98,1,1,\"Greenfield, Mr. William Bertram\",male,23,0,1,PC 17759,63.3583,D10 D12,C\n",
      "99,1,2,\"Doling, Mrs. John T (Ada Julia Bone)\",female,34,0,1,231919,23,,S\n",
      "100,0,2,\"Kantor, Mr. Sinai\",male,34,1,0,244367,26,,S\n",
      "101,0,3,\"Petranec, Miss. Matilda\",female,28,0,0,349245,7.8958,,S\n",
      "102,0,3,\"Petroff, Mr. Pastcho (\"\"Pentcho\"\")\",male,,0,0,349215,7.8958,,S\n",
      "103,0,1,\"White, Mr. Richard Frasar\",male,21,0,1,35281,77.2875,D26,S\n",
      "104,0,3,\"Johansson, Mr. Gustaf Joel\",male,33,0,0,7540,8.6542,,S\n",
      "105,0,3,\"Gustafsson, Mr. Anders Vilhelm\",male,37,2,0,3101276,7.925,,S\n",
      "106,0,3,\"Mionoff, Mr. Stoytcho\",male,28,0,0,349207,7.8958,,S\n",
      "107,1,3,\"Salkjelsvik, Miss. Anna Kristine\",female,21,0,0,343120,7.65,,S\n",
      "108,1,3,\"Moss, Mr. Albert Johan\",male,,0,0,312991,7.775,,S\n",
      "109,0,3,\"Rekic, Mr. Tido\",male,38,0,0,349249,7.8958,,S\n",
      "110,1,3,\"Moran, Miss. Bertha\",female,,1,0,371110,24.15,,Q\n",
      "111,0,1,\"Porter, Mr. Walter Chamberlain\",male,47,0,0,110465,52,C110,S\n",
      "112,0,3,\"Zabour, Miss. Hileni\",female,14.5,1,0,2665,14.4542,,C\n",
      "113,0,3,\"Barton, Mr. David John\",male,22,0,0,324669,8.05,,S\n",
      "114,0,3,\"Jussila, Miss. Katriina\",female,20,1,0,4136,9.825,,S\n",
      "115,0,3,\"Attalah, Miss. Malake\",female,17,0,0,2627,14.4583,,C\n",
      "116,0,3,\"Pekoniemi, Mr. Edvard\",male,21,0,0,STON/O 2. 3101294,7.925,,S\n",
      "117,0,3,\"Connors, Mr. Patrick\",male,70.5,0,0,370369,7.75,,Q\n",
      "118,0,2,\"Turpin, Mr. William John Robert\",male,29,1,0,11668,21,,S\n",
      "119,0,1,\"Baxter, Mr. Quigg Edmond\",male,24,0,1,PC 17558,247.5208,B58 B60,C\n",
      "120,0,3,\"Andersson, Miss. Ellis Anna Maria\",female,2,4,2,347082,31.275,,S\n",
      "121,0,2,\"Hickman, Mr. Stanley George\",male,21,2,0,S.O.C. 14879,73.5,,S\n",
      "122,0,3,\"Moore, Mr. Leonard Charles\",male,,0,0,A4. 54510,8.05,,S\n",
      "123,0,2,\"Nasser, Mr. Nicholas\",male,32.5,1,0,237736,30.0708,,C\n",
      "124,1,2,\"Webber, Miss. Susan\",female,32.5,0,0,27267,13,E101,S\n",
      "125,0,1,\"White, Mr. Percival Wayland\",male,54,0,1,35281,77.2875,D26,S\n",
      "126,1,3,\"Nicola-Yarred, Master. Elias\",male,12,1,0,2651,11.2417,,C\n",
      "127,0,3,\"McMahon, Mr. Martin\",male,,0,0,370372,7.75,,Q\n",
      "128,1,3,\"Madsen, Mr. Fridtjof Arne\",male,24,0,0,C 17369,7.1417,,S\n",
      "129,1,3,\"Peter, Miss. Anna\",female,,1,1,2668,22.3583,F E69,C\n",
      "130,0,3,\"Ekstrom, Mr. Johan\",male,45,0,0,347061,6.975,,S\n",
      "131,0,3,\"Drazenoic, Mr. Jozef\",male,33,0,0,349241,7.8958,,C\n",
      "132,0,3,\"Coelho, Mr. Domingos Fernandeo\",male,20,0,0,SOTON/O.Q. 3101307,7.05,,S\n",
      "133,0,3,\"Robins, Mrs. Alexander A (Grace Charity Laury)\",female,47,1,0,A/5. 3337,14.5,,S\n",
      "134,1,2,\"Weisz, Mrs. Leopold (Mathilde Francoise Pede)\",female,29,1,0,228414,26,,S\n",
      "135,0,2,\"Sobey, Mr. Samuel James Hayden\",male,25,0,0,C.A. 29178,13,,S\n",
      "136,0,2,\"Richard, Mr. Emile\",male,23,0,0,SC/PARIS 2133,15.0458,,C\n",
      "137,1,1,\"Newsom, Miss. Helen Monypeny\",female,19,0,2,11752,26.2833,D47,S\n",
      "138,0,1,\"Futrelle, Mr. Jacques Heath\",male,37,1,0,113803,53.1,C123,S\n",
      "139,0,3,\"Osen, Mr. Olaf Elon\",male,16,0,0,7534,9.2167,,S\n",
      "140,0,1,\"Giglio, Mr. Victor\",male,24,0,0,PC 17593,79.2,B86,C\n",
      "141,0,3,\"Boulos, Mrs. Joseph (Sultana)\",female,,0,2,2678,15.2458,,C\n",
      "142,1,3,\"Nysten, Miss. Anna Sofia\",female,22,0,0,347081,7.75,,S\n",
      "143,1,3,\"Hakkarainen, Mrs. Pekka Pietari (Elin Matilda Dolck)\",female,24,1,0,STON/O2. 3101279,15.85,,S\n",
      "144,0,3,\"Burke, Mr. Jeremiah\",male,19,0,0,365222,6.75,,Q\n",
      "145,0,2,\"Andrew, Mr. Edgardo Samuel\",male,18,0,0,231945,11.5,,S\n",
      "146,0,2,\"Nicholls, Mr. Joseph Charles\",male,19,1,1,C.A. 33112,36.75,,S\n",
      "147,1,3,\"Andersson, Mr. August Edvard (\"\"Wennerstrom\"\")\",male,27,0,0,350043,7.7958,,S\n",
      "148,0,3,\"Ford, Miss. Robina Maggie \"\"Ruby\"\"\",female,9,2,2,W./C. 6608,34.375,,S\n",
      "149,0,2,\"Navratil, Mr. Michel (\"\"Louis M Hoffman\"\")\",male,36.5,0,2,230080,26,F2,S\n",
      "150,0,2,\"Byles, Rev. Thomas Roussel Davids\",male,42,0,0,244310,13,,S\n",
      "151,0,2,\"Bateman, Rev. Robert James\",male,51,0,0,S.O.P. 1166,12.525,,S\n",
      "152,1,1,\"Pears, Mrs. Thomas (Edith Wearne)\",female,22,1,0,113776,66.6,C2,S\n",
      "153,0,3,\"Meo, Mr. Alfonzo\",male,55.5,0,0,A.5. 11206,8.05,,S\n",
      "154,0,3,\"van Billiard, Mr. Austin Blyler\",male,40.5,0,2,A/5. 851,14.5,,S\n",
      "155,0,3,\"Olsen, Mr. Ole Martin\",male,,0,0,Fa 265302,7.3125,,S\n",
      "156,0,1,\"Williams, Mr. Charles Duane\",male,51,0,1,PC 17597,61.3792,,C\n",
      "157,1,3,\"Gilnagh, Miss. Katherine \"\"Katie\"\"\",female,16,0,0,35851,7.7333,,Q\n",
      "158,0,3,\"Corn, Mr. Harry\",male,30,0,0,SOTON/OQ 392090,8.05,,S\n",
      "159,0,3,\"Smiljanic, Mr. Mile\",male,,0,0,315037,8.6625,,S\n",
      "160,0,3,\"Sage, Master. Thomas Henry\",male,,8,2,CA. 2343,69.55,,S\n",
      "161,0,3,\"Cribb, Mr. John Hatfield\",male,44,0,1,371362,16.1,,S\n",
      "162,1,2,\"Watt, Mrs. James (Elizabeth \"\"Bessie\"\" Inglis Milne)\",female,40,0,0,C.A. 33595,15.75,,S\n",
      "163,0,3,\"Bengtsson, Mr. John Viktor\",male,26,0,0,347068,7.775,,S\n",
      "164,0,3,\"Calic, Mr. Jovo\",male,17,0,0,315093,8.6625,,S\n",
      "165,0,3,\"Panula, Master. Eino Viljami\",male,1,4,1,3101295,39.6875,,S\n",
      "166,1,3,\"Goldsmith, Master. Frank John William \"\"Frankie\"\"\",male,9,0,2,363291,20.525,,S\n",
      "167,1,1,\"Chibnall, Mrs. (Edith Martha Bowerman)\",female,,0,1,113505,55,E33,S\n",
      "168,0,3,\"Skoog, Mrs. William (Anna Bernhardina Karlsson)\",female,45,1,4,347088,27.9,,S\n",
      "169,0,1,\"Baumann, Mr. John D\",male,,0,0,PC 17318,25.925,,S\n",
      "170,0,3,\"Ling, Mr. Lee\",male,28,0,0,1601,56.4958,,S\n",
      "171,0,1,\"Van der hoef, Mr. Wyckoff\",male,61,0,0,111240,33.5,B19,S\n",
      "172,0,3,\"Rice, Master. Arthur\",male,4,4,1,382652,29.125,,Q\n",
      "173,1,3,\"Johnson, Miss. Eleanor Ileen\",female,1,1,1,347742,11.1333,,S\n",
      "174,0,3,\"Sivola, Mr. Antti Wilhelm\",male,21,0,0,STON/O 2. 3101280,7.925,,S\n",
      "175,0,1,\"Smith, Mr. James Clinch\",male,56,0,0,17764,30.6958,A7,C\n",
      "176,0,3,\"Klasen, Mr. Klas Albin\",male,18,1,1,350404,7.8542,,S\n",
      "177,0,3,\"Lefebre, Master. Henry Forbes\",male,,3,1,4133,25.4667,,S\n",
      "178,0,1,\"Isham, Miss. Ann Elizabeth\",female,50,0,0,PC 17595,28.7125,C49,C\n",
      "179,0,2,\"Hale, Mr. Reginald\",male,30,0,0,250653,13,,S\n",
      "180,0,3,\"Leonard, Mr. Lionel\",male,36,0,0,LINE,0,,S\n",
      "181,0,3,\"Sage, Miss. Constance Gladys\",female,,8,2,CA. 2343,69.55,,S\n",
      "182,0,2,\"Pernot, Mr. Rene\",male,,0,0,SC/PARIS 2131,15.05,,C\n",
      "183,0,3,\"Asplund, Master. Clarence Gustaf Hugo\",male,9,4,2,347077,31.3875,,S\n",
      "184,1,2,\"Becker, Master. Richard F\",male,1,2,1,230136,39,F4,S\n",
      "185,1,3,\"Kink-Heilmann, Miss. Luise Gretchen\",female,4,0,2,315153,22.025,,S\n",
      "186,0,1,\"Rood, Mr. Hugh Roscoe\",male,,0,0,113767,50,A32,S\n",
      "187,1,3,\"O'Brien, Mrs. Thomas (Johanna \"\"Hannah\"\" Godfrey)\",female,,1,0,370365,15.5,,Q\n",
      "188,1,1,\"Romaine, Mr. Charles Hallace (\"\"Mr C Rolmane\"\")\",male,45,0,0,111428,26.55,,S\n",
      "189,0,3,\"Bourke, Mr. John\",male,40,1,1,364849,15.5,,Q\n",
      "190,0,3,\"Turcin, Mr. Stjepan\",male,36,0,0,349247,7.8958,,S\n",
      "191,1,2,\"Pinsky, Mrs. (Rosa)\",female,32,0,0,234604,13,,S\n",
      "192,0,2,\"Carbines, Mr. William\",male,19,0,0,28424,13,,S\n",
      "193,1,3,\"Andersen-Jensen, Miss. Carla Christine Nielsine\",female,19,1,0,350046,7.8542,,S\n",
      "194,1,2,\"Navratil, Master. Michel M\",male,3,1,1,230080,26,F2,S\n",
      "195,1,1,\"Brown, Mrs. James Joseph (Margaret Tobin)\",female,44,0,0,PC 17610,27.7208,B4,C\n",
      "196,1,1,\"Lurette, Miss. Elise\",female,58,0,0,PC 17569,146.5208,B80,C\n",
      "197,0,3,\"Mernagh, Mr. Robert\",male,,0,0,368703,7.75,,Q\n",
      "198,0,3,\"Olsen, Mr. Karl Siegwart Andreas\",male,42,0,1,4579,8.4042,,S\n",
      "199,1,3,\"Madigan, Miss. Margaret \"\"Maggie\"\"\",female,,0,0,370370,7.75,,Q\n",
      "200,0,2,\"Yrois, Miss. Henriette (\"\"Mrs Harbeck\"\")\",female,24,0,0,248747,13,,S\n",
      "201,0,3,\"Vande Walle, Mr. Nestor Cyriel\",male,28,0,0,345770,9.5,,S\n",
      "202,0,3,\"Sage, Mr. Frederick\",male,,8,2,CA. 2343,69.55,,S\n",
      "203,0,3,\"Johanson, Mr. Jakob Alfred\",male,34,0,0,3101264,6.4958,,S\n",
      "204,0,3,\"Youseff, Mr. Gerious\",male,45.5,0,0,2628,7.225,,C\n",
      "205,1,3,\"Cohen, Mr. Gurshon \"\"Gus\"\"\",male,18,0,0,A/5 3540,8.05,,S\n",
      "206,0,3,\"Strom, Miss. Telma Matilda\",female,2,0,1,347054,10.4625,G6,S\n",
      "207,0,3,\"Backstrom, Mr. Karl Alfred\",male,32,1,0,3101278,15.85,,S\n",
      "208,1,3,\"Albimona, Mr. Nassef Cassem\",male,26,0,0,2699,18.7875,,C\n",
      "209,1,3,\"Carr, Miss. Helen \"\"Ellen\"\"\",female,16,0,0,367231,7.75,,Q\n",
      "210,1,1,\"Blank, Mr. Henry\",male,40,0,0,112277,31,A31,C\n",
      "211,0,3,\"Ali, Mr. Ahmed\",male,24,0,0,SOTON/O.Q. 3101311,7.05,,S\n",
      "212,1,2,\"Cameron, Miss. Clear Annie\",female,35,0,0,F.C.C. 13528,21,,S\n",
      "213,0,3,\"Perkin, Mr. John Henry\",male,22,0,0,A/5 21174,7.25,,S\n",
      "214,0,2,\"Givard, Mr. Hans Kristensen\",male,30,0,0,250646,13,,S\n",
      "215,0,3,\"Kiernan, Mr. Philip\",male,,1,0,367229,7.75,,Q\n",
      "216,1,1,\"Newell, Miss. Madeleine\",female,31,1,0,35273,113.275,D36,C\n",
      "217,1,3,\"Honkanen, Miss. Eliina\",female,27,0,0,STON/O2. 3101283,7.925,,S\n",
      "218,0,2,\"Jacobsohn, Mr. Sidney Samuel\",male,42,1,0,243847,27,,S\n",
      "219,1,1,\"Bazzani, Miss. Albina\",female,32,0,0,11813,76.2917,D15,C\n",
      "220,0,2,\"Harris, Mr. Walter\",male,30,0,0,W/C 14208,10.5,,S\n",
      "221,1,3,\"Sunderland, Mr. Victor Francis\",male,16,0,0,SOTON/OQ 392089,8.05,,S\n",
      "222,0,2,\"Bracken, Mr. James H\",male,27,0,0,220367,13,,S\n",
      "223,0,3,\"Green, Mr. George Henry\",male,51,0,0,21440,8.05,,S\n",
      "224,0,3,\"Nenkoff, Mr. Christo\",male,,0,0,349234,7.8958,,S\n",
      "225,1,1,\"Hoyt, Mr. Frederick Maxfield\",male,38,1,0,19943,90,C93,S\n",
      "226,0,3,\"Berglund, Mr. Karl Ivar Sven\",male,22,0,0,PP 4348,9.35,,S\n",
      "227,1,2,\"Mellors, Mr. William John\",male,19,0,0,SW/PP 751,10.5,,S\n",
      "228,0,3,\"Lovell, Mr. John Hall (\"\"Henry\"\")\",male,20.5,0,0,A/5 21173,7.25,,S\n",
      "229,0,2,\"Fahlstrom, Mr. Arne Jonas\",male,18,0,0,236171,13,,S\n",
      "230,0,3,\"Lefebre, Miss. Mathilde\",female,,3,1,4133,25.4667,,S\n",
      "231,1,1,\"Harris, Mrs. Henry Birkhardt (Irene Wallach)\",female,35,1,0,36973,83.475,C83,S\n",
      "232,0,3,\"Larsson, Mr. Bengt Edvin\",male,29,0,0,347067,7.775,,S\n",
      "233,0,2,\"Sjostedt, Mr. Ernst Adolf\",male,59,0,0,237442,13.5,,S\n",
      "234,1,3,\"Asplund, Miss. Lillian Gertrud\",female,5,4,2,347077,31.3875,,S\n",
      "235,0,2,\"Leyson, Mr. Robert William Norman\",male,24,0,0,C.A. 29566,10.5,,S\n",
      "236,0,3,\"Harknett, Miss. Alice Phoebe\",female,,0,0,W./C. 6609,7.55,,S\n",
      "237,0,2,\"Hold, Mr. Stephen\",male,44,1,0,26707,26,,S\n",
      "238,1,2,\"Collyer, Miss. Marjorie \"\"Lottie\"\"\",female,8,0,2,C.A. 31921,26.25,,S\n",
      "239,0,2,\"Pengelly, Mr. Frederick William\",male,19,0,0,28665,10.5,,S\n",
      "240,0,2,\"Hunt, Mr. George Henry\",male,33,0,0,SCO/W 1585,12.275,,S\n",
      "241,0,3,\"Zabour, Miss. Thamine\",female,,1,0,2665,14.4542,,C\n",
      "242,1,3,\"Murphy, Miss. Katherine \"\"Kate\"\"\",female,,1,0,367230,15.5,,Q\n",
      "243,0,2,\"Coleridge, Mr. Reginald Charles\",male,29,0,0,W./C. 14263,10.5,,S\n",
      "244,0,3,\"Maenpaa, Mr. Matti Alexanteri\",male,22,0,0,STON/O 2. 3101275,7.125,,S\n",
      "245,0,3,\"Attalah, Mr. Sleiman\",male,30,0,0,2694,7.225,,C\n",
      "246,0,1,\"Minahan, Dr. William Edward\",male,44,2,0,19928,90,C78,Q\n",
      "247,0,3,\"Lindahl, Miss. Agda Thorilda Viktoria\",female,25,0,0,347071,7.775,,S\n",
      "248,1,2,\"Hamalainen, Mrs. William (Anna)\",female,24,0,2,250649,14.5,,S\n",
      "249,1,1,\"Beckwith, Mr. Richard Leonard\",male,37,1,1,11751,52.5542,D35,S\n",
      "250,0,2,\"Carter, Rev. Ernest Courtenay\",male,54,1,0,244252,26,,S\n",
      "251,0,3,\"Reed, Mr. James George\",male,,0,0,362316,7.25,,S\n",
      "252,0,3,\"Strom, Mrs. Wilhelm (Elna Matilda Persson)\",female,29,1,1,347054,10.4625,G6,S\n",
      "253,0,1,\"Stead, Mr. William Thomas\",male,62,0,0,113514,26.55,C87,S\n",
      "254,0,3,\"Lobb, Mr. William Arthur\",male,30,1,0,A/5. 3336,16.1,,S\n",
      "255,0,3,\"Rosblom, Mrs. Viktor (Helena Wilhelmina)\",female,41,0,2,370129,20.2125,,S\n",
      "256,1,3,\"Touma, Mrs. Darwis (Hanne Youssef Razi)\",female,29,0,2,2650,15.2458,,C\n",
      "257,1,1,\"Thorne, Mrs. Gertrude Maybelle\",female,,0,0,PC 17585,79.2,,C\n",
      "258,1,1,\"Cherry, Miss. Gladys\",female,30,0,0,110152,86.5,B77,S\n",
      "259,1,1,\"Ward, Miss. Anna\",female,35,0,0,PC 17755,512.3292,,C\n",
      "260,1,2,\"Parrish, Mrs. (Lutie Davis)\",female,50,0,1,230433,26,,S\n",
      "261,0,3,\"Smith, Mr. Thomas\",male,,0,0,384461,7.75,,Q\n",
      "262,1,3,\"Asplund, Master. Edvin Rojj Felix\",male,3,4,2,347077,31.3875,,S\n",
      "263,0,1,\"Taussig, Mr. Emil\",male,52,1,1,110413,79.65,E67,S\n",
      "264,0,1,\"Harrison, Mr. William\",male,40,0,0,112059,0,B94,S\n",
      "265,0,3,\"Henry, Miss. Delia\",female,,0,0,382649,7.75,,Q\n",
      "266,0,2,\"Reeves, Mr. David\",male,36,0,0,C.A. 17248,10.5,,S\n",
      "267,0,3,\"Panula, Mr. Ernesti Arvid\",male,16,4,1,3101295,39.6875,,S\n",
      "268,1,3,\"Persson, Mr. Ernst Ulrik\",male,25,1,0,347083,7.775,,S\n",
      "269,1,1,\"Graham, Mrs. William Thompson (Edith Junkins)\",female,58,0,1,PC 17582,153.4625,C125,S\n",
      "270,1,1,\"Bissette, Miss. Amelia\",female,35,0,0,PC 17760,135.6333,C99,S\n",
      "271,0,1,\"Cairns, Mr. Alexander\",male,,0,0,113798,31,,S\n",
      "272,1,3,\"Tornquist, Mr. William Henry\",male,25,0,0,LINE,0,,S\n",
      "273,1,2,\"Mellinger, Mrs. (Elizabeth Anne Maidment)\",female,41,0,1,250644,19.5,,S\n",
      "274,0,1,\"Natsch, Mr. Charles H\",male,37,0,1,PC 17596,29.7,C118,C\n",
      "275,1,3,\"Healy, Miss. Hanora \"\"Nora\"\"\",female,,0,0,370375,7.75,,Q\n",
      "276,1,1,\"Andrews, Miss. Kornelia Theodosia\",female,63,1,0,13502,77.9583,D7,S\n",
      "277,0,3,\"Lindblom, Miss. Augusta Charlotta\",female,45,0,0,347073,7.75,,S\n",
      "278,0,2,\"Parkes, Mr. Francis \"\"Frank\"\"\",male,,0,0,239853,0,,S\n",
      "279,0,3,\"Rice, Master. Eric\",male,7,4,1,382652,29.125,,Q\n",
      "280,1,3,\"Abbott, Mrs. Stanton (Rosa Hunt)\",female,35,1,1,C.A. 2673,20.25,,S\n",
      "281,0,3,\"Duane, Mr. Frank\",male,65,0,0,336439,7.75,,Q\n",
      "282,0,3,\"Olsson, Mr. Nils Johan Goransson\",male,28,0,0,347464,7.8542,,S\n",
      "283,0,3,\"de Pelsmaeker, Mr. Alfons\",male,16,0,0,345778,9.5,,S\n",
      "284,1,3,\"Dorking, Mr. Edward Arthur\",male,19,0,0,A/5. 10482,8.05,,S\n",
      "285,0,1,\"Smith, Mr. Richard William\",male,,0,0,113056,26,A19,S\n",
      "286,0,3,\"Stankovic, Mr. Ivan\",male,33,0,0,349239,8.6625,,C\n",
      "287,1,3,\"de Mulder, Mr. Theodore\",male,30,0,0,345774,9.5,,S\n",
      "288,0,3,\"Naidenoff, Mr. Penko\",male,22,0,0,349206,7.8958,,S\n",
      "289,1,2,\"Hosono, Mr. Masabumi\",male,42,0,0,237798,13,,S\n",
      "290,1,3,\"Connolly, Miss. Kate\",female,22,0,0,370373,7.75,,Q\n",
      "291,1,1,\"Barber, Miss. Ellen \"\"Nellie\"\"\",female,26,0,0,19877,78.85,,S\n",
      "292,1,1,\"Bishop, Mrs. Dickinson H (Helen Walton)\",female,19,1,0,11967,91.0792,B49,C\n",
      "293,0,2,\"Levy, Mr. Rene Jacques\",male,36,0,0,SC/Paris 2163,12.875,D,C\n",
      "294,0,3,\"Haas, Miss. Aloisia\",female,24,0,0,349236,8.85,,S\n",
      "295,0,3,\"Mineff, Mr. Ivan\",male,24,0,0,349233,7.8958,,S\n",
      "296,0,1,\"Lewy, Mr. Ervin G\",male,,0,0,PC 17612,27.7208,,C\n",
      "297,0,3,\"Hanna, Mr. Mansour\",male,23.5,0,0,2693,7.2292,,C\n",
      "298,0,1,\"Allison, Miss. Helen Loraine\",female,2,1,2,113781,151.55,C22 C26,S\n",
      "299,1,1,\"Saalfeld, Mr. Adolphe\",male,,0,0,19988,30.5,C106,S\n",
      "300,1,1,\"Baxter, Mrs. James (Helene DeLaudeniere Chaput)\",female,50,0,1,PC 17558,247.5208,B58 B60,C\n",
      "301,1,3,\"Kelly, Miss. Anna Katherine \"\"Annie Kate\"\"\",female,,0,0,9234,7.75,,Q\n",
      "302,1,3,\"McCoy, Mr. Bernard\",male,,2,0,367226,23.25,,Q\n",
      "303,0,3,\"Johnson, Mr. William Cahoone Jr\",male,19,0,0,LINE,0,,S\n",
      "304,1,2,\"Keane, Miss. Nora A\",female,,0,0,226593,12.35,E101,Q\n",
      "305,0,3,\"Williams, Mr. Howard Hugh \"\"Harry\"\"\",male,,0,0,A/5 2466,8.05,,S\n",
      "306,1,1,\"Allison, Master. Hudson Trevor\",male,0.92,1,2,113781,151.55,C22 C26,S\n",
      "307,1,1,\"Fleming, Miss. Margaret\",female,,0,0,17421,110.8833,,C\n",
      "308,1,1,\"Penasco y Castellana, Mrs. Victor de Satode (Maria Josefa Perez de Soto y Vallejo)\",female,17,1,0,PC 17758,108.9,C65,C\n",
      "309,0,2,\"Abelson, Mr. Samuel\",male,30,1,0,P/PP 3381,24,,C\n",
      "310,1,1,\"Francatelli, Miss. Laura Mabel\",female,30,0,0,PC 17485,56.9292,E36,C\n",
      "311,1,1,\"Hays, Miss. Margaret Bechstein\",female,24,0,0,11767,83.1583,C54,C\n",
      "312,1,1,\"Ryerson, Miss. Emily Borie\",female,18,2,2,PC 17608,262.375,B57 B59 B63 B66,C\n",
      "313,0,2,\"Lahtinen, Mrs. William (Anna Sylfven)\",female,26,1,1,250651,26,,S\n",
      "314,0,3,\"Hendekovic, Mr. Ignjac\",male,28,0,0,349243,7.8958,,S\n",
      "315,0,2,\"Hart, Mr. Benjamin\",male,43,1,1,F.C.C. 13529,26.25,,S\n",
      "316,1,3,\"Nilsson, Miss. Helmina Josefina\",female,26,0,0,347470,7.8542,,S\n",
      "317,1,2,\"Kantor, Mrs. Sinai (Miriam Sternin)\",female,24,1,0,244367,26,,S\n",
      "318,0,2,\"Moraweck, Dr. Ernest\",male,54,0,0,29011,14,,S\n",
      "319,1,1,\"Wick, Miss. Mary Natalie\",female,31,0,2,36928,164.8667,C7,S\n",
      "320,1,1,\"Spedden, Mrs. Frederic Oakley (Margaretta Corning Stone)\",female,40,1,1,16966,134.5,E34,C\n",
      "321,0,3,\"Dennis, Mr. Samuel\",male,22,0,0,A/5 21172,7.25,,S\n",
      "322,0,3,\"Danoff, Mr. Yoto\",male,27,0,0,349219,7.8958,,S\n",
      "323,1,2,\"Slayter, Miss. Hilda Mary\",female,30,0,0,234818,12.35,,Q\n",
      "324,1,2,\"Caldwell, Mrs. Albert Francis (Sylvia Mae Harbaugh)\",female,22,1,1,248738,29,,S\n",
      "325,0,3,\"Sage, Mr. George John Jr\",male,,8,2,CA. 2343,69.55,,S\n",
      "326,1,1,\"Young, Miss. Marie Grice\",female,36,0,0,PC 17760,135.6333,C32,C\n",
      "327,0,3,\"Nysveen, Mr. Johan Hansen\",male,61,0,0,345364,6.2375,,S\n",
      "328,1,2,\"Ball, Mrs. (Ada E Hall)\",female,36,0,0,28551,13,D,S\n",
      "329,1,3,\"Goldsmith, Mrs. Frank John (Emily Alice Brown)\",female,31,1,1,363291,20.525,,S\n",
      "330,1,1,\"Hippach, Miss. Jean Gertrude\",female,16,0,1,111361,57.9792,B18,C\n",
      "331,1,3,\"McCoy, Miss. Agnes\",female,,2,0,367226,23.25,,Q\n",
      "332,0,1,\"Partner, Mr. Austen\",male,45.5,0,0,113043,28.5,C124,S\n",
      "333,0,1,\"Graham, Mr. George Edward\",male,38,0,1,PC 17582,153.4625,C91,S\n",
      "334,0,3,\"Vander Planke, Mr. Leo Edmondus\",male,16,2,0,345764,18,,S\n",
      "335,1,1,\"Frauenthal, Mrs. Henry William (Clara Heinsheimer)\",female,,1,0,PC 17611,133.65,,S\n",
      "336,0,3,\"Denkoff, Mr. Mitto\",male,,0,0,349225,7.8958,,S\n",
      "337,0,1,\"Pears, Mr. Thomas Clinton\",male,29,1,0,113776,66.6,C2,S\n",
      "338,1,1,\"Burns, Miss. Elizabeth Margaret\",female,41,0,0,16966,134.5,E40,C\n",
      "339,1,3,\"Dahl, Mr. Karl Edwart\",male,45,0,0,7598,8.05,,S\n",
      "340,0,1,\"Blackwell, Mr. Stephen Weart\",male,45,0,0,113784,35.5,T,S\n",
      "341,1,2,\"Navratil, Master. Edmond Roger\",male,2,1,1,230080,26,F2,S\n",
      "342,1,1,\"Fortune, Miss. Alice Elizabeth\",female,24,3,2,19950,263,C23 C25 C27,S\n",
      "343,0,2,\"Collander, Mr. Erik Gustaf\",male,28,0,0,248740,13,,S\n",
      "344,0,2,\"Sedgwick, Mr. Charles Frederick Waddington\",male,25,0,0,244361,13,,S\n",
      "345,0,2,\"Fox, Mr. Stanley Hubert\",male,36,0,0,229236,13,,S\n",
      "346,1,2,\"Brown, Miss. Amelia \"\"Mildred\"\"\",female,24,0,0,248733,13,F33,S\n",
      "347,1,2,\"Smith, Miss. Marion Elsie\",female,40,0,0,31418,13,,S\n",
      "348,1,3,\"Davison, Mrs. Thomas Henry (Mary E Finck)\",female,,1,0,386525,16.1,,S\n",
      "349,1,3,\"Coutts, Master. William Loch \"\"William\"\"\",male,3,1,1,C.A. 37671,15.9,,S\n",
      "350,0,3,\"Dimic, Mr. Jovan\",male,42,0,0,315088,8.6625,,S\n",
      "351,0,3,\"Odahl, Mr. Nils Martin\",male,23,0,0,7267,9.225,,S\n",
      "352,0,1,\"Williams-Lambert, Mr. Fletcher Fellows\",male,,0,0,113510,35,C128,S\n",
      "353,0,3,\"Elias, Mr. Tannous\",male,15,1,1,2695,7.2292,,C\n",
      "354,0,3,\"Arnold-Franchi, Mr. Josef\",male,25,1,0,349237,17.8,,S\n",
      "355,0,3,\"Yousif, Mr. Wazli\",male,,0,0,2647,7.225,,C\n",
      "356,0,3,\"Vanden Steen, Mr. Leo Peter\",male,28,0,0,345783,9.5,,S\n",
      "357,1,1,\"Bowerman, Miss. Elsie Edith\",female,22,0,1,113505,55,E33,S\n",
      "358,0,2,\"Funk, Miss. Annie Clemmer\",female,38,0,0,237671,13,,S\n",
      "359,1,3,\"McGovern, Miss. Mary\",female,,0,0,330931,7.8792,,Q\n",
      "360,1,3,\"Mockler, Miss. Helen Mary \"\"Ellie\"\"\",female,,0,0,330980,7.8792,,Q\n",
      "361,0,3,\"Skoog, Mr. Wilhelm\",male,40,1,4,347088,27.9,,S\n",
      "362,0,2,\"del Carlo, Mr. Sebastiano\",male,29,1,0,SC/PARIS 2167,27.7208,,C\n",
      "363,0,3,\"Barbara, Mrs. (Catherine David)\",female,45,0,1,2691,14.4542,,C\n",
      "364,0,3,\"Asim, Mr. Adola\",male,35,0,0,SOTON/O.Q. 3101310,7.05,,S\n",
      "365,0,3,\"O'Brien, Mr. Thomas\",male,,1,0,370365,15.5,,Q\n",
      "366,0,3,\"Adahl, Mr. Mauritz Nils Martin\",male,30,0,0,C 7076,7.25,,S\n",
      "367,1,1,\"Warren, Mrs. Frank Manley (Anna Sophia Atkinson)\",female,60,1,0,110813,75.25,D37,C\n",
      "368,1,3,\"Moussa, Mrs. (Mantoura Boulos)\",female,,0,0,2626,7.2292,,C\n",
      "369,1,3,\"Jermyn, Miss. Annie\",female,,0,0,14313,7.75,,Q\n",
      "370,1,1,\"Aubart, Mme. Leontine Pauline\",female,24,0,0,PC 17477,69.3,B35,C\n",
      "371,1,1,\"Harder, Mr. George Achilles\",male,25,1,0,11765,55.4417,E50,C\n",
      "372,0,3,\"Wiklund, Mr. Jakob Alfred\",male,18,1,0,3101267,6.4958,,S\n",
      "373,0,3,\"Beavan, Mr. William Thomas\",male,19,0,0,323951,8.05,,S\n",
      "374,0,1,\"Ringhini, Mr. Sante\",male,22,0,0,PC 17760,135.6333,,C\n",
      "375,0,3,\"Palsson, Miss. Stina Viola\",female,3,3,1,349909,21.075,,S\n",
      "376,1,1,\"Meyer, Mrs. Edgar Joseph (Leila Saks)\",female,,1,0,PC 17604,82.1708,,C\n",
      "377,1,3,\"Landergren, Miss. Aurora Adelia\",female,22,0,0,C 7077,7.25,,S\n",
      "378,0,1,\"Widener, Mr. Harry Elkins\",male,27,0,2,113503,211.5,C82,C\n",
      "379,0,3,\"Betros, Mr. Tannous\",male,20,0,0,2648,4.0125,,C\n",
      "380,0,3,\"Gustafsson, Mr. Karl Gideon\",male,19,0,0,347069,7.775,,S\n",
      "381,1,1,\"Bidois, Miss. Rosalie\",female,42,0,0,PC 17757,227.525,,C\n",
      "382,1,3,\"Nakid, Miss. Maria (\"\"Mary\"\")\",female,1,0,2,2653,15.7417,,C\n",
      "383,0,3,\"Tikkanen, Mr. Juho\",male,32,0,0,STON/O 2. 3101293,7.925,,S\n",
      "384,1,1,\"Holverson, Mrs. Alexander Oskar (Mary Aline Towner)\",female,35,1,0,113789,52,,S\n",
      "385,0,3,\"Plotcharsky, Mr. Vasil\",male,,0,0,349227,7.8958,,S\n",
      "386,0,2,\"Davies, Mr. Charles Henry\",male,18,0,0,S.O.C. 14879,73.5,,S\n",
      "387,0,3,\"Goodwin, Master. Sidney Leonard\",male,1,5,2,CA 2144,46.9,,S\n",
      "388,1,2,\"Buss, Miss. Kate\",female,36,0,0,27849,13,,S\n",
      "389,0,3,\"Sadlier, Mr. Matthew\",male,,0,0,367655,7.7292,,Q\n",
      "390,1,2,\"Lehmann, Miss. Bertha\",female,17,0,0,SC 1748,12,,C\n",
      "391,1,1,\"Carter, Mr. William Ernest\",male,36,1,2,113760,120,B96 B98,S\n",
      "392,1,3,\"Jansson, Mr. Carl Olof\",male,21,0,0,350034,7.7958,,S\n",
      "393,0,3,\"Gustafsson, Mr. Johan Birger\",male,28,2,0,3101277,7.925,,S\n",
      "394,1,1,\"Newell, Miss. Marjorie\",female,23,1,0,35273,113.275,D36,C\n",
      "395,1,3,\"Sandstrom, Mrs. Hjalmar (Agnes Charlotta Bengtsson)\",female,24,0,2,PP 9549,16.7,G6,S\n",
      "396,0,3,\"Johansson, Mr. Erik\",male,22,0,0,350052,7.7958,,S\n",
      "397,0,3,\"Olsson, Miss. Elina\",female,31,0,0,350407,7.8542,,S\n",
      "398,0,2,\"McKane, Mr. Peter David\",male,46,0,0,28403,26,,S\n",
      "399,0,2,\"Pain, Dr. Alfred\",male,23,0,0,244278,10.5,,S\n",
      "400,1,2,\"Trout, Mrs. William H (Jessie L)\",female,28,0,0,240929,12.65,,S\n",
      "401,1,3,\"Niskanen, Mr. Juha\",male,39,0,0,STON/O 2. 3101289,7.925,,S\n",
      "402,0,3,\"Adams, Mr. John\",male,26,0,0,341826,8.05,,S\n",
      "403,0,3,\"Jussila, Miss. Mari Aina\",female,21,1,0,4137,9.825,,S\n",
      "404,0,3,\"Hakkarainen, Mr. Pekka Pietari\",male,28,1,0,STON/O2. 3101279,15.85,,S\n",
      "405,0,3,\"Oreskovic, Miss. Marija\",female,20,0,0,315096,8.6625,,S\n",
      "406,0,2,\"Gale, Mr. Shadrach\",male,34,1,0,28664,21,,S\n",
      "407,0,3,\"Widegren, Mr. Carl/Charles Peter\",male,51,0,0,347064,7.75,,S\n",
      "408,1,2,\"Richards, Master. William Rowe\",male,3,1,1,29106,18.75,,S\n",
      "409,0,3,\"Birkeland, Mr. Hans Martin Monsen\",male,21,0,0,312992,7.775,,S\n",
      "410,0,3,\"Lefebre, Miss. Ida\",female,,3,1,4133,25.4667,,S\n",
      "411,0,3,\"Sdycoff, Mr. Todor\",male,,0,0,349222,7.8958,,S\n",
      "412,0,3,\"Hart, Mr. Henry\",male,,0,0,394140,6.8583,,Q\n",
      "413,1,1,\"Minahan, Miss. Daisy E\",female,33,1,0,19928,90,C78,Q\n",
      "414,0,2,\"Cunningham, Mr. Alfred Fleming\",male,,0,0,239853,0,,S\n",
      "415,1,3,\"Sundman, Mr. Johan Julian\",male,44,0,0,STON/O 2. 3101269,7.925,,S\n",
      "416,0,3,\"Meek, Mrs. Thomas (Annie Louise Rowley)\",female,,0,0,343095,8.05,,S\n",
      "417,1,2,\"Drew, Mrs. James Vivian (Lulu Thorne Christian)\",female,34,1,1,28220,32.5,,S\n",
      "418,1,2,\"Silven, Miss. Lyyli Karoliina\",female,18,0,2,250652,13,,S\n",
      "419,0,2,\"Matthews, Mr. William John\",male,30,0,0,28228,13,,S\n",
      "420,0,3,\"Van Impe, Miss. Catharina\",female,10,0,2,345773,24.15,,S\n",
      "421,0,3,\"Gheorgheff, Mr. Stanio\",male,,0,0,349254,7.8958,,C\n",
      "422,0,3,\"Charters, Mr. David\",male,21,0,0,A/5. 13032,7.7333,,Q\n",
      "423,0,3,\"Zimmerman, Mr. Leo\",male,29,0,0,315082,7.875,,S\n",
      "424,0,3,\"Danbom, Mrs. Ernst Gilbert (Anna Sigrid Maria Brogren)\",female,28,1,1,347080,14.4,,S\n",
      "425,0,3,\"Rosblom, Mr. Viktor Richard\",male,18,1,1,370129,20.2125,,S\n",
      "426,0,3,\"Wiseman, Mr. Phillippe\",male,,0,0,A/4. 34244,7.25,,S\n",
      "427,1,2,\"Clarke, Mrs. Charles V (Ada Maria Winfield)\",female,28,1,0,2003,26,,S\n",
      "428,1,2,\"Phillips, Miss. Kate Florence (\"\"Mrs Kate Louise Phillips Marshall\"\")\",female,19,0,0,250655,26,,S\n",
      "429,0,3,\"Flynn, Mr. James\",male,,0,0,364851,7.75,,Q\n",
      "430,1,3,\"Pickard, Mr. Berk (Berk Trembisky)\",male,32,0,0,SOTON/O.Q. 392078,8.05,E10,S\n",
      "431,1,1,\"Bjornstrom-Steffansson, Mr. Mauritz Hakan\",male,28,0,0,110564,26.55,C52,S\n",
      "432,1,3,\"Thorneycroft, Mrs. Percival (Florence Kate White)\",female,,1,0,376564,16.1,,S\n",
      "433,1,2,\"Louch, Mrs. Charles Alexander (Alice Adelaide Slow)\",female,42,1,0,SC/AH 3085,26,,S\n",
      "434,0,3,\"Kallio, Mr. Nikolai Erland\",male,17,0,0,STON/O 2. 3101274,7.125,,S\n",
      "435,0,1,\"Silvey, Mr. William Baird\",male,50,1,0,13507,55.9,E44,S\n",
      "436,1,1,\"Carter, Miss. Lucile Polk\",female,14,1,2,113760,120,B96 B98,S\n",
      "437,0,3,\"Ford, Miss. Doolina Margaret \"\"Daisy\"\"\",female,21,2,2,W./C. 6608,34.375,,S\n",
      "438,1,2,\"Richards, Mrs. Sidney (Emily Hocking)\",female,24,2,3,29106,18.75,,S\n",
      "439,0,1,\"Fortune, Mr. Mark\",male,64,1,4,19950,263,C23 C25 C27,S\n",
      "440,0,2,\"Kvillner, Mr. Johan Henrik Johannesson\",male,31,0,0,C.A. 18723,10.5,,S\n",
      "441,1,2,\"Hart, Mrs. Benjamin (Esther Ada Bloomfield)\",female,45,1,1,F.C.C. 13529,26.25,,S\n",
      "442,0,3,\"Hampe, Mr. Leon\",male,20,0,0,345769,9.5,,S\n",
      "443,0,3,\"Petterson, Mr. Johan Emil\",male,25,1,0,347076,7.775,,S\n",
      "444,1,2,\"Reynaldo, Ms. Encarnacion\",female,28,0,0,230434,13,,S\n",
      "445,1,3,\"Johannesen-Bratthammer, Mr. Bernt\",male,,0,0,65306,8.1125,,S\n",
      "446,1,1,\"Dodge, Master. Washington\",male,4,0,2,33638,81.8583,A34,S\n",
      "447,1,2,\"Mellinger, Miss. Madeleine Violet\",female,13,0,1,250644,19.5,,S\n",
      "448,1,1,\"Seward, Mr. Frederic Kimber\",male,34,0,0,113794,26.55,,S\n",
      "449,1,3,\"Baclini, Miss. Marie Catherine\",female,5,2,1,2666,19.2583,,C\n",
      "450,1,1,\"Peuchen, Major. Arthur Godfrey\",male,52,0,0,113786,30.5,C104,S\n",
      "451,0,2,\"West, Mr. Edwy Arthur\",male,36,1,2,C.A. 34651,27.75,,S\n",
      "452,0,3,\"Hagland, Mr. Ingvald Olai Olsen\",male,,1,0,65303,19.9667,,S\n",
      "453,0,1,\"Foreman, Mr. Benjamin Laventall\",male,30,0,0,113051,27.75,C111,C\n",
      "454,1,1,\"Goldenberg, Mr. Samuel L\",male,49,1,0,17453,89.1042,C92,C\n",
      "455,0,3,\"Peduzzi, Mr. Joseph\",male,,0,0,A/5 2817,8.05,,S\n",
      "456,1,3,\"Jalsevac, Mr. Ivan\",male,29,0,0,349240,7.8958,,C\n",
      "457,0,1,\"Millet, Mr. Francis Davis\",male,65,0,0,13509,26.55,E38,S\n",
      "458,1,1,\"Kenyon, Mrs. Frederick R (Marion)\",female,,1,0,17464,51.8625,D21,S\n",
      "459,1,2,\"Toomey, Miss. Ellen\",female,50,0,0,F.C.C. 13531,10.5,,S\n",
      "460,0,3,\"O'Connor, Mr. Maurice\",male,,0,0,371060,7.75,,Q\n",
      "461,1,1,\"Anderson, Mr. Harry\",male,48,0,0,19952,26.55,E12,S\n",
      "462,0,3,\"Morley, Mr. William\",male,34,0,0,364506,8.05,,S\n",
      "463,0,1,\"Gee, Mr. Arthur H\",male,47,0,0,111320,38.5,E63,S\n",
      "464,0,2,\"Milling, Mr. Jacob Christian\",male,48,0,0,234360,13,,S\n",
      "465,0,3,\"Maisner, Mr. Simon\",male,,0,0,A/S 2816,8.05,,S\n",
      "466,0,3,\"Goncalves, Mr. Manuel Estanslas\",male,38,0,0,SOTON/O.Q. 3101306,7.05,,S\n",
      "467,0,2,\"Campbell, Mr. William\",male,,0,0,239853,0,,S\n",
      "468,0,1,\"Smart, Mr. John Montgomery\",male,56,0,0,113792,26.55,,S\n",
      "469,0,3,\"Scanlan, Mr. James\",male,,0,0,36209,7.725,,Q\n",
      "470,1,3,\"Baclini, Miss. Helene Barbara\",female,0.75,2,1,2666,19.2583,,C\n",
      "471,0,3,\"Keefe, Mr. Arthur\",male,,0,0,323592,7.25,,S\n",
      "472,0,3,\"Cacic, Mr. Luka\",male,38,0,0,315089,8.6625,,S\n",
      "473,1,2,\"West, Mrs. Edwy Arthur (Ada Mary Worth)\",female,33,1,2,C.A. 34651,27.75,,S\n",
      "474,1,2,\"Jerwan, Mrs. Amin S (Marie Marthe Thuillard)\",female,23,0,0,SC/AH Basle 541,13.7917,D,C\n",
      "475,0,3,\"Strandberg, Miss. Ida Sofia\",female,22,0,0,7553,9.8375,,S\n",
      "476,0,1,\"Clifford, Mr. George Quincy\",male,,0,0,110465,52,A14,S\n",
      "477,0,2,\"Renouf, Mr. Peter Henry\",male,34,1,0,31027,21,,S\n",
      "478,0,3,\"Braund, Mr. Lewis Richard\",male,29,1,0,3460,7.0458,,S\n",
      "479,0,3,\"Karlsson, Mr. Nils August\",male,22,0,0,350060,7.5208,,S\n",
      "480,1,3,\"Hirvonen, Miss. Hildur E\",female,2,0,1,3101298,12.2875,,S\n",
      "481,0,3,\"Goodwin, Master. Harold Victor\",male,9,5,2,CA 2144,46.9,,S\n",
      "482,0,2,\"Frost, Mr. Anthony Wood \"\"Archie\"\"\",male,,0,0,239854,0,,S\n",
      "483,0,3,\"Rouse, Mr. Richard Henry\",male,50,0,0,A/5 3594,8.05,,S\n",
      "484,1,3,\"Turkula, Mrs. (Hedwig)\",female,63,0,0,4134,9.5875,,S\n",
      "485,1,1,\"Bishop, Mr. Dickinson H\",male,25,1,0,11967,91.0792,B49,C\n",
      "486,0,3,\"Lefebre, Miss. Jeannie\",female,,3,1,4133,25.4667,,S\n",
      "487,1,1,\"Hoyt, Mrs. Frederick Maxfield (Jane Anne Forby)\",female,35,1,0,19943,90,C93,S\n",
      "488,0,1,\"Kent, Mr. Edward Austin\",male,58,0,0,11771,29.7,B37,C\n",
      "489,0,3,\"Somerton, Mr. Francis William\",male,30,0,0,A.5. 18509,8.05,,S\n",
      "490,1,3,\"Coutts, Master. Eden Leslie \"\"Neville\"\"\",male,9,1,1,C.A. 37671,15.9,,S\n",
      "491,0,3,\"Hagland, Mr. Konrad Mathias Reiersen\",male,,1,0,65304,19.9667,,S\n",
      "492,0,3,\"Windelov, Mr. Einar\",male,21,0,0,SOTON/OQ 3101317,7.25,,S\n",
      "493,0,1,\"Molson, Mr. Harry Markland\",male,55,0,0,113787,30.5,C30,S\n",
      "494,0,1,\"Artagaveytia, Mr. Ramon\",male,71,0,0,PC 17609,49.5042,,C\n",
      "495,0,3,\"Stanley, Mr. Edward Roland\",male,21,0,0,A/4 45380,8.05,,S\n",
      "496,0,3,\"Yousseff, Mr. Gerious\",male,,0,0,2627,14.4583,,C\n",
      "497,1,1,\"Eustis, Miss. Elizabeth Mussey\",female,54,1,0,36947,78.2667,D20,C\n",
      "498,0,3,\"Shellard, Mr. Frederick William\",male,,0,0,C.A. 6212,15.1,,S\n",
      "499,0,1,\"Allison, Mrs. Hudson J C (Bessie Waldo Daniels)\",female,25,1,2,113781,151.55,C22 C26,S\n",
      "500,0,3,\"Svensson, Mr. Olof\",male,24,0,0,350035,7.7958,,S\n",
      "501,0,3,\"Calic, Mr. Petar\",male,17,0,0,315086,8.6625,,S\n",
      "502,0,3,\"Canavan, Miss. Mary\",female,21,0,0,364846,7.75,,Q\n",
      "503,0,3,\"O'Sullivan, Miss. Bridget Mary\",female,,0,0,330909,7.6292,,Q\n",
      "504,0,3,\"Laitinen, Miss. Kristina Sofia\",female,37,0,0,4135,9.5875,,S\n",
      "505,1,1,\"Maioni, Miss. Roberta\",female,16,0,0,110152,86.5,B79,S\n",
      "506,0,1,\"Penasco y Castellana, Mr. Victor de Satode\",male,18,1,0,PC 17758,108.9,C65,C\n",
      "507,1,2,\"Quick, Mrs. Frederick Charles (Jane Richards)\",female,33,0,2,26360,26,,S\n",
      "508,1,1,\"Bradley, Mr. George (\"\"George Arthur Brayton\"\")\",male,,0,0,111427,26.55,,S\n",
      "509,0,3,\"Olsen, Mr. Henry Margido\",male,28,0,0,C 4001,22.525,,S\n",
      "510,1,3,\"Lang, Mr. Fang\",male,26,0,0,1601,56.4958,,S\n",
      "511,1,3,\"Daly, Mr. Eugene Patrick\",male,29,0,0,382651,7.75,,Q\n",
      "512,0,3,\"Webber, Mr. James\",male,,0,0,SOTON/OQ 3101316,8.05,,S\n",
      "513,1,1,\"McGough, Mr. James Robert\",male,36,0,0,PC 17473,26.2875,E25,S\n",
      "514,1,1,\"Rothschild, Mrs. Martin (Elizabeth L. Barrett)\",female,54,1,0,PC 17603,59.4,,C\n",
      "515,0,3,\"Coleff, Mr. Satio\",male,24,0,0,349209,7.4958,,S\n",
      "516,0,1,\"Walker, Mr. William Anderson\",male,47,0,0,36967,34.0208,D46,S\n",
      "517,1,2,\"Lemore, Mrs. (Amelia Milley)\",female,34,0,0,C.A. 34260,10.5,F33,S\n",
      "518,0,3,\"Ryan, Mr. Patrick\",male,,0,0,371110,24.15,,Q\n",
      "519,1,2,\"Angle, Mrs. William A (Florence \"\"Mary\"\" Agnes Hughes)\",female,36,1,0,226875,26,,S\n",
      "520,0,3,\"Pavlovic, Mr. Stefo\",male,32,0,0,349242,7.8958,,S\n",
      "521,1,1,\"Perreault, Miss. Anne\",female,30,0,0,12749,93.5,B73,S\n",
      "522,0,3,\"Vovk, Mr. Janko\",male,22,0,0,349252,7.8958,,S\n",
      "523,0,3,\"Lahoud, Mr. Sarkis\",male,,0,0,2624,7.225,,C\n",
      "524,1,1,\"Hippach, Mrs. Louis Albert (Ida Sophia Fischer)\",female,44,0,1,111361,57.9792,B18,C\n",
      "525,0,3,\"Kassem, Mr. Fared\",male,,0,0,2700,7.2292,,C\n",
      "526,0,3,\"Farrell, Mr. James\",male,40.5,0,0,367232,7.75,,Q\n",
      "527,1,2,\"Ridsdale, Miss. Lucy\",female,50,0,0,W./C. 14258,10.5,,S\n",
      "528,0,1,\"Farthing, Mr. John\",male,,0,0,PC 17483,221.7792,C95,S\n",
      "529,0,3,\"Salonen, Mr. Johan Werner\",male,39,0,0,3101296,7.925,,S\n",
      "530,0,2,\"Hocking, Mr. Richard George\",male,23,2,1,29104,11.5,,S\n",
      "531,1,2,\"Quick, Miss. Phyllis May\",female,2,1,1,26360,26,,S\n",
      "532,0,3,\"Toufik, Mr. Nakli\",male,,0,0,2641,7.2292,,C\n",
      "533,0,3,\"Elias, Mr. Joseph Jr\",male,17,1,1,2690,7.2292,,C\n",
      "534,1,3,\"Peter, Mrs. Catherine (Catherine Rizk)\",female,,0,2,2668,22.3583,,C\n",
      "535,0,3,\"Cacic, Miss. Marija\",female,30,0,0,315084,8.6625,,S\n",
      "536,1,2,\"Hart, Miss. Eva Miriam\",female,7,0,2,F.C.C. 13529,26.25,,S\n",
      "537,0,1,\"Butt, Major. Archibald Willingham\",male,45,0,0,113050,26.55,B38,S\n",
      "538,1,1,\"LeRoy, Miss. Bertha\",female,30,0,0,PC 17761,106.425,,C\n",
      "539,0,3,\"Risien, Mr. Samuel Beard\",male,,0,0,364498,14.5,,S\n",
      "540,1,1,\"Frolicher, Miss. Hedwig Margaritha\",female,22,0,2,13568,49.5,B39,C\n",
      "541,1,1,\"Crosby, Miss. Harriet R\",female,36,0,2,WE/P 5735,71,B22,S\n",
      "542,0,3,\"Andersson, Miss. Ingeborg Constanzia\",female,9,4,2,347082,31.275,,S\n",
      "543,0,3,\"Andersson, Miss. Sigrid Elisabeth\",female,11,4,2,347082,31.275,,S\n",
      "544,1,2,\"Beane, Mr. Edward\",male,32,1,0,2908,26,,S\n",
      "545,0,1,\"Douglas, Mr. Walter Donald\",male,50,1,0,PC 17761,106.425,C86,C\n",
      "546,0,1,\"Nicholson, Mr. Arthur Ernest\",male,64,0,0,693,26,,S\n",
      "547,1,2,\"Beane, Mrs. Edward (Ethel Clarke)\",female,19,1,0,2908,26,,S\n",
      "548,1,2,\"Padro y Manent, Mr. Julian\",male,,0,0,SC/PARIS 2146,13.8625,,C\n",
      "549,0,3,\"Goldsmith, Mr. Frank John\",male,33,1,1,363291,20.525,,S\n",
      "550,1,2,\"Davies, Master. John Morgan Jr\",male,8,1,1,C.A. 33112,36.75,,S\n",
      "551,1,1,\"Thayer, Mr. John Borland Jr\",male,17,0,2,17421,110.8833,C70,C\n",
      "552,0,2,\"Sharp, Mr. Percival James R\",male,27,0,0,244358,26,,S\n",
      "553,0,3,\"O'Brien, Mr. Timothy\",male,,0,0,330979,7.8292,,Q\n",
      "554,1,3,\"Leeni, Mr. Fahim (\"\"Philip Zenni\"\")\",male,22,0,0,2620,7.225,,C\n",
      "555,1,3,\"Ohman, Miss. Velin\",female,22,0,0,347085,7.775,,S\n",
      "556,0,1,\"Wright, Mr. George\",male,62,0,0,113807,26.55,,S\n",
      "557,1,1,\"Duff Gordon, Lady. (Lucille Christiana Sutherland) (\"\"Mrs Morgan\"\")\",female,48,1,0,11755,39.6,A16,C\n",
      "558,0,1,\"Robbins, Mr. Victor\",male,,0,0,PC 17757,227.525,,C\n",
      "559,1,1,\"Taussig, Mrs. Emil (Tillie Mandelbaum)\",female,39,1,1,110413,79.65,E67,S\n",
      "560,1,3,\"de Messemaeker, Mrs. Guillaume Joseph (Emma)\",female,36,1,0,345572,17.4,,S\n",
      "561,0,3,\"Morrow, Mr. Thomas Rowan\",male,,0,0,372622,7.75,,Q\n",
      "562,0,3,\"Sivic, Mr. Husein\",male,40,0,0,349251,7.8958,,S\n",
      "563,0,2,\"Norman, Mr. Robert Douglas\",male,28,0,0,218629,13.5,,S\n",
      "564,0,3,\"Simmons, Mr. John\",male,,0,0,SOTON/OQ 392082,8.05,,S\n",
      "565,0,3,\"Meanwell, Miss. (Marion Ogden)\",female,,0,0,SOTON/O.Q. 392087,8.05,,S\n",
      "566,0,3,\"Davies, Mr. Alfred J\",male,24,2,0,A/4 48871,24.15,,S\n",
      "567,0,3,\"Stoytcheff, Mr. Ilia\",male,19,0,0,349205,7.8958,,S\n",
      "568,0,3,\"Palsson, Mrs. Nils (Alma Cornelia Berglund)\",female,29,0,4,349909,21.075,,S\n",
      "569,0,3,\"Doharr, Mr. Tannous\",male,,0,0,2686,7.2292,,C\n",
      "570,1,3,\"Jonsson, Mr. Carl\",male,32,0,0,350417,7.8542,,S\n",
      "571,1,2,\"Harris, Mr. George\",male,62,0,0,S.W./PP 752,10.5,,S\n",
      "572,1,1,\"Appleton, Mrs. Edward Dale (Charlotte Lamson)\",female,53,2,0,11769,51.4792,C101,S\n",
      "573,1,1,\"Flynn, Mr. John Irwin (\"\"Irving\"\")\",male,36,0,0,PC 17474,26.3875,E25,S\n",
      "574,1,3,\"Kelly, Miss. Mary\",female,,0,0,14312,7.75,,Q\n",
      "575,0,3,\"Rush, Mr. Alfred George John\",male,16,0,0,A/4. 20589,8.05,,S\n",
      "576,0,3,\"Patchett, Mr. George\",male,19,0,0,358585,14.5,,S\n",
      "577,1,2,\"Garside, Miss. Ethel\",female,34,0,0,243880,13,,S\n",
      "578,1,1,\"Silvey, Mrs. William Baird (Alice Munger)\",female,39,1,0,13507,55.9,E44,S\n",
      "579,0,3,\"Caram, Mrs. Joseph (Maria Elias)\",female,,1,0,2689,14.4583,,C\n",
      "580,1,3,\"Jussila, Mr. Eiriik\",male,32,0,0,STON/O 2. 3101286,7.925,,S\n",
      "581,1,2,\"Christy, Miss. Julie Rachel\",female,25,1,1,237789,30,,S\n",
      "582,1,1,\"Thayer, Mrs. John Borland (Marian Longstreth Morris)\",female,39,1,1,17421,110.8833,C68,C\n",
      "583,0,2,\"Downton, Mr. William James\",male,54,0,0,28403,26,,S\n",
      "584,0,1,\"Ross, Mr. John Hugo\",male,36,0,0,13049,40.125,A10,C\n",
      "585,0,3,\"Paulner, Mr. Uscher\",male,,0,0,3411,8.7125,,C\n",
      "586,1,1,\"Taussig, Miss. Ruth\",female,18,0,2,110413,79.65,E68,S\n",
      "587,0,2,\"Jarvis, Mr. John Denzil\",male,47,0,0,237565,15,,S\n",
      "588,1,1,\"Frolicher-Stehli, Mr. Maxmillian\",male,60,1,1,13567,79.2,B41,C\n",
      "589,0,3,\"Gilinski, Mr. Eliezer\",male,22,0,0,14973,8.05,,S\n",
      "590,0,3,\"Murdlin, Mr. Joseph\",male,,0,0,A./5. 3235,8.05,,S\n",
      "591,0,3,\"Rintamaki, Mr. Matti\",male,35,0,0,STON/O 2. 3101273,7.125,,S\n",
      "592,1,1,\"Stephenson, Mrs. Walter Bertram (Martha Eustis)\",female,52,1,0,36947,78.2667,D20,C\n",
      "593,0,3,\"Elsbury, Mr. William James\",male,47,0,0,A/5 3902,7.25,,S\n",
      "594,0,3,\"Bourke, Miss. Mary\",female,,0,2,364848,7.75,,Q\n",
      "595,0,2,\"Chapman, Mr. John Henry\",male,37,1,0,SC/AH 29037,26,,S\n",
      "596,0,3,\"Van Impe, Mr. Jean Baptiste\",male,36,1,1,345773,24.15,,S\n",
      "597,1,2,\"Leitch, Miss. Jessie Wills\",female,,0,0,248727,33,,S\n",
      "598,0,3,\"Johnson, Mr. Alfred\",male,49,0,0,LINE,0,,S\n",
      "599,0,3,\"Boulos, Mr. Hanna\",male,,0,0,2664,7.225,,C\n",
      "600,1,1,\"Duff Gordon, Sir. Cosmo Edmund (\"\"Mr Morgan\"\")\",male,49,1,0,PC 17485,56.9292,A20,C\n",
      "601,1,2,\"Jacobsohn, Mrs. Sidney Samuel (Amy Frances Christy)\",female,24,2,1,243847,27,,S\n",
      "602,0,3,\"Slabenoff, Mr. Petco\",male,,0,0,349214,7.8958,,S\n",
      "603,0,1,\"Harrington, Mr. Charles H\",male,,0,0,113796,42.4,,S\n",
      "604,0,3,\"Torber, Mr. Ernst William\",male,44,0,0,364511,8.05,,S\n",
      "605,1,1,\"Homer, Mr. Harry (\"\"Mr E Haven\"\")\",male,35,0,0,111426,26.55,,C\n",
      "606,0,3,\"Lindell, Mr. Edvard Bengtsson\",male,36,1,0,349910,15.55,,S\n",
      "607,0,3,\"Karaic, Mr. Milan\",male,30,0,0,349246,7.8958,,S\n",
      "608,1,1,\"Daniel, Mr. Robert Williams\",male,27,0,0,113804,30.5,,S\n",
      "609,1,2,\"Laroche, Mrs. Joseph (Juliette Marie Louise Lafargue)\",female,22,1,2,SC/Paris 2123,41.5792,,C\n",
      "610,1,1,\"Shutes, Miss. Elizabeth W\",female,40,0,0,PC 17582,153.4625,C125,S\n",
      "611,0,3,\"Andersson, Mrs. Anders Johan (Alfrida Konstantia Brogren)\",female,39,1,5,347082,31.275,,S\n",
      "612,0,3,\"Jardin, Mr. Jose Neto\",male,,0,0,SOTON/O.Q. 3101305,7.05,,S\n",
      "613,1,3,\"Murphy, Miss. Margaret Jane\",female,,1,0,367230,15.5,,Q\n",
      "614,0,3,\"Horgan, Mr. John\",male,,0,0,370377,7.75,,Q\n",
      "615,0,3,\"Brocklebank, Mr. William Alfred\",male,35,0,0,364512,8.05,,S\n",
      "616,1,2,\"Herman, Miss. Alice\",female,24,1,2,220845,65,,S\n",
      "617,0,3,\"Danbom, Mr. Ernst Gilbert\",male,34,1,1,347080,14.4,,S\n",
      "618,0,3,\"Lobb, Mrs. William Arthur (Cordelia K Stanlick)\",female,26,1,0,A/5. 3336,16.1,,S\n",
      "619,1,2,\"Becker, Miss. Marion Louise\",female,4,2,1,230136,39,F4,S\n",
      "620,0,2,\"Gavey, Mr. Lawrence\",male,26,0,0,31028,10.5,,S\n",
      "621,0,3,\"Yasbeck, Mr. Antoni\",male,27,1,0,2659,14.4542,,C\n",
      "622,1,1,\"Kimball, Mr. Edwin Nelson Jr\",male,42,1,0,11753,52.5542,D19,S\n",
      "623,1,3,\"Nakid, Mr. Sahid\",male,20,1,1,2653,15.7417,,C\n",
      "624,0,3,\"Hansen, Mr. Henry Damsgaard\",male,21,0,0,350029,7.8542,,S\n",
      "625,0,3,\"Bowen, Mr. David John \"\"Dai\"\"\",male,21,0,0,54636,16.1,,S\n",
      "626,0,1,\"Sutton, Mr. Frederick\",male,61,0,0,36963,32.3208,D50,S\n",
      "627,0,2,\"Kirkland, Rev. Charles Leonard\",male,57,0,0,219533,12.35,,Q\n",
      "628,1,1,\"Longley, Miss. Gretchen Fiske\",female,21,0,0,13502,77.9583,D9,S\n",
      "629,0,3,\"Bostandyeff, Mr. Guentcho\",male,26,0,0,349224,7.8958,,S\n",
      "630,0,3,\"O'Connell, Mr. Patrick D\",male,,0,0,334912,7.7333,,Q\n",
      "631,1,1,\"Barkworth, Mr. Algernon Henry Wilson\",male,80,0,0,27042,30,A23,S\n",
      "632,0,3,\"Lundahl, Mr. Johan Svensson\",male,51,0,0,347743,7.0542,,S\n",
      "633,1,1,\"Stahelin-Maeglin, Dr. Max\",male,32,0,0,13214,30.5,B50,C\n",
      "634,0,1,\"Parr, Mr. William Henry Marsh\",male,,0,0,112052,0,,S\n",
      "635,0,3,\"Skoog, Miss. Mabel\",female,9,3,2,347088,27.9,,S\n",
      "636,1,2,\"Davis, Miss. Mary\",female,28,0,0,237668,13,,S\n",
      "637,0,3,\"Leinonen, Mr. Antti Gustaf\",male,32,0,0,STON/O 2. 3101292,7.925,,S\n",
      "638,0,2,\"Collyer, Mr. Harvey\",male,31,1,1,C.A. 31921,26.25,,S\n",
      "639,0,3,\"Panula, Mrs. Juha (Maria Emilia Ojala)\",female,41,0,5,3101295,39.6875,,S\n",
      "640,0,3,\"Thorneycroft, Mr. Percival\",male,,1,0,376564,16.1,,S\n",
      "641,0,3,\"Jensen, Mr. Hans Peder\",male,20,0,0,350050,7.8542,,S\n",
      "642,1,1,\"Sagesser, Mlle. Emma\",female,24,0,0,PC 17477,69.3,B35,C\n",
      "643,0,3,\"Skoog, Miss. Margit Elizabeth\",female,2,3,2,347088,27.9,,S\n",
      "644,1,3,\"Foo, Mr. Choong\",male,,0,0,1601,56.4958,,S\n",
      "645,1,3,\"Baclini, Miss. Eugenie\",female,0.75,2,1,2666,19.2583,,C\n",
      "646,1,1,\"Harper, Mr. Henry Sleeper\",male,48,1,0,PC 17572,76.7292,D33,C\n",
      "647,0,3,\"Cor, Mr. Liudevit\",male,19,0,0,349231,7.8958,,S\n",
      "648,1,1,\"Simonius-Blumer, Col. Oberst Alfons\",male,56,0,0,13213,35.5,A26,C\n",
      "649,0,3,\"Willey, Mr. Edward\",male,,0,0,S.O./P.P. 751,7.55,,S\n",
      "650,1,3,\"Stanley, Miss. Amy Zillah Elsie\",female,23,0,0,CA. 2314,7.55,,S\n",
      "651,0,3,\"Mitkoff, Mr. Mito\",male,,0,0,349221,7.8958,,S\n",
      "652,1,2,\"Doling, Miss. Elsie\",female,18,0,1,231919,23,,S\n",
      "653,0,3,\"Kalvik, Mr. Johannes Halvorsen\",male,21,0,0,8475,8.4333,,S\n",
      "654,1,3,\"O'Leary, Miss. Hanora \"\"Norah\"\"\",female,,0,0,330919,7.8292,,Q\n",
      "655,0,3,\"Hegarty, Miss. Hanora \"\"Nora\"\"\",female,18,0,0,365226,6.75,,Q\n",
      "656,0,2,\"Hickman, Mr. Leonard Mark\",male,24,2,0,S.O.C. 14879,73.5,,S\n",
      "657,0,3,\"Radeff, Mr. Alexander\",male,,0,0,349223,7.8958,,S\n",
      "658,0,3,\"Bourke, Mrs. John (Catherine)\",female,32,1,1,364849,15.5,,Q\n",
      "659,0,2,\"Eitemiller, Mr. George Floyd\",male,23,0,0,29751,13,,S\n",
      "660,0,1,\"Newell, Mr. Arthur Webster\",male,58,0,2,35273,113.275,D48,C\n",
      "661,1,1,\"Frauenthal, Dr. Henry William\",male,50,2,0,PC 17611,133.65,,S\n",
      "662,0,3,\"Badt, Mr. Mohamed\",male,40,0,0,2623,7.225,,C\n",
      "663,0,1,\"Colley, Mr. Edward Pomeroy\",male,47,0,0,5727,25.5875,E58,S\n",
      "664,0,3,\"Coleff, Mr. Peju\",male,36,0,0,349210,7.4958,,S\n",
      "665,1,3,\"Lindqvist, Mr. Eino William\",male,20,1,0,STON/O 2. 3101285,7.925,,S\n",
      "666,0,2,\"Hickman, Mr. Lewis\",male,32,2,0,S.O.C. 14879,73.5,,S\n",
      "667,0,2,\"Butler, Mr. Reginald Fenton\",male,25,0,0,234686,13,,S\n",
      "668,0,3,\"Rommetvedt, Mr. Knud Paust\",male,,0,0,312993,7.775,,S\n",
      "669,0,3,\"Cook, Mr. Jacob\",male,43,0,0,A/5 3536,8.05,,S\n",
      "670,1,1,\"Taylor, Mrs. Elmer Zebley (Juliet Cummins Wright)\",female,,1,0,19996,52,C126,S\n",
      "671,1,2,\"Brown, Mrs. Thomas William Solomon (Elizabeth Catherine Ford)\",female,40,1,1,29750,39,,S\n",
      "672,0,1,\"Davidson, Mr. Thornton\",male,31,1,0,F.C. 12750,52,B71,S\n",
      "673,0,2,\"Mitchell, Mr. Henry Michael\",male,70,0,0,C.A. 24580,10.5,,S\n",
      "674,1,2,\"Wilhelms, Mr. Charles\",male,31,0,0,244270,13,,S\n",
      "675,0,2,\"Watson, Mr. Ennis Hastings\",male,,0,0,239856,0,,S\n",
      "676,0,3,\"Edvardsson, Mr. Gustaf Hjalmar\",male,18,0,0,349912,7.775,,S\n",
      "677,0,3,\"Sawyer, Mr. Frederick Charles\",male,24.5,0,0,342826,8.05,,S\n",
      "678,1,3,\"Turja, Miss. Anna Sofia\",female,18,0,0,4138,9.8417,,S\n",
      "679,0,3,\"Goodwin, Mrs. Frederick (Augusta Tyler)\",female,43,1,6,CA 2144,46.9,,S\n",
      "680,1,1,\"Cardeza, Mr. Thomas Drake Martinez\",male,36,0,1,PC 17755,512.3292,B51 B53 B55,C\n",
      "681,0,3,\"Peters, Miss. Katie\",female,,0,0,330935,8.1375,,Q\n",
      "682,1,1,\"Hassab, Mr. Hammad\",male,27,0,0,PC 17572,76.7292,D49,C\n",
      "683,0,3,\"Olsvigen, Mr. Thor Anderson\",male,20,0,0,6563,9.225,,S\n",
      "684,0,3,\"Goodwin, Mr. Charles Edward\",male,14,5,2,CA 2144,46.9,,S\n",
      "685,0,2,\"Brown, Mr. Thomas William Solomon\",male,60,1,1,29750,39,,S\n",
      "686,0,2,\"Laroche, Mr. Joseph Philippe Lemercier\",male,25,1,2,SC/Paris 2123,41.5792,,C\n",
      "687,0,3,\"Panula, Mr. Jaako Arnold\",male,14,4,1,3101295,39.6875,,S\n",
      "688,0,3,\"Dakic, Mr. Branko\",male,19,0,0,349228,10.1708,,S\n",
      "689,0,3,\"Fischer, Mr. Eberhard Thelander\",male,18,0,0,350036,7.7958,,S\n",
      "690,1,1,\"Madill, Miss. Georgette Alexandra\",female,15,0,1,24160,211.3375,B5,S\n",
      "691,1,1,\"Dick, Mr. Albert Adrian\",male,31,1,0,17474,57,B20,S\n",
      "692,1,3,\"Karun, Miss. Manca\",female,4,0,1,349256,13.4167,,C\n",
      "693,1,3,\"Lam, Mr. Ali\",male,,0,0,1601,56.4958,,S\n",
      "694,0,3,\"Saad, Mr. Khalil\",male,25,0,0,2672,7.225,,C\n",
      "695,0,1,\"Weir, Col. John\",male,60,0,0,113800,26.55,,S\n",
      "696,0,2,\"Chapman, Mr. Charles Henry\",male,52,0,0,248731,13.5,,S\n",
      "697,0,3,\"Kelly, Mr. James\",male,44,0,0,363592,8.05,,S\n",
      "698,1,3,\"Mullens, Miss. Katherine \"\"Katie\"\"\",female,,0,0,35852,7.7333,,Q\n",
      "699,0,1,\"Thayer, Mr. John Borland\",male,49,1,1,17421,110.8833,C68,C\n",
      "700,0,3,\"Humblen, Mr. Adolf Mathias Nicolai Olsen\",male,42,0,0,348121,7.65,F G63,S\n",
      "701,1,1,\"Astor, Mrs. John Jacob (Madeleine Talmadge Force)\",female,18,1,0,PC 17757,227.525,C62 C64,C\n",
      "702,1,1,\"Silverthorne, Mr. Spencer Victor\",male,35,0,0,PC 17475,26.2875,E24,S\n",
      "703,0,3,\"Barbara, Miss. Saiide\",female,18,0,1,2691,14.4542,,C\n",
      "704,0,3,\"Gallagher, Mr. Martin\",male,25,0,0,36864,7.7417,,Q\n",
      "705,0,3,\"Hansen, Mr. Henrik Juul\",male,26,1,0,350025,7.8542,,S\n",
      "706,0,2,\"Morley, Mr. Henry Samuel (\"\"Mr Henry Marshall\"\")\",male,39,0,0,250655,26,,S\n",
      "707,1,2,\"Kelly, Mrs. Florence \"\"Fannie\"\"\",female,45,0,0,223596,13.5,,S\n",
      "708,1,1,\"Calderhead, Mr. Edward Pennington\",male,42,0,0,PC 17476,26.2875,E24,S\n",
      "709,1,1,\"Cleaver, Miss. Alice\",female,22,0,0,113781,151.55,,S\n",
      "710,1,3,\"Moubarek, Master. Halim Gonios (\"\"William George\"\")\",male,,1,1,2661,15.2458,,C\n",
      "711,1,1,\"Mayne, Mlle. Berthe Antonine (\"\"Mrs de Villiers\"\")\",female,24,0,0,PC 17482,49.5042,C90,C\n",
      "712,0,1,\"Klaber, Mr. Herman\",male,,0,0,113028,26.55,C124,S\n",
      "713,1,1,\"Taylor, Mr. Elmer Zebley\",male,48,1,0,19996,52,C126,S\n",
      "714,0,3,\"Larsson, Mr. August Viktor\",male,29,0,0,7545,9.4833,,S\n",
      "715,0,2,\"Greenberg, Mr. Samuel\",male,52,0,0,250647,13,,S\n",
      "716,0,3,\"Soholt, Mr. Peter Andreas Lauritz Andersen\",male,19,0,0,348124,7.65,F G73,S\n",
      "717,1,1,\"Endres, Miss. Caroline Louise\",female,38,0,0,PC 17757,227.525,C45,C\n",
      "718,1,2,\"Troutt, Miss. Edwina Celia \"\"Winnie\"\"\",female,27,0,0,34218,10.5,E101,S\n",
      "719,0,3,\"McEvoy, Mr. Michael\",male,,0,0,36568,15.5,,Q\n",
      "720,0,3,\"Johnson, Mr. Malkolm Joackim\",male,33,0,0,347062,7.775,,S\n",
      "721,1,2,\"Harper, Miss. Annie Jessie \"\"Nina\"\"\",female,6,0,1,248727,33,,S\n",
      "722,0,3,\"Jensen, Mr. Svend Lauritz\",male,17,1,0,350048,7.0542,,S\n",
      "723,0,2,\"Gillespie, Mr. William Henry\",male,34,0,0,12233,13,,S\n",
      "724,0,2,\"Hodges, Mr. Henry Price\",male,50,0,0,250643,13,,S\n",
      "725,1,1,\"Chambers, Mr. Norman Campbell\",male,27,1,0,113806,53.1,E8,S\n",
      "726,0,3,\"Oreskovic, Mr. Luka\",male,20,0,0,315094,8.6625,,S\n",
      "727,1,2,\"Renouf, Mrs. Peter Henry (Lillian Jefferys)\",female,30,3,0,31027,21,,S\n",
      "728,1,3,\"Mannion, Miss. Margareth\",female,,0,0,36866,7.7375,,Q\n",
      "729,0,2,\"Bryhl, Mr. Kurt Arnold Gottfrid\",male,25,1,0,236853,26,,S\n",
      "730,0,3,\"Ilmakangas, Miss. Pieta Sofia\",female,25,1,0,STON/O2. 3101271,7.925,,S\n",
      "731,1,1,\"Allen, Miss. Elisabeth Walton\",female,29,0,0,24160,211.3375,B5,S\n",
      "732,0,3,\"Hassan, Mr. Houssein G N\",male,11,0,0,2699,18.7875,,C\n",
      "733,0,2,\"Knight, Mr. Robert J\",male,,0,0,239855,0,,S\n",
      "734,0,2,\"Berriman, Mr. William John\",male,23,0,0,28425,13,,S\n",
      "735,0,2,\"Troupiansky, Mr. Moses Aaron\",male,23,0,0,233639,13,,S\n",
      "736,0,3,\"Williams, Mr. Leslie\",male,28.5,0,0,54636,16.1,,S\n",
      "737,0,3,\"Ford, Mrs. Edward (Margaret Ann Watson)\",female,48,1,3,W./C. 6608,34.375,,S\n",
      "738,1,1,\"Lesurer, Mr. Gustave J\",male,35,0,0,PC 17755,512.3292,B101,C\n",
      "739,0,3,\"Ivanoff, Mr. Kanio\",male,,0,0,349201,7.8958,,S\n",
      "740,0,3,\"Nankoff, Mr. Minko\",male,,0,0,349218,7.8958,,S\n",
      "741,1,1,\"Hawksford, Mr. Walter James\",male,,0,0,16988,30,D45,S\n",
      "742,0,1,\"Cavendish, Mr. Tyrell William\",male,36,1,0,19877,78.85,C46,S\n",
      "743,1,1,\"Ryerson, Miss. Susan Parker \"\"Suzette\"\"\",female,21,2,2,PC 17608,262.375,B57 B59 B63 B66,C\n",
      "744,0,3,\"McNamee, Mr. Neal\",male,24,1,0,376566,16.1,,S\n",
      "745,1,3,\"Stranden, Mr. Juho\",male,31,0,0,STON/O 2. 3101288,7.925,,S\n",
      "746,0,1,\"Crosby, Capt. Edward Gifford\",male,70,1,1,WE/P 5735,71,B22,S\n",
      "747,0,3,\"Abbott, Mr. Rossmore Edward\",male,16,1,1,C.A. 2673,20.25,,S\n",
      "748,1,2,\"Sinkkonen, Miss. Anna\",female,30,0,0,250648,13,,S\n",
      "749,0,1,\"Marvin, Mr. Daniel Warner\",male,19,1,0,113773,53.1,D30,S\n",
      "750,0,3,\"Connaghton, Mr. Michael\",male,31,0,0,335097,7.75,,Q\n",
      "751,1,2,\"Wells, Miss. Joan\",female,4,1,1,29103,23,,S\n",
      "752,1,3,\"Moor, Master. Meier\",male,6,0,1,392096,12.475,E121,S\n",
      "753,0,3,\"Vande Velde, Mr. Johannes Joseph\",male,33,0,0,345780,9.5,,S\n",
      "754,0,3,\"Jonkoff, Mr. Lalio\",male,23,0,0,349204,7.8958,,S\n",
      "755,1,2,\"Herman, Mrs. Samuel (Jane Laver)\",female,48,1,2,220845,65,,S\n",
      "756,1,2,\"Hamalainen, Master. Viljo\",male,0.67,1,1,250649,14.5,,S\n",
      "757,0,3,\"Carlsson, Mr. August Sigfrid\",male,28,0,0,350042,7.7958,,S\n",
      "758,0,2,\"Bailey, Mr. Percy Andrew\",male,18,0,0,29108,11.5,,S\n",
      "759,0,3,\"Theobald, Mr. Thomas Leonard\",male,34,0,0,363294,8.05,,S\n",
      "760,1,1,\"Rothes, the Countess. of (Lucy Noel Martha Dyer-Edwards)\",female,33,0,0,110152,86.5,B77,S\n",
      "761,0,3,\"Garfirth, Mr. John\",male,,0,0,358585,14.5,,S\n",
      "762,0,3,\"Nirva, Mr. Iisakki Antino Aijo\",male,41,0,0,SOTON/O2 3101272,7.125,,S\n",
      "763,1,3,\"Barah, Mr. Hanna Assi\",male,20,0,0,2663,7.2292,,C\n",
      "764,1,1,\"Carter, Mrs. William Ernest (Lucile Polk)\",female,36,1,2,113760,120,B96 B98,S\n",
      "765,0,3,\"Eklund, Mr. Hans Linus\",male,16,0,0,347074,7.775,,S\n",
      "766,1,1,\"Hogeboom, Mrs. John C (Anna Andrews)\",female,51,1,0,13502,77.9583,D11,S\n",
      "767,0,1,\"Brewe, Dr. Arthur Jackson\",male,,0,0,112379,39.6,,C\n",
      "768,0,3,\"Mangan, Miss. Mary\",female,30.5,0,0,364850,7.75,,Q\n",
      "769,0,3,\"Moran, Mr. Daniel J\",male,,1,0,371110,24.15,,Q\n",
      "770,0,3,\"Gronnestad, Mr. Daniel Danielsen\",male,32,0,0,8471,8.3625,,S\n",
      "771,0,3,\"Lievens, Mr. Rene Aime\",male,24,0,0,345781,9.5,,S\n",
      "772,0,3,\"Jensen, Mr. Niels Peder\",male,48,0,0,350047,7.8542,,S\n",
      "773,0,2,\"Mack, Mrs. (Mary)\",female,57,0,0,S.O./P.P. 3,10.5,E77,S\n",
      "774,0,3,\"Elias, Mr. Dibo\",male,,0,0,2674,7.225,,C\n",
      "775,1,2,\"Hocking, Mrs. Elizabeth (Eliza Needs)\",female,54,1,3,29105,23,,S\n",
      "776,0,3,\"Myhrman, Mr. Pehr Fabian Oliver Malkolm\",male,18,0,0,347078,7.75,,S\n",
      "777,0,3,\"Tobin, Mr. Roger\",male,,0,0,383121,7.75,F38,Q\n",
      "778,1,3,\"Emanuel, Miss. Virginia Ethel\",female,5,0,0,364516,12.475,,S\n",
      "779,0,3,\"Kilgannon, Mr. Thomas J\",male,,0,0,36865,7.7375,,Q\n",
      "780,1,1,\"Robert, Mrs. Edward Scott (Elisabeth Walton McMillan)\",female,43,0,1,24160,211.3375,B3,S\n",
      "781,1,3,\"Ayoub, Miss. Banoura\",female,13,0,0,2687,7.2292,,C\n",
      "782,1,1,\"Dick, Mrs. Albert Adrian (Vera Gillespie)\",female,17,1,0,17474,57,B20,S\n",
      "783,0,1,\"Long, Mr. Milton Clyde\",male,29,0,0,113501,30,D6,S\n",
      "784,0,3,\"Johnston, Mr. Andrew G\",male,,1,2,W./C. 6607,23.45,,S\n",
      "785,0,3,\"Ali, Mr. William\",male,25,0,0,SOTON/O.Q. 3101312,7.05,,S\n",
      "786,0,3,\"Harmer, Mr. Abraham (David Lishin)\",male,25,0,0,374887,7.25,,S\n",
      "787,1,3,\"Sjoblom, Miss. Anna Sofia\",female,18,0,0,3101265,7.4958,,S\n",
      "788,0,3,\"Rice, Master. George Hugh\",male,8,4,1,382652,29.125,,Q\n",
      "789,1,3,\"Dean, Master. Bertram Vere\",male,1,1,2,C.A. 2315,20.575,,S\n",
      "790,0,1,\"Guggenheim, Mr. Benjamin\",male,46,0,0,PC 17593,79.2,B82 B84,C\n",
      "791,0,3,\"Keane, Mr. Andrew \"\"Andy\"\"\",male,,0,0,12460,7.75,,Q\n",
      "792,0,2,\"Gaskell, Mr. Alfred\",male,16,0,0,239865,26,,S\n",
      "793,0,3,\"Sage, Miss. Stella Anna\",female,,8,2,CA. 2343,69.55,,S\n",
      "794,0,1,\"Hoyt, Mr. William Fisher\",male,,0,0,PC 17600,30.6958,,C\n",
      "795,0,3,\"Dantcheff, Mr. Ristiu\",male,25,0,0,349203,7.8958,,S\n",
      "796,0,2,\"Otter, Mr. Richard\",male,39,0,0,28213,13,,S\n",
      "797,1,1,\"Leader, Dr. Alice (Farnham)\",female,49,0,0,17465,25.9292,D17,S\n",
      "798,1,3,\"Osman, Mrs. Mara\",female,31,0,0,349244,8.6833,,S\n",
      "799,0,3,\"Ibrahim Shawah, Mr. Yousseff\",male,30,0,0,2685,7.2292,,C\n",
      "800,0,3,\"Van Impe, Mrs. Jean Baptiste (Rosalie Paula Govaert)\",female,30,1,1,345773,24.15,,S\n",
      "801,0,2,\"Ponesell, Mr. Martin\",male,34,0,0,250647,13,,S\n",
      "802,1,2,\"Collyer, Mrs. Harvey (Charlotte Annie Tate)\",female,31,1,1,C.A. 31921,26.25,,S\n",
      "803,1,1,\"Carter, Master. William Thornton II\",male,11,1,2,113760,120,B96 B98,S\n",
      "804,1,3,\"Thomas, Master. Assad Alexander\",male,0.42,0,1,2625,8.5167,,C\n",
      "805,1,3,\"Hedman, Mr. Oskar Arvid\",male,27,0,0,347089,6.975,,S\n",
      "806,0,3,\"Johansson, Mr. Karl Johan\",male,31,0,0,347063,7.775,,S\n",
      "807,0,1,\"Andrews, Mr. Thomas Jr\",male,39,0,0,112050,0,A36,S\n",
      "808,0,3,\"Pettersson, Miss. Ellen Natalia\",female,18,0,0,347087,7.775,,S\n",
      "809,0,2,\"Meyer, Mr. August\",male,39,0,0,248723,13,,S\n",
      "810,1,1,\"Chambers, Mrs. Norman Campbell (Bertha Griggs)\",female,33,1,0,113806,53.1,E8,S\n",
      "811,0,3,\"Alexander, Mr. William\",male,26,0,0,3474,7.8875,,S\n",
      "812,0,3,\"Lester, Mr. James\",male,39,0,0,A/4 48871,24.15,,S\n",
      "813,0,2,\"Slemen, Mr. Richard James\",male,35,0,0,28206,10.5,,S\n",
      "814,0,3,\"Andersson, Miss. Ebba Iris Alfrida\",female,6,4,2,347082,31.275,,S\n",
      "815,0,3,\"Tomlin, Mr. Ernest Portage\",male,30.5,0,0,364499,8.05,,S\n",
      "816,0,1,\"Fry, Mr. Richard\",male,,0,0,112058,0,B102,S\n",
      "817,0,3,\"Heininen, Miss. Wendla Maria\",female,23,0,0,STON/O2. 3101290,7.925,,S\n",
      "818,0,2,\"Mallet, Mr. Albert\",male,31,1,1,S.C./PARIS 2079,37.0042,,C\n",
      "819,0,3,\"Holm, Mr. John Fredrik Alexander\",male,43,0,0,C 7075,6.45,,S\n",
      "820,0,3,\"Skoog, Master. Karl Thorsten\",male,10,3,2,347088,27.9,,S\n",
      "821,1,1,\"Hays, Mrs. Charles Melville (Clara Jennings Gregg)\",female,52,1,1,12749,93.5,B69,S\n",
      "822,1,3,\"Lulic, Mr. Nikola\",male,27,0,0,315098,8.6625,,S\n",
      "823,0,1,\"Reuchlin, Jonkheer. John George\",male,38,0,0,19972,0,,S\n",
      "824,1,3,\"Moor, Mrs. (Beila)\",female,27,0,1,392096,12.475,E121,S\n",
      "825,0,3,\"Panula, Master. Urho Abraham\",male,2,4,1,3101295,39.6875,,S\n",
      "826,0,3,\"Flynn, Mr. John\",male,,0,0,368323,6.95,,Q\n",
      "827,0,3,\"Lam, Mr. Len\",male,,0,0,1601,56.4958,,S\n",
      "828,1,2,\"Mallet, Master. Andre\",male,1,0,2,S.C./PARIS 2079,37.0042,,C\n",
      "829,1,3,\"McCormack, Mr. Thomas Joseph\",male,,0,0,367228,7.75,,Q\n",
      "830,1,1,\"Stone, Mrs. George Nelson (Martha Evelyn)\",female,62,0,0,113572,80,B28,\n",
      "831,1,3,\"Yasbeck, Mrs. Antoni (Selini Alexander)\",female,15,1,0,2659,14.4542,,C\n",
      "832,1,2,\"Richards, Master. George Sibley\",male,0.83,1,1,29106,18.75,,S\n",
      "833,0,3,\"Saad, Mr. Amin\",male,,0,0,2671,7.2292,,C\n",
      "834,0,3,\"Augustsson, Mr. Albert\",male,23,0,0,347468,7.8542,,S\n",
      "835,0,3,\"Allum, Mr. Owen George\",male,18,0,0,2223,8.3,,S\n",
      "836,1,1,\"Compton, Miss. Sara Rebecca\",female,39,1,1,PC 17756,83.1583,E49,C\n",
      "837,0,3,\"Pasic, Mr. Jakob\",male,21,0,0,315097,8.6625,,S\n",
      "838,0,3,\"Sirota, Mr. Maurice\",male,,0,0,392092,8.05,,S\n",
      "839,1,3,\"Chip, Mr. Chang\",male,32,0,0,1601,56.4958,,S\n",
      "840,1,1,\"Marechal, Mr. Pierre\",male,,0,0,11774,29.7,C47,C\n",
      "841,0,3,\"Alhomaki, Mr. Ilmari Rudolf\",male,20,0,0,SOTON/O2 3101287,7.925,,S\n",
      "842,0,2,\"Mudd, Mr. Thomas Charles\",male,16,0,0,S.O./P.P. 3,10.5,,S\n",
      "843,1,1,\"Serepeca, Miss. Augusta\",female,30,0,0,113798,31,,C\n",
      "844,0,3,\"Lemberopolous, Mr. Peter L\",male,34.5,0,0,2683,6.4375,,C\n",
      "845,0,3,\"Culumovic, Mr. Jeso\",male,17,0,0,315090,8.6625,,S\n",
      "846,0,3,\"Abbing, Mr. Anthony\",male,42,0,0,C.A. 5547,7.55,,S\n",
      "847,0,3,\"Sage, Mr. Douglas Bullen\",male,,8,2,CA. 2343,69.55,,S\n",
      "848,0,3,\"Markoff, Mr. Marin\",male,35,0,0,349213,7.8958,,C\n",
      "849,0,2,\"Harper, Rev. John\",male,28,0,1,248727,33,,S\n",
      "850,1,1,\"Goldenberg, Mrs. Samuel L (Edwiga Grabowska)\",female,,1,0,17453,89.1042,C92,C\n",
      "851,0,3,\"Andersson, Master. Sigvard Harald Elias\",male,4,4,2,347082,31.275,,S\n",
      "852,0,3,\"Svensson, Mr. Johan\",male,74,0,0,347060,7.775,,S\n",
      "853,0,3,\"Boulos, Miss. Nourelain\",female,9,1,1,2678,15.2458,,C\n",
      "854,1,1,\"Lines, Miss. Mary Conover\",female,16,0,1,PC 17592,39.4,D28,S\n",
      "855,0,2,\"Carter, Mrs. Ernest Courtenay (Lilian Hughes)\",female,44,1,0,244252,26,,S\n",
      "856,1,3,\"Aks, Mrs. Sam (Leah Rosen)\",female,18,0,1,392091,9.35,,S\n",
      "857,1,1,\"Wick, Mrs. George Dennick (Mary Hitchcock)\",female,45,1,1,36928,164.8667,,S\n",
      "858,1,1,\"Daly, Mr. Peter Denis \",male,51,0,0,113055,26.55,E17,S\n",
      "859,1,3,\"Baclini, Mrs. Solomon (Latifa Qurban)\",female,24,0,3,2666,19.2583,,C\n",
      "860,0,3,\"Razi, Mr. Raihed\",male,,0,0,2629,7.2292,,C\n",
      "861,0,3,\"Hansen, Mr. Claus Peter\",male,41,2,0,350026,14.1083,,S\n",
      "862,0,2,\"Giles, Mr. Frederick Edward\",male,21,1,0,28134,11.5,,S\n",
      "863,1,1,\"Swift, Mrs. Frederick Joel (Margaret Welles Barron)\",female,48,0,0,17466,25.9292,D17,S\n",
      "864,0,3,\"Sage, Miss. Dorothy Edith \"\"Dolly\"\"\",female,,8,2,CA. 2343,69.55,,S\n",
      "865,0,2,\"Gill, Mr. John William\",male,24,0,0,233866,13,,S\n",
      "866,1,2,\"Bystrom, Mrs. (Karolina)\",female,42,0,0,236852,13,,S\n",
      "867,1,2,\"Duran y More, Miss. Asuncion\",female,27,1,0,SC/PARIS 2149,13.8583,,C\n",
      "868,0,1,\"Roebling, Mr. Washington Augustus II\",male,31,0,0,PC 17590,50.4958,A24,S\n",
      "869,0,3,\"van Melkebeke, Mr. Philemon\",male,,0,0,345777,9.5,,S\n",
      "870,1,3,\"Johnson, Master. Harold Theodor\",male,4,1,1,347742,11.1333,,S\n",
      "871,0,3,\"Balkic, Mr. Cerin\",male,26,0,0,349248,7.8958,,S\n",
      "872,1,1,\"Beckwith, Mrs. Richard Leonard (Sallie Monypeny)\",female,47,1,1,11751,52.5542,D35,S\n",
      "873,0,1,\"Carlsson, Mr. Frans Olof\",male,33,0,0,695,5,B51 B53 B55,S\n",
      "874,0,3,\"Vander Cruyssen, Mr. Victor\",male,47,0,0,345765,9,,S\n",
      "875,1,2,\"Abelson, Mrs. Samuel (Hannah Wizosky)\",female,28,1,0,P/PP 3381,24,,C\n",
      "876,1,3,\"Najib, Miss. Adele Kiamie \"\"Jane\"\"\",female,15,0,0,2667,7.225,,C\n",
      "877,0,3,\"Gustafsson, Mr. Alfred Ossian\",male,20,0,0,7534,9.8458,,S\n",
      "878,0,3,\"Petroff, Mr. Nedelio\",male,19,0,0,349212,7.8958,,S\n",
      "879,0,3,\"Laleff, Mr. Kristo\",male,,0,0,349217,7.8958,,S\n",
      "880,1,1,\"Potter, Mrs. Thomas Jr (Lily Alexenia Wilson)\",female,56,0,1,11767,83.1583,C50,C\n",
      "881,1,2,\"Shelley, Mrs. William (Imanita Parrish Hall)\",female,25,0,1,230433,26,,S\n",
      "882,0,3,\"Markun, Mr. Johann\",male,33,0,0,349257,7.8958,,S\n",
      "883,0,3,\"Dahlberg, Miss. Gerda Ulrika\",female,22,0,0,7552,10.5167,,S\n",
      "884,0,2,\"Banfield, Mr. Frederick James\",male,28,0,0,C.A./SOTON 34068,10.5,,S\n",
      "885,0,3,\"Sutehall, Mr. Henry Jr\",male,25,0,0,SOTON/OQ 392076,7.05,,S\n",
      "886,0,3,\"Rice, Mrs. William (Margaret Norton)\",female,39,0,5,382652,29.125,,Q\n",
      "887,0,2,\"Montvila, Rev. Juozas\",male,27,0,0,211536,13,,S\n",
      "888,1,1,\"Graham, Miss. Margaret Edith\",female,19,0,0,112053,30,B42,S\n",
      "889,0,3,\"Johnston, Miss. Catherine Helen \"\"Carrie\"\"\",female,,1,2,W./C. 6607,23.45,,S\n",
      "890,1,1,\"Behr, Mr. Karl Howell\",male,26,0,0,111369,30,C148,C\n",
      "891,0,3,\"Dooley, Mr. Patrick\",male,32,0,0,370376,7.75,,Q\n",
      "\n"
     ]
    }
   ],
   "source": [
    "with open(\"titanic.csv\", \"r\", encoding=\"utf-8\") as file:\n",
    "    print(file.read())"
   ]
  },
  {
   "cell_type": "markdown",
   "id": "df50e9df",
   "metadata": {
    "id": "df50e9df"
   },
   "source": [
    "**Create people.csv file in your working directory as below:**\n",
    "\n",
    "``row num,first name,last name,ages\n",
    "1,isabella,bold,22\n",
    "2,lara,bold,12\n",
    "3,solomon,bold,46\n",
    "4,adam,smithson,40\n",
    "5,mose,smithson,51``"
   ]
  },
  {
   "cell_type": "code",
   "execution_count": null,
   "id": "7f2865cc",
   "metadata": {
    "id": "7f2865cc",
    "outputId": "4a5269f5-7f8f-4cd9-9bc9-85b9ee74a34f"
   },
   "outputs": [
    {
     "name": "stdout",
     "output_type": "stream",
     "text": [
      "row num,first name,last name,ages\n",
      "1,isabella,bold,22\n",
      "2,lara,bold,12\n",
      "3,solomon,bold,46\n",
      "4,adam,smithson,40\n",
      "5,mose,smithson,51\n"
     ]
    }
   ],
   "source": [
    "with open(\"people.csv\", \"r\", encoding=\"utf-8\") as file :\n",
    "    print(file.read())"
   ]
  },
  {
   "cell_type": "code",
   "execution_count": null,
   "id": "ced199ba",
   "metadata": {
    "id": "ced199ba"
   },
   "outputs": [],
   "source": [
    "with open(\"titanic.csv\") as file :\n",
    "    print(file.read())"
   ]
  },
  {
   "cell_type": "markdown",
   "id": "5a45a918",
   "metadata": {
    "id": "5a45a918"
   },
   "source": [
    "<a id=\"toc\"></a>\n",
    "\n",
    "## <p style=\"background-color:#F39C12; font-family:newtimeroman; color:#FFF9ED; font-size:125%; text-align:center; border-radius:10px 10px;\">2. Reading the CSV Files with csv Module</p>"
   ]
  },
  {
   "cell_type": "code",
   "execution_count": null,
   "id": "4663e88a",
   "metadata": {
    "id": "4663e88a"
   },
   "outputs": [],
   "source": [
    "import csv"
   ]
  },
  {
   "cell_type": "code",
   "execution_count": null,
   "id": "c99076c5",
   "metadata": {
    "id": "c99076c5",
    "outputId": "c6713f97-a873-44f8-a61b-bdc436d8fd01"
   },
   "outputs": [
    {
     "name": "stdout",
     "output_type": "stream",
     "text": [
      "['no', 'fruit', 'amount']\n",
      "['1', 'Banana', '4 lb']\n",
      "['2', 'Orange', '5 lb']\n",
      "['3', 'Apple', '2 lb']\n",
      "['4', 'Strawberry', '6 lb']\n",
      "['5', 'Cherry', '3 lb']\n"
     ]
    }
   ],
   "source": [
    "with open(\"fruits_2.csv\", \"r\", newline=\"\", encoding=\"utf-8\") as file:\n",
    "    csv_rows = csv.reader(file, delimiter=\",\")  # reader() function takes each\n",
    "                                # row (lines) into a list\n",
    "        \n",
    "    for row in csv_rows:\n",
    "        print(row)"
   ]
  },
  {
   "cell_type": "code",
   "execution_count": null,
   "id": "1acb09c7",
   "metadata": {
    "id": "1acb09c7",
    "outputId": "57ee3fd4-8bad-45fc-97e7-669330fee1c7"
   },
   "outputs": [
    {
     "name": "stdout",
     "output_type": "stream",
     "text": [
      "['row num', 'first name', 'last name', 'ages']\n",
      "['1', 'isabella', 'bold', '22']\n",
      "['2', 'lara', 'bold', '12']\n",
      "['3', 'solomon', 'bold', '46']\n",
      "['4', 'adam', 'smithson', '40']\n",
      "['5', 'mose', 'smithson', '51']\n"
     ]
    }
   ],
   "source": [
    "with open(\"people.csv\", \"r\", newline=\"\", encoding=\"utf-8\") as file:\n",
    "    csv_rows = csv.reader(file)  # reader() function takes each\n",
    "                                # row (lines) into a list\n",
    "        \n",
    "    for row in csv_rows:\n",
    "        print(row)"
   ]
  },
  {
   "cell_type": "code",
   "execution_count": null,
   "id": "5a91c935",
   "metadata": {
    "id": "5a91c935",
    "outputId": "e2dd618e-c34e-4af0-fa89-6e1b6761465f"
   },
   "outputs": [
    {
     "name": "stdout",
     "output_type": "stream",
     "text": [
      "['row num,first name,last name,ages']\n",
      "['1,isabella,bold,22']\n",
      "['2,lara,bold,12']\n",
      "['3,solomon,bold,46']\n",
      "['4,adam,smithson,40']\n",
      "['5,mose,smithson,51']\n"
     ]
    }
   ],
   "source": [
    "with open(\"people.csv\", \"r\", newline=\"\", encoding=\"utf-8\") as file:\n",
    "    csv_rows = csv.reader(file, delimiter=\":\")  \n",
    "# we specified a char \":\" that is not used in the csv file as a value of delimiter \n",
    "                                               \n",
    "    for row in csv_rows:\n",
    "        print(row)\n",
    "        \n",
    "# Note that! : we get each row as a single string in a list!"
   ]
  },
  {
   "cell_type": "markdown",
   "id": "07c7b6c6",
   "metadata": {
    "id": "07c7b6c6"
   },
   "source": [
    "<a id=\"toc\"></a>\n",
    "\n",
    "## <p style=\"background-color:#F39C12; font-family:newtimeroman; color:#FFF9ED; font-size:125%; text-align:center; border-radius:10px 10px;\">3. Reading & Writing the CSV Files with Pandas</p>"
   ]
  },
  {
   "cell_type": "code",
   "execution_count": null,
   "id": "21e32b88",
   "metadata": {
    "id": "21e32b88"
   },
   "outputs": [],
   "source": [
    "# !pip install pandas"
   ]
  },
  {
   "cell_type": "code",
   "execution_count": null,
   "id": "c403fbeb",
   "metadata": {
    "id": "c403fbeb"
   },
   "outputs": [],
   "source": [
    "import pandas as pd"
   ]
  },
  {
   "cell_type": "markdown",
   "id": "c88d8641",
   "metadata": {
    "id": "c88d8641"
   },
   "source": [
    "## read_csv() method\n",
    "\n",
    "**Read a comma-separated values (csv) file into DataFrame.**"
   ]
  },
  {
   "cell_type": "code",
   "execution_count": null,
   "id": "e3d04769",
   "metadata": {
    "id": "e3d04769",
    "outputId": "346044e9-d4a6-43e2-8d20-01de5155f12f"
   },
   "outputs": [
    {
     "data": {
      "text/html": [
       "<div>\n",
       "<style scoped>\n",
       "    .dataframe tbody tr th:only-of-type {\n",
       "        vertical-align: middle;\n",
       "    }\n",
       "\n",
       "    .dataframe tbody tr th {\n",
       "        vertical-align: top;\n",
       "    }\n",
       "\n",
       "    .dataframe thead th {\n",
       "        text-align: right;\n",
       "    }\n",
       "</style>\n",
       "<table border=\"1\" class=\"dataframe\">\n",
       "  <thead>\n",
       "    <tr style=\"text-align: right;\">\n",
       "      <th></th>\n",
       "      <th>PassengerId</th>\n",
       "      <th>Survived</th>\n",
       "      <th>Pclass</th>\n",
       "      <th>Name</th>\n",
       "      <th>Sex</th>\n",
       "      <th>Age</th>\n",
       "      <th>SibSp</th>\n",
       "      <th>Parch</th>\n",
       "      <th>Ticket</th>\n",
       "      <th>Fare</th>\n",
       "      <th>Cabin</th>\n",
       "      <th>Embarked</th>\n",
       "    </tr>\n",
       "  </thead>\n",
       "  <tbody>\n",
       "    <tr>\n",
       "      <th>0</th>\n",
       "      <td>1</td>\n",
       "      <td>0</td>\n",
       "      <td>3</td>\n",
       "      <td>Braund, Mr. Owen Harris</td>\n",
       "      <td>male</td>\n",
       "      <td>22.0</td>\n",
       "      <td>1</td>\n",
       "      <td>0</td>\n",
       "      <td>A/5 21171</td>\n",
       "      <td>7.2500</td>\n",
       "      <td>NaN</td>\n",
       "      <td>S</td>\n",
       "    </tr>\n",
       "    <tr>\n",
       "      <th>1</th>\n",
       "      <td>2</td>\n",
       "      <td>1</td>\n",
       "      <td>1</td>\n",
       "      <td>Cumings, Mrs. John Bradley (Florence Briggs Th...</td>\n",
       "      <td>female</td>\n",
       "      <td>38.0</td>\n",
       "      <td>1</td>\n",
       "      <td>0</td>\n",
       "      <td>PC 17599</td>\n",
       "      <td>71.2833</td>\n",
       "      <td>C85</td>\n",
       "      <td>C</td>\n",
       "    </tr>\n",
       "    <tr>\n",
       "      <th>2</th>\n",
       "      <td>3</td>\n",
       "      <td>1</td>\n",
       "      <td>3</td>\n",
       "      <td>Heikkinen, Miss. Laina</td>\n",
       "      <td>female</td>\n",
       "      <td>26.0</td>\n",
       "      <td>0</td>\n",
       "      <td>0</td>\n",
       "      <td>STON/O2. 3101282</td>\n",
       "      <td>7.9250</td>\n",
       "      <td>NaN</td>\n",
       "      <td>S</td>\n",
       "    </tr>\n",
       "    <tr>\n",
       "      <th>3</th>\n",
       "      <td>4</td>\n",
       "      <td>1</td>\n",
       "      <td>1</td>\n",
       "      <td>Futrelle, Mrs. Jacques Heath (Lily May Peel)</td>\n",
       "      <td>female</td>\n",
       "      <td>35.0</td>\n",
       "      <td>1</td>\n",
       "      <td>0</td>\n",
       "      <td>113803</td>\n",
       "      <td>53.1000</td>\n",
       "      <td>C123</td>\n",
       "      <td>S</td>\n",
       "    </tr>\n",
       "    <tr>\n",
       "      <th>4</th>\n",
       "      <td>5</td>\n",
       "      <td>0</td>\n",
       "      <td>3</td>\n",
       "      <td>Allen, Mr. William Henry</td>\n",
       "      <td>male</td>\n",
       "      <td>35.0</td>\n",
       "      <td>0</td>\n",
       "      <td>0</td>\n",
       "      <td>373450</td>\n",
       "      <td>8.0500</td>\n",
       "      <td>NaN</td>\n",
       "      <td>S</td>\n",
       "    </tr>\n",
       "    <tr>\n",
       "      <th>...</th>\n",
       "      <td>...</td>\n",
       "      <td>...</td>\n",
       "      <td>...</td>\n",
       "      <td>...</td>\n",
       "      <td>...</td>\n",
       "      <td>...</td>\n",
       "      <td>...</td>\n",
       "      <td>...</td>\n",
       "      <td>...</td>\n",
       "      <td>...</td>\n",
       "      <td>...</td>\n",
       "      <td>...</td>\n",
       "    </tr>\n",
       "    <tr>\n",
       "      <th>886</th>\n",
       "      <td>887</td>\n",
       "      <td>0</td>\n",
       "      <td>2</td>\n",
       "      <td>Montvila, Rev. Juozas</td>\n",
       "      <td>male</td>\n",
       "      <td>27.0</td>\n",
       "      <td>0</td>\n",
       "      <td>0</td>\n",
       "      <td>211536</td>\n",
       "      <td>13.0000</td>\n",
       "      <td>NaN</td>\n",
       "      <td>S</td>\n",
       "    </tr>\n",
       "    <tr>\n",
       "      <th>887</th>\n",
       "      <td>888</td>\n",
       "      <td>1</td>\n",
       "      <td>1</td>\n",
       "      <td>Graham, Miss. Margaret Edith</td>\n",
       "      <td>female</td>\n",
       "      <td>19.0</td>\n",
       "      <td>0</td>\n",
       "      <td>0</td>\n",
       "      <td>112053</td>\n",
       "      <td>30.0000</td>\n",
       "      <td>B42</td>\n",
       "      <td>S</td>\n",
       "    </tr>\n",
       "    <tr>\n",
       "      <th>888</th>\n",
       "      <td>889</td>\n",
       "      <td>0</td>\n",
       "      <td>3</td>\n",
       "      <td>Johnston, Miss. Catherine Helen \"Carrie\"</td>\n",
       "      <td>female</td>\n",
       "      <td>NaN</td>\n",
       "      <td>1</td>\n",
       "      <td>2</td>\n",
       "      <td>W./C. 6607</td>\n",
       "      <td>23.4500</td>\n",
       "      <td>NaN</td>\n",
       "      <td>S</td>\n",
       "    </tr>\n",
       "    <tr>\n",
       "      <th>889</th>\n",
       "      <td>890</td>\n",
       "      <td>1</td>\n",
       "      <td>1</td>\n",
       "      <td>Behr, Mr. Karl Howell</td>\n",
       "      <td>male</td>\n",
       "      <td>26.0</td>\n",
       "      <td>0</td>\n",
       "      <td>0</td>\n",
       "      <td>111369</td>\n",
       "      <td>30.0000</td>\n",
       "      <td>C148</td>\n",
       "      <td>C</td>\n",
       "    </tr>\n",
       "    <tr>\n",
       "      <th>890</th>\n",
       "      <td>891</td>\n",
       "      <td>0</td>\n",
       "      <td>3</td>\n",
       "      <td>Dooley, Mr. Patrick</td>\n",
       "      <td>male</td>\n",
       "      <td>32.0</td>\n",
       "      <td>0</td>\n",
       "      <td>0</td>\n",
       "      <td>370376</td>\n",
       "      <td>7.7500</td>\n",
       "      <td>NaN</td>\n",
       "      <td>Q</td>\n",
       "    </tr>\n",
       "  </tbody>\n",
       "</table>\n",
       "<p>891 rows × 12 columns</p>\n",
       "</div>"
      ],
      "text/plain": [
       "     PassengerId  Survived  Pclass  \\\n",
       "0              1         0       3   \n",
       "1              2         1       1   \n",
       "2              3         1       3   \n",
       "3              4         1       1   \n",
       "4              5         0       3   \n",
       "..           ...       ...     ...   \n",
       "886          887         0       2   \n",
       "887          888         1       1   \n",
       "888          889         0       3   \n",
       "889          890         1       1   \n",
       "890          891         0       3   \n",
       "\n",
       "                                                  Name     Sex   Age  SibSp  \\\n",
       "0                              Braund, Mr. Owen Harris    male  22.0      1   \n",
       "1    Cumings, Mrs. John Bradley (Florence Briggs Th...  female  38.0      1   \n",
       "2                               Heikkinen, Miss. Laina  female  26.0      0   \n",
       "3         Futrelle, Mrs. Jacques Heath (Lily May Peel)  female  35.0      1   \n",
       "4                             Allen, Mr. William Henry    male  35.0      0   \n",
       "..                                                 ...     ...   ...    ...   \n",
       "886                              Montvila, Rev. Juozas    male  27.0      0   \n",
       "887                       Graham, Miss. Margaret Edith  female  19.0      0   \n",
       "888           Johnston, Miss. Catherine Helen \"Carrie\"  female   NaN      1   \n",
       "889                              Behr, Mr. Karl Howell    male  26.0      0   \n",
       "890                                Dooley, Mr. Patrick    male  32.0      0   \n",
       "\n",
       "     Parch            Ticket     Fare Cabin Embarked  \n",
       "0        0         A/5 21171   7.2500   NaN        S  \n",
       "1        0          PC 17599  71.2833   C85        C  \n",
       "2        0  STON/O2. 3101282   7.9250   NaN        S  \n",
       "3        0            113803  53.1000  C123        S  \n",
       "4        0            373450   8.0500   NaN        S  \n",
       "..     ...               ...      ...   ...      ...  \n",
       "886      0            211536  13.0000   NaN        S  \n",
       "887      0            112053  30.0000   B42        S  \n",
       "888      2        W./C. 6607  23.4500   NaN        S  \n",
       "889      0            111369  30.0000  C148        C  \n",
       "890      0            370376   7.7500   NaN        Q  \n",
       "\n",
       "[891 rows x 12 columns]"
      ]
     },
     "execution_count": 2,
     "metadata": {},
     "output_type": "execute_result"
    }
   ],
   "source": [
    "df = pd.read_csv(\"titanic.csv\")\n",
    "df"
   ]
  },
  {
   "cell_type": "code",
   "execution_count": null,
   "id": "d666532d",
   "metadata": {
    "id": "d666532d",
    "outputId": "46b5c72c-d663-406b-82de-6aadc5d5e3d3"
   },
   "outputs": [
    {
     "data": {
      "text/plain": [
       "male      577\n",
       "female    314\n",
       "Name: Sex, dtype: int64"
      ]
     },
     "execution_count": 22,
     "metadata": {},
     "output_type": "execute_result"
    }
   ],
   "source": [
    "df.Sex.value_counts(dropna = False)\n",
    "\n",
    "# I just took the Sex column from the file and got the numbers of how many genders there are."
   ]
  },
  {
   "cell_type": "code",
   "execution_count": null,
   "id": "3f8fcf45",
   "metadata": {
    "id": "3f8fcf45",
    "outputId": "5230e3b0-0601-42a8-d318-01c934422c36"
   },
   "outputs": [
    {
     "data": {
      "text/html": [
       "<div>\n",
       "<style scoped>\n",
       "    .dataframe tbody tr th:only-of-type {\n",
       "        vertical-align: middle;\n",
       "    }\n",
       "\n",
       "    .dataframe tbody tr th {\n",
       "        vertical-align: top;\n",
       "    }\n",
       "\n",
       "    .dataframe thead th {\n",
       "        text-align: right;\n",
       "    }\n",
       "</style>\n",
       "<table border=\"1\" class=\"dataframe\">\n",
       "  <thead>\n",
       "    <tr style=\"text-align: right;\">\n",
       "      <th></th>\n",
       "      <th>PassengerId</th>\n",
       "      <th>Survived</th>\n",
       "      <th>Pclass</th>\n",
       "      <th>Name</th>\n",
       "      <th>Sex</th>\n",
       "      <th>Age</th>\n",
       "      <th>SibSp</th>\n",
       "      <th>Parch</th>\n",
       "      <th>Ticket</th>\n",
       "      <th>Fare</th>\n",
       "      <th>Cabin</th>\n",
       "      <th>Embarked</th>\n",
       "    </tr>\n",
       "  </thead>\n",
       "  <tbody>\n",
       "    <tr>\n",
       "      <th>1</th>\n",
       "      <td>2</td>\n",
       "      <td>1</td>\n",
       "      <td>1</td>\n",
       "      <td>Cumings, Mrs. John Bradley (Florence Briggs Th...</td>\n",
       "      <td>female</td>\n",
       "      <td>38.0</td>\n",
       "      <td>1</td>\n",
       "      <td>0</td>\n",
       "      <td>PC 17599</td>\n",
       "      <td>71.2833</td>\n",
       "      <td>C85</td>\n",
       "      <td>C</td>\n",
       "    </tr>\n",
       "    <tr>\n",
       "      <th>2</th>\n",
       "      <td>3</td>\n",
       "      <td>1</td>\n",
       "      <td>3</td>\n",
       "      <td>Heikkinen, Miss. Laina</td>\n",
       "      <td>female</td>\n",
       "      <td>26.0</td>\n",
       "      <td>0</td>\n",
       "      <td>0</td>\n",
       "      <td>STON/O2. 3101282</td>\n",
       "      <td>7.9250</td>\n",
       "      <td>NaN</td>\n",
       "      <td>S</td>\n",
       "    </tr>\n",
       "    <tr>\n",
       "      <th>3</th>\n",
       "      <td>4</td>\n",
       "      <td>1</td>\n",
       "      <td>1</td>\n",
       "      <td>Futrelle, Mrs. Jacques Heath (Lily May Peel)</td>\n",
       "      <td>female</td>\n",
       "      <td>35.0</td>\n",
       "      <td>1</td>\n",
       "      <td>0</td>\n",
       "      <td>113803</td>\n",
       "      <td>53.1000</td>\n",
       "      <td>C123</td>\n",
       "      <td>S</td>\n",
       "    </tr>\n",
       "    <tr>\n",
       "      <th>8</th>\n",
       "      <td>9</td>\n",
       "      <td>1</td>\n",
       "      <td>3</td>\n",
       "      <td>Johnson, Mrs. Oscar W (Elisabeth Vilhelmina Berg)</td>\n",
       "      <td>female</td>\n",
       "      <td>27.0</td>\n",
       "      <td>0</td>\n",
       "      <td>2</td>\n",
       "      <td>347742</td>\n",
       "      <td>11.1333</td>\n",
       "      <td>NaN</td>\n",
       "      <td>S</td>\n",
       "    </tr>\n",
       "    <tr>\n",
       "      <th>9</th>\n",
       "      <td>10</td>\n",
       "      <td>1</td>\n",
       "      <td>2</td>\n",
       "      <td>Nasser, Mrs. Nicholas (Adele Achem)</td>\n",
       "      <td>female</td>\n",
       "      <td>14.0</td>\n",
       "      <td>1</td>\n",
       "      <td>0</td>\n",
       "      <td>237736</td>\n",
       "      <td>30.0708</td>\n",
       "      <td>NaN</td>\n",
       "      <td>C</td>\n",
       "    </tr>\n",
       "    <tr>\n",
       "      <th>...</th>\n",
       "      <td>...</td>\n",
       "      <td>...</td>\n",
       "      <td>...</td>\n",
       "      <td>...</td>\n",
       "      <td>...</td>\n",
       "      <td>...</td>\n",
       "      <td>...</td>\n",
       "      <td>...</td>\n",
       "      <td>...</td>\n",
       "      <td>...</td>\n",
       "      <td>...</td>\n",
       "      <td>...</td>\n",
       "    </tr>\n",
       "    <tr>\n",
       "      <th>880</th>\n",
       "      <td>881</td>\n",
       "      <td>1</td>\n",
       "      <td>2</td>\n",
       "      <td>Shelley, Mrs. William (Imanita Parrish Hall)</td>\n",
       "      <td>female</td>\n",
       "      <td>25.0</td>\n",
       "      <td>0</td>\n",
       "      <td>1</td>\n",
       "      <td>230433</td>\n",
       "      <td>26.0000</td>\n",
       "      <td>NaN</td>\n",
       "      <td>S</td>\n",
       "    </tr>\n",
       "    <tr>\n",
       "      <th>882</th>\n",
       "      <td>883</td>\n",
       "      <td>0</td>\n",
       "      <td>3</td>\n",
       "      <td>Dahlberg, Miss. Gerda Ulrika</td>\n",
       "      <td>female</td>\n",
       "      <td>22.0</td>\n",
       "      <td>0</td>\n",
       "      <td>0</td>\n",
       "      <td>7552</td>\n",
       "      <td>10.5167</td>\n",
       "      <td>NaN</td>\n",
       "      <td>S</td>\n",
       "    </tr>\n",
       "    <tr>\n",
       "      <th>885</th>\n",
       "      <td>886</td>\n",
       "      <td>0</td>\n",
       "      <td>3</td>\n",
       "      <td>Rice, Mrs. William (Margaret Norton)</td>\n",
       "      <td>female</td>\n",
       "      <td>39.0</td>\n",
       "      <td>0</td>\n",
       "      <td>5</td>\n",
       "      <td>382652</td>\n",
       "      <td>29.1250</td>\n",
       "      <td>NaN</td>\n",
       "      <td>Q</td>\n",
       "    </tr>\n",
       "    <tr>\n",
       "      <th>887</th>\n",
       "      <td>888</td>\n",
       "      <td>1</td>\n",
       "      <td>1</td>\n",
       "      <td>Graham, Miss. Margaret Edith</td>\n",
       "      <td>female</td>\n",
       "      <td>19.0</td>\n",
       "      <td>0</td>\n",
       "      <td>0</td>\n",
       "      <td>112053</td>\n",
       "      <td>30.0000</td>\n",
       "      <td>B42</td>\n",
       "      <td>S</td>\n",
       "    </tr>\n",
       "    <tr>\n",
       "      <th>888</th>\n",
       "      <td>889</td>\n",
       "      <td>0</td>\n",
       "      <td>3</td>\n",
       "      <td>Johnston, Miss. Catherine Helen \"Carrie\"</td>\n",
       "      <td>female</td>\n",
       "      <td>NaN</td>\n",
       "      <td>1</td>\n",
       "      <td>2</td>\n",
       "      <td>W./C. 6607</td>\n",
       "      <td>23.4500</td>\n",
       "      <td>NaN</td>\n",
       "      <td>S</td>\n",
       "    </tr>\n",
       "  </tbody>\n",
       "</table>\n",
       "<p>314 rows × 12 columns</p>\n",
       "</div>"
      ],
      "text/plain": [
       "     PassengerId  Survived  Pclass  \\\n",
       "1              2         1       1   \n",
       "2              3         1       3   \n",
       "3              4         1       1   \n",
       "8              9         1       3   \n",
       "9             10         1       2   \n",
       "..           ...       ...     ...   \n",
       "880          881         1       2   \n",
       "882          883         0       3   \n",
       "885          886         0       3   \n",
       "887          888         1       1   \n",
       "888          889         0       3   \n",
       "\n",
       "                                                  Name     Sex   Age  SibSp  \\\n",
       "1    Cumings, Mrs. John Bradley (Florence Briggs Th...  female  38.0      1   \n",
       "2                               Heikkinen, Miss. Laina  female  26.0      0   \n",
       "3         Futrelle, Mrs. Jacques Heath (Lily May Peel)  female  35.0      1   \n",
       "8    Johnson, Mrs. Oscar W (Elisabeth Vilhelmina Berg)  female  27.0      0   \n",
       "9                  Nasser, Mrs. Nicholas (Adele Achem)  female  14.0      1   \n",
       "..                                                 ...     ...   ...    ...   \n",
       "880       Shelley, Mrs. William (Imanita Parrish Hall)  female  25.0      0   \n",
       "882                       Dahlberg, Miss. Gerda Ulrika  female  22.0      0   \n",
       "885               Rice, Mrs. William (Margaret Norton)  female  39.0      0   \n",
       "887                       Graham, Miss. Margaret Edith  female  19.0      0   \n",
       "888           Johnston, Miss. Catherine Helen \"Carrie\"  female   NaN      1   \n",
       "\n",
       "     Parch            Ticket     Fare Cabin Embarked  \n",
       "1        0          PC 17599  71.2833   C85        C  \n",
       "2        0  STON/O2. 3101282   7.9250   NaN        S  \n",
       "3        0            113803  53.1000  C123        S  \n",
       "8        2            347742  11.1333   NaN        S  \n",
       "9        0            237736  30.0708   NaN        C  \n",
       "..     ...               ...      ...   ...      ...  \n",
       "880      1            230433  26.0000   NaN        S  \n",
       "882      0              7552  10.5167   NaN        S  \n",
       "885      5            382652  29.1250   NaN        Q  \n",
       "887      0            112053  30.0000   B42        S  \n",
       "888      2        W./C. 6607  23.4500   NaN        S  \n",
       "\n",
       "[314 rows x 12 columns]"
      ]
     },
     "execution_count": 25,
     "metadata": {},
     "output_type": "execute_result"
    }
   ],
   "source": [
    "# I create \"ladies\" variable from the rows of \"Sex\" column contain the string \"female\"\n",
    "\n",
    "ladies = df[df[\"Sex\"] == \"female\"]\n",
    "ladies"
   ]
  },
  {
   "cell_type": "markdown",
   "id": "b1d90942",
   "metadata": {
    "id": "b1d90942"
   },
   "source": [
    "## to_csv() method\n",
    "\n",
    "**Write object to a comma-separated values (csv) file.**"
   ]
  },
  {
   "cell_type": "code",
   "execution_count": null,
   "id": "810004cc",
   "metadata": {
    "id": "810004cc"
   },
   "outputs": [],
   "source": [
    "ladies.to_csv(\"titanic_ladies.csv\", index = False)\n",
    "\n",
    "# Created a new csv file named \"titanic ladies.csv"
   ]
  },
  {
   "cell_type": "code",
   "execution_count": null,
   "id": "e2bc0d58",
   "metadata": {
    "id": "e2bc0d58",
    "outputId": "c49e3c74-c91c-45d2-aff3-065b25327b07"
   },
   "outputs": [
    {
     "data": {
      "text/html": [
       "<div>\n",
       "<style scoped>\n",
       "    .dataframe tbody tr th:only-of-type {\n",
       "        vertical-align: middle;\n",
       "    }\n",
       "\n",
       "    .dataframe tbody tr th {\n",
       "        vertical-align: top;\n",
       "    }\n",
       "\n",
       "    .dataframe thead th {\n",
       "        text-align: right;\n",
       "    }\n",
       "</style>\n",
       "<table border=\"1\" class=\"dataframe\">\n",
       "  <thead>\n",
       "    <tr style=\"text-align: right;\">\n",
       "      <th></th>\n",
       "      <th>PassengerId</th>\n",
       "      <th>Survived</th>\n",
       "      <th>Pclass</th>\n",
       "      <th>Name</th>\n",
       "      <th>Sex</th>\n",
       "      <th>Age</th>\n",
       "      <th>SibSp</th>\n",
       "      <th>Parch</th>\n",
       "      <th>Ticket</th>\n",
       "      <th>Fare</th>\n",
       "      <th>Cabin</th>\n",
       "      <th>Embarked</th>\n",
       "    </tr>\n",
       "  </thead>\n",
       "  <tbody>\n",
       "    <tr>\n",
       "      <th>0</th>\n",
       "      <td>2</td>\n",
       "      <td>1</td>\n",
       "      <td>1</td>\n",
       "      <td>Cumings, Mrs. John Bradley (Florence Briggs Th...</td>\n",
       "      <td>female</td>\n",
       "      <td>38.0</td>\n",
       "      <td>1</td>\n",
       "      <td>0</td>\n",
       "      <td>PC 17599</td>\n",
       "      <td>71.2833</td>\n",
       "      <td>C85</td>\n",
       "      <td>C</td>\n",
       "    </tr>\n",
       "    <tr>\n",
       "      <th>1</th>\n",
       "      <td>3</td>\n",
       "      <td>1</td>\n",
       "      <td>3</td>\n",
       "      <td>Heikkinen, Miss. Laina</td>\n",
       "      <td>female</td>\n",
       "      <td>26.0</td>\n",
       "      <td>0</td>\n",
       "      <td>0</td>\n",
       "      <td>STON/O2. 3101282</td>\n",
       "      <td>7.9250</td>\n",
       "      <td>NaN</td>\n",
       "      <td>S</td>\n",
       "    </tr>\n",
       "    <tr>\n",
       "      <th>2</th>\n",
       "      <td>4</td>\n",
       "      <td>1</td>\n",
       "      <td>1</td>\n",
       "      <td>Futrelle, Mrs. Jacques Heath (Lily May Peel)</td>\n",
       "      <td>female</td>\n",
       "      <td>35.0</td>\n",
       "      <td>1</td>\n",
       "      <td>0</td>\n",
       "      <td>113803</td>\n",
       "      <td>53.1000</td>\n",
       "      <td>C123</td>\n",
       "      <td>S</td>\n",
       "    </tr>\n",
       "    <tr>\n",
       "      <th>3</th>\n",
       "      <td>9</td>\n",
       "      <td>1</td>\n",
       "      <td>3</td>\n",
       "      <td>Johnson, Mrs. Oscar W (Elisabeth Vilhelmina Berg)</td>\n",
       "      <td>female</td>\n",
       "      <td>27.0</td>\n",
       "      <td>0</td>\n",
       "      <td>2</td>\n",
       "      <td>347742</td>\n",
       "      <td>11.1333</td>\n",
       "      <td>NaN</td>\n",
       "      <td>S</td>\n",
       "    </tr>\n",
       "    <tr>\n",
       "      <th>4</th>\n",
       "      <td>10</td>\n",
       "      <td>1</td>\n",
       "      <td>2</td>\n",
       "      <td>Nasser, Mrs. Nicholas (Adele Achem)</td>\n",
       "      <td>female</td>\n",
       "      <td>14.0</td>\n",
       "      <td>1</td>\n",
       "      <td>0</td>\n",
       "      <td>237736</td>\n",
       "      <td>30.0708</td>\n",
       "      <td>NaN</td>\n",
       "      <td>C</td>\n",
       "    </tr>\n",
       "    <tr>\n",
       "      <th>...</th>\n",
       "      <td>...</td>\n",
       "      <td>...</td>\n",
       "      <td>...</td>\n",
       "      <td>...</td>\n",
       "      <td>...</td>\n",
       "      <td>...</td>\n",
       "      <td>...</td>\n",
       "      <td>...</td>\n",
       "      <td>...</td>\n",
       "      <td>...</td>\n",
       "      <td>...</td>\n",
       "      <td>...</td>\n",
       "    </tr>\n",
       "    <tr>\n",
       "      <th>309</th>\n",
       "      <td>881</td>\n",
       "      <td>1</td>\n",
       "      <td>2</td>\n",
       "      <td>Shelley, Mrs. William (Imanita Parrish Hall)</td>\n",
       "      <td>female</td>\n",
       "      <td>25.0</td>\n",
       "      <td>0</td>\n",
       "      <td>1</td>\n",
       "      <td>230433</td>\n",
       "      <td>26.0000</td>\n",
       "      <td>NaN</td>\n",
       "      <td>S</td>\n",
       "    </tr>\n",
       "    <tr>\n",
       "      <th>310</th>\n",
       "      <td>883</td>\n",
       "      <td>0</td>\n",
       "      <td>3</td>\n",
       "      <td>Dahlberg, Miss. Gerda Ulrika</td>\n",
       "      <td>female</td>\n",
       "      <td>22.0</td>\n",
       "      <td>0</td>\n",
       "      <td>0</td>\n",
       "      <td>7552</td>\n",
       "      <td>10.5167</td>\n",
       "      <td>NaN</td>\n",
       "      <td>S</td>\n",
       "    </tr>\n",
       "    <tr>\n",
       "      <th>311</th>\n",
       "      <td>886</td>\n",
       "      <td>0</td>\n",
       "      <td>3</td>\n",
       "      <td>Rice, Mrs. William (Margaret Norton)</td>\n",
       "      <td>female</td>\n",
       "      <td>39.0</td>\n",
       "      <td>0</td>\n",
       "      <td>5</td>\n",
       "      <td>382652</td>\n",
       "      <td>29.1250</td>\n",
       "      <td>NaN</td>\n",
       "      <td>Q</td>\n",
       "    </tr>\n",
       "    <tr>\n",
       "      <th>312</th>\n",
       "      <td>888</td>\n",
       "      <td>1</td>\n",
       "      <td>1</td>\n",
       "      <td>Graham, Miss. Margaret Edith</td>\n",
       "      <td>female</td>\n",
       "      <td>19.0</td>\n",
       "      <td>0</td>\n",
       "      <td>0</td>\n",
       "      <td>112053</td>\n",
       "      <td>30.0000</td>\n",
       "      <td>B42</td>\n",
       "      <td>S</td>\n",
       "    </tr>\n",
       "    <tr>\n",
       "      <th>313</th>\n",
       "      <td>889</td>\n",
       "      <td>0</td>\n",
       "      <td>3</td>\n",
       "      <td>Johnston, Miss. Catherine Helen \"Carrie\"</td>\n",
       "      <td>female</td>\n",
       "      <td>NaN</td>\n",
       "      <td>1</td>\n",
       "      <td>2</td>\n",
       "      <td>W./C. 6607</td>\n",
       "      <td>23.4500</td>\n",
       "      <td>NaN</td>\n",
       "      <td>S</td>\n",
       "    </tr>\n",
       "  </tbody>\n",
       "</table>\n",
       "<p>314 rows × 12 columns</p>\n",
       "</div>"
      ],
      "text/plain": [
       "     PassengerId  Survived  Pclass  \\\n",
       "0              2         1       1   \n",
       "1              3         1       3   \n",
       "2              4         1       1   \n",
       "3              9         1       3   \n",
       "4             10         1       2   \n",
       "..           ...       ...     ...   \n",
       "309          881         1       2   \n",
       "310          883         0       3   \n",
       "311          886         0       3   \n",
       "312          888         1       1   \n",
       "313          889         0       3   \n",
       "\n",
       "                                                  Name     Sex   Age  SibSp  \\\n",
       "0    Cumings, Mrs. John Bradley (Florence Briggs Th...  female  38.0      1   \n",
       "1                               Heikkinen, Miss. Laina  female  26.0      0   \n",
       "2         Futrelle, Mrs. Jacques Heath (Lily May Peel)  female  35.0      1   \n",
       "3    Johnson, Mrs. Oscar W (Elisabeth Vilhelmina Berg)  female  27.0      0   \n",
       "4                  Nasser, Mrs. Nicholas (Adele Achem)  female  14.0      1   \n",
       "..                                                 ...     ...   ...    ...   \n",
       "309       Shelley, Mrs. William (Imanita Parrish Hall)  female  25.0      0   \n",
       "310                       Dahlberg, Miss. Gerda Ulrika  female  22.0      0   \n",
       "311               Rice, Mrs. William (Margaret Norton)  female  39.0      0   \n",
       "312                       Graham, Miss. Margaret Edith  female  19.0      0   \n",
       "313           Johnston, Miss. Catherine Helen \"Carrie\"  female   NaN      1   \n",
       "\n",
       "     Parch            Ticket     Fare Cabin Embarked  \n",
       "0        0          PC 17599  71.2833   C85        C  \n",
       "1        0  STON/O2. 3101282   7.9250   NaN        S  \n",
       "2        0            113803  53.1000  C123        S  \n",
       "3        2            347742  11.1333   NaN        S  \n",
       "4        0            237736  30.0708   NaN        C  \n",
       "..     ...               ...      ...   ...      ...  \n",
       "309      1            230433  26.0000   NaN        S  \n",
       "310      0              7552  10.5167   NaN        S  \n",
       "311      5            382652  29.1250   NaN        Q  \n",
       "312      0            112053  30.0000   B42        S  \n",
       "313      2        W./C. 6607  23.4500   NaN        S  \n",
       "\n",
       "[314 rows x 12 columns]"
      ]
     },
     "execution_count": 27,
     "metadata": {},
     "output_type": "execute_result"
    }
   ],
   "source": [
    "# Let's read our new csv file by using read_csv() method:\n",
    "\n",
    "pd.read_csv(\"titanic_ladies.csv\")"
   ]
  },
  {
   "cell_type": "code",
   "execution_count": null,
   "id": "5aa019b1",
   "metadata": {
    "id": "5aa019b1",
    "outputId": "950991be-757b-4d76-9563-c453df7fe3c4"
   },
   "outputs": [
    {
     "data": {
      "text/html": [
       "<div>\n",
       "<style scoped>\n",
       "    .dataframe tbody tr th:only-of-type {\n",
       "        vertical-align: middle;\n",
       "    }\n",
       "\n",
       "    .dataframe tbody tr th {\n",
       "        vertical-align: top;\n",
       "    }\n",
       "\n",
       "    .dataframe thead th {\n",
       "        text-align: right;\n",
       "    }\n",
       "</style>\n",
       "<table border=\"1\" class=\"dataframe\">\n",
       "  <thead>\n",
       "    <tr style=\"text-align: right;\">\n",
       "      <th></th>\n",
       "      <th>PassengerId</th>\n",
       "      <th>Survived</th>\n",
       "      <th>Pclass</th>\n",
       "      <th>Name</th>\n",
       "      <th>Sex</th>\n",
       "      <th>Age</th>\n",
       "      <th>SibSp</th>\n",
       "      <th>Parch</th>\n",
       "      <th>Ticket</th>\n",
       "      <th>Fare</th>\n",
       "      <th>Cabin</th>\n",
       "      <th>Embarked</th>\n",
       "    </tr>\n",
       "  </thead>\n",
       "  <tbody>\n",
       "    <tr>\n",
       "      <th>0</th>\n",
       "      <td>1</td>\n",
       "      <td>0</td>\n",
       "      <td>3</td>\n",
       "      <td>Braund, Mr. Owen Harris</td>\n",
       "      <td>male</td>\n",
       "      <td>22.0</td>\n",
       "      <td>1</td>\n",
       "      <td>0</td>\n",
       "      <td>A/5 21171</td>\n",
       "      <td>7.2500</td>\n",
       "      <td>NaN</td>\n",
       "      <td>S</td>\n",
       "    </tr>\n",
       "    <tr>\n",
       "      <th>4</th>\n",
       "      <td>5</td>\n",
       "      <td>0</td>\n",
       "      <td>3</td>\n",
       "      <td>Allen, Mr. William Henry</td>\n",
       "      <td>male</td>\n",
       "      <td>35.0</td>\n",
       "      <td>0</td>\n",
       "      <td>0</td>\n",
       "      <td>373450</td>\n",
       "      <td>8.0500</td>\n",
       "      <td>NaN</td>\n",
       "      <td>S</td>\n",
       "    </tr>\n",
       "    <tr>\n",
       "      <th>5</th>\n",
       "      <td>6</td>\n",
       "      <td>0</td>\n",
       "      <td>3</td>\n",
       "      <td>Moran, Mr. James</td>\n",
       "      <td>male</td>\n",
       "      <td>NaN</td>\n",
       "      <td>0</td>\n",
       "      <td>0</td>\n",
       "      <td>330877</td>\n",
       "      <td>8.4583</td>\n",
       "      <td>NaN</td>\n",
       "      <td>Q</td>\n",
       "    </tr>\n",
       "    <tr>\n",
       "      <th>6</th>\n",
       "      <td>7</td>\n",
       "      <td>0</td>\n",
       "      <td>1</td>\n",
       "      <td>McCarthy, Mr. Timothy J</td>\n",
       "      <td>male</td>\n",
       "      <td>54.0</td>\n",
       "      <td>0</td>\n",
       "      <td>0</td>\n",
       "      <td>17463</td>\n",
       "      <td>51.8625</td>\n",
       "      <td>E46</td>\n",
       "      <td>S</td>\n",
       "    </tr>\n",
       "    <tr>\n",
       "      <th>7</th>\n",
       "      <td>8</td>\n",
       "      <td>0</td>\n",
       "      <td>3</td>\n",
       "      <td>Palsson, Master. Gosta Leonard</td>\n",
       "      <td>male</td>\n",
       "      <td>2.0</td>\n",
       "      <td>3</td>\n",
       "      <td>1</td>\n",
       "      <td>349909</td>\n",
       "      <td>21.0750</td>\n",
       "      <td>NaN</td>\n",
       "      <td>S</td>\n",
       "    </tr>\n",
       "    <tr>\n",
       "      <th>...</th>\n",
       "      <td>...</td>\n",
       "      <td>...</td>\n",
       "      <td>...</td>\n",
       "      <td>...</td>\n",
       "      <td>...</td>\n",
       "      <td>...</td>\n",
       "      <td>...</td>\n",
       "      <td>...</td>\n",
       "      <td>...</td>\n",
       "      <td>...</td>\n",
       "      <td>...</td>\n",
       "      <td>...</td>\n",
       "    </tr>\n",
       "    <tr>\n",
       "      <th>884</th>\n",
       "      <td>885</td>\n",
       "      <td>0</td>\n",
       "      <td>3</td>\n",
       "      <td>Sutehall, Mr. Henry Jr</td>\n",
       "      <td>male</td>\n",
       "      <td>25.0</td>\n",
       "      <td>0</td>\n",
       "      <td>0</td>\n",
       "      <td>SOTON/OQ 392076</td>\n",
       "      <td>7.0500</td>\n",
       "      <td>NaN</td>\n",
       "      <td>S</td>\n",
       "    </tr>\n",
       "    <tr>\n",
       "      <th>885</th>\n",
       "      <td>886</td>\n",
       "      <td>0</td>\n",
       "      <td>3</td>\n",
       "      <td>Rice, Mrs. William (Margaret Norton)</td>\n",
       "      <td>female</td>\n",
       "      <td>39.0</td>\n",
       "      <td>0</td>\n",
       "      <td>5</td>\n",
       "      <td>382652</td>\n",
       "      <td>29.1250</td>\n",
       "      <td>NaN</td>\n",
       "      <td>Q</td>\n",
       "    </tr>\n",
       "    <tr>\n",
       "      <th>886</th>\n",
       "      <td>887</td>\n",
       "      <td>0</td>\n",
       "      <td>2</td>\n",
       "      <td>Montvila, Rev. Juozas</td>\n",
       "      <td>male</td>\n",
       "      <td>27.0</td>\n",
       "      <td>0</td>\n",
       "      <td>0</td>\n",
       "      <td>211536</td>\n",
       "      <td>13.0000</td>\n",
       "      <td>NaN</td>\n",
       "      <td>S</td>\n",
       "    </tr>\n",
       "    <tr>\n",
       "      <th>888</th>\n",
       "      <td>889</td>\n",
       "      <td>0</td>\n",
       "      <td>3</td>\n",
       "      <td>Johnston, Miss. Catherine Helen \"Carrie\"</td>\n",
       "      <td>female</td>\n",
       "      <td>NaN</td>\n",
       "      <td>1</td>\n",
       "      <td>2</td>\n",
       "      <td>W./C. 6607</td>\n",
       "      <td>23.4500</td>\n",
       "      <td>NaN</td>\n",
       "      <td>S</td>\n",
       "    </tr>\n",
       "    <tr>\n",
       "      <th>890</th>\n",
       "      <td>891</td>\n",
       "      <td>0</td>\n",
       "      <td>3</td>\n",
       "      <td>Dooley, Mr. Patrick</td>\n",
       "      <td>male</td>\n",
       "      <td>32.0</td>\n",
       "      <td>0</td>\n",
       "      <td>0</td>\n",
       "      <td>370376</td>\n",
       "      <td>7.7500</td>\n",
       "      <td>NaN</td>\n",
       "      <td>Q</td>\n",
       "    </tr>\n",
       "  </tbody>\n",
       "</table>\n",
       "<p>549 rows × 12 columns</p>\n",
       "</div>"
      ],
      "text/plain": [
       "     PassengerId  Survived  Pclass                                      Name  \\\n",
       "0              1         0       3                   Braund, Mr. Owen Harris   \n",
       "4              5         0       3                  Allen, Mr. William Henry   \n",
       "5              6         0       3                          Moran, Mr. James   \n",
       "6              7         0       1                   McCarthy, Mr. Timothy J   \n",
       "7              8         0       3            Palsson, Master. Gosta Leonard   \n",
       "..           ...       ...     ...                                       ...   \n",
       "884          885         0       3                    Sutehall, Mr. Henry Jr   \n",
       "885          886         0       3      Rice, Mrs. William (Margaret Norton)   \n",
       "886          887         0       2                     Montvila, Rev. Juozas   \n",
       "888          889         0       3  Johnston, Miss. Catherine Helen \"Carrie\"   \n",
       "890          891         0       3                       Dooley, Mr. Patrick   \n",
       "\n",
       "        Sex   Age  SibSp  Parch           Ticket     Fare Cabin Embarked  \n",
       "0      male  22.0      1      0        A/5 21171   7.2500   NaN        S  \n",
       "4      male  35.0      0      0           373450   8.0500   NaN        S  \n",
       "5      male   NaN      0      0           330877   8.4583   NaN        Q  \n",
       "6      male  54.0      0      0            17463  51.8625   E46        S  \n",
       "7      male   2.0      3      1           349909  21.0750   NaN        S  \n",
       "..      ...   ...    ...    ...              ...      ...   ...      ...  \n",
       "884    male  25.0      0      0  SOTON/OQ 392076   7.0500   NaN        S  \n",
       "885  female  39.0      0      5           382652  29.1250   NaN        Q  \n",
       "886    male  27.0      0      0           211536  13.0000   NaN        S  \n",
       "888  female   NaN      1      2       W./C. 6607  23.4500   NaN        S  \n",
       "890    male  32.0      0      0           370376   7.7500   NaN        Q  \n",
       "\n",
       "[549 rows x 12 columns]"
      ]
     },
     "execution_count": 29,
     "metadata": {},
     "output_type": "execute_result"
    }
   ],
   "source": [
    "dead = df[df[\"Survived\"] == 0]\n",
    "dead"
   ]
  },
  {
   "cell_type": "code",
   "execution_count": null,
   "id": "d395b5b4",
   "metadata": {
    "id": "d395b5b4"
   },
   "outputs": [],
   "source": [
    "dead.to_csv(\"titanic_dead.csv\", index = False)"
   ]
  },
  {
   "cell_type": "code",
   "execution_count": null,
   "id": "8c8b87a9",
   "metadata": {
    "id": "8c8b87a9",
    "outputId": "adb5e279-0ba9-46e5-b27f-bce6244c3f41"
   },
   "outputs": [
    {
     "data": {
      "text/html": [
       "<div>\n",
       "<style scoped>\n",
       "    .dataframe tbody tr th:only-of-type {\n",
       "        vertical-align: middle;\n",
       "    }\n",
       "\n",
       "    .dataframe tbody tr th {\n",
       "        vertical-align: top;\n",
       "    }\n",
       "\n",
       "    .dataframe thead th {\n",
       "        text-align: right;\n",
       "    }\n",
       "</style>\n",
       "<table border=\"1\" class=\"dataframe\">\n",
       "  <thead>\n",
       "    <tr style=\"text-align: right;\">\n",
       "      <th></th>\n",
       "      <th>PassengerId</th>\n",
       "      <th>Survived</th>\n",
       "      <th>Pclass</th>\n",
       "      <th>Name</th>\n",
       "      <th>Sex</th>\n",
       "      <th>Age</th>\n",
       "      <th>SibSp</th>\n",
       "      <th>Parch</th>\n",
       "      <th>Ticket</th>\n",
       "      <th>Fare</th>\n",
       "      <th>Cabin</th>\n",
       "      <th>Embarked</th>\n",
       "    </tr>\n",
       "  </thead>\n",
       "  <tbody>\n",
       "    <tr>\n",
       "      <th>0</th>\n",
       "      <td>1</td>\n",
       "      <td>0</td>\n",
       "      <td>3</td>\n",
       "      <td>Braund, Mr. Owen Harris</td>\n",
       "      <td>male</td>\n",
       "      <td>22.0</td>\n",
       "      <td>1</td>\n",
       "      <td>0</td>\n",
       "      <td>A/5 21171</td>\n",
       "      <td>7.2500</td>\n",
       "      <td>NaN</td>\n",
       "      <td>S</td>\n",
       "    </tr>\n",
       "    <tr>\n",
       "      <th>1</th>\n",
       "      <td>5</td>\n",
       "      <td>0</td>\n",
       "      <td>3</td>\n",
       "      <td>Allen, Mr. William Henry</td>\n",
       "      <td>male</td>\n",
       "      <td>35.0</td>\n",
       "      <td>0</td>\n",
       "      <td>0</td>\n",
       "      <td>373450</td>\n",
       "      <td>8.0500</td>\n",
       "      <td>NaN</td>\n",
       "      <td>S</td>\n",
       "    </tr>\n",
       "    <tr>\n",
       "      <th>2</th>\n",
       "      <td>6</td>\n",
       "      <td>0</td>\n",
       "      <td>3</td>\n",
       "      <td>Moran, Mr. James</td>\n",
       "      <td>male</td>\n",
       "      <td>NaN</td>\n",
       "      <td>0</td>\n",
       "      <td>0</td>\n",
       "      <td>330877</td>\n",
       "      <td>8.4583</td>\n",
       "      <td>NaN</td>\n",
       "      <td>Q</td>\n",
       "    </tr>\n",
       "    <tr>\n",
       "      <th>3</th>\n",
       "      <td>7</td>\n",
       "      <td>0</td>\n",
       "      <td>1</td>\n",
       "      <td>McCarthy, Mr. Timothy J</td>\n",
       "      <td>male</td>\n",
       "      <td>54.0</td>\n",
       "      <td>0</td>\n",
       "      <td>0</td>\n",
       "      <td>17463</td>\n",
       "      <td>51.8625</td>\n",
       "      <td>E46</td>\n",
       "      <td>S</td>\n",
       "    </tr>\n",
       "    <tr>\n",
       "      <th>4</th>\n",
       "      <td>8</td>\n",
       "      <td>0</td>\n",
       "      <td>3</td>\n",
       "      <td>Palsson, Master. Gosta Leonard</td>\n",
       "      <td>male</td>\n",
       "      <td>2.0</td>\n",
       "      <td>3</td>\n",
       "      <td>1</td>\n",
       "      <td>349909</td>\n",
       "      <td>21.0750</td>\n",
       "      <td>NaN</td>\n",
       "      <td>S</td>\n",
       "    </tr>\n",
       "    <tr>\n",
       "      <th>...</th>\n",
       "      <td>...</td>\n",
       "      <td>...</td>\n",
       "      <td>...</td>\n",
       "      <td>...</td>\n",
       "      <td>...</td>\n",
       "      <td>...</td>\n",
       "      <td>...</td>\n",
       "      <td>...</td>\n",
       "      <td>...</td>\n",
       "      <td>...</td>\n",
       "      <td>...</td>\n",
       "      <td>...</td>\n",
       "    </tr>\n",
       "    <tr>\n",
       "      <th>544</th>\n",
       "      <td>885</td>\n",
       "      <td>0</td>\n",
       "      <td>3</td>\n",
       "      <td>Sutehall, Mr. Henry Jr</td>\n",
       "      <td>male</td>\n",
       "      <td>25.0</td>\n",
       "      <td>0</td>\n",
       "      <td>0</td>\n",
       "      <td>SOTON/OQ 392076</td>\n",
       "      <td>7.0500</td>\n",
       "      <td>NaN</td>\n",
       "      <td>S</td>\n",
       "    </tr>\n",
       "    <tr>\n",
       "      <th>545</th>\n",
       "      <td>886</td>\n",
       "      <td>0</td>\n",
       "      <td>3</td>\n",
       "      <td>Rice, Mrs. William (Margaret Norton)</td>\n",
       "      <td>female</td>\n",
       "      <td>39.0</td>\n",
       "      <td>0</td>\n",
       "      <td>5</td>\n",
       "      <td>382652</td>\n",
       "      <td>29.1250</td>\n",
       "      <td>NaN</td>\n",
       "      <td>Q</td>\n",
       "    </tr>\n",
       "    <tr>\n",
       "      <th>546</th>\n",
       "      <td>887</td>\n",
       "      <td>0</td>\n",
       "      <td>2</td>\n",
       "      <td>Montvila, Rev. Juozas</td>\n",
       "      <td>male</td>\n",
       "      <td>27.0</td>\n",
       "      <td>0</td>\n",
       "      <td>0</td>\n",
       "      <td>211536</td>\n",
       "      <td>13.0000</td>\n",
       "      <td>NaN</td>\n",
       "      <td>S</td>\n",
       "    </tr>\n",
       "    <tr>\n",
       "      <th>547</th>\n",
       "      <td>889</td>\n",
       "      <td>0</td>\n",
       "      <td>3</td>\n",
       "      <td>Johnston, Miss. Catherine Helen \"Carrie\"</td>\n",
       "      <td>female</td>\n",
       "      <td>NaN</td>\n",
       "      <td>1</td>\n",
       "      <td>2</td>\n",
       "      <td>W./C. 6607</td>\n",
       "      <td>23.4500</td>\n",
       "      <td>NaN</td>\n",
       "      <td>S</td>\n",
       "    </tr>\n",
       "    <tr>\n",
       "      <th>548</th>\n",
       "      <td>891</td>\n",
       "      <td>0</td>\n",
       "      <td>3</td>\n",
       "      <td>Dooley, Mr. Patrick</td>\n",
       "      <td>male</td>\n",
       "      <td>32.0</td>\n",
       "      <td>0</td>\n",
       "      <td>0</td>\n",
       "      <td>370376</td>\n",
       "      <td>7.7500</td>\n",
       "      <td>NaN</td>\n",
       "      <td>Q</td>\n",
       "    </tr>\n",
       "  </tbody>\n",
       "</table>\n",
       "<p>549 rows × 12 columns</p>\n",
       "</div>"
      ],
      "text/plain": [
       "     PassengerId  Survived  Pclass                                      Name  \\\n",
       "0              1         0       3                   Braund, Mr. Owen Harris   \n",
       "1              5         0       3                  Allen, Mr. William Henry   \n",
       "2              6         0       3                          Moran, Mr. James   \n",
       "3              7         0       1                   McCarthy, Mr. Timothy J   \n",
       "4              8         0       3            Palsson, Master. Gosta Leonard   \n",
       "..           ...       ...     ...                                       ...   \n",
       "544          885         0       3                    Sutehall, Mr. Henry Jr   \n",
       "545          886         0       3      Rice, Mrs. William (Margaret Norton)   \n",
       "546          887         0       2                     Montvila, Rev. Juozas   \n",
       "547          889         0       3  Johnston, Miss. Catherine Helen \"Carrie\"   \n",
       "548          891         0       3                       Dooley, Mr. Patrick   \n",
       "\n",
       "        Sex   Age  SibSp  Parch           Ticket     Fare Cabin Embarked  \n",
       "0      male  22.0      1      0        A/5 21171   7.2500   NaN        S  \n",
       "1      male  35.0      0      0           373450   8.0500   NaN        S  \n",
       "2      male   NaN      0      0           330877   8.4583   NaN        Q  \n",
       "3      male  54.0      0      0            17463  51.8625   E46        S  \n",
       "4      male   2.0      3      1           349909  21.0750   NaN        S  \n",
       "..      ...   ...    ...    ...              ...      ...   ...      ...  \n",
       "544    male  25.0      0      0  SOTON/OQ 392076   7.0500   NaN        S  \n",
       "545  female  39.0      0      5           382652  29.1250   NaN        Q  \n",
       "546    male  27.0      0      0           211536  13.0000   NaN        S  \n",
       "547  female   NaN      1      2       W./C. 6607  23.4500   NaN        S  \n",
       "548    male  32.0      0      0           370376   7.7500   NaN        Q  \n",
       "\n",
       "[549 rows x 12 columns]"
      ]
     },
     "execution_count": 31,
     "metadata": {},
     "output_type": "execute_result"
    }
   ],
   "source": [
    "pd.read_csv(\"titanic_dead.csv\")"
   ]
  },
  {
   "cell_type": "markdown",
   "id": "7e3cd9e0",
   "metadata": {
    "id": "7e3cd9e0"
   },
   "source": [
    "## Let's do a few small coding examples in Pandas :"
   ]
  },
  {
   "cell_type": "code",
   "execution_count": null,
   "id": "178fb545",
   "metadata": {
    "id": "178fb545",
    "outputId": "8f96760c-32e6-4ce5-c1c3-63dd19364831"
   },
   "outputs": [
    {
     "data": {
      "text/plain": [
       "Sex\n",
       "female    0.742038\n",
       "male      0.188908\n",
       "Name: Survived, dtype: float64"
      ]
     },
     "execution_count": 3,
     "metadata": {},
     "output_type": "execute_result"
    }
   ],
   "source": [
    "df.groupby(\"Sex\")[\"Survived\"].mean()"
   ]
  },
  {
   "cell_type": "code",
   "execution_count": null,
   "id": "f2952d0e",
   "metadata": {
    "id": "f2952d0e",
    "outputId": "dba3e3a1-fac8-4e50-f89f-83923a679b6b"
   },
   "outputs": [
    {
     "data": {
      "text/html": [
       "<div>\n",
       "<style scoped>\n",
       "    .dataframe tbody tr th:only-of-type {\n",
       "        vertical-align: middle;\n",
       "    }\n",
       "\n",
       "    .dataframe tbody tr th {\n",
       "        vertical-align: top;\n",
       "    }\n",
       "\n",
       "    .dataframe thead th {\n",
       "        text-align: right;\n",
       "    }\n",
       "</style>\n",
       "<table border=\"1\" class=\"dataframe\">\n",
       "  <thead>\n",
       "    <tr style=\"text-align: right;\">\n",
       "      <th></th>\n",
       "      <th>PassengerId</th>\n",
       "      <th>Survived</th>\n",
       "      <th>Pclass</th>\n",
       "      <th>Name</th>\n",
       "      <th>Sex</th>\n",
       "      <th>Age</th>\n",
       "      <th>SibSp</th>\n",
       "      <th>Parch</th>\n",
       "      <th>Ticket</th>\n",
       "      <th>Fare</th>\n",
       "      <th>Cabin</th>\n",
       "      <th>Embarked</th>\n",
       "    </tr>\n",
       "  </thead>\n",
       "  <tbody>\n",
       "    <tr>\n",
       "      <th>1</th>\n",
       "      <td>2</td>\n",
       "      <td>1</td>\n",
       "      <td>1</td>\n",
       "      <td>Cumings, Mrs. John Bradley (Florence Briggs Th...</td>\n",
       "      <td>female</td>\n",
       "      <td>38.0</td>\n",
       "      <td>1</td>\n",
       "      <td>0</td>\n",
       "      <td>PC 17599</td>\n",
       "      <td>71.2833</td>\n",
       "      <td>C85</td>\n",
       "      <td>C</td>\n",
       "    </tr>\n",
       "    <tr>\n",
       "      <th>2</th>\n",
       "      <td>3</td>\n",
       "      <td>1</td>\n",
       "      <td>3</td>\n",
       "      <td>Heikkinen, Miss. Laina</td>\n",
       "      <td>female</td>\n",
       "      <td>26.0</td>\n",
       "      <td>0</td>\n",
       "      <td>0</td>\n",
       "      <td>STON/O2. 3101282</td>\n",
       "      <td>7.9250</td>\n",
       "      <td>NaN</td>\n",
       "      <td>S</td>\n",
       "    </tr>\n",
       "    <tr>\n",
       "      <th>3</th>\n",
       "      <td>4</td>\n",
       "      <td>1</td>\n",
       "      <td>1</td>\n",
       "      <td>Futrelle, Mrs. Jacques Heath (Lily May Peel)</td>\n",
       "      <td>female</td>\n",
       "      <td>35.0</td>\n",
       "      <td>1</td>\n",
       "      <td>0</td>\n",
       "      <td>113803</td>\n",
       "      <td>53.1000</td>\n",
       "      <td>C123</td>\n",
       "      <td>S</td>\n",
       "    </tr>\n",
       "    <tr>\n",
       "      <th>8</th>\n",
       "      <td>9</td>\n",
       "      <td>1</td>\n",
       "      <td>3</td>\n",
       "      <td>Johnson, Mrs. Oscar W (Elisabeth Vilhelmina Berg)</td>\n",
       "      <td>female</td>\n",
       "      <td>27.0</td>\n",
       "      <td>0</td>\n",
       "      <td>2</td>\n",
       "      <td>347742</td>\n",
       "      <td>11.1333</td>\n",
       "      <td>NaN</td>\n",
       "      <td>S</td>\n",
       "    </tr>\n",
       "    <tr>\n",
       "      <th>9</th>\n",
       "      <td>10</td>\n",
       "      <td>1</td>\n",
       "      <td>2</td>\n",
       "      <td>Nasser, Mrs. Nicholas (Adele Achem)</td>\n",
       "      <td>female</td>\n",
       "      <td>14.0</td>\n",
       "      <td>1</td>\n",
       "      <td>0</td>\n",
       "      <td>237736</td>\n",
       "      <td>30.0708</td>\n",
       "      <td>NaN</td>\n",
       "      <td>C</td>\n",
       "    </tr>\n",
       "    <tr>\n",
       "      <th>...</th>\n",
       "      <td>...</td>\n",
       "      <td>...</td>\n",
       "      <td>...</td>\n",
       "      <td>...</td>\n",
       "      <td>...</td>\n",
       "      <td>...</td>\n",
       "      <td>...</td>\n",
       "      <td>...</td>\n",
       "      <td>...</td>\n",
       "      <td>...</td>\n",
       "      <td>...</td>\n",
       "      <td>...</td>\n",
       "    </tr>\n",
       "    <tr>\n",
       "      <th>880</th>\n",
       "      <td>881</td>\n",
       "      <td>1</td>\n",
       "      <td>2</td>\n",
       "      <td>Shelley, Mrs. William (Imanita Parrish Hall)</td>\n",
       "      <td>female</td>\n",
       "      <td>25.0</td>\n",
       "      <td>0</td>\n",
       "      <td>1</td>\n",
       "      <td>230433</td>\n",
       "      <td>26.0000</td>\n",
       "      <td>NaN</td>\n",
       "      <td>S</td>\n",
       "    </tr>\n",
       "    <tr>\n",
       "      <th>882</th>\n",
       "      <td>883</td>\n",
       "      <td>0</td>\n",
       "      <td>3</td>\n",
       "      <td>Dahlberg, Miss. Gerda Ulrika</td>\n",
       "      <td>female</td>\n",
       "      <td>22.0</td>\n",
       "      <td>0</td>\n",
       "      <td>0</td>\n",
       "      <td>7552</td>\n",
       "      <td>10.5167</td>\n",
       "      <td>NaN</td>\n",
       "      <td>S</td>\n",
       "    </tr>\n",
       "    <tr>\n",
       "      <th>885</th>\n",
       "      <td>886</td>\n",
       "      <td>0</td>\n",
       "      <td>3</td>\n",
       "      <td>Rice, Mrs. William (Margaret Norton)</td>\n",
       "      <td>female</td>\n",
       "      <td>39.0</td>\n",
       "      <td>0</td>\n",
       "      <td>5</td>\n",
       "      <td>382652</td>\n",
       "      <td>29.1250</td>\n",
       "      <td>NaN</td>\n",
       "      <td>Q</td>\n",
       "    </tr>\n",
       "    <tr>\n",
       "      <th>887</th>\n",
       "      <td>888</td>\n",
       "      <td>1</td>\n",
       "      <td>1</td>\n",
       "      <td>Graham, Miss. Margaret Edith</td>\n",
       "      <td>female</td>\n",
       "      <td>19.0</td>\n",
       "      <td>0</td>\n",
       "      <td>0</td>\n",
       "      <td>112053</td>\n",
       "      <td>30.0000</td>\n",
       "      <td>B42</td>\n",
       "      <td>S</td>\n",
       "    </tr>\n",
       "    <tr>\n",
       "      <th>888</th>\n",
       "      <td>889</td>\n",
       "      <td>0</td>\n",
       "      <td>3</td>\n",
       "      <td>Johnston, Miss. Catherine Helen \"Carrie\"</td>\n",
       "      <td>female</td>\n",
       "      <td>NaN</td>\n",
       "      <td>1</td>\n",
       "      <td>2</td>\n",
       "      <td>W./C. 6607</td>\n",
       "      <td>23.4500</td>\n",
       "      <td>NaN</td>\n",
       "      <td>S</td>\n",
       "    </tr>\n",
       "  </tbody>\n",
       "</table>\n",
       "<p>314 rows × 12 columns</p>\n",
       "</div>"
      ],
      "text/plain": [
       "     PassengerId  Survived  Pclass  \\\n",
       "1              2         1       1   \n",
       "2              3         1       3   \n",
       "3              4         1       1   \n",
       "8              9         1       3   \n",
       "9             10         1       2   \n",
       "..           ...       ...     ...   \n",
       "880          881         1       2   \n",
       "882          883         0       3   \n",
       "885          886         0       3   \n",
       "887          888         1       1   \n",
       "888          889         0       3   \n",
       "\n",
       "                                                  Name     Sex   Age  SibSp  \\\n",
       "1    Cumings, Mrs. John Bradley (Florence Briggs Th...  female  38.0      1   \n",
       "2                               Heikkinen, Miss. Laina  female  26.0      0   \n",
       "3         Futrelle, Mrs. Jacques Heath (Lily May Peel)  female  35.0      1   \n",
       "8    Johnson, Mrs. Oscar W (Elisabeth Vilhelmina Berg)  female  27.0      0   \n",
       "9                  Nasser, Mrs. Nicholas (Adele Achem)  female  14.0      1   \n",
       "..                                                 ...     ...   ...    ...   \n",
       "880       Shelley, Mrs. William (Imanita Parrish Hall)  female  25.0      0   \n",
       "882                       Dahlberg, Miss. Gerda Ulrika  female  22.0      0   \n",
       "885               Rice, Mrs. William (Margaret Norton)  female  39.0      0   \n",
       "887                       Graham, Miss. Margaret Edith  female  19.0      0   \n",
       "888           Johnston, Miss. Catherine Helen \"Carrie\"  female   NaN      1   \n",
       "\n",
       "     Parch            Ticket     Fare Cabin Embarked  \n",
       "1        0          PC 17599  71.2833   C85        C  \n",
       "2        0  STON/O2. 3101282   7.9250   NaN        S  \n",
       "3        0            113803  53.1000  C123        S  \n",
       "8        2            347742  11.1333   NaN        S  \n",
       "9        0            237736  30.0708   NaN        C  \n",
       "..     ...               ...      ...   ...      ...  \n",
       "880      1            230433  26.0000   NaN        S  \n",
       "882      0              7552  10.5167   NaN        S  \n",
       "885      5            382652  29.1250   NaN        Q  \n",
       "887      0            112053  30.0000   B42        S  \n",
       "888      2        W./C. 6607  23.4500   NaN        S  \n",
       "\n",
       "[314 rows x 12 columns]"
      ]
     },
     "execution_count": 4,
     "metadata": {},
     "output_type": "execute_result"
    }
   ],
   "source": [
    "df[df[\"Sex\"] == \"female\"] "
   ]
  },
  {
   "cell_type": "code",
   "execution_count": null,
   "id": "3f5343ff",
   "metadata": {
    "id": "3f5343ff",
    "outputId": "347416b5-21bf-453c-fa0f-e4fb0bb4c20a"
   },
   "outputs": [
    {
     "data": {
      "text/plain": [
       "1    233\n",
       "0     81\n",
       "Name: Survived, dtype: int64"
      ]
     },
     "execution_count": 5,
     "metadata": {},
     "output_type": "execute_result"
    }
   ],
   "source": [
    "df[df[\"Sex\"] == \"female\"][\"Survived\"].value_counts()"
   ]
  },
  {
   "cell_type": "code",
   "execution_count": null,
   "id": "f66966a2",
   "metadata": {
    "id": "f66966a2",
    "outputId": "3715a836-a3dc-49d9-8da8-124f9a88fbf6"
   },
   "outputs": [
    {
     "data": {
      "text/plain": [
       "Pclass\n",
       "1    0.629630\n",
       "2    0.472826\n",
       "3    0.242363\n",
       "Name: Survived, dtype: float64"
      ]
     },
     "execution_count": 6,
     "metadata": {},
     "output_type": "execute_result"
    }
   ],
   "source": [
    "df.groupby(\"Pclass\")[\"Survived\"].mean()"
   ]
  },
  {
   "cell_type": "code",
   "execution_count": null,
   "id": "066f393d",
   "metadata": {
    "id": "066f393d",
    "outputId": "59d311e1-8eb4-4139-d58e-0afe1a5028cc"
   },
   "outputs": [
    {
     "data": {
      "text/plain": [
       "array([<AxesSubplot:title={'center':'0'}>,\n",
       "       <AxesSubplot:title={'center':'1'}>], dtype=object)"
      ]
     },
     "execution_count": 7,
     "metadata": {},
     "output_type": "execute_result"
    },
    {
     "data": {
      "image/png": "[encoded data removed]",
      "text/plain": [
       "<Figure size 432x288 with 2 Axes>"
      ]
     },
     "metadata": {
      "needs_background": "light"
     },
     "output_type": "display_data"
    }
   ],
   "source": [
    "df.hist(\"Pclass\", \"Survived\")"
   ]
  },
  {
   "cell_type": "code",
   "execution_count": null,
   "id": "700b3c21",
   "metadata": {
    "id": "700b3c21",
    "outputId": "2cd574fc-5bbd-4240-95bf-91b9c10daac0"
   },
   "outputs": [
    {
     "data": {
      "text/plain": [
       "array([<AxesSubplot:title={'center':'0'}>,\n",
       "       <AxesSubplot:title={'center':'1'}>], dtype=object)"
      ]
     },
     "execution_count": 8,
     "metadata": {},
     "output_type": "execute_result"
    },
    {
     "data": {
      "image/png": "[encoded data removed]",
      "text/plain": [
       "<Figure size 432x288 with 2 Axes>"
      ]
     },
     "metadata": {
      "needs_background": "light"
     },
     "output_type": "display_data"
    }
   ],
   "source": [
    "df.hist(\"Sex\", \"Survived\")"
   ]
  },
  {
   "cell_type": "markdown",
   "id": "3edcf792",
   "metadata": {
    "id": "3edcf792"
   },
   "source": [
    "In the left chart, we observe that the number of men who died (the Survived column value of 0) is much higher than that of women. In the right chart, we see the graph of survivors (the Survived column value of 1). There were many more women who survived than men. By plotting simple charts, we obtained an insight."
   ]
  },
  {
   "cell_type": "markdown",
   "id": "dgt7OagIVxjG",
   "metadata": {
    "id": "dgt7OagIVxjG"
   },
   "source": [
    "![python.exe](https://drive.google.com/uc?id=1oY07NFR8n0Q3oP9CwwxLWh40cGEb_YkU)"
   ]
  }
 ],
 "metadata": {
  "colab": {
   "provenance": []
  },
  "kernelspec": {
   "display_name": "Python 3 (ipykernel)",
   "language": "python",
   "name": "python3"
  },
  "language_info": {
   "codemirror_mode": {
    "name": "ipython",
    "version": 3
   },
   "file_extension": ".py",
   "mimetype": "text/x-python",
   "name": "python",
   "nbconvert_exporter": "python",
   "pygments_lexer": "ipython3",
   "version": "3.11.3"
  }
 },
 "nbformat": 4,
 "nbformat_minor": 5
}
