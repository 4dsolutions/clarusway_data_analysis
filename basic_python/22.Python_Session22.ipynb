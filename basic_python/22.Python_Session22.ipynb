{
 "cells": [
  {
   "cell_type": "markdown",
   "id": "9c545d03-7224-4093-9cf3-0b486e02c12f",
   "metadata": {
    "id": "fGdDuGxR9rkV"
   },
   "source": [
    "#### Clarusway Python\n",
    "\n",
    "* [Instructor Landing Page](landing_page.ipynb)\n",
    "* <a href=\"https://colab.research.google.com/github/4dsolutions/clarusway_data_analysis/blob/main/basic_python/22.Python_Session22.ipynb\"><img align=\"left\" src=\"https://colab.research.google.com/assets/colab-badge.svg\" alt=\"Open in Colab\" title=\"Open and Execute in Google Colaboratory\"></a>\n",
    "* [![nbviewer](https://raw.githubusercontent.com/jupyter/design/master/logos/Badges/nbviewer_badge.svg)](https://nbviewer.org/github/4dsolutions/clarusway_data_analysis/blob/main/basic_python/22.Python_Session22.ipynb)"
   ]
  },
  {
   "cell_type": "markdown",
   "id": "97d2a08c",
   "metadata": {
    "id": "97d2a08c"
   },
   "source": [
    "<a id=\"toc\"></a>\n",
    "\n",
    "## <p style=\"background-color:#0D8D99; font-family:newtimeroman; color:#FFF9ED; font-size:175%; text-align:center; border-radius:10px 10px;\">Python Session 22 - Working with Files</p>"
   ]
  },
  {
   "cell_type": "markdown",
   "id": "2a056995",
   "metadata": {
    "id": "2a056995"
   },
   "source": [
    "#### <div class=\"alert alert-block alert-info\"><h1><p style=\"text-align: center; color:purple\"> Open a File<br><br>Reading Files<br><br>Writing Files<br><br>Working with CSV Files</p> "
   ]
  },
  {
   "cell_type": "markdown",
   "id": "a59a6b4b",
   "metadata": {
    "id": "a59a6b4b"
   },
   "source": [
    "<a id=\"toc\"></a>\n",
    "\n",
    "## <p style=\"background-color:#9d4f8c; font-family:newtimeroman; color:#FFF9ED; font-size:175%; text-align:center; border-radius:10px 10px;\">Open a file</p>"
   ]
  },
  {
   "cell_type": "markdown",
   "id": "0ff74ffe",
   "metadata": {
    "id": "0ff74ffe"
   },
   "source": [
    "## The methods to open a file in Python:\n",
    "\n",
    "**open() Function:** The most basic method to open a file is to use the \"open()\" function. This function takes the file name and operation type parameters and opens the file.\n",
    "\n",
    "**with open() Statement:** The \"with open()\" statement is used to open and automatically close a file. This statement uses the \"open()\" function to open the file and automatically closes it at the end of the code block.\n",
    "\n",
    "**pathlib Library:** Starting from Python 3.4, the pathlib library provides a more modern way of file handling. This library is used to manage file paths and open files.\n",
    "\n",
    "**os Library:** The \"os\" library provides more advanced functions for file handling. This library is used to manage file names and paths, change file permissions, and delete files.\n",
    "\n",
    "**io Library:** The \"io\" library provides more advanced tools for working with files. This library is used to manage file input and output, keep file content in memory, and make file handling more efficient."
   ]
  },
  {
   "cell_type": "markdown",
   "id": "a3f8cf48",
   "metadata": {
    "id": "a3f8cf48"
   },
   "source": [
    "<hr>\n",
    "\n",
    "**We will use the 'with open' command when opening files in this notebook to avoid wasting time with open and close operations. However, let's also see a simple example of how to open a file with libraries in Python**\n",
    "<hr>"
   ]
  },
  {
   "cell_type": "markdown",
   "id": "b7a911b0",
   "metadata": {
    "id": "b7a911b0"
   },
   "source": [
    "### pathlib library:"
   ]
  },
  {
   "cell_type": "code",
   "execution_count": null,
   "id": "f7abe90f",
   "metadata": {
    "id": "f7abe90f",
    "outputId": "2ea2f0d0-0b73-4f33-b4d5-b0e0f6db9b36"
   },
   "outputs": [],
   "source": [
    "from pathlib import Path\n",
    "\n",
    "# file path:\n",
    "file_path = Path(\"fishes.txt\")\n",
    "\n",
    "# open the file:\n",
    "with file_path.open(mode=\"r\") as f:\n",
    "    file_content = f.read()\n",
    "\n",
    "print(file_content)"
   ]
  },
  {
   "cell_type": "markdown",
   "id": "5c299d3c",
   "metadata": {
    "id": "5c299d3c"
   },
   "source": [
    "### os library:"
   ]
  },
  {
   "cell_type": "code",
   "execution_count": null,
   "id": "49b46bff",
   "metadata": {
    "id": "49b46bff",
    "outputId": "94600732-26e1-4707-8871-474426270541"
   },
   "outputs": [],
   "source": [
    "import os\n",
    "\n",
    "# file path:\n",
    "file_path = \"fishes.txt\"\n",
    "\n",
    "# open the file:\n",
    "file_descriptor = os.open(file_path, os.O_RDONLY)\n",
    "\n",
    "# read the content of the file:\n",
    "content = os.read(file_descriptor, os.stat(file_path).st_size)\n",
    "\n",
    "# close the file:\n",
    "os.close(file_descriptor)\n",
    "\n",
    "# print the content:\n",
    "print(content)"
   ]
  },
  {
   "cell_type": "markdown",
   "id": "4a992935",
   "metadata": {
    "id": "4a992935"
   },
   "source": [
    "### io library:"
   ]
  },
  {
   "cell_type": "code",
   "execution_count": null,
   "id": "82eddf4c",
   "metadata": {
    "id": "82eddf4c"
   },
   "outputs": [],
   "source": [
    "import io\n",
    "\n",
    "file_contents = \"This is a sample file created using 'io' library.\"\n",
    "file = io.StringIO(file_contents)\n",
    "\n",
    "# Read the content of the file\n",
    "content = file.read()\n",
    "\n",
    "# Print the content of the file\n",
    "print(content)\n",
    "\n",
    "# Close the file\n",
    "file.close()"
   ]
  },
  {
   "cell_type": "markdown",
   "id": "1216b59b",
   "metadata": {
    "id": "1216b59b"
   },
   "source": [
    "<hr>\n",
    "\n",
    "A data analyst frequently needs to perform file handling operations, and therefore they may often use the **\"open()\"** and **\"with open()\"** methods. \n",
    "\n",
    "**As the \"with open()\" statement is a safer and more organized way to open and close files, data analysts usually prefer to use this method.**\n",
    "\n",
    "In addition, data analysts frequently use the **\"os\" library** to manage file paths, change file permissions, delete files, and perform similar operations. \n",
    "\n",
    "They may also often use the **\"io\" library** to read, write, and keep file content in memory.\n",
    "<hr>"
   ]
  },
  {
   "cell_type": "markdown",
   "id": "325bfc3c",
   "metadata": {
    "id": "325bfc3c"
   },
   "source": [
    "## Differences between \"open\" and \"with open\":\n",
    "\n",
    "**File Closing:** When using \"open\", we need to manually close the file when we are done with it. However, when using \"with open\", the file is automatically closed, and there is no need for manual file closing.\n",
    "\n",
    "**Error Handling:** When using \"open\", we need to handle errors manually. However, when using \"with open\", if an error occurs, the file is automatically closed, and an error message is displayed.\n",
    "\n",
    "**Readability:** Using \"with open\" can make the code more readable. The entire code block required for file processing is located under \"with open\", making the code appear more organized.\n",
    "\n",
    "**Performance:** Using \"with open\" shows better performance in file processing. Since the file is automatically closed, there is no unnecessary memory usage, and it uses fewer system resources.\n",
    "\n",
    "**Safer:** Using \"with open\" is safer because it automatically closes the file during the processing. There is no chance of forgetting to close the file, which could cause errors in the file."
   ]
  },
  {
   "cell_type": "markdown",
   "id": "345301db",
   "metadata": {
    "id": "345301db"
   },
   "source": [
    "## open() build in function:"
   ]
  },
  {
   "cell_type": "markdown",
   "id": "7dedde0d",
   "metadata": {
    "id": "7dedde0d"
   },
   "source": [
    "[python official document-build in functions](https://docs.python.org/3/library/functions.html)\n",
    "\n",
    "**After accessing the above link, click on the open() function**"
   ]
  },
  {
   "cell_type": "markdown",
   "id": "bf8519b0",
   "metadata": {
    "id": "bf8519b0"
   },
   "source": [
    "## Exception Handling in Files:\n",
    "\n",
    "During file operations in Python, many errors can occur, such as file not found errors, permission errors, and errors related to keeping the file open.\n",
    "\n",
    "If an exception occurs when we are performing some operation with the file, the code exits without closing the file. **This can cause the program to crash unexpectedly or produce incorrect results.** \n",
    "\n",
    "\n",
    "**Therefore, we use exception handling to handle error conditions during file operations, and close the file in finally block**\n",
    "\n",
    "The finally block is always executed after the try/except blocks are completed and is used to release resources like files.\n",
    "\n",
    "Examples:"
   ]
  },
  {
   "cell_type": "code",
   "execution_count": null,
   "id": "e57149eb",
   "metadata": {
    "id": "e57149eb",
    "outputId": "dfa8da84-bcf8-46f3-ba84-bb029e43bb1f"
   },
   "outputs": [],
   "source": [
    "try:\n",
    "    file = open(\"fishes.txt\", \"r\")\n",
    "    read_content = file.read()\n",
    "    print(read_content)\n",
    "\n",
    "finally:\n",
    "    # close the file under all circumstances:\n",
    "    file.close()"
   ]
  },
  {
   "cell_type": "code",
   "execution_count": null,
   "id": "0c913429",
   "metadata": {
    "id": "0c913429",
    "outputId": "011e8a2e-d70c-4a4e-bc13-33a14c1193da"
   },
   "outputs": [],
   "source": [
    "try:\n",
    "    file = open(\"fishes2.txt\", \"w\")  # the fishes2.txt files is a read-only file.\n",
    "    file.write(\"This text is being attempted to be written to the file.\")\n",
    "except FileNotFoundError:\n",
    "    print(\"File not found.\")\n",
    "except PermissionError:\n",
    "     print(\"You do not have permission to access this file.\")\n",
    "except Exception as e:\n",
    "    print(\"An unexpected error occurred: \", e)\n",
    "finally:\n",
    "    file.close()"
   ]
  },
  {
   "cell_type": "markdown",
   "id": "8fd8f706",
   "metadata": {
    "id": "8fd8f706"
   },
   "source": [
    "In this example, a PermissionError was raised because we tried to write a line to a read-only file. Since the finally block always executes, we were able to close our file."
   ]
  },
  {
   "cell_type": "markdown",
   "id": "18ba0ced",
   "metadata": {
    "id": "18ba0ced"
   },
   "source": [
    "<a id=\"toc\"></a>\n",
    "\n",
    "## <p style=\"background-color:#9d4f8c; font-family:newtimeroman; color:#FFF9ED; font-size:175%; text-align:center; border-radius:10px 10px;\">Reading Files</p>"
   ]
  },
  {
   "cell_type": "markdown",
   "id": "f738dd7e",
   "metadata": {
    "id": "f738dd7e"
   },
   "source": [
    "[Python official document - open() function](https://docs.python.org/3/library/functions.html#open)"
   ]
  },
  {
   "cell_type": "code",
   "execution_count": null,
   "id": "fc14fab2",
   "metadata": {
    "id": "fc14fab2",
    "outputId": "361b1162-180f-42aa-ffa3-6da590bf6b7a"
   },
   "outputs": [],
   "source": [
    "with open(\"fishes.txt\", \"r\", encoding = \"utf-8\") as file :\n",
    "    print(file)"
   ]
  },
  {
   "cell_type": "markdown",
   "id": "4b5177b6",
   "metadata": {
    "id": "4b5177b6"
   },
   "source": [
    "# read() method\n",
    "\n",
    "**Read at most n characters from stream.**\n",
    "\n",
    "**Read from underlying buffer until we have n characters or we hit EOF.**\n",
    "\n",
    "**If n is negative or omitted, read until EOF.**"
   ]
  },
  {
   "cell_type": "code",
   "execution_count": null,
   "id": "1b529553",
   "metadata": {
    "id": "1b529553",
    "outputId": "3f8992cd-45f9-4d14-c0ab-09f775b5f0f9"
   },
   "outputs": [],
   "source": [
    "with open(\"fishes.txt\", \"r\", encoding = \"utf-8\") as file :\n",
    "    print(file)\n",
    "    print()\n",
    "    print(file.read())"
   ]
  },
  {
   "cell_type": "code",
   "execution_count": null,
   "id": "af0ad416",
   "metadata": {
    "id": "af0ad416"
   },
   "outputs": [],
   "source": [
    "file = open(\"fishes.txt\", \"r\", encoding=\"utf-8\")\n",
    "\n",
    "print(file.read())\n",
    "\n",
    "file.close()"
   ]
  },
  {
   "cell_type": "code",
   "execution_count": null,
   "id": "eec2e01a",
   "metadata": {
    "id": "eec2e01a"
   },
   "outputs": [],
   "source": [
    "with open(\"fishes.txt\", \"r\", encoding = \"utf-8\") as file :\n",
    "    content = file.read()"
   ]
  },
  {
   "cell_type": "code",
   "execution_count": null,
   "id": "4c29df7e",
   "metadata": {
    "id": "4c29df7e"
   },
   "outputs": [],
   "source": [
    "content"
   ]
  },
  {
   "cell_type": "code",
   "execution_count": null,
   "id": "dd45d3a3",
   "metadata": {
    "id": "dd45d3a3",
    "outputId": "90d0e627-5874-41e5-8ea0-cce599b91e29"
   },
   "outputs": [],
   "source": [
    "with open(\"fishes.txt\", \"r\", encoding = \"utf-8\") as file :\n",
    "    print(file.read(33))"
   ]
  },
  {
   "cell_type": "code",
   "execution_count": null,
   "id": "21142411",
   "metadata": {
    "id": "21142411",
    "outputId": "12068a9d-ae7d-497b-b69f-286d88d2322f"
   },
   "outputs": [],
   "source": [
    "with open(\"fishes.txt\", \"r\", encoding = \"utf-8\") as file :\n",
    "    print(file.read(33))\n",
    "    content_33 = file.read(33)"
   ]
  },
  {
   "cell_type": "code",
   "execution_count": null,
   "id": "c2f82235",
   "metadata": {
    "id": "c2f82235",
    "outputId": "fe8d5671-1b15-4610-a9fc-b39e3010caad"
   },
   "outputs": [],
   "source": [
    "content_33"
   ]
  },
  {
   "cell_type": "code",
   "execution_count": null,
   "id": "c3d4d059",
   "metadata": {
    "id": "c3d4d059",
    "outputId": "dafdc726-2375-48de-f19e-aaf46f328dd9"
   },
   "outputs": [],
   "source": [
    "len(content_33)"
   ]
  },
  {
   "cell_type": "code",
   "execution_count": null,
   "id": "c43a550c",
   "metadata": {
    "id": "c43a550c",
    "outputId": "e9fda2cc-a304-4e8a-c0d6-56c23b253e7e"
   },
   "outputs": [],
   "source": [
    "print(content)"
   ]
  },
  {
   "cell_type": "code",
   "execution_count": null,
   "id": "f54b9bbc",
   "metadata": {
    "id": "f54b9bbc",
    "outputId": "360c8f53-9b18-4e01-fc9c-6288710afe4b"
   },
   "outputs": [],
   "source": [
    "print(content[:33])"
   ]
  },
  {
   "cell_type": "code",
   "execution_count": null,
   "id": "429fbb79",
   "metadata": {
    "id": "429fbb79",
    "outputId": "5aecda61-9902-4a1f-f038-f3d0b025e692"
   },
   "outputs": [],
   "source": [
    "with open(\"fishes.txt\", \"r\", encoding = \"utf-8\") as file :\n",
    "    print(file.read(33))\n",
    "    print(file.read(33))"
   ]
  },
  {
   "cell_type": "markdown",
   "id": "576737e2",
   "metadata": {
    "id": "576737e2"
   },
   "source": [
    "# seek() method \n",
    "\n",
    "**Change stream position.**\n",
    "\n",
    "**Change the stream position to the given byte offset. The offset is\n",
    "interpreted relative to the position indicated by whence.**"
   ]
  },
  {
   "cell_type": "code",
   "execution_count": null,
   "id": "fcf55a68",
   "metadata": {
    "id": "fcf55a68",
    "outputId": "b488a469-1fd8-4cf9-ef8a-90dfb1ca3ff3"
   },
   "outputs": [],
   "source": [
    "with open(\"fishes.txt\", \"r\", encoding = \"utf-8\") as file :\n",
    "    print(file.read(33))\n",
    "    print(file.read(33))\n",
    "    \n",
    "    file.seek(0)\n",
    "    print(file.read(33))"
   ]
  },
  {
   "cell_type": "markdown",
   "id": "b875287d",
   "metadata": {
    "id": "b875287d"
   },
   "source": [
    "# tell() method\n",
    "\n",
    "**Return current stream position**"
   ]
  },
  {
   "cell_type": "code",
   "execution_count": null,
   "id": "14e42086",
   "metadata": {
    "id": "14e42086",
    "outputId": "2a2224d8-7d37-482e-be7e-d6dcb6938805"
   },
   "outputs": [],
   "source": [
    "with open(\"fishes.txt\", \"r\", encoding = \"utf-8\") as file :\n",
    "    print(file.read(33))\n",
    "    print(file.read(33))\n",
    "  \n",
    "    file.seek(0)\n",
    "    \n",
    "    print(file.read(33))\n",
    "    print(file.tell())"
   ]
  },
  {
   "cell_type": "code",
   "execution_count": null,
   "id": "e246d297",
   "metadata": {
    "id": "e246d297",
    "outputId": "c5ca7084-5611-4b7b-b4d8-ffb1a3083405"
   },
   "outputs": [],
   "source": [
    "with open(\"fishes.txt\", \"r\", encoding = \"utf-8\") as file :\n",
    "    print(file.read(33))\n",
    "    print(file.read(15))\n",
    "    print(file.tell())\n",
    "    \n",
    "    file.seek(0)\n",
    "    print(file.read(33))\n",
    "    print(file.tell())"
   ]
  },
  {
   "cell_type": "code",
   "execution_count": null,
   "id": "6bbe4639",
   "metadata": {
    "id": "6bbe4639",
    "outputId": "9f09f9ea-c5f7-4646-d073-b1d7561e890e"
   },
   "outputs": [],
   "source": [
    "with open(\"rumi.txt\", \"r\", encoding=\"utf-8\") as rumi :\n",
    "    print(rumi.read())"
   ]
  },
  {
   "cell_type": "code",
   "execution_count": null,
   "id": "7e5190dc",
   "metadata": {
    "id": "7e5190dc",
    "outputId": "a861fbcc-00f7-4df3-f8c4-68153e8edce4"
   },
   "outputs": [],
   "source": [
    "with open(\"rumi.txt\", \"r\", encoding=\"utf-8\") as rumi :\n",
    "    print(rumi.read(33))\n",
    "    print(rumi.read(15))\n",
    "    print(rumi.tell())\n",
    "    \n",
    "    rumi.seek(0)\n",
    "    \n",
    "    print(rumi.read(33))\n",
    "    print(rumi.tell())   "
   ]
  },
  {
   "cell_type": "markdown",
   "id": "35fc47a3",
   "metadata": {
    "id": "35fc47a3"
   },
   "source": [
    "# readline() method\n",
    "\n",
    "**Read until newline or EOF.**\n",
    "\n",
    "**Returns an empty string if EOF is hit immediately.**"
   ]
  },
  {
   "cell_type": "code",
   "execution_count": null,
   "id": "4849c338",
   "metadata": {
    "id": "4849c338"
   },
   "outputs": [],
   "source": [
    "\"\\n\"  # detects \"\\n\" character"
   ]
  },
  {
   "cell_type": "code",
   "execution_count": null,
   "id": "4dfcc9bf",
   "metadata": {
    "id": "4dfcc9bf",
    "outputId": "167c340d-f799-497e-f922-2f950d307eda"
   },
   "outputs": [],
   "source": [
    "with open(\"fishes.txt\", \"r\", encoding = \"utf-8\") as file :\n",
    "    print(file.readline())\n",
    "    print(file.readline())\n",
    "    print(file.readline())"
   ]
  },
  {
   "cell_type": "code",
   "execution_count": null,
   "id": "18741874",
   "metadata": {
    "id": "18741874",
    "outputId": "fd70ca3a-735b-44a1-f070-8b8f4fb59319"
   },
   "outputs": [],
   "source": [
    "with open(\"fishes.txt\", \"r\", encoding = \"utf-8\") as file :\n",
    "    print(file.readline(13))\n",
    "    print(file.readline(13))\n",
    "    print(file.readline(13))"
   ]
  },
  {
   "cell_type": "code",
   "execution_count": null,
   "id": "ca5217a5",
   "metadata": {
    "id": "ca5217a5",
    "outputId": "d4d6ccb3-77e2-40a8-ed5b-92fef975457a"
   },
   "outputs": [],
   "source": [
    "with open(\"fishes.txt\", \"r\", encoding = \"utf-8\") as file :\n",
    "    print(file.readline(13))\n",
    "    print(file.readline(13))\n",
    "    print(file.readline(13))\n",
    "    print(file.readline(13))"
   ]
  },
  {
   "cell_type": "code",
   "execution_count": null,
   "id": "30325be2",
   "metadata": {
    "id": "30325be2"
   },
   "outputs": [],
   "source": [
    "with open(\"fishes.txt\", \"r\", encoding = \"utf-8\") as file :\n",
    "    part_1 = file.readline(13)\n",
    "    part_2 = file.readline(13)\n",
    "    part_3 = file.readline(13)\n",
    "    part_4 = file.readline(13)"
   ]
  },
  {
   "cell_type": "code",
   "execution_count": null,
   "id": "164eaaef",
   "metadata": {
    "id": "164eaaef",
    "outputId": "ef8e1e57-774b-4b08-a5ee-c85e4d1274ed"
   },
   "outputs": [],
   "source": [
    "part_1"
   ]
  },
  {
   "cell_type": "code",
   "execution_count": null,
   "id": "6c98bfde",
   "metadata": {
    "id": "6c98bfde",
    "outputId": "768da34f-3ce4-420c-a9f7-def531eca859"
   },
   "outputs": [],
   "source": [
    "part_2"
   ]
  },
  {
   "cell_type": "code",
   "execution_count": null,
   "id": "4e9ff13a",
   "metadata": {
    "id": "4e9ff13a",
    "outputId": "15672be1-a310-4963-8ceb-e618b247e1ac"
   },
   "outputs": [],
   "source": [
    "part_3"
   ]
  },
  {
   "cell_type": "code",
   "execution_count": null,
   "id": "7175295b",
   "metadata": {
    "id": "7175295b",
    "outputId": "e958cfdd-2e80-4920-f812-21cc09606f90"
   },
   "outputs": [],
   "source": [
    "part_4"
   ]
  },
  {
   "cell_type": "code",
   "execution_count": null,
   "id": "742564ac",
   "metadata": {
    "id": "742564ac",
    "outputId": "d8e3cdc8-99cb-43b0-aae7-417c9c3e36f6"
   },
   "outputs": [],
   "source": [
    "print(part_3)"
   ]
  },
  {
   "cell_type": "code",
   "execution_count": null,
   "id": "2df9bf5e",
   "metadata": {
    "id": "2df9bf5e",
    "outputId": "7ed65505-e1b3-4e3a-9fd0-ddcf6dca49ce"
   },
   "outputs": [],
   "source": [
    "first_line = part_1 + part_2 + part_3\n",
    "first_line"
   ]
  },
  {
   "cell_type": "code",
   "execution_count": null,
   "id": "e41a1424",
   "metadata": {
    "id": "e41a1424",
    "outputId": "1a5531f1-fae5-4ed4-ad2a-656087b51d09"
   },
   "outputs": [],
   "source": [
    "with open(\"rumi.txt\", \"r\", encoding=\"utf-8\") as rumi :\n",
    "    print(rumi.read())"
   ]
  },
  {
   "cell_type": "code",
   "execution_count": null,
   "id": "85952303",
   "metadata": {
    "id": "85952303",
    "outputId": "a9f88e26-4c38-42ba-d6ba-840499ee2db8"
   },
   "outputs": [],
   "source": [
    "with open(\"rumi.txt\", \"r\", encoding=\"utf-8\") as rumi :\n",
    "    \n",
    "    print(rumi.readline())\n",
    "    print(rumi.readline())\n",
    "    print(rumi.readline(50))"
   ]
  },
  {
   "cell_type": "markdown",
   "id": "a1a073d7",
   "metadata": {
    "id": "a1a073d7"
   },
   "source": [
    "# Getting and using the file names in a directory with \"os\" module"
   ]
  },
  {
   "cell_type": "markdown",
   "id": "c654225f",
   "metadata": {
    "id": "c654225f"
   },
   "source": [
    "There is a Linux command we use to list the files in our working directory: 'ls'. \n",
    "\n",
    "**\"ls command\" lists the files in the current directory as a string, which can be used anywhere.** "
   ]
  },
  {
   "cell_type": "code",
   "execution_count": null,
   "id": "23dd6f0e",
   "metadata": {
    "id": "23dd6f0e"
   },
   "outputs": [],
   "source": [
    "# ls"
   ]
  },
  {
   "cell_type": "code",
   "execution_count": null,
   "id": "0346d858",
   "metadata": {
    "id": "0346d858"
   },
   "outputs": [],
   "source": [
    "import os"
   ]
  },
  {
   "cell_type": "markdown",
   "id": "6c4e4095",
   "metadata": {
    "id": "6c4e4095"
   },
   "source": [
    "**The 'os' module has a listdir() method that does the same job as the 'ls' command in Linux.**"
   ]
  },
  {
   "cell_type": "code",
   "execution_count": null,
   "id": "e7fcb47a",
   "metadata": {
    "id": "e7fcb47a",
    "outputId": "31454da8-5778-4a81-ede7-805cd7143d7c"
   },
   "outputs": [],
   "source": [
    "os.listdir()"
   ]
  },
  {
   "cell_type": "markdown",
   "id": "841cedf6",
   "metadata": {
    "id": "841cedf6"
   },
   "source": [
    "**It gave us a list of all the files in the current directory as strings.**\n",
    "\n",
    "**we will assign this to a variable (files) to take the file names:**"
   ]
  },
  {
   "cell_type": "code",
   "execution_count": null,
   "id": "9d6c3c49",
   "metadata": {
    "id": "9d6c3c49",
    "outputId": "03a92e2c-0a45-45e0-93d6-f785c8a0f77e",
    "scrolled": true
   },
   "outputs": [],
   "source": [
    "files = os.listdir()\n",
    "files"
   ]
  },
  {
   "cell_type": "markdown",
   "id": "52fa68fd",
   "metadata": {
    "id": "52fa68fd"
   },
   "source": [
    "Now I have a variable called 'files', and I can keep the names of all the files in my working directory as strings in a list.\n",
    "\n",
    "This is a commonly used method. I can now do whatever I want with this data that I retrieved from my local. For example, we can use this list in a loop. Suppose there are tens of thousands of files in a directory. You can copy and archive these files somewhere.\n",
    "\n",
    "<hr>\n",
    "\n",
    "**You can also perform file archiving operations in Jupyter Notebook. There are some modules for this operation. Let's do an example with one of them.**"
   ]
  },
  {
   "cell_type": "markdown",
   "id": "72a96322",
   "metadata": {
    "id": "72a96322"
   },
   "source": [
    "## Archiving a folder with the \"shutil\" module."
   ]
  },
  {
   "cell_type": "code",
   "execution_count": null,
   "id": "eb9d1974",
   "metadata": {
    "id": "eb9d1974"
   },
   "outputs": [],
   "source": [
    "import shutil"
   ]
  },
  {
   "cell_type": "code",
   "execution_count": null,
   "id": "530ac7cc-5778-49ac-a448-8b82b4df76d6",
   "metadata": {},
   "outputs": [],
   "source": [
    "help(shutil.make_archive)"
   ]
  },
  {
   "cell_type": "markdown",
   "id": "e50cad70",
   "metadata": {
    "id": "e50cad70"
   },
   "source": [
    "``shutil.make_archive(\n",
    "    base_name,\n",
    "    format,\n",
    "    root_dir=None,\n",
    "    base_dir=None,\n",
    "    verbose=0,\n",
    "    dry_run=0,\n",
    "    owner=None,\n",
    "    group=None,\n",
    "    logger=None,\n",
    ")\n",
    "Docstring:\n",
    "Create an archive file (eg. zip or tar).``"
   ]
  },
  {
   "cell_type": "code",
   "execution_count": null,
   "id": "b344f2b9",
   "metadata": {
    "id": "b344f2b9",
    "outputId": "bf7550f9-2657-4a92-8b3a-32e995064826"
   },
   "outputs": [],
   "source": [
    "# archive the files in the Files directory:\n",
    "\n",
    "shutil.make_archive(\"files_zip\", \"zip\", \"Files\")\n",
    "\n",
    "# files_zip : The name of the archive file that will be created at the end of the process\n",
    "# zip : the format of archive\n",
    "# Files : The directory to be archived."
   ]
  },
  {
   "cell_type": "markdown",
   "id": "65d4dd67",
   "metadata": {
    "id": "65d4dd67"
   },
   "source": [
    "## Extract .zip file with \"zipfile\" module :"
   ]
  },
  {
   "cell_type": "code",
   "execution_count": null,
   "id": "e34361bf",
   "metadata": {
    "id": "e34361bf"
   },
   "outputs": [],
   "source": [
    "from zipfile import ZipFile\n",
    "\n",
    "with ZipFile(\"files_zip.zip\", \"r\") as files_zip:\n",
    "    files_zip.extractall()"
   ]
  },
  {
   "cell_type": "code",
   "execution_count": null,
   "id": "580b6455",
   "metadata": {
    "id": "580b6455"
   },
   "outputs": [],
   "source": [
    "# os.listdir()\n",
    "\n",
    "# see the files_zip.zip file "
   ]
  },
  {
   "cell_type": "markdown",
   "id": "0294e992",
   "metadata": {
    "id": "0294e992"
   },
   "source": [
    "# readlines() method\n",
    "\n",
    "**Return a list of lines from the stream.**\n",
    "\n",
    "**hint can be specified to control the number of lines read: no more\n",
    "lines will be read if the total size (in bytes/characters) of all\n",
    "lines so far exceeds hint.**"
   ]
  },
  {
   "cell_type": "code",
   "execution_count": null,
   "id": "de823dff",
   "metadata": {
    "id": "de823dff"
   },
   "outputs": [],
   "source": [
    "with open(\"fishes.txt\", \"r\", encoding = \"utf-8\") as file :\n",
    "    fish = file.readlines()"
   ]
  },
  {
   "cell_type": "code",
   "execution_count": null,
   "id": "42bb9fbb",
   "metadata": {
    "id": "42bb9fbb",
    "outputId": "e82fb965-3a34-4733-b748-3c6191e34b91"
   },
   "outputs": [],
   "source": [
    "fish"
   ]
  },
  {
   "cell_type": "code",
   "execution_count": null,
   "id": "b5ab863e",
   "metadata": {
    "id": "b5ab863e",
    "outputId": "5f6db1c6-699d-42af-b29e-fce20fd52e3a"
   },
   "outputs": [],
   "source": [
    "type(fish)"
   ]
  },
  {
   "cell_type": "code",
   "execution_count": null,
   "id": "ccd7d2ed",
   "metadata": {
    "id": "ccd7d2ed",
    "outputId": "8a725914-63c8-4e57-89d3-02b51098438e"
   },
   "outputs": [],
   "source": [
    "for line in fish:\n",
    "    print(line)"
   ]
  },
  {
   "cell_type": "code",
   "execution_count": null,
   "id": "bbbfe1db",
   "metadata": {
    "id": "bbbfe1db"
   },
   "outputs": [],
   "source": [
    "with open(\"rumi.txt\", \"r\") as file :\n",
    "    rumi = file.readlines()  # return a list from the stream"
   ]
  },
  {
   "cell_type": "code",
   "execution_count": null,
   "id": "40160bf3",
   "metadata": {
    "id": "40160bf3",
    "outputId": "493761b6-b3f4-4da5-ea9f-76a68b348519"
   },
   "outputs": [],
   "source": [
    "rumi"
   ]
  },
  {
   "cell_type": "code",
   "execution_count": null,
   "id": "89d0dba4",
   "metadata": {
    "id": "89d0dba4",
    "outputId": "71d48a1e-d0b3-4fae-e9ec-d1077845238f"
   },
   "outputs": [],
   "source": [
    "with open(\"fishes.txt\", \"r\") as file :\n",
    "    for line in file :\n",
    "        print(line)"
   ]
  },
  {
   "cell_type": "markdown",
   "id": "693eb177",
   "metadata": {
    "id": "693eb177"
   },
   "source": [
    "<a id=\"toc\"></a>\n",
    "\n",
    "## <p style=\"background-color:#9d4f8c; font-family:newtimeroman; color:#FFF9ED; font-size:175%; text-align:center; border-radius:10px 10px;\">Writing Files</p>"
   ]
  },
  {
   "cell_type": "markdown",
   "id": "a65f975a",
   "metadata": {
    "id": "a65f975a"
   },
   "source": [
    "# write() method\n",
    "\n",
    "**Write string to stream.**\n",
    "\n",
    "**Returns the number of characters written (which is always equal to\n",
    "the length of the string)**"
   ]
  },
  {
   "cell_type": "code",
   "execution_count": null,
   "id": "4a4a4334",
   "metadata": {
    "id": "4a4a4334",
    "outputId": "e7cf0201-526f-4024-80a5-37a0146dc578"
   },
   "outputs": [],
   "source": [
    "with open(\"dummy_file.txt\", \"w\", encoding =\"utf-8\") as file :\n",
    "    file.write(\"This is the first line of my text file\")\n",
    "    \n",
    "with open(\"dummy_file.txt\", \"r\", encoding=\"utf-8\") as file:\n",
    "    print(file.read())"
   ]
  },
  {
   "cell_type": "code",
   "execution_count": null,
   "id": "642b1fec",
   "metadata": {
    "id": "642b1fec",
    "outputId": "a1e4df55-a4d7-49b4-e45f-c8b6533e83a5"
   },
   "outputs": [],
   "source": [
    "with open(\"dummy_file.txt\", \"w\", encoding =\"utf-8\") as file :\n",
    "    file.write(\"This is the new line of my dummy_file.txt file\")\n",
    "    \n",
    "with open(\"dummy_file.txt\", \"r\", encoding=\"utf-8\") as file:\n",
    "    print(file.read())"
   ]
  },
  {
   "cell_type": "markdown",
   "id": "c93a3bde",
   "metadata": {
    "id": "c93a3bde"
   },
   "source": [
    "**Task : Use the same list of fruits names,** \n",
    "\n",
    "**Modify the list for use,\n",
    "Overwrite them to the same fruits.txt file each on separate lines one after another.**"
   ]
  },
  {
   "cell_type": "code",
   "execution_count": null,
   "id": "748fa8d6",
   "metadata": {
    "id": "748fa8d6"
   },
   "outputs": [],
   "source": [
    "fruits = ['Banana', 'Orange', 'Apple', 'Strawberry', 'Cherry']"
   ]
  },
  {
   "cell_type": "code",
   "execution_count": null,
   "id": "9aff0c56",
   "metadata": {
    "id": "9aff0c56",
    "outputId": "b2dd6218-4ded-47f9-c30d-ffc40d577b4d"
   },
   "outputs": [],
   "source": [
    "with open(\"fruits.txt\", \"w\", encoding=\"utf-8\") as dosyam :\n",
    "    for meyve in fruits :\n",
    "        dosyam.write(meyve + \"\\n\")\n",
    "        \n",
    "with open(\"fruits.txt\", \"r\") as file:\n",
    "    print(file.read())"
   ]
  },
  {
   "cell_type": "markdown",
   "id": "f254f1ac",
   "metadata": {
    "id": "f254f1ac"
   },
   "source": [
    "# writelines() method\n",
    "\n",
    "**Built-in mutable sequence.**\n",
    "\n",
    "**If no argument is given, the constructor creates a new empty list.**\n",
    "\n",
    "**The argument must be an iterable if specified.**"
   ]
  },
  {
   "cell_type": "code",
   "execution_count": null,
   "id": "7bec5114",
   "metadata": {
    "id": "7bec5114",
    "outputId": "305bb5de-acbf-40e4-f12e-8ed2cb3777ab"
   },
   "outputs": [],
   "source": [
    "with open(\"fruits.txt\") as file:\n",
    "    fruits_1 = file.readlines()\n",
    "    \n",
    "fruits_1"
   ]
  },
  {
   "cell_type": "code",
   "execution_count": null,
   "id": "75eadd7e",
   "metadata": {
    "id": "75eadd7e"
   },
   "outputs": [],
   "source": [
    "with open(\"fruits9.txt\", \"w\", encoding=\"utf-8\") as ff :\n",
    "    ff.writelines(fruits_1)"
   ]
  },
  {
   "cell_type": "code",
   "execution_count": null,
   "id": "c70ec45c",
   "metadata": {
    "id": "c70ec45c",
    "outputId": "abaff135-ffe4-454e-81d3-cbf5de2592ad"
   },
   "outputs": [],
   "source": [
    "with open(\"fruits9.txt\", \"r\", encoding=\"utf-8\") as ff :\n",
    "    print(ff.read())"
   ]
  },
  {
   "cell_type": "code",
   "execution_count": null,
   "id": "dac45685",
   "metadata": {
    "id": "dac45685"
   },
   "outputs": [],
   "source": [
    "with open(\"fruits9.txt\", \"a\", encoding=\"utf-8\") as ff :\n",
    "    ff.writelines(fruits_1)"
   ]
  },
  {
   "cell_type": "code",
   "execution_count": null,
   "id": "70881c7e",
   "metadata": {
    "id": "70881c7e",
    "outputId": "8145a66d-9e77-4585-d702-8673aa04314b"
   },
   "outputs": [],
   "source": [
    "with open(\"fruits9.txt\", \"r\", encoding=\"utf-8\") as ff :\n",
    "    print(ff.read())"
   ]
  },
  {
   "cell_type": "code",
   "execution_count": null,
   "id": "036ceb51",
   "metadata": {
    "id": "036ceb51",
    "outputId": "f9393891-cd2e-4273-ad72-cca28a41e47c"
   },
   "outputs": [],
   "source": [
    "fruits_1"
   ]
  },
  {
   "cell_type": "markdown",
   "id": "5d00615a",
   "metadata": {
    "id": "5d00615a"
   },
   "source": [
    "## adding a list to a list by using \"+\" operator"
   ]
  },
  {
   "cell_type": "code",
   "execution_count": null,
   "id": "80e74908",
   "metadata": {
    "id": "80e74908",
    "outputId": "a42a8ff4-58b3-49bd-886a-ab68f442f2d6"
   },
   "outputs": [],
   "source": [
    "fruits_2 = fruits_1 + [\"Lemon\"]\n",
    "fruits_2"
   ]
  },
  {
   "cell_type": "code",
   "execution_count": null,
   "id": "71beb265",
   "metadata": {
    "id": "71beb265",
    "outputId": "da99acf3-9e51-4d36-9f3b-e825230f2892"
   },
   "outputs": [],
   "source": [
    "a =  [1,2,3]\n",
    "b = a + [4]\n",
    "b"
   ]
  },
  {
   "cell_type": "markdown",
   "id": "100ecbb3",
   "metadata": {
    "id": "100ecbb3"
   },
   "source": [
    "**Task : Let's add 'melon' to our existing fruits.txt file as the last line,**\n",
    "\n",
    "**Read and display the entire file content,**\n",
    "\n",
    "**Read and display the entire file content line by line in a list form.**"
   ]
  },
  {
   "cell_type": "code",
   "execution_count": null,
   "id": "a2fb4cc7",
   "metadata": {
    "id": "a2fb4cc7",
    "outputId": "b0798900-9cce-4bfc-856c-4000a92a6a8c"
   },
   "outputs": [],
   "source": [
    "with open(\"fruits_9\", \"w\", encoding=\"utf-8\") as ff :\n",
    "    ff.writelines(fruits_2)\n",
    "    \n",
    "with open(\"fruits_9\", \"r\", encoding=\"utf-8\") as ff :\n",
    "    print(ff.read())"
   ]
  },
  {
   "cell_type": "code",
   "execution_count": null,
   "id": "54f7d3f6",
   "metadata": {
    "id": "54f7d3f6",
    "outputId": "b3540baa-c5d2-4f8b-a118-3ca9636a0070"
   },
   "outputs": [],
   "source": [
    "with open(\"fruits_9\", \"a\", encoding=\"utf-8\") as ff :\n",
    "    ff.writelines(fruits_2)\n",
    "\n",
    "with open(\"fruits_9\", \"r\", encoding=\"utf-8\") as ff :\n",
    "    print(ff.read())"
   ]
  },
  {
   "cell_type": "markdown",
   "id": "98c9485f",
   "metadata": {
    "id": "98c9485f"
   },
   "source": [
    "## Task : let's take one of the longer poems and do some exercises :\n",
    "\n",
    "For example, **William Wordsworth's 'Daffodils'** poem.\n",
    "\n",
    "This poem is one of the most famous examples of English Romanticism and is concerned with nature, human emotions, and imagination.\n",
    "\n",
    "Let's download the Daffodils.txt file and paste it into the working directory."
   ]
  },
  {
   "cell_type": "markdown",
   "id": "e78684e1",
   "metadata": {
    "id": "e78684e1"
   },
   "source": [
    "### 1. Read and print out the poem."
   ]
  },
  {
   "cell_type": "code",
   "execution_count": null,
   "id": "2e197aaf",
   "metadata": {
    "id": "2e197aaf",
    "outputId": "adbc727e-0a65-4e78-a0d2-ab4b43f2b107"
   },
   "outputs": [],
   "source": [
    "with open(\"Daffodils.txt\", \"r\", encoding = \"utf-8\") as file :\n",
    "    print(file.read())"
   ]
  },
  {
   "cell_type": "markdown",
   "id": "222ec020",
   "metadata": {
    "id": "222ec020"
   },
   "source": [
    "### 2. Add a new line every 6 lines, and write the new version of the poem back to the same file.\n",
    "\n",
    "The final output will look like this:"
   ]
  },
  {
   "cell_type": "raw",
   "id": "4e1e524c",
   "metadata": {
    "id": "4e1e524c"
   },
   "source": [
    "I wandered lonely as a cloud\n",
    "That floats on high o'er vales and hills,\n",
    "When all at once I saw a crowd,\n",
    "A host, of golden daffodils;\n",
    "Beside the lake, beneath the trees,\n",
    "Fluttering and dancing in the breeze.\n",
    "\n",
    "Continuous as the stars that shine\n",
    "And twinkle on the milky way,\n",
    "They stretched in never-ending line\n",
    "Along the margin of a bay:\n",
    "Ten thousand saw I at a glance,\n",
    "Tossing their heads in sprightly dance.\n",
    "\n",
    "The waves beside them danced, but they\n",
    "Out-did the sparkling waves in glee:\n",
    "A poet could not be but gay,\n",
    "In such a jocund company:\n",
    "I gazed'and gazed'but little thought\n",
    "What wealth the show to me had brought:\n",
    "\n",
    "For oft, when on my couch I lie\n",
    "In vacant or in pensive mood,\n",
    "They flash upon that inward eye\n",
    "Which is the bliss of solitude;\n",
    "And then my heart with pleasure fills,\n",
    "And dances with the daffodils."
   ]
  },
  {
   "cell_type": "markdown",
   "id": "857abf2f",
   "metadata": {
    "id": "857abf2f"
   },
   "source": [
    "<hr>\n",
    "\n",
    "I will add a new line (enter) every 6 lines.<br>\n",
    "So I should do this operation at multiples of 6.<br>\n",
    "But how can we determine if a number is a multiple of 6?<br>\n",
    "Yes, with modulus 6.<br>\n",
    "If a number is divisible by 6 without remainder, it is a multiple of 6.<br>\n",
    "So, if the modulus of a number divided by 6 returns 0, then that number is a multiple of 6."
   ]
  },
  {
   "cell_type": "markdown",
   "id": "c4c933e3",
   "metadata": {
    "id": "c4c933e3"
   },
   "source": [
    "<hr>\n",
    "\n",
    "So, we need to use a counter.<br>\n",
    "And we need to read the text line by line to traverse the lines.<br>\n",
    "For this, we should use the readlines() method."
   ]
  },
  {
   "cell_type": "code",
   "execution_count": null,
   "id": "edab907a",
   "metadata": {
    "id": "edab907a",
    "outputId": "55509c4a-3b92-4c56-f020-bdc2a7c0324d"
   },
   "outputs": [],
   "source": [
    "# First use the readlines() and see the output:\n",
    "\n",
    "with open(\"Daffodils.txt\", \"r\", encoding = \"utf-8\") as file :\n",
    "    lines = file.readlines()\n",
    "    \n",
    "lines"
   ]
  },
  {
   "cell_type": "markdown",
   "id": "25c53a20",
   "metadata": {
    "id": "25c53a20"
   },
   "source": [
    "Here is a list consisting of the lines of a poem as its elements.\n",
    "\n",
    "Now we can traverse and process this list using a for loop."
   ]
  },
  {
   "cell_type": "code",
   "execution_count": null,
   "id": "5b06835a",
   "metadata": {
    "id": "5b06835a"
   },
   "outputs": [],
   "source": [
    "counter = 0\n",
    "\n",
    "with open(\"Daffodils.txt\", \"w\", encoding=\"utf-8\") as file:\n",
    "    \n",
    "    for i in lines:\n",
    "        counter +=1\n",
    "        if counter % 6 == 0 :\n",
    "            file.write(i + \"\\n\")\n",
    "            \n",
    "        else:\n",
    "            file.write(i)"
   ]
  },
  {
   "cell_type": "code",
   "execution_count": null,
   "id": "9c03910b",
   "metadata": {
    "id": "9c03910b",
    "outputId": "d117e8c9-afe1-4f9f-bc26-26badc51a35e"
   },
   "outputs": [],
   "source": [
    "with open(\"Daffodils.txt\", \"r\", encoding = \"utf-8\") as file :\n",
    "    print(file.read())"
   ]
  },
  {
   "cell_type": "markdown",
   "id": "1f7de962",
   "metadata": {
    "id": "1f7de962"
   },
   "source": [
    "<hr>\n",
    "\n",
    "See, we have divided the poem into stanzas and added a new line every 6 lines using Python. \n",
    "\n",
    "We edited a file.\n",
    "<hr>"
   ]
  },
  {
   "cell_type": "markdown",
   "id": "3f616ac2",
   "metadata": {
    "id": "3f616ac2"
   },
   "source": [
    "### 3. Let's reverse this process now. We will remove the new lines and restore the poem to its original form. \n",
    "\n",
    "**However, we will append the original version to the end of the file without overwriting it.**\n",
    "\n",
    "**The file will contain the stanza-separated version first, and then the version without new lines.**"
   ]
  },
  {
   "cell_type": "code",
   "execution_count": null,
   "id": "aa599c82",
   "metadata": {
    "id": "aa599c82"
   },
   "outputs": [],
   "source": [
    "with open(\"Daffodils.txt\", \"r\", encoding = \"utf-8\") as file :\n",
    "    lines_new = file.readlines()"
   ]
  },
  {
   "cell_type": "code",
   "execution_count": null,
   "id": "250e14b4",
   "metadata": {
    "id": "250e14b4",
    "outputId": "4e1388f0-4621-44da-8dc7-4e052fed8c55"
   },
   "outputs": [],
   "source": [
    "lines_new"
   ]
  },
  {
   "cell_type": "markdown",
   "id": "839c0d6e",
   "metadata": {
    "id": "839c0d6e"
   },
   "source": [
    "<hr>\n",
    "\n",
    "**You can solve this by iterating over the lines and implementing a condition to remove the new lines :**\n",
    "<hr>"
   ]
  },
  {
   "cell_type": "markdown",
   "id": "6767f3a9",
   "metadata": {
    "id": "6767f3a9"
   },
   "source": [
    "Since the final version will be preserved and the new version will be added below it, we should use the \"a\" mode.\n",
    "\n",
    "iterate over the lines in the lines_new list using a loop.\n",
    "\n",
    "write the lines that meet the condition to the file with \"a\" mode, \n",
    "\n",
    "and skip the ones that do not meet the condition.\n",
    "\n",
    "look at the elements of the list, which are the lines of the poem. If a line consists of only a \"newline\" character, not write it. If it is a line belonging to the poem and not just a newline character, then write it. This way, we will remove the newlines:"
   ]
  },
  {
   "cell_type": "code",
   "execution_count": null,
   "id": "d2e61fb2",
   "metadata": {
    "id": "d2e61fb2",
    "outputId": "c8ac053a-7b04-41a0-ddf3-a89b5e5d2e83"
   },
   "outputs": [],
   "source": [
    "with open(\"Daffodils.txt\", \"a\", encoding=\"utf-8\") as f:\n",
    "    \n",
    "    for i in lines_new:\n",
    "        if i == \"\\n\" :\n",
    "            pass\n",
    "        else :\n",
    "            f.write(i)\n",
    "            \n",
    "with open(\"Daffodils.txt\", \"r\", encoding = \"utf-8\") as file :\n",
    "    print(file.read())"
   ]
  },
  {
   "cell_type": "markdown",
   "id": "fab7acb4",
   "metadata": {
    "id": "fab7acb4"
   },
   "source": [
    "<a id=\"toc\"></a>\n",
    "\n",
    "## <p style=\"background-color:#9d4f8c; font-family:newtimeroman; color:#FFF9ED; font-size:175%; text-align:center; border-radius:10px 10px;\">Reading&Writing CSV Files</p>"
   ]
  },
  {
   "cell_type": "markdown",
   "id": "e6d575f3",
   "metadata": {
    "id": "e6d575f3"
   },
   "source": [
    "**Python official document - CSV File Reading and Writing:   https://docs.python.org/3/library/csv.html**\n",
    "\n",
    "**Link2 - Reading CSV files in python: https://www.geeksforgeeks.org/reading-csv-files-in-python/**\n",
    "\n",
    "**Link2 - Writing CSV files in python: https://www.geeksforgeeks.org/writing-csv-files-in-python/**\n",
    "\n",
    "**Link3 - IO tools (text, CSV, HDF5, …): https://pandas.pydata.org/pandas-docs/stable/user_guide/io.html**"
   ]
  },
  {
   "cell_type": "markdown",
   "id": "8fb5a2dc",
   "metadata": {
    "id": "8fb5a2dc"
   },
   "source": [
    "<a id=\"toc\"></a>\n",
    "\n",
    "## <p style=\"background-color:#F39C12; font-family:newtimeroman; color:#FFF9ED; font-size:125%; text-align:center; border-radius:10px 10px;\">1. Ordinary Reading Method of CSV Files</p>"
   ]
  },
  {
   "cell_type": "code",
   "execution_count": null,
   "id": "0117d337",
   "metadata": {
    "id": "0117d337",
    "outputId": "43414c64-b2a5-4da2-8edf-397fc101fc45"
   },
   "outputs": [],
   "source": [
    "with open(\"titanic.csv\", \"r\", encoding=\"utf-8\") as file:\n",
    "    print(file.read(500))"
   ]
  },
  {
   "cell_type": "markdown",
   "id": "df50e9df",
   "metadata": {
    "id": "df50e9df"
   },
   "source": [
    "**Create people.csv file in your working directory as below:**\n",
    "\n",
    "```\n",
    "row num,first name,last name,ages\n",
    "1,isabella,bold,22\n",
    "2,lara,bold,12\n",
    "3,solomon,bold,46\n",
    "4,adam,smithson,40\n",
    "5,mose,smithson,51\n",
    "```"
   ]
  },
  {
   "cell_type": "code",
   "execution_count": null,
   "id": "7f2865cc",
   "metadata": {
    "id": "7f2865cc",
    "outputId": "4a5269f5-7f8f-4cd9-9bc9-85b9ee74a34f"
   },
   "outputs": [],
   "source": [
    "with open(\"people.csv\", \"r\", encoding=\"utf-8\") as file :\n",
    "    print(file.read())"
   ]
  },
  {
   "cell_type": "code",
   "execution_count": null,
   "id": "ced199ba",
   "metadata": {
    "id": "ced199ba"
   },
   "outputs": [],
   "source": [
    "with open(\"titanic.csv\") as file :\n",
    "    print(file.read(500))"
   ]
  },
  {
   "cell_type": "markdown",
   "id": "5a45a918",
   "metadata": {
    "id": "5a45a918"
   },
   "source": [
    "<a id=\"toc\"></a>\n",
    "\n",
    "## <p style=\"background-color:#F39C12; font-family:newtimeroman; color:#FFF9ED; font-size:125%; text-align:center; border-radius:10px 10px;\">2. Reading the CSV Files with csv Module</p>"
   ]
  },
  {
   "cell_type": "code",
   "execution_count": null,
   "id": "4663e88a",
   "metadata": {
    "id": "4663e88a"
   },
   "outputs": [],
   "source": [
    "import csv"
   ]
  },
  {
   "cell_type": "code",
   "execution_count": null,
   "id": "1acb09c7",
   "metadata": {
    "id": "1acb09c7",
    "outputId": "57ee3fd4-8bad-45fc-97e7-669330fee1c7"
   },
   "outputs": [],
   "source": [
    "with open(\"people.csv\", \"r\", newline=\"\", encoding=\"utf-8\") as file:\n",
    "    csv_rows = csv.reader(file)  # reader() function takes each\n",
    "                                # row (lines) into a list\n",
    "        \n",
    "    for row in csv_rows:\n",
    "        print(row)"
   ]
  },
  {
   "cell_type": "code",
   "execution_count": null,
   "id": "5a91c935",
   "metadata": {
    "id": "5a91c935",
    "outputId": "e2dd618e-c34e-4af0-fa89-6e1b6761465f"
   },
   "outputs": [],
   "source": [
    "with open(\"people.csv\", \"r\", newline=\"\", encoding=\"utf-8\") as file:\n",
    "    csv_rows = csv.reader(file, delimiter=\":\")  \n",
    "# we specified a char \":\" that is not used in the csv file as a value of delimiter \n",
    "                                               \n",
    "    for row in csv_rows:\n",
    "        print(row)\n",
    "        \n",
    "# Note that! : we get each row as a single string in a list!"
   ]
  },
  {
   "cell_type": "code",
   "execution_count": null,
   "id": "d23557f9-ff6a-4e27-a34f-c6e539b2da1a",
   "metadata": {},
   "outputs": [],
   "source": [
    "with open(\"titanic.csv\", \"r\", newline=\"\", encoding=\"utf-8\") as file:\n",
    "    csv_rows = csv.reader(file)  # reader() function takes each\n",
    "                                # row (lines) into a list\n",
    "        \n",
    "    for idx, row in enumerate(csv_rows):\n",
    "        print(row)\n",
    "        if idx > 20:\n",
    "            break"
   ]
  },
  {
   "cell_type": "markdown",
   "id": "07c7b6c6",
   "metadata": {
    "id": "07c7b6c6"
   },
   "source": [
    "<a id=\"toc\"></a>\n",
    "\n",
    "## <p style=\"background-color:#F39C12; font-family:newtimeroman; color:#FFF9ED; font-size:125%; text-align:center; border-radius:10px 10px;\">3. Reading & Writing the CSV Files with Pandas</p>"
   ]
  },
  {
   "cell_type": "code",
   "execution_count": null,
   "id": "21e32b88",
   "metadata": {
    "id": "21e32b88"
   },
   "outputs": [],
   "source": [
    "# !pip install pandas"
   ]
  },
  {
   "cell_type": "code",
   "execution_count": null,
   "id": "c403fbeb",
   "metadata": {
    "id": "c403fbeb"
   },
   "outputs": [],
   "source": [
    "import pandas as pd"
   ]
  },
  {
   "cell_type": "markdown",
   "id": "c88d8641",
   "metadata": {
    "id": "c88d8641"
   },
   "source": [
    "## read_csv() method\n",
    "\n",
    "**Read a comma-separated values (csv) file into DataFrame.**"
   ]
  },
  {
   "cell_type": "code",
   "execution_count": null,
   "id": "e3d04769",
   "metadata": {
    "id": "e3d04769",
    "outputId": "346044e9-d4a6-43e2-8d20-01de5155f12f"
   },
   "outputs": [],
   "source": [
    "df = pd.read_csv(\"titanic.csv\")\n",
    "df"
   ]
  },
  {
   "cell_type": "code",
   "execution_count": null,
   "id": "d666532d",
   "metadata": {
    "id": "d666532d",
    "outputId": "46b5c72c-d663-406b-82de-6aadc5d5e3d3"
   },
   "outputs": [],
   "source": [
    "df.Sex.value_counts(dropna = False)\n",
    "\n",
    "# I just took the Sex column from the file and got the numbers of how many genders there are."
   ]
  },
  {
   "cell_type": "code",
   "execution_count": null,
   "id": "3f8fcf45",
   "metadata": {
    "id": "3f8fcf45",
    "outputId": "5230e3b0-0601-42a8-d318-01c934422c36"
   },
   "outputs": [],
   "source": [
    "# I create \"ladies\" variable from the rows of \"Sex\" column contain the string \"female\"\n",
    "\n",
    "ladies = df[df[\"Sex\"] == \"female\"]\n",
    "ladies"
   ]
  },
  {
   "cell_type": "markdown",
   "id": "b1d90942",
   "metadata": {
    "id": "b1d90942"
   },
   "source": [
    "## to_csv() method\n",
    "\n",
    "**Write object to a comma-separated values (csv) file.**"
   ]
  },
  {
   "cell_type": "code",
   "execution_count": null,
   "id": "810004cc",
   "metadata": {
    "id": "810004cc"
   },
   "outputs": [],
   "source": [
    "ladies.to_csv(\"titanic_ladies.csv\", index = False)\n",
    "\n",
    "# Created a new csv file named \"titanic ladies.csv"
   ]
  },
  {
   "cell_type": "code",
   "execution_count": null,
   "id": "e2bc0d58",
   "metadata": {
    "id": "e2bc0d58",
    "outputId": "c49e3c74-c91c-45d2-aff3-065b25327b07"
   },
   "outputs": [],
   "source": [
    "# Let's read our new csv file by using read_csv() method:\n",
    "\n",
    "pd.read_csv(\"titanic_ladies.csv\")"
   ]
  },
  {
   "cell_type": "code",
   "execution_count": null,
   "id": "5aa019b1",
   "metadata": {
    "id": "5aa019b1",
    "outputId": "950991be-757b-4d76-9563-c453df7fe3c4"
   },
   "outputs": [],
   "source": [
    "dead = df[df[\"Survived\"] == 0]\n",
    "dead"
   ]
  },
  {
   "cell_type": "code",
   "execution_count": null,
   "id": "d395b5b4",
   "metadata": {
    "id": "d395b5b4"
   },
   "outputs": [],
   "source": [
    "dead.to_csv(\"titanic_dead.csv\", index = False)"
   ]
  },
  {
   "cell_type": "code",
   "execution_count": null,
   "id": "8c8b87a9",
   "metadata": {
    "id": "8c8b87a9",
    "outputId": "adb5e279-0ba9-46e5-b27f-bce6244c3f41"
   },
   "outputs": [],
   "source": [
    "pd.read_csv(\"titanic_dead.csv\")"
   ]
  },
  {
   "cell_type": "markdown",
   "id": "7e3cd9e0",
   "metadata": {
    "id": "7e3cd9e0"
   },
   "source": [
    "## Let's do a few small coding examples in Pandas :"
   ]
  },
  {
   "cell_type": "code",
   "execution_count": null,
   "id": "178fb545",
   "metadata": {
    "id": "178fb545",
    "outputId": "8f96760c-32e6-4ce5-c1c3-63dd19364831"
   },
   "outputs": [],
   "source": [
    "df.groupby(\"Sex\")[\"Survived\"].mean()"
   ]
  },
  {
   "cell_type": "code",
   "execution_count": null,
   "id": "f2952d0e",
   "metadata": {
    "id": "f2952d0e",
    "outputId": "dba3e3a1-fac8-4e50-f89f-83923a679b6b"
   },
   "outputs": [],
   "source": [
    "df[df[\"Sex\"] == \"female\"] "
   ]
  },
  {
   "cell_type": "code",
   "execution_count": null,
   "id": "3f5343ff",
   "metadata": {
    "id": "3f5343ff",
    "outputId": "347416b5-21bf-453c-fa0f-e4fb0bb4c20a"
   },
   "outputs": [],
   "source": [
    "df[df[\"Sex\"] == \"female\"][\"Survived\"].value_counts()"
   ]
  },
  {
   "cell_type": "code",
   "execution_count": null,
   "id": "f66966a2",
   "metadata": {
    "id": "f66966a2",
    "outputId": "3715a836-a3dc-49d9-8da8-124f9a88fbf6"
   },
   "outputs": [],
   "source": [
    "df.groupby(\"Pclass\")[\"Survived\"].mean()"
   ]
  },
  {
   "cell_type": "code",
   "execution_count": null,
   "id": "066f393d",
   "metadata": {
    "id": "066f393d",
    "outputId": "59d311e1-8eb4-4139-d58e-0afe1a5028cc"
   },
   "outputs": [],
   "source": [
    "df.hist(\"Pclass\", \"Survived\")"
   ]
  },
  {
   "cell_type": "code",
   "execution_count": null,
   "id": "700b3c21",
   "metadata": {
    "id": "700b3c21",
    "outputId": "2cd574fc-5bbd-4240-95bf-91b9c10daac0"
   },
   "outputs": [],
   "source": [
    "df.hist(\"Sex\", \"Survived\")"
   ]
  },
  {
   "cell_type": "markdown",
   "id": "3edcf792",
   "metadata": {
    "id": "3edcf792"
   },
   "source": [
    "In the left chart, we observe that the number of men who died (the Survived column value of 0) is much higher than that of women. In the right chart, we see the graph of survivors (the Survived column value of 1). There were many more women who survived than men. By plotting simple charts, we obtained an insight."
   ]
  }
 ],
 "metadata": {
  "colab": {
   "provenance": []
  },
  "kernelspec": {
   "display_name": "Python 3 (ipykernel)",
   "language": "python",
   "name": "python3"
  },
  "language_info": {
   "codemirror_mode": {
    "name": "ipython",
    "version": 3
   },
   "file_extension": ".py",
   "mimetype": "text/x-python",
   "name": "python",
   "nbconvert_exporter": "python",
   "pygments_lexer": "ipython3",
   "version": "3.11.3"
  }
 },
 "nbformat": 4,
 "nbformat_minor": 5
}
