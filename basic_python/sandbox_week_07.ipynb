{
 "cells": [
  {
   "cell_type": "markdown",
   "id": "523af7bf-e96c-4c88-b5b0-598c87cd6c0c",
   "metadata": {},
   "source": [
    "#### Clarusway Python\n",
    "\n",
    "* [Instructor Landing Page](landing_page.ipynb)\n",
    "* <a href=\"https://colab.research.google.com/github/4dsolutions/clarusway_data_analysis/blob/main/basic_python/sandbox_week_07.ipynb\"><img align=\"left\" src=\"https://colab.research.google.com/assets/colab-badge.svg\" alt=\"Open in Colab\" title=\"Open and Execute in Google Colaboratory\"></a>\n",
    "* [![nbviewer](https://raw.githubusercontent.com/jupyter/design/master/logos/Badges/nbviewer_badge.svg)](https://nbviewer.org/github/4dsolutions/clarusway_data_analysis/blob/main/basic_python/sandbox_week_07.ipynb)"
   ]
  },
  {
   "cell_type": "markdown",
   "id": "9d844fba-4131-4561-b733-6e62bf2e9693",
   "metadata": {},
   "source": [
    "# Sandbox 7: Moving to Data Analysis\n",
    "\n",
    "\n",
    "## Study Resources\n",
    "\n",
    "<a data-flickr-embed=\"true\" href=\"https://www.flickr.com/photos/kirbyurner/54172991810/in/album-72177720296706479\" title=\"Recommended Reading\"><img src=\"https://live.staticflickr.com/65535/54172991810_77931ed545.jpg\" width=\"500\" height=\"226\" alt=\"Recommended Reading\"/></a><script async src=\"//embedr.flickr.com/assets/client-code.js\" charset=\"utf-8\"></script>\n",
    "\n",
    "[Think Python: Chapter 14](https://allendowney.github.io/ThinkPython/chap14.html) (free online)\n",
    "\n",
    "[Allen Downey Home Page](https://www.allendowney.com/wp/) (with links to [his books](https://greenteapress.com/wp/))\n",
    "\n",
    "[Advanced Python](https://docs.google.com/presentation/d/1Dp9qhRNSPrSl3u1nhNk1hjUzBDd_fVG662TAaLp8EoY/edit?usp=sharing) (Google slide deck)\n",
    "\n",
    "[thekirbster demo website](https://thekirbster.pythonanywhere.com) (uses Flask framework)\n",
    "\n",
    "<a data-flickr-embed=\"true\" href=\"https://www.flickr.com/photos/kirbyurner/26774096488/in/album-72157693427665102\" title=\"Essential Tools\"><img src=\"https://live.staticflickr.com/4649/26774096488_1ecea5a4e4_w.jpg\" width=\"267\" height=\"400\" alt=\"Essential Tools\"/></a><script async src=\"//embedr.flickr.com/assets/client-code.js\" charset=\"utf-8\"></script>\n",
    "\n",
    "[Python Data Science Handbook](https://jakevdp.github.io/PythonDataScienceHandbook/) (worth skimming in prep mode)\n",
    "\n",
    "\n",
    "<a data-flickr-embed=\"true\" href=\"https://www.flickr.com/photos/kirbyurner/39098593240/in/album-72157693427665102\" title=\"Library Book\"><img src=\"https://live.staticflickr.com/802/39098593240_ac283ee2df_w.jpg\" width=\"267\" height=\"400\" alt=\"Library Book\"/></a><script async src=\"//embedr.flickr.com/assets/client-code.js\" charset=\"utf-8\"></script><br/>\n",
    "(the rise of Bayesian Statistics)\n",
    "\n",
    "For an online library of relevant computer books:  [O'Reilly](https://learning.oreilly.com/) (paid subscription)\n",
    "\n",
    "One of the books available through O'Reilly:<br />\n",
    "<a data-flickr-embed=\"true\" href=\"https://www.flickr.com/photos/kirbyurner/54184292745/in/album-72177720296706479\" title=\"Recommended Python Book\"><img src=\"https://live.staticflickr.com/65535/54184292745_65f8790608_w.jpg\" width=\"389\" height=\"400\" alt=\"Recommended Python Book\"/></a><script async src=\"//embedr.flickr.com/assets/client-code.js\" charset=\"utf-8\"></script>\n",
    "\n",
    "And lets not forget about YouTubes!"
   ]
  },
  {
   "cell_type": "code",
   "execution_count": 1,
   "id": "f5f73eda-a411-4494-baee-9725e8cd5295",
   "metadata": {},
   "outputs": [],
   "source": [
    "from IPython.display import YouTubeVideo # you only need to do this once, then go like..."
   ]
  },
  {
   "cell_type": "code",
   "execution_count": 2,
   "id": "180f95c4-7b10-4b87-8659-69dfcd5083a8",
   "metadata": {},
   "outputs": [
    {
     "data": {
      "image/jpeg": "[encoded data removed]",
      "text/html": [
       "\n",
       "        <iframe\n",
       "            width=\"400\"\n",
       "            height=\"300\"\n",
       "            src=\"https://www.youtube.com/embed/KhAUfqhLakw\"\n",
       "            frameborder=\"0\"\n",
       "            allowfullscreen\n",
       "            \n",
       "        ></iframe>\n",
       "        "
      ],
      "text/plain": [
       "<IPython.lib.display.YouTubeVideo at 0x1125d6510>"
      ]
     },
     "execution_count": 2,
     "metadata": {},
     "output_type": "execute_result"
    }
   ],
   "source": [
    "YouTubeVideo(\"KhAUfqhLakw\")"
   ]
  },
  {
   "cell_type": "markdown",
   "id": "fb118907-709d-4080-94f4-0bde3f99de47",
   "metadata": {},
   "source": [
    "## Reviewing Exceptions"
   ]
  },
  {
   "cell_type": "code",
   "execution_count": 3,
   "id": "cd5c1467-5ff8-45a2-bd14-7d92285f54ce",
   "metadata": {},
   "outputs": [
    {
     "name": "stdout",
     "output_type": "stream",
     "text": [
      "assert error\n",
      "That was fun\n"
     ]
    }
   ],
   "source": [
    "class PantsOnFire(Exception):\n",
    "    pass\n",
    "\n",
    "def test_me():\n",
    "    try:\n",
    "        print(\"I am testing you now\")\n",
    "        1/0\n",
    "    except:\n",
    "        print(\"bad!\")\n",
    "        raise PantsOnFire(\"Don't worry though!\")\n",
    "\n",
    "try:\n",
    "    assert 1 == 2\n",
    "    # test_me() \n",
    "except PantsOnFire as e:\n",
    "    print(e)\n",
    "except AssertionError as e:\n",
    "    print(\"assert error\")\n",
    "except Exception as e:\n",
    "    print(e)\n",
    "else:\n",
    "    print(\"Never got here\")\n",
    "finally:\n",
    "    print(\"That was fun\")"
   ]
  },
  {
   "cell_type": "markdown",
   "id": "a8df1fab-aa07-457c-8511-bf06ec0f7d65",
   "metadata": {},
   "source": [
    "## case statement (new)\n",
    "\n",
    "This will be a final flow control statement to investigate in Basic Python. This is a new construct only available in Python 3.10 and above.\n",
    "\n",
    "[Example online Tutorial](https://machinelearningtutorials.org/python-match-statements-tutorial-with-examples/) "
   ]
  },
  {
   "cell_type": "code",
   "execution_count": 4,
   "id": "b154b366-47b7-411e-89ed-55a7df667e9f",
   "metadata": {},
   "outputs": [
    {
     "name": "stdin",
     "output_type": "stream",
     "text": [
      "Enter a number between 1 and 3:  2\n"
     ]
    },
    {
     "name": "stdout",
     "output_type": "stream",
     "text": [
      "Two\n"
     ]
    }
   ],
   "source": [
    "# simple match case statement\n",
    "def runMatch():\n",
    "    num = int(input(\"Enter a number between 1 and 3: \"))\n",
    "    \n",
    "    # match case\n",
    "    match num:\n",
    "        # pattern 1\n",
    "        case 1:\n",
    "            print(\"One\")\n",
    "        # pattern 2\n",
    "        case 2:\n",
    "            print(\"Two\")\n",
    "        # pattern 3\n",
    "        case 3:\n",
    "            print(\"Three\")\n",
    "        # default pattern\n",
    "        case _:\n",
    "            print(\"Number not between 1 and 3\")\n",
    "            \n",
    "runMatch()"
   ]
  },
  {
   "cell_type": "code",
   "execution_count": 5,
   "id": "8bb91eea-06ba-47f5-a61c-97699a5b221a",
   "metadata": {},
   "outputs": [
    {
     "name": "stdout",
     "output_type": "stream",
     "text": [
      "No match found\n"
     ]
    }
   ],
   "source": [
    "command = 'World!'\n",
    "match command:\n",
    "    case 'Hello, World!':\n",
    "        print('Hello to you too!')\n",
    "    case 'Goodbye, World!':\n",
    "        print('See you later')\n",
    "    case _:\n",
    "        print('No match found')\n"
   ]
  },
  {
   "cell_type": "code",
   "execution_count": 6,
   "id": "d23d78df-29a0-43c1-89a6-13c96ab25c11",
   "metadata": {},
   "outputs": [
    {
     "name": "stdout",
     "output_type": "stream",
     "text": [
      "Three or Four\n"
     ]
    }
   ],
   "source": [
    "num = 4\n",
    "match num:\n",
    "    case 1 | 2:\n",
    "        print(\"One or Two\")\n",
    "    case 3 | 4:\n",
    "        print(\"Three or Four\")\n",
    "    case 5 | 6:\n",
    "        print(\"Five or Six\")\n",
    "    case _:\n",
    "        print(\"Number not between 1 and 6\")"
   ]
  },
  {
   "cell_type": "code",
   "execution_count": 7,
   "id": "fd45fdeb-282d-4bc1-8e91-9fff656d1f4e",
   "metadata": {},
   "outputs": [
    {
     "name": "stdout",
     "output_type": "stream",
     "text": [
      "Name:Jay, Age:24\n"
     ]
    }
   ],
   "source": [
    "dictionary = {\"name\": \"Jay\", \"age\": 24}\n",
    "match dictionary:\n",
    "    case {\"name\": n, \"age\": a}:\n",
    "        print(f\"Name:{n}, Age:{a}\")\n",
    "    case {\"name\": n, \"salary\": s}:\n",
    "        print(f\"Name:{n}, Salary:{s}\")\n",
    "    case _ :\n",
    "        print(\"Data does not exist\")"
   ]
  },
  {
   "cell_type": "code",
   "execution_count": 8,
   "id": "03195ce4-7770-471c-9a80-09bc4e2c0cdb",
   "metadata": {},
   "outputs": [
    {
     "name": "stdin",
     "output_type": "stream",
     "text": [
      "Enter a number:  -1\n"
     ]
    },
    {
     "name": "stdout",
     "output_type": "stream",
     "text": [
      "Negative\n"
     ]
    }
   ],
   "source": [
    "# python match case with if condition\n",
    "def runMatch():\n",
    "    num = int(input(\"Enter a number: \"))\n",
    "    \n",
    "    # match case\n",
    "    match num:\n",
    "        # pattern 1\n",
    "        case num if num > 0:\n",
    "            print(\"Positive\")\n",
    "        # pattern 2\n",
    "        case num if num < 0:\n",
    "            print(\"Negative\")\n",
    "        # default pattern\n",
    "        case _:\n",
    "            print(\"Zero\")\n",
    "            \n",
    "runMatch()"
   ]
  },
  {
   "cell_type": "markdown",
   "id": "bc4facb4-2022-4840-93fa-901e9724f0c5",
   "metadata": {},
   "source": [
    "## Composing Functions"
   ]
  },
  {
   "cell_type": "code",
   "execution_count": 9,
   "id": "46b8fc3d-9463-4205-b674-b99b0619c804",
   "metadata": {},
   "outputs": [],
   "source": [
    "def compose(f, g):\n",
    "    def h(x):\n",
    "        return f(g(x))\n",
    "    return h\n",
    "\n",
    "def m(s):\n",
    "    return s + \"s\"\n",
    "\n",
    "def n(s):\n",
    "    return s.upper()\n",
    "\n",
    "funk1 = compose(m, n)\n",
    "funk2 = compose(n, m)"
   ]
  },
  {
   "cell_type": "code",
   "execution_count": 10,
   "id": "318786af-57ff-4ff6-89b0-28cf382d19cc",
   "metadata": {},
   "outputs": [
    {
     "data": {
      "text/plain": [
       "'HELLOs'"
      ]
     },
     "execution_count": 10,
     "metadata": {},
     "output_type": "execute_result"
    }
   ],
   "source": [
    "funk1(\"Hello\")"
   ]
  },
  {
   "cell_type": "code",
   "execution_count": 11,
   "id": "92730431-4a0b-4e1d-a215-808aff22b121",
   "metadata": {},
   "outputs": [
    {
     "data": {
      "text/plain": [
       "'HELLOS'"
      ]
     },
     "execution_count": 11,
     "metadata": {},
     "output_type": "execute_result"
    }
   ],
   "source": [
    "funk2(\"Hello\")"
   ]
  },
  {
   "cell_type": "code",
   "execution_count": 12,
   "id": "e4e2f569-9406-4f68-9735-ce18b576c25e",
   "metadata": {},
   "outputs": [],
   "source": [
    "h = compose(lambda x: 2*x, lambda y: y+2)"
   ]
  },
  {
   "cell_type": "code",
   "execution_count": 13,
   "id": "f77378e8-4bd3-4427-9267-8597d26b294e",
   "metadata": {},
   "outputs": [
    {
     "data": {
      "text/plain": [
       "24"
      ]
     },
     "execution_count": 13,
     "metadata": {},
     "output_type": "execute_result"
    }
   ],
   "source": [
    "h(10)"
   ]
  },
  {
   "cell_type": "code",
   "execution_count": 14,
   "id": "b9d3b169-ab45-4d27-b8c5-d0640aab9d46",
   "metadata": {},
   "outputs": [
    {
     "data": {
      "text/plain": [
       "24"
      ]
     },
     "execution_count": 14,
     "metadata": {},
     "output_type": "execute_result"
    }
   ],
   "source": [
    "(lambda x: 2*x)     ((lambda y: y+2)(10))"
   ]
  },
  {
   "cell_type": "code",
   "execution_count": 15,
   "id": "904891fb-92a1-4285-a077-429b40eb1434",
   "metadata": {},
   "outputs": [],
   "source": [
    "h = compose(lambda y: y+2, lambda x: 2*x)"
   ]
  },
  {
   "cell_type": "code",
   "execution_count": 16,
   "id": "1d0f9d0d-b0c5-4215-a4ea-975f3715597a",
   "metadata": {},
   "outputs": [
    {
     "data": {
      "text/plain": [
       "22"
      ]
     },
     "execution_count": 16,
     "metadata": {},
     "output_type": "execute_result"
    }
   ],
   "source": [
    "h(10)"
   ]
  },
  {
   "cell_type": "code",
   "execution_count": 17,
   "id": "1577aa44-70bb-4bcd-8a16-651c9366ae51",
   "metadata": {},
   "outputs": [
    {
     "data": {
      "text/plain": [
       "22"
      ]
     },
     "execution_count": 17,
     "metadata": {},
     "output_type": "execute_result"
    }
   ],
   "source": [
    "(lambda y: y+2)((lambda x: 2*x)(10))"
   ]
  },
  {
   "cell_type": "code",
   "execution_count": 18,
   "id": "6d7e3de7-739c-461d-befe-e04136876d8b",
   "metadata": {},
   "outputs": [],
   "source": [
    "class Compose:\n",
    "\n",
    "    def __init__(self, f):\n",
    "        self.f = f\n",
    "        \n",
    "    def __call__(self, x):\n",
    "        return self.f(x)\n",
    "        \n",
    "    def __mul__(self, g):\n",
    "        return Compose(lambda x: self.f(g(x))) # creates new object with lambda\n",
    "        \n",
    "    def __pow__(self, n): # extra credit\n",
    "        try:\n",
    "            assert (type(n) == int) and n >= 0\n",
    "        except AssertionError:\n",
    "            print(\"Only non-negative integer powers please\")\n",
    "            raise\n",
    "        if n == 0:\n",
    "            return Compose(lambda x: x) # identity function\n",
    "        elif n == 1:\n",
    "            return self\n",
    "        obj = self\n",
    "        for _ in range(1, n): # n is 2 or more\n",
    "            obj *= self\n",
    "        return obj\n",
    "\n",
    "funk1 = Compose(funk1) # funk1: upper then add s\n",
    "funk2 = Compose(funk2) # funk2: add s then upper\n",
    "\n",
    "funk3 = funk1 * funk2  # add s then upper, then upper and add s\n",
    "funk4 = funk2 * funk1  # upper then add s, then add s then upper"
   ]
  },
  {
   "cell_type": "code",
   "execution_count": 19,
   "id": "2028e794-2421-417b-9351-10c6e5aa2c99",
   "metadata": {},
   "outputs": [
    {
     "data": {
      "text/plain": [
       "'BRAVOSs'"
      ]
     },
     "execution_count": 19,
     "metadata": {},
     "output_type": "execute_result"
    }
   ],
   "source": [
    "funk3(\"bravo\")"
   ]
  },
  {
   "cell_type": "code",
   "execution_count": 20,
   "id": "88c0c430-2628-4d67-8950-acdab22eaa91",
   "metadata": {},
   "outputs": [
    {
     "data": {
      "text/plain": [
       "'BRAVOSS'"
      ]
     },
     "execution_count": 20,
     "metadata": {},
     "output_type": "execute_result"
    }
   ],
   "source": [
    "funk4(\"bravo\")"
   ]
  },
  {
   "cell_type": "markdown",
   "id": "aae0eff2-41d4-49a7-8e63-8e56270bc195",
   "metadata": {},
   "source": [
    "Exercise: use Compose class with simple f, g of your own making. Show (f * g)(x) and (g * f)(x)"
   ]
  },
  {
   "cell_type": "markdown",
   "id": "39a9a5fd-128f-4dc2-bcfb-bbba32c24b18",
   "metadata": {},
   "source": [
    "## Decorator Syntax"
   ]
  },
  {
   "cell_type": "markdown",
   "id": "f7f81af7-4765-4601-9bff-afb30ee8109b",
   "metadata": {},
   "source": [
    "Take a look at this syntax:\n",
    "\n",
    "```python\n",
    "    funk1 = Compose(funk1) # funk1: upper then add s\n",
    "    funk2 = Compose(funk2) # funk2: add s then upper\n",
    "```\n",
    "\n",
    "The input and output have the same name, but a transformation is happening. funk1 is going in as a function but coming out as a Compose type instance.\n",
    "\n",
    "When you want to eat a callable right as it's being defined, and return a transformed version with the same name, Python offers \"decorator syntax\" (@).\n",
    "\n",
    "<a data-flickr-embed=\"true\" href=\"https://www.flickr.com/photos/kirbyurner/54174817700/in/dateposted/\" title=\"Abduction Ahead\"><img src=\"https://live.staticflickr.com/65535/54174817700_559890a22d_w.jpg\" width=\"400\" height=\"400\" alt=\"Abduction Ahead\"/></a><script async src=\"//embedr.flickr.com/assets/client-code.js\" charset=\"utf-8\"></script>\n",
    "\n",
    "You might think of \"being decorated\" as akin to \"being abducted\" in that an object retains its identity in name only. Something transformational happens as a result of being decorated, which is done at define time, not at runtime."
   ]
  },
  {
   "cell_type": "code",
   "execution_count": 21,
   "id": "02f26fc4-bed0-4d27-ae78-c6955898a621",
   "metadata": {},
   "outputs": [],
   "source": [
    "@Compose\n",
    "def m(x): \n",
    "    return x + 2\n",
    "    \n",
    "# m = Compose(m) -- means the same thing\n",
    "\n",
    "@Compose\n",
    "def n(x): return 2 * x"
   ]
  },
  {
   "cell_type": "code",
   "execution_count": 22,
   "id": "ce4948b8-69b5-46ae-b9b2-9c6300207221",
   "metadata": {},
   "outputs": [
    {
     "data": {
      "text/plain": [
       "22"
      ]
     },
     "execution_count": 22,
     "metadata": {},
     "output_type": "execute_result"
    }
   ],
   "source": [
    "(m * n)(10)"
   ]
  },
  {
   "cell_type": "code",
   "execution_count": 23,
   "id": "34d90f99-38a3-4b79-9699-1781677808ef",
   "metadata": {},
   "outputs": [
    {
     "data": {
      "text/plain": [
       "24"
      ]
     },
     "execution_count": 23,
     "metadata": {},
     "output_type": "execute_result"
    }
   ],
   "source": [
    "(n * m)(10)"
   ]
  },
  {
   "cell_type": "code",
   "execution_count": 24,
   "id": "1d67a250-a0e7-45a5-8e71-ade5a67762cd",
   "metadata": {},
   "outputs": [
    {
     "data": {
      "text/plain": [
       "56"
      ]
     },
     "execution_count": 24,
     "metadata": {},
     "output_type": "execute_result"
    }
   ],
   "source": [
    "(n * n * m * m)(10)"
   ]
  },
  {
   "cell_type": "markdown",
   "id": "fe970257-d0f3-45bb-88fd-dc70f38d9852",
   "metadata": {},
   "source": [
    "Exercise:  implement ```__pow__(self, n)``` inside Compose so that you can write expressions like:\n",
    "\n",
    "```python\n",
    "(n ** 3)(10) # same as (n * n * n)(10)\n",
    "```"
   ]
  },
  {
   "cell_type": "code",
   "execution_count": 25,
   "id": "6872c5fa-8faf-4711-82ba-c64f03ed4927",
   "metadata": {},
   "outputs": [
    {
     "data": {
      "text/plain": [
       "102"
      ]
     },
     "execution_count": 25,
     "metadata": {},
     "output_type": "execute_result"
    }
   ],
   "source": [
    "(m ** 1)(100)"
   ]
  },
  {
   "cell_type": "code",
   "execution_count": 26,
   "id": "6c8e53cd-5712-4b14-8970-c6bc68a94717",
   "metadata": {},
   "outputs": [
    {
     "data": {
      "text/plain": [
       "100"
      ]
     },
     "execution_count": 26,
     "metadata": {},
     "output_type": "execute_result"
    }
   ],
   "source": [
    "(m ** 0)(100)"
   ]
  },
  {
   "cell_type": "code",
   "execution_count": 27,
   "id": "6adf4d0b-9fdf-4e7c-890b-182f9eb6de6f",
   "metadata": {},
   "outputs": [],
   "source": [
    "# (m ** -3)(100)"
   ]
  },
  {
   "cell_type": "code",
   "execution_count": 28,
   "id": "eb5e81c5-c9cb-431c-bb25-5a8f422ec53b",
   "metadata": {},
   "outputs": [
    {
     "data": {
      "text/plain": [
       "56"
      ]
     },
     "execution_count": 28,
     "metadata": {},
     "output_type": "execute_result"
    }
   ],
   "source": [
    "(n**2 * m**2)(10)"
   ]
  },
  {
   "cell_type": "code",
   "execution_count": 29,
   "id": "fb19ebf5-e1bb-48ea-bdfe-dfbd3265257f",
   "metadata": {},
   "outputs": [
    {
     "data": {
      "text/plain": [
       "96"
      ]
     },
     "execution_count": 29,
     "metadata": {},
     "output_type": "execute_result"
    }
   ],
   "source": [
    "(n ** 5)(3)"
   ]
  },
  {
   "cell_type": "code",
   "execution_count": 30,
   "id": "d404eae3-c50f-4712-a9e5-83d244d78789",
   "metadata": {},
   "outputs": [
    {
     "data": {
      "text/plain": [
       "96"
      ]
     },
     "execution_count": 30,
     "metadata": {},
     "output_type": "execute_result"
    }
   ],
   "source": [
    "n(n(n(n(n(3)))))"
   ]
  },
  {
   "cell_type": "markdown",
   "id": "54568d25-7176-434c-8b20-3f45d4ec896c",
   "metadata": {},
   "source": [
    "## Properties, Class and Static Methods"
   ]
  },
  {
   "cell_type": "markdown",
   "id": "93b9f84f-1956-458d-bfc8-b7b238e57254",
   "metadata": {},
   "source": [
    "Now that you have seen decorator syntax, we can make sense of some additional syntax.\n",
    "\n",
    "The property decorator allows a method to disguise itself as simply an attribute. \n",
    "\n",
    "Different methods apply for getting (shown) and setting (not shown) a property.\n",
    "\n",
    "Think of attributes as private in the sense that you wish to protect them with code."
   ]
  },
  {
   "cell_type": "code",
   "execution_count": 31,
   "id": "b6777089-7f50-4411-acef-ef103a467e27",
   "metadata": {},
   "outputs": [],
   "source": [
    "from datetime import date\n",
    "\n",
    "class Animal:\n",
    "\n",
    "    @staticmethod\n",
    "    def version(): # no implied leftmost argument, either self or klass\n",
    "        return \"Version 1.0\"\n",
    "\n",
    "    def __init__(self, dob):\n",
    "        self.dob = dob\n",
    "        self.stomach = []\n",
    "\n",
    "    @property\n",
    "    def age(self):\n",
    "        return (date.today() - self.dob).days\n",
    "\n",
    "    def eat(self, food):\n",
    "        self.stomach.append(food)\n",
    "\n",
    "    def __repr__(self):\n",
    "        return \"Animal born {}\".format(self.dob)"
   ]
  },
  {
   "cell_type": "code",
   "execution_count": 32,
   "id": "b8f5a83d-bf08-4f9b-8e22-8518c66a8e4e",
   "metadata": {},
   "outputs": [],
   "source": [
    "dog = Animal(date(2010, 3, 4))"
   ]
  },
  {
   "cell_type": "code",
   "execution_count": 33,
   "id": "2e8ab5f3-614d-4477-b61c-6a4e8d23ae0b",
   "metadata": {},
   "outputs": [
    {
     "data": {
      "text/plain": [
       "Animal born 2010-03-04"
      ]
     },
     "execution_count": 33,
     "metadata": {},
     "output_type": "execute_result"
    }
   ],
   "source": [
    "dog"
   ]
  },
  {
   "cell_type": "code",
   "execution_count": 34,
   "id": "fce44183-6b20-45cd-8bca-51c5bf81cd8f",
   "metadata": {},
   "outputs": [
    {
     "data": {
      "text/plain": [
       "'2010-03-04'"
      ]
     },
     "execution_count": 34,
     "metadata": {},
     "output_type": "execute_result"
    }
   ],
   "source": [
    "dog.dob.isoformat()"
   ]
  },
  {
   "cell_type": "code",
   "execution_count": 35,
   "id": "34ca44ec-c769-4c1c-bd2a-972b00876b4e",
   "metadata": {},
   "outputs": [
    {
     "data": {
      "text/plain": [
       "5392"
      ]
     },
     "execution_count": 35,
     "metadata": {},
     "output_type": "execute_result"
    }
   ],
   "source": [
    "dog.age"
   ]
  },
  {
   "cell_type": "markdown",
   "id": "661b3f45-177d-4972-95c5-90699e43f561",
   "metadata": {},
   "source": [
    "The classmethod decorator allows a method to accept the class itself in place of self, such that the method is about doing something to the class, not the instances directly.\n",
    "\n",
    "The placeholder leftmost argument is often \"klass\", spelled that way to avoid name collision with the `class` keyword."
   ]
  },
  {
   "cell_type": "code",
   "execution_count": 36,
   "id": "92fbe1d3-35b4-4a3b-9452-656b95b1a9bf",
   "metadata": {},
   "outputs": [],
   "source": [
    "import random \n",
    "\n",
    "class Dog(Animal):\n",
    "    \n",
    "    tricks = [\"roll over\", \"play dead\", \"fetch stick\"]\n",
    "    \n",
    "    def __init__(self, name, dob):\n",
    "        self.name = name\n",
    "        super().__init__(dob) # pass dob to superclass __init__\n",
    "\n",
    "    def do_trick(self):\n",
    "        return random.choice(self.tricks) # self.tricks checks self.__dict__ then class.__dict__\n",
    "        \n",
    "    @classmethod\n",
    "    def add_trick(klass, trick):  # add a trick to the class-level list named tricks\n",
    "        klass.tricks.append(trick)"
   ]
  },
  {
   "cell_type": "code",
   "execution_count": 37,
   "id": "f12df691-34ba-41a4-aeef-2519d12408e0",
   "metadata": {},
   "outputs": [],
   "source": [
    "rover = Dog(\"Rover\", date(2000, 1, 10))"
   ]
  },
  {
   "cell_type": "code",
   "execution_count": 38,
   "id": "2a158e45-b33a-4902-9c56-3143363bbd57",
   "metadata": {},
   "outputs": [
    {
     "data": {
      "text/plain": [
       "9098"
      ]
     },
     "execution_count": 38,
     "metadata": {},
     "output_type": "execute_result"
    }
   ],
   "source": [
    "rover.age"
   ]
  },
  {
   "cell_type": "code",
   "execution_count": 39,
   "id": "9e72d569-08de-4f46-b136-8a42ec18e508",
   "metadata": {},
   "outputs": [
    {
     "data": {
      "text/plain": [
       "'roll over'"
      ]
     },
     "execution_count": 39,
     "metadata": {},
     "output_type": "execute_result"
    }
   ],
   "source": [
    "rover.do_trick()"
   ]
  },
  {
   "cell_type": "code",
   "execution_count": 40,
   "id": "cc89883f-ad07-4fef-a08d-df61f0c0942e",
   "metadata": {},
   "outputs": [
    {
     "data": {
      "text/plain": [
       "'fetch stick'"
      ]
     },
     "execution_count": 40,
     "metadata": {},
     "output_type": "execute_result"
    }
   ],
   "source": [
    "rover.do_trick()"
   ]
  },
  {
   "cell_type": "code",
   "execution_count": 41,
   "id": "28c04ace-d1a7-4271-862d-a54004d8585a",
   "metadata": {},
   "outputs": [],
   "source": [
    "rover.add_trick(\"beg\")"
   ]
  },
  {
   "cell_type": "code",
   "execution_count": 42,
   "id": "468de112-737a-485f-8f7e-bee9349b688a",
   "metadata": {},
   "outputs": [
    {
     "data": {
      "text/plain": [
       "['roll over', 'play dead', 'fetch stick', 'beg']"
      ]
     },
     "execution_count": 42,
     "metadata": {},
     "output_type": "execute_result"
    }
   ],
   "source": [
    "Dog.tricks"
   ]
  },
  {
   "cell_type": "markdown",
   "id": "04b0b4f5-ed02-4d4c-8f7c-f3d1fb330985",
   "metadata": {},
   "source": [
    "## File I/O and Context Managers\n",
    "\n",
    "Reading and writing files is a core activity in Python, centered around the builtin functions ```open()``` and ```close()```.\n",
    "\n",
    "Python's default mode when opening files is to treat them as [UTF-8 text files](https://peps.python.org/pep-0686/). This default encoding may be altered for reading and writing purposes. Sometimes we might like to get a raw bytecode view."
   ]
  },
  {
   "cell_type": "markdown",
   "id": "10dabcbe-5aee-40d1-9945-44699eebc3c3",
   "metadata": {},
   "source": [
    "A context manager is a type of object that implements ```__enter__``` and ```__exit__``` which is useful for entering and exiting a \"context\" wherein the environment has changed for a given block of code, and will be restored when the block is done.  The context might therefore be \"with a file open\" i.e. \"do this block of code with a certain open file, close it when block ends\".\n",
    "\n",
    "For a different take on files and databases, check [Thinking Python section 13](https://allendowney.github.io/ThinkPython/chap13.html)."
   ]
  },
  {
   "cell_type": "code",
   "execution_count": 43,
   "id": "c4e0aaf4-b442-458e-9c51-422981e8fe84",
   "metadata": {},
   "outputs": [],
   "source": [
    "pirates = \\\n",
    "\"\"\"\n",
    "I am the very model of a modern Major-General\n",
    "I've information vegetable, animal, and mineral\n",
    "I know the kings of England, and I quote the fights historical\n",
    "From Marathon to Waterloo, in order categorical\n",
    "I'm very well acquainted, too, with matters mathematical\n",
    "I understand equations, both the simple and quadratical\n",
    "About binomial theorem I am teeming with a lot o' news\n",
    "With many cheerful facts about the square of the hypotenuse\n",
    "\"\"\"\n",
    "\n",
    "try:\n",
    "    fileobj = open(\"pirates_g&s.txt\", \"w\")\n",
    "    print(pirates, file = fileobj)\n",
    "except Exception as e:\n",
    "    print(e)"
   ]
  },
  {
   "cell_type": "code",
   "execution_count": 44,
   "id": "a6a20cae-4ab0-4837-ab13-5e467a7a483f",
   "metadata": {},
   "outputs": [],
   "source": [
    "from pathlib import Path\n",
    "import os"
   ]
  },
  {
   "cell_type": "code",
   "execution_count": 45,
   "id": "07604da1-f7cd-43fd-bbf2-8f15558b4f62",
   "metadata": {},
   "outputs": [
    {
     "data": {
      "text/plain": [
       "True"
      ]
     },
     "execution_count": 45,
     "metadata": {},
     "output_type": "execute_result"
    }
   ],
   "source": [
    "os.path.isfile(\"pirates_g&s.txt\")"
   ]
  },
  {
   "cell_type": "code",
   "execution_count": 46,
   "id": "d6505454-22ce-481f-8100-525e6bfcc063",
   "metadata": {},
   "outputs": [
    {
     "data": {
      "text/plain": [
       "PosixPath('pirates_g&s.txt')"
      ]
     },
     "execution_count": 46,
     "metadata": {},
     "output_type": "execute_result"
    }
   ],
   "source": [
    "f = Path(\"pirates_g&s.txt\")\n",
    "f"
   ]
  },
  {
   "cell_type": "code",
   "execution_count": 47,
   "id": "70d96c50-d06f-4e67-be13-6da761bc8fa7",
   "metadata": {},
   "outputs": [],
   "source": [
    "the_file = open(f, 'r')\n",
    "contents = the_file.read()\n",
    "the_file.close()"
   ]
  },
  {
   "cell_type": "code",
   "execution_count": 48,
   "id": "2851e613-cb5c-43b3-9b26-f2960310f0e4",
   "metadata": {},
   "outputs": [
    {
     "data": {
      "text/plain": [
       "'UTF-8'"
      ]
     },
     "execution_count": 48,
     "metadata": {},
     "output_type": "execute_result"
    }
   ],
   "source": [
    "the_file.encoding"
   ]
  },
  {
   "cell_type": "code",
   "execution_count": 49,
   "id": "1599f2ca-1dd3-4365-af2e-9640a7904126",
   "metadata": {},
   "outputs": [
    {
     "data": {
      "text/plain": [
       "''"
      ]
     },
     "execution_count": 49,
     "metadata": {},
     "output_type": "execute_result"
    }
   ],
   "source": [
    "contents"
   ]
  },
  {
   "cell_type": "code",
   "execution_count": 50,
   "id": "559b5efd-15f1-4d40-aa2b-9f3009082c4b",
   "metadata": {},
   "outputs": [
    {
     "name": "stdout",
     "output_type": "stream",
     "text": [
      "\n"
     ]
    }
   ],
   "source": [
    "print(contents)"
   ]
  },
  {
   "cell_type": "code",
   "execution_count": 51,
   "id": "41da943b-29ae-4e0f-9a04-f4bcfe2b06eb",
   "metadata": {},
   "outputs": [
    {
     "name": "stdout",
     "output_type": "stream",
     "text": [
      "\n"
     ]
    }
   ],
   "source": [
    "with open(f, 'r') as the_file:\n",
    "    the_file.read()\n",
    "print(contents)"
   ]
  },
  {
   "cell_type": "code",
   "execution_count": 52,
   "id": "57b4a85c-8039-46d6-874a-4c621120f380",
   "metadata": {},
   "outputs": [
    {
     "data": {
      "text/plain": [
       "True"
      ]
     },
     "execution_count": 52,
     "metadata": {},
     "output_type": "execute_result"
    }
   ],
   "source": [
    "the_file.closed # didn't have to explicitly close it"
   ]
  },
  {
   "cell_type": "code",
   "execution_count": 53,
   "id": "c3a69421-eb62-4c69-936e-bc74c93631be",
   "metadata": {},
   "outputs": [],
   "source": [
    "foods = \"\".join([chr(codepoint) for codepoint in range(127815, 127815 + 50)])"
   ]
  },
  {
   "cell_type": "code",
   "execution_count": 54,
   "id": "50672747-5da7-465a-af83-f6282d6e5710",
   "metadata": {},
   "outputs": [
    {
     "data": {
      "text/plain": [
       "'🍇🍈🍉🍊🍋🍌🍍🍎🍏🍐🍑🍒🍓🍔🍕🍖🍗🍘🍙🍚🍛🍜🍝🍞🍟🍠🍡🍢🍣🍤🍥🍦🍧🍨🍩🍪🍫🍬🍭🍮🍯🍰🍱🍲🍳🍴🍵🍶🍷🍸'"
      ]
     },
     "execution_count": 54,
     "metadata": {},
     "output_type": "execute_result"
    }
   ],
   "source": [
    "foods"
   ]
  },
  {
   "cell_type": "code",
   "execution_count": 55,
   "id": "b94e0182-f99e-4e38-ac77-fff0a2292126",
   "metadata": {},
   "outputs": [],
   "source": [
    "file_object = open(\"food_emoji.txt\", \"w\")\n",
    "print(foods, file = file_object)\n",
    "file_object.close()"
   ]
  },
  {
   "cell_type": "code",
   "execution_count": 56,
   "id": "0de3430b-d9bf-457e-b658-ccbc5699a8da",
   "metadata": {},
   "outputs": [
    {
     "data": {
      "text/plain": [
       "b'\\xf0\\x9f\\x8d\\x87\\xf0\\x9f\\x8d\\x88\\xf0\\x9f\\x8d\\x89\\xf0\\x9f\\x8d\\x8a\\xf0\\x9f\\x8d\\x8b\\xf0\\x9f\\x8d\\x8c\\xf0\\x9f\\x8d\\x8d\\xf0\\x9f\\x8d\\x8e\\xf0\\x9f\\x8d\\x8f\\xf0\\x9f\\x8d\\x90\\xf0\\x9f\\x8d\\x91\\xf0\\x9f\\x8d\\x92\\xf0\\x9f\\x8d\\x93\\xf0\\x9f\\x8d\\x94\\xf0\\x9f\\x8d\\x95\\xf0\\x9f\\x8d\\x96\\xf0\\x9f\\x8d\\x97\\xf0\\x9f\\x8d\\x98\\xf0\\x9f\\x8d\\x99\\xf0\\x9f\\x8d\\x9a\\xf0\\x9f\\x8d\\x9b\\xf0\\x9f\\x8d\\x9c\\xf0\\x9f\\x8d\\x9d\\xf0\\x9f\\x8d\\x9e\\xf0\\x9f\\x8d\\x9f\\xf0\\x9f\\x8d\\xa0\\xf0\\x9f\\x8d\\xa1\\xf0\\x9f\\x8d\\xa2\\xf0\\x9f\\x8d\\xa3\\xf0\\x9f\\x8d\\xa4\\xf0\\x9f\\x8d\\xa5\\xf0\\x9f\\x8d\\xa6\\xf0\\x9f\\x8d\\xa7\\xf0\\x9f\\x8d\\xa8\\xf0\\x9f\\x8d\\xa9\\xf0\\x9f\\x8d\\xaa\\xf0\\x9f\\x8d\\xab\\xf0\\x9f\\x8d\\xac\\xf0\\x9f\\x8d\\xad\\xf0\\x9f\\x8d\\xae\\xf0\\x9f\\x8d\\xaf\\xf0\\x9f\\x8d\\xb0\\xf0\\x9f\\x8d\\xb1\\xf0\\x9f\\x8d\\xb2\\xf0\\x9f\\x8d\\xb3\\xf0\\x9f\\x8d\\xb4\\xf0\\x9f\\x8d\\xb5\\xf0\\x9f\\x8d\\xb6\\xf0\\x9f\\x8d\\xb7\\xf0\\x9f\\x8d\\xb8\\n'"
      ]
     },
     "execution_count": 56,
     "metadata": {},
     "output_type": "execute_result"
    }
   ],
   "source": [
    "file_object = open(\"food_emoji.txt\", \"rb\") # bytes mode, no encoding\n",
    "the_bytes=file_object.read()\n",
    "the_bytes"
   ]
  },
  {
   "cell_type": "code",
   "execution_count": 57,
   "id": "880d15d7-c6dc-4572-89a7-cc6fd044eb9e",
   "metadata": {},
   "outputs": [],
   "source": [
    "file_object.close()"
   ]
  },
  {
   "cell_type": "code",
   "execution_count": 58,
   "id": "82268d87-c775-4a33-adfe-cbcb2abe497d",
   "metadata": {},
   "outputs": [
    {
     "name": "stdout",
     "output_type": "stream",
     "text": [
      "🍇🍈🍉🍊🍋🍌🍍🍎🍏🍐🍑🍒🍓🍔🍕🍖🍗🍘🍙🍚🍛🍜🍝🍞🍟🍠🍡🍢🍣🍤🍥🍦🍧🍨🍩🍪🍫🍬🍭🍮🍯🍰🍱🍲🍳🍴🍵🍶🍷🍸\n",
      "\n"
     ]
    }
   ],
   "source": [
    "with open(\"food_emoji.txt\", \"rt\") as file_object:\n",
    "    print(file_object.read())"
   ]
  },
  {
   "cell_type": "code",
   "execution_count": 59,
   "id": "c3b55e43-bb6e-44d2-9c81-cea65e78ddc3",
   "metadata": {},
   "outputs": [
    {
     "data": {
      "text/plain": [
       "'UTF-8'"
      ]
     },
     "execution_count": 59,
     "metadata": {},
     "output_type": "execute_result"
    }
   ],
   "source": [
    "file_object.encoding"
   ]
  },
  {
   "cell_type": "code",
   "execution_count": 60,
   "id": "39f45e0a-0f5f-4f65-90ff-f06955d2c041",
   "metadata": {},
   "outputs": [
    {
     "name": "stdout",
     "output_type": "stream",
     "text": [
      "b'\\xf0\\x9f\\x8d\\x87\\xf0\\x9f\\x8d\\x88\\xf0\\x9f\\x8d\\x89\\xf0\\x9f\\x8d\\x8a\\xf0\\x9f\\x8d\\x8b\\xf0\\x9f\\x8d\\x8c\\xf0\\x9f\\x8d\\x8d\\xf0\\x9f\\x8d\\x8e\\xf0\\x9f\\x8d\\x8f\\xf0\\x9f\\x8d\\x90\\xf0\\x9f\\x8d\\x91\\xf0\\x9f\\x8d\\x92\\xf0\\x9f\\x8d\\x93\\xf0\\x9f\\x8d\\x94\\xf0\\x9f\\x8d\\x95\\xf0\\x9f\\x8d\\x96\\xf0\\x9f\\x8d\\x97\\xf0\\x9f\\x8d\\x98\\xf0\\x9f\\x8d\\x99\\xf0\\x9f\\x8d\\x9a\\xf0\\x9f\\x8d\\x9b\\xf0\\x9f\\x8d\\x9c\\xf0\\x9f\\x8d\\x9d\\xf0\\x9f\\x8d\\x9e\\xf0\\x9f\\x8d\\x9f\\xf0\\x9f\\x8d\\xa0\\xf0\\x9f\\x8d\\xa1\\xf0\\x9f\\x8d\\xa2\\xf0\\x9f\\x8d\\xa3\\xf0\\x9f\\x8d\\xa4\\xf0\\x9f\\x8d\\xa5\\xf0\\x9f\\x8d\\xa6\\xf0\\x9f\\x8d\\xa7\\xf0\\x9f\\x8d\\xa8\\xf0\\x9f\\x8d\\xa9\\xf0\\x9f\\x8d\\xaa\\xf0\\x9f\\x8d\\xab\\xf0\\x9f\\x8d\\xac\\xf0\\x9f\\x8d\\xad\\xf0\\x9f\\x8d\\xae\\xf0\\x9f\\x8d\\xaf\\xf0\\x9f\\x8d\\xb0\\xf0\\x9f\\x8d\\xb1\\xf0\\x9f\\x8d\\xb2\\xf0\\x9f\\x8d\\xb3\\xf0\\x9f\\x8d\\xb4\\xf0\\x9f\\x8d\\xb5\\xf0\\x9f\\x8d\\xb6\\xf0\\x9f\\x8d\\xb7\\xf0\\x9f\\x8d\\xb8\\n'\n"
     ]
    }
   ],
   "source": [
    "with open(\"food_emoji.txt\", \"rb\") as file_object:\n",
    "    print(file_object.read())"
   ]
  },
  {
   "cell_type": "code",
   "execution_count": 61,
   "id": "1b225dc3-e953-4ed0-9a73-5deaefe703c6",
   "metadata": {},
   "outputs": [
    {
     "data": {
      "text/plain": [
       "b'\\xf0\\x9f\\x8d\\x87\\xf0\\x9f\\x8d\\x88\\xf0\\x9f\\x8d\\x89\\xf0\\x9f\\x8d\\x8a\\xf0\\x9f\\x8d\\x8b\\xf0\\x9f\\x8d\\x8c\\xf0\\x9f\\x8d\\x8d\\xf0\\x9f\\x8d\\x8e\\xf0\\x9f\\x8d\\x8f\\xf0\\x9f\\x8d\\x90\\xf0\\x9f\\x8d\\x91\\xf0\\x9f\\x8d\\x92\\xf0\\x9f\\x8d\\x93\\xf0\\x9f\\x8d\\x94\\xf0\\x9f\\x8d\\x95\\xf0\\x9f\\x8d\\x96\\xf0\\x9f\\x8d\\x97\\xf0\\x9f\\x8d\\x98\\xf0\\x9f\\x8d\\x99\\xf0\\x9f\\x8d\\x9a\\xf0\\x9f\\x8d\\x9b\\xf0\\x9f\\x8d\\x9c\\xf0\\x9f\\x8d\\x9d\\xf0\\x9f\\x8d\\x9e\\xf0\\x9f\\x8d\\x9f\\xf0\\x9f\\x8d\\xa0\\xf0\\x9f\\x8d\\xa1\\xf0\\x9f\\x8d\\xa2\\xf0\\x9f\\x8d\\xa3\\xf0\\x9f\\x8d\\xa4\\xf0\\x9f\\x8d\\xa5\\xf0\\x9f\\x8d\\xa6\\xf0\\x9f\\x8d\\xa7\\xf0\\x9f\\x8d\\xa8\\xf0\\x9f\\x8d\\xa9\\xf0\\x9f\\x8d\\xaa\\xf0\\x9f\\x8d\\xab\\xf0\\x9f\\x8d\\xac\\xf0\\x9f\\x8d\\xad\\xf0\\x9f\\x8d\\xae\\xf0\\x9f\\x8d\\xaf\\xf0\\x9f\\x8d\\xb0\\xf0\\x9f\\x8d\\xb1\\xf0\\x9f\\x8d\\xb2\\xf0\\x9f\\x8d\\xb3\\xf0\\x9f\\x8d\\xb4\\xf0\\x9f\\x8d\\xb5\\xf0\\x9f\\x8d\\xb6\\xf0\\x9f\\x8d\\xb7\\xf0\\x9f\\x8d\\xb8'"
      ]
     },
     "execution_count": 61,
     "metadata": {},
     "output_type": "execute_result"
    }
   ],
   "source": [
    "foods.encode('utf-8')"
   ]
  },
  {
   "cell_type": "markdown",
   "id": "8c337970-f9d7-4663-b1a9-857736b89596",
   "metadata": {},
   "source": [
    "## Context manager with Decimal "
   ]
  },
  {
   "cell_type": "code",
   "execution_count": 62,
   "id": "19284cce-947a-407f-9ed9-f334ebf7ef16",
   "metadata": {},
   "outputs": [],
   "source": [
    "import decimal\n",
    "from decimal import Decimal, localcontext, getcontext"
   ]
  },
  {
   "cell_type": "code",
   "execution_count": 63,
   "id": "6aaec6be-2c0e-4436-9afd-9d2954fc769d",
   "metadata": {},
   "outputs": [
    {
     "data": {
      "text/plain": [
       "<function decimal.localcontext(ctx=None, **kwargs)>"
      ]
     },
     "execution_count": 63,
     "metadata": {},
     "output_type": "execute_result"
    }
   ],
   "source": [
    "localcontext"
   ]
  },
  {
   "cell_type": "code",
   "execution_count": 64,
   "id": "f56716d2-ba61-436b-975e-c1853acc50ac",
   "metadata": {},
   "outputs": [
    {
     "data": {
      "text/plain": [
       "Context(prec=28, rounding=ROUND_HALF_EVEN, Emin=-999999, Emax=999999, capitals=1, clamp=0, flags=[], traps=[InvalidOperation, DivisionByZero, Overflow])"
      ]
     },
     "execution_count": 64,
     "metadata": {},
     "output_type": "execute_result"
    }
   ],
   "source": [
    "getcontext()"
   ]
  },
  {
   "cell_type": "code",
   "execution_count": 65,
   "id": "4ffc4dae-017e-41fa-89e6-78025228a572",
   "metadata": {},
   "outputs": [
    {
     "data": {
      "text/plain": [
       "28"
      ]
     },
     "execution_count": 65,
     "metadata": {},
     "output_type": "execute_result"
    }
   ],
   "source": [
    "getcontext().prec"
   ]
  },
  {
   "cell_type": "code",
   "execution_count": 66,
   "id": "f2d7c759-df51-4360-84cc-d032ca06eb3f",
   "metadata": {},
   "outputs": [],
   "source": [
    "class CM:  \n",
    "\n",
    "    def __init__(self, prec=6):\n",
    "        self.prec = prec\n",
    "\n",
    "    def __enter__(self, prec=6):\n",
    "        print(\"entering context\")\n",
    "        self.old_prec = getcontext().prec\n",
    "        getcontext().prec = self.prec\n",
    "        return getcontext()\n",
    "\n",
    "    def __exit__(self, *oops):\n",
    "        print(oops)\n",
    "        print(\"exiting context\")\n",
    "        decimal.getcontext().prec = self.old_prec   "
   ]
  },
  {
   "cell_type": "code",
   "execution_count": 67,
   "id": "013fb4c4-b8a8-4875-a524-c788a538460c",
   "metadata": {},
   "outputs": [
    {
     "name": "stdout",
     "output_type": "stream",
     "text": [
      "0.1428571428571428571428571429\n"
     ]
    }
   ],
   "source": [
    "print(Decimal(1)/Decimal(7))"
   ]
  },
  {
   "cell_type": "code",
   "execution_count": 68,
   "id": "50cbc5de-b295-483f-a3d0-b1125b01307c",
   "metadata": {},
   "outputs": [
    {
     "name": "stdout",
     "output_type": "stream",
     "text": [
      "entering context\n",
      "Context(prec=100, rounding=ROUND_HALF_EVEN, Emin=-999999, Emax=999999, capitals=1, clamp=0, flags=[Inexact, Rounded], traps=[InvalidOperation, DivisionByZero, Overflow])\n",
      "0.1428571428571428571428571428571428571428571428571428571428571428571428571428571428571428571428571429\n",
      "(None, None, None)\n",
      "exiting context\n"
     ]
    }
   ],
   "source": [
    "with CM(100) as ctx:\n",
    "    print(ctx)\n",
    "    print(Decimal(1)/Decimal(7))"
   ]
  },
  {
   "cell_type": "code",
   "execution_count": 69,
   "id": "aa349bb0-c681-4592-aab5-060a80680dae",
   "metadata": {},
   "outputs": [
    {
     "data": {
      "text/plain": [
       "Context(prec=28, rounding=ROUND_HALF_EVEN, Emin=-999999, Emax=999999, capitals=1, clamp=0, flags=[Inexact, Rounded], traps=[InvalidOperation, DivisionByZero, Overflow])"
      ]
     },
     "execution_count": 69,
     "metadata": {},
     "output_type": "execute_result"
    }
   ],
   "source": [
    "getcontext()"
   ]
  },
  {
   "cell_type": "code",
   "execution_count": 70,
   "id": "553d61f9-ed7c-4825-b18b-808bb72b64a7",
   "metadata": {},
   "outputs": [],
   "source": [
    "class Backpack:\n",
    "\n",
    "    def __enter__(self):\n",
    "        with open(\"food_emoji.txt\", \"rt\") as file_object:\n",
    "            return {\"foods\": file_object.read(),\n",
    "                    \"drinks\": \"not implemented\"}\n",
    "\n",
    "    def __exit__(self, *oops):\n",
    "        print(\"Thanks for backpacking\")"
   ]
  },
  {
   "cell_type": "code",
   "execution_count": 71,
   "id": "4212b6c1-448f-4a0d-aca0-edbdbcc27454",
   "metadata": {},
   "outputs": [
    {
     "name": "stdout",
     "output_type": "stream",
     "text": [
      "🍇🍈🍉🍊🍋🍌🍍🍎🍏🍐🍑🍒🍓🍔🍕🍖🍗🍘🍙🍚🍛🍜🍝🍞🍟🍠🍡🍢🍣🍤🍥🍦🍧🍨🍩🍪🍫🍬🍭🍮🍯🍰🍱🍲🍳🍴🍵🍶🍷🍸\n",
      "\n",
      "not implemented\n",
      "Thanks for backpacking\n"
     ]
    }
   ],
   "source": [
    "with Backpack() as my_stuff:\n",
    "    print(my_stuff['foods'])\n",
    "    print(my_stuff['drinks'])"
   ]
  },
  {
   "cell_type": "markdown",
   "id": "0ae1e136-4751-4831-a4c9-643a30478860",
   "metadata": {},
   "source": [
    "## Decorator: contextlib.contextmanager\n",
    "\n",
    "The enter/exit protocol is similar to running code up to yield, then finishing, in a generator function. The standard library provides a decorator that will turn a simple function generator into a context manager. The ```__enter__``` part runs up the the ```yield``` after which the ```exit``` part runs when the generator resumes."
   ]
  },
  {
   "cell_type": "code",
   "execution_count": 72,
   "id": "e50a2e43-79d4-4230-bb5a-c28444aec480",
   "metadata": {},
   "outputs": [],
   "source": [
    "from contextlib import contextmanager"
   ]
  },
  {
   "cell_type": "code",
   "execution_count": 73,
   "id": "5417c894-b9bd-46fa-ac13-7dc543a2f998",
   "metadata": {},
   "outputs": [],
   "source": [
    "@contextmanager\n",
    "def cm(p):\n",
    "    print(\"entering context\")\n",
    "    old_prec = getcontext().prec\n",
    "    getcontext().prec = p\n",
    "    yield getcontext()\n",
    "    print(\"exiting context\")\n",
    "    decimal.getcontext().prec = old_prec     "
   ]
  },
  {
   "cell_type": "code",
   "execution_count": 74,
   "id": "3bfff84d-06cb-47ef-879b-774cadf5f12e",
   "metadata": {},
   "outputs": [
    {
     "name": "stdout",
     "output_type": "stream",
     "text": [
      "0.1428571428571428571428571429\n"
     ]
    }
   ],
   "source": [
    "print(Decimal(1)/Decimal(7))"
   ]
  },
  {
   "cell_type": "code",
   "execution_count": 75,
   "id": "47d3b83d-cdfb-4cf4-ad83-0b3ef06ad67f",
   "metadata": {},
   "outputs": [
    {
     "name": "stdout",
     "output_type": "stream",
     "text": [
      "entering context\n",
      "Context(prec=6, rounding=ROUND_HALF_EVEN, Emin=-999999, Emax=999999, capitals=1, clamp=0, flags=[Inexact, Rounded], traps=[InvalidOperation, DivisionByZero, Overflow])\n",
      "0.142857\n",
      "exiting context\n"
     ]
    }
   ],
   "source": [
    "with cm(6) as ctx:\n",
    "    print(ctx)\n",
    "    print(Decimal(1)/Decimal(7))"
   ]
  },
  {
   "cell_type": "code",
   "execution_count": 76,
   "id": "471e2cff-98bd-4480-8db6-b22e29cbcf35",
   "metadata": {},
   "outputs": [
    {
     "data": {
      "text/plain": [
       "Context(prec=28, rounding=ROUND_HALF_EVEN, Emin=-999999, Emax=999999, capitals=1, clamp=0, flags=[Inexact, Rounded], traps=[InvalidOperation, DivisionByZero, Overflow])"
      ]
     },
     "execution_count": 76,
     "metadata": {},
     "output_type": "execute_result"
    }
   ],
   "source": [
    "getcontext()"
   ]
  }
 ],
 "metadata": {
  "kernelspec": {
   "display_name": "Python 3 (ipykernel)",
   "language": "python",
   "name": "python3"
  },
  "language_info": {
   "codemirror_mode": {
    "name": "ipython",
    "version": 3
   },
   "file_extension": ".py",
   "mimetype": "text/x-python",
   "name": "python",
   "nbconvert_exporter": "python",
   "pygments_lexer": "ipython3",
   "version": "3.11.3"
  }
 },
 "nbformat": 4,
 "nbformat_minor": 5
}
