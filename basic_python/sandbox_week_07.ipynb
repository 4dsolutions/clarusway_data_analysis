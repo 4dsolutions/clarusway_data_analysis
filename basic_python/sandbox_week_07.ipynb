{
 "cells": [
  {
   "cell_type": "markdown",
   "id": "523af7bf-e96c-4c88-b5b0-598c87cd6c0c",
   "metadata": {},
   "source": [
    "#### Clarusway Python\n",
    "\n",
    "* [Instructor Landing Page](landing_page.ipynb)\n",
    "* <a href=\"https://colab.research.google.com/github/4dsolutions/clarusway_data_analysis/blob/main/basic_python/sandbox_week_07.ipynb\"><img align=\"left\" src=\"https://colab.research.google.com/assets/colab-badge.svg\" alt=\"Open in Colab\" title=\"Open and Execute in Google Colaboratory\"></a>\n",
    "* [![nbviewer](https://raw.githubusercontent.com/jupyter/design/master/logos/Badges/nbviewer_badge.svg)](https://nbviewer.org/github/4dsolutions/clarusway_data_analysis/blob/main/basic_python/sandbox_week_07.ipynb)"
   ]
  },
  {
   "cell_type": "markdown",
   "id": "9d844fba-4131-4561-b733-6e62bf2e9693",
   "metadata": {},
   "source": [
    "# Sandbox 7: Completing Python\n"
   ]
  },
  {
   "cell_type": "code",
   "execution_count": 1,
   "id": "cd5c1467-5ff8-45a2-bd14-7d92285f54ce",
   "metadata": {},
   "outputs": [
    {
     "name": "stdout",
     "output_type": "stream",
     "text": [
      "I am testing you now\n",
      "bad!\n",
      "Don't worry though!\n",
      "That was fun\n"
     ]
    }
   ],
   "source": [
    "class PantsOnFire(Exception):\n",
    "    pass\n",
    "\n",
    "def test_me():\n",
    "    try:\n",
    "        print(\"I am testing you now\")\n",
    "        1/0\n",
    "    except:\n",
    "        print(\"bad!\")\n",
    "        raise PantsOnFire(\"Don't worry though!\")\n",
    "\n",
    "try:\n",
    "    test_me()\n",
    "except PantsOnFire as e:\n",
    "    print(e)\n",
    "else:\n",
    "    print(\"Never got here\")\n",
    "finally:\n",
    "    print(\"That was fun\")"
   ]
  },
  {
   "cell_type": "code",
   "execution_count": 2,
   "id": "46b8fc3d-9463-4205-b674-b99b0619c804",
   "metadata": {},
   "outputs": [],
   "source": [
    "def compose(f, g):\n",
    "    def h(x):\n",
    "        return f(g(x))\n",
    "    return h\n",
    "\n",
    "def m(s):\n",
    "    return s + \"s\"\n",
    "\n",
    "def n(s):\n",
    "    return s.upper()\n",
    "\n",
    "funk1 = compose(m, n)\n",
    "funk2 = compose(n, m)"
   ]
  },
  {
   "cell_type": "code",
   "execution_count": 3,
   "id": "318786af-57ff-4ff6-89b0-28cf382d19cc",
   "metadata": {},
   "outputs": [
    {
     "data": {
      "text/plain": [
       "'HELLOs'"
      ]
     },
     "execution_count": 3,
     "metadata": {},
     "output_type": "execute_result"
    }
   ],
   "source": [
    "funk1(\"Hello\")"
   ]
  },
  {
   "cell_type": "code",
   "execution_count": 4,
   "id": "92730431-4a0b-4e1d-a215-808aff22b121",
   "metadata": {},
   "outputs": [
    {
     "data": {
      "text/plain": [
       "'HELLOS'"
      ]
     },
     "execution_count": 4,
     "metadata": {},
     "output_type": "execute_result"
    }
   ],
   "source": [
    "funk2(\"Hello\")"
   ]
  },
  {
   "cell_type": "code",
   "execution_count": 5,
   "id": "e4e2f569-9406-4f68-9735-ce18b576c25e",
   "metadata": {},
   "outputs": [],
   "source": [
    "h = compose(lambda x: 2*x, lambda y: y+2)"
   ]
  },
  {
   "cell_type": "code",
   "execution_count": 6,
   "id": "f77378e8-4bd3-4427-9267-8597d26b294e",
   "metadata": {},
   "outputs": [
    {
     "data": {
      "text/plain": [
       "24"
      ]
     },
     "execution_count": 6,
     "metadata": {},
     "output_type": "execute_result"
    }
   ],
   "source": [
    "h(10)"
   ]
  },
  {
   "cell_type": "code",
   "execution_count": 7,
   "id": "b9d3b169-ab45-4d27-b8c5-d0640aab9d46",
   "metadata": {},
   "outputs": [
    {
     "data": {
      "text/plain": [
       "24"
      ]
     },
     "execution_count": 7,
     "metadata": {},
     "output_type": "execute_result"
    }
   ],
   "source": [
    "(lambda x: 2*x)((lambda y: y+2)(10))"
   ]
  },
  {
   "cell_type": "code",
   "execution_count": 8,
   "id": "904891fb-92a1-4285-a077-429b40eb1434",
   "metadata": {},
   "outputs": [],
   "source": [
    "h = compose(lambda y: y+2, lambda x: 2*x)"
   ]
  },
  {
   "cell_type": "code",
   "execution_count": 9,
   "id": "1d0f9d0d-b0c5-4215-a4ea-975f3715597a",
   "metadata": {},
   "outputs": [
    {
     "data": {
      "text/plain": [
       "22"
      ]
     },
     "execution_count": 9,
     "metadata": {},
     "output_type": "execute_result"
    }
   ],
   "source": [
    "h(10)"
   ]
  },
  {
   "cell_type": "code",
   "execution_count": 10,
   "id": "1577aa44-70bb-4bcd-8a16-651c9366ae51",
   "metadata": {},
   "outputs": [
    {
     "data": {
      "text/plain": [
       "22"
      ]
     },
     "execution_count": 10,
     "metadata": {},
     "output_type": "execute_result"
    }
   ],
   "source": [
    "(lambda y: y+2)((lambda x: 2*x)(10))"
   ]
  },
  {
   "cell_type": "code",
   "execution_count": 11,
   "id": "6d7e3de7-739c-461d-befe-e04136876d8b",
   "metadata": {},
   "outputs": [],
   "source": [
    "class Compose:\n",
    "\n",
    "    def __init__(self, f):\n",
    "        self.f = f\n",
    "    def __call__(self, x):\n",
    "        return self.f(x)\n",
    "    def __mul__(self, g):\n",
    "        return Compose(lambda x: g(self.f(x))) # creates new object with lambda\n",
    "\n",
    "funk1 = Compose(funk1) # funk1: upper then add s\n",
    "funk2 = Compose(funk2) # funk2: add s then upper\n",
    "\n",
    "funk3 = funk1 * funk2  # add s then upper then upper and add s\n",
    "funk4 = funk2 * funk1  # upper then add s then add s then upper"
   ]
  },
  {
   "cell_type": "code",
   "execution_count": 12,
   "id": "2028e794-2421-417b-9351-10c6e5aa2c99",
   "metadata": {},
   "outputs": [
    {
     "data": {
      "text/plain": [
       "'BRAVOSS'"
      ]
     },
     "execution_count": 12,
     "metadata": {},
     "output_type": "execute_result"
    }
   ],
   "source": [
    "funk3(\"bravo\")"
   ]
  },
  {
   "cell_type": "code",
   "execution_count": 13,
   "id": "88c0c430-2628-4d67-8950-acdab22eaa91",
   "metadata": {},
   "outputs": [
    {
     "data": {
      "text/plain": [
       "'BRAVOSs'"
      ]
     },
     "execution_count": 13,
     "metadata": {},
     "output_type": "execute_result"
    }
   ],
   "source": [
    "funk4(\"bravo\")"
   ]
  },
  {
   "cell_type": "markdown",
   "id": "aae0eff2-41d4-49a7-8e63-8e56270bc195",
   "metadata": {},
   "source": [
    "Exercise: use Compose class with simple f, g of your own making. Show (f * g)(x) and (g * f)(x)"
   ]
  },
  {
   "cell_type": "markdown",
   "id": "39a9a5fd-128f-4dc2-bcfb-bbba32c24b18",
   "metadata": {},
   "source": [
    "## Bonus Topic: Decorator Syntax"
   ]
  },
  {
   "cell_type": "markdown",
   "id": "f7f81af7-4765-4601-9bff-afb30ee8109b",
   "metadata": {},
   "source": [
    "Take a look at this syntax:\n",
    "\n",
    "```python\n",
    "    funk1 = Compose(funk1) # funk1: upper then add s\n",
    "    funk2 = Compose(funk2) # funk2: add s then upper\n",
    "```\n",
    "\n",
    "The input and output have the same name, but a transformation is happening. funk1 is going in as a function but coming out as a Compose type instance.\n",
    "\n",
    "When you want to eat a callable and return a transformed version with the same name, Python offers \"decorator syntax\" (@)."
   ]
  },
  {
   "cell_type": "code",
   "execution_count": 14,
   "id": "02f26fc4-bed0-4d27-ae78-c6955898a621",
   "metadata": {},
   "outputs": [],
   "source": [
    "@Compose\n",
    "def m(x): return x + 2\n",
    "\n",
    "@Compose\n",
    "def n(x): return 2 * x"
   ]
  },
  {
   "cell_type": "code",
   "execution_count": 15,
   "id": "ce4948b8-69b5-46ae-b9b2-9c6300207221",
   "metadata": {},
   "outputs": [
    {
     "data": {
      "text/plain": [
       "24"
      ]
     },
     "execution_count": 15,
     "metadata": {},
     "output_type": "execute_result"
    }
   ],
   "source": [
    "(m * n)(10)"
   ]
  },
  {
   "cell_type": "code",
   "execution_count": 16,
   "id": "34d90f99-38a3-4b79-9699-1781677808ef",
   "metadata": {},
   "outputs": [
    {
     "data": {
      "text/plain": [
       "22"
      ]
     },
     "execution_count": 16,
     "metadata": {},
     "output_type": "execute_result"
    }
   ],
   "source": [
    "(n * m)(10)"
   ]
  },
  {
   "cell_type": "markdown",
   "id": "54568d25-7176-434c-8b20-3f45d4ec896c",
   "metadata": {},
   "source": [
    "## Bonus Topics: Properties, Class and Static Methods"
   ]
  },
  {
   "cell_type": "markdown",
   "id": "93b9f84f-1956-458d-bfc8-b7b238e57254",
   "metadata": {},
   "source": [
    "Now that you have seen decorator syntax, we can make sense of some additional syntax.\n",
    "\n",
    "The property decorator allows a method to disguise itself as simply an attribute. \n",
    "\n",
    "Different methods apply for getting (shown) and setting (not shown) a property.\n",
    "\n",
    "Think of attributes as private in the sense that you wish to protect them with code."
   ]
  },
  {
   "cell_type": "code",
   "execution_count": 17,
   "id": "b6777089-7f50-4411-acef-ef103a467e27",
   "metadata": {},
   "outputs": [],
   "source": [
    "from datetime import date\n",
    "\n",
    "class Animal:\n",
    "\n",
    "    def __init__(self, dob):\n",
    "        self.dob = dob\n",
    "        self.stomach = []\n",
    "\n",
    "    @property\n",
    "    def age(self):\n",
    "        return (date.today() - self.dob).days\n",
    "\n",
    "    def eat(self, food):\n",
    "        self.stomach.append(food)\n",
    "\n",
    "    def __repr__(self):\n",
    "        return \"Animal born {}\".format(self.dob)"
   ]
  },
  {
   "cell_type": "code",
   "execution_count": 18,
   "id": "b8f5a83d-bf08-4f9b-8e22-8518c66a8e4e",
   "metadata": {},
   "outputs": [],
   "source": [
    "dog = Animal(date(1970, 3, 3))"
   ]
  },
  {
   "cell_type": "code",
   "execution_count": 19,
   "id": "2e8ab5f3-614d-4477-b61c-6a4e8d23ae0b",
   "metadata": {},
   "outputs": [
    {
     "data": {
      "text/plain": [
       "Animal born 1970-03-03"
      ]
     },
     "execution_count": 19,
     "metadata": {},
     "output_type": "execute_result"
    }
   ],
   "source": [
    "dog"
   ]
  },
  {
   "cell_type": "code",
   "execution_count": 20,
   "id": "fce44183-6b20-45cd-8bca-51c5bf81cd8f",
   "metadata": {},
   "outputs": [
    {
     "data": {
      "text/plain": [
       "'1970-03-03'"
      ]
     },
     "execution_count": 20,
     "metadata": {},
     "output_type": "execute_result"
    }
   ],
   "source": [
    "dog.dob.isoformat()"
   ]
  },
  {
   "cell_type": "code",
   "execution_count": 21,
   "id": "34ca44ec-c769-4c1c-bd2a-972b00876b4e",
   "metadata": {},
   "outputs": [
    {
     "data": {
      "text/plain": [
       "19994"
      ]
     },
     "execution_count": 21,
     "metadata": {},
     "output_type": "execute_result"
    }
   ],
   "source": [
    "dog.age"
   ]
  },
  {
   "cell_type": "markdown",
   "id": "661b3f45-177d-4972-95c5-90699e43f561",
   "metadata": {},
   "source": [
    "The classmethod decorator allows a method accept the class itself in place of self, such that the method is about doing something to the class, not the instances directly."
   ]
  },
  {
   "cell_type": "code",
   "execution_count": 22,
   "id": "92fbe1d3-35b4-4a3b-9452-656b95b1a9bf",
   "metadata": {},
   "outputs": [],
   "source": [
    "import random \n",
    "\n",
    "class Dog(Animal):\n",
    "    \n",
    "    tricks = [\"roll over\", \"play dead\", \"fetch stick\"]\n",
    "    \n",
    "    def __init__(self, name, dob):\n",
    "        self.name = name\n",
    "        super().__init__(dob) # pass dob to superclass __init__\n",
    "\n",
    "    def do_trick(self):\n",
    "        return random.choice(self.tricks) # self.tricks checks self.__dict__ then class.__dict__\n",
    "        \n",
    "    @classmethod\n",
    "    def add_trick(klass, trick):  # add a trick to the class-level list named tricks\n",
    "        klass.tricks.append(trick)"
   ]
  },
  {
   "cell_type": "code",
   "execution_count": 23,
   "id": "f12df691-34ba-41a4-aeef-2519d12408e0",
   "metadata": {},
   "outputs": [],
   "source": [
    "rover = Dog(\"Rover\", date(2000, 1, 10))"
   ]
  },
  {
   "cell_type": "code",
   "execution_count": 24,
   "id": "2a158e45-b33a-4902-9c56-3143363bbd57",
   "metadata": {},
   "outputs": [
    {
     "data": {
      "text/plain": [
       "9089"
      ]
     },
     "execution_count": 24,
     "metadata": {},
     "output_type": "execute_result"
    }
   ],
   "source": [
    "rover.age"
   ]
  },
  {
   "cell_type": "code",
   "execution_count": 25,
   "id": "9e72d569-08de-4f46-b136-8a42ec18e508",
   "metadata": {},
   "outputs": [
    {
     "data": {
      "text/plain": [
       "'roll over'"
      ]
     },
     "execution_count": 25,
     "metadata": {},
     "output_type": "execute_result"
    }
   ],
   "source": [
    "rover.do_trick()"
   ]
  },
  {
   "cell_type": "code",
   "execution_count": 26,
   "id": "cc89883f-ad07-4fef-a08d-df61f0c0942e",
   "metadata": {},
   "outputs": [
    {
     "data": {
      "text/plain": [
       "'fetch stick'"
      ]
     },
     "execution_count": 26,
     "metadata": {},
     "output_type": "execute_result"
    }
   ],
   "source": [
    "rover.do_trick()"
   ]
  },
  {
   "cell_type": "code",
   "execution_count": 27,
   "id": "28c04ace-d1a7-4271-862d-a54004d8585a",
   "metadata": {},
   "outputs": [],
   "source": [
    "rover.add_trick(\"beg\")"
   ]
  },
  {
   "cell_type": "code",
   "execution_count": 28,
   "id": "468de112-737a-485f-8f7e-bee9349b688a",
   "metadata": {},
   "outputs": [
    {
     "data": {
      "text/plain": [
       "['roll over', 'play dead', 'fetch stick', 'beg']"
      ]
     },
     "execution_count": 28,
     "metadata": {},
     "output_type": "execute_result"
    }
   ],
   "source": [
    "Dog.tricks"
   ]
  },
  {
   "cell_type": "code",
   "execution_count": null,
   "id": "063da163-9e8e-42b5-b0df-9d866a444e36",
   "metadata": {},
   "outputs": [],
   "source": []
  }
 ],
 "metadata": {
  "kernelspec": {
   "display_name": "Python 3 (ipykernel)",
   "language": "python",
   "name": "python3"
  },
  "language_info": {
   "codemirror_mode": {
    "name": "ipython",
    "version": 3
   },
   "file_extension": ".py",
   "mimetype": "text/x-python",
   "name": "python",
   "nbconvert_exporter": "python",
   "pygments_lexer": "ipython3",
   "version": "3.11.3"
  }
 },
 "nbformat": 4,
 "nbformat_minor": 5
}
