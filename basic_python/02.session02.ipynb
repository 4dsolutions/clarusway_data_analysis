{
 "cells": [
  {
   "cell_type": "markdown",
   "id": "98284a42-42ee-48bd-a6b0-81932a759352",
   "metadata": {},
   "source": [
    "#### Clarusway Python\n",
    "\n",
    "* [Instructor Landing Page](landing_page.ipynb)\n",
    "* <a href=\"https://colab.research.google.com/github/4dsolutions/clarusway_data_analysis/blob/main/basic_python/02.session02.ipynb\"><img align=\"left\" src=\"https://colab.research.google.com/assets/colab-badge.svg\" alt=\"Open in Colab\" title=\"Open and Execute in Google Colaboratory\"></a>\n",
    "* [![nbviewer](https://raw.githubusercontent.com/jupyter/design/master/logos/Badges/nbviewer_badge.svg)](https://nbviewer.org/github/4dsolutions/clarusway_data_analysis/blob/main/basic_python/02.session02.ipynb)"
   ]
  },
  {
   "cell_type": "markdown",
   "id": "97d2a08c",
   "metadata": {
    "id": "97d2a08c"
   },
   "source": [
    "<a id=\"toc\"></a>\n",
    "\n",
    "## <p style=\"background-color:#0D8D99; font-family:newtimeroman; color:#FFF9ED; font-size:175%; text-align:center; border-radius:10px 10px;\">Python Session 02</p>"
   ]
  },
  {
   "cell_type": "markdown",
   "id": "c9137337",
   "metadata": {
    "id": "c9137337"
   },
   "source": [
    "#### <div class=\"alert alert-block alert-info\"><h1><p style=\"text-align: center; color:purple\">Variables & Naming Rules<br><br>Strings & Numeric Types& Boolean Types<br><br>Type Conversion<br></p>"
   ]
  },
  {
   "cell_type": "markdown",
   "id": "65266f01",
   "metadata": {
    "id": "65266f01"
   },
   "source": [
    "<a id=\"toc\"></a>\n",
    "\n",
    "## <p style=\"background-color:#9d4f8c; font-family:newtimeroman; color:#FFF9ED; font-size:175%; text-align:center; border-radius:10px 10px;\">Variables & Naming Variable</p>"
   ]
  },
  {
   "cell_type": "markdown",
   "id": "ac2539df",
   "metadata": {
    "id": "ac2539df"
   },
   "source": [
    "**Link 1 - Variables in Python: https://realpython.com/python-variables/**\n",
    "\n",
    "**Link 2 - Python Variables: https://www.w3schools.com/python/python_variables.asp**"
   ]
  },
  {
   "cell_type": "code",
   "execution_count": null,
   "id": "l-VS_TTSW8QH",
   "metadata": {
    "id": "l-VS_TTSW8QH"
   },
   "outputs": [],
   "source": []
  },
  {
   "cell_type": "markdown",
   "id": "fbc98fcd",
   "metadata": {
    "id": "fbc98fcd"
   },
   "source": [
    "**Assigning a value to a variable:**"
   ]
  },
  {
   "cell_type": "markdown",
   "id": "kNQBQpRndkR9",
   "metadata": {
    "id": "kNQBQpRndkR9"
   },
   "source": [
    "![python.exe](https://drive.google.com/uc?id=1m9D9aCDrEb9f6RGLZSF_gFsbsyvOtUso)"
   ]
  },
  {
   "cell_type": "markdown",
   "id": "87dcaef3",
   "metadata": {
    "id": "87dcaef3"
   },
   "source": [
    "**The value on the right side of the equation is assigned to the variable on the left side of the equation.**"
   ]
  },
  {
   "cell_type": "code",
   "execution_count": null,
   "id": "e7fb43c4",
   "metadata": {
    "id": "e7fb43c4"
   },
   "outputs": [],
   "source": [
    "school = \"clarusway\""
   ]
  },
  {
   "cell_type": "markdown",
   "id": "f370a17a",
   "metadata": {
    "id": "f370a17a"
   },
   "source": [
    "**Bad variable name examples:**"
   ]
  },
  {
   "cell_type": "code",
   "execution_count": null,
   "id": "998ba4c1",
   "metadata": {
    "id": "998ba4c1"
   },
   "outputs": [],
   "source": [
    "\n",
    "Con_PEP_N_Rl = \"Conventional (PEP 8) Naming Rules\"\n"
   ]
  },
  {
   "cell_type": "code",
   "execution_count": null,
   "id": "c3eddc42",
   "metadata": {
    "id": "c3eddc42"
   },
   "outputs": [],
   "source": [
    "l = 3.14  # This is lowercase letter el\n",
    "I = 3.14  # This is uppercase letter eye\n",
    "1 = 'something wrong'  # This is number one."
   ]
  },
  {
   "cell_type": "code",
   "execution_count": null,
   "id": "ea2a60d7",
   "metadata": {
    "id": "ea2a60d7"
   },
   "outputs": [],
   "source": [
    "time_O = '3.14'  # This is uppercase letter “O”\n",
    "time_0 = '3.14'  # This is number zero"
   ]
  },
  {
   "cell_type": "code",
   "execution_count": null,
   "id": "7c63115c",
   "metadata": {
    "id": "7c63115c"
   },
   "outputs": [],
   "source": [
    "s = \"Kirby\"  # student\n",
    "st = \"Betty\"  # student"
   ]
  },
  {
   "cell_type": "code",
   "execution_count": null,
   "id": "9628ef3f",
   "metadata": {
    "id": "9628ef3f"
   },
   "outputs": [],
   "source": [
    "average_income_february = 20000  # Average income of February"
   ]
  },
  {
   "cell_type": "markdown",
   "id": "16fa1fa1",
   "metadata": {
    "id": "16fa1fa1"
   },
   "source": [
    "**Some correct variable names:**"
   ]
  },
  {
   "cell_type": "code",
   "execution_count": null,
   "id": "5a9a234c",
   "metadata": {
    "id": "5a9a234c"
   },
   "outputs": [],
   "source": [
    "variable = 3.14\n",
    "var_one = 'something'\n",
    "time_zero = '3.14'\n",
    "big_data = 9999  # Big Data\n",
    "students = \"Edwin\"\n",
    "avg_income_feb = 20000  # Average income of February"
   ]
  },
  {
   "cell_type": "markdown",
   "id": "8a688df5",
   "metadata": {
    "id": "8a688df5"
   },
   "source": [
    " **Different types of data can be assigned to variables.**"
   ]
  },
  {
   "cell_type": "code",
   "execution_count": null,
   "id": "4a072eb3",
   "metadata": {
    "id": "4a072eb3",
    "outputId": "cc5893f2-db6b-4349-f6c0-1fa486a931da"
   },
   "outputs": [
    {
     "name": "stdout",
     "output_type": "stream",
     "text": [
      "jupyter\n",
      "140\n",
      "3.14\n",
      "True\n"
     ]
    }
   ],
   "source": [
    "planet = 'jupyter'\n",
    "price = 140\n",
    "pi_number = 3.14\n",
    "logic = True\n",
    "\n",
    "print(planet)\n",
    "print(price)\n",
    "print(pi_number)\n",
    "print(logic)"
   ]
  },
  {
   "cell_type": "markdown",
   "id": "a6f86eb3",
   "metadata": {
    "id": "a6f86eb3"
   },
   "source": [
    "**Python keywords cannot be assigned as variable names**"
   ]
  },
  {
   "cell_type": "code",
   "execution_count": null,
   "id": "91498a30",
   "metadata": {
    "id": "91498a30",
    "outputId": "55c14214-0b06-40d7-e955-e8d44ae71b0a"
   },
   "outputs": [
    {
     "ename": "SyntaxError",
     "evalue": "invalid syntax (Temp/ipykernel_17612/982785311.py, line 1)",
     "output_type": "error",
     "traceback": [
      "\u001b[1;36m  File \u001b[1;32m\"C:\\Users\\edwin\\AppData\\Local\\Temp/ipykernel_17612/982785311.py\"\u001b[1;36m, line \u001b[1;32m1\u001b[0m\n\u001b[1;33m    or = \"kirby\"\u001b[0m\n\u001b[1;37m    ^\u001b[0m\n\u001b[1;31mSyntaxError\u001b[0m\u001b[1;31m:\u001b[0m invalid syntax\n"
     ]
    }
   ],
   "source": [
    "or = \"kirby\" "
   ]
  },
  {
   "cell_type": "code",
   "execution_count": null,
   "id": "ff0f4b5c",
   "metadata": {
    "id": "ff0f4b5c",
    "outputId": "f40bae7f-7195-438a-bf87-d59ca68c269a"
   },
   "outputs": [
    {
     "ename": "SyntaxError",
     "evalue": "invalid syntax (3280009931.py, line 1)",
     "output_type": "error",
     "traceback": [
      "\u001b[1;36m  Input \u001b[1;32mIn [2]\u001b[1;36m\u001b[0m\n\u001b[1;33m    if = 22\u001b[0m\n\u001b[1;37m       ^\u001b[0m\n\u001b[1;31mSyntaxError\u001b[0m\u001b[1;31m:\u001b[0m invalid syntax\n"
     ]
    }
   ],
   "source": [
    "if = 22"
   ]
  },
  {
   "cell_type": "markdown",
   "id": "6a8f0f41",
   "metadata": {
    "id": "6a8f0f41"
   },
   "source": [
    "**You can use keywords by putting other characters between them.**"
   ]
  },
  {
   "cell_type": "code",
   "execution_count": null,
   "id": "4e973ad6",
   "metadata": {
    "id": "4e973ad6"
   },
   "outputs": [],
   "source": [
    "if_or_else = \"clarusway\""
   ]
  },
  {
   "cell_type": "code",
   "execution_count": null,
   "id": "7a99ae75",
   "metadata": {
    "id": "7a99ae75",
    "outputId": "85135c67-33c3-4d6f-fe9f-165771eb1bb5"
   },
   "outputs": [
    {
     "data": {
      "text/plain": [
       "'clarusway'"
      ]
     },
     "execution_count": 4,
     "metadata": {},
     "output_type": "execute_result"
    }
   ],
   "source": [
    "if_or_else"
   ]
  },
  {
   "cell_type": "code",
   "execution_count": null,
   "id": "61a28fce",
   "metadata": {
    "id": "61a28fce",
    "outputId": "5aecb24f-f2cd-417e-9ce9-d35292535218"
   },
   "outputs": [
    {
     "data": {
      "text/plain": [
       "'ali'"
      ]
     },
     "execution_count": 5,
     "metadata": {},
     "output_type": "execute_result"
    }
   ],
   "source": [
    "class_ = \"ali\"\n",
    "class_"
   ]
  },
  {
   "cell_type": "markdown",
   "id": "bfaf65c4",
   "metadata": {
    "id": "bfaf65c4"
   },
   "source": [
    "**Special characters cannot be used in variable names**"
   ]
  },
  {
   "cell_type": "code",
   "execution_count": null,
   "id": "0a17f7a5",
   "metadata": {
    "id": "0a17f7a5",
    "outputId": "ab2e99b5-c6ed-4b81-e2fd-05aa16701148"
   },
   "outputs": [
    {
     "ename": "SyntaxError",
     "evalue": "invalid syntax (2772885082.py, line 1)",
     "output_type": "error",
     "traceback": [
      "\u001b[1;36m  Input \u001b[1;32mIn [6]\u001b[1;36m\u001b[0m\n\u001b[1;33m    _al?i = \"absurd\"\u001b[0m\n\u001b[1;37m       ^\u001b[0m\n\u001b[1;31mSyntaxError\u001b[0m\u001b[1;31m:\u001b[0m invalid syntax\n"
     ]
    }
   ],
   "source": [
    "_al?i = \"absurd\""
   ]
  },
  {
   "cell_type": "markdown",
   "id": "9d9e8dd8",
   "metadata": {
    "id": "9d9e8dd8"
   },
   "source": [
    "**Some special characters:**"
   ]
  },
  {
   "cell_type": "code",
   "execution_count": null,
   "id": "78f1f80a",
   "metadata": {
    "id": "78f1f80a"
   },
   "outputs": [],
   "source": [
    "!'^+%&/()=?|{[}]#$,;~'"
   ]
  },
  {
   "cell_type": "markdown",
   "id": "bee953a2",
   "metadata": {
    "id": "bee953a2"
   },
   "source": [
    "**You can assign a value to more than one variable**"
   ]
  },
  {
   "cell_type": "code",
   "execution_count": null,
   "id": "3fd2fdf5",
   "metadata": {
    "id": "3fd2fdf5",
    "outputId": "577aff54-113b-4c16-fd87-bae77e1241a3"
   },
   "outputs": [
    {
     "name": "stdout",
     "output_type": "stream",
     "text": [
      "10 10 10\n"
     ]
    }
   ],
   "source": [
    "x = y = z = 10\n",
    "print(x, y, z)"
   ]
  },
  {
   "cell_type": "code",
   "execution_count": null,
   "id": "9b79e63b",
   "metadata": {
    "id": "9b79e63b"
   },
   "outputs": [],
   "source": [
    "kirby = a = betty = \"40\""
   ]
  },
  {
   "cell_type": "code",
   "execution_count": null,
   "id": "381b17f1",
   "metadata": {
    "id": "381b17f1",
    "outputId": "144f85f8-37d7-41c6-93a7-c99078f20565"
   },
   "outputs": [
    {
     "name": "stdout",
     "output_type": "stream",
     "text": [
      "40\n",
      "40\n",
      "40\n"
     ]
    }
   ],
   "source": [
    "print(kirby)\n",
    "print(a)\n",
    "print(betty)"
   ]
  },
  {
   "cell_type": "markdown",
   "id": "77d5bb43",
   "metadata": {
    "id": "77d5bb43"
   },
   "source": [
    "**You cannot assign an undefined variable to variables! because it has no value in it**"
   ]
  },
  {
   "cell_type": "code",
   "execution_count": null,
   "id": "279a0b70",
   "metadata": {
    "id": "279a0b70",
    "outputId": "8f517484-9ed7-4f46-e097-9c73e018a4a8"
   },
   "outputs": [
    {
     "ename": "NameError",
     "evalue": "name 'Samuel' is not defined",
     "output_type": "error",
     "traceback": [
      "\u001b[1;31m---------------------------------------------------------------------------\u001b[0m",
      "\u001b[1;31mNameError\u001b[0m                                 Traceback (most recent call last)",
      "\u001b[1;32m~\\AppData\\Local\\Temp/ipykernel_17612/4211585109.py\u001b[0m in \u001b[0;36m<cell line: 1>\u001b[1;34m()\u001b[0m\n\u001b[1;32m----> 1\u001b[1;33m \u001b[0ma\u001b[0m \u001b[1;33m=\u001b[0m \u001b[0mb\u001b[0m \u001b[1;33m=\u001b[0m \u001b[0mc\u001b[0m \u001b[1;33m=\u001b[0m \u001b[0mSamuel\u001b[0m\u001b[1;33m\u001b[0m\u001b[1;33m\u001b[0m\u001b[0m\n\u001b[0m\u001b[0;32m      2\u001b[0m \u001b[0mprint\u001b[0m\u001b[1;33m(\u001b[0m\u001b[0ma\u001b[0m\u001b[1;33m)\u001b[0m\u001b[1;33m\u001b[0m\u001b[1;33m\u001b[0m\u001b[0m\n",
      "\u001b[1;31mNameError\u001b[0m: name 'Samuel' is not defined"
     ]
    }
   ],
   "source": [
    "a = b = c = Samuel\n",
    "print(a)"
   ]
  },
  {
   "cell_type": "markdown",
   "id": "ff3b394f",
   "metadata": {
    "id": "ff3b394f"
   },
   "source": [
    "**Once you have defined a variable, you can assign its value to other variables.**"
   ]
  },
  {
   "cell_type": "code",
   "execution_count": null,
   "id": "b9b7583b",
   "metadata": {
    "id": "b9b7583b",
    "outputId": "90802669-f175-49b6-963a-20ed1ac2442e"
   },
   "outputs": [
    {
     "name": "stdout",
     "output_type": "stream",
     "text": [
      "30 30 30\n"
     ]
    }
   ],
   "source": [
    "kirby = 30\n",
    "\n",
    "a = b = c = kirby\n",
    "\n",
    "print(a,b,c)"
   ]
  },
  {
   "cell_type": "code",
   "execution_count": null,
   "id": "aa3bb9be",
   "metadata": {
    "id": "aa3bb9be",
    "outputId": "b1e6c6e8-55ad-40b7-97fc-af27fba20b24"
   },
   "outputs": [
    {
     "name": "stdout",
     "output_type": "stream",
     "text": [
      "33 55 33\n"
     ]
    }
   ],
   "source": [
    "a = 11\n",
    "b = 22\n",
    "c = 44\n",
    "\n",
    "a = 33\n",
    "b = 55\n",
    "c = a\n",
    "\n",
    "print(a, b, c)"
   ]
  },
  {
   "cell_type": "markdown",
   "id": "601caee7",
   "metadata": {
    "id": "601caee7"
   },
   "source": [
    "**Updating a variable**  \n",
    "**The variable holds the last value assigned to it.**"
   ]
  },
  {
   "cell_type": "code",
   "execution_count": null,
   "id": "664e6391",
   "metadata": {
    "id": "664e6391",
    "outputId": "8c72702c-2167-46a4-c2a0-67782ba9e033"
   },
   "outputs": [
    {
     "name": "stdout",
     "output_type": "stream",
     "text": [
      "30\n"
     ]
    }
   ],
   "source": [
    "my_age = 33\n",
    "your_age = 30\n",
    "my_age = your_age\n",
    "print(my_age)"
   ]
  },
  {
   "cell_type": "markdown",
   "id": "ea5f84b4",
   "metadata": {
    "id": "ea5f84b4"
   },
   "source": [
    "**Assigning the value of another variable to a variable::**"
   ]
  },
  {
   "cell_type": "code",
   "execution_count": null,
   "id": "2d067f3c",
   "metadata": {
    "id": "2d067f3c"
   },
   "outputs": [],
   "source": [
    "first_number = 100\n",
    "second_number = first_number\n",
    "print(second_number)"
   ]
  },
  {
   "cell_type": "markdown",
   "id": "9f25df60",
   "metadata": {
    "id": "9f25df60"
   },
   "source": [
    "<a id=\"toc\"></a>\n",
    "\n",
    "## <p style=\"background-color:#9d4f8c; font-family:newtimeroman; color:#FFF9ED; font-size:175%; text-align:center; border-radius:10px 10px;\">type() function</p>"
   ]
  },
  {
   "cell_type": "markdown",
   "id": "277adad2",
   "metadata": {
    "id": "277adad2"
   },
   "source": [
    "**Python official documentation - type() function: https://docs.python.org/3/library/functions.html#type**"
   ]
  },
  {
   "cell_type": "code",
   "execution_count": null,
   "id": "2493071d",
   "metadata": {
    "id": "2493071d"
   },
   "outputs": [],
   "source": [
    "type()  \n",
    "# shift + tab + tab  \n",
    "# type() fonksiyonunun \"Docstring\"ini oku!"
   ]
  },
  {
   "cell_type": "code",
   "execution_count": null,
   "id": "fb550a4f",
   "metadata": {
    "id": "fb550a4f",
    "outputId": "204f3373-c154-4c52-cef9-ae05a047003d"
   },
   "outputs": [
    {
     "data": {
      "text/plain": [
       "str"
      ]
     },
     "execution_count": 11,
     "metadata": {},
     "output_type": "execute_result"
    }
   ],
   "source": [
    "type(\"kirby and betty\")"
   ]
  },
  {
   "cell_type": "markdown",
   "id": "7b5644ff",
   "metadata": {
    "id": "7b5644ff"
   },
   "source": [
    " Simple Arithmetic Operations</p>"
   ]
  },
  {
   "cell_type": "markdown",
   "id": "e599a310",
   "metadata": {
    "id": "e599a310"
   },
   "source": [
    "<a id=\"toc\"></a>\n",
    "\n",
    "## <p style=\"background-color:#9d4f8c; font-family:newtimeroman; color:#FFF9ED; font-size:175%; text-align:center; border-radius:10px 10px;\">Strings & Numeric & Boolean Types</p>"
   ]
  },
  {
   "cell_type": "markdown",
   "id": "2e8c11bc",
   "metadata": {
    "id": "2e8c11bc"
   },
   "source": [
    "**Python official documentation - Data Types: https://docs.python.org/3/library/datatypes.html**\n",
    "\n",
    "**Link 2- Python Data Types: https://www.w3schools.com/python/python_datatypes.asp**"
   ]
  },
  {
   "cell_type": "code",
   "execution_count": null,
   "id": "eec36951",
   "metadata": {
    "id": "eec36951",
    "outputId": "789790f7-f161-4418-d21a-fcfb86facf00"
   },
   "outputs": [
    {
     "name": "stdout",
     "output_type": "stream",
     "text": [
      "being a good person\n"
     ]
    }
   ],
   "source": [
    "my_text = 'being a good person'\n",
    "print(my_text)"
   ]
  },
  {
   "cell_type": "code",
   "execution_count": null,
   "id": "ecf52c4e",
   "metadata": {
    "id": "ecf52c4e",
    "outputId": "480c1de5-f60a-49b5-d9d3-b767f085edc7"
   },
   "outputs": [
    {
     "data": {
      "text/plain": [
       "str"
      ]
     },
     "execution_count": 12,
     "metadata": {},
     "output_type": "execute_result"
    }
   ],
   "source": [
    "type(\"kirby, betty, samuel\")"
   ]
  },
  {
   "cell_type": "code",
   "execution_count": null,
   "id": "ad8e0e5b",
   "metadata": {
    "id": "ad8e0e5b",
    "outputId": "eea0cc82-0766-454d-dd79-49218cc67c0b"
   },
   "outputs": [
    {
     "data": {
      "text/plain": [
       "int"
      ]
     },
     "execution_count": 14,
     "metadata": {},
     "output_type": "execute_result"
    }
   ],
   "source": [
    "type(a) "
   ]
  },
  {
   "cell_type": "code",
   "execution_count": null,
   "id": "f7a43059",
   "metadata": {
    "id": "f7a43059",
    "outputId": "7c6bcbb8-984d-46be-84c4-b055f9b685e7"
   },
   "outputs": [
    {
     "data": {
      "text/plain": [
       "10.5"
      ]
     },
     "execution_count": 20,
     "metadata": {},
     "output_type": "execute_result"
    }
   ],
   "source": [
    "10.5"
   ]
  },
  {
   "cell_type": "code",
   "execution_count": null,
   "id": "c04e2284",
   "metadata": {
    "id": "c04e2284",
    "outputId": "2bf8ed4d-aaaf-4bfe-8aff-bc02e8ea101e"
   },
   "outputs": [
    {
     "data": {
      "text/plain": [
       "float"
      ]
     },
     "execution_count": 21,
     "metadata": {},
     "output_type": "execute_result"
    }
   ],
   "source": [
    "type(10.5)"
   ]
  },
  {
   "cell_type": "code",
   "execution_count": null,
   "id": "fd5f311b",
   "metadata": {
    "id": "fd5f311b",
    "outputId": "e0c66116-8844-4e3b-b44f-d02f0089f355"
   },
   "outputs": [
    {
     "data": {
      "text/plain": [
       "True"
      ]
     },
     "execution_count": 22,
     "metadata": {},
     "output_type": "execute_result"
    }
   ],
   "source": [
    "10 == 10.0"
   ]
  },
  {
   "cell_type": "code",
   "execution_count": null,
   "id": "ee16c55e",
   "metadata": {
    "id": "ee16c55e",
    "outputId": "37c1bf7b-7c77-4bde-9466-6807bd783948"
   },
   "outputs": [
    {
     "data": {
      "text/plain": [
       "True"
      ]
     },
     "execution_count": 23,
     "metadata": {},
     "output_type": "execute_result"
    }
   ],
   "source": [
    "a = True\n",
    "a"
   ]
  },
  {
   "cell_type": "code",
   "execution_count": null,
   "id": "81f61a70",
   "metadata": {
    "id": "81f61a70",
    "outputId": "a9687c9c-d1a6-4475-9842-334c0da6eae1"
   },
   "outputs": [
    {
     "data": {
      "text/plain": [
       "float"
      ]
     },
     "execution_count": 25,
     "metadata": {},
     "output_type": "execute_result"
    }
   ],
   "source": [
    "type(float(3))"
   ]
  },
  {
   "cell_type": "code",
   "execution_count": null,
   "id": "c78ad47b",
   "metadata": {
    "id": "c78ad47b",
    "outputId": "5dba0abb-31d7-402a-fa58-296b8fd0a507"
   },
   "outputs": [
    {
     "data": {
      "text/plain": [
       "10"
      ]
     },
     "execution_count": 26,
     "metadata": {},
     "output_type": "execute_result"
    }
   ],
   "source": [
    "int(\"10\")"
   ]
  },
  {
   "cell_type": "code",
   "execution_count": null,
   "id": "f20f1e28",
   "metadata": {
    "id": "f20f1e28",
    "outputId": "17cc4f37-aa1e-4f8f-b039-3678fe6b545d"
   },
   "outputs": [
    {
     "data": {
      "text/plain": [
       "int"
      ]
     },
     "execution_count": 27,
     "metadata": {},
     "output_type": "execute_result"
    }
   ],
   "source": [
    "a = int(\"11\")\n",
    "type(a)"
   ]
  },
  {
   "cell_type": "markdown",
   "id": "6ceb22fe",
   "metadata": {
    "id": "6ceb22fe"
   },
   "source": [
    "<a id=\"toc\"></a>\n",
    "\n",
    "## <p style=\"background-color:#9d4f8c; font-family:newtimeroman; color:#FFF9ED; font-size:175%; text-align:center; border-radius:10px 10px;\">Type Conversion</p>"
   ]
  },
  {
   "cell_type": "markdown",
   "id": "5824d94d",
   "metadata": {
    "id": "5824d94d"
   },
   "source": [
    "**Python official documentation - Type Conversion in Python: https://discuss.python.org/t/what-is-type-conversion-in-python/6584**\n",
    "\n",
    "**Link 2: Type Conversion in Python: https://www.geeksforgeeks.org/type-conversion-in-python/**"
   ]
  },
  {
   "cell_type": "markdown",
   "id": "c2aff2f9",
   "metadata": {
    "id": "c2aff2f9"
   },
   "source": [
    "**int() function; Convert a number or string to an integer, or return 0 if no arguments\n",
    "are given.**"
   ]
  },
  {
   "cell_type": "code",
   "execution_count": null,
   "id": "d5b7ff27",
   "metadata": {
    "id": "d5b7ff27",
    "outputId": "0544a438-44b3-4287-bf4c-f28f7ad6fac8"
   },
   "outputs": [
    {
     "ename": "ValueError",
     "evalue": "invalid literal for int() with base 10: 'ten'",
     "output_type": "error",
     "traceback": [
      "\u001b[1;31m---------------------------------------------------------------------------\u001b[0m",
      "\u001b[1;31mValueError\u001b[0m                                Traceback (most recent call last)",
      "\u001b[1;32m~\\AppData\\Local\\Temp/ipykernel_17612/1877291328.py\u001b[0m in \u001b[0;36m<cell line: 1>\u001b[1;34m()\u001b[0m\n\u001b[1;32m----> 1\u001b[1;33m \u001b[0mint\u001b[0m\u001b[1;33m(\u001b[0m\u001b[1;34m\"ten\"\u001b[0m\u001b[1;33m)\u001b[0m\u001b[1;33m\u001b[0m\u001b[1;33m\u001b[0m\u001b[0m\n\u001b[0m",
      "\u001b[1;31mValueError\u001b[0m: invalid literal for int() with base 10: 'ten'"
     ]
    }
   ],
   "source": [
    "int(\"ten\")"
   ]
  },
  {
   "cell_type": "code",
   "execution_count": null,
   "id": "618c9c3e",
   "metadata": {
    "id": "618c9c3e",
    "outputId": "23d597f0-cc21-4abd-a52b-2ccc0d0f12aa"
   },
   "outputs": [
    {
     "data": {
      "text/plain": [
       "10"
      ]
     },
     "execution_count": 16,
     "metadata": {},
     "output_type": "execute_result"
    }
   ],
   "source": [
    "int(\"10\")"
   ]
  },
  {
   "cell_type": "markdown",
   "id": "9257b61a",
   "metadata": {
    "id": "9257b61a"
   },
   "source": [
    "**float() function; Convert a string or number to a floating point number, if possible.**"
   ]
  },
  {
   "cell_type": "code",
   "execution_count": null,
   "id": "08e9b55d",
   "metadata": {
    "id": "08e9b55d",
    "outputId": "c02e9994-9e8a-494e-883e-5315f0ce0de7"
   },
   "outputs": [
    {
     "data": {
      "text/plain": [
       "10.0"
      ]
     },
     "execution_count": 32,
     "metadata": {},
     "output_type": "execute_result"
    }
   ],
   "source": [
    "float(\"10\")"
   ]
  },
  {
   "cell_type": "code",
   "execution_count": null,
   "id": "884e8eb7",
   "metadata": {
    "id": "884e8eb7",
    "outputId": "9ca96aeb-30e2-48d2-ff6a-9722c700205e"
   },
   "outputs": [
    {
     "data": {
      "text/plain": [
       "10.8"
      ]
     },
     "execution_count": 8,
     "metadata": {},
     "output_type": "execute_result"
    }
   ],
   "source": [
    "float(\"10.8\")"
   ]
  },
  {
   "cell_type": "code",
   "execution_count": null,
   "id": "f6a1962c",
   "metadata": {
    "id": "f6a1962c",
    "outputId": "8b4ed5f7-4ebd-49c0-9df6-b2b85e565da4"
   },
   "outputs": [
    {
     "name": "stdout",
     "output_type": "stream",
     "text": [
      "28\n",
      "36.5\n",
      "I am at_39\n"
     ]
    }
   ],
   "source": [
    "x = 39\n",
    "v = \"11\"\n",
    "y = \"2.5\"\n",
    "z = \"I am at_\"\n",
    "\n",
    "print(x - int(v))\n",
    "print(x - float(y))\n",
    "print(z + str(x))"
   ]
  },
  {
   "cell_type": "markdown",
   "id": "5fseYeRXggCW",
   "metadata": {
    "id": "5fseYeRXggCW"
   },
   "source": [
    "![python.exe](https://drive.google.com/uc?id=1oY07NFR8n0Q3oP9CwwxLWh40cGEb_YkU)"
   ]
  },
  {
   "cell_type": "code",
   "execution_count": null,
   "id": "blzKbg3Hggz2",
   "metadata": {
    "id": "blzKbg3Hggz2"
   },
   "outputs": [],
   "source": []
  }
 ],
 "metadata": {
  "colab": {
   "provenance": []
  },
  "kernelspec": {
   "display_name": "Python 3 (ipykernel)",
   "language": "python",
   "name": "python3"
  },
  "language_info": {
   "codemirror_mode": {
    "name": "ipython",
    "version": 3
   },
   "file_extension": ".py",
   "mimetype": "text/x-python",
   "name": "python",
   "nbconvert_exporter": "python",
   "pygments_lexer": "ipython3",
   "version": "3.11.3"
  }
 },
 "nbformat": 4,
 "nbformat_minor": 5
}
