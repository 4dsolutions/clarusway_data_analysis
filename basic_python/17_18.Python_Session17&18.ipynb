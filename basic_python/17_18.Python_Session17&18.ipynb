{
 "cells": [
  {
   "cell_type": "markdown",
   "id": "fGdDuGxR9rkV",
   "metadata": {
    "id": "fGdDuGxR9rkV"
   },
   "source": [
    "#### Clarusway Python\n",
    "\n",
    "* [Instructor Landing Page](landing_page.ipynb)\n",
    "* <a href=\"https://colab.research.google.com/github/4dsolutions/clarusway_data_analysis/blob/main/basic_python/17_18.Python_Session17%2618.ipynb\"><img align=\"left\" src=\"https://colab.research.google.com/assets/colab-badge.svg\" alt=\"Open in Colab\" title=\"Open and Execute in Google Colaboratory\"></a>\n",
    "* [![nbviewer](https://raw.githubusercontent.com/jupyter/design/master/logos/Badges/nbviewer_badge.svg)](https://nbviewer.org/github/4dsolutions/clarusway_data_analysis/blob/main/basic_python/17_18.Python_Session17%2618.ipynb)"
   ]
  },
  {
   "cell_type": "markdown",
   "id": "97d2a08c",
   "metadata": {
    "id": "97d2a08c"
   },
   "source": [
    "<a id=\"toc\"></a>\n",
    "\n",
    "## <p style=\"background-color:#0D8D99; font-family:newtimeroman; color:#FFF9ED; font-size:175%; text-align:center; border-radius:10px 10px;\">Python Session 17 & 18</p>"
   ]
  },
  {
   "cell_type": "markdown",
   "id": "2a056995",
   "metadata": {
    "id": "2a056995"
   },
   "source": [
    "## <div class=\"alert alert-block alert-info\"><span style=\"text-align: center, color: purple\">Lambda Functions<br><br>Defining a Lambda Function<br><br>Uses of the Lambda Functions<br><br>Lambda within Built-in Functions<br><br>Lambda within User-Defined Functions<br><br>Some Algorithm exercises - Robot (show me the way please) + Valid Parenthesis</span></div>\n",
    "\n"
   ]
  },
  {
   "cell_type": "markdown",
   "id": "71e9c513",
   "metadata": {
    "id": "71e9c513"
   },
   "source": [
    "**Python official documentation 1 - Lambda Functions https://docs.python.org/3/tutorial/controlflow.html#lambda-expressions**\n",
    "\n",
    "**Link2 - Python Lambda: https://www.w3schools.com/python/python_lambda.asp**\n",
    "\n",
    "**Link3 - Python Lambda Functions: https://www.geeksforgeeks.org/python-lambda-anonymous-functions-filter-map-reduce/**\n",
    "\n",
    "**Link4 - Lambda functions with practical examples in python: https://towardsdatascience.com/lambda-functions-with-practical-examples-in-python-45934f3653a8**"
   ]
  },
  {
   "cell_type": "markdown",
   "id": "4fb2806b",
   "metadata": {
    "id": "4fb2806b"
   },
   "source": [
    "<a id=\"toc\"></a>\n",
    "\n",
    "### <p style=\"background-color:#9d4f8c; font-family:newtimeroman; color:#FFF9ED; font-size:175%; text-align:center; border-radius:10px 10px;\">Defining a Lambda Function</p>"
   ]
  },
  {
   "cell_type": "code",
   "execution_count": null,
   "id": "8defa2f1",
   "metadata": {
    "id": "8defa2f1"
   },
   "outputs": [],
   "source": [
    "def square(x):\n",
    "    return x ** 2"
   ]
  },
  {
   "cell_type": "code",
   "execution_count": null,
   "id": "fc67e5d9",
   "metadata": {
    "id": "fc67e5d9"
   },
   "outputs": [],
   "source": [
    "lambda x : x ** 2 \n",
    "\n",
    "# You don't need to use return statements in lambda function"
   ]
  },
  {
   "cell_type": "code",
   "execution_count": null,
   "id": "22fdd4f7",
   "metadata": {
    "id": "22fdd4f7"
   },
   "outputs": [],
   "source": [
    "condition = True"
   ]
  },
  {
   "cell_type": "code",
   "execution_count": null,
   "id": "3fd946be",
   "metadata": {
    "id": "3fd946be",
    "outputId": "5f61ac3f-75ac-4d19-8cc3-c4cae9aa7db5"
   },
   "outputs": [],
   "source": [
    "\"odd\" if condition else \"even\""
   ]
  },
  {
   "cell_type": "code",
   "execution_count": null,
   "id": "3028e4fc",
   "metadata": {
    "id": "3028e4fc"
   },
   "outputs": [],
   "source": [
    "condition = False"
   ]
  },
  {
   "cell_type": "code",
   "execution_count": null,
   "id": "9b5c0a59",
   "metadata": {
    "id": "9b5c0a59",
    "outputId": "b99d811e-c73e-4890-85d0-46506d4ece6b"
   },
   "outputs": [],
   "source": [
    "\"odd\" if condition else \"even\""
   ]
  },
  {
   "cell_type": "code",
   "execution_count": null,
   "id": "a5538318",
   "metadata": {
    "id": "a5538318",
    "outputId": "57e296df-efe9-437b-bc35-3af7754517ce"
   },
   "outputs": [],
   "source": [
    "lambda x : \"odd\" if x % 2 != 0 else \"even\""
   ]
  },
  {
   "cell_type": "code",
   "execution_count": null,
   "id": "3e62b059",
   "metadata": {
    "id": "3e62b059",
    "outputId": "e2e4656b-7d7a-43b6-f50c-a5330b1d49e6"
   },
   "outputs": [],
   "source": [
    "type(lambda x : \"odd\" if x % 2 != 0 else \"even\")"
   ]
  },
  {
   "cell_type": "markdown",
   "id": "59a7684d",
   "metadata": {
    "id": "59a7684d"
   },
   "source": [
    "<a id=\"toc\"></a>\n",
    "\n",
    "### <p style=\"background-color:#9d4f8c; font-family:newtimeroman; color:#FFF9ED; font-size:175%; text-align:center; border-radius:10px 10px;\">Uses of the Lambda Functions</p>"
   ]
  },
  {
   "cell_type": "markdown",
   "id": "e76e39a8",
   "metadata": {
    "id": "e76e39a8"
   },
   "source": [
    "### 1. use : Using a lambda function by enclosing it in parentheses"
   ]
  },
  {
   "cell_type": "code",
   "execution_count": null,
   "id": "2b5f55f2",
   "metadata": {
    "id": "2b5f55f2",
    "outputId": "4e9cf8de-aa31-4748-dfc3-f2b29755d8d3"
   },
   "outputs": [],
   "source": [
    "(lambda x : \"odd\" if x % 2 != 0 else \"even\")(4) "
   ]
  },
  {
   "cell_type": "code",
   "execution_count": null,
   "id": "94c3202d",
   "metadata": {
    "id": "94c3202d",
    "outputId": "ab0b1acb-6b6a-4646-f2f9-b46705041359"
   },
   "outputs": [],
   "source": [
    "(lambda x, y : (x+y)/2)(3, 5) "
   ]
  },
  {
   "cell_type": "markdown",
   "id": "18d4c793",
   "metadata": {
    "id": "18d4c793"
   },
   "source": [
    "### 2. use : Using a lambda function by assigning it to a variable :"
   ]
  },
  {
   "cell_type": "code",
   "execution_count": null,
   "id": "fe30b4e3",
   "metadata": {
    "id": "fe30b4e3"
   },
   "outputs": [],
   "source": [
    "odd_even = (lambda x : \"odd\" if x % 2 != 0 else \"even\")"
   ]
  },
  {
   "cell_type": "code",
   "execution_count": null,
   "id": "6eb9669f",
   "metadata": {
    "id": "6eb9669f",
    "outputId": "5ca84284-c229-4788-c3de-072c16587d3b"
   },
   "outputs": [],
   "source": [
    "odd_even"
   ]
  },
  {
   "cell_type": "code",
   "execution_count": null,
   "id": "b8164452",
   "metadata": {
    "id": "b8164452",
    "outputId": "5f2d10d9-3792-4e7c-af16-0a199eab8fa8"
   },
   "outputs": [],
   "source": [
    "odd_even(3)"
   ]
  },
  {
   "cell_type": "code",
   "execution_count": null,
   "id": "40620ece",
   "metadata": {
    "id": "40620ece"
   },
   "outputs": [],
   "source": [
    "odd_even_arg = (lambda x : \"odd\" if x % 2 != 0 else \"even\")(4)"
   ]
  },
  {
   "cell_type": "code",
   "execution_count": null,
   "id": "dad0c7d8",
   "metadata": {
    "id": "dad0c7d8",
    "outputId": "9e330903-8e7f-40be-a520-cc8ed03981e0"
   },
   "outputs": [],
   "source": [
    "odd_even_arg"
   ]
  },
  {
   "cell_type": "code",
   "execution_count": null,
   "id": "d5ae6a12",
   "metadata": {
    "id": "d5ae6a12",
    "outputId": "85217029-857e-437e-9e86-1ea892c587d3"
   },
   "outputs": [],
   "source": [
    "print((lambda x, y : (x + y)/2)(3, 5))"
   ]
  },
  {
   "cell_type": "code",
   "execution_count": null,
   "id": "00340e4c",
   "metadata": {
    "id": "00340e4c",
    "outputId": "a9bc9394-9583-4d23-aeb9-3ccbbca60140"
   },
   "outputs": [],
   "source": [
    "average = (lambda x, y : (x + y)/2)\n",
    "\n",
    "print(average(3,5))"
   ]
  },
  {
   "cell_type": "code",
   "execution_count": null,
   "id": "4dd60f37",
   "metadata": {
    "id": "4dd60f37",
    "outputId": "c1fc276a-d2cf-483e-f647-a0124f6f33f7"
   },
   "outputs": [],
   "source": [
    "average = (lambda x, y : (x + y)/2)(3, 5)\n",
    "\n",
    "print(average)"
   ]
  },
  {
   "cell_type": "code",
   "execution_count": null,
   "id": "ee63ad0c",
   "metadata": {
    "id": "ee63ad0c",
    "outputId": "401c3ef0-f38a-4efb-b2b9-c2182f62d92b"
   },
   "outputs": [],
   "source": [
    "average = lambda x, y : (x + y) / 2\n",
    "print(average(3,5))"
   ]
  },
  {
   "cell_type": "code",
   "execution_count": null,
   "id": "5cf35da2",
   "metadata": {
    "id": "5cf35da2"
   },
   "outputs": [],
   "source": [
    "iterable = \"I learn Python\"\n",
    "\n",
    "reverser = lambda x : x[::-1]"
   ]
  },
  {
   "cell_type": "code",
   "execution_count": null,
   "id": "04752ffd",
   "metadata": {
    "id": "04752ffd",
    "outputId": "bf065613-b1c4-4150-edb0-424843f75fa6"
   },
   "outputs": [],
   "source": [
    "reverser"
   ]
  },
  {
   "cell_type": "code",
   "execution_count": null,
   "id": "7a69307d",
   "metadata": {
    "id": "7a69307d",
    "outputId": "8e85358d-d014-4fa8-d74d-338b0f619b8f"
   },
   "outputs": [],
   "source": [
    "reverser(iterable)"
   ]
  },
  {
   "cell_type": "markdown",
   "id": "039fffef",
   "metadata": {
    "id": "039fffef"
   },
   "source": [
    "### Task:\n",
    "\n",
    "**Define a lambda function to reverse the elements of any iterables.** \n",
    "\n",
    "**Use parentheses for arguments and print the result.**"
   ]
  },
  {
   "cell_type": "code",
   "execution_count": null,
   "id": "735ec0a0",
   "metadata": {
    "id": "735ec0a0",
    "outputId": "2e0691e6-10ff-4529-f3cb-a052354fe463"
   },
   "outputs": [],
   "source": [
    "\"ally\"[::-1]"
   ]
  },
  {
   "cell_type": "code",
   "execution_count": null,
   "id": "a6afe1e1",
   "metadata": {
    "id": "a6afe1e1",
    "outputId": "a001f157-b07a-43d2-bcb0-d5d87bd71d4b"
   },
   "outputs": [],
   "source": [
    "(lambda x :x[::-1])(\"ally\")"
   ]
  },
  {
   "cell_type": "code",
   "execution_count": null,
   "id": "257b36ad",
   "metadata": {
    "id": "257b36ad",
    "outputId": "051e3ced-7742-4f78-dba3-ea068572a354"
   },
   "outputs": [],
   "source": [
    "(lambda x :x[::-1])([1,3,5,7])"
   ]
  },
  {
   "cell_type": "markdown",
   "id": "476e8775",
   "metadata": {
    "id": "476e8775"
   },
   "source": [
    "### Task\n",
    "\n",
    "**Write a Python program that types ‘even’ or ‘odd’ in accordance with the numbers in a list.**\n",
    "\n",
    "**Use lambda function and loop. Your code must contain no more than 2 lines.** \n",
    "\n",
    "The sample list and desired output are as follows :\n",
    "\n",
    "[1, 2, 3, 4]"
   ]
  },
  {
   "cell_type": "code",
   "execution_count": null,
   "id": "9e9831e1",
   "metadata": {
    "id": "9e9831e1",
    "outputId": "5906fc11-eb4e-4811-e352-0a056552d0ff"
   },
   "outputs": [],
   "source": [
    "numbers = [1,2,3,4,5,6]\n",
    "\n",
    "for i in numbers:\n",
    "    print(i, \":\", (lambda x : \"odd\" if x % 2 != 0 else \"even\")(i)) "
   ]
  },
  {
   "cell_type": "markdown",
   "id": "a7370b13",
   "metadata": {
    "id": "a7370b13"
   },
   "source": [
    "<a id=\"toc\"></a>\n",
    "\n",
    "### <p style=\"background-color:#9d4f8c; font-family:newtimeroman; color:#FFF9ED; font-size:175%; text-align:center; border-radius:10px 10px;\">Lambda within Built-in Functions</p>"
   ]
  },
  {
   "cell_type": "markdown",
   "id": "d2786d19",
   "metadata": {
    "id": "d2786d19"
   },
   "source": [
    "<a id=\"toc\"></a>\n",
    "\n",
    "### <p style=\"background-color:#0D8D99; font-family:newtimeroman; color:#FFF9ED; font-size:175%; text-align:center; border-radius:10px 10px;\">map() function</p>"
   ]
  },
  {
   "cell_type": "markdown",
   "id": "debaf00f",
   "metadata": {
    "id": "debaf00f"
   },
   "source": [
    "**map(func, *iterables) --> map object**\n",
    "\n",
    "Make an iterator that computes the function using arguments from\n",
    "each of the iterables.  Stops when the shortest iterable is exhausted."
   ]
  },
  {
   "cell_type": "markdown",
   "id": "3da2fbe5",
   "metadata": {
    "id": "3da2fbe5"
   },
   "source": [
    "### Task: Let's write the code using the map() function to return the lengths of the elements in the given list."
   ]
  },
  {
   "cell_type": "code",
   "execution_count": null,
   "id": "d8b63c87",
   "metadata": {
    "id": "d8b63c87"
   },
   "outputs": [],
   "source": [
    "words = [\"kirbybetty\", \"samuel\", \"ally\"]"
   ]
  },
  {
   "cell_type": "code",
   "execution_count": null,
   "id": "42dbbd44",
   "metadata": {
    "id": "42dbbd44",
    "outputId": "42985d7f-5296-4371-a5d7-eb353be05b04"
   },
   "outputs": [],
   "source": [
    "map(len, words)"
   ]
  },
  {
   "cell_type": "code",
   "execution_count": null,
   "id": "e0764dd6",
   "metadata": {
    "id": "e0764dd6",
    "outputId": "1239277e-0d12-438a-8f78-af5371c39e80"
   },
   "outputs": [],
   "source": [
    "list(map(len, words))"
   ]
  },
  {
   "cell_type": "code",
   "execution_count": null,
   "id": "daad1f44",
   "metadata": {
    "id": "daad1f44",
    "outputId": "e4d7f5e6-95f5-4f66-deeb-ebc0bacb402e"
   },
   "outputs": [],
   "source": [
    "lengths = map(len, words)\n",
    "\n",
    "lengths"
   ]
  },
  {
   "cell_type": "code",
   "execution_count": null,
   "id": "e23a250d",
   "metadata": {
    "id": "e23a250d",
    "outputId": "74e878eb-4c3c-455a-9218-aae2b19dcee4"
   },
   "outputs": [],
   "source": [
    "print(* lengths)"
   ]
  },
  {
   "cell_type": "code",
   "execution_count": null,
   "id": "6b645092",
   "metadata": {
    "id": "6b645092",
    "outputId": "e53cdf4a-4ed7-4205-892a-bd9390a98a0c"
   },
   "outputs": [],
   "source": [
    "lengths = []\n",
    "\n",
    "for i in words :\n",
    "    lengths.append(len(i))\n",
    "print(lengths)"
   ]
  },
  {
   "cell_type": "markdown",
   "id": "5a8c4a20",
   "metadata": {
    "id": "5a8c4a20"
   },
   "source": [
    "### Task: Let's use the map() function and lambda expression to find the squares of all numbers in a list. "
   ]
  },
  {
   "cell_type": "code",
   "execution_count": null,
   "id": "6ea9083f",
   "metadata": {
    "id": "6ea9083f"
   },
   "outputs": [],
   "source": [
    "square_func = lambda x : x ** 2"
   ]
  },
  {
   "cell_type": "code",
   "execution_count": null,
   "id": "31975626",
   "metadata": {
    "id": "31975626"
   },
   "outputs": [],
   "source": [
    "iterable = [1, 2, 3, 4, 5]"
   ]
  },
  {
   "cell_type": "code",
   "execution_count": null,
   "id": "67a52a74",
   "metadata": {
    "id": "67a52a74",
    "outputId": "3c6e0fa2-bd8d-46d9-ead7-f7e4e7888cfa"
   },
   "outputs": [],
   "source": [
    "result = map(square_func, iterable)\n",
    "\n",
    "print(* result)"
   ]
  },
  {
   "cell_type": "code",
   "execution_count": null,
   "id": "1fcdf75a",
   "metadata": {
    "id": "1fcdf75a",
    "outputId": "64ff92e6-c62b-46f7-d670-a12dced7d7d8"
   },
   "outputs": [],
   "source": [
    "print(* (map(lambda x : x ** 2, [1, 2, 3, 4, 5])))"
   ]
  },
  {
   "cell_type": "code",
   "execution_count": null,
   "id": "13ee423c",
   "metadata": {
    "id": "13ee423c",
    "outputId": "5a92820c-e6ca-4be6-93f0-af1d3ddf2782"
   },
   "outputs": [],
   "source": [
    "result = map(square_func, iterable)\n",
    "\n",
    "for i in result :\n",
    "    print(i, end = \" \")"
   ]
  },
  {
   "cell_type": "code",
   "execution_count": null,
   "id": "ccd60d6b",
   "metadata": {
    "id": "ccd60d6b",
    "outputId": "82eeecb6-a8d5-400f-e411-9647a9d21c1c"
   },
   "outputs": [],
   "source": [
    "result = map(square_func, iterable)\n",
    "\n",
    "list(result)"
   ]
  },
  {
   "cell_type": "code",
   "execution_count": null,
   "id": "da2291a9",
   "metadata": {
    "id": "da2291a9",
    "outputId": "c4d31b85-3a72-4b8b-bc01-694a99fd7667"
   },
   "outputs": [],
   "source": [
    "list(map(square_func, iterable))"
   ]
  },
  {
   "cell_type": "code",
   "execution_count": null,
   "id": "f92884a5",
   "metadata": {
    "id": "f92884a5"
   },
   "outputs": [],
   "source": [
    "def square(x) :\n",
    "    return x ** 2"
   ]
  },
  {
   "cell_type": "code",
   "execution_count": null,
   "id": "d9f806a9",
   "metadata": {
    "id": "d9f806a9",
    "outputId": "cc7ac03d-266d-4b58-95e1-e4f5d5bc6d2b"
   },
   "outputs": [],
   "source": [
    "iterable = [1, 2, 3, 4, 5]\n",
    "\n",
    "list(map(square, iterable))"
   ]
  },
  {
   "cell_type": "code",
   "execution_count": null,
   "id": "21a6acd5",
   "metadata": {
    "id": "21a6acd5"
   },
   "outputs": [],
   "source": [
    "sum_or_concat = lambda x, y, z : x + y + z"
   ]
  },
  {
   "cell_type": "code",
   "execution_count": null,
   "id": "6452e327",
   "metadata": {
    "id": "6452e327",
    "outputId": "240a4a65-9531-45e9-b130-01d4c55a7055"
   },
   "outputs": [],
   "source": [
    "sum_or_concat(\"a\", \"l\", \"i\")"
   ]
  },
  {
   "cell_type": "code",
   "execution_count": null,
   "id": "2772719d",
   "metadata": {
    "id": "2772719d",
    "outputId": "cbc74836-8bb5-4741-d259-38af097f777b"
   },
   "outputs": [],
   "source": [
    "sum_or_concat(11, 78, 10)"
   ]
  },
  {
   "cell_type": "markdown",
   "id": "479a088b",
   "metadata": {
    "id": "479a088b"
   },
   "source": [
    "### Task : Using lambda inside the map() function, write a program that calculates the arithmetic means of two element pairs in the following two lists in accordance with their order and collects them into a list.\n",
    "\n",
    "num1 = [9, 6, 7, 4]<br>\n",
    "num2 = [3, 6, 5, 8]"
   ]
  },
  {
   "cell_type": "code",
   "execution_count": null,
   "id": "fc70dd99",
   "metadata": {
    "id": "fc70dd99"
   },
   "outputs": [],
   "source": [
    "map()"
   ]
  },
  {
   "cell_type": "code",
   "execution_count": null,
   "id": "d00fa2fa",
   "metadata": {
    "id": "d00fa2fa"
   },
   "outputs": [],
   "source": [
    "num1 = [9, 6, 7, 4]\n",
    "num2 = [3, 6, 5, 8]\n",
    "\n",
    "func = lambda x, y : (x + y) / 2 "
   ]
  },
  {
   "cell_type": "code",
   "execution_count": null,
   "id": "eba92be7",
   "metadata": {
    "id": "eba92be7",
    "outputId": "ed35edca-1970-44c0-c914-a81b26c4cada"
   },
   "outputs": [],
   "source": [
    "numbers = map(func, num1, num2)\n",
    "\n",
    "print(list(numbers))"
   ]
  },
  {
   "cell_type": "markdown",
   "id": "134b7321",
   "metadata": {
    "id": "134b7321"
   },
   "source": [
    "### Task : \"Write a program using a lambda expression inside the map function to place the three meaningful sentences derived from the elements of the following three lists in their respective order.\"\n",
    "\n",
    "**Print these sentences on separate lines.**\n",
    "\n",
    "words1 = [\"you\", \"much\", \"hard\"]<br>\n",
    "words2 = [\"i\", \"you\", \"he\"]<br>\n",
    "words3 = [\"love\", \"ate\", \"works\"]"
   ]
  },
  {
   "cell_type": "code",
   "execution_count": null,
   "id": "05de4053",
   "metadata": {
    "id": "05de4053",
    "outputId": "fe920bb6-5e93-4130-fda0-68f95fcb332a"
   },
   "outputs": [],
   "source": [
    "words1 = [\"you\", \"much\", \"hard\"]\n",
    "words2 = [\"i\", \"you\", \"he\"]\n",
    "words3 = [\"love\", \"ate\", \"works\"]\n",
    "\n",
    "concat = lambda x, y, z : x + \" \" + y + \" \" + z\n",
    "\n",
    "sentences = map(lambda x, y, z : x + \" \" + y + \" \" + z, words2, words3, words1)\n",
    "\n",
    "for i in sentences :\n",
    "    print(i)"
   ]
  },
  {
   "cell_type": "markdown",
   "id": "87cfee29",
   "metadata": {
    "id": "87cfee29"
   },
   "source": [
    "<a id=\"toc\"></a>\n",
    "\n",
    "### <p style=\"background-color:#0D8D99; font-family:newtimeroman; color:#FFF9ED; font-size:175%; text-align:center; border-radius:10px 10px;\">filter() function</p>"
   ]
  },
  {
   "cell_type": "markdown",
   "id": "13c631de",
   "metadata": {
    "id": "13c631de"
   },
   "source": [
    "**filter(function or None, iterable) --> filter object**\n",
    "\n",
    "Return an iterator yielding those items of iterable for which function(item)\n",
    "is true. If function is None, return the items that are true."
   ]
  },
  {
   "cell_type": "markdown",
   "id": "fc32f263",
   "metadata": {
    "id": "fc32f263"
   },
   "source": [
    "### Task: \"Let's use a lambda expression inside the filter() function to return the odd numbers in a list\""
   ]
  },
  {
   "cell_type": "code",
   "execution_count": null,
   "id": "c050c1b9",
   "metadata": {
    "id": "c050c1b9"
   },
   "outputs": [],
   "source": [
    "filter()"
   ]
  },
  {
   "cell_type": "code",
   "execution_count": null,
   "id": "953cdb8e",
   "metadata": {
    "id": "953cdb8e",
    "outputId": "18653fd1-aa2b-43e6-d98b-25b7b256fc88"
   },
   "outputs": [],
   "source": [
    "4 % 2 == 0 # modulus 2 of even numbers equals zero"
   ]
  },
  {
   "cell_type": "code",
   "execution_count": null,
   "id": "44688b1c",
   "metadata": {
    "id": "44688b1c",
    "outputId": "165f80ac-7c2d-48ef-ffd0-c411be2af8fd"
   },
   "outputs": [],
   "source": [
    "5 % 2 == 0 # modulus 2 of odd numbers equals one."
   ]
  },
  {
   "cell_type": "code",
   "execution_count": null,
   "id": "9fad869f",
   "metadata": {
    "id": "9fad869f"
   },
   "outputs": [],
   "source": [
    "first_ten = [1, 2, 3, 4, 5, 6, 7, 8, 9]"
   ]
  },
  {
   "cell_type": "code",
   "execution_count": null,
   "id": "dd2280a5",
   "metadata": {
    "id": "dd2280a5"
   },
   "outputs": [],
   "source": [
    "# 4 different ways to write the same condition:\n",
    "\n",
    "odd1 = filter(lambda x : x % 2 != 0, first_ten)\n",
    "\n",
    "odd2 = filter(lambda x : x % 2 == 1, first_ten)\n",
    "\n",
    "odd3 = filter(lambda x: not x % 2 == 0, first_ten)\n",
    "\n",
    "odd4 = filter(lambda x: x % 2, first_ten)"
   ]
  },
  {
   "cell_type": "code",
   "execution_count": null,
   "id": "50d2e596",
   "metadata": {
    "id": "50d2e596",
    "outputId": "6f8f1704-69dc-4ce3-cab5-44e35744bcf0"
   },
   "outputs": [],
   "source": [
    "print(*odd3)"
   ]
  },
  {
   "cell_type": "code",
   "execution_count": null,
   "id": "51688de0",
   "metadata": {
    "id": "51688de0",
    "outputId": "79802431-ecd2-45d6-f27e-a275113ae418"
   },
   "outputs": [],
   "source": [
    "print(*odd4)"
   ]
  },
  {
   "cell_type": "markdown",
   "id": "3b539ae7",
   "metadata": {
    "id": "3b539ae7"
   },
   "source": [
    "### Task : Using lambda inside the filter() function, write a program that filters out words (elements of the given list) with less than 5 chars.\n",
    "\n",
    "**Print these words which has less than 5 chars on separate lines.**\n",
    "\n",
    "words = [\"apple\", \"swim\", \"clock\", \"me\", \"kiwi\", \"banana\"]"
   ]
  },
  {
   "cell_type": "code",
   "execution_count": null,
   "id": "48b10194",
   "metadata": {
    "id": "48b10194",
    "outputId": "fbc0c272-e14a-4fd9-dd4d-7c0deb33125d"
   },
   "outputs": [],
   "source": [
    "len(\"apple\")"
   ]
  },
  {
   "cell_type": "code",
   "execution_count": null,
   "id": "6dcbaa30",
   "metadata": {
    "id": "6dcbaa30",
    "outputId": "98a680ef-d8fd-490a-93ba-781d98ffc889"
   },
   "outputs": [],
   "source": [
    "len(\"apple\") < 5"
   ]
  },
  {
   "cell_type": "code",
   "execution_count": null,
   "id": "ccc78999",
   "metadata": {
    "id": "ccc78999",
    "outputId": "523a70c2-0d3f-498b-d473-92afed89a58d"
   },
   "outputs": [],
   "source": [
    "len(\"me\") < 5"
   ]
  },
  {
   "cell_type": "code",
   "execution_count": null,
   "id": "0bae53aa",
   "metadata": {
    "id": "0bae53aa",
    "outputId": "fd243387-ed12-4232-aebe-cab779eb6b99"
   },
   "outputs": [],
   "source": [
    "words = [\"apple\", \"swim\", \"clock\", \"me\", \"kiwi\", \"banana\"]\n",
    "\n",
    "# \"Let's place a lambda function inside the filter function that returns True/False\" \n",
    "\n",
    "for i in filter(lambda x : len(x) < 5, words) :  \n",
    "    print(i)\n",
    "\n",
    "# The filter function filtered out the elements of the 'words' list for which the lambda expression returned True, \n",
    "# and returned the resulting list."
   ]
  },
  {
   "cell_type": "markdown",
   "id": "590b2306",
   "metadata": {
    "id": "590b2306"
   },
   "source": [
    "## what if we use the map() and zip() functions together:\n",
    "\n",
    "**Note that now the generator objects returned by both the zip function and the map function will be nested!**"
   ]
  },
  {
   "cell_type": "code",
   "execution_count": null,
   "id": "e8a2b99e",
   "metadata": {
    "id": "e8a2b99e"
   },
   "outputs": [],
   "source": [
    "letter1 = \"a b c\".split()\n",
    "letter2 = \"x, y, z\".split()"
   ]
  },
  {
   "cell_type": "code",
   "execution_count": null,
   "id": "8d70eb78",
   "metadata": {
    "id": "8d70eb78",
    "outputId": "1b25bed2-6420-4cc0-9406-eb658963d61e"
   },
   "outputs": [],
   "source": [
    "letter1"
   ]
  },
  {
   "cell_type": "code",
   "execution_count": null,
   "id": "493cd2c2",
   "metadata": {
    "id": "493cd2c2",
    "outputId": "152cae2d-f5fb-4010-a96d-e3abd5d0d607"
   },
   "outputs": [],
   "source": [
    "letter2"
   ]
  },
  {
   "cell_type": "code",
   "execution_count": null,
   "id": "7e310170",
   "metadata": {
    "id": "7e310170",
    "outputId": "b2cb71ce-6c8b-4255-b068-47842d6dd0df"
   },
   "outputs": [],
   "source": [
    "list(map((lambda x, y : (x, y)), letter1, letter2))"
   ]
  },
  {
   "cell_type": "code",
   "execution_count": null,
   "id": "4b2507aa",
   "metadata": {
    "id": "4b2507aa",
    "outputId": "5d609daf-7e23-411a-c65e-c3dcbb8cff48"
   },
   "outputs": [],
   "source": [
    "list(zip(letter1, letter2))"
   ]
  },
  {
   "cell_type": "code",
   "execution_count": null,
   "id": "3f45f704",
   "metadata": {
    "id": "3f45f704",
    "outputId": "a2a32305-1ab4-427b-8438-fa1a1658366e"
   },
   "outputs": [],
   "source": [
    "map(zip, letter1, letter2)  # a map object is generated."
   ]
  },
  {
   "cell_type": "code",
   "execution_count": null,
   "id": "6da6d020",
   "metadata": {
    "id": "6da6d020"
   },
   "outputs": [],
   "source": [
    "combined = map(zip, letter1, letter2)"
   ]
  },
  {
   "cell_type": "code",
   "execution_count": null,
   "id": "73bc23a9",
   "metadata": {
    "id": "73bc23a9",
    "outputId": "684d4af2-27c9-4232-c8a4-560ce8b8051e"
   },
   "outputs": [],
   "source": [
    "list(combined)  # Consider why it returns 3 generate objects in the list."
   ]
  },
  {
   "cell_type": "code",
   "execution_count": null,
   "id": "76cbdcc0",
   "metadata": {
    "id": "76cbdcc0",
    "outputId": "3fcaedce-69da-4899-e7bf-955f92d381ed"
   },
   "outputs": [],
   "source": [
    "# Since the objects generated by map and zip functions are nested,\n",
    "# we need nested for loops to be able to see or use them.\n",
    "\n",
    "combined = map(zip, letter1, letter2)\n",
    "\n",
    "for i in combined:\n",
    "    for j in i :\n",
    "        print(j)"
   ]
  },
  {
   "cell_type": "code",
   "execution_count": null,
   "id": "bfebe8e3",
   "metadata": {
    "id": "bfebe8e3",
    "outputId": "d82c27bf-1d94-497a-ec85-0f1ffd278906"
   },
   "outputs": [],
   "source": [
    "list(zip(letter1[1], letter2[1]))"
   ]
  },
  {
   "cell_type": "markdown",
   "id": "eaf4c799",
   "metadata": {
    "id": "eaf4c799"
   },
   "source": [
    "## Task :\n",
    "\n",
    "**This time, let’s filter the vowels from the given letters in a list.**\n",
    "\n",
    "**Print these letters in a list.**\n",
    "\n",
    "first_ten = ['a', 'b', 'c', 'd', 'e', 'f', 'g', 'h', 'i', 'j']"
   ]
  },
  {
   "cell_type": "code",
   "execution_count": null,
   "id": "a25c9db2",
   "metadata": {
    "id": "a25c9db2"
   },
   "outputs": [],
   "source": [
    "first_ten = ['a', 'b', 'c', 'd', 'e', 'f', 'g', 'h', 'i', 'j']"
   ]
  },
  {
   "cell_type": "code",
   "execution_count": null,
   "id": "4c544bdd",
   "metadata": {
    "id": "4c544bdd",
    "outputId": "ca435831-c696-4ff1-9522-7d0d2e08a8c9"
   },
   "outputs": [],
   "source": [
    "vowel_list = [\"a\", \"e\", \"i\", \"o\", \"u\"]\n",
    "\n",
    "func = lambda x : True if x in vowel_list else False\n",
    "\n",
    "vowels = filter(func, first_ten)\n",
    "\n",
    "list(vowels)"
   ]
  },
  {
   "cell_type": "code",
   "execution_count": null,
   "id": "6059603f",
   "metadata": {
    "id": "6059603f",
    "outputId": "cb47b808-f31d-44a7-c38b-e64f676ac545"
   },
   "outputs": [],
   "source": [
    "vowels2 = filter(lambda x : x in vowel_list, first_ten)\n",
    "list(vowels2)"
   ]
  },
  {
   "cell_type": "markdown",
   "id": "db6c10c8",
   "metadata": {
    "id": "db6c10c8"
   },
   "source": [
    "<a id=\"toc\"></a>\n",
    "\n",
    "### <p style=\"background-color:#9d4f8c; font-family:newtimeroman; color:#FFF9ED; font-size:175%; text-align:center; border-radius:10px 10px;\">Lambda with User-Defined Functions</p>"
   ]
  },
  {
   "cell_type": "markdown",
   "id": "863a128f-85fe-44f9-b5c5-c472af29fa6b",
   "metadata": {},
   "source": [
    "Suppose you have two ordinary functions, f and g.  \n",
    "\n",
    "The operation \"to compose\" will combine these functions in either of two ways:"
   ]
  },
  {
   "cell_type": "code",
   "execution_count": null,
   "id": "a04184fa-24e5-4d4a-8d3a-d5a1fe5333a9",
   "metadata": {},
   "outputs": [],
   "source": [
    "def f(x):\n",
    "    return 2*x\n",
    "\n",
    "def g(x):\n",
    "    return x**2"
   ]
  },
  {
   "cell_type": "code",
   "execution_count": null,
   "id": "c4d37670-04b8-4fa8-aa90-834362660b7a",
   "metadata": {},
   "outputs": [],
   "source": [
    "def compose(f0, f1):\n",
    "    def h(x):\n",
    "        return f1(f0(x))\n",
    "    return h"
   ]
  },
  {
   "cell_type": "code",
   "execution_count": null,
   "id": "50373dc1-52d8-4b71-a9ca-ea75663f5961",
   "metadata": {},
   "outputs": [],
   "source": [
    "h = compose(f, g)"
   ]
  },
  {
   "cell_type": "code",
   "execution_count": null,
   "id": "cf79f48d-dbd9-4c2e-8ddc-2ecf39dd5c51",
   "metadata": {},
   "outputs": [],
   "source": [
    "h(100) # double then 2nd power"
   ]
  },
  {
   "cell_type": "code",
   "execution_count": null,
   "id": "0aa9523a-37b6-447a-80ce-1a438066ada7",
   "metadata": {},
   "outputs": [],
   "source": [
    "h = compose(g, f)"
   ]
  },
  {
   "cell_type": "code",
   "execution_count": null,
   "id": "8f40cb76-65de-446c-ac17-4d19e9203403",
   "metadata": {},
   "outputs": [],
   "source": [
    "h(100) # 2nd power then double"
   ]
  },
  {
   "cell_type": "markdown",
   "id": "9671c6c7-86a8-41a8-a332-1e91429faec0",
   "metadata": {},
   "source": [
    "Make up some additional functions, possibly string-based, and compose them."
   ]
  },
  {
   "cell_type": "code",
   "execution_count": null,
   "id": "9000161b-ce40-400b-bc51-0fd7d9d24b06",
   "metadata": {},
   "outputs": [],
   "source": []
  },
  {
   "cell_type": "code",
   "execution_count": null,
   "id": "03ff51f2-afdf-46cf-aebf-212f8cc16999",
   "metadata": {},
   "outputs": [],
   "source": []
  },
  {
   "cell_type": "markdown",
   "id": "66a6d5bb-6c38-46d1-b164-52eada87eef6",
   "metadata": {},
   "source": [
    "Lambda based version of compose:"
   ]
  },
  {
   "cell_type": "code",
   "execution_count": null,
   "id": "f739102e-588e-47e6-8f11-f042f501e462",
   "metadata": {},
   "outputs": [],
   "source": [
    "compose = lambda f0, f1: lambda x: f1(f0(x))"
   ]
  },
  {
   "cell_type": "code",
   "execution_count": null,
   "id": "d015c3cd-5dd2-466e-aeed-726070b7d278",
   "metadata": {},
   "outputs": [],
   "source": [
    "h = compose(f, g)\n",
    "h"
   ]
  },
  {
   "cell_type": "code",
   "execution_count": null,
   "id": "bb486b2d-ada4-4c1c-89ac-78d33d28714f",
   "metadata": {},
   "outputs": [],
   "source": [
    "h(10)"
   ]
  },
  {
   "cell_type": "code",
   "execution_count": null,
   "id": "e73edf50-ae98-4855-842f-2a3fe7eeacee",
   "metadata": {},
   "outputs": [],
   "source": [
    "h = compose(g, f)\n",
    "h(10)"
   ]
  },
  {
   "cell_type": "code",
   "execution_count": null,
   "id": "3f2ea61c",
   "metadata": {
    "id": "3f2ea61c"
   },
   "outputs": [],
   "source": [
    "def modular_function(n):\n",
    "    return lambda x : x ** n\n",
    "\n",
    "power_of_2 = modular_function(2)\n",
    "power_of_3 = modular_function(3)\n",
    "power_of_4 = modular_function(4)"
   ]
  },
  {
   "cell_type": "code",
   "execution_count": null,
   "id": "3b1e7efa-64c7-4f1f-8054-886a04f7f891",
   "metadata": {},
   "outputs": [],
   "source": []
  },
  {
   "cell_type": "code",
   "execution_count": null,
   "id": "aa36f640",
   "metadata": {
    "id": "aa36f640",
    "outputId": "4d848dc4-e827-4faf-907d-6b384e3b61c6"
   },
   "outputs": [],
   "source": [
    "print(power_of_2(4))\n",
    "print(power_of_3(4))\n",
    "print(power_of_4(4))"
   ]
  },
  {
   "cell_type": "markdown",
   "id": "83a28000",
   "metadata": {
    "id": "83a28000"
   },
   "source": [
    "## Task : (pre-class content)\n",
    "\n",
    "**We can define a function with the same logic as the previous example that repeats the string passed into it.**\n",
    "\n",
    "**Define a function (def) named repeater using lambda to print the string \"n\" times.**"
   ]
  },
  {
   "cell_type": "code",
   "execution_count": null,
   "id": "0a799bb6",
   "metadata": {
    "id": "0a799bb6"
   },
   "outputs": [],
   "source": [
    "def repeater(n) :\n",
    "    return lambda x : x * n\n",
    "\n",
    "repeat_2_times = repeater(2)  # repeats 2 times\n",
    "repeat_3_times = repeater(3)  # repeats 3 times\n",
    "repeat_4_times = repeater(4)  # repeats 4 times"
   ]
  },
  {
   "cell_type": "code",
   "execution_count": null,
   "id": "0cbe01b0",
   "metadata": {
    "id": "0cbe01b0",
    "outputId": "c84ec43c-8f2b-4a31-cf4b-48ca09eb0932"
   },
   "outputs": [],
   "source": [
    "repeat_2_times(\"kirby \")"
   ]
  },
  {
   "cell_type": "code",
   "execution_count": null,
   "id": "55fc5c43",
   "metadata": {
    "id": "55fc5c43",
    "outputId": "2b366870-059f-47ca-d84c-188d3488c7fa"
   },
   "outputs": [],
   "source": [
    "repeat_3_times(\"kirby \")"
   ]
  },
  {
   "cell_type": "code",
   "execution_count": null,
   "id": "0c863743",
   "metadata": {
    "id": "0c863743",
    "outputId": "6bc7b214-866a-4dfc-d402-2c24d815241f"
   },
   "outputs": [],
   "source": [
    "repeat_4_times(\"kirby \")"
   ]
  },
  {
   "cell_type": "markdown",
   "id": "4cc623d4",
   "metadata": {
    "id": "4cc623d4"
   },
   "source": [
    "## Task :\n",
    "\n",
    "**Define a simple function (def) named \"functioner\" using lambda to create your own print function with emoji faces. Such as :**"
   ]
  },
  {
   "cell_type": "code",
   "execution_count": null,
   "id": "916ced19",
   "metadata": {
    "id": "916ced19"
   },
   "outputs": [],
   "source": [
    "def functioner(emoji = \"\") :\n",
    "    return lambda message : print(message, emoji)"
   ]
  },
  {
   "cell_type": "code",
   "execution_count": null,
   "id": "f978f516",
   "metadata": {
    "id": "f978f516",
    "outputId": "9e754ab6-1ffa-478e-c337-65bb8c61694c"
   },
   "outputs": [],
   "source": [
    "print(\"ally\", \":)\")"
   ]
  },
  {
   "cell_type": "code",
   "execution_count": null,
   "id": "1f9f8854",
   "metadata": {
    "id": "1f9f8854"
   },
   "outputs": [],
   "source": [
    "smile_func = functioner(\":)\")\n",
    "sad_func = functioner(\":(\")\n",
    "dull_func = functioner(\":|\")"
   ]
  },
  {
   "cell_type": "code",
   "execution_count": null,
   "id": "16b54a74",
   "metadata": {
    "id": "16b54a74",
    "outputId": "2954a9b1-f5a2-45d1-f7ea-978043f390ad"
   },
   "outputs": [],
   "source": [
    "smile_func(\"hi!\")"
   ]
  },
  {
   "cell_type": "code",
   "execution_count": null,
   "id": "94c20c69",
   "metadata": {
    "id": "94c20c69",
    "outputId": "d826bde1-aeb5-490b-dcdb-ae92730adf9c"
   },
   "outputs": [],
   "source": [
    "smile_func([1,2,3])"
   ]
  },
  {
   "cell_type": "code",
   "execution_count": null,
   "id": "dc16f33e",
   "metadata": {
    "id": "dc16f33e",
    "outputId": "9cf8fb8a-2186-4ee1-f0cc-d1a405ccf61a"
   },
   "outputs": [],
   "source": [
    "dull_func(\"hi!\")"
   ]
  },
  {
   "cell_type": "code",
   "execution_count": null,
   "id": "777c84dd",
   "metadata": {
    "id": "777c84dd",
    "outputId": "ee130425-d8d4-41b2-bc7a-dd09a9813a2d"
   },
   "outputs": [],
   "source": [
    "(lambda x: print(x, \":(\"))(\"i'm sad\")"
   ]
  },
  {
   "cell_type": "markdown",
   "id": "adf34f3e",
   "metadata": {
    "id": "adf34f3e"
   },
   "source": [
    "**Here, all I am doing is assigning a function that takes a specific argument to a variable, so that I can now use that variable as a new function.**"
   ]
  },
  {
   "cell_type": "markdown",
   "id": "573ca440",
   "metadata": {
    "id": "573ca440"
   },
   "source": [
    "## Task: \n",
    "\n",
    "**Define a function named name_print() (\"name\" will be your name). it means that it is name's print function. name_print() function should do what build-in print() function does.** \n",
    "\n",
    "**and define name_max() function. name's name_max() function.. it should do what build-in max() function do.**\n",
    "\n",
    "**and define name_bool() function. it should do what build-in bool() function do, but it will be name's name_bool() function.**\n",
    "\n",
    "**and define name_sort() function as the same way.**\n",
    "\n",
    "**So you will have defined a function generator**"
   ]
  },
  {
   "cell_type": "code",
   "execution_count": null,
   "id": "938c0e8a",
   "metadata": {
    "id": "938c0e8a",
    "outputId": "037f162c-fda2-4c0f-ee76-5545778b1392"
   },
   "outputs": [],
   "source": [
    "(lambda x : print(x))(\"ally kirby betty\")"
   ]
  },
  {
   "cell_type": "code",
   "execution_count": null,
   "id": "2190cbf9",
   "metadata": {
    "id": "2190cbf9",
    "outputId": "43974cbf-262c-4ce2-b028-019edabe0452"
   },
   "outputs": [],
   "source": [
    "(lambda x : max(x))([1,2,3])"
   ]
  },
  {
   "cell_type": "code",
   "execution_count": null,
   "id": "4c76f173",
   "metadata": {
    "id": "4c76f173",
    "outputId": "acebe4c4-e816-4e8a-93a9-96182adde5da"
   },
   "outputs": [],
   "source": [
    "(lambda x : sorted(x))([9, 5, 4, 7, 2, 1])"
   ]
  },
  {
   "cell_type": "code",
   "execution_count": null,
   "id": "27c8d872",
   "metadata": {
    "id": "27c8d872"
   },
   "outputs": [],
   "source": [
    "def function_generator(func_name) :\n",
    "    return lambda x: func_name(x)"
   ]
  },
  {
   "cell_type": "code",
   "execution_count": null,
   "id": "65223ac6",
   "metadata": {
    "id": "65223ac6"
   },
   "outputs": [],
   "source": [
    "kirby_max = function_generator(max)"
   ]
  },
  {
   "cell_type": "code",
   "execution_count": null,
   "id": "8eb3f93b",
   "metadata": {
    "id": "8eb3f93b",
    "outputId": "0f71b382-9ce7-4cd6-aff2-2423dc622130"
   },
   "outputs": [],
   "source": [
    "kirby_max([1,3,5,7,9])"
   ]
  },
  {
   "cell_type": "code",
   "execution_count": null,
   "id": "f2778af2",
   "metadata": {
    "id": "f2778af2"
   },
   "outputs": [],
   "source": [
    "kirby_print = function_generator(print)"
   ]
  },
  {
   "cell_type": "code",
   "execution_count": null,
   "id": "9d280e94",
   "metadata": {
    "id": "9d280e94",
    "outputId": "94001311-2821-455f-d59a-372edc3f7a12"
   },
   "outputs": [],
   "source": [
    "kirby_print(\"be patient, work hard, don't give up!\")"
   ]
  },
  {
   "cell_type": "code",
   "execution_count": null,
   "id": "d93927e7",
   "metadata": {
    "id": "d93927e7"
   },
   "outputs": [],
   "source": [
    "kirby_bool = function_generator(bool)"
   ]
  },
  {
   "cell_type": "code",
   "execution_count": null,
   "id": "33e219b6",
   "metadata": {
    "id": "33e219b6",
    "outputId": "e70f0d29-2cc1-45a3-dcaa-182d5a334028"
   },
   "outputs": [],
   "source": [
    "kirby_bool(1)"
   ]
  },
  {
   "cell_type": "markdown",
   "id": "43aac2a3",
   "metadata": {
    "id": "43aac2a3"
   },
   "source": [
    "### Whatever the function is returning in its code body, that value will be returned wherever you call the function!"
   ]
  },
  {
   "cell_type": "code",
   "execution_count": null,
   "id": "c5301ad8",
   "metadata": {
    "id": "c5301ad8"
   },
   "outputs": [],
   "source": [
    "def x():\n",
    "    return 1, 2, 3, 4"
   ]
  },
  {
   "cell_type": "code",
   "execution_count": null,
   "id": "e9338acd",
   "metadata": {
    "id": "e9338acd",
    "outputId": "d0320a4e-e156-455c-80d8-5ec732096ff7"
   },
   "outputs": [],
   "source": [
    "1, 2, 3, 4 # it is an object of type \"tuple\""
   ]
  },
  {
   "cell_type": "code",
   "execution_count": null,
   "id": "4446c61e",
   "metadata": {
    "id": "4446c61e",
    "outputId": "0af71a4b-f5d7-4afc-8147-76dbabc1eaac"
   },
   "outputs": [],
   "source": [
    "type(x())"
   ]
  },
  {
   "cell_type": "code",
   "execution_count": null,
   "id": "631ccec4",
   "metadata": {
    "id": "631ccec4"
   },
   "outputs": [],
   "source": [
    "a, b, c, d = x()  # like : a, b, c, d = (1, 2, 3, 4) assingment!"
   ]
  },
  {
   "cell_type": "code",
   "execution_count": null,
   "id": "e48c2582",
   "metadata": {
    "id": "e48c2582",
    "outputId": "e84f278e-a2ed-44a0-94f2-779e052d4687"
   },
   "outputs": [],
   "source": [
    "a"
   ]
  },
  {
   "cell_type": "code",
   "execution_count": null,
   "id": "bf20b0fd",
   "metadata": {
    "id": "bf20b0fd",
    "outputId": "d42b99aa-17d7-4a6b-b760-36efa1c752b9"
   },
   "outputs": [],
   "source": [
    "c"
   ]
  },
  {
   "cell_type": "code",
   "execution_count": null,
   "id": "17f2feff",
   "metadata": {
    "id": "17f2feff"
   },
   "outputs": [],
   "source": [
    "a, b, c, d = 1, 2, 3, 4"
   ]
  },
  {
   "cell_type": "markdown",
   "id": "ed094e1e",
   "metadata": {
    "id": "ed094e1e"
   },
   "source": [
    "# Task: Let's solve the 'Most Frequent Element' task using a function:"
   ]
  },
  {
   "cell_type": "code",
   "execution_count": null,
   "id": "cd8d0d2f",
   "metadata": {
    "id": "cd8d0d2f"
   },
   "outputs": [],
   "source": [
    "num= [1, 1, 1, 4, 5, 5, 5, 5, 5, 5, 4, 1]"
   ]
  },
  {
   "cell_type": "code",
   "execution_count": null,
   "id": "e4e1d1ff-fcc1-47df-bf2b-f36b55d7abf1",
   "metadata": {},
   "outputs": [],
   "source": [
    "list(map(lambda n: num.count(n), num))"
   ]
  },
  {
   "cell_type": "code",
   "execution_count": null,
   "id": "2213deb1",
   "metadata": {
    "id": "2213deb1",
    "outputId": "52f7e72c-1d77-46eb-aa50-f6ea673ead3d"
   },
   "outputs": [],
   "source": [
    "most_freq = max(num, key=num.count)\n",
    "most_freq"
   ]
  },
  {
   "cell_type": "code",
   "execution_count": null,
   "id": "84aaf764",
   "metadata": {
    "id": "84aaf764",
    "outputId": "8dc3572d-3c43-46ff-a686-72759ee06ab9"
   },
   "outputs": [],
   "source": [
    "most_frequent_count = num.count(most_freq)\n",
    "most_frequent_count"
   ]
  },
  {
   "cell_type": "code",
   "execution_count": null,
   "id": "50ca9adb",
   "metadata": {
    "id": "50ca9adb",
    "outputId": "9620b3a8-7193-44d2-d81d-a5a9e4f0919d"
   },
   "outputs": [],
   "source": [
    "num = [1, 2, 3]\n",
    "most_frequent_count = num.count(max(num, key=num.count))\n",
    "most_frequent_count"
   ]
  },
  {
   "cell_type": "markdown",
   "id": "c62d72fd",
   "metadata": {
    "id": "c62d72fd"
   },
   "source": [
    "**In this example, each element appears only once in the list. Therefore, we want the count of the most frequent element to be returned as 0, not 1. How can we achieve this?**"
   ]
  },
  {
   "cell_type": "code",
   "execution_count": null,
   "id": "950b2988",
   "metadata": {
    "id": "950b2988",
    "outputId": "7899021e-d5de-4826-b551-0d6214889d1d"
   },
   "outputs": [],
   "source": [
    "max(1,1,1)"
   ]
  },
  {
   "cell_type": "code",
   "execution_count": null,
   "id": "b2a5f3dc",
   "metadata": {
    "id": "b2a5f3dc"
   },
   "outputs": [],
   "source": [
    "def most_freq_count(a, b, c):\n",
    "    num = [a, b, c]\n",
    "    count_freq = num.count(max(num, key=num.count))\n",
    "    \n",
    "    if count_freq > 1 :\n",
    "        return count_freq\n",
    "    else:\n",
    "        return 0"
   ]
  },
  {
   "cell_type": "code",
   "execution_count": null,
   "id": "e9e25d11",
   "metadata": {
    "id": "e9e25d11",
    "outputId": "6d949006-6130-4298-deb3-ee2cc1858630"
   },
   "outputs": [],
   "source": [
    "most_freq_count(1, 2, 3)"
   ]
  },
  {
   "cell_type": "code",
   "execution_count": null,
   "id": "c7433cd6",
   "metadata": {
    "id": "c7433cd6",
    "outputId": "442c2a2b-0226-4ea6-940c-3c195b0b277d"
   },
   "outputs": [],
   "source": [
    "most_freq_count(1, 5, 5)"
   ]
  },
  {
   "cell_type": "code",
   "execution_count": null,
   "id": "7cfc99f2",
   "metadata": {
    "id": "7cfc99f2"
   },
   "outputs": [],
   "source": [
    "# if we don't want to define an extra variable to use memory efficiently:\n",
    "\n",
    "def most_freq_count(a, b, c):\n",
    "    num = [a, b, c]\n",
    "    \n",
    "    if num.count(max(num, key=num.count)) > 1 :\n",
    "        return num.count(max(num, key=num.count))\n",
    "    else:\n",
    "        return 0"
   ]
  },
  {
   "cell_type": "code",
   "execution_count": null,
   "id": "b2d88fce",
   "metadata": {
    "id": "b2d88fce",
    "outputId": "d18e9ca0-37d5-49eb-9dab-da1f669e5480"
   },
   "outputs": [],
   "source": [
    "most_freq_count(1, 5, 5)"
   ]
  },
  {
   "cell_type": "markdown",
   "id": "5458f1a0",
   "metadata": {
    "id": "5458f1a0"
   },
   "source": [
    "## using arbitrary number of arguments:"
   ]
  },
  {
   "cell_type": "code",
   "execution_count": null,
   "id": "1cc20ada",
   "metadata": {
    "id": "1cc20ada"
   },
   "outputs": [],
   "source": [
    "def most_freq_count(*args) :\n",
    "    num = list(args)\n",
    "    result = num.count(max(num, key=num.count))\n",
    "    \n",
    "    if result > 1 :\n",
    "        return result\n",
    "    else:\n",
    "        return 0"
   ]
  },
  {
   "cell_type": "code",
   "execution_count": null,
   "id": "09041156",
   "metadata": {
    "id": "09041156",
    "outputId": "257656da-2692-4f49-f013-47849e398a3e"
   },
   "outputs": [],
   "source": [
    "most_freq_count(1,1,1,2,3,7,7,8,9,9,9)"
   ]
  },
  {
   "cell_type": "code",
   "execution_count": null,
   "id": "IBy3n5uHJ-nQ",
   "metadata": {
    "executionInfo": {
     "elapsed": 2,
     "status": "ok",
     "timestamp": 1681482349005,
     "user": {
      "displayName": "Edwin W",
      "userId": "11200791715119199957"
     },
     "user_tz": -180
    },
    "id": "IBy3n5uHJ-nQ"
   },
   "outputs": [],
   "source": [
    "def most_freq_count(*args) :\n",
    "    # num = args\n",
    "    result = args.count(max(args, key=args.count))\n",
    "    \n",
    "    if result > 1 :\n",
    "        return result\n",
    "    else:\n",
    "        return 0"
   ]
  },
  {
   "cell_type": "code",
   "execution_count": null,
   "id": "btOGdztrJ_HX",
   "metadata": {
    "colab": {
     "base_uri": "https://localhost:8080/"
    },
    "executionInfo": {
     "elapsed": 420,
     "status": "ok",
     "timestamp": 1681482353258,
     "user": {
      "displayName": "Edwin W",
      "userId": "11200791715119199957"
     },
     "user_tz": -180
    },
    "id": "btOGdztrJ_HX",
    "outputId": "a7176f55-f981-40bb-b4da-1cff964d9775"
   },
   "outputs": [],
   "source": [
    "most_freq_count(1,1,1,2,3,7,7,8,9,9,9)"
   ]
  },
  {
   "cell_type": "markdown",
   "id": "58fef2f3",
   "metadata": {
    "id": "58fef2f3"
   },
   "source": [
    "## using lambda expression:\n"
   ]
  },
  {
   "cell_type": "code",
   "execution_count": null,
   "id": "bf78b958",
   "metadata": {
    "id": "bf78b958"
   },
   "outputs": [],
   "source": [
    "most_freq_count = lambda x, y, z : num.count(max(num, key = num.count))\n",
    "\n",
    "# Note that instead of the variable 'num', we must use the parameters 'x', 'y', and 'z' inside the lambda expression.!!!"
   ]
  },
  {
   "cell_type": "code",
   "execution_count": null,
   "id": "19ec4f68",
   "metadata": {
    "id": "19ec4f68"
   },
   "outputs": [],
   "source": [
    "most_freq_count = lambda x, y, z : [x, y, z].count(max([x, y, z], key = [x, y, z].count))"
   ]
  },
  {
   "cell_type": "code",
   "execution_count": null,
   "id": "b9f77e24",
   "metadata": {
    "id": "b9f77e24",
    "outputId": "1eb71fad-ae4e-4576-93e3-456a1a447b3e"
   },
   "outputs": [],
   "source": [
    "most_freq_count(1, 5, 5)"
   ]
  },
  {
   "cell_type": "code",
   "execution_count": null,
   "id": "64aae2e9",
   "metadata": {
    "id": "64aae2e9",
    "outputId": "03ced493-6133-43b6-cc68-6504d731d573"
   },
   "outputs": [],
   "source": [
    "most_freq_count(1,2,3)"
   ]
  },
  {
   "cell_type": "markdown",
   "id": "7fab9f00",
   "metadata": {
    "id": "7fab9f00"
   },
   "source": [
    "**we want the count of the most frequent element to be returned as 0, not 1**\n",
    "\n",
    "**To achieve this we must use a condition inside the lambda.**\n",
    "\n",
    "**Lambda is an expression, and if we need to use a condition inside expressions, \n",
    "we can do it using the ternary operator.**"
   ]
  },
  {
   "cell_type": "code",
   "execution_count": null,
   "id": "c543eb83",
   "metadata": {
    "id": "c543eb83"
   },
   "outputs": [],
   "source": [
    "most_freq_count = lambda x, y, z : [x, y, z].count(max([x, y, z], key = [x, y, z].count))\\\n",
    "if [x, y, z].count(max([x, y, z], key = [x, y, z].count)) > 1  else 0"
   ]
  },
  {
   "cell_type": "code",
   "execution_count": null,
   "id": "9cecdca4",
   "metadata": {
    "id": "9cecdca4",
    "outputId": "52db3e42-fcf0-4dbc-b492-04e17343c9c4"
   },
   "outputs": [],
   "source": [
    "most_freq_count(1,2,3)"
   ]
  },
  {
   "cell_type": "code",
   "execution_count": null,
   "id": "71369476",
   "metadata": {
    "id": "71369476",
    "outputId": "5d7c5af0-70e4-48f1-e9d0-1439a8a9e60a"
   },
   "outputs": [],
   "source": [
    "most_freq_count(1,5,5)"
   ]
  },
  {
   "cell_type": "markdown",
   "id": "96ce7c7d",
   "metadata": {
    "id": "96ce7c7d"
   },
   "source": [
    "## Using arbitrary number of arguments inside lambda function:"
   ]
  },
  {
   "cell_type": "code",
   "execution_count": null,
   "id": "c928cfe5",
   "metadata": {
    "executionInfo": {
     "elapsed": 5,
     "status": "ok",
     "timestamp": 1681482228887,
     "user": {
      "displayName": "Edwin W",
      "userId": "11200791715119199957"
     },
     "user_tz": -180
    },
    "id": "c928cfe5"
   },
   "outputs": [],
   "source": [
    "most_freq_count = lambda *args : list(args).count(max(list(args), key = list(args).count))\\\n",
    "if list(args).count(max(list(args), key = list(args).count)) > 1 else 0"
   ]
  },
  {
   "cell_type": "code",
   "execution_count": null,
   "id": "d680c642",
   "metadata": {
    "colab": {
     "base_uri": "https://localhost:8080/"
    },
    "executionInfo": {
     "elapsed": 4,
     "status": "ok",
     "timestamp": 1681482228887,
     "user": {
      "displayName": "Edwin W",
      "userId": "11200791715119199957"
     },
     "user_tz": -180
    },
    "id": "d680c642",
    "outputId": "817ca2b0-4425-461e-85bb-9e46f61a69f5"
   },
   "outputs": [],
   "source": [
    "most_freq_count(1,1,1,2,2,3)"
   ]
  },
  {
   "cell_type": "markdown",
   "id": "f2438359",
   "metadata": {
    "id": "f2438359"
   },
   "source": [
    "# Some Algorithm Exercises"
   ]
  },
  {
   "cell_type": "markdown",
   "id": "5b206c66",
   "metadata": {
    "id": "5b206c66"
   },
   "source": [
    "# Robot (show me the way please)"
   ]
  },
  {
   "cell_type": "markdown",
   "id": "4d654065",
   "metadata": {
    "id": "4d654065"
   },
   "source": [
    "Let's dive in together and solve a few questions by jumping from one branch to another as our minds flow, and try to improve our algorithmic skills and benefit from them.\n",
    "\n",
    "For example, there are some companies that provide high-tech products and services, such as companies that make humanoid robots. Can you think of such a company name?\n",
    "\n",
    "Do you remember Boston Dynamics' humanoid robot? We will give commands to this robot and try to find where our robot is positioned in the x-y plane based on these commands.\n",
    "\n",
    "For instance, let's provide our commands in a list. The commands will be entered in this list, indicating directions such as right, left, up, and down. Let's give commands such as 'go 10 steps to the right', 'go 5 steps up', 'go 3 steps down'. Our program will find the final position of our robot.\n",
    "\n",
    "Do you think that this task requires complex algorithms, convoluted commands, or anything like that? No, there is no need for that. These commands can be entered with voice or by hand, or they can be generated as a result of the robot's own sensors, as with robot vacuums. Ultimately, this task can be accomplished with a simple loop.\n",
    "\n",
    "So let's guide this pile of metal."
   ]
  },
  {
   "cell_type": "code",
   "execution_count": null,
   "id": "da696261",
   "metadata": {
    "id": "da696261"
   },
   "outputs": [],
   "source": [
    "command = [\"right 20\", \"right 30\", \"left 50\", \"up 10\", \"down 20\"]"
   ]
  },
  {
   "cell_type": "markdown",
   "id": "b9d57815",
   "metadata": {
    "id": "b9d57815"
   },
   "source": [
    "The first command is right-20, which means it will move 20 steps to the right.\n",
    "\n",
    "Then, the command is right-30, which means it will move an additional 30 steps to the right from its current position.\n",
    "\n",
    "After that, the command is left-50, which means it will move 50 steps in the opposite direction from its last position.\n",
    "\n",
    "Next, the command is up-10, which means it will move 10 steps upwards.\n",
    "\n",
    "Finally, the command is down-20, which means it will move 20 steps downwards. Ultimately, our program will give us the x-y coordinates of the robot's final position.\n",
    "\n",
    "Eventually, when the sequence in the list is completed, that is, when all the commands are executed, our program will give us the x-y coordinates of the robot's final position."
   ]
  },
  {
   "cell_type": "markdown",
   "id": "d5b44a1d",
   "metadata": {
    "id": "d5b44a1d"
   },
   "source": [
    "You will add the rights and subtract the lefts. You will add the ups and subtract the downs.\n",
    "\n",
    "This means that when you see an up, you will add it to y. When you see a down, you will subtract it from y. Similarly, when you see a right, you will add it to x, and when you see a left, you will subtract it from x.\n",
    "\n",
    "Therefore, you need to define two variables, x and y. \n",
    "\n",
    "You will define x and y and set them equal to 0 to represent the starting point. Then, you will perform addition or subtraction operations with them according to the commands."
   ]
  },
  {
   "cell_type": "code",
   "execution_count": null,
   "id": "a367c51b",
   "metadata": {
    "id": "a367c51b"
   },
   "outputs": [],
   "source": [
    "x = y = 0"
   ]
  },
  {
   "cell_type": "markdown",
   "id": "b247f72e",
   "metadata": {
    "id": "b247f72e"
   },
   "source": [
    "<hr>\n",
    "\n",
    "We have strings as elements in our list. These strings consist of a word made up of alphabetical characters, followed by a space, and then a 2-digit number.\n",
    "\n",
    "We will use the parts of this string, so we need to split the string. We should split the string in such a way that when we encounter 'right', we add the number next to it to the variable 'x', and when we encounter 'left', we subtract the number next to it from 'x'. Similarly, when we encounter 'up', we add the number next to it to the variable 'y', and when we encounter 'down', we subtract the number next to it from 'y'.\n",
    "\n",
    "We talked about conditions here, right? We should perform a different operation for each condition. And the point we need to pay attention to is that we should convert the numeric values that are strings to integers before performing addition and subtraction operations.\n",
    "<hr>"
   ]
  },
  {
   "cell_type": "markdown",
   "id": "31301327",
   "metadata": {
    "id": "31301327"
   },
   "source": [
    "<hr>\n",
    "\n",
    "There can be various solutions here. We can add when we see 'right' and subtract when we see 'left'. We can use the 'startswith' string method because the first letters of the strings are always different characters. Therefore, we can distinguish them with 'startswith'.\n",
    "\n",
    "But I have one more problem. How can I separate the string and the number? I am breaking down the problem into sub-problems. Let's look at the last element of the \"command\" list:\n",
    "<hr> "
   ]
  },
  {
   "cell_type": "code",
   "execution_count": null,
   "id": "192f1352",
   "metadata": {
    "id": "192f1352",
    "outputId": "38f2766a-e571-4160-df87-ad7503307711"
   },
   "outputs": [],
   "source": [
    "command[-1]"
   ]
  },
  {
   "cell_type": "markdown",
   "id": "8995748b",
   "metadata": {
    "id": "8995748b"
   },
   "source": [
    "<hr>\n",
    "\n",
    "Now, I will separate 20 from 'down' using the split method of strings, \n",
    "\n",
    "and then I will access them separately by indexing.<hr>"
   ]
  },
  {
   "cell_type": "code",
   "execution_count": null,
   "id": "8beed88c",
   "metadata": {
    "id": "8beed88c",
    "outputId": "39589991-02c3-401f-fa8b-1bb74315c1c1"
   },
   "outputs": [],
   "source": [
    "command[-1].split()"
   ]
  },
  {
   "cell_type": "code",
   "execution_count": null,
   "id": "2989b460",
   "metadata": {
    "id": "2989b460",
    "outputId": "e300f3e6-9a11-4fbe-f389-67f844024d9d"
   },
   "outputs": [],
   "source": [
    "command[-1].split()[0]"
   ]
  },
  {
   "cell_type": "code",
   "execution_count": null,
   "id": "220d74e0",
   "metadata": {
    "id": "220d74e0",
    "outputId": "53c999d0-9504-4462-d5d9-9389044a5022"
   },
   "outputs": [],
   "source": [
    "command[-1].split()[1]\n",
    "\n",
    "# Note that '20' is a string."
   ]
  },
  {
   "cell_type": "code",
   "execution_count": null,
   "id": "00abe77d",
   "metadata": {
    "id": "00abe77d",
    "outputId": "38cc8d45-90e5-4906-a61a-54aadcb0b293"
   },
   "outputs": [],
   "source": [
    "type(command[0].split()[1])"
   ]
  },
  {
   "cell_type": "markdown",
   "id": "081e57e4",
   "metadata": {
    "id": "081e57e4"
   },
   "source": [
    "<hr>\n",
    "\n",
    "Let's now set up the for loop.\n",
    "\n",
    "The command list is an iterable. As a list, it can be used as an iterator in a for loop. But what do I want to do with the command list inside the for loop? I want to index it.\n",
    "\n",
    "When setting up the for loop and deciding what to use as an iterator, you should focus on what you want to do inside the loop. What should be assigned to the variable (i), which is the variable of the for loop, in each iteration? That should be the question. \n",
    "\n",
    "Since we will be indexing the list, \"i\" should represent the index numbers starting from 0. \n",
    "\n",
    "My goal is to access one element of the command list in each iteration. Therefore, the variable (i) of the for loop should represent the index numbers of the list.\n",
    "<hr>"
   ]
  },
  {
   "cell_type": "code",
   "execution_count": null,
   "id": "c31affe5",
   "metadata": {
    "id": "c31affe5",
    "outputId": "8d76e309-60c6-4782-afc8-5d7aae4a4735"
   },
   "outputs": [],
   "source": [
    "list(range(len(command)))\n",
    "\n",
    "# These will be the index numbers we will use to index the list inside the for loop."
   ]
  },
  {
   "cell_type": "code",
   "execution_count": null,
   "id": "b7bd8444",
   "metadata": {
    "id": "b7bd8444",
    "outputId": "16fc0051-8b59-44af-bf82-048c5c16521f"
   },
   "outputs": [],
   "source": [
    "x = y = 0\n",
    "command = [\"right 20\", \"right 30\", \"left 50\", \"up 10\", \"down 20\"]\n",
    "\n",
    "for i in range(len(command)) :\n",
    "    \n",
    "    if command[i].startswith(\"r\") : x = x + int(command[i].split()[1])\n",
    "# If the string starts with the character 'r', \n",
    "# then I should add the number next to it to the variable x as an integer.\n",
    "    elif command[i].startswith(\"l\") : x = x - int(command[i].split()[1])\n",
    "# If the string starts with the character 'l', \n",
    "# then I should subtract the number next to it from the variable x as an integer.\n",
    "    elif command[i].startswith(\"u\") : y = y + int(command[i].split()[1])\n",
    "# If the string starts with the character 'u', \n",
    "# then I should add the number next to it to the variable y as an integer.\n",
    "    elif command[i].startswith(\"d\") : y = y - int(command[i].split()[1])\n",
    "# If the string starts with the character 'd', \n",
    "# then I should subtract the number next to it from the variable y as an integer.\n",
    "\n",
    "[x, y]"
   ]
  },
  {
   "cell_type": "markdown",
   "id": "7a8ed6f3",
   "metadata": {
    "id": "7a8ed6f3"
   },
   "source": [
    "<hr>\n",
    "\n",
    "We have found where the robot is located.\n",
    "\n",
    "Now imagine that this robot is constantly being fed with commands. Imagine that there is a continuous loop. To give a real-life example, it could be a robot vacuum cleaner. \n",
    "\n",
    "Assuming that the starting point of this robot's movement is (0, 0), it will constantly move to different locations based on the received commands. However, with this code, it will know its current position, because its x-y coordinates are automatically updated according to the command it receives.\n",
    "<hr>"
   ]
  },
  {
   "cell_type": "markdown",
   "id": "90bdbe8c",
   "metadata": {
    "id": "90bdbe8c"
   },
   "source": [
    "Now let's move on to a different question and continue to improve our algorithmic skills"
   ]
  },
  {
   "cell_type": "markdown",
   "id": "3f28697b",
   "metadata": {
    "id": "3f28697b"
   },
   "source": [
    "# Valid Parentheses"
   ]
  },
  {
   "cell_type": "markdown",
   "id": "7da40a02",
   "metadata": {
    "id": "7da40a02"
   },
   "source": [
    "```\n",
    "Input        Output\n",
    "--------:    ------:\n",
    "\"()\"         True\n",
    "\"()[]{}\"     True\n",
    "\"(]\"         False\n",
    "\"([)]\"       False\n",
    "\"{[]}\"       True\n",
    "\"\"           True\n",
    "```"
   ]
  },
  {
   "cell_type": "markdown",
   "id": "399ef85e",
   "metadata": {
    "id": "399ef85e"
   },
   "source": [
    "We will brainstorm the shortest solution for this problem, although there may be longer methods to solve it."
   ]
  },
  {
   "cell_type": "markdown",
   "id": "df60fd6d",
   "metadata": {
    "id": "df60fd6d"
   },
   "source": [
    "<hr>\n",
    "\n",
    "Let's think. What is the rule for a parenthesis to be valid? \n",
    "\n",
    "If there is one normal parenthesis, there must be a corresponding normal parenthesis. If there is one curly brace, there must be a corresponding curly brace. If there is one square bracket, there must be a corresponding square bracket.\n",
    "\n",
    "And imagine that there are many of these nested in a way that satisfies this rule\n",
    "\n",
    "For example, are the parentheses in this string valid? Do all parentheses have a corresponding one? :\n",
    "<hr>"
   ]
  },
  {
   "cell_type": "markdown",
   "id": "e6e895fa",
   "metadata": {
    "id": "e6e895fa"
   },
   "source": [
    "**Check if there are corresponding closing parentheses for the opening ones!**"
   ]
  },
  {
   "cell_type": "code",
   "execution_count": null,
   "id": "c5d3a238",
   "metadata": {
    "id": "c5d3a238"
   },
   "outputs": [],
   "source": [
    "\"([{({})}]({}))\"  "
   ]
  },
  {
   "cell_type": "markdown",
   "id": "81d15db8",
   "metadata": {
    "id": "81d15db8"
   },
   "source": [
    "<hr>\n",
    "\n",
    "If you noticed, there is always an opening and a closing parenthesis right next to each other in the innermost level.\n",
    "\n",
    "Therefore, if we start from the innermost level and delete the parentheses that satisfy this condition, and if we end up with no parentheses left, then all parentheses in this string are properly written. \n",
    "\n",
    "So our criterion for having valid parentheses is to end up with an empty string after deleting matching parentheses from the innermost level to the outermost.\n",
    "<hr>"
   ]
  },
  {
   "cell_type": "markdown",
   "id": "d1ccc2cc",
   "metadata": {
    "id": "d1ccc2cc"
   },
   "source": [
    "<hr>\n",
    "\n",
    "So if I start from the innermost level and delete the opening-closing parentheses one by one until I reach an empty string, then the parentheses are valid.\n",
    "\n",
    "If they are not valid, then instead of an empty string, I will have a parenthesis left at the end.\n",
    "<hr>"
   ]
  },
  {
   "cell_type": "markdown",
   "id": "b4ad0523",
   "metadata": {
    "id": "b4ad0523"
   },
   "source": [
    "**Let's now turn this into code.**\n",
    "\n",
    "We will proceed by making these queries:<br> \n",
    "Does this string contain any open and close parentheses?<br>\n",
    "Are there any open and close square brackets?<br>\n",
    "Are there any open and close curly braces?<br>\n",
    "\n",
    "Each time, we will check all three conditions. If any of them is satisfied, we will delete the substring that satisfies that condition."
   ]
  },
  {
   "cell_type": "markdown",
   "id": "a1e1f715",
   "metadata": {
    "id": "a1e1f715"
   },
   "source": [
    "**How can we delete a character from a string? Can we use the replace() method?**"
   ]
  },
  {
   "cell_type": "code",
   "execution_count": null,
   "id": "39d5336b",
   "metadata": {
    "id": "39d5336b",
    "outputId": "9b728a54-9e5d-4d0e-9966-2c47ce7a464e"
   },
   "outputs": [],
   "source": [
    "\"ally-kirby-betty\".replace(\"-\", \"+\")"
   ]
  },
  {
   "cell_type": "markdown",
   "id": "a2a00d76",
   "metadata": {
    "id": "a2a00d76"
   },
   "source": [
    "We replaced the '-' characters with '+'. \n",
    "\n",
    "**Note that the replace() method, which is a method of strings, is applied to a string and returns a string.**\n",
    "\n",
    "Then let's delete the dashes with the replace() method:"
   ]
  },
  {
   "cell_type": "code",
   "execution_count": null,
   "id": "c95e4610",
   "metadata": {
    "id": "c95e4610",
    "outputId": "c4018953-1f6e-40f1-eb7b-471b78c17f94"
   },
   "outputs": [],
   "source": [
    "\"ally-kirby-betty\".replace(\"-\", \"\")"
   ]
  },
  {
   "cell_type": "markdown",
   "id": "544ced91",
   "metadata": {
    "id": "544ced91"
   },
   "source": [
    "I can apply multiple methods in sequence by utilizing the property of the method applied to the string to return another string :"
   ]
  },
  {
   "cell_type": "code",
   "execution_count": null,
   "id": "b2f6b6c8",
   "metadata": {
    "id": "b2f6b6c8",
    "outputId": "b2bd6276-3750-45c2-eb59-cfaa135ce9a3"
   },
   "outputs": [],
   "source": [
    "\"ally-kirby-betty\".replace(\"-\", \"\").replace(\"a\", \"\").replace(\"i\", \"\")"
   ]
  },
  {
   "cell_type": "markdown",
   "id": "2799d7ff",
   "metadata": {
    "id": "2799d7ff"
   },
   "source": [
    "**However, here is an important point to note!**\n",
    "\n",
    "The methods we apply to strings return a new string object, but they do not modify the original string object. This is because strings are immutable (they cannot be changed in-place). \n",
    "\n",
    "**So, if I want to keep the modified version of the string, I should assign it to a variable.** \n",
    "\n",
    "**When we want to update an immutable object, assigning the modified version to itself works.**"
   ]
  },
  {
   "cell_type": "code",
   "execution_count": null,
   "id": "4254db81",
   "metadata": {
    "id": "4254db81",
    "outputId": "cc215b69-deed-4e92-8e7d-ad7f27cb45e5"
   },
   "outputs": [],
   "source": [
    "original_str = \"ally-kirby-betty\"\n",
    "\n",
    "original_str.replace(\"-\", \"\")"
   ]
  },
  {
   "cell_type": "code",
   "execution_count": null,
   "id": "875bcd9e",
   "metadata": {
    "id": "875bcd9e",
    "outputId": "d4925b5a-f2bf-49af-c99e-17ec43c630b9"
   },
   "outputs": [],
   "source": [
    "original_str"
   ]
  },
  {
   "cell_type": "code",
   "execution_count": null,
   "id": "0dd425d1",
   "metadata": {
    "id": "0dd425d1",
    "outputId": "414c68a3-0ac8-4de3-a323-7c0a816eddf6"
   },
   "outputs": [],
   "source": [
    "updated_str = original_str.replace(\"-\", \"\")\n",
    "\n",
    "updated_str"
   ]
  },
  {
   "cell_type": "markdown",
   "id": "16bbb162",
   "metadata": {
    "id": "16bbb162"
   },
   "source": [
    "**When we want to update an immutable object, assigning the modified version to itself works:**"
   ]
  },
  {
   "cell_type": "code",
   "execution_count": null,
   "id": "ddc94901",
   "metadata": {
    "id": "ddc94901"
   },
   "outputs": [],
   "source": [
    "original_str = original_str.replace(\"-\", \"\")"
   ]
  },
  {
   "cell_type": "code",
   "execution_count": null,
   "id": "a5c9436f",
   "metadata": {
    "id": "a5c9436f",
    "outputId": "5397468a-58b2-4c9f-9cd1-025738582021"
   },
   "outputs": [],
   "source": [
    "original_str"
   ]
  },
  {
   "cell_type": "markdown",
   "id": "49213683",
   "metadata": {
    "id": "49213683"
   },
   "source": [
    "**Now let's start defining our function:**"
   ]
  },
  {
   "cell_type": "code",
   "execution_count": null,
   "id": "d707949f",
   "metadata": {
    "id": "d707949f"
   },
   "outputs": [],
   "source": [
    "def isValid(s) :"
   ]
  },
  {
   "cell_type": "code",
   "execution_count": null,
   "id": "63e62a09",
   "metadata": {
    "id": "63e62a09"
   },
   "outputs": [],
   "source": [
    "s = \"[([{({})}]({}))\""
   ]
  },
  {
   "cell_type": "code",
   "execution_count": null,
   "id": "ec489d60",
   "metadata": {
    "id": "ec489d60",
    "outputId": "bc4b38b4-b34d-4f95-9d30-dd6982790718"
   },
   "outputs": [],
   "source": [
    "\"()\" in s\n",
    "\n",
    "# There are no \"open-close parentheses\" in my string."
   ]
  },
  {
   "cell_type": "code",
   "execution_count": null,
   "id": "0656197b",
   "metadata": {
    "id": "0656197b",
    "outputId": "9f1c7875-6896-415e-f1c6-14d999c339fd"
   },
   "outputs": [],
   "source": [
    "\"[]\" in s\n",
    "\n",
    "# There are no 'open-close square brackets' in my string"
   ]
  },
  {
   "cell_type": "code",
   "execution_count": null,
   "id": "c68088e6",
   "metadata": {
    "id": "c68088e6",
    "outputId": "aea8b281-ee26-4074-9273-b19a692b289a"
   },
   "outputs": [],
   "source": [
    "\"{}\" in s\n",
    "\n",
    "# There we go! The string contains 'open-close curly braces'"
   ]
  },
  {
   "cell_type": "markdown",
   "id": "2f2090a6",
   "metadata": {
    "id": "2f2090a6"
   },
   "source": [
    "**Then, I can establish a while loop and use the 'in' operator in its condition to provide the necessary check I need.**"
   ]
  },
  {
   "cell_type": "code",
   "execution_count": null,
   "id": "f0adaf53",
   "metadata": {
    "id": "f0adaf53"
   },
   "outputs": [],
   "source": [
    "def isValid(s) :\n",
    "    while \"()\" in s or \"[]\" in s or \"{}\" in s :"
   ]
  },
  {
   "cell_type": "markdown",
   "id": "14692563",
   "metadata": {
    "id": "14692563"
   },
   "source": [
    "Since I used the 'or' logical operator in the condition, the loop will continue to run as long as it finds any of the parentheses, regardless of which one it is.\n",
    "\n",
    "**Now we can write the code block that will perform the deletion operation:**"
   ]
  },
  {
   "cell_type": "code",
   "execution_count": null,
   "id": "17f87bd1",
   "metadata": {
    "id": "17f87bd1"
   },
   "outputs": [],
   "source": [
    "def isValid(s) :\n",
    "    while \"()\" in s or \"[]\" in s or \"{}\" in s :\n",
    "        s = s.replace(\"()\", \"\").replace(\"[]\", \"\").replace(\"{}\", \"\") # {buraya önce s = yazma!}\n",
    "    \n",
    "    return s == \"\""
   ]
  },
  {
   "cell_type": "markdown",
   "id": "053b47de",
   "metadata": {
    "id": "053b47de"
   },
   "source": [
    "After exiting the while loop, we write the condition **return s == \"\"** to return **True** \n",
    "\n",
    "if the resulting string is empty. **f there is any character left in the string**, it will return **False**"
   ]
  },
  {
   "cell_type": "code",
   "execution_count": null,
   "id": "2ab8efc3",
   "metadata": {
    "id": "2ab8efc3",
    "outputId": "b9421b04-97f9-4925-f1c3-ce14c46fc79e"
   },
   "outputs": [],
   "source": [
    "isValid(s)"
   ]
  },
  {
   "cell_type": "markdown",
   "id": "09fb52d6",
   "metadata": {
    "id": "09fb52d6"
   },
   "source": [
    "Let's input another parentheses group to the function:"
   ]
  },
  {
   "cell_type": "code",
   "execution_count": null,
   "id": "82b26ce4",
   "metadata": {
    "id": "82b26ce4",
    "outputId": "24ed02e0-24e0-42f2-d439-6c8fe6ce39de"
   },
   "outputs": [],
   "source": [
    "isValid(\"([{({})}]({}))\")"
   ]
  }
 ],
 "metadata": {
  "colab": {
   "provenance": []
  },
  "kernelspec": {
   "display_name": "Python 3 (ipykernel)",
   "language": "python",
   "name": "python3"
  },
  "language_info": {
   "codemirror_mode": {
    "name": "ipython",
    "version": 3
   },
   "file_extension": ".py",
   "mimetype": "text/x-python",
   "name": "python",
   "nbconvert_exporter": "python",
   "pygments_lexer": "ipython3",
   "version": "3.11.3"
  }
 },
 "nbformat": 4,
 "nbformat_minor": 5
}
