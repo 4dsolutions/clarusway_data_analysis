{
 "cells": [
  {
   "cell_type": "markdown",
   "metadata": {
    "id": "MkTCBtBXuPZA"
   },
   "source": [
    "<a href=\"https://colab.research.google.com/github/4dsolutions/clarusway_data_analysis/blob/main/DAwPy_S3_(Pandas_Series)/DAwPy_S3_(Pandas_Series).ipynb\"><img align=\"left\" src=\"https://colab.research.google.com/assets/colab-badge.svg\" alt=\"Open in Colab\" title=\"Open and Execute in Google Colaboratory\"></a><br/>\n",
    "[![nbviewer](https://raw.githubusercontent.com/jupyter/design/master/logos/Badges/nbviewer_badge.svg)](https://nbviewer.org/github/4dsolutions/clarusway_data_analysis/blob/main/DAwPy_S3_%28Pandas_Series%29/DAwPy_S3_%28Pandas_Series%29.ipynb)\n",
    "\n",
    "\n",
    "___\n",
    "\n",
    "\n",
    "<p style=\"text-align: center;\"><img src=\"https://docs.google.com/uc?id=1lY0Uj5R04yMY3-ZppPWxqCr5pvBLYPnV\" class=\"img-fluid\" \n",
    "alt=\"CLRSWY\"></p>\n",
    "\n",
    "## <p style=\"background-color:#FDFEFE; font-family:newtimeroman; color:#9d4f8c; font-size:100%; text-align:center; border-radius:10px 10px;\">WAY TO REINVENT YOURSELF</p>\n",
    "\n",
    "___"
   ]
  },
  {
   "cell_type": "markdown",
   "metadata": {},
   "source": [
    "<img src=https://i.ibb.co/6gCsHd6/1200px-Pandas-logo-svg.png width=\"700\" height=\"200\">\n",
    "\n",
    "## <p style=\"background-color:#FDFEFE; font-family:newtimeroman; color:#060108; font-size:200%; text-align:center; border-radius:10px 10px;\">Data Analysis with Python</p>\n",
    "\n",
    "## <p style=\"background-color:#FDFEFE; font-family:newtimeroman; color:#060108; font-size:150%; text-align:center; border-radius:10px 10px;\">Session - 03</p>\n",
    "\n",
    "## <p style=\"background-color:#FDFEFE; font-family:newtimeroman; color:#4d77cf; font-size:200%; text-align:center; border-radius:10px 10px;\">Pandas Series</p>"
   ]
  },
  {
   "cell_type": "markdown",
   "metadata": {},
   "source": [
    "<a id=\"toc\"></a>\n",
    "\n",
    "## <p style=\"background-color:#9d4f8c; font-family:newtimeroman; color:#FFF9ED; font-size:150%; text-align:center; border-radius:10px 10px;\">Content</p>\n",
    "\n",
    "* [IMPORTING LIBRARIES NEEDED IN THIS NOTEBOOK](#0)\n",
    "* [CREATING PANDAS SERIES](#1)\n",
    "    * [Creating Pandas Series by Using a list, numpy array or dictionary](#1.2)\n",
    "        * [Using Lists](#1.2.1)\n",
    "        * [Using Numpy Arrays](#1.2.2)\n",
    "        * [Using Dictionaries](#1.2.3)\n",
    "        * [Using Scalar Value](#1.2.4)\n",
    "* [DATA IN A SERIES](#2)\n",
    "* [BASIC ATTRIBUTES & METHODS OF SERIES](#3)\n",
    "* [INDEXING PANDAS SERIES](#4)\n",
    "    * [Using pandas_series index | pandas_series indices](#4.1)\n",
    "    * [Recap for Several Selecting Attributes](#4.2)\n",
    "* [THE END OF THE SESSION-03](#5)"
   ]
  },
  {
   "cell_type": "markdown",
   "metadata": {},
   "source": [
    "## <p style=\"background-color:#9d4f8c; font-family:newtimeroman; color:#FFF9ED; font-size:175%; text-align:center; border-radius:10px 10px;\">Importing Libraries Needed in This Notebook</p>\n",
    "\n",
    "<a id=\"0\"></a>\n",
    "<a href=\"#toc\" class=\"btn btn-primary btn-sm\" role=\"button\" aria-pressed=\"true\" \n",
    "style=\"color:blue; background-color:#dfa8e4\" data-toggle=\"popover\">Content</a>\n",
    "\n",
    "Once you've installed NumPy & Pandas you can import them as a library:"
   ]
  },
  {
   "cell_type": "code",
   "execution_count": null,
   "metadata": {
    "id": "i7VkXwmNuPZL"
   },
   "outputs": [],
   "source": [
    "import numpy as np\n",
    "import pandas as pd"
   ]
  },
  {
   "cell_type": "markdown",
   "metadata": {},
   "source": [
    "## <p style=\"background-color:#9d4f8c; font-family:newtimeroman; color:#FFF9ED; font-size:175%; text-align:center; border-radius:10px 10px;\">Creating a Pandas Series</p>\n",
    "\n",
    "<a id=\"1\"></a>\n",
    "<a href=\"#toc\" class=\"btn btn-primary btn-sm\" role=\"button\" aria-pressed=\"true\" \n",
    "style=\"color:blue; background-color:#dfa8e4\" data-toggle=\"popover\">Content</a>\n",
    "\n",
    "Pandas series is a one-dimensional data structure. It can hold data of many types including objects, floats, strings and integers. You can create a series by calling pandas.Series(). A list, numpy array, dict can be turned into a pandas series. You should use the simplest data structure that meets your needs [Source](https://pythonbasics.org/pandas-series/). The axis labels are collectively called index. Labels need not be unique but must be a hashable type. The object supports both integer and label-based indexing and provides a host of methods for performing operations involving the index [Source](https://www.geeksforgeeks.org/creating-a-pandas-series/).\n",
    "\n",
    "[SOURCE01](https://pandas.pydata.org/docs/reference/api/pandas.Series.html), [SOURCE02](https://www.datasciencemadesimple.com/create-series-in-python-pandas/), \n",
    "[SOURCE03](https://www.cbsecsip.in/2020/08/pandas-data-structure-series.html), \n",
    "[SOURCE04](https://towardsdatascience.com/pandas-series-a-lightweight-intro-b7963a0d62a2), \n",
    "[SOURCE05](https://www.educba.com/pandas-series/), \n",
    "[SOURCE06](http://www.rebellionrider.com/python-pandas-series-in-detail-part-1/), \n",
    "[SOURCE06](https://www.javatpoint.com/python-pandas-series), &\n",
    "[SOURCE06](https://towardsdatascience.com/20-examples-to-master-pandas-series-bc4c68200324)<br>\n",
    "\n",
    "In this lecture we will discuss how to create Pandas Series, use basic attributes of Series, index Pandas Series & be familiar with Pandas Dataframes."
   ]
  },
  {
   "cell_type": "markdown",
   "metadata": {},
   "source": [
    "### <p style=\"background-color:#9d4f8c; font-family:newtimeroman; color:#FFF9ED; font-size:150%; text-align:LEFT; border-radius:10px 10px;\">Creating Pandas Series by Using a list, numpy array or dictionary</p>\n",
    "\n",
    "<a id=\"1.2\"></a>\n",
    "<a href=\"#toc\" class=\"btn btn-primary btn-sm\" role=\"button\" aria-pressed=\"true\" \n",
    "style=\"color:blue; background-color:#dfa8e4\" data-toggle=\"popover\">Content</a>\n",
    "\n",
    "**You can create a series by calling pandas. Series() . A list, numpy array, dict can be turned into a pandas series.**\n",
    "\n",
    "**``pd.Series(data=None, index=None, dtype=None, name=None, copy=False, fastpath=False)``**\n",
    "\n",
    "One-dimensional ndarray with axis labels (including time series)."
   ]
  },
  {
   "cell_type": "code",
   "execution_count": null,
   "metadata": {
    "id": "XUnr4ijkuPZS"
   },
   "outputs": [],
   "source": [
    "labels = ['a', 'b', 'c']\n",
    "my_list = [10, 20, 30]\n",
    "arr = np.array([10, 20, 30])\n",
    "d = {'a': 10, 'b': 20, 'c': 30}"
   ]
  },
  {
   "cell_type": "code",
   "execution_count": null,
   "metadata": {},
   "outputs": [],
   "source": [
    "d.get(0, '!')"
   ]
  },
  {
   "cell_type": "code",
   "execution_count": null,
   "metadata": {},
   "outputs": [],
   "source": [
    "type(d)"
   ]
  },
  {
   "cell_type": "code",
   "execution_count": null,
   "metadata": {},
   "outputs": [],
   "source": [
    "type(labels)"
   ]
  },
  {
   "cell_type": "code",
   "execution_count": null,
   "metadata": {},
   "outputs": [],
   "source": [
    "type(my_list)"
   ]
  },
  {
   "cell_type": "code",
   "execution_count": null,
   "metadata": {},
   "outputs": [],
   "source": [
    "type(arr)"
   ]
  },
  {
   "cell_type": "markdown",
   "metadata": {},
   "source": [
    "### <p style=\"background-color:#9d4f8c; font-family:newtimeroman; color:#FFF9ED; font-size:150%; text-align:center; border-radius:10px 10px;\">Using Lists</p>\n",
    "\n",
    "<a id=\"1.2.1\"></a>\n",
    "<a href=\"#toc\" class=\"btn btn-primary btn-sm\" role=\"button\" aria-pressed=\"true\" \n",
    "style=\"color:blue; background-color:#dfa8e4\" data-toggle=\"popover\">Content</a>\n",
    "\n",
    "**To turn a list into a series, all you have to do is:**"
   ]
  },
  {
   "cell_type": "code",
   "execution_count": null,
   "metadata": {
    "colab": {
     "base_uri": "https://localhost:8080/"
    },
    "id": "lgPxt-BouPZS",
    "outputId": "a9141f61-111f-44fa-f8dc-9dff6e52b8fe"
   },
   "outputs": [],
   "source": [
    "pd.Series(labels)"
   ]
  },
  {
   "cell_type": "code",
   "execution_count": null,
   "metadata": {
    "colab": {
     "base_uri": "https://localhost:8080/"
    },
    "id": "NLASEzrbuPZT",
    "outputId": "5ea96ab1-dd1f-47bd-aa94-742397bfd9b0"
   },
   "outputs": [],
   "source": [
    "s1 = pd.Series(my_list)"
   ]
  },
  {
   "cell_type": "code",
   "execution_count": null,
   "metadata": {},
   "outputs": [],
   "source": [
    "s2 = pd.Series([10, 20, 30])"
   ]
  },
  {
   "cell_type": "code",
   "execution_count": null,
   "metadata": {},
   "outputs": [],
   "source": [
    "s1 == s2"
   ]
  },
  {
   "cell_type": "code",
   "execution_count": null,
   "metadata": {},
   "outputs": [],
   "source": [
    "s1 is s2"
   ]
  },
  {
   "cell_type": "code",
   "execution_count": null,
   "metadata": {},
   "outputs": [],
   "source": [
    "id(s1)"
   ]
  },
  {
   "cell_type": "code",
   "execution_count": null,
   "metadata": {},
   "outputs": [],
   "source": [
    "id(s2)"
   ]
  },
  {
   "cell_type": "code",
   "execution_count": null,
   "metadata": {},
   "outputs": [],
   "source": [
    "s3 = s2"
   ]
  },
  {
   "cell_type": "code",
   "execution_count": null,
   "metadata": {},
   "outputs": [],
   "source": [
    "s3 is s2"
   ]
  },
  {
   "cell_type": "markdown",
   "metadata": {},
   "source": [
    "By default it assigns an index. First it shows the index, then the element value."
   ]
  },
  {
   "cell_type": "markdown",
   "metadata": {},
   "source": [
    "### <p style=\"background-color:#9d4f8c; font-family:newtimeroman; color:#FFF9ED; font-size:150%; text-align:center; border-radius:10px 10px;\">Using NumPy Arrays</p>\n",
    "\n",
    "<a id=\"1.2.2\"></a>\n",
    "<a href=\"#toc\" class=\"btn btn-primary btn-sm\" role=\"button\" aria-pressed=\"true\" \n",
    "style=\"color:blue; background-color:#dfa8e4\" data-toggle=\"popover\">Content</a>\n",
    "\n",
    "**You can create a series from a numpy ndarray.**"
   ]
  },
  {
   "cell_type": "code",
   "execution_count": null,
   "metadata": {},
   "outputs": [],
   "source": [
    "arr"
   ]
  },
  {
   "cell_type": "code",
   "execution_count": null,
   "metadata": {
    "colab": {
     "base_uri": "https://localhost:8080/"
    },
    "id": "bMxCiRcxuPZU",
    "outputId": "fd28e2fc-1ddf-4b32-8450-7a6b91d13a99"
   },
   "outputs": [],
   "source": [
    "s4 = pd.Series(data=arr, index=labels)\n",
    "s4"
   ]
  },
  {
   "cell_type": "code",
   "execution_count": null,
   "metadata": {},
   "outputs": [],
   "source": [
    "s4[0]"
   ]
  },
  {
   "cell_type": "markdown",
   "metadata": {},
   "source": [
    "### <p style=\"background-color:#9d4f8c; font-family:newtimeroman; color:#FFF9ED; font-size:150%; text-align:center; border-radius:10px 10px;\">Using Dictionaries</p>\n",
    "\n",
    "<a id=\"1.2.3\"></a>\n",
    "<a href=\"#toc\" class=\"btn btn-primary btn-sm\" role=\"button\" aria-pressed=\"true\" \n",
    "style=\"color:blue; background-color:#dfa8e4\" data-toggle=\"popover\">Content</a>\n",
    "\n",
    "**If you have a dictionary, you can turn it into a series:**"
   ]
  },
  {
   "cell_type": "code",
   "execution_count": null,
   "metadata": {
    "colab": {
     "base_uri": "https://localhost:8080/"
    },
    "id": "qjd4_CbY9kPN",
    "outputId": "0cf69d9d-12eb-47c3-d2eb-51b57f9854e7"
   },
   "outputs": [],
   "source": [
    "d"
   ]
  },
  {
   "cell_type": "code",
   "execution_count": null,
   "metadata": {
    "colab": {
     "base_uri": "https://localhost:8080/"
    },
    "id": "mhSuOow-uPZV",
    "outputId": "8f41ce28-30b9-4fa6-ba10-e2861888155a"
   },
   "outputs": [],
   "source": [
    "pd.Series(d)"
   ]
  },
  {
   "cell_type": "markdown",
   "metadata": {},
   "source": [
    "It used the dictionary keys as index. The keys of the dictionary match with the Index values; hence, the default Index values have no effect."
   ]
  },
  {
   "cell_type": "code",
   "execution_count": null,
   "metadata": {
    "colab": {
     "base_uri": "https://localhost:8080/"
    },
    "id": "lZrm9t_IuPZV",
    "outputId": "8be20530-244d-448c-d4bb-8f34bb3b661e"
   },
   "outputs": [],
   "source": [
    "pd.Series(data=d, index=['q', 'c', 'y'])"
   ]
  },
  {
   "cell_type": "markdown",
   "metadata": {},
   "source": [
    "Note that the Index is first build with the keys from the dictionary. After this the Series is reindexed with the given Index values, hence we get all NaN as a result."
   ]
  },
  {
   "cell_type": "markdown",
   "metadata": {},
   "source": [
    "### <p style=\"background-color:#9d4f8c; font-family:newtimeroman; color:#FFF9ED; font-size:150%; text-align:center; border-radius:10px 10px;\">Using Scalar Value</p>\n",
    "\n",
    "<a id=\"1.2.4\"></a>\n",
    "<a href=\"#toc\" class=\"btn btn-primary btn-sm\" role=\"button\" aria-pressed=\"true\" \n",
    "style=\"color:blue; background-color:#dfa8e4\" data-toggle=\"popover\">Content</a>\n",
    "\n",
    "**``Scalars``** are single values representing one unit of data, such as an integer or bool, as opposed to data structures like a list or tuple, which are composed of scalars.\n",
    "\n",
    "If data is a scalar value, an index must be provided. The value will be repeated to match the length of index [Source](https://www.tutorialspoint.com/python_pandas/python_pandas_series.htm)."
   ]
  },
  {
   "cell_type": "code",
   "execution_count": null,
   "metadata": {
    "id": "DQLe05nC93Y0",
    "outputId": "a851f29b-8d78-4de8-a6d0-496d8db083c6"
   },
   "outputs": [],
   "source": [
    "pd.Series(data=list(\"Steve\"))"
   ]
  },
  {
   "cell_type": "code",
   "execution_count": null,
   "metadata": {
    "id": "V6rqr53693Y0",
    "outputId": "b428a60c-1beb-462d-f60d-aa79d386d9ca"
   },
   "outputs": [],
   "source": [
    "pd.Series(data=\"Steve\", index=range(3))"
   ]
  },
  {
   "cell_type": "code",
   "execution_count": null,
   "metadata": {
    "id": "hpncx0vL93Y1",
    "outputId": "662a98ed-534b-462f-ea8f-27851f69d77f"
   },
   "outputs": [],
   "source": [
    "s5 = pd.Series(data = 100002, index= ['a', 'b', 'c'], dtype=str)\n",
    "s5"
   ]
  },
  {
   "cell_type": "code",
   "execution_count": null,
   "metadata": {},
   "outputs": [],
   "source": [
    "type(s5['b'])"
   ]
  },
  {
   "cell_type": "code",
   "execution_count": null,
   "metadata": {},
   "outputs": [],
   "source": [
    "s5['b'] + 'abc'"
   ]
  },
  {
   "cell_type": "markdown",
   "metadata": {
    "id": "zK1CZtLouPZV"
   },
   "source": [
    "## <p style=\"background-color:#9d4f8c; font-family:newtimeroman; color:#FFF9ED; font-size:175%; text-align:center; border-radius:10px 10px;\">Data in a Series</p>\n",
    "\n",
    "<a id=\"2\"></a>\n",
    "<a href=\"#toc\" class=\"btn btn-primary btn-sm\" role=\"button\" aria-pressed=\"true\" \n",
    "style=\"color:blue; background-color:#dfa8e4\" data-toggle=\"popover\">Content</a>\n",
    "\n",
    "**``A series``** is a **one-dimensional data structure**. A Series is very **similar to a NumPy array** (in fact it is built on top of the NumPy array object). **What differentiates** the NumPy array from a Series, is that a Series can **have axis labels**, meaning it can be indexed by a label, instead of just a number location. Like a numpy array, a Series can hold any arbitrary Python Object, in which case the dtype will be object. [Source](http://www.datasciencelovers.com/python-for-data-science/pandas-series/).\n",
    "\n",
    "So important point to remember for Pandas series is:\n",
    "\n",
    "- Homogeneous data\n",
    "- Size Immutable\n",
    "- Values of Data Mutable\n",
    "\n",
    "**A pandas Series can hold a variety of object types:**"
   ]
  },
  {
   "cell_type": "markdown",
   "metadata": {
    "id": "1-VxCQpy9kPN"
   },
   "source": [
    "{} or set()"
   ]
  },
  {
   "cell_type": "code",
   "execution_count": null,
   "metadata": {
    "id": "awb-kNz39kPN"
   },
   "outputs": [],
   "source": [
    "set1 = (1, 2, 3, 6)\n",
    "set1"
   ]
  },
  {
   "cell_type": "code",
   "execution_count": null,
   "metadata": {},
   "outputs": [],
   "source": [
    "set2 = (1, 2, [], 5)\n",
    "set2[2].append(10)"
   ]
  },
  {
   "cell_type": "code",
   "execution_count": null,
   "metadata": {},
   "outputs": [],
   "source": [
    "set2"
   ]
  },
  {
   "cell_type": "code",
   "execution_count": null,
   "metadata": {},
   "outputs": [],
   "source": [
    "del set2[2]"
   ]
  },
  {
   "cell_type": "code",
   "execution_count": null,
   "metadata": {
    "colab": {
     "base_uri": "https://localhost:8080/"
    },
    "id": "SRPfWuEv9kPN",
    "outputId": "a553d2ae-51e1-46c6-8057-ddb4b34bc4ce"
   },
   "outputs": [],
   "source": [
    "pd.Series(set1)"
   ]
  },
  {
   "cell_type": "code",
   "execution_count": null,
   "metadata": {},
   "outputs": [],
   "source": [
    "set([1,2,5,6,6,6,1,5])"
   ]
  },
  {
   "cell_type": "code",
   "execution_count": null,
   "metadata": {},
   "outputs": [],
   "source": [
    "pd.Series([set, list, dict])"
   ]
  },
  {
   "cell_type": "code",
   "execution_count": null,
   "metadata": {
    "colab": {
     "base_uri": "https://localhost:8080/"
    },
    "id": "baQMWFZyuPZW",
    "outputId": "c0a149e6-ab2e-40a3-cdef-b0a65275973d"
   },
   "outputs": [],
   "source": [
    "# creates a set of one row, calls element 0, feeds it an argument\n",
    "# not \"practical\" so much as an exercise in eyeballing the syntax\n",
    "\n",
    "pd.Series(set)[0]([2, 5, 7, 5, 8, 2])"
   ]
  },
  {
   "cell_type": "markdown",
   "metadata": {},
   "source": [
    "Even functions (although unlikely that you will use this)"
   ]
  },
  {
   "cell_type": "code",
   "execution_count": null,
   "metadata": {
    "colab": {
     "base_uri": "https://localhost:8080/"
    },
    "id": "xuunC4i_uPZW",
    "outputId": "5f22ece4-515a-4b94-a14f-f8f7d7761d18"
   },
   "outputs": [],
   "source": [
    "pd.Series([sum, print, len])"
   ]
  },
  {
   "cell_type": "code",
   "execution_count": null,
   "metadata": {},
   "outputs": [],
   "source": [
    "len(labels)"
   ]
  },
  {
   "cell_type": "code",
   "execution_count": null,
   "metadata": {
    "id": "SMU5jdDi93Y3",
    "outputId": "28a27363-3ce8-484a-8505-51290f0072f0"
   },
   "outputs": [],
   "source": [
    "pd.Series([sum, print, len])[1](\"a\")"
   ]
  },
  {
   "cell_type": "code",
   "execution_count": null,
   "metadata": {},
   "outputs": [],
   "source": [
    "pd.Series([sum, print, len])[2](\"clarusway\")"
   ]
  },
  {
   "cell_type": "code",
   "execution_count": null,
   "metadata": {},
   "outputs": [],
   "source": [
    "np.array([sum, print, len])[2](\"clarusway\") # works for numpy as well"
   ]
  },
  {
   "cell_type": "code",
   "execution_count": null,
   "metadata": {
    "id": "W4LwTYgauPZX"
   },
   "outputs": [],
   "source": [
    "mix_data = ['Aziz', 2, True]"
   ]
  },
  {
   "cell_type": "code",
   "execution_count": null,
   "metadata": {},
   "outputs": [],
   "source": [
    "ser = pd.Series(mix_data)\n",
    "ser"
   ]
  },
  {
   "cell_type": "code",
   "execution_count": null,
   "metadata": {},
   "outputs": [],
   "source": [
    "ser.dtype"
   ]
  },
  {
   "cell_type": "code",
   "execution_count": null,
   "metadata": {},
   "outputs": [],
   "source": [
    "sum([1,2,3,4])"
   ]
  },
  {
   "cell_type": "code",
   "execution_count": null,
   "metadata": {},
   "outputs": [],
   "source": [
    "id(sum)"
   ]
  },
  {
   "cell_type": "code",
   "execution_count": null,
   "metadata": {},
   "outputs": [],
   "source": [
    "nparr = np.array(mix_data) # different behavior, converts to str type\n",
    "nparr"
   ]
  },
  {
   "cell_type": "code",
   "execution_count": null,
   "metadata": {},
   "outputs": [],
   "source": [
    "nparr = np.array(mix_data, dtype=object)  # how to override\n",
    "nparr"
   ]
  },
  {
   "cell_type": "code",
   "execution_count": null,
   "metadata": {},
   "outputs": [],
   "source": [
    "type(ser)"
   ]
  },
  {
   "cell_type": "code",
   "execution_count": null,
   "metadata": {},
   "outputs": [],
   "source": [
    "type(ser[0])"
   ]
  },
  {
   "cell_type": "code",
   "execution_count": null,
   "metadata": {},
   "outputs": [],
   "source": [
    "type(ser[1])"
   ]
  },
  {
   "cell_type": "code",
   "execution_count": null,
   "metadata": {
    "id": "wf5jbdGY93Y5",
    "outputId": "b9b443e3-bbba-4877-8948-06fcd2b84154"
   },
   "outputs": [],
   "source": [
    "arr = np.array(mix_data)\n",
    "arr"
   ]
  },
  {
   "cell_type": "code",
   "execution_count": null,
   "metadata": {},
   "outputs": [],
   "source": [
    "type(arr[2])"
   ]
  },
  {
   "cell_type": "markdown",
   "metadata": {},
   "source": [
    "[Reminder Source for Numpy Arrays](https://pythonguides.com/python-numpy-data-types/)"
   ]
  },
  {
   "cell_type": "markdown",
   "metadata": {},
   "source": [
    "## <p style=\"background-color:#9d4f8c; font-family:newtimeroman; color:#FFF9ED; font-size:150%; text-align:center; border-radius:10px 10px;\">BASIC ATTRIBUTES & METHODS OF SERIES</p>\n",
    "\n",
    "<a id=\"3\"></a>\n",
    "<a href=\"#toc\" class=\"btn btn-primary btn-sm\" role=\"button\" aria-pressed=\"true\" \n",
    "style=\"color:blue; background-color:#dfa8e4\" data-toggle=\"popover\">Content</a>\n",
    "\n",
    "**SOME COMMON ATTRIBUTES** [Official Pandas API Document](https://pandas.pydata.org/docs/reference/api/pandas.Series.html)<br>\n",
    "\n",
    "**Series.index**\tDefines the index of the Series.<br>\n",
    "**Series.values**   Returns Series as ndarray or ndarray-like depending on the dtype.<br>\n",
    "**Series.shape**\tIt returns a tuple of shape of the data.<br>\n",
    "**Series.dtype**\tIt returns the data type of the data.<br>\n",
    "**Series.size**\tIt returns the size of the data.<br>\n",
    "**Series.empty**\tIt returns True if Series object is empty, otherwise returns false.<br>\n",
    "**Series.hasnans**\tIt returns True if there are any NaN values, otherwise returns false.<br>\n",
    "**Series.nbytes**\tIt returns the number of bytes in the data.<br>\n",
    "**Series.ndim**\tIt returns the number of dimensions in the data.<br>"
   ]
  },
  {
   "cell_type": "code",
   "execution_count": null,
   "metadata": {},
   "outputs": [],
   "source": [
    "ser = pd.Series(np.random.randint(0, 100, 7))\n",
    "ser"
   ]
  },
  {
   "cell_type": "code",
   "execution_count": null,
   "metadata": {
    "colab": {
     "base_uri": "https://localhost:8080/"
    },
    "id": "kQ7aH-fRuPZN",
    "outputId": "179e6817-2d3d-4ef5-96e3-66b04776b2a4"
   },
   "outputs": [],
   "source": [
    "type(ser)"
   ]
  },
  {
   "cell_type": "code",
   "execution_count": null,
   "metadata": {
    "colab": {
     "base_uri": "https://localhost:8080/"
    },
    "id": "zE8qiun2uPZN",
    "outputId": "afee59bf-2d8a-43bc-f1ec-197d3ddfb4b0"
   },
   "outputs": [],
   "source": [
    "ser.dtype"
   ]
  },
  {
   "cell_type": "code",
   "execution_count": null,
   "metadata": {
    "id": "edipdQn_93Y6",
    "outputId": "19dbfe70-316c-41e7-ae90-066b6ded22b5"
   },
   "outputs": [],
   "source": [
    "type(ser.shape)"
   ]
  },
  {
   "cell_type": "code",
   "execution_count": null,
   "metadata": {},
   "outputs": [],
   "source": [
    "type((1,))"
   ]
  },
  {
   "cell_type": "code",
   "execution_count": null,
   "metadata": {
    "colab": {
     "base_uri": "https://localhost:8080/"
    },
    "id": "5RMJSNl0uPZO",
    "outputId": "7a8f3ea4-075b-4bad-d6ef-6f599ac55933"
   },
   "outputs": [],
   "source": [
    "ser.size"
   ]
  },
  {
   "cell_type": "code",
   "execution_count": null,
   "metadata": {
    "id": "WiDwQuJB93Y7",
    "outputId": "60249d13-94bf-4843-8a70-a81352ebf765"
   },
   "outputs": [],
   "source": [
    "len(ser)"
   ]
  },
  {
   "cell_type": "code",
   "execution_count": null,
   "metadata": {
    "colab": {
     "base_uri": "https://localhost:8080/"
    },
    "id": "vGNZHvNBuPZO",
    "outputId": "8e51dcdc-a74f-4129-9d72-cb01f86eb250"
   },
   "outputs": [],
   "source": [
    "ser.ndim"
   ]
  },
  {
   "cell_type": "code",
   "execution_count": null,
   "metadata": {
    "id": "7tlvjHwh93Y7",
    "outputId": "519b5e81-a454-4b41-cc05-4d35ffb4b49e"
   },
   "outputs": [],
   "source": [
    "ser"
   ]
  },
  {
   "cell_type": "code",
   "execution_count": null,
   "metadata": {
    "id": "m6C462qc93Y7",
    "outputId": "0434ae49-23fa-474b-ef24-12cee74728fb"
   },
   "outputs": [],
   "source": [
    "ser.index"
   ]
  },
  {
   "cell_type": "code",
   "execution_count": null,
   "metadata": {},
   "outputs": [],
   "source": [
    "list(ser.index)"
   ]
  },
  {
   "cell_type": "code",
   "execution_count": null,
   "metadata": {},
   "outputs": [],
   "source": [
    "ser.values"
   ]
  },
  {
   "cell_type": "code",
   "execution_count": null,
   "metadata": {},
   "outputs": [],
   "source": [
    "ser.keys()"
   ]
  },
  {
   "cell_type": "code",
   "execution_count": null,
   "metadata": {},
   "outputs": [],
   "source": [
    "ser.index"
   ]
  },
  {
   "cell_type": "code",
   "execution_count": null,
   "metadata": {
    "colab": {
     "base_uri": "https://localhost:8080/"
    },
    "id": "ZsRJWpnm9kPJ",
    "outputId": "b65f2cdd-dc04-40f4-bc4d-1c71b9e868b3"
   },
   "outputs": [],
   "source": [
    "for i in ser.values:\n",
    "    print(i)"
   ]
  },
  {
   "cell_type": "code",
   "execution_count": null,
   "metadata": {},
   "outputs": [],
   "source": [
    "ser.keys()"
   ]
  },
  {
   "cell_type": "code",
   "execution_count": null,
   "metadata": {
    "colab": {
     "base_uri": "https://localhost:8080/"
    },
    "id": "0Ai6IgSH9kPJ",
    "outputId": "6f94fdc6-b25e-4e5b-84fc-998ff0becb67"
   },
   "outputs": [],
   "source": [
    "ser.values"
   ]
  },
  {
   "cell_type": "code",
   "execution_count": null,
   "metadata": {
    "colab": {
     "base_uri": "https://localhost:8080/"
    },
    "id": "vIColgkR9kPJ",
    "outputId": "2e8648e8-3e58-4d2d-e4d9-02d7eb6bdf56"
   },
   "outputs": [],
   "source": [
    "[i ** 2 for i in ser.values]"
   ]
  },
  {
   "cell_type": "code",
   "execution_count": null,
   "metadata": {
    "id": "uBGiXTo393Y9",
    "outputId": "d6c0fbf1-f9ed-4d54-94d0-60e59f300bc8",
    "scrolled": true
   },
   "outputs": [],
   "source": [
    "list(ser.items())"
   ]
  },
  {
   "cell_type": "code",
   "execution_count": null,
   "metadata": {},
   "outputs": [],
   "source": [
    "ser"
   ]
  },
  {
   "cell_type": "code",
   "execution_count": null,
   "metadata": {},
   "outputs": [],
   "source": [
    "print(*ser)"
   ]
  },
  {
   "cell_type": "code",
   "execution_count": null,
   "metadata": {
    "id": "7TJ_O9yO93ZF",
    "outputId": "02d23113-12bc-46d5-c893-5bf6695199bf"
   },
   "outputs": [],
   "source": [
    "list(ser.items())"
   ]
  },
  {
   "cell_type": "code",
   "execution_count": null,
   "metadata": {
    "id": "1Lk3quVE93ZG",
    "outputId": "2dbc6f34-3d09-48df-9a87-238fa8f04a22"
   },
   "outputs": [],
   "source": [
    "for index, value in ser.items():\n",
    "    print(f\"Index : {index}, Value : {value}\")"
   ]
  },
  {
   "cell_type": "code",
   "execution_count": null,
   "metadata": {
    "id": "ruFnc9jb9kPK"
   },
   "outputs": [],
   "source": [
    "ser = pd.Series(data = np.random.randint(0, 25, 10), index = list(\"cbaefdgihj\"))"
   ]
  },
  {
   "cell_type": "code",
   "execution_count": null,
   "metadata": {
    "colab": {
     "base_uri": "https://localhost:8080/"
    },
    "id": "_nMHdILx9kPK",
    "outputId": "e7234154-a082-4dbf-e525-a9bf1d912364"
   },
   "outputs": [],
   "source": [
    "ser"
   ]
  },
  {
   "cell_type": "code",
   "execution_count": null,
   "metadata": {
    "colab": {
     "base_uri": "https://localhost:8080/"
    },
    "id": "PSWBb1jJ9kPL",
    "outputId": "a5b13b30-55b2-4c13-c14d-e741ae7ee697"
   },
   "outputs": [],
   "source": [
    "ser.head(1)"
   ]
  },
  {
   "cell_type": "code",
   "execution_count": null,
   "metadata": {
    "colab": {
     "base_uri": "https://localhost:8080/"
    },
    "id": "tuheIJWg9kPL",
    "outputId": "44ed0aa3-acab-485e-ddf0-f8f495ad3f75"
   },
   "outputs": [],
   "source": [
    "ser.tail(2)"
   ]
  },
  {
   "cell_type": "code",
   "execution_count": null,
   "metadata": {
    "id": "vMVnXHJK93ZI",
    "outputId": "797816df-d31a-489a-e60c-dfb668dae005"
   },
   "outputs": [],
   "source": [
    "ser.sample(5)"
   ]
  },
  {
   "cell_type": "code",
   "execution_count": null,
   "metadata": {
    "id": "a2H_48m593ZI",
    "outputId": "4ec25c98-6699-4e1b-caab-1211f5469f90"
   },
   "outputs": [],
   "source": [
    "ser.sort_index(ascending=True)"
   ]
  },
  {
   "cell_type": "code",
   "execution_count": null,
   "metadata": {
    "id": "kBUMrfPj93ZJ",
    "outputId": "f188af2c-666b-4878-81dd-a85913c54f30"
   },
   "outputs": [],
   "source": [
    "ser.sort_values(ascending=False)"
   ]
  },
  {
   "cell_type": "code",
   "execution_count": null,
   "metadata": {
    "id": "SolrDB1d93ZJ",
    "outputId": "612198d2-986c-4df9-cf13-c602944f05dc"
   },
   "outputs": [],
   "source": [
    "ser"
   ]
  },
  {
   "cell_type": "code",
   "execution_count": null,
   "metadata": {
    "id": "shKrWBfM93ZJ",
    "outputId": "271aeaca-1473-4b56-e29e-0b850deee3c5"
   },
   "outputs": [],
   "source": [
    "ser.isin([1, 2, 10, 19, 21])"
   ]
  },
  {
   "cell_type": "code",
   "execution_count": null,
   "metadata": {
    "id": "sE7PYJ9f93ZJ",
    "outputId": "36704ee8-ef74-4baf-a559-89006f91165a"
   },
   "outputs": [],
   "source": [
    "[i for i in 'clarusway']"
   ]
  },
  {
   "cell_type": "code",
   "execution_count": null,
   "metadata": {
    "colab": {
     "base_uri": "https://localhost:8080/"
    },
    "id": "82iQ-se09kPL",
    "outputId": "68862e21-cf43-4513-f60f-5267aef829e6",
    "scrolled": true
   },
   "outputs": [],
   "source": [
    "pd.Series([i for i in 'clarusway'])"
   ]
  },
  {
   "cell_type": "markdown",
   "metadata": {
    "id": "LLA4QNehuPZb"
   },
   "source": [
    "## <p style=\"background-color:#9d4f8c; font-family:newtimeroman; color:#FFF9ED; font-size:150%; text-align:center; border-radius:10px 10px;\">Indexing Pandas Series</p>\n",
    "\n",
    "<a id=\"4\"></a>\n",
    "<a href=\"#toc\" class=\"btn btn-primary btn-sm\" role=\"button\" aria-pressed=\"true\" \n",
    "style=\"color:blue; background-color:#dfa8e4\" data-toggle=\"popover\">Content</a>\n",
    "\n",
    "As stated and implemented by examples above, a Series is very similar to a NumPy array. What differentiates the NumPy array from a Series is that **a Series can have axis labels**, meaning it can be indexed by a label, instead of just a number location. It also doesn’t need to hold numeric data, it can hold any arbitrary Python Object [Source](https://rpubs.com/pjozefek/659184).\n",
    "\n",
    "The key to using a Series is understanding its index. Pandas makes use of these index names or numbers by allowing for fast look up of information.\n",
    "\n",
    "The axis labeling information in pandas objects serves many purposes:\n",
    "\n",
    "- Identifies data (i.e. provides metadata) using known indicators, important for analysis, visualization, and interactive console display.\n",
    "- Enables automatic and explicit data alignment.\n",
    "- Allows intuitive getting and setting of subsets of the data set.\n",
    "\n",
    "In this section, we will focus on the final point: namely, how to slice, dice, and generally get and set subsets of pandas objects. The primary focus will be on Series and DataFrame as they have received more development attention in this area. For more information, please visit [pandas-docs.github.io](https://pandas-docs.github.io/pandas-docs-travis/user_guide/indexing.html)\n",
    "\n",
    "Let's see some examples of how to grab information from a Series. Let us create two sereis, ser1 and ser2:"
   ]
  },
  {
   "cell_type": "code",
   "execution_count": null,
   "metadata": {
    "id": "S5WOmI-OuPZb"
   },
   "outputs": [],
   "source": [
    "ser1 = pd.Series([1, 2, 3, 4], ['USA', 'Germany','USSR', 'Japan'])                      "
   ]
  },
  {
   "cell_type": "code",
   "execution_count": null,
   "metadata": {},
   "outputs": [],
   "source": [
    "ser1"
   ]
  },
  {
   "cell_type": "code",
   "execution_count": null,
   "metadata": {
    "id": "zYQxNlQpuPZc"
   },
   "outputs": [],
   "source": [
    "ser2 = pd.Series([1, 2, 5, 4], index = ['USA', 'Germany','Italy', 'Japan'])"
   ]
  },
  {
   "cell_type": "markdown",
   "metadata": {},
   "source": [
    "The two main data structures in pandas both have at least one axis. A **Series** has **one axis**, the index. A **DataFrame** has **two axes**, the index and the columns. It’s useful to note here that in all the DataFrame functions that can be applied to either rows or columns, an axis of 0 refers to the index, an axis of 1 refers to the columns."
   ]
  },
  {
   "cell_type": "code",
   "execution_count": null,
   "metadata": {},
   "outputs": [],
   "source": [
    "ser2"
   ]
  },
  {
   "cell_type": "code",
   "execution_count": null,
   "metadata": {
    "colab": {
     "base_uri": "https://localhost:8080/"
    },
    "id": "1l7jha5E9kPP",
    "outputId": "2f4844e5-7480-429d-cbbe-7ea276b2dd26"
   },
   "outputs": [],
   "source": [
    "ser1"
   ]
  },
  {
   "cell_type": "code",
   "execution_count": null,
   "metadata": {
    "colab": {
     "base_uri": "https://localhost:8080/"
    },
    "id": "VHrzUsxX9kPP",
    "outputId": "56abdbe8-27fd-4552-9dd0-88f62ade4439"
   },
   "outputs": [],
   "source": [
    "ser1.sort_index()"
   ]
  },
  {
   "cell_type": "code",
   "execution_count": null,
   "metadata": {
    "colab": {
     "base_uri": "https://localhost:8080/"
    },
    "id": "-a4ZenL69kPP",
    "outputId": "6c695529-db10-4b42-f87c-76a2bf3de6f1"
   },
   "outputs": [],
   "source": [
    "ser2.sort_values()"
   ]
  },
  {
   "cell_type": "code",
   "execution_count": null,
   "metadata": {},
   "outputs": [],
   "source": [
    "ser1"
   ]
  },
  {
   "cell_type": "code",
   "execution_count": null,
   "metadata": {},
   "outputs": [],
   "source": [
    "ser2['Japan']=5\n",
    "ser2"
   ]
  },
  {
   "cell_type": "code",
   "execution_count": null,
   "metadata": {},
   "outputs": [],
   "source": [
    "scores = pd.concat([ser1, ser2], axis=1)\n",
    "scores"
   ]
  },
  {
   "cell_type": "code",
   "execution_count": null,
   "metadata": {},
   "outputs": [],
   "source": [
    "type(scores)"
   ]
  },
  {
   "cell_type": "markdown",
   "metadata": {},
   "source": [
    "**We're going to start with the basic form of selecting, using the [ ] operator.**\n",
    "\n",
    "If we don’t introduce labels into our Series the index by default will be the natural numbers starting from 0. So the index will be the number of data introduced - 1."
   ]
  },
  {
   "cell_type": "code",
   "execution_count": null,
   "metadata": {},
   "outputs": [],
   "source": [
    "#  pandas.index.get_loc\n",
    "# index.get_loc(key, method=None, tolerance=None)[source]\n",
    "# Get integer location, slice or boolean mask for requested label.\n",
    "\n",
    "ser1['USA']"
   ]
  },
  {
   "cell_type": "code",
   "execution_count": null,
   "metadata": {},
   "outputs": [],
   "source": [
    "ser1.index[0]"
   ]
  },
  {
   "cell_type": "code",
   "execution_count": null,
   "metadata": {},
   "outputs": [],
   "source": [
    "ser1[0]"
   ]
  },
  {
   "cell_type": "markdown",
   "metadata": {},
   "source": [
    "Here we can see how 'calling' a label works. This would print the 'USA' data. So for this series would be 2."
   ]
  },
  {
   "cell_type": "code",
   "execution_count": null,
   "metadata": {
    "colab": {
     "base_uri": "https://localhost:8080/"
    },
    "id": "J1YUlUc_9kPP",
    "outputId": "47009a76-77e6-4145-e502-9265fa9faa3f"
   },
   "outputs": [],
   "source": [
    "ser1['Germany']"
   ]
  },
  {
   "cell_type": "code",
   "execution_count": null,
   "metadata": {
    "id": "B8dR_PQ493ZM",
    "outputId": "df38d38b-91b9-4810-a5cb-135bf8e0108c"
   },
   "outputs": [],
   "source": [
    "ser1.Germany"
   ]
  },
  {
   "cell_type": "code",
   "execution_count": null,
   "metadata": {
    "colab": {
     "base_uri": "https://localhost:8080/"
    },
    "id": "TA4UqJ5Y9kPP",
    "outputId": "b118fdb2-8e3d-4e6d-bf12-d543f79732e3"
   },
   "outputs": [],
   "source": [
    "print(\"The value for 'Japan':\", ser2['Japan'])"
   ]
  },
  {
   "cell_type": "code",
   "execution_count": null,
   "metadata": {},
   "outputs": [],
   "source": [
    "print(\"The value for the 3rd index:\", ser2[3])"
   ]
  },
  {
   "cell_type": "code",
   "execution_count": null,
   "metadata": {},
   "outputs": [],
   "source": [
    "# ser2[4]  # IndexError: index 4 is out of bounds for axis 0 with size 4"
   ]
  },
  {
   "cell_type": "code",
   "execution_count": null,
   "metadata": {},
   "outputs": [],
   "source": [
    "try:\n",
    "    print(\"The value of the fourth element in the Series:\", ser2[4])\n",
    "except IndexError as error:\n",
    "    print(\"Nope, the index you selected is out of bounds. That's not how you select rows (index) in a Series.\")"
   ]
  },
  {
   "cell_type": "markdown",
   "metadata": {},
   "source": [
    "As seen above, with a Series, the call will return a single scalar value that matches the value at that label in the index. If you pass in a value for a label that doesn't exist, you will get a KeyError raised. Also, if you pass in an integer and your index has that value, it will return it. But if you don't have an integer value in your index, it will return the value by position. This is convenient, but can be confusing."
   ]
  },
  {
   "cell_type": "markdown",
   "metadata": {
    "id": "FuAlZSDAuPZd"
   },
   "source": [
    "**Another huge pro of using labelled indexes is that you can perform operations between two different series and pandas know what labels have both series in common and does the addition automatically.**\n",
    "\n",
    "Operations are then also done based on index:"
   ]
  },
  {
   "cell_type": "code",
   "execution_count": null,
   "metadata": {},
   "outputs": [],
   "source": [
    "ser1"
   ]
  },
  {
   "cell_type": "code",
   "execution_count": null,
   "metadata": {},
   "outputs": [],
   "source": [
    "ser2"
   ]
  },
  {
   "cell_type": "code",
   "execution_count": null,
   "metadata": {
    "colab": {
     "base_uri": "https://localhost:8080/"
    },
    "id": "5XacyJBK9kPQ",
    "outputId": "0eb913f5-ac96-49c9-e09d-c000d834436c"
   },
   "outputs": [],
   "source": [
    "ser1 + ser2"
   ]
  },
  {
   "cell_type": "code",
   "execution_count": null,
   "metadata": {
    "colab": {
     "base_uri": "https://localhost:8080/"
    },
    "id": "tsYad8DyuPZe",
    "outputId": "99ac955e-c107-4b6a-99cf-3d023bd5af1e"
   },
   "outputs": [],
   "source": [
    "ser3 = pd.Series(data = [\"a\", \"b\", \"c\", \"d\"])\n",
    "\n",
    "ser3"
   ]
  },
  {
   "cell_type": "code",
   "execution_count": null,
   "metadata": {
    "colab": {
     "base_uri": "https://localhost:8080/",
     "height": 35
    },
    "id": "Bv_9LH7r9kPQ",
    "outputId": "88307206-77aa-4e3e-96d9-d4490ab9f891"
   },
   "outputs": [],
   "source": [
    "ser3[0]"
   ]
  },
  {
   "cell_type": "code",
   "execution_count": null,
   "metadata": {
    "colab": {
     "base_uri": "https://localhost:8080/"
    },
    "id": "xrytly2yuPZf",
    "outputId": "520d6194-3a5b-4a06-9429-51597a7141ac"
   },
   "outputs": [],
   "source": [
    "ser3[2:]"
   ]
  },
  {
   "cell_type": "code",
   "execution_count": null,
   "metadata": {
    "id": "pFaVX9UG93ZQ",
    "outputId": "4b708c02-003e-41eb-85f4-48b27c9f1cd0"
   },
   "outputs": [],
   "source": [
    "ser3[::-1]  # reverse the series."
   ]
  },
  {
   "cell_type": "code",
   "execution_count": null,
   "metadata": {},
   "outputs": [],
   "source": [
    "inv_ser3 = _  # <--- last output\n"
   ]
  },
  {
   "cell_type": "code",
   "execution_count": null,
   "metadata": {},
   "outputs": [],
   "source": [
    "inv_ser3"
   ]
  },
  {
   "cell_type": "code",
   "execution_count": null,
   "metadata": {},
   "outputs": [],
   "source": [
    "ser3"
   ]
  },
  {
   "cell_type": "code",
   "execution_count": null,
   "metadata": {},
   "outputs": [],
   "source": []
  },
  {
   "cell_type": "markdown",
   "metadata": {},
   "source": [
    "### <p style=\"background-color:#9d4f8c; font-family:newtimeroman; color:#FFF9ED; font-size:150%; text-align:LEFT; border-radius:10px 10px;\">pandas_series[index] | pandas_series[[indices, indices...]]</p>\n",
    "\n",
    "<a id=\"4.1\"></a>\n",
    "<a href=\"#toc\" class=\"btn btn-primary btn-sm\" role=\"button\" aria-pressed=\"true\" \n",
    "style=\"color:blue; background-color:#dfa8e4\" data-toggle=\"popover\">Content</a>"
   ]
  },
  {
   "cell_type": "code",
   "execution_count": null,
   "metadata": {
    "colab": {
     "base_uri": "https://localhost:8080/"
    },
    "id": "SzUGaG2YuPZg",
    "outputId": "227793d2-d2d8-4275-d375-fd002cce4f05"
   },
   "outputs": [],
   "source": [
    "panser = pd.Series(data = [121, 200, 150, 99], index = [\"terry\", \"micheal\", \"orion\", \"jason\"])\n",
    "panser"
   ]
  },
  {
   "cell_type": "code",
   "execution_count": null,
   "metadata": {},
   "outputs": [],
   "source": [
    "panser.index"
   ]
  },
  {
   "cell_type": "code",
   "execution_count": null,
   "metadata": {
    "colab": {
     "base_uri": "https://localhost:8080/"
    },
    "id": "-Cw2RyopuPZg",
    "outputId": "636d9e26-ad9c-434e-f1e7-900c0c2958e8"
   },
   "outputs": [],
   "source": [
    "panser['terry']"
   ]
  },
  {
   "cell_type": "code",
   "execution_count": null,
   "metadata": {
    "colab": {
     "base_uri": "https://localhost:8080/"
    },
    "id": "Zh2miOopuPZg",
    "outputId": "62b8612e-4bb7-4fa3-9a01-778a128585b4"
   },
   "outputs": [],
   "source": [
    "panser[0]"
   ]
  },
  {
   "cell_type": "code",
   "execution_count": null,
   "metadata": {},
   "outputs": [],
   "source": [
    "panser"
   ]
  },
  {
   "cell_type": "markdown",
   "metadata": {},
   "source": [
    "**Let's make changes on indexes:**"
   ]
  },
  {
   "cell_type": "code",
   "execution_count": null,
   "metadata": {
    "id": "9Q-wWL269kPR"
   },
   "outputs": [],
   "source": [
    "index1 = ['terry', 'micheal', 'jason']"
   ]
  },
  {
   "cell_type": "code",
   "execution_count": null,
   "metadata": {
    "colab": {
     "base_uri": "https://localhost:8080/"
    },
    "id": "wCbdbGNouPZg",
    "outputId": "827f15c4-b125-4efb-f017-858030dd9ac6"
   },
   "outputs": [],
   "source": [
    "panser[index1]"
   ]
  },
  {
   "cell_type": "code",
   "execution_count": null,
   "metadata": {
    "colab": {
     "base_uri": "https://localhost:8080/"
    },
    "id": "TaoY0bgw9kPR",
    "outputId": "0d2d8980-2fd8-42f3-ce8b-b08d8dc3670e"
   },
   "outputs": [],
   "source": [
    "panser['orion':'jason']"
   ]
  },
  {
   "cell_type": "code",
   "execution_count": null,
   "metadata": {
    "colab": {
     "base_uri": "https://localhost:8080/"
    },
    "id": "9Y3jUO8M9kPS",
    "outputId": "7178da0b-ab32-49f9-dd5a-cff6d69c57bc"
   },
   "outputs": [],
   "source": [
    "panser[::2]"
   ]
  },
  {
   "cell_type": "markdown",
   "metadata": {},
   "source": [
    "### <p style=\"background-color:#9d4f8c; font-family:newtimeroman; color:#FFF9ED; font-size:150%; text-align:LEFT; border-radius:10px 10px;\">Recap for Several Selecting Attributes</p>\n",
    "\n",
    "<a id=\"4.2\"></a>\n",
    "<a href=\"#toc\" class=\"btn btn-primary btn-sm\" role=\"button\" aria-pressed=\"true\" \n",
    "style=\"color:blue; background-color:#dfa8e4\" data-toggle=\"popover\">Content</a>"
   ]
  },
  {
   "cell_type": "code",
   "execution_count": null,
   "metadata": {
    "colab": {
     "base_uri": "https://localhost:8080/"
    },
    "id": "e-s7Wty-uPZh",
    "outputId": "4e6cd861-86f6-4e8b-c332-6dc5297599b8"
   },
   "outputs": [],
   "source": [
    "panser.keys()"
   ]
  },
  {
   "cell_type": "code",
   "execution_count": null,
   "metadata": {
    "colab": {
     "base_uri": "https://localhost:8080/"
    },
    "id": "sX1BjCZruPZh",
    "outputId": "ac9d1be6-68f1-49ca-ec6a-73631cab1436"
   },
   "outputs": [],
   "source": [
    "panser.index"
   ]
  },
  {
   "cell_type": "code",
   "execution_count": null,
   "metadata": {
    "colab": {
     "base_uri": "https://localhost:8080/"
    },
    "id": "pRoQjE4luPZi",
    "outputId": "f6fe35d8-4f2c-4da7-c9a6-fe876170cd23"
   },
   "outputs": [],
   "source": [
    "panser.values"
   ]
  },
  {
   "cell_type": "code",
   "execution_count": null,
   "metadata": {
    "colab": {
     "base_uri": "https://localhost:8080/"
    },
    "id": "Rebvt-lo9kPT",
    "outputId": "f45e92dc-ac31-4ba9-b0d0-5a9589504062"
   },
   "outputs": [],
   "source": [
    "panser.items()"
   ]
  },
  {
   "cell_type": "code",
   "execution_count": null,
   "metadata": {
    "colab": {
     "base_uri": "https://localhost:8080/"
    },
    "id": "3TABuTMnuPZi",
    "outputId": "49a62e4e-e964-4101-bcb6-c0251b7b0bd9"
   },
   "outputs": [],
   "source": [
    "list(panser.items())"
   ]
  },
  {
   "cell_type": "code",
   "execution_count": null,
   "metadata": {
    "colab": {
     "base_uri": "https://localhost:8080/"
    },
    "id": "MeVom79b9kPT",
    "outputId": "c64b730f-50bd-4472-ba89-85b7731a0abc"
   },
   "outputs": [],
   "source": [
    "for k, v in panser.items():\n",
    "    print(f\"Key: {k:10} | Value: {v:10}\")"
   ]
  },
  {
   "cell_type": "code",
   "execution_count": null,
   "metadata": {
    "colab": {
     "base_uri": "https://localhost:8080/"
    },
    "id": "jFy-AplP9kPU",
    "outputId": "bd07a303-3ab3-488b-b9a6-0156aec169d9"
   },
   "outputs": [],
   "source": [
    "panser"
   ]
  },
  {
   "cell_type": "code",
   "execution_count": null,
   "metadata": {
    "colab": {
     "base_uri": "https://localhost:8080/"
    },
    "id": "usbYLx3j9kPU",
    "outputId": "7c5bd16f-13d8-4a5f-f03a-7c978d52cb1d"
   },
   "outputs": [],
   "source": [
    "'terry' in panser"
   ]
  },
  {
   "cell_type": "code",
   "execution_count": null,
   "metadata": {
    "colab": {
     "base_uri": "https://localhost:8080/"
    },
    "id": "EU9JyMT09kPU",
    "outputId": "48234278-79f3-4811-e615-3c73b2cf25bd"
   },
   "outputs": [],
   "source": [
    "'bob' in panser"
   ]
  },
  {
   "cell_type": "code",
   "execution_count": null,
   "metadata": {
    "colab": {
     "base_uri": "https://localhost:8080/"
    },
    "id": "1y3cVTyS9kPU",
    "outputId": "1478f7be-e3b3-4d76-c86a-136d582f69a9"
   },
   "outputs": [],
   "source": [
    "panser.isin([200, 150])"
   ]
  },
  {
   "cell_type": "code",
   "execution_count": null,
   "metadata": {
    "colab": {
     "base_uri": "https://localhost:8080/"
    },
    "id": "YiO2_IRV9kPU",
    "outputId": "46a0c523-c651-4390-ded5-8cfdca2f2175"
   },
   "outputs": [],
   "source": [
    "121 in panser.values"
   ]
  },
  {
   "cell_type": "code",
   "execution_count": null,
   "metadata": {},
   "outputs": [],
   "source": [
    "panser.keys()"
   ]
  },
  {
   "cell_type": "code",
   "execution_count": null,
   "metadata": {
    "colab": {
     "base_uri": "https://localhost:8080/"
    },
    "id": "m5R7hM7o9kPV",
    "outputId": "d33ae475-f6da-4887-bc03-437f1ca9a39f"
   },
   "outputs": [],
   "source": [
    "55 in panser.values"
   ]
  },
  {
   "cell_type": "code",
   "execution_count": null,
   "metadata": {
    "colab": {
     "base_uri": "https://localhost:8080/"
    },
    "id": "vBxqIQ-09kPV",
    "outputId": "1ad7db08-1069-42c3-e50a-41857306f308"
   },
   "outputs": [],
   "source": [
    "panser"
   ]
  },
  {
   "cell_type": "markdown",
   "metadata": {},
   "source": [
    "**In the previous session we learnt **``Broadcasting``**. **Let's make broadcasting to some values:**"
   ]
  },
  {
   "cell_type": "code",
   "execution_count": null,
   "metadata": {
    "id": "nKI8hHSr9kPV"
   },
   "outputs": [],
   "source": [
    "panser['terry'] = 90"
   ]
  },
  {
   "cell_type": "code",
   "execution_count": null,
   "metadata": {
    "colab": {
     "base_uri": "https://localhost:8080/"
    },
    "id": "DUwJmYZU9kPV",
    "outputId": "9862c21e-b3c9-442a-aeb9-c9b3e63643c3"
   },
   "outputs": [],
   "source": [
    "panser"
   ]
  },
  {
   "cell_type": "code",
   "execution_count": null,
   "metadata": {
    "colab": {
     "base_uri": "https://localhost:8080/"
    },
    "id": "K-u1nAUK9kPV",
    "outputId": "505c9809-8351-4929-b440-19aebfc16de3"
   },
   "outputs": [],
   "source": [
    "panser[panser < 100] = 100\n",
    "panser"
   ]
  },
  {
   "cell_type": "code",
   "execution_count": null,
   "metadata": {
    "colab": {
     "base_uri": "https://localhost:8080/"
    },
    "id": "Jv_E7uUM9kPV",
    "outputId": "30f93026-85b5-4de4-a59b-49482b3ea640"
   },
   "outputs": [],
   "source": [
    "panser[panser > 100] = 1000\n",
    "panser"
   ]
  },
  {
   "cell_type": "markdown",
   "metadata": {},
   "source": [
    "## <p style=\"background-color:#FDFEFE; font-family:newtimeroman; color:#9d4f8c; font-size:150%; text-align:center; border-radius:10px 10px;\">The End of The Session - 03</p>\n",
    "\n",
    "<a id=\"5\"></a>\n",
    "<a href=\"#toc\" class=\"btn btn-primary btn-sm\" role=\"button\" aria-pressed=\"true\" \n",
    "style=\"color:blue; background-color:#dfa8e4\" data-toggle=\"popover\">Content</a>"
   ]
  },
  {
   "cell_type": "markdown",
   "metadata": {},
   "source": [
    "<p style=\"text-align: center;\"><img src=\"https://docs.google.com/uc?id=1lY0Uj5R04yMY3-ZppPWxqCr5pvBLYPnV\" class=\"img-fluid\" \n",
    "alt=\"CLRSWY\"></p>\n",
    "\n",
    "## <p style=\"background-color:#FDFEFE; font-family:newtimeroman; color:#9d4f8c; font-size:100%; text-align:center; border-radius:10px 10px;\">WAY TO REINVENT YOURSELF</p>\n",
    "\n",
    "___"
   ]
  }
 ],
 "metadata": {
  "colab": {
   "name": "DAwPy-S3 (Pandas Series).ipynb",
   "provenance": []
  },
  "kernelspec": {
   "display_name": "Python 3 (ipykernel)",
   "language": "python",
   "name": "python3"
  },
  "language_info": {
   "codemirror_mode": {
    "name": "ipython",
    "version": 3
   },
   "file_extension": ".py",
   "mimetype": "text/x-python",
   "name": "python",
   "nbconvert_exporter": "python",
   "pygments_lexer": "ipython3",
   "version": "3.11.2"
  }
 },
 "nbformat": 4,
 "nbformat_minor": 4
}
