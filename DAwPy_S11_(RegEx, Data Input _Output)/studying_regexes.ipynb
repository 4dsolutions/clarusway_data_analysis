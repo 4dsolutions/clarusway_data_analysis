{
 "cells": [
  {
   "cell_type": "markdown",
   "id": "bfa1fba8-973b-45da-a9aa-fe529c6f4fb9",
   "metadata": {},
   "source": [
    "<a data-flickr-embed=\"true\" href=\"https://www.flickr.com/photos/kirbyurner/51883694976/in/album-72177720296706479/\" title=\"week1_schedule\"><img src=\"https://live.staticflickr.com/65535/51883694976_e664183853_o.jpg\" width=\"527\" height=\"735\" alt=\"week1_schedule\"/></a><script async src=\"//embedr.flickr.com/assets/client-code.js\" charset=\"utf-8\"></script>"
   ]
  },
  {
   "cell_type": "markdown",
   "id": "be9efd5b-4aa6-440a-89f0-0a9094ccb226",
   "metadata": {},
   "source": [
    "### Studying Regular Expressions\n",
    "\n",
    "This is an example of a student worksheet, designed to give ideas for self study habits.  Suppose you need to get better at using Regular Expressions (wait, what are they?).\n",
    "\n",
    "Workflow:  \n",
    "\n",
    "* start a fresh Python3 Jupyter Notebook (preferably inside of JupyterLab on localhost, optionally in the cloud).\n",
    "\n",
    "* import re\n",
    "\n",
    "* scan the web for choice examples or make up your own; collect in the Notebook, perhaps with added remarks that will help you review when the time comes.\n",
    "\n"
   ]
  },
  {
   "cell_type": "markdown",
   "id": "c90c9eef-424f-4f47-8775-a403f46a378c",
   "metadata": {},
   "source": [
    "<a data-flickr-embed=\"true\" href=\"https://www.flickr.com/photos/kirbyurner/52780919192/in/datetaken/\" title=\"Pattern Matching with Regexes\"><img src=\"https://live.staticflickr.com/65535/52780919192_3c0c5f4fee_o.png\" width=\"1062\" height=\"595\" alt=\"Pattern Matching with Regexes\"/></a><script async src=\"//embedr.flickr.com/assets/client-code.js\" charset=\"utf-8\"></script>"
   ]
  },
  {
   "cell_type": "code",
   "execution_count": 1,
   "id": "f44e7635-ef9e-48cd-8769-eaf79296abb6",
   "metadata": {},
   "outputs": [],
   "source": [
    "import re"
   ]
  },
  {
   "cell_type": "code",
   "execution_count": 27,
   "id": "8a0c61e1-0ca8-4405-8110-f02d2d20636f",
   "metadata": {},
   "outputs": [
    {
     "data": {
      "text/plain": [
       "'Ah'"
      ]
     },
     "execution_count": 27,
     "metadata": {},
     "output_type": "execute_result"
    }
   ],
   "source": [
    "re.search(\"Ah*\", \"Ah\").group()"
   ]
  },
  {
   "cell_type": "code",
   "execution_count": 28,
   "id": "2cca6538-ffb3-4d36-9869-eb700c366e29",
   "metadata": {},
   "outputs": [
    {
     "name": "stdout",
     "output_type": "stream",
     "text": [
      "Ah\n"
     ]
    }
   ],
   "source": [
    "m = re.search(\"Ah?\", \"Ahhhhhhh\")\n",
    "if m:\n",
    "    print(m.group())"
   ]
  },
  {
   "cell_type": "code",
   "execution_count": 29,
   "id": "a44f4c51-aa19-42a5-8254-81f6079771b9",
   "metadata": {},
   "outputs": [
    {
     "name": "stdout",
     "output_type": "stream",
     "text": [
      "Ahhhh\n"
     ]
    }
   ],
   "source": [
    "m = re.search(\"Ah+\", \"Ahhhh\")\n",
    "if m:\n",
    "    print(m.group())"
   ]
  },
  {
   "cell_type": "code",
   "execution_count": 30,
   "id": "4a91637a-90cc-467d-a998-f3435fc83e14",
   "metadata": {},
   "outputs": [
    {
     "name": "stdout",
     "output_type": "stream",
     "text": [
      "315\n"
     ]
    }
   ],
   "source": [
    "m = re.search(\"[0-9]{3}\", \"315\")\n",
    "if m:\n",
    "    print(m.group())"
   ]
  },
  {
   "cell_type": "markdown",
   "id": "6cf32fa0-825f-4965-a8fe-e95bd7745f3d",
   "metadata": {},
   "source": [
    "<a data-flickr-embed=\"true\" href=\"https://www.flickr.com/photos/kirbyurner/52781925773/in/album-72177720296706479/\" title=\"The Anatomy of a Regular Expression\"><img src=\"https://live.staticflickr.com/65535/52781925773_9063fcbd6a.jpg\" width=\"500\" height=\"280\" alt=\"The Anatomy of a Regular Expression\"/></a><script async src=\"//embedr.flickr.com/assets/client-code.js\" charset=\"utf-8\"></script>"
   ]
  },
  {
   "cell_type": "code",
   "execution_count": 56,
   "id": "a11569ad-7bde-4a43-8984-696849e2332b",
   "metadata": {},
   "outputs": [
    {
     "name": "stdout",
     "output_type": "stream",
     "text": [
      "['ABC', 'RRQ']\n"
     ]
    }
   ],
   "source": [
    "m = re.findall(r\"([\\D]{3})\", \"315ABC986858RRQM9009\")\n",
    "print(m)"
   ]
  },
  {
   "cell_type": "code",
   "execution_count": 58,
   "id": "10b5b864-d489-4249-bbf8-ee906fbfebc2",
   "metadata": {},
   "outputs": [
    {
     "name": "stdout",
     "output_type": "stream",
     "text": [
      "['black', 'blue']\n"
     ]
    }
   ],
   "source": [
    "s = \"black, blue and brown\"\n",
    "pattern = r'bl\\w+'\n",
    "matches = re.findall(pattern,s)\n",
    "\n",
    "print(matches)"
   ]
  },
  {
   "cell_type": "code",
   "execution_count": 57,
   "id": "0c790470-c78f-464a-8a5a-90c3c8ad24fd",
   "metadata": {},
   "outputs": [
    {
     "name": "stdout",
     "output_type": "stream",
     "text": [
      "['ack', 'ue']\n"
     ]
    }
   ],
   "source": [
    "s = \"black, blue and brown\"\n",
    "pattern = r'bl(\\w+)'\n",
    "matches = re.findall(pattern,s)\n",
    "\n",
    "print(matches\n",
    "      "
   ]
  },
  {
   "cell_type": "markdown",
   "id": "c7917581-01dc-4740-b514-47ed089924a7",
   "metadata": {},
   "source": [
    "Unlike Perl, which made Regexes a centerpiece of the language, Python tucks re's into a library named re."
   ]
  },
  {
   "cell_type": "markdown",
   "id": "7d4aeac8-53b3-4c01-b512-d9f0083b7146",
   "metadata": {},
   "source": [
    "<a data-flickr-embed=\"true\" href=\"https://www.flickr.com/photos/kirbyurner/44921793861/in/album-72177720296706479/\" title=\"python_history\"><img src=\"https://live.staticflickr.com/1950/44921793861_aa2f5f6c59.jpg\" width=\"500\" height=\"348\" alt=\"python_history\"/></a><script async src=\"//embedr.flickr.com/assets/client-code.js\" charset=\"utf-8\"></script>"
   ]
  },
  {
   "cell_type": "code",
   "execution_count": 59,
   "id": "f8eceea5-17b0-4db5-b888-380f354ff808",
   "metadata": {},
   "outputs": [
    {
     "data": {
      "text/plain": [
       "Copyright (c) 2001-2022 Python Software Foundation.\n",
       "All Rights Reserved.\n",
       "\n",
       "Copyright (c) 2000 BeOpen.com.\n",
       "All Rights Reserved.\n",
       "\n",
       "Copyright (c) 1995-2001 Corporation for National Research Initiatives.\n",
       "All Rights Reserved.\n",
       "\n",
       "Copyright (c) 1991-1995 Stichting Mathematisch Centrum, Amsterdam.\n",
       "All Rights Reserved."
      ]
     },
     "execution_count": 59,
     "metadata": {},
     "output_type": "execute_result"
    }
   ],
   "source": [
    "copyright"
   ]
  },
  {
   "cell_type": "markdown",
   "id": "2cb04255-64bd-46fd-99a4-778b76382057",
   "metadata": {},
   "source": [
    "#### Curated Links\n",
    "\n",
    "* [Regex101.com](https://regex101.com)\n",
    "* [Kleene Operators](https://regexone.com/lesson/kleene_operators)\n",
    "* [Archive Your Bookmarks in SQLite3](https://github.com/4dsolutions/clarusway_data_analysis/blob/main/DAwPy_S1_(Numpy_Arrays)/bookmarks.py)"
   ]
  }
 ],
 "metadata": {
  "kernelspec": {
   "display_name": "Python 3 (ipykernel)",
   "language": "python",
   "name": "python3"
  },
  "language_info": {
   "codemirror_mode": {
    "name": "ipython",
    "version": 3
   },
   "file_extension": ".py",
   "mimetype": "text/x-python",
   "name": "python",
   "nbconvert_exporter": "python",
   "pygments_lexer": "ipython3",
   "version": "3.9.15"
  }
 },
 "nbformat": 4,
 "nbformat_minor": 5
}
