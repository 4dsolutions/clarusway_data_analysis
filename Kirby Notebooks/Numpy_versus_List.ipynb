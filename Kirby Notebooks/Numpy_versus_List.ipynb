{
 "cells": [
  {
   "cell_type": "markdown",
   "id": "2dff313a-f734-48d2-8ac0-dda02166ea95",
   "metadata": {},
   "source": [
    "<a data-flickr-embed=\"true\" href=\"https://www.flickr.com/photos/kirbyurner/52030543667/in/dateposted-public/\" title=\"Zoom Background\"><img src=\"https://live.staticflickr.com/65535/52030543667_1ec272fe0c_w.jpg\" width=\"400\" height=\"225\" alt=\"Zoom Background\"></a><script async src=\"//embedr.flickr.com/assets/client-code.js\" charset=\"utf-8\"></script>\n",
    "\n",
    "#### Showing...\n",
    "\n",
    "How numpy array syntax might be developed from within Python, by extending Python's capabilities in ways the language permits.\n",
    "\n",
    "Towards Data Science:\n",
    "\n",
    "* [Dunder Methods](https://towardsdatascience.com/a-guide-to-pythons-dunder-methods-3b8104fce335)"
   ]
  },
  {
   "cell_type": "code",
   "execution_count": 1,
   "id": "4fcff3dd-5cd5-4174-a9e5-0005ccc12815",
   "metadata": {},
   "outputs": [
    {
     "data": {
      "text/plain": [
       "'3.11.2 (main, Mar 27 2023, 18:39:42) [Clang 14.0.6 ]'"
      ]
     },
     "execution_count": 1,
     "metadata": {},
     "output_type": "execute_result"
    }
   ],
   "source": [
    "import sys\n",
    "sys.version"
   ]
  },
  {
   "cell_type": "code",
   "execution_count": 2,
   "id": "0d0c11ed-90e1-4584-a204-00f480c2c26b",
   "metadata": {},
   "outputs": [],
   "source": [
    "import numpy as np"
   ]
  },
  {
   "cell_type": "markdown",
   "id": "996b7e36-93d6-42bc-8265-88338c552352",
   "metadata": {},
   "source": [
    "The elaborate indentation scheme used below may not be the most readable, however it follows the rules of syntax, so Python is happy."
   ]
  },
  {
   "cell_type": "code",
   "execution_count": 3,
   "id": "45f5abb5-7ae6-4100-8ba4-241db06b30e3",
   "metadata": {},
   "outputs": [],
   "source": [
    "ordinary_list = \\\n",
    "[\n",
    "\n",
    "    [    \n",
    "[1, 2, 3],\n",
    "[4, 5, 6]\n",
    "    ]\n",
    ",    \n",
    "    [    \n",
    "[1, 2, 3],\n",
    "[4, 5, 6]\n",
    "    ]\n",
    ",\n",
    "    [    \n",
    "[1, 2, 3],\n",
    "[4, 5, 6]\n",
    "    ]\n",
    "\n",
    "]"
   ]
  },
  {
   "cell_type": "markdown",
   "id": "c2731131-9e5a-4932-bd20-51af399d1eb5",
   "metadata": {},
   "source": [
    "Probably easier to read:"
   ]
  },
  {
   "cell_type": "code",
   "execution_count": 4,
   "id": "756b6ece-27c6-4411-a493-944b00f05c7e",
   "metadata": {},
   "outputs": [
    {
     "data": {
      "text/plain": [
       "[[[1, 2, 3], [4, 5, 6]], [[1, 2, 3], [4, 5, 6]], [[1, 2, 3], [4, 5, 6]]]"
      ]
     },
     "execution_count": 4,
     "metadata": {},
     "output_type": "execute_result"
    }
   ],
   "source": [
    "ordinary_list"
   ]
  },
  {
   "cell_type": "markdown",
   "id": "fb931ad1-7f56-4e38-9baa-68abb57b2c06",
   "metadata": {},
   "source": [
    "Lets use `ordinary_list` as our input, to create an n-dimensional array (ndarray) in the numpy namespace:"
   ]
  },
  {
   "cell_type": "code",
   "execution_count": 5,
   "id": "8aed7e76-fe08-4309-b56b-3d3ebd9b2ff0",
   "metadata": {},
   "outputs": [],
   "source": [
    "numpy_array = np.array(ordinary_list, dtype=int)"
   ]
  },
  {
   "cell_type": "markdown",
   "id": "1ff27439-92b9-41e7-9fc6-25d497fd5ead",
   "metadata": {},
   "source": [
    "Right away, we're able to confirm its shape in terms of how many slots per dimension, in this case three dimensions:"
   ]
  },
  {
   "cell_type": "code",
   "execution_count": 6,
   "id": "0eb2babc-f512-4a5e-b41f-13fe26b25b1b",
   "metadata": {},
   "outputs": [
    {
     "data": {
      "text/plain": [
       "(3, 2, 3)"
      ]
     },
     "execution_count": 6,
     "metadata": {},
     "output_type": "execute_result"
    }
   ],
   "source": [
    "numpy_array.shape"
   ]
  },
  {
   "cell_type": "code",
   "execution_count": 7,
   "id": "5cae19ef-b584-4835-9233-504b5013d3d0",
   "metadata": {},
   "outputs": [
    {
     "data": {
      "text/plain": [
       "3"
      ]
     },
     "execution_count": 7,
     "metadata": {},
     "output_type": "execute_result"
    }
   ],
   "source": [
    "numpy_array.ndim"
   ]
  },
  {
   "cell_type": "markdown",
   "id": "b0d3e0cf-7d64-4cce-a0e0-1142ab358e38",
   "metadata": {},
   "source": [
    "In ordinary Python, we're compelled to select along one dimension per index i.e. the brackets each contain a single integer, or at most a slice."
   ]
  },
  {
   "cell_type": "code",
   "execution_count": 8,
   "id": "19863cb2-82b1-4906-8931-49dbacf38132",
   "metadata": {},
   "outputs": [
    {
     "data": {
      "text/plain": [
       "5"
      ]
     },
     "execution_count": 8,
     "metadata": {},
     "output_type": "execute_result"
    }
   ],
   "source": [
    "ordinary_list[0][1][1]"
   ]
  },
  {
   "cell_type": "markdown",
   "id": "d7e0763d-5ef4-4012-b315-ea0576673b55",
   "metadata": {},
   "source": [
    "However with a numpy ndarray, we're able to select along all three axes within a single pair of brackets.  This is neither breaking Python syntax nor creating a dialect.  It's extending Python is ways the language itself allows, by means of redefining a couple special names, namely `__getitem__` and `__setitem__`."
   ]
  },
  {
   "cell_type": "code",
   "execution_count": 9,
   "id": "64f2f194-0ece-4a8c-be5d-ec8a703699da",
   "metadata": {},
   "outputs": [
    {
     "data": {
      "text/plain": [
       "5"
      ]
     },
     "execution_count": 9,
     "metadata": {},
     "output_type": "execute_result"
    }
   ],
   "source": [
    "numpy_array[0,1,1]"
   ]
  },
  {
   "cell_type": "code",
   "execution_count": 10,
   "id": "c1180b79-bd10-41d9-9578-55ec1be7465b",
   "metadata": {},
   "outputs": [
    {
     "name": "stdout",
     "output_type": "stream",
     "text": [
      "incorrect syntax\n"
     ]
    }
   ],
   "source": [
    "try:\n",
    "    ordinary_list[0,1,1]\n",
    "except:\n",
    "    print(\"incorrect syntax\")"
   ]
  },
  {
   "cell_type": "markdown",
   "id": "24a8169c-a4a7-442e-acbe-c85d0f3177a3",
   "metadata": {},
   "source": [
    "Lets see how Python itself might be molded to accept this kind of input:"
   ]
  },
  {
   "cell_type": "code",
   "execution_count": 11,
   "id": "1e735764-127b-4049-b496-46966d27bd81",
   "metadata": {},
   "outputs": [],
   "source": [
    "class Pretend_Array:\n",
    "    \n",
    "    def __init__(self, some_list):\n",
    "        self.the_list = some_list\n",
    "        \n",
    "    def __getitem__(self, coords):  # coords will be a tuple\n",
    "        x,y,z = coords              # unpacking assignment\n",
    "        return self.the_list[x][y][z]"
   ]
  },
  {
   "cell_type": "code",
   "execution_count": 12,
   "id": "218835fd-2324-47a7-ba83-060d768b027a",
   "metadata": {},
   "outputs": [],
   "source": [
    "pa = Pretend_Array(ordinary_list)"
   ]
  },
  {
   "cell_type": "code",
   "execution_count": 13,
   "id": "6010b6b7-da1a-4add-ba0c-b270d9e8ae0c",
   "metadata": {},
   "outputs": [
    {
     "data": {
      "text/plain": [
       "5"
      ]
     },
     "execution_count": 13,
     "metadata": {},
     "output_type": "execute_result"
    }
   ],
   "source": [
    "pa[0, 1, 1]   # emulating numpy array syntax"
   ]
  },
  {
   "cell_type": "markdown",
   "id": "b5bdba3e-f5c8-4838-b6a1-daf4b4f92088",
   "metadata": {},
   "source": [
    "We're free to pull our Python list back out again. "
   ]
  },
  {
   "cell_type": "code",
   "execution_count": 14,
   "id": "6fd9ebdf-a859-4c15-8eaa-643ae3e5a9e3",
   "metadata": {},
   "outputs": [
    {
     "data": {
      "text/plain": [
       "[[[1, 2, 3], [4, 5, 6]], [[1, 2, 3], [4, 5, 6]], [[1, 2, 3], [4, 5, 6]]]"
      ]
     },
     "execution_count": 14,
     "metadata": {},
     "output_type": "execute_result"
    }
   ],
   "source": [
    "numpy_array.tolist()"
   ]
  },
  {
   "cell_type": "markdown",
   "id": "41c4de9c-b613-4515-b7fb-5535aa15d053",
   "metadata": {},
   "source": [
    " Or initialize an ndarray and convert to Python for some reason, maybe because multi-dimensional shapes are easiest to define in a package built for that purpose."
   ]
  },
  {
   "cell_type": "code",
   "execution_count": 18,
   "id": "1fada441-d493-44d2-bd59-c1df67c0820b",
   "metadata": {},
   "outputs": [
    {
     "data": {
      "text/plain": [
       "[[[[7, 6, 7], [6, 5, 9], [2, 6, 6], [2, 1, 9]],\n",
       "  [[4, 5, 9], [2, 5, 1], [9, 7, 1], [2, 4, 3]],\n",
       "  [[2, 4, 6], [8, 6, 8], [8, 3, 8], [2, 1, 0]],\n",
       "  [[2, 1, 7], [2, 9, 8], [9, 7, 8], [4, 1, 3]]],\n",
       " [[[2, 3, 8], [9, 4, 4], [2, 3, 9], [0, 7, 9]],\n",
       "  [[5, 0, 1], [4, 0, 3], [7, 7, 9], [2, 3, 3]],\n",
       "  [[2, 9, 0], [1, 7, 8], [0, 4, 4], [5, 4, 3]],\n",
       "  [[6, 3, 3], [1, 4, 7], [1, 2, 4], [4, 8, 4]]],\n",
       " [[[0, 2, 5], [8, 8, 8], [7, 0, 0], [0, 5, 2]],\n",
       "  [[1, 3, 9], [0, 4, 6], [7, 3, 6], [5, 3, 0]],\n",
       "  [[2, 8, 7], [8, 8, 5], [8, 3, 1], [5, 7, 4]],\n",
       "  [[2, 1, 7], [8, 9, 0], [0, 0, 8], [8, 9, 1]]],\n",
       " [[[9, 3, 9], [0, 9, 5], [9, 3, 4], [7, 0, 9]],\n",
       "  [[0, 1, 1], [9, 6, 3], [4, 5, 5], [4, 7, 7]],\n",
       "  [[1, 0, 6], [9, 8, 9], [5, 3, 9], [4, 2, 4]],\n",
       "  [[1, 6, 0], [9, 2, 5], [8, 8, 5], [2, 7, 3]]],\n",
       " [[[9, 1, 5], [0, 9, 7], [9, 1, 9], [3, 1, 7]],\n",
       "  [[6, 3, 6], [7, 9, 1], [7, 2, 8], [2, 7, 6]],\n",
       "  [[3, 1, 1], [7, 6, 4], [9, 4, 4], [7, 8, 6]],\n",
       "  [[6, 6, 1], [2, 3, 0], [9, 2, 8], [3, 1, 0]]]]"
      ]
     },
     "execution_count": 18,
     "metadata": {},
     "output_type": "execute_result"
    }
   ],
   "source": [
    "shapes_array = np.random.randint(0, 10, (5, 4, 4, 3))\n",
    "py_list = shapes_array.tolist()\n",
    "py_list"
   ]
  },
  {
   "cell_type": "code",
   "execution_count": 19,
   "id": "38d529de-4484-4ece-ad03-cb73126a35d6",
   "metadata": {},
   "outputs": [
    {
     "data": {
      "text/plain": [
       "9"
      ]
     },
     "execution_count": 19,
     "metadata": {},
     "output_type": "execute_result"
    }
   ],
   "source": [
    "shapes_array[3, 2, 1, 2]"
   ]
  },
  {
   "cell_type": "code",
   "execution_count": 20,
   "id": "d2a53344-cdaa-45f6-81b4-7a07e6e97339",
   "metadata": {},
   "outputs": [
    {
     "data": {
      "text/plain": [
       "9"
      ]
     },
     "execution_count": 20,
     "metadata": {},
     "output_type": "execute_result"
    }
   ],
   "source": [
    "py_list[3][2][1][2]"
   ]
  }
 ],
 "metadata": {
  "kernelspec": {
   "display_name": "Python 3 (ipykernel)",
   "language": "python",
   "name": "python3"
  },
  "language_info": {
   "codemirror_mode": {
    "name": "ipython",
    "version": 3
   },
   "file_extension": ".py",
   "mimetype": "text/x-python",
   "name": "python",
   "nbconvert_exporter": "python",
   "pygments_lexer": "ipython3",
   "version": "3.11.2"
  }
 },
 "nbformat": 4,
 "nbformat_minor": 5
}
