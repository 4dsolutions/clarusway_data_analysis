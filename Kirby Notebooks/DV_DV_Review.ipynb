{
 "cells": [
  {
   "cell_type": "markdown",
   "id": "8de2780c-f67c-40b1-bb9b-6a051abd2ed4",
   "metadata": {},
   "source": [
    "___\n",
    "\n",
    "\n",
    "## <p style=\"background-color:#FDFEFE; font-family:newtimeroman; color:#9d4f8c; font-size:100%; text-align:center; border-radius:10px 10px;\">WAY TO REINVENT YOURSELF</p>"
   ]
  },
  {
   "cell_type": "markdown",
   "id": "15273a68-a458-4921-8b63-9f38ab02a2d6",
   "metadata": {},
   "source": [
    "## <p style=\"background-color:#9d4f8c; font-family:newtimeroman; color:#FFF9ED; font-size:150%; text-align:center; border-radius:10px 10px;\">CORE TOOLS</p>"
   ]
  },
  {
   "cell_type": "markdown",
   "id": "b983284b-c5ba-40bb-92ad-55067baa931f",
   "metadata": {},
   "source": [
    "Let us take this opportunity to provide ourselves with more overview.  Looking back, what have we learned?  Looking ahead, where to we want to focus our attention?"
   ]
  },
  {
   "cell_type": "markdown",
   "id": "d6fabdb0-3221-4330-8689-614135a00186",
   "metadata": {},
   "source": [
    "## Python\n",
    "\n",
    "Invented by Guido van Rossum, of the Netherlands.  exBDFL."
   ]
  },
  {
   "cell_type": "code",
   "execution_count": 30,
   "id": "9c115fa1-0c74-4bb0-b35b-5781ac6daad8",
   "metadata": {},
   "outputs": [
    {
     "name": "stdout",
     "output_type": "stream",
     "text": [
      "The Zen of Python, by Tim Peters\n",
      "\n",
      "Beautiful is better than ugly.\n",
      "Explicit is better than implicit.\n",
      "Simple is better than complex.\n",
      "Complex is better than complicated.\n",
      "Flat is better than nested.\n",
      "Sparse is better than dense.\n",
      "Readability counts.\n",
      "Special cases aren't special enough to break the rules.\n",
      "Although practicality beats purity.\n",
      "Errors should never pass silently.\n",
      "Unless explicitly silenced.\n",
      "In the face of ambiguity, refuse the temptation to guess.\n",
      "There should be one-- and preferably only one --obvious way to do it.\n",
      "Although that way may not be obvious at first unless you're Dutch.\n",
      "Now is better than never.\n",
      "Although never is often better than *right* now.\n",
      "If the implementation is hard to explain, it's a bad idea.\n",
      "If the implementation is easy to explain, it may be a good idea.\n",
      "Namespaces are one honking great idea -- let's do more of those!\n"
     ]
    }
   ],
   "source": [
    "import this"
   ]
  },
  {
   "cell_type": "code",
   "execution_count": 31,
   "id": "1c7d60ca-245e-4452-a669-eac5366475e8",
   "metadata": {},
   "outputs": [],
   "source": [
    "import antigravity"
   ]
  },
  {
   "cell_type": "markdown",
   "id": "16ba1247-5ac4-4064-9ad2-753c55ce06f3",
   "metadata": {},
   "source": [
    "### Numpy"
   ]
  },
  {
   "cell_type": "code",
   "execution_count": 2,
   "id": "669f1199-f5eb-4279-a6a8-4f524bdecef5",
   "metadata": {},
   "outputs": [
    {
     "data": {
      "text/plain": [
       "'1.21.5'"
      ]
     },
     "execution_count": 2,
     "metadata": {},
     "output_type": "execute_result"
    }
   ],
   "source": [
    "import numpy as np\n",
    "np.__version__"
   ]
  },
  {
   "cell_type": "code",
   "execution_count": 32,
   "id": "cbb68a46-55fa-45fd-bda9-bc2083598dab",
   "metadata": {},
   "outputs": [
    {
     "data": {
      "text/plain": [
       "'/Users/mac/opt/anaconda3/envs/new_world/lib/python3.9/site-packages/numpy/__init__.py'"
      ]
     },
     "execution_count": 32,
     "metadata": {},
     "output_type": "execute_result"
    }
   ],
   "source": [
    "np.__file__"
   ]
  },
  {
   "cell_type": "code",
   "execution_count": 6,
   "id": "7aa0d000-c8ee-4224-bc33-635fd1f61dff",
   "metadata": {},
   "outputs": [
    {
     "data": {
      "text/plain": [
       "array([ 4, 10, 18])"
      ]
     },
     "execution_count": 6,
     "metadata": {},
     "output_type": "execute_result"
    }
   ],
   "source": [
    "elem_product = np.array([1,2,3]) * np.array([4,5,6])\n",
    "elem_product"
   ]
  },
  {
   "cell_type": "markdown",
   "id": "0ab1ad07-1c66-4508-932c-42bea713505d",
   "metadata": {},
   "source": [
    "### Pandas"
   ]
  },
  {
   "cell_type": "code",
   "execution_count": 8,
   "id": "80927aa1-4439-402f-8e87-865bb7dbb899",
   "metadata": {},
   "outputs": [],
   "source": [
    "import pandas as pd\n",
    "from pandas import DataFrame, Series"
   ]
  },
  {
   "cell_type": "code",
   "execution_count": 22,
   "id": "2bfa2484-4cba-4c46-ace2-7ec06d7ebda5",
   "metadata": {},
   "outputs": [
    {
     "data": {
      "text/html": [
       "<div>\n",
       "<style scoped>\n",
       "    .dataframe tbody tr th:only-of-type {\n",
       "        vertical-align: middle;\n",
       "    }\n",
       "\n",
       "    .dataframe tbody tr th {\n",
       "        vertical-align: top;\n",
       "    }\n",
       "\n",
       "    .dataframe thead th {\n",
       "        text-align: right;\n",
       "    }\n",
       "</style>\n",
       "<table border=\"1\" class=\"dataframe\">\n",
       "  <thead>\n",
       "    <tr style=\"text-align: right;\">\n",
       "      <th></th>\n",
       "      <th>Rand_Int</th>\n",
       "      <th>Rand_Float</th>\n",
       "    </tr>\n",
       "  </thead>\n",
       "  <tbody>\n",
       "    <tr>\n",
       "      <th>0</th>\n",
       "      <td>11</td>\n",
       "      <td>1.189924</td>\n",
       "    </tr>\n",
       "    <tr>\n",
       "      <th>1</th>\n",
       "      <td>11</td>\n",
       "      <td>-0.792364</td>\n",
       "    </tr>\n",
       "    <tr>\n",
       "      <th>2</th>\n",
       "      <td>4</td>\n",
       "      <td>-0.605677</td>\n",
       "    </tr>\n",
       "    <tr>\n",
       "      <th>3</th>\n",
       "      <td>12</td>\n",
       "      <td>0.493370</td>\n",
       "    </tr>\n",
       "    <tr>\n",
       "      <th>4</th>\n",
       "      <td>7</td>\n",
       "      <td>0.518116</td>\n",
       "    </tr>\n",
       "  </tbody>\n",
       "</table>\n",
       "</div>"
      ],
      "text/plain": [
       "   Rand_Int  Rand_Float\n",
       "0        11    1.189924\n",
       "1        11   -0.792364\n",
       "2         4   -0.605677\n",
       "3        12    0.493370\n",
       "4         7    0.518116"
      ]
     },
     "execution_count": 22,
     "metadata": {},
     "output_type": "execute_result"
    }
   ],
   "source": [
    "col1 = Series(np.random.randint(1, 20, 200))\n",
    "col2 = Series(np.random.randn(200))\n",
    "df = pd.concat([col1, col2], axis=1)\n",
    "df.columns = ['Rand_Int', 'Rand_Float']\n",
    "df.head()"
   ]
  },
  {
   "cell_type": "code",
   "execution_count": 35,
   "id": "0052fd01-092f-4576-86ec-0a8545d5e5e7",
   "metadata": {},
   "outputs": [
    {
     "data": {
      "text/html": [
       "<div>\n",
       "<style scoped>\n",
       "    .dataframe tbody tr th:only-of-type {\n",
       "        vertical-align: middle;\n",
       "    }\n",
       "\n",
       "    .dataframe tbody tr th {\n",
       "        vertical-align: top;\n",
       "    }\n",
       "\n",
       "    .dataframe thead th {\n",
       "        text-align: right;\n",
       "    }\n",
       "</style>\n",
       "<table border=\"1\" class=\"dataframe\">\n",
       "  <thead>\n",
       "    <tr style=\"text-align: right;\">\n",
       "      <th></th>\n",
       "      <th>Rand_Int</th>\n",
       "      <th>Rand_Float</th>\n",
       "    </tr>\n",
       "  </thead>\n",
       "  <tbody>\n",
       "    <tr>\n",
       "      <th>16</th>\n",
       "      <td>10</td>\n",
       "      <td>1.597158</td>\n",
       "    </tr>\n",
       "    <tr>\n",
       "      <th>104</th>\n",
       "      <td>1</td>\n",
       "      <td>-1.143702</td>\n",
       "    </tr>\n",
       "    <tr>\n",
       "      <th>182</th>\n",
       "      <td>15</td>\n",
       "      <td>-0.091240</td>\n",
       "    </tr>\n",
       "    <tr>\n",
       "      <th>47</th>\n",
       "      <td>13</td>\n",
       "      <td>-1.920189</td>\n",
       "    </tr>\n",
       "    <tr>\n",
       "      <th>83</th>\n",
       "      <td>19</td>\n",
       "      <td>0.924127</td>\n",
       "    </tr>\n",
       "    <tr>\n",
       "      <th>54</th>\n",
       "      <td>3</td>\n",
       "      <td>-0.249907</td>\n",
       "    </tr>\n",
       "    <tr>\n",
       "      <th>2</th>\n",
       "      <td>4</td>\n",
       "      <td>-0.605677</td>\n",
       "    </tr>\n",
       "    <tr>\n",
       "      <th>118</th>\n",
       "      <td>15</td>\n",
       "      <td>-0.566176</td>\n",
       "    </tr>\n",
       "    <tr>\n",
       "      <th>39</th>\n",
       "      <td>4</td>\n",
       "      <td>0.006121</td>\n",
       "    </tr>\n",
       "    <tr>\n",
       "      <th>28</th>\n",
       "      <td>9</td>\n",
       "      <td>-0.663057</td>\n",
       "    </tr>\n",
       "  </tbody>\n",
       "</table>\n",
       "</div>"
      ],
      "text/plain": [
       "     Rand_Int  Rand_Float\n",
       "16         10    1.597158\n",
       "104         1   -1.143702\n",
       "182        15   -0.091240\n",
       "47         13   -1.920189\n",
       "83         19    0.924127\n",
       "54          3   -0.249907\n",
       "2           4   -0.605677\n",
       "118        15   -0.566176\n",
       "39          4    0.006121\n",
       "28          9   -0.663057"
      ]
     },
     "execution_count": 35,
     "metadata": {},
     "output_type": "execute_result"
    }
   ],
   "source": [
    "df.sample(10)"
   ]
  },
  {
   "cell_type": "markdown",
   "id": "5f9171ff-a08a-471a-b281-0de4c41c649a",
   "metadata": {},
   "source": [
    "## Matplotlib and Related Tools\n",
    "\n",
    "* matplotlib\n",
    "* matplotlib.pyplot\n",
    "* Seaborn\n",
    "* other packages"
   ]
  },
  {
   "cell_type": "code",
   "execution_count": 36,
   "id": "a9dd7d24-3518-43eb-ab30-3efe2cb720de",
   "metadata": {},
   "outputs": [],
   "source": [
    "import matplotlib.pyplot as plt"
   ]
  },
  {
   "cell_type": "code",
   "execution_count": 12,
   "id": "330118f5-2f27-4134-9383-5f54be64e502",
   "metadata": {},
   "outputs": [],
   "source": [
    "import seaborn as sns"
   ]
  },
  {
   "cell_type": "code",
   "execution_count": 29,
   "id": "d3c45a93-06d1-4678-aff4-37a3a94da23e",
   "metadata": {},
   "outputs": [
    {
     "data": {
      "image/png": "[encoded data removed]",
      "text/plain": [
       "<Figure size 432x288 with 1 Axes>"
      ]
     },
     "metadata": {
      "needs_background": "light"
     },
     "output_type": "display_data"
    }
   ],
   "source": [
    "sns.histplot(data = df, x=\"Rand_Float\", bins=20, kde=True)\n",
    "plt.title(\"From Numpy\");"
   ]
  },
  {
   "cell_type": "markdown",
   "id": "c6a137d7-0e61-4475-a8a9-95ad6eba3cb0",
   "metadata": {},
   "source": [
    "[Seaborn Histplot](https://seaborn.pydata.org/generated/seaborn.histplot.html)"
   ]
  },
  {
   "cell_type": "markdown",
   "id": "783ef6f9-9f23-4975-91bd-3ef4a4ac9412",
   "metadata": {},
   "source": [
    "## Data Science and Machine Learning Packages\n",
    "\n",
    "* scipy\n",
    "* sklearn (scikit-learn)\n",
    "* tensorflow\n",
    "* pytorch\n",
    "* jupyter\n",
    "* many additional Python libraries"
   ]
  },
  {
   "cell_type": "code",
   "execution_count": 10,
   "id": "79e9a5b1-93ad-44cf-832e-592731bb289f",
   "metadata": {},
   "outputs": [],
   "source": [
    "import statistics"
   ]
  },
  {
   "cell_type": "code",
   "execution_count": 25,
   "id": "59491da0-1dae-4eb3-bd46-870a54f65e92",
   "metadata": {},
   "outputs": [
    {
     "data": {
      "text/plain": [
       "\u001b[0;31mType:\u001b[0m        module\n",
       "\u001b[0;31mString form:\u001b[0m <module 'statistics' from '/Users/mac/opt/anaconda3/envs/new_world/lib/python3.9/statistics.py'>\n",
       "\u001b[0;31mFile:\u001b[0m        ~/opt/anaconda3/envs/new_world/lib/python3.9/statistics.py\n",
       "\u001b[0;31mDocstring:\u001b[0m  \n",
       "Basic statistics module.\n",
       "\n",
       "This module provides functions for calculating statistics of data, including\n",
       "averages, variance, and standard deviation.\n",
       "\n",
       "Calculating averages\n",
       "--------------------\n",
       "\n",
       "==================  ==================================================\n",
       "Function            Description\n",
       "==================  ==================================================\n",
       "mean                Arithmetic mean (average) of data.\n",
       "fmean               Fast, floating point arithmetic mean.\n",
       "geometric_mean      Geometric mean of data.\n",
       "harmonic_mean       Harmonic mean of data.\n",
       "median              Median (middle value) of data.\n",
       "median_low          Low median of data.\n",
       "median_high         High median of data.\n",
       "median_grouped      Median, or 50th percentile, of grouped data.\n",
       "mode                Mode (most common value) of data.\n",
       "multimode           List of modes (most common values of data).\n",
       "quantiles           Divide data into intervals with equal probability.\n",
       "==================  ==================================================\n",
       "\n",
       "Calculate the arithmetic mean (\"the average\") of data:\n",
       "\n",
       ">>> mean([-1.0, 2.5, 3.25, 5.75])\n",
       "2.625\n",
       "\n",
       "\n",
       "Calculate the standard median of discrete data:\n",
       "\n",
       ">>> median([2, 3, 4, 5])\n",
       "3.5\n",
       "\n",
       "\n",
       "Calculate the median, or 50th percentile, of data grouped into class intervals\n",
       "centred on the data values provided. E.g. if your data points are rounded to\n",
       "the nearest whole number:\n",
       "\n",
       ">>> median_grouped([2, 2, 3, 3, 3, 4])  #doctest: +ELLIPSIS\n",
       "2.8333333333...\n",
       "\n",
       "This should be interpreted in this way: you have two data points in the class\n",
       "interval 1.5-2.5, three data points in the class interval 2.5-3.5, and one in\n",
       "the class interval 3.5-4.5. The median of these data points is 2.8333...\n",
       "\n",
       "\n",
       "Calculating variability or spread\n",
       "---------------------------------\n",
       "\n",
       "==================  =============================================\n",
       "Function            Description\n",
       "==================  =============================================\n",
       "pvariance           Population variance of data.\n",
       "variance            Sample variance of data.\n",
       "pstdev              Population standard deviation of data.\n",
       "stdev               Sample standard deviation of data.\n",
       "==================  =============================================\n",
       "\n",
       "Calculate the standard deviation of sample data:\n",
       "\n",
       ">>> stdev([2.5, 3.25, 5.5, 11.25, 11.75])  #doctest: +ELLIPSIS\n",
       "4.38961843444...\n",
       "\n",
       "If you have previously calculated the mean, you can pass it as the optional\n",
       "second argument to the four \"spread\" functions to avoid recalculating it:\n",
       "\n",
       ">>> data = [1, 2, 2, 4, 4, 4, 5, 6]\n",
       ">>> mu = mean(data)\n",
       ">>> pvariance(data, mu)\n",
       "2.5\n",
       "\n",
       "\n",
       "Exceptions\n",
       "----------\n",
       "\n",
       "A single exception is defined: StatisticsError is a subclass of ValueError.\n"
      ]
     },
     "metadata": {},
     "output_type": "display_data"
    }
   ],
   "source": [
    "statistics?"
   ]
  },
  {
   "cell_type": "markdown",
   "id": "a8d0c1be-5647-4b47-b7e1-57d4756b05a5",
   "metadata": {},
   "source": [
    "## <p style=\"background-color:#9d4f8c; font-family:newtimeroman; color:#FFF9ED; font-size:150%; text-align:center; border-radius:10px 10px;\">THE WORKFLOW</p>"
   ]
  },
  {
   "cell_type": "markdown",
   "id": "323ff615-1297-4a80-8b5a-5ef6537e9e9b",
   "metadata": {},
   "source": [
    "## Design Data Gathering Phase\n",
    "\n",
    "Identify your population.  How will you obtain sample data?  What size of sample will you need?\n",
    "\n",
    "Is the raw data already available?  Do you have it?  Is it free?\n",
    "\n",
    "Draft a Data Dictionary.  Imagine the finished tables you would like to see and work backwards from that final result.\n",
    "\n",
    "Do the forms you need already exist?  Or something close.\n",
    "\n",
    "Will you be able to pipeline the data from another source, multiple sources?"
   ]
  },
  {
   "cell_type": "markdown",
   "id": "7f8c7da6-f848-4f0c-9c43-b4c908ad839c",
   "metadata": {},
   "source": [
    "## Gather and Store the Data\n",
    "\n",
    "What data structures will you use to store your data?  Will you be using an SQL database?  Are you importing the data?"
   ]
  },
  {
   "cell_type": "markdown",
   "id": "aac5a8cd-cbfe-47a6-9128-08b0a8c3e552",
   "metadata": {},
   "source": [
    "## Explore the Data\n",
    "\n",
    "Are you using Juypter or something similar?\n",
    "\n",
    "* Look for nulls (holes)\n",
    "* Look for inconsistencies\n",
    "* Look for correlations\n",
    "* What is the Data Dictionary i.e. did this dataset come with a column by column explanation of the contents?\n",
    "* Build a Data Dictionary (of metadata) if you do not have one and plan on having a long term relationship with this data set\n",
    "* what is the normal range for values in each column\n",
    "* Look for outliers"
   ]
  },
  {
   "cell_type": "markdown",
   "id": "d99d93af-2c81-4ec8-9e07-2bc58ad82f64",
   "metadata": {},
   "source": [
    "## Clean the Data\n",
    "\n",
    "* reorder and rename the columns\n",
    "* create a useful index\n",
    "* eliminate expendible records with bad data\n",
    "* change column types e.g. from numeric to category, or from string to datetime\n",
    "* impute values in place of nulls where it makes sense to do so\n",
    "* accommodate outliers by elimination or computation\n",
    "* use vizualization tools to check for anomolies (possibly bad data)\n",
    "* document your decisions and potentially keep multiple versions handy, for parallel investigations (e.g. with, and without outliers)"
   ]
  },
  {
   "cell_type": "markdown",
   "id": "109e7ffa-559c-470f-aa2d-a9da091a25a7",
   "metadata": {},
   "source": [
    "## Share the Data\n",
    "\n",
    "Clean data is of value in itself.  Sharing does not necessarily mean making \"world readable\".  Organizational effectiveness may increase when internal resources become known.  Allow others to capitalize on your data in new ways."
   ]
  },
  {
   "cell_type": "markdown",
   "id": "a9783ec1-6fd9-4c99-86f0-8322628ac5e0",
   "metadata": {},
   "source": [
    "## Interpret the Data\n",
    "\n",
    "After this much work with the data, you are probably starting to build some testable intuitions about it.  You are unlikely to complete you analysis at this point.  However even engineering new features may require some insights into what fields will count the most, towards whatever it is you wish to predict."
   ]
  },
  {
   "cell_type": "markdown",
   "id": "c3724bb5-42ec-46de-ab95-d8a96bd5d7ee",
   "metadata": {},
   "source": [
    "## Engineer New Features\n",
    "\n",
    "* breakout timestamps into year, month, day, hours (columns)\n",
    "* implement one-hot encoding with get_dummies etc.\n",
    "* combine fields e.g. year and month into year_month\n",
    "* add computed fields that idealize messy data"
   ]
  },
  {
   "cell_type": "markdown",
   "id": "adaf38f8-2714-4eae-9b87-51bdb764347f",
   "metadata": {},
   "source": [
    "## <p style=\"background-color:#9d4f8c; font-family:newtimeroman; color:#FFF9ED; font-size:150%; text-align:center; border-radius:10px 10px;\">GOALS</p>"
   ]
  },
  {
   "cell_type": "markdown",
   "id": "6e3e5849-8832-40d7-bf38-0daa7328654e",
   "metadata": {
    "jp-MarkdownHeadingCollapsed": true,
    "tags": []
   },
   "source": [
    " ## Respond to Clients\n",
    "\n",
    "Is your client focused on the future or on proving some point about the past?  \n",
    "\n",
    "Who are the customers for your analyzed data?  Perhaps you are your own customer, doing independent research, but you are writing a book or article, and you have an idea of your readers and/or audience.\n",
    "\n",
    "Understanding the needs of your clients brings us full circle back to designing the data gathering phase.  Do you need to refine your whole process starting with improving your sources of data?  Perhaps the situation is satisfactory as is.\n",
    " \n",
    " * Improve my effectiveness with tools, through practice\n",
    " * Continue my independent study of Data Science\n",
    " * Generate summary data vizualizations that tell a story\n",
    " * Train models on features (X) to predict outcomes (y)\n",
    " * Produce publication-ready tables and graphics\n",
    " * Document / Implement a Workflow\n",
    " * Preserve Case Studies / Analysis"
   ]
  }
 ],
 "metadata": {
  "kernelspec": {
   "display_name": "Python 3 (ipykernel)",
   "language": "python",
   "name": "python3"
  },
  "language_info": {
   "codemirror_mode": {
    "name": "ipython",
    "version": 3
   },
   "file_extension": ".py",
   "mimetype": "text/x-python",
   "name": "python",
   "nbconvert_exporter": "python",
   "pygments_lexer": "ipython3",
   "version": "3.9.15"
  }
 },
 "nbformat": 4,
 "nbformat_minor": 5
}
