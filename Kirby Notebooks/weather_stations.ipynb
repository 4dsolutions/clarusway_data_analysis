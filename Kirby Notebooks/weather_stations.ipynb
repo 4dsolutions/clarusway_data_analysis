{
 "cells": [
  {
   "cell_type": "markdown",
   "id": "0bf2da1d-f0de-493b-a54f-94e362941f6f",
   "metadata": {
    "tags": []
   },
   "source": [
    "<a data-flickr-embed=\"true\" href=\"https://www.flickr.com/photos/spencerthomas/3358995694/\" title=\"Camano Island Radar\"><img src=\"https://live.staticflickr.com/3612/3358995694_37e575e038_c.jpg\" width=\"800\" height=\"532\" alt=\"Camano Island Radar\"/></a><script async src=\"//embedr.flickr.com/assets/client-code.js\" charset=\"utf-8\"></script>\n",
    "<br />\n",
    "KATX Camano Island, by Spencer Thomas CC-BY-2.0\n",
    "\n",
    "## Plotting NEXRAD Weather Stations\n",
    "\n",
    "Aside from having glimpsed one of these (KATX) through the trees recently, I'm showing off the capabilities of the pyplot / dash ecosystem vs-a-vs GIS type visualizations.  I found a perfect data set for illustrative / demo purposes."
   ]
  },
  {
   "cell_type": "code",
   "execution_count": 1,
   "id": "9fe27bfe-c935-4cba-839e-5ddc567023f7",
   "metadata": {},
   "outputs": [
    {
     "data": {
      "text/html": [
       "        <script type=\"text/javascript\">\n",
       "        window.PlotlyConfig = {MathJaxConfig: 'local'};\n",
       "        if (window.MathJax && window.MathJax.Hub && window.MathJax.Hub.Config) {window.MathJax.Hub.Config({SVG: {font: \"STIX-Web\"}});}\n",
       "        if (typeof require !== 'undefined') {\n",
       "        require.undef(\"plotly\");\n",
       "        requirejs.config({\n",
       "            paths: {\n",
       "                'plotly': ['https://cdn.plot.ly/plotly-2.12.1.min']\n",
       "            }\n",
       "        });\n",
       "        require(['plotly'], function(Plotly) {\n",
       "            window._Plotly = Plotly;\n",
       "        });\n",
       "        }\n",
       "        </script>\n",
       "        "
      ]
     },
     "metadata": {},
     "output_type": "display_data"
    },
    {
     "data": {
      "text/html": [
       "        <script type=\"text/javascript\">\n",
       "        window.PlotlyConfig = {MathJaxConfig: 'local'};\n",
       "        if (window.MathJax && window.MathJax.Hub && window.MathJax.Hub.Config) {window.MathJax.Hub.Config({SVG: {font: \"STIX-Web\"}});}\n",
       "        if (typeof require !== 'undefined') {\n",
       "        require.undef(\"plotly\");\n",
       "        requirejs.config({\n",
       "            paths: {\n",
       "                'plotly': ['https://cdn.plot.ly/plotly-2.12.1.min']\n",
       "            }\n",
       "        });\n",
       "        require(['plotly'], function(Plotly) {\n",
       "            window._Plotly = Plotly;\n",
       "        });\n",
       "        }\n",
       "        </script>\n",
       "        "
      ]
     },
     "metadata": {},
     "output_type": "display_data"
    }
   ],
   "source": [
    "import numpy as np\n",
    "import pandas as pd\n",
    "\n",
    "import plotly as py\n",
    "import cufflinks as cf\n",
    "import seaborn as sns\n",
    "import plotly.express as px\n",
    "%matplotlib inline\n",
    "\n",
    "# Make Plotly work in your Jupyter Notebook\n",
    "from plotly.offline import download_plotlyjs, init_notebook_mode, plot, iplot\n",
    "init_notebook_mode(connected=True)\n",
    "# Use Plotly locally\n",
    "cf.go_offline()"
   ]
  },
  {
   "cell_type": "code",
   "execution_count": 2,
   "id": "5a428f74-587e-4271-8ac8-db51fad698f9",
   "metadata": {},
   "outputs": [],
   "source": [
    "weather_station_data = pd.read_html(\"https://apollo.nvu.vsc.edu/classes/remote/lecture_notes/radar/88d/88D_locations.html\")"
   ]
  },
  {
   "cell_type": "code",
   "execution_count": 3,
   "id": "7276a7df-84cd-4366-b06a-098b26ab9435",
   "metadata": {},
   "outputs": [
    {
     "data": {
      "text/html": [
       "<div>\n",
       "<style scoped>\n",
       "    .dataframe tbody tr th:only-of-type {\n",
       "        vertical-align: middle;\n",
       "    }\n",
       "\n",
       "    .dataframe tbody tr th {\n",
       "        vertical-align: top;\n",
       "    }\n",
       "\n",
       "    .dataframe thead th {\n",
       "        text-align: right;\n",
       "    }\n",
       "</style>\n",
       "<table border=\"1\" class=\"dataframe\">\n",
       "  <thead>\n",
       "    <tr style=\"text-align: right;\">\n",
       "      <th></th>\n",
       "      <th>0</th>\n",
       "      <th>1</th>\n",
       "      <th>2</th>\n",
       "      <th>3</th>\n",
       "      <th>4</th>\n",
       "      <th>5</th>\n",
       "    </tr>\n",
       "  </thead>\n",
       "  <tbody>\n",
       "    <tr>\n",
       "      <th>0</th>\n",
       "      <td>WBAN #</td>\n",
       "      <td>STATION ID</td>\n",
       "      <td>STATION NAME</td>\n",
       "      <td>LAT N/ LONG W (deg,min,sec)</td>\n",
       "      <td>ELEV (ft)</td>\n",
       "      <td>TOWER HEIGHT (m)</td>\n",
       "    </tr>\n",
       "    <tr>\n",
       "      <th>1</th>\n",
       "      <td>14929</td>\n",
       "      <td>KABR</td>\n",
       "      <td>Aberdeen, SD</td>\n",
       "      <td>452721 / 0982447</td>\n",
       "      <td>1302</td>\n",
       "      <td>20</td>\n",
       "    </tr>\n",
       "    <tr>\n",
       "      <th>2</th>\n",
       "      <td>54766</td>\n",
       "      <td>KENX</td>\n",
       "      <td>Albany, NY</td>\n",
       "      <td>423511 / 0740350</td>\n",
       "      <td>1826</td>\n",
       "      <td>20</td>\n",
       "    </tr>\n",
       "    <tr>\n",
       "      <th>3</th>\n",
       "      <td>03019</td>\n",
       "      <td>KABX</td>\n",
       "      <td>Albuquerque, NM</td>\n",
       "      <td>350859 / 1064926</td>\n",
       "      <td>5870</td>\n",
       "      <td>20</td>\n",
       "    </tr>\n",
       "    <tr>\n",
       "      <th>4</th>\n",
       "      <td>03981</td>\n",
       "      <td>KFDR</td>\n",
       "      <td>Altus AFB, OK</td>\n",
       "      <td>342144 / 0985835</td>\n",
       "      <td>1267</td>\n",
       "      <td>10</td>\n",
       "    </tr>\n",
       "    <tr>\n",
       "      <th>...</th>\n",
       "      <td>...</td>\n",
       "      <td>...</td>\n",
       "      <td>...</td>\n",
       "      <td>...</td>\n",
       "      <td>...</td>\n",
       "      <td>...</td>\n",
       "    </tr>\n",
       "    <tr>\n",
       "      <th>154</th>\n",
       "      <td>03995</td>\n",
       "      <td>KVNX</td>\n",
       "      <td>Vance AFB, OK</td>\n",
       "      <td>364427 / 0980740</td>\n",
       "      <td>1210</td>\n",
       "      <td>10</td>\n",
       "    </tr>\n",
       "    <tr>\n",
       "      <th>155</th>\n",
       "      <td>93234</td>\n",
       "      <td>KVBX</td>\n",
       "      <td>Vandenberg AFB, CA</td>\n",
       "      <td>345017 / 1202349</td>\n",
       "      <td>1223</td>\n",
       "      <td>20</td>\n",
       "    </tr>\n",
       "    <tr>\n",
       "      <th>156</th>\n",
       "      <td>03928</td>\n",
       "      <td>KICT</td>\n",
       "      <td>Wichita, KS</td>\n",
       "      <td>373917 / 0972634</td>\n",
       "      <td>1335</td>\n",
       "      <td>10</td>\n",
       "    </tr>\n",
       "    <tr>\n",
       "      <th>157</th>\n",
       "      <td>93774</td>\n",
       "      <td>KLTX</td>\n",
       "      <td>Wilmington, NC</td>\n",
       "      <td>335922 / 0782544</td>\n",
       "      <td>64</td>\n",
       "      <td>20</td>\n",
       "    </tr>\n",
       "    <tr>\n",
       "      <th>158</th>\n",
       "      <td>53116</td>\n",
       "      <td>KYUX</td>\n",
       "      <td>Yuma, AZ</td>\n",
       "      <td>322943 / 1143924</td>\n",
       "      <td>174</td>\n",
       "      <td>10</td>\n",
       "    </tr>\n",
       "  </tbody>\n",
       "</table>\n",
       "<p>159 rows × 6 columns</p>\n",
       "</div>"
      ],
      "text/plain": [
       "          0           1                   2                            3  \\\n",
       "0    WBAN #  STATION ID        STATION NAME  LAT N/ LONG W (deg,min,sec)   \n",
       "1     14929        KABR        Aberdeen, SD             452721 / 0982447   \n",
       "2     54766        KENX          Albany, NY             423511 / 0740350   \n",
       "3     03019        KABX     Albuquerque, NM             350859 / 1064926   \n",
       "4     03981        KFDR       Altus AFB, OK             342144 / 0985835   \n",
       "..      ...         ...                 ...                          ...   \n",
       "154   03995        KVNX       Vance AFB, OK             364427 / 0980740   \n",
       "155   93234        KVBX  Vandenberg AFB, CA             345017 / 1202349   \n",
       "156   03928        KICT         Wichita, KS             373917 / 0972634   \n",
       "157   93774        KLTX      Wilmington, NC             335922 / 0782544   \n",
       "158   53116        KYUX            Yuma, AZ             322943 / 1143924   \n",
       "\n",
       "             4                 5  \n",
       "0    ELEV (ft)  TOWER HEIGHT (m)  \n",
       "1         1302                20  \n",
       "2         1826                20  \n",
       "3         5870                20  \n",
       "4         1267                10  \n",
       "..         ...               ...  \n",
       "154       1210                10  \n",
       "155       1223                20  \n",
       "156       1335                10  \n",
       "157         64                20  \n",
       "158        174                10  \n",
       "\n",
       "[159 rows x 6 columns]"
      ]
     },
     "execution_count": 3,
     "metadata": {},
     "output_type": "execute_result"
    }
   ],
   "source": [
    "wr = weather_station_data[0]\n",
    "wr"
   ]
  },
  {
   "cell_type": "code",
   "execution_count": 4,
   "id": "9ea6013e-2617-4067-80da-6bb8694b5a0c",
   "metadata": {},
   "outputs": [
    {
     "data": {
      "text/plain": [
       "0                         WBAN #\n",
       "1                     STATION ID\n",
       "2                   STATION NAME\n",
       "3    LAT N/ LONG W (deg,min,sec)\n",
       "4                      ELEV (ft)\n",
       "5               TOWER HEIGHT (m)\n",
       "Name: 0, dtype: object"
      ]
     },
     "execution_count": 4,
     "metadata": {},
     "output_type": "execute_result"
    }
   ],
   "source": [
    "wr.iloc[0,:]"
   ]
  },
  {
   "cell_type": "code",
   "execution_count": 5,
   "id": "c0ee1238-c16d-4745-9208-7e2577b276da",
   "metadata": {},
   "outputs": [],
   "source": [
    "columns = [\"WBAN\", \"STATION_ID\", \"STATION_NAME\", \"LAT_LONG\", \"ELEV_ft\", \"HEIGHT_m\"]"
   ]
  },
  {
   "cell_type": "code",
   "execution_count": 6,
   "id": "402d7ab1-5b0d-49be-80e4-32cab84dc0b5",
   "metadata": {},
   "outputs": [
    {
     "data": {
      "text/html": [
       "<div>\n",
       "<style scoped>\n",
       "    .dataframe tbody tr th:only-of-type {\n",
       "        vertical-align: middle;\n",
       "    }\n",
       "\n",
       "    .dataframe tbody tr th {\n",
       "        vertical-align: top;\n",
       "    }\n",
       "\n",
       "    .dataframe thead th {\n",
       "        text-align: right;\n",
       "    }\n",
       "</style>\n",
       "<table border=\"1\" class=\"dataframe\">\n",
       "  <thead>\n",
       "    <tr style=\"text-align: right;\">\n",
       "      <th></th>\n",
       "      <th>WBAN</th>\n",
       "      <th>STATION_ID</th>\n",
       "      <th>STATION_NAME</th>\n",
       "      <th>LAT_LONG</th>\n",
       "      <th>ELEV_ft</th>\n",
       "      <th>HEIGHT_m</th>\n",
       "    </tr>\n",
       "  </thead>\n",
       "  <tbody>\n",
       "    <tr>\n",
       "      <th>0</th>\n",
       "      <td>WBAN #</td>\n",
       "      <td>STATION ID</td>\n",
       "      <td>STATION NAME</td>\n",
       "      <td>LAT N/ LONG W (deg,min,sec)</td>\n",
       "      <td>ELEV (ft)</td>\n",
       "      <td>TOWER HEIGHT (m)</td>\n",
       "    </tr>\n",
       "    <tr>\n",
       "      <th>1</th>\n",
       "      <td>14929</td>\n",
       "      <td>KABR</td>\n",
       "      <td>Aberdeen, SD</td>\n",
       "      <td>452721 / 0982447</td>\n",
       "      <td>1302</td>\n",
       "      <td>20</td>\n",
       "    </tr>\n",
       "    <tr>\n",
       "      <th>2</th>\n",
       "      <td>54766</td>\n",
       "      <td>KENX</td>\n",
       "      <td>Albany, NY</td>\n",
       "      <td>423511 / 0740350</td>\n",
       "      <td>1826</td>\n",
       "      <td>20</td>\n",
       "    </tr>\n",
       "    <tr>\n",
       "      <th>3</th>\n",
       "      <td>03019</td>\n",
       "      <td>KABX</td>\n",
       "      <td>Albuquerque, NM</td>\n",
       "      <td>350859 / 1064926</td>\n",
       "      <td>5870</td>\n",
       "      <td>20</td>\n",
       "    </tr>\n",
       "    <tr>\n",
       "      <th>4</th>\n",
       "      <td>03981</td>\n",
       "      <td>KFDR</td>\n",
       "      <td>Altus AFB, OK</td>\n",
       "      <td>342144 / 0985835</td>\n",
       "      <td>1267</td>\n",
       "      <td>10</td>\n",
       "    </tr>\n",
       "    <tr>\n",
       "      <th>...</th>\n",
       "      <td>...</td>\n",
       "      <td>...</td>\n",
       "      <td>...</td>\n",
       "      <td>...</td>\n",
       "      <td>...</td>\n",
       "      <td>...</td>\n",
       "    </tr>\n",
       "    <tr>\n",
       "      <th>154</th>\n",
       "      <td>03995</td>\n",
       "      <td>KVNX</td>\n",
       "      <td>Vance AFB, OK</td>\n",
       "      <td>364427 / 0980740</td>\n",
       "      <td>1210</td>\n",
       "      <td>10</td>\n",
       "    </tr>\n",
       "    <tr>\n",
       "      <th>155</th>\n",
       "      <td>93234</td>\n",
       "      <td>KVBX</td>\n",
       "      <td>Vandenberg AFB, CA</td>\n",
       "      <td>345017 / 1202349</td>\n",
       "      <td>1223</td>\n",
       "      <td>20</td>\n",
       "    </tr>\n",
       "    <tr>\n",
       "      <th>156</th>\n",
       "      <td>03928</td>\n",
       "      <td>KICT</td>\n",
       "      <td>Wichita, KS</td>\n",
       "      <td>373917 / 0972634</td>\n",
       "      <td>1335</td>\n",
       "      <td>10</td>\n",
       "    </tr>\n",
       "    <tr>\n",
       "      <th>157</th>\n",
       "      <td>93774</td>\n",
       "      <td>KLTX</td>\n",
       "      <td>Wilmington, NC</td>\n",
       "      <td>335922 / 0782544</td>\n",
       "      <td>64</td>\n",
       "      <td>20</td>\n",
       "    </tr>\n",
       "    <tr>\n",
       "      <th>158</th>\n",
       "      <td>53116</td>\n",
       "      <td>KYUX</td>\n",
       "      <td>Yuma, AZ</td>\n",
       "      <td>322943 / 1143924</td>\n",
       "      <td>174</td>\n",
       "      <td>10</td>\n",
       "    </tr>\n",
       "  </tbody>\n",
       "</table>\n",
       "<p>159 rows × 6 columns</p>\n",
       "</div>"
      ],
      "text/plain": [
       "       WBAN  STATION_ID        STATION_NAME                     LAT_LONG  \\\n",
       "0    WBAN #  STATION ID        STATION NAME  LAT N/ LONG W (deg,min,sec)   \n",
       "1     14929        KABR        Aberdeen, SD             452721 / 0982447   \n",
       "2     54766        KENX          Albany, NY             423511 / 0740350   \n",
       "3     03019        KABX     Albuquerque, NM             350859 / 1064926   \n",
       "4     03981        KFDR       Altus AFB, OK             342144 / 0985835   \n",
       "..      ...         ...                 ...                          ...   \n",
       "154   03995        KVNX       Vance AFB, OK             364427 / 0980740   \n",
       "155   93234        KVBX  Vandenberg AFB, CA             345017 / 1202349   \n",
       "156   03928        KICT         Wichita, KS             373917 / 0972634   \n",
       "157   93774        KLTX      Wilmington, NC             335922 / 0782544   \n",
       "158   53116        KYUX            Yuma, AZ             322943 / 1143924   \n",
       "\n",
       "       ELEV_ft          HEIGHT_m  \n",
       "0    ELEV (ft)  TOWER HEIGHT (m)  \n",
       "1         1302                20  \n",
       "2         1826                20  \n",
       "3         5870                20  \n",
       "4         1267                10  \n",
       "..         ...               ...  \n",
       "154       1210                10  \n",
       "155       1223                20  \n",
       "156       1335                10  \n",
       "157         64                20  \n",
       "158        174                10  \n",
       "\n",
       "[159 rows x 6 columns]"
      ]
     },
     "execution_count": 6,
     "metadata": {},
     "output_type": "execute_result"
    }
   ],
   "source": [
    "wr.columns = columns\n",
    "wr"
   ]
  },
  {
   "cell_type": "code",
   "execution_count": 7,
   "id": "ef381191-94f8-4483-9b83-39321f284a78",
   "metadata": {},
   "outputs": [],
   "source": [
    "wr.drop(0, inplace=True)"
   ]
  },
  {
   "cell_type": "code",
   "execution_count": 8,
   "id": "a5b0c97c-5603-4e90-8ba3-32ebeb1ea3a9",
   "metadata": {},
   "outputs": [
    {
     "data": {
      "text/html": [
       "<div>\n",
       "<style scoped>\n",
       "    .dataframe tbody tr th:only-of-type {\n",
       "        vertical-align: middle;\n",
       "    }\n",
       "\n",
       "    .dataframe tbody tr th {\n",
       "        vertical-align: top;\n",
       "    }\n",
       "\n",
       "    .dataframe thead th {\n",
       "        text-align: right;\n",
       "    }\n",
       "</style>\n",
       "<table border=\"1\" class=\"dataframe\">\n",
       "  <thead>\n",
       "    <tr style=\"text-align: right;\">\n",
       "      <th></th>\n",
       "      <th>WBAN</th>\n",
       "      <th>STATION_ID</th>\n",
       "      <th>STATION_NAME</th>\n",
       "      <th>LAT_LONG</th>\n",
       "      <th>ELEV_ft</th>\n",
       "      <th>HEIGHT_m</th>\n",
       "    </tr>\n",
       "  </thead>\n",
       "  <tbody>\n",
       "    <tr>\n",
       "      <th>1</th>\n",
       "      <td>14929</td>\n",
       "      <td>KABR</td>\n",
       "      <td>Aberdeen, SD</td>\n",
       "      <td>452721 / 0982447</td>\n",
       "      <td>1302</td>\n",
       "      <td>20</td>\n",
       "    </tr>\n",
       "    <tr>\n",
       "      <th>2</th>\n",
       "      <td>54766</td>\n",
       "      <td>KENX</td>\n",
       "      <td>Albany, NY</td>\n",
       "      <td>423511 / 0740350</td>\n",
       "      <td>1826</td>\n",
       "      <td>20</td>\n",
       "    </tr>\n",
       "    <tr>\n",
       "      <th>3</th>\n",
       "      <td>03019</td>\n",
       "      <td>KABX</td>\n",
       "      <td>Albuquerque, NM</td>\n",
       "      <td>350859 / 1064926</td>\n",
       "      <td>5870</td>\n",
       "      <td>20</td>\n",
       "    </tr>\n",
       "    <tr>\n",
       "      <th>4</th>\n",
       "      <td>03981</td>\n",
       "      <td>KFDR</td>\n",
       "      <td>Altus AFB, OK</td>\n",
       "      <td>342144 / 0985835</td>\n",
       "      <td>1267</td>\n",
       "      <td>10</td>\n",
       "    </tr>\n",
       "    <tr>\n",
       "      <th>5</th>\n",
       "      <td>23047</td>\n",
       "      <td>KAMA</td>\n",
       "      <td>Amarillo, TX</td>\n",
       "      <td>351400 / 1014233</td>\n",
       "      <td>3587</td>\n",
       "      <td>20</td>\n",
       "    </tr>\n",
       "    <tr>\n",
       "      <th>...</th>\n",
       "      <td>...</td>\n",
       "      <td>...</td>\n",
       "      <td>...</td>\n",
       "      <td>...</td>\n",
       "      <td>...</td>\n",
       "      <td>...</td>\n",
       "    </tr>\n",
       "    <tr>\n",
       "      <th>154</th>\n",
       "      <td>03995</td>\n",
       "      <td>KVNX</td>\n",
       "      <td>Vance AFB, OK</td>\n",
       "      <td>364427 / 0980740</td>\n",
       "      <td>1210</td>\n",
       "      <td>10</td>\n",
       "    </tr>\n",
       "    <tr>\n",
       "      <th>155</th>\n",
       "      <td>93234</td>\n",
       "      <td>KVBX</td>\n",
       "      <td>Vandenberg AFB, CA</td>\n",
       "      <td>345017 / 1202349</td>\n",
       "      <td>1223</td>\n",
       "      <td>20</td>\n",
       "    </tr>\n",
       "    <tr>\n",
       "      <th>156</th>\n",
       "      <td>03928</td>\n",
       "      <td>KICT</td>\n",
       "      <td>Wichita, KS</td>\n",
       "      <td>373917 / 0972634</td>\n",
       "      <td>1335</td>\n",
       "      <td>10</td>\n",
       "    </tr>\n",
       "    <tr>\n",
       "      <th>157</th>\n",
       "      <td>93774</td>\n",
       "      <td>KLTX</td>\n",
       "      <td>Wilmington, NC</td>\n",
       "      <td>335922 / 0782544</td>\n",
       "      <td>64</td>\n",
       "      <td>20</td>\n",
       "    </tr>\n",
       "    <tr>\n",
       "      <th>158</th>\n",
       "      <td>53116</td>\n",
       "      <td>KYUX</td>\n",
       "      <td>Yuma, AZ</td>\n",
       "      <td>322943 / 1143924</td>\n",
       "      <td>174</td>\n",
       "      <td>10</td>\n",
       "    </tr>\n",
       "  </tbody>\n",
       "</table>\n",
       "<p>158 rows × 6 columns</p>\n",
       "</div>"
      ],
      "text/plain": [
       "      WBAN STATION_ID        STATION_NAME          LAT_LONG ELEV_ft HEIGHT_m\n",
       "1    14929       KABR        Aberdeen, SD  452721 / 0982447    1302       20\n",
       "2    54766       KENX          Albany, NY  423511 / 0740350    1826       20\n",
       "3    03019       KABX     Albuquerque, NM  350859 / 1064926    5870       20\n",
       "4    03981       KFDR       Altus AFB, OK  342144 / 0985835    1267       10\n",
       "5    23047       KAMA        Amarillo, TX  351400 / 1014233    3587       20\n",
       "..     ...        ...                 ...               ...     ...      ...\n",
       "154  03995       KVNX       Vance AFB, OK  364427 / 0980740    1210       10\n",
       "155  93234       KVBX  Vandenberg AFB, CA  345017 / 1202349    1223       20\n",
       "156  03928       KICT         Wichita, KS  373917 / 0972634    1335       10\n",
       "157  93774       KLTX      Wilmington, NC  335922 / 0782544      64       20\n",
       "158  53116       KYUX            Yuma, AZ  322943 / 1143924     174       10\n",
       "\n",
       "[158 rows x 6 columns]"
      ]
     },
     "execution_count": 8,
     "metadata": {},
     "output_type": "execute_result"
    }
   ],
   "source": [
    "wr"
   ]
  },
  {
   "cell_type": "markdown",
   "id": "95f3a61d-d481-49fb-8f2f-f2604ecbece0",
   "metadata": {},
   "source": [
    "Let's do a study with some similar data, in order to study the required lat / long formatting especially.  We see a need for decimal degrees.  \n",
    "\n",
    "Whereas our current table has string format lat / long in degrees, minutes, seconds with no separation between digits."
   ]
  },
  {
   "cell_type": "code",
   "execution_count": 9,
   "id": "4c50022b-0278-4eda-9ce8-f9248c1d74b0",
   "metadata": {},
   "outputs": [],
   "source": [
    "us_cities = pd.read_csv(\"https://raw.githubusercontent.com/plotly/datasets/master/us-cities-top-1k.csv\")"
   ]
  },
  {
   "cell_type": "code",
   "execution_count": 10,
   "id": "d21c2d44-f74d-43f3-95f8-e309b5490cba",
   "metadata": {},
   "outputs": [
    {
     "data": {
      "text/html": [
       "<div>\n",
       "<style scoped>\n",
       "    .dataframe tbody tr th:only-of-type {\n",
       "        vertical-align: middle;\n",
       "    }\n",
       "\n",
       "    .dataframe tbody tr th {\n",
       "        vertical-align: top;\n",
       "    }\n",
       "\n",
       "    .dataframe thead th {\n",
       "        text-align: right;\n",
       "    }\n",
       "</style>\n",
       "<table border=\"1\" class=\"dataframe\">\n",
       "  <thead>\n",
       "    <tr style=\"text-align: right;\">\n",
       "      <th></th>\n",
       "      <th>City</th>\n",
       "      <th>State</th>\n",
       "      <th>Population</th>\n",
       "      <th>lat</th>\n",
       "      <th>lon</th>\n",
       "    </tr>\n",
       "  </thead>\n",
       "  <tbody>\n",
       "    <tr>\n",
       "      <th>0</th>\n",
       "      <td>Marysville</td>\n",
       "      <td>Washington</td>\n",
       "      <td>63269</td>\n",
       "      <td>48.051764</td>\n",
       "      <td>-122.177082</td>\n",
       "    </tr>\n",
       "    <tr>\n",
       "      <th>1</th>\n",
       "      <td>Perris</td>\n",
       "      <td>California</td>\n",
       "      <td>72326</td>\n",
       "      <td>33.782519</td>\n",
       "      <td>-117.228648</td>\n",
       "    </tr>\n",
       "    <tr>\n",
       "      <th>2</th>\n",
       "      <td>Cleveland</td>\n",
       "      <td>Ohio</td>\n",
       "      <td>390113</td>\n",
       "      <td>41.499320</td>\n",
       "      <td>-81.694361</td>\n",
       "    </tr>\n",
       "    <tr>\n",
       "      <th>3</th>\n",
       "      <td>Worcester</td>\n",
       "      <td>Massachusetts</td>\n",
       "      <td>182544</td>\n",
       "      <td>42.262593</td>\n",
       "      <td>-71.802293</td>\n",
       "    </tr>\n",
       "    <tr>\n",
       "      <th>4</th>\n",
       "      <td>Columbia</td>\n",
       "      <td>South Carolina</td>\n",
       "      <td>133358</td>\n",
       "      <td>34.000710</td>\n",
       "      <td>-81.034814</td>\n",
       "    </tr>\n",
       "    <tr>\n",
       "      <th>...</th>\n",
       "      <td>...</td>\n",
       "      <td>...</td>\n",
       "      <td>...</td>\n",
       "      <td>...</td>\n",
       "      <td>...</td>\n",
       "    </tr>\n",
       "    <tr>\n",
       "      <th>995</th>\n",
       "      <td>West New York</td>\n",
       "      <td>New Jersey</td>\n",
       "      <td>52122</td>\n",
       "      <td>40.787879</td>\n",
       "      <td>-74.014306</td>\n",
       "    </tr>\n",
       "    <tr>\n",
       "      <th>996</th>\n",
       "      <td>Everett</td>\n",
       "      <td>Massachusetts</td>\n",
       "      <td>42935</td>\n",
       "      <td>42.408430</td>\n",
       "      <td>-71.053663</td>\n",
       "    </tr>\n",
       "    <tr>\n",
       "      <th>997</th>\n",
       "      <td>Linden</td>\n",
       "      <td>New Jersey</td>\n",
       "      <td>41301</td>\n",
       "      <td>40.622048</td>\n",
       "      <td>-74.244590</td>\n",
       "    </tr>\n",
       "    <tr>\n",
       "      <th>998</th>\n",
       "      <td>Asheville</td>\n",
       "      <td>North Carolina</td>\n",
       "      <td>87236</td>\n",
       "      <td>35.595058</td>\n",
       "      <td>-82.551487</td>\n",
       "    </tr>\n",
       "    <tr>\n",
       "      <th>999</th>\n",
       "      <td>Compton</td>\n",
       "      <td>California</td>\n",
       "      <td>97877</td>\n",
       "      <td>33.895849</td>\n",
       "      <td>-118.220071</td>\n",
       "    </tr>\n",
       "  </tbody>\n",
       "</table>\n",
       "<p>1000 rows × 5 columns</p>\n",
       "</div>"
      ],
      "text/plain": [
       "              City           State  Population        lat         lon\n",
       "0       Marysville      Washington       63269  48.051764 -122.177082\n",
       "1           Perris      California       72326  33.782519 -117.228648\n",
       "2        Cleveland            Ohio      390113  41.499320  -81.694361\n",
       "3        Worcester   Massachusetts      182544  42.262593  -71.802293\n",
       "4         Columbia  South Carolina      133358  34.000710  -81.034814\n",
       "..             ...             ...         ...        ...         ...\n",
       "995  West New York      New Jersey       52122  40.787879  -74.014306\n",
       "996        Everett   Massachusetts       42935  42.408430  -71.053663\n",
       "997         Linden      New Jersey       41301  40.622048  -74.244590\n",
       "998      Asheville  North Carolina       87236  35.595058  -82.551487\n",
       "999        Compton      California       97877  33.895849 -118.220071\n",
       "\n",
       "[1000 rows x 5 columns]"
      ]
     },
     "execution_count": 10,
     "metadata": {},
     "output_type": "execute_result"
    }
   ],
   "source": [
    "us_cities"
   ]
  },
  {
   "cell_type": "markdown",
   "id": "701282bd-c0d2-4027-a9cd-adfd1a1c2209",
   "metadata": {},
   "source": [
    "\n",
    "Here's [the source](https://plotly.com/python/mapbox-layers/) of my source.\n"
   ]
  },
  {
   "cell_type": "code",
   "execution_count": 11,
   "id": "92d06e26-8c09-4a53-9e6e-73a48f0ededd",
   "metadata": {},
   "outputs": [
    {
     "data": {
      "application/vnd.plotly.v1+json": {
       "config": {
        "plotlyServerURL": "https://plot.ly"
       },
       "data": [
        {
         "customdata": [
          [
           "Washington",
           63269
          ],
          [
           "California",
           72326
          ],
          [
           "Ohio",
           390113
          ],
          [
           "Massachusetts",
           182544
          ],
          [
           "South Carolina",
           133358
          ],
          [
           "Connecticut",
           109676
          ],
          [
           "Minnesota",
           65453
          ],
          [
           "Michigan",
           73006
          ],
          [
           "Louisiana",
           124276
          ],
          [
           "Idaho",
           214237
          ],
          [
           "Indiana",
           51265
          ],
          [
           "California",
           82882
          ],
          [
           "Georgia",
           59089
          ],
          [
           "Colorado",
           48608
          ],
          [
           "Florida",
           102436
          ],
          [
           "Massachusetts",
           42544
          ],
          [
           "Illinois",
           199963
          ],
          [
           "Virginia",
           47673
          ],
          [
           "Florida",
           50213
          ],
          [
           "California",
           91739
          ],
          [
           "Texas",
           239538
          ],
          [
           "Kansas",
           181260
          ],
          [
           "Mississippi",
           172638
          ],
          [
           "North Carolina",
           73209
          ],
          [
           "Florida",
           62316
          ],
          [
           "Missouri",
           467007
          ],
          [
           "California",
           42448
          ],
          [
           "Minnesota",
           61434
          ],
          [
           "Texas",
           58043
          ],
          [
           "New Mexico",
           48611
          ],
          [
           "Alabama",
           201332
          ],
          [
           "Utah",
           48913
          ],
          [
           "Massachusetts",
           39083
          ],
          [
           "Pennsylvania",
           118577
          ],
          [
           "South Carolina",
           74885
          ],
          [
           "Georgia",
           202824
          ],
          [
           "New York",
           258959
          ],
          [
           "Wisconsin",
           39834
          ],
          [
           "Texas",
           67317
          ],
          [
           "Ohio",
           38355
          ],
          [
           "California",
           479686
          ],
          [
           "Arkansas",
           87650
          ],
          [
           "Rhode Island",
           47149
          ],
          [
           "Iowa",
           41776
          ],
          [
           "New York",
           68224
          ],
          [
           "Colorado",
           147214
          ],
          [
           "Nevada",
           270811
          ],
          [
           "California",
           48508
          ],
          [
           "Connecticut",
           126456
          ],
          [
           "Indiana",
           82575
          ],
          [
           "Tennessee",
           52962
          ],
          [
           "Washington",
           210721
          ],
          [
           "Washington",
           76762
          ],
          [
           "Pennsylvania",
           1553165
          ],
          [
           "Washington",
           82631
          ],
          [
           "California",
           127763
          ],
          [
           "Wisconsin",
           51522
          ],
          [
           "Iowa",
           61969
          ],
          [
           "Florida",
           42757
          ],
          [
           "Texas",
           1257676
          ],
          [
           "California",
           107100
          ],
          [
           "Michigan",
           131224
          ],
          [
           "Florida",
           78041
          ],
          [
           "Indiana",
           83891
          ],
          [
           "Wyoming",
           62448
          ],
          [
           "California",
           107479
          ],
          [
           "Kansas",
           50344
          ],
          [
           "Indiana",
           56540
          ],
          [
           "Mississippi",
           50997
          ],
          [
           "California",
           80988
          ],
          [
           "Maryland",
           65690
          ],
          [
           "California",
           56707
          ],
          [
           "Maryland",
           66893
          ],
          [
           "North Carolina",
           89130
          ],
          [
           "Illinois",
           43849
          ],
          [
           "Wisconsin",
           60697
          ],
          [
           "Colorado",
           127359
          ],
          [
           "Iowa",
           61255
          ],
          [
           "Massachusetts",
           88697
          ],
          [
           "California",
           61170
          ],
          [
           "California",
           256780
          ],
          [
           "Florida",
           126604
          ],
          [
           "North Carolina",
           83506
          ],
          [
           "Georgia",
           53438
          ],
          [
           "Florida",
           45587
          ],
          [
           "North Dakota",
           54932
          ],
          [
           "Ohio",
           39325
          ],
          [
           "Illinois",
           144864
          ],
          [
           "Florida",
           146526
          ],
          [
           "Arkansas",
           60112
          ],
          [
           "Louisiana",
           378715
          ],
          [
           "Washington",
           59097
          ],
          [
           "Illinois",
           57073
          ],
          [
           "Idaho",
           48957
          ],
          [
           "Oregon",
           609456
          ],
          [
           "California",
           125880
          ],
          [
           "Washington",
           49858
          ],
          [
           "Missouri",
           67569
          ],
          [
           "Wisconsin",
           71016
          ],
          [
           "Arizona",
           68667
          ],
          [
           "Washington",
           38609
          ],
          [
           "New York",
           65902
          ],
          [
           "Colorado",
           649495
          ],
          [
           "Illinois",
           117006
          ],
          [
           "California",
           40584
          ],
          [
           "California",
           201175
          ],
          [
           "Ohio",
           55870
          ],
          [
           "Michigan",
           37313
          ],
          [
           "Arizona",
           52844
          ],
          [
           "Arkansas",
           66075
          ],
          [
           "Nevada",
           233294
          ],
          [
           "Colorado",
           44275
          ],
          [
           "Arizona",
           40590
          ],
          [
           "California",
           52105
          ],
          [
           "Texas",
           37442
          ],
          [
           "Maine",
           66318
          ],
          [
           "Minnesota",
           78373
          ],
          [
           "Connecticut",
           55046
          ],
          [
           "California",
           43363
          ],
          [
           "Texas",
           39458
          ],
          [
           "Michigan",
           99763
          ],
          [
           "California",
           66695
          ],
          [
           "Arizona",
           56683
          ],
          [
           "California",
           40963
          ],
          [
           "California",
           83539
          ],
          [
           "Arizona",
           226918
          ],
          [
           "Ohio",
           822553
          ],
          [
           "Pennsylvania",
           59325
          ],
          [
           "Nebraska",
           268738
          ],
          [
           "New Jersey",
           84349
          ],
          [
           "Massachusetts",
           645966
          ],
          [
           "California",
           51074
          ],
          [
           "Minnesota",
           110742
          ],
          [
           "Missouri",
           52363
          ],
          [
           "Maryland",
           38722
          ],
          [
           "North Carolina",
           59635
          ],
          [
           "Indiana",
           47135
          ],
          [
           "California",
           39389
          ],
          [
           "Illinois",
           37240
          ],
          [
           "Montana",
           69122
          ],
          [
           "California",
           99769
          ],
          [
           "Texas",
           100065
          ],
          [
           "Arizona",
           229972
          ],
          [
           "Wisconsin",
           39309
          ],
          [
           "North Carolina",
           431746
          ],
          [
           "California",
           139969
          ],
          [
           "California",
           66900
          ],
          [
           "Washington",
           39056
          ],
          [
           "California",
           55174
          ],
          [
           "Arizona",
           38290
          ],
          [
           "Florida",
           186411
          ],
          [
           "Texas",
           63032
          ],
          [
           "Virginia",
           43609
          ],
          [
           "Texas",
           1409019
          ],
          [
           "Connecticut",
           125017
          ],
          [
           "Iowa",
           68366
          ],
          [
           "New York",
           46444
          ],
          [
           "Idaho",
           83596
          ],
          [
           "Wisconsin",
           42970
          ],
          [
           "Texas",
           75418
          ],
          [
           "North Carolina",
           151088
          ],
          [
           "Massachusetts",
           55419
          ],
          [
           "Oklahoma",
           398121
          ],
          [
           "Texas",
           81050
          ],
          [
           "Ohio",
           49267
          ],
          [
           "Massachusetts",
           60509
          ],
          [
           "Texas",
           92020
          ],
          [
           "Arizona",
           526116
          ],
          [
           "Tennessee",
           68886
          ],
          [
           "Minnesota",
           39167
          ],
          [
           "Florida",
           842583
          ],
          [
           "New Jersey",
           39551
          ],
          [
           "Pennsylvania",
           100671
          ],
          [
           "California",
           81102
          ],
          [
           "Texas",
           120099
          ],
          [
           "California",
           67032
          ],
          [
           "South Carolina",
           61397
          ],
          [
           "North Carolina",
           50458
          ],
          [
           "Michigan",
           60070
          ],
          [
           "Pennsylvania",
           49188
          ],
          [
           "California",
           108817
          ],
          [
           "California",
           224922
          ],
          [
           "Colorado",
           108249
          ],
          [
           "Massachusetts",
           37670
          ],
          [
           "Illinois",
           42895
          ],
          [
           "Minnesota",
           400070
          ],
          [
           "Tennessee",
           58226
          ],
          [
           "Texas",
           104898
          ],
          [
           "Texas",
           70185
          ],
          [
           "Missouri",
           318416
          ],
          [
           "Texas",
           73790
          ],
          [
           "New Mexico",
           556495
          ],
          [
           "Georgia",
           119980
          ],
          [
           "Utah",
           59366
          ],
          [
           "Nevada",
           226877
          ],
          [
           "California",
           151348
          ],
          [
           "California",
           55191
          ],
          [
           "Ohio",
           37490
          ],
          [
           "Kansas",
           90811
          ],
          [
           "Texas",
           123933
          ],
          [
           "Oklahoma",
           610613
          ],
          [
           "Arizona",
           41627
          ],
          [
           "Arizona",
           457587
          ],
          [
           "Connecticut",
           87776
          ],
          [
           "Michigan",
           50233
          ],
          [
           "Wisconsin",
           37999
          ],
          [
           "Texas",
           40922
          ],
          [
           "Indiana",
           47989
          ],
          [
           "California",
           78327
          ],
          [
           "Minnesota",
           66297
          ],
          [
           "New Jersey",
           70868
          ],
          [
           "California",
           148738
          ],
          [
           "California",
           42443
          ],
          [
           "California",
           116768
          ],
          [
           "California",
           65040
          ],
          [
           "Oklahoma",
           97151
          ],
          [
           "Wisconsin",
           67545
          ],
          [
           "Arizona",
           45508
          ],
          [
           "Texas",
           51483
          ],
          [
           "Indiana",
           256496
          ],
          [
           "Washington",
           54790
          ],
          [
           "Massachusetts",
           57170
          ],
          [
           "California",
           61653
          ],
          [
           "New York",
           98424
          ],
          [
           "California",
           104739
          ],
          [
           "Michigan",
           61817
          ],
          [
           "Virginia",
           78014
          ],
          [
           "Maryland",
           56759
          ],
          [
           "Connecticut",
           83684
          ],
          [
           "Virginia",
           44349
          ],
          [
           "Florida",
           49631
          ],
          [
           "Idaho",
           46402
          ],
          [
           "California",
           115708
          ],
          [
           "Illinois",
           40388
          ],
          [
           "California",
           43341
          ],
          [
           "Arizona",
           72864
          ],
          [
           "New Jersey",
           145948
          ],
          [
           "Oregon",
           160614
          ],
          [
           "Florida",
           65173
          ],
          [
           "Michigan",
           50303
          ],
          [
           "Texas",
           181860
          ],
          [
           "Texas",
           68609
          ],
          [
           "Texas",
           50195
          ],
          [
           "Minnesota",
           49376
          ],
          [
           "Michigan",
           688701
          ],
          [
           "Ohio",
           42635
          ],
          [
           "Texas",
           60872
          ],
          [
           "New York",
           210358
          ],
          [
           "Alabama",
           212113
          ],
          [
           "Texas",
           885400
          ],
          [
           "California",
           90412
          ],
          [
           "Illinois",
           37385
          ],
          [
           "New Mexico",
           91956
          ],
          [
           "Illinois",
           54664
          ],
          [
           "Illinois",
           39650
          ],
          [
           "Minnesota",
           62103
          ],
          [
           "California",
           101128
          ],
          [
           "Florida",
           255483
          ],
          [
           "Wyoming",
           59628
          ],
          [
           "Texas",
           48592
          ],
          [
           "North Carolina",
           112067
          ],
          [
           "Florida",
           49998
          ],
          [
           "Florida",
           43250
          ],
          [
           "Kansas",
           148483
          ],
          [
           "Massachusetts",
           40383
          ],
          [
           "Illinois",
           38015
          ],
          [
           "Massachusetts",
           87971
          ],
          [
           "Florida",
           61007
          ],
          [
           "Connecticut",
           40347
          ],
          [
           "New Jersey",
           278427
          ],
          [
           "Louisiana",
           48426
          ],
          [
           "Minnesota",
           60407
          ],
          [
           "Texas",
           65665
          ],
          [
           "California",
           43509
          ],
          [
           "Texas",
           123099
          ],
          [
           "Texas",
           48733
          ],
          [
           "Indiana",
           53665
          ],
          [
           "California",
           155662
          ],
          [
           "Florida",
           111378
          ],
          [
           "West Virginia",
           49177
          ],
          [
           "Texas",
           248142
          ],
          [
           "Florida",
           77508
          ],
          [
           "Texas",
           43580
          ],
          [
           "Florida",
           104898
          ],
          [
           "North Carolina",
           49628
          ],
          [
           "Utah",
           43023
          ],
          [
           "California",
           46714
          ],
          [
           "Ohio",
           80429
          ],
          [
           "South Dakota",
           70812
          ],
          [
           "California",
           42889
          ],
          [
           "Colorado",
           49799
          ],
          [
           "Massachusetts",
           153703
          ],
          [
           "Colorado",
           152061
          ],
          [
           "California",
           87965
          ],
          [
           "California",
           96929
          ],
          [
           "New York",
           199766
          ],
          [
           "Ohio",
           297517
          ],
          [
           "Maryland",
           40612
          ],
          [
           "Florida",
           56002
          ],
          [
           "New Jersey",
           68247
          ],
          [
           "Ohio",
           282313
          ],
          [
           "Arizona",
           45129
          ],
          [
           "Virginia",
           182020
          ],
          [
           "Indiana",
           78967
          ],
          [
           "Illinois",
           41778
          ],
          [
           "Texas",
           83860
          ],
          [
           "Alabama",
           186254
          ],
          [
           "California",
           63338
          ],
          [
           "Washington",
           40727
          ],
          [
           "Texas",
           39605
          ],
          [
           "North Carolina",
           56954
          ],
          [
           "Michigan",
           59887
          ],
          [
           "California",
           59834
          ],
          [
           "California",
           151574
          ],
          [
           "New York",
           49468
          ],
          [
           "Nevada",
           93282
          ],
          [
           "California",
           54686
          ],
          [
           "California",
           49087
          ],
          [
           "Ohio",
           65184
          ],
          [
           "Alabama",
           45799
          ],
          [
           "California",
           69999
          ],
          [
           "Missouri",
           38816
          ],
          [
           "Idaho",
           86518
          ],
          [
           "District of Columbia",
           646449
          ],
          [
           "Illinois",
           53648
          ],
          [
           "Texas",
           38071
          ],
          [
           "California",
           101910
          ],
          [
           "North Dakota",
           113658
          ],
          [
           "Illinois",
           116513
          ],
          [
           "Nebraska",
           434353
          ],
          [
           "California",
           49228
          ],
          [
           "Kansas",
           56143
          ],
          [
           "California",
           46281
          ],
          [
           "California",
           1355896
          ],
          [
           "California",
           171990
          ],
          [
           "Massachusetts",
           108861
          ],
          [
           "Oklahoma",
           103500
          ],
          [
           "Washington",
           124435
          ],
          [
           "Tennessee",
           634464
          ],
          [
           "New Jersey",
           44113
          ],
          [
           "Colorado",
           59471
          ],
          [
           "North Carolina",
           245475
          ],
          [
           "Kansas",
           386552
          ],
          [
           "California",
           52977
          ],
          [
           "Minnesota",
           58562
          ],
          [
           "Illinois",
           45556
          ],
          [
           "Texas",
           37093
          ],
          [
           "Wisconsin",
           37159
          ],
          [
           "California",
           147559
          ],
          [
           "California",
           62864
          ],
          [
           "Wisconsin",
           99889
          ],
          [
           "Pennsylvania",
           41757
          ],
          [
           "Ohio",
           46454
          ],
          [
           "Illinois",
           40915
          ],
          [
           "Florida",
           104410
          ],
          [
           "Texas",
           97492
          ],
          [
           "Illinois",
           78902
          ],
          [
           "California",
           84691
          ],
          [
           "South Carolina",
           37647
          ],
          [
           "New Hampshire",
           87137
          ],
          [
           "Georgia",
           89981
          ],
          [
           "New York",
           55361
          ],
          [
           "New Jersey",
           76903
          ],
          [
           "California",
           50508
          ],
          [
           "Illinois",
           40351
          ],
          [
           "Virginia",
           230571
          ],
          [
           "Ohio",
           43607
          ],
          [
           "California",
           66086
          ],
          [
           "Michigan",
           37213
          ],
          [
           "New Jersey",
           127558
          ],
          [
           "Alaska",
           300950
          ],
          [
           "North Dakota",
           46321
          ],
          [
           "Florida",
           96830
          ],
          [
           "Texas",
           136639
          ],
          [
           "Texas",
           148559
          ],
          [
           "Texas",
           137147
          ],
          [
           "Ohio",
           41512
          ],
          [
           "California",
           406253
          ],
          [
           "California",
           77846
          ],
          [
           "California",
           57525
          ],
          [
           "Texas",
           196429
          ],
          [
           "Utah",
           116288
          ],
          [
           "Georgia",
           447841
          ],
          [
           "California",
           61085
          ],
          [
           "Ohio",
           44730
          ],
          [
           "California",
           63105
          ],
          [
           "Illinois",
           74710
          ],
          [
           "Rhode Island",
           41026
          ],
          [
           "Alabama",
           194899
          ],
          [
           "California",
           118837
          ],
          [
           "California",
           57639
          ],
          [
           "Tennessee",
           47333
          ],
          [
           "Missouri",
           43330
          ],
          [
           "Texas",
           81443
          ],
          [
           "Arizona",
           249146
          ],
          [
           "Colorado",
           111707
          ],
          [
           "California",
           84577
          ],
          [
           "Indiana",
           56895
          ],
          [
           "Florida",
           43286
          ],
          [
           "Indiana",
           843393
          ],
          [
           "Florida",
           71097
          ],
          [
           "Arizona",
           37130
          ],
          [
           "Illinois",
           54771
          ],
          [
           "Rhode Island",
           80566
          ],
          [
           "Indiana",
           70373
          ],
          [
           "Kansas",
           131885
          ],
          [
           "Georgia",
           82788
          ],
          [
           "North Carolina",
           279639
          ],
          [
           "Michigan",
           75548
          ],
          [
           "Oregon",
           50444
          ],
          [
           "North Carolina",
           69079
          ],
          [
           "California",
           85285
          ],
          [
           "Alabama",
           95334
          ],
          [
           "Iowa",
           51567
          ],
          [
           "California",
           86199
          ],
          [
           "Alabama",
           84126
          ],
          [
           "Florida",
           64072
          ],
          [
           "Florida",
           60202
          ],
          [
           "Arizona",
           39383
          ],
          [
           "Florida",
           68388
          ],
          [
           "Michigan",
           82821
          ],
          [
           "New York",
           79446
          ],
          [
           "California",
           298118
          ],
          [
           "Michigan",
           58946
          ],
          [
           "Florida",
           44206
          ],
          [
           "California",
           64652
          ],
          [
           "Washington",
           91113
          ],
          [
           "California",
           112174
          ],
          [
           "Texas",
           183372
          ],
          [
           "Virginia",
           96205
          ],
          [
           "Washington",
           44919
          ],
          [
           "North Carolina",
           42214
          ],
          [
           "Iowa",
           82459
          ],
          [
           "California",
           61588
          ],
          [
           "Utah",
           36956
          ],
          [
           "California",
           58879
          ],
          [
           "Minnesota",
           62603
          ],
          [
           "Arizona",
           162592
          ],
          [
           "Arizona",
           168228
          ],
          [
           "Delaware",
           71525
          ],
          [
           "Utah",
           60519
          ],
          [
           "Michigan",
           82578
          ],
          [
           "Texas",
           143484
          ],
          [
           "North Carolina",
           51510
          ],
          [
           "Texas",
           234566
          ],
          [
           "California",
           107571
          ],
          [
           "North Dakota",
           67034
          ],
          [
           "Nevada",
           54080
          ],
          [
           "Oklahoma",
           38863
          ],
          [
           "Georgia",
           197350
          ],
          [
           "North Carolina",
           204408
          ],
          [
           "Georgia",
           76185
          ],
          [
           "New Jersey",
           44412
          ],
          [
           "California",
           44096
          ],
          [
           "California",
           56449
          ],
          [
           "Alabama",
           55816
          ],
          [
           "Tennessee",
           173366
          ],
          [
           "Indiana",
           45929
          ],
          [
           "Illinois",
           41679
          ],
          [
           "California",
           76635
          ],
          [
           "Florida",
           91026
          ],
          [
           "Tennessee",
           67685
          ],
          [
           "Texas",
           54135
          ],
          [
           "California",
           46377
          ],
          [
           "Texas",
           40714
          ],
          [
           "California",
           87273
          ],
          [
           "Utah",
           40921
          ],
          [
           "Washington",
           93257
          ],
          [
           "Ohio",
           143355
          ],
          [
           "Mississippi",
           71012
          ],
          [
           "California",
           469428
          ],
          [
           "California",
           88077
          ],
          [
           "Mississippi",
           47556
          ],
          [
           "Oregon",
           159190
          ],
          [
           "California",
           53243
          ],
          [
           "California",
           63495
          ],
          [
           "California",
           74110
          ],
          [
           "Washington",
           105370
          ],
          [
           "Kansas",
           41889
          ],
          [
           "California",
           109320
          ],
          [
           "Arizona",
           78822
          ],
          [
           "Ohio",
           48139
          ],
          [
           "Michigan",
           51848
          ],
          [
           "Minnesota",
           86319
          ],
          [
           "Illinois",
           38877
          ],
          [
           "Oregon",
           93542
          ],
          [
           "Louisiana",
           66975
          ],
          [
           "New Mexico",
           39508
          ],
          [
           "New York",
           49974
          ],
          [
           "California",
           69783
          ],
          [
           "Illinois",
           58918
          ],
          [
           "California",
           52206
          ],
          [
           "Massachusetts",
           56069
          ],
          [
           "California",
           38027
          ],
          [
           "Tennessee",
           65123
          ],
          [
           "Georgia",
           142772
          ],
          [
           "Ohio",
           40768
          ],
          [
           "Washington",
           167405
          ],
          [
           "Florida",
           90116
          ],
          [
           "Indiana",
           70316
          ],
          [
           "Utah",
           54382
          ],
          [
           "California",
           837442
          ],
          [
           "California",
           203003
          ],
          [
           "Texas",
           136791
          ],
          [
           "California",
           76572
          ],
          [
           "California",
           49417
          ],
          [
           "Ohio",
           38142
          ],
          [
           "New Jersey",
           55831
          ],
          [
           "Virginia",
           246139
          ],
          [
           "Oregon",
           97368
          ],
          [
           "California",
           45851
          ],
          [
           "Florida",
           52703
          ],
          [
           "Ohio",
           62258
          ],
          [
           "South Carolina",
           37792
          ],
          [
           "California",
           213708
          ],
          [
           "Georgia",
           40059
          ],
          [
           "California",
           121096
          ],
          [
           "Indiana",
           78450
          ],
          [
           "Arizona",
           50111
          ],
          [
           "California",
           40836
          ],
          [
           "Iowa",
           58253
          ],
          [
           "New York",
           144669
          ],
          [
           "Tennessee",
           142357
          ],
          [
           "Florida",
           100710
          ],
          [
           "New York",
           37659
          ],
          [
           "Delaware",
           37366
          ],
          [
           "Minnesota",
           39398
          ],
          [
           "California",
           39428
          ],
          [
           "Illinois",
           69350
          ],
          [
           "Washington",
           652405
          ],
          [
           "Kentucky",
           40956
          ],
          [
           "California",
           161007
          ],
          [
           "Louisiana",
           200327
          ],
          [
           "Utah",
           84249
          ],
          [
           "Virginia",
           51395
          ],
          [
           "California",
           111542
          ],
          [
           "California",
           139731
          ],
          [
           "Massachusetts",
           77657
          ],
          [
           "Oregon",
           37610
          ],
          [
           "California",
           59440
          ],
          [
           "Ohio",
           59357
          ],
          [
           "California",
           79068
          ],
          [
           "Colorado",
           345803
          ],
          [
           "Minnesota",
           86128
          ],
          [
           "Virginia",
           98465
          ],
          [
           "Oregon",
           81236
          ],
          [
           "California",
           70924
          ],
          [
           "Massachusetts",
           62227
          ],
          [
           "Florida",
           68190
          ],
          [
           "Florida",
           352957
          ],
          [
           "California",
           75413
          ],
          [
           "Virginia",
           42907
          ],
          [
           "Wisconsin",
           36888
          ],
          [
           "Florida",
           90268
          ],
          [
           "Colorado",
           439886
          ],
          [
           "California",
           204933
          ],
          [
           "Michigan",
           192294
          ],
          [
           "Illinois",
           52066
          ],
          [
           "Florida",
           53326
          ],
          [
           "California",
           98030
          ],
          [
           "California",
           77593
          ],
          [
           "Colorado",
           103166
          ],
          [
           "New Mexico",
           69976
          ],
          [
           "California",
           43092
          ],
          [
           "Massachusetts",
           39414
          ],
          [
           "California",
           316619
          ],
          [
           "California",
           157161
          ],
          [
           "California",
           54194
          ],
          [
           "Utah",
           70790
          ],
          [
           "Illinois",
           73936
          ],
          [
           "California",
           96346
          ],
          [
           "Illinois",
           45417
          ],
          [
           "California",
           45237
          ],
          [
           "California",
           73098
          ],
          [
           "Arizona",
           39791
          ],
          [
           "New Mexico",
           101324
          ],
          [
           "Montana",
           39860
          ],
          [
           "Illinois",
           74907
          ],
          [
           "Michigan",
           134873
          ],
          [
           "Missouri",
           54842
          ],
          [
           "Iowa",
           61792
          ],
          [
           "Arizona",
           123546
          ],
          [
           "Texas",
           104475
          ],
          [
           "Michigan",
           42181
          ],
          [
           "Texas",
           54076
          ],
          [
           "Pennsylvania",
           41108
          ],
          [
           "Wisconsin",
           73596
          ],
          [
           "Kansas",
           64323
          ],
          [
           "Ohio",
           46979
          ],
          [
           "California",
           85156
          ],
          [
           "North Carolina",
           792862
          ],
          [
           "Kentucky",
           58416
          ],
          [
           "Florida",
           58298
          ],
          [
           "California",
           41398
          ],
          [
           "Illinois",
           2718782
          ],
          [
           "Montana",
           109059
          ],
          [
           "Wisconsin",
           47134
          ],
          [
           "Illinois",
           43907
          ],
          [
           "Connecticut",
           130660
          ],
          [
           "Pennsylvania",
           43935
          ],
          [
           "Tennessee",
           183270
          ],
          [
           "Ohio",
           53956
          ],
          [
           "Massachusetts",
           44641
          ],
          [
           "Utah",
           48612
          ],
          [
           "California",
           76419
          ],
          [
           "California",
           71948
          ],
          [
           "Minnesota",
           39765
          ],
          [
           "Oregon",
           77677
          ],
          [
           "Tennessee",
           117044
          ],
          [
           "California",
           65416
          ],
          [
           "Connecticut",
           40999
          ],
          [
           "Iowa",
           40566
          ],
          [
           "Tennessee",
           39375
          ],
          [
           "Pennsylvania",
           75806
          ],
          [
           "Alabama",
           58582
          ],
          [
           "Virginia",
           41705
          ],
          [
           "California",
           94275
          ],
          [
           "California",
           92472
          ],
          [
           "Virginia",
           85728
          ],
          [
           "Michigan",
           72952
          ],
          [
           "California",
           39331
          ],
          [
           "West Virginia",
           50821
          ],
          [
           "California",
           52403
          ],
          [
           "Florida",
           40918
          ],
          [
           "South Carolina",
           127999
          ],
          [
           "North Carolina",
           44359
          ],
          [
           "California",
           159503
          ],
          [
           "California",
           59738
          ],
          [
           "Missouri",
           93184
          ],
          [
           "Florida",
           78740
          ],
          [
           "Utah",
           90231
          ],
          [
           "Arkansas",
           40167
          ],
          [
           "California",
           179590
          ],
          [
           "Florida",
           42150
          ],
          [
           "Texas",
           63279
          ],
          [
           "Tennessee",
           653450
          ],
          [
           "Texas",
           228653
          ],
          [
           "Virginia",
           148892
          ],
          [
           "California",
           92147
          ],
          [
           "Massachusetts",
           40249
          ],
          [
           "Georgia",
           47591
          ],
          [
           "Illinois",
           65176
          ],
          [
           "New Jersey",
           41664
          ],
          [
           "Pennsylvania",
           75018
          ],
          [
           "Missouri",
           77147
          ],
          [
           "California",
           67815
          ],
          [
           "Texas",
           2195914
          ],
          [
           "California",
           106780
          ],
          [
           "Michigan",
           117025
          ],
          [
           "Texas",
           117796
          ],
          [
           "Michigan",
           48554
          ],
          [
           "California",
           56105
          ],
          [
           "Florida",
           63155
          ],
          [
           "Nebraska",
           53663
          ],
          [
           "Florida",
           162329
          ],
          [
           "Arkansas",
           75229
          ],
          [
           "California",
           203007
          ],
          [
           "Texas",
           110720
          ],
          [
           "Oklahoma",
           47186
          ],
          [
           "Massachusetts",
           94089
          ],
          [
           "New Jersey",
           65028
          ],
          [
           "California",
           54980
          ],
          [
           "Illinois",
           43116
          ],
          [
           "Mississippi",
           40921
          ],
          [
           "Tennessee",
           42774
          ],
          [
           "New Jersey",
           257342
          ],
          [
           "Minnesota",
           294873
          ],
          [
           "Florida",
           86290
          ],
          [
           "New York",
           43167
          ],
          [
           "Iowa",
           71591
          ],
          [
           "California",
           345012
          ],
          [
           "Minnesota",
           50201
          ],
          [
           "Montana",
           59351
          ],
          [
           "Utah",
           133579
          ],
          [
           "Virginia",
           136699
          ],
          [
           "Texas",
           54898
          ],
          [
           "Utah",
           91648
          ],
          [
           "California",
           37101
          ],
          [
           "Texas",
           42907
          ],
          [
           "South Carolina",
           39823
          ],
          [
           "Arkansas",
           197357
          ],
          [
           "California",
           334227
          ],
          [
           "New York",
           57866
          ],
          [
           "Idaho",
           58292
          ],
          [
           "Washington",
           133992
          ],
          [
           "California",
           127035
          ],
          [
           "New Jersey",
           51982
          ],
          [
           "Massachusetts",
           52044
          ],
          [
           "Nebraska",
           50550
          ],
          [
           "Missouri",
           115276
          ],
          [
           "Wisconsin",
           78199
          ],
          [
           "Indiana",
           85927
          ],
          [
           "Michigan",
           47523
          ],
          [
           "Ohio",
           48630
          ],
          [
           "California",
           56590
          ],
          [
           "Massachusetts",
           53756
          ],
          [
           "Texas",
           53224
          ],
          [
           "Illinois",
           75994
          ],
          [
           "California",
           81750
          ],
          [
           "North Carolina",
           107741
          ],
          [
           "Ohio",
           47777
          ],
          [
           "Oklahoma",
           56756
          ],
          [
           "California",
           89387
          ],
          [
           "Florida",
           57203
          ],
          [
           "California",
           81121
          ],
          [
           "Ohio",
           37530
          ],
          [
           "Illinois",
           150251
          ],
          [
           "California",
           102211
          ],
          [
           "Florida",
           249688
          ],
          [
           "Illinois",
           49670
          ],
          [
           "Connecticut",
           51644
          ],
          [
           "Oregon",
           51583
          ],
          [
           "Nevada",
           603488
          ],
          [
           "Texas",
           152735
          ],
          [
           "Florida",
           171016
          ],
          [
           "Iowa",
           128429
          ],
          [
           "Florida",
           38661
          ],
          [
           "Massachusetts",
           93494
          ],
          [
           "Florida",
           130288
          ],
          [
           "Texas",
           674433
          ],
          [
           "Kansas",
           127679
          ],
          [
           "California",
           54561
          ],
          [
           "Oregon",
           37064
          ],
          [
           "Minnesota",
           51368
          ],
          [
           "Ohio",
           198100
          ],
          [
           "Texas",
           80836
          ],
          [
           "California",
           171386
          ],
          [
           "South Carolina",
           104054
          ],
          [
           "Kentucky",
           609893
          ],
          [
           "California",
           52477
          ],
          [
           "Florida",
           56792
          ],
          [
           "Florida",
           51763
          ],
          [
           "California",
           110972
          ],
          [
           "Texas",
           46081
          ],
          [
           "California",
           91119
          ],
          [
           "Michigan",
           74100
          ],
          [
           "Ohio",
           63710
          ],
          [
           "Utah",
           37733
          ],
          [
           "Florida",
           172389
          ],
          [
           "Georgia",
           72531
          ],
          [
           "Florida",
           109703
          ],
          [
           "Florida",
           43328
          ],
          [
           "Alabama",
           40059
          ],
          [
           "Indiana",
           61025
          ],
          [
           "Texas",
           70190
          ],
          [
           "Ohio",
           45712
          ],
          [
           "South Dakota",
           164676
          ],
          [
           "Indiana",
           45775
          ],
          [
           "Florida",
           55456
          ],
          [
           "Massachusetts",
           41002
          ],
          [
           "Rhode Island",
           81971
          ],
          [
           "California",
           363630
          ],
          [
           "Florida",
           417650
          ],
          [
           "Louisiana",
           74024
          ],
          [
           "Washington",
           52413
          ],
          [
           "North Carolina",
           40361
          ],
          [
           "California",
           66174
          ],
          [
           "Minnesota",
           73987
          ],
          [
           "Indiana",
           100886
          ],
          [
           "Oklahoma",
           87004
          ],
          [
           "Iowa",
           207510
          ],
          [
           "Florida",
           47547
          ],
          [
           "Utah",
           45285
          ],
          [
           "California",
           86635
          ],
          [
           "Michigan",
           95208
          ],
          [
           "Wisconsin",
           599164
          ],
          [
           "Washington",
           74860
          ],
          [
           "South Carolina",
           41190
          ],
          [
           "Massachusetts",
           40664
          ],
          [
           "Washington",
           97003
          ],
          [
           "Colorado",
           106114
          ],
          [
           "Virginia",
           214114
          ],
          [
           "Indiana",
           55670
          ],
          [
           "California",
           40481
          ],
          [
           "Texas",
           53752
          ],
          [
           "New Jersey",
           52575
          ],
          [
           "Kentucky",
           308428
          ],
          [
           "California",
           106589
          ],
          [
           "Arizona",
           91923
          ],
          [
           "California",
           54291
          ],
          [
           "Illinois",
           40379
          ],
          [
           "Illinois",
           147806
          ],
          [
           "South Carolina",
           69103
          ],
          [
           "California",
           67911
          ],
          [
           "Michigan",
           56620
          ],
          [
           "Hawaii",
           347884
          ],
          [
           "Texas",
           65098
          ],
          [
           "Massachusetts",
           43886
          ],
          [
           "Texas",
           44575
          ],
          [
           "Texas",
           126700
          ],
          [
           "Illinois",
           41734
          ],
          [
           "Illinois",
           52398
          ],
          [
           "Massachusetts",
           48514
          ],
          [
           "Florida",
           59212
          ],
          [
           "Maryland",
           64072
          ],
          [
           "California",
           104709
          ],
          [
           "California",
           138981
          ],
          [
           "Wisconsin",
           66778
          ],
          [
           "Texas",
           39795
          ],
          [
           "Michigan",
           81295
          ],
          [
           "California",
           63771
          ],
          [
           "California",
           49707
          ],
          [
           "California",
           40435
          ],
          [
           "Colorado",
           59778
          ],
          [
           "Oklahoma",
           50725
          ],
          [
           "California",
           998537
          ],
          [
           "Texas",
           109821
          ],
          [
           "Minnesota",
           65415
          ],
          [
           "Oklahoma",
           118197
          ],
          [
           "Florida",
           64079
          ],
          [
           "Texas",
           37587
          ],
          [
           "California",
           236716
          ],
          [
           "Idaho",
           54350
          ],
          [
           "California",
           38606
          ],
          [
           "Wisconsin",
           48725
          ],
          [
           "Louisiana",
           66333
          ],
          [
           "Texas",
           61238
          ],
          [
           "Georgia",
           99770
          ],
          [
           "Illinois",
           83424
          ],
          [
           "New Jersey",
           85390
          ],
          [
           "Oklahoma",
           58414
          ],
          [
           "Missouri",
           53294
          ],
          [
           "California",
           159523
          ],
          [
           "Texas",
           78709
          ],
          [
           "Texas",
           38448
          ],
          [
           "Florida",
           165831
          ],
          [
           "California",
           60189
          ],
          [
           "Massachusetts",
           44057
          ],
          [
           "California",
           51701
          ],
          [
           "New Hampshire",
           110378
          ],
          [
           "Virginia",
           448479
          ],
          [
           "Kansas",
           47846
          ],
          [
           "Massachusetts",
           78804
          ],
          [
           "Florida",
           78409
          ],
          [
           "California",
           509924
          ],
          [
           "Alabama",
           37498
          ],
          [
           "Illinois",
           56758
          ],
          [
           "Florida",
           50699
          ],
          [
           "Rhode Island",
           71172
          ],
          [
           "California",
           40275
          ],
          [
           "North Carolina",
           236441
          ],
          [
           "Georgia",
           62298
          ],
          [
           "Missouri",
           82809
          ],
          [
           "California",
           80872
          ],
          [
           "California",
           72528
          ],
          [
           "Florida",
           38632
          ],
          [
           "Minnesota",
           40641
          ],
          [
           "California",
           50175
          ],
          [
           "California",
           83447
          ],
          [
           "Colorado",
           71334
          ],
          [
           "Illinois",
           38241
          ],
          [
           "Rhode Island",
           177994
          ],
          [
           "Florida",
           233394
          ],
          [
           "California",
           74513
          ],
          [
           "California",
           167500
          ],
          [
           "Washington",
           84430
          ],
          [
           "Utah",
           76817
          ],
          [
           "South Carolina",
           39412
          ],
          [
           "California",
           196021
          ],
          [
           "Connecticut",
           60456
          ],
          [
           "California",
           59957
          ],
          [
           "Massachusetts",
           41301
          ],
          [
           "Illinois",
           110145
          ],
          [
           "Texas",
           274409
          ],
          [
           "Colorado",
           89919
          ],
          [
           "Texas",
           40342
          ],
          [
           "Ohio",
           51143
          ],
          [
           "Arkansas",
           71551
          ],
          [
           "Texas",
           100050
          ],
          [
           "Michigan",
           95884
          ],
          [
           "New York",
           61808
          ],
          [
           "Louisiana",
           49761
          ],
          [
           "Maryland",
           622104
          ],
          [
           "Missouri",
           164122
          ],
          [
           "Arkansas",
           46094
          ],
          [
           "New Jersey",
           50588
          ],
          [
           "Massachusetts",
           91589
          ],
          [
           "Minnesota",
           65656
          ],
          [
           "Florida",
           127488
          ],
          [
           "California",
           49891
          ],
          [
           "Washington",
           50169
          ],
          [
           "Florida",
           37199
          ],
          [
           "Arkansas",
           78960
          ],
          [
           "California",
           58994
          ],
          [
           "Arkansas",
           63816
          ],
          [
           "Washington",
           203446
          ],
          [
           "Connecticut",
           47333
          ],
          [
           "Vermont",
           42284
          ],
          [
           "Idaho",
           45981
          ],
          [
           "Texas",
           39296
          ],
          [
           "New York",
           8405837
          ],
          [
           "California",
           126181
          ],
          [
           "California",
           107740
          ],
          [
           "Colorado",
           53063
          ],
          [
           "Georgia",
           56481
          ],
          [
           "Texas",
           792727
          ],
          [
           "California",
           92599
          ],
          [
           "Indiana",
           120310
          ],
          [
           "California",
           102216
          ],
          [
           "Tennessee",
           40021
          ],
          [
           "California",
           58642
          ],
          [
           "Colorado",
           110945
          ],
          [
           "Pennsylvania",
           87893
          ],
          [
           "California",
           70365
          ],
          [
           "Colorado",
           96539
          ],
          [
           "Texas",
           100223
          ],
          [
           "Florida",
           37711
          ],
          [
           "Texas",
           129030
          ],
          [
           "California",
           37165
          ],
          [
           "California",
           128731
          ],
          [
           "California",
           47842
          ],
          [
           "Connecticut",
           147216
          ],
          [
           "Minnesota",
           47411
          ],
          [
           "Missouri",
           47749
          ],
          [
           "Florida",
           38696
          ],
          [
           "Washington",
           67599
          ],
          [
           "California",
           147478
          ],
          [
           "Wisconsin",
           243344
          ],
          [
           "Wisconsin",
           63820
          ],
          [
           "Illinois",
           88826
          ],
          [
           "Kentucky",
           61488
          ],
          [
           "Texas",
           379577
          ],
          [
           "Texas",
           101074
          ],
          [
           "New Mexico",
           45426
          ],
          [
           "California",
           38194
          ],
          [
           "California",
           66642
          ],
          [
           "Oregon",
           60177
          ],
          [
           "Massachusetts",
           95078
          ],
          [
           "Washington",
           57530
          ],
          [
           "California",
           55000
          ],
          [
           "California",
           66205
          ],
          [
           "California",
           49133
          ],
          [
           "Tennessee",
           43060
          ],
          [
           "Pennsylvania",
           45796
          ],
          [
           "Alabama",
           68001
          ],
          [
           "New Jersey",
           64544
          ],
          [
           "Illinois",
           57282
          ],
          [
           "Mississippi",
           44820
          ],
          [
           "Illinois",
           41752
          ],
          [
           "California",
           175140
          ],
          [
           "California",
           71371
          ],
          [
           "Colorado",
           37499
          ],
          [
           "Ohio",
           72535
          ],
          [
           "Georgia",
           50603
          ],
          [
           "Louisiana",
           229426
          ],
          [
           "Connecticut",
           60568
          ],
          [
           "Missouri",
           117240
          ],
          [
           "Michigan",
           113972
          ],
          [
           "Illinois",
           58590
          ],
          [
           "New Jersey",
           61050
          ],
          [
           "Wisconsin",
           104779
          ],
          [
           "Illinois",
           75570
          ],
          [
           "Florida",
           39172
          ],
          [
           "California",
           3884307
          ],
          [
           "Washington",
           92734
          ],
          [
           "Utah",
           110077
          ],
          [
           "California",
           52536
          ],
          [
           "Pennsylvania",
           305841
          ],
          [
           "California",
           113242
          ],
          [
           "Illinois",
           84103
          ],
          [
           "California",
           95677
          ],
          [
           "Florida",
           36877
          ],
          [
           "Missouri",
           50789
          ],
          [
           "Texas",
           90983
          ],
          [
           "Utah",
           191180
          ],
          [
           "Florida",
           43074
          ],
          [
           "Arizona",
           1513367
          ],
          [
           "Oregon",
           55298
          ],
          [
           "Texas",
           46663
          ],
          [
           "Massachusetts",
           55717
          ],
          [
           "Florida",
           57468
          ],
          [
           "Georgia",
           94034
          ],
          [
           "Illinois",
           37839
          ],
          [
           "New Hampshire",
           42419
          ],
          [
           "Washington",
           48338
          ],
          [
           "California",
           197575
          ],
          [
           "Texas",
           316381
          ],
          [
           "Massachusetts",
           62088
          ],
          [
           "Illinois",
           38510
          ],
          [
           "Massachusetts",
           107289
          ],
          [
           "Arizona",
           234632
          ],
          [
           "California",
           38623
          ],
          [
           "South Carolina",
           46074
          ],
          [
           "Iowa",
           102157
          ],
          [
           "Florida",
           89407
          ],
          [
           "Connecticut",
           72939
          ],
          [
           "Michigan",
           47555
          ],
          [
           "Ohio",
           45394
          ],
          [
           "Oregon",
           109397
          ],
          [
           "Florida",
           69813
          ],
          [
           "Tennessee",
           54068
          ],
          [
           "California",
           120245
          ],
          [
           "California",
           172794
          ],
          [
           "California",
           79312
          ],
          [
           "Michigan",
           57960
          ],
          [
           "New Jersey",
           52122
          ],
          [
           "Massachusetts",
           42935
          ],
          [
           "New Jersey",
           41301
          ],
          [
           "North Carolina",
           87236
          ],
          [
           "California",
           97877
          ]
         ],
         "hovertemplate": "<b>%{hovertext}</b><br><br>lat=%{lat}<br>lon=%{lon}<br>State=%{customdata[0]}<br>Population=%{customdata[1]}<extra></extra>",
         "hovertext": [
          "Marysville",
          "Perris",
          "Cleveland",
          "Worcester",
          "Columbia",
          "Waterbury",
          "Eagan",
          "Southfield",
          "Lafayette",
          "Boise City",
          "Elkhart",
          "Buena Park",
          "Marietta",
          "Parker",
          "West Palm Beach",
          "Salem",
          "Aurora",
          "Leesburg",
          "Doral",
          "Westminster",
          "Lubbock",
          "Overland Park",
          "Jackson",
          "Gastonia",
          "Daytona Beach",
          "Kansas City",
          "Rancho Palos Verdes",
          "Burnsville",
          "Rowlett",
          "Roswell",
          "Montgomery",
          "Logan",
          "Woburn",
          "Allentown",
          "Mount Pleasant",
          "Columbus",
          "Buffalo",
          "New Berlin",
          "North Richland Hills",
          "Lima",
          "Sacramento",
          "Fort Smith",
          "East Providence",
          "Urbandale",
          "Mount Vernon",
          "Lakewood",
          "Henderson",
          "Covina",
          "Stamford",
          "Bloomington",
          "Kingsport",
          "Spokane",
          "Kennewick",
          "Philadelphia",
          "Bellingham",
          "Visalia",
          "La Crosse",
          "Council Bluffs",
          "North Lauderdale",
          "Dallas",
          "Antioch",
          "Sterling Heights",
          "Deerfield Beach",
          "Fishers",
          "Cheyenne",
          "Murrieta",
          "Lenexa",
          "Noblesville",
          "Southaven",
          "Chino",
          "Gaithersburg",
          "Fountain Valley",
          "Frederick",
          "Greenville",
          "DeKalb",
          "West Allis",
          "Thornton",
          "West Des Moines",
          "Fall River",
          "Tulare",
          "Chula Vista",
          "Coral Springs",
          "Concord",
          "Smyrna",
          "Apopka",
          "Grand Forks",
          "Lancaster",
          "Naperville",
          "Hollywood",
          "Rogers",
          "New Orleans",
          "Lakewood",
          "Oak Lawn",
          "Caldwell",
          "Portland",
          "Concord",
          "Burien",
          "St. Charles",
          "Waukesha",
          "Flagstaff",
          "Puyallup",
          "Schenectady",
          "Denver",
          "Springfield",
          "Campbell",
          "Moreno Valley",
          "Kettering",
          "Lincoln Park",
          "Lake Havasu City",
          "North Little Rock",
          "Reno",
          "Littleton",
          "Prescott",
          "Dublin",
          "Texarkana",
          "Portland",
          "Brooklyn Park",
          "West Haven",
          "El Centro",
          "The Colony",
          "Flint",
          "Pittsburg",
          "Buckeye",
          "Brea",
          "Indio",
          "Scottsdale",
          "Columbus",
          "Lancaster",
          "Lincoln",
          "Trenton",
          "Boston",
          "Glendora",
          "Rochester",
          "Florissant",
          "Annapolis",
          "Chapel Hill",
          "Lawrence",
          "Calexico",
          "Calumet City",
          "Missoula",
          "Clovis",
          "Pearland",
          "Gilbert",
          "Wausau",
          "Raleigh",
          "Orange",
          "Walnut Creek",
          "Bremerton",
          "Porterville",
          "Marana",
          "Tallahassee",
          "Conroe",
          "Blacksburg",
          "San Antonio",
          "Hartford",
          "Waterloo",
          "Binghamton",
          "Meridian",
          "Fond du Lac",
          "Baytown",
          "Cary",
          "Weymouth Town",
          "Tulsa",
          "Mission",
          "Cuyahoga Falls",
          "Malden",
          "Allen",
          "Tucson",
          "Franklin",
          "Shakopee",
          "Jacksonville",
          "Atlantic City",
          "Erie",
          "Merced",
          "Abilene",
          "Yorba Linda",
          "Greenville",
          "Huntersville",
          "St. Clair Shores",
          "Harrisburg",
          "San Buenaventura (Ventura)",
          "Fremont",
          "Pueblo",
          "Chelsea",
          "Belleville",
          "Minneapolis",
          "Bartlett",
          "Wichita Falls",
          "Missouri City",
          "St. Louis",
          "Pharr",
          "Albuquerque",
          "Athens-Clarke County",
          "South Jordan",
          "North Las Vegas",
          "Pomona",
          "Eastvale",
          "Grove City",
          "Lawrence",
          "Midland",
          "Oklahoma City",
          "Oro Valley",
          "Mesa",
          "Norwalk",
          "Kentwood",
          "Brookfield",
          "Rockwall",
          "Mishawaka",
          "Tustin",
          "St. Cloud",
          "Passaic",
          "Escondido",
          "San Bruno",
          "Berkeley",
          "San Clemente",
          "Lawton",
          "Eau Claire",
          "Maricopa",
          "DeSoto",
          "Fort Wayne",
          "Shoreline",
          "Medford",
          "La Habra",
          "Albany",
          "Daly City",
          "Taylor",
          "Lynchburg",
          "Bowie",
          "Danbury",
          "Charlottesville",
          "Coral Gables",
          "Coeur d'Alene",
          "El Monte",
          "Crystal Lake",
          "Danville",
          "Goodyear",
          "Paterson",
          "Salem",
          "Kissimmee",
          "Saginaw",
          "Brownsville",
          "Flower Mound",
          "Grapevine",
          "Edina",
          "Detroit",
          "Fairfield",
          "Mansfield",
          "Rochester",
          "Birmingham",
          "Austin",
          "Santa Barbara",
          "Addison",
          "Rio Rancho",
          "Normal",
          "Romeoville",
          "Coon Rapids",
          "San Mateo",
          "Orlando",
          "Casper",
          "Bedford",
          "Wilmington",
          "Pinellas Park",
          "North Miami Beach",
          "Kansas City",
          "Fitchburg",
          "Wheeling",
          "Newton",
          "North Miami",
          "Norwich",
          "Newark",
          "Alexandria",
          "Blaine",
          "Harlingen",
          "Lompoc",
          "Denton",
          "Galveston",
          "Greenwood",
          "Salinas",
          "Miami Gardens",
          "Huntington",
          "Laredo",
          "Melbourne",
          "Haltom City",
          "Palm Bay",
          "Wilson",
          "Bountiful",
          "Ceres",
          "Parma",
          "Rapid City",
          "Bell Gardens",
          "Commerce City",
          "Springfield",
          "Fort Collins",
          "San Leandro",
          "Vista",
          "Yonkers",
          "Cincinnati",
          "Hagerstown",
          "Sanford",
          "Union City",
          "Toledo",
          "Sierra Vista",
          "Newport News",
          "Hammond",
          "Buffalo Grove",
          "Sugar Land",
          "Huntsville",
          "Lodi",
          "Edmonds",
          "Duncanville",
          "Rocky Mount",
          "Pontiac",
          "National City",
          "Hayward",
          "Niagara Falls",
          "Sparks",
          "Hanford",
          "Cypress",
          "Youngstown",
          "Madison",
          "Redlands",
          "Cape Girardeau",
          "Nampa",
          "Washington",
          "Wheaton",
          "Lancaster",
          "Rialto",
          "Fargo",
          "Peoria",
          "Omaha",
          "Rancho Santa Margarita",
          "Manhattan",
          "Palm Springs",
          "San Diego",
          "Santa Rosa",
          "Lowell",
          "Broken Arrow",
          "Kent",
          "Nashville",
          "Hackensack",
          "Broomfield",
          "Durham",
          "Wichita",
          "Cathedral City",
          "Lakeville",
          "Elmhurst",
          "Weslaco",
          "Greenfield",
          "Sunnyvale",
          "Santa Cruz",
          "Kenosha",
          "State College",
          "Mansfield",
          "Quincy",
          "Pompano Beach",
          "San Angelo",
          "Bloomington",
          "Tracy",
          "Spartanburg",
          "Nashua",
          "Macon",
          "Hempstead",
          "Camden",
          "Palm Desert",
          "Streamwood",
          "Chesapeake",
          "Dublin",
          "Camarillo",
          "Muskegon",
          "Elizabeth",
          "Anchorage",
          "Minot",
          "Davie",
          "McAllen",
          "McKinney",
          "Killeen",
          "Findlay",
          "Oakland",
          "Mountain View",
          "Lake Elsinore",
          "Amarillo",
          "Provo",
          "Atlanta",
          "Monterey Park",
          "Strongsville",
          "Madera",
          "Decatur",
          "Woonsocket",
          "Mobile",
          "Vallejo",
          "Arcadia",
          "Collierville",
          "Jefferson City",
          "Longview",
          "Chandler",
          "Arvada",
          "Alhambra",
          "Kokomo",
          "Oakland Park",
          "Indianapolis",
          "Boynton Beach",
          "Apache Junction",
          "Mount Prospect",
          "Cranston",
          "Lafayette",
          "Olathe",
          "Johns Creek",
          "Greensboro",
          "Kalamazoo",
          "Tigard",
          "Jacksonville",
          "Citrus Heights",
          "Tuscaloosa",
          "Ankeny",
          "Hawthorne",
          "Hoover",
          "Delray Beach",
          "Wellington",
          "Bullhead City",
          "Weston",
          "Troy",
          "New Rochelle",
          "Stockton",
          "Royal Oak",
          "Titusville",
          "Laguna Niguel",
          "Spokane Valley",
          "Costa Mesa",
          "Grand Prairie",
          "Portsmouth",
          "Lacey",
          "Apex",
          "Sioux City",
          "Encinitas",
          "Spanish Fork",
          "Huntington Park",
          "Eden Prairie",
          "Peoria",
          "Tempe",
          "Wilmington",
          "Taylorsville",
          "Westland",
          "Mesquite",
          "Burlington",
          "Garland",
          "Richmond",
          "Bismarck",
          "Carson City",
          "Muskogee",
          "Augusta-Richmond County",
          "Fayetteville",
          "Albany",
          "Sayreville",
          "Newark",
          "Diamond Bar",
          "Decatur",
          "Chattanooga",
          "Jeffersonville",
          "Bartlett",
          "Baldwin Park",
          "Miami Beach",
          "Jackson",
          "Port Arthur",
          "San Luis Obispo",
          "Burleson",
          "Newport Beach",
          "Riverton",
          "Yakima",
          "Dayton",
          "Gulfport",
          "Long Beach",
          "Chico",
          "Hattiesburg",
          "Eugene",
          "Colton",
          "Montebello",
          "Pleasanton",
          "Everett",
          "Hutchinson",
          "Fairfield",
          "Avondale",
          "Euclid",
          "Battle Creek",
          "Bloomington",
          "Rock Island",
          "Beaverton",
          "Kenner",
          "Clovis",
          "Troy",
          "Milpitas",
          "Des Plaines",
          "Placentia",
          "Taunton",
          "Montclair",
          "Johnson City",
          "Savannah",
          "Warren",
          "Vancouver",
          "Sunrise",
          "Muncie",
          "Lehi",
          "San Francisco",
          "Fontana",
          "Frisco",
          "Chino Hills",
          "Poway",
          "Huber Heights",
          "New Brunswick",
          "Norfolk",
          "Hillsboro",
          "San Jacinto",
          "Pensacola",
          "Hamilton",
          "Florence",
          "San Bernardino",
          "Peachtree Corners",
          "Victorville",
          "Gary",
          "Casa Grande",
          "Morgan Hill",
          "Dubuque",
          "Syracuse",
          "Clarksville",
          "Lakeland",
          "Valley Stream",
          "Dover",
          "Moorhead",
          "Culver City",
          "Palatine",
          "Seattle",
          "Covington",
          "Elk Grove",
          "Shreveport",
          "Ogden",
          "Harrisonburg",
          "Inglewood",
          "Pasadena",
          "Lawrence",
          "Lake Oswego",
          "Petaluma",
          "Springfield",
          "Napa",
          "Aurora",
          "Duluth",
          "Roanoke",
          "Bend",
          "Apple Valley",
          "Waltham",
          "Fort Myers",
          "Tampa",
          "Upland",
          "Danville",
          "Beloit",
          "Plantation",
          "Colorado Springs",
          "Modesto",
          "Grand Rapids",
          "Oak Park",
          "Sarasota",
          "Jurupa Valley",
          "Bellflower",
          "Boulder",
          "Santa Fe",
          "Coachella",
          "Marlborough",
          "Riverside",
          "Palmdale",
          "Novato",
          "Layton",
          "Bolingbrook",
          "Mission Viejo",
          "Glenview",
          "Lincoln",
          "Folsom",
          "Prescott Valley",
          "Las Cruces",
          "Bozeman",
          "Schaumburg",
          "Warren",
          "St. Peters",
          "Ames",
          "Surprise",
          "Richardson",
          "Midland",
          "San Marcos",
          "Wilkes-Barre",
          "Appleton",
          "Shawnee",
          "Mentor",
          "Livermore",
          "Charlotte",
          "Owensboro",
          "Jupiter",
          "Rohnert Park",
          "Chicago",
          "Billings",
          "Wauwatosa",
          "Lombard",
          "New Haven",
          "York",
          "Knoxville",
          "Elyria",
          "Barnstable Town",
          "Murray",
          "Alameda",
          "Manteca",
          "Maplewood",
          "Medford",
          "Murfreesboro",
          "Yuba City",
          "Shelton",
          "Cedar Falls",
          "Germantown",
          "Scranton",
          "Auburn",
          "Manassas",
          "Vacaville",
          "Santa Monica",
          "Suffolk",
          "Rochester Hills",
          "La Quinta",
          "Charleston",
          "Delano",
          "St. Cloud",
          "Charleston",
          "Kannapolis",
          "Corona",
          "Rocklin",
          "Lee's Summit",
          "Palm Coast",
          "Sandy",
          "Bentonville",
          "Santa Clarita",
          "Altamonte Springs",
          "New Braunfels",
          "Memphis",
          "Irving",
          "Alexandria",
          "Hesperia",
          "Holyoke",
          "Dunwoody",
          "Skokie",
          "Kearny",
          "Bethlehem",
          "St. Joseph",
          "Redondo Beach",
          "Houston",
          "Temecula",
          "Ann Arbor",
          "Beaumont",
          "East Lansing",
          "Santee",
          "Tamarac",
          "Bellevue",
          "Pembroke Pines",
          "Springdale",
          "Oxnard",
          "Odessa",
          "Stillwater",
          "Brockton",
          "Bayonne",
          "Paramount",
          "Moline",
          "Meridian",
          "Cleveland",
          "Jersey City",
          "St. Paul",
          "Deltona",
          "Freeport",
          "Iowa City",
          "Anaheim",
          "Apple Valley",
          "Great Falls",
          "West Valley City",
          "Hampton",
          "Georgetown",
          "Orem",
          "Monrovia",
          "Keller",
          "Goose Creek",
          "Little Rock",
          "Santa Ana",
          "White Plains",
          "Idaho Falls",
          "Bellevue",
          "Roseville",
          "Perth Amboy",
          "Peabody",
          "Grand Island",
          "Columbia",
          "Racine",
          "Carmel",
          "Portage",
          "Middletown",
          "Woodland",
          "Revere",
          "Euless",
          "Arlington Heights",
          "Hemet",
          "High Point",
          "Newark",
          "Midwest City",
          "San Marcos",
          "Port Orange",
          "Lakewood",
          "Westerville",
          "Rockford",
          "El Cajon",
          "St. Petersburg",
          "Downers Grove",
          "Milford",
          "Albany",
          "Las Vegas",
          "Pasadena",
          "Port St. Lucie",
          "Cedar Rapids",
          "Ormond Beach",
          "Quincy",
          "Miramar",
          "El Paso",
          "Topeka",
          "Rosemead",
          "Keizer",
          "Minnetonka",
          "Akron",
          "Edinburg",
          "Rancho Cucamonga",
          "North Charleston",
          "Louisville",
          "Watsonville",
          "Coconut Creek",
          "Bradenton",
          "Carlsbad",
          "Texas City",
          "Redding",
          "Wyoming",
          "Lorain",
          "Roy",
          "Fort Lauderdale",
          "Warner Robins",
          "Clearwater",
          "Cutler Bay",
          "Florence",
          "Terre Haute",
          "Temple",
          "Beavercreek",
          "Sioux Falls",
          "Columbus",
          "Margate",
          "Leominster",
          "Warwick",
          "Bakersfield",
          "Miami",
          "Lake Charles",
          "Richland",
          "Hickory",
          "South San Francisco",
          "Plymouth",
          "South Bend",
          "Edmond",
          "Des Moines",
          "Bonita Springs",
          "Draper",
          "Whittier",
          "Livonia",
          "Milwaukee",
          "Auburn",
          "Sumter",
          "Beverly",
          "Renton",
          "Centennial",
          "Richmond",
          "Anderson",
          "Beaumont",
          "Pflugerville",
          "Hoboken",
          "Lexington-Fayette",
          "Norwalk",
          "Yuma",
          "Highland",
          "Carol Stream",
          "Joliet",
          "Rock Hill",
          "Rancho Cordova",
          "Dearborn Heights",
          "Honolulu",
          "Victoria",
          "Attleboro",
          "Wylie",
          "Carrollton",
          "Plainfield",
          "Hoffman Estates",
          "Methuen",
          "North Port",
          "Rockville",
          "Burbank",
          "Fullerton",
          "Oshkosh",
          "Huntsville",
          "Farmington Hills",
          "Pico Rivera",
          "Cerritos",
          "La Puente",
          "Grand Junction",
          "Enid",
          "San Jose",
          "Round Rock",
          "Maple Grove",
          "Norman",
          "Homestead",
          "Friendswood",
          "Irvine",
          "Pocatello",
          "Pacifica",
          "Sheboygan",
          "Bossier City",
          "Cedar Park",
          "Sandy Springs",
          "Champaign",
          "Clifton",
          "Moore",
          "Blue Springs",
          "Lancaster",
          "Bryan",
          "Hurst",
          "Cape Coral",
          "Cupertino",
          "Pittsfield",
          "Gilroy",
          "Manchester",
          "Virginia Beach",
          "Salina",
          "Somerville",
          "Largo",
          "Fresno",
          "Phenix City",
          "Berwyn",
          "Palm Beach Gardens",
          "Pawtucket",
          "San Gabriel",
          "Winston-Salem",
          "Alpharetta",
          "O'Fallon",
          "Redwood City",
          "Union City",
          "Hallandale Beach",
          "Mankato",
          "Aliso Viejo",
          "Menifee",
          "Loveland",
          "Carpentersville",
          "Providence",
          "Hialeah",
          "San Ramon",
          "Ontario",
          "Kirkland",
          "St. George",
          "Hilton Head Island",
          "Glendale",
          "Meriden",
          "Gardena",
          "Westfield",
          "Elgin",
          "Plano",
          "Longmont",
          "Coppell",
          "Lakewood",
          "Jonesboro",
          "College Station",
          "Dearborn",
          "Utica",
          "Monroe",
          "Baltimore",
          "Springfield",
          "Pine Bluff",
          "Plainfield",
          "Lynn",
          "Woodbury",
          "Gainesville",
          "West Sacramento",
          "Sammamish",
          "Aventura",
          "Fayetteville",
          "San Rafael",
          "Conway",
          "Tacoma",
          "Middletown",
          "Burlington",
          "Twin Falls",
          "Sherman",
          "New York",
          "Simi Valley",
          "West Covina",
          "Castle Rock",
          "Valdosta",
          "Fort Worth",
          "Carson",
          "Evansville",
          "Santa Maria",
          "Brentwood",
          "La Mesa",
          "Westminster",
          "Reading",
          "Turlock",
          "Greeley",
          "Tyler",
          "Winter Garden",
          "Waco",
          "Martinez",
          "Thousand Oaks",
          "Azusa",
          "Bridgeport",
          "St. Louis Park",
          "Chesterfield",
          "Greenacres",
          "Pasco",
          "Torrance",
          "Madison",
          "Janesville",
          "Waukegan",
          "Bowling Green",
          "Arlington",
          "Lewisville",
          "Farmington",
          "Oakley",
          "Palo Alto",
          "Springfield",
          "New Bedford",
          "Redmond",
          "Brentwood",
          "Davis",
          "La Mirada",
          "Smyrna",
          "Altoona",
          "Dothan",
          "East Orange",
          "Tinley Park",
          "Biloxi",
          "Urbana",
          "Garden Grove",
          "Lynwood",
          "Northglenn",
          "Canton",
          "Brookhaven",
          "Baton Rouge",
          "Bristol",
          "Independence",
          "Lansing",
          "Orland Park",
          "Vineland",
          "Green Bay",
          "Evanston",
          "Ocoee",
          "Los Angeles",
          "Federal Way",
          "West Jordan",
          "Yucaipa",
          "Pittsburgh",
          "Downey",
          "Cicero",
          "South Gate",
          "Panama City",
          "Joplin",
          "League City",
          "Salt Lake City",
          "Fort Pierce",
          "Phoenix",
          "Corvallis",
          "Cedar Hill",
          "Chicopee",
          "Ocala",
          "Roswell",
          "Park Ridge",
          "Concord",
          "Olympia",
          "Huntington Beach",
          "Corpus Christi",
          "Haverhill",
          "Hanover Park",
          "Cambridge",
          "Glendale",
          "Stanton",
          "Summerville",
          "Davenport",
          "Boca Raton",
          "New Britain",
          "Roseville",
          "Cleveland Heights",
          "Gresham",
          "Lauderhill",
          "Hendersonville",
          "Santa Clara",
          "Oceanside",
          "Lake Forest",
          "Novi",
          "West New York",
          "Everett",
          "Linden",
          "Asheville",
          "Compton"
         ],
         "lat": [
          48.0517637,
          33.7825194,
          41.49932,
          42.262593200000005,
          34.0007104,
          41.558152500000006,
          44.804132200000005,
          42.4733688,
          30.2240897,
          43.6187102,
          41.6819935,
          33.8675143,
          33.952602,
          39.5186002,
          26.7153424,
          42.51954,
          41.7605849,
          39.1156615,
          25.8195424,
          33.7513419,
          33.5778631,
          38.9822282,
          32.298757300000005,
          35.262082,
          29.2108147,
          39.0997265,
          33.7444613,
          44.7677424,
          32.9029017,
          33.3942655,
          32.366805199999995,
          41.7369803,
          42.4792618,
          40.6084305,
          32.8323225,
          32.4609764,
          42.8864468,
          42.9764027,
          32.8342952,
          40.742551,
          38.5815719,
          35.385924200000005,
          41.813711600000005,
          41.6266555,
          40.9125992,
          39.7047095,
          36.0395247,
          34.0900091,
          41.0534302,
          39.165325,
          36.548434,
          47.6587802,
          46.2112458,
          39.9525839,
          48.74908,
          36.3302284,
          43.8013556,
          41.2619444,
          26.217305,
          32.7766642,
          38.0049214,
          42.5803122,
          26.3184123,
          39.95675479999999,
          41.1399814,
          33.553914299999995,
          38.9536174,
          40.0455917,
          34.9889818,
          34.0122346,
          39.143440600000005,
          33.7091847,
          39.4142688,
          35.612661,
          41.9294736,
          43.0166806,
          39.8680412,
          41.5772115,
          41.7014912,
          36.20772879999999,
          32.6400541,
          26.271192,
          35.4087517,
          33.883992600000006,
          28.6934076,
          47.9252568,
          39.71367539999999,
          41.7508391,
          26.0112014,
          36.3320196,
          29.9510658,
          47.1717649,
          41.719978000000005,
          43.6629384,
          45.523062200000005,
          37.9779776,
          47.4703767,
          38.7881062,
          43.0116784,
          35.1982836,
          47.1853785,
          42.8142432,
          39.7392358,
          39.7817213,
          37.2871651,
          33.9424658,
          39.6895036,
          42.2505943,
          34.483901,
          34.769535999999995,
          39.5296329,
          39.613321,
          34.540024200000005,
          37.7021521,
          33.425125,
          43.661471,
          45.0941315,
          41.2705484,
          32.792,
          33.0806083,
          43.0125274,
          38.027976200000005,
          33.3703197,
          33.9166805,
          33.7205771,
          33.494170399999994,
          39.9611755,
          40.0378755,
          40.8257625,
          40.2170534,
          42.3600825,
          34.136118700000004,
          44.0121221,
          38.789217,
          38.9784453,
          35.913199600000006,
          39.8386516,
          32.6789476,
          41.6155909,
          46.8787176,
          36.8252277,
          29.5635666,
          33.3528264,
          44.9591352,
          35.7795897,
          33.7877944,
          37.9100783,
          47.567320200000005,
          36.06523,
          32.436381,
          30.4382559,
          30.3118769,
          37.2295733,
          29.4241219,
          41.7637111,
          42.492786,
          42.0986867,
          43.61210870000001,
          43.7730448,
          29.735504700000003,
          35.791540000000005,
          42.2180724,
          36.1539816,
          26.2159066,
          41.1339449,
          42.4250964,
          33.1031744,
          32.2217429,
          35.9250637,
          44.79739620000001,
          30.3321838,
          39.3642834,
          42.1292241,
          37.3021632,
          32.4487364,
          33.888625899999994,
          34.8526176,
          35.410694,
          42.4974085,
          40.273191100000005,
          34.274646000000004,
          37.548269700000006,
          38.2544472,
          42.3917638,
          38.5200504,
          44.977753,
          35.2045328,
          33.913708500000006,
          29.6185669,
          38.6270025,
          26.1947962,
          35.0853336,
          33.9519347,
          40.5621704,
          36.1988592,
          34.055103,
          33.952463,
          39.8814519,
          38.9716689,
          31.9973456,
          35.4675602,
          32.3909071,
          33.4151843,
          41.117744,
          42.8694731,
          43.0605671,
          32.9312336,
          41.6619927,
          33.7458511,
          45.5579451,
          40.8567662,
          33.1192068,
          37.6304904,
          37.87159260000001,
          33.4269728,
          34.6035669,
          44.811349,
          33.058106300000006,
          32.589699800000005,
          41.079273,
          47.7556531,
          42.4184296,
          33.9319578,
          42.65257929999999,
          37.6879241,
          42.240872,
          37.4137536,
          39.0067768,
          41.394817,
          38.0293059,
          25.72149,
          47.6776832,
          34.0686206,
          42.2411344,
          37.8215929,
          33.4353394,
          40.9167654,
          44.9428975,
          28.291955699999995,
          43.4194699,
          25.9017472,
          33.0145673,
          32.9342919,
          44.889686600000005,
          42.331427000000005,
          39.3454673,
          32.5631924,
          43.16103,
          33.5206608,
          30.267153000000004,
          34.4208305,
          41.931696,
          35.2327544,
          40.5142026,
          41.6475306,
          45.1732394,
          37.562991700000005,
          28.5383355,
          42.866632,
          32.844017,
          34.2257255,
          27.8428025,
          25.9331488,
          39.114053000000006,
          42.5834228,
          42.1391927,
          42.3370413,
          25.8900949,
          41.5242649,
          40.735657,
          31.3112936,
          45.1607987,
          26.1906306,
          34.6391501,
          33.2148412,
          29.3013479,
          39.6136578,
          36.6777372,
          25.9420377,
          38.41924960000001,
          27.530567100000003,
          28.0836269,
          32.799573800000005,
          28.03446210000001,
          35.7212689,
          40.8893895,
          37.5949316,
          41.404774200000006,
          44.0805434,
          33.9652918,
          39.8083196,
          42.1014831,
          40.5852602,
          37.7249296,
          33.2000368,
          40.9312099,
          39.1031182,
          39.6417629,
          28.802861199999995,
          40.6975898,
          41.6639383,
          31.5455001,
          37.0870821,
          41.5833688,
          42.1662831,
          29.6196787,
          34.730368799999994,
          38.1341477,
          47.8106521,
          32.6518004,
          35.938210299999994,
          42.6389216,
          32.6781085,
          37.6688205,
          43.0962143,
          39.5349112,
          36.3274502,
          33.8169599,
          41.0997803,
          34.6992579,
          34.055569299999995,
          37.3058839,
          43.5407172,
          38.9071923,
          41.8661403,
          32.5920798,
          34.1064001,
          46.8771863,
          40.6936488,
          41.25236339999999,
          33.640855,
          39.1836082,
          33.8302961,
          32.715738,
          38.440429,
          42.633424700000006,
          36.060949,
          47.380933500000005,
          36.1626638,
          40.8859325,
          39.9205411,
          35.99403289999999,
          37.688889,
          33.780538799999995,
          44.6496868,
          41.8994744,
          26.1595194,
          42.9614039,
          37.36883,
          36.9741171,
          42.5847425,
          40.7933949,
          40.758390000000006,
          39.9356016,
          26.2378597,
          31.4637723,
          40.4842027,
          37.7396513,
          34.949567200000004,
          42.7653662,
          32.8406946,
          40.7062128,
          39.9259463,
          33.7222445,
          42.02558270000001,
          36.7682088,
          40.0992294,
          34.216393700000005,
          43.2341813,
          40.6639916,
          61.2180556,
          48.23296679999999,
          26.0764783,
          26.203407100000003,
          33.197246500000006,
          31.1171194,
          41.04422,
          37.8043637,
          37.3860517,
          33.668077200000006,
          35.2219971,
          40.2338438,
          33.7489954,
          34.0625106,
          41.3144966,
          36.961335600000005,
          39.84031470000001,
          42.0028761,
          30.6953657,
          38.1040864,
          34.139729200000005,
          35.042036,
          38.57670170000001,
          32.5007037,
          33.3061605,
          39.8027644,
          34.095287,
          40.486427,
          26.1723065,
          39.768403,
          26.531786600000004,
          33.4150485,
          42.066416700000005,
          41.7798226,
          40.4167022,
          38.8813958,
          34.0289259,
          36.0726354,
          42.2917069,
          45.4312294,
          34.7540524,
          38.7071247,
          33.2098407,
          41.7317884,
          33.9164032,
          33.405386699999994,
          26.4614625,
          26.6617635,
          35.1359386,
          26.1003654,
          42.6064095,
          40.9114882,
          37.9577016,
          42.4894801,
          28.6122187,
          33.5225261,
          47.6732281,
          33.6411316,
          32.7459645,
          36.8354258,
          47.0342629,
          35.732652,
          42.4999942,
          33.0369867,
          40.114955,
          33.981681200000004,
          44.8546856,
          33.5805955,
          33.4255104,
          39.7390721,
          40.6677248,
          42.324204,
          32.7667955,
          36.0956918,
          32.912624,
          37.9357576,
          46.8083268,
          39.1637984,
          35.747876899999994,
          33.4734978,
          35.0526641,
          31.5785074,
          40.4594021,
          37.5296593,
          34.028622600000006,
          34.6059253,
          35.0456297,
          38.27757020000001,
          41.9950276,
          34.0852868,
          25.790654,
          35.6145169,
          29.8849504,
          35.2827524,
          32.5420821,
          33.6189101,
          40.521893,
          46.6020711,
          39.7589478,
          30.367419800000004,
          33.770050399999995,
          39.7284944,
          31.3271189,
          44.0520691,
          34.0739016,
          34.0165053,
          37.6624312,
          47.9789848,
          38.0608445,
          38.2493581,
          33.4355977,
          41.5931049,
          42.32115220000001,
          44.840798,
          41.5094771,
          45.487062,
          29.9940924,
          34.4047987,
          42.7284117,
          37.4323341,
          42.03336229999999,
          33.87223710000001,
          41.900101,
          34.0775104,
          36.3134397,
          32.0835407,
          41.2375569,
          45.6387281,
          26.1669711,
          40.1933767,
          40.3916172,
          37.7749295,
          34.0922335,
          33.1506744,
          33.989818799999995,
          32.9628232,
          39.843947,
          40.4862157,
          36.8507689,
          45.5228939,
          33.783908399999994,
          30.421309,
          39.3995008,
          34.1954331,
          34.1083449,
          33.9698929,
          34.5362184,
          41.5933696,
          32.8795022,
          37.130501200000005,
          42.5005583,
          43.0481221,
          36.5297706,
          28.0394654,
          40.6642699,
          39.158168,
          46.8737648,
          34.0211224,
          42.1103041,
          47.6062095,
          39.083671200000005,
          38.4087993,
          32.5251516,
          41.223,
          38.4495688,
          33.9616801,
          34.1477849,
          42.7070354,
          45.4206749,
          38.232417,
          39.9242266,
          38.2975381,
          39.7294319,
          46.7866719,
          37.2709704,
          44.0581728,
          34.5008311,
          42.376485200000005,
          26.640628000000003,
          27.950575,
          34.09751,
          36.5859718,
          42.5083482,
          26.1275862,
          38.8338816,
          37.6390972,
          42.9633599,
          41.885031700000006,
          27.3364347,
          33.9971974,
          33.8816818,
          40.0149856,
          35.686975200000006,
          33.6803003,
          42.3459271,
          33.9533487,
          34.5794343,
          38.1074198,
          41.0602216,
          41.6986416,
          33.6000232,
          42.0697509,
          38.891565,
          38.6779591,
          34.6100243,
          32.3199396,
          45.6769979,
          42.0333607,
          42.5144566,
          38.7874699,
          42.034722,
          33.62923370000001,
          32.948333500000004,
          43.6155825,
          29.8832749,
          41.2459149,
          44.2619309,
          39.0228485,
          41.6661573,
          37.6818745,
          35.2270869,
          37.7719074,
          26.934224600000004,
          38.3396367,
          41.8781136,
          45.783285600000006,
          43.049457200000006,
          41.8800296,
          41.308274,
          39.9625984,
          35.96063839999999,
          41.36837979999999,
          41.7003208,
          40.6668916,
          37.7652065,
          37.7974273,
          44.953021500000006,
          42.3265152,
          35.8456213,
          39.1404477,
          41.3164856,
          42.5348993,
          35.08675770000001,
          41.408969,
          32.6098566,
          38.7509488,
          38.3565773,
          34.01945429999999,
          36.7282054,
          42.6583661,
          33.663357299999994,
          38.3498195,
          35.7688425,
          28.2489016,
          32.776474900000004,
          35.4873613,
          33.8752935,
          38.7907339,
          38.9108408,
          29.5844524,
          40.564978100000005,
          36.3728538,
          34.3916641,
          28.6611089,
          29.7030024,
          35.1495343,
          32.814017699999994,
          38.8048355,
          34.4263886,
          42.2042586,
          33.9462125,
          42.0324025,
          40.7684342,
          40.6259316,
          39.7674578,
          33.8491816,
          29.7604267,
          33.4936391,
          42.2808256,
          30.080174,
          42.7369792,
          32.8383828,
          26.2128609,
          41.1543623,
          26.007765,
          36.18674420000001,
          34.1975048,
          31.8456816,
          36.1156071,
          42.083433500000005,
          40.6687141,
          33.8894598,
          41.5067003,
          32.3643098,
          35.1595182,
          40.7281575,
          44.9537029,
          28.9005446,
          40.65760220000001,
          41.6611277,
          33.8352932,
          44.7319094,
          47.4941836,
          40.691613200000006,
          37.0298687,
          30.633261800000003,
          40.2968979,
          34.14426160000001,
          32.9341893,
          32.9810059,
          34.7464809,
          33.7455731,
          41.0339862,
          43.4916514,
          47.610377,
          38.7521235,
          40.5067723,
          42.5278731,
          40.92639570000001,
          38.95170529999999,
          42.7261309,
          39.978371,
          42.20115379999999,
          39.5150576,
          38.6785157,
          42.408430200000005,
          32.8370727,
          42.0883603,
          33.7475203,
          35.955692299999995,
          40.0581205,
          35.4495065,
          33.1433723,
          29.1383165,
          33.853626899999995,
          40.1261743,
          42.2711311,
          32.7947731,
          27.773056,
          41.8089191,
          41.2306979,
          44.6365107,
          36.1699412,
          29.6910625,
          27.2730492,
          41.9778795,
          29.2858129,
          42.25287720000001,
          25.9860762,
          31.7775757,
          39.0558235,
          34.0805651,
          44.9901194,
          44.9211836,
          41.081444700000006,
          26.3017374,
          34.1063989,
          32.8546197,
          38.2526647,
          36.910231,
          26.2517482,
          27.4989278,
          33.158093300000004,
          29.383845,
          40.5865396,
          42.9133602,
          41.452819,
          41.1616108,
          26.1224386,
          32.6130007,
          27.9658533,
          25.5808323,
          34.79981,
          39.4667034,
          31.0982344,
          39.7092262,
          43.5445959,
          39.2014404,
          26.244526300000004,
          42.5250906,
          41.7001009,
          35.3732921,
          25.7616798,
          30.226594899999995,
          46.2856907,
          35.7344538,
          37.654656,
          45.01051939999999,
          41.6763545,
          35.6528323,
          41.6005448,
          26.339806,
          40.5246711,
          33.97917929999999,
          42.36837,
          43.0389025,
          47.3073228,
          33.9204354,
          42.5584283,
          47.4828776,
          39.5807452,
          37.5407246,
          40.1053196,
          33.929460600000006,
          30.4393696,
          40.7439905,
          38.040583700000006,
          33.9022367,
          32.6926512,
          34.1283442,
          41.9125286,
          41.525031,
          34.9248667,
          38.5890723,
          42.3369816,
          21.3069444,
          28.8052674,
          41.9445441,
          33.0151201,
          32.975641499999995,
          41.632223,
          42.0629915,
          42.7262016,
          27.044224,
          39.0839973,
          34.18083920000001,
          33.8703596,
          44.0247062,
          30.723526300000003,
          42.4989936,
          33.9830688,
          33.8583483,
          34.0200114,
          39.0638705,
          36.3955891,
          37.3382082,
          30.508255100000003,
          45.072464200000006,
          35.2225668,
          25.4687224,
          29.529399800000004,
          33.6839473,
          42.8713032,
          37.6138253,
          43.7508284,
          32.5159852,
          30.505198,
          33.9304352,
          40.1164204,
          40.8584328,
          35.339507899999994,
          39.0169509,
          34.6867846,
          30.6743643,
          32.82346210000001,
          26.5628537,
          37.3229978,
          42.4500845,
          37.0057816,
          42.995639700000005,
          36.8529263,
          38.8402805,
          42.3875968,
          27.9094665,
          36.7468422,
          32.4709761,
          41.8505874,
          26.8233946,
          41.878711,
          34.0961111,
          36.0998596,
          34.07537620000001,
          38.8106075,
          37.4852152,
          37.59339179999999,
          25.9812024,
          44.1635775,
          33.5676842,
          33.6971468,
          40.397761200000005,
          42.1211364,
          41.8239891,
          25.8575963,
          37.7799273,
          34.0633443,
          47.6814875,
          37.0965278,
          32.216316,
          34.1425078,
          41.5381535,
          33.8883487,
          42.1250929,
          42.0354084,
          33.0198431,
          40.1672068,
          32.9545687,
          41.481993200000005,
          35.8422967,
          30.627977,
          42.3222599,
          43.100903,
          32.5093109,
          39.2903848,
          37.20895720000001,
          34.2284312,
          40.6337136,
          42.466763,
          44.923855200000006,
          29.6516344,
          38.5804609,
          47.6162683,
          25.9564812,
          36.0625795,
          37.9735346,
          35.0886963,
          47.2528768,
          41.5623209,
          44.4758825,
          42.5629668,
          33.635661799999994,
          40.7127837,
          34.2694474,
          34.0686208,
          39.372212100000006,
          30.8327022,
          32.7554883,
          33.8316745,
          37.9715592,
          34.953033700000006,
          36.0331164,
          32.7678287,
          39.8366528,
          40.3356483,
          37.4946568,
          40.42331420000001,
          32.351260100000005,
          28.5652787,
          31.549333,
          38.0193657,
          34.1705609,
          34.1336186,
          41.18654779999999,
          44.9597376,
          38.6631083,
          26.6276276,
          46.2395793,
          33.835849200000006,
          43.07305170000001,
          42.6827885,
          42.3636331,
          36.9685219,
          32.735687,
          33.046233,
          36.7280583,
          37.9974219,
          37.4418834,
          44.0462362,
          41.6362152,
          47.6739881,
          37.931868,
          38.5449065,
          33.9172357,
          35.9828412,
          40.5186809,
          31.2232313,
          40.767323,
          41.5731442,
          30.396031800000003,
          40.1105875,
          33.7739053,
          33.930293,
          39.8961821,
          40.7989473,
          33.8651033,
          30.4582829,
          41.6717648,
          39.0911161,
          42.732535,
          41.6303103,
          39.4863773,
          44.519159,
          42.0450722,
          28.5691677,
          34.0522342,
          47.3223221,
          40.6096698,
          34.033625,
          40.4406248,
          33.9401088,
          41.8455877,
          33.954737,
          30.1588129,
          37.0842271,
          29.5074538,
          40.7607793,
          27.446705600000005,
          33.4483771,
          44.5645659,
          32.5884689,
          42.14870429999999,
          29.1871986,
          34.0232431,
          42.0111412,
          43.2081366,
          47.0378741,
          33.660297,
          27.8005828,
          42.7762015,
          41.9994722,
          42.3736158,
          33.538652299999995,
          33.802515500000005,
          33.0185039,
          41.5236437,
          26.3683064,
          41.6612104,
          42.4972583,
          41.5200518,
          45.5001357,
          26.1403635,
          36.3047735,
          37.3541079,
          33.1958696,
          33.6469661,
          42.48059,
          40.7878788,
          42.40843,
          40.6220478,
          35.5950581,
          33.8958492
         ],
         "legendgroup": "",
         "lon": [
          -122.1770818,
          -117.2286478,
          -81.6943605,
          -71.8022934,
          -81.0348144,
          -73.0514965,
          -93.1668858,
          -83.2218731,
          -92.0198427,
          -116.2146068,
          -85.9766671,
          -117.9981181,
          -84.5499327,
          -104.7613633,
          -80.0533746,
          -70.8967155,
          -88.3200715,
          -77.5636015,
          -80.3553302,
          -117.9939921,
          -101.8551665,
          -94.6707917,
          -90.1848103,
          -81.1873005,
          -81.02283309999999,
          -94.5785667,
          -118.3870173,
          -93.2777226,
          -96.56388,
          -104.5230242,
          -86.2999689,
          -111.8338359,
          -71.1522765,
          -75.4901833,
          -79.82842579999999,
          -84.9877094,
          -78.8783689,
          -88.10842240000001,
          -97.2289029,
          -84.1052256,
          -121.4943996,
          -94.3985475,
          -71.37005450000001,
          -93.7121656,
          -73.8370786,
          -105.08137340000002,
          -114.9817213,
          -117.8903397,
          -73.53873409999999,
          -86.5263857,
          -82.5618186,
          -117.4260466,
          -119.1372338,
          -75.1652215,
          -122.4781473,
          -119.2920585,
          -91.2395807,
          -95.8608333,
          -80.2258811,
          -96.7969879,
          -121.805789,
          -83.0302033,
          -80.0997657,
          -86.01335,
          -104.8202462,
          -117.2139232,
          -94.7335709,
          -86.0085955,
          -90.0125913,
          -117.688944,
          -77.2013705,
          -117.9536697,
          -77.41054090000002,
          -77.3663538,
          -88.7503647,
          -88.0070315,
          -104.9719243,
          -93.711332,
          -71.1550451,
          -119.3473379,
          -117.0841955,
          -80.27060440000001,
          -80.579511,
          -84.51437609999999,
          -81.53221490000001,
          -97.0328547,
          -82.59932940000002,
          -88.15353520000001,
          -80.1494901,
          -94.1185366,
          -90.0715323,
          -122.518458,
          -87.7479528,
          -116.6873596,
          -122.6764816,
          -122.0310733,
          -122.3467918,
          -90.4974359,
          -88.2314813,
          -111.651302,
          -122.29289740000002,
          -73.93956870000001,
          -104.990251,
          -89.6501481,
          -121.9499568,
          -117.2296717,
          -84.16882740000001,
          -83.17853609999999,
          -114.3224548,
          -92.2670941,
          -119.8138027,
          -105.0166498,
          -112.4685025,
          -121.9357918,
          -94.0476882,
          -70.2553259,
          -93.3563405,
          -72.94697109999998,
          -115.5630514,
          -96.8928309,
          -83.6874562,
          -121.88468059999998,
          -112.58377659999998,
          -117.9000604,
          -116.2155619,
          -111.9260519,
          -82.9987942,
          -76.3055144,
          -96.6851982,
          -74.74293840000001,
          -71.0588801,
          -117.865339,
          -92.4801989,
          -90.322614,
          -76.4921829,
          -79.05584449999999,
          -86.0252612,
          -115.4988834,
          -87.5294871,
          -113.996586,
          -119.7029194,
          -95.2860474,
          -111.789027,
          -89.6301221,
          -78.6381787,
          -117.8531119,
          -122.0651819,
          -122.6329356,
          -119.0167679,
          -111.2224422,
          -84.2807329,
          -95.4560512,
          -80.4139393,
          -98.4936282,
          -72.6850932,
          -92.3425775,
          -75.9179738,
          -116.3915131,
          -88.44705079999999,
          -94.9774274,
          -78.78111690000001,
          -70.94103559999999,
          -95.992775,
          -98.3252932,
          -81.48455849999999,
          -71.066163,
          -96.6705503,
          -110.926479,
          -86.86888990000001,
          -93.5272861,
          -81.655651,
          -74.4229266,
          -80.085059,
          -120.48296770000002,
          -99.7331439,
          -117.8131125,
          -82.3940104,
          -80.8428504,
          -82.8963604,
          -76.88670079999999,
          -119.22903159999998,
          -121.9885719,
          -104.6091409,
          -71.03282840000001,
          -89.98399350000001,
          -93.2650108,
          -89.8739753,
          -98.4933873,
          -95.5377215,
          -90.1994042,
          -98.1836216,
          -106.6055534,
          -83.357567,
          -111.929658,
          -115.1175013,
          -117.7499909,
          -117.5848025,
          -83.09296440000001,
          -95.2352501,
          -102.0779146,
          -97.5164276,
          -110.96648799999998,
          -111.8314724,
          -73.4081575,
          -85.6447492,
          -88.1064787,
          -96.4597089,
          -86.15861559999999,
          -117.826166,
          -94.1632404,
          -74.12847640000001,
          -117.086421,
          -122.4110835,
          -122.272747,
          -117.6119925,
          -98.3959291,
          -91.4984941,
          -112.0476423,
          -96.8570738,
          -85.13935129999999,
          -122.3415178,
          -71.10616390000001,
          -117.94617340000002,
          -73.7562317,
          -122.47020790000002,
          -83.2696509,
          -79.1422464,
          -76.77913649999999,
          -73.45401109999999,
          -78.4766781,
          -80.2683838,
          -116.7804664,
          -118.0275667,
          -88.3161965,
          -121.9999606,
          -112.3576567,
          -74.171811,
          -123.0350963,
          -81.40757099999999,
          -83.9508068,
          -97.4974838,
          -97.0969552,
          -97.0780654,
          -93.3499489,
          -83.0457538,
          -84.56031870000001,
          -97.1416768,
          -77.61092190000001,
          -86.80249,
          -97.7430608,
          -119.6981901,
          -87.9889556,
          -106.6630437,
          -88.99063120000001,
          -88.0895061,
          -93.3030063,
          -122.3255254,
          -81.3792365,
          -106.313081,
          -97.1430671,
          -77.9447102,
          -82.6995443,
          -80.1625463,
          -94.6274636,
          -71.8022955,
          -87.92895909999999,
          -71.2092214,
          -80.18671379999999,
          -72.07591049999999,
          -74.1723667,
          -92.4451371,
          -93.2349489,
          -97.6961026,
          -120.4579409,
          -97.1330683,
          -94.7976958,
          -86.10665259999999,
          -121.6555013,
          -80.2456045,
          -82.445154,
          -99.4803241,
          -80.6081089,
          -97.2691817,
          -80.5886646,
          -77.91553950000001,
          -111.880771,
          -120.9577098,
          -81.72290859999998,
          -103.2310149,
          -118.1514588,
          -104.9338675,
          -72.589811,
          -105.084423,
          -122.1560768,
          -117.2425355,
          -73.8987469,
          -84.5120196,
          -77.7199932,
          -81.269453,
          -74.2631635,
          -83.555212,
          -110.27728559999998,
          -76.4730122,
          -87.5000412,
          -87.9631308,
          -95.6349463,
          -86.5861037,
          -121.2722194,
          -122.3773552,
          -96.9083366,
          -77.7905339,
          -83.2910468,
          -117.0991967,
          -122.0807964,
          -79.03773879999999,
          -119.7526886,
          -119.6456844,
          -118.0372852,
          -80.6495194,
          -86.7483318,
          -117.1825381,
          -89.51814759999999,
          -116.5634624,
          -77.03687070000001,
          -88.1070127,
          -96.7561082,
          -117.3703235,
          -96.7898034,
          -89.58898640000001,
          -95.9979883,
          -117.603104,
          -96.5716694,
          -116.54529209999998,
          -117.1610838,
          -122.7140548,
          -71.3161718,
          -95.7974526,
          -122.2348431,
          -86.78160159999999,
          -74.0434736,
          -105.0866504,
          -78.898619,
          -97.336111,
          -116.4668036,
          -93.24272,
          -87.9403418,
          -97.9908366,
          -88.0125865,
          -122.0363496,
          -122.0307963,
          -87.8211854,
          -77.8600012,
          -82.51544709999999,
          -91.4098726,
          -80.1247667,
          -100.4370375,
          -88.9936873,
          -121.4252227,
          -81.93204820000001,
          -71.467566,
          -83.6324022,
          -73.6187397,
          -75.1196199,
          -116.3744556,
          -88.1784085,
          -76.2874927,
          -83.11407709999999,
          -119.0376023,
          -86.2483921,
          -74.2107006,
          -149.90027780000003,
          -101.2922906,
          -80.2521157,
          -98.2300124,
          -96.6397822,
          -97.7277959,
          -83.6499321,
          -122.27111370000002,
          -122.0838511,
          -117.3272615,
          -101.8312969,
          -111.6585337,
          -84.3879824,
          -118.1228476,
          -81.83569,
          -120.0607176,
          -88.9548001,
          -71.5147839,
          -88.0398912,
          -122.25663670000002,
          -118.0353449,
          -89.66452659999999,
          -92.1735164,
          -94.7404891,
          -111.8412502,
          -105.0874842,
          -118.1270146,
          -86.13360329999999,
          -80.13198929999999,
          -86.158068,
          -80.0905465,
          -111.5495777,
          -87.9372908,
          -71.4372796,
          -86.8752869,
          -94.8191285,
          -84.19857900000001,
          -79.79197540000001,
          -85.5872286,
          -122.7714861,
          -77.43024140000001,
          -121.2810611,
          -87.5691735,
          -93.6001278,
          -118.3525748,
          -86.8113781,
          -80.07282009999999,
          -80.2683571,
          -114.5285981,
          -80.3997748,
          -83.1497751,
          -73.78235490000002,
          -121.29077959999998,
          -83.1446485,
          -80.8075537,
          -117.7075526,
          -117.2393748,
          -117.9186689,
          -96.9977846,
          -76.29827420000001,
          -122.8231915,
          -78.85028559999999,
          -96.4003069,
          -117.2919818,
          -111.654923,
          -118.2250725,
          -93.470786,
          -112.2373779,
          -111.9400054,
          -75.5397878,
          -111.9388258,
          -83.400211,
          -96.5991593,
          -79.43779909999999,
          -96.6388833,
          -122.3477486,
          -100.7837392,
          -119.7674034,
          -95.3696909,
          -82.0105148,
          -78.87835849999999,
          -84.155741,
          -74.360846,
          -122.0402399,
          -117.8103367,
          -86.9833417,
          -85.3096801,
          -85.7371847,
          -88.1856301,
          -117.96089779999998,
          -80.1300455,
          -88.8139469,
          -93.939947,
          -120.6596156,
          -97.3208492,
          -117.9289469,
          -111.9391023,
          -120.5058987,
          -84.1916069,
          -89.0928155,
          -118.1937395,
          -121.8374777,
          -89.2903392,
          -123.08675359999998,
          -117.3136547,
          -118.1137535,
          -121.8746789,
          -122.2020794,
          -97.9297743,
          -122.0399663,
          -112.3496021,
          -81.5267873,
          -85.17971419999999,
          -93.2982799,
          -90.5787476,
          -122.8037102,
          -90.2417434,
          -103.2052272,
          -73.69178509999999,
          -121.8995741,
          -87.88339909999999,
          -117.8703363,
          -71.08976740000001,
          -117.6897776,
          -82.35347270000001,
          -81.0998342,
          -80.81841659999999,
          -122.6614861,
          -80.25659499999999,
          -85.3863599,
          -111.8507662,
          -122.4194155,
          -117.435048,
          -96.8236116,
          -117.7325848,
          -117.0358646,
          -84.1246608,
          -74.4518188,
          -76.28587259999999,
          -122.989827,
          -116.95863500000002,
          -87.2169149,
          -84.5613355,
          -79.7625625,
          -117.2897652,
          -84.2214551,
          -117.2927641,
          -87.3464271,
          -111.7573521,
          -121.6543901,
          -90.6645718,
          -76.1474244,
          -87.3594528,
          -81.9498042,
          -73.7084645,
          -75.5243682,
          -96.7678039,
          -118.3964665,
          -88.03424,
          -122.33207079999998,
          -84.5085536,
          -121.3716178,
          -93.7501789,
          -111.9738304,
          -78.8689155,
          -118.3531311,
          -118.1445155,
          -71.1631137,
          -122.6706498,
          -122.6366524,
          -83.8088171,
          -122.286865,
          -104.8319195,
          -92.1004852,
          -79.9414266,
          -121.3153096,
          -117.1858759,
          -71.2356113,
          -81.87230840000001,
          -82.4571776,
          -117.6483876,
          -79.3950228,
          -89.0317765,
          -80.23310359999999,
          -104.8213634,
          -120.9968782,
          -85.6680863,
          -87.7845025,
          -82.5306527,
          -117.4854802,
          -118.1170117,
          -105.2705456,
          -105.937799,
          -116.173894,
          -71.55228740000001,
          -117.3961564,
          -118.11646129999998,
          -122.5697032,
          -111.9710529,
          -88.0683955,
          -117.6719953,
          -87.7878408,
          -121.29300790000002,
          -121.17605829999998,
          -112.315721,
          -106.7636538,
          -111.0429339,
          -88.0834059,
          -83.01465259999999,
          -90.6298922,
          -93.62,
          -112.3679279,
          -96.7298519,
          -84.24721159999999,
          -97.9413941,
          -75.88130749999999,
          -88.4153847,
          -94.7151865,
          -81.339552,
          -121.7680088,
          -80.8431267,
          -87.1111676,
          -80.09420870000001,
          -122.70109840000002,
          -87.62979820000001,
          -108.5006904,
          -88.0075875,
          -88.0078435,
          -72.9278835,
          -76.727745,
          -83.9207392,
          -82.10764859999999,
          -70.3002024,
          -111.8879909,
          -122.2416355,
          -121.21605259999998,
          -92.9952153,
          -122.8755949,
          -86.39027,
          -121.6169108,
          -73.0931641,
          -92.4453161,
          -89.8100858,
          -75.66241219999999,
          -85.48078249999999,
          -77.4752667,
          -121.9877444,
          -118.4911912,
          -76.5835621,
          -83.14993220000001,
          -116.3100095,
          -81.6326234,
          -119.2470536,
          -81.2811801,
          -79.9310512,
          -80.62173409999998,
          -117.5664384,
          -121.2357828,
          -94.3821724,
          -81.2078699,
          -111.8389726,
          -94.2088172,
          -118.542586,
          -81.36562420000001,
          -98.1244531,
          -90.0489801,
          -96.9488945,
          -77.0469214,
          -117.3008784,
          -72.61620090000001,
          -84.3346473,
          -87.7416246,
          -74.1454214,
          -75.3704579,
          -94.846681,
          -118.3884078,
          -95.3698028,
          -117.1483648,
          -83.7430378,
          -94.1265562,
          -84.48386540000001,
          -116.97391670000002,
          -80.2497707,
          -95.9145568,
          -80.2962555,
          -94.1288141,
          -119.17705159999998,
          -102.3676431,
          -97.0583681,
          -71.0183787,
          -74.11430909999999,
          -118.15979109999998,
          -90.5151342,
          -88.70365600000001,
          -84.8766115,
          -74.0776417,
          -93.0899578,
          -81.2636738,
          -73.58318349999999,
          -91.5301683,
          -117.9145036,
          -93.21772,
          -111.2833449,
          -112.0010501,
          -76.3452218,
          -97.6779842,
          -111.69464750000002,
          -118.0019482,
          -97.229298,
          -80.03258670000001,
          -92.2895948,
          -117.8678338,
          -73.76290970000001,
          -112.0339645,
          -122.2006786,
          -121.28800590000002,
          -74.2654234,
          -70.92866090000001,
          -98.3420118,
          -92.3340724,
          -87.78285229999999,
          -86.1180435,
          -85.5800022,
          -84.39827629999999,
          -121.7732971,
          -71.0119948,
          -97.0819541,
          -87.9806265,
          -116.9719684,
          -80.0053176,
          -82.4012642,
          -97.3967019,
          -117.1661449,
          -80.9956105,
          -118.1339563,
          -82.9290696,
          -89.09399520000001,
          -116.9625269,
          -82.64,
          -88.01117459999999,
          -73.064036,
          -123.1059282,
          -115.13982959999998,
          -95.2091006,
          -80.3582261,
          -91.6656232,
          -81.05588940000001,
          -71.0022705,
          -80.3035602,
          -106.4424559,
          -95.6890185,
          -118.072846,
          -123.0262077,
          -93.4687489,
          -81.51900529999999,
          -98.1633432,
          -117.5931084,
          -79.9748103,
          -85.7584557,
          -121.7568946,
          -80.17893509999999,
          -82.5748194,
          -117.3505939,
          -94.9027002,
          -122.3916754,
          -85.7053085,
          -82.18237459999999,
          -112.0263313,
          -80.13731740000001,
          -83.624201,
          -82.8001026,
          -80.3468593,
          -87.677251,
          -87.4139092,
          -97.342782,
          -84.0632685,
          -96.7311034,
          -85.9213796,
          -80.206436,
          -71.759794,
          -71.4161671,
          -119.0187125,
          -80.1917902,
          -93.2173758,
          -119.2844621,
          -81.3444573,
          -122.4077498,
          -93.4555093,
          -86.25198979999999,
          -97.4780954,
          -93.6091064,
          -81.77869720000001,
          -111.8638226,
          -118.032844,
          -83.3527097,
          -87.9064736,
          -122.22845320000002,
          -80.3414693,
          -70.880049,
          -122.21706609999998,
          -104.8771726,
          -77.4360481,
          -85.6802541,
          -116.977248,
          -97.6200043,
          -74.0323626,
          -84.50371640000002,
          -118.081733,
          -114.6276916,
          -117.2086513,
          -88.1347927,
          -88.0817251,
          -81.02507840000001,
          -121.302728,
          -83.2732627,
          -157.8583333,
          -97.0035982,
          -71.2856082,
          -96.5388789,
          -96.8899636,
          -88.2120315,
          -88.1227199,
          -71.19089240000001,
          -82.23592540000001,
          -77.1527578,
          -118.30896609999998,
          -117.9242966,
          -88.5426136,
          -95.5507771,
          -83.3677168,
          -118.096735,
          -118.0647871,
          -117.9495083,
          -108.5506486,
          -97.8783911,
          -121.88632859999998,
          -97.678896,
          -93.4557877,
          -97.4394777,
          -80.4775569,
          -95.2010447,
          -117.7946942,
          -112.4455344,
          -122.48691940000002,
          -87.71453000000001,
          -93.7321228,
          -97.8202888,
          -84.3733147,
          -88.2433829,
          -74.16375529999999,
          -97.4867028,
          -94.2816148,
          -118.1541632,
          -96.3699632,
          -97.1705678,
          -81.94953309999998,
          -122.0321823,
          -73.2453824,
          -121.5682751,
          -71.4547891,
          -75.977985,
          -97.6114237,
          -71.0994968,
          -82.7873244,
          -119.7725868,
          -85.0007653,
          -87.79366850000001,
          -80.1386547,
          -71.38255579999999,
          -118.1058333,
          -80.24421600000001,
          -84.2940899,
          -90.6998477,
          -122.2363548,
          -122.0438298,
          -80.148379,
          -93.9993996,
          -117.7256083,
          -117.185294,
          -105.0749801,
          -88.2578582,
          -71.4128343,
          -80.2781057,
          -121.9780153,
          -117.6508876,
          -122.2087353,
          -113.5684164,
          -80.752608,
          -118.255075,
          -72.8070435,
          -118.3089624,
          -72.749538,
          -88.2825668,
          -96.6988856,
          -105.1019275,
          -97.0150078,
          -81.7981908,
          -90.704279,
          -96.3344068,
          -83.1763145,
          -75.232664,
          -92.1193012,
          -76.6121893,
          -93.2922989,
          -92.0031955,
          -74.40737359999999,
          -70.9494938,
          -92.9593797,
          -82.3248262,
          -121.530234,
          -122.0355736,
          -80.1392121,
          -94.1574263,
          -122.5310874,
          -92.4421011,
          -122.4442906,
          -72.6506488,
          -73.21207199999999,
          -114.4608711,
          -96.6088805,
          -74.00594129999999,
          -118.781482,
          -117.93895259999998,
          -104.8560902,
          -83.2784851,
          -97.3307658,
          -118.281693,
          -87.5710898,
          -120.4357191,
          -86.7827772,
          -117.02308390000002,
          -105.03720459999998,
          -75.9268747,
          -120.8465941,
          -104.7091322,
          -95.3010624,
          -81.5861847,
          -97.1466695,
          -122.1341321,
          -118.8375937,
          -117.9075627,
          -73.1951767,
          -93.3702186,
          -90.5770675,
          -80.1353896,
          -119.10056570000002,
          -118.3406288,
          -89.4012302,
          -89.01872220000001,
          -87.84479379999999,
          -86.48080429999999,
          -97.1080656,
          -96.994174,
          -108.2186856,
          -121.7124536,
          -122.1430195,
          -123.0220289,
          -70.934205,
          -122.121512,
          -121.6957863,
          -121.7405167,
          -118.0120086,
          -86.51860450000001,
          -78.3947359,
          -85.39048879999999,
          -74.20486770000001,
          -87.7932939,
          -88.88530779999999,
          -88.2072697,
          -117.9414477,
          -118.21146029999998,
          -104.9811468,
          -81.378447,
          -84.3365917,
          -91.1403196,
          -72.9492703,
          -94.4155068,
          -84.55553470000001,
          -87.8539425,
          -75.0259637,
          -88.019826,
          -87.6876969,
          -81.5439619,
          -118.24368490000002,
          -122.3126222,
          -111.9391031,
          -117.0430865,
          -79.9958864,
          -118.1331593,
          -87.7539448,
          -118.2120161,
          -85.6602058,
          -94.513281,
          -95.0949303,
          -111.89104740000002,
          -80.3256056,
          -112.0740373,
          -123.2620435,
          -96.9561152,
          -72.6078672,
          -82.14009229999999,
          -84.36155550000001,
          -87.8406192,
          -71.5375718,
          -122.9006951,
          -117.9992265,
          -97.396381,
          -71.0772796,
          -88.1450735,
          -71.10973349999999,
          -112.1859866,
          -117.9931165,
          -80.17564809999999,
          -90.5776367,
          -80.1289321,
          -72.77954190000001,
          -82.93714090000002,
          -81.556235,
          -122.4302013,
          -80.2133808,
          -86.6199957,
          -121.9552356,
          -117.3794834,
          -117.689218,
          -83.47549129999999,
          -74.0143064,
          -71.0536625,
          -74.2445902,
          -82.5514869,
          -118.2200712
         ],
         "marker": {
          "color": "fuchsia"
         },
         "mode": "markers",
         "name": "",
         "showlegend": false,
         "subplot": "mapbox",
         "type": "scattermapbox"
        }
       ],
       "layout": {
        "autosize": true,
        "legend": {
         "tracegroupgap": 0
        },
        "mapbox": {
         "bearing": 0,
         "center": {
          "lat": 32.23439710171155,
          "lon": -84.27779116920158
         },
         "domain": {
          "x": [
           0,
           1
          ],
          "y": [
           0,
           1
          ]
         },
         "pitch": 0,
         "style": "open-street-map",
         "zoom": 5.556616195689603
        },
        "margin": {
         "b": 0,
         "l": 0,
         "r": 0,
         "t": 0
        },
        "template": {
         "data": {
          "bar": [
           {
            "error_x": {
             "color": "#2a3f5f"
            },
            "error_y": {
             "color": "#2a3f5f"
            },
            "marker": {
             "line": {
              "color": "#E5ECF6",
              "width": 0.5
             },
             "pattern": {
              "fillmode": "overlay",
              "size": 10,
              "solidity": 0.2
             }
            },
            "type": "bar"
           }
          ],
          "barpolar": [
           {
            "marker": {
             "line": {
              "color": "#E5ECF6",
              "width": 0.5
             },
             "pattern": {
              "fillmode": "overlay",
              "size": 10,
              "solidity": 0.2
             }
            },
            "type": "barpolar"
           }
          ],
          "carpet": [
           {
            "aaxis": {
             "endlinecolor": "#2a3f5f",
             "gridcolor": "white",
             "linecolor": "white",
             "minorgridcolor": "white",
             "startlinecolor": "#2a3f5f"
            },
            "baxis": {
             "endlinecolor": "#2a3f5f",
             "gridcolor": "white",
             "linecolor": "white",
             "minorgridcolor": "white",
             "startlinecolor": "#2a3f5f"
            },
            "type": "carpet"
           }
          ],
          "choropleth": [
           {
            "colorbar": {
             "outlinewidth": 0,
             "ticks": ""
            },
            "type": "choropleth"
           }
          ],
          "contour": [
           {
            "colorbar": {
             "outlinewidth": 0,
             "ticks": ""
            },
            "colorscale": [
             [
              0,
              "#0d0887"
             ],
             [
              0.1111111111111111,
              "#46039f"
             ],
             [
              0.2222222222222222,
              "#7201a8"
             ],
             [
              0.3333333333333333,
              "#9c179e"
             ],
             [
              0.4444444444444444,
              "#bd3786"
             ],
             [
              0.5555555555555556,
              "#d8576b"
             ],
             [
              0.6666666666666666,
              "#ed7953"
             ],
             [
              0.7777777777777778,
              "#fb9f3a"
             ],
             [
              0.8888888888888888,
              "#fdca26"
             ],
             [
              1,
              "#f0f921"
             ]
            ],
            "type": "contour"
           }
          ],
          "contourcarpet": [
           {
            "colorbar": {
             "outlinewidth": 0,
             "ticks": ""
            },
            "type": "contourcarpet"
           }
          ],
          "heatmap": [
           {
            "colorbar": {
             "outlinewidth": 0,
             "ticks": ""
            },
            "colorscale": [
             [
              0,
              "#0d0887"
             ],
             [
              0.1111111111111111,
              "#46039f"
             ],
             [
              0.2222222222222222,
              "#7201a8"
             ],
             [
              0.3333333333333333,
              "#9c179e"
             ],
             [
              0.4444444444444444,
              "#bd3786"
             ],
             [
              0.5555555555555556,
              "#d8576b"
             ],
             [
              0.6666666666666666,
              "#ed7953"
             ],
             [
              0.7777777777777778,
              "#fb9f3a"
             ],
             [
              0.8888888888888888,
              "#fdca26"
             ],
             [
              1,
              "#f0f921"
             ]
            ],
            "type": "heatmap"
           }
          ],
          "heatmapgl": [
           {
            "colorbar": {
             "outlinewidth": 0,
             "ticks": ""
            },
            "colorscale": [
             [
              0,
              "#0d0887"
             ],
             [
              0.1111111111111111,
              "#46039f"
             ],
             [
              0.2222222222222222,
              "#7201a8"
             ],
             [
              0.3333333333333333,
              "#9c179e"
             ],
             [
              0.4444444444444444,
              "#bd3786"
             ],
             [
              0.5555555555555556,
              "#d8576b"
             ],
             [
              0.6666666666666666,
              "#ed7953"
             ],
             [
              0.7777777777777778,
              "#fb9f3a"
             ],
             [
              0.8888888888888888,
              "#fdca26"
             ],
             [
              1,
              "#f0f921"
             ]
            ],
            "type": "heatmapgl"
           }
          ],
          "histogram": [
           {
            "marker": {
             "pattern": {
              "fillmode": "overlay",
              "size": 10,
              "solidity": 0.2
             }
            },
            "type": "histogram"
           }
          ],
          "histogram2d": [
           {
            "colorbar": {
             "outlinewidth": 0,
             "ticks": ""
            },
            "colorscale": [
             [
              0,
              "#0d0887"
             ],
             [
              0.1111111111111111,
              "#46039f"
             ],
             [
              0.2222222222222222,
              "#7201a8"
             ],
             [
              0.3333333333333333,
              "#9c179e"
             ],
             [
              0.4444444444444444,
              "#bd3786"
             ],
             [
              0.5555555555555556,
              "#d8576b"
             ],
             [
              0.6666666666666666,
              "#ed7953"
             ],
             [
              0.7777777777777778,
              "#fb9f3a"
             ],
             [
              0.8888888888888888,
              "#fdca26"
             ],
             [
              1,
              "#f0f921"
             ]
            ],
            "type": "histogram2d"
           }
          ],
          "histogram2dcontour": [
           {
            "colorbar": {
             "outlinewidth": 0,
             "ticks": ""
            },
            "colorscale": [
             [
              0,
              "#0d0887"
             ],
             [
              0.1111111111111111,
              "#46039f"
             ],
             [
              0.2222222222222222,
              "#7201a8"
             ],
             [
              0.3333333333333333,
              "#9c179e"
             ],
             [
              0.4444444444444444,
              "#bd3786"
             ],
             [
              0.5555555555555556,
              "#d8576b"
             ],
             [
              0.6666666666666666,
              "#ed7953"
             ],
             [
              0.7777777777777778,
              "#fb9f3a"
             ],
             [
              0.8888888888888888,
              "#fdca26"
             ],
             [
              1,
              "#f0f921"
             ]
            ],
            "type": "histogram2dcontour"
           }
          ],
          "mesh3d": [
           {
            "colorbar": {
             "outlinewidth": 0,
             "ticks": ""
            },
            "type": "mesh3d"
           }
          ],
          "parcoords": [
           {
            "line": {
             "colorbar": {
              "outlinewidth": 0,
              "ticks": ""
             }
            },
            "type": "parcoords"
           }
          ],
          "pie": [
           {
            "automargin": true,
            "type": "pie"
           }
          ],
          "scatter": [
           {
            "fillpattern": {
             "fillmode": "overlay",
             "size": 10,
             "solidity": 0.2
            },
            "type": "scatter"
           }
          ],
          "scatter3d": [
           {
            "line": {
             "colorbar": {
              "outlinewidth": 0,
              "ticks": ""
             }
            },
            "marker": {
             "colorbar": {
              "outlinewidth": 0,
              "ticks": ""
             }
            },
            "type": "scatter3d"
           }
          ],
          "scattercarpet": [
           {
            "marker": {
             "colorbar": {
              "outlinewidth": 0,
              "ticks": ""
             }
            },
            "type": "scattercarpet"
           }
          ],
          "scattergeo": [
           {
            "marker": {
             "colorbar": {
              "outlinewidth": 0,
              "ticks": ""
             }
            },
            "type": "scattergeo"
           }
          ],
          "scattergl": [
           {
            "marker": {
             "colorbar": {
              "outlinewidth": 0,
              "ticks": ""
             }
            },
            "type": "scattergl"
           }
          ],
          "scattermapbox": [
           {
            "marker": {
             "colorbar": {
              "outlinewidth": 0,
              "ticks": ""
             }
            },
            "type": "scattermapbox"
           }
          ],
          "scatterpolar": [
           {
            "marker": {
             "colorbar": {
              "outlinewidth": 0,
              "ticks": ""
             }
            },
            "type": "scatterpolar"
           }
          ],
          "scatterpolargl": [
           {
            "marker": {
             "colorbar": {
              "outlinewidth": 0,
              "ticks": ""
             }
            },
            "type": "scatterpolargl"
           }
          ],
          "scatterternary": [
           {
            "marker": {
             "colorbar": {
              "outlinewidth": 0,
              "ticks": ""
             }
            },
            "type": "scatterternary"
           }
          ],
          "surface": [
           {
            "colorbar": {
             "outlinewidth": 0,
             "ticks": ""
            },
            "colorscale": [
             [
              0,
              "#0d0887"
             ],
             [
              0.1111111111111111,
              "#46039f"
             ],
             [
              0.2222222222222222,
              "#7201a8"
             ],
             [
              0.3333333333333333,
              "#9c179e"
             ],
             [
              0.4444444444444444,
              "#bd3786"
             ],
             [
              0.5555555555555556,
              "#d8576b"
             ],
             [
              0.6666666666666666,
              "#ed7953"
             ],
             [
              0.7777777777777778,
              "#fb9f3a"
             ],
             [
              0.8888888888888888,
              "#fdca26"
             ],
             [
              1,
              "#f0f921"
             ]
            ],
            "type": "surface"
           }
          ],
          "table": [
           {
            "cells": {
             "fill": {
              "color": "#EBF0F8"
             },
             "line": {
              "color": "white"
             }
            },
            "header": {
             "fill": {
              "color": "#C8D4E3"
             },
             "line": {
              "color": "white"
             }
            },
            "type": "table"
           }
          ]
         },
         "layout": {
          "annotationdefaults": {
           "arrowcolor": "#2a3f5f",
           "arrowhead": 0,
           "arrowwidth": 1
          },
          "autotypenumbers": "strict",
          "coloraxis": {
           "colorbar": {
            "outlinewidth": 0,
            "ticks": ""
           }
          },
          "colorscale": {
           "diverging": [
            [
             0,
             "#8e0152"
            ],
            [
             0.1,
             "#c51b7d"
            ],
            [
             0.2,
             "#de77ae"
            ],
            [
             0.3,
             "#f1b6da"
            ],
            [
             0.4,
             "#fde0ef"
            ],
            [
             0.5,
             "#f7f7f7"
            ],
            [
             0.6,
             "#e6f5d0"
            ],
            [
             0.7,
             "#b8e186"
            ],
            [
             0.8,
             "#7fbc41"
            ],
            [
             0.9,
             "#4d9221"
            ],
            [
             1,
             "#276419"
            ]
           ],
           "sequential": [
            [
             0,
             "#0d0887"
            ],
            [
             0.1111111111111111,
             "#46039f"
            ],
            [
             0.2222222222222222,
             "#7201a8"
            ],
            [
             0.3333333333333333,
             "#9c179e"
            ],
            [
             0.4444444444444444,
             "#bd3786"
            ],
            [
             0.5555555555555556,
             "#d8576b"
            ],
            [
             0.6666666666666666,
             "#ed7953"
            ],
            [
             0.7777777777777778,
             "#fb9f3a"
            ],
            [
             0.8888888888888888,
             "#fdca26"
            ],
            [
             1,
             "#f0f921"
            ]
           ],
           "sequentialminus": [
            [
             0,
             "#0d0887"
            ],
            [
             0.1111111111111111,
             "#46039f"
            ],
            [
             0.2222222222222222,
             "#7201a8"
            ],
            [
             0.3333333333333333,
             "#9c179e"
            ],
            [
             0.4444444444444444,
             "#bd3786"
            ],
            [
             0.5555555555555556,
             "#d8576b"
            ],
            [
             0.6666666666666666,
             "#ed7953"
            ],
            [
             0.7777777777777778,
             "#fb9f3a"
            ],
            [
             0.8888888888888888,
             "#fdca26"
            ],
            [
             1,
             "#f0f921"
            ]
           ]
          },
          "colorway": [
           "#636efa",
           "#EF553B",
           "#00cc96",
           "#ab63fa",
           "#FFA15A",
           "#19d3f3",
           "#FF6692",
           "#B6E880",
           "#FF97FF",
           "#FECB52"
          ],
          "font": {
           "color": "#2a3f5f"
          },
          "geo": {
           "bgcolor": "white",
           "lakecolor": "white",
           "landcolor": "#E5ECF6",
           "showlakes": true,
           "showland": true,
           "subunitcolor": "white"
          },
          "hoverlabel": {
           "align": "left"
          },
          "hovermode": "closest",
          "mapbox": {
           "style": "light"
          },
          "paper_bgcolor": "white",
          "plot_bgcolor": "#E5ECF6",
          "polar": {
           "angularaxis": {
            "gridcolor": "white",
            "linecolor": "white",
            "ticks": ""
           },
           "bgcolor": "#E5ECF6",
           "radialaxis": {
            "gridcolor": "white",
            "linecolor": "white",
            "ticks": ""
           }
          },
          "scene": {
           "xaxis": {
            "backgroundcolor": "#E5ECF6",
            "gridcolor": "white",
            "gridwidth": 2,
            "linecolor": "white",
            "showbackground": true,
            "ticks": "",
            "zerolinecolor": "white"
           },
           "yaxis": {
            "backgroundcolor": "#E5ECF6",
            "gridcolor": "white",
            "gridwidth": 2,
            "linecolor": "white",
            "showbackground": true,
            "ticks": "",
            "zerolinecolor": "white"
           },
           "zaxis": {
            "backgroundcolor": "#E5ECF6",
            "gridcolor": "white",
            "gridwidth": 2,
            "linecolor": "white",
            "showbackground": true,
            "ticks": "",
            "zerolinecolor": "white"
           }
          },
          "shapedefaults": {
           "line": {
            "color": "#2a3f5f"
           }
          },
          "ternary": {
           "aaxis": {
            "gridcolor": "white",
            "linecolor": "white",
            "ticks": ""
           },
           "baxis": {
            "gridcolor": "white",
            "linecolor": "white",
            "ticks": ""
           },
           "bgcolor": "#E5ECF6",
           "caxis": {
            "gridcolor": "white",
            "linecolor": "white",
            "ticks": ""
           }
          },
          "title": {
           "x": 0.05
          },
          "xaxis": {
           "automargin": true,
           "gridcolor": "white",
           "linecolor": "white",
           "ticks": "",
           "title": {
            "standoff": 15
           },
           "zerolinecolor": "white",
           "zerolinewidth": 2
          },
          "yaxis": {
           "automargin": true,
           "gridcolor": "white",
           "linecolor": "white",
           "ticks": "",
           "title": {
            "standoff": 15
           },
           "zerolinecolor": "white",
           "zerolinewidth": 2
          }
         }
        }
       }
      },
      "image/png": "[encoded data removed]",
      "text/html": [
       "<div>                            <div id=\"dce996db-1847-4746-bffa-9003357f85f6\" class=\"plotly-graph-div\" style=\"height:300px; width:100%;\"></div>            <script type=\"text/javascript\">                require([\"plotly\"], function(Plotly) {                    window.PLOTLYENV=window.PLOTLYENV || {};                                    if (document.getElementById(\"dce996db-1847-4746-bffa-9003357f85f6\")) {                    Plotly.newPlot(                        \"dce996db-1847-4746-bffa-9003357f85f6\",                        [{\"customdata\":[[\"Washington\",63269],[\"California\",72326],[\"Ohio\",390113],[\"Massachusetts\",182544],[\"South Carolina\",133358],[\"Connecticut\",109676],[\"Minnesota\",65453],[\"Michigan\",73006],[\"Louisiana\",124276],[\"Idaho\",214237],[\"Indiana\",51265],[\"California\",82882],[\"Georgia\",59089],[\"Colorado\",48608],[\"Florida\",102436],[\"Massachusetts\",42544],[\"Illinois\",199963],[\"Virginia\",47673],[\"Florida\",50213],[\"California\",91739],[\"Texas\",239538],[\"Kansas\",181260],[\"Mississippi\",172638],[\"North Carolina\",73209],[\"Florida\",62316],[\"Missouri\",467007],[\"California\",42448],[\"Minnesota\",61434],[\"Texas\",58043],[\"New Mexico\",48611],[\"Alabama\",201332],[\"Utah\",48913],[\"Massachusetts\",39083],[\"Pennsylvania\",118577],[\"South Carolina\",74885],[\"Georgia\",202824],[\"New York\",258959],[\"Wisconsin\",39834],[\"Texas\",67317],[\"Ohio\",38355],[\"California\",479686],[\"Arkansas\",87650],[\"Rhode Island\",47149],[\"Iowa\",41776],[\"New York\",68224],[\"Colorado\",147214],[\"Nevada\",270811],[\"California\",48508],[\"Connecticut\",126456],[\"Indiana\",82575],[\"Tennessee\",52962],[\"Washington\",210721],[\"Washington\",76762],[\"Pennsylvania\",1553165],[\"Washington\",82631],[\"California\",127763],[\"Wisconsin\",51522],[\"Iowa\",61969],[\"Florida\",42757],[\"Texas\",1257676],[\"California\",107100],[\"Michigan\",131224],[\"Florida\",78041],[\"Indiana\",83891],[\"Wyoming\",62448],[\"California\",107479],[\"Kansas\",50344],[\"Indiana\",56540],[\"Mississippi\",50997],[\"California\",80988],[\"Maryland\",65690],[\"California\",56707],[\"Maryland\",66893],[\"North Carolina\",89130],[\"Illinois\",43849],[\"Wisconsin\",60697],[\"Colorado\",127359],[\"Iowa\",61255],[\"Massachusetts\",88697],[\"California\",61170],[\"California\",256780],[\"Florida\",126604],[\"North Carolina\",83506],[\"Georgia\",53438],[\"Florida\",45587],[\"North Dakota\",54932],[\"Ohio\",39325],[\"Illinois\",144864],[\"Florida\",146526],[\"Arkansas\",60112],[\"Louisiana\",378715],[\"Washington\",59097],[\"Illinois\",57073],[\"Idaho\",48957],[\"Oregon\",609456],[\"California\",125880],[\"Washington\",49858],[\"Missouri\",67569],[\"Wisconsin\",71016],[\"Arizona\",68667],[\"Washington\",38609],[\"New York\",65902],[\"Colorado\",649495],[\"Illinois\",117006],[\"California\",40584],[\"California\",201175],[\"Ohio\",55870],[\"Michigan\",37313],[\"Arizona\",52844],[\"Arkansas\",66075],[\"Nevada\",233294],[\"Colorado\",44275],[\"Arizona\",40590],[\"California\",52105],[\"Texas\",37442],[\"Maine\",66318],[\"Minnesota\",78373],[\"Connecticut\",55046],[\"California\",43363],[\"Texas\",39458],[\"Michigan\",99763],[\"California\",66695],[\"Arizona\",56683],[\"California\",40963],[\"California\",83539],[\"Arizona\",226918],[\"Ohio\",822553],[\"Pennsylvania\",59325],[\"Nebraska\",268738],[\"New Jersey\",84349],[\"Massachusetts\",645966],[\"California\",51074],[\"Minnesota\",110742],[\"Missouri\",52363],[\"Maryland\",38722],[\"North Carolina\",59635],[\"Indiana\",47135],[\"California\",39389],[\"Illinois\",37240],[\"Montana\",69122],[\"California\",99769],[\"Texas\",100065],[\"Arizona\",229972],[\"Wisconsin\",39309],[\"North Carolina\",431746],[\"California\",139969],[\"California\",66900],[\"Washington\",39056],[\"California\",55174],[\"Arizona\",38290],[\"Florida\",186411],[\"Texas\",63032],[\"Virginia\",43609],[\"Texas\",1409019],[\"Connecticut\",125017],[\"Iowa\",68366],[\"New York\",46444],[\"Idaho\",83596],[\"Wisconsin\",42970],[\"Texas\",75418],[\"North Carolina\",151088],[\"Massachusetts\",55419],[\"Oklahoma\",398121],[\"Texas\",81050],[\"Ohio\",49267],[\"Massachusetts\",60509],[\"Texas\",92020],[\"Arizona\",526116],[\"Tennessee\",68886],[\"Minnesota\",39167],[\"Florida\",842583],[\"New Jersey\",39551],[\"Pennsylvania\",100671],[\"California\",81102],[\"Texas\",120099],[\"California\",67032],[\"South Carolina\",61397],[\"North Carolina\",50458],[\"Michigan\",60070],[\"Pennsylvania\",49188],[\"California\",108817],[\"California\",224922],[\"Colorado\",108249],[\"Massachusetts\",37670],[\"Illinois\",42895],[\"Minnesota\",400070],[\"Tennessee\",58226],[\"Texas\",104898],[\"Texas\",70185],[\"Missouri\",318416],[\"Texas\",73790],[\"New Mexico\",556495],[\"Georgia\",119980],[\"Utah\",59366],[\"Nevada\",226877],[\"California\",151348],[\"California\",55191],[\"Ohio\",37490],[\"Kansas\",90811],[\"Texas\",123933],[\"Oklahoma\",610613],[\"Arizona\",41627],[\"Arizona\",457587],[\"Connecticut\",87776],[\"Michigan\",50233],[\"Wisconsin\",37999],[\"Texas\",40922],[\"Indiana\",47989],[\"California\",78327],[\"Minnesota\",66297],[\"New Jersey\",70868],[\"California\",148738],[\"California\",42443],[\"California\",116768],[\"California\",65040],[\"Oklahoma\",97151],[\"Wisconsin\",67545],[\"Arizona\",45508],[\"Texas\",51483],[\"Indiana\",256496],[\"Washington\",54790],[\"Massachusetts\",57170],[\"California\",61653],[\"New York\",98424],[\"California\",104739],[\"Michigan\",61817],[\"Virginia\",78014],[\"Maryland\",56759],[\"Connecticut\",83684],[\"Virginia\",44349],[\"Florida\",49631],[\"Idaho\",46402],[\"California\",115708],[\"Illinois\",40388],[\"California\",43341],[\"Arizona\",72864],[\"New Jersey\",145948],[\"Oregon\",160614],[\"Florida\",65173],[\"Michigan\",50303],[\"Texas\",181860],[\"Texas\",68609],[\"Texas\",50195],[\"Minnesota\",49376],[\"Michigan\",688701],[\"Ohio\",42635],[\"Texas\",60872],[\"New York\",210358],[\"Alabama\",212113],[\"Texas\",885400],[\"California\",90412],[\"Illinois\",37385],[\"New Mexico\",91956],[\"Illinois\",54664],[\"Illinois\",39650],[\"Minnesota\",62103],[\"California\",101128],[\"Florida\",255483],[\"Wyoming\",59628],[\"Texas\",48592],[\"North Carolina\",112067],[\"Florida\",49998],[\"Florida\",43250],[\"Kansas\",148483],[\"Massachusetts\",40383],[\"Illinois\",38015],[\"Massachusetts\",87971],[\"Florida\",61007],[\"Connecticut\",40347],[\"New Jersey\",278427],[\"Louisiana\",48426],[\"Minnesota\",60407],[\"Texas\",65665],[\"California\",43509],[\"Texas\",123099],[\"Texas\",48733],[\"Indiana\",53665],[\"California\",155662],[\"Florida\",111378],[\"West Virginia\",49177],[\"Texas\",248142],[\"Florida\",77508],[\"Texas\",43580],[\"Florida\",104898],[\"North Carolina\",49628],[\"Utah\",43023],[\"California\",46714],[\"Ohio\",80429],[\"South Dakota\",70812],[\"California\",42889],[\"Colorado\",49799],[\"Massachusetts\",153703],[\"Colorado\",152061],[\"California\",87965],[\"California\",96929],[\"New York\",199766],[\"Ohio\",297517],[\"Maryland\",40612],[\"Florida\",56002],[\"New Jersey\",68247],[\"Ohio\",282313],[\"Arizona\",45129],[\"Virginia\",182020],[\"Indiana\",78967],[\"Illinois\",41778],[\"Texas\",83860],[\"Alabama\",186254],[\"California\",63338],[\"Washington\",40727],[\"Texas\",39605],[\"North Carolina\",56954],[\"Michigan\",59887],[\"California\",59834],[\"California\",151574],[\"New York\",49468],[\"Nevada\",93282],[\"California\",54686],[\"California\",49087],[\"Ohio\",65184],[\"Alabama\",45799],[\"California\",69999],[\"Missouri\",38816],[\"Idaho\",86518],[\"District of Columbia\",646449],[\"Illinois\",53648],[\"Texas\",38071],[\"California\",101910],[\"North Dakota\",113658],[\"Illinois\",116513],[\"Nebraska\",434353],[\"California\",49228],[\"Kansas\",56143],[\"California\",46281],[\"California\",1355896],[\"California\",171990],[\"Massachusetts\",108861],[\"Oklahoma\",103500],[\"Washington\",124435],[\"Tennessee\",634464],[\"New Jersey\",44113],[\"Colorado\",59471],[\"North Carolina\",245475],[\"Kansas\",386552],[\"California\",52977],[\"Minnesota\",58562],[\"Illinois\",45556],[\"Texas\",37093],[\"Wisconsin\",37159],[\"California\",147559],[\"California\",62864],[\"Wisconsin\",99889],[\"Pennsylvania\",41757],[\"Ohio\",46454],[\"Illinois\",40915],[\"Florida\",104410],[\"Texas\",97492],[\"Illinois\",78902],[\"California\",84691],[\"South Carolina\",37647],[\"New Hampshire\",87137],[\"Georgia\",89981],[\"New York\",55361],[\"New Jersey\",76903],[\"California\",50508],[\"Illinois\",40351],[\"Virginia\",230571],[\"Ohio\",43607],[\"California\",66086],[\"Michigan\",37213],[\"New Jersey\",127558],[\"Alaska\",300950],[\"North Dakota\",46321],[\"Florida\",96830],[\"Texas\",136639],[\"Texas\",148559],[\"Texas\",137147],[\"Ohio\",41512],[\"California\",406253],[\"California\",77846],[\"California\",57525],[\"Texas\",196429],[\"Utah\",116288],[\"Georgia\",447841],[\"California\",61085],[\"Ohio\",44730],[\"California\",63105],[\"Illinois\",74710],[\"Rhode Island\",41026],[\"Alabama\",194899],[\"California\",118837],[\"California\",57639],[\"Tennessee\",47333],[\"Missouri\",43330],[\"Texas\",81443],[\"Arizona\",249146],[\"Colorado\",111707],[\"California\",84577],[\"Indiana\",56895],[\"Florida\",43286],[\"Indiana\",843393],[\"Florida\",71097],[\"Arizona\",37130],[\"Illinois\",54771],[\"Rhode Island\",80566],[\"Indiana\",70373],[\"Kansas\",131885],[\"Georgia\",82788],[\"North Carolina\",279639],[\"Michigan\",75548],[\"Oregon\",50444],[\"North Carolina\",69079],[\"California\",85285],[\"Alabama\",95334],[\"Iowa\",51567],[\"California\",86199],[\"Alabama\",84126],[\"Florida\",64072],[\"Florida\",60202],[\"Arizona\",39383],[\"Florida\",68388],[\"Michigan\",82821],[\"New York\",79446],[\"California\",298118],[\"Michigan\",58946],[\"Florida\",44206],[\"California\",64652],[\"Washington\",91113],[\"California\",112174],[\"Texas\",183372],[\"Virginia\",96205],[\"Washington\",44919],[\"North Carolina\",42214],[\"Iowa\",82459],[\"California\",61588],[\"Utah\",36956],[\"California\",58879],[\"Minnesota\",62603],[\"Arizona\",162592],[\"Arizona\",168228],[\"Delaware\",71525],[\"Utah\",60519],[\"Michigan\",82578],[\"Texas\",143484],[\"North Carolina\",51510],[\"Texas\",234566],[\"California\",107571],[\"North Dakota\",67034],[\"Nevada\",54080],[\"Oklahoma\",38863],[\"Georgia\",197350],[\"North Carolina\",204408],[\"Georgia\",76185],[\"New Jersey\",44412],[\"California\",44096],[\"California\",56449],[\"Alabama\",55816],[\"Tennessee\",173366],[\"Indiana\",45929],[\"Illinois\",41679],[\"California\",76635],[\"Florida\",91026],[\"Tennessee\",67685],[\"Texas\",54135],[\"California\",46377],[\"Texas\",40714],[\"California\",87273],[\"Utah\",40921],[\"Washington\",93257],[\"Ohio\",143355],[\"Mississippi\",71012],[\"California\",469428],[\"California\",88077],[\"Mississippi\",47556],[\"Oregon\",159190],[\"California\",53243],[\"California\",63495],[\"California\",74110],[\"Washington\",105370],[\"Kansas\",41889],[\"California\",109320],[\"Arizona\",78822],[\"Ohio\",48139],[\"Michigan\",51848],[\"Minnesota\",86319],[\"Illinois\",38877],[\"Oregon\",93542],[\"Louisiana\",66975],[\"New Mexico\",39508],[\"New York\",49974],[\"California\",69783],[\"Illinois\",58918],[\"California\",52206],[\"Massachusetts\",56069],[\"California\",38027],[\"Tennessee\",65123],[\"Georgia\",142772],[\"Ohio\",40768],[\"Washington\",167405],[\"Florida\",90116],[\"Indiana\",70316],[\"Utah\",54382],[\"California\",837442],[\"California\",203003],[\"Texas\",136791],[\"California\",76572],[\"California\",49417],[\"Ohio\",38142],[\"New Jersey\",55831],[\"Virginia\",246139],[\"Oregon\",97368],[\"California\",45851],[\"Florida\",52703],[\"Ohio\",62258],[\"South Carolina\",37792],[\"California\",213708],[\"Georgia\",40059],[\"California\",121096],[\"Indiana\",78450],[\"Arizona\",50111],[\"California\",40836],[\"Iowa\",58253],[\"New York\",144669],[\"Tennessee\",142357],[\"Florida\",100710],[\"New York\",37659],[\"Delaware\",37366],[\"Minnesota\",39398],[\"California\",39428],[\"Illinois\",69350],[\"Washington\",652405],[\"Kentucky\",40956],[\"California\",161007],[\"Louisiana\",200327],[\"Utah\",84249],[\"Virginia\",51395],[\"California\",111542],[\"California\",139731],[\"Massachusetts\",77657],[\"Oregon\",37610],[\"California\",59440],[\"Ohio\",59357],[\"California\",79068],[\"Colorado\",345803],[\"Minnesota\",86128],[\"Virginia\",98465],[\"Oregon\",81236],[\"California\",70924],[\"Massachusetts\",62227],[\"Florida\",68190],[\"Florida\",352957],[\"California\",75413],[\"Virginia\",42907],[\"Wisconsin\",36888],[\"Florida\",90268],[\"Colorado\",439886],[\"California\",204933],[\"Michigan\",192294],[\"Illinois\",52066],[\"Florida\",53326],[\"California\",98030],[\"California\",77593],[\"Colorado\",103166],[\"New Mexico\",69976],[\"California\",43092],[\"Massachusetts\",39414],[\"California\",316619],[\"California\",157161],[\"California\",54194],[\"Utah\",70790],[\"Illinois\",73936],[\"California\",96346],[\"Illinois\",45417],[\"California\",45237],[\"California\",73098],[\"Arizona\",39791],[\"New Mexico\",101324],[\"Montana\",39860],[\"Illinois\",74907],[\"Michigan\",134873],[\"Missouri\",54842],[\"Iowa\",61792],[\"Arizona\",123546],[\"Texas\",104475],[\"Michigan\",42181],[\"Texas\",54076],[\"Pennsylvania\",41108],[\"Wisconsin\",73596],[\"Kansas\",64323],[\"Ohio\",46979],[\"California\",85156],[\"North Carolina\",792862],[\"Kentucky\",58416],[\"Florida\",58298],[\"California\",41398],[\"Illinois\",2718782],[\"Montana\",109059],[\"Wisconsin\",47134],[\"Illinois\",43907],[\"Connecticut\",130660],[\"Pennsylvania\",43935],[\"Tennessee\",183270],[\"Ohio\",53956],[\"Massachusetts\",44641],[\"Utah\",48612],[\"California\",76419],[\"California\",71948],[\"Minnesota\",39765],[\"Oregon\",77677],[\"Tennessee\",117044],[\"California\",65416],[\"Connecticut\",40999],[\"Iowa\",40566],[\"Tennessee\",39375],[\"Pennsylvania\",75806],[\"Alabama\",58582],[\"Virginia\",41705],[\"California\",94275],[\"California\",92472],[\"Virginia\",85728],[\"Michigan\",72952],[\"California\",39331],[\"West Virginia\",50821],[\"California\",52403],[\"Florida\",40918],[\"South Carolina\",127999],[\"North Carolina\",44359],[\"California\",159503],[\"California\",59738],[\"Missouri\",93184],[\"Florida\",78740],[\"Utah\",90231],[\"Arkansas\",40167],[\"California\",179590],[\"Florida\",42150],[\"Texas\",63279],[\"Tennessee\",653450],[\"Texas\",228653],[\"Virginia\",148892],[\"California\",92147],[\"Massachusetts\",40249],[\"Georgia\",47591],[\"Illinois\",65176],[\"New Jersey\",41664],[\"Pennsylvania\",75018],[\"Missouri\",77147],[\"California\",67815],[\"Texas\",2195914],[\"California\",106780],[\"Michigan\",117025],[\"Texas\",117796],[\"Michigan\",48554],[\"California\",56105],[\"Florida\",63155],[\"Nebraska\",53663],[\"Florida\",162329],[\"Arkansas\",75229],[\"California\",203007],[\"Texas\",110720],[\"Oklahoma\",47186],[\"Massachusetts\",94089],[\"New Jersey\",65028],[\"California\",54980],[\"Illinois\",43116],[\"Mississippi\",40921],[\"Tennessee\",42774],[\"New Jersey\",257342],[\"Minnesota\",294873],[\"Florida\",86290],[\"New York\",43167],[\"Iowa\",71591],[\"California\",345012],[\"Minnesota\",50201],[\"Montana\",59351],[\"Utah\",133579],[\"Virginia\",136699],[\"Texas\",54898],[\"Utah\",91648],[\"California\",37101],[\"Texas\",42907],[\"South Carolina\",39823],[\"Arkansas\",197357],[\"California\",334227],[\"New York\",57866],[\"Idaho\",58292],[\"Washington\",133992],[\"California\",127035],[\"New Jersey\",51982],[\"Massachusetts\",52044],[\"Nebraska\",50550],[\"Missouri\",115276],[\"Wisconsin\",78199],[\"Indiana\",85927],[\"Michigan\",47523],[\"Ohio\",48630],[\"California\",56590],[\"Massachusetts\",53756],[\"Texas\",53224],[\"Illinois\",75994],[\"California\",81750],[\"North Carolina\",107741],[\"Ohio\",47777],[\"Oklahoma\",56756],[\"California\",89387],[\"Florida\",57203],[\"California\",81121],[\"Ohio\",37530],[\"Illinois\",150251],[\"California\",102211],[\"Florida\",249688],[\"Illinois\",49670],[\"Connecticut\",51644],[\"Oregon\",51583],[\"Nevada\",603488],[\"Texas\",152735],[\"Florida\",171016],[\"Iowa\",128429],[\"Florida\",38661],[\"Massachusetts\",93494],[\"Florida\",130288],[\"Texas\",674433],[\"Kansas\",127679],[\"California\",54561],[\"Oregon\",37064],[\"Minnesota\",51368],[\"Ohio\",198100],[\"Texas\",80836],[\"California\",171386],[\"South Carolina\",104054],[\"Kentucky\",609893],[\"California\",52477],[\"Florida\",56792],[\"Florida\",51763],[\"California\",110972],[\"Texas\",46081],[\"California\",91119],[\"Michigan\",74100],[\"Ohio\",63710],[\"Utah\",37733],[\"Florida\",172389],[\"Georgia\",72531],[\"Florida\",109703],[\"Florida\",43328],[\"Alabama\",40059],[\"Indiana\",61025],[\"Texas\",70190],[\"Ohio\",45712],[\"South Dakota\",164676],[\"Indiana\",45775],[\"Florida\",55456],[\"Massachusetts\",41002],[\"Rhode Island\",81971],[\"California\",363630],[\"Florida\",417650],[\"Louisiana\",74024],[\"Washington\",52413],[\"North Carolina\",40361],[\"California\",66174],[\"Minnesota\",73987],[\"Indiana\",100886],[\"Oklahoma\",87004],[\"Iowa\",207510],[\"Florida\",47547],[\"Utah\",45285],[\"California\",86635],[\"Michigan\",95208],[\"Wisconsin\",599164],[\"Washington\",74860],[\"South Carolina\",41190],[\"Massachusetts\",40664],[\"Washington\",97003],[\"Colorado\",106114],[\"Virginia\",214114],[\"Indiana\",55670],[\"California\",40481],[\"Texas\",53752],[\"New Jersey\",52575],[\"Kentucky\",308428],[\"California\",106589],[\"Arizona\",91923],[\"California\",54291],[\"Illinois\",40379],[\"Illinois\",147806],[\"South Carolina\",69103],[\"California\",67911],[\"Michigan\",56620],[\"Hawaii\",347884],[\"Texas\",65098],[\"Massachusetts\",43886],[\"Texas\",44575],[\"Texas\",126700],[\"Illinois\",41734],[\"Illinois\",52398],[\"Massachusetts\",48514],[\"Florida\",59212],[\"Maryland\",64072],[\"California\",104709],[\"California\",138981],[\"Wisconsin\",66778],[\"Texas\",39795],[\"Michigan\",81295],[\"California\",63771],[\"California\",49707],[\"California\",40435],[\"Colorado\",59778],[\"Oklahoma\",50725],[\"California\",998537],[\"Texas\",109821],[\"Minnesota\",65415],[\"Oklahoma\",118197],[\"Florida\",64079],[\"Texas\",37587],[\"California\",236716],[\"Idaho\",54350],[\"California\",38606],[\"Wisconsin\",48725],[\"Louisiana\",66333],[\"Texas\",61238],[\"Georgia\",99770],[\"Illinois\",83424],[\"New Jersey\",85390],[\"Oklahoma\",58414],[\"Missouri\",53294],[\"California\",159523],[\"Texas\",78709],[\"Texas\",38448],[\"Florida\",165831],[\"California\",60189],[\"Massachusetts\",44057],[\"California\",51701],[\"New Hampshire\",110378],[\"Virginia\",448479],[\"Kansas\",47846],[\"Massachusetts\",78804],[\"Florida\",78409],[\"California\",509924],[\"Alabama\",37498],[\"Illinois\",56758],[\"Florida\",50699],[\"Rhode Island\",71172],[\"California\",40275],[\"North Carolina\",236441],[\"Georgia\",62298],[\"Missouri\",82809],[\"California\",80872],[\"California\",72528],[\"Florida\",38632],[\"Minnesota\",40641],[\"California\",50175],[\"California\",83447],[\"Colorado\",71334],[\"Illinois\",38241],[\"Rhode Island\",177994],[\"Florida\",233394],[\"California\",74513],[\"California\",167500],[\"Washington\",84430],[\"Utah\",76817],[\"South Carolina\",39412],[\"California\",196021],[\"Connecticut\",60456],[\"California\",59957],[\"Massachusetts\",41301],[\"Illinois\",110145],[\"Texas\",274409],[\"Colorado\",89919],[\"Texas\",40342],[\"Ohio\",51143],[\"Arkansas\",71551],[\"Texas\",100050],[\"Michigan\",95884],[\"New York\",61808],[\"Louisiana\",49761],[\"Maryland\",622104],[\"Missouri\",164122],[\"Arkansas\",46094],[\"New Jersey\",50588],[\"Massachusetts\",91589],[\"Minnesota\",65656],[\"Florida\",127488],[\"California\",49891],[\"Washington\",50169],[\"Florida\",37199],[\"Arkansas\",78960],[\"California\",58994],[\"Arkansas\",63816],[\"Washington\",203446],[\"Connecticut\",47333],[\"Vermont\",42284],[\"Idaho\",45981],[\"Texas\",39296],[\"New York\",8405837],[\"California\",126181],[\"California\",107740],[\"Colorado\",53063],[\"Georgia\",56481],[\"Texas\",792727],[\"California\",92599],[\"Indiana\",120310],[\"California\",102216],[\"Tennessee\",40021],[\"California\",58642],[\"Colorado\",110945],[\"Pennsylvania\",87893],[\"California\",70365],[\"Colorado\",96539],[\"Texas\",100223],[\"Florida\",37711],[\"Texas\",129030],[\"California\",37165],[\"California\",128731],[\"California\",47842],[\"Connecticut\",147216],[\"Minnesota\",47411],[\"Missouri\",47749],[\"Florida\",38696],[\"Washington\",67599],[\"California\",147478],[\"Wisconsin\",243344],[\"Wisconsin\",63820],[\"Illinois\",88826],[\"Kentucky\",61488],[\"Texas\",379577],[\"Texas\",101074],[\"New Mexico\",45426],[\"California\",38194],[\"California\",66642],[\"Oregon\",60177],[\"Massachusetts\",95078],[\"Washington\",57530],[\"California\",55000],[\"California\",66205],[\"California\",49133],[\"Tennessee\",43060],[\"Pennsylvania\",45796],[\"Alabama\",68001],[\"New Jersey\",64544],[\"Illinois\",57282],[\"Mississippi\",44820],[\"Illinois\",41752],[\"California\",175140],[\"California\",71371],[\"Colorado\",37499],[\"Ohio\",72535],[\"Georgia\",50603],[\"Louisiana\",229426],[\"Connecticut\",60568],[\"Missouri\",117240],[\"Michigan\",113972],[\"Illinois\",58590],[\"New Jersey\",61050],[\"Wisconsin\",104779],[\"Illinois\",75570],[\"Florida\",39172],[\"California\",3884307],[\"Washington\",92734],[\"Utah\",110077],[\"California\",52536],[\"Pennsylvania\",305841],[\"California\",113242],[\"Illinois\",84103],[\"California\",95677],[\"Florida\",36877],[\"Missouri\",50789],[\"Texas\",90983],[\"Utah\",191180],[\"Florida\",43074],[\"Arizona\",1513367],[\"Oregon\",55298],[\"Texas\",46663],[\"Massachusetts\",55717],[\"Florida\",57468],[\"Georgia\",94034],[\"Illinois\",37839],[\"New Hampshire\",42419],[\"Washington\",48338],[\"California\",197575],[\"Texas\",316381],[\"Massachusetts\",62088],[\"Illinois\",38510],[\"Massachusetts\",107289],[\"Arizona\",234632],[\"California\",38623],[\"South Carolina\",46074],[\"Iowa\",102157],[\"Florida\",89407],[\"Connecticut\",72939],[\"Michigan\",47555],[\"Ohio\",45394],[\"Oregon\",109397],[\"Florida\",69813],[\"Tennessee\",54068],[\"California\",120245],[\"California\",172794],[\"California\",79312],[\"Michigan\",57960],[\"New Jersey\",52122],[\"Massachusetts\",42935],[\"New Jersey\",41301],[\"North Carolina\",87236],[\"California\",97877]],\"hovertemplate\":\"<b>%{hovertext}</b><br><br>lat=%{lat}<br>lon=%{lon}<br>State=%{customdata[0]}<br>Population=%{customdata[1]}<extra></extra>\",\"hovertext\":[\"Marysville\",\"Perris\",\"Cleveland\",\"Worcester\",\"Columbia\",\"Waterbury\",\"Eagan\",\"Southfield\",\"Lafayette\",\"Boise City\",\"Elkhart\",\"Buena Park\",\"Marietta\",\"Parker\",\"West Palm Beach\",\"Salem\",\"Aurora\",\"Leesburg\",\"Doral\",\"Westminster\",\"Lubbock\",\"Overland Park\",\"Jackson\",\"Gastonia\",\"Daytona Beach\",\"Kansas City\",\"Rancho Palos Verdes\",\"Burnsville\",\"Rowlett\",\"Roswell\",\"Montgomery\",\"Logan\",\"Woburn\",\"Allentown\",\"Mount Pleasant\",\"Columbus\",\"Buffalo\",\"New Berlin\",\"North Richland Hills\",\"Lima\",\"Sacramento\",\"Fort Smith\",\"East Providence\",\"Urbandale\",\"Mount Vernon\",\"Lakewood\",\"Henderson\",\"Covina\",\"Stamford\",\"Bloomington\",\"Kingsport\",\"Spokane\",\"Kennewick\",\"Philadelphia\",\"Bellingham\",\"Visalia\",\"La Crosse\",\"Council Bluffs\",\"North Lauderdale\",\"Dallas\",\"Antioch\",\"Sterling Heights\",\"Deerfield Beach\",\"Fishers\",\"Cheyenne\",\"Murrieta\",\"Lenexa\",\"Noblesville\",\"Southaven\",\"Chino\",\"Gaithersburg\",\"Fountain Valley\",\"Frederick\",\"Greenville\",\"DeKalb\",\"West Allis\",\"Thornton\",\"West Des Moines\",\"Fall River\",\"Tulare\",\"Chula Vista\",\"Coral Springs\",\"Concord\",\"Smyrna\",\"Apopka\",\"Grand Forks\",\"Lancaster\",\"Naperville\",\"Hollywood\",\"Rogers\",\"New Orleans\",\"Lakewood\",\"Oak Lawn\",\"Caldwell\",\"Portland\",\"Concord\",\"Burien\",\"St. Charles\",\"Waukesha\",\"Flagstaff\",\"Puyallup\",\"Schenectady\",\"Denver\",\"Springfield\",\"Campbell\",\"Moreno Valley\",\"Kettering\",\"Lincoln Park\",\"Lake Havasu City\",\"North Little Rock\",\"Reno\",\"Littleton\",\"Prescott\",\"Dublin\",\"Texarkana\",\"Portland\",\"Brooklyn Park\",\"West Haven\",\"El Centro\",\"The Colony\",\"Flint\",\"Pittsburg\",\"Buckeye\",\"Brea\",\"Indio\",\"Scottsdale\",\"Columbus\",\"Lancaster\",\"Lincoln\",\"Trenton\",\"Boston\",\"Glendora\",\"Rochester\",\"Florissant\",\"Annapolis\",\"Chapel Hill\",\"Lawrence\",\"Calexico\",\"Calumet City\",\"Missoula\",\"Clovis\",\"Pearland\",\"Gilbert\",\"Wausau\",\"Raleigh\",\"Orange\",\"Walnut Creek\",\"Bremerton\",\"Porterville\",\"Marana\",\"Tallahassee\",\"Conroe\",\"Blacksburg\",\"San Antonio\",\"Hartford\",\"Waterloo\",\"Binghamton\",\"Meridian\",\"Fond du Lac\",\"Baytown\",\"Cary\",\"Weymouth Town\",\"Tulsa\",\"Mission\",\"Cuyahoga Falls\",\"Malden\",\"Allen\",\"Tucson\",\"Franklin\",\"Shakopee\",\"Jacksonville\",\"Atlantic City\",\"Erie\",\"Merced\",\"Abilene\",\"Yorba Linda\",\"Greenville\",\"Huntersville\",\"St. Clair Shores\",\"Harrisburg\",\"San Buenaventura (Ventura)\",\"Fremont\",\"Pueblo\",\"Chelsea\",\"Belleville\",\"Minneapolis\",\"Bartlett\",\"Wichita Falls\",\"Missouri City\",\"St. Louis\",\"Pharr\",\"Albuquerque\",\"Athens-Clarke County\",\"South Jordan\",\"North Las Vegas\",\"Pomona\",\"Eastvale\",\"Grove City\",\"Lawrence\",\"Midland\",\"Oklahoma City\",\"Oro Valley\",\"Mesa\",\"Norwalk\",\"Kentwood\",\"Brookfield\",\"Rockwall\",\"Mishawaka\",\"Tustin\",\"St. Cloud\",\"Passaic\",\"Escondido\",\"San Bruno\",\"Berkeley\",\"San Clemente\",\"Lawton\",\"Eau Claire\",\"Maricopa\",\"DeSoto\",\"Fort Wayne\",\"Shoreline\",\"Medford\",\"La Habra\",\"Albany\",\"Daly City\",\"Taylor\",\"Lynchburg\",\"Bowie\",\"Danbury\",\"Charlottesville\",\"Coral Gables\",\"Coeur d'Alene\",\"El Monte\",\"Crystal Lake\",\"Danville\",\"Goodyear\",\"Paterson\",\"Salem\",\"Kissimmee\",\"Saginaw\",\"Brownsville\",\"Flower Mound\",\"Grapevine\",\"Edina\",\"Detroit\",\"Fairfield\",\"Mansfield\",\"Rochester\",\"Birmingham\",\"Austin\",\"Santa Barbara\",\"Addison\",\"Rio Rancho\",\"Normal\",\"Romeoville\",\"Coon Rapids\",\"San Mateo\",\"Orlando\",\"Casper\",\"Bedford\",\"Wilmington\",\"Pinellas Park\",\"North Miami Beach\",\"Kansas City\",\"Fitchburg\",\"Wheeling\",\"Newton\",\"North Miami\",\"Norwich\",\"Newark\",\"Alexandria\",\"Blaine\",\"Harlingen\",\"Lompoc\",\"Denton\",\"Galveston\",\"Greenwood\",\"Salinas\",\"Miami Gardens\",\"Huntington\",\"Laredo\",\"Melbourne\",\"Haltom City\",\"Palm Bay\",\"Wilson\",\"Bountiful\",\"Ceres\",\"Parma\",\"Rapid City\",\"Bell Gardens\",\"Commerce City\",\"Springfield\",\"Fort Collins\",\"San Leandro\",\"Vista\",\"Yonkers\",\"Cincinnati\",\"Hagerstown\",\"Sanford\",\"Union City\",\"Toledo\",\"Sierra Vista\",\"Newport News\",\"Hammond\",\"Buffalo Grove\",\"Sugar Land\",\"Huntsville\",\"Lodi\",\"Edmonds\",\"Duncanville\",\"Rocky Mount\",\"Pontiac\",\"National City\",\"Hayward\",\"Niagara Falls\",\"Sparks\",\"Hanford\",\"Cypress\",\"Youngstown\",\"Madison\",\"Redlands\",\"Cape Girardeau\",\"Nampa\",\"Washington\",\"Wheaton\",\"Lancaster\",\"Rialto\",\"Fargo\",\"Peoria\",\"Omaha\",\"Rancho Santa Margarita\",\"Manhattan\",\"Palm Springs\",\"San Diego\",\"Santa Rosa\",\"Lowell\",\"Broken Arrow\",\"Kent\",\"Nashville\",\"Hackensack\",\"Broomfield\",\"Durham\",\"Wichita\",\"Cathedral City\",\"Lakeville\",\"Elmhurst\",\"Weslaco\",\"Greenfield\",\"Sunnyvale\",\"Santa Cruz\",\"Kenosha\",\"State College\",\"Mansfield\",\"Quincy\",\"Pompano Beach\",\"San Angelo\",\"Bloomington\",\"Tracy\",\"Spartanburg\",\"Nashua\",\"Macon\",\"Hempstead\",\"Camden\",\"Palm Desert\",\"Streamwood\",\"Chesapeake\",\"Dublin\",\"Camarillo\",\"Muskegon\",\"Elizabeth\",\"Anchorage\",\"Minot\",\"Davie\",\"McAllen\",\"McKinney\",\"Killeen\",\"Findlay\",\"Oakland\",\"Mountain View\",\"Lake Elsinore\",\"Amarillo\",\"Provo\",\"Atlanta\",\"Monterey Park\",\"Strongsville\",\"Madera\",\"Decatur\",\"Woonsocket\",\"Mobile\",\"Vallejo\",\"Arcadia\",\"Collierville\",\"Jefferson City\",\"Longview\",\"Chandler\",\"Arvada\",\"Alhambra\",\"Kokomo\",\"Oakland Park\",\"Indianapolis\",\"Boynton Beach\",\"Apache Junction\",\"Mount Prospect\",\"Cranston\",\"Lafayette\",\"Olathe\",\"Johns Creek\",\"Greensboro\",\"Kalamazoo\",\"Tigard\",\"Jacksonville\",\"Citrus Heights\",\"Tuscaloosa\",\"Ankeny\",\"Hawthorne\",\"Hoover\",\"Delray Beach\",\"Wellington\",\"Bullhead City\",\"Weston\",\"Troy\",\"New Rochelle\",\"Stockton\",\"Royal Oak\",\"Titusville\",\"Laguna Niguel\",\"Spokane Valley\",\"Costa Mesa\",\"Grand Prairie\",\"Portsmouth\",\"Lacey\",\"Apex\",\"Sioux City\",\"Encinitas\",\"Spanish Fork\",\"Huntington Park\",\"Eden Prairie\",\"Peoria\",\"Tempe\",\"Wilmington\",\"Taylorsville\",\"Westland\",\"Mesquite\",\"Burlington\",\"Garland\",\"Richmond\",\"Bismarck\",\"Carson City\",\"Muskogee\",\"Augusta-Richmond County\",\"Fayetteville\",\"Albany\",\"Sayreville\",\"Newark\",\"Diamond Bar\",\"Decatur\",\"Chattanooga\",\"Jeffersonville\",\"Bartlett\",\"Baldwin Park\",\"Miami Beach\",\"Jackson\",\"Port Arthur\",\"San Luis Obispo\",\"Burleson\",\"Newport Beach\",\"Riverton\",\"Yakima\",\"Dayton\",\"Gulfport\",\"Long Beach\",\"Chico\",\"Hattiesburg\",\"Eugene\",\"Colton\",\"Montebello\",\"Pleasanton\",\"Everett\",\"Hutchinson\",\"Fairfield\",\"Avondale\",\"Euclid\",\"Battle Creek\",\"Bloomington\",\"Rock Island\",\"Beaverton\",\"Kenner\",\"Clovis\",\"Troy\",\"Milpitas\",\"Des Plaines\",\"Placentia\",\"Taunton\",\"Montclair\",\"Johnson City\",\"Savannah\",\"Warren\",\"Vancouver\",\"Sunrise\",\"Muncie\",\"Lehi\",\"San Francisco\",\"Fontana\",\"Frisco\",\"Chino Hills\",\"Poway\",\"Huber Heights\",\"New Brunswick\",\"Norfolk\",\"Hillsboro\",\"San Jacinto\",\"Pensacola\",\"Hamilton\",\"Florence\",\"San Bernardino\",\"Peachtree Corners\",\"Victorville\",\"Gary\",\"Casa Grande\",\"Morgan Hill\",\"Dubuque\",\"Syracuse\",\"Clarksville\",\"Lakeland\",\"Valley Stream\",\"Dover\",\"Moorhead\",\"Culver City\",\"Palatine\",\"Seattle\",\"Covington\",\"Elk Grove\",\"Shreveport\",\"Ogden\",\"Harrisonburg\",\"Inglewood\",\"Pasadena\",\"Lawrence\",\"Lake Oswego\",\"Petaluma\",\"Springfield\",\"Napa\",\"Aurora\",\"Duluth\",\"Roanoke\",\"Bend\",\"Apple Valley\",\"Waltham\",\"Fort Myers\",\"Tampa\",\"Upland\",\"Danville\",\"Beloit\",\"Plantation\",\"Colorado Springs\",\"Modesto\",\"Grand Rapids\",\"Oak Park\",\"Sarasota\",\"Jurupa Valley\",\"Bellflower\",\"Boulder\",\"Santa Fe\",\"Coachella\",\"Marlborough\",\"Riverside\",\"Palmdale\",\"Novato\",\"Layton\",\"Bolingbrook\",\"Mission Viejo\",\"Glenview\",\"Lincoln\",\"Folsom\",\"Prescott Valley\",\"Las Cruces\",\"Bozeman\",\"Schaumburg\",\"Warren\",\"St. Peters\",\"Ames\",\"Surprise\",\"Richardson\",\"Midland\",\"San Marcos\",\"Wilkes-Barre\",\"Appleton\",\"Shawnee\",\"Mentor\",\"Livermore\",\"Charlotte\",\"Owensboro\",\"Jupiter\",\"Rohnert Park\",\"Chicago\",\"Billings\",\"Wauwatosa\",\"Lombard\",\"New Haven\",\"York\",\"Knoxville\",\"Elyria\",\"Barnstable Town\",\"Murray\",\"Alameda\",\"Manteca\",\"Maplewood\",\"Medford\",\"Murfreesboro\",\"Yuba City\",\"Shelton\",\"Cedar Falls\",\"Germantown\",\"Scranton\",\"Auburn\",\"Manassas\",\"Vacaville\",\"Santa Monica\",\"Suffolk\",\"Rochester Hills\",\"La Quinta\",\"Charleston\",\"Delano\",\"St. Cloud\",\"Charleston\",\"Kannapolis\",\"Corona\",\"Rocklin\",\"Lee's Summit\",\"Palm Coast\",\"Sandy\",\"Bentonville\",\"Santa Clarita\",\"Altamonte Springs\",\"New Braunfels\",\"Memphis\",\"Irving\",\"Alexandria\",\"Hesperia\",\"Holyoke\",\"Dunwoody\",\"Skokie\",\"Kearny\",\"Bethlehem\",\"St. Joseph\",\"Redondo Beach\",\"Houston\",\"Temecula\",\"Ann Arbor\",\"Beaumont\",\"East Lansing\",\"Santee\",\"Tamarac\",\"Bellevue\",\"Pembroke Pines\",\"Springdale\",\"Oxnard\",\"Odessa\",\"Stillwater\",\"Brockton\",\"Bayonne\",\"Paramount\",\"Moline\",\"Meridian\",\"Cleveland\",\"Jersey City\",\"St. Paul\",\"Deltona\",\"Freeport\",\"Iowa City\",\"Anaheim\",\"Apple Valley\",\"Great Falls\",\"West Valley City\",\"Hampton\",\"Georgetown\",\"Orem\",\"Monrovia\",\"Keller\",\"Goose Creek\",\"Little Rock\",\"Santa Ana\",\"White Plains\",\"Idaho Falls\",\"Bellevue\",\"Roseville\",\"Perth Amboy\",\"Peabody\",\"Grand Island\",\"Columbia\",\"Racine\",\"Carmel\",\"Portage\",\"Middletown\",\"Woodland\",\"Revere\",\"Euless\",\"Arlington Heights\",\"Hemet\",\"High Point\",\"Newark\",\"Midwest City\",\"San Marcos\",\"Port Orange\",\"Lakewood\",\"Westerville\",\"Rockford\",\"El Cajon\",\"St. Petersburg\",\"Downers Grove\",\"Milford\",\"Albany\",\"Las Vegas\",\"Pasadena\",\"Port St. Lucie\",\"Cedar Rapids\",\"Ormond Beach\",\"Quincy\",\"Miramar\",\"El Paso\",\"Topeka\",\"Rosemead\",\"Keizer\",\"Minnetonka\",\"Akron\",\"Edinburg\",\"Rancho Cucamonga\",\"North Charleston\",\"Louisville\",\"Watsonville\",\"Coconut Creek\",\"Bradenton\",\"Carlsbad\",\"Texas City\",\"Redding\",\"Wyoming\",\"Lorain\",\"Roy\",\"Fort Lauderdale\",\"Warner Robins\",\"Clearwater\",\"Cutler Bay\",\"Florence\",\"Terre Haute\",\"Temple\",\"Beavercreek\",\"Sioux Falls\",\"Columbus\",\"Margate\",\"Leominster\",\"Warwick\",\"Bakersfield\",\"Miami\",\"Lake Charles\",\"Richland\",\"Hickory\",\"South San Francisco\",\"Plymouth\",\"South Bend\",\"Edmond\",\"Des Moines\",\"Bonita Springs\",\"Draper\",\"Whittier\",\"Livonia\",\"Milwaukee\",\"Auburn\",\"Sumter\",\"Beverly\",\"Renton\",\"Centennial\",\"Richmond\",\"Anderson\",\"Beaumont\",\"Pflugerville\",\"Hoboken\",\"Lexington-Fayette\",\"Norwalk\",\"Yuma\",\"Highland\",\"Carol Stream\",\"Joliet\",\"Rock Hill\",\"Rancho Cordova\",\"Dearborn Heights\",\"Honolulu\",\"Victoria\",\"Attleboro\",\"Wylie\",\"Carrollton\",\"Plainfield\",\"Hoffman Estates\",\"Methuen\",\"North Port\",\"Rockville\",\"Burbank\",\"Fullerton\",\"Oshkosh\",\"Huntsville\",\"Farmington Hills\",\"Pico Rivera\",\"Cerritos\",\"La Puente\",\"Grand Junction\",\"Enid\",\"San Jose\",\"Round Rock\",\"Maple Grove\",\"Norman\",\"Homestead\",\"Friendswood\",\"Irvine\",\"Pocatello\",\"Pacifica\",\"Sheboygan\",\"Bossier City\",\"Cedar Park\",\"Sandy Springs\",\"Champaign\",\"Clifton\",\"Moore\",\"Blue Springs\",\"Lancaster\",\"Bryan\",\"Hurst\",\"Cape Coral\",\"Cupertino\",\"Pittsfield\",\"Gilroy\",\"Manchester\",\"Virginia Beach\",\"Salina\",\"Somerville\",\"Largo\",\"Fresno\",\"Phenix City\",\"Berwyn\",\"Palm Beach Gardens\",\"Pawtucket\",\"San Gabriel\",\"Winston-Salem\",\"Alpharetta\",\"O'Fallon\",\"Redwood City\",\"Union City\",\"Hallandale Beach\",\"Mankato\",\"Aliso Viejo\",\"Menifee\",\"Loveland\",\"Carpentersville\",\"Providence\",\"Hialeah\",\"San Ramon\",\"Ontario\",\"Kirkland\",\"St. George\",\"Hilton Head Island\",\"Glendale\",\"Meriden\",\"Gardena\",\"Westfield\",\"Elgin\",\"Plano\",\"Longmont\",\"Coppell\",\"Lakewood\",\"Jonesboro\",\"College Station\",\"Dearborn\",\"Utica\",\"Monroe\",\"Baltimore\",\"Springfield\",\"Pine Bluff\",\"Plainfield\",\"Lynn\",\"Woodbury\",\"Gainesville\",\"West Sacramento\",\"Sammamish\",\"Aventura\",\"Fayetteville\",\"San Rafael\",\"Conway\",\"Tacoma\",\"Middletown\",\"Burlington\",\"Twin Falls\",\"Sherman\",\"New York\",\"Simi Valley\",\"West Covina\",\"Castle Rock\",\"Valdosta\",\"Fort Worth\",\"Carson\",\"Evansville\",\"Santa Maria\",\"Brentwood\",\"La Mesa\",\"Westminster\",\"Reading\",\"Turlock\",\"Greeley\",\"Tyler\",\"Winter Garden\",\"Waco\",\"Martinez\",\"Thousand Oaks\",\"Azusa\",\"Bridgeport\",\"St. Louis Park\",\"Chesterfield\",\"Greenacres\",\"Pasco\",\"Torrance\",\"Madison\",\"Janesville\",\"Waukegan\",\"Bowling Green\",\"Arlington\",\"Lewisville\",\"Farmington\",\"Oakley\",\"Palo Alto\",\"Springfield\",\"New Bedford\",\"Redmond\",\"Brentwood\",\"Davis\",\"La Mirada\",\"Smyrna\",\"Altoona\",\"Dothan\",\"East Orange\",\"Tinley Park\",\"Biloxi\",\"Urbana\",\"Garden Grove\",\"Lynwood\",\"Northglenn\",\"Canton\",\"Brookhaven\",\"Baton Rouge\",\"Bristol\",\"Independence\",\"Lansing\",\"Orland Park\",\"Vineland\",\"Green Bay\",\"Evanston\",\"Ocoee\",\"Los Angeles\",\"Federal Way\",\"West Jordan\",\"Yucaipa\",\"Pittsburgh\",\"Downey\",\"Cicero\",\"South Gate\",\"Panama City\",\"Joplin\",\"League City\",\"Salt Lake City\",\"Fort Pierce\",\"Phoenix\",\"Corvallis\",\"Cedar Hill\",\"Chicopee\",\"Ocala\",\"Roswell\",\"Park Ridge\",\"Concord\",\"Olympia\",\"Huntington Beach\",\"Corpus Christi\",\"Haverhill\",\"Hanover Park\",\"Cambridge\",\"Glendale\",\"Stanton\",\"Summerville\",\"Davenport\",\"Boca Raton\",\"New Britain\",\"Roseville\",\"Cleveland Heights\",\"Gresham\",\"Lauderhill\",\"Hendersonville\",\"Santa Clara\",\"Oceanside\",\"Lake Forest\",\"Novi\",\"West New York\",\"Everett\",\"Linden\",\"Asheville\",\"Compton\"],\"lat\":[48.0517637,33.7825194,41.49932,42.262593200000005,34.0007104,41.558152500000006,44.804132200000005,42.4733688,30.2240897,43.6187102,41.6819935,33.8675143,33.952602,39.5186002,26.7153424,42.51954,41.7605849,39.1156615,25.8195424,33.7513419,33.5778631,38.9822282,32.298757300000005,35.262082,29.2108147,39.0997265,33.7444613,44.7677424,32.9029017,33.3942655,32.366805199999995,41.7369803,42.4792618,40.6084305,32.8323225,32.4609764,42.8864468,42.9764027,32.8342952,40.742551,38.5815719,35.385924200000005,41.813711600000005,41.6266555,40.9125992,39.7047095,36.0395247,34.0900091,41.0534302,39.165325,36.548434,47.6587802,46.2112458,39.9525839,48.74908,36.3302284,43.8013556,41.2619444,26.217305,32.7766642,38.0049214,42.5803122,26.3184123,39.95675479999999,41.1399814,33.553914299999995,38.9536174,40.0455917,34.9889818,34.0122346,39.143440600000005,33.7091847,39.4142688,35.612661,41.9294736,43.0166806,39.8680412,41.5772115,41.7014912,36.20772879999999,32.6400541,26.271192,35.4087517,33.883992600000006,28.6934076,47.9252568,39.71367539999999,41.7508391,26.0112014,36.3320196,29.9510658,47.1717649,41.719978000000005,43.6629384,45.523062200000005,37.9779776,47.4703767,38.7881062,43.0116784,35.1982836,47.1853785,42.8142432,39.7392358,39.7817213,37.2871651,33.9424658,39.6895036,42.2505943,34.483901,34.769535999999995,39.5296329,39.613321,34.540024200000005,37.7021521,33.425125,43.661471,45.0941315,41.2705484,32.792,33.0806083,43.0125274,38.027976200000005,33.3703197,33.9166805,33.7205771,33.494170399999994,39.9611755,40.0378755,40.8257625,40.2170534,42.3600825,34.136118700000004,44.0121221,38.789217,38.9784453,35.913199600000006,39.8386516,32.6789476,41.6155909,46.8787176,36.8252277,29.5635666,33.3528264,44.9591352,35.7795897,33.7877944,37.9100783,47.567320200000005,36.06523,32.436381,30.4382559,30.3118769,37.2295733,29.4241219,41.7637111,42.492786,42.0986867,43.61210870000001,43.7730448,29.735504700000003,35.791540000000005,42.2180724,36.1539816,26.2159066,41.1339449,42.4250964,33.1031744,32.2217429,35.9250637,44.79739620000001,30.3321838,39.3642834,42.1292241,37.3021632,32.4487364,33.888625899999994,34.8526176,35.410694,42.4974085,40.273191100000005,34.274646000000004,37.548269700000006,38.2544472,42.3917638,38.5200504,44.977753,35.2045328,33.913708500000006,29.6185669,38.6270025,26.1947962,35.0853336,33.9519347,40.5621704,36.1988592,34.055103,33.952463,39.8814519,38.9716689,31.9973456,35.4675602,32.3909071,33.4151843,41.117744,42.8694731,43.0605671,32.9312336,41.6619927,33.7458511,45.5579451,40.8567662,33.1192068,37.6304904,37.87159260000001,33.4269728,34.6035669,44.811349,33.058106300000006,32.589699800000005,41.079273,47.7556531,42.4184296,33.9319578,42.65257929999999,37.6879241,42.240872,37.4137536,39.0067768,41.394817,38.0293059,25.72149,47.6776832,34.0686206,42.2411344,37.8215929,33.4353394,40.9167654,44.9428975,28.291955699999995,43.4194699,25.9017472,33.0145673,32.9342919,44.889686600000005,42.331427000000005,39.3454673,32.5631924,43.16103,33.5206608,30.267153000000004,34.4208305,41.931696,35.2327544,40.5142026,41.6475306,45.1732394,37.562991700000005,28.5383355,42.866632,32.844017,34.2257255,27.8428025,25.9331488,39.114053000000006,42.5834228,42.1391927,42.3370413,25.8900949,41.5242649,40.735657,31.3112936,45.1607987,26.1906306,34.6391501,33.2148412,29.3013479,39.6136578,36.6777372,25.9420377,38.41924960000001,27.530567100000003,28.0836269,32.799573800000005,28.03446210000001,35.7212689,40.8893895,37.5949316,41.404774200000006,44.0805434,33.9652918,39.8083196,42.1014831,40.5852602,37.7249296,33.2000368,40.9312099,39.1031182,39.6417629,28.802861199999995,40.6975898,41.6639383,31.5455001,37.0870821,41.5833688,42.1662831,29.6196787,34.730368799999994,38.1341477,47.8106521,32.6518004,35.938210299999994,42.6389216,32.6781085,37.6688205,43.0962143,39.5349112,36.3274502,33.8169599,41.0997803,34.6992579,34.055569299999995,37.3058839,43.5407172,38.9071923,41.8661403,32.5920798,34.1064001,46.8771863,40.6936488,41.25236339999999,33.640855,39.1836082,33.8302961,32.715738,38.440429,42.633424700000006,36.060949,47.380933500000005,36.1626638,40.8859325,39.9205411,35.99403289999999,37.688889,33.780538799999995,44.6496868,41.8994744,26.1595194,42.9614039,37.36883,36.9741171,42.5847425,40.7933949,40.758390000000006,39.9356016,26.2378597,31.4637723,40.4842027,37.7396513,34.949567200000004,42.7653662,32.8406946,40.7062128,39.9259463,33.7222445,42.02558270000001,36.7682088,40.0992294,34.216393700000005,43.2341813,40.6639916,61.2180556,48.23296679999999,26.0764783,26.203407100000003,33.197246500000006,31.1171194,41.04422,37.8043637,37.3860517,33.668077200000006,35.2219971,40.2338438,33.7489954,34.0625106,41.3144966,36.961335600000005,39.84031470000001,42.0028761,30.6953657,38.1040864,34.139729200000005,35.042036,38.57670170000001,32.5007037,33.3061605,39.8027644,34.095287,40.486427,26.1723065,39.768403,26.531786600000004,33.4150485,42.066416700000005,41.7798226,40.4167022,38.8813958,34.0289259,36.0726354,42.2917069,45.4312294,34.7540524,38.7071247,33.2098407,41.7317884,33.9164032,33.405386699999994,26.4614625,26.6617635,35.1359386,26.1003654,42.6064095,40.9114882,37.9577016,42.4894801,28.6122187,33.5225261,47.6732281,33.6411316,32.7459645,36.8354258,47.0342629,35.732652,42.4999942,33.0369867,40.114955,33.981681200000004,44.8546856,33.5805955,33.4255104,39.7390721,40.6677248,42.324204,32.7667955,36.0956918,32.912624,37.9357576,46.8083268,39.1637984,35.747876899999994,33.4734978,35.0526641,31.5785074,40.4594021,37.5296593,34.028622600000006,34.6059253,35.0456297,38.27757020000001,41.9950276,34.0852868,25.790654,35.6145169,29.8849504,35.2827524,32.5420821,33.6189101,40.521893,46.6020711,39.7589478,30.367419800000004,33.770050399999995,39.7284944,31.3271189,44.0520691,34.0739016,34.0165053,37.6624312,47.9789848,38.0608445,38.2493581,33.4355977,41.5931049,42.32115220000001,44.840798,41.5094771,45.487062,29.9940924,34.4047987,42.7284117,37.4323341,42.03336229999999,33.87223710000001,41.900101,34.0775104,36.3134397,32.0835407,41.2375569,45.6387281,26.1669711,40.1933767,40.3916172,37.7749295,34.0922335,33.1506744,33.989818799999995,32.9628232,39.843947,40.4862157,36.8507689,45.5228939,33.783908399999994,30.421309,39.3995008,34.1954331,34.1083449,33.9698929,34.5362184,41.5933696,32.8795022,37.130501200000005,42.5005583,43.0481221,36.5297706,28.0394654,40.6642699,39.158168,46.8737648,34.0211224,42.1103041,47.6062095,39.083671200000005,38.4087993,32.5251516,41.223,38.4495688,33.9616801,34.1477849,42.7070354,45.4206749,38.232417,39.9242266,38.2975381,39.7294319,46.7866719,37.2709704,44.0581728,34.5008311,42.376485200000005,26.640628000000003,27.950575,34.09751,36.5859718,42.5083482,26.1275862,38.8338816,37.6390972,42.9633599,41.885031700000006,27.3364347,33.9971974,33.8816818,40.0149856,35.686975200000006,33.6803003,42.3459271,33.9533487,34.5794343,38.1074198,41.0602216,41.6986416,33.6000232,42.0697509,38.891565,38.6779591,34.6100243,32.3199396,45.6769979,42.0333607,42.5144566,38.7874699,42.034722,33.62923370000001,32.948333500000004,43.6155825,29.8832749,41.2459149,44.2619309,39.0228485,41.6661573,37.6818745,35.2270869,37.7719074,26.934224600000004,38.3396367,41.8781136,45.783285600000006,43.049457200000006,41.8800296,41.308274,39.9625984,35.96063839999999,41.36837979999999,41.7003208,40.6668916,37.7652065,37.7974273,44.953021500000006,42.3265152,35.8456213,39.1404477,41.3164856,42.5348993,35.08675770000001,41.408969,32.6098566,38.7509488,38.3565773,34.01945429999999,36.7282054,42.6583661,33.663357299999994,38.3498195,35.7688425,28.2489016,32.776474900000004,35.4873613,33.8752935,38.7907339,38.9108408,29.5844524,40.564978100000005,36.3728538,34.3916641,28.6611089,29.7030024,35.1495343,32.814017699999994,38.8048355,34.4263886,42.2042586,33.9462125,42.0324025,40.7684342,40.6259316,39.7674578,33.8491816,29.7604267,33.4936391,42.2808256,30.080174,42.7369792,32.8383828,26.2128609,41.1543623,26.007765,36.18674420000001,34.1975048,31.8456816,36.1156071,42.083433500000005,40.6687141,33.8894598,41.5067003,32.3643098,35.1595182,40.7281575,44.9537029,28.9005446,40.65760220000001,41.6611277,33.8352932,44.7319094,47.4941836,40.691613200000006,37.0298687,30.633261800000003,40.2968979,34.14426160000001,32.9341893,32.9810059,34.7464809,33.7455731,41.0339862,43.4916514,47.610377,38.7521235,40.5067723,42.5278731,40.92639570000001,38.95170529999999,42.7261309,39.978371,42.20115379999999,39.5150576,38.6785157,42.408430200000005,32.8370727,42.0883603,33.7475203,35.955692299999995,40.0581205,35.4495065,33.1433723,29.1383165,33.853626899999995,40.1261743,42.2711311,32.7947731,27.773056,41.8089191,41.2306979,44.6365107,36.1699412,29.6910625,27.2730492,41.9778795,29.2858129,42.25287720000001,25.9860762,31.7775757,39.0558235,34.0805651,44.9901194,44.9211836,41.081444700000006,26.3017374,34.1063989,32.8546197,38.2526647,36.910231,26.2517482,27.4989278,33.158093300000004,29.383845,40.5865396,42.9133602,41.452819,41.1616108,26.1224386,32.6130007,27.9658533,25.5808323,34.79981,39.4667034,31.0982344,39.7092262,43.5445959,39.2014404,26.244526300000004,42.5250906,41.7001009,35.3732921,25.7616798,30.226594899999995,46.2856907,35.7344538,37.654656,45.01051939999999,41.6763545,35.6528323,41.6005448,26.339806,40.5246711,33.97917929999999,42.36837,43.0389025,47.3073228,33.9204354,42.5584283,47.4828776,39.5807452,37.5407246,40.1053196,33.929460600000006,30.4393696,40.7439905,38.040583700000006,33.9022367,32.6926512,34.1283442,41.9125286,41.525031,34.9248667,38.5890723,42.3369816,21.3069444,28.8052674,41.9445441,33.0151201,32.975641499999995,41.632223,42.0629915,42.7262016,27.044224,39.0839973,34.18083920000001,33.8703596,44.0247062,30.723526300000003,42.4989936,33.9830688,33.8583483,34.0200114,39.0638705,36.3955891,37.3382082,30.508255100000003,45.072464200000006,35.2225668,25.4687224,29.529399800000004,33.6839473,42.8713032,37.6138253,43.7508284,32.5159852,30.505198,33.9304352,40.1164204,40.8584328,35.339507899999994,39.0169509,34.6867846,30.6743643,32.82346210000001,26.5628537,37.3229978,42.4500845,37.0057816,42.995639700000005,36.8529263,38.8402805,42.3875968,27.9094665,36.7468422,32.4709761,41.8505874,26.8233946,41.878711,34.0961111,36.0998596,34.07537620000001,38.8106075,37.4852152,37.59339179999999,25.9812024,44.1635775,33.5676842,33.6971468,40.397761200000005,42.1211364,41.8239891,25.8575963,37.7799273,34.0633443,47.6814875,37.0965278,32.216316,34.1425078,41.5381535,33.8883487,42.1250929,42.0354084,33.0198431,40.1672068,32.9545687,41.481993200000005,35.8422967,30.627977,42.3222599,43.100903,32.5093109,39.2903848,37.20895720000001,34.2284312,40.6337136,42.466763,44.923855200000006,29.6516344,38.5804609,47.6162683,25.9564812,36.0625795,37.9735346,35.0886963,47.2528768,41.5623209,44.4758825,42.5629668,33.635661799999994,40.7127837,34.2694474,34.0686208,39.372212100000006,30.8327022,32.7554883,33.8316745,37.9715592,34.953033700000006,36.0331164,32.7678287,39.8366528,40.3356483,37.4946568,40.42331420000001,32.351260100000005,28.5652787,31.549333,38.0193657,34.1705609,34.1336186,41.18654779999999,44.9597376,38.6631083,26.6276276,46.2395793,33.835849200000006,43.07305170000001,42.6827885,42.3636331,36.9685219,32.735687,33.046233,36.7280583,37.9974219,37.4418834,44.0462362,41.6362152,47.6739881,37.931868,38.5449065,33.9172357,35.9828412,40.5186809,31.2232313,40.767323,41.5731442,30.396031800000003,40.1105875,33.7739053,33.930293,39.8961821,40.7989473,33.8651033,30.4582829,41.6717648,39.0911161,42.732535,41.6303103,39.4863773,44.519159,42.0450722,28.5691677,34.0522342,47.3223221,40.6096698,34.033625,40.4406248,33.9401088,41.8455877,33.954737,30.1588129,37.0842271,29.5074538,40.7607793,27.446705600000005,33.4483771,44.5645659,32.5884689,42.14870429999999,29.1871986,34.0232431,42.0111412,43.2081366,47.0378741,33.660297,27.8005828,42.7762015,41.9994722,42.3736158,33.538652299999995,33.802515500000005,33.0185039,41.5236437,26.3683064,41.6612104,42.4972583,41.5200518,45.5001357,26.1403635,36.3047735,37.3541079,33.1958696,33.6469661,42.48059,40.7878788,42.40843,40.6220478,35.5950581,33.8958492],\"legendgroup\":\"\",\"lon\":[-122.1770818,-117.2286478,-81.6943605,-71.8022934,-81.0348144,-73.0514965,-93.1668858,-83.2218731,-92.0198427,-116.2146068,-85.9766671,-117.9981181,-84.5499327,-104.7613633,-80.0533746,-70.8967155,-88.3200715,-77.5636015,-80.3553302,-117.9939921,-101.8551665,-94.6707917,-90.1848103,-81.1873005,-81.02283309999999,-94.5785667,-118.3870173,-93.2777226,-96.56388,-104.5230242,-86.2999689,-111.8338359,-71.1522765,-75.4901833,-79.82842579999999,-84.9877094,-78.8783689,-88.10842240000001,-97.2289029,-84.1052256,-121.4943996,-94.3985475,-71.37005450000001,-93.7121656,-73.8370786,-105.08137340000002,-114.9817213,-117.8903397,-73.53873409999999,-86.5263857,-82.5618186,-117.4260466,-119.1372338,-75.1652215,-122.4781473,-119.2920585,-91.2395807,-95.8608333,-80.2258811,-96.7969879,-121.805789,-83.0302033,-80.0997657,-86.01335,-104.8202462,-117.2139232,-94.7335709,-86.0085955,-90.0125913,-117.688944,-77.2013705,-117.9536697,-77.41054090000002,-77.3663538,-88.7503647,-88.0070315,-104.9719243,-93.711332,-71.1550451,-119.3473379,-117.0841955,-80.27060440000001,-80.579511,-84.51437609999999,-81.53221490000001,-97.0328547,-82.59932940000002,-88.15353520000001,-80.1494901,-94.1185366,-90.0715323,-122.518458,-87.7479528,-116.6873596,-122.6764816,-122.0310733,-122.3467918,-90.4974359,-88.2314813,-111.651302,-122.29289740000002,-73.93956870000001,-104.990251,-89.6501481,-121.9499568,-117.2296717,-84.16882740000001,-83.17853609999999,-114.3224548,-92.2670941,-119.8138027,-105.0166498,-112.4685025,-121.9357918,-94.0476882,-70.2553259,-93.3563405,-72.94697109999998,-115.5630514,-96.8928309,-83.6874562,-121.88468059999998,-112.58377659999998,-117.9000604,-116.2155619,-111.9260519,-82.9987942,-76.3055144,-96.6851982,-74.74293840000001,-71.0588801,-117.865339,-92.4801989,-90.322614,-76.4921829,-79.05584449999999,-86.0252612,-115.4988834,-87.5294871,-113.996586,-119.7029194,-95.2860474,-111.789027,-89.6301221,-78.6381787,-117.8531119,-122.0651819,-122.6329356,-119.0167679,-111.2224422,-84.2807329,-95.4560512,-80.4139393,-98.4936282,-72.6850932,-92.3425775,-75.9179738,-116.3915131,-88.44705079999999,-94.9774274,-78.78111690000001,-70.94103559999999,-95.992775,-98.3252932,-81.48455849999999,-71.066163,-96.6705503,-110.926479,-86.86888990000001,-93.5272861,-81.655651,-74.4229266,-80.085059,-120.48296770000002,-99.7331439,-117.8131125,-82.3940104,-80.8428504,-82.8963604,-76.88670079999999,-119.22903159999998,-121.9885719,-104.6091409,-71.03282840000001,-89.98399350000001,-93.2650108,-89.8739753,-98.4933873,-95.5377215,-90.1994042,-98.1836216,-106.6055534,-83.357567,-111.929658,-115.1175013,-117.7499909,-117.5848025,-83.09296440000001,-95.2352501,-102.0779146,-97.5164276,-110.96648799999998,-111.8314724,-73.4081575,-85.6447492,-88.1064787,-96.4597089,-86.15861559999999,-117.826166,-94.1632404,-74.12847640000001,-117.086421,-122.4110835,-122.272747,-117.6119925,-98.3959291,-91.4984941,-112.0476423,-96.8570738,-85.13935129999999,-122.3415178,-71.10616390000001,-117.94617340000002,-73.7562317,-122.47020790000002,-83.2696509,-79.1422464,-76.77913649999999,-73.45401109999999,-78.4766781,-80.2683838,-116.7804664,-118.0275667,-88.3161965,-121.9999606,-112.3576567,-74.171811,-123.0350963,-81.40757099999999,-83.9508068,-97.4974838,-97.0969552,-97.0780654,-93.3499489,-83.0457538,-84.56031870000001,-97.1416768,-77.61092190000001,-86.80249,-97.7430608,-119.6981901,-87.9889556,-106.6630437,-88.99063120000001,-88.0895061,-93.3030063,-122.3255254,-81.3792365,-106.313081,-97.1430671,-77.9447102,-82.6995443,-80.1625463,-94.6274636,-71.8022955,-87.92895909999999,-71.2092214,-80.18671379999999,-72.07591049999999,-74.1723667,-92.4451371,-93.2349489,-97.6961026,-120.4579409,-97.1330683,-94.7976958,-86.10665259999999,-121.6555013,-80.2456045,-82.445154,-99.4803241,-80.6081089,-97.2691817,-80.5886646,-77.91553950000001,-111.880771,-120.9577098,-81.72290859999998,-103.2310149,-118.1514588,-104.9338675,-72.589811,-105.084423,-122.1560768,-117.2425355,-73.8987469,-84.5120196,-77.7199932,-81.269453,-74.2631635,-83.555212,-110.27728559999998,-76.4730122,-87.5000412,-87.9631308,-95.6349463,-86.5861037,-121.2722194,-122.3773552,-96.9083366,-77.7905339,-83.2910468,-117.0991967,-122.0807964,-79.03773879999999,-119.7526886,-119.6456844,-118.0372852,-80.6495194,-86.7483318,-117.1825381,-89.51814759999999,-116.5634624,-77.03687070000001,-88.1070127,-96.7561082,-117.3703235,-96.7898034,-89.58898640000001,-95.9979883,-117.603104,-96.5716694,-116.54529209999998,-117.1610838,-122.7140548,-71.3161718,-95.7974526,-122.2348431,-86.78160159999999,-74.0434736,-105.0866504,-78.898619,-97.336111,-116.4668036,-93.24272,-87.9403418,-97.9908366,-88.0125865,-122.0363496,-122.0307963,-87.8211854,-77.8600012,-82.51544709999999,-91.4098726,-80.1247667,-100.4370375,-88.9936873,-121.4252227,-81.93204820000001,-71.467566,-83.6324022,-73.6187397,-75.1196199,-116.3744556,-88.1784085,-76.2874927,-83.11407709999999,-119.0376023,-86.2483921,-74.2107006,-149.90027780000003,-101.2922906,-80.2521157,-98.2300124,-96.6397822,-97.7277959,-83.6499321,-122.27111370000002,-122.0838511,-117.3272615,-101.8312969,-111.6585337,-84.3879824,-118.1228476,-81.83569,-120.0607176,-88.9548001,-71.5147839,-88.0398912,-122.25663670000002,-118.0353449,-89.66452659999999,-92.1735164,-94.7404891,-111.8412502,-105.0874842,-118.1270146,-86.13360329999999,-80.13198929999999,-86.158068,-80.0905465,-111.5495777,-87.9372908,-71.4372796,-86.8752869,-94.8191285,-84.19857900000001,-79.79197540000001,-85.5872286,-122.7714861,-77.43024140000001,-121.2810611,-87.5691735,-93.6001278,-118.3525748,-86.8113781,-80.07282009999999,-80.2683571,-114.5285981,-80.3997748,-83.1497751,-73.78235490000002,-121.29077959999998,-83.1446485,-80.8075537,-117.7075526,-117.2393748,-117.9186689,-96.9977846,-76.29827420000001,-122.8231915,-78.85028559999999,-96.4003069,-117.2919818,-111.654923,-118.2250725,-93.470786,-112.2373779,-111.9400054,-75.5397878,-111.9388258,-83.400211,-96.5991593,-79.43779909999999,-96.6388833,-122.3477486,-100.7837392,-119.7674034,-95.3696909,-82.0105148,-78.87835849999999,-84.155741,-74.360846,-122.0402399,-117.8103367,-86.9833417,-85.3096801,-85.7371847,-88.1856301,-117.96089779999998,-80.1300455,-88.8139469,-93.939947,-120.6596156,-97.3208492,-117.9289469,-111.9391023,-120.5058987,-84.1916069,-89.0928155,-118.1937395,-121.8374777,-89.2903392,-123.08675359999998,-117.3136547,-118.1137535,-121.8746789,-122.2020794,-97.9297743,-122.0399663,-112.3496021,-81.5267873,-85.17971419999999,-93.2982799,-90.5787476,-122.8037102,-90.2417434,-103.2052272,-73.69178509999999,-121.8995741,-87.88339909999999,-117.8703363,-71.08976740000001,-117.6897776,-82.35347270000001,-81.0998342,-80.81841659999999,-122.6614861,-80.25659499999999,-85.3863599,-111.8507662,-122.4194155,-117.435048,-96.8236116,-117.7325848,-117.0358646,-84.1246608,-74.4518188,-76.28587259999999,-122.989827,-116.95863500000002,-87.2169149,-84.5613355,-79.7625625,-117.2897652,-84.2214551,-117.2927641,-87.3464271,-111.7573521,-121.6543901,-90.6645718,-76.1474244,-87.3594528,-81.9498042,-73.7084645,-75.5243682,-96.7678039,-118.3964665,-88.03424,-122.33207079999998,-84.5085536,-121.3716178,-93.7501789,-111.9738304,-78.8689155,-118.3531311,-118.1445155,-71.1631137,-122.6706498,-122.6366524,-83.8088171,-122.286865,-104.8319195,-92.1004852,-79.9414266,-121.3153096,-117.1858759,-71.2356113,-81.87230840000001,-82.4571776,-117.6483876,-79.3950228,-89.0317765,-80.23310359999999,-104.8213634,-120.9968782,-85.6680863,-87.7845025,-82.5306527,-117.4854802,-118.1170117,-105.2705456,-105.937799,-116.173894,-71.55228740000001,-117.3961564,-118.11646129999998,-122.5697032,-111.9710529,-88.0683955,-117.6719953,-87.7878408,-121.29300790000002,-121.17605829999998,-112.315721,-106.7636538,-111.0429339,-88.0834059,-83.01465259999999,-90.6298922,-93.62,-112.3679279,-96.7298519,-84.24721159999999,-97.9413941,-75.88130749999999,-88.4153847,-94.7151865,-81.339552,-121.7680088,-80.8431267,-87.1111676,-80.09420870000001,-122.70109840000002,-87.62979820000001,-108.5006904,-88.0075875,-88.0078435,-72.9278835,-76.727745,-83.9207392,-82.10764859999999,-70.3002024,-111.8879909,-122.2416355,-121.21605259999998,-92.9952153,-122.8755949,-86.39027,-121.6169108,-73.0931641,-92.4453161,-89.8100858,-75.66241219999999,-85.48078249999999,-77.4752667,-121.9877444,-118.4911912,-76.5835621,-83.14993220000001,-116.3100095,-81.6326234,-119.2470536,-81.2811801,-79.9310512,-80.62173409999998,-117.5664384,-121.2357828,-94.3821724,-81.2078699,-111.8389726,-94.2088172,-118.542586,-81.36562420000001,-98.1244531,-90.0489801,-96.9488945,-77.0469214,-117.3008784,-72.61620090000001,-84.3346473,-87.7416246,-74.1454214,-75.3704579,-94.846681,-118.3884078,-95.3698028,-117.1483648,-83.7430378,-94.1265562,-84.48386540000001,-116.97391670000002,-80.2497707,-95.9145568,-80.2962555,-94.1288141,-119.17705159999998,-102.3676431,-97.0583681,-71.0183787,-74.11430909999999,-118.15979109999998,-90.5151342,-88.70365600000001,-84.8766115,-74.0776417,-93.0899578,-81.2636738,-73.58318349999999,-91.5301683,-117.9145036,-93.21772,-111.2833449,-112.0010501,-76.3452218,-97.6779842,-111.69464750000002,-118.0019482,-97.229298,-80.03258670000001,-92.2895948,-117.8678338,-73.76290970000001,-112.0339645,-122.2006786,-121.28800590000002,-74.2654234,-70.92866090000001,-98.3420118,-92.3340724,-87.78285229999999,-86.1180435,-85.5800022,-84.39827629999999,-121.7732971,-71.0119948,-97.0819541,-87.9806265,-116.9719684,-80.0053176,-82.4012642,-97.3967019,-117.1661449,-80.9956105,-118.1339563,-82.9290696,-89.09399520000001,-116.9625269,-82.64,-88.01117459999999,-73.064036,-123.1059282,-115.13982959999998,-95.2091006,-80.3582261,-91.6656232,-81.05588940000001,-71.0022705,-80.3035602,-106.4424559,-95.6890185,-118.072846,-123.0262077,-93.4687489,-81.51900529999999,-98.1633432,-117.5931084,-79.9748103,-85.7584557,-121.7568946,-80.17893509999999,-82.5748194,-117.3505939,-94.9027002,-122.3916754,-85.7053085,-82.18237459999999,-112.0263313,-80.13731740000001,-83.624201,-82.8001026,-80.3468593,-87.677251,-87.4139092,-97.342782,-84.0632685,-96.7311034,-85.9213796,-80.206436,-71.759794,-71.4161671,-119.0187125,-80.1917902,-93.2173758,-119.2844621,-81.3444573,-122.4077498,-93.4555093,-86.25198979999999,-97.4780954,-93.6091064,-81.77869720000001,-111.8638226,-118.032844,-83.3527097,-87.9064736,-122.22845320000002,-80.3414693,-70.880049,-122.21706609999998,-104.8771726,-77.4360481,-85.6802541,-116.977248,-97.6200043,-74.0323626,-84.50371640000002,-118.081733,-114.6276916,-117.2086513,-88.1347927,-88.0817251,-81.02507840000001,-121.302728,-83.2732627,-157.8583333,-97.0035982,-71.2856082,-96.5388789,-96.8899636,-88.2120315,-88.1227199,-71.19089240000001,-82.23592540000001,-77.1527578,-118.30896609999998,-117.9242966,-88.5426136,-95.5507771,-83.3677168,-118.096735,-118.0647871,-117.9495083,-108.5506486,-97.8783911,-121.88632859999998,-97.678896,-93.4557877,-97.4394777,-80.4775569,-95.2010447,-117.7946942,-112.4455344,-122.48691940000002,-87.71453000000001,-93.7321228,-97.8202888,-84.3733147,-88.2433829,-74.16375529999999,-97.4867028,-94.2816148,-118.1541632,-96.3699632,-97.1705678,-81.94953309999998,-122.0321823,-73.2453824,-121.5682751,-71.4547891,-75.977985,-97.6114237,-71.0994968,-82.7873244,-119.7725868,-85.0007653,-87.79366850000001,-80.1386547,-71.38255579999999,-118.1058333,-80.24421600000001,-84.2940899,-90.6998477,-122.2363548,-122.0438298,-80.148379,-93.9993996,-117.7256083,-117.185294,-105.0749801,-88.2578582,-71.4128343,-80.2781057,-121.9780153,-117.6508876,-122.2087353,-113.5684164,-80.752608,-118.255075,-72.8070435,-118.3089624,-72.749538,-88.2825668,-96.6988856,-105.1019275,-97.0150078,-81.7981908,-90.704279,-96.3344068,-83.1763145,-75.232664,-92.1193012,-76.6121893,-93.2922989,-92.0031955,-74.40737359999999,-70.9494938,-92.9593797,-82.3248262,-121.530234,-122.0355736,-80.1392121,-94.1574263,-122.5310874,-92.4421011,-122.4442906,-72.6506488,-73.21207199999999,-114.4608711,-96.6088805,-74.00594129999999,-118.781482,-117.93895259999998,-104.8560902,-83.2784851,-97.3307658,-118.281693,-87.5710898,-120.4357191,-86.7827772,-117.02308390000002,-105.03720459999998,-75.9268747,-120.8465941,-104.7091322,-95.3010624,-81.5861847,-97.1466695,-122.1341321,-118.8375937,-117.9075627,-73.1951767,-93.3702186,-90.5770675,-80.1353896,-119.10056570000002,-118.3406288,-89.4012302,-89.01872220000001,-87.84479379999999,-86.48080429999999,-97.1080656,-96.994174,-108.2186856,-121.7124536,-122.1430195,-123.0220289,-70.934205,-122.121512,-121.6957863,-121.7405167,-118.0120086,-86.51860450000001,-78.3947359,-85.39048879999999,-74.20486770000001,-87.7932939,-88.88530779999999,-88.2072697,-117.9414477,-118.21146029999998,-104.9811468,-81.378447,-84.3365917,-91.1403196,-72.9492703,-94.4155068,-84.55553470000001,-87.8539425,-75.0259637,-88.019826,-87.6876969,-81.5439619,-118.24368490000002,-122.3126222,-111.9391031,-117.0430865,-79.9958864,-118.1331593,-87.7539448,-118.2120161,-85.6602058,-94.513281,-95.0949303,-111.89104740000002,-80.3256056,-112.0740373,-123.2620435,-96.9561152,-72.6078672,-82.14009229999999,-84.36155550000001,-87.8406192,-71.5375718,-122.9006951,-117.9992265,-97.396381,-71.0772796,-88.1450735,-71.10973349999999,-112.1859866,-117.9931165,-80.17564809999999,-90.5776367,-80.1289321,-72.77954190000001,-82.93714090000002,-81.556235,-122.4302013,-80.2133808,-86.6199957,-121.9552356,-117.3794834,-117.689218,-83.47549129999999,-74.0143064,-71.0536625,-74.2445902,-82.5514869,-118.2200712],\"marker\":{\"color\":\"fuchsia\"},\"mode\":\"markers\",\"name\":\"\",\"showlegend\":false,\"subplot\":\"mapbox\",\"type\":\"scattermapbox\"}],                        {\"template\":{\"data\":{\"histogram2dcontour\":[{\"type\":\"histogram2dcontour\",\"colorbar\":{\"outlinewidth\":0,\"ticks\":\"\"},\"colorscale\":[[0.0,\"#0d0887\"],[0.1111111111111111,\"#46039f\"],[0.2222222222222222,\"#7201a8\"],[0.3333333333333333,\"#9c179e\"],[0.4444444444444444,\"#bd3786\"],[0.5555555555555556,\"#d8576b\"],[0.6666666666666666,\"#ed7953\"],[0.7777777777777778,\"#fb9f3a\"],[0.8888888888888888,\"#fdca26\"],[1.0,\"#f0f921\"]]}],\"choropleth\":[{\"type\":\"choropleth\",\"colorbar\":{\"outlinewidth\":0,\"ticks\":\"\"}}],\"histogram2d\":[{\"type\":\"histogram2d\",\"colorbar\":{\"outlinewidth\":0,\"ticks\":\"\"},\"colorscale\":[[0.0,\"#0d0887\"],[0.1111111111111111,\"#46039f\"],[0.2222222222222222,\"#7201a8\"],[0.3333333333333333,\"#9c179e\"],[0.4444444444444444,\"#bd3786\"],[0.5555555555555556,\"#d8576b\"],[0.6666666666666666,\"#ed7953\"],[0.7777777777777778,\"#fb9f3a\"],[0.8888888888888888,\"#fdca26\"],[1.0,\"#f0f921\"]]}],\"heatmap\":[{\"type\":\"heatmap\",\"colorbar\":{\"outlinewidth\":0,\"ticks\":\"\"},\"colorscale\":[[0.0,\"#0d0887\"],[0.1111111111111111,\"#46039f\"],[0.2222222222222222,\"#7201a8\"],[0.3333333333333333,\"#9c179e\"],[0.4444444444444444,\"#bd3786\"],[0.5555555555555556,\"#d8576b\"],[0.6666666666666666,\"#ed7953\"],[0.7777777777777778,\"#fb9f3a\"],[0.8888888888888888,\"#fdca26\"],[1.0,\"#f0f921\"]]}],\"heatmapgl\":[{\"type\":\"heatmapgl\",\"colorbar\":{\"outlinewidth\":0,\"ticks\":\"\"},\"colorscale\":[[0.0,\"#0d0887\"],[0.1111111111111111,\"#46039f\"],[0.2222222222222222,\"#7201a8\"],[0.3333333333333333,\"#9c179e\"],[0.4444444444444444,\"#bd3786\"],[0.5555555555555556,\"#d8576b\"],[0.6666666666666666,\"#ed7953\"],[0.7777777777777778,\"#fb9f3a\"],[0.8888888888888888,\"#fdca26\"],[1.0,\"#f0f921\"]]}],\"contourcarpet\":[{\"type\":\"contourcarpet\",\"colorbar\":{\"outlinewidth\":0,\"ticks\":\"\"}}],\"contour\":[{\"type\":\"contour\",\"colorbar\":{\"outlinewidth\":0,\"ticks\":\"\"},\"colorscale\":[[0.0,\"#0d0887\"],[0.1111111111111111,\"#46039f\"],[0.2222222222222222,\"#7201a8\"],[0.3333333333333333,\"#9c179e\"],[0.4444444444444444,\"#bd3786\"],[0.5555555555555556,\"#d8576b\"],[0.6666666666666666,\"#ed7953\"],[0.7777777777777778,\"#fb9f3a\"],[0.8888888888888888,\"#fdca26\"],[1.0,\"#f0f921\"]]}],\"surface\":[{\"type\":\"surface\",\"colorbar\":{\"outlinewidth\":0,\"ticks\":\"\"},\"colorscale\":[[0.0,\"#0d0887\"],[0.1111111111111111,\"#46039f\"],[0.2222222222222222,\"#7201a8\"],[0.3333333333333333,\"#9c179e\"],[0.4444444444444444,\"#bd3786\"],[0.5555555555555556,\"#d8576b\"],[0.6666666666666666,\"#ed7953\"],[0.7777777777777778,\"#fb9f3a\"],[0.8888888888888888,\"#fdca26\"],[1.0,\"#f0f921\"]]}],\"mesh3d\":[{\"type\":\"mesh3d\",\"colorbar\":{\"outlinewidth\":0,\"ticks\":\"\"}}],\"scatter\":[{\"fillpattern\":{\"fillmode\":\"overlay\",\"size\":10,\"solidity\":0.2},\"type\":\"scatter\"}],\"parcoords\":[{\"type\":\"parcoords\",\"line\":{\"colorbar\":{\"outlinewidth\":0,\"ticks\":\"\"}}}],\"scatterpolargl\":[{\"type\":\"scatterpolargl\",\"marker\":{\"colorbar\":{\"outlinewidth\":0,\"ticks\":\"\"}}}],\"bar\":[{\"error_x\":{\"color\":\"#2a3f5f\"},\"error_y\":{\"color\":\"#2a3f5f\"},\"marker\":{\"line\":{\"color\":\"#E5ECF6\",\"width\":0.5},\"pattern\":{\"fillmode\":\"overlay\",\"size\":10,\"solidity\":0.2}},\"type\":\"bar\"}],\"scattergeo\":[{\"type\":\"scattergeo\",\"marker\":{\"colorbar\":{\"outlinewidth\":0,\"ticks\":\"\"}}}],\"scatterpolar\":[{\"type\":\"scatterpolar\",\"marker\":{\"colorbar\":{\"outlinewidth\":0,\"ticks\":\"\"}}}],\"histogram\":[{\"marker\":{\"pattern\":{\"fillmode\":\"overlay\",\"size\":10,\"solidity\":0.2}},\"type\":\"histogram\"}],\"scattergl\":[{\"type\":\"scattergl\",\"marker\":{\"colorbar\":{\"outlinewidth\":0,\"ticks\":\"\"}}}],\"scatter3d\":[{\"type\":\"scatter3d\",\"line\":{\"colorbar\":{\"outlinewidth\":0,\"ticks\":\"\"}},\"marker\":{\"colorbar\":{\"outlinewidth\":0,\"ticks\":\"\"}}}],\"scattermapbox\":[{\"type\":\"scattermapbox\",\"marker\":{\"colorbar\":{\"outlinewidth\":0,\"ticks\":\"\"}}}],\"scatterternary\":[{\"type\":\"scatterternary\",\"marker\":{\"colorbar\":{\"outlinewidth\":0,\"ticks\":\"\"}}}],\"scattercarpet\":[{\"type\":\"scattercarpet\",\"marker\":{\"colorbar\":{\"outlinewidth\":0,\"ticks\":\"\"}}}],\"carpet\":[{\"aaxis\":{\"endlinecolor\":\"#2a3f5f\",\"gridcolor\":\"white\",\"linecolor\":\"white\",\"minorgridcolor\":\"white\",\"startlinecolor\":\"#2a3f5f\"},\"baxis\":{\"endlinecolor\":\"#2a3f5f\",\"gridcolor\":\"white\",\"linecolor\":\"white\",\"minorgridcolor\":\"white\",\"startlinecolor\":\"#2a3f5f\"},\"type\":\"carpet\"}],\"table\":[{\"cells\":{\"fill\":{\"color\":\"#EBF0F8\"},\"line\":{\"color\":\"white\"}},\"header\":{\"fill\":{\"color\":\"#C8D4E3\"},\"line\":{\"color\":\"white\"}},\"type\":\"table\"}],\"barpolar\":[{\"marker\":{\"line\":{\"color\":\"#E5ECF6\",\"width\":0.5},\"pattern\":{\"fillmode\":\"overlay\",\"size\":10,\"solidity\":0.2}},\"type\":\"barpolar\"}],\"pie\":[{\"automargin\":true,\"type\":\"pie\"}]},\"layout\":{\"autotypenumbers\":\"strict\",\"colorway\":[\"#636efa\",\"#EF553B\",\"#00cc96\",\"#ab63fa\",\"#FFA15A\",\"#19d3f3\",\"#FF6692\",\"#B6E880\",\"#FF97FF\",\"#FECB52\"],\"font\":{\"color\":\"#2a3f5f\"},\"hovermode\":\"closest\",\"hoverlabel\":{\"align\":\"left\"},\"paper_bgcolor\":\"white\",\"plot_bgcolor\":\"#E5ECF6\",\"polar\":{\"bgcolor\":\"#E5ECF6\",\"angularaxis\":{\"gridcolor\":\"white\",\"linecolor\":\"white\",\"ticks\":\"\"},\"radialaxis\":{\"gridcolor\":\"white\",\"linecolor\":\"white\",\"ticks\":\"\"}},\"ternary\":{\"bgcolor\":\"#E5ECF6\",\"aaxis\":{\"gridcolor\":\"white\",\"linecolor\":\"white\",\"ticks\":\"\"},\"baxis\":{\"gridcolor\":\"white\",\"linecolor\":\"white\",\"ticks\":\"\"},\"caxis\":{\"gridcolor\":\"white\",\"linecolor\":\"white\",\"ticks\":\"\"}},\"coloraxis\":{\"colorbar\":{\"outlinewidth\":0,\"ticks\":\"\"}},\"colorscale\":{\"sequential\":[[0.0,\"#0d0887\"],[0.1111111111111111,\"#46039f\"],[0.2222222222222222,\"#7201a8\"],[0.3333333333333333,\"#9c179e\"],[0.4444444444444444,\"#bd3786\"],[0.5555555555555556,\"#d8576b\"],[0.6666666666666666,\"#ed7953\"],[0.7777777777777778,\"#fb9f3a\"],[0.8888888888888888,\"#fdca26\"],[1.0,\"#f0f921\"]],\"sequentialminus\":[[0.0,\"#0d0887\"],[0.1111111111111111,\"#46039f\"],[0.2222222222222222,\"#7201a8\"],[0.3333333333333333,\"#9c179e\"],[0.4444444444444444,\"#bd3786\"],[0.5555555555555556,\"#d8576b\"],[0.6666666666666666,\"#ed7953\"],[0.7777777777777778,\"#fb9f3a\"],[0.8888888888888888,\"#fdca26\"],[1.0,\"#f0f921\"]],\"diverging\":[[0,\"#8e0152\"],[0.1,\"#c51b7d\"],[0.2,\"#de77ae\"],[0.3,\"#f1b6da\"],[0.4,\"#fde0ef\"],[0.5,\"#f7f7f7\"],[0.6,\"#e6f5d0\"],[0.7,\"#b8e186\"],[0.8,\"#7fbc41\"],[0.9,\"#4d9221\"],[1,\"#276419\"]]},\"xaxis\":{\"gridcolor\":\"white\",\"linecolor\":\"white\",\"ticks\":\"\",\"title\":{\"standoff\":15},\"zerolinecolor\":\"white\",\"automargin\":true,\"zerolinewidth\":2},\"yaxis\":{\"gridcolor\":\"white\",\"linecolor\":\"white\",\"ticks\":\"\",\"title\":{\"standoff\":15},\"zerolinecolor\":\"white\",\"automargin\":true,\"zerolinewidth\":2},\"scene\":{\"xaxis\":{\"backgroundcolor\":\"#E5ECF6\",\"gridcolor\":\"white\",\"linecolor\":\"white\",\"showbackground\":true,\"ticks\":\"\",\"zerolinecolor\":\"white\",\"gridwidth\":2},\"yaxis\":{\"backgroundcolor\":\"#E5ECF6\",\"gridcolor\":\"white\",\"linecolor\":\"white\",\"showbackground\":true,\"ticks\":\"\",\"zerolinecolor\":\"white\",\"gridwidth\":2},\"zaxis\":{\"backgroundcolor\":\"#E5ECF6\",\"gridcolor\":\"white\",\"linecolor\":\"white\",\"showbackground\":true,\"ticks\":\"\",\"zerolinecolor\":\"white\",\"gridwidth\":2}},\"shapedefaults\":{\"line\":{\"color\":\"#2a3f5f\"}},\"annotationdefaults\":{\"arrowcolor\":\"#2a3f5f\",\"arrowhead\":0,\"arrowwidth\":1},\"geo\":{\"bgcolor\":\"white\",\"landcolor\":\"#E5ECF6\",\"subunitcolor\":\"white\",\"showland\":true,\"showlakes\":true,\"lakecolor\":\"white\"},\"title\":{\"x\":0.05},\"mapbox\":{\"style\":\"light\"}}},\"mapbox\":{\"domain\":{\"x\":[0.0,1.0],\"y\":[0.0,1.0]},\"center\":{\"lat\":37.3382407015,\"lon\":-96.4830233607},\"zoom\":3,\"style\":\"open-street-map\"},\"legend\":{\"tracegroupgap\":0},\"margin\":{\"t\":0,\"r\":0,\"l\":0,\"b\":0},\"height\":300},                        {\"responsive\": true}                    ).then(function(){\n",
       "                            \n",
       "var gd = document.getElementById('dce996db-1847-4746-bffa-9003357f85f6');\n",
       "var x = new MutationObserver(function (mutations, observer) {{\n",
       "        var display = window.getComputedStyle(gd).display;\n",
       "        if (!display || display === 'none') {{\n",
       "            console.log([gd, 'removed!']);\n",
       "            Plotly.purge(gd);\n",
       "            observer.disconnect();\n",
       "        }}\n",
       "}});\n",
       "\n",
       "// Listen for the removal of the full notebook cells\n",
       "var notebookContainer = gd.closest('#notebook-container');\n",
       "if (notebookContainer) {{\n",
       "    x.observe(notebookContainer, {childList: true});\n",
       "}}\n",
       "\n",
       "// Listen for the clearing of the current output cell\n",
       "var outputEl = gd.closest('.output');\n",
       "if (outputEl) {{\n",
       "    x.observe(outputEl, {childList: true});\n",
       "}}\n",
       "\n",
       "                        })                };                });            </script>        </div>"
      ]
     },
     "metadata": {},
     "output_type": "display_data"
    }
   ],
   "source": [
    "fig = px.scatter_mapbox(us_cities, lat=\"lat\", lon=\"lon\", hover_name=\"City\", hover_data=[\"State\", \"Population\"],\n",
    "                        color_discrete_sequence=[\"fuchsia\"], zoom=3, height=300)\n",
    "fig.update_layout(mapbox_style=\"open-street-map\")\n",
    "fig.update_layout(margin={\"r\":0,\"t\":0,\"l\":0,\"b\":0})\n",
    "fig.show()"
   ]
  },
  {
   "cell_type": "markdown",
   "id": "9d853b6a-8142-44ee-9c0c-7352e8a67c9c",
   "metadata": {},
   "source": [
    "Turning back to the topic of weather stations (where are the ones in this network?):"
   ]
  },
  {
   "cell_type": "code",
   "execution_count": 12,
   "id": "df46a5cd-e15d-4259-bd11-f1662cfb592c",
   "metadata": {},
   "outputs": [
    {
     "name": "stdout",
     "output_type": "stream",
     "text": [
      "<class 'pandas.core.frame.DataFrame'>\n",
      "RangeIndex: 158 entries, 1 to 158\n",
      "Data columns (total 6 columns):\n",
      " #   Column        Non-Null Count  Dtype \n",
      "---  ------        --------------  ----- \n",
      " 0   WBAN          158 non-null    object\n",
      " 1   STATION_ID    158 non-null    object\n",
      " 2   STATION_NAME  158 non-null    object\n",
      " 3   LAT_LONG      158 non-null    object\n",
      " 4   ELEV_ft       158 non-null    object\n",
      " 5   HEIGHT_m      158 non-null    object\n",
      "dtypes: object(6)\n",
      "memory usage: 7.5+ KB\n"
     ]
    }
   ],
   "source": [
    "wr.info()"
   ]
  },
  {
   "cell_type": "markdown",
   "id": "c51d3fa2-a413-489e-a6f1-a9d7e938750b",
   "metadata": {},
   "source": [
    "Below is the kind of data we start with in LAT_LONG and need to parse out."
   ]
  },
  {
   "cell_type": "code",
   "execution_count": 13,
   "id": "c18f29c5-136c-4e0c-95cc-d1b8d1e3df58",
   "metadata": {},
   "outputs": [
    {
     "data": {
      "text/plain": [
       "'452721 / 0982447'"
      ]
     },
     "execution_count": 13,
     "metadata": {},
     "output_type": "execute_result"
    }
   ],
   "source": [
    "latlong = wr.iloc[0,3]\n",
    "latlong"
   ]
  },
  {
   "cell_type": "code",
   "execution_count": 14,
   "id": "3dfc28f1-b789-46e1-9b56-5cc23c27bd8c",
   "metadata": {},
   "outputs": [
    {
     "data": {
      "text/plain": [
       "str"
      ]
     },
     "execution_count": 14,
     "metadata": {},
     "output_type": "execute_result"
    }
   ],
   "source": [
    "type(latlong)"
   ]
  },
  {
   "cell_type": "code",
   "execution_count": 15,
   "id": "5f799bff-7ffb-4fbd-acfc-8b4aa884f0e8",
   "metadata": {},
   "outputs": [],
   "source": [
    "lat, long = latlong.split(\" / \")"
   ]
  },
  {
   "cell_type": "code",
   "execution_count": 16,
   "id": "98e33e16-fd73-4ddd-8e59-efe2eb715532",
   "metadata": {},
   "outputs": [
    {
     "data": {
      "text/plain": [
       "('452721', '0982447')"
      ]
     },
     "execution_count": 16,
     "metadata": {},
     "output_type": "execute_result"
    }
   ],
   "source": [
    "lat, long"
   ]
  },
  {
   "cell_type": "markdown",
   "id": "a2279c50-b400-41f1-bd0f-fb0c576ccacd",
   "metadata": {},
   "source": [
    "The following two functions with do the job with respect to longitude and latitude. One treats of latitutde, the other of longitude. \n",
    "\n",
    "We may spot check our results (as far as conversion from deg min sec to decimal goes) against an authoritative website."
   ]
  },
  {
   "cell_type": "markdown",
   "id": "7abd8423-2b4d-4342-81ba-b154960dab89",
   "metadata": {},
   "source": [
    "[DMS to Decimal Conversion](https://www.fcc.gov/media/radio/dms-decimal)"
   ]
  },
  {
   "cell_type": "code",
   "execution_count": 17,
   "id": "c6182196-7179-441c-ab71-81069b40fda2",
   "metadata": {},
   "outputs": [],
   "source": [
    "def mkdec_lon(lat_long):\n",
    "    \"\"\"\n",
    "    Take input in the form '452721 / 0982447' known to \n",
    "    be deg min sec / deg min sec of lat / long, with no\n",
    "    spacing between digits.  Split and handle longitute,\n",
    "    returning decimal degrees.\n",
    "    \"\"\"\n",
    "    lon = lat_long.split(\" / \")[1]\n",
    "    flag = False\n",
    "    if \"E\" in lon:\n",
    "        flag = True\n",
    "        lon = lon.rstrip(\"E\") # attached to coords in eastern hemisphere e.g. Korea\n",
    "    secs = int(lon[-2:])\n",
    "    mins = int(lon[-4:-2])\n",
    "    degs = int(lon[:-4])\n",
    "    result = (degs + mins/60 + secs/3600)\n",
    "    return -result if not flag else result # keep it positive if we found an E"
   ]
  },
  {
   "cell_type": "code",
   "execution_count": 18,
   "id": "ebc5eadf-cd15-44e1-b6de-1056394b37b9",
   "metadata": {},
   "outputs": [],
   "source": [
    "def mkdec_lat(lat_long):\n",
    "    \"\"\"\n",
    "    Take input in the form '452721 / 0982447' known to \n",
    "    be deg min sec / deg min sec of lat / long, with no\n",
    "    spacing between digits.  Split and handle latitude,\n",
    "    returning decimal degrees.\n",
    "    \"\"\"\n",
    "    lat = lat_long.split(\" / \")[0]\n",
    "    secs = int(lat[-2:])\n",
    "    mins = int(lat[-4:-2])\n",
    "    degs = int(lat[:-4])\n",
    "    return degs + mins/60 + secs/3600"
   ]
  },
  {
   "cell_type": "code",
   "execution_count": 19,
   "id": "5aadbbf9-c1f3-4309-9bee-ad350cbb07ab",
   "metadata": {},
   "outputs": [
    {
     "data": {
      "text/plain": [
       "45.45583333333334"
      ]
     },
     "execution_count": 19,
     "metadata": {},
     "output_type": "execute_result"
    }
   ],
   "source": [
    "mkdec_lat(latlong)"
   ]
  },
  {
   "cell_type": "code",
   "execution_count": 20,
   "id": "bbb42982-7eca-46f4-aac0-f89dc211d07e",
   "metadata": {},
   "outputs": [],
   "source": [
    "wr[\"lat\"] = wr.LAT_LONG.apply(mkdec_lat)  # populate decimal deg column (latitude)"
   ]
  },
  {
   "cell_type": "code",
   "execution_count": 21,
   "id": "cd6524af-537f-475b-9f85-f9609a678f9a",
   "metadata": {},
   "outputs": [],
   "source": [
    "wr[\"lon\"] = wr.LAT_LONG.apply(mkdec_lon)  # populate decimal deg column (longitude)"
   ]
  },
  {
   "cell_type": "code",
   "execution_count": 22,
   "id": "c4700b18-f6a4-4a16-a7b0-99f1f3ecaf7d",
   "metadata": {},
   "outputs": [
    {
     "data": {
      "text/html": [
       "<div>\n",
       "<style scoped>\n",
       "    .dataframe tbody tr th:only-of-type {\n",
       "        vertical-align: middle;\n",
       "    }\n",
       "\n",
       "    .dataframe tbody tr th {\n",
       "        vertical-align: top;\n",
       "    }\n",
       "\n",
       "    .dataframe thead th {\n",
       "        text-align: right;\n",
       "    }\n",
       "</style>\n",
       "<table border=\"1\" class=\"dataframe\">\n",
       "  <thead>\n",
       "    <tr style=\"text-align: right;\">\n",
       "      <th></th>\n",
       "      <th>WBAN</th>\n",
       "      <th>STATION_ID</th>\n",
       "      <th>STATION_NAME</th>\n",
       "      <th>LAT_LONG</th>\n",
       "      <th>ELEV_ft</th>\n",
       "      <th>HEIGHT_m</th>\n",
       "      <th>lat</th>\n",
       "      <th>lon</th>\n",
       "    </tr>\n",
       "  </thead>\n",
       "  <tbody>\n",
       "    <tr>\n",
       "      <th>1</th>\n",
       "      <td>14929</td>\n",
       "      <td>KABR</td>\n",
       "      <td>Aberdeen, SD</td>\n",
       "      <td>452721 / 0982447</td>\n",
       "      <td>1302</td>\n",
       "      <td>20</td>\n",
       "      <td>45.455833</td>\n",
       "      <td>-98.413056</td>\n",
       "    </tr>\n",
       "    <tr>\n",
       "      <th>2</th>\n",
       "      <td>54766</td>\n",
       "      <td>KENX</td>\n",
       "      <td>Albany, NY</td>\n",
       "      <td>423511 / 0740350</td>\n",
       "      <td>1826</td>\n",
       "      <td>20</td>\n",
       "      <td>42.586389</td>\n",
       "      <td>-74.063889</td>\n",
       "    </tr>\n",
       "    <tr>\n",
       "      <th>3</th>\n",
       "      <td>03019</td>\n",
       "      <td>KABX</td>\n",
       "      <td>Albuquerque, NM</td>\n",
       "      <td>350859 / 1064926</td>\n",
       "      <td>5870</td>\n",
       "      <td>20</td>\n",
       "      <td>35.149722</td>\n",
       "      <td>-106.823889</td>\n",
       "    </tr>\n",
       "    <tr>\n",
       "      <th>4</th>\n",
       "      <td>03981</td>\n",
       "      <td>KFDR</td>\n",
       "      <td>Altus AFB, OK</td>\n",
       "      <td>342144 / 0985835</td>\n",
       "      <td>1267</td>\n",
       "      <td>10</td>\n",
       "      <td>34.362222</td>\n",
       "      <td>-98.976389</td>\n",
       "    </tr>\n",
       "    <tr>\n",
       "      <th>5</th>\n",
       "      <td>23047</td>\n",
       "      <td>KAMA</td>\n",
       "      <td>Amarillo, TX</td>\n",
       "      <td>351400 / 1014233</td>\n",
       "      <td>3587</td>\n",
       "      <td>20</td>\n",
       "      <td>35.233333</td>\n",
       "      <td>-101.709167</td>\n",
       "    </tr>\n",
       "    <tr>\n",
       "      <th>...</th>\n",
       "      <td>...</td>\n",
       "      <td>...</td>\n",
       "      <td>...</td>\n",
       "      <td>...</td>\n",
       "      <td>...</td>\n",
       "      <td>...</td>\n",
       "      <td>...</td>\n",
       "      <td>...</td>\n",
       "    </tr>\n",
       "    <tr>\n",
       "      <th>154</th>\n",
       "      <td>03995</td>\n",
       "      <td>KVNX</td>\n",
       "      <td>Vance AFB, OK</td>\n",
       "      <td>364427 / 0980740</td>\n",
       "      <td>1210</td>\n",
       "      <td>10</td>\n",
       "      <td>36.740833</td>\n",
       "      <td>-98.127778</td>\n",
       "    </tr>\n",
       "    <tr>\n",
       "      <th>155</th>\n",
       "      <td>93234</td>\n",
       "      <td>KVBX</td>\n",
       "      <td>Vandenberg AFB, CA</td>\n",
       "      <td>345017 / 1202349</td>\n",
       "      <td>1223</td>\n",
       "      <td>20</td>\n",
       "      <td>34.838056</td>\n",
       "      <td>-120.396944</td>\n",
       "    </tr>\n",
       "    <tr>\n",
       "      <th>156</th>\n",
       "      <td>03928</td>\n",
       "      <td>KICT</td>\n",
       "      <td>Wichita, KS</td>\n",
       "      <td>373917 / 0972634</td>\n",
       "      <td>1335</td>\n",
       "      <td>10</td>\n",
       "      <td>37.654722</td>\n",
       "      <td>-97.442778</td>\n",
       "    </tr>\n",
       "    <tr>\n",
       "      <th>157</th>\n",
       "      <td>93774</td>\n",
       "      <td>KLTX</td>\n",
       "      <td>Wilmington, NC</td>\n",
       "      <td>335922 / 0782544</td>\n",
       "      <td>64</td>\n",
       "      <td>20</td>\n",
       "      <td>33.989444</td>\n",
       "      <td>-78.428889</td>\n",
       "    </tr>\n",
       "    <tr>\n",
       "      <th>158</th>\n",
       "      <td>53116</td>\n",
       "      <td>KYUX</td>\n",
       "      <td>Yuma, AZ</td>\n",
       "      <td>322943 / 1143924</td>\n",
       "      <td>174</td>\n",
       "      <td>10</td>\n",
       "      <td>32.495278</td>\n",
       "      <td>-114.656667</td>\n",
       "    </tr>\n",
       "  </tbody>\n",
       "</table>\n",
       "<p>158 rows × 8 columns</p>\n",
       "</div>"
      ],
      "text/plain": [
       "      WBAN STATION_ID        STATION_NAME          LAT_LONG ELEV_ft HEIGHT_m  \\\n",
       "1    14929       KABR        Aberdeen, SD  452721 / 0982447    1302       20   \n",
       "2    54766       KENX          Albany, NY  423511 / 0740350    1826       20   \n",
       "3    03019       KABX     Albuquerque, NM  350859 / 1064926    5870       20   \n",
       "4    03981       KFDR       Altus AFB, OK  342144 / 0985835    1267       10   \n",
       "5    23047       KAMA        Amarillo, TX  351400 / 1014233    3587       20   \n",
       "..     ...        ...                 ...               ...     ...      ...   \n",
       "154  03995       KVNX       Vance AFB, OK  364427 / 0980740    1210       10   \n",
       "155  93234       KVBX  Vandenberg AFB, CA  345017 / 1202349    1223       20   \n",
       "156  03928       KICT         Wichita, KS  373917 / 0972634    1335       10   \n",
       "157  93774       KLTX      Wilmington, NC  335922 / 0782544      64       20   \n",
       "158  53116       KYUX            Yuma, AZ  322943 / 1143924     174       10   \n",
       "\n",
       "           lat         lon  \n",
       "1    45.455833  -98.413056  \n",
       "2    42.586389  -74.063889  \n",
       "3    35.149722 -106.823889  \n",
       "4    34.362222  -98.976389  \n",
       "5    35.233333 -101.709167  \n",
       "..         ...         ...  \n",
       "154  36.740833  -98.127778  \n",
       "155  34.838056 -120.396944  \n",
       "156  37.654722  -97.442778  \n",
       "157  33.989444  -78.428889  \n",
       "158  32.495278 -114.656667  \n",
       "\n",
       "[158 rows x 8 columns]"
      ]
     },
     "execution_count": 22,
     "metadata": {},
     "output_type": "execute_result"
    }
   ],
   "source": [
    "wr"
   ]
  },
  {
   "cell_type": "code",
   "execution_count": 23,
   "id": "ff05002f-9022-4b42-a2af-eee977dfa223",
   "metadata": {},
   "outputs": [
    {
     "data": {
      "text/html": [
       "<div>\n",
       "<style scoped>\n",
       "    .dataframe tbody tr th:only-of-type {\n",
       "        vertical-align: middle;\n",
       "    }\n",
       "\n",
       "    .dataframe tbody tr th {\n",
       "        vertical-align: top;\n",
       "    }\n",
       "\n",
       "    .dataframe thead th {\n",
       "        text-align: right;\n",
       "    }\n",
       "</style>\n",
       "<table border=\"1\" class=\"dataframe\">\n",
       "  <thead>\n",
       "    <tr style=\"text-align: right;\">\n",
       "      <th></th>\n",
       "      <th>WBAN</th>\n",
       "      <th>STATION_ID</th>\n",
       "      <th>STATION_NAME</th>\n",
       "      <th>LAT_LONG</th>\n",
       "      <th>ELEV_ft</th>\n",
       "      <th>HEIGHT_m</th>\n",
       "      <th>lat</th>\n",
       "      <th>lon</th>\n",
       "    </tr>\n",
       "  </thead>\n",
       "  <tbody>\n",
       "    <tr>\n",
       "      <th>139</th>\n",
       "      <td>94287</td>\n",
       "      <td>KATX</td>\n",
       "      <td>Seattle/Tacoma, WA</td>\n",
       "      <td>481140 / 1222945</td>\n",
       "      <td>494</td>\n",
       "      <td>30</td>\n",
       "      <td>48.194444</td>\n",
       "      <td>-122.495833</td>\n",
       "    </tr>\n",
       "  </tbody>\n",
       "</table>\n",
       "</div>"
      ],
      "text/plain": [
       "      WBAN STATION_ID        STATION_NAME          LAT_LONG ELEV_ft HEIGHT_m  \\\n",
       "139  94287       KATX  Seattle/Tacoma, WA  481140 / 1222945     494       30   \n",
       "\n",
       "           lat         lon  \n",
       "139  48.194444 -122.495833  "
      ]
     },
     "execution_count": 23,
     "metadata": {},
     "output_type": "execute_result"
    }
   ],
   "source": [
    "wr.query(\"STATION_ID == 'KATX'\")"
   ]
  },
  {
   "cell_type": "code",
   "execution_count": 24,
   "id": "2c5e8405-44ae-4ca7-be57-ad7780c2c6fc",
   "metadata": {},
   "outputs": [
    {
     "data": {
      "text/html": [
       "<div>\n",
       "<style scoped>\n",
       "    .dataframe tbody tr th:only-of-type {\n",
       "        vertical-align: middle;\n",
       "    }\n",
       "\n",
       "    .dataframe tbody tr th {\n",
       "        vertical-align: top;\n",
       "    }\n",
       "\n",
       "    .dataframe thead th {\n",
       "        text-align: right;\n",
       "    }\n",
       "</style>\n",
       "<table border=\"1\" class=\"dataframe\">\n",
       "  <thead>\n",
       "    <tr style=\"text-align: right;\">\n",
       "      <th></th>\n",
       "      <th>WBAN</th>\n",
       "      <th>STATION_ID</th>\n",
       "      <th>STATION_NAME</th>\n",
       "      <th>LAT_LONG</th>\n",
       "      <th>ELEV_ft</th>\n",
       "      <th>HEIGHT_m</th>\n",
       "      <th>lat</th>\n",
       "      <th>lon</th>\n",
       "    </tr>\n",
       "  </thead>\n",
       "  <tbody>\n",
       "    <tr>\n",
       "      <th>21</th>\n",
       "      <td>43216</td>\n",
       "      <td>RKSG</td>\n",
       "      <td>Camp Humphreys, Korea</td>\n",
       "      <td>365721 / 1270116E</td>\n",
       "      <td>52</td>\n",
       "      <td>20</td>\n",
       "      <td>36.955833</td>\n",
       "      <td>127.021111</td>\n",
       "    </tr>\n",
       "    <tr>\n",
       "      <th>80</th>\n",
       "      <td>PENDING</td>\n",
       "      <td>RKJK</td>\n",
       "      <td>Kunsan AB, Korea</td>\n",
       "      <td>355527 / 1263720E</td>\n",
       "      <td>78</td>\n",
       "      <td>30</td>\n",
       "      <td>35.924167</td>\n",
       "      <td>126.622222</td>\n",
       "    </tr>\n",
       "  </tbody>\n",
       "</table>\n",
       "</div>"
      ],
      "text/plain": [
       "       WBAN STATION_ID           STATION_NAME           LAT_LONG ELEV_ft  \\\n",
       "21    43216       RKSG  Camp Humphreys, Korea  365721 / 1270116E      52   \n",
       "80  PENDING       RKJK       Kunsan AB, Korea  355527 / 1263720E      78   \n",
       "\n",
       "   HEIGHT_m        lat         lon  \n",
       "21       20  36.955833  127.021111  \n",
       "80       30  35.924167  126.622222  "
      ]
     },
     "execution_count": 24,
     "metadata": {},
     "output_type": "execute_result"
    }
   ],
   "source": [
    "wr[wr.STATION_NAME.str.contains(\"Korea\")]"
   ]
  },
  {
   "cell_type": "code",
   "execution_count": 25,
   "id": "83bfee53-e5d5-499f-8a97-9d5588e524a2",
   "metadata": {},
   "outputs": [
    {
     "data": {
      "application/vnd.plotly.v1+json": {
       "config": {
        "plotlyServerURL": "https://plot.ly"
       },
       "data": [
        {
         "customdata": [
          [
           "KABR",
           "Aberdeen, SD"
          ],
          [
           "KENX",
           "Albany, NY"
          ],
          [
           "KABX",
           "Albuquerque, NM"
          ],
          [
           "KFDR",
           "Altus AFB, OK"
          ],
          [
           "KAMA",
           "Amarillo, TX"
          ],
          [
           "PAHG",
           "Anchorage, AK"
          ],
          [
           "PGUA",
           "Anderson AFB, GU"
          ],
          [
           "KFFC",
           "Atlanta, GA"
          ],
          [
           "KEWX",
           "Austin/San Antonio, TX"
          ],
          [
           "KBBX",
           "Beale AFB, CA"
          ],
          [
           "PABC",
           "Bethel, AK"
          ],
          [
           "KBLX",
           "Billings, MT"
          ],
          [
           "KBGM",
           "Binghamton, NY"
          ],
          [
           "KBMX",
           "Birmingham, AL"
          ],
          [
           "KBIS",
           "Bismarck, ND"
          ],
          [
           "KCBX",
           "Boise, ID"
          ],
          [
           "KBOX",
           "Boston, MA"
          ],
          [
           "KBRO",
           "Brownsville, TX"
          ],
          [
           "KBUF",
           "Buffalo, NY"
          ],
          [
           "KCXX",
           "Burlington, VT"
          ],
          [
           "RKSG",
           "Camp Humphreys, Korea"
          ],
          [
           "KFDX",
           "Cannon AFB, NM"
          ],
          [
           "KICX",
           "Cedar City, UT"
          ],
          [
           "KCLX",
           "Charleston, SC"
          ],
          [
           "KRLX",
           "Charleston, WV"
          ],
          [
           "KCYS",
           "Cheyenne, WY"
          ],
          [
           "KLOT",
           "Chicago, IL"
          ],
          [
           "KILN",
           "Cincinnati, OH"
          ],
          [
           "KCLE",
           "Cleveland, OH"
          ],
          [
           "KCAE",
           "Columbia, SC"
          ],
          [
           "KGWX",
           "Columbus AFB, MS"
          ],
          [
           "KCRP",
           "Corpus Christi, TX"
          ],
          [
           "KFWS",
           "Dallas/Ft. Worth, TX"
          ],
          [
           "KDVN",
           "Davenport, IA"
          ],
          [
           "KFTG",
           "Denver, CO"
          ],
          [
           "KDMX",
           "Des Moines, IA"
          ],
          [
           "KDTX",
           "Detroit, MI"
          ],
          [
           "KDDC",
           "Dodge City, KS"
          ],
          [
           "KDOX",
           "Dover AFB, DE"
          ],
          [
           "KDLH",
           "Duluth, MN"
          ],
          [
           "KDYX",
           "Dyess AFB, TX"
          ],
          [
           "KEYX",
           "Edwards AFB, CA"
          ],
          [
           "KEVX",
           "Eglin AFB, FL"
          ],
          [
           "KEPZ",
           "El Paso, TX"
          ],
          [
           "KLRX",
           "Elko, NV"
          ],
          [
           "KBHX",
           "Eureka, CA"
          ],
          [
           "PAPD",
           "Fairbanks, AK"
          ],
          [
           "KFSX",
           "Flagstaff, AZ"
          ],
          [
           "KHPX",
           "Fort Campbell, KY"
          ],
          [
           "KGRK",
           "Fort Hood, TX"
          ],
          [
           "KPOE",
           "Fort Polk, LA"
          ],
          [
           "KEOX",
           "Fort Rucker, AL"
          ],
          [
           "KSRX",
           "Fort Smith, AR"
          ],
          [
           "KIWX",
           "Fort Wayne, IN"
          ],
          [
           "KAPX",
           "Gaylord, MI"
          ],
          [
           "KGGW",
           "Glasgow, MT"
          ],
          [
           "KGLD",
           "Goodland, KS"
          ],
          [
           "KMVX",
           "Grand Forks, ND"
          ],
          [
           "KGJX",
           "Grand Junction, Co"
          ],
          [
           "KGRR",
           "Grand Rapids, MI"
          ],
          [
           "KTFX",
           "Great Falls, MT"
          ],
          [
           "KGRB",
           "Green Bay, WI"
          ],
          [
           "KGSP",
           "Greer, SC"
          ],
          [
           "KRMX",
           "Griffiss AFB, NY"
          ],
          [
           "KUEX",
           "Hastings, NE"
          ],
          [
           "KHDX",
           "Holloman AFB, NM"
          ],
          [
           "KCBW",
           "Houlton, ME"
          ],
          [
           "KHGX",
           "Houston/Galveston, TX"
          ],
          [
           "KHTX",
           "Huntsville, AL"
          ],
          [
           "KIND",
           "Indianapolis, IN"
          ],
          [
           "KJKL",
           "Jackson, KY"
          ],
          [
           "KJAN",
           "Jackson, MS"
          ],
          [
           "KJAX",
           "Jacksonville, FL"
          ],
          [
           "RODN",
           "Kadena, Okinawa"
          ],
          [
           "PHKN",
           "Kamuela, HI"
          ],
          [
           "KEAX",
           "Kansas City, MO"
          ],
          [
           "KBYX",
           "Key West, FL"
          ],
          [
           "PAKC",
           "King Salmon, AK"
          ],
          [
           "KMRX",
           "Knoxville/Tri-Cities, TN"
          ],
          [
           "RKJK",
           "Kunsan AB, Korea"
          ],
          [
           "KARX",
           "La Crosse, WI"
          ],
          [
           "LPLA",
           "Lajes AB, Azores"
          ],
          [
           "KLCH",
           "Lake Charles, LA"
          ],
          [
           "KESX",
           "Las Vegas, NV"
          ],
          [
           "KDFX",
           "Laughlin AFB, TX"
          ],
          [
           "KILX",
           "Lincoln, IL"
          ],
          [
           "KLZK",
           "Little Rock, AR"
          ],
          [
           "KVTX",
           "Los Angeles, CA"
          ],
          [
           "KLVX",
           "Louisville, KY"
          ],
          [
           "KLBB",
           "Lubbock, TX"
          ],
          [
           "KMQT",
           "Marquette, MI"
          ],
          [
           "KMXX",
           "Maxwell AFB, AL"
          ],
          [
           "KMAX",
           "Medford, OR"
          ],
          [
           "KMLB",
           "Melbourne, FL"
          ],
          [
           "KNQA",
           "Memphis, TN"
          ],
          [
           "KAMX",
           "Miami, FL"
          ],
          [
           "PAIH",
           "Middleton Island, AK"
          ],
          [
           "KMAF",
           "Midland/Odessa, TX"
          ],
          [
           "KMKX",
           "Milwaukee, WI"
          ],
          [
           "KMPX",
           "Minneapolis/St. Paul, MN"
          ],
          [
           "KMBX",
           "Minot AFB, ND"
          ],
          [
           "KMSX",
           "Missoula, MT"
          ],
          [
           "KMOB",
           "Mobile, AL"
          ],
          [
           "PHMO",
           "Molokai, HI"
          ],
          [
           "KVAX",
           "Moody AFB, GA"
          ],
          [
           "KMHX",
           "Morehead City, NC"
          ],
          [
           "KOHX",
           "Nashville, TN"
          ],
          [
           "KLIX",
           "New Orleans, LA"
          ],
          [
           "KOKX",
           "New York City, NY"
          ],
          [
           "PAEC",
           "Nome, AK"
          ],
          [
           "KAKQ",
           "Norfolk/Richmond, VA"
          ],
          [
           "KLNX",
           "North Platte, NE"
          ],
          [
           "KTLX",
           "Oklahoma City, OK"
          ],
          [
           "KOAX",
           "Omaha, NE"
          ],
          [
           "KPAH",
           "Paducah, KY"
          ],
          [
           "KPDT",
           "Pendleton, OR"
          ],
          [
           "KDIX",
           "Philadelphia, PA"
          ],
          [
           "KIWA",
           "Phoenix, AZ"
          ],
          [
           "KPBZ",
           "Pittsburgh, PA"
          ],
          [
           "KSFX",
           "Pocatello/Idaho Falls, ID"
          ],
          [
           "KGYX",
           "Portland, ME"
          ],
          [
           "KRTX",
           "Portland, OR"
          ],
          [
           "KPUX",
           "Pueblo, CO"
          ],
          [
           "KRAX",
           "Raleigh/Durham, NC"
          ],
          [
           "KUDX",
           "Rapid City, SD"
          ],
          [
           "KRGX",
           "Reno, NV"
          ],
          [
           "KRIW",
           "Riverton, WY"
          ],
          [
           "KFCX",
           "Roanoke, VA"
          ],
          [
           "KJGX",
           "Robins AFB, GA"
          ],
          [
           "KDAX",
           "Sacramento, CA"
          ],
          [
           "KLSX",
           "Saint Louis, MO"
          ],
          [
           "KMTX",
           "Salt Lake City, UT"
          ],
          [
           "KSJT",
           "San Angelo, TX"
          ],
          [
           "KNKX",
           "San Diego, CA"
          ],
          [
           "KMUX",
           "San Francisco, CA"
          ],
          [
           "KHNX",
           "San Joaquin Valley, CA"
          ],
          [
           "TJUA",
           "San Juan, PR"
          ],
          [
           "KSOX",
           "Santa Ana Mountains, CA"
          ],
          [
           "KATX",
           "Seattle/Tacoma, WA"
          ],
          [
           "KSHV",
           "Shreveport, LA"
          ],
          [
           "KFSD",
           "Sioux Falls, SD"
          ],
          [
           "PACG",
           "Sitka, AK"
          ],
          [
           "PHKI",
           "South Kauai, HI"
          ],
          [
           "PHWA",
           "South Shore, HI"
          ],
          [
           "KOTX",
           "Spokane, WA"
          ],
          [
           "KSGF",
           "Springfield, MO"
          ],
          [
           "KCCX",
           "State College, PA"
          ],
          [
           "KLWX",
           "Sterling, VA"
          ],
          [
           "KTLH",
           "Tallahassee, FL"
          ],
          [
           "KTBW",
           "Tampa, FL"
          ],
          [
           "KTWX",
           "Topeka, KS"
          ],
          [
           "KEMX",
           "Tucson, AZ"
          ],
          [
           "KINX",
           "Tulsa, OK"
          ],
          [
           "KVNX",
           "Vance AFB, OK"
          ],
          [
           "KVBX",
           "Vandenberg AFB, CA"
          ],
          [
           "KICT",
           "Wichita, KS"
          ],
          [
           "KLTX",
           "Wilmington, NC"
          ],
          [
           "KYUX",
           "Yuma, AZ"
          ]
         ],
         "hovertemplate": "<b>%{hovertext}</b><br><br>lat=%{lat}<br>lon=%{lon}<br>STATION_ID=%{customdata[0]}<br>STATION_NAME=%{customdata[1]}<extra></extra>",
         "hovertext": [
          "Aberdeen, SD",
          "Albany, NY",
          "Albuquerque, NM",
          "Altus AFB, OK",
          "Amarillo, TX",
          "Anchorage, AK",
          "Anderson AFB, GU",
          "Atlanta, GA",
          "Austin/San Antonio, TX",
          "Beale AFB, CA",
          "Bethel, AK",
          "Billings, MT",
          "Binghamton, NY",
          "Birmingham, AL",
          "Bismarck, ND",
          "Boise, ID",
          "Boston, MA",
          "Brownsville, TX",
          "Buffalo, NY",
          "Burlington, VT",
          "Camp Humphreys, Korea",
          "Cannon AFB, NM",
          "Cedar City, UT",
          "Charleston, SC",
          "Charleston, WV",
          "Cheyenne, WY",
          "Chicago, IL",
          "Cincinnati, OH",
          "Cleveland, OH",
          "Columbia, SC",
          "Columbus AFB, MS",
          "Corpus Christi, TX",
          "Dallas/Ft. Worth, TX",
          "Davenport, IA",
          "Denver, CO",
          "Des Moines, IA",
          "Detroit, MI",
          "Dodge City, KS",
          "Dover AFB, DE",
          "Duluth, MN",
          "Dyess AFB, TX",
          "Edwards AFB, CA",
          "Eglin AFB, FL",
          "El Paso, TX",
          "Elko, NV",
          "Eureka, CA",
          "Fairbanks, AK",
          "Flagstaff, AZ",
          "Fort Campbell, KY",
          "Fort Hood, TX",
          "Fort Polk, LA",
          "Fort Rucker, AL",
          "Fort Smith, AR",
          "Fort Wayne, IN",
          "Gaylord, MI",
          "Glasgow, MT",
          "Goodland, KS",
          "Grand Forks, ND",
          "Grand Junction, Co",
          "Grand Rapids, MI",
          "Great Falls, MT",
          "Green Bay, WI",
          "Greer, SC",
          "Griffiss AFB, NY",
          "Hastings, NE",
          "Holloman AFB, NM",
          "Houlton, ME",
          "Houston/Galveston, TX",
          "Huntsville, AL",
          "Indianapolis, IN",
          "Jackson, KY",
          "Jackson, MS",
          "Jacksonville, FL",
          "Kadena, Okinawa",
          "Kamuela, HI",
          "Kansas City, MO",
          "Key West, FL",
          "King Salmon, AK",
          "Knoxville/Tri-Cities, TN",
          "Kunsan AB, Korea",
          "La Crosse, WI",
          "Lajes AB, Azores",
          "Lake Charles, LA",
          "Las Vegas, NV",
          "Laughlin AFB, TX",
          "Lincoln, IL",
          "Little Rock, AR",
          "Los Angeles, CA",
          "Louisville, KY",
          "Lubbock, TX",
          "Marquette, MI",
          "Maxwell AFB, AL",
          "Medford, OR",
          "Melbourne, FL",
          "Memphis, TN",
          "Miami, FL",
          "Middleton Island, AK",
          "Midland/Odessa, TX",
          "Milwaukee, WI",
          "Minneapolis/St. Paul, MN",
          "Minot AFB, ND",
          "Missoula, MT",
          "Mobile, AL",
          "Molokai, HI",
          "Moody AFB, GA",
          "Morehead City, NC",
          "Nashville, TN",
          "New Orleans, LA",
          "New York City, NY",
          "Nome, AK",
          "Norfolk/Richmond, VA",
          "North Platte, NE",
          "Oklahoma City, OK",
          "Omaha, NE",
          "Paducah, KY",
          "Pendleton, OR",
          "Philadelphia, PA",
          "Phoenix, AZ",
          "Pittsburgh, PA",
          "Pocatello/Idaho Falls, ID",
          "Portland, ME",
          "Portland, OR",
          "Pueblo, CO",
          "Raleigh/Durham, NC",
          "Rapid City, SD",
          "Reno, NV",
          "Riverton, WY",
          "Roanoke, VA",
          "Robins AFB, GA",
          "Sacramento, CA",
          "Saint Louis, MO",
          "Salt Lake City, UT",
          "San Angelo, TX",
          "San Diego, CA",
          "San Francisco, CA",
          "San Joaquin Valley, CA",
          "San Juan, PR",
          "Santa Ana Mountains, CA",
          "Seattle/Tacoma, WA",
          "Shreveport, LA",
          "Sioux Falls, SD",
          "Sitka, AK",
          "South Kauai, HI",
          "South Shore, HI",
          "Spokane, WA",
          "Springfield, MO",
          "State College, PA",
          "Sterling, VA",
          "Tallahassee, FL",
          "Tampa, FL",
          "Topeka, KS",
          "Tucson, AZ",
          "Tulsa, OK",
          "Vance AFB, OK",
          "Vandenberg AFB, CA",
          "Wichita, KS",
          "Wilmington, NC",
          "Yuma, AZ"
         ],
         "lat": [
          45.45583333333334,
          42.58638888888889,
          35.14972222222222,
          34.36222222222222,
          35.233333333333334,
          60.725833333333334,
          13.452499999999999,
          33.36361111111111,
          29.703888888888887,
          39.49611111111111,
          60.79194444444444,
          45.85388888888889,
          42.19972222222222,
          33.17222222222222,
          46.770833333333336,
          43.49055555555556,
          41.95583333333334,
          25.91611111111111,
          42.94888888888889,
          44.51111111111111,
          36.95583333333334,
          34.63527777777778,
          37.590833333333336,
          32.65555555555555,
          38.31111111111111,
          41.151944444444446,
          41.60472222222222,
          39.42027777777778,
          41.41305555555555,
          33.948611111111106,
          33.89666666666667,
          27.784166666666668,
          32.573055555555555,
          41.611666666666665,
          39.78666666666666,
          41.73111111111111,
          42.69972222222222,
          37.76083333333333,
          38.82555555555556,
          46.83694444444445,
          32.538333333333334,
          35.09777777777778,
          30.564444444444444,
          31.873055555555556,
          40.73972222222222,
          40.498333333333335,
          65.035,
          34.574444444444445,
          36.736666666666665,
          30.721944444444443,
          31.155555555555555,
          31.460555555555555,
          35.29055555555556,
          41.35888888888889,
          44.907222222222224,
          48.20638888888889,
          39.36694444444444,
          47.52777777777778,
          39.06222222222222,
          42.89388888888889,
          47.459722222222226,
          44.498333333333335,
          34.88333333333333,
          43.467777777777776,
          40.32083333333334,
          33.07638888888889,
          46.03916666666667,
          29.471944444444443,
          34.93055555555555,
          39.7075,
          37.590833333333336,
          32.31777777777778,
          30.484722222222224,
          26.301944444444445,
          20.125555555555557,
          38.81027777777778,
          24.5975,
          58.67944444444444,
          36.16861111111111,
          35.924166666666665,
          43.82277777777778,
          38.73027777777778,
          30.12527777777778,
          35.70111111111111,
          29.272777777777776,
          40.150555555555556,
          34.83638888888889,
          34.41166666666666,
          37.97527777777778,
          33.65416666666667,
          46.53111111111111,
          32.53666666666666,
          42.08111111111111,
          28.113333333333333,
          35.344722222222224,
          25.611111111111114,
          59.46138888888889,
          31.943333333333335,
          42.967777777777776,
          44.848888888888894,
          48.3925,
          47.04111111111111,
          30.679444444444446,
          21.13277777777778,
          30.390277777777776,
          34.77611111111111,
          36.24722222222222,
          30.336666666666666,
          40.86555555555556,
          64.51138888888889,
          36.98388888888889,
          41.95777777777778,
          35.33305555555556,
          41.32027777777778,
          37.068333333333335,
          45.690555555555555,
          39.94694444444444,
          33.28916666666667,
          40.531666666666666,
          43.10583333333334,
          43.89138888888889,
          45.71472222222223,
          38.45944444444445,
          35.66555555555556,
          44.125,
          39.75416666666667,
          43.066111111111105,
          37.02444444444444,
          32.67527777777777,
          38.50111111111111,
          38.69888888888889,
          41.26277777777778,
          31.37138888888889,
          32.91888888888889,
          37.155277777777776,
          36.314166666666665,
          18.115555555555556,
          33.81777777777778,
          48.19444444444444,
          32.450833333333335,
          43.58777777777778,
          56.85277777777778,
          21.894166666666667,
          19.095,
          47.680277777777775,
          37.23527777777778,
          40.92305555555555,
          38.97527777777778,
          30.3975,
          27.705555555555556,
          38.996944444444445,
          31.89361111111111,
          36.175,
          36.740833333333335,
          34.838055555555556,
          37.65472222222222,
          33.989444444444445,
          32.49527777777778
         ],
         "legendgroup": "",
         "lon": [
          -98.41305555555556,
          -74.06388888888888,
          -106.82388888888889,
          -98.97638888888889,
          -101.70916666666668,
          -151.3513888888889,
          144.8113888888889,
          -84.56583333333333,
          -98.02833333333334,
          -121.63166666666666,
          -161.8763888888889,
          -108.60666666666665,
          -75.98472222222222,
          -86.76972222222223,
          -100.76055555555556,
          -116.23555555555555,
          -71.13694444444445,
          -97.41888888888889,
          -78.73666666666666,
          -73.16694444444445,
          127.02111111111111,
          -103.63,
          -112.86222222222221,
          -81.04222222222222,
          -81.72305555555556,
          -104.80611111111111,
          -88.08472222222221,
          -83.82166666666666,
          -81.85972222222222,
          -81.11833333333333,
          -88.32888888888888,
          -97.5111111111111,
          -97.30305555555556,
          -90.58083333333333,
          -104.54583333333333,
          -93.72277777777778,
          -83.47166666666666,
          -99.96888888888888,
          -75.43972222222223,
          -92.20972222222223,
          -99.25444444444445,
          -117.56083333333333,
          -85.9213888888889,
          -106.69805555555556,
          -116.80277777777778,
          -124.29194444444444,
          -147.50166666666667,
          -111.19777777777779,
          -87.285,
          -97.38305555555554,
          -92.97583333333334,
          -85.45944444444444,
          -94.36166666666666,
          -85.7,
          -84.71972222222223,
          -106.625,
          -101.70027777777779,
          -97.32555555555555,
          -108.21388888888889,
          -85.54472222222222,
          -111.38527777777779,
          -88.11138888888888,
          -82.22,
          -75.45777777777778,
          -98.44194444444445,
          -106.12277777777777,
          -67.80638888888889,
          -95.07916666666667,
          -86.08333333333333,
          -86.28027777777778,
          -83.31305555555555,
          -90.08,
          -81.70194444444445,
          127.90972222222223,
          -155.7777777777778,
          -94.26444444444445,
          -81.70305555555557,
          -156.62944444444446,
          -83.40166666666667,
          126.62222222222222,
          -91.19111111111111,
          -27.321666666666665,
          -93.21583333333334,
          -114.8913888888889,
          -100.28055555555555,
          -89.33694444444444,
          -92.26222222222222,
          -119.17944444444444,
          -85.94388888888889,
          -101.81416666666667,
          -87.54833333333333,
          -85.78972222222222,
          -122.71722222222222,
          -80.65416666666667,
          -89.87333333333332,
          -80.41277777777778,
          -146.30305555555557,
          -102.18916666666667,
          -88.55055555555555,
          -93.56555555555555,
          -100.865,
          -113.98611111111111,
          -88.23972222222223,
          -157.17999999999998,
          -83.00166666666667,
          -76.8761111111111,
          -86.5625,
          -89.82555555555555,
          -72.86388888888888,
          -165.295,
          -77.00722222222223,
          -100.57638888888889,
          -97.27777777777777,
          -96.36666666666666,
          -88.77194444444444,
          -118.85277777777777,
          -74.41083333333334,
          -111.67,
          -80.21805555555555,
          -112.68611111111112,
          -70.25638888888889,
          -122.96527777777779,
          -104.18138888888889,
          -78.48972222222223,
          -102.82972222222222,
          -119.46222222222222,
          -108.47722222222222,
          -80.27388888888889,
          -83.35111111111111,
          -121.67777777777778,
          -90.68277777777779,
          -112.44777777777779,
          -100.4925,
          -117.04194444444444,
          -121.89833333333334,
          -119.63222222222221,
          -66.07805555555555,
          -117.63583333333334,
          -122.49583333333334,
          -93.84138888888889,
          -96.72944444444444,
          -135.52916666666667,
          -159.55222222222224,
          -155.5688888888889,
          -117.62666666666667,
          -93.40055555555556,
          -78.00361111111111,
          -77.47777777777777,
          -84.32888888888888,
          -82.40166666666667,
          -96.2325,
          -110.63027777777778,
          -95.56472222222222,
          -98.12777777777777,
          -120.39694444444446,
          -97.44277777777778,
          -78.42888888888889,
          -114.65666666666667
         ],
         "marker": {
          "color": "fuchsia"
         },
         "mode": "markers",
         "name": "",
         "showlegend": false,
         "subplot": "mapbox",
         "type": "scattermapbox"
        }
       ],
       "layout": {
        "autosize": true,
        "legend": {
         "tracegroupgap": 0
        },
        "mapbox": {
         "bearing": 0,
         "center": {
          "lat": 37.95460970464135,
          "lon": -93.1277900843882
         },
         "domain": {
          "x": [
           0,
           1
          ],
          "y": [
           0,
           1
          ]
         },
         "pitch": 0,
         "style": "open-street-map",
         "zoom": 3
        },
        "margin": {
         "b": 0,
         "l": 0,
         "r": 0,
         "t": 0
        },
        "template": {
         "data": {
          "bar": [
           {
            "error_x": {
             "color": "#2a3f5f"
            },
            "error_y": {
             "color": "#2a3f5f"
            },
            "marker": {
             "line": {
              "color": "#E5ECF6",
              "width": 0.5
             },
             "pattern": {
              "fillmode": "overlay",
              "size": 10,
              "solidity": 0.2
             }
            },
            "type": "bar"
           }
          ],
          "barpolar": [
           {
            "marker": {
             "line": {
              "color": "#E5ECF6",
              "width": 0.5
             },
             "pattern": {
              "fillmode": "overlay",
              "size": 10,
              "solidity": 0.2
             }
            },
            "type": "barpolar"
           }
          ],
          "carpet": [
           {
            "aaxis": {
             "endlinecolor": "#2a3f5f",
             "gridcolor": "white",
             "linecolor": "white",
             "minorgridcolor": "white",
             "startlinecolor": "#2a3f5f"
            },
            "baxis": {
             "endlinecolor": "#2a3f5f",
             "gridcolor": "white",
             "linecolor": "white",
             "minorgridcolor": "white",
             "startlinecolor": "#2a3f5f"
            },
            "type": "carpet"
           }
          ],
          "choropleth": [
           {
            "colorbar": {
             "outlinewidth": 0,
             "ticks": ""
            },
            "type": "choropleth"
           }
          ],
          "contour": [
           {
            "colorbar": {
             "outlinewidth": 0,
             "ticks": ""
            },
            "colorscale": [
             [
              0,
              "#0d0887"
             ],
             [
              0.1111111111111111,
              "#46039f"
             ],
             [
              0.2222222222222222,
              "#7201a8"
             ],
             [
              0.3333333333333333,
              "#9c179e"
             ],
             [
              0.4444444444444444,
              "#bd3786"
             ],
             [
              0.5555555555555556,
              "#d8576b"
             ],
             [
              0.6666666666666666,
              "#ed7953"
             ],
             [
              0.7777777777777778,
              "#fb9f3a"
             ],
             [
              0.8888888888888888,
              "#fdca26"
             ],
             [
              1,
              "#f0f921"
             ]
            ],
            "type": "contour"
           }
          ],
          "contourcarpet": [
           {
            "colorbar": {
             "outlinewidth": 0,
             "ticks": ""
            },
            "type": "contourcarpet"
           }
          ],
          "heatmap": [
           {
            "colorbar": {
             "outlinewidth": 0,
             "ticks": ""
            },
            "colorscale": [
             [
              0,
              "#0d0887"
             ],
             [
              0.1111111111111111,
              "#46039f"
             ],
             [
              0.2222222222222222,
              "#7201a8"
             ],
             [
              0.3333333333333333,
              "#9c179e"
             ],
             [
              0.4444444444444444,
              "#bd3786"
             ],
             [
              0.5555555555555556,
              "#d8576b"
             ],
             [
              0.6666666666666666,
              "#ed7953"
             ],
             [
              0.7777777777777778,
              "#fb9f3a"
             ],
             [
              0.8888888888888888,
              "#fdca26"
             ],
             [
              1,
              "#f0f921"
             ]
            ],
            "type": "heatmap"
           }
          ],
          "heatmapgl": [
           {
            "colorbar": {
             "outlinewidth": 0,
             "ticks": ""
            },
            "colorscale": [
             [
              0,
              "#0d0887"
             ],
             [
              0.1111111111111111,
              "#46039f"
             ],
             [
              0.2222222222222222,
              "#7201a8"
             ],
             [
              0.3333333333333333,
              "#9c179e"
             ],
             [
              0.4444444444444444,
              "#bd3786"
             ],
             [
              0.5555555555555556,
              "#d8576b"
             ],
             [
              0.6666666666666666,
              "#ed7953"
             ],
             [
              0.7777777777777778,
              "#fb9f3a"
             ],
             [
              0.8888888888888888,
              "#fdca26"
             ],
             [
              1,
              "#f0f921"
             ]
            ],
            "type": "heatmapgl"
           }
          ],
          "histogram": [
           {
            "marker": {
             "pattern": {
              "fillmode": "overlay",
              "size": 10,
              "solidity": 0.2
             }
            },
            "type": "histogram"
           }
          ],
          "histogram2d": [
           {
            "colorbar": {
             "outlinewidth": 0,
             "ticks": ""
            },
            "colorscale": [
             [
              0,
              "#0d0887"
             ],
             [
              0.1111111111111111,
              "#46039f"
             ],
             [
              0.2222222222222222,
              "#7201a8"
             ],
             [
              0.3333333333333333,
              "#9c179e"
             ],
             [
              0.4444444444444444,
              "#bd3786"
             ],
             [
              0.5555555555555556,
              "#d8576b"
             ],
             [
              0.6666666666666666,
              "#ed7953"
             ],
             [
              0.7777777777777778,
              "#fb9f3a"
             ],
             [
              0.8888888888888888,
              "#fdca26"
             ],
             [
              1,
              "#f0f921"
             ]
            ],
            "type": "histogram2d"
           }
          ],
          "histogram2dcontour": [
           {
            "colorbar": {
             "outlinewidth": 0,
             "ticks": ""
            },
            "colorscale": [
             [
              0,
              "#0d0887"
             ],
             [
              0.1111111111111111,
              "#46039f"
             ],
             [
              0.2222222222222222,
              "#7201a8"
             ],
             [
              0.3333333333333333,
              "#9c179e"
             ],
             [
              0.4444444444444444,
              "#bd3786"
             ],
             [
              0.5555555555555556,
              "#d8576b"
             ],
             [
              0.6666666666666666,
              "#ed7953"
             ],
             [
              0.7777777777777778,
              "#fb9f3a"
             ],
             [
              0.8888888888888888,
              "#fdca26"
             ],
             [
              1,
              "#f0f921"
             ]
            ],
            "type": "histogram2dcontour"
           }
          ],
          "mesh3d": [
           {
            "colorbar": {
             "outlinewidth": 0,
             "ticks": ""
            },
            "type": "mesh3d"
           }
          ],
          "parcoords": [
           {
            "line": {
             "colorbar": {
              "outlinewidth": 0,
              "ticks": ""
             }
            },
            "type": "parcoords"
           }
          ],
          "pie": [
           {
            "automargin": true,
            "type": "pie"
           }
          ],
          "scatter": [
           {
            "fillpattern": {
             "fillmode": "overlay",
             "size": 10,
             "solidity": 0.2
            },
            "type": "scatter"
           }
          ],
          "scatter3d": [
           {
            "line": {
             "colorbar": {
              "outlinewidth": 0,
              "ticks": ""
             }
            },
            "marker": {
             "colorbar": {
              "outlinewidth": 0,
              "ticks": ""
             }
            },
            "type": "scatter3d"
           }
          ],
          "scattercarpet": [
           {
            "marker": {
             "colorbar": {
              "outlinewidth": 0,
              "ticks": ""
             }
            },
            "type": "scattercarpet"
           }
          ],
          "scattergeo": [
           {
            "marker": {
             "colorbar": {
              "outlinewidth": 0,
              "ticks": ""
             }
            },
            "type": "scattergeo"
           }
          ],
          "scattergl": [
           {
            "marker": {
             "colorbar": {
              "outlinewidth": 0,
              "ticks": ""
             }
            },
            "type": "scattergl"
           }
          ],
          "scattermapbox": [
           {
            "marker": {
             "colorbar": {
              "outlinewidth": 0,
              "ticks": ""
             }
            },
            "type": "scattermapbox"
           }
          ],
          "scatterpolar": [
           {
            "marker": {
             "colorbar": {
              "outlinewidth": 0,
              "ticks": ""
             }
            },
            "type": "scatterpolar"
           }
          ],
          "scatterpolargl": [
           {
            "marker": {
             "colorbar": {
              "outlinewidth": 0,
              "ticks": ""
             }
            },
            "type": "scatterpolargl"
           }
          ],
          "scatterternary": [
           {
            "marker": {
             "colorbar": {
              "outlinewidth": 0,
              "ticks": ""
             }
            },
            "type": "scatterternary"
           }
          ],
          "surface": [
           {
            "colorbar": {
             "outlinewidth": 0,
             "ticks": ""
            },
            "colorscale": [
             [
              0,
              "#0d0887"
             ],
             [
              0.1111111111111111,
              "#46039f"
             ],
             [
              0.2222222222222222,
              "#7201a8"
             ],
             [
              0.3333333333333333,
              "#9c179e"
             ],
             [
              0.4444444444444444,
              "#bd3786"
             ],
             [
              0.5555555555555556,
              "#d8576b"
             ],
             [
              0.6666666666666666,
              "#ed7953"
             ],
             [
              0.7777777777777778,
              "#fb9f3a"
             ],
             [
              0.8888888888888888,
              "#fdca26"
             ],
             [
              1,
              "#f0f921"
             ]
            ],
            "type": "surface"
           }
          ],
          "table": [
           {
            "cells": {
             "fill": {
              "color": "#EBF0F8"
             },
             "line": {
              "color": "white"
             }
            },
            "header": {
             "fill": {
              "color": "#C8D4E3"
             },
             "line": {
              "color": "white"
             }
            },
            "type": "table"
           }
          ]
         },
         "layout": {
          "annotationdefaults": {
           "arrowcolor": "#2a3f5f",
           "arrowhead": 0,
           "arrowwidth": 1
          },
          "autotypenumbers": "strict",
          "coloraxis": {
           "colorbar": {
            "outlinewidth": 0,
            "ticks": ""
           }
          },
          "colorscale": {
           "diverging": [
            [
             0,
             "#8e0152"
            ],
            [
             0.1,
             "#c51b7d"
            ],
            [
             0.2,
             "#de77ae"
            ],
            [
             0.3,
             "#f1b6da"
            ],
            [
             0.4,
             "#fde0ef"
            ],
            [
             0.5,
             "#f7f7f7"
            ],
            [
             0.6,
             "#e6f5d0"
            ],
            [
             0.7,
             "#b8e186"
            ],
            [
             0.8,
             "#7fbc41"
            ],
            [
             0.9,
             "#4d9221"
            ],
            [
             1,
             "#276419"
            ]
           ],
           "sequential": [
            [
             0,
             "#0d0887"
            ],
            [
             0.1111111111111111,
             "#46039f"
            ],
            [
             0.2222222222222222,
             "#7201a8"
            ],
            [
             0.3333333333333333,
             "#9c179e"
            ],
            [
             0.4444444444444444,
             "#bd3786"
            ],
            [
             0.5555555555555556,
             "#d8576b"
            ],
            [
             0.6666666666666666,
             "#ed7953"
            ],
            [
             0.7777777777777778,
             "#fb9f3a"
            ],
            [
             0.8888888888888888,
             "#fdca26"
            ],
            [
             1,
             "#f0f921"
            ]
           ],
           "sequentialminus": [
            [
             0,
             "#0d0887"
            ],
            [
             0.1111111111111111,
             "#46039f"
            ],
            [
             0.2222222222222222,
             "#7201a8"
            ],
            [
             0.3333333333333333,
             "#9c179e"
            ],
            [
             0.4444444444444444,
             "#bd3786"
            ],
            [
             0.5555555555555556,
             "#d8576b"
            ],
            [
             0.6666666666666666,
             "#ed7953"
            ],
            [
             0.7777777777777778,
             "#fb9f3a"
            ],
            [
             0.8888888888888888,
             "#fdca26"
            ],
            [
             1,
             "#f0f921"
            ]
           ]
          },
          "colorway": [
           "#636efa",
           "#EF553B",
           "#00cc96",
           "#ab63fa",
           "#FFA15A",
           "#19d3f3",
           "#FF6692",
           "#B6E880",
           "#FF97FF",
           "#FECB52"
          ],
          "font": {
           "color": "#2a3f5f"
          },
          "geo": {
           "bgcolor": "white",
           "lakecolor": "white",
           "landcolor": "#E5ECF6",
           "showlakes": true,
           "showland": true,
           "subunitcolor": "white"
          },
          "hoverlabel": {
           "align": "left"
          },
          "hovermode": "closest",
          "mapbox": {
           "style": "light"
          },
          "paper_bgcolor": "white",
          "plot_bgcolor": "#E5ECF6",
          "polar": {
           "angularaxis": {
            "gridcolor": "white",
            "linecolor": "white",
            "ticks": ""
           },
           "bgcolor": "#E5ECF6",
           "radialaxis": {
            "gridcolor": "white",
            "linecolor": "white",
            "ticks": ""
           }
          },
          "scene": {
           "xaxis": {
            "backgroundcolor": "#E5ECF6",
            "gridcolor": "white",
            "gridwidth": 2,
            "linecolor": "white",
            "showbackground": true,
            "ticks": "",
            "zerolinecolor": "white"
           },
           "yaxis": {
            "backgroundcolor": "#E5ECF6",
            "gridcolor": "white",
            "gridwidth": 2,
            "linecolor": "white",
            "showbackground": true,
            "ticks": "",
            "zerolinecolor": "white"
           },
           "zaxis": {
            "backgroundcolor": "#E5ECF6",
            "gridcolor": "white",
            "gridwidth": 2,
            "linecolor": "white",
            "showbackground": true,
            "ticks": "",
            "zerolinecolor": "white"
           }
          },
          "shapedefaults": {
           "line": {
            "color": "#2a3f5f"
           }
          },
          "ternary": {
           "aaxis": {
            "gridcolor": "white",
            "linecolor": "white",
            "ticks": ""
           },
           "baxis": {
            "gridcolor": "white",
            "linecolor": "white",
            "ticks": ""
           },
           "bgcolor": "#E5ECF6",
           "caxis": {
            "gridcolor": "white",
            "linecolor": "white",
            "ticks": ""
           }
          },
          "title": {
           "x": 0.05
          },
          "xaxis": {
           "automargin": true,
           "gridcolor": "white",
           "linecolor": "white",
           "ticks": "",
           "title": {
            "standoff": 15
           },
           "zerolinecolor": "white",
           "zerolinewidth": 2
          },
          "yaxis": {
           "automargin": true,
           "gridcolor": "white",
           "linecolor": "white",
           "ticks": "",
           "title": {
            "standoff": 15
           },
           "zerolinecolor": "white",
           "zerolinewidth": 2
          }
         }
        }
       }
      },
      "image/png": "[encoded data removed]",
      "text/html": [
       "<div>                            <div id=\"a54d08d9-d810-4eb4-b4a3-f710cd0c7210\" class=\"plotly-graph-div\" style=\"height:300px; width:100%;\"></div>            <script type=\"text/javascript\">                require([\"plotly\"], function(Plotly) {                    window.PLOTLYENV=window.PLOTLYENV || {};                                    if (document.getElementById(\"a54d08d9-d810-4eb4-b4a3-f710cd0c7210\")) {                    Plotly.newPlot(                        \"a54d08d9-d810-4eb4-b4a3-f710cd0c7210\",                        [{\"customdata\":[[\"KABR\",\"Aberdeen, SD\"],[\"KENX\",\"Albany, NY\"],[\"KABX\",\"Albuquerque, NM\"],[\"KFDR\",\"Altus AFB, OK\"],[\"KAMA\",\"Amarillo, TX\"],[\"PAHG\",\"Anchorage, AK\"],[\"PGUA\",\"Anderson AFB, GU\"],[\"KFFC\",\"Atlanta, GA\"],[\"KEWX\",\"Austin/San Antonio, TX\"],[\"KBBX\",\"Beale AFB, CA\"],[\"PABC\",\"Bethel, AK\"],[\"KBLX\",\"Billings, MT\"],[\"KBGM\",\"Binghamton, NY\"],[\"KBMX\",\"Birmingham, AL\"],[\"KBIS\",\"Bismarck, ND\"],[\"KCBX\",\"Boise, ID\"],[\"KBOX\",\"Boston, MA\"],[\"KBRO\",\"Brownsville, TX\"],[\"KBUF\",\"Buffalo, NY\"],[\"KCXX\",\"Burlington, VT\"],[\"RKSG\",\"Camp Humphreys, Korea\"],[\"KFDX\",\"Cannon AFB, NM\"],[\"KICX\",\"Cedar City, UT\"],[\"KCLX\",\"Charleston, SC\"],[\"KRLX\",\"Charleston, WV\"],[\"KCYS\",\"Cheyenne, WY\"],[\"KLOT\",\"Chicago, IL\"],[\"KILN\",\"Cincinnati, OH\"],[\"KCLE\",\"Cleveland, OH\"],[\"KCAE\",\"Columbia, SC\"],[\"KGWX\",\"Columbus AFB, MS\"],[\"KCRP\",\"Corpus Christi, TX\"],[\"KFWS\",\"Dallas/Ft. Worth, TX\"],[\"KDVN\",\"Davenport, IA\"],[\"KFTG\",\"Denver, CO\"],[\"KDMX\",\"Des Moines, IA\"],[\"KDTX\",\"Detroit, MI\"],[\"KDDC\",\"Dodge City, KS\"],[\"KDOX\",\"Dover AFB, DE\"],[\"KDLH\",\"Duluth, MN\"],[\"KDYX\",\"Dyess AFB, TX\"],[\"KEYX\",\"Edwards AFB, CA\"],[\"KEVX\",\"Eglin AFB, FL\"],[\"KEPZ\",\"El Paso, TX\"],[\"KLRX\",\"Elko, NV\"],[\"KBHX\",\"Eureka, CA\"],[\"PAPD\",\"Fairbanks, AK\"],[\"KFSX\",\"Flagstaff, AZ\"],[\"KHPX\",\"Fort Campbell, KY\"],[\"KGRK\",\"Fort Hood, TX\"],[\"KPOE\",\"Fort Polk, LA\"],[\"KEOX\",\"Fort Rucker, AL\"],[\"KSRX\",\"Fort Smith, AR\"],[\"KIWX\",\"Fort Wayne, IN\"],[\"KAPX\",\"Gaylord, MI\"],[\"KGGW\",\"Glasgow, MT\"],[\"KGLD\",\"Goodland, KS\"],[\"KMVX\",\"Grand Forks, ND\"],[\"KGJX\",\"Grand Junction, Co\"],[\"KGRR\",\"Grand Rapids, MI\"],[\"KTFX\",\"Great Falls, MT\"],[\"KGRB\",\"Green Bay, WI\"],[\"KGSP\",\"Greer, SC\"],[\"KRMX\",\"Griffiss AFB, NY\"],[\"KUEX\",\"Hastings, NE\"],[\"KHDX\",\"Holloman AFB, NM\"],[\"KCBW\",\"Houlton, ME\"],[\"KHGX\",\"Houston/Galveston, TX\"],[\"KHTX\",\"Huntsville, AL\"],[\"KIND\",\"Indianapolis, IN\"],[\"KJKL\",\"Jackson, KY\"],[\"KJAN\",\"Jackson, MS\"],[\"KJAX\",\"Jacksonville, FL\"],[\"RODN\",\"Kadena, Okinawa\"],[\"PHKN\",\"Kamuela, HI\"],[\"KEAX\",\"Kansas City, MO\"],[\"KBYX\",\"Key West, FL\"],[\"PAKC\",\"King Salmon, AK\"],[\"KMRX\",\"Knoxville/Tri-Cities, TN\"],[\"RKJK\",\"Kunsan AB, Korea\"],[\"KARX\",\"La Crosse, WI\"],[\"LPLA\",\"Lajes AB, Azores\"],[\"KLCH\",\"Lake Charles, LA\"],[\"KESX\",\"Las Vegas, NV\"],[\"KDFX\",\"Laughlin AFB, TX\"],[\"KILX\",\"Lincoln, IL\"],[\"KLZK\",\"Little Rock, AR\"],[\"KVTX\",\"Los Angeles, CA\"],[\"KLVX\",\"Louisville, KY\"],[\"KLBB\",\"Lubbock, TX\"],[\"KMQT\",\"Marquette, MI\"],[\"KMXX\",\"Maxwell AFB, AL\"],[\"KMAX\",\"Medford, OR\"],[\"KMLB\",\"Melbourne, FL\"],[\"KNQA\",\"Memphis, TN\"],[\"KAMX\",\"Miami, FL\"],[\"PAIH\",\"Middleton Island, AK\"],[\"KMAF\",\"Midland/Odessa, TX\"],[\"KMKX\",\"Milwaukee, WI\"],[\"KMPX\",\"Minneapolis/St. Paul, MN\"],[\"KMBX\",\"Minot AFB, ND\"],[\"KMSX\",\"Missoula, MT\"],[\"KMOB\",\"Mobile, AL\"],[\"PHMO\",\"Molokai, HI\"],[\"KVAX\",\"Moody AFB, GA\"],[\"KMHX\",\"Morehead City, NC\"],[\"KOHX\",\"Nashville, TN\"],[\"KLIX\",\"New Orleans, LA\"],[\"KOKX\",\"New York City, NY\"],[\"PAEC\",\"Nome, AK\"],[\"KAKQ\",\"Norfolk/Richmond, VA\"],[\"KLNX\",\"North Platte, NE\"],[\"KTLX\",\"Oklahoma City, OK\"],[\"KOAX\",\"Omaha, NE\"],[\"KPAH\",\"Paducah, KY\"],[\"KPDT\",\"Pendleton, OR\"],[\"KDIX\",\"Philadelphia, PA\"],[\"KIWA\",\"Phoenix, AZ\"],[\"KPBZ\",\"Pittsburgh, PA\"],[\"KSFX\",\"Pocatello/Idaho Falls, ID\"],[\"KGYX\",\"Portland, ME\"],[\"KRTX\",\"Portland, OR\"],[\"KPUX\",\"Pueblo, CO\"],[\"KRAX\",\"Raleigh/Durham, NC\"],[\"KUDX\",\"Rapid City, SD\"],[\"KRGX\",\"Reno, NV\"],[\"KRIW\",\"Riverton, WY\"],[\"KFCX\",\"Roanoke, VA\"],[\"KJGX\",\"Robins AFB, GA\"],[\"KDAX\",\"Sacramento, CA\"],[\"KLSX\",\"Saint Louis, MO\"],[\"KMTX\",\"Salt Lake City, UT\"],[\"KSJT\",\"San Angelo, TX\"],[\"KNKX\",\"San Diego, CA\"],[\"KMUX\",\"San Francisco, CA\"],[\"KHNX\",\"San Joaquin Valley, CA\"],[\"TJUA\",\"San Juan, PR\"],[\"KSOX\",\"Santa Ana Mountains, CA\"],[\"KATX\",\"Seattle/Tacoma, WA\"],[\"KSHV\",\"Shreveport, LA\"],[\"KFSD\",\"Sioux Falls, SD\"],[\"PACG\",\"Sitka, AK\"],[\"PHKI\",\"South Kauai, HI\"],[\"PHWA\",\"South Shore, HI\"],[\"KOTX\",\"Spokane, WA\"],[\"KSGF\",\"Springfield, MO\"],[\"KCCX\",\"State College, PA\"],[\"KLWX\",\"Sterling, VA\"],[\"KTLH\",\"Tallahassee, FL\"],[\"KTBW\",\"Tampa, FL\"],[\"KTWX\",\"Topeka, KS\"],[\"KEMX\",\"Tucson, AZ\"],[\"KINX\",\"Tulsa, OK\"],[\"KVNX\",\"Vance AFB, OK\"],[\"KVBX\",\"Vandenberg AFB, CA\"],[\"KICT\",\"Wichita, KS\"],[\"KLTX\",\"Wilmington, NC\"],[\"KYUX\",\"Yuma, AZ\"]],\"hovertemplate\":\"<b>%{hovertext}</b><br><br>lat=%{lat}<br>lon=%{lon}<br>STATION_ID=%{customdata[0]}<br>STATION_NAME=%{customdata[1]}<extra></extra>\",\"hovertext\":[\"Aberdeen, SD\",\"Albany, NY\",\"Albuquerque, NM\",\"Altus AFB, OK\",\"Amarillo, TX\",\"Anchorage, AK\",\"Anderson AFB, GU\",\"Atlanta, GA\",\"Austin/San Antonio, TX\",\"Beale AFB, CA\",\"Bethel, AK\",\"Billings, MT\",\"Binghamton, NY\",\"Birmingham, AL\",\"Bismarck, ND\",\"Boise, ID\",\"Boston, MA\",\"Brownsville, TX\",\"Buffalo, NY\",\"Burlington, VT\",\"Camp Humphreys, Korea\",\"Cannon AFB, NM\",\"Cedar City, UT\",\"Charleston, SC\",\"Charleston, WV\",\"Cheyenne, WY\",\"Chicago, IL\",\"Cincinnati, OH\",\"Cleveland, OH\",\"Columbia, SC\",\"Columbus AFB, MS\",\"Corpus Christi, TX\",\"Dallas/Ft. Worth, TX\",\"Davenport, IA\",\"Denver, CO\",\"Des Moines, IA\",\"Detroit, MI\",\"Dodge City, KS\",\"Dover AFB, DE\",\"Duluth, MN\",\"Dyess AFB, TX\",\"Edwards AFB, CA\",\"Eglin AFB, FL\",\"El Paso, TX\",\"Elko, NV\",\"Eureka, CA\",\"Fairbanks, AK\",\"Flagstaff, AZ\",\"Fort Campbell, KY\",\"Fort Hood, TX\",\"Fort Polk, LA\",\"Fort Rucker, AL\",\"Fort Smith, AR\",\"Fort Wayne, IN\",\"Gaylord, MI\",\"Glasgow, MT\",\"Goodland, KS\",\"Grand Forks, ND\",\"Grand Junction, Co\",\"Grand Rapids, MI\",\"Great Falls, MT\",\"Green Bay, WI\",\"Greer, SC\",\"Griffiss AFB, NY\",\"Hastings, NE\",\"Holloman AFB, NM\",\"Houlton, ME\",\"Houston/Galveston, TX\",\"Huntsville, AL\",\"Indianapolis, IN\",\"Jackson, KY\",\"Jackson, MS\",\"Jacksonville, FL\",\"Kadena, Okinawa\",\"Kamuela, HI\",\"Kansas City, MO\",\"Key West, FL\",\"King Salmon, AK\",\"Knoxville/Tri-Cities, TN\",\"Kunsan AB, Korea\",\"La Crosse, WI\",\"Lajes AB, Azores\",\"Lake Charles, LA\",\"Las Vegas, NV\",\"Laughlin AFB, TX\",\"Lincoln, IL\",\"Little Rock, AR\",\"Los Angeles, CA\",\"Louisville, KY\",\"Lubbock, TX\",\"Marquette, MI\",\"Maxwell AFB, AL\",\"Medford, OR\",\"Melbourne, FL\",\"Memphis, TN\",\"Miami, FL\",\"Middleton Island, AK\",\"Midland/Odessa, TX\",\"Milwaukee, WI\",\"Minneapolis/St. Paul, MN\",\"Minot AFB, ND\",\"Missoula, MT\",\"Mobile, AL\",\"Molokai, HI\",\"Moody AFB, GA\",\"Morehead City, NC\",\"Nashville, TN\",\"New Orleans, LA\",\"New York City, NY\",\"Nome, AK\",\"Norfolk/Richmond, VA\",\"North Platte, NE\",\"Oklahoma City, OK\",\"Omaha, NE\",\"Paducah, KY\",\"Pendleton, OR\",\"Philadelphia, PA\",\"Phoenix, AZ\",\"Pittsburgh, PA\",\"Pocatello/Idaho Falls, ID\",\"Portland, ME\",\"Portland, OR\",\"Pueblo, CO\",\"Raleigh/Durham, NC\",\"Rapid City, SD\",\"Reno, NV\",\"Riverton, WY\",\"Roanoke, VA\",\"Robins AFB, GA\",\"Sacramento, CA\",\"Saint Louis, MO\",\"Salt Lake City, UT\",\"San Angelo, TX\",\"San Diego, CA\",\"San Francisco, CA\",\"San Joaquin Valley, CA\",\"San Juan, PR\",\"Santa Ana Mountains, CA\",\"Seattle/Tacoma, WA\",\"Shreveport, LA\",\"Sioux Falls, SD\",\"Sitka, AK\",\"South Kauai, HI\",\"South Shore, HI\",\"Spokane, WA\",\"Springfield, MO\",\"State College, PA\",\"Sterling, VA\",\"Tallahassee, FL\",\"Tampa, FL\",\"Topeka, KS\",\"Tucson, AZ\",\"Tulsa, OK\",\"Vance AFB, OK\",\"Vandenberg AFB, CA\",\"Wichita, KS\",\"Wilmington, NC\",\"Yuma, AZ\"],\"lat\":[45.45583333333334,42.58638888888889,35.14972222222222,34.36222222222222,35.233333333333334,60.725833333333334,13.452499999999999,33.36361111111111,29.703888888888887,39.49611111111111,60.79194444444444,45.85388888888889,42.19972222222222,33.17222222222222,46.770833333333336,43.49055555555556,41.95583333333334,25.91611111111111,42.94888888888889,44.51111111111111,36.95583333333334,34.63527777777778,37.590833333333336,32.65555555555555,38.31111111111111,41.151944444444446,41.60472222222222,39.42027777777778,41.41305555555555,33.948611111111106,33.89666666666667,27.784166666666668,32.573055555555555,41.611666666666665,39.78666666666666,41.73111111111111,42.69972222222222,37.76083333333333,38.82555555555556,46.83694444444445,32.538333333333334,35.09777777777778,30.564444444444444,31.873055555555556,40.73972222222222,40.498333333333335,65.035,34.574444444444445,36.736666666666665,30.721944444444443,31.155555555555555,31.460555555555555,35.29055555555556,41.35888888888889,44.907222222222224,48.20638888888889,39.36694444444444,47.52777777777778,39.06222222222222,42.89388888888889,47.459722222222226,44.498333333333335,34.88333333333333,43.467777777777776,40.32083333333334,33.07638888888889,46.03916666666667,29.471944444444443,34.93055555555555,39.7075,37.590833333333336,32.31777777777778,30.484722222222224,26.301944444444445,20.125555555555557,38.81027777777778,24.5975,58.67944444444444,36.16861111111111,35.924166666666665,43.82277777777778,38.73027777777778,30.12527777777778,35.70111111111111,29.272777777777776,40.150555555555556,34.83638888888889,34.41166666666666,37.97527777777778,33.65416666666667,46.53111111111111,32.53666666666666,42.08111111111111,28.113333333333333,35.344722222222224,25.611111111111114,59.46138888888889,31.943333333333335,42.967777777777776,44.848888888888894,48.3925,47.04111111111111,30.679444444444446,21.13277777777778,30.390277777777776,34.77611111111111,36.24722222222222,30.336666666666666,40.86555555555556,64.51138888888889,36.98388888888889,41.95777777777778,35.33305555555556,41.32027777777778,37.068333333333335,45.690555555555555,39.94694444444444,33.28916666666667,40.531666666666666,43.10583333333334,43.89138888888889,45.71472222222223,38.45944444444445,35.66555555555556,44.125,39.75416666666667,43.066111111111105,37.02444444444444,32.67527777777777,38.50111111111111,38.69888888888889,41.26277777777778,31.37138888888889,32.91888888888889,37.155277777777776,36.314166666666665,18.115555555555556,33.81777777777778,48.19444444444444,32.450833333333335,43.58777777777778,56.85277777777778,21.894166666666667,19.095,47.680277777777775,37.23527777777778,40.92305555555555,38.97527777777778,30.3975,27.705555555555556,38.996944444444445,31.89361111111111,36.175,36.740833333333335,34.838055555555556,37.65472222222222,33.989444444444445,32.49527777777778],\"legendgroup\":\"\",\"lon\":[-98.41305555555556,-74.06388888888888,-106.82388888888889,-98.97638888888889,-101.70916666666668,-151.3513888888889,144.8113888888889,-84.56583333333333,-98.02833333333334,-121.63166666666666,-161.8763888888889,-108.60666666666665,-75.98472222222222,-86.76972222222223,-100.76055555555556,-116.23555555555555,-71.13694444444445,-97.41888888888889,-78.73666666666666,-73.16694444444445,127.02111111111111,-103.63,-112.86222222222221,-81.04222222222222,-81.72305555555556,-104.80611111111111,-88.08472222222221,-83.82166666666666,-81.85972222222222,-81.11833333333333,-88.32888888888888,-97.5111111111111,-97.30305555555556,-90.58083333333333,-104.54583333333333,-93.72277777777778,-83.47166666666666,-99.96888888888888,-75.43972222222223,-92.20972222222223,-99.25444444444445,-117.56083333333333,-85.9213888888889,-106.69805555555556,-116.80277777777778,-124.29194444444444,-147.50166666666667,-111.19777777777779,-87.285,-97.38305555555554,-92.97583333333334,-85.45944444444444,-94.36166666666666,-85.7,-84.71972222222223,-106.625,-101.70027777777779,-97.32555555555555,-108.21388888888889,-85.54472222222222,-111.38527777777779,-88.11138888888888,-82.22,-75.45777777777778,-98.44194444444445,-106.12277777777777,-67.80638888888889,-95.07916666666667,-86.08333333333333,-86.28027777777778,-83.31305555555555,-90.08,-81.70194444444445,127.90972222222223,-155.7777777777778,-94.26444444444445,-81.70305555555557,-156.62944444444446,-83.40166666666667,126.62222222222222,-91.19111111111111,-27.321666666666665,-93.21583333333334,-114.8913888888889,-100.28055555555555,-89.33694444444444,-92.26222222222222,-119.17944444444444,-85.94388888888889,-101.81416666666667,-87.54833333333333,-85.78972222222222,-122.71722222222222,-80.65416666666667,-89.87333333333332,-80.41277777777778,-146.30305555555557,-102.18916666666667,-88.55055555555555,-93.56555555555555,-100.865,-113.98611111111111,-88.23972222222223,-157.17999999999998,-83.00166666666667,-76.8761111111111,-86.5625,-89.82555555555555,-72.86388888888888,-165.295,-77.00722222222223,-100.57638888888889,-97.27777777777777,-96.36666666666666,-88.77194444444444,-118.85277777777777,-74.41083333333334,-111.67,-80.21805555555555,-112.68611111111112,-70.25638888888889,-122.96527777777779,-104.18138888888889,-78.48972222222223,-102.82972222222222,-119.46222222222222,-108.47722222222222,-80.27388888888889,-83.35111111111111,-121.67777777777778,-90.68277777777779,-112.44777777777779,-100.4925,-117.04194444444444,-121.89833333333334,-119.63222222222221,-66.07805555555555,-117.63583333333334,-122.49583333333334,-93.84138888888889,-96.72944444444444,-135.52916666666667,-159.55222222222224,-155.5688888888889,-117.62666666666667,-93.40055555555556,-78.00361111111111,-77.47777777777777,-84.32888888888888,-82.40166666666667,-96.2325,-110.63027777777778,-95.56472222222222,-98.12777777777777,-120.39694444444446,-97.44277777777778,-78.42888888888889,-114.65666666666667],\"marker\":{\"color\":\"fuchsia\"},\"mode\":\"markers\",\"name\":\"\",\"showlegend\":false,\"subplot\":\"mapbox\",\"type\":\"scattermapbox\"}],                        {\"template\":{\"data\":{\"histogram2dcontour\":[{\"type\":\"histogram2dcontour\",\"colorbar\":{\"outlinewidth\":0,\"ticks\":\"\"},\"colorscale\":[[0.0,\"#0d0887\"],[0.1111111111111111,\"#46039f\"],[0.2222222222222222,\"#7201a8\"],[0.3333333333333333,\"#9c179e\"],[0.4444444444444444,\"#bd3786\"],[0.5555555555555556,\"#d8576b\"],[0.6666666666666666,\"#ed7953\"],[0.7777777777777778,\"#fb9f3a\"],[0.8888888888888888,\"#fdca26\"],[1.0,\"#f0f921\"]]}],\"choropleth\":[{\"type\":\"choropleth\",\"colorbar\":{\"outlinewidth\":0,\"ticks\":\"\"}}],\"histogram2d\":[{\"type\":\"histogram2d\",\"colorbar\":{\"outlinewidth\":0,\"ticks\":\"\"},\"colorscale\":[[0.0,\"#0d0887\"],[0.1111111111111111,\"#46039f\"],[0.2222222222222222,\"#7201a8\"],[0.3333333333333333,\"#9c179e\"],[0.4444444444444444,\"#bd3786\"],[0.5555555555555556,\"#d8576b\"],[0.6666666666666666,\"#ed7953\"],[0.7777777777777778,\"#fb9f3a\"],[0.8888888888888888,\"#fdca26\"],[1.0,\"#f0f921\"]]}],\"heatmap\":[{\"type\":\"heatmap\",\"colorbar\":{\"outlinewidth\":0,\"ticks\":\"\"},\"colorscale\":[[0.0,\"#0d0887\"],[0.1111111111111111,\"#46039f\"],[0.2222222222222222,\"#7201a8\"],[0.3333333333333333,\"#9c179e\"],[0.4444444444444444,\"#bd3786\"],[0.5555555555555556,\"#d8576b\"],[0.6666666666666666,\"#ed7953\"],[0.7777777777777778,\"#fb9f3a\"],[0.8888888888888888,\"#fdca26\"],[1.0,\"#f0f921\"]]}],\"heatmapgl\":[{\"type\":\"heatmapgl\",\"colorbar\":{\"outlinewidth\":0,\"ticks\":\"\"},\"colorscale\":[[0.0,\"#0d0887\"],[0.1111111111111111,\"#46039f\"],[0.2222222222222222,\"#7201a8\"],[0.3333333333333333,\"#9c179e\"],[0.4444444444444444,\"#bd3786\"],[0.5555555555555556,\"#d8576b\"],[0.6666666666666666,\"#ed7953\"],[0.7777777777777778,\"#fb9f3a\"],[0.8888888888888888,\"#fdca26\"],[1.0,\"#f0f921\"]]}],\"contourcarpet\":[{\"type\":\"contourcarpet\",\"colorbar\":{\"outlinewidth\":0,\"ticks\":\"\"}}],\"contour\":[{\"type\":\"contour\",\"colorbar\":{\"outlinewidth\":0,\"ticks\":\"\"},\"colorscale\":[[0.0,\"#0d0887\"],[0.1111111111111111,\"#46039f\"],[0.2222222222222222,\"#7201a8\"],[0.3333333333333333,\"#9c179e\"],[0.4444444444444444,\"#bd3786\"],[0.5555555555555556,\"#d8576b\"],[0.6666666666666666,\"#ed7953\"],[0.7777777777777778,\"#fb9f3a\"],[0.8888888888888888,\"#fdca26\"],[1.0,\"#f0f921\"]]}],\"surface\":[{\"type\":\"surface\",\"colorbar\":{\"outlinewidth\":0,\"ticks\":\"\"},\"colorscale\":[[0.0,\"#0d0887\"],[0.1111111111111111,\"#46039f\"],[0.2222222222222222,\"#7201a8\"],[0.3333333333333333,\"#9c179e\"],[0.4444444444444444,\"#bd3786\"],[0.5555555555555556,\"#d8576b\"],[0.6666666666666666,\"#ed7953\"],[0.7777777777777778,\"#fb9f3a\"],[0.8888888888888888,\"#fdca26\"],[1.0,\"#f0f921\"]]}],\"mesh3d\":[{\"type\":\"mesh3d\",\"colorbar\":{\"outlinewidth\":0,\"ticks\":\"\"}}],\"scatter\":[{\"fillpattern\":{\"fillmode\":\"overlay\",\"size\":10,\"solidity\":0.2},\"type\":\"scatter\"}],\"parcoords\":[{\"type\":\"parcoords\",\"line\":{\"colorbar\":{\"outlinewidth\":0,\"ticks\":\"\"}}}],\"scatterpolargl\":[{\"type\":\"scatterpolargl\",\"marker\":{\"colorbar\":{\"outlinewidth\":0,\"ticks\":\"\"}}}],\"bar\":[{\"error_x\":{\"color\":\"#2a3f5f\"},\"error_y\":{\"color\":\"#2a3f5f\"},\"marker\":{\"line\":{\"color\":\"#E5ECF6\",\"width\":0.5},\"pattern\":{\"fillmode\":\"overlay\",\"size\":10,\"solidity\":0.2}},\"type\":\"bar\"}],\"scattergeo\":[{\"type\":\"scattergeo\",\"marker\":{\"colorbar\":{\"outlinewidth\":0,\"ticks\":\"\"}}}],\"scatterpolar\":[{\"type\":\"scatterpolar\",\"marker\":{\"colorbar\":{\"outlinewidth\":0,\"ticks\":\"\"}}}],\"histogram\":[{\"marker\":{\"pattern\":{\"fillmode\":\"overlay\",\"size\":10,\"solidity\":0.2}},\"type\":\"histogram\"}],\"scattergl\":[{\"type\":\"scattergl\",\"marker\":{\"colorbar\":{\"outlinewidth\":0,\"ticks\":\"\"}}}],\"scatter3d\":[{\"type\":\"scatter3d\",\"line\":{\"colorbar\":{\"outlinewidth\":0,\"ticks\":\"\"}},\"marker\":{\"colorbar\":{\"outlinewidth\":0,\"ticks\":\"\"}}}],\"scattermapbox\":[{\"type\":\"scattermapbox\",\"marker\":{\"colorbar\":{\"outlinewidth\":0,\"ticks\":\"\"}}}],\"scatterternary\":[{\"type\":\"scatterternary\",\"marker\":{\"colorbar\":{\"outlinewidth\":0,\"ticks\":\"\"}}}],\"scattercarpet\":[{\"type\":\"scattercarpet\",\"marker\":{\"colorbar\":{\"outlinewidth\":0,\"ticks\":\"\"}}}],\"carpet\":[{\"aaxis\":{\"endlinecolor\":\"#2a3f5f\",\"gridcolor\":\"white\",\"linecolor\":\"white\",\"minorgridcolor\":\"white\",\"startlinecolor\":\"#2a3f5f\"},\"baxis\":{\"endlinecolor\":\"#2a3f5f\",\"gridcolor\":\"white\",\"linecolor\":\"white\",\"minorgridcolor\":\"white\",\"startlinecolor\":\"#2a3f5f\"},\"type\":\"carpet\"}],\"table\":[{\"cells\":{\"fill\":{\"color\":\"#EBF0F8\"},\"line\":{\"color\":\"white\"}},\"header\":{\"fill\":{\"color\":\"#C8D4E3\"},\"line\":{\"color\":\"white\"}},\"type\":\"table\"}],\"barpolar\":[{\"marker\":{\"line\":{\"color\":\"#E5ECF6\",\"width\":0.5},\"pattern\":{\"fillmode\":\"overlay\",\"size\":10,\"solidity\":0.2}},\"type\":\"barpolar\"}],\"pie\":[{\"automargin\":true,\"type\":\"pie\"}]},\"layout\":{\"autotypenumbers\":\"strict\",\"colorway\":[\"#636efa\",\"#EF553B\",\"#00cc96\",\"#ab63fa\",\"#FFA15A\",\"#19d3f3\",\"#FF6692\",\"#B6E880\",\"#FF97FF\",\"#FECB52\"],\"font\":{\"color\":\"#2a3f5f\"},\"hovermode\":\"closest\",\"hoverlabel\":{\"align\":\"left\"},\"paper_bgcolor\":\"white\",\"plot_bgcolor\":\"#E5ECF6\",\"polar\":{\"bgcolor\":\"#E5ECF6\",\"angularaxis\":{\"gridcolor\":\"white\",\"linecolor\":\"white\",\"ticks\":\"\"},\"radialaxis\":{\"gridcolor\":\"white\",\"linecolor\":\"white\",\"ticks\":\"\"}},\"ternary\":{\"bgcolor\":\"#E5ECF6\",\"aaxis\":{\"gridcolor\":\"white\",\"linecolor\":\"white\",\"ticks\":\"\"},\"baxis\":{\"gridcolor\":\"white\",\"linecolor\":\"white\",\"ticks\":\"\"},\"caxis\":{\"gridcolor\":\"white\",\"linecolor\":\"white\",\"ticks\":\"\"}},\"coloraxis\":{\"colorbar\":{\"outlinewidth\":0,\"ticks\":\"\"}},\"colorscale\":{\"sequential\":[[0.0,\"#0d0887\"],[0.1111111111111111,\"#46039f\"],[0.2222222222222222,\"#7201a8\"],[0.3333333333333333,\"#9c179e\"],[0.4444444444444444,\"#bd3786\"],[0.5555555555555556,\"#d8576b\"],[0.6666666666666666,\"#ed7953\"],[0.7777777777777778,\"#fb9f3a\"],[0.8888888888888888,\"#fdca26\"],[1.0,\"#f0f921\"]],\"sequentialminus\":[[0.0,\"#0d0887\"],[0.1111111111111111,\"#46039f\"],[0.2222222222222222,\"#7201a8\"],[0.3333333333333333,\"#9c179e\"],[0.4444444444444444,\"#bd3786\"],[0.5555555555555556,\"#d8576b\"],[0.6666666666666666,\"#ed7953\"],[0.7777777777777778,\"#fb9f3a\"],[0.8888888888888888,\"#fdca26\"],[1.0,\"#f0f921\"]],\"diverging\":[[0,\"#8e0152\"],[0.1,\"#c51b7d\"],[0.2,\"#de77ae\"],[0.3,\"#f1b6da\"],[0.4,\"#fde0ef\"],[0.5,\"#f7f7f7\"],[0.6,\"#e6f5d0\"],[0.7,\"#b8e186\"],[0.8,\"#7fbc41\"],[0.9,\"#4d9221\"],[1,\"#276419\"]]},\"xaxis\":{\"gridcolor\":\"white\",\"linecolor\":\"white\",\"ticks\":\"\",\"title\":{\"standoff\":15},\"zerolinecolor\":\"white\",\"automargin\":true,\"zerolinewidth\":2},\"yaxis\":{\"gridcolor\":\"white\",\"linecolor\":\"white\",\"ticks\":\"\",\"title\":{\"standoff\":15},\"zerolinecolor\":\"white\",\"automargin\":true,\"zerolinewidth\":2},\"scene\":{\"xaxis\":{\"backgroundcolor\":\"#E5ECF6\",\"gridcolor\":\"white\",\"linecolor\":\"white\",\"showbackground\":true,\"ticks\":\"\",\"zerolinecolor\":\"white\",\"gridwidth\":2},\"yaxis\":{\"backgroundcolor\":\"#E5ECF6\",\"gridcolor\":\"white\",\"linecolor\":\"white\",\"showbackground\":true,\"ticks\":\"\",\"zerolinecolor\":\"white\",\"gridwidth\":2},\"zaxis\":{\"backgroundcolor\":\"#E5ECF6\",\"gridcolor\":\"white\",\"linecolor\":\"white\",\"showbackground\":true,\"ticks\":\"\",\"zerolinecolor\":\"white\",\"gridwidth\":2}},\"shapedefaults\":{\"line\":{\"color\":\"#2a3f5f\"}},\"annotationdefaults\":{\"arrowcolor\":\"#2a3f5f\",\"arrowhead\":0,\"arrowwidth\":1},\"geo\":{\"bgcolor\":\"white\",\"landcolor\":\"#E5ECF6\",\"subunitcolor\":\"white\",\"showland\":true,\"showlakes\":true,\"lakecolor\":\"white\"},\"title\":{\"x\":0.05},\"mapbox\":{\"style\":\"light\"}}},\"mapbox\":{\"domain\":{\"x\":[0.0,1.0],\"y\":[0.0,1.0]},\"center\":{\"lat\":37.95460970464135,\"lon\":-93.1277900843882},\"zoom\":3,\"style\":\"open-street-map\"},\"legend\":{\"tracegroupgap\":0},\"margin\":{\"t\":0,\"r\":0,\"l\":0,\"b\":0},\"height\":300},                        {\"responsive\": true}                    ).then(function(){\n",
       "                            \n",
       "var gd = document.getElementById('a54d08d9-d810-4eb4-b4a3-f710cd0c7210');\n",
       "var x = new MutationObserver(function (mutations, observer) {{\n",
       "        var display = window.getComputedStyle(gd).display;\n",
       "        if (!display || display === 'none') {{\n",
       "            console.log([gd, 'removed!']);\n",
       "            Plotly.purge(gd);\n",
       "            observer.disconnect();\n",
       "        }}\n",
       "}});\n",
       "\n",
       "// Listen for the removal of the full notebook cells\n",
       "var notebookContainer = gd.closest('#notebook-container');\n",
       "if (notebookContainer) {{\n",
       "    x.observe(notebookContainer, {childList: true});\n",
       "}}\n",
       "\n",
       "// Listen for the clearing of the current output cell\n",
       "var outputEl = gd.closest('.output');\n",
       "if (outputEl) {{\n",
       "    x.observe(outputEl, {childList: true});\n",
       "}}\n",
       "\n",
       "                        })                };                });            </script>        </div>"
      ]
     },
     "metadata": {},
     "output_type": "display_data"
    }
   ],
   "source": [
    "fig = px.scatter_mapbox(wr, lat=\"lat\", lon=\"lon\", \n",
    "                        hover_name=\"STATION_NAME\", \n",
    "                        hover_data=[\"STATION_ID\", \"STATION_NAME\"],\n",
    "                        color_discrete_sequence=[\"fuchsia\"], \n",
    "                        zoom=3, \n",
    "                        height=300)\n",
    "fig.update_layout(mapbox_style=\"open-street-map\")\n",
    "fig.update_layout(margin={\"r\":0,\"t\":0,\"l\":0,\"b\":0})\n",
    "fig.show()"
   ]
  }
 ],
 "metadata": {
  "kernelspec": {
   "display_name": "Python 3 (ipykernel)",
   "language": "python",
   "name": "python3"
  },
  "language_info": {
   "codemirror_mode": {
    "name": "ipython",
    "version": 3
   },
   "file_extension": ".py",
   "mimetype": "text/x-python",
   "name": "python",
   "nbconvert_exporter": "python",
   "pygments_lexer": "ipython3",
   "version": "3.11.2"
  }
 },
 "nbformat": 4,
 "nbformat_minor": 5
}
