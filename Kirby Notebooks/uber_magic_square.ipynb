{
 "cells": [
  {
   "cell_type": "markdown",
   "id": "bba67ee9-baf8-457c-aff1-cc5460ed5b02",
   "metadata": {},
   "source": [
    "* <a href=\"https://colab.research.google.com/github/4dsolutions/clarusway_data_analysis/blob/main/Kirby%20Notebooks/uber_magic_square.ipynb\"><img align=\"left\" src=\"https://colab.research.google.com/assets/colab-badge.svg\" alt=\"Open in Colab\" title=\"Open and Execute in Google Colaboratory\"></a><br/>\n",
    "* <a href=\"https://nbviewer.org/github/4dsolutions/clarusway_data_analysis/blob/main/Kirby%20Notebooks/uber_magic_square.ipynb\"><img align=\"left\" src=\"https://raw.githubusercontent.com/jupyter/design/master/logos/Badges/nbviewer_badge.svg\" alt=\"Open in nbviewer\" title=\"Open and View using nbviewer\"></a>\n",
    "\n",
    "\n",
    "Landing Pages:\n",
    "* [Data Visualization](../DVwPY_S1/daily_schedule.ipynb)\n",
    "* [Data Analysis with Python](../DAwPy_S1_%28Numpy_Arrays%29/daily_schedule.ipynb)\n",
    "* [Basic Python](../basic_python/landing_page.ipynb)"
   ]
  },
  {
   "cell_type": "markdown",
   "id": "e58cfb93-c92d-4515-8687-c61699408c22",
   "metadata": {},
   "source": [
    "# A Trimagic Square\n",
    "\n",
    "You've likely heard of a magic square. A square of positive integers that add up to the same sum along all rows, all columns, and both diagonals.\n",
    "\n",
    "A bimagic square is a magic square that continues to work if all the numbers in the original are raised the the 2nd power.\n",
    "\n",
    "A trimagic square works with all original numbers raised to both the 2nd and 3rd power.\n",
    "\n",
    "Some magic squares might work only for an nth power only.  No one has found a 3 x 3 magic square of 2nd powers.\n",
    "\n",
    "Below we look at a magic square developed by Gaston Tarry (Villefranche de Rouergue 1843 - Le Havre 1913) of 128 by 128 numbers that is trimagic.  \n",
    "\n",
    "Here's [a web page about it](http://www.multimagie.com/English/Trimagic128.htm)."
   ]
  },
  {
   "cell_type": "markdown",
   "id": "b224a814-b0ae-458b-8d88-3e830ef5f7b3",
   "metadata": {},
   "source": [
    "What is the strict definition of a Magic Square?  \n",
    "\n",
    "Let's [ask a chatbot](https://www.perplexity.ai/search/what-is-the-strict-definition-RxVsxCZxRc2GT_r3SlHuOA):\n",
    "\n",
    "A magic square is a square array of numbers, typically positive integers, with the following properties:\n",
    "\n",
    "1. It contains n^2 distinct numbers arranged in an n×n grid[3][4].\n",
    "2. The sum of the numbers in each row, each column, and both main diagonals is the same[1][3].\n",
    "3. This constant sum is called the \"magic constant\" or \"magic sum\"[2][3].\n",
    "\n",
    "For a \"normal\" magic square, the numbers used are the consecutive integers from 1 to n^2[3]. The magic constant M for a normal magic square of order n is given by the formula:\n",
    "\n",
    "$$M = \\frac{n(n^2 + 1)}{2}$$[2]\n",
    "\n",
    "It's important to note that some definitions may vary slightly, but these core properties are consistently recognized across mathematical literature.\n",
    "\n",
    "Citations:\n",
    "1.  https://www.youtube.com/watch?v=guij50IbCyY\n",
    "2.  https://byjus.com/maths/magic-square/\n",
    "3.  https://en.wikipedia.org/wiki/Magic_squares\n",
    "4.  https://web.mae.ufl.edu/uhk/MAGIC-SQUARE.pdf\n",
    "5.  https://testbook.com/maths/magic-square\n",
    "6.  https://www.proquest.com/docview/231164727\n",
    "7.  https://proofwiki.org/wiki/Definition:Magic_Square"
   ]
  },
  {
   "cell_type": "code",
   "execution_count": 1,
   "id": "16f524a0-5cce-48bb-9174-73a169438099",
   "metadata": {},
   "outputs": [],
   "source": [
    "from IPython.display import YouTubeVideo"
   ]
  },
  {
   "cell_type": "markdown",
   "id": "467ffacb-ccb1-4489-80c5-dacb9fa05ba0",
   "metadata": {},
   "source": [
    "...and a Numberphile video that catches us up on the state of the art more generally."
   ]
  },
  {
   "cell_type": "code",
   "execution_count": 2,
   "id": "4cd3016e-eb70-40f2-b7cd-9b06a77aa0e6",
   "metadata": {},
   "outputs": [
    {
     "data": {
      "image/jpeg": "[encoded data removed]",
      "text/html": [
       "\n",
       "        <iframe\n",
       "            width=\"400\"\n",
       "            height=\"300\"\n",
       "            src=\"https://www.youtube.com/embed/stpiBy6gWOA\"\n",
       "            frameborder=\"0\"\n",
       "            allowfullscreen\n",
       "            \n",
       "        ></iframe>\n",
       "        "
      ],
      "text/plain": [
       "<IPython.lib.display.YouTubeVideo at 0x10f729f90>"
      ]
     },
     "execution_count": 2,
     "metadata": {},
     "output_type": "execute_result"
    }
   ],
   "source": [
    "YouTubeVideo(\"stpiBy6gWOA\")"
   ]
  },
  {
   "cell_type": "markdown",
   "id": "938d7134-aae6-4877-9c1c-7e1cebe703a6",
   "metadata": {},
   "source": [
    "Now lets use pandas to verify that Gaston Tarry's solution is everything it purports to be.  We know the audit, done correctly, should confirm his result, so this is mainly an exercise in learning pandas and numpy."
   ]
  },
  {
   "cell_type": "code",
   "execution_count": 3,
   "id": "48fcf939-f6fc-4329-a09c-b7340cc237b4",
   "metadata": {},
   "outputs": [
    {
     "data": {
      "text/plain": [
       "'3.11.3 | packaged by conda-forge | (main, Apr  6 2023, 09:05:00) [Clang 14.0.6 ]'"
      ]
     },
     "execution_count": 3,
     "metadata": {},
     "output_type": "execute_result"
    }
   ],
   "source": [
    "import sys\n",
    "sys.version"
   ]
  },
  {
   "cell_type": "code",
   "execution_count": 4,
   "id": "08267989-f0b3-46ce-af03-8f694ea94b28",
   "metadata": {},
   "outputs": [],
   "source": [
    "import pandas as pd\n",
    "import numpy as np"
   ]
  },
  {
   "cell_type": "markdown",
   "id": "1a091188-4006-46b3-82ea-3f3dfa6cca39",
   "metadata": {},
   "source": [
    "The zip file from the above web page contains all three magic squares. I copy pasted the first one to a separate Google sheet, after uploading the uncompressed xls file. I saved it in CSV format as tarry_magic.csv for reading in."
   ]
  },
  {
   "cell_type": "code",
   "execution_count": 5,
   "id": "9995bdc8-4e6f-4ec7-b486-dbbbf9ad4ffd",
   "metadata": {},
   "outputs": [],
   "source": [
    "df = pd.read_csv(\"tarry_magic.csv\", header=None)"
   ]
  },
  {
   "cell_type": "code",
   "execution_count": 6,
   "id": "e5165076-5c0b-47c5-be51-abe86b979c77",
   "metadata": {},
   "outputs": [
    {
     "data": {
      "text/html": [
       "<div>\n",
       "<style scoped>\n",
       "    .dataframe tbody tr th:only-of-type {\n",
       "        vertical-align: middle;\n",
       "    }\n",
       "\n",
       "    .dataframe tbody tr th {\n",
       "        vertical-align: top;\n",
       "    }\n",
       "\n",
       "    .dataframe thead th {\n",
       "        text-align: right;\n",
       "    }\n",
       "</style>\n",
       "<table border=\"1\" class=\"dataframe\">\n",
       "  <thead>\n",
       "    <tr style=\"text-align: right;\">\n",
       "      <th></th>\n",
       "      <th>0</th>\n",
       "      <th>1</th>\n",
       "      <th>2</th>\n",
       "      <th>3</th>\n",
       "      <th>4</th>\n",
       "      <th>5</th>\n",
       "      <th>6</th>\n",
       "      <th>7</th>\n",
       "      <th>8</th>\n",
       "      <th>9</th>\n",
       "      <th>...</th>\n",
       "      <th>118</th>\n",
       "      <th>119</th>\n",
       "      <th>120</th>\n",
       "      <th>121</th>\n",
       "      <th>122</th>\n",
       "      <th>123</th>\n",
       "      <th>124</th>\n",
       "      <th>125</th>\n",
       "      <th>126</th>\n",
       "      <th>127</th>\n",
       "    </tr>\n",
       "  </thead>\n",
       "  <tbody>\n",
       "    <tr>\n",
       "      <th>0</th>\n",
       "      <td>16132</td>\n",
       "      <td>130</td>\n",
       "      <td>16381</td>\n",
       "      <td>127</td>\n",
       "      <td>16128</td>\n",
       "      <td>382</td>\n",
       "      <td>15873</td>\n",
       "      <td>387</td>\n",
       "      <td>13632</td>\n",
       "      <td>2750</td>\n",
       "      <td>...</td>\n",
       "      <td>5648</td>\n",
       "      <td>10638</td>\n",
       "      <td>4401</td>\n",
       "      <td>11955</td>\n",
       "      <td>4560</td>\n",
       "      <td>11854</td>\n",
       "      <td>4301</td>\n",
       "      <td>12111</td>\n",
       "      <td>4148</td>\n",
       "      <td>12210</td>\n",
       "    </tr>\n",
       "    <tr>\n",
       "      <th>1</th>\n",
       "      <td>128</td>\n",
       "      <td>16382</td>\n",
       "      <td>129</td>\n",
       "      <td>16131</td>\n",
       "      <td>388</td>\n",
       "      <td>15874</td>\n",
       "      <td>381</td>\n",
       "      <td>16127</td>\n",
       "      <td>2628</td>\n",
       "      <td>13762</td>\n",
       "      <td>...</td>\n",
       "      <td>10612</td>\n",
       "      <td>5874</td>\n",
       "      <td>11853</td>\n",
       "      <td>4559</td>\n",
       "      <td>11956</td>\n",
       "      <td>4402</td>\n",
       "      <td>12209</td>\n",
       "      <td>4147</td>\n",
       "      <td>12112</td>\n",
       "      <td>4302</td>\n",
       "    </tr>\n",
       "    <tr>\n",
       "      <th>2</th>\n",
       "      <td>16002</td>\n",
       "      <td>260</td>\n",
       "      <td>15999</td>\n",
       "      <td>509</td>\n",
       "      <td>16254</td>\n",
       "      <td>256</td>\n",
       "      <td>16259</td>\n",
       "      <td>1</td>\n",
       "      <td>13502</td>\n",
       "      <td>2880</td>\n",
       "      <td>...</td>\n",
       "      <td>6030</td>\n",
       "      <td>10256</td>\n",
       "      <td>4275</td>\n",
       "      <td>12081</td>\n",
       "      <td>4174</td>\n",
       "      <td>12240</td>\n",
       "      <td>4431</td>\n",
       "      <td>11981</td>\n",
       "      <td>4530</td>\n",
       "      <td>11828</td>\n",
       "    </tr>\n",
       "    <tr>\n",
       "      <th>3</th>\n",
       "      <td>510</td>\n",
       "      <td>16000</td>\n",
       "      <td>259</td>\n",
       "      <td>16001</td>\n",
       "      <td>2</td>\n",
       "      <td>16260</td>\n",
       "      <td>255</td>\n",
       "      <td>16253</td>\n",
       "      <td>3010</td>\n",
       "      <td>13380</td>\n",
       "      <td>...</td>\n",
       "      <td>10482</td>\n",
       "      <td>6004</td>\n",
       "      <td>12239</td>\n",
       "      <td>4173</td>\n",
       "      <td>12082</td>\n",
       "      <td>4276</td>\n",
       "      <td>11827</td>\n",
       "      <td>4529</td>\n",
       "      <td>11982</td>\n",
       "      <td>4432</td>\n",
       "    </tr>\n",
       "    <tr>\n",
       "      <th>4</th>\n",
       "      <td>257</td>\n",
       "      <td>16003</td>\n",
       "      <td>512</td>\n",
       "      <td>15998</td>\n",
       "      <td>253</td>\n",
       "      <td>16255</td>\n",
       "      <td>4</td>\n",
       "      <td>16258</td>\n",
       "      <td>2877</td>\n",
       "      <td>13503</td>\n",
       "      <td>...</td>\n",
       "      <td>10253</td>\n",
       "      <td>6031</td>\n",
       "      <td>12084</td>\n",
       "      <td>4274</td>\n",
       "      <td>12237</td>\n",
       "      <td>4175</td>\n",
       "      <td>11984</td>\n",
       "      <td>4430</td>\n",
       "      <td>11825</td>\n",
       "      <td>4531</td>\n",
       "    </tr>\n",
       "    <tr>\n",
       "      <th>...</th>\n",
       "      <td>...</td>\n",
       "      <td>...</td>\n",
       "      <td>...</td>\n",
       "      <td>...</td>\n",
       "      <td>...</td>\n",
       "      <td>...</td>\n",
       "      <td>...</td>\n",
       "      <td>...</td>\n",
       "      <td>...</td>\n",
       "      <td>...</td>\n",
       "      <td>...</td>\n",
       "      <td>...</td>\n",
       "      <td>...</td>\n",
       "      <td>...</td>\n",
       "      <td>...</td>\n",
       "      <td>...</td>\n",
       "      <td>...</td>\n",
       "      <td>...</td>\n",
       "      <td>...</td>\n",
       "      <td>...</td>\n",
       "      <td>...</td>\n",
       "    </tr>\n",
       "    <tr>\n",
       "      <th>123</th>\n",
       "      <td>4642</td>\n",
       "      <td>11684</td>\n",
       "      <td>4831</td>\n",
       "      <td>11613</td>\n",
       "      <td>5086</td>\n",
       "      <td>11360</td>\n",
       "      <td>4899</td>\n",
       "      <td>11425</td>\n",
       "      <td>1566</td>\n",
       "      <td>14752</td>\n",
       "      <td>...</td>\n",
       "      <td>15110</td>\n",
       "      <td>1160</td>\n",
       "      <td>8763</td>\n",
       "      <td>7609</td>\n",
       "      <td>8902</td>\n",
       "      <td>7496</td>\n",
       "      <td>9159</td>\n",
       "      <td>7237</td>\n",
       "      <td>9018</td>\n",
       "      <td>7356</td>\n",
       "    </tr>\n",
       "    <tr>\n",
       "      <th>124</th>\n",
       "      <td>4829</td>\n",
       "      <td>11615</td>\n",
       "      <td>4644</td>\n",
       "      <td>11682</td>\n",
       "      <td>4897</td>\n",
       "      <td>11427</td>\n",
       "      <td>5088</td>\n",
       "      <td>11358</td>\n",
       "      <td>1761</td>\n",
       "      <td>14691</td>\n",
       "      <td>...</td>\n",
       "      <td>15353</td>\n",
       "      <td>1147</td>\n",
       "      <td>8904</td>\n",
       "      <td>7494</td>\n",
       "      <td>8761</td>\n",
       "      <td>7611</td>\n",
       "      <td>9020</td>\n",
       "      <td>7354</td>\n",
       "      <td>9157</td>\n",
       "      <td>7239</td>\n",
       "    </tr>\n",
       "    <tr>\n",
       "      <th>125</th>\n",
       "      <td>11681</td>\n",
       "      <td>4643</td>\n",
       "      <td>11616</td>\n",
       "      <td>4830</td>\n",
       "      <td>11357</td>\n",
       "      <td>5087</td>\n",
       "      <td>11428</td>\n",
       "      <td>4898</td>\n",
       "      <td>14749</td>\n",
       "      <td>1567</td>\n",
       "      <td>...</td>\n",
       "      <td>1157</td>\n",
       "      <td>15111</td>\n",
       "      <td>7612</td>\n",
       "      <td>8762</td>\n",
       "      <td>7493</td>\n",
       "      <td>8903</td>\n",
       "      <td>7240</td>\n",
       "      <td>9158</td>\n",
       "      <td>7353</td>\n",
       "      <td>9019</td>\n",
       "    </tr>\n",
       "    <tr>\n",
       "      <th>126</th>\n",
       "      <td>4959</td>\n",
       "      <td>11485</td>\n",
       "      <td>5026</td>\n",
       "      <td>11300</td>\n",
       "      <td>4771</td>\n",
       "      <td>11553</td>\n",
       "      <td>4702</td>\n",
       "      <td>11744</td>\n",
       "      <td>1891</td>\n",
       "      <td>14561</td>\n",
       "      <td>...</td>\n",
       "      <td>14971</td>\n",
       "      <td>1529</td>\n",
       "      <td>9030</td>\n",
       "      <td>7368</td>\n",
       "      <td>9147</td>\n",
       "      <td>7225</td>\n",
       "      <td>8890</td>\n",
       "      <td>7484</td>\n",
       "      <td>8775</td>\n",
       "      <td>7621</td>\n",
       "    </tr>\n",
       "    <tr>\n",
       "      <th>127</th>\n",
       "      <td>11299</td>\n",
       "      <td>5025</td>\n",
       "      <td>11486</td>\n",
       "      <td>4960</td>\n",
       "      <td>11743</td>\n",
       "      <td>4701</td>\n",
       "      <td>11554</td>\n",
       "      <td>4772</td>\n",
       "      <td>14367</td>\n",
       "      <td>1949</td>\n",
       "      <td>...</td>\n",
       "      <td>1287</td>\n",
       "      <td>14981</td>\n",
       "      <td>7226</td>\n",
       "      <td>9148</td>\n",
       "      <td>7367</td>\n",
       "      <td>9029</td>\n",
       "      <td>7622</td>\n",
       "      <td>8776</td>\n",
       "      <td>7483</td>\n",
       "      <td>8889</td>\n",
       "    </tr>\n",
       "  </tbody>\n",
       "</table>\n",
       "<p>128 rows × 128 columns</p>\n",
       "</div>"
      ],
      "text/plain": [
       "       0      1      2      3      4      5      6      7      8      9    \\\n",
       "0    16132    130  16381    127  16128    382  15873    387  13632   2750   \n",
       "1      128  16382    129  16131    388  15874    381  16127   2628  13762   \n",
       "2    16002    260  15999    509  16254    256  16259      1  13502   2880   \n",
       "3      510  16000    259  16001      2  16260    255  16253   3010  13380   \n",
       "4      257  16003    512  15998    253  16255      4  16258   2877  13503   \n",
       "..     ...    ...    ...    ...    ...    ...    ...    ...    ...    ...   \n",
       "123   4642  11684   4831  11613   5086  11360   4899  11425   1566  14752   \n",
       "124   4829  11615   4644  11682   4897  11427   5088  11358   1761  14691   \n",
       "125  11681   4643  11616   4830  11357   5087  11428   4898  14749   1567   \n",
       "126   4959  11485   5026  11300   4771  11553   4702  11744   1891  14561   \n",
       "127  11299   5025  11486   4960  11743   4701  11554   4772  14367   1949   \n",
       "\n",
       "     ...    118    119    120    121    122    123    124    125    126    127  \n",
       "0    ...   5648  10638   4401  11955   4560  11854   4301  12111   4148  12210  \n",
       "1    ...  10612   5874  11853   4559  11956   4402  12209   4147  12112   4302  \n",
       "2    ...   6030  10256   4275  12081   4174  12240   4431  11981   4530  11828  \n",
       "3    ...  10482   6004  12239   4173  12082   4276  11827   4529  11982   4432  \n",
       "4    ...  10253   6031  12084   4274  12237   4175  11984   4430  11825   4531  \n",
       "..   ...    ...    ...    ...    ...    ...    ...    ...    ...    ...    ...  \n",
       "123  ...  15110   1160   8763   7609   8902   7496   9159   7237   9018   7356  \n",
       "124  ...  15353   1147   8904   7494   8761   7611   9020   7354   9157   7239  \n",
       "125  ...   1157  15111   7612   8762   7493   8903   7240   9158   7353   9019  \n",
       "126  ...  14971   1529   9030   7368   9147   7225   8890   7484   8775   7621  \n",
       "127  ...   1287  14981   7226   9148   7367   9029   7622   8776   7483   8889  \n",
       "\n",
       "[128 rows x 128 columns]"
      ]
     },
     "execution_count": 6,
     "metadata": {},
     "output_type": "execute_result"
    }
   ],
   "source": [
    "df"
   ]
  },
  {
   "cell_type": "code",
   "execution_count": 7,
   "id": "3ab79148-4498-4396-8f52-8c0aaa0f6e97",
   "metadata": {},
   "outputs": [
    {
     "data": {
      "text/plain": [
       "0      1048640\n",
       "1      1048640\n",
       "2      1048640\n",
       "3      1048640\n",
       "4      1048640\n",
       "        ...   \n",
       "123    1048640\n",
       "124    1048640\n",
       "125    1048640\n",
       "126    1048640\n",
       "127    1048640\n",
       "Length: 128, dtype: int64"
      ]
     },
     "execution_count": 7,
     "metadata": {},
     "output_type": "execute_result"
    }
   ],
   "source": [
    "df.sum(axis=0)"
   ]
  },
  {
   "cell_type": "code",
   "execution_count": 8,
   "id": "25eff8bf-e923-4c4a-b7b3-cffde3a73cdb",
   "metadata": {},
   "outputs": [
    {
     "data": {
      "text/plain": [
       "1048640"
      ]
     },
     "execution_count": 8,
     "metadata": {},
     "output_type": "execute_result"
    }
   ],
   "source": [
    "128 * (128 ** 2 + 1) // 2"
   ]
  },
  {
   "cell_type": "code",
   "execution_count": 9,
   "id": "ae7512cd-82df-4c67-8e40-516c97b8cbd0",
   "metadata": {},
   "outputs": [
    {
     "data": {
      "text/plain": [
       "True"
      ]
     },
     "execution_count": 9,
     "metadata": {},
     "output_type": "execute_result"
    }
   ],
   "source": [
    "len(df.agg('unique')) == 128 * 128"
   ]
  },
  {
   "cell_type": "code",
   "execution_count": 10,
   "id": "4e0ce0d8-5ed6-446f-8a10-560f16203d9e",
   "metadata": {},
   "outputs": [
    {
     "data": {
      "text/plain": [
       "128"
      ]
     },
     "execution_count": 10,
     "metadata": {},
     "output_type": "execute_result"
    }
   ],
   "source": [
    "(df.sum(axis=1) == 1048640).count()"
   ]
  },
  {
   "cell_type": "markdown",
   "id": "54a3669d-d848-48c6-9046-3629275a6d80",
   "metadata": {},
   "source": [
    "I asked Gemini in Google colab to write a demo program whereby it extracted both \n",
    "\n",
    "* top left to bottom right, and\n",
    "* bottom left to top right diagonals\n",
    "\n",
    "from a 10 x 10 pandas Dataframe. The first diagonal is easily available, whereas the second is a little tricky, which is why I asked for Gemini's help."
   ]
  },
  {
   "cell_type": "code",
   "execution_count": 11,
   "id": "6e5383a7-31f8-47d0-88cd-6fcadad7f44b",
   "metadata": {},
   "outputs": [
    {
     "data": {
      "text/plain": [
       "1048640"
      ]
     },
     "execution_count": 11,
     "metadata": {},
     "output_type": "execute_result"
    }
   ],
   "source": [
    "main_diagonal = np.diag(df)\n",
    "sum(main_diagonal)"
   ]
  },
  {
   "cell_type": "code",
   "execution_count": 12,
   "id": "3a4f8d67-b9e0-4da9-87a7-d0d9bbe1b978",
   "metadata": {},
   "outputs": [
    {
     "data": {
      "text/plain": [
       "1048640"
      ]
     },
     "execution_count": 12,
     "metadata": {},
     "output_type": "execute_result"
    }
   ],
   "source": [
    "anti_diagonal = np.diag(np.fliplr(df))  # thank you Gemini\n",
    "sum(anti_diagonal)"
   ]
  },
  {
   "cell_type": "markdown",
   "id": "45d9f9fe-d91f-4edb-b132-f140314e92c8",
   "metadata": {},
   "source": [
    "OK now it's time to 2nd and 3rd power the original magic square and audit the results."
   ]
  },
  {
   "cell_type": "code",
   "execution_count": 13,
   "id": "2c47d32b-85ed-4985-9497-d3dc6917c929",
   "metadata": {},
   "outputs": [],
   "source": [
    "df2 = df**2  # df2 is 2nd power square"
   ]
  },
  {
   "cell_type": "code",
   "execution_count": 14,
   "id": "38f41583-a6da-4972-bce0-234b07e9b906",
   "metadata": {},
   "outputs": [
    {
     "data": {
      "text/plain": [
       "0      11454294720\n",
       "1      11454294720\n",
       "2      11454294720\n",
       "3      11454294720\n",
       "4      11454294720\n",
       "          ...     \n",
       "123    11454294720\n",
       "124    11454294720\n",
       "125    11454294720\n",
       "126    11454294720\n",
       "127    11454294720\n",
       "Length: 128, dtype: int64"
      ]
     },
     "execution_count": 14,
     "metadata": {},
     "output_type": "execute_result"
    }
   ],
   "source": [
    "df2.sum(axis=0)"
   ]
  },
  {
   "cell_type": "code",
   "execution_count": 15,
   "id": "3a835663-2362-4516-b1dd-1e46a138a0e3",
   "metadata": {},
   "outputs": [
    {
     "name": "stdout",
     "output_type": "stream",
     "text": [
      "True True True True\n"
     ]
    }
   ],
   "source": [
    "print(\n",
    "    (df2.sum(axis=1) == 11454294720).count()==128,\n",
    "    (df2.sum(axis=1) == 11454294720).count()==128,\n",
    "    sum(np.diag(df2)) == 11454294720,\n",
    "    sum(np.diag(np.fliplr(df2))) == 11454294720)"
   ]
  },
  {
   "cell_type": "code",
   "execution_count": 16,
   "id": "f242a88e-7de7-4bf1-9b2f-ffa301bf1b2f",
   "metadata": {},
   "outputs": [],
   "source": [
    "df3 = df ** 3  # df3 is 3rd power square"
   ]
  },
  {
   "cell_type": "code",
   "execution_count": 17,
   "id": "9f59057a-3faa-4de7-a1f1-3498c3aaaee4",
   "metadata": {},
   "outputs": [
    {
     "data": {
      "text/plain": [
       "0      140754668748800\n",
       "1      140754668748800\n",
       "2      140754668748800\n",
       "3      140754668748800\n",
       "4      140754668748800\n",
       "            ...       \n",
       "123    140754668748800\n",
       "124    140754668748800\n",
       "125    140754668748800\n",
       "126    140754668748800\n",
       "127    140754668748800\n",
       "Length: 128, dtype: int64"
      ]
     },
     "execution_count": 17,
     "metadata": {},
     "output_type": "execute_result"
    }
   ],
   "source": [
    "df3.sum(axis=0)"
   ]
  },
  {
   "cell_type": "code",
   "execution_count": 18,
   "id": "935c8c98-f5f8-4f63-bc78-bbc71fc963d2",
   "metadata": {},
   "outputs": [
    {
     "name": "stdout",
     "output_type": "stream",
     "text": [
      "True True True True\n"
     ]
    }
   ],
   "source": [
    "print(\n",
    "    (df3.sum(axis=1) == 140754668748800).count()==128,\n",
    "    (df3.sum(axis=1) == 140754668748800).count()==128,\n",
    "    sum(np.diag(df3)) == 140754668748800,\n",
    "    sum(np.diag(np.fliplr(df3))) == 140754668748800)"
   ]
  }
 ],
 "metadata": {
  "kernelspec": {
   "display_name": "Python 3 (ipykernel)",
   "language": "python",
   "name": "python3"
  },
  "language_info": {
   "codemirror_mode": {
    "name": "ipython",
    "version": 3
   },
   "file_extension": ".py",
   "mimetype": "text/x-python",
   "name": "python",
   "nbconvert_exporter": "python",
   "pygments_lexer": "ipython3",
   "version": "3.11.3"
  }
 },
 "nbformat": 4,
 "nbformat_minor": 5
}
