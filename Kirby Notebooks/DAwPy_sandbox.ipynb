{
 "cells": [
  {
   "cell_type": "markdown",
   "id": "0c58c787-d166-4379-b6d0-aca0832397d9",
   "metadata": {},
   "source": [
    "#### Clarusway Python\n",
    "\n",
    "* [Instructor Landing Page](landing_page.ipynb)\n",
    "* <a href=\"https://colab.research.google.com/github/4dsolutions/clarusway_data_analysis/blob/main/Kirby%20Notebooks/DAwPy_sandbox.ipynb\"><img align=\"left\" src=\"https://colab.research.google.com/assets/colab-badge.svg\" alt=\"Open in Colab\" title=\"Open and Execute in Google Colaboratory\"></a>\n",
    "* [![nbviewer](https://raw.githubusercontent.com/jupyter/design/master/logos/Badges/nbviewer_badge.svg)](https://nbviewer.org/github/4dsolutions/clarusway_data_analysis/blob/main/Kirby%20Notebooks/DAwPy_sandbox.ipynb)"
   ]
  },
  {
   "cell_type": "markdown",
   "id": "33eb89b2-559e-4799-9172-354d6674bba6",
   "metadata": {},
   "source": [
    "<a id=\"toc\"></a>\n",
    "\n",
    "## <p style=\"background-color:#0D8D99; font-family:newtimeroman; color:#FFF9ED; font-size:175%; text-align:center; border-radius:10px 10px;\">Looking Back: The pandas DataFrame<br>Looking Ahead: to SQL</p>"
   ]
  },
  {
   "cell_type": "code",
   "execution_count": null,
   "id": "5a3b674c-38e5-4e91-ab57-ba6ebe2392cf",
   "metadata": {},
   "outputs": [],
   "source": [
    "import pandas as pd\n",
    "import numpy as np\n",
    "from os import path"
   ]
  },
  {
   "cell_type": "code",
   "execution_count": null,
   "id": "7f86e1af-2aa7-4ebf-ac65-fea8f5dc2ebd",
   "metadata": {},
   "outputs": [],
   "source": [
    "import sqlite3 as sql  # part of Python Standard Library"
   ]
  },
  {
   "cell_type": "code",
   "execution_count": null,
   "id": "a5192dd6-ea6d-49fc-8918-45d379cec14c",
   "metadata": {},
   "outputs": [],
   "source": [
    "class Connector:\n",
    "    \n",
    "    def __init__(self, conn_name):\n",
    "        self.cn_name = conn_name\n",
    "        \n",
    "    def __enter__(self):\n",
    "        try:\n",
    "            self.conn = sql.connect(self.cn_name)\n",
    "            print(\"Connection: \", self.conn)\n",
    "            self.curs = self.conn.cursor()\n",
    "            # self.list_tables() # optional\n",
    "        except:\n",
    "            print(\"No connection\")\n",
    "            raise\n",
    "\n",
    "        return self\n",
    "    \n",
    "    def lookup(self, table, column, code):\n",
    "        \"\"\"\n",
    "        return the data for column = code condition\n",
    "        \"\"\"\n",
    "        self.curs.execute(f\"SELECT * FROM {table} WHERE {column} = ?\", (code, ))\n",
    "        return self.curs.fetchone() # could be None, could be a tuple\n",
    "    \n",
    "    def list_tables(self):\n",
    "        \"\"\"\n",
    "        print a listing of all the tables in this db\n",
    "        https://www.sqlitetutorial.net/sqlite-show-tables/\n",
    "        \"\"\"\n",
    "        self.curs.execute(\"\"\"SELECT name FROM sqlite_schema  \n",
    "                            WHERE type ='table' AND name \n",
    "                            NOT LIKE 'sqlite_%';\n",
    "                            \"\"\")    \n",
    "        # loop through whatever table names were found \n",
    "        # and filtered and print them out.\n",
    "        for nm in self.curs.fetchall():\n",
    "            print(nm)\n",
    "         \n",
    "    def __exit__(self, *oops):\n",
    "        \"\"\"\n",
    "        I process exceptions i.e. *oops consists of \n",
    "        a 3-tuple, we hope filled with Nones because \n",
    "        all went well.  Otherwise, exception info.\n",
    "        return either True or False to determine if\n",
    "        __exit__ does or does not raise an exception.\n",
    "        \"\"\"\n",
    "        self.conn.close()\n",
    "        if oops[0]:\n",
    "            print(\"An error occurred\")\n",
    "            return False  # raise exception\n",
    "        return True       # all good"
   ]
  },
  {
   "cell_type": "code",
   "execution_count": null,
   "id": "bad3d13f-407d-49be-bb44-4c891e353c4e",
   "metadata": {},
   "outputs": [],
   "source": [
    "path.isfile(\"airports.db\")"
   ]
  },
  {
   "cell_type": "code",
   "execution_count": null,
   "id": "88b8a6ee-8733-47f4-bc52-effe85de57a4",
   "metadata": {},
   "outputs": [],
   "source": [
    "with Connector(\"airports.db\") as conn:\n",
    "    conn.list_tables()"
   ]
  },
  {
   "cell_type": "code",
   "execution_count": null,
   "id": "67e39bda-2207-4348-9b4a-79f52b581d8d",
   "metadata": {},
   "outputs": [],
   "source": [
    "with Connector(\"./airports.db\") as DB:\n",
    "    df = pd.read_sql(\"SELECT * FROM Airports\", con = DB.conn)\n",
    "    print(DB.lookup(\"Airports\", \"iata\", \"SFO\"))\n",
    "    print(DB.lookup(\"Airports\", \"iata\", \"PDX\"))"
   ]
  },
  {
   "cell_type": "code",
   "execution_count": null,
   "id": "1ea5c753-86d0-401d-a01c-79209aa98c84",
   "metadata": {},
   "outputs": [],
   "source": [
    "df"
   ]
  },
  {
   "cell_type": "code",
   "execution_count": null,
   "id": "1bb90c98-72d7-4f4b-b4db-9a2f0c949b5e",
   "metadata": {},
   "outputs": [],
   "source": [
    "df.info()"
   ]
  },
  {
   "cell_type": "code",
   "execution_count": null,
   "id": "be7292fe-81df-49e7-bc80-b5c4b70248e0",
   "metadata": {},
   "outputs": [],
   "source": [
    "df.describe().T"
   ]
  },
  {
   "cell_type": "code",
   "execution_count": null,
   "id": "aa71148b-961a-4518-b12b-018c5c5212a1",
   "metadata": {},
   "outputs": [],
   "source": [
    "df.type.nunique()"
   ]
  },
  {
   "cell_type": "code",
   "execution_count": null,
   "id": "b2f2f0eb-e854-49d6-812e-b4a96266b5e4",
   "metadata": {},
   "outputs": [],
   "source": [
    "df.type.unique()"
   ]
  },
  {
   "cell_type": "code",
   "execution_count": null,
   "id": "b4224f73-7ded-457f-b748-20ddceee4a67",
   "metadata": {},
   "outputs": [],
   "source": [
    "df.groupby([\"type\"]).agg(\"count\")"
   ]
  },
  {
   "cell_type": "code",
   "execution_count": null,
   "id": "7295ac39-a52b-43d3-8cc8-23201df1dd72",
   "metadata": {},
   "outputs": [],
   "source": [
    "df.status.nunique()"
   ]
  },
  {
   "cell_type": "code",
   "execution_count": null,
   "id": "47248c03-e979-4fff-adf2-09eafd940ae7",
   "metadata": {},
   "outputs": [],
   "source": [
    "df.status.unique()"
   ]
  },
  {
   "cell_type": "code",
   "execution_count": null,
   "id": "a24c642e-6d0d-4894-844e-0bb81a356697",
   "metadata": {},
   "outputs": [],
   "source": [
    "df[\"size\"].nunique()"
   ]
  },
  {
   "cell_type": "code",
   "execution_count": null,
   "id": "3ee139d3-422c-4e23-bd1d-dc867753f008",
   "metadata": {},
   "outputs": [],
   "source": [
    "df[\"size\"].unique()"
   ]
  },
  {
   "cell_type": "code",
   "execution_count": null,
   "id": "727f9e6f-276c-4cbd-b2cc-50eee4a4175c",
   "metadata": {},
   "outputs": [],
   "source": [
    "df[\"size\"].value_counts(dropna=False) # show the Nonesdf."
   ]
  },
  {
   "cell_type": "code",
   "execution_count": null,
   "id": "af35f788-78a1-4fe0-8486-ee8edbdb164c",
   "metadata": {},
   "outputs": [],
   "source": [
    "df.dropna(axis=0, how=\"any\", inplace=False)"
   ]
  },
  {
   "cell_type": "code",
   "execution_count": null,
   "id": "24b472ca-ab74-4c16-bc60-21f4b62b6714",
   "metadata": {},
   "outputs": [],
   "source": [
    "df2 = df.dropna(axis=0, how=\"any\", inplace=False)"
   ]
  },
  {
   "cell_type": "code",
   "execution_count": null,
   "id": "84ea300a-2c1c-413b-a502-c9b30330b218",
   "metadata": {},
   "outputs": [],
   "source": [
    "df2.info()"
   ]
  },
  {
   "cell_type": "code",
   "execution_count": null,
   "id": "c3f34333-685f-4e61-91be-fce1045d1c72",
   "metadata": {},
   "outputs": [],
   "source": [
    "big = df2[(df[\"type\"] == \"airport\") & (df[\"size\"] == \"large\")].reset_index(drop=True)"
   ]
  },
  {
   "cell_type": "code",
   "execution_count": null,
   "id": "232c0651-a3af-4588-a4da-feea786eb673",
   "metadata": {},
   "outputs": [],
   "source": [
    "medium = df2[(df[\"type\"] == \"airport\") & (df[\"size\"] == \"medium\")].reset_index(drop=True)"
   ]
  },
  {
   "cell_type": "code",
   "execution_count": null,
   "id": "81c4c052-427b-49fd-95bf-efb1a4e8a808",
   "metadata": {},
   "outputs": [],
   "source": [
    "small = df2[(df[\"type\"] == \"airport\") & (df[\"size\"] == \"small\")].reset_index(drop=True)"
   ]
  },
  {
   "cell_type": "code",
   "execution_count": null,
   "id": "5a10d22b-543a-428c-a00e-0c61815ff07b",
   "metadata": {},
   "outputs": [],
   "source": [
    "df2.loc[:, [\"iata\", \"iso\", \"name\"]]"
   ]
  },
  {
   "cell_type": "code",
   "execution_count": null,
   "id": "2924b50d-93f1-4e34-bc61-f46c525100df",
   "metadata": {},
   "outputs": [],
   "source": [
    "big = big.loc[:, [\"iata\", \"iso\", \"name\"]]\n",
    "medium = medium.loc[:, [\"iata\", \"iso\", \"name\"]]\n",
    "small = small.loc[:, [\"iata\", \"iso\", \"name\"]]\n",
    "latlong = df2.loc[: , [\"iata\", \"continent\", \"lat\", \"lon\"]]"
   ]
  },
  {
   "cell_type": "code",
   "execution_count": null,
   "id": "d63b3d8e-91d4-437f-ab35-86b2172d9968",
   "metadata": {},
   "outputs": [],
   "source": [
    "big.info()"
   ]
  },
  {
   "cell_type": "code",
   "execution_count": null,
   "id": "10d8fc38-b1f6-4dc1-94dc-c3f625a1927b",
   "metadata": {},
   "outputs": [],
   "source": [
    "medium.info()"
   ]
  },
  {
   "cell_type": "code",
   "execution_count": null,
   "id": "a122b532-cea8-40cc-b8f1-b02a58bc95b7",
   "metadata": {},
   "outputs": [],
   "source": [
    "small.info()"
   ]
  },
  {
   "cell_type": "code",
   "execution_count": null,
   "id": "a87018b5-78b2-4281-9d67-fc2c0ab7e8a4",
   "metadata": {},
   "outputs": [],
   "source": [
    "latlong.info()"
   ]
  },
  {
   "cell_type": "code",
   "execution_count": null,
   "id": "107590f8-d214-4ab9-a3cd-a632019482f5",
   "metadata": {},
   "outputs": [],
   "source": [
    "big.join(latlong.set_index(\"iata\"), on=\"iata\", how=\"inner\", sort=True) # right index set to iata"
   ]
  },
  {
   "cell_type": "code",
   "execution_count": null,
   "id": "ccdeed70-9f80-4a3d-bbc3-8e62762d3635",
   "metadata": {},
   "outputs": [],
   "source": [
    "pd.merge(big, latlong, how='left', on='iata', sort=True)"
   ]
  },
  {
   "cell_type": "code",
   "execution_count": null,
   "id": "ba249d11-64da-4ac8-a8ad-70afe0d89156",
   "metadata": {},
   "outputs": [],
   "source": [
    "big[big.duplicated('iata')]"
   ]
  },
  {
   "cell_type": "code",
   "execution_count": null,
   "id": "2fb742fa-3587-4fe4-965b-76702d8c0ec6",
   "metadata": {},
   "outputs": [],
   "source": [
    "big[big.iata == \"HYD\"]"
   ]
  },
  {
   "cell_type": "code",
   "execution_count": null,
   "id": "e97317d9-8d18-4f7d-8f16-103b2d08e08b",
   "metadata": {},
   "outputs": [],
   "source": [
    "big.info()"
   ]
  },
  {
   "cell_type": "code",
   "execution_count": null,
   "id": "31e8232e-78a6-4dbe-964f-63430a10b677",
   "metadata": {},
   "outputs": [],
   "source": [
    "big = big.drop(index=421)"
   ]
  },
  {
   "cell_type": "code",
   "execution_count": null,
   "id": "3c2e94ab-35f2-4d0a-96e4-258359ef1702",
   "metadata": {},
   "outputs": [],
   "source": [
    "big.info()"
   ]
  },
  {
   "cell_type": "code",
   "execution_count": null,
   "id": "b298b64c-394c-4c8f-b205-38665f0a528f",
   "metadata": {},
   "outputs": [],
   "source": [
    "latlong.size"
   ]
  },
  {
   "cell_type": "code",
   "execution_count": null,
   "id": "63444476-ac4f-4ba7-b0d9-160b4d513c86",
   "metadata": {},
   "outputs": [],
   "source": [
    "latlong.duplicated('iata')==False"
   ]
  },
  {
   "cell_type": "code",
   "execution_count": null,
   "id": "89b1528f-5a3c-49ec-acba-c79e03a61318",
   "metadata": {},
   "outputs": [],
   "source": [
    "df3 = latlong[latlong.duplicated()==False]"
   ]
  },
  {
   "cell_type": "code",
   "execution_count": null,
   "id": "8d112c14-903d-4fec-a649-dc8913bbbe09",
   "metadata": {},
   "outputs": [],
   "source": [
    "df3"
   ]
  },
  {
   "cell_type": "code",
   "execution_count": null,
   "id": "f4cd6602-9979-436c-b447-2201434ecab2",
   "metadata": {},
   "outputs": [],
   "source": [
    "df3.duplicated().value_counts()"
   ]
  },
  {
   "cell_type": "code",
   "execution_count": null,
   "id": "7a406201-da26-4b40-8b7b-e5d8960d41a0",
   "metadata": {},
   "outputs": [],
   "source": [
    "df3[df3.iata == 'YAX']"
   ]
  },
  {
   "cell_type": "code",
   "execution_count": null,
   "id": "903aea2a-8483-4843-8f9b-7c00eb96f907",
   "metadata": {},
   "outputs": [],
   "source": [
    "pd.merge(big, df3, how='left', on='iata', sort=True)"
   ]
  },
  {
   "cell_type": "code",
   "execution_count": null,
   "id": "d121cd99-2b94-4014-990d-78d4ba33f890",
   "metadata": {},
   "outputs": [],
   "source": [
    "big"
   ]
  },
  {
   "cell_type": "code",
   "execution_count": null,
   "id": "34639906-d61a-4d86-bf29-dad73c19a965",
   "metadata": {},
   "outputs": [],
   "source": [
    "df3"
   ]
  },
  {
   "cell_type": "code",
   "execution_count": null,
   "id": "da4349ff-484e-434c-8676-0b56416c6bc2",
   "metadata": {},
   "outputs": [],
   "source": []
  }
 ],
 "metadata": {
  "kernelspec": {
   "display_name": "Python 3 (ipykernel)",
   "language": "python",
   "name": "python3"
  },
  "language_info": {
   "codemirror_mode": {
    "name": "ipython",
    "version": 3
   },
   "file_extension": ".py",
   "mimetype": "text/x-python",
   "name": "python",
   "nbconvert_exporter": "python",
   "pygments_lexer": "ipython3",
   "version": "3.11.3"
  }
 },
 "nbformat": 4,
 "nbformat_minor": 5
}
