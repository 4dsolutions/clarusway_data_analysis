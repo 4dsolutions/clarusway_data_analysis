{
 "cells": [
  {
   "cell_type": "markdown",
   "id": "0c58c787-d166-4379-b6d0-aca0832397d9",
   "metadata": {},
   "source": [
    "#### Clarusway Python\n",
    "\n",
    "* [Instructor Landing Page](landing_page.ipynb)\n",
    "* <a href=\"https://colab.research.google.com/github/4dsolutions/clarusway_data_analysis/blob/main/Kirby%20Notebooks/DAwPy_sandbox.ipynb\"><img align=\"left\" src=\"https://colab.research.google.com/assets/colab-badge.svg\" alt=\"Open in Colab\" title=\"Open and Execute in Google Colaboratory\"></a>\n",
    "* [![nbviewer](https://raw.githubusercontent.com/jupyter/design/master/logos/Badges/nbviewer_badge.svg)](https://nbviewer.org/github/4dsolutions/clarusway_data_analysis/blob/main/Kirby%20Notebooks/DAwPy_sandbox.ipynb)"
   ]
  },
  {
   "cell_type": "markdown",
   "id": "33eb89b2-559e-4799-9172-354d6674bba6",
   "metadata": {},
   "source": [
    "<a id=\"toc\"></a>\n",
    "\n",
    "<a data-flickr-embed=\"true\" href=\"https://www.flickr.com/photos/kirbyurner/52136642608/in/photolist-2n4sSUz-2nr8Vrb-2oADYNY\" title=\"Clarusway Banner\"><img src=\"https://live.staticflickr.com/65535/52136642608_bd45cb00a9_b.jpg\" width=\"1024\" height=\"334\" alt=\"Clarusway Banner\"/></a><script async src=\"//embedr.flickr.com/assets/client-code.js\" charset=\"utf-8\"></script>\n",
    "\n",
    "## <p style=\"background-color:#0D8D99; font-family:newtimeroman; color:#FFF9ED; font-size:175%; text-align:center; border-radius:10px 10px;\">Looking Back: The pandas DataFrame<br>Looking Ahead: to SQL</p>"
   ]
  },
  {
   "cell_type": "markdown",
   "id": "50e0d066-74d3-46db-8ab7-62bd52ffc006",
   "metadata": {},
   "source": [
    "Highly relevant this juncture, when our focus is on table management in pandas, including their combination based on columns-in-common, are the conceptual similarities with SQL (Structured Query Language). The vocabulary (shoptalk) of inner, outer, left and right join, in turn inherited from Set Theory, spans both technologies, pandas and SQL."
   ]
  },
  {
   "cell_type": "code",
   "execution_count": 1,
   "id": "5a3b674c-38e5-4e91-ab57-ba6ebe2392cf",
   "metadata": {},
   "outputs": [],
   "source": [
    "import pandas as pd\n",
    "import numpy as np\n",
    "from os import path"
   ]
  },
  {
   "cell_type": "markdown",
   "id": "29ab36f9-dd96-45d9-8cf9-9ed13d563adb",
   "metadata": {},
   "source": [
    "Pythonistas enjoy the good fortune of having SQLite in the Standard Library. SQLite is a free open source tool that has a role in production, in the office setting, and as an onramp into RDBMS (relational database management systems) more generally."
   ]
  },
  {
   "cell_type": "code",
   "execution_count": 2,
   "id": "7f86e1af-2aa7-4ebf-ac65-fea8f5dc2ebd",
   "metadata": {},
   "outputs": [],
   "source": [
    "import sqlite3 as sql  # part of Python Standard Library"
   ]
  },
  {
   "cell_type": "markdown",
   "id": "8e7c1eab-37c2-430b-9194-f203095e88c7",
   "metadata": {},
   "source": [
    "Connecting to a database through a context manager has advantages. Connecting to a DB is akin to opening a file, with automatic closure once the code block is done and being exited, with or without unhandled exceptions.\n",
    "\n",
    "We looked at the context manager pattern in Basic Python. Like the Iterator category, we recognize context managers by the presence of signature magic methods (also known as special names). \n",
    "\n",
    "In the case of the Iterator, we look for `__next__` and `__iter__` where the latter might return itself, as eligible for the office of iterator. In the case of a Context Manager, we expect to find `__enter__` and `__exit__`.\n",
    "\n",
    "We learned how these two methods get triggered: not by directly calling them, but by the \"occassions\" of entering and exiting code suites set off by the `with` statement, `with` being one of Python's keywords.\n",
    "\n",
    "Where we most likely encounter the `with` in basic Python is in connection with file object, with opening and closing upon entering and exiting, with access to the Context Manager itself as a presiding object (e.g. cm below), thanks to keyword `as`.  \n",
    "\n",
    "We say:\n",
    "\n",
    "```python\n",
    "    with open(\"the_file.txt\") as cm:\n",
    "        content = cm.read()\n",
    "```    \n",
    "\n",
    "Likewise, our Connector class below wraps a database connection and cursor inside the instance, once `__enter__` has established them as attributes of the presiding object.\n",
    "\n",
    "```python\n",
    "    with Connect(\"airports.db\") as db:\n",
    "        db.list_tables()\n",
    "``` \n",
    "\n",
    "Upon exiting the with suite, the connection closes, and any exceptions get handled or reraised.\n",
    "\n",
    "The context manager object may be optionally equipped with additional DB-related methods, such as return a tables listing and/or perform a record lookup."
   ]
  },
  {
   "cell_type": "code",
   "execution_count": 3,
   "id": "a5192dd6-ea6d-49fc-8918-45d379cec14c",
   "metadata": {},
   "outputs": [],
   "source": [
    "class Connector:\n",
    "\n",
    "    def __init__(self, conn_name : str):\n",
    "        \"\"\"Run when class is called\"\"\"\n",
    "        self.cn_name = conn_name # what file?\n",
    "        \n",
    "    def __enter__(self):\n",
    "        \"\"\"Run when the context is entered\"\"\"\n",
    "        try:\n",
    "            self.conn = sql.connect(self.cn_name)\n",
    "            print(\"Connection: \", self.conn)\n",
    "            self.curs = self.conn.cursor()\n",
    "            # self.list_tables() # optional\n",
    "        except:\n",
    "            print(\"No connection\")\n",
    "            raise\n",
    "\n",
    "        return self\n",
    "    \n",
    "    def lookup(self, table, column, code):\n",
    "        \"\"\"\n",
    "        return the data for column = code condition\n",
    "        \"\"\"\n",
    "        self.curs.execute(f\"SELECT * FROM {table} WHERE {column} = ?\", (code, ))\n",
    "        return self.curs.fetchone() # could be None, could be a tuple\n",
    "    \n",
    "    def list_tables(self):\n",
    "        \"\"\"\n",
    "        print a listing of all the tables in this db\n",
    "        https://www.sqlitetutorial.net/sqlite-show-tables/\n",
    "        \"\"\"\n",
    "        self.curs.execute(\"\"\"SELECT name FROM sqlite_schema  \n",
    "                            WHERE type ='table' AND name \n",
    "                            NOT LIKE 'sqlite_%';\n",
    "                            \"\"\")    \n",
    "        # loop through whatever table names were found \n",
    "        # and filtered and print them out.\n",
    "        for nm in self.curs.fetchall():\n",
    "            print(nm)\n",
    "         \n",
    "    def __exit__(self, *oops):\n",
    "        \"\"\"\n",
    "        Process exceptions consists of *oops,\n",
    "        a 3-tuple, we hope filled with Nones because \n",
    "        all went well.  Otherwise, exception info.\n",
    "        return either True or False to determine if\n",
    "        __exit__ does or does not raise an exception.\n",
    "        \"\"\"\n",
    "        self.conn.close()\n",
    "        if oops[0]:\n",
    "            print(\"An error occurred\")\n",
    "            return False  # raise exception\n",
    "        return True       # all good"
   ]
  },
  {
   "cell_type": "markdown",
   "id": "2ca3675c-43eb-4c43-8883-1a08bffd5b9d",
   "metadata": {},
   "source": [
    "The `airports.db` file contains only one table, Airports. This is a flat file with some information about airports around the world, including their unique IATA code.\n",
    "\n",
    "A copy of airports.db used here [may be found](https://github.com/4dsolutions/clarusway_data_analysis/blob/main/DVwPY_S6/airports.db) in this Github repo. Download the raw file.\n",
    "\n",
    "Our purpose here is to bring the data into pandas using `sqlite3` and our Connector, and then review our powers to merge and purge, ending up with some new database files as output, such as a relational `big_airports.db` with lat/long coordinates stored separately, linked by IATA code. We create this table more as a test of pandas than to produce output of much practical value."
   ]
  },
  {
   "cell_type": "code",
   "execution_count": 4,
   "id": "bad3d13f-407d-49be-bb44-4c891e353c4e",
   "metadata": {},
   "outputs": [
    {
     "data": {
      "text/plain": [
       "True"
      ]
     },
     "execution_count": 4,
     "metadata": {},
     "output_type": "execute_result"
    }
   ],
   "source": [
    "path.isfile(\"airports.db\")"
   ]
  },
  {
   "cell_type": "code",
   "execution_count": 5,
   "id": "88b8a6ee-8733-47f4-bc52-effe85de57a4",
   "metadata": {},
   "outputs": [
    {
     "name": "stdout",
     "output_type": "stream",
     "text": [
      "Connection:  <sqlite3.Connection object at 0x108e05120>\n",
      "('Airports',)\n"
     ]
    }
   ],
   "source": [
    "with Connector(\"airports.db\") as db:\n",
    "    db.list_tables()"
   ]
  },
  {
   "cell_type": "code",
   "execution_count": 8,
   "id": "67e39bda-2207-4348-9b4a-79f52b581d8d",
   "metadata": {},
   "outputs": [
    {
     "name": "stdout",
     "output_type": "stream",
     "text": [
      "Connection:  <sqlite3.Connection object at 0x1093b1e40>\n",
      "('SFO', 'US', 'San Francisco International Airport', 'NA', 'airport', 37.615215, -122.38988, 'large', 1)\n",
      "('PDX', 'US', 'Portland International Airport', 'NA', 'airport', 45.588997, -122.5929, 'large', 1)\n"
     ]
    }
   ],
   "source": [
    "with Connector(\"airports.db\") as db:\n",
    "    df = pd.read_sql(\"SELECT * FROM Airports\", con = db.conn)\n",
    "    print(db.lookup(\"Airports\", \"iata\", \"SFO\"))\n",
    "    print(db.lookup(\"Airports\", \"iata\", \"PDX\"))"
   ]
  },
  {
   "cell_type": "code",
   "execution_count": 9,
   "id": "1ea5c753-86d0-401d-a01c-79209aa98c84",
   "metadata": {},
   "outputs": [
    {
     "data": {
      "text/html": [
       "<div>\n",
       "<style scoped>\n",
       "    .dataframe tbody tr th:only-of-type {\n",
       "        vertical-align: middle;\n",
       "    }\n",
       "\n",
       "    .dataframe tbody tr th {\n",
       "        vertical-align: top;\n",
       "    }\n",
       "\n",
       "    .dataframe thead th {\n",
       "        text-align: right;\n",
       "    }\n",
       "</style>\n",
       "<table border=\"1\" class=\"dataframe\">\n",
       "  <thead>\n",
       "    <tr style=\"text-align: right;\">\n",
       "      <th></th>\n",
       "      <th>iata</th>\n",
       "      <th>iso</th>\n",
       "      <th>name</th>\n",
       "      <th>continent</th>\n",
       "      <th>type</th>\n",
       "      <th>lat</th>\n",
       "      <th>lon</th>\n",
       "      <th>size</th>\n",
       "      <th>status</th>\n",
       "    </tr>\n",
       "  </thead>\n",
       "  <tbody>\n",
       "    <tr>\n",
       "      <th>0</th>\n",
       "      <td>UTK</td>\n",
       "      <td>MH</td>\n",
       "      <td>Utirik Airport</td>\n",
       "      <td>OC</td>\n",
       "      <td>airport</td>\n",
       "      <td>11.233333</td>\n",
       "      <td>169.866670</td>\n",
       "      <td>small</td>\n",
       "      <td>1</td>\n",
       "    </tr>\n",
       "    <tr>\n",
       "      <th>1</th>\n",
       "      <td>FIV</td>\n",
       "      <td>US</td>\n",
       "      <td>Five Finger CG Heliport</td>\n",
       "      <td>NA</td>\n",
       "      <td>heliport</td>\n",
       "      <td>NaN</td>\n",
       "      <td>NaN</td>\n",
       "      <td>None</td>\n",
       "      <td>1</td>\n",
       "    </tr>\n",
       "    <tr>\n",
       "      <th>2</th>\n",
       "      <td>FAK</td>\n",
       "      <td>US</td>\n",
       "      <td>False Island Seaplane Base</td>\n",
       "      <td>NA</td>\n",
       "      <td>seaplanes</td>\n",
       "      <td>NaN</td>\n",
       "      <td>NaN</td>\n",
       "      <td>None</td>\n",
       "      <td>1</td>\n",
       "    </tr>\n",
       "    <tr>\n",
       "      <th>3</th>\n",
       "      <td>BWS</td>\n",
       "      <td>US</td>\n",
       "      <td>Blaine Municipal Airport</td>\n",
       "      <td>NA</td>\n",
       "      <td>closed</td>\n",
       "      <td>NaN</td>\n",
       "      <td>NaN</td>\n",
       "      <td>None</td>\n",
       "      <td>0</td>\n",
       "    </tr>\n",
       "    <tr>\n",
       "      <th>4</th>\n",
       "      <td>WKK</td>\n",
       "      <td>US</td>\n",
       "      <td>Aleknagik / New Airport</td>\n",
       "      <td>NA</td>\n",
       "      <td>airport</td>\n",
       "      <td>59.277780</td>\n",
       "      <td>-158.611110</td>\n",
       "      <td>medium</td>\n",
       "      <td>1</td>\n",
       "    </tr>\n",
       "    <tr>\n",
       "      <th>...</th>\n",
       "      <td>...</td>\n",
       "      <td>...</td>\n",
       "      <td>...</td>\n",
       "      <td>...</td>\n",
       "      <td>...</td>\n",
       "      <td>...</td>\n",
       "      <td>...</td>\n",
       "      <td>...</td>\n",
       "      <td>...</td>\n",
       "    </tr>\n",
       "    <tr>\n",
       "      <th>6721</th>\n",
       "      <td>OHE</td>\n",
       "      <td>CN</td>\n",
       "      <td>Gu-Lian Airport</td>\n",
       "      <td>AS</td>\n",
       "      <td>airport</td>\n",
       "      <td>52.921130</td>\n",
       "      <td>122.420590</td>\n",
       "      <td>medium</td>\n",
       "      <td>1</td>\n",
       "    </tr>\n",
       "    <tr>\n",
       "      <th>6722</th>\n",
       "      <td>NDG</td>\n",
       "      <td>CN</td>\n",
       "      <td>Qiqihar Sanjiazi Airport</td>\n",
       "      <td>AS</td>\n",
       "      <td>airport</td>\n",
       "      <td>47.316666</td>\n",
       "      <td>123.916664</td>\n",
       "      <td>medium</td>\n",
       "      <td>1</td>\n",
       "    </tr>\n",
       "    <tr>\n",
       "      <th>6723</th>\n",
       "      <td>DLC</td>\n",
       "      <td>CN</td>\n",
       "      <td>Zhoushuizi Airport</td>\n",
       "      <td>AS</td>\n",
       "      <td>airport</td>\n",
       "      <td>38.961020</td>\n",
       "      <td>121.539990</td>\n",
       "      <td>large</td>\n",
       "      <td>1</td>\n",
       "    </tr>\n",
       "    <tr>\n",
       "      <th>6724</th>\n",
       "      <td>SHE</td>\n",
       "      <td>CN</td>\n",
       "      <td>Taoxian Airport</td>\n",
       "      <td>AS</td>\n",
       "      <td>airport</td>\n",
       "      <td>41.861084</td>\n",
       "      <td>123.426926</td>\n",
       "      <td>large</td>\n",
       "      <td>1</td>\n",
       "    </tr>\n",
       "    <tr>\n",
       "      <th>6725</th>\n",
       "      <td>YNJ</td>\n",
       "      <td>CN</td>\n",
       "      <td>Yanji Chaoyangchuan Airport</td>\n",
       "      <td>AS</td>\n",
       "      <td>airport</td>\n",
       "      <td>42.885662</td>\n",
       "      <td>129.439360</td>\n",
       "      <td>medium</td>\n",
       "      <td>1</td>\n",
       "    </tr>\n",
       "  </tbody>\n",
       "</table>\n",
       "<p>6726 rows × 9 columns</p>\n",
       "</div>"
      ],
      "text/plain": [
       "     iata iso                         name continent       type        lat  \\\n",
       "0     UTK  MH               Utirik Airport        OC    airport  11.233333   \n",
       "1     FIV  US      Five Finger CG Heliport        NA   heliport        NaN   \n",
       "2     FAK  US   False Island Seaplane Base        NA  seaplanes        NaN   \n",
       "3     BWS  US     Blaine Municipal Airport        NA     closed        NaN   \n",
       "4     WKK  US      Aleknagik / New Airport        NA    airport  59.277780   \n",
       "...   ...  ..                          ...       ...        ...        ...   \n",
       "6721  OHE  CN              Gu-Lian Airport        AS    airport  52.921130   \n",
       "6722  NDG  CN     Qiqihar Sanjiazi Airport        AS    airport  47.316666   \n",
       "6723  DLC  CN           Zhoushuizi Airport        AS    airport  38.961020   \n",
       "6724  SHE  CN              Taoxian Airport        AS    airport  41.861084   \n",
       "6725  YNJ  CN  Yanji Chaoyangchuan Airport        AS    airport  42.885662   \n",
       "\n",
       "             lon    size  status  \n",
       "0     169.866670   small       1  \n",
       "1            NaN    None       1  \n",
       "2            NaN    None       1  \n",
       "3            NaN    None       0  \n",
       "4    -158.611110  medium       1  \n",
       "...          ...     ...     ...  \n",
       "6721  122.420590  medium       1  \n",
       "6722  123.916664  medium       1  \n",
       "6723  121.539990   large       1  \n",
       "6724  123.426926   large       1  \n",
       "6725  129.439360  medium       1  \n",
       "\n",
       "[6726 rows x 9 columns]"
      ]
     },
     "execution_count": 9,
     "metadata": {},
     "output_type": "execute_result"
    }
   ],
   "source": [
    "df"
   ]
  },
  {
   "cell_type": "code",
   "execution_count": 10,
   "id": "1bb90c98-72d7-4f4b-b4db-9a2f0c949b5e",
   "metadata": {},
   "outputs": [
    {
     "name": "stdout",
     "output_type": "stream",
     "text": [
      "<class 'pandas.core.frame.DataFrame'>\n",
      "RangeIndex: 6726 entries, 0 to 6725\n",
      "Data columns (total 9 columns):\n",
      " #   Column     Non-Null Count  Dtype  \n",
      "---  ------     --------------  -----  \n",
      " 0   iata       6726 non-null   object \n",
      " 1   iso        6726 non-null   object \n",
      " 2   name       6247 non-null   object \n",
      " 3   continent  6726 non-null   object \n",
      " 4   type       6726 non-null   object \n",
      " 5   lat        6345 non-null   float64\n",
      " 6   lon        6345 non-null   float64\n",
      " 7   size       6546 non-null   object \n",
      " 8   status     6726 non-null   int64  \n",
      "dtypes: float64(2), int64(1), object(6)\n",
      "memory usage: 473.1+ KB\n"
     ]
    }
   ],
   "source": [
    "df.info()"
   ]
  },
  {
   "cell_type": "markdown",
   "id": "02486c50-6c14-45e9-94d0-f8607cb11e03",
   "metadata": {},
   "source": [
    "The description of numeric columns is hardly useful as these consist of either categorical values or latitude / longitude, which it doesn't make a lot of sense to average."
   ]
  },
  {
   "cell_type": "code",
   "execution_count": 11,
   "id": "be7292fe-81df-49e7-bc80-b5c4b70248e0",
   "metadata": {},
   "outputs": [
    {
     "data": {
      "text/html": [
       "<div>\n",
       "<style scoped>\n",
       "    .dataframe tbody tr th:only-of-type {\n",
       "        vertical-align: middle;\n",
       "    }\n",
       "\n",
       "    .dataframe tbody tr th {\n",
       "        vertical-align: top;\n",
       "    }\n",
       "\n",
       "    .dataframe thead th {\n",
       "        text-align: right;\n",
       "    }\n",
       "</style>\n",
       "<table border=\"1\" class=\"dataframe\">\n",
       "  <thead>\n",
       "    <tr style=\"text-align: right;\">\n",
       "      <th></th>\n",
       "      <th>count</th>\n",
       "      <th>mean</th>\n",
       "      <th>std</th>\n",
       "      <th>min</th>\n",
       "      <th>25%</th>\n",
       "      <th>50%</th>\n",
       "      <th>75%</th>\n",
       "      <th>max</th>\n",
       "    </tr>\n",
       "  </thead>\n",
       "  <tbody>\n",
       "    <tr>\n",
       "      <th>lat</th>\n",
       "      <td>6345.0</td>\n",
       "      <td>17.057357</td>\n",
       "      <td>29.607346</td>\n",
       "      <td>-54.95000</td>\n",
       "      <td>-7.288056</td>\n",
       "      <td>18.700000</td>\n",
       "      <td>42.183376</td>\n",
       "      <td>82.51667</td>\n",
       "    </tr>\n",
       "    <tr>\n",
       "      <th>lon</th>\n",
       "      <td>6345.0</td>\n",
       "      <td>14.750609</td>\n",
       "      <td>88.345450</td>\n",
       "      <td>-179.33333</td>\n",
       "      <td>-68.073610</td>\n",
       "      <td>15.101389</td>\n",
       "      <td>96.201385</td>\n",
       "      <td>179.93333</td>\n",
       "    </tr>\n",
       "    <tr>\n",
       "      <th>status</th>\n",
       "      <td>6726.0</td>\n",
       "      <td>0.990039</td>\n",
       "      <td>0.099316</td>\n",
       "      <td>0.00000</td>\n",
       "      <td>1.000000</td>\n",
       "      <td>1.000000</td>\n",
       "      <td>1.000000</td>\n",
       "      <td>1.00000</td>\n",
       "    </tr>\n",
       "  </tbody>\n",
       "</table>\n",
       "</div>"
      ],
      "text/plain": [
       "         count       mean        std        min        25%        50%  \\\n",
       "lat     6345.0  17.057357  29.607346  -54.95000  -7.288056  18.700000   \n",
       "lon     6345.0  14.750609  88.345450 -179.33333 -68.073610  15.101389   \n",
       "status  6726.0   0.990039   0.099316    0.00000   1.000000   1.000000   \n",
       "\n",
       "              75%        max  \n",
       "lat     42.183376   82.51667  \n",
       "lon     96.201385  179.93333  \n",
       "status   1.000000    1.00000  "
      ]
     },
     "execution_count": 11,
     "metadata": {},
     "output_type": "execute_result"
    }
   ],
   "source": [
    "df.describe().T"
   ]
  },
  {
   "cell_type": "markdown",
   "id": "7aea307b-0538-46fe-a363-11ef64cdd00a",
   "metadata": {},
   "source": [
    "However remember `describe` may be directed to attend non-numeric columns as well."
   ]
  },
  {
   "cell_type": "code",
   "execution_count": 13,
   "id": "bce108dc-793c-4a2d-b5f1-546c28652843",
   "metadata": {},
   "outputs": [
    {
     "data": {
      "text/html": [
       "<div>\n",
       "<style scoped>\n",
       "    .dataframe tbody tr th:only-of-type {\n",
       "        vertical-align: middle;\n",
       "    }\n",
       "\n",
       "    .dataframe tbody tr th {\n",
       "        vertical-align: top;\n",
       "    }\n",
       "\n",
       "    .dataframe thead th {\n",
       "        text-align: right;\n",
       "    }\n",
       "</style>\n",
       "<table border=\"1\" class=\"dataframe\">\n",
       "  <thead>\n",
       "    <tr style=\"text-align: right;\">\n",
       "      <th></th>\n",
       "      <th>iata</th>\n",
       "      <th>iso</th>\n",
       "      <th>name</th>\n",
       "      <th>continent</th>\n",
       "      <th>type</th>\n",
       "      <th>size</th>\n",
       "    </tr>\n",
       "  </thead>\n",
       "  <tbody>\n",
       "    <tr>\n",
       "      <th>count</th>\n",
       "      <td>6726</td>\n",
       "      <td>6726</td>\n",
       "      <td>6247</td>\n",
       "      <td>6726</td>\n",
       "      <td>6726</td>\n",
       "      <td>6546</td>\n",
       "    </tr>\n",
       "    <tr>\n",
       "      <th>unique</th>\n",
       "      <td>6632</td>\n",
       "      <td>235</td>\n",
       "      <td>6196</td>\n",
       "      <td>6</td>\n",
       "      <td>4</td>\n",
       "      <td>3</td>\n",
       "    </tr>\n",
       "    <tr>\n",
       "      <th>top</th>\n",
       "      <td>PRI</td>\n",
       "      <td>US</td>\n",
       "      <td>Santa Maria Airport</td>\n",
       "      <td>NA</td>\n",
       "      <td>airport</td>\n",
       "      <td>medium</td>\n",
       "    </tr>\n",
       "    <tr>\n",
       "      <th>freq</th>\n",
       "      <td>3</td>\n",
       "      <td>682</td>\n",
       "      <td>4</td>\n",
       "      <td>1502</td>\n",
       "      <td>6546</td>\n",
       "      <td>3556</td>\n",
       "    </tr>\n",
       "  </tbody>\n",
       "</table>\n",
       "</div>"
      ],
      "text/plain": [
       "        iata   iso                 name continent     type    size\n",
       "count   6726  6726                 6247      6726     6726    6546\n",
       "unique  6632   235                 6196         6        4       3\n",
       "top      PRI    US  Santa Maria Airport        NA  airport  medium\n",
       "freq       3   682                    4      1502     6546    3556"
      ]
     },
     "execution_count": 13,
     "metadata": {},
     "output_type": "execute_result"
    }
   ],
   "source": [
    "df.describe(include=['O'])"
   ]
  },
  {
   "cell_type": "code",
   "execution_count": 14,
   "id": "aa71148b-961a-4518-b12b-018c5c5212a1",
   "metadata": {},
   "outputs": [
    {
     "data": {
      "text/plain": [
       "4"
      ]
     },
     "execution_count": 14,
     "metadata": {},
     "output_type": "execute_result"
    }
   ],
   "source": [
    "df.type.nunique()"
   ]
  },
  {
   "cell_type": "code",
   "execution_count": 15,
   "id": "b2f2f0eb-e854-49d6-812e-b4a96266b5e4",
   "metadata": {},
   "outputs": [
    {
     "data": {
      "text/plain": [
       "array(['airport', 'heliport', 'seaplanes', 'closed'], dtype=object)"
      ]
     },
     "execution_count": 15,
     "metadata": {},
     "output_type": "execute_result"
    }
   ],
   "source": [
    "df.type.unique()"
   ]
  },
  {
   "cell_type": "code",
   "execution_count": 16,
   "id": "b4224f73-7ded-457f-b748-20ddceee4a67",
   "metadata": {},
   "outputs": [
    {
     "data": {
      "text/html": [
       "<div>\n",
       "<style scoped>\n",
       "    .dataframe tbody tr th:only-of-type {\n",
       "        vertical-align: middle;\n",
       "    }\n",
       "\n",
       "    .dataframe tbody tr th {\n",
       "        vertical-align: top;\n",
       "    }\n",
       "\n",
       "    .dataframe thead th {\n",
       "        text-align: right;\n",
       "    }\n",
       "</style>\n",
       "<table border=\"1\" class=\"dataframe\">\n",
       "  <thead>\n",
       "    <tr style=\"text-align: right;\">\n",
       "      <th></th>\n",
       "      <th>iata</th>\n",
       "      <th>iso</th>\n",
       "      <th>name</th>\n",
       "      <th>continent</th>\n",
       "      <th>lat</th>\n",
       "      <th>lon</th>\n",
       "      <th>size</th>\n",
       "      <th>status</th>\n",
       "    </tr>\n",
       "    <tr>\n",
       "      <th>type</th>\n",
       "      <th></th>\n",
       "      <th></th>\n",
       "      <th></th>\n",
       "      <th></th>\n",
       "      <th></th>\n",
       "      <th></th>\n",
       "      <th></th>\n",
       "      <th></th>\n",
       "    </tr>\n",
       "  </thead>\n",
       "  <tbody>\n",
       "    <tr>\n",
       "      <th>airport</th>\n",
       "      <td>6546</td>\n",
       "      <td>6546</td>\n",
       "      <td>6071</td>\n",
       "      <td>6546</td>\n",
       "      <td>6345</td>\n",
       "      <td>6345</td>\n",
       "      <td>6546</td>\n",
       "      <td>6546</td>\n",
       "    </tr>\n",
       "    <tr>\n",
       "      <th>closed</th>\n",
       "      <td>67</td>\n",
       "      <td>67</td>\n",
       "      <td>64</td>\n",
       "      <td>67</td>\n",
       "      <td>0</td>\n",
       "      <td>0</td>\n",
       "      <td>0</td>\n",
       "      <td>67</td>\n",
       "    </tr>\n",
       "    <tr>\n",
       "      <th>heliport</th>\n",
       "      <td>80</td>\n",
       "      <td>80</td>\n",
       "      <td>79</td>\n",
       "      <td>80</td>\n",
       "      <td>0</td>\n",
       "      <td>0</td>\n",
       "      <td>0</td>\n",
       "      <td>80</td>\n",
       "    </tr>\n",
       "    <tr>\n",
       "      <th>seaplanes</th>\n",
       "      <td>33</td>\n",
       "      <td>33</td>\n",
       "      <td>33</td>\n",
       "      <td>33</td>\n",
       "      <td>0</td>\n",
       "      <td>0</td>\n",
       "      <td>0</td>\n",
       "      <td>33</td>\n",
       "    </tr>\n",
       "  </tbody>\n",
       "</table>\n",
       "</div>"
      ],
      "text/plain": [
       "           iata   iso  name  continent   lat   lon  size  status\n",
       "type                                                            \n",
       "airport    6546  6546  6071       6546  6345  6345  6546    6546\n",
       "closed       67    67    64         67     0     0     0      67\n",
       "heliport     80    80    79         80     0     0     0      80\n",
       "seaplanes    33    33    33         33     0     0     0      33"
      ]
     },
     "execution_count": 16,
     "metadata": {},
     "output_type": "execute_result"
    }
   ],
   "source": [
    "df.groupby([\"type\"]).agg(\"count\")"
   ]
  },
  {
   "cell_type": "code",
   "execution_count": 17,
   "id": "7295ac39-a52b-43d3-8cc8-23201df1dd72",
   "metadata": {},
   "outputs": [
    {
     "data": {
      "text/plain": [
       "2"
      ]
     },
     "execution_count": 17,
     "metadata": {},
     "output_type": "execute_result"
    }
   ],
   "source": [
    "df.status.nunique()"
   ]
  },
  {
   "cell_type": "code",
   "execution_count": 18,
   "id": "47248c03-e979-4fff-adf2-09eafd940ae7",
   "metadata": {},
   "outputs": [
    {
     "data": {
      "text/plain": [
       "array([1, 0])"
      ]
     },
     "execution_count": 18,
     "metadata": {},
     "output_type": "execute_result"
    }
   ],
   "source": [
    "df.status.unique()"
   ]
  },
  {
   "cell_type": "code",
   "execution_count": 19,
   "id": "a24c642e-6d0d-4894-844e-0bb81a356697",
   "metadata": {},
   "outputs": [
    {
     "data": {
      "text/plain": [
       "3"
      ]
     },
     "execution_count": 19,
     "metadata": {},
     "output_type": "execute_result"
    }
   ],
   "source": [
    "df[\"size\"].nunique()"
   ]
  },
  {
   "cell_type": "code",
   "execution_count": 20,
   "id": "3ee139d3-422c-4e23-bd1d-dc867753f008",
   "metadata": {},
   "outputs": [
    {
     "data": {
      "text/plain": [
       "array(['small', None, 'medium', 'large'], dtype=object)"
      ]
     },
     "execution_count": 20,
     "metadata": {},
     "output_type": "execute_result"
    }
   ],
   "source": [
    "df[\"size\"].unique()"
   ]
  },
  {
   "cell_type": "code",
   "execution_count": 21,
   "id": "727f9e6f-276c-4cbd-b2cc-50eee4a4175c",
   "metadata": {},
   "outputs": [
    {
     "data": {
      "text/plain": [
       "size\n",
       "medium    3556\n",
       "small     2485\n",
       "large      505\n",
       "None       180\n",
       "Name: count, dtype: int64"
      ]
     },
     "execution_count": 21,
     "metadata": {},
     "output_type": "execute_result"
    }
   ],
   "source": [
    "df[\"size\"].value_counts(dropna=False) # show the Nonesdf."
   ]
  },
  {
   "cell_type": "code",
   "execution_count": 22,
   "id": "af35f788-78a1-4fe0-8486-ee8edbdb164c",
   "metadata": {},
   "outputs": [
    {
     "data": {
      "text/html": [
       "<div>\n",
       "<style scoped>\n",
       "    .dataframe tbody tr th:only-of-type {\n",
       "        vertical-align: middle;\n",
       "    }\n",
       "\n",
       "    .dataframe tbody tr th {\n",
       "        vertical-align: top;\n",
       "    }\n",
       "\n",
       "    .dataframe thead th {\n",
       "        text-align: right;\n",
       "    }\n",
       "</style>\n",
       "<table border=\"1\" class=\"dataframe\">\n",
       "  <thead>\n",
       "    <tr style=\"text-align: right;\">\n",
       "      <th></th>\n",
       "      <th>iata</th>\n",
       "      <th>iso</th>\n",
       "      <th>name</th>\n",
       "      <th>continent</th>\n",
       "      <th>type</th>\n",
       "      <th>lat</th>\n",
       "      <th>lon</th>\n",
       "      <th>size</th>\n",
       "      <th>status</th>\n",
       "    </tr>\n",
       "  </thead>\n",
       "  <tbody>\n",
       "    <tr>\n",
       "      <th>0</th>\n",
       "      <td>UTK</td>\n",
       "      <td>MH</td>\n",
       "      <td>Utirik Airport</td>\n",
       "      <td>OC</td>\n",
       "      <td>airport</td>\n",
       "      <td>11.233333</td>\n",
       "      <td>169.866670</td>\n",
       "      <td>small</td>\n",
       "      <td>1</td>\n",
       "    </tr>\n",
       "    <tr>\n",
       "      <th>4</th>\n",
       "      <td>WKK</td>\n",
       "      <td>US</td>\n",
       "      <td>Aleknagik / New Airport</td>\n",
       "      <td>NA</td>\n",
       "      <td>airport</td>\n",
       "      <td>59.277780</td>\n",
       "      <td>-158.611110</td>\n",
       "      <td>medium</td>\n",
       "      <td>1</td>\n",
       "    </tr>\n",
       "    <tr>\n",
       "      <th>6</th>\n",
       "      <td>FOB</td>\n",
       "      <td>US</td>\n",
       "      <td>Fort Bragg Airport</td>\n",
       "      <td>NA</td>\n",
       "      <td>airport</td>\n",
       "      <td>39.474445</td>\n",
       "      <td>-123.794440</td>\n",
       "      <td>small</td>\n",
       "      <td>1</td>\n",
       "    </tr>\n",
       "    <tr>\n",
       "      <th>7</th>\n",
       "      <td>ABP</td>\n",
       "      <td>PG</td>\n",
       "      <td>Atkamba Airport</td>\n",
       "      <td>OC</td>\n",
       "      <td>airport</td>\n",
       "      <td>-6.066667</td>\n",
       "      <td>141.100000</td>\n",
       "      <td>small</td>\n",
       "      <td>1</td>\n",
       "    </tr>\n",
       "    <tr>\n",
       "      <th>9</th>\n",
       "      <td>ADC</td>\n",
       "      <td>PG</td>\n",
       "      <td>Andakombe Airport</td>\n",
       "      <td>OC</td>\n",
       "      <td>airport</td>\n",
       "      <td>-7.133333</td>\n",
       "      <td>145.733340</td>\n",
       "      <td>small</td>\n",
       "      <td>1</td>\n",
       "    </tr>\n",
       "    <tr>\n",
       "      <th>...</th>\n",
       "      <td>...</td>\n",
       "      <td>...</td>\n",
       "      <td>...</td>\n",
       "      <td>...</td>\n",
       "      <td>...</td>\n",
       "      <td>...</td>\n",
       "      <td>...</td>\n",
       "      <td>...</td>\n",
       "      <td>...</td>\n",
       "    </tr>\n",
       "    <tr>\n",
       "      <th>6721</th>\n",
       "      <td>OHE</td>\n",
       "      <td>CN</td>\n",
       "      <td>Gu-Lian Airport</td>\n",
       "      <td>AS</td>\n",
       "      <td>airport</td>\n",
       "      <td>52.921130</td>\n",
       "      <td>122.420590</td>\n",
       "      <td>medium</td>\n",
       "      <td>1</td>\n",
       "    </tr>\n",
       "    <tr>\n",
       "      <th>6722</th>\n",
       "      <td>NDG</td>\n",
       "      <td>CN</td>\n",
       "      <td>Qiqihar Sanjiazi Airport</td>\n",
       "      <td>AS</td>\n",
       "      <td>airport</td>\n",
       "      <td>47.316666</td>\n",
       "      <td>123.916664</td>\n",
       "      <td>medium</td>\n",
       "      <td>1</td>\n",
       "    </tr>\n",
       "    <tr>\n",
       "      <th>6723</th>\n",
       "      <td>DLC</td>\n",
       "      <td>CN</td>\n",
       "      <td>Zhoushuizi Airport</td>\n",
       "      <td>AS</td>\n",
       "      <td>airport</td>\n",
       "      <td>38.961020</td>\n",
       "      <td>121.539990</td>\n",
       "      <td>large</td>\n",
       "      <td>1</td>\n",
       "    </tr>\n",
       "    <tr>\n",
       "      <th>6724</th>\n",
       "      <td>SHE</td>\n",
       "      <td>CN</td>\n",
       "      <td>Taoxian Airport</td>\n",
       "      <td>AS</td>\n",
       "      <td>airport</td>\n",
       "      <td>41.861084</td>\n",
       "      <td>123.426926</td>\n",
       "      <td>large</td>\n",
       "      <td>1</td>\n",
       "    </tr>\n",
       "    <tr>\n",
       "      <th>6725</th>\n",
       "      <td>YNJ</td>\n",
       "      <td>CN</td>\n",
       "      <td>Yanji Chaoyangchuan Airport</td>\n",
       "      <td>AS</td>\n",
       "      <td>airport</td>\n",
       "      <td>42.885662</td>\n",
       "      <td>129.439360</td>\n",
       "      <td>medium</td>\n",
       "      <td>1</td>\n",
       "    </tr>\n",
       "  </tbody>\n",
       "</table>\n",
       "<p>5896 rows × 9 columns</p>\n",
       "</div>"
      ],
      "text/plain": [
       "     iata iso                         name continent     type        lat  \\\n",
       "0     UTK  MH               Utirik Airport        OC  airport  11.233333   \n",
       "4     WKK  US      Aleknagik / New Airport        NA  airport  59.277780   \n",
       "6     FOB  US           Fort Bragg Airport        NA  airport  39.474445   \n",
       "7     ABP  PG              Atkamba Airport        OC  airport  -6.066667   \n",
       "9     ADC  PG            Andakombe Airport        OC  airport  -7.133333   \n",
       "...   ...  ..                          ...       ...      ...        ...   \n",
       "6721  OHE  CN              Gu-Lian Airport        AS  airport  52.921130   \n",
       "6722  NDG  CN     Qiqihar Sanjiazi Airport        AS  airport  47.316666   \n",
       "6723  DLC  CN           Zhoushuizi Airport        AS  airport  38.961020   \n",
       "6724  SHE  CN              Taoxian Airport        AS  airport  41.861084   \n",
       "6725  YNJ  CN  Yanji Chaoyangchuan Airport        AS  airport  42.885662   \n",
       "\n",
       "             lon    size  status  \n",
       "0     169.866670   small       1  \n",
       "4    -158.611110  medium       1  \n",
       "6    -123.794440   small       1  \n",
       "7     141.100000   small       1  \n",
       "9     145.733340   small       1  \n",
       "...          ...     ...     ...  \n",
       "6721  122.420590  medium       1  \n",
       "6722  123.916664  medium       1  \n",
       "6723  121.539990   large       1  \n",
       "6724  123.426926   large       1  \n",
       "6725  129.439360  medium       1  \n",
       "\n",
       "[5896 rows x 9 columns]"
      ]
     },
     "execution_count": 22,
     "metadata": {},
     "output_type": "execute_result"
    }
   ],
   "source": [
    "df.dropna(axis=0, how=\"any\", inplace=False)"
   ]
  },
  {
   "cell_type": "code",
   "execution_count": 23,
   "id": "24b472ca-ab74-4c16-bc60-21f4b62b6714",
   "metadata": {},
   "outputs": [],
   "source": [
    "df2 = df.dropna(axis=0, how=\"any\", inplace=False)"
   ]
  },
  {
   "cell_type": "code",
   "execution_count": 24,
   "id": "84ea300a-2c1c-413b-a502-c9b30330b218",
   "metadata": {},
   "outputs": [
    {
     "name": "stdout",
     "output_type": "stream",
     "text": [
      "<class 'pandas.core.frame.DataFrame'>\n",
      "Index: 5896 entries, 0 to 6725\n",
      "Data columns (total 9 columns):\n",
      " #   Column     Non-Null Count  Dtype  \n",
      "---  ------     --------------  -----  \n",
      " 0   iata       5896 non-null   object \n",
      " 1   iso        5896 non-null   object \n",
      " 2   name       5896 non-null   object \n",
      " 3   continent  5896 non-null   object \n",
      " 4   type       5896 non-null   object \n",
      " 5   lat        5896 non-null   float64\n",
      " 6   lon        5896 non-null   float64\n",
      " 7   size       5896 non-null   object \n",
      " 8   status     5896 non-null   int64  \n",
      "dtypes: float64(2), int64(1), object(6)\n",
      "memory usage: 460.6+ KB\n"
     ]
    }
   ],
   "source": [
    "df2.info()"
   ]
  },
  {
   "cell_type": "code",
   "execution_count": 25,
   "id": "9dbed14b-d96e-44a8-90f6-e90aa4f11256",
   "metadata": {},
   "outputs": [],
   "source": [
    "import warnings\n",
    "warnings.filterwarnings(\"ignore\", category=UserWarning)"
   ]
  },
  {
   "cell_type": "code",
   "execution_count": 26,
   "id": "c3f34333-685f-4e61-91be-fce1045d1c72",
   "metadata": {},
   "outputs": [],
   "source": [
    "big = df2[(df[\"type\"] == \"airport\") & (df[\"size\"] == \"large\")].reset_index(drop=True)"
   ]
  },
  {
   "cell_type": "code",
   "execution_count": 27,
   "id": "232c0651-a3af-4588-a4da-feea786eb673",
   "metadata": {},
   "outputs": [],
   "source": [
    "medium = df2[(df[\"type\"] == \"airport\") & (df[\"size\"] == \"medium\")].reset_index(drop=True)"
   ]
  },
  {
   "cell_type": "code",
   "execution_count": 28,
   "id": "81c4c052-427b-49fd-95bf-efb1a4e8a808",
   "metadata": {},
   "outputs": [],
   "source": [
    "small = df2[(df[\"type\"] == \"airport\") & (df[\"size\"] == \"small\")].reset_index(drop=True)"
   ]
  },
  {
   "cell_type": "code",
   "execution_count": 29,
   "id": "5a10d22b-543a-428c-a00e-0c61815ff07b",
   "metadata": {},
   "outputs": [
    {
     "data": {
      "text/html": [
       "<div>\n",
       "<style scoped>\n",
       "    .dataframe tbody tr th:only-of-type {\n",
       "        vertical-align: middle;\n",
       "    }\n",
       "\n",
       "    .dataframe tbody tr th {\n",
       "        vertical-align: top;\n",
       "    }\n",
       "\n",
       "    .dataframe thead th {\n",
       "        text-align: right;\n",
       "    }\n",
       "</style>\n",
       "<table border=\"1\" class=\"dataframe\">\n",
       "  <thead>\n",
       "    <tr style=\"text-align: right;\">\n",
       "      <th></th>\n",
       "      <th>iata</th>\n",
       "      <th>iso</th>\n",
       "      <th>name</th>\n",
       "    </tr>\n",
       "  </thead>\n",
       "  <tbody>\n",
       "    <tr>\n",
       "      <th>0</th>\n",
       "      <td>UTK</td>\n",
       "      <td>MH</td>\n",
       "      <td>Utirik Airport</td>\n",
       "    </tr>\n",
       "    <tr>\n",
       "      <th>4</th>\n",
       "      <td>WKK</td>\n",
       "      <td>US</td>\n",
       "      <td>Aleknagik / New Airport</td>\n",
       "    </tr>\n",
       "    <tr>\n",
       "      <th>6</th>\n",
       "      <td>FOB</td>\n",
       "      <td>US</td>\n",
       "      <td>Fort Bragg Airport</td>\n",
       "    </tr>\n",
       "    <tr>\n",
       "      <th>7</th>\n",
       "      <td>ABP</td>\n",
       "      <td>PG</td>\n",
       "      <td>Atkamba Airport</td>\n",
       "    </tr>\n",
       "    <tr>\n",
       "      <th>9</th>\n",
       "      <td>ADC</td>\n",
       "      <td>PG</td>\n",
       "      <td>Andakombe Airport</td>\n",
       "    </tr>\n",
       "    <tr>\n",
       "      <th>...</th>\n",
       "      <td>...</td>\n",
       "      <td>...</td>\n",
       "      <td>...</td>\n",
       "    </tr>\n",
       "    <tr>\n",
       "      <th>6721</th>\n",
       "      <td>OHE</td>\n",
       "      <td>CN</td>\n",
       "      <td>Gu-Lian Airport</td>\n",
       "    </tr>\n",
       "    <tr>\n",
       "      <th>6722</th>\n",
       "      <td>NDG</td>\n",
       "      <td>CN</td>\n",
       "      <td>Qiqihar Sanjiazi Airport</td>\n",
       "    </tr>\n",
       "    <tr>\n",
       "      <th>6723</th>\n",
       "      <td>DLC</td>\n",
       "      <td>CN</td>\n",
       "      <td>Zhoushuizi Airport</td>\n",
       "    </tr>\n",
       "    <tr>\n",
       "      <th>6724</th>\n",
       "      <td>SHE</td>\n",
       "      <td>CN</td>\n",
       "      <td>Taoxian Airport</td>\n",
       "    </tr>\n",
       "    <tr>\n",
       "      <th>6725</th>\n",
       "      <td>YNJ</td>\n",
       "      <td>CN</td>\n",
       "      <td>Yanji Chaoyangchuan Airport</td>\n",
       "    </tr>\n",
       "  </tbody>\n",
       "</table>\n",
       "<p>5896 rows × 3 columns</p>\n",
       "</div>"
      ],
      "text/plain": [
       "     iata iso                         name\n",
       "0     UTK  MH               Utirik Airport\n",
       "4     WKK  US      Aleknagik / New Airport\n",
       "6     FOB  US           Fort Bragg Airport\n",
       "7     ABP  PG              Atkamba Airport\n",
       "9     ADC  PG            Andakombe Airport\n",
       "...   ...  ..                          ...\n",
       "6721  OHE  CN              Gu-Lian Airport\n",
       "6722  NDG  CN     Qiqihar Sanjiazi Airport\n",
       "6723  DLC  CN           Zhoushuizi Airport\n",
       "6724  SHE  CN              Taoxian Airport\n",
       "6725  YNJ  CN  Yanji Chaoyangchuan Airport\n",
       "\n",
       "[5896 rows x 3 columns]"
      ]
     },
     "execution_count": 29,
     "metadata": {},
     "output_type": "execute_result"
    }
   ],
   "source": [
    "df2.loc[:, [\"iata\", \"iso\", \"name\"]]"
   ]
  },
  {
   "cell_type": "code",
   "execution_count": 30,
   "id": "2924b50d-93f1-4e34-bc61-f46c525100df",
   "metadata": {},
   "outputs": [],
   "source": [
    "big = big.loc[:, [\"iata\", \"iso\", \"name\"]]\n",
    "medium = medium.loc[:, [\"iata\", \"iso\", \"name\"]]\n",
    "small = small.loc[:, [\"iata\", \"iso\", \"name\"]]\n",
    "latlong = df2.loc[: , [\"iata\", \"continent\", \"lat\", \"lon\"]]"
   ]
  },
  {
   "cell_type": "code",
   "execution_count": 31,
   "id": "d63b3d8e-91d4-437f-ab35-86b2172d9968",
   "metadata": {},
   "outputs": [
    {
     "name": "stdout",
     "output_type": "stream",
     "text": [
      "<class 'pandas.core.frame.DataFrame'>\n",
      "RangeIndex: 473 entries, 0 to 472\n",
      "Data columns (total 3 columns):\n",
      " #   Column  Non-Null Count  Dtype \n",
      "---  ------  --------------  ----- \n",
      " 0   iata    473 non-null    object\n",
      " 1   iso     473 non-null    object\n",
      " 2   name    473 non-null    object\n",
      "dtypes: object(3)\n",
      "memory usage: 11.2+ KB\n"
     ]
    }
   ],
   "source": [
    "big.info()"
   ]
  },
  {
   "cell_type": "code",
   "execution_count": 32,
   "id": "10d8fc38-b1f6-4dc1-94dc-c3f625a1927b",
   "metadata": {},
   "outputs": [
    {
     "name": "stdout",
     "output_type": "stream",
     "text": [
      "<class 'pandas.core.frame.DataFrame'>\n",
      "RangeIndex: 3222 entries, 0 to 3221\n",
      "Data columns (total 3 columns):\n",
      " #   Column  Non-Null Count  Dtype \n",
      "---  ------  --------------  ----- \n",
      " 0   iata    3222 non-null   object\n",
      " 1   iso     3222 non-null   object\n",
      " 2   name    3222 non-null   object\n",
      "dtypes: object(3)\n",
      "memory usage: 75.6+ KB\n"
     ]
    }
   ],
   "source": [
    "medium.info()"
   ]
  },
  {
   "cell_type": "code",
   "execution_count": 33,
   "id": "a122b532-cea8-40cc-b8f1-b02a58bc95b7",
   "metadata": {},
   "outputs": [
    {
     "name": "stdout",
     "output_type": "stream",
     "text": [
      "<class 'pandas.core.frame.DataFrame'>\n",
      "RangeIndex: 2201 entries, 0 to 2200\n",
      "Data columns (total 3 columns):\n",
      " #   Column  Non-Null Count  Dtype \n",
      "---  ------  --------------  ----- \n",
      " 0   iata    2201 non-null   object\n",
      " 1   iso     2201 non-null   object\n",
      " 2   name    2201 non-null   object\n",
      "dtypes: object(3)\n",
      "memory usage: 51.7+ KB\n"
     ]
    }
   ],
   "source": [
    "small.info()"
   ]
  },
  {
   "cell_type": "code",
   "execution_count": 34,
   "id": "a87018b5-78b2-4281-9d67-fc2c0ab7e8a4",
   "metadata": {},
   "outputs": [
    {
     "name": "stdout",
     "output_type": "stream",
     "text": [
      "<class 'pandas.core.frame.DataFrame'>\n",
      "Index: 5896 entries, 0 to 6725\n",
      "Data columns (total 4 columns):\n",
      " #   Column     Non-Null Count  Dtype  \n",
      "---  ------     --------------  -----  \n",
      " 0   iata       5896 non-null   object \n",
      " 1   continent  5896 non-null   object \n",
      " 2   lat        5896 non-null   float64\n",
      " 3   lon        5896 non-null   float64\n",
      "dtypes: float64(2), object(2)\n",
      "memory usage: 230.3+ KB\n"
     ]
    }
   ],
   "source": [
    "latlong.info()"
   ]
  },
  {
   "cell_type": "code",
   "execution_count": 35,
   "id": "107590f8-d214-4ab9-a3cd-a632019482f5",
   "metadata": {},
   "outputs": [
    {
     "data": {
      "text/html": [
       "<div>\n",
       "<style scoped>\n",
       "    .dataframe tbody tr th:only-of-type {\n",
       "        vertical-align: middle;\n",
       "    }\n",
       "\n",
       "    .dataframe tbody tr th {\n",
       "        vertical-align: top;\n",
       "    }\n",
       "\n",
       "    .dataframe thead th {\n",
       "        text-align: right;\n",
       "    }\n",
       "</style>\n",
       "<table border=\"1\" class=\"dataframe\">\n",
       "  <thead>\n",
       "    <tr style=\"text-align: right;\">\n",
       "      <th></th>\n",
       "      <th>iata</th>\n",
       "      <th>iso</th>\n",
       "      <th>name</th>\n",
       "      <th>continent</th>\n",
       "      <th>lat</th>\n",
       "      <th>lon</th>\n",
       "    </tr>\n",
       "  </thead>\n",
       "  <tbody>\n",
       "    <tr>\n",
       "      <th>71</th>\n",
       "      <td>AAL</td>\n",
       "      <td>DK</td>\n",
       "      <td>Aalborg Airport</td>\n",
       "      <td>EU</td>\n",
       "      <td>57.086550</td>\n",
       "      <td>9.872241</td>\n",
       "    </tr>\n",
       "    <tr>\n",
       "      <th>97</th>\n",
       "      <td>ABQ</td>\n",
       "      <td>US</td>\n",
       "      <td>Albuquerque International Sunport Airport</td>\n",
       "      <td>NA</td>\n",
       "      <td>35.049625</td>\n",
       "      <td>-106.617195</td>\n",
       "    </tr>\n",
       "    <tr>\n",
       "      <th>16</th>\n",
       "      <td>ABV</td>\n",
       "      <td>NG</td>\n",
       "      <td>Nnamdi Azikiwe International Airport</td>\n",
       "      <td>AF</td>\n",
       "      <td>9.004614</td>\n",
       "      <td>7.270447</td>\n",
       "    </tr>\n",
       "    <tr>\n",
       "      <th>54</th>\n",
       "      <td>ABZ</td>\n",
       "      <td>GB</td>\n",
       "      <td>Aberdeen Dyce Airport</td>\n",
       "      <td>EU</td>\n",
       "      <td>57.200253</td>\n",
       "      <td>-2.204186</td>\n",
       "    </tr>\n",
       "    <tr>\n",
       "      <th>298</th>\n",
       "      <td>ACA</td>\n",
       "      <td>MX</td>\n",
       "      <td>General Juan N Alvarez International Airport</td>\n",
       "      <td>NA</td>\n",
       "      <td>16.762403</td>\n",
       "      <td>-99.754590</td>\n",
       "    </tr>\n",
       "    <tr>\n",
       "      <th>...</th>\n",
       "      <td>...</td>\n",
       "      <td>...</td>\n",
       "      <td>...</td>\n",
       "      <td>...</td>\n",
       "      <td>...</td>\n",
       "      <td>...</td>\n",
       "    </tr>\n",
       "    <tr>\n",
       "      <th>10</th>\n",
       "      <td>YXU</td>\n",
       "      <td>CA</td>\n",
       "      <td>London Airport</td>\n",
       "      <td>NA</td>\n",
       "      <td>43.028020</td>\n",
       "      <td>-81.149650</td>\n",
       "    </tr>\n",
       "    <tr>\n",
       "      <th>11</th>\n",
       "      <td>YYC</td>\n",
       "      <td>CA</td>\n",
       "      <td>Calgary International Airport</td>\n",
       "      <td>NA</td>\n",
       "      <td>51.131393</td>\n",
       "      <td>-114.010550</td>\n",
       "    </tr>\n",
       "    <tr>\n",
       "      <th>12</th>\n",
       "      <td>YYJ</td>\n",
       "      <td>CA</td>\n",
       "      <td>Victoria International Airport</td>\n",
       "      <td>NA</td>\n",
       "      <td>48.640266</td>\n",
       "      <td>-123.430960</td>\n",
       "    </tr>\n",
       "    <tr>\n",
       "      <th>13</th>\n",
       "      <td>YYZ</td>\n",
       "      <td>CA</td>\n",
       "      <td>Lester B. Pearson International Airport</td>\n",
       "      <td>NA</td>\n",
       "      <td>43.681583</td>\n",
       "      <td>-79.611460</td>\n",
       "    </tr>\n",
       "    <tr>\n",
       "      <th>242</th>\n",
       "      <td>ZAG</td>\n",
       "      <td>HR</td>\n",
       "      <td>Zagreb Airport</td>\n",
       "      <td>EU</td>\n",
       "      <td>45.733242</td>\n",
       "      <td>16.061520</td>\n",
       "    </tr>\n",
       "  </tbody>\n",
       "</table>\n",
       "<p>475 rows × 6 columns</p>\n",
       "</div>"
      ],
      "text/plain": [
       "    iata iso                                          name continent  \\\n",
       "71   AAL  DK                               Aalborg Airport        EU   \n",
       "97   ABQ  US     Albuquerque International Sunport Airport        NA   \n",
       "16   ABV  NG          Nnamdi Azikiwe International Airport        AF   \n",
       "54   ABZ  GB                         Aberdeen Dyce Airport        EU   \n",
       "298  ACA  MX  General Juan N Alvarez International Airport        NA   \n",
       "..   ...  ..                                           ...       ...   \n",
       "10   YXU  CA                                London Airport        NA   \n",
       "11   YYC  CA                 Calgary International Airport        NA   \n",
       "12   YYJ  CA                Victoria International Airport        NA   \n",
       "13   YYZ  CA       Lester B. Pearson International Airport        NA   \n",
       "242  ZAG  HR                                Zagreb Airport        EU   \n",
       "\n",
       "           lat         lon  \n",
       "71   57.086550    9.872241  \n",
       "97   35.049625 -106.617195  \n",
       "16    9.004614    7.270447  \n",
       "54   57.200253   -2.204186  \n",
       "298  16.762403  -99.754590  \n",
       "..         ...         ...  \n",
       "10   43.028020  -81.149650  \n",
       "11   51.131393 -114.010550  \n",
       "12   48.640266 -123.430960  \n",
       "13   43.681583  -79.611460  \n",
       "242  45.733242   16.061520  \n",
       "\n",
       "[475 rows x 6 columns]"
      ]
     },
     "execution_count": 35,
     "metadata": {},
     "output_type": "execute_result"
    }
   ],
   "source": [
    "big.join(latlong.set_index(\"iata\"), on=\"iata\", how=\"inner\", sort=True) # right index set to iata"
   ]
  },
  {
   "cell_type": "code",
   "execution_count": 36,
   "id": "ccdeed70-9f80-4a3d-bbc3-8e62762d3635",
   "metadata": {},
   "outputs": [
    {
     "data": {
      "text/html": [
       "<div>\n",
       "<style scoped>\n",
       "    .dataframe tbody tr th:only-of-type {\n",
       "        vertical-align: middle;\n",
       "    }\n",
       "\n",
       "    .dataframe tbody tr th {\n",
       "        vertical-align: top;\n",
       "    }\n",
       "\n",
       "    .dataframe thead th {\n",
       "        text-align: right;\n",
       "    }\n",
       "</style>\n",
       "<table border=\"1\" class=\"dataframe\">\n",
       "  <thead>\n",
       "    <tr style=\"text-align: right;\">\n",
       "      <th></th>\n",
       "      <th>iata</th>\n",
       "      <th>iso</th>\n",
       "      <th>name</th>\n",
       "      <th>continent</th>\n",
       "      <th>lat</th>\n",
       "      <th>lon</th>\n",
       "    </tr>\n",
       "  </thead>\n",
       "  <tbody>\n",
       "    <tr>\n",
       "      <th>0</th>\n",
       "      <td>AAL</td>\n",
       "      <td>DK</td>\n",
       "      <td>Aalborg Airport</td>\n",
       "      <td>EU</td>\n",
       "      <td>57.086550</td>\n",
       "      <td>9.872241</td>\n",
       "    </tr>\n",
       "    <tr>\n",
       "      <th>1</th>\n",
       "      <td>ABQ</td>\n",
       "      <td>US</td>\n",
       "      <td>Albuquerque International Sunport Airport</td>\n",
       "      <td>NA</td>\n",
       "      <td>35.049625</td>\n",
       "      <td>-106.617195</td>\n",
       "    </tr>\n",
       "    <tr>\n",
       "      <th>2</th>\n",
       "      <td>ABV</td>\n",
       "      <td>NG</td>\n",
       "      <td>Nnamdi Azikiwe International Airport</td>\n",
       "      <td>AF</td>\n",
       "      <td>9.004614</td>\n",
       "      <td>7.270447</td>\n",
       "    </tr>\n",
       "    <tr>\n",
       "      <th>3</th>\n",
       "      <td>ABZ</td>\n",
       "      <td>GB</td>\n",
       "      <td>Aberdeen Dyce Airport</td>\n",
       "      <td>EU</td>\n",
       "      <td>57.200253</td>\n",
       "      <td>-2.204186</td>\n",
       "    </tr>\n",
       "    <tr>\n",
       "      <th>4</th>\n",
       "      <td>ACA</td>\n",
       "      <td>MX</td>\n",
       "      <td>General Juan N Alvarez International Airport</td>\n",
       "      <td>NA</td>\n",
       "      <td>16.762403</td>\n",
       "      <td>-99.754590</td>\n",
       "    </tr>\n",
       "    <tr>\n",
       "      <th>...</th>\n",
       "      <td>...</td>\n",
       "      <td>...</td>\n",
       "      <td>...</td>\n",
       "      <td>...</td>\n",
       "      <td>...</td>\n",
       "      <td>...</td>\n",
       "    </tr>\n",
       "    <tr>\n",
       "      <th>470</th>\n",
       "      <td>YXU</td>\n",
       "      <td>CA</td>\n",
       "      <td>London Airport</td>\n",
       "      <td>NA</td>\n",
       "      <td>43.028020</td>\n",
       "      <td>-81.149650</td>\n",
       "    </tr>\n",
       "    <tr>\n",
       "      <th>471</th>\n",
       "      <td>YYC</td>\n",
       "      <td>CA</td>\n",
       "      <td>Calgary International Airport</td>\n",
       "      <td>NA</td>\n",
       "      <td>51.131393</td>\n",
       "      <td>-114.010550</td>\n",
       "    </tr>\n",
       "    <tr>\n",
       "      <th>472</th>\n",
       "      <td>YYJ</td>\n",
       "      <td>CA</td>\n",
       "      <td>Victoria International Airport</td>\n",
       "      <td>NA</td>\n",
       "      <td>48.640266</td>\n",
       "      <td>-123.430960</td>\n",
       "    </tr>\n",
       "    <tr>\n",
       "      <th>473</th>\n",
       "      <td>YYZ</td>\n",
       "      <td>CA</td>\n",
       "      <td>Lester B. Pearson International Airport</td>\n",
       "      <td>NA</td>\n",
       "      <td>43.681583</td>\n",
       "      <td>-79.611460</td>\n",
       "    </tr>\n",
       "    <tr>\n",
       "      <th>474</th>\n",
       "      <td>ZAG</td>\n",
       "      <td>HR</td>\n",
       "      <td>Zagreb Airport</td>\n",
       "      <td>EU</td>\n",
       "      <td>45.733242</td>\n",
       "      <td>16.061520</td>\n",
       "    </tr>\n",
       "  </tbody>\n",
       "</table>\n",
       "<p>475 rows × 6 columns</p>\n",
       "</div>"
      ],
      "text/plain": [
       "    iata iso                                          name continent  \\\n",
       "0    AAL  DK                               Aalborg Airport        EU   \n",
       "1    ABQ  US     Albuquerque International Sunport Airport        NA   \n",
       "2    ABV  NG          Nnamdi Azikiwe International Airport        AF   \n",
       "3    ABZ  GB                         Aberdeen Dyce Airport        EU   \n",
       "4    ACA  MX  General Juan N Alvarez International Airport        NA   \n",
       "..   ...  ..                                           ...       ...   \n",
       "470  YXU  CA                                London Airport        NA   \n",
       "471  YYC  CA                 Calgary International Airport        NA   \n",
       "472  YYJ  CA                Victoria International Airport        NA   \n",
       "473  YYZ  CA       Lester B. Pearson International Airport        NA   \n",
       "474  ZAG  HR                                Zagreb Airport        EU   \n",
       "\n",
       "           lat         lon  \n",
       "0    57.086550    9.872241  \n",
       "1    35.049625 -106.617195  \n",
       "2     9.004614    7.270447  \n",
       "3    57.200253   -2.204186  \n",
       "4    16.762403  -99.754590  \n",
       "..         ...         ...  \n",
       "470  43.028020  -81.149650  \n",
       "471  51.131393 -114.010550  \n",
       "472  48.640266 -123.430960  \n",
       "473  43.681583  -79.611460  \n",
       "474  45.733242   16.061520  \n",
       "\n",
       "[475 rows x 6 columns]"
      ]
     },
     "execution_count": 36,
     "metadata": {},
     "output_type": "execute_result"
    }
   ],
   "source": [
    "pd.merge(big, latlong, how='left', on='iata', sort=True)"
   ]
  },
  {
   "cell_type": "code",
   "execution_count": 37,
   "id": "ba249d11-64da-4ac8-a8ad-70afe0d89156",
   "metadata": {},
   "outputs": [
    {
     "data": {
      "text/html": [
       "<div>\n",
       "<style scoped>\n",
       "    .dataframe tbody tr th:only-of-type {\n",
       "        vertical-align: middle;\n",
       "    }\n",
       "\n",
       "    .dataframe tbody tr th {\n",
       "        vertical-align: top;\n",
       "    }\n",
       "\n",
       "    .dataframe thead th {\n",
       "        text-align: right;\n",
       "    }\n",
       "</style>\n",
       "<table border=\"1\" class=\"dataframe\">\n",
       "  <thead>\n",
       "    <tr style=\"text-align: right;\">\n",
       "      <th></th>\n",
       "      <th>iata</th>\n",
       "      <th>iso</th>\n",
       "      <th>name</th>\n",
       "    </tr>\n",
       "  </thead>\n",
       "  <tbody>\n",
       "    <tr>\n",
       "      <th>421</th>\n",
       "      <td>HYD</td>\n",
       "      <td>IN</td>\n",
       "      <td>Rajiv Gandhi Airport</td>\n",
       "    </tr>\n",
       "  </tbody>\n",
       "</table>\n",
       "</div>"
      ],
      "text/plain": [
       "    iata iso                  name\n",
       "421  HYD  IN  Rajiv Gandhi Airport"
      ]
     },
     "execution_count": 37,
     "metadata": {},
     "output_type": "execute_result"
    }
   ],
   "source": [
    "big[big.duplicated('iata')]"
   ]
  },
  {
   "cell_type": "code",
   "execution_count": 38,
   "id": "2fb742fa-3587-4fe4-965b-76702d8c0ec6",
   "metadata": {},
   "outputs": [
    {
     "data": {
      "text/html": [
       "<div>\n",
       "<style scoped>\n",
       "    .dataframe tbody tr th:only-of-type {\n",
       "        vertical-align: middle;\n",
       "    }\n",
       "\n",
       "    .dataframe tbody tr th {\n",
       "        vertical-align: top;\n",
       "    }\n",
       "\n",
       "    .dataframe thead th {\n",
       "        text-align: right;\n",
       "    }\n",
       "</style>\n",
       "<table border=\"1\" class=\"dataframe\">\n",
       "  <thead>\n",
       "    <tr style=\"text-align: right;\">\n",
       "      <th></th>\n",
       "      <th>iata</th>\n",
       "      <th>iso</th>\n",
       "      <th>name</th>\n",
       "    </tr>\n",
       "  </thead>\n",
       "  <tbody>\n",
       "    <tr>\n",
       "      <th>419</th>\n",
       "      <td>HYD</td>\n",
       "      <td>IN</td>\n",
       "      <td>Rajiv Gandhi International Airport, Shamshabad</td>\n",
       "    </tr>\n",
       "    <tr>\n",
       "      <th>421</th>\n",
       "      <td>HYD</td>\n",
       "      <td>IN</td>\n",
       "      <td>Rajiv Gandhi Airport</td>\n",
       "    </tr>\n",
       "  </tbody>\n",
       "</table>\n",
       "</div>"
      ],
      "text/plain": [
       "    iata iso                                            name\n",
       "419  HYD  IN  Rajiv Gandhi International Airport, Shamshabad\n",
       "421  HYD  IN                            Rajiv Gandhi Airport"
      ]
     },
     "execution_count": 38,
     "metadata": {},
     "output_type": "execute_result"
    }
   ],
   "source": [
    "big[big.iata == \"HYD\"]"
   ]
  },
  {
   "cell_type": "code",
   "execution_count": 39,
   "id": "e97317d9-8d18-4f7d-8f16-103b2d08e08b",
   "metadata": {},
   "outputs": [
    {
     "name": "stdout",
     "output_type": "stream",
     "text": [
      "<class 'pandas.core.frame.DataFrame'>\n",
      "RangeIndex: 473 entries, 0 to 472\n",
      "Data columns (total 3 columns):\n",
      " #   Column  Non-Null Count  Dtype \n",
      "---  ------  --------------  ----- \n",
      " 0   iata    473 non-null    object\n",
      " 1   iso     473 non-null    object\n",
      " 2   name    473 non-null    object\n",
      "dtypes: object(3)\n",
      "memory usage: 11.2+ KB\n"
     ]
    }
   ],
   "source": [
    "big.info()"
   ]
  },
  {
   "cell_type": "code",
   "execution_count": 40,
   "id": "31e8232e-78a6-4dbe-964f-63430a10b677",
   "metadata": {},
   "outputs": [],
   "source": [
    "big = big.drop(index=421)"
   ]
  },
  {
   "cell_type": "code",
   "execution_count": 41,
   "id": "3c2e94ab-35f2-4d0a-96e4-258359ef1702",
   "metadata": {},
   "outputs": [
    {
     "name": "stdout",
     "output_type": "stream",
     "text": [
      "<class 'pandas.core.frame.DataFrame'>\n",
      "Index: 472 entries, 0 to 472\n",
      "Data columns (total 3 columns):\n",
      " #   Column  Non-Null Count  Dtype \n",
      "---  ------  --------------  ----- \n",
      " 0   iata    472 non-null    object\n",
      " 1   iso     472 non-null    object\n",
      " 2   name    472 non-null    object\n",
      "dtypes: object(3)\n",
      "memory usage: 14.8+ KB\n"
     ]
    }
   ],
   "source": [
    "big.info()"
   ]
  },
  {
   "cell_type": "code",
   "execution_count": 42,
   "id": "b298b64c-394c-4c8f-b205-38665f0a528f",
   "metadata": {},
   "outputs": [
    {
     "data": {
      "text/plain": [
       "23584"
      ]
     },
     "execution_count": 42,
     "metadata": {},
     "output_type": "execute_result"
    }
   ],
   "source": [
    "latlong.size"
   ]
  },
  {
   "cell_type": "code",
   "execution_count": 43,
   "id": "63444476-ac4f-4ba7-b0d9-160b4d513c86",
   "metadata": {},
   "outputs": [
    {
     "data": {
      "text/plain": [
       "0        True\n",
       "4        True\n",
       "6        True\n",
       "7        True\n",
       "9        True\n",
       "        ...  \n",
       "6721    False\n",
       "6722     True\n",
       "6723     True\n",
       "6724     True\n",
       "6725     True\n",
       "Length: 5896, dtype: bool"
      ]
     },
     "execution_count": 43,
     "metadata": {},
     "output_type": "execute_result"
    }
   ],
   "source": [
    "latlong.duplicated('iata')==False"
   ]
  },
  {
   "cell_type": "code",
   "execution_count": 44,
   "id": "89b1528f-5a3c-49ec-acba-c79e03a61318",
   "metadata": {},
   "outputs": [],
   "source": [
    "df3 = latlong[latlong.duplicated()==False]"
   ]
  },
  {
   "cell_type": "code",
   "execution_count": 45,
   "id": "8d112c14-903d-4fec-a649-dc8913bbbe09",
   "metadata": {},
   "outputs": [
    {
     "data": {
      "text/html": [
       "<div>\n",
       "<style scoped>\n",
       "    .dataframe tbody tr th:only-of-type {\n",
       "        vertical-align: middle;\n",
       "    }\n",
       "\n",
       "    .dataframe tbody tr th {\n",
       "        vertical-align: top;\n",
       "    }\n",
       "\n",
       "    .dataframe thead th {\n",
       "        text-align: right;\n",
       "    }\n",
       "</style>\n",
       "<table border=\"1\" class=\"dataframe\">\n",
       "  <thead>\n",
       "    <tr style=\"text-align: right;\">\n",
       "      <th></th>\n",
       "      <th>iata</th>\n",
       "      <th>continent</th>\n",
       "      <th>lat</th>\n",
       "      <th>lon</th>\n",
       "    </tr>\n",
       "  </thead>\n",
       "  <tbody>\n",
       "    <tr>\n",
       "      <th>0</th>\n",
       "      <td>UTK</td>\n",
       "      <td>OC</td>\n",
       "      <td>11.233333</td>\n",
       "      <td>169.866670</td>\n",
       "    </tr>\n",
       "    <tr>\n",
       "      <th>4</th>\n",
       "      <td>WKK</td>\n",
       "      <td>NA</td>\n",
       "      <td>59.277780</td>\n",
       "      <td>-158.611110</td>\n",
       "    </tr>\n",
       "    <tr>\n",
       "      <th>6</th>\n",
       "      <td>FOB</td>\n",
       "      <td>NA</td>\n",
       "      <td>39.474445</td>\n",
       "      <td>-123.794440</td>\n",
       "    </tr>\n",
       "    <tr>\n",
       "      <th>7</th>\n",
       "      <td>ABP</td>\n",
       "      <td>OC</td>\n",
       "      <td>-6.066667</td>\n",
       "      <td>141.100000</td>\n",
       "    </tr>\n",
       "    <tr>\n",
       "      <th>9</th>\n",
       "      <td>ADC</td>\n",
       "      <td>OC</td>\n",
       "      <td>-7.133333</td>\n",
       "      <td>145.733340</td>\n",
       "    </tr>\n",
       "    <tr>\n",
       "      <th>...</th>\n",
       "      <td>...</td>\n",
       "      <td>...</td>\n",
       "      <td>...</td>\n",
       "      <td>...</td>\n",
       "    </tr>\n",
       "    <tr>\n",
       "      <th>6720</th>\n",
       "      <td>MDG</td>\n",
       "      <td>AS</td>\n",
       "      <td>44.534943</td>\n",
       "      <td>129.583850</td>\n",
       "    </tr>\n",
       "    <tr>\n",
       "      <th>6722</th>\n",
       "      <td>NDG</td>\n",
       "      <td>AS</td>\n",
       "      <td>47.316666</td>\n",
       "      <td>123.916664</td>\n",
       "    </tr>\n",
       "    <tr>\n",
       "      <th>6723</th>\n",
       "      <td>DLC</td>\n",
       "      <td>AS</td>\n",
       "      <td>38.961020</td>\n",
       "      <td>121.539990</td>\n",
       "    </tr>\n",
       "    <tr>\n",
       "      <th>6724</th>\n",
       "      <td>SHE</td>\n",
       "      <td>AS</td>\n",
       "      <td>41.861084</td>\n",
       "      <td>123.426926</td>\n",
       "    </tr>\n",
       "    <tr>\n",
       "      <th>6725</th>\n",
       "      <td>YNJ</td>\n",
       "      <td>AS</td>\n",
       "      <td>42.885662</td>\n",
       "      <td>129.439360</td>\n",
       "    </tr>\n",
       "  </tbody>\n",
       "</table>\n",
       "<p>5857 rows × 4 columns</p>\n",
       "</div>"
      ],
      "text/plain": [
       "     iata continent        lat         lon\n",
       "0     UTK        OC  11.233333  169.866670\n",
       "4     WKK        NA  59.277780 -158.611110\n",
       "6     FOB        NA  39.474445 -123.794440\n",
       "7     ABP        OC  -6.066667  141.100000\n",
       "9     ADC        OC  -7.133333  145.733340\n",
       "...   ...       ...        ...         ...\n",
       "6720  MDG        AS  44.534943  129.583850\n",
       "6722  NDG        AS  47.316666  123.916664\n",
       "6723  DLC        AS  38.961020  121.539990\n",
       "6724  SHE        AS  41.861084  123.426926\n",
       "6725  YNJ        AS  42.885662  129.439360\n",
       "\n",
       "[5857 rows x 4 columns]"
      ]
     },
     "execution_count": 45,
     "metadata": {},
     "output_type": "execute_result"
    }
   ],
   "source": [
    "df3"
   ]
  },
  {
   "cell_type": "code",
   "execution_count": 46,
   "id": "f4cd6602-9979-436c-b447-2201434ecab2",
   "metadata": {},
   "outputs": [
    {
     "data": {
      "text/plain": [
       "False    5857\n",
       "Name: count, dtype: int64"
      ]
     },
     "execution_count": 46,
     "metadata": {},
     "output_type": "execute_result"
    }
   ],
   "source": [
    "df3.duplicated().value_counts()"
   ]
  },
  {
   "cell_type": "code",
   "execution_count": 47,
   "id": "7a406201-da26-4b40-8b7b-e5d8960d41a0",
   "metadata": {},
   "outputs": [
    {
     "data": {
      "text/html": [
       "<div>\n",
       "<style scoped>\n",
       "    .dataframe tbody tr th:only-of-type {\n",
       "        vertical-align: middle;\n",
       "    }\n",
       "\n",
       "    .dataframe tbody tr th {\n",
       "        vertical-align: top;\n",
       "    }\n",
       "\n",
       "    .dataframe thead th {\n",
       "        text-align: right;\n",
       "    }\n",
       "</style>\n",
       "<table border=\"1\" class=\"dataframe\">\n",
       "  <thead>\n",
       "    <tr style=\"text-align: right;\">\n",
       "      <th></th>\n",
       "      <th>iata</th>\n",
       "      <th>continent</th>\n",
       "      <th>lat</th>\n",
       "      <th>lon</th>\n",
       "    </tr>\n",
       "  </thead>\n",
       "  <tbody>\n",
       "    <tr>\n",
       "      <th>315</th>\n",
       "      <td>YAX</td>\n",
       "      <td>NA</td>\n",
       "      <td>53.251945</td>\n",
       "      <td>-89.565</td>\n",
       "    </tr>\n",
       "  </tbody>\n",
       "</table>\n",
       "</div>"
      ],
      "text/plain": [
       "    iata continent        lat     lon\n",
       "315  YAX        NA  53.251945 -89.565"
      ]
     },
     "execution_count": 47,
     "metadata": {},
     "output_type": "execute_result"
    }
   ],
   "source": [
    "df3[df3.iata == 'YAX']"
   ]
  },
  {
   "cell_type": "code",
   "execution_count": 48,
   "id": "903aea2a-8483-4843-8f9b-7c00eb96f907",
   "metadata": {},
   "outputs": [
    {
     "data": {
      "text/html": [
       "<div>\n",
       "<style scoped>\n",
       "    .dataframe tbody tr th:only-of-type {\n",
       "        vertical-align: middle;\n",
       "    }\n",
       "\n",
       "    .dataframe tbody tr th {\n",
       "        vertical-align: top;\n",
       "    }\n",
       "\n",
       "    .dataframe thead th {\n",
       "        text-align: right;\n",
       "    }\n",
       "</style>\n",
       "<table border=\"1\" class=\"dataframe\">\n",
       "  <thead>\n",
       "    <tr style=\"text-align: right;\">\n",
       "      <th></th>\n",
       "      <th>iata</th>\n",
       "      <th>iso</th>\n",
       "      <th>name</th>\n",
       "      <th>continent</th>\n",
       "      <th>lat</th>\n",
       "      <th>lon</th>\n",
       "    </tr>\n",
       "  </thead>\n",
       "  <tbody>\n",
       "    <tr>\n",
       "      <th>0</th>\n",
       "      <td>AAL</td>\n",
       "      <td>DK</td>\n",
       "      <td>Aalborg Airport</td>\n",
       "      <td>EU</td>\n",
       "      <td>57.086550</td>\n",
       "      <td>9.872241</td>\n",
       "    </tr>\n",
       "    <tr>\n",
       "      <th>1</th>\n",
       "      <td>ABQ</td>\n",
       "      <td>US</td>\n",
       "      <td>Albuquerque International Sunport Airport</td>\n",
       "      <td>NA</td>\n",
       "      <td>35.049625</td>\n",
       "      <td>-106.617195</td>\n",
       "    </tr>\n",
       "    <tr>\n",
       "      <th>2</th>\n",
       "      <td>ABV</td>\n",
       "      <td>NG</td>\n",
       "      <td>Nnamdi Azikiwe International Airport</td>\n",
       "      <td>AF</td>\n",
       "      <td>9.004614</td>\n",
       "      <td>7.270447</td>\n",
       "    </tr>\n",
       "    <tr>\n",
       "      <th>3</th>\n",
       "      <td>ABZ</td>\n",
       "      <td>GB</td>\n",
       "      <td>Aberdeen Dyce Airport</td>\n",
       "      <td>EU</td>\n",
       "      <td>57.200253</td>\n",
       "      <td>-2.204186</td>\n",
       "    </tr>\n",
       "    <tr>\n",
       "      <th>4</th>\n",
       "      <td>ACA</td>\n",
       "      <td>MX</td>\n",
       "      <td>General Juan N Alvarez International Airport</td>\n",
       "      <td>NA</td>\n",
       "      <td>16.762403</td>\n",
       "      <td>-99.754590</td>\n",
       "    </tr>\n",
       "    <tr>\n",
       "      <th>...</th>\n",
       "      <td>...</td>\n",
       "      <td>...</td>\n",
       "      <td>...</td>\n",
       "      <td>...</td>\n",
       "      <td>...</td>\n",
       "      <td>...</td>\n",
       "    </tr>\n",
       "    <tr>\n",
       "      <th>467</th>\n",
       "      <td>YXU</td>\n",
       "      <td>CA</td>\n",
       "      <td>London Airport</td>\n",
       "      <td>NA</td>\n",
       "      <td>43.028020</td>\n",
       "      <td>-81.149650</td>\n",
       "    </tr>\n",
       "    <tr>\n",
       "      <th>468</th>\n",
       "      <td>YYC</td>\n",
       "      <td>CA</td>\n",
       "      <td>Calgary International Airport</td>\n",
       "      <td>NA</td>\n",
       "      <td>51.131393</td>\n",
       "      <td>-114.010550</td>\n",
       "    </tr>\n",
       "    <tr>\n",
       "      <th>469</th>\n",
       "      <td>YYJ</td>\n",
       "      <td>CA</td>\n",
       "      <td>Victoria International Airport</td>\n",
       "      <td>NA</td>\n",
       "      <td>48.640266</td>\n",
       "      <td>-123.430960</td>\n",
       "    </tr>\n",
       "    <tr>\n",
       "      <th>470</th>\n",
       "      <td>YYZ</td>\n",
       "      <td>CA</td>\n",
       "      <td>Lester B. Pearson International Airport</td>\n",
       "      <td>NA</td>\n",
       "      <td>43.681583</td>\n",
       "      <td>-79.611460</td>\n",
       "    </tr>\n",
       "    <tr>\n",
       "      <th>471</th>\n",
       "      <td>ZAG</td>\n",
       "      <td>HR</td>\n",
       "      <td>Zagreb Airport</td>\n",
       "      <td>EU</td>\n",
       "      <td>45.733242</td>\n",
       "      <td>16.061520</td>\n",
       "    </tr>\n",
       "  </tbody>\n",
       "</table>\n",
       "<p>472 rows × 6 columns</p>\n",
       "</div>"
      ],
      "text/plain": [
       "    iata iso                                          name continent  \\\n",
       "0    AAL  DK                               Aalborg Airport        EU   \n",
       "1    ABQ  US     Albuquerque International Sunport Airport        NA   \n",
       "2    ABV  NG          Nnamdi Azikiwe International Airport        AF   \n",
       "3    ABZ  GB                         Aberdeen Dyce Airport        EU   \n",
       "4    ACA  MX  General Juan N Alvarez International Airport        NA   \n",
       "..   ...  ..                                           ...       ...   \n",
       "467  YXU  CA                                London Airport        NA   \n",
       "468  YYC  CA                 Calgary International Airport        NA   \n",
       "469  YYJ  CA                Victoria International Airport        NA   \n",
       "470  YYZ  CA       Lester B. Pearson International Airport        NA   \n",
       "471  ZAG  HR                                Zagreb Airport        EU   \n",
       "\n",
       "           lat         lon  \n",
       "0    57.086550    9.872241  \n",
       "1    35.049625 -106.617195  \n",
       "2     9.004614    7.270447  \n",
       "3    57.200253   -2.204186  \n",
       "4    16.762403  -99.754590  \n",
       "..         ...         ...  \n",
       "467  43.028020  -81.149650  \n",
       "468  51.131393 -114.010550  \n",
       "469  48.640266 -123.430960  \n",
       "470  43.681583  -79.611460  \n",
       "471  45.733242   16.061520  \n",
       "\n",
       "[472 rows x 6 columns]"
      ]
     },
     "execution_count": 48,
     "metadata": {},
     "output_type": "execute_result"
    }
   ],
   "source": [
    "big_airports = pd.merge(big, df3, how='left', on='iata', sort=True)\n",
    "big_airports"
   ]
  },
  {
   "cell_type": "code",
   "execution_count": 49,
   "id": "d121cd99-2b94-4014-990d-78d4ba33f890",
   "metadata": {},
   "outputs": [
    {
     "data": {
      "text/html": [
       "<div>\n",
       "<style scoped>\n",
       "    .dataframe tbody tr th:only-of-type {\n",
       "        vertical-align: middle;\n",
       "    }\n",
       "\n",
       "    .dataframe tbody tr th {\n",
       "        vertical-align: top;\n",
       "    }\n",
       "\n",
       "    .dataframe thead th {\n",
       "        text-align: right;\n",
       "    }\n",
       "</style>\n",
       "<table border=\"1\" class=\"dataframe\">\n",
       "  <thead>\n",
       "    <tr style=\"text-align: right;\">\n",
       "      <th></th>\n",
       "      <th>iata</th>\n",
       "      <th>iso</th>\n",
       "      <th>name</th>\n",
       "    </tr>\n",
       "  </thead>\n",
       "  <tbody>\n",
       "    <tr>\n",
       "      <th>0</th>\n",
       "      <td>TJP</td>\n",
       "      <td>PR</td>\n",
       "      <td>Areopuerto Internacional Michael Gonzalez</td>\n",
       "    </tr>\n",
       "    <tr>\n",
       "      <th>1</th>\n",
       "      <td>POM</td>\n",
       "      <td>PG</td>\n",
       "      <td>Port Moresby Jacksons International Airport</td>\n",
       "    </tr>\n",
       "    <tr>\n",
       "      <th>2</th>\n",
       "      <td>KEF</td>\n",
       "      <td>IS</td>\n",
       "      <td>Keflavik International Airport</td>\n",
       "    </tr>\n",
       "    <tr>\n",
       "      <th>3</th>\n",
       "      <td>YEG</td>\n",
       "      <td>CA</td>\n",
       "      <td>Edmonton International Airport</td>\n",
       "    </tr>\n",
       "    <tr>\n",
       "      <th>4</th>\n",
       "      <td>YHZ</td>\n",
       "      <td>CA</td>\n",
       "      <td>Halifax / Stanfield International Airport</td>\n",
       "    </tr>\n",
       "    <tr>\n",
       "      <th>...</th>\n",
       "      <td>...</td>\n",
       "      <td>...</td>\n",
       "      <td>...</td>\n",
       "    </tr>\n",
       "    <tr>\n",
       "      <th>468</th>\n",
       "      <td>KWE</td>\n",
       "      <td>CN</td>\n",
       "      <td>Longdongbao Airport</td>\n",
       "    </tr>\n",
       "    <tr>\n",
       "      <th>469</th>\n",
       "      <td>CTU</td>\n",
       "      <td>CN</td>\n",
       "      <td>Chengdu Shuangliu International Airport</td>\n",
       "    </tr>\n",
       "    <tr>\n",
       "      <th>470</th>\n",
       "      <td>HRB</td>\n",
       "      <td>CN</td>\n",
       "      <td>Taiping Airport</td>\n",
       "    </tr>\n",
       "    <tr>\n",
       "      <th>471</th>\n",
       "      <td>DLC</td>\n",
       "      <td>CN</td>\n",
       "      <td>Zhoushuizi Airport</td>\n",
       "    </tr>\n",
       "    <tr>\n",
       "      <th>472</th>\n",
       "      <td>SHE</td>\n",
       "      <td>CN</td>\n",
       "      <td>Taoxian Airport</td>\n",
       "    </tr>\n",
       "  </tbody>\n",
       "</table>\n",
       "<p>472 rows × 3 columns</p>\n",
       "</div>"
      ],
      "text/plain": [
       "    iata iso                                         name\n",
       "0    TJP  PR    Areopuerto Internacional Michael Gonzalez\n",
       "1    POM  PG  Port Moresby Jacksons International Airport\n",
       "2    KEF  IS               Keflavik International Airport\n",
       "3    YEG  CA               Edmonton International Airport\n",
       "4    YHZ  CA    Halifax / Stanfield International Airport\n",
       "..   ...  ..                                          ...\n",
       "468  KWE  CN                          Longdongbao Airport\n",
       "469  CTU  CN      Chengdu Shuangliu International Airport\n",
       "470  HRB  CN                              Taiping Airport\n",
       "471  DLC  CN                           Zhoushuizi Airport\n",
       "472  SHE  CN                              Taoxian Airport\n",
       "\n",
       "[472 rows x 3 columns]"
      ]
     },
     "execution_count": 49,
     "metadata": {},
     "output_type": "execute_result"
    }
   ],
   "source": [
    "big"
   ]
  },
  {
   "cell_type": "code",
   "execution_count": 50,
   "id": "34639906-d61a-4d86-bf29-dad73c19a965",
   "metadata": {},
   "outputs": [
    {
     "data": {
      "text/html": [
       "<div>\n",
       "<style scoped>\n",
       "    .dataframe tbody tr th:only-of-type {\n",
       "        vertical-align: middle;\n",
       "    }\n",
       "\n",
       "    .dataframe tbody tr th {\n",
       "        vertical-align: top;\n",
       "    }\n",
       "\n",
       "    .dataframe thead th {\n",
       "        text-align: right;\n",
       "    }\n",
       "</style>\n",
       "<table border=\"1\" class=\"dataframe\">\n",
       "  <thead>\n",
       "    <tr style=\"text-align: right;\">\n",
       "      <th></th>\n",
       "      <th>iata</th>\n",
       "      <th>continent</th>\n",
       "      <th>lat</th>\n",
       "      <th>lon</th>\n",
       "    </tr>\n",
       "  </thead>\n",
       "  <tbody>\n",
       "    <tr>\n",
       "      <th>0</th>\n",
       "      <td>UTK</td>\n",
       "      <td>OC</td>\n",
       "      <td>11.233333</td>\n",
       "      <td>169.866670</td>\n",
       "    </tr>\n",
       "    <tr>\n",
       "      <th>4</th>\n",
       "      <td>WKK</td>\n",
       "      <td>NA</td>\n",
       "      <td>59.277780</td>\n",
       "      <td>-158.611110</td>\n",
       "    </tr>\n",
       "    <tr>\n",
       "      <th>6</th>\n",
       "      <td>FOB</td>\n",
       "      <td>NA</td>\n",
       "      <td>39.474445</td>\n",
       "      <td>-123.794440</td>\n",
       "    </tr>\n",
       "    <tr>\n",
       "      <th>7</th>\n",
       "      <td>ABP</td>\n",
       "      <td>OC</td>\n",
       "      <td>-6.066667</td>\n",
       "      <td>141.100000</td>\n",
       "    </tr>\n",
       "    <tr>\n",
       "      <th>9</th>\n",
       "      <td>ADC</td>\n",
       "      <td>OC</td>\n",
       "      <td>-7.133333</td>\n",
       "      <td>145.733340</td>\n",
       "    </tr>\n",
       "    <tr>\n",
       "      <th>...</th>\n",
       "      <td>...</td>\n",
       "      <td>...</td>\n",
       "      <td>...</td>\n",
       "      <td>...</td>\n",
       "    </tr>\n",
       "    <tr>\n",
       "      <th>6720</th>\n",
       "      <td>MDG</td>\n",
       "      <td>AS</td>\n",
       "      <td>44.534943</td>\n",
       "      <td>129.583850</td>\n",
       "    </tr>\n",
       "    <tr>\n",
       "      <th>6722</th>\n",
       "      <td>NDG</td>\n",
       "      <td>AS</td>\n",
       "      <td>47.316666</td>\n",
       "      <td>123.916664</td>\n",
       "    </tr>\n",
       "    <tr>\n",
       "      <th>6723</th>\n",
       "      <td>DLC</td>\n",
       "      <td>AS</td>\n",
       "      <td>38.961020</td>\n",
       "      <td>121.539990</td>\n",
       "    </tr>\n",
       "    <tr>\n",
       "      <th>6724</th>\n",
       "      <td>SHE</td>\n",
       "      <td>AS</td>\n",
       "      <td>41.861084</td>\n",
       "      <td>123.426926</td>\n",
       "    </tr>\n",
       "    <tr>\n",
       "      <th>6725</th>\n",
       "      <td>YNJ</td>\n",
       "      <td>AS</td>\n",
       "      <td>42.885662</td>\n",
       "      <td>129.439360</td>\n",
       "    </tr>\n",
       "  </tbody>\n",
       "</table>\n",
       "<p>5857 rows × 4 columns</p>\n",
       "</div>"
      ],
      "text/plain": [
       "     iata continent        lat         lon\n",
       "0     UTK        OC  11.233333  169.866670\n",
       "4     WKK        NA  59.277780 -158.611110\n",
       "6     FOB        NA  39.474445 -123.794440\n",
       "7     ABP        OC  -6.066667  141.100000\n",
       "9     ADC        OC  -7.133333  145.733340\n",
       "...   ...       ...        ...         ...\n",
       "6720  MDG        AS  44.534943  129.583850\n",
       "6722  NDG        AS  47.316666  123.916664\n",
       "6723  DLC        AS  38.961020  121.539990\n",
       "6724  SHE        AS  41.861084  123.426926\n",
       "6725  YNJ        AS  42.885662  129.439360\n",
       "\n",
       "[5857 rows x 4 columns]"
      ]
     },
     "execution_count": 50,
     "metadata": {},
     "output_type": "execute_result"
    }
   ],
   "source": [
    "df3"
   ]
  },
  {
   "cell_type": "code",
   "execution_count": 51,
   "id": "b1a508cc-b4ab-44fd-88f9-f3ccc3d70a0e",
   "metadata": {},
   "outputs": [
    {
     "data": {
      "text/html": [
       "<div>\n",
       "<style scoped>\n",
       "    .dataframe tbody tr th:only-of-type {\n",
       "        vertical-align: middle;\n",
       "    }\n",
       "\n",
       "    .dataframe tbody tr th {\n",
       "        vertical-align: top;\n",
       "    }\n",
       "\n",
       "    .dataframe thead th {\n",
       "        text-align: right;\n",
       "    }\n",
       "</style>\n",
       "<table border=\"1\" class=\"dataframe\">\n",
       "  <thead>\n",
       "    <tr style=\"text-align: right;\">\n",
       "      <th></th>\n",
       "      <th>iata</th>\n",
       "      <th>iso</th>\n",
       "      <th>name</th>\n",
       "    </tr>\n",
       "  </thead>\n",
       "  <tbody>\n",
       "    <tr>\n",
       "      <th>0</th>\n",
       "      <td>AAL</td>\n",
       "      <td>DK</td>\n",
       "      <td>Aalborg Airport</td>\n",
       "    </tr>\n",
       "    <tr>\n",
       "      <th>1</th>\n",
       "      <td>ABQ</td>\n",
       "      <td>US</td>\n",
       "      <td>Albuquerque International Sunport Airport</td>\n",
       "    </tr>\n",
       "    <tr>\n",
       "      <th>2</th>\n",
       "      <td>ABV</td>\n",
       "      <td>NG</td>\n",
       "      <td>Nnamdi Azikiwe International Airport</td>\n",
       "    </tr>\n",
       "    <tr>\n",
       "      <th>3</th>\n",
       "      <td>ABZ</td>\n",
       "      <td>GB</td>\n",
       "      <td>Aberdeen Dyce Airport</td>\n",
       "    </tr>\n",
       "    <tr>\n",
       "      <th>4</th>\n",
       "      <td>ACA</td>\n",
       "      <td>MX</td>\n",
       "      <td>General Juan N Alvarez International Airport</td>\n",
       "    </tr>\n",
       "    <tr>\n",
       "      <th>...</th>\n",
       "      <td>...</td>\n",
       "      <td>...</td>\n",
       "      <td>...</td>\n",
       "    </tr>\n",
       "    <tr>\n",
       "      <th>467</th>\n",
       "      <td>YXU</td>\n",
       "      <td>CA</td>\n",
       "      <td>London Airport</td>\n",
       "    </tr>\n",
       "    <tr>\n",
       "      <th>468</th>\n",
       "      <td>YYC</td>\n",
       "      <td>CA</td>\n",
       "      <td>Calgary International Airport</td>\n",
       "    </tr>\n",
       "    <tr>\n",
       "      <th>469</th>\n",
       "      <td>YYJ</td>\n",
       "      <td>CA</td>\n",
       "      <td>Victoria International Airport</td>\n",
       "    </tr>\n",
       "    <tr>\n",
       "      <th>470</th>\n",
       "      <td>YYZ</td>\n",
       "      <td>CA</td>\n",
       "      <td>Lester B. Pearson International Airport</td>\n",
       "    </tr>\n",
       "    <tr>\n",
       "      <th>471</th>\n",
       "      <td>ZAG</td>\n",
       "      <td>HR</td>\n",
       "      <td>Zagreb Airport</td>\n",
       "    </tr>\n",
       "  </tbody>\n",
       "</table>\n",
       "<p>472 rows × 3 columns</p>\n",
       "</div>"
      ],
      "text/plain": [
       "    iata iso                                          name\n",
       "0    AAL  DK                               Aalborg Airport\n",
       "1    ABQ  US     Albuquerque International Sunport Airport\n",
       "2    ABV  NG          Nnamdi Azikiwe International Airport\n",
       "3    ABZ  GB                         Aberdeen Dyce Airport\n",
       "4    ACA  MX  General Juan N Alvarez International Airport\n",
       "..   ...  ..                                           ...\n",
       "467  YXU  CA                                London Airport\n",
       "468  YYC  CA                 Calgary International Airport\n",
       "469  YYJ  CA                Victoria International Airport\n",
       "470  YYZ  CA       Lester B. Pearson International Airport\n",
       "471  ZAG  HR                                Zagreb Airport\n",
       "\n",
       "[472 rows x 3 columns]"
      ]
     },
     "execution_count": 51,
     "metadata": {},
     "output_type": "execute_result"
    }
   ],
   "source": [
    "big_airports.loc[:, ['iata', 'iso', 'name']]"
   ]
  },
  {
   "cell_type": "markdown",
   "id": "aaf92d4b-50f7-46f4-a838-16a7ca051e3a",
   "metadata": {},
   "source": [
    "Per [the documentation](https://pandas.pydata.org/docs/reference/api/pandas.DataFrame.to_sql.html) for `pandas.DataFrame.to_sql`, this method requires an already-open connection to the database in question, suggesting [SQLAlchemy](https://docs.sqlalchemy.org/en/20/) and or SQLite may be used, the former being a 3rd party Python database API, and the later what we're using here, direct from the Standard Library.\n",
    "\n",
    "The \"tree\" or \"river delta\" diagram below suggest two major user communities, that of website development and that of data science, both have their roots in talking to databases.\n",
    "\n",
    "<a data-flickr-embed=\"true\" href=\"https://www.flickr.com/photos/kirbyurner/24749338009/in/album-72177720296706479\" title=\"Pythonic Ecosystem\"><img src=\"https://live.staticflickr.com/1624/24749338009_537ab57eb1_w.jpg\" width=\"300\" height=\"400\" alt=\"Pythonic Ecosystem\"/></a><script async src=\"//embedr.flickr.com/assets/client-code.js\" charset=\"utf-8\"></script>\n",
    "\n",
    "In addition to a connection object (`db` below), the `to_sql` method expects a table name. A database may contain any number of individual tables.\n",
    "\n",
    "In the code cell below, we might be creating big_airports.db for the first time, or it might be an existing file. Either way, we take our flat file, `big_airports`, and write it out in two tables, Airports and Coords."
   ]
  },
  {
   "cell_type": "code",
   "execution_count": 52,
   "id": "d0320448-187c-4a69-a13a-4b50361bd249",
   "metadata": {},
   "outputs": [
    {
     "name": "stdout",
     "output_type": "stream",
     "text": [
      "Connection:  <sqlite3.Connection object at 0x1093b2a70>\n"
     ]
    }
   ],
   "source": [
    "with Connector('big_airports.db') as db:\n",
    "    big_airports.loc[:, ['iata', 'iso', 'name']].to_sql('Airports', db.conn, if_exists='replace')\n",
    "    big_airports.loc[:, ['iata', 'continent', 'lat', 'lon']].to_sql('Coords', db.conn, if_exists='replace')"
   ]
  },
  {
   "cell_type": "markdown",
   "id": "1c9d24b4-e6aa-46e3-9dc6-853ad88cb39e",
   "metadata": {},
   "source": [
    "As a check, lets reconstitute a flat file pairing airports with corresponding coordinates based on IATA code. An [SQLite inner join](https://www.sqlitetutorial.net/sqlite-inner-join/) will accomplish this."
   ]
  },
  {
   "cell_type": "code",
   "execution_count": 53,
   "id": "f4b861e8-9133-4ab4-a00a-126d8741553e",
   "metadata": {},
   "outputs": [
    {
     "name": "stdout",
     "output_type": "stream",
     "text": [
      "Connection:  <sqlite3.Connection object at 0x1093b1e40>\n",
      "('Airports',)\n",
      "('Coords',)\n",
      "(372, 'SFO', 'US', 'San Francisco International Airport')\n",
      "(331, 'PDX', 'US', 'Portland International Airport')\n"
     ]
    }
   ],
   "source": [
    "sql_stmnt = \"\"\"\n",
    "SELECT \n",
    "    Airports.iata,\n",
    "    iso,\n",
    "    name,\n",
    "    Coords.lat,\n",
    "    Coords.lon,\n",
    "    Coords.continent\n",
    "FROM \n",
    "    Airports\n",
    "INNER JOIN Coords ON \n",
    "    Coords.iata = Airports.iata\n",
    "\"\"\"\n",
    "\n",
    "with Connector(\"big_airports.db\") as db:\n",
    "    airports = pd.read_sql(sql_stmnt, con = db.conn)\n",
    "    db.list_tables()\n",
    "    print(db.lookup(\"Airports\", \"iata\", \"SFO\"))\n",
    "    print(db.lookup(\"Airports\", \"iata\", \"PDX\"))"
   ]
  },
  {
   "cell_type": "code",
   "execution_count": null,
   "id": "477e94bc-5285-41a6-92ff-48f775a545c3",
   "metadata": {},
   "outputs": [],
   "source": [
    "airports"
   ]
  },
  {
   "cell_type": "markdown",
   "id": "3ba9a8b7-7b6a-4262-b373-f2abb90fd9b5",
   "metadata": {},
   "source": [
    "## EXPLORING UNICODE\n",
    "\n",
    "<a data-flickr-embed=\"true\" href=\"https://www.flickr.com/photos/kirbyurner/29832307687/in/album-72177720296706479\" title=\"Unicode on Windows\"><img src=\"https://live.staticflickr.com/1847/29832307687_0aee594ec5_w.jpg\" width=\"400\" height=\"276\" alt=\"Unicode on Windows\"/></a><script async src=\"//embedr.flickr.com/assets/client-code.js\" charset=\"utf-8\"></script>"
   ]
  },
  {
   "cell_type": "markdown",
   "id": "4829f825-3c4c-4e52-be1d-95da277e96ce",
   "metadata": {},
   "source": [
    "Through unicode we may access the emojis, which in turn may be used to craft practice dataframes, for learning purposes. Unicode itself, as a topic, permeates our technology, especially when it comes to natural language processing, which is at the heart of Machine Learning (ML), for example in the form of LLMs (large language models, used to drive chat bots)."
   ]
  },
  {
   "cell_type": "code",
   "execution_count": null,
   "id": "da4349ff-484e-434c-8676-0b56416c6bc2",
   "metadata": {},
   "outputs": [],
   "source": [
    "import unicodedata as ud"
   ]
  },
  {
   "cell_type": "code",
   "execution_count": null,
   "id": "78cc9d4e-1186-497a-bc2b-031afaa1f6d4",
   "metadata": {},
   "outputs": [],
   "source": [
    "# help(ud)"
   ]
  },
  {
   "cell_type": "code",
   "execution_count": null,
   "id": "2ea9c01b-b7ab-4df3-9d85-67e4cff7daa0",
   "metadata": {},
   "outputs": [],
   "source": [
    "smiley = ud.lookup(\"Smiling Face with Smiling Eyes\")"
   ]
  },
  {
   "cell_type": "code",
   "execution_count": null,
   "id": "fb7f16b5-73dd-4588-a7de-bc63557df5fc",
   "metadata": {},
   "outputs": [],
   "source": [
    "smiley"
   ]
  },
  {
   "cell_type": "code",
   "execution_count": null,
   "id": "b82f69f4-5397-4f77-8c24-c5d448828fdf",
   "metadata": {},
   "outputs": [],
   "source": [
    "ord(smiley)"
   ]
  },
  {
   "cell_type": "code",
   "execution_count": null,
   "id": "a1b14904-0db0-44d1-8299-fd238a0a76ff",
   "metadata": {},
   "outputs": [],
   "source": [
    "ud.name(smiley)"
   ]
  },
  {
   "cell_type": "code",
   "execution_count": null,
   "id": "db476ca9-fe4a-4910-826c-d30bc776ac78",
   "metadata": {},
   "outputs": [],
   "source": [
    "\"\\N{SMILING FACE WITH SMILING EYES}\""
   ]
  },
  {
   "cell_type": "code",
   "execution_count": null,
   "id": "cc0be45c-6e21-4d66-8e03-2c97e9dc3fdb",
   "metadata": {},
   "outputs": [],
   "source": [
    "\"\\N{HOT DOG}\""
   ]
  },
  {
   "cell_type": "code",
   "execution_count": null,
   "id": "cd11ca29-a06f-4520-bc3a-b4ca252cf0a5",
   "metadata": {},
   "outputs": [],
   "source": [
    "ord(\"\\N{HOT DOG}\")"
   ]
  },
  {
   "cell_type": "code",
   "execution_count": null,
   "id": "c4de9785-7024-4a7b-8fb0-1caef5896b5c",
   "metadata": {},
   "outputs": [],
   "source": [
    "start = hex(ord(\"\\N{HOT DOG}\")) # base 16 as a string\n",
    "start"
   ]
  },
  {
   "cell_type": "code",
   "execution_count": null,
   "id": "a8d7736b-4479-4771-aa6a-94409168d46a",
   "metadata": {},
   "outputs": [],
   "source": [
    "dec_start = int(start, base=16) # going back and forth between bases\n",
    "dec_start"
   ]
  },
  {
   "cell_type": "markdown",
   "id": "489e63e4-ba1d-4f4b-8c93-ef36ec34b1d5",
   "metadata": {},
   "source": [
    "Our first range of emoji starts with hot dog (🌭) and ends with popcorn (🍿).\n",
    "\n",
    "A great resource for studying the emoji is [at Wikipedia](https://en.wikipedia.org/wiki/List_of_emojis)."
   ]
  },
  {
   "cell_type": "code",
   "execution_count": null,
   "id": "05992955-11ab-4e12-975b-e250aea466b4",
   "metadata": {},
   "outputs": [],
   "source": [
    "\"\\N{POPCORN}\" # the Unicode escape symbol"
   ]
  },
  {
   "cell_type": "code",
   "execution_count": null,
   "id": "44101cc6-0f1f-4d59-971b-135ca65ca7d6",
   "metadata": {},
   "outputs": [],
   "source": [
    "'🍿'.encode('utf-8')"
   ]
  },
  {
   "cell_type": "code",
   "execution_count": null,
   "id": "37c7a607-b52b-4178-82d4-54e7c5c1673a",
   "metadata": {},
   "outputs": [],
   "source": [
    "b'\\xf0\\x9f\\x8d\\xbf'.decode()"
   ]
  },
  {
   "cell_type": "code",
   "execution_count": null,
   "id": "43b768e8-b26e-4639-8d13-daecb05e4460",
   "metadata": {},
   "outputs": [],
   "source": [
    "stop = hex(ord(\"\\N{POPCORN}\"))\n",
    "stop"
   ]
  },
  {
   "cell_type": "code",
   "execution_count": null,
   "id": "e50472f1-d332-44de-9f87-efe767225fa3",
   "metadata": {},
   "outputs": [],
   "source": [
    "dec_stop = int(stop, base=16)\n",
    "dec_stop"
   ]
  },
  {
   "cell_type": "code",
   "execution_count": null,
   "id": "21faa806-8f25-4c3b-9cc4-84c690851f70",
   "metadata": {},
   "outputs": [],
   "source": [
    "code_range = np.arange(dec_start, dec_stop+1)"
   ]
  },
  {
   "cell_type": "code",
   "execution_count": null,
   "id": "886f98ec-ff2b-4783-8f27-edca25adcb1f",
   "metadata": {},
   "outputs": [],
   "source": [
    "foods = [chr(codepoint) \n",
    "         for codepoint in \n",
    "         code_range]"
   ]
  },
  {
   "cell_type": "code",
   "execution_count": null,
   "id": "1675b6b5-a6eb-4913-a9e9-1db3c458fe3e",
   "metadata": {},
   "outputs": [],
   "source": [
    "print(foods)"
   ]
  },
  {
   "cell_type": "code",
   "execution_count": null,
   "id": "9b8511d0-bbcc-4d38-a8bc-e10478c4509a",
   "metadata": {},
   "outputs": [],
   "source": [
    "code_range2 = np.arange(0x1f950, 0x1f96f+1)\n",
    "foods2 = [chr(codepoint) \n",
    "         for codepoint in \n",
    "         code_range2]\n",
    "print(foods2)"
   ]
  },
  {
   "cell_type": "code",
   "execution_count": null,
   "id": "a13ebbae-1a97-4e0a-9d1e-c40e459266ee",
   "metadata": {},
   "outputs": [],
   "source": [
    "all_foods = foods + foods2"
   ]
  },
  {
   "cell_type": "code",
   "execution_count": null,
   "id": "af31eb80-38e7-4469-9973-6c44d1d142f3",
   "metadata": {},
   "outputs": [],
   "source": [
    "df_foods = pd.DataFrame({\"NAME\": [ud.name(food) for food in all_foods],\n",
    "              \"GLYPH\": all_foods,\n",
    "              \"CODEPOINT\": [ord(food) for food in all_foods]})"
   ]
  },
  {
   "cell_type": "code",
   "execution_count": null,
   "id": "27cc7fa0-2356-4253-874f-3eb074075cb3",
   "metadata": {},
   "outputs": [],
   "source": [
    "df_foods.sort_values(\"CODEPOINT\")"
   ]
  },
  {
   "cell_type": "code",
   "execution_count": null,
   "id": "689baf44-80ee-4a0f-8902-1e882a1bd800",
   "metadata": {},
   "outputs": [],
   "source": [
    "df_foods = df_foods.set_index(\"GLYPH\")"
   ]
  },
  {
   "cell_type": "code",
   "execution_count": null,
   "id": "0492599d-73c9-4c84-b591-da2d1fbc9d58",
   "metadata": {},
   "outputs": [],
   "source": [
    "df_foods"
   ]
  },
  {
   "cell_type": "code",
   "execution_count": null,
   "id": "ddeea24b-2d1d-450d-8ef7-d79129092b39",
   "metadata": {},
   "outputs": [],
   "source": [
    "df_foods.loc['🍯':'🍵',:]"
   ]
  },
  {
   "cell_type": "markdown",
   "id": "4ee7cc6d-5179-4420-b12e-b0850977a779",
   "metadata": {},
   "source": [
    "*Note*:\n",
    "\n",
    "You may also embed YouTubes in markdown cells. Notebooks in this repo almost exclusively use the code cell method.\n",
    "\n",
    "Example:\n",
    "\n",
    "[![Less Than Jake — Scott Farcas Takes It On The Chin](https://img.youtube.com/vi/PYCxct2e0zI/0.jpg)](https://www.youtube.com/watch?v=PYCxct2e0zI)\n",
    "\n",
    "[Markdown Guide](https://www.markdownguide.org/hacks/)\n"
   ]
  },
  {
   "cell_type": "code",
   "execution_count": null,
   "id": "dac4f82c-a795-41a1-bc1f-9ad807635981",
   "metadata": {},
   "outputs": [],
   "source": []
  }
 ],
 "metadata": {
  "kernelspec": {
   "display_name": "Python 3 (ipykernel)",
   "language": "python",
   "name": "python3"
  },
  "language_info": {
   "codemirror_mode": {
    "name": "ipython",
    "version": 3
   },
   "file_extension": ".py",
   "mimetype": "text/x-python",
   "name": "python",
   "nbconvert_exporter": "python",
   "pygments_lexer": "ipython3",
   "version": "3.11.3"
  }
 },
 "nbformat": 4,
 "nbformat_minor": 5
}
