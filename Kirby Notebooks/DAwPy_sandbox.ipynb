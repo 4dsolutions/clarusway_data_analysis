{
 "cells": [
  {
   "cell_type": "markdown",
   "id": "0c58c787-d166-4379-b6d0-aca0832397d9",
   "metadata": {},
   "source": [
    "#### Clarusway Python\n",
    "\n",
    "* [Instructor Landing Page](landing_page.ipynb)\n",
    "* <a href=\"https://colab.research.google.com/github/4dsolutions/clarusway_data_analysis/blob/main/Kirby%20Notebooks/DAwPy_sandbox.ipynb\"><img align=\"left\" src=\"https://colab.research.google.com/assets/colab-badge.svg\" alt=\"Open in Colab\" title=\"Open and Execute in Google Colaboratory\"></a>\n",
    "* [![nbviewer](https://raw.githubusercontent.com/jupyter/design/master/logos/Badges/nbviewer_badge.svg)](https://nbviewer.org/github/4dsolutions/clarusway_data_analysis/blob/main/Kirby%20Notebooks/DAwPy_sandbox.ipynb)"
   ]
  },
  {
   "cell_type": "markdown",
   "id": "33eb89b2-559e-4799-9172-354d6674bba6",
   "metadata": {},
   "source": [
    "<a id=\"toc\"></a>\n",
    "\n",
    "<a data-flickr-embed=\"true\" href=\"https://www.flickr.com/photos/kirbyurner/52136642608/in/photolist-2n4sSUz-2nr8Vrb-2oADYNY\" title=\"Clarusway Banner\"><img src=\"https://live.staticflickr.com/65535/52136642608_bd45cb00a9_b.jpg\" width=\"1024\" height=\"334\" alt=\"Clarusway Banner\"/></a><script async src=\"//embedr.flickr.com/assets/client-code.js\" charset=\"utf-8\"></script>\n",
    "\n",
    "## <p style=\"background-color:#0D8D99; font-family:newtimeroman; color:#FFF9ED; font-size:175%; text-align:center; border-radius:10px 10px;\">Looking Back: The pandas DataFrame<br>Looking Ahead: to SQL</p>"
   ]
  },
  {
   "cell_type": "markdown",
   "id": "50e0d066-74d3-46db-8ab7-62bd52ffc006",
   "metadata": {},
   "source": [
    "Highly relevant this juncture, when our focus is on table management in pandas, including their combination based on columns-in-common, are the conceptual similarities with SQL (Structured Query Language). The vocabulary (shoptalk) of inner, outer, left and right join, in turn inherited from Set Theory, spans both technologies, pandas and SQL."
   ]
  },
  {
   "cell_type": "code",
   "execution_count": null,
   "id": "5a3b674c-38e5-4e91-ab57-ba6ebe2392cf",
   "metadata": {},
   "outputs": [],
   "source": [
    "import pandas as pd\n",
    "import numpy as np\n",
    "from os import path"
   ]
  },
  {
   "cell_type": "markdown",
   "id": "29ab36f9-dd96-45d9-8cf9-9ed13d563adb",
   "metadata": {},
   "source": [
    "Pythonistas enjoy the good fortune of having SQLite in the Standard Library. SQLite is a free open source tool that has a role in production, in the office setting, and as an onramp into RDBMS (relational database management systems) more generally."
   ]
  },
  {
   "cell_type": "code",
   "execution_count": null,
   "id": "7f86e1af-2aa7-4ebf-ac65-fea8f5dc2ebd",
   "metadata": {},
   "outputs": [],
   "source": [
    "import sqlite3 as sql  # part of Python Standard Library"
   ]
  },
  {
   "cell_type": "markdown",
   "id": "8e7c1eab-37c2-430b-9194-f203095e88c7",
   "metadata": {},
   "source": [
    "Connecting to a database through a context manager has advantages. Connecting to a DB is akin to opening a file, with automatic closure once the code block is done and being exited, with or without unhandled exceptions.\n",
    "\n",
    "We looked at the context manager pattern in Basic Python. Like the Iterator category, we recognize context managers by the presence of signature magic methods (also known as special names). \n",
    "\n",
    "In the case of the Iterator, we look for `__next__` and `__iter__` where the latter might return itself, as eligible for the office of iterator. In the case of a Context Manager, we expect to find `__enter__` and `__exit__`.\n",
    "\n",
    "We learned how these two methods get triggered: not by directly calling them, but by the \"occassions\" of entering and exiting code suites set off by the `with` statement, `with` being one of Python's keywords.\n",
    "\n",
    "Where we most likely encounter the `with` in basic Python is in connection with file object, with opening and closing upon entering and exiting, with access to the Context Manager itself as a presiding object (e.g. cm below), thanks to keyword `as`.  \n",
    "\n",
    "We say:\n",
    "\n",
    "```python\n",
    "    with open(\"the_file.txt\") as cm:\n",
    "        content = cm.read()\n",
    "```    \n",
    "\n",
    "Likewise, our Connector class below wraps a database connection and cursor inside the instance, once `__enter__` has established them as attributes of the presiding object.\n",
    "\n",
    "```python\n",
    "    with open(\"airports.db\") as db:\n",
    "        db.list_tables()\n",
    "``` \n",
    "\n",
    "Upon exiting the with suite, the connection closes, and any exceptions get handled or reraised.\n",
    "\n",
    "The context manager object may be optionally equipped with additional DB-related methods, such as return a tables listing and/or perform a record lookup."
   ]
  },
  {
   "cell_type": "code",
   "execution_count": null,
   "id": "a5192dd6-ea6d-49fc-8918-45d379cec14c",
   "metadata": {},
   "outputs": [],
   "source": [
    "class Connector:\n",
    "\n",
    "    def __init__(self, conn_name : str):\n",
    "        \"\"\"Run when class is called\"\"\"\n",
    "        self.cn_name = conn_name # what file?\n",
    "        \n",
    "    def __enter__(self):\n",
    "        \"\"\"Run when the context is entered\"\"\"\n",
    "        try:\n",
    "            self.conn = sql.connect(self.cn_name)\n",
    "            print(\"Connection: \", self.conn)\n",
    "            self.curs = self.conn.cursor()\n",
    "            # self.list_tables() # optional\n",
    "        except:\n",
    "            print(\"No connection\")\n",
    "            raise\n",
    "\n",
    "        return self\n",
    "    \n",
    "    def lookup(self, table, column, code):\n",
    "        \"\"\"\n",
    "        return the data for column = code condition\n",
    "        \"\"\"\n",
    "        self.curs.execute(f\"SELECT * FROM {table} WHERE {column} = ?\", (code, ))\n",
    "        return self.curs.fetchone() # could be None, could be a tuple\n",
    "    \n",
    "    def list_tables(self):\n",
    "        \"\"\"\n",
    "        print a listing of all the tables in this db\n",
    "        https://www.sqlitetutorial.net/sqlite-show-tables/\n",
    "        \"\"\"\n",
    "        self.curs.execute(\"\"\"SELECT name FROM sqlite_schema  \n",
    "                            WHERE type ='table' AND name \n",
    "                            NOT LIKE 'sqlite_%';\n",
    "                            \"\"\")    \n",
    "        # loop through whatever table names were found \n",
    "        # and filtered and print them out.\n",
    "        for nm in self.curs.fetchall():\n",
    "            print(nm)\n",
    "         \n",
    "    def __exit__(self, *oops):\n",
    "        \"\"\"\n",
    "        Process exceptions consists of *oops,\n",
    "        a 3-tuple, we hope filled with Nones because \n",
    "        all went well.  Otherwise, exception info.\n",
    "        return either True or False to determine if\n",
    "        __exit__ does or does not raise an exception.\n",
    "        \"\"\"\n",
    "        self.conn.close()\n",
    "        if oops[0]:\n",
    "            print(\"An error occurred\")\n",
    "            return False  # raise exception\n",
    "        return True       # all good"
   ]
  },
  {
   "cell_type": "markdown",
   "id": "2ca3675c-43eb-4c43-8883-1a08bffd5b9d",
   "metadata": {},
   "source": [
    "The `airports.db` file contains only one table, Airports. This is a flat file with some information about airports around the world, including their unique IATA code.\n",
    "\n",
    "A copy of airports.db used here [may be found](https://github.com/4dsolutions/clarusway_data_analysis/blob/main/DVwPY_S6/airports.db) in this Github repo. Download the raw file.\n",
    "\n",
    "Our purpose here is to bring the data into pandas using `sqlite3` and our Connector, and then review our powers to merge and purge, ending up with some new database files as output, such as a relational `big_airports.db` with lat/long coordinates stored separately, linked by IATA code. We create this table more as a test of pandas than to produce output of much practical value."
   ]
  },
  {
   "cell_type": "code",
   "execution_count": null,
   "id": "bad3d13f-407d-49be-bb44-4c891e353c4e",
   "metadata": {},
   "outputs": [],
   "source": [
    "path.isfile(\"airports.db\")"
   ]
  },
  {
   "cell_type": "code",
   "execution_count": null,
   "id": "88b8a6ee-8733-47f4-bc52-effe85de57a4",
   "metadata": {},
   "outputs": [],
   "source": [
    "with Connector(\"airports.db\") as db:\n",
    "    db.list_tables()"
   ]
  },
  {
   "cell_type": "code",
   "execution_count": null,
   "id": "67e39bda-2207-4348-9b4a-79f52b581d8d",
   "metadata": {},
   "outputs": [],
   "source": [
    "with Connector(\"./airports.db\") as db:\n",
    "    df = pd.read_sql(\"SELECT * FROM Airports\", con = DB.conn)\n",
    "    print(db.lookup(\"Airports\", \"iata\", \"SFO\"))\n",
    "    print(db.lookup(\"Airports\", \"iata\", \"PDX\"))"
   ]
  },
  {
   "cell_type": "code",
   "execution_count": null,
   "id": "1ea5c753-86d0-401d-a01c-79209aa98c84",
   "metadata": {},
   "outputs": [],
   "source": [
    "df"
   ]
  },
  {
   "cell_type": "code",
   "execution_count": null,
   "id": "1bb90c98-72d7-4f4b-b4db-9a2f0c949b5e",
   "metadata": {},
   "outputs": [],
   "source": [
    "df.info()"
   ]
  },
  {
   "cell_type": "markdown",
   "id": "02486c50-6c14-45e9-94d0-f8607cb11e03",
   "metadata": {},
   "source": [
    "The description of numeric columns is hardly useful as these consist of either categorical values or latitude / longitude, which it doesn't make a lot of sense to average."
   ]
  },
  {
   "cell_type": "code",
   "execution_count": null,
   "id": "be7292fe-81df-49e7-bc80-b5c4b70248e0",
   "metadata": {},
   "outputs": [],
   "source": [
    "df.describe().T"
   ]
  },
  {
   "cell_type": "markdown",
   "id": "7aea307b-0538-46fe-a363-11ef64cdd00a",
   "metadata": {},
   "source": [
    "However remember `describe` may be directed to attend non-numeric columns as well."
   ]
  },
  {
   "cell_type": "code",
   "execution_count": null,
   "id": "bce108dc-793c-4a2d-b5f1-546c28652843",
   "metadata": {},
   "outputs": [],
   "source": [
    "df.describe(include=['O','int64'])"
   ]
  },
  {
   "cell_type": "code",
   "execution_count": null,
   "id": "aa71148b-961a-4518-b12b-018c5c5212a1",
   "metadata": {},
   "outputs": [],
   "source": [
    "df.type.nunique()"
   ]
  },
  {
   "cell_type": "code",
   "execution_count": null,
   "id": "b2f2f0eb-e854-49d6-812e-b4a96266b5e4",
   "metadata": {},
   "outputs": [],
   "source": [
    "df.type.unique()"
   ]
  },
  {
   "cell_type": "code",
   "execution_count": null,
   "id": "b4224f73-7ded-457f-b748-20ddceee4a67",
   "metadata": {},
   "outputs": [],
   "source": [
    "df.groupby([\"type\"]).agg(\"count\")"
   ]
  },
  {
   "cell_type": "code",
   "execution_count": null,
   "id": "7295ac39-a52b-43d3-8cc8-23201df1dd72",
   "metadata": {},
   "outputs": [],
   "source": [
    "df.status.nunique()"
   ]
  },
  {
   "cell_type": "code",
   "execution_count": null,
   "id": "47248c03-e979-4fff-adf2-09eafd940ae7",
   "metadata": {},
   "outputs": [],
   "source": [
    "df.status.unique()"
   ]
  },
  {
   "cell_type": "code",
   "execution_count": null,
   "id": "a24c642e-6d0d-4894-844e-0bb81a356697",
   "metadata": {},
   "outputs": [],
   "source": [
    "df[\"size\"].nunique()"
   ]
  },
  {
   "cell_type": "code",
   "execution_count": null,
   "id": "3ee139d3-422c-4e23-bd1d-dc867753f008",
   "metadata": {},
   "outputs": [],
   "source": [
    "df[\"size\"].unique()"
   ]
  },
  {
   "cell_type": "code",
   "execution_count": null,
   "id": "727f9e6f-276c-4cbd-b2cc-50eee4a4175c",
   "metadata": {},
   "outputs": [],
   "source": [
    "df[\"size\"].value_counts(dropna=False) # show the Nonesdf."
   ]
  },
  {
   "cell_type": "code",
   "execution_count": null,
   "id": "af35f788-78a1-4fe0-8486-ee8edbdb164c",
   "metadata": {},
   "outputs": [],
   "source": [
    "df.dropna(axis=0, how=\"any\", inplace=False)"
   ]
  },
  {
   "cell_type": "code",
   "execution_count": null,
   "id": "24b472ca-ab74-4c16-bc60-21f4b62b6714",
   "metadata": {},
   "outputs": [],
   "source": [
    "df2 = df.dropna(axis=0, how=\"any\", inplace=False)"
   ]
  },
  {
   "cell_type": "code",
   "execution_count": null,
   "id": "84ea300a-2c1c-413b-a502-c9b30330b218",
   "metadata": {},
   "outputs": [],
   "source": [
    "df2.info()"
   ]
  },
  {
   "cell_type": "code",
   "execution_count": null,
   "id": "9dbed14b-d96e-44a8-90f6-e90aa4f11256",
   "metadata": {},
   "outputs": [],
   "source": [
    "import warnings\n",
    "warnings.filterwarnings(\"ignore\", category=UserWarning)"
   ]
  },
  {
   "cell_type": "code",
   "execution_count": null,
   "id": "c3f34333-685f-4e61-91be-fce1045d1c72",
   "metadata": {},
   "outputs": [],
   "source": [
    "big = df2[(df[\"type\"] == \"airport\") & (df[\"size\"] == \"large\")].reset_index(drop=True)"
   ]
  },
  {
   "cell_type": "code",
   "execution_count": null,
   "id": "232c0651-a3af-4588-a4da-feea786eb673",
   "metadata": {},
   "outputs": [],
   "source": [
    "medium = df2[(df[\"type\"] == \"airport\") & (df[\"size\"] == \"medium\")].reset_index(drop=True)"
   ]
  },
  {
   "cell_type": "code",
   "execution_count": null,
   "id": "81c4c052-427b-49fd-95bf-efb1a4e8a808",
   "metadata": {},
   "outputs": [],
   "source": [
    "small = df2[(df[\"type\"] == \"airport\") & (df[\"size\"] == \"small\")].reset_index(drop=True)"
   ]
  },
  {
   "cell_type": "code",
   "execution_count": null,
   "id": "5a10d22b-543a-428c-a00e-0c61815ff07b",
   "metadata": {},
   "outputs": [],
   "source": [
    "df2.loc[:, [\"iata\", \"iso\", \"name\"]]"
   ]
  },
  {
   "cell_type": "code",
   "execution_count": null,
   "id": "2924b50d-93f1-4e34-bc61-f46c525100df",
   "metadata": {},
   "outputs": [],
   "source": [
    "big = big.loc[:, [\"iata\", \"iso\", \"name\"]]\n",
    "medium = medium.loc[:, [\"iata\", \"iso\", \"name\"]]\n",
    "small = small.loc[:, [\"iata\", \"iso\", \"name\"]]\n",
    "latlong = df2.loc[: , [\"iata\", \"continent\", \"lat\", \"lon\"]]"
   ]
  },
  {
   "cell_type": "code",
   "execution_count": null,
   "id": "d63b3d8e-91d4-437f-ab35-86b2172d9968",
   "metadata": {},
   "outputs": [],
   "source": [
    "big.info()"
   ]
  },
  {
   "cell_type": "code",
   "execution_count": null,
   "id": "10d8fc38-b1f6-4dc1-94dc-c3f625a1927b",
   "metadata": {},
   "outputs": [],
   "source": [
    "medium.info()"
   ]
  },
  {
   "cell_type": "code",
   "execution_count": null,
   "id": "a122b532-cea8-40cc-b8f1-b02a58bc95b7",
   "metadata": {},
   "outputs": [],
   "source": [
    "small.info()"
   ]
  },
  {
   "cell_type": "code",
   "execution_count": null,
   "id": "a87018b5-78b2-4281-9d67-fc2c0ab7e8a4",
   "metadata": {},
   "outputs": [],
   "source": [
    "latlong.info()"
   ]
  },
  {
   "cell_type": "code",
   "execution_count": null,
   "id": "107590f8-d214-4ab9-a3cd-a632019482f5",
   "metadata": {},
   "outputs": [],
   "source": [
    "big.join(latlong.set_index(\"iata\"), on=\"iata\", how=\"inner\", sort=True) # right index set to iata"
   ]
  },
  {
   "cell_type": "code",
   "execution_count": null,
   "id": "ccdeed70-9f80-4a3d-bbc3-8e62762d3635",
   "metadata": {},
   "outputs": [],
   "source": [
    "pd.merge(big, latlong, how='left', on='iata', sort=True)"
   ]
  },
  {
   "cell_type": "code",
   "execution_count": null,
   "id": "ba249d11-64da-4ac8-a8ad-70afe0d89156",
   "metadata": {},
   "outputs": [],
   "source": [
    "big[big.duplicated('iata')]"
   ]
  },
  {
   "cell_type": "code",
   "execution_count": null,
   "id": "2fb742fa-3587-4fe4-965b-76702d8c0ec6",
   "metadata": {},
   "outputs": [],
   "source": [
    "big[big.iata == \"HYD\"]"
   ]
  },
  {
   "cell_type": "code",
   "execution_count": null,
   "id": "e97317d9-8d18-4f7d-8f16-103b2d08e08b",
   "metadata": {},
   "outputs": [],
   "source": [
    "big.info()"
   ]
  },
  {
   "cell_type": "code",
   "execution_count": null,
   "id": "31e8232e-78a6-4dbe-964f-63430a10b677",
   "metadata": {},
   "outputs": [],
   "source": [
    "big = big.drop(index=421)"
   ]
  },
  {
   "cell_type": "code",
   "execution_count": null,
   "id": "3c2e94ab-35f2-4d0a-96e4-258359ef1702",
   "metadata": {},
   "outputs": [],
   "source": [
    "big.info()"
   ]
  },
  {
   "cell_type": "code",
   "execution_count": null,
   "id": "b298b64c-394c-4c8f-b205-38665f0a528f",
   "metadata": {},
   "outputs": [],
   "source": [
    "latlong.size"
   ]
  },
  {
   "cell_type": "code",
   "execution_count": null,
   "id": "63444476-ac4f-4ba7-b0d9-160b4d513c86",
   "metadata": {},
   "outputs": [],
   "source": [
    "latlong.duplicated('iata')==False"
   ]
  },
  {
   "cell_type": "code",
   "execution_count": null,
   "id": "89b1528f-5a3c-49ec-acba-c79e03a61318",
   "metadata": {},
   "outputs": [],
   "source": [
    "df3 = latlong[latlong.duplicated()==False]"
   ]
  },
  {
   "cell_type": "code",
   "execution_count": null,
   "id": "8d112c14-903d-4fec-a649-dc8913bbbe09",
   "metadata": {},
   "outputs": [],
   "source": [
    "df3"
   ]
  },
  {
   "cell_type": "code",
   "execution_count": null,
   "id": "f4cd6602-9979-436c-b447-2201434ecab2",
   "metadata": {},
   "outputs": [],
   "source": [
    "df3.duplicated().value_counts()"
   ]
  },
  {
   "cell_type": "code",
   "execution_count": null,
   "id": "7a406201-da26-4b40-8b7b-e5d8960d41a0",
   "metadata": {},
   "outputs": [],
   "source": [
    "df3[df3.iata == 'YAX']"
   ]
  },
  {
   "cell_type": "code",
   "execution_count": null,
   "id": "903aea2a-8483-4843-8f9b-7c00eb96f907",
   "metadata": {},
   "outputs": [],
   "source": [
    "big_airports = pd.merge(big, df3, how='left', on='iata', sort=True)\n",
    "big_airports"
   ]
  },
  {
   "cell_type": "code",
   "execution_count": null,
   "id": "d121cd99-2b94-4014-990d-78d4ba33f890",
   "metadata": {},
   "outputs": [],
   "source": [
    "big"
   ]
  },
  {
   "cell_type": "code",
   "execution_count": null,
   "id": "34639906-d61a-4d86-bf29-dad73c19a965",
   "metadata": {},
   "outputs": [],
   "source": [
    "df3"
   ]
  },
  {
   "cell_type": "code",
   "execution_count": null,
   "id": "b1a508cc-b4ab-44fd-88f9-f3ccc3d70a0e",
   "metadata": {},
   "outputs": [],
   "source": [
    "big_airports.loc[:, ['iata', 'iso', 'name']]"
   ]
  },
  {
   "cell_type": "markdown",
   "id": "aaf92d4b-50f7-46f4-a838-16a7ca051e3a",
   "metadata": {},
   "source": [
    "Per [the documentation](https://pandas.pydata.org/docs/reference/api/pandas.DataFrame.to_sql.html) for `pandas.DataFrame.to_sql`, this method requires an already-open connection to the database in question, suggesting [SQLAlchemy](https://docs.sqlalchemy.org/en/20/) and or SQLite may be used, the former being a 3rd party Python database API, and the later what we're using here, direct from the Standard Library.\n",
    "\n",
    "The \"tree\" or \"river delta\" diagram below suggest two major user communities, that of website development and that of data science, both have their roots in talking to databases.\n",
    "\n",
    "<a data-flickr-embed=\"true\" href=\"https://www.flickr.com/photos/kirbyurner/24749338009/in/album-72177720296706479\" title=\"Pythonic Ecosystem\"><img src=\"https://live.staticflickr.com/1624/24749338009_537ab57eb1_w.jpg\" width=\"300\" height=\"400\" alt=\"Pythonic Ecosystem\"/></a><script async src=\"//embedr.flickr.com/assets/client-code.js\" charset=\"utf-8\"></script>\n",
    "\n",
    "In addition to a connection object (`db` below), the `to_sql` method expects a table name. A database may contain any number of individual tables.\n",
    "\n",
    "In the code cell below, we might be creating big_airports.db for the first time, or it might be an existing file. Either way, we take our flat file, `big_airports`, and write it out in two tables, Airports and Coords."
   ]
  },
  {
   "cell_type": "code",
   "execution_count": null,
   "id": "d0320448-187c-4a69-a13a-4b50361bd249",
   "metadata": {},
   "outputs": [],
   "source": [
    "with Connector('big_airports.db') as db:\n",
    "    big_airports.loc[:, ['iata', 'iso', 'name']].to_sql('Airports', db.conn, if_exists='replace')\n",
    "    big_airports.loc[:, ['iata', 'continent', 'lat', 'lon']].to_sql('Coords', db.conn, if_exists='replace')"
   ]
  },
  {
   "cell_type": "markdown",
   "id": "1c9d24b4-e6aa-46e3-9dc6-853ad88cb39e",
   "metadata": {},
   "source": [
    "As a check, lets reconstitute a flat file pairing airports with corresponding coordinates based on IATA code. An [SQLite inner join](https://www.sqlitetutorial.net/sqlite-inner-join/) will accomplish this."
   ]
  },
  {
   "cell_type": "code",
   "execution_count": null,
   "id": "f4b861e8-9133-4ab4-a00a-126d8741553e",
   "metadata": {},
   "outputs": [],
   "source": [
    "sql_stmnt = \"\"\"\n",
    "SELECT \n",
    "    Airports.iata,\n",
    "    iso,\n",
    "    name,\n",
    "    Coords.lat,\n",
    "    Coords.lon,\n",
    "    Coords.continent\n",
    "FROM \n",
    "    Airports\n",
    "INNER JOIN Coords ON \n",
    "    Coords.iata = Airports.iata\n",
    "\"\"\"\n",
    "\n",
    "with Connector(\"big_airports.db\") as db:\n",
    "    airports = pd.read_sql(sql_stmnt, con = db.conn)\n",
    "    db.list_tables()\n",
    "    print(db.lookup(\"Airports\", \"iata\", \"SFO\"))\n",
    "    print(db.lookup(\"Airports\", \"iata\", \"PDX\"))"
   ]
  },
  {
   "cell_type": "code",
   "execution_count": null,
   "id": "477e94bc-5285-41a6-92ff-48f775a545c3",
   "metadata": {},
   "outputs": [],
   "source": [
    "airports"
   ]
  },
  {
   "cell_type": "markdown",
   "id": "3ba9a8b7-7b6a-4262-b373-f2abb90fd9b5",
   "metadata": {},
   "source": [
    "## EXPLORING UNICODE\n",
    "\n",
    "<a data-flickr-embed=\"true\" href=\"https://www.flickr.com/photos/kirbyurner/29832307687/in/album-72177720296706479\" title=\"Unicode on Windows\"><img src=\"https://live.staticflickr.com/1847/29832307687_0aee594ec5_w.jpg\" width=\"400\" height=\"276\" alt=\"Unicode on Windows\"/></a><script async src=\"//embedr.flickr.com/assets/client-code.js\" charset=\"utf-8\"></script>"
   ]
  },
  {
   "cell_type": "markdown",
   "id": "4829f825-3c4c-4e52-be1d-95da277e96ce",
   "metadata": {},
   "source": [
    "Through unicode we may access the emojis, which in turn may be used to craft practice dataframes, for learning purposes. Unicode itself, as a topic, permeates our technology, especially when it comes to natural language processing, which is at the heart of Machine Learning (ML), for example in the form of LLMs (large language models, used to drive chat bots)."
   ]
  },
  {
   "cell_type": "code",
   "execution_count": null,
   "id": "da4349ff-484e-434c-8676-0b56416c6bc2",
   "metadata": {},
   "outputs": [],
   "source": [
    "import unicodedata as ud"
   ]
  },
  {
   "cell_type": "code",
   "execution_count": null,
   "id": "78cc9d4e-1186-497a-bc2b-031afaa1f6d4",
   "metadata": {},
   "outputs": [],
   "source": [
    "# help(ud)"
   ]
  },
  {
   "cell_type": "code",
   "execution_count": null,
   "id": "2ea9c01b-b7ab-4df3-9d85-67e4cff7daa0",
   "metadata": {},
   "outputs": [],
   "source": [
    "smiley = ud.lookup(\"Smiling Face with Smiling Eyes\")"
   ]
  },
  {
   "cell_type": "code",
   "execution_count": null,
   "id": "fb7f16b5-73dd-4588-a7de-bc63557df5fc",
   "metadata": {},
   "outputs": [],
   "source": [
    "smiley"
   ]
  },
  {
   "cell_type": "code",
   "execution_count": null,
   "id": "b82f69f4-5397-4f77-8c24-c5d448828fdf",
   "metadata": {},
   "outputs": [],
   "source": [
    "ord(smiley)"
   ]
  },
  {
   "cell_type": "code",
   "execution_count": null,
   "id": "a1b14904-0db0-44d1-8299-fd238a0a76ff",
   "metadata": {},
   "outputs": [],
   "source": [
    "ud.name(smiley)"
   ]
  },
  {
   "cell_type": "code",
   "execution_count": null,
   "id": "db476ca9-fe4a-4910-826c-d30bc776ac78",
   "metadata": {},
   "outputs": [],
   "source": [
    "\"\\N{SMILING FACE WITH SMILING EYES}\""
   ]
  },
  {
   "cell_type": "code",
   "execution_count": null,
   "id": "cc0be45c-6e21-4d66-8e03-2c97e9dc3fdb",
   "metadata": {},
   "outputs": [],
   "source": [
    "\"\\N{HOT DOG}\""
   ]
  },
  {
   "cell_type": "code",
   "execution_count": null,
   "id": "cd11ca29-a06f-4520-bc3a-b4ca252cf0a5",
   "metadata": {},
   "outputs": [],
   "source": [
    "ord(\"\\N{HOT DOG}\")"
   ]
  },
  {
   "cell_type": "code",
   "execution_count": null,
   "id": "c4de9785-7024-4a7b-8fb0-1caef5896b5c",
   "metadata": {},
   "outputs": [],
   "source": [
    "start = hex(ord(\"\\N{HOT DOG}\")) # base 16 as a string\n",
    "start"
   ]
  },
  {
   "cell_type": "code",
   "execution_count": null,
   "id": "a8d7736b-4479-4771-aa6a-94409168d46a",
   "metadata": {},
   "outputs": [],
   "source": [
    "dec_start = int(start, base=16) # going back and forth between bases\n",
    "dec_start"
   ]
  },
  {
   "cell_type": "markdown",
   "id": "489e63e4-ba1d-4f4b-8c93-ef36ec34b1d5",
   "metadata": {},
   "source": [
    "Our first range of emoji starts with hot dog (🌭) and ends with popcorn (🍿).\n",
    "\n",
    "A great resource for studying the emoji is [at Wikipedia](https://en.wikipedia.org/wiki/List_of_emojis)."
   ]
  },
  {
   "cell_type": "code",
   "execution_count": null,
   "id": "05992955-11ab-4e12-975b-e250aea466b4",
   "metadata": {},
   "outputs": [],
   "source": [
    "\"\\N{POPCORN}\" # the Unicode escape symbol"
   ]
  },
  {
   "cell_type": "code",
   "execution_count": null,
   "id": "44101cc6-0f1f-4d59-971b-135ca65ca7d6",
   "metadata": {},
   "outputs": [],
   "source": [
    "'🍿'.encode('utf-8')"
   ]
  },
  {
   "cell_type": "code",
   "execution_count": null,
   "id": "37c7a607-b52b-4178-82d4-54e7c5c1673a",
   "metadata": {},
   "outputs": [],
   "source": [
    "b'\\xf0\\x9f\\x8d\\xbf'.decode()"
   ]
  },
  {
   "cell_type": "code",
   "execution_count": null,
   "id": "43b768e8-b26e-4639-8d13-daecb05e4460",
   "metadata": {},
   "outputs": [],
   "source": [
    "stop = hex(ord(\"\\N{POPCORN}\"))\n",
    "stop"
   ]
  },
  {
   "cell_type": "code",
   "execution_count": null,
   "id": "e50472f1-d332-44de-9f87-efe767225fa3",
   "metadata": {},
   "outputs": [],
   "source": [
    "dec_stop = int(stop, base=16)\n",
    "dec_stop"
   ]
  },
  {
   "cell_type": "code",
   "execution_count": null,
   "id": "21faa806-8f25-4c3b-9cc4-84c690851f70",
   "metadata": {},
   "outputs": [],
   "source": [
    "code_range = np.arange(dec_start, dec_stop+1)"
   ]
  },
  {
   "cell_type": "code",
   "execution_count": null,
   "id": "886f98ec-ff2b-4783-8f27-edca25adcb1f",
   "metadata": {},
   "outputs": [],
   "source": [
    "foods = [chr(codepoint) \n",
    "         for codepoint in \n",
    "         code_range]"
   ]
  },
  {
   "cell_type": "code",
   "execution_count": null,
   "id": "1675b6b5-a6eb-4913-a9e9-1db3c458fe3e",
   "metadata": {},
   "outputs": [],
   "source": [
    "print(foods)"
   ]
  },
  {
   "cell_type": "code",
   "execution_count": null,
   "id": "9b8511d0-bbcc-4d38-a8bc-e10478c4509a",
   "metadata": {},
   "outputs": [],
   "source": [
    "code_range2 = np.arange(0x1f950, 0x1f96f+1)\n",
    "foods2 = [chr(codepoint) \n",
    "         for codepoint in \n",
    "         code_range2]\n",
    "print(foods2)"
   ]
  },
  {
   "cell_type": "code",
   "execution_count": null,
   "id": "a13ebbae-1a97-4e0a-9d1e-c40e459266ee",
   "metadata": {},
   "outputs": [],
   "source": [
    "all_foods = foods + foods2"
   ]
  },
  {
   "cell_type": "code",
   "execution_count": null,
   "id": "af31eb80-38e7-4469-9973-6c44d1d142f3",
   "metadata": {},
   "outputs": [],
   "source": [
    "df_foods = pd.DataFrame({\"NAME\": [ud.name(food) for food in all_foods],\n",
    "              \"GLYPH\": all_foods,\n",
    "              \"CODEPOINT\": [ord(food) for food in all_foods]})"
   ]
  },
  {
   "cell_type": "code",
   "execution_count": null,
   "id": "27cc7fa0-2356-4253-874f-3eb074075cb3",
   "metadata": {},
   "outputs": [],
   "source": [
    "df_foods.sort_values(\"CODEPOINT\")"
   ]
  },
  {
   "cell_type": "code",
   "execution_count": null,
   "id": "689baf44-80ee-4a0f-8902-1e882a1bd800",
   "metadata": {},
   "outputs": [],
   "source": [
    "df_foods = df_foods.set_index(\"GLYPH\")"
   ]
  },
  {
   "cell_type": "code",
   "execution_count": null,
   "id": "0492599d-73c9-4c84-b591-da2d1fbc9d58",
   "metadata": {},
   "outputs": [],
   "source": [
    "df_foods"
   ]
  },
  {
   "cell_type": "code",
   "execution_count": null,
   "id": "ddeea24b-2d1d-450d-8ef7-d79129092b39",
   "metadata": {},
   "outputs": [],
   "source": [
    "df_foods.loc['🍯':'🍵',:]"
   ]
  },
  {
   "cell_type": "markdown",
   "id": "4ee7cc6d-5179-4420-b12e-b0850977a779",
   "metadata": {},
   "source": [
    "*Note*:\n",
    "\n",
    "You may also embed YouTubes in markdown cells. Notebooks in this repo almost exclusively use the code cell method.\n",
    "\n",
    "Example:\n",
    "\n",
    "[![Less Than Jake — Scott Farcas Takes It On The Chin](https://img.youtube.com/vi/PYCxct2e0zI/0.jpg)](https://www.youtube.com/watch?v=PYCxct2e0zI)\n",
    "\n",
    "[Markdown Guide](https://www.markdownguide.org/hacks/)\n"
   ]
  },
  {
   "cell_type": "code",
   "execution_count": null,
   "id": "dac4f82c-a795-41a1-bc1f-9ad807635981",
   "metadata": {},
   "outputs": [],
   "source": []
  }
 ],
 "metadata": {
  "kernelspec": {
   "display_name": "Python 3 (ipykernel)",
   "language": "python",
   "name": "python3"
  },
  "language_info": {
   "codemirror_mode": {
    "name": "ipython",
    "version": 3
   },
   "file_extension": ".py",
   "mimetype": "text/x-python",
   "name": "python",
   "nbconvert_exporter": "python",
   "pygments_lexer": "ipython3",
   "version": "3.11.3"
  }
 },
 "nbformat": 4,
 "nbformat_minor": 5
}
