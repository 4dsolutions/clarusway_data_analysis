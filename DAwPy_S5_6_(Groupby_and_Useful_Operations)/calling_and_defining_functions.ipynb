{
 "cells": [
  {
   "cell_type": "markdown",
   "id": "cec7cf01-aa91-4c2e-a922-62d0dd5eebc0",
   "metadata": {},
   "source": [
    "<a href=\"https://colab.research.google.com/github/4dsolutions/clarusway_data_analysis/blob/main/DAwPy_S5_6_(Groupby_and_Useful_Operations)/calling_and_defining_functions.ipynb\"><img align=\"left\" src=\"https://colab.research.google.com/assets/colab-badge.svg\" alt=\"Open in Colab\" title=\"Open and Execute in Google Colaboratory\"></a><br/>\n",
    "[![nbviewer](https://raw.githubusercontent.com/jupyter/design/master/logos/Badges/nbviewer_badge.svg)](https://nbviewer.org/github/4dsolutions/clarusway_data_analysis/blob/main/DAwPy_S5_6_%28Groupby_and_Useful_Operations%29/calling_and_defining_functions.ipynb)\n",
    "\n",
    "\n",
    "# Defining and Calling Functions\n",
    "\n",
    "First, lets distinguish between parameters, defined with the function, and arguments, passed to the function and matched up with paramaters.\n",
    "\n",
    "How does this matching, of arguments with parameters, occur?  What are the rules?\n",
    "\n",
    "Arguments match positionally, left to right, and/or they match by name.  The interplay of \"by position\" verus \"by name\" is what makes the syntax interesting."
   ]
  },
  {
   "cell_type": "code",
   "execution_count": 1,
   "id": "637d484c-8c8a-44c7-9aad-b5c9d637b838",
   "metadata": {},
   "outputs": [],
   "source": [
    "def func(a, b, c = None):\n",
    "    print(a, b, c, sep=\", \")"
   ]
  },
  {
   "cell_type": "code",
   "execution_count": 2,
   "id": "52ffb0b0-0fa9-4033-a0c8-519837b627d0",
   "metadata": {},
   "outputs": [
    {
     "name": "stdout",
     "output_type": "stream",
     "text": [
      "1, 2, 3\n"
     ]
    }
   ],
   "source": [
    "func(1, 2, 3)"
   ]
  },
  {
   "cell_type": "code",
   "execution_count": 3,
   "id": "c71b153f-4981-4715-a879-635ff48e772f",
   "metadata": {},
   "outputs": [],
   "source": [
    "two_elem = (1, 2)"
   ]
  },
  {
   "cell_type": "markdown",
   "id": "680b0687-76c1-4c90-8974-7254d36cdbe7",
   "metadata": {},
   "source": [
    "When calling a function, you may have an aggregate that would make sense as individual arguments, if separated.  The single asterisk \"explodes\" a tuple or list (sequence) into so many separate arguments to the function."
   ]
  },
  {
   "cell_type": "code",
   "execution_count": 4,
   "id": "1ef69f92-ee83-42ee-b27a-4cd1d0ed1458",
   "metadata": {},
   "outputs": [
    {
     "name": "stdout",
     "output_type": "stream",
     "text": [
      "1, 2, None\n"
     ]
    }
   ],
   "source": [
    "func(*two_elem)"
   ]
  },
  {
   "cell_type": "markdown",
   "id": "ce16e699-2dc6-4fb9-9ade-8cbf94bffc5e",
   "metadata": {},
   "source": [
    "Correspondingly, on the other hand, multiple positional arguments get \"gathered up\" once individual positional matches are exhausted, if they occur.  All positional arguments get placed in a tuple, thanks to an asterisk in front of that tuples name."
   ]
  },
  {
   "cell_type": "code",
   "execution_count": 5,
   "id": "b194f1db-f76d-471c-a391-62d269023579",
   "metadata": {},
   "outputs": [],
   "source": [
    "def sum_func(a, *args):\n",
    "    print(a, args)\n",
    "    return sum(args)"
   ]
  },
  {
   "cell_type": "code",
   "execution_count": 6,
   "id": "11d9ad22-aa9c-485f-a8ed-2770d1e556b8",
   "metadata": {},
   "outputs": [
    {
     "name": "stdout",
     "output_type": "stream",
     "text": [
      "1 (2, 3, 4, 5)\n"
     ]
    },
    {
     "data": {
      "text/plain": [
       "14"
      ]
     },
     "execution_count": 6,
     "metadata": {},
     "output_type": "execute_result"
    }
   ],
   "source": [
    "sum_func(1,2,3,4,5)"
   ]
  },
  {
   "cell_type": "markdown",
   "id": "18bbde01-0ce5-4e11-8bc6-07b054e28d7e",
   "metadata": {},
   "source": [
    "Star and double-star perform a \"gathering\" service when used as parameters, by taking any \"excess\" or \"unspoken for\" arguments and sweeping them into tuples and dictionaries respectively.\n",
    "\n",
    "The double-star takes any extra named arguments, unmatched by parameter names, and makes a dictionary out of them."
   ]
  },
  {
   "cell_type": "code",
   "execution_count": 7,
   "id": "68dc824f-1c8f-4a6d-bcc9-fb14a1ffc7e7",
   "metadata": {},
   "outputs": [],
   "source": [
    "def call_me(a, b, c, **kwargs):\n",
    "    print(a, b, c, kwargs, sep=\", \")    "
   ]
  },
  {
   "cell_type": "code",
   "execution_count": 8,
   "id": "c4f8841b-3654-4912-b0b9-7697aae9fc1e",
   "metadata": {},
   "outputs": [
    {
     "name": "stdout",
     "output_type": "stream",
     "text": [
      "9, 1, 2, {'k': 11, 'j': 12, 'hello': 'world'}\n"
     ]
    }
   ],
   "source": [
    "call_me(b=1, c=2, a=9, k=11, j=12, hello=\"world\")"
   ]
  },
  {
   "cell_type": "code",
   "execution_count": 9,
   "id": "20429832-7801-428e-986b-923131a71317",
   "metadata": {},
   "outputs": [],
   "source": [
    "coords = {'x':10, 'y':15}"
   ]
  },
  {
   "cell_type": "code",
   "execution_count": 10,
   "id": "684931cf-85cb-48ab-9eda-1ee61ae1daf9",
   "metadata": {},
   "outputs": [],
   "source": [
    "def distance(x=0, y=0):\n",
    "    return pow(x**2 + y**2, 0.5)"
   ]
  },
  {
   "cell_type": "markdown",
   "id": "1bd92628-9c24-4a55-8031-32413477e365",
   "metadata": {},
   "source": [
    "Finally, we have what might be called \"exploding a dictionary\" into named arguments."
   ]
  },
  {
   "cell_type": "code",
   "execution_count": 11,
   "id": "3a01aa5b-c09c-4353-8e56-a7acf7760dd7",
   "metadata": {},
   "outputs": [
    {
     "data": {
      "text/plain": [
       "18.027756377319946"
      ]
     },
     "execution_count": 11,
     "metadata": {},
     "output_type": "execute_result"
    }
   ],
   "source": [
    "distance(**coords)"
   ]
  },
  {
   "cell_type": "code",
   "execution_count": 12,
   "id": "6a57c250-381e-4a1b-9dc0-7207dec1c422",
   "metadata": {},
   "outputs": [],
   "source": [
    "xy= (10, 11)"
   ]
  },
  {
   "cell_type": "code",
   "execution_count": 13,
   "id": "08d0df19-49dd-4043-a9ea-ba8a5d658b00",
   "metadata": {},
   "outputs": [
    {
     "data": {
      "text/plain": [
       "14.866068747318506"
      ]
     },
     "execution_count": 13,
     "metadata": {},
     "output_type": "execute_result"
    }
   ],
   "source": [
    "distance(*xy)"
   ]
  },
  {
   "cell_type": "markdown",
   "id": "3fd41332-59d1-4363-9fcf-f8b37e36ee13",
   "metadata": {},
   "source": [
    "A final wrinkle in function defining sequence.  You have control over what must be passed only positionally, and/or what must by only passed by name."
   ]
  },
  {
   "cell_type": "code",
   "execution_count": 14,
   "id": "c06a5e80-5a45-4ff1-9a09-5b158920d453",
   "metadata": {},
   "outputs": [],
   "source": [
    "def new_func(a, /, b, c):\n",
    "    print(a, b, c, sep=\", \")"
   ]
  },
  {
   "cell_type": "code",
   "execution_count": 15,
   "id": "ad5dfe32-abd8-452a-b8b3-878c6fd940e6",
   "metadata": {},
   "outputs": [
    {
     "name": "stdout",
     "output_type": "stream",
     "text": [
      "1, 2, 3\n"
     ]
    }
   ],
   "source": [
    "new_func(1,b=2,c=3)"
   ]
  },
  {
   "cell_type": "code",
   "execution_count": 16,
   "id": "ce45113b-cf2b-4339-aa1a-8a57543ac6a2",
   "metadata": {},
   "outputs": [],
   "source": [
    "def new_func(a, *, b, c):\n",
    "    print(a, b, c, sep=\", \")"
   ]
  },
  {
   "cell_type": "code",
   "execution_count": 17,
   "id": "2ab343c1-e5ba-4518-9cb8-abeab90fa2a3",
   "metadata": {},
   "outputs": [
    {
     "name": "stdout",
     "output_type": "stream",
     "text": [
      "1, 2, 3\n"
     ]
    }
   ],
   "source": [
    "new_func(1, b=2, c=3)"
   ]
  }
 ],
 "metadata": {
  "kernelspec": {
   "display_name": "Python 3 (ipykernel)",
   "language": "python",
   "name": "python3"
  },
  "language_info": {
   "codemirror_mode": {
    "name": "ipython",
    "version": 3
   },
   "file_extension": ".py",
   "mimetype": "text/x-python",
   "name": "python",
   "nbconvert_exporter": "python",
   "pygments_lexer": "ipython3",
   "version": "3.9.15"
  }
 },
 "nbformat": 4,
 "nbformat_minor": 5
}
