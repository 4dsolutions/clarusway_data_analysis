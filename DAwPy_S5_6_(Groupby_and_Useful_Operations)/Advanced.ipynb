{
 "cells": [
  {
   "cell_type": "markdown",
   "id": "deaaabf3-58df-4a59-8d2e-52b995f684fc",
   "metadata": {},
   "source": [
    "<a href=\"https://colab.research.google.com/github/4dsolutions/clarusway_data_analysis/blob/main/DAwPy_S5_6_%28Groupby_and_Useful_Operations%29/Advanced.ipynb\"><img align=\"left\" src=\"https://colab.research.google.com/assets/colab-badge.svg\" alt=\"Open in Colab\" title=\"Open and Execute in Google Colaboratory\"></a><br/>\n",
    "[![nbviewer](https://raw.githubusercontent.com/jupyter/design/master/logos/Badges/nbviewer_badge.svg)](https://nbviewer.org/github/4dsolutions/clarusway_data_analysis/blob/main/DAwPy_S5_6_%28Groupby_and_Useful_Operations%29/Advanced.ipynb)\n",
    "\n",
    "___\n",
    "\n",
    "<p style=\"text-align: center;\"><img src=\"https://docs.google.com/uc?id=1lY0Uj5R04yMY3-ZppPWxqCr5pvBLYPnV\" class=\"img-fluid\" \n",
    "alt=\"CLRSWY\"></p>\n",
    "\n",
    "## <p style=\"background-color:#FDFEFE; font-family:newtimeroman; color:#9d4f8c; font-size:100%; text-align:center; border-radius:10px 10px;\">WAY TO REINVENT YOURSELF</p>\n",
    "\n",
    "# Operating with pandas DataFrames\n",
    "\n",
    "[SOURCE1](https://jakevdp.github.io/PythonDataScienceHandbook/03.08-aggregation-and-grouping.html)\n",
    "[SOURCE2](https://datagy.io/python-pivot-tables/)\n",
    "[SOURCE3](https://medium.com/analytics-vidhya/exploratory-data-analysis-of-titanic-survival-problem-e3af0fb1f276)"
   ]
  },
  {
   "cell_type": "code",
   "execution_count": null,
   "id": "9094379c-7f8b-4fc7-935a-303f0fe0f197",
   "metadata": {},
   "outputs": [],
   "source": [
    "import pandas as pd\n",
    "import numpy as np"
   ]
  },
  {
   "cell_type": "code",
   "execution_count": null,
   "id": "d451e8d1-e6a2-4ce8-a3ef-cbbe92618aee",
   "metadata": {},
   "outputs": [],
   "source": [
    "from IPython.display import YouTubeVideo"
   ]
  },
  {
   "cell_type": "markdown",
   "id": "2db7220a-3db5-486d-a51f-a20256bc3c54",
   "metadata": {},
   "source": [
    "### Jupyter Notebooks\n",
    "\n",
    "One of the star technologies in the Clarusway universe is Jupyter.  \n",
    "\n",
    "Remember Julia, Python, R (Ju-Py-teR) as original early adopters of the Jupyter architecture.  \n",
    "\n",
    "Jupyter Notebooks started in their development as Python-only I-Python Notebooks.  By dint of refactoring, the kernel could become a swappable item, i.e. swap out Python for Julia, or R.  Or Haskell.\n",
    "\n",
    "One thing you can do with a Jupyter Notebook is embed a YouTube.  \n",
    "\n",
    "The YouTube might be about the Notebook itself, or at least about what the Notebook is about.  On the other hand, the YouTube might be what you're citing as an object of scholarship, as something you're talking about in the Notebook, but perhaps not dwelling on.\n",
    "\n",
    "For example, we appreciate the Jake Vanderplus corpus on Github, especially, for our purposes, the Data Science Handbook.  Here's a YouTube of his keynote address to Pycon Columbia in 2019."
   ]
  },
  {
   "cell_type": "code",
   "execution_count": null,
   "id": "84efd382-3be7-4edd-b9d6-549ba9e61d9e",
   "metadata": {},
   "outputs": [],
   "source": [
    "YouTubeVideo(\"zna96tsMIWE\")  # https://youtu.be/zna96tsMIWE"
   ]
  },
  {
   "cell_type": "markdown",
   "id": "ee8d57c3-1a46-4e90-bf24-2bc21917d10b",
   "metadata": {},
   "source": [
    "### Planet Python\n",
    "\n",
    "If we think of a subculture, such as Python's, as a planet or nation, then we get some useful geographic metaphors, such as \"nearest neighbors\".\n",
    "\n",
    "An aspect of Planet Python is Pycon and EuroPython.  The latter came first, as Python was hatched in Europe, in the Netherlands in particular, by Guido van Rossum.  Then is spread around the world.  Pycons in the western hemisphere were started by the PSF (Python Software Foundation) as a core promotional campaign for the language.\n",
    "\n",
    "[Flickr Slides from a Pycon in 2016, Portland, Oregon](https://flickr.com/photos/kirbyurner/albums/72157669197221096)"
   ]
  },
  {
   "cell_type": "markdown",
   "id": "02374300-21c6-4083-9b6e-3c5afaea083e",
   "metadata": {},
   "source": [
    "### Pandas\n",
    "\n",
    "Part of Planet Python is [pandas](https://en.wikipedia.org/wiki/Pandas_(software)), a project started by Wess McKinney.  He is also the author of [Getting Started with pandas](https://wesmckinney.com/book/pandas-basics.html).\n",
    "\n",
    "At this point in our Clarusway course, we have met numpy and the pandas DataFrame, and started looking at that object's principal methods."
   ]
  },
  {
   "cell_type": "markdown",
   "id": "30cebe0b-1f13-4631-a770-818d4b9c4bbf",
   "metadata": {},
   "source": [
    "### Reviewing GroupBy\n",
    "\n",
    "The `.groupby` method of the DataFrame splits itself into an iterable sequence of [chunks](https://www.merriam-webster.com/dictionary/chunk), which then may be variously [aggregated](https://www.merriam-webster.com/dictionary/aggregated) such as by summing, averaging, counting and so on.\n",
    "\n",
    "Note below the syntax for starting a random number generator (`rng`) at a specific place.  This object gets used to populate the column `data2`."
   ]
  },
  {
   "cell_type": "code",
   "execution_count": null,
   "id": "4eaa5b99-3f38-4075-98d9-0d874d110444",
   "metadata": {},
   "outputs": [],
   "source": [
    "rng = np.random.RandomState(0)\n",
    "df = pd.DataFrame({'key': ['A', 'B', 'C', 'A', 'B', 'C'],\n",
    "                   'data1': range(6),\n",
    "                   'data2': rng.randint(0, 10, 6)},\n",
    "                   columns = ['key', 'data1', 'data2'])\n",
    "df"
   ]
  },
  {
   "cell_type": "code",
   "execution_count": null,
   "id": "2ba125e7-267b-4507-90c0-6b487c9e84af",
   "metadata": {},
   "outputs": [],
   "source": [
    "df.groupby(\"key\").data1  # remember, a key column need not be named \"key\""
   ]
  },
  {
   "cell_type": "markdown",
   "id": "1692fb5b-240f-45e2-b2b7-b18ae57800e7",
   "metadata": {},
   "source": [
    "A single series with groupby enabled, one could put it.  There's nothing tabular worth showing at this point.\n",
    "\n",
    "Below, in looping over the groupby, we encounter a (key: group) structure of several items."
   ]
  },
  {
   "cell_type": "code",
   "execution_count": null,
   "id": "42918c79-eb3d-4c37-b7f7-4f2564cd0081",
   "metadata": {},
   "outputs": [],
   "source": [
    "for k, g in df.groupby(\"key\"):\n",
    "    print(k)  # value of \"key\" is the key\n",
    "    print(g[['data1','data2']].agg(sum))  # aggregator attached\n",
    "    print(g.shape)"
   ]
  },
  {
   "cell_type": "code",
   "execution_count": null,
   "id": "497baecc-e3a1-4ad1-adf2-af4e631085ae",
   "metadata": {},
   "outputs": [],
   "source": [
    "bykey = df.groupby(\"key\")  # we can save the groupby by nameing it..."
   ]
  },
  {
   "cell_type": "code",
   "execution_count": null,
   "id": "dd2af765-dde1-4ea5-b3c8-38ec577f6283",
   "metadata": {},
   "outputs": [],
   "source": [
    "bykey[['data1']].count()   # ... then using it.  One column selected, aggregator attached."
   ]
  },
  {
   "cell_type": "code",
   "execution_count": null,
   "id": "e6959ed8-6a7d-4ac6-a955-d6fe436ce724",
   "metadata": {},
   "outputs": [],
   "source": [
    "df.groupby(\"key\").agg(\"count\") # all columns counted"
   ]
  },
  {
   "cell_type": "code",
   "execution_count": null,
   "id": "d8fbb8ca-e282-43fa-8e54-f85c1198fe01",
   "metadata": {},
   "outputs": [],
   "source": [
    "bykey['data1'].sum() # one colun summed, but groupwise, by key"
   ]
  },
  {
   "cell_type": "code",
   "execution_count": null,
   "id": "035b8a92-a547-4a88-851f-ee23673fabed",
   "metadata": {},
   "outputs": [],
   "source": [
    "df.groupby('key').aggregate(['min', np.median, max])  # multiple aggregators"
   ]
  },
  {
   "cell_type": "code",
   "execution_count": null,
   "id": "08fe078d-585c-4142-afb5-934e5f9e6ed4",
   "metadata": {},
   "outputs": [],
   "source": [
    "df.groupby('key').agg([np.min, np.median, np.max])  # ... aggregators might be object in np"
   ]
  },
  {
   "cell_type": "code",
   "execution_count": null,
   "id": "7f172c53-cac1-471d-8c82-4a6d56b514b9",
   "metadata": {},
   "outputs": [],
   "source": [
    "df"
   ]
  },
  {
   "cell_type": "markdown",
   "id": "952add3e-3d64-4a3a-9ce6-1a1857e7a6d6",
   "metadata": {},
   "source": [
    "Jake shows us in one of his examples how a group does not have to be one of the columns but may be any Series or sequence.  Unique values become the \"bucket names\" (keys to groups), the chunks are what fill the buckets.  We're ready for aggregation at that point."
   ]
  },
  {
   "cell_type": "code",
   "execution_count": null,
   "id": "29c5539b-898b-4dbe-9344-db308656a436",
   "metadata": {},
   "outputs": [],
   "source": [
    "L = [0, 1, 0, 1, 2, 0]\n",
    "df.groupby(L).sum()  # aggregator attached"
   ]
  },
  {
   "cell_type": "markdown",
   "id": "1a6d6081-32c2-4802-82ec-77db91e4c68c",
   "metadata": {},
   "source": [
    "This example is from [The Python Data Science Handbook](https://www.oreilly.com/library/view/python-data-science/9781491912126/) also.  Provided the key you wish to group on is the DataFrame index, then a mapping of its values by means of a Python dict, will also serve to define an alternate set of groups with their own keys.\n",
    "\n",
    "Here's his example:"
   ]
  },
  {
   "cell_type": "code",
   "execution_count": null,
   "id": "d943133a-a7fe-4e25-817d-9f9bce65719c",
   "metadata": {},
   "outputs": [],
   "source": [
    "df2 = df.set_index('key')\n",
    "mapping = {'A': 'vowel', 'B': 'consonant', 'C': 'consonant'}\n",
    "df2.groupby(mapping).sum()"
   ]
  },
  {
   "cell_type": "code",
   "execution_count": null,
   "id": "d5595d0e-a1e0-465d-897c-6dbd75493e7c",
   "metadata": {},
   "outputs": [],
   "source": [
    "df2.groupby(str.lower).mean()"
   ]
  },
  {
   "cell_type": "code",
   "execution_count": null,
   "id": "7d34a269-62ee-4620-833a-9daff6843256",
   "metadata": {},
   "outputs": [],
   "source": [
    "def filter_func(x):\n",
    "    return x['data2'].std() > 4  # True\n",
    "\n",
    "df.groupby('key').std() "
   ]
  },
  {
   "cell_type": "code",
   "execution_count": null,
   "id": "8b3c7590-2014-4cbd-9dff-0e2ed4e2f40b",
   "metadata": {},
   "outputs": [],
   "source": [
    "df.groupby('key').filter(filter_func)  # for each group, run the filter function"
   ]
  },
  {
   "cell_type": "code",
   "execution_count": null,
   "id": "e491dccb-3169-454a-9008-a6d5c88b0593",
   "metadata": {},
   "outputs": [],
   "source": [
    "df['sum_cols'] = df['data1'] + df['data2']  # remember column creation\n",
    "df"
   ]
  },
  {
   "cell_type": "code",
   "execution_count": null,
   "id": "a354ec45-2927-4b46-82dd-65a61fa7e1bc",
   "metadata": {},
   "outputs": [],
   "source": [
    "df.drop(\"sum_cols\", axis=\"columns\", inplace=True) # remember dropping columns"
   ]
  },
  {
   "cell_type": "code",
   "execution_count": null,
   "id": "b162610e-1238-4a81-8bd5-0d595f830d89",
   "metadata": {},
   "outputs": [],
   "source": [
    "df"
   ]
  },
  {
   "cell_type": "code",
   "execution_count": null,
   "id": "a96b5c82-afdc-4aea-8db5-c904f6b89efb",
   "metadata": {},
   "outputs": [],
   "source": [
    "def func(x):\n",
    "    # x is a DataFrame of group values\n",
    "    x['sum_cols'] = x['data1'] + x['data2']\n",
    "    return x\n",
    "\n",
    "df = df.groupby(\"key\").apply(func)\n",
    "df"
   ]
  },
  {
   "cell_type": "code",
   "execution_count": null,
   "id": "0e4a387d-b7f3-4e23-a5ad-de646a5b6f78",
   "metadata": {},
   "outputs": [],
   "source": [
    "df.groupby('key').std().filter(regex=\"\\d$\")"
   ]
  },
  {
   "cell_type": "code",
   "execution_count": null,
   "id": "35ac5d5b-995c-48cf-b78c-6f9f4bc293b0",
   "metadata": {},
   "outputs": [],
   "source": [
    "df.groupby('key').std().filter(regex=\"^d\")"
   ]
  },
  {
   "cell_type": "code",
   "execution_count": null,
   "id": "a0b6a2a1-fefa-4953-9347-c70d0e6c8777",
   "metadata": {},
   "outputs": [],
   "source": [
    "df"
   ]
  },
  {
   "cell_type": "code",
   "execution_count": null,
   "id": "965d99e9-03d8-4b01-941f-df4d797c9f7f",
   "metadata": {},
   "outputs": [],
   "source": [
    "df[['data1', 'data2']].transform(lambda x: x + 1)"
   ]
  },
  {
   "cell_type": "code",
   "execution_count": null,
   "id": "b93c404c-6c08-4635-9cb7-0f8a964b2af4",
   "metadata": {},
   "outputs": [],
   "source": [
    "df"
   ]
  },
  {
   "cell_type": "markdown",
   "id": "fa08df74-f035-4c85-a91f-7a82c7468c42",
   "metadata": {},
   "source": [
    "### Reviewing Stack / Unstack"
   ]
  },
  {
   "cell_type": "code",
   "execution_count": null,
   "id": "acb170ec-86c9-4296-bf1a-1a8ab5ae2be9",
   "metadata": {},
   "outputs": [],
   "source": [
    "animals = ['Dog', 'Dog', 'Dog', 'Cat', 'Cat', 'Cat', 'Cat']\n",
    "breeds = ['Lab', 'Lab', 'Pug', 'Siamese', 'Asian', 'Asian', 'Bengal']\n",
    "columns = ['color', 'age', 'weight']"
   ]
  },
  {
   "cell_type": "code",
   "execution_count": null,
   "id": "69bcd81a-9c3d-4262-9fa8-8266b8034a61",
   "metadata": {},
   "outputs": [],
   "source": [
    "row_index = pd.MultiIndex.from_tuples(zip(animals, breeds))\n",
    "row_index"
   ]
  },
  {
   "cell_type": "code",
   "execution_count": null,
   "id": "175a67d8-1d3b-45c9-bf9d-f89a6943d0d3",
   "metadata": {},
   "outputs": [],
   "source": [
    "names = ['Rover', 'Fido', 'Sydney', 'Felix', 'Tabby', 'Su', 'Tyron']\n",
    "colors = ['yellow', 'black', 'orange', 'yellow', 'brown', 'chocolate', 'white']\n",
    "ages = [5, 6, 3, 2, 10, 11, 5]\n",
    "weights = [12.3, 12.8, 11.0, 4.7, 8.1, 9.2, 5.5]\n",
    "pets_df = pd.DataFrame({'name' : names,\n",
    "                        'color' : colors, \n",
    "                        'age'   : ages,\n",
    "                        'weight': weights},\n",
    "                        index = row_index)\n",
    "pets_df"
   ]
  },
  {
   "cell_type": "code",
   "execution_count": null,
   "id": "c73eae16-96c0-4ab3-b30e-edc74172f13f",
   "metadata": {},
   "outputs": [],
   "source": [
    "pets_df.index.names = [\"Animal\", \"Breed\"]"
   ]
  },
  {
   "cell_type": "code",
   "execution_count": null,
   "id": "cfe42c68-938b-48fa-994e-9082a51c2fa1",
   "metadata": {},
   "outputs": [],
   "source": [
    "pets_df"
   ]
  },
  {
   "cell_type": "code",
   "execution_count": null,
   "id": "3d27fa82-e116-43aa-9fe8-24a97ee6ffd8",
   "metadata": {},
   "outputs": [],
   "source": [
    "stacked = pets_df.stack()\n",
    "pd.DataFrame(stacked)"
   ]
  },
  {
   "cell_type": "code",
   "execution_count": null,
   "id": "08342912-bf2a-4222-be68-20da86955e4e",
   "metadata": {},
   "outputs": [],
   "source": [
    "pets_df2 = pd.DataFrame({'name' : names,\n",
    "                        'animal': animals,\n",
    "                        'breed' : breeds,\n",
    "                        'color' : colors, \n",
    "                        'age'   : ages,\n",
    "                        'weight': weights})\n",
    "pets_df2"
   ]
  },
  {
   "cell_type": "markdown",
   "id": "be077be2-9cb4-47c1-8b77-6940dc46c7eb",
   "metadata": {},
   "source": [
    "### Pivoting"
   ]
  },
  {
   "cell_type": "code",
   "execution_count": null,
   "id": "e37d1ce6-ad9f-4231-91f9-550acba209cd",
   "metadata": {},
   "outputs": [],
   "source": [
    "# ? pd.pivot"
   ]
  },
  {
   "cell_type": "code",
   "execution_count": null,
   "id": "746b2e58-a687-4166-8edc-3a0e2048db97",
   "metadata": {},
   "outputs": [],
   "source": [
    "pets_df2.groupby('animal').agg(np.mean)"
   ]
  },
  {
   "cell_type": "markdown",
   "id": "270aa9d7-06ae-45be-ba74-773e05075c29",
   "metadata": {},
   "source": [
    "The pivots below get run twice to show how `pivot_table`...\n",
    "\n",
    "* may be obtained from `pd`, in which case the target DataFrame needs to be passed as the data argument (leftmost), or \n",
    "* `pivot_table` may be invoked as a method of the table in question, in which case it should not be passed"
   ]
  },
  {
   "cell_type": "code",
   "execution_count": null,
   "id": "bc0279a6-0aee-41cc-ae5e-34abc90f201c",
   "metadata": {},
   "outputs": [],
   "source": [
    "pets_df2.pivot_table(aggfunc=np.mean, index='animal')  # table known"
   ]
  },
  {
   "cell_type": "code",
   "execution_count": null,
   "id": "3ce71ec5-f50c-4f6f-a1da-9f7a56ff3145",
   "metadata": {},
   "outputs": [],
   "source": [
    "# pets_df2.pivot_table(data=pets_df2, aggfunc=np.mean, index='animal') Error"
   ]
  },
  {
   "cell_type": "code",
   "execution_count": null,
   "id": "916f18d9-f2dc-488b-8626-92a19d7d979a",
   "metadata": {},
   "outputs": [],
   "source": [
    "pd.pivot_table(data=pets_df2, index='animal', aggfunc=np.mean)"
   ]
  },
  {
   "cell_type": "code",
   "execution_count": null,
   "id": "44cd3fe7-723e-4910-b5a3-ffef6faa04d8",
   "metadata": {},
   "outputs": [],
   "source": [
    "pets_df2.pivot_table(aggfunc=np.mean, index=['animal','breed'])  # table known"
   ]
  },
  {
   "cell_type": "code",
   "execution_count": null,
   "id": "52a4ab12-d7f1-47b5-9bc3-2c0ec0463bd5",
   "metadata": {},
   "outputs": [],
   "source": [
    "pd.pivot_table(pets_df2, aggfunc=np.mean, index=['animal','breed']) # table passed"
   ]
  },
  {
   "cell_type": "markdown",
   "id": "b34bc983-4096-4086-a4a9-d92f6535ed06",
   "metadata": {},
   "source": [
    "Unstack takes the innermost level (lowest) of a hierarchical index and spreads it out as columns.  \n",
    "\n",
    "Stack takes a lowest level of columns and stacks them up as rows in a hierarchical index."
   ]
  },
  {
   "cell_type": "code",
   "execution_count": null,
   "id": "7c993606-5fac-427f-a80c-babdbb111f8d",
   "metadata": {},
   "outputs": [],
   "source": [
    "table = pd.pivot_table(pets_df2, aggfunc=np.mean, index=['animal','breed'])\n",
    "table.unstack()"
   ]
  },
  {
   "cell_type": "code",
   "execution_count": null,
   "id": "f15995f7-c2a0-484a-91cd-1f0255b4e084",
   "metadata": {},
   "outputs": [],
   "source": [
    "pets_df2"
   ]
  },
  {
   "cell_type": "code",
   "execution_count": null,
   "id": "7a1e199c-d2e9-42da-b9fe-6cc4809e59ce",
   "metadata": {},
   "outputs": [],
   "source": [
    "pets_df2.pivot(index=\"name\", columns=\"breed\")"
   ]
  },
  {
   "cell_type": "code",
   "execution_count": null,
   "id": "43dd92a3-ffc7-4dee-a302-3350b0d9c596",
   "metadata": {},
   "outputs": [],
   "source": [
    "table = pets_df2.pivot(index=\"name\", columns=\"breed\")  # as above\n",
    "table.stack()"
   ]
  },
  {
   "cell_type": "code",
   "execution_count": null,
   "id": "488d5d76-1d2e-4196-a0b5-6867ecd0abc9",
   "metadata": {},
   "outputs": [],
   "source": [
    "? pd.pivot_table"
   ]
  },
  {
   "cell_type": "code",
   "execution_count": null,
   "id": "f0913ebe-5880-4d07-8d64-2e7fa124249b",
   "metadata": {},
   "outputs": [],
   "source": [
    "pets_df2.pivot_table(values=\"weight\", index=\"name\", columns=\"breed\", fill_value=\" \")"
   ]
  },
  {
   "cell_type": "code",
   "execution_count": null,
   "id": "14201931-6e15-4852-8b6a-623883f5d8ac",
   "metadata": {},
   "outputs": [],
   "source": [
    "pets_df2"
   ]
  },
  {
   "cell_type": "code",
   "execution_count": null,
   "id": "1abca8ff-6792-449a-8eac-c39eff05e50c",
   "metadata": {},
   "outputs": [],
   "source": [
    "pets_df2.pivot_table(index=\"name\", values=\"weight\")"
   ]
  },
  {
   "cell_type": "code",
   "execution_count": null,
   "id": "86786550-8464-4177-8316-573822819efe",
   "metadata": {},
   "outputs": [],
   "source": [
    "pets_df2.pivot_table(index=\"name\", values=\"age\")"
   ]
  },
  {
   "cell_type": "code",
   "execution_count": null,
   "id": "2bd6b206-153f-4ded-adeb-28c16aa01466",
   "metadata": {},
   "outputs": [],
   "source": [
    "pets_df2[['name', 'color']]"
   ]
  },
  {
   "cell_type": "code",
   "execution_count": null,
   "id": "7bac60b4-12f9-4f5b-9416-32a027a1133b",
   "metadata": {},
   "outputs": [],
   "source": [
    "pets_df2.pivot(values=\"weight\", index=\"name\", columns=\"animal\")"
   ]
  },
  {
   "cell_type": "code",
   "execution_count": null,
   "id": "1cae3924-47ed-4bb0-8174-cc485c7a7b88",
   "metadata": {},
   "outputs": [],
   "source": [
    "pets_df2.pivot_table(values=\"weight\", index=\"name\", columns=\"animal\", fill_value=\" \")"
   ]
  },
  {
   "cell_type": "code",
   "execution_count": null,
   "id": "37c051d5-cc0c-4496-b4fa-f7314b5ff8d3",
   "metadata": {},
   "outputs": [],
   "source": [
    "YouTubeVideo(\"5yFox2cReTw\")"
   ]
  },
  {
   "cell_type": "code",
   "execution_count": null,
   "id": "01d4f626-a4c2-4e58-8507-1ec1531d2d6a",
   "metadata": {},
   "outputs": [],
   "source": [
    "df = pd.read_excel('https://github.com/datagy/mediumdata/raw/master/sample_pivot.xlsx')\n",
    "df"
   ]
  },
  {
   "cell_type": "code",
   "execution_count": null,
   "id": "afd65127-ed0d-40b0-b9f3-30ac4c541677",
   "metadata": {},
   "outputs": [],
   "source": [
    "df.info()"
   ]
  },
  {
   "cell_type": "code",
   "execution_count": null,
   "id": "4e4443d7-e38c-4302-891e-9c9f2d0c7f8e",
   "metadata": {},
   "outputs": [],
   "source": [
    "df.groupby('Region').Units.agg(np.sum)"
   ]
  },
  {
   "cell_type": "code",
   "execution_count": null,
   "id": "4941c44c-1090-4063-b89a-beae41b3b4d7",
   "metadata": {},
   "outputs": [],
   "source": [
    "pd.pivot_table(df, index='Region')"
   ]
  },
  {
   "cell_type": "code",
   "execution_count": null,
   "id": "77a4819c-b044-44ca-9897-5ea467502344",
   "metadata": {},
   "outputs": [],
   "source": [
    "pd.pivot_table(df, index='Region', aggfunc=np.sum)"
   ]
  },
  {
   "cell_type": "code",
   "execution_count": null,
   "id": "5c9661ae-1df0-4805-aa8d-4a242db03c1d",
   "metadata": {},
   "outputs": [],
   "source": [
    "df[(df.Region == 'North') & (df.Type == \"Men's Clothing\")].Units.agg('count')"
   ]
  },
  {
   "cell_type": "code",
   "execution_count": null,
   "id": "fc575be0-1616-4332-a6ee-efe86afc1336",
   "metadata": {},
   "outputs": [],
   "source": [
    "df.groupby('Region').agg({'Sales':np.sum, 'Units':np.mean}) "
   ]
  },
  {
   "cell_type": "code",
   "execution_count": null,
   "id": "0adee9e1-818e-4c9c-90d4-757ffcf88037",
   "metadata": {},
   "outputs": [],
   "source": [
    "df.groupby(['Region','Type']).agg({'Sales':np.sum, 'Units':np.mean}) "
   ]
  },
  {
   "cell_type": "code",
   "execution_count": null,
   "id": "2d739dc8-32b8-45a4-90e6-b751522a897d",
   "metadata": {},
   "outputs": [],
   "source": [
    "pd.pivot_table(df, index=['Region','Type'], aggfunc={\"Sales\":np.sum, \"Units\":np.mean})"
   ]
  },
  {
   "cell_type": "code",
   "execution_count": null,
   "id": "4ff746aa-e96f-4941-95d0-81a6f157eec9",
   "metadata": {},
   "outputs": [],
   "source": [
    "pd.pivot_table(df, index=['Type','Region'], aggfunc={\"Sales\":np.sum, \"Units\":np.mean})"
   ]
  },
  {
   "cell_type": "markdown",
   "id": "39d47760-1946-4d71-90c7-0016021acae3",
   "metadata": {},
   "source": [
    "Let's turn our attention to the Jake Vanderplas on-line tutorial on [Github](https://jakevdp.github.io/PythonDataScienceHandbook/03.09-pivot-tables.html)"
   ]
  },
  {
   "cell_type": "code",
   "execution_count": null,
   "id": "cddf0515-b900-4758-8527-ec254a6dd9f1",
   "metadata": {},
   "outputs": [],
   "source": [
    "import seaborn as sns\n",
    "titanic = sns.load_dataset('titanic')"
   ]
  },
  {
   "cell_type": "code",
   "execution_count": null,
   "id": "2536b511-af29-4047-8aee-2f3e8c3f7f8f",
   "metadata": {},
   "outputs": [],
   "source": [
    "titanic.info()"
   ]
  },
  {
   "cell_type": "code",
   "execution_count": null,
   "id": "f4e8e7b1-5569-492e-999b-d5392532e372",
   "metadata": {},
   "outputs": [],
   "source": [
    "titanic.isnull().sum()"
   ]
  },
  {
   "cell_type": "code",
   "execution_count": null,
   "id": "2520323b-09df-4013-81ca-4e01d9bba9bc",
   "metadata": {},
   "outputs": [],
   "source": [
    "titanic.describe().T"
   ]
  },
  {
   "cell_type": "markdown",
   "id": "f4eeb5bc-27fc-4d32-bdd3-d33b0212e9af",
   "metadata": {},
   "source": [
    "Looking ahead to data cleaning, one approach to the missing 177 ages would be to fill them in with random ages within one standard deviation of the mean, i.e. mean-sd to mean+sd where sd = standard deviation.\n",
    "\n",
    "The function below takes a new column name as input, i.e. we will leave Age as is and have the \"filled in\" version elsewhere."
   ]
  },
  {
   "cell_type": "code",
   "execution_count": null,
   "id": "ee766afc-5ecc-44b7-8376-385424026589",
   "metadata": {},
   "outputs": [],
   "source": [
    "def fill_na_age(df, colname):\n",
    "    mean = df[colname].mean()\n",
    "    sd = df[colname].std()\n",
    "    def fill_empty(x):\n",
    "        if np.isnan(x):  # return untouched otherwise\n",
    "            return np.random.randint(mean-sd, mean+sd, ())  # replace with likely value\n",
    "        return x \n",
    "    return df[colname].apply(fill_empty).astype(float)"
   ]
  },
  {
   "cell_type": "markdown",
   "id": "99c3dd95-c9e4-41af-aac6-b1b9b0bfa9ac",
   "metadata": {},
   "source": [
    "Thanks to: Revathi Suriyadeepan<br/>\n",
    "[Exploratory Data Analysis of Titanic Survival Problem](https://medium.com/analytics-vidhya/exploratory-data-analysis-of-titanic-survival-problem-e3af0fb1f276)<br/>\n",
    "Part I — Analysis, Cleaning & Visualization<br/>\n",
    "Dec 30, 2020"
   ]
  },
  {
   "cell_type": "code",
   "execution_count": null,
   "id": "048584ac-7716-4725-9726-28d0735da678",
   "metadata": {},
   "outputs": [],
   "source": [
    "titanic['filled_age'] = fill_na_age(titanic, 'age')\n",
    "titanic"
   ]
  },
  {
   "cell_type": "code",
   "execution_count": null,
   "id": "7aeb3dee-9e93-4a93-b60a-1f364b8dbdf0",
   "metadata": {},
   "outputs": [],
   "source": [
    "titanic.groupby(['sex', 'class'])['survived'].aggregate('mean')"
   ]
  },
  {
   "cell_type": "code",
   "execution_count": null,
   "id": "baa0dfbd-215c-48c0-bb48-242f37a8b842",
   "metadata": {},
   "outputs": [],
   "source": [
    "titanic.groupby(['sex', 'class'])['survived'].aggregate('mean').unstack()"
   ]
  },
  {
   "cell_type": "code",
   "execution_count": null,
   "id": "a16a6e9c-12dc-46b4-8165-7917ab5b109d",
   "metadata": {},
   "outputs": [],
   "source": [
    "titanic.pivot_table(values='survived', index='sex', columns='class')"
   ]
  },
  {
   "cell_type": "code",
   "execution_count": null,
   "id": "2fec3fd2-3c67-4e8d-85ce-f1d2e8d9de27",
   "metadata": {},
   "outputs": [],
   "source": [
    "age = pd.cut(titanic['age'], [0, 18, 80])\n",
    "titanic.pivot_table('survived', ['sex', age], 'class')"
   ]
  },
  {
   "cell_type": "code",
   "execution_count": null,
   "id": "b3f849a7-5205-4da6-897a-4582213cd616",
   "metadata": {},
   "outputs": [],
   "source": [
    "fare = pd.qcut(titanic['fare'], 4)\n",
    "titanic.pivot_table('survived', ['sex', age], [fare, 'class'])"
   ]
  },
  {
   "cell_type": "code",
   "execution_count": null,
   "id": "d0c87b20-8fb3-43b6-bc82-8da9eaefb029",
   "metadata": {},
   "outputs": [],
   "source": [
    "births = pd.read_csv(\"https://raw.githubusercontent.com/jakevdp/data-CDCbirths/master/births.csv\")\n",
    "births"
   ]
  },
  {
   "cell_type": "code",
   "execution_count": null,
   "id": "1962057d-0706-457f-ba8b-be58b8dfafed",
   "metadata": {},
   "outputs": [],
   "source": [
    "births.info()"
   ]
  },
  {
   "cell_type": "code",
   "execution_count": null,
   "id": "5f12a453-2645-4242-aee8-f725c611a953",
   "metadata": {},
   "outputs": [],
   "source": [
    "births.describe()"
   ]
  },
  {
   "cell_type": "code",
   "execution_count": null,
   "id": "a7cdb10a-4fed-409c-bbaf-772e1e9295f8",
   "metadata": {},
   "outputs": [],
   "source": [
    "pd.DataFrame(births.groupby(\"year\")[\"births\"].agg(\"sum\"))"
   ]
  },
  {
   "cell_type": "code",
   "execution_count": null,
   "id": "67c8a955-714f-4b80-88da-26d7166d6897",
   "metadata": {},
   "outputs": [],
   "source": [
    "births.groupby(\"year\")[\"births\"].agg(\"sum\").idxmax()"
   ]
  },
  {
   "cell_type": "code",
   "execution_count": null,
   "id": "f1b48a39-a1a3-474a-823a-d4195fc01733",
   "metadata": {},
   "outputs": [],
   "source": [
    "births['decade'] = 10 * (births['year'] // 10)\n",
    "births.pivot_table(values=\"births\", index='decade', columns='gender', aggfunc='sum')"
   ]
  },
  {
   "cell_type": "code",
   "execution_count": null,
   "id": "547fbba4-9c11-4163-806e-7c44ec28a1df",
   "metadata": {},
   "outputs": [],
   "source": [
    "import matplotlib.pyplot as plt\n",
    "sns.set()  # use Seaborn styles\n",
    "births.pivot_table('births', index='year', columns='gender', aggfunc='sum').plot()\n",
    "plt.ylabel('total births per year');"
   ]
  }
 ],
 "metadata": {
  "kernelspec": {
   "display_name": "Python 3 (ipykernel)",
   "language": "python",
   "name": "python3"
  },
  "language_info": {
   "codemirror_mode": {
    "name": "ipython",
    "version": 3
   },
   "file_extension": ".py",
   "mimetype": "text/x-python",
   "name": "python",
   "nbconvert_exporter": "python",
   "pygments_lexer": "ipython3",
   "version": "3.9.15"
  }
 },
 "nbformat": 4,
 "nbformat_minor": 5
}
