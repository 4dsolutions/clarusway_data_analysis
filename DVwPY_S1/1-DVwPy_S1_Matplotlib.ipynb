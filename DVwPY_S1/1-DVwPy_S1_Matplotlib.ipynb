{
 "cells": [
  {
   "cell_type": "markdown",
   "metadata": {
    "id": "G7QuT2utsGuT"
   },
   "source": [
    "<a href=\"https://colab.research.google.com/github/4dsolutions/clarusway_data_analysis/blob/main/DVwPY_S1/1-DVwPy_S1_Matplotlib.ipynb\"><img align=\"left\" src=\"https://colab.research.google.com/assets/colab-badge.svg\" alt=\"Open in Colab\" title=\"Open and Execute in Google Colaboratory\"></a><br/>\n",
    "[![nbviewer](https://raw.githubusercontent.com/jupyter/design/master/logos/Badges/nbviewer_badge.svg)](https://nbviewer.org/github/4dsolutions/clarusway_data_analysis/blob/main/DVwPY_S1/1-DVwPy_S1_Matplotlib.ipynb)\n",
    "\n",
    "___\n",
    "\n",
    "<p style=\"text-align: center;\"><img src=\"https://docs.google.com/uc?id=1lY0Uj5R04yMY3-ZppPWxqCr5pvBLYPnV\" class=\"img-fluid\" \n",
    "alt=\"CLRSWY\"></p>\n",
    "\n",
    "## <p style=\"background-color:#FDFEFE; font-family:newtimeroman; color:#9d4f8c; font-size:100%; text-align:center; border-radius:10px 10px;\">WAY TO REINVENT YOURSELF</p>"
   ]
  },
  {
   "cell_type": "markdown",
   "metadata": {
    "id": "TjYCZ_khsGua"
   },
   "source": [
    "![image.png](https://i.ibb.co/4gc0nbk/matplotlib.png)\n",
    "\n",
    "Matplotlib is a two-dimensional (2D) plotting library for Python. It was created by John D. Hunter, an American neurobiologist, and was first released in 2002. With Matplotlib, you can generate lines, scatter graphs, bar charts, histograms, error bars, etc, and even do simple 3D plots using the mplot3d toolkit. Matplotlib has a module called Pyplot, which provides an interface similar to MatLab.\n",
    "\n",
    "[MATPLOTLIB Source](https://medium.com/@developit19/matplotlib-python-651fd07e9234)"
   ]
  },
  {
   "cell_type": "markdown",
   "metadata": {
    "id": "N6bADU0ysGub"
   },
   "source": [
    "<a id=\"toc\"></a>\n",
    "\n",
    "## <p style=\"background-color:#9d4f8c; font-family:newtimeroman; color:#FFF9ED; font-size:150%; text-align:center; border-radius:10px 10px;\">CONTENT</p>\n",
    "\n",
    "* [DATA VISUALIZATION WITH MATPLOTLIB](#0)\n",
    "* [INSTALLING MATPLOTLIB LIBRARY TO LOCAL DIRECTORY](#1)\n",
    "* [IMPORTING LIBRARIES NEEDED IN THIS NOTEBOOK](#2)\n",
    "    * [What does matplotlib inline do?](#2.1)\n",
    "* [INTRODUCTION](#3)\n",
    "* [MATPLOTLIB BASICS](#4)\n",
    "* [LINEPLOTS (SERIES/DATAFRAMES)](#5) \n",
    "    * [What is a line plot and why use it?](#5.1)\n",
    "* [2 METHODS USED TO CREATE PLOTS IN MATPLOTLIB](#6)        \n",
    "* [FUNCTIONAL METHOD](#7)\n",
    "* [OBJECT-ORIENTED METHOD](#8)\n",
    "    * [Basic Graph](#8)\n",
    "    * [Multiple-Line in the Same Graph](#8.1)\n",
    "    * [Adding Axes](#8.2)\n",
    "    * [Subplot](#8.3)\n",
    "    * [How to Manipulate Color?](#8.4)\n",
    "    * [How to Manipulate Figure Size?](#8.5)\n",
    "* [LINEWIDTH & LINESTYLES & MARKERS & MARKERSIZE & COLOR](#9)\n",
    "    * [Linewidth](#9)\n",
    "    * [LineStyles](#9.1)\n",
    "    * [Legend](#9.2)\n",
    "    * [How to Plot Range & Add Extra Line](#9.3)\n",
    "    * [Some Additional Exercises](#9.4)\n",
    "* [OTHER PLOTS](#10)\n",
    "* [PANDAS](#11)\n",
    "    * [Manual Spacing on Subplots()](#11.1)\n",
    "* [THE END OF THE MATPLOTLIB SESSION 01](#12)    "
   ]
  },
  {
   "cell_type": "markdown",
   "metadata": {
    "id": "yqLjI2_eUmfZ"
   },
   "source": [
    "## <p style=\"background-color:#9d4f8c; font-family:newtimeroman; color:#FFF9ED; font-size:150%; text-align:center; border-radius:10px 10px;\">DATA VISUALIZATION WITH MATPLOTLIB</p>\n",
    "\n",
    "<a id=\"0\"></a>\n",
    "<a href=\"#toc\" class=\"btn btn-primary btn-sm\" role=\"button\" aria-pressed=\"true\" \n",
    "style=\"color:blue; background-color:#dfa8e4\" data-toggle=\"popover\">Content</a>\n",
    "\n",
    "## Objectives\n",
    "\n",
    "After completing this part of your Machine Learning (ML) course you will be able to:\n",
    "\n",
    "-   Create Data Visualization with Python\n",
    "-   Use various Python libraries for visualization\n",
    "    - Matplotlib\n",
    "    - Seaborn"
   ]
  },
  {
   "cell_type": "markdown",
   "metadata": {
    "id": "8faulAr2sGue"
   },
   "source": [
    "## <p style=\"background-color:#9d4f8c; font-family:newtimeroman; color:#FFF9ED; font-size:150%; text-align:center; border-radius:10px 10px;\">INSTALLING MATPLOTLIB LIBRARY TO LOCAL DIRECTORY</p>\n",
    "\n",
    "<a id=\"1\"></a>\n",
    "<a href=\"#toc\" class=\"btn btn-primary btn-sm\" role=\"button\" aria-pressed=\"true\" \n",
    "style=\"color:blue; background-color:#dfa8e4\" data-toggle=\"popover\">Content</a>\n",
    "\n",
    "**To use matplotlib, we need to install it.**\n",
    "\n",
    "- Step 1 − Make sure Python and pip is preinstalled on your system\n",
    "\n",
    "Type the following commands in the command prompt to check is python and pip is installed on your system.\n",
    "\n",
    "**To check Python**\n",
    "\n",
    "- python --version\n",
    "\n",
    "If python is successfully installed, the version of python installed on your system will be displayed.\n",
    "\n",
    "**To check pip**\n",
    "\n",
    "- pip -V\n",
    "\n",
    "The version of pip will be displayed, if it is successfully installed on your system.\n",
    "\n",
    "- Step 2 − Install Matplotlib\n",
    "\n",
    "Matplotlib can be installed using pip. The following command is run in the command prompt to install Matplotlib.\n",
    "\n",
    "- pip install matplotlib\n",
    "\n",
    "This command will start downloading and installing packages related to the matplotlib library. Once done, the message of successful installation will be displayed.\n",
    "\n",
    "- Step 3 − Check if it is installed successfully\n",
    "\n",
    "To verify that matplotlib is successfully installed on your system, execute the following command in the command prompt. If matplotlib is successfully installed, the version of matplotlib installed will be displayed.\n",
    "\n",
    "- import matplotlib\n",
    "\n",
    "- matplotlib.__version__\n",
    "\n",
    "[SOURCE](https://www.tutorialspoint.com/how-to-install-matplotlib-in-python)"
   ]
  },
  {
   "cell_type": "code",
   "execution_count": null,
   "metadata": {
    "id": "exjg1cu4U-x_"
   },
   "outputs": [],
   "source": [
    "# !pip install matplotlib"
   ]
  },
  {
   "cell_type": "code",
   "execution_count": null,
   "metadata": {},
   "outputs": [],
   "source": [
    "# ! ls -o *.*\n",
    "# ! dir"
   ]
  },
  {
   "cell_type": "code",
   "execution_count": null,
   "metadata": {},
   "outputs": [],
   "source": [
    "import matplotlib as mpl"
   ]
  },
  {
   "cell_type": "code",
   "execution_count": null,
   "metadata": {
    "colab": {
     "base_uri": "https://localhost:8080/"
    },
    "id": "7SyZDRZq_ziH",
    "outputId": "9ccc49dc-45a0-4f5c-9911-edb06bb2d491",
    "scrolled": true
   },
   "outputs": [],
   "source": [
    "print(mpl.__version__)"
   ]
  },
  {
   "cell_type": "markdown",
   "metadata": {
    "id": "dZjtXhFvsGuk"
   },
   "source": [
    "## <p style=\"background-color:#9d4f8c; font-family:newtimeroman; color:#FFF9ED; font-size:150%; text-align:center; border-radius:10px 10px;\">IMPORTING LIBRARIES NEEDED IN THIS NOTEBOOK</p>\n",
    "\n",
    "<a id=\"2\"></a>\n",
    "<a href=\"#toc\" class=\"btn btn-primary btn-sm\" role=\"button\" aria-pressed=\"true\" \n",
    "style=\"color:blue; background-color:#dfa8e4\" data-toggle=\"popover\">Content</a>"
   ]
  },
  {
   "cell_type": "code",
   "execution_count": null,
   "metadata": {
    "id": "-huz4SqU_ziE"
   },
   "outputs": [],
   "source": [
    "import numpy as np\n",
    "\n",
    "import matplotlib as mpl\n",
    "import matplotlib.pyplot as plt\n",
    "\n",
    "import warnings;\n",
    "warnings.filterwarnings('ignore')"
   ]
  },
  {
   "cell_type": "markdown",
   "metadata": {
    "id": "qrUP3Wk_6Qj4"
   },
   "source": [
    "**NOTE: If you are using an older version of jupyter, you need to run a \"magic\" command to see the plots inline with the notebook. Users of jupyter notebook 1.0 and above, don't need to run the cell below:**"
   ]
  },
  {
   "cell_type": "markdown",
   "metadata": {
    "id": "W-S1m99OsGum"
   },
   "source": [
    "#### <p style=\"background-color:#9d4f8c; font-family:newtimeroman; color:#FFF9ED; font-size:150%; text-align:LEFT; border-radius:10px 10px;\">What does matplotlib inline do?</p>\n",
    "\n",
    "<a id=\"2.1\"></a>\n",
    "<a href=\"#toc\" class=\"btn btn-primary btn-sm\" role=\"button\" aria-pressed=\"true\" \n",
    "style=\"color:blue; background-color:#dfa8e4\" data-toggle=\"popover\">Content</a>\n",
    "\n",
    "%matplotlib inline sets the backend of matplotlib to the 'inline' backend: With this backend, the output of plotting commands is displayed inline within frontends like the Jupyter notebook, directly below the code cell that produced it. The resulting plots will then also be stored in the notebook document.\n",
    "\n",
    "[SOURCE](https://stackoverflow.com/questions/43027980/purpose-of-matplotlib-inline#:~:text=%25matplotlib%20inline%20sets%20the%20backend,stored%20in%20the%20notebook%20document.)"
   ]
  },
  {
   "cell_type": "code",
   "execution_count": null,
   "metadata": {},
   "outputs": [],
   "source": [
    "%matplotlib --list"
   ]
  },
  {
   "cell_type": "code",
   "execution_count": null,
   "metadata": {
    "id": "ttwaP6Jw6SE4"
   },
   "outputs": [],
   "source": [
    "# %matplotlib inline"
   ]
  },
  {
   "cell_type": "markdown",
   "metadata": {
    "id": "hMOQzL_tVchP"
   },
   "source": [
    "## <p style=\"background-color:#9d4f8c; font-family:newtimeroman; color:#FFF9ED; font-size:150%; text-align:center; border-radius:10px 10px;\">INTRODUCTION</p>\n",
    "\n",
    "<a id=\"3\"></a>\n",
    "<a href=\"#toc\" class=\"btn btn-primary btn-sm\" role=\"button\" aria-pressed=\"true\" \n",
    "style=\"color:blue; background-color:#dfa8e4\" data-toggle=\"popover\">Content</a>\n",
    "\n",
    "![matplotlib1.png](https://i.ibb.co/jTZFN49/matplotlib1.png)\n",
    "\n",
    "matplotlib.pyplot is a collection of functions that make matplotlib work like MATLAB. Each pyplot function makes some change to a figure: e.g., creates a figure, creates a plotting area in a figure, plots some lines in a plotting area, decorates the plot with labels, etc.\n",
    "\n",
    "In matplotlib.pyplot various states are preserved across function calls, so that it keeps track of things like the current figure and plotting area, and the plotting functions are directed to the current axes (please note that \"axes\" here and in most places in the documentation refers to the axes part of a figure and not the strict mathematical term for more than one axis).\n",
    "\n",
    "Matplotlib is a two-dimensional (2D) plotting library for Python. It was created by John D. Hunter, an American neurobiologist, and was first released in 2002. With Matplotlib, you can generate lines, scatter graphs, bar charts, histograms, error bars, etc, and even do simple 3D plots using the mplot3d toolkit. Matplotlib has a module called Pyplot, which provides an interface similar to MatLab."
   ]
  },
  {
   "cell_type": "markdown",
   "metadata": {
    "id": "kAiNOakp_ziI"
   },
   "source": [
    "## <p style=\"background-color:#9d4f8c; font-family:newtimeroman; color:#FFF9ED; font-size:150%; text-align:center; border-radius:10px 10px;\">MATPLOTLIB BASICS</p>\n",
    "\n",
    "<a id=\"4\"></a>\n",
    "<a href=\"#toc\" class=\"btn btn-primary btn-sm\" role=\"button\" aria-pressed=\"true\" \n",
    "style=\"color:blue; background-color:#dfa8e4\" data-toggle=\"popover\">Content</a>\n",
    "\n",
    "To make necessary statistical inferences, it becomes necessary to visualize your data and Matplotlib is one such solution for the Python users. It is a very powerful plotting library useful for those working with Python and NumPy. The most used module of Matplotib is Pyplot which provides an interface like MATLAB but instead, it uses Python and it is open source.\n",
    "\n",
    "Pyplot is a module of Matplotlib which provides simple functions to add plot elements like lines, images, text, etc. to the current axes in the current figure.\n",
    "\n",
    "[Source](https://towardsdatascience.com/matplotlib-tutorial-learn-basics-of-pythons-powerful-plotting-library-b5d1b8f67596)"
   ]
  },
  {
   "cell_type": "markdown",
   "metadata": {
    "id": "Q9HSVsPKWRwf"
   },
   "source": [
    "## <p style=\"background-color:#9d4f8c; font-family:newtimeroman; color:#FFF9ED; font-size:150%; text-align:center; border-radius:10px 10px;\">LINEPLOTS (SERIES/DATAFRAMES)</p>\n",
    "\n",
    "<a id=\"5\"></a>\n",
    "<a href=\"#toc\" class=\"btn btn-primary btn-sm\" role=\"button\" aria-pressed=\"true\" \n",
    "style=\"color:blue; background-color:#dfa8e4\" data-toggle=\"popover\">Content</a>"
   ]
  },
  {
   "cell_type": "markdown",
   "metadata": {
    "id": "bIAEioNSWWB6"
   },
   "source": [
    "#### <p style=\"background-color:#9d4f8c; font-family:newtimeroman; color:#FFF9ED; font-size:150%; text-align:LEFT; border-radius:10px 10px;\">What is a line plot and why use it?</p>\n",
    "\n",
    "<a id=\"5.1\"></a>\n",
    "<a href=\"#toc\" class=\"btn btn-primary btn-sm\" role=\"button\" aria-pressed=\"true\" \n",
    "style=\"color:blue; background-color:#dfa8e4\" data-toggle=\"popover\">Content</a>\n",
    "\n",
    "A line chart or line plot is a type of plot which displays information as a series of data points called 'markers' connected by straight line segments. It is a basic type of chart common in many fields.\n",
    "Use line plot when you have a continuous data set. These are best suited for trend-based visualizations of data over a period of time.\n"
   ]
  },
  {
   "cell_type": "code",
   "execution_count": null,
   "metadata": {
    "id": "szeiZRI2__yu"
   },
   "outputs": [],
   "source": [
    "x = np.arange(0, 10)\n",
    "y = 2*x"
   ]
  },
  {
   "cell_type": "code",
   "execution_count": null,
   "metadata": {
    "colab": {
     "base_uri": "https://localhost:8080/",
     "height": 265
    },
    "id": "Hdh4b_uOAfgo",
    "outputId": "45ad034a-8c0c-4a96-d1ee-b7f4570dc86d"
   },
   "outputs": [],
   "source": [
    "plt.plot(x, y);\n",
    "# plt.show() # Required for non-jupyter users , besides removes Out[] info"
   ]
  },
  {
   "cell_type": "markdown",
   "metadata": {
    "id": "XM2v3w0XsGuw"
   },
   "source": [
    "**plt. show()** starts an event loop, looks for all currently active figure objects, and opens one or more interactive windows that display your figure or figures.\n",
    "\n",
    "To require or not required depending on where your script is. There are 2 contexts.\n",
    "\n",
    "- Matplotlib is used in a terminal or scripts, plt.show() is a must.\n",
    "\n",
    "- Matplotlib is used in a IPython shell or a notebook (ex: Kaggle), plt.show() is unnecessary.\n",
    "\n",
    "[SOURCE 01](https://stackoverflow.com/questions/54422714/when-is-plt-show-required-to-show-a-plot-and-when-is-it-not) & [SOURCE 02](https://jakevdp.github.io/PythonDataScienceHandbook/04.00-introduction-to-matplotlib.html#:~:text=Plotting%20from%20a%20script,display%20your%20figure%20or%20figures.)"
   ]
  },
  {
   "cell_type": "code",
   "execution_count": null,
   "metadata": {
    "colab": {
     "base_uri": "https://localhost:8080/",
     "height": 282
    },
    "id": "vnPGSQraHNMY",
    "outputId": "edeb451c-99e1-4056-c48a-a6dfffbc0ada"
   },
   "outputs": [],
   "source": [
    "x = np.arange(-6, 6.1, step=0.1)\n",
    "y = x ** 2\n",
    "# plt.title(\"Parabola\")\n",
    "plt.plot(x, y);"
   ]
  },
  {
   "cell_type": "code",
   "execution_count": null,
   "metadata": {
    "colab": {
     "base_uri": "https://localhost:8080/",
     "height": 295
    },
    "id": "X0GmSqwLApZJ",
    "outputId": "439a7939-6b5b-41a4-9fd4-cbf78b8a40d4"
   },
   "outputs": [],
   "source": [
    "plt.plot(x, y) \n",
    "plt.xlabel('X Axis Title Here')\n",
    "plt.ylabel('Y Axis Title Here')\n",
    "plt.title('String Title Here')\n",
    "plt.savefig('example_one.png')\n",
    "# plt.show() # Required for non-jupyter users , but also removes Out[] info"
   ]
  },
  {
   "cell_type": "code",
   "execution_count": null,
   "metadata": {},
   "outputs": [],
   "source": [
    "! ls -o *.*"
   ]
  },
  {
   "cell_type": "code",
   "execution_count": null,
   "metadata": {},
   "outputs": [],
   "source": [
    "pwd"
   ]
  },
  {
   "cell_type": "code",
   "execution_count": null,
   "metadata": {
    "id": "cZAR9IAHFyjp",
    "outputId": "f438412c-a7ce-4a38-cca4-9ff1b59ffb5b"
   },
   "outputs": [],
   "source": [
    "plt.plot(x, y)\n",
    "plt.savefig('example.png')"
   ]
  },
  {
   "cell_type": "code",
   "execution_count": null,
   "metadata": {
    "colab": {
     "base_uri": "https://localhost:8080/",
     "height": 265
    },
    "id": "N2cFoLYQ_ziJ",
    "outputId": "e287eed2-cd25-4a91-cf72-838b55b6b29f"
   },
   "outputs": [],
   "source": [
    "xpoints = np.array([1, 2, 6, 8,])\n",
    "ypoints = np.array([3, 8, 1, 10])\n",
    "plt.plot(xpoints, ypoints)\n",
    "plt.show()"
   ]
  },
  {
   "cell_type": "code",
   "execution_count": null,
   "metadata": {
    "id": "Vq8Pbeag_ziJ"
   },
   "outputs": [],
   "source": [
    "age = [25, 27, 29, 31, 33, 35, 37, 39, 41, 43, 45]\n",
    "\n",
    "salary = [38496, 42000, 46752, 49320, 53200, 56000, 62316, 64928, 67317, 68748, 73752]"
   ]
  },
  {
   "cell_type": "code",
   "execution_count": null,
   "metadata": {
    "id": "z13qrApXsGuz",
    "outputId": "359b496f-a98a-43a4-b00c-b6d60bad2655"
   },
   "outputs": [],
   "source": [
    "len(age)"
   ]
  },
  {
   "cell_type": "code",
   "execution_count": null,
   "metadata": {
    "id": "6xMeC8L0sGu0",
    "outputId": "4fe3d8bd-c18a-4742-fb8f-691413659206"
   },
   "outputs": [],
   "source": [
    "len(salary)"
   ]
  },
  {
   "cell_type": "code",
   "execution_count": null,
   "metadata": {
    "colab": {
     "base_uri": "https://localhost:8080/",
     "height": 266
    },
    "id": "-8KRMlwv_ziJ",
    "outputId": "723864fb-a07b-4eb0-e2a5-6683260adf3f"
   },
   "outputs": [],
   "source": [
    "plt.plot(age, salary)\n",
    "plt.show()"
   ]
  },
  {
   "cell_type": "code",
   "execution_count": null,
   "metadata": {
    "colab": {
     "base_uri": "https://localhost:8080/",
     "height": 266
    },
    "id": "OyVMyxPZ_ziK",
    "outputId": "0c9c68fd-e605-4fa0-d5ea-b5b1f836e4cc"
   },
   "outputs": [],
   "source": [
    "plt.plot(age)\n",
    "plt.show()"
   ]
  },
  {
   "cell_type": "code",
   "execution_count": null,
   "metadata": {
    "id": "f8uckKqGsGu1",
    "outputId": "2480288a-85d8-46f0-8a08-301728062188"
   },
   "outputs": [],
   "source": [
    "plt.plot(salary)\n",
    "plt.show()"
   ]
  },
  {
   "cell_type": "markdown",
   "metadata": {
    "id": "3dCEtDCTsGu1"
   },
   "source": [
    "## <p style=\"background-color:#9d4f8c; font-family:newtimeroman; color:#FFF9ED; font-size:150%; text-align:center; border-radius:10px 10px;\">2 METHODS USED TO CREATE PLOTS IN MATPLOTLIB</p>\n",
    "\n",
    "<a id=\"6\"></a>\n",
    "<a href=\"#toc\" class=\"btn btn-primary btn-sm\" role=\"button\" aria-pressed=\"true\" \n",
    "style=\"color:blue; background-color:#dfa8e4\" data-toggle=\"popover\">Content</a>\n",
    "\n",
    "The Object-Oriented and the Pyplot interfaces (Functional)\n",
    "\n",
    "There are essentially two ways to use Matplotlib:\n",
    "\n",
    "- Explicitly create Figures and Axes, and call methods on them (the \"Object-Oriented (OO) Style\").\n",
    "\n",
    "- Rely on pyplot to automatically create and manage the Figures and Axes, and use pyplot functions for plotting.\n",
    "\n",
    "[SOURCE](https://matplotlib.org/stable/tutorials/introductory/usage.html)"
   ]
  },
  {
   "cell_type": "markdown",
   "metadata": {
    "id": "vOYDqY9ssGu1"
   },
   "source": [
    "![Capture1.PNG](https://i.ibb.co/t8yVKt1/Capture1.png)"
   ]
  },
  {
   "cell_type": "markdown",
   "metadata": {
    "id": "RNMSyNoJsGu2"
   },
   "source": [
    "![Capture2.PNG](https://i.ibb.co/dLMbS51/Capture2.png)"
   ]
  },
  {
   "cell_type": "markdown",
   "metadata": {
    "id": "ZQybLMYssGu2"
   },
   "source": [
    "![Capture3.PNG](https://i.ibb.co/ySrRdXg/Capture3.png)"
   ]
  },
  {
   "cell_type": "markdown",
   "metadata": {
    "id": "QGbd55gcsGu2"
   },
   "source": [
    "![Capture5.PNG](https://i.ibb.co/QQ2BV8Q/Capture5.png)"
   ]
  },
  {
   "cell_type": "markdown",
   "metadata": {
    "id": "tWAbx-0X_ziK"
   },
   "source": [
    "## <p style=\"background-color:#9d4f8c; font-family:newtimeroman; color:#FFF9ED; font-size:150%; text-align:center; border-radius:10px 10px;\">1 - FUNCTIONAL METHOD</p>\n",
    "\n",
    "<a id=\"7\"></a>\n",
    "<a href=\"#toc\" class=\"btn btn-primary btn-sm\" role=\"button\" aria-pressed=\"true\" \n",
    "style=\"color:blue; background-color:#dfa8e4\" data-toggle=\"popover\">Content</a>"
   ]
  },
  {
   "cell_type": "code",
   "execution_count": null,
   "metadata": {
    "colab": {
     "base_uri": "https://localhost:8080/",
     "height": 295
    },
    "id": "ULJyR39c_ziK",
    "outputId": "26fd58bb-7f60-4b38-b64e-8d8eb207fe17"
   },
   "outputs": [],
   "source": [
    "plt.plot(age, salary)\n",
    "plt.xlabel(\"age\")\n",
    "plt.ylabel(\"salary\")\n",
    "plt.title(\"Salary by Age\");\n",
    "# plt.show();"
   ]
  },
  {
   "cell_type": "code",
   "execution_count": null,
   "metadata": {
    "id": "1d8XILmYsGu3",
    "outputId": "5fc5c018-dcc5-469d-dbac-d6570758ade0"
   },
   "outputs": [],
   "source": [
    "plt.subplot(2, 1, 1)\n",
    "plt.plot(age, salary, 'r')\n",
    "plt.subplot(2, 1, 2)\n",
    "plt.plot(age, salary, 'b');"
   ]
  },
  {
   "cell_type": "markdown",
   "metadata": {
    "id": "LlRAb3dr_ziK"
   },
   "source": [
    "## <p style=\"background-color:#9d4f8c; font-family:newtimeroman; color:#FFF9ED; font-size:150%; text-align:center; border-radius:10px 10px;\">2 - OBJECT-ORIENTED METHOD</p>\n",
    "\n",
    "### <p style=\"background-color:#9d4f8c; font-family:newtimeroman; color:#FFF9ED; font-size:150%; text-align:LEFT; border-radius:10px 10px;\">Basic Graph</p>\n",
    "\n",
    "<a id=\"8\"></a>\n",
    "<a href=\"#toc\" class=\"btn btn-primary btn-sm\" role=\"button\" aria-pressed=\"true\" \n",
    "style=\"color:blue; background-color:#dfa8e4\" data-toggle=\"popover\">Content</a>"
   ]
  },
  {
   "cell_type": "code",
   "execution_count": null,
   "metadata": {
    "colab": {
     "base_uri": "https://localhost:8080/",
     "height": 295
    },
    "id": "cthnNlx7_ziL",
    "outputId": "2607014d-d8c8-4b32-cc0f-0e7659b6bfe9"
   },
   "outputs": [],
   "source": [
    "fig, ax = plt.subplots()\n",
    "ax.plot(age,salary, 'r')\n",
    "ax.set_xlabel(\"age\")\n",
    "ax.set_ylabel('salary')\n",
    "ax.set_title(\"Salary by Age\");\n",
    "# plt.show()"
   ]
  },
  {
   "cell_type": "code",
   "execution_count": null,
   "metadata": {
    "id": "Y6Tag7HFsGu4",
    "outputId": "88b0b9b5-ef3e-4d20-a39f-7ed5d9a34890"
   },
   "outputs": [],
   "source": [
    "fig, ax = plt.subplots(2, 3)\n",
    "ax[1][2].plot(age, salary)\n",
    "plt.tight_layout()"
   ]
  },
  {
   "cell_type": "code",
   "execution_count": null,
   "metadata": {},
   "outputs": [],
   "source": [
    "ax[0, 0]"
   ]
  },
  {
   "cell_type": "code",
   "execution_count": null,
   "metadata": {
    "id": "CquYIm6JsGu4",
    "outputId": "f33ce075-8b12-4b2d-a676-3109fa34d78f"
   },
   "outputs": [],
   "source": [
    "fig, ax = plt.subplots(nrows = 1, ncols = 2, figsize=(6, 3))\n",
    "\n",
    "ax[0].plot(age, salary)\n",
    "ax[0].set_xlabel('age')\n",
    "ax[0].set_title('First')\n",
    "ax[1].plot(age, salary)\n",
    "ax[1].set_xlabel('age')\n",
    "ax[1].set_title('Second')\n",
    "\n",
    "plt.tight_layout()"
   ]
  },
  {
   "cell_type": "code",
   "execution_count": null,
   "metadata": {
    "id": "r_Tf1oyE_ziL"
   },
   "outputs": [],
   "source": [
    "salary_2 = [45372, 48876, 53850, 57287, 63016,\n",
    "            65998, 70003, 70000, 71496, 75370, 83640]"
   ]
  },
  {
   "cell_type": "code",
   "execution_count": null,
   "metadata": {},
   "outputs": [],
   "source": [
    "type(age)"
   ]
  },
  {
   "cell_type": "markdown",
   "metadata": {
    "id": "PlXWwWQI_ziL"
   },
   "source": [
    "### <p style=\"background-color:#9d4f8c; font-family:newtimeroman; color:#FFF9ED; font-size:150%; text-align:LEFT; border-radius:10px 10px;\">Multiple-Line in the Same Graph</p>\n",
    "\n",
    "<a id=\"8.1\"></a>\n",
    "<a href=\"#toc\" class=\"btn btn-primary btn-sm\" role=\"button\" aria-pressed=\"true\" \n",
    "style=\"color:blue; background-color:#dfa8e4\" data-toggle=\"popover\">Content</a>"
   ]
  },
  {
   "cell_type": "code",
   "execution_count": null,
   "metadata": {
    "colab": {
     "base_uri": "https://localhost:8080/",
     "height": 295
    },
    "id": "rHhJ6x0l_ziL",
    "outputId": "be26bcfa-3859-4bf1-ea3e-9f07ad5259f7"
   },
   "outputs": [],
   "source": [
    "plt.plot(age, salary)\n",
    "plt.plot(age, salary_2)\n",
    "plt.xlabel(\"age\")\n",
    "plt.ylabel(\"salary\")\n",
    "plt.title(\"Salary by Age\");\n",
    "# plt.show()"
   ]
  },
  {
   "cell_type": "code",
   "execution_count": null,
   "metadata": {
    "id": "TgTBEz3JvCpz"
   },
   "outputs": [],
   "source": [
    "x = np.arange(0, 11)\n",
    "y = x.copy()\n",
    "z = x*2\n",
    "t = np.log(x)"
   ]
  },
  {
   "cell_type": "code",
   "execution_count": null,
   "metadata": {
    "colab": {
     "base_uri": "https://localhost:8080/",
     "height": 295
    },
    "id": "QmeswtpcvkKb",
    "outputId": "e5ee141f-19bf-44d7-98e0-534a62730a00"
   },
   "outputs": [],
   "source": [
    "fig, ax = plt.subplots()\n",
    "ax.plot(x, y)\n",
    "ax.plot(x, z)\n",
    "ax.plot(x, t)\n",
    "ax.set_xlabel(\"x\")\n",
    "ax.set_ylabel(\"y or z\")\n",
    "ax.set_title(\"...\");\n",
    "\n",
    "# plt.show()"
   ]
  },
  {
   "cell_type": "markdown",
   "metadata": {
    "id": "dBcWtb4j_ziM"
   },
   "source": [
    "### <p style=\"background-color:#9d4f8c; font-family:newtimeroman; color:#FFF9ED; font-size:150%; text-align:LEFT; border-radius:10px 10px;\">Adding Axes</p>\n",
    "\n",
    "<a id=\"8.2\"></a>\n",
    "<a href=\"#toc\" class=\"btn btn-primary btn-sm\" role=\"button\" aria-pressed=\"true\" \n",
    "style=\"color:blue; background-color:#dfa8e4\" data-toggle=\"popover\">Content</a>"
   ]
  },
  {
   "cell_type": "code",
   "execution_count": null,
   "metadata": {
    "colab": {
     "base_uri": "https://localhost:8080/",
     "height": 366
    },
    "id": "wsnNxCut_ziM",
    "outputId": "14a43ceb-8aba-47dc-8d89-7c4037781005"
   },
   "outputs": [],
   "source": [
    "fig = plt.figure()      # ax = fig.add_axes([left, bottom, widht, height]) \n",
    "                                          # left, bottom, width, height (range 0 to 1)\n",
    "\n",
    "ax1 = fig.add_axes([0.0, 0.0, 0.9, 0.9])\n",
    "\n",
    "ax2 = fig.add_axes([1.1, 0.3, 0.4, 0.4])\n",
    "\n",
    "\n",
    "ax1.plot(age, salary, \"r\")\n",
    "ax1.set_xlabel(\"Age\")\n",
    "ax1.set_ylabel(\"Salary\")\n",
    "ax1.set_title(\"Salary by Age\")\n",
    "\n",
    "ax2.plot(age, salary_2, \"b\");\n",
    "ax2.set_xlabel(\"Age\")\n",
    "ax2.set_ylabel(\"Salary_2\")\n",
    "ax2.set_title(\"Salary_2 by Age\");\n",
    "plt.show()"
   ]
  },
  {
   "cell_type": "code",
   "execution_count": null,
   "metadata": {
    "colab": {
     "base_uri": "https://localhost:8080/",
     "height": 366
    },
    "id": "cc8lg5p__ziM",
    "outputId": "cf3adb18-3fa5-4ca6-d788-a3c4081f3f83"
   },
   "outputs": [],
   "source": [
    "fig"
   ]
  },
  {
   "cell_type": "markdown",
   "metadata": {
    "id": "GEAjpWyx_ziN"
   },
   "source": [
    "### <p style=\"background-color:#9d4f8c; font-family:newtimeroman; color:#FFF9ED; font-size:150%; text-align:LEFT; border-radius:10px 10px;\">Subplot</p>\n",
    "\n",
    "<a id=\"8.3\"></a>\n",
    "<a href=\"#toc\" class=\"btn btn-primary btn-sm\" role=\"button\" aria-pressed=\"true\" \n",
    "style=\"color:blue; background-color:#dfa8e4\" data-toggle=\"popover\">Content</a>"
   ]
  },
  {
   "cell_type": "code",
   "execution_count": null,
   "metadata": {
    "colab": {
     "base_uri": "https://localhost:8080/",
     "height": 265
    },
    "id": "Yg0UGBNw_ziN",
    "outputId": "5d41808a-9836-4ad7-8b62-97d7a7b34d86"
   },
   "outputs": [],
   "source": [
    "# functional\n",
    "\n",
    "plt.subplot(2, 1, 1)\n",
    "plt.plot(age, salary, \"r\")\n",
    "\n",
    "plt.subplot(2, 1, 2)\n",
    "plt.plot(age, salary_2, \"b\")\n",
    "\n",
    "plt.show()"
   ]
  },
  {
   "cell_type": "code",
   "execution_count": null,
   "metadata": {
    "colab": {
     "base_uri": "https://localhost:8080/",
     "height": 265
    },
    "id": "VHwlD6vx_ziN",
    "outputId": "1e735978-2144-4fb6-d385-bfb1232c309d"
   },
   "outputs": [],
   "source": [
    "# OOP\n",
    "\n",
    "fig, ax = plt.subplots(2, 1)\n",
    "ax[0].plot(age,salary, 'r')\n",
    "ax[1].plot(age,salary, 'b')\n",
    "plt.show()"
   ]
  },
  {
   "cell_type": "code",
   "execution_count": null,
   "metadata": {
    "colab": {
     "base_uri": "https://localhost:8080/",
     "height": 266
    },
    "id": "Sv5KGjGK_ziN",
    "outputId": "0f3dce53-4204-4ae8-a801-e4126e7aab28"
   },
   "outputs": [],
   "source": [
    "# functional\n",
    "\n",
    "plt.subplot(1, 2, 1)\n",
    "plt.plot(age, salary, \"r\")\n",
    "plt.subplot(1, 2, 2)\n",
    "plt.plot(age, salary_2, \"b\")\n",
    "plt.tight_layout()\n",
    "plt.show()"
   ]
  },
  {
   "cell_type": "code",
   "execution_count": null,
   "metadata": {
    "colab": {
     "base_uri": "https://localhost:8080/",
     "height": 297
    },
    "id": "8MKmXOssG5-W",
    "outputId": "f43bc37d-3739-4856-9aad-a8280cf8d764"
   },
   "outputs": [],
   "source": [
    "# OOP\n",
    "\n",
    "fig, ax = plt.subplots(1, 2)\n",
    "\n",
    "ax[0].plot(age, salary, 'r')\n",
    "ax[1].plot(age, salary, 'b')\n",
    "\n",
    "plt.tight_layout()\n",
    "\n",
    "plt.show()"
   ]
  },
  {
   "cell_type": "markdown",
   "metadata": {
    "id": "UwPwUkk2_ziN"
   },
   "source": [
    "### <p style=\"background-color:#9d4f8c; font-family:newtimeroman; color:#FFF9ED; font-size:150%; text-align:LEFT; border-radius:10px 10px;\">How to Manipulate Color?</p>\n",
    "\n",
    "<a id=\"8.4\"></a>\n",
    "<a href=\"#toc\" class=\"btn btn-primary btn-sm\" role=\"button\" aria-pressed=\"true\" \n",
    "style=\"color:blue; background-color:#dfa8e4\" data-toggle=\"popover\">Content</a>"
   ]
  },
  {
   "cell_type": "code",
   "execution_count": null,
   "metadata": {
    "colab": {
     "base_uri": "https://localhost:8080/",
     "height": 297
    },
    "id": "N0i3aQhg_ziO",
    "outputId": "f90a3a28-ea7f-4cd8-fc46-e56d71247674"
   },
   "outputs": [],
   "source": [
    "plt.subplot(2, 2, 1)\n",
    "plt.plot(age, salary, \"r\")\n",
    "\n",
    "plt.subplot(2, 2, 2)\n",
    "plt.plot(age, salary_2, \"b\")\n",
    "\n",
    "plt.subplot(2, 2, 3)\n",
    "plt.plot(age, salary, \"g\")\n",
    "\n",
    "plt.subplot(2, 2, 4)\n",
    "plt.plot(age, salary_2, \"y\")\n",
    "\n",
    "plt.tight_layout(); \n",
    "plt.show()"
   ]
  },
  {
   "cell_type": "code",
   "execution_count": null,
   "metadata": {
    "colab": {
     "base_uri": "https://localhost:8080/",
     "height": 297
    },
    "id": "fE9o3kgn_ziO",
    "outputId": "a0c9dca7-5eb4-40e3-cb34-7b437cb0b697"
   },
   "outputs": [],
   "source": [
    "fig, ax = plt.subplots(2, 3)\n",
    "ax[1][2].plot(age, salary, 'k')\n",
    "plt.tight_layout()\n",
    "plt.show()"
   ]
  },
  {
   "cell_type": "code",
   "execution_count": null,
   "metadata": {
    "colab": {
     "base_uri": "https://localhost:8080/",
     "height": 297
    },
    "id": "yUZEIFaJ_ziO",
    "outputId": "02cbf5bd-aa16-41b3-ec28-acb2c55efd73"
   },
   "outputs": [],
   "source": [
    "fig, ax = plt.subplots(2, 3)\n",
    "ax[1, 2].plot(age, salary)\n",
    "plt.tight_layout()\n",
    "plt.show()"
   ]
  },
  {
   "cell_type": "code",
   "execution_count": null,
   "metadata": {},
   "outputs": [],
   "source": [
    "type(ax)"
   ]
  },
  {
   "cell_type": "markdown",
   "metadata": {
    "id": "VAc_fO35_ziO"
   },
   "source": [
    "### <p style=\"background-color:#9d4f8c; font-family:newtimeroman; color:#FFF9ED; font-size:150%; text-align:LEFT; border-radius:10px 10px;\">How to Manipulate Figure Size</p>\n",
    "\n",
    "<a id=\"8.5\"></a>\n",
    "<a href=\"#toc\" class=\"btn btn-primary btn-sm\" role=\"button\" aria-pressed=\"true\" \n",
    "style=\"color:blue; background-color:#dfa8e4\" data-toggle=\"popover\">Content</a>"
   ]
  },
  {
   "cell_type": "code",
   "execution_count": null,
   "metadata": {
    "colab": {
     "base_uri": "https://localhost:8080/",
     "height": 280
    },
    "id": "ANSHR9j9_ziO",
    "outputId": "53a2b015-31a6-4d7b-fdcc-3d9d03f451b6"
   },
   "outputs": [],
   "source": [
    "fig, ax = plt.subplots(figsize=(16, 4))\n",
    "\n",
    "ax.plot(age, salary, 'r')\n",
    "ax.set_xlabel(\"age\")\n",
    "ax.set_ylabel('salary')\n",
    "\n",
    "plt.show()"
   ]
  },
  {
   "cell_type": "code",
   "execution_count": null,
   "metadata": {
    "colab": {
     "base_uri": "https://localhost:8080/",
     "height": 308
    },
    "id": "nMIkMvtK_ziP",
    "outputId": "f19b6bd5-a64e-4599-e2a0-887e7f0e2e3c"
   },
   "outputs": [],
   "source": [
    "fig, ax = plt.subplots(nrows=1, ncols=2, figsize=(16, 4))\n",
    "\n",
    "fig.suptitle('Horizontally stacked subplots')\n",
    "\n",
    "ax[0].plot(age,salary, 'r')\n",
    "ax[0].set_xlabel(\"age\")\n",
    "ax[0].set_ylabel('salary 1')\n",
    "\n",
    "ax[1].plot(age,salary_2, 'b')\n",
    "ax[1].set_xlabel(\"age\")\n",
    "ax[1].set_ylabel('salary 2')\n",
    "\n",
    "plt.show()"
   ]
  },
  {
   "cell_type": "markdown",
   "metadata": {
    "id": "Zh2pyvsf_ziP"
   },
   "source": [
    "## <p style=\"background-color:#9d4f8c; font-family:newtimeroman; color:#FFF9ED; font-size:150%; text-align:center; border-radius:10px 10px;\">LINEWIDTH & LINESTYLES & MARKERS & MARKERSIZE & COLOR</p>\n",
    "\n",
    "### <p style=\"background-color:#9d4f8c; font-family:newtimeroman; color:#FFF9ED; font-size:150%; text-align:LEFT; border-radius:10px 10px;\">Linewidth</p>\n",
    "\n",
    "<a id=\"9\"></a>\n",
    "<a href=\"#toc\" class=\"btn btn-primary btn-sm\" role=\"button\" aria-pressed=\"true\" \n",
    "style=\"color:blue; background-color:#dfa8e4\" data-toggle=\"popover\">Content</a>"
   ]
  },
  {
   "cell_type": "code",
   "execution_count": null,
   "metadata": {
    "colab": {
     "base_uri": "https://localhost:8080/"
    },
    "id": "wOzHwGWbL_4_",
    "outputId": "543dee9d-57e8-4189-dd8e-09e70ed983bc"
   },
   "outputs": [],
   "source": [
    "x = np.arange(0, 10)\n",
    "x"
   ]
  },
  {
   "cell_type": "code",
   "execution_count": null,
   "metadata": {
    "colab": {
     "base_uri": "https://localhost:8080/",
     "height": 417
    },
    "id": "LTzWKhdULY--",
    "outputId": "c3cbf35f-3d70-4ba6-c46a-3da21b1d7468"
   },
   "outputs": [],
   "source": [
    "fig, ax = plt.subplots(figsize=(12, 6))\n",
    "\n",
    "fig.suptitle(\"To change the line width, we can use the `linewidth` or `lw` keyword argument\", fontsize=18)\n",
    "\n",
    "ax.plot(x, x-1, color=\"r\", linewidth=0.25)\n",
    "ax.plot(x, x-2, color=\"blue\", lw=0.50)\n",
    "ax.plot(x, x-3, color=\"red\", lw=1)\n",
    "ax.plot(x, x-4, color=\"xkcd:crimson\", lw=10)\n",
    "\n",
    "plt.show()"
   ]
  },
  {
   "cell_type": "markdown",
   "metadata": {
    "id": "VXrWLnJWMmmw"
   },
   "source": [
    "### <p style=\"background-color:#9d4f8c; font-family:newtimeroman; color:#FFF9ED; font-size:150%; text-align:LEFT; border-radius:10px 10px;\">LineStyles</p>\n",
    "\n",
    "<a id=\"9.1\"></a>\n",
    "<a href=\"#toc\" class=\"btn btn-primary btn-sm\" role=\"button\" aria-pressed=\"true\" \n",
    "style=\"color:blue; background-color:#dfa8e4\" data-toggle=\"popover\">Content</a>"
   ]
  },
  {
   "cell_type": "code",
   "execution_count": null,
   "metadata": {
    "id": "0AKMJG3nsGu_",
    "outputId": "8fc9dd13-15d2-4853-e7ed-bd672ba2e2c8"
   },
   "outputs": [],
   "source": [
    "import matplotlib.pyplot as plt\n",
    "\n",
    "plt.plot(range(5), range(5), linestyle='--', drawstyle='steps')\n",
    "plt.plot(range(5), range(5)[::-1], linestyle=':', drawstyle='steps')\n",
    "plt.xlim([-1, 5])\n",
    "plt.ylim([-1, 5]);"
   ]
  },
  {
   "cell_type": "code",
   "execution_count": null,
   "metadata": {},
   "outputs": [],
   "source": [
    "linestyle_str = [\n",
    "     ('solid', 'solid'),      # Same as (0, ()) or '-'\n",
    "     ('dotted', 'dotted'),    # Same as (0, (1, 1)) or ':'\n",
    "     ('dashed', 'dashed'),    # Same as '--'\n",
    "     ('dashdot', 'dashdot')]  # Same as '-.'\n",
    "\n",
    "linestyle_tuple = [\n",
    "     ('loosely dotted',        (0, (1, 10))),\n",
    "     ('dotted',                (0, (1, 1))),\n",
    "     ('densely dotted',        (0, (1, 1))),\n",
    "     ('long dash with offset', (5, (10, 3))),\n",
    "     ('loosely dashed',        (0, (5, 10))),\n",
    "     ('dashed',                (0, (5, 5))),\n",
    "     ('densely dashed',        (0, (5, 1))),\n",
    "\n",
    "     ('loosely dashdotted',    (0, (3, 10, 1, 10))),\n",
    "     ('dashdotted',            (0, (3, 5, 1, 5))),\n",
    "     ('densely dashdotted',    (0, (3, 1, 1, 1))),\n",
    "\n",
    "     ('dashdotdotted',         (0, (3, 5, 1, 5, 1, 5))),\n",
    "     ('loosely dashdotdotted', (0, (3, 10, 1, 10, 1, 10))),\n",
    "     ('densely dashdotdotted', (0, (3, 1, 1, 1, 1, 1)))]\n",
    "\n",
    "\n",
    "def plot_linestyles(ax, linestyles, title):\n",
    "    X, Y = np.linspace(0, 100, 10), np.zeros(10)\n",
    "    yticklabels = []\n",
    "\n",
    "    for i, (name, linestyle) in enumerate(linestyles):\n",
    "        ax.plot(X, Y+i, linestyle=linestyle, linewidth=1.5, color='black')\n",
    "        yticklabels.append(name)\n",
    "\n",
    "    ax.set_title(title)\n",
    "    ax.set(ylim=(-0.5, len(linestyles)-0.5),\n",
    "           yticks=np.arange(len(linestyles)),\n",
    "           yticklabels=yticklabels)\n",
    "    ax.tick_params(left=False, bottom=False, labelbottom=False)\n",
    "    ax.spines[:].set_visible(False)\n",
    "\n",
    "    # For each line style, add a text annotation with a small offset from\n",
    "    # the reference point (0 in Axes coords, y tick value in Data coords).\n",
    "    for i, (name, linestyle) in enumerate(linestyles):\n",
    "        ax.annotate(repr(linestyle),\n",
    "                    xy=(0.0, i), xycoords=ax.get_yaxis_transform(),\n",
    "                    xytext=(-6, -12), textcoords='offset points',\n",
    "                    color=\"blue\", fontsize=8, ha=\"right\", family=\"monospace\")\n",
    "\n",
    "\n",
    "fig, (ax0, ax1) = plt.subplots(2, 1, figsize=(10, 8), height_ratios=[1, 3])\n",
    "\n",
    "plot_linestyles(ax0, linestyle_str[::-1], title='Named linestyles')\n",
    "plot_linestyles(ax1, linestyle_tuple[::-1], title='Parametrized linestyles')\n",
    "\n",
    "plt.tight_layout()\n",
    "plt.show()"
   ]
  },
  {
   "cell_type": "code",
   "execution_count": null,
   "metadata": {
    "colab": {
     "base_uri": "https://localhost:8080/",
     "height": 374
    },
    "id": "r6g2xFZUMX6q",
    "outputId": "bd7802ae-8333-46f2-ddf4-93f829a73f05",
    "scrolled": true
   },
   "outputs": [],
   "source": [
    "# possible linestype options ‘--‘, ‘–’, ‘-.’, ‘:’\n",
    "\n",
    "fig, ax = plt.subplots(figsize=(12, 6))\n",
    "\n",
    "ax.plot(x, x-1, color=\"green\", lw=3, linestyle=':') # solid\n",
    "ax.plot(x, x-2, color=\"red\", lw=3, ls='-.') # dash and dot\n",
    "ax.plot(x, x-3, color=\"tab:pink\", lw=3, ls=':') # dots\n",
    "ax.plot(x, x-4, color=\"xkcd:crimson\", lw=3, ls='--') # dashes\n",
    "\n",
    "plt.show()"
   ]
  },
  {
   "cell_type": "code",
   "execution_count": null,
   "metadata": {
    "colab": {
     "base_uri": "https://localhost:8080/",
     "height": 374
    },
    "id": "op9DZmLsM8Bu",
    "outputId": "cc51096b-4f57-42ba-f507-91fe8fb9f5c5"
   },
   "outputs": [],
   "source": [
    "fig, ax = plt.subplots(figsize=(12, 6))\n",
    "\n",
    "# Use marker for string code\n",
    "# Use markersize or ms for size\n",
    "\n",
    "ax.plot(x, x-1, marker='D', markersize=20)\n",
    "ax.plot(x, x-2, marker='*', ms=20) #ms can be used for markersize\n",
    "ax.plot(x, x-3, marker='p', ms=20, lw=0) # make linewidth zero to see only markers\n",
    "ax.plot(x, x-4, marker='1', ms=20)\n",
    "\n",
    "plt.show()"
   ]
  },
  {
   "cell_type": "code",
   "execution_count": null,
   "metadata": {
    "colab": {
     "base_uri": "https://localhost:8080/",
     "height": 452
    },
    "id": "2MFEoL4g_ziP",
    "outputId": "511cf137-95a5-4c9b-d146-210c28e7658b"
   },
   "outputs": [],
   "source": [
    "plt.figure(figsize=(15, 5))\n",
    "\n",
    "plt.subplot(2, 2, 1)\n",
    "plt.plot(age, salary, \"r\", ls=\"-\", marker=\"+\" , markersize=30)\n",
    "\n",
    "plt.subplot(2, 2, 3)\n",
    "plt.plot(age, salary, \"g\", ls=\":\", marker=\"x\" , markersize=30)\n",
    "\n",
    "plt.subplot(2, 2, 4)\n",
    "plt.plot(age, salary_2, \"y\", ls=\"--\" , marker=\"*\" , markersize=30)\n",
    "\n",
    "plt.suptitle(\"LineStyles & Markers & Markersize & Color\", fontsize=16, y = 1.2)\n",
    "\n",
    "plt.subplot(2, 2, 2)\n",
    "plt.plot(age, salary_2, \"b\", ls=\"-.\", marker=\"o\" , markersize=30)\n",
    "\n",
    "plt.tight_layout()\n",
    "\n",
    "plt.show()"
   ]
  },
  {
   "cell_type": "code",
   "execution_count": null,
   "metadata": {
    "id": "Y8s2nKXr_ziP"
   },
   "outputs": [],
   "source": [
    "color = \"#ff00ff\" # RGB hex code"
   ]
  },
  {
   "cell_type": "code",
   "execution_count": null,
   "metadata": {
    "colab": {
     "base_uri": "https://localhost:8080/",
     "height": 585
    },
    "id": "Nyni0qFR_ziP",
    "outputId": "1aa891cd-0c36-4a91-9732-2c0780aeaaf8"
   },
   "outputs": [],
   "source": [
    "fig, ax = plt.subplots(2, 2, figsize=(15, 8))\n",
    "\n",
    "ax[0, 0].plot(age, salary, color, ls=\"-\", marker=\"+\" , markersize=30)\n",
    "ax[0, 0].set_title(\"salary by age\")\n",
    "\n",
    "ax[0, 1].plot(age, salary_2, \"b\", ls=\"-.\", marker=\"o\" , markersize=30)\n",
    "ax[0, 1].set_title(\"salary_2 by age\")\n",
    "\n",
    "ax[1, 0].plot(age, salary, \"g\", ls=\":\", marker=\"x\" , markersize=30)\n",
    "ax[1, 0].set_title(\"salary by age\")\n",
    "\n",
    "ax[1, 1].plot(age, salary_2, \"y\", ls=\"--\", marker=\"*\" , markersize=30)\n",
    "ax[1, 1].set_title(\"salary_2 by age\")\n",
    "\n",
    "fig.suptitle(\"LineStyles & Markers & Markersize & Color\", fontsize=26)\n",
    "plt.tight_layout()\n",
    "\n",
    "plt.show()"
   ]
  },
  {
   "cell_type": "markdown",
   "metadata": {
    "id": "_vEgF_Qo_ziQ"
   },
   "source": [
    "### <p style=\"background-color:#9d4f8c; font-family:newtimeroman; color:#FFF9ED; font-size:150%; text-align:LEFT; border-radius:10px 10px;\">Legend</p>\n",
    "\n",
    "<a id=\"9.2\"></a>\n",
    "<a href=\"#toc\" class=\"btn btn-primary btn-sm\" role=\"button\" aria-pressed=\"true\" \n",
    "style=\"color:blue; background-color:#dfa8e4\" data-toggle=\"popover\">Content</a>"
   ]
  },
  {
   "cell_type": "code",
   "execution_count": null,
   "metadata": {
    "colab": {
     "base_uri": "https://localhost:8080/",
     "height": 295
    },
    "id": "GOsBaWsm_ziQ",
    "outputId": "c816f4bd-45c7-4aec-976c-8962422b4eb3"
   },
   "outputs": [],
   "source": [
    "plt.plot(age, salary, label=\"salary\")\n",
    "plt.plot(age, salary_2, label=\"salary_2\")\n",
    "\n",
    "plt.xlabel(\"age\")\n",
    "plt.ylabel(\"salary\")\n",
    "plt.title(\"Salary by Age\")\n",
    "\n",
    "plt.legend(loc=8)  # default \"best\"\n",
    "\n",
    "plt.show()"
   ]
  },
  {
   "cell_type": "markdown",
   "metadata": {
    "id": "iBd8PSz0sqcw"
   },
   "source": [
    "legent location\n",
    "\n",
    "- 'best'            0\n",
    "- 'upper right'     1\n",
    "- 'upper left'      2\n",
    "- 'lower left'      3\n",
    "- 'lower right'     4\n",
    "- 'right'           5\n",
    "- 'center left'     6\n",
    "- 'center right'    7\n",
    "- 'lower center'    8\n",
    "- 'upper center'    9"
   ]
  },
  {
   "cell_type": "code",
   "execution_count": null,
   "metadata": {
    "colab": {
     "base_uri": "https://localhost:8080/",
     "height": 295
    },
    "id": "kgUh_xBrsTTf",
    "outputId": "9e2ad49f-fa38-4a30-a47a-df8ea6364cb7"
   },
   "outputs": [],
   "source": [
    "plt.plot(age, salary, label=\"salary\")\n",
    "plt.plot(age, salary_2, label=\"salary_2\")\n",
    "plt.xlabel(\"age\")\n",
    "plt.ylabel(\"salary\")\n",
    "plt.title(\"Salary by Age\")\n",
    "\n",
    "plt.legend(loc=4)\n",
    "# plt.legend(loc='lower right')\n",
    "\n",
    "plt.show()"
   ]
  },
  {
   "cell_type": "markdown",
   "metadata": {
    "id": "ax-D4i6y_ziQ"
   },
   "source": [
    "### <p style=\"background-color:#9d4f8c; font-family:newtimeroman; color:#FFF9ED; font-size:150%; text-align:LEFT; border-radius:10px 10px;\">How to Plot Range & Add Extra Line</p>\n",
    "\n",
    "<a id=\"9.3\"></a>\n",
    "<a href=\"#toc\" class=\"btn btn-primary btn-sm\" role=\"button\" aria-pressed=\"true\" \n",
    "style=\"color:blue; background-color:#dfa8e4\" data-toggle=\"popover\">Content</a>"
   ]
  },
  {
   "cell_type": "code",
   "execution_count": null,
   "metadata": {
    "colab": {
     "base_uri": "https://localhost:8080/",
     "height": 269
    },
    "id": "_pXuDfzQ_ziQ",
    "outputId": "6fbaa8e9-d2c8-4035-d521-b15779a0690f"
   },
   "outputs": [],
   "source": [
    "# Plot Range with set_ylim & set_xlim\n",
    "\n",
    "x = np.arange(1, 10)\n",
    "\n",
    "fig, ax = plt.subplots(nrows=1, ncols=2, figsize=(10, 4))\n",
    "\n",
    "ax[0].plot(x, x**2, x, x**3, x, x**4, 'r')\n",
    "\n",
    "ax[1].plot(x, x**2, x, x**3, x, x**4, 'r')\n",
    "\n",
    "ax[1].set_xlim([1, 3])\n",
    "ax[1].set_ylim([1, 50])\n",
    "\n",
    "plt.show()"
   ]
  },
  {
   "cell_type": "code",
   "execution_count": null,
   "metadata": {
    "colab": {
     "base_uri": "https://localhost:8080/",
     "height": 269
    },
    "id": "fm-IUXrv_ziQ",
    "outputId": "197c600e-99ba-46bf-fe3c-5a6ef2ecd79c"
   },
   "outputs": [],
   "source": [
    "x  =np.arange(1, 10)\n",
    "\n",
    "fig, ax = plt.subplots(nrows=1, ncols=2, figsize=(10, 4))\n",
    "\n",
    "ax[0].plot(x, x**2, x, x**3, x, x**4, 'r')\n",
    "\n",
    "ax[1].plot(x, x**2, x, x**3, x, x**4, 'r')\n",
    "ax[1].set_xlim([1, 3])\n",
    "ax[1].set_ylim([1, 50])\n",
    "\n",
    "ax[0].axvline(x=5, ls=\"-.\")\n",
    "ax[1].axhline(y=15, ls=\"--\")\n",
    "\n",
    "plt.show()"
   ]
  },
  {
   "cell_type": "code",
   "execution_count": null,
   "metadata": {
    "colab": {
     "base_uri": "https://localhost:8080/",
     "height": 269
    },
    "id": "FdzdKHeG_ziR",
    "outputId": "ff6715e7-19f2-4ab6-ca81-d4a6a5b7ef26",
    "scrolled": true
   },
   "outputs": [],
   "source": [
    "x = np.arange(1, 10)\n",
    "\n",
    "fig, ax = plt.subplots(nrows=1, ncols=2, figsize=(10, 4))\n",
    "\n",
    "ax[0].plot(x, x**2, x, x**3, x, x**4, 'r')\n",
    "ax[0].axvline(x=2, ls=\"--\")\n",
    "ax[0].axhline(y=20, ls=\"--\")\n",
    "\n",
    "ax[1].plot(x, x**2, x, x**3, x, x**4, 'r')\n",
    "ax[1].set_xlim([1, 3])\n",
    "ax[1].set_ylim([1, 50])\n",
    "\n",
    "ax[1].axvline(x=2, ls=\"--\")\n",
    "ax[1].axhline(y=20, ls=\"--\")\n",
    "\n",
    "plt.show()"
   ]
  },
  {
   "cell_type": "markdown",
   "metadata": {
    "id": "2mNJtkI2_ziR"
   },
   "source": [
    "### <p style=\"background-color:#9d4f8c; font-family:newtimeroman; color:#FFF9ED; font-size:150%; text-align:LEFT; border-radius:10px 10px;\">Some Additional Exercises</p>\n",
    "\n",
    "<a id=\"9.4\"></a>\n",
    "<a href=\"#toc\" class=\"btn btn-primary btn-sm\" role=\"button\" aria-pressed=\"true\" \n",
    "style=\"color:blue; background-color:#dfa8e4\" data-toggle=\"popover\">Content</a>"
   ]
  },
  {
   "cell_type": "markdown",
   "metadata": {
    "id": "IwKRL3mlsGvE"
   },
   "source": [
    "**Matplotlib - Subplot2grid() Function**\n",
    "\n",
    "This function gives more flexibility in creating an axes object at a specific location of the grid. It also allows the axes object to be spanned across multiple rows or columns.\n",
    "\n",
    "**Plt.subplot2grid(shape, location, rowspan, colspan)**\n",
    "\n",
    "In the following example, a 3X3 grid of the figure object is filled with axes objects of varying sizes in row and column spans, each showing a different plot.\n",
    "\n",
    "[SOURCE 01](https://www.tutorialspoint.com/matplotlib/matplotlib_subplot2grid_function.htm), [SOURCE 02](https://medium.com/kodluyoruz/matplotlibde-%C3%A7oklu-%C3%A7izim-nas%C4%B1l-yap%C4%B1l%C4%B1r-subplot-gridspec-b33e2077727c) & [SOURCE 03](https://matplotlib.org/3.1.1/api/_as_gen/matplotlib.pyplot.subplot2grid.html)\n"
   ]
  },
  {
   "cell_type": "code",
   "execution_count": null,
   "metadata": {
    "colab": {
     "base_uri": "https://localhost:8080/",
     "height": 297
    },
    "id": "Ioqva7kE_ziR",
    "outputId": "e370b2fa-0001-40b9-ecc2-79b68cbe9af6"
   },
   "outputs": [],
   "source": [
    "# rowspan and colspan\n",
    "\n",
    "plt.figure()\n",
    "a1 = plt.subplot2grid((3, 3),(0, 0), colspan = 2)\n",
    "a2 = plt.subplot2grid((3, 3),(0, 2), rowspan = 3)\n",
    "a3 = plt.subplot2grid((3, 3),(1, 0), rowspan = 2, colspan = 2)\n",
    "\n",
    "x = np.arange(1, 10)\n",
    "\n",
    "a1.plot(x, np.exp(x))\n",
    "a1.set_title('exp')\n",
    "\n",
    "a2.plot(x, x*x)\n",
    "a2.set_title('square')\n",
    "\n",
    "a3.plot(x, np.log(x))\n",
    "a3.set_title('log')\n",
    "\n",
    "plt.tight_layout()\n",
    "plt.show()"
   ]
  },
  {
   "cell_type": "markdown",
   "metadata": {
    "id": "Ulls7kPNaO-j"
   },
   "source": [
    "## <p style=\"background-color:#9d4f8c; font-family:newtimeroman; color:#FFF9ED; font-size:150%; text-align:center; border-radius:10px 10px;\">OTHER PLOTS</p>\n",
    "\n",
    "<a id=\"10\"></a>\n",
    "<a href=\"#toc\" class=\"btn btn-primary btn-sm\" role=\"button\" aria-pressed=\"true\" \n",
    "style=\"color:blue; background-color:#dfa8e4\" data-toggle=\"popover\">Content</a>\n",
    "\n",
    "There are many other plotting styles available other than the default Line plot, all of which can be accessed by passing `kind` keyword to `plot()`. The full list of available plots are as follows:\n",
    "\n",
    "-   `bar` for vertical bar plots\n",
    "-   `barh` for horizontal bar plots\n",
    "-   `hist` for histogram\n",
    "-   `box` for boxplot\n",
    "-   `kde` or `density` for density plots\n",
    "-   `area` for area plots\n",
    "-   `pie` for pie plots\n",
    "-   `scatter` for scatter plots\n",
    "-   `hexbin` for hexbin plot\n"
   ]
  },
  {
   "cell_type": "markdown",
   "metadata": {
    "id": "Z7blPWD-H9uW"
   },
   "source": [
    "## <p style=\"background-color:#9d4f8c; font-family:newtimeroman; color:#FFF9ED; font-size:150%; text-align:center; border-radius:10px 10px;\">PANDAS</p>\n",
    "\n",
    "<a id=\"11\"></a>\n",
    "<a href=\"#toc\" class=\"btn btn-primary btn-sm\" role=\"button\" aria-pressed=\"true\" \n",
    "style=\"color:blue; background-color:#dfa8e4\" data-toggle=\"popover\">Content</a>"
   ]
  },
  {
   "cell_type": "code",
   "execution_count": null,
   "metadata": {
    "colab": {
     "base_uri": "https://localhost:8080/",
     "height": 204
    },
    "id": "NXT-HA4m_ziS",
    "outputId": "64397871-2dd4-402d-e179-f0775350373a"
   },
   "outputs": [],
   "source": [
    "import pandas as pd\n",
    "\n",
    "df = pd.DataFrame(list(zip(age, salary, salary_2)), columns =['age', 'salary', 'salary_2'])\n",
    "df.head()"
   ]
  },
  {
   "cell_type": "code",
   "execution_count": null,
   "metadata": {
    "colab": {
     "base_uri": "https://localhost:8080/"
    },
    "id": "5MfO_uuB_ziS",
    "outputId": "9e596209-f9e6-4e51-a82b-cd151033a32f"
   },
   "outputs": [],
   "source": [
    "df['salary']"
   ]
  },
  {
   "cell_type": "code",
   "execution_count": null,
   "metadata": {
    "colab": {
     "base_uri": "https://localhost:8080/",
     "height": 266
    },
    "id": "QcvcwG9D_ziS",
    "outputId": "cabb042e-ffe2-4e18-a0c5-8a5e547686f4"
   },
   "outputs": [],
   "source": [
    "plt.figure(figsize=(8, 6))\n",
    "\n",
    "plt.plot(df['salary'])\n",
    "plt.show()"
   ]
  },
  {
   "cell_type": "code",
   "execution_count": null,
   "metadata": {
    "colab": {
     "base_uri": "https://localhost:8080/",
     "height": 266
    },
    "id": "BS3xzofj_ziT",
    "outputId": "8f1f2dd6-3406-425b-c50c-1c0a26fa6abf"
   },
   "outputs": [],
   "source": [
    "plt.figure(figsize=(8, 6))\n",
    "\n",
    "plt.plot(df[\"age\"], df[\"salary\"]);    #important index\n",
    "plt.show()"
   ]
  },
  {
   "cell_type": "code",
   "execution_count": null,
   "metadata": {
    "colab": {
     "base_uri": "https://localhost:8080/",
     "height": 266
    },
    "id": "Tfy9BRNi_ziT",
    "outputId": "770dcecb-7cde-40dc-fb66-4e261977fb9b"
   },
   "outputs": [],
   "source": [
    "plt.figure(figsize=(8, 6))\n",
    "\n",
    "plt.plot(age, salary)\n",
    "plt.show()"
   ]
  },
  {
   "cell_type": "code",
   "execution_count": null,
   "metadata": {
    "colab": {
     "base_uri": "https://localhost:8080/",
     "height": 308
    },
    "id": "TAE8j7Rg_ziT",
    "outputId": "46cbc9ec-8479-4225-cc0b-bd35a385fbc7"
   },
   "outputs": [],
   "source": [
    "fig = plt.figure()\n",
    "\n",
    "ax1 = fig.add_axes([0.0, 0.0, 0.8, 0.8]) # left, bottom, width, height (range 0 to 1)\n",
    "ax1.plot(age,salary, \"r\");\n",
    "ax1.set_xlabel(\"Age\")\n",
    "ax1.set_ylabel(\"Salary\")\n",
    "ax1.set_title(\"Salary by Age\");\n",
    "\n",
    "ax2 = fig.add_axes([0.9, 0.3, 0.4, 0.4])\n",
    "plt.show()"
   ]
  },
  {
   "cell_type": "code",
   "execution_count": null,
   "metadata": {
    "id": "eQ0H9r3fsGvI",
    "outputId": "a079394d-9247-47d2-dba5-167e20caa622"
   },
   "outputs": [],
   "source": [
    "fig, ax1 = plt.subplots()\n",
    "\n",
    "ax1.plot(age,salary, \"r\");\n",
    "ax1.set_xlabel(\"Age\")\n",
    "ax1.set_ylabel(\"Salary\")\n",
    "ax1.set_title(\"Salary by Age\");\n",
    "\n",
    "ax2 = fig.add_axes([1, 0.3, 0.4, 0.4])\n",
    "plt.show()"
   ]
  },
  {
   "cell_type": "markdown",
   "metadata": {
    "id": "A806QiOr_ziU"
   },
   "source": [
    "### <p style=\"background-color:#9d4f8c; font-family:newtimeroman; color:#FFF9ED; font-size:150%; text-align:LEFT; border-radius:10px 10px;\">Manual Spacing on Subplots()</p>\n",
    "\n",
    "<a id=\"11.1\"></a>\n",
    "<a href=\"#toc\" class=\"btn btn-primary btn-sm\" role=\"button\" aria-pressed=\"true\" \n",
    "style=\"color:blue; background-color:#dfa8e4\" data-toggle=\"popover\">Content</a>\n",
    "\n",
    "Use .subplots_adjust to adjust spacing manually."
   ]
  },
  {
   "cell_type": "code",
   "execution_count": null,
   "metadata": {
    "colab": {
     "base_uri": "https://localhost:8080/",
     "height": 336
    },
    "id": "h693CSPY_ziU",
    "outputId": "9eecee9e-01df-4ca4-d992-1ff14304f647"
   },
   "outputs": [],
   "source": [
    "fig, ax = plt.subplots(2, 2, figsize=(8, 5), sharey=True, sharex=True)\n",
    "\n",
    "ax[0, 0].plot(age, salary, \"r\")\n",
    "ax[0, 0].set_title(\"salary by age\")\n",
    "ax[0, 1].plot(age, salary_2)\n",
    "ax[0, 1].set_title(\"salary_2 by age\")\n",
    "ax[1, 0].plot(age, salary, \"g\")\n",
    "ax[1, 0].set_title(\"salary by age\")\n",
    "ax[1, 1].plot(age, salary_2, \"y\")\n",
    "ax[1, 1].set_title(\"salary_2 by age\")\n",
    "\n",
    "fig.subplots_adjust(left=None,\n",
    "                    bottom=None,\n",
    "                    right=None,\n",
    "                    top=None,\n",
    "                    wspace=0.9,\n",
    "                    hspace=0.5)\n",
    "plt.tight_layout()\n",
    "\n",
    "plt.show()"
   ]
  },
  {
   "cell_type": "code",
   "execution_count": null,
   "metadata": {
    "colab": {
     "base_uri": "https://localhost:8080/"
    },
    "id": "plVkDLNrIVyk",
    "outputId": "8872b10d-cb48-4d2e-e3a0-2783222f81e6"
   },
   "outputs": [],
   "source": [
    "import seaborn as sns\n",
    "\n",
    "print(sns.get_dataset_names())"
   ]
  },
  {
   "cell_type": "code",
   "execution_count": null,
   "metadata": {
    "colab": {
     "base_uri": "https://localhost:8080/",
     "height": 204
    },
    "id": "ybILBK8zInV6",
    "outputId": "0d6b3387-f1dd-4f95-a509-5c8c1582bbb6"
   },
   "outputs": [],
   "source": [
    "tips = sns.load_dataset(\"tips\")\n",
    "tips.head()"
   ]
  },
  {
   "cell_type": "markdown",
   "metadata": {
    "id": "k8-sVyansGvK"
   },
   "source": [
    "## <p style=\"background-color:#9d4f8c; font-family:newtimeroman; color:#FFF9ED; font-size:150%; text-align:center; border-radius:10px 10px;\">THE END OF THE SESSION 01</p>\n",
    "\n",
    "<a id=\"12\"></a>\n",
    "<a href=\"#toc\" class=\"btn btn-primary btn-sm\" role=\"button\" aria-pressed=\"true\" \n",
    "style=\"color:blue; background-color:#dfa8e4\" data-toggle=\"popover\">Content</a>"
   ]
  },
  {
   "cell_type": "markdown",
   "metadata": {
    "id": "hCCPFeYDIth-"
   },
   "source": [
    "___\n",
    "\n",
    "<p style=\"text-align: center;\"><img src=\"https://docs.google.com/uc?id=1lY0Uj5R04yMY3-ZppPWxqCr5pvBLYPnV\" class=\"img-fluid\" \n",
    "alt=\"CLRSWY\"></p>\n",
    "\n",
    "## <p style=\"background-color:#FDFEFE; font-family:newtimeroman; color:#9d4f8c; font-size:100%; text-align:center; border-radius:10px 10px;\">WAY TO REINVENT YOURSELF</p>\n",
    "___"
   ]
  }
 ],
 "metadata": {
  "colab": {
   "collapsed_sections": [],
   "name": "1-DVwPy_S1_Matplotlib.ipynb",
   "provenance": []
  },
  "kernelspec": {
   "display_name": "Python 3 (ipykernel)",
   "language": "python",
   "name": "python3"
  },
  "language_info": {
   "codemirror_mode": {
    "name": "ipython",
    "version": 3
   },
   "file_extension": ".py",
   "mimetype": "text/x-python",
   "name": "python",
   "nbconvert_exporter": "python",
   "pygments_lexer": "ipython3",
   "version": "3.11.2"
  }
 },
 "nbformat": 4,
 "nbformat_minor": 4
}
