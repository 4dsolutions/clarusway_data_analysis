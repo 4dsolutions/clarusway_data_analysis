{
 "cells": [
  {
   "cell_type": "markdown",
   "metadata": {},
   "source": [
    "<a href=\"https://colab.research.google.com/github/4dsolutions/clarusway_data_analysis/blob/main/DAwPy_S4_(Pandas_DataFrames%2C_Selection_and_Indexing_w_loc%2Cilo%2Cxs)/DAwPy_S4_(Pandas_DataFrames%2C_Selection_and_Indexing_w_loc%2Ciloc%2C multi).ipynb\"><img align=\"left\" src=\"https://colab.research.google.com/assets/colab-badge.svg\" alt=\"Open in Colab\" title=\"Open and Execute in Google Colaboratory\"></a><br/>\n",
    "[![nbviewer](https://raw.githubusercontent.com/jupyter/design/master/logos/Badges/nbviewer_badge.svg)](https://nbviewer.org/github/4dsolutions/clarusway_data_analysis/blob/main/DAwPy_S4_%28Pandas_DataFrames%2C_Selection_and_Indexing_w_loc%2Cilo%2Cxs%29/DAwPy_S4_%28Pandas_DataFrames%2C_Selection_and_Indexing_w_loc%2Ciloc%2C%20multi%29.ipynb)\n",
    "\n",
    "\n",
    "___"
   ]
  },
  {
   "cell_type": "markdown",
   "metadata": {
    "id": "ENS0nPEvVhQ-"
   },
   "source": [
    "## <p style=\"background-color:#FDFEFE; font-family:newtimeroman; color:#9d4f8c; font-size:100%; text-align:center; border-radius:10px 10px;\">WAY TO REINVENT YOURSELF</p>"
   ]
  },
  {
   "cell_type": "markdown",
   "metadata": {
    "id": "fNF-NxIaVhRD"
   },
   "source": [
    "<img src=https://i.ibb.co/6gCsHd6/1200px-Pandas-logo-svg.png width=\"700\" height=\"200\">\n",
    "\n",
    "## <p style=\"background-color:#FDFEFE; font-family:newtimeroman; color:#060108; font-size:200%; text-align:center; border-radius:10px 10px;\">Data Analysis with Python</p>\n",
    "\n",
    "## <p style=\"background-color:#FDFEFE; font-family:newtimeroman; color:#060108; font-size:150%; text-align:center; border-radius:10px 10px;\">Session - 04</p>\n",
    "\n",
    "## <p style=\"background-color:#FDFEFE; font-family:newtimeroman; color:#4d77cf; font-size:200%; text-align:center; border-radius:10px 10px;\">Pandas DataFrames</p>"
   ]
  },
  {
   "cell_type": "markdown",
   "metadata": {
    "id": "YQw8y5c1HsMA"
   },
   "source": [
    "<a id=\"toc\"></a>\n",
    "\n",
    "## <p style=\"background-color:#9d4f8c; font-family:newtimeroman; color:#FFF9ED; font-size:175%; text-align:center; border-radius:10px 10px;\">Content</p>\n",
    "\n",
    "* [IMPORTING LIBRARIES NEEDED IN THIS NOTEBOOK](#0)\n",
    "* [DATA FRAMES](#1)\n",
    "* [CREATING A DATA FRAME](#2)\n",
    "    * [Creating a DataFrame Using the Lists of Data & Columns](#2.1)\n",
    "    * [Creating a DataFrame Using a Numpy Arrays](#2.2)\n",
    "    * [Creating a DataFrame Using a Dictionary](#2.3)\n",
    "    * [The Examination of Some Attributes on Data](#2.4)\n",
    "* [INDEXING, SLICING & SELECTION](#3)    \n",
    "* [CREATING A NEW COLUMN](#4)    \n",
    "* [REMOVING COLUMNS](#5)\n",
    "* [REMOVING ROWS](#6)\n",
    "* [SELECTING ROWS & COLUMNS USING .loc[ ] & .iloc[ ] ](#7)\n",
    "* [CONDITIONAL SELECTION](#8)\n",
    "    * [One Conditional Statement](#8.1)\n",
    "    * [Two or More Conditional Statements](#8.2)\n",
    "    * [Conditional Selection Using .loc[ ]](#8.3)\n",
    "* [reset_index() & set_index()](#9)\n",
    "* [Multi-Index & Index Hierarchy](#10)\n",
    "* [Some Other Useful Methods with Iris Dataset](#11)\n",
    "* [THE END OF THE SESSION-04](#12)"
   ]
  },
  {
   "cell_type": "markdown",
   "metadata": {
    "id": "4eZHSzKJHsMB"
   },
   "source": [
    "## <p style=\"background-color:#9d4f8c; font-family:newtimeroman; color:#FFF9ED; font-size:175%; text-align:center; border-radius:10px 10px;\">Importing Libraries Needed in This Notebook</p>\n",
    "\n",
    "<a id=\"0\"></a>\n",
    "<a href=\"#toc\" class=\"btn btn-primary btn-sm\" role=\"button\" aria-pressed=\"true\" \n",
    "style=\"color:blue; background-color:#dfa8e4\" data-toggle=\"popover\">Content</a>\n",
    "\n",
    "Once you've installed NumPy & Pandas you can import them as a library:"
   ]
  },
  {
   "cell_type": "code",
   "execution_count": null,
   "metadata": {
    "id": "CdCKOZV5VhRE"
   },
   "outputs": [],
   "source": [
    "import pandas as pd\n",
    "import numpy as np"
   ]
  },
  {
   "cell_type": "markdown",
   "metadata": {
    "id": "dFq6zUF-VhRE"
   },
   "source": [
    "## <p style=\"background-color:#9d4f8c; font-family:newtimeroman; color:#FFF9ED; font-size:175%; text-align:center; border-radius:10px 10px;\">Data Frames</p>\n",
    "\n",
    "<a id=\"1\"></a>\n",
    "<a href=\"#toc\" class=\"btn btn-primary btn-sm\" role=\"button\" aria-pressed=\"true\" \n",
    "style=\"color:blue; background-color:#dfa8e4\" data-toggle=\"popover\">Content</a>\n",
    "\n",
    "A DataFrame is a two-dimensional data container, similar to a Matrix, but which can contain heterogeneous data, and for which symbolic names may be associated with the rows and columns. ``DataFrames`` are the workhorse of pandas and are directly inspired by the R programming language. We can think of a DataFrame as a bunch of Series objects put together to share the same index. \n",
    "\n",
    "### Why use Pandas?\n",
    "\n",
    "Data scientists make use of Pandas in Python for its **following advantages**:\n",
    "\n",
    "- Easily handles missing data\n",
    "- It uses Series for one-dimensional data structure and DataFrame for multi-dimensional data structure\n",
    "- It provides an efficient way to slice the data\n",
    "- It provides a flexible way to merge, concatenate or reshape the data\n",
    "- It includes a powerful time series tool to work with\n",
    "\n",
    "In a nutshell, Pandas is a useful library in data analysis. It can be used to perform data manipulation and analysis. Pandas provide powerful and easy-to-use data structures, as well as the means to quickly perform operations on these structures.\n",
    "\n",
    "* [Intro to pandas](https://pandas.pydata.org/pandas-docs/stable/user_guide/dsintro.html)\n",
    "* [pandas DataFrame](https://pandas.pydata.org/docs/reference/api/pandas.DataFrame.html) \n",
    "* [DataFrames in Python](https://morioh.com/p/2528ac775b1b)\n",
    "* [DataCamp Tutorial](https://www.datacamp.com/community/tutorials/pandas-tutorial-dataframe-python)\n",
    "* [Guru99 Tutorial](https://www.guru99.com/python-pandas-tutorial.html)\n",
    "* [TutorialsPoint DataFrame](https://www.tutorialspoint.com/python_pandas/python_pandas_dataframe.htm) \n",
    "* [Real Python](https://realpython.com/pandas-dataframe/)\n",
    "* [Towards Data Science: Simple Guide](https://towardsdatascience.com/a-simple-guide-to-pandas-dataframes-b125f64e1453)\n",
    "* [Towards Data Science: DataFrame Basics](https://towardsdatascience.com/pandas-dataframe-basics-3c16eb35c4f3)\n",
    "* [W3 Schools Tutorial](https://www.w3schools.com/python/pandas/default.asp)"
   ]
  },
  {
   "cell_type": "code",
   "execution_count": null,
   "metadata": {},
   "outputs": [],
   "source": [
    "from IPython.display import YouTubeVideo"
   ]
  },
  {
   "cell_type": "code",
   "execution_count": null,
   "metadata": {},
   "outputs": [],
   "source": [
    "YouTubeVideo(\"zmdjNSmRXF4\")"
   ]
  },
  {
   "cell_type": "code",
   "execution_count": null,
   "metadata": {},
   "outputs": [],
   "source": [
    "YouTubeVideo(\"F6kmIpWWEdU\")"
   ]
  },
  {
   "cell_type": "markdown",
   "metadata": {
    "id": "dFq6zUF-VhRE"
   },
   "source": [
    "**Now let's use pandas to explore this topic!**"
   ]
  },
  {
   "cell_type": "markdown",
   "metadata": {
    "id": "ko6yilZhHsMF"
   },
   "source": [
    "## <p style=\"background-color:#9d4f8c; font-family:newtimeroman; color:#FFF9ED; font-size:175%; text-align:center; border-radius:10px 10px;\">Creating a DataFrame</p>\n",
    "\n",
    "<a id=\"2\"></a>\n",
    "<a href=\"#toc\" class=\"btn btn-primary btn-sm\" role=\"button\" aria-pressed=\"true\" \n",
    "style=\"color:blue; background-color:#dfa8e4\" data-toggle=\"popover\">Content</a>\n",
    "\n",
    "A **``DataFrame``** is a **two-dimension collection of data**. It is a data structure where data is stored in **tabular form**. Datasets are arranged in rows and columns; we can store multiple datasets in the data frame. We can perform various arithmetic operations, such as adding column/row selection and columns/rows in the data frame.\n",
    "\n",
    "We can import the DataFrames from the external storage; these storages can be referred to as the SQL Database, CSV file, and an Excel file. We can also use the lists, dictionary, and from a list of dictionary, etc.\n",
    "\n",
    "In this session, we will learn to create the DataFrame in multiple ways. Let's understand these different ways.\n",
    "\n",
    "**``pandas.DataFrame(data=None, index=None, columns=None, dtype=None, copy=None)``**"
   ]
  },
  {
   "cell_type": "markdown",
   "metadata": {
    "id": "7fiT0NfdHsMH"
   },
   "source": [
    "### <p style=\"background-color:#9d4f8c; font-family:newtimeroman; color:#FFF9ED; font-size:150%; text-align:LEFT; border-radius:10px 10px;\">Creating a DataFrame Using the Lists of Data & Columns</p>\n",
    "\n",
    "<a id=\"2.1\"></a>\n",
    "<a href=\"#toc\" class=\"btn btn-primary btn-sm\" role=\"button\" aria-pressed=\"true\" \n",
    "style=\"color:blue; background-color:#dfa8e4\" data-toggle=\"popover\">Content</a>"
   ]
  },
  {
   "cell_type": "code",
   "execution_count": null,
   "metadata": {
    "id": "fU1otiSWVhRF",
    "outputId": "7a63909c-bbca-4bc5-9e05-db0861a145d6"
   },
   "outputs": [],
   "source": [
    "data = [1, 3, 5, 7, 9, 18]\n",
    "data"
   ]
  },
  {
   "cell_type": "code",
   "execution_count": null,
   "metadata": {
    "id": "GQsLgd4HVhRH",
    "outputId": "69b5b4b5-995c-461f-bff3-9d8ad6649369"
   },
   "outputs": [],
   "source": [
    "pd.DataFrame(data, columns=['column1'])"
   ]
  },
  {
   "cell_type": "code",
   "execution_count": null,
   "metadata": {
    "id": "yI2ZeCbqHsMK",
    "outputId": "a82332e1-f385-4a8f-8592-6146aaa296c1"
   },
   "outputs": [],
   "source": [
    "pd.Series(data, name=\"Python\", dtype=float)"
   ]
  },
  {
   "cell_type": "markdown",
   "metadata": {
    "id": "ntIYdE47VhRH"
   },
   "source": [
    "### <p style=\"background-color:#9d4f8c; font-family:newtimeroman; color:#FFF9ED; font-size:150%; text-align:LEFT; border-radius:10px 10px;\">Creating a DataFrame Using a Numpy Arrays</p>\n",
    "\n",
    "<a id=\"2.2\"></a>\n",
    "<a href=\"#toc\" class=\"btn btn-primary btn-sm\" role=\"button\" aria-pressed=\"true\" \n",
    "style=\"color:blue; background-color:#dfa8e4\" data-toggle=\"popover\">Content</a>"
   ]
  },
  {
   "cell_type": "code",
   "execution_count": null,
   "metadata": {
    "id": "5LOFzRHEVhRI",
    "outputId": "028d403f-e835-45e3-d38c-5e193f76b7d4",
    "scrolled": true
   },
   "outputs": [],
   "source": [
    "data = np.arange(1, 24, 2).reshape(3, 4)\n",
    "data"
   ]
  },
  {
   "cell_type": "code",
   "execution_count": null,
   "metadata": {
    "id": "TdwYymudVhRJ",
    "outputId": "43a21b8f-a691-4649-88de-fac3307abc24"
   },
   "outputs": [],
   "source": [
    "df = pd.DataFrame(data=data, columns=['var1','var2','var3','var4'])\n",
    "df"
   ]
  },
  {
   "cell_type": "code",
   "execution_count": null,
   "metadata": {},
   "outputs": [],
   "source": []
  },
  {
   "cell_type": "markdown",
   "metadata": {
    "id": "jsBe1h1MVhRN"
   },
   "source": [
    "### <p style=\"background-color:#9d4f8c; font-family:newtimeroman; color:#FFF9ED; font-size:150%; text-align:LEFT; border-radius:10px 10px;\">Creating a DataFrame Using a Dictionary</p>\n",
    "\n",
    "<a id=\"2.3\"></a>\n",
    "<a href=\"#toc\" class=\"btn btn-primary btn-sm\" role=\"button\" aria-pressed=\"true\" \n",
    "style=\"color:blue; background-color:#dfa8e4\" data-toggle=\"popover\">Content</a>"
   ]
  },
  {
   "cell_type": "code",
   "execution_count": null,
   "metadata": {
    "id": "HIMcapaZVhRN"
   },
   "outputs": [],
   "source": [
    "s1 = np.random.randint(2, 10, size = 100)\n",
    "s2 = np.random.randint(3, 10, size = 100)\n",
    "s3 = np.random.randint(4, 15, size = 100)"
   ]
  },
  {
   "cell_type": "code",
   "execution_count": null,
   "metadata": {
    "id": "Vng1U3dzVhRN",
    "outputId": "e4990a01-a915-48e5-93c1-956d810624bf"
   },
   "outputs": [],
   "source": [
    "s1"
   ]
  },
  {
   "cell_type": "code",
   "execution_count": null,
   "metadata": {
    "id": "6mJwyxuRVhRN",
    "outputId": "e9b937a5-b0c3-4a94-c008-ab874bbc4f74"
   },
   "outputs": [],
   "source": [
    "s2"
   ]
  },
  {
   "cell_type": "code",
   "execution_count": null,
   "metadata": {
    "id": "bVTPloNkVhRN",
    "outputId": "8110b323-b788-452d-989e-9543107e575b"
   },
   "outputs": [],
   "source": [
    "s3"
   ]
  },
  {
   "cell_type": "code",
   "execution_count": null,
   "metadata": {
    "id": "8dDiXYWeVhRN"
   },
   "outputs": [],
   "source": [
    "myDict= {'var1':s1, 'var2':s2, 'var3':s3}"
   ]
  },
  {
   "cell_type": "code",
   "execution_count": null,
   "metadata": {
    "id": "futU2JS_VhRO",
    "outputId": "ad422c39-019c-49d7-fc9e-f82e264fcca0"
   },
   "outputs": [],
   "source": [
    "df = pd.DataFrame(myDict)\n",
    "df"
   ]
  },
  {
   "cell_type": "code",
   "execution_count": null,
   "metadata": {},
   "outputs": [],
   "source": [
    "df.head(55)"
   ]
  },
  {
   "cell_type": "markdown",
   "metadata": {
    "id": "PmPK9fAGHsMP"
   },
   "source": [
    "### <p style=\"background-color:#9d4f8c; font-family:newtimeroman; color:#FFF9ED; font-size:150%; text-align:LEFT; border-radius:10px 10px;\">The Examination of Some Attributes on Data</p>\n",
    "\n",
    "<a id=\"2.4\"></a>\n",
    "<a href=\"#toc\" class=\"btn btn-primary btn-sm\" role=\"button\" aria-pressed=\"true\" \n",
    "style=\"color:blue; background-color:#dfa8e4\" data-toggle=\"popover\">Content</a>"
   ]
  },
  {
   "cell_type": "code",
   "execution_count": null,
   "metadata": {
    "id": "LWSNd2AjHsMP",
    "outputId": "1d0be243-b337-476b-f228-a8f631b2f3cb"
   },
   "outputs": [],
   "source": [
    "df.head(5)"
   ]
  },
  {
   "cell_type": "code",
   "execution_count": null,
   "metadata": {
    "id": "b_d59DKQHsMQ",
    "outputId": "c511f107-0b8a-494c-fd33-88d4bc238a43"
   },
   "outputs": [],
   "source": [
    "df.tail(2)"
   ]
  },
  {
   "cell_type": "code",
   "execution_count": null,
   "metadata": {
    "id": "_e6y0XPxHsMQ",
    "outputId": "2da33b92-34aa-4bd9-a51a-cef56f8b9099"
   },
   "outputs": [],
   "source": [
    "df.sample(10)"
   ]
  },
  {
   "cell_type": "code",
   "execution_count": null,
   "metadata": {
    "id": "S1_b0BGvHsMQ",
    "outputId": "0440765e-31d4-4d92-deb5-f1ba706c9cbb"
   },
   "outputs": [],
   "source": [
    "df.columns"
   ]
  },
  {
   "cell_type": "code",
   "execution_count": null,
   "metadata": {
    "id": "-Z9unkprHsMR",
    "outputId": "b459c7d5-6d65-406d-b7b4-a881e24f5c68"
   },
   "outputs": [],
   "source": [
    "for i in df.columns:\n",
    "    print(f\"{i:6}\")"
   ]
  },
  {
   "cell_type": "code",
   "execution_count": null,
   "metadata": {},
   "outputs": [],
   "source": [
    "list(enumerate(['A','B','C']))"
   ]
  },
  {
   "cell_type": "code",
   "execution_count": null,
   "metadata": {
    "id": "Fm2A6FLNHsMR",
    "outputId": "466641e8-7e73-4e59-aa6f-1b4d3a6b7ff2"
   },
   "outputs": [],
   "source": [
    "for i in df.columns:\n",
    "    print(df[i].mean())"
   ]
  },
  {
   "cell_type": "code",
   "execution_count": null,
   "metadata": {},
   "outputs": [],
   "source": [
    "df['var1']"
   ]
  },
  {
   "cell_type": "code",
   "execution_count": null,
   "metadata": {
    "id": "3diZju90HsMS",
    "outputId": "cfc90cf9-15c8-49c7-dfcd-d389724fc5f4"
   },
   "outputs": [],
   "source": [
    "df.index"
   ]
  },
  {
   "cell_type": "code",
   "execution_count": null,
   "metadata": {
    "id": "KkTZSUfUHsMS",
    "outputId": "46c67efb-c527-483c-d173-45583e38abd0"
   },
   "outputs": [],
   "source": [
    "print(list(df.index))  #  year_to_date"
   ]
  },
  {
   "cell_type": "code",
   "execution_count": null,
   "metadata": {
    "id": "5T7eCBy8HsMS",
    "outputId": "47645f0e-88e1-4542-b592-989f248b3de8"
   },
   "outputs": [],
   "source": [
    "df.columns=['new1', 'new2', 'new3']\n",
    "df"
   ]
  },
  {
   "cell_type": "code",
   "execution_count": null,
   "metadata": {},
   "outputs": [],
   "source": [
    "s1 = np.random.randint(2, 10, size = 4)\n",
    "s2 = np.random.randint(3, 10, size = 4)\n",
    "s3 = np.random.randint(4, 15, size = 4)"
   ]
  },
  {
   "cell_type": "code",
   "execution_count": null,
   "metadata": {},
   "outputs": [],
   "source": [
    "myDict= {'var1':s1, 'var2':s2, 'var3':s3}\n",
    "df = pd.DataFrame(myDict)"
   ]
  },
  {
   "cell_type": "code",
   "execution_count": null,
   "metadata": {
    "id": "VzC6Bs8iHsMS",
    "outputId": "594db31d-5703-4ba5-c9a3-4cf3c277fe0b"
   },
   "outputs": [],
   "source": [
    "df.index = [\"a\", \"b\", \"c\", \"d\"]\n",
    "df"
   ]
  },
  {
   "cell_type": "code",
   "execution_count": null,
   "metadata": {
    "id": "u49aFoH4HsMT",
    "outputId": "7f148cff-037a-4c9d-ef7f-d76bc2b4f867"
   },
   "outputs": [],
   "source": [
    "df.rename(columns={\"new1\": \"a\", \"new2\": \"b\"})"
   ]
  },
  {
   "cell_type": "code",
   "execution_count": null,
   "metadata": {
    "id": "MdJHf0POHsMT",
    "outputId": "e377d833-b50d-48de-924f-68dbe9c80512"
   },
   "outputs": [],
   "source": [
    "df.rename(index={1: \"a\", 2: \"b\"}, inplace = True)"
   ]
  },
  {
   "cell_type": "code",
   "execution_count": null,
   "metadata": {
    "id": "Js3_OF-0HsMT",
    "outputId": "530f278f-eb95-4743-9db9-10b05328dd0e"
   },
   "outputs": [],
   "source": [
    "df"
   ]
  },
  {
   "cell_type": "code",
   "execution_count": null,
   "metadata": {
    "id": "YbpBhx8fHsMT",
    "outputId": "2b2a3d7d-7bf8-462b-e5d9-d28c1b7be94e"
   },
   "outputs": [],
   "source": [
    "df.shape"
   ]
  },
  {
   "cell_type": "code",
   "execution_count": null,
   "metadata": {
    "id": "Ow49WeMgHsMU",
    "outputId": "8c368452-c762-470c-cac2-52d69dec4313"
   },
   "outputs": [],
   "source": [
    "df.shape[0]"
   ]
  },
  {
   "cell_type": "code",
   "execution_count": null,
   "metadata": {
    "id": "XXlvdJNJHsMU",
    "outputId": "cd364c8f-155c-4f54-849f-786893431161"
   },
   "outputs": [],
   "source": [
    "len(df)"
   ]
  },
  {
   "cell_type": "code",
   "execution_count": null,
   "metadata": {
    "id": "oCrNABZyHsMU",
    "outputId": "32737af6-3cce-478f-b1ef-1ea4e1ccf918"
   },
   "outputs": [],
   "source": [
    "df.ndim"
   ]
  },
  {
   "cell_type": "code",
   "execution_count": null,
   "metadata": {
    "id": "EtHoUHwDHsMU",
    "outputId": "e29f633b-4040-402f-d539-d4104b38b8d8"
   },
   "outputs": [],
   "source": [
    "df.size"
   ]
  },
  {
   "cell_type": "code",
   "execution_count": null,
   "metadata": {
    "id": "dtzBTfB0HsMV",
    "outputId": "897bd102-f9fa-4445-85b4-795c2fc14aa3"
   },
   "outputs": [],
   "source": [
    "df.values"
   ]
  },
  {
   "cell_type": "code",
   "execution_count": null,
   "metadata": {
    "id": "K_1w5OrDHsMV",
    "outputId": "abec217c-2e6d-4d65-aaf9-49e9d22cd46a"
   },
   "outputs": [],
   "source": [
    "type(df)"
   ]
  },
  {
   "cell_type": "code",
   "execution_count": null,
   "metadata": {
    "id": "Myh_ew18HsMV",
    "outputId": "57ef28e1-7de3-4c78-8cc6-63f101ff6d42"
   },
   "outputs": [],
   "source": [
    "type(df.values)"
   ]
  },
  {
   "cell_type": "code",
   "execution_count": null,
   "metadata": {
    "id": "wf655GR2HsMV",
    "outputId": "74a9fba4-0c57-422b-cfbc-2c60be49bea1"
   },
   "outputs": [],
   "source": [
    "# type(df[\"new1\"])"
   ]
  },
  {
   "cell_type": "code",
   "execution_count": null,
   "metadata": {
    "id": "f9D4ku6DHsMW",
    "outputId": "4cc8e9ed-cf5f-44ba-a4c8-7bb87594ca6f"
   },
   "outputs": [],
   "source": [
    "# we can check any column name whether it belongs to the DataFrame or not\n",
    "\n",
    "\"new2\" in df"
   ]
  },
  {
   "cell_type": "code",
   "execution_count": null,
   "metadata": {
    "id": "SJBK4dCfHsMW",
    "outputId": "c39ce330-856f-496f-86de-465df16ef520"
   },
   "outputs": [],
   "source": [
    "'new5' in df"
   ]
  },
  {
   "cell_type": "code",
   "execution_count": null,
   "metadata": {},
   "outputs": [],
   "source": [
    "df"
   ]
  },
  {
   "cell_type": "markdown",
   "metadata": {
    "id": "TEmzDSmWHsMW"
   },
   "source": [
    "## <p style=\"background-color:#9d4f8c; font-family:newtimeroman; color:#FFF9ED; font-size:175%; text-align:center; border-radius:10px 10px;\">Indexing, Slicing & Selection</p>\n",
    "\n",
    "<a id=\"3\"></a>\n",
    "<a href=\"#toc\" class=\"btn btn-primary btn-sm\" role=\"button\" aria-pressed=\"true\" \n",
    "style=\"color:blue; background-color:#dfa8e4\" data-toggle=\"popover\">Content</a>\n",
    "\n",
    "Let's learn a variety of methods to grab data from a DataFrame"
   ]
  },
  {
   "cell_type": "code",
   "execution_count": null,
   "metadata": {
    "id": "x-eTbsq8VhRQ"
   },
   "outputs": [],
   "source": [
    "from numpy.random import randn\n",
    "from math import pi"
   ]
  },
  {
   "cell_type": "code",
   "execution_count": null,
   "metadata": {},
   "outputs": [],
   "source": [
    "pi"
   ]
  },
  {
   "cell_type": "code",
   "execution_count": null,
   "metadata": {},
   "outputs": [],
   "source": [
    "import math"
   ]
  },
  {
   "cell_type": "code",
   "execution_count": null,
   "metadata": {},
   "outputs": [],
   "source": [
    "math.pi"
   ]
  },
  {
   "cell_type": "code",
   "execution_count": null,
   "metadata": {},
   "outputs": [],
   "source": [
    "randn(5, 4)"
   ]
  },
  {
   "cell_type": "code",
   "execution_count": null,
   "metadata": {},
   "outputs": [],
   "source": [
    "'A B C D E'.split()"
   ]
  },
  {
   "cell_type": "code",
   "execution_count": null,
   "metadata": {
    "id": "4f3jyOQxVhRQ",
    "outputId": "0bf03ab7-19d0-406d-81ab-a68809874e0f"
   },
   "outputs": [],
   "source": [
    "# creating a DataFrame by \"keyword arguments\"\n",
    "\n",
    "np.random.seed(101)\n",
    "df = pd.DataFrame(randn(5, 4), index = 'A B C D E'.split(), columns = 'W X Y Z'.split())\n",
    "df"
   ]
  },
  {
   "cell_type": "code",
   "execution_count": null,
   "metadata": {
    "id": "qjj0XG2VHsMX",
    "outputId": "52cabc6b-baa7-4e9d-9540-14c567297bda"
   },
   "outputs": [],
   "source": [
    "df['Y']"
   ]
  },
  {
   "cell_type": "code",
   "execution_count": null,
   "metadata": {
    "id": "LjyQipo4HsMY",
    "outputId": "ad37df30-98da-4e7f-ecae-f976d93a5122"
   },
   "outputs": [],
   "source": [
    "# SQL Syntax (NOT RECOMMENDED!)\n",
    "\n",
    "df.W"
   ]
  },
  {
   "cell_type": "code",
   "execution_count": null,
   "metadata": {
    "id": "4tUOQLSIHsMY",
    "outputId": "f4758813-e9d3-484d-9a39-4a8dadee487e"
   },
   "outputs": [],
   "source": [
    "type(df['Y'])"
   ]
  },
  {
   "cell_type": "code",
   "execution_count": null,
   "metadata": {
    "id": "2x9xBwpbHsMZ",
    "outputId": "9ceaf850-41b2-4740-9856-ddc91a7c27cb"
   },
   "outputs": [],
   "source": [
    "df['Y']"
   ]
  },
  {
   "cell_type": "code",
   "execution_count": null,
   "metadata": {
    "id": "kYoZr9B3HsMZ",
    "outputId": "498f84de-8cab-4234-e6ec-c6f09d74a2fd"
   },
   "outputs": [],
   "source": [
    "df.Y"
   ]
  },
  {
   "cell_type": "code",
   "execution_count": null,
   "metadata": {
    "id": "QafSx10qHsMZ"
   },
   "outputs": [],
   "source": [
    "#df['Z','X'] gives error"
   ]
  },
  {
   "cell_type": "code",
   "execution_count": null,
   "metadata": {
    "id": "2Gc_L-AGHsMa",
    "outputId": "e0782222-3401-4242-90f5-d243932c4748"
   },
   "outputs": [],
   "source": [
    "# it searches index to find [\"X\" : \"Y\"]\n",
    "\n",
    "df[\"W\"] "
   ]
  },
  {
   "cell_type": "code",
   "execution_count": null,
   "metadata": {
    "id": "zlMzdg8pHsMa",
    "outputId": "7134f842-0c1f-4d0c-bf4e-4ac6571ead82"
   },
   "outputs": [],
   "source": [
    "df['C':'D']"
   ]
  },
  {
   "cell_type": "code",
   "execution_count": null,
   "metadata": {
    "id": "DiB1tL-oHsMa"
   },
   "outputs": [],
   "source": [
    "#df['C','D'] gives error"
   ]
  },
  {
   "cell_type": "code",
   "execution_count": null,
   "metadata": {
    "id": "NIWYBV0JHsMa",
    "outputId": "0636e00d-ef20-447e-c1b6-85118d917300"
   },
   "outputs": [],
   "source": [
    "df['A':'B']"
   ]
  },
  {
   "cell_type": "markdown",
   "metadata": {
    "id": "kHojwKHEHsMb"
   },
   "source": [
    "## <p style=\"background-color:#9d4f8c; font-family:newtimeroman; color:#FFF9ED; font-size:175%; text-align:center; border-radius:10px 10px;\">Creating a New Column</p>\n",
    "\n",
    "<a id=\"4\"></a>\n",
    "<a href=\"#toc\" class=\"btn btn-primary btn-sm\" role=\"button\" aria-pressed=\"true\" \n",
    "style=\"color:blue; background-color:#dfa8e4\" data-toggle=\"popover\">Content</a>"
   ]
  },
  {
   "cell_type": "code",
   "execution_count": null,
   "metadata": {
    "id": "F9jBJnniHsMb",
    "outputId": "d752ed6f-8f6c-4605-b131-10f3d6fccb6a"
   },
   "outputs": [],
   "source": [
    "df"
   ]
  },
  {
   "cell_type": "code",
   "execution_count": null,
   "metadata": {
    "id": "INM6ffuRHsMb",
    "outputId": "437a1e2e-3a66-4c49-b732-37619566fb45"
   },
   "outputs": [],
   "source": [
    "# feature engineering OR feature extraction\n",
    "\n",
    "df['new1'] = df['X'] * df['Y']\n",
    "df"
   ]
  },
  {
   "cell_type": "code",
   "execution_count": null,
   "metadata": {
    "id": "FBUVGrUdHsMb",
    "outputId": "9265e721-f94b-4110-e0f3-460d20681aae"
   },
   "outputs": [],
   "source": [
    "df[\"new2\"] = np.arange(5)\n",
    "df"
   ]
  },
  {
   "cell_type": "markdown",
   "metadata": {
    "id": "6IUU6lpPHsMc"
   },
   "source": [
    "## <p style=\"background-color:#9d4f8c; font-family:newtimeroman; color:#FFF9ED; font-size:175%; text-align:center; border-radius:10px 10px;\">Removing Columns</p>\n",
    "\n",
    "<a id=\"5\"></a>\n",
    "<a href=\"#toc\" class=\"btn btn-primary btn-sm\" role=\"button\" aria-pressed=\"true\" \n",
    "style=\"color:blue; background-color:#dfa8e4\" data-toggle=\"popover\">Content</a>"
   ]
  },
  {
   "cell_type": "code",
   "execution_count": null,
   "metadata": {
    "id": "g1gn25QgHsMc",
    "outputId": "f55b438d-8cd9-413f-8095-1afcafbb67d9"
   },
   "outputs": [],
   "source": [
    "df.drop('new2', axis=1)"
   ]
  },
  {
   "cell_type": "code",
   "execution_count": null,
   "metadata": {
    "id": "S3-OUwrHHsMc",
    "outputId": "678462e0-6b25-4d19-d2cc-6bf25283454c"
   },
   "outputs": [],
   "source": [
    "df"
   ]
  },
  {
   "cell_type": "code",
   "execution_count": null,
   "metadata": {
    "id": "gSDB5U15HsMc",
    "outputId": "2f45b1dc-2b24-49a6-9c77-4cdd2c16540d"
   },
   "outputs": [],
   "source": [
    "df.drop([\"new1\", \"new2\"], axis=1)"
   ]
  },
  {
   "cell_type": "code",
   "execution_count": null,
   "metadata": {
    "id": "Sy2t44mQHsMd",
    "outputId": "c50e9baa-d816-4d45-b393-756a617e08f7"
   },
   "outputs": [],
   "source": [
    "df"
   ]
  },
  {
   "cell_type": "code",
   "execution_count": null,
   "metadata": {
    "id": "gGLi4MsCHsMd",
    "outputId": "0379fd11-754e-4865-bf02-4795252d7106"
   },
   "outputs": [],
   "source": [
    "df.drop(columns = [\"new1\", \"new2\"])"
   ]
  },
  {
   "cell_type": "code",
   "execution_count": null,
   "metadata": {},
   "outputs": [],
   "source": [
    "df"
   ]
  },
  {
   "cell_type": "code",
   "execution_count": null,
   "metadata": {
    "id": "gyNgYeZjHsMd",
    "outputId": "b89582e9-5d16-40cf-94cd-6c1f5a66d88a"
   },
   "outputs": [],
   "source": [
    "# It will NOT be permanent (inplace=True), unless specified!\n",
    "\n",
    "df.drop([\"new1\", \"new2\"], axis=1, inplace=True)\n",
    "df"
   ]
  },
  {
   "cell_type": "markdown",
   "metadata": {
    "id": "Vjh9laAKHsMd"
   },
   "source": [
    "## <p style=\"background-color:#9d4f8c; font-family:newtimeroman; color:#FFF9ED; font-size:175%; text-align:center; border-radius:10px 10px;\">Removing Rows</p>\n",
    "\n",
    "<a id=\"6\"></a>\n",
    "<a href=\"#toc\" class=\"btn btn-primary btn-sm\" role=\"button\" aria-pressed=\"true\" \n",
    "style=\"color:blue; background-color:#dfa8e4\" data-toggle=\"popover\">Content</a>"
   ]
  },
  {
   "cell_type": "code",
   "execution_count": null,
   "metadata": {
    "id": "i97HUfsLHsMe",
    "outputId": "f984a5b8-6efc-4268-be57-5a7aff8a091e"
   },
   "outputs": [],
   "source": [
    "df.drop('C', axis=0)"
   ]
  },
  {
   "cell_type": "code",
   "execution_count": null,
   "metadata": {},
   "outputs": [],
   "source": [
    "df"
   ]
  },
  {
   "cell_type": "code",
   "execution_count": null,
   "metadata": {
    "id": "Y7feAr7AHsMe",
    "outputId": "b6681083-bd72-4d06-8e87-c071457633f8"
   },
   "outputs": [],
   "source": [
    "newname = df.drop(index=['B'])"
   ]
  },
  {
   "cell_type": "code",
   "execution_count": null,
   "metadata": {},
   "outputs": [],
   "source": [
    "newname"
   ]
  },
  {
   "cell_type": "code",
   "execution_count": null,
   "metadata": {
    "id": "-4zGa2APHsMe",
    "outputId": "aae25149-a6bc-4229-adac-e0bfcd4a3368"
   },
   "outputs": [],
   "source": [
    "# the default value of axis is 0 (axis = 0)\n",
    "\n",
    "df_temp = df.drop('C', axis=0)\n",
    "df_temp"
   ]
  },
  {
   "cell_type": "code",
   "execution_count": null,
   "metadata": {
    "id": "21L85xXYHsMe",
    "outputId": "c6f87095-4aee-4f2a-b3b7-5d83f649e8c4"
   },
   "outputs": [],
   "source": [
    "df"
   ]
  },
  {
   "cell_type": "markdown",
   "metadata": {
    "id": "qdPdRQMOHsMf"
   },
   "source": [
    "## <p style=\"background-color:#9d4f8c; font-family:newtimeroman; color:#FFF9ED; font-size:175%; text-align:center; border-radius:10px 10px;\">Selecting Rows and Columns using .loc[ ] and iloc[ ]</p>\n",
    "\n",
    "<a id=\"7\"></a>\n",
    "<a href=\"#toc\" class=\"btn btn-primary btn-sm\" role=\"button\" aria-pressed=\"true\" \n",
    "style=\"color:blue; background-color:#dfa8e4\" data-toggle=\"popover\">Content</a>\n",
    "\n",
    "#### `.loc[]` → allows us to select data using **labels** (names) of rows (index) & columns\n",
    "\n",
    "#### `.iloc[]` → allows us to select data using **index numbers** of rows (index) & columns. it's like classical indexing logic"
   ]
  },
  {
   "cell_type": "code",
   "execution_count": null,
   "metadata": {
    "id": "PfgsbF7-VhRU",
    "outputId": "91fbf56f-d8c8-4c84-e75f-13c047f071a9"
   },
   "outputs": [],
   "source": [
    "data = np.random.randint(1, 40, size=(8, 4))\n",
    "\n",
    "df = pd.DataFrame(data, columns = [\"var1\", \"var2\", \"var3\", 'var4'])\n",
    "df"
   ]
  },
  {
   "cell_type": "code",
   "execution_count": null,
   "metadata": {},
   "outputs": [],
   "source": []
  },
  {
   "cell_type": "code",
   "execution_count": null,
   "metadata": {
    "id": "wjgfwCjy96Ws",
    "outputId": "e9d69ebf-3188-4cb4-eb4c-c29d5c5ddef9"
   },
   "outputs": [],
   "source": [
    "df.loc[4]"
   ]
  },
  {
   "cell_type": "code",
   "execution_count": null,
   "metadata": {
    "id": "wSqzExE9VhRU",
    "outputId": "8fd2f563-0d4c-4df0-c118-d9c2075e017c"
   },
   "outputs": [],
   "source": [
    "df.loc[[4]]"
   ]
  },
  {
   "cell_type": "code",
   "execution_count": null,
   "metadata": {},
   "outputs": [],
   "source": [
    "df"
   ]
  },
  {
   "cell_type": "code",
   "execution_count": null,
   "metadata": {
    "id": "hLXCWe7FVhRU",
    "outputId": "fb801c6c-cfaa-46fb-873d-00080443612d"
   },
   "outputs": [],
   "source": [
    "# Slicing produces the same type of the data. Here, DataFrame\n",
    "\n",
    "df.loc[3:6]"
   ]
  },
  {
   "cell_type": "code",
   "execution_count": null,
   "metadata": {
    "id": "I1wOv0kKVhRV",
    "outputId": "1f328a17-7aec-4584-be1e-daa407c4b2ea"
   },
   "outputs": [],
   "source": [
    "df.iloc[2:6]"
   ]
  },
  {
   "cell_type": "code",
   "execution_count": null,
   "metadata": {
    "id": "JZ-XzOBrVhRV",
    "outputId": "7b999155-4a90-4dc7-ed1d-a87ad3a4d6d3"
   },
   "outputs": [],
   "source": [
    "df.index = 'a b c d e f g h'.split()\n",
    "df"
   ]
  },
  {
   "cell_type": "code",
   "execution_count": null,
   "metadata": {
    "id": "ypVGI-jRVhRV",
    "outputId": "8254943d-7d54-4d47-ddd4-183990c7ddb3"
   },
   "outputs": [],
   "source": [
    "df.iloc[1:4]"
   ]
  },
  {
   "cell_type": "code",
   "execution_count": null,
   "metadata": {
    "id": "n0BCAsX_96Wv"
   },
   "outputs": [],
   "source": [
    "# df.loc[1:4]  # gives error"
   ]
  },
  {
   "cell_type": "code",
   "execution_count": null,
   "metadata": {
    "id": "nvxlpxQVVhRV",
    "outputId": "0a0ea76d-7cd2-43b7-e850-d20cad7cb20b"
   },
   "outputs": [],
   "source": [
    "df.loc['c':'g']"
   ]
  },
  {
   "cell_type": "code",
   "execution_count": null,
   "metadata": {},
   "outputs": [],
   "source": [
    "df"
   ]
  },
  {
   "cell_type": "code",
   "execution_count": null,
   "metadata": {
    "id": "bFmdEIucHsMh",
    "outputId": "c270c8a0-d605-40b8-e589-c2abb8173456"
   },
   "outputs": [],
   "source": [
    "df.loc['a':'c', 'var2':'var4']"
   ]
  },
  {
   "cell_type": "code",
   "execution_count": null,
   "metadata": {
    "id": "RUfkoFLlVhRV",
    "outputId": "d56c8c7f-5e20-469b-b2ed-f66740c798bc"
   },
   "outputs": [],
   "source": [
    "df.iloc[3, 2]"
   ]
  },
  {
   "cell_type": "code",
   "execution_count": null,
   "metadata": {
    "id": "rMWJ60ZQVhRW",
    "outputId": "4d155ea9-25e7-4912-ed8d-73b9f30da319"
   },
   "outputs": [],
   "source": [
    "df.loc['d':'g', 'var2']"
   ]
  },
  {
   "cell_type": "code",
   "execution_count": null,
   "metadata": {
    "id": "dOLVIgbyHsMi",
    "outputId": "dd05254a-53a8-4417-d91b-3d92a17d1670"
   },
   "outputs": [],
   "source": [
    "df.loc['d':'g']['var3']"
   ]
  },
  {
   "cell_type": "code",
   "execution_count": null,
   "metadata": {
    "id": "pEWmHI_jHsMi",
    "outputId": "36870231-439c-408d-ebc2-1d3cd65a83fb"
   },
   "outputs": [],
   "source": [
    "# how can we select these data as a DataFrame not a series\n",
    "# First way\n",
    "\n",
    "df.loc['d':'g'][['var3']]"
   ]
  },
  {
   "cell_type": "code",
   "execution_count": null,
   "metadata": {
    "id": "8-9oLtoOHsMj",
    "outputId": "0a4232b2-3a29-4aac-8eaf-aaf53cfcc101"
   },
   "outputs": [],
   "source": [
    "# Second way\n",
    "\n",
    "df.loc['d':'g', [\"var3\"]]"
   ]
  },
  {
   "cell_type": "code",
   "execution_count": null,
   "metadata": {
    "id": "3GioItquHsMj",
    "outputId": "e96800a1-1514-4c7e-95b6-52aa9e13d2b1"
   },
   "outputs": [],
   "source": [
    "df.loc['d':'g'][[\"var2\",\"var3\"]]"
   ]
  },
  {
   "cell_type": "code",
   "execution_count": null,
   "metadata": {
    "id": "TQw6p7szHsMj",
    "outputId": "5ddc172b-1c3c-44b4-c73d-9dc1e2d0713c"
   },
   "outputs": [],
   "source": [
    "df.iloc[2:5, 2]"
   ]
  },
  {
   "cell_type": "code",
   "execution_count": null,
   "metadata": {
    "id": "eqw76xZTVhRW",
    "outputId": "8723b813-7c1c-4bce-8daf-e4f050a5502a"
   },
   "outputs": [],
   "source": [
    "df.iloc[2:5, [2]]"
   ]
  },
  {
   "cell_type": "code",
   "execution_count": null,
   "metadata": {
    "id": "GIhGb-WVHsMj"
   },
   "outputs": [],
   "source": [
    "#df.iloc[2:5][[2]] gives error"
   ]
  },
  {
   "cell_type": "code",
   "execution_count": null,
   "metadata": {
    "id": "VCIudMcWVhRW",
    "outputId": "5d3174c5-c1db-46ee-a963-5b33ccd12c7d"
   },
   "outputs": [],
   "source": [
    "df.iloc[2:5][['var3']]"
   ]
  },
  {
   "cell_type": "code",
   "execution_count": null,
   "metadata": {
    "id": "9vhNJ43XHsMk",
    "outputId": "e7bbf714-e775-4270-d0df-80bca6acba71"
   },
   "outputs": [],
   "source": [
    "df"
   ]
  },
  {
   "cell_type": "code",
   "execution_count": null,
   "metadata": {
    "id": "L4XfP0otHsMk",
    "outputId": "26d0e976-69e8-41aa-e15b-62470a0ada35"
   },
   "outputs": [],
   "source": [
    "df.loc['a','var1']"
   ]
  },
  {
   "cell_type": "code",
   "execution_count": null,
   "metadata": {
    "id": "d6mxUB-MHsMk",
    "outputId": "96933480-2c34-4480-fb1f-723d36876c85"
   },
   "outputs": [],
   "source": [
    "# let's select the same data as a DataFrame\n",
    "\n",
    "df.loc[['a'], ['var1']]"
   ]
  },
  {
   "cell_type": "code",
   "execution_count": null,
   "metadata": {
    "id": "2iMYCA_GHsMl",
    "outputId": "e5a181a2-5c02-45a6-8181-4262db904c98"
   },
   "outputs": [],
   "source": [
    "df.loc[['a','c'],['var1','var3']]"
   ]
  },
  {
   "cell_type": "code",
   "execution_count": null,
   "metadata": {
    "id": "s0bbIBiqHsMl",
    "outputId": "df5b7bc9-af82-4258-d68a-803cc25590cc"
   },
   "outputs": [],
   "source": [
    "df.iloc[[0, 2], [0, 2]]"
   ]
  },
  {
   "cell_type": "markdown",
   "metadata": {
    "id": "eA49WitdVhRZ"
   },
   "source": [
    "## <p style=\"background-color:#9d4f8c; font-family:newtimeroman; color:#FFF9ED; font-size:175%; text-align:center; border-radius:10px 10px;\">Conditional Selection</p>\n",
    "\n",
    "<a id=\"8\"></a>\n",
    "<a href=\"#toc\" class=\"btn btn-primary btn-sm\" role=\"button\" aria-pressed=\"true\" \n",
    "style=\"color:blue; background-color:#dfa8e4\" data-toggle=\"popover\">Content</a>\n",
    "\n",
    "An important feature of pandas is conditional selection using bracket notation, very similar to numpy:"
   ]
  },
  {
   "cell_type": "code",
   "execution_count": null,
   "metadata": {
    "id": "ZoSn8Vn9VhRa",
    "outputId": "2828116f-9dea-4e3c-e0bb-19eac00afced"
   },
   "outputs": [],
   "source": [
    "df"
   ]
  },
  {
   "cell_type": "markdown",
   "metadata": {
    "id": "VDz1u1WNHsMm"
   },
   "source": [
    "### <p style=\"background-color:#9d4f8c; font-family:newtimeroman; color:#FFF9ED; font-size:150%; text-align:LEFT; border-radius:10px 10px;\">One Conditional Statement</p>\n",
    "\n",
    "<a id=\"8.1\"></a>\n",
    "<a href=\"#toc\" class=\"btn btn-primary btn-sm\" role=\"button\" aria-pressed=\"true\" \n",
    "style=\"color:blue; background-color:#dfa8e4\" data-toggle=\"popover\">Content</a>"
   ]
  },
  {
   "cell_type": "code",
   "execution_count": null,
   "metadata": {
    "id": "LqGYidqVVhRa",
    "outputId": "667bafdf-fab4-4af6-9a2c-a0ab749903b2"
   },
   "outputs": [],
   "source": [
    "# returns a DataFrame consists of bool type\n",
    "\n",
    "df < 10"
   ]
  },
  {
   "cell_type": "code",
   "execution_count": null,
   "metadata": {
    "id": "2hDm5zHYVhRa",
    "outputId": "a15120c5-1ea9-44e1-f3ef-153673db2742"
   },
   "outputs": [],
   "source": [
    "df[df > 10]"
   ]
  },
  {
   "cell_type": "code",
   "execution_count": null,
   "metadata": {},
   "outputs": [],
   "source": [
    "df"
   ]
  },
  {
   "cell_type": "code",
   "execution_count": null,
   "metadata": {},
   "outputs": [],
   "source": [
    "df['var1'] > 10"
   ]
  },
  {
   "cell_type": "code",
   "execution_count": null,
   "metadata": {
    "id": "8STy5tzDVhRa",
    "outputId": "a362ad65-4e30-4cce-8fd8-ed31631d00a8",
    "scrolled": true
   },
   "outputs": [],
   "source": [
    "# It returns based on rows.\n",
    "\n",
    "df[df['var1'] > 10]"
   ]
  },
  {
   "cell_type": "code",
   "execution_count": null,
   "metadata": {
    "id": "9IntmQUZVhRa",
    "outputId": "31b9f208-e2bb-41f0-b862-3b4dbbc502a4"
   },
   "outputs": [],
   "source": [
    "df[df['var1'] > 10]['var2']"
   ]
  },
  {
   "cell_type": "code",
   "execution_count": null,
   "metadata": {
    "id": "7DYfkXfoVhRa",
    "outputId": "9493798a-c8b8-4e1a-c9c0-6c738f4b487e"
   },
   "outputs": [],
   "source": [
    "df[df['var1'] > 10][['var2']]"
   ]
  },
  {
   "cell_type": "code",
   "execution_count": null,
   "metadata": {
    "id": "tLAsD0kZHsMo",
    "outputId": "22e503fd-ecbc-4020-b689-5ca9440e4dc7"
   },
   "outputs": [],
   "source": [
    "# how can we select the data as a DataFrame\n",
    "\n",
    "df[df['var1'] > 10][['var2', \"var3\"]]"
   ]
  },
  {
   "cell_type": "markdown",
   "metadata": {
    "id": "Rxj38j9-VhRb"
   },
   "source": [
    "### <p style=\"background-color:#9d4f8c; font-family:newtimeroman; color:#FFF9ED; font-size:150%; text-align:LEFT; border-radius:10px 10px;\">Two or More Conditional Statements</p>\n",
    "\n",
    "<a id=\"8.2\"></a>\n",
    "<a href=\"#toc\" class=\"btn btn-primary btn-sm\" role=\"button\" aria-pressed=\"true\" \n",
    "style=\"color:blue; background-color:#dfa8e4\" data-toggle=\"popover\">Content</a>\n",
    "\n",
    "**For two or more conditions, you can use | → or, & → and with parenthesis:**"
   ]
  },
  {
   "cell_type": "code",
   "execution_count": null,
   "metadata": {
    "id": "Jhk3-nUkVhRb",
    "outputId": "c77c0374-d5d5-46d2-a9e9-d32430917699"
   },
   "outputs": [],
   "source": [
    "df"
   ]
  },
  {
   "cell_type": "code",
   "execution_count": null,
   "metadata": {
    "id": "a8Npuxt8VhRb",
    "outputId": "b9fd2c25-83b4-4d99-f6aa-a3a0ad8fb6ce"
   },
   "outputs": [],
   "source": [
    "df[(df['var1'] > 10) & (df['var1'] < 20)]"
   ]
  },
  {
   "cell_type": "markdown",
   "metadata": {
    "id": "mtqlKN3EVhRb"
   },
   "source": [
    "### <p style=\"background-color:#9d4f8c; font-family:newtimeroman; color:#FFF9ED; font-size:150%; text-align:LEFT; border-radius:10px 10px;\">Conditional Selection Using .loc[ ] and .iloc[ ]</p>\n",
    "\n",
    "<a id=\"8.3\"></a>\n",
    "<a href=\"#toc\" class=\"btn btn-primary btn-sm\" role=\"button\" aria-pressed=\"true\" \n",
    "style=\"color:blue; background-color:#dfa8e4\" data-toggle=\"popover\">Content</a>"
   ]
  },
  {
   "cell_type": "code",
   "execution_count": null,
   "metadata": {
    "id": "UjyZVKvKVhRb",
    "outputId": "a6158242-f662-4053-c170-ade584454483"
   },
   "outputs": [],
   "source": [
    "df.loc[(df[\"var1\"] > 10), ['var2', 'var3']]"
   ]
  },
  {
   "cell_type": "code",
   "execution_count": null,
   "metadata": {},
   "outputs": [],
   "source": [
    "df"
   ]
  },
  {
   "cell_type": "code",
   "execution_count": null,
   "metadata": {
    "id": "fXRuZPvSVhRb",
    "outputId": "001b7006-7223-4215-e935-b4015501a308"
   },
   "outputs": [],
   "source": [
    "df.loc[((df[\"var1\"] < 20) | (df[\"var1\"] > 30)), ['var1', 'var2','var3']]"
   ]
  },
  {
   "cell_type": "markdown",
   "metadata": {
    "id": "B7ln6nTqVhRc"
   },
   "source": [
    "## <p style=\"background-color:#9d4f8c; font-family:newtimeroman; color:#FFF9ED; font-size:175%; text-align:center; border-radius:10px 10px;\">reset_index() & set_index()</p>\n",
    "\n",
    "<a id=\"9\"></a>\n",
    "<a href=\"#toc\" class=\"btn btn-primary btn-sm\" role=\"button\" aria-pressed=\"true\" \n",
    "style=\"color:blue; background-color:#dfa8e4\" data-toggle=\"popover\">Content</a>\n",
    "\n",
    "Let's discuss some more features of indexing, including resetting the index or setting it something else. We'll also talk about index hierarchy!"
   ]
  },
  {
   "cell_type": "code",
   "execution_count": null,
   "metadata": {
    "id": "DLvo2MDzVhRc",
    "outputId": "303eeb0d-bc96-4aab-cbf9-6a6e302c25e7"
   },
   "outputs": [],
   "source": [
    "df"
   ]
  },
  {
   "cell_type": "code",
   "execution_count": null,
   "metadata": {
    "id": "lceyI8R9VhRc",
    "outputId": "da6b2e84-3f45-4863-825f-78bc847f6f32"
   },
   "outputs": [],
   "source": [
    "# Reset to default 0, 1...n index\n",
    "\n",
    "df.reset_index()"
   ]
  },
  {
   "cell_type": "code",
   "execution_count": null,
   "metadata": {
    "id": "nOzGJubwVhRc",
    "outputId": "a8b8d033-788b-4cf6-b4fb-13911ba51ca8"
   },
   "outputs": [],
   "source": [
    "df.reset_index(drop=True)"
   ]
  },
  {
   "cell_type": "code",
   "execution_count": null,
   "metadata": {
    "id": "QCjPP7AdVhRc",
    "outputId": "d8f294c4-e01f-42a1-a7de-1fb83062cc84"
   },
   "outputs": [],
   "source": [
    "df.reset_index(drop=True, inplace=True)\n",
    "df"
   ]
  },
  {
   "cell_type": "code",
   "execution_count": null,
   "metadata": {
    "id": "dvMcSXc-VhRc",
    "outputId": "735b1ca9-5b7e-41db-918f-2207b4d778d9"
   },
   "outputs": [],
   "source": [
    "df.set_index('var4')"
   ]
  },
  {
   "cell_type": "code",
   "execution_count": null,
   "metadata": {
    "id": "HWibfLFCVhRc",
    "outputId": "fc525531-f6e5-4636-a390-820f78646106"
   },
   "outputs": [],
   "source": [
    "df.set_index('var4', inplace=True)\n",
    "df"
   ]
  },
  {
   "cell_type": "markdown",
   "metadata": {
    "id": "hdtXTMPrHsMs"
   },
   "source": [
    "## <p style=\"background-color:#9d4f8c; font-family:newtimeroman; color:#FFF9ED; font-size:175%; text-align:center; border-radius:10px 10px;\">Multi-Index & Index Hierarchy</p>\n",
    "\n",
    "<a id=\"10\"></a>\n",
    "<a href=\"#toc\" class=\"btn btn-primary btn-sm\" role=\"button\" aria-pressed=\"true\" \n",
    "style=\"color:blue; background-color:#dfa8e4\" data-toggle=\"popover\">Content</a>\n",
    "\n",
    "Let us go over how to work with Multi-Index, first we'll create a quick example of what a Multi-Indexed DataFrame would look like:"
   ]
  },
  {
   "cell_type": "code",
   "execution_count": null,
   "metadata": {
    "id": "TNUwp0dYHsMs",
    "outputId": "0f055f55-6a5b-47cb-8f08-1980d3826874"
   },
   "outputs": [],
   "source": [
    "# Index Levels\n",
    "\n",
    "outside = ['M1', 'M1', 'M1', 'M2', 'M2', 'M2','M3', 'M3', 'M3']\n",
    "inside = [1, 2, 3, 1, 2, 3, 5, 6, 7]\n",
    "multi_index = list(zip(outside, inside))\n",
    "multi_index"
   ]
  },
  {
   "cell_type": "code",
   "execution_count": null,
   "metadata": {
    "id": "9Bz6fotFHsMs",
    "outputId": "9d58b9d8-eb2d-4544-a46c-a3c037a8a48d"
   },
   "outputs": [],
   "source": [
    "hier_index = pd.MultiIndex.from_tuples(multi_index)\n",
    "hier_index"
   ]
  },
  {
   "cell_type": "code",
   "execution_count": null,
   "metadata": {
    "id": "OrvLxDIZHsMs",
    "outputId": "614a6778-ec84-4ebf-d045-65847fecd26d"
   },
   "outputs": [],
   "source": [
    "np.random.seed(101)\n",
    "df = pd.DataFrame(np.random.randn(9, 4), index = hier_index, columns=['A', 'B', 'C', 'D'])\n",
    "df"
   ]
  },
  {
   "cell_type": "markdown",
   "metadata": {
    "id": "Cam7mF6eHsMt"
   },
   "source": [
    "**``Note``** that all of the MultiIndex constructors accept a names argument which stores string names for the levels themselves. If no names are provided, None will be assigned:\n",
    "\n",
    "For more information Indexing and Selecting Data, visit [**Pandas Official Documentation**](https://pandas.pydata.org/pandas-docs/version/0.13.0/indexing.html)"
   ]
  },
  {
   "cell_type": "code",
   "execution_count": null,
   "metadata": {
    "id": "vC45FOlCHsMt",
    "outputId": "4f13313d-0ddd-4e6d-b7ef-99b991949506"
   },
   "outputs": [],
   "source": [
    "df.index.names"
   ]
  },
  {
   "cell_type": "code",
   "execution_count": null,
   "metadata": {
    "id": "fFlgGHQyHsMt",
    "outputId": "9fd00280-2178-4f04-b728-f85f57143e44"
   },
   "outputs": [],
   "source": [
    "df.index.names = ['Group', 'Num']\n",
    "df.index.names"
   ]
  },
  {
   "cell_type": "code",
   "execution_count": null,
   "metadata": {
    "id": "fCVj2DD2HsMu",
    "outputId": "fccf2cc2-686c-4066-bc82-6a1b2597eb16"
   },
   "outputs": [],
   "source": [
    "df"
   ]
  },
  {
   "cell_type": "code",
   "execution_count": null,
   "metadata": {
    "id": "hXsLTejhHsMu",
    "outputId": "1907765d-5e65-4742-ecc6-30a348a13d78"
   },
   "outputs": [],
   "source": [
    "df.index"
   ]
  },
  {
   "cell_type": "code",
   "execution_count": null,
   "metadata": {
    "id": "UnrG6XjGHsMu",
    "outputId": "874e8dc5-d015-400d-c8b6-067161e66d09"
   },
   "outputs": [],
   "source": [
    "df.index.levels"
   ]
  },
  {
   "cell_type": "code",
   "execution_count": null,
   "metadata": {
    "id": "KpCOdLTDHsMu",
    "outputId": "351ea9f6-e1b4-4fa8-f582-ec4dc2e53fd7"
   },
   "outputs": [],
   "source": [
    "df.index.get_level_values(1)"
   ]
  },
  {
   "cell_type": "code",
   "execution_count": null,
   "metadata": {
    "id": "hOcfP5CIHsMv",
    "outputId": "127f601d-d67a-4219-d93d-afc8daea4324"
   },
   "outputs": [],
   "source": [
    "df.index.get_level_values(\"Num\")"
   ]
  },
  {
   "cell_type": "markdown",
   "metadata": {
    "id": "gPCoxizpHsMv"
   },
   "source": [
    "Now let's show how to index this! For index hierarchy we use ``df.loc[]``, if this was on the columns axis, you would just use normal bracket notation ``df[]``. Calling one level of the index returns the sub-dataframe:"
   ]
  },
  {
   "cell_type": "code",
   "execution_count": null,
   "metadata": {
    "id": "ayIolcQMHsMv",
    "outputId": "8398d4b3-1e36-408b-d0be-238f05ab7233"
   },
   "outputs": [],
   "source": [
    "df[[\"A\"]]"
   ]
  },
  {
   "cell_type": "code",
   "execution_count": null,
   "metadata": {
    "id": "enK45YalHsMv",
    "outputId": "c398f10b-b100-47c8-99db-55cfc4807324"
   },
   "outputs": [],
   "source": [
    "df[[\"A\",\"B\"]]"
   ]
  },
  {
   "cell_type": "code",
   "execution_count": null,
   "metadata": {
    "id": "tkbeQMSkHsMw",
    "outputId": "c52a6948-7fc2-4b23-86a5-69de5b85f6c5"
   },
   "outputs": [],
   "source": [
    "df.loc['M3']"
   ]
  },
  {
   "cell_type": "code",
   "execution_count": null,
   "metadata": {
    "id": "39nwRgITHsMw",
    "outputId": "ff4e5858-32e6-4951-816c-3822426d4ee5"
   },
   "outputs": [],
   "source": [
    "df.loc[(\"M1\", 2)]"
   ]
  },
  {
   "cell_type": "code",
   "execution_count": null,
   "metadata": {
    "id": "Xf95EAD8HsMw",
    "outputId": "37b68e9a-3f59-437f-a767-36fd5a047496"
   },
   "outputs": [],
   "source": [
    "df.loc[[(\"M1\", 2)]]"
   ]
  },
  {
   "cell_type": "code",
   "execution_count": null,
   "metadata": {
    "id": "sfzEUvRzHsMw",
    "outputId": "8e62ada0-0904-4449-d9bd-735800512724"
   },
   "outputs": [],
   "source": [
    "df.loc[\"M1\", \"A\":\"C\"]"
   ]
  },
  {
   "cell_type": "code",
   "execution_count": null,
   "metadata": {
    "id": "f2cE-8OHHsMx",
    "outputId": "38dc8754-9678-4814-d6d8-ed134e911aa4"
   },
   "outputs": [],
   "source": [
    "df.loc[[(\"M1\", 2)], \"A\":\"C\"]"
   ]
  },
  {
   "cell_type": "code",
   "execution_count": null,
   "metadata": {
    "id": "1WtDlbD8HsMx",
    "outputId": "f819e852-76d3-4cd0-98ba-132cd86f2271"
   },
   "outputs": [],
   "source": [
    "df.loc[\"M1\":\"M2\"]"
   ]
  },
  {
   "cell_type": "code",
   "execution_count": null,
   "metadata": {
    "id": "M4Vv3NC_HsMx",
    "outputId": "70d54f57-c5c4-4b13-c9ae-3b345628cbcb"
   },
   "outputs": [],
   "source": [
    "df.loc[(\"M1\", 2):(\"M2\", 3)]"
   ]
  },
  {
   "cell_type": "code",
   "execution_count": null,
   "metadata": {
    "id": "5wz8oT-oHsMx",
    "outputId": "0a0bc6d7-d1c7-4d52-8991-f15ea01d68a2"
   },
   "outputs": [],
   "source": [
    "df.loc[(\"M1\", 2): \"M2\"]"
   ]
  },
  {
   "cell_type": "code",
   "execution_count": null,
   "metadata": {
    "id": "CzkqIp8RHsMy",
    "outputId": "161177a9-e928-43ed-a0c9-8502390ca0ec"
   },
   "outputs": [],
   "source": [
    "df.loc[[(\"M2\", 3), (\"M3\", 5)]]"
   ]
  },
  {
   "cell_type": "markdown",
   "metadata": {
    "id": "3qSd2B-KHsMy"
   },
   "source": [
    "More information for Multiindex and Advanced Indexing, visit [**Pandas Official Documentation**](https://pandas.pydata.org/docs/user_guide/advanced.html)"
   ]
  },
  {
   "cell_type": "markdown",
   "metadata": {
    "id": "t1NLKArU96Xc"
   },
   "source": [
    "## <p style=\"background-color:#9d4f8c; font-family:newtimeroman; color:#FFF9ED; font-size:175%; text-align:center; border-radius:10px 10px;\">Some Other Useful Methods with Iris Dataset</p>\n",
    "\n",
    "<a id=\"11\"></a>\n",
    "<a href=\"#toc\" class=\"btn btn-primary btn-sm\" role=\"button\" aria-pressed=\"true\" \n",
    "style=\"color:blue; background-color:#dfa8e4\" data-toggle=\"popover\">Content</a>\n",
    "\n",
    "### Let's apply functions/attributes/methods we have learnt for \"iris dataset\" "
   ]
  },
  {
   "cell_type": "code",
   "execution_count": null,
   "metadata": {
    "id": "sWjbAzemVhRg"
   },
   "outputs": [],
   "source": [
    "import seaborn as sns"
   ]
  },
  {
   "cell_type": "code",
   "execution_count": null,
   "metadata": {
    "id": "_FtSk1A1HsMz",
    "outputId": "3c0c6afe-c1c2-41fb-8284-8999e54b4d27"
   },
   "outputs": [],
   "source": [
    "sns.get_dataset_names()"
   ]
  },
  {
   "cell_type": "code",
   "execution_count": null,
   "metadata": {
    "id": "ppP34DkYVhRg",
    "outputId": "66ef6d57-f566-4eec-cab7-5d9ed2d4523d"
   },
   "outputs": [],
   "source": [
    "df = sns.load_dataset('iris')\n",
    "df"
   ]
  },
  {
   "cell_type": "code",
   "execution_count": null,
   "metadata": {
    "id": "D9U3FCDPVhRh",
    "outputId": "addb0ba8-e470-4ee3-d471-e04f99e84c2b"
   },
   "outputs": [],
   "source": [
    "df.head()"
   ]
  },
  {
   "cell_type": "code",
   "execution_count": null,
   "metadata": {
    "id": "uwPHcrgNVhRg",
    "outputId": "8b6c1c09-4c93-4cad-89c8-419c8f7f4828"
   },
   "outputs": [],
   "source": [
    "df.shape"
   ]
  },
  {
   "cell_type": "code",
   "execution_count": null,
   "metadata": {
    "id": "Pq2Kw167VhRh",
    "outputId": "8d99f971-e2a5-4090-abfd-9437971e7dc0"
   },
   "outputs": [],
   "source": [
    "df.info()"
   ]
  },
  {
   "cell_type": "code",
   "execution_count": null,
   "metadata": {
    "id": "lCclbFk_VhRh",
    "outputId": "c3acdd56-1085-4661-9544-ef480c5ef75c"
   },
   "outputs": [],
   "source": [
    "df.sample(4)"
   ]
  },
  {
   "cell_type": "code",
   "execution_count": null,
   "metadata": {
    "id": "nay7Gh0iVhRh",
    "outputId": "09244fcd-292f-4d46-9edc-2ab60380d297"
   },
   "outputs": [],
   "source": [
    "df.describe()"
   ]
  },
  {
   "cell_type": "code",
   "execution_count": null,
   "metadata": {
    "id": "RA6aO48fHsM1",
    "outputId": "1da87112-7cd5-48cb-b7a6-127344a5c259"
   },
   "outputs": [],
   "source": [
    "# df.describe().T\n",
    "\n",
    "df.describe().transpose()"
   ]
  },
  {
   "cell_type": "code",
   "execution_count": null,
   "metadata": {
    "id": "8119apHbHsM1",
    "outputId": "edcaf822-e7ce-451a-e3b4-d2b912467e62"
   },
   "outputs": [],
   "source": [
    "df.describe(include=\"all\")\n",
    "\n",
    "# \"number\" and \"object\" can be used as include/exclude parameter"
   ]
  },
  {
   "cell_type": "code",
   "execution_count": null,
   "metadata": {
    "id": "9ovW_n2-HsM7",
    "outputId": "af20c3c6-3ff0-4670-8af9-0040acabeda2"
   },
   "outputs": [],
   "source": [
    "df.corr()"
   ]
  },
  {
   "cell_type": "code",
   "execution_count": null,
   "metadata": {
    "id": "jDsO2YD9HsM7",
    "outputId": "ed1fa923-09a4-4701-cd36-c5fc5319be7d"
   },
   "outputs": [],
   "source": [
    "df.corr()[[\"sepal_length\"]]"
   ]
  },
  {
   "cell_type": "code",
   "execution_count": null,
   "metadata": {
    "id": "_JozZyetHsM7",
    "outputId": "521fbb0f-f81b-4c7f-cfa9-0dac3a0186d4"
   },
   "outputs": [],
   "source": [
    "df['petal_length'].corr(df[\"petal_width\"])"
   ]
  },
  {
   "cell_type": "code",
   "execution_count": null,
   "metadata": {
    "id": "klcYyiW3HsM8",
    "outputId": "5e9229b9-a126-4f6f-c987-478ec98c8413"
   },
   "outputs": [],
   "source": [
    "df.species.value_counts(dropna=False)"
   ]
  },
  {
   "cell_type": "code",
   "execution_count": null,
   "metadata": {
    "id": "EEyZ_89nHsM8",
    "outputId": "5a7e1125-7f0b-4e9a-b840-7c299bfe3af1"
   },
   "outputs": [],
   "source": [
    "df['species'].value_counts(dropna=False, normalize=True)"
   ]
  },
  {
   "cell_type": "code",
   "execution_count": null,
   "metadata": {
    "id": "Jc03Q5YYHsM8",
    "outputId": "d4828c91-35a3-4ba5-d577-b59518ff71ac"
   },
   "outputs": [],
   "source": [
    "df.species.unique()"
   ]
  },
  {
   "cell_type": "code",
   "execution_count": null,
   "metadata": {
    "id": "plugWF9-HsM8",
    "outputId": "5d3cf103-9e12-4ee2-e064-605dc5aea567"
   },
   "outputs": [],
   "source": [
    "df.species.nunique()"
   ]
  },
  {
   "cell_type": "code",
   "execution_count": null,
   "metadata": {
    "id": "0DsWYNWpHsM8",
    "outputId": "751fc4a5-e91b-4e73-e329-5e7813f6f5c2"
   },
   "outputs": [],
   "source": [
    "df.loc[df[\"species\"] == \"setosa\", \"sepal_length\"]"
   ]
  },
  {
   "cell_type": "code",
   "execution_count": null,
   "metadata": {
    "id": "DCzGtRT5HsM9",
    "outputId": "b661734a-64e3-4b3e-baca-802a710dbfdd"
   },
   "outputs": [],
   "source": [
    "df[(df.sepal_length > 4) & (df.sepal_length < 5)]"
   ]
  },
  {
   "cell_type": "code",
   "execution_count": null,
   "metadata": {
    "id": "9-oI86YBHsM9",
    "outputId": "82ab4a8d-ff53-4a3a-f0e3-e9f4c762143a"
   },
   "outputs": [],
   "source": [
    "df[(df.species == \"virginica\") & (df.sepal_length > 4)  & (df.sepal_length < 5)]"
   ]
  },
  {
   "cell_type": "code",
   "execution_count": null,
   "metadata": {
    "id": "YnNjGrBVHsM9",
    "outputId": "5cd900bb-ebd4-47d3-f0f2-dc1e75696389"
   },
   "outputs": [],
   "source": [
    "df.sort_values(by='sepal_length', ascending=True)"
   ]
  },
  {
   "cell_type": "markdown",
   "metadata": {
    "id": "EueAVnDLVhRg"
   },
   "source": [
    "## <p style=\"background-color:#FDFEFE; font-family:newtimeroman; color:#9d4f8c; font-size:150%; text-align:center; border-radius:10px 10px;\">The End of The Session - 04</p>\n"
   ]
  },
  {
   "cell_type": "markdown",
   "metadata": {
    "id": "wphRPAhjVhRk"
   },
   "source": [
    "## <p style=\"background-color:#FDFEFE; font-family:newtimeroman; color:#9d4f8c; font-size:100%; text-align:center; border-radius:10px 10px;\">WAY TO REINVENT YOURSELF</p>\n",
    "\n",
    "________"
   ]
  }
 ],
 "metadata": {
  "colab": {
   "name": "DAwPy_S4_(Pandas_DataFrames,_Selection_and_Indexing_w_loc,iloc, multi).ipynb",
   "provenance": []
  },
  "kernelspec": {
   "display_name": "Python 3 (ipykernel)",
   "language": "python",
   "name": "python3"
  },
  "language_info": {
   "codemirror_mode": {
    "name": "ipython",
    "version": 3
   },
   "file_extension": ".py",
   "mimetype": "text/x-python",
   "name": "python",
   "nbconvert_exporter": "python",
   "pygments_lexer": "ipython3",
   "version": "3.11.3"
  },
  "toc": {
   "base_numbering": 1,
   "nav_menu": {},
   "number_sections": false,
   "sideBar": true,
   "skip_h1_title": false,
   "title_cell": "Table of Contents",
   "title_sidebar": "Contents",
   "toc_cell": false,
   "toc_position": {},
   "toc_section_display": true,
   "toc_window_display": false
  }
 },
 "nbformat": 4,
 "nbformat_minor": 4
}
