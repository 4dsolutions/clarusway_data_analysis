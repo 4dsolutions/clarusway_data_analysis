{
 "cells": [
  {
   "cell_type": "markdown",
   "id": "50efa356-891a-4612-a39d-23255e78e8d1",
   "metadata": {},
   "source": [
    "# Exercise:  \n",
    "\n",
    "### Change Times to Your Timezone (this is Pacific Standard Time)\n",
    "\n",
    "* The first lesson is between => 10.00 - 10.45 \n",
    "* 10-minute break between => 10.45 - 10.55\n",
    "* The second lesson is between => 10.55 - 11.40 \n",
    "* 10-minute break between => 11.40 - 11.50 \n",
    "* The third lesson is between => 11.50 - 12.35 \n",
    "* 10-minute break between => 12.35 - 12.45\n",
    "* The fourth (last) lesson is between => 12.45 - 13.30 "
   ]
  },
  {
   "cell_type": "markdown",
   "id": "55ac3d13-30fc-4ae0-959b-c47d8080e4fa",
   "metadata": {},
   "source": [
    "## Let's Look at Git\n",
    "\n",
    "<a data-flickr-embed=\"true\" href=\"https://www.flickr.com/photos/kirbyurner/52567606601/in/dateposted-public/\" title=\"Screen Shot 2022-12-16 at 12.44.11 PM\"><img src=\"https://live.staticflickr.com/65535/52567606601_22a034eb5f_z.jpg\" width=\"640\" height=\"215\" alt=\"Screen Shot 2022-12-16 at 12.44.11 PM\"></a><script async src=\"//embedr.flickr.com/assets/client-code.js\" charset=\"utf-8\"></script>\n",
    "\n",
    "I update my noteboos(s) locally (localhost), then add (stage) the notebook(s) for uploading, then commit them."
   ]
  },
  {
   "cell_type": "markdown",
   "id": "d6eb3446-7b45-4556-ba92-cde37f041ae7",
   "metadata": {},
   "source": [
    "# Break Time:  until 15 Before the hour."
   ]
  },
  {
   "cell_type": "code",
   "execution_count": 1,
   "id": "085063d0-a5a1-474c-ab53-3001b23783c1",
   "metadata": {},
   "outputs": [],
   "source": [
    "class Python:\n",
    "    \n",
    "    def __init__(self, nm):\n",
    "        \"\"\"birth method\"\"\"\n",
    "        self.name = nm\n",
    "        self.stomach = [ ]\n",
    "        \n",
    "    def eat(self, food):\n",
    "        self.stomach.append(food)\n",
    "        \n",
    "    def __call__(self, food):     # <-- __rib__\n",
    "        self.eat(food)\n",
    "        \n",
    "    def __getitem__(self, idx):   # <-- __rib__\n",
    "        return self.stomach[idx]\n",
    "    \n",
    "    def __repr__(self):           # <-- __rib__\n",
    "        return f'Python named {self.name}'"
   ]
  },
  {
   "cell_type": "code",
   "execution_count": 2,
   "id": "e09871d1-31c0-4acc-8ddb-730b90451b5d",
   "metadata": {},
   "outputs": [
    {
     "data": {
      "text/plain": [
       "Python named Monty"
      ]
     },
     "execution_count": 2,
     "metadata": {},
     "output_type": "execute_result"
    }
   ],
   "source": [
    "snake = Python(\"Monty\")\n",
    "snake"
   ]
  },
  {
   "cell_type": "code",
   "execution_count": 3,
   "id": "207bf46e-0370-4b42-be47-f0f94d7c71ff",
   "metadata": {},
   "outputs": [],
   "source": [
    "snake.eat(\"cheese\")"
   ]
  },
  {
   "cell_type": "code",
   "execution_count": 4,
   "id": "c0d5a279-80e7-4eb2-9b25-4f480b317ea1",
   "metadata": {},
   "outputs": [
    {
     "data": {
      "text/plain": [
       "['cheese']"
      ]
     },
     "execution_count": 4,
     "metadata": {},
     "output_type": "execute_result"
    }
   ],
   "source": [
    "snake.stomach"
   ]
  },
  {
   "cell_type": "code",
   "execution_count": 5,
   "id": "6dab7cdb-a74f-41a3-81dc-a19d244aeea8",
   "metadata": {},
   "outputs": [
    {
     "data": {
      "text/plain": [
       "'cheese'"
      ]
     },
     "execution_count": 5,
     "metadata": {},
     "output_type": "execute_result"
    }
   ],
   "source": [
    "snake[0]"
   ]
  },
  {
   "cell_type": "code",
   "execution_count": 6,
   "id": "904c6598-2e2f-4f85-9d19-65f667e52e5c",
   "metadata": {},
   "outputs": [],
   "source": [
    "snake('tapioca')"
   ]
  },
  {
   "cell_type": "code",
   "execution_count": 7,
   "id": "ae716adb-f390-42d0-8e1d-986d1e33efe9",
   "metadata": {},
   "outputs": [
    {
     "data": {
      "text/plain": [
       "['cheese', 'tapioca']"
      ]
     },
     "execution_count": 7,
     "metadata": {},
     "output_type": "execute_result"
    }
   ],
   "source": [
    "snake.stomach"
   ]
  },
  {
   "cell_type": "code",
   "execution_count": 8,
   "id": "460c7e83-bdfa-4165-8c32-b6fc7ece6e98",
   "metadata": {},
   "outputs": [
    {
     "data": {
      "text/plain": [
       "['cheese', 'tapioca']"
      ]
     },
     "execution_count": 8,
     "metadata": {},
     "output_type": "execute_result"
    }
   ],
   "source": [
    "snake[slice(None,None)]"
   ]
  },
  {
   "cell_type": "markdown",
   "id": "b7221adb-30d0-4627-b91b-7a307093ab1a",
   "metadata": {},
   "source": [
    "# Sudoku Project\n"
   ]
  },
  {
   "cell_type": "code",
   "execution_count": 1,
   "id": "e857e540-c319-4e62-93f0-68852c9a1449",
   "metadata": {},
   "outputs": [],
   "source": [
    "import sudoku"
   ]
  },
  {
   "cell_type": "code",
   "execution_count": 2,
   "id": "15f43796-3ae0-4ea4-a494-c13a727fe09a",
   "metadata": {},
   "outputs": [
    {
     "name": "stdout",
     "output_type": "stream",
     "text": [
      "Solved; Time: 40.80050563812256\n"
     ]
    },
    {
     "data": {
      "text/plain": [
       "array([[9, 6, 2, 1, 3, 4, 8, 5, 7],\n",
       "       [5, 7, 4, 2, 8, 6, 1, 3, 9],\n",
       "       [1, 8, 3, 5, 7, 9, 2, 4, 6],\n",
       "       [3, 1, 5, 9, 4, 2, 6, 7, 8],\n",
       "       [2, 4, 7, 8, 6, 1, 3, 9, 5],\n",
       "       [6, 9, 8, 3, 5, 7, 4, 2, 1],\n",
       "       [4, 2, 6, 7, 9, 8, 5, 1, 3],\n",
       "       [7, 3, 1, 6, 2, 5, 9, 8, 4],\n",
       "       [8, 5, 9, 4, 1, 3, 7, 6, 2]])"
      ]
     },
     "execution_count": 2,
     "metadata": {},
     "output_type": "execute_result"
    }
   ],
   "source": [
    "sudoku.generate()"
   ]
  },
  {
   "cell_type": "code",
   "execution_count": 11,
   "id": "fa458f79-1339-4cb6-90c4-997a27f419de",
   "metadata": {},
   "outputs": [
    {
     "name": "stdout",
     "output_type": "stream",
     "text": [
      "Solved; Time: 7.95373797416687\n"
     ]
    }
   ],
   "source": [
    "B = sudoku.generate()"
   ]
  },
  {
   "cell_type": "code",
   "execution_count": 12,
   "id": "3a43814f-a1c6-4b9a-a7ad-ed0f9dc2fdba",
   "metadata": {},
   "outputs": [
    {
     "data": {
      "text/plain": [
       "array([[4, 1, 3, 5, 2, 6, 7, 9, 8],\n",
       "       [9, 5, 7, 3, 1, 8, 6, 2, 4],\n",
       "       [6, 2, 8, 4, 7, 9, 3, 1, 5],\n",
       "       [1, 4, 5, 2, 8, 3, 9, 7, 6],\n",
       "       [2, 3, 6, 9, 5, 7, 8, 4, 1],\n",
       "       [7, 8, 9, 1, 6, 4, 5, 3, 2],\n",
       "       [5, 6, 1, 7, 9, 2, 4, 8, 3],\n",
       "       [3, 7, 2, 8, 4, 5, 1, 6, 9],\n",
       "       [8, 9, 4, 6, 3, 1, 2, 5, 7]])"
      ]
     },
     "execution_count": 12,
     "metadata": {},
     "output_type": "execute_result"
    }
   ],
   "source": [
    "B"
   ]
  },
  {
   "cell_type": "code",
   "execution_count": 13,
   "id": "67434d64-402f-4b56-b36a-d537e2a75781",
   "metadata": {},
   "outputs": [
    {
     "name": "stdout",
     "output_type": "stream",
     "text": [
      "[45 45 45 45 45 45 45 45 45]\n",
      "[45 45 45 45 45 45 45 45 45]\n",
      "[45, 45, 45, 45, 45, 45, 45, 45, 45]\n"
     ]
    }
   ],
   "source": [
    "sudoku.verify(B)"
   ]
  }
 ],
 "metadata": {
  "kernelspec": {
   "display_name": "Python 3 (ipykernel)",
   "language": "python",
   "name": "python3"
  },
  "language_info": {
   "codemirror_mode": {
    "name": "ipython",
    "version": 3
   },
   "file_extension": ".py",
   "mimetype": "text/x-python",
   "name": "python",
   "nbconvert_exporter": "python",
   "pygments_lexer": "ipython3",
   "version": "3.9.13"
  }
 },
 "nbformat": 4,
 "nbformat_minor": 5
}
