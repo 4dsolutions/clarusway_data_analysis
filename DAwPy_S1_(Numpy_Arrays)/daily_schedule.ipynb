{
 "cells": [
  {
   "cell_type": "markdown",
   "id": "9f10e3ae-e13b-4f6c-baf1-19a71dee25c0",
   "metadata": {
    "tags": []
   },
   "source": [
    "## In the Rear View Mirror\n",
    "\n",
    "What have we seen already?\n",
    "\n",
    "####  Session 1:  numpy arrays\n",
    "\n",
    "The numpy package depends on Python, and introduces a new star of the show:  the numpy array, or nd-array."
   ]
  },
  {
   "cell_type": "code",
   "execution_count": 1,
   "id": "e5edabfe-c300-46e8-a995-2a36c1b9111e",
   "metadata": {},
   "outputs": [
    {
     "data": {
      "text/plain": [
       "array([[1, 2, 3],\n",
       "       [4, 5, 6],\n",
       "       [7, 8, 9]])"
      ]
     },
     "execution_count": 1,
     "metadata": {},
     "output_type": "execute_result"
    }
   ],
   "source": [
    "import numpy as np\n",
    "\n",
    "new_star = np.array(list(\"123456789\"), dtype=int).reshape(3,3)\n",
    "new_star"
   ]
  },
  {
   "cell_type": "markdown",
   "id": "7047ac00-7e48-493e-a666-22b5d5cfe870",
   "metadata": {},
   "source": [
    "####  Session 2:  numpy array powers\n",
    "\n",
    "Array based computing removes a lot of the looping syntax, making concise expressions the new reality."
   ]
  },
  {
   "cell_type": "code",
   "execution_count": 2,
   "id": "a179c946-1e6f-4864-96d6-283aa8eddeb3",
   "metadata": {},
   "outputs": [
    {
     "data": {
      "text/plain": [
       "array([1, 3, 5, 7, 9])"
      ]
     },
     "execution_count": 2,
     "metadata": {},
     "output_type": "execute_result"
    }
   ],
   "source": [
    "a = np.arange(1, 10, 2)\n",
    "a"
   ]
  },
  {
   "cell_type": "code",
   "execution_count": 3,
   "id": "6738629a-5535-4660-ae1c-b955b9634df7",
   "metadata": {},
   "outputs": [
    {
     "data": {
      "text/plain": [
       "array([1., 3., 5., 7., 9.])"
      ]
     },
     "execution_count": 3,
     "metadata": {},
     "output_type": "execute_result"
    }
   ],
   "source": [
    "b = np.linspace(1, 9, 5)\n",
    "b"
   ]
  },
  {
   "cell_type": "code",
   "execution_count": 4,
   "id": "14abb5eb-4868-48eb-8cbb-cbca8c8cda33",
   "metadata": {},
   "outputs": [
    {
     "data": {
      "text/plain": [
       "array([ 2.,  6., 10., 14., 18.])"
      ]
     },
     "execution_count": 4,
     "metadata": {},
     "output_type": "execute_result"
    }
   ],
   "source": [
    "c = a + b\n",
    "c"
   ]
  },
  {
   "cell_type": "markdown",
   "id": "6337c628-4043-40c2-a27c-be59a11c730d",
   "metadata": {},
   "source": [
    "####  Session 3:  pandas Series\n",
    "\n",
    "The pd.Series \"wraps\" or \"includes\" a single dimensional numpy array, which one may extract using the .to_list method."
   ]
  },
  {
   "cell_type": "code",
   "execution_count": 5,
   "id": "9bd9d158-90be-44c2-a997-c1c974695f57",
   "metadata": {},
   "outputs": [
    {
     "data": {
      "text/plain": [
       "0     2.0\n",
       "1     6.0\n",
       "2    10.0\n",
       "3    14.0\n",
       "4    18.0\n",
       "dtype: float64"
      ]
     },
     "execution_count": 5,
     "metadata": {},
     "output_type": "execute_result"
    }
   ],
   "source": [
    "import pandas as pd\n",
    "\n",
    "c_p = pd.Series(c)\n",
    "c_p"
   ]
  },
  {
   "cell_type": "code",
   "execution_count": 6,
   "id": "5d3fd9c3-32c7-4e3e-b589-89d6f474cf0f",
   "metadata": {},
   "outputs": [
    {
     "data": {
      "text/plain": [
       "array([ 2.,  6., 10., 14., 18.])"
      ]
     },
     "execution_count": 6,
     "metadata": {},
     "output_type": "execute_result"
    }
   ],
   "source": [
    "c_p.to_numpy()"
   ]
  },
  {
   "cell_type": "markdown",
   "id": "3660a111-14e2-48f0-afd7-9a7e0506a52d",
   "metadata": {},
   "source": [
    "####  Session 4:  pandas DataFrame\n",
    "\n",
    "We have many ways to initialize a pandas DataFrame, getting us a \"cityscape\" of side-by-side Series (columnar objects, each with its own data type)."
   ]
  },
  {
   "cell_type": "code",
   "execution_count": 7,
   "id": "9fb2a7d8-68eb-4542-8456-4070b3d293de",
   "metadata": {},
   "outputs": [
    {
     "data": {
      "text/html": [
       "<div>\n",
       "<style scoped>\n",
       "    .dataframe tbody tr th:only-of-type {\n",
       "        vertical-align: middle;\n",
       "    }\n",
       "\n",
       "    .dataframe tbody tr th {\n",
       "        vertical-align: top;\n",
       "    }\n",
       "\n",
       "    .dataframe thead th {\n",
       "        text-align: right;\n",
       "    }\n",
       "</style>\n",
       "<table border=\"1\" class=\"dataframe\">\n",
       "  <thead>\n",
       "    <tr style=\"text-align: right;\">\n",
       "      <th></th>\n",
       "      <th>Col_A</th>\n",
       "      <th>Col_B</th>\n",
       "      <th>Col_C</th>\n",
       "    </tr>\n",
       "  </thead>\n",
       "  <tbody>\n",
       "    <tr>\n",
       "      <th>mercury</th>\n",
       "      <td>1</td>\n",
       "      <td>1.0</td>\n",
       "      <td>23</td>\n",
       "    </tr>\n",
       "    <tr>\n",
       "      <th>mars</th>\n",
       "      <td>3</td>\n",
       "      <td>3.0</td>\n",
       "      <td>26</td>\n",
       "    </tr>\n",
       "    <tr>\n",
       "      <th>earth</th>\n",
       "      <td>5</td>\n",
       "      <td>5.0</td>\n",
       "      <td>11</td>\n",
       "    </tr>\n",
       "    <tr>\n",
       "      <th>neptune</th>\n",
       "      <td>7</td>\n",
       "      <td>7.0</td>\n",
       "      <td>14</td>\n",
       "    </tr>\n",
       "    <tr>\n",
       "      <th>saturn</th>\n",
       "      <td>9</td>\n",
       "      <td>9.0</td>\n",
       "      <td>14</td>\n",
       "    </tr>\n",
       "  </tbody>\n",
       "</table>\n",
       "</div>"
      ],
      "text/plain": [
       "         Col_A  Col_B  Col_C\n",
       "mercury      1    1.0     23\n",
       "mars         3    3.0     26\n",
       "earth        5    5.0     11\n",
       "neptune      7    7.0     14\n",
       "saturn       9    9.0     14"
      ]
     },
     "execution_count": 7,
     "metadata": {},
     "output_type": "execute_result"
    }
   ],
   "source": [
    "rng = np.random.RandomState(0)\n",
    "df = pd.DataFrame({\"Col_A\":a, \n",
    "                   \"Col_B\":b,\n",
    "                   \"Col_C\":rng.randint(11, 30, 5)},\n",
    "                   index = ['mercury', 'mars', 'earth', \n",
    "                            'neptune', 'saturn'])\n",
    "df"
   ]
  },
  {
   "cell_type": "markdown",
   "id": "2d5278d1-2034-4ba4-b74b-ccd29d971a2f",
   "metadata": {},
   "source": [
    "#### Session 5:  DF powers (groupby, agg, filter, lambda, regex)\n",
    "\n",
    "With groupby, we're able to:  split, chunk, combine (aggregate)."
   ]
  },
  {
   "cell_type": "code",
   "execution_count": 8,
   "id": "05d1e749-4bec-42de-beba-ff8dddceca46",
   "metadata": {},
   "outputs": [
    {
     "data": {
      "text/html": [
       "<div>\n",
       "<style scoped>\n",
       "    .dataframe tbody tr th:only-of-type {\n",
       "        vertical-align: middle;\n",
       "    }\n",
       "\n",
       "    .dataframe tbody tr th {\n",
       "        vertical-align: top;\n",
       "    }\n",
       "\n",
       "    .dataframe thead th {\n",
       "        text-align: right;\n",
       "    }\n",
       "</style>\n",
       "<table border=\"1\" class=\"dataframe\">\n",
       "  <thead>\n",
       "    <tr style=\"text-align: right;\">\n",
       "      <th></th>\n",
       "      <th>Col_A</th>\n",
       "    </tr>\n",
       "  </thead>\n",
       "  <tbody>\n",
       "    <tr>\n",
       "      <th>far</th>\n",
       "      <td>2</td>\n",
       "    </tr>\n",
       "    <tr>\n",
       "      <th>near</th>\n",
       "      <td>3</td>\n",
       "    </tr>\n",
       "  </tbody>\n",
       "</table>\n",
       "</div>"
      ],
      "text/plain": [
       "      Col_A\n",
       "far       2\n",
       "near      3"
      ]
     },
     "execution_count": 8,
     "metadata": {},
     "output_type": "execute_result"
    }
   ],
   "source": [
    "system = df.groupby([\"near\", \"near\", \"near\", \"far\", \"far\"])\n",
    "system[['Col_A']].agg('count')"
   ]
  },
  {
   "cell_type": "markdown",
   "id": "5f5f3e8a-e8a4-4b08-9f7b-5d679a075576",
   "metadata": {},
   "source": [
    "####  Session 6:  more DF ops (apply, transform, pivot, stack)\n",
    "\n",
    "With hierarchical indexing, we have the freedom swap columns for rows, potentially bringing about new insights into the data.\n",
    "\n",
    "[Check It Out!](https://nbviewer.org/github/4dsolutions/clarusway_data_analysis/blob/main/DAwPy_S5_6_%28Groupby_and_Useful_Operations%29/Advanced.ipynb) (what our class work really looks like)"
   ]
  },
  {
   "cell_type": "markdown",
   "id": "d0a9e208-f879-4cb9-937f-d35ce0fa2fc8",
   "metadata": {},
   "source": [
    "####  Session 7:  NaNs and Nones\n",
    "\n",
    "These may be fine as is, but oft times we see them as problematic in the data.  We have cleaning tools."
   ]
  },
  {
   "cell_type": "code",
   "execution_count": 9,
   "id": "0f8fc2f1-0aa0-4e53-a68c-b036761456e9",
   "metadata": {},
   "outputs": [
    {
     "data": {
      "text/plain": [
       "False"
      ]
     },
     "execution_count": 9,
     "metadata": {},
     "output_type": "execute_result"
    }
   ],
   "source": [
    "type(np.NaN) == type(None)  # nope!"
   ]
  },
  {
   "cell_type": "markdown",
   "id": "1aaf80ca-3661-41b3-9add-b448d012e3fb",
   "metadata": {},
   "source": [
    "####  Session 8:  Outliers"
   ]
  },
  {
   "cell_type": "markdown",
   "id": "88b2c4e7-c881-4e4d-bc1d-0de7aa9d715c",
   "metadata": {},
   "source": [
    "####  Session 9:  Combining DFs"
   ]
  },
  {
   "cell_type": "markdown",
   "id": "93f2a1f1-860f-438b-b326-eafa2f511de7",
   "metadata": {},
   "source": [
    "####  Session 10:  Text and Time"
   ]
  },
  {
   "cell_type": "markdown",
   "id": "0dad44fe-4210-49f7-a806-98cd0368a649",
   "metadata": {},
   "source": [
    "####  Session 11:  RegEx and I/O"
   ]
  },
  {
   "cell_type": "markdown",
   "id": "4656b0cc-7dd0-4ec4-9aaa-9c4310a7bd25",
   "metadata": {},
   "source": [
    "####  Session 12:  Recap"
   ]
  },
  {
   "cell_type": "markdown",
   "id": "50efa356-891a-4612-a39d-23255e78e8d1",
   "metadata": {},
   "source": [
    "## Our Daily Schedule\n",
    "\n",
    "Substitute the start time in your timezone.  \n",
    "\n",
    "Make a pandas program using the np.datetime type?  Think about it.\n",
    "\n",
    "* The first lesson is between => 10.00 - 10.45 \n",
    "* 10-minute break between => 10.45 - 10.55\n",
    "* The second lesson is between => 10.55 - 11.40 \n",
    "* 10-minute break between => 11.40 - 11.50 \n",
    "* The third lesson is between => 11.50 - 12.35 \n",
    "* 10-minute break between => 12.35 - 12.45\n",
    "* The fourth (last) lesson is between => 12.45 - 13.30 \n",
    "\n",
    "Where are the files:\n",
    "\n",
    "The Notebooks we used [were here](https://github.com/4dsolutions/clarusway_data_analysis).  Feel free to clone locally and pull down updates such as these may be pushed up to the repo."
   ]
  },
  {
   "cell_type": "markdown",
   "id": "55ac3d13-30fc-4ae0-959b-c47d8080e4fa",
   "metadata": {},
   "source": [
    "## Let's Look at Git\n",
    "\n",
    "<a data-flickr-embed=\"true\" href=\"https://www.flickr.com/photos/kirbyurner/52567606601/in/dateposted-public/\" title=\"Screen Shot 2022-12-16 at 12.44.11 PM\"><img src=\"https://live.staticflickr.com/65535/52567606601_22a034eb5f_z.jpg\" width=\"640\" height=\"215\" alt=\"Screen Shot 2022-12-16 at 12.44.11 PM\"></a><script async src=\"//embedr.flickr.com/assets/client-code.js\" charset=\"utf-8\"></script>\n",
    "\n",
    "The instructor updates these notebooks(s) locally (localhost), then adds (stages) the notebook(s) for uploading, then commits them and pushes them.  These are Git actions."
   ]
  },
  {
   "cell_type": "markdown",
   "id": "d6eb3446-7b45-4556-ba92-cde37f041ae7",
   "metadata": {},
   "source": [
    "## Topics in Python...\n",
    "\n",
    "The rest of this Notebook is devoted to topics we took up in class."
   ]
  },
  {
   "cell_type": "code",
   "execution_count": 10,
   "id": "085063d0-a5a1-474c-ab53-3001b23783c1",
   "metadata": {},
   "outputs": [],
   "source": [
    "class Python:\n",
    "\n",
    "    def __repr__(self):           # <-- __rib__\n",
    "        return f'Python named {self.name}'\n",
    "    \n",
    "    def __init__(self, nm):\n",
    "        \"\"\"birth method\"\"\"\n",
    "        self.name = nm\n",
    "        self.stomach = [ ]\n",
    "        \n",
    "    def eat(self, food):\n",
    "        self.stomach.append(food)\n",
    "        \n",
    "    def __call__(self, food):     # <-- __rib__\n",
    "        self.eat(food)\n",
    "        \n",
    "    def __getitem__(self, idx):   # <-- __rib__\n",
    "        print(type(idx))\n",
    "        return self.stomach[idx]"
   ]
  },
  {
   "cell_type": "code",
   "execution_count": 11,
   "id": "e09871d1-31c0-4acc-8ddb-730b90451b5d",
   "metadata": {},
   "outputs": [
    {
     "data": {
      "text/plain": [
       "Python named Monty"
      ]
     },
     "execution_count": 11,
     "metadata": {},
     "output_type": "execute_result"
    }
   ],
   "source": [
    "snake = Python(\"Monty\")\n",
    "snake"
   ]
  },
  {
   "cell_type": "code",
   "execution_count": 12,
   "id": "e52f6b13-6879-4b07-9c1b-0669dc9d1df8",
   "metadata": {},
   "outputs": [
    {
     "data": {
      "text/plain": [
       "Python named Jerry"
      ]
     },
     "execution_count": 12,
     "metadata": {},
     "output_type": "execute_result"
    }
   ],
   "source": [
    "snake2 = Python(\"Jerry\")\n",
    "snake2"
   ]
  },
  {
   "cell_type": "code",
   "execution_count": 13,
   "id": "e4d2ce2c-1326-49a9-9717-2f67737b3e3b",
   "metadata": {},
   "outputs": [
    {
     "data": {
      "text/plain": [
       "'Monty'"
      ]
     },
     "execution_count": 13,
     "metadata": {},
     "output_type": "execute_result"
    }
   ],
   "source": [
    "snake.name"
   ]
  },
  {
   "cell_type": "code",
   "execution_count": 14,
   "id": "91d6daed-9d30-4ecd-b9b0-489dea307af8",
   "metadata": {},
   "outputs": [
    {
     "data": {
      "text/plain": [
       "{'name': 'Jerry', 'stomach': []}"
      ]
     },
     "execution_count": 14,
     "metadata": {},
     "output_type": "execute_result"
    }
   ],
   "source": [
    "snake2.__dict__"
   ]
  },
  {
   "cell_type": "code",
   "execution_count": 15,
   "id": "6658ec42-651e-46b6-9246-dfaa58e7a44f",
   "metadata": {},
   "outputs": [
    {
     "data": {
      "text/plain": [
       "{'name': 'Monty', 'stomach': []}"
      ]
     },
     "execution_count": 15,
     "metadata": {},
     "output_type": "execute_result"
    }
   ],
   "source": [
    "snake.__dict__"
   ]
  },
  {
   "cell_type": "code",
   "execution_count": 16,
   "id": "207bf46e-0370-4b42-be47-f0f94d7c71ff",
   "metadata": {},
   "outputs": [],
   "source": [
    "snake.eat(\"cheese\")"
   ]
  },
  {
   "cell_type": "code",
   "execution_count": 17,
   "id": "c0d5a279-80e7-4eb2-9b25-4f480b317ea1",
   "metadata": {},
   "outputs": [
    {
     "data": {
      "text/plain": [
       "['cheese']"
      ]
     },
     "execution_count": 17,
     "metadata": {},
     "output_type": "execute_result"
    }
   ],
   "source": [
    "snake.stomach"
   ]
  },
  {
   "cell_type": "code",
   "execution_count": 18,
   "id": "6dab7cdb-a74f-41a3-81dc-a19d244aeea8",
   "metadata": {},
   "outputs": [
    {
     "name": "stdout",
     "output_type": "stream",
     "text": [
      "<class 'int'>\n"
     ]
    },
    {
     "data": {
      "text/plain": [
       "'cheese'"
      ]
     },
     "execution_count": 18,
     "metadata": {},
     "output_type": "execute_result"
    }
   ],
   "source": [
    "snake[0]"
   ]
  },
  {
   "cell_type": "code",
   "execution_count": 19,
   "id": "904c6598-2e2f-4f85-9d19-65f667e52e5c",
   "metadata": {},
   "outputs": [],
   "source": [
    "snake('tapioca')"
   ]
  },
  {
   "cell_type": "code",
   "execution_count": 20,
   "id": "ae716adb-f390-42d0-8e1d-986d1e33efe9",
   "metadata": {},
   "outputs": [
    {
     "data": {
      "text/plain": [
       "['cheese', 'tapioca']"
      ]
     },
     "execution_count": 20,
     "metadata": {},
     "output_type": "execute_result"
    }
   ],
   "source": [
    "snake.stomach"
   ]
  },
  {
   "cell_type": "code",
   "execution_count": 21,
   "id": "460c7e83-bdfa-4165-8c32-b6fc7ece6e98",
   "metadata": {},
   "outputs": [
    {
     "name": "stdout",
     "output_type": "stream",
     "text": [
      "<class 'slice'>\n"
     ]
    },
    {
     "data": {
      "text/plain": [
       "['cheese', 'tapioca']"
      ]
     },
     "execution_count": 21,
     "metadata": {},
     "output_type": "execute_result"
    }
   ],
   "source": [
    "snake[slice(None,None)]"
   ]
  },
  {
   "cell_type": "code",
   "execution_count": 22,
   "id": "c9b7e305-0bd3-4f62-bbe0-8cc944d803b9",
   "metadata": {},
   "outputs": [],
   "source": [
    "Python.eat(snake, \"cake\")"
   ]
  },
  {
   "cell_type": "code",
   "execution_count": 23,
   "id": "bbc5998d-7343-403d-bb9b-982398452c96",
   "metadata": {},
   "outputs": [
    {
     "data": {
      "text/plain": [
       "['cheese', 'tapioca', 'cake']"
      ]
     },
     "execution_count": 23,
     "metadata": {},
     "output_type": "execute_result"
    }
   ],
   "source": [
    "snake.stomach"
   ]
  },
  {
   "cell_type": "code",
   "execution_count": 24,
   "id": "38fe470c-2930-4b27-a442-8de61af69ae3",
   "metadata": {},
   "outputs": [
    {
     "data": {
      "text/plain": [
       "[]"
      ]
     },
     "execution_count": 24,
     "metadata": {},
     "output_type": "execute_result"
    }
   ],
   "source": [
    "snake2.stomach"
   ]
  },
  {
   "cell_type": "code",
   "execution_count": 25,
   "id": "401bb16b-2e2e-4fd7-a98a-a08c9188443d",
   "metadata": {},
   "outputs": [
    {
     "data": {
      "text/plain": [
       "'HELLO, WORLD'"
      ]
     },
     "execution_count": 25,
     "metadata": {},
     "output_type": "execute_result"
    }
   ],
   "source": [
    "s = \"hello, world\"\n",
    "str.upper(s)"
   ]
  },
  {
   "cell_type": "code",
   "execution_count": 26,
   "id": "3e974838-c727-449b-a1ad-200a9b8fe068",
   "metadata": {},
   "outputs": [
    {
     "data": {
      "text/plain": [
       "'HELLO, WORLD'"
      ]
     },
     "execution_count": 26,
     "metadata": {},
     "output_type": "execute_result"
    }
   ],
   "source": [
    "s.upper()"
   ]
  },
  {
   "cell_type": "code",
   "execution_count": 27,
   "id": "6236a6af-9e3b-4472-b2c6-69f90f0665d9",
   "metadata": {},
   "outputs": [
    {
     "data": {
      "text/plain": [
       "'Python named Monty'"
      ]
     },
     "execution_count": 27,
     "metadata": {},
     "output_type": "execute_result"
    }
   ],
   "source": [
    "repr(snake)"
   ]
  },
  {
   "cell_type": "code",
   "execution_count": 28,
   "id": "1be3f0b0-e2d2-4538-9f7f-e605249516f1",
   "metadata": {},
   "outputs": [
    {
     "data": {
      "text/plain": [
       "'Python named Jerry'"
      ]
     },
     "execution_count": 28,
     "metadata": {},
     "output_type": "execute_result"
    }
   ],
   "source": [
    "snake2.__repr__()"
   ]
  },
  {
   "cell_type": "markdown",
   "id": "b7221adb-30d0-4627-b91b-7a307093ab1a",
   "metadata": {},
   "source": [
    "# Sudoku Project\n"
   ]
  },
  {
   "cell_type": "code",
   "execution_count": 29,
   "id": "e857e540-c319-4e62-93f0-68852c9a1449",
   "metadata": {},
   "outputs": [],
   "source": [
    "import sudoku"
   ]
  },
  {
   "cell_type": "code",
   "execution_count": 30,
   "id": "15f43796-3ae0-4ea4-a494-c13a727fe09a",
   "metadata": {},
   "outputs": [
    {
     "name": "stdout",
     "output_type": "stream",
     "text": [
      "Complete; Time: 2.431652784347534\n"
     ]
    },
    {
     "data": {
      "text/plain": [
       "array([[9, 5, 8, 7, 2, 1, 6, 4, 3],\n",
       "       [4, 6, 2, 9, 8, 3, 7, 5, 1],\n",
       "       [1, 7, 3, 5, 6, 4, 2, 8, 9],\n",
       "       [7, 8, 5, 3, 1, 6, 4, 9, 2],\n",
       "       [6, 3, 4, 2, 9, 5, 1, 7, 8],\n",
       "       [2, 9, 1, 8, 4, 7, 3, 6, 5],\n",
       "       [8, 4, 9, 1, 7, 2, 5, 3, 6],\n",
       "       [5, 1, 7, 6, 3, 8, 9, 2, 4],\n",
       "       [3, 2, 6, 4, 5, 9, 8, 1, 7]])"
      ]
     },
     "execution_count": 30,
     "metadata": {},
     "output_type": "execute_result"
    }
   ],
   "source": [
    "sudoku.generate()"
   ]
  },
  {
   "cell_type": "code",
   "execution_count": 31,
   "id": "fa458f79-1339-4cb6-90c4-997a27f419de",
   "metadata": {},
   "outputs": [
    {
     "name": "stdout",
     "output_type": "stream",
     "text": [
      "Complete; Time: 2.887970209121704\n"
     ]
    }
   ],
   "source": [
    "B = sudoku.generate()"
   ]
  },
  {
   "cell_type": "code",
   "execution_count": 32,
   "id": "3a43814f-a1c6-4b9a-a7ad-ed0f9dc2fdba",
   "metadata": {},
   "outputs": [
    {
     "data": {
      "text/plain": [
       "array([[8, 3, 9, 2, 4, 6, 1, 5, 7],\n",
       "       [6, 7, 1, 8, 3, 5, 2, 4, 9],\n",
       "       [4, 5, 2, 7, 1, 9, 8, 6, 3],\n",
       "       [5, 2, 6, 3, 9, 1, 7, 8, 4],\n",
       "       [1, 4, 8, 6, 5, 7, 9, 3, 2],\n",
       "       [3, 9, 7, 4, 8, 2, 6, 1, 5],\n",
       "       [7, 8, 3, 9, 6, 4, 5, 2, 1],\n",
       "       [2, 6, 5, 1, 7, 3, 4, 9, 8],\n",
       "       [9, 1, 4, 5, 2, 8, 3, 7, 6]])"
      ]
     },
     "execution_count": 32,
     "metadata": {},
     "output_type": "execute_result"
    }
   ],
   "source": [
    "B"
   ]
  },
  {
   "cell_type": "code",
   "execution_count": 33,
   "id": "67434d64-402f-4b56-b36a-d537e2a75781",
   "metadata": {},
   "outputs": [
    {
     "name": "stdout",
     "output_type": "stream",
     "text": [
      "[45 45 45 45 45 45 45 45 45]\n",
      "[45 45 45 45 45 45 45 45 45]\n",
      "[45, 45, 45, 45, 45, 45, 45, 45, 45]\n"
     ]
    }
   ],
   "source": [
    "sudoku.verify(B)"
   ]
  },
  {
   "cell_type": "code",
   "execution_count": 34,
   "id": "8ce72b15-ef29-4ca5-9a11-509d813cb2a6",
   "metadata": {},
   "outputs": [
    {
     "data": {
      "text/plain": [
       "'1.0'"
      ]
     },
     "execution_count": 34,
     "metadata": {},
     "output_type": "execute_result"
    }
   ],
   "source": [
    "str(1.000000000000000)"
   ]
  },
  {
   "cell_type": "code",
   "execution_count": 35,
   "id": "453a1dae-7692-4dd1-b794-1791a01228c6",
   "metadata": {},
   "outputs": [
    {
     "data": {
      "text/plain": [
       "5"
      ]
     },
     "execution_count": 35,
     "metadata": {},
     "output_type": "execute_result"
    }
   ],
   "source": [
    "len(str(1.1230000000))"
   ]
  },
  {
   "cell_type": "code",
   "execution_count": 36,
   "id": "3e8c2fa3-b9d5-4c1c-89e9-f5d2f67cc26c",
   "metadata": {},
   "outputs": [
    {
     "data": {
      "text/plain": [
       "nan"
      ]
     },
     "execution_count": 36,
     "metadata": {},
     "output_type": "execute_result"
    }
   ],
   "source": [
    "import numpy as np\n",
    "np.NaN"
   ]
  },
  {
   "cell_type": "code",
   "execution_count": 37,
   "id": "b6bd1984-2ffe-44e9-9635-e7aa939c6635",
   "metadata": {},
   "outputs": [
    {
     "data": {
      "text/plain": [
       "'nan'"
      ]
     },
     "execution_count": 37,
     "metadata": {},
     "output_type": "execute_result"
    }
   ],
   "source": [
    "str(np.NaN)"
   ]
  }
 ],
 "metadata": {
  "kernelspec": {
   "display_name": "Python 3 (ipykernel)",
   "language": "python",
   "name": "python3"
  },
  "language_info": {
   "codemirror_mode": {
    "name": "ipython",
    "version": 3
   },
   "file_extension": ".py",
   "mimetype": "text/x-python",
   "name": "python",
   "nbconvert_exporter": "python",
   "pygments_lexer": "ipython3",
   "version": "3.9.15"
  }
 },
 "nbformat": 4,
 "nbformat_minor": 5
}
