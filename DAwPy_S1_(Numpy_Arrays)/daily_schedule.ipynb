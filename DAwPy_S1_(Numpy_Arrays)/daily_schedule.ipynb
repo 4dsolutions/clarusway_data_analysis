{
 "cells": [
  {
   "cell_type": "markdown",
   "id": "cb1d33f8-67da-4d9f-b2f7-7dc94725cdf5",
   "metadata": {},
   "source": [
    "# Exercise:  \n",
    "\n",
    "### Change Times to Your Timezone\n",
    "\n",
    "* The first lesson is between => 10.00 - 10.45 \n",
    "* 10-minute break between => 10.45 - 10.55\n",
    "* The second lesson is between => 10.55 - 11.40 \n",
    "* 10-minute break between => 11.40 - 11.50 \n",
    "* The third lesson is between => 11.50 - 12.35 \n",
    "* 10-minute break between => 12.35 - 12.45\n",
    "* The fourth (last) lesson is between => 12.45 - 13.30 "
   ]
  },
  {
   "cell_type": "markdown",
   "id": "d6eb3446-7b45-4556-ba92-cde37f041ae7",
   "metadata": {},
   "source": [
    "# SEE YOU AT 15 MINUTES TO TOP OF THE HOUR."
   ]
  },
  {
   "cell_type": "code",
   "execution_count": 10,
   "id": "085063d0-a5a1-474c-ab53-3001b23783c1",
   "metadata": {},
   "outputs": [],
   "source": [
    "class Python:\n",
    "    \n",
    "    def __init__(self, nm):\n",
    "        \"\"\"birth method\"\"\"\n",
    "        self.name = nm\n",
    "        self.stomach = [ ]\n",
    "        \n",
    "    def eat(self, food):\n",
    "        self.stomach.append(food)\n",
    "        \n",
    "    def __call__(self, food):     # <-- __rib__\n",
    "        self.eat(food)\n",
    "        \n",
    "    def __getitem__(self, idx):   # <-- __rib__\n",
    "        return self.stomach[idx]\n",
    "    \n",
    "    def __repr__(self):           # <-- __rib__\n",
    "        return f'Python named {self.name}'"
   ]
  },
  {
   "cell_type": "code",
   "execution_count": 11,
   "id": "e09871d1-31c0-4acc-8ddb-730b90451b5d",
   "metadata": {},
   "outputs": [
    {
     "data": {
      "text/plain": [
       "Python named Monty"
      ]
     },
     "execution_count": 11,
     "metadata": {},
     "output_type": "execute_result"
    }
   ],
   "source": [
    "snake = Python(\"Monty\")\n",
    "snake"
   ]
  },
  {
   "cell_type": "code",
   "execution_count": 12,
   "id": "207bf46e-0370-4b42-be47-f0f94d7c71ff",
   "metadata": {},
   "outputs": [],
   "source": [
    "snake.eat(\"cheese\")"
   ]
  },
  {
   "cell_type": "code",
   "execution_count": 13,
   "id": "c0d5a279-80e7-4eb2-9b25-4f480b317ea1",
   "metadata": {},
   "outputs": [
    {
     "data": {
      "text/plain": [
       "['cheese']"
      ]
     },
     "execution_count": 13,
     "metadata": {},
     "output_type": "execute_result"
    }
   ],
   "source": [
    "snake.stomach"
   ]
  },
  {
   "cell_type": "code",
   "execution_count": 14,
   "id": "6dab7cdb-a74f-41a3-81dc-a19d244aeea8",
   "metadata": {},
   "outputs": [
    {
     "data": {
      "text/plain": [
       "'cheese'"
      ]
     },
     "execution_count": 14,
     "metadata": {},
     "output_type": "execute_result"
    }
   ],
   "source": [
    "snake[0]"
   ]
  },
  {
   "cell_type": "code",
   "execution_count": 6,
   "id": "904c6598-2e2f-4f85-9d19-65f667e52e5c",
   "metadata": {},
   "outputs": [],
   "source": [
    "snake('tapioca')"
   ]
  },
  {
   "cell_type": "code",
   "execution_count": 7,
   "id": "ae716adb-f390-42d0-8e1d-986d1e33efe9",
   "metadata": {},
   "outputs": [
    {
     "data": {
      "text/plain": [
       "['cheese', 'tapioca']"
      ]
     },
     "execution_count": 7,
     "metadata": {},
     "output_type": "execute_result"
    }
   ],
   "source": [
    "snake.stomach"
   ]
  },
  {
   "cell_type": "code",
   "execution_count": 8,
   "id": "460c7e83-bdfa-4165-8c32-b6fc7ece6e98",
   "metadata": {},
   "outputs": [
    {
     "data": {
      "text/plain": [
       "['cheese', 'tapioca']"
      ]
     },
     "execution_count": 8,
     "metadata": {},
     "output_type": "execute_result"
    }
   ],
   "source": [
    "snake[slice(None,None)]"
   ]
  },
  {
   "cell_type": "code",
   "execution_count": null,
   "id": "7b9c7915-c3a0-4ab7-823f-8216c3138c8f",
   "metadata": {},
   "outputs": [],
   "source": []
  }
 ],
 "metadata": {
  "kernelspec": {
   "display_name": "Python 3 (ipykernel)",
   "language": "python",
   "name": "python3"
  },
  "language_info": {
   "codemirror_mode": {
    "name": "ipython",
    "version": 3
   },
   "file_extension": ".py",
   "mimetype": "text/x-python",
   "name": "python",
   "nbconvert_exporter": "python",
   "pygments_lexer": "ipython3",
   "version": "3.9.15"
  }
 },
 "nbformat": 4,
 "nbformat_minor": 5
}
