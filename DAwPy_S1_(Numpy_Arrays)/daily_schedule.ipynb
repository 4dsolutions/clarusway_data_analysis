{
 "cells": [
  {
   "cell_type": "markdown",
   "id": "a1a10f50-ac18-4421-bfd6-393f24abc397",
   "metadata": {},
   "source": [
    "<a href=\"https://colab.research.google.com/github/4dsolutions/clarusway_data_analysis/blob/main/DAwPy_S1_(Numpy_Arrays)/daily_schedule.ipynb\"><img align=\"left\" src=\"https://colab.research.google.com/assets/colab-badge.svg\" alt=\"Open in Colab\" title=\"Open and Execute in Google Colaboratory\"></a><br/>\n",
    "[![nbviewer](https://raw.githubusercontent.com/jupyter/design/master/logos/Badges/nbviewer_badge.svg)](https://nbviewer.org/github/4dsolutions/clarusway_data_analysis/blob/main/DAwPy_S1_%28Numpy_Arrays%29/daily_schedule.ipynb)\n",
    "\n",
    "___"
   ]
  },
  {
   "cell_type": "markdown",
   "id": "3d4fcd75-5688-490f-991c-f5e8b7c7e71c",
   "metadata": {
    "tags": []
   },
   "source": [
    "# Data Analysis with Python\n",
    "\n",
    "<a data-flickr-embed=\"true\" href=\"https://www.flickr.com/photos/kirbyurner/52563704012/in/album-72177720296706479/\" title=\"LMS Dashboard\"><img src=\"https://live.staticflickr.com/65535/52563704012_71ef4beb8a_b.jpg\" width=\"1024\" height=\"354\" alt=\"LMS Dashboard\"></a><script async src=\"//embedr.flickr.com/assets/client-code.js\" charset=\"utf-8\"></script>"
   ]
  },
  {
   "cell_type": "markdown",
   "id": "9fbb76c5-cb37-41bf-8de9-3452cbb2144a",
   "metadata": {},
   "source": [
    "## Sessions on Github\n",
    "\n",
    "* [Subfolder on Github](https://github.com/4dsolutions/clarusway_data_analysis)\n",
    "* [This Notebook on Github](https://github.com/4dsolutions/clarusway_data_analysis/blob/main/DAwPy_S1_(Numpy_Arrays)/daily_schedule.ipynb)\n",
    "\n",
    "These curriculum materials are under active development so you may want to 'git clone' the repo locally, and occassionally `git pull` the updates.  \n",
    "\n",
    "You may also grab the repository as a single `zip` file, through the Github GUI."
   ]
  },
  {
   "cell_type": "markdown",
   "id": "ce811caa-3c50-444c-b268-ca627b292846",
   "metadata": {},
   "source": [
    "## Other Relevant Resources\n",
    "\n",
    "LMS:\n",
    "* [Clarusway LMS](https://lms.clarusway.com/)\n",
    "<br />*Log in and find your course home page.*\n",
    "\n",
    "Instructor Albums:\n",
    "* [Clarusway Album](https://flic.kr/s/aHBqjzCs82)\n",
    "* [Intro to Python](https://flic.kr/s/aHsknZHG75)\n",
    "* [Python for Data Science](https://flic.kr/s/aHsmfpMPL3)\n",
    "\n",
    "In Class Tools:\n",
    "\n",
    "* [Slack](https://slack.com/)\n",
    "* [PearDeck](https://joinpd.com)\n",
    "\n",
    "Sandboxes:\n",
    "* [Regex 101](https://regex101.com/)\n",
    "* [Codepen.io](https://codepen.io/)\n",
    "* [Replit](https://replit.com/~)\n",
    "* [Flask Demo](http://thekirbster.pythonanywhere.com/)\n",
    "\n",
    "Tip:  Keep curating your own bookmarks, in your browser, in SQL, in Notebooks.  Good practice.  Valuable content.  See **Bookmarks Project** below."
   ]
  },
  {
   "cell_type": "markdown",
   "id": "50efa356-891a-4612-a39d-23255e78e8d1",
   "metadata": {},
   "source": [
    "## Our Daily Schedule\n",
    "\n",
    "Substitute the start time in your timezone. [World Clock](https://www.timeanddate.com/worldclock/).\n",
    "\n",
    "<a data-flickr-embed=\"true\" href=\"https://www.flickr.com/photos/kirbyurner/52748129764/in/datetaken/\" title=\"dymaxion_timezones\"><img src=\"https://live.staticflickr.com/65535/52748129764_80f772ef03.jpg\" width=\"500\" height=\"333\" alt=\"dymaxion_timezones\"/></a><script async src=\"//embedr.flickr.com/assets/client-code.js\" charset=\"utf-8\"></script><br />\n",
    "World Map showing Timezones\n",
    "\n",
    "Make a pandas DataFrame using the np.datetime type?  Think about it.\n",
    "\n",
    "* [Pacific Daylight Time](https://www.timeanddate.com/time/zones/pdt) UTC -7 \n",
    "* [Central European Time](https://www.timeanddate.com/time/zones/cet) UTC + 1\n",
    "* [Türkiye Time](https://www.timeanddate.com/worldclock/turkey/istanbul) UTC + 3\n",
    "\n",
    "Session segments:\n",
    "\n",
    "* The first segment is between => 11.00 - 11.45 \n",
    "* 10-minute break between => 11.45 - 11.55\n",
    "* The second lesson is between => 11.55 - 12.40 \n",
    "* 10-minute break between => 12.40 - 12.50 \n",
    "* The third lesson is between => 12.50 - 1.35 \n",
    "* 10-minute break between => 1.35 - 1.45\n",
    "* The fourth (last) lesson is between => 1.45 - 2.30 \n"
   ]
  },
  {
   "cell_type": "markdown",
   "id": "f06609d2-d454-41c3-bb2e-3db2550b4383",
   "metadata": {},
   "source": [
    "## Python Warmup Notebooks\n",
    "\n",
    "How familiar are you with Python?  \n",
    "\n",
    "We have some additional Notebooks to help bring you up to speed on this popular and important language.\n",
    "\n",
    "*  [Introduction to Python](https://github.com/4dsolutions/clarusway_data_analysis/blob/main/python_warm_up/warmup_python_intro.ipynb)\n",
    "*  [3rd Party Libraries](https://github.com/4dsolutions/clarusway_data_analysis/blob/main/python_warm_up/warmup_3rd_party_datascience.ipynb)\n",
    "*  [Object Types](https://github.com/4dsolutions/clarusway_data_analysis/blob/main/python_warm_up/warmup_data_structures.ipynb)\n",
    "*  [Object Oriented Paradigm](https://github.com/4dsolutions/clarusway_data_analysis/blob/main/python_warm_up/warmup_object_oriented.ipynb)\n",
    "*  [Calling Callables and Type Checking](warmup_callables.ipynb)\n",
    "*  [Class and Static Methods, Properties](https://github.com/4dsolutions/clarusway_data_analysis/blob/main/python_warm_up/warmup_object_oriented2.ipynb)\n",
    "*  [SQLite3 and Context Managers](https://github.com/4dsolutions/clarusway_data_analysis/blob/main/python_warm_up/warmup_object_sql.ipynb)\n",
    "*  [Iterators and Generators](https://github.com/4dsolutions/clarusway_data_analysis/blob/main/python_warm_up/warmup_generators.ipynb)"
   ]
  },
  {
   "cell_type": "markdown",
   "id": "b7b7ec2c-a3bb-42c0-8648-beadaf747cfc",
   "metadata": {
    "tags": []
   },
   "source": [
    "## Brief Overview\n",
    "\n",
    "A session-by-session overview of the core content.\n",
    "\n",
    "####  Session 1:  numpy arrays\n",
    "\n",
    "The numpy package depends on Python, and introduces a new star of the show:  the numpy array, or nd-array."
   ]
  },
  {
   "cell_type": "code",
   "execution_count": 1,
   "id": "e5edabfe-c300-46e8-a995-2a36c1b9111e",
   "metadata": {},
   "outputs": [
    {
     "data": {
      "text/plain": [
       "array([[1, 2, 3],\n",
       "       [4, 5, 6],\n",
       "       [7, 8, 9]])"
      ]
     },
     "execution_count": 1,
     "metadata": {},
     "output_type": "execute_result"
    }
   ],
   "source": [
    "import numpy as np\n",
    "\n",
    "new_star = np.array(list(\"123456789\"), dtype=int).reshape(3,3)\n",
    "new_star"
   ]
  },
  {
   "cell_type": "markdown",
   "id": "7047ac00-7e48-493e-a666-22b5d5cfe870",
   "metadata": {},
   "source": [
    "####  Session 2:  working with numpy arrays \n",
    "\n",
    "Array based computing removes a lot of the looping syntax, making concise expressions the new reality."
   ]
  },
  {
   "cell_type": "code",
   "execution_count": 2,
   "id": "a179c946-1e6f-4864-96d6-283aa8eddeb3",
   "metadata": {},
   "outputs": [
    {
     "data": {
      "text/plain": [
       "array([1, 3, 5, 7, 9])"
      ]
     },
     "execution_count": 2,
     "metadata": {},
     "output_type": "execute_result"
    }
   ],
   "source": [
    "a = np.arange(1, 10, 2)\n",
    "a"
   ]
  },
  {
   "cell_type": "code",
   "execution_count": 3,
   "id": "6738629a-5535-4660-ae1c-b955b9634df7",
   "metadata": {},
   "outputs": [
    {
     "data": {
      "text/plain": [
       "array([1., 3., 5., 7., 9.])"
      ]
     },
     "execution_count": 3,
     "metadata": {},
     "output_type": "execute_result"
    }
   ],
   "source": [
    "b = np.linspace(1, 9, 5)\n",
    "b"
   ]
  },
  {
   "cell_type": "code",
   "execution_count": 4,
   "id": "14abb5eb-4868-48eb-8cbb-cbca8c8cda33",
   "metadata": {},
   "outputs": [
    {
     "data": {
      "text/plain": [
       "array([ 2.,  6., 10., 14., 18.])"
      ]
     },
     "execution_count": 4,
     "metadata": {},
     "output_type": "execute_result"
    }
   ],
   "source": [
    "c = a + b\n",
    "c"
   ]
  },
  {
   "cell_type": "markdown",
   "id": "6337c628-4043-40c2-a27c-be59a11c730d",
   "metadata": {},
   "source": [
    "####  Session 3:  the pandas.Series\n",
    "\n",
    "The pd.Series \"wraps\" or \"includes\" a single dimensional numpy array, which one may extract using the .to_list method."
   ]
  },
  {
   "cell_type": "code",
   "execution_count": 5,
   "id": "9bd9d158-90be-44c2-a997-c1c974695f57",
   "metadata": {},
   "outputs": [
    {
     "data": {
      "text/plain": [
       "0     2.0\n",
       "1     6.0\n",
       "2    10.0\n",
       "3    14.0\n",
       "4    18.0\n",
       "dtype: float64"
      ]
     },
     "execution_count": 5,
     "metadata": {},
     "output_type": "execute_result"
    }
   ],
   "source": [
    "import pandas as pd\n",
    "\n",
    "c_p = pd.Series(c)\n",
    "c_p"
   ]
  },
  {
   "cell_type": "code",
   "execution_count": 6,
   "id": "5d3fd9c3-32c7-4e3e-b589-89d6f474cf0f",
   "metadata": {},
   "outputs": [
    {
     "data": {
      "text/plain": [
       "array([ 2.,  6., 10., 14., 18.])"
      ]
     },
     "execution_count": 6,
     "metadata": {},
     "output_type": "execute_result"
    }
   ],
   "source": [
    "c_p.to_numpy()"
   ]
  },
  {
   "cell_type": "markdown",
   "id": "3660a111-14e2-48f0-afd7-9a7e0506a52d",
   "metadata": {},
   "source": [
    "####  Session 4:  the pandas.DataFrame (DF)\n",
    "\n",
    "We have many ways to initialize a pandas DataFrame, getting us a \"cityscape\" of side-by-side Series (columnar objects, each with its own data type)."
   ]
  },
  {
   "cell_type": "code",
   "execution_count": 7,
   "id": "9fb2a7d8-68eb-4542-8456-4070b3d293de",
   "metadata": {},
   "outputs": [
    {
     "data": {
      "text/html": [
       "<div>\n",
       "<style scoped>\n",
       "    .dataframe tbody tr th:only-of-type {\n",
       "        vertical-align: middle;\n",
       "    }\n",
       "\n",
       "    .dataframe tbody tr th {\n",
       "        vertical-align: top;\n",
       "    }\n",
       "\n",
       "    .dataframe thead th {\n",
       "        text-align: right;\n",
       "    }\n",
       "</style>\n",
       "<table border=\"1\" class=\"dataframe\">\n",
       "  <thead>\n",
       "    <tr style=\"text-align: right;\">\n",
       "      <th></th>\n",
       "      <th>Col_A</th>\n",
       "      <th>Col_B</th>\n",
       "      <th>Col_C</th>\n",
       "    </tr>\n",
       "  </thead>\n",
       "  <tbody>\n",
       "    <tr>\n",
       "      <th>mercury</th>\n",
       "      <td>1</td>\n",
       "      <td>1.0</td>\n",
       "      <td>23</td>\n",
       "    </tr>\n",
       "    <tr>\n",
       "      <th>mars</th>\n",
       "      <td>3</td>\n",
       "      <td>3.0</td>\n",
       "      <td>26</td>\n",
       "    </tr>\n",
       "    <tr>\n",
       "      <th>earth</th>\n",
       "      <td>5</td>\n",
       "      <td>5.0</td>\n",
       "      <td>11</td>\n",
       "    </tr>\n",
       "    <tr>\n",
       "      <th>neptune</th>\n",
       "      <td>7</td>\n",
       "      <td>7.0</td>\n",
       "      <td>14</td>\n",
       "    </tr>\n",
       "    <tr>\n",
       "      <th>saturn</th>\n",
       "      <td>9</td>\n",
       "      <td>9.0</td>\n",
       "      <td>14</td>\n",
       "    </tr>\n",
       "  </tbody>\n",
       "</table>\n",
       "</div>"
      ],
      "text/plain": [
       "         Col_A  Col_B  Col_C\n",
       "mercury      1    1.0     23\n",
       "mars         3    3.0     26\n",
       "earth        5    5.0     11\n",
       "neptune      7    7.0     14\n",
       "saturn       9    9.0     14"
      ]
     },
     "execution_count": 7,
     "metadata": {},
     "output_type": "execute_result"
    }
   ],
   "source": [
    "rng = np.random.RandomState(0)\n",
    "df = pd.DataFrame({\"Col_A\":a, \n",
    "                   \"Col_B\":b,\n",
    "                   \"Col_C\":rng.randint(11, 30, 5)},\n",
    "                   index = ['mercury', 'mars', 'earth', \n",
    "                            'neptune', 'saturn'])\n",
    "df"
   ]
  },
  {
   "cell_type": "markdown",
   "id": "d55ec154-9073-4f90-b9eb-31826669d4a5",
   "metadata": {},
   "source": [
    "Multi-Index (screen shot): \n",
    "\n",
    "<a data-flickr-embed=\"true\" href=\"https://www.flickr.com/photos/kirbyurner/51208780413/\" title=\"DataFrame in pandas\"><img src=\"https://live.staticflickr.com/65535/51208780413_1b868e14e3.jpg\" width=\"358\" height=\"500\" alt=\"DataFrame in pandas\"></a><script async src=\"//embedr.flickr.com/assets/client-code.js\" charset=\"utf-8\"></script>"
   ]
  },
  {
   "cell_type": "markdown",
   "id": "2d5278d1-2034-4ba4-b74b-ccd29d971a2f",
   "metadata": {},
   "source": [
    "#### Session 5:  DF superpowers (groupby, agg, filter, lambda, regex)\n",
    "\n",
    "With groupby, we're able to:  split, chunk, combine (aggregate)."
   ]
  },
  {
   "cell_type": "code",
   "execution_count": 8,
   "id": "05d1e749-4bec-42de-beba-ff8dddceca46",
   "metadata": {},
   "outputs": [
    {
     "data": {
      "text/html": [
       "<div>\n",
       "<style scoped>\n",
       "    .dataframe tbody tr th:only-of-type {\n",
       "        vertical-align: middle;\n",
       "    }\n",
       "\n",
       "    .dataframe tbody tr th {\n",
       "        vertical-align: top;\n",
       "    }\n",
       "\n",
       "    .dataframe thead th {\n",
       "        text-align: right;\n",
       "    }\n",
       "</style>\n",
       "<table border=\"1\" class=\"dataframe\">\n",
       "  <thead>\n",
       "    <tr style=\"text-align: right;\">\n",
       "      <th></th>\n",
       "      <th>Col_A</th>\n",
       "    </tr>\n",
       "  </thead>\n",
       "  <tbody>\n",
       "    <tr>\n",
       "      <th>far</th>\n",
       "      <td>2</td>\n",
       "    </tr>\n",
       "    <tr>\n",
       "      <th>near</th>\n",
       "      <td>3</td>\n",
       "    </tr>\n",
       "  </tbody>\n",
       "</table>\n",
       "</div>"
      ],
      "text/plain": [
       "      Col_A\n",
       "far       2\n",
       "near      3"
      ]
     },
     "execution_count": 8,
     "metadata": {},
     "output_type": "execute_result"
    }
   ],
   "source": [
    "system = df.groupby([\"near\", \"near\", \"near\", \"far\", \"far\"])\n",
    "system[['Col_A']].agg('count')"
   ]
  },
  {
   "cell_type": "markdown",
   "id": "5f5f3e8a-e8a4-4b08-9f7b-5d679a075576",
   "metadata": {},
   "source": [
    "####  Session 6:  more DF ops (apply, transform, pivot, stack)\n",
    "\n",
    "With hierarchical indexing, we have the freedom swap columns for rows, potentially bringing about new insights into the data.\n",
    "\n",
    "[Check It Out!](https://nbviewer.org/github/4dsolutions/clarusway_data_analysis/blob/main/DAwPy_S5_6_%28Groupby_and_Useful_Operations%29/Advanced.ipynb) (what our class work really looks like)"
   ]
  },
  {
   "cell_type": "markdown",
   "id": "d0a9e208-f879-4cb9-937f-d35ce0fa2fc8",
   "metadata": {},
   "source": [
    "####  Session 7:  NaNs and Nones\n",
    "\n",
    "These may be fine as is, but oft times we see them as problematic in the data.  We have cleaning tools."
   ]
  },
  {
   "cell_type": "code",
   "execution_count": 9,
   "id": "0f8fc2f1-0aa0-4e53-a68c-b036761456e9",
   "metadata": {},
   "outputs": [
    {
     "data": {
      "text/plain": [
       "False"
      ]
     },
     "execution_count": 9,
     "metadata": {},
     "output_type": "execute_result"
    }
   ],
   "source": [
    "type(np.NaN) == type(None)  # nope!"
   ]
  },
  {
   "cell_type": "markdown",
   "id": "1aaf80ca-3661-41b3-9add-b448d012e3fb",
   "metadata": {},
   "source": [
    "####  Session 8:  Outliers"
   ]
  },
  {
   "cell_type": "code",
   "execution_count": 63,
   "id": "c661a660-1a46-4ab1-bc8d-14e7ca1203de",
   "metadata": {},
   "outputs": [
    {
     "data": {
      "image/png": "[encoded data removed]",
      "text/plain": [
       "<Figure size 700x300 with 1 Axes>"
      ]
     },
     "metadata": {},
     "output_type": "display_data"
    }
   ],
   "source": [
    "import seaborn as sns\n",
    "import matplotlib.pyplot as plt\n",
    "\n",
    "df = sns.load_dataset('diamonds')\n",
    "plt.figure(figsize = (7, 3))\n",
    "sns.boxplot(x = df['table']);"
   ]
  },
  {
   "cell_type": "markdown",
   "id": "88b2c4e7-c881-4e4d-bc1d-0de7aa9d715c",
   "metadata": {},
   "source": [
    "####  Session 9:  Combining DFs"
   ]
  },
  {
   "cell_type": "code",
   "execution_count": 11,
   "id": "b272274f-80b6-4128-87ef-363f2d95cfff",
   "metadata": {},
   "outputs": [],
   "source": [
    "df1 = pd.DataFrame(dict(A=[1,2,3], B=[4,5,6]), index=['a','b','c'])\n",
    "df2 = pd.DataFrame(dict(A=[1,2,3], C=[4,5,6]), index=['d','e','f'])"
   ]
  },
  {
   "cell_type": "code",
   "execution_count": 12,
   "id": "dfdc3eb7-0dbc-440d-b6ea-465871ff1bed",
   "metadata": {},
   "outputs": [
    {
     "data": {
      "text/html": [
       "<div>\n",
       "<style scoped>\n",
       "    .dataframe tbody tr th:only-of-type {\n",
       "        vertical-align: middle;\n",
       "    }\n",
       "\n",
       "    .dataframe tbody tr th {\n",
       "        vertical-align: top;\n",
       "    }\n",
       "\n",
       "    .dataframe thead th {\n",
       "        text-align: right;\n",
       "    }\n",
       "</style>\n",
       "<table border=\"1\" class=\"dataframe\">\n",
       "  <thead>\n",
       "    <tr style=\"text-align: right;\">\n",
       "      <th></th>\n",
       "      <th>A</th>\n",
       "      <th>B</th>\n",
       "    </tr>\n",
       "  </thead>\n",
       "  <tbody>\n",
       "    <tr>\n",
       "      <th>a</th>\n",
       "      <td>1</td>\n",
       "      <td>4</td>\n",
       "    </tr>\n",
       "    <tr>\n",
       "      <th>b</th>\n",
       "      <td>2</td>\n",
       "      <td>5</td>\n",
       "    </tr>\n",
       "    <tr>\n",
       "      <th>c</th>\n",
       "      <td>3</td>\n",
       "      <td>6</td>\n",
       "    </tr>\n",
       "  </tbody>\n",
       "</table>\n",
       "</div>"
      ],
      "text/plain": [
       "   A  B\n",
       "a  1  4\n",
       "b  2  5\n",
       "c  3  6"
      ]
     },
     "execution_count": 12,
     "metadata": {},
     "output_type": "execute_result"
    }
   ],
   "source": [
    "df1"
   ]
  },
  {
   "cell_type": "code",
   "execution_count": 13,
   "id": "a3b7bbfe-c309-4628-b633-a397fc2e4543",
   "metadata": {},
   "outputs": [
    {
     "data": {
      "text/html": [
       "<div>\n",
       "<style scoped>\n",
       "    .dataframe tbody tr th:only-of-type {\n",
       "        vertical-align: middle;\n",
       "    }\n",
       "\n",
       "    .dataframe tbody tr th {\n",
       "        vertical-align: top;\n",
       "    }\n",
       "\n",
       "    .dataframe thead th {\n",
       "        text-align: right;\n",
       "    }\n",
       "</style>\n",
       "<table border=\"1\" class=\"dataframe\">\n",
       "  <thead>\n",
       "    <tr style=\"text-align: right;\">\n",
       "      <th></th>\n",
       "      <th>A</th>\n",
       "      <th>C</th>\n",
       "    </tr>\n",
       "  </thead>\n",
       "  <tbody>\n",
       "    <tr>\n",
       "      <th>d</th>\n",
       "      <td>1</td>\n",
       "      <td>4</td>\n",
       "    </tr>\n",
       "    <tr>\n",
       "      <th>e</th>\n",
       "      <td>2</td>\n",
       "      <td>5</td>\n",
       "    </tr>\n",
       "    <tr>\n",
       "      <th>f</th>\n",
       "      <td>3</td>\n",
       "      <td>6</td>\n",
       "    </tr>\n",
       "  </tbody>\n",
       "</table>\n",
       "</div>"
      ],
      "text/plain": [
       "   A  C\n",
       "d  1  4\n",
       "e  2  5\n",
       "f  3  6"
      ]
     },
     "execution_count": 13,
     "metadata": {},
     "output_type": "execute_result"
    }
   ],
   "source": [
    "df2"
   ]
  },
  {
   "cell_type": "code",
   "execution_count": 14,
   "id": "dab8d902-7ec1-485d-be96-ade118721e18",
   "metadata": {},
   "outputs": [
    {
     "data": {
      "text/html": [
       "<div>\n",
       "<style scoped>\n",
       "    .dataframe tbody tr th:only-of-type {\n",
       "        vertical-align: middle;\n",
       "    }\n",
       "\n",
       "    .dataframe tbody tr th {\n",
       "        vertical-align: top;\n",
       "    }\n",
       "\n",
       "    .dataframe thead th {\n",
       "        text-align: right;\n",
       "    }\n",
       "</style>\n",
       "<table border=\"1\" class=\"dataframe\">\n",
       "  <thead>\n",
       "    <tr style=\"text-align: right;\">\n",
       "      <th></th>\n",
       "      <th>A_df1</th>\n",
       "      <th>B</th>\n",
       "      <th>A_df2</th>\n",
       "      <th>C</th>\n",
       "    </tr>\n",
       "  </thead>\n",
       "  <tbody>\n",
       "    <tr>\n",
       "      <th>0</th>\n",
       "      <td>1</td>\n",
       "      <td>4</td>\n",
       "      <td>1</td>\n",
       "      <td>4</td>\n",
       "    </tr>\n",
       "    <tr>\n",
       "      <th>1</th>\n",
       "      <td>2</td>\n",
       "      <td>5</td>\n",
       "      <td>2</td>\n",
       "      <td>5</td>\n",
       "    </tr>\n",
       "    <tr>\n",
       "      <th>2</th>\n",
       "      <td>3</td>\n",
       "      <td>6</td>\n",
       "      <td>3</td>\n",
       "      <td>6</td>\n",
       "    </tr>\n",
       "  </tbody>\n",
       "</table>\n",
       "</div>"
      ],
      "text/plain": [
       "   A_df1  B  A_df2  C\n",
       "0      1  4      1  4\n",
       "1      2  5      2  5\n",
       "2      3  6      3  6"
      ]
     },
     "execution_count": 14,
     "metadata": {},
     "output_type": "execute_result"
    }
   ],
   "source": [
    "df1.merge(df2, left_on='B', right_on='C', how='outer', suffixes = ['_df1', '_df2'])"
   ]
  },
  {
   "cell_type": "markdown",
   "id": "93f2a1f1-860f-438b-b326-eafa2f511de7",
   "metadata": {},
   "source": [
    "####  Session 10:  Working with Text and Time"
   ]
  },
  {
   "cell_type": "code",
   "execution_count": 15,
   "id": "3185c40b-fa2b-4ea1-93bf-92cf00b50085",
   "metadata": {},
   "outputs": [
    {
     "data": {
      "text/plain": [
       "numpy.datetime64"
      ]
     },
     "execution_count": 15,
     "metadata": {},
     "output_type": "execute_result"
    }
   ],
   "source": [
    "np.datetime64"
   ]
  },
  {
   "cell_type": "markdown",
   "id": "0dad44fe-4210-49f7-a806-98cd0368a649",
   "metadata": {},
   "source": [
    "####  Session 11:  Regexes and I/O"
   ]
  },
  {
   "cell_type": "code",
   "execution_count": 16,
   "id": "ef36fc0d-48d1-451b-af4a-333426b72158",
   "metadata": {},
   "outputs": [],
   "source": [
    "import re"
   ]
  },
  {
   "cell_type": "code",
   "execution_count": 17,
   "id": "d6139935-96fb-4501-821b-5cbb64ff9889",
   "metadata": {},
   "outputs": [],
   "source": [
    "from IPython.display import YouTubeVideo"
   ]
  },
  {
   "cell_type": "code",
   "execution_count": 18,
   "id": "535390bc-673b-44fd-baac-b82c8a221356",
   "metadata": {},
   "outputs": [
    {
     "data": {
      "image/jpeg": "[encoded data removed]",
      "text/html": [
       "\n",
       "        <iframe\n",
       "            width=\"400\"\n",
       "            height=\"300\"\n",
       "            src=\"https://www.youtube.com/embed/nxjwB8up2gI\"\n",
       "            frameborder=\"0\"\n",
       "            allowfullscreen\n",
       "            \n",
       "        ></iframe>\n",
       "        "
      ],
      "text/plain": [
       "<IPython.lib.display.YouTubeVideo at 0x7fe852cd7c40>"
      ]
     },
     "execution_count": 18,
     "metadata": {},
     "output_type": "execute_result"
    }
   ],
   "source": [
    "YouTubeVideo(\"nxjwB8up2gI\")"
   ]
  },
  {
   "cell_type": "markdown",
   "id": "4656b0cc-7dd0-4ec4-9aaa-9c4310a7bd25",
   "metadata": {},
   "source": [
    "####  Session 12:  Recap"
   ]
  },
  {
   "cell_type": "code",
   "execution_count": 19,
   "id": "3beeb8c9-0bc6-4b37-88d5-2811e9eb1751",
   "metadata": {},
   "outputs": [
    {
     "data": {
      "text/html": [
       "<div>\n",
       "<style scoped>\n",
       "    .dataframe tbody tr th:only-of-type {\n",
       "        vertical-align: middle;\n",
       "    }\n",
       "\n",
       "    .dataframe tbody tr th {\n",
       "        vertical-align: top;\n",
       "    }\n",
       "\n",
       "    .dataframe thead th {\n",
       "        text-align: right;\n",
       "    }\n",
       "</style>\n",
       "<table border=\"1\" class=\"dataframe\">\n",
       "  <thead>\n",
       "    <tr style=\"text-align: right;\">\n",
       "      <th></th>\n",
       "      <th>survived</th>\n",
       "      <th>pclass</th>\n",
       "      <th>sex</th>\n",
       "      <th>age</th>\n",
       "      <th>sibsp</th>\n",
       "      <th>parch</th>\n",
       "      <th>fare</th>\n",
       "      <th>embarked</th>\n",
       "      <th>class</th>\n",
       "      <th>who</th>\n",
       "      <th>adult_male</th>\n",
       "      <th>deck</th>\n",
       "      <th>embark_town</th>\n",
       "      <th>alive</th>\n",
       "      <th>alone</th>\n",
       "    </tr>\n",
       "  </thead>\n",
       "  <tbody>\n",
       "    <tr>\n",
       "      <th>0</th>\n",
       "      <td>0</td>\n",
       "      <td>3</td>\n",
       "      <td>male</td>\n",
       "      <td>22.0</td>\n",
       "      <td>1</td>\n",
       "      <td>0</td>\n",
       "      <td>7.2500</td>\n",
       "      <td>S</td>\n",
       "      <td>Third</td>\n",
       "      <td>man</td>\n",
       "      <td>True</td>\n",
       "      <td>NaN</td>\n",
       "      <td>Southampton</td>\n",
       "      <td>no</td>\n",
       "      <td>False</td>\n",
       "    </tr>\n",
       "    <tr>\n",
       "      <th>1</th>\n",
       "      <td>1</td>\n",
       "      <td>1</td>\n",
       "      <td>female</td>\n",
       "      <td>38.0</td>\n",
       "      <td>1</td>\n",
       "      <td>0</td>\n",
       "      <td>71.2833</td>\n",
       "      <td>C</td>\n",
       "      <td>First</td>\n",
       "      <td>woman</td>\n",
       "      <td>False</td>\n",
       "      <td>C</td>\n",
       "      <td>Cherbourg</td>\n",
       "      <td>yes</td>\n",
       "      <td>False</td>\n",
       "    </tr>\n",
       "    <tr>\n",
       "      <th>2</th>\n",
       "      <td>1</td>\n",
       "      <td>3</td>\n",
       "      <td>female</td>\n",
       "      <td>26.0</td>\n",
       "      <td>0</td>\n",
       "      <td>0</td>\n",
       "      <td>7.9250</td>\n",
       "      <td>S</td>\n",
       "      <td>Third</td>\n",
       "      <td>woman</td>\n",
       "      <td>False</td>\n",
       "      <td>NaN</td>\n",
       "      <td>Southampton</td>\n",
       "      <td>yes</td>\n",
       "      <td>True</td>\n",
       "    </tr>\n",
       "    <tr>\n",
       "      <th>3</th>\n",
       "      <td>1</td>\n",
       "      <td>1</td>\n",
       "      <td>female</td>\n",
       "      <td>35.0</td>\n",
       "      <td>1</td>\n",
       "      <td>0</td>\n",
       "      <td>53.1000</td>\n",
       "      <td>S</td>\n",
       "      <td>First</td>\n",
       "      <td>woman</td>\n",
       "      <td>False</td>\n",
       "      <td>C</td>\n",
       "      <td>Southampton</td>\n",
       "      <td>yes</td>\n",
       "      <td>False</td>\n",
       "    </tr>\n",
       "    <tr>\n",
       "      <th>4</th>\n",
       "      <td>0</td>\n",
       "      <td>3</td>\n",
       "      <td>male</td>\n",
       "      <td>35.0</td>\n",
       "      <td>0</td>\n",
       "      <td>0</td>\n",
       "      <td>8.0500</td>\n",
       "      <td>S</td>\n",
       "      <td>Third</td>\n",
       "      <td>man</td>\n",
       "      <td>True</td>\n",
       "      <td>NaN</td>\n",
       "      <td>Southampton</td>\n",
       "      <td>no</td>\n",
       "      <td>True</td>\n",
       "    </tr>\n",
       "  </tbody>\n",
       "</table>\n",
       "</div>"
      ],
      "text/plain": [
       "   survived  pclass     sex   age  sibsp  parch     fare embarked  class  \\\n",
       "0         0       3    male  22.0      1      0   7.2500        S  Third   \n",
       "1         1       1  female  38.0      1      0  71.2833        C  First   \n",
       "2         1       3  female  26.0      0      0   7.9250        S  Third   \n",
       "3         1       1  female  35.0      1      0  53.1000        S  First   \n",
       "4         0       3    male  35.0      0      0   8.0500        S  Third   \n",
       "\n",
       "     who  adult_male deck  embark_town alive  alone  \n",
       "0    man        True  NaN  Southampton    no  False  \n",
       "1  woman       False    C    Cherbourg   yes  False  \n",
       "2  woman       False  NaN  Southampton   yes   True  \n",
       "3  woman       False    C  Southampton   yes  False  \n",
       "4    man        True  NaN  Southampton    no   True  "
      ]
     },
     "execution_count": 19,
     "metadata": {},
     "output_type": "execute_result"
    }
   ],
   "source": [
    "df = sns.load_dataset('titanic')\n",
    "df.head()"
   ]
  },
  {
   "cell_type": "markdown",
   "id": "9aca12ac-bd71-4eb5-a025-ca01b40fbe25",
   "metadata": {},
   "source": [
    "<hr />"
   ]
  },
  {
   "cell_type": "markdown",
   "id": "55ac3d13-30fc-4ae0-959b-c47d8080e4fa",
   "metadata": {},
   "source": [
    "## Let's Look at Git\n",
    "\n",
    "<a data-flickr-embed=\"true\" href=\"https://www.flickr.com/photos/kirbyurner/52567606601/in/dateposted-public/\" title=\"Screen Shot 2022-12-16 at 12.44.11 PM\"><img src=\"https://live.staticflickr.com/65535/52567606601_22a034eb5f_z.jpg\" width=\"640\" height=\"215\" alt=\"Screen Shot 2022-12-16 at 12.44.11 PM\"></a><script async src=\"//embedr.flickr.com/assets/client-code.js\" charset=\"utf-8\"></script>\n",
    "\n",
    "The instructor updates these notebooks(s) locally (localhost), then adds (stages) the notebook(s) for uploading, then commits them and pushes them.  These are Git actions."
   ]
  },
  {
   "cell_type": "markdown",
   "id": "022d1cbe-2392-4bf3-b7fc-2239ad018efe",
   "metadata": {},
   "source": [
    "<hr />"
   ]
  },
  {
   "cell_type": "markdown",
   "id": "d6eb3446-7b45-4556-ba92-cde37f041ae7",
   "metadata": {},
   "source": [
    "# Topics in Python...\n",
    "\n",
    "The rest of this Notebook is devoted to topics we took up in class."
   ]
  },
  {
   "cell_type": "markdown",
   "id": "da96bd34-e903-4f54-9b74-91af19f2b51f",
   "metadata": {},
   "source": [
    "### Formatting Strings\n",
    "\n",
    "[Main Documentation and tutorial](https://docs.python.org/3/tutorial/inputoutput.html)"
   ]
  },
  {
   "cell_type": "markdown",
   "id": "fc7327cf-cdc8-4112-acff-5db562c1beaa",
   "metadata": {},
   "source": [
    "### Designing Classes"
   ]
  },
  {
   "cell_type": "code",
   "execution_count": 20,
   "id": "085063d0-a5a1-474c-ab53-3001b23783c1",
   "metadata": {},
   "outputs": [],
   "source": [
    "class Python:\n",
    "    \n",
    "    def __init__(self, nm):\n",
    "        \"\"\"birth method\"\"\"\n",
    "        self.name = nm\n",
    "        self.stomach = [ ]\n",
    "        \n",
    "    def eat(self, food):\n",
    "        self.stomach.append(food)\n",
    "        \n",
    "    def __call__(self, food):     # <-- __rib__\n",
    "        self.eat(food)\n",
    "        \n",
    "    def __getitem__(self, idx):   # <-- __rib__\n",
    "        print(type(idx))\n",
    "        return self.stomach[idx]\n",
    "    \n",
    "    def __repr__(self):           # <-- __rib__\n",
    "        return f'Python named {self.name}'"
   ]
  },
  {
   "cell_type": "code",
   "execution_count": 21,
   "id": "e09871d1-31c0-4acc-8ddb-730b90451b5d",
   "metadata": {},
   "outputs": [
    {
     "data": {
      "text/plain": [
       "Python named Monty"
      ]
     },
     "execution_count": 21,
     "metadata": {},
     "output_type": "execute_result"
    }
   ],
   "source": [
    "snake = Python(\"Monty\")\n",
    "snake"
   ]
  },
  {
   "cell_type": "code",
   "execution_count": 22,
   "id": "e52f6b13-6879-4b07-9c1b-0669dc9d1df8",
   "metadata": {},
   "outputs": [
    {
     "data": {
      "text/plain": [
       "Python named Jerry"
      ]
     },
     "execution_count": 22,
     "metadata": {},
     "output_type": "execute_result"
    }
   ],
   "source": [
    "snake2 = Python(\"Jerry\")\n",
    "snake2"
   ]
  },
  {
   "cell_type": "code",
   "execution_count": 23,
   "id": "e4d2ce2c-1326-49a9-9717-2f67737b3e3b",
   "metadata": {},
   "outputs": [
    {
     "data": {
      "text/plain": [
       "'Monty'"
      ]
     },
     "execution_count": 23,
     "metadata": {},
     "output_type": "execute_result"
    }
   ],
   "source": [
    "snake.name"
   ]
  },
  {
   "cell_type": "code",
   "execution_count": 24,
   "id": "91d6daed-9d30-4ecd-b9b0-489dea307af8",
   "metadata": {},
   "outputs": [
    {
     "data": {
      "text/plain": [
       "{'name': 'Jerry', 'stomach': []}"
      ]
     },
     "execution_count": 24,
     "metadata": {},
     "output_type": "execute_result"
    }
   ],
   "source": [
    "snake2.__dict__"
   ]
  },
  {
   "cell_type": "code",
   "execution_count": 25,
   "id": "6658ec42-651e-46b6-9246-dfaa58e7a44f",
   "metadata": {},
   "outputs": [
    {
     "data": {
      "text/plain": [
       "{'name': 'Monty', 'stomach': []}"
      ]
     },
     "execution_count": 25,
     "metadata": {},
     "output_type": "execute_result"
    }
   ],
   "source": [
    "snake.__dict__"
   ]
  },
  {
   "cell_type": "code",
   "execution_count": 26,
   "id": "207bf46e-0370-4b42-be47-f0f94d7c71ff",
   "metadata": {},
   "outputs": [],
   "source": [
    "snake.eat(\"cheese\")"
   ]
  },
  {
   "cell_type": "code",
   "execution_count": 27,
   "id": "c0d5a279-80e7-4eb2-9b25-4f480b317ea1",
   "metadata": {},
   "outputs": [
    {
     "data": {
      "text/plain": [
       "['cheese']"
      ]
     },
     "execution_count": 27,
     "metadata": {},
     "output_type": "execute_result"
    }
   ],
   "source": [
    "snake.stomach"
   ]
  },
  {
   "cell_type": "code",
   "execution_count": 28,
   "id": "6dab7cdb-a74f-41a3-81dc-a19d244aeea8",
   "metadata": {},
   "outputs": [
    {
     "name": "stdout",
     "output_type": "stream",
     "text": [
      "<class 'int'>\n"
     ]
    },
    {
     "data": {
      "text/plain": [
       "'cheese'"
      ]
     },
     "execution_count": 28,
     "metadata": {},
     "output_type": "execute_result"
    }
   ],
   "source": [
    "snake[0]"
   ]
  },
  {
   "cell_type": "code",
   "execution_count": 29,
   "id": "904c6598-2e2f-4f85-9d19-65f667e52e5c",
   "metadata": {},
   "outputs": [],
   "source": [
    "snake('tapioca')"
   ]
  },
  {
   "cell_type": "code",
   "execution_count": 30,
   "id": "ae716adb-f390-42d0-8e1d-986d1e33efe9",
   "metadata": {},
   "outputs": [
    {
     "data": {
      "text/plain": [
       "['cheese', 'tapioca']"
      ]
     },
     "execution_count": 30,
     "metadata": {},
     "output_type": "execute_result"
    }
   ],
   "source": [
    "snake.stomach"
   ]
  },
  {
   "cell_type": "code",
   "execution_count": 31,
   "id": "460c7e83-bdfa-4165-8c32-b6fc7ece6e98",
   "metadata": {},
   "outputs": [
    {
     "name": "stdout",
     "output_type": "stream",
     "text": [
      "<class 'slice'>\n"
     ]
    },
    {
     "data": {
      "text/plain": [
       "['cheese', 'tapioca']"
      ]
     },
     "execution_count": 31,
     "metadata": {},
     "output_type": "execute_result"
    }
   ],
   "source": [
    "snake[slice(None,None)]"
   ]
  },
  {
   "cell_type": "code",
   "execution_count": 32,
   "id": "c9b7e305-0bd3-4f62-bbe0-8cc944d803b9",
   "metadata": {},
   "outputs": [],
   "source": [
    "Python.eat(snake, \"cake\")"
   ]
  },
  {
   "cell_type": "code",
   "execution_count": 33,
   "id": "bbc5998d-7343-403d-bb9b-982398452c96",
   "metadata": {},
   "outputs": [
    {
     "data": {
      "text/plain": [
       "['cheese', 'tapioca', 'cake']"
      ]
     },
     "execution_count": 33,
     "metadata": {},
     "output_type": "execute_result"
    }
   ],
   "source": [
    "snake.stomach"
   ]
  },
  {
   "cell_type": "code",
   "execution_count": 34,
   "id": "38fe470c-2930-4b27-a442-8de61af69ae3",
   "metadata": {},
   "outputs": [
    {
     "data": {
      "text/plain": [
       "[]"
      ]
     },
     "execution_count": 34,
     "metadata": {},
     "output_type": "execute_result"
    }
   ],
   "source": [
    "snake2.stomach"
   ]
  },
  {
   "cell_type": "code",
   "execution_count": 35,
   "id": "401bb16b-2e2e-4fd7-a98a-a08c9188443d",
   "metadata": {},
   "outputs": [
    {
     "data": {
      "text/plain": [
       "'HELLO, WORLD'"
      ]
     },
     "execution_count": 35,
     "metadata": {},
     "output_type": "execute_result"
    }
   ],
   "source": [
    "s = \"hello, world\"\n",
    "str.upper(s)"
   ]
  },
  {
   "cell_type": "code",
   "execution_count": 36,
   "id": "3e974838-c727-449b-a1ad-200a9b8fe068",
   "metadata": {},
   "outputs": [
    {
     "data": {
      "text/plain": [
       "'HELLO, WORLD'"
      ]
     },
     "execution_count": 36,
     "metadata": {},
     "output_type": "execute_result"
    }
   ],
   "source": [
    "s.upper()"
   ]
  },
  {
   "cell_type": "code",
   "execution_count": 37,
   "id": "6236a6af-9e3b-4472-b2c6-69f90f0665d9",
   "metadata": {},
   "outputs": [
    {
     "data": {
      "text/plain": [
       "'Python named Monty'"
      ]
     },
     "execution_count": 37,
     "metadata": {},
     "output_type": "execute_result"
    }
   ],
   "source": [
    "repr(snake)"
   ]
  },
  {
   "cell_type": "code",
   "execution_count": 38,
   "id": "1be3f0b0-e2d2-4538-9f7f-e605249516f1",
   "metadata": {},
   "outputs": [
    {
     "data": {
      "text/plain": [
       "'Python named Jerry'"
      ]
     },
     "execution_count": 38,
     "metadata": {},
     "output_type": "execute_result"
    }
   ],
   "source": [
    "snake2.__repr__()"
   ]
  },
  {
   "cell_type": "markdown",
   "id": "b7221adb-30d0-4627-b91b-7a307093ab1a",
   "metadata": {},
   "source": [
    "### Sudoku Project\n",
    "\n",
    "A puzzle with numbers.  \n",
    "\n",
    "The goal here is to work with numpy in an IDE, writing a longish program, then importing it here in a Notebook."
   ]
  },
  {
   "cell_type": "code",
   "execution_count": 39,
   "id": "e857e540-c319-4e62-93f0-68852c9a1449",
   "metadata": {},
   "outputs": [],
   "source": [
    "import sudoku"
   ]
  },
  {
   "cell_type": "code",
   "execution_count": 40,
   "id": "15f43796-3ae0-4ea4-a494-c13a727fe09a",
   "metadata": {},
   "outputs": [
    {
     "name": "stdout",
     "output_type": "stream",
     "text": [
      "Complete; Time: 0.5098230838775635\n"
     ]
    },
    {
     "data": {
      "text/plain": [
       "array([[2, 7, 3, 5, 9, 8, 4, 6, 1],\n",
       "       [9, 1, 6, 7, 4, 2, 5, 8, 3],\n",
       "       [4, 5, 8, 6, 3, 1, 9, 7, 2],\n",
       "       [7, 9, 2, 1, 5, 3, 6, 4, 8],\n",
       "       [3, 8, 5, 4, 6, 9, 2, 1, 7],\n",
       "       [6, 4, 1, 8, 2, 7, 3, 9, 5],\n",
       "       [8, 6, 4, 3, 1, 5, 7, 2, 9],\n",
       "       [5, 2, 7, 9, 8, 6, 1, 3, 4],\n",
       "       [1, 3, 9, 2, 7, 4, 8, 5, 6]])"
      ]
     },
     "execution_count": 40,
     "metadata": {},
     "output_type": "execute_result"
    }
   ],
   "source": [
    "sudoku.generate()"
   ]
  },
  {
   "cell_type": "code",
   "execution_count": 41,
   "id": "fa458f79-1339-4cb6-90c4-997a27f419de",
   "metadata": {},
   "outputs": [
    {
     "name": "stdout",
     "output_type": "stream",
     "text": [
      "Complete; Time: 0.3389770984649658\n"
     ]
    }
   ],
   "source": [
    "B = sudoku.generate()"
   ]
  },
  {
   "cell_type": "code",
   "execution_count": 42,
   "id": "3a43814f-a1c6-4b9a-a7ad-ed0f9dc2fdba",
   "metadata": {},
   "outputs": [
    {
     "data": {
      "text/plain": [
       "array([[9, 7, 6, 8, 5, 4, 2, 3, 1],\n",
       "       [2, 5, 1, 3, 9, 6, 7, 8, 4],\n",
       "       [3, 8, 4, 2, 7, 1, 6, 9, 5],\n",
       "       [6, 2, 5, 1, 8, 9, 3, 4, 7],\n",
       "       [7, 1, 8, 4, 2, 3, 5, 6, 9],\n",
       "       [4, 3, 9, 5, 6, 7, 1, 2, 8],\n",
       "       [1, 6, 7, 9, 4, 2, 8, 5, 3],\n",
       "       [5, 4, 3, 6, 1, 8, 9, 7, 2],\n",
       "       [8, 9, 2, 7, 3, 5, 4, 1, 6]])"
      ]
     },
     "execution_count": 42,
     "metadata": {},
     "output_type": "execute_result"
    }
   ],
   "source": [
    "B"
   ]
  },
  {
   "cell_type": "code",
   "execution_count": 43,
   "id": "67434d64-402f-4b56-b36a-d537e2a75781",
   "metadata": {},
   "outputs": [
    {
     "name": "stdout",
     "output_type": "stream",
     "text": [
      "[45 45 45 45 45 45 45 45 45]\n",
      "[45 45 45 45 45 45 45 45 45]\n",
      "[45, 45, 45, 45, 45, 45, 45, 45, 45]\n"
     ]
    }
   ],
   "source": [
    "sudoku.verify(B)"
   ]
  },
  {
   "cell_type": "code",
   "execution_count": 44,
   "id": "8ce72b15-ef29-4ca5-9a11-509d813cb2a6",
   "metadata": {},
   "outputs": [
    {
     "data": {
      "text/plain": [
       "'1.0'"
      ]
     },
     "execution_count": 44,
     "metadata": {},
     "output_type": "execute_result"
    }
   ],
   "source": [
    "str(1.000000000000000)"
   ]
  },
  {
   "cell_type": "code",
   "execution_count": 45,
   "id": "453a1dae-7692-4dd1-b794-1791a01228c6",
   "metadata": {},
   "outputs": [
    {
     "data": {
      "text/plain": [
       "5"
      ]
     },
     "execution_count": 45,
     "metadata": {},
     "output_type": "execute_result"
    }
   ],
   "source": [
    "len(str(1.1230000000))"
   ]
  },
  {
   "cell_type": "code",
   "execution_count": 46,
   "id": "3e8c2fa3-b9d5-4c1c-89e9-f5d2f67cc26c",
   "metadata": {},
   "outputs": [
    {
     "data": {
      "text/plain": [
       "nan"
      ]
     },
     "execution_count": 46,
     "metadata": {},
     "output_type": "execute_result"
    }
   ],
   "source": [
    "import numpy as np\n",
    "np.NaN"
   ]
  },
  {
   "cell_type": "code",
   "execution_count": 47,
   "id": "b6bd1984-2ffe-44e9-9635-e7aa939c6635",
   "metadata": {},
   "outputs": [
    {
     "data": {
      "text/plain": [
       "'nan'"
      ]
     },
     "execution_count": 47,
     "metadata": {},
     "output_type": "execute_result"
    }
   ],
   "source": [
    "str(np.NaN)"
   ]
  },
  {
   "cell_type": "markdown",
   "id": "6d2fb0d5-61ae-402b-a733-43144237da62",
   "metadata": {},
   "source": [
    "## Bookmarks Project\n",
    "\n",
    "When casting about for some challenge, that also pays off, think about \"curating bookmarks\", mainly hyperlinks, using SQLite."
   ]
  },
  {
   "cell_type": "code",
   "execution_count": 48,
   "id": "d408d731-cd3a-4f95-a317-dce5ea606a4d",
   "metadata": {},
   "outputs": [],
   "source": [
    "import bookmarks as bk"
   ]
  },
  {
   "cell_type": "code",
   "execution_count": 49,
   "id": "61fd820d-1c04-43a3-b277-58db0d9f5497",
   "metadata": {},
   "outputs": [
    {
     "name": "stdout",
     "output_type": "stream",
     "text": [
      "'New Math' by Tom Lehrer (animated)\n",
      "https://youtu.be/UIKGV2cTgqA\n",
      "[comedy]\n",
      "\n",
      "In Defense of Ada\n",
      "http://www.grunch.net/synergetics/adaessay.html\n",
      "[comedy, history]\n",
      "\n",
      "Warriors of the Net\n",
      "https://www.youtube.com/watch?v=PBWhzz_Gn10\n",
      "[docs, glossary, comedy]\n",
      "\n",
      "Will Geeks Rule? CBS News (world domination meme)\n",
      "http://www.cbsnews.com/news/will-geeks-rule-the-world/\n",
      "[glossary, comedy]\n",
      "\n",
      "World Domination meme\n",
      "https://www.google.com/search?q=linux+world+domination&safe=off&source=lnms&tbm=isch\n",
      "[glossary, comedy, culture]\n",
      "\n",
      "XKCD\n",
      "http://xkcd.com\n",
      "[comedy]\n",
      "\n"
     ]
    }
   ],
   "source": [
    "# try %comedy%  %docs% %tool% and %glossary% too\n",
    "for record in bk.tag_filter(\"%comedy%\"):\n",
    "    print( \"{}\\n{}\\n[{}]\\n\".format(*record))"
   ]
  },
  {
   "cell_type": "code",
   "execution_count": 50,
   "id": "937a0c9f-e125-4c7d-978e-fccbb7b12d07",
   "metadata": {},
   "outputs": [
    {
     "name": "stdout",
     "output_type": "stream",
     "text": [
      "Anaconda.org\n",
      "http://anaconda.org\n",
      "[tool]\n",
      "\n",
      "PythonAnywhere\n",
      "https://www.pythonanywhere.com/\n",
      "[tool]\n",
      "\n",
      "What Python IDE is best?\n",
      "https://www.quora.com/What-is-your-favorite-IDE-for-Python-programming-and-why\n",
      "[tool]\n",
      "\n"
     ]
    }
   ],
   "source": [
    "for record in bk.tag_filter(\"%tool%\"):\n",
    "    print( \"{}\\n{}\\n[{}]\\n\".format(*record))"
   ]
  },
  {
   "cell_type": "markdown",
   "id": "ca3ee4e5-d5ba-4353-bc5e-b4c77a9b79b4",
   "metadata": {},
   "source": [
    "Lets use a different formatted string to show data."
   ]
  },
  {
   "cell_type": "code",
   "execution_count": 51,
   "id": "a9e39512-e02f-44c1-92b5-f3d2883561c7",
   "metadata": {},
   "outputs": [
    {
     "name": "stdout",
     "output_type": "stream",
     "text": [
      "'New Math' by Tom Lehrer (animated)      https://youtu.be/UIKGV2cTgqA\n",
      "---\n",
      "Anaconda.org                             http://anaconda.org \n",
      "---\n",
      "CodeAcademy: Python                      https://www.codecademy.com/learn/python\n",
      "---\n",
      "Django                                   https://docs.djangoproject.com/\n",
      "---\n",
      "Find string in string in SQLite          https://stackoverflow.com/questions/3498844/sqlite-string-contains-other-string-query\n",
      "---\n"
     ]
    }
   ],
   "source": [
    "import sqlite3 as sql\n",
    "\n",
    "conn = sql.connect(\"bookmarks.db\")\n",
    "curs = conn.cursor()\n",
    "curs.execute(\"SELECT * FROM Bookmarks\")\n",
    "for rec in curs.fetchmany(5):\n",
    "    print(\"{:40} {:20}\".format(*rec), end=\"\\n---\\n\")\n",
    "conn.close()"
   ]
  },
  {
   "cell_type": "markdown",
   "id": "c6cd6615-478d-402f-bc67-9dc3df15c3f3",
   "metadata": {},
   "source": [
    "The code below consults the schema table to come back with the SQL CREATE syntax used to define the Bookmarks table in the first place."
   ]
  },
  {
   "cell_type": "code",
   "execution_count": 52,
   "id": "42e1e4c0-0913-4e53-9f28-35c66ff268dd",
   "metadata": {},
   "outputs": [
    {
     "name": "stdout",
     "output_type": "stream",
     "text": [
      "CREATE TABLE \"Bookmarks\" (\n",
      "\"bk_place\" TEXT,\n",
      "  \"bk_url\" TEXT,\n",
      "  \"bk_tags\" TEXT\n",
      ")\n"
     ]
    }
   ],
   "source": [
    "conn = sql.connect(\"bookmarks.db\")\n",
    "curs = conn.cursor()\n",
    "curs.execute(\"\"\"SELECT sql \n",
    "             FROM sqlite_schema \n",
    "             WHERE name = 'Bookmarks'\"\"\")\n",
    "rec = curs.fetchone()\n",
    "conn.close()\n",
    "print(rec[0])"
   ]
  },
  {
   "cell_type": "code",
   "execution_count": 53,
   "id": "f80665ac-1f1f-454f-a2b3-9e476f09d981",
   "metadata": {},
   "outputs": [],
   "source": [
    "# ? pd.read_sql"
   ]
  },
  {
   "cell_type": "markdown",
   "id": "cc284f32-2f36-469e-a3ba-67e858453e13",
   "metadata": {},
   "source": [
    "We can read a Sqlite3 database table directly into a DataFrame.  We may use any database supported by SQLAlchemy."
   ]
  },
  {
   "cell_type": "code",
   "execution_count": 54,
   "id": "f89283cd-16f2-42f5-9f4e-525001d40f3f",
   "metadata": {},
   "outputs": [
    {
     "data": {
      "text/html": [
       "<div>\n",
       "<style scoped>\n",
       "    .dataframe tbody tr th:only-of-type {\n",
       "        vertical-align: middle;\n",
       "    }\n",
       "\n",
       "    .dataframe tbody tr th {\n",
       "        vertical-align: top;\n",
       "    }\n",
       "\n",
       "    .dataframe thead th {\n",
       "        text-align: right;\n",
       "    }\n",
       "</style>\n",
       "<table border=\"1\" class=\"dataframe\">\n",
       "  <thead>\n",
       "    <tr style=\"text-align: right;\">\n",
       "      <th></th>\n",
       "      <th>bk_place</th>\n",
       "      <th>bk_url</th>\n",
       "      <th>bk_tags</th>\n",
       "    </tr>\n",
       "  </thead>\n",
       "  <tbody>\n",
       "    <tr>\n",
       "      <th>0</th>\n",
       "      <td>'New Math' by Tom Lehrer (animated)</td>\n",
       "      <td>https://youtu.be/UIKGV2cTgqA</td>\n",
       "      <td>comedy</td>\n",
       "    </tr>\n",
       "    <tr>\n",
       "      <th>1</th>\n",
       "      <td>Anaconda.org</td>\n",
       "      <td>http://anaconda.org</td>\n",
       "      <td>tool</td>\n",
       "    </tr>\n",
       "    <tr>\n",
       "      <th>2</th>\n",
       "      <td>CodeAcademy: Python</td>\n",
       "      <td>https://www.codecademy.com/learn/python</td>\n",
       "      <td>docs</td>\n",
       "    </tr>\n",
       "    <tr>\n",
       "      <th>3</th>\n",
       "      <td>Django</td>\n",
       "      <td>https://docs.djangoproject.com/</td>\n",
       "      <td>source</td>\n",
       "    </tr>\n",
       "    <tr>\n",
       "      <th>4</th>\n",
       "      <td>Find string in string in SQLite</td>\n",
       "      <td>https://stackoverflow.com/questions/3498844/sq...</td>\n",
       "      <td>docs</td>\n",
       "    </tr>\n",
       "  </tbody>\n",
       "</table>\n",
       "</div>"
      ],
      "text/plain": [
       "                              bk_place  \\\n",
       "0  'New Math' by Tom Lehrer (animated)   \n",
       "1                         Anaconda.org   \n",
       "2                  CodeAcademy: Python   \n",
       "3                               Django   \n",
       "4      Find string in string in SQLite   \n",
       "\n",
       "                                              bk_url bk_tags  \n",
       "0                       https://youtu.be/UIKGV2cTgqA  comedy  \n",
       "1                                http://anaconda.org    tool  \n",
       "2            https://www.codecademy.com/learn/python    docs  \n",
       "3                    https://docs.djangoproject.com/  source  \n",
       "4  https://stackoverflow.com/questions/3498844/sq...    docs  "
      ]
     },
     "execution_count": 54,
     "metadata": {},
     "output_type": "execute_result"
    }
   ],
   "source": [
    "conn = sql.connect(\"bookmarks.db\")\n",
    "df = pd.read_sql(\"SELECT * FROM Bookmarks\", conn)\n",
    "conn.close()\n",
    "df.head()"
   ]
  },
  {
   "cell_type": "code",
   "execution_count": 55,
   "id": "fe80851f-1143-4a61-a167-1487653dc921",
   "metadata": {},
   "outputs": [
    {
     "data": {
      "text/html": [
       "<div>\n",
       "<style scoped>\n",
       "    .dataframe tbody tr th:only-of-type {\n",
       "        vertical-align: middle;\n",
       "    }\n",
       "\n",
       "    .dataframe tbody tr th {\n",
       "        vertical-align: top;\n",
       "    }\n",
       "\n",
       "    .dataframe thead th {\n",
       "        text-align: right;\n",
       "    }\n",
       "</style>\n",
       "<table border=\"1\" class=\"dataframe\">\n",
       "  <thead>\n",
       "    <tr style=\"text-align: right;\">\n",
       "      <th></th>\n",
       "      <th>bk_place</th>\n",
       "      <th>bk_url</th>\n",
       "      <th>bk_tags</th>\n",
       "    </tr>\n",
       "  </thead>\n",
       "  <tbody>\n",
       "    <tr>\n",
       "      <th>18</th>\n",
       "      <td>Warriors of the Net</td>\n",
       "      <td>https://www.youtube.com/watch?v=PBWhzz_Gn10</td>\n",
       "      <td>docs, glossary, comedy</td>\n",
       "    </tr>\n",
       "    <tr>\n",
       "      <th>19</th>\n",
       "      <td>What Python IDE is best?</td>\n",
       "      <td>https://www.quora.com/What-is-your-favorite-ID...</td>\n",
       "      <td>tool</td>\n",
       "    </tr>\n",
       "    <tr>\n",
       "      <th>20</th>\n",
       "      <td>Will Geeks Rule? CBS News (world domination meme)</td>\n",
       "      <td>http://www.cbsnews.com/news/will-geeks-rule-th...</td>\n",
       "      <td>glossary, comedy</td>\n",
       "    </tr>\n",
       "    <tr>\n",
       "      <th>21</th>\n",
       "      <td>World Domination meme</td>\n",
       "      <td>https://www.google.com/search?q=linux+world+do...</td>\n",
       "      <td>glossary, comedy, culture</td>\n",
       "    </tr>\n",
       "    <tr>\n",
       "      <th>22</th>\n",
       "      <td>XKCD</td>\n",
       "      <td>http://xkcd.com</td>\n",
       "      <td>comedy</td>\n",
       "    </tr>\n",
       "  </tbody>\n",
       "</table>\n",
       "</div>"
      ],
      "text/plain": [
       "                                             bk_place  \\\n",
       "18                                Warriors of the Net   \n",
       "19                           What Python IDE is best?   \n",
       "20  Will Geeks Rule? CBS News (world domination meme)   \n",
       "21                              World Domination meme   \n",
       "22                                               XKCD   \n",
       "\n",
       "                                               bk_url  \\\n",
       "18        https://www.youtube.com/watch?v=PBWhzz_Gn10   \n",
       "19  https://www.quora.com/What-is-your-favorite-ID...   \n",
       "20  http://www.cbsnews.com/news/will-geeks-rule-th...   \n",
       "21  https://www.google.com/search?q=linux+world+do...   \n",
       "22                                    http://xkcd.com   \n",
       "\n",
       "                      bk_tags  \n",
       "18     docs, glossary, comedy  \n",
       "19                       tool  \n",
       "20           glossary, comedy  \n",
       "21  glossary, comedy, culture  \n",
       "22                     comedy  "
      ]
     },
     "execution_count": 55,
     "metadata": {},
     "output_type": "execute_result"
    }
   ],
   "source": [
    "df.tail()"
   ]
  },
  {
   "cell_type": "code",
   "execution_count": 56,
   "id": "45285ce1-8b96-4618-ba36-ed9d80ce0d9f",
   "metadata": {},
   "outputs": [
    {
     "data": {
      "text/plain": [
       "Index(['bk_place', 'bk_url', 'bk_tags'], dtype='object')"
      ]
     },
     "execution_count": 56,
     "metadata": {},
     "output_type": "execute_result"
    }
   ],
   "source": [
    "df.columns"
   ]
  },
  {
   "cell_type": "markdown",
   "id": "3090ff75-bacc-4d65-905f-a6fb5000dee6",
   "metadata": {},
   "source": [
    "Lets use `pd.concat` to add one or more records to the database, starting with a new DataFrame we will concatenate to the original."
   ]
  },
  {
   "cell_type": "code",
   "execution_count": 57,
   "id": "2ced9c7f-31b0-4d49-b85d-e8c5b7a77f1e",
   "metadata": {},
   "outputs": [],
   "source": [
    "add_df = pd.DataFrame({'bk_place':'SQLAlchemy Home Page', \n",
    "                       'bk_url':'https://www.sqlalchemy.org/', \n",
    "                       'bk_tags':'tool'}, index={23})"
   ]
  },
  {
   "cell_type": "code",
   "execution_count": 58,
   "id": "8537eb7c-1a43-4cad-a786-d7fcbc724c37",
   "metadata": {},
   "outputs": [],
   "source": [
    "new_df = pd.concat([df, add_df], axis=0)"
   ]
  },
  {
   "cell_type": "code",
   "execution_count": 59,
   "id": "e99cc1cd-4a6d-41be-afce-4ae451b2dc7f",
   "metadata": {},
   "outputs": [
    {
     "data": {
      "text/html": [
       "<div>\n",
       "<style scoped>\n",
       "    .dataframe tbody tr th:only-of-type {\n",
       "        vertical-align: middle;\n",
       "    }\n",
       "\n",
       "    .dataframe tbody tr th {\n",
       "        vertical-align: top;\n",
       "    }\n",
       "\n",
       "    .dataframe thead th {\n",
       "        text-align: right;\n",
       "    }\n",
       "</style>\n",
       "<table border=\"1\" class=\"dataframe\">\n",
       "  <thead>\n",
       "    <tr style=\"text-align: right;\">\n",
       "      <th></th>\n",
       "      <th>bk_place</th>\n",
       "      <th>bk_url</th>\n",
       "      <th>bk_tags</th>\n",
       "    </tr>\n",
       "  </thead>\n",
       "  <tbody>\n",
       "    <tr>\n",
       "      <th>19</th>\n",
       "      <td>What Python IDE is best?</td>\n",
       "      <td>https://www.quora.com/What-is-your-favorite-ID...</td>\n",
       "      <td>tool</td>\n",
       "    </tr>\n",
       "    <tr>\n",
       "      <th>20</th>\n",
       "      <td>Will Geeks Rule? CBS News (world domination meme)</td>\n",
       "      <td>http://www.cbsnews.com/news/will-geeks-rule-th...</td>\n",
       "      <td>glossary, comedy</td>\n",
       "    </tr>\n",
       "    <tr>\n",
       "      <th>21</th>\n",
       "      <td>World Domination meme</td>\n",
       "      <td>https://www.google.com/search?q=linux+world+do...</td>\n",
       "      <td>glossary, comedy, culture</td>\n",
       "    </tr>\n",
       "    <tr>\n",
       "      <th>22</th>\n",
       "      <td>XKCD</td>\n",
       "      <td>http://xkcd.com</td>\n",
       "      <td>comedy</td>\n",
       "    </tr>\n",
       "    <tr>\n",
       "      <th>23</th>\n",
       "      <td>SQLAlchemy Home Page</td>\n",
       "      <td>https://www.sqlalchemy.org/</td>\n",
       "      <td>tool</td>\n",
       "    </tr>\n",
       "  </tbody>\n",
       "</table>\n",
       "</div>"
      ],
      "text/plain": [
       "                                             bk_place  \\\n",
       "19                           What Python IDE is best?   \n",
       "20  Will Geeks Rule? CBS News (world domination meme)   \n",
       "21                              World Domination meme   \n",
       "22                                               XKCD   \n",
       "23                               SQLAlchemy Home Page   \n",
       "\n",
       "                                               bk_url  \\\n",
       "19  https://www.quora.com/What-is-your-favorite-ID...   \n",
       "20  http://www.cbsnews.com/news/will-geeks-rule-th...   \n",
       "21  https://www.google.com/search?q=linux+world+do...   \n",
       "22                                    http://xkcd.com   \n",
       "23                        https://www.sqlalchemy.org/   \n",
       "\n",
       "                      bk_tags  \n",
       "19                       tool  \n",
       "20           glossary, comedy  \n",
       "21  glossary, comedy, culture  \n",
       "22                     comedy  \n",
       "23                       tool  "
      ]
     },
     "execution_count": 59,
     "metadata": {},
     "output_type": "execute_result"
    }
   ],
   "source": [
    "new_df.tail()"
   ]
  },
  {
   "cell_type": "markdown",
   "id": "e9aeb056-b4a7-4c80-8542-995dfedd8b3e",
   "metadata": {},
   "source": [
    "Below, change `df` to `new_df` if wanting to included the most recently appended record."
   ]
  },
  {
   "cell_type": "code",
   "execution_count": 60,
   "id": "9a13be1d-353e-4e1a-a593-c1910a30df0f",
   "metadata": {},
   "outputs": [],
   "source": [
    "conn = sql.connect(\"bookmarks.db\")\n",
    "df.to_sql('Bookmarks', conn, if_exists='replace', index=False)\n",
    "conn.close()"
   ]
  },
  {
   "cell_type": "markdown",
   "id": "2476cb65-631c-4fc1-a322-d04582d66382",
   "metadata": {},
   "source": [
    "## Regular Expressions"
   ]
  },
  {
   "cell_type": "code",
   "execution_count": 61,
   "id": "e67a5578-b440-406d-96b5-8bce31344874",
   "metadata": {},
   "outputs": [],
   "source": [
    "import re"
   ]
  },
  {
   "cell_type": "markdown",
   "id": "e3cffd8d-f9e8-4334-beef-006012d5c5d2",
   "metadata": {},
   "source": [
    "## Bonus Extras"
   ]
  },
  {
   "cell_type": "code",
   "execution_count": 1,
   "id": "e8998004-1c01-4f00-84ee-c9b32f68d3bb",
   "metadata": {},
   "outputs": [
    {
     "name": "stdout",
     "output_type": "stream",
     "text": [
      "The Zen of Python, by Tim Peters\n",
      "\n",
      "Beautiful is better than ugly.\n",
      "Explicit is better than implicit.\n",
      "Simple is better than complex.\n",
      "Complex is better than complicated.\n",
      "Flat is better than nested.\n",
      "Sparse is better than dense.\n",
      "Readability counts.\n",
      "Special cases aren't special enough to break the rules.\n",
      "Although practicality beats purity.\n",
      "Errors should never pass silently.\n",
      "Unless explicitly silenced.\n",
      "In the face of ambiguity, refuse the temptation to guess.\n",
      "There should be one-- and preferably only one --obvious way to do it.\n",
      "Although that way may not be obvious at first unless you're Dutch.\n",
      "Now is better than never.\n",
      "Although never is often better than *right* now.\n",
      "If the implementation is hard to explain, it's a bad idea.\n",
      "If the implementation is easy to explain, it may be a good idea.\n",
      "Namespaces are one honking great idea -- let's do more of those!\n"
     ]
    }
   ],
   "source": [
    "import this"
   ]
  },
  {
   "cell_type": "code",
   "execution_count": 3,
   "id": "0eb7fe1b-767c-4893-8d92-3345309e035b",
   "metadata": {},
   "outputs": [],
   "source": [
    "import antigravity  # try this "
   ]
  }
 ],
 "metadata": {
  "kernelspec": {
   "display_name": "Python 3 (ipykernel)",
   "language": "python",
   "name": "python3"
  },
  "language_info": {
   "codemirror_mode": {
    "name": "ipython",
    "version": 3
   },
   "file_extension": ".py",
   "mimetype": "text/x-python",
   "name": "python",
   "nbconvert_exporter": "python",
   "pygments_lexer": "ipython3",
   "version": "3.9.15"
  }
 },
 "nbformat": 4,
 "nbformat_minor": 5
}
