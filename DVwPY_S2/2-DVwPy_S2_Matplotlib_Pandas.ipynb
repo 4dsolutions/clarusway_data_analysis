{
 "cells": [
  {
   "cell_type": "markdown",
   "id": "a1a62752",
   "metadata": {},
   "source": [
    "<a href=\"https://colab.research.google.com/github/4dsolutions/clarusway_data_analysis/blob/main/DVwPY_S2/2-DVwPy_S2_Matplotlib_Pandas.ipynb\"><img align=\"left\" src=\"https://colab.research.google.com/assets/colab-badge.svg\" alt=\"Open in Colab\" title=\"Open and Execute in Google Colaboratory\"></a><br/>\n",
    "[![nbviewer](https://raw.githubusercontent.com/jupyter/design/master/logos/Badges/nbviewer_badge.svg)](https://nbviewer.org/github/4dsolutions/clarusway_data_analysis/blob/main/DVwPY_S2/2-DVwPy_S2_Matplotlib_Pandas.ipynb)\n",
    "\n",
    "___\n",
    "\n",
    "<p style=\"text-align: center;\"><img src=\"https://docs.google.com/uc?id=1lY0Uj5R04yMY3-ZppPWxqCr5pvBLYPnV\" class=\"img-fluid\" \n",
    "alt=\"CLRSWY\"></p>\n",
    "\n",
    "## <p style=\"background-color:#FDFEFE; font-family:newtimeroman; color:#9d4f8c; font-size:100%; text-align:center; border-radius:10px 10px;\">WAY TO REINVENT YOURSELF</p>"
   ]
  },
  {
   "cell_type": "markdown",
   "id": "14902c7b",
   "metadata": {},
   "source": [
    "![image.png](https://i.ibb.co/4gc0nbk/matplotlib.png)\n",
    "\n",
    "Matplotlib is a two-dimensional (2D) plotting library for Python. It was created by John D. Hunter, an American neurobiologist, and was first released in 2002. With Matplotlib, you can generate lines, scatter graphs, bar charts, histograms, error bars, etc, and even do simple 3D plots using the mplot3d toolkit. Matplotlib has a module called Pyplot, which provides an interface similar to MatLab.\n",
    "\n",
    "[MATPLOTLIB Source](https://medium.com/@developit19/matplotlib-python-651fd07e9234)"
   ]
  },
  {
   "cell_type": "markdown",
   "id": "22142974",
   "metadata": {},
   "source": [
    "<a id=\"toc\"></a>\n",
    "\n",
    "## <p style=\"background-color:#9d4f8c; font-family:newtimeroman; color:#FFF9ED; font-size:150%; text-align:center; border-radius:10px 10px;\">CONTENT</p>\n",
    "\n",
    "* [IMPORTING LIBRARIES NEEDED IN THIS NOTEBOOK](#0)\n",
    "* [REVIEW](#1)\n",
    "    * [Subplot](#1.1)\n",
    "    * [Optional](#1.2)\n",
    "* [SPECIAL PLOT TYPES](#2)\n",
    "* [SCATTER PLOT](#3)\n",
    "* [BAR PLOT](#4)\n",
    "    * [Optional](#4.1)\n",
    "* [HISTOGRAM](#5) \n",
    "* [BOX PLOT](#6)\n",
    "* [PIE CHART](#7)\n",
    "* [PANDAS SCATTER](#8) \n",
    "* [PANDAS BAR PLOT](#9)\n",
    "* [PANDAS HISTOGRAM](#10)\n",
    "* [PANDAS BOX PLOT](#11) \n",
    "* [PANDAS PIE CHART](#12)\n",
    "* [KERNEL DENSITY ESTIMATION (KDE)](#13)\n",
    "* [3-DIMENSIONAL PLOTTING IN MATPLOTLIB](#14)\n",
    "* [THE END OF THE MATPLOTLIB SESSION 02](#15)    "
   ]
  },
  {
   "cell_type": "markdown",
   "id": "445382ca",
   "metadata": {},
   "source": [
    "## <p style=\"background-color:#9d4f8c; font-family:newtimeroman; color:#FFF9ED; font-size:150%; text-align:center; border-radius:10px 10px;\">IMPORTING LIBRARIES NEEDED IN THIS NOTEBOOK</p>\n",
    "\n",
    "<a id=\"0\"></a>\n",
    "<a href=\"#toc\" class=\"btn btn-primary btn-sm\" role=\"button\" aria-pressed=\"true\" \n",
    "style=\"color:blue; background-color:#dfa8e4\" data-toggle=\"popover\">Content</a>"
   ]
  },
  {
   "cell_type": "code",
   "execution_count": null,
   "id": "induced-pursuit",
   "metadata": {
    "id": "induced-pursuit"
   },
   "outputs": [],
   "source": [
    "import matplotlib.pyplot as plt\n",
    "import numpy as np\n",
    "import pandas as pd\n",
    "import seaborn as sns\n",
    "\n",
    "import warnings;\n",
    "warnings.filterwarnings('ignore')"
   ]
  },
  {
   "cell_type": "code",
   "execution_count": null,
   "id": "consecutive-aspect",
   "metadata": {
    "id": "consecutive-aspect"
   },
   "outputs": [],
   "source": [
    "age = [25, 27, 29, 31, 33, 35, 37, 39, 41, 43, 45]\n",
    "\n",
    "salary = [38496, 42000, 46752, 49320, 53200,\n",
    "         56000, 62316, 64928, 67317, 68748, 73752]\n",
    "\n",
    "salary_2 = [45372, 48876, 53850, 57287, 63016,\n",
    "            65998, 70003, 70000, 71496, 75370, 83640]\n"
   ]
  },
  {
   "cell_type": "markdown",
   "id": "631093d6",
   "metadata": {},
   "source": [
    "## <p style=\"background-color:#9d4f8c; font-family:newtimeroman; color:#FFF9ED; font-size:150%; text-align:center; border-radius:10px 10px;\">REVIEW</p>\n",
    "\n",
    "<a id=\"1\"></a>\n",
    "<a href=\"#toc\" class=\"btn btn-primary btn-sm\" role=\"button\" aria-pressed=\"true\" \n",
    "style=\"color:blue; background-color:#dfa8e4\" data-toggle=\"popover\">Content</a>"
   ]
  },
  {
   "cell_type": "code",
   "execution_count": null,
   "id": "narrow-marine",
   "metadata": {
    "colab": {
     "base_uri": "https://localhost:8080/",
     "height": 295
    },
    "id": "narrow-marine",
    "outputId": "620e66df-2291-4b9b-dd2e-7fbb8bf7c263"
   },
   "outputs": [],
   "source": [
    "# Functional \n",
    "\n",
    "plt.plot(age, salary)\n",
    "plt.xlabel(\"age\")\n",
    "plt.ylabel(\"salary\")\n",
    "plt.title(\"Salary by Age\");\n",
    "plt.show()"
   ]
  },
  {
   "cell_type": "code",
   "execution_count": null,
   "id": "0e5bd4fd-918f-40de-8343-b5c29e2b32cb",
   "metadata": {},
   "outputs": [],
   "source": [
    "default_fig_size = plt.rcParams.get('figure.figsize')\n",
    "default_fig_size"
   ]
  },
  {
   "cell_type": "code",
   "execution_count": null,
   "id": "7f7fb15c-e1fe-4be4-84a1-b4f8daf64979",
   "metadata": {},
   "outputs": [],
   "source": [
    "plt.rcParams['figure.figsize'] = [3, 2]"
   ]
  },
  {
   "cell_type": "code",
   "execution_count": null,
   "id": "211fa9e8-4615-43bb-93c8-a59447de35e7",
   "metadata": {},
   "outputs": [],
   "source": [
    "plt.plot(age, salary)\n",
    "plt.xlabel(\"age\")\n",
    "plt.ylabel(\"salary\")\n",
    "plt.title(\"Salary by Age\");\n",
    "plt.show()"
   ]
  },
  {
   "cell_type": "code",
   "execution_count": null,
   "id": "c2880843-b2e8-4d8e-b253-4540b40d0654",
   "metadata": {},
   "outputs": [],
   "source": [
    "plt.rcParams['figure.figsize'] = default_fig_size"
   ]
  },
  {
   "cell_type": "code",
   "execution_count": null,
   "id": "defensive-washington",
   "metadata": {
    "colab": {
     "base_uri": "https://localhost:8080/",
     "height": 241
    },
    "id": "defensive-washington",
    "outputId": "870dcd5a-d6d2-4f75-acdb-baaab99ad81d"
   },
   "outputs": [],
   "source": [
    "# Object Oriented\n",
    "\n",
    "fig, ax = plt.subplots(figsize=(6, 3))\n",
    "\n",
    "ax.plot(age, salary, 'r')\n",
    "ax.set_xlabel('Age')\n",
    "ax.set_ylabel('Salary')\n",
    "ax.set_title('Correlation');\n",
    "\n",
    "# plt.show()"
   ]
  },
  {
   "cell_type": "code",
   "execution_count": null,
   "id": "desperate-oasis",
   "metadata": {
    "colab": {
     "base_uri": "https://localhost:8080/",
     "height": 265
    },
    "id": "desperate-oasis",
    "outputId": "b988be1c-0a53-46b7-d605-375a1e36145e"
   },
   "outputs": [],
   "source": [
    "plt.plot(age, salary, age,salary_2);\n",
    "\n",
    "# plt.show()"
   ]
  },
  {
   "cell_type": "code",
   "execution_count": null,
   "id": "466f4b09-1364-49c4-97be-0a37985bb99a",
   "metadata": {},
   "outputs": [],
   "source": [
    "plt.scatter(age, salary, color=\"tab:pink\")\n",
    "plt.scatter(age, salary_2, color=\"xkcd:crimson\");"
   ]
  },
  {
   "cell_type": "markdown",
   "id": "e27ba629-abda-439c-8720-994f37aaefcc",
   "metadata": {},
   "source": [
    "In these next few cells, we amalgamate the two salary data sets into one, by concatenation, and by extending age with a duplicate of itself, as both salary sets are paired with the same ages."
   ]
  },
  {
   "cell_type": "markdown",
   "id": "d18bf63b-24f2-4628-b02b-40c5f9007fdd",
   "metadata": {},
   "source": [
    "The way sklearn models want their input is as X, a two-dimensional array or DataFrame, and as y, a one-dimensional list or Series, the value X is trying to predict.\n",
    "\n",
    "Our X is just one column, age, but could be more, in which case the Linear Regression model would give us more coefficients, or weights.  One for each column."
   ]
  },
  {
   "cell_type": "code",
   "execution_count": null,
   "id": "068e940b-395b-4f5f-b388-b24fbbe94cb6",
   "metadata": {},
   "outputs": [],
   "source": [
    "all_salary = np.array(salary + salary_2)\n",
    "all_salary.shape"
   ]
  },
  {
   "cell_type": "code",
   "execution_count": null,
   "id": "31a53360-971f-4a6e-b864-03313aa502a0",
   "metadata": {},
   "outputs": [],
   "source": [
    "all_age = np.array(age + age).reshape(-1,1)\n",
    "all_age.shape"
   ]
  },
  {
   "cell_type": "markdown",
   "id": "2dc126de-0c0b-4827-ad6e-28a082b0a263",
   "metadata": {},
   "source": [
    "Lets start with a scatter plot of all our (age, salary) pairs, then use Linear Regression to best fit a straight line through all the points."
   ]
  },
  {
   "cell_type": "code",
   "execution_count": null,
   "id": "bd36f418-0b18-4f59-baa9-b0c7e10ac58e",
   "metadata": {},
   "outputs": [],
   "source": [
    "plt.scatter(all_age, all_salary, color=\"tab:orange\");"
   ]
  },
  {
   "cell_type": "code",
   "execution_count": null,
   "id": "7e7647e5-61bc-44f7-bb36-efec0e2edf20",
   "metadata": {},
   "outputs": [],
   "source": [
    "from sklearn.linear_model import LinearRegression\n",
    "reg = LinearRegression()\n",
    "reg.fit(X=all_age, y=all_salary)  #  X is 2D, y is 1D"
   ]
  },
  {
   "cell_type": "markdown",
   "id": "0bce2890-4e03-4ddc-8092-f0476f3f1c77",
   "metadata": {},
   "source": [
    "Do you remember $y = mx + b$ from earlier schooling?  That's the equation for a line, where `m` is slope and `b` is the y-intercept, i.e. where our line crosses the y-axis."
   ]
  },
  {
   "cell_type": "code",
   "execution_count": null,
   "id": "e4abc158-1e4b-4b98-a606-65f1362c2056",
   "metadata": {},
   "outputs": [],
   "source": [
    "m = reg.coef_  # only one column in X\n",
    "m"
   ]
  },
  {
   "cell_type": "code",
   "execution_count": null,
   "id": "b5db3edd-4226-4a4e-a888-6e90e7ee7e40",
   "metadata": {},
   "outputs": [],
   "source": [
    "b = reg.intercept_  # the y intercept\n",
    "b"
   ]
  },
  {
   "cell_type": "code",
   "execution_count": null,
   "id": "d890975a-9fec-4655-923c-63f948235257",
   "metadata": {},
   "outputs": [],
   "source": [
    "plt.scatter(all_age, all_salary, color=\"tab:green\");\n",
    "plt.plot(all_age, \n",
    "         list(map(lambda x: m * x + b, all_age)),  # linear equation \n",
    "         color=\"xkcd:crimson\");"
   ]
  },
  {
   "cell_type": "markdown",
   "id": "aa39fa67-0ea0-4619-8742-d0487c580257",
   "metadata": {},
   "source": [
    "The `sklearn.linear_model.LinearRegression` machine learns from the data we give it.  Here we've given it all the data we have, and are now seeing what salaries it would predict given new ages.  By \"predict\", we mean \"what would the model say?\".  Not surprisingly, all the predictions are along our best fit line."
   ]
  },
  {
   "cell_type": "code",
   "execution_count": null,
   "id": "dc551054-ff5b-4361-a1b5-4781e9a0fd1a",
   "metadata": {},
   "outputs": [],
   "source": [
    "new_data = np.array([20, 25, 35, 50]).reshape(-1, 1)\n",
    "predicted = reg.predict(new_data)\n",
    "predicted"
   ]
  },
  {
   "cell_type": "code",
   "execution_count": null,
   "id": "2efe05ce-d8b6-4f6e-9f82-fe74daa827c3",
   "metadata": {},
   "outputs": [],
   "source": [
    "plt.scatter(all_age, all_salary, color=\"tab:green\", label=\"sample\")\n",
    "plt.plot(all_age, \n",
    "         list(map(lambda x: m * x + b, all_age)), \n",
    "         color=\"xkcd:crimson\", label=\"model\")\n",
    "plt.scatter(new_data, predicted, color=\"tab:red\", label=\"predicted\")\n",
    "plt.legend();"
   ]
  },
  {
   "cell_type": "markdown",
   "id": "4b9b95e5",
   "metadata": {},
   "source": [
    "### <p style=\"background-color:#9d4f8c; font-family:newtimeroman; color:#FFF9ED; font-size:150%; text-align:left; border-radius:10px 10px;\">Subplot</p>\n",
    "\n",
    "<a id=\"1.1\"></a>\n",
    "<a href=\"#toc\" class=\"btn btn-primary btn-sm\" role=\"button\" aria-pressed=\"true\" \n",
    "style=\"color:blue; background-color:#dfa8e4\" data-toggle=\"popover\">Content</a>\n",
    "\n",
    "![image.png](https://i.ibb.co/mHHtNBx/eggs.jpg) Photo by Tengyart on Unsplash\n",
    "\n",
    "Sometimes it is helpful to compare different views of data side by side. To this end, Matplotlib has the concept of subplots: groups of smaller axes that can exist together within a single figure. These subplots might be insets, grids of plots, or other more complicated layouts.\n",
    "\n",
    "Matplotlib provides a convenient method called subplots to do this. Subplots define an array of axes (each one defining a plot) that can co-exist within a single figure.\n",
    "\n",
    "[SOURCE 01](https://matplotlib.org/stable/gallery/subplots_axes_and_figures/subplots_demo.html), [SOURCE 02](https://www.machinelearningplus.com/plots/subplots-python-matplotlib/), [SOURCE 03](https://jakevdp.github.io/PythonDataScienceHandbook/04.08-multiple-subplots.html), [SOURCE 04](https://python-course.eu/numerical-programming/creating-subplots-in-matplotlib.php), [SOURCE 05](https://www.tutorialspoint.com/matplotlib/matplotlib_subplots_function.htm), [SOURCE 06](https://towardsdatascience.com/take-full-control-over-the-subplots-in-matplotlib-71b3bc11ff0b) & [SOURCE 07](https://www.youtube.com/watch?v=j4eGsLdh9ws)"
   ]
  },
  {
   "cell_type": "code",
   "execution_count": null,
   "id": "indie-relations",
   "metadata": {
    "colab": {
     "base_uri": "https://localhost:8080/",
     "height": 213
    },
    "id": "indie-relations",
    "outputId": "46642f39-bfe0-4f26-a12f-3fa15267813c"
   },
   "outputs": [],
   "source": [
    "# Functional \n",
    "\n",
    "plt.figure(figsize=(15, 3))  # wide and not tall\n",
    "\n",
    "plt.subplot(1, 2, 1)\n",
    "plt.plot(age, salary, \"r+\", ls=\"--\")  # color and marker style combined\n",
    "\n",
    "\n",
    "plt.subplot(1, 2, 2)\n",
    "plt.plot(age, salary_2, \"bo\", ls=\":\") # linestyle separate\n",
    "\n",
    "plt.show()"
   ]
  },
  {
   "cell_type": "code",
   "execution_count": null,
   "id": "16df44fe-a1df-432e-aeab-48a321feb4cd",
   "metadata": {},
   "outputs": [],
   "source": [
    "plt.figure(figsize=(3, 10))  #  narrow and tall\n",
    "\n",
    "ax1 = plt.subplot(2, 1, 1)\n",
    "plt.plot(age, salary, \"r+\", ls=\"--\")  # color and marker style combined\n",
    "\n",
    "ax2 = plt.subplot(2, 1, 2)\n",
    "plt.plot(age, salary_2, \"bo\", ls=\":\") # linestyle separate\n",
    "\n",
    "plt.show()"
   ]
  },
  {
   "cell_type": "code",
   "execution_count": null,
   "id": "suitable-southwest",
   "metadata": {
    "colab": {
     "base_uri": "https://localhost:8080/",
     "height": 225
    },
    "id": "suitable-southwest",
    "outputId": "42bcaa7a-2f71-44bb-a935-aef2dbb309f3"
   },
   "outputs": [],
   "source": [
    "# Object Oriented\n",
    "\n",
    "fig, ax = plt.subplots(nrows=1, ncols=2, \n",
    "                       sharey = True, \n",
    "                       figsize=(15, 3))\n",
    "\n",
    "ax[0].plot(age, salary)\n",
    "ax[0].set_xlabel('age')\n",
    "ax[0].set_title('First')\n",
    "\n",
    "ax[1].plot(age, salary_2)\n",
    "ax[1].set_title('Second')\n",
    "ax[1].set_xlabel('age')\n",
    "\n",
    "plt.tight_layout()\n",
    "\n",
    "plt.show()"
   ]
  },
  {
   "cell_type": "markdown",
   "id": "56fa989d",
   "metadata": {},
   "source": [
    "### <p style=\"background-color:#9d4f8c; font-family:newtimeroman; color:#FFF9ED; font-size:150%; text-align:left; border-radius:10px 10px;\">Optional</p>\n",
    "\n",
    "<a id=\"1.2\"></a>\n",
    "<a href=\"#toc\" class=\"btn btn-primary btn-sm\" role=\"button\" aria-pressed=\"true\" \n",
    "style=\"color:blue; background-color:#dfa8e4\" data-toggle=\"popover\">Content</a>"
   ]
  },
  {
   "cell_type": "code",
   "execution_count": null,
   "id": "completed-forum",
   "metadata": {
    "colab": {
     "base_uri": "https://localhost:8080/",
     "height": 302
    },
    "id": "completed-forum",
    "outputId": "4a155bf5-e97f-4555-fb4e-9fa4b330897c"
   },
   "outputs": [],
   "source": [
    "for i in range(1, 7):\n",
    "    plt.subplot(2, 3, i)\n",
    "    plt.text(0.5, 0.5, str((2, 3, i)), fontsize=18, ha='center')\n",
    "    plt.title(f\"Subplot: {i}\")\n",
    "\n",
    "plt.suptitle(\"This is Functional Matplotlib Subplots Created By For Loop\")\n",
    "plt.tight_layout() \n",
    "\n",
    "plt.show()"
   ]
  },
  {
   "cell_type": "markdown",
   "id": "6350de08",
   "metadata": {},
   "source": [
    "**Adding Text Inside the Plot in Matplotlib**\n",
    "\n",
    "The matplotlib.pyplot.text() function is used to add text inside the plot. The syntax adds text at an arbitrary location of the axes. It also supports mathematical expressions.\n",
    "\n",
    "**Syntax:** matplotlib.pyplot.text(x, y, s, fontdict=None, **kwargs)\n",
    "\n",
    "Parameters:\n",
    "\n",
    "- where x, y – coordinates\n",
    "- s – text to be added inside the plot(string)\n",
    "- fontdict – optional parameter. It overrides the default text properties\n",
    "- **kwargs – text properties\n",
    "\n",
    "[SOURCE 01](https://matplotlib.org/stable/api/_as_gen/matplotlib.pyplot.text.html) & [SOURCE 02](https://www.geeksforgeeks.org/add-text-inside-the-plot-in-matplotlib/)"
   ]
  },
  {
   "cell_type": "markdown",
   "id": "e131bcc5",
   "metadata": {},
   "source": [
    "## <p style=\"background-color:#9d4f8c; font-family:newtimeroman; color:#FFF9ED; font-size:150%; text-align:center; border-radius:10px 10px;\">SPECIAL PLOT TYPES</p>\n",
    "\n",
    "<a id=\"2\"></a>\n",
    "<a href=\"#toc\" class=\"btn btn-primary btn-sm\" role=\"button\" aria-pressed=\"true\" \n",
    "style=\"color:blue; background-color:#dfa8e4\" data-toggle=\"popover\">Content</a>"
   ]
  },
  {
   "cell_type": "markdown",
   "id": "de88d69c",
   "metadata": {},
   "source": [
    "![matplotlib1.png](https://i.ibb.co/jTZFN49/matplotlib1.png)"
   ]
  },
  {
   "cell_type": "markdown",
   "id": "aJtfc-gHcwUY",
   "metadata": {
    "id": "aJtfc-gHcwUY"
   },
   "source": [
    "## <p style=\"background-color:#9d4f8c; font-family:newtimeroman; color:#FFF9ED; font-size:150%; text-align:center; border-radius:10px 10px;\">SCATTER PLOT</p>\n",
    "\n",
    "<a id=\"3\"></a>\n",
    "<a href=\"#toc\" class=\"btn btn-primary btn-sm\" role=\"button\" aria-pressed=\"true\" \n",
    "style=\"color:blue; background-color:#dfa8e4\" data-toggle=\"popover\">Content</a>\n",
    "\n",
    "A `scatter plot` (2D) is a useful method of comparing variables against each other. `Scatter` plots look similar to `line plots` in that they both map independent and dependent variables on a 2D graph. While the data points are connected together by a line in a line plot, they are not connected in a scatter plot. The data in a scatter plot is considered to express a trend. With further analysis using tools like regression, we can mathematically calculate this relationship and use it to predict trends outside the dataset."
   ]
  },
  {
   "cell_type": "markdown",
   "id": "38f8a11a",
   "metadata": {},
   "source": [
    "![Capture7.PNG](https://i.ibb.co/8bXD2Bj/Capture7.png)"
   ]
  },
  {
   "cell_type": "code",
   "execution_count": null,
   "id": "norman-haiti",
   "metadata": {
    "colab": {
     "base_uri": "https://localhost:8080/",
     "height": 268
    },
    "id": "norman-haiti",
    "outputId": "966633b7-67ca-4e82-8116-bc1c62827f4f"
   },
   "outputs": [],
   "source": [
    "x = np.array([15, 17, 18, 17, 12, 17, 12, 19, 14, 11, 12, 19, 16, 13])\n",
    "y = np.array([99, 86, 87, 88, 81, 86, 93, 87, 94, 78, 77, 85, 86, 85])\n",
    "\n",
    "plt.scatter(x, y)\n",
    "plt.show()"
   ]
  },
  {
   "cell_type": "code",
   "execution_count": null,
   "id": "jtjogzmS06XD",
   "metadata": {
    "colab": {
     "base_uri": "https://localhost:8080/",
     "height": 265
    },
    "id": "jtjogzmS06XD",
    "outputId": "15051aa0-6161-4e44-b7a7-f7c1e15a9509"
   },
   "outputs": [],
   "source": [
    "y = np.random.randint(10, 100, 50)\n",
    "x = np.random.randint(10, 100, 50)\n",
    "\n",
    "plt.scatter(x, y)\n",
    "plt.show()"
   ]
  },
  {
   "cell_type": "code",
   "execution_count": null,
   "id": "f1030607-0c8f-47f6-a086-1eb2bea3ec8b",
   "metadata": {},
   "outputs": [],
   "source": [
    "x"
   ]
  },
  {
   "cell_type": "code",
   "execution_count": null,
   "id": "624669e1",
   "metadata": {},
   "outputs": [],
   "source": [
    "sns.get_dataset_names()"
   ]
  },
  {
   "cell_type": "code",
   "execution_count": null,
   "id": "xvr542FQb0GY",
   "metadata": {
    "colab": {
     "base_uri": "https://localhost:8080/",
     "height": 203
    },
    "id": "xvr542FQb0GY",
    "outputId": "bd85d76a-43e9-4132-8965-972c302ff19f"
   },
   "outputs": [],
   "source": [
    "tips = sns.load_dataset(\"tips\")\n",
    "\n",
    "tips.head()"
   ]
  },
  {
   "cell_type": "code",
   "execution_count": null,
   "id": "edc44df9-1188-437b-80e1-2a1c9d718b68",
   "metadata": {},
   "outputs": [],
   "source": [
    "tips.info()"
   ]
  },
  {
   "cell_type": "code",
   "execution_count": null,
   "id": "yrOi4kL_b0Dk",
   "metadata": {
    "colab": {
     "base_uri": "https://localhost:8080/",
     "height": 282
    },
    "id": "yrOi4kL_b0Dk",
    "outputId": "c10c3d78-fd61-4a8a-f08d-bbf1d2d2ecd9"
   },
   "outputs": [],
   "source": [
    "plt.figure(figsize=(12, 8))\n",
    "\n",
    "plt.scatter(tips['tip'], tips['total_bill']);"
   ]
  },
  {
   "cell_type": "markdown",
   "id": "catholic-floating",
   "metadata": {
    "id": "catholic-floating"
   },
   "source": [
    "## <p style=\"background-color:#9d4f8c; font-family:newtimeroman; color:#FFF9ED; font-size:150%; text-align:center; border-radius:10px 10px;\">BAR PLOT</p>\n",
    "\n",
    "<a id=\"4\"></a>\n",
    "<a href=\"#toc\" class=\"btn btn-primary btn-sm\" role=\"button\" aria-pressed=\"true\" \n",
    "style=\"color:blue; background-color:#dfa8e4\" data-toggle=\"popover\">Content</a>"
   ]
  },
  {
   "cell_type": "markdown",
   "id": "701b848c",
   "metadata": {},
   "source": [
    "![Capture8.PNG](https://i.ibb.co/hK72Tnf/Capture8.png)"
   ]
  },
  {
   "cell_type": "code",
   "execution_count": null,
   "id": "changing-contents",
   "metadata": {
    "colab": {
     "base_uri": "https://localhost:8080/",
     "height": 265
    },
    "id": "changing-contents",
    "outputId": "84ba5d53-64f8-4159-b0a3-5d696a969965"
   },
   "outputs": [],
   "source": [
    "# Object Oriented\n",
    "\n",
    "langs = ['C', 'C++', 'Java', 'Python', 'PHP']\n",
    "students = [23, 17, 35, 29, 12]\n",
    "\n",
    "fig, ax = plt.subplots(figsize=(12, 8))\n",
    "ax.bar(langs, students);\n",
    "# plt.show()"
   ]
  },
  {
   "cell_type": "code",
   "execution_count": null,
   "id": "VGcMQl7Q2M1O",
   "metadata": {
    "colab": {
     "base_uri": "https://localhost:8080/",
     "height": 265
    },
    "id": "VGcMQl7Q2M1O",
    "outputId": "22245e96-e34f-4377-f885-58578afa4fc1"
   },
   "outputs": [],
   "source": [
    "fig, ax = plt.subplots(figsize=(10, 5))\n",
    "\n",
    "langs = ['C', 'C++', 'Java', 'Python', 'PHP']\n",
    "students = [23, 17, 35, 29, 12]\n",
    "\n",
    "ax.barh(langs, students)\n",
    "plt.show()"
   ]
  },
  {
   "cell_type": "code",
   "execution_count": null,
   "id": "grGAdu7JbWQg",
   "metadata": {
    "colab": {
     "base_uri": "https://localhost:8080/",
     "height": 203
    },
    "id": "grGAdu7JbWQg",
    "outputId": "0c884116-ed95-44f0-c154-d2954e1aebd3"
   },
   "outputs": [],
   "source": [
    "# tips = sns.load_dataset(\"tips\")\n",
    "tips.head()"
   ]
  },
  {
   "cell_type": "code",
   "execution_count": null,
   "id": "1vOb5x10beZl",
   "metadata": {
    "colab": {
     "base_uri": "https://localhost:8080/",
     "height": 203
    },
    "id": "1vOb5x10beZl",
    "outputId": "a7eef0d9-cd2c-4950-cfe6-a04951ffce57"
   },
   "outputs": [],
   "source": [
    "tips.groupby(tips[\"day\"]).sum()"
   ]
  },
  {
   "cell_type": "code",
   "execution_count": null,
   "id": "ek7afVKpbeW8",
   "metadata": {
    "colab": {
     "base_uri": "https://localhost:8080/"
    },
    "id": "ek7afVKpbeW8",
    "outputId": "e2cf89bd-bf65-47eb-d6f2-ab6445471372"
   },
   "outputs": [],
   "source": [
    "day = tips.groupby(\"day\").sum().index   # tips.day.unique()\n",
    "day"
   ]
  },
  {
   "cell_type": "code",
   "execution_count": null,
   "id": "7KlJSOnV31kI",
   "metadata": {
    "colab": {
     "base_uri": "https://localhost:8080/"
    },
    "id": "7KlJSOnV31kI",
    "outputId": "1f65a4ce-3852-4a08-d30f-07cf33c7032d"
   },
   "outputs": [],
   "source": [
    "tips.day.unique()"
   ]
  },
  {
   "cell_type": "code",
   "execution_count": null,
   "id": "1ZOdVGSBbeUZ",
   "metadata": {
    "colab": {
     "base_uri": "https://localhost:8080/"
    },
    "id": "1ZOdVGSBbeUZ",
    "outputId": "3eec60f9-7246-4b07-d9ee-d3c1487b04d1"
   },
   "outputs": [],
   "source": [
    "day_of_total_bill_list= list(tips.groupby(\"day\")[\"total_bill\"].sum())\n",
    "day_of_total_bill_list"
   ]
  },
  {
   "cell_type": "code",
   "execution_count": null,
   "id": "fdbdc878-12cb-4341-8cfb-dfb8220d0c1c",
   "metadata": {},
   "outputs": [],
   "source": [
    "day_of_total_bill= tips.groupby(\"day\")[[\"total_bill\"]].sum()\n",
    "day_of_total_bill\n",
    "# pd.DataFrame(day_of_total_bill)"
   ]
  },
  {
   "cell_type": "code",
   "execution_count": null,
   "id": "7a34b034-bdf4-4864-918b-dd8fe95a8d15",
   "metadata": {},
   "outputs": [],
   "source": [
    "day_of_total_bill= tips.groupby(\"day\")[\"total_bill\"].sum()\n",
    "pd.DataFrame(day_of_total_bill)"
   ]
  },
  {
   "cell_type": "code",
   "execution_count": null,
   "id": "a88b2515-902b-4f81-8069-18c320489a4e",
   "metadata": {},
   "outputs": [],
   "source": [
    "tips.info()"
   ]
  },
  {
   "cell_type": "code",
   "execution_count": null,
   "id": "iP5Ei7FnbeRx",
   "metadata": {
    "colab": {
     "base_uri": "https://localhost:8080/",
     "height": 233
    },
    "id": "iP5Ei7FnbeRx",
    "outputId": "b6592071-d47e-43f3-84fd-d109aaa39496"
   },
   "outputs": [],
   "source": [
    "# Object Oriented\n",
    "\n",
    "fig, ax = plt.subplots(figsize=(15, 5))\n",
    "\n",
    "# ax.barh(tips.day.unique(), day_of_total_bill) # <-- oops, decouples day from data\n",
    "ax.barh(day_of_total_bill.index, day_of_total_bill)\n",
    "plt.show()"
   ]
  },
  {
   "cell_type": "code",
   "execution_count": null,
   "id": "ILVPkRU0ksdX",
   "metadata": {
    "colab": {
     "base_uri": "https://localhost:8080/"
    },
    "id": "ILVPkRU0ksdX",
    "outputId": "e2064854-d110-4059-e7fc-05ca277f61c7"
   },
   "outputs": [],
   "source": [
    "day_tip = np.array(tips.groupby(\"day\")[\"tip\"].sum())\n",
    "day_tip"
   ]
  },
  {
   "cell_type": "code",
   "execution_count": null,
   "id": "gT0ty6M-6dR3",
   "metadata": {
    "colab": {
     "base_uri": "https://localhost:8080/",
     "height": 337
    },
    "id": "gT0ty6M-6dR3",
    "outputId": "4460e928-4552-4d13-8e9a-9d740fd2b635"
   },
   "outputs": [],
   "source": [
    "# Object Oriented\n",
    "\n",
    "fig, ax = plt.subplots(figsize=(10, 5))\n",
    "\n",
    "ax.barh(day, day_of_total_bill,  label=\"total_bill\")\n",
    "ax.barh(day, day_tip,            label=\"tip\")\n",
    "\n",
    "plt.legend();"
   ]
  },
  {
   "cell_type": "markdown",
   "id": "54436a17",
   "metadata": {},
   "source": [
    "### <p style=\"background-color:#9d4f8c; font-family:newtimeroman; color:#FFF9ED; font-size:150%; text-align:left; border-radius:10px 10px;\">Optional</p>\n",
    "\n",
    "<a id=\"4.1\"></a>\n",
    "<a href=\"#toc\" class=\"btn btn-primary btn-sm\" role=\"button\" aria-pressed=\"true\" \n",
    "style=\"color:blue; background-color:#dfa8e4\" data-toggle=\"popover\">Content</a>"
   ]
  },
  {
   "cell_type": "code",
   "execution_count": null,
   "id": "4343eaa8",
   "metadata": {},
   "outputs": [],
   "source": [
    "len(day)"
   ]
  },
  {
   "cell_type": "code",
   "execution_count": null,
   "id": "a7fa4317-1c05-4c90-87b8-4b362423975b",
   "metadata": {},
   "outputs": [],
   "source": [
    "type(day_of_total_bill)"
   ]
  },
  {
   "cell_type": "code",
   "execution_count": null,
   "id": "be0b8a25",
   "metadata": {},
   "outputs": [],
   "source": [
    "day_of_total_bill.index"
   ]
  },
  {
   "cell_type": "code",
   "execution_count": null,
   "id": "ac54a4d7",
   "metadata": {},
   "outputs": [],
   "source": [
    "day_of_total_bill.values"
   ]
  },
  {
   "cell_type": "code",
   "execution_count": null,
   "id": "a754fbce",
   "metadata": {},
   "outputs": [],
   "source": [
    "day_tip"
   ]
  },
  {
   "cell_type": "markdown",
   "id": "0ee15ae6-0707-4eeb-aaea-5c0de3432595",
   "metadata": {},
   "source": [
    "[matplotlib.axes.Axes.bar](https://matplotlib.org/stable/api/_as_gen/matplotlib.axes.Axes.bar.html)"
   ]
  },
  {
   "cell_type": "code",
   "execution_count": null,
   "id": "QwEeX5Unk0wC",
   "metadata": {
    "colab": {
     "base_uri": "https://localhost:8080/",
     "height": 320
    },
    "id": "QwEeX5Unk0wC",
    "outputId": "343e3a6e-c3a9-4f66-bb42-d1cead712342"
   },
   "outputs": [],
   "source": [
    "# Taking control of matplotlib features\n",
    "\n",
    "fig, ax = plt.subplots(figsize=(10, 5))\n",
    "\n",
    "p = np.arange(len(day))\n",
    "width = 0.40\n",
    "\n",
    "# shift left and right of the x-tick\n",
    "ax.bar(p - width/2, day_of_total_bill, width, label=\"total_bill\")\n",
    "ax.bar(p + width/2, day_tip,           width, label=\"tip\")\n",
    "\n",
    "# no shifting, superimpose\n",
    "# ax.bar(p, day_of_total_bill, width, label=\"total_bill\")\n",
    "# ax.bar(p, day_tip,           width, label=\"tip\")\n",
    "\n",
    "ax.set_xticks(p)\n",
    "ax.set_xticklabels(day)\n",
    "\n",
    "plt.legend()\n",
    "plt.show()"
   ]
  },
  {
   "cell_type": "code",
   "execution_count": null,
   "id": "9DPOGkeZk0tX",
   "metadata": {
    "id": "9DPOGkeZk0tX"
   },
   "outputs": [],
   "source": [
    "fig, ax = plt.subplots(figsize=(10, 5))\n",
    "\n",
    "width = 0.20\n",
    "\n",
    "ax.bar(-0.1, day_of_total_bill, width, label=\"total_bill\");"
   ]
  },
  {
   "cell_type": "code",
   "execution_count": null,
   "id": "9b9e1c9a",
   "metadata": {},
   "outputs": [],
   "source": [
    "fig, ax = plt.subplots(figsize=(10, 5))\n",
    "\n",
    "width = 0.20\n",
    "\n",
    "ax.bar(-0.1 - width/2, day_of_total_bill, width, label=\"total_bill\");"
   ]
  },
  {
   "cell_type": "markdown",
   "id": "robust-wisdom",
   "metadata": {
    "id": "robust-wisdom"
   },
   "source": [
    "## <p style=\"background-color:#9d4f8c; font-family:newtimeroman; color:#FFF9ED; font-size:150%; text-align:center; border-radius:10px 10px;\">HISTOGRAM</p>\n",
    "\n",
    "<a id=\"5\"></a>\n",
    "<a href=\"#toc\" class=\"btn btn-primary btn-sm\" role=\"button\" aria-pressed=\"true\" \n",
    "style=\"color:blue; background-color:#dfa8e4\" data-toggle=\"popover\">Content</a>"
   ]
  },
  {
   "cell_type": "markdown",
   "id": "05cb51f6",
   "metadata": {},
   "source": [
    "![Capture9.PNG](https://i.ibb.co/pnmw683/Capture9.png)"
   ]
  },
  {
   "cell_type": "code",
   "execution_count": null,
   "id": "33770d81-47a3-4cdf-8221-ff69bc51addd",
   "metadata": {},
   "outputs": [],
   "source": []
  },
  {
   "cell_type": "code",
   "execution_count": null,
   "id": "cZrSONmG8GXX",
   "metadata": {
    "colab": {
     "base_uri": "https://localhost:8080/"
    },
    "id": "cZrSONmG8GXX",
    "outputId": "6191684b-9eaf-4288-8772-2cd42f9c7d5f"
   },
   "outputs": [],
   "source": [
    "np.random.randn(10)"
   ]
  },
  {
   "cell_type": "code",
   "execution_count": null,
   "id": "continent-sperm",
   "metadata": {
    "colab": {
     "base_uri": "https://localhost:8080/",
     "height": 265
    },
    "id": "continent-sperm",
    "outputId": "1eb000ad-c94d-4433-e1c4-eca80aafea71"
   },
   "outputs": [],
   "source": [
    "np.random.seed(42)\n",
    "\n",
    "x = np.random.randn(2500)\n",
    "plt.hist(x, bins=30)\n",
    "plt.show()"
   ]
  },
  {
   "cell_type": "markdown",
   "id": "10338995-bc67-4640-92a8-636ee7bbfd11",
   "metadata": {},
   "source": [
    "* [Random Generator in numpy](https://numpy.org/doc/stable/reference/random/generator.html)\n",
    "* [numpy.random.normal](https://numpy.org/doc/stable/reference/random/generated/numpy.random.normal.html)\n",
    "* [Generator.normal](https://numpy.org/doc/stable/reference/random/generated/numpy.random.Generator.normal.html)"
   ]
  },
  {
   "cell_type": "code",
   "execution_count": null,
   "id": "sharp-answer",
   "metadata": {
    "colab": {
     "base_uri": "https://localhost:8080/",
     "height": 265
    },
    "id": "sharp-answer",
    "outputId": "7b9567da-4117-4a99-e38e-f0dc29954fad"
   },
   "outputs": [],
   "source": [
    "# center =170, sd = 10, n=5500\n",
    "\n",
    "rng = np.random.default_rng(42) # old way: np.random.seed(42)\n",
    "\n",
    "x = rng.normal(170, 10 , 5500)  # alpha=0.5\n",
    "plt.hist(x, bins=50 )\n",
    "plt.show()"
   ]
  },
  {
   "cell_type": "code",
   "execution_count": null,
   "id": "eab1a90e",
   "metadata": {},
   "outputs": [],
   "source": [
    "tips"
   ]
  },
  {
   "cell_type": "code",
   "execution_count": null,
   "id": "1Fbf3L2-ca1v",
   "metadata": {
    "colab": {
     "base_uri": "https://localhost:8080/",
     "height": 265
    },
    "id": "1Fbf3L2-ca1v",
    "outputId": "451c6fb1-163d-4674-de6c-206e629578f0"
   },
   "outputs": [],
   "source": [
    "plt.hist(tips['total_bill'], bins=30 )\n",
    "plt.show()"
   ]
  },
  {
   "cell_type": "code",
   "execution_count": null,
   "id": "_bMzECY3cbLX",
   "metadata": {
    "colab": {
     "base_uri": "https://localhost:8080/",
     "height": 265
    },
    "id": "_bMzECY3cbLX",
    "outputId": "df48b1f2-551c-4685-ed2c-ed720278ee1c"
   },
   "outputs": [],
   "source": [
    "plt.hist(tips['tip'], bins=30 )\n",
    "plt.show()"
   ]
  },
  {
   "cell_type": "markdown",
   "id": "bca54923",
   "metadata": {
    "id": "HIoZmGPic2ya"
   },
   "source": [
    "## <p style=\"background-color:#9d4f8c; font-family:newtimeroman; color:#FFF9ED; font-size:150%; text-align:center; border-radius:10px 10px;\">BOX PLOT</p>\n",
    "\n",
    "<a id=\"6\"></a>\n",
    "<a href=\"#toc\" class=\"btn btn-primary btn-sm\" role=\"button\" aria-pressed=\"true\" \n",
    "style=\"color:blue; background-color:#dfa8e4\" data-toggle=\"popover\">Content</a>"
   ]
  },
  {
   "cell_type": "markdown",
   "id": "happy-original",
   "metadata": {
    "id": "happy-original"
   },
   "source": [
    "A `box plot` is a way of statistically representing the *distribution* of the data through five main dimensions:\n",
    "\n",
    "*   **Minimum:** The smallest number in the dataset excluding the outliers.\n",
    "*   **First quartile:** Middle number between the `minimum` and the `median`.\n",
    "*   **Second quartile (Median):** Middle number of the (sorted) dataset.\n",
    "*   **Third quartile:** Middle number between `median` and `maximum`.\n",
    "*   **Maximum:** The largest number in the dataset excluding the outliers.\n",
    "\n",
    "[SOURCE 01](https://matplotlib.org/3.1.1/api/_as_gen/matplotlib.pyplot.boxplot.html), [SOURCE 02](https://towardsdatascience.com/creating-boxplots-of-well-log-data-using-matplotlib-in-python-34c3816e73f4), [SOURCE 03](https://stackabuse.com/matplotlib-box-plot-tutorial-and-examples/), [SOURCE 04](https://www.tutorialspoint.com/matplotlib/matplotlib_box_plot.htm), [SOURCE 05](https://blog.finxter.com/matplotlib-boxplot/), [SOURCE 06](https://www.youtube.com/watch?v=qb6krT2k3xw) & [SOURCE 07](https://youtu.be/xAoljeRJ3lU)"
   ]
  },
  {
   "cell_type": "markdown",
   "id": "aa6ff07a",
   "metadata": {},
   "source": [
    "![Capture10.PNG](https://i.ibb.co/dpg2XkM/Capture10.png)"
   ]
  },
  {
   "cell_type": "markdown",
   "id": "cx13fXFNlUXD",
   "metadata": {
    "id": "cx13fXFNlUXD"
   },
   "source": [
    "<img src=\"https://i.ibb.co/25bZJ9w/boxplot-complete.png\" width=440, align=\"center\">"
   ]
  },
  {
   "cell_type": "code",
   "execution_count": null,
   "id": "roman-delivery",
   "metadata": {
    "colab": {
     "base_uri": "https://localhost:8080/",
     "height": 266
    },
    "id": "roman-delivery",
    "outputId": "737464d2-12e6-4f2f-8574-03eee7c6ba35"
   },
   "outputs": [],
   "source": [
    "import matplotlib.pyplot as plt\n",
    "import numpy as np\n",
    "\n",
    "X = rng.normal(170, 10, 250)\n",
    "\n",
    "plt.boxplot(X)\n",
    "plt.show() "
   ]
  },
  {
   "cell_type": "code",
   "execution_count": null,
   "id": "tk6lc-vifDGu",
   "metadata": {
    "colab": {
     "base_uri": "https://localhost:8080/",
     "height": 265
    },
    "id": "tk6lc-vifDGu",
    "outputId": "2561f2c2-d175-47be-c009-74212b74eedb"
   },
   "outputs": [],
   "source": [
    "# X = np.random.normal(170, 10, 250)\n",
    "\n",
    "plt.boxplot(X, vert=False);\n",
    "# plt.show() "
   ]
  },
  {
   "cell_type": "markdown",
   "id": "ceda6cfd-cfa0-4ad0-bdf9-9c5221789866",
   "metadata": {},
   "source": [
    "[numpy.random.rand](https://numpy.org/doc/stable/reference/random/generated/numpy.random.rand.html)"
   ]
  },
  {
   "cell_type": "code",
   "execution_count": null,
   "id": "b748fd6b-ee78-49de-ba98-023f2bce0fa8",
   "metadata": {
    "colab": {
     "base_uri": "https://localhost:8080/",
     "height": 265
    },
    "id": "ecological-cargo",
    "outputId": "608d8d57-555e-449c-904a-f4262ec9168d"
   },
   "outputs": [],
   "source": [
    "box = np.array(np.random.rand(10, 4))  # shape, uniform between [0, 1)\n",
    "box"
   ]
  },
  {
   "cell_type": "code",
   "execution_count": null,
   "id": "9285d962-3005-46e8-99d5-7655bfd076e8",
   "metadata": {
    "colab": {
     "base_uri": "https://localhost:8080/",
     "height": 265
    },
    "id": "ecological-cargo",
    "outputId": "608d8d57-555e-449c-904a-f4262ec9168d"
   },
   "outputs": [],
   "source": [
    "plt.boxplot(box, labels=['A', 'B', 'C', 'D'])\n",
    "plt.show()"
   ]
  },
  {
   "cell_type": "code",
   "execution_count": null,
   "id": "S3o4bEBtdyaG",
   "metadata": {
    "id": "S3o4bEBtdyaG"
   },
   "outputs": [],
   "source": [
    "# ? np.random.rand"
   ]
  },
  {
   "cell_type": "code",
   "execution_count": null,
   "id": "directed-accreditation",
   "metadata": {
    "colab": {
     "base_uri": "https://localhost:8080/",
     "height": 265
    },
    "id": "directed-accreditation",
    "outputId": "0e77273a-4dca-4600-dac5-794851042428"
   },
   "outputs": [],
   "source": [
    "plt.boxplot(tips['tip'])\n",
    "plt.show(); "
   ]
  },
  {
   "cell_type": "code",
   "execution_count": null,
   "id": "60228623",
   "metadata": {},
   "outputs": [],
   "source": [
    "tips.head(3)"
   ]
  },
  {
   "cell_type": "code",
   "execution_count": null,
   "id": "processed-learning",
   "metadata": {
    "colab": {
     "base_uri": "https://localhost:8080/",
     "height": 266
    },
    "id": "processed-learning",
    "outputId": "cb7e6d1b-2c2f-44f3-ee6c-f523ccc75c15"
   },
   "outputs": [],
   "source": [
    "plt.boxplot(tips.iloc[:, 0:2], labels=['total_bill', 'tip'])\n",
    "plt.show() "
   ]
  },
  {
   "cell_type": "markdown",
   "id": "square-throat",
   "metadata": {
    "id": "square-throat"
   },
   "source": [
    "## <p style=\"background-color:#9d4f8c; font-family:newtimeroman; color:#FFF9ED; font-size:150%; text-align:center; border-radius:10px 10px;\">PIE CHART</p>\n",
    "\n",
    "<a id=\"7\"></a>\n",
    "<a href=\"#toc\" class=\"btn btn-primary btn-sm\" role=\"button\" aria-pressed=\"true\" \n",
    "style=\"color:blue; background-color:#dfa8e4\" data-toggle=\"popover\">Content</a>\n",
    "\n",
    "A `pie chart` is a circular graphic that displays numeric proportions by dividing a circle (or pie) into proportional slices. You are most likely already familiar with pie charts as it is widely used in business and media. We can create pie charts in Matplotlib by passing in the `kind=pie` keyword.\n",
    "\n",
    "[SOURCE 01](https://matplotlib.org/stable/gallery/pie_and_polar_charts/pie_features.html), [SOURCE 02](https://www.tutorialspoint.com/matplotlib/matplotlib_pie_chart.htm), [SOURCE 03](https://pythonguides.com/matplotlib-pie-chart/), [SOURCE 04](https://stackabuse.com/matplotlib-pie-chart-tutorial-and-examples/), [SOURCE 05](https://www.youtube.com/watch?v=MPiz50TsyF0) & [SOURCE 06](https://www.youtube.com/watch?v=oUe2Q2yz5tM)"
   ]
  },
  {
   "cell_type": "markdown",
   "id": "eac6279b",
   "metadata": {},
   "source": [
    "![Capture11.PNG](https://i.ibb.co/stSwj18/Capture11.png)"
   ]
  },
  {
   "cell_type": "code",
   "execution_count": null,
   "id": "phantom-dream",
   "metadata": {
    "colab": {
     "base_uri": "https://localhost:8080/",
     "height": 466
    },
    "id": "phantom-dream",
    "outputId": "f067d2c9-ba4b-4442-f69c-bb23d464dd14"
   },
   "outputs": [],
   "source": [
    "plt.figure(figsize=(10, 8))\n",
    "\n",
    "y = np.array([35, 25, 25, 15])\n",
    "mylabels = [\"Apples\", \"Bananas\", \"Cherries\", \"Dates\"]\n",
    "\n",
    "plt.pie(y, labels=mylabels, labeldistance=0.25, autopct=\"%.1f\")\n",
    "plt.show()"
   ]
  },
  {
   "cell_type": "markdown",
   "id": "QUEt22QFmabN",
   "metadata": {
    "id": "QUEt22QFmabN"
   },
   "source": [
    "The above visual is not very clear, the numbers and text overlap in some instances. Let's make a few modifications to improve the visuals:\n",
    "\n",
    "*   Remove the text labels on the pie chart by passing in `legend` and add it as a seperate legend using `plt.legend()`.\n",
    "*   Push out the percentages to sit just outside the pie chart by passing in `pctdistance` parameter.\n",
    "*   Pass in a custom set of colors for continents by passing in `colors` parameter.\n",
    "*   **Explode** the pie chart to emphasize the lowest three continents (Bananas, Dates and Cherries) by passing in `explode` parameter."
   ]
  },
  {
   "cell_type": "code",
   "execution_count": null,
   "id": "lucky-appliance",
   "metadata": {
    "colab": {
     "base_uri": "https://localhost:8080/",
     "height": 466
    },
    "id": "lucky-appliance",
    "outputId": "9713d725-cf97-471f-c5cd-16ee2f59d950"
   },
   "outputs": [],
   "source": [
    "plt.figure(figsize=(10, 8))\n",
    "\n",
    "y = np.array([35, 25, 25, 15])\n",
    "mylabels = [\"Apples\", \"Bananas\", \"Cherries\", \"Dates\"]\n",
    "myexplode = [0.1, 0, 0, 0]\n",
    "\n",
    "plt.pie(y, labels = mylabels, explode=myexplode, labeldistance=None, autopct=\"%.1f\")\n",
    "plt.legend()\n",
    "plt.show()"
   ]
  },
  {
   "cell_type": "code",
   "execution_count": null,
   "id": "steady-green",
   "metadata": {
    "colab": {
     "base_uri": "https://localhost:8080/",
     "height": 466
    },
    "id": "steady-green",
    "outputId": "19ac9e79-f921-4d0f-81cd-0b71c9e34b14"
   },
   "outputs": [],
   "source": [
    "plt.figure(figsize=(10, 8))\n",
    "\n",
    "colors_list = ['gold', 'yellowgreen', 'lightcoral', 'lightskyblue', 'lightgreen', 'pink']\n",
    "explode_list = [0, 0, 0.1, 0.1] # ratio for each continent with which to offset each wedge.\n",
    "\n",
    "\n",
    "y = np.array([25, 35, 25, 15])\n",
    "mylabels = [\"Bananas\", \"Apples\", \"Cherries\", \"Dates\"]\n",
    "myexplode = [0.1, 0, 0, 0]\n",
    "\n",
    "plt.pie(y, \n",
    "        labels = mylabels,\n",
    "        labeldistance=0.7, \n",
    "        autopct=\"%.1f\", \n",
    "        startangle=90, \n",
    "        shadow=True, \n",
    "        pctdistance=1.1, \n",
    "        colors=colors_list, \n",
    "        explode=explode_list)\n",
    "\n",
    "plt.legend()\n",
    "plt.show()"
   ]
  },
  {
   "cell_type": "markdown",
   "id": "worst-samoa",
   "metadata": {
    "id": "worst-samoa"
   },
   "source": [
    "![image.png](https://i.ibb.co/qk9y7sC/datavisualizatinwithpython.jpg)"
   ]
  },
  {
   "cell_type": "code",
   "execution_count": null,
   "id": "parental-cooperation",
   "metadata": {
    "colab": {
     "base_uri": "https://localhost:8080/",
     "height": 203
    },
    "id": "parental-cooperation",
    "outputId": "3cb5c756-35cd-4cf5-e4a0-a9a919646c18"
   },
   "outputs": [],
   "source": [
    "tips = sns.load_dataset(\"tips\")\n",
    "tips.head()"
   ]
  },
  {
   "cell_type": "code",
   "execution_count": null,
   "id": "terminal-maker",
   "metadata": {
    "colab": {
     "base_uri": "https://localhost:8080/",
     "height": 282
    },
    "id": "terminal-maker",
    "outputId": "8f9fd346-8d58-49cf-99ed-fb3fdc7b16a0"
   },
   "outputs": [],
   "source": [
    "tips.plot();"
   ]
  },
  {
   "cell_type": "code",
   "execution_count": null,
   "id": "yellow-seeking",
   "metadata": {
    "colab": {
     "base_uri": "https://localhost:8080/",
     "height": 282
    },
    "id": "yellow-seeking",
    "outputId": "4b1d15c7-a7a9-46b1-aad2-7ce072ac56e9"
   },
   "outputs": [],
   "source": [
    "tips.iloc[:, 0:2].plot();"
   ]
  },
  {
   "cell_type": "markdown",
   "id": "geographic-equipment",
   "metadata": {
    "id": "geographic-equipment"
   },
   "source": [
    "## <p style=\"background-color:#9d4f8c; font-family:newtimeroman; color:#FFF9ED; font-size:150%; text-align:center; border-radius:10px 10px;\">PANDAS SCATTER</p>\n",
    "\n",
    "<a id=\"8\"></a>\n",
    "<a href=\"#toc\" class=\"btn btn-primary btn-sm\" role=\"button\" aria-pressed=\"true\" \n",
    "style=\"color:blue; background-color:#dfa8e4\" data-toggle=\"popover\">Content</a>\n",
    "\n",
    "[SOURCE 01](https://pandas.pydata.org/pandas-docs/version/0.25.0/reference/api/pandas.DataFrame.plot.scatter.html), [SOURCE 02](https://www.geeksforgeeks.org/pandas-scatter-plot-dataframe-plot-scatter/#:~:text=A%20Scatter%20plot%20is%20a,relationship%20between%20two%20numerical%20variables.&text=Calling%20the%20scatter()%20method,two%20columns%20of%20pandas%20DataFrame.), [SOURCE 03](https://data36.com/scatter-plot-pandas-matplotlib/), [SOURCE 04](https://pythontic.com/pandas/dataframe-plotting/scatter%20plot), [SOURCE 05](https://saralgyaan.com/posts/matplotlib-tutorial-in-python-chapter-6-scatter-plotting/), [SOURCE 06](https://www.youtube.com/watch?v=0IKz-KxDCuM), [SOURCE 07](https://www.youtube.com/watch?v=DWhwQ1_oXnw), [SOURCE 08](https://www.youtube.com/watch?v=i_H5fjqRUDE) & [SOURCE 09](https://www.youtube.com/watch?v=9q-d7TzRjG0&t=28s)"
   ]
  },
  {
   "cell_type": "code",
   "execution_count": null,
   "id": "directed-brain",
   "metadata": {
    "colab": {
     "base_uri": "https://localhost:8080/",
     "height": 296
    },
    "id": "directed-brain",
    "outputId": "7aab1956-8be4-490e-90b8-d430e842b1df"
   },
   "outputs": [],
   "source": [
    "tips.plot.scatter(x='tip', y='total_bill');"
   ]
  },
  {
   "cell_type": "code",
   "execution_count": null,
   "id": "greater-savannah",
   "metadata": {
    "colab": {
     "base_uri": "https://localhost:8080/",
     "height": 296
    },
    "id": "greater-savannah",
    "outputId": "0d85cb7e-4262-4291-efb1-9f8c95a66fb7"
   },
   "outputs": [],
   "source": [
    "tips.plot(kind=\"scatter\", x='tip', y='total_bill');"
   ]
  },
  {
   "cell_type": "markdown",
   "id": "speaking-composer",
   "metadata": {
    "id": "speaking-composer"
   },
   "source": [
    "## <p style=\"background-color:#9d4f8c; font-family:newtimeroman; color:#FFF9ED; font-size:150%; text-align:center; border-radius:10px 10px;\">PANDAS BAR PLOT</p>\n",
    "\n",
    "<a id=\"9\"></a>\n",
    "<a href=\"#toc\" class=\"btn btn-primary btn-sm\" role=\"button\" aria-pressed=\"true\" \n",
    "style=\"color:blue; background-color:#dfa8e4\" data-toggle=\"popover\">Content</a>\n",
    "\n",
    "[SOURCE 01](https://pandas.pydata.org/docs/reference/api/pandas.DataFrame.plot.bar.html), [SOURCE 02](https://pythontic.com/pandas/dataframe-plotting/bar%20chart), [SOURCE 03](https://stackoverflow.com/questions/29498652/plot-bar-graph-from-pandas-dataframe), [SOURCE 04](https://www.youtube.com/watch?v=lRPisI6kzLg), [SOURCE 05](https://www.youtube.com/watch?v=lRPisI6kzLg) & [SOURCE 06](https://youtu.be/lomuFOEGLSM)"
   ]
  },
  {
   "cell_type": "code",
   "execution_count": null,
   "id": "JfOm3eU4Ffk3",
   "metadata": {
    "colab": {
     "base_uri": "https://localhost:8080/",
     "height": 279
    },
    "id": "JfOm3eU4Ffk3",
    "outputId": "98380ff8-4fa8-493c-c6b0-4ce243cabc6a"
   },
   "outputs": [],
   "source": [
    "df = pd.DataFrame(np.random.rand(5, 4), columns=['a', 'b', 'c', 'd'])\n",
    "print(df)\n",
    "# df.plot.bar()\n",
    "df.plot.bar(rot=45)\n",
    "plt.legend(loc=(1.04, 0));"
   ]
  },
  {
   "cell_type": "code",
   "execution_count": null,
   "id": "ka9mTO-qFptY",
   "metadata": {
    "colab": {
     "base_uri": "https://localhost:8080/",
     "height": 279
    },
    "id": "ka9mTO-qFptY",
    "outputId": "cec8ac07-c038-48b4-f917-0d5ae1f77336"
   },
   "outputs": [],
   "source": [
    "df = pd.DataFrame(np.random.rand(5, 4), columns=['a', 'b', 'c', 'd'])\n",
    "df.plot.bar(stacked=True)\n",
    "plt.legend(loc=(1.04, 0));"
   ]
  },
  {
   "cell_type": "code",
   "execution_count": null,
   "id": "T1f6-TyYBAV9",
   "metadata": {
    "colab": {
     "base_uri": "https://localhost:8080/",
     "height": 309
    },
    "id": "T1f6-TyYBAV9",
    "outputId": "8f75f4ac-6029-4330-b112-7225c7a65f52"
   },
   "outputs": [],
   "source": [
    "tips.groupby(\"day\")[\"tip\"].sum().plot.bar(x=\"day\", y=\"tip\");"
   ]
  },
  {
   "cell_type": "code",
   "execution_count": null,
   "id": "optical-command",
   "metadata": {
    "colab": {
     "base_uri": "https://localhost:8080/",
     "height": 322
    },
    "id": "optical-command",
    "outputId": "588b85f2-a203-4e02-9fe6-890aac4076ba"
   },
   "outputs": [],
   "source": [
    "tips.groupby(\"sex\")[\"tip\"].sum().plot.bar(x=\"sex\", y=\"tip\");"
   ]
  },
  {
   "cell_type": "markdown",
   "id": "d6c20708",
   "metadata": {
    "id": "exotic-recipient"
   },
   "source": [
    "## <p style=\"background-color:#9d4f8c; font-family:newtimeroman; color:#FFF9ED; font-size:150%; text-align:center; border-radius:10px 10px;\">PANDAS HISTOGRAM</p>\n",
    "\n",
    "<a id=\"10\"></a>\n",
    "<a href=\"#toc\" class=\"btn btn-primary btn-sm\" role=\"button\" aria-pressed=\"true\" \n",
    "style=\"color:blue; background-color:#dfa8e4\" data-toggle=\"popover\">Content</a>\n",
    "\n",
    "[SOURCE 01](https://pandas.pydata.org/docs/reference/api/pandas.DataFrame.hist.html), [SOURCE 02](https://www.machinelearningplus.com/pandas/pandas-histogram/), [SOURCE 03](https://www.dataindependent.com/pandas/pandas-histogram/), [SOURCE 04](https://www.tutorialspoint.com/python-plot-a-histogram-for-pandas-dataframe-with-matplotlib), [SOURCE 05](https://www.youtube.com/watch?v=zNvxJNQhmRs) & [SOURCE 06](https://youtu.be/zNvxJNQhmRs)"
   ]
  },
  {
   "cell_type": "code",
   "execution_count": null,
   "id": "changed-eclipse",
   "metadata": {
    "colab": {
     "base_uri": "https://localhost:8080/",
     "height": 282
    },
    "id": "changed-eclipse",
    "outputId": "8111b737-cf42-4b43-ca7f-f275455544dd"
   },
   "outputs": [],
   "source": [
    "tips.plot.hist(bins=50);"
   ]
  },
  {
   "cell_type": "markdown",
   "id": "e9dd95d8-1c1b-441f-9e0b-d91bcfbe369c",
   "metadata": {},
   "source": [
    "[DataFrame.diff](https://pandas.pydata.org/pandas-docs/stable/reference/api/pandas.DataFrame.diff.html)"
   ]
  },
  {
   "cell_type": "code",
   "execution_count": null,
   "id": "national-founder",
   "metadata": {
    "colab": {
     "base_uri": "https://localhost:8080/",
     "height": 281
    },
    "id": "national-founder",
    "outputId": "bb59195c-2449-4b4d-f814-188d4299b574"
   },
   "outputs": [],
   "source": [
    "tips[[\"tip\", \"total_bill\", \"size\"]].diff().hist(bins=10)\n",
    "plt.show()"
   ]
  },
  {
   "cell_type": "code",
   "execution_count": null,
   "id": "e920022e-b640-4a93-b7c5-feba4bdf2cfc",
   "metadata": {},
   "outputs": [],
   "source": [
    "# ? pd.DataFrame.diff"
   ]
  },
  {
   "cell_type": "markdown",
   "id": "academic-universal",
   "metadata": {
    "id": "academic-universal"
   },
   "source": [
    "## <p style=\"background-color:#9d4f8c; font-family:newtimeroman; color:#FFF9ED; font-size:150%; text-align:center; border-radius:10px 10px;\">PANDAS BOX PLOT</p>\n",
    "\n",
    "<a id=\"11\"></a>\n",
    "<a href=\"#toc\" class=\"btn btn-primary btn-sm\" role=\"button\" aria-pressed=\"true\" \n",
    "style=\"color:blue; background-color:#dfa8e4\" data-toggle=\"popover\">Content</a>\n",
    "\n",
    "a box plot is a method for graphically depicting groups of numerical data through their quartiles.\n",
    "\n",
    "a box plot generally shows median, 25th and 75th percentiles, and outliers.\n",
    "\n",
    "[SOURCE 01](https://pandas.pydata.org/docs/reference/api/pandas.DataFrame.boxplot.html), [SOURCE 02](https://www.educative.io/edpresso/how-to-make-a-boxplot-in-pandas), [SOURCE 03](https://stackoverflow.com/questions/38120688/how-do-i-create-a-box-plot-for-each-column-in-a-pandas-dataframe) & [SOURCE 04](https://www.youtube.com/watch?v=TJDYXmE1swY)"
   ]
  },
  {
   "cell_type": "code",
   "execution_count": null,
   "id": "lucky-history",
   "metadata": {
    "colab": {
     "base_uri": "https://localhost:8080/",
     "height": 266
    },
    "id": "lucky-history",
    "outputId": "e9616d3e-d7a3-4e62-c17a-ec2548657c2e"
   },
   "outputs": [],
   "source": [
    "tips.plot.box();"
   ]
  },
  {
   "cell_type": "markdown",
   "id": "bClfS9TyEkWO",
   "metadata": {
    "id": "bClfS9TyEkWO"
   },
   "source": [
    "## <p style=\"background-color:#9d4f8c; font-family:newtimeroman; color:#FFF9ED; font-size:150%; text-align:center; border-radius:10px 10px;\">PANDAS PIE CHART</p>\n",
    "\n",
    "<a id=\"12\"></a>\n",
    "<a href=\"#toc\" class=\"btn btn-primary btn-sm\" role=\"button\" aria-pressed=\"true\" \n",
    "style=\"color:blue; background-color:#dfa8e4\" data-toggle=\"popover\">Content</a>\n",
    "\n",
    "[SOURCE 01](https://pandas.pydata.org/docs/reference/api/pandas.DataFrame.plot.pie.html), [SOURCE 02](https://www.plus2net.com/python/pandas-dataframe-plot-pie.php), [SOURCE 03](https://blog.finxter.com/boxplot-the-pandas-plotting-module/), [SOURCE 04](https://youtu.be/yWwlVsiefWQ), [SOURCE 05](https://www.youtube.com/watch?v=kX5oTJoadJ8) & [SOURCE 06](https://www.youtube.com/watch?v=tWEYMIJdxjk)"
   ]
  },
  {
   "cell_type": "code",
   "execution_count": null,
   "id": "c75ff806",
   "metadata": {},
   "outputs": [],
   "source": [
    "tips.head()"
   ]
  },
  {
   "cell_type": "code",
   "execution_count": null,
   "id": "7c6bd945",
   "metadata": {},
   "outputs": [],
   "source": [
    "tips.groupby(\"day\").sum()"
   ]
  },
  {
   "cell_type": "code",
   "execution_count": null,
   "id": "32Z_OFZMDIYN",
   "metadata": {
    "colab": {
     "base_uri": "https://localhost:8080/",
     "height": 303
    },
    "id": "32Z_OFZMDIYN",
    "outputId": "d92c4cd3-eaee-4092-f70c-8a6a46063d89"
   },
   "outputs": [],
   "source": [
    "tips.groupby(\"day\").sum().plot.pie(subplots=True, figsize=(18, 5), autopct=\"%.2f\", labeldistance=0.8)\n",
    "plt.legend()\n",
    "plt.show()"
   ]
  },
  {
   "cell_type": "markdown",
   "id": "46f527ed",
   "metadata": {},
   "source": [
    "## <p style=\"background-color:#9d4f8c; font-family:newtimeroman; color:#FFF9ED; font-size:150%; text-align:center; border-radius:10px 10px;\">KERNEL DENSITY ESTIMATION (KDE)</p>\n",
    "\n",
    "<a id=\"13\"></a>\n",
    "<a href=\"#toc\" class=\"btn btn-primary btn-sm\" role=\"button\" aria-pressed=\"true\" \n",
    "style=\"color:blue; background-color:#dfa8e4\" data-toggle=\"popover\">Content</a>\n",
    "\n",
    "[SOURCE 01](https://pandas.pydata.org/docs/reference/api/pandas.DataFrame.plot.kde.html), [SOURCE 02](https://www.geeksforgeeks.org/kde-plot-visualization-with-pandas-and-seaborn/) & [SOURCE 03](https://neptune.ai/blog/pandas-plot-deep-dive-into-plotting-directly-with-pandas)"
   ]
  },
  {
   "cell_type": "code",
   "execution_count": null,
   "id": "third-thesis",
   "metadata": {
    "colab": {
     "base_uri": "https://localhost:8080/",
     "height": 269
    },
    "id": "third-thesis",
    "outputId": "5f3de400-07d0-445d-a523-248a5fd21852"
   },
   "outputs": [],
   "source": [
    "df_kde = pd.Series(np.random.randn(1000))\n",
    "\n",
    "df_kde.plot.kde();"
   ]
  },
  {
   "cell_type": "code",
   "execution_count": null,
   "id": "solid-nevada",
   "metadata": {
    "colab": {
     "base_uri": "https://localhost:8080/",
     "height": 282
    },
    "id": "solid-nevada",
    "outputId": "4c4233a9-0f60-46ae-c608-9a8437cf30f0"
   },
   "outputs": [],
   "source": [
    "tips.groupby(\"day\")[\"size\", \"tip\"].sum().plot.kde();"
   ]
  },
  {
   "cell_type": "markdown",
   "id": "coated-august",
   "metadata": {
    "id": "coated-august"
   },
   "source": [
    "## <p style=\"background-color:#9d4f8c; font-family:newtimeroman; color:#FFF9ED; font-size:150%; text-align:center; border-radius:10px 10px;\">3-DIMENSIONAL PLOTTING IN MATPLOTLIB</p>\n",
    "\n",
    "<a id=\"14\"></a>\n",
    "<a href=\"#toc\" class=\"btn btn-primary btn-sm\" role=\"button\" aria-pressed=\"true\" \n",
    "style=\"color:blue; background-color:#dfa8e4\" data-toggle=\"popover\">Content</a>\n",
    "\n",
    "![image.png](https://i.ibb.co/TKhTf2g/3d-plots.png)\n",
    "\n",
    "Matplotlib was introduced with only two-dimensional plotting in mind. But by the time release 1.0 occurred, the 3d utilities had been and thus, we have 3d plots available today! The 3d plots are enabled by importing the mplot3d toolkit. \n",
    "\n",
    "[SOURCE 01](https://www.tutorialspoint.com/matplotlib/matplotlib_three_dimensional_plotting.htm), [SOURCE 02](https://towardsdatascience.com/an-easy-introduction-to-3d-plotting-with-matplotlib-801561999725), [SOURCE 03](https://www.geeksforgeeks.org/three-dimensional-plotting-in-python-using-matplotlib/), [SOURCE 04](https://jakevdp.github.io/PythonDataScienceHandbook/04.12-three-dimensional-plotting.html), [SOURCE 05](https://www.youtube.com/watch?v=gqoLLGgbeAE) & [SOURCE 06](https://www.youtube.com/watch?v=6ljHxJQ47Uk)"
   ]
  },
  {
   "cell_type": "code",
   "execution_count": null,
   "id": "phantom-briefing",
   "metadata": {
    "colab": {
     "base_uri": "https://localhost:8080/",
     "height": 248
    },
    "id": "phantom-briefing",
    "outputId": "7cb4fd07-d27d-4387-eb00-1250d3dd09b8"
   },
   "outputs": [],
   "source": [
    "from mpl_toolkits import mplot3d\n",
    "\n",
    "fig = plt.figure(figsize=(12, 8))\n",
    "ax = plt.axes(projection='3d')"
   ]
  },
  {
   "cell_type": "code",
   "execution_count": null,
   "id": "duplicate-fabric",
   "metadata": {
    "colab": {
     "base_uri": "https://localhost:8080/",
     "height": 265
    },
    "id": "duplicate-fabric",
    "outputId": "1a54ca50-efb9-4f4b-a538-b9d9838098ad"
   },
   "outputs": [],
   "source": [
    "# Data for a three-dimensional line\n",
    "\n",
    "zline = np.linspace(0, 15, 1000)\n",
    "xline = np.sin(zline)\n",
    "yline = np.cos(zline)\n",
    "\n",
    "fig = plt.figure(figsize=(12, 8))\n",
    "ax = fig.add_subplot(projection='3d')\n",
    "\n",
    "ax.plot3D(xline, yline, zline, 'gray');"
   ]
  },
  {
   "cell_type": "code",
   "execution_count": null,
   "id": "eiGQGbF7QVID",
   "metadata": {
    "colab": {
     "base_uri": "https://localhost:8080/",
     "height": 248
    },
    "id": "eiGQGbF7QVID",
    "outputId": "97e37919-5893-473d-acbf-8eee75fc5c6d"
   },
   "outputs": [],
   "source": [
    "# Data for three-dimensional scattered points\n",
    "\n",
    "zdata = 15 * np.random.random(100)\n",
    "xdata = np.sin(zdata) + 0.1 * np.random.randn(100)\n",
    "ydata = np.cos(zdata) + 0.1 * np.random.randn(100)\n",
    "\n",
    "fig = plt.figure(figsize=(12, 8))\n",
    "ax = fig.add_subplot(projection='3d')\n",
    "\n",
    "ax.scatter3D(xdata, ydata, zdata, c=zdata, cmap='Reds');"
   ]
  },
  {
   "cell_type": "code",
   "execution_count": null,
   "id": "informal-marine",
   "metadata": {
    "colab": {
     "base_uri": "https://localhost:8080/",
     "height": 417
    },
    "id": "informal-marine",
    "outputId": "83cf6142-c7f8-489a-b699-34f69615b7bd"
   },
   "outputs": [],
   "source": [
    "flights = sns.load_dataset(\"flights\")\n",
    "flights"
   ]
  },
  {
   "cell_type": "markdown",
   "id": "12312899",
   "metadata": {},
   "source": [
    "## <p style=\"background-color:#9d4f8c; font-family:newtimeroman; color:#FFF9ED; font-size:150%; text-align:center; border-radius:10px 10px;\">THE END OF THE MATPLOTLIB SESSION 02</p>\n",
    "\n",
    "<a id=\"15\"></a>\n",
    "<a href=\"#toc\" class=\"btn btn-primary btn-sm\" role=\"button\" aria-pressed=\"true\" \n",
    "style=\"color:blue; background-color:#dfa8e4\" data-toggle=\"popover\">Content</a>"
   ]
  },
  {
   "cell_type": "markdown",
   "id": "e084f69f",
   "metadata": {},
   "source": [
    "___\n",
    "\n",
    "<p style=\"text-align: center;\"><img src=\"https://docs.google.com/uc?id=1lY0Uj5R04yMY3-ZppPWxqCr5pvBLYPnV\" class=\"img-fluid\" alt=\"CLRSWY\"></p>\n",
    "\n",
    "## <p style=\"background-color:#FDFEFE; font-family:newtimeroman; color:#9d4f8c; font-size:100%; text-align:center; border-radius:10px 10px;\">WAY TO REINVENT YOURSELF</p>\n",
    "___"
   ]
  }
 ],
 "metadata": {
  "colab": {
   "collapsed_sections": [],
   "name": "2S-Matplotlib_Pandas.ipynb",
   "provenance": []
  },
  "kernelspec": {
   "display_name": "Python 3 (ipykernel)",
   "language": "python",
   "name": "python3"
  },
  "language_info": {
   "codemirror_mode": {
    "name": "ipython",
    "version": 3
   },
   "file_extension": ".py",
   "mimetype": "text/x-python",
   "name": "python",
   "nbconvert_exporter": "python",
   "pygments_lexer": "ipython3",
   "version": "3.9.15"
  }
 },
 "nbformat": 4,
 "nbformat_minor": 5
}
