{
 "cells": [
  {
   "cell_type": "markdown",
   "id": "8941b8d7",
   "metadata": {
    "deletable": false,
    "editable": false
   },
   "source": [
    "<a href=\"https://clarusway.com/contact-us/\"><img align=\"center\" src=\"https://i.ibb.co/B43qn24/officially-licensed-logo.png\" alt=\"Open in Clarusway LMS\" width=\"110\" height=\"200\" title=\"This notebook is licensed by Clarusway IT training school. Please contact the authorized persons about the conditions under which you can use or share.\"></a>"
   ]
  },
  {
   "cell_type": "markdown",
   "id": "a1a62752",
   "metadata": {},
   "source": [
    "\n",
    "<p style=\"text-align: center;\"><a href=\"https://lms.clarusway.com/mod/lesson/view.php?id=2463&pageid=4531&startlastseen=no\"><img align=\"center\" src=\"https://i.ibb.co/6Z5pQxD/lmss.png\" alt=\"Open in Clarusway LMS\" width=\"70\" height=\"200\" title=\"Open Clarusway Learning Management Sytem\"></a>\n",
    "\n",
    "<a href=\"https://github.com/4dsolutions/clarusway_data_analysis/blob/main/DVwPY_S2/DVwPy_S02_Matplotlib_Part02%20%26%20Pandas_V02.ipynb\"><img align=\"left\" src=\"https://i.ibb.co/n3HWyQX/github-logo.png\" alt=\"Open in Clarusway GitHub\" width=\"110\" height=\"150\" title=\"Open and Execute in Clarusway GitHub Repository\"></a>\n",
    "\n",
    "<a href=\"https://nbviewer.org/github/4dsolutions/clarusway_data_analysis/blob/main/DVwPY_S2/DVwPy_S02_Matplotlib_Part02%20%26%20Pandas_V02.ipynb\"><img align=\"right\" src=\"https://i.ibb.co/48wtV8c/nbviewer-badge.png\" alt=\"Open in nbviewer\" width=\"100\" height=\"100\" title=\"Open and Execute in nbviewer\"></a><br/>\n",
    "\n",
    "<hr>\n",
    "\n",
    "<br/>\n",
    "\n",
    "<hr>\n",
    "\n",
    "<p style=\"text-align: center;\"><img src=\"https://i.ibb.co/Rpz9L36/clarusway-logo-black.png\" width=\"500\" height=\"200\" class=\"img-fluid\" alt=\"CLRSWY_LOGO\"></p>\n",
    "\n",
    "<p style=\"text-align: center;\"><img src=\"https://i.ibb.co/XS0bxSH/best-bootcamps.png\" width=\"300\" height=\"200\" class=\"img-fluid\" alt=\"CLRSWY_LOGO\"></p>\n",
    "\n",
    "<p style=\"background-color:#E51A59; font-family:newtimeroman; color:#FDFEFE; font-size:130%; text-align:center; border-radius:10px 10px;\">WAY TO REINVENT YOURSELF</p>\n",
    "\n",
    "<p style=\"text-align: center;\"><img src=\"https://i.ibb.co/99DQ3TY/DS-Courses.png\" class=\"img-fluid\" \n",
    "alt=\"CLRSWY_Courses\"></p>"
   ]
  },
  {
   "cell_type": "markdown",
   "id": "22142974",
   "metadata": {},
   "source": [
    "<a id=\"toc\"></a>\n",
    "\n",
    "## <p style=\"background-color:#9d4f8c; font-family:newtimeroman; color:#FFF9ED; font-size:150%; text-align:center; border-radius:10px 10px;\">CONTENT</p>\n",
    "\n",
    "* [IMPORTING LIBRARIES NEEDED IN THIS NOTEBOOK](#0)\n",
    "* [REVIEW](#1)\n",
    "    * [Subplot](#1.1)\n",
    "    * [Optional](#1.2)\n",
    "* [SPECIAL PLOT TYPES](#2)\n",
    "* [SCATTER PLOT](#3)\n",
    "* [BAR PLOT](#4)\n",
    "    * [Optional](#4.1)\n",
    "* [HISTOGRAM](#5) \n",
    "* [BOX PLOT](#6)\n",
    "* [PIE CHART](#7)\n",
    "* [PANDAS SCATTER](#8) \n",
    "* [PANDAS BAR PLOT](#9)\n",
    "* [PANDAS HISTOGRAM](#10)\n",
    "* [PANDAS BOX PLOT](#11) \n",
    "* [PANDAS PIE CHART](#12)\n",
    "* [KERNEL DENSITY ESTIMATION (KDE)](#13)\n",
    "* [3-DIMENSIONAL PLOTTING IN MATPLOTLIB](#14)\n",
    "* [MATPLOTLIB CHEAT SHEET](#15)    \n",
    "* [THE END OF SESSION 02 / MATPLOTLIB - PART-02](#16)    "
   ]
  },
  {
   "cell_type": "markdown",
   "id": "445382ca",
   "metadata": {},
   "source": [
    "## <p style=\"background-color:#9d4f8c; font-family:newtimeroman; color:#FFF9ED; font-size:150%; text-align:center; border-radius:10px 10px;\">IMPORTING LIBRARIES NEEDED IN THIS NOTEBOOK</p>\n",
    "\n",
    "<a id=\"0\"></a>\n",
    "<a href=\"#toc\" class=\"btn btn-primary btn-sm\" role=\"button\" aria-pressed=\"true\" \n",
    "style=\"color:blue; background-color:#dfa8e4\" data-toggle=\"popover\">Content</a>"
   ]
  },
  {
   "cell_type": "code",
   "execution_count": null,
   "id": "induced-pursuit",
   "metadata": {
    "id": "induced-pursuit"
   },
   "outputs": [],
   "source": [
    "import pandas as pd   # DAwPy\n",
    "import numpy as np   # DAwPy\n",
    "\n",
    "import seaborn as sns   # Stats-1 & DAwPy\n",
    "from scipy import stats   # Stats-1 & DAwPy\n",
    "from scipy.stats import kurtosis, skew   # Stats-1 & DAwPy\n",
    "\n",
    "import matplotlib\n",
    "import matplotlib.pyplot as plt  \n",
    "%matplotlib inline   \n",
    "\n",
    "import warnings;\n",
    "warnings.filterwarnings('ignore')"
   ]
  },
  {
   "cell_type": "code",
   "execution_count": null,
   "id": "consecutive-aspect",
   "metadata": {
    "id": "consecutive-aspect"
   },
   "outputs": [],
   "source": [
    "age = [25, 27, 29, 31, 33, 35, 37, 39, 41, 43, 45]\n",
    "\n",
    "salary = [38496, 42000, 46752, 49320, 53200, 56000, 62316, 64928, 67317, 68748, 73752]\n",
    "\n",
    "salary_2 = [45372, 48876, 53850, 57287, 63016, 65998, 70003, 70000, 71496, 75370, 83640]"
   ]
  },
  {
   "cell_type": "markdown",
   "id": "631093d6",
   "metadata": {},
   "source": [
    "## <p style=\"background-color:#9d4f8c; font-family:newtimeroman; color:#FFF9ED; font-size:150%; text-align:center; border-radius:10px 10px;\">REVIEW</p>\n",
    "\n",
    "<a id=\"1\"></a>\n",
    "<a href=\"#toc\" class=\"btn btn-primary btn-sm\" role=\"button\" aria-pressed=\"true\" \n",
    "style=\"color:blue; background-color:#dfa8e4\" data-toggle=\"popover\">Content</a>"
   ]
  },
  {
   "cell_type": "code",
   "execution_count": null,
   "id": "narrow-marine",
   "metadata": {
    "colab": {
     "base_uri": "https://localhost:8080/",
     "height": 295
    },
    "id": "narrow-marine",
    "outputId": "620e66df-2291-4b9b-dd2e-7fbb8bf7c263"
   },
   "outputs": [],
   "source": [
    "# Functional Method\n",
    "plt.plot(age, salary, \"#fe3382\", ls=\"--\", lw=2, marker=\"8\")\n",
    "plt.xlabel(\"Age\")\n",
    "plt.ylabel(\"Salary\")\n",
    "plt.title(\"Salary by Age\")\n",
    "plt.show()"
   ]
  },
  {
   "cell_type": "code",
   "execution_count": null,
   "id": "defensive-washington",
   "metadata": {
    "colab": {
     "base_uri": "https://localhost:8080/",
     "height": 241
    },
    "id": "defensive-washington",
    "outputId": "870dcd5a-d6d2-4f75-acdb-baaab99ad81d"
   },
   "outputs": [],
   "source": [
    "# Object-Oriented Method\n",
    "fig, ax = plt.subplots()\n",
    "ax.plot(age, salary, \"#fe3382\", ls=\"--\", lw=2, marker=\"8\");"
   ]
  },
  {
   "cell_type": "markdown",
   "id": "29261576",
   "metadata": {},
   "source": [
    "There are various ways to plot multiple sets of data.\n",
    "\n",
    "- The most straight forward way is just to call `plot` multiple times."
   ]
  },
  {
   "cell_type": "code",
   "execution_count": null,
   "id": "desperate-oasis",
   "metadata": {
    "colab": {
     "base_uri": "https://localhost:8080/",
     "height": 265
    },
    "id": "desperate-oasis",
    "outputId": "b988be1c-0a53-46b7-d605-375a1e36145e"
   },
   "outputs": [],
   "source": [
    "# Functional Method\n",
    "plt.plot(age, salary, \"#fe3382\", ls=\"--\", lw=2, marker=\"8\", label=\"Salary\")\n",
    "plt.plot(age, salary_2, \"g\", ls=\"--\", lw=2, marker=\"8\", label = \"Salary 2\")\n",
    "plt.xlabel(\"Age\")\n",
    "plt.ylabel(\"Salary\")\n",
    "plt.title(\"Salary by Age\")\n",
    "plt.legend()\n",
    "plt.show()\n"
   ]
  },
  {
   "cell_type": "code",
   "execution_count": null,
   "id": "c7424136",
   "metadata": {},
   "outputs": [],
   "source": [
    "# Object-Oriented Method\n",
    "\n",
    "fig, ax = plt.subplots()\n",
    "ax.plot(age, salary)\n",
    "ax.plot(age, salary_2)"
   ]
  },
  {
   "cell_type": "markdown",
   "id": "4b9b95e5",
   "metadata": {},
   "source": [
    "### <p style=\"background-color:#9d4f8c; font-family:newtimeroman; color:#FFF9ED; font-size:150%; text-align:left; border-radius:10px 10px;\">Subplot</p>\n",
    "\n",
    "<a id=\"1.1\"></a>\n",
    "<a href=\"#toc\" class=\"btn btn-primary btn-sm\" role=\"button\" aria-pressed=\"true\" \n",
    "style=\"color:blue; background-color:#dfa8e4\" data-toggle=\"popover\">Content</a>\n",
    "\n",
    "<img src=https://i.ibb.co/mHHtNBx/eggs.jpg width=\"800\" height=\"200\">  Photo by Tengyart on Unsplash\n",
    "\n",
    "\n",
    "Sometimes it is helpful to compare different views of data side by side. To this end, Matplotlib has the concept of subplots: groups of smaller axes that can exist together within a single figure. These subplots might be insets, grids of plots, or other more complicated layouts.\n",
    "\n",
    "Matplotlib provides a convenient method called subplots to do this. Subplots mean a group of smaller axes (where each axis is a plot) that can exist together within a single figure.\n",
    "\n",
    "**🧐 [SOURCE 01](https://matplotlib.org/stable/gallery/subplots_axes_and_figures/subplots_demo.html), [SOURCE 02](https://www.machinelearningplus.com/plots/subplots-python-matplotlib/), [SOURCE 03](https://jakevdp.github.io/PythonDataScienceHandbook/04.08-multiple-subplots.html), [SOURCE 04](https://python-course.eu/numerical-programming/creating-subplots-in-matplotlib.php), [SOURCE 05](https://www.tutorialspoint.com/matplotlib/matplotlib_subplots_function.htm), [SOURCE 06](https://towardsdatascience.com/take-full-control-over-the-subplots-in-matplotlib-71b3bc11ff0b) & [SOURCE 07](https://www.youtube.com/watch?v=j4eGsLdh9ws)**"
   ]
  },
  {
   "cell_type": "code",
   "execution_count": null,
   "id": "indie-relations",
   "metadata": {
    "colab": {
     "base_uri": "https://localhost:8080/",
     "height": 213
    },
    "id": "indie-relations",
    "outputId": "46642f39-bfe0-4f26-a12f-3fa15267813c"
   },
   "outputs": [],
   "source": [
    "# Functional Method\n",
    "plt.subplot(2,1,1)\n",
    "plt.plot(age, salary, 'olive', ls='-.', lw='5')\n",
    "plt.subplot(2,1,2)\n",
    "plt.plot(age, salary_2, 'r8--');"
   ]
  },
  {
   "cell_type": "code",
   "execution_count": null,
   "id": "468aa383",
   "metadata": {},
   "outputs": [],
   "source": [
    "plt.subplot(2,1,1)\n",
    "plt.plot(age,salary)\n",
    "plt.subplot(2,1,2)\n",
    "plt.plot(age,salary_2)\n",
    "plt.tight_layout()\n",
    "plt.show()"
   ]
  },
  {
   "cell_type": "code",
   "execution_count": null,
   "id": "suitable-southwest",
   "metadata": {
    "colab": {
     "base_uri": "https://localhost:8080/",
     "height": 225
    },
    "id": "suitable-southwest",
    "outputId": "42bcaa7a-2f71-44bb-a935-aef2dbb309f3"
   },
   "outputs": [],
   "source": [
    "# Object-Oriented Method\n",
    "fig, (ax1,ax2) = plt.subplots(1,2, figsize=(10,5))\n",
    "\n",
    "fig.suptitle(\"Different Salary Levels by Age\", fontsize=25)\n",
    "\n",
    "ax1.plot(age,salary)\n",
    "# ax1.set_xlabel(\"Age\")\n",
    "ax1.set_ylabel(\"Salary\")\n",
    "ax2.plot(age,salary_2)\n",
    "# ax2.set_xlabel(\"Age\")\n",
    "ax2.set_ylabel(\"Salary 2\")\n",
    "\n",
    "plt.tight_layout()"
   ]
  },
  {
   "cell_type": "markdown",
   "id": "56fa989d",
   "metadata": {},
   "source": [
    "### <p style=\"background-color:#9d4f8c; font-family:newtimeroman; color:#FFF9ED; font-size:150%; text-align:left; border-radius:10px 10px;\">Optional</p>\n",
    "\n",
    "<a id=\"1.2\"></a>\n",
    "<a href=\"#toc\" class=\"btn btn-primary btn-sm\" role=\"button\" aria-pressed=\"true\" \n",
    "style=\"color:blue; background-color:#dfa8e4\" data-toggle=\"popover\">Content</a>"
   ]
  },
  {
   "cell_type": "code",
   "execution_count": null,
   "id": "39fbfb54",
   "metadata": {},
   "outputs": [],
   "source": [
    "# Functional Method\n",
    "\n",
    "rows, cols = 2, 3\n",
    "\n",
    "for i in range(1, rows*cols+1):\n",
    "    plt.subplot(rows, cols, i)\n",
    "    plt.text(0.5, 0.5, str((rows, cols, i)), fontsize=18, ha='center')\n",
    "    plt.title(f\"Subplot: {i}\")\n",
    "\n",
    "plt.suptitle(\"This is Functional Matplotlib Subplots Created By For Loop\")\n",
    "plt.tight_layout() \n",
    "\n",
    "plt.show()"
   ]
  },
  {
   "cell_type": "code",
   "execution_count": null,
   "id": "d8632778",
   "metadata": {},
   "outputs": [],
   "source": [
    "# Object-Oriented Method\n",
    "\n",
    "rows, cols = 2, 3\n",
    "\n",
    "fig, ax = plt.subplots(rows, cols,\n",
    "                       sharex=True, \n",
    "                       sharey=True)\n",
    "\n",
    "for i in range(rows):\n",
    "    for j in range(cols):\n",
    "        ax[i, j].text(0.5, 0.5, \n",
    "                      str((i, j)),\n",
    "                      fontsize=18, \n",
    "                      ha='center')\n",
    "        ax[i, j].set_title(f\"Subplot: {i,j}\")\n",
    "        \n",
    "plt.suptitle(\"This is Object Oriented Matplotlib Subplots Created By For Loop\")\n",
    "plt.tight_layout()\n",
    "\n",
    "plt.show()"
   ]
  },
  {
   "cell_type": "markdown",
   "id": "6350de08",
   "metadata": {},
   "source": [
    "**Adding Text Inside the Plot in Matplotlib**\n",
    "\n",
    "The ``matplotlib.pyplot.text()`` function is used to add text inside the plot. The syntax adds text at an arbitrary location of the axes. It also supports mathematical expressions.\n",
    "\n",
    "**Syntax:** **[matplotlib.pyplot.text(x, y, s, fontdict=None, **kwargs)](https://matplotlib.org/stable/api/_as_gen/matplotlib.pyplot.text.html)**\n",
    "\n",
    "Parameters:\n",
    "\n",
    "- where x, y – coordinates\n",
    "- s – text to be added inside the plot(string)\n",
    "- fontdict – optional parameter. It overrides the default text properties\n",
    "- **kwargs – text properties\n",
    "\n",
    "[SOURCE 01](https://matplotlib.org/stable/api/_as_gen/matplotlib.pyplot.text.html) & [SOURCE 02](https://www.geeksforgeeks.org/add-text-inside-the-plot-in-matplotlib/)"
   ]
  },
  {
   "cell_type": "markdown",
   "id": "36245525",
   "metadata": {},
   "source": [
    "🤔 ❓ **[How to add some text on a matplotlib figure in python?](https://www.moonbooks.org/Articles/How-to-add-some-text-on-a-matplotlib-figure-in-python-/)** ❓ 🤔"
   ]
  },
  {
   "cell_type": "markdown",
   "id": "e131bcc5",
   "metadata": {},
   "source": [
    "## <p style=\"background-color:#9d4f8c; font-family:newtimeroman; color:#FFF9ED; font-size:150%; text-align:center; border-radius:10px 10px;\">SPECIAL PLOT TYPES</p>\n",
    "\n",
    "<a id=\"2\"></a>\n",
    "<a href=\"#toc\" class=\"btn btn-primary btn-sm\" role=\"button\" aria-pressed=\"true\" \n",
    "style=\"color:blue; background-color:#dfa8e4\" data-toggle=\"popover\">Content</a>"
   ]
  },
  {
   "cell_type": "markdown",
   "id": "de88d69c",
   "metadata": {},
   "source": [
    "<img src=https://i.ibb.co/sCWGZCs/Capture6.png width=\"800\" height=\"200\">"
   ]
  },
  {
   "cell_type": "markdown",
   "id": "aJtfc-gHcwUY",
   "metadata": {
    "id": "aJtfc-gHcwUY"
   },
   "source": [
    "## <p style=\"background-color:#9d4f8c; font-family:newtimeroman; color:#FFF9ED; font-size:150%; text-align:center; border-radius:10px 10px;\">SCATTER PLOT</p>\n",
    "\n",
    "<a id=\"3\"></a>\n",
    "<a href=\"#toc\" class=\"btn btn-primary btn-sm\" role=\"button\" aria-pressed=\"true\" \n",
    "style=\"color:blue; background-color:#dfa8e4\" data-toggle=\"popover\">Content</a>\n",
    "\n",
    "A **[scatter plot](https://matplotlib.org/stable/api/_as_gen/matplotlib.pyplot.scatter.html)** (2D) is a useful method of comparing variables against each other. ``Scatter`` plots look similar to ``line plots`` in that they both map independent and dependent variables on a 2D graph. While the data points are connected together by a line in a line plot, they are not connected in a scatter plot. The data in a scatter plot is considered to express a trend. With further analysis using tools like regression, we can mathematically calculate this relationship and use it to predict trends outside the dataset.\n",
    "\n",
    "**[matplotlib.pyplot.scatter(x, y, s=None, c=None, marker=None, cmap=None, norm=None, vmin=None, vmax=None, alpha=None, linewidths=None, *, edgecolors=None, plotnonfinite=False, data=None, **kwargs)](https://matplotlib.org/stable/api/_as_gen/matplotlib.pyplot.scatter.html)**\n",
    "\n",
    "<img src=https://i.ibb.co/8bXD2Bj/Capture7.png width=\"800\" height=\"200\">"
   ]
  },
  {
   "cell_type": "raw",
   "id": "fb57fd34",
   "metadata": {},
   "source": [
    "plt.scatter(\n",
    "            x,\n",
    "            y,\n",
    "            s=None,\n",
    "            c=None,\n",
    "            marker=None,\n",
    "            cmap=None,\n",
    "            norm=None,\n",
    "            vmin=None,\n",
    "            vmax=None,\n",
    "            alpha=None,\n",
    "            linewidths=None,\n",
    "            *,\n",
    "            edgecolors=None,\n",
    "            plotnonfinite=False,\n",
    "            data=None,\n",
    "            **kwargs,\n",
    "            )\n",
    "\n",
    "Docstring:\n",
    "A scatter plot of *y* vs. *x* with varying marker size and/or color.\n",
    "\n",
    "Returns\n",
    "-------\n",
    "`~matplotlib.collections.PathCollection`"
   ]
  },
  {
   "cell_type": "code",
   "execution_count": null,
   "id": "70897924",
   "metadata": {},
   "outputs": [],
   "source": [
    "x = np.array([15, 17, 18, 17, 12, 17, 12, 19, 14, 11, 12, 19, 16, 13])\n",
    "y = np.array([99, 86, 87, 88, 81, 86, 93, 87, 94, 78, 77, 85, 86, 85])"
   ]
  },
  {
   "cell_type": "code",
   "execution_count": null,
   "id": "norman-haiti",
   "metadata": {
    "colab": {
     "base_uri": "https://localhost:8080/",
     "height": 268
    },
    "id": "norman-haiti",
    "outputId": "966633b7-67ca-4e82-8116-bc1c62827f4f"
   },
   "outputs": [],
   "source": [
    "# Functional Method\n",
    "print(x)\n",
    "print(y)\n",
    "\n",
    "plt.scatter(x, y, 10);"
   ]
  },
  {
   "cell_type": "code",
   "execution_count": null,
   "id": "e00bf13f",
   "metadata": {},
   "outputs": [],
   "source": [
    "y = np.random.randint(10, 100, 50)\n",
    "x = np.random.randint(10, 100, 50)"
   ]
  },
  {
   "cell_type": "code",
   "execution_count": null,
   "id": "jtjogzmS06XD",
   "metadata": {
    "colab": {
     "base_uri": "https://localhost:8080/",
     "height": 265
    },
    "id": "jtjogzmS06XD",
    "outputId": "15051aa0-6161-4e44-b7a7-f7c1e15a9509"
   },
   "outputs": [],
   "source": [
    "# Object-Oriented Method\n",
    "fig, ax = plt.subplots()\n",
    "\n",
    "ax.scatter(x,y);"
   ]
  },
  {
   "cell_type": "markdown",
   "id": "eb918471",
   "metadata": {},
   "source": [
    "**Let's work with one of the built-in datasets at Seaborn**"
   ]
  },
  {
   "cell_type": "code",
   "execution_count": null,
   "id": "624669e1",
   "metadata": {},
   "outputs": [],
   "source": [
    "# Let's remember the built-in datasets at Seaborn\n",
    "\n",
    "sns.get_dataset_names()"
   ]
  },
  {
   "cell_type": "code",
   "execution_count": null,
   "id": "xvr542FQb0GY",
   "metadata": {
    "colab": {
     "base_uri": "https://localhost:8080/",
     "height": 203
    },
    "id": "xvr542FQb0GY",
    "outputId": "bd85d76a-43e9-4132-8965-972c302ff19f"
   },
   "outputs": [],
   "source": [
    "# To plot a scatter plot we pick up \"tips\" dataset\n",
    "\n",
    "tips = sns.load_dataset(\"tips\")\n",
    "\n",
    "tips.head()"
   ]
  },
  {
   "cell_type": "code",
   "execution_count": null,
   "id": "e867d462",
   "metadata": {},
   "outputs": [],
   "source": [
    "tips.info()"
   ]
  },
  {
   "cell_type": "code",
   "execution_count": null,
   "id": "e748d4aa",
   "metadata": {},
   "outputs": [],
   "source": [
    "# Functional Method\n",
    "plt.scatter(tips[\"size\"], tips.total_bill);"
   ]
  },
  {
   "cell_type": "code",
   "execution_count": null,
   "id": "yrOi4kL_b0Dk",
   "metadata": {
    "colab": {
     "base_uri": "https://localhost:8080/",
     "height": 282
    },
    "id": "yrOi4kL_b0Dk",
    "outputId": "c10c3d78-fd61-4a8a-f08d-bbf1d2d2ecd9"
   },
   "outputs": [],
   "source": [
    "# Functional Method\n",
    "plt.figure(figsize=(12,6))\n",
    "\n",
    "plt.scatter(tips.tip, tips.total_bill, c=\"red\", s=100, edgecolor=\"k\", alpha=0.5)\n",
    "plt.xlabel(\"tip\")\n",
    "plt.ylabel(\"total_bill\");"
   ]
  },
  {
   "cell_type": "code",
   "execution_count": null,
   "id": "d8ee897b",
   "metadata": {},
   "outputs": [],
   "source": [
    "# Object-Oriented Method\n",
    "fig, ax = plt.subplots(figsize=(12,6))\n",
    "\n",
    "ax.scatter(tips.tip, tips.total_bill, s=100, c=\"#cd212e\", alpha=0.5);"
   ]
  },
  {
   "cell_type": "markdown",
   "id": "catholic-floating",
   "metadata": {
    "id": "catholic-floating"
   },
   "source": [
    "## <p style=\"background-color:#9d4f8c; font-family:newtimeroman; color:#FFF9ED; font-size:150%; text-align:center; border-radius:10px 10px;\">BAR PLOT</p>\n",
    "\n",
    "<a id=\"4\"></a>\n",
    "<a href=\"#toc\" class=\"btn btn-primary btn-sm\" role=\"button\" aria-pressed=\"true\" \n",
    "style=\"color:blue; background-color:#dfa8e4\" data-toggle=\"popover\">Content</a>\n",
    "\n",
    "Use bar charts to compare categories when you have at least one categorical or discrete variable. Each bar represents a summary value for one discrete level, where longer bars indicate higher values. Types of summary values include counts, sums, means, and standard deviations. Bar charts are also known as bar graphs.\n",
    "\n",
    "Bar charts highlight differences between categories or other discrete data. Look for differences between categories as a screening method for identifying possible relationships. If your dataset includes multiple [categorical variables](https://statisticsbyjim.com/glossary/categorical-variables/), bar charts can help you understand the relationship between them. [Source](https://statisticsbyjim.com/graphs/bar-charts/)\n",
    "\n",
    "\n",
    "**[matplotlib.pyplot.bar(x, height, width=0.8, bottom=None, *, align='center', data=None, **kwargs)](https://matplotlib.org/stable/api/_as_gen/matplotlib.pyplot.bar.html)**\n",
    "\n",
    "<img src=https://i.ibb.co/hK72Tnf/Capture8.png width=\"800\" height=\"200\">"
   ]
  },
  {
   "cell_type": "raw",
   "id": "b7d80314",
   "metadata": {},
   "source": [
    "ax.bar(\n",
    "        x,\n",
    "        height,\n",
    "        width=0.8,\n",
    "        bottom=None,\n",
    "        *,\n",
    "        align='center',\n",
    "        data=None,\n",
    "        **kwargs,\n",
    "       )\n",
    "\n",
    "Docstring:\n",
    "Make a bar plot.\n",
    "\n",
    "The bars are positioned at *x* with the given *align*\\ment. Their dimensions are given by *height* and *width*. The vertical baseline is *bottom* (default 0).\n",
    "\n",
    "Many parameters can take either a single value applying to all bars or a sequence of values, one for each bar.\n",
    "\n",
    "\n",
    "Returns\n",
    "-------\n",
    "`.BarContainer`\n",
    "    Container with all the bars and optionally errorbars.\n",
    "\n",
    "See Also\n",
    "--------\n",
    "barh : Plot a horizontal bar plot."
   ]
  },
  {
   "cell_type": "code",
   "execution_count": null,
   "id": "37223d0f",
   "metadata": {},
   "outputs": [],
   "source": [
    "langs = ['C', 'C++', 'Java', 'Python', 'PHP']\n",
    "students = [23, 17, 35, 29, 12]"
   ]
  },
  {
   "cell_type": "code",
   "execution_count": null,
   "id": "ca568076",
   "metadata": {},
   "outputs": [],
   "source": [
    "# Functional Method\n",
    "plt.figure(figsize=(10,4))\n",
    "\n",
    "plt.bar(langs, students)\n",
    "plt.xticks(rotation=45);"
   ]
  },
  {
   "cell_type": "code",
   "execution_count": null,
   "id": "changing-contents",
   "metadata": {
    "colab": {
     "base_uri": "https://localhost:8080/",
     "height": 265
    },
    "id": "changing-contents",
    "outputId": "84ba5d53-64f8-4159-b0a3-5d696a969965"
   },
   "outputs": [],
   "source": [
    "# Object-Oriented Method\n",
    "fig, ax = plt.subplots(figsize=(10,4))\n",
    "ax.bar(langs, students);"
   ]
  },
  {
   "cell_type": "markdown",
   "id": "1815537d",
   "metadata": {},
   "source": [
    "🤔 ❓ **How to make it Horizantal** ❓ 🤔"
   ]
  },
  {
   "cell_type": "code",
   "execution_count": null,
   "id": "a19d8a6d",
   "metadata": {},
   "outputs": [],
   "source": [
    "# Functional Method\n",
    "plt.figure(figsize=(10,4))\n",
    "\n",
    "plt.barh(langs, students);"
   ]
  },
  {
   "cell_type": "code",
   "execution_count": null,
   "id": "VGcMQl7Q2M1O",
   "metadata": {
    "colab": {
     "base_uri": "https://localhost:8080/",
     "height": 265
    },
    "id": "VGcMQl7Q2M1O",
    "outputId": "22245e96-e34f-4377-f885-58578afa4fc1"
   },
   "outputs": [],
   "source": [
    "# Object-Oriented Method\n",
    "fig, ax = plt.subplots(figsize=(10,4))\n",
    "ax.barh(langs, students);"
   ]
  },
  {
   "cell_type": "code",
   "execution_count": null,
   "id": "grGAdu7JbWQg",
   "metadata": {
    "colab": {
     "base_uri": "https://localhost:8080/",
     "height": 203
    },
    "id": "grGAdu7JbWQg",
    "outputId": "0c884116-ed95-44f0-c154-d2954e1aebd3"
   },
   "outputs": [],
   "source": [
    "tips.head()"
   ]
  },
  {
   "cell_type": "code",
   "execution_count": null,
   "id": "d48b1837",
   "metadata": {},
   "outputs": [],
   "source": [
    "pd.__version__"
   ]
  },
  {
   "cell_type": "code",
   "execution_count": null,
   "id": "1vOb5x10beZl",
   "metadata": {
    "colab": {
     "base_uri": "https://localhost:8080/",
     "height": 203
    },
    "id": "1vOb5x10beZl",
    "outputId": "a7eef0d9-cd2c-4950-cfe6-a04951ffce57"
   },
   "outputs": [],
   "source": [
    "tips.groupby(\"day\").sum(numeric_only=True)"
   ]
  },
  {
   "cell_type": "code",
   "execution_count": null,
   "id": "ba7fb4d1",
   "metadata": {},
   "outputs": [],
   "source": [
    "day_of_total_bill = tips.groupby(\"day\")[\"total_bill\"].sum()\n",
    "day_of_total_bill"
   ]
  },
  {
   "cell_type": "code",
   "execution_count": null,
   "id": "1295fb3b",
   "metadata": {},
   "outputs": [],
   "source": [
    "day_of_total_bill.index"
   ]
  },
  {
   "cell_type": "code",
   "execution_count": null,
   "id": "73336a91",
   "metadata": {},
   "outputs": [],
   "source": [
    "day_of_total_bill.values"
   ]
  },
  {
   "cell_type": "code",
   "execution_count": null,
   "id": "e8ca08be",
   "metadata": {},
   "outputs": [],
   "source": [
    "# Functional Method\n",
    "plt.bar(day_of_total_bill.index, day_of_total_bill.values);"
   ]
  },
  {
   "cell_type": "code",
   "execution_count": null,
   "id": "d4a58d79",
   "metadata": {},
   "outputs": [],
   "source": [
    "# Object Oriented Method\n",
    "fig, ax = plt.subplots()\n",
    "ax.bar(day_of_total_bill.index, day_of_total_bill);"
   ]
  },
  {
   "cell_type": "code",
   "execution_count": null,
   "id": "58b22cd1",
   "metadata": {},
   "outputs": [],
   "source": [
    "plt.barh(day_of_total_bill.index, day_of_total_bill.values);"
   ]
  },
  {
   "cell_type": "code",
   "execution_count": null,
   "id": "iP5Ei7FnbeRx",
   "metadata": {
    "colab": {
     "base_uri": "https://localhost:8080/",
     "height": 233
    },
    "id": "iP5Ei7FnbeRx",
    "outputId": "b6592071-d47e-43f3-84fd-d109aaa39496"
   },
   "outputs": [],
   "source": [
    "fig, ax = plt.subplots()\n",
    "ax.barh(day_of_total_bill.index, day_of_total_bill);"
   ]
  },
  {
   "cell_type": "code",
   "execution_count": null,
   "id": "ILVPkRU0ksdX",
   "metadata": {
    "colab": {
     "base_uri": "https://localhost:8080/"
    },
    "id": "ILVPkRU0ksdX",
    "outputId": "e2064854-d110-4059-e7fc-05ca277f61c7"
   },
   "outputs": [],
   "source": [
    "day_of_tip = tips.groupby(\"day\").tip.sum()\n",
    "day_of_tip"
   ]
  },
  {
   "cell_type": "code",
   "execution_count": null,
   "id": "9061589f",
   "metadata": {},
   "outputs": [],
   "source": [
    "# Functional Method\n",
    "plt.bar(day_of_tip.index, day_of_tip);"
   ]
  },
  {
   "cell_type": "code",
   "execution_count": null,
   "id": "22bcdb88",
   "metadata": {},
   "outputs": [],
   "source": [
    "# Object-Oriented Method\n",
    "fig, (ax1, ax2) = plt.subplots(1,2, figsize=(12,5))\n",
    "ax1.bar(day_of_tip.index, day_of_tip)\n",
    "ax1.set_ylabel(\"Tip\")\n",
    "ax1.set_title(\"Total Tips by Day\")\n",
    "\n",
    "ax2.bar(day_of_total_bill.index, day_of_total_bill)\n",
    "ax2.set_ylabel(\"Total Bill\")\n",
    "ax2.set_title(\"Total Bill by Day\");"
   ]
  },
  {
   "cell_type": "code",
   "execution_count": null,
   "id": "4b943c0b",
   "metadata": {},
   "outputs": [],
   "source": [
    "# Functional Method\n",
    "\n",
    "plt.bar(day_of_total_bill.index, day_of_total_bill, label=\"Total Bill\")\n",
    "plt.bar(day_of_tip.index, day_of_tip, label=\"Tip\")\n",
    "\n",
    "plt.legend();"
   ]
  },
  {
   "cell_type": "code",
   "execution_count": null,
   "id": "gT0ty6M-6dR3",
   "metadata": {
    "colab": {
     "base_uri": "https://localhost:8080/",
     "height": 337
    },
    "id": "gT0ty6M-6dR3",
    "outputId": "4460e928-4552-4d13-8e9a-9d740fd2b635"
   },
   "outputs": [],
   "source": [
    "# Object-Oriented Method\n",
    "\n",
    "day = day_of_total_bill.index\n",
    "\n",
    "fig, ax = plt.subplots(figsize=(10, 5))\n",
    "\n",
    "\n",
    "ax.bar(day, day_of_total_bill,  label=\"total_bill\")\n",
    "ax.bar(day, day_of_tip,            label=\"tip\")\n",
    "\n",
    "\n",
    "ax.axhline(y=1096.33, ls=\"--\", color=\"purple\")  # total_bill on Thursday\n",
    "ax.axhline(y=171.83, ls=\"--\", color=\"maroon\")  # total tip on Thursday\n",
    "ax.axhline(y=1268.1599999999999, ls=\"--\", color=\"yellow\")  # sum of total bill & tip on Thursday\n",
    "\n",
    "plt.legend();"
   ]
  },
  {
   "cell_type": "markdown",
   "id": "e3469c08",
   "metadata": {},
   "source": [
    "**Let's focus on Thursday to understand the numbers at the stacked bar plot**"
   ]
  },
  {
   "cell_type": "code",
   "execution_count": null,
   "id": "f8cbec9e",
   "metadata": {},
   "outputs": [],
   "source": [
    "tips.groupby(\"day\")[\"total_bill\"].sum()"
   ]
  },
  {
   "cell_type": "code",
   "execution_count": null,
   "id": "13e23ffd",
   "metadata": {},
   "outputs": [],
   "source": [
    "tips.groupby(\"day\")[\"tip\"].sum()"
   ]
  },
  {
   "cell_type": "code",
   "execution_count": null,
   "id": "c85f612b",
   "metadata": {},
   "outputs": [],
   "source": [
    "1096.33 + 171.83"
   ]
  },
  {
   "cell_type": "markdown",
   "id": "54436a17",
   "metadata": {},
   "source": [
    "### <p style=\"background-color:#9d4f8c; font-family:newtimeroman; color:#FFF9ED; font-size:150%; text-align:left; border-radius:10px 10px;\">Optional Bonus Hard-Coding</p>\n",
    "\n",
    "<a id=\"4.1\"></a>\n",
    "<a href=\"#toc\" class=\"btn btn-primary btn-sm\" role=\"button\" aria-pressed=\"true\" \n",
    "style=\"color:blue; background-color:#dfa8e4\" data-toggle=\"popover\">Content</a>"
   ]
  },
  {
   "cell_type": "code",
   "execution_count": null,
   "id": "ef95ab5d",
   "metadata": {},
   "outputs": [],
   "source": [
    "# Functional Method\n",
    "\n",
    "plt.figure(figsize=(10, 5))\n",
    "\n",
    "day = tips.groupby(\"day\").sum(numeric_only=True).index\n",
    "tip = tips.groupby(\"day\")[\"tip\"].sum()\n",
    "total = tips.groupby(\"day\")[\"total_bill\"].sum()\n",
    "\n",
    "plt.bar(day, total, label=\"total\", align=\"edge\")\n",
    "plt.bar(day, tip,   label=\"tip\",   align=\"edge\", width=0.6)\n",
    "\n",
    "plt.legend()\n",
    "\n",
    "plt.show()"
   ]
  },
  {
   "cell_type": "code",
   "execution_count": null,
   "id": "b79ee48f",
   "metadata": {},
   "outputs": [],
   "source": [
    "# Object-Oriented Method\n",
    "\n",
    "fig, ax = plt.subplots(figsize=(10, 5))\n",
    "\n",
    "day = tips.groupby(\"day\").sum(numeric_only=True).index\n",
    "tip = tips.groupby(\"day\")[\"tip\"].sum()\n",
    "total = tips.groupby(\"day\")[\"total_bill\"].sum()\n",
    "\n",
    "ax.bar(day, tip,   label=\"tip\",   align=\"edge\")\n",
    "ax.bar(day, total, label=\"total\", align=\"edge\", width=0.6)\n",
    "\n",
    "plt.legend()\n",
    "\n",
    "plt.show()"
   ]
  },
  {
   "cell_type": "markdown",
   "id": "28efbd5c",
   "metadata": {},
   "source": [
    "**What happened above?**"
   ]
  },
  {
   "cell_type": "code",
   "execution_count": null,
   "id": "4343eaa8",
   "metadata": {},
   "outputs": [],
   "source": [
    "len(day_of_total_bill)"
   ]
  },
  {
   "cell_type": "code",
   "execution_count": null,
   "id": "be0b8a25",
   "metadata": {},
   "outputs": [],
   "source": [
    "day_of_total_bill.index"
   ]
  },
  {
   "cell_type": "code",
   "execution_count": null,
   "id": "ac54a4d7",
   "metadata": {},
   "outputs": [],
   "source": [
    "day_of_total_bill.values"
   ]
  },
  {
   "cell_type": "code",
   "execution_count": null,
   "id": "a754fbce",
   "metadata": {},
   "outputs": [],
   "source": [
    "day_of_tip"
   ]
  },
  {
   "cell_type": "code",
   "execution_count": null,
   "id": "QwEeX5Unk0wC",
   "metadata": {
    "colab": {
     "base_uri": "https://localhost:8080/",
     "height": 320
    },
    "id": "QwEeX5Unk0wC",
    "outputId": "343e3a6e-c3a9-4f66-bb42-d1cead712342"
   },
   "outputs": [],
   "source": [
    "# Optional - hard-coding\n",
    "\n",
    "fig, ax = plt.subplots(figsize=(10, 5))\n",
    "\n",
    "p = np.arange(len(day_of_total_bill))\n",
    "width = 0.40\n",
    "\n",
    "ax.bar(p - width/2, day_of_total_bill, width, label=\"total_bill\")\n",
    "ax.bar(p + width/2, day_of_tip,        width, label=\"tip\")\n",
    "\n",
    "ax.set_xticks(p)\n",
    "ax.set_xticklabels(day)\n",
    "\n",
    "plt.legend()\n",
    "\n",
    "plt.show()"
   ]
  },
  {
   "cell_type": "markdown",
   "id": "08858405",
   "metadata": {},
   "source": [
    "**Let's dive into how \"width\" parameter works and how we can play with the center of a bar plot:**"
   ]
  },
  {
   "cell_type": "code",
   "execution_count": null,
   "id": "9DPOGkeZk0tX",
   "metadata": {
    "id": "9DPOGkeZk0tX"
   },
   "outputs": [],
   "source": [
    "fig, ax = plt.subplots(figsize=(10, 5))\n",
    "\n",
    "width = 0.20\n",
    "\n",
    "ax.bar(0, day_of_total_bill, width);"
   ]
  },
  {
   "cell_type": "code",
   "execution_count": null,
   "id": "9b9e1c9a",
   "metadata": {},
   "outputs": [],
   "source": [
    "fig, ax = plt.subplots(figsize=(10, 5))\n",
    "\n",
    "width = 0.20\n",
    "\n",
    "ax.bar(0 + width/2, day_of_total_bill, width);"
   ]
  },
  {
   "cell_type": "markdown",
   "id": "robust-wisdom",
   "metadata": {
    "id": "robust-wisdom"
   },
   "source": [
    "## <p style=\"background-color:#9d4f8c; font-family:newtimeroman; color:#FFF9ED; font-size:150%; text-align:center; border-radius:10px 10px;\">HISTOGRAM</p>\n",
    "\n",
    "<a id=\"5\"></a>\n",
    "<a href=\"#toc\" class=\"btn btn-primary btn-sm\" role=\"button\" aria-pressed=\"true\" \n",
    "style=\"color:blue; background-color:#dfa8e4\" data-toggle=\"popover\">Content</a>\n",
    "\n",
    "A histogram is a graph that shows the frequency of numerical data using rectangles. The height of a rectangle (the vertical axis) represents the distribution frequency of a variable (the amount, or how often that variable appears).\n",
    "\n",
    "**KEY TAKEAWAYS:**\n",
    "- A histogram is a bar graph-like representation of data that buckets a range of classes into columns along the horizontal x-axis.\n",
    "- The vertical y-axis represents the number count or percentage of occurrences in the data for each column\n",
    "- Columns can be used to visualize patterns of data distributions.\n",
    "\n",
    "**Histograms vs. Bar Charts**\n",
    "\n",
    "Both histograms and bar charts provide a visual display using columns, and people often use the terms interchangeably. Technically, however, a histogram represents the frequency distribution of variables in a data set. A bar graph typically represents a graphical comparison of discrete or categorical variables.\n",
    "\n",
    "**[matplotlib.pyplot.hist(x, bins=None, range=None, density=False, weights=None, cumulative=False, bottom=None, histtype='bar', align='mid', orientation='vertical', rwidth=None, log=False, color=None, label=None, stacked=False, *, data=None, **kwargs)](https://matplotlib.org/stable/api/_as_gen/matplotlib.pyplot.hist.html)**\n",
    "\n",
    "<img src=https://i.ibb.co/pnmw683/Capture9.png width=\"800\" height=\"200\">"
   ]
  },
  {
   "cell_type": "raw",
   "id": "6edc0735",
   "metadata": {},
   "source": [
    "plt.hist(\n",
    "         x,\n",
    "         bins=None,\n",
    "         range=None,\n",
    "         density=False,\n",
    "         weights=None,\n",
    "         cumulative=False,\n",
    "         bottom=None,\n",
    "         histtype='bar',\n",
    "         align='mid',\n",
    "         orientation='vertical',\n",
    "         rwidth=None,\n",
    "         log=False,\n",
    "         color=None,\n",
    "         label=None,\n",
    "         stacked=False,\n",
    "         *,\n",
    "         data=None,\n",
    "         **kwargs,\n",
    "        )\n",
    "\n",
    "Docstring:\n",
    "Plot a histogram.\n",
    "\n",
    "Returns\n",
    "-------\n",
    "n : array or list of arrays\n",
    "    The values of the histogram bins. See *density* and *weights* for a description of the possible semantics.  If input *x* is an array, then this is an array of length *nbins*. If input is a sequence of arrays ``[data1, data2, ...]``, then this is a list of arrays with the values of the histograms for each of the arrays in the same order.  The dtype of the array *n* (or of its element arrays) will always be float even if no weighting or normalization is used.\n",
    "\n",
    "bins : array\n",
    "    The edges of the bins. Length nbins + 1 (nbins left edges and right edge of last bin).  Always a single array even when multiple data sets are passed in.\n",
    "\n",
    "patches : `.BarContainer` or list of a single `.Polygon` or list of such objects Container of individual artists used to create the histogram or list of such containers if there are multiple input datasets."
   ]
  },
  {
   "cell_type": "code",
   "execution_count": null,
   "id": "cZrSONmG8GXX",
   "metadata": {
    "colab": {
     "base_uri": "https://localhost:8080/"
    },
    "id": "cZrSONmG8GXX",
    "outputId": "6191684b-9eaf-4288-8772-2cd42f9c7d5f"
   },
   "outputs": [],
   "source": [
    "np.random.randn(10)"
   ]
  },
  {
   "cell_type": "code",
   "execution_count": null,
   "id": "continent-sperm",
   "metadata": {
    "colab": {
     "base_uri": "https://localhost:8080/",
     "height": 265
    },
    "id": "continent-sperm",
    "outputId": "1eb000ad-c94d-4433-e1c4-eca80aafea71"
   },
   "outputs": [],
   "source": [
    "np.random.seed(42)\n",
    "x = np.random.randn(250)\n",
    "plt.hist(x, bins=30);"
   ]
  },
  {
   "cell_type": "code",
   "execution_count": null,
   "id": "sharp-answer",
   "metadata": {
    "colab": {
     "base_uri": "https://localhost:8080/",
     "height": 265
    },
    "id": "sharp-answer",
    "outputId": "7b9567da-4117-4a99-e38e-f0dc29954fad"
   },
   "outputs": [],
   "source": [
    "np.random.seed(42)\n",
    "x = np.random.normal(170,10,250)\n",
    "plt.hist(x, bins=10);"
   ]
  },
  {
   "cell_type": "markdown",
   "id": "2e1bc012",
   "metadata": {},
   "source": [
    "## BONUS CODE BLOCK\n",
    "\n",
    "🤔 ❓ **What are n, bins and patches in matplotlib** ❓ 🤔\n",
    "\n",
    "The hist() method returns n, bins and patches in matplotlib. Patches are the containers of individual artists used to create the histogram or list of such containers if there are multiple input datasets. Bins define the number of equal-width bins in the range."
   ]
  },
  {
   "cell_type": "code",
   "execution_count": null,
   "id": "9d7f3a47",
   "metadata": {},
   "outputs": [],
   "source": [
    "(n, bins, patches) = plt.hist(x, bins=10, label='hst')\n",
    "\n",
    "print(\"length of x :\", len(x))\n",
    "print(\"***\"*20)\n",
    "\n",
    "print(\"n       :\", n)\n",
    "print(\"***\"*20)\n",
    "\n",
    "print(\"bins    :\", bins)\n",
    "print(\"***\"*20)\n",
    "\n",
    "print(\"patches :\", patches)\n",
    "print(\"***\"*20)\n",
    "\n",
    "print(\"x_min   :\", x.min())\n",
    "print(\"***\"*20)\n",
    "\n",
    "print(\"x_max   :\", x.max())"
   ]
  },
  {
   "cell_type": "markdown",
   "id": "87b4f9ce",
   "metadata": {},
   "source": [
    "**Let's make practice with \"tips\" dataset:**"
   ]
  },
  {
   "cell_type": "code",
   "execution_count": null,
   "id": "eab1a90e",
   "metadata": {},
   "outputs": [],
   "source": [
    "tips"
   ]
  },
  {
   "cell_type": "code",
   "execution_count": null,
   "id": "1Fbf3L2-ca1v",
   "metadata": {
    "colab": {
     "base_uri": "https://localhost:8080/",
     "height": 265
    },
    "id": "1Fbf3L2-ca1v",
    "outputId": "451c6fb1-163d-4674-de6c-206e629578f0"
   },
   "outputs": [],
   "source": [
    "# Functional Method\n",
    "plt.hist(tips[\"total_bill\"], bins=15);"
   ]
  },
  {
   "cell_type": "code",
   "execution_count": null,
   "id": "9a227585",
   "metadata": {},
   "outputs": [],
   "source": [
    "# Object-Oriented Method\n",
    "fig, ax = plt.subplots()\n",
    "ax.hist(tips[\"total_bill\"], bins=15);"
   ]
  },
  {
   "cell_type": "code",
   "execution_count": null,
   "id": "_bMzECY3cbLX",
   "metadata": {
    "colab": {
     "base_uri": "https://localhost:8080/",
     "height": 265
    },
    "id": "_bMzECY3cbLX",
    "outputId": "df48b1f2-551c-4685-ed2c-ed720278ee1c"
   },
   "outputs": [],
   "source": [
    "plt.hist(tips[\"tip\"], bins=12);"
   ]
  },
  {
   "cell_type": "code",
   "execution_count": null,
   "id": "9f91ca17",
   "metadata": {},
   "outputs": [],
   "source": [
    "fig,ax = plt.subplots(1,2, figsize=(12,5))\n",
    "\n",
    "ax[0].hist(tips.total_bill)\n",
    "ax[0].set_title(\"Total Bill\")\n",
    "ax[1].hist(tips.tip)\n",
    "ax[1].set_title(\"Tip\");"
   ]
  },
  {
   "cell_type": "code",
   "execution_count": null,
   "id": "30703a9f",
   "metadata": {},
   "outputs": [],
   "source": [
    "len(tips)"
   ]
  },
  {
   "cell_type": "markdown",
   "id": "ec2b5c2a",
   "metadata": {},
   "source": [
    "**Be careful while deciding the number of bins and select optimum number of bins**\n",
    "\n",
    "🧐 **[How to decide on the number of bins of a Histogram?](https://medium.datadriveninvestor.com/how-to-decide-on-the-number-of-bins-of-a-histogram-3c36dc5b1cd8)**\n",
    "\n",
    "🧐 **[Choose Bin Sizes for Histograms in Easy Steps + Sturge’s Rule](https://www.statisticshowto.com/choose-bin-sizes-statistics/)**\n",
    "\n",
    "🧐 **[Calculating optimal number of bins in a histogram](https://stats.stackexchange.com/questions/798/calculating-optimal-number-of-bins-in-a-histogram)**\n",
    "\n",
    "🧐 **[What are the bins in a histogram and why are their size important?](https://www.google.com/url?sa=t&rct=j&q=&esrc=s&source=web&cd=&cad=rja&uact=8&ved=2ahUKEwiVtPaqqv75AhWaS_EDHT2fCLkQFnoECAoQAw&url=https%3A%2F%2Fwww.khanacademy.org%2Fmath%2Fstatistics-probability%2Fdisplaying-describing-data%2Fquantitative-data-graphs%2Fa%2Fhistograms-review&usg=AOvVaw2TihvmZKm1CMq5b7TcazQn0)**"
   ]
  },
  {
   "cell_type": "code",
   "execution_count": null,
   "id": "19b97996",
   "metadata": {},
   "outputs": [],
   "source": [
    "plt.hist(tips.total_bill, bins=244);"
   ]
  },
  {
   "cell_type": "markdown",
   "id": "bca54923",
   "metadata": {
    "id": "HIoZmGPic2ya"
   },
   "source": [
    "## <p style=\"background-color:#9d4f8c; font-family:newtimeroman; color:#FFF9ED; font-size:150%; text-align:center; border-radius:10px 10px;\">BOX PLOT</p>\n",
    "\n",
    "<a id=\"6\"></a>\n",
    "<a href=\"#toc\" class=\"btn btn-primary btn-sm\" role=\"button\" aria-pressed=\"true\" \n",
    "style=\"color:blue; background-color:#dfa8e4\" data-toggle=\"popover\">Content</a>"
   ]
  },
  {
   "cell_type": "markdown",
   "id": "happy-original",
   "metadata": {
    "id": "happy-original"
   },
   "source": [
    "A `box plot` is a way of statistically representing the *distribution* of the data through five main dimensions:\n",
    "\n",
    "*   **Minimum:** The smallest number in the dataset excluding the outliers.\n",
    "*   **First quartile:** Middle number between the `minimum` and the `median`.\n",
    "*   **Second quartile (Median):** Middle number of the (sorted) dataset.\n",
    "*   **Third quartile:** Middle number between `median` and `maximum`.\n",
    "*   **Maximum:** The largest number in the dataset excluding the outliers.\n",
    "\n",
    "[SOURCE 01](https://matplotlib.org/3.1.1/api/_as_gen/matplotlib.pyplot.boxplot.html), [SOURCE 02](https://towardsdatascience.com/creating-boxplots-of-well-log-data-using-matplotlib-in-python-34c3816e73f4), [SOURCE 03](https://stackabuse.com/matplotlib-box-plot-tutorial-and-examples/), [SOURCE 04](https://www.tutorialspoint.com/matplotlib/matplotlib_box_plot.htm), [SOURCE 05](https://blog.finxter.com/matplotlib-boxplot/), [SOURCE 06](https://www.youtube.com/watch?v=qb6krT2k3xw) & [SOURCE 07](https://youtu.be/xAoljeRJ3lU)\n",
    "\n",
    "**matplotlib.pyplot.boxplot(x, notch=None, sym=None, vert=None, whis=None, positions=None, widths=None, patch_artist=None, bootstrap=None, usermedians=None, conf_intervals=None, meanline=None, showmeans=None, showcaps=None, showbox=None, showfliers=None, boxprops=None, labels=None, flierprops=None, medianprops=None, meanprops=None, capprops=None, whiskerprops=None, manage_ticks=True, autorange=False, zorder=None, *, data=None)**\n",
    "\n",
    "<img src=https://i.ibb.co/dpg2XkM/Capture10.png width=\"800\" height=\"200\">\n",
    "\n",
    "<img src=\"https://i.ibb.co/25bZJ9w/boxplot-complete.png\" width=440, align=\"center\">"
   ]
  },
  {
   "cell_type": "raw",
   "id": "6be463dc",
   "metadata": {},
   "source": [
    "plt.boxplot(\n",
    "            x,\n",
    "            notch=None,\n",
    "            sym=None,\n",
    "            vert=None,\n",
    "            whis=None,\n",
    "            positions=None,\n",
    "            widths=None,\n",
    "            patch_artist=None,\n",
    "            bootstrap=None,\n",
    "            usermedians=None,\n",
    "            conf_intervals=None,\n",
    "            meanline=None,\n",
    "            showmeans=None,\n",
    "            showcaps=None,\n",
    "            showbox=None,\n",
    "            showfliers=None,\n",
    "            boxprops=None,\n",
    "            labels=None,\n",
    "            flierprops=None,\n",
    "            medianprops=None,\n",
    "            meanprops=None,\n",
    "            capprops=None,\n",
    "            whiskerprops=None,\n",
    "            manage_ticks=True,\n",
    "            autorange=False,\n",
    "            zorder=None,\n",
    "            *,\n",
    "            data=None,\n",
    "            )\n",
    "\n",
    "Docstring:\n",
    "Draw a box and whisker plot.\n",
    "\n",
    "The box extends from the first quartile (Q1) to the third quartile (Q3) of the data, with a line at the median. The whiskers extend from the box by 1.5x the inter-quartile range (IQR). Flier points are those past the end of the whiskers. See https://en.wikipedia.org/wiki/Box_plot for reference.\n",
    "\n",
    ".. code-block:: none\n",
    "\n",
    "          Q1-1.5IQR   Q1   median  Q3   Q3+1.5IQR\n",
    "                       |-----:-----|\n",
    "       o      |--------|     :     |--------|    o  o\n",
    "                       |-----:-----|\n",
    "     flier             <----------->            fliers\n",
    "                            IQR\n",
    "Returns\n",
    "-------\n",
    "dict\n",
    "  A dictionary mapping each component of the boxplot to a list of the `.Line2D` instances created. That dictionary has the\n",
    "  following keys (assuming vertical boxplots):\n",
    "\n",
    "  - ``boxes``: the main body of the boxplot showing the quartiles and the median's confidence intervals if enabled.\n",
    "\n",
    "  - ``medians``: horizontal lines at the median of each box.\n",
    "\n",
    "  - ``whiskers``: the vertical lines extending to the most extreme, non-outlier data points.\n",
    "\n",
    "  - ``caps``: the horizontal lines at the ends of the whiskers.\n",
    "\n",
    "  - ``fliers``: points representing data that extend beyond the whiskers (fliers).\n",
    "\n",
    "  - ``means``: points or lines representing the means."
   ]
  },
  {
   "cell_type": "code",
   "execution_count": null,
   "id": "3ddbcf46",
   "metadata": {},
   "outputs": [],
   "source": [
    "len(x)"
   ]
  },
  {
   "cell_type": "code",
   "execution_count": null,
   "id": "roman-delivery",
   "metadata": {
    "colab": {
     "base_uri": "https://localhost:8080/",
     "height": 266
    },
    "id": "roman-delivery",
    "outputId": "737464d2-12e6-4f2f-8574-03eee7c6ba35"
   },
   "outputs": [],
   "source": [
    "plt.boxplot(x);"
   ]
  },
  {
   "cell_type": "markdown",
   "id": "b7fcadf5",
   "metadata": {},
   "source": [
    "## BONUS CODE BLOCK"
   ]
  },
  {
   "cell_type": "code",
   "execution_count": null,
   "id": "1028bb90",
   "metadata": {},
   "outputs": [],
   "source": [
    "print(\"-----\" * 10)\n",
    "print('Count       :', len(x))\n",
    "print('Mean        :', np.mean(x))\n",
    "print('Q1          :', np.percentile(x, 25))\n",
    "print('Median(Q2)  :', np.median(x))\n",
    "print('Q3          :', np.percentile(x, 75))\n",
    "print('IQR         :', stats.iqr(x))\n",
    "print(\"-----\" * 10)\n",
    "print('Min         :', np.min(x))\n",
    "print('lower_lim   :', np.percentile(x, 25) - 1.5 * stats.iqr(x))\n",
    "print('upper_lim   :', np.percentile(x, 75) + 1.5 * stats.iqr(x))\n",
    "print('Max         :', np.max(x))\n",
    "print(\"-----\" * 10)\n",
    "print('Num_Outliers:', len(list(i for i in x if i > (np.percentile(x, 75) + 1.5 * stats.iqr(x)) or \\\n",
    "                              i < (np.percentile(x, 25) - 1.5 * stats.iqr(x)))))\n",
    "print('Outliers    :', list(i for i in x if i > (np.percentile(x, 75) + 1.5 * stats.iqr(x)) or \\\n",
    "                              i < (np.percentile(x, 25) - 1.5 * stats.iqr(x))))\n",
    "print(\"-----\" * 10)\n",
    "# print('Std         :', np.std(x))\n",
    "# print('Mode        :', stats.mode(x))\n",
    "# print('Range       :', np.max(x) - np.min(x))"
   ]
  },
  {
   "cell_type": "code",
   "execution_count": null,
   "id": "tk6lc-vifDGu",
   "metadata": {
    "colab": {
     "base_uri": "https://localhost:8080/",
     "height": 265
    },
    "id": "tk6lc-vifDGu",
    "outputId": "2561f2c2-d175-47be-c009-74212b74eedb"
   },
   "outputs": [],
   "source": [
    "plt.boxplot(x, vert=False);"
   ]
  },
  {
   "cell_type": "code",
   "execution_count": null,
   "id": "ecological-cargo",
   "metadata": {
    "colab": {
     "base_uri": "https://localhost:8080/",
     "height": 265
    },
    "id": "ecological-cargo",
    "outputId": "608d8d57-555e-449c-904a-f4262ec9168d"
   },
   "outputs": [],
   "source": [
    "np.random.seed(42)\n",
    "box = np.array(np.random.rand(10,4))\n",
    "plt.boxplot(box, labels=[\"A\", \"B\", \"C\", \"D\"]);"
   ]
  },
  {
   "cell_type": "code",
   "execution_count": null,
   "id": "217cbca0",
   "metadata": {},
   "outputs": [],
   "source": [
    "pd.DataFrame(box, columns=[\"A\", \"B\", \"C\", \"D\"])"
   ]
  },
  {
   "cell_type": "markdown",
   "id": "65ba292b",
   "metadata": {
    "id": "S3o4bEBtdyaG"
   },
   "source": [
    "**Let's make practice with \"tips\" dataset:**"
   ]
  },
  {
   "cell_type": "code",
   "execution_count": null,
   "id": "a7d8ad46",
   "metadata": {},
   "outputs": [],
   "source": [
    "tips"
   ]
  },
  {
   "cell_type": "code",
   "execution_count": null,
   "id": "directed-accreditation",
   "metadata": {
    "colab": {
     "base_uri": "https://localhost:8080/",
     "height": 265
    },
    "id": "directed-accreditation",
    "outputId": "0e77273a-4dca-4600-dac5-794851042428"
   },
   "outputs": [],
   "source": [
    "plt.boxplot(tips.tip);"
   ]
  },
  {
   "cell_type": "code",
   "execution_count": null,
   "id": "processed-learning",
   "metadata": {
    "colab": {
     "base_uri": "https://localhost:8080/",
     "height": 266
    },
    "id": "processed-learning",
    "outputId": "cb7e6d1b-2c2f-44f3-ee6c-f523ccc75c15"
   },
   "outputs": [],
   "source": [
    "plt.boxplot(tips.iloc[:,0:2], labels=[\"total_bill\", \"tip\"]);"
   ]
  },
  {
   "cell_type": "markdown",
   "id": "square-throat",
   "metadata": {
    "id": "square-throat"
   },
   "source": [
    "## <p style=\"background-color:#9d4f8c; font-family:newtimeroman; color:#FFF9ED; font-size:150%; text-align:center; border-radius:10px 10px;\">PIE CHART</p>\n",
    "\n",
    "<a id=\"7\"></a>\n",
    "<a href=\"#toc\" class=\"btn btn-primary btn-sm\" role=\"button\" aria-pressed=\"true\" \n",
    "style=\"color:blue; background-color:#dfa8e4\" data-toggle=\"popover\">Content</a>\n",
    "\n",
    "A `pie chart` is a circular graphic that displays numeric proportions by dividing a circle (or pie) into proportional slices. You are most likely already familiar with pie charts as it is widely used in business and media. We can create pie charts in Matplotlib by passing in the `kind=pie` keyword.\n",
    "\n",
    "[SOURCE 01](https://matplotlib.org/stable/gallery/pie_and_polar_charts/pie_features.html), [SOURCE 02](https://www.tutorialspoint.com/matplotlib/matplotlib_pie_chart.htm), [SOURCE 03](https://pythonguides.com/matplotlib-pie-chart/), [SOURCE 04](https://stackabuse.com/matplotlib-pie-chart-tutorial-and-examples/), [SOURCE 05](https://www.youtube.com/watch?v=MPiz50TsyF0) & [SOURCE 06](https://www.youtube.com/watch?v=oUe2Q2yz5tM)\n",
    "\n",
    "**matplotlib.pyplot.pie(x, explode=None, labels=None, colors=None, autopct=None, pctdistance=0.6, shadow=False, labeldistance=1.1, startangle=0, radius=1, counterclock=True, wedgeprops=None, textprops=None, center=(0, 0), frame=False, rotatelabels=False, *, normalize=True, data=None)**\n",
    "\n",
    "<img src=https://i.ibb.co/stSwj18/Capture11.png width=\"800\" height=\"200\">\n"
   ]
  },
  {
   "cell_type": "raw",
   "id": "d1ddecd6",
   "metadata": {},
   "source": [
    "plt.pie(\n",
    "        x,\n",
    "        explode=None,\n",
    "        labels=None,\n",
    "        colors=None,\n",
    "        autopct=None,\n",
    "        pctdistance=0.6,\n",
    "        shadow=False,\n",
    "        labeldistance=1.1,\n",
    "        startangle=0,\n",
    "        radius=1,\n",
    "        counterclock=True,\n",
    "        wedgeprops=None,\n",
    "        textprops=None,\n",
    "        center=(0, 0),\n",
    "        frame=False,\n",
    "        rotatelabels=False,\n",
    "        *,\n",
    "        normalize=True,\n",
    "        data=None,\n",
    "        )\n",
    "\n",
    "Docstring:\n",
    "Plot a pie chart.\n",
    "\n",
    "Make a pie chart of array *x*.  The fractional area of each wedge is given by ``x/sum(x)``.  If ``sum(x) < 1``, then the values of *x* give the fractional area directly and the array will not be normalized. The resulting pie will have an empty wedge of size ``1 - sum(x)``.\n",
    "\n",
    "The wedges are plotted counterclockwise, by default starting from the x-axis.\n",
    "\n",
    "Returns\n",
    "-------\n",
    "patches : list\n",
    "    A sequence of `matplotlib.patches.Wedge` instances\n",
    "\n",
    "texts : list\n",
    "    A list of the label `.Text` instances.\n",
    "\n",
    "autotexts : list\n",
    "    A list of `.Text` instances for the numeric labels. This will only be returned if the parameter *autopct* is not *None*.\n",
    "\n",
    "Notes\n",
    "-----\n",
    "The pie chart will probably look best if the figure and Axes are square, or the Axes aspect is equal. This method sets the aspect ratio of the axis to \"equal\". The Axes aspect ratio can be controlled with `.Axes.set_aspect`."
   ]
  },
  {
   "cell_type": "code",
   "execution_count": null,
   "id": "7c9b6110",
   "metadata": {},
   "outputs": [],
   "source": [
    "def pct(x):\n",
    "    return f\"%{round(x,2)}\""
   ]
  },
  {
   "cell_type": "code",
   "execution_count": null,
   "id": "phantom-dream",
   "metadata": {
    "colab": {
     "base_uri": "https://localhost:8080/",
     "height": 466
    },
    "id": "phantom-dream",
    "outputId": "f067d2c9-ba4b-4442-f69c-bb23d464dd14"
   },
   "outputs": [],
   "source": [
    "plt.figure(figsize=(10,8))\n",
    "mylabels=[\"Apples\", \"Bananas\", \"Cherries\", \"Dates\"]\n",
    "y = np.array([35,25,25,35])\n",
    "\n",
    "plt.pie(y, labels= mylabels, labeldistance=0.5, autopct = pct, );\n",
    "# plt.pie(y, labels= mylabels, labeldistance=0.5, autopct = lambda x: f\"%{round(x)}\");\n",
    "# plt.pie(y, labels= mylabels, labeldistance=0.5, autopct = \"%.2f\");"
   ]
  },
  {
   "cell_type": "markdown",
   "id": "QUEt22QFmabN",
   "metadata": {
    "id": "QUEt22QFmabN"
   },
   "source": [
    "The above visual is not very clear, the numbers and text overlap in some instances. Let's make a few modifications to improve the visuals:\n",
    "\n",
    "*   Remove the text labels on the pie chart by passing in `legend` and add it as a seperate legend using `plt.legend()`.\n",
    "*   Push out the percentages to sit just outside the pie chart by passing in `pctdistance` parameter.\n",
    "*   Pass in a custom set of colors for continents by passing in `colors` parameter.\n",
    "*   **Explode** the pie chart to emphasize the lowest three continents (Bananas, Apples, Dates and Cherries) by passing in `explode` parameter."
   ]
  },
  {
   "cell_type": "code",
   "execution_count": null,
   "id": "lucky-appliance",
   "metadata": {
    "colab": {
     "base_uri": "https://localhost:8080/",
     "height": 466
    },
    "id": "lucky-appliance",
    "outputId": "9713d725-cf97-471f-c5cd-16ee2f59d950"
   },
   "outputs": [],
   "source": [
    "plt.figure(figsize=(10,8))\n",
    "mylabels=[\"Apples\", \"Bananas\", \"Cherries\", \"Dates\"]\n",
    "y = np.array([55,25,15,35])\n",
    "myexplode = [0, 0, 0.1, 0]\n",
    "\n",
    "plt.pie(y, labels= mylabels, labeldistance=None, autopct = pct, explode= myexplode)\n",
    "plt.legend();"
   ]
  },
  {
   "cell_type": "code",
   "execution_count": null,
   "id": "steady-green",
   "metadata": {
    "colab": {
     "base_uri": "https://localhost:8080/",
     "height": 466
    },
    "id": "steady-green",
    "outputId": "19ac9e79-f921-4d0f-81cd-0b71c9e34b14"
   },
   "outputs": [],
   "source": [
    "plt.figure(figsize=(10,8))\n",
    "mylabels=[\"Apples\", \"Bananas\", \"Cherries\", \"Dates\"]\n",
    "y = np.array([55,25,15,35])\n",
    "myexplode = [0, 0, 0.1, 0]\n",
    "mycolors= [\"purple\", \"#FFC300\", \"#D0E63B\" , \"#47E9F1\", \"red\", \"g\", \"gold\"]\n",
    "\n",
    "plt.pie(y, labels= mylabels, labeldistance=None, autopct = pct, explode= myexplode, \n",
    "        shadow=True, colors = mycolors, pctdistance =0.5 )\n",
    "plt.legend();"
   ]
  },
  {
   "cell_type": "markdown",
   "id": "worst-samoa",
   "metadata": {
    "id": "worst-samoa"
   },
   "source": [
    "<img src=https://i.ibb.co/qk9y7sC/datavisualizatinwithpython.jpg width=\"800\" height=\"200\">\n",
    "\n",
    "[Video Source on Data Visualization in Pandas](https://www.youtube.com/watch?v=0IKz-KxDCuM)"
   ]
  },
  {
   "cell_type": "raw",
   "id": "a94abaa9",
   "metadata": {},
   "source": [
    "Signature:      tips.plot(*args, **kwargs)\n",
    "Type:           PlotAccessor\n",
    "String form:    <pandas.plotting._core.PlotAccessor object at 0x000001FFC9E46AC0>\n",
    "\n",
    "Docstring:     \n",
    "Make plots of Series or DataFrame.\n",
    "\n",
    "Uses the backend specified by the option ``plotting.backend``. By default, matplotlib is used.\n",
    "\n",
    "Parameters\n",
    "----------\n",
    "data : Series or DataFrame\n",
    "    The object for which the method is called.\n",
    "x : label or position, default None\n",
    "    Only used if data is a DataFrame.\n",
    "y : label, position or list of label, positions, default None\n",
    "    Allows plotting of one column versus another. Only used if data is a\n",
    "    DataFrame.\n",
    "kind : str\n",
    "    The kind of plot to produce:\n",
    "\n",
    "    - 'line' : line plot (default)\n",
    "    - 'bar' : vertical bar plot\n",
    "    - 'barh' : horizontal bar plot\n",
    "    - 'hist' : histogram\n",
    "    - 'box' : boxplot\n",
    "    - 'kde' : Kernel Density Estimation plot\n",
    "    - 'density' : same as 'kde'\n",
    "    - 'area' : area plot\n",
    "    - 'pie' : pie plot\n",
    "    - 'scatter' : scatter plot (DataFrame only)\n",
    "    - 'hexbin' : hexbin plot (DataFrame only)\n",
    "ax : matplotlib axes object, default None\n",
    "    An axes of the current figure.\n",
    "subplots : bool, default False\n",
    "    Make separate subplots for each column.\n",
    "sharex : bool, default True if ax is None else False\n",
    "    In case ``subplots=True``, share x axis and set some x axis labels to invisible; defaults to True if ax is None otherwise False if an ax is passed in; Be aware, that passing in both an ax and ``sharex=True`` will alter all x axis labels for all axis in a figure.\n",
    "sharey : bool, default False\n",
    "    In case ``subplots=True``, share y axis and set some y axis labels to invisible.\n",
    "layout : tuple, optional\n",
    "    (rows, columns) for the layout of subplots.\n",
    "figsize : a tuple (width, height) in inches\n",
    "    Size of a figure object.\n",
    "use_index : bool, default True\n",
    "    Use index as ticks for x axis.\n",
    "title : str or list\n",
    "    Title to use for the plot. If a string is passed, print the string at the top of the figure. If a list is passed and `subplots` is True, print each item in the list above the corresponding subplot.\n",
    "grid : bool, default None (matlab style default)\n",
    "    Axis grid lines.\n",
    "legend : bool or {'reverse'}\n",
    "    Place legend on axis subplots.\n",
    "style : list or dict\n",
    "    The matplotlib line style per column.\n",
    "logx : bool or 'sym', default False\n",
    "    Use log scaling or symlog scaling on x axis.\n",
    "    .. versionchanged:: 0.25.0\n",
    "\n",
    "logy : bool or 'sym' default False\n",
    "    Use log scaling or symlog scaling on y axis.\n",
    "    .. versionchanged:: 0.25.0\n",
    "\n",
    "loglog : bool or 'sym', default False\n",
    "    Use log scaling or symlog scaling on both x and y axes.\n",
    "    .. versionchanged:: 0.25.0\n",
    "\n",
    "xticks : sequence\n",
    "    Values to use for the xticks.\n",
    "yticks : sequence\n",
    "    Values to use for the yticks.\n",
    "xlim : 2-tuple/list\n",
    "    Set the x limits of the current axes.\n",
    "ylim : 2-tuple/list\n",
    "    Set the y limits of the current axes.\n",
    "xlabel : label, optional\n",
    "    Name to use for the xlabel on x-axis. Default uses index name as xlabel, or the x-column name for planar plots.\n",
    "ylabel : label, optional\n",
    "    Name to use for the ylabel on y-axis. Default will show no ylabel, or the y-column name for planar plots.\n",
    "rot : int, default None\n",
    "    Rotation for ticks (xticks for vertical, yticks for horizontal plots).\n",
    "fontsize : int, default None\n",
    "    Font size for xticks and yticks.\n",
    "colormap : str or matplotlib colormap object, default None\n",
    "    Colormap to select colors from. If string, load colormap with that name from matplotlib.\n",
    "colorbar : bool, optional\n",
    "    If True, plot colorbar (only relevant for 'scatter' and 'hexbin' plots).\n",
    "position : float\n",
    "    Specify relative alignments for bar plot layout.\n",
    "    From 0 (left/bottom-end) to 1 (right/top-end). Default is 0.5 (center).\n",
    "table : bool, Series or DataFrame, default False\n",
    "    If True, draw a table using the data in the DataFrame and the data will be transposed to meet matplotlib's default layout.\n",
    "    If a Series or DataFrame is passed, use passed data to draw a table.\n",
    "yerr : DataFrame, Series, array-like, dict and str\n",
    "    See :ref:`Plotting with Error Bars <visualization.errorbars>` for detail.\n",
    "xerr : DataFrame, Series, array-like, dict and str\n",
    "    Equivalent to yerr.\n",
    "stacked : bool, default False in line and bar plots, and True in area plot\n",
    "    If True, create stacked plot.\n",
    "sort_columns : bool, default False\n",
    "    Sort column names to determine plot ordering.\n",
    "secondary_y : bool or sequence, default False\n",
    "    Whether to plot on the secondary y-axis if a list/tuple, which columns to plot on secondary y-axis.\n",
    "mark_right : bool, default True\n",
    "    When using a secondary_y axis, automatically mark the column labels with \"(right)\" in the legend.\n",
    "include_bool : bool, default is False\n",
    "    If True, boolean values can be plotted.\n",
    "backend : str, default None\n",
    "    Backend to use instead of the backend specified in the option ``plotting.backend``. For instance, 'matplotlib'. Alternatively, to specify the ``plotting.backend`` for the whole session, set ``pd.options.plotting.backend``.\n",
    "**kwargs\n",
    "    Options to pass to matplotlib plotting method.\n",
    "\n",
    "Returns\n",
    "-------\n",
    ":class:`matplotlib.axes.Axes` or numpy.ndarray of them\n",
    "    If the backend is not the default matplotlib one, the return value will be the object returned by the backend.\n",
    "\n",
    "Notes\n",
    "-----\n",
    "- See matplotlib documentation online for more on this subject\n",
    "- If `kind` = 'bar' or 'barh', you can specify relative alignments for bar plot layout by `position` keyword. From 0 (left/bottom-end) to 1 (right/top-end). Default is 0.5 (center)"
   ]
  },
  {
   "cell_type": "code",
   "execution_count": null,
   "id": "parental-cooperation",
   "metadata": {
    "colab": {
     "base_uri": "https://localhost:8080/",
     "height": 203
    },
    "id": "parental-cooperation",
    "outputId": "3cb5c756-35cd-4cf5-e4a0-a9a919646c18"
   },
   "outputs": [],
   "source": [
    "tips.head()"
   ]
  },
  {
   "cell_type": "code",
   "execution_count": null,
   "id": "terminal-maker",
   "metadata": {
    "colab": {
     "base_uri": "https://localhost:8080/",
     "height": 282
    },
    "id": "terminal-maker",
    "outputId": "8f9fd346-8d58-49cf-99ed-fb3fdc7b16a0"
   },
   "outputs": [],
   "source": [
    "tips.plot(figsize=(12,5));"
   ]
  },
  {
   "cell_type": "code",
   "execution_count": null,
   "id": "yellow-seeking",
   "metadata": {
    "colab": {
     "base_uri": "https://localhost:8080/",
     "height": 282
    },
    "id": "yellow-seeking",
    "outputId": "4b1d15c7-a7a9-46b1-aad2-7ce072ac56e9"
   },
   "outputs": [],
   "source": [
    "tips.iloc[:, 0:2].plot(figsize=(12,5));"
   ]
  },
  {
   "cell_type": "markdown",
   "id": "geographic-equipment",
   "metadata": {
    "id": "geographic-equipment"
   },
   "source": [
    "## <p style=\"background-color:#9d4f8c; font-family:newtimeroman; color:#FFF9ED; font-size:150%; text-align:center; border-radius:10px 10px;\">PANDAS SCATTER</p>\n",
    "\n",
    "<a id=\"8\"></a>\n",
    "<a href=\"#toc\" class=\"btn btn-primary btn-sm\" role=\"button\" aria-pressed=\"true\" \n",
    "style=\"color:blue; background-color:#dfa8e4\" data-toggle=\"popover\">Content</a>\n",
    "\n",
    "[SOURCE 01](https://pandas.pydata.org/pandas-docs/version/0.25.0/reference/api/pandas.DataFrame.plot.scatter.html), [SOURCE 02](https://www.geeksforgeeks.org/pandas-scatter-plot-dataframe-plot-scatter/#:~:text=A%20Scatter%20plot%20is%20a,relationship%20between%20two%20numerical%20variables.&text=Calling%20the%20scatter()%20method,two%20columns%20of%20pandas%20DataFrame.), [SOURCE 03](https://data36.com/scatter-plot-pandas-matplotlib/), [SOURCE 04](https://pythontic.com/pandas/dataframe-plotting/scatter%20plot), [SOURCE 05](https://saralgyaan.com/posts/matplotlib-tutorial-in-python-chapter-6-scatter-plotting/), [SOURCE 06](https://www.youtube.com/watch?v=0IKz-KxDCuM), [SOURCE 07](https://www.youtube.com/watch?v=DWhwQ1_oXnw), [SOURCE 08](https://www.youtube.com/watch?v=i_H5fjqRUDE) & [SOURCE 09](https://www.youtube.com/watch?v=9q-d7TzRjG0&t=28s)"
   ]
  },
  {
   "cell_type": "code",
   "execution_count": null,
   "id": "339faab6",
   "metadata": {},
   "outputs": [],
   "source": [
    "plt.scatter(tips[\"total_bill\"], tips[\"tip\"]);"
   ]
  },
  {
   "cell_type": "code",
   "execution_count": null,
   "id": "directed-brain",
   "metadata": {
    "colab": {
     "base_uri": "https://localhost:8080/",
     "height": 296
    },
    "id": "directed-brain",
    "outputId": "7aab1956-8be4-490e-90b8-d430e842b1df"
   },
   "outputs": [],
   "source": [
    "tips.plot.scatter(x=\"total_bill\", y=\"tip\");"
   ]
  },
  {
   "cell_type": "code",
   "execution_count": null,
   "id": "greater-savannah",
   "metadata": {
    "colab": {
     "base_uri": "https://localhost:8080/",
     "height": 296
    },
    "id": "greater-savannah",
    "outputId": "0d85cb7e-4262-4291-efb1-9f8c95a66fb7"
   },
   "outputs": [],
   "source": [
    "tips.plot(x=\"total_bill\", y=\"tip\", kind=\"scatter\");"
   ]
  },
  {
   "cell_type": "markdown",
   "id": "speaking-composer",
   "metadata": {
    "id": "speaking-composer"
   },
   "source": [
    "## <p style=\"background-color:#9d4f8c; font-family:newtimeroman; color:#FFF9ED; font-size:150%; text-align:center; border-radius:10px 10px;\">PANDAS BAR PLOT</p>\n",
    "\n",
    "<a id=\"9\"></a>\n",
    "<a href=\"#toc\" class=\"btn btn-primary btn-sm\" role=\"button\" aria-pressed=\"true\" \n",
    "style=\"color:blue; background-color:#dfa8e4\" data-toggle=\"popover\">Content</a>\n",
    "\n",
    "[SOURCE 01](https://pandas.pydata.org/docs/reference/api/pandas.DataFrame.plot.bar.html), [SOURCE 02](https://pythontic.com/pandas/dataframe-plotting/bar%20chart), [SOURCE 03](https://stackoverflow.com/questions/29498652/plot-bar-graph-from-pandas-dataframe), [SOURCE 04](https://www.youtube.com/watch?v=lRPisI6kzLg), [SOURCE 05](https://www.youtube.com/watch?v=lRPisI6kzLg) & [SOURCE 06](https://youtu.be/lomuFOEGLSM)"
   ]
  },
  {
   "cell_type": "code",
   "execution_count": null,
   "id": "JfOm3eU4Ffk3",
   "metadata": {
    "colab": {
     "base_uri": "https://localhost:8080/",
     "height": 279
    },
    "id": "JfOm3eU4Ffk3",
    "outputId": "98380ff8-4fa8-493c-c6b0-4ce243cabc6a"
   },
   "outputs": [],
   "source": [
    "df = pd.DataFrame(np.random.rand(5,4), columns=[\"a\", \"b\", \"c\", \"d\"])\n",
    "display(df)\n",
    "\n",
    "df.plot.bar();"
   ]
  },
  {
   "cell_type": "code",
   "execution_count": null,
   "id": "ka9mTO-qFptY",
   "metadata": {
    "colab": {
     "base_uri": "https://localhost:8080/",
     "height": 279
    },
    "id": "ka9mTO-qFptY",
    "outputId": "cec8ac07-c038-48b4-f917-0d5ae1f77336"
   },
   "outputs": [],
   "source": [
    "df.plot(kind=\"bar\", stacked=True);"
   ]
  },
  {
   "cell_type": "code",
   "execution_count": null,
   "id": "6ef3f571",
   "metadata": {},
   "outputs": [],
   "source": [
    "tips.head()"
   ]
  },
  {
   "cell_type": "code",
   "execution_count": null,
   "id": "1e42e7e5",
   "metadata": {},
   "outputs": [],
   "source": [
    "tips.groupby(\"day\")[\"tip\"].sum().plot.bar();"
   ]
  },
  {
   "cell_type": "code",
   "execution_count": null,
   "id": "T1f6-TyYBAV9",
   "metadata": {
    "colab": {
     "base_uri": "https://localhost:8080/",
     "height": 309
    },
    "id": "T1f6-TyYBAV9",
    "outputId": "8f75f4ac-6029-4330-b112-7225c7a65f52"
   },
   "outputs": [],
   "source": [
    "tips.groupby(\"day\")[\"tip\"].sum().plot.bar()\n",
    "plt.xticks(rotation=0);"
   ]
  },
  {
   "cell_type": "markdown",
   "id": "d6c20708",
   "metadata": {
    "id": "exotic-recipient"
   },
   "source": [
    "## <p style=\"background-color:#9d4f8c; font-family:newtimeroman; color:#FFF9ED; font-size:150%; text-align:center; border-radius:10px 10px;\">PANDAS HISTOGRAM</p>\n",
    "\n",
    "<a id=\"10\"></a>\n",
    "<a href=\"#toc\" class=\"btn btn-primary btn-sm\" role=\"button\" aria-pressed=\"true\" \n",
    "style=\"color:blue; background-color:#dfa8e4\" data-toggle=\"popover\">Content</a>\n",
    "\n",
    "[SOURCE 01](https://pandas.pydata.org/docs/reference/api/pandas.DataFrame.hist.html), [SOURCE 02](https://www.machinelearningplus.com/pandas/pandas-histogram/), [SOURCE 03](https://www.dataindependent.com/pandas/pandas-histogram/), [SOURCE 04](https://www.tutorialspoint.com/python-plot-a-histogram-for-pandas-dataframe-with-matplotlib), [SOURCE 05](https://www.youtube.com/watch?v=zNvxJNQhmRs) & [SOURCE 06](https://youtu.be/zNvxJNQhmRs)"
   ]
  },
  {
   "cell_type": "code",
   "execution_count": null,
   "id": "changed-eclipse",
   "metadata": {
    "colab": {
     "base_uri": "https://localhost:8080/",
     "height": 282
    },
    "id": "changed-eclipse",
    "outputId": "8111b737-cf42-4b43-ca7f-f275455544dd"
   },
   "outputs": [],
   "source": [
    "tips.plot.hist(figsize=(12,4), bins=30);"
   ]
  },
  {
   "cell_type": "code",
   "execution_count": null,
   "id": "294904ed",
   "metadata": {},
   "outputs": [],
   "source": [
    "tips.total_bill.plot(kind=\"hist\");"
   ]
  },
  {
   "cell_type": "code",
   "execution_count": null,
   "id": "d8261aa2",
   "metadata": {},
   "outputs": [],
   "source": [
    "tips.hist(figsize=(12,4), bins=20);"
   ]
  },
  {
   "cell_type": "markdown",
   "id": "academic-universal",
   "metadata": {
    "id": "academic-universal"
   },
   "source": [
    "## <p style=\"background-color:#9d4f8c; font-family:newtimeroman; color:#FFF9ED; font-size:150%; text-align:center; border-radius:10px 10px;\">PANDAS BOX PLOT</p>\n",
    "\n",
    "<a id=\"11\"></a>\n",
    "<a href=\"#toc\" class=\"btn btn-primary btn-sm\" role=\"button\" aria-pressed=\"true\" \n",
    "style=\"color:blue; background-color:#dfa8e4\" data-toggle=\"popover\">Content</a>\n",
    "\n",
    "a box plot is a method for graphically depicting groups of numerical data through their quartiles.\n",
    "\n",
    "a box plot generally shows median, 25th and 75th percentiles, and outliers.\n",
    "\n",
    "[SOURCE 01](https://pandas.pydata.org/docs/reference/api/pandas.DataFrame.boxplot.html), [SOURCE 02](https://www.educative.io/edpresso/how-to-make-a-boxplot-in-pandas), [SOURCE 03](https://stackoverflow.com/questions/38120688/how-do-i-create-a-box-plot-for-each-column-in-a-pandas-dataframe) & [SOURCE 04](https://www.youtube.com/watch?v=TJDYXmE1swY)"
   ]
  },
  {
   "cell_type": "code",
   "execution_count": null,
   "id": "50632bb5",
   "metadata": {},
   "outputs": [],
   "source": [
    "tips.describe()"
   ]
  },
  {
   "cell_type": "code",
   "execution_count": null,
   "id": "lucky-history",
   "metadata": {
    "colab": {
     "base_uri": "https://localhost:8080/",
     "height": 266
    },
    "id": "lucky-history",
    "outputId": "e9616d3e-d7a3-4e62-c17a-ec2548657c2e"
   },
   "outputs": [],
   "source": [
    "tips.plot(kind=\"box\");"
   ]
  },
  {
   "cell_type": "code",
   "execution_count": null,
   "id": "c5709f4f",
   "metadata": {},
   "outputs": [],
   "source": [
    "tips.plot.box();"
   ]
  },
  {
   "cell_type": "markdown",
   "id": "bClfS9TyEkWO",
   "metadata": {
    "id": "bClfS9TyEkWO"
   },
   "source": [
    "## <p style=\"background-color:#9d4f8c; font-family:newtimeroman; color:#FFF9ED; font-size:150%; text-align:center; border-radius:10px 10px;\">PANDAS PIE CHART</p>\n",
    "\n",
    "<a id=\"12\"></a>\n",
    "<a href=\"#toc\" class=\"btn btn-primary btn-sm\" role=\"button\" aria-pressed=\"true\" \n",
    "style=\"color:blue; background-color:#dfa8e4\" data-toggle=\"popover\">Content</a>\n",
    "\n",
    "[SOURCE 01](https://pandas.pydata.org/docs/reference/api/pandas.DataFrame.plot.pie.html), [SOURCE 02](https://www.plus2net.com/python/pandas-dataframe-plot-pie.php), [SOURCE 03](https://blog.finxter.com/boxplot-the-pandas-plotting-module/), [SOURCE 04](https://youtu.be/yWwlVsiefWQ), [SOURCE 05](https://www.youtube.com/watch?v=kX5oTJoadJ8) & [SOURCE 06](https://www.youtube.com/watch?v=tWEYMIJdxjk)"
   ]
  },
  {
   "cell_type": "code",
   "execution_count": null,
   "id": "c75ff806",
   "metadata": {},
   "outputs": [],
   "source": [
    "tips.head()"
   ]
  },
  {
   "cell_type": "code",
   "execution_count": null,
   "id": "7c6bd945",
   "metadata": {},
   "outputs": [],
   "source": [
    "tips.groupby(\"day\").sum(numeric_only=True)"
   ]
  },
  {
   "cell_type": "code",
   "execution_count": null,
   "id": "34cd0e6f",
   "metadata": {},
   "outputs": [],
   "source": [
    "tips.sum(numeric_only=True)"
   ]
  },
  {
   "cell_type": "code",
   "execution_count": null,
   "id": "32Z_OFZMDIYN",
   "metadata": {
    "colab": {
     "base_uri": "https://localhost:8080/",
     "height": 303
    },
    "id": "32Z_OFZMDIYN",
    "outputId": "d92c4cd3-eaee-4092-f70c-8a6a46063d89"
   },
   "outputs": [],
   "source": [
    "round(tips.groupby(\"day\").sum(numeric_only=True) / tips.sum(numeric_only=True)*100,2)"
   ]
  },
  {
   "cell_type": "code",
   "execution_count": null,
   "id": "f754533b",
   "metadata": {},
   "outputs": [],
   "source": [
    "tips.groupby(\"day\").sum(numeric_only=True).plot.pie(y=\"total_bill\");"
   ]
  },
  {
   "cell_type": "code",
   "execution_count": null,
   "id": "7ae02255",
   "metadata": {},
   "outputs": [],
   "source": [
    "tips.groupby(\"day\").sum(numeric_only=True).plot.pie(subplots=True, figsize=(12,5), shadow=True);"
   ]
  },
  {
   "cell_type": "markdown",
   "id": "46f527ed",
   "metadata": {},
   "source": [
    "## <p style=\"background-color:#9d4f8c; font-family:newtimeroman; color:#FFF9ED; font-size:150%; text-align:center; border-radius:10px 10px;\">KERNEL DENSITY ESTIMATION (KDE)</p>\n",
    "\n",
    "<a id=\"13\"></a>\n",
    "<a href=\"#toc\" class=\"btn btn-primary btn-sm\" role=\"button\" aria-pressed=\"true\" \n",
    "style=\"color:blue; background-color:#dfa8e4\" data-toggle=\"popover\">Content</a>\n",
    "\n",
    "[SOURCE 01](https://pandas.pydata.org/docs/reference/api/pandas.DataFrame.plot.kde.html), [SOURCE 02](https://www.geeksforgeeks.org/kde-plot-visualization-with-pandas-and-seaborn/) & [SOURCE 03](https://neptune.ai/blog/pandas-plot-deep-dive-into-plotting-directly-with-pandas)"
   ]
  },
  {
   "cell_type": "code",
   "execution_count": null,
   "id": "third-thesis",
   "metadata": {
    "colab": {
     "base_uri": "https://localhost:8080/",
     "height": 269
    },
    "id": "third-thesis",
    "outputId": "5f3de400-07d0-445d-a523-248a5fd21852"
   },
   "outputs": [],
   "source": [
    "df_kde = pd.Series(np.random.randn(1000))\n",
    "df_kde.plot.kde();"
   ]
  },
  {
   "cell_type": "code",
   "execution_count": null,
   "id": "solid-nevada",
   "metadata": {
    "colab": {
     "base_uri": "https://localhost:8080/",
     "height": 282
    },
    "id": "solid-nevada",
    "outputId": "4c4233a9-0f60-46ae-c608-9a8437cf30f0"
   },
   "outputs": [],
   "source": [
    "df_kde.plot.density();"
   ]
  },
  {
   "cell_type": "code",
   "execution_count": null,
   "id": "8e9b5619",
   "metadata": {},
   "outputs": [],
   "source": [
    "tips.groupby(\"day\")[[\"size\",\"tip\"]].sum().plot.kde();"
   ]
  },
  {
   "cell_type": "code",
   "execution_count": null,
   "id": "3859735d",
   "metadata": {},
   "outputs": [],
   "source": [
    "plt.hist(tips.total_bill, bins=30)"
   ]
  },
  {
   "cell_type": "code",
   "execution_count": null,
   "id": "401777de",
   "metadata": {},
   "outputs": [],
   "source": [
    "plt.hist(tips.total_bill, bins=30, density=True)\n",
    "tips.total_bill.plot.kde();"
   ]
  },
  {
   "cell_type": "markdown",
   "id": "coated-august",
   "metadata": {
    "id": "coated-august"
   },
   "source": [
    "## <p style=\"background-color:#9d4f8c; font-family:newtimeroman; color:#FFF9ED; font-size:150%; text-align:center; border-radius:10px 10px;\">3-DIMENSIONAL PLOTTING IN MATPLOTLIB</p>\n",
    "\n",
    "<a id=\"14\"></a>\n",
    "<a href=\"#toc\" class=\"btn btn-primary btn-sm\" role=\"button\" aria-pressed=\"true\" \n",
    "style=\"color:blue; background-color:#dfa8e4\" data-toggle=\"popover\">Content</a>\n",
    "\n",
    "<img src=https://i.ibb.co/TKhTf2g/3d-plots.png width=\"800\" height=\"200\">\n",
    "\n",
    "\n",
    "Matplotlib was introduced keeping in mind, only two-dimensional plotting. But at the time when the release of 1.0 occurred, the 3d utilities were developed upon the 2d and thus, we have 3d implementation of data available today! The 3d plots are enabled by importing the mplot3d toolkit. \n",
    "\n",
    "[SOURCE 01](https://www.tutorialspoint.com/matplotlib/matplotlib_three_dimensional_plotting.htm), [SOURCE 02](https://towardsdatascience.com/an-easy-introduction-to-3d-plotting-with-matplotlib-801561999725), [SOURCE 03](https://www.geeksforgeeks.org/three-dimensional-plotting-in-python-using-matplotlib/), [SOURCE 04](https://jakevdp.github.io/PythonDataScienceHandbook/04.12-three-dimensional-plotting.html), [SOURCE 05](https://www.youtube.com/watch?v=gqoLLGgbeAE) & [SOURCE 06](https://www.youtube.com/watch?v=6ljHxJQ47Uk)"
   ]
  },
  {
   "cell_type": "code",
   "execution_count": null,
   "id": "phantom-briefing",
   "metadata": {
    "colab": {
     "base_uri": "https://localhost:8080/",
     "height": 248
    },
    "id": "phantom-briefing",
    "outputId": "7cb4fd07-d27d-4387-eb00-1250d3dd09b8"
   },
   "outputs": [],
   "source": [
    "# from mpl_toolkits.mplot3d import Axes3D\n",
    "\n",
    "fig = plt.figure(figsize=(12, 8))\n",
    "\n",
    "# ax = plt.axes(projection='3d')\n",
    "ax = fig.add_subplot(projection='3d')"
   ]
  },
  {
   "cell_type": "code",
   "execution_count": null,
   "id": "ee5555e9",
   "metadata": {},
   "outputs": [],
   "source": [
    "# !pip install ipympl "
   ]
  },
  {
   "cell_type": "code",
   "execution_count": null,
   "id": "duplicate-fabric",
   "metadata": {
    "colab": {
     "base_uri": "https://localhost:8080/",
     "height": 265
    },
    "id": "duplicate-fabric",
    "outputId": "1a54ca50-efb9-4f4b-a538-b9d9838098ad"
   },
   "outputs": [],
   "source": [
    "# Data for a three-dimensional line\n",
    "\n",
    "# For creating a responsive plot\n",
    "# %matplotlib widget\n",
    "%matplotlib notebook\n",
    "# %matplotlib inline\n",
    "\n",
    "zline = np.linspace(0, 15, 1000)\n",
    "yline = np.cos(zline)\n",
    "xline = np.sin(zline)\n",
    "\n",
    "\n",
    "# # The First Method\n",
    "# Creating figure\n",
    "fig = plt.figure(figsize=(10, 6))\n",
    "\n",
    "# Creating the plot\n",
    "ax = fig.add_subplot(projection='3d')\n",
    "ax.plot3D(xline, yline, zline, 'gray')\n",
    "\n",
    "\n",
    "# # The Second Method\n",
    "# # Creating figure\n",
    "# fig = plt.figure(figsize=(10, 6))\n",
    "# ax = Axes3D(fig)\n",
    "\n",
    "# # Creating the plot\n",
    "# ax.scatter(xline, yline, zline, color='green')\n",
    "\n",
    "# Setting title and labels\n",
    "ax.set_title(\"3D plot\")\n",
    "ax.set_xlabel('x-axis')\n",
    "ax.set_ylabel('y-axis')\n",
    "ax.set_zlabel('z-axis');"
   ]
  },
  {
   "cell_type": "code",
   "execution_count": null,
   "id": "eiGQGbF7QVID",
   "metadata": {
    "colab": {
     "base_uri": "https://localhost:8080/",
     "height": 248
    },
    "id": "eiGQGbF7QVID",
    "outputId": "97e37919-5893-473d-acbf-8eee75fc5c6d"
   },
   "outputs": [],
   "source": [
    "# Data for three-dimensional scattered points\n",
    "\n",
    "# For creating a responsive plot\n",
    "# %matplotlib widget\n",
    "# %matplotlib notebook\n",
    "# %matplotlib inline\n",
    "\n",
    "zdata = 15 * np.random.random(100)\n",
    "xdata = np.sin(zdata) + 0.1 * np.random.randn(100)\n",
    "ydata = np.cos(zdata) + 0.1 * np.random.randn(100)\n",
    "\n",
    "# # The First Method\n",
    "# # Creating figure\n",
    "fig = plt.figure(figsize=(10, 6))\n",
    "ax = fig.add_subplot(projection='3d')\n",
    "\n",
    "# # Creating the plot\n",
    "ax.scatter3D(xdata, ydata, zdata, c=zdata, cmap='Set2')\n",
    "\n",
    "\n",
    "# # The Second Method\n",
    "# # Creating figure\n",
    "# fig = plt.figure(figsize=(10, 6))\n",
    "# ax = Axes3D(fig)\n",
    "\n",
    "# # Creating the plot\n",
    "# ax.scatter(xdata, ydata, zdata, color='purple')\n",
    "\n",
    "# Setting title and labels\n",
    "ax.set_title(\"3D plot\")\n",
    "ax.set_xlabel('x-axis')\n",
    "ax.set_ylabel('y-axis')\n",
    "ax.set_zlabel('z-axis');"
   ]
  },
  {
   "cell_type": "code",
   "execution_count": null,
   "id": "8fedc423",
   "metadata": {},
   "outputs": [],
   "source": [
    "fig = plt.figure()\n",
    "ax = fig.add_subplot(projection='3d')\n",
    "\n",
    "# Create the mesh in polar coordinates and compute corresponding Z.\n",
    "r = np.linspace(0, 1.25, 50)\n",
    "p = np.linspace(0, 2*np.pi, 50)\n",
    "R, P = np.meshgrid(r, p)\n",
    "Z = ((R**2 - 1)**2)\n",
    "\n",
    "# Express the mesh in the cartesian system.\n",
    "X, Y = R*np.cos(P), R*np.sin(P)\n",
    "\n",
    "# Plot the surface.\n",
    "ax.plot_surface(X, Y, Z, cmap=plt.cm.YlGnBu_r)\n",
    "\n",
    "# Tweak the limits and add latex math labels.\n",
    "ax.set_zlim(0, 1)\n",
    "ax.set_xlabel(r'$\\phi_\\mathrm{real}$')\n",
    "ax.set_ylabel(r'$\\phi_\\mathrm{im}$')\n",
    "ax.set_zlabel(r'$V(\\phi)$')\n",
    "\n",
    "plt.show()"
   ]
  },
  {
   "cell_type": "code",
   "execution_count": null,
   "id": "2f4b679b",
   "metadata": {},
   "outputs": [],
   "source": [
    "# creating 3d bar plot using matplotlib in python\n",
    "  \n",
    "# For interacting with plot\n",
    "# %matplotlib widget\n",
    "%matplotlib notebook\n",
    "# %matplotlib inline\n",
    "  \n",
    "# importing required libraries\n",
    "from mpl_toolkits.mplot3d import Axes3D\n",
    "import matplotlib.pyplot as plt\n",
    "import numpy as np\n",
    "  \n",
    "# creating random dataset\n",
    "xs = [2, 3, 4, 5, 1, 6, 2, 1, 7, 2]\n",
    "ys = [1, 2, 3, 4, 5, 6, 7, 8, 9, 10]\n",
    "zs = np.zeros(10)\n",
    "dx = np.ones(10)\n",
    "dy = np.ones(10)\n",
    "dz = [1, 2, 3, 4, 5, 6, 7, 8, 9, 10]\n",
    "  \n",
    "# creating figure\n",
    "figg = plt.figure(figsize=(10, 5))\n",
    "ax = figg.add_subplot(111, projection='3d')\n",
    "  \n",
    "# creating the plot\n",
    "plot_geeks = ax.bar3d(xs, ys, zs, dx, dy, dz, color='green')\n",
    "  \n",
    "# setting title and labels\n",
    "ax.set_title(\"3D bar plot\")\n",
    "ax.set_xlabel('x-axis')\n",
    "ax.set_ylabel('y-axis')\n",
    "ax.set_zlabel('z-axis')\n",
    "  \n",
    "# displaying the plot\n",
    "plt.show()"
   ]
  },
  {
   "cell_type": "code",
   "execution_count": null,
   "id": "7cf85218",
   "metadata": {},
   "outputs": [],
   "source": [
    "import matplotlib.pyplot as plt\n",
    "import numpy as np\n",
    "%matplotlib notebook\n",
    "# Fixing random state for reproducibility\n",
    "np.random.seed(19680801)\n",
    "\n",
    "\n",
    "fig = plt.figure()\n",
    "ax = fig.add_subplot(projection='3d')\n",
    "x, y = np.random.rand(2, 100) * 4\n",
    "hist, xedges, yedges = np.histogram2d(x, y, bins=4, range=[[0, 4], [0, 4]])\n",
    "\n",
    "# Construct arrays for the anchor positions of the 16 bars.\n",
    "xpos, ypos = np.meshgrid(xedges[:-1] + 0.25, yedges[:-1] + 0.25, indexing=\"ij\")\n",
    "xpos = xpos.ravel()\n",
    "ypos = ypos.ravel()\n",
    "zpos = 0\n",
    "\n",
    "# Construct arrays with the dimensions for the 16 bars.\n",
    "dx = dy = 0.5 * np.ones_like(zpos)\n",
    "dz = hist.ravel()\n",
    "\n",
    "ax.bar3d(xpos, ypos, zpos, dx, dy, dz, zsort='average')\n",
    "\n",
    "plt.show()"
   ]
  },
  {
   "cell_type": "markdown",
   "id": "7ed4f2ee",
   "metadata": {},
   "source": [
    "## Self-study Part\n",
    "\n",
    "In this part, you are encouraged to create some plots using the following dataset bulit in Seaborn library:"
   ]
  },
  {
   "cell_type": "code",
   "execution_count": null,
   "id": "informal-marine",
   "metadata": {
    "colab": {
     "base_uri": "https://localhost:8080/",
     "height": 417
    },
    "id": "informal-marine",
    "outputId": "83cf6142-c7f8-489a-b699-34f69615b7bd"
   },
   "outputs": [],
   "source": [
    "flights = sns.load_dataset(\"flights\")\n",
    "flights"
   ]
  },
  {
   "cell_type": "markdown",
   "id": "b35aedb7",
   "metadata": {},
   "source": [
    "## <p style=\"background-color:#9d4f8c; font-family:newtimeroman; color:#FFF9ED; font-size:150%; text-align:center; border-radius:10px 10px;\">Matplotlib Cheat Sheet</p>\n",
    "\n",
    "<a id=\"15\"></a>\n",
    "<a href=\"#toc\" class=\"btn btn-primary btn-sm\" role=\"button\" aria-pressed=\"true\" \n",
    "style=\"color:blue; background-color:#dfa8e4\" data-toggle=\"popover\">Content</a>\n",
    "\n",
    "<img src=https://i.ibb.co/w7bkpHc/matplotlib-cheetsheet.png width=\"1000\" height=\"200\">\n",
    "\n",
    "**[Matplotlib Cheatsheet Source](https://matplotlib.org/cheatsheets/_images/cheatsheets-1.png)**"
   ]
  },
  {
   "cell_type": "markdown",
   "id": "5e69b27f",
   "metadata": {},
   "source": [
    "<a id=\"16\"></a>\n",
    "<a href=\"#toc\" class=\"btn btn-primary btn-sm\" role=\"button\" aria-pressed=\"true\" \n",
    "style=\"color:blue; background-color:#dfa8e4\" data-toggle=\"popover\">Content</a>\n",
    "\n",
    "## <p style=\"background-color:#9d4f8c; font-family:newtimeroman; color:#FFF9ED; font-size:150%; text-align:center; border-radius:10px 10px;\">THE END OF SESSION 02 / MATPLOTLIB - PART-02</p>"
   ]
  },
  {
   "cell_type": "markdown",
   "id": "e084f69f",
   "metadata": {},
   "source": [
    "## <p style=\"background-color:#FDFEFE; font-family:newtimeroman; color:#9d4f8c; font-size:150%; text-align:center; border-radius:10px 10px;\">End of the Session</p>\n",
    "\n",
    "\n",
    "<p style=\"text-align: center;\"><img src=\"https://i.ibb.co/99DQ3TY/DS-Courses.png\" class=\"img-fluid\" \n",
    "alt=\"CLRSWY\"></p>\n",
    "\n",
    "\n",
    "<br><br><br>\n",
    "\n",
    "<p style=\"text-align: center;\"><img src=\"https://i.ibb.co/Rpz9L36/clarusway-logo-black.png\" width=\"450\" height=\"200\" class=\"img-fluid\" alt=\"CLRSWY_LOGO\"></p>\n",
    "\n",
    "<p style=\"background-color:#E51A59; font-family:newtimeroman; color:#FDFEFE; font-size:130%; text-align:center; border-radius:10px 10px;\">WAY TO REINVENT YOURSELF</p>"
   ]
  },
  {
   "cell_type": "markdown",
   "id": "a84c783e",
   "metadata": {
    "deletable": false,
    "editable": false
   },
   "source": [
    "<a href=\"https://clarusway.com/contact-us/\"><img align=\"center\" src=\"https://i.ibb.co/B43qn24/officially-licensed-logo.png\" alt=\"Open in Clarusway LMS\" width=\"110\" height=\"200\" title=\"This notebook is licensed by Clarusway IT training school. Please contact the authorized persons about the conditions under which you can use or share.\"></a>"
   ]
  }
 ],
 "metadata": {
  "colab": {
   "collapsed_sections": [],
   "name": "2S-Matplotlib_Pandas.ipynb",
   "provenance": []
  },
  "kernelspec": {
   "display_name": "Python 3 (ipykernel)",
   "language": "python",
   "name": "python3"
  },
  "language_info": {
   "codemirror_mode": {
    "name": "ipython",
    "version": 3
   },
   "file_extension": ".py",
   "mimetype": "text/x-python",
   "name": "python",
   "nbconvert_exporter": "python",
   "pygments_lexer": "ipython3",
   "version": "3.9.15"
  },
  "toc": {
   "base_numbering": 1,
   "nav_menu": {},
   "number_sections": false,
   "sideBar": true,
   "skip_h1_title": false,
   "title_cell": "Table of Contents",
   "title_sidebar": "Contents",
   "toc_cell": false,
   "toc_position": {
    "height": "calc(100% - 180px)",
    "left": "10px",
    "top": "150px",
    "width": "304.475px"
   },
   "toc_section_display": true,
   "toc_window_display": true
  }
 },
 "nbformat": 4,
 "nbformat_minor": 5
}
