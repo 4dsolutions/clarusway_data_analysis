{
 "cells": [
  {
   "cell_type": "markdown",
   "metadata": {},
   "source": [
    "[![Binder](https://mybinder.org/badge_logo.svg)](https://mybinder.org/v2/gh/4dsolutions/clarusway_data_analysis/HEAD?labpath=%2FDVwPY_S6)\n",
    "\n",
    "**A top tutorial from master teacher Derek Banas.**"
   ]
  },
  {
   "cell_type": "code",
   "execution_count": 1,
   "metadata": {},
   "outputs": [],
   "source": [
    "from IPython.display import YouTubeVideo"
   ]
  },
  {
   "cell_type": "code",
   "execution_count": 2,
   "metadata": {},
   "outputs": [
    {
     "data": {
      "image/jpeg": "[encoded data removed]",
      "text/html": [
       "\n",
       "        <iframe\n",
       "            width=\"400\"\n",
       "            height=\"300\"\n",
       "            src=\"https://www.youtube.com/embed/GGL6U0k8WYA\"\n",
       "            frameborder=\"0\"\n",
       "            allowfullscreen\n",
       "            \n",
       "        ></iframe>\n",
       "        "
      ],
      "text/plain": [
       "<IPython.lib.display.YouTubeVideo at 0x7fd3fbe0dca0>"
      ]
     },
     "execution_count": 2,
     "metadata": {},
     "output_type": "execute_result"
    }
   ],
   "source": [
    "YouTubeVideo(\"GGL6U0k8WYA\")"
   ]
  },
  {
   "cell_type": "markdown",
   "metadata": {
    "id": "ek8iL1F4-q9_"
   },
   "source": [
    "## Plotly Tutorial"
   ]
  },
  {
   "cell_type": "markdown",
   "metadata": {
    "id": "SATq6MFu-q-C"
   },
   "source": [
    "### What is Plotly?"
   ]
  },
  {
   "cell_type": "markdown",
   "metadata": {
    "id": "5KRIcXXA-q-D"
   },
   "source": [
    "Plotly allows you to create over 40 beautiful interactive web-based visualizations that can be displayed in Jupyter notebooks or saved to HTML files. It is widely used to plot scientific, statistical and financial data. Plotly is free to use unless you want them to host your data for you."
   ]
  },
  {
   "cell_type": "markdown",
   "metadata": {
    "id": "WdNXQ8GL-q-E"
   },
   "source": [
    "### Installation"
   ]
  },
  {
   "cell_type": "markdown",
   "metadata": {
    "id": "1-dUzrFA-q-F"
   },
   "source": [
    "You can install using Anaconda under the environment tab by searching for Plotly. You'll also need Cufflinks and a few other packages that you can install by running : conda install -c conda-forge cufflinks-py in your command line or terminal. Also you can use the commands pip install plotly and pip install cufflinks. Cufflinks connects Plotly to Pandas."
   ]
  },
  {
   "cell_type": "markdown",
   "metadata": {
    "id": "vqzV7lHE-q-G"
   },
   "source": [
    "### Import"
   ]
  },
  {
   "cell_type": "code",
   "execution_count": 3,
   "metadata": {
    "colab": {
     "base_uri": "https://localhost:8080/",
     "height": 17
    },
    "id": "OhgySEAI-q-H",
    "outputId": "f9b1f8b7-0aa3-4505-8934-87da0038f2f2"
   },
   "outputs": [
    {
     "data": {
      "text/html": [
       "        <script type=\"text/javascript\">\n",
       "        window.PlotlyConfig = {MathJaxConfig: 'local'};\n",
       "        if (window.MathJax && window.MathJax.Hub && window.MathJax.Hub.Config) {window.MathJax.Hub.Config({SVG: {font: \"STIX-Web\"}});}\n",
       "        if (typeof require !== 'undefined') {\n",
       "        require.undef(\"plotly\");\n",
       "        requirejs.config({\n",
       "            paths: {\n",
       "                'plotly': ['https://cdn.plot.ly/plotly-2.12.1.min']\n",
       "            }\n",
       "        });\n",
       "        require(['plotly'], function(Plotly) {\n",
       "            window._Plotly = Plotly;\n",
       "        });\n",
       "        }\n",
       "        </script>\n",
       "        "
      ]
     },
     "metadata": {},
     "output_type": "display_data"
    },
    {
     "data": {
      "text/html": [
       "        <script type=\"text/javascript\">\n",
       "        window.PlotlyConfig = {MathJaxConfig: 'local'};\n",
       "        if (window.MathJax && window.MathJax.Hub && window.MathJax.Hub.Config) {window.MathJax.Hub.Config({SVG: {font: \"STIX-Web\"}});}\n",
       "        if (typeof require !== 'undefined') {\n",
       "        require.undef(\"plotly\");\n",
       "        requirejs.config({\n",
       "            paths: {\n",
       "                'plotly': ['https://cdn.plot.ly/plotly-2.12.1.min']\n",
       "            }\n",
       "        });\n",
       "        require(['plotly'], function(Plotly) {\n",
       "            window._Plotly = Plotly;\n",
       "        });\n",
       "        }\n",
       "        </script>\n",
       "        "
      ]
     },
     "metadata": {},
     "output_type": "display_data"
    }
   ],
   "source": [
    "import pandas as pd\n",
    "import numpy as np\n",
    "import chart_studio.plotly as py\n",
    "import cufflinks as cf\n",
    "import seaborn as sns\n",
    "import plotly.express as px\n",
    "%matplotlib inline\n",
    "\n",
    "# Make Plotly work in your Jupyter Notebook\n",
    "from plotly.offline import download_plotlyjs, init_notebook_mode, plot, iplot\n",
    "init_notebook_mode(connected=True)\n",
    "# Use Plotly locally\n",
    "cf.go_offline()"
   ]
  },
  {
   "cell_type": "markdown",
   "metadata": {
    "id": "kR2-uTJm-q-I"
   },
   "source": [
    "### Basics"
   ]
  },
  {
   "cell_type": "code",
   "execution_count": null,
   "metadata": {
    "colab": {
     "base_uri": "https://localhost:8080/",
     "height": 794
    },
    "id": "md33h_j_-q-K",
    "outputId": "9fa664f6-c11a-4227-e16e-74fbed8a5e88"
   },
   "outputs": [],
   "source": [
    "# Create a dataframe using a NumPy array that is 50 by 4\n",
    "arr_1 = np.random.randn(50, 4)\n",
    "df_1 = pd.DataFrame(arr_1, columns=['A','B','C','D'])\n",
    "df_1.head()\n",
    "\n",
    "# Compare old plots to a Plotly interactive plot\n",
    "# You can save as PNG, Zoom, Pan, Turn off & on Data and more\n",
    "df_1.plot()\n",
    "df_1.iplot()"
   ]
  },
  {
   "cell_type": "markdown",
   "metadata": {
    "id": "hPcr5fhc-q-M"
   },
   "source": [
    "### Line Plots"
   ]
  },
  {
   "cell_type": "code",
   "execution_count": null,
   "metadata": {
    "colab": {
     "base_uri": "https://localhost:8080/",
     "height": 542
    },
    "id": "9AjZJJaV-q-N",
    "outputId": "29e44494-6b20-48fd-cf65-aef34a91f4d2"
   },
   "outputs": [],
   "source": [
    "# Allows us to create graph objects for making more customized plots\n",
    "import plotly.graph_objects as go\n",
    "\n",
    "# Use included Google price data to make one plot\n",
    "df_stocks = px.data.stocks()\n",
    "px.line(df_stocks, x='date', y='GOOG', labels={'x':'Date', 'y':'Price'})\n",
    "\n",
    "# Make multiple line plots\n",
    "px.line(df_stocks, x='date', y=['GOOG','AAPL'], labels={'x':'Date', 'y':'Price'},\n",
    "       title='Apple Vs. Google')\n",
    "\n",
    "# Create a figure to which I'll add plots\n",
    "fig = go.Figure()\n",
    "# You can pull individual columns of data from the dataset and use markers or not\n",
    "fig.add_trace(go.Scatter(x=df_stocks.date, y=df_stocks.AAPL, \n",
    "                        mode='lines', name='Apple'))\n",
    "fig.add_trace(go.Scatter(x=df_stocks.date, y=df_stocks.AMZN, \n",
    "                        mode='lines+markers', name='Amazon'))\n",
    "# You can create custom lines (Dashes : dash, dot, dashdot)\n",
    "fig.add_trace(go.Scatter(x=df_stocks.date, y=df_stocks.GOOG, \n",
    "                        mode='lines+markers', name='Google',\n",
    "                        line=dict(color='firebrick', width=2, dash='dashdot')))\n",
    "# Further style the figure\n",
    "# fig.update_layout(title='Stock Price Data 2018 - 2020',\n",
    "#                    xaxis_title='Price', yaxis_title='Date')\n",
    "\n",
    "# Go crazy styling the figure\n",
    "fig.update_layout(\n",
    "    # Shows gray line without grid, styling fonts, linewidths and more\n",
    "    xaxis=dict(\n",
    "        showline=True,\n",
    "        showgrid=False,\n",
    "        showticklabels=True,\n",
    "        linecolor='rgb(204, 204, 204)',\n",
    "        linewidth=2,\n",
    "        ticks='outside',\n",
    "        tickfont=dict(\n",
    "            family='Arial',\n",
    "            size=12,\n",
    "            color='rgb(82, 82, 82)',\n",
    "        ),\n",
    "    ),\n",
    "    # Turn off everything on y axis\n",
    "    yaxis=dict(\n",
    "        showgrid=False,\n",
    "        zeroline=False,\n",
    "        showline=False,\n",
    "        showticklabels=False,\n",
    "    ),\n",
    "    autosize=False,\n",
    "    margin=dict(\n",
    "        autoexpand=False,\n",
    "        l=100,\n",
    "        r=20,\n",
    "        t=110,\n",
    "    ),\n",
    "    showlegend=False,\n",
    "    plot_bgcolor='white'\n",
    ")"
   ]
  },
  {
   "cell_type": "markdown",
   "metadata": {
    "id": "QGFgB5WT-q-Q"
   },
   "source": [
    "### Bar Charts"
   ]
  },
  {
   "cell_type": "code",
   "execution_count": null,
   "metadata": {
    "colab": {
     "base_uri": "https://localhost:8080/",
     "height": 542
    },
    "id": "OxQDKanp-q-Q",
    "outputId": "56f978f3-126d-42a3-e2ff-943a5041f1b0"
   },
   "outputs": [],
   "source": [
    "# Get population change in US by querying for US data\n",
    "df_us = px.data.gapminder().query(\"country == 'United States'\")\n",
    "px.bar(df_us, x='year', y='pop')\n",
    "\n",
    "# Create a stacked bar with more customization\n",
    "df_tips = px.data.tips()\n",
    "px.bar(df_tips, x='day', y='tip', color='sex', title='Tips by Sex on Each Day',\n",
    "      labels={'tip': 'Tip Amount', 'day': 'Day of the Week'})\n",
    "\n",
    "# Place bars next to each other\n",
    "px.bar(df_tips, x=\"sex\", y=\"total_bill\",\n",
    "             color='smoker', barmode='group')\n",
    "\n",
    "# Display pop data for countries in Europe in 2007 greater than 2000000\n",
    "df_europe = px.data.gapminder().query(\"continent == 'Europe' and year == 2007 and pop > 2.e6\")\n",
    "fig = px.bar(df_europe, y='pop', x='country', text='pop', color='country')\n",
    "# Put bar total value above bars with 2 values of precision\n",
    "fig.update_traces(texttemplate='%{text:.2s}', textposition='outside')\n",
    "# Set fontsize and uniformtext_mode='hide' says to hide the text if it won't fit\n",
    "fig.update_layout(uniformtext_minsize=8)\n",
    "# Rotate labels 45 degrees\n",
    "fig.update_layout(xaxis_tickangle=-45)\n"
   ]
  },
  {
   "cell_type": "markdown",
   "metadata": {
    "id": "o76_tq9s-q-R"
   },
   "source": [
    "### Scatter Plot"
   ]
  },
  {
   "cell_type": "code",
   "execution_count": null,
   "metadata": {
    "colab": {
     "base_uri": "https://localhost:8080/",
     "height": 542
    },
    "id": "_62SGr7n-q-T",
    "outputId": "4bdf1bd0-2416-4d69-b4b4-21c0867bf128"
   },
   "outputs": [],
   "source": [
    "# Use included Iris data set\n",
    "df_iris = px.data.iris()\n",
    "# Create a scatter plot by defining x, y, different color for count of provided\n",
    "# column, size based on supplied column and additional data to display on hover\n",
    "px.scatter(df_iris, x=\"sepal_width\", y=\"sepal_length\", color=\"species\",\n",
    "                 size='petal_length', hover_data=['petal_width'])\n",
    "\n",
    "# Create a customized scatter with black marker edges with line width 2, opaque\n",
    "# and colored based on width. Also show a scale on the right\n",
    "fig = go.Figure()\n",
    "fig.add_trace(go.Scatter(\n",
    "    x=df_iris.sepal_width, y=df_iris.sepal_length,\n",
    "    mode='markers',\n",
    "    marker_color=df_iris.sepal_width,\n",
    "    text=df_iris.species,\n",
    "    marker=dict(showscale=True)\n",
    "))\n",
    "fig.update_traces(marker_line_width=2, marker_size=10)\n",
    "\n",
    "# Working with a lot of data use Scattergl\n",
    "fig = go.Figure(data=go.Scattergl(\n",
    "    x = np.random.randn(100000),\n",
    "    y = np.random.randn(100000),\n",
    "    mode='markers',\n",
    "    marker=dict(\n",
    "        color=np.random.randn(100000),\n",
    "        colorscale='Viridis',\n",
    "        line_width=1\n",
    "    )\n",
    "))\n",
    "fig"
   ]
  },
  {
   "cell_type": "markdown",
   "metadata": {
    "id": "2YttzUmF-q-T"
   },
   "source": [
    "### Pie Charts"
   ]
  },
  {
   "cell_type": "code",
   "execution_count": null,
   "metadata": {
    "colab": {
     "base_uri": "https://localhost:8080/",
     "height": 542
    },
    "id": "Q3vwG__8-q-U",
    "outputId": "e1779323-bed8-4d12-ff86-9e30f31556b5"
   },
   "outputs": [],
   "source": [
    "# Create Pie chart of the largest nations in Asia\n",
    "# Color maps here plotly.com/python/builtin-colorscales/\n",
    "df_samer = px.data.gapminder().query(\"year == 2007\").query(\"continent == 'Asia'\")\n",
    "px.pie(df_samer, values='pop', names='country', \n",
    "       title='Population of Asian continent', \n",
    "       color_discrete_sequence=px.colors.sequential.RdBu)\n",
    "\n",
    "# Customize pie chart\n",
    "colors = ['blue', 'green', 'black', 'purple', 'red', 'brown']\n",
    "fig = go.Figure(data=[go.Pie(labels=['Water','Grass','Normal','Psychic', 'Fire', 'Ground'], \n",
    "                       values=[110,90,80,80,70,60])])\n",
    "# Define hover info, text size, pull amount for each pie slice, and stroke\n",
    "fig.update_traces(hoverinfo='label+percent', textfont_size=20,\n",
    "                  textinfo='label+percent', pull=[0.1, 0, 0.2, 0, 0, 0],\n",
    "                  marker=dict(colors=colors, line=dict(color='#FFFFFF', width=2)))"
   ]
  },
  {
   "cell_type": "markdown",
   "metadata": {
    "id": "JRwZOVdr-q-V"
   },
   "source": [
    "### Histograms"
   ]
  },
  {
   "cell_type": "code",
   "execution_count": null,
   "metadata": {
    "colab": {
     "base_uri": "https://localhost:8080/",
     "height": 542
    },
    "id": "ekE0qdKo-q-V",
    "outputId": "daaa8352-cce7-45bc-c95b-4e73231c2d5d"
   },
   "outputs": [],
   "source": [
    "# Plot histogram based on rolling 2 dice\n",
    "dice_1 = np.random.randint(1,7,5000)\n",
    "dice_2 = np.random.randint(1,7,5000)\n",
    "dice_sum = dice_1 + dice_2\n",
    "# bins represent the number of bars to make\n",
    "# Can define x label, color, title\n",
    "# marginal creates another plot (violin, box, rug)\n",
    "fig = px.histogram(dice_sum, nbins=11, labels={'value':'Dice Roll'},\n",
    "             title='5000 Dice Roll Histogram', marginal='violin',\n",
    "            color_discrete_sequence=['green'])\n",
    "\n",
    "fig.update_layout(\n",
    "    xaxis_title_text='Dice Roll',\n",
    "    yaxis_title_text='Dice Sum',\n",
    "    bargap=0.2, showlegend=False\n",
    ")\n",
    "\n",
    "# Stack histograms based on different column data\n",
    "df_tips = px.data.tips()\n",
    "px.histogram(df_tips, x=\"total_bill\", color=\"sex\")"
   ]
  },
  {
   "cell_type": "markdown",
   "metadata": {
    "id": "iFf8Ez5e-q-W"
   },
   "source": [
    "### Box Plots"
   ]
  },
  {
   "cell_type": "code",
   "execution_count": null,
   "metadata": {
    "colab": {
     "base_uri": "https://localhost:8080/",
     "height": 542
    },
    "id": "Tl3GmaHc-q-W",
    "outputId": "8deb393a-21a5-4521-fea2-f04a94f5ed87",
    "scrolled": true
   },
   "outputs": [],
   "source": [
    "# A box plot allows you to compare different variables\n",
    "# The box shows the quartiles of the data. The bar in the middle is the median \n",
    "# The whiskers extend to all the other data aside from the points that are considered\n",
    "# to be outliers\n",
    "df_tips = px.data.tips()\n",
    "# We can see which sex tips the most, points displays all the data points\n",
    "px.box(df_tips, x='sex', y='tip', points='all')\n",
    "\n",
    "# Display tip sex data by day\n",
    "px.box(df_tips, x='day', y='tip', color='sex')\n",
    "\n",
    "# Adding standard deviation and mean\n",
    "fig = go.Figure()\n",
    "fig.add_trace(go.Box(x=df_tips.sex, y=df_tips.tip, marker_color='blue',\n",
    "                    boxmean='sd'))\n",
    "\n",
    "# Complex Styling\n",
    "df_stocks = px.data.stocks()\n",
    "fig = go.Figure()\n",
    "# Show all points, spread them so they don't overlap and change whisker width\n",
    "fig.add_trace(go.Box(y=df_stocks.GOOG, boxpoints='all', name='Google',\n",
    "                    fillcolor='blue', jitter=0.5, whiskerwidth=0.2))\n",
    "fig.add_trace(go.Box(y=df_stocks.AAPL, boxpoints='all', name='Apple',\n",
    "                    fillcolor='red', jitter=0.5, whiskerwidth=0.2))\n",
    "# Change background / grid colors\n",
    "fig.update_layout(title='Google vs. Apple', \n",
    "                  yaxis=dict(gridcolor='rgb(255, 255, 255)',\n",
    "                 gridwidth=3),\n",
    "                 paper_bgcolor='rgb(243, 243, 243)',\n",
    "                 plot_bgcolor='rgb(243, 243, 243)')"
   ]
  },
  {
   "cell_type": "markdown",
   "metadata": {
    "id": "s5tq_CHW-q-W"
   },
   "source": [
    "### Violin Plot"
   ]
  },
  {
   "cell_type": "code",
   "execution_count": null,
   "metadata": {
    "colab": {
     "base_uri": "https://localhost:8080/",
     "height": 542
    },
    "id": "5RlQrKb--q-X",
    "outputId": "7347a704-e6fc-46c6-ee2f-613e037fa6f2"
   },
   "outputs": [],
   "source": [
    "# Violin Plot is a combination of the boxplot and KDE\n",
    "# While a box plot corresponds to data points, the violin plot uses the KDE estimation\n",
    "# of the data points\n",
    "df_tips = px.data.tips()\n",
    "px.violin(df_tips, y=\"total_bill\", box=True, points='all')\n",
    "\n",
    "# Multiple plots\n",
    "px.violin(df_tips, y=\"tip\", x=\"smoker\", color=\"sex\", box=True, points=\"all\",\n",
    "          hover_data=df_tips.columns)\n",
    "\n",
    "# Morph left and right sides based on if the customer smokes\n",
    "fig = go.Figure()\n",
    "fig.add_trace(go.Violin(x=df_tips['day'][ df_tips['smoker'] == 'Yes' ],\n",
    "                        y=df_tips['total_bill'][ df_tips['smoker'] == 'Yes' ],\n",
    "                        legendgroup='Yes', scalegroup='Yes', name='Yes',\n",
    "                        side='negative',\n",
    "                        line_color='blue'))\n",
    "fig.add_trace(go.Violin(x=df_tips['day'][ df_tips['smoker'] == 'No' ],\n",
    "                        y=df_tips['total_bill'][ df_tips['smoker'] == 'No' ],\n",
    "                        legendgroup='Yes', scalegroup='Yes', name='No',\n",
    "                        side='positive',\n",
    "                        line_color='red'))"
   ]
  },
  {
   "cell_type": "markdown",
   "metadata": {
    "id": "iZCrnQk6-q-X"
   },
   "source": [
    "### Density Heatmap"
   ]
  },
  {
   "cell_type": "code",
   "execution_count": null,
   "metadata": {
    "colab": {
     "base_uri": "https://localhost:8080/",
     "height": 542
    },
    "id": "5hJ-MU_M-q-X",
    "outputId": "a34b3641-2952-4a54-abcb-772fea8a7731"
   },
   "outputs": [],
   "source": [
    "# Create a heatmap using Seaborn data\n",
    "flights = sns.load_dataset(\"flights\")\n",
    "flights\n",
    "\n",
    "# You can set bins with nbinsx and nbinsy\n",
    "fig = px.density_heatmap(flights, x='year', y='month', z='passengers', \n",
    "                         color_continuous_scale=\"Viridis\")\n",
    "fig\n",
    "\n",
    "# You can add histograms\n",
    "fig = px.density_heatmap(flights, x='year', y='month', z='passengers', \n",
    "                         marginal_x=\"histogram\", marginal_y=\"histogram\")\n",
    "fig"
   ]
  },
  {
   "cell_type": "markdown",
   "metadata": {
    "id": "KAJsIf-q-q-Y"
   },
   "source": [
    "### 3D Scatter Plots"
   ]
  },
  {
   "cell_type": "code",
   "execution_count": null,
   "metadata": {
    "colab": {
     "base_uri": "https://localhost:8080/",
     "height": 417
    },
    "id": "Qph7xpTc-q-Y",
    "outputId": "aef21f4c-d136-4bc0-825a-b5d2a6eccd52",
    "scrolled": true
   },
   "outputs": [],
   "source": [
    "# Create a 3D scatter plot using flight data\n",
    "fig = px.scatter_3d(flights, x='year', y='month', z='passengers', color='year',\n",
    "                   opacity=0.7, width=800, height=400)\n",
    "fig"
   ]
  },
  {
   "cell_type": "markdown",
   "metadata": {
    "id": "-f7k_IIl-q-Z"
   },
   "source": [
    "### 3D Line Plots"
   ]
  },
  {
   "cell_type": "code",
   "execution_count": null,
   "metadata": {
    "colab": {
     "base_uri": "https://localhost:8080/",
     "height": 542
    },
    "id": "Ry_dnzoH-q-Z",
    "outputId": "018e5b52-80a3-43bb-db80-7a583688b3c1"
   },
   "outputs": [],
   "source": [
    "fig = px.line_3d(flights, x='year', y='month', z='passengers', color='year')\n",
    "fig"
   ]
  },
  {
   "cell_type": "markdown",
   "metadata": {
    "id": "DeZIZxpC-q-Z"
   },
   "source": [
    "### Scatter Matrix"
   ]
  },
  {
   "cell_type": "code",
   "execution_count": null,
   "metadata": {
    "colab": {
     "base_uri": "https://localhost:8080/",
     "height": 542
    },
    "id": "7MtVJzT8-q-a",
    "outputId": "fb3df354-d1c4-4275-e594-4d34ecee47c0"
   },
   "outputs": [],
   "source": [
    "# With a scatter matrix we can compare changes when comparing column data\n",
    "fig = px.scatter_matrix(flights, color='month')\n",
    "fig"
   ]
  },
  {
   "cell_type": "markdown",
   "metadata": {
    "id": "I74ajCFu-q-a"
   },
   "source": [
    "### Map Scatter Plots"
   ]
  },
  {
   "cell_type": "code",
   "execution_count": null,
   "metadata": {
    "colab": {
     "base_uri": "https://localhost:8080/",
     "height": 542
    },
    "id": "bEbgvJO4-q-a",
    "outputId": "0bfc40c5-619d-4622-9978-daeb09e1b70b",
    "scrolled": true
   },
   "outputs": [],
   "source": [
    "# There are many interesting ways of working with maps\n",
    "# plotly.com/python-api-reference/generated/plotly.express.scatter_geo.html\n",
    "df = px.data.gapminder().query(\"year == 2007\")\n",
    "fig = px.scatter_geo(df, locations=\"iso_alpha\",\n",
    "                     color=\"continent\", # which column to use to set the color of markers\n",
    "                     hover_name=\"country\", # column added to hover information\n",
    "                     size=\"pop\", # size of markers\n",
    "                     projection=\"orthographic\")\n",
    "fig"
   ]
  },
  {
   "cell_type": "markdown",
   "metadata": {
    "id": "7Cb4rx6z-q-b"
   },
   "source": [
    "### Choropleth Maps"
   ]
  },
  {
   "cell_type": "code",
   "execution_count": null,
   "metadata": {
    "colab": {
     "base_uri": "https://localhost:8080/",
     "height": 542
    },
    "id": "A9YLZ6Rv-q-b",
    "outputId": "35450ed3-e93f-4102-c81b-f97b21aec9c4"
   },
   "outputs": [],
   "source": [
    "# You can color complex maps like we do here representing unemployment data\n",
    "\n",
    "# Allows us to grab data from a supplied URL\n",
    "from urllib.request import urlopen\n",
    "# Used to decode JSON data\n",
    "import json\n",
    "# Grab US county geometry data\n",
    "with urlopen('https://raw.githubusercontent.com/plotly/datasets/master/geojson-counties-fips.json') as response:\n",
    "    counties = json.load(response)\n",
    "\n",
    "# Grab unemployment data based on each counties Federal Information Processing number\n",
    "df = pd.read_csv(\"https://raw.githubusercontent.com/plotly/datasets/master/fips-unemp-16.csv\",\n",
    "                   dtype={\"fips\": str})\n",
    "\n",
    "# Draw map using the county JSON data, color using unemployment values on a range of 12\n",
    "fig = px.choropleth(df, geojson=counties, locations='fips', color='unemp',\n",
    "                           color_continuous_scale=\"Viridis\",\n",
    "                           range_color=(0, 12),\n",
    "                           scope=\"usa\",\n",
    "                           labels={'unemp':'unemployment rate'}\n",
    "                          )\n",
    "fig"
   ]
  },
  {
   "cell_type": "markdown",
   "metadata": {
    "id": "MvYOgS48-q-c"
   },
   "source": [
    "### Polar Chart"
   ]
  },
  {
   "cell_type": "code",
   "execution_count": null,
   "metadata": {
    "colab": {
     "base_uri": "https://localhost:8080/",
     "height": 417
    },
    "id": "4GO1otZ8-q-c",
    "outputId": "0bca78ed-fd61-413f-b624-1bf5927c3786",
    "scrolled": true
   },
   "outputs": [],
   "source": [
    "# Polar charts display data radially \n",
    "# Let's plot wind data based on direction and frequency\n",
    "# You can change size and auto-generate different symbols as well\n",
    "df_wind = px.data.wind()\n",
    "px.scatter_polar(df_wind, r=\"frequency\", theta=\"direction\", color=\"strength\",\n",
    "                size=\"frequency\", symbol=\"strength\")\n",
    "\n",
    "# Data can also be plotted using lines radially\n",
    "# A template makes the data easier to see\n",
    "px.line_polar(df_wind, r=\"frequency\", theta=\"direction\", color=\"strength\",\n",
    "                line_close=True, template=\"plotly_dark\", width=800, height=400)"
   ]
  },
  {
   "cell_type": "markdown",
   "metadata": {
    "id": "1YbV0akO-q-d"
   },
   "source": [
    "### Ternary Plot"
   ]
  },
  {
   "cell_type": "code",
   "execution_count": null,
   "metadata": {
    "colab": {
     "base_uri": "https://localhost:8080/",
     "height": 542
    },
    "id": "uBLJFBaI-q-d",
    "outputId": "c50028b3-880f-41bd-a1d0-8ad028069955"
   },
   "outputs": [],
   "source": [
    "# Used to represent ratios of 3 variables\n",
    "df_exp = px.data.experiment()\n",
    "px.scatter_ternary(df_exp, a=\"experiment_1\", b=\"experiment_2\", \n",
    "                   c='experiment_3', hover_name=\"group\", color=\"gender\")"
   ]
  },
  {
   "cell_type": "markdown",
   "metadata": {
    "id": "cFhqhNNk-q-d"
   },
   "source": [
    "### Facets"
   ]
  },
  {
   "cell_type": "code",
   "execution_count": null,
   "metadata": {
    "colab": {
     "base_uri": "https://localhost:8080/",
     "height": 542
    },
    "id": "3mC7mGL6-q-e",
    "outputId": "bc7529fc-7598-4512-f1a8-b193769c3599",
    "scrolled": true
   },
   "outputs": [],
   "source": [
    "# You can create numerous subplots\n",
    "df_tips = px.data.tips()\n",
    "px.scatter(df_tips, x=\"total_bill\", y=\"tip\", color=\"smoker\", facet_col=\"sex\")\n",
    "\n",
    "# We can line up data in rows and columns\n",
    "px.histogram(df_tips, x=\"total_bill\", y=\"tip\", color=\"sex\", facet_row=\"time\", facet_col=\"day\",\n",
    "       category_orders={\"day\": [\"Thur\", \"Fri\", \"Sat\", \"Sun\"], \"time\": [\"Lunch\", \"Dinner\"]})\n",
    "\n",
    "# This dataframe provides scores for different students based on the level\n",
    "# of attention they could provide during testing\n",
    "att_df = sns.load_dataset(\"attention\")\n",
    "fig = px.line(att_df, x='solutions', y='score', facet_col='subject',\n",
    "             facet_col_wrap=5, title='Scores Based on Attention')\n",
    "fig"
   ]
  },
  {
   "cell_type": "markdown",
   "metadata": {
    "id": "7Auw_yal-q-e"
   },
   "source": [
    "### Animated Plots"
   ]
  },
  {
   "cell_type": "code",
   "execution_count": null,
   "metadata": {
    "colab": {
     "base_uri": "https://localhost:8080/",
     "height": 542
    },
    "id": "R47VZLVn-q-e",
    "outputId": "9b68e89b-cd4f-4a25-e9be-d41f5a7bb50b"
   },
   "outputs": [],
   "source": [
    "# Create an animated plot that you can use to cycle through continent\n",
    "# GDP & life expectancy changes\n",
    "df_cnt = px.data.gapminder()\n",
    "px.scatter(df_cnt, x=\"gdpPercap\", y=\"lifeExp\", animation_frame=\"year\", \n",
    "           animation_group=\"country\",\n",
    "           size=\"pop\", color=\"continent\", hover_name=\"country\",\n",
    "           log_x=True, size_max=55, range_x=[100,100000], range_y=[25,90])\n",
    "\n",
    "# Watch as bars chart population changes\n",
    "px.bar(df_cnt, x=\"continent\", y=\"pop\", color=\"continent\",\n",
    "  animation_frame=\"year\", animation_group=\"country\", range_y=[0,4000000000])"
   ]
  }
 ],
 "metadata": {
  "colab": {
   "provenance": []
  },
  "kernelspec": {
   "display_name": "Python 3 (ipykernel)",
   "language": "python",
   "name": "python3"
  },
  "language_info": {
   "codemirror_mode": {
    "name": "ipython",
    "version": 3
   },
   "file_extension": ".py",
   "mimetype": "text/x-python",
   "name": "python",
   "nbconvert_exporter": "python",
   "pygments_lexer": "ipython3",
   "version": "3.9.15"
  }
 },
 "nbformat": 4,
 "nbformat_minor": 4
}
