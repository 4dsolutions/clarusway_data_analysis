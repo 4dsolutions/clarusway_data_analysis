{
 "cells": [
  {
   "cell_type": "markdown",
   "id": "93eb6753-4ec7-403a-8b38-e60c1ccb512e",
   "metadata": {},
   "source": [
    "[![Binder](https://mybinder.org/badge_logo.svg)](https://mybinder.org/v2/gh/4dsolutions/clarusway_data_analysis/HEAD?labpath=%2FDVwPY_S6)\n",
    "\n",
    "---\n",
    "\n",
    "<p style=\"text-align: center;\"><img src=\"https://docs.google.com/uc?id=1lY0Uj5R04yMY3-ZppPWxqCr5pvBLYPnV\" class=\"img-fluid\" \n",
    "alt=\"CLRSWY\"></p>\n",
    "\n",
    "## <p style=\"background-color:#FDFEFE; font-family:newtimeroman; color:#9d4f8c; font-size:100%; text-align:center; border-radius:10px 10px;\">WAY TO REINVENT YOURSELF</p>\n",
    "\n",
    "![image.png](https://i.ibb.co/4PP9w2m/plotly-logo.png)\n",
    "\n",
    "## <p style=\"background-color:#FDFEFE; font-family:newtimeroman; color:#060108; font-size:200%; text-align:center; border-radius:10px 10px;\">Interactive Plots with Plotly </p>\n",
    "\n",
    "## <p style=\"background-color:#FDFEFE; font-family:newtimeroman; color:#060108; font-size:150%; text-align:center; border-radius:10px 10px;\">Session - 06 (Plotly)</p>\n",
    "\n",
    "Plotly Express is a new Python visualization library that acts as a wrapper for Plotly, exposing a simple syntax for complex charts. It was inspired by Seaborn and ggplot2 and was specifically designed to have a terse, consistent, and easy-to-learn API: with a single import, you can make richly interactive plots with faceting, maps, animations, and trendlines in a single function call. \n",
    "\n",
    "Plotly Express includes over 30 functions for creating various types of figures. The API for these functions was carefully designed to be as consistent and easy to learn as possible, allowing you to easily switch from a scatter plot to a bar chart to a histogram to a sunburst chart during a data exploration session.\n",
    "\n",
    "Nor are we confined to Plotly Express.  Just as Seaborn sits atop matplotlib, so does Express sit atop plotly which, used directly, is capable of lots of customization, in tandem with Express."
   ]
  },
  {
   "cell_type": "markdown",
   "id": "160bfa55-e59a-45ed-a3c0-5cd7f2329d94",
   "metadata": {},
   "source": [
    "https://www.youtube.com/watch?v=GGL6U0k8WYA \n",
    "\n",
    "Derek Banas has a truly excellent tutorial, but he doesn't have time to talk much about some of what he imports or why.  \n",
    "\n",
    "Will the Jupyter configuration also work in Colab?  Not without modifications.  Check out Binder.\n",
    "\n",
    "Is the opening exactly the same if working in Anaconda?"
   ]
  },
  {
   "cell_type": "markdown",
   "id": "6cdfaf30-df2b-4e19-b4f8-5f86abc298bb",
   "metadata": {},
   "source": [
    "We also now have Dash, ploty's flagship product.  The enterprise version costs something, but if you just want to test the waters...\n",
    "\n",
    "* [Jupyter Dash on Binder: Getting Started](https://mybinder.org/v2/gh/plotly/jupyter-dash/044acaaecbc60a9b52108b0d03b02ce504a7cce3)\n",
    "* [Saved Version of this Notebook](https://chart-studio.plotly.com/~pdx4d/1)"
   ]
  },
  {
   "cell_type": "code",
   "execution_count": null,
   "id": "80a11c9f-a9b2-470a-b794-4b827a8b9bc9",
   "metadata": {},
   "outputs": [],
   "source": [
    "import pandas as pd\n",
    "import numpy as np\n",
    "import plotly as py\n",
    "import cufflinks as cf\n",
    "import seaborn as sns\n",
    "import plotly.express as px\n",
    "%matplotlib inline\n",
    "\n",
    "# Make Plotly work in your Jupyter Notebook\n",
    "from plotly.offline import download_plotlyjs, init_notebook_mode, plot, iplot\n",
    "init_notebook_mode(connected=True)\n",
    "# Use Plotly locally\n",
    "cf.go_offline()"
   ]
  },
  {
   "cell_type": "code",
   "execution_count": null,
   "id": "6ee7d17d-a24a-4f93-ba8f-3f1c4c3bbba0",
   "metadata": {},
   "outputs": [],
   "source": [
    "import plotly.graph_objects as go"
   ]
  },
  {
   "cell_type": "markdown",
   "id": "f511df33-21b2-4870-a9f4-84180c04d3dc",
   "metadata": {},
   "source": [
    "The two datasets used here are:\n",
    "\n",
    "- [Melbourne Housing Snapshot](https://www.kaggle.com/datasets/gunjanpathak/melb-data)\n",
    "- Superstore Sales Dataset\n",
    "\n",
    "**[Plotly Official Page](https://plotly.com/python/)**\n",
    "\n",
    "**[4 Reasons Why Plotly Is The Best Visualization Library](https://towardsdatascience.com/4-reasons-why-plotly-is-the-best-visualization-library-18c27de05b95)**"
   ]
  },
  {
   "cell_type": "markdown",
   "id": "8b247936",
   "metadata": {},
   "source": [
    "## <p style=\"background-color:#9d4f8c; font-family:newtimeroman; color:#FFF9ED; font-size:150%; text-align:center; border-radius:10px 10px;\">IMPORTING LIBRARIES NEEDED IN THIS NOTEBOOK</p>\n",
    "\n",
    "<a id=\"0\"></a>\n",
    "<a href=\"#toc\" class=\"btn btn-primary btn-sm\" role=\"button\" aria-pressed=\"true\" \n",
    "style=\"color:blue; background-color:#dfa8e4\" data-toggle=\"popover\">Content</a>"
   ]
  },
  {
   "cell_type": "code",
   "execution_count": null,
   "id": "ab2c1c23",
   "metadata": {},
   "outputs": [],
   "source": [
    "# !pip install plotly"
   ]
  },
  {
   "cell_type": "code",
   "execution_count": null,
   "id": "43ef42d9-7a77-4744-a70b-2fc5b93f4dc9",
   "metadata": {},
   "outputs": [],
   "source": [
    "import sys\n",
    "sys.version"
   ]
  },
  {
   "cell_type": "code",
   "execution_count": null,
   "id": "fd116040-91f3-4bac-8d81-c725cc08d0c5",
   "metadata": {},
   "outputs": [],
   "source": [
    "np.__version__"
   ]
  },
  {
   "cell_type": "code",
   "execution_count": null,
   "id": "c5ca216f-0baa-4152-9dc6-bc3ba72ebcf8",
   "metadata": {},
   "outputs": [],
   "source": [
    "pd.__version__"
   ]
  },
  {
   "cell_type": "code",
   "execution_count": null,
   "id": "b0145f0c-52c7-4987-bb9c-7af3150bb6b1",
   "metadata": {},
   "outputs": [],
   "source": [
    "cf.__version__"
   ]
  },
  {
   "cell_type": "code",
   "execution_count": null,
   "id": "21be3931-652f-46f1-b6f2-c9464e264b28",
   "metadata": {},
   "outputs": [],
   "source": [
    "py.__version__"
   ]
  },
  {
   "cell_type": "code",
   "execution_count": null,
   "id": "db2f0cda-58c2-49dd-b69a-89a026239e66",
   "metadata": {},
   "outputs": [],
   "source": [
    "import matplotlib as mpl\n",
    "mpl.__version__"
   ]
  },
  {
   "cell_type": "code",
   "execution_count": null,
   "id": "5016c9cc-648f-4b05-b04e-310a13a5e765",
   "metadata": {},
   "outputs": [],
   "source": [
    "sns.__version__"
   ]
  },
  {
   "cell_type": "code",
   "execution_count": null,
   "id": "038d4c53",
   "metadata": {},
   "outputs": [],
   "source": [
    "# Set it None to display all rows in the dataframe\n",
    "# pd.set_option('display.max_rows', None)\n",
    "\n",
    "# Set it to None to display all columns in the dataframe\n",
    "pd.set_option('display.max_columns', None)"
   ]
  },
  {
   "cell_type": "markdown",
   "id": "1142012f-073f-49de-86a8-b000c6474fa4",
   "metadata": {},
   "source": [
    "First, with tools we have used before, for contrast.  This scatter plot makes no attempt to provide a background map."
   ]
  },
  {
   "cell_type": "code",
   "execution_count": null,
   "id": "e1697c01-a259-49e0-9d11-c308d8f7f8fb",
   "metadata": {},
   "outputs": [],
   "source": [
    "import matplotlib.pyplot as plt\n",
    "\n",
    "df = pd.read_csv('Global-Power-Plant.csv')\n",
    "\n",
    "plt.scatter(x=df['Longitude'], y=df['Latitude'], s=2)\n",
    "plt.rcParams[\"figure.figsize\"] = (50,35)\n",
    "plt.show()"
   ]
  },
  {
   "cell_type": "markdown",
   "id": "a9263238-e858-483e-9b7c-b26a0f212119",
   "metadata": {},
   "source": [
    "With plotly, we can do better, using the same pandas DataFrame as input."
   ]
  },
  {
   "cell_type": "code",
   "execution_count": null,
   "id": "4114b828-b1e0-4ecb-8fc7-1cbb2d039aea",
   "metadata": {},
   "outputs": [],
   "source": [
    "fig = px.scatter_geo(df, \n",
    "                     lat='Latitude', lon='Longitude', \n",
    "                     hover_name=\"Powerplant Name\",\n",
    "                     projection=\"orthographic\",\n",
    "                     width  = 1.5 * 500,\n",
    "                     height = 1.5 * 350)\n",
    "\n",
    "fig.update_traces(marker=dict(size=1))\n",
    "fig.update_layout(title_text=\"Mapping Power Plants\",\n",
    "                  title_font_size=18)\n",
    "fig.show()"
   ]
  },
  {
   "cell_type": "code",
   "execution_count": null,
   "id": "3d2a24f9-4d96-451a-8eea-d4e0083a93f4",
   "metadata": {},
   "outputs": [],
   "source": [
    "import sqlite3\n",
    "conn = sqlite3.connect(\"airports.db\")\n",
    "airports = pd.read_sql(\"SELECT * FROM Airports\", conn)\n",
    "conn.close()\n",
    "airports.head()"
   ]
  },
  {
   "cell_type": "code",
   "execution_count": null,
   "id": "9005aae9-5ca2-43c0-a001-bcca6fe5d4b5",
   "metadata": {},
   "outputs": [],
   "source": [
    "airports.describe(include='all').T"
   ]
  },
  {
   "cell_type": "code",
   "execution_count": null,
   "id": "7d0afe55-6f08-4414-8080-411fb55acff0",
   "metadata": {},
   "outputs": [],
   "source": [
    "airports.info()"
   ]
  },
  {
   "cell_type": "code",
   "execution_count": null,
   "id": "4fbe8312-f503-4548-b0b4-ee26083154f4",
   "metadata": {},
   "outputs": [],
   "source": [
    "bigairportsquery = \"SELECT iata, name, lat, lon FROM Airports WHERE type='airport' AND size='large'\"\n",
    "conn = sqlite3.connect(\"airports.db\")\n",
    "bigairports = pd.read_sql(bigairportsquery, conn)\n",
    "conn.close()\n",
    "bigairports.head()"
   ]
  },
  {
   "cell_type": "code",
   "execution_count": null,
   "id": "4f7040d8-d968-4398-bb2b-a311a2e45ee1",
   "metadata": {},
   "outputs": [],
   "source": [
    "bigairports.info()"
   ]
  },
  {
   "cell_type": "code",
   "execution_count": null,
   "id": "4026138f-36f8-4e02-8217-1f48c08f565c",
   "metadata": {},
   "outputs": [],
   "source": [
    "fig = px.scatter_geo(bigairports, \n",
    "                     lat='lat', lon='lon', \n",
    "                     hover_data= [\"iata\", \"name\"],\n",
    "                     center = dict(lat=0, lon=0),\n",
    "                     projection = \"orthographic\",\n",
    "                     width=800,\n",
    "                     height=600)\n",
    "\n",
    "fig.update_traces(marker=dict(size=4))\n",
    "fig.update_layout(title_text=\"Major Airports\",\n",
    "                  title_font_size=18)\n",
    "fig.show()"
   ]
  },
  {
   "cell_type": "code",
   "execution_count": null,
   "id": "ce75574e",
   "metadata": {},
   "outputs": [],
   "source": [
    "plotly_data = pd.read_html(\"https://en.wikipedia.org/wiki/Plotly\")\n",
    "plotly_data[2].head(20)"
   ]
  },
  {
   "cell_type": "code",
   "execution_count": null,
   "id": "c1b4e44b",
   "metadata": {},
   "outputs": [],
   "source": [
    "charts = plotly_data[2]"
   ]
  },
  {
   "cell_type": "code",
   "execution_count": null,
   "id": "02c529aa-d482-457b-af25-cf190fafb162",
   "metadata": {},
   "outputs": [],
   "source": [
    "charts.rename(columns = {\"JavaScript[25]\":\"JavaScript\", \"Python[26]\":\"Python\", \"R[27]\":\"R\", \"Julia[28]\":\"Julia\"},\n",
    "             inplace = True)\n",
    "charts.info()"
   ]
  },
  {
   "cell_type": "code",
   "execution_count": null,
   "id": "24bc1753-d75b-4b58-b8a6-2e14cb669c36",
   "metadata": {},
   "outputs": [],
   "source": [
    "charts.rename(columns = {\"Chart Type\":\"Chart_Type\", \"Chart Name\":\"Chart_Name\"},\n",
    "             inplace = True)\n",
    "charts.info()"
   ]
  },
  {
   "cell_type": "code",
   "execution_count": null,
   "id": "ccc41e27",
   "metadata": {
    "scrolled": true
   },
   "outputs": [],
   "source": [
    "charts.tail(20)"
   ]
  },
  {
   "cell_type": "markdown",
   "id": "94ab07cf",
   "metadata": {},
   "source": [
    "## <p style=\"background-color:#9d4f8c; font-family:newtimeroman; color:#FFF9ED; font-size:150%; text-align:center; border-radius:10px 10px;\">READING THE DATASETS</p>\n",
    "\n",
    "<a id=\"0\"></a>\n",
    "<a href=\"#toc\" class=\"btn btn-primary btn-sm\" role=\"button\" aria-pressed=\"true\" \n",
    "style=\"color:blue; background-color:#dfa8e4\" data-toggle=\"popover\">Content</a>"
   ]
  },
  {
   "cell_type": "markdown",
   "id": "52350df3",
   "metadata": {},
   "source": [
    "The Melbourne data is a bit large, for the sake of simplicity, we are taking only 1000 data points from the dataset."
   ]
  },
  {
   "cell_type": "code",
   "execution_count": null,
   "id": "ae46edc6-e25c-4761-9fba-4af80a5edc68",
   "metadata": {
    "scrolled": true
   },
   "outputs": [],
   "source": [
    "melb = pd.read_csv(\"melb_data.csv.zip\", index_col=0)\n",
    "melb = melb[0:1000]"
   ]
  },
  {
   "cell_type": "code",
   "execution_count": null,
   "id": "005b4f53-b330-4e44-b9be-9ed8d4a13d9f",
   "metadata": {},
   "outputs": [],
   "source": [
    "melb.info()"
   ]
  },
  {
   "cell_type": "code",
   "execution_count": null,
   "id": "f38b3325-c5e0-4040-a9a2-3cd05dee4114",
   "metadata": {},
   "outputs": [],
   "source": [
    "melb.index"
   ]
  },
  {
   "cell_type": "code",
   "execution_count": null,
   "id": "353d5611-4d56-4f63-add2-259bc39551a5",
   "metadata": {
    "scrolled": true
   },
   "outputs": [],
   "source": [
    "melb.head()"
   ]
  },
  {
   "cell_type": "code",
   "execution_count": null,
   "id": "78babf05",
   "metadata": {},
   "outputs": [],
   "source": [
    "sales = pd.read_csv(\"Superstore_Sales_Dataset.zip\")\n",
    "sales.head()"
   ]
  },
  {
   "cell_type": "code",
   "execution_count": null,
   "id": "7527a7f6-14ca-496d-a5ef-7e207270af0a",
   "metadata": {},
   "outputs": [],
   "source": [
    "sales.info()"
   ]
  },
  {
   "cell_type": "markdown",
   "id": "0d5e49dc",
   "metadata": {},
   "source": [
    "## <p style=\"background-color:#9d4f8c; font-family:newtimeroman; color:#FFF9ED; font-size:150%; text-align:center; border-radius:10px 10px;\">SCATTER PLOTS WITH PLOTLY</p>\n",
    "\n",
    "<a id=\"0\"></a>\n",
    "<a href=\"#toc\" class=\"btn btn-primary btn-sm\" role=\"button\" aria-pressed=\"true\" \n",
    "style=\"color:blue; background-color:#dfa8e4\" data-toggle=\"popover\">Content</a>\n",
    "\n",
    "Scatterplots are a great way to analyze data distribution and the relation between various data fields. Various trends in data can be analyzed and plotted. Plotting scatter plots with Plotly is very easy. Let us make a scatter plot to understand the data distribution."
   ]
  },
  {
   "cell_type": "code",
   "execution_count": null,
   "id": "739fac31",
   "metadata": {},
   "outputs": [],
   "source": [
    "fig = px.scatter(melb, x=\"Landsize\", y=\"Price\", color=\"Regionname\")\n",
    "fig.show()"
   ]
  },
  {
   "cell_type": "code",
   "execution_count": null,
   "id": "7734b085-5efe-449f-818b-efd7e2af4ee2",
   "metadata": {},
   "outputs": [],
   "source": [
    "melb[melb.Landsize > 70000]"
   ]
  },
  {
   "cell_type": "code",
   "execution_count": null,
   "id": "cbcda850-3b45-4dc2-86c8-764d7706051a",
   "metadata": {},
   "outputs": [],
   "source": [
    "melb2 = melb[melb.Landsize < 10000]"
   ]
  },
  {
   "cell_type": "markdown",
   "id": "296e8a3f",
   "metadata": {},
   "source": [
    "We can hover over the plots and see exact data values and other information. "
   ]
  },
  {
   "cell_type": "code",
   "execution_count": null,
   "id": "74b16ad4",
   "metadata": {},
   "outputs": [],
   "source": [
    "px.scatter(melb2, x=\"Landsize\", y=\"Price\", color='Postcode', hover_data=[melb2.index])"
   ]
  },
  {
   "cell_type": "code",
   "execution_count": null,
   "id": "33f4f0ce",
   "metadata": {},
   "outputs": [],
   "source": [
    "melb.drop(index=1198, inplace=True)"
   ]
  },
  {
   "cell_type": "code",
   "execution_count": null,
   "id": "01ee0211",
   "metadata": {},
   "outputs": [],
   "source": [
    "fig = px.scatter(melb, x=\"Landsize\", y=\"Price\", color='Postcode', hover_data=[melb.index])\n",
    "fig.show()"
   ]
  },
  {
   "cell_type": "code",
   "execution_count": null,
   "id": "2d1039d8",
   "metadata": {},
   "outputs": [],
   "source": [
    "melb.drop(index=41, inplace=True)"
   ]
  },
  {
   "cell_type": "code",
   "execution_count": null,
   "id": "9c84da20",
   "metadata": {},
   "outputs": [],
   "source": [
    "fig = px.scatter(melb, x=\"Landsize\", y=\"Price\", color='Postcode', hover_data=[melb.index])\n",
    "fig.show()"
   ]
  },
  {
   "cell_type": "code",
   "execution_count": null,
   "id": "ac125dfe",
   "metadata": {},
   "outputs": [],
   "source": [
    "fig = px.scatter(melb, x=\"Landsize\", y=\"Price\", color='Postcode')\n",
    "fig.update_traces(marker_size=8)"
   ]
  },
  {
   "cell_type": "code",
   "execution_count": null,
   "id": "dcefd91a",
   "metadata": {},
   "outputs": [],
   "source": [
    "fig = px.scatter(melb, x=\"Lattitude\", y=\"Longtitude\", \n",
    "                 marginal_x=\"histogram\", \n",
    "                 marginal_y=\"rug\", \n",
    "                 color=\"Regionname\")\n",
    "fig.show()"
   ]
  },
  {
   "cell_type": "code",
   "execution_count": null,
   "id": "ba2e0c77",
   "metadata": {},
   "outputs": [],
   "source": [
    "fig = px.scatter(melb, x=\"Price\", y=\"YearBuilt\", color=\"Rooms\", facet_col=\"Type\", )\n",
    "fig.show()"
   ]
  },
  {
   "cell_type": "code",
   "execution_count": null,
   "id": "711410aa",
   "metadata": {},
   "outputs": [],
   "source": [
    "df = px.data.iris()\n",
    "\n",
    "fig = px.scatter(df, x=\"sepal_width\", y=\"sepal_length\", color='petal_width')\n",
    "fig.show()"
   ]
  },
  {
   "cell_type": "code",
   "execution_count": null,
   "id": "08f5070d",
   "metadata": {},
   "outputs": [],
   "source": [
    "fig = px.scatter(df, y=\"petal_length\", x=\"petal_width\", color=\"species\", symbol=\"species\")\n",
    "fig.update_traces(marker_size=10)"
   ]
  },
  {
   "cell_type": "markdown",
   "id": "d8230bc6",
   "metadata": {},
   "source": [
    "As seen above, Plotly represents really nice and well designed plots. In addition to scatterplots, Linear Regression plots can be made by using Plotly. Let us plot the linear relationship between total bills and tips in the Tips Dataset."
   ]
  },
  {
   "cell_type": "code",
   "execution_count": null,
   "id": "ad341678",
   "metadata": {},
   "outputs": [],
   "source": [
    "# linear regression\n",
    "import statsmodels\n",
    "\n",
    "tips = px.data.tips()\n",
    "\n",
    "fig = px.scatter(tips, x=\"total_bill\", y=\"tip\", trendline=\"ols\")\n",
    "fig.show()"
   ]
  },
  {
   "cell_type": "markdown",
   "id": "f336f2c9",
   "metadata": {},
   "source": [
    "## <p style=\"background-color:#9d4f8c; font-family:newtimeroman; color:#FFF9ED; font-size:150%; text-align:center; border-radius:10px 10px;\">LINE PLOTS WITH PLOTLY</p>\n",
    "\n",
    "<a id=\"0\"></a>\n",
    "<a href=\"#toc\" class=\"btn btn-primary btn-sm\" role=\"button\" aria-pressed=\"true\" \n",
    "style=\"color:blue; background-color:#dfa8e4\" data-toggle=\"popover\">Content</a>\n",
    "\n",
    "Line plots are great in visualizing continuous data. Time series data, mathematical functions etc are some of the data which can be plotted using Line Plots. They reveal data trends, maxima and minima. We can use them for time series data like stocks, sales over time and so on. It is a great way to plot a 2D relationship. Let us make a line plot to understand the data distribution."
   ]
  },
  {
   "cell_type": "code",
   "execution_count": null,
   "id": "68d9233a",
   "metadata": {},
   "outputs": [],
   "source": [
    "df = px.data.stocks()\n",
    "df.head()"
   ]
  },
  {
   "cell_type": "code",
   "execution_count": null,
   "id": "a4f01733-e394-4176-8698-5ffbc6e98a8d",
   "metadata": {},
   "outputs": [],
   "source": [
    "df.info()"
   ]
  },
  {
   "cell_type": "code",
   "execution_count": null,
   "id": "2de5b987",
   "metadata": {},
   "outputs": [],
   "source": [
    "df = px.data.stocks()\n",
    "\n",
    "fig = px.line(df, x='date', y=\"MSFT\")\n",
    "fig.show()"
   ]
  },
  {
   "cell_type": "code",
   "execution_count": null,
   "id": "3327ad07",
   "metadata": {},
   "outputs": [],
   "source": [
    "fig = px.line(df, x='date', y=[\"MSFT\",\"GOOG\",'FB',\"AMZN\"])\n",
    "fig.show()"
   ]
  },
  {
   "cell_type": "code",
   "execution_count": null,
   "id": "f5302907",
   "metadata": {},
   "outputs": [],
   "source": [
    "df = pd.read_csv(\"store_sharing.csv\")\n",
    "df.head(3)"
   ]
  },
  {
   "cell_type": "code",
   "execution_count": null,
   "id": "7234d49f",
   "metadata": {},
   "outputs": [],
   "source": [
    "df.info()"
   ]
  },
  {
   "cell_type": "code",
   "execution_count": null,
   "id": "98a2dda6",
   "metadata": {},
   "outputs": [],
   "source": [
    "df.timestamp = pd.to_datetime(df['timestamp'])"
   ]
  },
  {
   "cell_type": "code",
   "execution_count": null,
   "id": "c95fb179",
   "metadata": {},
   "outputs": [],
   "source": [
    "df.info()"
   ]
  },
  {
   "cell_type": "code",
   "execution_count": null,
   "id": "cc6319b2",
   "metadata": {},
   "outputs": [],
   "source": [
    "df.set_index('timestamp', inplace=True)\n",
    "df.head(3)"
   ]
  },
  {
   "cell_type": "code",
   "execution_count": null,
   "id": "4c2aba17",
   "metadata": {},
   "outputs": [],
   "source": [
    "f = lambda x: x.strftime('%Y-%m') # strftime works with array\n",
    "\n",
    "df['year_month'] = f(df.index)\n",
    "df['year'] = df.index.year  # only apply to array\n",
    "df['month'] = df.index.month\n",
    "df['day_of_month'] = df.index.day\n",
    "df['day_of_week'] = df.index.dayofweek\n",
    "df['hour'] = df.index.hour\n",
    "\n",
    "df.head(3)"
   ]
  },
  {
   "cell_type": "code",
   "execution_count": null,
   "id": "660954c9",
   "metadata": {},
   "outputs": [],
   "source": [
    "df_month_sum = pd.DataFrame(df.groupby('year_month').cnt.sum())\n",
    "df_month_sum"
   ]
  },
  {
   "cell_type": "code",
   "execution_count": null,
   "id": "99089141",
   "metadata": {},
   "outputs": [],
   "source": [
    "fig = px.line(df_month_sum, x=df_month_sum.index, y='cnt')\n",
    "fig.show()"
   ]
  },
  {
   "cell_type": "markdown",
   "id": "d3f81d3a",
   "metadata": {},
   "source": [
    "## <p style=\"background-color:#9d4f8c; font-family:newtimeroman; color:#FFF9ED; font-size:150%; text-align:center; border-radius:10px 10px;\">BAR PLOTS WITH PLOTLY</p>\n",
    "\n",
    "<a id=\"0\"></a>\n",
    "<a href=\"#toc\" class=\"btn btn-primary btn-sm\" role=\"button\" aria-pressed=\"true\" \n",
    "style=\"color:blue; background-color:#dfa8e4\" data-toggle=\"popover\">Content</a>\n",
    "\n",
    "A bar chart is a way of summarizing a set of categorical data. The bar chart displays data using a number of bars, each representing a particular category. Barplots are used to provide a straightforward comparison of data. They represent categorical data with rectangular bars of variable height. Plotting bar charts in Plotly is very easy and simple. Let us make a bar plot to understand the data distribution."
   ]
  },
  {
   "cell_type": "code",
   "execution_count": null,
   "id": "90932841",
   "metadata": {},
   "outputs": [],
   "source": [
    "melb.head(3)"
   ]
  },
  {
   "cell_type": "code",
   "execution_count": null,
   "id": "08640854",
   "metadata": {},
   "outputs": [],
   "source": [
    "fig = px.bar(melb, x='Suburb', y='Price', color=\"Regionname\")\n",
    "fig.show()"
   ]
  },
  {
   "cell_type": "code",
   "execution_count": null,
   "id": "6ea98a17",
   "metadata": {},
   "outputs": [],
   "source": [
    "melb.Method.unique()"
   ]
  },
  {
   "cell_type": "code",
   "execution_count": null,
   "id": "d3f680e1",
   "metadata": {},
   "outputs": [],
   "source": [
    "fig = px.bar(melb, \n",
    "             x='Suburb', \n",
    "             y='Price', \n",
    "             color=\"Regionname\", \n",
    "             pattern_shape=\"Method\", \n",
    "             pattern_shape_sequence=[\".\", \"x\", \"+\", \"/\", \"\\\\\"])\n",
    "fig.show()"
   ]
  },
  {
   "cell_type": "markdown",
   "id": "93a6952d",
   "metadata": {},
   "source": [
    "**What is** **[Gapminder](https://www.gapminder.org/)** **& What does it do?**\n",
    "\n",
    "Gapminder Foundation is an organization dedicated to educating the public by using data to dispel common myths about the so-called developing world. The organization uses **[data](https://www.gapminder.org/data/)** to show how actual trends in health and economics contradict the narratives that emanate from sensationalist media coverage of catastrophes, tragedies, and other unfortunate events.\n",
    "\n",
    "Its mission is to fight devastating ignorance with a fact-based worldview everyone can understand.\n",
    "\n",
    "Gapminder identifies systematic misconceptions about important global trends and proportions and uses reliable data to develop easy to understand teaching materials to rid people of their misconceptions."
   ]
  },
  {
   "cell_type": "code",
   "execution_count": null,
   "id": "8ca884c8",
   "metadata": {},
   "outputs": [],
   "source": [
    "data = px.data.gapminder()\n",
    "data_canada = data[data.country == 'Canada']\n",
    "\n",
    "fig = px.bar(data_canada, \n",
    "             x='year', \n",
    "             y='pop',\n",
    "             hover_data=['lifeExp', 'gdpPercap'], \n",
    "             color='lifeExp',\n",
    "             labels={'pop':'population of Canada'}, \n",
    "             height=400)\n",
    "fig.show()"
   ]
  },
  {
   "cell_type": "markdown",
   "id": "7cb9c2fb-45fb-4aec-9fc9-bbb5d62fe9cd",
   "metadata": {},
   "source": [
    "It can clearly be stated that with time, the population of Canada increased, and also life expectancy also increased. Better healthcare, improved medicines and increased quality of life might lead to this."
   ]
  },
  {
   "cell_type": "code",
   "execution_count": null,
   "id": "2d5ef9fb",
   "metadata": {},
   "outputs": [],
   "source": [
    "df = px.data.gapminder().query(\"continent == 'Oceania'\")\n",
    "df.head(3)"
   ]
  },
  {
   "cell_type": "code",
   "execution_count": null,
   "id": "3f23e272",
   "metadata": {},
   "outputs": [],
   "source": [
    "fig = px.bar(df, x='year', y='pop', barmode='stack', color='country')\n",
    "fig.show()"
   ]
  },
  {
   "cell_type": "markdown",
   "id": "819afed5",
   "metadata": {},
   "source": [
    "Stacked bar charts show the summation of individual entries as well the entire plot. So, it is a good way to understand the contribution of each individual factor towards a complete entity."
   ]
  },
  {
   "cell_type": "markdown",
   "id": "9a436793",
   "metadata": {},
   "source": [
    "**Let us plot the populations of the most populous nations in Asia.**"
   ]
  },
  {
   "cell_type": "code",
   "execution_count": null,
   "id": "31c86516",
   "metadata": {},
   "outputs": [],
   "source": [
    "df = px.data.gapminder().query(\"continent == 'Asia' and year == 2007 and pop > 8000000\")\n",
    "\n",
    "fig = px.bar(df, \n",
    "             y='pop', \n",
    "             x='country', \n",
    "             text='pop')\n",
    "fig.update_traces(texttemplate='%{text:.2s}', textposition='outside')\n",
    "fig.show()"
   ]
  },
  {
   "cell_type": "markdown",
   "id": "f88fab7c",
   "metadata": {},
   "source": [
    "## <p style=\"background-color:#9d4f8c; font-family:newtimeroman; color:#FFF9ED; font-size:150%; text-align:center; border-radius:10px 10px;\">HORIZONTAL BAR PLOTS WITH PLOTLY</p>\n",
    "\n",
    "<a id=\"0\"></a>\n",
    "<a href=\"#toc\" class=\"btn btn-primary btn-sm\" role=\"button\" aria-pressed=\"true\" \n",
    "style=\"color:blue; background-color:#dfa8e4\" data-toggle=\"popover\">Content</a>\n",
    "\n",
    "Exactly similar to Bar chart, a horizontal bar graph can be created by changing the orientation of the plot. px.bar() has an optional parameter to specify the orientation. To plot a Bar Plot horizontally using Plotly, we can set the orientation argument to h (as opposed to the default v) while plotting the Bar Plot:"
   ]
  },
  {
   "cell_type": "code",
   "execution_count": null,
   "id": "10e9e15e",
   "metadata": {},
   "outputs": [],
   "source": [
    "fig = px.bar(data_canada, \n",
    "             x='year', \n",
    "             y='pop', \n",
    "             orientation='h')\n",
    "fig.show()"
   ]
  },
  {
   "cell_type": "code",
   "execution_count": null,
   "id": "f17c53b4",
   "metadata": {},
   "outputs": [],
   "source": [
    "df = px.data.gapminder().query(\"continent == 'Asia' and year == 2007and pop > 8000000\")\n",
    "\n",
    "fig = px.bar(df, \n",
    "             x='pop', \n",
    "             y='country')\n",
    "fig.show()"
   ]
  },
  {
   "cell_type": "code",
   "execution_count": null,
   "id": "d7a22973-71b5-4b15-94c7-7a8599812754",
   "metadata": {},
   "outputs": [],
   "source": [
    "# ? pd.read_excel"
   ]
  },
  {
   "cell_type": "code",
   "execution_count": null,
   "id": "4cecf33b",
   "metadata": {},
   "outputs": [],
   "source": [
    "# Telecom Churn Dataset.xls\n",
    "df = pd.read_csv(\"https://raw.githubusercontent.com/mmcuri/ds_handson/master/data/telecom/WA_Fn-UseC_-Telco-Customer-Churn.csv\")\n",
    "df.head(3)"
   ]
  },
  {
   "cell_type": "code",
   "execution_count": null,
   "id": "be5dc72d",
   "metadata": {},
   "outputs": [],
   "source": [
    "fig = px.bar(df, \n",
    "             x='MonthlyCharges', \n",
    "             y='tenure', \n",
    "             color='tenure', \n",
    "             orientation='h')\n",
    "\n",
    "fig.show()"
   ]
  },
  {
   "cell_type": "markdown",
   "id": "3f9c1895",
   "metadata": {},
   "source": [
    "## <p style=\"background-color:#9d4f8c; font-family:newtimeroman; color:#FFF9ED; font-size:150%; text-align:center; border-radius:10px 10px;\">GANTT CHART WITH PLOTLY</p>\n",
    "\n",
    "<a id=\"0\"></a>\n",
    "<a href=\"#toc\" class=\"btn btn-primary btn-sm\" role=\"button\" aria-pressed=\"true\" \n",
    "style=\"color:blue; background-color:#dfa8e4\" data-toggle=\"popover\">Content</a>\n",
    "\n",
    "A Gantt chart is a type of bar chart that illustrates a project schedule. The chart lists the tasks to be performed on the vertical axis, and time intervals on the horizontal axis. The width of the horizontal bars in the graph shows the duration of each activity based on their timelines and progress."
   ]
  },
  {
   "cell_type": "code",
   "execution_count": null,
   "id": "7c1a9583",
   "metadata": {},
   "outputs": [],
   "source": [
    "df = pd.DataFrame([\n",
    "                   dict(Task=\"Development\", Start='2012-01-20', Finish='2012-02-20'),\n",
    "                   dict(Task=\"Website Design\", Start='2012-01-10', Finish='2012-01-30'),\n",
    "                   dict(Task=\"Deployment\", Start='2012-02-20', Finish='2012-03-30'),\n",
    "                   dict(Task=\"Marketing\", Start='2012-02-25', Finish='2012-04-15')\n",
    "                   ])\n",
    "\n",
    "fig = px.timeline(df, x_start=\"Start\", x_end=\"Finish\", y=\"Task\")\n",
    "fig.update_yaxes(autorange=\"reversed\") \n",
    "fig.show()"
   ]
  },
  {
   "cell_type": "markdown",
   "id": "5a3ccaf2",
   "metadata": {},
   "source": [
    "## <p style=\"background-color:#9d4f8c; font-family:newtimeroman; color:#FFF9ED; font-size:150%; text-align:center; border-radius:10px 10px;\">PIE CHARTS WITH PLOTLY</p>\n",
    "\n",
    "<a id=\"0\"></a>\n",
    "<a href=\"#toc\" class=\"btn btn-primary btn-sm\" role=\"button\" aria-pressed=\"true\" \n",
    "style=\"color:blue; background-color:#dfa8e4\" data-toggle=\"popover\">Content</a>\n",
    "\n",
    "Pie charts are used to understand the composition of data and analyse part to whole relationships in data. Piecharts ( and doughnut charts) plot the percentage composition of a value, as compared to the entire data/value."
   ]
  },
  {
   "cell_type": "code",
   "execution_count": null,
   "id": "a2422a1b",
   "metadata": {},
   "outputs": [],
   "source": [
    "sales.head(3)"
   ]
  },
  {
   "cell_type": "code",
   "execution_count": null,
   "id": "2ac353f7",
   "metadata": {},
   "outputs": [],
   "source": [
    "TotalSales_by_States = sales.groupby(\"State\")[\"Sales\"].sum()\n",
    "TotalSales_by_States"
   ]
  },
  {
   "cell_type": "code",
   "execution_count": null,
   "id": "b7362543",
   "metadata": {},
   "outputs": [],
   "source": [
    "fig = px.pie(TotalSales_by_States, \n",
    "             values=TotalSales_by_States.values, \n",
    "             names=TotalSales_by_States.index, \n",
    "             title='Sales by States in US')\n",
    "fig.show()"
   ]
  },
  {
   "cell_type": "code",
   "execution_count": null,
   "id": "bc9d69cd",
   "metadata": {},
   "outputs": [],
   "source": [
    "fig = px.pie(sales, \n",
    "             values='Sales', \n",
    "             names='Sub-Category', \n",
    "             title='Sales by Sub-Category in US',\n",
    "             color_discrete_sequence=px.colors.sequential.RdBu)\n",
    "fig.show()"
   ]
  },
  {
   "cell_type": "code",
   "execution_count": null,
   "id": "fb543488",
   "metadata": {},
   "outputs": [],
   "source": [
    "fig = px.pie(sales, \n",
    "             values='Sales', \n",
    "             names='Category', \n",
    "             title='Sales by Category in US')\n",
    "fig.show()"
   ]
  },
  {
   "cell_type": "code",
   "execution_count": null,
   "id": "5019278a",
   "metadata": {},
   "outputs": [],
   "source": [
    "fig = go.Figure(data=[go.Pie(labels=sales['Category'], \n",
    "                             values=sales['Sales'], \n",
    "                             title='Sales by Category in US', \n",
    "                             pull=[0.1, 0.2, 0.1])])\n",
    "fig.show()"
   ]
  },
  {
   "cell_type": "code",
   "execution_count": null,
   "id": "c4224aa7",
   "metadata": {},
   "outputs": [],
   "source": [
    "fig = px.pie(sales, \n",
    "             values='Sales', \n",
    "             names='Category', \n",
    "             title='Sales by Category in US', \n",
    "             hole=.3)\n",
    "fig.show()"
   ]
  },
  {
   "cell_type": "markdown",
   "id": "d1a15b47",
   "metadata": {},
   "source": [
    "## <p style=\"background-color:#9d4f8c; font-family:newtimeroman; color:#FFF9ED; font-size:150%; text-align:center; border-radius:10px 10px;\">BUBBLE CHARTS WITH PLOTLY</p>\n",
    "\n",
    "<a id=\"0\"></a>\n",
    "<a href=\"#toc\" class=\"btn btn-primary btn-sm\" role=\"button\" aria-pressed=\"true\" \n",
    "style=\"color:blue; background-color:#dfa8e4\" data-toggle=\"popover\">Content</a>\n",
    "\n",
    "A bubble chart is a scatter plot in which a third dimension of the data is shown through the size of markers. The bubble chart in Plotly is created using the scatter plot. It can be created using the scatter() method of plotly.express. A bubble chart is a data visualization which helps to displays multiple circles (bubbles) in a two-dimensional plot as same in scatter plot. A bubble chart is primarily used to depict and show relationships between numeric variables."
   ]
  },
  {
   "cell_type": "code",
   "execution_count": null,
   "id": "564f64bc",
   "metadata": {},
   "outputs": [],
   "source": [
    "df = px.data.gapminder()\n",
    "\n",
    "fig = px.scatter(df.query(\"year==2007\"), \n",
    "                 x=\"gdpPercap\", \n",
    "                 y=\"lifeExp\",\n",
    "                 size=\"pop\", \n",
    "                 color=\"continent\",\n",
    "                 hover_name=\"country\", \n",
    "                 log_x=True, \n",
    "                 size_max=60)\n",
    "fig.show()"
   ]
  },
  {
   "cell_type": "code",
   "execution_count": null,
   "id": "4bd4829a",
   "metadata": {},
   "outputs": [],
   "source": [
    "melb.head(3)"
   ]
  },
  {
   "cell_type": "code",
   "execution_count": null,
   "id": "064c85dd",
   "metadata": {},
   "outputs": [],
   "source": [
    "fig = px.scatter(melb, \n",
    "                 x=\"Landsize\", \n",
    "                 y=\"Price\",\n",
    "                 size=\"Price\", \n",
    "                 color=\"Postcode\",\n",
    "                 hover_name=\"Regionname\", \n",
    "                 log_x=True, \n",
    "                 size_max=30)\n",
    "fig.show()"
   ]
  },
  {
   "cell_type": "code",
   "execution_count": null,
   "id": "d139cea8",
   "metadata": {},
   "outputs": [],
   "source": [
    "df = px.data.gapminder().query(\"year==2007\")\n",
    "\n",
    "fig = px.scatter_geo(df, \n",
    "                     locations=\"iso_alpha\", \n",
    "                     color=\"continent\",\n",
    "                     hover_name=\"country\", \n",
    "                     size=\"pop\",\n",
    "                     projection=\"natural earth\")\n",
    "fig.show()"
   ]
  },
  {
   "cell_type": "markdown",
   "id": "df62549d",
   "metadata": {},
   "source": [
    "**Bubble Map with animation**"
   ]
  },
  {
   "cell_type": "code",
   "execution_count": null,
   "id": "78540996",
   "metadata": {},
   "outputs": [],
   "source": [
    "df = px.data.gapminder()\n",
    "\n",
    "fig = px.scatter_geo(df, \n",
    "                     locations=\"iso_alpha\", \n",
    "                     color=\"continent\",\n",
    "                     hover_name=\"country\", \n",
    "                     size=\"pop\",\n",
    "                     animation_frame=\"year\",\n",
    "                     projection=\"natural earth\")\n",
    "fig.show()"
   ]
  },
  {
   "cell_type": "markdown",
   "id": "c664e797",
   "metadata": {},
   "source": [
    "## <p style=\"background-color:#9d4f8c; font-family:newtimeroman; color:#FFF9ED; font-size:150%; text-align:center; border-radius:10px 10px;\">BOXPLOT WITH PLOTLY</p>\n",
    "\n",
    "<a id=\"0\"></a>\n",
    "<a href=\"#toc\" class=\"btn btn-primary btn-sm\" role=\"button\" aria-pressed=\"true\" \n",
    "style=\"color:blue; background-color:#dfa8e4\" data-toggle=\"popover\">Content</a>\n",
    "\n",
    "A box plot is a statistical representation of the distribution of a variable through its quartiles. The ends of the box represent the lower and upper quartiles, while the median (second quartile) is marked by a line inside the box. For other statistical representations of numerical data."
   ]
  },
  {
   "cell_type": "code",
   "execution_count": null,
   "id": "f5d13299",
   "metadata": {},
   "outputs": [],
   "source": [
    "df = pd.read_csv('StudentsPerformance.csv')\n",
    "df.head(3)"
   ]
  },
  {
   "cell_type": "code",
   "execution_count": null,
   "id": "6fba7c2e",
   "metadata": {},
   "outputs": [],
   "source": [
    "fig = px.box(df, y=\"math score\")\n",
    "fig.show()"
   ]
  },
  {
   "cell_type": "markdown",
   "id": "3aa31d31",
   "metadata": {},
   "source": [
    "The minimum on a box plot shows the lowest data point except for some of the outliers.\n",
    "\n",
    "The maximum shows the largest numerical data point.\n",
    "\n",
    "Median is the middle value of the data distribution.\n",
    "\n",
    "Then, the lower quartile is the 25 percentile and the upper quartile is the 75 percentile.\n",
    "\n",
    "Let us try some customised box plots."
   ]
  },
  {
   "cell_type": "code",
   "execution_count": null,
   "id": "754afa30",
   "metadata": {},
   "outputs": [],
   "source": [
    "fig = px.box(df, \n",
    "             x='gender', \n",
    "             y=\"math score\")\n",
    "fig.show()"
   ]
  },
  {
   "cell_type": "code",
   "execution_count": null,
   "id": "a1d3c206",
   "metadata": {},
   "outputs": [],
   "source": [
    "fig = px.box(df, \n",
    "             x='gender', \n",
    "             y=\"math score\", \n",
    "             points=\"all\")\n",
    "fig.show()"
   ]
  },
  {
   "cell_type": "code",
   "execution_count": null,
   "id": "81c64a23",
   "metadata": {},
   "outputs": [],
   "source": [
    "fig = px.box(df, \n",
    "             x='gender', \n",
    "             y=\"math score\", \n",
    "             color=\"test preparation course\")\n",
    "fig.show()"
   ]
  },
  {
   "cell_type": "code",
   "execution_count": null,
   "id": "32ec7ed7",
   "metadata": {},
   "outputs": [],
   "source": [
    "fig = px.box(df, \n",
    "             x='gender', \n",
    "             y=\"math score\", \n",
    "             color=\"test preparation course\", \n",
    "             notched=True)\n",
    "fig.show()"
   ]
  },
  {
   "cell_type": "markdown",
   "id": "fedafb85",
   "metadata": {},
   "source": [
    "## <p style=\"background-color:#9d4f8c; font-family:newtimeroman; color:#FFF9ED; font-size:150%; text-align:center; border-radius:10px 10px;\">HISTOGRAM WITH PLOTLY</p>\n",
    "\n",
    "<a id=\"0\"></a>\n",
    "<a href=\"#toc\" class=\"btn btn-primary btn-sm\" role=\"button\" aria-pressed=\"true\" \n",
    "style=\"color:blue; background-color:#dfa8e4\" data-toggle=\"popover\">Content</a>\n",
    "\n",
    "In statistics, a histogram is representation of the distribution of numerical data, where the data are binned and the count for each bin is represented. More generally, in Plotly a histogram is an aggregated bar chart, with several possible aggregation functions (e.g. sum, average, count...) which can be used to visualize data on categorical and date axes as well as linear axes."
   ]
  },
  {
   "cell_type": "code",
   "execution_count": null,
   "id": "bea45f30",
   "metadata": {},
   "outputs": [],
   "source": [
    "fig = px.histogram(df, \n",
    "                   x=\"math score\", \n",
    "                   nbins=20, \n",
    "                   color=\"gender\")\n",
    "fig.show()"
   ]
  },
  {
   "cell_type": "code",
   "execution_count": null,
   "id": "bd0c9ce9",
   "metadata": {},
   "outputs": [],
   "source": [
    "fig = px.histogram(df, \n",
    "                   x=\"math score\", \n",
    "                   nbins=20, \n",
    "                   color=\"gender\", \n",
    "                   marginal=\"rug\")\n",
    "fig.show()"
   ]
  },
  {
   "cell_type": "code",
   "execution_count": null,
   "id": "940da8f9",
   "metadata": {},
   "outputs": [],
   "source": [
    "fig = px.histogram(df, \n",
    "                   x=\"reading score\", \n",
    "                   y=\"math score\", \n",
    "                   color=\"gender\", \n",
    "                   marginal=\"box\",\n",
    "                   hover_data=df.columns)\n",
    "fig.show()"
   ]
  },
  {
   "cell_type": "code",
   "execution_count": null,
   "id": "cb430ba6",
   "metadata": {},
   "outputs": [],
   "source": [
    "df.columns"
   ]
  },
  {
   "cell_type": "code",
   "execution_count": null,
   "id": "935239a2",
   "metadata": {},
   "outputs": [],
   "source": [
    "fig = px.histogram(df, \n",
    "                   x=\"reading score\", \n",
    "                   y=\"writing score\", \n",
    "                   color=\"parental level of education\",\n",
    "                   marginal=\"box\",\n",
    "                   hover_data=df.columns)\n",
    "fig.show()"
   ]
  },
  {
   "cell_type": "markdown",
   "id": "c61405ad",
   "metadata": {},
   "source": [
    "## <p style=\"background-color:#9d4f8c; font-family:newtimeroman; color:#FFF9ED; font-size:150%; text-align:center; border-radius:10px 10px;\">BONUS</p>\n",
    "\n",
    "<a id=\"0\"></a>\n",
    "<a href=\"#toc\" class=\"btn btn-primary btn-sm\" role=\"button\" aria-pressed=\"true\" \n",
    "style=\"color:blue; background-color:#dfa8e4\" data-toggle=\"popover\">Content</a>"
   ]
  },
  {
   "cell_type": "code",
   "execution_count": null,
   "id": "13fae684-25fc-4bbe-b743-0d3af1b83a63",
   "metadata": {},
   "outputs": [],
   "source": [
    "import plotly.graph_objects as go\n",
    "from plotly.subplots import make_subplots\n",
    "\n",
    "import pandas as pd\n",
    "\n",
    "# read in volcano database data\n",
    "df = pd.read_csv(\n",
    "                \"https://raw.githubusercontent.com/plotly/datasets/master/volcano_db.csv\",\n",
    "                encoding=\"iso-8859-1\",\n",
    "                )"
   ]
  },
  {
   "cell_type": "code",
   "execution_count": null,
   "id": "be5e777c-3ddd-4628-a09b-486053d1feeb",
   "metadata": {},
   "outputs": [],
   "source": [
    "df"
   ]
  },
  {
   "cell_type": "code",
   "execution_count": null,
   "id": "94df4ecc-c4b7-478b-ae08-d56a58c0b78c",
   "metadata": {},
   "outputs": [],
   "source": [
    "# frequency of Country\n",
    "freq = df\n",
    "freq = freq.Country.value_counts().reset_index()\n",
    "freq.columns = [\"Country\", \"count\"]"
   ]
  },
  {
   "cell_type": "code",
   "execution_count": null,
   "id": "d2addd38-c0ba-465e-b330-02184edd251c",
   "metadata": {},
   "outputs": [],
   "source": [
    "freq"
   ]
  },
  {
   "cell_type": "code",
   "execution_count": null,
   "id": "399dd607-5aa6-4b33-af12-12428a974acb",
   "metadata": {},
   "outputs": [],
   "source": [
    "# read in 3d volcano surface data\n",
    "df_v = pd.read_csv(\"https://raw.githubusercontent.com/plotly/datasets/master/volcano.csv\")\n",
    "\n",
    "# Initialize figure with subplots\n",
    "fig = make_subplots(\n",
    "    rows=2, cols=2,\n",
    "    column_widths=[0.6, 0.4],\n",
    "    row_heights=[0.4, 0.6],\n",
    "    specs=[[{\"type\": \"scattergeo\", \"rowspan\": 2}, {\"type\": \"bar\"}],\n",
    "           [            None                    , {\"type\": \"surface\"}]])\n",
    "\n",
    "# Add scattergeo globe map of volcano locations\n",
    "fig.add_trace(\n",
    "    go.Scattergeo(lat=df[\"Latitude\"],\n",
    "                  lon=df[\"Longitude\"],\n",
    "                  mode=\"markers\",\n",
    "                  hoverinfo=\"text\",\n",
    "                  showlegend=False,\n",
    "                  marker=dict(color=\"crimson\", size=4, opacity=0.8)),\n",
    "    row=1, col=1\n",
    ")\n",
    "\n",
    "# Add locations bar chart\n",
    "fig.add_trace(\n",
    "              go.Bar(x=freq[\"Country\"][0:10],y=freq[\"count\"][0:10], marker=dict(color=\"crimson\"), showlegend=False),\n",
    "              row=1, col=2\n",
    "              )\n",
    "\n",
    "# Add 3d surface of volcano\n",
    "fig.add_trace(\n",
    "              go.Surface(z=df_v.values.tolist(), showscale=False),\n",
    "              row=2, col=2\n",
    "              )\n",
    "\n",
    "# Update geo subplot properties\n",
    "fig.update_geos(\n",
    "                projection_type=\"orthographic\",\n",
    "                landcolor=\"white\",\n",
    "                oceancolor=\"MidnightBlue\",\n",
    "                showocean=True,\n",
    "                lakecolor=\"LightBlue\"\n",
    "                )\n",
    "\n",
    "# Rotate x-axis labels\n",
    "fig.update_xaxes(tickangle=45)\n",
    "\n",
    "# Set theme, margin, and annotation in layout\n",
    "fig.update_layout(\n",
    "                  template=\"plotly_dark\",\n",
    "                  margin=dict(r=10, t=25, b=40, l=60),\n",
    "                  annotations=[\n",
    "                      dict(\n",
    "                          text=\"Source: NOAA\",\n",
    "                          showarrow=False,\n",
    "                          xref=\"paper\",\n",
    "                          yref=\"paper\",\n",
    "                          x=0,\n",
    "                          y=0)\n",
    "                              ]\n",
    "                  )\n",
    "\n",
    "fig.show()"
   ]
  },
  {
   "cell_type": "markdown",
   "id": "af314264-5e14-4ecd-bbaf-7b54211365b3",
   "metadata": {},
   "source": [
    "Pretty amazing right?\n",
    "\n",
    "### Beyond Seaborn and Plotly\n",
    "\n",
    "[Now Why Not Bokeh?](https://youtu.be/2TR_6VaVSOs)"
   ]
  },
  {
   "cell_type": "markdown",
   "id": "167479d7",
   "metadata": {},
   "source": [
    "<p style=\"text-align: center;\"><img src=\"https://docs.google.com/uc?id=1lY0Uj5R04yMY3-ZppPWxqCr5pvBLYPnV\" class=\"img-fluid\" \n",
    "alt=\"CLRSWY\"></p>\n",
    "\n",
    "## <p style=\"background-color:#FDFEFE; font-family:newtimeroman; color:#9d4f8c; font-size:100%; text-align:center; border-radius:10px 10px;\">WAY TO REINVENT YOURSELF</p>\n",
    "\n",
    "___"
   ]
  }
 ],
 "metadata": {
  "kernelspec": {
   "display_name": "Python 3 (ipykernel)",
   "language": "python",
   "name": "python3"
  },
  "language_info": {
   "codemirror_mode": {
    "name": "ipython",
    "version": 3
   },
   "file_extension": ".py",
   "mimetype": "text/x-python",
   "name": "python",
   "nbconvert_exporter": "python",
   "pygments_lexer": "ipython3",
   "version": "3.11.3"
  },
  "toc": {
   "base_numbering": 1,
   "nav_menu": {},
   "number_sections": false,
   "sideBar": true,
   "skip_h1_title": false,
   "title_cell": "Table of Contents",
   "title_sidebar": "Contents",
   "toc_cell": false,
   "toc_position": {},
   "toc_section_display": true,
   "toc_window_display": true
  }
 },
 "nbformat": 4,
 "nbformat_minor": 5
}
