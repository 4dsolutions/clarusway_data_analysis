{
 "cells": [
  {
   "cell_type": "markdown",
   "id": "ca8a8566-316f-4348-bf78-2df14e4d614a",
   "metadata": {},
   "source": [
    "<a href=\"https://colab.research.google.com/github/4dsolutions/clarusway_data_analysis/blob/main/DAwPy_S10_(Working%20with%20Text%20and%20Time%20Data)/DAwPy_S10_Joining_Tables.ipynb\"><img align=\"left\" src=\"https://colab.research.google.com/assets/colab-badge.svg\" alt=\"Open in Colab\" title=\"Open and Execute in Google Colaboratory\"></a><br/>\n",
    "[![nbviewer](https://raw.githubusercontent.com/jupyter/design/master/logos/Badges/nbviewer_badge.svg)](https://nbviewer.org/github/4dsolutions/clarusway_data_analysis/blob/main/DAwPy_S10_%28Working%20with%20Text%20and%20Time%20Data%29/DAwPy_S10_Joining_Tables.ipynb)\n",
    "\n",
    "________\n",
    "\n",
    "\n",
    "<a data-flickr-embed=\"true\" href=\"https://www.flickr.com/photos/kirbyurner/52136642608/in/photolist-2n4sSUz-2nr8Vrb-2oADYNY\" title=\"Clarusway Banner\"><img src=\"https://live.staticflickr.com/65535/52136642608_bd45cb00a9_b.jpg\" width=\"1024\" height=\"334\" alt=\"Clarusway Banner\"/></a><script async src=\"//embedr.flickr.com/assets/client-code.js\" charset=\"utf-8\"></script>\n",
    "\n",
    "<img src=https://i.ibb.co/6gCsHd6/1200px-Pandas-logo-svg.png width=\"700\" height=\"200\">\n",
    "\n",
    "## <p style=\"background-color:#FDFEFE; font-family:newtimeroman; color:#060108; font-size:200%; text-align:center; borde|r-radius:10px 10px;\">Data Analysis with Python</p>\n",
    "\n",
    "## <p style=\"background-color:#FDFEFE; font-family:newtimeroman; color:#060108; font-size:150%; text-align:center; border-radius:10px 10px;\">Session - 11</p>\n",
    "\n",
    "## <p style=\"background-color:#FDFEFE; font-family:newtimeroman; color:#4d77cf; font-size:200%; text-align:center; border-radius:10px 10px;\">Combining Tables + SQL</p>\n",
    "## <p style=\"background-color:#FDFEFE; font-family:newtimeroman; color:#9d4f8c; font-size:120%; text-align:center; border-radius:10px 10px;\">Way to Reinvent Yourself</p>"
   ]
  },
  {
   "cell_type": "markdown",
   "id": "fc644b34-bc94-408e-8fed-354c6c2770a3",
   "metadata": {},
   "source": [
    "In this Notebook, we: \n",
    "\n",
    "* develop a small set of tables in pandas\n",
    "* write some Python code for adding data to at least one of them\n",
    "* combine DataFrames using pandas `merge` and `join`\n",
    "* store our tables to an SQLite database.\n",
    "\n",
    "Let's create a small database consisting of three related tables:\n",
    "\n",
    "* a roster patients seen by a practice\n",
    "* patient visits with physicians\n",
    "* a roster of physicians in the practice"
   ]
  },
  {
   "cell_type": "code",
   "execution_count": null,
   "id": "f5e28639-d4a4-42e3-8641-c931e3f508d6",
   "metadata": {},
   "outputs": [],
   "source": [
    "import pandas as pd\n",
    "import numpy as np"
   ]
  },
  {
   "cell_type": "code",
   "execution_count": null,
   "id": "fe4cd9b9-285b-45be-86ba-a136ffb88c9f",
   "metadata": {},
   "outputs": [],
   "source": [
    "import sys\n",
    "sys.version"
   ]
  },
  {
   "cell_type": "markdown",
   "id": "49df08c6-d417-4883-8de0-90aa14e1e4f6",
   "metadata": {},
   "source": [
    "Feeding in a list of tuples, while providing column names in the form of a named Series, results in the tuples going in row-wise i.e. row by row"
   ]
  },
  {
   "cell_type": "code",
   "execution_count": null,
   "id": "0e601166-0013-4a8a-b446-d6c6736a1d44",
   "metadata": {},
   "outputs": [],
   "source": [
    "patients = [\n",
    "    (\"13298\",\"Debbie\", \"Rose\",\n",
    "     \"32 SE Beacon St.\", \n",
    "     \"Portland\", \"OR\", \"97214\", \n",
    "     \"503-311-9928\"),\n",
    "    (\"12446\",\"Jerry\", \"Turing\",\n",
    "     \"491 NW Shanny St.\", \n",
    "     \"Portland\", \"OR\", \"97111\", \n",
    "     \"503-311-7865\"),\n",
    "    (\"77650\",\"Bruce\", \"Flemming\",\n",
    "     \"32 SE Beacon St.\", \n",
    "     \"Portland\", \"OR\", \"97214\", \n",
    "     \"503-311-9928\"),\n",
    "    (\"89765\",\"Susan\", \"Constanza\",\n",
    "     \"8976 NW Circle Court, Apt 2E\", \n",
    "     \"Gresham\", \"OR\", \"97211\", \n",
    "     \"503-321-8640\"),\n",
    "    (\"56768\",\"Raul\", \"Sosa\",\n",
    "     \"786 NW Couch St.\", \n",
    "     \"Portland\", \"OR\", \"97212\", \n",
    "     \"503-311-1018\")\n",
    "]\n",
    "\n",
    "patients_df = pd.DataFrame(\n",
    "    data=patients,\n",
    "    columns = pd.Series([\"MR\", \"FIRSTNM\",\"LASTNM\", \n",
    "               \"STREET\", \"CITY\", \"STATE\", \"ZIPCODE\", \n",
    "               \"PHONE\"], name=\"IDENT\")\n",
    ")\n",
    "\n",
    "patients_df.set_index(\"MR\", inplace=True)"
   ]
  },
  {
   "cell_type": "code",
   "execution_count": null,
   "id": "017095b4-ac08-44b3-be30-da018b5a5191",
   "metadata": {},
   "outputs": [],
   "source": [
    "patients_df"
   ]
  },
  {
   "cell_type": "code",
   "execution_count": null,
   "id": "0f5f1e96-f310-4bc4-915b-18336de7ed96",
   "metadata": {},
   "outputs": [],
   "source": [
    "patients_df.index"
   ]
  },
  {
   "cell_type": "markdown",
   "id": "a5e11381-af89-4708-91a2-178b63bccea7",
   "metadata": {},
   "source": [
    "Let's automate a process for adding new patient records.  Rather than make up a medical record number, we'll let Python randomly generate one for us, and making sure it's not already in use..."
   ]
  },
  {
   "cell_type": "code",
   "execution_count": null,
   "id": "89a0cdc4-ae3f-4cad-8ae3-d9de40feb268",
   "metadata": {},
   "outputs": [],
   "source": [
    "def get_mr(table=patients_df):\n",
    "    not_ok = True\n",
    "    while not_ok:\n",
    "        mr = str(np.random.randint(10000,100000))\n",
    "        if mr not in table.index:\n",
    "            not_ok = False\n",
    "    return mr"
   ]
  },
  {
   "cell_type": "code",
   "execution_count": null,
   "id": "51c2f670-8337-428d-81a5-abf5b2ec879e",
   "metadata": {},
   "outputs": [],
   "source": [
    "get_mr()"
   ]
  },
  {
   "cell_type": "code",
   "execution_count": null,
   "id": "742cba7a-7dca-4f45-b212-68b84ec51dac",
   "metadata": {},
   "outputs": [],
   "source": [
    "template = \\\n",
    "\"\"\"\n",
    "{first} {last}\n",
    "{street}, \n",
    "{city}, {state} {zipcode}\n",
    "{phone}\n",
    "\"\"\"\n",
    "\n",
    "def add_patient(table=patients_df):\n",
    "    not_ok = True\n",
    "    while not_ok:\n",
    "        \n",
    "        #prompt for inputs\n",
    "        first = input(\"First? >\")\n",
    "        last = input(\"Last? >\")\n",
    "        street = input(\"Street? >\")\n",
    "        city = input(\"City? >\")\n",
    "        state = input(\"State? >\")\n",
    "        zipcode = input(\"Zip code? >\")\n",
    "        phone = input(\"Phone? >\")\n",
    "        \n",
    "        # substitute local vars into the template\n",
    "        print(template.format(**locals()))\n",
    "        ans = input(\"OK? (Y/N or Quit): >\")\n",
    "        \n",
    "        if ans.upper() == \"N\":    # try again\n",
    "            continue\n",
    "        elif ans.upper() == \"Y\":  # add new info\n",
    "            not_ok = False\n",
    "            continue    \n",
    "        else:                     # escape from loop\n",
    "            break\n",
    "        \n",
    "    else: # not_ok == False\n",
    "        print(\"Adding new patient record\")\n",
    "        new_mr = get_mr()\n",
    "        # create a dict using the local vars we've filled in\n",
    "        new_rec = pd.Series({\"MR\": new_mr,\n",
    "                             \"FIRSTNM\": first,\n",
    "                             \"LASTNM\": last,\n",
    "                             \"STREET\": street,\n",
    "                             \"CITY\": city,\n",
    "                             \"STATE\": state,\n",
    "                             \"ZIPCODE\": zipcode,\n",
    "                             \"PHONE\": phone})\n",
    "        # turn the input Series into a DataFrame with the same cols and index\n",
    "        bottom_row = pd.DataFrame(new_rec).T.set_index(\"MR\")\n",
    "        return pd.concat([table, bottom_row]) # append new row\n",
    "    \n",
    "    # break (above) takes us here         \n",
    "    print(\"No action taken\")\n",
    "    return table # return table as received"
   ]
  },
  {
   "cell_type": "code",
   "execution_count": null,
   "id": "f73b7416-4566-4bc7-bd23-18beceb7f640",
   "metadata": {},
   "outputs": [],
   "source": [
    "newtable  = add_patient()"
   ]
  },
  {
   "cell_type": "code",
   "execution_count": null,
   "id": "3486cbf6-71b6-47a3-abc8-03bff2b1e3da",
   "metadata": {},
   "outputs": [],
   "source": [
    "newtable"
   ]
  },
  {
   "cell_type": "code",
   "execution_count": null,
   "id": "fe274900-078a-4de8-8f9b-f862b1b701fe",
   "metadata": {},
   "outputs": [],
   "source": [
    "physicians_df = pd.DataFrame(\n",
    "    {\"DR_ID\": [\"1001\", \"1002\", \"1003\"],\n",
    "     \"DR_NAME\": [\"Sheela Morley, M.D.\",\n",
    "                 \"Malcolm Head, D.O.\",\n",
    "                 \"Patricia Lord, M.D.\"]}).set_index(\"DR_ID\")"
   ]
  },
  {
   "cell_type": "code",
   "execution_count": null,
   "id": "3d174334-12fa-43c4-b53c-d6c455f25026",
   "metadata": {},
   "outputs": [],
   "source": [
    "physicians_df"
   ]
  },
  {
   "cell_type": "code",
   "execution_count": null,
   "id": "645d752c-9146-499f-ad2f-b07705bbe9d6",
   "metadata": {},
   "outputs": [],
   "source": [
    "pd.Timedelta(1.5, unit='h')"
   ]
  },
  {
   "cell_type": "code",
   "execution_count": null,
   "id": "c7343259-91aa-4b87-bd76-e415122cfd0b",
   "metadata": {},
   "outputs": [],
   "source": [
    "import re\n",
    "\n",
    "target = pd.Timedelta(1.25, unit='h')\n",
    "target"
   ]
  },
  {
   "cell_type": "code",
   "execution_count": null,
   "id": "d0f29514-5322-4083-92cc-23cd4c7f6af2",
   "metadata": {},
   "outputs": [],
   "source": [
    "target.isoformat()"
   ]
  },
  {
   "cell_type": "code",
   "execution_count": null,
   "id": "c57db33d-951f-4d5f-978e-080c6b66d88a",
   "metadata": {},
   "outputs": [],
   "source": [
    "re.sub(pattern = r\"^.*(?P<h>\\d+)H(?P<m>\\d+)M.*$\",\n",
    "       repl    = r\"\\g<h>h \\g<m>m\",\n",
    "       string  = target.isoformat())"
   ]
  },
  {
   "cell_type": "code",
   "execution_count": null,
   "id": "8565f094-ccc3-4d24-97c2-d7a2af1aa8b1",
   "metadata": {},
   "outputs": [],
   "source": [
    "visits = [('77650', '1001', '2023-5-17T13:50', \"1.25\"),\n",
    "          ('77650', '1001', '2023-5-31T14:00', \"0.75\"),\n",
    "          ('12446', '1003', '2023-5-31T10:15', \"0.10\"),\n",
    "          ('89765', '1002', '2023-6-04T10:00', \"0.50\"),\n",
    "          ('12446', '1003', '2023-6-04T10:15', \"0.10\"),]\n",
    "\n",
    "visits_df = pd.DataFrame(\n",
    "    data=visits,\n",
    "    columns = pd.Series([\"MR\", \"DR_ID\",\"CHECK_IN\", \"DURATION\"], name=\"VISIT\")\n",
    ")\n",
    "\n",
    "visits_df[\"CHECK_IN\"] = visits_df[\"CHECK_IN\"].astype('datetime64[ns]')\n",
    "visits_df[\"DURATION\"] = visits_df[\"DURATION\"].astype('float')\n",
    "visits_df"
   ]
  },
  {
   "cell_type": "code",
   "execution_count": null,
   "id": "cf2216fb-c7a6-4219-b48b-ed90969253c5",
   "metadata": {},
   "outputs": [],
   "source": [
    "visits_df.info()"
   ]
  },
  {
   "cell_type": "code",
   "execution_count": null,
   "id": "277a8a49-8b28-4dca-aecd-ffe0f80e7286",
   "metadata": {},
   "outputs": [],
   "source": [
    "visits_df.style.format({\"DURATION\":lambda x: re.sub(pattern = r\"^.*(?P<h>\\d+)H(?P<m>\\d+)M.*$\",\n",
    "                                                    repl    = r\"\\g<h>h \\g<m>m\",\n",
    "                                                    string  = pd.Timedelta(x, unit='h').isoformat()\n",
    "                                             )})"
   ]
  },
  {
   "cell_type": "code",
   "execution_count": null,
   "id": "6e786d28-bc91-44fb-bdb7-7d3f5318c734",
   "metadata": {},
   "outputs": [],
   "source": [
    "visits_df"
   ]
  },
  {
   "cell_type": "code",
   "execution_count": null,
   "id": "0af08fd2-6233-4b2c-bd81-cf21e46a1c47",
   "metadata": {},
   "outputs": [],
   "source": [
    "visits_df.info()"
   ]
  },
  {
   "cell_type": "code",
   "execution_count": null,
   "id": "e1fc5c3a-e122-4634-8307-21fb7baaef8b",
   "metadata": {},
   "outputs": [],
   "source": [
    "pd.merge(left=visits_df[visits_df.DR_ID == '1001'], \n",
    "         right=patients_df[[\"FIRSTNM\", \"LASTNM\", \"PHONE\"]], \n",
    "         on=\"MR\")"
   ]
  },
  {
   "cell_type": "markdown",
   "id": "4a8378af-064f-48dc-bae4-2b37cf793aa4",
   "metadata": {},
   "source": [
    "Might we use `join` to accomplish the same thing?"
   ]
  },
  {
   "cell_type": "code",
   "execution_count": null,
   "id": "3ee05eeb-9a19-4e75-854c-c13190ae2acc",
   "metadata": {},
   "outputs": [],
   "source": [
    "visits_df[visits_df.DR_ID == '1001'].join( \n",
    "         patients_df[[\"FIRSTNM\", \"LASTNM\", \"PHONE\"]], \n",
    "         on=\"MR\")"
   ]
  },
  {
   "cell_type": "code",
   "execution_count": null,
   "id": "3eebb8cb-ca08-4bad-88e3-c93ece282a78",
   "metadata": {},
   "outputs": [],
   "source": [
    "visit_by_doc_df = pd.merge(\n",
    "                    left=physicians_df, \n",
    "                    right=visits_df,\n",
    "                    how=\"right\",\n",
    "                    on=\"DR_ID\", \n",
    "                    sort=True)\n",
    "visit_by_doc_df"
   ]
  },
  {
   "cell_type": "code",
   "execution_count": null,
   "id": "a7b623d8-841b-4c5c-a690-f4b3695962e8",
   "metadata": {},
   "outputs": [],
   "source": [
    "visit_by_doc_df.set_index(['DR_ID',\"MR\"], inplace=True)\n",
    "visit_by_doc_df"
   ]
  },
  {
   "cell_type": "code",
   "execution_count": null,
   "id": "5bee17dd-fd30-40c1-aaee-246b67c37008",
   "metadata": {},
   "outputs": [],
   "source": [
    "visit_by_doc_df.join(patients_df[[\"LASTNM\", \"FIRSTNM\", \"PHONE\"]], \n",
    "                        on=\"MR\")"
   ]
  },
  {
   "cell_type": "markdown",
   "id": "6d1956e0-d78c-474c-8eef-5ceae5b72679",
   "metadata": {},
   "source": [
    "Lets [create a SQLite database](https://pandas.pydata.org/pandas-docs/stable/reference/api/pandas.DataFrame.to_sql.html?highlight=to_sql#pandas.DataFrame.to_sql) from the DataFrames we have so far."
   ]
  },
  {
   "cell_type": "code",
   "execution_count": null,
   "id": "f1fea02d-4de5-4343-bc02-f3500b350eb7",
   "metadata": {},
   "outputs": [],
   "source": [
    "import sqlite3 as sql"
   ]
  },
  {
   "cell_type": "code",
   "execution_count": null,
   "id": "689769ce-100b-4bae-956d-9f9eb54d203e",
   "metadata": {},
   "outputs": [],
   "source": [
    "conn_db = sql.connect(\"practice\") # a physicians' practive"
   ]
  },
  {
   "cell_type": "code",
   "execution_count": null,
   "id": "c511fc80-de6d-4e03-bb5f-d861ce7ca4ec",
   "metadata": {},
   "outputs": [],
   "source": [
    "patients_df.to_sql(\"patients\", con=conn_db, if_exists='replace')\n",
    "visits_df.to_sql(\"visits\", con=conn_db, if_exists='replace')\n",
    "physicians_df.to_sql(\"physicians\", con=conn_db, if_exists='replace')\n",
    "\n",
    "conn_db.close()"
   ]
  },
  {
   "cell_type": "code",
   "execution_count": null,
   "id": "de01bfa5-e6d0-49fa-a299-476b2ba1588c",
   "metadata": {},
   "outputs": [],
   "source": [
    "conn_db = sql.connect(\"practice\") # a physicians' practive\n",
    "\n",
    "curs = conn_db.cursor()\n",
    "curs.execute(\"SELECT * FROM patients;\")\n",
    "result = list(curs.fetchall())\n",
    "conn_db.close()\n",
    "\n",
    "result"
   ]
  },
  {
   "cell_type": "code",
   "execution_count": null,
   "id": "c3d149bb-3cdc-4b69-b20f-b986fe7aa2a6",
   "metadata": {},
   "outputs": [],
   "source": [
    "conn_db = sql.connect(\"practice\") # a physicians' practive\n",
    "\n",
    "curs = conn_db.cursor()\n",
    "curs.execute(\"\"\"SELECT * FROM visits\"\"\")\n",
    "result = list(curs.fetchall())\n",
    "conn_db.close()\n",
    "\n",
    "result"
   ]
  },
  {
   "cell_type": "code",
   "execution_count": null,
   "id": "6a6651b8-7cba-4ff9-9418-a67800475215",
   "metadata": {},
   "outputs": [],
   "source": [
    "conn_db = sql.connect(\"practice\") # a physicians' practive\n",
    "curs = conn_db.cursor()\n",
    "\n",
    "curs.execute(\"\"\"SELECT visits.mr, lastnm, firstnm, dr_id, check_in, duration\n",
    "                    FROM visits, patients\n",
    "                    WHERE visits.mr == patients.mr\"\"\")\n",
    "result = list(curs.fetchall())\n",
    "\n",
    "conn_db.close()\n",
    "result"
   ]
  },
  {
   "cell_type": "markdown",
   "id": "bf2390c4-a921-4954-afaa-e40120451ab9",
   "metadata": {},
   "source": [
    "SELECT a1, a2, b1, b2\n",
    "FROM A\n",
    "INNER JOIN B on B.f = A.f;"
   ]
  },
  {
   "cell_type": "code",
   "execution_count": null,
   "id": "1e0c8dd8-53bf-419f-8026-0e9fc73ee2fd",
   "metadata": {},
   "outputs": [],
   "source": [
    "conn_db = sql.connect(\"practice\") # a physicians' practive\n",
    "curs = conn_db.cursor()\n",
    "\n",
    "curs.execute(\"\"\"SELECT visits.mr, lastnm, firstnm, dr_id, check_in, duration\n",
    "                    FROM visits\n",
    "                    INNER JOIN patients on visits.mr = patients.mr\"\"\")\n",
    "result = list(curs.fetchall())\n",
    "\n",
    "conn_db.close()\n",
    "result"
   ]
  },
  {
   "cell_type": "code",
   "execution_count": null,
   "id": "62c8ce44-5003-45cb-8cee-40a469e9dde4",
   "metadata": {},
   "outputs": [],
   "source": [
    "conn_db = sql.connect(\"practice\") # a physicians' practive\n",
    "curs = conn_db.cursor()\n",
    "\n",
    "curs.execute(\"\"\"SELECT patients.mr, lastnm, firstnm, dr_id, check_in, duration\n",
    "                    FROM patients\n",
    "                    LEFT JOIN visits on visits.mr = patients.mr\"\"\")\n",
    "result = list(curs.fetchall())\n",
    "\n",
    "conn_db.close()\n",
    "result"
   ]
  }
 ],
 "metadata": {
  "kernelspec": {
   "display_name": "Python 3 (ipykernel)",
   "language": "python",
   "name": "python3"
  },
  "language_info": {
   "codemirror_mode": {
    "name": "ipython",
    "version": 3
   },
   "file_extension": ".py",
   "mimetype": "text/x-python",
   "name": "python",
   "nbconvert_exporter": "python",
   "pygments_lexer": "ipython3",
   "version": "3.11.3"
  }
 },
 "nbformat": 4,
 "nbformat_minor": 5
}
