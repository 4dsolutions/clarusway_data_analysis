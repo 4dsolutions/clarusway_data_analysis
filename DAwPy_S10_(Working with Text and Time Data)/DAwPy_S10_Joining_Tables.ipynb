{
 "cells": [
  {
   "cell_type": "markdown",
   "id": "ca8a8566-316f-4348-bf78-2df14e4d614a",
   "metadata": {},
   "source": [
    "<a href=\"https://colab.research.google.com/github/4dsolutions/clarusway_data_analysis/blob/main/DAwPy_S10_(Working%20with%20Text%20and%20Time%20Data)/DAwPy_S10_Joining_Tables.ipynb\"><img align=\"left\" src=\"https://colab.research.google.com/assets/colab-badge.svg\" alt=\"Open in Colab\" title=\"Open and Execute in Google Colaboratory\"></a><br/>\n",
    "[![nbviewer](https://raw.githubusercontent.com/jupyter/design/master/logos/Badges/nbviewer_badge.svg)](https://nbviewer.org/github/4dsolutions/clarusway_data_analysis/blob/main/DAwPy_S10_%28Working%20with%20Text%20and%20Time%20Data%29/DAwPy_S10_Joining_Tables.ipynb)\n",
    "\n",
    "________\n",
    "\n",
    "\n",
    "<p style=\"text-align: center;\"><img src=\"https://docs.google.com/uc?id=1lY0Uj5R04yMY3-ZppPWxqCr5pvBLYPnV\" class=\"img-fluid\" \n",
    "alt=\"CLRSWY\"></p>\n",
    "\n",
    "## <p style=\"background-color:#FDFEFE; font-family:newtimeroman; color:#9d4f8c; font-size:120%; text-align:center; border-radius:10px 10px;\">Way to Reinvent Yourself</p>"
   ]
  },
  {
   "cell_type": "markdown",
   "id": "fc644b34-bc94-408e-8fed-354c6c2770a3",
   "metadata": {},
   "source": [
    "In this Notebook, we: \n",
    "\n",
    "* develop a small set of tables in pandas\n",
    "* write some Python code for adding data to at least one of them\n",
    "* combine DataFrames using pandas `merge` and `join`\n",
    "* store our tables to an SQLite database.\n",
    "\n",
    "Let's create a small database consisting of three related tables:\n",
    "\n",
    "* a roster patients seen by a practice\n",
    "* patient visits with physicians\n",
    "* a roster of physicians in the practice"
   ]
  },
  {
   "cell_type": "code",
   "execution_count": 1,
   "id": "f5e28639-d4a4-42e3-8641-c931e3f508d6",
   "metadata": {},
   "outputs": [],
   "source": [
    "import pandas as pd\n",
    "import numpy as np"
   ]
  },
  {
   "cell_type": "markdown",
   "id": "49df08c6-d417-4883-8de0-90aa14e1e4f6",
   "metadata": {},
   "source": [
    "Feeding in a list of tuples, while providing column names in the form of a named Series, results in the tuples going in row-wise i.e. row by row"
   ]
  },
  {
   "cell_type": "code",
   "execution_count": 2,
   "id": "0e601166-0013-4a8a-b446-d6c6736a1d44",
   "metadata": {},
   "outputs": [],
   "source": [
    "patients = [\n",
    "    (\"13298\",\"Debbie\", \"Rose\",\n",
    "     \"32 SE Beacon St.\", \n",
    "     \"Portland\", \"OR\", \"97214\", \n",
    "     \"503-311-9928\"),\n",
    "    (\"12446\",\"Jerry\", \"Turing\",\n",
    "     \"491 NW Shanny St.\", \n",
    "     \"Portland\", \"OR\", \"97111\", \n",
    "     \"503-311-7865\"),\n",
    "    (\"77650\",\"Bruce\", \"Flemming\",\n",
    "     \"32 SE Beacon St.\", \n",
    "     \"Portland\", \"OR\", \"97214\", \n",
    "     \"503-311-9928\"),\n",
    "    (\"89765\",\"Susan\", \"Constanza\",\n",
    "     \"8976 NW Circle Court, Apt 2E\", \n",
    "     \"Gresham\", \"OR\", \"97211\", \n",
    "     \"503-321-8640\"),\n",
    "    (\"56768\",\"Raul\", \"Sosa\",\n",
    "     \"786 NW Couch St.\", \n",
    "     \"Portland\", \"OR\", \"97212\", \n",
    "     \"503-311-1018\")\n",
    "]\n",
    "\n",
    "patients_df = pd.DataFrame(\n",
    "    data=patients,\n",
    "    columns = pd.Series([\"MR\", \"FIRSTNM\",\"LASTNM\", \n",
    "               \"STREET\", \"CITY\", \"STATE\", \"ZIPCODE\", \n",
    "               \"PHONE\"], name=\"IDENT\")\n",
    ")\n",
    "\n",
    "patients_df.set_index(\"MR\", inplace=True)"
   ]
  },
  {
   "cell_type": "code",
   "execution_count": 3,
   "id": "017095b4-ac08-44b3-be30-da018b5a5191",
   "metadata": {},
   "outputs": [
    {
     "data": {
      "text/html": [
       "<div>\n",
       "<style scoped>\n",
       "    .dataframe tbody tr th:only-of-type {\n",
       "        vertical-align: middle;\n",
       "    }\n",
       "\n",
       "    .dataframe tbody tr th {\n",
       "        vertical-align: top;\n",
       "    }\n",
       "\n",
       "    .dataframe thead th {\n",
       "        text-align: right;\n",
       "    }\n",
       "</style>\n",
       "<table border=\"1\" class=\"dataframe\">\n",
       "  <thead>\n",
       "    <tr style=\"text-align: right;\">\n",
       "      <th>IDENT</th>\n",
       "      <th>FIRSTNM</th>\n",
       "      <th>LASTNM</th>\n",
       "      <th>STREET</th>\n",
       "      <th>CITY</th>\n",
       "      <th>STATE</th>\n",
       "      <th>ZIPCODE</th>\n",
       "      <th>PHONE</th>\n",
       "    </tr>\n",
       "    <tr>\n",
       "      <th>MR</th>\n",
       "      <th></th>\n",
       "      <th></th>\n",
       "      <th></th>\n",
       "      <th></th>\n",
       "      <th></th>\n",
       "      <th></th>\n",
       "      <th></th>\n",
       "    </tr>\n",
       "  </thead>\n",
       "  <tbody>\n",
       "    <tr>\n",
       "      <th>13298</th>\n",
       "      <td>Debbie</td>\n",
       "      <td>Rose</td>\n",
       "      <td>32 SE Beacon St.</td>\n",
       "      <td>Portland</td>\n",
       "      <td>OR</td>\n",
       "      <td>97214</td>\n",
       "      <td>503-311-9928</td>\n",
       "    </tr>\n",
       "    <tr>\n",
       "      <th>12446</th>\n",
       "      <td>Jerry</td>\n",
       "      <td>Turing</td>\n",
       "      <td>491 NW Shanny St.</td>\n",
       "      <td>Portland</td>\n",
       "      <td>OR</td>\n",
       "      <td>97111</td>\n",
       "      <td>503-311-7865</td>\n",
       "    </tr>\n",
       "    <tr>\n",
       "      <th>77650</th>\n",
       "      <td>Bruce</td>\n",
       "      <td>Flemming</td>\n",
       "      <td>32 SE Beacon St.</td>\n",
       "      <td>Portland</td>\n",
       "      <td>OR</td>\n",
       "      <td>97214</td>\n",
       "      <td>503-311-9928</td>\n",
       "    </tr>\n",
       "    <tr>\n",
       "      <th>89765</th>\n",
       "      <td>Susan</td>\n",
       "      <td>Constanza</td>\n",
       "      <td>8976 NW Circle Court, Apt 2E</td>\n",
       "      <td>Gresham</td>\n",
       "      <td>OR</td>\n",
       "      <td>97211</td>\n",
       "      <td>503-321-8640</td>\n",
       "    </tr>\n",
       "    <tr>\n",
       "      <th>56768</th>\n",
       "      <td>Raul</td>\n",
       "      <td>Sosa</td>\n",
       "      <td>786 NW Couch St.</td>\n",
       "      <td>Portland</td>\n",
       "      <td>OR</td>\n",
       "      <td>97212</td>\n",
       "      <td>503-311-1018</td>\n",
       "    </tr>\n",
       "  </tbody>\n",
       "</table>\n",
       "</div>"
      ],
      "text/plain": [
       "IDENT FIRSTNM     LASTNM                        STREET      CITY STATE  \\\n",
       "MR                                                                       \n",
       "13298  Debbie       Rose              32 SE Beacon St.  Portland    OR   \n",
       "12446   Jerry     Turing             491 NW Shanny St.  Portland    OR   \n",
       "77650   Bruce   Flemming              32 SE Beacon St.  Portland    OR   \n",
       "89765   Susan  Constanza  8976 NW Circle Court, Apt 2E   Gresham    OR   \n",
       "56768    Raul       Sosa              786 NW Couch St.  Portland    OR   \n",
       "\n",
       "IDENT ZIPCODE         PHONE  \n",
       "MR                           \n",
       "13298   97214  503-311-9928  \n",
       "12446   97111  503-311-7865  \n",
       "77650   97214  503-311-9928  \n",
       "89765   97211  503-321-8640  \n",
       "56768   97212  503-311-1018  "
      ]
     },
     "execution_count": 3,
     "metadata": {},
     "output_type": "execute_result"
    }
   ],
   "source": [
    "patients_df"
   ]
  },
  {
   "cell_type": "code",
   "execution_count": 4,
   "id": "0f5f1e96-f310-4bc4-915b-18336de7ed96",
   "metadata": {},
   "outputs": [
    {
     "data": {
      "text/plain": [
       "Index(['13298', '12446', '77650', '89765', '56768'], dtype='object', name='MR')"
      ]
     },
     "execution_count": 4,
     "metadata": {},
     "output_type": "execute_result"
    }
   ],
   "source": [
    "patients_df.index"
   ]
  },
  {
   "cell_type": "markdown",
   "id": "a5e11381-af89-4708-91a2-178b63bccea7",
   "metadata": {},
   "source": [
    "Let's automate a process for adding new patient records.  Rather than make up a medical record number, we'll let Python randomly generate one for us, and making sure it's not already in use..."
   ]
  },
  {
   "cell_type": "code",
   "execution_count": 5,
   "id": "89a0cdc4-ae3f-4cad-8ae3-d9de40feb268",
   "metadata": {},
   "outputs": [],
   "source": [
    "def get_mr(table=patients_df):\n",
    "    not_ok = True\n",
    "    while not_ok:\n",
    "        mr = str(np.random.randint(10000,100000))\n",
    "        if mr not in table.index:\n",
    "            not_ok = False\n",
    "    return mr"
   ]
  },
  {
   "cell_type": "code",
   "execution_count": 6,
   "id": "51c2f670-8337-428d-81a5-abf5b2ec879e",
   "metadata": {},
   "outputs": [
    {
     "data": {
      "text/plain": [
       "'47641'"
      ]
     },
     "execution_count": 6,
     "metadata": {},
     "output_type": "execute_result"
    }
   ],
   "source": [
    "get_mr()"
   ]
  },
  {
   "cell_type": "code",
   "execution_count": 7,
   "id": "742cba7a-7dca-4f45-b212-68b84ec51dac",
   "metadata": {},
   "outputs": [],
   "source": [
    "template = \\\n",
    "\"\"\"\n",
    "{first} {last}\n",
    "{street}, \n",
    "{city}, {state} {zipcode}\n",
    "{phone}\n",
    "\"\"\"\n",
    "\n",
    "def add_patient(table=patients_df):\n",
    "    not_ok = True\n",
    "    while not_ok:\n",
    "        \n",
    "        #prompt for inputs\n",
    "        first = input(\"First? >\")\n",
    "        last = input(\"Last? >\")\n",
    "        street = input(\"Street? >\")\n",
    "        city = input(\"City? >\")\n",
    "        state = input(\"State? >\")\n",
    "        zipcode = input(\"Zip code? >\")\n",
    "        phone = input(\"Phone? >\")\n",
    "        \n",
    "        # substitute local vars into the template\n",
    "        print(template.format(**locals()))\n",
    "        ans = input(\"OK? (Y/N or Quit): >\")\n",
    "        \n",
    "        if ans.upper() == \"N\":    # try again\n",
    "            continue\n",
    "        elif ans.upper() == \"Y\":  # add new info\n",
    "            not_ok = False\n",
    "            continue    \n",
    "        else:                     # escape from loop\n",
    "            break\n",
    "        \n",
    "    else: # not_ok == False\n",
    "        print(\"Adding new patient record\")\n",
    "        new_mr = get_mr()\n",
    "        # create a dict using the local vars we've filled in\n",
    "        new_rec = pd.Series({\"MR\": new_mr,\n",
    "                             \"FIRSTNM\": first,\n",
    "                             \"LASTNM\": last,\n",
    "                             \"STREET\": street,\n",
    "                             \"CITY\": city,\n",
    "                             \"STATE\": state,\n",
    "                             \"ZIPCODE\": zipcode,\n",
    "                             \"PHONE\": phone})\n",
    "        # turn the input Series into a DataFrame with the same cols and index\n",
    "        bottom_row = pd.DataFrame(new_rec).T.set_index(\"MR\")\n",
    "        return pd.concat([table, bottom_row]) # append new row\n",
    "    # break (above) takes us here         \n",
    "    print(\"No action taken\")\n",
    "    return table # return table as received"
   ]
  },
  {
   "cell_type": "code",
   "execution_count": 8,
   "id": "f73b7416-4566-4bc7-bd23-18beceb7f640",
   "metadata": {},
   "outputs": [],
   "source": [
    "# newtable  = add_patient()"
   ]
  },
  {
   "cell_type": "code",
   "execution_count": 9,
   "id": "3486cbf6-71b6-47a3-abc8-03bff2b1e3da",
   "metadata": {},
   "outputs": [],
   "source": [
    "# newtable"
   ]
  },
  {
   "cell_type": "code",
   "execution_count": 10,
   "id": "fe274900-078a-4de8-8f9b-f862b1b701fe",
   "metadata": {},
   "outputs": [],
   "source": [
    "physicians_df = pd.DataFrame(\n",
    "    {\"DR_ID\": [\"1001\", \"1002\", \"1003\"],\n",
    "     \"DR_NAME\": [\"Sheela Morley, M.D.\",\n",
    "                 \"Malcolm Head, D.O.\",\n",
    "                 \"Patricia Lord, M.D.\"]}).set_index(\"DR_ID\")"
   ]
  },
  {
   "cell_type": "code",
   "execution_count": 11,
   "id": "3d174334-12fa-43c4-b53c-d6c455f25026",
   "metadata": {},
   "outputs": [
    {
     "data": {
      "text/html": [
       "<div>\n",
       "<style scoped>\n",
       "    .dataframe tbody tr th:only-of-type {\n",
       "        vertical-align: middle;\n",
       "    }\n",
       "\n",
       "    .dataframe tbody tr th {\n",
       "        vertical-align: top;\n",
       "    }\n",
       "\n",
       "    .dataframe thead th {\n",
       "        text-align: right;\n",
       "    }\n",
       "</style>\n",
       "<table border=\"1\" class=\"dataframe\">\n",
       "  <thead>\n",
       "    <tr style=\"text-align: right;\">\n",
       "      <th></th>\n",
       "      <th>DR_NAME</th>\n",
       "    </tr>\n",
       "    <tr>\n",
       "      <th>DR_ID</th>\n",
       "      <th></th>\n",
       "    </tr>\n",
       "  </thead>\n",
       "  <tbody>\n",
       "    <tr>\n",
       "      <th>1001</th>\n",
       "      <td>Sheela Morley, M.D.</td>\n",
       "    </tr>\n",
       "    <tr>\n",
       "      <th>1002</th>\n",
       "      <td>Malcolm Head, D.O.</td>\n",
       "    </tr>\n",
       "    <tr>\n",
       "      <th>1003</th>\n",
       "      <td>Patricia Lord, M.D.</td>\n",
       "    </tr>\n",
       "  </tbody>\n",
       "</table>\n",
       "</div>"
      ],
      "text/plain": [
       "                   DR_NAME\n",
       "DR_ID                     \n",
       "1001   Sheela Morley, M.D.\n",
       "1002    Malcolm Head, D.O.\n",
       "1003   Patricia Lord, M.D."
      ]
     },
     "execution_count": 11,
     "metadata": {},
     "output_type": "execute_result"
    }
   ],
   "source": [
    "physicians_df"
   ]
  },
  {
   "cell_type": "code",
   "execution_count": 12,
   "id": "645d752c-9146-499f-ad2f-b07705bbe9d6",
   "metadata": {},
   "outputs": [
    {
     "data": {
      "text/plain": [
       "Timedelta('0 days 01:30:00')"
      ]
     },
     "execution_count": 12,
     "metadata": {},
     "output_type": "execute_result"
    }
   ],
   "source": [
    "pd.Timedelta(1.5, unit='h')"
   ]
  },
  {
   "cell_type": "code",
   "execution_count": 13,
   "id": "389c0f6b-934a-4c74-bb5c-0321bd2f5482",
   "metadata": {},
   "outputs": [
    {
     "data": {
      "text/html": [
       "<style type=\"text/css\">\n",
       "</style>\n",
       "<table id=\"T_0ee61\">\n",
       "  <thead>\n",
       "    <tr>\n",
       "      <th class=\"index_name level0\" >VISIT</th>\n",
       "      <th id=\"T_0ee61_level0_col0\" class=\"col_heading level0 col0\" >MR</th>\n",
       "      <th id=\"T_0ee61_level0_col1\" class=\"col_heading level0 col1\" >DR_ID</th>\n",
       "      <th id=\"T_0ee61_level0_col2\" class=\"col_heading level0 col2\" >CHECK_IN</th>\n",
       "      <th id=\"T_0ee61_level0_col3\" class=\"col_heading level0 col3\" >DURATION</th>\n",
       "    </tr>\n",
       "  </thead>\n",
       "  <tbody>\n",
       "    <tr>\n",
       "      <th id=\"T_0ee61_level0_row0\" class=\"row_heading level0 row0\" >0</th>\n",
       "      <td id=\"T_0ee61_row0_col0\" class=\"data row0 col0\" >77650</td>\n",
       "      <td id=\"T_0ee61_row0_col1\" class=\"data row0 col1\" >1001</td>\n",
       "      <td id=\"T_0ee61_row0_col2\" class=\"data row0 col2\" >2023-05-17 13:50:00</td>\n",
       "      <td id=\"T_0ee61_row0_col3\" class=\"data row0 col3\" >1H15M</td>\n",
       "    </tr>\n",
       "    <tr>\n",
       "      <th id=\"T_0ee61_level0_row1\" class=\"row_heading level0 row1\" >1</th>\n",
       "      <td id=\"T_0ee61_row1_col0\" class=\"data row1 col0\" >77650</td>\n",
       "      <td id=\"T_0ee61_row1_col1\" class=\"data row1 col1\" >1001</td>\n",
       "      <td id=\"T_0ee61_row1_col2\" class=\"data row1 col2\" >2023-05-31 14:00:00</td>\n",
       "      <td id=\"T_0ee61_row1_col3\" class=\"data row1 col3\" >0H45M</td>\n",
       "    </tr>\n",
       "    <tr>\n",
       "      <th id=\"T_0ee61_level0_row2\" class=\"row_heading level0 row2\" >2</th>\n",
       "      <td id=\"T_0ee61_row2_col0\" class=\"data row2 col0\" >12446</td>\n",
       "      <td id=\"T_0ee61_row2_col1\" class=\"data row2 col1\" >1003</td>\n",
       "      <td id=\"T_0ee61_row2_col2\" class=\"data row2 col2\" >2023-05-31 10:15:00</td>\n",
       "      <td id=\"T_0ee61_row2_col3\" class=\"data row2 col3\" >0H6M0</td>\n",
       "    </tr>\n",
       "    <tr>\n",
       "      <th id=\"T_0ee61_level0_row3\" class=\"row_heading level0 row3\" >3</th>\n",
       "      <td id=\"T_0ee61_row3_col0\" class=\"data row3 col0\" >89765</td>\n",
       "      <td id=\"T_0ee61_row3_col1\" class=\"data row3 col1\" >1002</td>\n",
       "      <td id=\"T_0ee61_row3_col2\" class=\"data row3 col2\" >2023-06-04 10:00:00</td>\n",
       "      <td id=\"T_0ee61_row3_col3\" class=\"data row3 col3\" >0H30M</td>\n",
       "    </tr>\n",
       "    <tr>\n",
       "      <th id=\"T_0ee61_level0_row4\" class=\"row_heading level0 row4\" >4</th>\n",
       "      <td id=\"T_0ee61_row4_col0\" class=\"data row4 col0\" >12446</td>\n",
       "      <td id=\"T_0ee61_row4_col1\" class=\"data row4 col1\" >1003</td>\n",
       "      <td id=\"T_0ee61_row4_col2\" class=\"data row4 col2\" >2023-06-04 10:15:00</td>\n",
       "      <td id=\"T_0ee61_row4_col3\" class=\"data row4 col3\" >0H6M0</td>\n",
       "    </tr>\n",
       "  </tbody>\n",
       "</table>\n"
      ],
      "text/plain": [
       "<pandas.io.formats.style.Styler at 0x1134e8450>"
      ]
     },
     "execution_count": 13,
     "metadata": {},
     "output_type": "execute_result"
    }
   ],
   "source": [
    "visits = [('77650', '1001', '2023-5-17T13:50', \"1.25\"),\n",
    "          ('77650', '1001', '2023-5-31T14:00', \"0.75\"),\n",
    "          ('12446', '1003', '2023-5-31T10:15', \"0.10\"),\n",
    "          ('89765', '1002', '2023-6-04T10:00', \"0.50\"),\n",
    "          ('12446', '1003', '2023-6-04T10:15', \"0.10\"),]\n",
    "\n",
    "visits_df = pd.DataFrame(\n",
    "    data=visits,\n",
    "    columns = pd.Series([\"MR\", \"DR_ID\",\"CHECK_IN\", \"DURATION\"], name=\"VISIT\")\n",
    ")\n",
    "\n",
    "visits_df[\"CHECK_IN\"] = visits_df[\"CHECK_IN\"].astype(np.datetime64)\n",
    "visits_df[\"DURATION\"] = visits_df[\"DURATION\"].astype(float)\n",
    "visits_df.style.format({\"DURATION\":lambda x: pd.Timedelta(x, unit='h').isoformat()[4:9]})"
   ]
  },
  {
   "cell_type": "code",
   "execution_count": 14,
   "id": "0af08fd2-6233-4b2c-bd81-cf21e46a1c47",
   "metadata": {},
   "outputs": [
    {
     "name": "stdout",
     "output_type": "stream",
     "text": [
      "<class 'pandas.core.frame.DataFrame'>\n",
      "RangeIndex: 5 entries, 0 to 4\n",
      "Data columns (total 4 columns):\n",
      " #   Column    Non-Null Count  Dtype         \n",
      "---  ------    --------------  -----         \n",
      " 0   MR        5 non-null      object        \n",
      " 1   DR_ID     5 non-null      object        \n",
      " 2   CHECK_IN  5 non-null      datetime64[ns]\n",
      " 3   DURATION  5 non-null      float64       \n",
      "dtypes: datetime64[ns](1), float64(1), object(2)\n",
      "memory usage: 292.0+ bytes\n"
     ]
    }
   ],
   "source": [
    "visits_df.info()"
   ]
  },
  {
   "cell_type": "code",
   "execution_count": 15,
   "id": "e1fc5c3a-e122-4634-8307-21fb7baaef8b",
   "metadata": {},
   "outputs": [
    {
     "data": {
      "text/html": [
       "<div>\n",
       "<style scoped>\n",
       "    .dataframe tbody tr th:only-of-type {\n",
       "        vertical-align: middle;\n",
       "    }\n",
       "\n",
       "    .dataframe tbody tr th {\n",
       "        vertical-align: top;\n",
       "    }\n",
       "\n",
       "    .dataframe thead th {\n",
       "        text-align: right;\n",
       "    }\n",
       "</style>\n",
       "<table border=\"1\" class=\"dataframe\">\n",
       "  <thead>\n",
       "    <tr style=\"text-align: right;\">\n",
       "      <th></th>\n",
       "      <th>MR</th>\n",
       "      <th>DR_ID</th>\n",
       "      <th>CHECK_IN</th>\n",
       "      <th>DURATION</th>\n",
       "      <th>FIRSTNM</th>\n",
       "      <th>LASTNM</th>\n",
       "      <th>PHONE</th>\n",
       "    </tr>\n",
       "  </thead>\n",
       "  <tbody>\n",
       "    <tr>\n",
       "      <th>0</th>\n",
       "      <td>12446</td>\n",
       "      <td>1003</td>\n",
       "      <td>2023-05-31 10:15:00</td>\n",
       "      <td>0.1</td>\n",
       "      <td>Jerry</td>\n",
       "      <td>Turing</td>\n",
       "      <td>503-311-7865</td>\n",
       "    </tr>\n",
       "    <tr>\n",
       "      <th>1</th>\n",
       "      <td>12446</td>\n",
       "      <td>1003</td>\n",
       "      <td>2023-06-04 10:15:00</td>\n",
       "      <td>0.1</td>\n",
       "      <td>Jerry</td>\n",
       "      <td>Turing</td>\n",
       "      <td>503-311-7865</td>\n",
       "    </tr>\n",
       "  </tbody>\n",
       "</table>\n",
       "</div>"
      ],
      "text/plain": [
       "      MR DR_ID            CHECK_IN  DURATION FIRSTNM  LASTNM         PHONE\n",
       "0  12446  1003 2023-05-31 10:15:00       0.1   Jerry  Turing  503-311-7865\n",
       "1  12446  1003 2023-06-04 10:15:00       0.1   Jerry  Turing  503-311-7865"
      ]
     },
     "execution_count": 15,
     "metadata": {},
     "output_type": "execute_result"
    }
   ],
   "source": [
    "pd.merge(left=visits_df[visits_df.DR_ID == '1003'], \n",
    "         right=patients_df[[\"FIRSTNM\", \"LASTNM\", \"PHONE\"]], \n",
    "         on=\"MR\")"
   ]
  },
  {
   "cell_type": "markdown",
   "id": "4a8378af-064f-48dc-bae4-2b37cf793aa4",
   "metadata": {},
   "source": [
    "Might we use `join` to accomplish the same thing?"
   ]
  },
  {
   "cell_type": "code",
   "execution_count": 16,
   "id": "3ee05eeb-9a19-4e75-854c-c13190ae2acc",
   "metadata": {},
   "outputs": [
    {
     "data": {
      "text/html": [
       "<div>\n",
       "<style scoped>\n",
       "    .dataframe tbody tr th:only-of-type {\n",
       "        vertical-align: middle;\n",
       "    }\n",
       "\n",
       "    .dataframe tbody tr th {\n",
       "        vertical-align: top;\n",
       "    }\n",
       "\n",
       "    .dataframe thead th {\n",
       "        text-align: right;\n",
       "    }\n",
       "</style>\n",
       "<table border=\"1\" class=\"dataframe\">\n",
       "  <thead>\n",
       "    <tr style=\"text-align: right;\">\n",
       "      <th></th>\n",
       "      <th>MR</th>\n",
       "      <th>DR_ID</th>\n",
       "      <th>CHECK_IN</th>\n",
       "      <th>DURATION</th>\n",
       "      <th>FIRSTNM</th>\n",
       "      <th>LASTNM</th>\n",
       "      <th>PHONE</th>\n",
       "    </tr>\n",
       "  </thead>\n",
       "  <tbody>\n",
       "    <tr>\n",
       "      <th>2</th>\n",
       "      <td>12446</td>\n",
       "      <td>1003</td>\n",
       "      <td>2023-05-31 10:15:00</td>\n",
       "      <td>0.1</td>\n",
       "      <td>Jerry</td>\n",
       "      <td>Turing</td>\n",
       "      <td>503-311-7865</td>\n",
       "    </tr>\n",
       "    <tr>\n",
       "      <th>4</th>\n",
       "      <td>12446</td>\n",
       "      <td>1003</td>\n",
       "      <td>2023-06-04 10:15:00</td>\n",
       "      <td>0.1</td>\n",
       "      <td>Jerry</td>\n",
       "      <td>Turing</td>\n",
       "      <td>503-311-7865</td>\n",
       "    </tr>\n",
       "  </tbody>\n",
       "</table>\n",
       "</div>"
      ],
      "text/plain": [
       "      MR DR_ID            CHECK_IN  DURATION FIRSTNM  LASTNM         PHONE\n",
       "2  12446  1003 2023-05-31 10:15:00       0.1   Jerry  Turing  503-311-7865\n",
       "4  12446  1003 2023-06-04 10:15:00       0.1   Jerry  Turing  503-311-7865"
      ]
     },
     "execution_count": 16,
     "metadata": {},
     "output_type": "execute_result"
    }
   ],
   "source": [
    "visits_df[visits_df.DR_ID == '1003'].join( \n",
    "         patients_df[[\"FIRSTNM\", \"LASTNM\", \"PHONE\"]], \n",
    "         on=\"MR\")"
   ]
  },
  {
   "cell_type": "code",
   "execution_count": 17,
   "id": "3eebb8cb-ca08-4bad-88e3-c93ece282a78",
   "metadata": {},
   "outputs": [
    {
     "data": {
      "text/html": [
       "<div>\n",
       "<style scoped>\n",
       "    .dataframe tbody tr th:only-of-type {\n",
       "        vertical-align: middle;\n",
       "    }\n",
       "\n",
       "    .dataframe tbody tr th {\n",
       "        vertical-align: top;\n",
       "    }\n",
       "\n",
       "    .dataframe thead th {\n",
       "        text-align: right;\n",
       "    }\n",
       "</style>\n",
       "<table border=\"1\" class=\"dataframe\">\n",
       "  <thead>\n",
       "    <tr style=\"text-align: right;\">\n",
       "      <th></th>\n",
       "      <th>DR_ID</th>\n",
       "      <th>DR_NAME</th>\n",
       "      <th>MR</th>\n",
       "      <th>CHECK_IN</th>\n",
       "      <th>DURATION</th>\n",
       "    </tr>\n",
       "  </thead>\n",
       "  <tbody>\n",
       "    <tr>\n",
       "      <th>0</th>\n",
       "      <td>1001</td>\n",
       "      <td>Sheela Morley, M.D.</td>\n",
       "      <td>77650</td>\n",
       "      <td>2023-05-17 13:50:00</td>\n",
       "      <td>1.25</td>\n",
       "    </tr>\n",
       "    <tr>\n",
       "      <th>1</th>\n",
       "      <td>1001</td>\n",
       "      <td>Sheela Morley, M.D.</td>\n",
       "      <td>77650</td>\n",
       "      <td>2023-05-31 14:00:00</td>\n",
       "      <td>0.75</td>\n",
       "    </tr>\n",
       "    <tr>\n",
       "      <th>2</th>\n",
       "      <td>1002</td>\n",
       "      <td>Malcolm Head, D.O.</td>\n",
       "      <td>89765</td>\n",
       "      <td>2023-06-04 10:00:00</td>\n",
       "      <td>0.50</td>\n",
       "    </tr>\n",
       "    <tr>\n",
       "      <th>3</th>\n",
       "      <td>1003</td>\n",
       "      <td>Patricia Lord, M.D.</td>\n",
       "      <td>12446</td>\n",
       "      <td>2023-05-31 10:15:00</td>\n",
       "      <td>0.10</td>\n",
       "    </tr>\n",
       "    <tr>\n",
       "      <th>4</th>\n",
       "      <td>1003</td>\n",
       "      <td>Patricia Lord, M.D.</td>\n",
       "      <td>12446</td>\n",
       "      <td>2023-06-04 10:15:00</td>\n",
       "      <td>0.10</td>\n",
       "    </tr>\n",
       "  </tbody>\n",
       "</table>\n",
       "</div>"
      ],
      "text/plain": [
       "  DR_ID              DR_NAME     MR            CHECK_IN  DURATION\n",
       "0  1001  Sheela Morley, M.D.  77650 2023-05-17 13:50:00      1.25\n",
       "1  1001  Sheela Morley, M.D.  77650 2023-05-31 14:00:00      0.75\n",
       "2  1002   Malcolm Head, D.O.  89765 2023-06-04 10:00:00      0.50\n",
       "3  1003  Patricia Lord, M.D.  12446 2023-05-31 10:15:00      0.10\n",
       "4  1003  Patricia Lord, M.D.  12446 2023-06-04 10:15:00      0.10"
      ]
     },
     "execution_count": 17,
     "metadata": {},
     "output_type": "execute_result"
    }
   ],
   "source": [
    "visit_by_doc_df = pd.merge(\n",
    "                    left=physicians_df, \n",
    "                    right=visits_df,\n",
    "                    how=\"right\",\n",
    "                    on=\"DR_ID\", \n",
    "                    sort=True)\n",
    "visit_by_doc_df"
   ]
  },
  {
   "cell_type": "code",
   "execution_count": 18,
   "id": "a7b623d8-841b-4c5c-a690-f4b3695962e8",
   "metadata": {},
   "outputs": [
    {
     "data": {
      "text/html": [
       "<div>\n",
       "<style scoped>\n",
       "    .dataframe tbody tr th:only-of-type {\n",
       "        vertical-align: middle;\n",
       "    }\n",
       "\n",
       "    .dataframe tbody tr th {\n",
       "        vertical-align: top;\n",
       "    }\n",
       "\n",
       "    .dataframe thead th {\n",
       "        text-align: right;\n",
       "    }\n",
       "</style>\n",
       "<table border=\"1\" class=\"dataframe\">\n",
       "  <thead>\n",
       "    <tr style=\"text-align: right;\">\n",
       "      <th></th>\n",
       "      <th></th>\n",
       "      <th>DR_NAME</th>\n",
       "      <th>CHECK_IN</th>\n",
       "      <th>DURATION</th>\n",
       "    </tr>\n",
       "    <tr>\n",
       "      <th>DR_ID</th>\n",
       "      <th>MR</th>\n",
       "      <th></th>\n",
       "      <th></th>\n",
       "      <th></th>\n",
       "    </tr>\n",
       "  </thead>\n",
       "  <tbody>\n",
       "    <tr>\n",
       "      <th rowspan=\"2\" valign=\"top\">1001</th>\n",
       "      <th>77650</th>\n",
       "      <td>Sheela Morley, M.D.</td>\n",
       "      <td>2023-05-17 13:50:00</td>\n",
       "      <td>1.25</td>\n",
       "    </tr>\n",
       "    <tr>\n",
       "      <th>77650</th>\n",
       "      <td>Sheela Morley, M.D.</td>\n",
       "      <td>2023-05-31 14:00:00</td>\n",
       "      <td>0.75</td>\n",
       "    </tr>\n",
       "    <tr>\n",
       "      <th>1002</th>\n",
       "      <th>89765</th>\n",
       "      <td>Malcolm Head, D.O.</td>\n",
       "      <td>2023-06-04 10:00:00</td>\n",
       "      <td>0.50</td>\n",
       "    </tr>\n",
       "    <tr>\n",
       "      <th rowspan=\"2\" valign=\"top\">1003</th>\n",
       "      <th>12446</th>\n",
       "      <td>Patricia Lord, M.D.</td>\n",
       "      <td>2023-05-31 10:15:00</td>\n",
       "      <td>0.10</td>\n",
       "    </tr>\n",
       "    <tr>\n",
       "      <th>12446</th>\n",
       "      <td>Patricia Lord, M.D.</td>\n",
       "      <td>2023-06-04 10:15:00</td>\n",
       "      <td>0.10</td>\n",
       "    </tr>\n",
       "  </tbody>\n",
       "</table>\n",
       "</div>"
      ],
      "text/plain": [
       "                         DR_NAME            CHECK_IN  DURATION\n",
       "DR_ID MR                                                      \n",
       "1001  77650  Sheela Morley, M.D. 2023-05-17 13:50:00      1.25\n",
       "      77650  Sheela Morley, M.D. 2023-05-31 14:00:00      0.75\n",
       "1002  89765   Malcolm Head, D.O. 2023-06-04 10:00:00      0.50\n",
       "1003  12446  Patricia Lord, M.D. 2023-05-31 10:15:00      0.10\n",
       "      12446  Patricia Lord, M.D. 2023-06-04 10:15:00      0.10"
      ]
     },
     "execution_count": 18,
     "metadata": {},
     "output_type": "execute_result"
    }
   ],
   "source": [
    "visit_by_doc_df.set_index(['DR_ID',\"MR\"], inplace=True)\n",
    "visit_by_doc_df"
   ]
  },
  {
   "cell_type": "code",
   "execution_count": 19,
   "id": "5bee17dd-fd30-40c1-aaee-246b67c37008",
   "metadata": {},
   "outputs": [
    {
     "data": {
      "text/html": [
       "<div>\n",
       "<style scoped>\n",
       "    .dataframe tbody tr th:only-of-type {\n",
       "        vertical-align: middle;\n",
       "    }\n",
       "\n",
       "    .dataframe tbody tr th {\n",
       "        vertical-align: top;\n",
       "    }\n",
       "\n",
       "    .dataframe thead th {\n",
       "        text-align: right;\n",
       "    }\n",
       "</style>\n",
       "<table border=\"1\" class=\"dataframe\">\n",
       "  <thead>\n",
       "    <tr style=\"text-align: right;\">\n",
       "      <th></th>\n",
       "      <th></th>\n",
       "      <th>DR_NAME</th>\n",
       "      <th>CHECK_IN</th>\n",
       "      <th>DURATION</th>\n",
       "      <th>LASTNM</th>\n",
       "      <th>FIRSTNM</th>\n",
       "      <th>PHONE</th>\n",
       "    </tr>\n",
       "    <tr>\n",
       "      <th>DR_ID</th>\n",
       "      <th>MR</th>\n",
       "      <th></th>\n",
       "      <th></th>\n",
       "      <th></th>\n",
       "      <th></th>\n",
       "      <th></th>\n",
       "      <th></th>\n",
       "    </tr>\n",
       "  </thead>\n",
       "  <tbody>\n",
       "    <tr>\n",
       "      <th rowspan=\"2\" valign=\"top\">1001</th>\n",
       "      <th>77650</th>\n",
       "      <td>Sheela Morley, M.D.</td>\n",
       "      <td>2023-05-17 13:50:00</td>\n",
       "      <td>1.25</td>\n",
       "      <td>Flemming</td>\n",
       "      <td>Bruce</td>\n",
       "      <td>503-311-9928</td>\n",
       "    </tr>\n",
       "    <tr>\n",
       "      <th>77650</th>\n",
       "      <td>Sheela Morley, M.D.</td>\n",
       "      <td>2023-05-31 14:00:00</td>\n",
       "      <td>0.75</td>\n",
       "      <td>Flemming</td>\n",
       "      <td>Bruce</td>\n",
       "      <td>503-311-9928</td>\n",
       "    </tr>\n",
       "    <tr>\n",
       "      <th>1002</th>\n",
       "      <th>89765</th>\n",
       "      <td>Malcolm Head, D.O.</td>\n",
       "      <td>2023-06-04 10:00:00</td>\n",
       "      <td>0.50</td>\n",
       "      <td>Constanza</td>\n",
       "      <td>Susan</td>\n",
       "      <td>503-321-8640</td>\n",
       "    </tr>\n",
       "    <tr>\n",
       "      <th rowspan=\"2\" valign=\"top\">1003</th>\n",
       "      <th>12446</th>\n",
       "      <td>Patricia Lord, M.D.</td>\n",
       "      <td>2023-05-31 10:15:00</td>\n",
       "      <td>0.10</td>\n",
       "      <td>Turing</td>\n",
       "      <td>Jerry</td>\n",
       "      <td>503-311-7865</td>\n",
       "    </tr>\n",
       "    <tr>\n",
       "      <th>12446</th>\n",
       "      <td>Patricia Lord, M.D.</td>\n",
       "      <td>2023-06-04 10:15:00</td>\n",
       "      <td>0.10</td>\n",
       "      <td>Turing</td>\n",
       "      <td>Jerry</td>\n",
       "      <td>503-311-7865</td>\n",
       "    </tr>\n",
       "  </tbody>\n",
       "</table>\n",
       "</div>"
      ],
      "text/plain": [
       "                         DR_NAME            CHECK_IN  DURATION     LASTNM  \\\n",
       "DR_ID MR                                                                    \n",
       "1001  77650  Sheela Morley, M.D. 2023-05-17 13:50:00      1.25   Flemming   \n",
       "      77650  Sheela Morley, M.D. 2023-05-31 14:00:00      0.75   Flemming   \n",
       "1002  89765   Malcolm Head, D.O. 2023-06-04 10:00:00      0.50  Constanza   \n",
       "1003  12446  Patricia Lord, M.D. 2023-05-31 10:15:00      0.10     Turing   \n",
       "      12446  Patricia Lord, M.D. 2023-06-04 10:15:00      0.10     Turing   \n",
       "\n",
       "            FIRSTNM         PHONE  \n",
       "DR_ID MR                           \n",
       "1001  77650   Bruce  503-311-9928  \n",
       "      77650   Bruce  503-311-9928  \n",
       "1002  89765   Susan  503-321-8640  \n",
       "1003  12446   Jerry  503-311-7865  \n",
       "      12446   Jerry  503-311-7865  "
      ]
     },
     "execution_count": 19,
     "metadata": {},
     "output_type": "execute_result"
    }
   ],
   "source": [
    "visit_by_doc_df.join(patients_df[[\"LASTNM\", \"FIRSTNM\", \"PHONE\"]], \n",
    "                        on=\"MR\")"
   ]
  },
  {
   "cell_type": "markdown",
   "id": "6d1956e0-d78c-474c-8eef-5ceae5b72679",
   "metadata": {},
   "source": [
    "Lets [create a SQLite database](https://pandas.pydata.org/pandas-docs/stable/reference/api/pandas.DataFrame.to_sql.html?highlight=to_sql#pandas.DataFrame.to_sql) from the DataFrames we have so far."
   ]
  },
  {
   "cell_type": "code",
   "execution_count": 20,
   "id": "f1fea02d-4de5-4343-bc02-f3500b350eb7",
   "metadata": {},
   "outputs": [],
   "source": [
    "import sqlite3 as sql"
   ]
  },
  {
   "cell_type": "code",
   "execution_count": 21,
   "id": "689769ce-100b-4bae-956d-9f9eb54d203e",
   "metadata": {},
   "outputs": [],
   "source": [
    "conn_db = sql.connect(\"practice\") # a physicians' practive"
   ]
  },
  {
   "cell_type": "code",
   "execution_count": 22,
   "id": "c511fc80-de6d-4e03-bb5f-d861ce7ca4ec",
   "metadata": {},
   "outputs": [],
   "source": [
    "patients_df.to_sql(\"patients\", con=conn_db, if_exists='replace')\n",
    "visits_df.to_sql(\"visits\", con=conn_db, if_exists='replace')\n",
    "physicians_df.to_sql(\"physicians\", con=conn_db, if_exists='replace')\n",
    "\n",
    "conn_db.close()"
   ]
  },
  {
   "cell_type": "code",
   "execution_count": 23,
   "id": "de01bfa5-e6d0-49fa-a299-476b2ba1588c",
   "metadata": {},
   "outputs": [
    {
     "data": {
      "text/plain": [
       "[('13298',\n",
       "  'Debbie',\n",
       "  'Rose',\n",
       "  '32 SE Beacon St.',\n",
       "  'Portland',\n",
       "  'OR',\n",
       "  '97214',\n",
       "  '503-311-9928'),\n",
       " ('12446',\n",
       "  'Jerry',\n",
       "  'Turing',\n",
       "  '491 NW Shanny St.',\n",
       "  'Portland',\n",
       "  'OR',\n",
       "  '97111',\n",
       "  '503-311-7865')]"
      ]
     },
     "execution_count": 23,
     "metadata": {},
     "output_type": "execute_result"
    }
   ],
   "source": [
    "conn_db = sql.connect(\"practice\") # a physicians' practive\n",
    "\n",
    "curs = conn_db.cursor()\n",
    "curs.execute(\"SELECT * FROM patients;\")\n",
    "result = list(curs.fetchall())\n",
    "conn_db.close()\n",
    "\n",
    "result[0:2]"
   ]
  },
  {
   "cell_type": "code",
   "execution_count": 24,
   "id": "c3d149bb-3cdc-4b69-b20f-b986fe7aa2a6",
   "metadata": {},
   "outputs": [
    {
     "data": {
      "text/plain": [
       "[(0, '77650', '1001', '2023-05-17 13:50:00', 1.25),\n",
       " (1, '77650', '1001', '2023-05-31 14:00:00', 0.75),\n",
       " (2, '12446', '1003', '2023-05-31 10:15:00', 0.1),\n",
       " (3, '89765', '1002', '2023-06-04 10:00:00', 0.5),\n",
       " (4, '12446', '1003', '2023-06-04 10:15:00', 0.1)]"
      ]
     },
     "execution_count": 24,
     "metadata": {},
     "output_type": "execute_result"
    }
   ],
   "source": [
    "conn_db = sql.connect(\"practice\") # a physicians' practive\n",
    "\n",
    "curs = conn_db.cursor()\n",
    "curs.execute(\"\"\"SELECT * FROM visits\"\"\")\n",
    "result = list(curs.fetchall())\n",
    "conn_db.close()\n",
    "\n",
    "result"
   ]
  },
  {
   "cell_type": "code",
   "execution_count": 25,
   "id": "6a6651b8-7cba-4ff9-9418-a67800475215",
   "metadata": {},
   "outputs": [
    {
     "data": {
      "text/plain": [
       "[('77650', 'Flemming', 'Bruce', '1001', '2023-05-17 13:50:00', 1.25),\n",
       " ('77650', 'Flemming', 'Bruce', '1001', '2023-05-31 14:00:00', 0.75),\n",
       " ('12446', 'Turing', 'Jerry', '1003', '2023-05-31 10:15:00', 0.1),\n",
       " ('89765', 'Constanza', 'Susan', '1002', '2023-06-04 10:00:00', 0.5),\n",
       " ('12446', 'Turing', 'Jerry', '1003', '2023-06-04 10:15:00', 0.1)]"
      ]
     },
     "execution_count": 25,
     "metadata": {},
     "output_type": "execute_result"
    }
   ],
   "source": [
    "conn_db = sql.connect(\"practice\") # a physicians' practive\n",
    "curs = conn_db.cursor()\n",
    "\n",
    "curs.execute(\"\"\"SELECT visits.mr, lastnm, firstnm, dr_id, check_in, duration\n",
    "                    FROM visits, patients\n",
    "                    WHERE visits.mr == patients.mr\"\"\")\n",
    "result = list(curs.fetchall())\n",
    "\n",
    "conn_db.close()\n",
    "result"
   ]
  },
  {
   "cell_type": "markdown",
   "id": "bf2390c4-a921-4954-afaa-e40120451ab9",
   "metadata": {},
   "source": [
    "SELECT a1, a2, b1, b2\n",
    "FROM A\n",
    "INNER JOIN B on B.f = A.f;"
   ]
  },
  {
   "cell_type": "code",
   "execution_count": 26,
   "id": "1e0c8dd8-53bf-419f-8026-0e9fc73ee2fd",
   "metadata": {},
   "outputs": [
    {
     "data": {
      "text/plain": [
       "[('77650', 'Flemming', 'Bruce', '1001', '2023-05-17 13:50:00', 1.25),\n",
       " ('77650', 'Flemming', 'Bruce', '1001', '2023-05-31 14:00:00', 0.75),\n",
       " ('12446', 'Turing', 'Jerry', '1003', '2023-05-31 10:15:00', 0.1),\n",
       " ('89765', 'Constanza', 'Susan', '1002', '2023-06-04 10:00:00', 0.5),\n",
       " ('12446', 'Turing', 'Jerry', '1003', '2023-06-04 10:15:00', 0.1)]"
      ]
     },
     "execution_count": 26,
     "metadata": {},
     "output_type": "execute_result"
    }
   ],
   "source": [
    "conn_db = sql.connect(\"practice\") # a physicians' practive\n",
    "curs = conn_db.cursor()\n",
    "\n",
    "curs.execute(\"\"\"SELECT visits.mr, lastnm, firstnm, dr_id, check_in, duration\n",
    "                    FROM visits\n",
    "                    INNER JOIN patients on visits.mr = patients.mr\"\"\")\n",
    "result = list(curs.fetchall())\n",
    "\n",
    "conn_db.close()\n",
    "result"
   ]
  },
  {
   "cell_type": "code",
   "execution_count": 27,
   "id": "62c8ce44-5003-45cb-8cee-40a469e9dde4",
   "metadata": {},
   "outputs": [
    {
     "data": {
      "text/plain": [
       "[('13298', 'Rose', 'Debbie', None, None, None),\n",
       " ('12446', 'Turing', 'Jerry', '1003', '2023-05-31 10:15:00', 0.1),\n",
       " ('12446', 'Turing', 'Jerry', '1003', '2023-06-04 10:15:00', 0.1),\n",
       " ('77650', 'Flemming', 'Bruce', '1001', '2023-05-17 13:50:00', 1.25),\n",
       " ('77650', 'Flemming', 'Bruce', '1001', '2023-05-31 14:00:00', 0.75),\n",
       " ('89765', 'Constanza', 'Susan', '1002', '2023-06-04 10:00:00', 0.5),\n",
       " ('56768', 'Sosa', 'Raul', None, None, None)]"
      ]
     },
     "execution_count": 27,
     "metadata": {},
     "output_type": "execute_result"
    }
   ],
   "source": [
    "conn_db = sql.connect(\"practice\") # a physicians' practive\n",
    "curs = conn_db.cursor()\n",
    "\n",
    "curs.execute(\"\"\"SELECT patients.mr, lastnm, firstnm, dr_id, check_in, duration\n",
    "                    FROM patients\n",
    "                    LEFT JOIN visits on visits.mr = patients.mr\"\"\")\n",
    "result = list(curs.fetchall())\n",
    "\n",
    "conn_db.close()\n",
    "result"
   ]
  }
 ],
 "metadata": {
  "kernelspec": {
   "display_name": "Python 3 (ipykernel)",
   "language": "python",
   "name": "python3"
  },
  "language_info": {
   "codemirror_mode": {
    "name": "ipython",
    "version": 3
   },
   "file_extension": ".py",
   "mimetype": "text/x-python",
   "name": "python",
   "nbconvert_exporter": "python",
   "pygments_lexer": "ipython3",
   "version": "3.11.2"
  }
 },
 "nbformat": 4,
 "nbformat_minor": 5
}
